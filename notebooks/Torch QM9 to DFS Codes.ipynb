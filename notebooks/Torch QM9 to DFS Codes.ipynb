{
 "cells": [
  {
   "cell_type": "code",
   "execution_count": 7,
   "id": "0ff921ff",
   "metadata": {},
   "outputs": [
    {
     "name": "stdout",
     "output_type": "stream",
     "text": [
      "The autoreload extension is already loaded. To reload it, use:\n",
      "  %reload_ext autoreload\n"
     ]
    }
   ],
   "source": [
    "%load_ext autoreload\n",
    "%autoreload 2\n",
    "from torch_geometric.datasets.qm9 import QM9\n",
    "import torch_geometric.nn as tgnn\n",
    "import tqdm\n",
    "import numpy as np\n",
    "import dfs_code\n",
    "import json\n",
    "import torch"
   ]
  },
  {
   "cell_type": "markdown",
   "id": "4761a4cf",
   "metadata": {},
   "source": [
    "# Molecular Graph Based"
   ]
  },
  {
   "cell_type": "code",
   "execution_count": 2,
   "id": "8904130a",
   "metadata": {},
   "outputs": [],
   "source": [
    "path = '../datasets/qm9_geometric_work/'\n",
    "dataset = QM9(path)"
   ]
  },
  {
   "cell_type": "code",
   "execution_count": 5,
   "id": "a735941d",
   "metadata": {},
   "outputs": [
    {
     "name": "stderr",
     "output_type": "stream",
     "text": [
      "100%|████████████████████████████████████████████████████████████████████████████████████████████████████████████████████████████████████████████████████████████████████| 130831/130831 [02:07<00:00, 1030.16it/s]\n"
     ]
    }
   ],
   "source": [
    "dfs_codes = {}\n",
    "for data in tqdm.tqdm(dataset):\n",
    "    vertex_features = data.x.detach().cpu().numpy()\n",
    "    edge_features = data.edge_attr.detach().cpu().numpy()\n",
    "    vertex_labels = np.argmax(vertex_features[:, :5], axis=1).tolist()\n",
    "    edge_labels = np.argmax(edge_features, axis=1).tolist()\n",
    "    code, dfs_indices = dfs_code.min_dfs_code_from_torch_geometric_new(data, vertex_labels, edge_labels)\n",
    "    dfs_codes[data.name] = {'min_dfs_code':code, 'dfs_indices':dfs_indices}"
   ]
  },
  {
   "cell_type": "markdown",
   "id": "f6cb633a",
   "metadata": {},
   "source": [
    "# Distance Graph Based"
   ]
  },
  {
   "cell_type": "code",
   "execution_count": 3,
   "id": "7a0d0e89",
   "metadata": {},
   "outputs": [],
   "source": [
    "cutoff = 10."
   ]
  },
  {
   "cell_type": "code",
   "execution_count": 18,
   "id": "b205fd5a",
   "metadata": {},
   "outputs": [
    {
     "name": "stderr",
     "output_type": "stream",
     "text": [
      "100%|█████████████████████████████████████████████████████████████████████████████████████████████████████████████████████████████████████████████████████████████████████| 130831/130831 [16:10<00:00, 134.75it/s]\n"
     ]
    }
   ],
   "source": [
    "dfs_codes = {}\n",
    "for data in tqdm.tqdm(dataset):\n",
    "    data.edge_index = tgnn.radius_graph(data.pos, r=cutoff)\n",
    "    row, col = data.edge_index\n",
    "    ew = (data.pos[row] - data.pos[col]).norm(dim=-1).numpy()\n",
    "    edge_labels = np.zeros(len(ew), dtype=np.int32)\n",
    "    edge_labels[ew < 2] = 0\n",
    "    edge_labels[(ew >= 2)*(ew < 3)] = 1\n",
    "    edge_labels[(ew >= 3)*(ew < 4)] = 2\n",
    "    edge_labels[ew >= 4] = 3\n",
    "    \n",
    "    vertex_features = data.x.detach().cpu().numpy()\n",
    "    vertex_labels = np.argmax(vertex_features[:, :5], axis=1).tolist()\n",
    "    edge_labels = edge_labels.tolist()\n",
    "    \n",
    "    code, dfs_indices = dfs_code.min_dfs_code_from_torch_geometric_new(data, vertex_labels, edge_labels)\n",
    "    dfs_codes[data.name] = {'min_dfs_code':code, 'dfs_indices':dfs_indices}"
   ]
  },
  {
   "cell_type": "code",
   "execution_count": 19,
   "id": "76a983af",
   "metadata": {},
   "outputs": [],
   "source": [
    "with open(path+'dist10_min_dfs_codes.json', 'w') as f:\n",
    "    json.dump(dfs_codes, f)"
   ]
  },
  {
   "cell_type": "code",
   "execution_count": null,
   "id": "99c30cb7",
   "metadata": {},
   "outputs": [],
   "source": []
  }
 ],
 "metadata": {
  "kernelspec": {
   "display_name": "Python 3 (ipykernel)",
   "language": "python",
   "name": "python3"
  },
  "language_info": {
   "codemirror_mode": {
    "name": "ipython",
    "version": 3
   },
   "file_extension": ".py",
   "mimetype": "text/x-python",
   "name": "python",
   "nbconvert_exporter": "python",
   "pygments_lexer": "ipython3",
   "version": "3.8.3"
  }
 },
 "nbformat": 4,
 "nbformat_minor": 5
}
