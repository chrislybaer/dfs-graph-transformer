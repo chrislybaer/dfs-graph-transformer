{
 "cells": [
  {
   "cell_type": "code",
   "execution_count": 1,
   "id": "0ff921ff",
   "metadata": {},
   "outputs": [],
   "source": [
    "%load_ext autoreload\n",
    "%autoreload 2\n",
    "from torch_geometric.datasets.qm9 import QM9\n",
    "import tqdm\n",
    "import numpy as np\n",
    "import dfs_code\n",
    "import json"
   ]
  },
  {
   "cell_type": "code",
   "execution_count": 2,
   "id": "8904130a",
   "metadata": {},
   "outputs": [
    {
     "name": "stderr",
     "output_type": "stream",
     "text": [
      "/home/chrisw/.cache/pypoetry/virtualenvs/graph-transformer-9jPERXQ--py3.8/lib/python3.8/site-packages/torch_geometric/data/dataset.py:153: UserWarning: The `pre_filter` argument differs from the one used in the pre-processed version of this dataset. If you want to make use of another pre-fitering technique, make sure to delete '{self.processed_dir}' first\n",
      "  warnings.warn(\n"
     ]
    }
   ],
   "source": [
    "path = '../datasets/qm9_geometric/'\n",
    "dataset = QM9(path)"
   ]
  },
  {
   "cell_type": "code",
   "execution_count": 3,
   "id": "8ca8ee57",
   "metadata": {},
   "outputs": [],
   "source": [
    "dfs_codes = {}"
   ]
  },
  {
   "cell_type": "code",
   "execution_count": 4,
   "id": "9f0c365d",
   "metadata": {},
   "outputs": [],
   "source": [
    "for data in dataset[:10]:\n",
    "    vertex_features = data.x.detach().cpu().numpy()\n",
    "    edge_features = data.edge_attr.detach().cpu().numpy()\n",
    "    vertex_labels = np.argmax(vertex_features[:, :5], axis=1).tolist()\n",
    "    edge_labels = np.argmax(edge_features, axis=1).tolist()\n",
    "    code, id2row = dfs_code.min_dfs_code_from_torch_geometric(data, vertex_labels, edge_labels)\n",
    "    dfs_codes[data.name] = {'min_dfs_code':code, 'edge_id_2_edge_number':id2row}"
   ]
  },
  {
   "cell_type": "code",
   "execution_count": 9,
   "id": "f01f1d5a",
   "metadata": {},
   "outputs": [
    {
     "ename": "SyntaxError",
     "evalue": "unexpected EOF while parsing (887462346.py, line 2)",
     "output_type": "error",
     "traceback": [
      "\u001b[0;36m  File \u001b[0;32m\"/tmp/ipykernel_192817/887462346.py\"\u001b[0;36m, line \u001b[0;32m2\u001b[0m\n\u001b[0;31m    #print(dataset[i].name)\u001b[0m\n\u001b[0m                           ^\u001b[0m\n\u001b[0;31mSyntaxError\u001b[0m\u001b[0;31m:\u001b[0m unexpected EOF while parsing\n"
     ]
    }
   ],
   "source": [
    "for i in tqdm.tqdm(range(len(dataset))):\n",
    "    \n",
    "    #print(dataset[i].name)"
   ]
  },
  {
   "cell_type": "code",
   "execution_count": 6,
   "id": "a204cd6f",
   "metadata": {},
   "outputs": [],
   "source": [
    "with open(path+'min_dfs_codes.json', 'w') as f:\n",
    "    json.dump(dfs_codes, f)"
   ]
  },
  {
   "cell_type": "code",
   "execution_count": null,
   "id": "5f877126",
   "metadata": {},
   "outputs": [],
   "source": []
  }
 ],
 "metadata": {
  "kernelspec": {
   "display_name": "Python 3 (ipykernel)",
   "language": "python",
   "name": "python3"
  },
  "language_info": {
   "codemirror_mode": {
    "name": "ipython",
    "version": 3
   },
   "file_extension": ".py",
   "mimetype": "text/x-python",
   "name": "python",
   "nbconvert_exporter": "python",
   "pygments_lexer": "ipython3",
   "version": "3.8.3"
  }
 },
 "nbformat": 4,
 "nbformat_minor": 5
}
