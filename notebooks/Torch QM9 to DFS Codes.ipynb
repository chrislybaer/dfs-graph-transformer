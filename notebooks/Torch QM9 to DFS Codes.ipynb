{
 "cells": [
  {
   "cell_type": "code",
   "execution_count": 1,
   "id": "0ff921ff",
   "metadata": {},
   "outputs": [],
   "source": [
    "%load_ext autoreload\n",
    "%autoreload 2\n",
    "from torch_geometric.datasets.qm9 import QM9\n",
    "import tqdm\n",
    "import numpy as np\n",
    "import dfs_code\n",
    "import json"
   ]
  },
  {
   "cell_type": "code",
   "execution_count": 8,
   "id": "8904130a",
   "metadata": {},
   "outputs": [
    {
     "name": "stdout",
     "output_type": "stream",
     "text": [
      "Downloading https://deepchemdata.s3-us-west-1.amazonaws.com/datasets/molnet_publish/qm9.zip\n",
      "Extracting ../datasets/qm9_geometric_work/raw/qm9.zip\n",
      "Downloading https://ndownloader.figshare.com/files/3195404\n",
      "Processing...\n"
     ]
    },
    {
     "name": "stderr",
     "output_type": "stream",
     "text": [
      "100%|████████████████████████████████████████████████████████████████████████████████████████████████████████████████████████████████████████████████████████████████████| 133885/133885 [01:21<00:00, 1633.42it/s]\n"
     ]
    },
    {
     "name": "stdout",
     "output_type": "stream",
     "text": [
      "Done!\n"
     ]
    }
   ],
   "source": [
    "path = '../datasets/qm9_geometric_work/'\n",
    "dataset = QM9(path)"
   ]
  },
  {
   "cell_type": "code",
   "execution_count": 3,
   "id": "f2f9fa92",
   "metadata": {},
   "outputs": [],
   "source": [
    "dfs_codes = {}"
   ]
  },
  {
   "cell_type": "code",
   "execution_count": 5,
   "id": "a735941d",
   "metadata": {},
   "outputs": [
    {
     "name": "stderr",
     "output_type": "stream",
     "text": [
      "100%|████████████████████████████████████████████████████████████████████████████████████████████████████████████████████████████████████████████████████████████████████| 130831/130831 [02:07<00:00, 1030.16it/s]\n"
     ]
    }
   ],
   "source": [
    "for data in tqdm.tqdm(dataset):\n",
    "    vertex_features = data.x.detach().cpu().numpy()\n",
    "    edge_features = data.edge_attr.detach().cpu().numpy()\n",
    "    vertex_labels = np.argmax(vertex_features[:, :5], axis=1).tolist()\n",
    "    edge_labels = np.argmax(edge_features, axis=1).tolist()\n",
    "    code, dfs_indices = dfs_code.min_dfs_code_from_torch_geometric_new(data, vertex_labels, edge_labels)\n",
    "    dfs_codes[data.name] = {'min_dfs_code':code, 'dfs_indices':dfs_indices}"
   ]
  },
  {
   "cell_type": "code",
   "execution_count": 9,
   "id": "7a0d0e89",
   "metadata": {},
   "outputs": [],
   "source": [
    "with open(path+'min_dfs_codes.json', 'w') as f:\n",
    "    json.dump(dfs_codes, f)"
   ]
  },
  {
   "cell_type": "code",
   "execution_count": 7,
   "id": "b205fd5a",
   "metadata": {},
   "outputs": [
    {
     "data": {
      "text/plain": [
       "{'min_dfs_code': [[0, 1, 0, 0, 1, 8, 15, 3],\n",
       "  [1, 2, 1, 0, 0, 3, 8, 7],\n",
       "  [1, 3, 1, 0, 1, 3, 7, 4],\n",
       "  [3, 4, 1, 2, 2, 4, 11, 5],\n",
       "  [1, 5, 1, 0, 3, 3, 6, 2],\n",
       "  [5, 6, 3, 0, 1, 2, 4, 1],\n",
       "  [6, 7, 1, 0, 0, 1, 3, 6],\n",
       "  [6, 8, 1, 1, 3, 1, 1, 0]],\n",
       " 'dfs_indices': [8, 6, 5, 1, 3, 4, 7, 2, 0]}"
      ]
     },
     "execution_count": 7,
     "metadata": {},
     "output_type": "execute_result"
    }
   ],
   "source": [
    "dfs_codes['gdb_500']"
   ]
  }
 ],
 "metadata": {
  "kernelspec": {
   "display_name": "Python 3 (ipykernel)",
   "language": "python",
   "name": "python3"
  },
  "language_info": {
   "codemirror_mode": {
    "name": "ipython",
    "version": 3
   },
   "file_extension": ".py",
   "mimetype": "text/x-python",
   "name": "python",
   "nbconvert_exporter": "python",
   "pygments_lexer": "ipython3",
   "version": "3.8.3"
  }
 },
 "nbformat": 4,
 "nbformat_minor": 5
}
