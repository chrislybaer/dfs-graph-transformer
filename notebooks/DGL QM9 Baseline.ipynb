{
 "cells": [
  {
   "cell_type": "code",
   "execution_count": 49,
   "id": "55742bec",
   "metadata": {},
   "outputs": [
    {
     "name": "stdout",
     "output_type": "stream",
     "text": [
      "The autoreload extension is already loaded. To reload it, use:\n",
      "  %reload_ext autoreload\n"
     ]
    }
   ],
   "source": [
    "%load_ext autoreload\n",
    "%autoreload 2\n",
    "import dgl\n",
    "import torch\n",
    "import torch.nn as nn\n",
    "import torch.nn.functional as F\n",
    "import dgl.data\n",
    "from torch_geometric.datasets.qm9 import QM9\n",
    "from torch_geometric.data import DataLoader"
   ]
  },
  {
   "cell_type": "code",
   "execution_count": 27,
   "id": "organizational-image",
   "metadata": {},
   "outputs": [],
   "source": [
    "import numpy as np"
   ]
  },
  {
   "cell_type": "code",
   "execution_count": 2,
   "id": "third-gravity",
   "metadata": {},
   "outputs": [],
   "source": [
    "# [0] Reports MAE in eV / Chemical Accuracy of the target variable U0. \n",
    "# The chemical accuracy of U0 is 0.043 see [1, Table 5].\n",
    "\n",
    "# Reproduced table [0]\n",
    "# MXMNet: 0.00590/0.043 = 0.13720930232558143\n",
    "# HMGNN:  0.00592/0.043 = 0.13767441860465118\n",
    "# MPNN:   0.01935/0.043 = 0.45\n",
    "# KRR:    0.0251 /0.043 = 0.5837209302325582\n",
    "# [0] https://paperswithcode.com/sota/formation-energy-on-qm9\n",
    "# [1] Neural Message Passing for Quantum Chemistry, https://arxiv.org/pdf/1704.01212v2.pdf\n",
    "# MXMNet https://arxiv.org/pdf/2011.07457v1.pdf\n",
    "# HMGNN https://arxiv.org/pdf/2009.12710v1.pdf\n",
    "# MPNN https://arxiv.org/pdf/1704.01212v2.pdf\n",
    "# KRR HDAD kernel ridge regression https://arxiv.org/pdf/1702.05532.pdf\n",
    "# HDAD means HDAD (Histogram of distances, anglesand dihedral angles)\n",
    "\n",
    "# [2] Reports the average value of MAE / Chemical Accuracy of over all targets\n",
    "# [2] https://paperswithcode.com/sota/drug-discovery-on-qm9\n"
   ]
  },
  {
   "cell_type": "markdown",
   "id": "defensive-edgar",
   "metadata": {},
   "source": [
    "# get rid of the degenerate molecules"
   ]
  },
  {
   "cell_type": "code",
   "execution_count": 16,
   "id": "cross-letter",
   "metadata": {},
   "outputs": [],
   "source": [
    "from urllib import request\n",
    "import tempfile\n",
    "import os\n",
    "at_url = \"https://ndownloader.figshare.com/files/3195404\"\n",
    "tmpdir = tempfile.mkdtemp(\"gdb9\")\n",
    "tmp_path = os.path.join(tmpdir, \"uncharacterized.txt\")\n",
    "request.urlretrieve(at_url, tmp_path)\n",
    "\n",
    "evilmols = []\n",
    "with open(tmp_path) as f:\n",
    "    lines = f.readlines()\n",
    "    for line in lines[9:-1]:\n",
    "        evilmols.append(int(line.split()[0]))\n",
    "evilgdbs = ['gdb_%d'%id for id in evilmols]"
   ]
  },
  {
   "cell_type": "code",
   "execution_count": 34,
   "id": "recorded-combination",
   "metadata": {},
   "outputs": [],
   "source": [
    "pre_filter = lambda d: (d.name not in evilgdbs)"
   ]
  },
  {
   "cell_type": "code",
   "execution_count": 43,
   "id": "responsible-liechtenstein",
   "metadata": {},
   "outputs": [],
   "source": [
    "dataset = QM9('../datasets/qm9_geometric/', pre_filter=pre_filter)#, pre_filter=pre_filter)"
   ]
  },
  {
   "cell_type": "code",
   "execution_count": 44,
   "id": "talented-election",
   "metadata": {},
   "outputs": [],
   "source": [
    "# actually QM9 already automatically gets rid of all the gad examples -.-"
   ]
  },
  {
   "cell_type": "code",
   "execution_count": 50,
   "id": "caring-compound",
   "metadata": {},
   "outputs": [],
   "source": [
    "dataset = dataset.shuffle()\n",
    "train_dataset = dataset[:110000]\n",
    "valid_dataset = dataset[110000:120000]\n",
    "test_dataset = dataset[120000:]\n",
    "train_loader = DataLoader(train_dataset, batch_size=128, shuffle=True)\n",
    "valid_loader = DataLoader(valid_dataset, batch_size=128)\n",
    "test_loader = DataLoader(test_dataset, batch_size=128)"
   ]
  },
  {
   "cell_type": "code",
   "execution_count": 51,
   "id": "happy-brunswick",
   "metadata": {},
   "outputs": [],
   "source": [
    "batch = next(iter(train_loader))"
   ]
  },
  {
   "cell_type": "code",
   "execution_count": 92,
   "id": "future-terror",
   "metadata": {},
   "outputs": [],
   "source": [
    "# investigate batch"
   ]
  },
  {
   "cell_type": "code",
   "execution_count": 70,
   "id": "dirty-calibration",
   "metadata": {},
   "outputs": [
    {
     "data": {
      "text/plain": [
       "tensor([  0,   0,   0,  ..., 127, 127, 127])"
      ]
     },
     "execution_count": 70,
     "metadata": {},
     "output_type": "execute_result"
    }
   ],
   "source": [
    "batch['batch']"
   ]
  },
  {
   "cell_type": "code",
   "execution_count": 86,
   "id": "radio-roulette",
   "metadata": {},
   "outputs": [
    {
     "data": {
      "text/plain": [
       "21"
      ]
     },
     "execution_count": 86,
     "metadata": {},
     "output_type": "execute_result"
    }
   ],
   "source": [
    "(batch['batch'].detach().numpy() == 2).sum()"
   ]
  },
  {
   "cell_type": "code",
   "execution_count": 77,
   "id": "upper-reconstruction",
   "metadata": {},
   "outputs": [],
   "source": [
    "# node features:"
   ]
  },
  {
   "cell_type": "code",
   "execution_count": 82,
   "id": "infrared-despite",
   "metadata": {},
   "outputs": [
    {
     "data": {
      "text/plain": [
       "tensor([[0., 0., 0.,  ..., 0., 0., 0.],\n",
       "        [0., 1., 0.,  ..., 0., 0., 0.],\n",
       "        [0., 0., 1.,  ..., 0., 0., 1.],\n",
       "        ...,\n",
       "        [1., 0., 0.,  ..., 0., 0., 0.],\n",
       "        [1., 0., 0.,  ..., 0., 0., 0.],\n",
       "        [1., 0., 0.,  ..., 0., 0., 0.]])"
      ]
     },
     "execution_count": 82,
     "metadata": {},
     "output_type": "execute_result"
    }
   ],
   "source": [
    "batch['x'] # one_hot(type), atomic_number, aromatic, sp1, sp2, sp3, num_hs -> 5+1+1+1+1+1+1 = 11"
   ]
  },
  {
   "cell_type": "code",
   "execution_count": 83,
   "id": "accurate-window",
   "metadata": {},
   "outputs": [
    {
     "data": {
      "text/plain": [
       "torch.Size([2266, 11])"
      ]
     },
     "execution_count": 83,
     "metadata": {},
     "output_type": "execute_result"
    }
   ],
   "source": [
    "batch['x'].shape"
   ]
  },
  {
   "cell_type": "code",
   "execution_count": 81,
   "id": "coordinate-tokyo",
   "metadata": {},
   "outputs": [
    {
     "data": {
      "text/plain": [
       "tensor([8, 6, 7,  ..., 1, 1, 1])"
      ]
     },
     "execution_count": 81,
     "metadata": {},
     "output_type": "execute_result"
    }
   ],
   "source": [
    "batch['z'] # atomic number"
   ]
  },
  {
   "cell_type": "code",
   "execution_count": 84,
   "id": "peripheral-stress",
   "metadata": {},
   "outputs": [],
   "source": [
    "# edge features:"
   ]
  },
  {
   "cell_type": "code",
   "execution_count": 85,
   "id": "reverse-surge",
   "metadata": {},
   "outputs": [
    {
     "data": {
      "text/plain": [
       "tensor([[   0,    1,    1,  ..., 2263, 2264, 2265],\n",
       "        [   1,    0,    2,  ..., 2255, 2258, 2260]])"
      ]
     },
     "execution_count": 85,
     "metadata": {},
     "output_type": "execute_result"
    }
   ],
   "source": [
    "batch['edge_index']"
   ]
  },
  {
   "cell_type": "code",
   "execution_count": 91,
   "id": "front-gothic",
   "metadata": {},
   "outputs": [
    {
     "data": {
      "text/plain": [
       "tensor([[0., 1., 0., 0.],\n",
       "        [0., 1., 0., 0.],\n",
       "        [1., 0., 0., 0.],\n",
       "        ...,\n",
       "        [1., 0., 0., 0.],\n",
       "        [1., 0., 0., 0.],\n",
       "        [1., 0., 0., 0.]])"
      ]
     },
     "execution_count": 91,
     "metadata": {},
     "output_type": "execute_result"
    }
   ],
   "source": [
    "batch['edge_attr'] # one_hot(bond_type) -> 4 single, double, triple, aromatic"
   ]
  },
  {
   "cell_type": "code",
   "execution_count": 93,
   "id": "alpha-jones",
   "metadata": {},
   "outputs": [
    {
     "data": {
      "text/plain": [
       "tensor([-13330.6152, -11508.6113,  -9522.1328, -10532.2461, -15526.5850,\n",
       "        -12521.9912,  -9961.0420, -10500.1523,  -9269.8799, -11374.0488,\n",
       "        -11949.5830, -11746.2314,  -9899.7324, -10500.0879, -10935.5459,\n",
       "        -11948.6318, -10467.1699, -11542.8604, -10936.4619, -11916.1602,\n",
       "        -10465.9971, -10499.7939, -11980.9199, -10468.0762, -11980.3975,\n",
       "        -12349.3623, -10598.5361, -11980.0430, -12424.0635, -11544.2549,\n",
       "        -12488.9180, -11373.1387, -11406.5303, -10464.4551,  -9893.1094,\n",
       "        -10499.8291, -11342.2910,  -6693.9434, -10473.8047,  -9555.8594,\n",
       "        -10936.0420, -10971.0967, -11511.0000, -11371.8154, -13397.6348,\n",
       "         -9927.8242,  -8551.8311,  -9496.6719, -11844.5283, -10533.1689,\n",
       "        -11374.5859, -10904.3330, -10338.7227,  -9959.4531, -11340.4824,\n",
       "        -11845.9775, -11373.9443, -11450.9395, -10498.0254, -10971.6348,\n",
       "        -11404.5635, -11947.7607, -11947.5020, -11543.1924, -11510.4512,\n",
       "        -11343.3252, -10906.3037, -13768.1445, -12790.2324, -11508.8096,\n",
       "        -12522.9834, -11001.7656, -10532.2002, -10599.1055, -10500.0479,\n",
       "        -10500.4219, -10910.7217, -13466.2725, -11238.7373, -12789.5527,\n",
       "        -11813.8633, -11542.9590, -12488.8340,  -8393.7031, -10938.0693,\n",
       "        -10970.5312,  -9990.3584, -10384.5391, -12012.2773, -11211.6289,\n",
       "        -11509.1494, -10303.2656, -12352.4365, -11980.0801, -11478.3525,\n",
       "        -10475.8457, -10465.4863, -10936.6035, -10670.8623, -11374.5469,\n",
       "        -12553.3057, -12352.8057, -11916.9814, -11510.6045, -10845.0049,\n",
       "         -9373.3467, -11779.9385, -10565.4492, -11146.1934, -10936.4209,\n",
       "        -11509.9561, -10507.0635, -11373.5791, -10769.2227, -10566.0527,\n",
       "        -11948.3008,  -9555.8496, -11374.8486, -10304.3916,  -8892.7666,\n",
       "        -10879.5107, -11981.1914, -10532.9150, -10880.7617, -10904.1006,\n",
       "         -9554.4561, -12386.4482, -12789.9482])"
      ]
     },
     "execution_count": 93,
     "metadata": {},
     "output_type": "execute_result"
    }
   ],
   "source": [
    "# targets \n",
    "batch['y'][:, 7] # this target is U0"
   ]
  },
  {
   "cell_type": "code",
   "execution_count": 94,
   "id": "developing-monte",
   "metadata": {},
   "outputs": [],
   "source": [
    "ngpu=1\n",
    "device = torch.device('cuda:0' if (torch.cuda.is_available() and ngpu > 0) else 'cpu')"
   ]
  },
  {
   "cell_type": "markdown",
   "id": "documented-johnston",
   "metadata": {},
   "source": [
    "# Model"
   ]
  },
  {
   "cell_type": "markdown",
   "id": "surgical-steel",
   "metadata": {},
   "source": [
    "# Training"
   ]
  },
  {
   "cell_type": "code",
   "execution_count": null,
   "id": "published-grill",
   "metadata": {},
   "outputs": [],
   "source": []
  }
 ],
 "metadata": {
  "kernelspec": {
   "display_name": "Python 3",
   "language": "python",
   "name": "python3"
  },
  "language_info": {
   "codemirror_mode": {
    "name": "ipython",
    "version": 3
   },
   "file_extension": ".py",
   "mimetype": "text/x-python",
   "name": "python",
   "nbconvert_exporter": "python",
   "pygments_lexer": "ipython3",
   "version": "3.8.8"
  }
 },
 "nbformat": 4,
 "nbformat_minor": 5
}
