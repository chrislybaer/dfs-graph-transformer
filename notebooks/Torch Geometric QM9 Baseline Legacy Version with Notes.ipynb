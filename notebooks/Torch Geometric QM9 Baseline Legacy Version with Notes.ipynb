{
 "cells": [
  {
   "cell_type": "code",
   "execution_count": 1,
   "id": "0ff921ff",
   "metadata": {},
   "outputs": [],
   "source": [
    "%load_ext autoreload\n",
    "%autoreload 2\n",
    "import torch\n",
    "import torch.nn as nn\n",
    "import torch.nn.functional as F\n",
    "import torch.optim as optim\n",
    "from torch_geometric.datasets.qm9 import QM9\n",
    "import torch_geometric.datasets.qm9 as qm9\n",
    "from torch_geometric.data import DataLoader\n",
    "import torch_geometric.nn as tgnn\n",
    "from torch_scatter import scatter\n",
    "import tqdm\n",
    "import numpy as np"
   ]
  },
  {
   "cell_type": "code",
   "execution_count": 2,
   "id": "2c8b07c8",
   "metadata": {},
   "outputs": [],
   "source": [
    "# [0] Reports MAE in eV / Chemical Accuracy of the target variable U0. \n",
    "# The chemical accuracy of U0 is 0.043 see [1, Table 5].\n",
    "\n",
    "# Reproduced table [0]\n",
    "# MXMNet: 0.00590/0.043 = 0.13720930232558143\n",
    "# HMGNN:  0.00592/0.043 = 0.13767441860465118\n",
    "# MPNN:   0.01935/0.043 = 0.45\n",
    "# KRR:    0.0251 /0.043 = 0.5837209302325582\n",
    "# [0] https://paperswithcode.com/sota/formation-energy-on-qm9\n",
    "# [1] Neural Message Passing for Quantum Chemistry, https://arxiv.org/pdf/1704.01212v2.pdf\n",
    "# MXMNet https://arxiv.org/pdf/2011.07457v1.pdf\n",
    "# HMGNN https://arxiv.org/pdf/2009.12710v1.pdf\n",
    "# MPNN https://arxiv.org/pdf/1704.01212v2.pdf\n",
    "# KRR HDAD kernel ridge regression https://arxiv.org/pdf/1702.05532.pdf\n",
    "# HDAD means HDAD (Histogram of distances, anglesand dihedral angles)\n",
    "\n",
    "# [2] Reports the average value of MAE / Chemical Accuracy of over all targets\n",
    "# [2] https://paperswithcode.com/sota/drug-discovery-on-qm9\n",
    "target_dict = {0: 'mu, D, Dipole moment', \n",
    "               1: 'alpha, {a_0}^3, Isotropic polarizability', \n",
    "               2: 'epsilon_{HOMO}, eV, Highest occupied molecular orbital energy',\n",
    "               3: 'epsilon_{LUMO}, eV, Lowest unoccupied molecular orbital energy',\n",
    "               4: 'Delta, eV, Gap between HOMO and LUMO',\n",
    "               5: '< R^2 >, {a_0}^2, Electronic spatial extent',\n",
    "               6: 'ZPVE, eV, Zero point vibrational energy', \n",
    "               7: 'U_0, eV, Internal energy at 0K',\n",
    "               8: 'U, eV, Internal energy at 298.15K', \n",
    "               9: 'H, eV, Enthalpy at 298.15K',\n",
    "               10: 'G, eV, Free energy at 298.15K',  \n",
    "               11: 'c_{v}, cal\\(mol K), Heat capacity at 298.15K'}\n",
    "\n",
    "chemical_accuracy = {idx:0.043 for idx in range(12)}\n",
    "chemical_accuracy[0] = 0.1\n",
    "chemical_accuracy[1] = 0.1\n",
    "chemical_accuracy[5] = 1.2\n",
    "chemical_accuracy[6] = 0.0012\n",
    "chemical_accuracy[11] = 0.050"
   ]
  },
  {
   "cell_type": "markdown",
   "id": "2af28551",
   "metadata": {},
   "source": [
    "# get rid of the degenerate molecules"
   ]
  },
  {
   "cell_type": "code",
   "execution_count": 3,
   "id": "9bf25b4b",
   "metadata": {},
   "outputs": [],
   "source": [
    "from urllib import request\n",
    "import tempfile\n",
    "import os\n",
    "at_url = \"https://ndownloader.figshare.com/files/3195404\"\n",
    "tmpdir = tempfile.mkdtemp(\"gdb9\")\n",
    "tmp_path = os.path.join(tmpdir, \"uncharacterized.txt\")\n",
    "request.urlretrieve(at_url, tmp_path)\n",
    "\n",
    "evilmols = []\n",
    "with open(tmp_path) as f:\n",
    "    lines = f.readlines()\n",
    "    for line in lines[9:-1]:\n",
    "        evilmols.append(int(line.split()[0]))\n",
    "evilgdbs = ['gdb_%d'%id for id in evilmols]"
   ]
  },
  {
   "cell_type": "code",
   "execution_count": 4,
   "id": "560cc7b7",
   "metadata": {},
   "outputs": [],
   "source": [
    "pre_filter = lambda d: (d.name not in evilgdbs)"
   ]
  },
  {
   "cell_type": "code",
   "execution_count": 5,
   "id": "8904130a",
   "metadata": {},
   "outputs": [],
   "source": [
    "dataset = QM9('../datasets/qm9_geometric/', pre_filter=pre_filter)#, pre_filter=pre_filter)"
   ]
  },
  {
   "cell_type": "code",
   "execution_count": 6,
   "id": "8aed7bcd",
   "metadata": {},
   "outputs": [],
   "source": [
    "# actually QM9 already automatically gets rid of all the gad examples -.-"
   ]
  },
  {
   "cell_type": "code",
   "execution_count": 7,
   "id": "fd471b78",
   "metadata": {},
   "outputs": [],
   "source": [
    "dataset = dataset.shuffle()\n",
    "train_dataset = dataset[:110000]\n",
    "valid_dataset = dataset[110000:120000]\n",
    "test_dataset = dataset[120000:]\n",
    "train_loader = DataLoader(train_dataset, batch_size=128, shuffle=True, pin_memory=True)\n",
    "valid_loader = DataLoader(valid_dataset, batch_size=128)\n",
    "test_loader = DataLoader(test_dataset, batch_size=32)"
   ]
  },
  {
   "cell_type": "code",
   "execution_count": 13,
   "id": "8715a6aa",
   "metadata": {},
   "outputs": [],
   "source": [
    "data = next(iter(train_loader))"
   ]
  },
  {
   "cell_type": "code",
   "execution_count": 14,
   "id": "ed3d4db9",
   "metadata": {},
   "outputs": [],
   "source": [
    "# investigate batch"
   ]
  },
  {
   "cell_type": "code",
   "execution_count": 15,
   "id": "339949f8",
   "metadata": {},
   "outputs": [
    {
     "data": {
      "text/plain": [
       "tensor([  0,   0,   0,  ..., 127, 127, 127])"
      ]
     },
     "execution_count": 15,
     "metadata": {},
     "output_type": "execute_result"
    }
   ],
   "source": [
    "data.batch"
   ]
  },
  {
   "cell_type": "code",
   "execution_count": 16,
   "id": "d6aa919f",
   "metadata": {},
   "outputs": [
    {
     "data": {
      "text/plain": [
       "20"
      ]
     },
     "execution_count": 16,
     "metadata": {},
     "output_type": "execute_result"
    }
   ],
   "source": [
    "(data.batch.detach().numpy() == 2).sum()"
   ]
  },
  {
   "cell_type": "code",
   "execution_count": 17,
   "id": "b03874ae",
   "metadata": {},
   "outputs": [],
   "source": [
    "# node features:"
   ]
  },
  {
   "cell_type": "code",
   "execution_count": 18,
   "id": "82535898",
   "metadata": {},
   "outputs": [
    {
     "data": {
      "text/plain": [
       "tensor([[0., 0., 0.,  ..., 0., 0., 1.],\n",
       "        [0., 1., 0.,  ..., 0., 0., 0.],\n",
       "        [0., 1., 0.,  ..., 0., 0., 2.],\n",
       "        ...,\n",
       "        [1., 0., 0.,  ..., 0., 0., 0.],\n",
       "        [1., 0., 0.,  ..., 0., 0., 0.],\n",
       "        [1., 0., 0.,  ..., 0., 0., 0.]])"
      ]
     },
     "execution_count": 18,
     "metadata": {},
     "output_type": "execute_result"
    }
   ],
   "source": [
    "batch.x # one_hot(type), atomic_number, aromatic, sp1, sp2, sp3, num_hs -> 5+1+1+1+1+1+1 = 11"
   ]
  },
  {
   "cell_type": "code",
   "execution_count": 19,
   "id": "bb7af094",
   "metadata": {},
   "outputs": [
    {
     "data": {
      "text/plain": [
       "torch.Size([2355, 11])"
      ]
     },
     "execution_count": 19,
     "metadata": {},
     "output_type": "execute_result"
    }
   ],
   "source": [
    "batch.x.shape"
   ]
  },
  {
   "cell_type": "code",
   "execution_count": 20,
   "id": "bbaf95f7",
   "metadata": {},
   "outputs": [
    {
     "data": {
      "text/plain": [
       "tensor([[ 0.3226,  1.2292, -0.3572],\n",
       "        [ 0.1520, -0.1357, -0.0892],\n",
       "        [ 1.1449, -1.0083, -0.8150],\n",
       "        ...,\n",
       "        [-1.9524, -0.1800,  0.7559],\n",
       "        [-1.8315, -0.2886, -1.0171],\n",
       "        [-1.2324, -5.8001,  0.9035]])"
      ]
     },
     "execution_count": 20,
     "metadata": {},
     "output_type": "execute_result"
    }
   ],
   "source": [
    "batch.pos"
   ]
  },
  {
   "cell_type": "code",
   "execution_count": 21,
   "id": "a249b8ed",
   "metadata": {},
   "outputs": [
    {
     "data": {
      "text/plain": [
       "tensor([8, 6, 6,  ..., 1, 1, 1])"
      ]
     },
     "execution_count": 21,
     "metadata": {},
     "output_type": "execute_result"
    }
   ],
   "source": [
    "batch.z # atomic number"
   ]
  },
  {
   "cell_type": "code",
   "execution_count": 17,
   "id": "c15e32f4",
   "metadata": {},
   "outputs": [],
   "source": [
    "# edge features:"
   ]
  },
  {
   "cell_type": "code",
   "execution_count": 18,
   "id": "90f559c5",
   "metadata": {},
   "outputs": [
    {
     "data": {
      "text/plain": [
       "tensor([[   0,    1,    1,  ..., 2335, 2336, 2337],\n",
       "        [   1,    0,    2,  ..., 2325, 2325, 2326]])"
      ]
     },
     "execution_count": 18,
     "metadata": {},
     "output_type": "execute_result"
    }
   ],
   "source": [
    "batch.edge_index"
   ]
  },
  {
   "cell_type": "code",
   "execution_count": 19,
   "id": "c8ed7a14",
   "metadata": {},
   "outputs": [
    {
     "data": {
      "text/plain": [
       "tensor([[0., 0., 1., 0.],\n",
       "        [0., 0., 1., 0.],\n",
       "        [1., 0., 0., 0.],\n",
       "        ...,\n",
       "        [1., 0., 0., 0.],\n",
       "        [1., 0., 0., 0.],\n",
       "        [1., 0., 0., 0.]])"
      ]
     },
     "execution_count": 19,
     "metadata": {},
     "output_type": "execute_result"
    }
   ],
   "source": [
    "batch.edge_attr # one_hot(bond_type) -> 4 single, double, triple, aromatic"
   ]
  },
  {
   "cell_type": "code",
   "execution_count": 20,
   "id": "1054cc38",
   "metadata": {},
   "outputs": [
    {
     "data": {
      "text/plain": [
       "tensor([ -9901.8848, -13880.3682, -10429.8203, -12352.6895, -12386.7949,\n",
       "        -11477.9453, -10970.4033, -11510.7705, -10397.1201, -10936.2412,\n",
       "        -11947.5918, -10936.9834, -12418.4424,  -9990.6123, -11812.5859,\n",
       "        -10598.2139, -12487.3730, -10201.7812, -12488.0674, -11375.9658,\n",
       "        -10935.9336, -11203.6748, -10501.2666, -10365.5938, -11981.1465,\n",
       "        -10969.7646,  -9959.0596, -13445.0566, -11406.6924, -10303.0293,\n",
       "         -9899.7002, -11001.3623, -12892.2529, -10566.2627,  -8270.6357,\n",
       "        -11542.9277, -11412.1387, -10442.9336, -11374.1250, -10800.6699,\n",
       "        -12521.3145, -10969.0459, -11509.5977, -12553.3594, -11337.9521,\n",
       "        -10800.9102, -11543.5244, -11372.9795, -11542.6953, -11947.9307,\n",
       "         -9866.8457, -11406.8066, -10970.1709,  -9926.0098, -10396.0488,\n",
       "         -9488.0020, -10397.0566, -10474.3574, -10566.3066, -11477.5166,\n",
       "         -9797.6631, -12353.7471, -11510.5088, -12354.1094, -10442.4521,\n",
       "        -10935.4834, -10532.0947, -13434.8857, -11340.5186, -10430.2803,\n",
       "        -10429.3965, -12423.5635, -12959.0146, -11949.0703, -11543.5635,\n",
       "        -11542.7041, -11980.3740, -10968.4248, -10934.5693, -10462.2705,\n",
       "         -9923.3213, -10936.2236, -10832.2598, -11002.0918, -11477.1416,\n",
       "        -11343.2930, -11543.4209, -11510.4248, -10532.9541, -11340.7930,\n",
       "        -11440.8916, -11478.8604,  -9495.8682, -10474.3174,  -9489.5244,\n",
       "        -11510.3369, -11444.4932, -12928.4092, -10531.4648, -11406.6729,\n",
       "         -9927.5049, -11542.7783,  -9520.9326, -11001.9131, -11479.1992,\n",
       "        -12423.7852, -10565.8047, -10937.1230, -12386.4307, -11858.1943,\n",
       "        -10565.9307, -11575.7852,  -9438.7373, -11545.6064,  -9990.0352,\n",
       "        -11508.5605,  -9992.1553,  -9521.0332,  -9488.4590, -12313.6924,\n",
       "        -11779.8936, -11914.6475,  -9555.5186,  -9837.2227,  -9523.5547,\n",
       "        -10331.4326, -10566.2168, -10972.1455])"
      ]
     },
     "execution_count": 20,
     "metadata": {},
     "output_type": "execute_result"
    }
   ],
   "source": [
    "# targets \n",
    "batch.y[:, 7] # this target is U0"
   ]
  },
  {
   "cell_type": "code",
   "execution_count": 21,
   "id": "7be0c442",
   "metadata": {},
   "outputs": [],
   "source": [
    "ngpu=1\n",
    "device = torch.device('cuda:0' if (torch.cuda.is_available() and ngpu > 0) else 'cpu')"
   ]
  },
  {
   "cell_type": "markdown",
   "id": "12914486",
   "metadata": {},
   "source": [
    "# Model"
   ]
  },
  {
   "cell_type": "code",
   "execution_count": 22,
   "id": "f3d11ae9",
   "metadata": {},
   "outputs": [],
   "source": [
    "lr = 0.005\n",
    "n_epochs = 10000\n",
    "patience = 1\n",
    "factor = 0.96\n",
    "target_idx = 7"
   ]
  },
  {
   "cell_type": "markdown",
   "id": "372eaeb0",
   "metadata": {},
   "source": [
    "dataset.atomref(target_idx)"
   ]
  },
  {
   "cell_type": "code",
   "execution_count": 23,
   "id": "097c3111",
   "metadata": {},
   "outputs": [],
   "source": [
    "target_vec = []"
   ]
  },
  {
   "cell_type": "code",
   "execution_count": 24,
   "id": "786e4122",
   "metadata": {},
   "outputs": [],
   "source": [
    "for data in train_loader:\n",
    "    data = data.to(device)\n",
    "    atomU0s = torch.tensor(qm9.atomrefs[target_idx], device=device)[torch.argmax(data.x[:, :5], axis=1)]\n",
    "    target_modular = scatter(atomU0s, data.batch, dim=-1, reduce='sum')\n",
    "    target_vec += [(data.y[:, target_idx] - target_modular).detach().cpu().numpy()]\n",
    "target_vec = np.concatenate(target_vec, axis=0)"
   ]
  },
  {
   "cell_type": "code",
   "execution_count": 25,
   "id": "388a5eb4",
   "metadata": {},
   "outputs": [],
   "source": [
    "target_mean = np.mean(target_vec)\n",
    "target_std = np.std(target_vec)"
   ]
  },
  {
   "cell_type": "code",
   "execution_count": 26,
   "id": "2d0815e5",
   "metadata": {},
   "outputs": [],
   "source": [
    "def normalize(target, mean=target_mean, std=target_std):\n",
    "    return (target - mean)/std\n",
    "\n",
    "def denormalize(target, mean=target_mean, std=target_std):\n",
    "    return target*std + mean"
   ]
  },
  {
   "cell_type": "code",
   "execution_count": 27,
   "id": "a80a7aba",
   "metadata": {},
   "outputs": [],
   "source": [
    "model = tgnn.SchNet(atomref=dataset.atomref(target_idx), mean=target_mean, std=target_std).to(device)\n",
    "loss = nn.MSELoss()\n",
    "optimizer = optim.Adam(model.parameters(), lr=lr)\n",
    "lr_scheduler = optim.lr_scheduler.ReduceLROnPlateau(optimizer, mode='min', verbose=True, patience=patience, factor=factor)"
   ]
  },
  {
   "cell_type": "markdown",
   "id": "28549be9",
   "metadata": {},
   "source": [
    "# Training"
   ]
  },
  {
   "cell_type": "code",
   "execution_count": null,
   "id": "0e4a46ad",
   "metadata": {},
   "outputs": [
    {
     "name": "stderr",
     "output_type": "stream",
     "text": [
      "MAE/CA 1955.202223: : 860it [00:29, 28.84it/s] \n",
      "MAE/CA 154.254144: : 860it [00:29, 29.11it/s]\n",
      "MAE/CA 134.656876: : 860it [00:30, 28.42it/s]\n",
      "MAE/CA 124.570416: : 860it [00:29, 29.10it/s]\n",
      "MAE/CA 99.660748: : 116it [00:04, 28.66it/s] "
     ]
    }
   ],
   "source": [
    "loss_hist = []\n",
    "try:\n",
    "    # For each epoch\n",
    "    for epoch in range(n_epochs):\n",
    "        # For each batch in the dataloader\n",
    "        pbar = tqdm.tqdm(enumerate(train_loader, 0))\n",
    "        epoch_loss = 0\n",
    "        for i, data in pbar:\n",
    "            model.zero_grad()\n",
    "            data.to(device)\n",
    "            # prepare target by subtracting the modular estimate\n",
    "            #if target_idx in qm9.atomrefs:\n",
    "            #    atomU0s = torch.tensor(qm9.atomrefs[target_idx], device=device)[torch.argmax(data.x[:, :5], axis=1)]\n",
    "            #    target_modular = scatter(atomU0s, data.batch, dim=-1, reduce='sum')\n",
    "                #target_modular = torch.tensor([atomU0s[data.batch == idx].sum().item() for idx in range(data.y.shape[0])], device=device)\n",
    "            #    target = data.y[:,target_idx] - target_modular\n",
    "            #else:\n",
    "            #    target = data.y[:, target_idx]\n",
    "            target = data.y[:, target_idx]\n",
    "            prediction = model(data.z, data.pos, data.batch)\n",
    "            output = loss(prediction.view(-1), target)\n",
    "            mae = (prediction.view(-1) - target).abs().mean()\n",
    "            #output = loss(prediction.view(-1), normalize(target))\n",
    "            #mae = (denormalize(prediction.view(-1)) - target).abs().mean()\n",
    "            epoch_loss = (epoch_loss*i + mae.item())/(i+1)\n",
    "            \n",
    "            pbar.set_description('MAE/CA %2.6f'%(epoch_loss/chemical_accuracy[target_idx]))\n",
    "            output.backward()\n",
    "            optimizer.step()\n",
    "\n",
    "        lr_scheduler.step(epoch_loss)\n",
    "        loss_hist += [epoch_loss]\n",
    "        if epoch_loss/chemical_accuracy[target_idx] < 0.45:\n",
    "            break\n",
    "\n",
    "except KeyboardInterrupt:\n",
    "    print('keyboard interrupt caught')"
   ]
  },
  {
   "cell_type": "code",
   "execution_count": null,
   "id": "689f8c05",
   "metadata": {},
   "outputs": [],
   "source": [
    "model = model.to('cpu')\n",
    "pbar = tqdm.tqdm(enumerate(test_loader, 0))\n",
    "epoch_loss = 0\n",
    "maes = []\n",
    "for i, data in pbar:\n",
    "    data.to('cpu')\n",
    "    prediction = model(data.z, data.x, data.batch)\n",
    "    mae = (denormalize(prediction.view(-1)) - data.y[:, target_idx]).abs()\n",
    "    maes += [mae]\n",
    "maes = torch.cat(maes, dim=0)\n",
    "mae = maes.mean().item()\n",
    "print(mae, mae/chemical_accuracy[target_idx])\n"
   ]
  },
  {
   "cell_type": "code",
   "execution_count": null,
   "id": "6ea4cb4e",
   "metadata": {},
   "outputs": [],
   "source": []
  },
  {
   "cell_type": "code",
   "execution_count": null,
   "id": "dffd3f04",
   "metadata": {},
   "outputs": [],
   "source": []
  },
  {
   "cell_type": "code",
   "execution_count": null,
   "id": "5ee076fa",
   "metadata": {},
   "outputs": [],
   "source": []
  }
 ],
 "metadata": {
  "kernelspec": {
   "display_name": "Python 3 (ipykernel)",
   "language": "python",
   "name": "python3"
  },
  "language_info": {
   "codemirror_mode": {
    "name": "ipython",
    "version": 3
   },
   "file_extension": ".py",
   "mimetype": "text/x-python",
   "name": "python",
   "nbconvert_exporter": "python",
   "pygments_lexer": "ipython3",
   "version": "3.8.9"
  }
 },
 "nbformat": 4,
 "nbformat_minor": 5
}
