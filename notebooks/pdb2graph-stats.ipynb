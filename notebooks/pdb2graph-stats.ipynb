{
 "cells": [
  {
   "cell_type": "code",
   "execution_count": 1,
   "id": "af5b9cc9",
   "metadata": {},
   "outputs": [],
   "source": [
    "import numpy as np\n",
    "import json\n",
    "import glob\n",
    "from sklearn.metrics import pairwise_distances\n",
    "from matplotlib import pyplot as plt\n",
    "from collections import defaultdict\n",
    "import tqdm \n",
    "from Bio.PDB import PDBParser\n",
    "import warnings\n",
    "import pickle\n",
    "import dfs_code\n",
    "warnings.filterwarnings('ignore')"
   ]
  },
  {
   "cell_type": "code",
   "execution_count": 2,
   "id": "fcb1556d",
   "metadata": {},
   "outputs": [],
   "source": [
    "path = \"/mnt/ssd/datasets/enzyme/\""
   ]
  },
  {
   "cell_type": "code",
   "execution_count": 3,
   "id": "2dd37081",
   "metadata": {},
   "outputs": [
    {
     "data": {
      "text/plain": [
       "['/mnt/ssd/datasets/enzyme/metadata',\n",
       " '/mnt/ssd/datasets/enzyme/pdb_files',\n",
       " '/mnt/ssd/datasets/enzyme/parsed.json',\n",
       " '/mnt/ssd/datasets/enzyme/parsed.pkl',\n",
       " '/mnt/ssd/datasets/enzyme/min_dfs_transformer_preprocessed.pkl',\n",
       " '/mnt/ssd/datasets/enzyme/min_dfs_transformer_preprocessed_leq4.5.pkl',\n",
       " '/mnt/ssd/datasets/enzyme/min_dfs_transformer_preprocessed_leq4.500000.pkl']"
      ]
     },
     "execution_count": 3,
     "metadata": {},
     "output_type": "execute_result"
    }
   ],
   "source": [
    "glob.glob(path+\"*\")"
   ]
  },
  {
   "cell_type": "code",
   "execution_count": 4,
   "id": "de5435ae",
   "metadata": {},
   "outputs": [],
   "source": [
    "with open(path+\"metadata/function_labels.json\", \"r\") as f:\n",
    "    labels = json.load(f)"
   ]
  },
  {
   "cell_type": "code",
   "execution_count": 5,
   "id": "14161f61",
   "metadata": {},
   "outputs": [],
   "source": [
    "with open(path+\"metadata/base_split.json\", \"r\") as f:\n",
    "    split = json.load(f)"
   ]
  },
  {
   "cell_type": "code",
   "execution_count": 6,
   "id": "95885669",
   "metadata": {},
   "outputs": [],
   "source": [
    "with open(path+\"parsed.pkl\", \"rb\") as f:\n",
    "    features = pickle.load(f)"
   ]
  },
  {
   "cell_type": "code",
   "execution_count": 7,
   "id": "e793ab1a",
   "metadata": {},
   "outputs": [
    {
     "name": "stderr",
     "output_type": "stream",
     "text": [
      "100%|█████████████████████████████████████████████████████████████████████████████████████████████████████████████████████████████████████████████████████████████████████| 37428/37428 [00:01<00:00, 20829.12it/s]\n"
     ]
    }
   ],
   "source": [
    "max_dist = 0\n",
    "max_nodes = 0\n",
    "nodes = []\n",
    "selected_keys = []\n",
    "for prot, feats in tqdm.tqdm(features.items()):\n",
    "    curr_max = np.max(feats['A'])\n",
    "    n_nodes = len(feats['A'])\n",
    "    if n_nodes > max_nodes:\n",
    "        max_nodes = n_nodes\n",
    "    if curr_max > max_dist:\n",
    "        max_dist = curr_max\n",
    "    if n_nodes <= 200:\n",
    "        selected_keys += [prot] \n",
    "    nodes += [n_nodes]"
   ]
  },
  {
   "cell_type": "code",
   "execution_count": 8,
   "id": "1c67f5cf",
   "metadata": {},
   "outputs": [
    {
     "data": {
      "image/png": "[encoded data removed]",
      "text/plain": [
       "<Figure size 432x288 with 1 Axes>"
      ]
     },
     "metadata": {
      "needs_background": "light"
     },
     "output_type": "display_data"
    }
   ],
   "source": [
    "plt.hist(nodes, bins='rice')\n",
    "plt.title('number of nodes')\n",
    "plt.show()"
   ]
  },
  {
   "cell_type": "code",
   "execution_count": 9,
   "id": "efd1990e",
   "metadata": {},
   "outputs": [],
   "source": [
    "bins = np.linspace(0, int(max_dist)+1, 200)\n",
    "counts = np.zeros(len(bins)-1)"
   ]
  },
  {
   "cell_type": "code",
   "execution_count": 10,
   "id": "06ab05e7",
   "metadata": {},
   "outputs": [
    {
     "name": "stderr",
     "output_type": "stream",
     "text": [
      "100%|███████████████████████████████████████████████████████████████████████████████████████████████████████████████████████████████████████████████████████████████████████| 10478/10478 [00:11<00:00, 929.42it/s]\n"
     ]
    }
   ],
   "source": [
    "for prot in tqdm.tqdm(selected_keys):\n",
    "    ds = features[prot][\"A\"].flatten()\n",
    "    counts += np.histogram(ds, bins=bins)[0]"
   ]
  },
  {
   "cell_type": "code",
   "execution_count": 11,
   "id": "5d506438",
   "metadata": {},
   "outputs": [
    {
     "data": {
      "image/png": "[encoded data removed]",
      "text/plain": [
       "<Figure size 432x288 with 1 Axes>"
      ]
     },
     "metadata": {
      "needs_background": "light"
     },
     "output_type": "display_data"
    }
   ],
   "source": [
    "plt.bar(bins[:-1], counts, width=1)\n",
    "plt.title('distance histogram')\n",
    "plt.show()"
   ]
  },
  {
   "cell_type": "code",
   "execution_count": 12,
   "id": "3a7eaa60",
   "metadata": {},
   "outputs": [],
   "source": [
    "cutoff = 10"
   ]
  },
  {
   "cell_type": "code",
   "execution_count": 13,
   "id": "cee12b69",
   "metadata": {},
   "outputs": [
    {
     "name": "stderr",
     "output_type": "stream",
     "text": [
      "100%|█████████████████████████████████████████████████████████████████████████████████████████████████████████████████████████████████████████████████████████████████████| 10478/10478 [00:00<00:00, 25509.88it/s]\n"
     ]
    }
   ],
   "source": [
    "n_edges = []\n",
    "for prot in tqdm.tqdm(selected_keys):\n",
    "    ds = features[prot][\"A\"].flatten()\n",
    "    n_edges += [((ds != 0)*(ds < cutoff)).sum()]"
   ]
  },
  {
   "cell_type": "code",
   "execution_count": 14,
   "id": "6306c993",
   "metadata": {},
   "outputs": [
    {
     "data": {
      "image/png": "[encoded data removed]",
      "text/plain": [
       "<Figure size 432x288 with 1 Axes>"
      ]
     },
     "metadata": {
      "needs_background": "light"
     },
     "output_type": "display_data"
    }
   ],
   "source": [
    "plt.hist(n_edges, bins=\"rice\")\n",
    "plt.title('number of edges')\n",
    "plt.show()"
   ]
  },
  {
   "cell_type": "code",
   "execution_count": 15,
   "id": "4e9734bd",
   "metadata": {},
   "outputs": [],
   "source": [
    "bins2 = np.linspace(0, cutoff, 500)\n",
    "counts2 = np.zeros(len(bins2)-1)"
   ]
  },
  {
   "cell_type": "code",
   "execution_count": 16,
   "id": "54c66da0",
   "metadata": {},
   "outputs": [
    {
     "name": "stderr",
     "output_type": "stream",
     "text": [
      "100%|██████████████████████████████████████████████████████████████████████████████████████████████████████████████████████████████████████████████████████████████████████| 10478/10478 [00:01<00:00, 5362.65it/s]\n"
     ]
    }
   ],
   "source": [
    "n_edges = []\n",
    "for prot in tqdm.tqdm(selected_keys):\n",
    "    ds = features[prot][\"A\"].flatten()\n",
    "    counts2 += np.histogram(ds[(ds != 0)*(ds < cutoff)], bins=bins2)[0]"
   ]
  },
  {
   "cell_type": "code",
   "execution_count": 17,
   "id": "228beef6",
   "metadata": {},
   "outputs": [
    {
     "data": {
      "text/plain": [
       "<BarContainer object of 499 artists>"
      ]
     },
     "execution_count": 17,
     "metadata": {},
     "output_type": "execute_result"
    },
    {
     "data": {
      "image/png": "[encoded data removed]",
      "text/plain": [
       "<Figure size 432x288 with 1 Axes>"
      ]
     },
     "metadata": {
      "needs_background": "light"
     },
     "output_type": "display_data"
    }
   ],
   "source": [
    "plt.bar(bins2[:-1], counts2, width=1)"
   ]
  },
  {
   "cell_type": "code",
   "execution_count": 18,
   "id": "73d32afd",
   "metadata": {},
   "outputs": [
    {
     "data": {
      "text/plain": [
       "[<matplotlib.lines.Line2D at 0x7f585a9f8250>]"
      ]
     },
     "execution_count": 18,
     "metadata": {},
     "output_type": "execute_result"
    },
    {
     "data": {
      "image/png": "[encoded data removed]",
      "text/plain": [
       "<Figure size 432x288 with 1 Axes>"
      ]
     },
     "metadata": {
      "needs_background": "light"
     },
     "output_type": "display_data"
    }
   ],
   "source": [
    "plt.plot(bins2[1:], counts2)"
   ]
  },
  {
   "cell_type": "code",
   "execution_count": 19,
   "id": "9cf3b628",
   "metadata": {},
   "outputs": [
    {
     "data": {
      "text/plain": [
       "{'pos': array([[ 14.65 ,   5.731,  -0.155],\n",
       "        [ 13.997,   7.697,  -3.375],\n",
       "        [ 14.156,  11.109,  -5.046],\n",
       "        [ 11.228,  13.404,  -4.08 ],\n",
       "        [  9.234,  14.761,  -7.035],\n",
       "        [  6.217,  16.987,  -6.546],\n",
       "        [  3.665,  16.539,  -9.31 ],\n",
       "        [  0.649,  18.781,  -9.312],\n",
       "        [ -2.525,  17.931, -11.259],\n",
       "        [ -4.901,  20.551, -12.609],\n",
       "        [ -7.915,  20.971, -14.944],\n",
       "        [-11.706,  21.246, -15.3  ],\n",
       "        [-14.215,  19.902, -12.823],\n",
       "        [-14.788,  16.22 , -13.657],\n",
       "        [-12.069,  15.664, -16.257],\n",
       "        [-10.709,  12.639, -14.31 ],\n",
       "        [ -7.799,  14.06 , -12.301],\n",
       "        [ -8.663,  12.023,  -9.169],\n",
       "        [ -9.631,   8.78 , -11.022],\n",
       "        [ -6.377,   8.968, -12.906],\n",
       "        [ -4.324,   8.943,  -9.657],\n",
       "        [ -6.435,   6.292,  -7.89 ],\n",
       "        [ -6.143,   4.102, -10.961],\n",
       "        [ -2.354,   4.582, -11.102],\n",
       "        [ -1.602,   3.974,  -7.417],\n",
       "        [ -4.277,   1.397,  -6.597],\n",
       "        [ -5.607,   0.132,  -9.965],\n",
       "        [ -9.059,   1.181,  -8.685],\n",
       "        [-11.794,   3.037, -10.512],\n",
       "        [-15.159,   4.468,  -9.47 ],\n",
       "        [-18.202,   5.282, -11.646],\n",
       "        [-19.142,   7.694,  -8.788],\n",
       "        [-18.129,  11.372,  -9.006],\n",
       "        [-17.013,  12.723,  -5.626],\n",
       "        [-15.511,  16.213,  -6.305],\n",
       "        [-12.001,  16.829,  -4.933],\n",
       "        [-11.492,  19.479,  -2.284],\n",
       "        [ -7.757,  18.691,  -1.937],\n",
       "        [ -5.939,  15.314,  -1.77 ],\n",
       "        [ -2.445,  13.916,  -1.756],\n",
       "        [ -1.126,  10.546,  -3.033],\n",
       "        [  2.316,   8.949,  -3.156],\n",
       "        [  4.016,   6.377,  -5.37 ],\n",
       "        [  7.518,   4.902,  -5.152],\n",
       "        [  8.291,   4.325,  -8.855],\n",
       "        [ 11.233,   2.747, -10.721],\n",
       "        [ 12.019,   4.561, -14.   ],\n",
       "        [ 15.175,   4.062, -16.126],\n",
       "        [ 17.243,   2.582, -13.276],\n",
       "        [ 16.688,   5.505, -10.849],\n",
       "        [ 13.988,   5.294,  -8.009],\n",
       "        [ 11.543,   8.082,  -7.1  ],\n",
       "        [  9.105,   9.156,  -4.385],\n",
       "        [  6.561,  10.703,  -6.683],\n",
       "        [  4.425,  13.13 ,  -4.7  ],\n",
       "        [  1.079,  13.772,  -6.395],\n",
       "        [ -1.217,  16.646,  -5.469],\n",
       "        [ -4.86 ,  16.343,  -6.602],\n",
       "        [ -6.441,  19.794,  -6.984],\n",
       "        [-10.091,  20.807,  -7.229],\n",
       "        [-11.151,  21.642, -10.804],\n",
       "        [-14.157,  23.666,  -9.632],\n",
       "        [-13.816,  27.454,  -9.921],\n",
       "        [-14.74 ,  27.96 ,  -6.218],\n",
       "        [-11.17 ,  27.02 ,  -5.4  ],\n",
       "        [ -9.575,  29.389,  -7.908],\n",
       "        [ -8.397,  31.396,  -4.912],\n",
       "        [ -7.16 ,  28.495,  -2.81 ],\n",
       "        [ -5.686,  26.283,  -5.52 ],\n",
       "        [ -2.322,  28.018,  -6.186],\n",
       "        [ -1.285,  27.335,  -2.58 ],\n",
       "        [ -0.354,  23.917,  -4.01 ],\n",
       "        [  2.03 ,  25.347,  -6.58 ],\n",
       "        [  5.28 ,  26.504,  -4.881],\n",
       "        [  8.188,  24.039,  -5.41 ],\n",
       "        [  6.383,  21.968,  -8.06 ],\n",
       "        [  8.683,  19.794, -10.131],\n",
       "        [  6.204,  19.179, -12.995],\n",
       "        [  2.5  ,  19.821, -13.687],\n",
       "        [ -0.134,  17.802, -15.394],\n",
       "        [ -2.716,  19.844, -17.122],\n",
       "        [ -5.649,  17.559, -17.712],\n",
       "        [ -8.497,  17.698, -20.15 ],\n",
       "        [-11.182,  15.213, -21.105],\n",
       "        [-10.805,  14.048, -24.706],\n",
       "        [-14.645,  14.176, -24.654],\n",
       "        [-15.299,  17.755, -23.432],\n",
       "        [-13.901,  20.313, -25.929],\n",
       "        [-15.006,  22.889, -23.321],\n",
       "        [-12.388,  21.397, -20.988],\n",
       "        [ -9.98 ,  21.583, -23.927],\n",
       "        [-10.121,  25.353, -24.645],\n",
       "        [ -9.626,  26.102, -20.921],\n",
       "        [ -6.156,  24.59 , -21.232],\n",
       "        [ -4.913,  27.877, -22.77 ],\n",
       "        [ -7.811,  29.951, -21.389],\n",
       "        [ -7.57 ,  28.999, -17.727],\n",
       "        [ -5.017,  26.319, -16.931],\n",
       "        [ -1.837,  27.43 , -18.755],\n",
       "        [ -2.212,  31.021, -17.535],\n",
       "        [ -2.885,  30.047, -13.866],\n",
       "        [  0.127,  27.694, -13.784],\n",
       "        [  2.652,  29.879, -15.619],\n",
       "        [  1.456,  32.824, -13.486],\n",
       "        [  2.752,  31.09 , -10.337],\n",
       "        [  5.268,  28.695, -11.915],\n",
       "        [  6.699,  30.184, -15.125],\n",
       "        [  9.554,  27.654, -15.675],\n",
       "        [  8.209,  24.35 , -14.312],\n",
       "        [  7.51 ,  21.715, -17.032],\n",
       "        [  3.979,  20.938, -18.22 ],\n",
       "        [  2.628,  17.681, -19.562],\n",
       "        [ -0.713,  17.961, -21.298],\n",
       "        [ -2.949,  15.   , -20.565],\n",
       "        [ -5.991,  13.922, -22.529],\n",
       "        [ -8.037,  11.779, -20.188],\n",
       "        [-11.018,   9.513, -20.905],\n",
       "        [ -9.362,   7.916, -23.968],\n",
       "        [-11.798,   4.98 , -23.704],\n",
       "        [-14.799,   7.131, -24.682],\n",
       "        [-13.478,   8.84 , -27.808],\n",
       "        [-14.596,   5.804, -29.879],\n",
       "        [-17.853,   5.204, -27.943],\n",
       "        [-20.999,   5.439, -30.082],\n",
       "        [-22.969,   6.514, -26.986],\n",
       "        [-20.517,   9.382, -26.381],\n",
       "        [-19.835,  10.399, -30.024],\n",
       "        [-23.629,  10.585, -30.534],\n",
       "        [-24.099,  12.53 , -27.273],\n",
       "        [-21.827,  15.244, -28.633],\n",
       "        [-22.994,  15.118, -32.237],\n",
       "        [-26.256,  16.668, -30.945],\n",
       "        [-24.572,  19.759, -29.433],\n",
       "        [-22.426,  20.545, -32.597],\n",
       "        [-19.503,  18.67 , -31.079],\n",
       "        [-16.261,  16.77 , -31.829],\n",
       "        [-14.238,  14.636, -29.396],\n",
       "        [-10.609,  15.875, -29.261],\n",
       "        [ -8.295,  14.072, -31.706],\n",
       "        [ -4.616,  13.321, -31.096],\n",
       "        [ -3.368,  15.94 , -33.681],\n",
       "        [ -5.555,  18.644, -32.075],\n",
       "        [ -4.348,  17.626, -28.6  ],\n",
       "        [ -0.759,  17.645, -29.828],\n",
       "        [ -1.354,  21.086, -31.363],\n",
       "        [ -2.7  ,  22.487, -28.033],\n",
       "        [  0.378,  21.115, -26.246],\n",
       "        [  2.745,  22.789, -28.719],\n",
       "        [  0.773,  26.003, -28.24 ],\n",
       "        [  1.348,  25.935, -24.464],\n",
       "        [  4.945,  24.643, -24.644],\n",
       "        [  3.841,  21.426, -22.905],\n",
       "        [  6.93 ,  19.229, -22.725],\n",
       "        [  4.887,  16.154, -23.839],\n",
       "        [  1.381,  15.34 , -24.936],\n",
       "        [ -0.048,  12.048, -23.587],\n",
       "        [ -3.474,  10.416, -23.838],\n",
       "        [ -4.993,   8.033, -21.305],\n",
       "        [ -7.959,   6.316, -19.686],\n",
       "        [ -8.071,   5.72 , -15.941],\n",
       "        [-10.803,   3.091, -16.643],\n",
       "        [ -8.996,   0.833, -19.179],\n",
       "        [ -5.607,   2.11 , -17.936],\n",
       "        [ -4.571,   2.592, -21.575],\n",
       "        [ -1.769,   5.2  , -21.633],\n",
       "        [ -1.774,   5.381, -17.834],\n",
       "        [  1.727,   4.449, -16.745],\n",
       "        [  3.344,   6.507, -19.54 ],\n",
       "        [  1.759,   9.649, -18.081],\n",
       "        [  3.791,   9.3  , -14.895],\n",
       "        [  6.841,   7.824, -16.509],\n",
       "        [  6.932,  11.065, -18.539],\n",
       "        [  6.038,  13.28 , -15.562],\n",
       "        [  9.094,  11.876, -13.896],\n",
       "        [ 11.078,  12.328, -17.169],\n",
       "        [ 10.307,  16.067, -17.417],\n",
       "        [ 12.346,  16.452, -14.204],\n",
       "        [ 15.339,  13.993, -14.232]], dtype=float32),\n",
       " 'acid': array(['GLN', 'GLY', 'GLN', 'ALA', 'ILE', 'LYS', 'CYS', 'VAL', 'VAL',\n",
       "        'VAL', 'GLY', 'ASP', 'GLY', 'ALA', 'VAL', 'GLY', 'LYS', 'THR',\n",
       "        'CYS', 'LEU', 'LEU', 'ILE', 'SER', 'TYR', 'THR', 'THR', 'ASN',\n",
       "        'ALA', 'PHE', 'SER', 'GLY', 'GLU', 'TYR', 'ILE', 'PRO', 'THR',\n",
       "        'VAL', 'PHE', 'ASP', 'ASN', 'TYR', 'SER', 'ALA', 'ASN', 'VAL',\n",
       "        'MET', 'VAL', 'ASP', 'GLY', 'LYS', 'PRO', 'VAL', 'ASN', 'LEU',\n",
       "        'GLY', 'LEU', 'TRP', 'ASP', 'THR', 'ALA', 'GLY', 'GLN', 'GLU',\n",
       "        'ASP', 'TYR', 'ASP', 'ARG', 'LEU', 'ARG', 'PRO', 'LEU', 'SER',\n",
       "        'TYR', 'PRO', 'GLN', 'THR', 'ASP', 'VAL', 'PHE', 'LEU', 'ILE',\n",
       "        'CYS', 'PHE', 'SER', 'LEU', 'VAL', 'SER', 'PRO', 'ALA', 'SER',\n",
       "        'PHE', 'GLU', 'ASN', 'VAL', 'ARG', 'ALA', 'LYS', 'TRP', 'TYR',\n",
       "        'PRO', 'GLU', 'VAL', 'ARG', 'HIS', 'HIS', 'CYS', 'PRO', 'ASN',\n",
       "        'THR', 'PRO', 'ILE', 'ILE', 'LEU', 'VAL', 'GLY', 'THR', 'LYS',\n",
       "        'LEU', 'ASP', 'LEU', 'ARG', 'ASP', 'ASP', 'LYS', 'ASP', 'THR',\n",
       "        'ILE', 'GLU', 'LYS', 'LEU', 'LYS', 'GLU', 'LYS', 'LYS', 'LEU',\n",
       "        'THR', 'PRO', 'ILE', 'THR', 'TYR', 'PRO', 'GLN', 'GLY', 'LEU',\n",
       "        'ALA', 'MET', 'ALA', 'LYS', 'GLU', 'ILE', 'GLY', 'ALA', 'VAL',\n",
       "        'LYS', 'TYR', 'LEU', 'GLU', 'CYS', 'SER', 'ALA', 'LEU', 'THR',\n",
       "        'GLN', 'ARG', 'GLY', 'LEU', 'LYS', 'THR', 'VAL', 'PHE', 'ASP',\n",
       "        'GLU', 'ALA', 'ILE', 'ARG', 'ALA', 'VAL', 'LEU'], dtype='<U3'),\n",
       " 'A': array([[ 0.       ,  3.8288333,  7.2862062, ..., 20.583275 , 17.821972 ,\n",
       "         16.336992 ],\n",
       "        [ 3.8288333,  0.       ,  3.8025343, ..., 16.758602 , 14.022948 ,\n",
       "         12.622005 ],\n",
       "        [ 7.2862062,  3.8025343,  0.       , ..., 13.87221  , 10.756055 ,\n",
       "          9.700492 ],\n",
       "        ...,\n",
       "        [20.583275 , 16.758602 , 13.87221  , ...,  0.       ,  3.824802 ,\n",
       "          6.3060856],\n",
       "        [17.821972 , 14.022948 , 10.756055 , ...,  3.824802 ,  0.       ,\n",
       "          3.873695 ],\n",
       "        [16.336992 , 12.622005 ,  9.700492 , ...,  6.3060856,  3.873695 ,\n",
       "          0.       ]], dtype=float32)}"
      ]
     },
     "execution_count": 19,
     "metadata": {},
     "output_type": "execute_result"
    }
   ],
   "source": [
    "features[prot]"
   ]
  },
  {
   "cell_type": "code",
   "execution_count": 20,
   "id": "0f13932c",
   "metadata": {},
   "outputs": [
    {
     "name": "stderr",
     "output_type": "stream",
     "text": [
      "100%|█████████████████████████████████████████████████████████████████████████████████████████████████████████████████████████████████████████████████████████████████████| 10478/10478 [00:00<00:00, 73376.04it/s]\n"
     ]
    }
   ],
   "source": [
    "acids = set()\n",
    "for prot in tqdm.tqdm(selected_keys):\n",
    "    acids |= set(features[prot][\"acid\"].tolist())"
   ]
  },
  {
   "cell_type": "code",
   "execution_count": 21,
   "id": "855e63ef",
   "metadata": {},
   "outputs": [],
   "source": [
    "acids2int = {acid:idx for idx, acid in enumerate(list(acids))}"
   ]
  },
  {
   "cell_type": "code",
   "execution_count": 22,
   "id": "5b9e753c",
   "metadata": {},
   "outputs": [],
   "source": [
    "def d2edge_type(d):\n",
    "    if d<4:\n",
    "        return 0\n",
    "    elif d<5:\n",
    "        return 1\n",
    "    elif d<6:\n",
    "        return 2\n",
    "    elif d<7:\n",
    "        return 3\n",
    "    elif d<8:\n",
    "        return 4\n",
    "    elif d<9:\n",
    "        return 5\n",
    "    elif d<10:\n",
    "        return 6\n",
    "    else:\n",
    "        return 7"
   ]
  },
  {
   "cell_type": "code",
   "execution_count": null,
   "id": "7e77af0a",
   "metadata": {},
   "outputs": [
    {
     "name": "stderr",
     "output_type": "stream",
     "text": [
      " 10%|█████████████████                                                                                                                                                        | 1054/10478 [00:40<05:45, 27.31it/s]"
     ]
    }
   ],
   "source": [
    "graphs = defaultdict(dict)\n",
    "exceptions = []\n",
    "for prot in tqdm.tqdm(selected_keys):\n",
    "    try:\n",
    "        D = features[prot]['A']\n",
    "        A = (D != 0) * (D < cutoff)\n",
    "        edge_index = np.asarray(np.where(A))\n",
    "        edge_index_set = set((e[0], e[1]) for e in edge_index.T)\n",
    "        node_types = np.asarray([acids2int[acid] for acid in features[prot]['acid']])\n",
    "        glue_edges = []\n",
    "        for i in range(len(A)-1):\n",
    "            if (i, i+1) not in edge_index_set:\n",
    "                glue_edges += [[i, i+1], [i+1, i]]\n",
    "        if len(glue_edges) > 0:\n",
    "            glue_edges = np.asarray(glue_edges).T\n",
    "            edge_index = np.concatenate((edge_index, glue_edges), axis=1)\n",
    "        edge_types = np.asarray([d2edge_type(D[e[0], e[1]]) for e in edge_index.T])\n",
    "        min_dfs_code, min_dfs_index = dfs_code.min_dfs_code_from_edgeindex(edge_index, \n",
    "                                                                           node_types.tolist(), \n",
    "                                                                           edge_types.tolist())\n",
    "        graphs[prot]['edge_index'] = edge_index\n",
    "        graphs[prot]['edge_types'] = edge_types\n",
    "        graphs[prot]['node_types'] = node_types\n",
    "        graphs[prot]['min_dfs_code'] = min_dfs_code\n",
    "        graphs[prot]['min_dfs_index'] = min_dfs_index\n",
    "        graphs[prot]['pos'] = features[prot]['pos']\n",
    "    except:\n",
    "        print('%s failed'%prot)\n",
    "        exceptions += [prot]\n",
    "        continue"
   ]
  },
  {
   "cell_type": "code",
   "execution_count": null,
   "id": "0d24be43",
   "metadata": {},
   "outputs": [],
   "source": [
    "trainset = set(split['train'])\n",
    "validset = set(split['valid'])\n",
    "testset = set(split['test'])"
   ]
  },
  {
   "cell_type": "code",
   "execution_count": null,
   "id": "35b91dad",
   "metadata": {},
   "outputs": [],
   "source": [
    "for key in graphs.keys():\n",
    "    graphs[key]['label'] = labels[key]\n",
    "    if key in trainset:\n",
    "        graphs[key]['split'] = \"train\"\n",
    "    elif key in validset:\n",
    "        graphs[key]['split'] = \"valid\"\n",
    "    elif key in testset:\n",
    "        graphs[key]['split'] = \"test\"\n",
    "    else:\n",
    "        raise ValueError(\"unexpected\")"
   ]
  },
  {
   "cell_type": "code",
   "execution_count": null,
   "id": "073f98d2",
   "metadata": {},
   "outputs": [],
   "source": [
    "with open(path+\"min_dfs_transformer_preprocessed_leq%f.pkl\"%cutoff, \"wb\") as f:\n",
    "    pickle.dump(graphs, f)"
   ]
  },
  {
   "cell_type": "code",
   "execution_count": null,
   "id": "58d88686",
   "metadata": {},
   "outputs": [],
   "source": []
  }
 ],
 "metadata": {
  "kernelspec": {
   "display_name": "Python 3 (ipykernel)",
   "language": "python",
   "name": "python3"
  },
  "language_info": {
   "codemirror_mode": {
    "name": "ipython",
    "version": 3
   },
   "file_extension": ".py",
   "mimetype": "text/x-python",
   "name": "python",
   "nbconvert_exporter": "python",
   "pygments_lexer": "ipython3",
   "version": "3.8.3"
  }
 },
 "nbformat": 4,
 "nbformat_minor": 5
}
