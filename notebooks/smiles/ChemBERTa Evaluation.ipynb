{
 "cells": [
  {
   "cell_type": "code",
   "execution_count": 3,
   "id": "a06341e2",
   "metadata": {},
   "outputs": [],
   "source": [
    "from transformers import AutoModelWithLMHead, AutoTokenizer, pipeline, DataCollatorForLanguageModeling\n",
    "from torch.utils.data import Dataset, DataLoader\n",
    "import os\n",
    "from pathlib import Path\n",
    "import torch"
   ]
  },
  {
   "cell_type": "code",
   "execution_count": 4,
   "id": "3fa53769",
   "metadata": {},
   "outputs": [],
   "source": [
    "import sys\n",
    "sys.path.append(\"../../src\")\n",
    "from dfs_transformer.utils.rdkit import isValid\n",
    "from rdkit import Chem\n",
    "import numpy as np"
   ]
  },
  {
   "cell_type": "code",
   "execution_count": 5,
   "id": "654df69d",
   "metadata": {},
   "outputs": [
    {
     "name": "stderr",
     "output_type": "stream",
     "text": [
      "/home/chrisw/miniconda3/envs/py39/lib/python3.9/site-packages/transformers/models/auto/modeling_auto.py:1112: FutureWarning: The class `AutoModelWithLMHead` is deprecated and will be removed in a future version. Please use `AutoModelForCausalLM` for causal language models, `AutoModelForMaskedLM` for masked language models and `AutoModelForSeq2SeqLM` for encoder-decoder models.\n",
      "  warnings.warn(\n"
     ]
    },
    {
     "data": {
      "application/vnd.jupyter.widget-view+json": {
       "model_id": "ad357b453e6b4eafb6ea4cd10dc836a5",
       "version_major": 2,
       "version_minor": 0
      },
      "text/plain": [
       "Downloading:   0%|          | 0.00/515 [00:00<?, ?B/s]"
      ]
     },
     "metadata": {},
     "output_type": "display_data"
    },
    {
     "data": {
      "application/vnd.jupyter.widget-view+json": {
       "model_id": "69f1e585048947439d42df5205c071c5",
       "version_major": 2,
       "version_minor": 0
      },
      "text/plain": [
       "Downloading:   0%|          | 0.00/336M [00:00<?, ?B/s]"
      ]
     },
     "metadata": {},
     "output_type": "display_data"
    },
    {
     "data": {
      "application/vnd.jupyter.widget-view+json": {
       "model_id": "fceefdf9f3e5447b8ad76a0423c4788c",
       "version_major": 2,
       "version_minor": 0
      },
      "text/plain": [
       "Downloading:   0%|          | 0.00/62.0 [00:00<?, ?B/s]"
      ]
     },
     "metadata": {},
     "output_type": "display_data"
    },
    {
     "data": {
      "application/vnd.jupyter.widget-view+json": {
       "model_id": "62f43961b0764b878b4b990f5362a863",
       "version_major": 2,
       "version_minor": 0
      },
      "text/plain": [
       "Downloading:   0%|          | 0.00/165k [00:00<?, ?B/s]"
      ]
     },
     "metadata": {},
     "output_type": "display_data"
    },
    {
     "data": {
      "application/vnd.jupyter.widget-view+json": {
       "model_id": "a02a13e369074160bdcc51c7ddad5104",
       "version_major": 2,
       "version_minor": 0
      },
      "text/plain": [
       "Downloading:   0%|          | 0.00/101k [00:00<?, ?B/s]"
      ]
     },
     "metadata": {},
     "output_type": "display_data"
    },
    {
     "data": {
      "application/vnd.jupyter.widget-view+json": {
       "model_id": "403c2e967fd84dd8a4017eac87da2222",
       "version_major": 2,
       "version_minor": 0
      },
      "text/plain": [
       "Downloading:   0%|          | 0.00/772 [00:00<?, ?B/s]"
      ]
     },
     "metadata": {},
     "output_type": "display_data"
    }
   ],
   "source": [
    "\n",
    "#any model weights from the link above will work here\n",
    "model = AutoModelWithLMHead.from_pretrained(\"seyonec/PubChem10M_SMILES_BPE_50k\")#\"seyonec/ChemBERTA_PubChem1M_shard00_155k\")\n",
    "tokenizer = AutoTokenizer.from_pretrained(\"seyonec/PubChem10M_SMILES_BPE_50k\")#\"seyonec/ChemBERTA_PubChem1M_shard00_155k\")\n",
    "\n",
    "fill_mask = pipeline('fill-mask', model=model, tokenizer=tokenizer)"
   ]
  },
  {
   "cell_type": "code",
   "execution_count": 6,
   "id": "824d4d33",
   "metadata": {},
   "outputs": [],
   "source": [
    "data_collator = DataCollatorForLanguageModeling(tokenizer=tokenizer, mlm=True, mlm_probability=0.15)"
   ]
  },
  {
   "cell_type": "code",
   "execution_count": 7,
   "id": "32def628",
   "metadata": {},
   "outputs": [],
   "source": [
    "class RawTextDataset(Dataset):\n",
    "    \"\"\"\n",
    "    Custom Torch Dataset for tokenizing large (up to 100,000,000+ sequences) text corpuses,\n",
    "    by not loading the entire dataset into cache and using lazy loading from disk (using huggingface's\n",
    "    'NLP' library. See 'https://github.com/huggingface/nlp' for more details on the NLP package.\n",
    "    Examples\n",
    "    --------\n",
    "    >>> from raw_text_dataset import RawTextDataset\n",
    "    >>> dataset = RawTextDataset(tokenizer=tokenizer, file_path=\"shard_00_selfies.txt\", block_size=512)\n",
    "    Downloading: 100%\n",
    "    1.52k/1.52k [00:03<00:00, 447B/s]\n",
    "    Using custom data configuration default\n",
    "    Downloading and preparing dataset text/default-f719ef2eb3ab586b (download: Unknown size, generated: Unknown size, post-processed: Unknown sizetotal: Unknown size) to /root/.cache/huggingface/datasets/text/default-f719ef2eb3ab586b/0.0.0/3a79870d85f1982d6a2af884fde86a71c771747b4b161fd302d28ad22adf985b...\n",
    "    Dataset text downloaded and prepared to /root/.cache/huggingface/datasets/text/default-f719ef2eb3ab586b/0.0.0/3a79870d85f1982d6a2af884fde86a71c771747b4b161fd302d28ad22adf985b. Subsequent calls will reuse this data.\n",
    "    Loaded Dataset\n",
    "    Number of lines: 999988\n",
    "    Block size: 512\n",
    "    \"\"\"\n",
    "\n",
    "    def __init__(self, tokenizer, file_path: str, block_size: int):\n",
    "        super().__init__()\n",
    "        self.tokenizer = tokenizer\n",
    "        self.file_path = file_path\n",
    "        self.block_size = block_size\n",
    "\n",
    "        self.dataset = Path(\"/mnt/ssd/datasets/pubchemvalid.txt\").read_text(encoding=\"utf-8\").splitlines()\n",
    "        print(\"Loaded Dataset\")\n",
    "        self.len = len(self.dataset)\n",
    "        print(\"Number of lines: \" + str(self.len))\n",
    "        print(\"Block size: \" + str(self.block_size))\n",
    "\n",
    "    def __len__(self):\n",
    "        return self.len\n",
    "\n",
    "    def preprocess(self, feature_dict):\n",
    "        batch_encoding = self.tokenizer(\n",
    "            feature_dict,\n",
    "            add_special_tokens=True,\n",
    "            truncation=True,\n",
    "            max_length=self.block_size,\n",
    "        )\n",
    "        return torch.tensor(batch_encoding[\"input_ids\"])\n",
    "\n",
    "    def __getitem__(self, i):\n",
    "        line = self.dataset[i]\n",
    "        example = self.preprocess(line)\n",
    "        return example"
   ]
  },
  {
   "cell_type": "code",
   "execution_count": 8,
   "id": "7b5fc0e9",
   "metadata": {},
   "outputs": [
    {
     "name": "stdout",
     "output_type": "stream",
     "text": [
      "Loaded Dataset\n",
      "Number of lines: 9942\n",
      "Block size: 512\n"
     ]
    }
   ],
   "source": [
    "dataset = RawTextDataset(tokenizer=tokenizer, file_path='/mnt/ssd/datasets/pubchemvalid.txt', block_size=512)"
   ]
  },
  {
   "cell_type": "code",
   "execution_count": 9,
   "id": "26eb4d6a",
   "metadata": {},
   "outputs": [],
   "source": [
    "dl = DataLoader(dataset, batch_size=16, collate_fn = data_collator)"
   ]
  },
  {
   "cell_type": "code",
   "execution_count": 11,
   "id": "016dd821",
   "metadata": {},
   "outputs": [],
   "source": [
    "model = model.to('cuda:0')"
   ]
  },
  {
   "cell_type": "code",
   "execution_count": 12,
   "id": "01325b76",
   "metadata": {},
   "outputs": [
    {
     "name": "stderr",
     "output_type": "stream",
     "text": [
      "100%|████████████████████████████████████████████████████████████████████████████████████████████████████████████████████████████████████████████████████████████████████████████| 622/622 [02:02<00:00,  5.06it/s]\n"
     ]
    }
   ],
   "source": [
    "import tqdm\n",
    "smiles = []\n",
    "for data in tqdm.tqdm(dl):\n",
    "    mask = data['labels']!=-100\n",
    "    pred = data['input_ids'].clone()\n",
    "    pred[mask] = model(data['input_ids'].to('cuda:0')).logits.cpu().argmax(dim=2)[mask]\n",
    "    smiles += tokenizer.batch_decode(pred, skip_special_tokens=True)"
   ]
  },
  {
   "cell_type": "code",
   "execution_count": 13,
   "id": "bd35f9b4",
   "metadata": {},
   "outputs": [
    {
     "name": "stdout",
     "output_type": "stream",
     "text": [
      "0.9589619794809897\n"
     ]
    }
   ],
   "source": [
    "valid = np.asarray([isValid(Chem.MolFromSmiles(sml)) for sml in smiles])\n",
    "print(valid.sum()/len(valid))"
   ]
  },
  {
   "cell_type": "code",
   "execution_count": 14,
   "id": "6dc23124",
   "metadata": {},
   "outputs": [],
   "source": [
    "orig_smiles = Path(\"/mnt/ssd/datasets/pubchemvalid.txt\").read_text(encoding=\"utf-8\").splitlines()"
   ]
  },
  {
   "cell_type": "code",
   "execution_count": 15,
   "id": "3b0b4869",
   "metadata": {},
   "outputs": [
    {
     "name": "stderr",
     "output_type": "stream",
     "text": [
      "9942it [00:03, 2640.94it/s]"
     ]
    },
    {
     "name": "stdout",
     "output_type": "stream",
     "text": [
      "0.6692888609188169\n"
     ]
    },
    {
     "name": "stderr",
     "output_type": "stream",
     "text": [
      "\n"
     ]
    }
   ],
   "source": [
    "same = []\n",
    "for sml, osml in tqdm.tqdm(zip(smiles, orig_smiles)):\n",
    "    try:\n",
    "        csml1 = Chem.MolToSmiles(Chem.MolFromSmiles(sml))\n",
    "        csml2 = Chem.MolToSmiles(Chem.MolFromSmiles(osml))\n",
    "        same += [csml1 == csml2]\n",
    "    except:\n",
    "        continue\n",
    "print(np.asarray(same).sum()/len(same))"
   ]
  },
  {
   "cell_type": "code",
   "execution_count": null,
   "id": "923c0e09",
   "metadata": {},
   "outputs": [],
   "source": []
  },
  {
   "cell_type": "code",
   "execution_count": null,
   "id": "577ea49c",
   "metadata": {},
   "outputs": [],
   "source": []
  }
 ],
 "metadata": {
  "kernelspec": {
   "display_name": "Python 3 (ipykernel)",
   "language": "python",
   "name": "python3"
  },
  "language_info": {
   "codemirror_mode": {
    "name": "ipython",
    "version": 3
   },
   "file_extension": ".py",
   "mimetype": "text/x-python",
   "name": "python",
   "nbconvert_exporter": "python",
   "pygments_lexer": "ipython3",
   "version": "3.9.13"
  }
 },
 "nbformat": 4,
 "nbformat_minor": 5
}
