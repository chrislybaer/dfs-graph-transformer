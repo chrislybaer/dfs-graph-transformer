{
 "cells": [
  {
   "cell_type": "code",
   "execution_count": 1,
   "id": "a06341e2",
   "metadata": {},
   "outputs": [
    {
     "name": "stderr",
     "output_type": "stream",
     "text": [
      "2022-01-26 17:44:13.039005: W tensorflow/stream_executor/platform/default/dso_loader.cc:64] Could not load dynamic library 'libcudart.so.11.0'; dlerror: libcudart.so.11.0: cannot open shared object file: No such file or directory; LD_LIBRARY_PATH: :/opt/cuda/extras/CUPTI/lib64/:/opt/intel/lib:/opt/intel/mkl/lib/intel64:/opt/intel:/opt/ibm/ILOG/CPLEX_Studio1210/cplex/bin/x86-64_linux:/opt/ibm/ILOG/CPLEX_Studio1210/cplex/python/3.7/x86-64_linux:/opt/intel/clck_latest/lib:/opt/intel/daal/lib:/opt/intel/intelpython3/lib:/opt/intel/ipp/lib:/opt/intel/itac_2019/lib:/opt/intel/itac_latest/lib:/opt/intel/mkl/lib:/opt/intel/mkl_/lib:/opt/intel/mpirt/lib:/opt/intel/tbb/lib:/opt/intel/clck/2019.0/lib:/opt/intel/compilers_and_libraries_2019/linux/lib:/opt/intel/compilers_and_libraries/linux/lib:/opt/intel/itac/2019.0.018/lib:/opt/intel/itac_2019/intel64/lib:/opt/intel/itac_latest/intel64/lib:/opt/intel/parallel_studio_xe_2019.0.045/clck_2019/lib:/opt/intel/parallel_studio_xe_2019.0.045/itac_2019/lib:/opt/intel/parallel_studio_xe_2019/clck_2019/lib:/opt/intel/parallel_studio_xe_2019/itac_2019/lib\n",
      "2022-01-26 17:44:13.039027: I tensorflow/stream_executor/cuda/cudart_stub.cc:29] Ignore above cudart dlerror if you do not have a GPU set up on your machine.\n"
     ]
    }
   ],
   "source": [
    "from transformers import AutoModelWithLMHead, AutoTokenizer, pipeline, DataCollatorForLanguageModeling\n",
    "from torch.utils.data import Dataset, DataLoader\n",
    "import os\n",
    "from pathlib import Path\n",
    "import torch"
   ]
  },
  {
   "cell_type": "code",
   "execution_count": 2,
   "id": "3fa53769",
   "metadata": {},
   "outputs": [
    {
     "name": "stderr",
     "output_type": "stream",
     "text": [
      "WARNING:root:No normalization for BCUT2D_MWHI\n",
      "WARNING:root:No normalization for BCUT2D_MWLOW\n",
      "WARNING:root:No normalization for BCUT2D_CHGHI\n",
      "WARNING:root:No normalization for BCUT2D_CHGLO\n",
      "WARNING:root:No normalization for BCUT2D_LOGPHI\n",
      "WARNING:root:No normalization for BCUT2D_LOGPLOW\n",
      "WARNING:root:No normalization for BCUT2D_MRHI\n",
      "WARNING:root:No normalization for BCUT2D_MRLOW\n",
      "Using backend: pytorch\n"
     ]
    }
   ],
   "source": [
    "import sys\n",
    "sys.path.append(\"../../src\")\n",
    "from dfs_transformer.utils.rdkit import isValid\n",
    "from rdkit import Chem\n",
    "import numpy as np"
   ]
  },
  {
   "cell_type": "code",
   "execution_count": 3,
   "id": "654df69d",
   "metadata": {},
   "outputs": [
    {
     "name": "stderr",
     "output_type": "stream",
     "text": [
      "/home/chrisw/.cache/pypoetry/virtualenvs/graph-transformer-9jPERXQ--py3.8/lib/python3.8/site-packages/transformers/models/auto/modeling_auto.py:783: FutureWarning: The class `AutoModelWithLMHead` is deprecated and will be removed in a future version. Please use `AutoModelForCausalLM` for causal language models, `AutoModelForMaskedLM` for masked language models and `AutoModelForSeq2SeqLM` for encoder-decoder models.\n",
      "  warnings.warn(\n"
     ]
    },
    {
     "data": {
      "application/vnd.jupyter.widget-view+json": {
       "model_id": "81e15c29418e4a7e860d89cd8c9b5848",
       "version_major": 2,
       "version_minor": 0
      },
      "text/plain": [
       "Downloading:   0%|          | 0.00/515 [00:00<?, ?B/s]"
      ]
     },
     "metadata": {},
     "output_type": "display_data"
    },
    {
     "data": {
      "application/vnd.jupyter.widget-view+json": {
       "model_id": "dfdc5f7679e14009a5387ce1c0522a55",
       "version_major": 2,
       "version_minor": 0
      },
      "text/plain": [
       "Downloading:   0%|          | 0.00/321M [00:00<?, ?B/s]"
      ]
     },
     "metadata": {},
     "output_type": "display_data"
    },
    {
     "data": {
      "application/vnd.jupyter.widget-view+json": {
       "model_id": "e16755ae5825491cbec3ebb8ae4a0d67",
       "version_major": 2,
       "version_minor": 0
      },
      "text/plain": [
       "Downloading:   0%|          | 0.00/62.0 [00:00<?, ?B/s]"
      ]
     },
     "metadata": {},
     "output_type": "display_data"
    },
    {
     "data": {
      "application/vnd.jupyter.widget-view+json": {
       "model_id": "8659dd330291456283a84b9e9c6e65e2",
       "version_major": 2,
       "version_minor": 0
      },
      "text/plain": [
       "Downloading:   0%|          | 0.00/161k [00:00<?, ?B/s]"
      ]
     },
     "metadata": {},
     "output_type": "display_data"
    },
    {
     "data": {
      "application/vnd.jupyter.widget-view+json": {
       "model_id": "3f8c6a98cf0e4845a5a057e78eac6e04",
       "version_major": 2,
       "version_minor": 0
      },
      "text/plain": [
       "Downloading:   0%|          | 0.00/98.9k [00:00<?, ?B/s]"
      ]
     },
     "metadata": {},
     "output_type": "display_data"
    },
    {
     "data": {
      "application/vnd.jupyter.widget-view+json": {
       "model_id": "2ddfb36b173a42b5abb1931a3492647c",
       "version_major": 2,
       "version_minor": 0
      },
      "text/plain": [
       "Downloading:   0%|          | 0.00/772 [00:00<?, ?B/s]"
      ]
     },
     "metadata": {},
     "output_type": "display_data"
    }
   ],
   "source": [
    "\n",
    "#any model weights from the link above will work here\n",
    "model = AutoModelWithLMHead.from_pretrained(\"seyonec/PubChem10M_SMILES_BPE_50k\")#\"seyonec/ChemBERTA_PubChem1M_shard00_155k\")\n",
    "tokenizer = AutoTokenizer.from_pretrained(\"seyonec/PubChem10M_SMILES_BPE_50k\")#\"seyonec/ChemBERTA_PubChem1M_shard00_155k\")\n",
    "\n",
    "fill_mask = pipeline('fill-mask', model=model, tokenizer=tokenizer)"
   ]
  },
  {
   "cell_type": "code",
   "execution_count": 4,
   "id": "824d4d33",
   "metadata": {},
   "outputs": [],
   "source": [
    "data_collator = DataCollatorForLanguageModeling(tokenizer=tokenizer, mlm=True, mlm_probability=0.15)"
   ]
  },
  {
   "cell_type": "code",
   "execution_count": 5,
   "id": "32def628",
   "metadata": {},
   "outputs": [],
   "source": [
    "class RawTextDataset(Dataset):\n",
    "    \"\"\"\n",
    "    Custom Torch Dataset for tokenizing large (up to 100,000,000+ sequences) text corpuses,\n",
    "    by not loading the entire dataset into cache and using lazy loading from disk (using huggingface's\n",
    "    'NLP' library. See 'https://github.com/huggingface/nlp' for more details on the NLP package.\n",
    "    Examples\n",
    "    --------\n",
    "    >>> from raw_text_dataset import RawTextDataset\n",
    "    >>> dataset = RawTextDataset(tokenizer=tokenizer, file_path=\"shard_00_selfies.txt\", block_size=512)\n",
    "    Downloading: 100%\n",
    "    1.52k/1.52k [00:03<00:00, 447B/s]\n",
    "    Using custom data configuration default\n",
    "    Downloading and preparing dataset text/default-f719ef2eb3ab586b (download: Unknown size, generated: Unknown size, post-processed: Unknown sizetotal: Unknown size) to /root/.cache/huggingface/datasets/text/default-f719ef2eb3ab586b/0.0.0/3a79870d85f1982d6a2af884fde86a71c771747b4b161fd302d28ad22adf985b...\n",
    "    Dataset text downloaded and prepared to /root/.cache/huggingface/datasets/text/default-f719ef2eb3ab586b/0.0.0/3a79870d85f1982d6a2af884fde86a71c771747b4b161fd302d28ad22adf985b. Subsequent calls will reuse this data.\n",
    "    Loaded Dataset\n",
    "    Number of lines: 999988\n",
    "    Block size: 512\n",
    "    \"\"\"\n",
    "\n",
    "    def __init__(self, tokenizer, file_path: str, block_size: int):\n",
    "        super().__init__()\n",
    "        self.tokenizer = tokenizer\n",
    "        self.file_path = file_path\n",
    "        self.block_size = block_size\n",
    "\n",
    "        self.dataset = Path(\"/mnt/ssd/datasets/pubchemvalid.txt\").read_text(encoding=\"utf-8\").splitlines()\n",
    "        print(\"Loaded Dataset\")\n",
    "        self.len = len(self.dataset)\n",
    "        print(\"Number of lines: \" + str(self.len))\n",
    "        print(\"Block size: \" + str(self.block_size))\n",
    "\n",
    "    def __len__(self):\n",
    "        return self.len\n",
    "\n",
    "    def preprocess(self, feature_dict):\n",
    "        batch_encoding = self.tokenizer(\n",
    "            feature_dict,\n",
    "            add_special_tokens=True,\n",
    "            truncation=True,\n",
    "            max_length=self.block_size,\n",
    "        )\n",
    "        return torch.tensor(batch_encoding[\"input_ids\"])\n",
    "\n",
    "    def __getitem__(self, i):\n",
    "        line = self.dataset[i]\n",
    "        example = self.preprocess(line)\n",
    "        return example"
   ]
  },
  {
   "cell_type": "code",
   "execution_count": 6,
   "id": "7b5fc0e9",
   "metadata": {},
   "outputs": [
    {
     "name": "stdout",
     "output_type": "stream",
     "text": [
      "Loaded Dataset\n",
      "Number of lines: 9942\n",
      "Block size: 512\n"
     ]
    }
   ],
   "source": [
    "dataset = RawTextDataset(tokenizer=tokenizer, file_path='/mnt/ssd/datasets/pubchemvalid.txt', block_size=512)"
   ]
  },
  {
   "cell_type": "code",
   "execution_count": 7,
   "id": "26eb4d6a",
   "metadata": {},
   "outputs": [],
   "source": [
    "dl = DataLoader(dataset, batch_size=16, collate_fn = data_collator)"
   ]
  },
  {
   "cell_type": "code",
   "execution_count": 8,
   "id": "016dd821",
   "metadata": {},
   "outputs": [],
   "source": [
    "model = model.to('cuda:0')"
   ]
  },
  {
   "cell_type": "code",
   "execution_count": null,
   "id": "01325b76",
   "metadata": {},
   "outputs": [
    {
     "name": "stderr",
     "output_type": "stream",
     "text": [
      " 83%|███████████████████████████████████████████████████████████████████████████████████████████████████████████████████████████████████████████████▌                            | 519/622 [01:27<00:16,  6.16it/s]"
     ]
    }
   ],
   "source": [
    "import tqdm\n",
    "smiles = []\n",
    "for data in tqdm.tqdm(dl):\n",
    "    mask = data['labels']!=-100\n",
    "    pred = data['input_ids'].clone()\n",
    "    pred[mask] = model(data['input_ids'].to('cuda:0')).logits.cpu().argmax(dim=2)[mask]\n",
    "    smiles += tokenizer.batch_decode(pred, skip_special_tokens=True)"
   ]
  },
  {
   "cell_type": "code",
   "execution_count": null,
   "id": "bd35f9b4",
   "metadata": {},
   "outputs": [],
   "source": [
    "valid = np.asarray([isValid(Chem.MolFromSmiles(sml)) for sml in smiles])\n",
    "print(valid.sum()/len(valid))"
   ]
  },
  {
   "cell_type": "code",
   "execution_count": null,
   "id": "6dc23124",
   "metadata": {},
   "outputs": [],
   "source": [
    "orig_smiles = Path(\"/mnt/ssd/datasets/pubchemvalid.txt\").read_text(encoding=\"utf-8\").splitlines()"
   ]
  },
  {
   "cell_type": "code",
   "execution_count": null,
   "id": "3b0b4869",
   "metadata": {},
   "outputs": [],
   "source": [
    "same = []\n",
    "for sml, osml in tqdm.tqdm(zip(smiles, orig_smiles)):\n",
    "    try:\n",
    "        csml1 = Chem.MolToSmiles(Chem.MolFromSmiles(sml))\n",
    "        csml2 = Chem.MolToSmiles(Chem.MolFromSmiles(osml))\n",
    "        same += [csml1 == csml2]\n",
    "    except:\n",
    "        continue\n",
    "print(np.asarray(same).sum()/len(same))"
   ]
  }
 ],
 "metadata": {
  "kernelspec": {
   "display_name": "Python 3 (ipykernel)",
   "language": "python",
   "name": "python3"
  },
  "language_info": {
   "codemirror_mode": {
    "name": "ipython",
    "version": 3
   },
   "file_extension": ".py",
   "mimetype": "text/x-python",
   "name": "python",
   "nbconvert_exporter": "python",
   "pygments_lexer": "ipython3",
   "version": "3.8.3"
  }
 },
 "nbformat": 4,
 "nbformat_minor": 5
}
