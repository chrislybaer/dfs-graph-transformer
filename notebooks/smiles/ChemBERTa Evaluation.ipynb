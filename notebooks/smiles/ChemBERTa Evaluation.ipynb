{
 "cells": [
  {
   "cell_type": "code",
   "execution_count": 39,
   "id": "2ede3eca",
   "metadata": {},
   "outputs": [],
   "source": [
    "from transformers import AutoModelWithLMHead, AutoTokenizer, pipeline, DataCollatorForLanguageModeling\n",
    "from torch.utils.data import Dataset, DataLoader\n",
    "import os\n",
    "from pathlib import Path\n",
    "import torch"
   ]
  },
  {
   "cell_type": "code",
   "execution_count": 56,
   "id": "5b9869a0",
   "metadata": {},
   "outputs": [
    {
     "name": "stderr",
     "output_type": "stream",
     "text": [
      "WARNING:root:No normalization for BCUT2D_MWHI\n",
      "WARNING:root:No normalization for BCUT2D_MWLOW\n",
      "WARNING:root:No normalization for BCUT2D_CHGHI\n",
      "WARNING:root:No normalization for BCUT2D_CHGLO\n",
      "WARNING:root:No normalization for BCUT2D_LOGPHI\n",
      "WARNING:root:No normalization for BCUT2D_LOGPLOW\n",
      "WARNING:root:No normalization for BCUT2D_MRHI\n",
      "WARNING:root:No normalization for BCUT2D_MRLOW\n"
     ]
    },
    {
     "name": "stdout",
     "output_type": "stream",
     "text": [
      "huggingface/tokenizers: The current process just got forked, after parallelism has already been used. Disabling parallelism to avoid deadlocks...\n",
      "To disable this warning, you can either:\n",
      "\t- Avoid using `tokenizers` before the fork if possible\n",
      "\t- Explicitly set the environment variable TOKENIZERS_PARALLELISM=(true | false)\n",
      "huggingface/tokenizers: The current process just got forked, after parallelism has already been used. Disabling parallelism to avoid deadlocks...\n",
      "To disable this warning, you can either:\n",
      "\t- Avoid using `tokenizers` before the fork if possible\n",
      "\t- Explicitly set the environment variable TOKENIZERS_PARALLELISM=(true | false)\n",
      "huggingface/tokenizers: The current process just got forked, after parallelism has already been used. Disabling parallelism to avoid deadlocks...\n",
      "To disable this warning, you can either:\n",
      "\t- Avoid using `tokenizers` before the fork if possible\n",
      "\t- Explicitly set the environment variable TOKENIZERS_PARALLELISM=(true | false)\n"
     ]
    },
    {
     "name": "stderr",
     "output_type": "stream",
     "text": [
      "Using backend: pytorch\n"
     ]
    }
   ],
   "source": [
    "import sys\n",
    "sys.path.append(\"../../src\")\n",
    "from dfs_transformer.utils.rdkit import isValid\n",
    "from rdkit import Chem\n",
    "import numpy as np"
   ]
  },
  {
   "cell_type": "code",
   "execution_count": 22,
   "id": "35eb058d",
   "metadata": {},
   "outputs": [
    {
     "name": "stderr",
     "output_type": "stream",
     "text": [
      "/home/chrisw/.cache/pypoetry/virtualenvs/graph-transformer-9jPERXQ--py3.8/lib/python3.8/site-packages/transformers/models/auto/modeling_auto.py:783: FutureWarning: The class `AutoModelWithLMHead` is deprecated and will be removed in a future version. Please use `AutoModelForCausalLM` for causal language models, `AutoModelForMaskedLM` for masked language models and `AutoModelForSeq2SeqLM` for encoder-decoder models.\n",
      "  warnings.warn(\n"
     ]
    }
   ],
   "source": [
    "\n",
    "#any model weights from the link above will work here\n",
    "model = AutoModelWithLMHead.from_pretrained(\"seyonec/ChemBERTA_PubChem1M_shard00_155k\")\n",
    "tokenizer = AutoTokenizer.from_pretrained(\"seyonec/ChemBERTA_PubChem1M_shard00_155k\")\n",
    "\n",
    "fill_mask = pipeline('fill-mask', model=model, tokenizer=tokenizer)"
   ]
  },
  {
   "cell_type": "code",
   "execution_count": 23,
   "id": "867ff5da",
   "metadata": {},
   "outputs": [],
   "source": [
    "data_collator = DataCollatorForLanguageModeling(tokenizer=tokenizer, mlm=True, mlm_probability=0.15)"
   ]
  },
  {
   "cell_type": "code",
   "execution_count": 35,
   "id": "6facc34f",
   "metadata": {},
   "outputs": [],
   "source": [
    "class RawTextDataset(Dataset):\n",
    "    \"\"\"\n",
    "    Custom Torch Dataset for tokenizing large (up to 100,000,000+ sequences) text corpuses,\n",
    "    by not loading the entire dataset into cache and using lazy loading from disk (using huggingface's\n",
    "    'NLP' library. See 'https://github.com/huggingface/nlp' for more details on the NLP package.\n",
    "    Examples\n",
    "    --------\n",
    "    >>> from raw_text_dataset import RawTextDataset\n",
    "    >>> dataset = RawTextDataset(tokenizer=tokenizer, file_path=\"shard_00_selfies.txt\", block_size=512)\n",
    "    Downloading: 100%\n",
    "    1.52k/1.52k [00:03<00:00, 447B/s]\n",
    "    Using custom data configuration default\n",
    "    Downloading and preparing dataset text/default-f719ef2eb3ab586b (download: Unknown size, generated: Unknown size, post-processed: Unknown sizetotal: Unknown size) to /root/.cache/huggingface/datasets/text/default-f719ef2eb3ab586b/0.0.0/3a79870d85f1982d6a2af884fde86a71c771747b4b161fd302d28ad22adf985b...\n",
    "    Dataset text downloaded and prepared to /root/.cache/huggingface/datasets/text/default-f719ef2eb3ab586b/0.0.0/3a79870d85f1982d6a2af884fde86a71c771747b4b161fd302d28ad22adf985b. Subsequent calls will reuse this data.\n",
    "    Loaded Dataset\n",
    "    Number of lines: 999988\n",
    "    Block size: 512\n",
    "    \"\"\"\n",
    "\n",
    "    def __init__(self, tokenizer, file_path: str, block_size: int):\n",
    "        super().__init__()\n",
    "        self.tokenizer = tokenizer\n",
    "        self.file_path = file_path\n",
    "        self.block_size = block_size\n",
    "\n",
    "        self.dataset = Path(\"/mnt/ssd/datasets/pubchemvalid.txt\").read_text(encoding=\"utf-8\").splitlines()\n",
    "        print(\"Loaded Dataset\")\n",
    "        self.len = len(self.dataset)\n",
    "        print(\"Number of lines: \" + str(self.len))\n",
    "        print(\"Block size: \" + str(self.block_size))\n",
    "\n",
    "    def __len__(self):\n",
    "        return self.len\n",
    "\n",
    "    def preprocess(self, feature_dict):\n",
    "        batch_encoding = self.tokenizer(\n",
    "            feature_dict,\n",
    "            add_special_tokens=True,\n",
    "            truncation=True,\n",
    "            max_length=self.block_size,\n",
    "        )\n",
    "        return torch.tensor(batch_encoding[\"input_ids\"])\n",
    "\n",
    "    def __getitem__(self, i):\n",
    "        line = self.dataset[i]\n",
    "        example = self.preprocess(line)\n",
    "        return example"
   ]
  },
  {
   "cell_type": "code",
   "execution_count": 36,
   "id": "7b5fc0e9",
   "metadata": {},
   "outputs": [
    {
     "name": "stdout",
     "output_type": "stream",
     "text": [
      "Loaded Dataset\n",
      "Number of lines: 9942\n",
      "Block size: 512\n"
     ]
    }
   ],
   "source": [
    "dataset = RawTextDataset(tokenizer=tokenizer, file_path='/mnt/ssd/datasets/pubchemvalid.txt', block_size=512)"
   ]
  },
  {
   "cell_type": "code",
   "execution_count": 37,
   "id": "0a87cf69",
   "metadata": {},
   "outputs": [],
   "source": [
    "dl = DataLoader(dataset, batch_size=16, collate_fn = data_collator)"
   ]
  },
  {
   "cell_type": "code",
   "execution_count": 51,
   "id": "a4d35431",
   "metadata": {},
   "outputs": [],
   "source": [
    "model = model.to('cuda:0')"
   ]
  },
  {
   "cell_type": "code",
   "execution_count": 58,
   "id": "4bb41bf1",
   "metadata": {},
   "outputs": [
    {
     "name": "stderr",
     "output_type": "stream",
     "text": [
      "100%|████████████████████████████████████████████████████████████████████████████████████████████████████████████████████████████████████████████████████████████████████████████| 622/622 [01:44<00:00,  5.94it/s]\n"
     ]
    }
   ],
   "source": [
    "import tqdm\n",
    "smiles = []\n",
    "for data in tqdm.tqdm(dl):\n",
    "    mask = data['labels']!=-100\n",
    "    pred = data['input_ids'].clone()\n",
    "    pred[mask] = model(data['input_ids'].to('cuda:0')).logits.cpu().argmax(dim=2)[mask]\n",
    "    smiles += tokenizer.batch_decode(pred, skip_special_tokens=True)"
   ]
  },
  {
   "cell_type": "code",
   "execution_count": 59,
   "id": "36653e48",
   "metadata": {},
   "outputs": [
    {
     "name": "stdout",
     "output_type": "stream",
     "text": [
      "0.9747535707101187\n"
     ]
    }
   ],
   "source": [
    "valid = np.asarray([isValid(Chem.MolFromSmiles(sml)) for sml in smiles])\n",
    "print(valid.sum()/len(valid))"
   ]
  },
  {
   "cell_type": "code",
   "execution_count": 60,
   "id": "4e1a9479",
   "metadata": {},
   "outputs": [],
   "source": [
    "orig_smiles = Path(\"/mnt/ssd/datasets/pubchemvalid.txt\").read_text(encoding=\"utf-8\").splitlines()"
   ]
  },
  {
   "cell_type": "code",
   "execution_count": 62,
   "id": "b68ab4cf",
   "metadata": {},
   "outputs": [
    {
     "name": "stderr",
     "output_type": "stream",
     "text": [
      "9942it [00:03, 2628.24it/s]"
     ]
    },
    {
     "name": "stdout",
     "output_type": "stream",
     "text": [
      "0.692085440099061\n"
     ]
    },
    {
     "name": "stderr",
     "output_type": "stream",
     "text": [
      "\n"
     ]
    }
   ],
   "source": [
    "same = []\n",
    "for sml, osml in tqdm.tqdm(zip(smiles, orig_smiles)):\n",
    "    try:\n",
    "        csml1 = Chem.MolToSmiles(Chem.MolFromSmiles(sml))\n",
    "        csml2 = Chem.MolToSmiles(Chem.MolFromSmiles(osml))\n",
    "        same += [csml1 == csml2]\n",
    "    except:\n",
    "        continue\n",
    "print(np.asarray(same).sum()/len(same))"
   ]
  }
 ],
 "metadata": {
  "kernelspec": {
   "display_name": "Python 3 (ipykernel)",
   "language": "python",
   "name": "python3"
  },
  "language_info": {
   "codemirror_mode": {
    "name": "ipython",
    "version": 3
   },
   "file_extension": ".py",
   "mimetype": "text/x-python",
   "name": "python",
   "nbconvert_exporter": "python",
   "pygments_lexer": "ipython3",
   "version": "3.8.3"
  }
 },
 "nbformat": 4,
 "nbformat_minor": 5
}
