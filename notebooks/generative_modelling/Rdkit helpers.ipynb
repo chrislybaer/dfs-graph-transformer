{
 "cells": [
  {
   "cell_type": "code",
   "execution_count": 11,
   "id": "19286b5c",
   "metadata": {},
   "outputs": [],
   "source": [
    "from rdkit import Chem\n",
    "from rdkit.Chem.rdchem import BondType as BT\n",
    "bond_types =  {0: BT.SINGLE, 1: BT.DOUBLE, 2: BT.AROMATIC, 3: BT.TRIPLE}"
   ]
  },
  {
   "cell_type": "code",
   "execution_count": 12,
   "id": "d4baec94",
   "metadata": {},
   "outputs": [],
   "source": [
    "def DFSCode2Graph(dfs_code):\n",
    "    edge_list = []\n",
    "    edge_labels = []\n",
    "    node_dict = {}\n",
    "    for etuple in dfs_code:\n",
    "        edge_list += [(etuple[0], etuple[1])]\n",
    "        edge_labels += [etuple[3]]\n",
    "        node_dict[etuple[0]] = etuple[2]\n",
    "        node_dict[etuple[1]] = etuple[4]\n",
    "    node_labels = [node_dict[idx] for idx in range(len(node_dict))]\n",
    "    return edge_list, node_labels, edge_labels"
   ]
  },
  {
   "cell_type": "code",
   "execution_count": 13,
   "id": "2b486525",
   "metadata": {},
   "outputs": [],
   "source": [
    "def Graph2Mol(edge_list, node_labels, edge_labels):\n",
    "    # create empty editable mol object\n",
    "    mol = Chem.RWMol()\n",
    "    # add atoms to mol and keep track of index\n",
    "    node_to_idx = {}\n",
    "    for node, atomic_num in enumerate(node_labels):\n",
    "        a=Chem.Atom(atomic_num)\n",
    "        idx = mol.AddAtom(a)\n",
    "        node_to_idx[node] = idx\n",
    "    \n",
    "    for (node_from, node_to), elabel in zip(edge_list, edge_labels):\n",
    "        if elabel in bond_types:\n",
    "            mol.AddBond(node_to_idx[node_from], node_to_idx[node_to], bond_types[elabel])\n",
    "            \n",
    "    # Convert RWMol to Mol object\n",
    "    mol = mol.GetMol()            \n",
    "    return mol"
   ]
  },
  {
   "cell_type": "code",
   "execution_count": 14,
   "id": "9207939f",
   "metadata": {},
   "outputs": [],
   "source": [
    "dfs_code = [[ 0,  1,  6,  0,  6], [ 1,  2,  6,  0,  7], [ 2,  3,  7,  0,  6],\n",
    " [ 3,  4,  6,  0,  6], [ 4,  5,  6,  2,  6], [ 5,  6,  6,  0,  6],\n",
    " [ 5,  7,  6,  2,  6], [ 7,  8,  6,  2,  6], [ 8,  9,  6,  0,  9],\n",
    " [ 8, 10,  6,  2,  6], [10, 11,  6,  2,  6], [11,  4,  6,  2,  6],\n",
    " [ 3, 12,  6,  1,  8], [ 2, 13,  7,  0,  6], [ 0, 14,  6,  2,  6],\n",
    " [14, 15,  6,  0,  6], [14, 16,  6,  2,  7], [16, 17,  7,  2,  6],\n",
    " [17, 18,  6,  2,  7], [18,  0,  7,  2,  6], [18, 19,  7,  2,  6],\n",
    " [19, 20,  6,  2,  6], [20, 21,  6,  0,  6], [20, 22,  6,  2, 16],\n",
    " [22, 17, 16,  2,  6]]"
   ]
  },
  {
   "cell_type": "code",
   "execution_count": 15,
   "id": "57ac3dec",
   "metadata": {},
   "outputs": [
    {
     "data": {
      "text/plain": [
       "'Cc1cn2c(CN(C)C(=O)c3ccc(F)cc3C)c(C)nc2s1'"
      ]
     },
     "execution_count": 15,
     "metadata": {},
     "output_type": "execute_result"
    }
   ],
   "source": [
    "Chem.MolToSmiles(Graph2Mol(*DFSCode2Graph(dfs_code)))"
   ]
  },
  {
   "cell_type": "code",
   "execution_count": null,
   "id": "8c92a8be",
   "metadata": {},
   "outputs": [],
   "source": []
  }
 ],
 "metadata": {
  "kernelspec": {
   "display_name": "Python 3 (ipykernel)",
   "language": "python",
   "name": "python3"
  },
  "language_info": {
   "codemirror_mode": {
    "name": "ipython",
    "version": 3
   },
   "file_extension": ".py",
   "mimetype": "text/x-python",
   "name": "python",
   "nbconvert_exporter": "python",
   "pygments_lexer": "ipython3",
   "version": "3.8.3"
  }
 },
 "nbformat": 4,
 "nbformat_minor": 5
}
