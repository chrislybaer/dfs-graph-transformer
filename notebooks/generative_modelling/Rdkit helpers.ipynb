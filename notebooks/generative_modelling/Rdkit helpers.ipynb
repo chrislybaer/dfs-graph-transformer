{
 "cells": [
  {
   "cell_type": "code",
   "execution_count": 1,
   "id": "45e53e53",
   "metadata": {},
   "outputs": [],
   "source": [
    "import sys\n",
    "sys.path.append('../../src')\n",
    "from rdkit import Chem\n",
    "from dfs_transformer.utils import DFSCode2Graph, Graph2Mol, isValid, Smiles2DFSCode, DFSCode2Smiles"
   ]
  },
  {
   "cell_type": "code",
   "execution_count": 2,
   "id": "15020b5c",
   "metadata": {},
   "outputs": [],
   "source": [
    "dfs_code1 = [[ 0,  1,  6,  0,  6], [ 1,  2,  6,  0,  7], [ 2,  3,  7,  0,  6],\n",
    " [ 3,  4,  6,  0,  6], [ 4,  5,  6,  2,  6], [ 5,  6,  6,  0,  6],\n",
    " [ 5,  7,  6,  2,  6], [ 7,  8,  6,  2,  6], [ 8,  9,  6,  0,  9],\n",
    " [ 8, 10,  6,  2,  6], [10, 11,  6,  2,  6], [11,  4,  6,  2,  6],\n",
    " [ 3, 12,  6,  1,  8], [ 2, 13,  7,  0,  6], [ 0, 14,  6,  2,  6],\n",
    " [14, 15,  6,  0,  6], [14, 16,  6,  2,  7], [16, 17,  7,  2,  6],\n",
    " [17, 18,  6,  2,  7], [18,  0,  7,  2,  6], [18, 19,  7,  2,  6],\n",
    " [19, 20,  6,  2,  6], [20, 21,  6,  0,  6], [20, 22,  6,  2, 16],\n",
    " [22, 17, 16,  2,  6]]\n",
    "\n",
    "dfs_code2 = [[ 0,  1,  6,  0,  6],[ 1,  2,  6,  0,  7],[ 2,  3,  7,  0,  6],\n",
    " [ 3,  4,  6,  0,  6],[ 4,  5,  6,  2,  6],[ 5,  6,  6,  0,  6],\n",
    " [ 5,  7,  6,  2,  6],[ 7,  8,  6,  2,  6],[ 8,  9,  6,  0,  9],\n",
    " [ 8, 10,  6,  2,  6],[10, 11,  6,  2,  6],[11,  4,  6,  2,  6], \n",
    " [ 3, 12,  6,  1,  8],[ 2, 13,  7,  0,  6],[ 0, 14,  6,  2,  6],\n",
    " [14, 15,  6,  0,  6],[14, 16,  6,  2,  7],[16, 17,  7,  2,  6],\n",
    " [17, 18,  6,  2,  7],[18,  0,  7,  2,  6],[18, 19,  7,  2,  6],\n",
    " [19, 20,  6,  0,  6],[19, 21,  6,  2,  6],[21, 22,  6,  2, 16],\n",
    " [22, 17, 16,  2,  6]]\n",
    "\n",
    "dfs_code3 = [[ 0,  1,  1,  0,  1],[ 1,  2,  1,  0,  1],[ 2,  3,  1,  0,  6],\n",
    " [ 3,  4,  6,  0,  6],[ 4,  5,  6,  2,  6],[ 5,  6,  6,  0,  6],\n",
    " [ 5,  7,  6,  2,  6],[ 7,  8,  6,  2,  6],[ 8,  9,  6,  0,  9],\n",
    " [ 8, 10,  6,  2,  6],[10, 11,  6,  2,  6],[11,  4,  6,  2,  6], \n",
    " [ 3, 12,  6,  1,  8],[ 2, 13,  7,  0,  6],[ 0, 14,  6,  2,  6],\n",
    " [14, 15,  6,  0,  6],[14, 16,  6,  2,  7],[16, 17,  7,  2,  6],\n",
    " [17, 18,  6,  2,  7],[18,  0,  7,  2,  6],[18, 19,  7,  2,  6],\n",
    " [19, 20,  6,  0,  6],[19, 21,  6,  2,  6],[21, 22,  6,  2, 16],\n",
    " [22, 17, 16,  2,  6]]\n"
   ]
  },
  {
   "cell_type": "code",
   "execution_count": 3,
   "id": "a46d6ee7",
   "metadata": {},
   "outputs": [
    {
     "data": {
      "text/plain": [
       "'Cc1cn2c(CN(C)C(=O)c3ccc(F)cc3C)c(C)nc2s1'"
      ]
     },
     "execution_count": 3,
     "metadata": {},
     "output_type": "execute_result"
    }
   ],
   "source": [
    "Chem.MolToSmiles(Graph2Mol(*DFSCode2Graph(dfs_code1)))"
   ]
  },
  {
   "cell_type": "code",
   "execution_count": 4,
   "id": "0a8b1a0e",
   "metadata": {},
   "outputs": [
    {
     "data": {
      "text/plain": [
       "'Cc1cc(F)ccc1C(=O)N(C)Cc1c(C)nc2scc(C)n12'"
      ]
     },
     "execution_count": 4,
     "metadata": {},
     "output_type": "execute_result"
    }
   ],
   "source": [
    "Chem.MolToSmiles(Graph2Mol(*DFSCode2Graph(dfs_code2)))"
   ]
  },
  {
   "cell_type": "code",
   "execution_count": 5,
   "id": "59b8f983",
   "metadata": {},
   "outputs": [
    {
     "data": {
      "text/plain": [
       "True"
      ]
     },
     "execution_count": 5,
     "metadata": {},
     "output_type": "execute_result"
    }
   ],
   "source": [
    "isValid(Graph2Mol(*DFSCode2Graph(dfs_code2)))"
   ]
  },
  {
   "cell_type": "code",
   "execution_count": 6,
   "id": "19015f63",
   "metadata": {},
   "outputs": [
    {
     "data": {
      "text/plain": [
       "False"
      ]
     },
     "execution_count": 6,
     "metadata": {},
     "output_type": "execute_result"
    }
   ],
   "source": [
    "isValid(Graph2Mol(*DFSCode2Graph(dfs_code3)))"
   ]
  },
  {
   "cell_type": "code",
   "execution_count": 7,
   "id": "18d87e39",
   "metadata": {},
   "outputs": [],
   "source": [
    "dfs_code4, _ = Smiles2DFSCode(Chem.MolToSmiles(Graph2Mol(*DFSCode2Graph(dfs_code2))))"
   ]
  },
  {
   "cell_type": "code",
   "execution_count": 8,
   "id": "5f07198f",
   "metadata": {},
   "outputs": [
    {
     "data": {
      "text/plain": [
       "'Cc1cc(F)ccc1C(=O)N(C)Cc1c(C)nc2scc(C)n12'"
      ]
     },
     "execution_count": 8,
     "metadata": {},
     "output_type": "execute_result"
    }
   ],
   "source": [
    "DFSCode2Smiles(dfs_code4)"
   ]
  },
  {
   "cell_type": "code",
   "execution_count": null,
   "id": "876ae4b4",
   "metadata": {},
   "outputs": [],
   "source": []
  },
  {
   "cell_type": "code",
   "execution_count": null,
   "id": "4c0ee16e",
   "metadata": {},
   "outputs": [],
   "source": []
  }
 ],
 "metadata": {
  "kernelspec": {
   "display_name": "Python 3 (ipykernel)",
   "language": "python",
   "name": "python3"
  },
  "language_info": {
   "codemirror_mode": {
    "name": "ipython",
    "version": 3
   },
   "file_extension": ".py",
   "mimetype": "text/x-python",
   "name": "python",
   "nbconvert_exporter": "python",
   "pygments_lexer": "ipython3",
   "version": "3.9.13"
  }
 },
 "nbformat": 4,
 "nbformat_minor": 5
}
