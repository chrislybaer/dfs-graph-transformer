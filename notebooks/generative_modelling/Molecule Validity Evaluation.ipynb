{
 "cells": [
  {
   "cell_type": "code",
   "execution_count": 1,
   "id": "45e53e53",
   "metadata": {},
   "outputs": [
    {
     "name": "stderr",
     "output_type": "stream",
     "text": [
      "WARNING:root:No normalization for BCUT2D_MWHI\n",
      "WARNING:root:No normalization for BCUT2D_MWLOW\n",
      "WARNING:root:No normalization for BCUT2D_CHGHI\n",
      "WARNING:root:No normalization for BCUT2D_CHGLO\n",
      "WARNING:root:No normalization for BCUT2D_LOGPHI\n",
      "WARNING:root:No normalization for BCUT2D_LOGPLOW\n",
      "WARNING:root:No normalization for BCUT2D_MRHI\n",
      "WARNING:root:No normalization for BCUT2D_MRLOW\n",
      "Using backend: pytorch\n"
     ]
    }
   ],
   "source": [
    "%load_ext autoreload\n",
    "%autoreload 2\n",
    "import sys\n",
    "sys.path.append('../../src')\n",
    "from rdkit import Chem\n",
    "from dfs_transformer.utils import Mol2Smiles, DFSCode2Graph, Graph2Mol, isValid, Smiles2DFSCode, DFSCode2Smiles, isValidMoleculeDFSCode\n",
    "from dfs_transformer.utils import load_selfattn_wandb, load_selfattn_local\n",
    "import os.path\n",
    "import torch\n",
    "import torch.nn as nn\n",
    "from torch.utils.data import DataLoader\n",
    "import dfs_transformer as dfs\n",
    "import numpy as np\n",
    "from ml_collections import ConfigDict\n",
    "import yaml\n",
    "import functools\n",
    "import tqdm"
   ]
  },
  {
   "cell_type": "code",
   "execution_count": 2,
   "id": "876ae4b4",
   "metadata": {},
   "outputs": [],
   "source": [
    "#pretrained_model = \"r2r-nofeat-entrywise-10K\"\n",
    "pretrained_model = \"r2r-2K\"\n",
    "force_download = False\n",
    "if os.path.isdir(\"../../wandb/artifacts/%s\"%pretrained_model) and not force_download:\n",
    "    bert, cfg = load_selfattn_local(\"../../wandb/artifacts/%s\"%pretrained_model)\n",
    "else:\n",
    "    bert, cfg = load_selfattn_wandb(pretrained_model, wandb_dir=\"../../wandb\")"
   ]
  },
  {
   "cell_type": "code",
   "execution_count": 3,
   "id": "853dba1b",
   "metadata": {},
   "outputs": [],
   "source": [
    "bert = bert.eval()"
   ]
  },
  {
   "cell_type": "code",
   "execution_count": 4,
   "id": "6ece0d47",
   "metadata": {},
   "outputs": [],
   "source": [
    "with open(\"../../config/selfattn/data/pubchem10K.yaml\") as file:\n",
    "    d = ConfigDict(yaml.load(file, Loader=yaml.FullLoader))"
   ]
  },
  {
   "cell_type": "code",
   "execution_count": 5,
   "id": "ff95e7e0",
   "metadata": {},
   "outputs": [
    {
     "data": {
      "text/plain": [
       "max_edges: 110\n",
       "max_nodes: 110\n",
       "molecular_properties: null\n",
       "n_iter_per_split: 10\n",
       "n_used: null\n",
       "path: ./results/pubchem/noH/10K/\n",
       "useDists: false\n",
       "useHs: false\n",
       "valid_path: ./results/pubchem/noH/validation/"
      ]
     },
     "execution_count": 5,
     "metadata": {},
     "output_type": "execute_result"
    }
   ],
   "source": [
    "d"
   ]
  },
  {
   "cell_type": "code",
   "execution_count": 6,
   "id": "15b95515",
   "metadata": {},
   "outputs": [],
   "source": [
    "d.no_features = cfg.data.no_features"
   ]
  },
  {
   "cell_type": "code",
   "execution_count": 7,
   "id": "ea0ad761",
   "metadata": {},
   "outputs": [],
   "source": [
    "if cfg.training.mode == \"rnd2rnd\":\n",
    "    collate_fn = functools.partial(dfs.collate_BERT, \n",
    "                                   mode=cfg.training.mode, \n",
    "                                   fraction_missing = cfg.training.fraction_missing,\n",
    "                                   use_loops=cfg.model.use_loops)\n",
    "elif cfg.training.mode == \"rnd2rnd_entry\":\n",
    "    collate_fn = functools.partial(dfs.collate_BERT_entries, \n",
    "                                   mode=\"rnd2rnd\", \n",
    "                                   fraction_missing = cfg.training.fraction_missing,\n",
    "                                   use_loops=cfg.model.use_loops)"
   ]
  },
  {
   "cell_type": "code",
   "execution_count": 8,
   "id": "4c0ee16e",
   "metadata": {},
   "outputs": [
    {
     "name": "stderr",
     "output_type": "stream",
     "text": [
      "100%|███████████████████████████████████████████| 10/10 [00:00<00:00, 12.15it/s]\n",
      "100%|████████████████████████████████████| 9978/9978 [00:00<00:00, 10788.77it/s]\n"
     ]
    }
   ],
   "source": [
    "validset = dfs.PubChem('../.'+d.valid_path, max_nodes=d.max_nodes, max_edges=d.max_edges, noFeatures=d.no_features,\n",
    "                   molecular_properties=d.molecular_properties, useDists=d.useDists, useHs=d.useHs)\n",
    "validloader = DataLoader(validset, batch_size=100, shuffle=False, \n",
    "                         pin_memory=True, collate_fn=collate_fn, num_workers=0,\n",
    "                         prefetch_factor=2)"
   ]
  },
  {
   "cell_type": "code",
   "execution_count": 9,
   "id": "2dfd9f0a",
   "metadata": {},
   "outputs": [],
   "source": [
    "device = torch.device('cuda:%d'%0 if torch.cuda.is_available() else 'cpu')\n",
    "to_cuda = functools.partial(dfs.utils_to_cuda, device=device)"
   ]
  },
  {
   "cell_type": "code",
   "execution_count": 10,
   "id": "82cb288f",
   "metadata": {},
   "outputs": [],
   "source": [
    "bert = bert.to(device)"
   ]
  },
  {
   "cell_type": "code",
   "execution_count": 11,
   "id": "e6601e2a",
   "metadata": {},
   "outputs": [],
   "source": [
    "data = next(iter(validloader))"
   ]
  },
  {
   "cell_type": "code",
   "execution_count": 12,
   "id": "86f5a4c2",
   "metadata": {},
   "outputs": [
    {
     "data": {
      "text/plain": [
       "torch.Size([55, 100])"
      ]
     },
     "execution_count": 12,
     "metadata": {},
     "output_type": "execute_result"
    }
   ],
   "source": [
    "data[0]['dfs_from'].shape"
   ]
  },
  {
   "cell_type": "code",
   "execution_count": 13,
   "id": "39b02105",
   "metadata": {},
   "outputs": [
    {
     "data": {
      "text/plain": [
       "torch.Size([55, 100, 8])"
      ]
     },
     "execution_count": 13,
     "metadata": {},
     "output_type": "execute_result"
    }
   ],
   "source": [
    "data[1].shape"
   ]
  },
  {
   "cell_type": "code",
   "execution_count": 14,
   "id": "9a6da465",
   "metadata": {},
   "outputs": [
    {
     "name": "stderr",
     "output_type": "stream",
     "text": [
      "  1%|▍                                          | 1/100 [00:00<00:16,  5.99it/s]"
     ]
    },
    {
     "name": "stdout",
     "output_type": "stream",
     "text": [
      "==============\n",
      "tensor(276, device='cuda:0')\n",
      "tensor(276, device='cuda:0')\n",
      "tensor(276, device='cuda:0')\n",
      "tensor(276, device='cuda:0')\n",
      "tensor(276, device='cuda:0')\n",
      "--------------\n",
      "==============\n",
      "tensor(358, device='cuda:0')\n",
      "tensor(358, device='cuda:0')\n",
      "tensor(358, device='cuda:0')\n",
      "tensor(358, device='cuda:0')\n",
      "tensor(358, device='cuda:0')\n",
      "--------------\n",
      "==============\n",
      "tensor(267, device='cuda:0')\n",
      "tensor(267, device='cuda:0')\n",
      "tensor(267, device='cuda:0')\n",
      "tensor(267, device='cuda:0')\n",
      "tensor(267, device='cuda:0')\n",
      "--------------\n",
      "==============\n",
      "tensor(347, device='cuda:0')\n",
      "tensor(347, device='cuda:0')\n",
      "tensor(347, device='cuda:0')\n",
      "tensor(347, device='cuda:0')\n",
      "tensor(347, device='cuda:0')\n",
      "--------------\n"
     ]
    },
    {
     "name": "stderr",
     "output_type": "stream",
     "text": [
      "  3%|█▎                                         | 3/100 [00:00<00:16,  5.93it/s]"
     ]
    },
    {
     "name": "stdout",
     "output_type": "stream",
     "text": [
      "==============\n",
      "tensor(290, device='cuda:0')\n",
      "tensor(290, device='cuda:0')\n",
      "tensor(290, device='cuda:0')\n",
      "tensor(290, device='cuda:0')\n",
      "tensor(290, device='cuda:0')\n",
      "--------------\n",
      "==============\n",
      "tensor(372, device='cuda:0')\n",
      "tensor(372, device='cuda:0')\n",
      "tensor(372, device='cuda:0')\n",
      "tensor(372, device='cuda:0')\n",
      "tensor(372, device='cuda:0')\n",
      "--------------\n",
      "==============\n",
      "tensor(251, device='cuda:0')\n",
      "tensor(251, device='cuda:0')\n",
      "tensor(251, device='cuda:0')\n",
      "tensor(251, device='cuda:0')\n",
      "tensor(251, device='cuda:0')\n",
      "--------------\n",
      "==============\n",
      "tensor(333, device='cuda:0')\n",
      "tensor(333, device='cuda:0')\n",
      "tensor(333, device='cuda:0')\n",
      "tensor(333, device='cuda:0')\n",
      "tensor(333, device='cuda:0')\n",
      "--------------\n"
     ]
    },
    {
     "name": "stderr",
     "output_type": "stream",
     "text": [
      "  5%|██▏                                        | 5/100 [00:00<00:15,  6.26it/s]"
     ]
    },
    {
     "name": "stdout",
     "output_type": "stream",
     "text": [
      "==============\n",
      "tensor(271, device='cuda:0')\n",
      "tensor(271, device='cuda:0')\n",
      "tensor(271, device='cuda:0')\n",
      "tensor(271, device='cuda:0')\n",
      "tensor(271, device='cuda:0')\n",
      "--------------\n",
      "==============\n",
      "tensor(345, device='cuda:0')\n",
      "tensor(345, device='cuda:0')\n",
      "tensor(345, device='cuda:0')\n",
      "tensor(345, device='cuda:0')\n",
      "tensor(345, device='cuda:0')\n",
      "--------------\n",
      "==============\n",
      "tensor(265, device='cuda:0')\n",
      "tensor(265, device='cuda:0')\n",
      "tensor(265, device='cuda:0')\n",
      "tensor(265, device='cuda:0')\n",
      "tensor(265, device='cuda:0')\n",
      "--------------\n",
      "==============\n",
      "tensor(345, device='cuda:0')\n",
      "tensor(345, device='cuda:0')\n",
      "tensor(345, device='cuda:0')\n",
      "tensor(345, device='cuda:0')\n",
      "tensor(345, device='cuda:0')\n",
      "--------------\n"
     ]
    },
    {
     "name": "stderr",
     "output_type": "stream",
     "text": [
      "  7%|███                                        | 7/100 [00:01<00:14,  6.52it/s]"
     ]
    },
    {
     "name": "stdout",
     "output_type": "stream",
     "text": [
      "==============\n",
      "tensor(278, device='cuda:0')\n",
      "tensor(278, device='cuda:0')\n",
      "tensor(278, device='cuda:0')\n",
      "tensor(278, device='cuda:0')\n",
      "tensor(278, device='cuda:0')\n",
      "--------------\n",
      "==============\n",
      "tensor(350, device='cuda:0')\n",
      "tensor(350, device='cuda:0')\n",
      "tensor(350, device='cuda:0')\n",
      "tensor(350, device='cuda:0')\n",
      "tensor(350, device='cuda:0')\n",
      "--------------\n",
      "==============\n",
      "tensor(263, device='cuda:0')\n",
      "tensor(263, device='cuda:0')\n",
      "tensor(263, device='cuda:0')\n",
      "tensor(263, device='cuda:0')\n",
      "tensor(263, device='cuda:0')\n",
      "--------------\n",
      "==============\n",
      "tensor(341, device='cuda:0')\n",
      "tensor(341, device='cuda:0')\n",
      "tensor(341, device='cuda:0')\n",
      "tensor(341, device='cuda:0')\n",
      "tensor(341, device='cuda:0')\n",
      "--------------\n"
     ]
    },
    {
     "name": "stderr",
     "output_type": "stream",
     "text": [
      "  9%|███▊                                       | 9/100 [00:01<00:13,  6.61it/s]"
     ]
    },
    {
     "name": "stdout",
     "output_type": "stream",
     "text": [
      "==============\n",
      "tensor(259, device='cuda:0')\n",
      "tensor(259, device='cuda:0')\n",
      "tensor(259, device='cuda:0')\n",
      "tensor(259, device='cuda:0')\n",
      "tensor(259, device='cuda:0')\n",
      "--------------\n",
      "==============\n",
      "tensor(335, device='cuda:0')\n",
      "tensor(335, device='cuda:0')\n",
      "tensor(335, device='cuda:0')\n",
      "tensor(335, device='cuda:0')\n",
      "tensor(335, device='cuda:0')\n",
      "--------------\n",
      "==============\n",
      "tensor(264, device='cuda:0')\n",
      "tensor(264, device='cuda:0')\n",
      "tensor(264, device='cuda:0')\n",
      "tensor(264, device='cuda:0')\n",
      "tensor(264, device='cuda:0')\n",
      "--------------\n",
      "==============\n",
      "tensor(340, device='cuda:0')\n",
      "tensor(340, device='cuda:0')\n",
      "tensor(340, device='cuda:0')\n",
      "tensor(340, device='cuda:0')\n",
      "tensor(340, device='cuda:0')\n",
      "--------------\n"
     ]
    },
    {
     "name": "stderr",
     "output_type": "stream",
     "text": [
      " 11%|████▌                                     | 11/100 [00:01<00:14,  6.33it/s]"
     ]
    },
    {
     "name": "stdout",
     "output_type": "stream",
     "text": [
      "==============\n",
      "tensor(268, device='cuda:0')\n",
      "tensor(268, device='cuda:0')\n",
      "tensor(268, device='cuda:0')\n",
      "tensor(268, device='cuda:0')\n",
      "tensor(268, device='cuda:0')\n",
      "--------------\n",
      "==============\n",
      "tensor(348, device='cuda:0')\n",
      "tensor(348, device='cuda:0')\n",
      "tensor(348, device='cuda:0')\n",
      "tensor(348, device='cuda:0')\n",
      "tensor(348, device='cuda:0')\n",
      "--------------\n",
      "==============\n",
      "tensor(267, device='cuda:0')\n",
      "tensor(267, device='cuda:0')\n",
      "tensor(267, device='cuda:0')\n",
      "tensor(267, device='cuda:0')\n",
      "tensor(267, device='cuda:0')\n",
      "--------------\n",
      "==============\n",
      "tensor(350, device='cuda:0')\n",
      "tensor(350, device='cuda:0')\n",
      "tensor(350, device='cuda:0')\n",
      "tensor(350, device='cuda:0')\n",
      "tensor(350, device='cuda:0')\n",
      "--------------\n"
     ]
    },
    {
     "name": "stderr",
     "output_type": "stream",
     "text": [
      " 13%|█████▍                                    | 13/100 [00:02<00:13,  6.34it/s]"
     ]
    },
    {
     "name": "stdout",
     "output_type": "stream",
     "text": [
      "==============\n",
      "tensor(248, device='cuda:0')\n",
      "tensor(248, device='cuda:0')\n",
      "tensor(248, device='cuda:0')\n",
      "tensor(248, device='cuda:0')\n",
      "tensor(248, device='cuda:0')\n",
      "--------------\n",
      "==============\n",
      "tensor(317, device='cuda:0')\n",
      "tensor(317, device='cuda:0')\n",
      "tensor(317, device='cuda:0')\n",
      "tensor(317, device='cuda:0')\n",
      "tensor(317, device='cuda:0')\n",
      "--------------\n",
      "==============\n",
      "tensor(279, device='cuda:0')\n",
      "tensor(279, device='cuda:0')\n",
      "tensor(279, device='cuda:0')\n",
      "tensor(279, device='cuda:0')\n",
      "tensor(279, device='cuda:0')\n",
      "--------------\n",
      "==============\n",
      "tensor(360, device='cuda:0')\n",
      "tensor(360, device='cuda:0')\n",
      "tensor(360, device='cuda:0')\n",
      "tensor(360, device='cuda:0')\n",
      "tensor(360, device='cuda:0')\n",
      "--------------\n"
     ]
    },
    {
     "name": "stderr",
     "output_type": "stream",
     "text": [
      " 15%|██████▎                                   | 15/100 [00:02<00:14,  5.98it/s]"
     ]
    },
    {
     "name": "stdout",
     "output_type": "stream",
     "text": [
      "==============\n",
      "tensor(295, device='cuda:0')\n",
      "tensor(295, device='cuda:0')\n",
      "tensor(295, device='cuda:0')\n",
      "tensor(295, device='cuda:0')\n",
      "tensor(295, device='cuda:0')\n",
      "--------------\n",
      "==============\n",
      "tensor(378, device='cuda:0')\n",
      "tensor(378, device='cuda:0')\n",
      "tensor(378, device='cuda:0')\n",
      "tensor(378, device='cuda:0')\n",
      "tensor(378, device='cuda:0')\n",
      "--------------\n",
      "==============\n",
      "tensor(269, device='cuda:0')\n",
      "tensor(269, device='cuda:0')\n",
      "tensor(269, device='cuda:0')\n",
      "tensor(269, device='cuda:0')\n",
      "tensor(269, device='cuda:0')\n",
      "--------------\n",
      "==============\n",
      "tensor(358, device='cuda:0')\n",
      "tensor(358, device='cuda:0')\n",
      "tensor(358, device='cuda:0')\n",
      "tensor(358, device='cuda:0')\n",
      "tensor(358, device='cuda:0')\n",
      "--------------\n"
     ]
    },
    {
     "name": "stderr",
     "output_type": "stream",
     "text": [
      " 17%|███████▏                                  | 17/100 [00:02<00:14,  5.63it/s]"
     ]
    },
    {
     "name": "stdout",
     "output_type": "stream",
     "text": [
      "==============\n",
      "tensor(271, device='cuda:0')\n",
      "tensor(271, device='cuda:0')\n",
      "tensor(271, device='cuda:0')\n",
      "tensor(271, device='cuda:0')\n",
      "tensor(271, device='cuda:0')\n",
      "--------------\n",
      "==============\n",
      "tensor(353, device='cuda:0')\n",
      "tensor(353, device='cuda:0')\n",
      "tensor(353, device='cuda:0')\n",
      "tensor(353, device='cuda:0')\n",
      "tensor(353, device='cuda:0')\n",
      "--------------\n",
      "==============\n",
      "tensor(294, device='cuda:0')\n",
      "tensor(294, device='cuda:0')\n",
      "tensor(294, device='cuda:0')\n",
      "tensor(294, device='cuda:0')\n",
      "tensor(294, device='cuda:0')\n",
      "--------------\n",
      "==============\n",
      "tensor(379, device='cuda:0')\n",
      "tensor(379, device='cuda:0')\n",
      "tensor(379, device='cuda:0')\n",
      "tensor(379, device='cuda:0')\n",
      "tensor(379, device='cuda:0')\n",
      "--------------\n"
     ]
    },
    {
     "name": "stderr",
     "output_type": "stream",
     "text": [
      " 19%|███████▉                                  | 19/100 [00:03<00:19,  4.16it/s]"
     ]
    },
    {
     "name": "stdout",
     "output_type": "stream",
     "text": [
      "==============\n",
      "tensor(271, device='cuda:0')\n",
      "tensor(271, device='cuda:0')\n",
      "tensor(271, device='cuda:0')\n",
      "tensor(271, device='cuda:0')\n",
      "tensor(271, device='cuda:0')\n",
      "--------------\n",
      "==============\n",
      "tensor(352, device='cuda:0')\n",
      "tensor(352, device='cuda:0')\n",
      "tensor(352, device='cuda:0')\n",
      "tensor(352, device='cuda:0')\n",
      "tensor(352, device='cuda:0')\n",
      "--------------\n",
      "==============\n",
      "tensor(282, device='cuda:0')\n",
      "tensor(282, device='cuda:0')\n",
      "tensor(282, device='cuda:0')\n",
      "tensor(282, device='cuda:0')\n",
      "tensor(282, device='cuda:0')\n",
      "--------------\n",
      "==============\n",
      "tensor(367, device='cuda:0')\n",
      "tensor(367, device='cuda:0')\n",
      "tensor(367, device='cuda:0')\n",
      "tensor(367, device='cuda:0')\n",
      "tensor(367, device='cuda:0')\n",
      "--------------\n"
     ]
    },
    {
     "name": "stderr",
     "output_type": "stream",
     "text": [
      " 21%|████████▊                                 | 21/100 [00:03<00:16,  4.82it/s]"
     ]
    },
    {
     "name": "stdout",
     "output_type": "stream",
     "text": [
      "==============\n",
      "tensor(275, device='cuda:0')\n",
      "tensor(275, device='cuda:0')\n",
      "tensor(275, device='cuda:0')\n",
      "tensor(275, device='cuda:0')\n",
      "tensor(275, device='cuda:0')\n",
      "--------------\n",
      "==============\n",
      "tensor(365, device='cuda:0')\n",
      "tensor(365, device='cuda:0')\n",
      "tensor(365, device='cuda:0')\n",
      "tensor(365, device='cuda:0')\n",
      "tensor(365, device='cuda:0')\n",
      "--------------\n",
      "==============\n",
      "tensor(275, device='cuda:0')\n",
      "tensor(275, device='cuda:0')\n",
      "tensor(275, device='cuda:0')\n",
      "tensor(275, device='cuda:0')\n",
      "tensor(275, device='cuda:0')\n",
      "--------------\n",
      "==============\n",
      "tensor(349, device='cuda:0')\n",
      "tensor(349, device='cuda:0')\n",
      "tensor(349, device='cuda:0')\n",
      "tensor(349, device='cuda:0')\n",
      "tensor(349, device='cuda:0')\n",
      "--------------\n"
     ]
    },
    {
     "name": "stderr",
     "output_type": "stream",
     "text": [
      " 23%|█████████▋                                | 23/100 [00:04<00:13,  5.52it/s]"
     ]
    },
    {
     "name": "stdout",
     "output_type": "stream",
     "text": [
      "==============\n",
      "tensor(268, device='cuda:0')\n",
      "tensor(268, device='cuda:0')\n",
      "tensor(268, device='cuda:0')\n",
      "tensor(268, device='cuda:0')\n",
      "tensor(268, device='cuda:0')\n",
      "--------------\n",
      "==============\n",
      "tensor(353, device='cuda:0')\n",
      "tensor(353, device='cuda:0')\n",
      "tensor(353, device='cuda:0')\n",
      "tensor(353, device='cuda:0')\n",
      "tensor(353, device='cuda:0')\n",
      "--------------\n",
      "==============\n",
      "tensor(296, device='cuda:0')\n",
      "tensor(296, device='cuda:0')\n",
      "tensor(296, device='cuda:0')\n",
      "tensor(296, device='cuda:0')\n",
      "tensor(296, device='cuda:0')\n",
      "--------------\n",
      "==============\n",
      "tensor(375, device='cuda:0')\n",
      "tensor(375, device='cuda:0')\n",
      "tensor(375, device='cuda:0')\n",
      "tensor(375, device='cuda:0')\n",
      "tensor(375, device='cuda:0')\n",
      "--------------\n"
     ]
    },
    {
     "name": "stderr",
     "output_type": "stream",
     "text": [
      " 25%|██████████▌                               | 25/100 [00:04<00:13,  5.74it/s]"
     ]
    },
    {
     "name": "stdout",
     "output_type": "stream",
     "text": [
      "==============\n",
      "tensor(272, device='cuda:0')\n",
      "tensor(272, device='cuda:0')\n",
      "tensor(272, device='cuda:0')\n",
      "tensor(272, device='cuda:0')\n",
      "tensor(272, device='cuda:0')\n",
      "--------------\n",
      "==============\n",
      "tensor(351, device='cuda:0')\n",
      "tensor(351, device='cuda:0')\n",
      "tensor(351, device='cuda:0')\n",
      "tensor(351, device='cuda:0')\n",
      "tensor(351, device='cuda:0')\n",
      "--------------\n",
      "==============\n",
      "tensor(284, device='cuda:0')\n",
      "tensor(284, device='cuda:0')\n",
      "tensor(284, device='cuda:0')\n",
      "tensor(284, device='cuda:0')\n",
      "tensor(284, device='cuda:0')\n",
      "--------------\n",
      "==============\n",
      "tensor(378, device='cuda:0')\n",
      "tensor(378, device='cuda:0')\n",
      "tensor(378, device='cuda:0')\n",
      "tensor(378, device='cuda:0')\n",
      "tensor(378, device='cuda:0')\n",
      "--------------\n"
     ]
    },
    {
     "name": "stderr",
     "output_type": "stream",
     "text": [
      " 27%|███████████▎                              | 27/100 [00:04<00:11,  6.19it/s]"
     ]
    },
    {
     "name": "stdout",
     "output_type": "stream",
     "text": [
      "==============\n",
      "tensor(264, device='cuda:0')\n",
      "tensor(264, device='cuda:0')\n",
      "tensor(264, device='cuda:0')\n",
      "tensor(264, device='cuda:0')\n",
      "tensor(264, device='cuda:0')\n",
      "--------------\n",
      "==============\n",
      "tensor(342, device='cuda:0')\n",
      "tensor(342, device='cuda:0')\n",
      "tensor(342, device='cuda:0')\n",
      "tensor(342, device='cuda:0')\n",
      "tensor(342, device='cuda:0')\n",
      "--------------\n",
      "==============\n",
      "tensor(244, device='cuda:0')\n",
      "tensor(244, device='cuda:0')\n",
      "tensor(244, device='cuda:0')\n",
      "tensor(244, device='cuda:0')\n",
      "tensor(244, device='cuda:0')\n",
      "--------------\n",
      "==============\n",
      "tensor(320, device='cuda:0')\n",
      "tensor(320, device='cuda:0')\n",
      "tensor(320, device='cuda:0')\n",
      "tensor(320, device='cuda:0')\n",
      "tensor(320, device='cuda:0')\n",
      "--------------\n"
     ]
    },
    {
     "name": "stderr",
     "output_type": "stream",
     "text": [
      " 29%|████████████▏                             | 29/100 [00:05<00:10,  6.65it/s]"
     ]
    },
    {
     "name": "stdout",
     "output_type": "stream",
     "text": [
      "==============\n",
      "tensor(269, device='cuda:0')\n",
      "tensor(269, device='cuda:0')\n",
      "tensor(269, device='cuda:0')\n",
      "tensor(269, device='cuda:0')\n",
      "tensor(269, device='cuda:0')\n",
      "--------------\n",
      "==============\n",
      "tensor(354, device='cuda:0')\n",
      "tensor(354, device='cuda:0')\n",
      "tensor(354, device='cuda:0')\n",
      "tensor(354, device='cuda:0')\n",
      "tensor(354, device='cuda:0')\n",
      "--------------\n",
      "==============\n",
      "tensor(267, device='cuda:0')\n",
      "tensor(267, device='cuda:0')\n",
      "tensor(267, device='cuda:0')\n",
      "tensor(267, device='cuda:0')\n",
      "tensor(267, device='cuda:0')\n",
      "--------------\n",
      "==============\n",
      "tensor(355, device='cuda:0')\n",
      "tensor(355, device='cuda:0')\n",
      "tensor(355, device='cuda:0')\n",
      "tensor(355, device='cuda:0')\n",
      "tensor(355, device='cuda:0')\n",
      "--------------\n"
     ]
    },
    {
     "name": "stderr",
     "output_type": "stream",
     "text": [
      " 31%|█████████████                             | 31/100 [00:05<00:10,  6.41it/s]"
     ]
    },
    {
     "name": "stdout",
     "output_type": "stream",
     "text": [
      "==============\n",
      "tensor(281, device='cuda:0')\n",
      "tensor(281, device='cuda:0')\n",
      "tensor(281, device='cuda:0')\n",
      "tensor(281, device='cuda:0')\n",
      "tensor(281, device='cuda:0')\n",
      "--------------\n",
      "==============\n",
      "tensor(364, device='cuda:0')\n",
      "tensor(364, device='cuda:0')\n",
      "tensor(364, device='cuda:0')\n",
      "tensor(364, device='cuda:0')\n",
      "tensor(364, device='cuda:0')\n",
      "--------------\n",
      "==============\n",
      "tensor(275, device='cuda:0')\n",
      "tensor(275, device='cuda:0')\n",
      "tensor(275, device='cuda:0')\n",
      "tensor(275, device='cuda:0')\n",
      "tensor(275, device='cuda:0')\n",
      "--------------\n",
      "==============\n",
      "tensor(356, device='cuda:0')\n",
      "tensor(356, device='cuda:0')\n",
      "tensor(356, device='cuda:0')\n",
      "tensor(356, device='cuda:0')\n",
      "tensor(356, device='cuda:0')\n",
      "--------------\n"
     ]
    },
    {
     "name": "stderr",
     "output_type": "stream",
     "text": [
      " 33%|█████████████▊                            | 33/100 [00:05<00:10,  6.68it/s]"
     ]
    },
    {
     "name": "stdout",
     "output_type": "stream",
     "text": [
      "==============\n",
      "tensor(263, device='cuda:0')\n",
      "tensor(263, device='cuda:0')\n",
      "tensor(263, device='cuda:0')\n",
      "tensor(263, device='cuda:0')\n",
      "tensor(263, device='cuda:0')\n",
      "--------------\n",
      "==============\n",
      "tensor(343, device='cuda:0')\n",
      "tensor(343, device='cuda:0')\n",
      "tensor(343, device='cuda:0')\n",
      "tensor(343, device='cuda:0')\n",
      "tensor(343, device='cuda:0')\n",
      "--------------\n",
      "==============\n",
      "tensor(273, device='cuda:0')\n",
      "tensor(273, device='cuda:0')\n",
      "tensor(273, device='cuda:0')\n",
      "tensor(273, device='cuda:0')\n",
      "tensor(273, device='cuda:0')\n",
      "--------------\n",
      "==============\n",
      "tensor(351, device='cuda:0')\n",
      "tensor(351, device='cuda:0')\n",
      "tensor(351, device='cuda:0')\n",
      "tensor(351, device='cuda:0')\n",
      "tensor(351, device='cuda:0')\n",
      "--------------\n"
     ]
    },
    {
     "name": "stderr",
     "output_type": "stream",
     "text": [
      " 35%|██████████████▋                           | 35/100 [00:05<00:09,  6.70it/s]"
     ]
    },
    {
     "name": "stdout",
     "output_type": "stream",
     "text": [
      "==============\n",
      "tensor(272, device='cuda:0')\n",
      "tensor(272, device='cuda:0')\n",
      "tensor(272, device='cuda:0')\n",
      "tensor(272, device='cuda:0')\n",
      "tensor(272, device='cuda:0')\n",
      "--------------\n",
      "==============\n",
      "tensor(357, device='cuda:0')\n",
      "tensor(357, device='cuda:0')\n",
      "tensor(357, device='cuda:0')\n",
      "tensor(357, device='cuda:0')\n",
      "tensor(357, device='cuda:0')\n",
      "--------------\n",
      "==============\n",
      "tensor(280, device='cuda:0')\n",
      "tensor(280, device='cuda:0')\n",
      "tensor(280, device='cuda:0')\n",
      "tensor(280, device='cuda:0')\n",
      "tensor(280, device='cuda:0')\n",
      "--------------\n",
      "==============\n",
      "tensor(370, device='cuda:0')\n",
      "tensor(370, device='cuda:0')\n",
      "tensor(370, device='cuda:0')\n",
      "tensor(370, device='cuda:0')\n",
      "tensor(370, device='cuda:0')\n",
      "--------------\n"
     ]
    },
    {
     "name": "stderr",
     "output_type": "stream",
     "text": [
      " 37%|███████████████▌                          | 37/100 [00:06<00:09,  6.67it/s]"
     ]
    },
    {
     "name": "stdout",
     "output_type": "stream",
     "text": [
      "==============\n",
      "tensor(284, device='cuda:0')\n",
      "tensor(284, device='cuda:0')\n",
      "tensor(284, device='cuda:0')\n",
      "tensor(284, device='cuda:0')\n",
      "tensor(284, device='cuda:0')\n",
      "--------------\n",
      "==============\n",
      "tensor(371, device='cuda:0')\n",
      "tensor(371, device='cuda:0')\n",
      "tensor(371, device='cuda:0')\n",
      "tensor(371, device='cuda:0')\n",
      "tensor(371, device='cuda:0')\n",
      "--------------\n",
      "==============\n",
      "tensor(269, device='cuda:0')\n",
      "tensor(269, device='cuda:0')\n",
      "tensor(269, device='cuda:0')\n",
      "tensor(269, device='cuda:0')\n",
      "tensor(269, device='cuda:0')\n",
      "--------------\n",
      "==============\n",
      "tensor(353, device='cuda:0')\n",
      "tensor(353, device='cuda:0')\n",
      "tensor(353, device='cuda:0')\n",
      "tensor(353, device='cuda:0')\n",
      "tensor(353, device='cuda:0')\n",
      "--------------\n"
     ]
    },
    {
     "name": "stderr",
     "output_type": "stream",
     "text": [
      " 39%|████████████████▍                         | 39/100 [00:06<00:09,  6.47it/s]"
     ]
    },
    {
     "name": "stdout",
     "output_type": "stream",
     "text": [
      "==============\n",
      "tensor(272, device='cuda:0')\n",
      "tensor(272, device='cuda:0')\n",
      "tensor(272, device='cuda:0')\n",
      "tensor(272, device='cuda:0')\n",
      "tensor(272, device='cuda:0')\n",
      "--------------\n",
      "==============\n",
      "tensor(357, device='cuda:0')\n",
      "tensor(357, device='cuda:0')\n",
      "tensor(357, device='cuda:0')\n",
      "tensor(357, device='cuda:0')\n",
      "tensor(357, device='cuda:0')\n",
      "--------------\n",
      "==============\n",
      "tensor(251, device='cuda:0')\n",
      "tensor(251, device='cuda:0')\n",
      "tensor(251, device='cuda:0')\n",
      "tensor(251, device='cuda:0')\n",
      "tensor(251, device='cuda:0')\n",
      "--------------\n",
      "==============\n",
      "tensor(321, device='cuda:0')\n",
      "tensor(321, device='cuda:0')\n",
      "tensor(321, device='cuda:0')\n",
      "tensor(321, device='cuda:0')\n",
      "tensor(321, device='cuda:0')\n",
      "--------------\n"
     ]
    },
    {
     "name": "stderr",
     "output_type": "stream",
     "text": [
      " 41%|█████████████████▏                        | 41/100 [00:06<00:08,  6.63it/s]"
     ]
    },
    {
     "name": "stdout",
     "output_type": "stream",
     "text": [
      "==============\n",
      "tensor(257, device='cuda:0')\n",
      "tensor(257, device='cuda:0')\n",
      "tensor(257, device='cuda:0')\n",
      "tensor(257, device='cuda:0')\n",
      "tensor(257, device='cuda:0')\n",
      "--------------\n",
      "==============\n",
      "tensor(331, device='cuda:0')\n",
      "tensor(331, device='cuda:0')\n",
      "tensor(331, device='cuda:0')\n",
      "tensor(331, device='cuda:0')\n",
      "tensor(331, device='cuda:0')\n",
      "--------------\n",
      "==============\n",
      "tensor(270, device='cuda:0')\n",
      "tensor(270, device='cuda:0')\n",
      "tensor(270, device='cuda:0')\n",
      "tensor(270, device='cuda:0')\n",
      "tensor(270, device='cuda:0')\n",
      "--------------\n",
      "==============\n",
      "tensor(354, device='cuda:0')\n",
      "tensor(354, device='cuda:0')\n",
      "tensor(354, device='cuda:0')\n",
      "tensor(354, device='cuda:0')\n",
      "tensor(354, device='cuda:0')\n",
      "--------------\n"
     ]
    },
    {
     "name": "stderr",
     "output_type": "stream",
     "text": [
      " 43%|██████████████████                        | 43/100 [00:07<00:08,  6.56it/s]"
     ]
    },
    {
     "name": "stdout",
     "output_type": "stream",
     "text": [
      "==============\n",
      "tensor(268, device='cuda:0')\n",
      "tensor(268, device='cuda:0')\n",
      "tensor(268, device='cuda:0')\n",
      "tensor(268, device='cuda:0')\n",
      "tensor(268, device='cuda:0')\n",
      "--------------\n",
      "==============\n",
      "tensor(348, device='cuda:0')\n",
      "tensor(348, device='cuda:0')\n",
      "tensor(348, device='cuda:0')\n",
      "tensor(348, device='cuda:0')\n",
      "tensor(348, device='cuda:0')\n",
      "--------------\n",
      "==============\n",
      "tensor(252, device='cuda:0')\n",
      "tensor(252, device='cuda:0')\n",
      "tensor(252, device='cuda:0')\n",
      "tensor(252, device='cuda:0')\n",
      "tensor(252, device='cuda:0')\n",
      "--------------\n",
      "==============\n",
      "tensor(320, device='cuda:0')\n",
      "tensor(320, device='cuda:0')\n",
      "tensor(320, device='cuda:0')\n",
      "tensor(320, device='cuda:0')\n",
      "tensor(320, device='cuda:0')\n",
      "--------------\n"
     ]
    },
    {
     "name": "stderr",
     "output_type": "stream",
     "text": [
      " 45%|██████████████████▉                       | 45/100 [00:07<00:08,  6.59it/s]"
     ]
    },
    {
     "name": "stdout",
     "output_type": "stream",
     "text": [
      "==============\n",
      "tensor(281, device='cuda:0')\n",
      "tensor(281, device='cuda:0')\n",
      "tensor(281, device='cuda:0')\n",
      "tensor(281, device='cuda:0')\n",
      "tensor(281, device='cuda:0')\n",
      "--------------\n",
      "==============\n",
      "tensor(367, device='cuda:0')\n",
      "tensor(367, device='cuda:0')\n",
      "tensor(367, device='cuda:0')\n",
      "tensor(367, device='cuda:0')\n",
      "tensor(367, device='cuda:0')\n",
      "--------------\n",
      "==============\n",
      "tensor(275, device='cuda:0')\n",
      "tensor(275, device='cuda:0')\n",
      "tensor(275, device='cuda:0')\n",
      "tensor(275, device='cuda:0')\n",
      "tensor(275, device='cuda:0')\n",
      "--------------\n",
      "==============\n",
      "tensor(352, device='cuda:0')\n",
      "tensor(352, device='cuda:0')\n",
      "tensor(352, device='cuda:0')\n",
      "tensor(352, device='cuda:0')\n",
      "tensor(352, device='cuda:0')\n",
      "--------------\n"
     ]
    },
    {
     "name": "stderr",
     "output_type": "stream",
     "text": [
      " 47%|███████████████████▋                      | 47/100 [00:07<00:08,  6.53it/s]"
     ]
    },
    {
     "name": "stdout",
     "output_type": "stream",
     "text": [
      "==============\n",
      "tensor(289, device='cuda:0')\n",
      "tensor(289, device='cuda:0')\n",
      "tensor(289, device='cuda:0')\n",
      "tensor(289, device='cuda:0')\n",
      "tensor(289, device='cuda:0')\n",
      "--------------\n",
      "==============\n",
      "tensor(379, device='cuda:0')\n",
      "tensor(379, device='cuda:0')\n",
      "tensor(379, device='cuda:0')\n",
      "tensor(379, device='cuda:0')\n",
      "tensor(379, device='cuda:0')\n",
      "--------------\n",
      "==============\n",
      "tensor(275, device='cuda:0')\n",
      "tensor(275, device='cuda:0')\n",
      "tensor(275, device='cuda:0')\n",
      "tensor(275, device='cuda:0')\n",
      "tensor(275, device='cuda:0')\n",
      "--------------\n",
      "==============\n",
      "tensor(362, device='cuda:0')\n",
      "tensor(362, device='cuda:0')\n",
      "tensor(362, device='cuda:0')\n",
      "tensor(362, device='cuda:0')\n",
      "tensor(362, device='cuda:0')\n",
      "--------------\n"
     ]
    },
    {
     "name": "stderr",
     "output_type": "stream",
     "text": [
      " 49%|████████████████████▌                     | 49/100 [00:08<00:08,  6.22it/s]"
     ]
    },
    {
     "name": "stdout",
     "output_type": "stream",
     "text": [
      "==============\n",
      "tensor(270, device='cuda:0')\n",
      "tensor(270, device='cuda:0')\n",
      "tensor(270, device='cuda:0')\n",
      "tensor(270, device='cuda:0')\n",
      "tensor(270, device='cuda:0')\n",
      "--------------\n",
      "==============\n",
      "tensor(349, device='cuda:0')\n",
      "tensor(349, device='cuda:0')\n",
      "tensor(349, device='cuda:0')\n",
      "tensor(349, device='cuda:0')\n",
      "tensor(349, device='cuda:0')\n",
      "--------------\n",
      "==============\n",
      "tensor(256, device='cuda:0')\n",
      "tensor(256, device='cuda:0')\n",
      "tensor(256, device='cuda:0')\n",
      "tensor(256, device='cuda:0')\n",
      "tensor(256, device='cuda:0')\n",
      "--------------\n",
      "==============\n",
      "tensor(338, device='cuda:0')\n",
      "tensor(338, device='cuda:0')\n",
      "tensor(338, device='cuda:0')\n",
      "tensor(338, device='cuda:0')\n",
      "tensor(338, device='cuda:0')\n",
      "--------------\n"
     ]
    },
    {
     "name": "stderr",
     "output_type": "stream",
     "text": [
      " 51%|█████████████████████▍                    | 51/100 [00:08<00:07,  6.22it/s]"
     ]
    },
    {
     "name": "stdout",
     "output_type": "stream",
     "text": [
      "==============\n",
      "tensor(285, device='cuda:0')\n",
      "tensor(285, device='cuda:0')\n",
      "tensor(285, device='cuda:0')\n",
      "tensor(285, device='cuda:0')\n",
      "tensor(285, device='cuda:0')\n",
      "--------------\n",
      "==============\n",
      "tensor(369, device='cuda:0')\n",
      "tensor(369, device='cuda:0')\n",
      "tensor(369, device='cuda:0')\n",
      "tensor(369, device='cuda:0')\n",
      "tensor(369, device='cuda:0')\n",
      "--------------\n",
      "==============\n",
      "tensor(265, device='cuda:0')\n",
      "tensor(265, device='cuda:0')\n",
      "tensor(265, device='cuda:0')\n",
      "tensor(265, device='cuda:0')\n",
      "tensor(265, device='cuda:0')\n",
      "--------------\n",
      "==============\n",
      "tensor(345, device='cuda:0')\n",
      "tensor(345, device='cuda:0')\n",
      "tensor(345, device='cuda:0')\n",
      "tensor(345, device='cuda:0')\n",
      "tensor(345, device='cuda:0')\n",
      "--------------\n"
     ]
    },
    {
     "name": "stderr",
     "output_type": "stream",
     "text": [
      " 53%|██████████████████████▎                   | 53/100 [00:08<00:08,  5.86it/s]"
     ]
    },
    {
     "name": "stdout",
     "output_type": "stream",
     "text": [
      "==============\n",
      "tensor(270, device='cuda:0')\n",
      "tensor(270, device='cuda:0')\n",
      "tensor(270, device='cuda:0')\n",
      "tensor(270, device='cuda:0')\n",
      "tensor(270, device='cuda:0')\n",
      "--------------\n",
      "==============\n",
      "tensor(351, device='cuda:0')\n",
      "tensor(351, device='cuda:0')\n",
      "tensor(351, device='cuda:0')\n",
      "tensor(351, device='cuda:0')\n",
      "tensor(351, device='cuda:0')\n",
      "--------------\n",
      "==============\n",
      "tensor(285, device='cuda:0')\n",
      "tensor(285, device='cuda:0')\n",
      "tensor(285, device='cuda:0')\n"
     ]
    },
    {
     "name": "stderr",
     "output_type": "stream",
     "text": [
      "\r",
      " 54%|██████████████████████▋                   | 54/100 [00:08<00:08,  5.70it/s]"
     ]
    },
    {
     "name": "stdout",
     "output_type": "stream",
     "text": [
      "tensor(285, device='cuda:0')\n",
      "tensor(285, device='cuda:0')\n",
      "--------------\n",
      "==============\n",
      "tensor(370, device='cuda:0')\n",
      "tensor(370, device='cuda:0')\n",
      "tensor(370, device='cuda:0')\n",
      "tensor(370, device='cuda:0')\n",
      "tensor(370, device='cuda:0')\n",
      "--------------\n",
      "==============\n",
      "tensor(275, device='cuda:0')\n",
      "tensor(275, device='cuda:0')\n",
      "tensor(275, device='cuda:0')\n",
      "tensor(275, device='cuda:0')\n",
      "tensor(275, device='cuda:0')\n",
      "--------------\n",
      "==============\n",
      "tensor(362, device='cuda:0')\n",
      "tensor(362, device='cuda:0')\n",
      "tensor(362, device='cuda:0')\n",
      "tensor(362, device='cuda:0')\n",
      "tensor(362, device='cuda:0')\n",
      "--------------\n"
     ]
    },
    {
     "name": "stderr",
     "output_type": "stream",
     "text": [
      " 56%|███████████████████████▌                  | 56/100 [00:09<00:07,  6.15it/s]"
     ]
    },
    {
     "name": "stdout",
     "output_type": "stream",
     "text": [
      "==============\n",
      "tensor(264, device='cuda:0')\n",
      "tensor(264, device='cuda:0')\n",
      "tensor(264, device='cuda:0')\n",
      "tensor(264, device='cuda:0')\n",
      "tensor(264, device='cuda:0')\n",
      "--------------\n",
      "==============\n",
      "tensor(345, device='cuda:0')\n",
      "tensor(345, device='cuda:0')\n",
      "tensor(345, device='cuda:0')\n",
      "tensor(345, device='cuda:0')\n",
      "tensor(345, device='cuda:0')\n",
      "--------------\n",
      "==============\n",
      "tensor(326, device='cuda:0')\n",
      "tensor(326, device='cuda:0')\n",
      "tensor(326, device='cuda:0')\n",
      "tensor(326, device='cuda:0')\n",
      "tensor(326, device='cuda:0')\n",
      "--------------\n",
      "==============\n",
      "tensor(423, device='cuda:0')\n",
      "tensor(423, device='cuda:0')\n",
      "tensor(423, device='cuda:0')\n",
      "tensor(423, device='cuda:0')\n",
      "tensor(423, device='cuda:0')\n",
      "--------------\n"
     ]
    },
    {
     "name": "stderr",
     "output_type": "stream",
     "text": [
      " 58%|████████████████████████▎                 | 58/100 [00:09<00:06,  6.11it/s]"
     ]
    },
    {
     "name": "stdout",
     "output_type": "stream",
     "text": [
      "==============\n",
      "tensor(266, device='cuda:0')\n",
      "tensor(266, device='cuda:0')\n",
      "tensor(266, device='cuda:0')\n",
      "tensor(266, device='cuda:0')\n",
      "tensor(266, device='cuda:0')\n",
      "--------------\n",
      "==============\n",
      "tensor(337, device='cuda:0')\n",
      "tensor(337, device='cuda:0')\n",
      "tensor(337, device='cuda:0')\n",
      "tensor(337, device='cuda:0')\n",
      "tensor(337, device='cuda:0')\n",
      "--------------\n",
      "==============\n",
      "tensor(260, device='cuda:0')\n",
      "tensor(260, device='cuda:0')\n",
      "tensor(260, device='cuda:0')\n",
      "tensor(260, device='cuda:0')\n",
      "tensor(260, device='cuda:0')\n",
      "--------------\n",
      "==============\n",
      "tensor(335, device='cuda:0')\n",
      "tensor(335, device='cuda:0')\n",
      "tensor(335, device='cuda:0')\n",
      "tensor(335, device='cuda:0')\n",
      "tensor(335, device='cuda:0')\n",
      "--------------\n"
     ]
    },
    {
     "name": "stderr",
     "output_type": "stream",
     "text": [
      " 60%|█████████████████████████▏                | 60/100 [00:09<00:06,  6.23it/s]"
     ]
    },
    {
     "name": "stdout",
     "output_type": "stream",
     "text": [
      "==============\n",
      "tensor(292, device='cuda:0')\n",
      "tensor(292, device='cuda:0')\n",
      "tensor(292, device='cuda:0')\n",
      "tensor(292, device='cuda:0')\n",
      "tensor(292, device='cuda:0')\n",
      "--------------\n",
      "==============\n",
      "tensor(377, device='cuda:0')\n",
      "tensor(377, device='cuda:0')\n",
      "tensor(377, device='cuda:0')\n",
      "tensor(377, device='cuda:0')\n",
      "tensor(377, device='cuda:0')\n",
      "--------------\n",
      "==============\n",
      "tensor(283, device='cuda:0')\n",
      "tensor(283, device='cuda:0')\n",
      "tensor(283, device='cuda:0')\n",
      "tensor(283, device='cuda:0')\n",
      "tensor(283, device='cuda:0')\n",
      "--------------\n",
      "==============\n",
      "tensor(369, device='cuda:0')\n",
      "tensor(369, device='cuda:0')\n",
      "tensor(369, device='cuda:0')\n",
      "tensor(369, device='cuda:0')\n",
      "tensor(369, device='cuda:0')\n",
      "--------------\n"
     ]
    },
    {
     "name": "stderr",
     "output_type": "stream",
     "text": [
      " 62%|██████████████████████████                | 62/100 [00:10<00:05,  6.76it/s]"
     ]
    },
    {
     "name": "stdout",
     "output_type": "stream",
     "text": [
      "==============\n",
      "tensor(265, device='cuda:0')\n",
      "tensor(265, device='cuda:0')\n",
      "tensor(265, device='cuda:0')\n",
      "tensor(265, device='cuda:0')\n",
      "tensor(265, device='cuda:0')\n",
      "--------------\n",
      "==============\n",
      "tensor(352, device='cuda:0')\n",
      "tensor(352, device='cuda:0')\n",
      "tensor(352, device='cuda:0')\n",
      "tensor(352, device='cuda:0')\n",
      "tensor(352, device='cuda:0')\n",
      "--------------\n",
      "==============\n",
      "tensor(259, device='cuda:0')\n",
      "tensor(259, device='cuda:0')\n",
      "tensor(259, device='cuda:0')\n",
      "tensor(259, device='cuda:0')\n",
      "tensor(259, device='cuda:0')\n",
      "--------------\n",
      "==============\n",
      "tensor(341, device='cuda:0')\n",
      "tensor(341, device='cuda:0')\n",
      "tensor(341, device='cuda:0')\n",
      "tensor(341, device='cuda:0')\n",
      "tensor(341, device='cuda:0')\n",
      "--------------\n"
     ]
    },
    {
     "name": "stderr",
     "output_type": "stream",
     "text": [
      " 64%|██████████████████████████▉               | 64/100 [00:10<00:07,  4.94it/s]"
     ]
    },
    {
     "name": "stdout",
     "output_type": "stream",
     "text": [
      "==============\n",
      "tensor(279, device='cuda:0')\n",
      "tensor(279, device='cuda:0')\n",
      "tensor(279, device='cuda:0')\n",
      "tensor(279, device='cuda:0')\n",
      "tensor(279, device='cuda:0')\n",
      "--------------\n",
      "==============\n",
      "tensor(362, device='cuda:0')\n",
      "tensor(362, device='cuda:0')\n",
      "tensor(362, device='cuda:0')\n",
      "tensor(362, device='cuda:0')\n",
      "tensor(362, device='cuda:0')\n",
      "--------------\n",
      "==============\n",
      "tensor(288, device='cuda:0')\n",
      "tensor(288, device='cuda:0')\n",
      "tensor(288, device='cuda:0')\n",
      "tensor(288, device='cuda:0')\n",
      "tensor(288, device='cuda:0')\n",
      "--------------\n",
      "==============\n",
      "tensor(369, device='cuda:0')\n",
      "tensor(369, device='cuda:0')\n",
      "tensor(369, device='cuda:0')\n",
      "tensor(369, device='cuda:0')\n",
      "tensor(369, device='cuda:0')\n",
      "--------------\n"
     ]
    },
    {
     "name": "stderr",
     "output_type": "stream",
     "text": [
      " 66%|███████████████████████████▋              | 66/100 [00:10<00:06,  5.48it/s]"
     ]
    },
    {
     "name": "stdout",
     "output_type": "stream",
     "text": [
      "==============\n",
      "tensor(272, device='cuda:0')\n",
      "tensor(272, device='cuda:0')\n",
      "tensor(272, device='cuda:0')\n",
      "tensor(272, device='cuda:0')\n",
      "tensor(272, device='cuda:0')\n",
      "--------------\n",
      "==============\n",
      "tensor(355, device='cuda:0')\n",
      "tensor(355, device='cuda:0')\n",
      "tensor(355, device='cuda:0')\n",
      "tensor(355, device='cuda:0')\n",
      "tensor(355, device='cuda:0')\n",
      "--------------\n",
      "==============\n",
      "tensor(270, device='cuda:0')\n",
      "tensor(270, device='cuda:0')\n",
      "tensor(270, device='cuda:0')\n",
      "tensor(270, device='cuda:0')\n",
      "tensor(270, device='cuda:0')\n",
      "--------------\n",
      "==============\n",
      "tensor(358, device='cuda:0')\n",
      "tensor(358, device='cuda:0')\n",
      "tensor(358, device='cuda:0')\n",
      "tensor(358, device='cuda:0')\n",
      "tensor(358, device='cuda:0')\n",
      "--------------\n"
     ]
    },
    {
     "name": "stderr",
     "output_type": "stream",
     "text": [
      " 68%|████████████████████████████▌             | 68/100 [00:11<00:05,  5.74it/s]"
     ]
    },
    {
     "name": "stdout",
     "output_type": "stream",
     "text": [
      "==============\n",
      "tensor(266, device='cuda:0')\n",
      "tensor(266, device='cuda:0')\n",
      "tensor(266, device='cuda:0')\n",
      "tensor(266, device='cuda:0')\n",
      "tensor(266, device='cuda:0')\n",
      "--------------\n",
      "==============\n",
      "tensor(351, device='cuda:0')\n",
      "tensor(351, device='cuda:0')\n",
      "tensor(351, device='cuda:0')\n",
      "tensor(351, device='cuda:0')\n",
      "tensor(351, device='cuda:0')\n",
      "--------------\n",
      "==============\n",
      "tensor(247, device='cuda:0')\n",
      "tensor(247, device='cuda:0')\n",
      "tensor(247, device='cuda:0')\n",
      "tensor(247, device='cuda:0')\n",
      "tensor(247, device='cuda:0')\n",
      "--------------\n",
      "==============\n",
      "tensor(323, device='cuda:0')\n",
      "tensor(323, device='cuda:0')\n",
      "tensor(323, device='cuda:0')\n",
      "tensor(323, device='cuda:0')\n",
      "tensor(323, device='cuda:0')\n",
      "--------------\n"
     ]
    },
    {
     "name": "stderr",
     "output_type": "stream",
     "text": [
      " 70%|█████████████████████████████▍            | 70/100 [00:11<00:04,  6.28it/s]"
     ]
    },
    {
     "name": "stdout",
     "output_type": "stream",
     "text": [
      "==============\n",
      "tensor(290, device='cuda:0')\n",
      "tensor(290, device='cuda:0')\n",
      "tensor(290, device='cuda:0')\n",
      "tensor(290, device='cuda:0')\n",
      "tensor(290, device='cuda:0')\n",
      "--------------\n",
      "==============\n",
      "tensor(365, device='cuda:0')\n",
      "tensor(365, device='cuda:0')\n",
      "tensor(365, device='cuda:0')\n",
      "tensor(365, device='cuda:0')\n",
      "tensor(365, device='cuda:0')\n",
      "--------------\n",
      "==============\n",
      "tensor(279, device='cuda:0')\n",
      "tensor(279, device='cuda:0')\n",
      "tensor(279, device='cuda:0')\n",
      "tensor(279, device='cuda:0')\n",
      "tensor(279, device='cuda:0')\n",
      "--------------\n",
      "==============\n",
      "tensor(362, device='cuda:0')\n",
      "tensor(362, device='cuda:0')\n",
      "tensor(362, device='cuda:0')\n",
      "tensor(362, device='cuda:0')\n",
      "tensor(362, device='cuda:0')\n",
      "--------------\n"
     ]
    },
    {
     "name": "stderr",
     "output_type": "stream",
     "text": [
      " 72%|██████████████████████████████▏           | 72/100 [00:11<00:04,  6.30it/s]"
     ]
    },
    {
     "name": "stdout",
     "output_type": "stream",
     "text": [
      "==============\n",
      "tensor(258, device='cuda:0')\n",
      "tensor(258, device='cuda:0')\n",
      "tensor(258, device='cuda:0')\n",
      "tensor(258, device='cuda:0')\n",
      "tensor(258, device='cuda:0')\n",
      "--------------\n",
      "==============\n",
      "tensor(336, device='cuda:0')\n",
      "tensor(336, device='cuda:0')\n",
      "tensor(336, device='cuda:0')\n",
      "tensor(336, device='cuda:0')\n",
      "tensor(336, device='cuda:0')\n",
      "--------------\n",
      "==============\n",
      "tensor(280, device='cuda:0')\n",
      "tensor(280, device='cuda:0')\n",
      "tensor(280, device='cuda:0')\n",
      "tensor(280, device='cuda:0')\n",
      "tensor(280, device='cuda:0')\n",
      "--------------\n",
      "==============\n",
      "tensor(363, device='cuda:0')\n",
      "tensor(363, device='cuda:0')\n",
      "tensor(363, device='cuda:0')\n",
      "tensor(363, device='cuda:0')\n",
      "tensor(363, device='cuda:0')\n",
      "--------------\n"
     ]
    },
    {
     "name": "stderr",
     "output_type": "stream",
     "text": [
      " 74%|███████████████████████████████           | 74/100 [00:12<00:04,  6.10it/s]"
     ]
    },
    {
     "name": "stdout",
     "output_type": "stream",
     "text": [
      "==============\n",
      "tensor(268, device='cuda:0')\n",
      "tensor(268, device='cuda:0')\n",
      "tensor(268, device='cuda:0')\n",
      "tensor(268, device='cuda:0')\n",
      "tensor(268, device='cuda:0')\n",
      "--------------\n",
      "==============\n",
      "tensor(350, device='cuda:0')\n",
      "tensor(350, device='cuda:0')\n",
      "tensor(350, device='cuda:0')\n",
      "tensor(350, device='cuda:0')\n",
      "tensor(350, device='cuda:0')\n",
      "--------------\n",
      "==============\n",
      "tensor(282, device='cuda:0')\n",
      "tensor(282, device='cuda:0')\n",
      "tensor(282, device='cuda:0')\n",
      "tensor(282, device='cuda:0')\n",
      "tensor(282, device='cuda:0')\n",
      "--------------\n",
      "==============\n",
      "tensor(374, device='cuda:0')\n",
      "tensor(374, device='cuda:0')\n",
      "tensor(374, device='cuda:0')\n",
      "tensor(374, device='cuda:0')\n",
      "tensor(374, device='cuda:0')\n",
      "--------------\n"
     ]
    },
    {
     "name": "stderr",
     "output_type": "stream",
     "text": [
      " 76%|███████████████████████████████▉          | 76/100 [00:12<00:03,  6.10it/s]"
     ]
    },
    {
     "name": "stdout",
     "output_type": "stream",
     "text": [
      "==============\n",
      "tensor(247, device='cuda:0')\n",
      "tensor(247, device='cuda:0')\n",
      "tensor(247, device='cuda:0')\n",
      "tensor(247, device='cuda:0')\n",
      "tensor(247, device='cuda:0')\n",
      "--------------\n",
      "==============\n",
      "tensor(321, device='cuda:0')\n",
      "tensor(321, device='cuda:0')\n",
      "tensor(321, device='cuda:0')\n",
      "tensor(321, device='cuda:0')\n",
      "tensor(321, device='cuda:0')\n",
      "--------------\n",
      "==============\n",
      "tensor(266, device='cuda:0')\n",
      "tensor(266, device='cuda:0')\n",
      "tensor(266, device='cuda:0')\n",
      "tensor(266, device='cuda:0')\n",
      "tensor(266, device='cuda:0')\n",
      "--------------\n",
      "==============\n",
      "tensor(351, device='cuda:0')\n",
      "tensor(351, device='cuda:0')\n",
      "tensor(351, device='cuda:0')\n",
      "tensor(351, device='cuda:0')\n",
      "tensor(351, device='cuda:0')\n",
      "--------------\n"
     ]
    },
    {
     "name": "stderr",
     "output_type": "stream",
     "text": [
      " 78%|████████████████████████████████▊         | 78/100 [00:12<00:03,  6.16it/s]"
     ]
    },
    {
     "name": "stdout",
     "output_type": "stream",
     "text": [
      "==============\n",
      "tensor(270, device='cuda:0')\n",
      "tensor(270, device='cuda:0')\n",
      "tensor(270, device='cuda:0')\n",
      "tensor(270, device='cuda:0')\n",
      "tensor(270, device='cuda:0')\n",
      "--------------\n",
      "==============\n",
      "tensor(346, device='cuda:0')\n",
      "tensor(346, device='cuda:0')\n",
      "tensor(346, device='cuda:0')\n",
      "tensor(346, device='cuda:0')\n",
      "tensor(346, device='cuda:0')\n",
      "--------------\n",
      "==============\n",
      "tensor(268, device='cuda:0')\n",
      "tensor(268, device='cuda:0')\n",
      "tensor(268, device='cuda:0')\n",
      "tensor(268, device='cuda:0')\n",
      "tensor(268, device='cuda:0')\n",
      "--------------\n",
      "==============\n",
      "tensor(351, device='cuda:0')\n",
      "tensor(351, device='cuda:0')\n",
      "tensor(351, device='cuda:0')\n",
      "tensor(351, device='cuda:0')\n",
      "tensor(351, device='cuda:0')\n",
      "--------------\n"
     ]
    },
    {
     "name": "stderr",
     "output_type": "stream",
     "text": [
      " 80%|█████████████████████████████████▌        | 80/100 [00:13<00:03,  6.18it/s]"
     ]
    },
    {
     "name": "stdout",
     "output_type": "stream",
     "text": [
      "==============\n",
      "tensor(280, device='cuda:0')\n",
      "tensor(280, device='cuda:0')\n",
      "tensor(280, device='cuda:0')\n",
      "tensor(280, device='cuda:0')\n",
      "tensor(280, device='cuda:0')\n",
      "--------------\n",
      "==============\n",
      "tensor(363, device='cuda:0')\n",
      "tensor(363, device='cuda:0')\n",
      "tensor(363, device='cuda:0')\n",
      "tensor(363, device='cuda:0')\n",
      "tensor(363, device='cuda:0')\n",
      "--------------\n",
      "==============\n",
      "tensor(265, device='cuda:0')\n",
      "tensor(265, device='cuda:0')\n",
      "tensor(265, device='cuda:0')\n",
      "tensor(265, device='cuda:0')\n",
      "tensor(265, device='cuda:0')\n",
      "--------------\n",
      "==============\n",
      "tensor(346, device='cuda:0')\n",
      "tensor(346, device='cuda:0')\n",
      "tensor(346, device='cuda:0')\n",
      "tensor(346, device='cuda:0')\n",
      "tensor(346, device='cuda:0')\n",
      "--------------\n"
     ]
    },
    {
     "name": "stderr",
     "output_type": "stream",
     "text": [
      " 82%|██████████████████████████████████▍       | 82/100 [00:13<00:02,  6.14it/s]"
     ]
    },
    {
     "name": "stdout",
     "output_type": "stream",
     "text": [
      "==============\n",
      "tensor(282, device='cuda:0')\n",
      "tensor(282, device='cuda:0')\n",
      "tensor(282, device='cuda:0')\n",
      "tensor(282, device='cuda:0')\n",
      "tensor(282, device='cuda:0')\n",
      "--------------\n",
      "==============\n",
      "tensor(375, device='cuda:0')\n",
      "tensor(375, device='cuda:0')\n",
      "tensor(375, device='cuda:0')\n",
      "tensor(375, device='cuda:0')\n",
      "tensor(375, device='cuda:0')\n",
      "--------------\n",
      "==============\n",
      "tensor(300, device='cuda:0')\n",
      "tensor(300, device='cuda:0')\n",
      "tensor(300, device='cuda:0')\n",
      "tensor(300, device='cuda:0')\n",
      "tensor(300, device='cuda:0')\n",
      "--------------\n",
      "==============\n",
      "tensor(386, device='cuda:0')\n",
      "tensor(386, device='cuda:0')\n",
      "tensor(386, device='cuda:0')\n",
      "tensor(386, device='cuda:0')\n",
      "tensor(386, device='cuda:0')\n",
      "--------------\n"
     ]
    },
    {
     "name": "stderr",
     "output_type": "stream",
     "text": [
      " 84%|███████████████████████████████████▎      | 84/100 [00:13<00:02,  6.14it/s]"
     ]
    },
    {
     "name": "stdout",
     "output_type": "stream",
     "text": [
      "==============\n",
      "tensor(281, device='cuda:0')\n",
      "tensor(281, device='cuda:0')\n",
      "tensor(281, device='cuda:0')\n",
      "tensor(281, device='cuda:0')\n",
      "tensor(281, device='cuda:0')\n",
      "--------------\n",
      "==============\n",
      "tensor(362, device='cuda:0')\n",
      "tensor(362, device='cuda:0')\n",
      "tensor(362, device='cuda:0')\n",
      "tensor(362, device='cuda:0')\n",
      "tensor(362, device='cuda:0')\n",
      "--------------\n",
      "==============\n",
      "tensor(263, device='cuda:0')\n",
      "tensor(263, device='cuda:0')\n",
      "tensor(263, device='cuda:0')\n",
      "tensor(263, device='cuda:0')\n",
      "tensor(263, device='cuda:0')\n",
      "--------------\n",
      "==============\n",
      "tensor(335, device='cuda:0')\n",
      "tensor(335, device='cuda:0')\n",
      "tensor(335, device='cuda:0')\n",
      "tensor(335, device='cuda:0')\n",
      "tensor(335, device='cuda:0')\n",
      "--------------\n"
     ]
    },
    {
     "name": "stderr",
     "output_type": "stream",
     "text": [
      " 86%|████████████████████████████████████      | 86/100 [00:14<00:02,  6.32it/s]"
     ]
    },
    {
     "name": "stdout",
     "output_type": "stream",
     "text": [
      "==============\n",
      "tensor(270, device='cuda:0')\n",
      "tensor(270, device='cuda:0')\n",
      "tensor(270, device='cuda:0')\n",
      "tensor(270, device='cuda:0')\n",
      "tensor(270, device='cuda:0')\n",
      "--------------\n",
      "==============\n",
      "tensor(347, device='cuda:0')\n",
      "tensor(347, device='cuda:0')\n",
      "tensor(347, device='cuda:0')\n",
      "tensor(347, device='cuda:0')\n",
      "tensor(347, device='cuda:0')\n",
      "--------------\n",
      "==============\n",
      "tensor(252, device='cuda:0')\n",
      "tensor(252, device='cuda:0')\n",
      "tensor(252, device='cuda:0')\n",
      "tensor(252, device='cuda:0')\n",
      "tensor(252, device='cuda:0')\n",
      "--------------\n",
      "==============\n",
      "tensor(331, device='cuda:0')\n",
      "tensor(331, device='cuda:0')\n",
      "tensor(331, device='cuda:0')\n",
      "tensor(331, device='cuda:0')\n",
      "tensor(331, device='cuda:0')\n",
      "--------------\n"
     ]
    },
    {
     "name": "stderr",
     "output_type": "stream",
     "text": [
      " 88%|████████████████████████████████████▉     | 88/100 [00:14<00:01,  6.49it/s]"
     ]
    },
    {
     "name": "stdout",
     "output_type": "stream",
     "text": [
      "==============\n",
      "tensor(250, device='cuda:0')\n",
      "tensor(250, device='cuda:0')\n",
      "tensor(250, device='cuda:0')\n",
      "tensor(250, device='cuda:0')\n",
      "tensor(250, device='cuda:0')\n",
      "--------------\n",
      "==============\n",
      "tensor(332, device='cuda:0')\n",
      "tensor(332, device='cuda:0')\n",
      "tensor(332, device='cuda:0')\n",
      "tensor(332, device='cuda:0')\n",
      "tensor(332, device='cuda:0')\n",
      "--------------\n",
      "==============\n",
      "tensor(281, device='cuda:0')\n",
      "tensor(281, device='cuda:0')\n",
      "tensor(281, device='cuda:0')\n",
      "tensor(281, device='cuda:0')\n",
      "tensor(281, device='cuda:0')\n",
      "--------------\n",
      "==============\n",
      "tensor(363, device='cuda:0')\n",
      "tensor(363, device='cuda:0')\n",
      "tensor(363, device='cuda:0')\n",
      "tensor(363, device='cuda:0')\n",
      "tensor(363, device='cuda:0')\n",
      "--------------\n"
     ]
    },
    {
     "name": "stderr",
     "output_type": "stream",
     "text": [
      " 90%|█████████████████████████████████████▊    | 90/100 [00:14<00:01,  6.33it/s]"
     ]
    },
    {
     "name": "stdout",
     "output_type": "stream",
     "text": [
      "==============\n",
      "tensor(269, device='cuda:0')\n",
      "tensor(269, device='cuda:0')\n",
      "tensor(269, device='cuda:0')\n",
      "tensor(269, device='cuda:0')\n",
      "tensor(269, device='cuda:0')\n",
      "--------------\n",
      "==============\n",
      "tensor(349, device='cuda:0')\n",
      "tensor(349, device='cuda:0')\n",
      "tensor(349, device='cuda:0')\n",
      "tensor(349, device='cuda:0')\n",
      "tensor(349, device='cuda:0')\n",
      "--------------\n",
      "==============\n",
      "tensor(264, device='cuda:0')\n",
      "tensor(264, device='cuda:0')\n",
      "tensor(264, device='cuda:0')\n",
      "tensor(264, device='cuda:0')\n",
      "tensor(264, device='cuda:0')\n",
      "--------------\n",
      "==============\n",
      "tensor(348, device='cuda:0')\n",
      "tensor(348, device='cuda:0')\n",
      "tensor(348, device='cuda:0')\n",
      "tensor(348, device='cuda:0')\n",
      "tensor(348, device='cuda:0')\n",
      "--------------\n"
     ]
    },
    {
     "name": "stderr",
     "output_type": "stream",
     "text": [
      " 92%|██████████████████████████████████████▋   | 92/100 [00:15<00:01,  6.55it/s]"
     ]
    },
    {
     "name": "stdout",
     "output_type": "stream",
     "text": [
      "==============\n",
      "tensor(271, device='cuda:0')\n",
      "tensor(271, device='cuda:0')\n",
      "tensor(271, device='cuda:0')\n",
      "tensor(271, device='cuda:0')\n",
      "tensor(271, device='cuda:0')\n",
      "--------------\n",
      "==============\n",
      "tensor(353, device='cuda:0')\n",
      "tensor(353, device='cuda:0')\n",
      "tensor(353, device='cuda:0')\n",
      "tensor(353, device='cuda:0')\n",
      "tensor(353, device='cuda:0')\n",
      "--------------\n",
      "==============\n",
      "tensor(283, device='cuda:0')\n",
      "tensor(283, device='cuda:0')\n",
      "tensor(283, device='cuda:0')\n",
      "tensor(283, device='cuda:0')\n",
      "tensor(283, device='cuda:0')\n",
      "--------------\n",
      "==============\n",
      "tensor(368, device='cuda:0')\n",
      "tensor(368, device='cuda:0')\n",
      "tensor(368, device='cuda:0')\n",
      "tensor(368, device='cuda:0')\n",
      "tensor(368, device='cuda:0')\n",
      "--------------\n"
     ]
    },
    {
     "name": "stderr",
     "output_type": "stream",
     "text": [
      " 94%|███████████████████████████████████████▍  | 94/100 [00:15<00:00,  6.73it/s]"
     ]
    },
    {
     "name": "stdout",
     "output_type": "stream",
     "text": [
      "==============\n",
      "tensor(262, device='cuda:0')\n",
      "tensor(262, device='cuda:0')\n",
      "tensor(262, device='cuda:0')\n",
      "tensor(262, device='cuda:0')\n",
      "tensor(262, device='cuda:0')\n",
      "--------------\n",
      "==============\n",
      "tensor(339, device='cuda:0')\n",
      "tensor(339, device='cuda:0')\n",
      "tensor(339, device='cuda:0')\n",
      "tensor(339, device='cuda:0')\n",
      "tensor(339, device='cuda:0')\n",
      "--------------\n",
      "==============\n",
      "tensor(272, device='cuda:0')\n",
      "tensor(272, device='cuda:0')\n",
      "tensor(272, device='cuda:0')\n",
      "tensor(272, device='cuda:0')\n",
      "tensor(272, device='cuda:0')\n",
      "--------------\n",
      "==============\n",
      "tensor(348, device='cuda:0')\n",
      "tensor(348, device='cuda:0')\n",
      "tensor(348, device='cuda:0')\n",
      "tensor(348, device='cuda:0')\n",
      "tensor(348, device='cuda:0')\n",
      "--------------\n"
     ]
    },
    {
     "name": "stderr",
     "output_type": "stream",
     "text": [
      " 96%|████████████████████████████████████████▎ | 96/100 [00:15<00:00,  6.53it/s]"
     ]
    },
    {
     "name": "stdout",
     "output_type": "stream",
     "text": [
      "==============\n",
      "tensor(281, device='cuda:0')\n",
      "tensor(281, device='cuda:0')\n",
      "tensor(281, device='cuda:0')\n",
      "tensor(281, device='cuda:0')\n",
      "tensor(281, device='cuda:0')\n",
      "--------------\n",
      "==============\n",
      "tensor(361, device='cuda:0')\n",
      "tensor(361, device='cuda:0')\n",
      "tensor(361, device='cuda:0')\n",
      "tensor(361, device='cuda:0')\n",
      "tensor(361, device='cuda:0')\n",
      "--------------\n",
      "==============\n",
      "tensor(265, device='cuda:0')\n",
      "tensor(265, device='cuda:0')\n",
      "tensor(265, device='cuda:0')\n",
      "tensor(265, device='cuda:0')\n",
      "tensor(265, device='cuda:0')\n",
      "--------------\n",
      "==============\n",
      "tensor(345, device='cuda:0')\n",
      "tensor(345, device='cuda:0')\n",
      "tensor(345, device='cuda:0')\n",
      "tensor(345, device='cuda:0')\n",
      "tensor(345, device='cuda:0')\n",
      "--------------\n"
     ]
    },
    {
     "name": "stderr",
     "output_type": "stream",
     "text": [
      " 98%|█████████████████████████████████████████▏| 98/100 [00:15<00:00,  6.79it/s]"
     ]
    },
    {
     "name": "stdout",
     "output_type": "stream",
     "text": [
      "==============\n",
      "tensor(262, device='cuda:0')\n",
      "tensor(262, device='cuda:0')\n",
      "tensor(262, device='cuda:0')\n",
      "tensor(262, device='cuda:0')\n",
      "tensor(262, device='cuda:0')\n",
      "--------------\n",
      "==============\n",
      "tensor(339, device='cuda:0')\n",
      "tensor(339, device='cuda:0')\n",
      "tensor(339, device='cuda:0')\n",
      "tensor(339, device='cuda:0')\n",
      "tensor(339, device='cuda:0')\n",
      "--------------\n",
      "==============\n",
      "tensor(270, device='cuda:0')\n",
      "tensor(270, device='cuda:0')\n",
      "tensor(270, device='cuda:0')\n",
      "tensor(270, device='cuda:0')\n",
      "tensor(270, device='cuda:0')\n",
      "--------------\n",
      "==============\n",
      "tensor(356, device='cuda:0')\n",
      "tensor(356, device='cuda:0')\n",
      "tensor(356, device='cuda:0')\n",
      "tensor(356, device='cuda:0')\n",
      "tensor(356, device='cuda:0')\n",
      "--------------\n"
     ]
    },
    {
     "name": "stderr",
     "output_type": "stream",
     "text": [
      "100%|█████████████████████████████████████████| 100/100 [00:16<00:00,  6.15it/s]"
     ]
    },
    {
     "name": "stdout",
     "output_type": "stream",
     "text": [
      "==============\n",
      "tensor(171, device='cuda:0')\n",
      "tensor(171, device='cuda:0')\n",
      "tensor(171, device='cuda:0')\n",
      "tensor(171, device='cuda:0')\n",
      "tensor(171, device='cuda:0')\n",
      "--------------\n",
      "==============\n",
      "tensor(231, device='cuda:0')\n",
      "tensor(231, device='cuda:0')\n",
      "tensor(231, device='cuda:0')\n",
      "tensor(231, device='cuda:0')\n",
      "tensor(231, device='cuda:0')\n",
      "--------------\n"
     ]
    },
    {
     "name": "stderr",
     "output_type": "stream",
     "text": [
      "\n"
     ]
    }
   ],
   "source": [
    "dfs_codes = []\n",
    "for data in tqdm.tqdm(validloader):\n",
    "    data = [to_cuda(d) for d in data]\n",
    "    dfs_codes += bert.fwd_code(data[0], data[1], features=not cfg.data.no_features)"
   ]
  },
  {
   "cell_type": "code",
   "execution_count": 15,
   "id": "5f61b73e",
   "metadata": {},
   "outputs": [],
   "source": [
    "for code, data in zip(dfs_codes, validset):\n",
    "    assert len(code) == len(data.min_dfs_code)"
   ]
  },
  {
   "cell_type": "code",
   "execution_count": 16,
   "id": "56ce8249",
   "metadata": {},
   "outputs": [
    {
     "name": "stdout",
     "output_type": "stream",
     "text": [
      "0.3501 valid molecules\n",
      "0.3445 of the valid molecules stayed the same\n"
     ]
    }
   ],
   "source": [
    "valid_list = []\n",
    "mols = []\n",
    "same_list = []\n",
    "for code, data in zip(dfs_codes, validset):\n",
    "    try:\n",
    "        valid_list += [isValidMoleculeDFSCode(code)]\n",
    "    except Exception as e:\n",
    "        valid_list += [False]\n",
    "    try: \n",
    "        if valid_list[-1]:\n",
    "            smiles_orig = Mol2Smiles(Chem.MolFromSmiles(data.smiles))\n",
    "            smiles_rec = DFSCode2Smiles(code)\n",
    "            same_list += [smiles_orig == smiles_rec]\n",
    "            if np.random.rand()<0.05:\n",
    "                mols += [Chem.MolFromSmiles(data.smiles)]\n",
    "                mols += [Chem.MolFromSmiles(DFSCode2Smiles(code))]\n",
    "    except Exception as e:\n",
    "        print(e)\n",
    "        print(Graph2Mol(*DFSCode2Graph(code)))\n",
    "        print(\"----------------------\")\n",
    "valid = np.asarray(valid_list)\n",
    "same = np.asarray(same_list)\n",
    "print(\"%2.4f valid molecules\"%((valid.sum()/len(valid))))\n",
    "print(\"%2.4f of the valid molecules stayed the same\"%(same.sum()/len(same)))"
   ]
  },
  {
   "cell_type": "code",
   "execution_count": 17,
   "id": "ce45455c",
   "metadata": {},
   "outputs": [],
   "source": [
    "smiles = [data.smiles for data in validset]"
   ]
  },
  {
   "cell_type": "code",
   "execution_count": 18,
   "id": "c2f8b8c2",
   "metadata": {},
   "outputs": [
    {
     "data": {
      "text/plain": [
       "(0.3501254390366282, 0.34451132129550016)"
      ]
     },
     "execution_count": 18,
     "metadata": {},
     "output_type": "execute_result"
    }
   ],
   "source": [
    "dfs.utils.computeChemicalValidityAndNovelty(smiles, dfs_codes)"
   ]
  },
  {
   "cell_type": "code",
   "execution_count": 19,
   "id": "a05cc842",
   "metadata": {},
   "outputs": [
    {
     "name": "stderr",
     "output_type": "stream",
     "text": [
      "/home/chrisw/.cache/pypoetry/virtualenvs/graph-transformer-9jPERXQ--py3.8/lib/python3.8/site-packages/rdkit/Chem/Draw/IPythonConsole.py:190: UserWarning: Truncating the list of molecules to be displayed to 50. Change the maxMols value to display more.\n",
      "  warnings.warn(\n"
     ]
    },
    {
     "data": {
      "image/png": "[encoded data removed]",
      "text/plain": [
       "<IPython.core.display.Image object>"
      ]
     },
     "execution_count": 19,
     "metadata": {},
     "output_type": "execute_result"
    }
   ],
   "source": [
    "Chem.Draw.MolsToGridImage(mols, molsPerRow=2)"
   ]
  },
  {
   "cell_type": "code",
   "execution_count": 20,
   "id": "e767221c",
   "metadata": {},
   "outputs": [
    {
     "data": {
      "image/png": "[encoded data removed]",
      "text/plain": [
       "<Figure size 1440x360 with 2 Axes>"
      ]
     },
     "metadata": {
      "needs_background": "light"
     },
     "output_type": "display_data"
    }
   ],
   "source": [
    "from matplotlib import pyplot as plt\n",
    "lens = np.asarray([len(dfs_code) for dfs_code in dfs_codes])\n",
    "plt.figure(figsize=(20,5))\n",
    "plt.subplot(1,2,1).hist(lens[valid], bins='rice', density=True)\n",
    "plt.xlim(0, 110)\n",
    "plt.subplot(1,2,2).hist(lens[True^valid], bins='rice', density=True)\n",
    "plt.xlim(0, 110)\n",
    "plt.show()"
   ]
  },
  {
   "cell_type": "code",
   "execution_count": null,
   "id": "8527cc04",
   "metadata": {},
   "outputs": [],
   "source": []
  }
 ],
 "metadata": {
  "kernelspec": {
   "display_name": "Python 3 (ipykernel)",
   "language": "python",
   "name": "python3"
  },
  "language_info": {
   "codemirror_mode": {
    "name": "ipython",
    "version": 3
   },
   "file_extension": ".py",
   "mimetype": "text/x-python",
   "name": "python",
   "nbconvert_exporter": "python",
   "pygments_lexer": "ipython3",
   "version": "3.8.3"
  }
 },
 "nbformat": 4,
 "nbformat_minor": 5
}
