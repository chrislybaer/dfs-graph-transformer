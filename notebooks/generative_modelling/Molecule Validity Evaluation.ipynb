{
 "cells": [
  {
   "cell_type": "code",
   "execution_count": 1,
   "id": "45e53e53",
   "metadata": {},
   "outputs": [],
   "source": [
    "%load_ext autoreload\n",
    "%autoreload 2\n",
    "import sys\n",
    "sys.path.append('../../src')\n",
    "from rdkit import Chem\n",
    "from dfs_transformer.utils import Smiles2Mol, Mol2Smiles, DFSCode2Graph, Graph2Mol, isValid, Smiles2DFSCode, DFSCode2Smiles, isValidMoleculeDFSCode\n",
    "from dfs_transformer.utils import load_selfattn_wandb, load_selfattn_local, computeChemicalValidityAndNovelty, parseChempropAtomFeatures, parseChempropBondFeatures\n",
    "from dfs_transformer.utils import FeaturizedDFSCodes2Nx, Mol2Nx, Nx2Mol\n",
    "import os.path\n",
    "import torch\n",
    "import torch.nn as nn\n",
    "from torch.utils.data import DataLoader\n",
    "import dfs_transformer as dfs\n",
    "import numpy as np\n",
    "from ml_collections import ConfigDict\n",
    "import yaml\n",
    "import functools\n",
    "import tqdm\n",
    "import traceback"
   ]
  },
  {
   "cell_type": "code",
   "execution_count": 2,
   "id": "876ae4b4",
   "metadata": {
    "scrolled": true
   },
   "outputs": [],
   "source": [
    "pretrained_model = \"r2r045-c4s-noprop\"\n",
    "pretrained_project = \"pubchem_newencoding\"\n",
    "force_download = False\n",
    "if os.path.isdir(\"../../wandb/artifacts/%s\"%pretrained_model) and not force_download:\n",
    "    bert, cfg = load_selfattn_local(\"../../wandb/artifacts/%s\"%pretrained_model)\n",
    "else:\n",
    "    bert, cfg = load_selfattn_wandb(pretrained_model, wandb_dir=\"../../wandb\", pretrained_project=pretrained_project)"
   ]
  },
  {
   "cell_type": "code",
   "execution_count": 3,
   "id": "853dba1b",
   "metadata": {},
   "outputs": [],
   "source": [
    "bert = bert.eval()"
   ]
  },
  {
   "cell_type": "code",
   "execution_count": 4,
   "id": "6ece0d47",
   "metadata": {},
   "outputs": [],
   "source": [
    "with open(\"../../config/selfattn/data/pubchem1M.yaml\") as file:\n",
    "    d = ConfigDict(yaml.load(file, Loader=yaml.FullLoader))"
   ]
  },
  {
   "cell_type": "code",
   "execution_count": 5,
   "id": "15b95515",
   "metadata": {},
   "outputs": [],
   "source": [
    "d.no_features = cfg.data.no_features"
   ]
  },
  {
   "cell_type": "code",
   "execution_count": 6,
   "id": "90929247",
   "metadata": {},
   "outputs": [],
   "source": [
    "cfg.training.fraction_missing = 0.15"
   ]
  },
  {
   "cell_type": "code",
   "execution_count": 7,
   "id": "ea0ad761",
   "metadata": {},
   "outputs": [],
   "source": [
    "if cfg.training.mode == \"rnd2rnd\":\n",
    "    collate_fn = functools.partial(dfs.collate_BERT, \n",
    "                                   mode=cfg.training.mode, \n",
    "                                   fraction_missing = cfg.training.fraction_missing,\n",
    "                                   use_loops=cfg.model.use_loops)\n",
    "elif cfg.training.mode == \"rnd2rnd_entry\":\n",
    "    collate_fn = functools.partial(dfs.collate_BERT_entries, \n",
    "                                   mode=\"rnd2rnd\", \n",
    "                                   fraction_missing = cfg.training.fraction_missing,\n",
    "                                   use_loops=cfg.model.use_loops)"
   ]
  },
  {
   "cell_type": "code",
   "execution_count": 9,
   "id": "4b43ee3d",
   "metadata": {},
   "outputs": [
    {
     "name": "stderr",
     "output_type": "stream",
     "text": [
      "100%|████████████████████████████████████████████████████████████████████████████████████████████████████████████████████████████████████████████████████████████████████████████████| 7/7 [00:28<00:00,  4.11s/it]\n",
      "100%|██████████████████████████████████████████████████████████████████████████████████████████████████████████████████████████████████████████████████████████████████| 1093211/1093211 [01:57<00:00, 9277.40it/s]\n"
     ]
    }
   ],
   "source": [
    "trainset = dfs.PubChem(d.path, max_nodes=d.max_nodes, max_edges=d.max_edges, noFeatures=d.no_features,\n",
    "                   molecular_properties=d.molecular_properties, useDists=d.useDists, useHs=d.useHs,\n",
    "                   filter_unencoded=False)"
   ]
  },
  {
   "cell_type": "code",
   "execution_count": 10,
   "id": "9bd82d65",
   "metadata": {},
   "outputs": [],
   "source": [
    "smiles_list = [d.smiles for d in trainset]"
   ]
  },
  {
   "cell_type": "markdown",
   "id": "07f6f1e8",
   "metadata": {},
   "source": [
    "with open('/mnt/ssd/datasets/pubchem1M.txt', 'w') as f:\n",
    "    f.write(''.join(smiles_list))"
   ]
  },
  {
   "cell_type": "code",
   "execution_count": 11,
   "id": "4c0ee16e",
   "metadata": {},
   "outputs": [
    {
     "ename": "ValueError",
     "evalue": "max() arg is an empty sequence",
     "output_type": "error",
     "traceback": [
      "\u001b[0;31m---------------------------------------------------------------------------\u001b[0m",
      "\u001b[0;31mValueError\u001b[0m                                Traceback (most recent call last)",
      "\u001b[0;32m/tmp/ipykernel_46973/2809529831.py\u001b[0m in \u001b[0;36m<module>\u001b[0;34m\u001b[0m\n\u001b[0;32m----> 1\u001b[0;31m validset = dfs.PubChem('../.'+d.valid_path, max_nodes=d.max_nodes, max_edges=d.max_edges, noFeatures=d.no_features,\n\u001b[0m\u001b[1;32m      2\u001b[0m                    \u001b[0mmolecular_properties\u001b[0m\u001b[0;34m=\u001b[0m\u001b[0md\u001b[0m\u001b[0;34m.\u001b[0m\u001b[0mmolecular_properties\u001b[0m\u001b[0;34m,\u001b[0m \u001b[0museDists\u001b[0m\u001b[0;34m=\u001b[0m\u001b[0md\u001b[0m\u001b[0;34m.\u001b[0m\u001b[0museDists\u001b[0m\u001b[0;34m,\u001b[0m \u001b[0museHs\u001b[0m\u001b[0;34m=\u001b[0m\u001b[0md\u001b[0m\u001b[0;34m.\u001b[0m\u001b[0museHs\u001b[0m\u001b[0;34m,\u001b[0m\u001b[0;34m\u001b[0m\u001b[0;34m\u001b[0m\u001b[0m\n\u001b[1;32m      3\u001b[0m                    filter_unencoded=True)\n",
      "\u001b[0;32m~/Documents/projects/2023/graph-transformer/notebooks/generative_modelling/../../src/dfs_transformer/datasets/pubchem.py\u001b[0m in \u001b[0;36m__init__\u001b[0;34m(self, path, n_used, n_splits, max_nodes, max_edges, useHs, addLoops, memoryEfficient, transform, exclude, noFeatures, useDists, molecular_properties, filter_unencoded)\u001b[0m\n\u001b[1;32m     39\u001b[0m         \u001b[0mself\u001b[0m\u001b[0;34m.\u001b[0m\u001b[0mpath\u001b[0m \u001b[0;34m=\u001b[0m \u001b[0mpath\u001b[0m\u001b[0;34m\u001b[0m\u001b[0;34m\u001b[0m\u001b[0m\n\u001b[1;32m     40\u001b[0m         \u001b[0;32mif\u001b[0m \u001b[0mn_splits\u001b[0m \u001b[0;32mis\u001b[0m \u001b[0;32mNone\u001b[0m\u001b[0;34m:\u001b[0m\u001b[0;34m\u001b[0m\u001b[0;34m\u001b[0m\u001b[0m\n\u001b[0;32m---> 41\u001b[0;31m             \u001b[0mn_splits\u001b[0m \u001b[0;34m=\u001b[0m \u001b[0mget_n_files\u001b[0m\u001b[0;34m(\u001b[0m\u001b[0mpath\u001b[0m\u001b[0;34m)\u001b[0m\u001b[0;34m\u001b[0m\u001b[0;34m\u001b[0m\u001b[0m\n\u001b[0m\u001b[1;32m     42\u001b[0m         \u001b[0mself\u001b[0m\u001b[0;34m.\u001b[0m\u001b[0mn_splits\u001b[0m \u001b[0;34m=\u001b[0m \u001b[0mn_splits\u001b[0m\u001b[0;34m\u001b[0m\u001b[0;34m\u001b[0m\u001b[0m\n\u001b[1;32m     43\u001b[0m         \u001b[0;32mif\u001b[0m \u001b[0mn_used\u001b[0m \u001b[0;32mis\u001b[0m \u001b[0;32mNone\u001b[0m\u001b[0;34m:\u001b[0m\u001b[0;34m\u001b[0m\u001b[0;34m\u001b[0m\u001b[0m\n",
      "\u001b[0;32m~/Documents/projects/2023/graph-transformer/notebooks/generative_modelling/../../src/dfs_transformer/datasets/utils.py\u001b[0m in \u001b[0;36mget_n_files\u001b[0;34m(path)\u001b[0m\n\u001b[1;32m     61\u001b[0m         \u001b[0;32mexcept\u001b[0m \u001b[0mValueError\u001b[0m\u001b[0;34m:\u001b[0m\u001b[0;34m\u001b[0m\u001b[0;34m\u001b[0m\u001b[0m\n\u001b[1;32m     62\u001b[0m             \u001b[0;32mcontinue\u001b[0m\u001b[0;34m\u001b[0m\u001b[0;34m\u001b[0m\u001b[0m\n\u001b[0;32m---> 63\u001b[0;31m     \u001b[0mn_splits\u001b[0m \u001b[0;34m=\u001b[0m \u001b[0mmax\u001b[0m\u001b[0;34m(\u001b[0m\u001b[0mnums\u001b[0m\u001b[0;34m)\u001b[0m\u001b[0;34m\u001b[0m\u001b[0;34m\u001b[0m\u001b[0m\n\u001b[0m\u001b[1;32m     64\u001b[0m     \u001b[0;32mreturn\u001b[0m \u001b[0mn_splits\u001b[0m\u001b[0;34m\u001b[0m\u001b[0;34m\u001b[0m\u001b[0m\n\u001b[1;32m     65\u001b[0m \u001b[0;34m\u001b[0m\u001b[0m\n",
      "\u001b[0;31mValueError\u001b[0m: max() arg is an empty sequence"
     ]
    }
   ],
   "source": [
    "validset = dfs.PubChem('../.'+d.valid_path, max_nodes=d.max_nodes, max_edges=d.max_edges, noFeatures=d.no_features,\n",
    "                   molecular_properties=d.molecular_properties, useDists=d.useDists, useHs=d.useHs,\n",
    "                   filter_unencoded=True)\n"
   ]
  },
  {
   "cell_type": "code",
   "execution_count": null,
   "id": "5c16af36",
   "metadata": {},
   "outputs": [],
   "source": [
    "validloader = DataLoader(validset, batch_size=50, shuffle=False, \n",
    "                         pin_memory=True, collate_fn=collate_fn, num_workers=4,\n",
    "                         prefetch_factor=2)"
   ]
  },
  {
   "cell_type": "markdown",
   "id": "8f07d83d",
   "metadata": {},
   "source": [
    "# this part only works if missing_fraction = 0\n",
    "graphs = []\n",
    "for data in tqdm.tqdm(validloader):\n",
    "    graphs += FeaturizedDFSCodes2Nx(data[0])"
   ]
  },
  {
   "cell_type": "markdown",
   "id": "4044a702",
   "metadata": {},
   "source": [
    "bad_smiles = []\n",
    "for dd, graph in tqdm.tqdm(zip(validset, graphs)):\n",
    "    mol = Nx2Mol(graph)\n",
    "    try:\n",
    "        smiles1 = Chem.MolToSmiles(Chem.MolFromSmiles(dd.smiles))\n",
    "        #print(smiles1)\n",
    "        mol = Nx2Mol(graph)\n",
    "        smiles2 = Chem.MolToSmiles(mol)\n",
    "        #print(smiles2)\n",
    "        assert smiles1 == smiles2\n",
    "    except:\n",
    "        bad_smiles += [smiles1]"
   ]
  },
  {
   "cell_type": "markdown",
   "id": "7a3d9256",
   "metadata": {},
   "source": [
    "bad_smiles"
   ]
  },
  {
   "cell_type": "markdown",
   "id": "34215cb2",
   "metadata": {},
   "source": [
    "len(bad_smiles)/len(validset)"
   ]
  },
  {
   "cell_type": "code",
   "execution_count": null,
   "id": "2dfd9f0a",
   "metadata": {},
   "outputs": [],
   "source": [
    "device = torch.device('cuda:%d'%0 if torch.cuda.is_available() else 'cpu')\n",
    "#device = torch.device('cpu')\n",
    "to_cuda = functools.partial(dfs.utils_to_cuda, device=device)"
   ]
  },
  {
   "cell_type": "code",
   "execution_count": null,
   "id": "82cb288f",
   "metadata": {},
   "outputs": [],
   "source": [
    "bert = bert.to(device)"
   ]
  },
  {
   "cell_type": "code",
   "execution_count": null,
   "id": "6166c761",
   "metadata": {},
   "outputs": [],
   "source": [
    "def eval_graphs(graphs):\n",
    "    valid_list = []\n",
    "    mols = []\n",
    "    same_list = []\n",
    "    for graph, data in zip(graphs, validset[:len(graphs)]):\n",
    "        try:\n",
    "            valid_list += [isValid(Nx2Mol(graph))]\n",
    "        except Exception as e:\n",
    "            #print(\"yoo\", e)\n",
    "            #traceback.print_exc()\n",
    "            valid_list += [False]\n",
    "        try: \n",
    "            if valid_list[-1]:\n",
    "                smiles_orig = Mol2Smiles(Chem.MolFromSmiles(data.smiles))\n",
    "                smiles_rec = Chem.MolToSmiles(Nx2Mol(graph))\n",
    "                same_list += [smiles_orig == smiles_rec]\n",
    "                if not same_list[-1]:\n",
    "                    mols += [Chem.MolFromSmiles(data.smiles)]\n",
    "                    mols += [Nx2Mol(graph)]\n",
    "        except Exception as e:\n",
    "            print(e)\n",
    "            print(\"----------------------\")\n",
    "    valid = np.asarray(valid_list)\n",
    "    same = np.asarray(same_list)\n",
    "    print(\"%2.4f valid molecules\"%((valid.sum()/len(valid))))\n",
    "    print(\"%2.4f of the valid molecules stayed the same\"%(same.sum()/len(same)))\n",
    "    return valid, same, mols"
   ]
  },
  {
   "cell_type": "code",
   "execution_count": null,
   "id": "54837f35",
   "metadata": {},
   "outputs": [],
   "source": [
    "graphs = []\n",
    "for data in tqdm.tqdm(validloader):\n",
    "    data = [to_cuda(d) for d in data]\n",
    "    graphs += bert.fwd_graph(data[0], data[1])\n",
    "valid, same, mols = eval_graphs(graphs)"
   ]
  },
  {
   "cell_type": "markdown",
   "id": "f8d73da5",
   "metadata": {},
   "source": [
    "0.8520 valid molecules\n",
    "0.8038 of the valid molecules stayed the same\n",
    "0.8521 valid molecules\n",
    "0.8037 of the valid molecules stayed the same"
   ]
  },
  {
   "cell_type": "code",
   "execution_count": null,
   "id": "b20dc4eb",
   "metadata": {},
   "outputs": [],
   "source": [
    "graphs1 = []\n",
    "graphs2 = []\n",
    "for idx, data in tqdm.tqdm(enumerate(validloader)):\n",
    "    data = [to_cuda(d) for d in data]\n",
    "    graphs1 += bert.fwd_smart(data[0], data[1])\n",
    "    graphs2 += bert.fwd_graph(data[0], data[1])\n",
    "\n",
    "valid, same, mols = eval_graphs(graphs1)\n",
    "valid, same, mols = eval_graphs(graphs2)"
   ]
  },
  {
   "cell_type": "code",
   "execution_count": null,
   "id": "41a0663b",
   "metadata": {},
   "outputs": [],
   "source": [
    "graphs = []\n",
    "for data in tqdm.tqdm(validloader):\n",
    "    data = [to_cuda(d) for d in data]\n",
    "    graphs += bert.fwd_graph(data[0], data[1])\n",
    "valid, same, mols = eval_graphs(graphs)"
   ]
  },
  {
   "cell_type": "code",
   "execution_count": null,
   "id": "a9af767f",
   "metadata": {},
   "outputs": [],
   "source": [
    "Chem.Draw.MolsToGridImage(mols, molsPerRow=2)"
   ]
  },
  {
   "cell_type": "code",
   "execution_count": null,
   "id": "cde34228",
   "metadata": {},
   "outputs": [],
   "source": [
    "graphs = []\n",
    "for data in tqdm.tqdm(validloader):\n",
    "    data = [to_cuda(d) for d in data]\n",
    "    graphs += bert.fwd_graph_sample(data[0], data[1])\n",
    "valid, same, mols = eval_graphs(graphs)"
   ]
  },
  {
   "cell_type": "code",
   "execution_count": null,
   "id": "a7301c3a",
   "metadata": {},
   "outputs": [],
   "source": [
    "graphs = []\n",
    "for data in tqdm.tqdm(validloader):\n",
    "    data = [to_cuda(d) for d in data]\n",
    "    graphs += bert.fwd_graph_all(data[0])\n",
    "valid, same, mols = eval_graphs(graphs)"
   ]
  },
  {
   "cell_type": "code",
   "execution_count": null,
   "id": "9ebc8019",
   "metadata": {},
   "outputs": [],
   "source": [
    "graphs = []\n",
    "for data in tqdm.tqdm(validloader):\n",
    "    data = [to_cuda(d) for d in data]\n",
    "    graphs += bert.fwd_graph_all_sample(data[0])\n",
    "valid, same, mols = eval_graphs(graphs)"
   ]
  },
  {
   "cell_type": "code",
   "execution_count": null,
   "id": "a05cc842",
   "metadata": {},
   "outputs": [],
   "source": [
    "Chem.Draw.MolsToGridImage(mols, molsPerRow=2)"
   ]
  },
  {
   "cell_type": "code",
   "execution_count": null,
   "id": "8527cc04",
   "metadata": {},
   "outputs": [],
   "source": []
  },
  {
   "cell_type": "code",
   "execution_count": null,
   "id": "104b4fef",
   "metadata": {},
   "outputs": [],
   "source": []
  }
 ],
 "metadata": {
  "kernelspec": {
   "display_name": "Python 3 (ipykernel)",
   "language": "python",
   "name": "python3"
  },
  "language_info": {
   "codemirror_mode": {
    "name": "ipython",
    "version": 3
   },
   "file_extension": ".py",
   "mimetype": "text/x-python",
   "name": "python",
   "nbconvert_exporter": "python",
   "pygments_lexer": "ipython3",
   "version": "3.9.13"
  }
 },
 "nbformat": 4,
 "nbformat_minor": 5
}
