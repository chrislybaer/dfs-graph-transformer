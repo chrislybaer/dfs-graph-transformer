{
 "cells": [
  {
   "cell_type": "code",
   "execution_count": 1,
   "id": "45e53e53",
   "metadata": {},
   "outputs": [
    {
     "name": "stderr",
     "output_type": "stream",
     "text": [
      "WARNING:root:No normalization for BCUT2D_MWHI\n",
      "WARNING:root:No normalization for BCUT2D_MWLOW\n",
      "WARNING:root:No normalization for BCUT2D_CHGHI\n",
      "WARNING:root:No normalization for BCUT2D_CHGLO\n",
      "WARNING:root:No normalization for BCUT2D_LOGPHI\n",
      "WARNING:root:No normalization for BCUT2D_LOGPLOW\n",
      "WARNING:root:No normalization for BCUT2D_MRHI\n",
      "WARNING:root:No normalization for BCUT2D_MRLOW\n",
      "2022-01-21 18:11:58.168797: W tensorflow/stream_executor/platform/default/dso_loader.cc:64] Could not load dynamic library 'libcudart.so.11.0'; dlerror: libcudart.so.11.0: cannot open shared object file: No such file or directory; LD_LIBRARY_PATH: :/opt/cuda/extras/CUPTI/lib64/:/opt/intel/lib:/opt/intel/mkl/lib/intel64:/opt/intel:/opt/ibm/ILOG/CPLEX_Studio1210/cplex/bin/x86-64_linux:/opt/ibm/ILOG/CPLEX_Studio1210/cplex/python/3.7/x86-64_linux:/opt/intel/clck_latest/lib:/opt/intel/daal/lib:/opt/intel/intelpython3/lib:/opt/intel/ipp/lib:/opt/intel/itac_2019/lib:/opt/intel/itac_latest/lib:/opt/intel/mkl/lib:/opt/intel/mkl_/lib:/opt/intel/mpirt/lib:/opt/intel/tbb/lib:/opt/intel/clck/2019.0/lib:/opt/intel/compilers_and_libraries_2019/linux/lib:/opt/intel/compilers_and_libraries/linux/lib:/opt/intel/itac/2019.0.018/lib:/opt/intel/itac_2019/intel64/lib:/opt/intel/itac_latest/intel64/lib:/opt/intel/parallel_studio_xe_2019.0.045/clck_2019/lib:/opt/intel/parallel_studio_xe_2019.0.045/itac_2019/lib:/opt/intel/parallel_studio_xe_2019/clck_2019/lib:/opt/intel/parallel_studio_xe_2019/itac_2019/lib\n",
      "2022-01-21 18:11:58.168823: I tensorflow/stream_executor/cuda/cudart_stub.cc:29] Ignore above cudart dlerror if you do not have a GPU set up on your machine.\n",
      "Using backend: pytorch\n"
     ]
    }
   ],
   "source": [
    "%load_ext autoreload\n",
    "%autoreload 2\n",
    "import sys\n",
    "sys.path.append('../../src')\n",
    "from rdkit import Chem\n",
    "from dfs_transformer.utils import Smiles2Mol, Mol2Smiles, DFSCode2Graph, Graph2Mol, isValid, Smiles2DFSCode, DFSCode2Smiles, isValidMoleculeDFSCode\n",
    "from dfs_transformer.utils import load_selfattn_wandb, load_selfattn_local, computeChemicalValidityAndNovelty, parseChempropAtomFeatures, parseChempropBondFeatures\n",
    "from dfs_transformer.utils import FeaturizedDFSCodes2Nx, Mol2Nx, Nx2Mol\n",
    "import os.path\n",
    "import torch\n",
    "import torch.nn as nn\n",
    "from torch.utils.data import DataLoader\n",
    "import dfs_transformer as dfs\n",
    "import numpy as np\n",
    "from ml_collections import ConfigDict\n",
    "import yaml\n",
    "import functools\n",
    "import tqdm\n",
    "import traceback"
   ]
  },
  {
   "cell_type": "code",
   "execution_count": 2,
   "id": "876ae4b4",
   "metadata": {
    "scrolled": true
   },
   "outputs": [
    {
     "name": "stderr",
     "output_type": "stream",
     "text": [
      "ERROR:wandb.jupyter:Failed to detect the name of this notebook, you can set it manually with the WANDB_NOTEBOOK_NAME environment variable to enable code saving.\n",
      "\u001b[34m\u001b[1mwandb\u001b[0m: Currently logged in as: \u001b[33mchrisxx\u001b[0m (use `wandb login --relogin` to force relogin)\n",
      "\u001b[34m\u001b[1mwandb\u001b[0m: wandb version 0.12.9 is available!  To upgrade, please run:\n",
      "\u001b[34m\u001b[1mwandb\u001b[0m:  $ pip install wandb --upgrade\n"
     ]
    },
    {
     "data": {
      "text/html": [
       "\n",
       "                Tracking run with wandb version 0.10.33<br/>\n",
       "                Syncing run <strong style=\"color:#cdcd00\">noble-shape-27</strong> to <a href=\"https://wandb.ai\" target=\"_blank\">Weights & Biases</a> <a href=\"https://docs.wandb.com/integrations/jupyter.html\" target=\"_blank\">(Documentation)</a>.<br/>\n",
       "                Project page: <a href=\"https://wandb.ai/dfstransformer/pubchem_newencoding\" target=\"_blank\">https://wandb.ai/dfstransformer/pubchem_newencoding</a><br/>\n",
       "                Run page: <a href=\"https://wandb.ai/dfstransformer/pubchem_newencoding/runs/3qg5ftkk\" target=\"_blank\">https://wandb.ai/dfstransformer/pubchem_newencoding/runs/3qg5ftkk</a><br/>\n",
       "                Run data is saved locally in <code>../../wandb/wandb/run-20220121_181200-3qg5ftkk</code><br/><br/>\n",
       "            "
      ],
      "text/plain": [
       "<IPython.core.display.HTML object>"
      ]
     },
     "metadata": {},
     "output_type": "display_data"
    },
    {
     "name": "stderr",
     "output_type": "stream",
     "text": [
      "\u001b[34m\u001b[1mwandb\u001b[0m: Downloading large artifact r2r:latest, 98.89MB. 2 files... Done. 0:0:0\n"
     ]
    },
    {
     "data": {
      "text/html": [
       "<br/>Waiting for W&B process to finish, PID 24640<br/>Program ended successfully."
      ],
      "text/plain": [
       "<IPython.core.display.HTML object>"
      ]
     },
     "metadata": {},
     "output_type": "display_data"
    },
    {
     "data": {
      "application/vnd.jupyter.widget-view+json": {
       "model_id": "",
       "version_major": 2,
       "version_minor": 0
      },
      "text/plain": [
       "VBox(children=(Label(value=' 0.00MB of 0.00MB uploaded (0.00MB deduped)\\r'), FloatProgress(value=1.0, max=1.0)…"
      ]
     },
     "metadata": {},
     "output_type": "display_data"
    },
    {
     "data": {
      "text/html": [
       "Find user logs for this run at: <code>../../wandb/wandb/run-20220121_181200-3qg5ftkk/logs/debug.log</code>"
      ],
      "text/plain": [
       "<IPython.core.display.HTML object>"
      ]
     },
     "metadata": {},
     "output_type": "display_data"
    },
    {
     "data": {
      "text/html": [
       "Find internal logs for this run at: <code>../../wandb/wandb/run-20220121_181200-3qg5ftkk/logs/debug-internal.log</code>"
      ],
      "text/plain": [
       "<IPython.core.display.HTML object>"
      ]
     },
     "metadata": {},
     "output_type": "display_data"
    },
    {
     "data": {
      "text/html": [
       "Synced 5 W&B file(s), 0 media file(s), 0 artifact file(s) and 0 other file(s)"
      ],
      "text/plain": [
       "<IPython.core.display.HTML object>"
      ]
     },
     "metadata": {},
     "output_type": "display_data"
    },
    {
     "data": {
      "text/html": [
       "\n",
       "                    <br/>Synced <strong style=\"color:#cdcd00\">noble-shape-27</strong>: <a href=\"https://wandb.ai/dfstransformer/pubchem_newencoding/runs/3qg5ftkk\" target=\"_blank\">https://wandb.ai/dfstransformer/pubchem_newencoding/runs/3qg5ftkk</a><br/>\n",
       "                "
      ],
      "text/plain": [
       "<IPython.core.display.HTML object>"
      ]
     },
     "metadata": {},
     "output_type": "display_data"
    }
   ],
   "source": [
    "pretrained_model = \"r2r\"\n",
    "pretrained_project = \"pubchem_newencoding\"\n",
    "force_download = False\n",
    "if os.path.isdir(\"../../wandb/artifacts/%s\"%pretrained_model) and not force_download:\n",
    "    bert, cfg = load_selfattn_local(\"../../wandb/artifacts/%s\"%pretrained_model)\n",
    "else:\n",
    "    bert, cfg = load_selfattn_wandb(pretrained_model, wandb_dir=\"../../wandb\", pretrained_project=pretrained_project)"
   ]
  },
  {
   "cell_type": "code",
   "execution_count": 3,
   "id": "853dba1b",
   "metadata": {},
   "outputs": [],
   "source": [
    "bert = bert.eval()"
   ]
  },
  {
   "cell_type": "code",
   "execution_count": 4,
   "id": "6ece0d47",
   "metadata": {},
   "outputs": [],
   "source": [
    "with open(\"../../config/selfattn/data/pubchem10K.yaml\") as file:\n",
    "    d = ConfigDict(yaml.load(file, Loader=yaml.FullLoader))"
   ]
  },
  {
   "cell_type": "code",
   "execution_count": 5,
   "id": "392d099a",
   "metadata": {},
   "outputs": [],
   "source": [
    "cfg.training.fraction_missing = 0.15"
   ]
  },
  {
   "cell_type": "code",
   "execution_count": 6,
   "id": "15b95515",
   "metadata": {},
   "outputs": [],
   "source": [
    "d.no_features = cfg.data.no_features"
   ]
  },
  {
   "cell_type": "code",
   "execution_count": 7,
   "id": "ea0ad761",
   "metadata": {},
   "outputs": [],
   "source": [
    "if cfg.training.mode == \"rnd2rnd\":\n",
    "    collate_fn = functools.partial(dfs.collate_BERT, \n",
    "                                   mode=cfg.training.mode, \n",
    "                                   fraction_missing = cfg.training.fraction_missing,\n",
    "                                   use_loops=cfg.model.use_loops)\n",
    "elif cfg.training.mode == \"rnd2rnd_entry\":\n",
    "    collate_fn = functools.partial(dfs.collate_BERT_entries, \n",
    "                                   mode=\"rnd2rnd\", \n",
    "                                   fraction_missing = cfg.training.fraction_missing,\n",
    "                                   use_loops=cfg.model.use_loops)"
   ]
  },
  {
   "cell_type": "code",
   "execution_count": null,
   "id": "4c0ee16e",
   "metadata": {},
   "outputs": [
    {
     "name": "stderr",
     "output_type": "stream",
     "text": [
      "\r",
      "  0%|                                                                                                                                                                                       | 0/10 [00:00<?, ?it/s]"
     ]
    }
   ],
   "source": [
    "validset = dfs.PubChem('../.'+d.valid_path, max_nodes=d.max_nodes, max_edges=d.max_edges, noFeatures=d.no_features,\n",
    "                   molecular_properties=d.molecular_properties, useDists=d.useDists, useHs=d.useHs,\n",
    "                   filter_unencoded=True)\n"
   ]
  },
  {
   "cell_type": "code",
   "execution_count": null,
   "id": "5c16af36",
   "metadata": {},
   "outputs": [],
   "source": [
    "validloader = DataLoader(validset, batch_size=50, shuffle=False, \n",
    "                         pin_memory=True, collate_fn=collate_fn, num_workers=4,\n",
    "                         prefetch_factor=2)"
   ]
  },
  {
   "cell_type": "markdown",
   "id": "82dc2b47",
   "metadata": {},
   "source": [
    "# this part only works if missing_fraction = 0\n",
    "graphs = []\n",
    "for data in tqdm.tqdm(validloader):\n",
    "    graphs += FeaturizedDFSCodes2Nx(data[0])"
   ]
  },
  {
   "cell_type": "markdown",
   "id": "ae54cfb9",
   "metadata": {},
   "source": [
    "bad_smiles = []\n",
    "for dd, graph in tqdm.tqdm(zip(validset, graphs)):\n",
    "    mol = Nx2Mol(graph)\n",
    "    try:\n",
    "        smiles1 = Chem.MolToSmiles(Chem.MolFromSmiles(dd.smiles))\n",
    "        #print(smiles1)\n",
    "        mol = Nx2Mol(graph)\n",
    "        smiles2 = Chem.MolToSmiles(mol)\n",
    "        #print(smiles2)\n",
    "        assert smiles1 == smiles2\n",
    "    except:\n",
    "        bad_smiles += [smiles1]"
   ]
  },
  {
   "cell_type": "markdown",
   "id": "3f3a1206",
   "metadata": {},
   "source": [
    "bad_smiles"
   ]
  },
  {
   "cell_type": "markdown",
   "id": "47cf61a0",
   "metadata": {},
   "source": [
    "len(bad_smiles)/len(validset)"
   ]
  },
  {
   "cell_type": "code",
   "execution_count": null,
   "id": "2dfd9f0a",
   "metadata": {},
   "outputs": [],
   "source": [
    "device = torch.device('cuda:%d'%0 if torch.cuda.is_available() else 'cpu')\n",
    "#device = torch.device('cpu')\n",
    "to_cuda = functools.partial(dfs.utils_to_cuda, device=device)"
   ]
  },
  {
   "cell_type": "code",
   "execution_count": null,
   "id": "82cb288f",
   "metadata": {},
   "outputs": [],
   "source": [
    "bert = bert.to(device)"
   ]
  },
  {
   "cell_type": "code",
   "execution_count": null,
   "id": "0ff27772",
   "metadata": {},
   "outputs": [],
   "source": [
    "def eval_graphs(graphs):\n",
    "    valid_list = []\n",
    "    mols = []\n",
    "    same_list = []\n",
    "    for graph, data in zip(graphs, validset[:len(graphs)]):\n",
    "        try:\n",
    "            valid_list += [isValid(Nx2Mol(graph))]\n",
    "        except Exception as e:\n",
    "            #print(\"yoo\", e)\n",
    "            #traceback.print_exc()\n",
    "            valid_list += [False]\n",
    "        try: \n",
    "            if valid_list[-1]:\n",
    "                smiles_orig = Mol2Smiles(Chem.MolFromSmiles(data.smiles))\n",
    "                smiles_rec = Chem.MolToSmiles(Nx2Mol(graph))\n",
    "                same_list += [smiles_orig == smiles_rec]\n",
    "                if not same_list[-1]:\n",
    "                    mols += [Chem.MolFromSmiles(data.smiles)]\n",
    "                    mols += [Nx2Mol(graph)]\n",
    "        except Exception as e:\n",
    "            print(e)\n",
    "            print(\"----------------------\")\n",
    "    valid = np.asarray(valid_list)\n",
    "    same = np.asarray(same_list)\n",
    "    print(\"%2.4f valid molecules\"%((valid.sum()/len(valid))))\n",
    "    print(\"%2.4f of the valid molecules stayed the same\"%(same.sum()/len(same)))\n",
    "    return valid, same, mols"
   ]
  },
  {
   "cell_type": "code",
   "execution_count": null,
   "id": "8965a8ae",
   "metadata": {},
   "outputs": [],
   "source": [
    "graphs = []\n",
    "for data in tqdm.tqdm(validloader):\n",
    "    data = [to_cuda(d) for d in data]\n",
    "    graphs += bert.fwd_graph(data[0], data[1])\n",
    "valid, same, mols = eval_graphs(graphs)"
   ]
  },
  {
   "cell_type": "code",
   "execution_count": null,
   "id": "88cf8ee1",
   "metadata": {},
   "outputs": [],
   "source": [
    "graphs = []\n",
    "for data in tqdm.tqdm(validloader):\n",
    "    data = [to_cuda(d) for d in data]\n",
    "    graphs += bert.fwd_graph_sample(data[0], data[1])\n",
    "valid, same, mols = eval_graphs(graphs)"
   ]
  },
  {
   "cell_type": "code",
   "execution_count": null,
   "id": "994f17d9",
   "metadata": {},
   "outputs": [],
   "source": [
    "graphs = []\n",
    "for data in tqdm.tqdm(validloader):\n",
    "    data = [to_cuda(d) for d in data]\n",
    "    graphs += bert.fwd_graph_all(data[0])\n",
    "valid, same, mols = eval_graphs(graphs)"
   ]
  },
  {
   "cell_type": "code",
   "execution_count": null,
   "id": "d8037508",
   "metadata": {},
   "outputs": [],
   "source": [
    "graphs = []\n",
    "for data in tqdm.tqdm(validloader):\n",
    "    data = [to_cuda(d) for d in data]\n",
    "    graphs += bert.fwd_graph_all_sample(data[0])\n",
    "valid, same, mols = eval_graphs(graphs)"
   ]
  },
  {
   "cell_type": "code",
   "execution_count": null,
   "id": "a05cc842",
   "metadata": {},
   "outputs": [],
   "source": [
    "Chem.Draw.MolsToGridImage(mols, molsPerRow=2)"
   ]
  },
  {
   "cell_type": "code",
   "execution_count": null,
   "id": "8527cc04",
   "metadata": {},
   "outputs": [],
   "source": []
  }
 ],
 "metadata": {
  "kernelspec": {
   "display_name": "Python 3 (ipykernel)",
   "language": "python",
   "name": "python3"
  },
  "language_info": {
   "codemirror_mode": {
    "name": "ipython",
    "version": 3
   },
   "file_extension": ".py",
   "mimetype": "text/x-python",
   "name": "python",
   "nbconvert_exporter": "python",
   "pygments_lexer": "ipython3",
   "version": "3.8.3"
  }
 },
 "nbformat": 4,
 "nbformat_minor": 5
}
