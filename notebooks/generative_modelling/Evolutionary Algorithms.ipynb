{
 "cells": [
  {
   "cell_type": "code",
   "execution_count": 1,
   "id": "45e53e53",
   "metadata": {},
   "outputs": [
    {
     "name": "stderr",
     "output_type": "stream",
     "text": [
      "WARNING:root:No normalization for BCUT2D_MWHI\n",
      "WARNING:root:No normalization for BCUT2D_MWLOW\n",
      "WARNING:root:No normalization for BCUT2D_CHGHI\n",
      "WARNING:root:No normalization for BCUT2D_CHGLO\n",
      "WARNING:root:No normalization for BCUT2D_LOGPHI\n",
      "WARNING:root:No normalization for BCUT2D_LOGPLOW\n",
      "WARNING:root:No normalization for BCUT2D_MRHI\n",
      "WARNING:root:No normalization for BCUT2D_MRLOW\n",
      "Using backend: pytorch\n"
     ]
    }
   ],
   "source": [
    "%load_ext autoreload\n",
    "%autoreload 2\n",
    "import sys\n",
    "sys.path.append('../../src')\n",
    "from rdkit import Chem\n",
    "from dfs_transformer.utils import DFSCode2Graph, Graph2Mol, isValid, Smiles2DFSCode, DFSCode2Smiles, isValidMoleculeDFSCode\n",
    "from dfs_transformer.utils import load_selfattn_wandb, load_selfattn_local\n",
    "import os.path\n",
    "import torch\n",
    "import torch.nn as nn\n",
    "import dfs_transformer as dfs\n"
   ]
  },
  {
   "cell_type": "code",
   "execution_count": 2,
   "id": "876ae4b4",
   "metadata": {},
   "outputs": [],
   "source": [
    "pretrained_model = \"r2r-nofeat\"\n",
    "if os.path.isdir(\"../../wandb/artifacts/%s\"%pretrained_model):\n",
    "    bert, cfg = load_selfattn_local(\"../../wandb/artifacts/%s\"%pretrained_model)\n",
    "else:\n",
    "    bert, cfg = load_selfattn_wandb(pretrained_model, wandb_dir=\"../../wandb\")"
   ]
  },
  {
   "cell_type": "code",
   "execution_count": 3,
   "id": "4c0ee16e",
   "metadata": {},
   "outputs": [],
   "source": [
    "smiles_list = ['CN=C=O', 'Cc1cn2c(CN(C)C(=O)c3ccc(F)cc3C)c(C)nc2s1', 'Cc1cc(F)ccc1C(=O)N(C)Cc1c(C)nc2scc(C)n12']"
   ]
  },
  {
   "cell_type": "code",
   "execution_count": 4,
   "id": "75cd4b38",
   "metadata": {},
   "outputs": [],
   "source": [
    "dlist = []\n",
    "for smiles in smiles_list:\n",
    "    data = dfs.smiles2graph(smiles)\n",
    "    data.edge_features = data.edge_attr\n",
    "    data.node_features = nn.functional.one_hot(data.z-1, num_classes=118).float()\n",
    "    dlist += [data]"
   ]
  },
  {
   "cell_type": "code",
   "execution_count": 5,
   "id": "1054df33",
   "metadata": {},
   "outputs": [],
   "source": [
    "inputs, outputs = dfs.collate_BERT(dlist, mode=\"rnd2rnd\", fraction_missing=0.15)"
   ]
  },
  {
   "cell_type": "code",
   "execution_count": 6,
   "id": "9be3d139",
   "metadata": {},
   "outputs": [
    {
     "data": {
      "text/plain": [
       "torch.Size([25, 3, 118])"
      ]
     },
     "execution_count": 6,
     "metadata": {},
     "output_type": "execute_result"
    }
   ],
   "source": [
    "inputs['atm_from'].shape"
   ]
  },
  {
   "cell_type": "code",
   "execution_count": 7,
   "id": "33072a2e",
   "metadata": {},
   "outputs": [],
   "source": [
    "code_list = bert.fwd_code(inputs)"
   ]
  },
  {
   "cell_type": "code",
   "execution_count": 8,
   "id": "ddbe29be",
   "metadata": {},
   "outputs": [
    {
     "data": {
      "text/plain": [
       "[[0, 1, 6, 1, 7], [1, 2, 7, 0, 6], [0, 3, 6, 1, 8]]"
      ]
     },
     "execution_count": 8,
     "metadata": {},
     "output_type": "execute_result"
    }
   ],
   "source": [
    "code_list[0]"
   ]
  },
  {
   "cell_type": "code",
   "execution_count": 9,
   "id": "572e224c",
   "metadata": {},
   "outputs": [
    {
     "data": {
      "text/plain": [
       "[[0, 1, 6, 2, 6],\n",
       " [1, 2, 6, 2, 6],\n",
       " [2, 3, 6, 2, 6],\n",
       " [3, 4, 6, 2, 6],\n",
       " [4, 5, 6, 2, 6],\n",
       " [5, 0, 6, 2, 6],\n",
       " [4, 6, 6, 0, 6],\n",
       " [6, 7, 6, 1, 8],\n",
       " [6, 8, 6, 0, 7],\n",
       " [8, 9, 7, 0, 6],\n",
       " [9, 10, 7, 0, 7],\n",
       " [10, 11, 6, 0, 6],\n",
       " [11, 12, 6, 2, 6],\n",
       " [12, 13, 6, 0, 6],\n",
       " [12, 14, 6, 2, 7],\n",
       " [14, 15, 8, 2, 7],\n",
       " [15, 16, 6, 2, 7],\n",
       " [16, 11, 7, 2, 6],\n",
       " [16, 17, 7, 2, 6],\n",
       " [17, 18, 6, 2, 6],\n",
       " [18, 19, 6, 2, 16],\n",
       " [19, 15, 16, 2, 6],\n",
       " [18, 20, 6, 0, 6],\n",
       " [3, 21, 6, 0, 6],\n",
       " [1, 22, 7, 0, 7]]"
      ]
     },
     "execution_count": 9,
     "metadata": {},
     "output_type": "execute_result"
    }
   ],
   "source": [
    "code_list[1]"
   ]
  },
  {
   "cell_type": "code",
   "execution_count": 10,
   "id": "aa34b60a",
   "metadata": {},
   "outputs": [
    {
     "name": "stdout",
     "output_type": "stream",
     "text": [
      "True\n",
      "Can't kekulize mol.  Unkekulized atoms: 0 2 3 4 5\n",
      "\n",
      "False\n",
      "Explicit valence for atom # 18 N, 5, is greater than permitted\n",
      "False\n"
     ]
    }
   ],
   "source": [
    "for code in code_list:\n",
    "    print(isValidMoleculeDFSCode(code))"
   ]
  },
  {
   "cell_type": "code",
   "execution_count": 12,
   "id": "0e843dce",
   "metadata": {},
   "outputs": [
    {
     "data": {
      "text/plain": [
       "'Cc1cn2c(CNNC(=O)c3ccn(N)cc3C)c(C)oc2s1'"
      ]
     },
     "execution_count": 12,
     "metadata": {},
     "output_type": "execute_result"
    }
   ],
   "source": [
    "DFSCode2Smiles(code_list[1])"
   ]
  },
  {
   "cell_type": "code",
   "execution_count": null,
   "id": "79ebd129",
   "metadata": {},
   "outputs": [],
   "source": []
  }
 ],
 "metadata": {
  "kernelspec": {
   "display_name": "Python 3 (ipykernel)",
   "language": "python",
   "name": "python3"
  },
  "language_info": {
   "codemirror_mode": {
    "name": "ipython",
    "version": 3
   },
   "file_extension": ".py",
   "mimetype": "text/x-python",
   "name": "python",
   "nbconvert_exporter": "python",
   "pygments_lexer": "ipython3",
   "version": "3.8.3"
  }
 },
 "nbformat": 4,
 "nbformat_minor": 5
}
