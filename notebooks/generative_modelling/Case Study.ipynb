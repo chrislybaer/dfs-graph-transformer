{
 "cells": [
  {
   "cell_type": "code",
   "execution_count": 1,
   "id": "45e53e53",
   "metadata": {},
   "outputs": [],
   "source": [
    "%load_ext autoreload\n",
    "%autoreload 2\n",
    "import sys\n",
    "sys.path.append('../../src')\n",
    "from rdkit import Chem\n",
    "from dfs_transformer.utils import Smiles2Mol, Mol2Smiles, DFSCode2Graph, Graph2Mol, isValid, Smiles2DFSCode, DFSCode2Smiles, isValidMoleculeDFSCode\n",
    "from dfs_transformer.utils import load_selfattn_wandb, load_selfattn_local, computeChemicalValidityAndNovelty, parseChempropAtomFeatures, parseChempropBondFeatures\n",
    "from dfs_transformer.utils import FeaturizedDFSCodes2Nx, Mol2Nx, Nx2Mol\n",
    "import os.path\n",
    "import torch\n",
    "import torch.nn as nn\n",
    "from torch.utils.data import DataLoader\n",
    "import dfs_transformer as dfs\n",
    "import numpy as np\n",
    "from ml_collections import ConfigDict\n",
    "import yaml\n",
    "import functools\n",
    "import tqdm\n",
    "import traceback"
   ]
  },
  {
   "cell_type": "code",
   "execution_count": 2,
   "id": "876ae4b4",
   "metadata": {
    "scrolled": true
   },
   "outputs": [
    {
     "name": "stderr",
     "output_type": "stream",
     "text": [
      "2022/10/28 18:18:35\tERROR\twandb.jupyter\tFailed to detect the name of this notebook, you can set it manually with the WANDB_NOTEBOOK_NAME environment variable to enable code saving.\n",
      "\u001b[34m\u001b[1mwandb\u001b[0m: Currently logged in as: \u001b[33meth-compiler-opters\u001b[0m (use `wandb login --relogin` to force relogin)\n",
      "\u001b[34m\u001b[1mwandb\u001b[0m: wandb version 0.13.4 is available!  To upgrade, please run:\n",
      "\u001b[34m\u001b[1mwandb\u001b[0m:  $ pip install wandb --upgrade\n"
     ]
    },
    {
     "data": {
      "text/html": [
       "\n",
       "                Tracking run with wandb version 0.10.33<br/>\n",
       "                Syncing run <strong style=\"color:#cdcd00\">comic-river-143</strong> to <a href=\"https://wandb.ai\" target=\"_blank\">Weights & Biases</a> <a href=\"https://docs.wandb.com/integrations/jupyter.html\" target=\"_blank\">(Documentation)</a>.<br/>\n",
       "                Project page: <a href=\"https://wandb.ai/dfstransformer/pubchem_newencoding\" target=\"_blank\">https://wandb.ai/dfstransformer/pubchem_newencoding</a><br/>\n",
       "                Run page: <a href=\"https://wandb.ai/dfstransformer/pubchem_newencoding/runs/3sn0ll7a\" target=\"_blank\">https://wandb.ai/dfstransformer/pubchem_newencoding/runs/3sn0ll7a</a><br/>\n",
       "                Run data is saved locally in <code>../../wandb/wandb/run-20221028_181835-3sn0ll7a</code><br/><br/>\n",
       "            "
      ],
      "text/plain": [
       "<IPython.core.display.HTML object>"
      ]
     },
     "metadata": {},
     "output_type": "display_data"
    },
    {
     "name": "stderr",
     "output_type": "stream",
     "text": [
      "\u001b[34m\u001b[1mwandb\u001b[0m: Downloading large artifact r2r045-c4s-noprop:latest, 97.16MB. 2 files... Done. 0:0:0\n"
     ]
    },
    {
     "data": {
      "text/html": [
       "<br/>Waiting for W&B process to finish, PID 46387<br/>Program ended successfully."
      ],
      "text/plain": [
       "<IPython.core.display.HTML object>"
      ]
     },
     "metadata": {},
     "output_type": "display_data"
    },
    {
     "data": {
      "application/vnd.jupyter.widget-view+json": {
       "model_id": "",
       "version_major": 2,
       "version_minor": 0
      },
      "text/plain": [
       "VBox(children=(Label(value=' 0.00MB of 0.00MB uploaded (0.00MB deduped)\\r'), FloatProgress(value=1.0, max=1.0)…"
      ]
     },
     "metadata": {},
     "output_type": "display_data"
    },
    {
     "data": {
      "text/html": [
       "Find user logs for this run at: <code>../../wandb/wandb/run-20221028_181835-3sn0ll7a/logs/debug.log</code>"
      ],
      "text/plain": [
       "<IPython.core.display.HTML object>"
      ]
     },
     "metadata": {},
     "output_type": "display_data"
    },
    {
     "data": {
      "text/html": [
       "Find internal logs for this run at: <code>../../wandb/wandb/run-20221028_181835-3sn0ll7a/logs/debug-internal.log</code>"
      ],
      "text/plain": [
       "<IPython.core.display.HTML object>"
      ]
     },
     "metadata": {},
     "output_type": "display_data"
    },
    {
     "data": {
      "text/html": [
       "Synced 6 W&B file(s), 0 media file(s), 0 artifact file(s) and 0 other file(s)"
      ],
      "text/plain": [
       "<IPython.core.display.HTML object>"
      ]
     },
     "metadata": {},
     "output_type": "display_data"
    },
    {
     "data": {
      "text/html": [
       "\n",
       "                    <br/>Synced <strong style=\"color:#cdcd00\">comic-river-143</strong>: <a href=\"https://wandb.ai/dfstransformer/pubchem_newencoding/runs/3sn0ll7a\" target=\"_blank\">https://wandb.ai/dfstransformer/pubchem_newencoding/runs/3sn0ll7a</a><br/>\n",
       "                "
      ],
      "text/plain": [
       "<IPython.core.display.HTML object>"
      ]
     },
     "metadata": {},
     "output_type": "display_data"
    }
   ],
   "source": [
    "pretrained_model = \"r2r045-c4s-noprop\"\n",
    "pretrained_project = \"pubchem_newencoding\"\n",
    "force_download = False\n",
    "if os.path.isdir(\"../../wandb/artifacts/%s\"%pretrained_model) and not force_download:\n",
    "    bert, cfg = load_selfattn_local(\"../../wandb/artifacts/%s\"%pretrained_model)\n",
    "else:\n",
    "    bert, cfg = load_selfattn_wandb(pretrained_model, wandb_dir=\"../../wandb\", pretrained_project=pretrained_project)"
   ]
  },
  {
   "cell_type": "code",
   "execution_count": 3,
   "id": "853dba1b",
   "metadata": {},
   "outputs": [],
   "source": [
    "bert = bert.eval()"
   ]
  },
  {
   "cell_type": "code",
   "execution_count": 4,
   "id": "6ece0d47",
   "metadata": {},
   "outputs": [],
   "source": [
    "with open(\"../../config/selfattn/data/pubchem10K.yaml\") as file:\n",
    "    d = ConfigDict(yaml.load(file, Loader=yaml.FullLoader))"
   ]
  },
  {
   "cell_type": "code",
   "execution_count": 5,
   "id": "15b95515",
   "metadata": {},
   "outputs": [],
   "source": [
    "d.no_features = cfg.data.no_features"
   ]
  },
  {
   "cell_type": "code",
   "execution_count": 6,
   "id": "e00a8a19",
   "metadata": {},
   "outputs": [],
   "source": [
    "cfg.training.fraction_missing = 0.15"
   ]
  },
  {
   "cell_type": "code",
   "execution_count": 7,
   "id": "ea0ad761",
   "metadata": {},
   "outputs": [],
   "source": [
    "collate_fn = functools.partial(dfs.collate_delete_one, \n",
    "                               mode=cfg.training.mode, \n",
    "                               fraction_missing = cfg.training.fraction_missing,\n",
    "                               use_loops=cfg.model.use_loops)"
   ]
  },
  {
   "cell_type": "code",
   "execution_count": 9,
   "id": "f80ddd45",
   "metadata": {},
   "outputs": [
    {
     "data": {
      "text/plain": [
       "'/home/chrisw/Documents/projects/2021/graph-transformer-feature-dataloader/results/pubchem/noH/validation/'"
      ]
     },
     "execution_count": 9,
     "metadata": {},
     "output_type": "execute_result"
    }
   ],
   "source": [
    "d.valid_path"
   ]
  },
  {
   "cell_type": "code",
   "execution_count": 10,
   "id": "4c0ee16e",
   "metadata": {},
   "outputs": [
    {
     "name": "stderr",
     "output_type": "stream",
     "text": [
      "100%|██████████████████████████████████████████████████████████████████████████████████████████████████████████████████████████████████████████████████████████████████████████████| 10/10 [00:00<00:00, 13.30it/s]\n",
      "100%|█████████████████████████████████████████████████████████████████████████████████████████████████████████████████████████████████████████████████████████████████████████| 9978/9978 [00:14<00:00, 679.47it/s]\n"
     ]
    }
   ],
   "source": [
    "validset = dfs.PubChem(d.valid_path, max_nodes=d.max_nodes, max_edges=d.max_edges, noFeatures=d.no_features,\n",
    "                   molecular_properties=d.molecular_properties, useDists=d.useDists, useHs=d.useHs,\n",
    "                   filter_unencoded=True)\n"
   ]
  },
  {
   "cell_type": "code",
   "execution_count": 11,
   "id": "6c202f05",
   "metadata": {},
   "outputs": [],
   "source": [
    "validset = validset[:1000]"
   ]
  },
  {
   "cell_type": "code",
   "execution_count": 12,
   "id": "5c16af36",
   "metadata": {},
   "outputs": [],
   "source": [
    "validloader = DataLoader(validset, batch_size=50, shuffle=False, \n",
    "                         pin_memory=True, collate_fn=collate_fn, num_workers=4,\n",
    "                         prefetch_factor=2)"
   ]
  },
  {
   "cell_type": "code",
   "execution_count": 13,
   "id": "2dfd9f0a",
   "metadata": {},
   "outputs": [],
   "source": [
    "device = torch.device('cuda:%d'%0 if torch.cuda.is_available() else 'cpu')\n",
    "#device = torch.device('cpu')\n",
    "to_cuda = functools.partial(dfs.utils_to_cuda, device=device)"
   ]
  },
  {
   "cell_type": "code",
   "execution_count": 14,
   "id": "82cb288f",
   "metadata": {},
   "outputs": [],
   "source": [
    "bert = bert.to(device)"
   ]
  },
  {
   "cell_type": "code",
   "execution_count": 15,
   "id": "9b30884a",
   "metadata": {},
   "outputs": [],
   "source": [
    "def eval_graphs(graphs):\n",
    "    valid_list = []\n",
    "    mols = []\n",
    "    same_list = []\n",
    "    for graph, data in zip(graphs, validset[:len(graphs)]):\n",
    "        try:\n",
    "            valid_list += [isValid(Nx2Mol(graph))]\n",
    "        except Exception as e:\n",
    "            #print(\"yoo\", e)\n",
    "            #traceback.print_exc()\n",
    "            valid_list += [False]\n",
    "        try: \n",
    "            if valid_list[-1]:\n",
    "                smiles_orig = Mol2Smiles(Chem.MolFromSmiles(data.smiles))\n",
    "                smiles_rec = Chem.MolToSmiles(Nx2Mol(graph))\n",
    "                same_list += [smiles_orig == smiles_rec]\n",
    "                if not same_list[-1]:\n",
    "                    mols += [Chem.MolFromSmiles(data.smiles)]\n",
    "                    mols += [Nx2Mol(graph)]\n",
    "        except Exception as e:\n",
    "            print(e)\n",
    "            print(\"----------------------\")\n",
    "    valid = np.asarray(valid_list)\n",
    "    same = np.asarray(same_list)\n",
    "    print(\"%2.4f valid molecules\"%((valid.sum()/len(valid))))\n",
    "    print(\"%2.4f of the valid molecules stayed the same\"%(same.sum()/len(same)))\n",
    "    return valid, same, mols"
   ]
  },
  {
   "cell_type": "code",
   "execution_count": 16,
   "id": "8de8df49",
   "metadata": {},
   "outputs": [],
   "source": [
    "data = next(iter(validloader))"
   ]
  },
  {
   "cell_type": "code",
   "execution_count": 17,
   "id": "6f475d60",
   "metadata": {},
   "outputs": [
    {
     "name": "stderr",
     "output_type": "stream",
     "text": [
      "  0%|                                                                                                                                                                                       | 0/20 [00:00<?, ?it/s]\n"
     ]
    },
    {
     "ename": "NotImplementedError",
     "evalue": "does not account for missing values yet",
     "output_type": "error",
     "traceback": [
      "\u001b[0;31m---------------------------------------------------------------------------\u001b[0m",
      "\u001b[0;31mNotImplementedError\u001b[0m                       Traceback (most recent call last)",
      "\u001b[0;32m/tmp/ipykernel_46343/4020260018.py\u001b[0m in \u001b[0;36m<module>\u001b[0;34m\u001b[0m\n\u001b[1;32m      2\u001b[0m \u001b[0;32mfor\u001b[0m \u001b[0mdata\u001b[0m \u001b[0;32min\u001b[0m \u001b[0mtqdm\u001b[0m\u001b[0;34m.\u001b[0m\u001b[0mtqdm\u001b[0m\u001b[0;34m(\u001b[0m\u001b[0mvalidloader\u001b[0m\u001b[0;34m)\u001b[0m\u001b[0;34m:\u001b[0m\u001b[0;34m\u001b[0m\u001b[0;34m\u001b[0m\u001b[0m\n\u001b[1;32m      3\u001b[0m     \u001b[0mdata\u001b[0m \u001b[0;34m=\u001b[0m \u001b[0;34m[\u001b[0m\u001b[0mto_cuda\u001b[0m\u001b[0;34m(\u001b[0m\u001b[0md\u001b[0m\u001b[0;34m)\u001b[0m \u001b[0;32mfor\u001b[0m \u001b[0md\u001b[0m \u001b[0;32min\u001b[0m \u001b[0mdata\u001b[0m\u001b[0;34m]\u001b[0m\u001b[0;34m\u001b[0m\u001b[0;34m\u001b[0m\u001b[0m\n\u001b[0;32m----> 4\u001b[0;31m     \u001b[0mgraphs\u001b[0m \u001b[0;34m+=\u001b[0m \u001b[0mbert\u001b[0m\u001b[0;34m.\u001b[0m\u001b[0mfwd_graph\u001b[0m\u001b[0;34m(\u001b[0m\u001b[0mdata\u001b[0m\u001b[0;34m[\u001b[0m\u001b[0;36m0\u001b[0m\u001b[0;34m]\u001b[0m\u001b[0;34m,\u001b[0m \u001b[0mdata\u001b[0m\u001b[0;34m[\u001b[0m\u001b[0;36m1\u001b[0m\u001b[0;34m]\u001b[0m\u001b[0;34m)\u001b[0m\u001b[0;34m\u001b[0m\u001b[0;34m\u001b[0m\u001b[0m\n\u001b[0m\u001b[1;32m      5\u001b[0m     \u001b[0;32mbreak\u001b[0m\u001b[0;34m\u001b[0m\u001b[0;34m\u001b[0m\u001b[0m\n\u001b[1;32m      6\u001b[0m \u001b[0mvalid\u001b[0m\u001b[0;34m,\u001b[0m \u001b[0msame\u001b[0m\u001b[0;34m,\u001b[0m \u001b[0mmols\u001b[0m \u001b[0;34m=\u001b[0m \u001b[0meval_graphs\u001b[0m\u001b[0;34m(\u001b[0m\u001b[0mgraphs\u001b[0m\u001b[0;34m)\u001b[0m\u001b[0;34m\u001b[0m\u001b[0;34m\u001b[0m\u001b[0m\n",
      "\u001b[0;32m~/Documents/projects/2023/graph-transformer/notebooks/generative_modelling/../../src/dfs_transformer/nn/selfattn.py\u001b[0m in \u001b[0;36mfwd_graph\u001b[0;34m(self, dfs_codes, targets, pred_codes)\u001b[0m\n\u001b[1;32m    601\u001b[0m             \u001b[0mnew\u001b[0m\u001b[0;34m[\u001b[0m\u001b[0mmask\u001b[0m\u001b[0;34m]\u001b[0m \u001b[0;34m=\u001b[0m \u001b[0;34m-\u001b[0m\u001b[0;36m1000\u001b[0m\u001b[0;34m\u001b[0m\u001b[0;34m\u001b[0m\u001b[0m\n\u001b[1;32m    602\u001b[0m             \u001b[0mpred_codes\u001b[0m\u001b[0;34m[\u001b[0m\u001b[0mpkey\u001b[0m\u001b[0;34m]\u001b[0m \u001b[0;34m=\u001b[0m \u001b[0mnew\u001b[0m\u001b[0;34m\u001b[0m\u001b[0;34m\u001b[0m\u001b[0m\n\u001b[0;32m--> 603\u001b[0;31m         \u001b[0;32mreturn\u001b[0m \u001b[0mDFSCodesDict2Nx\u001b[0m\u001b[0;34m(\u001b[0m\u001b[0mpred_codes\u001b[0m\u001b[0;34m,\u001b[0m \u001b[0mpadding_value\u001b[0m\u001b[0;34m=\u001b[0m\u001b[0;34m-\u001b[0m\u001b[0;36m1000\u001b[0m\u001b[0;34m)\u001b[0m\u001b[0;34m\u001b[0m\u001b[0;34m\u001b[0m\u001b[0m\n\u001b[0m\u001b[1;32m    604\u001b[0m \u001b[0;34m\u001b[0m\u001b[0m\n\u001b[1;32m    605\u001b[0m \u001b[0;34m\u001b[0m\u001b[0m\n",
      "\u001b[0;32m~/Documents/projects/2023/graph-transformer/notebooks/generative_modelling/../../src/dfs_transformer/utils/rdkit.py\u001b[0m in \u001b[0;36mDFSCodesDict2Nx\u001b[0;34m(dfs_code, padding_value)\u001b[0m\n\u001b[1;32m    180\u001b[0m \u001b[0;32mdef\u001b[0m \u001b[0mDFSCodesDict2Nx\u001b[0m\u001b[0;34m(\u001b[0m\u001b[0mdfs_code\u001b[0m\u001b[0;34m,\u001b[0m \u001b[0mpadding_value\u001b[0m\u001b[0;34m=\u001b[0m\u001b[0;34m-\u001b[0m\u001b[0;36m1000\u001b[0m\u001b[0;34m)\u001b[0m\u001b[0;34m:\u001b[0m\u001b[0;34m\u001b[0m\u001b[0;34m\u001b[0m\u001b[0m\n\u001b[1;32m    181\u001b[0m     \u001b[0;32mif\u001b[0m \u001b[0mtorch\u001b[0m\u001b[0;34m.\u001b[0m\u001b[0many\u001b[0m\u001b[0;34m(\u001b[0m\u001b[0mdfs_code\u001b[0m\u001b[0;34m[\u001b[0m\u001b[0;34m\"dfs_from\"\u001b[0m\u001b[0;34m]\u001b[0m \u001b[0;34m==\u001b[0m \u001b[0;34m-\u001b[0m\u001b[0;36m1\u001b[0m\u001b[0;34m)\u001b[0m\u001b[0;34m:\u001b[0m\u001b[0;34m\u001b[0m\u001b[0;34m\u001b[0m\u001b[0m\n\u001b[0;32m--> 182\u001b[0;31m         \u001b[0;32mraise\u001b[0m \u001b[0mNotImplementedError\u001b[0m\u001b[0;34m(\u001b[0m\u001b[0;34m\"does not account for missing values yet\"\u001b[0m\u001b[0;34m)\u001b[0m\u001b[0;34m\u001b[0m\u001b[0;34m\u001b[0m\u001b[0m\n\u001b[0m\u001b[1;32m    183\u001b[0m     \u001b[0mdfs1_batch\u001b[0m \u001b[0;34m=\u001b[0m \u001b[0mdfs_code\u001b[0m\u001b[0;34m[\u001b[0m\u001b[0;34m'dfs_from'\u001b[0m\u001b[0;34m]\u001b[0m\u001b[0;34m\u001b[0m\u001b[0;34m\u001b[0m\u001b[0m\n\u001b[1;32m    184\u001b[0m     \u001b[0mdfs2_batch\u001b[0m \u001b[0;34m=\u001b[0m \u001b[0mdfs_code\u001b[0m\u001b[0;34m[\u001b[0m\u001b[0;34m'dfs_to'\u001b[0m\u001b[0;34m]\u001b[0m\u001b[0;34m\u001b[0m\u001b[0;34m\u001b[0m\u001b[0m\n",
      "\u001b[0;31mNotImplementedError\u001b[0m: does not account for missing values yet"
     ]
    }
   ],
   "source": [
    "graphs = []\n",
    "for data in tqdm.tqdm(validloader):\n",
    "    data = [to_cuda(d) for d in data]\n",
    "    graphs += bert.fwd_graph(data[0], data[1])\n",
    "    break\n",
    "valid, same, mols = eval_graphs(graphs)"
   ]
  },
  {
   "cell_type": "markdown",
   "id": "2feab3ff",
   "metadata": {},
   "source": [
    "0.8520 valid molecules\n",
    "0.8038 of the valid molecules stayed the same\n",
    "0.8521 valid molecules\n",
    "0.8037 of the valid molecules stayed the same"
   ]
  },
  {
   "cell_type": "code",
   "execution_count": 18,
   "id": "15a3ea38",
   "metadata": {},
   "outputs": [
    {
     "name": "stderr",
     "output_type": "stream",
     "text": [
      "  0%|                                                                                                                                                                                       | 0/20 [00:00<?, ?it/s]\n"
     ]
    },
    {
     "ename": "NotImplementedError",
     "evalue": "does not account for missing values yet",
     "output_type": "error",
     "traceback": [
      "\u001b[0;31m---------------------------------------------------------------------------\u001b[0m",
      "\u001b[0;31mNotImplementedError\u001b[0m                       Traceback (most recent call last)",
      "\u001b[0;32m/tmp/ipykernel_46343/804192698.py\u001b[0m in \u001b[0;36m<module>\u001b[0;34m\u001b[0m\n\u001b[1;32m     10\u001b[0m \u001b[0;32mfor\u001b[0m \u001b[0mdata\u001b[0m \u001b[0;32min\u001b[0m \u001b[0mtqdm\u001b[0m\u001b[0;34m.\u001b[0m\u001b[0mtqdm\u001b[0m\u001b[0;34m(\u001b[0m\u001b[0mvalidloader\u001b[0m\u001b[0;34m)\u001b[0m\u001b[0;34m:\u001b[0m\u001b[0;34m\u001b[0m\u001b[0;34m\u001b[0m\u001b[0m\n\u001b[1;32m     11\u001b[0m     \u001b[0mdata\u001b[0m \u001b[0;34m=\u001b[0m \u001b[0;34m[\u001b[0m\u001b[0mto_cuda\u001b[0m\u001b[0;34m(\u001b[0m\u001b[0md\u001b[0m\u001b[0;34m)\u001b[0m \u001b[0;32mfor\u001b[0m \u001b[0md\u001b[0m \u001b[0;32min\u001b[0m \u001b[0mdata\u001b[0m\u001b[0;34m]\u001b[0m\u001b[0;34m\u001b[0m\u001b[0;34m\u001b[0m\u001b[0m\n\u001b[0;32m---> 12\u001b[0;31m     \u001b[0mgraphs\u001b[0m \u001b[0;34m+=\u001b[0m \u001b[0mbert\u001b[0m\u001b[0;34m.\u001b[0m\u001b[0mfwd_graph\u001b[0m\u001b[0;34m(\u001b[0m\u001b[0mdata\u001b[0m\u001b[0;34m[\u001b[0m\u001b[0;36m0\u001b[0m\u001b[0;34m]\u001b[0m\u001b[0;34m,\u001b[0m \u001b[0mdata\u001b[0m\u001b[0;34m[\u001b[0m\u001b[0;36m1\u001b[0m\u001b[0;34m]\u001b[0m\u001b[0;34m)\u001b[0m\u001b[0;34m\u001b[0m\u001b[0;34m\u001b[0m\u001b[0m\n\u001b[0m\u001b[1;32m     13\u001b[0m \u001b[0mvalid\u001b[0m\u001b[0;34m,\u001b[0m \u001b[0msame\u001b[0m\u001b[0;34m,\u001b[0m \u001b[0mmols\u001b[0m \u001b[0;34m=\u001b[0m \u001b[0meval_graphs\u001b[0m\u001b[0;34m(\u001b[0m\u001b[0mgraphs\u001b[0m\u001b[0;34m)\u001b[0m\u001b[0;34m\u001b[0m\u001b[0;34m\u001b[0m\u001b[0m\n",
      "\u001b[0;32m~/Documents/projects/2023/graph-transformer/notebooks/generative_modelling/../../src/dfs_transformer/nn/selfattn.py\u001b[0m in \u001b[0;36mfwd_graph\u001b[0;34m(self, dfs_codes, targets, pred_codes)\u001b[0m\n\u001b[1;32m    601\u001b[0m             \u001b[0mnew\u001b[0m\u001b[0;34m[\u001b[0m\u001b[0mmask\u001b[0m\u001b[0;34m]\u001b[0m \u001b[0;34m=\u001b[0m \u001b[0;34m-\u001b[0m\u001b[0;36m1000\u001b[0m\u001b[0;34m\u001b[0m\u001b[0;34m\u001b[0m\u001b[0m\n\u001b[1;32m    602\u001b[0m             \u001b[0mpred_codes\u001b[0m\u001b[0;34m[\u001b[0m\u001b[0mpkey\u001b[0m\u001b[0;34m]\u001b[0m \u001b[0;34m=\u001b[0m \u001b[0mnew\u001b[0m\u001b[0;34m\u001b[0m\u001b[0;34m\u001b[0m\u001b[0m\n\u001b[0;32m--> 603\u001b[0;31m         \u001b[0;32mreturn\u001b[0m \u001b[0mDFSCodesDict2Nx\u001b[0m\u001b[0;34m(\u001b[0m\u001b[0mpred_codes\u001b[0m\u001b[0;34m,\u001b[0m \u001b[0mpadding_value\u001b[0m\u001b[0;34m=\u001b[0m\u001b[0;34m-\u001b[0m\u001b[0;36m1000\u001b[0m\u001b[0;34m)\u001b[0m\u001b[0;34m\u001b[0m\u001b[0;34m\u001b[0m\u001b[0m\n\u001b[0m\u001b[1;32m    604\u001b[0m \u001b[0;34m\u001b[0m\u001b[0m\n\u001b[1;32m    605\u001b[0m \u001b[0;34m\u001b[0m\u001b[0m\n",
      "\u001b[0;32m~/Documents/projects/2023/graph-transformer/notebooks/generative_modelling/../../src/dfs_transformer/utils/rdkit.py\u001b[0m in \u001b[0;36mDFSCodesDict2Nx\u001b[0;34m(dfs_code, padding_value)\u001b[0m\n\u001b[1;32m    180\u001b[0m \u001b[0;32mdef\u001b[0m \u001b[0mDFSCodesDict2Nx\u001b[0m\u001b[0;34m(\u001b[0m\u001b[0mdfs_code\u001b[0m\u001b[0;34m,\u001b[0m \u001b[0mpadding_value\u001b[0m\u001b[0;34m=\u001b[0m\u001b[0;34m-\u001b[0m\u001b[0;36m1000\u001b[0m\u001b[0;34m)\u001b[0m\u001b[0;34m:\u001b[0m\u001b[0;34m\u001b[0m\u001b[0;34m\u001b[0m\u001b[0m\n\u001b[1;32m    181\u001b[0m     \u001b[0;32mif\u001b[0m \u001b[0mtorch\u001b[0m\u001b[0;34m.\u001b[0m\u001b[0many\u001b[0m\u001b[0;34m(\u001b[0m\u001b[0mdfs_code\u001b[0m\u001b[0;34m[\u001b[0m\u001b[0;34m\"dfs_from\"\u001b[0m\u001b[0;34m]\u001b[0m \u001b[0;34m==\u001b[0m \u001b[0;34m-\u001b[0m\u001b[0;36m1\u001b[0m\u001b[0;34m)\u001b[0m\u001b[0;34m:\u001b[0m\u001b[0;34m\u001b[0m\u001b[0;34m\u001b[0m\u001b[0m\n\u001b[0;32m--> 182\u001b[0;31m         \u001b[0;32mraise\u001b[0m \u001b[0mNotImplementedError\u001b[0m\u001b[0;34m(\u001b[0m\u001b[0;34m\"does not account for missing values yet\"\u001b[0m\u001b[0;34m)\u001b[0m\u001b[0;34m\u001b[0m\u001b[0;34m\u001b[0m\u001b[0m\n\u001b[0m\u001b[1;32m    183\u001b[0m     \u001b[0mdfs1_batch\u001b[0m \u001b[0;34m=\u001b[0m \u001b[0mdfs_code\u001b[0m\u001b[0;34m[\u001b[0m\u001b[0;34m'dfs_from'\u001b[0m\u001b[0;34m]\u001b[0m\u001b[0;34m\u001b[0m\u001b[0;34m\u001b[0m\u001b[0m\n\u001b[1;32m    184\u001b[0m     \u001b[0mdfs2_batch\u001b[0m \u001b[0;34m=\u001b[0m \u001b[0mdfs_code\u001b[0m\u001b[0;34m[\u001b[0m\u001b[0;34m'dfs_to'\u001b[0m\u001b[0;34m]\u001b[0m\u001b[0;34m\u001b[0m\u001b[0;34m\u001b[0m\u001b[0m\n",
      "\u001b[0;31mNotImplementedError\u001b[0m: does not account for missing values yet"
     ]
    }
   ],
   "source": [
    "collate_fn = functools.partial(dfs.collate_delete_one, \n",
    "                               mode=cfg.training.mode, \n",
    "                               fraction_missing = cfg.training.fraction_missing,\n",
    "                               use_loops=cfg.model.use_loops,\n",
    "                               del_idx=[4, 5, 6])\n",
    "validloader = DataLoader(validset, batch_size=50, shuffle=False, \n",
    "                         pin_memory=True, collate_fn=collate_fn, num_workers=4,\n",
    "                         prefetch_factor=2)\n",
    "graphs = []\n",
    "for data in tqdm.tqdm(validloader):\n",
    "    data = [to_cuda(d) for d in data]\n",
    "    graphs += bert.fwd_graph(data[0], data[1])\n",
    "valid, same, mols = eval_graphs(graphs)"
   ]
  },
  {
   "cell_type": "code",
   "execution_count": 19,
   "id": "799b0f20",
   "metadata": {},
   "outputs": [
    {
     "ename": "NameError",
     "evalue": "name 'mols' is not defined",
     "output_type": "error",
     "traceback": [
      "\u001b[0;31m---------------------------------------------------------------------------\u001b[0m",
      "\u001b[0;31mNameError\u001b[0m                                 Traceback (most recent call last)",
      "\u001b[0;32m/tmp/ipykernel_46343/1091936001.py\u001b[0m in \u001b[0;36m<module>\u001b[0;34m\u001b[0m\n\u001b[0;32m----> 1\u001b[0;31m \u001b[0mChem\u001b[0m\u001b[0;34m.\u001b[0m\u001b[0mDraw\u001b[0m\u001b[0;34m.\u001b[0m\u001b[0mMolsToGridImage\u001b[0m\u001b[0;34m(\u001b[0m\u001b[0mmols\u001b[0m\u001b[0;34m,\u001b[0m \u001b[0mmolsPerRow\u001b[0m\u001b[0;34m=\u001b[0m\u001b[0;36m2\u001b[0m\u001b[0;34m)\u001b[0m\u001b[0;34m\u001b[0m\u001b[0;34m\u001b[0m\u001b[0m\n\u001b[0m",
      "\u001b[0;31mNameError\u001b[0m: name 'mols' is not defined"
     ]
    }
   ],
   "source": [
    "Chem.Draw.MolsToGridImage(mols, molsPerRow=2)"
   ]
  },
  {
   "cell_type": "markdown",
   "id": "957b498f",
   "metadata": {},
   "source": [
    "# fixed point iteration"
   ]
  },
  {
   "cell_type": "code",
   "execution_count": 20,
   "id": "6b4717e6",
   "metadata": {},
   "outputs": [],
   "source": [
    "from dfs_transformer.utils.rdkit import Dict2FeaturizedDFSCodes"
   ]
  },
  {
   "cell_type": "code",
   "execution_count": 21,
   "id": "c536de8b",
   "metadata": {},
   "outputs": [
    {
     "name": "stderr",
     "output_type": "stream",
     "text": [
      "  0%|                                                                                                                                                                                       | 0/20 [00:00<?, ?it/s]\n"
     ]
    },
    {
     "ename": "NotImplementedError",
     "evalue": "does not account for missing values yet",
     "output_type": "error",
     "traceback": [
      "\u001b[0;31m---------------------------------------------------------------------------\u001b[0m",
      "\u001b[0;31mNotImplementedError\u001b[0m                       Traceback (most recent call last)",
      "\u001b[0;32m/tmp/ipykernel_46343/784745736.py\u001b[0m in \u001b[0;36m<module>\u001b[0;34m\u001b[0m\n\u001b[1;32m     11\u001b[0m \u001b[0;32mfor\u001b[0m \u001b[0mdata\u001b[0m \u001b[0;32min\u001b[0m \u001b[0mtqdm\u001b[0m\u001b[0;34m.\u001b[0m\u001b[0mtqdm\u001b[0m\u001b[0;34m(\u001b[0m\u001b[0mvalidloader\u001b[0m\u001b[0;34m)\u001b[0m\u001b[0;34m:\u001b[0m\u001b[0;34m\u001b[0m\u001b[0;34m\u001b[0m\u001b[0m\n\u001b[1;32m     12\u001b[0m     \u001b[0mdata\u001b[0m \u001b[0;34m=\u001b[0m \u001b[0;34m[\u001b[0m\u001b[0mto_cuda\u001b[0m\u001b[0;34m(\u001b[0m\u001b[0md\u001b[0m\u001b[0;34m)\u001b[0m \u001b[0;32mfor\u001b[0m \u001b[0md\u001b[0m \u001b[0;32min\u001b[0m \u001b[0mdata\u001b[0m\u001b[0;34m]\u001b[0m\u001b[0;34m\u001b[0m\u001b[0;34m\u001b[0m\u001b[0m\n\u001b[0;32m---> 13\u001b[0;31m     \u001b[0mgraphs1\u001b[0m \u001b[0;34m+=\u001b[0m \u001b[0mbert\u001b[0m\u001b[0;34m.\u001b[0m\u001b[0mfwd_graph\u001b[0m\u001b[0;34m(\u001b[0m\u001b[0mdata\u001b[0m\u001b[0;34m[\u001b[0m\u001b[0;36m0\u001b[0m\u001b[0;34m]\u001b[0m\u001b[0;34m,\u001b[0m \u001b[0mdata\u001b[0m\u001b[0;34m[\u001b[0m\u001b[0;36m1\u001b[0m\u001b[0;34m]\u001b[0m\u001b[0;34m)\u001b[0m\u001b[0;34m\u001b[0m\u001b[0;34m\u001b[0m\u001b[0m\n\u001b[0m\u001b[1;32m     14\u001b[0m     \u001b[0mpadding_mask\u001b[0m \u001b[0;34m=\u001b[0m \u001b[0mdata\u001b[0m\u001b[0;34m[\u001b[0m\u001b[0;36m0\u001b[0m\u001b[0;34m]\u001b[0m\u001b[0;34m[\u001b[0m\u001b[0;34m'dfs_from'\u001b[0m\u001b[0;34m]\u001b[0m \u001b[0;34m==\u001b[0m \u001b[0;34m-\u001b[0m\u001b[0;36m1000\u001b[0m\u001b[0;34m\u001b[0m\u001b[0;34m\u001b[0m\u001b[0m\n\u001b[1;32m     15\u001b[0m     \u001b[0mpreds\u001b[0m \u001b[0;34m=\u001b[0m \u001b[0mbert\u001b[0m\u001b[0;34m(\u001b[0m\u001b[0mDict2FeaturizedDFSCodes\u001b[0m\u001b[0;34m(\u001b[0m\u001b[0mbert\u001b[0m\u001b[0;34m(\u001b[0m\u001b[0mdata\u001b[0m\u001b[0;34m[\u001b[0m\u001b[0;36m0\u001b[0m\u001b[0;34m]\u001b[0m\u001b[0;34m)\u001b[0m\u001b[0;34m,\u001b[0m \u001b[0mpadding_mask\u001b[0m\u001b[0;34m)\u001b[0m\u001b[0;34m)\u001b[0m\u001b[0;34m\u001b[0m\u001b[0;34m\u001b[0m\u001b[0m\n",
      "\u001b[0;32m~/Documents/projects/2023/graph-transformer/notebooks/generative_modelling/../../src/dfs_transformer/nn/selfattn.py\u001b[0m in \u001b[0;36mfwd_graph\u001b[0;34m(self, dfs_codes, targets, pred_codes)\u001b[0m\n\u001b[1;32m    601\u001b[0m             \u001b[0mnew\u001b[0m\u001b[0;34m[\u001b[0m\u001b[0mmask\u001b[0m\u001b[0;34m]\u001b[0m \u001b[0;34m=\u001b[0m \u001b[0;34m-\u001b[0m\u001b[0;36m1000\u001b[0m\u001b[0;34m\u001b[0m\u001b[0;34m\u001b[0m\u001b[0m\n\u001b[1;32m    602\u001b[0m             \u001b[0mpred_codes\u001b[0m\u001b[0;34m[\u001b[0m\u001b[0mpkey\u001b[0m\u001b[0;34m]\u001b[0m \u001b[0;34m=\u001b[0m \u001b[0mnew\u001b[0m\u001b[0;34m\u001b[0m\u001b[0;34m\u001b[0m\u001b[0m\n\u001b[0;32m--> 603\u001b[0;31m         \u001b[0;32mreturn\u001b[0m \u001b[0mDFSCodesDict2Nx\u001b[0m\u001b[0;34m(\u001b[0m\u001b[0mpred_codes\u001b[0m\u001b[0;34m,\u001b[0m \u001b[0mpadding_value\u001b[0m\u001b[0;34m=\u001b[0m\u001b[0;34m-\u001b[0m\u001b[0;36m1000\u001b[0m\u001b[0;34m)\u001b[0m\u001b[0;34m\u001b[0m\u001b[0;34m\u001b[0m\u001b[0m\n\u001b[0m\u001b[1;32m    604\u001b[0m \u001b[0;34m\u001b[0m\u001b[0m\n\u001b[1;32m    605\u001b[0m \u001b[0;34m\u001b[0m\u001b[0m\n",
      "\u001b[0;32m~/Documents/projects/2023/graph-transformer/notebooks/generative_modelling/../../src/dfs_transformer/utils/rdkit.py\u001b[0m in \u001b[0;36mDFSCodesDict2Nx\u001b[0;34m(dfs_code, padding_value)\u001b[0m\n\u001b[1;32m    180\u001b[0m \u001b[0;32mdef\u001b[0m \u001b[0mDFSCodesDict2Nx\u001b[0m\u001b[0;34m(\u001b[0m\u001b[0mdfs_code\u001b[0m\u001b[0;34m,\u001b[0m \u001b[0mpadding_value\u001b[0m\u001b[0;34m=\u001b[0m\u001b[0;34m-\u001b[0m\u001b[0;36m1000\u001b[0m\u001b[0;34m)\u001b[0m\u001b[0;34m:\u001b[0m\u001b[0;34m\u001b[0m\u001b[0;34m\u001b[0m\u001b[0m\n\u001b[1;32m    181\u001b[0m     \u001b[0;32mif\u001b[0m \u001b[0mtorch\u001b[0m\u001b[0;34m.\u001b[0m\u001b[0many\u001b[0m\u001b[0;34m(\u001b[0m\u001b[0mdfs_code\u001b[0m\u001b[0;34m[\u001b[0m\u001b[0;34m\"dfs_from\"\u001b[0m\u001b[0;34m]\u001b[0m \u001b[0;34m==\u001b[0m \u001b[0;34m-\u001b[0m\u001b[0;36m1\u001b[0m\u001b[0;34m)\u001b[0m\u001b[0;34m:\u001b[0m\u001b[0;34m\u001b[0m\u001b[0;34m\u001b[0m\u001b[0m\n\u001b[0;32m--> 182\u001b[0;31m         \u001b[0;32mraise\u001b[0m \u001b[0mNotImplementedError\u001b[0m\u001b[0;34m(\u001b[0m\u001b[0;34m\"does not account for missing values yet\"\u001b[0m\u001b[0;34m)\u001b[0m\u001b[0;34m\u001b[0m\u001b[0;34m\u001b[0m\u001b[0m\n\u001b[0m\u001b[1;32m    183\u001b[0m     \u001b[0mdfs1_batch\u001b[0m \u001b[0;34m=\u001b[0m \u001b[0mdfs_code\u001b[0m\u001b[0;34m[\u001b[0m\u001b[0;34m'dfs_from'\u001b[0m\u001b[0;34m]\u001b[0m\u001b[0;34m\u001b[0m\u001b[0;34m\u001b[0m\u001b[0m\n\u001b[1;32m    184\u001b[0m     \u001b[0mdfs2_batch\u001b[0m \u001b[0;34m=\u001b[0m \u001b[0mdfs_code\u001b[0m\u001b[0;34m[\u001b[0m\u001b[0;34m'dfs_to'\u001b[0m\u001b[0;34m]\u001b[0m\u001b[0;34m\u001b[0m\u001b[0;34m\u001b[0m\u001b[0m\n",
      "\u001b[0;31mNotImplementedError\u001b[0m: does not account for missing values yet"
     ]
    }
   ],
   "source": [
    "collate_fn = functools.partial(dfs.collate_delete_one, \n",
    "                               mode=cfg.training.mode, \n",
    "                               fraction_missing = cfg.training.fraction_missing,\n",
    "                               use_loops=cfg.model.use_loops,\n",
    "                               del_idx=[4, 5, 6])\n",
    "validloader = DataLoader(validset, batch_size=50, shuffle=False, \n",
    "                         pin_memory=True, collate_fn=collate_fn, num_workers=4,\n",
    "                         prefetch_factor=2)\n",
    "graphs1 = []\n",
    "graphs2 = []\n",
    "for data in tqdm.tqdm(validloader):\n",
    "    data = [to_cuda(d) for d in data]\n",
    "    graphs1 += bert.fwd_graph(data[0], data[1])\n",
    "    padding_mask = data[0]['dfs_from'] == -1000\n",
    "    preds = bert(Dict2FeaturizedDFSCodes(bert(data[0]), padding_mask))\n",
    "    preds = bert(Dict2FeaturizedDFSCodes(preds, padding_mask))\n",
    "    preds = bert(Dict2FeaturizedDFSCodes(preds, padding_mask))\n",
    "    preds = bert(Dict2FeaturizedDFSCodes(preds, padding_mask))\n",
    "    graphs2 += bert.fwd_graph(data[0], data[1], pred_codes=preds)\n",
    "valid1, same1, mols1 = eval_graphs(graphs1)\n",
    "valid2, same2, mols2 = eval_graphs(graphs2)"
   ]
  },
  {
   "cell_type": "code",
   "execution_count": null,
   "id": "bb7756a7",
   "metadata": {},
   "outputs": [],
   "source": []
  },
  {
   "cell_type": "code",
   "execution_count": null,
   "id": "503e066b",
   "metadata": {},
   "outputs": [],
   "source": []
  },
  {
   "cell_type": "code",
   "execution_count": null,
   "id": "573c7d86",
   "metadata": {},
   "outputs": [],
   "source": []
  },
  {
   "cell_type": "code",
   "execution_count": null,
   "id": "092c470b",
   "metadata": {},
   "outputs": [],
   "source": []
  }
 ],
 "metadata": {
  "kernelspec": {
   "display_name": "Python 3 (ipykernel)",
   "language": "python",
   "name": "python3"
  },
  "language_info": {
   "codemirror_mode": {
    "name": "ipython",
    "version": 3
   },
   "file_extension": ".py",
   "mimetype": "text/x-python",
   "name": "python",
   "nbconvert_exporter": "python",
   "pygments_lexer": "ipython3",
   "version": "3.9.13"
  }
 },
 "nbformat": 4,
 "nbformat_minor": 5
}
