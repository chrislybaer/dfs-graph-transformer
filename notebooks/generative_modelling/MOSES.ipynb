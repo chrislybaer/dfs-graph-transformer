{
 "cells": [
  {
   "cell_type": "code",
   "execution_count": 1,
   "id": "45e53e53",
   "metadata": {},
   "outputs": [],
   "source": [
    "%load_ext autoreload\n",
    "%autoreload 2\n",
    "import sys\n",
    "sys.path.append('../../src')\n",
    "from rdkit import Chem\n",
    "from dfs_transformer.utils import Mol2Smiles, DFSCode2Graph, Graph2Mol, isValid, Smiles2DFSCode, DFSCode2Smiles, isValidMoleculeDFSCode\n",
    "from dfs_transformer.utils import DFSCode2Graph, Smiles2DFSCode, load_selfattn_wandb, load_selfattn_local\n",
    "import os.path\n",
    "import torch\n",
    "import torch.nn as nn\n",
    "from torch.utils.data import DataLoader\n",
    "import dfs_transformer as dfs\n",
    "import numpy as np\n",
    "from ml_collections import ConfigDict\n",
    "import yaml\n",
    "import functools\n",
    "import tqdm\n",
    "import traceback\n",
    "from matplotlib import pyplot as plt\n",
    "import pandas as pd\n",
    "import networkx as nx"
   ]
  },
  {
   "cell_type": "code",
   "execution_count": 2,
   "id": "e0a555c1",
   "metadata": {},
   "outputs": [],
   "source": [
    "import chemprop.features\n",
    "import chemprop"
   ]
  },
  {
   "cell_type": "code",
   "execution_count": 3,
   "id": "cfb0693e",
   "metadata": {},
   "outputs": [
    {
     "data": {
      "text/plain": [
       "'1.3.1'"
      ]
     },
     "execution_count": 3,
     "metadata": {},
     "output_type": "execute_result"
    }
   ],
   "source": [
    "chemprop.__version__"
   ]
  },
  {
   "cell_type": "code",
   "execution_count": 9,
   "id": "223f39c2",
   "metadata": {},
   "outputs": [],
   "source": [
    "def mol_to_nx(mol):\n",
    "    G = nx.Graph()\n",
    "\n",
    "    for atom in mol.GetAtoms():\n",
    "        G.add_node(atom.GetIdx(),\n",
    "                   atomic_num=atom.GetAtomicNum(),\n",
    "                   formal_charge=atom.GetFormalCharge(),\n",
    "                   chiral_tag=atom.GetChiralTag(),\n",
    "                   hybridization=atom.GetHybridization(),\n",
    "                   num_total_hs=atom.GetTotalNumHs(),\n",
    "                   is_aromatic=atom.GetIsAromatic())\n",
    "    for bond in mol.GetBonds():\n",
    "        G.add_edge(bond.GetBeginAtomIdx(),\n",
    "                   bond.GetEndAtomIdx(),\n",
    "                   bond_type=bond.GetBondType())\n",
    "    return G\n",
    "\n",
    "def nx_to_mol(G):\n",
    "    mol = Chem.RWMol()\n",
    "    atomic_nums = nx.get_node_attributes(G, 'atomic_num')\n",
    "    chiral_tags = nx.get_node_attributes(G, 'chiral_tag')\n",
    "    formal_charges = nx.get_node_attributes(G, 'formal_charge')\n",
    "    node_is_aromatics = nx.get_node_attributes(G, 'is_aromatic')\n",
    "    node_hybridizations = nx.get_node_attributes(G, 'hybridization')\n",
    "    num_total_hs = nx.get_node_attributes(G, 'num_total_hs')\n",
    "    node_to_idx = {}\n",
    "    for node in G.nodes():\n",
    "        a=Chem.Atom(atomic_nums[node])\n",
    "        a.SetChiralTag(chiral_tags[node])\n",
    "        a.SetFormalCharge(formal_charges[node])\n",
    "        a.SetIsAromatic(node_is_aromatics[node])\n",
    "        a.SetHybridization(node_hybridizations[node])\n",
    "        idx = mol.AddAtom(a)\n",
    "        node_to_idx[node] = idx\n",
    "\n",
    "    bond_types = nx.get_edge_attributes(G, 'bond_type')\n",
    "    for edge in G.edges():\n",
    "        first, second = edge\n",
    "        ifirst = node_to_idx[first]\n",
    "        isecond = node_to_idx[second]\n",
    "        bond_type = bond_types[first, second]\n",
    "        mol.AddBond(ifirst, isecond, bond_type)\n",
    "    \n",
    "    # this is a workaround because we precomputed num_total_hs in the existing pipeline.\n",
    "    # so using this we avoid touching the feature extraction \n",
    "    mol.UpdatePropertyCache()\n",
    "    for node in G.nodes():\n",
    "        a = mol.GetAtomWithIdx(node_to_idx[node])\n",
    "        a.SetNumExplicitHs(num_total_hs[node] - a.GetNumImplicitHs())\n",
    "\n",
    "    Chem.SanitizeMol(mol)\n",
    "    return mol"
   ]
  },
  {
   "cell_type": "code",
   "execution_count": 10,
   "id": "66f37031",
   "metadata": {},
   "outputs": [],
   "source": [
    "df = pd.read_csv(\"/mnt/ssd/datasets/moses/data/dataset_v1.csv\")"
   ]
  },
  {
   "cell_type": "code",
   "execution_count": 11,
   "id": "92b65876",
   "metadata": {},
   "outputs": [],
   "source": [
    "smiles = df['SMILES']"
   ]
  },
  {
   "cell_type": "code",
   "execution_count": 12,
   "id": "c9798840",
   "metadata": {},
   "outputs": [],
   "source": [
    "sml = 'Cc1[nH]cnc1Cc1nc(-c2ccccc2)cs1'\n",
    "mol = Chem.MolFromSmiles(sml)\n",
    "atoms = list(mol.GetAtoms())\n",
    "atom_types = [a.GetAtomicNum() for a in atoms]\n",
    "valences = [a.GetTotalValence() for a in atoms]\n",
    "charge = [a.GetFormalCharge() for a in atoms]\n",
    "explicitHs = [a.GetNumExplicitHs() for a in atoms]\n",
    "implicitHs = [a.GetNumImplicitHs() for a in atoms]"
   ]
  },
  {
   "cell_type": "code",
   "execution_count": 13,
   "id": "4c3eea00",
   "metadata": {},
   "outputs": [
    {
     "data": {
      "image/png": "[encoded data removed]",
      "text/plain": [
       "<rdkit.Chem.rdchem.RWMol at 0x7f4e8cc4a270>"
      ]
     },
     "execution_count": 13,
     "metadata": {},
     "output_type": "execute_result"
    }
   ],
   "source": [
    "nx_to_mol(mol_to_nx(mol))"
   ]
  },
  {
   "cell_type": "code",
   "execution_count": 14,
   "id": "7096c439",
   "metadata": {},
   "outputs": [
    {
     "name": "stdout",
     "output_type": "stream",
     "text": [
      "[6, 6, 7, 6, 7, 6, 6, 6, 7, 6, 6, 6, 6, 6, 6, 6, 6, 16]\n",
      "[0, 0, 1, 0, 0, 0, 0, 0, 0, 0, 0, 0, 0, 0, 0, 0, 0, 0]\n",
      "[3, 0, 0, 1, 0, 0, 2, 0, 0, 0, 0, 1, 1, 1, 1, 1, 1, 0]\n",
      "[4, 4, 3, 4, 3, 4, 4, 4, 3, 4, 4, 4, 4, 4, 4, 4, 4, 2]\n",
      "[0, 0, 0, 0, 0, 0, 0, 0, 0, 0, 0, 0, 0, 0, 0, 0, 0, 0]\n"
     ]
    }
   ],
   "source": [
    "print(atom_types)\n",
    "print(explicitHs)\n",
    "print(implicitHs)\n",
    "print(valences)\n",
    "print(charge)"
   ]
  },
  {
   "cell_type": "code",
   "execution_count": 15,
   "id": "429c1578",
   "metadata": {},
   "outputs": [
    {
     "name": "stderr",
     "output_type": "stream",
     "text": [
      "100%|██████████████████████████████████████████████████████████████████████████████████████████████████████████████████████████████████████████████████████████████████████| 10000/10000 [00:08<00:00, 1165.99it/s]\n"
     ]
    }
   ],
   "source": [
    "invalid_smiles = []\n",
    "for sml in tqdm.tqdm(smiles[:10000]):\n",
    "    try:\n",
    "        mol = Chem.MolFromSmiles(sml)\n",
    "        mol2 = nx_to_mol(mol_to_nx(mol))\n",
    "        if Chem.MolToSmiles(mol) != Chem.MolToSmiles(mol2):\n",
    "            raise Exception('molecule changes')\n",
    "    except:\n",
    "        print(sml)\n",
    "        invalid_smiles += [sml]    "
   ]
  },
  {
   "cell_type": "code",
   "execution_count": 16,
   "id": "a0b81efb",
   "metadata": {},
   "outputs": [
    {
     "data": {
      "text/plain": [
       "[]"
      ]
     },
     "execution_count": 16,
     "metadata": {},
     "output_type": "execute_result"
    }
   ],
   "source": [
    "invalid_smiles"
   ]
  },
  {
   "cell_type": "markdown",
   "id": "7cdbaa80",
   "metadata": {},
   "source": [
    "valid_list = []\n",
    "invalid_smiles = []\n",
    "for sml in tqdm.tqdm(smiles[:1000]):\n",
    "    code, index = Smiles2DFSCode(sml)\n",
    "    try:\n",
    "        valid_list += [isValidMoleculeDFSCode(code, verbose=True)]\n",
    "    except Exception as e:\n",
    "        valid_list += [False]\n",
    "        traceback.print_exc()\n",
    "    if not valid_list[-1]:\n",
    "        invalid_smiles += [sml]\n",
    "print(sum(valid_list)/len(valid_list))"
   ]
  },
  {
   "cell_type": "markdown",
   "id": "f1c6c01d",
   "metadata": {},
   "source": [
    "invalid_smiles"
   ]
  },
  {
   "cell_type": "markdown",
   "id": "99597e83",
   "metadata": {},
   "source": [
    "dfs.utils.Smiles2Mol('Cc1ccc(c2n[nH]c(=S)n2CC(=O)Nc2ccc(C)c([N+](=O)[O-])c2)cc1\\n')"
   ]
  },
  {
   "cell_type": "markdown",
   "id": "667d2ccc",
   "metadata": {},
   "source": [
    "code, index = dfs.utils.Smiles2DFSCode('Cc1ccc(c2n[nH]c(=S)n2CC(=O)Nc2ccc(C)c([N+](=O)[O-])c2)cc1\\n')\n",
    "dfs.utils.Graph2Mol(*dfs.utils.DFSCode2Graph(code))"
   ]
  },
  {
   "cell_type": "code",
   "execution_count": null,
   "id": "e55222e0",
   "metadata": {},
   "outputs": [],
   "source": []
  },
  {
   "cell_type": "code",
   "execution_count": null,
   "id": "4d2acc71",
   "metadata": {},
   "outputs": [],
   "source": []
  },
  {
   "cell_type": "code",
   "execution_count": null,
   "id": "a884e460",
   "metadata": {},
   "outputs": [],
   "source": []
  }
 ],
 "metadata": {
  "kernelspec": {
   "display_name": "Python 3 (ipykernel)",
   "language": "python",
   "name": "python3"
  },
  "language_info": {
   "codemirror_mode": {
    "name": "ipython",
    "version": 3
   },
   "file_extension": ".py",
   "mimetype": "text/x-python",
   "name": "python",
   "nbconvert_exporter": "python",
   "pygments_lexer": "ipython3",
   "version": "3.9.13"
  }
 },
 "nbformat": 4,
 "nbformat_minor": 5
}
