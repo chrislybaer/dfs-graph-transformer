{
 "cells": [
  {
   "cell_type": "code",
   "execution_count": 33,
   "id": "45e53e53",
   "metadata": {},
   "outputs": [
    {
     "name": "stdout",
     "output_type": "stream",
     "text": [
      "The autoreload extension is already loaded. To reload it, use:\n",
      "  %reload_ext autoreload\n"
     ]
    }
   ],
   "source": [
    "%load_ext autoreload\n",
    "%autoreload 2\n",
    "import sys\n",
    "sys.path.append('../../src')\n",
    "from rdkit import Chem\n",
    "from dfs_transformer.utils import Smiles2Mol, Mol2Smiles, DFSCode2Graph, Graph2Mol, isValid, Smiles2DFSCode, DFSCode2Smiles, isValidMoleculeDFSCode\n",
    "from dfs_transformer.utils import load_selfattn_wandb, load_selfattn_local, computeChemicalValidityAndNovelty, parseChempropAtomFeatures, parseChempropBondFeatures\n",
    "from dfs_transformer.utils import FeaturizedDFSCodes2Nx, Mol2Nx, Nx2Mol\n",
    "import os.path\n",
    "import torch\n",
    "import torch.nn as nn\n",
    "from torch.utils.data import DataLoader\n",
    "import dfs_transformer as dfs\n",
    "import numpy as np\n",
    "from ml_collections import ConfigDict\n",
    "import yaml\n",
    "import functools\n",
    "import tqdm\n",
    "import traceback\n",
    "from einops import rearrange\n"
   ]
  },
  {
   "cell_type": "code",
   "execution_count": 2,
   "id": "876ae4b4",
   "metadata": {
    "scrolled": true
   },
   "outputs": [],
   "source": [
    "pretrained_model = \"r2r-30-c4s-noprop\"\n",
    "pretrained_project = \"pubchem_newencoding\"\n",
    "force_download = False\n",
    "if os.path.isdir(\"../../wandb/artifacts/%s\"%pretrained_model) and not force_download:\n",
    "    bert, cfg = load_selfattn_local(\"../../wandb/artifacts/%s\"%pretrained_model)\n",
    "else:\n",
    "    bert, cfg = load_selfattn_wandb(pretrained_model, wandb_dir=\"../../wandb\", pretrained_project=pretrained_project)"
   ]
  },
  {
   "cell_type": "code",
   "execution_count": 3,
   "id": "853dba1b",
   "metadata": {},
   "outputs": [],
   "source": [
    "bert = bert.eval()"
   ]
  },
  {
   "cell_type": "code",
   "execution_count": 4,
   "id": "6ece0d47",
   "metadata": {},
   "outputs": [],
   "source": [
    "with open(\"../../config/selfattn/data/pubchem10K.yaml\") as file:\n",
    "    d = ConfigDict(yaml.load(file, Loader=yaml.FullLoader))"
   ]
  },
  {
   "cell_type": "code",
   "execution_count": 5,
   "id": "15b95515",
   "metadata": {},
   "outputs": [],
   "source": [
    "d.no_features = cfg.data.no_features"
   ]
  },
  {
   "cell_type": "code",
   "execution_count": 6,
   "id": "ea0ad761",
   "metadata": {},
   "outputs": [],
   "source": [
    "if cfg.training.mode == \"rnd2rnd\":\n",
    "    collate_fn = functools.partial(dfs.collate_BERT, \n",
    "                                   mode=cfg.training.mode, \n",
    "                                   fraction_missing = cfg.training.fraction_missing,\n",
    "                                   use_loops=cfg.model.use_loops)\n",
    "elif cfg.training.mode == \"rnd2rnd_entry\":\n",
    "    collate_fn = functools.partial(dfs.collate_BERT_entries, \n",
    "                                   mode=\"rnd2rnd\", \n",
    "                                   fraction_missing = cfg.training.fraction_missing,\n",
    "                                   use_loops=cfg.model.use_loops)"
   ]
  },
  {
   "cell_type": "code",
   "execution_count": 7,
   "id": "4c0ee16e",
   "metadata": {},
   "outputs": [
    {
     "name": "stderr",
     "output_type": "stream",
     "text": [
      "100%|██████████████████████████████████████████████████████████████████████████████████████████████████████████████████████████████████████████████████████████████████████████████| 10/10 [00:00<00:00, 17.25it/s]\n",
      "100%|█████████████████████████████████████████████████████████████████████████████████████████████████████████████████████████████████████████████████████████████████████████| 9978/9978 [00:13<00:00, 736.18it/s]\n"
     ]
    }
   ],
   "source": [
    "validset = dfs.PubChem('../.'+d.valid_path, max_nodes=d.max_nodes, max_edges=d.max_edges, noFeatures=d.no_features,\n",
    "                   molecular_properties=d.molecular_properties, useDists=d.useDists, useHs=d.useHs,\n",
    "                   filter_unencoded=True)\n"
   ]
  },
  {
   "cell_type": "code",
   "execution_count": 8,
   "id": "5c16af36",
   "metadata": {},
   "outputs": [],
   "source": [
    "validloader = DataLoader(validset, batch_size=50, shuffle=False, \n",
    "                         pin_memory=True, collate_fn=collate_fn, num_workers=4,\n",
    "                         prefetch_factor=2)"
   ]
  },
  {
   "cell_type": "code",
   "execution_count": 53,
   "id": "262c3b98",
   "metadata": {},
   "outputs": [],
   "source": [
    "device = torch.device('cuda:%d'%0 if torch.cuda.is_available() else 'cpu')\n",
    "#device = torch.device('cpu')\n",
    "to_cuda = functools.partial(dfs.utils_to_cuda, device=device)\n",
    "to_cpu = functools.partial(dfs.utils_to_cuda, device='cpu')"
   ]
  },
  {
   "cell_type": "code",
   "execution_count": 62,
   "id": "3adaf350",
   "metadata": {},
   "outputs": [],
   "source": [
    "def dict_collect_correct(pred, target, key):\n",
    "    with torch.no_grad():\n",
    "        errors = {key: torch.argmax(rearrange(prd, 'd0 d1 d2 -> (d0 d1) d2'), axis=1) for key, prd in pred.items()}\n",
    "        tgt = rearrange(target[key], 'd0 d1 -> (d0 d1)')\n",
    "        prd = rearrange(pred[key], 'd0 d1 d2 -> (d0 d1) d2')\n",
    "        mask = tgt != -1\n",
    "        errors = {key: val[mask][torch.argmax(prd[mask], dim=1) == tgt[mask]] for key, val in errors.items()}\n",
    "    return errors"
   ]
  },
  {
   "cell_type": "code",
   "execution_count": 41,
   "id": "60d9234c",
   "metadata": {},
   "outputs": [],
   "source": [
    "def dict_collect_errors(pred, target, key):\n",
    "    with torch.no_grad():\n",
    "        errors = {key: torch.argmax(rearrange(prd, 'd0 d1 d2 -> (d0 d1) d2'), axis=1) for key, prd in pred.items()}\n",
    "        tgt = rearrange(target[key], 'd0 d1 -> (d0 d1)')\n",
    "        prd = rearrange(pred[key], 'd0 d1 d2 -> (d0 d1) d2')\n",
    "        mask = tgt != -1\n",
    "        errors = {key: val[mask][torch.argmax(prd[mask], dim=1) != tgt[mask]] for key, val in errors.items()}\n",
    "    return errors"
   ]
  },
  {
   "cell_type": "code",
   "execution_count": null,
   "id": "2f3fad49",
   "metadata": {},
   "outputs": [],
   "source": [
    "def dict_collect_errors_that_copy_cannot_resolve(inputs, pred, target, key):\n",
    "    raise NotImplementedError(\"not implemented...\")\n",
    "    with torch.no_grad():\n",
    "        errors = {key: torch.argmax(rearrange(prd, 'd0 d1 d2 -> (d0 d1) d2'), axis=1) for key, prd in pred.items()}\n",
    "        tgt = rearrange(target[key], 'd0 d1 -> (d0 d1)')\n",
    "        prd = rearrange(pred[key], 'd0 d1 d2 -> (d0 d1) d2')\n",
    "        mask = tgt != -1\n",
    "        errors = {key: val[mask][torch.argmax(prd[mask], dim=1) != tgt[mask]] for key, val in errors.items()}\n",
    "    return errors"
   ]
  },
  {
   "cell_type": "code",
   "execution_count": 51,
   "id": "264d58f9",
   "metadata": {},
   "outputs": [],
   "source": [
    "bert = bert.to(device)"
   ]
  },
  {
   "cell_type": "code",
   "execution_count": 125,
   "id": "5e879a2b",
   "metadata": {},
   "outputs": [],
   "source": [
    "investigate_key = 'atomic_num_to'"
   ]
  },
  {
   "cell_type": "code",
   "execution_count": 126,
   "id": "81ecbd70",
   "metadata": {},
   "outputs": [
    {
     "name": "stderr",
     "output_type": "stream",
     "text": [
      "  0%|                                                                                                                                                                                      | 0/199 [00:00<?, ?it/s][W pthreadpool-cpp.cc:90] Warning: Leaking Caffe2 thread-pool after fork. (function pthreadpool)\n",
      "[W pthreadpool-cpp.cc:90] Warning: Leaking Caffe2 thread-pool after fork. (function pthreadpool)\n",
      "[W pthreadpool-cpp.cc:90] Warning: Leaking Caffe2 thread-pool after fork. (function pthreadpool)\n",
      "[W pthreadpool-cpp.cc:90] Warning: Leaking Caffe2 thread-pool after fork. (function pthreadpool)\n",
      "100%|████████████████████████████████████████████████████████████████████████████████████████████████████████████████████████████████████████████████████████████████████████████| 199/199 [00:13<00:00, 14.33it/s]\n"
     ]
    }
   ],
   "source": [
    "errors_acc = {}\n",
    "correct_acc = {}\n",
    "for data in tqdm.tqdm(validloader):\n",
    "    data = [to_cuda(d) for d in data]\n",
    "    pred = to_cpu(bert(data[0]))\n",
    "    target = to_cpu(data[1])\n",
    "    errors = dict_collect_errors(pred, target, investigate_key)\n",
    "    correct = dict_collect_correct(pred, target, investigate_key)\n",
    "    if len(errors_acc) == 0:\n",
    "        errors_acc.update(errors)\n",
    "        correct_acc.update(correct)\n",
    "    else:\n",
    "        for key, val in errors.items():\n",
    "            errors_acc[key] = torch.cat((errors_acc[key], val))\n",
    "        for key, val in correct.items():\n",
    "            correct_acc[key] = torch.cat((correct_acc[key], val))"
   ]
  },
  {
   "cell_type": "code",
   "execution_count": 127,
   "id": "00a1834f",
   "metadata": {},
   "outputs": [
    {
     "name": "stdout",
     "output_type": "stream",
     "text": [
      "fwd 536 bwd 8 fwd branch 301\n"
     ]
    }
   ],
   "source": [
    "n_fwd = 0\n",
    "n_bwd = 0\n",
    "n_fwd_branch = 0\n",
    "for dfs1, dfs2, atm1, atm2, bnd in zip(errors_acc['dfs_from'],\n",
    "                                       errors_acc['dfs_to'],\n",
    "                                       errors_acc['atomic_num_from'],\n",
    "                                       errors_acc['atomic_num_to'],\n",
    "                                       errors_acc['bond_type']):\n",
    "    #print(\"dfs1 %3d, dfs2 %3d, atm1 %3d, atm2 %3d, bnd %3d\"%(dfs1.item(), dfs2.item(), atm1.item(), atm2.item(), bnd.item()))\n",
    "    if dfs1 == dfs2 - 1:\n",
    "        n_fwd += 1\n",
    "    elif dfs1 < dfs2:\n",
    "        n_fwd_branch += 1\n",
    "    else:\n",
    "        n_bwd += 1\n",
    "print('fwd', n_fwd, 'bwd', n_bwd, 'fwd branch', n_fwd_branch)"
   ]
  },
  {
   "cell_type": "code",
   "execution_count": 128,
   "id": "d83cdd32",
   "metadata": {},
   "outputs": [
    {
     "name": "stdout",
     "output_type": "stream",
     "text": [
      "fwd 23754 bwd 3647 fwd branch 6891\n"
     ]
    }
   ],
   "source": [
    "n_fwd2 = 0\n",
    "n_bwd2 = 0\n",
    "n_fwd_branch2 = 0\n",
    "for dfs1, dfs2, atm1, atm2, bnd in zip(correct_acc['dfs_from'],\n",
    "                                       correct_acc['dfs_to'],\n",
    "                                       correct_acc['atomic_num_from'],\n",
    "                                       correct_acc['atomic_num_to'],\n",
    "                                       correct_acc['bond_type']):\n",
    "    #print(\"dfs1 %3d, dfs2 %3d, atm1 %3d, atm2 %3d, bnd %3d\"%(dfs1.item(), dfs2.item(), atm1.item(), atm2.item(), bnd.item()))\n",
    "    if dfs1 == dfs2 - 1:\n",
    "        n_fwd2 += 1\n",
    "    elif dfs1 < dfs2:\n",
    "        n_fwd_branch2 += 1\n",
    "    else:\n",
    "        n_bwd2 += 1\n",
    "print('fwd', n_fwd2, 'bwd', n_bwd2, 'fwd branch', n_fwd_branch2)"
   ]
  },
  {
   "cell_type": "code",
   "execution_count": 129,
   "id": "43d7c514",
   "metadata": {},
   "outputs": [
    {
     "name": "stdout",
     "output_type": "stream",
     "text": [
      "fwd 0.022066694112803622 bwd 0.002188782489740082 fwd branch 0.041852057842046715\n"
     ]
    }
   ],
   "source": [
    "print('fwd', n_fwd/(n_fwd+n_fwd2), 'bwd', n_bwd/(n_bwd + n_bwd2), 'fwd branch', n_fwd_branch/(n_fwd_branch + n_fwd_branch2))"
   ]
  },
  {
   "cell_type": "code",
   "execution_count": 130,
   "id": "38bd6d85",
   "metadata": {},
   "outputs": [
    {
     "data": {
      "text/plain": [
       "0.024048723567749095"
      ]
     },
     "execution_count": 130,
     "metadata": {},
     "output_type": "execute_result"
    }
   ],
   "source": [
    "(n_fwd+n_bwd+n_fwd_branch)/((n_fwd+n_bwd+n_fwd_branch) + (n_fwd2+n_bwd2+n_fwd_branch2))"
   ]
  },
  {
   "cell_type": "code",
   "execution_count": null,
   "id": "ac1eb29a",
   "metadata": {},
   "outputs": [],
   "source": []
  },
  {
   "cell_type": "code",
   "execution_count": null,
   "id": "beaf0bdf",
   "metadata": {},
   "outputs": [],
   "source": []
  }
 ],
 "metadata": {
  "kernelspec": {
   "display_name": "Python 3 (ipykernel)",
   "language": "python",
   "name": "python3"
  },
  "language_info": {
   "codemirror_mode": {
    "name": "ipython",
    "version": 3
   },
   "file_extension": ".py",
   "mimetype": "text/x-python",
   "name": "python",
   "nbconvert_exporter": "python",
   "pygments_lexer": "ipython3",
   "version": "3.9.13"
  }
 },
 "nbformat": 4,
 "nbformat_minor": 5
}
