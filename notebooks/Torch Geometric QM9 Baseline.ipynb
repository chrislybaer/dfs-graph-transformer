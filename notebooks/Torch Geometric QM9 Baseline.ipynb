{
 "cells": [
  {
   "cell_type": "code",
   "execution_count": 1,
   "id": "0ff921ff",
   "metadata": {},
   "outputs": [],
   "source": [
    "%load_ext autoreload\n",
    "%autoreload 2\n",
    "import torch\n",
    "import torch.nn as nn\n",
    "import torch.nn.functional as F\n",
    "import torch.optim as optim\n",
    "from torch_geometric.datasets.qm9 import QM9\n",
    "from torch_geometric.data import DataLoader\n",
    "import torch_geometric.nn as tgnn \n",
    "import tqdm\n",
    "import numpy as np"
   ]
  },
  {
   "cell_type": "code",
   "execution_count": 2,
   "id": "2c8b07c8",
   "metadata": {},
   "outputs": [],
   "source": [
    "# [0] Reports MAE in eV / Chemical Accuracy of the target variable U0. \n",
    "# The chemical accuracy of U0 is 0.043 see [1, Table 5].\n",
    "\n",
    "# Reproduced table [0]\n",
    "# MXMNet: 0.00590/0.043 = 0.13720930232558143\n",
    "# HMGNN:  0.00592/0.043 = 0.13767441860465118\n",
    "# MPNN:   0.01935/0.043 = 0.45\n",
    "# KRR:    0.0251 /0.043 = 0.5837209302325582\n",
    "# [0] https://paperswithcode.com/sota/formation-energy-on-qm9\n",
    "# [1] Neural Message Passing for Quantum Chemistry, https://arxiv.org/pdf/1704.01212v2.pdf\n",
    "# MXMNet https://arxiv.org/pdf/2011.07457v1.pdf\n",
    "# HMGNN https://arxiv.org/pdf/2009.12710v1.pdf\n",
    "# MPNN https://arxiv.org/pdf/1704.01212v2.pdf\n",
    "# KRR HDAD kernel ridge regression https://arxiv.org/pdf/1702.05532.pdf\n",
    "# HDAD means HDAD (Histogram of distances, anglesand dihedral angles)\n",
    "\n",
    "# [2] Reports the average value of MAE / Chemical Accuracy of over all targets\n",
    "# [2] https://paperswithcode.com/sota/drug-discovery-on-qm9\n",
    "target_dict = {0: 'mu, D, Dipole moment', \n",
    "               1: 'alpha, {a_0}^3, Isotropic polarizability', \n",
    "               2: 'epsilon_{HOMO}, eV, Highest occupied molecular orbital energy',\n",
    "               3: 'epsilon_{LUMO}, eV, Lowest unoccupied molecular orbital energy',\n",
    "               4: 'Delta, eV, Gap between HOMO and LUMO',\n",
    "               5: '< R^2 >, {a_0}^2, Electronic spatial extent',\n",
    "               6: 'ZPVE, eV, Zero point vibrational energy', \n",
    "               7: 'U_0, eV, Internal energy at 0K',\n",
    "               8: 'U, eV, Internal energy at 298.15K', \n",
    "               9: 'H, eV, Enthalpy at 298.15K',\n",
    "               10: 'G, eV, Free energy at 298.15K',  \n",
    "               11: 'c_{v}, cal\\(mol K), Heat capacity at 298.15K'}\n",
    "\n",
    "chemical_accuracy = {idx:0.043 for idx in range(12)}\n",
    "chemical_accuracy[0] = 0.1\n",
    "chemical_accuracy[1] = 0.1\n",
    "chemical_accuracy[5] = 1.2\n",
    "chemical_accuracy[6] = 0.0012\n",
    "chemical_accuracy[11] = 0.050"
   ]
  },
  {
   "cell_type": "markdown",
   "id": "2af28551",
   "metadata": {},
   "source": [
    "# get rid of the degenerate molecules"
   ]
  },
  {
   "cell_type": "code",
   "execution_count": 3,
   "id": "9bf25b4b",
   "metadata": {},
   "outputs": [],
   "source": [
    "from urllib import request\n",
    "import tempfile\n",
    "import os\n",
    "at_url = \"https://ndownloader.figshare.com/files/3195404\"\n",
    "tmpdir = tempfile.mkdtemp(\"gdb9\")\n",
    "tmp_path = os.path.join(tmpdir, \"uncharacterized.txt\")\n",
    "request.urlretrieve(at_url, tmp_path)\n",
    "\n",
    "evilmols = []\n",
    "with open(tmp_path) as f:\n",
    "    lines = f.readlines()\n",
    "    for line in lines[9:-1]:\n",
    "        evilmols.append(int(line.split()[0]))\n",
    "evilgdbs = ['gdb_%d'%id for id in evilmols]"
   ]
  },
  {
   "cell_type": "code",
   "execution_count": 4,
   "id": "560cc7b7",
   "metadata": {},
   "outputs": [],
   "source": [
    "pre_filter = lambda d: (d.name not in evilgdbs)"
   ]
  },
  {
   "cell_type": "code",
   "execution_count": 5,
   "id": "8904130a",
   "metadata": {},
   "outputs": [],
   "source": [
    "dataset = QM9('../datasets/qm9_geometric/', pre_filter=pre_filter)#, pre_filter=pre_filter)"
   ]
  },
  {
   "cell_type": "code",
   "execution_count": 6,
   "id": "8aed7bcd",
   "metadata": {},
   "outputs": [],
   "source": [
    "# actually QM9 already automatically gets rid of all the gad examples -.-"
   ]
  },
  {
   "cell_type": "code",
   "execution_count": 7,
   "id": "fd471b78",
   "metadata": {},
   "outputs": [],
   "source": [
    "dataset = dataset.shuffle()\n",
    "train_dataset = dataset[:110000]\n",
    "valid_dataset = dataset[110000:120000]\n",
    "test_dataset = dataset[120000:]\n",
    "train_loader = DataLoader(train_dataset, batch_size=128, shuffle=True, pin_memory=True)\n",
    "valid_loader = DataLoader(valid_dataset, batch_size=128)\n",
    "test_loader = DataLoader(test_dataset, batch_size=32)"
   ]
  },
  {
   "cell_type": "code",
   "execution_count": 8,
   "id": "8715a6aa",
   "metadata": {},
   "outputs": [],
   "source": [
    "batch = next(iter(train_loader))"
   ]
  },
  {
   "cell_type": "code",
   "execution_count": 9,
   "id": "ed3d4db9",
   "metadata": {},
   "outputs": [],
   "source": [
    "# investigate batch"
   ]
  },
  {
   "cell_type": "code",
   "execution_count": 10,
   "id": "339949f8",
   "metadata": {},
   "outputs": [
    {
     "data": {
      "text/plain": [
       "tensor([  0,   0,   0,  ..., 127, 127, 127])"
      ]
     },
     "execution_count": 10,
     "metadata": {},
     "output_type": "execute_result"
    }
   ],
   "source": [
    "batch['batch']"
   ]
  },
  {
   "cell_type": "code",
   "execution_count": 11,
   "id": "d6aa919f",
   "metadata": {},
   "outputs": [
    {
     "data": {
      "text/plain": [
       "20"
      ]
     },
     "execution_count": 11,
     "metadata": {},
     "output_type": "execute_result"
    }
   ],
   "source": [
    "(batch['batch'].detach().numpy() == 2).sum()"
   ]
  },
  {
   "cell_type": "code",
   "execution_count": 12,
   "id": "b03874ae",
   "metadata": {},
   "outputs": [],
   "source": [
    "# node features:"
   ]
  },
  {
   "cell_type": "code",
   "execution_count": 13,
   "id": "82535898",
   "metadata": {},
   "outputs": [
    {
     "data": {
      "text/plain": [
       "tensor([[0., 0., 1.,  ..., 0., 0., 2.],\n",
       "        [0., 1., 0.,  ..., 0., 0., 0.],\n",
       "        [0., 0., 0.,  ..., 0., 0., 0.],\n",
       "        ...,\n",
       "        [1., 0., 0.,  ..., 0., 0., 0.],\n",
       "        [1., 0., 0.,  ..., 0., 0., 0.],\n",
       "        [1., 0., 0.,  ..., 0., 0., 0.]])"
      ]
     },
     "execution_count": 13,
     "metadata": {},
     "output_type": "execute_result"
    }
   ],
   "source": [
    "batch.x # one_hot(type), atomic_number, aromatic, sp1, sp2, sp3, num_hs -> 5+1+1+1+1+1+1 = 11"
   ]
  },
  {
   "cell_type": "code",
   "execution_count": 14,
   "id": "bb7af094",
   "metadata": {},
   "outputs": [
    {
     "data": {
      "text/plain": [
       "torch.Size([2300, 11])"
      ]
     },
     "execution_count": 14,
     "metadata": {},
     "output_type": "execute_result"
    }
   ],
   "source": [
    "batch.x.shape"
   ]
  },
  {
   "cell_type": "code",
   "execution_count": 15,
   "id": "bbaf95f7",
   "metadata": {},
   "outputs": [
    {
     "data": {
      "text/plain": [
       "tensor([[-0.1204,  0.4536,  1.2954],\n",
       "        [-0.0762, -0.4728,  0.2973],\n",
       "        [ 0.9001, -1.1023, -0.0309],\n",
       "        ...,\n",
       "        [-1.1957, -2.8606, -3.0300],\n",
       "        [-1.5937, -1.1596, -2.7099],\n",
       "        [-0.1183, -1.5790, -3.6121]])"
      ]
     },
     "execution_count": 15,
     "metadata": {},
     "output_type": "execute_result"
    }
   ],
   "source": [
    "batch.pos"
   ]
  },
  {
   "cell_type": "code",
   "execution_count": 16,
   "id": "a249b8ed",
   "metadata": {},
   "outputs": [
    {
     "data": {
      "text/plain": [
       "tensor([7, 6, 8,  ..., 1, 1, 1])"
      ]
     },
     "execution_count": 16,
     "metadata": {},
     "output_type": "execute_result"
    }
   ],
   "source": [
    "batch.z # atomic number"
   ]
  },
  {
   "cell_type": "code",
   "execution_count": 17,
   "id": "c15e32f4",
   "metadata": {},
   "outputs": [],
   "source": [
    "# edge features:"
   ]
  },
  {
   "cell_type": "code",
   "execution_count": 18,
   "id": "90f559c5",
   "metadata": {},
   "outputs": [
    {
     "data": {
      "text/plain": [
       "tensor([[   0,    0,    0,  ..., 2297, 2298, 2299],\n",
       "        [   1,    9,   10,  ..., 2285, 2285, 2285]])"
      ]
     },
     "execution_count": 18,
     "metadata": {},
     "output_type": "execute_result"
    }
   ],
   "source": [
    "batch.edge_index"
   ]
  },
  {
   "cell_type": "code",
   "execution_count": 19,
   "id": "c8ed7a14",
   "metadata": {},
   "outputs": [
    {
     "data": {
      "text/plain": [
       "tensor([[1., 0., 0., 0.],\n",
       "        [1., 0., 0., 0.],\n",
       "        [1., 0., 0., 0.],\n",
       "        ...,\n",
       "        [1., 0., 0., 0.],\n",
       "        [1., 0., 0., 0.],\n",
       "        [1., 0., 0., 0.]])"
      ]
     },
     "execution_count": 19,
     "metadata": {},
     "output_type": "execute_result"
    }
   ],
   "source": [
    "batch.edge_attr # one_hot(bond_type) -> 4 single, double, triple, aromatic"
   ]
  },
  {
   "cell_type": "code",
   "execution_count": 20,
   "id": "1054cc38",
   "metadata": {},
   "outputs": [
    {
     "data": {
      "text/plain": [
       "tensor([-12925.9668, -12012.0059, -10968.1504, -11419.2139, -11914.2793,\n",
       "        -12989.7871, -11543.5000,  -8662.4619, -13396.7100, -10598.3105,\n",
       "        -10532.9893, -10969.1758, -11980.8047,  -9554.7256,  -9959.5352,\n",
       "        -11343.0527, -10497.8975, -10938.0781, -10565.4678, -11948.2764,\n",
       "        -11914.1689, -11373.4238, -11949.8447, -10565.2734,  -8897.6631,\n",
       "         -8394.1113, -11844.7822, -12554.5693, -11812.5830, -11341.5605,\n",
       "        -11810.2422, -12894.3945, -11915.2100, -10397.1191, -11979.9766,\n",
       "        -11373.9668, -11510.3711, -11950.0342, -11913.8320, -12248.1006,\n",
       "        -10533.2607, -10969.8701, -10848.2070, -12925.5713, -12014.2988,\n",
       "        -10970.6025, -10565.4189, -14089.6182, -10463.6846, -11316.7227,\n",
       "        -11543.0498, -10397.0127,  -9958.4756, -11543.1621, -10532.8047,\n",
       "        -11376.8887, -11003.6660, -12353.6572, -12520.3926,  -9992.2549,\n",
       "         -9497.5303, -10271.1182, -11303.9033, -10934.8936, -10408.3828,\n",
       "         -9898.0400, -10500.0322, -11947.6855, -11270.9521, -10440.1748,\n",
       "        -10766.6133, -11915.1660, -11576.2451, -11883.3555, -10939.3076,\n",
       "        -12457.7852, -10473.9082, -10902.3584, -11891.3975, -12386.5010,\n",
       "        -10531.8672, -10873.0723, -12521.6045, -10969.4756, -11510.9365,\n",
       "        -11779.2910, -10533.6709, -11408.2529,  -7819.9531, -11948.2500,\n",
       "        -13872.5088, -10969.4941, -11317.1328, -10499.8682, -10565.4375,\n",
       "         -9901.1445, -10430.4229, -10474.7520,  -8426.9902, -11844.7529,\n",
       "        -10408.3955,  -9293.5146, -12487.6631, -11980.4424,  -9496.2949,\n",
       "         -9900.5957, -10936.4297, -11949.0664, -10935.0781, -11002.7061,\n",
       "        -10969.1738, -11477.6387, -10339.3604, -11780.0459, -12789.8457,\n",
       "        -11478.4395,  -9932.5010, -11576.7617, -11002.0029, -11542.5615,\n",
       "         -9932.7383,  -9357.9570, -12757.3428, -11780.2002, -12353.8672,\n",
       "        -10057.2266, -10937.1641, -11576.5889])"
      ]
     },
     "execution_count": 20,
     "metadata": {},
     "output_type": "execute_result"
    }
   ],
   "source": [
    "# targets \n",
    "batch.y[:, 7] # this target is U0"
   ]
  },
  {
   "cell_type": "code",
   "execution_count": 21,
   "id": "7be0c442",
   "metadata": {},
   "outputs": [],
   "source": [
    "ngpu=1\n",
    "device = torch.device('cuda:0' if (torch.cuda.is_available() and ngpu > 0) else 'cpu')"
   ]
  },
  {
   "cell_type": "markdown",
   "id": "12914486",
   "metadata": {},
   "source": [
    "# Model"
   ]
  },
  {
   "cell_type": "code",
   "execution_count": 22,
   "id": "496c17b7",
   "metadata": {},
   "outputs": [],
   "source": [
    "model = tgnn.SchNet().to(device)"
   ]
  },
  {
   "cell_type": "code",
   "execution_count": 23,
   "id": "f3d11ae9",
   "metadata": {},
   "outputs": [],
   "source": [
    "lr = 0.003\n",
    "n_epochs = 10000\n",
    "patience = 1\n",
    "factor = 0.96\n",
    "target_idx = 7"
   ]
  },
  {
   "cell_type": "code",
   "execution_count": 24,
   "id": "786e4122",
   "metadata": {},
   "outputs": [],
   "source": [
    "target_vec = [d.y[0, target_idx] for d in train_dataset]\n",
    "target_mean = np.mean(target_vec)\n",
    "target_std = np.std(target_vec)"
   ]
  },
  {
   "cell_type": "code",
   "execution_count": 25,
   "id": "2d0815e5",
   "metadata": {},
   "outputs": [],
   "source": [
    "def normalize(target, mean=target_mean, std=target_std):\n",
    "    return (target - mean)/std\n",
    "\n",
    "def denormalize(target, mean=target_mean, std=target_std):\n",
    "    return target*std + mean"
   ]
  },
  {
   "cell_type": "code",
   "execution_count": 26,
   "id": "a80a7aba",
   "metadata": {},
   "outputs": [],
   "source": [
    "loss = nn.L1Loss()\n",
    "optimizer = optim.Adam(model.parameters(), lr=lr)\n",
    "lr_scheduler = optim.lr_scheduler.ReduceLROnPlateau(optimizer, mode='min', verbose=True, patience=patience, factor=factor)"
   ]
  },
  {
   "cell_type": "markdown",
   "id": "28549be9",
   "metadata": {},
   "source": [
    "# Training"
   ]
  },
  {
   "cell_type": "code",
   "execution_count": null,
   "id": "0e4a46ad",
   "metadata": {},
   "outputs": [
    {
     "name": "stderr",
     "output_type": "stream",
     "text": [
      "MAE/CA 28336.403778: : 860it [00:28, 29.68it/s] \n",
      "MAE/CA 7550.289029: : 860it [00:29, 29.48it/s]\n",
      "MAE/CA 4231.139139: : 860it [00:29, 29.59it/s]\n",
      "MAE/CA 4252.439653: : 860it [00:29, 29.28it/s]\n",
      "MAE/CA 4047.639742: : 860it [00:29, 29.47it/s]\n",
      "MAE/CA 3747.478561: : 860it [00:29, 28.92it/s]\n",
      "MAE/CA 3427.646766: : 860it [00:29, 29.65it/s]\n",
      "MAE/CA 3336.948044: : 860it [00:28, 29.67it/s]\n",
      "MAE/CA 2921.808570: : 860it [00:28, 29.83it/s]\n",
      "MAE/CA 1967.651528: : 860it [00:28, 29.76it/s]\n",
      "MAE/CA 765564918526.571533: : 860it [00:29, 29.60it/s]\n",
      "MAE/CA 19614.992807: : 860it [00:28, 29.95it/s]\n",
      "MAE/CA 20166.253851: : 4it [00:00, 30.55it/s]"
     ]
    },
    {
     "name": "stdout",
     "output_type": "stream",
     "text": [
      "Epoch    12: reducing learning rate of group 0 to 2.8800e-03.\n"
     ]
    },
    {
     "name": "stderr",
     "output_type": "stream",
     "text": [
      "MAE/CA 19623.011282: : 860it [00:28, 29.68it/s]\n",
      "MAE/CA 19640.395351: : 860it [00:29, 29.48it/s]\n",
      "MAE/CA 19255.682231: : 3it [00:00, 29.69it/s]"
     ]
    },
    {
     "name": "stdout",
     "output_type": "stream",
     "text": [
      "Epoch    14: reducing learning rate of group 0 to 2.7648e-03.\n"
     ]
    },
    {
     "name": "stderr",
     "output_type": "stream",
     "text": [
      "MAE/CA 19669.427893: : 860it [00:28, 30.60it/s]\n",
      "MAE/CA 19661.641807: : 860it [00:28, 30.01it/s]\n",
      "MAE/CA 19422.927738: : 3it [00:00, 29.51it/s]"
     ]
    },
    {
     "name": "stdout",
     "output_type": "stream",
     "text": [
      "Epoch    16: reducing learning rate of group 0 to 2.6542e-03.\n"
     ]
    },
    {
     "name": "stderr",
     "output_type": "stream",
     "text": [
      "MAE/CA 19674.548497: : 860it [00:29, 29.64it/s]\n",
      "MAE/CA 19688.470152: : 860it [00:28, 30.42it/s]\n",
      "MAE/CA 19642.258755: : 3it [00:00, 29.05it/s]"
     ]
    },
    {
     "name": "stdout",
     "output_type": "stream",
     "text": [
      "Epoch    18: reducing learning rate of group 0 to 2.5480e-03.\n"
     ]
    },
    {
     "name": "stderr",
     "output_type": "stream",
     "text": [
      "MAE/CA 19729.678500: : 860it [00:28, 29.76it/s]\n",
      "MAE/CA 19706.050444: : 860it [00:28, 30.18it/s]\n",
      "MAE/CA 19097.129928: : 3it [00:00, 27.89it/s]"
     ]
    },
    {
     "name": "stdout",
     "output_type": "stream",
     "text": [
      "Epoch    20: reducing learning rate of group 0 to 2.4461e-03.\n"
     ]
    },
    {
     "name": "stderr",
     "output_type": "stream",
     "text": [
      "MAE/CA 19773.108282: : 860it [00:27, 30.76it/s]\n",
      "MAE/CA 19738.485865: : 860it [00:28, 29.67it/s]\n",
      "MAE/CA 19321.902963: : 3it [00:00, 29.47it/s]"
     ]
    },
    {
     "name": "stdout",
     "output_type": "stream",
     "text": [
      "Epoch    22: reducing learning rate of group 0 to 2.3483e-03.\n"
     ]
    },
    {
     "name": "stderr",
     "output_type": "stream",
     "text": [
      "MAE/CA 19725.537410: : 860it [00:29, 29.63it/s]\n",
      "MAE/CA 19784.062144: : 860it [00:29, 29.65it/s]\n",
      "MAE/CA 20364.994256: : 3it [00:00, 28.82it/s]"
     ]
    },
    {
     "name": "stdout",
     "output_type": "stream",
     "text": [
      "Epoch    24: reducing learning rate of group 0 to 2.2543e-03.\n"
     ]
    },
    {
     "name": "stderr",
     "output_type": "stream",
     "text": [
      "MAE/CA 19888.300473: : 860it [00:28, 29.94it/s]\n",
      "MAE/CA 19747.297267: : 860it [00:28, 30.21it/s]\n",
      "MAE/CA 19806.032639: : 4it [00:00, 30.97it/s]"
     ]
    },
    {
     "name": "stdout",
     "output_type": "stream",
     "text": [
      "Epoch    26: reducing learning rate of group 0 to 2.1642e-03.\n"
     ]
    },
    {
     "name": "stderr",
     "output_type": "stream",
     "text": [
      "MAE/CA 19789.730134: : 860it [00:28, 29.83it/s]\n",
      "MAE/CA 19872.052230: : 860it [00:28, 30.07it/s]\n",
      "MAE/CA 20933.431463: : 3it [00:00, 29.18it/s]"
     ]
    },
    {
     "name": "stdout",
     "output_type": "stream",
     "text": [
      "Epoch    28: reducing learning rate of group 0 to 2.0776e-03.\n"
     ]
    },
    {
     "name": "stderr",
     "output_type": "stream",
     "text": [
      "MAE/CA 19825.493320: : 860it [00:28, 29.68it/s]\n",
      "MAE/CA 19893.200835: : 860it [00:28, 30.19it/s]\n",
      "MAE/CA 19259.098023: : 3it [00:00, 28.64it/s]"
     ]
    },
    {
     "name": "stdout",
     "output_type": "stream",
     "text": [
      "Epoch    30: reducing learning rate of group 0 to 1.9945e-03.\n"
     ]
    },
    {
     "name": "stderr",
     "output_type": "stream",
     "text": [
      "MAE/CA 19938.744660: : 860it [00:28, 29.74it/s]\n",
      "MAE/CA 19861.976441: : 860it [00:28, 30.09it/s]\n",
      "MAE/CA 18979.513715: : 3it [00:00, 29.58it/s]"
     ]
    },
    {
     "name": "stdout",
     "output_type": "stream",
     "text": [
      "Epoch    32: reducing learning rate of group 0 to 1.9147e-03.\n"
     ]
    },
    {
     "name": "stderr",
     "output_type": "stream",
     "text": [
      "MAE/CA 19858.664427: : 860it [00:28, 30.35it/s]\n",
      "MAE/CA 19838.929956: : 860it [00:28, 30.00it/s]\n",
      "MAE/CA 20108.614899: : 3it [00:00, 29.22it/s]"
     ]
    },
    {
     "name": "stdout",
     "output_type": "stream",
     "text": [
      "Epoch    34: reducing learning rate of group 0 to 1.8381e-03.\n"
     ]
    },
    {
     "name": "stderr",
     "output_type": "stream",
     "text": [
      "MAE/CA 19972.800237: : 860it [00:28, 29.92it/s]\n",
      "MAE/CA 19872.049617: : 860it [00:28, 29.72it/s]\n",
      "MAE/CA 19222.420389: : 3it [00:00, 28.74it/s]"
     ]
    },
    {
     "name": "stdout",
     "output_type": "stream",
     "text": [
      "Epoch    36: reducing learning rate of group 0 to 1.7646e-03.\n"
     ]
    },
    {
     "name": "stderr",
     "output_type": "stream",
     "text": [
      "MAE/CA 19862.951155: : 860it [00:28, 30.66it/s]\n",
      "MAE/CA 19871.742754: : 860it [00:28, 30.32it/s]\n",
      "MAE/CA 19407.660196: : 4it [00:00, 31.46it/s]"
     ]
    },
    {
     "name": "stdout",
     "output_type": "stream",
     "text": [
      "Epoch    38: reducing learning rate of group 0 to 1.6940e-03.\n"
     ]
    },
    {
     "name": "stderr",
     "output_type": "stream",
     "text": [
      "MAE/CA 19793.551416: : 860it [00:27, 31.39it/s]\n",
      "MAE/CA 19903.158460: : 860it [00:28, 30.59it/s]\n",
      "MAE/CA 19716.267667: : 3it [00:00, 28.76it/s]"
     ]
    },
    {
     "name": "stdout",
     "output_type": "stream",
     "text": [
      "Epoch    40: reducing learning rate of group 0 to 1.6263e-03.\n"
     ]
    },
    {
     "name": "stderr",
     "output_type": "stream",
     "text": [
      "MAE/CA 19769.377134: : 860it [00:28, 30.47it/s]\n",
      "MAE/CA 19903.721464: : 860it [00:28, 30.32it/s]\n",
      "MAE/CA 19795.081797: : 3it [00:00, 29.88it/s]"
     ]
    },
    {
     "name": "stdout",
     "output_type": "stream",
     "text": [
      "Epoch    42: reducing learning rate of group 0 to 1.5612e-03.\n"
     ]
    },
    {
     "name": "stderr",
     "output_type": "stream",
     "text": [
      "MAE/CA 19914.366324: : 860it [00:28, 30.19it/s]\n",
      "MAE/CA 19798.597697: : 860it [00:28, 30.06it/s]\n",
      "MAE/CA 20411.421428: : 3it [00:00, 29.63it/s]"
     ]
    },
    {
     "name": "stdout",
     "output_type": "stream",
     "text": [
      "Epoch    44: reducing learning rate of group 0 to 1.4988e-03.\n"
     ]
    },
    {
     "name": "stderr",
     "output_type": "stream",
     "text": [
      "MAE/CA 19896.692769: : 860it [00:28, 30.23it/s]\n",
      "MAE/CA 19743.230135: : 860it [00:28, 29.85it/s]\n",
      "MAE/CA 20585.966598: : 3it [00:00, 28.64it/s]"
     ]
    },
    {
     "name": "stdout",
     "output_type": "stream",
     "text": [
      "Epoch    46: reducing learning rate of group 0 to 1.4388e-03.\n"
     ]
    },
    {
     "name": "stderr",
     "output_type": "stream",
     "text": [
      "MAE/CA 19819.150327: : 860it [00:27, 30.80it/s]\n",
      "MAE/CA 19913.739925: : 860it [00:28, 29.98it/s]\n",
      "MAE/CA 19498.081651: : 3it [00:00, 28.16it/s]"
     ]
    },
    {
     "name": "stdout",
     "output_type": "stream",
     "text": [
      "Epoch    48: reducing learning rate of group 0 to 1.3813e-03.\n"
     ]
    },
    {
     "name": "stderr",
     "output_type": "stream",
     "text": [
      "MAE/CA 19793.050905: : 860it [00:28, 29.77it/s]\n",
      "MAE/CA 19848.040248: : 860it [00:28, 30.10it/s]\n",
      "MAE/CA 20585.848076: : 3it [00:00, 29.24it/s]"
     ]
    },
    {
     "name": "stdout",
     "output_type": "stream",
     "text": [
      "Epoch    50: reducing learning rate of group 0 to 1.3260e-03.\n"
     ]
    },
    {
     "name": "stderr",
     "output_type": "stream",
     "text": [
      "MAE/CA 19778.171919: : 860it [00:28, 29.75it/s]\n",
      "MAE/CA 19830.695353: : 860it [00:27, 31.04it/s]\n",
      "MAE/CA 19653.663813: : 3it [00:00, 27.48it/s]"
     ]
    },
    {
     "name": "stdout",
     "output_type": "stream",
     "text": [
      "Epoch    52: reducing learning rate of group 0 to 1.2730e-03.\n"
     ]
    },
    {
     "name": "stderr",
     "output_type": "stream",
     "text": [
      "MAE/CA 19900.463219: : 860it [00:27, 31.29it/s]\n",
      "MAE/CA 19824.919936: : 860it [00:28, 30.48it/s]\n",
      "MAE/CA 19200.156136: : 3it [00:00, 25.43it/s]"
     ]
    },
    {
     "name": "stdout",
     "output_type": "stream",
     "text": [
      "Epoch    54: reducing learning rate of group 0 to 1.2220e-03.\n"
     ]
    },
    {
     "name": "stderr",
     "output_type": "stream",
     "text": [
      "MAE/CA 19764.235846: : 860it [00:28, 29.99it/s]\n",
      "MAE/CA 19785.243370: : 860it [00:28, 29.71it/s]\n",
      "MAE/CA 20798.537995: : 3it [00:00, 27.33it/s]"
     ]
    },
    {
     "name": "stdout",
     "output_type": "stream",
     "text": [
      "Epoch    56: reducing learning rate of group 0 to 1.1732e-03.\n"
     ]
    },
    {
     "name": "stderr",
     "output_type": "stream",
     "text": [
      "MAE/CA 19758.948701: : 860it [00:28, 29.89it/s]\n",
      "MAE/CA 19831.326782: : 860it [00:28, 30.42it/s]\n",
      "MAE/CA 18977.815613: : 4it [00:00, 30.29it/s]"
     ]
    },
    {
     "name": "stdout",
     "output_type": "stream",
     "text": [
      "Epoch    58: reducing learning rate of group 0 to 1.1262e-03.\n"
     ]
    },
    {
     "name": "stderr",
     "output_type": "stream",
     "text": [
      "MAE/CA 19787.217774: : 860it [00:28, 30.30it/s]\n",
      "MAE/CA 19773.273677: : 860it [00:28, 29.82it/s]\n",
      "MAE/CA 20652.106990: : 3it [00:00, 27.77it/s]"
     ]
    },
    {
     "name": "stdout",
     "output_type": "stream",
     "text": [
      "Epoch    60: reducing learning rate of group 0 to 1.0812e-03.\n"
     ]
    },
    {
     "name": "stderr",
     "output_type": "stream",
     "text": [
      "MAE/CA 19761.301333: : 860it [00:28, 29.90it/s]\n",
      "MAE/CA 19782.378045: : 860it [00:28, 29.94it/s]\n",
      "MAE/CA 18845.835131: : 3it [00:00, 29.44it/s]"
     ]
    },
    {
     "name": "stdout",
     "output_type": "stream",
     "text": [
      "Epoch    62: reducing learning rate of group 0 to 1.0379e-03.\n"
     ]
    },
    {
     "name": "stderr",
     "output_type": "stream",
     "text": [
      "MAE/CA 19743.925822: : 860it [00:28, 29.89it/s]\n",
      "MAE/CA 19748.344432: : 860it [00:28, 29.91it/s]\n",
      "MAE/CA 19478.048635: : 3it [00:00, 29.27it/s]"
     ]
    },
    {
     "name": "stdout",
     "output_type": "stream",
     "text": [
      "Epoch    64: reducing learning rate of group 0 to 9.9642e-04.\n"
     ]
    },
    {
     "name": "stderr",
     "output_type": "stream",
     "text": [
      "MAE/CA 19748.092027: : 860it [00:28, 29.80it/s]\n",
      "MAE/CA 19726.552617: : 860it [00:28, 30.71it/s]\n",
      "MAE/CA 19428.732465: : 3it [00:00, 29.15it/s]"
     ]
    },
    {
     "name": "stdout",
     "output_type": "stream",
     "text": [
      "Epoch    66: reducing learning rate of group 0 to 9.5657e-04.\n"
     ]
    },
    {
     "name": "stderr",
     "output_type": "stream",
     "text": [
      "MAE/CA 19770.197870: : 860it [00:28, 30.04it/s]\n",
      "MAE/CA 19785.091293: : 860it [00:28, 30.44it/s]\n",
      "MAE/CA 19756.140657: : 3it [00:00, 28.66it/s]"
     ]
    },
    {
     "name": "stdout",
     "output_type": "stream",
     "text": [
      "Epoch    68: reducing learning rate of group 0 to 9.1831e-04.\n"
     ]
    },
    {
     "name": "stderr",
     "output_type": "stream",
     "text": [
      "MAE/CA 19752.915138: : 860it [00:27, 30.97it/s]\n",
      "MAE/CA 19729.638447: : 860it [00:28, 30.07it/s]\n",
      "MAE/CA 19751.824431: : 3it [00:00, 28.54it/s]"
     ]
    },
    {
     "name": "stdout",
     "output_type": "stream",
     "text": [
      "Epoch    70: reducing learning rate of group 0 to 8.8157e-04.\n"
     ]
    },
    {
     "name": "stderr",
     "output_type": "stream",
     "text": [
      "MAE/CA 19743.476576: : 860it [00:28, 29.68it/s]\n",
      "MAE/CA 19718.951063: : 860it [00:28, 29.84it/s]\n",
      "MAE/CA 19676.169935: : 3it [00:00, 28.85it/s]"
     ]
    },
    {
     "name": "stdout",
     "output_type": "stream",
     "text": [
      "Epoch    72: reducing learning rate of group 0 to 8.4631e-04.\n"
     ]
    },
    {
     "name": "stderr",
     "output_type": "stream",
     "text": [
      "MAE/CA 19721.629999: : 860it [00:28, 30.16it/s]\n",
      "MAE/CA 19715.923788: : 860it [00:28, 29.99it/s]\n",
      "MAE/CA 18602.503104: : 3it [00:00, 29.45it/s]"
     ]
    },
    {
     "name": "stdout",
     "output_type": "stream",
     "text": [
      "Epoch    74: reducing learning rate of group 0 to 8.1246e-04.\n"
     ]
    },
    {
     "name": "stderr",
     "output_type": "stream",
     "text": [
      "MAE/CA 19687.587304: : 860it [00:28, 30.00it/s]\n",
      "MAE/CA 19704.063538: : 860it [00:28, 29.97it/s]\n",
      "MAE/CA 20201.240954: : 4it [00:00, 30.56it/s]"
     ]
    },
    {
     "name": "stdout",
     "output_type": "stream",
     "text": [
      "Epoch    76: reducing learning rate of group 0 to 7.7996e-04.\n"
     ]
    },
    {
     "name": "stderr",
     "output_type": "stream",
     "text": [
      "MAE/CA 19724.157424: : 860it [00:28, 30.31it/s]\n",
      "MAE/CA 19703.069002: : 860it [00:28, 30.33it/s]\n",
      "MAE/CA 19371.020413: : 3it [00:00, 29.57it/s]"
     ]
    },
    {
     "name": "stdout",
     "output_type": "stream",
     "text": [
      "Epoch    78: reducing learning rate of group 0 to 7.4876e-04.\n"
     ]
    },
    {
     "name": "stderr",
     "output_type": "stream",
     "text": [
      "MAE/CA 19682.899847: : 860it [00:29, 29.58it/s]\n",
      "MAE/CA 19718.055757: : 860it [00:28, 30.01it/s]\n",
      "MAE/CA 20347.248876: : 4it [00:00, 30.40it/s]"
     ]
    },
    {
     "name": "stdout",
     "output_type": "stream",
     "text": [
      "Epoch    80: reducing learning rate of group 0 to 7.1881e-04.\n"
     ]
    },
    {
     "name": "stderr",
     "output_type": "stream",
     "text": [
      "MAE/CA 19714.549707: : 860it [00:28, 30.04it/s]\n",
      "MAE/CA 19702.352199: : 860it [00:28, 29.92it/s]\n",
      "MAE/CA 19867.804381: : 3it [00:00, 27.90it/s]"
     ]
    },
    {
     "name": "stdout",
     "output_type": "stream",
     "text": [
      "Epoch    82: reducing learning rate of group 0 to 6.9006e-04.\n"
     ]
    },
    {
     "name": "stderr",
     "output_type": "stream",
     "text": [
      "MAE/CA 19683.610981: : 860it [00:28, 30.04it/s]\n",
      "MAE/CA 19747.740209: : 860it [00:28, 30.39it/s]\n",
      "MAE/CA 19589.793124: : 3it [00:00, 29.63it/s]"
     ]
    },
    {
     "name": "stdout",
     "output_type": "stream",
     "text": [
      "Epoch    84: reducing learning rate of group 0 to 6.6246e-04.\n"
     ]
    },
    {
     "name": "stderr",
     "output_type": "stream",
     "text": [
      "MAE/CA 19672.189305: : 860it [00:28, 29.99it/s]\n",
      "MAE/CA 19714.649461: : 860it [00:28, 29.94it/s]\n",
      "MAE/CA 20544.941037: : 3it [00:00, 29.11it/s]"
     ]
    },
    {
     "name": "stdout",
     "output_type": "stream",
     "text": [
      "Epoch    86: reducing learning rate of group 0 to 6.3596e-04.\n"
     ]
    },
    {
     "name": "stderr",
     "output_type": "stream",
     "text": [
      "MAE/CA 19700.378715: : 860it [00:28, 30.00it/s]\n",
      "MAE/CA 19711.129335: : 860it [00:28, 29.83it/s]\n",
      "MAE/CA 20394.625642: : 4it [00:00, 31.37it/s]"
     ]
    },
    {
     "name": "stdout",
     "output_type": "stream",
     "text": [
      "Epoch    88: reducing learning rate of group 0 to 6.1052e-04.\n"
     ]
    },
    {
     "name": "stderr",
     "output_type": "stream",
     "text": [
      "MAE/CA 19736.728466: : 860it [00:28, 30.02it/s]\n",
      "MAE/CA 19668.647475: : 860it [00:28, 29.82it/s]\n",
      "MAE/CA 20105.131401: : 3it [00:00, 28.81it/s]"
     ]
    },
    {
     "name": "stdout",
     "output_type": "stream",
     "text": [
      "Epoch    90: reducing learning rate of group 0 to 5.8610e-04.\n"
     ]
    },
    {
     "name": "stderr",
     "output_type": "stream",
     "text": [
      "MAE/CA 19659.480628: : 860it [00:28, 30.05it/s]\n",
      "MAE/CA 19680.611758: : 860it [00:27, 30.82it/s]\n",
      "MAE/CA 21016.527279: : 4it [00:00, 31.41it/s]"
     ]
    },
    {
     "name": "stdout",
     "output_type": "stream",
     "text": [
      "Epoch    92: reducing learning rate of group 0 to 5.6265e-04.\n"
     ]
    },
    {
     "name": "stderr",
     "output_type": "stream",
     "text": [
      "MAE/CA 19713.346144: : 860it [00:28, 30.06it/s]\n",
      "MAE/CA 19646.818000: : 860it [00:27, 30.78it/s]\n",
      "MAE/CA 18937.730893: : 3it [00:00, 28.88it/s]"
     ]
    },
    {
     "name": "stdout",
     "output_type": "stream",
     "text": [
      "Epoch    94: reducing learning rate of group 0 to 5.4015e-04.\n"
     ]
    },
    {
     "name": "stderr",
     "output_type": "stream",
     "text": [
      "MAE/CA 19656.640721: : 860it [00:28, 30.16it/s]\n",
      "MAE/CA 19655.509511: : 860it [00:28, 29.75it/s]\n",
      "MAE/CA 18828.602872: : 3it [00:00, 28.60it/s]"
     ]
    },
    {
     "name": "stdout",
     "output_type": "stream",
     "text": [
      "Epoch    96: reducing learning rate of group 0 to 5.1854e-04.\n"
     ]
    },
    {
     "name": "stderr",
     "output_type": "stream",
     "text": [
      "MAE/CA 19677.711791: : 860it [00:27, 30.97it/s]\n",
      "MAE/CA 19680.150717: : 860it [00:28, 30.09it/s]\n",
      "MAE/CA 19475.917609: : 3it [00:00, 29.13it/s]"
     ]
    },
    {
     "name": "stdout",
     "output_type": "stream",
     "text": [
      "Epoch    98: reducing learning rate of group 0 to 4.9780e-04.\n"
     ]
    },
    {
     "name": "stderr",
     "output_type": "stream",
     "text": [
      "MAE/CA 19682.098227: : 860it [00:28, 29.79it/s]\n",
      "MAE/CA 19673.209127: : 860it [00:28, 30.20it/s]\n",
      "MAE/CA 20169.200099: : 3it [00:00, 28.89it/s]"
     ]
    },
    {
     "name": "stdout",
     "output_type": "stream",
     "text": [
      "Epoch   100: reducing learning rate of group 0 to 4.7789e-04.\n"
     ]
    },
    {
     "name": "stderr",
     "output_type": "stream",
     "text": [
      "MAE/CA 19652.680561: : 860it [00:28, 30.35it/s]\n",
      "MAE/CA 19671.816695: : 860it [00:28, 29.87it/s]\n",
      "MAE/CA 20016.990200: : 3it [00:00, 25.57it/s]"
     ]
    },
    {
     "name": "stdout",
     "output_type": "stream",
     "text": [
      "Epoch   102: reducing learning rate of group 0 to 4.5877e-04.\n"
     ]
    },
    {
     "name": "stderr",
     "output_type": "stream",
     "text": [
      "MAE/CA 19631.983633: : 860it [00:28, 30.49it/s]\n",
      "MAE/CA 19666.477710: : 860it [00:28, 29.86it/s]\n",
      "MAE/CA 18682.426748: : 3it [00:00, 29.46it/s]"
     ]
    },
    {
     "name": "stdout",
     "output_type": "stream",
     "text": [
      "Epoch   104: reducing learning rate of group 0 to 4.4042e-04.\n"
     ]
    },
    {
     "name": "stderr",
     "output_type": "stream",
     "text": [
      "MAE/CA 19657.475438: : 860it [00:28, 30.04it/s]\n",
      "MAE/CA 19644.443026: : 860it [00:28, 29.92it/s]\n",
      "MAE/CA 19988.220925: : 3it [00:00, 29.51it/s]"
     ]
    },
    {
     "name": "stdout",
     "output_type": "stream",
     "text": [
      "Epoch   106: reducing learning rate of group 0 to 4.2281e-04.\n"
     ]
    },
    {
     "name": "stderr",
     "output_type": "stream",
     "text": [
      "MAE/CA 19661.102103: : 860it [00:28, 29.85it/s]\n",
      "MAE/CA 19641.707681: : 860it [00:28, 29.89it/s]\n",
      "MAE/CA 19065.687076: : 3it [00:00, 29.30it/s]"
     ]
    },
    {
     "name": "stdout",
     "output_type": "stream",
     "text": [
      "Epoch   108: reducing learning rate of group 0 to 4.0589e-04.\n"
     ]
    },
    {
     "name": "stderr",
     "output_type": "stream",
     "text": [
      "MAE/CA 19637.728298: : 860it [00:28, 29.97it/s]\n",
      "MAE/CA 19663.549041: : 860it [00:28, 29.92it/s]\n",
      "MAE/CA 19364.093869: : 3it [00:00, 28.32it/s]"
     ]
    },
    {
     "name": "stdout",
     "output_type": "stream",
     "text": [
      "Epoch   110: reducing learning rate of group 0 to 3.8966e-04.\n"
     ]
    },
    {
     "name": "stderr",
     "output_type": "stream",
     "text": [
      "MAE/CA 19653.284454: : 860it [00:28, 29.80it/s]\n",
      "MAE/CA 19627.494476: : 860it [00:28, 29.85it/s]\n",
      "MAE/CA 20354.192216: : 3it [00:00, 29.16it/s]"
     ]
    },
    {
     "name": "stdout",
     "output_type": "stream",
     "text": [
      "Epoch   112: reducing learning rate of group 0 to 3.7407e-04.\n"
     ]
    },
    {
     "name": "stderr",
     "output_type": "stream",
     "text": [
      "MAE/CA 19640.894946: : 860it [00:28, 30.04it/s]\n",
      "MAE/CA 19632.184208: : 860it [00:28, 30.04it/s]\n",
      "MAE/CA 20036.491690: : 4it [00:00, 31.88it/s]"
     ]
    },
    {
     "name": "stdout",
     "output_type": "stream",
     "text": [
      "Epoch   114: reducing learning rate of group 0 to 3.5911e-04.\n"
     ]
    },
    {
     "name": "stderr",
     "output_type": "stream",
     "text": [
      "MAE/CA 19638.411916: : 860it [00:28, 30.10it/s]\n",
      "MAE/CA 19663.346081: : 860it [00:28, 29.73it/s]\n",
      "MAE/CA 19928.957207: : 3it [00:00, 29.51it/s]"
     ]
    },
    {
     "name": "stdout",
     "output_type": "stream",
     "text": [
      "Epoch   116: reducing learning rate of group 0 to 3.4474e-04.\n"
     ]
    },
    {
     "name": "stderr",
     "output_type": "stream",
     "text": [
      "MAE/CA 19611.168268: : 860it [00:28, 29.93it/s]\n",
      "MAE/CA 19650.156188: : 860it [00:28, 29.93it/s]\n",
      "MAE/CA 19638.296580: : 3it [00:00, 28.91it/s]"
     ]
    },
    {
     "name": "stdout",
     "output_type": "stream",
     "text": [
      "Epoch   118: reducing learning rate of group 0 to 3.3095e-04.\n"
     ]
    },
    {
     "name": "stderr",
     "output_type": "stream",
     "text": [
      "MAE/CA 19640.300530: : 860it [00:28, 30.39it/s]\n",
      "MAE/CA 19646.109826: : 860it [00:28, 30.29it/s]\n",
      "MAE/CA 19879.488923: : 3it [00:00, 27.59it/s]"
     ]
    },
    {
     "name": "stdout",
     "output_type": "stream",
     "text": [
      "Epoch   120: reducing learning rate of group 0 to 3.1772e-04.\n"
     ]
    },
    {
     "name": "stderr",
     "output_type": "stream",
     "text": [
      "MAE/CA 19658.272987: : 860it [00:28, 29.82it/s]\n",
      "MAE/CA 19637.347493: : 860it [00:28, 29.86it/s]\n",
      "MAE/CA 20273.663661: : 3it [00:00, 29.29it/s]"
     ]
    },
    {
     "name": "stdout",
     "output_type": "stream",
     "text": [
      "Epoch   122: reducing learning rate of group 0 to 3.0501e-04.\n"
     ]
    },
    {
     "name": "stderr",
     "output_type": "stream",
     "text": [
      "MAE/CA 19630.948185: : 860it [00:28, 29.83it/s]\n",
      "MAE/CA 19655.676692: : 860it [00:28, 29.94it/s]\n",
      "MAE/CA 19148.768699: : 3it [00:00, 28.49it/s]"
     ]
    },
    {
     "name": "stdout",
     "output_type": "stream",
     "text": [
      "Epoch   124: reducing learning rate of group 0 to 2.9281e-04.\n"
     ]
    },
    {
     "name": "stderr",
     "output_type": "stream",
     "text": [
      "MAE/CA 19638.873111: : 860it [00:28, 30.05it/s]\n",
      "MAE/CA 19631.150375: : 860it [00:29, 29.60it/s]\n",
      "MAE/CA 19399.019463: : 3it [00:00, 27.99it/s]"
     ]
    },
    {
     "name": "stdout",
     "output_type": "stream",
     "text": [
      "Epoch   126: reducing learning rate of group 0 to 2.8109e-04.\n"
     ]
    },
    {
     "name": "stderr",
     "output_type": "stream",
     "text": [
      "MAE/CA 19635.892036: : 860it [00:28, 29.78it/s]\n",
      "MAE/CA 19624.404866: : 860it [00:28, 29.97it/s]\n",
      "MAE/CA 20189.720544: : 3it [00:00, 27.66it/s]"
     ]
    },
    {
     "name": "stdout",
     "output_type": "stream",
     "text": [
      "Epoch   128: reducing learning rate of group 0 to 2.6985e-04.\n"
     ]
    },
    {
     "name": "stderr",
     "output_type": "stream",
     "text": [
      "MAE/CA 19636.708745: : 860it [00:28, 30.21it/s]\n",
      "MAE/CA 19633.761011: : 860it [00:28, 29.93it/s]\n",
      "MAE/CA 19246.220315: : 3it [00:00, 28.48it/s]"
     ]
    },
    {
     "name": "stdout",
     "output_type": "stream",
     "text": [
      "Epoch   130: reducing learning rate of group 0 to 2.5906e-04.\n"
     ]
    },
    {
     "name": "stderr",
     "output_type": "stream",
     "text": [
      "MAE/CA 19625.283487: : 860it [00:28, 29.78it/s]\n",
      "MAE/CA 19619.240724: : 860it [00:28, 29.79it/s]\n",
      "MAE/CA 20165.265460: : 3it [00:00, 29.38it/s]"
     ]
    },
    {
     "name": "stdout",
     "output_type": "stream",
     "text": [
      "Epoch   132: reducing learning rate of group 0 to 2.4869e-04.\n"
     ]
    },
    {
     "name": "stderr",
     "output_type": "stream",
     "text": [
      "MAE/CA 19636.605330: : 860it [00:28, 29.90it/s]\n",
      "MAE/CA 19617.397271: : 860it [00:28, 29.78it/s]\n",
      "MAE/CA 18524.864587: : 3it [00:00, 28.09it/s]"
     ]
    },
    {
     "name": "stdout",
     "output_type": "stream",
     "text": [
      "Epoch   134: reducing learning rate of group 0 to 2.3875e-04.\n"
     ]
    },
    {
     "name": "stderr",
     "output_type": "stream",
     "text": [
      "MAE/CA 19604.112898: : 860it [00:27, 31.03it/s]\n",
      "MAE/CA 19627.099152: : 860it [00:28, 30.39it/s]\n",
      "MAE/CA 19078.419956: : 3it [00:00, 26.18it/s]"
     ]
    },
    {
     "name": "stdout",
     "output_type": "stream",
     "text": [
      "Epoch   136: reducing learning rate of group 0 to 2.2920e-04.\n"
     ]
    },
    {
     "name": "stderr",
     "output_type": "stream",
     "text": [
      "MAE/CA 19613.920767: : 860it [00:28, 30.03it/s]\n",
      "MAE/CA 19604.279669: : 860it [00:27, 30.86it/s]\n",
      "MAE/CA 19871.298147: : 4it [00:00, 31.88it/s]"
     ]
    },
    {
     "name": "stdout",
     "output_type": "stream",
     "text": [
      "Epoch   138: reducing learning rate of group 0 to 2.2003e-04.\n"
     ]
    },
    {
     "name": "stderr",
     "output_type": "stream",
     "text": [
      "MAE/CA 19633.554894: : 860it [00:28, 29.94it/s]\n",
      "MAE/CA 19605.669418: : 860it [00:28, 30.52it/s]\n",
      "MAE/CA 19089.098317: : 3it [00:00, 28.47it/s]"
     ]
    },
    {
     "name": "stdout",
     "output_type": "stream",
     "text": [
      "Epoch   140: reducing learning rate of group 0 to 2.1123e-04.\n"
     ]
    },
    {
     "name": "stderr",
     "output_type": "stream",
     "text": [
      "MAE/CA 19617.382012: : 860it [00:28, 29.81it/s]\n",
      "MAE/CA 19620.155167: : 860it [00:28, 29.83it/s]\n",
      "MAE/CA 19004.862941: : 3it [00:00, 28.42it/s]"
     ]
    },
    {
     "name": "stdout",
     "output_type": "stream",
     "text": [
      "Epoch   142: reducing learning rate of group 0 to 2.0278e-04.\n"
     ]
    },
    {
     "name": "stderr",
     "output_type": "stream",
     "text": [
      "MAE/CA 19613.909034: : 860it [00:28, 30.32it/s]\n",
      "MAE/CA 19607.612150: : 860it [00:28, 29.70it/s]\n",
      "MAE/CA 20117.556313: : 3it [00:00, 28.47it/s]"
     ]
    },
    {
     "name": "stdout",
     "output_type": "stream",
     "text": [
      "Epoch   144: reducing learning rate of group 0 to 1.9467e-04.\n"
     ]
    },
    {
     "name": "stderr",
     "output_type": "stream",
     "text": [
      "MAE/CA 19611.508438: : 860it [00:28, 29.78it/s]\n",
      "MAE/CA 19615.604593: : 860it [00:28, 29.70it/s]\n",
      "MAE/CA 19616.156526: : 3it [00:00, 29.62it/s]"
     ]
    },
    {
     "name": "stdout",
     "output_type": "stream",
     "text": [
      "Epoch   146: reducing learning rate of group 0 to 1.8688e-04.\n"
     ]
    },
    {
     "name": "stderr",
     "output_type": "stream",
     "text": [
      "MAE/CA 19603.304968: : 860it [00:28, 29.89it/s]\n",
      "MAE/CA 19609.996479: : 860it [00:28, 30.11it/s]\n",
      "MAE/CA 19617.407510: : 3it [00:00, 29.53it/s]"
     ]
    },
    {
     "name": "stdout",
     "output_type": "stream",
     "text": [
      "Epoch   148: reducing learning rate of group 0 to 1.7941e-04.\n"
     ]
    },
    {
     "name": "stderr",
     "output_type": "stream",
     "text": [
      "MAE/CA 19600.455852: : 860it [00:28, 30.00it/s]\n",
      "MAE/CA 19601.842384: : 860it [00:28, 29.88it/s]\n",
      "MAE/CA 20285.169498: : 3it [00:00, 28.09it/s]"
     ]
    },
    {
     "name": "stdout",
     "output_type": "stream",
     "text": [
      "Epoch   150: reducing learning rate of group 0 to 1.7223e-04.\n"
     ]
    },
    {
     "name": "stderr",
     "output_type": "stream",
     "text": [
      "MAE/CA 19610.244774: : 860it [00:28, 30.11it/s]\n",
      "MAE/CA 19625.824661: : 860it [00:28, 29.73it/s]\n",
      "MAE/CA 19444.725805: : 3it [00:00, 29.51it/s]"
     ]
    },
    {
     "name": "stdout",
     "output_type": "stream",
     "text": [
      "Epoch   152: reducing learning rate of group 0 to 1.6534e-04.\n"
     ]
    },
    {
     "name": "stderr",
     "output_type": "stream",
     "text": [
      "MAE/CA 19631.570118: : 860it [00:28, 29.75it/s]\n",
      "MAE/CA 19605.768075: : 860it [00:28, 29.80it/s]\n",
      "MAE/CA 20417.098408: : 3it [00:00, 29.07it/s]"
     ]
    },
    {
     "name": "stdout",
     "output_type": "stream",
     "text": [
      "Epoch   154: reducing learning rate of group 0 to 1.5873e-04.\n"
     ]
    },
    {
     "name": "stderr",
     "output_type": "stream",
     "text": [
      "MAE/CA 19612.172751: : 860it [00:28, 30.14it/s]\n",
      "MAE/CA 19610.907811: : 860it [00:28, 29.82it/s]\n",
      "MAE/CA 19802.906835: : 3it [00:00, 29.76it/s]"
     ]
    },
    {
     "name": "stdout",
     "output_type": "stream",
     "text": [
      "Epoch   156: reducing learning rate of group 0 to 1.5238e-04.\n"
     ]
    },
    {
     "name": "stderr",
     "output_type": "stream",
     "text": [
      "MAE/CA 19577.697109: : 860it [00:28, 30.20it/s]\n",
      "MAE/CA 19615.540728: : 860it [00:27, 31.28it/s]\n",
      "MAE/CA 19561.872615: : 4it [00:00, 31.15it/s]"
     ]
    },
    {
     "name": "stdout",
     "output_type": "stream",
     "text": [
      "Epoch   158: reducing learning rate of group 0 to 1.4628e-04.\n"
     ]
    },
    {
     "name": "stderr",
     "output_type": "stream",
     "text": [
      "MAE/CA 19605.935969: : 860it [00:27, 31.22it/s]\n",
      "MAE/CA 19610.075198: : 860it [00:28, 30.03it/s]\n",
      "MAE/CA 18836.386511: : 3it [00:00, 28.13it/s]"
     ]
    },
    {
     "name": "stdout",
     "output_type": "stream",
     "text": [
      "Epoch   160: reducing learning rate of group 0 to 1.4043e-04.\n"
     ]
    },
    {
     "name": "stderr",
     "output_type": "stream",
     "text": [
      "MAE/CA 19593.923206: : 860it [00:28, 29.72it/s]\n",
      "MAE/CA 19600.694827: : 860it [00:28, 30.22it/s]\n",
      "MAE/CA 20058.115405: : 3it [00:00, 24.52it/s]"
     ]
    },
    {
     "name": "stdout",
     "output_type": "stream",
     "text": [
      "Epoch   162: reducing learning rate of group 0 to 1.3481e-04.\n"
     ]
    },
    {
     "name": "stderr",
     "output_type": "stream",
     "text": [
      "MAE/CA 19594.664123: : 860it [00:27, 30.88it/s]\n",
      "MAE/CA 19599.926771: : 860it [00:28, 30.43it/s]\n",
      "MAE/CA 18471.478413: : 3it [00:00, 24.74it/s]"
     ]
    },
    {
     "name": "stdout",
     "output_type": "stream",
     "text": [
      "Epoch   164: reducing learning rate of group 0 to 1.2942e-04.\n"
     ]
    },
    {
     "name": "stderr",
     "output_type": "stream",
     "text": [
      "MAE/CA 19607.132831: : 860it [00:28, 30.36it/s]\n",
      "MAE/CA 19609.883221: : 860it [00:27, 30.95it/s]\n",
      "MAE/CA 19879.502644: : 4it [00:00, 31.38it/s]"
     ]
    },
    {
     "name": "stdout",
     "output_type": "stream",
     "text": [
      "Epoch   166: reducing learning rate of group 0 to 1.2424e-04.\n"
     ]
    },
    {
     "name": "stderr",
     "output_type": "stream",
     "text": [
      "MAE/CA 19588.601886: : 860it [00:28, 30.51it/s]\n",
      "MAE/CA 19597.704509: : 860it [00:28, 30.19it/s]\n",
      "MAE/CA 19453.701285: : 4it [00:00, 31.17it/s]"
     ]
    },
    {
     "name": "stdout",
     "output_type": "stream",
     "text": [
      "Epoch   168: reducing learning rate of group 0 to 1.1927e-04.\n"
     ]
    },
    {
     "name": "stderr",
     "output_type": "stream",
     "text": [
      "MAE/CA 19607.620092: : 860it [00:28, 29.89it/s]\n",
      "MAE/CA 19598.090096: : 860it [00:28, 29.95it/s]\n",
      "MAE/CA 19053.581297: : 3it [00:00, 28.74it/s]"
     ]
    },
    {
     "name": "stdout",
     "output_type": "stream",
     "text": [
      "Epoch   170: reducing learning rate of group 0 to 1.1450e-04.\n"
     ]
    },
    {
     "name": "stderr",
     "output_type": "stream",
     "text": [
      "MAE/CA 19605.989841: : 860it [00:28, 29.79it/s]\n",
      "MAE/CA 19588.163450: : 860it [00:28, 29.88it/s]\n",
      "MAE/CA 19949.110306: : 3it [00:00, 27.42it/s]"
     ]
    },
    {
     "name": "stdout",
     "output_type": "stream",
     "text": [
      "Epoch   172: reducing learning rate of group 0 to 1.0992e-04.\n"
     ]
    },
    {
     "name": "stderr",
     "output_type": "stream",
     "text": [
      "MAE/CA 19603.735634: : 860it [00:28, 30.50it/s]\n",
      "MAE/CA 19602.535672: : 860it [00:29, 29.51it/s]\n",
      "MAE/CA 20200.929390: : 3it [00:00, 27.84it/s]"
     ]
    },
    {
     "name": "stdout",
     "output_type": "stream",
     "text": [
      "Epoch   174: reducing learning rate of group 0 to 1.0553e-04.\n"
     ]
    },
    {
     "name": "stderr",
     "output_type": "stream",
     "text": [
      "MAE/CA 19571.207621: : 860it [00:28, 29.76it/s]\n",
      "MAE/CA 19607.302170: : 860it [00:28, 30.38it/s]\n",
      "MAE/CA 18914.913444: : 3it [00:00, 28.53it/s]"
     ]
    },
    {
     "name": "stdout",
     "output_type": "stream",
     "text": [
      "Epoch   176: reducing learning rate of group 0 to 1.0131e-04.\n"
     ]
    },
    {
     "name": "stderr",
     "output_type": "stream",
     "text": [
      "MAE/CA 19604.521898: : 860it [00:28, 29.72it/s]\n",
      "MAE/CA 19585.682131: : 860it [00:27, 30.82it/s]\n",
      "MAE/CA 18558.547619: : 3it [00:00, 29.49it/s]"
     ]
    },
    {
     "name": "stdout",
     "output_type": "stream",
     "text": [
      "Epoch   178: reducing learning rate of group 0 to 9.7253e-05.\n"
     ]
    },
    {
     "name": "stderr",
     "output_type": "stream",
     "text": [
      "MAE/CA 19608.359605: : 860it [00:28, 29.86it/s]\n",
      "MAE/CA 19596.635588: : 860it [00:28, 29.94it/s]\n",
      "MAE/CA 20251.085621: : 3it [00:00, 28.98it/s]"
     ]
    },
    {
     "name": "stdout",
     "output_type": "stream",
     "text": [
      "Epoch   180: reducing learning rate of group 0 to 9.3363e-05.\n"
     ]
    },
    {
     "name": "stderr",
     "output_type": "stream",
     "text": [
      "MAE/CA 19604.869141: : 860it [00:28, 30.11it/s]\n",
      "MAE/CA 19590.551730: : 860it [00:28, 30.41it/s]\n",
      "MAE/CA 19856.601922: : 3it [00:00, 29.90it/s]"
     ]
    },
    {
     "name": "stdout",
     "output_type": "stream",
     "text": [
      "Epoch   182: reducing learning rate of group 0 to 8.9629e-05.\n"
     ]
    },
    {
     "name": "stderr",
     "output_type": "stream",
     "text": [
      "MAE/CA 19601.257554: : 860it [00:28, 29.66it/s]\n",
      "MAE/CA 19603.138732: : 860it [00:28, 29.96it/s]\n",
      "MAE/CA 18822.767864: : 3it [00:00, 29.00it/s]"
     ]
    },
    {
     "name": "stdout",
     "output_type": "stream",
     "text": [
      "Epoch   184: reducing learning rate of group 0 to 8.6044e-05.\n"
     ]
    },
    {
     "name": "stderr",
     "output_type": "stream",
     "text": [
      "MAE/CA 19590.722438: : 860it [00:28, 29.74it/s]\n",
      "MAE/CA 19592.512584: : 860it [00:28, 30.03it/s]\n",
      "MAE/CA 20773.262911: : 3it [00:00, 27.61it/s]"
     ]
    },
    {
     "name": "stdout",
     "output_type": "stream",
     "text": [
      "Epoch   186: reducing learning rate of group 0 to 8.2602e-05.\n"
     ]
    },
    {
     "name": "stderr",
     "output_type": "stream",
     "text": [
      "MAE/CA 19596.191684: : 860it [00:28, 29.89it/s]\n",
      "MAE/CA 19609.299018: : 860it [00:28, 29.83it/s]\n",
      "MAE/CA 19280.421531: : 3it [00:00, 29.79it/s]"
     ]
    },
    {
     "name": "stdout",
     "output_type": "stream",
     "text": [
      "Epoch   188: reducing learning rate of group 0 to 7.9298e-05.\n"
     ]
    },
    {
     "name": "stderr",
     "output_type": "stream",
     "text": [
      "MAE/CA 19593.824299: : 860it [00:28, 29.87it/s]\n",
      "MAE/CA 19572.635323: : 860it [00:28, 29.80it/s]\n",
      "MAE/CA 19625.947606: : 3it [00:00, 27.51it/s]"
     ]
    },
    {
     "name": "stdout",
     "output_type": "stream",
     "text": [
      "Epoch   190: reducing learning rate of group 0 to 7.6126e-05.\n"
     ]
    },
    {
     "name": "stderr",
     "output_type": "stream",
     "text": [
      "MAE/CA 19598.669384: : 860it [00:28, 29.84it/s]\n",
      "MAE/CA 19596.730310: : 860it [00:29, 29.63it/s]\n",
      "MAE/CA 19079.957711: : 3it [00:00, 27.85it/s]"
     ]
    },
    {
     "name": "stdout",
     "output_type": "stream",
     "text": [
      "Epoch   192: reducing learning rate of group 0 to 7.3081e-05.\n"
     ]
    },
    {
     "name": "stderr",
     "output_type": "stream",
     "text": [
      "MAE/CA 19598.478635: : 860it [00:28, 29.81it/s]\n",
      "MAE/CA 19599.746856: : 860it [00:28, 29.97it/s]\n",
      "MAE/CA 19438.297715: : 3it [00:00, 28.93it/s]"
     ]
    },
    {
     "name": "stdout",
     "output_type": "stream",
     "text": [
      "Epoch   194: reducing learning rate of group 0 to 7.0158e-05.\n"
     ]
    },
    {
     "name": "stderr",
     "output_type": "stream",
     "text": [
      "MAE/CA 19587.492424: : 860it [00:28, 29.72it/s]\n",
      "MAE/CA 19592.550258: : 860it [00:28, 29.66it/s]\n",
      "MAE/CA 20319.030762: : 3it [00:00, 28.88it/s]"
     ]
    },
    {
     "name": "stdout",
     "output_type": "stream",
     "text": [
      "Epoch   196: reducing learning rate of group 0 to 6.7351e-05.\n"
     ]
    },
    {
     "name": "stderr",
     "output_type": "stream",
     "text": [
      "MAE/CA 19594.325289: : 860it [00:28, 30.63it/s]\n",
      "MAE/CA 19588.491386: : 860it [00:28, 30.09it/s]\n",
      "MAE/CA 19227.339161: : 3it [00:00, 29.59it/s]"
     ]
    },
    {
     "name": "stdout",
     "output_type": "stream",
     "text": [
      "Epoch   198: reducing learning rate of group 0 to 6.4657e-05.\n"
     ]
    },
    {
     "name": "stderr",
     "output_type": "stream",
     "text": [
      "MAE/CA 19595.424600: : 860it [00:28, 29.97it/s]\n",
      "MAE/CA 19575.002623: : 860it [00:28, 29.90it/s]\n",
      "MAE/CA 18654.580476: : 3it [00:00, 26.37it/s]"
     ]
    },
    {
     "name": "stdout",
     "output_type": "stream",
     "text": [
      "Epoch   200: reducing learning rate of group 0 to 6.2071e-05.\n"
     ]
    },
    {
     "name": "stderr",
     "output_type": "stream",
     "text": [
      "MAE/CA 19583.780812: : 860it [00:27, 30.98it/s]\n",
      "MAE/CA 19586.701077: : 860it [00:29, 29.57it/s]\n",
      "MAE/CA 19874.867710: : 3it [00:00, 28.08it/s]"
     ]
    },
    {
     "name": "stdout",
     "output_type": "stream",
     "text": [
      "Epoch   202: reducing learning rate of group 0 to 5.9588e-05.\n"
     ]
    },
    {
     "name": "stderr",
     "output_type": "stream",
     "text": [
      "MAE/CA 19584.392634: : 860it [00:29, 29.64it/s]\n",
      "MAE/CA 19585.731096: : 860it [00:27, 30.91it/s]\n",
      "MAE/CA 19676.165913: : 3it [00:00, 29.61it/s]"
     ]
    },
    {
     "name": "stdout",
     "output_type": "stream",
     "text": [
      "Epoch   204: reducing learning rate of group 0 to 5.7205e-05.\n"
     ]
    },
    {
     "name": "stderr",
     "output_type": "stream",
     "text": [
      "MAE/CA 19588.191211: : 860it [00:28, 29.93it/s]\n",
      "MAE/CA 19593.505023: : 860it [00:28, 30.18it/s]\n",
      "MAE/CA 18554.513195: : 3it [00:00, 27.10it/s]"
     ]
    },
    {
     "name": "stdout",
     "output_type": "stream",
     "text": [
      "Epoch   206: reducing learning rate of group 0 to 5.4916e-05.\n"
     ]
    },
    {
     "name": "stderr",
     "output_type": "stream",
     "text": [
      "MAE/CA 19602.143545: : 860it [00:28, 29.74it/s]\n",
      "MAE/CA 19586.547954: : 860it [00:28, 30.08it/s]\n",
      "MAE/CA 18912.264802: : 3it [00:00, 29.19it/s]"
     ]
    },
    {
     "name": "stdout",
     "output_type": "stream",
     "text": [
      "Epoch   208: reducing learning rate of group 0 to 5.2720e-05.\n"
     ]
    },
    {
     "name": "stderr",
     "output_type": "stream",
     "text": [
      "MAE/CA 19597.048001: : 860it [00:28, 29.98it/s]\n",
      "MAE/CA 19594.031633: : 860it [00:28, 29.71it/s]\n",
      "MAE/CA 19933.868408: : 3it [00:00, 28.54it/s]"
     ]
    },
    {
     "name": "stdout",
     "output_type": "stream",
     "text": [
      "Epoch   210: reducing learning rate of group 0 to 5.0611e-05.\n"
     ]
    },
    {
     "name": "stderr",
     "output_type": "stream",
     "text": [
      "MAE/CA 19584.639826: : 860it [00:28, 30.19it/s]\n",
      "MAE/CA 19581.759799: : 860it [00:28, 30.09it/s]\n",
      "MAE/CA 20298.291583: : 3it [00:00, 29.56it/s]"
     ]
    },
    {
     "name": "stdout",
     "output_type": "stream",
     "text": [
      "Epoch   212: reducing learning rate of group 0 to 4.8587e-05.\n"
     ]
    },
    {
     "name": "stderr",
     "output_type": "stream",
     "text": [
      "MAE/CA 19602.156913: : 860it [00:28, 30.01it/s]\n",
      "MAE/CA 19589.037497: : 860it [00:28, 30.09it/s]\n",
      "MAE/CA 19575.106125: : 3it [00:00, 28.54it/s]"
     ]
    },
    {
     "name": "stdout",
     "output_type": "stream",
     "text": [
      "Epoch   214: reducing learning rate of group 0 to 4.6643e-05.\n"
     ]
    },
    {
     "name": "stderr",
     "output_type": "stream",
     "text": [
      "MAE/CA 19578.486986: : 860it [00:28, 30.02it/s]\n",
      "MAE/CA 19594.016021: : 860it [00:28, 29.98it/s]\n",
      "MAE/CA 19291.234500: : 3it [00:00, 26.09it/s]"
     ]
    },
    {
     "name": "stdout",
     "output_type": "stream",
     "text": [
      "Epoch   216: reducing learning rate of group 0 to 4.4777e-05.\n"
     ]
    },
    {
     "name": "stderr",
     "output_type": "stream",
     "text": [
      "MAE/CA 19585.907179: : 860it [00:28, 29.76it/s]\n",
      "MAE/CA 19589.007717: : 860it [00:28, 30.13it/s]\n",
      "MAE/CA 20904.753361: : 3it [00:00, 27.38it/s]"
     ]
    },
    {
     "name": "stdout",
     "output_type": "stream",
     "text": [
      "Epoch   218: reducing learning rate of group 0 to 4.2986e-05.\n"
     ]
    },
    {
     "name": "stderr",
     "output_type": "stream",
     "text": [
      "MAE/CA 19579.725347: : 860it [00:28, 29.90it/s]\n",
      "MAE/CA 19585.079935: : 860it [00:28, 29.68it/s]\n",
      "MAE/CA 19561.395926: : 3it [00:00, 29.54it/s]"
     ]
    },
    {
     "name": "stdout",
     "output_type": "stream",
     "text": [
      "Epoch   220: reducing learning rate of group 0 to 4.1267e-05.\n"
     ]
    },
    {
     "name": "stderr",
     "output_type": "stream",
     "text": [
      "MAE/CA 19584.106358: : 860it [00:28, 29.83it/s]\n",
      "MAE/CA 19588.203213: : 860it [00:27, 30.73it/s]\n",
      "MAE/CA 20444.609649: : 3it [00:00, 29.99it/s]"
     ]
    },
    {
     "name": "stdout",
     "output_type": "stream",
     "text": [
      "Epoch   222: reducing learning rate of group 0 to 3.9616e-05.\n"
     ]
    },
    {
     "name": "stderr",
     "output_type": "stream",
     "text": [
      "MAE/CA 19600.508109: : 860it [00:28, 30.00it/s]\n",
      "MAE/CA 19592.397977: : 860it [00:28, 30.36it/s]\n",
      "MAE/CA 20231.534736: : 4it [00:00, 31.11it/s]"
     ]
    },
    {
     "name": "stdout",
     "output_type": "stream",
     "text": [
      "Epoch   224: reducing learning rate of group 0 to 3.8031e-05.\n"
     ]
    },
    {
     "name": "stderr",
     "output_type": "stream",
     "text": [
      "MAE/CA 19583.892494: : 860it [00:28, 30.24it/s]\n",
      "MAE/CA 19577.465063: : 860it [00:28, 29.97it/s]\n",
      "MAE/CA 19365.253064: : 3it [00:00, 29.22it/s]"
     ]
    },
    {
     "name": "stdout",
     "output_type": "stream",
     "text": [
      "Epoch   226: reducing learning rate of group 0 to 3.6510e-05.\n"
     ]
    },
    {
     "name": "stderr",
     "output_type": "stream",
     "text": [
      "MAE/CA 19593.710436: : 860it [00:29, 29.65it/s]\n",
      "MAE/CA 19590.160291: : 860it [00:28, 29.85it/s]\n",
      "MAE/CA 19546.089586: : 4it [00:00, 30.64it/s]"
     ]
    },
    {
     "name": "stdout",
     "output_type": "stream",
     "text": [
      "Epoch   228: reducing learning rate of group 0 to 3.5050e-05.\n"
     ]
    },
    {
     "name": "stderr",
     "output_type": "stream",
     "text": [
      "MAE/CA 19574.142667: : 860it [00:28, 29.95it/s]\n",
      "MAE/CA 19588.559815: : 860it [00:28, 30.71it/s]\n",
      "MAE/CA 19880.935787: : 4it [00:00, 30.58it/s]"
     ]
    },
    {
     "name": "stdout",
     "output_type": "stream",
     "text": [
      "Epoch   230: reducing learning rate of group 0 to 3.3648e-05.\n"
     ]
    },
    {
     "name": "stderr",
     "output_type": "stream",
     "text": [
      "MAE/CA 19590.935796: : 860it [00:29, 29.61it/s]\n",
      "MAE/CA 19586.534524: : 860it [00:28, 29.96it/s]\n",
      "MAE/CA 21238.506938: : 3it [00:00, 29.07it/s]"
     ]
    },
    {
     "name": "stdout",
     "output_type": "stream",
     "text": [
      "Epoch   232: reducing learning rate of group 0 to 3.2302e-05.\n"
     ]
    },
    {
     "name": "stderr",
     "output_type": "stream",
     "text": [
      "MAE/CA 19590.315573: : 860it [00:28, 30.08it/s]\n",
      "MAE/CA 19591.497200: : 860it [00:28, 29.75it/s]\n",
      "MAE/CA 19685.964658: : 3it [00:00, 29.39it/s]"
     ]
    },
    {
     "name": "stdout",
     "output_type": "stream",
     "text": [
      "Epoch   234: reducing learning rate of group 0 to 3.1010e-05.\n"
     ]
    },
    {
     "name": "stderr",
     "output_type": "stream",
     "text": [
      "MAE/CA 19594.512882: : 860it [00:28, 30.02it/s]\n",
      "MAE/CA 19587.388701: : 860it [00:28, 30.04it/s]\n",
      "MAE/CA 19529.493228: : 3it [00:00, 29.07it/s]"
     ]
    },
    {
     "name": "stdout",
     "output_type": "stream",
     "text": [
      "Epoch   236: reducing learning rate of group 0 to 2.9769e-05.\n"
     ]
    },
    {
     "name": "stderr",
     "output_type": "stream",
     "text": [
      "MAE/CA 19597.043053: : 860it [00:28, 29.91it/s]\n",
      "MAE/CA 19581.825285: : 860it [00:28, 29.86it/s]\n",
      "MAE/CA 19557.770485: : 3it [00:00, 29.73it/s]"
     ]
    },
    {
     "name": "stdout",
     "output_type": "stream",
     "text": [
      "Epoch   238: reducing learning rate of group 0 to 2.8579e-05.\n"
     ]
    },
    {
     "name": "stderr",
     "output_type": "stream",
     "text": [
      "MAE/CA 19577.387358: : 860it [00:28, 30.31it/s]\n",
      "MAE/CA 19589.750208: : 860it [00:29, 29.65it/s]\n",
      "MAE/CA 19651.181953: : 3it [00:00, 28.29it/s]"
     ]
    },
    {
     "name": "stdout",
     "output_type": "stream",
     "text": [
      "Epoch   240: reducing learning rate of group 0 to 2.7436e-05.\n"
     ]
    },
    {
     "name": "stderr",
     "output_type": "stream",
     "text": [
      "MAE/CA 19578.485542: : 860it [00:28, 29.79it/s]\n",
      "MAE/CA 19594.099011: : 860it [00:28, 30.07it/s]\n",
      "MAE/CA 19149.035645: : 3it [00:00, 29.87it/s]"
     ]
    },
    {
     "name": "stdout",
     "output_type": "stream",
     "text": [
      "Epoch   242: reducing learning rate of group 0 to 2.6338e-05.\n"
     ]
    },
    {
     "name": "stderr",
     "output_type": "stream",
     "text": [
      "MAE/CA 19583.710922: : 860it [00:28, 30.22it/s]\n",
      "MAE/CA 19583.739794: : 860it [00:28, 30.20it/s]\n",
      "MAE/CA 18686.835474: : 3it [00:00, 29.73it/s]"
     ]
    },
    {
     "name": "stdout",
     "output_type": "stream",
     "text": [
      "Epoch   244: reducing learning rate of group 0 to 2.5285e-05.\n"
     ]
    },
    {
     "name": "stderr",
     "output_type": "stream",
     "text": [
      "MAE/CA 19588.067870: : 860it [00:28, 30.18it/s]\n",
      "MAE/CA 19578.459182: : 860it [00:28, 30.58it/s]\n",
      "MAE/CA 19175.255117: : 3it [00:00, 28.15it/s]"
     ]
    },
    {
     "name": "stdout",
     "output_type": "stream",
     "text": [
      "Epoch   246: reducing learning rate of group 0 to 2.4273e-05.\n"
     ]
    },
    {
     "name": "stderr",
     "output_type": "stream",
     "text": [
      "MAE/CA 19584.354621: : 860it [00:28, 29.84it/s]\n",
      "MAE/CA 19571.918651: : 860it [00:27, 31.33it/s]\n",
      "MAE/CA 20228.724517: : 3it [00:00, 29.79it/s]"
     ]
    },
    {
     "name": "stdout",
     "output_type": "stream",
     "text": [
      "Epoch   248: reducing learning rate of group 0 to 2.3302e-05.\n"
     ]
    },
    {
     "name": "stderr",
     "output_type": "stream",
     "text": [
      "MAE/CA 19584.833734: : 860it [00:28, 30.30it/s]\n",
      "MAE/CA 19591.414717: : 860it [00:28, 29.73it/s]\n",
      "MAE/CA 20464.334177: : 3it [00:00, 29.05it/s]"
     ]
    },
    {
     "name": "stdout",
     "output_type": "stream",
     "text": [
      "Epoch   250: reducing learning rate of group 0 to 2.2370e-05.\n"
     ]
    },
    {
     "name": "stderr",
     "output_type": "stream",
     "text": [
      "MAE/CA 19583.599857: : 860it [00:28, 30.17it/s]\n",
      "MAE/CA 19595.448210: : 860it [00:29, 29.63it/s]\n",
      "MAE/CA 19295.522764: : 3it [00:00, 28.91it/s]"
     ]
    },
    {
     "name": "stdout",
     "output_type": "stream",
     "text": [
      "Epoch   252: reducing learning rate of group 0 to 2.1475e-05.\n"
     ]
    },
    {
     "name": "stderr",
     "output_type": "stream",
     "text": [
      "MAE/CA 19585.922248: : 860it [00:28, 29.96it/s]\n",
      "MAE/CA 19590.675356: : 860it [00:28, 29.82it/s]\n",
      "MAE/CA 19498.133696: : 4it [00:00, 31.60it/s]"
     ]
    },
    {
     "name": "stdout",
     "output_type": "stream",
     "text": [
      "Epoch   254: reducing learning rate of group 0 to 2.0616e-05.\n"
     ]
    },
    {
     "name": "stderr",
     "output_type": "stream",
     "text": [
      "MAE/CA 19588.247456: : 860it [00:28, 30.32it/s]\n",
      "MAE/CA 19585.469881: : 860it [00:28, 30.08it/s]\n",
      "MAE/CA 18526.371209: : 3it [00:00, 28.85it/s]"
     ]
    },
    {
     "name": "stdout",
     "output_type": "stream",
     "text": [
      "Epoch   256: reducing learning rate of group 0 to 1.9792e-05.\n"
     ]
    },
    {
     "name": "stderr",
     "output_type": "stream",
     "text": [
      "MAE/CA 19583.234304: : 860it [00:28, 29.81it/s]\n",
      "MAE/CA 19584.922110: : 860it [00:28, 29.69it/s]\n",
      "MAE/CA 19803.913678: : 3it [00:00, 28.26it/s]"
     ]
    },
    {
     "name": "stdout",
     "output_type": "stream",
     "text": [
      "Epoch   258: reducing learning rate of group 0 to 1.9000e-05.\n"
     ]
    },
    {
     "name": "stderr",
     "output_type": "stream",
     "text": [
      "MAE/CA 19595.275460: : 860it [00:29, 29.63it/s]\n",
      "MAE/CA 19590.869471: : 860it [00:28, 30.60it/s]\n",
      "MAE/CA 20282.084857: : 4it [00:00, 31.89it/s]"
     ]
    },
    {
     "name": "stdout",
     "output_type": "stream",
     "text": [
      "Epoch   260: reducing learning rate of group 0 to 1.8240e-05.\n"
     ]
    },
    {
     "name": "stderr",
     "output_type": "stream",
     "text": [
      "MAE/CA 19579.394447: : 860it [00:28, 29.98it/s]\n",
      "MAE/CA 19594.534062: : 860it [00:28, 29.83it/s]\n",
      "MAE/CA 19513.546493: : 3it [00:00, 27.99it/s]"
     ]
    },
    {
     "name": "stdout",
     "output_type": "stream",
     "text": [
      "Epoch   262: reducing learning rate of group 0 to 1.7510e-05.\n"
     ]
    },
    {
     "name": "stderr",
     "output_type": "stream",
     "text": [
      "MAE/CA 19585.364649: : 860it [00:28, 30.00it/s]\n",
      "MAE/CA 19585.550744: : 860it [00:27, 30.74it/s]\n",
      "MAE/CA 18993.376266: : 4it [00:00, 32.04it/s]"
     ]
    },
    {
     "name": "stdout",
     "output_type": "stream",
     "text": [
      "Epoch   264: reducing learning rate of group 0 to 1.6810e-05.\n"
     ]
    },
    {
     "name": "stderr",
     "output_type": "stream",
     "text": [
      "MAE/CA 19588.138844: : 860it [00:28, 29.72it/s]\n",
      "MAE/CA 19584.239227: : 860it [00:28, 30.52it/s]\n",
      "MAE/CA 20462.608870: : 3it [00:00, 29.99it/s]"
     ]
    },
    {
     "name": "stdout",
     "output_type": "stream",
     "text": [
      "Epoch   266: reducing learning rate of group 0 to 1.6138e-05.\n"
     ]
    },
    {
     "name": "stderr",
     "output_type": "stream",
     "text": [
      "MAE/CA 19579.976417: : 860it [00:28, 30.39it/s]\n",
      "MAE/CA 19584.710022: : 860it [00:28, 30.26it/s]\n",
      "MAE/CA 20331.173446: : 3it [00:00, 28.58it/s]"
     ]
    },
    {
     "name": "stdout",
     "output_type": "stream",
     "text": [
      "Epoch   268: reducing learning rate of group 0 to 1.5492e-05.\n"
     ]
    },
    {
     "name": "stderr",
     "output_type": "stream",
     "text": [
      "MAE/CA 19587.651612: : 860it [00:28, 30.15it/s]\n",
      "MAE/CA 19576.202921: : 860it [00:28, 29.77it/s]\n",
      "MAE/CA 18881.677246: : 3it [00:00, 27.84it/s]"
     ]
    },
    {
     "name": "stdout",
     "output_type": "stream",
     "text": [
      "Epoch   270: reducing learning rate of group 0 to 1.4872e-05.\n"
     ]
    },
    {
     "name": "stderr",
     "output_type": "stream",
     "text": [
      "MAE/CA 19586.668230: : 860it [00:28, 30.05it/s]\n",
      "MAE/CA 19587.340937: : 860it [00:28, 29.74it/s]\n",
      "MAE/CA 20496.261005: : 3it [00:00, 28.82it/s]"
     ]
    },
    {
     "name": "stdout",
     "output_type": "stream",
     "text": [
      "Epoch   272: reducing learning rate of group 0 to 1.4278e-05.\n"
     ]
    },
    {
     "name": "stderr",
     "output_type": "stream",
     "text": [
      "MAE/CA 19584.663210: : 860it [00:28, 29.95it/s]\n",
      "MAE/CA 19586.666065: : 860it [00:28, 29.96it/s]\n",
      "MAE/CA 19292.349645: : 3it [00:00, 28.61it/s]"
     ]
    },
    {
     "name": "stdout",
     "output_type": "stream",
     "text": [
      "Epoch   274: reducing learning rate of group 0 to 1.3706e-05.\n"
     ]
    },
    {
     "name": "stderr",
     "output_type": "stream",
     "text": [
      "MAE/CA 19584.145914: : 860it [00:28, 29.93it/s]\n",
      "MAE/CA 19590.773420: : 860it [00:28, 30.04it/s]\n",
      "MAE/CA 19384.606650: : 3it [00:00, 28.73it/s]"
     ]
    },
    {
     "name": "stdout",
     "output_type": "stream",
     "text": [
      "Epoch   276: reducing learning rate of group 0 to 1.3158e-05.\n"
     ]
    },
    {
     "name": "stderr",
     "output_type": "stream",
     "text": [
      "MAE/CA 19582.753795: : 860it [00:29, 29.63it/s]\n",
      "MAE/CA 19583.701113: : 860it [00:28, 29.90it/s]\n",
      "MAE/CA 18921.123179: : 3it [00:00, 29.12it/s]"
     ]
    },
    {
     "name": "stdout",
     "output_type": "stream",
     "text": [
      "Epoch   278: reducing learning rate of group 0 to 1.2632e-05.\n"
     ]
    },
    {
     "name": "stderr",
     "output_type": "stream",
     "text": [
      "MAE/CA 19584.896593: : 860it [00:28, 29.85it/s]\n",
      "MAE/CA 19579.349517: : 860it [00:28, 29.87it/s]\n",
      "MAE/CA 19063.721176: : 3it [00:00, 29.05it/s]"
     ]
    },
    {
     "name": "stdout",
     "output_type": "stream",
     "text": [
      "Epoch   280: reducing learning rate of group 0 to 1.2127e-05.\n"
     ]
    },
    {
     "name": "stderr",
     "output_type": "stream",
     "text": [
      "MAE/CA 19583.903319: : 860it [00:28, 30.14it/s]\n",
      "MAE/CA 19582.513636: : 860it [00:28, 29.87it/s]\n",
      "MAE/CA 18315.353748: : 3it [00:00, 27.78it/s]"
     ]
    },
    {
     "name": "stdout",
     "output_type": "stream",
     "text": [
      "Epoch   282: reducing learning rate of group 0 to 1.1642e-05.\n"
     ]
    },
    {
     "name": "stderr",
     "output_type": "stream",
     "text": [
      "MAE/CA 19581.629573: : 860it [00:28, 30.28it/s]\n",
      "MAE/CA 19585.818366: : 860it [00:28, 29.68it/s]\n",
      "MAE/CA 20529.988607: : 3it [00:00, 28.99it/s]"
     ]
    },
    {
     "name": "stdout",
     "output_type": "stream",
     "text": [
      "Epoch   284: reducing learning rate of group 0 to 1.1176e-05.\n"
     ]
    },
    {
     "name": "stderr",
     "output_type": "stream",
     "text": [
      "MAE/CA 19584.184634: : 860it [00:28, 30.23it/s]\n",
      "MAE/CA 19580.263191: : 860it [00:28, 30.06it/s]\n",
      "MAE/CA 19397.116254: : 3it [00:00, 29.41it/s]"
     ]
    },
    {
     "name": "stdout",
     "output_type": "stream",
     "text": [
      "Epoch   286: reducing learning rate of group 0 to 1.0729e-05.\n"
     ]
    },
    {
     "name": "stderr",
     "output_type": "stream",
     "text": [
      "MAE/CA 19582.258085: : 860it [00:28, 29.99it/s]\n",
      "MAE/CA 19581.689425: : 860it [00:27, 31.75it/s]\n",
      "MAE/CA 19578.874218: : 4it [00:00, 31.73it/s]"
     ]
    },
    {
     "name": "stdout",
     "output_type": "stream",
     "text": [
      "Epoch   288: reducing learning rate of group 0 to 1.0300e-05.\n"
     ]
    },
    {
     "name": "stderr",
     "output_type": "stream",
     "text": [
      "MAE/CA 19583.337411: : 860it [00:28, 30.49it/s]\n",
      "MAE/CA 19584.940940: : 860it [00:28, 30.61it/s]\n",
      "MAE/CA 19778.674222: : 3it [00:00, 29.21it/s]"
     ]
    },
    {
     "name": "stdout",
     "output_type": "stream",
     "text": [
      "Epoch   290: reducing learning rate of group 0 to 9.8877e-06.\n"
     ]
    },
    {
     "name": "stderr",
     "output_type": "stream",
     "text": [
      "MAE/CA 19583.073444: : 860it [00:28, 30.49it/s]\n",
      "MAE/CA 19581.857397: : 860it [00:28, 29.82it/s]\n",
      "MAE/CA 19243.923217: : 3it [00:00, 29.13it/s]"
     ]
    },
    {
     "name": "stdout",
     "output_type": "stream",
     "text": [
      "Epoch   292: reducing learning rate of group 0 to 9.4922e-06.\n"
     ]
    },
    {
     "name": "stderr",
     "output_type": "stream",
     "text": [
      "MAE/CA 19579.998903: : 860it [00:28, 30.16it/s]\n",
      "MAE/CA 19582.634130: : 860it [00:28, 29.70it/s]\n",
      "MAE/CA 19119.872337: : 4it [00:00, 31.98it/s]"
     ]
    },
    {
     "name": "stdout",
     "output_type": "stream",
     "text": [
      "Epoch   294: reducing learning rate of group 0 to 9.1125e-06.\n"
     ]
    },
    {
     "name": "stderr",
     "output_type": "stream",
     "text": [
      "MAE/CA 19578.484229: : 860it [00:28, 30.11it/s]\n",
      "MAE/CA 19582.700329: : 860it [00:28, 30.28it/s]\n",
      "MAE/CA 19661.454312: : 4it [00:00, 31.75it/s]"
     ]
    },
    {
     "name": "stdout",
     "output_type": "stream",
     "text": [
      "Epoch   296: reducing learning rate of group 0 to 8.7480e-06.\n"
     ]
    },
    {
     "name": "stderr",
     "output_type": "stream",
     "text": [
      "MAE/CA 19581.380329: : 860it [00:28, 29.97it/s]\n",
      "MAE/CA 19583.474043: : 860it [00:28, 29.88it/s]\n",
      "MAE/CA 19370.095660: : 3it [00:00, 29.14it/s]"
     ]
    },
    {
     "name": "stdout",
     "output_type": "stream",
     "text": [
      "Epoch   298: reducing learning rate of group 0 to 8.3981e-06.\n"
     ]
    },
    {
     "name": "stderr",
     "output_type": "stream",
     "text": [
      "MAE/CA 19579.676372: : 860it [00:28, 29.87it/s]\n",
      "MAE/CA 19576.738170: : 860it [00:28, 30.30it/s]\n",
      "MAE/CA 20093.697765: : 3it [00:00, 26.72it/s]"
     ]
    },
    {
     "name": "stdout",
     "output_type": "stream",
     "text": [
      "Epoch   300: reducing learning rate of group 0 to 8.0621e-06.\n"
     ]
    },
    {
     "name": "stderr",
     "output_type": "stream",
     "text": [
      "MAE/CA 19579.429895: : 860it [00:28, 29.74it/s]\n",
      "MAE/CA 19584.390718: : 860it [00:28, 29.82it/s]\n",
      "MAE/CA 19992.070161: : 3it [00:00, 29.62it/s]"
     ]
    },
    {
     "name": "stdout",
     "output_type": "stream",
     "text": [
      "Epoch   302: reducing learning rate of group 0 to 7.7396e-06.\n"
     ]
    },
    {
     "name": "stderr",
     "output_type": "stream",
     "text": [
      "MAE/CA 19579.101445: : 860it [00:28, 30.63it/s]\n",
      "MAE/CA 19579.822886: : 860it [00:28, 30.23it/s]\n",
      "MAE/CA 20602.034316: : 3it [00:00, 28.54it/s]"
     ]
    },
    {
     "name": "stdout",
     "output_type": "stream",
     "text": [
      "Epoch   304: reducing learning rate of group 0 to 7.4301e-06.\n"
     ]
    },
    {
     "name": "stderr",
     "output_type": "stream",
     "text": [
      "MAE/CA 19577.618365: : 860it [00:27, 30.74it/s]\n",
      "MAE/CA 19579.879394: : 860it [00:28, 29.95it/s]\n",
      "MAE/CA 20454.137048: : 4it [00:00, 30.31it/s]"
     ]
    },
    {
     "name": "stdout",
     "output_type": "stream",
     "text": [
      "Epoch   306: reducing learning rate of group 0 to 7.1329e-06.\n"
     ]
    },
    {
     "name": "stderr",
     "output_type": "stream",
     "text": [
      "MAE/CA 19582.827604: : 860it [00:29, 29.55it/s]\n",
      "MAE/CA 19577.941370: : 860it [00:28, 29.81it/s]\n",
      "MAE/CA 20176.793298: : 3it [00:00, 28.78it/s]"
     ]
    },
    {
     "name": "stdout",
     "output_type": "stream",
     "text": [
      "Epoch   308: reducing learning rate of group 0 to 6.8475e-06.\n"
     ]
    },
    {
     "name": "stderr",
     "output_type": "stream",
     "text": [
      "MAE/CA 19586.577206: : 860it [00:28, 29.72it/s]\n",
      "MAE/CA 19580.345227: : 860it [00:28, 30.11it/s]\n",
      "MAE/CA 20344.709766: : 3it [00:00, 28.75it/s]"
     ]
    },
    {
     "name": "stdout",
     "output_type": "stream",
     "text": [
      "Epoch   310: reducing learning rate of group 0 to 6.5736e-06.\n"
     ]
    },
    {
     "name": "stderr",
     "output_type": "stream",
     "text": [
      "MAE/CA 19577.688623: : 860it [00:28, 29.93it/s]\n",
      "MAE/CA 19584.141152: : 860it [00:28, 30.05it/s]\n",
      "MAE/CA 20134.160478: : 3it [00:00, 28.39it/s]"
     ]
    },
    {
     "name": "stdout",
     "output_type": "stream",
     "text": [
      "Epoch   312: reducing learning rate of group 0 to 6.3107e-06.\n"
     ]
    },
    {
     "name": "stderr",
     "output_type": "stream",
     "text": [
      "MAE/CA 19585.192142: : 860it [00:28, 30.31it/s]\n",
      "MAE/CA 19581.539201: : 860it [00:28, 29.70it/s]\n",
      "MAE/CA 18844.675747: : 3it [00:00, 25.93it/s]"
     ]
    },
    {
     "name": "stdout",
     "output_type": "stream",
     "text": [
      "Epoch   314: reducing learning rate of group 0 to 6.0583e-06.\n"
     ]
    },
    {
     "name": "stderr",
     "output_type": "stream",
     "text": [
      "MAE/CA 19580.445577: : 860it [00:28, 30.20it/s]\n",
      "MAE/CA 19581.200086: : 860it [00:28, 30.31it/s]\n",
      "MAE/CA 20495.977925: : 3it [00:00, 28.09it/s]"
     ]
    },
    {
     "name": "stdout",
     "output_type": "stream",
     "text": [
      "Epoch   316: reducing learning rate of group 0 to 5.8159e-06.\n"
     ]
    },
    {
     "name": "stderr",
     "output_type": "stream",
     "text": [
      "MAE/CA 19581.735683: : 860it [00:28, 29.71it/s]\n",
      "MAE/CA 19579.610447: : 860it [00:28, 29.85it/s]\n",
      "MAE/CA 19271.867335: : 3it [00:00, 27.50it/s]"
     ]
    },
    {
     "name": "stdout",
     "output_type": "stream",
     "text": [
      "Epoch   318: reducing learning rate of group 0 to 5.5833e-06.\n"
     ]
    },
    {
     "name": "stderr",
     "output_type": "stream",
     "text": [
      "MAE/CA 19583.271308: : 860it [00:28, 29.72it/s]\n",
      "MAE/CA 19580.349725: : 860it [00:28, 29.99it/s]\n",
      "MAE/CA 20005.835955: : 3it [00:00, 27.84it/s]"
     ]
    },
    {
     "name": "stdout",
     "output_type": "stream",
     "text": [
      "Epoch   320: reducing learning rate of group 0 to 5.3600e-06.\n"
     ]
    },
    {
     "name": "stderr",
     "output_type": "stream",
     "text": [
      "MAE/CA 19576.290943: : 860it [00:28, 30.54it/s]\n",
      "MAE/CA 19580.578889: : 860it [00:28, 29.76it/s]\n",
      "MAE/CA 19267.439495: : 4it [00:00, 30.95it/s]"
     ]
    },
    {
     "name": "stdout",
     "output_type": "stream",
     "text": [
      "Epoch   322: reducing learning rate of group 0 to 5.1456e-06.\n"
     ]
    },
    {
     "name": "stderr",
     "output_type": "stream",
     "text": [
      "MAE/CA 19580.725116: : 860it [00:28, 30.24it/s]\n",
      "MAE/CA 19577.646052: : 860it [00:29, 29.54it/s]\n",
      "MAE/CA 19809.502653: : 3it [00:00, 27.93it/s]"
     ]
    },
    {
     "name": "stdout",
     "output_type": "stream",
     "text": [
      "Epoch   324: reducing learning rate of group 0 to 4.9397e-06.\n"
     ]
    },
    {
     "name": "stderr",
     "output_type": "stream",
     "text": [
      "MAE/CA 19583.318575: : 860it [00:28, 29.97it/s]\n",
      "MAE/CA 19578.041205: : 860it [00:28, 29.86it/s]\n",
      "MAE/CA 19173.184417: : 3it [00:00, 28.55it/s]"
     ]
    },
    {
     "name": "stdout",
     "output_type": "stream",
     "text": [
      "Epoch   326: reducing learning rate of group 0 to 4.7422e-06.\n"
     ]
    },
    {
     "name": "stderr",
     "output_type": "stream",
     "text": [
      "MAE/CA 19579.137987: : 860it [00:29, 29.60it/s]\n",
      "MAE/CA 19579.039717: : 860it [00:27, 30.82it/s]\n",
      "MAE/CA 19584.392222: : 4it [00:00, 31.22it/s]"
     ]
    },
    {
     "name": "stdout",
     "output_type": "stream",
     "text": [
      "Epoch   328: reducing learning rate of group 0 to 4.5525e-06.\n"
     ]
    },
    {
     "name": "stderr",
     "output_type": "stream",
     "text": [
      "MAE/CA 19578.744766: : 860it [00:28, 30.00it/s]\n",
      "MAE/CA 19580.082819: : 860it [00:28, 30.38it/s]\n",
      "MAE/CA 19819.051107: : 3it [00:00, 29.63it/s]"
     ]
    },
    {
     "name": "stdout",
     "output_type": "stream",
     "text": [
      "Epoch   330: reducing learning rate of group 0 to 4.3704e-06.\n"
     ]
    },
    {
     "name": "stderr",
     "output_type": "stream",
     "text": [
      "MAE/CA 19580.809108: : 860it [00:28, 30.45it/s]\n",
      "MAE/CA 19580.138863: : 860it [00:28, 30.21it/s]\n",
      "MAE/CA 20193.211992: : 3it [00:00, 28.94it/s]"
     ]
    },
    {
     "name": "stdout",
     "output_type": "stream",
     "text": [
      "Epoch   332: reducing learning rate of group 0 to 4.1956e-06.\n"
     ]
    },
    {
     "name": "stderr",
     "output_type": "stream",
     "text": [
      "MAE/CA 19579.024579: : 860it [00:28, 29.75it/s]\n",
      "MAE/CA 19579.587878: : 860it [00:29, 29.35it/s]\n",
      "MAE/CA 19965.072750: : 3it [00:00, 28.65it/s]"
     ]
    },
    {
     "name": "stdout",
     "output_type": "stream",
     "text": [
      "Epoch   334: reducing learning rate of group 0 to 4.0277e-06.\n"
     ]
    },
    {
     "name": "stderr",
     "output_type": "stream",
     "text": [
      "MAE/CA 19578.034730: : 860it [00:28, 29.88it/s]\n",
      "MAE/CA 19580.539602: : 860it [00:28, 30.28it/s]\n",
      "MAE/CA 18678.919119: : 3it [00:00, 29.28it/s]"
     ]
    },
    {
     "name": "stdout",
     "output_type": "stream",
     "text": [
      "Epoch   336: reducing learning rate of group 0 to 3.8666e-06.\n"
     ]
    },
    {
     "name": "stderr",
     "output_type": "stream",
     "text": [
      "MAE/CA 19577.939813: : 860it [00:28, 30.14it/s]\n",
      "MAE/CA 19579.782718: : 860it [00:28, 29.83it/s]\n",
      "MAE/CA 19485.529700: : 3it [00:00, 28.38it/s]"
     ]
    },
    {
     "name": "stdout",
     "output_type": "stream",
     "text": [
      "Epoch   338: reducing learning rate of group 0 to 3.7120e-06.\n"
     ]
    },
    {
     "name": "stderr",
     "output_type": "stream",
     "text": [
      "MAE/CA 19578.008655: : 860it [00:28, 29.98it/s]\n",
      "MAE/CA 19578.845626: : 860it [00:28, 30.61it/s]\n",
      "MAE/CA 20217.271435: : 4it [00:00, 31.17it/s]"
     ]
    },
    {
     "name": "stdout",
     "output_type": "stream",
     "text": [
      "Epoch   340: reducing learning rate of group 0 to 3.5635e-06.\n"
     ]
    },
    {
     "name": "stderr",
     "output_type": "stream",
     "text": [
      "MAE/CA 19577.669658: : 860it [00:28, 30.69it/s]\n",
      "MAE/CA 19579.975762: : 860it [00:27, 31.50it/s]\n",
      "MAE/CA 19662.676434: : 3it [00:00, 28.70it/s]"
     ]
    },
    {
     "name": "stdout",
     "output_type": "stream",
     "text": [
      "Epoch   342: reducing learning rate of group 0 to 3.4209e-06.\n"
     ]
    },
    {
     "name": "stderr",
     "output_type": "stream",
     "text": [
      "MAE/CA 19579.481846: : 860it [00:28, 30.03it/s]\n",
      "MAE/CA 19579.634216: : 860it [00:28, 29.98it/s]\n",
      "MAE/CA 18500.170567: : 3it [00:00, 29.21it/s]"
     ]
    },
    {
     "name": "stdout",
     "output_type": "stream",
     "text": [
      "Epoch   344: reducing learning rate of group 0 to 3.2841e-06.\n"
     ]
    },
    {
     "name": "stderr",
     "output_type": "stream",
     "text": [
      "MAE/CA 19576.445799: : 860it [00:28, 30.44it/s]\n",
      "MAE/CA 19582.658785: : 860it [00:28, 30.32it/s]\n",
      "MAE/CA 20053.954132: : 3it [00:00, 29.22it/s]"
     ]
    },
    {
     "name": "stdout",
     "output_type": "stream",
     "text": [
      "Epoch   346: reducing learning rate of group 0 to 3.1527e-06.\n"
     ]
    },
    {
     "name": "stderr",
     "output_type": "stream",
     "text": [
      "MAE/CA 19580.143263: : 860it [00:28, 30.13it/s]\n",
      "MAE/CA 19577.721075: : 860it [00:28, 30.41it/s]\n",
      "MAE/CA 20029.491336: : 3it [00:00, 29.15it/s]"
     ]
    },
    {
     "name": "stdout",
     "output_type": "stream",
     "text": [
      "Epoch   348: reducing learning rate of group 0 to 3.0266e-06.\n"
     ]
    },
    {
     "name": "stderr",
     "output_type": "stream",
     "text": [
      "MAE/CA 19577.049902: : 860it [00:29, 29.63it/s]\n",
      "MAE/CA 19574.817867: : 860it [00:29, 29.60it/s]\n",
      "MAE/CA 18885.398214: : 3it [00:00, 28.47it/s]"
     ]
    },
    {
     "name": "stdout",
     "output_type": "stream",
     "text": [
      "Epoch   350: reducing learning rate of group 0 to 2.9056e-06.\n"
     ]
    },
    {
     "name": "stderr",
     "output_type": "stream",
     "text": [
      "MAE/CA 19578.530392: : 860it [00:28, 29.95it/s]\n",
      "MAE/CA 19578.851495: : 860it [00:27, 31.01it/s]\n",
      "MAE/CA 19531.866266: : 4it [00:00, 30.85it/s]"
     ]
    },
    {
     "name": "stdout",
     "output_type": "stream",
     "text": [
      "Epoch   352: reducing learning rate of group 0 to 2.7893e-06.\n"
     ]
    },
    {
     "name": "stderr",
     "output_type": "stream",
     "text": [
      "MAE/CA 19579.778232: : 860it [00:28, 29.98it/s]\n",
      "MAE/CA 19580.175509: : 860it [00:28, 30.08it/s]\n",
      "MAE/CA 19283.328034: : 3it [00:00, 28.81it/s]"
     ]
    },
    {
     "name": "stdout",
     "output_type": "stream",
     "text": [
      "Epoch   354: reducing learning rate of group 0 to 2.6778e-06.\n"
     ]
    },
    {
     "name": "stderr",
     "output_type": "stream",
     "text": [
      "MAE/CA 19578.005709: : 860it [00:28, 29.82it/s]\n",
      "MAE/CA 19578.799216: : 860it [00:28, 29.71it/s]\n",
      "MAE/CA 19775.059190: : 3it [00:00, 28.70it/s]"
     ]
    },
    {
     "name": "stdout",
     "output_type": "stream",
     "text": [
      "Epoch   356: reducing learning rate of group 0 to 2.5707e-06.\n"
     ]
    },
    {
     "name": "stderr",
     "output_type": "stream",
     "text": [
      "MAE/CA 19578.165675: : 860it [00:28, 29.90it/s]\n",
      "MAE/CA 19578.940295: : 860it [00:29, 29.60it/s]\n",
      "MAE/CA 19574.054570: : 3it [00:00, 28.85it/s]"
     ]
    },
    {
     "name": "stdout",
     "output_type": "stream",
     "text": [
      "Epoch   358: reducing learning rate of group 0 to 2.4678e-06.\n"
     ]
    },
    {
     "name": "stderr",
     "output_type": "stream",
     "text": [
      "MAE/CA 19581.391837: : 860it [00:27, 31.05it/s]\n",
      "MAE/CA 19576.419196: : 860it [00:28, 30.03it/s]\n",
      "MAE/CA 20797.618068: : 3it [00:00, 29.99it/s]"
     ]
    },
    {
     "name": "stdout",
     "output_type": "stream",
     "text": [
      "Epoch   360: reducing learning rate of group 0 to 2.3691e-06.\n"
     ]
    },
    {
     "name": "stderr",
     "output_type": "stream",
     "text": [
      "MAE/CA 19577.333296: : 860it [00:29, 29.63it/s]\n",
      "MAE/CA 19576.142899: : 860it [00:28, 29.94it/s]\n",
      "MAE/CA 20112.382283: : 3it [00:00, 27.88it/s]"
     ]
    },
    {
     "name": "stdout",
     "output_type": "stream",
     "text": [
      "Epoch   362: reducing learning rate of group 0 to 2.2744e-06.\n"
     ]
    },
    {
     "name": "stderr",
     "output_type": "stream",
     "text": [
      "MAE/CA 19575.993259: : 860it [00:28, 29.81it/s]\n",
      "MAE/CA 19579.395937: : 860it [00:28, 29.77it/s]\n",
      "MAE/CA 19076.145616: : 3it [00:00, 29.05it/s]"
     ]
    },
    {
     "name": "stdout",
     "output_type": "stream",
     "text": [
      "Epoch   364: reducing learning rate of group 0 to 2.1834e-06.\n"
     ]
    },
    {
     "name": "stderr",
     "output_type": "stream",
     "text": [
      "MAE/CA 19580.798546: : 860it [00:28, 29.88it/s]\n",
      "MAE/CA 19575.413793: : 860it [00:28, 29.85it/s]\n",
      "MAE/CA 21043.307519: : 3it [00:00, 28.26it/s]"
     ]
    },
    {
     "name": "stdout",
     "output_type": "stream",
     "text": [
      "Epoch   366: reducing learning rate of group 0 to 2.0960e-06.\n"
     ]
    },
    {
     "name": "stderr",
     "output_type": "stream",
     "text": [
      "MAE/CA 19581.370903: : 860it [00:28, 30.11it/s]\n",
      "MAE/CA 19576.630517: : 860it [00:28, 29.86it/s]\n",
      "MAE/CA 20654.603470: : 4it [00:00, 30.98it/s]"
     ]
    },
    {
     "name": "stdout",
     "output_type": "stream",
     "text": [
      "Epoch   368: reducing learning rate of group 0 to 2.0122e-06.\n"
     ]
    },
    {
     "name": "stderr",
     "output_type": "stream",
     "text": [
      "MAE/CA 19579.074199: : 860it [00:28, 29.94it/s]\n",
      "MAE/CA 19575.722219: : 860it [00:28, 29.86it/s]\n",
      "MAE/CA 19391.598251: : 3it [00:00, 29.29it/s]"
     ]
    },
    {
     "name": "stdout",
     "output_type": "stream",
     "text": [
      "Epoch   370: reducing learning rate of group 0 to 1.9317e-06.\n"
     ]
    },
    {
     "name": "stderr",
     "output_type": "stream",
     "text": [
      "MAE/CA 19579.307156: : 860it [00:28, 29.99it/s]\n",
      "MAE/CA 19578.250855: : 860it [00:28, 29.91it/s]\n",
      "MAE/CA 19923.340317: : 4it [00:00, 31.22it/s]"
     ]
    },
    {
     "name": "stdout",
     "output_type": "stream",
     "text": [
      "Epoch   372: reducing learning rate of group 0 to 1.8544e-06.\n"
     ]
    },
    {
     "name": "stderr",
     "output_type": "stream",
     "text": [
      "MAE/CA 19578.400568: : 860it [00:28, 29.86it/s]\n",
      "MAE/CA 19579.311073: : 860it [00:28, 30.28it/s]\n",
      "MAE/CA 18976.084864: : 3it [00:00, 29.32it/s]"
     ]
    },
    {
     "name": "stdout",
     "output_type": "stream",
     "text": [
      "Epoch   374: reducing learning rate of group 0 to 1.7803e-06.\n"
     ]
    },
    {
     "name": "stderr",
     "output_type": "stream",
     "text": [
      "MAE/CA 19578.502099: : 860it [00:28, 29.88it/s]\n",
      "MAE/CA 19576.833918: : 860it [00:28, 29.93it/s]\n",
      "MAE/CA 19706.162847: : 3it [00:00, 27.11it/s]"
     ]
    },
    {
     "name": "stdout",
     "output_type": "stream",
     "text": [
      "Epoch   376: reducing learning rate of group 0 to 1.7091e-06.\n"
     ]
    },
    {
     "name": "stderr",
     "output_type": "stream",
     "text": [
      "MAE/CA 19579.492362: : 860it [00:29, 29.35it/s]\n",
      "MAE/CA 19577.119485: : 860it [00:28, 29.80it/s]\n",
      "MAE/CA 19103.394406: : 3it [00:00, 24.92it/s]"
     ]
    },
    {
     "name": "stdout",
     "output_type": "stream",
     "text": [
      "Epoch   378: reducing learning rate of group 0 to 1.6407e-06.\n"
     ]
    },
    {
     "name": "stderr",
     "output_type": "stream",
     "text": [
      "MAE/CA 19575.897420: : 860it [00:28, 29.86it/s]\n",
      "MAE/CA 19576.887713: : 860it [00:27, 31.41it/s]\n",
      "MAE/CA 19486.751823: : 3it [00:00, 28.50it/s]"
     ]
    },
    {
     "name": "stdout",
     "output_type": "stream",
     "text": [
      "Epoch   380: reducing learning rate of group 0 to 1.5751e-06.\n"
     ]
    },
    {
     "name": "stderr",
     "output_type": "stream",
     "text": [
      "MAE/CA 19576.503967: : 860it [00:28, 29.74it/s]\n",
      "MAE/CA 19578.845240: : 860it [00:28, 29.92it/s]\n",
      "MAE/CA 18879.718869: : 3it [00:00, 29.60it/s]"
     ]
    },
    {
     "name": "stdout",
     "output_type": "stream",
     "text": [
      "Epoch   382: reducing learning rate of group 0 to 1.5121e-06.\n"
     ]
    },
    {
     "name": "stderr",
     "output_type": "stream",
     "text": [
      "MAE/CA 19577.301616: : 860it [00:28, 29.95it/s]\n",
      "MAE/CA 19574.816309: : 860it [00:28, 29.81it/s]\n",
      "MAE/CA 19840.568128: : 3it [00:00, 28.53it/s]"
     ]
    },
    {
     "name": "stdout",
     "output_type": "stream",
     "text": [
      "Epoch   384: reducing learning rate of group 0 to 1.4516e-06.\n"
     ]
    },
    {
     "name": "stderr",
     "output_type": "stream",
     "text": [
      "MAE/CA 19582.441357: : 860it [00:28, 29.76it/s]\n",
      "MAE/CA 19578.091467: : 860it [00:28, 29.89it/s]\n",
      "MAE/CA 19435.098574: : 3it [00:00, 28.87it/s]"
     ]
    },
    {
     "name": "stdout",
     "output_type": "stream",
     "text": [
      "Epoch   386: reducing learning rate of group 0 to 1.3935e-06.\n"
     ]
    },
    {
     "name": "stderr",
     "output_type": "stream",
     "text": [
      "MAE/CA 19576.450052: : 860it [00:28, 29.70it/s]\n",
      "MAE/CA 19576.397963: : 860it [00:29, 29.42it/s]\n",
      "MAE/CA 19647.913970: : 3it [00:00, 28.64it/s]"
     ]
    },
    {
     "name": "stdout",
     "output_type": "stream",
     "text": [
      "Epoch   388: reducing learning rate of group 0 to 1.3378e-06.\n"
     ]
    },
    {
     "name": "stderr",
     "output_type": "stream",
     "text": [
      "MAE/CA 19574.834060: : 860it [00:28, 30.02it/s]\n",
      "MAE/CA 19575.995150: : 860it [00:28, 29.70it/s]\n",
      "MAE/CA 20471.354876: : 3it [00:00, 28.40it/s]"
     ]
    },
    {
     "name": "stdout",
     "output_type": "stream",
     "text": [
      "Epoch   390: reducing learning rate of group 0 to 1.2843e-06.\n"
     ]
    },
    {
     "name": "stderr",
     "output_type": "stream",
     "text": [
      "MAE/CA 19576.514424: : 860it [00:28, 29.95it/s]\n",
      "MAE/CA 19577.785661: : 860it [00:28, 29.67it/s]\n",
      "MAE/CA 19531.593500: : 3it [00:00, 28.57it/s]"
     ]
    },
    {
     "name": "stdout",
     "output_type": "stream",
     "text": [
      "Epoch   392: reducing learning rate of group 0 to 1.2329e-06.\n"
     ]
    },
    {
     "name": "stderr",
     "output_type": "stream",
     "text": [
      "MAE/CA 19577.890957: : 860it [00:29, 29.54it/s]\n",
      "MAE/CA 19576.768963: : 860it [00:28, 29.69it/s]\n",
      "MAE/CA 20265.365719: : 3it [00:00, 28.67it/s]"
     ]
    },
    {
     "name": "stdout",
     "output_type": "stream",
     "text": [
      "Epoch   394: reducing learning rate of group 0 to 1.1836e-06.\n"
     ]
    },
    {
     "name": "stderr",
     "output_type": "stream",
     "text": [
      "MAE/CA 19573.720523: : 860it [00:28, 30.22it/s]\n",
      "MAE/CA 19572.945906: : 860it [00:28, 29.86it/s]\n",
      "MAE/CA 20013.572279: : 3it [00:00, 28.63it/s]"
     ]
    },
    {
     "name": "stdout",
     "output_type": "stream",
     "text": [
      "Epoch   396: reducing learning rate of group 0 to 1.1362e-06.\n"
     ]
    },
    {
     "name": "stderr",
     "output_type": "stream",
     "text": [
      "MAE/CA 19576.978104: : 860it [00:29, 29.39it/s]\n",
      "MAE/CA 19574.402483: : 860it [00:28, 30.25it/s]\n",
      "MAE/CA 19215.293470: : 3it [00:00, 29.72it/s]"
     ]
    },
    {
     "name": "stdout",
     "output_type": "stream",
     "text": [
      "Epoch   398: reducing learning rate of group 0 to 1.0908e-06.\n"
     ]
    },
    {
     "name": "stderr",
     "output_type": "stream",
     "text": [
      "MAE/CA 19577.665873: : 860it [00:28, 29.75it/s]\n",
      "MAE/CA 19579.361691: : 860it [00:28, 30.00it/s]\n",
      "MAE/CA 20239.616453: : 3it [00:00, 28.91it/s]"
     ]
    },
    {
     "name": "stdout",
     "output_type": "stream",
     "text": [
      "Epoch   400: reducing learning rate of group 0 to 1.0472e-06.\n"
     ]
    },
    {
     "name": "stderr",
     "output_type": "stream",
     "text": [
      "MAE/CA 19578.940584: : 860it [00:28, 30.35it/s]\n",
      "MAE/CA 19576.189700: : 860it [00:28, 30.39it/s]\n",
      "MAE/CA 19122.431319: : 4it [00:00, 31.11it/s]"
     ]
    },
    {
     "name": "stdout",
     "output_type": "stream",
     "text": [
      "Epoch   402: reducing learning rate of group 0 to 1.0053e-06.\n"
     ]
    },
    {
     "name": "stderr",
     "output_type": "stream",
     "text": [
      "MAE/CA 19575.121811: : 860it [00:28, 29.92it/s]\n",
      "MAE/CA 19576.917696: : 860it [00:27, 31.02it/s]\n",
      "MAE/CA 19211.688848: : 3it [00:00, 29.72it/s]"
     ]
    },
    {
     "name": "stdout",
     "output_type": "stream",
     "text": [
      "Epoch   404: reducing learning rate of group 0 to 9.6506e-07.\n"
     ]
    },
    {
     "name": "stderr",
     "output_type": "stream",
     "text": [
      "MAE/CA 19578.409601: : 860it [00:28, 29.76it/s]\n",
      "MAE/CA 19578.433214: : 860it [00:28, 29.76it/s]\n",
      "MAE/CA 20064.270966: : 4it [00:00, 31.74it/s]"
     ]
    },
    {
     "name": "stdout",
     "output_type": "stream",
     "text": [
      "Epoch   406: reducing learning rate of group 0 to 9.2646e-07.\n"
     ]
    },
    {
     "name": "stderr",
     "output_type": "stream",
     "text": [
      "MAE/CA 19574.631955: : 860it [00:27, 30.85it/s]\n",
      "MAE/CA 19577.457682: : 860it [00:28, 30.24it/s]\n",
      "MAE/CA 19904.039250: : 4it [00:00, 31.28it/s]"
     ]
    },
    {
     "name": "stdout",
     "output_type": "stream",
     "text": [
      "Epoch   408: reducing learning rate of group 0 to 8.8940e-07.\n"
     ]
    },
    {
     "name": "stderr",
     "output_type": "stream",
     "text": [
      "MAE/CA 19577.342540: : 860it [00:28, 30.34it/s]\n",
      "MAE/CA 19574.247389: : 860it [00:28, 30.08it/s]\n",
      "MAE/CA 19658.899494: : 3it [00:00, 29.06it/s]"
     ]
    },
    {
     "name": "stdout",
     "output_type": "stream",
     "text": [
      "Epoch   410: reducing learning rate of group 0 to 8.5382e-07.\n"
     ]
    },
    {
     "name": "stderr",
     "output_type": "stream",
     "text": [
      "MAE/CA 19577.729897: : 860it [00:28, 29.72it/s]\n",
      "MAE/CA 19578.261676: : 860it [00:29, 29.53it/s]\n",
      "MAE/CA 19610.960495: : 3it [00:00, 26.85it/s]"
     ]
    },
    {
     "name": "stdout",
     "output_type": "stream",
     "text": [
      "Epoch   412: reducing learning rate of group 0 to 8.1967e-07.\n"
     ]
    },
    {
     "name": "stderr",
     "output_type": "stream",
     "text": [
      "MAE/CA 19576.565213: : 860it [00:28, 30.48it/s]\n",
      "MAE/CA 19576.043518: : 860it [00:28, 30.29it/s]\n",
      "MAE/CA 18219.179375: : 4it [00:00, 30.11it/s]"
     ]
    },
    {
     "name": "stdout",
     "output_type": "stream",
     "text": [
      "Epoch   414: reducing learning rate of group 0 to 7.8688e-07.\n"
     ]
    },
    {
     "name": "stderr",
     "output_type": "stream",
     "text": [
      "MAE/CA 19577.803616: : 860it [00:28, 29.77it/s]\n",
      "MAE/CA 19577.010976: : 860it [00:28, 30.16it/s]\n",
      "MAE/CA 19328.481512: : 3it [00:00, 29.16it/s]"
     ]
    },
    {
     "name": "stdout",
     "output_type": "stream",
     "text": [
      "Epoch   416: reducing learning rate of group 0 to 7.5541e-07.\n"
     ]
    },
    {
     "name": "stderr",
     "output_type": "stream",
     "text": [
      "MAE/CA 19577.517954: : 860it [00:28, 29.68it/s]\n",
      "MAE/CA 19580.558200: : 860it [00:28, 29.77it/s]\n",
      "MAE/CA 18241.905272: : 3it [00:00, 28.25it/s]"
     ]
    },
    {
     "name": "stdout",
     "output_type": "stream",
     "text": [
      "Epoch   418: reducing learning rate of group 0 to 7.2519e-07.\n"
     ]
    },
    {
     "name": "stderr",
     "output_type": "stream",
     "text": [
      "MAE/CA 19575.480045: : 860it [00:28, 29.73it/s]\n",
      "MAE/CA 19577.186630: : 860it [00:28, 30.15it/s]\n",
      "MAE/CA 19772.032035: : 3it [00:00, 29.72it/s]"
     ]
    },
    {
     "name": "stdout",
     "output_type": "stream",
     "text": [
      "Epoch   420: reducing learning rate of group 0 to 6.9618e-07.\n"
     ]
    },
    {
     "name": "stderr",
     "output_type": "stream",
     "text": [
      "MAE/CA 19574.865076: : 860it [00:28, 29.85it/s]\n",
      "MAE/CA 19574.932300: : 860it [00:28, 29.76it/s]\n",
      "MAE/CA 19889.029286: : 3it [00:00, 25.95it/s]"
     ]
    },
    {
     "name": "stdout",
     "output_type": "stream",
     "text": [
      "Epoch   422: reducing learning rate of group 0 to 6.6834e-07.\n"
     ]
    },
    {
     "name": "stderr",
     "output_type": "stream",
     "text": [
      "MAE/CA 19573.129395: : 860it [00:28, 29.84it/s]\n",
      "MAE/CA 19576.641438: : 860it [00:28, 29.75it/s]\n",
      "MAE/CA 19625.472668: : 3it [00:00, 28.23it/s]"
     ]
    },
    {
     "name": "stdout",
     "output_type": "stream",
     "text": [
      "Epoch   424: reducing learning rate of group 0 to 6.4160e-07.\n"
     ]
    },
    {
     "name": "stderr",
     "output_type": "stream",
     "text": [
      "MAE/CA 19575.007584: : 860it [00:28, 30.14it/s]\n",
      "MAE/CA 19576.960263: : 860it [00:28, 29.82it/s]\n",
      "MAE/CA 20363.059110: : 3it [00:00, 29.49it/s]"
     ]
    },
    {
     "name": "stdout",
     "output_type": "stream",
     "text": [
      "Epoch   426: reducing learning rate of group 0 to 6.1594e-07.\n"
     ]
    },
    {
     "name": "stderr",
     "output_type": "stream",
     "text": [
      "MAE/CA 19577.277095: : 860it [00:29, 29.49it/s]\n",
      "MAE/CA 19579.134178: : 860it [00:28, 29.92it/s]\n",
      "MAE/CA 19244.075332: : 3it [00:00, 28.35it/s]"
     ]
    },
    {
     "name": "stdout",
     "output_type": "stream",
     "text": [
      "Epoch   428: reducing learning rate of group 0 to 5.9130e-07.\n"
     ]
    },
    {
     "name": "stderr",
     "output_type": "stream",
     "text": [
      "MAE/CA 19576.913051: : 860it [00:28, 29.85it/s]\n",
      "MAE/CA 19576.385170: : 860it [00:28, 29.69it/s]\n",
      "MAE/CA 20290.903254: : 3it [00:00, 28.98it/s]"
     ]
    },
    {
     "name": "stdout",
     "output_type": "stream",
     "text": [
      "Epoch   430: reducing learning rate of group 0 to 5.6765e-07.\n"
     ]
    },
    {
     "name": "stderr",
     "output_type": "stream",
     "text": [
      "MAE/CA 19575.665386: : 860it [00:28, 30.44it/s]\n",
      "MAE/CA 19575.979725: : 860it [00:28, 29.97it/s]\n",
      "MAE/CA 20077.394944: : 3it [00:00, 29.11it/s]"
     ]
    },
    {
     "name": "stdout",
     "output_type": "stream",
     "text": [
      "Epoch   432: reducing learning rate of group 0 to 5.4494e-07.\n"
     ]
    },
    {
     "name": "stderr",
     "output_type": "stream",
     "text": [
      "MAE/CA 19576.818275: : 860it [00:28, 29.75it/s]\n",
      "MAE/CA 19574.743677: : 860it [00:28, 29.79it/s]\n",
      "MAE/CA 20511.433446: : 3it [00:00, 28.67it/s]"
     ]
    },
    {
     "name": "stdout",
     "output_type": "stream",
     "text": [
      "Epoch   434: reducing learning rate of group 0 to 5.2315e-07.\n"
     ]
    },
    {
     "name": "stderr",
     "output_type": "stream",
     "text": [
      "MAE/CA 19578.634749: : 860it [00:28, 29.79it/s]\n",
      "MAE/CA 19573.496797: : 860it [00:28, 29.68it/s]\n",
      "MAE/CA 20278.963027: : 3it [00:00, 25.17it/s]"
     ]
    },
    {
     "name": "stdout",
     "output_type": "stream",
     "text": [
      "Epoch   436: reducing learning rate of group 0 to 5.0222e-07.\n"
     ]
    },
    {
     "name": "stderr",
     "output_type": "stream",
     "text": [
      "MAE/CA 19575.810403: : 860it [00:28, 29.77it/s]\n",
      "MAE/CA 19578.852508: : 860it [00:28, 29.81it/s]\n",
      "MAE/CA 19576.108238: : 3it [00:00, 28.46it/s]"
     ]
    },
    {
     "name": "stdout",
     "output_type": "stream",
     "text": [
      "Epoch   438: reducing learning rate of group 0 to 4.8213e-07.\n"
     ]
    },
    {
     "name": "stderr",
     "output_type": "stream",
     "text": [
      "MAE/CA 19575.380942: : 860it [00:28, 29.72it/s]\n",
      "MAE/CA 19578.181260: : 860it [00:28, 29.82it/s]\n",
      "MAE/CA 19283.211925: : 3it [00:00, 28.11it/s]"
     ]
    },
    {
     "name": "stdout",
     "output_type": "stream",
     "text": [
      "Epoch   440: reducing learning rate of group 0 to 4.6285e-07.\n"
     ]
    },
    {
     "name": "stderr",
     "output_type": "stream",
     "text": [
      "MAE/CA 19576.676173: : 860it [00:28, 30.46it/s]\n",
      "MAE/CA 19574.529570: : 860it [00:28, 29.87it/s]\n",
      "MAE/CA 20174.465209: : 3it [00:00, 29.82it/s]"
     ]
    },
    {
     "name": "stdout",
     "output_type": "stream",
     "text": [
      "Epoch   442: reducing learning rate of group 0 to 4.4433e-07.\n"
     ]
    },
    {
     "name": "stderr",
     "output_type": "stream",
     "text": [
      "MAE/CA 19576.140154: : 860it [00:28, 29.85it/s]\n",
      "MAE/CA 19577.561027: : 860it [00:28, 29.76it/s]\n",
      "MAE/CA 19903.272762: : 3it [00:00, 28.89it/s]"
     ]
    },
    {
     "name": "stdout",
     "output_type": "stream",
     "text": [
      "Epoch   444: reducing learning rate of group 0 to 4.2656e-07.\n"
     ]
    },
    {
     "name": "stderr",
     "output_type": "stream",
     "text": [
      "MAE/CA 19574.420867: : 860it [00:28, 29.67it/s]\n",
      "MAE/CA 19574.944606: : 860it [00:28, 30.02it/s]\n",
      "MAE/CA 19388.786848: : 3it [00:00, 27.89it/s]"
     ]
    },
    {
     "name": "stdout",
     "output_type": "stream",
     "text": [
      "Epoch   446: reducing learning rate of group 0 to 4.0950e-07.\n"
     ]
    },
    {
     "name": "stderr",
     "output_type": "stream",
     "text": [
      "MAE/CA 19578.348973: : 860it [00:28, 29.79it/s]\n",
      "MAE/CA 19577.100228: : 860it [00:28, 29.75it/s]\n",
      "MAE/CA 19024.549617: : 3it [00:00, 29.11it/s]"
     ]
    },
    {
     "name": "stdout",
     "output_type": "stream",
     "text": [
      "Epoch   448: reducing learning rate of group 0 to 3.9312e-07.\n"
     ]
    },
    {
     "name": "stderr",
     "output_type": "stream",
     "text": [
      "MAE/CA 19575.254616: : 860it [00:28, 29.93it/s]\n",
      "MAE/CA 19574.163944: : 860it [00:28, 30.45it/s]\n",
      "MAE/CA 19894.309347: : 3it [00:00, 29.54it/s]"
     ]
    },
    {
     "name": "stdout",
     "output_type": "stream",
     "text": [
      "Epoch   450: reducing learning rate of group 0 to 3.7739e-07.\n"
     ]
    },
    {
     "name": "stderr",
     "output_type": "stream",
     "text": [
      "MAE/CA 19573.503551: : 860it [00:28, 29.86it/s]\n",
      "MAE/CA 19574.876233: : 860it [00:28, 30.00it/s]\n",
      "MAE/CA 19246.668853: : 3it [00:00, 27.99it/s]"
     ]
    },
    {
     "name": "stdout",
     "output_type": "stream",
     "text": [
      "Epoch   452: reducing learning rate of group 0 to 3.6230e-07.\n"
     ]
    },
    {
     "name": "stderr",
     "output_type": "stream",
     "text": [
      "MAE/CA 19575.293046: : 860it [00:28, 29.76it/s]\n",
      "MAE/CA 19575.974626: : 860it [00:29, 29.48it/s]\n",
      "MAE/CA 19600.826766: : 3it [00:00, 29.63it/s]"
     ]
    },
    {
     "name": "stdout",
     "output_type": "stream",
     "text": [
      "Epoch   454: reducing learning rate of group 0 to 3.4780e-07.\n"
     ]
    },
    {
     "name": "stderr",
     "output_type": "stream",
     "text": [
      "MAE/CA 19575.753636: : 860it [00:27, 30.92it/s]\n",
      "MAE/CA 19575.632767: : 860it [00:28, 29.98it/s]\n",
      "MAE/CA 20045.624016: : 3it [00:00, 28.46it/s]"
     ]
    },
    {
     "name": "stdout",
     "output_type": "stream",
     "text": [
      "Epoch   456: reducing learning rate of group 0 to 3.3389e-07.\n"
     ]
    },
    {
     "name": "stderr",
     "output_type": "stream",
     "text": [
      "MAE/CA 19572.783044: : 860it [00:29, 29.58it/s]\n",
      "MAE/CA 19574.940095: : 860it [00:27, 30.95it/s]\n",
      "MAE/CA 19529.617191: : 3it [00:00, 29.49it/s]"
     ]
    },
    {
     "name": "stdout",
     "output_type": "stream",
     "text": [
      "Epoch   458: reducing learning rate of group 0 to 3.2054e-07.\n"
     ]
    },
    {
     "name": "stderr",
     "output_type": "stream",
     "text": [
      "MAE/CA 19578.299533: : 860it [00:28, 29.96it/s]\n",
      "MAE/CA 19575.297752: : 860it [00:29, 29.54it/s]\n",
      "MAE/CA 19778.181446: : 3it [00:00, 29.01it/s]"
     ]
    },
    {
     "name": "stdout",
     "output_type": "stream",
     "text": [
      "Epoch   460: reducing learning rate of group 0 to 3.0772e-07.\n"
     ]
    },
    {
     "name": "stderr",
     "output_type": "stream",
     "text": [
      "MAE/CA 19577.565944: : 860it [00:28, 29.70it/s]\n",
      "MAE/CA 19575.242312: : 860it [00:27, 30.74it/s]\n",
      "MAE/CA 19684.809485: : 3it [00:00, 29.32it/s]"
     ]
    },
    {
     "name": "stdout",
     "output_type": "stream",
     "text": [
      "Epoch   462: reducing learning rate of group 0 to 2.9541e-07.\n"
     ]
    },
    {
     "name": "stderr",
     "output_type": "stream",
     "text": [
      "MAE/CA 19573.963818: : 860it [00:29, 29.52it/s]\n",
      "MAE/CA 19574.086206: : 860it [00:28, 30.05it/s]\n",
      "MAE/CA 19596.000494: : 3it [00:00, 29.12it/s]"
     ]
    },
    {
     "name": "stdout",
     "output_type": "stream",
     "text": [
      "Epoch   464: reducing learning rate of group 0 to 2.8359e-07.\n"
     ]
    },
    {
     "name": "stderr",
     "output_type": "stream",
     "text": [
      "MAE/CA 19579.428380: : 860it [00:28, 29.76it/s]\n",
      "MAE/CA 19576.539233: : 860it [00:28, 29.72it/s]\n",
      "MAE/CA 18788.660330: : 3it [00:00, 28.86it/s]"
     ]
    },
    {
     "name": "stdout",
     "output_type": "stream",
     "text": [
      "Epoch   466: reducing learning rate of group 0 to 2.7225e-07.\n"
     ]
    },
    {
     "name": "stderr",
     "output_type": "stream",
     "text": [
      "MAE/CA 19574.396691: : 860it [00:28, 30.43it/s]\n",
      "MAE/CA 19577.355742: : 860it [00:28, 29.91it/s]\n",
      "MAE/CA 18901.925494: : 3it [00:00, 29.32it/s]"
     ]
    },
    {
     "name": "stdout",
     "output_type": "stream",
     "text": [
      "Epoch   468: reducing learning rate of group 0 to 2.6136e-07.\n"
     ]
    },
    {
     "name": "stderr",
     "output_type": "stream",
     "text": [
      "MAE/CA 19574.528369: : 860it [00:28, 30.31it/s]\n",
      "MAE/CA 19578.290772: : 860it [00:28, 29.98it/s]\n",
      "MAE/CA 19796.667764: : 4it [00:00, 31.38it/s]"
     ]
    },
    {
     "name": "stdout",
     "output_type": "stream",
     "text": [
      "Epoch   470: reducing learning rate of group 0 to 2.5090e-07.\n"
     ]
    },
    {
     "name": "stderr",
     "output_type": "stream",
     "text": [
      "MAE/CA 19577.211651: : 860it [00:27, 31.33it/s]\n",
      "MAE/CA 19577.316028: : 860it [00:28, 29.85it/s]\n",
      "MAE/CA 20015.527296: : 3it [00:00, 28.23it/s]"
     ]
    },
    {
     "name": "stdout",
     "output_type": "stream",
     "text": [
      "Epoch   472: reducing learning rate of group 0 to 2.4087e-07.\n"
     ]
    },
    {
     "name": "stderr",
     "output_type": "stream",
     "text": [
      "MAE/CA 19573.618054: : 860it [00:28, 30.27it/s]\n",
      "MAE/CA 19576.256679: : 860it [00:28, 29.89it/s]\n",
      "MAE/CA 19575.459198: : 860it [00:29, 29.59it/s]\n",
      "MAE/CA 19573.665877: : 860it [00:28, 29.76it/s]\n",
      "MAE/CA 19574.467839: : 860it [00:28, 29.86it/s]\n",
      "MAE/CA 19573.607306: : 860it [00:28, 29.93it/s]\n",
      "MAE/CA 19573.429627: : 860it [00:28, 29.84it/s]\n",
      "MAE/CA 19577.146135: : 860it [00:29, 29.49it/s]\n",
      "MAE/CA 19573.682816: : 860it [00:27, 31.05it/s]\n",
      "MAE/CA 19576.568894: : 860it [00:28, 29.87it/s]\n",
      "MAE/CA 19575.426759: : 860it [00:29, 29.62it/s]\n",
      "MAE/CA 19576.949474: : 860it [00:28, 29.87it/s]\n",
      "MAE/CA 19575.112552: : 860it [00:28, 29.75it/s]\n",
      "MAE/CA 19575.139854: : 860it [00:28, 29.95it/s]\n",
      "MAE/CA 19574.027017: : 860it [00:29, 29.63it/s]\n",
      "MAE/CA 19575.409569: : 860it [00:28, 30.06it/s]\n",
      "MAE/CA 19575.956354: : 860it [00:28, 29.88it/s]\n",
      "MAE/CA 19577.012384: : 860it [00:28, 29.95it/s]\n",
      "MAE/CA 19575.737378: : 860it [00:28, 30.42it/s]\n",
      "MAE/CA 19576.428665: : 860it [00:28, 29.76it/s]\n",
      "MAE/CA 19574.856482: : 860it [00:28, 29.90it/s]\n",
      "MAE/CA 19574.563155: : 860it [00:28, 30.24it/s]\n",
      "MAE/CA 19576.423547: : 860it [00:28, 29.85it/s]\n",
      "MAE/CA 19576.426183: : 860it [00:28, 29.95it/s]\n",
      "MAE/CA 19575.169487: : 860it [00:29, 29.36it/s]\n",
      "MAE/CA 19575.049899: : 860it [00:28, 30.05it/s]\n",
      "MAE/CA 19578.735852: : 860it [00:28, 29.77it/s]\n",
      "MAE/CA 19573.343222: : 860it [00:28, 29.81it/s]\n",
      "MAE/CA 19576.537358: : 860it [00:28, 30.43it/s]\n",
      "MAE/CA 19575.420370: : 860it [00:28, 29.97it/s]\n",
      "MAE/CA 19576.763023: : 860it [00:29, 29.51it/s]\n",
      "MAE/CA 19575.433303: : 860it [00:28, 30.16it/s]\n",
      "MAE/CA 19574.563099: : 860it [00:28, 30.67it/s]\n",
      "MAE/CA 19572.041716: : 860it [00:29, 29.62it/s]\n",
      "MAE/CA 19578.373742: : 860it [00:29, 29.40it/s]\n",
      "MAE/CA 19576.460610: : 860it [00:28, 30.25it/s]\n",
      "MAE/CA 19576.823061: : 860it [00:28, 29.70it/s]\n",
      "MAE/CA 19572.561659: : 860it [00:28, 29.74it/s]\n",
      "MAE/CA 19576.115710: : 860it [00:29, 29.53it/s]\n",
      "MAE/CA 19577.024776: : 860it [00:28, 30.13it/s]\n",
      "MAE/CA 19575.439754: : 860it [00:28, 29.80it/s]\n",
      "MAE/CA 19577.652497: : 860it [00:28, 29.84it/s]\n",
      "MAE/CA 19577.614589: : 860it [00:28, 29.72it/s]\n",
      "MAE/CA 19575.406572: : 860it [00:27, 31.01it/s]\n",
      "MAE/CA 19573.365014: : 860it [00:28, 29.81it/s]\n",
      "MAE/CA 19577.893108: : 860it [00:29, 29.61it/s]\n",
      "MAE/CA 19575.940998: : 860it [00:28, 30.30it/s]\n",
      "MAE/CA 19579.461280: : 860it [00:28, 29.81it/s]\n",
      "MAE/CA 19579.527079: : 860it [00:28, 29.95it/s]\n",
      "MAE/CA 19574.172427: : 860it [00:28, 30.27it/s]\n",
      "MAE/CA 19579.125105: : 860it [00:29, 29.61it/s]\n",
      "MAE/CA 19578.002081: : 860it [00:28, 29.77it/s]\n",
      "MAE/CA 19573.464736: : 860it [00:28, 29.98it/s]\n",
      "MAE/CA 19574.793129: : 860it [00:28, 30.15it/s]\n",
      "MAE/CA 19577.644978: : 860it [00:29, 29.64it/s]\n",
      "MAE/CA 19572.884985: : 860it [00:28, 29.97it/s]\n",
      "MAE/CA 19576.173451: : 860it [00:28, 30.09it/s]\n",
      "MAE/CA 19575.587397: : 860it [00:28, 30.31it/s]\n",
      "MAE/CA 19575.746916: : 860it [00:29, 29.60it/s]\n",
      "MAE/CA 19576.333828: : 860it [00:29, 29.64it/s]\n",
      "MAE/CA 19577.871656: : 860it [00:28, 29.72it/s]\n",
      "MAE/CA 19574.662617: : 860it [00:27, 30.75it/s]\n",
      "MAE/CA 19577.340160: : 860it [00:29, 29.64it/s]\n",
      "MAE/CA 19578.611261: : 860it [00:28, 30.31it/s]\n",
      "MAE/CA 19577.553070: : 860it [00:28, 30.10it/s]\n",
      "MAE/CA 19572.994810: : 860it [00:28, 30.26it/s]\n",
      "MAE/CA 19576.834280: : 860it [00:28, 29.90it/s]\n",
      "MAE/CA 19576.667433: : 860it [00:28, 29.72it/s]\n",
      "MAE/CA 19575.606859: : 860it [00:28, 29.85it/s]\n",
      "MAE/CA 19574.915437: : 860it [00:28, 30.52it/s]\n",
      "MAE/CA 19579.240686: : 860it [00:29, 29.64it/s]\n",
      "MAE/CA 19579.678648: : 860it [00:28, 29.98it/s]\n",
      "MAE/CA 19574.850677: : 860it [00:28, 29.93it/s]\n",
      "MAE/CA 19576.879584: : 860it [00:28, 29.77it/s]\n",
      "MAE/CA 19575.959321: : 860it [00:29, 29.53it/s]\n",
      "MAE/CA 19575.795324: : 860it [00:28, 29.76it/s]\n",
      "MAE/CA 19573.137995: : 860it [00:28, 29.85it/s]\n",
      "MAE/CA 19578.317451: : 860it [00:28, 29.92it/s]\n",
      "MAE/CA 19577.626111: : 860it [00:28, 29.81it/s]\n",
      "MAE/CA 19574.724997: : 860it [00:28, 29.82it/s]\n",
      "MAE/CA 19575.496973: : 860it [00:28, 30.64it/s]\n",
      "MAE/CA 19576.854969: : 860it [00:28, 30.03it/s]\n",
      "MAE/CA 19576.042244: : 860it [00:28, 30.20it/s]\n",
      "MAE/CA 19573.819714: : 860it [00:28, 29.70it/s]\n",
      "MAE/CA 19575.194707: : 860it [00:28, 29.85it/s]\n",
      "MAE/CA 19574.870044: : 860it [00:28, 29.73it/s]\n",
      "MAE/CA 19574.995458: : 860it [00:28, 29.71it/s]\n",
      "MAE/CA 19578.799199: : 860it [00:28, 29.73it/s]\n",
      "MAE/CA 19576.823330: : 860it [00:28, 29.86it/s]\n",
      "MAE/CA 19575.479090: : 860it [00:28, 30.16it/s]\n",
      "MAE/CA 19573.957665: : 860it [00:28, 29.68it/s]\n",
      "MAE/CA 19575.155516: : 860it [00:29, 29.57it/s]\n",
      "MAE/CA 19577.970577: : 860it [00:29, 29.64it/s]\n",
      "MAE/CA 19576.021822: : 860it [00:28, 29.82it/s]\n",
      "MAE/CA 19574.506764: : 860it [00:28, 29.92it/s]\n",
      "MAE/CA 19578.329407: : 860it [00:28, 29.72it/s]\n",
      "MAE/CA 19577.226453: : 860it [00:28, 29.72it/s]\n",
      "MAE/CA 19579.331283: : 860it [00:28, 29.71it/s]\n",
      "MAE/CA 19575.177974: : 860it [00:28, 30.71it/s]\n",
      "MAE/CA 19577.247663: : 860it [00:28, 30.20it/s]\n",
      "MAE/CA 19576.251736: : 860it [00:28, 30.01it/s]\n",
      "MAE/CA 19576.315516: : 860it [00:29, 29.50it/s]\n",
      "MAE/CA 19575.923450: : 860it [00:27, 30.72it/s]\n",
      "MAE/CA 19579.025481: : 860it [00:28, 29.70it/s]\n",
      "MAE/CA 19577.450119: : 860it [00:28, 29.99it/s]\n",
      "MAE/CA 19575.698646: : 860it [00:27, 31.70it/s]\n",
      "MAE/CA 19574.868712: : 860it [00:28, 29.84it/s]\n",
      "MAE/CA 19574.916021: : 860it [00:29, 29.62it/s]\n",
      "MAE/CA 19575.417013: : 860it [00:29, 29.61it/s]\n",
      "MAE/CA 19574.176679: : 860it [00:27, 31.18it/s]\n",
      "MAE/CA 19573.292295: : 860it [00:28, 30.39it/s]\n",
      "MAE/CA 19576.576478: : 860it [00:28, 30.34it/s]\n",
      "MAE/CA 19577.982708: : 860it [00:28, 29.86it/s]\n",
      "MAE/CA 19575.243330: : 860it [00:28, 30.20it/s]\n",
      "MAE/CA 19579.104045: : 860it [00:29, 29.54it/s]\n",
      "MAE/CA 19574.125852: : 860it [00:28, 29.84it/s]\n",
      "MAE/CA 19575.294561: : 860it [00:29, 29.53it/s]\n",
      "MAE/CA 19574.010902: : 860it [00:28, 30.11it/s]\n",
      "MAE/CA 19573.148133: : 860it [00:28, 29.74it/s]\n",
      "MAE/CA 19572.162971: : 860it [00:28, 29.87it/s]\n",
      "MAE/CA 19574.566002: : 860it [00:29, 29.46it/s]\n",
      "MAE/CA 19574.224773: : 860it [00:28, 29.86it/s]\n",
      "MAE/CA 19573.793219: : 860it [00:28, 30.45it/s]\n",
      "MAE/CA 19575.743523: : 860it [00:28, 29.89it/s]\n",
      "MAE/CA 19576.868595: : 860it [00:28, 30.71it/s]\n",
      "MAE/CA 19575.354846: : 860it [00:28, 29.75it/s]\n",
      "MAE/CA 19575.280503: : 860it [00:28, 29.80it/s]\n",
      "MAE/CA 19575.185891: : 860it [00:28, 29.77it/s]\n",
      "MAE/CA 19575.577631: : 860it [00:28, 29.72it/s]\n",
      "MAE/CA 19575.331308: : 860it [00:28, 29.90it/s]\n",
      "MAE/CA 19574.581477: : 860it [00:28, 29.66it/s]\n",
      "MAE/CA 19574.872711: : 860it [00:28, 30.24it/s]\n",
      "MAE/CA 19573.585740: : 860it [00:28, 29.85it/s]\n",
      "MAE/CA 19573.016496: : 860it [00:28, 30.08it/s]\n",
      "MAE/CA 19577.979727: : 860it [00:28, 29.78it/s]\n",
      "MAE/CA 19575.669470: : 860it [00:28, 30.10it/s]\n",
      "MAE/CA 19575.714146: : 860it [00:27, 30.74it/s]\n",
      "MAE/CA 19575.382099: : 860it [00:27, 30.74it/s]\n",
      "MAE/CA 19575.795547: : 860it [00:28, 30.17it/s]\n",
      "MAE/CA 19575.458485: : 860it [00:28, 29.72it/s]\n",
      "MAE/CA 19575.056635: : 860it [00:28, 29.90it/s]\n",
      "MAE/CA 19574.336026: : 860it [00:28, 29.75it/s]\n",
      "MAE/CA 19576.485444: : 860it [00:28, 29.82it/s]\n",
      "MAE/CA 19576.575329: : 860it [00:28, 29.77it/s]\n",
      "MAE/CA 19575.653254: : 860it [00:27, 30.92it/s]\n",
      "MAE/CA 19573.259315: : 860it [00:28, 30.09it/s]\n",
      "MAE/CA 19575.653611: : 860it [00:29, 29.40it/s]\n",
      "MAE/CA 19576.734105: : 860it [00:28, 29.73it/s]\n",
      "MAE/CA 19577.078257: : 860it [00:28, 30.36it/s]\n",
      "MAE/CA 19579.517442: : 860it [00:28, 29.72it/s]\n",
      "MAE/CA 19575.802186: : 860it [00:29, 29.55it/s]\n",
      "MAE/CA 19577.541144: : 860it [00:27, 30.72it/s]\n",
      "MAE/CA 19574.178019: : 860it [00:28, 30.00it/s]\n",
      "MAE/CA 19576.421771: : 860it [00:28, 30.19it/s]\n",
      "MAE/CA 19577.356645: : 860it [00:28, 30.05it/s]\n",
      "MAE/CA 19575.977333: : 860it [00:28, 29.94it/s]\n",
      "MAE/CA 19575.739022: : 860it [00:28, 30.64it/s]\n",
      "MAE/CA 19579.301795: : 860it [00:28, 29.95it/s]\n",
      "MAE/CA 19574.804003: : 860it [00:28, 29.87it/s]\n",
      "MAE/CA 19575.478766: : 860it [00:28, 29.80it/s]\n",
      "MAE/CA 19575.402959: : 860it [00:28, 30.06it/s]\n",
      "MAE/CA 19577.761912: : 860it [00:28, 29.78it/s]\n",
      "MAE/CA 19576.920808: : 860it [00:28, 29.79it/s]\n",
      "MAE/CA 19574.414437: : 860it [00:28, 29.94it/s]\n",
      "MAE/CA 19575.202451: : 860it [00:28, 29.94it/s]\n",
      "MAE/CA 19576.604881: : 860it [00:28, 30.32it/s]\n",
      "MAE/CA 19576.922685: : 860it [00:28, 29.94it/s]\n",
      "MAE/CA 19575.149723: : 860it [00:28, 29.66it/s]\n",
      "MAE/CA 19573.730551: : 860it [00:28, 29.72it/s]\n",
      "MAE/CA 19573.341283: : 860it [00:28, 29.79it/s]\n"
     ]
    },
    {
     "name": "stderr",
     "output_type": "stream",
     "text": [
      "MAE/CA 19576.027990: : 860it [00:28, 30.54it/s]\n",
      "MAE/CA 19577.854696: : 860it [00:29, 29.30it/s]\n",
      "MAE/CA 19576.710478: : 860it [00:28, 29.71it/s]\n",
      "MAE/CA 19576.929366: : 860it [00:28, 30.64it/s]\n",
      "MAE/CA 19573.339510: : 860it [00:28, 29.67it/s]\n",
      "MAE/CA 19575.293621: : 860it [00:28, 30.14it/s]\n",
      "MAE/CA 19577.350256: : 860it [00:28, 29.80it/s]\n",
      "MAE/CA 19576.278632: : 860it [00:28, 29.88it/s]\n",
      "MAE/CA 19573.517838: : 860it [00:29, 29.57it/s]\n",
      "MAE/CA 19576.143934: : 860it [00:28, 29.67it/s]\n",
      "MAE/CA 19575.509267: : 860it [00:28, 30.30it/s]\n",
      "MAE/CA 19576.705847: : 860it [00:27, 31.25it/s]\n",
      "MAE/CA 19576.411686: : 860it [00:28, 30.02it/s]\n",
      "MAE/CA 19575.862812: : 860it [00:29, 29.39it/s]\n",
      "MAE/CA 19574.459639: : 860it [00:28, 29.77it/s]\n",
      "MAE/CA 19574.247891: : 860it [00:28, 30.08it/s]\n",
      "MAE/CA 19575.746586: : 860it [00:29, 29.26it/s]\n",
      "MAE/CA 19576.273971: : 860it [00:28, 29.79it/s]\n",
      "MAE/CA 19578.487626: : 860it [00:28, 30.30it/s]\n",
      "MAE/CA 19575.992699: : 860it [00:28, 29.74it/s]\n",
      "MAE/CA 19577.003003: : 860it [00:29, 29.48it/s]\n",
      "MAE/CA 19576.365235: : 860it [00:28, 30.19it/s]\n",
      "MAE/CA 19573.587155: : 860it [00:28, 29.69it/s]\n",
      "MAE/CA 19576.718283: : 860it [00:28, 30.29it/s]\n",
      "MAE/CA 19575.603055: : 860it [00:28, 30.02it/s]\n",
      "MAE/CA 19575.950146: : 860it [00:29, 29.64it/s]\n",
      "MAE/CA 19573.789309: : 860it [00:28, 30.01it/s]\n",
      "MAE/CA 19575.017568: : 860it [00:28, 29.94it/s]\n",
      "MAE/CA 19578.777066: : 860it [00:28, 30.07it/s]\n",
      "MAE/CA 19573.500021: : 860it [00:28, 29.72it/s]\n",
      "MAE/CA 19577.647567: : 860it [00:28, 30.40it/s]\n",
      "MAE/CA 19575.915612: : 860it [00:27, 31.32it/s]\n",
      "MAE/CA 19575.123219: : 860it [00:28, 30.38it/s]\n",
      "MAE/CA 19577.664746: : 860it [00:28, 29.82it/s]\n",
      "MAE/CA 19575.775196: : 860it [00:27, 31.16it/s]\n",
      "MAE/CA 19576.050859: : 860it [00:28, 30.25it/s]\n",
      "MAE/CA 19578.682699: : 860it [00:28, 30.31it/s]\n",
      "MAE/CA 19575.795370: : 860it [00:28, 30.20it/s]\n",
      "MAE/CA 19575.755532: : 860it [00:28, 29.80it/s]\n",
      "MAE/CA 19574.868172: : 860it [00:27, 31.03it/s]\n",
      "MAE/CA 19576.592750: : 860it [00:28, 30.04it/s]\n",
      "MAE/CA 19574.728461: : 860it [00:28, 30.52it/s]\n",
      "MAE/CA 19574.176053: : 860it [00:28, 29.77it/s]\n",
      "MAE/CA 19574.173328: : 860it [00:28, 29.97it/s]\n",
      "MAE/CA 19576.112347: : 860it [00:29, 29.64it/s]\n",
      "MAE/CA 19573.979741: : 860it [00:28, 29.77it/s]\n",
      "MAE/CA 19577.428866: : 860it [00:28, 30.31it/s]\n",
      "MAE/CA 19573.471434: : 860it [00:28, 29.78it/s]\n",
      "MAE/CA 19576.329002: : 860it [00:29, 29.57it/s]\n",
      "MAE/CA 19576.220002: : 860it [00:27, 30.72it/s]\n",
      "MAE/CA 19575.308404: : 860it [00:28, 29.70it/s]\n",
      "MAE/CA 19576.842090: : 860it [00:29, 29.51it/s]\n",
      "MAE/CA 19574.404198: : 860it [00:28, 30.07it/s]\n",
      "MAE/CA 19576.551732: : 860it [00:28, 29.97it/s]\n",
      "MAE/CA 19574.238196: : 860it [00:28, 29.97it/s]\n",
      "MAE/CA 19576.254804: : 860it [00:28, 29.74it/s]\n",
      "MAE/CA 19573.423147: : 860it [00:28, 29.72it/s]\n",
      "MAE/CA 19577.656198: : 860it [00:28, 29.70it/s]\n",
      "MAE/CA 19573.756540: : 860it [00:28, 30.33it/s]\n",
      "MAE/CA 19574.105200: : 860it [00:28, 29.74it/s]\n",
      "MAE/CA 19573.913615: : 860it [00:28, 30.52it/s]\n",
      "MAE/CA 19579.536937: : 860it [00:28, 30.00it/s]\n",
      "MAE/CA 19573.795279: : 860it [00:28, 30.12it/s]\n",
      "MAE/CA 19577.607277: : 860it [00:28, 29.86it/s]\n",
      "MAE/CA 19577.306038: : 860it [00:27, 30.74it/s]\n",
      "MAE/CA 19575.055278: : 860it [00:28, 30.17it/s]\n",
      "MAE/CA 19575.557727: : 860it [00:28, 30.27it/s]\n",
      "MAE/CA 19577.102597: : 860it [00:29, 29.52it/s]\n",
      "MAE/CA 19575.438204: : 860it [00:28, 30.03it/s]\n",
      "MAE/CA 19576.392042: : 860it [00:29, 29.57it/s]\n",
      "MAE/CA 19579.624874: : 860it [00:28, 29.71it/s]\n",
      "MAE/CA 19576.738330: : 860it [00:27, 30.82it/s]\n",
      "MAE/CA 19577.685524: : 860it [00:28, 29.98it/s]\n",
      "MAE/CA 19577.287112: : 860it [00:28, 30.43it/s]\n",
      "MAE/CA 19576.297573: : 860it [00:28, 30.50it/s]\n",
      "MAE/CA 19575.970395: : 860it [00:28, 29.98it/s]\n",
      "MAE/CA 19575.306391: : 860it [00:28, 29.72it/s]\n",
      "MAE/CA 19577.744110: : 860it [00:28, 30.10it/s]\n",
      "MAE/CA 19574.997930: : 860it [00:28, 30.27it/s]\n",
      "MAE/CA 19575.647197: : 860it [00:29, 29.64it/s]\n",
      "MAE/CA 19578.638593: : 860it [00:27, 30.97it/s]\n",
      "MAE/CA 19578.178785: : 860it [00:28, 29.86it/s]\n",
      "MAE/CA 19572.818992: : 860it [00:28, 30.33it/s]\n",
      "MAE/CA 19579.458244: : 860it [00:29, 29.44it/s]\n",
      "MAE/CA 19576.828699: : 860it [00:28, 29.98it/s]\n",
      "MAE/CA 19574.929833: : 860it [00:28, 29.89it/s]\n",
      "MAE/CA 19576.780005: : 860it [00:28, 30.54it/s]\n",
      "MAE/CA 19577.149981: : 860it [00:28, 29.67it/s]\n",
      "MAE/CA 19576.656007: : 860it [00:28, 29.68it/s]\n",
      "MAE/CA 19577.570945: : 860it [00:28, 29.73it/s]\n",
      "MAE/CA 19573.442932: : 860it [00:28, 30.08it/s]\n",
      "MAE/CA 19572.543827: : 860it [00:28, 29.81it/s]\n",
      "MAE/CA 19576.729637: : 860it [00:29, 29.56it/s]\n",
      "MAE/CA 19575.110885: : 860it [00:29, 29.54it/s]\n",
      "MAE/CA 19573.881824: : 860it [00:28, 30.03it/s]\n",
      "MAE/CA 19575.438793: : 860it [00:28, 29.77it/s]\n",
      "MAE/CA 19574.235407: : 860it [00:28, 29.76it/s]\n",
      "MAE/CA 19576.120680: : 860it [00:28, 30.01it/s]\n",
      "MAE/CA 19573.849456: : 860it [00:28, 29.94it/s]\n",
      "MAE/CA 19576.245731: : 860it [00:28, 30.03it/s]\n",
      "MAE/CA 19580.933573: : 860it [00:28, 30.04it/s]\n",
      "MAE/CA 19574.930409: : 860it [00:28, 29.94it/s]\n",
      "MAE/CA 19576.549451: : 860it [00:27, 30.84it/s]\n",
      "MAE/CA 19576.557547: : 860it [00:28, 30.06it/s]\n",
      "MAE/CA 19579.362530: : 860it [00:28, 30.24it/s]\n",
      "MAE/CA 19574.955242: : 860it [00:28, 30.31it/s]\n",
      "MAE/CA 19574.962580: : 860it [00:28, 30.09it/s]\n",
      "MAE/CA 19576.247913: : 860it [00:28, 29.73it/s]\n",
      "MAE/CA 19575.279686: : 860it [00:28, 29.90it/s]\n",
      "MAE/CA 19578.303520: : 860it [00:28, 29.79it/s]\n",
      "MAE/CA 19579.257286: : 860it [00:28, 30.58it/s]\n",
      "MAE/CA 19574.032594: : 860it [00:28, 29.76it/s]\n",
      "MAE/CA 19577.050897: : 860it [00:28, 29.70it/s]\n",
      "MAE/CA 19576.693163: : 860it [00:28, 29.89it/s]\n",
      "MAE/CA 19578.583987: : 860it [00:28, 30.07it/s]\n",
      "MAE/CA 19577.735578: : 860it [00:28, 29.99it/s]\n",
      "MAE/CA 19580.122305: : 860it [00:28, 30.23it/s]\n",
      "MAE/CA 19576.009399: : 860it [00:28, 30.14it/s]\n",
      "MAE/CA 19574.460795: : 860it [00:28, 29.77it/s]\n",
      "MAE/CA 19576.279437: : 860it [00:28, 30.40it/s]\n",
      "MAE/CA 19578.161400: : 860it [00:28, 29.80it/s]\n",
      "MAE/CA 19574.833837: : 860it [00:28, 30.49it/s]\n",
      "MAE/CA 19575.064772: : 860it [00:28, 30.22it/s]\n",
      "MAE/CA 19577.216677: : 860it [00:29, 29.62it/s]\n",
      "MAE/CA 19578.015513: : 860it [00:28, 30.43it/s]\n",
      "MAE/CA 19577.583150: : 860it [00:28, 29.72it/s]\n",
      "MAE/CA 19582.146651: : 860it [00:29, 29.46it/s]\n",
      "MAE/CA 19572.886256: : 860it [00:29, 29.63it/s]\n",
      "MAE/CA 19572.404017: : 860it [00:28, 30.28it/s]\n",
      "MAE/CA 19578.832717: : 860it [00:28, 30.18it/s]\n",
      "MAE/CA 19575.264476: : 860it [00:28, 29.86it/s]\n",
      "MAE/CA 19577.753834: : 860it [00:28, 29.66it/s]\n",
      "MAE/CA 19578.893066: : 860it [00:28, 29.81it/s]\n",
      "MAE/CA 19573.924004: : 860it [00:27, 30.84it/s]\n",
      "MAE/CA 19574.229727: : 860it [00:29, 29.31it/s]\n",
      "MAE/CA 19575.619320: : 860it [00:28, 29.81it/s]\n",
      "MAE/CA 19578.511088: : 860it [00:28, 30.17it/s]\n",
      "MAE/CA 19577.590701: : 860it [00:28, 29.67it/s]\n",
      "MAE/CA 19577.856312: : 860it [00:28, 29.73it/s]\n",
      "MAE/CA 19573.952153: : 860it [00:28, 30.37it/s]\n",
      "MAE/CA 19576.173687: : 860it [00:29, 29.47it/s]\n",
      "MAE/CA 19574.325585: : 860it [00:28, 29.97it/s]\n",
      "MAE/CA 19577.464072: : 860it [00:28, 30.04it/s]\n",
      "MAE/CA 19577.642236: : 860it [00:29, 29.64it/s]\n",
      "MAE/CA 19574.227927: : 860it [00:28, 30.43it/s]\n",
      "MAE/CA 19576.588718: : 860it [00:29, 29.55it/s]\n",
      "MAE/CA 19577.624487: : 860it [00:28, 29.68it/s]\n",
      "MAE/CA 19574.508241: : 860it [00:28, 30.71it/s]\n",
      "MAE/CA 19573.059620: : 860it [00:29, 29.57it/s]\n",
      "MAE/CA 19576.652935: : 860it [00:28, 29.82it/s]\n",
      "MAE/CA 19576.623276: : 860it [00:29, 29.64it/s]\n",
      "MAE/CA 19577.520930: : 860it [00:29, 29.65it/s]\n",
      "MAE/CA 19574.167139: : 860it [00:28, 29.79it/s]\n",
      "MAE/CA 19574.187580: : 860it [00:28, 30.11it/s]\n",
      "MAE/CA 19577.099253: : 860it [00:28, 30.40it/s]\n",
      "MAE/CA 19573.966656: : 860it [00:28, 30.18it/s]\n",
      "MAE/CA 19573.627138: : 860it [00:28, 30.17it/s]\n",
      "MAE/CA 19575.578741: : 860it [00:28, 29.68it/s]\n",
      "MAE/CA 19575.814572: : 860it [00:28, 30.04it/s]\n",
      "MAE/CA 19576.795838: : 860it [00:29, 29.56it/s]\n",
      "MAE/CA 19575.935990: : 860it [00:28, 29.96it/s]\n",
      "MAE/CA 19575.891125: : 860it [00:28, 30.15it/s]\n",
      "MAE/CA 19576.393163: : 860it [00:28, 30.02it/s]\n",
      "MAE/CA 19575.583985: : 860it [00:29, 29.48it/s]\n",
      "MAE/CA 19576.671525: : 860it [00:28, 30.41it/s]\n",
      "MAE/CA 19574.658002: : 860it [00:28, 30.22it/s]\n",
      "MAE/CA 19577.065203: : 860it [00:28, 29.85it/s]\n",
      "MAE/CA 19573.225871: : 860it [00:29, 29.58it/s]\n",
      "MAE/CA 19576.881568: : 860it [00:28, 30.03it/s]\n",
      "MAE/CA 19577.769700: : 860it [00:28, 29.84it/s]\n"
     ]
    },
    {
     "name": "stderr",
     "output_type": "stream",
     "text": [
      "MAE/CA 19576.335371: : 860it [00:28, 30.22it/s]\n",
      "MAE/CA 19576.133275: : 860it [00:28, 29.93it/s]\n",
      "MAE/CA 19577.005327: : 860it [00:28, 30.08it/s]\n",
      "MAE/CA 19576.579211: : 860it [00:28, 29.71it/s]\n",
      "MAE/CA 19577.447487: : 860it [00:29, 29.47it/s]\n",
      "MAE/CA 19577.551520: : 860it [00:28, 29.68it/s]\n",
      "MAE/CA 19579.481986: : 860it [00:28, 30.01it/s]\n",
      "MAE/CA 19573.863761: : 860it [00:28, 30.39it/s]\n",
      "MAE/CA 19573.436374: : 860it [00:28, 30.49it/s]\n",
      "MAE/CA 19575.805605: : 860it [00:28, 29.81it/s]\n",
      "MAE/CA 19577.633046: : 860it [00:27, 30.72it/s]\n",
      "MAE/CA 19577.029289: : 860it [00:28, 29.87it/s]\n",
      "MAE/CA 19572.805304: : 860it [00:28, 29.93it/s]\n",
      "MAE/CA 19575.908891: : 860it [00:28, 29.98it/s]\n",
      "MAE/CA 19578.075635: : 860it [00:28, 30.26it/s]\n",
      "MAE/CA 19574.327248: : 860it [00:28, 30.42it/s]\n",
      "MAE/CA 19578.115525: : 860it [00:28, 30.40it/s]\n",
      "MAE/CA 19577.039228: : 860it [00:28, 29.83it/s]\n",
      "MAE/CA 19576.464372: : 860it [00:28, 30.58it/s]\n",
      "MAE/CA 19577.700495: : 860it [00:28, 29.92it/s]\n",
      "MAE/CA 19576.613665: : 860it [00:28, 29.92it/s]\n",
      "MAE/CA 19574.922934: : 860it [00:29, 29.36it/s]\n",
      "MAE/CA 19582.476387: : 860it [00:28, 30.50it/s]\n",
      "MAE/CA 19574.353859: : 860it [00:28, 29.87it/s]\n",
      "MAE/CA 19574.823957: : 860it [00:28, 29.98it/s]\n",
      "MAE/CA 19576.460198: : 860it [00:28, 30.26it/s]\n",
      "MAE/CA 19575.424635: : 860it [00:28, 29.78it/s]\n",
      "MAE/CA 19574.630127: : 860it [00:29, 29.58it/s]\n",
      "MAE/CA 19576.238710: : 860it [00:28, 30.22it/s]\n",
      "MAE/CA 19571.955707: : 860it [00:28, 29.70it/s]\n",
      "MAE/CA 19575.432892: : 860it [00:28, 29.75it/s]\n",
      "MAE/CA 19575.857788: : 860it [00:28, 30.16it/s]\n",
      "MAE/CA 19577.933728: : 860it [00:28, 30.10it/s]\n",
      "MAE/CA 19575.044954: : 860it [00:29, 29.55it/s]\n",
      "MAE/CA 19578.283266: : 860it [00:28, 30.34it/s]\n",
      "MAE/CA 19575.011799: : 860it [00:28, 29.70it/s]\n",
      "MAE/CA 19574.851223: : 860it [00:28, 29.79it/s]\n",
      "MAE/CA 19577.714754: : 860it [00:28, 30.61it/s]\n",
      "MAE/CA 19577.788376: : 860it [00:29, 29.43it/s]\n",
      "MAE/CA 19577.843302: : 860it [00:28, 30.06it/s]\n",
      "MAE/CA 19575.578086: : 860it [00:28, 29.97it/s]\n",
      "MAE/CA 19575.851924: : 860it [00:28, 29.92it/s]\n",
      "MAE/CA 19576.252429: : 860it [00:28, 30.27it/s]\n",
      "MAE/CA 19577.103176: : 860it [00:28, 30.64it/s]\n",
      "MAE/CA 19575.280942: : 860it [00:28, 29.85it/s]\n",
      "MAE/CA 19574.884832: : 860it [00:28, 29.69it/s]\n",
      "MAE/CA 19575.522592: : 860it [00:28, 29.68it/s]\n",
      "MAE/CA 19573.179561: : 860it [00:28, 30.46it/s]\n",
      "MAE/CA 19574.740234: : 860it [00:28, 29.96it/s]\n",
      "MAE/CA 19574.319366: : 860it [00:28, 30.18it/s]\n",
      "MAE/CA 19578.173853: : 860it [00:28, 29.75it/s]\n",
      "MAE/CA 19576.814012: : 860it [00:28, 30.27it/s]\n",
      "MAE/CA 19576.300300: : 860it [00:28, 30.24it/s]\n",
      "MAE/CA 19574.763344: : 860it [00:28, 29.95it/s]\n",
      "MAE/CA 19575.948257: : 860it [00:29, 29.57it/s]\n",
      "MAE/CA 19574.769620: : 860it [00:28, 29.79it/s]\n",
      "MAE/CA 19574.221704: : 860it [00:27, 31.36it/s]\n",
      "MAE/CA 19574.454462: : 860it [00:27, 31.08it/s]\n",
      "MAE/CA 19576.790649: : 860it [00:28, 30.60it/s]\n",
      "MAE/CA 19576.377350: : 860it [00:28, 29.72it/s]\n",
      "MAE/CA 19572.364176: : 860it [00:28, 29.85it/s]\n",
      "MAE/CA 19575.448113: : 860it [00:29, 29.56it/s]\n",
      "MAE/CA 19577.493666: : 860it [00:28, 30.08it/s]\n",
      "MAE/CA 19577.505899: : 860it [00:28, 30.17it/s]\n",
      "MAE/CA 19574.057563: : 860it [00:28, 29.82it/s]\n",
      "MAE/CA 19573.628488: : 860it [00:28, 29.83it/s]\n",
      "MAE/CA 19575.574996: : 860it [00:29, 29.40it/s]\n",
      "MAE/CA 19575.468406: : 860it [00:28, 29.85it/s]\n",
      "MAE/CA 19575.573798: : 860it [00:28, 30.00it/s]\n",
      "MAE/CA 19575.659632: : 860it [00:28, 29.68it/s]\n",
      "MAE/CA 19573.821011: : 860it [00:29, 29.48it/s]\n",
      "MAE/CA 19575.004843: : 860it [00:28, 29.84it/s]\n",
      "MAE/CA 19572.818135: : 860it [00:29, 29.52it/s]\n",
      "MAE/CA 19578.642350: : 860it [00:28, 30.07it/s]\n",
      "MAE/CA 19574.918283: : 860it [00:29, 29.59it/s]\n",
      "MAE/CA 19573.384891: : 860it [00:28, 29.68it/s]\n",
      "MAE/CA 19576.144518: : 860it [00:28, 30.24it/s]\n",
      "MAE/CA 19575.258713: : 860it [00:28, 30.20it/s]\n",
      "MAE/CA 19576.254421: : 860it [00:28, 29.88it/s]\n",
      "MAE/CA 19576.457474: : 860it [00:28, 29.72it/s]\n",
      "MAE/CA 19576.311145: : 860it [00:28, 29.85it/s]\n",
      "MAE/CA 19577.054122: : 860it [00:28, 29.69it/s]\n",
      "MAE/CA 19578.476749: : 860it [00:29, 29.59it/s]\n",
      "MAE/CA 19579.343351: : 860it [00:29, 29.50it/s]\n",
      "MAE/CA 19574.491878: : 860it [00:28, 29.75it/s]\n",
      "MAE/CA 19576.403087: : 860it [00:29, 29.61it/s]\n",
      "MAE/CA 19573.959932: : 860it [00:28, 29.79it/s]\n",
      "MAE/CA 19573.581791: : 860it [00:29, 29.45it/s]\n",
      "MAE/CA 19575.026347: : 860it [00:28, 29.79it/s]\n",
      "MAE/CA 19572.908554: : 860it [00:28, 29.74it/s]\n",
      "MAE/CA 19574.382947: : 860it [00:29, 29.44it/s]\n",
      "MAE/CA 19574.409463: : 860it [00:28, 29.82it/s]\n",
      "MAE/CA 19578.041186: : 860it [00:28, 29.71it/s]\n",
      "MAE/CA 19573.680771: : 860it [00:28, 29.77it/s]\n",
      "MAE/CA 19579.318191: : 860it [00:29, 29.45it/s]\n",
      "MAE/CA 19572.263704: : 860it [00:28, 29.97it/s]\n",
      "MAE/CA 19573.346046: : 860it [00:28, 29.74it/s]\n",
      "MAE/CA 19578.351647: : 860it [00:28, 29.92it/s]\n",
      "MAE/CA 19575.100454: : 860it [00:28, 30.11it/s]\n",
      "MAE/CA 19574.084311: : 860it [00:28, 30.56it/s]\n",
      "MAE/CA 19576.676640: : 860it [00:28, 29.86it/s]\n",
      "MAE/CA 19574.533193: : 860it [00:28, 30.29it/s]\n",
      "MAE/CA 19577.169151: : 860it [00:28, 30.12it/s]\n",
      "MAE/CA 19575.679474: : 860it [00:28, 29.75it/s]\n",
      "MAE/CA 19578.354397: : 860it [00:28, 29.80it/s]\n",
      "MAE/CA 19575.458625: : 860it [00:28, 30.20it/s]\n",
      "MAE/CA 19576.937904: : 860it [00:28, 29.95it/s]\n",
      "MAE/CA 19574.785187: : 860it [00:28, 29.98it/s]\n",
      "MAE/CA 19573.067341: : 860it [00:28, 29.99it/s]\n",
      "MAE/CA 19576.136031: : 860it [00:28, 29.86it/s]\n",
      "MAE/CA 19577.330171: : 860it [00:28, 30.62it/s]\n",
      "MAE/CA 19576.623527: : 860it [00:28, 30.55it/s]\n",
      "MAE/CA 19574.870375: : 860it [00:28, 29.84it/s]\n",
      "MAE/CA 19575.223610: : 860it [00:28, 29.87it/s]\n",
      "MAE/CA 19575.729859: : 860it [00:28, 29.75it/s]\n",
      "MAE/CA 19574.516137: : 860it [00:29, 29.63it/s]\n",
      "MAE/CA 19575.916805: : 860it [00:28, 29.91it/s]\n",
      "MAE/CA 19577.649896: : 860it [00:28, 29.90it/s]\n",
      "MAE/CA 19575.256341: : 860it [00:28, 29.78it/s]\n",
      "MAE/CA 19575.327413: : 860it [00:28, 29.74it/s]\n",
      "MAE/CA 19574.364228: : 860it [00:28, 30.00it/s]\n",
      "MAE/CA 19574.017588: : 860it [00:28, 30.28it/s]\n",
      "MAE/CA 19576.618356: : 860it [00:28, 29.66it/s]\n",
      "MAE/CA 19573.688355: : 860it [00:29, 29.54it/s]\n",
      "MAE/CA 19573.693458: : 860it [00:28, 29.66it/s]\n",
      "MAE/CA 19576.950981: : 860it [00:27, 31.40it/s]\n",
      "MAE/CA 19573.391800: : 860it [00:28, 29.85it/s]\n",
      "MAE/CA 19576.725314: : 860it [00:29, 29.60it/s]\n",
      "MAE/CA 19573.246768: : 860it [00:29, 29.61it/s]\n",
      "MAE/CA 19577.980508: : 860it [00:28, 29.96it/s]\n",
      "MAE/CA 19579.289869: : 860it [00:27, 30.74it/s]\n",
      "MAE/CA 19578.636411: : 860it [00:28, 29.82it/s]\n",
      "MAE/CA 19575.391001: : 860it [00:28, 29.88it/s]\n",
      "MAE/CA 19575.424982: : 860it [00:29, 29.60it/s]\n",
      "MAE/CA 19573.637610: : 860it [00:28, 29.67it/s]\n",
      "MAE/CA 19574.563899: : 860it [00:28, 29.66it/s]\n",
      "MAE/CA 19577.291108: : 860it [00:28, 29.67it/s]\n",
      "MAE/CA 19576.527921: : 860it [00:28, 29.92it/s]\n",
      "MAE/CA 19574.454871: : 860it [00:28, 29.79it/s]\n",
      "MAE/CA 19575.672060: : 860it [00:29, 29.25it/s]\n",
      "MAE/CA 19577.369945: : 860it [00:28, 29.76it/s]\n",
      "MAE/CA 19577.165852: : 860it [00:28, 29.72it/s]\n",
      "MAE/CA 19574.757785: : 860it [00:29, 29.62it/s]\n",
      "MAE/CA 19573.805913: : 860it [00:29, 29.39it/s]\n",
      "MAE/CA 19576.624641: : 860it [00:28, 30.14it/s]\n",
      "MAE/CA 19571.878114: : 860it [00:28, 30.49it/s]\n",
      "MAE/CA 19577.006695: : 860it [00:28, 30.20it/s]\n",
      "MAE/CA 19573.686482: : 860it [00:27, 30.73it/s]\n",
      "MAE/CA 19578.999910: : 860it [00:28, 29.85it/s]\n",
      "MAE/CA 19577.842991: : 860it [00:28, 29.83it/s]\n",
      "MAE/CA 19577.983817: : 860it [00:28, 29.71it/s]\n",
      "MAE/CA 19576.186579: : 860it [00:28, 30.17it/s]\n",
      "MAE/CA 19576.012984: : 860it [00:28, 29.96it/s]\n",
      "MAE/CA 19574.034425: : 860it [00:28, 29.86it/s]\n",
      "MAE/CA 19576.898058: : 860it [00:28, 29.91it/s]\n",
      "MAE/CA 19575.966681: : 860it [00:27, 31.06it/s]\n",
      "MAE/CA 19579.087570: : 860it [00:29, 29.36it/s]\n",
      "MAE/CA 19577.380122: : 860it [00:29, 29.36it/s]\n",
      "MAE/CA 19576.245424: : 860it [00:28, 29.66it/s]\n",
      "MAE/CA 19575.495195: : 860it [00:28, 29.67it/s]\n",
      "MAE/CA 19574.375623: : 860it [00:28, 29.66it/s]\n",
      "MAE/CA 19577.572534: : 860it [00:28, 30.71it/s]\n",
      "MAE/CA 19576.040141: : 860it [00:27, 31.00it/s]\n",
      "MAE/CA 19573.462327: : 860it [00:28, 29.76it/s]\n",
      "MAE/CA 19573.976191: : 860it [00:28, 29.73it/s]\n",
      "MAE/CA 19577.164256: : 860it [00:28, 30.20it/s]\n",
      "MAE/CA 19577.949289: : 860it [00:29, 29.66it/s]\n",
      "MAE/CA 19574.355536: : 860it [00:28, 30.62it/s]\n",
      "MAE/CA 19575.428798: : 860it [00:28, 30.50it/s]\n",
      "MAE/CA 19577.729013: : 860it [00:28, 29.92it/s]\n"
     ]
    },
    {
     "name": "stderr",
     "output_type": "stream",
     "text": [
      "MAE/CA 19579.204900: : 860it [00:28, 29.91it/s]\n",
      "MAE/CA 19573.991482: : 860it [00:28, 30.44it/s]\n",
      "MAE/CA 19573.590327: : 860it [00:28, 29.79it/s]\n",
      "MAE/CA 19577.099722: : 860it [00:28, 30.10it/s]\n",
      "MAE/CA 19576.546555: : 860it [00:28, 29.76it/s]\n",
      "MAE/CA 19575.481120: : 860it [00:28, 29.94it/s]\n",
      "MAE/CA 19576.423907: : 860it [00:29, 29.45it/s]\n",
      "MAE/CA 19576.113593: : 860it [00:28, 30.69it/s]\n",
      "MAE/CA 19573.629472: : 860it [00:28, 29.97it/s]\n",
      "MAE/CA 19576.518906: : 860it [00:27, 30.72it/s]\n",
      "MAE/CA 19573.490383: : 860it [00:28, 29.67it/s]\n",
      "MAE/CA 19576.038467: : 860it [00:28, 29.81it/s]\n",
      "MAE/CA 19577.616830: : 860it [00:28, 29.94it/s]\n",
      "MAE/CA 19577.016568: : 860it [00:27, 31.13it/s]\n",
      "MAE/CA 19576.313778: : 860it [00:28, 29.76it/s]\n",
      "MAE/CA 19575.960135: : 860it [00:28, 29.76it/s]\n",
      "MAE/CA 19580.176984: : 860it [00:29, 29.36it/s]\n",
      "MAE/CA 19573.475661: : 860it [00:28, 29.97it/s]\n",
      "MAE/CA 19574.525827: : 860it [00:28, 29.99it/s]\n",
      "MAE/CA 19573.495884: : 860it [00:27, 30.90it/s]\n",
      "MAE/CA 19573.026929: : 860it [00:27, 31.72it/s]\n",
      "MAE/CA 19575.574973: : 860it [00:28, 29.86it/s]\n",
      "MAE/CA 19574.811370: : 860it [00:28, 29.88it/s]\n",
      "MAE/CA 19576.890557: : 860it [00:29, 29.63it/s]\n",
      "MAE/CA 19572.259338: : 860it [00:28, 29.75it/s]\n",
      "MAE/CA 19575.705666: : 860it [00:29, 29.51it/s]\n",
      "MAE/CA 19575.320012: : 860it [00:28, 29.93it/s]\n",
      "MAE/CA 19575.917830: : 860it [00:28, 29.99it/s]\n",
      "MAE/CA 19574.703783: : 860it [00:28, 30.14it/s]\n",
      "MAE/CA 19574.279344: : 860it [00:28, 29.66it/s]\n",
      "MAE/CA 19573.907461: : 860it [00:29, 29.55it/s]\n",
      "MAE/CA 19577.012371: : 860it [00:28, 29.71it/s]\n",
      "MAE/CA 19575.330283: : 860it [00:28, 29.78it/s]\n",
      "MAE/CA 19576.654294: : 860it [00:29, 29.58it/s]\n",
      "MAE/CA 19578.418588: : 860it [00:28, 29.90it/s]\n",
      "MAE/CA 19578.243172: : 860it [00:28, 29.96it/s]\n",
      "MAE/CA 19575.606970: : 860it [00:28, 29.87it/s]\n",
      "MAE/CA 19574.812305: : 860it [00:28, 29.78it/s]\n",
      "MAE/CA 19575.999706: : 860it [00:28, 29.90it/s]\n",
      "MAE/CA 19576.168292: : 860it [00:28, 30.17it/s]\n",
      "MAE/CA 19576.997366: : 860it [00:29, 29.45it/s]\n",
      "MAE/CA 19578.322065: : 860it [00:28, 30.21it/s]\n",
      "MAE/CA 19575.673484: : 860it [00:28, 30.11it/s]\n",
      "MAE/CA 19577.630787: : 860it [00:28, 30.22it/s]\n",
      "MAE/CA 19574.307099: : 860it [00:28, 29.89it/s]\n",
      "MAE/CA 19575.358810: : 860it [00:29, 29.32it/s]\n",
      "MAE/CA 19574.235979: : 860it [00:29, 29.56it/s]\n",
      "MAE/CA 19579.173547: : 860it [00:28, 30.11it/s]\n",
      "MAE/CA 19574.447364: : 860it [00:28, 29.74it/s]\n",
      "MAE/CA 19573.956211: : 860it [00:28, 29.99it/s]\n",
      "MAE/CA 19576.020888: : 860it [00:28, 29.77it/s]\n",
      "MAE/CA 19573.348568: : 860it [00:28, 29.96it/s]\n",
      "MAE/CA 19575.710974: : 860it [00:28, 29.90it/s]\n",
      "MAE/CA 19575.114828: : 860it [00:29, 29.56it/s]\n",
      "MAE/CA 19577.341398: : 860it [00:29, 29.61it/s]\n",
      "MAE/CA 19576.289679: : 860it [00:28, 29.66it/s]\n",
      "MAE/CA 19571.914764: : 860it [00:28, 30.20it/s]\n",
      "MAE/CA 19574.714694: : 860it [00:28, 30.10it/s]\n",
      "MAE/CA 19576.656182: : 860it [00:28, 30.29it/s]\n",
      "MAE/CA 19576.995005: : 860it [00:29, 29.51it/s]\n",
      "MAE/CA 19576.510594: : 860it [00:28, 30.23it/s]\n",
      "MAE/CA 19577.959266: : 860it [00:28, 30.44it/s]\n",
      "MAE/CA 19574.393613: : 860it [00:28, 29.83it/s]\n",
      "MAE/CA 19577.959258: : 860it [00:29, 29.46it/s]\n",
      "MAE/CA 19575.893315: : 860it [00:28, 29.81it/s]\n",
      "MAE/CA 19574.905249: : 860it [00:28, 30.05it/s]\n",
      "MAE/CA 19576.939817: : 860it [00:28, 30.69it/s]\n",
      "MAE/CA 19576.635123: : 860it [00:28, 29.81it/s]\n",
      "MAE/CA 19576.550055: : 860it [00:28, 30.07it/s]\n",
      "MAE/CA 19577.656424: : 860it [00:28, 29.67it/s]\n",
      "MAE/CA 19574.759710: : 860it [00:28, 29.69it/s]\n",
      "MAE/CA 19576.619257: : 860it [00:28, 29.82it/s]\n",
      "MAE/CA 19573.421726: : 860it [00:28, 30.19it/s]\n",
      "MAE/CA 19578.238567: : 860it [00:28, 30.16it/s]\n",
      "MAE/CA 19575.349543: : 860it [00:28, 30.26it/s]\n",
      "MAE/CA 19578.653332: : 860it [00:27, 30.90it/s]\n",
      "MAE/CA 19576.795906: : 860it [00:28, 29.66it/s]\n",
      "MAE/CA 19576.060307: : 860it [00:29, 29.28it/s]\n",
      "MAE/CA 19576.821356: : 860it [00:28, 30.18it/s]\n",
      "MAE/CA 19574.860740: : 860it [00:29, 29.54it/s]\n",
      "MAE/CA 19573.722784: : 860it [00:29, 29.55it/s]\n",
      "MAE/CA 19574.197267: : 860it [00:29, 29.51it/s]\n",
      "MAE/CA 19572.787576: : 860it [00:28, 29.78it/s]\n",
      "MAE/CA 19578.833430: : 860it [00:28, 29.90it/s]\n",
      "MAE/CA 19576.214152: : 860it [00:28, 30.03it/s]\n",
      "MAE/CA 19575.272585: : 860it [00:29, 29.46it/s]\n",
      "MAE/CA 19577.264748: : 860it [00:29, 29.61it/s]\n",
      "MAE/CA 19577.749835: : 860it [00:29, 29.61it/s]\n",
      "MAE/CA 19574.558720: : 860it [00:28, 29.97it/s]\n",
      "MAE/CA 19574.677217: : 860it [00:27, 30.95it/s]\n",
      "MAE/CA 19576.837492: : 860it [00:29, 29.42it/s]\n",
      "MAE/CA 19573.988317: : 860it [00:28, 30.30it/s]\n",
      "MAE/CA 19578.178388: : 860it [00:28, 29.84it/s]\n",
      "MAE/CA 19577.219658: : 860it [00:28, 29.85it/s]\n",
      "MAE/CA 19574.579455: : 860it [00:29, 29.56it/s]\n",
      "MAE/CA 19571.502189: : 860it [00:28, 30.07it/s]\n",
      "MAE/CA 19576.107097: : 860it [00:29, 29.57it/s]\n",
      "MAE/CA 19578.972615: : 860it [00:28, 29.72it/s]\n",
      "MAE/CA 19575.274147: : 860it [00:28, 29.85it/s]\n",
      "MAE/CA 19575.827830: : 860it [00:28, 30.37it/s]\n",
      "MAE/CA 19576.182286: : 860it [00:28, 29.67it/s]\n",
      "MAE/CA 19575.324731: : 860it [00:29, 29.56it/s]\n",
      "MAE/CA 19574.524012: : 860it [00:28, 30.60it/s]\n",
      "MAE/CA 19574.276179: : 860it [00:28, 30.20it/s]\n",
      "MAE/CA 19577.073799: : 860it [00:28, 29.70it/s]\n",
      "MAE/CA 19577.038596: : 860it [00:28, 30.14it/s]\n",
      "MAE/CA 19577.592108: : 860it [00:29, 29.54it/s]\n",
      "MAE/CA 19578.472884: : 860it [00:28, 29.88it/s]\n",
      "MAE/CA 19575.750655: : 860it [00:28, 29.73it/s]\n",
      "MAE/CA 19575.939453: : 860it [00:28, 29.85it/s]\n",
      "MAE/CA 19574.600994: : 860it [00:28, 29.93it/s]\n",
      "MAE/CA 19576.000983: : 860it [00:28, 29.78it/s]\n",
      "MAE/CA 19574.543306: : 860it [00:29, 29.62it/s]\n",
      "MAE/CA 19576.234580: : 860it [00:28, 29.84it/s]\n",
      "MAE/CA 19577.300070: : 860it [00:28, 30.49it/s]\n",
      "MAE/CA 19575.974947: : 860it [00:28, 29.67it/s]\n",
      "MAE/CA 19573.624545: : 860it [00:28, 29.70it/s]\n",
      "MAE/CA 19575.147519: : 860it [00:28, 29.85it/s]\n",
      "MAE/CA 19575.527469: : 860it [00:29, 29.62it/s]\n",
      "MAE/CA 19576.875049: : 860it [00:29, 29.41it/s]\n",
      "MAE/CA 19578.605692: : 860it [00:27, 30.87it/s]\n",
      "MAE/CA 19575.570971: : 860it [00:28, 29.73it/s]\n",
      "MAE/CA 19575.878561: : 860it [00:29, 29.54it/s]\n",
      "MAE/CA 19577.397426: : 860it [00:29, 29.65it/s]\n",
      "MAE/CA 19575.469532: : 860it [00:28, 30.24it/s]\n",
      "MAE/CA 19577.883314: : 860it [00:28, 29.93it/s]\n",
      "MAE/CA 19578.291048: : 860it [00:27, 31.15it/s]\n",
      "MAE/CA 19575.236573: : 860it [00:29, 29.46it/s]\n",
      "MAE/CA 19578.413011: : 860it [00:29, 29.45it/s]\n",
      "MAE/CA 19577.264739: : 860it [00:28, 30.21it/s]\n",
      "MAE/CA 19579.521908: : 860it [00:28, 30.42it/s]\n",
      "MAE/CA 19575.843480: : 860it [00:28, 29.72it/s]\n",
      "MAE/CA 19577.673698: : 860it [00:29, 29.52it/s]\n",
      "MAE/CA 19576.279979: : 860it [00:29, 29.65it/s]\n",
      "MAE/CA 19575.058247: : 860it [00:29, 29.51it/s]\n",
      "MAE/CA 19580.126897: : 860it [00:29, 29.60it/s]\n",
      "MAE/CA 19573.924317: : 860it [00:29, 29.55it/s]\n",
      "MAE/CA 19575.677319: : 860it [00:28, 29.67it/s]\n",
      "MAE/CA 19575.023059: : 860it [00:29, 29.65it/s]\n",
      "MAE/CA 19574.788080: : 860it [00:28, 30.15it/s]\n",
      "MAE/CA 19576.513380: : 860it [00:29, 29.32it/s]\n",
      "MAE/CA 19575.894637: : 860it [00:29, 29.48it/s]\n",
      "MAE/CA 19573.770643: : 860it [00:28, 30.03it/s]\n",
      "MAE/CA 19572.908128: : 860it [00:29, 29.59it/s]\n",
      "MAE/CA 19573.053480: : 860it [00:28, 29.76it/s]\n",
      "MAE/CA 19577.322188: : 860it [00:28, 29.95it/s]\n",
      "MAE/CA 19575.317340: : 860it [00:29, 29.53it/s]\n",
      "MAE/CA 19575.886307: : 860it [00:28, 30.46it/s]\n",
      "MAE/CA 19574.840406: : 860it [00:29, 29.60it/s]\n",
      "MAE/CA 19577.846506: : 860it [00:29, 29.64it/s]\n",
      "MAE/CA 19575.467635: : 860it [00:28, 29.67it/s]\n",
      "MAE/CA 19576.551290: : 860it [00:28, 29.79it/s]\n",
      "MAE/CA 19574.112468: : 860it [00:28, 29.75it/s]\n",
      "MAE/CA 19576.891202: : 860it [00:27, 31.70it/s]\n",
      "MAE/CA 19572.752152: : 860it [00:29, 29.51it/s]\n",
      "MAE/CA 19576.836107: : 860it [00:28, 29.98it/s]\n",
      "MAE/CA 19573.335775: : 860it [00:28, 29.70it/s]\n",
      "MAE/CA 19573.490425: : 860it [00:29, 29.34it/s]\n",
      "MAE/CA 19575.677665: : 860it [00:28, 29.98it/s]\n",
      "MAE/CA 19574.946848: : 860it [00:28, 30.20it/s]\n",
      "MAE/CA 19575.249488: : 860it [00:28, 29.95it/s]\n",
      "MAE/CA 19575.252618: : 860it [00:28, 29.79it/s]\n",
      "MAE/CA 19577.343537: : 860it [00:28, 29.79it/s]\n",
      "MAE/CA 19577.040223: : 860it [00:27, 30.95it/s]\n",
      "MAE/CA 19574.823102: : 860it [00:29, 29.56it/s]\n",
      "MAE/CA 19575.080882: : 860it [00:27, 30.78it/s]\n",
      "MAE/CA 19573.752160: : 860it [00:27, 31.52it/s]\n",
      "MAE/CA 19574.107096: : 860it [00:28, 30.00it/s]\n",
      "MAE/CA 19575.649741: : 860it [00:29, 29.52it/s]\n",
      "MAE/CA 19573.541423: : 860it [00:28, 29.79it/s]\n"
     ]
    },
    {
     "name": "stderr",
     "output_type": "stream",
     "text": [
      "MAE/CA 19576.606672: : 860it [00:28, 29.81it/s]\n",
      "MAE/CA 19575.467916: : 860it [00:28, 29.86it/s]\n",
      "MAE/CA 19575.872464: : 860it [00:28, 30.31it/s]\n",
      "MAE/CA 19575.528966: : 860it [00:28, 30.02it/s]\n",
      "MAE/CA 19572.275099: : 860it [00:28, 29.84it/s]\n",
      "MAE/CA 19576.626664: : 860it [00:28, 29.78it/s]\n",
      "MAE/CA 19572.911373: : 860it [00:28, 30.14it/s]\n",
      "MAE/CA 19575.738380: : 860it [00:28, 29.67it/s]\n",
      "MAE/CA 19575.702827: : 860it [00:28, 30.27it/s]\n",
      "MAE/CA 19574.928719: : 860it [00:28, 30.19it/s]\n",
      "MAE/CA 19575.973752: : 860it [00:28, 30.04it/s]\n",
      "MAE/CA 19577.155175: : 860it [00:28, 30.61it/s]\n",
      "MAE/CA 19576.021372: : 860it [00:29, 29.64it/s]\n",
      "MAE/CA 19574.743578: : 860it [00:27, 31.32it/s]\n",
      "MAE/CA 19578.928731: : 860it [00:29, 29.46it/s]\n",
      "MAE/CA 19576.988513: : 860it [00:29, 29.38it/s]\n",
      "MAE/CA 19575.976427: : 860it [00:28, 29.68it/s]\n",
      "MAE/CA 19574.711529: : 860it [00:28, 30.37it/s]\n",
      "MAE/CA 19576.785671: : 860it [00:28, 30.09it/s]\n",
      "MAE/CA 19576.955899: : 860it [00:29, 29.57it/s]\n",
      "MAE/CA 19575.938496: : 860it [00:28, 29.76it/s]\n",
      "MAE/CA 19578.442592: : 860it [00:29, 29.30it/s]\n",
      "MAE/CA 19576.985260: : 860it [00:28, 30.19it/s]\n",
      "MAE/CA 19578.896057: : 860it [00:28, 29.91it/s]\n",
      "MAE/CA 19574.457847: : 860it [00:28, 29.79it/s]\n",
      "MAE/CA 19577.618393: : 860it [00:28, 29.68it/s]\n",
      "MAE/CA 19576.568168: : 860it [00:29, 29.59it/s]\n",
      "MAE/CA 19577.456932: : 860it [00:29, 29.40it/s]\n",
      "MAE/CA 19577.793355: : 860it [00:28, 29.75it/s]\n",
      "MAE/CA 19575.782130: : 860it [00:29, 29.46it/s]\n",
      "MAE/CA 19576.642460: : 860it [00:28, 29.86it/s]\n",
      "MAE/CA 19576.009968: : 860it [00:28, 30.19it/s]\n",
      "MAE/CA 19575.334809: : 860it [00:28, 30.17it/s]\n",
      "MAE/CA 19572.528254: : 860it [00:28, 30.44it/s]\n",
      "MAE/CA 19576.683714: : 860it [00:28, 29.76it/s]\n",
      "MAE/CA 19575.408572: : 860it [00:28, 29.73it/s]\n",
      "MAE/CA 19575.517639: : 860it [00:29, 29.62it/s]\n",
      "MAE/CA 19574.584448: : 860it [00:28, 29.88it/s]\n",
      "MAE/CA 19573.145746: : 860it [00:28, 29.91it/s]\n",
      "MAE/CA 19577.041340: : 860it [00:29, 29.46it/s]\n",
      "MAE/CA 19578.595132: : 860it [00:28, 29.95it/s]\n",
      "MAE/CA 19577.688760: : 860it [00:29, 29.33it/s]\n",
      "MAE/CA 19574.176233: : 860it [00:29, 29.34it/s]\n",
      "MAE/CA 19577.327793: : 860it [00:29, 29.42it/s]\n",
      "MAE/CA 19577.162902: : 860it [00:28, 29.70it/s]\n",
      "MAE/CA 19575.895862: : 860it [00:29, 29.52it/s]\n",
      "MAE/CA 19576.323808: : 860it [00:28, 30.61it/s]\n",
      "MAE/CA 19575.713256: : 860it [00:28, 30.64it/s]\n",
      "MAE/CA 19578.016728: : 860it [00:28, 29.85it/s]\n",
      "MAE/CA 19571.839584: : 860it [00:28, 29.77it/s]\n",
      "MAE/CA 19573.056661: : 860it [00:29, 29.44it/s]\n",
      "MAE/CA 19573.509587: : 860it [00:28, 30.09it/s]\n",
      "MAE/CA 19575.751825: : 860it [00:28, 29.78it/s]\n",
      "MAE/CA 19576.744552: : 860it [00:29, 29.55it/s]\n",
      "MAE/CA 19575.346139: : 860it [00:28, 29.76it/s]\n",
      "MAE/CA 19579.796779: : 860it [00:29, 29.64it/s]\n",
      "MAE/CA 19577.073952: : 860it [00:29, 29.63it/s]\n",
      "MAE/CA 19574.207165: : 860it [00:28, 29.80it/s]\n",
      "MAE/CA 19574.994529: : 860it [00:28, 30.03it/s]\n",
      "MAE/CA 19574.027052: : 860it [00:29, 29.64it/s]\n",
      "MAE/CA 19575.165612: : 860it [00:28, 29.83it/s]\n",
      "MAE/CA 19578.653791: : 860it [00:28, 29.76it/s]\n",
      "MAE/CA 19576.210231: : 860it [00:28, 30.15it/s]\n",
      "MAE/CA 19576.101716: : 860it [00:29, 29.45it/s]\n",
      "MAE/CA 19575.151997: : 860it [00:28, 29.71it/s]\n",
      "MAE/CA 19575.557135: : 860it [00:28, 29.99it/s]\n",
      "MAE/CA 19574.446851: : 860it [00:29, 29.46it/s]\n",
      "MAE/CA 19575.790960: : 860it [00:28, 29.95it/s]\n",
      "MAE/CA 19575.460484: : 860it [00:28, 29.75it/s]\n",
      "MAE/CA 19576.586624: : 860it [00:28, 29.84it/s]\n",
      "MAE/CA 19575.201380: : 860it [00:28, 29.71it/s]\n",
      "MAE/CA 19578.653009: : 860it [00:28, 29.84it/s]\n",
      "MAE/CA 19575.289339: : 860it [00:28, 30.04it/s]\n",
      "MAE/CA 19578.684858: : 860it [00:28, 29.73it/s]\n",
      "MAE/CA 19576.654688: : 860it [00:28, 29.66it/s]\n",
      "MAE/CA 19577.858538: : 860it [00:28, 30.12it/s]\n",
      "MAE/CA 19579.011830: : 860it [00:28, 29.80it/s]\n",
      "MAE/CA 19577.095949: : 860it [00:28, 30.13it/s]\n",
      "MAE/CA 19576.978724: : 860it [00:28, 29.83it/s]\n",
      "MAE/CA 19576.091981: : 860it [00:28, 30.12it/s]\n",
      "MAE/CA 19572.746456: : 860it [00:28, 29.91it/s]\n",
      "MAE/CA 19573.445675: : 860it [00:29, 29.56it/s]\n",
      "MAE/CA 19577.819509: : 860it [00:29, 29.65it/s]\n",
      "MAE/CA 19575.907374: : 860it [00:28, 29.72it/s]\n",
      "MAE/CA 19575.277195: : 860it [00:29, 29.33it/s]\n",
      "MAE/CA 19574.519872: : 860it [00:29, 29.58it/s]\n",
      "MAE/CA 19576.069366: : 860it [00:28, 30.38it/s]\n",
      "MAE/CA 19576.510490: : 860it [00:28, 29.75it/s]\n",
      "MAE/CA 19574.206677: : 860it [00:28, 29.75it/s]\n",
      "MAE/CA 19574.779237: : 860it [00:28, 29.73it/s]\n",
      "MAE/CA 19575.233884: : 860it [00:29, 29.62it/s]\n",
      "MAE/CA 19575.675161: : 860it [00:28, 29.77it/s]\n",
      "MAE/CA 19576.872129: : 860it [00:28, 29.69it/s]\n",
      "MAE/CA 19576.771148: : 860it [00:28, 29.66it/s]\n",
      "MAE/CA 19575.167366: : 860it [00:28, 30.26it/s]\n",
      "MAE/CA 19573.868554: : 860it [00:28, 30.33it/s]\n",
      "MAE/CA 19576.654158: : 860it [00:28, 29.74it/s]\n",
      "MAE/CA 19576.532705: : 860it [00:28, 29.67it/s]\n",
      "MAE/CA 19578.116348: : 860it [00:28, 29.75it/s]\n",
      "MAE/CA 19576.469485: : 860it [00:29, 29.51it/s]\n",
      "MAE/CA 19577.573269: : 860it [00:29, 29.63it/s]\n",
      "MAE/CA 19573.595708: : 860it [00:29, 29.65it/s]\n",
      "MAE/CA 19578.578529: : 860it [00:29, 29.47it/s]\n",
      "MAE/CA 19576.816476: : 860it [00:29, 29.56it/s]\n",
      "MAE/CA 19576.325463: : 860it [00:28, 29.74it/s]\n",
      "MAE/CA 19579.443689: : 860it [00:28, 30.00it/s]\n",
      "MAE/CA 19580.829199: : 860it [00:29, 29.01it/s]\n",
      "MAE/CA 19576.681859: : 860it [00:28, 29.74it/s]\n",
      "MAE/CA 19573.940797: : 860it [00:28, 30.18it/s]\n",
      "MAE/CA 19576.884468: : 860it [00:28, 30.18it/s]\n",
      "MAE/CA 19576.262419: : 860it [00:28, 29.99it/s]\n",
      "MAE/CA 19574.481850: : 860it [00:28, 29.94it/s]\n",
      "MAE/CA 19579.016425: : 860it [00:29, 29.58it/s]\n",
      "MAE/CA 19576.342762: : 860it [00:29, 29.54it/s]\n",
      "MAE/CA 19575.580413: : 860it [00:28, 29.69it/s]\n",
      "MAE/CA 19576.795128: : 860it [00:28, 29.72it/s]\n",
      "MAE/CA 19576.226123: : 860it [00:28, 29.79it/s]\n",
      "MAE/CA 19574.955853: : 860it [00:29, 29.24it/s]\n",
      "MAE/CA 19580.311790: : 860it [00:27, 30.86it/s]\n",
      "MAE/CA 19576.998834: : 860it [00:28, 29.87it/s]\n",
      "MAE/CA 19580.386305: : 860it [00:28, 29.93it/s]\n",
      "MAE/CA 19575.738760: : 860it [00:28, 29.66it/s]\n",
      "MAE/CA 19576.436462: : 860it [00:29, 29.43it/s]\n",
      "MAE/CA 19575.470273: : 860it [00:28, 29.84it/s]\n",
      "MAE/CA 19577.105543: : 860it [00:29, 29.54it/s]\n",
      "MAE/CA 19577.050829: : 860it [00:28, 30.71it/s]\n",
      "MAE/CA 19576.143724: : 860it [00:28, 30.04it/s]\n",
      "MAE/CA 19575.653629: : 860it [00:28, 30.03it/s]\n",
      "MAE/CA 19575.675630: : 860it [00:28, 29.92it/s]\n",
      "MAE/CA 19572.757369: : 860it [00:28, 29.90it/s]\n",
      "MAE/CA 19574.971829: : 860it [00:28, 29.67it/s]\n",
      "MAE/CA 19575.755788: : 860it [00:28, 29.79it/s]\n",
      "MAE/CA 19574.837869: : 860it [00:28, 30.21it/s]\n",
      "MAE/CA 19574.026806: : 860it [00:29, 29.59it/s]\n",
      "MAE/CA 19576.884204: : 860it [00:29, 29.61it/s]\n",
      "MAE/CA 19575.400409: : 860it [00:28, 29.95it/s]\n",
      "MAE/CA 19575.259553: : 860it [00:28, 29.85it/s]\n",
      "MAE/CA 19575.556725: : 860it [00:28, 29.72it/s]\n",
      "MAE/CA 19573.181732: : 860it [00:27, 30.78it/s]\n",
      "MAE/CA 19576.172751: : 860it [00:28, 30.30it/s]\n",
      "MAE/CA 19574.489353: : 860it [00:28, 29.93it/s]\n",
      "MAE/CA 19574.661658: : 860it [00:28, 29.89it/s]\n",
      "MAE/CA 19577.444791: : 860it [00:28, 29.96it/s]\n",
      "MAE/CA 19580.488919: : 860it [00:28, 29.69it/s]\n",
      "MAE/CA 19575.336408: : 860it [00:28, 30.40it/s]\n",
      "MAE/CA 19576.264085: : 860it [00:28, 29.70it/s]\n",
      "MAE/CA 19574.235988: : 860it [00:29, 29.54it/s]\n",
      "MAE/CA 19577.094258: : 860it [00:28, 30.12it/s]\n",
      "MAE/CA 19574.941602: : 860it [00:28, 30.04it/s]\n",
      "MAE/CA 19573.934113: : 860it [00:28, 29.82it/s]\n",
      "MAE/CA 19573.622056: : 860it [00:28, 29.80it/s]\n",
      "MAE/CA 19575.788314: : 860it [00:28, 30.48it/s]\n",
      "MAE/CA 19574.313163: : 860it [00:28, 30.14it/s]\n",
      "MAE/CA 19576.178213: : 860it [00:28, 29.77it/s]\n",
      "MAE/CA 19575.265037: : 860it [00:28, 29.73it/s]\n",
      "MAE/CA 19577.099926: : 860it [00:29, 29.64it/s]\n",
      "MAE/CA 19576.616615: : 860it [00:28, 29.96it/s]\n",
      "MAE/CA 19575.397996: : 860it [00:29, 29.59it/s]\n",
      "MAE/CA 19576.874794: : 860it [00:28, 29.81it/s]\n",
      "MAE/CA 19576.899337: : 860it [00:29, 29.46it/s]\n",
      "MAE/CA 19573.707494: : 860it [00:29, 29.60it/s]\n",
      "MAE/CA 19577.389507: : 860it [00:28, 29.86it/s]\n",
      "MAE/CA 19578.221100: : 860it [00:29, 29.58it/s]\n",
      "MAE/CA 19573.949479: : 860it [00:29, 29.35it/s]\n",
      "MAE/CA 19572.639039: : 860it [00:29, 29.32it/s]\n",
      "MAE/CA 19577.810123: : 860it [00:28, 29.72it/s]\n",
      "MAE/CA 19578.037136: : 860it [00:28, 30.29it/s]\n",
      "MAE/CA 19575.847702: : 860it [00:28, 29.79it/s]\n",
      "MAE/CA 19576.101985: : 860it [00:28, 29.79it/s]\n",
      "MAE/CA 19577.131662: : 860it [00:29, 29.47it/s]\n"
     ]
    },
    {
     "name": "stderr",
     "output_type": "stream",
     "text": [
      "MAE/CA 19576.614205: : 860it [00:28, 30.28it/s]\n",
      "MAE/CA 19577.304902: : 860it [00:28, 29.89it/s]\n",
      "MAE/CA 19574.695362: : 860it [00:28, 29.72it/s]\n",
      "MAE/CA 19573.935625: : 860it [00:29, 29.47it/s]\n",
      "MAE/CA 19575.770091: : 860it [00:28, 29.91it/s]\n",
      "MAE/CA 19576.744269: : 860it [00:28, 29.87it/s]\n",
      "MAE/CA 19576.826191: : 860it [00:28, 29.85it/s]\n",
      "MAE/CA 19574.717901: : 860it [00:29, 29.49it/s]\n",
      "MAE/CA 19577.953605: : 860it [00:28, 29.68it/s]\n",
      "MAE/CA 19573.757591: : 860it [00:28, 30.03it/s]\n",
      "MAE/CA 19575.695339: : 860it [00:28, 30.50it/s]\n",
      "MAE/CA 19576.531882: : 860it [00:28, 29.74it/s]\n",
      "MAE/CA 19576.398511: : 860it [00:29, 29.57it/s]\n",
      "MAE/CA 19577.706500: : 860it [00:28, 30.10it/s]\n",
      "MAE/CA 19576.810849: : 860it [00:28, 30.28it/s]\n",
      "MAE/CA 19576.969356: : 860it [00:28, 30.38it/s]\n",
      "MAE/CA 19582.560589: : 860it [00:28, 29.78it/s]\n",
      "MAE/CA 19574.685271: : 860it [00:29, 29.11it/s]\n",
      "MAE/CA 19576.033651: : 860it [00:28, 29.68it/s]\n",
      "MAE/CA 19575.310104: : 860it [00:28, 29.84it/s]\n",
      "MAE/CA 19579.658415: : 860it [00:28, 29.71it/s]\n",
      "MAE/CA 19574.229873: : 860it [00:29, 29.51it/s]\n",
      "MAE/CA 19575.792714: : 860it [00:29, 29.37it/s]\n",
      "MAE/CA 19573.964394: : 860it [00:28, 29.75it/s]\n",
      "MAE/CA 19577.339546: : 860it [00:29, 29.54it/s]\n",
      "MAE/CA 19576.071207: : 860it [00:29, 29.60it/s]\n",
      "MAE/CA 19576.040649: : 860it [00:28, 30.42it/s]\n",
      "MAE/CA 19571.893075: : 860it [00:29, 29.49it/s]\n",
      "MAE/CA 19576.866131: : 860it [00:29, 29.57it/s]\n",
      "MAE/CA 19579.997145: : 860it [00:28, 30.00it/s]\n",
      "MAE/CA 19576.884874: : 860it [00:27, 31.49it/s]\n",
      "MAE/CA 19573.781740: : 860it [00:28, 30.40it/s]\n",
      "MAE/CA 19578.758944: : 860it [00:29, 29.65it/s]\n",
      "MAE/CA 19576.045758: : 860it [00:28, 30.31it/s]\n",
      "MAE/CA 19572.104638: : 860it [00:28, 30.05it/s]\n",
      "MAE/CA 19576.855324: : 860it [00:28, 29.81it/s]\n",
      "MAE/CA 19578.018588: : 860it [00:29, 29.59it/s]\n",
      "MAE/CA 19576.406737: : 860it [00:28, 29.68it/s]\n",
      "MAE/CA 19574.216764: : 860it [00:28, 29.80it/s]\n",
      "MAE/CA 19576.020725: : 860it [00:29, 29.52it/s]\n",
      "MAE/CA 19576.970120: : 860it [00:28, 30.13it/s]\n",
      "MAE/CA 19582.910797: : 860it [00:28, 29.73it/s]\n",
      "MAE/CA 19575.931105: : 860it [00:28, 29.76it/s]\n",
      "MAE/CA 19578.621861: : 860it [00:28, 29.70it/s]\n",
      "MAE/CA 19575.296582: : 860it [00:28, 29.97it/s]\n",
      "MAE/CA 19575.616153: : 860it [00:28, 30.59it/s]\n",
      "MAE/CA 19575.099262: : 860it [00:29, 29.58it/s]\n",
      "MAE/CA 19575.212742: : 860it [00:28, 30.20it/s]\n",
      "MAE/CA 19574.669103: : 860it [00:28, 29.76it/s]\n",
      "MAE/CA 19573.768917: : 860it [00:28, 30.21it/s]\n",
      "MAE/CA 19578.192631: : 860it [00:28, 30.00it/s]\n",
      "MAE/CA 19575.682252: : 860it [00:28, 30.54it/s]\n",
      "MAE/CA 19577.176702: : 860it [00:28, 30.45it/s]\n",
      "MAE/CA 19576.418468: : 860it [00:28, 30.42it/s]\n",
      "MAE/CA 19576.785828: : 860it [00:29, 29.60it/s]\n",
      "MAE/CA 19574.519110: : 860it [00:28, 29.69it/s]\n",
      "MAE/CA 19576.164758: : 860it [00:27, 30.74it/s]\n",
      "MAE/CA 19575.687713: : 860it [00:27, 31.03it/s]\n",
      "MAE/CA 19575.873270: : 860it [00:27, 30.79it/s]\n",
      "MAE/CA 19578.851134: : 860it [00:27, 31.20it/s]\n",
      "MAE/CA 19576.533742: : 860it [00:28, 29.84it/s]\n",
      "MAE/CA 19574.801297: : 860it [00:28, 29.86it/s]\n",
      "MAE/CA 19576.032217: : 860it [00:28, 29.94it/s]\n",
      "MAE/CA 19574.267907: : 860it [00:28, 29.68it/s]\n",
      "MAE/CA 19577.633806: : 860it [00:28, 30.11it/s]\n",
      "MAE/CA 19577.143755: : 860it [00:28, 29.66it/s]\n",
      "MAE/CA 19578.002501: : 860it [00:28, 29.91it/s]\n",
      "MAE/CA 19577.876106: : 860it [00:28, 29.88it/s]\n",
      "MAE/CA 19574.029029: : 860it [00:28, 29.88it/s]\n",
      "MAE/CA 19577.858645: : 860it [00:28, 29.68it/s]\n",
      "MAE/CA 19575.893698: : 860it [00:29, 29.55it/s]\n",
      "MAE/CA 19575.535512: : 860it [00:28, 29.93it/s]\n",
      "MAE/CA 19574.042105: : 860it [00:28, 30.21it/s]\n",
      "MAE/CA 19577.168428: : 860it [00:29, 29.61it/s]\n",
      "MAE/CA 19576.363505: : 860it [00:28, 29.73it/s]\n",
      "MAE/CA 19576.011564: : 860it [00:28, 29.72it/s]\n",
      "MAE/CA 19579.925204: : 860it [00:28, 29.71it/s]\n",
      "MAE/CA 19575.390491: : 860it [00:27, 30.72it/s]\n",
      "MAE/CA 19575.239151: : 860it [00:28, 29.78it/s]\n",
      "MAE/CA 19573.352097: : 860it [00:28, 29.84it/s]\n",
      "MAE/CA 19577.024438: : 860it [00:28, 29.67it/s]\n",
      "MAE/CA 19575.949759: : 860it [00:29, 29.57it/s]\n",
      "MAE/CA 19576.154159: : 860it [00:29, 29.60it/s]\n",
      "MAE/CA 19577.171412: : 860it [00:29, 29.58it/s]\n",
      "MAE/CA 19577.321506: : 860it [00:28, 29.77it/s]\n",
      "MAE/CA 19577.082566: : 860it [00:29, 29.64it/s]\n",
      "MAE/CA 19573.388715: : 860it [00:29, 29.56it/s]\n",
      "MAE/CA 19578.651647: : 860it [00:27, 30.93it/s]\n",
      "MAE/CA 19574.183210: : 860it [00:28, 29.67it/s]\n",
      "MAE/CA 19576.867364: : 860it [00:29, 29.58it/s]\n",
      "MAE/CA 19573.221799: : 860it [00:28, 29.71it/s]\n",
      "MAE/CA 19576.998428: : 860it [00:28, 30.06it/s]\n",
      "MAE/CA 19574.745224: : 860it [00:28, 29.81it/s]\n",
      "MAE/CA 19580.290160: : 860it [00:28, 29.78it/s]\n",
      "MAE/CA 19572.914755: : 860it [00:28, 29.71it/s]\n",
      "MAE/CA 19574.136140: : 860it [00:29, 29.53it/s]\n",
      "MAE/CA 19576.667476: : 860it [00:28, 29.86it/s]\n",
      "MAE/CA 19576.104675: : 860it [00:28, 29.80it/s]\n",
      "MAE/CA 19576.160980: : 860it [00:28, 29.71it/s]\n",
      "MAE/CA 19575.914658: : 860it [00:28, 29.79it/s]\n",
      "MAE/CA 19575.540749: : 860it [00:29, 29.64it/s]\n",
      "MAE/CA 19575.119316: : 860it [00:29, 29.63it/s]\n",
      "MAE/CA 19575.477180: : 860it [00:29, 29.54it/s]\n",
      "MAE/CA 19576.591646: : 860it [00:28, 29.81it/s]\n",
      "MAE/CA 19574.120377: : 860it [00:28, 29.77it/s]\n",
      "MAE/CA 19577.298193: : 860it [00:28, 29.95it/s]\n",
      "MAE/CA 19577.084484: : 860it [00:28, 29.68it/s]\n",
      "MAE/CA 19575.918673: : 860it [00:28, 30.66it/s]\n",
      "MAE/CA 19574.772480: : 860it [00:28, 29.84it/s]\n",
      "MAE/CA 19574.811436: : 860it [00:28, 29.85it/s]\n",
      "MAE/CA 19575.131153: : 860it [00:28, 30.01it/s]\n",
      "MAE/CA 19576.903198: : 860it [00:29, 29.64it/s]\n",
      "MAE/CA 19577.750094: : 860it [00:29, 29.45it/s]\n",
      "MAE/CA 19573.509072: : 860it [00:29, 29.48it/s]\n",
      "MAE/CA 19576.284379: : 860it [00:29, 29.41it/s]\n",
      "MAE/CA 19576.719049: : 860it [00:28, 29.68it/s]\n",
      "MAE/CA 19574.454188: : 860it [00:28, 30.06it/s]\n",
      "MAE/CA 19577.380442: : 860it [00:28, 30.19it/s]\n",
      "MAE/CA 19574.031234: : 860it [00:29, 29.63it/s]\n",
      "MAE/CA 19575.360395: : 860it [00:27, 30.85it/s]\n",
      "MAE/CA 19573.844348: : 860it [00:28, 30.02it/s]\n",
      "MAE/CA 19574.372333: : 860it [00:28, 29.67it/s]\n",
      "MAE/CA 19577.178939: : 860it [00:28, 29.96it/s]\n",
      "MAE/CA 19575.067541: : 860it [00:28, 30.65it/s]\n",
      "MAE/CA 19577.457586: : 860it [00:28, 30.38it/s]\n",
      "MAE/CA 19576.550002: : 860it [00:28, 29.77it/s]\n",
      "MAE/CA 19577.616877: : 860it [00:28, 29.70it/s]\n",
      "MAE/CA 19573.486756: : 860it [00:28, 29.73it/s]\n",
      "MAE/CA 19574.933099: : 860it [00:28, 30.27it/s]\n",
      "MAE/CA 19578.395118: : 860it [00:28, 29.71it/s]\n",
      "MAE/CA 19573.793595: : 860it [00:28, 29.69it/s]\n",
      "MAE/CA 19574.740102: : 860it [00:28, 29.96it/s]\n",
      "MAE/CA 19575.988661: : 860it [00:29, 29.23it/s]\n",
      "MAE/CA 19577.165560: : 860it [00:28, 30.01it/s]\n",
      "MAE/CA 19575.545984: : 860it [00:28, 29.76it/s]\n",
      "MAE/CA 19578.118446: : 860it [00:29, 29.35it/s]\n",
      "MAE/CA 19575.200482: : 860it [00:29, 29.51it/s]\n",
      "MAE/CA 19575.888118: : 860it [00:28, 29.67it/s]\n",
      "MAE/CA 19577.073025: : 860it [00:28, 30.13it/s]\n",
      "MAE/CA 19577.545717: : 860it [00:28, 29.86it/s]\n",
      "MAE/CA 19576.900271: : 860it [00:29, 29.50it/s]\n",
      "MAE/CA 19575.927427: : 860it [00:29, 29.65it/s]\n",
      "MAE/CA 19573.617767: : 860it [00:29, 29.53it/s]\n",
      "MAE/CA 19576.183983: : 860it [00:28, 30.04it/s]\n",
      "MAE/CA 19578.472747: : 860it [00:29, 29.65it/s]\n",
      "MAE/CA 19576.979049: : 860it [00:29, 29.48it/s]\n",
      "MAE/CA 19578.074904: : 860it [00:29, 29.56it/s]\n",
      "MAE/CA 19575.947275: : 860it [00:28, 30.02it/s]\n",
      "MAE/CA 19575.255616: : 860it [00:28, 29.88it/s]\n",
      "MAE/CA 19575.976170: : 860it [00:29, 29.64it/s]\n",
      "MAE/CA 19579.452962: : 860it [00:29, 29.54it/s]\n",
      "MAE/CA 19577.370270: : 860it [00:27, 30.86it/s]\n",
      "MAE/CA 19573.786653: : 860it [00:28, 29.85it/s]\n",
      "MAE/CA 19575.193515: : 860it [00:28, 29.89it/s]\n",
      "MAE/CA 19575.672719: : 860it [00:29, 29.54it/s]\n",
      "MAE/CA 19575.853936: : 860it [00:28, 29.89it/s]\n",
      "MAE/CA 19575.599851: : 860it [00:29, 29.64it/s]\n",
      "MAE/CA 19572.756248: : 860it [00:28, 29.98it/s]\n",
      "MAE/CA 19578.157543: : 860it [00:29, 29.52it/s]\n",
      "MAE/CA 19578.653859: : 860it [00:29, 29.42it/s]\n",
      "MAE/CA 19575.866367: : 860it [00:28, 29.90it/s]\n",
      "MAE/CA 19575.055932: : 860it [00:28, 29.77it/s]\n",
      "MAE/CA 19575.465681: : 860it [00:28, 29.71it/s]\n",
      "MAE/CA 19575.945644: : 860it [00:28, 30.01it/s]\n",
      "MAE/CA 19576.407040: : 860it [00:29, 29.50it/s]\n",
      "MAE/CA 19579.315535: : 860it [00:28, 29.72it/s]\n",
      "MAE/CA 19576.614155: : 860it [00:28, 30.59it/s]\n",
      "MAE/CA 19573.678100: : 860it [00:28, 29.73it/s]\n",
      "MAE/CA 19575.278446: : 860it [00:28, 30.58it/s]\n",
      "MAE/CA 19575.077712: : 860it [00:28, 30.02it/s]\n"
     ]
    },
    {
     "name": "stderr",
     "output_type": "stream",
     "text": [
      "MAE/CA 19575.354022: : 860it [00:28, 30.05it/s]\n",
      "MAE/CA 19574.459439: : 860it [00:28, 30.02it/s]\n",
      "MAE/CA 19575.140891: : 860it [00:28, 29.85it/s]\n",
      "MAE/CA 19575.492957: : 860it [00:28, 29.68it/s]\n",
      "MAE/CA 19580.732173: : 860it [00:28, 29.67it/s]\n",
      "MAE/CA 19574.942801: : 860it [00:28, 29.95it/s]\n",
      "MAE/CA 19575.865182: : 860it [00:29, 29.46it/s]\n",
      "MAE/CA 19574.556114: : 860it [00:29, 29.64it/s]\n",
      "MAE/CA 19575.197608: : 860it [00:28, 30.48it/s]\n",
      "MAE/CA 19578.326499: : 860it [00:28, 30.49it/s]\n",
      "MAE/CA 19573.578361: : 860it [00:29, 29.62it/s]\n",
      "MAE/CA 19573.446266: : 860it [00:28, 29.76it/s]\n",
      "MAE/CA 19575.847948: : 860it [00:29, 29.62it/s]\n",
      "MAE/CA 19576.968470: : 860it [00:28, 29.83it/s]\n",
      "MAE/CA 19575.289384: : 860it [00:28, 29.76it/s]\n",
      "MAE/CA 19576.838373: : 860it [00:28, 29.67it/s]\n",
      "MAE/CA 19577.917152: : 860it [00:28, 30.10it/s]\n",
      "MAE/CA 19576.266574: : 860it [00:29, 29.54it/s]\n",
      "MAE/CA 19573.721634: : 860it [00:29, 29.54it/s]\n",
      "MAE/CA 19574.687851: : 860it [00:28, 29.92it/s]\n",
      "MAE/CA 19573.476833: : 860it [00:28, 30.10it/s]\n",
      "MAE/CA 19576.924707: : 860it [00:28, 29.87it/s]\n",
      "MAE/CA 19578.567657: : 860it [00:29, 29.64it/s]\n",
      "MAE/CA 19574.784273: : 860it [00:28, 29.98it/s]\n",
      "MAE/CA 19577.371277: : 860it [00:28, 29.77it/s]\n",
      "MAE/CA 19575.265968: : 860it [00:29, 29.64it/s]\n",
      "MAE/CA 19575.575013: : 860it [00:28, 30.15it/s]\n",
      "MAE/CA 19573.797650: : 860it [00:28, 29.88it/s]\n",
      "MAE/CA 19577.107946: : 860it [00:28, 29.78it/s]\n",
      "MAE/CA 19577.689341: : 860it [00:28, 29.94it/s]\n",
      "MAE/CA 19574.613660: : 860it [00:28, 29.67it/s]\n",
      "MAE/CA 19573.739781: : 860it [00:28, 29.84it/s]\n",
      "MAE/CA 19577.910618: : 860it [00:29, 29.54it/s]\n",
      "MAE/CA 19578.325627: : 860it [00:28, 29.67it/s]\n",
      "MAE/CA 19578.126060: : 860it [00:29, 29.64it/s]\n",
      "MAE/CA 19576.658276: : 860it [00:29, 29.51it/s]\n",
      "MAE/CA 19574.933566: : 860it [00:28, 30.17it/s]\n",
      "MAE/CA 19577.020076: : 860it [00:28, 29.81it/s]\n",
      "MAE/CA 19573.902745: : 860it [00:28, 29.73it/s]\n",
      "MAE/CA 19575.761959: : 860it [00:28, 29.84it/s]\n",
      "MAE/CA 19576.862112: : 860it [00:29, 29.56it/s]\n",
      "MAE/CA 19576.222845: : 860it [00:28, 30.27it/s]\n",
      "MAE/CA 19576.899119: : 860it [00:27, 30.78it/s]\n",
      "MAE/CA 19575.202560: : 860it [00:28, 30.06it/s]\n",
      "MAE/CA 19574.403891: : 860it [00:28, 30.05it/s]\n",
      "MAE/CA 19574.343083: : 860it [00:28, 30.00it/s]\n",
      "MAE/CA 19574.878560: : 860it [00:28, 29.84it/s]\n",
      "MAE/CA 19574.580140: : 860it [00:29, 29.61it/s]\n",
      "MAE/CA 19575.655809: : 860it [00:28, 30.56it/s]\n",
      "MAE/CA 19578.261299: : 860it [00:28, 29.82it/s]\n",
      "MAE/CA 19574.438409: : 860it [00:28, 29.76it/s]\n",
      "MAE/CA 19575.159711: : 860it [00:29, 29.54it/s]\n",
      "MAE/CA 19574.314384: : 860it [00:27, 30.99it/s]\n",
      "MAE/CA 19573.546424: : 860it [00:27, 31.06it/s]\n",
      "MAE/CA 19576.704596: : 860it [00:28, 30.18it/s]\n",
      "MAE/CA 19574.261059: : 860it [00:28, 29.68it/s]\n",
      "MAE/CA 19575.929543: : 860it [00:28, 29.92it/s]\n",
      "MAE/CA 19573.852953: : 860it [00:28, 29.85it/s]\n",
      "MAE/CA 19575.769005: : 860it [00:28, 29.77it/s]\n",
      "MAE/CA 19574.815267: : 860it [00:28, 30.07it/s]\n",
      "MAE/CA 19575.907532: : 860it [00:29, 29.60it/s]\n",
      "MAE/CA 19574.708400: : 860it [00:28, 30.10it/s]\n",
      "MAE/CA 19576.154495: : 860it [00:28, 29.79it/s]\n",
      "MAE/CA 19575.345870: : 860it [00:28, 30.14it/s]\n",
      "MAE/CA 19577.114350: : 860it [00:28, 30.39it/s]\n",
      "MAE/CA 19576.867397: : 860it [00:28, 29.90it/s]\n",
      "MAE/CA 19574.771034: : 860it [00:27, 30.86it/s]\n",
      "MAE/CA 19576.477287: : 860it [00:28, 29.85it/s]\n",
      "MAE/CA 19575.092518: : 860it [00:28, 30.70it/s]\n",
      "MAE/CA 19573.431401: : 860it [00:29, 29.60it/s]\n",
      "MAE/CA 19577.519177: : 860it [00:28, 30.06it/s]\n",
      "MAE/CA 19577.034337: : 860it [00:28, 29.71it/s]\n",
      "MAE/CA 19576.932306: : 860it [00:28, 30.04it/s]\n",
      "MAE/CA 19577.214130: : 860it [00:28, 29.71it/s]\n",
      "MAE/CA 19577.946980: : 860it [00:28, 29.76it/s]\n",
      "MAE/CA 19574.507393: : 860it [00:29, 29.43it/s]\n",
      "MAE/CA 19576.834427: : 860it [00:28, 29.75it/s]\n",
      "MAE/CA 19575.263176: : 860it [00:28, 29.81it/s]\n",
      "MAE/CA 19573.884494: : 860it [00:28, 29.75it/s]\n",
      "MAE/CA 19574.193740: : 860it [00:28, 29.80it/s]\n",
      "MAE/CA 19577.615249: : 860it [00:29, 29.29it/s]\n",
      "MAE/CA 19576.133826: : 860it [00:28, 30.34it/s]\n",
      "MAE/CA 19574.784825: : 860it [00:28, 29.77it/s]\n",
      "MAE/CA 19578.312212: : 860it [00:29, 29.59it/s]\n",
      "MAE/CA 19574.963853: : 860it [00:28, 29.85it/s]\n",
      "MAE/CA 19578.129600: : 860it [00:28, 29.68it/s]\n",
      "MAE/CA 19576.636825: : 860it [00:28, 29.70it/s]\n",
      "MAE/CA 19575.329326: : 860it [00:28, 30.16it/s]\n",
      "MAE/CA 19580.344079: : 860it [00:29, 29.57it/s]\n",
      "MAE/CA 19574.530557: : 860it [00:29, 29.58it/s]\n",
      "MAE/CA 19577.737692: : 860it [00:28, 30.39it/s]\n",
      "MAE/CA 19575.657392: : 860it [00:29, 29.53it/s]\n",
      "MAE/CA 19572.478093: : 860it [00:28, 29.89it/s]\n",
      "MAE/CA 19576.082194: : 860it [00:28, 30.20it/s]\n",
      "MAE/CA 19579.218840: : 860it [00:27, 31.03it/s]\n",
      "MAE/CA 19575.939786: : 860it [00:29, 29.49it/s]\n",
      "MAE/CA 19576.563510: : 860it [00:28, 30.16it/s]\n",
      "MAE/CA 19574.610347: : 860it [00:28, 30.58it/s]\n",
      "MAE/CA 19578.656621: : 860it [00:28, 29.85it/s]\n",
      "MAE/CA 19577.199416: : 860it [00:29, 29.55it/s]\n",
      "MAE/CA 19579.499615: : 860it [00:29, 29.64it/s]\n",
      "MAE/CA 19577.626124: : 860it [00:29, 29.60it/s]\n",
      "MAE/CA 19577.985931: : 860it [00:29, 29.60it/s]\n",
      "MAE/CA 19577.658713: : 860it [00:28, 29.67it/s]\n",
      "MAE/CA 19575.471126: : 860it [00:28, 29.89it/s]\n",
      "MAE/CA 19573.780089: : 860it [00:28, 30.12it/s]\n",
      "MAE/CA 19574.886534: : 860it [00:28, 29.77it/s]\n",
      "MAE/CA 19577.643857: : 860it [00:28, 30.20it/s]\n",
      "MAE/CA 19575.341236: : 860it [00:28, 30.09it/s]\n",
      "MAE/CA 19576.203753: : 860it [00:28, 30.22it/s]\n",
      "MAE/CA 19573.034181: : 860it [00:27, 31.11it/s]\n",
      "MAE/CA 19576.045743: : 860it [00:29, 29.39it/s]\n",
      "MAE/CA 19576.186020: : 860it [00:29, 29.60it/s]\n",
      "MAE/CA 19576.502310: : 860it [00:28, 29.72it/s]\n",
      "MAE/CA 19575.629930: : 860it [00:28, 30.38it/s]\n",
      "MAE/CA 19578.929888: : 860it [00:29, 29.55it/s]\n",
      "MAE/CA 19574.392469: : 860it [00:28, 29.89it/s]\n",
      "MAE/CA 19577.429203: : 860it [00:28, 30.04it/s]\n",
      "MAE/CA 19574.087351: : 860it [00:29, 29.55it/s]\n",
      "MAE/CA 19574.906432: : 860it [00:29, 29.63it/s]\n",
      "MAE/CA 19574.496906: : 860it [00:28, 30.09it/s]\n",
      "MAE/CA 19576.238370: : 860it [00:28, 29.73it/s]\n",
      "MAE/CA 19577.598259: : 860it [00:28, 29.77it/s]\n",
      "MAE/CA 19578.256635: : 860it [00:29, 29.62it/s]\n",
      "MAE/CA 19575.669276: : 860it [00:28, 29.81it/s]\n",
      "MAE/CA 19573.863779: : 860it [00:28, 29.71it/s]\n",
      "MAE/CA 19576.147709: : 860it [00:29, 29.51it/s]\n",
      "MAE/CA 19577.196457: : 860it [00:28, 30.05it/s]\n",
      "MAE/CA 19578.416437: : 860it [00:28, 29.70it/s]\n",
      "MAE/CA 19576.033102: : 860it [00:28, 29.75it/s]\n",
      "MAE/CA 19577.479348: : 860it [00:29, 29.61it/s]\n",
      "MAE/CA 19575.425039: : 860it [00:28, 29.70it/s]\n",
      "MAE/CA 19576.337997: : 860it [00:28, 30.19it/s]\n",
      "MAE/CA 19581.274896: : 860it [00:28, 29.68it/s]\n",
      "MAE/CA 19579.008024: : 860it [00:28, 29.72it/s]\n",
      "MAE/CA 19576.868584: : 860it [00:29, 29.53it/s]\n",
      "MAE/CA 19574.707992: : 860it [00:28, 29.68it/s]\n",
      "MAE/CA 19578.727513: : 860it [00:29, 29.49it/s]\n",
      "MAE/CA 19577.284255: : 860it [00:29, 29.41it/s]\n",
      "MAE/CA 19578.899584: : 860it [00:28, 30.32it/s]\n",
      "MAE/CA 19575.885441: : 860it [00:29, 29.55it/s]\n",
      "MAE/CA 19576.549479: : 860it [00:28, 29.98it/s]\n",
      "MAE/CA 19574.939623: : 860it [00:27, 30.87it/s]\n",
      "MAE/CA 19578.094337: : 860it [00:28, 29.70it/s]\n",
      "MAE/CA 19574.024294: : 860it [00:28, 29.70it/s]\n",
      "MAE/CA 19579.653137: : 860it [00:28, 29.77it/s]\n",
      "MAE/CA 19576.324293: : 860it [00:29, 29.56it/s]\n",
      "MAE/CA 19574.026207: : 860it [00:28, 30.31it/s]\n",
      "MAE/CA 19576.841222: : 860it [00:28, 29.68it/s]\n",
      "MAE/CA 19578.423438: : 860it [00:28, 30.37it/s]\n",
      "MAE/CA 19576.518651: : 860it [00:29, 29.54it/s]\n",
      "MAE/CA 19575.695207: : 860it [00:28, 29.66it/s]\n",
      "MAE/CA 19575.085071: : 860it [00:28, 29.99it/s]\n",
      "MAE/CA 19575.432572: : 860it [00:29, 29.58it/s]\n",
      "MAE/CA 19577.798779: : 860it [00:28, 29.94it/s]\n",
      "MAE/CA 19573.222492: : 860it [00:28, 29.90it/s]\n",
      "MAE/CA 19575.201685: : 860it [00:29, 29.39it/s]\n",
      "MAE/CA 19575.698659: : 860it [00:29, 29.60it/s]\n",
      "MAE/CA 19578.692998: : 860it [00:28, 29.68it/s]\n",
      "MAE/CA 19573.901293: : 860it [00:28, 29.67it/s]\n",
      "MAE/CA 19575.905136: : 860it [00:29, 29.61it/s]\n",
      "MAE/CA 19576.206233: : 860it [00:28, 29.99it/s]\n",
      "MAE/CA 19577.389275: : 860it [00:29, 29.65it/s]\n",
      "MAE/CA 19574.587163: : 860it [00:28, 29.77it/s]\n",
      "MAE/CA 19579.425518: : 860it [00:28, 30.56it/s]\n",
      "MAE/CA 19574.536479: : 860it [00:28, 29.75it/s]\n",
      "MAE/CA 19575.597332: : 860it [00:28, 29.96it/s]\n",
      "MAE/CA 19576.404660: : 860it [00:29, 29.58it/s]\n",
      "MAE/CA 19580.501874: : 860it [00:28, 29.89it/s]\n",
      "MAE/CA 19576.908319: : 860it [00:28, 29.71it/s]\n"
     ]
    },
    {
     "name": "stderr",
     "output_type": "stream",
     "text": [
      "MAE/CA 19576.550678: : 860it [00:28, 29.92it/s]\n",
      "MAE/CA 19575.043474: : 860it [00:28, 30.23it/s]\n",
      "MAE/CA 19579.001871: : 860it [00:29, 29.61it/s]\n",
      "MAE/CA 19576.037957: : 860it [00:28, 29.66it/s]\n",
      "MAE/CA 19576.692877: : 860it [00:29, 29.61it/s]\n",
      "MAE/CA 19574.576520: : 860it [00:28, 29.90it/s]\n",
      "MAE/CA 19577.354138: : 860it [00:28, 29.74it/s]\n",
      "MAE/CA 19578.884602: : 860it [00:28, 29.72it/s]\n",
      "MAE/CA 19577.258474: : 860it [00:28, 29.71it/s]\n",
      "MAE/CA 19575.572753: : 860it [00:28, 29.91it/s]\n",
      "MAE/CA 19578.324521: : 860it [00:29, 29.55it/s]\n",
      "MAE/CA 19576.988899: : 860it [00:28, 29.80it/s]\n",
      "MAE/CA 19578.848357: : 860it [00:29, 29.54it/s]\n",
      "MAE/CA 19578.762129: : 860it [00:29, 29.43it/s]\n",
      "MAE/CA 19573.266493: : 860it [00:28, 29.72it/s]\n",
      "MAE/CA 19577.848008: : 860it [00:28, 30.38it/s]\n",
      "MAE/CA 19577.174454: : 860it [00:28, 29.67it/s]\n",
      "MAE/CA 19574.322876: : 860it [00:28, 29.66it/s]\n",
      "MAE/CA 19575.505496: : 860it [00:28, 30.36it/s]\n",
      "MAE/CA 19574.793928: : 860it [00:28, 29.83it/s]\n",
      "MAE/CA 19575.180702: : 860it [00:28, 30.34it/s]\n",
      "MAE/CA 19575.823154: : 860it [00:28, 29.82it/s]\n",
      "MAE/CA 19575.298704: : 860it [00:28, 29.75it/s]\n",
      "MAE/CA 19576.667711: : 860it [00:29, 29.60it/s]\n",
      "MAE/CA 19574.542915: : 860it [00:28, 30.01it/s]\n",
      "MAE/CA 19575.468764: : 860it [00:28, 30.38it/s]\n",
      "MAE/CA 19577.970821: : 860it [00:29, 29.40it/s]\n",
      "MAE/CA 19574.356180: : 860it [00:28, 29.74it/s]\n",
      "MAE/CA 19575.088177: : 860it [00:28, 30.40it/s]\n",
      "MAE/CA 19575.699490: : 860it [00:28, 29.98it/s]\n",
      "MAE/CA 19575.828375: : 860it [00:28, 30.03it/s]\n",
      "MAE/CA 19577.269937: : 860it [00:29, 29.61it/s]\n",
      "MAE/CA 19578.820936: : 860it [00:29, 29.58it/s]\n",
      "MAE/CA 19576.196339: : 860it [00:28, 30.02it/s]\n",
      "MAE/CA 19578.216086: : 860it [00:28, 29.85it/s]\n",
      "MAE/CA 19577.155505: : 860it [00:28, 29.69it/s]\n",
      "MAE/CA 19574.919667: : 860it [00:28, 29.79it/s]\n",
      "MAE/CA 19576.411109: : 860it [00:28, 29.66it/s]\n",
      "MAE/CA 19575.769218: : 860it [00:28, 29.74it/s]\n",
      "MAE/CA 19579.563190: : 860it [00:28, 29.67it/s]\n",
      "MAE/CA 19576.998142: : 860it [00:29, 29.58it/s]\n",
      "MAE/CA 19576.122540: : 860it [00:28, 29.81it/s]\n",
      "MAE/CA 19575.576234: : 860it [00:28, 29.88it/s]\n",
      "MAE/CA 19575.629474: : 860it [00:28, 29.74it/s]\n",
      "MAE/CA 19576.605601: : 860it [00:27, 30.79it/s]\n",
      "MAE/CA 19575.915097: : 860it [00:29, 29.55it/s]\n",
      "MAE/CA 19574.440041: : 860it [00:28, 29.72it/s]\n",
      "MAE/CA 19574.980615: : 860it [00:28, 30.06it/s]\n",
      "MAE/CA 19575.925894: : 860it [00:29, 29.62it/s]\n",
      "MAE/CA 19575.974209: : 860it [00:27, 30.80it/s]\n",
      "MAE/CA 19577.274377: : 860it [00:28, 30.15it/s]\n",
      "MAE/CA 19579.398560: : 860it [00:28, 30.67it/s]\n",
      "MAE/CA 19574.113327: : 860it [00:28, 29.71it/s]\n",
      "MAE/CA 19574.116873: : 860it [00:28, 30.19it/s]\n",
      "MAE/CA 19574.551916: : 860it [00:28, 30.49it/s]\n",
      "MAE/CA 19574.852728: : 860it [00:28, 29.99it/s]\n",
      "MAE/CA 19575.579458: : 860it [00:28, 30.65it/s]\n",
      "MAE/CA 19577.958470: : 860it [00:28, 29.69it/s]\n",
      "MAE/CA 19578.808736: : 860it [00:29, 29.48it/s]\n",
      "MAE/CA 19576.694491: : 860it [00:28, 30.00it/s]\n",
      "MAE/CA 19577.755186: : 860it [00:28, 30.01it/s]\n",
      "MAE/CA 19576.023575: : 860it [00:28, 29.73it/s]\n",
      "MAE/CA 19577.885317: : 860it [00:28, 29.98it/s]\n",
      "MAE/CA 19574.739605: : 860it [00:28, 29.82it/s]\n",
      "MAE/CA 19572.257090: : 860it [00:29, 29.54it/s]\n",
      "MAE/CA 19575.389319: : 860it [00:28, 30.13it/s]\n",
      "MAE/CA 19578.926515: : 860it [00:27, 30.97it/s]\n",
      "MAE/CA 19573.878615: : 860it [00:29, 29.63it/s]\n",
      "MAE/CA 19575.794262: : 860it [00:29, 29.64it/s]\n",
      "MAE/CA 19574.901319: : 860it [00:29, 29.51it/s]\n",
      "MAE/CA 19578.397542: : 860it [00:29, 29.44it/s]\n",
      "MAE/CA 19574.988473: : 860it [00:28, 29.90it/s]\n",
      "MAE/CA 19575.541244: : 860it [00:27, 30.87it/s]\n",
      "MAE/CA 19573.595822: : 860it [00:28, 29.67it/s]\n",
      "MAE/CA 19573.294493: : 860it [00:27, 31.01it/s]\n",
      "MAE/CA 19577.053064: : 860it [00:29, 29.51it/s]\n",
      "MAE/CA 19576.057615: : 860it [00:28, 29.90it/s]\n",
      "MAE/CA 19577.203255: : 860it [00:28, 30.06it/s]\n",
      "MAE/CA 19575.268570: : 860it [00:28, 30.12it/s]\n",
      "MAE/CA 19575.637735: : 860it [00:28, 30.02it/s]\n",
      "MAE/CA 19576.001642: : 860it [00:28, 29.70it/s]\n",
      "MAE/CA 19578.251363: : 860it [00:28, 30.18it/s]\n",
      "MAE/CA 19574.267195: : 860it [00:28, 30.48it/s]\n",
      "MAE/CA 19576.759111: : 860it [00:28, 29.88it/s]\n",
      "MAE/CA 19574.563879: : 860it [00:29, 29.59it/s]\n",
      "MAE/CA 19575.080792: : 860it [00:29, 29.59it/s]\n",
      "MAE/CA 19576.935524: : 860it [00:29, 29.60it/s]\n",
      "MAE/CA 19576.015758: : 860it [00:29, 29.46it/s]\n",
      "MAE/CA 19576.474575: : 860it [00:28, 29.66it/s]\n",
      "MAE/CA 19577.465152: : 860it [00:28, 29.73it/s]\n",
      "MAE/CA 19577.128887: : 860it [00:28, 29.76it/s]\n",
      "MAE/CA 19577.614109: : 860it [00:27, 30.95it/s]\n",
      "MAE/CA 19574.562022: : 860it [00:28, 30.12it/s]\n",
      "MAE/CA 19576.893588: : 860it [00:28, 29.95it/s]\n",
      "MAE/CA 19573.865723: : 860it [00:29, 29.55it/s]\n",
      "MAE/CA 19577.379841: : 860it [00:28, 30.03it/s]\n",
      "MAE/CA 19575.868034: : 860it [00:28, 29.86it/s]\n",
      "MAE/CA 19575.015325: : 860it [00:29, 29.46it/s]\n",
      "MAE/CA 19577.514987: : 860it [00:28, 29.68it/s]\n",
      "MAE/CA 19579.684450: : 860it [00:28, 29.95it/s]\n",
      "MAE/CA 19576.636772: : 860it [00:29, 29.64it/s]\n",
      "MAE/CA 19577.415234: : 860it [00:28, 29.77it/s]\n",
      "MAE/CA 19575.412142: : 860it [00:29, 29.63it/s]\n",
      "MAE/CA 19575.463899: : 860it [00:28, 30.04it/s]\n",
      "MAE/CA 19576.278507: : 860it [00:29, 29.55it/s]\n",
      "MAE/CA 19576.785095: : 860it [00:28, 29.80it/s]\n",
      "MAE/CA 19575.966983: : 860it [00:28, 29.93it/s]\n",
      "MAE/CA 19576.967781: : 860it [00:28, 29.99it/s]\n",
      "MAE/CA 19576.996272: : 860it [00:29, 29.40it/s]\n",
      "MAE/CA 19575.331787: : 860it [00:28, 30.07it/s]\n",
      "MAE/CA 19575.361626: : 860it [00:29, 29.62it/s]\n",
      "MAE/CA 19573.190075: : 860it [00:28, 30.02it/s]\n",
      "MAE/CA 19578.651417: : 860it [00:28, 30.56it/s]\n",
      "MAE/CA 19574.240558: : 860it [00:29, 29.64it/s]\n",
      "MAE/CA 19572.983333: : 860it [00:28, 30.57it/s]\n",
      "MAE/CA 19575.726190: : 860it [00:29, 29.48it/s]\n",
      "MAE/CA 19574.092864: : 860it [00:28, 30.01it/s]\n",
      "MAE/CA 19574.784644: : 860it [00:29, 29.56it/s]\n",
      "MAE/CA 19576.830203: : 860it [00:28, 29.71it/s]\n",
      "MAE/CA 19574.990982: : 860it [00:28, 29.80it/s]\n",
      "MAE/CA 19574.460486: : 860it [00:28, 29.70it/s]\n",
      "MAE/CA 19579.231524: : 860it [00:28, 29.85it/s]\n",
      "MAE/CA 19574.432670: : 860it [00:28, 30.16it/s]\n",
      "MAE/CA 19575.056899: : 860it [00:28, 29.73it/s]\n",
      "MAE/CA 19574.958875: : 860it [00:29, 29.61it/s]\n",
      "MAE/CA 19578.279370: : 860it [00:28, 29.69it/s]\n",
      "MAE/CA 19576.668574: : 860it [00:28, 29.74it/s]\n",
      "MAE/CA 19576.374202: : 860it [00:28, 30.31it/s]\n",
      "MAE/CA 19576.915561: : 860it [00:28, 29.87it/s]\n",
      "MAE/CA 19576.992814: : 860it [00:29, 29.45it/s]\n",
      "MAE/CA 19575.192185: : 860it [00:28, 29.71it/s]\n",
      "MAE/CA 19573.639758: : 860it [00:28, 29.67it/s]\n",
      "MAE/CA 19575.137578: : 860it [00:27, 30.81it/s]\n",
      "MAE/CA 19576.547438: : 860it [00:28, 29.97it/s]\n",
      "MAE/CA 19576.293548: : 860it [00:27, 31.35it/s]\n",
      "MAE/CA 19574.348380: : 860it [00:28, 29.68it/s]\n",
      "MAE/CA 19577.844384: : 860it [00:29, 29.65it/s]\n",
      "MAE/CA 19575.405593: : 860it [00:28, 29.81it/s]\n",
      "MAE/CA 19574.545234: : 860it [00:28, 29.87it/s]\n",
      "MAE/CA 19580.329526: : 860it [00:27, 31.25it/s]\n",
      "MAE/CA 19576.994382: : 860it [00:28, 30.59it/s]\n",
      "MAE/CA 19574.787194: : 860it [00:29, 29.56it/s]\n",
      "MAE/CA 19577.376377: : 860it [00:28, 29.81it/s]\n",
      "MAE/CA 19576.225953: : 860it [00:29, 29.28it/s]\n",
      "MAE/CA 19573.807890: : 860it [00:27, 31.15it/s]\n",
      "MAE/CA 19575.312834: : 860it [00:29, 29.37it/s]\n",
      "MAE/CA 19578.169085: : 860it [00:29, 29.57it/s]\n",
      "MAE/CA 19576.013860: : 860it [00:28, 29.75it/s]\n",
      "MAE/CA 19577.441568: : 860it [00:28, 29.69it/s]\n",
      "MAE/CA 19575.029783: : 860it [00:28, 29.67it/s]\n",
      "MAE/CA 19576.963259: : 860it [00:28, 29.94it/s]\n",
      "MAE/CA 19574.957203: : 860it [00:28, 30.12it/s]\n",
      "MAE/CA 19575.365399: : 860it [00:28, 29.84it/s]\n",
      "MAE/CA 19576.431070: : 860it [00:28, 29.66it/s]\n",
      "MAE/CA 19572.563425: : 860it [00:27, 30.86it/s]\n",
      "MAE/CA 19574.491291: : 860it [00:28, 30.20it/s]\n",
      "MAE/CA 19577.685088: : 860it [00:29, 29.40it/s]\n",
      "MAE/CA 19576.276130: : 860it [00:29, 29.34it/s]\n",
      "MAE/CA 19574.176255: : 860it [00:29, 29.29it/s]\n",
      "MAE/CA 19575.720872: : 860it [00:28, 30.01it/s]\n",
      "MAE/CA 19580.512117: : 860it [00:28, 30.05it/s]\n",
      "MAE/CA 19573.703430: : 860it [00:29, 29.56it/s]\n",
      "MAE/CA 19578.580600: : 860it [00:28, 29.77it/s]\n",
      "MAE/CA 19575.494136: : 860it [00:28, 29.67it/s]\n",
      "MAE/CA 19574.641842: : 860it [00:28, 29.68it/s]\n",
      "MAE/CA 19575.944961: : 860it [00:28, 29.69it/s]\n",
      "MAE/CA 19573.880594: : 860it [00:29, 29.57it/s]\n",
      "MAE/CA 19573.633892: : 860it [00:28, 29.91it/s]\n",
      "MAE/CA 19572.761815: : 860it [00:28, 30.06it/s]\n",
      "MAE/CA 19573.551867: : 860it [00:29, 29.55it/s]\n"
     ]
    },
    {
     "name": "stderr",
     "output_type": "stream",
     "text": [
      "MAE/CA 19574.453206: : 860it [00:29, 29.64it/s]\n",
      "MAE/CA 19575.575409: : 860it [00:28, 29.84it/s]\n",
      "MAE/CA 19578.835361: : 860it [00:28, 29.91it/s]\n",
      "MAE/CA 19575.095974: : 860it [00:28, 29.81it/s]\n",
      "MAE/CA 19575.876738: : 860it [00:28, 29.73it/s]\n",
      "MAE/CA 19578.212658: : 860it [00:28, 30.03it/s]\n",
      "MAE/CA 19575.687152: : 860it [00:28, 29.74it/s]\n",
      "MAE/CA 19577.270103: : 860it [00:28, 29.81it/s]\n",
      "MAE/CA 19576.004515: : 860it [00:28, 29.79it/s]\n",
      "MAE/CA 19575.354925: : 860it [00:29, 29.64it/s]\n",
      "MAE/CA 19577.661831: : 860it [00:29, 29.52it/s]\n",
      "MAE/CA 19576.135044: : 860it [00:28, 29.69it/s]\n",
      "MAE/CA 19580.324127: : 860it [00:28, 30.30it/s]\n",
      "MAE/CA 19574.886374: : 860it [00:29, 29.38it/s]\n",
      "MAE/CA 19576.598824: : 860it [00:29, 29.64it/s]\n",
      "MAE/CA 19577.300104: : 860it [00:28, 30.47it/s]\n",
      "MAE/CA 19582.128591: : 860it [00:28, 29.70it/s]\n",
      "MAE/CA 19576.204553: : 860it [00:28, 29.97it/s]\n",
      "MAE/CA 19577.609101: : 860it [00:29, 29.63it/s]\n",
      "MAE/CA 19574.823069: : 860it [00:28, 29.96it/s]\n",
      "MAE/CA 19571.585850: : 860it [00:28, 29.98it/s]\n",
      "MAE/CA 19576.472632: : 860it [00:27, 31.28it/s]\n",
      "MAE/CA 19574.136734: : 860it [00:28, 29.94it/s]\n",
      "MAE/CA 19577.312539: : 860it [00:29, 29.65it/s]\n",
      "MAE/CA 19579.481362: : 860it [00:29, 29.51it/s]\n",
      "MAE/CA 19576.650392: : 860it [00:28, 29.67it/s]\n",
      "MAE/CA 19580.132920: : 860it [00:29, 29.52it/s]\n",
      "MAE/CA 19573.583900: : 860it [00:28, 29.81it/s]\n",
      "MAE/CA 19574.356645: : 860it [00:29, 29.58it/s]\n",
      "MAE/CA 19575.519357: : 860it [00:28, 29.79it/s]\n",
      "MAE/CA 19576.672850: : 860it [00:28, 29.67it/s]\n",
      "MAE/CA 19576.284056: : 860it [00:28, 29.68it/s]\n",
      "MAE/CA 19578.387732: : 860it [00:29, 29.50it/s]\n",
      "MAE/CA 19574.605014: : 860it [00:28, 29.77it/s]\n",
      "MAE/CA 19573.920942: : 860it [00:28, 29.70it/s]\n",
      "MAE/CA 19575.387661: : 860it [00:29, 29.63it/s]\n",
      "MAE/CA 19575.247763: : 860it [00:29, 29.48it/s]\n",
      "MAE/CA 19577.395310: : 860it [00:28, 29.69it/s]\n",
      "MAE/CA 19580.518085: : 860it [00:27, 31.52it/s]\n",
      "MAE/CA 19574.146480: : 860it [00:28, 29.73it/s]\n",
      "MAE/CA 19577.205507: : 860it [00:29, 29.56it/s]\n",
      "MAE/CA 19575.491817: : 860it [00:27, 30.78it/s]\n",
      "MAE/CA 19577.340740: : 860it [00:28, 29.81it/s]\n",
      "MAE/CA 19576.717689: : 860it [00:29, 29.62it/s]\n",
      "MAE/CA 19580.895988: : 860it [00:27, 30.78it/s]\n",
      "MAE/CA 19578.130183: : 860it [00:28, 29.88it/s]\n",
      "MAE/CA 19580.501062: : 860it [00:29, 29.55it/s]\n",
      "MAE/CA 19573.746046: : 860it [00:29, 29.63it/s]\n",
      "MAE/CA 19575.592894: : 860it [00:28, 29.80it/s]\n",
      "MAE/CA 19578.172835: : 860it [00:28, 29.90it/s]\n",
      "MAE/CA 19574.200066: : 860it [00:29, 29.57it/s]\n",
      "MAE/CA 19575.379643: : 860it [00:29, 29.65it/s]\n",
      "MAE/CA 19577.389571: : 860it [00:27, 30.76it/s]\n",
      "MAE/CA 19575.665602: : 860it [00:28, 30.28it/s]\n",
      "MAE/CA 19577.808271: : 860it [00:28, 30.00it/s]\n",
      "MAE/CA 19575.570421: : 860it [00:28, 30.41it/s]\n",
      "MAE/CA 19576.953967: : 860it [00:28, 29.84it/s]\n",
      "MAE/CA 19574.519557: : 860it [00:28, 29.75it/s]\n",
      "MAE/CA 19576.275357: : 860it [00:29, 29.62it/s]\n",
      "MAE/CA 19575.669353: : 860it [00:28, 29.91it/s]\n",
      "MAE/CA 19576.266438: : 860it [00:28, 30.69it/s]\n",
      "MAE/CA 19573.962259: : 860it [00:28, 29.74it/s]\n",
      "MAE/CA 19580.631886: : 860it [00:29, 29.56it/s]\n",
      "MAE/CA 19575.008427: : 860it [00:28, 29.68it/s]\n",
      "MAE/CA 19575.483581: : 860it [00:29, 29.61it/s]\n",
      "MAE/CA 19575.745550: : 860it [00:28, 29.83it/s]\n",
      "MAE/CA 19574.816203: : 860it [00:28, 30.32it/s]\n",
      "MAE/CA 19577.729004: : 860it [00:29, 29.57it/s]\n",
      "MAE/CA 19576.788530: : 860it [00:28, 30.35it/s]\n",
      "MAE/CA 19577.867710: : 860it [00:28, 30.11it/s]\n",
      "MAE/CA 19575.625422: : 860it [00:28, 29.66it/s]\n",
      "MAE/CA 19575.654671: : 860it [00:28, 29.73it/s]\n",
      "MAE/CA 19578.521961: : 860it [00:29, 29.65it/s]\n",
      "MAE/CA 19575.924501: : 860it [00:28, 29.88it/s]\n",
      "MAE/CA 19576.038393: : 860it [00:28, 29.66it/s]\n",
      "MAE/CA 19576.105208: : 860it [00:28, 29.67it/s]\n",
      "MAE/CA 19573.488117: : 860it [00:29, 29.64it/s]\n",
      "MAE/CA 19576.909318: : 860it [00:29, 29.57it/s]\n",
      "MAE/CA 19574.515551: : 860it [00:28, 29.73it/s]\n",
      "MAE/CA 19574.599071: : 860it [00:29, 29.60it/s]\n",
      "MAE/CA 19576.165306: : 860it [00:29, 29.54it/s]\n",
      "MAE/CA 19575.895702: : 860it [00:28, 30.17it/s]\n",
      "MAE/CA 19576.257502: : 860it [00:28, 29.73it/s]\n",
      "MAE/CA 19575.508287: : 860it [00:28, 29.73it/s]\n",
      "MAE/CA 19573.962749: : 860it [00:29, 29.51it/s]\n",
      "MAE/CA 19577.874295: : 860it [00:28, 29.77it/s]\n",
      "MAE/CA 19573.525524: : 860it [00:28, 30.61it/s]\n",
      "MAE/CA 19576.376783: : 860it [00:28, 29.73it/s]\n",
      "MAE/CA 19574.421742: : 860it [00:29, 29.51it/s]\n",
      "MAE/CA 19575.258284: : 860it [00:28, 29.98it/s]\n",
      "MAE/CA 19573.139007: : 860it [00:28, 29.94it/s]\n",
      "MAE/CA 19575.330572: : 860it [00:28, 30.11it/s]\n",
      "MAE/CA 19576.457289: : 860it [00:28, 30.03it/s]\n",
      "MAE/CA 19577.179282: : 860it [00:29, 29.38it/s]\n",
      "MAE/CA 19578.342891: : 860it [00:29, 29.57it/s]\n",
      "MAE/CA 19573.210934: : 860it [00:28, 29.66it/s]\n",
      "MAE/CA 19573.316146: : 860it [00:29, 29.22it/s]\n",
      "MAE/CA 19575.050238: : 860it [00:29, 29.56it/s]\n",
      "MAE/CA 19577.083690: : 860it [00:28, 29.85it/s]\n",
      "MAE/CA 19576.003494: : 860it [00:28, 29.82it/s]\n",
      "MAE/CA 19575.669238: : 860it [00:29, 29.46it/s]\n",
      "MAE/CA 19578.766229: : 860it [00:28, 30.51it/s]\n",
      "MAE/CA 19575.827233: : 860it [00:29, 29.56it/s]\n",
      "MAE/CA 19576.488353: : 860it [00:29, 29.60it/s]\n",
      "MAE/CA 19577.629212: : 860it [00:28, 30.28it/s]\n",
      "MAE/CA 19576.850823: : 860it [00:28, 29.73it/s]\n",
      "MAE/CA 19573.640854: : 860it [00:29, 29.60it/s]\n",
      "MAE/CA 19574.212521: : 860it [00:29, 29.61it/s]\n",
      "MAE/CA 19575.176188: : 860it [00:28, 29.75it/s]\n",
      "MAE/CA 19575.893842: : 860it [00:29, 29.42it/s]\n",
      "MAE/CA 19577.191403: : 860it [00:28, 30.44it/s]\n",
      "MAE/CA 19575.235504: : 860it [00:28, 29.69it/s]\n",
      "MAE/CA 19574.941140: : 860it [00:28, 29.68it/s]\n",
      "MAE/CA 19576.355928: : 860it [00:28, 29.69it/s]\n",
      "MAE/CA 19575.555527: : 860it [00:29, 29.53it/s]\n",
      "MAE/CA 19574.191010: : 860it [00:28, 29.73it/s]\n",
      "MAE/CA 19577.485998: : 860it [00:28, 29.71it/s]\n",
      "MAE/CA 19576.908900: : 860it [00:29, 29.59it/s]\n",
      "MAE/CA 19574.312354: : 860it [00:28, 30.09it/s]\n",
      "MAE/CA 19576.176787: : 860it [00:29, 29.37it/s]\n",
      "MAE/CA 19575.788383: : 860it [00:29, 29.47it/s]\n",
      "MAE/CA 19574.929874: : 860it [00:29, 29.56it/s]\n",
      "MAE/CA 19576.167717: : 860it [00:29, 29.40it/s]\n",
      "MAE/CA 19574.169851: : 860it [00:28, 30.01it/s]\n",
      "MAE/CA 19577.660920: : 860it [00:29, 29.52it/s]\n",
      "MAE/CA 19575.887788: : 860it [00:28, 29.72it/s]\n",
      "MAE/CA 19574.559293: : 860it [00:29, 29.43it/s]\n",
      "MAE/CA 19575.815829: : 860it [00:28, 30.00it/s]\n",
      "MAE/CA 19576.143445: : 860it [00:28, 29.91it/s]\n",
      "MAE/CA 19575.833457: : 860it [00:28, 30.46it/s]\n",
      "MAE/CA 19578.447522: : 860it [00:29, 29.42it/s]\n",
      "MAE/CA 19575.156247: : 860it [00:28, 30.42it/s]\n",
      "MAE/CA 19576.873520: : 860it [00:28, 29.98it/s]\n",
      "MAE/CA 19575.218094: : 860it [00:28, 29.69it/s]\n",
      "MAE/CA 19577.672465: : 860it [00:28, 30.11it/s]\n",
      "MAE/CA 19578.097075: : 860it [00:28, 29.66it/s]\n",
      "MAE/CA 19575.016002: : 860it [00:29, 29.58it/s]\n",
      "MAE/CA 19577.418085: : 860it [00:28, 30.34it/s]\n",
      "MAE/CA 19574.611763: : 860it [00:28, 30.50it/s]\n",
      "MAE/CA 19578.534584: : 860it [00:28, 30.03it/s]\n",
      "MAE/CA 19576.942545: : 860it [00:29, 29.63it/s]\n",
      "MAE/CA 19574.286719: : 860it [00:27, 30.92it/s]\n",
      "MAE/CA 19577.737661: : 860it [00:28, 29.94it/s]\n",
      "MAE/CA 19572.936315: : 860it [00:28, 29.92it/s]\n",
      "MAE/CA 19577.296211: : 860it [00:29, 29.53it/s]\n",
      "MAE/CA 19576.709451: : 860it [00:28, 29.67it/s]\n",
      "MAE/CA 19576.518585: : 860it [00:28, 29.95it/s]\n",
      "MAE/CA 19574.045176: : 860it [00:28, 29.68it/s]\n",
      "MAE/CA 19573.086847: : 860it [00:29, 29.50it/s]\n",
      "MAE/CA 19573.920805: : 860it [00:28, 30.10it/s]\n",
      "MAE/CA 19575.154984: : 860it [00:28, 29.86it/s]\n",
      "MAE/CA 19573.239666: : 860it [00:28, 30.00it/s]\n",
      "MAE/CA 19574.161158: : 860it [00:29, 29.44it/s]\n",
      "MAE/CA 19572.912872: : 860it [00:29, 29.53it/s]\n",
      "MAE/CA 19577.124281: : 860it [00:28, 29.72it/s]\n",
      "MAE/CA 19577.061613: : 860it [00:29, 29.49it/s]\n",
      "MAE/CA 19575.081691: : 860it [00:28, 30.40it/s]\n",
      "MAE/CA 19577.045272: : 860it [00:29, 29.63it/s]\n",
      "MAE/CA 19575.722968: : 860it [00:29, 29.56it/s]\n",
      "MAE/CA 19577.776436: : 860it [00:29, 29.46it/s]\n",
      "MAE/CA 19573.834174: : 860it [00:27, 30.80it/s]\n",
      "MAE/CA 19575.539722: : 860it [00:28, 30.33it/s]\n",
      "MAE/CA 19574.778729: : 860it [00:29, 29.60it/s]\n",
      "MAE/CA 19579.585321: : 860it [00:29, 29.62it/s]\n",
      "MAE/CA 19574.793096: : 860it [00:29, 29.47it/s]\n",
      "MAE/CA 19576.990588: : 860it [00:27, 30.97it/s]\n",
      "MAE/CA 19575.035774: : 860it [00:28, 29.72it/s]\n",
      "MAE/CA 19576.480599: : 860it [00:28, 29.70it/s]\n",
      "MAE/CA 19576.123367: : 860it [00:28, 30.57it/s]\n",
      "MAE/CA 19575.961427: : 860it [00:28, 29.76it/s]\n"
     ]
    },
    {
     "name": "stderr",
     "output_type": "stream",
     "text": [
      "MAE/CA 19574.265315: : 860it [00:28, 30.33it/s]\n",
      "MAE/CA 19575.787142: : 860it [00:28, 30.02it/s]\n",
      "MAE/CA 19576.301635: : 860it [00:28, 29.67it/s]\n",
      "MAE/CA 19574.569276: : 860it [00:28, 30.26it/s]\n",
      "MAE/CA 19574.678451: : 860it [00:28, 29.82it/s]\n",
      "MAE/CA 19574.433149: : 860it [00:29, 29.38it/s]\n",
      "MAE/CA 19577.113054: : 860it [00:28, 29.76it/s]\n",
      "MAE/CA 19577.013792: : 860it [00:28, 30.13it/s]\n",
      "MAE/CA 19577.092019: : 860it [00:28, 29.85it/s]\n",
      "MAE/CA 19576.019573: : 860it [00:29, 29.64it/s]\n",
      "MAE/CA 19576.343303: : 860it [00:29, 29.58it/s]\n",
      "MAE/CA 19573.223979: : 860it [00:28, 30.08it/s]\n",
      "MAE/CA 19577.729125: : 860it [00:28, 29.92it/s]\n",
      "MAE/CA 19576.788266: : 860it [00:28, 30.10it/s]\n",
      "MAE/CA 19573.368836: : 860it [00:28, 29.79it/s]\n",
      "MAE/CA 19575.352413: : 860it [00:28, 29.68it/s]\n",
      "MAE/CA 19575.381433: : 860it [00:29, 29.59it/s]\n",
      "MAE/CA 19573.753168: : 860it [00:27, 30.84it/s]\n",
      "MAE/CA 19573.612500: : 860it [00:28, 29.86it/s]\n",
      "MAE/CA 19575.157013: : 860it [00:28, 29.77it/s]\n",
      "MAE/CA 19575.956288: : 860it [00:28, 29.90it/s]\n",
      "MAE/CA 19574.567674: : 860it [00:28, 29.70it/s]\n",
      "MAE/CA 19573.350886: : 860it [00:28, 30.42it/s]\n",
      "MAE/CA 19577.637453: : 860it [00:28, 30.00it/s]\n",
      "MAE/CA 19575.775760: : 860it [00:28, 29.93it/s]\n",
      "MAE/CA 19575.944323: : 860it [00:29, 29.49it/s]\n",
      "MAE/CA 19575.593936: : 860it [00:28, 29.76it/s]\n",
      "MAE/CA 19574.806838: : 860it [00:28, 29.76it/s]\n",
      "MAE/CA 19574.060007: : 860it [00:27, 30.94it/s]\n",
      "MAE/CA 19575.816173: : 860it [00:28, 30.27it/s]\n",
      "MAE/CA 19572.478741: : 860it [00:29, 29.55it/s]\n",
      "MAE/CA 19578.039998: : 860it [00:28, 29.76it/s]\n",
      "MAE/CA 19578.883630: : 860it [00:28, 29.70it/s]\n",
      "MAE/CA 19576.822520: : 860it [00:28, 29.85it/s]\n",
      "MAE/CA 19577.322896: : 860it [00:29, 29.50it/s]\n",
      "MAE/CA 19575.089886: : 860it [00:28, 29.88it/s]\n",
      "MAE/CA 19577.108720: : 860it [00:28, 30.24it/s]\n",
      "MAE/CA 19576.262687: : 860it [00:29, 29.50it/s]\n",
      "MAE/CA 19574.746100: : 860it [00:28, 29.87it/s]\n",
      "MAE/CA 19575.450051: : 860it [00:28, 29.97it/s]\n",
      "MAE/CA 19575.420883: : 860it [00:27, 30.83it/s]\n",
      "MAE/CA 19575.500190: : 860it [00:28, 30.24it/s]\n",
      "MAE/CA 19575.092721: : 860it [00:28, 30.02it/s]\n",
      "MAE/CA 19575.450520: : 860it [00:29, 29.49it/s]\n",
      "MAE/CA 19574.579009: : 860it [00:28, 29.68it/s]\n",
      "MAE/CA 19580.188389: : 860it [00:28, 30.37it/s]\n",
      "MAE/CA 19574.508353: : 860it [00:28, 29.71it/s]\n",
      "MAE/CA 19577.452329: : 860it [00:28, 29.85it/s]\n",
      "MAE/CA 19574.971451: : 860it [00:29, 29.56it/s]\n",
      "MAE/CA 19576.553209: : 860it [00:28, 29.76it/s]\n",
      "MAE/CA 19575.929986: : 860it [00:28, 30.26it/s]\n",
      "MAE/CA 19574.616777: : 860it [00:29, 29.53it/s]\n",
      "MAE/CA 19578.718701: : 860it [00:28, 30.02it/s]\n",
      "MAE/CA 19575.602916: : 860it [00:27, 30.76it/s]\n",
      "MAE/CA 19573.711538: : 860it [00:28, 29.66it/s]\n",
      "MAE/CA 19577.085640: : 860it [00:28, 29.68it/s]\n",
      "MAE/CA 19576.835508: : 860it [00:28, 30.16it/s]\n",
      "MAE/CA 19578.162496: : 860it [00:28, 29.68it/s]\n",
      "MAE/CA 19577.695440: : 860it [00:29, 29.56it/s]\n",
      "MAE/CA 19572.965512: : 860it [00:28, 29.67it/s]\n",
      "MAE/CA 19575.044477: : 860it [00:28, 29.78it/s]\n",
      "MAE/CA 19579.810666: : 860it [00:29, 29.46it/s]\n",
      "MAE/CA 19578.935993: : 860it [00:28, 30.01it/s]\n",
      "MAE/CA 19576.048557: : 860it [00:28, 29.83it/s]\n",
      "MAE/CA 19580.134747: : 860it [00:28, 29.77it/s]\n",
      "MAE/CA 19575.540244: : 860it [00:28, 29.77it/s]\n",
      "MAE/CA 19576.885646: : 860it [00:28, 29.76it/s]\n",
      "MAE/CA 19576.098902: : 860it [00:29, 29.65it/s]\n",
      "MAE/CA 19575.328888: : 860it [00:29, 29.58it/s]\n",
      "MAE/CA 19574.357134: : 860it [00:28, 29.97it/s]\n",
      "MAE/CA 19573.028160: : 860it [00:28, 29.86it/s]\n",
      "MAE/CA 19575.183615: : 860it [00:28, 30.11it/s]\n",
      "MAE/CA 19578.379732: : 860it [00:28, 30.48it/s]\n",
      "MAE/CA 19577.405843: : 860it [00:29, 29.54it/s]\n",
      "MAE/CA 19573.263575: : 860it [00:28, 30.27it/s]\n",
      "MAE/CA 19572.454190: : 860it [00:28, 29.70it/s]\n",
      "MAE/CA 19574.113005: : 860it [00:28, 30.28it/s]\n",
      "MAE/CA 19576.936226: : 860it [00:28, 29.74it/s]\n",
      "MAE/CA 19580.477788: : 860it [00:28, 30.12it/s]\n",
      "MAE/CA 19573.600063: : 860it [00:28, 29.66it/s]\n",
      "MAE/CA 19576.618196: : 860it [00:28, 29.86it/s]\n",
      "MAE/CA 19576.334655: : 860it [00:28, 30.27it/s]\n",
      "MAE/CA 19572.121377: : 860it [00:28, 30.35it/s]\n",
      "MAE/CA 19577.663313: : 860it [00:28, 30.08it/s]\n",
      "MAE/CA 19575.091257: : 860it [00:29, 29.53it/s]\n",
      "MAE/CA 19576.502442: : 860it [00:28, 29.95it/s]\n",
      "MAE/CA 19575.643252: : 860it [00:29, 29.13it/s]\n",
      "MAE/CA 19578.123209: : 860it [00:29, 29.58it/s]\n",
      "MAE/CA 19574.634606: : 860it [00:28, 29.69it/s]\n",
      "MAE/CA 19576.669916: : 860it [00:28, 30.27it/s]\n",
      "MAE/CA 19574.916672: : 860it [00:28, 29.82it/s]\n",
      "MAE/CA 19577.795283: : 860it [00:29, 29.63it/s]\n",
      "MAE/CA 19575.360878: : 860it [00:28, 29.88it/s]\n",
      "MAE/CA 19576.717981: : 860it [00:28, 29.76it/s]\n",
      "MAE/CA 19577.582530: : 860it [00:28, 29.72it/s]\n",
      "MAE/CA 19578.173648: : 860it [00:28, 29.98it/s]\n",
      "MAE/CA 19573.166263: : 860it [00:29, 29.32it/s]\n",
      "MAE/CA 19574.826870: : 860it [00:28, 29.85it/s]\n",
      "MAE/CA 19574.470529: : 860it [00:28, 29.71it/s]\n",
      "MAE/CA 19575.488263: : 860it [00:28, 30.01it/s]\n",
      "MAE/CA 19577.888559: : 860it [00:29, 29.55it/s]\n",
      "MAE/CA 19574.297251: : 860it [00:29, 29.63it/s]\n",
      "MAE/CA 19575.617490: : 860it [00:29, 29.57it/s]\n",
      "MAE/CA 19578.268020: : 860it [00:28, 29.83it/s]\n",
      "MAE/CA 19575.459449: : 860it [00:29, 29.60it/s]\n",
      "MAE/CA 19575.210294: : 860it [00:28, 29.97it/s]\n",
      "MAE/CA 19575.737730: : 860it [00:28, 29.91it/s]\n",
      "MAE/CA 19577.749010: : 860it [00:28, 30.54it/s]\n",
      "MAE/CA 19574.694481: : 860it [00:28, 29.82it/s]\n",
      "MAE/CA 19575.762897: : 860it [00:28, 30.50it/s]\n",
      "MAE/CA 19577.835311: : 860it [00:29, 29.57it/s]\n",
      "MAE/CA 19576.042945: : 860it [00:29, 29.40it/s]\n",
      "MAE/CA 19575.115321: : 860it [00:29, 29.53it/s]\n",
      "MAE/CA 19576.103149: : 860it [00:28, 29.97it/s]\n",
      "MAE/CA 19574.510783: : 860it [00:28, 29.74it/s]\n",
      "MAE/CA 19576.993415: : 860it [00:29, 29.64it/s]\n",
      "MAE/CA 19577.401062: : 860it [00:28, 30.03it/s]\n",
      "MAE/CA 19573.867136: : 860it [00:28, 30.06it/s]\n",
      "MAE/CA 19573.646824: : 860it [00:29, 29.41it/s]\n",
      "MAE/CA 19574.564312: : 860it [00:28, 29.69it/s]\n",
      "MAE/CA 19574.757086: : 860it [00:28, 29.80it/s]\n",
      "MAE/CA 19576.429399: : 860it [00:28, 29.68it/s]\n",
      "MAE/CA 19578.008092: : 860it [00:29, 29.42it/s]\n",
      "MAE/CA 19576.038586: : 860it [00:29, 29.44it/s]\n",
      "MAE/CA 19575.933209: : 860it [00:29, 29.63it/s]\n",
      "MAE/CA 19576.021207: : 860it [00:28, 30.21it/s]\n",
      "MAE/CA 19576.156060: : 860it [00:29, 29.52it/s]\n",
      "MAE/CA 19572.987380: : 860it [00:28, 29.69it/s]\n",
      "MAE/CA 19576.153929: : 860it [00:29, 29.51it/s]\n",
      "MAE/CA 19577.893707: : 860it [00:28, 29.66it/s]\n",
      "MAE/CA 19576.289179: : 860it [00:28, 29.99it/s]\n",
      "MAE/CA 19573.985582: : 860it [00:28, 29.91it/s]\n",
      "MAE/CA 19576.844878: : 860it [00:29, 29.50it/s]\n",
      "MAE/CA 19576.954784: : 860it [00:29, 29.34it/s]\n",
      "MAE/CA 19576.504779: : 860it [00:29, 29.53it/s]\n",
      "MAE/CA 19573.723964: : 860it [00:28, 29.74it/s]\n",
      "MAE/CA 19575.179923: : 860it [00:29, 29.60it/s]\n",
      "MAE/CA 19576.999649: : 860it [00:29, 29.45it/s]\n",
      "MAE/CA 19575.552584: : 860it [00:28, 30.68it/s]\n",
      "MAE/CA 19575.159614: : 860it [00:28, 29.97it/s]\n",
      "MAE/CA 19575.635309: : 860it [00:28, 30.02it/s]\n",
      "MAE/CA 19575.726294: : 860it [00:28, 30.00it/s]\n",
      "MAE/CA 19574.882407: : 860it [00:28, 30.09it/s]\n",
      "MAE/CA 19577.280676: : 860it [00:28, 29.76it/s]\n",
      "MAE/CA 19577.287234: : 860it [00:28, 29.83it/s]\n",
      "MAE/CA 19576.937196: : 860it [00:29, 29.65it/s]\n",
      "MAE/CA 19576.537515: : 860it [00:28, 29.84it/s]\n",
      "MAE/CA 19576.188380: : 860it [00:28, 30.36it/s]\n",
      "MAE/CA 19575.437652: : 860it [00:28, 29.82it/s]\n",
      "MAE/CA 19575.827312: : 860it [00:28, 29.80it/s]\n",
      "MAE/CA 19573.739555: : 860it [00:28, 29.97it/s]\n",
      "MAE/CA 19574.703420: : 860it [00:29, 29.56it/s]\n",
      "MAE/CA 19575.010032: : 860it [00:28, 29.72it/s]\n",
      "MAE/CA 19576.952833: : 860it [00:28, 30.31it/s]\n",
      "MAE/CA 19573.120957: : 860it [00:28, 29.79it/s]\n",
      "MAE/CA 19575.141800: : 860it [00:28, 30.44it/s]\n",
      "MAE/CA 19577.306284: : 860it [00:28, 29.66it/s]\n",
      "MAE/CA 19575.729151: : 860it [00:28, 29.74it/s]\n",
      "MAE/CA 19571.847098: : 860it [00:29, 29.13it/s]\n",
      "MAE/CA 19576.789322: : 860it [00:29, 29.43it/s]\n",
      "MAE/CA 19579.485305: : 860it [00:28, 29.97it/s]\n",
      "MAE/CA 19577.561484: : 860it [00:28, 29.72it/s]\n",
      "MAE/CA 19574.410402: : 860it [00:28, 29.66it/s]\n",
      "MAE/CA 19574.256871: : 860it [00:28, 29.69it/s]\n",
      "MAE/CA 19576.065668: : 860it [00:28, 30.13it/s]\n",
      "MAE/CA 19574.690213: : 860it [00:28, 29.91it/s]\n",
      "MAE/CA 19574.421645: : 860it [00:29, 29.56it/s]\n",
      "MAE/CA 19579.928120: : 860it [00:28, 29.77it/s]\n",
      "MAE/CA 19574.835504: : 860it [00:27, 31.22it/s]\n",
      "MAE/CA 19575.885013: : 860it [00:29, 29.63it/s]\n"
     ]
    },
    {
     "name": "stderr",
     "output_type": "stream",
     "text": [
      "MAE/CA 19575.551318: : 860it [00:29, 29.62it/s]\n",
      "MAE/CA 19576.197177: : 860it [00:28, 29.89it/s]\n",
      "MAE/CA 19572.874706: : 860it [00:28, 30.07it/s]\n",
      "MAE/CA 19577.441007: : 860it [00:28, 29.67it/s]\n",
      "MAE/CA 19580.333368: : 860it [00:28, 29.75it/s]\n",
      "MAE/CA 19576.584173: : 860it [00:28, 29.88it/s]\n",
      "MAE/CA 19575.632386: : 860it [00:28, 30.21it/s]\n",
      "MAE/CA 19574.549749: : 860it [00:28, 29.90it/s]\n",
      "MAE/CA 19575.038352: : 860it [00:29, 29.55it/s]\n",
      "MAE/CA 19574.663663: : 860it [00:29, 29.64it/s]\n",
      "MAE/CA 19574.803082: : 860it [00:28, 30.05it/s]\n",
      "MAE/CA 19573.635653: : 860it [00:28, 29.78it/s]\n",
      "MAE/CA 19575.154867: : 860it [00:28, 29.96it/s]\n",
      "MAE/CA 19574.615242: : 860it [00:29, 29.65it/s]\n",
      "MAE/CA 19575.481560: : 860it [00:28, 30.10it/s]\n",
      "MAE/CA 19577.045498: : 860it [00:29, 29.45it/s]\n",
      "MAE/CA 19574.419935: : 860it [00:28, 29.98it/s]\n",
      "MAE/CA 19575.004220: : 860it [00:28, 30.62it/s]\n",
      "MAE/CA 19574.321571: : 860it [00:28, 30.24it/s]\n",
      "MAE/CA 19572.583850: : 860it [00:28, 30.20it/s]\n",
      "MAE/CA 19576.692640: : 860it [00:28, 29.70it/s]\n",
      "MAE/CA 19574.424028: : 860it [00:28, 29.67it/s]\n",
      "MAE/CA 19576.907946: : 860it [00:29, 29.33it/s]\n",
      "MAE/CA 19573.716456: : 860it [00:28, 29.77it/s]\n",
      "MAE/CA 19575.232779: : 860it [00:28, 30.31it/s]\n",
      "MAE/CA 19575.249632: : 860it [00:28, 30.28it/s]\n",
      "MAE/CA 19577.711559: : 860it [00:28, 29.90it/s]\n",
      "MAE/CA 19577.673523: : 860it [00:28, 29.75it/s]\n",
      "MAE/CA 19578.016521: : 860it [00:28, 30.07it/s]\n",
      "MAE/CA 19573.710485: : 860it [00:28, 30.21it/s]\n",
      "MAE/CA 19580.633418: : 860it [00:29, 29.56it/s]\n",
      "MAE/CA 19576.866694: : 860it [00:28, 30.46it/s]\n",
      "MAE/CA 19574.958183: : 860it [00:28, 30.01it/s]\n",
      "MAE/CA 19575.840635: : 860it [00:28, 30.21it/s]\n",
      "MAE/CA 19574.336541: : 860it [00:28, 29.85it/s]\n",
      "MAE/CA 19577.491005: : 860it [00:28, 29.75it/s]\n",
      "MAE/CA 19574.097383: : 860it [00:27, 30.81it/s]\n",
      "MAE/CA 19574.044262: : 860it [00:28, 30.42it/s]\n",
      "MAE/CA 19572.606508: : 860it [00:28, 29.71it/s]\n",
      "MAE/CA 19575.067480: : 860it [00:28, 29.73it/s]\n",
      "MAE/CA 19575.213448: : 860it [00:29, 29.45it/s]\n",
      "MAE/CA 19576.541701: : 860it [00:28, 29.75it/s]\n",
      "MAE/CA 19575.615872: : 860it [00:28, 29.70it/s]\n",
      "MAE/CA 19578.441109: : 860it [00:29, 29.56it/s]\n",
      "MAE/CA 19573.754437: : 860it [00:28, 29.84it/s]\n",
      "MAE/CA 19573.990509: : 860it [00:28, 30.24it/s]\n",
      "MAE/CA 19580.150671: : 860it [00:28, 30.28it/s]\n",
      "MAE/CA 19572.653561: : 860it [00:28, 29.67it/s]\n",
      "MAE/CA 19576.576610: : 860it [00:28, 29.95it/s]\n",
      "MAE/CA 19574.993821: : 860it [00:29, 29.52it/s]\n",
      "MAE/CA 19574.872267: : 860it [00:28, 29.90it/s]\n",
      "MAE/CA 19576.356405: : 860it [00:28, 29.88it/s]\n",
      "MAE/CA 19572.932541: : 860it [00:28, 29.88it/s]\n",
      "MAE/CA 19576.839718: : 860it [00:28, 30.00it/s]\n",
      "MAE/CA 19573.229924: : 860it [00:28, 29.68it/s]\n",
      "MAE/CA 19576.064821: : 860it [00:29, 29.61it/s]\n",
      "MAE/CA 19575.045534: : 860it [00:28, 30.53it/s]\n",
      "MAE/CA 19575.060357: : 860it [00:28, 30.67it/s]\n",
      "MAE/CA 19572.721454: : 860it [00:28, 29.73it/s]\n",
      "MAE/CA 19572.604365: : 860it [00:28, 29.96it/s]\n",
      "MAE/CA 19574.895638: : 860it [00:28, 29.66it/s]\n",
      "MAE/CA 19578.781042: : 860it [00:28, 29.94it/s]\n",
      "MAE/CA 19574.420693: : 860it [00:28, 30.23it/s]\n",
      "MAE/CA 19576.810939: : 860it [00:28, 30.04it/s]\n",
      "MAE/CA 19573.175437: : 860it [00:29, 29.61it/s]\n",
      "MAE/CA 19574.750226: : 860it [00:28, 29.86it/s]\n",
      "MAE/CA 19574.024857: : 860it [00:28, 30.29it/s]\n",
      "MAE/CA 19573.449479: : 860it [00:28, 29.74it/s]\n",
      "MAE/CA 19575.451787: : 860it [00:28, 30.65it/s]\n",
      "MAE/CA 19575.017513: : 860it [00:28, 29.71it/s]\n",
      "MAE/CA 19574.297950: : 860it [00:29, 29.44it/s]\n",
      "MAE/CA 19578.437940: : 860it [00:28, 29.82it/s]\n",
      "MAE/CA 19576.959910: : 860it [00:29, 29.64it/s]\n",
      "MAE/CA 19576.343008: : 860it [00:29, 29.33it/s]\n",
      "MAE/CA 19575.718307: : 860it [00:28, 29.68it/s]\n",
      "MAE/CA 19577.141614: : 860it [00:29, 29.60it/s]\n",
      "MAE/CA 19576.962189: : 860it [00:29, 29.61it/s]\n",
      "MAE/CA 19578.646950: : 860it [00:28, 29.80it/s]\n",
      "MAE/CA 19578.752919: : 860it [00:28, 30.63it/s]\n",
      "MAE/CA 19577.940700: : 860it [00:29, 29.57it/s]\n",
      "MAE/CA 19574.987668: : 860it [00:28, 29.91it/s]\n",
      "MAE/CA 19579.489836: : 860it [00:28, 29.71it/s]\n",
      "MAE/CA 19574.266712: : 860it [00:28, 29.72it/s]\n",
      "MAE/CA 19576.348885: : 860it [00:28, 29.87it/s]\n",
      "MAE/CA 19576.449922: : 860it [00:29, 29.60it/s]\n",
      "MAE/CA 19574.452030: : 860it [00:28, 29.91it/s]\n",
      "MAE/CA 19577.149566: : 860it [00:29, 29.52it/s]\n",
      "MAE/CA 19573.793712: : 860it [00:28, 29.89it/s]\n",
      "MAE/CA 19576.018746: : 860it [00:28, 30.39it/s]\n",
      "MAE/CA 19578.561035: : 860it [00:28, 30.20it/s]\n",
      "MAE/CA 19575.435423: : 860it [00:27, 31.18it/s]\n",
      "MAE/CA 19574.608522: : 860it [00:28, 29.78it/s]\n",
      "MAE/CA 19577.106211: : 860it [00:28, 29.76it/s]\n",
      "MAE/CA 19577.425850: : 860it [00:28, 29.89it/s]\n",
      "MAE/CA 19578.638691: : 860it [00:28, 29.76it/s]\n",
      "MAE/CA 19576.291237: : 860it [00:28, 29.79it/s]\n",
      "MAE/CA 19575.357280: : 860it [00:28, 29.80it/s]\n",
      "MAE/CA 19574.785629: : 860it [00:28, 30.20it/s]\n",
      "MAE/CA 19573.860286: : 860it [00:29, 29.55it/s]\n",
      "MAE/CA 19576.981175: : 860it [00:28, 29.97it/s]\n",
      "MAE/CA 19574.995020: : 860it [00:29, 29.61it/s]\n",
      "MAE/CA 19574.914922: : 860it [00:28, 30.09it/s]\n",
      "MAE/CA 19578.193258: : 860it [00:29, 29.43it/s]\n",
      "MAE/CA 19574.106588: : 860it [00:29, 29.56it/s]\n",
      "MAE/CA 19573.032027: : 860it [00:27, 31.07it/s]\n",
      "MAE/CA 19573.763550: : 860it [00:28, 29.86it/s]\n",
      "MAE/CA 19578.508543: : 860it [00:29, 29.53it/s]\n",
      "MAE/CA 19577.774261: : 860it [00:29, 29.60it/s]\n",
      "MAE/CA 19574.669379: : 860it [00:28, 29.87it/s]\n",
      "MAE/CA 19574.202293: : 860it [00:29, 29.45it/s]\n",
      "MAE/CA 19575.471540: : 860it [00:29, 29.61it/s]\n",
      "MAE/CA 19575.078184: : 860it [00:28, 29.78it/s]\n",
      "MAE/CA 19573.035000: : 860it [00:28, 29.86it/s]\n",
      "MAE/CA 19578.085354: : 860it [00:28, 30.55it/s]\n",
      "MAE/CA 19576.999111: : 860it [00:28, 30.01it/s]\n",
      "MAE/CA 19576.706202: : 860it [00:28, 30.16it/s]\n",
      "MAE/CA 19577.655736: : 860it [00:28, 29.74it/s]\n",
      "MAE/CA 19575.293467: : 860it [00:28, 29.88it/s]\n",
      "MAE/CA 19576.664297: : 860it [00:28, 30.07it/s]\n",
      "MAE/CA 19573.569868: : 860it [00:29, 29.35it/s]\n",
      "MAE/CA 19575.247078: : 860it [00:28, 30.02it/s]\n",
      "MAE/CA 19576.596918: : 860it [00:29, 29.51it/s]\n",
      "MAE/CA 19577.356264: : 860it [00:28, 30.12it/s]\n",
      "MAE/CA 19574.076398: : 860it [00:28, 29.95it/s]\n",
      "MAE/CA 19574.357495: : 860it [00:29, 29.59it/s]\n",
      "MAE/CA 19576.107422: : 860it [00:29, 29.54it/s]\n",
      "MAE/CA 19575.949031: : 858it [00:29, 29.70it/s]"
     ]
    }
   ],
   "source": [
    "loss_hist = []\n",
    "try:\n",
    "    # For each epoch\n",
    "    for epoch in range(n_epochs):\n",
    "        # For each batch in the dataloader\n",
    "        pbar = tqdm.tqdm(enumerate(train_loader, 0))\n",
    "        epoch_loss = 0\n",
    "        for i, data in pbar:\n",
    "            model.zero_grad()\n",
    "            data.to(device)\n",
    "            target = data.y[:,target_idx]\n",
    "            prediction = model(data.z, data.x, data.batch)\n",
    "            output = loss(prediction.view(-1), normalize(target))\n",
    "            mae = (denormalize(prediction.view(-1)) - target).abs().mean()\n",
    "            epoch_loss = (epoch_loss*i + mae.item())/(i+1)\n",
    "            \n",
    "            pbar.set_description('MAE/CA %2.6f'%(epoch_loss/chemical_accuracy[target_idx]))\n",
    "            output.backward()\n",
    "            optimizer.step()\n",
    "\n",
    "        lr_scheduler.step(epoch_loss)\n",
    "        loss_hist += [epoch_loss]\n",
    "        if epoch_loss/chemical_accuracy[target_idx] < 0.45:\n",
    "            break\n",
    "\n",
    "except KeyboardInterrupt:\n",
    "    print('keyboard interrupt caught')"
   ]
  },
  {
   "cell_type": "code",
   "execution_count": null,
   "id": "689f8c05",
   "metadata": {},
   "outputs": [],
   "source": [
    "model = model.to('cpu')\n",
    "pbar = tqdm.tqdm(enumerate(test_loader, 0))\n",
    "epoch_loss = 0\n",
    "maes = []\n",
    "for i, data in pbar:\n",
    "    data.to('cpu')\n",
    "    prediction = model(data.z, data.x, data.batch)\n",
    "    mae = (denormalize(prediction.view(-1)) - data.y[:, target_idx]).abs()\n",
    "    maes += [mae]\n",
    "maes = torch.cat(maes, dim=0)\n",
    "mae = maes.mean().item()\n",
    "print(mae, mae/chemical_accuracy[target_idx])\n"
   ]
  },
  {
   "cell_type": "code",
   "execution_count": null,
   "id": "6ea4cb4e",
   "metadata": {},
   "outputs": [],
   "source": []
  },
  {
   "cell_type": "code",
   "execution_count": null,
   "id": "dffd3f04",
   "metadata": {},
   "outputs": [],
   "source": []
  },
  {
   "cell_type": "code",
   "execution_count": null,
   "id": "5ee076fa",
   "metadata": {},
   "outputs": [],
   "source": []
  }
 ],
 "metadata": {
  "kernelspec": {
   "display_name": "Python 3 (ipykernel)",
   "language": "python",
   "name": "python3"
  },
  "language_info": {
   "codemirror_mode": {
    "name": "ipython",
    "version": 3
   },
   "file_extension": ".py",
   "mimetype": "text/x-python",
   "name": "python",
   "nbconvert_exporter": "python",
   "pygments_lexer": "ipython3",
   "version": "3.8.3"
  }
 },
 "nbformat": 4,
 "nbformat_minor": 5
}
