{
 "cells": [
  {
   "cell_type": "code",
   "execution_count": 1,
   "id": "0ff921ff",
   "metadata": {},
   "outputs": [],
   "source": [
    "%load_ext autoreload\n",
    "%autoreload 2\n",
    "import torch\n",
    "import torch.nn as nn\n",
    "import torch.nn.functional as F\n",
    "from torch_geometric.datasets.qm9 import QM9\n",
    "from torch_geometric.data import DataLoader\n",
    "import torch_geometric.nn as tgnn "
   ]
  },
  {
   "cell_type": "code",
   "execution_count": 2,
   "id": "f581e8d4",
   "metadata": {},
   "outputs": [],
   "source": [
    "import numpy as np"
   ]
  },
  {
   "cell_type": "code",
   "execution_count": 3,
   "id": "2c8b07c8",
   "metadata": {},
   "outputs": [],
   "source": [
    "# [0] Reports MAE in eV / Chemical Accuracy of the target variable U0. \n",
    "# The chemical accuracy of U0 is 0.043 see [1, Table 5].\n",
    "\n",
    "# Reproduced table [0]\n",
    "# MXMNet: 0.00590/0.043 = 0.13720930232558143\n",
    "# HMGNN:  0.00592/0.043 = 0.13767441860465118\n",
    "# MPNN:   0.01935/0.043 = 0.45\n",
    "# KRR:    0.0251 /0.043 = 0.5837209302325582\n",
    "# [0] https://paperswithcode.com/sota/formation-energy-on-qm9\n",
    "# [1] Neural Message Passing for Quantum Chemistry, https://arxiv.org/pdf/1704.01212v2.pdf\n",
    "# MXMNet https://arxiv.org/pdf/2011.07457v1.pdf\n",
    "# HMGNN https://arxiv.org/pdf/2009.12710v1.pdf\n",
    "# MPNN https://arxiv.org/pdf/1704.01212v2.pdf\n",
    "# KRR HDAD kernel ridge regression https://arxiv.org/pdf/1702.05532.pdf\n",
    "# HDAD means HDAD (Histogram of distances, anglesand dihedral angles)\n",
    "\n",
    "# [2] Reports the average value of MAE / Chemical Accuracy of over all targets\n",
    "# [2] https://paperswithcode.com/sota/drug-discovery-on-qm9\n"
   ]
  },
  {
   "cell_type": "markdown",
   "id": "2af28551",
   "metadata": {},
   "source": [
    "# get rid of the degenerate molecules"
   ]
  },
  {
   "cell_type": "code",
   "execution_count": 4,
   "id": "9bf25b4b",
   "metadata": {},
   "outputs": [],
   "source": [
    "from urllib import request\n",
    "import tempfile\n",
    "import os\n",
    "at_url = \"https://ndownloader.figshare.com/files/3195404\"\n",
    "tmpdir = tempfile.mkdtemp(\"gdb9\")\n",
    "tmp_path = os.path.join(tmpdir, \"uncharacterized.txt\")\n",
    "request.urlretrieve(at_url, tmp_path)\n",
    "\n",
    "evilmols = []\n",
    "with open(tmp_path) as f:\n",
    "    lines = f.readlines()\n",
    "    for line in lines[9:-1]:\n",
    "        evilmols.append(int(line.split()[0]))\n",
    "evilgdbs = ['gdb_%d'%id for id in evilmols]"
   ]
  },
  {
   "cell_type": "code",
   "execution_count": 5,
   "id": "560cc7b7",
   "metadata": {},
   "outputs": [],
   "source": [
    "pre_filter = lambda d: (d.name not in evilgdbs)"
   ]
  },
  {
   "cell_type": "code",
   "execution_count": 6,
   "id": "8904130a",
   "metadata": {},
   "outputs": [],
   "source": [
    "dataset = QM9('../datasets/qm9_geometric/', pre_filter=pre_filter)#, pre_filter=pre_filter)"
   ]
  },
  {
   "cell_type": "code",
   "execution_count": 7,
   "id": "8aed7bcd",
   "metadata": {},
   "outputs": [],
   "source": [
    "# actually QM9 already automatically gets rid of all the gad examples -.-"
   ]
  },
  {
   "cell_type": "code",
   "execution_count": 8,
   "id": "fd471b78",
   "metadata": {},
   "outputs": [],
   "source": [
    "dataset = dataset.shuffle()\n",
    "train_dataset = dataset[:110000]\n",
    "valid_dataset = dataset[110000:120000]\n",
    "test_dataset = dataset[120000:]\n",
    "train_loader = DataLoader(train_dataset, batch_size=128, shuffle=True)\n",
    "valid_loader = DataLoader(valid_dataset, batch_size=128)\n",
    "test_loader = DataLoader(test_dataset, batch_size=128)"
   ]
  },
  {
   "cell_type": "code",
   "execution_count": 9,
   "id": "8715a6aa",
   "metadata": {},
   "outputs": [],
   "source": [
    "batch = next(iter(train_loader))"
   ]
  },
  {
   "cell_type": "code",
   "execution_count": 10,
   "id": "ed3d4db9",
   "metadata": {},
   "outputs": [],
   "source": [
    "# investigate batch"
   ]
  },
  {
   "cell_type": "code",
   "execution_count": 11,
   "id": "339949f8",
   "metadata": {},
   "outputs": [
    {
     "data": {
      "text/plain": [
       "tensor([  0,   0,   0,  ..., 127, 127, 127])"
      ]
     },
     "execution_count": 11,
     "metadata": {},
     "output_type": "execute_result"
    }
   ],
   "source": [
    "batch['batch']"
   ]
  },
  {
   "cell_type": "code",
   "execution_count": 12,
   "id": "d6aa919f",
   "metadata": {},
   "outputs": [
    {
     "data": {
      "text/plain": [
       "22"
      ]
     },
     "execution_count": 12,
     "metadata": {},
     "output_type": "execute_result"
    }
   ],
   "source": [
    "(batch['batch'].detach().numpy() == 2).sum()"
   ]
  },
  {
   "cell_type": "code",
   "execution_count": 13,
   "id": "b03874ae",
   "metadata": {},
   "outputs": [],
   "source": [
    "# node features:"
   ]
  },
  {
   "cell_type": "code",
   "execution_count": 14,
   "id": "82535898",
   "metadata": {},
   "outputs": [
    {
     "data": {
      "text/plain": [
       "tensor([[0., 1., 0.,  ..., 0., 0., 3.],\n",
       "        [0., 1., 0.,  ..., 0., 0., 1.],\n",
       "        [0., 0., 0.,  ..., 0., 0., 0.],\n",
       "        ...,\n",
       "        [1., 0., 0.,  ..., 0., 0., 0.],\n",
       "        [1., 0., 0.,  ..., 0., 0., 0.],\n",
       "        [1., 0., 0.,  ..., 0., 0., 0.]])"
      ]
     },
     "execution_count": 14,
     "metadata": {},
     "output_type": "execute_result"
    }
   ],
   "source": [
    "batch.x # one_hot(type), atomic_number, aromatic, sp1, sp2, sp3, num_hs -> 5+1+1+1+1+1+1 = 11"
   ]
  },
  {
   "cell_type": "code",
   "execution_count": 15,
   "id": "bb7af094",
   "metadata": {},
   "outputs": [
    {
     "data": {
      "text/plain": [
       "torch.Size([2297, 11])"
      ]
     },
     "execution_count": 15,
     "metadata": {},
     "output_type": "execute_result"
    }
   ],
   "source": [
    "batch.x.shape"
   ]
  },
  {
   "cell_type": "code",
   "execution_count": 16,
   "id": "bbaf95f7",
   "metadata": {},
   "outputs": [
    {
     "data": {
      "text/plain": [
       "tensor([[-0.0049,  1.5117, -0.1215],\n",
       "        [-0.0176,  0.0170,  0.0694],\n",
       "        [ 1.2530, -0.6577, -0.0063],\n",
       "        ...,\n",
       "        [ 0.9842, -2.2380, -3.5032],\n",
       "        [ 2.3951, -2.3642, -2.4359],\n",
       "        [ 1.5303, -4.6011, -1.5787]])"
      ]
     },
     "execution_count": 16,
     "metadata": {},
     "output_type": "execute_result"
    }
   ],
   "source": [
    "batch.pos"
   ]
  },
  {
   "cell_type": "code",
   "execution_count": 17,
   "id": "a249b8ed",
   "metadata": {},
   "outputs": [
    {
     "data": {
      "text/plain": [
       "tensor([6, 6, 8,  ..., 1, 1, 1])"
      ]
     },
     "execution_count": 17,
     "metadata": {},
     "output_type": "execute_result"
    }
   ],
   "source": [
    "batch.z # atomic number"
   ]
  },
  {
   "cell_type": "code",
   "execution_count": 18,
   "id": "c15e32f4",
   "metadata": {},
   "outputs": [],
   "source": [
    "# edge features:"
   ]
  },
  {
   "cell_type": "code",
   "execution_count": 19,
   "id": "90f559c5",
   "metadata": {},
   "outputs": [
    {
     "data": {
      "text/plain": [
       "tensor([[   0,    0,    0,  ..., 2294, 2295, 2296],\n",
       "        [   1,    9,   10,  ..., 2278, 2278, 2279]])"
      ]
     },
     "execution_count": 19,
     "metadata": {},
     "output_type": "execute_result"
    }
   ],
   "source": [
    "batch.edge_index"
   ]
  },
  {
   "cell_type": "code",
   "execution_count": 20,
   "id": "c8ed7a14",
   "metadata": {},
   "outputs": [
    {
     "data": {
      "text/plain": [
       "tensor([[1., 0., 0., 0.],\n",
       "        [1., 0., 0., 0.],\n",
       "        [1., 0., 0., 0.],\n",
       "        ...,\n",
       "        [1., 0., 0., 0.],\n",
       "        [1., 0., 0., 0.],\n",
       "        [1., 0., 0., 0.]])"
      ]
     },
     "execution_count": 20,
     "metadata": {},
     "output_type": "execute_result"
    }
   ],
   "source": [
    "batch.edge_attr # one_hot(bond_type) -> 4 single, double, triple, aromatic"
   ]
  },
  {
   "cell_type": "code",
   "execution_count": 21,
   "id": "1054cc38",
   "metadata": {},
   "outputs": [
    {
     "data": {
      "text/plain": [
       "tensor([-10532.7139, -11543.3477, -11003.2148, -12554.8350, -11542.6406,\n",
       "         -9927.1943, -11375.0762, -10971.3789, -11811.9580, -10937.3184,\n",
       "        -12521.1416, -10532.0996, -12521.8428, -11947.6113, -10499.3945,\n",
       "        -10969.3662, -11340.6250, -10474.8252, -10441.5195, -11510.4395,\n",
       "        -11511.0371, -11542.1904, -10530.3506,  -9902.7480, -12894.7676,\n",
       "         -8832.9922, -11890.0645, -10968.8594, -13467.5547, -10395.8750,\n",
       "        -12319.5137, -10566.7725,  -9555.1309,  -7854.6553,  -9868.3984,\n",
       "         -9843.8320, -10936.9795, -12487.2910, -13500.3174, -12790.3838,\n",
       "        -11948.7891, -10598.8477, -12014.4307, -10936.4736, -11480.0479,\n",
       "        -11811.1992,  -8890.2744,  -8426.6377, -12013.2822, -10499.4492,\n",
       "        -10473.8096, -11543.1904, -11542.8223, -11003.9316, -11510.0625,\n",
       "        -10473.0088, -10462.4971, -10532.9219, -10501.2314, -11477.4102,\n",
       "        -12352.7998, -13547.3076, -10531.9941,  -8920.7334, -11270.7197,\n",
       "        -10766.8135, -10936.1865, -10396.8125, -11948.5156, -11778.5820,\n",
       "        -11947.5449, -10834.6758, -12353.2344,  -9495.8916, -10441.9746,\n",
       "        -12354.5654, -11510.5947, -11915.5400, -10565.2979, -10598.2832,\n",
       "        -11948.0957, -10969.1377, -11744.3965,  -8428.1357, -11915.2158,\n",
       "        -10533.5137, -10467.0723, -10338.9238, -11373.4609,  -8865.1787,\n",
       "        -12894.8008,  -8233.6133, -11207.0254, -12489.3330, -14204.6025,\n",
       "        -11510.2705, -10631.4883,  -9462.7881, -12457.2803, -10499.2402,\n",
       "        -12554.2393, -11949.1064, -11341.2031, -11939.1904, -10499.5430,\n",
       "        -12250.3945, -10507.5752, -10969.0459, -11270.5488, -12489.4287,\n",
       "        -14424.4277,  -9933.0303, -11001.2666, -11478.1797, -12351.3242,\n",
       "        -11543.8740, -11479.5195, -13331.0986, -10937.1865, -11948.6064,\n",
       "        -11916.6533, -11476.7021,  -8855.1436, -10565.0693, -11478.3467,\n",
       "         -7449.3770,  -7415.3950, -10599.1748])"
      ]
     },
     "execution_count": 21,
     "metadata": {},
     "output_type": "execute_result"
    }
   ],
   "source": [
    "# targets \n",
    "batch.y[:, 7] # this target is U0"
   ]
  },
  {
   "cell_type": "code",
   "execution_count": 22,
   "id": "7be0c442",
   "metadata": {},
   "outputs": [],
   "source": [
    "ngpu=1\n",
    "device = torch.device('cuda:0' if (torch.cuda.is_available() and ngpu > 0) else 'cpu')"
   ]
  },
  {
   "cell_type": "markdown",
   "id": "12914486",
   "metadata": {},
   "source": [
    "# Model"
   ]
  },
  {
   "cell_type": "code",
   "execution_count": 23,
   "id": "ba392b7e",
   "metadata": {},
   "outputs": [
    {
     "data": {
      "text/plain": [
       "device(type='cuda', index=0)"
      ]
     },
     "execution_count": 23,
     "metadata": {},
     "output_type": "execute_result"
    }
   ],
   "source": [
    "# replicate SchNet result\n",
    "device"
   ]
  },
  {
   "cell_type": "code",
   "execution_count": 24,
   "id": "496c17b7",
   "metadata": {},
   "outputs": [],
   "source": [
    "model = tgnn.SchNet()"
   ]
  },
  {
   "cell_type": "markdown",
   "id": "28549be9",
   "metadata": {},
   "source": [
    "# Training"
   ]
  },
  {
   "cell_type": "code",
   "execution_count": 25,
   "id": "0e4a46ad",
   "metadata": {},
   "outputs": [
    {
     "data": {
      "text/plain": [
       "tensor([[  1.0953],\n",
       "        [  2.0611],\n",
       "        [ -5.3898],\n",
       "        [  3.3855],\n",
       "        [  2.8477],\n",
       "        [ 10.7769],\n",
       "        [ 12.4857],\n",
       "        [  6.9972],\n",
       "        [ 13.0189],\n",
       "        [ 12.0838],\n",
       "        [ 10.3522],\n",
       "        [  0.3201],\n",
       "        [ 12.2930],\n",
       "        [ 12.6779],\n",
       "        [ 10.0587],\n",
       "        [  6.6310],\n",
       "        [ 13.4541],\n",
       "        [ 10.5241],\n",
       "        [ 13.1216],\n",
       "        [ 11.2627],\n",
       "        [ 10.2725],\n",
       "        [  2.8477],\n",
       "        [  1.0953],\n",
       "        [ 10.8157],\n",
       "        [ 14.1934],\n",
       "        [ 11.0020],\n",
       "        [ 13.6529],\n",
       "        [  6.9964],\n",
       "        [ 16.0289],\n",
       "        [  8.1846],\n",
       "        [ 12.4389],\n",
       "        [-12.9778],\n",
       "        [-16.8434],\n",
       "        [  8.9305],\n",
       "        [ 12.5748],\n",
       "        [ 11.4530],\n",
       "        [ 11.9472],\n",
       "        [ 14.1909],\n",
       "        [ 14.5417],\n",
       "        [ 13.0255],\n",
       "        [ 13.2505],\n",
       "        [-37.8239],\n",
       "        [ -2.5261],\n",
       "        [ 11.5590],\n",
       "        [ 14.2496],\n",
       "        [ 12.7822],\n",
       "        [ 10.0682],\n",
       "        [  7.7985],\n",
       "        [ -4.8652],\n",
       "        [  9.8292],\n",
       "        [  9.1192],\n",
       "        [  2.2266],\n",
       "        [  2.0611],\n",
       "        [ -3.7893],\n",
       "        [ 11.4054],\n",
       "        [  8.6602],\n",
       "        [-13.5913],\n",
       "        [  3.2896],\n",
       "        [  9.5334],\n",
       "        [ 13.7131],\n",
       "        [ 13.1895],\n",
       "        [ 11.3488],\n",
       "        [  1.3070],\n",
       "        [  4.2745],\n",
       "        [ 11.8794],\n",
       "        [ 12.0778],\n",
       "        [ 11.9981],\n",
       "        [  8.9797],\n",
       "        [ 11.8152],\n",
       "        [ 13.3760],\n",
       "        [ 12.3495],\n",
       "        [ 10.6148],\n",
       "        [ 13.5960],\n",
       "        [  2.0898],\n",
       "        [ 12.8777],\n",
       "        [ 13.9569],\n",
       "        [ 10.2725],\n",
       "        [ 14.5549],\n",
       "        [-12.9778],\n",
       "        [-37.8238],\n",
       "        [ 12.6765],\n",
       "        [  6.2780],\n",
       "        [ 11.6246],\n",
       "        [  8.1405],\n",
       "        [ 13.9232],\n",
       "        [  1.6479],\n",
       "        [ 13.4886],\n",
       "        [ 11.7719],\n",
       "        [ 13.1076],\n",
       "        [  9.8818],\n",
       "        [ 14.0341],\n",
       "        [  9.3578],\n",
       "        [  9.8935],\n",
       "        [ 14.7940],\n",
       "        [  9.3057],\n",
       "        [ 11.3669],\n",
       "        [-65.9983],\n",
       "        [  8.3309],\n",
       "        [ 15.0508],\n",
       "        [  9.2285],\n",
       "        [  2.5760],\n",
       "        [ 12.3355],\n",
       "        [ 13.5757],\n",
       "        [  9.1488],\n",
       "        [ 10.2720],\n",
       "        [ 11.0119],\n",
       "        [  2.7987],\n",
       "        [  6.4636],\n",
       "        [  9.9093],\n",
       "        [ 14.6895],\n",
       "        [  5.0879],\n",
       "        [  6.2333],\n",
       "        [ -4.1326],\n",
       "        [ 14.2162],\n",
       "        [ 13.0480],\n",
       "        [  2.8477],\n",
       "        [ 14.3025],\n",
       "        [ 12.0998],\n",
       "        [ 11.9472],\n",
       "        [ 11.5741],\n",
       "        [ 14.0491],\n",
       "        [ 13.5018],\n",
       "        [ 11.8856],\n",
       "        [-11.6857],\n",
       "        [ 14.2162],\n",
       "        [ -0.6939],\n",
       "        [  7.1085],\n",
       "        [-36.2725]], grad_fn=<ScatterAddBackward>)"
      ]
     },
     "execution_count": 25,
     "metadata": {},
     "output_type": "execute_result"
    }
   ],
   "source": [
    "model(batch.z, batch.x, batch.batch)"
   ]
  },
  {
   "cell_type": "code",
   "execution_count": null,
   "id": "689f8c05",
   "metadata": {},
   "outputs": [],
   "source": []
  }
 ],
 "metadata": {
  "kernelspec": {
   "display_name": "Python 3 (ipykernel)",
   "language": "python",
   "name": "python3"
  },
  "language_info": {
   "codemirror_mode": {
    "name": "ipython",
    "version": 3
   },
   "file_extension": ".py",
   "mimetype": "text/x-python",
   "name": "python",
   "nbconvert_exporter": "python",
   "pygments_lexer": "ipython3",
   "version": "3.8.3"
  }
 },
 "nbformat": 4,
 "nbformat_minor": 5
}
