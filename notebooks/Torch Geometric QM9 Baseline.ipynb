{
 "cells": [
  {
   "cell_type": "code",
   "execution_count": 1,
   "id": "0ff921ff",
   "metadata": {},
   "outputs": [],
   "source": [
    "%load_ext autoreload\n",
    "%autoreload 2\n",
    "import torch\n",
    "import torch.nn as nn\n",
    "import torch.nn.functional as F\n",
    "import torch.optim as optim\n",
    "from torch_geometric.datasets.qm9 import QM9\n",
    "from torch_geometric.data import DataLoader\n",
    "import torch_geometric.nn as tgnn \n",
    "import tqdm\n",
    "import numpy as np"
   ]
  },
  {
   "cell_type": "code",
   "execution_count": 2,
   "id": "2c8b07c8",
   "metadata": {},
   "outputs": [],
   "source": [
    "# [0] Reports MAE in eV / Chemical Accuracy of the target variable U0. \n",
    "# The chemical accuracy of U0 is 0.043 see [1, Table 5].\n",
    "\n",
    "# Reproduced table [0]\n",
    "# MXMNet: 0.00590/0.043 = 0.13720930232558143\n",
    "# HMGNN:  0.00592/0.043 = 0.13767441860465118\n",
    "# MPNN:   0.01935/0.043 = 0.45\n",
    "# KRR:    0.0251 /0.043 = 0.5837209302325582\n",
    "# [0] https://paperswithcode.com/sota/formation-energy-on-qm9\n",
    "# [1] Neural Message Passing for Quantum Chemistry, https://arxiv.org/pdf/1704.01212v2.pdf\n",
    "# MXMNet https://arxiv.org/pdf/2011.07457v1.pdf\n",
    "# HMGNN https://arxiv.org/pdf/2009.12710v1.pdf\n",
    "# MPNN https://arxiv.org/pdf/1704.01212v2.pdf\n",
    "# KRR HDAD kernel ridge regression https://arxiv.org/pdf/1702.05532.pdf\n",
    "# HDAD means HDAD (Histogram of distances, anglesand dihedral angles)\n",
    "\n",
    "# [2] Reports the average value of MAE / Chemical Accuracy of over all targets\n",
    "# [2] https://paperswithcode.com/sota/drug-discovery-on-qm9\n",
    "target_dict = {0: 'mu, D, Dipole moment', \n",
    "               1: 'alpha, {a_0}^3, Isotropic polarizability', \n",
    "               2: 'epsilon_{HOMO}, eV, Highest occupied molecular orbital energy',\n",
    "               3: 'epsilon_{LUMO}, eV, Lowest unoccupied molecular orbital energy',\n",
    "               4: 'Delta, eV, Gap between HOMO and LUMO',\n",
    "               5: '< R^2 >, {a_0}^2, Electronic spatial extent',\n",
    "               6: 'ZPVE, eV, Zero point vibrational energy', \n",
    "               7: 'U_0, eV, Internal energy at 0K',\n",
    "               8: 'U, eV, Internal energy at 298.15K', \n",
    "               9: 'H, eV, Enthalpy at 298.15K',\n",
    "               10: 'G, eV, Free energy at 298.15K',  \n",
    "               11: 'c_{v}, cal\\(mol K), Heat capacity at 298.15K'}\n",
    "\n",
    "chemical_accuracy = {idx:0.043 for idx in range(12)}\n",
    "chemical_accuracy[0] = 0.1\n",
    "chemical_accuracy[1] = 0.1\n",
    "chemical_accuracy[5] = 1.2\n",
    "chemical_accuracy[6] = 0.0012\n",
    "chemical_accuracy[11] = 0.050"
   ]
  },
  {
   "cell_type": "markdown",
   "id": "2af28551",
   "metadata": {},
   "source": [
    "# get rid of the degenerate molecules"
   ]
  },
  {
   "cell_type": "code",
   "execution_count": 3,
   "id": "9bf25b4b",
   "metadata": {},
   "outputs": [],
   "source": [
    "from urllib import request\n",
    "import tempfile\n",
    "import os\n",
    "at_url = \"https://ndownloader.figshare.com/files/3195404\"\n",
    "tmpdir = tempfile.mkdtemp(\"gdb9\")\n",
    "tmp_path = os.path.join(tmpdir, \"uncharacterized.txt\")\n",
    "request.urlretrieve(at_url, tmp_path)\n",
    "\n",
    "evilmols = []\n",
    "with open(tmp_path) as f:\n",
    "    lines = f.readlines()\n",
    "    for line in lines[9:-1]:\n",
    "        evilmols.append(int(line.split()[0]))\n",
    "evilgdbs = ['gdb_%d'%id for id in evilmols]"
   ]
  },
  {
   "cell_type": "code",
   "execution_count": 4,
   "id": "560cc7b7",
   "metadata": {},
   "outputs": [],
   "source": [
    "pre_filter = lambda d: (d.name not in evilgdbs)"
   ]
  },
  {
   "cell_type": "code",
   "execution_count": 5,
   "id": "8904130a",
   "metadata": {},
   "outputs": [],
   "source": [
    "dataset = QM9('../datasets/qm9_geometric/', pre_filter=pre_filter)#, pre_filter=pre_filter)"
   ]
  },
  {
   "cell_type": "code",
   "execution_count": 6,
   "id": "8aed7bcd",
   "metadata": {},
   "outputs": [],
   "source": [
    "# actually QM9 already automatically gets rid of all the gad examples -.-"
   ]
  },
  {
   "cell_type": "code",
   "execution_count": 7,
   "id": "fd471b78",
   "metadata": {},
   "outputs": [],
   "source": [
    "dataset = dataset.shuffle()\n",
    "train_dataset = dataset[:110000]\n",
    "valid_dataset = dataset[110000:120000]\n",
    "test_dataset = dataset[120000:]\n",
    "train_loader = DataLoader(train_dataset, batch_size=128, shuffle=True)\n",
    "valid_loader = DataLoader(valid_dataset, batch_size=128)\n",
    "test_loader = DataLoader(test_dataset, batch_size=32)"
   ]
  },
  {
   "cell_type": "code",
   "execution_count": 8,
   "id": "8715a6aa",
   "metadata": {},
   "outputs": [],
   "source": [
    "batch = next(iter(train_loader))"
   ]
  },
  {
   "cell_type": "code",
   "execution_count": 9,
   "id": "ed3d4db9",
   "metadata": {},
   "outputs": [],
   "source": [
    "# investigate batch"
   ]
  },
  {
   "cell_type": "code",
   "execution_count": 10,
   "id": "339949f8",
   "metadata": {},
   "outputs": [
    {
     "data": {
      "text/plain": [
       "tensor([  0,   0,   0,  ..., 127, 127, 127])"
      ]
     },
     "execution_count": 10,
     "metadata": {},
     "output_type": "execute_result"
    }
   ],
   "source": [
    "batch['batch']"
   ]
  },
  {
   "cell_type": "code",
   "execution_count": 11,
   "id": "d6aa919f",
   "metadata": {},
   "outputs": [
    {
     "data": {
      "text/plain": [
       "17"
      ]
     },
     "execution_count": 11,
     "metadata": {},
     "output_type": "execute_result"
    }
   ],
   "source": [
    "(batch['batch'].detach().numpy() == 2).sum()"
   ]
  },
  {
   "cell_type": "code",
   "execution_count": 12,
   "id": "b03874ae",
   "metadata": {},
   "outputs": [],
   "source": [
    "# node features:"
   ]
  },
  {
   "cell_type": "code",
   "execution_count": 13,
   "id": "82535898",
   "metadata": {},
   "outputs": [
    {
     "data": {
      "text/plain": [
       "tensor([[0., 1., 0.,  ..., 0., 0., 3.],\n",
       "        [0., 1., 0.,  ..., 0., 0., 0.],\n",
       "        [0., 0., 0.,  ..., 0., 0., 1.],\n",
       "        ...,\n",
       "        [1., 0., 0.,  ..., 0., 0., 0.],\n",
       "        [1., 0., 0.,  ..., 0., 0., 0.],\n",
       "        [1., 0., 0.,  ..., 0., 0., 0.]])"
      ]
     },
     "execution_count": 13,
     "metadata": {},
     "output_type": "execute_result"
    }
   ],
   "source": [
    "batch.x # one_hot(type), atomic_number, aromatic, sp1, sp2, sp3, num_hs -> 5+1+1+1+1+1+1 = 11"
   ]
  },
  {
   "cell_type": "code",
   "execution_count": 14,
   "id": "bb7af094",
   "metadata": {},
   "outputs": [
    {
     "data": {
      "text/plain": [
       "torch.Size([2312, 11])"
      ]
     },
     "execution_count": 14,
     "metadata": {},
     "output_type": "execute_result"
    }
   ],
   "source": [
    "batch.x.shape"
   ]
  },
  {
   "cell_type": "code",
   "execution_count": 15,
   "id": "bbaf95f7",
   "metadata": {},
   "outputs": [
    {
     "data": {
      "text/plain": [
       "tensor([[-0.3588,  1.5057,  0.0280],\n",
       "        [-0.0104,  0.0281,  0.0266],\n",
       "        [-1.1223, -0.7992, -0.2756],\n",
       "        ...,\n",
       "        [-0.6367,  2.0221,  0.3932],\n",
       "        [ 2.5185,  3.9498, -0.0540],\n",
       "        [ 0.7527,  4.0329,  0.4794]])"
      ]
     },
     "execution_count": 15,
     "metadata": {},
     "output_type": "execute_result"
    }
   ],
   "source": [
    "batch.pos"
   ]
  },
  {
   "cell_type": "code",
   "execution_count": 16,
   "id": "a249b8ed",
   "metadata": {},
   "outputs": [
    {
     "data": {
      "text/plain": [
       "tensor([6, 6, 8,  ..., 1, 1, 1])"
      ]
     },
     "execution_count": 16,
     "metadata": {},
     "output_type": "execute_result"
    }
   ],
   "source": [
    "batch.z # atomic number"
   ]
  },
  {
   "cell_type": "code",
   "execution_count": 17,
   "id": "c15e32f4",
   "metadata": {},
   "outputs": [],
   "source": [
    "# edge features:"
   ]
  },
  {
   "cell_type": "code",
   "execution_count": 18,
   "id": "90f559c5",
   "metadata": {},
   "outputs": [
    {
     "data": {
      "text/plain": [
       "tensor([[   0,    0,    0,  ..., 2309, 2310, 2311],\n",
       "        [   1,    9,   10,  ..., 2301, 2303, 2303]])"
      ]
     },
     "execution_count": 18,
     "metadata": {},
     "output_type": "execute_result"
    }
   ],
   "source": [
    "batch.edge_index"
   ]
  },
  {
   "cell_type": "code",
   "execution_count": 19,
   "id": "c8ed7a14",
   "metadata": {},
   "outputs": [
    {
     "data": {
      "text/plain": [
       "tensor([[1., 0., 0., 0.],\n",
       "        [1., 0., 0., 0.],\n",
       "        [1., 0., 0., 0.],\n",
       "        ...,\n",
       "        [1., 0., 0., 0.],\n",
       "        [1., 0., 0., 0.],\n",
       "        [1., 0., 0., 0.]])"
      ]
     },
     "execution_count": 19,
     "metadata": {},
     "output_type": "execute_result"
    }
   ],
   "source": [
    "batch.edge_attr # one_hot(bond_type) -> 4 single, double, triple, aromatic"
   ]
  },
  {
   "cell_type": "code",
   "execution_count": 20,
   "id": "1054cc38",
   "metadata": {},
   "outputs": [
    {
     "data": {
      "text/plain": [
       "tensor([-12488.3291, -10903.4668, -12385.6064, -11982.4629, -10970.1846,\n",
       "        -11948.2627, -10873.4121, -10971.1172, -12384.2012, -10442.4688,\n",
       "        -10498.6143, -10565.3018, -11375.7627, -11980.6533,  -9521.0508,\n",
       "        -11938.5840, -10967.2461,  -8393.6201,  -9867.2900, -10396.1357,\n",
       "        -11575.9082,  -8425.9336, -11915.0820, -12860.6611, -11913.5195,\n",
       "        -10935.9746,  -9620.8193, -10969.2451, -12385.6582, -16737.6719,\n",
       "         -8830.1855, -11350.0332, -13548.5205, -11510.8398, -12352.2871,\n",
       "        -11980.6904, -10833.9395, -12014.1719, -11811.1729, -10329.2812,\n",
       "        -10394.2656, -10442.6445, -12489.1924, -12521.8496, -11845.3486,\n",
       "         -9359.1309, -11373.7695, -11884.3643,  -9894.4697, -11476.3525,\n",
       "        -10938.9883, -10396.7402, -12959.3730, -12823.4238, -10395.8770,\n",
       "        -13332.7354,  -8923.0596, -11843.8457, -10498.7334, -11916.9492,\n",
       "        -12457.6152, -10938.1016,  -9556.3135, -10847.7900, -11375.5811,\n",
       "        -11811.9688,  -9430.5146, -10969.1514, -11980.6768, -11740.0654,\n",
       "        -10430.0957,  -9487.9434, -11511.1475, -11543.8877, -10938.4209,\n",
       "        -10938.0791, -11914.9990, -10565.4512, -12430.7285,  -9798.0732,\n",
       "        -11947.6768, -10935.2373,  -8428.0684,  -9588.5371, -11576.0381,\n",
       "         -9899.0479, -11575.8545, -11003.9531, -10532.7139, -11510.4531,\n",
       "        -10363.0654, -11375.4785, -11270.1816, -12012.3428, -10531.9736,\n",
       "        -11308.3486, -11577.1445, -10533.3154, -12684.1982, -11843.7334,\n",
       "        -10473.9648, -11509.9326, -12488.9287, -10465.5967, -10866.1299,\n",
       "        -11509.0771, -10971.4404, -11543.5781, -11608.7100, -10936.5459,\n",
       "        -11916.0381, -11511.0859, -11949.6514, -10398.4941, -11477.3096,\n",
       "        -11576.7441, -10533.3252, -13500.0195, -10533.5303, -11948.7891,\n",
       "        -11980.5312, -10473.4482, -10500.0732, -11250.9346, -11543.9619,\n",
       "        -11510.6211, -11477.2764,  -9834.4561])"
      ]
     },
     "execution_count": 20,
     "metadata": {},
     "output_type": "execute_result"
    }
   ],
   "source": [
    "# targets \n",
    "batch.y[:, 7] # this target is U0"
   ]
  },
  {
   "cell_type": "code",
   "execution_count": 21,
   "id": "7be0c442",
   "metadata": {},
   "outputs": [],
   "source": [
    "ngpu=1\n",
    "device = torch.device('cuda:0' if (torch.cuda.is_available() and ngpu > 0) else 'cpu')"
   ]
  },
  {
   "cell_type": "markdown",
   "id": "12914486",
   "metadata": {},
   "source": [
    "# Model"
   ]
  },
  {
   "cell_type": "code",
   "execution_count": 22,
   "id": "496c17b7",
   "metadata": {},
   "outputs": [],
   "source": [
    "model = tgnn.SchNet().to(device)"
   ]
  },
  {
   "cell_type": "code",
   "execution_count": 23,
   "id": "f3d11ae9",
   "metadata": {},
   "outputs": [],
   "source": [
    "lr = 0.001\n",
    "n_epochs = 1000\n",
    "patience = 3\n",
    "factor = 0.5\n",
    "target_idx = 7"
   ]
  },
  {
   "cell_type": "code",
   "execution_count": 24,
   "id": "7b82b673",
   "metadata": {},
   "outputs": [],
   "source": [
    "target_vec = [d.y[0, target_idx] for d in train_dataset]\n",
    "target_mean = np.mean(target_vec)\n",
    "target_std = np.std(target_vec)"
   ]
  },
  {
   "cell_type": "code",
   "execution_count": 25,
   "id": "74e55e29",
   "metadata": {},
   "outputs": [],
   "source": [
    "def normalize(target, mean=target_mean, std=target_std):\n",
    "    return (target - mean)/std\n",
    "\n",
    "def denormalize(target, mean=target_mean, std=target_std):\n",
    "    return target*std + mean"
   ]
  },
  {
   "cell_type": "code",
   "execution_count": 26,
   "id": "a80a7aba",
   "metadata": {},
   "outputs": [],
   "source": [
    "loss = nn.MSELoss()\n",
    "optimizer = optim.Adam(model.parameters(), lr=lr)\n",
    "lr_scheduler = optim.lr_scheduler.ReduceLROnPlateau(optimizer, mode='min', verbose=True, patience=patience, factor=factor)"
   ]
  },
  {
   "cell_type": "markdown",
   "id": "28549be9",
   "metadata": {},
   "source": [
    "# Training"
   ]
  },
  {
   "cell_type": "code",
   "execution_count": null,
   "id": "0e4a46ad",
   "metadata": {},
   "outputs": [
    {
     "name": "stderr",
     "output_type": "stream",
     "text": [
      "MAE/CA 264989.273908: : 860it [00:29, 29.57it/s]\n",
      "MAE/CA 260139.460795: : 121it [00:04, 29.07it/s]"
     ]
    }
   ],
   "source": [
    "loss_hist = []\n",
    "try:\n",
    "    # For each epoch\n",
    "    for epoch in range(n_epochs):\n",
    "        # For each batch in the dataloader\n",
    "        pbar = tqdm.tqdm(enumerate(train_loader, 0))\n",
    "        epoch_loss = 0\n",
    "        for i, data in pbar:\n",
    "            model.zero_grad()\n",
    "            data.to(device)\n",
    "            target = normalize(data.y[:,target_idx])\n",
    "            prediction = model(data.z, data.x, data.batch)\n",
    "            output = loss(prediction.view(-1), target)\n",
    "            mae = (denormalize(prediction.view(-1)) - target).abs().mean()\n",
    "            epoch_loss = (epoch_loss*i + mae.item())/(i+1)\n",
    "            \n",
    "            pbar.set_description('MAE/CA %2.6f'%(epoch_loss/chemical_accuracy[target_idx]))\n",
    "            output.backward()\n",
    "            optimizer.step()\n",
    "        \n",
    "        lr_scheduler.step(epoch_loss)\n",
    "        loss_hist += [epoch_loss]\n",
    "\n",
    "except KeyboardInterrupt:\n",
    "    print('keyboard interrupt caught')"
   ]
  },
  {
   "cell_type": "code",
   "execution_count": null,
   "id": "689f8c05",
   "metadata": {},
   "outputs": [],
   "source": [
    "model = model.to('cpu')\n",
    "pbar = tqdm.tqdm(enumerate(test_loader, 0))\n",
    "epoch_loss = 0\n",
    "maes = []\n",
    "for i, data in pbar:\n",
    "    data.to('cpu')\n",
    "    prediction = model(data.z, data.x, data.batch)\n",
    "    mae = (prediction.view(-1) - data.y[:, target_idx]).abs()\n",
    "    maes += [mae]\n",
    "maes = torch.cat(maes, dim=0)\n",
    "mae = maes.mean().item()\n",
    "print(mae, mae/chemical_accuracy[target_idx])\n"
   ]
  },
  {
   "cell_type": "code",
   "execution_count": null,
   "id": "7e88d14b",
   "metadata": {},
   "outputs": [],
   "source": []
  },
  {
   "cell_type": "code",
   "execution_count": null,
   "id": "dffd3f04",
   "metadata": {},
   "outputs": [],
   "source": []
  }
 ],
 "metadata": {
  "kernelspec": {
   "display_name": "Python 3 (ipykernel)",
   "language": "python",
   "name": "python3"
  },
  "language_info": {
   "codemirror_mode": {
    "name": "ipython",
    "version": 3
   },
   "file_extension": ".py",
   "mimetype": "text/x-python",
   "name": "python",
   "nbconvert_exporter": "python",
   "pygments_lexer": "ipython3",
   "version": "3.8.3"
  }
 },
 "nbformat": 4,
 "nbformat_minor": 5
}
