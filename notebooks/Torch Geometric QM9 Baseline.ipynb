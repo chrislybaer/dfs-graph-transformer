{
 "cells": [
  {
   "cell_type": "code",
   "execution_count": 1,
   "id": "0ff921ff",
   "metadata": {},
   "outputs": [],
   "source": [
    "%load_ext autoreload\n",
    "%autoreload 2\n",
    "import torch\n",
    "import torch.nn as nn\n",
    "import torch.nn.functional as F\n",
    "import torch.optim as optim\n",
    "from torch_geometric.datasets.qm9 import QM9\n",
    "import torch_geometric.datasets.qm9 as qm9\n",
    "from torch_geometric.data import DataLoader\n",
    "import torch_geometric.nn as tgnn\n",
    "from torch_scatter import scatter\n",
    "import tqdm\n",
    "import numpy as np"
   ]
  },
  {
   "cell_type": "code",
   "execution_count": 2,
   "id": "2c8b07c8",
   "metadata": {},
   "outputs": [],
   "source": [
    "# [0] Reports MAE in eV / Chemical Accuracy of the target variable U0. \n",
    "# The chemical accuracy of U0 is 0.043 see [1, Table 5].\n",
    "\n",
    "# Reproduced table [0]\n",
    "# MXMNet: 0.00590/0.043 = 0.13720930232558143\n",
    "# HMGNN:  0.00592/0.043 = 0.13767441860465118\n",
    "# MPNN:   0.01935/0.043 = 0.45\n",
    "# KRR:    0.0251 /0.043 = 0.5837209302325582\n",
    "# [0] https://paperswithcode.com/sota/formation-energy-on-qm9\n",
    "# [1] Neural Message Passing for Quantum Chemistry, https://arxiv.org/pdf/1704.01212v2.pdf\n",
    "# MXMNet https://arxiv.org/pdf/2011.07457v1.pdf\n",
    "# HMGNN https://arxiv.org/pdf/2009.12710v1.pdf\n",
    "# MPNN https://arxiv.org/pdf/1704.01212v2.pdf\n",
    "# KRR HDAD kernel ridge regression https://arxiv.org/pdf/1702.05532.pdf\n",
    "# HDAD means HDAD (Histogram of distances, anglesand dihedral angles)\n",
    "\n",
    "# [2] Reports the average value of MAE / Chemical Accuracy of over all targets\n",
    "# [2] https://paperswithcode.com/sota/drug-discovery-on-qm9\n",
    "target_dict = {0: 'mu, D, Dipole moment', \n",
    "               1: 'alpha, {a_0}^3, Isotropic polarizability', \n",
    "               2: 'epsilon_{HOMO}, eV, Highest occupied molecular orbital energy',\n",
    "               3: 'epsilon_{LUMO}, eV, Lowest unoccupied molecular orbital energy',\n",
    "               4: 'Delta, eV, Gap between HOMO and LUMO',\n",
    "               5: '< R^2 >, {a_0}^2, Electronic spatial extent',\n",
    "               6: 'ZPVE, eV, Zero point vibrational energy', \n",
    "               7: 'U_0, eV, Internal energy at 0K',\n",
    "               8: 'U, eV, Internal energy at 298.15K', \n",
    "               9: 'H, eV, Enthalpy at 298.15K',\n",
    "               10: 'G, eV, Free energy at 298.15K',  \n",
    "               11: 'c_{v}, cal\\(mol K), Heat capacity at 298.15K'}\n",
    "\n",
    "chemical_accuracy = {idx:0.043 for idx in range(12)}\n",
    "chemical_accuracy[0] = 0.1\n",
    "chemical_accuracy[1] = 0.1\n",
    "chemical_accuracy[5] = 1.2\n",
    "chemical_accuracy[6] = 0.0012\n",
    "chemical_accuracy[11] = 0.050"
   ]
  },
  {
   "cell_type": "code",
   "execution_count": 3,
   "id": "8904130a",
   "metadata": {},
   "outputs": [
    {
     "name": "stderr",
     "output_type": "stream",
     "text": [
      "/home/chrisw/.cache/pypoetry/virtualenvs/graph-transformer-9jPERXQ--py3.8/lib/python3.8/site-packages/torch_geometric/data/dataset.py:153: UserWarning: The `pre_filter` argument differs from the one used in the pre-processed version of this dataset. If you want to make use of another pre-fitering technique, make sure to delete '{self.processed_dir}' first\n",
      "  warnings.warn(\n"
     ]
    }
   ],
   "source": [
    "dataset = QM9('../datasets/qm9_geometric/')"
   ]
  },
  {
   "cell_type": "code",
   "execution_count": 4,
   "id": "fd471b78",
   "metadata": {},
   "outputs": [],
   "source": [
    "dataset = dataset.shuffle()\n",
    "train_dataset = dataset[:110000]\n",
    "valid_dataset = dataset[110000:120000]\n",
    "test_dataset = dataset[120000:]\n",
    "train_loader = DataLoader(train_dataset, batch_size=128, shuffle=True, pin_memory=True)\n",
    "valid_loader = DataLoader(valid_dataset, batch_size=128)\n",
    "test_loader = DataLoader(test_dataset, batch_size=32)"
   ]
  },
  {
   "cell_type": "code",
   "execution_count": 5,
   "id": "7be0c442",
   "metadata": {},
   "outputs": [],
   "source": [
    "ngpu=1\n",
    "device = torch.device('cuda:0' if (torch.cuda.is_available() and ngpu > 0) else 'cpu')"
   ]
  },
  {
   "cell_type": "markdown",
   "id": "12914486",
   "metadata": {},
   "source": [
    "# Model"
   ]
  },
  {
   "cell_type": "code",
   "execution_count": 6,
   "id": "f3d11ae9",
   "metadata": {},
   "outputs": [],
   "source": [
    "#lr = 0.0003 did not diverge\n",
    "#lr = 0.0003\n",
    "lr = 0.0003\n",
    "n_epochs = 10000\n",
    "patience = 5\n",
    "factor = 0.8\n",
    "target_idx = 7"
   ]
  },
  {
   "cell_type": "markdown",
   "id": "b59a0b9f",
   "metadata": {},
   "source": [
    "dataset.atomref(target_idx)"
   ]
  },
  {
   "cell_type": "code",
   "execution_count": 7,
   "id": "8d7c2677",
   "metadata": {},
   "outputs": [],
   "source": [
    "target_vec = []"
   ]
  },
  {
   "cell_type": "code",
   "execution_count": 8,
   "id": "786e4122",
   "metadata": {},
   "outputs": [],
   "source": [
    "# based on https://schnetpack.readthedocs.io/en/stable/tutorials/tutorial_02_qm9.html\n",
    "# and https://pytorch-geometric.readthedocs.io/en/latest/_modules/torch_geometric/nn/models/schnet.html#SchNet\n",
    "for data in train_loader:\n",
    "    data = data.to(device)\n",
    "    atomU0s = torch.tensor(qm9.atomrefs[target_idx], device=device)[torch.argmax(data.x[:, :5], axis=1)]\n",
    "    target_modular = scatter(atomU0s, data.batch, dim=-1, reduce='sum')\n",
    "    target_vec += [(data.y[:, target_idx] - target_modular).detach().cpu().numpy()]\n",
    "target_vec = np.concatenate(target_vec, axis=0)"
   ]
  },
  {
   "cell_type": "code",
   "execution_count": 9,
   "id": "8c96e40f",
   "metadata": {},
   "outputs": [],
   "source": [
    "target_mean = np.mean(target_vec)\n",
    "target_std = np.std(target_vec)"
   ]
  },
  {
   "cell_type": "code",
   "execution_count": 10,
   "id": "a80a7aba",
   "metadata": {},
   "outputs": [],
   "source": [
    "model = tgnn.SchNet(hidden_channels=128, num_filters=128, num_interactions=6, num_gaussians=50, cutoff=10.0,\n",
    "                    readout='add', atomref=dataset.atomref(target_idx), mean=target_mean, std=target_std).to(device)\n",
    "loss = nn.MSELoss(reduction='mean')\n",
    "optimizer = optim.Adam(model.parameters(), lr=lr)\n",
    "lr_scheduler = optim.lr_scheduler.ReduceLROnPlateau(optimizer, mode='min', verbose=True, patience=patience, factor=factor)"
   ]
  },
  {
   "cell_type": "markdown",
   "id": "28549be9",
   "metadata": {},
   "source": [
    "# Training"
   ]
  },
  {
   "cell_type": "code",
   "execution_count": null,
   "id": "0e4a46ad",
   "metadata": {},
   "outputs": [
    {
     "name": "stderr",
     "output_type": "stream",
     "text": [
      "Epoch 1: MAE/CA 509.808559: : 860it [00:30, 28.29it/s] \n",
      "Epoch 2: MAE/CA 120.301568: : 860it [00:30, 28.66it/s]\n",
      "Epoch 3: MAE/CA 103.046359: : 860it [00:30, 28.41it/s]\n",
      "Epoch 4: MAE/CA 98.339732: : 860it [00:29, 28.73it/s]\n",
      "Epoch 5: MAE/CA 76.110850: : 860it [00:30, 28.61it/s]\n",
      "Epoch 6: MAE/CA 84.113742: : 860it [00:29, 28.67it/s]\n",
      "Epoch 7: MAE/CA 77.365542: : 860it [00:29, 28.84it/s]\n",
      "Epoch 8: MAE/CA 72.991522: : 860it [00:29, 28.98it/s] \n",
      "Epoch 9: MAE/CA 66.861041: : 860it [00:29, 28.76it/s] \n",
      "Epoch 10: MAE/CA 65.695961: : 860it [00:30, 28.66it/s]\n",
      "Epoch 11: MAE/CA 55.602410: : 860it [00:30, 28.61it/s]\n",
      "Epoch 12: MAE/CA 56.998222: : 860it [00:30, 28.64it/s]\n",
      "Epoch 13: MAE/CA 37.282655: : 860it [00:30, 28.47it/s]\n",
      "Epoch 14: MAE/CA 40.799564: : 860it [00:30, 28.18it/s]\n",
      "Epoch 15: MAE/CA 40.948851: : 860it [00:30, 28.49it/s]\n",
      "Epoch 16: MAE/CA 39.664054: : 860it [00:30, 28.62it/s]\n",
      "Epoch 17: MAE/CA 31.738957: : 860it [00:30, 28.53it/s]\n",
      "Epoch 18: MAE/CA 38.046365: : 860it [00:29, 29.03it/s]\n",
      "Epoch 19: MAE/CA 30.084646: : 860it [00:29, 29.40it/s]\n",
      "Epoch 20: MAE/CA 32.135915: : 860it [00:29, 29.04it/s]\n",
      "Epoch 21: MAE/CA 28.905739: : 860it [00:30, 28.51it/s]\n",
      "Epoch 22: MAE/CA 24.396834: : 860it [00:30, 28.41it/s]\n",
      "Epoch 23: MAE/CA 25.035565: : 860it [00:29, 29.27it/s]\n",
      "Epoch 24: MAE/CA 30.008992: : 860it [00:29, 29.14it/s]\n",
      "Epoch 25: MAE/CA 51.893281: : 860it [00:29, 29.16it/s]\n",
      "Epoch 26: MAE/CA 8.979051: : 860it [00:29, 29.17it/s] \n",
      "Epoch 27: MAE/CA 7.031384: : 860it [00:29, 29.00it/s]\n",
      "Epoch 28: MAE/CA 9.031379: : 860it [00:29, 29.57it/s]\n",
      "Epoch 29: MAE/CA 22.079018: : 860it [00:29, 28.83it/s]\n",
      "Epoch 30: MAE/CA 21.569763: : 860it [00:27, 30.84it/s]\n",
      "Epoch 31: MAE/CA 21.699586: : 860it [00:28, 29.90it/s]\n",
      "Epoch 32: MAE/CA 18.414667: : 860it [00:29, 28.82it/s]\n",
      "Epoch 33: MAE/CA 20.298593: : 860it [00:29, 29.31it/s]\n",
      "Epoch 34: MAE/CA 13.628086: : 3it [00:00, 27.99it/s]"
     ]
    },
    {
     "name": "stdout",
     "output_type": "stream",
     "text": [
      "Epoch    33: reducing learning rate of group 0 to 2.4000e-04.\n"
     ]
    },
    {
     "name": "stderr",
     "output_type": "stream",
     "text": [
      "Epoch 34: MAE/CA 11.296434: : 860it [00:29, 29.26it/s]\n",
      "Epoch 35: MAE/CA 16.875772: : 860it [00:29, 29.09it/s]\n",
      "Epoch 36: MAE/CA 17.765804: : 860it [00:28, 30.08it/s]\n",
      "Epoch 37: MAE/CA 17.012156: : 860it [00:29, 29.17it/s]\n",
      "Epoch 38: MAE/CA 14.147567: : 860it [00:29, 29.56it/s]\n",
      "Epoch 39: MAE/CA 16.913523: : 860it [00:29, 29.35it/s]\n",
      "Epoch 40: MAE/CA 11.789189: : 3it [00:00, 27.18it/s]"
     ]
    },
    {
     "name": "stdout",
     "output_type": "stream",
     "text": [
      "Epoch    39: reducing learning rate of group 0 to 1.9200e-04.\n"
     ]
    },
    {
     "name": "stderr",
     "output_type": "stream",
     "text": [
      "Epoch 40: MAE/CA 6.494423: : 860it [00:29, 28.94it/s]\n",
      "Epoch 41: MAE/CA 13.140620: : 860it [00:29, 29.38it/s]\n",
      "Epoch 42: MAE/CA 13.355902: : 860it [00:29, 29.44it/s]\n",
      "Epoch 43: MAE/CA 12.719528: : 860it [00:29, 29.14it/s]\n",
      "Epoch 44: MAE/CA 12.330629: : 860it [00:28, 30.23it/s]\n",
      "Epoch 45: MAE/CA 10.767876: : 860it [00:28, 29.85it/s]\n",
      "Epoch 46: MAE/CA 11.386997: : 860it [00:29, 29.17it/s]\n",
      "Epoch 47: MAE/CA 4.558401: : 3it [00:00, 28.66it/s]"
     ]
    },
    {
     "name": "stdout",
     "output_type": "stream",
     "text": [
      "Epoch    46: reducing learning rate of group 0 to 1.5360e-04.\n"
     ]
    },
    {
     "name": "stderr",
     "output_type": "stream",
     "text": [
      "Epoch 47: MAE/CA 6.511403: : 860it [00:29, 28.96it/s]\n",
      "Epoch 48: MAE/CA 10.042588: : 860it [00:29, 29.59it/s]\n",
      "Epoch 49: MAE/CA 9.319378: : 860it [00:29, 29.32it/s] \n",
      "Epoch 50: MAE/CA 9.177568: : 860it [00:27, 30.72it/s]\n",
      "Epoch 51: MAE/CA 9.899419: : 860it [00:29, 29.07it/s] \n",
      "Epoch 52: MAE/CA 10.057529: : 860it [00:29, 29.13it/s]\n",
      "Epoch 53: MAE/CA 15.014879: : 3it [00:00, 23.27it/s]"
     ]
    },
    {
     "name": "stdout",
     "output_type": "stream",
     "text": [
      "Epoch    52: reducing learning rate of group 0 to 1.2288e-04.\n"
     ]
    },
    {
     "name": "stderr",
     "output_type": "stream",
     "text": [
      "Epoch 53: MAE/CA 5.631008: : 860it [00:29, 29.45it/s]\n",
      "Epoch 54: MAE/CA 7.724302: : 860it [00:29, 29.15it/s]\n",
      "Epoch 55: MAE/CA 7.822996: : 860it [00:29, 29.43it/s]\n",
      "Epoch 56: MAE/CA 7.303139: : 860it [00:29, 29.10it/s]\n",
      "Epoch 57: MAE/CA 7.745025: : 860it [00:29, 29.13it/s]\n",
      "Epoch 58: MAE/CA 7.627547: : 860it [00:29, 29.15it/s]\n",
      "Epoch 59: MAE/CA 7.352234: : 860it [00:29, 29.05it/s]\n",
      "Epoch 60: MAE/CA 13.128219: : 3it [00:00, 29.06it/s]"
     ]
    },
    {
     "name": "stdout",
     "output_type": "stream",
     "text": [
      "Epoch    59: reducing learning rate of group 0 to 9.8304e-05.\n"
     ]
    },
    {
     "name": "stderr",
     "output_type": "stream",
     "text": [
      "Epoch 60: MAE/CA 4.472518: : 860it [00:29, 29.35it/s]\n",
      "Epoch 61: MAE/CA 6.335815: : 860it [00:28, 29.96it/s]\n",
      "Epoch 62: MAE/CA 6.342620: : 860it [00:29, 29.18it/s]\n",
      "Epoch 63: MAE/CA 6.323747: : 860it [00:29, 29.14it/s]\n",
      "Epoch 64: MAE/CA 6.265125: : 860it [00:29, 29.21it/s]\n",
      "Epoch 65: MAE/CA 6.373702: : 860it [00:29, 29.20it/s]\n",
      "Epoch 66: MAE/CA 5.827685: : 860it [00:29, 29.10it/s]\n",
      "Epoch 67: MAE/CA 2.744275: : 3it [00:00, 28.60it/s]"
     ]
    },
    {
     "name": "stdout",
     "output_type": "stream",
     "text": [
      "Epoch    66: reducing learning rate of group 0 to 7.8643e-05.\n"
     ]
    },
    {
     "name": "stderr",
     "output_type": "stream",
     "text": [
      "Epoch 67: MAE/CA 3.993824: : 860it [00:29, 29.47it/s]\n",
      "Epoch 68: MAE/CA 5.129510: : 860it [00:29, 29.33it/s]\n",
      "Epoch 69: MAE/CA 5.195690: : 860it [00:28, 30.01it/s]\n",
      "Epoch 70: MAE/CA 5.022980: : 860it [00:29, 29.29it/s]\n",
      "Epoch 71: MAE/CA 5.154545: : 860it [00:28, 29.70it/s]\n",
      "Epoch 72: MAE/CA 5.141633: : 860it [00:29, 29.44it/s]\n",
      "Epoch 73: MAE/CA 5.339795: : 860it [00:29, 29.21it/s]\n",
      "Epoch 74: MAE/CA 5.912633: : 3it [00:00, 28.77it/s]"
     ]
    },
    {
     "name": "stdout",
     "output_type": "stream",
     "text": [
      "Epoch    73: reducing learning rate of group 0 to 6.2915e-05.\n"
     ]
    },
    {
     "name": "stderr",
     "output_type": "stream",
     "text": [
      "Epoch 74: MAE/CA 3.186187: : 860it [00:29, 29.44it/s]\n",
      "Epoch 75: MAE/CA 4.347393: : 860it [00:28, 29.99it/s]\n",
      "Epoch 76: MAE/CA 4.223723: : 860it [00:29, 29.57it/s]\n",
      "Epoch 77: MAE/CA 4.023938: : 860it [00:29, 29.32it/s]\n",
      "Epoch 78: MAE/CA 4.183887: : 860it [00:29, 29.31it/s]\n",
      "Epoch 79: MAE/CA 4.343244: : 860it [00:29, 29.51it/s]\n",
      "Epoch 80: MAE/CA 4.265795: : 860it [00:29, 29.15it/s]\n",
      "Epoch 81: MAE/CA 1.966772: : 3it [00:00, 28.41it/s]"
     ]
    },
    {
     "name": "stdout",
     "output_type": "stream",
     "text": [
      "Epoch    80: reducing learning rate of group 0 to 5.0332e-05.\n"
     ]
    },
    {
     "name": "stderr",
     "output_type": "stream",
     "text": [
      "Epoch 81: MAE/CA 2.920244: : 860it [00:29, 29.54it/s]\n",
      "Epoch 82: MAE/CA 3.522100: : 860it [00:28, 29.84it/s]\n",
      "Epoch 83: MAE/CA 3.546473: : 860it [00:29, 29.23it/s]\n",
      "Epoch 84: MAE/CA 3.499775: : 860it [00:29, 29.29it/s]\n",
      "Epoch 85: MAE/CA 3.597205: : 860it [00:29, 29.26it/s]\n",
      "Epoch 86: MAE/CA 3.598355: : 860it [00:29, 29.15it/s]\n",
      "Epoch 87: MAE/CA 3.578274: : 860it [00:29, 29.46it/s]\n",
      "Epoch 88: MAE/CA 2.761516: : 3it [00:00, 28.93it/s]"
     ]
    },
    {
     "name": "stdout",
     "output_type": "stream",
     "text": [
      "Epoch    87: reducing learning rate of group 0 to 4.0265e-05.\n"
     ]
    },
    {
     "name": "stderr",
     "output_type": "stream",
     "text": [
      "Epoch 88: MAE/CA 2.399207: : 860it [00:29, 29.55it/s]\n",
      "Epoch 89: MAE/CA 3.338086: : 860it [00:28, 30.26it/s]\n",
      "Epoch 90: MAE/CA 2.962763: : 860it [00:29, 29.19it/s]\n",
      "Epoch 91: MAE/CA 2.963017: : 860it [00:29, 29.65it/s]\n",
      "Epoch 92: MAE/CA 3.013189: : 860it [00:28, 29.94it/s]\n",
      "Epoch 93: MAE/CA 3.100730: : 860it [00:28, 30.05it/s]\n",
      "Epoch 94: MAE/CA 3.063164: : 860it [00:29, 29.44it/s]\n",
      "Epoch 95: MAE/CA 2.602215: : 3it [00:00, 29.45it/s]"
     ]
    },
    {
     "name": "stdout",
     "output_type": "stream",
     "text": [
      "Epoch    94: reducing learning rate of group 0 to 3.2212e-05.\n"
     ]
    },
    {
     "name": "stderr",
     "output_type": "stream",
     "text": [
      "Epoch 95: MAE/CA 2.214376: : 860it [00:29, 29.30it/s]\n",
      "Epoch 96: MAE/CA 2.642611: : 860it [00:29, 29.14it/s]\n",
      "Epoch 97: MAE/CA 2.495009: : 860it [00:29, 29.19it/s]\n",
      "Epoch 98: MAE/CA 2.641976: : 860it [00:29, 29.65it/s]\n",
      "Epoch 99: MAE/CA 2.727812: : 860it [00:29, 29.34it/s]\n",
      "Epoch 100: MAE/CA 2.391177: : 860it [00:29, 29.61it/s]\n",
      "Epoch 101: MAE/CA 2.706424: : 860it [00:29, 29.63it/s]\n",
      "Epoch 102: MAE/CA 2.057290: : 3it [00:00, 28.75it/s]"
     ]
    },
    {
     "name": "stdout",
     "output_type": "stream",
     "text": [
      "Epoch   101: reducing learning rate of group 0 to 2.5770e-05.\n"
     ]
    },
    {
     "name": "stderr",
     "output_type": "stream",
     "text": [
      "Epoch 102: MAE/CA 2.068773: : 860it [00:29, 29.42it/s]\n",
      "Epoch 103: MAE/CA 2.328408: : 860it [00:29, 29.38it/s]\n",
      "Epoch 104: MAE/CA 2.313738: : 860it [00:28, 30.06it/s]\n",
      "Epoch 105: MAE/CA 2.303367: : 860it [00:29, 29.39it/s]\n",
      "Epoch 106: MAE/CA 2.195930: : 860it [00:29, 29.30it/s]\n",
      "Epoch 107: MAE/CA 2.233737: : 860it [00:29, 29.23it/s]\n",
      "Epoch 108: MAE/CA 2.368412: : 860it [00:29, 29.46it/s]\n",
      "Epoch 109: MAE/CA 1.699152: : 3it [00:00, 28.92it/s]"
     ]
    },
    {
     "name": "stdout",
     "output_type": "stream",
     "text": [
      "Epoch   108: reducing learning rate of group 0 to 2.0616e-05.\n"
     ]
    },
    {
     "name": "stderr",
     "output_type": "stream",
     "text": [
      "Epoch 109: MAE/CA 1.888671: : 860it [00:29, 29.02it/s]\n",
      "Epoch 110: MAE/CA 2.034374: : 860it [00:28, 30.04it/s]\n",
      "Epoch 111: MAE/CA 2.116957: : 860it [00:29, 29.14it/s]\n",
      "Epoch 112: MAE/CA 1.987880: : 860it [00:29, 29.15it/s]\n",
      "Epoch 113: MAE/CA 2.060487: : 860it [00:28, 30.25it/s]\n",
      "Epoch 114: MAE/CA 2.088367: : 860it [00:29, 29.28it/s]\n",
      "Epoch 115: MAE/CA 1.897272: : 860it [00:29, 29.25it/s]\n",
      "Epoch 116: MAE/CA 2.176100: : 3it [00:00, 28.92it/s]"
     ]
    },
    {
     "name": "stdout",
     "output_type": "stream",
     "text": [
      "Epoch   115: reducing learning rate of group 0 to 1.6493e-05.\n"
     ]
    },
    {
     "name": "stderr",
     "output_type": "stream",
     "text": [
      "Epoch 116: MAE/CA 1.770780: : 860it [00:29, 29.16it/s]\n",
      "Epoch 117: MAE/CA 1.767427: : 860it [00:29, 29.45it/s]\n",
      "Epoch 118: MAE/CA 1.854868: : 860it [00:29, 29.58it/s]\n",
      "Epoch 119: MAE/CA 1.863745: : 860it [00:29, 29.25it/s]\n",
      "Epoch 120: MAE/CA 1.851430: : 860it [00:29, 29.24it/s]\n",
      "Epoch 121: MAE/CA 1.797019: : 860it [00:29, 29.15it/s]\n",
      "Epoch 122: MAE/CA 1.849753: : 860it [00:28, 30.09it/s]\n",
      "Epoch 123: MAE/CA 1.822771: : 860it [00:28, 29.90it/s]\n",
      "Epoch 124: MAE/CA 1.639033: : 4it [00:00, 30.79it/s]"
     ]
    },
    {
     "name": "stdout",
     "output_type": "stream",
     "text": [
      "Epoch   123: reducing learning rate of group 0 to 1.3194e-05.\n"
     ]
    },
    {
     "name": "stderr",
     "output_type": "stream",
     "text": [
      "Epoch 124: MAE/CA 1.589740: : 860it [00:28, 29.79it/s]\n",
      "Epoch 125: MAE/CA 1.760338: : 860it [00:29, 29.50it/s]\n",
      "Epoch 126: MAE/CA 1.702278: : 860it [00:29, 29.27it/s]\n",
      "Epoch 127: MAE/CA 1.729396: : 860it [00:28, 29.87it/s]\n",
      "Epoch 128: MAE/CA 1.695292: : 860it [00:28, 29.79it/s]\n",
      "Epoch 129: MAE/CA 1.669813: : 860it [00:29, 29.57it/s]\n",
      "Epoch 130: MAE/CA 1.680418: : 860it [00:29, 29.65it/s]\n",
      "Epoch 131: MAE/CA 1.745860: : 4it [00:00, 30.91it/s]"
     ]
    },
    {
     "name": "stdout",
     "output_type": "stream",
     "text": [
      "Epoch   130: reducing learning rate of group 0 to 1.0555e-05.\n"
     ]
    },
    {
     "name": "stderr",
     "output_type": "stream",
     "text": [
      "Epoch 131: MAE/CA 1.557662: : 860it [00:28, 29.79it/s]\n",
      "Epoch 132: MAE/CA 1.564833: : 860it [00:29, 29.61it/s]\n",
      "Epoch 133: MAE/CA 1.586482: : 860it [00:29, 29.12it/s]\n",
      "Epoch 134: MAE/CA 1.547849: : 860it [00:29, 29.09it/s]\n",
      "Epoch 135: MAE/CA 1.578016: : 860it [00:29, 29.22it/s]\n",
      "Epoch 136: MAE/CA 1.600050: : 860it [00:29, 29.45it/s]\n",
      "Epoch 137: MAE/CA 1.563904: : 860it [00:29, 29.26it/s]\n",
      "Epoch 138: MAE/CA 1.584396: : 860it [00:28, 29.76it/s]\n",
      "Epoch 139: MAE/CA 1.551111: : 860it [00:28, 29.86it/s]\n",
      "Epoch 140: MAE/CA 1.598530: : 860it [00:28, 29.82it/s]\n",
      "Epoch 141: MAE/CA 1.560956: : 3it [00:00, 27.07it/s]"
     ]
    },
    {
     "name": "stdout",
     "output_type": "stream",
     "text": [
      "Epoch   140: reducing learning rate of group 0 to 8.4442e-06.\n"
     ]
    },
    {
     "name": "stderr",
     "output_type": "stream",
     "text": [
      "Epoch 141: MAE/CA 1.478861: : 860it [00:28, 30.06it/s]\n",
      "Epoch 142: MAE/CA 1.492192: : 860it [00:29, 29.19it/s]\n",
      "Epoch 143: MAE/CA 1.470985: : 860it [00:29, 29.24it/s]\n",
      "Epoch 144: MAE/CA 1.481760: : 860it [00:28, 29.87it/s]\n",
      "Epoch 145: MAE/CA 1.475288: : 860it [00:28, 30.10it/s]\n",
      "Epoch 146: MAE/CA 1.467701: : 860it [00:28, 29.95it/s]\n",
      "Epoch 147: MAE/CA 1.450929: : 860it [00:29, 29.37it/s]\n",
      "Epoch 148: MAE/CA 1.484679: : 860it [00:28, 29.86it/s]\n",
      "Epoch 149: MAE/CA 1.467120: : 860it [00:29, 29.60it/s]\n",
      "Epoch 150: MAE/CA 1.455377: : 860it [00:29, 29.27it/s]\n",
      "Epoch 151: MAE/CA 1.486123: : 860it [00:28, 30.01it/s]\n",
      "Epoch 152: MAE/CA 1.489123: : 860it [00:29, 29.30it/s]\n",
      "Epoch 153: MAE/CA 1.434868: : 860it [00:28, 30.08it/s]\n",
      "Epoch 154: MAE/CA 1.482386: : 860it [00:28, 30.15it/s]\n",
      "Epoch 155: MAE/CA 1.438263: : 860it [00:29, 29.19it/s]\n",
      "Epoch 156: MAE/CA 1.441641: : 860it [00:30, 28.53it/s]\n",
      "Epoch 157: MAE/CA 1.463043: : 860it [00:30, 27.86it/s]\n",
      "Epoch 158: MAE/CA 1.444255: : 860it [00:30, 28.56it/s]\n",
      "Epoch 159: MAE/CA 1.459079: : 860it [00:29, 28.76it/s]\n",
      "Epoch 160: MAE/CA 1.615894: : 4it [00:00, 31.04it/s]"
     ]
    },
    {
     "name": "stdout",
     "output_type": "stream",
     "text": [
      "Epoch   159: reducing learning rate of group 0 to 6.7554e-06.\n"
     ]
    },
    {
     "name": "stderr",
     "output_type": "stream",
     "text": [
      "Epoch 160: MAE/CA 1.342690: : 860it [00:28, 30.35it/s]\n",
      "Epoch 161: MAE/CA 1.393463: : 860it [00:30, 28.59it/s]\n",
      "Epoch 162: MAE/CA 1.397161: : 860it [00:30, 28.06it/s]\n",
      "Epoch 163: MAE/CA 1.384372: : 860it [00:30, 28.57it/s]\n",
      "Epoch 164: MAE/CA 1.396776: : 860it [00:30, 28.33it/s]\n",
      "Epoch 165: MAE/CA 1.381857: : 860it [00:30, 28.43it/s]\n",
      "Epoch 166: MAE/CA 1.376057: : 860it [00:30, 27.93it/s]\n",
      "Epoch 167: MAE/CA 1.300155: : 3it [00:00, 28.12it/s]"
     ]
    },
    {
     "name": "stdout",
     "output_type": "stream",
     "text": [
      "Epoch   166: reducing learning rate of group 0 to 5.4043e-06.\n"
     ]
    },
    {
     "name": "stderr",
     "output_type": "stream",
     "text": [
      "Epoch 167: MAE/CA 1.304155: : 860it [00:30, 28.52it/s]\n",
      "Epoch 168: MAE/CA 1.314183: : 860it [00:30, 27.97it/s]\n",
      "Epoch 169: MAE/CA 1.358465: : 860it [00:30, 28.53it/s]\n",
      "Epoch 170: MAE/CA 1.314234: : 860it [00:30, 27.95it/s]\n",
      "Epoch 171: MAE/CA 1.332500: : 860it [00:31, 27.02it/s]\n",
      "Epoch 172: MAE/CA 1.320844: : 860it [00:31, 27.51it/s]\n",
      "Epoch 173: MAE/CA 1.324838: : 860it [00:30, 27.99it/s]\n",
      "Epoch 174: MAE/CA 1.300040: : 3it [00:00, 27.79it/s]"
     ]
    },
    {
     "name": "stdout",
     "output_type": "stream",
     "text": [
      "Epoch   173: reducing learning rate of group 0 to 4.3235e-06.\n"
     ]
    },
    {
     "name": "stderr",
     "output_type": "stream",
     "text": [
      "Epoch 174: MAE/CA 1.290581: : 860it [00:30, 28.55it/s]\n",
      "Epoch 175: MAE/CA 1.273455: : 860it [00:30, 28.14it/s]\n",
      "Epoch 176: MAE/CA 1.300650: : 860it [00:30, 28.09it/s]\n",
      "Epoch 177: MAE/CA 1.304722: : 860it [00:30, 28.61it/s]\n",
      "Epoch 178: MAE/CA 1.269693: : 860it [00:29, 29.52it/s]\n",
      "Epoch 179: MAE/CA 1.300709: : 860it [00:30, 28.37it/s]\n",
      "Epoch 180: MAE/CA 1.276116: : 860it [00:30, 28.04it/s]\n",
      "Epoch 181: MAE/CA 1.280021: : 860it [00:31, 27.60it/s]\n",
      "Epoch 182: MAE/CA 1.295804: : 860it [00:31, 27.48it/s]\n",
      "Epoch 183: MAE/CA 1.278170: : 860it [00:31, 27.33it/s]\n",
      "Epoch 184: MAE/CA 1.280806: : 860it [00:31, 26.91it/s]\n",
      "Epoch 185: MAE/CA 1.346422: : 3it [00:00, 22.66it/s]"
     ]
    },
    {
     "name": "stdout",
     "output_type": "stream",
     "text": [
      "Epoch   184: reducing learning rate of group 0 to 3.4588e-06.\n"
     ]
    },
    {
     "name": "stderr",
     "output_type": "stream",
     "text": [
      "Epoch 185: MAE/CA 1.233241: : 860it [00:32, 26.71it/s]\n",
      "Epoch 186: MAE/CA 1.259429: : 860it [00:30, 27.83it/s]\n",
      "Epoch 187: MAE/CA 1.261792: : 860it [00:31, 27.46it/s]\n",
      "Epoch 188: MAE/CA 1.229658: : 860it [00:30, 27.90it/s]\n",
      "Epoch 189: MAE/CA 1.243718: : 860it [00:30, 28.08it/s]\n",
      "Epoch 190: MAE/CA 1.247767: : 860it [00:30, 28.60it/s]\n",
      "Epoch 191: MAE/CA 1.256748: : 860it [00:31, 27.57it/s]\n",
      "Epoch 192: MAE/CA 1.229383: : 860it [00:30, 28.05it/s]\n",
      "Epoch 193: MAE/CA 1.234389: : 860it [00:30, 28.40it/s]\n",
      "Epoch 194: MAE/CA 1.242976: : 860it [00:30, 28.42it/s]\n",
      "Epoch 195: MAE/CA 1.251801: : 860it [00:30, 28.15it/s]\n",
      "Epoch 196: MAE/CA 1.231047: : 860it [00:30, 28.13it/s]\n",
      "Epoch 197: MAE/CA 1.235061: : 860it [00:30, 27.79it/s]\n",
      "Epoch 198: MAE/CA 1.223992: : 860it [00:30, 27.75it/s]\n",
      "Epoch 199: MAE/CA 1.233651: : 860it [00:31, 27.09it/s]\n",
      "Epoch 200: MAE/CA 1.228517: : 860it [00:32, 26.55it/s]\n",
      "Epoch 201: MAE/CA 1.234416: : 860it [00:31, 27.02it/s]\n",
      "Epoch 202: MAE/CA 1.239954: : 860it [00:31, 27.52it/s]\n",
      "Epoch 203: MAE/CA 1.224263: : 860it [00:30, 27.90it/s]\n",
      "Epoch 204: MAE/CA 1.216940: : 860it [00:30, 28.52it/s]\n",
      "Epoch 205: MAE/CA 1.205974: : 860it [00:29, 28.96it/s]\n",
      "Epoch 206: MAE/CA 1.232028: : 860it [00:31, 27.38it/s]\n",
      "Epoch 207: MAE/CA 1.241893: : 860it [00:31, 27.72it/s]\n",
      "Epoch 208: MAE/CA 1.236941: : 860it [00:30, 27.83it/s]\n",
      "Epoch 209: MAE/CA 1.232462: : 860it [00:31, 27.48it/s]\n",
      "Epoch 210: MAE/CA 1.220869: : 860it [00:31, 27.70it/s]\n",
      "Epoch 211: MAE/CA 1.229910: : 860it [00:30, 27.75it/s]\n",
      "Epoch 212: MAE/CA 1.247743: : 3it [00:00, 27.04it/s]"
     ]
    },
    {
     "name": "stdout",
     "output_type": "stream",
     "text": [
      "Epoch   211: reducing learning rate of group 0 to 2.7670e-06.\n"
     ]
    },
    {
     "name": "stderr",
     "output_type": "stream",
     "text": [
      "Epoch 212: MAE/CA 1.207148: : 860it [00:30, 28.20it/s]\n",
      "Epoch 213: MAE/CA 1.201336: : 860it [00:29, 28.70it/s]\n",
      "Epoch 214: MAE/CA 1.192760: : 860it [00:30, 28.08it/s]\n",
      "Epoch 215: MAE/CA 1.198814: : 860it [00:30, 28.02it/s]\n",
      "Epoch 216: MAE/CA 1.198199: : 860it [00:30, 28.16it/s]\n",
      "Epoch 217: MAE/CA 1.199605: : 860it [00:31, 27.29it/s]\n",
      "Epoch 218: MAE/CA 1.191121: : 860it [00:30, 28.18it/s]\n",
      "Epoch 219: MAE/CA 1.205215: : 860it [00:30, 28.50it/s]\n",
      "Epoch 220: MAE/CA 1.198619: : 860it [00:30, 28.08it/s]\n",
      "Epoch 221: MAE/CA 1.195024: : 860it [00:30, 28.53it/s]\n",
      "Epoch 222: MAE/CA 1.204679: : 860it [00:30, 28.35it/s]\n",
      "Epoch 223: MAE/CA 1.179520: : 860it [00:30, 27.99it/s]\n",
      "Epoch 224: MAE/CA 1.204813: : 860it [00:31, 27.65it/s]\n",
      "Epoch 225: MAE/CA 1.187594: : 860it [00:30, 27.81it/s]\n",
      "Epoch 226: MAE/CA 1.198980: : 860it [00:31, 27.63it/s]\n",
      "Epoch 227: MAE/CA 1.192793: : 860it [00:30, 27.92it/s]\n",
      "Epoch 228: MAE/CA 1.184081: : 860it [00:30, 28.21it/s]\n",
      "Epoch 229: MAE/CA 1.179248: : 860it [00:30, 27.98it/s]\n",
      "Epoch 230: MAE/CA 1.189100: : 860it [00:30, 27.85it/s]\n",
      "Epoch 231: MAE/CA 1.196434: : 860it [00:30, 28.26it/s]\n",
      "Epoch 232: MAE/CA 1.186149: : 860it [00:30, 28.03it/s]\n",
      "Epoch 233: MAE/CA 1.169196: : 860it [00:31, 27.69it/s]\n",
      "Epoch 234: MAE/CA 1.182661: : 860it [00:30, 28.20it/s]\n",
      "Epoch 235: MAE/CA 1.212041: : 860it [00:30, 27.80it/s]\n",
      "Epoch 236: MAE/CA 1.175345: : 860it [00:31, 27.66it/s]\n",
      "Epoch 237: MAE/CA 1.183722: : 860it [00:31, 27.38it/s]\n",
      "Epoch 238: MAE/CA 1.183365: : 860it [00:31, 27.12it/s]\n",
      "Epoch 239: MAE/CA 1.172181: : 860it [00:30, 28.02it/s]\n",
      "Epoch 240: MAE/CA 1.227948: : 4it [00:00, 31.07it/s]"
     ]
    },
    {
     "name": "stdout",
     "output_type": "stream",
     "text": [
      "Epoch   239: reducing learning rate of group 0 to 2.2136e-06.\n"
     ]
    },
    {
     "name": "stderr",
     "output_type": "stream",
     "text": [
      "Epoch 240: MAE/CA 1.158096: : 860it [00:29, 29.27it/s]\n",
      "Epoch 241: MAE/CA 1.164411: : 860it [00:29, 28.83it/s]\n",
      "Epoch 242: MAE/CA 1.172034: : 860it [00:29, 29.39it/s]\n",
      "Epoch 243: MAE/CA 1.150627: : 860it [00:29, 28.70it/s]\n",
      "Epoch 244: MAE/CA 1.164889: : 860it [00:29, 29.16it/s]\n",
      "Epoch 245: MAE/CA 1.153987: : 860it [00:29, 29.55it/s]\n",
      "Epoch 246: MAE/CA 1.161150: : 860it [00:29, 28.88it/s]\n",
      "Epoch 247: MAE/CA 1.154245: : 860it [00:29, 29.23it/s]\n",
      "Epoch 248: MAE/CA 1.165702: : 860it [00:29, 28.96it/s]\n",
      "Epoch 249: MAE/CA 1.156435: : 860it [00:29, 28.99it/s]\n",
      "Epoch 250: MAE/CA 1.163358: : 3it [00:00, 26.74it/s]"
     ]
    },
    {
     "name": "stdout",
     "output_type": "stream",
     "text": [
      "Epoch   249: reducing learning rate of group 0 to 1.7709e-06.\n"
     ]
    },
    {
     "name": "stderr",
     "output_type": "stream",
     "text": [
      "Epoch 250: MAE/CA 1.143271: : 860it [00:29, 29.03it/s]\n",
      "Epoch 251: MAE/CA 1.139308: : 860it [00:29, 28.76it/s]\n",
      "Epoch 252: MAE/CA 1.143674: : 860it [00:29, 28.72it/s]\n",
      "Epoch 253: MAE/CA 1.137112: : 860it [00:29, 28.96it/s]\n",
      "Epoch 254: MAE/CA 1.146190: : 860it [00:29, 29.13it/s]\n",
      "Epoch 255: MAE/CA 1.137206: : 860it [00:29, 28.68it/s]\n",
      "Epoch 256: MAE/CA 1.133071: : 860it [00:29, 29.20it/s]\n",
      "Epoch 257: MAE/CA 1.145862: : 860it [00:30, 28.65it/s]\n",
      "Epoch 258: MAE/CA 1.131392: : 860it [00:29, 28.68it/s]\n",
      "Epoch 259: MAE/CA 1.134349: : 860it [00:29, 29.20it/s]\n",
      "Epoch 260: MAE/CA 1.146084: : 860it [00:29, 29.45it/s]\n",
      "Epoch 261: MAE/CA 1.152906: : 860it [00:29, 29.51it/s]\n",
      "Epoch 262: MAE/CA 1.132571: : 860it [00:29, 29.29it/s]\n",
      "Epoch 263: MAE/CA 1.137133: : 860it [00:27, 31.39it/s]\n",
      "Epoch 264: MAE/CA 1.139249: : 860it [00:29, 29.44it/s]\n",
      "Epoch 265: MAE/CA 1.175193: : 3it [00:00, 28.31it/s]"
     ]
    },
    {
     "name": "stdout",
     "output_type": "stream",
     "text": [
      "Epoch   264: reducing learning rate of group 0 to 1.4167e-06.\n"
     ]
    },
    {
     "name": "stderr",
     "output_type": "stream",
     "text": [
      "Epoch 265: MAE/CA 1.118359: : 860it [00:29, 29.45it/s]\n",
      "Epoch 266: MAE/CA 1.116952: : 860it [00:28, 29.89it/s]\n",
      "Epoch 267: MAE/CA 1.129998: : 860it [00:28, 29.67it/s]\n",
      "Epoch 268: MAE/CA 1.123018: : 860it [00:29, 29.38it/s]\n",
      "Epoch 269: MAE/CA 1.123684: : 860it [00:28, 30.07it/s]\n",
      "Epoch 270: MAE/CA 1.132401: : 860it [00:28, 30.09it/s]\n",
      "Epoch 271: MAE/CA 1.123152: : 860it [00:29, 29.29it/s]\n",
      "Epoch 272: MAE/CA 1.120432: : 860it [00:29, 28.93it/s]\n",
      "Epoch 273: MAE/CA 1.069594: : 3it [00:00, 28.41it/s]"
     ]
    },
    {
     "name": "stdout",
     "output_type": "stream",
     "text": [
      "Epoch   272: reducing learning rate of group 0 to 1.1334e-06.\n"
     ]
    },
    {
     "name": "stderr",
     "output_type": "stream",
     "text": [
      "Epoch 273: MAE/CA 1.106033: : 860it [00:29, 29.39it/s]\n",
      "Epoch 274: MAE/CA 1.110458: : 860it [00:29, 29.36it/s]\n",
      "Epoch 275: MAE/CA 1.112805: : 860it [00:29, 29.39it/s]\n",
      "Epoch 276: MAE/CA 1.112134: : 860it [00:29, 29.20it/s]\n",
      "Epoch 277: MAE/CA 1.110309: : 860it [00:28, 29.78it/s]\n",
      "Epoch 278: MAE/CA 1.114875: : 860it [00:28, 29.72it/s]\n",
      "Epoch 279: MAE/CA 1.105436: : 860it [00:29, 29.62it/s]\n",
      "Epoch 280: MAE/CA 1.114098: : 860it [00:29, 29.62it/s]\n",
      "Epoch 281: MAE/CA 1.101914: : 860it [00:29, 29.54it/s]\n",
      "Epoch 282: MAE/CA 1.104274: : 860it [00:29, 29.42it/s]\n",
      "Epoch 283: MAE/CA 1.106946: : 860it [00:29, 29.42it/s]\n",
      "Epoch 284: MAE/CA 1.111474: : 860it [00:29, 29.40it/s]\n",
      "Epoch 285: MAE/CA 1.098717: : 860it [00:28, 29.70it/s]\n",
      "Epoch 286: MAE/CA 1.105008: : 860it [00:28, 30.32it/s]\n",
      "Epoch 287: MAE/CA 1.115020: : 860it [00:28, 30.13it/s]\n",
      "Epoch 288: MAE/CA 1.101924: : 860it [00:29, 29.23it/s]\n",
      "Epoch 289: MAE/CA 1.107890: : 860it [00:29, 29.54it/s]\n",
      "Epoch 290: MAE/CA 1.102557: : 860it [00:28, 29.85it/s]\n",
      "Epoch 291: MAE/CA 1.106484: : 860it [00:28, 30.37it/s]\n",
      "Epoch 292: MAE/CA 1.116265: : 4it [00:00, 30.99it/s]"
     ]
    },
    {
     "name": "stdout",
     "output_type": "stream",
     "text": [
      "Epoch   291: reducing learning rate of group 0 to 9.0669e-07.\n"
     ]
    },
    {
     "name": "stderr",
     "output_type": "stream",
     "text": [
      "Epoch 292: MAE/CA 1.101699: : 860it [00:28, 30.06it/s]\n",
      "Epoch 293: MAE/CA 1.091436: : 860it [00:29, 29.32it/s]\n",
      "Epoch 294: MAE/CA 1.099145: : 860it [00:27, 30.98it/s]\n",
      "Epoch 295: MAE/CA 1.095987: : 860it [00:29, 29.09it/s]\n",
      "Epoch 296: MAE/CA 1.090595: : 860it [00:29, 29.10it/s]\n",
      "Epoch 297: MAE/CA 1.101170: : 860it [00:29, 29.30it/s]\n",
      "Epoch 298: MAE/CA 1.090081: : 860it [00:29, 29.33it/s]\n",
      "Epoch 299: MAE/CA 1.095289: : 860it [00:28, 29.68it/s]\n",
      "Epoch 300: MAE/CA 1.098548: : 860it [00:29, 29.50it/s]\n",
      "Epoch 301: MAE/CA 1.093549: : 860it [00:29, 29.14it/s]\n",
      "Epoch 302: MAE/CA 1.093861: : 860it [00:29, 29.53it/s]\n",
      "Epoch 303: MAE/CA 1.096845: : 860it [00:29, 29.29it/s]\n",
      "Epoch 304: MAE/CA 1.093402: : 860it [00:29, 29.14it/s]\n",
      "Epoch 305: MAE/CA 1.124641: : 3it [00:00, 29.41it/s]"
     ]
    },
    {
     "name": "stdout",
     "output_type": "stream",
     "text": [
      "Epoch   304: reducing learning rate of group 0 to 7.2536e-07.\n"
     ]
    },
    {
     "name": "stderr",
     "output_type": "stream",
     "text": [
      "Epoch 305: MAE/CA 1.086812: : 860it [00:28, 29.69it/s]\n",
      "Epoch 306: MAE/CA 1.088287: : 860it [00:29, 29.59it/s]\n",
      "Epoch 307: MAE/CA 1.083560: : 860it [00:29, 29.60it/s]\n",
      "Epoch 308: MAE/CA 1.080235: : 860it [00:29, 29.16it/s]\n",
      "Epoch 309: MAE/CA 1.087767: : 860it [00:29, 29.24it/s]\n",
      "Epoch 310: MAE/CA 1.088465: : 860it [00:29, 29.11it/s]\n",
      "Epoch 311: MAE/CA 1.086146: : 860it [00:29, 29.22it/s]\n",
      "Epoch 312: MAE/CA 1.080857: : 860it [00:29, 29.20it/s]\n",
      "Epoch 313: MAE/CA 1.088016: : 860it [00:29, 29.35it/s]\n",
      "Epoch 314: MAE/CA 1.088976: : 860it [00:29, 28.95it/s]\n",
      "Epoch 315: MAE/CA 1.169049: : 3it [00:00, 29.46it/s]"
     ]
    },
    {
     "name": "stdout",
     "output_type": "stream",
     "text": [
      "Epoch   314: reducing learning rate of group 0 to 5.8028e-07.\n"
     ]
    },
    {
     "name": "stderr",
     "output_type": "stream",
     "text": [
      "Epoch 315: MAE/CA 1.078081: : 860it [00:28, 30.01it/s]\n",
      "Epoch 316: MAE/CA 1.079144: : 860it [00:29, 29.55it/s]\n",
      "Epoch 317: MAE/CA 1.078369: : 860it [00:28, 29.76it/s]\n",
      "Epoch 318: MAE/CA 1.077174: : 860it [00:29, 29.36it/s]\n",
      "Epoch 319: MAE/CA 1.077046: : 860it [00:27, 31.35it/s]\n",
      "Epoch 320: MAE/CA 1.077547: : 860it [00:28, 30.53it/s]\n",
      "Epoch 321: MAE/CA 1.079698: : 860it [00:28, 29.73it/s]\n",
      "Epoch 322: MAE/CA 1.077005: : 860it [00:29, 29.62it/s]\n",
      "Epoch 323: MAE/CA 1.075133: : 860it [00:29, 29.27it/s]\n",
      "Epoch 324: MAE/CA 1.077031: : 860it [00:29, 29.14it/s]\n",
      "Epoch 325: MAE/CA 1.078752: : 860it [00:29, 29.46it/s]\n",
      "Epoch 326: MAE/CA 1.077888: : 860it [00:29, 29.24it/s]\n",
      "Epoch 327: MAE/CA 1.079703: : 860it [00:29, 29.47it/s]\n",
      "Epoch 328: MAE/CA 1.076867: : 860it [00:29, 29.35it/s]\n",
      "Epoch 329: MAE/CA 1.075674: : 860it [00:29, 29.52it/s]\n",
      "Epoch 330: MAE/CA 1.033472: : 3it [00:00, 29.38it/s]"
     ]
    },
    {
     "name": "stdout",
     "output_type": "stream",
     "text": [
      "Epoch   329: reducing learning rate of group 0 to 4.6423e-07.\n"
     ]
    },
    {
     "name": "stderr",
     "output_type": "stream",
     "text": [
      "Epoch 330: MAE/CA 1.072877: : 860it [00:29, 29.26it/s]\n",
      "Epoch 331: MAE/CA 1.077143: : 860it [00:29, 29.27it/s]\n",
      "Epoch 332: MAE/CA 1.070585: : 860it [00:29, 29.32it/s]\n",
      "Epoch 333: MAE/CA 1.073223: : 860it [00:29, 29.54it/s]\n",
      "Epoch 334: MAE/CA 1.071211: : 860it [00:29, 29.64it/s]\n",
      "Epoch 335: MAE/CA 1.071266: : 860it [00:29, 29.49it/s]\n",
      "Epoch 336: MAE/CA 1.073477: : 860it [00:29, 29.17it/s]\n",
      "Epoch 337: MAE/CA 1.075716: : 860it [00:29, 29.27it/s]\n",
      "Epoch 338: MAE/CA 1.070577: : 860it [00:29, 29.59it/s]\n",
      "Epoch 339: MAE/CA 1.107469: : 3it [00:00, 27.37it/s]"
     ]
    },
    {
     "name": "stdout",
     "output_type": "stream",
     "text": [
      "Epoch   338: reducing learning rate of group 0 to 3.7138e-07.\n"
     ]
    },
    {
     "name": "stderr",
     "output_type": "stream",
     "text": [
      "Epoch 339: MAE/CA 1.069700: : 860it [00:29, 29.09it/s]\n",
      "Epoch 340: MAE/CA 1.067161: : 860it [00:29, 29.51it/s]\n",
      "Epoch 341: MAE/CA 1.066361: : 837it [00:28, 29.41it/s]"
     ]
    }
   ],
   "source": [
    "loss_hist = []\n",
    "try:\n",
    "    # For each epoch\n",
    "    for epoch in range(n_epochs):\n",
    "        # For each batch in the dataloader\n",
    "        pbar = tqdm.tqdm(enumerate(train_loader, 0))\n",
    "        epoch_loss = 0\n",
    "        for i, data in pbar:\n",
    "            model.zero_grad()\n",
    "            data.to(device)\n",
    "            target = data.y[:, target_idx]\n",
    "            prediction = model(data.z, data.pos, data.batch)\n",
    "            output = loss(prediction.view(-1), target)\n",
    "            mae = (prediction.view(-1) - target).abs().mean()\n",
    "            epoch_loss = (epoch_loss*i + mae.item())/(i+1)\n",
    "            \n",
    "            pbar.set_description('Epoch %d: MAE/CA %2.6f'%(epoch+1, epoch_loss/chemical_accuracy[target_idx]))\n",
    "            output.backward()\n",
    "            optimizer.step()\n",
    "\n",
    "        lr_scheduler.step(epoch_loss)\n",
    "        loss_hist += [epoch_loss]\n",
    "        if epoch_loss/chemical_accuracy[target_idx] < 0.45:\n",
    "            break\n",
    "\n",
    "except KeyboardInterrupt:\n",
    "    print('keyboard interrupt caught')"
   ]
  },
  {
   "cell_type": "code",
   "execution_count": null,
   "id": "689f8c05",
   "metadata": {},
   "outputs": [],
   "source": [
    "model = model.to('cpu')\n",
    "pbar = tqdm.tqdm(enumerate(test_loader, 0))\n",
    "epoch_loss = 0\n",
    "maes = []\n",
    "for i, data in pbar:\n",
    "    data.to('cpu')\n",
    "    prediction = model(data.z, data.x, data.batch)\n",
    "    mae = (denormalize(prediction.view(-1)) - data.y[:, target_idx]).abs()\n",
    "    maes += [mae]\n",
    "maes = torch.cat(maes, dim=0)\n",
    "mae = maes.mean().item()\n",
    "print(mae, mae/chemical_accuracy[target_idx])\n"
   ]
  },
  {
   "cell_type": "code",
   "execution_count": null,
   "id": "6ea4cb4e",
   "metadata": {},
   "outputs": [],
   "source": []
  },
  {
   "cell_type": "code",
   "execution_count": null,
   "id": "dffd3f04",
   "metadata": {},
   "outputs": [],
   "source": []
  },
  {
   "cell_type": "code",
   "execution_count": null,
   "id": "5ee076fa",
   "metadata": {},
   "outputs": [],
   "source": []
  }
 ],
 "metadata": {
  "kernelspec": {
   "display_name": "Python 3 (ipykernel)",
   "language": "python",
   "name": "python3"
  },
  "language_info": {
   "codemirror_mode": {
    "name": "ipython",
    "version": 3
   },
   "file_extension": ".py",
   "mimetype": "text/x-python",
   "name": "python",
   "nbconvert_exporter": "python",
   "pygments_lexer": "ipython3",
   "version": "3.8.3"
  }
 },
 "nbformat": 4,
 "nbformat_minor": 5
}
