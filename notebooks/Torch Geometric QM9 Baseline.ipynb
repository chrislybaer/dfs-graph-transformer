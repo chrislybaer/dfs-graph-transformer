{
 "cells": [
  {
   "cell_type": "code",
   "execution_count": 1,
   "id": "0ff921ff",
   "metadata": {},
   "outputs": [],
   "source": [
    "%load_ext autoreload\n",
    "%autoreload 2\n",
    "import torch\n",
    "import torch.nn as nn\n",
    "import torch.nn.functional as F\n",
    "import torch.optim as optim\n",
    "from torch_geometric.datasets.qm9 import QM9\n",
    "import torch_geometric.datasets.qm9 as qm9\n",
    "from torch_geometric.data import DataLoader\n",
    "import torch_geometric.nn as tgnn\n",
    "from torch_scatter import scatter\n",
    "import tqdm\n",
    "import numpy as np\n",
    "import wandb"
   ]
  },
  {
   "cell_type": "code",
   "execution_count": 2,
   "id": "2c8b07c8",
   "metadata": {},
   "outputs": [],
   "source": [
    "# [0] Reports MAE in eV / Chemical Accuracy of the target variable U0. \n",
    "# The chemical accuracy of U0 is 0.043 see [1, Table 5].\n",
    "\n",
    "# Reproduced table [0]\n",
    "# MXMNet: 0.00590/0.043 = 0.13720930232558143\n",
    "# HMGNN:  0.00592/0.043 = 0.13767441860465118\n",
    "# MPNN:   0.01935/0.043 = 0.45\n",
    "# KRR:    0.0251 /0.043 = 0.5837209302325582\n",
    "# [0] https://paperswithcode.com/sota/formation-energy-on-qm9\n",
    "# [1] Neural Message Passing for Quantum Chemistry, https://arxiv.org/pdf/1704.01212v2.pdf\n",
    "# MXMNet https://arxiv.org/pdf/2011.07457v1.pdf\n",
    "# HMGNN https://arxiv.org/pdf/2009.12710v1.pdf\n",
    "# MPNN https://arxiv.org/pdf/1704.01212v2.pdf\n",
    "# KRR HDAD kernel ridge regression https://arxiv.org/pdf/1702.05532.pdf\n",
    "# HDAD means HDAD (Histogram of distances, anglesand dihedral angles)\n",
    "\n",
    "# [2] Reports the average value of MAE / Chemical Accuracy of over all targets\n",
    "# [2] https://paperswithcode.com/sota/drug-discovery-on-qm9\n",
    "target_dict = {0: 'mu, D, Dipole moment', \n",
    "               1: 'alpha, {a_0}^3, Isotropic polarizability', \n",
    "               2: 'epsilon_{HOMO}, eV, Highest occupied molecular orbital energy',\n",
    "               3: 'epsilon_{LUMO}, eV, Lowest unoccupied molecular orbital energy',\n",
    "               4: 'Delta, eV, Gap between HOMO and LUMO',\n",
    "               5: '< R^2 >, {a_0}^2, Electronic spatial extent',\n",
    "               6: 'ZPVE, eV, Zero point vibrational energy', \n",
    "               7: 'U_0, eV, Internal energy at 0K',\n",
    "               8: 'U, eV, Internal energy at 298.15K', \n",
    "               9: 'H, eV, Enthalpy at 298.15K',\n",
    "               10: 'G, eV, Free energy at 298.15K',  \n",
    "               11: 'c_{v}, cal\\(mol K), Heat capacity at 298.15K'}\n",
    "\n",
    "chemical_accuracy = {idx:0.043 for idx in range(12)}\n",
    "chemical_accuracy[0] = 0.1\n",
    "chemical_accuracy[1] = 0.1\n",
    "chemical_accuracy[5] = 1.2\n",
    "chemical_accuracy[6] = 0.0012\n",
    "chemical_accuracy[11] = 0.050"
   ]
  },
  {
   "cell_type": "code",
   "execution_count": 3,
   "id": "c9c1b00b",
   "metadata": {},
   "outputs": [
    {
     "name": "stderr",
     "output_type": "stream",
     "text": [
      "\u001b[34m\u001b[1mwandb\u001b[0m: Currently logged in as: \u001b[33mchrisxx\u001b[0m (use `wandb login --relogin` to force relogin)\n"
     ]
    },
    {
     "data": {
      "text/html": [
       "\n",
       "                Tracking run with wandb version 0.10.33<br/>\n",
       "                Syncing run <strong style=\"color:#cdcd00\">proud-tree-8</strong> to <a href=\"https://wandb.ai\" target=\"_blank\">Weights & Biases</a> <a href=\"https://docs.wandb.com/integrations/jupyter.html\" target=\"_blank\">(Documentation)</a>.<br/>\n",
       "                Project page: <a href=\"https://wandb.ai/chrisxx/QM9\" target=\"_blank\">https://wandb.ai/chrisxx/QM9</a><br/>\n",
       "                Run page: <a href=\"https://wandb.ai/chrisxx/QM9/runs/3nac8gef\" target=\"_blank\">https://wandb.ai/chrisxx/QM9/runs/3nac8gef</a><br/>\n",
       "                Run data is saved locally in <code>C:\\Users\\chris\\repos\\2021\\graph-transformer\\notebooks\\wandb\\run-20210706_231501-3nac8gef</code><br/><br/>\n",
       "            "
      ],
      "text/plain": [
       "<IPython.core.display.HTML object>"
      ]
     },
     "metadata": {},
     "output_type": "display_data"
    }
   ],
   "source": [
    "wandb.init(project='QM9', entity='chrisxx')\n",
    "config = wandb.config\n",
    "config.lr = 0.0003\n",
    "config.n_epochs = 10000\n",
    "config.patience = 5\n",
    "config.factor = 0.9\n",
    "config.target_idx = 7\n",
    "config.batch_size = 128\n",
    "config.n_train = 110000\n",
    "config.n_valid = 10000"
   ]
  },
  {
   "cell_type": "code",
   "execution_count": 4,
   "id": "2606045f",
   "metadata": {},
   "outputs": [],
   "source": [
    "target_idx = config.target_idx"
   ]
  },
  {
   "cell_type": "code",
   "execution_count": 5,
   "id": "8904130a",
   "metadata": {},
   "outputs": [],
   "source": [
    "dataset = QM9('../datasets/qm9_geometric/')"
   ]
  },
  {
   "cell_type": "code",
   "execution_count": 6,
   "id": "fd471b78",
   "metadata": {},
   "outputs": [],
   "source": [
    "dataset = dataset.shuffle()\n",
    "train_dataset = dataset[:config.n_train]\n",
    "valid_dataset = dataset[config.n_train:config.n_train+config.n_valid]\n",
    "test_dataset = dataset[config.n_train+config.n_valid:]\n",
    "config.n_test = len(test_dataset)\n",
    "train_loader = DataLoader(train_dataset, batch_size=config.batch_size, shuffle=True, pin_memory=True)\n",
    "valid_loader = DataLoader(valid_dataset, batch_size=config.batch_size)\n",
    "test_loader = DataLoader(test_dataset, batch_size=8)"
   ]
  },
  {
   "cell_type": "code",
   "execution_count": 7,
   "id": "7be0c442",
   "metadata": {},
   "outputs": [],
   "source": [
    "ngpu=1\n",
    "device = torch.device('cuda:0' if (torch.cuda.is_available() and ngpu > 0) else 'cpu')"
   ]
  },
  {
   "cell_type": "markdown",
   "id": "12914486",
   "metadata": {},
   "source": [
    "# Model"
   ]
  },
  {
   "cell_type": "code",
   "execution_count": 8,
   "id": "8d7c2677",
   "metadata": {},
   "outputs": [],
   "source": [
    "target_vec = []"
   ]
  },
  {
   "cell_type": "code",
   "execution_count": 9,
   "id": "786e4122",
   "metadata": {},
   "outputs": [],
   "source": [
    "# based on https://schnetpack.readthedocs.io/en/stable/tutorials/tutorial_02_qm9.html\n",
    "# and https://pytorch-geometric.readthedocs.io/en/latest/_modules/torch_geometric/nn/models/schnet.html#SchNet\n",
    "for data in train_loader:\n",
    "    data = data.to(device)\n",
    "    atomU0s = torch.tensor(qm9.atomrefs[target_idx], device=device)[torch.argmax(data.x[:, :5], axis=1)]\n",
    "    target_modular = scatter(atomU0s, data.batch, dim=-1, reduce='sum')\n",
    "    target_vec += [(data.y[:, target_idx] - target_modular).detach().cpu().numpy()]\n",
    "target_vec = np.concatenate(target_vec, axis=0)"
   ]
  },
  {
   "cell_type": "code",
   "execution_count": 10,
   "id": "8c96e40f",
   "metadata": {},
   "outputs": [],
   "source": [
    "target_mean = np.mean(target_vec)\n",
    "target_std = np.std(target_vec)"
   ]
  },
  {
   "cell_type": "code",
   "execution_count": 11,
   "id": "a80a7aba",
   "metadata": {},
   "outputs": [],
   "source": [
    "model = tgnn.SchNet(hidden_channels=128, num_filters=128, num_interactions=6, num_gaussians=50, cutoff=10.0,\n",
    "                    readout='add', atomref=dataset.atomref(target_idx), mean=target_mean, std=target_std)\n",
    "loss = nn.MSELoss(reduction='mean')\n",
    "optimizer = optim.Adam(model.parameters(), lr=config.lr)\n",
    "lr_scheduler = optim.lr_scheduler.ReduceLROnPlateau(optimizer, mode='min', verbose=True, patience=config.patience, factor=config.factor)"
   ]
  },
  {
   "cell_type": "markdown",
   "id": "28549be9",
   "metadata": {},
   "source": [
    "# Training"
   ]
  },
  {
   "cell_type": "code",
   "execution_count": 12,
   "id": "66509662",
   "metadata": {},
   "outputs": [],
   "source": [
    "model = model.to(device)"
   ]
  },
  {
   "cell_type": "code",
   "execution_count": 13,
   "id": "0e4a46ad",
   "metadata": {},
   "outputs": [
    {
     "name": "stderr",
     "output_type": "stream",
     "text": [
      "Epoch 1: MAE/CA 427.416600: : 860it [00:28, 29.75it/s] \n",
      "Epoch 2: MAE/CA 107.439756: : 860it [00:27, 31.02it/s]\n",
      "Epoch 3: MAE/CA 98.632933: : 860it [00:27, 31.24it/s] \n",
      "Epoch 4: MAE/CA 85.642215: : 860it [00:27, 31.19it/s] \n",
      "Epoch 5: MAE/CA 78.977036: : 860it [00:27, 31.20it/s]\n",
      "Epoch 6: MAE/CA 65.881465: : 860it [00:27, 31.21it/s] \n",
      "Epoch 7: MAE/CA 60.796242: : 860it [00:27, 31.21it/s]\n",
      "Epoch 8: MAE/CA 66.145693: : 860it [00:27, 31.22it/s]\n",
      "Epoch 9: MAE/CA 63.079950: : 860it [00:27, 31.26it/s]\n",
      "Epoch 10: MAE/CA 65.966018: : 860it [00:27, 31.23it/s] \n",
      "Epoch 11: MAE/CA 52.733130: : 860it [00:27, 31.02it/s]\n",
      "Epoch 12: MAE/CA 57.578002: : 860it [00:27, 31.19it/s]\n",
      "Epoch 13: MAE/CA 50.951289: : 860it [00:27, 31.13it/s]\n",
      "Epoch 14: MAE/CA 43.412078: : 860it [00:27, 31.28it/s]\n",
      "Epoch 15: MAE/CA 50.793904: : 860it [00:27, 31.30it/s]\n",
      "Epoch 16: MAE/CA 48.653033: : 860it [00:27, 31.26it/s]\n",
      "Epoch 17: MAE/CA 32.620593: : 860it [00:27, 31.27it/s]\n",
      "Epoch 18: MAE/CA 38.462694: : 860it [00:27, 31.23it/s]\n",
      "Epoch 19: MAE/CA 38.226719: : 860it [00:27, 31.20it/s]\n",
      "Epoch 20: MAE/CA 31.961983: : 860it [00:27, 31.17it/s]\n",
      "Epoch 21: MAE/CA 33.636385: : 860it [00:27, 31.19it/s]\n",
      "Epoch 22: MAE/CA 29.835558: : 860it [00:27, 31.17it/s]\n",
      "Epoch 23: MAE/CA 26.216634: : 860it [00:27, 31.18it/s]\n",
      "Epoch 24: MAE/CA 29.568171: : 860it [00:27, 31.08it/s]\n",
      "Epoch 25: MAE/CA 25.037200: : 860it [00:27, 31.10it/s]\n",
      "Epoch 26: MAE/CA 20.291964: : 860it [00:27, 31.16it/s]\n",
      "Epoch 27: MAE/CA 20.704347: : 860it [00:27, 31.17it/s]\n",
      "Epoch 28: MAE/CA 23.742896: : 860it [00:27, 31.14it/s]\n",
      "Epoch 29: MAE/CA 20.304403: : 860it [00:28, 29.78it/s]\n",
      "Epoch 30: MAE/CA 19.752338: : 860it [00:27, 30.93it/s]\n",
      "Epoch 31: MAE/CA 21.115691: : 860it [00:27, 30.97it/s]\n",
      "Epoch 32: MAE/CA 20.460792: : 860it [00:27, 30.78it/s]\n",
      "Epoch 33: MAE/CA 18.608830: : 860it [00:27, 31.14it/s]\n",
      "Epoch 34: MAE/CA 20.107110: : 860it [00:27, 31.16it/s]\n",
      "Epoch 35: MAE/CA 19.732438: : 860it [00:27, 31.13it/s]\n",
      "Epoch 36: MAE/CA 16.872414: : 860it [00:27, 31.16it/s]\n",
      "Epoch 37: MAE/CA 12.384792: : 860it [00:27, 31.17it/s]\n",
      "Epoch 38: MAE/CA 18.058350: : 860it [00:27, 31.13it/s]\n",
      "Epoch 39: MAE/CA 16.141389: : 860it [00:27, 31.14it/s]\n",
      "Epoch 40: MAE/CA 17.585177: : 860it [00:27, 31.18it/s]\n",
      "Epoch 41: MAE/CA 23.236882: : 860it [00:27, 31.13it/s]\n",
      "Epoch 42: MAE/CA 4.360303: : 860it [00:27, 31.13it/s]\n",
      "Epoch 43: MAE/CA 5.985999: : 860it [00:27, 31.17it/s]\n",
      "Epoch 44: MAE/CA 14.514182: : 860it [00:27, 31.13it/s]\n",
      "Epoch 45: MAE/CA 14.488091: : 860it [00:27, 31.14it/s]\n",
      "Epoch 46: MAE/CA 13.434065: : 860it [00:27, 31.12it/s]\n",
      "Epoch 47: MAE/CA 14.853312: : 860it [00:27, 31.09it/s]\n",
      "Epoch 48: MAE/CA 17.333307: : 860it [00:27, 31.10it/s]\n"
     ]
    },
    {
     "name": "stdout",
     "output_type": "stream",
     "text": [
      "Epoch    48: reducing learning rate of group 0 to 2.7000e-04.\n"
     ]
    },
    {
     "name": "stderr",
     "output_type": "stream",
     "text": [
      "Epoch 49: MAE/CA 5.777294: : 860it [00:27, 31.00it/s] \n",
      "Epoch 50: MAE/CA 13.928737: : 860it [00:28, 30.04it/s]\n",
      "Epoch 51: MAE/CA 12.347787: : 860it [00:29, 29.20it/s]\n",
      "Epoch 52: MAE/CA 13.074337: : 860it [00:28, 29.67it/s]\n",
      "Epoch 53: MAE/CA 12.815140: : 860it [00:28, 29.67it/s]\n",
      "Epoch 54: MAE/CA 10.394314: : 860it [00:29, 29.21it/s]\n"
     ]
    },
    {
     "name": "stdout",
     "output_type": "stream",
     "text": [
      "Epoch    54: reducing learning rate of group 0 to 2.4300e-04.\n"
     ]
    },
    {
     "name": "stderr",
     "output_type": "stream",
     "text": [
      "Epoch 55: MAE/CA 9.020215: : 860it [00:29, 29.32it/s]\n",
      "Epoch 56: MAE/CA 10.938326: : 860it [00:29, 29.27it/s]\n",
      "Epoch 57: MAE/CA 11.268693: : 860it [00:29, 29.02it/s]\n",
      "Epoch 58: MAE/CA 10.887005: : 860it [00:29, 28.83it/s]\n",
      "Epoch 59: MAE/CA 10.090998: : 860it [00:29, 29.05it/s]\n",
      "Epoch 60: MAE/CA 10.737415: : 860it [00:29, 29.15it/s]\n"
     ]
    },
    {
     "name": "stdout",
     "output_type": "stream",
     "text": [
      "Epoch    60: reducing learning rate of group 0 to 2.1870e-04.\n"
     ]
    },
    {
     "name": "stderr",
     "output_type": "stream",
     "text": [
      "Epoch 61: MAE/CA 8.805924: : 860it [00:30, 28.37it/s]\n",
      "Epoch 62: MAE/CA 7.918352: : 860it [00:28, 30.04it/s]\n",
      "Epoch 63: MAE/CA 10.564444: : 860it [00:28, 30.09it/s]\n",
      "Epoch 64: MAE/CA 9.692007: : 860it [00:28, 30.08it/s] \n",
      "Epoch 65: MAE/CA 9.495112: : 860it [00:28, 29.87it/s] \n",
      "Epoch 66: MAE/CA 10.160451: : 860it [00:28, 29.97it/s]\n"
     ]
    },
    {
     "name": "stdout",
     "output_type": "stream",
     "text": [
      "Epoch    66: reducing learning rate of group 0 to 1.9683e-04.\n"
     ]
    },
    {
     "name": "stderr",
     "output_type": "stream",
     "text": [
      "Epoch 67: MAE/CA 7.531068: : 860it [00:28, 30.03it/s]\n",
      "Epoch 68: MAE/CA 8.891147: : 860it [00:31, 27.68it/s] \n",
      "Epoch 69: MAE/CA 9.105816: : 860it [00:30, 28.24it/s] \n",
      "Epoch 70: MAE/CA 8.811628: : 860it [00:30, 28.56it/s] \n",
      "Epoch 71: MAE/CA 7.904889: : 860it [00:30, 27.83it/s]\n",
      "Epoch 72: MAE/CA 8.866119: : 860it [00:28, 29.84it/s]\n"
     ]
    },
    {
     "name": "stdout",
     "output_type": "stream",
     "text": [
      "Epoch    72: reducing learning rate of group 0 to 1.7715e-04.\n"
     ]
    },
    {
     "name": "stderr",
     "output_type": "stream",
     "text": [
      "Epoch 73: MAE/CA 5.852162: : 860it [00:28, 29.68it/s]\n",
      "Epoch 74: MAE/CA 7.746144: : 860it [00:28, 29.99it/s] \n",
      "Epoch 75: MAE/CA 7.626614: : 860it [00:28, 29.93it/s]\n",
      "Epoch 76: MAE/CA 6.926098: : 860it [00:29, 28.72it/s]\n",
      "Epoch 77: MAE/CA 6.933489: : 860it [00:28, 29.71it/s]\n",
      "Epoch 78: MAE/CA 7.900486: : 860it [00:28, 30.05it/s]\n"
     ]
    },
    {
     "name": "stdout",
     "output_type": "stream",
     "text": [
      "Epoch    78: reducing learning rate of group 0 to 1.5943e-04.\n"
     ]
    },
    {
     "name": "stderr",
     "output_type": "stream",
     "text": [
      "Epoch 79: MAE/CA 5.933850: : 860it [00:28, 30.13it/s]\n",
      "Epoch 80: MAE/CA 6.793587: : 860it [00:28, 30.09it/s]\n",
      "Epoch 81: MAE/CA 7.100870: : 860it [00:28, 30.13it/s]\n",
      "Epoch 82: MAE/CA 6.531808: : 860it [00:29, 29.65it/s]\n",
      "Epoch 83: MAE/CA 6.787561: : 860it [00:28, 30.53it/s]\n",
      "Epoch 84: MAE/CA 6.258247: : 860it [00:28, 29.99it/s] \n"
     ]
    },
    {
     "name": "stdout",
     "output_type": "stream",
     "text": [
      "Epoch    84: reducing learning rate of group 0 to 1.4349e-04.\n"
     ]
    },
    {
     "name": "stderr",
     "output_type": "stream",
     "text": [
      "Epoch 85: MAE/CA 5.521454: : 860it [00:28, 30.27it/s]\n",
      "Epoch 86: MAE/CA 6.584837: : 860it [00:29, 29.37it/s]\n",
      "Epoch 87: MAE/CA 5.643782: : 860it [00:29, 29.58it/s]\n",
      "Epoch 88: MAE/CA 6.167975: : 860it [00:28, 29.94it/s]\n",
      "Epoch 89: MAE/CA 5.641281: : 860it [00:28, 29.70it/s]\n",
      "Epoch 90: MAE/CA 5.445077: : 860it [00:28, 29.99it/s]\n"
     ]
    },
    {
     "name": "stdout",
     "output_type": "stream",
     "text": [
      "Epoch    90: reducing learning rate of group 0 to 1.2914e-04.\n"
     ]
    },
    {
     "name": "stderr",
     "output_type": "stream",
     "text": [
      "Epoch 91: MAE/CA 4.552180: : 860it [00:27, 30.77it/s]\n",
      "Epoch 92: MAE/CA 5.660134: : 860it [00:28, 30.47it/s]\n",
      "Epoch 93: MAE/CA 5.278125: : 860it [00:28, 30.46it/s]\n",
      "Epoch 94: MAE/CA 5.538268: : 860it [00:28, 30.49it/s]\n",
      "Epoch 95: MAE/CA 5.731170: : 860it [00:28, 30.49it/s]\n",
      "Epoch 96: MAE/CA 5.302738: : 860it [00:28, 30.47it/s]\n"
     ]
    },
    {
     "name": "stdout",
     "output_type": "stream",
     "text": [
      "Epoch    96: reducing learning rate of group 0 to 1.1623e-04.\n"
     ]
    },
    {
     "name": "stderr",
     "output_type": "stream",
     "text": [
      "Epoch 97: MAE/CA 4.700338: : 860it [00:28, 30.42it/s]\n",
      "Epoch 98: MAE/CA 4.383008: : 860it [00:28, 30.50it/s]\n",
      "Epoch 99: MAE/CA 5.053093: : 860it [00:28, 30.48it/s]\n",
      "Epoch 100: MAE/CA 5.063517: : 860it [00:28, 30.41it/s]\n",
      "Epoch 101: MAE/CA 5.240012: : 860it [00:28, 30.38it/s]\n",
      "Epoch 102: MAE/CA 4.994869: : 860it [00:28, 30.22it/s]\n"
     ]
    },
    {
     "name": "stdout",
     "output_type": "stream",
     "text": [
      "Epoch   102: reducing learning rate of group 0 to 1.0460e-04.\n"
     ]
    },
    {
     "name": "stderr",
     "output_type": "stream",
     "text": [
      "Epoch 103: MAE/CA 3.877361: : 860it [00:28, 30.67it/s]\n",
      "Epoch 104: MAE/CA 4.327689: : 860it [00:28, 30.30it/s]\n",
      "Epoch 105: MAE/CA 4.620754: : 860it [00:28, 30.48it/s]\n",
      "Epoch 106: MAE/CA 4.523945: : 860it [00:27, 31.02it/s]\n",
      "Epoch 107: MAE/CA 4.574335: : 860it [00:27, 31.05it/s]\n",
      "Epoch 108: MAE/CA 4.296371: : 860it [00:27, 30.99it/s]\n",
      "Epoch 109: MAE/CA 4.759393: : 860it [00:27, 30.99it/s]\n"
     ]
    },
    {
     "name": "stdout",
     "output_type": "stream",
     "text": [
      "Epoch   109: reducing learning rate of group 0 to 9.4143e-05.\n"
     ]
    },
    {
     "name": "stderr",
     "output_type": "stream",
     "text": [
      "Epoch 110: MAE/CA 3.648342: : 860it [00:27, 30.97it/s]\n",
      "Epoch 111: MAE/CA 4.362155: : 860it [00:27, 31.05it/s]\n",
      "Epoch 112: MAE/CA 3.894181: : 860it [00:27, 30.97it/s]\n",
      "Epoch 113: MAE/CA 4.305754: : 860it [00:27, 31.09it/s]\n",
      "Epoch 114: MAE/CA 4.224312: : 860it [00:27, 31.03it/s]\n",
      "Epoch 115: MAE/CA 4.284786: : 860it [00:27, 31.05it/s]\n",
      "Epoch 116: MAE/CA 3.949837: : 860it [00:27, 31.05it/s]\n"
     ]
    },
    {
     "name": "stdout",
     "output_type": "stream",
     "text": [
      "Epoch   116: reducing learning rate of group 0 to 8.4729e-05.\n"
     ]
    },
    {
     "name": "stderr",
     "output_type": "stream",
     "text": [
      "Epoch 117: MAE/CA 3.522838: : 860it [00:27, 31.02it/s]\n",
      "Epoch 118: MAE/CA 3.804199: : 860it [00:27, 31.00it/s]\n",
      "Epoch 119: MAE/CA 3.937983: : 860it [00:27, 30.95it/s]\n",
      "Epoch 120: MAE/CA 4.293913: : 860it [00:27, 30.99it/s]\n",
      "Epoch 121: MAE/CA 3.143041: : 860it [00:27, 30.97it/s]\n",
      "Epoch 122: MAE/CA 3.969628: : 860it [00:27, 30.95it/s]\n",
      "Epoch 123: MAE/CA 3.815855: : 860it [00:27, 30.96it/s]\n",
      "Epoch 124: MAE/CA 3.797311: : 860it [00:27, 30.98it/s]\n",
      "Epoch 125: MAE/CA 3.783720: : 860it [00:27, 30.96it/s]\n",
      "Epoch 126: MAE/CA 3.917006: : 860it [00:27, 30.96it/s]\n",
      "Epoch 127: MAE/CA 3.662960: : 860it [00:27, 30.96it/s]\n"
     ]
    },
    {
     "name": "stdout",
     "output_type": "stream",
     "text": [
      "Epoch   127: reducing learning rate of group 0 to 7.6256e-05.\n"
     ]
    },
    {
     "name": "stderr",
     "output_type": "stream",
     "text": [
      "Epoch 128: MAE/CA 3.157436: : 860it [00:27, 30.95it/s]\n",
      "Epoch 129: MAE/CA 3.226216: : 860it [00:27, 30.98it/s]\n",
      "Epoch 130: MAE/CA 3.347593: : 860it [00:27, 30.94it/s]\n",
      "Epoch 131: MAE/CA 3.525204: : 860it [00:27, 31.00it/s]\n",
      "Epoch 132: MAE/CA 3.395675: : 860it [00:27, 31.03it/s]\n",
      "Epoch 133: MAE/CA 3.389346: : 860it [00:27, 31.04it/s]\n"
     ]
    },
    {
     "name": "stdout",
     "output_type": "stream",
     "text": [
      "Epoch   133: reducing learning rate of group 0 to 6.8630e-05.\n"
     ]
    },
    {
     "name": "stderr",
     "output_type": "stream",
     "text": [
      "Epoch 134: MAE/CA 2.853133: : 860it [00:27, 31.04it/s]\n",
      "Epoch 135: MAE/CA 3.336977: : 860it [00:27, 31.04it/s]\n",
      "Epoch 136: MAE/CA 3.003703: : 860it [00:27, 31.02it/s]\n",
      "Epoch 137: MAE/CA 3.325582: : 860it [00:27, 31.02it/s]\n",
      "Epoch 138: MAE/CA 2.957587: : 860it [00:27, 30.98it/s]\n",
      "Epoch 139: MAE/CA 3.028326: : 860it [00:27, 31.09it/s]\n",
      "Epoch 140: MAE/CA 3.304814: : 860it [00:27, 31.09it/s]\n"
     ]
    },
    {
     "name": "stdout",
     "output_type": "stream",
     "text": [
      "Epoch   140: reducing learning rate of group 0 to 6.1767e-05.\n"
     ]
    },
    {
     "name": "stderr",
     "output_type": "stream",
     "text": [
      "Epoch 141: MAE/CA 2.589614: : 860it [00:27, 31.02it/s]\n",
      "Epoch 142: MAE/CA 2.972149: : 860it [00:27, 31.08it/s]\n",
      "Epoch 143: MAE/CA 2.869489: : 860it [00:27, 31.07it/s]\n",
      "Epoch 144: MAE/CA 2.803879: : 860it [00:27, 31.09it/s]\n",
      "Epoch 145: MAE/CA 2.948078: : 860it [00:27, 31.10it/s]\n",
      "Epoch 146: MAE/CA 2.837830: : 860it [00:27, 31.09it/s]\n",
      "Epoch 147: MAE/CA 2.708844: : 860it [00:27, 31.10it/s]\n"
     ]
    },
    {
     "name": "stdout",
     "output_type": "stream",
     "text": [
      "Epoch   147: reducing learning rate of group 0 to 5.5591e-05.\n"
     ]
    },
    {
     "name": "stderr",
     "output_type": "stream",
     "text": [
      "Epoch 148: MAE/CA 2.539053: : 860it [00:27, 31.05it/s]\n",
      "Epoch 149: MAE/CA 2.737556: : 860it [00:28, 30.65it/s]\n",
      "Epoch 150: MAE/CA 2.616472: : 860it [00:27, 31.07it/s]\n",
      "Epoch 151: MAE/CA 2.668139: : 860it [00:27, 31.05it/s]\n",
      "Epoch 152: MAE/CA 2.699050: : 860it [00:27, 31.05it/s]\n",
      "Epoch 153: MAE/CA 2.729208: : 860it [00:27, 31.06it/s]\n",
      "Epoch 154: MAE/CA 2.625822: : 860it [00:27, 31.04it/s]\n"
     ]
    },
    {
     "name": "stdout",
     "output_type": "stream",
     "text": [
      "Epoch   154: reducing learning rate of group 0 to 5.0032e-05.\n"
     ]
    },
    {
     "name": "stderr",
     "output_type": "stream",
     "text": [
      "Epoch 155: MAE/CA 2.297508: : 860it [00:27, 31.06it/s]\n",
      "Epoch 156: MAE/CA 2.419706: : 860it [00:27, 31.04it/s]\n",
      "Epoch 157: MAE/CA 2.532827: : 860it [00:27, 31.03it/s]\n",
      "Epoch 158: MAE/CA 2.573237: : 860it [00:27, 31.04it/s]\n",
      "Epoch 159: MAE/CA 2.382215: : 860it [00:28, 29.98it/s]\n",
      "Epoch 160: MAE/CA 2.464224: : 860it [00:29, 29.45it/s]\n",
      "Epoch 161: MAE/CA 2.440027: : 860it [00:28, 30.66it/s]\n"
     ]
    },
    {
     "name": "stdout",
     "output_type": "stream",
     "text": [
      "Epoch   161: reducing learning rate of group 0 to 4.5028e-05.\n"
     ]
    },
    {
     "name": "stderr",
     "output_type": "stream",
     "text": [
      "Epoch 162: MAE/CA 2.070173: : 860it [00:28, 30.69it/s]\n",
      "Epoch 163: MAE/CA 2.316307: : 860it [00:28, 30.69it/s]\n",
      "Epoch 164: MAE/CA 2.156432: : 860it [00:28, 30.39it/s]\n",
      "Epoch 165: MAE/CA 2.264070: : 860it [00:28, 30.52it/s]\n",
      "Epoch 166: MAE/CA 2.301347: : 860it [00:28, 30.12it/s]\n",
      "Epoch 167: MAE/CA 2.275671: : 860it [00:28, 29.74it/s]\n",
      "Epoch 168: MAE/CA 2.218351: : 860it [00:29, 29.44it/s]\n"
     ]
    },
    {
     "name": "stdout",
     "output_type": "stream",
     "text": [
      "Epoch   168: reducing learning rate of group 0 to 4.0526e-05.\n"
     ]
    },
    {
     "name": "stderr",
     "output_type": "stream",
     "text": [
      "Epoch 169: MAE/CA 1.919685: : 860it [00:28, 29.84it/s]\n",
      "Epoch 170: MAE/CA 2.150091: : 860it [00:29, 29.62it/s]\n",
      "Epoch 171: MAE/CA 2.158639: : 860it [00:28, 29.74it/s]\n",
      "Epoch 172: MAE/CA 2.147507: : 860it [00:28, 29.92it/s]\n",
      "Epoch 173: MAE/CA 2.107878: : 860it [00:28, 30.10it/s]\n",
      "Epoch 174: MAE/CA 2.138194: : 860it [00:28, 30.29it/s]\n",
      "Epoch 175: MAE/CA 2.069574: : 860it [00:28, 30.20it/s]\n"
     ]
    },
    {
     "name": "stdout",
     "output_type": "stream",
     "text": [
      "Epoch   175: reducing learning rate of group 0 to 3.6473e-05.\n"
     ]
    },
    {
     "name": "stderr",
     "output_type": "stream",
     "text": [
      "Epoch 176: MAE/CA 1.891835: : 860it [00:28, 30.36it/s]\n",
      "Epoch 177: MAE/CA 1.967900: : 860it [00:28, 30.44it/s]\n",
      "Epoch 178: MAE/CA 1.944783: : 860it [00:28, 30.41it/s]\n",
      "Epoch 179: MAE/CA 1.975913: : 860it [00:27, 30.75it/s]\n",
      "Epoch 180: MAE/CA 2.028388: : 860it [00:27, 30.85it/s]\n",
      "Epoch 181: MAE/CA 1.892993: : 860it [00:27, 30.78it/s]\n",
      "Epoch 182: MAE/CA 1.913204: : 860it [00:27, 30.83it/s]\n"
     ]
    },
    {
     "name": "stdout",
     "output_type": "stream",
     "text": [
      "Epoch   182: reducing learning rate of group 0 to 3.2826e-05.\n"
     ]
    },
    {
     "name": "stderr",
     "output_type": "stream",
     "text": [
      "Epoch 183: MAE/CA 1.827013: : 860it [00:27, 30.80it/s]\n",
      "Epoch 184: MAE/CA 1.841036: : 860it [00:27, 30.78it/s]\n",
      "Epoch 185: MAE/CA 1.760723: : 860it [00:27, 30.77it/s]\n",
      "Epoch 186: MAE/CA 1.955132: : 860it [00:27, 30.80it/s]\n",
      "Epoch 187: MAE/CA 1.752498: : 860it [00:27, 30.79it/s]\n",
      "Epoch 188: MAE/CA 1.801515: : 860it [00:27, 30.80it/s]\n",
      "Epoch 189: MAE/CA 1.835449: : 860it [00:27, 30.82it/s]\n",
      "Epoch 190: MAE/CA 1.865297: : 860it [00:27, 30.80it/s]\n",
      "Epoch 191: MAE/CA 1.840336: : 860it [00:27, 30.74it/s]\n",
      "Epoch 192: MAE/CA 1.939806: : 860it [00:27, 30.83it/s]\n",
      "Epoch 193: MAE/CA 1.723028: : 860it [00:27, 30.80it/s]\n",
      "Epoch 194: MAE/CA 1.866383: : 860it [00:27, 30.79it/s]\n",
      "Epoch 195: MAE/CA 1.905466: : 860it [00:27, 30.81it/s]\n",
      "Epoch 196: MAE/CA 1.721287: : 860it [00:27, 30.78it/s]\n",
      "Epoch 197: MAE/CA 1.936756: : 860it [00:27, 30.82it/s]\n",
      "Epoch 198: MAE/CA 1.802744: : 860it [00:27, 30.79it/s]\n",
      "Epoch 199: MAE/CA 1.759267: : 860it [00:27, 30.83it/s]\n",
      "Epoch 200: MAE/CA 1.737306: : 860it [00:27, 30.81it/s]\n",
      "Epoch 201: MAE/CA 1.865507: : 860it [00:27, 30.81it/s]\n",
      "Epoch 202: MAE/CA 1.711763: : 860it [00:27, 30.72it/s]\n",
      "Epoch 203: MAE/CA 1.804246: : 860it [00:27, 30.80it/s]\n",
      "Epoch 204: MAE/CA 1.873718: : 860it [00:27, 30.87it/s]\n",
      "Epoch 205: MAE/CA 1.778282: : 860it [00:27, 30.85it/s]\n",
      "Epoch 206: MAE/CA 1.846308: : 860it [00:27, 30.86it/s]\n",
      "Epoch 207: MAE/CA 1.855208: : 860it [00:27, 30.87it/s]\n",
      "Epoch 208: MAE/CA 1.777684: : 860it [00:27, 31.02it/s]\n"
     ]
    },
    {
     "name": "stdout",
     "output_type": "stream",
     "text": [
      "Epoch   208: reducing learning rate of group 0 to 2.9543e-05.\n"
     ]
    },
    {
     "name": "stderr",
     "output_type": "stream",
     "text": [
      "Epoch 209: MAE/CA 1.579346: : 860it [00:27, 31.00it/s]\n",
      "Epoch 210: MAE/CA 1.658547: : 860it [00:27, 31.07it/s]\n",
      "Epoch 211: MAE/CA 1.687462: : 860it [00:27, 31.02it/s]\n",
      "Epoch 212: MAE/CA 1.741216: : 860it [00:27, 31.01it/s]\n",
      "Epoch 213: MAE/CA 1.713542: : 860it [00:27, 30.98it/s]\n",
      "Epoch 214: MAE/CA 1.670090: : 860it [00:28, 30.57it/s]\n",
      "Epoch 215: MAE/CA 1.665884: : 860it [00:27, 30.79it/s]\n"
     ]
    },
    {
     "name": "stdout",
     "output_type": "stream",
     "text": [
      "Epoch   215: reducing learning rate of group 0 to 2.6589e-05.\n"
     ]
    },
    {
     "name": "stderr",
     "output_type": "stream",
     "text": [
      "Epoch 216: MAE/CA 1.542788: : 860it [00:27, 30.78it/s]\n",
      "Epoch 217: MAE/CA 1.551051: : 860it [00:27, 30.78it/s]\n",
      "Epoch 218: MAE/CA 1.645675: : 860it [00:27, 30.78it/s]\n",
      "Epoch 219: MAE/CA 1.530067: : 860it [00:27, 30.83it/s]\n",
      "Epoch 220: MAE/CA 1.601965: : 860it [00:27, 30.82it/s]\n",
      "Epoch 221: MAE/CA 1.590891: : 860it [00:27, 30.72it/s]\n",
      "Epoch 222: MAE/CA 1.514495: : 860it [00:27, 30.77it/s]\n",
      "Epoch 223: MAE/CA 1.673017: : 860it [00:28, 30.01it/s]\n",
      "Epoch 224: MAE/CA 1.538132: : 860it [00:28, 29.94it/s]\n",
      "Epoch 225: MAE/CA 1.609751: : 860it [00:28, 30.05it/s]\n",
      "Epoch 226: MAE/CA 1.590980: : 860it [00:28, 29.83it/s]\n",
      "Epoch 227: MAE/CA 1.543275: : 860it [00:28, 29.67it/s]\n",
      "Epoch 228: MAE/CA 1.541446: : 860it [00:29, 29.59it/s]\n"
     ]
    },
    {
     "name": "stdout",
     "output_type": "stream",
     "text": [
      "Epoch   228: reducing learning rate of group 0 to 2.3930e-05.\n"
     ]
    },
    {
     "name": "stderr",
     "output_type": "stream",
     "text": [
      "Epoch 229: MAE/CA 1.416910: : 860it [00:28, 29.99it/s]\n",
      "Epoch 230: MAE/CA 1.518923: : 860it [00:28, 29.83it/s]\n",
      "Epoch 231: MAE/CA 1.462509: : 860it [00:28, 30.34it/s]\n",
      "Epoch 232: MAE/CA 1.525821: : 860it [00:28, 30.60it/s]\n",
      "Epoch 233: MAE/CA 1.555631: : 860it [00:28, 30.55it/s]\n",
      "Epoch 234: MAE/CA 1.459740: : 860it [00:28, 30.42it/s]\n",
      "Epoch 235: MAE/CA 1.478632: : 860it [00:28, 30.69it/s]\n"
     ]
    },
    {
     "name": "stdout",
     "output_type": "stream",
     "text": [
      "Epoch   235: reducing learning rate of group 0 to 2.1537e-05.\n"
     ]
    },
    {
     "name": "stderr",
     "output_type": "stream",
     "text": [
      "Epoch 236: MAE/CA 1.342177: : 860it [00:27, 30.79it/s]\n",
      "Epoch 237: MAE/CA 1.363231: : 860it [00:27, 30.82it/s]\n",
      "Epoch 238: MAE/CA 1.503902: : 860it [00:27, 30.75it/s]\n",
      "Epoch 239: MAE/CA 1.411009: : 860it [00:27, 30.80it/s]\n",
      "Epoch 240: MAE/CA 1.393220: : 860it [00:27, 30.83it/s]\n",
      "Epoch 241: MAE/CA 1.434005: : 860it [00:27, 30.85it/s]\n",
      "Epoch 242: MAE/CA 1.423179: : 860it [00:27, 30.87it/s]\n"
     ]
    },
    {
     "name": "stdout",
     "output_type": "stream",
     "text": [
      "Epoch   242: reducing learning rate of group 0 to 1.9383e-05.\n"
     ]
    },
    {
     "name": "stderr",
     "output_type": "stream",
     "text": [
      "Epoch 243: MAE/CA 1.284106: : 860it [00:27, 30.84it/s]\n",
      "Epoch 244: MAE/CA 1.341690: : 860it [00:27, 30.86it/s]\n",
      "Epoch 245: MAE/CA 1.333370: : 860it [00:27, 30.73it/s]\n",
      "Epoch 246: MAE/CA 1.384575: : 860it [00:27, 30.81it/s]\n",
      "Epoch 247: MAE/CA 1.289229: : 860it [00:27, 30.83it/s]\n",
      "Epoch 248: MAE/CA 1.312566: : 860it [00:27, 30.84it/s]\n",
      "Epoch 249: MAE/CA 1.327481: : 860it [00:27, 30.83it/s]\n"
     ]
    },
    {
     "name": "stdout",
     "output_type": "stream",
     "text": [
      "Epoch   249: reducing learning rate of group 0 to 1.7445e-05.\n"
     ]
    },
    {
     "name": "stderr",
     "output_type": "stream",
     "text": [
      "Epoch 250: MAE/CA 1.205275: : 860it [00:27, 30.84it/s]\n",
      "Epoch 251: MAE/CA 1.319674: : 860it [00:27, 30.84it/s]\n",
      "Epoch 252: MAE/CA 1.269977: : 860it [00:27, 30.80it/s]\n",
      "Epoch 253: MAE/CA 1.304754: : 860it [00:27, 30.80it/s]\n",
      "Epoch 254: MAE/CA 1.252812: : 860it [00:27, 30.78it/s]\n",
      "Epoch 255: MAE/CA 1.313772: : 860it [00:27, 30.80it/s]\n",
      "Epoch 256: MAE/CA 1.279806: : 860it [00:27, 30.73it/s]\n"
     ]
    },
    {
     "name": "stdout",
     "output_type": "stream",
     "text": [
      "Epoch   256: reducing learning rate of group 0 to 1.5700e-05.\n"
     ]
    },
    {
     "name": "stderr",
     "output_type": "stream",
     "text": [
      "Epoch 257: MAE/CA 1.207512: : 860it [00:27, 30.81it/s]\n",
      "Epoch 258: MAE/CA 1.220095: : 860it [00:27, 30.83it/s]\n",
      "Epoch 259: MAE/CA 1.209420: : 860it [00:27, 30.82it/s]\n",
      "Epoch 260: MAE/CA 1.226037: : 860it [00:27, 30.77it/s]\n",
      "Epoch 261: MAE/CA 1.218383: : 860it [00:27, 30.82it/s]\n",
      "Epoch 262: MAE/CA 1.247653: : 860it [00:27, 30.83it/s]\n"
     ]
    },
    {
     "name": "stdout",
     "output_type": "stream",
     "text": [
      "Epoch   262: reducing learning rate of group 0 to 1.4130e-05.\n"
     ]
    },
    {
     "name": "stderr",
     "output_type": "stream",
     "text": [
      "Epoch 263: MAE/CA 1.132641: : 860it [00:27, 30.82it/s]\n",
      "Epoch 264: MAE/CA 1.178457: : 860it [00:27, 30.81it/s]\n",
      "Epoch 265: MAE/CA 1.158216: : 860it [00:27, 30.83it/s]\n",
      "Epoch 266: MAE/CA 1.197380: : 860it [00:27, 30.72it/s]\n",
      "Epoch 267: MAE/CA 1.174898: : 860it [00:27, 30.80it/s]\n",
      "Epoch 268: MAE/CA 1.175073: : 860it [00:27, 30.82it/s]\n",
      "Epoch 269: MAE/CA 1.170354: : 860it [00:27, 30.79it/s]\n"
     ]
    },
    {
     "name": "stdout",
     "output_type": "stream",
     "text": [
      "Epoch   269: reducing learning rate of group 0 to 1.2717e-05.\n"
     ]
    },
    {
     "name": "stderr",
     "output_type": "stream",
     "text": [
      "Epoch 270: MAE/CA 1.083417: : 860it [00:27, 30.82it/s]\n",
      "Epoch 271: MAE/CA 1.175245: : 860it [00:27, 30.83it/s]\n",
      "Epoch 272: MAE/CA 1.108050: : 860it [00:27, 30.83it/s]\n",
      "Epoch 273: MAE/CA 1.133865: : 860it [00:27, 30.83it/s]\n",
      "Epoch 274: MAE/CA 1.135981: : 860it [00:27, 30.84it/s]\n",
      "Epoch 275: MAE/CA 1.133958: : 860it [00:27, 30.80it/s]\n",
      "Epoch 276: MAE/CA 1.126126: : 860it [00:27, 30.84it/s]\n"
     ]
    },
    {
     "name": "stdout",
     "output_type": "stream",
     "text": [
      "Epoch   276: reducing learning rate of group 0 to 1.1446e-05.\n"
     ]
    },
    {
     "name": "stderr",
     "output_type": "stream",
     "text": [
      "Epoch 277: MAE/CA 1.079354: : 860it [00:27, 30.85it/s]\n",
      "Epoch 278: MAE/CA 1.102778: : 860it [00:27, 30.89it/s]\n",
      "Epoch 279: MAE/CA 1.096285: : 860it [00:27, 31.04it/s]\n",
      "Epoch 280: MAE/CA 1.113499: : 860it [00:27, 31.02it/s]\n",
      "Epoch 281: MAE/CA 1.066331: : 860it [00:27, 31.01it/s]\n",
      "Epoch 282: MAE/CA 1.135500: : 860it [00:27, 31.03it/s]\n",
      "Epoch 283: MAE/CA 1.047385: : 860it [00:27, 31.03it/s]\n",
      "Epoch 284: MAE/CA 1.084227: : 860it [00:27, 31.02it/s]\n",
      "Epoch 285: MAE/CA 1.074380: : 860it [00:27, 31.00it/s]\n",
      "Epoch 286: MAE/CA 1.102443: : 860it [00:27, 30.99it/s]\n",
      "Epoch 287: MAE/CA 1.088151: : 860it [00:27, 31.03it/s]\n",
      "Epoch 288: MAE/CA 1.106595: : 860it [00:27, 30.95it/s]\n",
      "Epoch 289: MAE/CA 1.063852: : 860it [00:27, 31.02it/s]\n"
     ]
    },
    {
     "name": "stdout",
     "output_type": "stream",
     "text": [
      "Epoch   289: reducing learning rate of group 0 to 1.0301e-05.\n"
     ]
    },
    {
     "name": "stderr",
     "output_type": "stream",
     "text": [
      "Epoch 290: MAE/CA 1.038966: : 860it [00:27, 31.04it/s]\n",
      "Epoch 291: MAE/CA 1.056246: : 860it [00:27, 31.02it/s]\n",
      "Epoch 292: MAE/CA 1.032921: : 860it [00:27, 30.98it/s]\n",
      "Epoch 293: MAE/CA 1.033695: : 860it [00:27, 31.03it/s]\n",
      "Epoch 294: MAE/CA 1.082256: : 860it [00:27, 31.00it/s]\n",
      "Epoch 295: MAE/CA 1.032967: : 860it [00:27, 31.03it/s]\n",
      "Epoch 296: MAE/CA 1.023221: : 860it [00:27, 30.98it/s]\n",
      "Epoch 297: MAE/CA 1.054786: : 860it [00:27, 31.03it/s]\n",
      "Epoch 298: MAE/CA 1.062013: : 860it [00:27, 31.00it/s]\n",
      "Epoch 299: MAE/CA 1.028758: : 860it [00:27, 30.91it/s]\n",
      "Epoch 300: MAE/CA 1.050266: : 860it [00:27, 30.99it/s]\n",
      "Epoch 301: MAE/CA 1.059058: : 860it [00:27, 30.99it/s]\n",
      "Epoch 302: MAE/CA 1.014667: : 860it [00:27, 31.04it/s]\n",
      "Epoch 303: MAE/CA 1.041923: : 860it [00:27, 30.99it/s]\n",
      "Epoch 304: MAE/CA 1.033467: : 860it [00:27, 31.03it/s]\n",
      "Epoch 305: MAE/CA 1.063060: : 860it [00:27, 31.02it/s]\n",
      "Epoch 306: MAE/CA 1.024541: : 860it [00:27, 31.01it/s]\n",
      "Epoch 307: MAE/CA 1.056944: : 860it [00:27, 31.02it/s]\n",
      "Epoch 308: MAE/CA 1.019809: : 860it [00:27, 30.98it/s]\n"
     ]
    },
    {
     "name": "stdout",
     "output_type": "stream",
     "text": [
      "Epoch   308: reducing learning rate of group 0 to 9.2709e-06.\n"
     ]
    },
    {
     "name": "stderr",
     "output_type": "stream",
     "text": [
      "Epoch 309: MAE/CA 1.028297: : 860it [00:27, 30.94it/s]\n",
      "Epoch 310: MAE/CA 0.993427: : 860it [00:27, 30.98it/s]\n",
      "Epoch 311: MAE/CA 1.047801: : 860it [00:27, 31.00it/s]\n",
      "Epoch 312: MAE/CA 0.975351: : 860it [00:27, 30.98it/s]\n",
      "Epoch 313: MAE/CA 0.991483: : 860it [00:27, 31.03it/s]\n",
      "Epoch 314: MAE/CA 1.006172: : 860it [00:27, 31.03it/s]\n",
      "Epoch 315: MAE/CA 0.993211: : 860it [00:27, 31.05it/s]\n",
      "Epoch 316: MAE/CA 0.997557: : 860it [00:27, 31.03it/s]\n",
      "Epoch 317: MAE/CA 1.037190: : 860it [00:27, 31.05it/s]\n",
      "Epoch 318: MAE/CA 0.980997: : 860it [00:27, 31.03it/s]\n"
     ]
    },
    {
     "name": "stdout",
     "output_type": "stream",
     "text": [
      "Epoch   318: reducing learning rate of group 0 to 8.3439e-06.\n"
     ]
    },
    {
     "name": "stderr",
     "output_type": "stream",
     "text": [
      "Epoch 319: MAE/CA 0.992430: : 860it [00:27, 31.04it/s]\n",
      "Epoch 320: MAE/CA 0.992837: : 860it [00:27, 30.90it/s]\n",
      "Epoch 321: MAE/CA 0.948981: : 860it [00:27, 30.91it/s]\n",
      "Epoch 322: MAE/CA 0.970851: : 860it [00:27, 30.90it/s]\n",
      "Epoch 323: MAE/CA 0.973162: : 860it [00:27, 30.88it/s]\n",
      "Epoch 324: MAE/CA 0.983079: : 860it [00:27, 30.88it/s]\n",
      "Epoch 325: MAE/CA 0.975829: : 860it [00:27, 30.80it/s]\n",
      "Epoch 326: MAE/CA 0.969061: : 860it [00:27, 30.89it/s]\n",
      "Epoch 327: MAE/CA 0.992461: : 860it [00:27, 30.84it/s]\n"
     ]
    },
    {
     "name": "stdout",
     "output_type": "stream",
     "text": [
      "Epoch   327: reducing learning rate of group 0 to 7.5095e-06.\n"
     ]
    },
    {
     "name": "stderr",
     "output_type": "stream",
     "text": [
      "Epoch 328: MAE/CA 0.916652: : 860it [00:27, 30.83it/s]\n",
      "Epoch 329: MAE/CA 0.977469: : 860it [00:27, 30.90it/s]\n",
      "Epoch 330: MAE/CA 0.971430: : 860it [00:27, 30.91it/s]\n",
      "Epoch 331: MAE/CA 0.952847: : 860it [00:27, 30.80it/s]\n",
      "Epoch 332: MAE/CA 0.968906: : 860it [00:28, 30.33it/s]\n",
      "Epoch 333: MAE/CA 0.958538: : 860it [00:28, 30.61it/s]\n",
      "Epoch 334: MAE/CA 0.952742: : 860it [00:27, 30.77it/s]\n"
     ]
    },
    {
     "name": "stdout",
     "output_type": "stream",
     "text": [
      "Epoch   334: reducing learning rate of group 0 to 6.7585e-06.\n"
     ]
    },
    {
     "name": "stderr",
     "output_type": "stream",
     "text": [
      "Epoch 335: MAE/CA 0.923365: : 860it [00:27, 30.73it/s]\n",
      "Epoch 336: MAE/CA 0.923684: : 860it [00:28, 30.69it/s]\n",
      "Epoch 337: MAE/CA 0.958957: : 860it [00:27, 30.74it/s]\n",
      "Epoch 338: MAE/CA 0.941777: : 860it [00:27, 30.76it/s]\n",
      "Epoch 339: MAE/CA 0.927995: : 860it [00:28, 30.71it/s]\n",
      "Epoch 340: MAE/CA 0.932017: : 860it [00:27, 30.73it/s]\n"
     ]
    },
    {
     "name": "stdout",
     "output_type": "stream",
     "text": [
      "Epoch   340: reducing learning rate of group 0 to 6.0827e-06.\n"
     ]
    },
    {
     "name": "stderr",
     "output_type": "stream",
     "text": [
      "Epoch 341: MAE/CA 0.895566: : 860it [00:28, 30.61it/s]\n",
      "Epoch 342: MAE/CA 0.912486: : 860it [00:28, 30.64it/s]\n",
      "Epoch 343: MAE/CA 0.902576: : 860it [00:28, 30.68it/s]\n",
      "Epoch 344: MAE/CA 0.916005: : 860it [00:28, 30.67it/s]\n",
      "Epoch 345: MAE/CA 0.912399: : 860it [00:28, 30.71it/s]\n",
      "Epoch 346: MAE/CA 0.944347: : 860it [00:27, 30.76it/s]\n",
      "Epoch 347: MAE/CA 0.897673: : 860it [00:28, 30.68it/s]\n"
     ]
    },
    {
     "name": "stdout",
     "output_type": "stream",
     "text": [
      "Epoch   347: reducing learning rate of group 0 to 5.4744e-06.\n"
     ]
    },
    {
     "name": "stderr",
     "output_type": "stream",
     "text": [
      "Epoch 348: MAE/CA 0.905698: : 860it [00:27, 30.73it/s]\n",
      "Epoch 349: MAE/CA 0.886492: : 860it [00:27, 30.73it/s]\n",
      "Epoch 350: MAE/CA 0.902005: : 860it [00:27, 30.78it/s]\n",
      "Epoch 351: MAE/CA 0.912858: : 860it [00:27, 30.85it/s]\n",
      "Epoch 352: MAE/CA 0.890334: : 860it [00:27, 30.79it/s]\n",
      "Epoch 353: MAE/CA 0.896347: : 860it [00:27, 30.76it/s]\n",
      "Epoch 354: MAE/CA 0.900752: : 860it [00:27, 30.85it/s]\n",
      "Epoch 355: MAE/CA 0.890503: : 860it [00:27, 30.79it/s]\n"
     ]
    },
    {
     "name": "stdout",
     "output_type": "stream",
     "text": [
      "Epoch   355: reducing learning rate of group 0 to 4.9270e-06.\n"
     ]
    },
    {
     "name": "stderr",
     "output_type": "stream",
     "text": [
      "Epoch 356: MAE/CA 0.886723: : 860it [00:27, 30.82it/s]\n",
      "Epoch 357: MAE/CA 0.869890: : 860it [00:27, 30.78it/s]\n",
      "Epoch 358: MAE/CA 0.868438: : 860it [00:27, 30.73it/s]\n",
      "Epoch 359: MAE/CA 0.878854: : 860it [00:27, 30.78it/s]\n",
      "Epoch 360: MAE/CA 0.877438: : 860it [00:27, 30.75it/s]\n",
      "Epoch 361: MAE/CA 0.877812: : 860it [00:27, 30.76it/s]\n",
      "Epoch 362: MAE/CA 0.892169: : 860it [00:27, 30.79it/s]\n",
      "Epoch 363: MAE/CA 0.884587: : 860it [00:28, 30.70it/s]\n",
      "Epoch 364: MAE/CA 0.878087: : 860it [00:27, 30.81it/s]\n"
     ]
    },
    {
     "name": "stdout",
     "output_type": "stream",
     "text": [
      "Epoch   364: reducing learning rate of group 0 to 4.4343e-06.\n"
     ]
    },
    {
     "name": "stderr",
     "output_type": "stream",
     "text": [
      "Epoch 365: MAE/CA 0.861754: : 860it [00:27, 31.00it/s]\n",
      "Epoch 366: MAE/CA 0.874187: : 860it [00:27, 30.99it/s]\n",
      "Epoch 367: MAE/CA 0.874949: : 860it [00:27, 30.96it/s]\n",
      "Epoch 368: MAE/CA 0.852673: : 860it [00:27, 30.98it/s]\n",
      "Epoch 369: MAE/CA 0.856148: : 860it [00:27, 30.95it/s]\n",
      "Epoch 370: MAE/CA 0.868623: : 860it [00:27, 30.94it/s]\n",
      "Epoch 371: MAE/CA 0.881954: : 860it [00:27, 30.93it/s]\n",
      "Epoch 372: MAE/CA 0.864186: : 860it [00:27, 30.89it/s]\n",
      "Epoch 373: MAE/CA 0.873360: : 860it [00:27, 30.90it/s]\n",
      "Epoch 374: MAE/CA 0.845611: : 860it [00:27, 30.81it/s]\n",
      "Epoch 375: MAE/CA 0.861594: : 860it [00:27, 30.92it/s]\n",
      "Epoch 376: MAE/CA 0.851768: : 860it [00:27, 30.91it/s]\n",
      "Epoch 377: MAE/CA 0.853882: : 860it [00:27, 30.96it/s]\n",
      "Epoch 378: MAE/CA 0.860852: : 860it [00:27, 30.98it/s]\n",
      "Epoch 379: MAE/CA 0.867234: : 860it [00:27, 30.88it/s]\n",
      "Epoch 380: MAE/CA 0.858817: : 860it [00:27, 30.95it/s]\n"
     ]
    },
    {
     "name": "stdout",
     "output_type": "stream",
     "text": [
      "Epoch   380: reducing learning rate of group 0 to 3.9908e-06.\n"
     ]
    },
    {
     "name": "stderr",
     "output_type": "stream",
     "text": [
      "Epoch 381: MAE/CA 0.834850: : 860it [00:27, 30.92it/s]\n",
      "Epoch 382: MAE/CA 0.850000: : 860it [00:27, 30.98it/s]\n",
      "Epoch 383: MAE/CA 0.845260: : 860it [00:27, 30.95it/s]\n",
      "Epoch 384: MAE/CA 0.860371: : 860it [00:27, 30.97it/s]\n",
      "Epoch 385: MAE/CA 0.859025: : 860it [00:27, 30.91it/s]\n",
      "Epoch 386: MAE/CA 0.834171: : 860it [00:27, 31.03it/s]\n",
      "Epoch 387: MAE/CA 0.853133: : 860it [00:27, 30.99it/s]\n",
      "Epoch 388: MAE/CA 0.845401: : 860it [00:27, 31.01it/s]\n",
      "Epoch 389: MAE/CA 0.864339: : 860it [00:27, 31.00it/s]\n",
      "Epoch 390: MAE/CA 0.858746: : 860it [00:27, 31.00it/s]\n",
      "Epoch 391: MAE/CA 0.851569: : 860it [00:27, 31.00it/s]\n",
      "Epoch 392: MAE/CA 0.828921: : 860it [00:27, 30.96it/s]\n",
      "Epoch 393: MAE/CA 0.841346: : 860it [00:27, 30.97it/s]\n",
      "Epoch 394: MAE/CA 0.845798: : 860it [00:27, 31.02it/s]\n",
      "Epoch 395: MAE/CA 0.842973: : 860it [00:27, 31.03it/s]\n",
      "Epoch 396: MAE/CA 0.840773: : 860it [00:27, 30.86it/s]\n",
      "Epoch 397: MAE/CA 0.851997: : 860it [00:27, 30.96it/s]\n",
      "Epoch 398: MAE/CA 0.837190: : 860it [00:27, 30.90it/s]\n"
     ]
    },
    {
     "name": "stdout",
     "output_type": "stream",
     "text": [
      "Epoch   398: reducing learning rate of group 0 to 3.5918e-06.\n"
     ]
    },
    {
     "name": "stderr",
     "output_type": "stream",
     "text": [
      "Epoch 399: MAE/CA 0.829943: : 860it [00:27, 30.92it/s]\n",
      "Epoch 400: MAE/CA 0.837114: : 860it [00:27, 30.96it/s]\n",
      "Epoch 401: MAE/CA 0.843861: : 860it [00:27, 30.95it/s]\n",
      "Epoch 402: MAE/CA 0.823596: : 860it [00:27, 30.90it/s]\n",
      "Epoch 403: MAE/CA 0.827942: : 860it [00:27, 30.95it/s]\n",
      "Epoch 404: MAE/CA 0.818036: : 860it [00:27, 30.97it/s]\n",
      "Epoch 405: MAE/CA 0.837053: : 860it [00:27, 31.00it/s]\n",
      "Epoch 406: MAE/CA 0.838951: : 860it [00:27, 30.87it/s]\n",
      "Epoch 407: MAE/CA 0.823812: : 860it [00:27, 30.94it/s]\n",
      "Epoch 408: MAE/CA 0.836051: : 860it [00:27, 30.88it/s]\n",
      "Epoch 409: MAE/CA 0.832131: : 860it [00:27, 30.92it/s]\n",
      "Epoch 410: MAE/CA 0.821374: : 860it [00:27, 30.91it/s]\n"
     ]
    },
    {
     "name": "stdout",
     "output_type": "stream",
     "text": [
      "Epoch   410: reducing learning rate of group 0 to 3.2326e-06.\n"
     ]
    },
    {
     "name": "stderr",
     "output_type": "stream",
     "text": [
      "Epoch 411: MAE/CA 0.827771: : 860it [00:27, 30.83it/s]\n",
      "Epoch 412: MAE/CA 0.817053: : 860it [00:27, 30.90it/s]\n",
      "Epoch 413: MAE/CA 0.820800: : 860it [00:27, 30.92it/s]\n",
      "Epoch 414: MAE/CA 0.824276: : 860it [00:27, 30.92it/s]\n",
      "Epoch 415: MAE/CA 0.813989: : 860it [00:27, 30.90it/s]\n",
      "Epoch 416: MAE/CA 0.817281: : 860it [00:27, 30.90it/s]\n",
      "Epoch 417: MAE/CA 0.813134: : 860it [00:27, 30.81it/s]\n",
      "Epoch 418: MAE/CA 0.825591: : 860it [00:27, 30.97it/s]\n",
      "Epoch 419: MAE/CA 0.818369: : 860it [00:27, 30.94it/s]\n",
      "Epoch 420: MAE/CA 0.811719: : 860it [00:27, 30.94it/s]\n",
      "Epoch 421: MAE/CA 0.812368: : 860it [00:27, 30.95it/s]\n",
      "Epoch 422: MAE/CA 0.815358: : 860it [00:27, 30.94it/s]\n",
      "Epoch 423: MAE/CA 0.805148: : 860it [00:27, 30.92it/s]\n",
      "Epoch 424: MAE/CA 0.821426: : 860it [00:27, 30.98it/s]\n",
      "Epoch 425: MAE/CA 0.817744: : 860it [00:27, 30.99it/s]\n",
      "Epoch 426: MAE/CA 0.817806: : 860it [00:27, 31.03it/s]\n",
      "Epoch 427: MAE/CA 0.805263: : 860it [00:27, 30.96it/s]\n",
      "Epoch 428: MAE/CA 0.820902: : 860it [00:27, 30.72it/s]\n",
      "Epoch 429: MAE/CA 0.804931: : 860it [00:27, 30.93it/s]\n",
      "Epoch 430: MAE/CA 0.827054: : 860it [00:27, 30.89it/s]\n",
      "Epoch 431: MAE/CA 0.801931: : 860it [00:27, 30.97it/s]\n",
      "Epoch 432: MAE/CA 0.814278: : 860it [00:27, 30.96it/s]\n",
      "Epoch 433: MAE/CA 0.820747: : 860it [00:27, 30.96it/s]\n",
      "Epoch 434: MAE/CA 0.815330: : 860it [00:27, 30.89it/s]\n",
      "Epoch 435: MAE/CA 0.818037: : 860it [00:27, 30.95it/s]\n",
      "Epoch 436: MAE/CA 0.822738: : 860it [00:27, 30.94it/s]\n",
      "Epoch 437: MAE/CA 0.810145: : 860it [00:27, 30.92it/s]\n"
     ]
    },
    {
     "name": "stdout",
     "output_type": "stream",
     "text": [
      "Epoch   437: reducing learning rate of group 0 to 2.9093e-06.\n"
     ]
    },
    {
     "name": "stderr",
     "output_type": "stream",
     "text": [
      "Epoch 438: MAE/CA 0.805264: : 860it [00:27, 30.94it/s]\n",
      "Epoch 439: MAE/CA 0.802629: : 860it [00:27, 30.81it/s]\n",
      "Epoch 440: MAE/CA 0.816918: : 860it [00:27, 30.98it/s]\n",
      "Epoch 441: MAE/CA 0.800797: : 860it [00:27, 30.92it/s]\n",
      "Epoch 442: MAE/CA 0.804846: : 860it [00:27, 30.90it/s]\n",
      "Epoch 443: MAE/CA 0.802779: : 860it [00:27, 30.96it/s]\n",
      "Epoch 444: MAE/CA 0.802607: : 860it [00:27, 30.97it/s]\n",
      "Epoch 445: MAE/CA 0.803658: : 860it [00:27, 30.94it/s]\n",
      "Epoch 446: MAE/CA 0.794873: : 860it [00:27, 30.98it/s]\n",
      "Epoch 447: MAE/CA 0.802534: : 860it [00:27, 30.96it/s]\n",
      "Epoch 448: MAE/CA 0.798497: : 860it [00:27, 30.96it/s]\n",
      "Epoch 449: MAE/CA 0.801148: : 860it [00:27, 30.89it/s]\n",
      "Epoch 450: MAE/CA 0.817138: : 860it [00:27, 30.75it/s]\n",
      "Epoch 451: MAE/CA 0.799270: : 860it [00:27, 30.89it/s]\n",
      "Epoch 452: MAE/CA 0.796784: : 860it [00:27, 30.91it/s]\n"
     ]
    },
    {
     "name": "stdout",
     "output_type": "stream",
     "text": [
      "Epoch   452: reducing learning rate of group 0 to 2.6184e-06.\n"
     ]
    },
    {
     "name": "stderr",
     "output_type": "stream",
     "text": [
      "Epoch 453: MAE/CA 0.790281: : 860it [00:27, 30.87it/s]\n",
      "Epoch 454: MAE/CA 0.796308: : 860it [00:27, 30.83it/s]\n",
      "Epoch 455: MAE/CA 0.786317: : 860it [00:27, 30.90it/s]\n",
      "Epoch 456: MAE/CA 0.804286: : 860it [00:27, 30.85it/s]\n",
      "Epoch 457: MAE/CA 0.792243: : 860it [00:27, 30.90it/s]\n",
      "Epoch 458: MAE/CA 0.789466: : 860it [00:27, 30.93it/s]\n",
      "Epoch 459: MAE/CA 0.805007: : 860it [00:27, 30.96it/s]\n",
      "Epoch 460: MAE/CA 0.785808: : 860it [00:27, 30.82it/s]\n",
      "Epoch 461: MAE/CA 0.807720: : 860it [00:27, 30.94it/s]\n",
      "Epoch 462: MAE/CA 0.799017: : 860it [00:27, 30.93it/s]\n",
      "Epoch 463: MAE/CA 0.781866: : 860it [00:27, 30.99it/s]\n",
      "Epoch 464: MAE/CA 0.790512: : 860it [00:27, 30.95it/s]\n",
      "Epoch 465: MAE/CA 0.786587: : 860it [00:27, 30.98it/s]\n",
      "Epoch 466: MAE/CA 0.793216: : 860it [00:27, 30.96it/s]\n",
      "Epoch 467: MAE/CA 0.791177: : 860it [00:27, 30.95it/s]\n",
      "Epoch 468: MAE/CA 0.789429: : 860it [00:27, 30.97it/s]\n",
      "Epoch 469: MAE/CA 0.804563: : 860it [00:27, 30.93it/s]\n"
     ]
    },
    {
     "name": "stdout",
     "output_type": "stream",
     "text": [
      "Epoch   469: reducing learning rate of group 0 to 2.3566e-06.\n"
     ]
    },
    {
     "name": "stderr",
     "output_type": "stream",
     "text": [
      "Epoch 470: MAE/CA 0.779840: : 860it [00:27, 30.84it/s]\n",
      "Epoch 471: MAE/CA 0.788986: : 860it [00:27, 30.84it/s]\n",
      "Epoch 472: MAE/CA 0.776761: : 860it [00:27, 30.95it/s]\n",
      "Epoch 473: MAE/CA 0.783301: : 860it [00:27, 30.91it/s]\n",
      "Epoch 474: MAE/CA 0.780624: : 860it [00:27, 30.90it/s]\n",
      "Epoch 475: MAE/CA 0.798016: : 860it [00:27, 30.88it/s]\n",
      "Epoch 476: MAE/CA 0.775961: : 860it [00:27, 30.88it/s]\n",
      "Epoch 477: MAE/CA 0.781494: : 860it [00:27, 30.88it/s]\n",
      "Epoch 478: MAE/CA 0.781905: : 860it [00:27, 30.84it/s]\n",
      "Epoch 479: MAE/CA 0.780578: : 860it [00:27, 30.86it/s]\n",
      "Epoch 480: MAE/CA 0.793907: : 860it [00:27, 30.88it/s]\n",
      "Epoch 481: MAE/CA 0.780885: : 860it [00:27, 30.87it/s]\n",
      "Epoch 482: MAE/CA 0.780312: : 860it [00:27, 30.76it/s]\n"
     ]
    },
    {
     "name": "stdout",
     "output_type": "stream",
     "text": [
      "Epoch   482: reducing learning rate of group 0 to 2.1209e-06.\n"
     ]
    },
    {
     "name": "stderr",
     "output_type": "stream",
     "text": [
      "Epoch 483: MAE/CA 0.773227: : 860it [00:27, 30.89it/s]\n",
      "Epoch 484: MAE/CA 0.779972: : 860it [00:27, 30.89it/s]\n",
      "Epoch 485: MAE/CA 0.775912: : 860it [00:27, 30.85it/s]\n",
      "Epoch 486: MAE/CA 0.776237: : 860it [00:27, 30.87it/s]\n",
      "Epoch 487: MAE/CA 0.777692: : 860it [00:27, 30.84it/s]\n",
      "Epoch 488: MAE/CA 0.777739: : 860it [00:27, 30.84it/s]\n",
      "Epoch 489: MAE/CA 0.770161: : 860it [00:27, 30.90it/s]\n",
      "Epoch 490: MAE/CA 0.775555: : 860it [00:27, 30.91it/s]\n",
      "Epoch 491: MAE/CA 0.782909: : 860it [00:27, 30.94it/s]\n",
      "Epoch 492: MAE/CA 0.769679: : 860it [00:27, 30.91it/s]\n",
      "Epoch 493: MAE/CA 0.775734: : 860it [00:27, 30.80it/s]\n",
      "Epoch 494: MAE/CA 0.767861: : 860it [00:27, 30.93it/s]\n",
      "Epoch 495: MAE/CA 0.775344: : 860it [00:27, 30.99it/s]\n",
      "Epoch 496: MAE/CA 0.777450: : 860it [00:27, 31.02it/s]\n",
      "Epoch 497: MAE/CA 0.770358: : 860it [00:27, 31.00it/s]\n",
      "Epoch 498: MAE/CA 0.776051: : 860it [00:27, 30.97it/s]\n",
      "Epoch 499: MAE/CA 0.771631: : 860it [00:27, 30.93it/s]\n",
      "Epoch 500: MAE/CA 0.772480: : 860it [00:27, 30.94it/s]\n"
     ]
    },
    {
     "name": "stdout",
     "output_type": "stream",
     "text": [
      "Epoch   500: reducing learning rate of group 0 to 1.9088e-06.\n"
     ]
    },
    {
     "name": "stderr",
     "output_type": "stream",
     "text": [
      "Epoch 501: MAE/CA 0.768120: : 860it [00:27, 30.96it/s]\n",
      "Epoch 502: MAE/CA 0.763784: : 860it [00:27, 30.96it/s]\n",
      "Epoch 503: MAE/CA 0.768837: : 860it [00:27, 30.85it/s]\n",
      "Epoch 504: MAE/CA 0.763769: : 860it [00:27, 30.94it/s]\n",
      "Epoch 505: MAE/CA 0.772736: : 860it [00:27, 30.93it/s]\n",
      "Epoch 506: MAE/CA 0.770236: : 860it [00:27, 31.03it/s]\n",
      "Epoch 507: MAE/CA 0.769637: : 488it [00:15, 30.85it/s]\n"
     ]
    },
    {
     "ename": "Exception",
     "evalue": "The wandb backend process has shutdown",
     "output_type": "error",
     "traceback": [
      "\u001b[1;31m---------------------------------------------------------------------------\u001b[0m",
      "\u001b[1;31mException\u001b[0m                                 Traceback (most recent call last)",
      "\u001b[1;32m~\\AppData\\Local\\Temp/ipykernel_10168/2191905407.py\u001b[0m in \u001b[0;36m<module>\u001b[1;34m\u001b[0m\n\u001b[0;32m     18\u001b[0m             \u001b[0moutput\u001b[0m\u001b[1;33m.\u001b[0m\u001b[0mbackward\u001b[0m\u001b[1;33m(\u001b[0m\u001b[1;33m)\u001b[0m\u001b[1;33m\u001b[0m\u001b[1;33m\u001b[0m\u001b[0m\n\u001b[0;32m     19\u001b[0m             \u001b[0moptimizer\u001b[0m\u001b[1;33m.\u001b[0m\u001b[0mstep\u001b[0m\u001b[1;33m(\u001b[0m\u001b[1;33m)\u001b[0m\u001b[1;33m\u001b[0m\u001b[1;33m\u001b[0m\u001b[0m\n\u001b[1;32m---> 20\u001b[1;33m             \u001b[0mwandb\u001b[0m\u001b[1;33m.\u001b[0m\u001b[0mlog\u001b[0m\u001b[1;33m(\u001b[0m\u001b[1;33m{\u001b[0m\u001b[1;34m'MSE'\u001b[0m\u001b[1;33m:\u001b[0m \u001b[0moutput\u001b[0m\u001b[1;33m.\u001b[0m\u001b[0mitem\u001b[0m\u001b[1;33m(\u001b[0m\u001b[1;33m)\u001b[0m\u001b[1;33m}\u001b[0m\u001b[1;33m)\u001b[0m\u001b[1;33m\u001b[0m\u001b[1;33m\u001b[0m\u001b[0m\n\u001b[0m\u001b[0;32m     21\u001b[0m         wandb.log({'MAE':epoch_loss, \n\u001b[0;32m     22\u001b[0m                    'MAE/CA':epoch_loss/chemical_accuracy[target_idx]})\n",
      "\u001b[1;32mc:\\users\\chris\\appdata\\local\\pypoetry\\cache\\virtualenvs\\graph-transformer-tx-dblaw-py3.8\\lib\\site-packages\\wandb\\sdk\\wandb_run.py\u001b[0m in \u001b[0;36mlog\u001b[1;34m(self, data, step, commit, sync)\u001b[0m\n\u001b[0;32m   1179\u001b[0m             \u001b[0mcommit\u001b[0m \u001b[1;33m=\u001b[0m \u001b[1;32mTrue\u001b[0m\u001b[1;33m\u001b[0m\u001b[1;33m\u001b[0m\u001b[0m\n\u001b[0;32m   1180\u001b[0m         \u001b[1;32mif\u001b[0m \u001b[0mcommit\u001b[0m\u001b[1;33m:\u001b[0m\u001b[1;33m\u001b[0m\u001b[1;33m\u001b[0m\u001b[0m\n\u001b[1;32m-> 1181\u001b[1;33m             \u001b[0mself\u001b[0m\u001b[1;33m.\u001b[0m\u001b[0mhistory\u001b[0m\u001b[1;33m.\u001b[0m\u001b[0m_row_add\u001b[0m\u001b[1;33m(\u001b[0m\u001b[0mdata\u001b[0m\u001b[1;33m)\u001b[0m\u001b[1;33m\u001b[0m\u001b[1;33m\u001b[0m\u001b[0m\n\u001b[0m\u001b[0;32m   1182\u001b[0m         \u001b[1;32melse\u001b[0m\u001b[1;33m:\u001b[0m\u001b[1;33m\u001b[0m\u001b[1;33m\u001b[0m\u001b[0m\n\u001b[0;32m   1183\u001b[0m             \u001b[0mself\u001b[0m\u001b[1;33m.\u001b[0m\u001b[0mhistory\u001b[0m\u001b[1;33m.\u001b[0m\u001b[0m_row_update\u001b[0m\u001b[1;33m(\u001b[0m\u001b[0mdata\u001b[0m\u001b[1;33m)\u001b[0m\u001b[1;33m\u001b[0m\u001b[1;33m\u001b[0m\u001b[0m\n",
      "\u001b[1;32mc:\\users\\chris\\appdata\\local\\pypoetry\\cache\\virtualenvs\\graph-transformer-tx-dblaw-py3.8\\lib\\site-packages\\wandb\\sdk\\wandb_history.py\u001b[0m in \u001b[0;36m_row_add\u001b[1;34m(self, row)\u001b[0m\n\u001b[0;32m     42\u001b[0m     \u001b[1;32mdef\u001b[0m \u001b[0m_row_add\u001b[0m\u001b[1;33m(\u001b[0m\u001b[0mself\u001b[0m\u001b[1;33m,\u001b[0m \u001b[0mrow\u001b[0m\u001b[1;33m)\u001b[0m\u001b[1;33m:\u001b[0m\u001b[1;33m\u001b[0m\u001b[1;33m\u001b[0m\u001b[0m\n\u001b[0;32m     43\u001b[0m         \u001b[0mself\u001b[0m\u001b[1;33m.\u001b[0m\u001b[0m_data\u001b[0m\u001b[1;33m.\u001b[0m\u001b[0mupdate\u001b[0m\u001b[1;33m(\u001b[0m\u001b[0mrow\u001b[0m\u001b[1;33m)\u001b[0m\u001b[1;33m\u001b[0m\u001b[1;33m\u001b[0m\u001b[0m\n\u001b[1;32m---> 44\u001b[1;33m         \u001b[0mself\u001b[0m\u001b[1;33m.\u001b[0m\u001b[0m_flush\u001b[0m\u001b[1;33m(\u001b[0m\u001b[1;33m)\u001b[0m\u001b[1;33m\u001b[0m\u001b[1;33m\u001b[0m\u001b[0m\n\u001b[0m\u001b[0;32m     45\u001b[0m         \u001b[0mself\u001b[0m\u001b[1;33m.\u001b[0m\u001b[0m_step\u001b[0m \u001b[1;33m+=\u001b[0m \u001b[1;36m1\u001b[0m\u001b[1;33m\u001b[0m\u001b[1;33m\u001b[0m\u001b[0m\n\u001b[0;32m     46\u001b[0m \u001b[1;33m\u001b[0m\u001b[0m\n",
      "\u001b[1;32mc:\\users\\chris\\appdata\\local\\pypoetry\\cache\\virtualenvs\\graph-transformer-tx-dblaw-py3.8\\lib\\site-packages\\wandb\\sdk\\wandb_history.py\u001b[0m in \u001b[0;36m_flush\u001b[1;34m(self)\u001b[0m\n\u001b[0;32m     57\u001b[0m             \u001b[0mself\u001b[0m\u001b[1;33m.\u001b[0m\u001b[0m_data\u001b[0m\u001b[1;33m[\u001b[0m\u001b[1;34m\"_timestamp\"\u001b[0m\u001b[1;33m]\u001b[0m \u001b[1;33m=\u001b[0m \u001b[0mint\u001b[0m\u001b[1;33m(\u001b[0m\u001b[0mself\u001b[0m\u001b[1;33m.\u001b[0m\u001b[0m_data\u001b[0m\u001b[1;33m.\u001b[0m\u001b[0mget\u001b[0m\u001b[1;33m(\u001b[0m\u001b[1;34m\"_timestamp\"\u001b[0m\u001b[1;33m,\u001b[0m \u001b[0mtime\u001b[0m\u001b[1;33m.\u001b[0m\u001b[0mtime\u001b[0m\u001b[1;33m(\u001b[0m\u001b[1;33m)\u001b[0m\u001b[1;33m)\u001b[0m\u001b[1;33m)\u001b[0m\u001b[1;33m\u001b[0m\u001b[1;33m\u001b[0m\u001b[0m\n\u001b[0;32m     58\u001b[0m             \u001b[1;32mif\u001b[0m \u001b[0mself\u001b[0m\u001b[1;33m.\u001b[0m\u001b[0m_callback\u001b[0m\u001b[1;33m:\u001b[0m\u001b[1;33m\u001b[0m\u001b[1;33m\u001b[0m\u001b[0m\n\u001b[1;32m---> 59\u001b[1;33m                 \u001b[0mself\u001b[0m\u001b[1;33m.\u001b[0m\u001b[0m_callback\u001b[0m\u001b[1;33m(\u001b[0m\u001b[0mrow\u001b[0m\u001b[1;33m=\u001b[0m\u001b[0mself\u001b[0m\u001b[1;33m.\u001b[0m\u001b[0m_data\u001b[0m\u001b[1;33m,\u001b[0m \u001b[0mstep\u001b[0m\u001b[1;33m=\u001b[0m\u001b[0mself\u001b[0m\u001b[1;33m.\u001b[0m\u001b[0m_step\u001b[0m\u001b[1;33m)\u001b[0m\u001b[1;33m\u001b[0m\u001b[1;33m\u001b[0m\u001b[0m\n\u001b[0m\u001b[0;32m     60\u001b[0m             \u001b[0mself\u001b[0m\u001b[1;33m.\u001b[0m\u001b[0m_data\u001b[0m \u001b[1;33m=\u001b[0m \u001b[0mdict\u001b[0m\u001b[1;33m(\u001b[0m\u001b[1;33m)\u001b[0m\u001b[1;33m\u001b[0m\u001b[1;33m\u001b[0m\u001b[0m\n\u001b[0;32m     61\u001b[0m \u001b[1;33m\u001b[0m\u001b[0m\n",
      "\u001b[1;32mc:\\users\\chris\\appdata\\local\\pypoetry\\cache\\virtualenvs\\graph-transformer-tx-dblaw-py3.8\\lib\\site-packages\\wandb\\sdk\\wandb_run.py\u001b[0m in \u001b[0;36m_history_callback\u001b[1;34m(self, row, step)\u001b[0m\n\u001b[0;32m    929\u001b[0m         \u001b[1;32mif\u001b[0m \u001b[0mself\u001b[0m\u001b[1;33m.\u001b[0m\u001b[0m_backend\u001b[0m\u001b[1;33m:\u001b[0m\u001b[1;33m\u001b[0m\u001b[1;33m\u001b[0m\u001b[0m\n\u001b[0;32m    930\u001b[0m             \u001b[0mnot_using_tensorboard\u001b[0m \u001b[1;33m=\u001b[0m \u001b[0mlen\u001b[0m\u001b[1;33m(\u001b[0m\u001b[0mwandb\u001b[0m\u001b[1;33m.\u001b[0m\u001b[0mpatched\u001b[0m\u001b[1;33m[\u001b[0m\u001b[1;34m\"tensorboard\"\u001b[0m\u001b[1;33m]\u001b[0m\u001b[1;33m)\u001b[0m \u001b[1;33m==\u001b[0m \u001b[1;36m0\u001b[0m\u001b[1;33m\u001b[0m\u001b[1;33m\u001b[0m\u001b[0m\n\u001b[1;32m--> 931\u001b[1;33m             self._backend.interface.publish_history(\n\u001b[0m\u001b[0;32m    932\u001b[0m                 \u001b[0mrow\u001b[0m\u001b[1;33m,\u001b[0m \u001b[0mstep\u001b[0m\u001b[1;33m,\u001b[0m \u001b[0mpublish_step\u001b[0m\u001b[1;33m=\u001b[0m\u001b[0mnot_using_tensorboard\u001b[0m\u001b[1;33m\u001b[0m\u001b[1;33m\u001b[0m\u001b[0m\n\u001b[0;32m    933\u001b[0m             )\n",
      "\u001b[1;32mc:\\users\\chris\\appdata\\local\\pypoetry\\cache\\virtualenvs\\graph-transformer-tx-dblaw-py3.8\\lib\\site-packages\\wandb\\sdk\\interface\\interface.py\u001b[0m in \u001b[0;36mpublish_history\u001b[1;34m(self, data, step, run, publish_step)\u001b[0m\n\u001b[0;32m    230\u001b[0m             \u001b[0mitem\u001b[0m\u001b[1;33m.\u001b[0m\u001b[0mkey\u001b[0m \u001b[1;33m=\u001b[0m \u001b[0mk\u001b[0m\u001b[1;33m\u001b[0m\u001b[1;33m\u001b[0m\u001b[0m\n\u001b[0;32m    231\u001b[0m             \u001b[0mitem\u001b[0m\u001b[1;33m.\u001b[0m\u001b[0mvalue_json\u001b[0m \u001b[1;33m=\u001b[0m \u001b[0mjson_dumps_safer_history\u001b[0m\u001b[1;33m(\u001b[0m\u001b[0mv\u001b[0m\u001b[1;33m)\u001b[0m  \u001b[1;31m# type: ignore\u001b[0m\u001b[1;33m\u001b[0m\u001b[1;33m\u001b[0m\u001b[0m\n\u001b[1;32m--> 232\u001b[1;33m         \u001b[0mself\u001b[0m\u001b[1;33m.\u001b[0m\u001b[0m_publish_history\u001b[0m\u001b[1;33m(\u001b[0m\u001b[0mhistory\u001b[0m\u001b[1;33m)\u001b[0m\u001b[1;33m\u001b[0m\u001b[1;33m\u001b[0m\u001b[0m\n\u001b[0m\u001b[0;32m    233\u001b[0m \u001b[1;33m\u001b[0m\u001b[0m\n\u001b[0;32m    234\u001b[0m     \u001b[1;32mdef\u001b[0m \u001b[0mpublish_telemetry\u001b[0m\u001b[1;33m(\u001b[0m\u001b[0mself\u001b[0m\u001b[1;33m,\u001b[0m \u001b[0mtelem\u001b[0m\u001b[1;33m:\u001b[0m \u001b[0mtpb\u001b[0m\u001b[1;33m.\u001b[0m\u001b[0mTelemetryRecord\u001b[0m\u001b[1;33m)\u001b[0m \u001b[1;33m->\u001b[0m \u001b[1;32mNone\u001b[0m\u001b[1;33m:\u001b[0m\u001b[1;33m\u001b[0m\u001b[1;33m\u001b[0m\u001b[0m\n",
      "\u001b[1;32mc:\\users\\chris\\appdata\\local\\pypoetry\\cache\\virtualenvs\\graph-transformer-tx-dblaw-py3.8\\lib\\site-packages\\wandb\\sdk\\interface\\interface.py\u001b[0m in \u001b[0;36m_publish_history\u001b[1;34m(self, history)\u001b[0m\n\u001b[0;32m    209\u001b[0m     \u001b[1;32mdef\u001b[0m \u001b[0m_publish_history\u001b[0m\u001b[1;33m(\u001b[0m\u001b[0mself\u001b[0m\u001b[1;33m,\u001b[0m \u001b[0mhistory\u001b[0m\u001b[1;33m:\u001b[0m \u001b[0mpb\u001b[0m\u001b[1;33m.\u001b[0m\u001b[0mHistoryRecord\u001b[0m\u001b[1;33m)\u001b[0m \u001b[1;33m->\u001b[0m \u001b[1;32mNone\u001b[0m\u001b[1;33m:\u001b[0m\u001b[1;33m\u001b[0m\u001b[1;33m\u001b[0m\u001b[0m\n\u001b[0;32m    210\u001b[0m         \u001b[0mrec\u001b[0m \u001b[1;33m=\u001b[0m \u001b[0mself\u001b[0m\u001b[1;33m.\u001b[0m\u001b[0m_make_record\u001b[0m\u001b[1;33m(\u001b[0m\u001b[0mhistory\u001b[0m\u001b[1;33m=\u001b[0m\u001b[0mhistory\u001b[0m\u001b[1;33m)\u001b[0m\u001b[1;33m\u001b[0m\u001b[1;33m\u001b[0m\u001b[0m\n\u001b[1;32m--> 211\u001b[1;33m         \u001b[0mself\u001b[0m\u001b[1;33m.\u001b[0m\u001b[0m_publish\u001b[0m\u001b[1;33m(\u001b[0m\u001b[0mrec\u001b[0m\u001b[1;33m)\u001b[0m\u001b[1;33m\u001b[0m\u001b[1;33m\u001b[0m\u001b[0m\n\u001b[0m\u001b[0;32m    212\u001b[0m \u001b[1;33m\u001b[0m\u001b[0m\n\u001b[0;32m    213\u001b[0m     \u001b[1;32mdef\u001b[0m \u001b[0mpublish_preempting\u001b[0m\u001b[1;33m(\u001b[0m\u001b[0mself\u001b[0m\u001b[1;33m)\u001b[0m \u001b[1;33m->\u001b[0m \u001b[1;32mNone\u001b[0m\u001b[1;33m:\u001b[0m\u001b[1;33m\u001b[0m\u001b[1;33m\u001b[0m\u001b[0m\n",
      "\u001b[1;32mc:\\users\\chris\\appdata\\local\\pypoetry\\cache\\virtualenvs\\graph-transformer-tx-dblaw-py3.8\\lib\\site-packages\\wandb\\sdk\\interface\\interface.py\u001b[0m in \u001b[0;36m_publish\u001b[1;34m(self, record, local)\u001b[0m\n\u001b[0;32m    534\u001b[0m     \u001b[1;32mdef\u001b[0m \u001b[0m_publish\u001b[0m\u001b[1;33m(\u001b[0m\u001b[0mself\u001b[0m\u001b[1;33m,\u001b[0m \u001b[0mrecord\u001b[0m\u001b[1;33m:\u001b[0m \u001b[0mpb\u001b[0m\u001b[1;33m.\u001b[0m\u001b[0mRecord\u001b[0m\u001b[1;33m,\u001b[0m \u001b[0mlocal\u001b[0m\u001b[1;33m:\u001b[0m \u001b[0mbool\u001b[0m \u001b[1;33m=\u001b[0m \u001b[1;32mNone\u001b[0m\u001b[1;33m)\u001b[0m \u001b[1;33m->\u001b[0m \u001b[1;32mNone\u001b[0m\u001b[1;33m:\u001b[0m\u001b[1;33m\u001b[0m\u001b[1;33m\u001b[0m\u001b[0m\n\u001b[0;32m    535\u001b[0m         \u001b[1;32mif\u001b[0m \u001b[0mself\u001b[0m\u001b[1;33m.\u001b[0m\u001b[0m_process\u001b[0m \u001b[1;32mand\u001b[0m \u001b[1;32mnot\u001b[0m \u001b[0mself\u001b[0m\u001b[1;33m.\u001b[0m\u001b[0m_process\u001b[0m\u001b[1;33m.\u001b[0m\u001b[0mis_alive\u001b[0m\u001b[1;33m(\u001b[0m\u001b[1;33m)\u001b[0m\u001b[1;33m:\u001b[0m\u001b[1;33m\u001b[0m\u001b[1;33m\u001b[0m\u001b[0m\n\u001b[1;32m--> 536\u001b[1;33m             \u001b[1;32mraise\u001b[0m \u001b[0mException\u001b[0m\u001b[1;33m(\u001b[0m\u001b[1;34m\"The wandb backend process has shutdown\"\u001b[0m\u001b[1;33m)\u001b[0m\u001b[1;33m\u001b[0m\u001b[1;33m\u001b[0m\u001b[0m\n\u001b[0m\u001b[0;32m    537\u001b[0m         \u001b[1;32mif\u001b[0m \u001b[0mlocal\u001b[0m\u001b[1;33m:\u001b[0m\u001b[1;33m\u001b[0m\u001b[1;33m\u001b[0m\u001b[0m\n\u001b[0;32m    538\u001b[0m             \u001b[0mrecord\u001b[0m\u001b[1;33m.\u001b[0m\u001b[0mcontrol\u001b[0m\u001b[1;33m.\u001b[0m\u001b[0mlocal\u001b[0m \u001b[1;33m=\u001b[0m \u001b[0mlocal\u001b[0m\u001b[1;33m\u001b[0m\u001b[1;33m\u001b[0m\u001b[0m\n",
      "\u001b[1;31mException\u001b[0m: The wandb backend process has shutdown"
     ]
    },
    {
     "name": "stdout",
     "output_type": "stream",
     "text": [
      "Error in callback <function _WandbInit._pause_backend at 0x000002A610DD95E0> (for post_run_cell):\n"
     ]
    },
    {
     "ename": "Exception",
     "evalue": "The wandb backend process has shutdown",
     "output_type": "error",
     "traceback": [
      "\u001b[1;31m---------------------------------------------------------------------------\u001b[0m",
      "\u001b[1;31mException\u001b[0m                                 Traceback (most recent call last)",
      "\u001b[1;32mc:\\users\\chris\\appdata\\local\\pypoetry\\cache\\virtualenvs\\graph-transformer-tx-dblaw-py3.8\\lib\\site-packages\\backcall\\backcall.py\u001b[0m in \u001b[0;36madapted\u001b[1;34m(*args, **kwargs)\u001b[0m\n\u001b[0;32m    102\u001b[0m                 \u001b[0mkwargs\u001b[0m\u001b[1;33m.\u001b[0m\u001b[0mpop\u001b[0m\u001b[1;33m(\u001b[0m\u001b[0mname\u001b[0m\u001b[1;33m)\u001b[0m\u001b[1;33m\u001b[0m\u001b[1;33m\u001b[0m\u001b[0m\n\u001b[0;32m    103\u001b[0m \u001b[1;31m#            print(args, kwargs, unmatched_pos, cut_positional, unmatched_kw)\u001b[0m\u001b[1;33m\u001b[0m\u001b[1;33m\u001b[0m\u001b[1;33m\u001b[0m\u001b[0m\n\u001b[1;32m--> 104\u001b[1;33m             \u001b[1;32mreturn\u001b[0m \u001b[0mcallback\u001b[0m\u001b[1;33m(\u001b[0m\u001b[1;33m*\u001b[0m\u001b[0margs\u001b[0m\u001b[1;33m,\u001b[0m \u001b[1;33m**\u001b[0m\u001b[0mkwargs\u001b[0m\u001b[1;33m)\u001b[0m\u001b[1;33m\u001b[0m\u001b[1;33m\u001b[0m\u001b[0m\n\u001b[0m\u001b[0;32m    105\u001b[0m \u001b[1;33m\u001b[0m\u001b[0m\n\u001b[0;32m    106\u001b[0m         \u001b[1;32mreturn\u001b[0m \u001b[0madapted\u001b[0m\u001b[1;33m\u001b[0m\u001b[1;33m\u001b[0m\u001b[0m\n",
      "\u001b[1;32mc:\\users\\chris\\appdata\\local\\pypoetry\\cache\\virtualenvs\\graph-transformer-tx-dblaw-py3.8\\lib\\site-packages\\wandb\\sdk\\wandb_init.py\u001b[0m in \u001b[0;36m_pause_backend\u001b[1;34m(self)\u001b[0m\n\u001b[0;32m    253\u001b[0m                 \u001b[0mres\u001b[0m \u001b[1;33m=\u001b[0m \u001b[0mself\u001b[0m\u001b[1;33m.\u001b[0m\u001b[0mrun\u001b[0m\u001b[1;33m.\u001b[0m\u001b[0mlog_code\u001b[0m\u001b[1;33m(\u001b[0m\u001b[0mroot\u001b[0m\u001b[1;33m=\u001b[0m\u001b[1;32mNone\u001b[0m\u001b[1;33m)\u001b[0m\u001b[1;33m\u001b[0m\u001b[1;33m\u001b[0m\u001b[0m\n\u001b[0;32m    254\u001b[0m                 \u001b[0mlogger\u001b[0m\u001b[1;33m.\u001b[0m\u001b[0minfo\u001b[0m\u001b[1;33m(\u001b[0m\u001b[1;34m\"saved code: %s\"\u001b[0m\u001b[1;33m,\u001b[0m \u001b[0mres\u001b[0m\u001b[1;33m)\u001b[0m\u001b[1;33m\u001b[0m\u001b[1;33m\u001b[0m\u001b[0m\n\u001b[1;32m--> 255\u001b[1;33m             \u001b[0mself\u001b[0m\u001b[1;33m.\u001b[0m\u001b[0mbackend\u001b[0m\u001b[1;33m.\u001b[0m\u001b[0minterface\u001b[0m\u001b[1;33m.\u001b[0m\u001b[0mpublish_pause\u001b[0m\u001b[1;33m(\u001b[0m\u001b[1;33m)\u001b[0m\u001b[1;33m\u001b[0m\u001b[1;33m\u001b[0m\u001b[0m\n\u001b[0m\u001b[0;32m    256\u001b[0m \u001b[1;33m\u001b[0m\u001b[0m\n\u001b[0;32m    257\u001b[0m     \u001b[1;32mdef\u001b[0m \u001b[0m_resume_backend\u001b[0m\u001b[1;33m(\u001b[0m\u001b[0mself\u001b[0m\u001b[1;33m)\u001b[0m\u001b[1;33m:\u001b[0m\u001b[1;33m\u001b[0m\u001b[1;33m\u001b[0m\u001b[0m\n",
      "\u001b[1;32mc:\\users\\chris\\appdata\\local\\pypoetry\\cache\\virtualenvs\\graph-transformer-tx-dblaw-py3.8\\lib\\site-packages\\wandb\\sdk\\interface\\interface.py\u001b[0m in \u001b[0;36mpublish_pause\u001b[1;34m(self)\u001b[0m\n\u001b[0;32m    598\u001b[0m         \u001b[0mpause\u001b[0m \u001b[1;33m=\u001b[0m \u001b[0mpb\u001b[0m\u001b[1;33m.\u001b[0m\u001b[0mPauseRequest\u001b[0m\u001b[1;33m(\u001b[0m\u001b[1;33m)\u001b[0m\u001b[1;33m\u001b[0m\u001b[1;33m\u001b[0m\u001b[0m\n\u001b[0;32m    599\u001b[0m         \u001b[0mrec\u001b[0m \u001b[1;33m=\u001b[0m \u001b[0mself\u001b[0m\u001b[1;33m.\u001b[0m\u001b[0m_make_request\u001b[0m\u001b[1;33m(\u001b[0m\u001b[0mpause\u001b[0m\u001b[1;33m=\u001b[0m\u001b[0mpause\u001b[0m\u001b[1;33m)\u001b[0m\u001b[1;33m\u001b[0m\u001b[1;33m\u001b[0m\u001b[0m\n\u001b[1;32m--> 600\u001b[1;33m         \u001b[0mself\u001b[0m\u001b[1;33m.\u001b[0m\u001b[0m_publish\u001b[0m\u001b[1;33m(\u001b[0m\u001b[0mrec\u001b[0m\u001b[1;33m)\u001b[0m\u001b[1;33m\u001b[0m\u001b[1;33m\u001b[0m\u001b[0m\n\u001b[0m\u001b[0;32m    601\u001b[0m \u001b[1;33m\u001b[0m\u001b[0m\n\u001b[0;32m    602\u001b[0m     \u001b[1;32mdef\u001b[0m \u001b[0mpublish_resume\u001b[0m\u001b[1;33m(\u001b[0m\u001b[0mself\u001b[0m\u001b[1;33m)\u001b[0m \u001b[1;33m->\u001b[0m \u001b[1;32mNone\u001b[0m\u001b[1;33m:\u001b[0m\u001b[1;33m\u001b[0m\u001b[1;33m\u001b[0m\u001b[0m\n",
      "\u001b[1;32mc:\\users\\chris\\appdata\\local\\pypoetry\\cache\\virtualenvs\\graph-transformer-tx-dblaw-py3.8\\lib\\site-packages\\wandb\\sdk\\interface\\interface.py\u001b[0m in \u001b[0;36m_publish\u001b[1;34m(self, record, local)\u001b[0m\n\u001b[0;32m    534\u001b[0m     \u001b[1;32mdef\u001b[0m \u001b[0m_publish\u001b[0m\u001b[1;33m(\u001b[0m\u001b[0mself\u001b[0m\u001b[1;33m,\u001b[0m \u001b[0mrecord\u001b[0m\u001b[1;33m:\u001b[0m \u001b[0mpb\u001b[0m\u001b[1;33m.\u001b[0m\u001b[0mRecord\u001b[0m\u001b[1;33m,\u001b[0m \u001b[0mlocal\u001b[0m\u001b[1;33m:\u001b[0m \u001b[0mbool\u001b[0m \u001b[1;33m=\u001b[0m \u001b[1;32mNone\u001b[0m\u001b[1;33m)\u001b[0m \u001b[1;33m->\u001b[0m \u001b[1;32mNone\u001b[0m\u001b[1;33m:\u001b[0m\u001b[1;33m\u001b[0m\u001b[1;33m\u001b[0m\u001b[0m\n\u001b[0;32m    535\u001b[0m         \u001b[1;32mif\u001b[0m \u001b[0mself\u001b[0m\u001b[1;33m.\u001b[0m\u001b[0m_process\u001b[0m \u001b[1;32mand\u001b[0m \u001b[1;32mnot\u001b[0m \u001b[0mself\u001b[0m\u001b[1;33m.\u001b[0m\u001b[0m_process\u001b[0m\u001b[1;33m.\u001b[0m\u001b[0mis_alive\u001b[0m\u001b[1;33m(\u001b[0m\u001b[1;33m)\u001b[0m\u001b[1;33m:\u001b[0m\u001b[1;33m\u001b[0m\u001b[1;33m\u001b[0m\u001b[0m\n\u001b[1;32m--> 536\u001b[1;33m             \u001b[1;32mraise\u001b[0m \u001b[0mException\u001b[0m\u001b[1;33m(\u001b[0m\u001b[1;34m\"The wandb backend process has shutdown\"\u001b[0m\u001b[1;33m)\u001b[0m\u001b[1;33m\u001b[0m\u001b[1;33m\u001b[0m\u001b[0m\n\u001b[0m\u001b[0;32m    537\u001b[0m         \u001b[1;32mif\u001b[0m \u001b[0mlocal\u001b[0m\u001b[1;33m:\u001b[0m\u001b[1;33m\u001b[0m\u001b[1;33m\u001b[0m\u001b[0m\n\u001b[0;32m    538\u001b[0m             \u001b[0mrecord\u001b[0m\u001b[1;33m.\u001b[0m\u001b[0mcontrol\u001b[0m\u001b[1;33m.\u001b[0m\u001b[0mlocal\u001b[0m \u001b[1;33m=\u001b[0m \u001b[0mlocal\u001b[0m\u001b[1;33m\u001b[0m\u001b[1;33m\u001b[0m\u001b[0m\n",
      "\u001b[1;31mException\u001b[0m: The wandb backend process has shutdown"
     ]
    }
   ],
   "source": [
    "loss_hist = []\n",
    "try:\n",
    "    # For each epoch\n",
    "    for epoch in range(config.n_epochs):\n",
    "        # For each batch in the dataloader\n",
    "        pbar = tqdm.tqdm(enumerate(train_loader, 0))\n",
    "        epoch_loss = 0\n",
    "        for i, data in pbar:\n",
    "            model.zero_grad()\n",
    "            data.to(device)\n",
    "            target = data.y[:, target_idx]\n",
    "            prediction = model(data.z, data.pos, data.batch)\n",
    "            output = loss(prediction.view(-1), target)\n",
    "            mae = (prediction.view(-1) - target).abs().mean()\n",
    "            epoch_loss = (epoch_loss*i + mae.item())/(i+1)\n",
    "            \n",
    "            pbar.set_description('Epoch %d: MAE/CA %2.6f'%(epoch+1, epoch_loss/chemical_accuracy[target_idx]))\n",
    "            output.backward()\n",
    "            optimizer.step()\n",
    "            wandb.log({'MSE': output.item()})\n",
    "        wandb.log({'MAE':epoch_loss, \n",
    "                   'MAE/CA':epoch_loss/chemical_accuracy[target_idx]})\n",
    "        lr_scheduler.step(epoch_loss)\n",
    "        loss_hist += [epoch_loss]\n",
    "        if epoch_loss/chemical_accuracy[target_idx] < 0.45:\n",
    "            break\n",
    "\n",
    "except KeyboardInterrupt:\n",
    "    print('keyboard interrupt caught')"
   ]
  },
  {
   "cell_type": "code",
   "execution_count": null,
   "id": "66ce6222",
   "metadata": {},
   "outputs": [],
   "source": [
    "model.to('cpu')"
   ]
  },
  {
   "cell_type": "code",
   "execution_count": null,
   "id": "689f8c05",
   "metadata": {},
   "outputs": [
    {
     "name": "stderr",
     "output_type": "stream",
     "text": [
      "Exception in thread Thread-9:\n",
      "Traceback (most recent call last):\n",
      "  File \"C:\\Program Files\\Python38\\lib\\threading.py\", line 932, in _bootstrap_inner\n",
      "    self.run()\n",
      "  File \"C:\\Program Files\\Python38\\lib\\threading.py\", line 870, in run\n",
      "    self._target(*self._args, **self._kwargs)\n",
      "  File \"c:\\users\\chris\\appdata\\local\\pypoetry\\cache\\virtualenvs\\graph-transformer-tx-dblaw-py3.8\\lib\\site-packages\\wandb\\sdk\\wandb_run.py\", line 201, in check_status\n",
      "    status_response = self._interface.communicate_stop_status()\n",
      "  File \"c:\\users\\chris\\appdata\\local\\pypoetry\\cache\\virtualenvs\\graph-transformer-tx-dblaw-py3.8\\lib\\site-packages\\wandb\\sdk\\interface\\interface.py\", line 743, in communicate_stop_status\n",
      "    resp = self._communicate(req, timeout=timeout, local=True)\n",
      "  File \"c:\\users\\chris\\appdata\\local\\pypoetry\\cache\\virtualenvs\\graph-transformer-tx-dblaw-py3.8\\lib\\site-packages\\wandb\\sdk\\interface\\interface.py\", line 545, in _communicate\n",
      "    return self._communicate_async(rec, local=local).get(timeout=timeout)\n",
      "  File \"c:\\users\\chris\\appdata\\local\\pypoetry\\cache\\virtualenvs\\graph-transformer-tx-dblaw-py3.8\\lib\\site-packages\\wandb\\sdk\\interface\\interface.py\", line 550, in _communicate_async\n",
      "    raise Exception(\"The wandb backend process has shutdown\")\n",
      "Exception: The wandb backend process has shutdown\n"
     ]
    }
   ],
   "source": [
    "pbar = tqdm.tqdm(enumerate(test_loader, 0))\n",
    "epoch_loss = 0\n",
    "maes = []\n",
    "for i, data in pbar:\n",
    "    data.to('cpu')\n",
    "    prediction = model(data.z, data.pos, data.batch)\n",
    "    mae = (prediction.view(-1) - data.y[:, target_idx]).abs()\n",
    "    maes += [mae]\n",
    "maes = torch.cat(maes, dim=0)\n",
    "mae = maes.mean().item()\n",
    "print(mae, mae/chemical_accuracy[target_idx])\n",
    "wandb.log({'TEST MAE':mae, 'TEST MAE/CA':mae/chemical_accuracy[target_idx]})\n"
   ]
  },
  {
   "cell_type": "code",
   "execution_count": null,
   "id": "5ee076fa",
   "metadata": {},
   "outputs": [],
   "source": []
  }
 ],
 "metadata": {
  "kernelspec": {
   "display_name": "Python 3 (ipykernel)",
   "language": "python",
   "name": "python3"
  },
  "language_info": {
   "codemirror_mode": {
    "name": "ipython",
    "version": 3
   },
   "file_extension": ".py",
   "mimetype": "text/x-python",
   "name": "python",
   "nbconvert_exporter": "python",
   "pygments_lexer": "ipython3",
   "version": "3.8.9"
  }
 },
 "nbformat": 4,
 "nbformat_minor": 5
}
