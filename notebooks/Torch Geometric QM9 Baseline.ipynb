{
 "cells": [
  {
   "cell_type": "code",
   "execution_count": 1,
   "id": "0ff921ff",
   "metadata": {},
   "outputs": [],
   "source": [
    "%load_ext autoreload\n",
    "%autoreload 2\n",
    "import torch\n",
    "import torch.nn as nn\n",
    "import torch.nn.functional as F\n",
    "import torch.optim as optim\n",
    "from torch_geometric.datasets.qm9 import QM9\n",
    "from torch_geometric.data import DataLoader\n",
    "import torch_geometric.nn as tgnn \n",
    "import tqdm\n",
    "import numpy as np"
   ]
  },
  {
   "cell_type": "code",
   "execution_count": 2,
   "id": "2c8b07c8",
   "metadata": {},
   "outputs": [],
   "source": [
    "# [0] Reports MAE in eV / Chemical Accuracy of the target variable U0. \n",
    "# The chemical accuracy of U0 is 0.043 see [1, Table 5].\n",
    "\n",
    "# Reproduced table [0]\n",
    "# MXMNet: 0.00590/0.043 = 0.13720930232558143\n",
    "# HMGNN:  0.00592/0.043 = 0.13767441860465118\n",
    "# MPNN:   0.01935/0.043 = 0.45\n",
    "# KRR:    0.0251 /0.043 = 0.5837209302325582\n",
    "# [0] https://paperswithcode.com/sota/formation-energy-on-qm9\n",
    "# [1] Neural Message Passing for Quantum Chemistry, https://arxiv.org/pdf/1704.01212v2.pdf\n",
    "# MXMNet https://arxiv.org/pdf/2011.07457v1.pdf\n",
    "# HMGNN https://arxiv.org/pdf/2009.12710v1.pdf\n",
    "# MPNN https://arxiv.org/pdf/1704.01212v2.pdf\n",
    "# KRR HDAD kernel ridge regression https://arxiv.org/pdf/1702.05532.pdf\n",
    "# HDAD means HDAD (Histogram of distances, anglesand dihedral angles)\n",
    "\n",
    "# [2] Reports the average value of MAE / Chemical Accuracy of over all targets\n",
    "# [2] https://paperswithcode.com/sota/drug-discovery-on-qm9\n",
    "target_dict = {0: 'mu, D, Dipole moment', \n",
    "               1: 'alpha, {a_0}^3, Isotropic polarizability', \n",
    "               2: 'epsilon_{HOMO}, eV, Highest occupied molecular orbital energy',\n",
    "               3: 'epsilon_{LUMO}, eV, Lowest unoccupied molecular orbital energy',\n",
    "               4: 'Delta, eV, Gap between HOMO and LUMO',\n",
    "               5: '< R^2 >, {a_0}^2, Electronic spatial extent',\n",
    "               6: 'ZPVE, eV, Zero point vibrational energy', \n",
    "               7: 'U_0, eV, Internal energy at 0K',\n",
    "               8: 'U, eV, Internal energy at 298.15K', \n",
    "               9: 'H, eV, Enthalpy at 298.15K',\n",
    "               10: 'G, eV, Free energy at 298.15K',  \n",
    "               11: 'c_{v}, cal\\(mol K), Heat capacity at 298.15K'}\n",
    "\n",
    "chemical_accuracy = {idx:0.043 for idx in range(12)}\n",
    "chemical_accuracy[0] = 0.1\n",
    "chemical_accuracy[1] = 0.1\n",
    "chemical_accuracy[5] = 1.2\n",
    "chemical_accuracy[6] = 0.0012\n",
    "chemical_accuracy[11] = 0.050"
   ]
  },
  {
   "cell_type": "markdown",
   "id": "2af28551",
   "metadata": {},
   "source": [
    "# get rid of the degenerate molecules"
   ]
  },
  {
   "cell_type": "code",
   "execution_count": 3,
   "id": "9bf25b4b",
   "metadata": {},
   "outputs": [],
   "source": [
    "from urllib import request\n",
    "import tempfile\n",
    "import os\n",
    "at_url = \"https://ndownloader.figshare.com/files/3195404\"\n",
    "tmpdir = tempfile.mkdtemp(\"gdb9\")\n",
    "tmp_path = os.path.join(tmpdir, \"uncharacterized.txt\")\n",
    "request.urlretrieve(at_url, tmp_path)\n",
    "\n",
    "evilmols = []\n",
    "with open(tmp_path) as f:\n",
    "    lines = f.readlines()\n",
    "    for line in lines[9:-1]:\n",
    "        evilmols.append(int(line.split()[0]))\n",
    "evilgdbs = ['gdb_%d'%id for id in evilmols]"
   ]
  },
  {
   "cell_type": "code",
   "execution_count": 4,
   "id": "560cc7b7",
   "metadata": {},
   "outputs": [],
   "source": [
    "pre_filter = lambda d: (d.name not in evilgdbs)"
   ]
  },
  {
   "cell_type": "code",
   "execution_count": 5,
   "id": "8904130a",
   "metadata": {},
   "outputs": [],
   "source": [
    "dataset = QM9('../datasets/qm9_geometric/', pre_filter=pre_filter)#, pre_filter=pre_filter)"
   ]
  },
  {
   "cell_type": "code",
   "execution_count": 6,
   "id": "8aed7bcd",
   "metadata": {},
   "outputs": [],
   "source": [
    "# actually QM9 already automatically gets rid of all the gad examples -.-"
   ]
  },
  {
   "cell_type": "code",
   "execution_count": 7,
   "id": "fd471b78",
   "metadata": {},
   "outputs": [],
   "source": [
    "dataset = dataset.shuffle()\n",
    "train_dataset = dataset[:110000]\n",
    "valid_dataset = dataset[110000:120000]\n",
    "test_dataset = dataset[120000:]\n",
    "train_loader = DataLoader(train_dataset, batch_size=128, shuffle=True)\n",
    "valid_loader = DataLoader(valid_dataset, batch_size=128)\n",
    "test_loader = DataLoader(test_dataset, batch_size=32)"
   ]
  },
  {
   "cell_type": "code",
   "execution_count": 8,
   "id": "8715a6aa",
   "metadata": {},
   "outputs": [],
   "source": [
    "batch = next(iter(train_loader))"
   ]
  },
  {
   "cell_type": "code",
   "execution_count": 9,
   "id": "ed3d4db9",
   "metadata": {},
   "outputs": [],
   "source": [
    "# investigate batch"
   ]
  },
  {
   "cell_type": "code",
   "execution_count": 10,
   "id": "339949f8",
   "metadata": {},
   "outputs": [
    {
     "data": {
      "text/plain": [
       "tensor([  0,   0,   0,  ..., 127, 127, 127])"
      ]
     },
     "execution_count": 10,
     "metadata": {},
     "output_type": "execute_result"
    }
   ],
   "source": [
    "batch['batch']"
   ]
  },
  {
   "cell_type": "code",
   "execution_count": 11,
   "id": "d6aa919f",
   "metadata": {},
   "outputs": [
    {
     "data": {
      "text/plain": [
       "23"
      ]
     },
     "execution_count": 11,
     "metadata": {},
     "output_type": "execute_result"
    }
   ],
   "source": [
    "(batch['batch'].detach().numpy() == 2).sum()"
   ]
  },
  {
   "cell_type": "code",
   "execution_count": 12,
   "id": "b03874ae",
   "metadata": {},
   "outputs": [],
   "source": [
    "# node features:"
   ]
  },
  {
   "cell_type": "code",
   "execution_count": 13,
   "id": "82535898",
   "metadata": {},
   "outputs": [
    {
     "data": {
      "text/plain": [
       "tensor([[0., 1., 0.,  ..., 0., 0., 3.],\n",
       "        [0., 1., 0.,  ..., 0., 0., 2.],\n",
       "        [0., 1., 0.,  ..., 0., 0., 0.],\n",
       "        ...,\n",
       "        [1., 0., 0.,  ..., 0., 0., 0.],\n",
       "        [1., 0., 0.,  ..., 0., 0., 0.],\n",
       "        [1., 0., 0.,  ..., 0., 0., 0.]])"
      ]
     },
     "execution_count": 13,
     "metadata": {},
     "output_type": "execute_result"
    }
   ],
   "source": [
    "batch.x # one_hot(type), atomic_number, aromatic, sp1, sp2, sp3, num_hs -> 5+1+1+1+1+1+1 = 11"
   ]
  },
  {
   "cell_type": "code",
   "execution_count": 14,
   "id": "bb7af094",
   "metadata": {},
   "outputs": [
    {
     "data": {
      "text/plain": [
       "torch.Size([2355, 11])"
      ]
     },
     "execution_count": 14,
     "metadata": {},
     "output_type": "execute_result"
    }
   ],
   "source": [
    "batch.x.shape"
   ]
  },
  {
   "cell_type": "code",
   "execution_count": 15,
   "id": "bbaf95f7",
   "metadata": {},
   "outputs": [
    {
     "data": {
      "text/plain": [
       "tensor([[-1.5166, -0.1828, -0.1133],\n",
       "        [ 0.0056, -0.0814,  0.0492],\n",
       "        [ 0.7901, -0.6233, -1.1367],\n",
       "        ...,\n",
       "        [-0.9217, -3.9321,  0.6493],\n",
       "        [-0.0643, -3.2753, -3.3043],\n",
       "        [-1.0692, -1.9978, -3.4906]])"
      ]
     },
     "execution_count": 15,
     "metadata": {},
     "output_type": "execute_result"
    }
   ],
   "source": [
    "batch.pos"
   ]
  },
  {
   "cell_type": "code",
   "execution_count": 16,
   "id": "a249b8ed",
   "metadata": {},
   "outputs": [
    {
     "data": {
      "text/plain": [
       "tensor([6, 6, 6,  ..., 1, 1, 1])"
      ]
     },
     "execution_count": 16,
     "metadata": {},
     "output_type": "execute_result"
    }
   ],
   "source": [
    "batch.z # atomic number"
   ]
  },
  {
   "cell_type": "code",
   "execution_count": 17,
   "id": "c15e32f4",
   "metadata": {},
   "outputs": [],
   "source": [
    "# edge features:"
   ]
  },
  {
   "cell_type": "code",
   "execution_count": 18,
   "id": "90f559c5",
   "metadata": {},
   "outputs": [
    {
     "data": {
      "text/plain": [
       "tensor([[   0,    0,    0,  ..., 2352, 2353, 2354],\n",
       "        [   1,    9,   10,  ..., 2344, 2346, 2346]])"
      ]
     },
     "execution_count": 18,
     "metadata": {},
     "output_type": "execute_result"
    }
   ],
   "source": [
    "batch.edge_index"
   ]
  },
  {
   "cell_type": "code",
   "execution_count": 19,
   "id": "c8ed7a14",
   "metadata": {},
   "outputs": [
    {
     "data": {
      "text/plain": [
       "tensor([[1., 0., 0., 0.],\n",
       "        [1., 0., 0., 0.],\n",
       "        [1., 0., 0., 0.],\n",
       "        ...,\n",
       "        [1., 0., 0., 0.],\n",
       "        [1., 0., 0., 0.],\n",
       "        [1., 0., 0., 0.]])"
      ]
     },
     "execution_count": 19,
     "metadata": {},
     "output_type": "execute_result"
    }
   ],
   "source": [
    "batch.edge_attr # one_hot(bond_type) -> 4 single, double, triple, aromatic"
   ]
  },
  {
   "cell_type": "code",
   "execution_count": 20,
   "id": "1054cc38",
   "metadata": {},
   "outputs": [
    {
     "data": {
      "text/plain": [
       "tensor([-11575.9463,  -9587.5293, -10566.7832, -11510.2109, -11375.6621,\n",
       "        -11445.5293, -11444.1992, -11575.5596, -12926.6602,  -9866.0889,\n",
       "        -11877.7139, -10598.5664, -11542.7969, -11575.9111,  -9811.1553,\n",
       "         -9869.2227, -15526.9238, -10969.3643, -11238.6992, -10937.6680,\n",
       "         -9360.2490, -12386.6045, -11512.3291,  -9496.2627,  -9555.1729,\n",
       "        -11003.2412, -11946.9248,  -9530.2148, -10473.3555, -11419.0947,\n",
       "        -13531.1602, -10834.4434, -11512.4375, -11810.7637, -12924.9268,\n",
       "        -10396.0742, -11451.7021, -10736.2578, -11844.6309, -10936.7773,\n",
       "        -11510.2256, -11947.7939, -12521.3105, -11812.1807, -11980.0410,\n",
       "        -12570.1621, -10598.2256, -12320.2129, -11418.9541, -10306.8242,\n",
       "        -11374.4512, -11949.1504, -10534.5605, -10531.8994, -10880.1689,\n",
       "        -10969.2012, -10802.2783, -11916.2344, -12490.4453, -11844.0215,\n",
       "         -9302.2051, -11915.2686, -11948.2002, -10533.2012, -12351.8398,\n",
       "        -11512.9512, -12215.5850, -11542.5713, -11509.3506,  -9553.8057,\n",
       "        -11511.2217, -11001.5635, -10904.2617, -10565.5137, -12017.4238,\n",
       "        -11476.9160, -11948.6182, -10969.8623, -11342.7773, -11371.4492,\n",
       "        -13005.9072, -12487.2969,  -8855.6299, -11001.3574, -11375.4961,\n",
       "        -11811.6270, -11544.4463,  -8427.8213, -10530.7275, -11407.2637,\n",
       "        -11980.7490, -10532.3096, -10531.8115, -10474.3486, -10903.2090,\n",
       "        -10025.8496, -12894.4453,  -9902.7559, -10969.4043, -11003.9824,\n",
       "         -9553.5586, -10533.2656,  -9934.1650, -11002.4941, -12351.6650,\n",
       "        -12522.7158, -11510.7568, -10565.2803, -11510.4580, -12489.6250,\n",
       "        -11407.6846, -10532.3291, -12353.4189, -11542.9326, -10938.5664,\n",
       "        -10935.3662,  -9958.8555, -12554.1279, -12417.2725, -10530.8789,\n",
       "        -11341.3809, -11576.9004, -10936.6592, -11002.1123, -11372.3633,\n",
       "         -9428.6865, -10937.1357, -12383.5635])"
      ]
     },
     "execution_count": 20,
     "metadata": {},
     "output_type": "execute_result"
    }
   ],
   "source": [
    "# targets \n",
    "batch.y[:, 7] # this target is U0"
   ]
  },
  {
   "cell_type": "code",
   "execution_count": 21,
   "id": "7be0c442",
   "metadata": {},
   "outputs": [],
   "source": [
    "ngpu=1\n",
    "device = torch.device('cuda:0' if (torch.cuda.is_available() and ngpu > 0) else 'cpu')"
   ]
  },
  {
   "cell_type": "markdown",
   "id": "12914486",
   "metadata": {},
   "source": [
    "# Model"
   ]
  },
  {
   "cell_type": "code",
   "execution_count": 22,
   "id": "496c17b7",
   "metadata": {},
   "outputs": [],
   "source": [
    "model = tgnn.SchNet().to(device)"
   ]
  },
  {
   "cell_type": "code",
   "execution_count": 12,
   "id": "f3d11ae9",
   "metadata": {},
   "outputs": [],
   "source": [
    "lr = 0.001\n",
    "n_epochs = 1000\n",
    "patience = 3\n",
    "factor = 0.5\n",
    "target_idx = 7"
   ]
  },
  {
   "cell_type": "code",
   "execution_count": 19,
   "id": "c0cf34b6",
   "metadata": {},
   "outputs": [],
   "source": [
    "target_vec = [d.y[0, target_idx] for d in train_dataset]\n",
    "target_mean = np.mean(target_vec)\n",
    "target_std = np.std(target_vec)"
   ]
  },
  {
   "cell_type": "code",
   "execution_count": 21,
   "id": "2a1eb822",
   "metadata": {},
   "outputs": [],
   "source": [
    "def normalize(target, mean=target_mean, std=target_std):\n",
    "    return (target - mean)/std\n",
    "\n",
    "def denormalize(target, mean=target_mean, std=target_std):\n",
    "    return target*std + mean"
   ]
  },
  {
   "cell_type": "code",
   "execution_count": 24,
   "id": "a80a7aba",
   "metadata": {},
   "outputs": [],
   "source": [
    "loss = nn.MSELoss()\n",
    "optimizer = optim.Adam(model.parameters(), lr=lr)\n",
    "lr_scheduler = optim.lr_scheduler.ReduceLROnPlateau(optimizer, mode='min', verbose=True, patience=patience, factor=factor)"
   ]
  },
  {
   "cell_type": "markdown",
   "id": "28549be9",
   "metadata": {},
   "source": [
    "# Training"
   ]
  },
  {
   "cell_type": "code",
   "execution_count": 25,
   "id": "0e4a46ad",
   "metadata": {},
   "outputs": [
    {
     "name": "stderr",
     "output_type": "stream",
     "text": [
      "MAE/CA 8777.794774: : 860it [00:37, 22.95it/s] \n",
      "MAE/CA 2884.960354: : 860it [00:29, 29.48it/s]\n",
      "MAE/CA 2388.744362: : 860it [00:29, 29.40it/s]\n",
      "MAE/CA 16800.808096: : 860it [00:27, 30.79it/s]\n",
      "MAE/CA 3363.206487: : 860it [00:28, 30.08it/s] \n",
      "MAE/CA 1447.077370: : 860it [00:29, 29.64it/s]\n",
      "MAE/CA 1379.656415: : 860it [00:28, 29.77it/s]\n",
      "MAE/CA 1458.398715: : 860it [00:29, 29.26it/s]\n",
      "MAE/CA 1516.325249: : 860it [00:28, 29.68it/s]\n",
      "MAE/CA 1458.079929: : 860it [00:28, 30.44it/s]\n",
      "MAE/CA 1601.710123: : 860it [00:29, 29.60it/s]\n",
      "MAE/CA 1235.034499: : 3it [00:00, 29.04it/s]"
     ]
    },
    {
     "name": "stdout",
     "output_type": "stream",
     "text": [
      "Epoch    11: reducing learning rate of group 0 to 5.0000e-04.\n"
     ]
    },
    {
     "name": "stderr",
     "output_type": "stream",
     "text": [
      "MAE/CA 467.910249: : 860it [00:29, 29.63it/s]\n",
      "MAE/CA 710.823362: : 860it [00:28, 30.65it/s]\n",
      "MAE/CA 1569.816446: : 860it [00:28, 29.81it/s]\n",
      "MAE/CA 599.948470: : 860it [00:28, 29.89it/s]\n",
      "MAE/CA 830.270400: : 860it [00:28, 30.52it/s]\n",
      "MAE/CA 424.466806: : 3it [00:00, 27.87it/s]"
     ]
    },
    {
     "name": "stdout",
     "output_type": "stream",
     "text": [
      "Epoch    16: reducing learning rate of group 0 to 2.5000e-04.\n"
     ]
    },
    {
     "name": "stderr",
     "output_type": "stream",
     "text": [
      "MAE/CA 349.809189: : 860it [00:28, 29.73it/s]\n",
      "MAE/CA 495.679308: : 860it [00:28, 29.66it/s]\n",
      "MAE/CA 633.943061: : 860it [00:29, 29.34it/s]\n",
      "MAE/CA 639.004844: : 860it [00:28, 30.54it/s]\n",
      "MAE/CA 645.258402: : 860it [00:28, 29.91it/s]\n",
      "MAE/CA 214.008849: : 3it [00:00, 28.81it/s]"
     ]
    },
    {
     "name": "stdout",
     "output_type": "stream",
     "text": [
      "Epoch    21: reducing learning rate of group 0 to 1.2500e-04.\n"
     ]
    },
    {
     "name": "stderr",
     "output_type": "stream",
     "text": [
      "MAE/CA 180.152085: : 860it [00:28, 30.19it/s]\n",
      "MAE/CA 275.282232: : 860it [00:29, 29.53it/s]\n",
      "MAE/CA 368.335017: : 860it [00:28, 29.92it/s]\n",
      "MAE/CA 371.273347: : 860it [00:29, 29.54it/s]\n",
      "MAE/CA 356.008333: : 860it [00:28, 29.95it/s]\n",
      "MAE/CA 171.942482: : 3it [00:00, 28.21it/s]"
     ]
    },
    {
     "name": "stdout",
     "output_type": "stream",
     "text": [
      "Epoch    26: reducing learning rate of group 0 to 6.2500e-05.\n"
     ]
    },
    {
     "name": "stderr",
     "output_type": "stream",
     "text": [
      "MAE/CA 116.553973: : 860it [00:29, 29.60it/s]\n",
      "MAE/CA 174.559714: : 860it [00:28, 29.95it/s]\n",
      "MAE/CA 192.935333: : 860it [00:28, 29.88it/s]\n",
      "MAE/CA 200.037031: : 860it [00:27, 31.77it/s]\n",
      "MAE/CA 198.601638: : 860it [00:26, 32.70it/s]\n",
      "MAE/CA 153.292323: : 4it [00:00, 32.32it/s]"
     ]
    },
    {
     "name": "stdout",
     "output_type": "stream",
     "text": [
      "Epoch    31: reducing learning rate of group 0 to 3.1250e-05.\n"
     ]
    },
    {
     "name": "stderr",
     "output_type": "stream",
     "text": [
      "MAE/CA 90.658371: : 860it [00:28, 30.67it/s]\n",
      "MAE/CA 118.184504: : 860it [00:29, 29.42it/s]\n",
      "MAE/CA 120.318822: : 860it [00:27, 30.94it/s]\n",
      "MAE/CA 124.571374: : 860it [00:29, 29.60it/s]\n",
      "MAE/CA 111.899427: : 860it [00:28, 30.02it/s]\n",
      "MAE/CA 63.624818: : 3it [00:00, 29.23it/s]"
     ]
    },
    {
     "name": "stdout",
     "output_type": "stream",
     "text": [
      "Epoch    36: reducing learning rate of group 0 to 1.5625e-05.\n"
     ]
    },
    {
     "name": "stderr",
     "output_type": "stream",
     "text": [
      "MAE/CA 74.925204: : 860it [00:28, 29.94it/s]\n",
      "MAE/CA 79.298381: : 860it [00:28, 29.89it/s] \n",
      "MAE/CA 82.931687: : 860it [00:28, 30.22it/s]\n",
      "MAE/CA 82.021807: : 860it [00:29, 29.49it/s]\n",
      "MAE/CA 81.990715: : 860it [00:28, 30.24it/s]\n",
      "MAE/CA 61.705937: : 3it [00:00, 27.07it/s]"
     ]
    },
    {
     "name": "stdout",
     "output_type": "stream",
     "text": [
      "Epoch    41: reducing learning rate of group 0 to 7.8125e-06.\n"
     ]
    },
    {
     "name": "stderr",
     "output_type": "stream",
     "text": [
      "MAE/CA 61.370633: : 860it [00:28, 29.85it/s]\n",
      "MAE/CA 62.341280: : 860it [00:28, 29.74it/s]\n",
      "MAE/CA 65.144089: : 860it [00:28, 29.82it/s]\n",
      "MAE/CA 65.714317: : 860it [00:28, 29.89it/s]\n",
      "MAE/CA 61.973558: : 860it [00:29, 29.61it/s]\n",
      "MAE/CA 71.464967: : 4it [00:00, 32.21it/s]"
     ]
    },
    {
     "name": "stdout",
     "output_type": "stream",
     "text": [
      "Epoch    46: reducing learning rate of group 0 to 3.9063e-06.\n"
     ]
    },
    {
     "name": "stderr",
     "output_type": "stream",
     "text": [
      "MAE/CA 53.911062: : 860it [00:27, 31.01it/s]\n",
      "MAE/CA 55.180577: : 860it [00:27, 30.83it/s]\n",
      "MAE/CA 55.629490: : 860it [00:28, 29.68it/s]\n",
      "MAE/CA 55.081618: : 860it [00:28, 30.13it/s]\n",
      "MAE/CA 54.512288: : 860it [00:29, 29.48it/s]\n",
      "MAE/CA 50.823404: : 3it [00:00, 29.58it/s]"
     ]
    },
    {
     "name": "stdout",
     "output_type": "stream",
     "text": [
      "Epoch    51: reducing learning rate of group 0 to 1.9531e-06.\n"
     ]
    },
    {
     "name": "stderr",
     "output_type": "stream",
     "text": [
      "MAE/CA 50.357352: : 860it [00:28, 30.32it/s]\n",
      "MAE/CA 51.211475: : 860it [00:28, 30.47it/s]\n",
      "MAE/CA 49.884306: : 860it [00:28, 29.85it/s]\n",
      "MAE/CA 50.192335: : 860it [00:28, 29.73it/s]\n",
      "MAE/CA 50.877346: : 860it [00:28, 29.73it/s]\n",
      "MAE/CA 49.986689: : 860it [00:29, 29.62it/s]\n",
      "MAE/CA 49.878298: : 860it [00:28, 30.07it/s]\n",
      "MAE/CA 49.696817: : 860it [00:29, 29.37it/s]\n",
      "MAE/CA 49.385212: : 860it [00:29, 29.61it/s]\n",
      "MAE/CA 50.198666: : 860it [00:28, 30.38it/s]\n",
      "MAE/CA 49.350295: : 860it [00:28, 30.08it/s]\n",
      "MAE/CA 48.710841: : 860it [00:29, 29.65it/s]\n",
      "MAE/CA 49.520917: : 860it [00:28, 29.79it/s]\n",
      "MAE/CA 49.074475: : 860it [00:29, 29.58it/s]\n",
      "MAE/CA 49.108368: : 860it [00:29, 29.45it/s]\n",
      "MAE/CA 49.026972: : 860it [00:28, 30.22it/s]\n",
      "MAE/CA 49.650784: : 3it [00:00, 28.94it/s]"
     ]
    },
    {
     "name": "stdout",
     "output_type": "stream",
     "text": [
      "Epoch    67: reducing learning rate of group 0 to 9.7656e-07.\n"
     ]
    },
    {
     "name": "stderr",
     "output_type": "stream",
     "text": [
      "MAE/CA 46.554962: : 860it [00:29, 29.44it/s]\n",
      "MAE/CA 46.455642: : 860it [00:28, 30.20it/s]\n",
      "MAE/CA 46.322601: : 860it [00:28, 29.76it/s]\n",
      "MAE/CA 46.030036: : 860it [00:28, 29.70it/s]\n",
      "MAE/CA 46.586703: : 860it [00:28, 30.32it/s]\n",
      "MAE/CA 45.962794: : 860it [00:28, 29.93it/s]\n",
      "MAE/CA 46.081492: : 860it [00:28, 30.17it/s]\n",
      "MAE/CA 45.802411: : 860it [00:28, 30.02it/s]\n",
      "MAE/CA 45.981452: : 860it [00:28, 29.86it/s]\n",
      "MAE/CA 46.047284: : 860it [00:27, 30.79it/s]\n",
      "MAE/CA 45.831753: : 860it [00:27, 31.24it/s]\n",
      "MAE/CA 45.673474: : 860it [00:27, 31.64it/s]\n",
      "MAE/CA 45.729802: : 860it [00:28, 30.44it/s]\n",
      "MAE/CA 45.517220: : 860it [00:26, 32.59it/s]\n",
      "MAE/CA 45.611710: : 860it [00:27, 31.30it/s]\n",
      "MAE/CA 45.427708: : 860it [00:28, 30.15it/s]\n",
      "MAE/CA 45.334091: : 860it [00:28, 30.27it/s]\n",
      "MAE/CA 45.284536: : 860it [00:28, 30.19it/s]\n",
      "MAE/CA 45.266596: : 860it [00:28, 30.17it/s]\n",
      "MAE/CA 45.251322: : 860it [00:28, 30.18it/s]\n",
      "MAE/CA 45.083523: : 860it [00:28, 30.08it/s]\n",
      "MAE/CA 44.741050: : 860it [00:27, 31.03it/s]\n",
      "MAE/CA 44.791510: : 860it [00:28, 30.03it/s]\n",
      "MAE/CA 45.002366: : 860it [00:28, 30.20it/s]\n",
      "MAE/CA 44.438807: : 860it [00:27, 31.16it/s]\n",
      "MAE/CA 44.518658: : 860it [00:27, 31.59it/s]\n",
      "MAE/CA 44.393909: : 860it [00:28, 30.11it/s]\n",
      "MAE/CA 44.236689: : 860it [00:28, 30.22it/s]\n",
      "MAE/CA 44.602518: : 860it [00:28, 30.02it/s]\n",
      "MAE/CA 44.665853: : 860it [00:27, 30.92it/s]\n",
      "MAE/CA 43.920239: : 860it [00:28, 30.22it/s]\n",
      "MAE/CA 43.994762: : 860it [00:28, 29.98it/s]\n",
      "MAE/CA 44.297380: : 860it [00:28, 30.18it/s]\n",
      "MAE/CA 43.953417: : 860it [00:27, 31.21it/s]\n",
      "MAE/CA 44.488843: : 860it [00:28, 30.05it/s]\n",
      "MAE/CA 38.713751: : 3it [00:00, 28.75it/s]"
     ]
    },
    {
     "name": "stdout",
     "output_type": "stream",
     "text": [
      "Epoch   102: reducing learning rate of group 0 to 4.8828e-07.\n"
     ]
    },
    {
     "name": "stderr",
     "output_type": "stream",
     "text": [
      "MAE/CA 42.926700: : 860it [00:28, 30.31it/s]\n",
      "MAE/CA 42.887575: : 860it [00:28, 30.21it/s]\n",
      "MAE/CA 42.899702: : 860it [00:28, 30.16it/s]\n",
      "MAE/CA 42.863640: : 860it [00:28, 30.49it/s]\n",
      "MAE/CA 42.887905: : 860it [00:28, 30.15it/s]\n",
      "MAE/CA 42.909999: : 860it [00:27, 31.01it/s]\n",
      "MAE/CA 42.624647: : 860it [00:28, 30.35it/s]\n",
      "MAE/CA 42.743920: : 860it [00:28, 30.32it/s]\n",
      "MAE/CA 42.778102: : 860it [00:28, 30.55it/s]\n",
      "MAE/CA 42.644396: : 860it [00:28, 30.31it/s]\n",
      "MAE/CA 42.782712: : 860it [00:28, 30.19it/s]\n",
      "MAE/CA 44.514022: : 3it [00:00, 28.29it/s]"
     ]
    },
    {
     "name": "stdout",
     "output_type": "stream",
     "text": [
      "Epoch   113: reducing learning rate of group 0 to 2.4414e-07.\n"
     ]
    },
    {
     "name": "stderr",
     "output_type": "stream",
     "text": [
      "MAE/CA 42.007517: : 860it [00:28, 30.06it/s]\n",
      "MAE/CA 41.938400: : 860it [00:28, 30.05it/s]\n",
      "MAE/CA 41.970625: : 860it [00:28, 30.26it/s]\n",
      "MAE/CA 41.929128: : 860it [00:28, 30.51it/s]\n",
      "MAE/CA 41.870809: : 860it [00:28, 30.12it/s]\n",
      "MAE/CA 41.914580: : 860it [00:28, 30.34it/s]\n",
      "MAE/CA 41.948352: : 860it [00:28, 30.20it/s]\n",
      "MAE/CA 41.992890: : 860it [00:27, 30.72it/s]\n",
      "MAE/CA 41.878291: : 860it [00:27, 31.21it/s]\n",
      "MAE/CA 41.222757: : 4it [00:00, 32.07it/s]"
     ]
    },
    {
     "name": "stdout",
     "output_type": "stream",
     "text": [
      "Epoch   122: reducing learning rate of group 0 to 1.2207e-07.\n"
     ]
    },
    {
     "name": "stderr",
     "output_type": "stream",
     "text": [
      "MAE/CA 41.546769: : 860it [00:28, 30.64it/s]\n",
      "MAE/CA 41.488531: : 860it [00:28, 30.70it/s]\n",
      "MAE/CA 41.499975: : 860it [00:27, 31.80it/s]\n",
      "MAE/CA 41.491273: : 860it [00:27, 30.78it/s]\n",
      "MAE/CA 41.409851: : 860it [00:28, 30.14it/s]\n",
      "MAE/CA 41.550671: : 860it [00:28, 30.07it/s]\n",
      "MAE/CA 41.424678: : 860it [00:28, 30.66it/s]\n",
      "MAE/CA 41.449548: : 860it [00:28, 30.08it/s]\n",
      "MAE/CA 41.464037: : 860it [00:28, 30.06it/s]\n",
      "MAE/CA 36.421310: : 3it [00:00, 28.77it/s]"
     ]
    },
    {
     "name": "stdout",
     "output_type": "stream",
     "text": [
      "Epoch   131: reducing learning rate of group 0 to 6.1035e-08.\n"
     ]
    },
    {
     "name": "stderr",
     "output_type": "stream",
     "text": [
      "MAE/CA 41.238484: : 860it [00:28, 30.64it/s]\n",
      "MAE/CA 41.235602: : 860it [00:28, 30.06it/s]\n",
      "MAE/CA 41.211464: : 860it [00:28, 30.32it/s]\n",
      "MAE/CA 41.249015: : 860it [00:28, 30.19it/s]\n",
      "MAE/CA 41.208383: : 860it [00:27, 31.10it/s]\n",
      "MAE/CA 41.186187: : 860it [00:27, 30.78it/s]\n",
      "MAE/CA 41.243497: : 860it [00:28, 30.24it/s]\n",
      "MAE/CA 41.250133: : 860it [00:28, 30.22it/s]\n",
      "MAE/CA 41.180584: : 860it [00:28, 30.30it/s]\n",
      "MAE/CA 41.233380: : 860it [00:28, 30.07it/s]\n",
      "MAE/CA 41.179825: : 860it [00:28, 30.17it/s]\n",
      "MAE/CA 41.201961: : 860it [00:28, 30.46it/s]\n",
      "MAE/CA 41.189457: : 860it [00:28, 30.25it/s]\n",
      "MAE/CA 39.181924: : 3it [00:00, 28.44it/s]"
     ]
    },
    {
     "name": "stdout",
     "output_type": "stream",
     "text": [
      "Epoch   144: reducing learning rate of group 0 to 3.0518e-08.\n"
     ]
    },
    {
     "name": "stderr",
     "output_type": "stream",
     "text": [
      "MAE/CA 41.091128: : 860it [00:28, 30.14it/s]\n",
      "MAE/CA 41.085791: : 860it [00:28, 30.41it/s]\n",
      "MAE/CA 41.074552: : 860it [00:27, 30.83it/s]\n",
      "MAE/CA 41.078271: : 860it [00:28, 30.37it/s]\n",
      "MAE/CA 41.092762: : 860it [00:27, 31.26it/s]\n",
      "MAE/CA 41.062130: : 860it [00:28, 30.14it/s]\n",
      "MAE/CA 41.080654: : 860it [00:28, 30.21it/s]\n",
      "MAE/CA 41.073961: : 860it [00:28, 30.13it/s]\n",
      "MAE/CA 41.058163: : 860it [00:28, 30.25it/s]\n",
      "MAE/CA 41.058636: : 860it [00:28, 30.01it/s]\n",
      "MAE/CA 37.512934: : 3it [00:00, 29.19it/s]"
     ]
    },
    {
     "name": "stdout",
     "output_type": "stream",
     "text": [
      "Epoch   154: reducing learning rate of group 0 to 1.5259e-08.\n"
     ]
    },
    {
     "name": "stderr",
     "output_type": "stream",
     "text": [
      "MAE/CA 40.984478: : 860it [00:28, 30.22it/s]\n",
      "MAE/CA 41.011334: : 860it [00:28, 30.30it/s]\n",
      "MAE/CA 40.999743: : 860it [00:28, 30.10it/s]\n",
      "MAE/CA 41.002900: : 860it [00:28, 30.24it/s]\n",
      "MAE/CA 41.001175: : 860it [00:28, 30.06it/s]\n",
      "MAE/CA 41.006427: : 860it [00:28, 30.17it/s]\n",
      "MAE/CA 40.985799: : 860it [00:28, 30.21it/s]\n",
      "MAE/CA 40.992688: : 860it [00:27, 31.39it/s]\n",
      "MAE/CA 41.002267: : 860it [00:27, 31.20it/s]\n",
      "MAE/CA 41.005550: : 860it [00:27, 31.46it/s]\n",
      "MAE/CA 40.995493: : 860it [00:28, 30.24it/s]\n",
      "MAE/CA 40.996130: : 860it [00:28, 30.27it/s]\n",
      "MAE/CA 40.969406: : 860it [00:28, 30.04it/s]\n",
      "MAE/CA 40.993145: : 860it [00:27, 31.34it/s]\n",
      "MAE/CA 40.988431: : 860it [00:28, 30.40it/s]\n",
      "MAE/CA 40.983035: : 860it [00:27, 31.69it/s]\n",
      "MAE/CA 40.968317: : 860it [00:27, 31.24it/s]\n",
      "MAE/CA 41.015442: : 860it [00:27, 31.04it/s]\n",
      "MAE/CA 40.978364: : 860it [00:28, 30.69it/s]\n",
      "MAE/CA 40.986892: : 860it [00:27, 30.90it/s]\n",
      "MAE/CA 40.992684: : 860it [00:28, 30.19it/s]\n",
      "MAE/CA 40.972017: : 860it [00:28, 30.29it/s]\n",
      "MAE/CA 40.987025: : 860it [00:28, 30.18it/s]\n",
      "MAE/CA 40.997720: : 860it [00:28, 30.16it/s]\n",
      "MAE/CA 40.965574: : 860it [00:28, 30.17it/s]\n",
      "MAE/CA 40.982791: : 860it [00:28, 30.38it/s]\n",
      "MAE/CA 40.993162: : 860it [00:27, 31.02it/s]\n",
      "MAE/CA 40.989218: : 860it [00:28, 29.97it/s]\n",
      "MAE/CA 40.966470: : 860it [00:27, 30.74it/s]\n",
      "MAE/CA 40.963638: : 860it [00:28, 30.36it/s]\n",
      "MAE/CA 40.963934: : 860it [00:28, 30.27it/s]\n",
      "MAE/CA 40.965979: : 860it [00:28, 30.22it/s]\n",
      "MAE/CA 40.975220: : 860it [00:28, 30.20it/s]\n",
      "MAE/CA 40.970541: : 860it [00:28, 30.23it/s]\n",
      "MAE/CA 40.963191: : 860it [00:28, 30.19it/s]\n",
      "MAE/CA 40.948148: : 860it [00:28, 30.05it/s]\n",
      "MAE/CA 40.962532: : 860it [00:27, 31.56it/s]\n",
      "MAE/CA 40.970348: : 860it [00:28, 30.25it/s]\n",
      "MAE/CA 40.960942: : 860it [00:28, 30.19it/s]\n",
      "MAE/CA 40.972897: : 860it [00:27, 30.96it/s]\n",
      "MAE/CA 40.963076: : 860it [00:28, 30.43it/s]\n",
      "MAE/CA 40.974750: : 860it [00:28, 30.56it/s]\n",
      "MAE/CA 40.954876: : 860it [00:28, 30.26it/s]\n",
      "MAE/CA 40.969644: : 860it [00:28, 30.32it/s]\n",
      "MAE/CA 40.969482: : 860it [00:26, 32.14it/s]\n",
      "MAE/CA 40.959433: : 860it [00:28, 30.46it/s]\n",
      "MAE/CA 40.946465: : 860it [00:28, 30.25it/s]\n",
      "MAE/CA 40.954577: : 860it [00:28, 30.47it/s]\n",
      "MAE/CA 40.957901: : 860it [00:28, 30.24it/s]\n",
      "MAE/CA 40.958076: : 860it [00:28, 30.05it/s]\n",
      "MAE/CA 40.971742: : 860it [00:28, 29.96it/s]\n",
      "MAE/CA 40.957488: : 860it [00:28, 29.82it/s]\n",
      "MAE/CA 40.951207: : 860it [00:28, 30.24it/s]\n",
      "MAE/CA 40.946663: : 860it [00:28, 30.31it/s]\n",
      "MAE/CA 40.957722: : 860it [00:28, 30.35it/s]\n",
      "MAE/CA 40.937232: : 860it [00:28, 30.29it/s]\n",
      "MAE/CA 40.946739: : 860it [00:28, 30.25it/s]\n",
      "MAE/CA 40.944750: : 860it [00:28, 30.26it/s]\n",
      "MAE/CA 40.952096: : 860it [00:27, 31.33it/s]\n",
      "MAE/CA 40.945372: : 860it [00:27, 31.48it/s]\n",
      "MAE/CA 40.949155: : 860it [00:26, 31.99it/s]\n",
      "MAE/CA 40.932589: : 860it [00:28, 30.09it/s]\n",
      "MAE/CA 40.940215: : 860it [00:28, 30.16it/s]\n",
      "MAE/CA 40.936420: : 860it [00:28, 30.25it/s]\n",
      "MAE/CA 40.941881: : 860it [00:28, 30.41it/s]\n",
      "MAE/CA 40.927148: : 860it [00:28, 30.50it/s]\n",
      "MAE/CA 40.937200: : 860it [00:28, 29.88it/s]\n",
      "MAE/CA 40.942466: : 860it [00:28, 30.27it/s]\n",
      "MAE/CA 40.939455: : 860it [00:28, 30.28it/s]\n",
      "MAE/CA 40.932848: : 860it [00:28, 30.13it/s]\n",
      "MAE/CA 40.943987: : 860it [00:28, 30.17it/s]\n",
      "MAE/CA 40.941333: : 860it [00:28, 30.26it/s]\n",
      "MAE/CA 40.932548: : 860it [00:28, 30.32it/s]\n",
      "MAE/CA 40.927530: : 860it [00:28, 30.22it/s]\n",
      "MAE/CA 40.917908: : 860it [00:28, 30.31it/s]\n",
      "MAE/CA 40.921045: : 860it [00:28, 30.19it/s]\n",
      "MAE/CA 40.929393: : 860it [00:27, 31.10it/s]\n",
      "MAE/CA 40.912981: : 860it [00:28, 30.61it/s]\n",
      "MAE/CA 40.941523: : 860it [00:28, 30.09it/s]\n",
      "MAE/CA 40.915702: : 860it [00:27, 31.52it/s]\n",
      "MAE/CA 40.914082: : 860it [00:28, 30.17it/s]\n",
      "MAE/CA 40.943078: : 860it [00:28, 30.44it/s]\n",
      "MAE/CA 40.917961: : 860it [00:28, 30.61it/s]\n",
      "MAE/CA 40.930281: : 860it [00:28, 30.31it/s]\n",
      "MAE/CA 40.922496: : 860it [00:28, 30.61it/s]\n",
      "MAE/CA 40.911414: : 860it [00:28, 30.37it/s]\n",
      "MAE/CA 40.922362: : 860it [00:28, 30.22it/s]\n",
      "MAE/CA 40.921470: : 860it [00:27, 31.22it/s]\n",
      "MAE/CA 40.916855: : 860it [00:27, 31.15it/s]\n",
      "MAE/CA 40.906614: : 860it [00:28, 30.11it/s]\n",
      "MAE/CA 40.919997: : 860it [00:28, 30.18it/s]\n",
      "MAE/CA 40.921581: : 860it [00:28, 29.80it/s]\n",
      "MAE/CA 40.915223: : 860it [00:28, 30.16it/s]\n",
      "MAE/CA 40.911710: : 860it [00:28, 30.12it/s]\n",
      "MAE/CA 40.914432: : 860it [00:28, 30.01it/s]\n",
      "MAE/CA 40.906068: : 860it [00:28, 30.25it/s]\n",
      "MAE/CA 40.906710: : 860it [00:28, 30.22it/s]\n",
      "MAE/CA 40.928391: : 860it [00:28, 30.04it/s]\n",
      "MAE/CA 40.907752: : 860it [00:26, 31.93it/s]\n",
      "MAE/CA 40.909300: : 860it [00:26, 31.98it/s]\n",
      "MAE/CA 40.894644: : 860it [00:28, 29.89it/s]\n",
      "MAE/CA 40.902045: : 860it [00:28, 30.16it/s]\n",
      "MAE/CA 40.898496: : 860it [00:28, 29.99it/s]\n",
      "MAE/CA 40.902293: : 860it [00:28, 30.63it/s]\n",
      "MAE/CA 40.895294: : 860it [00:28, 30.11it/s]\n",
      "MAE/CA 40.901665: : 860it [00:28, 30.33it/s]\n",
      "MAE/CA 40.887551: : 860it [00:28, 30.23it/s]\n",
      "MAE/CA 40.909040: : 860it [00:28, 30.14it/s]\n",
      "MAE/CA 40.889032: : 860it [00:27, 30.96it/s]\n",
      "MAE/CA 40.891283: : 860it [00:28, 29.93it/s]\n",
      "MAE/CA 40.880785: : 860it [00:28, 30.66it/s]\n",
      "MAE/CA 40.890245: : 860it [00:27, 30.75it/s]\n",
      "MAE/CA 40.881529: : 860it [00:27, 31.85it/s]\n",
      "MAE/CA 40.893875: : 860it [00:28, 30.37it/s]\n",
      "MAE/CA 40.885660: : 860it [00:28, 30.27it/s]\n",
      "MAE/CA 40.891667: : 860it [00:28, 30.50it/s]\n",
      "MAE/CA 40.885176: : 860it [00:28, 30.30it/s]\n",
      "MAE/CA 40.871996: : 860it [00:26, 32.34it/s]\n",
      "MAE/CA 40.898552: : 860it [00:28, 30.44it/s]\n",
      "MAE/CA 40.875471: : 860it [00:28, 30.55it/s]\n",
      "MAE/CA 40.884322: : 860it [00:28, 30.63it/s]\n",
      "MAE/CA 40.892477: : 860it [00:27, 30.93it/s]\n",
      "MAE/CA 40.884586: : 860it [00:28, 30.15it/s]\n",
      "MAE/CA 40.856901: : 860it [00:28, 30.15it/s]\n",
      "MAE/CA 40.867047: : 860it [00:27, 31.36it/s]\n",
      "MAE/CA 40.884570: : 860it [00:27, 31.09it/s]\n",
      "MAE/CA 40.875401: : 860it [00:28, 30.40it/s]\n",
      "MAE/CA 40.874387: : 860it [00:28, 30.21it/s]\n",
      "MAE/CA 40.862462: : 860it [00:28, 29.88it/s]\n",
      "MAE/CA 40.879716: : 860it [00:28, 30.14it/s]\n",
      "MAE/CA 40.873203: : 860it [00:28, 29.71it/s]\n",
      "MAE/CA 40.857770: : 860it [00:28, 30.27it/s]\n",
      "MAE/CA 40.889427: : 860it [00:27, 31.44it/s]\n",
      "MAE/CA 40.879153: : 860it [00:28, 30.64it/s]\n",
      "MAE/CA 40.876321: : 860it [00:28, 30.02it/s]\n",
      "MAE/CA 40.866829: : 860it [00:28, 30.14it/s]\n",
      "MAE/CA 40.849173: : 860it [00:28, 30.01it/s]\n",
      "MAE/CA 40.867150: : 860it [00:28, 30.61it/s]\n",
      "MAE/CA 40.873622: : 860it [00:28, 30.28it/s]\n",
      "MAE/CA 40.874292: : 860it [00:28, 30.31it/s]\n",
      "MAE/CA 40.857329: : 860it [00:27, 30.87it/s]\n",
      "MAE/CA 40.854522: : 860it [00:28, 30.07it/s]\n",
      "MAE/CA 40.873798: : 860it [00:28, 30.61it/s]\n",
      "MAE/CA 40.840632: : 860it [00:28, 30.29it/s]\n",
      "MAE/CA 40.847117: : 860it [00:28, 29.94it/s]\n",
      "MAE/CA 40.850156: : 860it [00:28, 30.15it/s]\n",
      "MAE/CA 40.855021: : 860it [00:28, 30.61it/s]\n",
      "MAE/CA 40.857847: : 860it [00:28, 30.53it/s]\n",
      "MAE/CA 40.851409: : 860it [00:28, 29.99it/s]\n",
      "MAE/CA 40.848136: : 860it [00:28, 30.12it/s]\n",
      "MAE/CA 40.858539: : 860it [00:28, 30.21it/s]\n",
      "MAE/CA 40.867302: : 860it [00:28, 30.62it/s]\n",
      "MAE/CA 40.852841: : 860it [00:28, 30.18it/s]\n",
      "MAE/CA 40.830817: : 860it [00:28, 30.26it/s]\n",
      "MAE/CA 40.848738: : 860it [00:28, 30.13it/s]\n",
      "MAE/CA 40.842650: : 860it [00:28, 30.26it/s]\n",
      "MAE/CA 40.846284: : 860it [00:28, 30.19it/s]\n",
      "MAE/CA 40.844023: : 860it [00:28, 30.26it/s]\n",
      "MAE/CA 40.854394: : 860it [00:28, 29.98it/s]\n",
      "MAE/CA 40.842654: : 860it [00:28, 30.32it/s]\n",
      "MAE/CA 40.830002: : 860it [00:28, 30.32it/s]\n",
      "MAE/CA 40.845407: : 860it [00:28, 30.16it/s]\n",
      "MAE/CA 40.845012: : 860it [00:28, 30.27it/s]\n",
      "MAE/CA 40.855663: : 860it [00:28, 30.09it/s]\n",
      "MAE/CA 40.829405: : 860it [00:28, 30.30it/s]\n",
      "MAE/CA 40.860549: : 860it [00:28, 30.16it/s]\n",
      "MAE/CA 40.853567: : 860it [00:28, 30.11it/s]\n",
      "MAE/CA 40.827554: : 860it [00:28, 30.07it/s]\n",
      "MAE/CA 40.839452: : 860it [00:28, 29.81it/s]\n",
      "MAE/CA 40.826547: : 860it [00:28, 30.20it/s]\n",
      "MAE/CA 40.830062: : 860it [00:27, 31.38it/s]\n",
      "MAE/CA 40.844760: : 860it [00:28, 30.41it/s]\n",
      "MAE/CA 40.837788: : 860it [00:28, 30.14it/s]\n",
      "MAE/CA 40.848822: : 860it [00:28, 30.40it/s]\n",
      "MAE/CA 40.820567: : 860it [00:27, 30.86it/s]\n",
      "MAE/CA 40.848248: : 860it [00:27, 30.85it/s]\n",
      "MAE/CA 40.831853: : 860it [00:27, 30.80it/s]\n",
      "MAE/CA 40.832958: : 860it [00:27, 31.32it/s]\n",
      "MAE/CA 40.820227: : 860it [00:28, 30.31it/s]\n",
      "MAE/CA 40.833367: : 860it [00:28, 30.26it/s]\n",
      "MAE/CA 40.818455: : 860it [00:28, 30.18it/s]\n",
      "MAE/CA 40.823065: : 860it [00:28, 30.45it/s]\n"
     ]
    },
    {
     "name": "stderr",
     "output_type": "stream",
     "text": [
      "MAE/CA 40.821637: : 860it [00:28, 30.20it/s]\n",
      "MAE/CA 40.833683: : 860it [00:28, 30.68it/s]\n",
      "MAE/CA 40.837081: : 860it [00:28, 30.55it/s]\n",
      "MAE/CA 40.829015: : 860it [00:28, 30.42it/s]\n",
      "MAE/CA 40.793577: : 860it [00:26, 31.97it/s]\n",
      "MAE/CA 40.825576: : 860it [00:28, 30.19it/s]\n",
      "MAE/CA 40.813993: : 860it [00:28, 30.17it/s]\n",
      "MAE/CA 40.818861: : 860it [00:28, 29.97it/s]\n",
      "MAE/CA 40.815820: : 860it [00:28, 30.15it/s]\n",
      "MAE/CA 40.819121: : 860it [00:28, 30.06it/s]\n",
      "MAE/CA 40.800072: : 860it [00:26, 32.07it/s]\n",
      "MAE/CA 40.827596: : 860it [00:28, 30.59it/s]\n",
      "MAE/CA 40.820761: : 860it [00:28, 30.29it/s]\n",
      "MAE/CA 40.798005: : 860it [00:27, 31.43it/s]\n",
      "MAE/CA 40.821764: : 860it [00:28, 30.14it/s]\n",
      "MAE/CA 40.806848: : 860it [00:28, 30.22it/s]\n",
      "MAE/CA 40.787601: : 860it [00:28, 30.26it/s]\n",
      "MAE/CA 40.812266: : 860it [00:28, 30.58it/s]\n",
      "MAE/CA 40.813903: : 860it [00:28, 30.16it/s]\n",
      "MAE/CA 40.800989: : 860it [00:28, 30.15it/s]\n",
      "MAE/CA 40.800358: : 860it [00:28, 30.03it/s]\n",
      "MAE/CA 40.804379: : 860it [00:28, 30.08it/s]\n",
      "MAE/CA 40.828670: : 860it [00:28, 29.80it/s]\n",
      "MAE/CA 40.790765: : 860it [00:28, 30.62it/s]\n",
      "MAE/CA 40.789649: : 860it [00:28, 30.66it/s]\n",
      "MAE/CA 40.783127: : 860it [00:28, 30.18it/s]\n",
      "MAE/CA 40.808045: : 860it [00:28, 30.21it/s]\n",
      "MAE/CA 40.810275: : 860it [00:28, 29.93it/s]\n",
      "MAE/CA 40.788249: : 860it [00:28, 29.68it/s]\n",
      "MAE/CA 40.785578: : 860it [00:28, 30.64it/s]\n",
      "MAE/CA 40.776793: : 860it [00:28, 30.38it/s]\n",
      "MAE/CA 40.803112: : 860it [00:28, 30.28it/s]\n",
      "MAE/CA 40.809459: : 860it [00:28, 30.35it/s]\n",
      "MAE/CA 40.794306: : 860it [00:27, 30.84it/s]\n",
      "MAE/CA 40.780612: : 860it [00:27, 31.28it/s]\n",
      "MAE/CA 40.784897: : 860it [00:28, 30.22it/s]\n",
      "MAE/CA 40.782964: : 860it [00:28, 30.24it/s]\n",
      "MAE/CA 40.793628: : 860it [00:26, 32.54it/s]\n",
      "MAE/CA 40.783718: : 860it [00:28, 30.13it/s]\n",
      "MAE/CA 40.778265: : 860it [00:27, 31.06it/s]\n",
      "MAE/CA 40.769233: : 860it [00:28, 30.40it/s]\n",
      "MAE/CA 40.783306: : 860it [00:28, 30.01it/s]\n",
      "MAE/CA 40.777420: : 860it [00:28, 30.62it/s]\n",
      "MAE/CA 40.788364: : 860it [00:27, 31.17it/s]\n",
      "MAE/CA 40.775021: : 860it [00:28, 30.45it/s]\n",
      "MAE/CA 40.785395: : 860it [00:28, 30.16it/s]\n",
      "MAE/CA 40.776882: : 860it [00:28, 30.36it/s]\n",
      "MAE/CA 40.769513: : 860it [00:28, 30.18it/s]\n",
      "MAE/CA 40.791827: : 860it [00:28, 30.39it/s]\n",
      "MAE/CA 40.766155: : 860it [00:28, 30.34it/s]\n",
      "MAE/CA 40.770364: : 860it [00:27, 31.12it/s]\n",
      "MAE/CA 40.777558: : 860it [00:28, 30.10it/s]\n",
      "MAE/CA 40.765999: : 860it [00:28, 30.11it/s]\n",
      "MAE/CA 40.778012: : 860it [00:28, 29.94it/s]\n",
      "MAE/CA 40.773146: : 860it [00:28, 30.19it/s]\n",
      "MAE/CA 40.759911: : 860it [00:28, 30.26it/s]\n",
      "MAE/CA 40.770785: : 860it [00:26, 32.05it/s]\n",
      "MAE/CA 40.768627: : 860it [00:28, 30.19it/s]\n",
      "MAE/CA 40.767582: : 860it [00:28, 30.18it/s]\n",
      "MAE/CA 40.766581: : 860it [00:27, 30.85it/s]\n",
      "MAE/CA 40.785631: : 860it [00:28, 29.89it/s]\n",
      "MAE/CA 40.764612: : 860it [00:27, 31.09it/s]\n",
      "MAE/CA 40.760443: : 860it [00:28, 30.43it/s]\n",
      "MAE/CA 40.756289: : 860it [00:28, 30.01it/s]\n",
      "MAE/CA 40.775598: : 860it [00:28, 29.94it/s]\n",
      "MAE/CA 40.746793: : 860it [00:28, 30.58it/s]\n",
      "MAE/CA 40.768447: : 860it [00:28, 30.29it/s]\n",
      "MAE/CA 40.776699: : 860it [00:28, 30.25it/s]\n",
      "MAE/CA 40.744890: : 860it [00:28, 30.48it/s]\n",
      "MAE/CA 40.735260: : 860it [00:28, 29.88it/s]\n",
      "MAE/CA 40.757717: : 860it [00:28, 29.84it/s]\n",
      "MAE/CA 40.741882: : 860it [00:28, 30.11it/s]\n",
      "MAE/CA 40.742775: : 860it [00:28, 30.05it/s]\n",
      "MAE/CA 40.774858: : 860it [00:26, 32.03it/s]\n",
      "MAE/CA 40.741368: : 860it [00:28, 30.19it/s]\n",
      "MAE/CA 40.746374: : 860it [00:28, 30.37it/s]\n",
      "MAE/CA 40.743851: : 860it [00:28, 29.85it/s]\n",
      "MAE/CA 40.735729: : 860it [00:28, 30.09it/s]\n",
      "MAE/CA 40.750759: : 860it [00:28, 30.51it/s]\n",
      "MAE/CA 40.748620: : 860it [00:27, 31.10it/s]\n",
      "MAE/CA 40.741139: : 860it [00:28, 30.08it/s]\n",
      "MAE/CA 40.719470: : 860it [00:28, 30.29it/s]\n",
      "MAE/CA 40.740807: : 860it [00:28, 30.30it/s]\n",
      "MAE/CA 40.746590: : 860it [00:28, 30.16it/s]\n",
      "MAE/CA 40.735257: : 860it [00:27, 31.31it/s]\n",
      "MAE/CA 40.736623: : 860it [00:27, 31.17it/s]\n",
      "MAE/CA 40.742319: : 860it [00:28, 30.29it/s]\n",
      "MAE/CA 40.728566: : 860it [00:28, 30.41it/s]\n",
      "MAE/CA 40.733420: : 860it [00:28, 30.10it/s]\n",
      "MAE/CA 40.731571: : 860it [00:28, 30.06it/s]\n",
      "MAE/CA 40.741971: : 860it [00:28, 30.11it/s]\n",
      "MAE/CA 40.741611: : 860it [00:28, 29.94it/s]\n",
      "MAE/CA 40.738403: : 860it [00:28, 29.82it/s]\n",
      "MAE/CA 40.715691: : 860it [00:28, 30.44it/s]\n",
      "MAE/CA 40.729496: : 860it [00:28, 29.97it/s]\n",
      "MAE/CA 40.730451: : 860it [00:28, 30.48it/s]\n",
      "MAE/CA 40.715775: : 860it [00:28, 30.51it/s]\n",
      "MAE/CA 40.716327: : 860it [00:28, 30.20it/s]\n",
      "MAE/CA 40.731274: : 860it [00:28, 30.35it/s]\n",
      "MAE/CA 40.731789: : 860it [00:28, 30.22it/s]\n",
      "MAE/CA 40.736836: : 860it [00:28, 30.15it/s]\n",
      "MAE/CA 40.720974: : 860it [00:28, 30.09it/s]\n",
      "MAE/CA 40.728280: : 860it [00:28, 30.16it/s]\n",
      "MAE/CA 40.727458: : 860it [00:27, 31.10it/s]\n",
      "MAE/CA 40.742306: : 860it [00:27, 31.08it/s]\n",
      "MAE/CA 40.710795: : 860it [00:28, 30.20it/s]\n",
      "MAE/CA 40.718018: : 860it [00:28, 29.93it/s]\n",
      "MAE/CA 40.704514: : 860it [00:28, 29.95it/s]\n",
      "MAE/CA 40.731175: : 860it [00:28, 29.93it/s]\n",
      "MAE/CA 40.713206: : 860it [00:28, 30.10it/s]\n",
      "MAE/CA 40.710374: : 860it [00:28, 29.99it/s]\n",
      "MAE/CA 40.722572: : 860it [00:28, 30.38it/s]\n",
      "MAE/CA 40.708636: : 860it [00:28, 30.11it/s]\n",
      "MAE/CA 40.723535: : 860it [00:28, 30.09it/s]\n",
      "MAE/CA 40.698910: : 860it [00:27, 31.56it/s]\n",
      "MAE/CA 40.698444: : 860it [00:28, 30.37it/s]\n",
      "MAE/CA 40.691229: : 860it [00:28, 30.21it/s]\n",
      "MAE/CA 40.705685: : 860it [00:27, 30.79it/s]\n",
      "MAE/CA 40.703622: : 860it [00:28, 30.38it/s]\n",
      "MAE/CA 40.693760: : 860it [00:28, 30.16it/s]\n",
      "MAE/CA 40.714041: : 860it [00:27, 30.94it/s]\n",
      "MAE/CA 40.688642: : 860it [00:28, 30.40it/s]\n",
      "MAE/CA 40.705730: : 860it [00:28, 30.28it/s]\n",
      "MAE/CA 40.706134: : 860it [00:28, 30.30it/s]\n",
      "MAE/CA 40.695335: : 860it [00:27, 31.02it/s]\n",
      "MAE/CA 40.694455: : 860it [00:29, 28.94it/s]\n",
      "MAE/CA 40.711585: : 860it [00:29, 29.55it/s]\n",
      "MAE/CA 40.691221: : 860it [00:29, 29.24it/s]\n",
      "MAE/CA 40.680846: : 860it [00:29, 29.43it/s]\n",
      "MAE/CA 40.698078: : 860it [00:29, 29.30it/s]\n",
      "MAE/CA 40.696540: : 860it [00:29, 28.93it/s]\n",
      "MAE/CA 40.703199: : 860it [00:29, 29.52it/s]\n",
      "MAE/CA 40.677242: : 860it [00:29, 29.42it/s]\n",
      "MAE/CA 40.703740: : 860it [00:29, 29.40it/s]\n",
      "MAE/CA 40.682090: : 860it [00:29, 29.36it/s]\n",
      "MAE/CA 40.693407: : 860it [00:29, 29.26it/s]\n",
      "MAE/CA 40.701839: : 860it [00:29, 29.36it/s]\n",
      "MAE/CA 40.694268: : 860it [00:29, 29.42it/s]\n",
      "MAE/CA 40.706909: : 860it [00:29, 29.58it/s]\n",
      "MAE/CA 40.686755: : 860it [00:28, 29.93it/s]\n",
      "MAE/CA 40.679657: : 860it [00:29, 29.28it/s]\n",
      "MAE/CA 40.688730: : 860it [00:28, 29.70it/s]\n",
      "MAE/CA 40.690903: : 860it [00:29, 29.03it/s]\n",
      "MAE/CA 40.688228: : 860it [00:30, 28.19it/s]\n",
      "MAE/CA 40.697885: : 860it [00:29, 29.20it/s]\n",
      "MAE/CA 40.671156: : 860it [00:29, 29.03it/s]\n",
      "MAE/CA 40.685006: : 860it [00:29, 29.22it/s]\n",
      "MAE/CA 40.671344: : 860it [00:30, 28.31it/s]\n",
      "MAE/CA 40.668177: : 860it [00:28, 29.75it/s]\n",
      "MAE/CA 40.670098: : 860it [00:29, 29.11it/s]\n",
      "MAE/CA 40.660756: : 860it [00:29, 29.27it/s]\n",
      "MAE/CA 40.684201: : 860it [00:29, 29.12it/s]\n",
      "MAE/CA 40.692001: : 860it [00:29, 28.83it/s]\n",
      "MAE/CA 40.677400: : 860it [00:29, 29.34it/s]\n",
      "MAE/CA 40.654726: : 860it [00:29, 29.63it/s]\n",
      "MAE/CA 40.669096: : 860it [00:29, 29.57it/s]\n",
      "MAE/CA 40.659930: : 860it [00:30, 28.02it/s]\n",
      "MAE/CA 40.673985: : 860it [00:29, 29.60it/s]\n",
      "MAE/CA 40.667544: : 860it [00:28, 29.70it/s]\n",
      "MAE/CA 40.675651: : 860it [00:28, 30.50it/s]\n",
      "MAE/CA 40.654038: : 860it [00:28, 29.94it/s]\n",
      "MAE/CA 40.672440: : 860it [00:28, 30.31it/s]\n",
      "MAE/CA 40.666224: : 860it [00:28, 30.28it/s]\n",
      "MAE/CA 40.672042: : 860it [00:27, 31.77it/s]\n",
      "MAE/CA 40.654037: : 860it [00:28, 30.23it/s]\n",
      "MAE/CA 40.692459: : 860it [00:28, 30.38it/s]\n",
      "MAE/CA 40.654711: : 860it [00:27, 31.63it/s]\n",
      "MAE/CA 40.647034: : 860it [00:27, 30.96it/s]\n",
      "MAE/CA 40.657702: : 860it [00:26, 32.48it/s]\n",
      "MAE/CA 40.659660: : 860it [00:28, 30.25it/s]\n",
      "MAE/CA 40.674258: : 860it [00:28, 30.23it/s]\n",
      "MAE/CA 40.653541: : 860it [00:28, 30.37it/s]\n",
      "MAE/CA 40.663053: : 860it [00:27, 30.97it/s]\n",
      "MAE/CA 40.653935: : 860it [00:27, 30.72it/s]\n",
      "MAE/CA 40.637190: : 860it [00:28, 29.98it/s]\n",
      "MAE/CA 40.653581: : 860it [00:28, 30.29it/s]\n",
      "MAE/CA 40.659442: : 860it [00:28, 29.91it/s]\n",
      "MAE/CA 40.643051: : 860it [00:28, 30.07it/s]\n",
      "MAE/CA 40.650810: : 860it [00:28, 30.46it/s]\n",
      "MAE/CA 40.637347: : 860it [00:28, 30.30it/s]\n",
      "MAE/CA 40.649649: : 860it [00:28, 30.66it/s]\n",
      "MAE/CA 40.639602: : 860it [00:26, 32.02it/s]\n"
     ]
    },
    {
     "name": "stderr",
     "output_type": "stream",
     "text": [
      "MAE/CA 40.638441: : 860it [00:27, 30.87it/s]\n",
      "MAE/CA 40.631763: : 860it [00:28, 30.48it/s]\n",
      "MAE/CA 40.636997: : 860it [00:28, 30.13it/s]\n",
      "MAE/CA 40.642409: : 860it [00:28, 29.86it/s]\n",
      "MAE/CA 40.638884: : 860it [00:28, 29.77it/s]\n",
      "MAE/CA 40.642665: : 860it [00:29, 28.81it/s]\n",
      "MAE/CA 40.648631: : 860it [00:29, 28.89it/s]\n",
      "MAE/CA 40.626875: : 860it [00:29, 29.53it/s]\n",
      "MAE/CA 40.634348: : 860it [00:29, 29.24it/s]\n",
      "MAE/CA 40.620158: : 860it [00:29, 29.35it/s]\n",
      "MAE/CA 40.621501: : 860it [00:29, 29.07it/s]\n",
      "MAE/CA 40.632107: : 860it [00:29, 29.25it/s]\n",
      "MAE/CA 40.645292: : 860it [00:29, 29.59it/s]\n",
      "MAE/CA 40.647370: : 860it [00:28, 29.84it/s]\n",
      "MAE/CA 40.619040: : 860it [00:28, 29.67it/s]\n",
      "MAE/CA 40.617071: : 860it [00:28, 29.78it/s]\n",
      "MAE/CA 40.622986: : 860it [00:29, 29.28it/s]\n",
      "MAE/CA 40.618622: : 860it [00:29, 29.64it/s]\n",
      "MAE/CA 40.628799: : 860it [00:29, 29.02it/s]\n",
      "MAE/CA 40.617287: : 860it [00:28, 29.75it/s]\n",
      "MAE/CA 40.618477: : 860it [00:28, 29.69it/s]\n",
      "MAE/CA 40.618466: : 860it [00:29, 29.03it/s]\n",
      "MAE/CA 40.608430: : 860it [00:29, 29.24it/s]\n",
      "MAE/CA 40.618682: : 860it [00:29, 29.39it/s]\n",
      "MAE/CA 40.627984: : 860it [00:29, 29.07it/s]\n",
      "MAE/CA 40.615305: : 860it [00:28, 29.93it/s]\n",
      "MAE/CA 40.608090: : 860it [00:29, 29.28it/s]\n",
      "MAE/CA 40.633786: : 860it [00:29, 29.40it/s]\n",
      "MAE/CA 40.616195: : 860it [00:29, 28.89it/s]\n",
      "MAE/CA 40.609683: : 860it [00:29, 28.84it/s]\n",
      "MAE/CA 40.607965: : 860it [00:28, 29.80it/s]\n",
      "MAE/CA 40.611667: : 860it [00:28, 30.19it/s]\n",
      "MAE/CA 40.627422: : 860it [00:28, 30.01it/s]\n",
      "MAE/CA 40.594765: : 860it [00:28, 30.20it/s]\n",
      "MAE/CA 40.607606: : 860it [00:28, 29.87it/s]\n",
      "MAE/CA 40.620661: : 860it [00:28, 29.73it/s]\n",
      "MAE/CA 40.599548: : 860it [00:28, 29.69it/s]\n",
      "MAE/CA 40.599045: : 860it [00:27, 30.79it/s]\n",
      "MAE/CA 40.633519: : 860it [00:28, 29.89it/s]\n",
      "MAE/CA 40.594515: : 860it [00:28, 30.56it/s]\n",
      "MAE/CA 40.607913: : 860it [00:28, 29.76it/s]\n",
      "MAE/CA 40.591829: : 860it [00:28, 30.23it/s]\n",
      "MAE/CA 40.602122: : 860it [00:28, 30.08it/s]\n",
      "MAE/CA 40.610715: : 860it [00:28, 30.13it/s]\n",
      "MAE/CA 40.596120: : 860it [00:28, 30.08it/s]\n",
      "MAE/CA 40.598283: : 860it [00:28, 30.35it/s]\n",
      "MAE/CA 40.587924: : 860it [00:28, 30.52it/s]\n",
      "MAE/CA 40.609833: : 860it [00:28, 30.53it/s]\n",
      "MAE/CA 40.582160: : 860it [00:28, 30.61it/s]\n",
      "MAE/CA 40.593075: : 860it [00:28, 30.10it/s]\n",
      "MAE/CA 40.578126: : 860it [00:28, 30.18it/s]\n",
      "MAE/CA 40.581162: : 860it [00:29, 29.65it/s]\n",
      "MAE/CA 40.574989: : 860it [00:28, 30.50it/s]\n",
      "MAE/CA 40.604578: : 860it [00:28, 30.51it/s]\n",
      "MAE/CA 40.581505: : 860it [00:28, 30.51it/s]\n",
      "MAE/CA 40.585999: : 860it [00:28, 30.29it/s]\n",
      "MAE/CA 40.592927: : 860it [00:27, 30.75it/s]\n",
      "MAE/CA 40.582343: : 860it [00:28, 30.20it/s]\n",
      "MAE/CA 40.582977: : 860it [00:28, 30.61it/s]\n",
      "MAE/CA 40.577481: : 860it [00:27, 31.07it/s]\n",
      "MAE/CA 40.593162: : 860it [00:27, 31.54it/s]\n",
      "MAE/CA 40.562940: : 860it [00:27, 30.93it/s]\n",
      "MAE/CA 40.592039: : 860it [00:27, 31.16it/s]\n",
      "MAE/CA 40.577487: : 860it [00:27, 31.07it/s]\n",
      "MAE/CA 40.564414: : 860it [00:28, 30.53it/s]\n",
      "MAE/CA 40.581623: : 860it [00:28, 30.58it/s]\n",
      "MAE/CA 40.570905: : 860it [00:28, 30.62it/s]\n",
      "MAE/CA 40.569773: : 860it [00:28, 30.62it/s]\n",
      "MAE/CA 40.569642: : 860it [00:27, 31.53it/s]\n",
      "MAE/CA 41.372434: : 167it [00:05, 30.25it/s]"
     ]
    },
    {
     "name": "stdout",
     "output_type": "stream",
     "text": [
      "keyboard interrupt caught\n"
     ]
    },
    {
     "name": "stderr",
     "output_type": "stream",
     "text": [
      "\n"
     ]
    }
   ],
   "source": [
    "loss_hist = []\n",
    "try:\n",
    "    # For each epoch\n",
    "    for epoch in range(n_epochs):\n",
    "        # For each batch in the dataloader\n",
    "        pbar = tqdm.tqdm(enumerate(train_loader, 0))\n",
    "        epoch_loss = 0\n",
    "        for i, data in pbar:\n",
    "            model.zero_grad()\n",
    "            data.to(device)\n",
    "            target = data.y[:,target_idx]\n",
    "            prediction = model(data.z, data.x, data.batch)\n",
    "            output = loss(prediction.view(-1), target)\n",
    "            mae = (prediction.view(-1) - target).abs().mean()\n",
    "            epoch_loss = (epoch_loss*i + mae.item())/(i+1)\n",
    "            \n",
    "            pbar.set_description('MAE/CA %2.6f'%(epoch_loss/chemical_accuracy[target_idx]))\n",
    "            output.backward()\n",
    "            optimizer.step()\n",
    "        \n",
    "        lr_scheduler.step(epoch_loss)\n",
    "        loss_hist += [epoch_loss]\n",
    "\n",
    "except KeyboardInterrupt:\n",
    "    print('keyboard interrupt caught')"
   ]
  },
  {
   "cell_type": "code",
   "execution_count": 26,
   "id": "689f8c05",
   "metadata": {},
   "outputs": [
    {
     "name": "stderr",
     "output_type": "stream",
     "text": [
      "88it [00:06, 13.28it/s]\n"
     ]
    },
    {
     "ename": "KeyboardInterrupt",
     "evalue": "",
     "output_type": "error",
     "traceback": [
      "\u001b[0;31m---------------------------------------------------------------------------\u001b[0m",
      "\u001b[0;31mKeyboardInterrupt\u001b[0m                         Traceback (most recent call last)",
      "\u001b[0;32m/tmp/ipykernel_8388/1026185892.py\u001b[0m in \u001b[0;36m<module>\u001b[0;34m\u001b[0m\n\u001b[1;32m      5\u001b[0m \u001b[0;32mfor\u001b[0m \u001b[0mi\u001b[0m\u001b[0;34m,\u001b[0m \u001b[0mdata\u001b[0m \u001b[0;32min\u001b[0m \u001b[0mpbar\u001b[0m\u001b[0;34m:\u001b[0m\u001b[0;34m\u001b[0m\u001b[0;34m\u001b[0m\u001b[0m\n\u001b[1;32m      6\u001b[0m     \u001b[0mdata\u001b[0m\u001b[0;34m.\u001b[0m\u001b[0mto\u001b[0m\u001b[0;34m(\u001b[0m\u001b[0;34m'cpu'\u001b[0m\u001b[0;34m)\u001b[0m\u001b[0;34m\u001b[0m\u001b[0;34m\u001b[0m\u001b[0m\n\u001b[0;32m----> 7\u001b[0;31m     \u001b[0mprediction\u001b[0m \u001b[0;34m=\u001b[0m \u001b[0mmodel\u001b[0m\u001b[0;34m(\u001b[0m\u001b[0mdata\u001b[0m\u001b[0;34m.\u001b[0m\u001b[0mz\u001b[0m\u001b[0;34m,\u001b[0m \u001b[0mdata\u001b[0m\u001b[0;34m.\u001b[0m\u001b[0mx\u001b[0m\u001b[0;34m,\u001b[0m \u001b[0mdata\u001b[0m\u001b[0;34m.\u001b[0m\u001b[0mbatch\u001b[0m\u001b[0;34m)\u001b[0m\u001b[0;34m\u001b[0m\u001b[0;34m\u001b[0m\u001b[0m\n\u001b[0m\u001b[1;32m      8\u001b[0m     \u001b[0mmae\u001b[0m \u001b[0;34m=\u001b[0m \u001b[0;34m(\u001b[0m\u001b[0mprediction\u001b[0m\u001b[0;34m.\u001b[0m\u001b[0mview\u001b[0m\u001b[0;34m(\u001b[0m\u001b[0;34m-\u001b[0m\u001b[0;36m1\u001b[0m\u001b[0;34m)\u001b[0m \u001b[0;34m-\u001b[0m \u001b[0mdata\u001b[0m\u001b[0;34m.\u001b[0m\u001b[0my\u001b[0m\u001b[0;34m[\u001b[0m\u001b[0;34m:\u001b[0m\u001b[0;34m,\u001b[0m \u001b[0mtarget_idx\u001b[0m\u001b[0;34m]\u001b[0m\u001b[0;34m)\u001b[0m\u001b[0;34m.\u001b[0m\u001b[0mabs\u001b[0m\u001b[0;34m(\u001b[0m\u001b[0;34m)\u001b[0m\u001b[0;34m\u001b[0m\u001b[0;34m\u001b[0m\u001b[0m\n\u001b[1;32m      9\u001b[0m     \u001b[0mmaes\u001b[0m \u001b[0;34m+=\u001b[0m \u001b[0;34m[\u001b[0m\u001b[0mmae\u001b[0m\u001b[0;34m]\u001b[0m\u001b[0;34m\u001b[0m\u001b[0;34m\u001b[0m\u001b[0m\n",
      "\u001b[0;32m~/.cache/pypoetry/virtualenvs/graph-transformer-9jPERXQ--py3.8/lib/python3.8/site-packages/torch/nn/modules/module.py\u001b[0m in \u001b[0;36m_call_impl\u001b[0;34m(self, *input, **kwargs)\u001b[0m\n\u001b[1;32m   1049\u001b[0m         if not (self._backward_hooks or self._forward_hooks or self._forward_pre_hooks or _global_backward_hooks\n\u001b[1;32m   1050\u001b[0m                 or _global_forward_hooks or _global_forward_pre_hooks):\n\u001b[0;32m-> 1051\u001b[0;31m             \u001b[0;32mreturn\u001b[0m \u001b[0mforward_call\u001b[0m\u001b[0;34m(\u001b[0m\u001b[0;34m*\u001b[0m\u001b[0minput\u001b[0m\u001b[0;34m,\u001b[0m \u001b[0;34m**\u001b[0m\u001b[0mkwargs\u001b[0m\u001b[0;34m)\u001b[0m\u001b[0;34m\u001b[0m\u001b[0;34m\u001b[0m\u001b[0m\n\u001b[0m\u001b[1;32m   1052\u001b[0m         \u001b[0;31m# Do not call functions when jit is used\u001b[0m\u001b[0;34m\u001b[0m\u001b[0;34m\u001b[0m\u001b[0;34m\u001b[0m\u001b[0m\n\u001b[1;32m   1053\u001b[0m         \u001b[0mfull_backward_hooks\u001b[0m\u001b[0;34m,\u001b[0m \u001b[0mnon_full_backward_hooks\u001b[0m \u001b[0;34m=\u001b[0m \u001b[0;34m[\u001b[0m\u001b[0;34m]\u001b[0m\u001b[0;34m,\u001b[0m \u001b[0;34m[\u001b[0m\u001b[0;34m]\u001b[0m\u001b[0;34m\u001b[0m\u001b[0;34m\u001b[0m\u001b[0m\n",
      "\u001b[0;32m~/.cache/pypoetry/virtualenvs/graph-transformer-9jPERXQ--py3.8/lib/python3.8/site-packages/torch_geometric/nn/models/schnet.py\u001b[0m in \u001b[0;36mforward\u001b[0;34m(self, z, pos, batch)\u001b[0m\n\u001b[1;32m    243\u001b[0m         \u001b[0mrow\u001b[0m\u001b[0;34m,\u001b[0m \u001b[0mcol\u001b[0m \u001b[0;34m=\u001b[0m \u001b[0medge_index\u001b[0m\u001b[0;34m\u001b[0m\u001b[0;34m\u001b[0m\u001b[0m\n\u001b[1;32m    244\u001b[0m         \u001b[0medge_weight\u001b[0m \u001b[0;34m=\u001b[0m \u001b[0;34m(\u001b[0m\u001b[0mpos\u001b[0m\u001b[0;34m[\u001b[0m\u001b[0mrow\u001b[0m\u001b[0;34m]\u001b[0m \u001b[0;34m-\u001b[0m \u001b[0mpos\u001b[0m\u001b[0;34m[\u001b[0m\u001b[0mcol\u001b[0m\u001b[0;34m]\u001b[0m\u001b[0;34m)\u001b[0m\u001b[0;34m.\u001b[0m\u001b[0mnorm\u001b[0m\u001b[0;34m(\u001b[0m\u001b[0mdim\u001b[0m\u001b[0;34m=\u001b[0m\u001b[0;34m-\u001b[0m\u001b[0;36m1\u001b[0m\u001b[0;34m)\u001b[0m\u001b[0;34m\u001b[0m\u001b[0;34m\u001b[0m\u001b[0m\n\u001b[0;32m--> 245\u001b[0;31m         \u001b[0medge_attr\u001b[0m \u001b[0;34m=\u001b[0m \u001b[0mself\u001b[0m\u001b[0;34m.\u001b[0m\u001b[0mdistance_expansion\u001b[0m\u001b[0;34m(\u001b[0m\u001b[0medge_weight\u001b[0m\u001b[0;34m)\u001b[0m\u001b[0;34m\u001b[0m\u001b[0;34m\u001b[0m\u001b[0m\n\u001b[0m\u001b[1;32m    246\u001b[0m \u001b[0;34m\u001b[0m\u001b[0m\n\u001b[1;32m    247\u001b[0m         \u001b[0;32mfor\u001b[0m \u001b[0minteraction\u001b[0m \u001b[0;32min\u001b[0m \u001b[0mself\u001b[0m\u001b[0;34m.\u001b[0m\u001b[0minteractions\u001b[0m\u001b[0;34m:\u001b[0m\u001b[0;34m\u001b[0m\u001b[0;34m\u001b[0m\u001b[0m\n",
      "\u001b[0;32m~/.cache/pypoetry/virtualenvs/graph-transformer-9jPERXQ--py3.8/lib/python3.8/site-packages/torch/nn/modules/module.py\u001b[0m in \u001b[0;36m_call_impl\u001b[0;34m(self, *input, **kwargs)\u001b[0m\n\u001b[1;32m   1049\u001b[0m         if not (self._backward_hooks or self._forward_hooks or self._forward_pre_hooks or _global_backward_hooks\n\u001b[1;32m   1050\u001b[0m                 or _global_forward_hooks or _global_forward_pre_hooks):\n\u001b[0;32m-> 1051\u001b[0;31m             \u001b[0;32mreturn\u001b[0m \u001b[0mforward_call\u001b[0m\u001b[0;34m(\u001b[0m\u001b[0;34m*\u001b[0m\u001b[0minput\u001b[0m\u001b[0;34m,\u001b[0m \u001b[0;34m**\u001b[0m\u001b[0mkwargs\u001b[0m\u001b[0;34m)\u001b[0m\u001b[0;34m\u001b[0m\u001b[0;34m\u001b[0m\u001b[0m\n\u001b[0m\u001b[1;32m   1052\u001b[0m         \u001b[0;31m# Do not call functions when jit is used\u001b[0m\u001b[0;34m\u001b[0m\u001b[0;34m\u001b[0m\u001b[0;34m\u001b[0m\u001b[0m\n\u001b[1;32m   1053\u001b[0m         \u001b[0mfull_backward_hooks\u001b[0m\u001b[0;34m,\u001b[0m \u001b[0mnon_full_backward_hooks\u001b[0m \u001b[0;34m=\u001b[0m \u001b[0;34m[\u001b[0m\u001b[0;34m]\u001b[0m\u001b[0;34m,\u001b[0m \u001b[0;34m[\u001b[0m\u001b[0;34m]\u001b[0m\u001b[0;34m\u001b[0m\u001b[0;34m\u001b[0m\u001b[0m\n",
      "\u001b[0;32m~/.cache/pypoetry/virtualenvs/graph-transformer-9jPERXQ--py3.8/lib/python3.8/site-packages/torch_geometric/nn/models/schnet.py\u001b[0m in \u001b[0;36mforward\u001b[0;34m(self, dist)\u001b[0m\n\u001b[1;32m    351\u001b[0m     \u001b[0;32mdef\u001b[0m \u001b[0mforward\u001b[0m\u001b[0;34m(\u001b[0m\u001b[0mself\u001b[0m\u001b[0;34m,\u001b[0m \u001b[0mdist\u001b[0m\u001b[0;34m)\u001b[0m\u001b[0;34m:\u001b[0m\u001b[0;34m\u001b[0m\u001b[0;34m\u001b[0m\u001b[0m\n\u001b[1;32m    352\u001b[0m         \u001b[0mdist\u001b[0m \u001b[0;34m=\u001b[0m \u001b[0mdist\u001b[0m\u001b[0;34m.\u001b[0m\u001b[0mview\u001b[0m\u001b[0;34m(\u001b[0m\u001b[0;34m-\u001b[0m\u001b[0;36m1\u001b[0m\u001b[0;34m,\u001b[0m \u001b[0;36m1\u001b[0m\u001b[0;34m)\u001b[0m \u001b[0;34m-\u001b[0m \u001b[0mself\u001b[0m\u001b[0;34m.\u001b[0m\u001b[0moffset\u001b[0m\u001b[0;34m.\u001b[0m\u001b[0mview\u001b[0m\u001b[0;34m(\u001b[0m\u001b[0;36m1\u001b[0m\u001b[0;34m,\u001b[0m \u001b[0;34m-\u001b[0m\u001b[0;36m1\u001b[0m\u001b[0;34m)\u001b[0m\u001b[0;34m\u001b[0m\u001b[0;34m\u001b[0m\u001b[0m\n\u001b[0;32m--> 353\u001b[0;31m         \u001b[0;32mreturn\u001b[0m \u001b[0mtorch\u001b[0m\u001b[0;34m.\u001b[0m\u001b[0mexp\u001b[0m\u001b[0;34m(\u001b[0m\u001b[0mself\u001b[0m\u001b[0;34m.\u001b[0m\u001b[0mcoeff\u001b[0m \u001b[0;34m*\u001b[0m \u001b[0mtorch\u001b[0m\u001b[0;34m.\u001b[0m\u001b[0mpow\u001b[0m\u001b[0;34m(\u001b[0m\u001b[0mdist\u001b[0m\u001b[0;34m,\u001b[0m \u001b[0;36m2\u001b[0m\u001b[0;34m)\u001b[0m\u001b[0;34m)\u001b[0m\u001b[0;34m\u001b[0m\u001b[0;34m\u001b[0m\u001b[0m\n\u001b[0m\u001b[1;32m    354\u001b[0m \u001b[0;34m\u001b[0m\u001b[0m\n\u001b[1;32m    355\u001b[0m \u001b[0;34m\u001b[0m\u001b[0m\n",
      "\u001b[0;31mKeyboardInterrupt\u001b[0m: "
     ]
    }
   ],
   "source": [
    "model = model.to('cpu')\n",
    "pbar = tqdm.tqdm(enumerate(test_loader, 0))\n",
    "epoch_loss = 0\n",
    "maes = []\n",
    "for i, data in pbar:\n",
    "    data.to('cpu')\n",
    "    prediction = model(data.z, data.x, data.batch)\n",
    "    mae = (prediction.view(-1) - data.y[:, target_idx]).abs()\n",
    "    maes += [mae]\n",
    "maes = torch.cat(maes, dim=0)\n",
    "mae = maes.mean().item()\n",
    "print(mae, mae/chemical_accuracy[target_idx])\n"
   ]
  },
  {
   "cell_type": "code",
   "execution_count": null,
   "id": "bf311070",
   "metadata": {},
   "outputs": [],
   "source": []
  },
  {
   "cell_type": "code",
   "execution_count": null,
   "id": "dffd3f04",
   "metadata": {},
   "outputs": [],
   "source": []
  }
 ],
 "metadata": {
  "kernelspec": {
   "display_name": "Python 3 (ipykernel)",
   "language": "python",
   "name": "python3"
  },
  "language_info": {
   "codemirror_mode": {
    "name": "ipython",
    "version": 3
   },
   "file_extension": ".py",
   "mimetype": "text/x-python",
   "name": "python",
   "nbconvert_exporter": "python",
   "pygments_lexer": "ipython3",
   "version": "3.8.3"
  }
 },
 "nbformat": 4,
 "nbformat_minor": 5
}
