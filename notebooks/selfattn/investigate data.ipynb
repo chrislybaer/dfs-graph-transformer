{
 "cells": [
  {
   "cell_type": "code",
   "execution_count": 2,
   "id": "3270b846",
   "metadata": {},
   "outputs": [
    {
     "name": "stdout",
     "output_type": "stream",
     "text": [
      "The autoreload extension is already loaded. To reload it, use:\n",
      "  %reload_ext autoreload\n"
     ]
    },
    {
     "name": "stderr",
     "output_type": "stream",
     "text": [
      "100%|██████████████████████████████████████████████████████████████████████████████████████████████████████████████████████████████████████████████████████████████████████████████| 10/10 [00:03<00:00,  2.76it/s]\n",
      "100%|████████████████████████████████████████████████████████████████████████████████████████████████████████████████████████████████████████████████████████████████████████| 9978/9978 [00:01<00:00, 7976.99it/s]\n"
     ]
    }
   ],
   "source": [
    "%load_ext autoreload\n",
    "%autoreload 2\n",
    "import numpy as np\n",
    "import json\n",
    "import wandb\n",
    "import dfs_code\n",
    "import torch\n",
    "import torch.nn as nn\n",
    "from torch.utils.data import DataLoader\n",
    "import sys\n",
    "sys.path = ['../../src'] + sys.path\n",
    "from dfs_transformer import DFSCodeSeq2SeqFC, TrainerNew, PubChem, get_n_files, TransformerPlusHeads\n",
    "from dfs_transformer.training.utils import seq_loss, seq_acc, collate_BERT, collate_rnd2min\n",
    "import argparse\n",
    "import yaml\n",
    "import functools\n",
    "from ml_collections import ConfigDict\n",
    "from copy import deepcopy\n",
    "import pickle\n",
    "from sklearn.metrics import r2_score\n",
    "import resource\n",
    "rlimit = resource.getrlimit(resource.RLIMIT_NOFILE)\n",
    "resource.setrlimit(resource.RLIMIT_NOFILE, (2*2048, rlimit[1]))\n",
    "#torch.multiprocessing.set_sharing_strategy('file_system')\n",
    "\n",
    "\n",
    "\n",
    "args = ConfigDict({\n",
    "    'yaml_model':\"../../config/selfattn/model/bert.yaml\",\n",
    "    'yaml_data':\"../../config/selfattn/data/pubchem1M.yaml\",\n",
    "    'yaml_training':\"../../config/selfattn/training/min2min_new.yaml\"\n",
    "})\n",
    "\n",
    "config = ConfigDict({'model':{}, 'data':{}, 'training':{}})\n",
    "with open(args.yaml_model) as file:\n",
    "    config.model = ConfigDict(yaml.load(file, Loader=yaml.FullLoader))\n",
    "with open(args.yaml_data) as file:\n",
    "    config.data = ConfigDict(yaml.load(file, Loader=yaml.FullLoader))\n",
    "with open(args.yaml_training) as file:\n",
    "    config.training = ConfigDict(yaml.load(file, Loader=yaml.FullLoader))\n",
    "\n",
    "m = deepcopy(config.model)\n",
    "t = deepcopy(config.training)\n",
    "d = deepcopy(config.data)\n",
    "\n",
    "device = torch.device('cuda:%d'%config.training.gpu_id if torch.cuda.is_available() else 'cpu')\n",
    "\n",
    "m['no_features'] = False\n",
    "m['use_loops'] = False\n",
    "\n",
    "d.molecular_properties = []\n",
    "\n",
    "config.training.fraction_missing=0.5\n",
    "\n",
    "\n",
    "if t.mode == \"min2min\":\n",
    "    collate_fn = functools.partial(collate_BERT, \n",
    "                                   mode=\"min2min\", \n",
    "                                   fraction_missing = config.training.fraction_missing,\n",
    "                                   use_loops=m.use_loops)\n",
    "elif t.mode == \"rnd2rnd\":\n",
    "    collate_fn = functools.partial(collate_BERT, \n",
    "                                   mode=\"rnd2rnd\", \n",
    "                                   fraction_missing = config.training.fraction_missing,\n",
    "                                   use_loops=m.use_loops)\n",
    "elif t.mode == \"rnd2min\":\n",
    "    collate_fn = functools.partial(collate_rnd2min,\n",
    "                                       use_loops=m.use_loops)\n",
    "\n",
    "validloader = None\n",
    "if d.valid_path is not None:\n",
    "    validset = PubChem(d.valid_path, max_nodes=m.max_nodes, max_edges=m.max_edges, noFeatures=m.no_features,\n",
    "                       molecular_properties=None)\n",
    "    validloader = DataLoader(validset, batch_size=t.batch_size, shuffle=True, \n",
    "                             pin_memory=True, collate_fn=collate_fn)\n",
    "    exclude = validset.smiles"
   ]
  },
  {
   "cell_type": "code",
   "execution_count": 3,
   "id": "1c7ac775",
   "metadata": {},
   "outputs": [],
   "source": [
    "from dfs_transformer import to_cuda as utils_to_cuda\n",
    "import tqdm\n",
    "to_cuda = functools.partial(utils_to_cuda, device=device)"
   ]
  },
  {
   "cell_type": "code",
   "execution_count": null,
   "id": "e028c126",
   "metadata": {},
   "outputs": [
    {
     "name": "stderr",
     "output_type": "stream",
     "text": [
      " 29%|██████████████████████████████████████████████████▎                                                                                                                             | 2/7 [00:35<01:28, 17.67s/it]"
     ]
    }
   ],
   "source": [
    "dataset = PubChem(d.path, n_used = d.n_used, max_nodes=m.max_nodes, \n",
    "                  max_edges=m.max_edges, exclude=exclude, noFeatures=m.no_features,\n",
    "                  molecular_properties=d.molecular_properties)\n",
    "loader = DataLoader(dataset, batch_size=t.batch_size, shuffle=True, \n",
    "                    pin_memory=t.pin_memory, collate_fn=collate_fn, num_workers=0,#t.num_workers,\n",
    "                    prefetch_factor=t.prefetch_factor)"
   ]
  },
  {
   "cell_type": "code",
   "execution_count": null,
   "id": "3b29c2e4",
   "metadata": {},
   "outputs": [],
   "source": [
    "data = next(iter(loader))"
   ]
  },
  {
   "cell_type": "code",
   "execution_count": null,
   "id": "3e4ef533",
   "metadata": {},
   "outputs": [],
   "source": [
    "batch_id = 1"
   ]
  },
  {
   "cell_type": "code",
   "execution_count": null,
   "id": "1e2e9127",
   "metadata": {},
   "outputs": [],
   "source": [
    "data[0]['dfs_from'][:, batch_id]"
   ]
  },
  {
   "cell_type": "code",
   "execution_count": null,
   "id": "4525de52",
   "metadata": {},
   "outputs": [],
   "source": [
    "data[0]['dfs_to'][:, batch_id]"
   ]
  },
  {
   "cell_type": "code",
   "execution_count": null,
   "id": "9756e139",
   "metadata": {},
   "outputs": [],
   "source": [
    "data[0]['atm_from'][:, batch_id]"
   ]
  },
  {
   "cell_type": "code",
   "execution_count": null,
   "id": "6edd7123",
   "metadata": {},
   "outputs": [],
   "source": [
    "data[0]['bnd'][:, batch_id]"
   ]
  },
  {
   "cell_type": "code",
   "execution_count": null,
   "id": "20aff21b",
   "metadata": {},
   "outputs": [],
   "source": [
    "data[0]['atm_to'][:, batch_id][:, :118]"
   ]
  },
  {
   "cell_type": "code",
   "execution_count": null,
   "id": "3935d46c",
   "metadata": {},
   "outputs": [],
   "source": [
    "data[1][0].shape"
   ]
  },
  {
   "cell_type": "code",
   "execution_count": null,
   "id": "fb1cb000",
   "metadata": {},
   "outputs": [],
   "source": [
    "n_vertices = []\n",
    "n_edges = []"
   ]
  },
  {
   "cell_type": "code",
   "execution_count": null,
   "id": "698f8ee2",
   "metadata": {},
   "outputs": [],
   "source": [
    "for data in tqdm.tqdm(loader):\n",
    "    for vfeats in data[1]:\n",
    "        n_vertices += [vfeats.shape[0]]\n",
    "    for efeats in data[2]:\n",
    "        n_edges += [efeats.shape[0]]"
   ]
  },
  {
   "cell_type": "code",
   "execution_count": null,
   "id": "f38bb04a",
   "metadata": {},
   "outputs": [],
   "source": [
    "from matplotlib import pyplot as plt"
   ]
  },
  {
   "cell_type": "code",
   "execution_count": null,
   "id": "f932d089",
   "metadata": {},
   "outputs": [],
   "source": [
    "plt.hist(n_vertices, bins='rice')"
   ]
  },
  {
   "cell_type": "code",
   "execution_count": null,
   "id": "7f92a366",
   "metadata": {},
   "outputs": [],
   "source": [
    "plt.hist(n_edges, bins='rice')"
   ]
  },
  {
   "cell_type": "code",
   "execution_count": null,
   "id": "7a289ab9",
   "metadata": {},
   "outputs": [],
   "source": [
    "n_edges = np.asarray(n_edges)\n",
    "print(len(n_edges), len(n_edges) - (n_edges > 150).sum())"
   ]
  },
  {
   "cell_type": "markdown",
   "id": "a61c3f79",
   "metadata": {},
   "source": [
    "# moleculenet downstream tasks"
   ]
  },
  {
   "cell_type": "code",
   "execution_count": null,
   "id": "f8f55be6",
   "metadata": {},
   "outputs": [],
   "source": [
    "import deepchem as dc\n",
    "from dfs_transformer import smiles2graph\n",
    "\n",
    "dataset = 'clintox'\n",
    "\n"
   ]
  },
  {
   "cell_type": "code",
   "execution_count": null,
   "id": "b8ceeae4",
   "metadata": {},
   "outputs": [],
   "source": [
    "for dataset in ['clintox', 'tox21', 'bbbp', 'hiv']:\n",
    "    if dataset == 'clintox':\n",
    "        tasks, datasets, transformers = dc.molnet.load_clintox(reload=False, featurizer=dc.feat.RawFeaturizer(True), splitter=None)\n",
    "    elif dataset == 'tox21':\n",
    "        tasks, datasets, transformers = dc.molnet.load_tox21(reload=False, featurizer=dc.feat.RawFeaturizer(True), splitter=None)\n",
    "    elif dataset == 'hiv':\n",
    "        tasks, datasets, transformers = dc.molnet.load_hiv(reload=False, featurizer=dc.feat.RawFeaturizer(True), splitter=None)\n",
    "    elif dataset == 'bbbp':\n",
    "        tasks, datasets, transformers = dc.molnet.load_bbbp(reload=False, featurizer=dc.feat.RawFeaturizer(True), splitter=None)\n",
    "\n",
    "\n",
    "    m_vertices = []\n",
    "    m_edges = []\n",
    "    for idx, smiles in tqdm.tqdm(enumerate(datasets[0].X)):\n",
    "        d = smiles2graph(smiles, False, False, np.inf, np.inf)\n",
    "        m_vertices += [d.atom_features.shape[0]]\n",
    "        m_edges += [d.edge_index.shape[1]//2]\n",
    "\n",
    "    plt.hist(m_edges, bins='rice')\n",
    "    plt.title(dataset)\n",
    "    plt.show()"
   ]
  },
  {
   "cell_type": "code",
   "execution_count": null,
   "id": "c9efa451",
   "metadata": {},
   "outputs": [],
   "source": []
  }
 ],
 "metadata": {
  "kernelspec": {
   "display_name": "Python 3 (ipykernel)",
   "language": "python",
   "name": "python3"
  },
  "language_info": {
   "codemirror_mode": {
    "name": "ipython",
    "version": 3
   },
   "file_extension": ".py",
   "mimetype": "text/x-python",
   "name": "python",
   "nbconvert_exporter": "python",
   "pygments_lexer": "ipython3",
   "version": "3.9.13"
  }
 },
 "nbformat": 4,
 "nbformat_minor": 5
}
