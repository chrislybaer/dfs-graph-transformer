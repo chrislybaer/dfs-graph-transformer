{
 "cells": [
  {
   "cell_type": "code",
   "execution_count": 1,
   "id": "77c42268",
   "metadata": {},
   "outputs": [],
   "source": [
    "%load_ext autoreload\n",
    "%autoreload 2"
   ]
  },
  {
   "cell_type": "code",
   "execution_count": 2,
   "id": "13f80d60",
   "metadata": {},
   "outputs": [
    {
     "name": "stderr",
     "output_type": "stream",
     "text": [
      "WARNING:root:No normalization for BCUT2D_MWHI\n",
      "WARNING:root:No normalization for BCUT2D_MWLOW\n",
      "WARNING:root:No normalization for BCUT2D_CHGHI\n",
      "WARNING:root:No normalization for BCUT2D_CHGLO\n",
      "WARNING:root:No normalization for BCUT2D_LOGPHI\n",
      "WARNING:root:No normalization for BCUT2D_LOGPLOW\n",
      "WARNING:root:No normalization for BCUT2D_MRHI\n",
      "WARNING:root:No normalization for BCUT2D_MRLOW\n",
      "2021-11-09 16:13:18.410959: W tensorflow/stream_executor/platform/default/dso_loader.cc:64] Could not load dynamic library 'libcudart.so.11.0'; dlerror: libcudart.so.11.0: cannot open shared object file: No such file or directory; LD_LIBRARY_PATH: :/opt/cuda/extras/CUPTI/lib64/:/opt/intel/lib:/opt/intel/mkl/lib/intel64:/opt/intel:/opt/ibm/ILOG/CPLEX_Studio1210/cplex/bin/x86-64_linux:/opt/ibm/ILOG/CPLEX_Studio1210/cplex/python/3.7/x86-64_linux:/opt/intel/clck_latest/lib:/opt/intel/daal/lib:/opt/intel/intelpython3/lib:/opt/intel/ipp/lib:/opt/intel/itac_2019/lib:/opt/intel/itac_latest/lib:/opt/intel/mkl/lib:/opt/intel/mkl_/lib:/opt/intel/mpirt/lib:/opt/intel/tbb/lib:/opt/intel/clck/2019.0/lib:/opt/intel/compilers_and_libraries_2019/linux/lib:/opt/intel/compilers_and_libraries/linux/lib:/opt/intel/itac/2019.0.018/lib:/opt/intel/itac_2019/intel64/lib:/opt/intel/itac_latest/intel64/lib:/opt/intel/parallel_studio_xe_2019.0.045/clck_2019/lib:/opt/intel/parallel_studio_xe_2019.0.045/itac_2019/lib:/opt/intel/parallel_studio_xe_2019/clck_2019/lib:/opt/intel/parallel_studio_xe_2019/itac_2019/lib:/opt/cuda/extras/CUPTI/lib64/:/opt/intel/lib:/opt/intel/mkl/lib/intel64:/opt/intel:/opt/ibm/ILOG/CPLEX_Studio1210/cplex/bin/x86-64_linux:/opt/ibm/ILOG/CPLEX_Studio1210/cplex/python/3.7/x86-64_linux:/opt/intel/clck_latest/lib:/opt/intel/daal/lib:/opt/intel/intelpython3/lib:/opt/intel/ipp/lib:/opt/intel/itac_2019/lib:/opt/intel/itac_latest/lib:/opt/intel/mkl/lib:/opt/intel/mkl_/lib:/opt/intel/mpirt/lib:/opt/intel/tbb/lib:/opt/intel/clck/2019.0/lib:/opt/intel/compilers_and_libraries_2019/linux/lib:/opt/intel/compilers_and_libraries/linux/lib:/opt/intel/itac/2019.0.018/lib:/opt/intel/itac_2019/intel64/lib:/opt/intel/itac_latest/intel64/lib:/opt/intel/parallel_studio_xe_2019.0.045/clck_2019/lib:/opt/intel/parallel_studio_xe_2019.0.045/itac_2019/lib:/opt/intel/parallel_studio_xe_2019/clck_2019/lib:/opt/intel/parallel_studio_xe_2019/itac_2019/lib\n",
      "2021-11-09 16:13:18.410979: I tensorflow/stream_executor/cuda/cudart_stub.cc:29] Ignore above cudart dlerror if you do not have a GPU set up on your machine.\n",
      "Using backend: pytorch\n"
     ]
    },
    {
     "name": "stdout",
     "output_type": "stream",
     "text": [
      "To use the Graphein submodule graphein.protein.features.sequence.embeddings, you need to install biovec.\n",
      "\n",
      "To do so, use the following command:\n",
      "\n",
      "    pip install biovec\n",
      "To use the Graphein submodule graphein.protein.visualisation, you need to install pytorch3d.\n",
      "\n",
      "pytorch3d cannot be installed via pip\n",
      "To use the Graphein submodule graphein.protein.meshes, you need to install pytorch3d.\n",
      "\n",
      "pytorch3d cannot be installed via pip\n"
     ]
    }
   ],
   "source": [
    "import json\n",
    "import numpy as np\n",
    "from torch.utils.data import Dataset, DataLoader\n",
    "import glob\n",
    "import wandb\n",
    "import os\n",
    "import torch.optim as optimizers\n",
    "import dfs_code\n",
    "from torch_geometric.data import InMemoryDataset, Data\n",
    "import pickle\n",
    "import torch\n",
    "import torch.nn as nn\n",
    "import tqdm\n",
    "import copy\n",
    "import pandas as pd\n",
    "import torch.nn.functional as F\n",
    "import sys\n",
    "import yaml\n",
    "import functools\n",
    "from ml_collections import ConfigDict\n",
    "sys.path = ['../../src'] + sys.path\n",
    "from dfs_transformer import DFSCodeSeq2SeqFC, Deepchem2TorchGeometric, Trainer, to_cuda, Enzymes\n",
    "from graphein.protein.resi_atoms import RESI_THREE_TO_1, AMINO_ACIDS"
   ]
  },
  {
   "cell_type": "markdown",
   "id": "c3a108f5",
   "metadata": {},
   "source": [
    "# download pretrained model"
   ]
  },
  {
   "cell_type": "code",
   "execution_count": 3,
   "id": "176b1c7e",
   "metadata": {},
   "outputs": [
    {
     "name": "stderr",
     "output_type": "stream",
     "text": [
      "ERROR:wandb.jupyter:Failed to detect the name of this notebook, you can set it manually with the WANDB_NOTEBOOK_NAME environment variable to enable code saving.\n",
      "\u001b[34m\u001b[1mwandb\u001b[0m: Currently logged in as: \u001b[33mchrisxx\u001b[0m (use `wandb login --relogin` to force relogin)\n",
      "\u001b[34m\u001b[1mwandb\u001b[0m: wandb version 0.12.6 is available!  To upgrade, please run:\n",
      "\u001b[34m\u001b[1mwandb\u001b[0m:  $ pip install wandb --upgrade\n",
      "2021-11-09 16:13:21.129612: W tensorflow/stream_executor/platform/default/dso_loader.cc:64] Could not load dynamic library 'libcudart.so.11.0'; dlerror: libcudart.so.11.0: cannot open shared object file: No such file or directory; LD_LIBRARY_PATH: :/opt/cuda/extras/CUPTI/lib64/:/opt/intel/lib:/opt/intel/mkl/lib/intel64:/opt/intel:/opt/ibm/ILOG/CPLEX_Studio1210/cplex/bin/x86-64_linux:/opt/ibm/ILOG/CPLEX_Studio1210/cplex/python/3.7/x86-64_linux:/opt/intel/clck_latest/lib:/opt/intel/daal/lib:/opt/intel/intelpython3/lib:/opt/intel/ipp/lib:/opt/intel/itac_2019/lib:/opt/intel/itac_latest/lib:/opt/intel/mkl/lib:/opt/intel/mkl_/lib:/opt/intel/mpirt/lib:/opt/intel/tbb/lib:/opt/intel/clck/2019.0/lib:/opt/intel/compilers_and_libraries_2019/linux/lib:/opt/intel/compilers_and_libraries/linux/lib:/opt/intel/itac/2019.0.018/lib:/opt/intel/itac_2019/intel64/lib:/opt/intel/itac_latest/intel64/lib:/opt/intel/parallel_studio_xe_2019.0.045/clck_2019/lib:/opt/intel/parallel_studio_xe_2019.0.045/itac_2019/lib:/opt/intel/parallel_studio_xe_2019/clck_2019/lib:/opt/intel/parallel_studio_xe_2019/itac_2019/lib:/opt/cuda/extras/CUPTI/lib64/:/opt/intel/lib:/opt/intel/mkl/lib/intel64:/opt/intel:/opt/ibm/ILOG/CPLEX_Studio1210/cplex/bin/x86-64_linux:/opt/ibm/ILOG/CPLEX_Studio1210/cplex/python/3.7/x86-64_linux:/opt/intel/clck_latest/lib:/opt/intel/daal/lib:/opt/intel/intelpython3/lib:/opt/intel/ipp/lib:/opt/intel/itac_2019/lib:/opt/intel/itac_latest/lib:/opt/intel/mkl/lib:/opt/intel/mkl_/lib:/opt/intel/mpirt/lib:/opt/intel/tbb/lib:/opt/intel/clck/2019.0/lib:/opt/intel/compilers_and_libraries_2019/linux/lib:/opt/intel/compilers_and_libraries/linux/lib:/opt/intel/itac/2019.0.018/lib:/opt/intel/itac_2019/intel64/lib:/opt/intel/itac_latest/intel64/lib:/opt/intel/parallel_studio_xe_2019.0.045/clck_2019/lib:/opt/intel/parallel_studio_xe_2019.0.045/itac_2019/lib:/opt/intel/parallel_studio_xe_2019/clck_2019/lib:/opt/intel/parallel_studio_xe_2019/itac_2019/lib\n",
      "2021-11-09 16:13:21.129636: I tensorflow/stream_executor/cuda/cudart_stub.cc:29] Ignore above cudart dlerror if you do not have a GPU set up on your machine.\n"
     ]
    },
    {
     "data": {
      "text/html": [
       "\n",
       "                Tracking run with wandb version 0.10.33<br/>\n",
       "                Syncing run <strong style=\"color:#cdcd00\">giddy-pyramid-588</strong> to <a href=\"https://wandb.ai\" target=\"_blank\">Weights & Biases</a> <a href=\"https://docs.wandb.com/integrations/jupyter.html\" target=\"_blank\">(Documentation)</a>.<br/>\n",
       "                Project page: <a href=\"https://wandb.ai/dfstransformer/pubchem\" target=\"_blank\">https://wandb.ai/dfstransformer/pubchem</a><br/>\n",
       "                Run page: <a href=\"https://wandb.ai/dfstransformer/pubchem/runs/a941ktcw\" target=\"_blank\">https://wandb.ai/dfstransformer/pubchem/runs/a941ktcw</a><br/>\n",
       "                Run data is saved locally in <code>/home/chrisw/Documents/projects/2021/graph-transformer/notebooks/selfattn/wandb/run-20211109_161320-a941ktcw</code><br/><br/>\n",
       "            "
      ],
      "text/plain": [
       "<IPython.core.display.HTML object>"
      ]
     },
     "metadata": {},
     "output_type": "display_data"
    },
    {
     "name": "stderr",
     "output_type": "stream",
     "text": [
      "\u001b[34m\u001b[1mwandb\u001b[0m: Downloading large artifact rnd2min-10M-nofeats:latest, 191.23MB. 3 files... Done. 0:0:0\n"
     ]
    },
    {
     "data": {
      "text/html": [
       "<br/>Waiting for W&B process to finish, PID 3141418<br/>Program ended successfully."
      ],
      "text/plain": [
       "<IPython.core.display.HTML object>"
      ]
     },
     "metadata": {},
     "output_type": "display_data"
    },
    {
     "data": {
      "application/vnd.jupyter.widget-view+json": {
       "model_id": "",
       "version_major": 2,
       "version_minor": 0
      },
      "text/plain": [
       "VBox(children=(Label(value=' 0.00MB of 0.00MB uploaded (0.00MB deduped)\\r'), FloatProgress(value=1.0, max=1.0)…"
      ]
     },
     "metadata": {},
     "output_type": "display_data"
    },
    {
     "data": {
      "text/html": [
       "Find user logs for this run at: <code>/home/chrisw/Documents/projects/2021/graph-transformer/notebooks/selfattn/wandb/run-20211109_161320-a941ktcw/logs/debug.log</code>"
      ],
      "text/plain": [
       "<IPython.core.display.HTML object>"
      ]
     },
     "metadata": {},
     "output_type": "display_data"
    },
    {
     "data": {
      "text/html": [
       "Find internal logs for this run at: <code>/home/chrisw/Documents/projects/2021/graph-transformer/notebooks/selfattn/wandb/run-20211109_161320-a941ktcw/logs/debug-internal.log</code>"
      ],
      "text/plain": [
       "<IPython.core.display.HTML object>"
      ]
     },
     "metadata": {},
     "output_type": "display_data"
    },
    {
     "data": {
      "text/html": [
       "Synced 5 W&B file(s), 0 media file(s), 0 artifact file(s) and 0 other file(s)"
      ],
      "text/plain": [
       "<IPython.core.display.HTML object>"
      ]
     },
     "metadata": {},
     "output_type": "display_data"
    },
    {
     "data": {
      "text/html": [
       "\n",
       "                    <br/>Synced <strong style=\"color:#cdcd00\">giddy-pyramid-588</strong>: <a href=\"https://wandb.ai/dfstransformer/pubchem/runs/a941ktcw\" target=\"_blank\">https://wandb.ai/dfstransformer/pubchem/runs/a941ktcw</a><br/>\n",
       "                "
      ],
      "text/plain": [
       "<IPython.core.display.HTML object>"
      ]
     },
     "metadata": {},
     "output_type": "display_data"
    }
   ],
   "source": [
    "run = wandb.init(mode=\"online\", \n",
    "                 project=\"pubchem\", \n",
    "                 entity=\"dfstransformer\", \n",
    "                 job_type=\"inference\")\n",
    "\n",
    "model_at = run.use_artifact(\"bertloops0.3-10M-nofeats\" + \":latest\")\n",
    "model_at = run.use_artifact(\"rnd2min-10M-nofeats\" + \":latest\")\n",
    "\n",
    "model_dir = model_at.download()\n",
    "run.finish()\n",
    "features = None #\"chemprop\"\n",
    "n_samples = 10\n",
    "fingerprint = 'min-mean-max-std'\n",
    "load_flag = True"
   ]
  },
  {
   "cell_type": "code",
   "execution_count": 4,
   "id": "c6572c8c",
   "metadata": {},
   "outputs": [],
   "source": [
    "with open(model_dir+\"/config.yaml\") as file:\n",
    "    config = ConfigDict(yaml.load(file, Loader=yaml.FullLoader))"
   ]
  },
  {
   "cell_type": "code",
   "execution_count": 5,
   "id": "f2ff8a99",
   "metadata": {},
   "outputs": [],
   "source": [
    "device = torch.device('cuda:%d'%config.training.gpu_id if torch.cuda.is_available()  else 'cpu')"
   ]
  },
  {
   "cell_type": "code",
   "execution_count": 6,
   "id": "d1852e4f",
   "metadata": {},
   "outputs": [],
   "source": [
    "m = config.model"
   ]
  },
  {
   "cell_type": "code",
   "execution_count": 7,
   "id": "41d00902",
   "metadata": {},
   "outputs": [],
   "source": [
    "model = DFSCodeSeq2SeqFC(**m)\n",
    "if load_flag:\n",
    "    model.load_state_dict(torch.load(model_dir+'/checkpoint.pt', map_location=device))"
   ]
  },
  {
   "cell_type": "code",
   "execution_count": 8,
   "id": "fd8dbda2",
   "metadata": {},
   "outputs": [
    {
     "data": {
      "text/plain": [
       "DFSCodeSeq2SeqFC(\n",
       "  (encoder): DFSCodeEncoder(\n",
       "    (emb_dfs): PositionalEncoding(\n",
       "      (dropout): Dropout(p=0, inplace=False)\n",
       "    )\n",
       "    (emb_seq): PositionalEncoding(\n",
       "      (dropout): Dropout(p=0.1, inplace=False)\n",
       "    )\n",
       "    (emb_atom): Linear(in_features=118, out_features=120, bias=True)\n",
       "    (emb_bond): Linear(in_features=5, out_features=120, bias=True)\n",
       "    (mixer): Linear(in_features=600, out_features=600, bias=True)\n",
       "    (enc): TransformerEncoder(\n",
       "      (layers): ModuleList(\n",
       "        (0): TransformerEncoderLayer(\n",
       "          (self_attn): MultiheadAttention(\n",
       "            (out_proj): NonDynamicallyQuantizableLinear(in_features=600, out_features=600, bias=True)\n",
       "          )\n",
       "          (linear1): Linear(in_features=600, out_features=2048, bias=True)\n",
       "          (dropout): Dropout(p=0.1, inplace=False)\n",
       "          (linear2): Linear(in_features=2048, out_features=600, bias=True)\n",
       "          (norm1): LayerNorm((600,), eps=1e-05, elementwise_affine=True)\n",
       "          (norm2): LayerNorm((600,), eps=1e-05, elementwise_affine=True)\n",
       "          (dropout1): Dropout(p=0.1, inplace=False)\n",
       "          (dropout2): Dropout(p=0.1, inplace=False)\n",
       "        )\n",
       "        (1): TransformerEncoderLayer(\n",
       "          (self_attn): MultiheadAttention(\n",
       "            (out_proj): NonDynamicallyQuantizableLinear(in_features=600, out_features=600, bias=True)\n",
       "          )\n",
       "          (linear1): Linear(in_features=600, out_features=2048, bias=True)\n",
       "          (dropout): Dropout(p=0.1, inplace=False)\n",
       "          (linear2): Linear(in_features=2048, out_features=600, bias=True)\n",
       "          (norm1): LayerNorm((600,), eps=1e-05, elementwise_affine=True)\n",
       "          (norm2): LayerNorm((600,), eps=1e-05, elementwise_affine=True)\n",
       "          (dropout1): Dropout(p=0.1, inplace=False)\n",
       "          (dropout2): Dropout(p=0.1, inplace=False)\n",
       "        )\n",
       "        (2): TransformerEncoderLayer(\n",
       "          (self_attn): MultiheadAttention(\n",
       "            (out_proj): NonDynamicallyQuantizableLinear(in_features=600, out_features=600, bias=True)\n",
       "          )\n",
       "          (linear1): Linear(in_features=600, out_features=2048, bias=True)\n",
       "          (dropout): Dropout(p=0.1, inplace=False)\n",
       "          (linear2): Linear(in_features=2048, out_features=600, bias=True)\n",
       "          (norm1): LayerNorm((600,), eps=1e-05, elementwise_affine=True)\n",
       "          (norm2): LayerNorm((600,), eps=1e-05, elementwise_affine=True)\n",
       "          (dropout1): Dropout(p=0.1, inplace=False)\n",
       "          (dropout2): Dropout(p=0.1, inplace=False)\n",
       "        )\n",
       "        (3): TransformerEncoderLayer(\n",
       "          (self_attn): MultiheadAttention(\n",
       "            (out_proj): NonDynamicallyQuantizableLinear(in_features=600, out_features=600, bias=True)\n",
       "          )\n",
       "          (linear1): Linear(in_features=600, out_features=2048, bias=True)\n",
       "          (dropout): Dropout(p=0.1, inplace=False)\n",
       "          (linear2): Linear(in_features=2048, out_features=600, bias=True)\n",
       "          (norm1): LayerNorm((600,), eps=1e-05, elementwise_affine=True)\n",
       "          (norm2): LayerNorm((600,), eps=1e-05, elementwise_affine=True)\n",
       "          (dropout1): Dropout(p=0.1, inplace=False)\n",
       "          (dropout2): Dropout(p=0.1, inplace=False)\n",
       "        )\n",
       "        (4): TransformerEncoderLayer(\n",
       "          (self_attn): MultiheadAttention(\n",
       "            (out_proj): NonDynamicallyQuantizableLinear(in_features=600, out_features=600, bias=True)\n",
       "          )\n",
       "          (linear1): Linear(in_features=600, out_features=2048, bias=True)\n",
       "          (dropout): Dropout(p=0.1, inplace=False)\n",
       "          (linear2): Linear(in_features=2048, out_features=600, bias=True)\n",
       "          (norm1): LayerNorm((600,), eps=1e-05, elementwise_affine=True)\n",
       "          (norm2): LayerNorm((600,), eps=1e-05, elementwise_affine=True)\n",
       "          (dropout1): Dropout(p=0.1, inplace=False)\n",
       "          (dropout2): Dropout(p=0.1, inplace=False)\n",
       "        )\n",
       "        (5): TransformerEncoderLayer(\n",
       "          (self_attn): MultiheadAttention(\n",
       "            (out_proj): NonDynamicallyQuantizableLinear(in_features=600, out_features=600, bias=True)\n",
       "          )\n",
       "          (linear1): Linear(in_features=600, out_features=2048, bias=True)\n",
       "          (dropout): Dropout(p=0.1, inplace=False)\n",
       "          (linear2): Linear(in_features=2048, out_features=600, bias=True)\n",
       "          (norm1): LayerNorm((600,), eps=1e-05, elementwise_affine=True)\n",
       "          (norm2): LayerNorm((600,), eps=1e-05, elementwise_affine=True)\n",
       "          (dropout1): Dropout(p=0.1, inplace=False)\n",
       "          (dropout2): Dropout(p=0.1, inplace=False)\n",
       "        )\n",
       "      )\n",
       "    )\n",
       "  )\n",
       "  (fc_dfs_idx1): Linear(in_features=1200, out_features=250, bias=True)\n",
       "  (fc_dfs_idx2): Linear(in_features=1200, out_features=250, bias=True)\n",
       "  (fc_atom1): Linear(in_features=1200, out_features=118, bias=True)\n",
       "  (fc_atom2): Linear(in_features=1200, out_features=118, bias=True)\n",
       "  (fc_bond): Linear(in_features=1200, out_features=5, bias=True)\n",
       ")"
      ]
     },
     "execution_count": 8,
     "metadata": {},
     "output_type": "execute_result"
    }
   ],
   "source": [
    "model.to(device)"
   ]
  },
  {
   "cell_type": "code",
   "execution_count": 9,
   "id": "6c315298",
   "metadata": {},
   "outputs": [
    {
     "name": "stdout",
     "output_type": "stream",
     "text": [
      "number of trainable parameters 24696429\n"
     ]
    }
   ],
   "source": [
    "model_parameters = filter(lambda p: p.requires_grad, model.parameters())\n",
    "params = sum([np.prod(p.size()) for p in model_parameters])\n",
    "print(\"number of trainable parameters %d\"%params)"
   ]
  },
  {
   "cell_type": "markdown",
   "id": "b8208f37",
   "metadata": {},
   "source": [
    "# load dataset"
   ]
  },
  {
   "cell_type": "code",
   "execution_count": 10,
   "id": "293f7cd7",
   "metadata": {},
   "outputs": [],
   "source": [
    "trainset = pd.read_csv(\"../../datasets/mymoleculenet/bbbp/0/train.csv\")\n",
    "train_X, train_y = trainset[\"smiles\"].to_numpy(), trainset[\"target\"].to_numpy()\n",
    "traindata = Deepchem2TorchGeometric(train_X, train_y, loaddir=\"../../results/mymoleculenet_plus_features/bbbp/1/\", features=features)"
   ]
  },
  {
   "cell_type": "code",
   "execution_count": 11,
   "id": "442477d4",
   "metadata": {},
   "outputs": [],
   "source": [
    "import networkx as nx"
   ]
  },
  {
   "cell_type": "code",
   "execution_count": 12,
   "id": "34431238",
   "metadata": {},
   "outputs": [],
   "source": [
    "def nmatch(n1, n2):\n",
    "    return n1==n2\n",
    "\n",
    "def ematch(e1, e2):\n",
    "    return e1==e2\n",
    "\n",
    "def edit_distance(g1, g2):\n",
    "    return nx.graph_edit_distance(g1, g2, node_match=nmatch, edge_match=ematch)\n",
    "\n",
    "\n",
    "# exact edit distance is too expensive, we use approximate edit distance instead\n",
    "def edit_distance_approx(g1, g2, nsteps=1):\n",
    "    iterator = nx.optimize_graph_edit_distance(g1, g2, node_match=nmatch, edge_match=ematch)\n",
    "    for i in range(nsteps):\n",
    "        try:\n",
    "            res = next(iterator)\n",
    "        except:\n",
    "            break \n",
    "    return res"
   ]
  },
  {
   "cell_type": "code",
   "execution_count": 13,
   "id": "c0aaa6c9",
   "metadata": {},
   "outputs": [],
   "source": [
    "G=nx.Graph()\n",
    "G.add_node(1, id=1)\n",
    "G.add_node(2, id=5)\n",
    "G.add_node(3, id=3)\n",
    "G.add_edge(1, 2, type='a')\n",
    "G.add_edge(2, 3, type='b')\n",
    "\n",
    "\n",
    "G2=nx.Graph()\n",
    "G2.add_node(1, id=1)\n",
    "G2.add_node(2, id=2)\n",
    "G2.add_node(3, id=3)\n",
    "G2.add_edge(1, 2, type='c')\n",
    "G2.add_edge(2, 3, type='b')"
   ]
  },
  {
   "cell_type": "code",
   "execution_count": 14,
   "id": "cd10047b",
   "metadata": {},
   "outputs": [
    {
     "data": {
      "text/plain": [
       "2.0"
      ]
     },
     "execution_count": 14,
     "metadata": {},
     "output_type": "execute_result"
    }
   ],
   "source": [
    "edit_distance(G,G2)"
   ]
  },
  {
   "cell_type": "code",
   "execution_count": 15,
   "id": "531c5481",
   "metadata": {},
   "outputs": [],
   "source": [
    "def collate_graph(dlist):\n",
    "    nx_batch = []\n",
    "    smiles = []\n",
    "    \n",
    "    for d in dlist:\n",
    "        smiles += d.smiles\n",
    "        graph = nx.Graph()\n",
    "        for idx, atomic_number in enumerate(d.z.numpy()):\n",
    "            graph.add_node(idx, atomic_number=atomic_number)\n",
    "        for edge, edge_type in zip(d.edge_index.numpy().T, np.argmax(d.edge_attr.numpy(), axis=1)):\n",
    "            graph.add_edge(edge[0], edge[1], bond_type=edge_type)\n",
    "        nx_batch += [graph]\n",
    "            \n",
    "        \n",
    "    return smiles, nx_batch"
   ]
  },
  {
   "cell_type": "code",
   "execution_count": 16,
   "id": "1b618ce7",
   "metadata": {},
   "outputs": [],
   "source": [
    "def collate_fn(dlist, n_samples=n_samples):\n",
    "    node_batch = [] \n",
    "    edge_batch = []\n",
    "    y_batch = []\n",
    "    code_batch = []\n",
    "    smiles = []\n",
    "    \n",
    "    for d in dlist:\n",
    "        smiles += d.smiles\n",
    "        for _ in range(n_samples):\n",
    "            edge_features = d.edge_features.clone()\n",
    "\n",
    "            code, index = dfs_code.rnd_dfs_code_from_torch_geometric(d, d.z.numpy().tolist(), \n",
    "                                                                     np.argmax(d.edge_attr.numpy(), axis=1).tolist())\n",
    "\n",
    "            code = torch.tensor(code, dtype=torch.long)\n",
    "            index = torch.tensor(index, dtype=torch.long)\n",
    "            code_batch += [code]\n",
    "            node_batch += [d.node_features.clone()]\n",
    "            edge_batch += [edge_features]\n",
    "            y_batch += [d.y.clone()]\n",
    "            \n",
    "    y = torch.cat(y_batch).unsqueeze(1)\n",
    "    return smiles, code_batch, node_batch, edge_batch, y"
   ]
  },
  {
   "cell_type": "code",
   "execution_count": 17,
   "id": "c5dacc2c",
   "metadata": {},
   "outputs": [],
   "source": [
    "trainloaderg = DataLoader(traindata, batch_size=1, shuffle=False, pin_memory=False, \n",
    "                         collate_fn=collate_graph)\n",
    "trainloader = DataLoader(traindata, batch_size=1, shuffle=False, pin_memory=False, \n",
    "                         collate_fn=collate_fn)"
   ]
  },
  {
   "cell_type": "code",
   "execution_count": 18,
   "id": "1d25ba96",
   "metadata": {},
   "outputs": [],
   "source": [
    "graphs = {''.join(d[0]): d[-1] for d in trainloaderg}"
   ]
  },
  {
   "cell_type": "code",
   "execution_count": 19,
   "id": "5292fc62",
   "metadata": {},
   "outputs": [],
   "source": [
    "graphs = {key: value[0] for key, value in graphs.items()}"
   ]
  },
  {
   "cell_type": "code",
   "execution_count": 48,
   "id": "4309f419",
   "metadata": {},
   "outputs": [],
   "source": [
    "#'CCN(CC)CCNC(=O)c1cc(Cl)cc(Cl)c1OC'"
   ]
  },
  {
   "cell_type": "code",
   "execution_count": 30,
   "id": "e4171840",
   "metadata": {},
   "outputs": [],
   "source": [
    "reference = graphs['CCN(CC)CC(=O)OCC(=O)C1(O)CCC2C3CCC4=CC(=O)C=CC4(C)C3C(O)CC21C']"
   ]
  },
  {
   "cell_type": "code",
   "execution_count": 33,
   "id": "9387013a",
   "metadata": {},
   "outputs": [],
   "source": [
    "from rdkit import Chem\n",
    "m1 = Chem.MolFromSmiles('CCN(CC)CC(=O)OCC(=O)C1(O)CCC2C3CCC4=CC(=O)C=CC4(C)C3C(O)CC21C')"
   ]
  },
  {
   "cell_type": "code",
   "execution_count": 34,
   "id": "0e6ebadd",
   "metadata": {},
   "outputs": [
    {
     "data": {
      "image/png": "[encoded data removed]",
      "text/plain": [
       "<Figure size 216x216 with 1 Axes>"
      ]
     },
     "execution_count": 34,
     "metadata": {},
     "output_type": "execute_result"
    },
    {
     "data": {
      "image/png": "[encoded data removed]",
      "text/plain": [
       "<Figure size 216x216 with 1 Axes>"
      ]
     },
     "metadata": {
      "needs_background": "light"
     },
     "output_type": "display_data"
    }
   ],
   "source": [
    "Chem.Draw.MolToMPL(m1)"
   ]
  },
  {
   "cell_type": "code",
   "execution_count": 36,
   "id": "363634c1",
   "metadata": {},
   "outputs": [
    {
     "name": "stderr",
     "output_type": "stream",
     "text": [
      "100%|██████████████████████████████████████████████████████████████████████████████████████████████████████████████████████████████████████████████████████████████████████████| 1567/1567 [00:22<00:00, 70.11it/s]\n"
     ]
    }
   ],
   "source": [
    "edit_distances = {}\n",
    "for smiles, graph in tqdm.tqdm(graphs.items()):\n",
    "    edit_distances[smiles] = edit_distance_approx(reference, graph, 1)  "
   ]
  },
  {
   "cell_type": "code",
   "execution_count": 37,
   "id": "a2ef8157",
   "metadata": {},
   "outputs": [],
   "source": [
    "from matplotlib import pyplot as plt"
   ]
  },
  {
   "cell_type": "code",
   "execution_count": 38,
   "id": "5317da50",
   "metadata": {},
   "outputs": [
    {
     "data": {
      "text/plain": [
       "57.0"
      ]
     },
     "execution_count": 38,
     "metadata": {},
     "output_type": "execute_result"
    }
   ],
   "source": [
    "edit_distances['CCN(CC)CCNC(=O)c1cc(Br)c(N)cc1OC']"
   ]
  },
  {
   "cell_type": "code",
   "execution_count": 40,
   "id": "bc6835a6",
   "metadata": {},
   "outputs": [
    {
     "data": {
      "text/plain": [
       "array([  0.,   1.,  22.,  25.,  26.,  29.,  31.,  32.,  39.,  40.,  41.,\n",
       "        42.,  43.,  44.,  45.,  46.,  47.,  48.,  49.,  50.,  51.,  52.,\n",
       "        53.,  54.,  55.,  56.,  57.,  58.,  59.,  60.,  61.,  62.,  63.,\n",
       "        64.,  65.,  66.,  67.,  68.,  69.,  70.,  71.,  72.,  73.,  74.,\n",
       "        75.,  76.,  77.,  78.,  83.,  84.,  86.,  87.,  88.,  89.,  91.,\n",
       "        92.,  93.,  94.,  96.,  98.,  99., 101., 103., 104., 106., 110.,\n",
       "       112., 114., 116., 144., 148., 166., 199., 257.])"
      ]
     },
     "execution_count": 40,
     "metadata": {},
     "output_type": "execute_result"
    }
   ],
   "source": [
    "np.unique(list(edit_distances.values()))"
   ]
  },
  {
   "cell_type": "code",
   "execution_count": 41,
   "id": "b075279c",
   "metadata": {},
   "outputs": [
    {
     "data": {
      "text/plain": [
       "(array([  2.,   0.,   7.,   6., 199., 789., 512.,  21.,  13.,   9.,   4.,\n",
       "          0.,   0.,   2.,   0.,   1.,   0.,   0.,   1.,   0.,   0.,   0.,\n",
       "          0.,   1.]),\n",
       " array([  0.        ,  10.70833333,  21.41666667,  32.125     ,\n",
       "         42.83333333,  53.54166667,  64.25      ,  74.95833333,\n",
       "         85.66666667,  96.375     , 107.08333333, 117.79166667,\n",
       "        128.5       , 139.20833333, 149.91666667, 160.625     ,\n",
       "        171.33333333, 182.04166667, 192.75      , 203.45833333,\n",
       "        214.16666667, 224.875     , 235.58333333, 246.29166667,\n",
       "        257.        ]),\n",
       " <BarContainer object of 24 artists>)"
      ]
     },
     "execution_count": 41,
     "metadata": {},
     "output_type": "execute_result"
    },
    {
     "data": {
      "image/png": "[encoded data removed]",
      "text/plain": [
       "<Figure size 432x288 with 1 Axes>"
      ]
     },
     "metadata": {
      "needs_background": "light"
     },
     "output_type": "display_data"
    }
   ],
   "source": [
    "plt.hist(list(edit_distances.values()), bins='rice')"
   ]
  },
  {
   "cell_type": "code",
   "execution_count": 42,
   "id": "8fd362e9",
   "metadata": {},
   "outputs": [
    {
     "name": "stderr",
     "output_type": "stream",
     "text": [
      "100%|██████████████████████████████████████████████████████████████████████████████████████████████████████████████████████████████████████████████████████████████████████████| 1631/1631 [00:33<00:00, 48.47it/s]\n"
     ]
    }
   ],
   "source": [
    "encodings = {}\n",
    "encodings2 = {}\n",
    "iterator = iter(trainloader)\n",
    "for d in tqdm.tqdm(trainloader):\n",
    "    d = next(iterator)\n",
    "    smiles = ''.join(d[0])\n",
    "    d = d[1:]\n",
    "    d = [to_cuda(dd, device) for dd in d]\n",
    "    encodings[smiles] = model.encode(*d[:-1], fingerprint).detach().cpu().numpy()\n",
    "    dfs1, dfs2, atm1, atm2, bnd = model(*d[:-1])\n",
    "    enc2 = torch.cat((dfs1.mean(dim=0), dfs2.mean(dim=0), atm1.mean(dim=0), atm2.mean(dim=0), bnd.mean(dim=0)), dim=1)\n",
    "    encodings2[smiles] = enc2.detach().cpu().numpy()"
   ]
  },
  {
   "cell_type": "code",
   "execution_count": 44,
   "id": "03133533",
   "metadata": {},
   "outputs": [],
   "source": [
    "distances = {}"
   ]
  },
  {
   "cell_type": "code",
   "execution_count": 45,
   "id": "11a38470",
   "metadata": {},
   "outputs": [
    {
     "name": "stderr",
     "output_type": "stream",
     "text": [
      "100%|███████████████████████████████████████████████████████████████████████████████████████████████████████████████████████████████████████████████████████████████████████| 1567/1567 [00:00<00:00, 28348.69it/s]\n"
     ]
    }
   ],
   "source": [
    "ref_enc = encodings['CCN(CC)CC(=O)OCC(=O)C1(O)CCC2C3CCC4=CC(=O)C=CC4(C)C3C(O)CC21C']\n",
    "for smiles, enc in tqdm.tqdm(encodings.items()):\n",
    "    dists = np.linalg.norm(ref_enc - enc, axis=1)\n",
    "    distances[smiles] = np.mean(dists)"
   ]
  },
  {
   "cell_type": "code",
   "execution_count": 46,
   "id": "9875fc1c",
   "metadata": {},
   "outputs": [],
   "source": [
    "edit_dists = edit_distances.values()\n",
    "transf_dists = distances.values() "
   ]
  },
  {
   "cell_type": "code",
   "execution_count": 47,
   "id": "a64fd27a",
   "metadata": {},
   "outputs": [
    {
     "data": {
      "image/png": "[encoded data removed]",
      "text/plain": [
       "<Figure size 720x720 with 1 Axes>"
      ]
     },
     "metadata": {
      "needs_background": "light"
     },
     "output_type": "display_data"
    }
   ],
   "source": [
    "plt.figure(figsize=(10,10))\n",
    "plt.scatter(edit_dists, transf_dists, c='crimson')\n",
    "\n",
    "plt.plot([0, max(edit_dists)], [0, max(transf_dists)], 'b-')\n",
    "plt.xlabel('approximate edit distance', fontsize=15)\n",
    "plt.ylabel('Euclidean distance', fontsize=15)\n",
    "plt.show()"
   ]
  },
  {
   "cell_type": "code",
   "execution_count": null,
   "id": "7e35b77e",
   "metadata": {},
   "outputs": [],
   "source": []
  }
 ],
 "metadata": {
  "kernelspec": {
   "display_name": "Python 3 (ipykernel)",
   "language": "python",
   "name": "python3"
  },
  "language_info": {
   "codemirror_mode": {
    "name": "ipython",
    "version": 3
   },
   "file_extension": ".py",
   "mimetype": "text/x-python",
   "name": "python",
   "nbconvert_exporter": "python",
   "pygments_lexer": "ipython3",
   "version": "3.8.3"
  }
 },
 "nbformat": 4,
 "nbformat_minor": 5
}
