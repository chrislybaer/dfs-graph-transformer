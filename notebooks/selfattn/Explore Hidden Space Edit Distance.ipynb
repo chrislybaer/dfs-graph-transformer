{
 "cells": [
  {
   "cell_type": "code",
   "execution_count": 1,
   "id": "77c42268",
   "metadata": {},
   "outputs": [],
   "source": [
    "%load_ext autoreload\n",
    "%autoreload 2"
   ]
  },
  {
   "cell_type": "code",
   "execution_count": 2,
   "id": "13f80d60",
   "metadata": {},
   "outputs": [
    {
     "ename": "ImportError",
     "evalue": "cannot import name 'Enzymes' from 'dfs_transformer' (/home/chrisw/Documents/projects/2023/graph-transformer/notebooks/selfattn/../../src/dfs_transformer/__init__.py)",
     "output_type": "error",
     "traceback": [
      "\u001b[0;31m---------------------------------------------------------------------------\u001b[0m",
      "\u001b[0;31mImportError\u001b[0m                               Traceback (most recent call last)",
      "\u001b[0;32m/tmp/ipykernel_47395/2714261309.py\u001b[0m in \u001b[0;36m<module>\u001b[0;34m\u001b[0m\n\u001b[1;32m     20\u001b[0m \u001b[0;32mfrom\u001b[0m \u001b[0mml_collections\u001b[0m \u001b[0;32mimport\u001b[0m \u001b[0mConfigDict\u001b[0m\u001b[0;34m\u001b[0m\u001b[0;34m\u001b[0m\u001b[0m\n\u001b[1;32m     21\u001b[0m \u001b[0msys\u001b[0m\u001b[0;34m.\u001b[0m\u001b[0mpath\u001b[0m \u001b[0;34m=\u001b[0m \u001b[0;34m[\u001b[0m\u001b[0;34m'../../src'\u001b[0m\u001b[0;34m]\u001b[0m \u001b[0;34m+\u001b[0m \u001b[0msys\u001b[0m\u001b[0;34m.\u001b[0m\u001b[0mpath\u001b[0m\u001b[0;34m\u001b[0m\u001b[0;34m\u001b[0m\u001b[0m\n\u001b[0;32m---> 22\u001b[0;31m \u001b[0;32mfrom\u001b[0m \u001b[0mdfs_transformer\u001b[0m \u001b[0;32mimport\u001b[0m \u001b[0mDFSCodeSeq2SeqFC\u001b[0m\u001b[0;34m,\u001b[0m \u001b[0mDeepchem2TorchGeometric\u001b[0m\u001b[0;34m,\u001b[0m \u001b[0mTrainer\u001b[0m\u001b[0;34m,\u001b[0m \u001b[0mto_cuda\u001b[0m\u001b[0;34m,\u001b[0m \u001b[0mEnzymes\u001b[0m\u001b[0;34m\u001b[0m\u001b[0;34m\u001b[0m\u001b[0m\n\u001b[0m\u001b[1;32m     23\u001b[0m \u001b[0;32mfrom\u001b[0m \u001b[0mgraphein\u001b[0m\u001b[0;34m.\u001b[0m\u001b[0mprotein\u001b[0m\u001b[0;34m.\u001b[0m\u001b[0mresi_atoms\u001b[0m \u001b[0;32mimport\u001b[0m \u001b[0mRESI_THREE_TO_1\u001b[0m\u001b[0;34m,\u001b[0m \u001b[0mAMINO_ACIDS\u001b[0m\u001b[0;34m\u001b[0m\u001b[0;34m\u001b[0m\u001b[0m\n",
      "\u001b[0;31mImportError\u001b[0m: cannot import name 'Enzymes' from 'dfs_transformer' (/home/chrisw/Documents/projects/2023/graph-transformer/notebooks/selfattn/../../src/dfs_transformer/__init__.py)"
     ]
    }
   ],
   "source": [
    "import json\n",
    "import numpy as np\n",
    "from torch.utils.data import Dataset, DataLoader\n",
    "import glob\n",
    "import wandb\n",
    "import os\n",
    "import torch.optim as optimizers\n",
    "import dfs_code\n",
    "from torch_geometric.data import InMemoryDataset, Data\n",
    "import pickle\n",
    "import torch\n",
    "import torch.nn as nn\n",
    "import tqdm\n",
    "import copy\n",
    "import pandas as pd\n",
    "import torch.nn.functional as F\n",
    "import sys\n",
    "import yaml\n",
    "import functools\n",
    "from ml_collections import ConfigDict\n",
    "sys.path = ['../../src'] + sys.path\n",
    "from dfs_transformer import DFSCodeSeq2SeqFC, Deepchem2TorchGeometric, Trainer, to_cuda, Enzymes\n",
    "from graphein.protein.resi_atoms import RESI_THREE_TO_1, AMINO_ACIDS"
   ]
  },
  {
   "cell_type": "markdown",
   "id": "c3a108f5",
   "metadata": {},
   "source": [
    "# download pretrained model"
   ]
  },
  {
   "cell_type": "code",
   "execution_count": null,
   "id": "176b1c7e",
   "metadata": {},
   "outputs": [],
   "source": [
    "run = wandb.init(mode=\"online\", \n",
    "                 project=\"pubchem\", \n",
    "                 entity=\"dfstransformer\", \n",
    "                 job_type=\"inference\")\n",
    "\n",
    "model_at = run.use_artifact(\"bertloops0.3-10M-nofeats\" + \":latest\")\n",
    "model_at = run.use_artifact(\"rnd2min-1M-nofeats\" + \":latest\")\n",
    "\n",
    "model_dir = model_at.download()\n",
    "run.finish()\n",
    "features = None #\"chemprop\"\n",
    "n_samples = 10\n",
    "fingerprint = 'min-mean-max-std'\n",
    "fingerprint = 'cls'\n",
    "load_flag = True"
   ]
  },
  {
   "cell_type": "code",
   "execution_count": null,
   "id": "c6572c8c",
   "metadata": {},
   "outputs": [],
   "source": [
    "with open(model_dir+\"/config.yaml\") as file:\n",
    "    config = ConfigDict(yaml.load(file, Loader=yaml.FullLoader))"
   ]
  },
  {
   "cell_type": "code",
   "execution_count": null,
   "id": "f2ff8a99",
   "metadata": {},
   "outputs": [],
   "source": [
    "device = torch.device('cuda:%d'%config.training.gpu_id if torch.cuda.is_available()  else 'cpu')"
   ]
  },
  {
   "cell_type": "code",
   "execution_count": null,
   "id": "d1852e4f",
   "metadata": {},
   "outputs": [],
   "source": [
    "m = config.model"
   ]
  },
  {
   "cell_type": "code",
   "execution_count": null,
   "id": "41d00902",
   "metadata": {},
   "outputs": [],
   "source": [
    "model = DFSCodeSeq2SeqFC(**m)\n",
    "if load_flag:\n",
    "    model.load_state_dict(torch.load(model_dir+'/checkpoint.pt', map_location=device))"
   ]
  },
  {
   "cell_type": "code",
   "execution_count": null,
   "id": "fd8dbda2",
   "metadata": {},
   "outputs": [],
   "source": [
    "model.to(device)"
   ]
  },
  {
   "cell_type": "code",
   "execution_count": null,
   "id": "6c315298",
   "metadata": {},
   "outputs": [],
   "source": [
    "model_parameters = filter(lambda p: p.requires_grad, model.parameters())\n",
    "params = sum([np.prod(p.size()) for p in model_parameters])\n",
    "print(\"number of trainable parameters %d\"%params)"
   ]
  },
  {
   "cell_type": "markdown",
   "id": "b8208f37",
   "metadata": {},
   "source": [
    "# load dataset"
   ]
  },
  {
   "cell_type": "code",
   "execution_count": null,
   "id": "293f7cd7",
   "metadata": {},
   "outputs": [],
   "source": [
    "trainset = pd.read_csv(\"../../datasets/mymoleculenet/bbbp/0/train.csv\")\n",
    "train_X, train_y = trainset[\"smiles\"].to_numpy(), trainset[\"target\"].to_numpy()\n",
    "traindata = Deepchem2TorchGeometric(train_X, train_y, loaddir=\"../../results/mymoleculenet_plus_features/bbbp/1/\", features=features)"
   ]
  },
  {
   "cell_type": "code",
   "execution_count": null,
   "id": "ae3eca22",
   "metadata": {},
   "outputs": [],
   "source": [
    "import networkx as nx"
   ]
  },
  {
   "cell_type": "code",
   "execution_count": null,
   "id": "108d8f65",
   "metadata": {},
   "outputs": [],
   "source": [
    "def nmatch(n1, n2):\n",
    "    return n1==n2\n",
    "\n",
    "def ematch(e1, e2):\n",
    "    return e1==e2\n",
    "\n",
    "def edit_distance(g1, g2):\n",
    "    return nx.graph_edit_distance(g1, g2, node_match=nmatch, edge_match=ematch)\n",
    "\n",
    "\n",
    "# exact edit distance is too expensive, we use approximate edit distance instead\n",
    "def edit_distance_approx(g1, g2, nsteps=1):\n",
    "    iterator = nx.optimize_graph_edit_distance(g1, g2, node_match=nmatch, edge_match=ematch)\n",
    "    for i in range(nsteps):\n",
    "        try:\n",
    "            res = next(iterator)\n",
    "        except:\n",
    "            break \n",
    "    return res"
   ]
  },
  {
   "cell_type": "code",
   "execution_count": null,
   "id": "837f218a",
   "metadata": {},
   "outputs": [],
   "source": [
    "G=nx.Graph()\n",
    "G.add_node(1, id=1)\n",
    "G.add_node(2, id=5)\n",
    "G.add_node(3, id=3)\n",
    "G.add_edge(1, 2, type='a')\n",
    "G.add_edge(2, 3, type='b')\n",
    "\n",
    "\n",
    "G2=nx.Graph()\n",
    "G2.add_node(1, id=1)\n",
    "G2.add_node(2, id=2)\n",
    "G2.add_node(3, id=3)\n",
    "G2.add_edge(1, 2, type='c')\n",
    "G2.add_edge(2, 3, type='b')"
   ]
  },
  {
   "cell_type": "code",
   "execution_count": null,
   "id": "5cdba391",
   "metadata": {},
   "outputs": [],
   "source": [
    "edit_distance(G,G2)"
   ]
  },
  {
   "cell_type": "code",
   "execution_count": null,
   "id": "4cca00a4",
   "metadata": {},
   "outputs": [],
   "source": [
    "def collate_graph(dlist):\n",
    "    nx_batch = []\n",
    "    smiles = []\n",
    "    \n",
    "    for d in dlist:\n",
    "        smiles += d.smiles\n",
    "        graph = nx.Graph()\n",
    "        for idx, atomic_number in enumerate(d.z.numpy()):\n",
    "            graph.add_node(idx, atomic_number=atomic_number)\n",
    "        for edge, edge_type in zip(d.edge_index.numpy().T, np.argmax(d.edge_attr.numpy(), axis=1)):\n",
    "            graph.add_edge(edge[0], edge[1], bond_type=edge_type)\n",
    "        nx_batch += [graph]\n",
    "            \n",
    "        \n",
    "    return smiles, nx_batch"
   ]
  },
  {
   "cell_type": "code",
   "execution_count": null,
   "id": "1b618ce7",
   "metadata": {},
   "outputs": [],
   "source": [
    "def collate_fn(dlist, n_samples=n_samples):\n",
    "    node_batch = [] \n",
    "    edge_batch = []\n",
    "    y_batch = []\n",
    "    code_batch = []\n",
    "    smiles = []\n",
    "    \n",
    "    for d in dlist:\n",
    "        smiles += d.smiles\n",
    "        for _ in range(n_samples):\n",
    "            edge_features = d.edge_features.clone()\n",
    "\n",
    "            code, index = dfs_code.rnd_dfs_code_from_torch_geometric(d, d.z.numpy().tolist(), \n",
    "                                                                     np.argmax(d.edge_attr.numpy(), axis=1).tolist())\n",
    "\n",
    "            code = torch.tensor(code, dtype=torch.long)\n",
    "            index = torch.tensor(index, dtype=torch.long)\n",
    "            code_batch += [code]\n",
    "            node_batch += [d.node_features.clone()]\n",
    "            edge_batch += [edge_features]\n",
    "            y_batch += [d.y.clone()]\n",
    "            \n",
    "    y = torch.cat(y_batch).unsqueeze(1)\n",
    "    return smiles, code_batch, node_batch, edge_batch, y"
   ]
  },
  {
   "cell_type": "code",
   "execution_count": null,
   "id": "c5dacc2c",
   "metadata": {},
   "outputs": [],
   "source": [
    "trainloaderg = DataLoader(traindata, batch_size=1, shuffle=False, pin_memory=False, \n",
    "                         collate_fn=collate_graph)\n",
    "trainloader = DataLoader(traindata, batch_size=1, shuffle=False, pin_memory=False, \n",
    "                         collate_fn=collate_fn)"
   ]
  },
  {
   "cell_type": "code",
   "execution_count": null,
   "id": "32559144",
   "metadata": {},
   "outputs": [],
   "source": [
    "graphs = {''.join(d[0]): d[-1] for d in trainloaderg}"
   ]
  },
  {
   "cell_type": "code",
   "execution_count": null,
   "id": "d00e734a",
   "metadata": {},
   "outputs": [],
   "source": [
    "graphs = {key: value[0] for key, value in graphs.items()}"
   ]
  },
  {
   "cell_type": "code",
   "execution_count": 20,
   "id": "63c0e086",
   "metadata": {},
   "outputs": [],
   "source": [
    "#'CCN(CC)CCNC(=O)c1cc(Cl)cc(Cl)c1OC'"
   ]
  },
  {
   "cell_type": "code",
   "execution_count": 21,
   "id": "a4fe4cf0",
   "metadata": {},
   "outputs": [],
   "source": [
    "reference = graphs['CCN(CC)CCNC(=O)c1cc(Cl)cc(Cl)c1OC']"
   ]
  },
  {
   "cell_type": "markdown",
   "id": "66c09076",
   "metadata": {},
   "source": [
    "from rdkit import Chem\n",
    "m1 = Chem.MolFromSmiles('CCN(CC)CC(=O)OCC(=O)C1(O)CCC2C3CCC4=CC(=O)C=CC4(C)C3C(O)CC21C')"
   ]
  },
  {
   "cell_type": "markdown",
   "id": "07888eab",
   "metadata": {},
   "source": [
    "Chem.Draw.MolToMPL(m1)"
   ]
  },
  {
   "cell_type": "code",
   "execution_count": 22,
   "id": "3e223fe1",
   "metadata": {},
   "outputs": [
    {
     "name": "stderr",
     "output_type": "stream",
     "text": [
      "100%|█████████████████████████████████████████████████████████████████████████████████████████████████████████████████████████████████████████████████████████████████████████| 1567/1567 [00:13<00:00, 114.69it/s]\n"
     ]
    }
   ],
   "source": [
    "edit_distances = {}\n",
    "for smiles, graph in tqdm.tqdm(graphs.items()):\n",
    "    edit_distances[smiles] = edit_distance_approx(reference, graph, 1)  "
   ]
  },
  {
   "cell_type": "code",
   "execution_count": 23,
   "id": "8f79d915",
   "metadata": {},
   "outputs": [],
   "source": [
    "from matplotlib import pyplot as plt"
   ]
  },
  {
   "cell_type": "code",
   "execution_count": 24,
   "id": "a5df829e",
   "metadata": {},
   "outputs": [
    {
     "data": {
      "text/plain": [
       "(array([  2.,  11., 344., 684., 276., 144.,  51.,  20.,  10.,   8.,  11.,\n",
       "          1.,   0.,   0.,   2.,   0.,   1.,   0.,   1.,   0.,   0.,   0.,\n",
       "          0.,   1.]),\n",
       " array([  0.,  11.,  22.,  33.,  44.,  55.,  66.,  77.,  88.,  99., 110.,\n",
       "        121., 132., 143., 154., 165., 176., 187., 198., 209., 220., 231.,\n",
       "        242., 253., 264.]),\n",
       " <BarContainer object of 24 artists>)"
      ]
     },
     "execution_count": 24,
     "metadata": {},
     "output_type": "execute_result"
    },
    {
     "data": {
      "image/png": "[encoded data removed]",
      "text/plain": [
       "<Figure size 432x288 with 1 Axes>"
      ]
     },
     "metadata": {
      "needs_background": "light"
     },
     "output_type": "display_data"
    }
   ],
   "source": [
    "plt.hist(list(edit_distances.values()), bins='rice')"
   ]
  },
  {
   "cell_type": "code",
   "execution_count": 25,
   "id": "8fd362e9",
   "metadata": {},
   "outputs": [
    {
     "name": "stderr",
     "output_type": "stream",
     "text": [
      "100%|██████████████████████████████████████████████████████████████████████████████████████████████████████████████████████████████████████████████████████████████████████████| 1631/1631 [00:32<00:00, 49.66it/s]\n"
     ]
    }
   ],
   "source": [
    "encodings = {}\n",
    "encodings2 = {}\n",
    "iterator = iter(trainloader)\n",
    "for d in tqdm.tqdm(trainloader):\n",
    "    d = next(iterator)\n",
    "    smiles = ''.join(d[0])\n",
    "    d = d[1:]\n",
    "    d = [to_cuda(dd, device) for dd in d]\n",
    "    encodings[smiles] = model.encode(*d[:-1], fingerprint).detach().cpu().numpy()\n",
    "    dfs1, dfs2, atm1, atm2, bnd = model(*d[:-1])\n",
    "    enc2 = torch.cat((dfs1.mean(dim=0), dfs2.mean(dim=0), atm1.mean(dim=0), atm2.mean(dim=0), bnd.mean(dim=0)), dim=1)\n",
    "    encodings2[smiles] = enc2.detach().cpu().numpy()"
   ]
  },
  {
   "cell_type": "code",
   "execution_count": 26,
   "id": "c5fb6f5d",
   "metadata": {},
   "outputs": [],
   "source": [
    "distances = {}"
   ]
  },
  {
   "cell_type": "code",
   "execution_count": 27,
   "id": "c5494360",
   "metadata": {},
   "outputs": [
    {
     "name": "stderr",
     "output_type": "stream",
     "text": [
      "100%|███████████████████████████████████████████████████████████████████████████████████████████████████████████████████████████████████████████████████████████████████████| 1567/1567 [00:00<00:00, 33890.09it/s]\n"
     ]
    }
   ],
   "source": [
    "ref_enc = encodings['CCN(CC)CCNC(=O)c1cc(Cl)cc(Cl)c1OC']\n",
    "for smiles, enc in tqdm.tqdm(encodings.items()):\n",
    "    dists = np.linalg.norm(ref_enc - enc, axis=1)\n",
    "    distances[smiles] = np.mean(dists)"
   ]
  },
  {
   "cell_type": "code",
   "execution_count": 28,
   "id": "513f18f2",
   "metadata": {},
   "outputs": [],
   "source": [
    "edit_dists = edit_distances.values()\n",
    "transf_dists = distances.values() "
   ]
  },
  {
   "cell_type": "code",
   "execution_count": 29,
   "id": "004713f0",
   "metadata": {},
   "outputs": [
    {
     "data": {
      "image/png": "[encoded data removed]",
      "text/plain": [
       "<Figure size 720x720 with 1 Axes>"
      ]
     },
     "metadata": {
      "needs_background": "light"
     },
     "output_type": "display_data"
    }
   ],
   "source": [
    "plt.figure(figsize=(10,10))\n",
    "plt.scatter(edit_dists, transf_dists, c='crimson')\n",
    "\n",
    "plt.plot([0, max(edit_dists)], [0, max(transf_dists)], 'b-')\n",
    "plt.xlabel('approximate edit distance', fontsize=15)\n",
    "plt.ylabel('Euclidean distance', fontsize=15)\n",
    "plt.show()"
   ]
  },
  {
   "cell_type": "markdown",
   "id": "3baee78c",
   "metadata": {},
   "source": [
    "# what happens along an edit path"
   ]
  },
  {
   "cell_type": "code",
   "execution_count": 30,
   "id": "09ef3b0f",
   "metadata": {},
   "outputs": [
    {
     "name": "stdout",
     "output_type": "stream",
     "text": [
      "[  0.   4.  12.  13.  15.  17.  18.  19.  20.  21.  22.  23.  24.  25.\n",
      "  26.  27.  28.  29.  30.  31.  32.  33.  34.  35.  36.  37.  38.  39.\n",
      "  40.  41.  42.  43.  44.  45.  46.  47.  48.  49.  50.  51.  52.  53.\n",
      "  54.  55.  56.  57.  58.  59.  60.  61.  62.  63.  64.  65.  66.  67.\n",
      "  68.  69.  70.  71.  72.  73.  74.  75.  76.  77.  78.  80.  81.  82.\n",
      "  83.  84.  85.  86.  92.  94.  95.  96.  98.  99. 101. 103. 106. 107.\n",
      " 109. 110. 111. 113. 114. 115. 116. 118. 120. 122. 160. 177. 200. 264.]\n",
      "CCN(CC)CCNC(=O)COc1ccc(Cl)cc1\n"
     ]
    }
   ],
   "source": [
    "print(np.unique(list(edit_distances.values())))\n",
    "for smiles, dist in edit_distances.items():\n",
    "    if dist == 12:\n",
    "        print(smiles)\n",
    "        break"
   ]
  },
  {
   "cell_type": "markdown",
   "id": "96c4a204",
   "metadata": {},
   "source": [
    "paths, cost = nx.optimal_edit_paths(reference, graphs['CCN(CC)CCNC(=O)COc1ccc(Cl)cc1'])"
   ]
  },
  {
   "cell_type": "code",
   "execution_count": null,
   "id": "55d74443",
   "metadata": {},
   "outputs": [],
   "source": []
  }
 ],
 "metadata": {
  "kernelspec": {
   "display_name": "Python 3 (ipykernel)",
   "language": "python",
   "name": "python3"
  },
  "language_info": {
   "codemirror_mode": {
    "name": "ipython",
    "version": 3
   },
   "file_extension": ".py",
   "mimetype": "text/x-python",
   "name": "python",
   "nbconvert_exporter": "python",
   "pygments_lexer": "ipython3",
   "version": "3.9.13"
  }
 },
 "nbformat": 4,
 "nbformat_minor": 5
}
