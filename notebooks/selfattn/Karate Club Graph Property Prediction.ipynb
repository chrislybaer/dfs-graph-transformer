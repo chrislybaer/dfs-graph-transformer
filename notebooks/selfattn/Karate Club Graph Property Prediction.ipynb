{
 "cells": [
  {
   "cell_type": "code",
   "execution_count": 1,
   "id": "4f001349",
   "metadata": {},
   "outputs": [],
   "source": [
    "%load_ext autoreload\n",
    "%autoreload 2"
   ]
  },
  {
   "cell_type": "code",
   "execution_count": 2,
   "id": "96dfaad5",
   "metadata": {},
   "outputs": [
    {
     "name": "stderr",
     "output_type": "stream",
     "text": [
      "WARNING:root:No normalization for BCUT2D_MWHI\n",
      "WARNING:root:No normalization for BCUT2D_MWLOW\n",
      "WARNING:root:No normalization for BCUT2D_CHGHI\n",
      "WARNING:root:No normalization for BCUT2D_CHGLO\n",
      "WARNING:root:No normalization for BCUT2D_LOGPHI\n",
      "WARNING:root:No normalization for BCUT2D_LOGPLOW\n",
      "WARNING:root:No normalization for BCUT2D_MRHI\n",
      "WARNING:root:No normalization for BCUT2D_MRLOW\n",
      "Using backend: pytorch\n"
     ]
    }
   ],
   "source": [
    "import json\n",
    "import numpy as np\n",
    "from torch.utils.data import Dataset, DataLoader\n",
    "import glob\n",
    "import wandb\n",
    "import os\n",
    "import torch.optim as optimizers\n",
    "import pandas as pd\n",
    "from copy import deepcopy\n",
    "from ml_collections import ConfigDict \n",
    "import tqdm\n",
    "import torch.nn.functional as F\n",
    "import torch\n",
    "import torch.nn as nn\n",
    "from collections import defaultdict\n",
    "import yaml\n",
    "from sklearn.metrics import roc_auc_score\n",
    "import networkx as nx\n",
    "\n",
    "import sys\n",
    "sys.path.append(\"../../src\")\n",
    "import dfs_code \n",
    "from dfs_transformer import collate_downstream, DFSCodeSeq2SeqFC, Trainer\n",
    "torch.multiprocessing.set_sharing_strategy('file_system')\n"
   ]
  },
  {
   "cell_type": "code",
   "execution_count": 3,
   "id": "1ed17efc",
   "metadata": {},
   "outputs": [],
   "source": [
    "graph_file = \"/mnt/ssd/datasets/graphs/reddit_threads/reddit_edges.json\"\n",
    "label_file = \"/mnt/ssd/datasets/graphs/reddit_threads/reddit_target.csv\"\n",
    "batch_size = 1000\n",
    "rep = 1\n",
    "max_edges = 50\n",
    "n_samples = None"
   ]
  },
  {
   "cell_type": "code",
   "execution_count": 4,
   "id": "d0fb23f3",
   "metadata": {},
   "outputs": [],
   "source": [
    "with open(graph_file, 'r') as f:\n",
    "    graph_dict = json.load(f)\n",
    "label_df = pd.read_csv(label_file)"
   ]
  },
  {
   "cell_type": "code",
   "execution_count": 5,
   "id": "6fabc13e",
   "metadata": {},
   "outputs": [
    {
     "data": {
      "text/html": [
       "<div>\n",
       "<style scoped>\n",
       "    .dataframe tbody tr th:only-of-type {\n",
       "        vertical-align: middle;\n",
       "    }\n",
       "\n",
       "    .dataframe tbody tr th {\n",
       "        vertical-align: top;\n",
       "    }\n",
       "\n",
       "    .dataframe thead th {\n",
       "        text-align: right;\n",
       "    }\n",
       "</style>\n",
       "<table border=\"1\" class=\"dataframe\">\n",
       "  <thead>\n",
       "    <tr style=\"text-align: right;\">\n",
       "      <th></th>\n",
       "      <th>id</th>\n",
       "      <th>target</th>\n",
       "    </tr>\n",
       "  </thead>\n",
       "  <tbody>\n",
       "    <tr>\n",
       "      <th>0</th>\n",
       "      <td>0</td>\n",
       "      <td>0</td>\n",
       "    </tr>\n",
       "    <tr>\n",
       "      <th>1</th>\n",
       "      <td>1</td>\n",
       "      <td>1</td>\n",
       "    </tr>\n",
       "    <tr>\n",
       "      <th>2</th>\n",
       "      <td>2</td>\n",
       "      <td>0</td>\n",
       "    </tr>\n",
       "    <tr>\n",
       "      <th>3</th>\n",
       "      <td>3</td>\n",
       "      <td>1</td>\n",
       "    </tr>\n",
       "    <tr>\n",
       "      <th>4</th>\n",
       "      <td>4</td>\n",
       "      <td>0</td>\n",
       "    </tr>\n",
       "  </tbody>\n",
       "</table>\n",
       "</div>"
      ],
      "text/plain": [
       "   id  target\n",
       "0   0       0\n",
       "1   1       1\n",
       "2   2       0\n",
       "3   3       1\n",
       "4   4       0"
      ]
     },
     "execution_count": 5,
     "metadata": {},
     "output_type": "execute_result"
    }
   ],
   "source": [
    "label_df.head()"
   ]
  },
  {
   "cell_type": "code",
   "execution_count": 6,
   "id": "ece9b3d2",
   "metadata": {},
   "outputs": [
    {
     "data": {
      "image/png": "[encoded data removed]",
      "text/plain": [
       "<Figure size 432x288 with 1 Axes>"
      ]
     },
     "metadata": {
      "needs_background": "light"
     },
     "output_type": "display_data"
    }
   ],
   "source": [
    "from matplotlib import pyplot as plt\n",
    "n_edges = [len(graph) for graph in graph_dict.values()]\n",
    "plt.hist(n_edges, bins='rice')\n",
    "plt.show()"
   ]
  },
  {
   "cell_type": "code",
   "execution_count": 7,
   "id": "75c6fdc8",
   "metadata": {},
   "outputs": [],
   "source": [
    "connected =  []\n",
    "for graph in graph_dict.values():\n",
    "    g = nx.Graph()\n",
    "    g.add_edges_from(graph)\n",
    "    connected += [nx.is_connected(g)]"
   ]
  },
  {
   "cell_type": "code",
   "execution_count": 8,
   "id": "58054d84",
   "metadata": {},
   "outputs": [],
   "source": [
    "connected = np.asarray(connected)"
   ]
  },
  {
   "cell_type": "code",
   "execution_count": 9,
   "id": "00eeac51",
   "metadata": {},
   "outputs": [
    {
     "data": {
      "text/plain": [
       "1.0"
      ]
     },
     "execution_count": 9,
     "metadata": {},
     "output_type": "execute_result"
    }
   ],
   "source": [
    "connected.sum()/len(connected)"
   ]
  },
  {
   "cell_type": "code",
   "execution_count": 10,
   "id": "af92f81c",
   "metadata": {},
   "outputs": [],
   "source": [
    "def graph2labelledgraph(graph, use_dummy=False):\n",
    "    graph = deepcopy(graph)\n",
    "    node_ids = np.unique(graph).tolist()\n",
    "    dummy = max(node_ids) + 1\n",
    "    \n",
    "    edge_labels = len(graph)*[0]\n",
    "    edgeindex = []\n",
    "    for e in graph:\n",
    "        edgeindex += [e]\n",
    "        edgeindex += [[e[1], e[0]]]\n",
    "        edge_labels += [0]\n",
    "    \n",
    "    if use_dummy:\n",
    "        for idx in node_ids:\n",
    "            edgeindex += [[idx, dummy], [dummy, idx]]\n",
    "            edge_labels += [1, 1]\n",
    "        node_ids += [dummy]\n",
    "    \n",
    "    edgeindex = np.asarray(edgeindex).T\n",
    "    \n",
    "    node_labels = []\n",
    "    for idx in node_ids:\n",
    "        node_labels += [(edgeindex[0] == idx).sum()]\n",
    "    return edgeindex, node_labels, edge_labels"
   ]
  },
  {
   "cell_type": "code",
   "execution_count": 11,
   "id": "6444d809",
   "metadata": {},
   "outputs": [],
   "source": [
    "def graph2labelledlinegraph(graph):\n",
    "    raise NotImplementedError()"
   ]
  },
  {
   "cell_type": "code",
   "execution_count": 12,
   "id": "cd25c5e7",
   "metadata": {},
   "outputs": [],
   "source": [
    "import networkx as nx\n",
    "\n",
    "edgeindex, node_labels, edge_labels = graph2labelledgraph(graph)\n",
    "g = nx.Graph()\n",
    "g.add_edges_from(graph)"
   ]
  },
  {
   "cell_type": "code",
   "execution_count": 13,
   "id": "d21c0b56",
   "metadata": {},
   "outputs": [],
   "source": [
    "lg = nx.generators.line.line_graph(g)"
   ]
  },
  {
   "cell_type": "code",
   "execution_count": 14,
   "id": "498b58a7",
   "metadata": {},
   "outputs": [
    {
     "data": {
      "text/plain": [
       "True"
      ]
     },
     "execution_count": 14,
     "metadata": {},
     "output_type": "execute_result"
    }
   ],
   "source": [
    "nx.is_connected(lg)"
   ]
  },
  {
   "cell_type": "code",
   "execution_count": 15,
   "id": "a93e48ae",
   "metadata": {},
   "outputs": [
    {
     "data": {
      "image/png": "[encoded data removed]",
      "text/plain": [
       "<Figure size 432x288 with 1 Axes>"
      ]
     },
     "metadata": {},
     "output_type": "display_data"
    }
   ],
   "source": [
    "nx.draw(g)"
   ]
  },
  {
   "cell_type": "code",
   "execution_count": 16,
   "id": "3c299c3e",
   "metadata": {},
   "outputs": [],
   "source": [
    "graph = graph_dict['0']\n",
    "code, index = dfs_code.min_dfs_code_from_edgeindex(*graph2labelledgraph(graph))"
   ]
  },
  {
   "cell_type": "code",
   "execution_count": 17,
   "id": "b3d7b0cb",
   "metadata": {},
   "outputs": [],
   "source": [
    "edgeindex, vlabels, elabels = graph2labelledgraph(graph)"
   ]
  },
  {
   "cell_type": "code",
   "execution_count": 18,
   "id": "865cd469",
   "metadata": {},
   "outputs": [],
   "source": [
    "code2, index2 = dfs_code.rnd_dfs_code_from_edgeindex(*graph2labelledgraph(graph))"
   ]
  },
  {
   "cell_type": "code",
   "execution_count": 19,
   "id": "63715928",
   "metadata": {},
   "outputs": [],
   "source": [
    "class KarateClubDataset(Dataset):\n",
    "    def __init__(self, graph_file, label_file, max_n = None, max_edges=50):\n",
    "        self.graph_file = graph_file\n",
    "        self.label_file = label_file\n",
    "        with open(graph_file, 'r') as f:\n",
    "            self.graph_dict = json.load(f)\n",
    "        self.label_df = pd.read_csv(label_file)\n",
    "        self.data = []\n",
    "        self.maxn = max_n\n",
    "        self.max_edges = max_edges\n",
    "        self.preprocess()\n",
    "    \n",
    "    def preprocess(self):\n",
    "        maxn = self.maxn\n",
    "        maxdegree = 0\n",
    "        edgeindex_list = []\n",
    "        vlabels_list = []\n",
    "        elabels_list = []\n",
    "        label_list = self.label_df['target'][:maxn]\n",
    "        for idx, (graph, label) in tqdm.tqdm(enumerate(zip(self.graph_dict.values(), self.label_df['target']))):  \n",
    "            edgeindex, vlabels, elabels = graph2labelledgraph(graph)\n",
    "            if len(elabels)//2 > self.max_edges:\n",
    "                continue\n",
    "            maxdegree = max(maxdegree, max(vlabels))\n",
    "            edgeindex_list += [edgeindex]\n",
    "            vlabels_list += [vlabels]\n",
    "            elabels_list += [elabels]\n",
    "            if maxn is not None:\n",
    "                if idx >= maxn:\n",
    "                    break\n",
    "        self.maxdegree = maxdegree\n",
    "        \n",
    "        for idx, (edgeindex, vlabels, elabels, label) in tqdm.tqdm(enumerate(zip(edgeindex_list,\n",
    "                                                                                vlabels_list,\n",
    "                                                                                elabels_list, \n",
    "                                                                                label_list))):  \n",
    "            node_features = F.one_hot(torch.tensor(vlabels), num_classes=maxdegree+1).float()\n",
    "            edge_features = F.one_hot(torch.tensor(elabels), num_classes=2).float()\n",
    "            #code, index = dfs_code.rnd_dfs_code_from_edgeindex(edgeindex, vlabels, elabels)\n",
    "            self.data += [ConfigDict({\"node_labels\":torch.tensor(vlabels),\n",
    "                                    \"edge_labels\":torch.tensor(elabels),\n",
    "                                    \"edge_index\":torch.tensor(edgeindex, dtype=torch.long),\n",
    "                                    #\"min_dfs_code\":torch.tensor(code),\n",
    "                                    #\"min_dfs_index\":torch.tensor(index, dtype=torch.long),\n",
    "                                    \"node_features\":node_features,\n",
    "                                    \"edge_features\":edge_features,\n",
    "                                    \"y\": torch.tensor(label, dtype=torch.float32),\n",
    "                                    \"idx\":idx})]\n",
    "\n",
    "    def __len__(self):\n",
    "        return len(self.data)\n",
    "\n",
    "    def __getitem__(self, idx):\n",
    "        return self.data[idx]\n",
    "        "
   ]
  },
  {
   "cell_type": "code",
   "execution_count": 20,
   "id": "7e0af6f4",
   "metadata": {},
   "outputs": [
    {
     "name": "stderr",
     "output_type": "stream",
     "text": [
      "203088it [00:38, 5247.26it/s]\n",
      "182788it [00:20, 9069.23it/s]\n"
     ]
    }
   ],
   "source": [
    "dataset = KarateClubDataset(graph_file, label_file, max_n=n_samples, max_edges=max_edges)"
   ]
  },
  {
   "cell_type": "code",
   "execution_count": 21,
   "id": "d10d026b",
   "metadata": {},
   "outputs": [
    {
     "data": {
      "text/plain": [
       "182788"
      ]
     },
     "execution_count": 21,
     "metadata": {},
     "output_type": "execute_result"
    }
   ],
   "source": [
    "len(dataset)"
   ]
  },
  {
   "cell_type": "code",
   "execution_count": 22,
   "id": "be3b997c",
   "metadata": {},
   "outputs": [],
   "source": [
    "n = len(dataset)\n",
    "n_train = int(0.8*n)\n",
    "n_valid = 0\n",
    "n_test = n - n_train - n_valid\n",
    "\n",
    "perm = np.random.permutation(len(dataset))\n",
    "train_idx = torch.tensor(perm[:n_train], dtype=torch.long)\n",
    "valid_idx = torch.tensor(perm[n_train:n_train+n_valid].tolist(), dtype=torch.long)\n",
    "test_idx = torch.tensor(perm[n_train+n_valid:].tolist(), dtype=torch.long)"
   ]
  },
  {
   "cell_type": "code",
   "execution_count": 23,
   "id": "59ab26fc",
   "metadata": {},
   "outputs": [],
   "source": [
    "ce = nn.BCEWithLogitsLoss() "
   ]
  },
  {
   "cell_type": "code",
   "execution_count": 33,
   "id": "15d88968",
   "metadata": {},
   "outputs": [],
   "source": [
    "def collate_fn(dlist, use_min=False, rep=rep):\n",
    "    dfs_codes = defaultdict(list)\n",
    "    node_batch = [] \n",
    "    edge_batch = []\n",
    "    y_batch = []\n",
    "    rnd_code_batch = []\n",
    "    \n",
    "    for d in dlist:\n",
    "        for r in range(rep):\n",
    "            edge_features = d.edge_features.clone()\n",
    "            if use_min:\n",
    "                code = d.min_dfs_code.clone()\n",
    "                index = d.min_dfs_index.clone()\n",
    "            else:\n",
    "                code, index = dfs_code.rnd_dfs_code_from_edgeindex(d.edge_index.numpy(), \n",
    "                                                                   d.node_labels.numpy().tolist(), \n",
    "                                                                   d.edge_labels.numpy().tolist())\n",
    "\n",
    "                code = torch.tensor(np.asarray(code), dtype=torch.long)\n",
    "                index = torch.tensor(np.asarray(index), dtype=torch.long)\n",
    "\n",
    "\n",
    "            rnd_code_batch += [code]\n",
    "            node_batch += [d.node_features.clone()]\n",
    "            edge_batch += [edge_features]\n",
    "            y_batch += [d.y.unsqueeze(0).clone()]\n",
    "\n",
    "    y = torch.cat(y_batch).unsqueeze(1)\n",
    "\n",
    "    \n",
    "    for inp, nfeats, efeats in zip(rnd_code_batch, node_batch, edge_batch):\n",
    "        dfs_codes['dfs_from'] += [inp[:, 0]]\n",
    "        dfs_codes['dfs_to'] += [inp[:, 1]]\n",
    "        atm_from_feats = nfeats[inp[:, -3]]\n",
    "        atm_to_feats = nfeats[inp[:, -1]]\n",
    "        bnd_feats = efeats[inp[:, -2]]\n",
    "        dfs_codes['atm_from'] += [atm_from_feats]\n",
    "        dfs_codes['atm_to'] += [atm_to_feats]\n",
    "        dfs_codes['bnd'] += [bnd_feats]\n",
    "\n",
    "    dfs_codes = {key: nn.utils.rnn.pad_sequence(values, padding_value=-1000).clone()\n",
    "                 for key, values in dfs_codes.items()}\n",
    "    return dfs_codes, y"
   ]
  },
  {
   "cell_type": "code",
   "execution_count": 34,
   "id": "f2267a2e",
   "metadata": {},
   "outputs": [],
   "source": [
    "trainloader = DataLoader(dataset, sampler=torch.utils.data.SubsetRandomSampler(train_idx), \n",
    "                         batch_size=batch_size, collate_fn=collate_fn, num_workers=8)\n",
    "validloader = DataLoader(dataset, sampler=torch.utils.data.SubsetRandomSampler(valid_idx), \n",
    "                         batch_size=batch_size, collate_fn=collate_fn, num_workers=8)\n",
    "testloader = DataLoader(dataset, sampler=torch.utils.data.SubsetRandomSampler(test_idx), \n",
    "                        batch_size=batch_size, collate_fn=collate_fn, num_workers=8)"
   ]
  },
  {
   "cell_type": "code",
   "execution_count": 35,
   "id": "7b4bd125",
   "metadata": {},
   "outputs": [],
   "source": [
    "class TransformerPlusHead(nn.Module):\n",
    "    def __init__(self, encoder, n_classes, fingerprint='cls'):\n",
    "        super(TransformerPlusHead, self).__init__()\n",
    "        self.encoder = encoder\n",
    "        #self.head = nn.Linear(encoder.get_n_encoding(fingerprint), n_classes)\n",
    "        self.head = nn.Sequential(nn.Linear(encoder.get_n_encoding(fingerprint), 128),\n",
    "                                  nn.ReLU(inplace=True),\n",
    "                                  nn.Linear(128, 128),\n",
    "                                  nn.ReLU(inplace=True),\n",
    "                                  nn.Linear(128, n_classes))\n",
    "        self.fingerprint = fingerprint\n",
    "    \n",
    "    def forward(self, dfs_code):\n",
    "        #with torch.no_grad():\n",
    "        features = self.encoder.encode(dfs_code, method=self.fingerprint)\n",
    "        output = self.head(features)\n",
    "        return output"
   ]
  },
  {
   "cell_type": "code",
   "execution_count": 36,
   "id": "1c1b83d3",
   "metadata": {},
   "outputs": [],
   "source": [
    "with open(\"../../config/selfattn/model/bert.yaml\") as file:\n",
    "    m = ConfigDict(yaml.load(file, Loader=yaml.FullLoader))"
   ]
  },
  {
   "cell_type": "code",
   "execution_count": 37,
   "id": "ac9b5c61",
   "metadata": {},
   "outputs": [],
   "source": [
    "m[\"n_atoms\"] = int(dataset.maxdegree)+1\n",
    "m[\"n_node_features\"] = int(dataset.maxdegree)+1\n",
    "m[\"n_bonds\"] = 2\n",
    "m[\"n_edge_features\"] = 2\n",
    "m[\"nlayers\"] = 3\n",
    "m[\"emb_dim\"] = 50\n",
    "m[\"nhead\"] = 10\n",
    "m[\"max_edges\"] = max_edges\n",
    "m[\"max_nodes\"] = 60\n",
    "m[\"dim_feedforward\"] = 4*m[\"emb_dim\"]\n",
    "m[\"batch_size\"] = batch_size\n",
    "m[\"rep\"] = rep\n",
    "m[\"max_edges\"] = max_edges\n",
    "m[\"n_samples\"] = n_samples\n",
    "m[\"encoder_class\"] = \"DFSCodeEncoderLSTM\"\n",
    "\n",
    "\n",
    "encoder = DFSCodeSeq2SeqFC(**m)\n",
    "model = TransformerPlusHead(encoder, 1)"
   ]
  },
  {
   "cell_type": "code",
   "execution_count": 38,
   "id": "dc05e0c0",
   "metadata": {},
   "outputs": [],
   "source": [
    "def loss(pred, y, ce=ce):\n",
    "    return ce(pred, y.float())\n",
    "\n",
    "def auc(pred, y):\n",
    "    return roc_auc_score(y.detach().cpu().numpy(), pred[:, 0].detach().cpu().numpy())\n",
    "    "
   ]
  },
  {
   "cell_type": "code",
   "execution_count": 39,
   "id": "a6c53e8b",
   "metadata": {},
   "outputs": [
    {
     "data": {
      "text/html": [
       "Finishing last run (ID:1bypqg1l) before initializing another..."
      ],
      "text/plain": [
       "<IPython.core.display.HTML object>"
      ]
     },
     "metadata": {},
     "output_type": "display_data"
    },
    {
     "data": {
      "text/html": [
       "<br/>Waiting for W&B process to finish, PID 3781407<br/>Program ended successfully."
      ],
      "text/plain": [
       "<IPython.core.display.HTML object>"
      ]
     },
     "metadata": {},
     "output_type": "display_data"
    },
    {
     "data": {
      "application/vnd.jupyter.widget-view+json": {
       "model_id": "",
       "version_major": 2,
       "version_minor": 0
      },
      "text/plain": [
       "VBox(children=(Label(value=' 0.00MB of 0.00MB uploaded (0.00MB deduped)\\r'), FloatProgress(value=1.0, max=1.0)…"
      ]
     },
     "metadata": {},
     "output_type": "display_data"
    },
    {
     "data": {
      "text/html": [
       "Find user logs for this run at: <code>/home/chrisw/Documents/projects/2021/graph-transformer-feature-dataloader/notebooks/selfattn/wandb/run-20220111_160803-1bypqg1l/logs/debug.log</code>"
      ],
      "text/plain": [
       "<IPython.core.display.HTML object>"
      ]
     },
     "metadata": {},
     "output_type": "display_data"
    },
    {
     "data": {
      "text/html": [
       "Find internal logs for this run at: <code>/home/chrisw/Documents/projects/2021/graph-transformer-feature-dataloader/notebooks/selfattn/wandb/run-20220111_160803-1bypqg1l/logs/debug-internal.log</code>"
      ],
      "text/plain": [
       "<IPython.core.display.HTML object>"
      ]
     },
     "metadata": {},
     "output_type": "display_data"
    },
    {
     "data": {
      "text/html": [
       "<h3>Run summary:</h3><br/><style>\n",
       "    table.wandb td:nth-child(1) { padding: 0 10px; text-align: right }\n",
       "    </style><table class=\"wandb\">\n",
       "<tr><td>batch-loss</td><td>0.69302</td></tr><tr><td>loss</td><td>0.69287</td></tr><tr><td>batch-auc</td><td>0.51134</td></tr><tr><td>auc</td><td>0.50205</td></tr><tr><td>learning rate</td><td>0.0003</td></tr><tr><td>_runtime</td><td>41</td></tr><tr><td>_timestamp</td><td>1641913725</td></tr><tr><td>_step</td><td>233</td></tr><tr><td>train-loss</td><td>0.69289</td></tr><tr><td>train-auc</td><td>0.49921</td></tr></table>"
      ],
      "text/plain": [
       "<IPython.core.display.HTML object>"
      ]
     },
     "metadata": {},
     "output_type": "display_data"
    },
    {
     "data": {
      "text/html": [
       "<h3>Run history:</h3><br/><style>\n",
       "    table.wandb td:nth-child(1) { padding: 0 10px; text-align: right }\n",
       "    </style><table class=\"wandb\">\n",
       "<tr><td>batch-loss</td><td>▃▆▁▄▄▂▃▅▂▃▇▃▄▄▄▃▆▁▃▁▃▄▃▅▂▄▅▃▄▄▂▅▂█▂▄▃▅▂▃</td></tr><tr><td>loss</td><td>▁▆▆▅▄▃▄▅▅▅▆▆▅▆▆▆▆▆▆▆▅▆▅▆▆▄█▆█▇▆▇▅▆▆▆▆▆▆▆</td></tr><tr><td>batch-auc</td><td>▄▃▆▁▅▄▂▄▄▆▆▂▄▆▄▃▄█▅▄▄▅▃▅▄▆▅▃▃▇▄▅▃▅▅▅▂█▃▄</td></tr><tr><td>auc</td><td>▄▃▂▁▁▁▁▁▁▁▁▁▁▁▂▁▁▁▁▁▁▂▂▂▂█▆▆▄▄▃▄▃▃▃▃▂▃▃▃</td></tr><tr><td>learning rate</td><td>▁▁▁▁▁▁▁▁▁▁▁▁▁▁▁▁▁▁▁▁▁▁▁▁▁▁▁▁▁▁▁▁▁▁▁▁▁▁▁▁</td></tr><tr><td>_runtime</td><td>▁▁▁▁▂▂▂▂▂▂▃▃▃▃▃▃▄▄▄▄▅▅▅▅▅▆▆▆▆▆▆▇▇▇▇▇████</td></tr><tr><td>_timestamp</td><td>▁▁▁▁▂▂▂▂▂▂▃▃▃▃▃▃▄▄▄▄▅▅▅▅▅▆▆▆▆▆▆▇▇▇▇▇████</td></tr><tr><td>_step</td><td>▁▁▁▁▂▂▂▂▂▃▃▃▃▃▃▄▄▄▄▄▅▅▅▅▅▅▆▆▆▆▆▇▇▇▇▇▇███</td></tr><tr><td>train-loss</td><td>▁</td></tr><tr><td>train-auc</td><td>▁</td></tr></table><br/>"
      ],
      "text/plain": [
       "<IPython.core.display.HTML object>"
      ]
     },
     "metadata": {},
     "output_type": "display_data"
    },
    {
     "data": {
      "text/html": [
       "Synced 5 W&B file(s), 0 media file(s), 0 artifact file(s) and 0 other file(s)"
      ],
      "text/plain": [
       "<IPython.core.display.HTML object>"
      ]
     },
     "metadata": {},
     "output_type": "display_data"
    },
    {
     "data": {
      "text/html": [
       "\n",
       "                    <br/>Synced <strong style=\"color:#cdcd00\">comfy-dawn-16</strong>: <a href=\"https://wandb.ai/dfstransformer/karateclub-reddit-50/runs/1bypqg1l\" target=\"_blank\">https://wandb.ai/dfstransformer/karateclub-reddit-50/runs/1bypqg1l</a><br/>\n",
       "                "
      ],
      "text/plain": [
       "<IPython.core.display.HTML object>"
      ]
     },
     "metadata": {},
     "output_type": "display_data"
    },
    {
     "data": {
      "text/html": [
       "...Successfully finished last run (ID:1bypqg1l). Initializing new run:<br/><br/>"
      ],
      "text/plain": [
       "<IPython.core.display.HTML object>"
      ]
     },
     "metadata": {},
     "output_type": "display_data"
    },
    {
     "name": "stderr",
     "output_type": "stream",
     "text": [
      "\u001b[34m\u001b[1mwandb\u001b[0m: wandb version 0.12.9 is available!  To upgrade, please run:\n",
      "\u001b[34m\u001b[1mwandb\u001b[0m:  $ pip install wandb --upgrade\n"
     ]
    },
    {
     "data": {
      "text/html": [
       "\n",
       "                Tracking run with wandb version 0.10.33<br/>\n",
       "                Syncing run <strong style=\"color:#cdcd00\">sandy-night-17</strong> to <a href=\"https://wandb.ai\" target=\"_blank\">Weights & Biases</a> <a href=\"https://docs.wandb.com/integrations/jupyter.html\" target=\"_blank\">(Documentation)</a>.<br/>\n",
       "                Project page: <a href=\"https://wandb.ai/dfstransformer/karateclub-reddit-50\" target=\"_blank\">https://wandb.ai/dfstransformer/karateclub-reddit-50</a><br/>\n",
       "                Run page: <a href=\"https://wandb.ai/dfstransformer/karateclub-reddit-50/runs/2zrg21yk\" target=\"_blank\">https://wandb.ai/dfstransformer/karateclub-reddit-50/runs/2zrg21yk</a><br/>\n",
       "                Run data is saved locally in <code>/home/chrisw/Documents/projects/2021/graph-transformer-feature-dataloader/notebooks/selfattn/wandb/run-20220111_160926-2zrg21yk</code><br/><br/>\n",
       "            "
      ],
      "text/plain": [
       "<IPython.core.display.HTML object>"
      ]
     },
     "metadata": {},
     "output_type": "display_data"
    }
   ],
   "source": [
    "run = wandb.init(mode=\"online\", project=\"karateclub-reddit-50\", entity=\"dfstransformer\", \n",
    "                 config=m.to_dict(), job_type=\"evaluation\")"
   ]
  },
  {
   "cell_type": "code",
   "execution_count": 40,
   "id": "b1ca24f6",
   "metadata": {},
   "outputs": [],
   "source": [
    "trainer = Trainer(model, trainloader, loss, metrics={'auc': auc}, lr=0.0003, validloader=testloader, \n",
    "                  es_period=10*n_train//batch_size, lr_adjustment_period=10*n_train//batch_size//4, wandb_run=run,\n",
    "                  clip_gradient_norm=None)"
   ]
  },
  {
   "cell_type": "code",
   "execution_count": null,
   "id": "d5796bd3",
   "metadata": {},
   "outputs": [
    {
     "name": "stderr",
     "output_type": "stream",
     "text": [
      "Epoch 1: loss 0.692931 0.4940:  16%|█▊         | 24/147 [00:07<00:17,  6.91it/s]"
     ]
    }
   ],
   "source": [
    "trainer.fit()"
   ]
  },
  {
   "cell_type": "code",
   "execution_count": null,
   "id": "5c0c4d54",
   "metadata": {},
   "outputs": [],
   "source": []
  }
 ],
 "metadata": {
  "kernelspec": {
   "display_name": "Python 3 (ipykernel)",
   "language": "python",
   "name": "python3"
  },
  "language_info": {
   "codemirror_mode": {
    "name": "ipython",
    "version": 3
   },
   "file_extension": ".py",
   "mimetype": "text/x-python",
   "name": "python",
   "nbconvert_exporter": "python",
   "pygments_lexer": "ipython3",
   "version": "3.8.3"
  }
 },
 "nbformat": 4,
 "nbformat_minor": 5
}
