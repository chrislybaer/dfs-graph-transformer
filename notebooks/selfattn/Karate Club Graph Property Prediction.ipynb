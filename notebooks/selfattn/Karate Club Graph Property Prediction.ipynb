{
 "cells": [
  {
   "cell_type": "code",
   "execution_count": 1,
   "id": "4f001349",
   "metadata": {},
   "outputs": [],
   "source": [
    "%load_ext autoreload\n",
    "%autoreload 2"
   ]
  },
  {
   "cell_type": "code",
   "execution_count": 2,
   "id": "96dfaad5",
   "metadata": {},
   "outputs": [
    {
     "name": "stderr",
     "output_type": "stream",
     "text": [
      "WARNING:root:No normalization for BCUT2D_MWHI\n",
      "WARNING:root:No normalization for BCUT2D_MWLOW\n",
      "WARNING:root:No normalization for BCUT2D_CHGHI\n",
      "WARNING:root:No normalization for BCUT2D_CHGLO\n",
      "WARNING:root:No normalization for BCUT2D_LOGPHI\n",
      "WARNING:root:No normalization for BCUT2D_LOGPLOW\n",
      "WARNING:root:No normalization for BCUT2D_MRHI\n",
      "WARNING:root:No normalization for BCUT2D_MRLOW\n",
      "2022-01-31 13:55:55.637193: W tensorflow/stream_executor/platform/default/dso_loader.cc:64] Could not load dynamic library 'libcudart.so.11.0'; dlerror: libcudart.so.11.0: cannot open shared object file: No such file or directory; LD_LIBRARY_PATH: :/opt/cuda/extras/CUPTI/lib64/:/opt/intel/lib:/opt/intel/mkl/lib/intel64:/opt/intel:/opt/ibm/ILOG/CPLEX_Studio1210/cplex/bin/x86-64_linux:/opt/ibm/ILOG/CPLEX_Studio1210/cplex/python/3.7/x86-64_linux:/opt/intel/clck_latest/lib:/opt/intel/daal/lib:/opt/intel/intelpython3/lib:/opt/intel/ipp/lib:/opt/intel/itac_2019/lib:/opt/intel/itac_latest/lib:/opt/intel/mkl/lib:/opt/intel/mkl_/lib:/opt/intel/mpirt/lib:/opt/intel/tbb/lib:/opt/intel/clck/2019.0/lib:/opt/intel/compilers_and_libraries_2019/linux/lib:/opt/intel/compilers_and_libraries/linux/lib:/opt/intel/itac/2019.0.018/lib:/opt/intel/itac_2019/intel64/lib:/opt/intel/itac_latest/intel64/lib:/opt/intel/parallel_studio_xe_2019.0.045/clck_2019/lib:/opt/intel/parallel_studio_xe_2019.0.045/itac_2019/lib:/opt/intel/parallel_studio_xe_2019/clck_2019/lib:/opt/intel/parallel_studio_xe_2019/itac_2019/lib\n",
      "2022-01-31 13:55:55.637217: I tensorflow/stream_executor/cuda/cudart_stub.cc:29] Ignore above cudart dlerror if you do not have a GPU set up on your machine.\n",
      "Using backend: pytorch\n"
     ]
    }
   ],
   "source": [
    "import json\n",
    "import numpy as np\n",
    "from torch.utils.data import Dataset, DataLoader\n",
    "import glob\n",
    "import wandb\n",
    "import os\n",
    "import torch.optim as optimizers\n",
    "import pandas as pd\n",
    "from copy import deepcopy\n",
    "from ml_collections import ConfigDict \n",
    "import tqdm\n",
    "import torch.nn.functional as F\n",
    "import torch\n",
    "import torch.nn as nn\n",
    "from collections import defaultdict\n",
    "import yaml\n",
    "from sklearn.metrics import roc_auc_score\n",
    "import networkx as nx\n",
    "import functools\n",
    "\n",
    "import sys\n",
    "sys.path.append(\"../../src\")\n",
    "import dfs_code \n",
    "from dfs_transformer import collate_downstream, DFSCodeSeq2SeqFC, Trainer\n",
    "torch.multiprocessing.set_sharing_strategy('file_system')\n"
   ]
  },
  {
   "cell_type": "code",
   "execution_count": 3,
   "id": "1ed17efc",
   "metadata": {},
   "outputs": [],
   "source": [
    "graph_file = \"/mnt/ssd/datasets/graphs/reddit_threads/reddit_edges.json\"\n",
    "label_file = \"/mnt/ssd/datasets/graphs/reddit_threads/reddit_target.csv\"\n",
    "batch_size = 1000\n",
    "rep = 1\n",
    "max_edges = 50\n",
    "n_samples = 10000"
   ]
  },
  {
   "cell_type": "code",
   "execution_count": 4,
   "id": "d0fb23f3",
   "metadata": {},
   "outputs": [],
   "source": [
    "with open(graph_file, 'r') as f:\n",
    "    graph_dict = json.load(f)\n",
    "label_df = pd.read_csv(label_file)"
   ]
  },
  {
   "cell_type": "code",
   "execution_count": 5,
   "id": "6fabc13e",
   "metadata": {},
   "outputs": [
    {
     "data": {
      "text/html": [
       "<div>\n",
       "<style scoped>\n",
       "    .dataframe tbody tr th:only-of-type {\n",
       "        vertical-align: middle;\n",
       "    }\n",
       "\n",
       "    .dataframe tbody tr th {\n",
       "        vertical-align: top;\n",
       "    }\n",
       "\n",
       "    .dataframe thead th {\n",
       "        text-align: right;\n",
       "    }\n",
       "</style>\n",
       "<table border=\"1\" class=\"dataframe\">\n",
       "  <thead>\n",
       "    <tr style=\"text-align: right;\">\n",
       "      <th></th>\n",
       "      <th>id</th>\n",
       "      <th>target</th>\n",
       "    </tr>\n",
       "  </thead>\n",
       "  <tbody>\n",
       "    <tr>\n",
       "      <th>0</th>\n",
       "      <td>0</td>\n",
       "      <td>0</td>\n",
       "    </tr>\n",
       "    <tr>\n",
       "      <th>1</th>\n",
       "      <td>1</td>\n",
       "      <td>1</td>\n",
       "    </tr>\n",
       "    <tr>\n",
       "      <th>2</th>\n",
       "      <td>2</td>\n",
       "      <td>0</td>\n",
       "    </tr>\n",
       "    <tr>\n",
       "      <th>3</th>\n",
       "      <td>3</td>\n",
       "      <td>1</td>\n",
       "    </tr>\n",
       "    <tr>\n",
       "      <th>4</th>\n",
       "      <td>4</td>\n",
       "      <td>0</td>\n",
       "    </tr>\n",
       "  </tbody>\n",
       "</table>\n",
       "</div>"
      ],
      "text/plain": [
       "   id  target\n",
       "0   0       0\n",
       "1   1       1\n",
       "2   2       0\n",
       "3   3       1\n",
       "4   4       0"
      ]
     },
     "execution_count": 5,
     "metadata": {},
     "output_type": "execute_result"
    }
   ],
   "source": [
    "label_df.head()"
   ]
  },
  {
   "cell_type": "code",
   "execution_count": 6,
   "id": "ece9b3d2",
   "metadata": {},
   "outputs": [
    {
     "data": {
      "image/png": "[encoded data removed]",
      "text/plain": [
       "<Figure size 432x288 with 1 Axes>"
      ]
     },
     "metadata": {
      "needs_background": "light"
     },
     "output_type": "display_data"
    }
   ],
   "source": [
    "from matplotlib import pyplot as plt\n",
    "n_edges = [len(graph) for graph in graph_dict.values()]\n",
    "plt.hist(n_edges, bins='rice')\n",
    "plt.show()"
   ]
  },
  {
   "cell_type": "code",
   "execution_count": 7,
   "id": "23a95308",
   "metadata": {},
   "outputs": [],
   "source": [
    "connected =  []\n",
    "for graph in graph_dict.values():\n",
    "    g = nx.Graph()\n",
    "    g.add_edges_from(graph)\n",
    "    connected += [nx.is_connected(g)]"
   ]
  },
  {
   "cell_type": "code",
   "execution_count": 8,
   "id": "d18ed104",
   "metadata": {},
   "outputs": [],
   "source": [
    "connected = np.asarray(connected)"
   ]
  },
  {
   "cell_type": "code",
   "execution_count": 9,
   "id": "70eacaa0",
   "metadata": {},
   "outputs": [
    {
     "data": {
      "text/plain": [
       "1.0"
      ]
     },
     "execution_count": 9,
     "metadata": {},
     "output_type": "execute_result"
    }
   ],
   "source": [
    "connected.sum()/len(connected)"
   ]
  },
  {
   "cell_type": "code",
   "execution_count": 10,
   "id": "af92f81c",
   "metadata": {},
   "outputs": [],
   "source": [
    "def graph2labelledgraph(graph, use_dummy=False, use_degree=False):\n",
    "    graph = deepcopy(graph)\n",
    "    node_ids = np.unique(graph).tolist()\n",
    "    dummy = max(node_ids) + 1\n",
    "    \n",
    "    edge_labels = len(graph)*[0]\n",
    "    edgeindex = []\n",
    "    for e in graph:\n",
    "        edgeindex += [e]\n",
    "        edgeindex += [[e[1], e[0]]]\n",
    "        edge_labels += [0]\n",
    "    \n",
    "    if use_dummy:\n",
    "        for idx in node_ids:\n",
    "            edgeindex += [[idx, dummy], [dummy, idx]]\n",
    "            edge_labels += [1, 1]\n",
    "        node_ids += [dummy]\n",
    "    \n",
    "    edgeindex = np.asarray(edgeindex).T\n",
    "    \n",
    "    node_labels = []\n",
    "    for idx in node_ids:\n",
    "        if use_degree:\n",
    "            node_labels += [(edgeindex[0] == idx).sum()]\n",
    "        else:\n",
    "            node_labels += [1]\n",
    "    return edgeindex, node_labels, edge_labels"
   ]
  },
  {
   "cell_type": "code",
   "execution_count": 11,
   "id": "0259e39e",
   "metadata": {},
   "outputs": [],
   "source": [
    "def graph2labelledlinegraph(graph):\n",
    "    raise NotImplementedError()"
   ]
  },
  {
   "cell_type": "code",
   "execution_count": 12,
   "id": "56c95524",
   "metadata": {},
   "outputs": [],
   "source": [
    "import networkx as nx\n",
    "\n",
    "edgeindex, node_labels, edge_labels = graph2labelledgraph(graph)\n",
    "g = nx.Graph()\n",
    "g.add_edges_from(graph)"
   ]
  },
  {
   "cell_type": "code",
   "execution_count": 13,
   "id": "40671434",
   "metadata": {},
   "outputs": [],
   "source": [
    "def graph2nx(graph):\n",
    "    edgeindex, node_labels, edge_labels = graph2labelledgraph(graph)\n",
    "    g = nx.Graph()\n",
    "    g.add_edges_from(graph)\n",
    "    return g"
   ]
  },
  {
   "cell_type": "code",
   "execution_count": 14,
   "id": "f321dfae",
   "metadata": {},
   "outputs": [],
   "source": [
    "lg = nx.generators.line.line_graph(g)"
   ]
  },
  {
   "cell_type": "code",
   "execution_count": 15,
   "id": "479c23e8",
   "metadata": {},
   "outputs": [
    {
     "data": {
      "text/plain": [
       "True"
      ]
     },
     "execution_count": 15,
     "metadata": {},
     "output_type": "execute_result"
    }
   ],
   "source": [
    "nx.is_connected(lg)"
   ]
  },
  {
   "cell_type": "code",
   "execution_count": 16,
   "id": "05a00958",
   "metadata": {},
   "outputs": [],
   "source": [
    "g1 = graph_dict['8']\n",
    "g2 = graph_dict['9']"
   ]
  },
  {
   "cell_type": "code",
   "execution_count": 17,
   "id": "d87169e0",
   "metadata": {},
   "outputs": [
    {
     "data": {
      "image/png": "[encoded data removed]",
      "text/plain": [
       "<Figure size 432x288 with 1 Axes>"
      ]
     },
     "metadata": {},
     "output_type": "display_data"
    }
   ],
   "source": [
    "nx.draw(graph2nx(g1))"
   ]
  },
  {
   "cell_type": "code",
   "execution_count": 18,
   "id": "1dbafe7c",
   "metadata": {},
   "outputs": [
    {
     "data": {
      "image/png": "[encoded data removed]",
      "text/plain": [
       "<Figure size 432x288 with 1 Axes>"
      ]
     },
     "metadata": {},
     "output_type": "display_data"
    }
   ],
   "source": [
    "nx.draw(graph2nx(g2))"
   ]
  },
  {
   "cell_type": "code",
   "execution_count": 19,
   "id": "8453b319",
   "metadata": {},
   "outputs": [
    {
     "data": {
      "text/plain": [
       "[[0, 2],\n",
       " [1, 5],\n",
       " [2, 4],\n",
       " [2, 5],\n",
       " [2, 6],\n",
       " [2, 7],\n",
       " [2, 8],\n",
       " [2, 9],\n",
       " [2, 10],\n",
       " [3, 8]]"
      ]
     },
     "execution_count": 19,
     "metadata": {},
     "output_type": "execute_result"
    }
   ],
   "source": [
    "graph_dict['0']"
   ]
  },
  {
   "cell_type": "code",
   "execution_count": 20,
   "id": "3c299c3e",
   "metadata": {},
   "outputs": [],
   "source": [
    "graph = graph_dict['0']\n",
    "code, index = dfs_code.min_dfs_code_from_edgeindex(*graph2labelledgraph(graph))"
   ]
  },
  {
   "cell_type": "code",
   "execution_count": 21,
   "id": "b3d7b0cb",
   "metadata": {},
   "outputs": [],
   "source": [
    "edgeindex, vlabels, elabels = graph2labelledgraph(graph)"
   ]
  },
  {
   "cell_type": "code",
   "execution_count": 22,
   "id": "865cd469",
   "metadata": {},
   "outputs": [],
   "source": [
    "code2, index2 = dfs_code.rnd_dfs_code_from_edgeindex(*graph2labelledgraph(graph))"
   ]
  },
  {
   "cell_type": "code",
   "execution_count": 23,
   "id": "63715928",
   "metadata": {},
   "outputs": [],
   "source": [
    "class KarateClubDataset(Dataset):\n",
    "    def __init__(self, graph_file, label_file, max_n = None, max_edges=50):\n",
    "        self.graph_file = graph_file\n",
    "        self.label_file = label_file\n",
    "        with open(graph_file, 'r') as f:\n",
    "            self.graph_dict = json.load(f)\n",
    "        self.label_df = pd.read_csv(label_file)\n",
    "        self.data = []\n",
    "        self.maxn = max_n\n",
    "        self.max_edges = max_edges\n",
    "        self.preprocess()\n",
    "    \n",
    "    def preprocess(self):\n",
    "        maxn = self.maxn\n",
    "        maxdegree = 0\n",
    "        edgeindex_list = []\n",
    "        vlabels_list = []\n",
    "        elabels_list = []\n",
    "        label_list = []\n",
    "        for idx, (graph, label) in tqdm.tqdm(enumerate(zip(self.graph_dict.values(), self.label_df['target']))):  \n",
    "            edgeindex, vlabels, elabels = graph2labelledgraph(graph)\n",
    "            if len(elabels)//2 > self.max_edges:\n",
    "                continue\n",
    "            maxdegree = max(maxdegree, max(vlabels))\n",
    "            edgeindex_list += [edgeindex]\n",
    "            vlabels_list += [vlabels]\n",
    "            elabels_list += [elabels]\n",
    "            label_list += [self.label_df['target'][idx]]\n",
    "            if maxn is not None:\n",
    "                if idx >= maxn:\n",
    "                    break\n",
    "        self.maxdegree = maxdegree\n",
    "        \n",
    "        for idx, (edgeindex, vlabels, elabels, label) in tqdm.tqdm(enumerate(zip(edgeindex_list,\n",
    "                                                                                vlabels_list,\n",
    "                                                                                elabels_list, \n",
    "                                                                                label_list))):  \n",
    "            node_features = F.one_hot(torch.tensor(vlabels), num_classes=maxdegree+1).float()\n",
    "            edge_features = F.one_hot(torch.tensor(elabels), num_classes=2).float()\n",
    "            code, index = dfs_code.rnd_dfs_code_from_edgeindex(edgeindex, vlabels, elabels)\n",
    "            self.data += [ConfigDict({\"node_labels\":torch.tensor(vlabels),\n",
    "                                    \"edge_labels\":torch.tensor(elabels),\n",
    "                                    \"edge_index\":torch.tensor(edgeindex, dtype=torch.long),\n",
    "                                    \"min_dfs_code\":torch.tensor(code),\n",
    "                                    \"min_dfs_index\":torch.tensor(index, dtype=torch.long),\n",
    "                                    \"node_features\":node_features,\n",
    "                                    \"edge_features\":edge_features,\n",
    "                                    \"y\": torch.tensor(label, dtype=torch.long),\n",
    "                                    \"idx\":idx})]\n",
    "\n",
    "    def __len__(self):\n",
    "        return len(self.data)\n",
    "\n",
    "    def __getitem__(self, idx):\n",
    "        return self.data[idx]\n",
    "        "
   ]
  },
  {
   "cell_type": "code",
   "execution_count": 24,
   "id": "7e0af6f4",
   "metadata": {},
   "outputs": [
    {
     "name": "stderr",
     "output_type": "stream",
     "text": [
      "10000it [00:01, 8317.08it/s]\n",
      "9042it [00:03, 2633.56it/s]\n"
     ]
    }
   ],
   "source": [
    "dataset = KarateClubDataset(graph_file, label_file, max_n=n_samples, max_edges=max_edges)"
   ]
  },
  {
   "cell_type": "code",
   "execution_count": 25,
   "id": "d10d026b",
   "metadata": {},
   "outputs": [
    {
     "data": {
      "text/plain": [
       "9042"
      ]
     },
     "execution_count": 25,
     "metadata": {},
     "output_type": "execute_result"
    }
   ],
   "source": [
    "len(dataset)"
   ]
  },
  {
   "cell_type": "code",
   "execution_count": 26,
   "id": "be3b997c",
   "metadata": {},
   "outputs": [],
   "source": [
    "n = len(dataset)\n",
    "n_train = int(0.8*n)\n",
    "n_valid = 0\n",
    "n_test = n - n_train - n_valid\n",
    "\n",
    "perm = np.random.permutation(len(dataset))\n",
    "train_idx = torch.tensor(perm[:n_train], dtype=torch.long)\n",
    "valid_idx = torch.tensor(perm[n_train:n_train+n_valid].tolist(), dtype=torch.long)\n",
    "test_idx = torch.tensor(perm[n_train+n_valid:].tolist(), dtype=torch.long)"
   ]
  },
  {
   "cell_type": "code",
   "execution_count": 27,
   "id": "59ab26fc",
   "metadata": {},
   "outputs": [],
   "source": [
    "ce = nn.CrossEntropyLoss() "
   ]
  },
  {
   "cell_type": "code",
   "execution_count": 28,
   "id": "15d88968",
   "metadata": {},
   "outputs": [],
   "source": [
    "def collate_fn(dlist, use_min=False, rep=rep):\n",
    "    dfs_codes = defaultdict(list)\n",
    "    node_batch = [] \n",
    "    edge_batch = []\n",
    "    y_batch = []\n",
    "    rnd_code_batch = []\n",
    "    \n",
    "    for d in dlist:\n",
    "        for r in range(rep):\n",
    "            edge_features = d.edge_features.clone()\n",
    "            if use_min:\n",
    "                code = d.min_dfs_code.clone()\n",
    "                index = d.min_dfs_index.clone()\n",
    "            else:\n",
    "                code, index = dfs_code.rnd_dfs_code_from_edgeindex(d.edge_index.numpy(), \n",
    "                                                                   d.node_labels.numpy().tolist(), \n",
    "                                                                   d.edge_labels.numpy().tolist())\n",
    "\n",
    "                code = torch.tensor(np.asarray(code), dtype=torch.long)\n",
    "                index = torch.tensor(np.asarray(index), dtype=torch.long)\n",
    "\n",
    "\n",
    "            rnd_code_batch += [code]\n",
    "            node_batch += [d.node_features.clone()]\n",
    "            edge_batch += [edge_features]\n",
    "            y_batch += [d.y.unsqueeze(0).clone()]\n",
    "\n",
    "    y = torch.cat(y_batch).unsqueeze(1)\n",
    "\n",
    "    \n",
    "    for inp, nfeats, efeats in zip(rnd_code_batch, node_batch, edge_batch):\n",
    "        dfs_codes['dfs_from'] += [inp[:, 0]]\n",
    "        dfs_codes['dfs_to'] += [inp[:, 1]]\n",
    "        atm_from_feats = nfeats[inp[:, -3]]\n",
    "        atm_to_feats = nfeats[inp[:, -1]]\n",
    "        bnd_feats = efeats[inp[:, -2]]\n",
    "        dfs_codes['atm_from'] += [atm_from_feats]\n",
    "        dfs_codes['atm_to'] += [atm_to_feats]\n",
    "        dfs_codes['bnd'] += [bnd_feats]\n",
    "\n",
    "    dfs_codes = {key: nn.utils.rnn.pad_sequence(values, padding_value=-1000).clone()\n",
    "                 for key, values in dfs_codes.items()}\n",
    "    return dfs_codes, y"
   ]
  },
  {
   "cell_type": "code",
   "execution_count": 29,
   "id": "7b4bd125",
   "metadata": {},
   "outputs": [],
   "source": [
    "class TransformerPlusHead(nn.Module):\n",
    "    def __init__(self, encoder, n_classes, fingerprint='cls'):\n",
    "        super(TransformerPlusHead, self).__init__()\n",
    "        self.encoder = encoder\n",
    "        #self.head = nn.Linear(encoder.get_n_encoding(fingerprint), n_classes)\n",
    "        self.head = nn.Sequential(nn.Linear(encoder.get_n_encoding(fingerprint), 128),\n",
    "                                  nn.ReLU(inplace=True),\n",
    "                                  nn.Linear(128, 128),\n",
    "                                  nn.ReLU(inplace=True),\n",
    "                                  nn.Linear(128, n_classes))\n",
    "        self.fingerprint = fingerprint\n",
    "    \n",
    "    def forward(self, dfs_code):\n",
    "        #with torch.no_grad():\n",
    "        features = self.encoder.encode(dfs_code, method=self.fingerprint)\n",
    "        output = self.head(features)\n",
    "        return output"
   ]
  },
  {
   "cell_type": "code",
   "execution_count": 30,
   "id": "1c1b83d3",
   "metadata": {},
   "outputs": [],
   "source": [
    "with open(\"../../config/selfattn/model/bert.yaml\") as file:\n",
    "    m = ConfigDict(yaml.load(file, Loader=yaml.FullLoader))"
   ]
  },
  {
   "cell_type": "code",
   "execution_count": 31,
   "id": "ac9b5c61",
   "metadata": {},
   "outputs": [],
   "source": [
    "m[\"n_atoms\"] = int(dataset.maxdegree)+1\n",
    "m[\"n_node_features\"] = int(dataset.maxdegree)+1\n",
    "m[\"n_bonds\"] = 2\n",
    "m[\"n_edge_features\"] = 2\n",
    "m[\"nlayers\"] = 6\n",
    "m[\"emb_dim\"] = 100\n",
    "m[\"nhead\"] = 10\n",
    "m[\"max_edges\"] = max_edges\n",
    "m[\"max_nodes\"] = 60\n",
    "m[\"dim_feedforward\"] = 4*m[\"emb_dim\"]\n",
    "m[\"batch_size\"] = batch_size\n",
    "m[\"rep\"] = rep\n",
    "m[\"max_edges\"] = max_edges\n",
    "m[\"n_samples\"] = n_samples\n",
    "m[\"encoder_class\"] = \"DFSCodeEncoder\"\n",
    "m[\"use_min\"] = False\n",
    "m[\"training\"] = {}\n",
    "\n",
    "\n",
    "encoder = DFSCodeSeq2SeqFC(**m)\n",
    "model = TransformerPlusHead(encoder, 2)"
   ]
  },
  {
   "cell_type": "code",
   "execution_count": 32,
   "id": "84883c65",
   "metadata": {},
   "outputs": [],
   "source": [
    "collate_fn2 = functools.partial(collate_fn, use_min=m[\"use_min\"])\n",
    "trainloader = DataLoader(dataset, sampler=torch.utils.data.SubsetRandomSampler(train_idx), \n",
    "                         batch_size=batch_size, collate_fn=collate_fn2, num_workers=8)\n",
    "validloader = DataLoader(dataset, sampler=torch.utils.data.SubsetRandomSampler(valid_idx), \n",
    "                         batch_size=batch_size, collate_fn=collate_fn2, num_workers=8)\n",
    "testloader = DataLoader(dataset, sampler=torch.utils.data.SubsetRandomSampler(test_idx), \n",
    "                        batch_size=batch_size, collate_fn=collate_fn2, num_workers=8)"
   ]
  },
  {
   "cell_type": "code",
   "execution_count": 33,
   "id": "dc05e0c0",
   "metadata": {},
   "outputs": [],
   "source": [
    "def loss(pred, y, ce=ce):\n",
    "    return ce(pred, y.squeeze())\n",
    "\n",
    "def auc(pred, y):\n",
    "    return roc_auc_score(y.detach().cpu().numpy(), np.argmax(pred.detach().cpu().numpy(), axis=1))\n",
    "    #return roc_auc_score(y.detach().cpu().numpy(), pred[:, 1].detach().cpu().numpy())\n",
    "    "
   ]
  },
  {
   "cell_type": "code",
   "execution_count": 34,
   "id": "a6c53e8b",
   "metadata": {},
   "outputs": [
    {
     "name": "stderr",
     "output_type": "stream",
     "text": [
      "ERROR:wandb.jupyter:Failed to detect the name of this notebook, you can set it manually with the WANDB_NOTEBOOK_NAME environment variable to enable code saving.\n",
      "\u001b[34m\u001b[1mwandb\u001b[0m: Currently logged in as: \u001b[33mchrisxx\u001b[0m (use `wandb login --relogin` to force relogin)\n",
      "\u001b[34m\u001b[1mwandb\u001b[0m: wandb version 0.12.9 is available!  To upgrade, please run:\n",
      "\u001b[34m\u001b[1mwandb\u001b[0m:  $ pip install wandb --upgrade\n",
      "2022-01-31 13:56:24.807069: W tensorflow/stream_executor/platform/default/dso_loader.cc:64] Could not load dynamic library 'libcudart.so.11.0'; dlerror: libcudart.so.11.0: cannot open shared object file: No such file or directory; LD_LIBRARY_PATH: :/opt/cuda/extras/CUPTI/lib64/:/opt/intel/lib:/opt/intel/mkl/lib/intel64:/opt/intel:/opt/ibm/ILOG/CPLEX_Studio1210/cplex/bin/x86-64_linux:/opt/ibm/ILOG/CPLEX_Studio1210/cplex/python/3.7/x86-64_linux:/opt/intel/clck_latest/lib:/opt/intel/daal/lib:/opt/intel/intelpython3/lib:/opt/intel/ipp/lib:/opt/intel/itac_2019/lib:/opt/intel/itac_latest/lib:/opt/intel/mkl/lib:/opt/intel/mkl_/lib:/opt/intel/mpirt/lib:/opt/intel/tbb/lib:/opt/intel/clck/2019.0/lib:/opt/intel/compilers_and_libraries_2019/linux/lib:/opt/intel/compilers_and_libraries/linux/lib:/opt/intel/itac/2019.0.018/lib:/opt/intel/itac_2019/intel64/lib:/opt/intel/itac_latest/intel64/lib:/opt/intel/parallel_studio_xe_2019.0.045/clck_2019/lib:/opt/intel/parallel_studio_xe_2019.0.045/itac_2019/lib:/opt/intel/parallel_studio_xe_2019/clck_2019/lib:/opt/intel/parallel_studio_xe_2019/itac_2019/lib\n",
      "2022-01-31 13:56:24.807091: I tensorflow/stream_executor/cuda/cudart_stub.cc:29] Ignore above cudart dlerror if you do not have a GPU set up on your machine.\n"
     ]
    },
    {
     "data": {
      "text/html": [
       "\n",
       "                Tracking run with wandb version 0.10.33<br/>\n",
       "                Syncing run <strong style=\"color:#cdcd00\">transformer</strong> to <a href=\"https://wandb.ai\" target=\"_blank\">Weights & Biases</a> <a href=\"https://docs.wandb.com/integrations/jupyter.html\" target=\"_blank\">(Documentation)</a>.<br/>\n",
       "                Project page: <a href=\"https://wandb.ai/dfstransformer/karateclub-reddit-50\" target=\"_blank\">https://wandb.ai/dfstransformer/karateclub-reddit-50</a><br/>\n",
       "                Run page: <a href=\"https://wandb.ai/dfstransformer/karateclub-reddit-50/runs/2cx7woc9\" target=\"_blank\">https://wandb.ai/dfstransformer/karateclub-reddit-50/runs/2cx7woc9</a><br/>\n",
       "                Run data is saved locally in <code>/home/chrisw/Documents/projects/2021/graph-transformer-feature-dataloader/notebooks/selfattn/wandb/run-20220131_135623-2cx7woc9</code><br/><br/>\n",
       "            "
      ],
      "text/plain": [
       "<IPython.core.display.HTML object>"
      ]
     },
     "metadata": {},
     "output_type": "display_data"
    }
   ],
   "source": [
    "run = wandb.init(mode=\"online\", project=\"karateclub-reddit-50\", entity=\"dfstransformer\", \n",
    "                 config=m.to_dict(), job_type=\"evaluation\", name=\"transformer\")"
   ]
  },
  {
   "cell_type": "code",
   "execution_count": 35,
   "id": "b1ca24f6",
   "metadata": {},
   "outputs": [],
   "source": [
    "trainer = Trainer(model, trainloader, loss, metrics={'auc': auc}, lr=5*1e-5, validloader=testloader, \n",
    "                  es_period=10*n_train//batch_size, lr_adjustment_period=10*n_train//batch_size//4, wandb_run=run,\n",
    "                  clip_gradient_norm=0.5)"
   ]
  },
  {
   "cell_type": "code",
   "execution_count": null,
   "id": "d5796bd3",
   "metadata": {},
   "outputs": [
    {
     "name": "stderr",
     "output_type": "stream",
     "text": [
      "Epoch 1: loss 0.674390 0.5566: 100%|█████████████████████████████████████████████████████████████████████████████████████████████████████████████████████████████████████████████████| 8/8 [00:05<00:00,  1.36it/s]\n",
      "Epoch 2: loss 0.610814 0.6818: 100%|█████████████████████████████████████████████████████████████████████████████████████████████████████████████████████████████████████████████████| 8/8 [00:05<00:00,  1.36it/s]\n",
      "Epoch 3: loss 0.577411 0.7096: 100%|█████████████████████████████████████████████████████████████████████████████████████████████████████████████████████████████████████████████████| 8/8 [00:05<00:00,  1.34it/s]\n",
      "Epoch 4: loss 0.561229 0.7152: 100%|█████████████████████████████████████████████████████████████████████████████████████████████████████████████████████████████████████████████████| 8/8 [00:05<00:00,  1.41it/s]\n",
      "Epoch 5: loss 0.561487 0.7153: 100%|█████████████████████████████████████████████████████████████████████████████████████████████████████████████████████████████████████████████████| 8/8 [00:05<00:00,  1.39it/s]\n",
      "Epoch 6: loss 0.562013 0.7156: 100%|█████████████████████████████████████████████████████████████████████████████████████████████████████████████████████████████████████████████████| 8/8 [00:05<00:00,  1.41it/s]\n",
      "Epoch 7: loss 0.554233 0.7199: 100%|█████████████████████████████████████████████████████████████████████████████████████████████████████████████████████████████████████████████████| 8/8 [00:05<00:00,  1.39it/s]\n",
      "Epoch 8: loss 0.550122 0.7229: 100%|█████████████████████████████████████████████████████████████████████████████████████████████████████████████████████████████████████████████████| 8/8 [00:05<00:00,  1.38it/s]\n",
      "Epoch 9: loss 0.530354 0.7409:  88%|██████████████████████████████████████████████████████████████████████████████████████████████████████████████████████████████▉                  | 7/8 [00:05<00:00,  1.45it/s]\n",
      "  0%|                                                                                                                                                                                        | 0/2 [00:00<?, ?it/s]\u001b[A\n",
      "Valid 9: loss 0.560258 0.7106:   0%|                                                                                                                                                         | 0/2 [00:01<?, ?it/s]\u001b[A\n",
      "Valid 9: loss 0.560258 0.7106:  50%|████████████████████████████████████████████████████████████████████████▌                                                                        | 1/2 [00:01<00:01,  1.06s/it]\u001b[A\n",
      "Valid 9: loss 0.541865 0.7497:  50%|████████████████████████████████████████████████████████████████████████▌                                                                        | 1/2 [00:01<00:01,  1.06s/it]\u001b[A\n",
      "Valid 9: loss 0.541865 0.7497: 100%|█████████████████████████████████████████████████████████████████████████████████████████████████████████████████████████████████████████████████| 2/2 [00:01<00:00,  1.44it/s]\u001b[A\n",
      "Epoch 9: loss 0.530354 0.7409: 100%|█████████████████████████████████████████████████████████████████████████████████████████████████████████████████████████████████████████████████| 8/8 [00:07<00:00,  1.12it/s]\n",
      "Epoch 10: loss 0.546416 0.7168: 100%|████████████████████████████████████████████████████████████████████████████████████████████████████████████████████████████████████████████████| 8/8 [00:05<00:00,  1.38it/s]\n",
      "Epoch 11: loss 0.548791 0.7168: 100%|████████████████████████████████████████████████████████████████████████████████████████████████████████████████████████████████████████████████| 8/8 [00:05<00:00,  1.36it/s]\n",
      "Epoch 12: loss 0.539481 0.7283: 100%|████████████████████████████████████████████████████████████████████████████████████████████████████████████████████████████████████████████████| 8/8 [00:05<00:00,  1.36it/s]\n",
      "Epoch 13: loss 0.540452 0.7356: 100%|████████████████████████████████████████████████████████████████████████████████████████████████████████████████████████████████████████████████| 8/8 [00:06<00:00,  1.32it/s]\n",
      "Epoch 14: loss 0.544400 0.7321: 100%|████████████████████████████████████████████████████████████████████████████████████████████████████████████████████████████████████████████████| 8/8 [00:05<00:00,  1.38it/s]\n",
      "Epoch 15: loss 0.533735 0.7319: 100%|████████████████████████████████████████████████████████████████████████████████████████████████████████████████████████████████████████████████| 8/8 [00:05<00:00,  1.33it/s]\n",
      "Epoch 16: loss 0.534778 0.7317: 100%|████████████████████████████████████████████████████████████████████████████████████████████████████████████████████████████████████████████████| 8/8 [00:05<00:00,  1.36it/s]\n",
      "Epoch 17: loss 0.534545 0.7363: 100%|████████████████████████████████████████████████████████████████████████████████████████████████████████████████████████████████████████████████| 8/8 [00:05<00:00,  1.35it/s]\n",
      "Epoch 18: loss 0.560291 0.7132:  88%|██████████████████████████████████████████████████████████████████████████████████████████████████████████████████████████████                  | 7/8 [00:05<00:00,  1.40it/s]\n",
      "  0%|                                                                                                                                                                                        | 0/2 [00:00<?, ?it/s]\u001b[A\n",
      "Valid 18: loss 0.536933 0.7340:   0%|                                                                                                                                                        | 0/2 [00:01<?, ?it/s]\u001b[A\n",
      "Valid 18: loss 0.536933 0.7340:  50%|████████████████████████████████████████████████████████████████████████                                                                        | 1/2 [00:01<00:01,  1.12s/it]\u001b[A\n",
      "Valid 18: loss 0.529769 0.7490:  50%|████████████████████████████████████████████████████████████████████████                                                                        | 1/2 [00:01<00:01,  1.12s/it]\u001b[A\n",
      "Valid 18: loss 0.529769 0.7490: 100%|████████████████████████████████████████████████████████████████████████████████████████████████████████████████████████████████████████████████| 2/2 [00:01<00:00,  1.40it/s]\u001b[A\n",
      "Epoch 18: loss 0.560291 0.7132: 100%|████████████████████████████████████████████████████████████████████████████████████████████████████████████████████████████████████████████████| 8/8 [00:07<00:00,  1.04it/s]\n",
      "Epoch 19: loss 0.530994 0.7366: 100%|████████████████████████████████████████████████████████████████████████████████████████████████████████████████████████████████████████████████| 8/8 [00:05<00:00,  1.35it/s]\n",
      "Epoch 20: loss 0.525784 0.7415: 100%|████████████████████████████████████████████████████████████████████████████████████████████████████████████████████████████████████████████████| 8/8 [00:06<00:00,  1.33it/s]\n",
      "Epoch 21: loss 0.522067 0.7435: 100%|████████████████████████████████████████████████████████████████████████████████████████████████████████████████████████████████████████████████| 8/8 [00:05<00:00,  1.34it/s]\n",
      "Epoch 22: loss 0.533029 0.7352: 100%|████████████████████████████████████████████████████████████████████████████████████████████████████████████████████████████████████████████████| 8/8 [00:05<00:00,  1.36it/s]\n",
      "Epoch 23: loss 0.536611 0.7355: 100%|████████████████████████████████████████████████████████████████████████████████████████████████████████████████████████████████████████████████| 8/8 [00:05<00:00,  1.37it/s]\n",
      "Epoch 24: loss 0.530702 0.7382: 100%|████████████████████████████████████████████████████████████████████████████████████████████████████████████████████████████████████████████████| 8/8 [00:05<00:00,  1.35it/s]\n",
      "Epoch 25: loss 0.533215 0.7314: 100%|████████████████████████████████████████████████████████████████████████████████████████████████████████████████████████████████████████████████| 8/8 [00:06<00:00,  1.33it/s]\n",
      "Epoch 26: loss 0.532876 0.7359: 100%|████████████████████████████████████████████████████████████████████████████████████████████████████████████████████████████████████████████████| 8/8 [00:05<00:00,  1.38it/s]\n"
     ]
    },
    {
     "name": "stderr",
     "output_type": "stream",
     "text": [
      "Epoch 27: loss 0.520495 0.7433:  88%|██████████████████████████████████████████████████████████████████████████████████████████████████████████████████████████████                  | 7/8 [00:05<00:00,  1.47it/s]\n",
      "  0%|                                                                                                                                                                                        | 0/2 [00:00<?, ?it/s]\u001b[A\n",
      "Valid 27: loss 0.527950 0.7395:   0%|                                                                                                                                                        | 0/2 [00:01<?, ?it/s]\u001b[A\n",
      "Valid 27: loss 0.527950 0.7395:  50%|████████████████████████████████████████████████████████████████████████                                                                        | 1/2 [00:01<00:01,  1.12s/it]\u001b[A\n",
      "Valid 27: loss 0.526248 0.7460:  50%|████████████████████████████████████████████████████████████████████████                                                                        | 1/2 [00:01<00:01,  1.12s/it]\u001b[A\n",
      "Valid 27: loss 0.526248 0.7460: 100%|████████████████████████████████████████████████████████████████████████████████████████████████████████████████████████████████████████████████| 2/2 [00:01<00:00,  1.37it/s]\u001b[A\n",
      "Epoch 27: loss 0.520495 0.7433: 100%|████████████████████████████████████████████████████████████████████████████████████████████████████████████████████████████████████████████████| 8/8 [00:07<00:00,  1.06it/s]\n",
      "Epoch 28: loss 0.520429 0.7434: 100%|████████████████████████████████████████████████████████████████████████████████████████████████████████████████████████████████████████████████| 8/8 [00:05<00:00,  1.36it/s]\n",
      "Epoch 29: loss 0.528278 0.7400: 100%|████████████████████████████████████████████████████████████████████████████████████████████████████████████████████████████████████████████████| 8/8 [00:05<00:00,  1.36it/s]\n",
      "Epoch 30: loss 0.522074 0.7447: 100%|████████████████████████████████████████████████████████████████████████████████████████████████████████████████████████████████████████████████| 8/8 [00:05<00:00,  1.40it/s]\n",
      "Epoch 31: loss 0.525272 0.7407: 100%|████████████████████████████████████████████████████████████████████████████████████████████████████████████████████████████████████████████████| 8/8 [00:05<00:00,  1.37it/s]\n",
      "Epoch 32: loss 0.523325 0.7406: 100%|████████████████████████████████████████████████████████████████████████████████████████████████████████████████████████████████████████████████| 8/8 [00:05<00:00,  1.40it/s]\n",
      "Epoch 33: loss 0.519297 0.7455: 100%|████████████████████████████████████████████████████████████████████████████████████████████████████████████████████████████████████████████████| 8/8 [00:05<00:00,  1.37it/s]\n",
      "Epoch 34: loss 0.529348 0.7390: 100%|████████████████████████████████████████████████████████████████████████████████████████████████████████████████████████████████████████████████| 8/8 [00:05<00:00,  1.37it/s]\n",
      "Epoch 35: loss 0.532742 0.7310: 100%|████████████████████████████████████████████████████████████████████████████████████████████████████████████████████████████████████████████████| 8/8 [00:06<00:00,  1.31it/s]\n",
      "Epoch 36: loss 0.524649 0.7449:  88%|██████████████████████████████████████████████████████████████████████████████████████████████████████████████████████████████                  | 7/8 [00:05<00:00,  1.41it/s]\n",
      "  0%|                                                                                                                                                                                        | 0/2 [00:00<?, ?it/s]\u001b[A\n",
      "Valid 36: loss 0.515430 0.7463:   0%|                                                                                                                                                        | 0/2 [00:01<?, ?it/s]\u001b[A\n",
      "Valid 36: loss 0.515430 0.7463:  50%|████████████████████████████████████████████████████████████████████████                                                                        | 1/2 [00:01<00:01,  1.12s/it]\u001b[A\n",
      "Valid 36: loss 0.527999 0.7247:  50%|████████████████████████████████████████████████████████████████████████                                                                        | 1/2 [00:01<00:01,  1.12s/it]\u001b[A\n",
      "Valid 36: loss 0.527999 0.7247: 100%|████████████████████████████████████████████████████████████████████████████████████████████████████████████████████████████████████████████████| 2/2 [00:01<00:00,  1.39it/s]\u001b[A\n",
      "Epoch 36: loss 0.524649 0.7449: 100%|████████████████████████████████████████████████████████████████████████████████████████████████████████████████████████████████████████████████| 8/8 [00:07<00:00,  1.08it/s]\n"
     ]
    },
    {
     "name": "stdout",
     "output_type": "stream",
     "text": [
      "EarlyStopping counter: 1 out of 100\n"
     ]
    },
    {
     "name": "stderr",
     "output_type": "stream",
     "text": [
      "Epoch 37: loss 0.516576 0.7436: 100%|████████████████████████████████████████████████████████████████████████████████████████████████████████████████████████████████████████████████| 8/8 [00:05<00:00,  1.43it/s]\n",
      "Epoch 38: loss 0.526485 0.7443: 100%|████████████████████████████████████████████████████████████████████████████████████████████████████████████████████████████████████████████████| 8/8 [00:05<00:00,  1.40it/s]\n",
      "Epoch 39: loss 0.520065 0.7415: 100%|████████████████████████████████████████████████████████████████████████████████████████████████████████████████████████████████████████████████| 8/8 [00:05<00:00,  1.36it/s]\n",
      "Epoch 40: loss 0.518190 0.7451: 100%|████████████████████████████████████████████████████████████████████████████████████████████████████████████████████████████████████████████████| 8/8 [00:05<00:00,  1.40it/s]\n",
      "Epoch 41: loss 0.519477 0.7459: 100%|████████████████████████████████████████████████████████████████████████████████████████████████████████████████████████████████████████████████| 8/8 [00:05<00:00,  1.38it/s]\n",
      "Epoch 42: loss 0.530968 0.7396:  25%|████████████████████████████████████                                                                                                            | 2/8 [00:02<00:06,  1.03s/it]"
     ]
    }
   ],
   "source": [
    "trainer.fit()"
   ]
  },
  {
   "cell_type": "code",
   "execution_count": null,
   "id": "0bf9d990",
   "metadata": {},
   "outputs": [],
   "source": []
  },
  {
   "cell_type": "code",
   "execution_count": null,
   "id": "05387570",
   "metadata": {},
   "outputs": [],
   "source": []
  }
 ],
 "metadata": {
  "kernelspec": {
   "display_name": "Python 3 (ipykernel)",
   "language": "python",
   "name": "python3"
  },
  "language_info": {
   "codemirror_mode": {
    "name": "ipython",
    "version": 3
   },
   "file_extension": ".py",
   "mimetype": "text/x-python",
   "name": "python",
   "nbconvert_exporter": "python",
   "pygments_lexer": "ipython3",
   "version": "3.8.3"
  }
 },
 "nbformat": 4,
 "nbformat_minor": 5
}
