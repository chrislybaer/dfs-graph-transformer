{
 "cells": [
  {
   "cell_type": "code",
   "execution_count": 1,
   "id": "49a7ca25",
   "metadata": {},
   "outputs": [],
   "source": [
    "%load_ext autoreload\n",
    "%autoreload 2"
   ]
  },
  {
   "cell_type": "code",
   "execution_count": 2,
   "id": "0033798e",
   "metadata": {},
   "outputs": [
    {
     "name": "stderr",
     "output_type": "stream",
     "text": [
      "WARNING:root:No normalization for BCUT2D_MWHI\n",
      "WARNING:root:No normalization for BCUT2D_MWLOW\n",
      "WARNING:root:No normalization for BCUT2D_CHGHI\n",
      "WARNING:root:No normalization for BCUT2D_CHGLO\n",
      "WARNING:root:No normalization for BCUT2D_LOGPHI\n",
      "WARNING:root:No normalization for BCUT2D_LOGPLOW\n",
      "WARNING:root:No normalization for BCUT2D_MRHI\n",
      "WARNING:root:No normalization for BCUT2D_MRLOW\n",
      "2021-10-05 15:07:26.535630: W tensorflow/stream_executor/platform/default/dso_loader.cc:64] Could not load dynamic library 'libcudart.so.11.0'; dlerror: libcudart.so.11.0: cannot open shared object file: No such file or directory; LD_LIBRARY_PATH: :/opt/cuda/extras/CUPTI/lib64/:/opt/intel/lib:/opt/intel/mkl/lib/intel64:/opt/intel:/opt/ibm/ILOG/CPLEX_Studio1210/cplex/bin/x86-64_linux:/opt/ibm/ILOG/CPLEX_Studio1210/cplex/python/3.7/x86-64_linux:/opt/intel/clck_latest/lib:/opt/intel/daal/lib:/opt/intel/intelpython3/lib:/opt/intel/ipp/lib:/opt/intel/itac_2019/lib:/opt/intel/itac_latest/lib:/opt/intel/mkl/lib:/opt/intel/mkl_/lib:/opt/intel/mpirt/lib:/opt/intel/tbb/lib:/opt/intel/clck/2019.0/lib:/opt/intel/compilers_and_libraries_2019/linux/lib:/opt/intel/compilers_and_libraries/linux/lib:/opt/intel/itac/2019.0.018/lib:/opt/intel/itac_2019/intel64/lib:/opt/intel/itac_latest/intel64/lib:/opt/intel/parallel_studio_xe_2019.0.045/clck_2019/lib:/opt/intel/parallel_studio_xe_2019.0.045/itac_2019/lib:/opt/intel/parallel_studio_xe_2019/clck_2019/lib:/opt/intel/parallel_studio_xe_2019/itac_2019/lib:/opt/cuda/extras/CUPTI/lib64/:/opt/intel/lib:/opt/intel/mkl/lib/intel64:/opt/intel:/opt/ibm/ILOG/CPLEX_Studio1210/cplex/bin/x86-64_linux:/opt/ibm/ILOG/CPLEX_Studio1210/cplex/python/3.7/x86-64_linux:/opt/intel/clck_latest/lib:/opt/intel/daal/lib:/opt/intel/intelpython3/lib:/opt/intel/ipp/lib:/opt/intel/itac_2019/lib:/opt/intel/itac_latest/lib:/opt/intel/mkl/lib:/opt/intel/mkl_/lib:/opt/intel/mpirt/lib:/opt/intel/tbb/lib:/opt/intel/clck/2019.0/lib:/opt/intel/compilers_and_libraries_2019/linux/lib:/opt/intel/compilers_and_libraries/linux/lib:/opt/intel/itac/2019.0.018/lib:/opt/intel/itac_2019/intel64/lib:/opt/intel/itac_latest/intel64/lib:/opt/intel/parallel_studio_xe_2019.0.045/clck_2019/lib:/opt/intel/parallel_studio_xe_2019.0.045/itac_2019/lib:/opt/intel/parallel_studio_xe_2019/clck_2019/lib:/opt/intel/parallel_studio_xe_2019/itac_2019/lib\n",
      "2021-10-05 15:07:26.535650: I tensorflow/stream_executor/cuda/cudart_stub.cc:29] Ignore above cudart dlerror if you do not have a GPU set up on your machine.\n",
      "Using backend: pytorch\n"
     ]
    },
    {
     "name": "stdout",
     "output_type": "stream",
     "text": [
      "To use the Graphein submodule graphein.protein.features.sequence.embeddings, you need to install biovec.\n",
      "\n",
      "To do so, use the following command:\n",
      "\n",
      "    pip install biovec\n",
      "To use the Graphein submodule graphein.protein.visualisation, you need to install pytorch3d.\n",
      "\n",
      "pytorch3d cannot be installed via pip\n",
      "To use the Graphein submodule graphein.protein.meshes, you need to install pytorch3d.\n",
      "\n",
      "pytorch3d cannot be installed via pip\n"
     ]
    }
   ],
   "source": [
    "import json\n",
    "import numpy as np\n",
    "from torch.utils.data import Dataset, DataLoader\n",
    "import glob\n",
    "import wandb\n",
    "import os\n",
    "import torch.optim as optimizers\n",
    "import dfs_code\n",
    "from torch_geometric.data import InMemoryDataset, Data\n",
    "import pickle\n",
    "import torch\n",
    "import torch.nn as nn\n",
    "import tqdm\n",
    "import copy\n",
    "import pandas as pd\n",
    "import torch.nn.functional as F\n",
    "import sys\n",
    "import yaml\n",
    "import functools\n",
    "from ml_collections import ConfigDict\n",
    "sys.path = ['../../src'] + sys.path\n",
    "from dfs_transformer import collate_dgl, Gilmer, Kipf, Trainer, to_cuda, Enzymes\n",
    "from graphein.protein.resi_atoms import RESI_THREE_TO_1, AMINO_ACIDS\n"
   ]
  },
  {
   "cell_type": "code",
   "execution_count": 3,
   "id": "ee7962f8",
   "metadata": {},
   "outputs": [],
   "source": [
    "collate_fn = functools.partial(collate_dgl, node_feats=\"node_features\", edge_feats=\"edge_features\", target=\"y\")"
   ]
  },
  {
   "cell_type": "code",
   "execution_count": 4,
   "id": "9838e688",
   "metadata": {},
   "outputs": [],
   "source": [
    "m = ConfigDict()\n",
    "t = ConfigDict()\n",
    "d = ConfigDict()"
   ]
  },
  {
   "cell_type": "code",
   "execution_count": 5,
   "id": "2dec3e52",
   "metadata": {},
   "outputs": [],
   "source": [
    "m[\"class\"] = \"Kipf\"\n",
    "m[\"n_tasks\"] = 1\n",
    "m[\"graph_conv_layers\"] = [64, 64]\n",
    "m[\"activation\"] = nn.ReLU()\n",
    "m[\"residual\"] = True\n",
    "m[\"batchnorm\"] = False\n",
    "m[\"dropout\"] = 0.\n",
    "m[\"predictor_hidden_feats\"] = 128\n",
    "m[\"predictor_dropout\"] = 0.\n",
    "m[\"mode\"] = 'classification'\n",
    "m[\"number_atom_features\"] = 26\n",
    "m[\"n_classes\"] = 384\n",
    "m[\"nfeat_name\"] = 'x'\n",
    "\n",
    "\n",
    "t[\"batch_size\"] = 50\n",
    "t[\"gpu_id\"] = None\n",
    "t[\"load_last\"] = False\n",
    "t[\"fingerprint\"] = \"cls\"\n",
    "t[\"accumulate_grads\"] = 2\n",
    "t[\"alpha\"] = 0.0\n",
    "t[\"clip_gradient\"] = 0.5\n",
    "t[\"decay_factor\"] = 0.8\n",
    "t[\"es_improvement\"] = 0.0\n",
    "t[\"es_path\"] = None\n",
    "t[\"es_patience\"] = 30\n",
    "t[\"es_period\"] = 203\n",
    "t[\"lr\"] = 0.003\n",
    "t[\"lr_patience\"] = 3\n",
    "t[\"lr_adjustment_period\"] = 203\n",
    "t[\"wdecay_encoder\"] = 0.0\n",
    "t[\"n_epochs\"] = 1000\n",
    "t[\"seed\"] = 123\n",
    "t[\"num_workers\"] = 8\n",
    "\n",
    "d[\"n_classes\"] = 384\n",
    "d[\"path\"] = \"/mnt/ssd/datasets/enzyme/graphein_basic_n1000_m500.pkl\"\n",
    "d[\"n_edge_types\"] = 8\n",
    "d[\"n_node_types\"] = 26"
   ]
  },
  {
   "cell_type": "code",
   "execution_count": 6,
   "id": "e69ff7ec",
   "metadata": {},
   "outputs": [],
   "source": [
    "mode = \"online\"\n",
    "name = \"kipf\"\n",
    "project = \"enzymes-n200\""
   ]
  },
  {
   "cell_type": "code",
   "execution_count": 7,
   "id": "6a8e1cf2",
   "metadata": {},
   "outputs": [],
   "source": [
    "dataset = Enzymes(path=d.path, acids2int=AMINO_ACIDS)"
   ]
  },
  {
   "cell_type": "code",
   "execution_count": 8,
   "id": "9ba9ca6b",
   "metadata": {},
   "outputs": [],
   "source": [
    "train_idx = torch.tensor([idx for idx, d in enumerate(dataset) if d.split == \"train\"], dtype=torch.long)\n",
    "valid_idx = torch.tensor([idx for idx, d in enumerate(dataset) if d.split == \"valid\"], dtype=torch.long)\n",
    "test_idx = torch.tensor([idx for idx, d in enumerate(dataset) if d.split == \"test\"], dtype=torch.long)"
   ]
  },
  {
   "cell_type": "code",
   "execution_count": 9,
   "id": "48bf51a3",
   "metadata": {},
   "outputs": [],
   "source": [
    "coll_train = collate_fn"
   ]
  },
  {
   "cell_type": "code",
   "execution_count": 10,
   "id": "735f442a",
   "metadata": {},
   "outputs": [],
   "source": [
    "trainloader = DataLoader(dataset, sampler=torch.utils.data.SubsetRandomSampler(train_idx), \n",
    "                         batch_size=t.batch_size, collate_fn=coll_train, num_workers=t.num_workers)\n",
    "validloader = DataLoader(dataset, sampler=torch.utils.data.SubsetRandomSampler(valid_idx), \n",
    "                         batch_size=t.batch_size, collate_fn=collate_fn, num_workers=t.num_workers)\n",
    "testloader = DataLoader(dataset, sampler=torch.utils.data.SubsetRandomSampler(test_idx), \n",
    "                        batch_size=t.batch_size, collate_fn=collate_fn, num_workers=t.num_workers)"
   ]
  },
  {
   "cell_type": "code",
   "execution_count": 11,
   "id": "1adaf8e5",
   "metadata": {},
   "outputs": [],
   "source": [
    "data = next(iter(trainloader))"
   ]
  },
  {
   "cell_type": "code",
   "execution_count": 12,
   "id": "132f0225",
   "metadata": {},
   "outputs": [
    {
     "data": {
      "text/plain": [
       "(Graph(num_nodes=7890, num_edges=16572,\n",
       "       ndata_schemes={'x': Scheme(shape=(26,), dtype=torch.float32)}\n",
       "       edata_schemes={'edge_attr': Scheme(shape=(8,), dtype=torch.float32)}),\n",
       " tensor([282,  55, 215, 147,  62,  62, 227,  13,  62, 357,  62, 266, 162, 141,\n",
       "         153,  29,  48,  37,  73, 369,  51, 149, 266,  62, 357, 195, 162, 369,\n",
       "         166,  83, 351, 189, 350, 215, 370, 206, 351, 293, 175,  62, 351,  23,\n",
       "         351,  58, 351, 190, 218, 351, 357, 351]))"
      ]
     },
     "execution_count": 12,
     "metadata": {},
     "output_type": "execute_result"
    }
   ],
   "source": [
    "data"
   ]
  },
  {
   "cell_type": "code",
   "execution_count": 13,
   "id": "198caa53",
   "metadata": {},
   "outputs": [],
   "source": [
    "config = ConfigDict()\n",
    "config[\"model\"] = m\n",
    "config[\"training\"] = t\n",
    "config[\"data\"] = d"
   ]
  },
  {
   "cell_type": "code",
   "execution_count": 14,
   "id": "69384b8c",
   "metadata": {},
   "outputs": [
    {
     "name": "stderr",
     "output_type": "stream",
     "text": [
      "ERROR:wandb.jupyter:Failed to detect the name of this notebook, you can set it manually with the WANDB_NOTEBOOK_NAME environment variable to enable code saving.\n",
      "\u001b[34m\u001b[1mwandb\u001b[0m: Currently logged in as: \u001b[33mchrisxx\u001b[0m (use `wandb login --relogin` to force relogin)\n",
      "\u001b[34m\u001b[1mwandb\u001b[0m: wandb version 0.12.4 is available!  To upgrade, please run:\n",
      "\u001b[34m\u001b[1mwandb\u001b[0m:  $ pip install wandb --upgrade\n",
      "2021-10-05 15:07:36.880744: W tensorflow/stream_executor/platform/default/dso_loader.cc:64] Could not load dynamic library 'libcudart.so.11.0'; dlerror: libcudart.so.11.0: cannot open shared object file: No such file or directory; LD_LIBRARY_PATH: :/opt/cuda/extras/CUPTI/lib64/:/opt/intel/lib:/opt/intel/mkl/lib/intel64:/opt/intel:/opt/ibm/ILOG/CPLEX_Studio1210/cplex/bin/x86-64_linux:/opt/ibm/ILOG/CPLEX_Studio1210/cplex/python/3.7/x86-64_linux:/opt/intel/clck_latest/lib:/opt/intel/daal/lib:/opt/intel/intelpython3/lib:/opt/intel/ipp/lib:/opt/intel/itac_2019/lib:/opt/intel/itac_latest/lib:/opt/intel/mkl/lib:/opt/intel/mkl_/lib:/opt/intel/mpirt/lib:/opt/intel/tbb/lib:/opt/intel/clck/2019.0/lib:/opt/intel/compilers_and_libraries_2019/linux/lib:/opt/intel/compilers_and_libraries/linux/lib:/opt/intel/itac/2019.0.018/lib:/opt/intel/itac_2019/intel64/lib:/opt/intel/itac_latest/intel64/lib:/opt/intel/parallel_studio_xe_2019.0.045/clck_2019/lib:/opt/intel/parallel_studio_xe_2019.0.045/itac_2019/lib:/opt/intel/parallel_studio_xe_2019/clck_2019/lib:/opt/intel/parallel_studio_xe_2019/itac_2019/lib:/opt/cuda/extras/CUPTI/lib64/:/opt/intel/lib:/opt/intel/mkl/lib/intel64:/opt/intel:/opt/ibm/ILOG/CPLEX_Studio1210/cplex/bin/x86-64_linux:/opt/ibm/ILOG/CPLEX_Studio1210/cplex/python/3.7/x86-64_linux:/opt/intel/clck_latest/lib:/opt/intel/daal/lib:/opt/intel/intelpython3/lib:/opt/intel/ipp/lib:/opt/intel/itac_2019/lib:/opt/intel/itac_latest/lib:/opt/intel/mkl/lib:/opt/intel/mkl_/lib:/opt/intel/mpirt/lib:/opt/intel/tbb/lib:/opt/intel/clck/2019.0/lib:/opt/intel/compilers_and_libraries_2019/linux/lib:/opt/intel/compilers_and_libraries/linux/lib:/opt/intel/itac/2019.0.018/lib:/opt/intel/itac_2019/intel64/lib:/opt/intel/itac_latest/intel64/lib:/opt/intel/parallel_studio_xe_2019.0.045/clck_2019/lib:/opt/intel/parallel_studio_xe_2019.0.045/itac_2019/lib:/opt/intel/parallel_studio_xe_2019/clck_2019/lib:/opt/intel/parallel_studio_xe_2019/itac_2019/lib\n",
      "2021-10-05 15:07:36.880765: I tensorflow/stream_executor/cuda/cudart_stub.cc:29] Ignore above cudart dlerror if you do not have a GPU set up on your machine.\n"
     ]
    },
    {
     "data": {
      "text/html": [
       "\n",
       "                Tracking run with wandb version 0.10.33<br/>\n",
       "                Syncing run <strong style=\"color:#cdcd00\">kipf</strong> to <a href=\"https://wandb.ai\" target=\"_blank\">Weights & Biases</a> <a href=\"https://docs.wandb.com/integrations/jupyter.html\" target=\"_blank\">(Documentation)</a>.<br/>\n",
       "                Project page: <a href=\"https://wandb.ai/dfstransformer/enzymes-n200\" target=\"_blank\">https://wandb.ai/dfstransformer/enzymes-n200</a><br/>\n",
       "                Run page: <a href=\"https://wandb.ai/dfstransformer/enzymes-n200/runs/3u8l76x5\" target=\"_blank\">https://wandb.ai/dfstransformer/enzymes-n200/runs/3u8l76x5</a><br/>\n",
       "                Run data is saved locally in <code>/home/chrisw/Documents/projects/2021/graph-transformer/notebooks/selfattn/wandb/run-20211005_150735-3u8l76x5</code><br/><br/>\n",
       "            "
      ],
      "text/plain": [
       "<IPython.core.display.HTML object>"
      ]
     },
     "metadata": {},
     "output_type": "display_data"
    }
   ],
   "source": [
    "run = wandb.init(mode=mode, project=project, entity=\"dfstransformer\", \n",
    "                 name=name, config=config.to_dict(), job_type=\"evaluation\")"
   ]
  },
  {
   "cell_type": "code",
   "execution_count": 15,
   "id": "6a92cba2",
   "metadata": {},
   "outputs": [],
   "source": [
    "ce = nn.CrossEntropyLoss(ignore_index=-1)"
   ]
  },
  {
   "cell_type": "code",
   "execution_count": 16,
   "id": "df6e9d7d",
   "metadata": {},
   "outputs": [],
   "source": [
    "def loss(pred, y, ce=ce):\n",
    "    return ce(pred, y)\n",
    "\n",
    "def acc(pred, y):\n",
    "    return torch.sum(torch.argmax(pred, dim=1) == y)/len(y)"
   ]
  },
  {
   "cell_type": "code",
   "execution_count": 18,
   "id": "a89213a7",
   "metadata": {},
   "outputs": [],
   "source": [
    "#device = torch.device('cuda:%d'%t.gpu_id if torch.cuda.is_available()  else 'cpu')\n",
    "device =  'cpu'"
   ]
  },
  {
   "cell_type": "code",
   "execution_count": 19,
   "id": "998ec1f8",
   "metadata": {},
   "outputs": [],
   "source": [
    "model = Kipf(**m)"
   ]
  },
  {
   "cell_type": "code",
   "execution_count": 20,
   "id": "2934c934",
   "metadata": {},
   "outputs": [
    {
     "data": {
      "text/plain": [
       "accumulate_grads: 2\n",
       "alpha: 0.0\n",
       "batch_size: 50\n",
       "clip_gradient: 0.5\n",
       "decay_factor: 0.8\n",
       "es_improvement: 0.0\n",
       "es_path: null\n",
       "es_patience: 30\n",
       "es_period: 203\n",
       "fingerprint: cls\n",
       "gpu_id: null\n",
       "load_last: false\n",
       "lr: 0.003\n",
       "lr_adjustment_period: 203\n",
       "lr_patience: 3\n",
       "n_epochs: 1000\n",
       "num_workers: 8\n",
       "seed: 123\n",
       "wdecay_encoder: 0.0"
      ]
     },
     "execution_count": 20,
     "metadata": {},
     "output_type": "execute_result"
    }
   ],
   "source": [
    "t"
   ]
  },
  {
   "cell_type": "code",
   "execution_count": 21,
   "id": "57f93c6d",
   "metadata": {},
   "outputs": [],
   "source": [
    "trainer = Trainer(model, trainloader, loss, validloader=validloader, metrics={'acc': acc}, es_argument=lambda log: -log['valid-acc'], wandb_run = run, **t)"
   ]
  },
  {
   "cell_type": "code",
   "execution_count": 24,
   "id": "a20a1ec8",
   "metadata": {},
   "outputs": [
    {
     "name": "stderr",
     "output_type": "stream",
     "text": [
      "Epoch 1: loss 3.615520 0.5200:  99%|██████████████████████████████████████████████████████████████████████████████████████████████████████████████████████████████████████████▉  | 200/203 [00:06<00:00, 45.90it/s]\n",
      "  0%|                                                                                                                                                                                       | 0/11 [00:00<?, ?it/s]\u001b[A\n",
      "Valid 1: loss 5.388947 0.1000:   0%|                                                                                                                                                        | 0/11 [00:00<?, ?it/s]\u001b[A\n",
      "Valid 1: loss 5.388947 0.1000:   9%|█████████████                                                                                                                                   | 1/11 [00:00<00:05,  1.96it/s]\u001b[A\n",
      "Valid 1: loss 5.476156 0.0600:   9%|█████████████                                                                                                                                   | 1/11 [00:00<00:05,  1.96it/s]\u001b[A\n",
      "Valid 1: loss 5.299899 0.0600:   9%|█████████████                                                                                                                                   | 1/11 [00:00<00:05,  1.96it/s]\u001b[A\n",
      "Valid 1: loss 5.153870 0.0600:   9%|█████████████                                                                                                                                   | 1/11 [00:00<00:05,  1.96it/s]\u001b[A\n",
      "Valid 1: loss 5.204264 0.0400:   9%|█████████████                                                                                                                                   | 1/11 [00:00<00:05,  1.96it/s]\u001b[A\n",
      "Valid 1: loss 5.210773 0.0400:   9%|█████████████                                                                                                                                   | 1/11 [00:00<00:05,  1.96it/s]\u001b[A\n",
      "Valid 1: loss 5.226096 0.0200:   9%|█████████████                                                                                                                                   | 1/11 [00:00<00:05,  1.96it/s]\u001b[A\n",
      "Valid 1: loss 5.238670 0.0200:   9%|█████████████                                                                                                                                   | 1/11 [00:00<00:05,  1.96it/s]\u001b[A\n",
      "Valid 1: loss 5.231156 0.0200:   9%|█████████████                                                                                                                                   | 1/11 [00:00<00:05,  1.96it/s]\u001b[A\n",
      "Valid 1: loss 5.231156 0.0200:  82%|█████████████████████████████████████████████████████████████████████████████████████████████████████████████████████▊                          | 9/11 [00:00<00:00, 18.51it/s]\u001b[A\n",
      "Valid 1: loss 5.189439 0.0600:  82%|█████████████████████████████████████████████████████████████████████████████████████████████████████████████████████▊                          | 9/11 [00:00<00:00, 18.51it/s]\u001b[A\n",
      "Valid 1: loss 5.138203 0.0000: 100%|███████████████████████████████████████████████████████████████████████████████████████████████████████████████████████████████████████████████| 11/11 [00:00<00:00, 15.63it/s]\u001b[A\n",
      "Epoch 1: loss 3.615520 0.5200: 100%|█████████████████████████████████████████████████████████████████████████████████████████████████████████████████████████████████████████████| 203/203 [00:07<00:00, 28.21it/s]\n",
      "Epoch 2: loss 1.931944 0.4800:  98%|█████████████████████████████████████████████████████████████████████████████████████████████████████████████████████████████████████████▌   | 198/203 [00:06<00:00, 41.46it/s]\n",
      "  0%|                                                                                                                                                                                       | 0/11 [00:00<?, ?it/s]\u001b[A\n",
      "Valid 2: loss 4.622911 0.1000:   0%|                                                                                                                                                        | 0/11 [00:00<?, ?it/s]\u001b[A\n",
      "Valid 2: loss 4.622911 0.1000:   9%|█████████████                                                                                                                                   | 1/11 [00:00<00:03,  2.94it/s]\u001b[A\n",
      "Valid 2: loss 4.734450 0.1800:   9%|█████████████                                                                                                                                   | 1/11 [00:00<00:03,  2.94it/s]\u001b[A\n",
      "Valid 2: loss 4.999827 0.1000:   9%|█████████████                                                                                                                                   | 1/11 [00:00<00:03,  2.94it/s]\u001b[A\n",
      "Valid 2: loss 4.999827 0.1000:  27%|███████████████████████████████████████▎                                                                                                        | 3/11 [00:00<00:01,  6.96it/s]\u001b[A\n",
      "Valid 2: loss 5.124710 0.0200:  27%|███████████████████████████████████████▎                                                                                                        | 3/11 [00:00<00:01,  6.96it/s]\u001b[A\n",
      "Valid 2: loss 5.105798 0.0600:  27%|███████████████████████████████████████▎                                                                                                        | 3/11 [00:00<00:01,  6.96it/s]\u001b[A\n",
      "Valid 2: loss 5.178483 0.0800:  27%|███████████████████████████████████████▎                                                                                                        | 3/11 [00:00<00:01,  6.96it/s]\u001b[A\n",
      "Valid 2: loss 5.248187 0.0600:  27%|███████████████████████████████████████▎                                                                                                        | 3/11 [00:00<00:01,  6.96it/s]\u001b[A\n",
      "Valid 2: loss 5.191042 0.1200:  27%|███████████████████████████████████████▎                                                                                                        | 3/11 [00:00<00:01,  6.96it/s]\u001b[A\n",
      "Valid 2: loss 5.139350 0.1400:  27%|███████████████████████████████████████▎                                                                                                        | 3/11 [00:00<00:01,  6.96it/s]\u001b[A\n",
      "Valid 2: loss 5.136625 0.0600:  27%|███████████████████████████████████████▎                                                                                                        | 3/11 [00:00<00:01,  6.96it/s]\u001b[A\n",
      "Valid 2: loss 5.154646 0.1429: 100%|███████████████████████████████████████████████████████████████████████████████████████████████████████████████████████████████████████████████| 11/11 [00:00<00:00, 17.40it/s]\u001b[A\n",
      "Epoch 2: loss 1.931944 0.4800: 100%|█████████████████████████████████████████████████████████████████████████████████████████████████████████████████████████████████████████████| 203/203 [00:06<00:00, 29.60it/s]\n",
      "Epoch 3: loss 1.219715 0.8000:  99%|██████████████████████████████████████████████████████████████████████████████████████████████████████████████████████████████████████████▉  | 200/203 [00:06<00:00, 40.41it/s]\n",
      "  0%|                                                                                                                                                                                       | 0/11 [00:00<?, ?it/s]\u001b[A\n",
      "Valid 3: loss 4.329950 0.1600:   0%|                                                                                                                                                        | 0/11 [00:00<?, ?it/s]\u001b[A\n",
      "Valid 3: loss 4.329950 0.1600:   9%|█████████████                                                                                                                                   | 1/11 [00:00<00:05,  1.69it/s]\u001b[A\n",
      "Valid 3: loss 4.517554 0.2000:   9%|█████████████                                                                                                                                   | 1/11 [00:00<00:05,  1.69it/s]\u001b[A\n",
      "Valid 3: loss 4.526845 0.1600:   9%|█████████████                                                                                                                                   | 1/11 [00:00<00:05,  1.69it/s]\u001b[A\n"
     ]
    },
    {
     "name": "stderr",
     "output_type": "stream",
     "text": [
      "Valid 3: loss 4.472188 0.2400:   9%|█████████████                                                                                                                                   | 1/11 [00:00<00:05,  1.69it/s]\u001b[A\n",
      "Valid 3: loss 4.605477 0.1800:   9%|█████████████                                                                                                                                   | 1/11 [00:00<00:05,  1.69it/s]\u001b[A\n",
      "Valid 3: loss 4.675893 0.1400:   9%|█████████████                                                                                                                                   | 1/11 [00:00<00:05,  1.69it/s]\u001b[A\n",
      "Valid 3: loss 4.616199 0.1600:   9%|█████████████                                                                                                                                   | 1/11 [00:00<00:05,  1.69it/s]\u001b[A\n",
      "Valid 3: loss 4.648010 0.1200:   9%|█████████████                                                                                                                                   | 1/11 [00:00<00:05,  1.69it/s]\u001b[A\n",
      "Valid 3: loss 4.660522 0.1000:   9%|█████████████                                                                                                                                   | 1/11 [00:00<00:05,  1.69it/s]\u001b[A\n",
      "Valid 3: loss 4.697493 0.0800:   9%|█████████████                                                                                                                                   | 1/11 [00:00<00:05,  1.69it/s]\u001b[A\n",
      "Valid 3: loss 4.697493 0.0800:  91%|██████████████████████████████████████████████████████████████████████████████████████████████████████████████████████████████████             | 10/11 [00:00<00:00, 18.60it/s]\u001b[A\n",
      "Valid 3: loss 4.759527 0.1429: 100%|███████████████████████████████████████████████████████████████████████████████████████████████████████████████████████████████████████████████| 11/11 [00:00<00:00, 14.12it/s]\u001b[A\n",
      "Epoch 3: loss 1.219715 0.8000: 100%|█████████████████████████████████████████████████████████████████████████████████████████████████████████████████████████████████████████████| 203/203 [00:07<00:00, 28.72it/s]\n",
      "Epoch 4: loss 0.812731 0.6800:  98%|██████████████████████████████████████████████████████████████████████████████████████████████████████████████████████████████████████████▏  | 199/203 [00:06<00:00, 40.07it/s]\n",
      "  0%|                                                                                                                                                                                       | 0/11 [00:00<?, ?it/s]\u001b[A\n",
      "Valid 4: loss 5.841890 0.1600:   0%|                                                                                                                                                        | 0/11 [00:00<?, ?it/s]\u001b[A\n",
      "Valid 4: loss 5.841890 0.1600:   9%|█████████████                                                                                                                                   | 1/11 [00:00<00:03,  2.90it/s]\u001b[A\n",
      "Valid 4: loss 6.054481 0.1400:   9%|█████████████                                                                                                                                   | 1/11 [00:00<00:03,  2.90it/s]\u001b[A\n",
      "Valid 4: loss 6.054481 0.1400:  18%|██████████████████████████▏                                                                                                                     | 2/11 [00:00<00:02,  4.46it/s]\u001b[A\n",
      "Valid 4: loss 5.989232 0.1400:  18%|██████████████████████████▏                                                                                                                     | 2/11 [00:00<00:02,  4.46it/s]\u001b[A\n",
      "Valid 4: loss 5.876299 0.1600:  18%|██████████████████████████▏                                                                                                                     | 2/11 [00:00<00:02,  4.46it/s]\u001b[A\n",
      "Valid 4: loss 5.830611 0.1600:  18%|██████████████████████████▏                                                                                                                     | 2/11 [00:00<00:02,  4.46it/s]\u001b[A\n",
      "Valid 4: loss 5.673001 0.2400:  18%|██████████████████████████▏                                                                                                                     | 2/11 [00:00<00:02,  4.46it/s]\u001b[A\n",
      "Valid 4: loss 5.587765 0.2800:  18%|██████████████████████████▏                                                                                                                     | 2/11 [00:00<00:02,  4.46it/s]\u001b[A\n",
      "Valid 4: loss 5.491287 0.2400:  18%|██████████████████████████▏                                                                                                                     | 2/11 [00:00<00:02,  4.46it/s]\u001b[A\n",
      "Valid 4: loss 5.378411 0.2400:  18%|██████████████████████████▏                                                                                                                     | 2/11 [00:00<00:02,  4.46it/s]\u001b[A\n",
      "Valid 4: loss 5.410129 0.2600:  18%|██████████████████████████▏                                                                                                                     | 2/11 [00:00<00:02,  4.46it/s]\u001b[A\n",
      "Valid 4: loss 5.295441 0.0000: 100%|███████████████████████████████████████████████████████████████████████████████████████████████████████████████████████████████████████████████| 11/11 [00:00<00:00, 17.06it/s]\u001b[A\n",
      "Epoch 4: loss 0.812731 0.6800: 100%|█████████████████████████████████████████████████████████████████████████████████████████████████████████████████████████████████████████████| 203/203 [00:06<00:00, 29.38it/s]\n",
      "Epoch 5: loss 0.601818 0.8800: 100%|████████████████████████████████████████████████████████████████████████████████████████████████████████████████████████████████████████████▎| 202/203 [00:06<00:00, 46.00it/s]\n",
      "  0%|                                                                                                                                                                                       | 0/11 [00:00<?, ?it/s]\u001b[A\n",
      "Valid 5: loss 5.227382 0.2200:   0%|                                                                                                                                                        | 0/11 [00:00<?, ?it/s]\u001b[A\n",
      "Valid 5: loss 5.227382 0.2200:   9%|█████████████                                                                                                                                   | 1/11 [00:00<00:05,  1.95it/s]\u001b[A\n",
      "Valid 5: loss 5.688480 0.2200:   9%|█████████████                                                                                                                                   | 1/11 [00:00<00:05,  1.95it/s]\u001b[A\n",
      "Valid 5: loss 5.420099 0.2400:   9%|█████████████                                                                                                                                   | 1/11 [00:00<00:05,  1.95it/s]\u001b[A\n",
      "Valid 5: loss 5.350540 0.2400:   9%|█████████████                                                                                                                                   | 1/11 [00:00<00:05,  1.95it/s]\u001b[A\n",
      "Valid 5: loss 5.389652 0.2000:   9%|█████████████                                                                                                                                   | 1/11 [00:00<00:05,  1.95it/s]\u001b[A\n",
      "Valid 5: loss 5.534990 0.2200:   9%|█████████████                                                                                                                                   | 1/11 [00:00<00:05,  1.95it/s]\u001b[A\n",
      "Valid 5: loss 5.504492 0.2400:   9%|█████████████                                                                                                                                   | 1/11 [00:00<00:05,  1.95it/s]\u001b[A\n",
      "Valid 5: loss 5.429898 0.2400:   9%|█████████████                                                                                                                                   | 1/11 [00:00<00:05,  1.95it/s]\u001b[A\n",
      "Valid 5: loss 5.366355 0.2200:   9%|█████████████                                                                                                                                   | 1/11 [00:00<00:05,  1.95it/s]\u001b[A\n"
     ]
    },
    {
     "name": "stderr",
     "output_type": "stream",
     "text": [
      "Valid 5: loss 5.306783 0.2800:   9%|█████████████                                                                                                                                   | 1/11 [00:00<00:05,  1.95it/s]\u001b[A\n",
      "Valid 5: loss 5.306783 0.2800:  91%|██████████████████████████████████████████████████████████████████████████████████████████████████████████████████████████████████             | 10/11 [00:00<00:00, 20.98it/s]\u001b[A\n",
      "Valid 5: loss 5.105726 0.2857: 100%|███████████████████████████████████████████████████████████████████████████████████████████████████████████████████████████████████████████████| 11/11 [00:00<00:00, 15.74it/s]\u001b[A\n",
      "Epoch 5: loss 0.601818 0.8800: 100%|█████████████████████████████████████████████████████████████████████████████████████████████████████████████████████████████████████████████| 203/203 [00:06<00:00, 29.19it/s]\n",
      "Epoch 6: loss 0.449376 0.8800:  98%|██████████████████████████████████████████████████████████████████████████████████████████████████████████████████████████████████████████▏  | 199/203 [00:06<00:00, 42.58it/s]\n",
      "  0%|                                                                                                                                                                                       | 0/11 [00:00<?, ?it/s]\u001b[A\n",
      "Valid 6: loss 6.787721 0.1600:   0%|                                                                                                                                                        | 0/11 [00:00<?, ?it/s]\u001b[A\n",
      "Valid 6: loss 6.787721 0.1600:   9%|█████████████                                                                                                                                   | 1/11 [00:00<00:04,  2.46it/s]\u001b[A\n",
      "Valid 6: loss 5.987993 0.2800:   9%|█████████████                                                                                                                                   | 1/11 [00:00<00:04,  2.46it/s]\u001b[A\n",
      "Valid 6: loss 6.193055 0.2600:   9%|█████████████                                                                                                                                   | 1/11 [00:00<00:04,  2.46it/s]\u001b[A\n",
      "Valid 6: loss 6.219636 0.1400:   9%|█████████████                                                                                                                                   | 1/11 [00:00<00:04,  2.46it/s]\u001b[A\n",
      "Valid 6: loss 5.949964 0.3200:   9%|█████████████                                                                                                                                   | 1/11 [00:00<00:04,  2.46it/s]\u001b[A\n",
      "Valid 6: loss 5.948479 0.2200:   9%|█████████████                                                                                                                                   | 1/11 [00:00<00:04,  2.46it/s]\u001b[A\n",
      "Valid 6: loss 5.948479 0.2200:  55%|██████████████████████████████████████████████████████████████████████████████▌                                                                 | 6/11 [00:00<00:00, 14.50it/s]\u001b[A\n",
      "Valid 6: loss 5.931578 0.2000:  55%|██████████████████████████████████████████████████████████████████████████████▌                                                                 | 6/11 [00:00<00:00, 14.50it/s]\u001b[A\n",
      "Valid 6: loss 5.945520 0.2000:  55%|██████████████████████████████████████████████████████████████████████████████▌                                                                 | 6/11 [00:00<00:00, 14.50it/s]\u001b[A\n",
      "Valid 6: loss 5.986094 0.2400:  55%|██████████████████████████████████████████████████████████████████████████████▌                                                                 | 6/11 [00:00<00:00, 14.50it/s]\u001b[A\n",
      "Valid 6: loss 6.000785 0.2400:  55%|██████████████████████████████████████████████████████████████████████████████▌                                                                 | 6/11 [00:00<00:00, 14.50it/s]\u001b[A\n",
      "Valid 6: loss 6.012882 0.2857: 100%|███████████████████████████████████████████████████████████████████████████████████████████████████████████████████████████████████████████████| 11/11 [00:00<00:00, 17.41it/s]\u001b[A\n",
      "Epoch 6: loss 0.449376 0.8800: 100%|█████████████████████████████████████████████████████████████████████████████████████████████████████████████████████████████████████████████| 203/203 [00:07<00:00, 28.35it/s]\n"
     ]
    },
    {
     "name": "stdout",
     "output_type": "stream",
     "text": [
      "EarlyStopping counter: 1 out of 30\n"
     ]
    },
    {
     "name": "stderr",
     "output_type": "stream",
     "text": [
      "Epoch 7: loss 0.346021 0.9600:  97%|████████████████████████████████████████████████████████████████████████████████████████████████████████████████████████████████████████▊    | 197/203 [00:05<00:00, 43.39it/s]\n",
      "  0%|                                                                                                                                                                                       | 0/11 [00:00<?, ?it/s]\u001b[A\n",
      "Valid 7: loss 4.942523 0.2600:   0%|                                                                                                                                                        | 0/11 [00:00<?, ?it/s]\u001b[A\n",
      "Valid 7: loss 4.942523 0.2600:   9%|█████████████                                                                                                                                   | 1/11 [00:00<00:03,  2.62it/s]\u001b[A\n",
      "Valid 7: loss 4.721499 0.2600:   9%|█████████████                                                                                                                                   | 1/11 [00:00<00:03,  2.62it/s]\u001b[A\n",
      "Valid 7: loss 4.721499 0.2600:  18%|██████████████████████████▏                                                                                                                     | 2/11 [00:00<00:02,  4.32it/s]\u001b[A\n",
      "Valid 7: loss 4.689417 0.2400:  18%|██████████████████████████▏                                                                                                                     | 2/11 [00:00<00:02,  4.32it/s]\u001b[A\n",
      "Valid 7: loss 5.066252 0.2200:  18%|██████████████████████████▏                                                                                                                     | 2/11 [00:00<00:02,  4.32it/s]\u001b[A\n",
      "Valid 7: loss 5.056081 0.2400:  18%|██████████████████████████▏                                                                                                                     | 2/11 [00:00<00:02,  4.32it/s]\u001b[A\n",
      "Valid 7: loss 5.384324 0.2200:  18%|██████████████████████████▏                                                                                                                     | 2/11 [00:00<00:02,  4.32it/s]\u001b[A\n",
      "Valid 7: loss 5.323469 0.3000:  18%|██████████████████████████▏                                                                                                                     | 2/11 [00:00<00:02,  4.32it/s]\u001b[A\n",
      "Valid 7: loss 5.271005 0.2800:  18%|██████████████████████████▏                                                                                                                     | 2/11 [00:00<00:02,  4.32it/s]\u001b[A\n",
      "Valid 7: loss 5.258993 0.2600:  18%|██████████████████████████▏                                                                                                                     | 2/11 [00:00<00:02,  4.32it/s]\u001b[A\n",
      "Valid 7: loss 5.421696 0.1800:  18%|██████████████████████████▏                                                                                                                     | 2/11 [00:00<00:02,  4.32it/s]\u001b[A\n",
      "Valid 7: loss 5.688260 0.0000:  18%|██████████████████████████▏                                                                                                                     | 2/11 [00:00<00:02,  4.32it/s]\u001b[A\n",
      "Valid 7: loss 5.688260 0.0000: 100%|███████████████████████████████████████████████████████████████████████████████████████████████████████████████████████████████████████████████| 11/11 [00:00<00:00, 16.30it/s]\u001b[A\n",
      "Epoch 7: loss 0.346021 0.9600: 100%|█████████████████████████████████████████████████████████████████████████████████████████████████████████████████████████████████████████████| 203/203 [00:06<00:00, 30.57it/s]\n"
     ]
    },
    {
     "name": "stdout",
     "output_type": "stream",
     "text": [
      "EarlyStopping counter: 2 out of 30\n"
     ]
    },
    {
     "name": "stderr",
     "output_type": "stream",
     "text": [
      "Epoch 8: loss 0.271717 1.0000:  98%|█████████████████████████████████████████████████████████████████████████████████████████████████████████████████████████████████████████▌   | 198/203 [00:05<00:00, 40.99it/s]\n",
      "  0%|                                                                                                                                                                                       | 0/11 [00:00<?, ?it/s]\u001b[A\n",
      "Valid 8: loss 6.708019 0.1800:   0%|                                                                                                                                                        | 0/11 [00:00<?, ?it/s]\u001b[A\n",
      "Valid 8: loss 6.708019 0.1800:   9%|█████████████                                                                                                                                   | 1/11 [00:00<00:04,  2.24it/s]\u001b[A\n",
      "Valid 8: loss 7.721092 0.1400:   9%|█████████████                                                                                                                                   | 1/11 [00:00<00:04,  2.24it/s]\u001b[A\n",
      "Valid 8: loss 8.111247 0.1600:   9%|█████████████                                                                                                                                   | 1/11 [00:00<00:04,  2.24it/s]\u001b[A\n",
      "Valid 8: loss 7.822276 0.1800:   9%|█████████████                                                                                                                                   | 1/11 [00:00<00:04,  2.24it/s]\u001b[A\n",
      "Valid 8: loss 7.627194 0.1600:   9%|█████████████                                                                                                                                   | 1/11 [00:00<00:04,  2.24it/s]\u001b[A\n",
      "Valid 8: loss 7.599273 0.2000:   9%|█████████████                                                                                                                                   | 1/11 [00:00<00:04,  2.24it/s]\u001b[A\n",
      "Valid 8: loss 7.599273 0.2000:  55%|██████████████████████████████████████████████████████████████████████████████▌                                                                 | 6/11 [00:00<00:00, 13.64it/s]\u001b[A\n",
      "Valid 8: loss 7.345892 0.2000:  55%|██████████████████████████████████████████████████████████████████████████████▌                                                                 | 6/11 [00:00<00:00, 13.64it/s]\u001b[A\n",
      "Valid 8: loss 7.424823 0.1400:  55%|██████████████████████████████████████████████████████████████████████████████▌                                                                 | 6/11 [00:00<00:00, 13.64it/s]\u001b[A\n",
      "Valid 8: loss 7.528408 0.1800:  55%|██████████████████████████████████████████████████████████████████████████████▌                                                                 | 6/11 [00:00<00:00, 13.64it/s]\u001b[A\n",
      "Valid 8: loss 7.409231 0.2600:  55%|██████████████████████████████████████████████████████████████████████████████▌                                                                 | 6/11 [00:00<00:00, 13.64it/s]\u001b[A\n",
      "Valid 8: loss 7.342478 0.2857: 100%|███████████████████████████████████████████████████████████████████████████████████████████████████████████████████████████████████████████████| 11/11 [00:00<00:00, 16.12it/s]\u001b[A\n",
      "Epoch 8: loss 0.271717 1.0000: 100%|█████████████████████████████████████████████████████████████████████████████████████████████████████████████████████████████████████████████| 203/203 [00:06<00:00, 30.18it/s]\n"
     ]
    },
    {
     "name": "stdout",
     "output_type": "stream",
     "text": [
      "EarlyStopping counter: 3 out of 30\n"
     ]
    },
    {
     "name": "stderr",
     "output_type": "stream",
     "text": [
      "Epoch 9: loss 0.225008 0.9600:  99%|███████████████████████████████████████████████████████████████████████████████████████████████████████████████████████████████████████████▌ | 201/203 [00:06<00:00, 45.85it/s]\n",
      "  0%|                                                                                                                                                                                       | 0/11 [00:00<?, ?it/s]\u001b[A\n",
      "Valid 9: loss 5.707547 0.2000:   0%|                                                                                                                                                        | 0/11 [00:00<?, ?it/s]\u001b[A\n",
      "Valid 9: loss 5.707547 0.2000:   9%|█████████████                                                                                                                                   | 1/11 [00:00<00:04,  2.06it/s]\u001b[A\n",
      "Valid 9: loss 5.772989 0.2400:   9%|█████████████                                                                                                                                   | 1/11 [00:00<00:04,  2.06it/s]\u001b[A\n",
      "Valid 9: loss 6.210970 0.2800:   9%|█████████████                                                                                                                                   | 1/11 [00:00<00:04,  2.06it/s]\u001b[A\n",
      "Valid 9: loss 6.245305 0.1800:   9%|█████████████                                                                                                                                   | 1/11 [00:00<00:04,  2.06it/s]\u001b[A\n",
      "Valid 9: loss 6.412551 0.2000:   9%|█████████████                                                                                                                                   | 1/11 [00:00<00:04,  2.06it/s]\u001b[A\n",
      "Valid 9: loss 6.549455 0.2000:   9%|█████████████                                                                                                                                   | 1/11 [00:00<00:04,  2.06it/s]\u001b[A\n",
      "Valid 9: loss 6.531515 0.2600:   9%|█████████████                                                                                                                                   | 1/11 [00:00<00:04,  2.06it/s]\u001b[A\n",
      "Valid 9: loss 6.635640 0.2000:   9%|█████████████                                                                                                                                   | 1/11 [00:00<00:04,  2.06it/s]\u001b[A\n",
      "Valid 9: loss 6.703491 0.2000:   9%|█████████████                                                                                                                                   | 1/11 [00:00<00:04,  2.06it/s]\u001b[A\n",
      "Valid 9: loss 6.718631 0.2200:   9%|█████████████                                                                                                                                   | 1/11 [00:00<00:04,  2.06it/s]\u001b[A\n",
      "Valid 9: loss 6.718631 0.2200:  91%|██████████████████████████████████████████████████████████████████████████████████████████████████████████████████████████████████             | 10/11 [00:00<00:00, 21.87it/s]\u001b[A\n",
      "Valid 9: loss 6.904888 0.0000: 100%|███████████████████████████████████████████████████████████████████████████████████████████████████████████████████████████████████████████████| 11/11 [00:00<00:00, 16.65it/s]\u001b[A\n",
      "Epoch 9: loss 0.225008 0.9600: 100%|█████████████████████████████████████████████████████████████████████████████████████████████████████████████████████████████████████████████| 203/203 [00:06<00:00, 29.12it/s]\n"
     ]
    },
    {
     "name": "stdout",
     "output_type": "stream",
     "text": [
      "EarlyStopping counter: 4 out of 30\n"
     ]
    },
    {
     "name": "stderr",
     "output_type": "stream",
     "text": [
      "Epoch 10: loss 0.191599 0.9600:  98%|█████████████████████████████████████████████████████████████████████████████████████████████████████████████████████████████████████████▏  | 199/203 [00:06<00:00, 41.57it/s]\n",
      "  0%|                                                                                                                                                                                       | 0/11 [00:00<?, ?it/s]\u001b[A\n",
      "Valid 10: loss 7.526970 0.2600:   0%|                                                                                                                                                       | 0/11 [00:00<?, ?it/s]\u001b[A\n",
      "Valid 10: loss 7.526970 0.2600:   9%|█████████████                                                                                                                                  | 1/11 [00:00<00:04,  2.20it/s]\u001b[A\n",
      "Valid 10: loss 7.296878 0.1000:   9%|█████████████                                                                                                                                  | 1/11 [00:00<00:04,  2.20it/s]\u001b[A\n",
      "Valid 10: loss 7.202514 0.2400:   9%|█████████████                                                                                                                                  | 1/11 [00:00<00:04,  2.20it/s]\u001b[A\n",
      "Valid 10: loss 7.307791 0.1800:   9%|█████████████                                                                                                                                  | 1/11 [00:00<00:04,  2.20it/s]\u001b[A\n",
      "Valid 10: loss 7.395710 0.1800:   9%|█████████████                                                                                                                                  | 1/11 [00:00<00:04,  2.20it/s]\u001b[A\n",
      "Valid 10: loss 7.385545 0.2200:   9%|█████████████                                                                                                                                  | 1/11 [00:00<00:04,  2.20it/s]\u001b[A\n",
      "Valid 10: loss 7.334472 0.2200:   9%|█████████████                                                                                                                                  | 1/11 [00:00<00:04,  2.20it/s]\u001b[A\n",
      "Valid 10: loss 7.339240 0.2800:   9%|█████████████                                                                                                                                  | 1/11 [00:00<00:04,  2.20it/s]\u001b[A\n",
      "Valid 10: loss 7.258582 0.3200:   9%|█████████████                                                                                                                                  | 1/11 [00:00<00:04,  2.20it/s]\u001b[A\n",
      "Valid 10: loss 7.258582 0.3200:  82%|█████████████████████████████████████████████████████████████████████████████████████████████████████████████████████                          | 9/11 [00:00<00:00, 20.19it/s]\u001b[A\n",
      "Valid 10: loss 7.102182 0.3000:  82%|█████████████████████████████████████████████████████████████████████████████████████████████████████████████████████                          | 9/11 [00:00<00:00, 20.19it/s]\u001b[A\n",
      "Valid 10: loss 6.945360 0.2857: 100%|██████████████████████████████████████████████████████████████████████████████████████████████████████████████████████████████████████████████| 11/11 [00:00<00:00, 16.40it/s]\u001b[A\n",
      "Epoch 10: loss 0.191599 0.9600: 100%|████████████████████████████████████████████████████████████████████████████████████████████████████████████████████████████████████████████| 203/203 [00:06<00:00, 29.60it/s]\n"
     ]
    },
    {
     "name": "stdout",
     "output_type": "stream",
     "text": [
      "EarlyStopping counter: 5 out of 30\n"
     ]
    },
    {
     "name": "stderr",
     "output_type": "stream",
     "text": [
      "Epoch 11: loss 0.153659 0.9600:  97%|███████████████████████████████████████████████████████████████████████████████████████████████████████████████████████████████████████▏    | 196/203 [00:06<00:00, 43.66it/s]\n",
      "  0%|                                                                                                                                                                                       | 0/11 [00:00<?, ?it/s]\u001b[A\n",
      "Valid 11: loss 5.578413 0.3000:   0%|                                                                                                                                                       | 0/11 [00:00<?, ?it/s]\u001b[A\n",
      "Valid 11: loss 5.578413 0.3000:   9%|█████████████                                                                                                                                  | 1/11 [00:00<00:04,  2.32it/s]\u001b[A\n",
      "Valid 11: loss 6.202387 0.2200:   9%|█████████████                                                                                                                                  | 1/11 [00:00<00:04,  2.32it/s]\u001b[A\n",
      "Valid 11: loss 6.645709 0.1400:   9%|█████████████                                                                                                                                  | 1/11 [00:00<00:04,  2.32it/s]\u001b[A\n",
      "Valid 11: loss 6.535106 0.2600:   9%|█████████████                                                                                                                                  | 1/11 [00:00<00:04,  2.32it/s]\u001b[A\n",
      "Valid 11: loss 6.550876 0.2400:   9%|█████████████                                                                                                                                  | 1/11 [00:00<00:04,  2.32it/s]\u001b[A\n",
      "Valid 11: loss 6.563026 0.2200:   9%|█████████████                                                                                                                                  | 1/11 [00:00<00:04,  2.32it/s]\u001b[A\n",
      "Valid 11: loss 6.839178 0.1200:   9%|█████████████                                                                                                                                  | 1/11 [00:00<00:04,  2.32it/s]\u001b[A\n",
      "Valid 11: loss 6.871085 0.2000:   9%|█████████████                                                                                                                                  | 1/11 [00:00<00:04,  2.32it/s]\u001b[A\n",
      "Valid 11: loss 6.769942 0.2800:   9%|█████████████                                                                                                                                  | 1/11 [00:00<00:04,  2.32it/s]\u001b[A\n",
      "Valid 11: loss 6.788768 0.2400:   9%|█████████████                                                                                                                                  | 1/11 [00:00<00:04,  2.32it/s]\u001b[A\n",
      "Valid 11: loss 6.788768 0.2400:  91%|█████████████████████████████████████████████████████████████████████████████████████████████████████████████████████████████████             | 10/11 [00:00<00:00, 23.77it/s]\u001b[A\n",
      "Valid 11: loss 6.589291 0.5714: 100%|██████████████████████████████████████████████████████████████████████████████████████████████████████████████████████████████████████████████| 11/11 [00:00<00:00, 18.03it/s]\u001b[A\n",
      "Epoch 11: loss 0.153659 0.9600: 100%|████████████████████████████████████████████████████████████████████████████████████████████████████████████████████████████████████████████| 203/203 [00:06<00:00, 30.24it/s]\n",
      "Epoch 12: loss 0.133583 1.0000: 100%|███████████████████████████████████████████████████████████████████████████████████████████████████████████████████████████████████████████▎| 202/203 [00:05<00:00, 48.17it/s]\n",
      "  0%|                                                                                                                                                                                       | 0/11 [00:00<?, ?it/s]\u001b[A\n",
      "Valid 12: loss 8.253044 0.3000:   0%|                                                                                                                                                       | 0/11 [00:00<?, ?it/s]\u001b[A\n",
      "Valid 12: loss 8.253044 0.3000:   9%|█████████████                                                                                                                                  | 1/11 [00:00<00:04,  2.17it/s]\u001b[A\n",
      "Valid 12: loss 8.692120 0.1200:   9%|█████████████                                                                                                                                  | 1/11 [00:00<00:04,  2.17it/s]\u001b[A\n",
      "Valid 12: loss 8.930572 0.2000:   9%|█████████████                                                                                                                                  | 1/11 [00:00<00:04,  2.17it/s]\u001b[A\n",
      "Valid 12: loss 8.750699 0.2000:   9%|█████████████                                                                                                                                  | 1/11 [00:00<00:04,  2.17it/s]\u001b[A\n",
      "Valid 12: loss 8.494109 0.1800:   9%|█████████████                                                                                                                                  | 1/11 [00:00<00:04,  2.17it/s]\u001b[A\n",
      "Valid 12: loss 8.579909 0.1000:   9%|█████████████                                                                                                                                  | 1/11 [00:00<00:04,  2.17it/s]\u001b[A\n",
      "Valid 12: loss 8.368445 0.2200:   9%|█████████████                                                                                                                                  | 1/11 [00:00<00:04,  2.17it/s]\u001b[A\n",
      "Valid 12: loss 8.292827 0.2800:   9%|█████████████                                                                                                                                  | 1/11 [00:00<00:04,  2.17it/s]\u001b[A\n",
      "Valid 12: loss 8.283480 0.2400:   9%|█████████████                                                                                                                                  | 1/11 [00:00<00:04,  2.17it/s]\u001b[A\n",
      "Valid 12: loss 8.351281 0.2200:   9%|█████████████                                                                                                                                  | 1/11 [00:00<00:04,  2.17it/s]\u001b[A\n",
      "Valid 12: loss 8.351281 0.2200:  91%|█████████████████████████████████████████████████████████████████████████████████████████████████████████████████████████████████             | 10/11 [00:00<00:00, 22.91it/s]\u001b[A\n",
      "Valid 12: loss 8.263306 0.1429: 100%|██████████████████████████████████████████████████████████████████████████████████████████████████████████████████████████████████████████████| 11/11 [00:00<00:00, 17.45it/s]\u001b[A\n",
      "Epoch 12: loss 0.133583 1.0000: 100%|████████████████████████████████████████████████████████████████████████████████████████████████████████████████████████████████████████████| 203/203 [00:06<00:00, 30.78it/s]\n"
     ]
    },
    {
     "name": "stdout",
     "output_type": "stream",
     "text": [
      "EarlyStopping counter: 1 out of 30\n"
     ]
    },
    {
     "name": "stderr",
     "output_type": "stream",
     "text": [
      "Epoch 13: loss 0.116421 0.9600:  99%|█████████████████████████████████████████████████████████████████████████████████████████████████████████████████████████████████████████▉  | 200/203 [00:05<00:00, 45.80it/s]\n",
      "  0%|                                                                                                                                                                                       | 0/11 [00:00<?, ?it/s]\u001b[A\n",
      "Valid 13: loss 4.832968 0.3200:   0%|                                                                                                                                                       | 0/11 [00:00<?, ?it/s]\u001b[A\n",
      "Valid 13: loss 4.832968 0.3200:   9%|█████████████                                                                                                                                  | 1/11 [00:00<00:05,  1.98it/s]\u001b[A\n",
      "Valid 13: loss 5.195310 0.2600:   9%|█████████████                                                                                                                                  | 1/11 [00:00<00:05,  1.98it/s]\u001b[A\n",
      "Valid 13: loss 5.935890 0.2400:   9%|█████████████                                                                                                                                  | 1/11 [00:00<00:05,  1.98it/s]\u001b[A\n",
      "Valid 13: loss 6.221333 0.2400:   9%|█████████████                                                                                                                                  | 1/11 [00:00<00:05,  1.98it/s]\u001b[A\n",
      "Valid 13: loss 6.503250 0.2400:   9%|█████████████                                                                                                                                  | 1/11 [00:00<00:05,  1.98it/s]\u001b[A\n",
      "Valid 13: loss 6.253710 0.3200:   9%|█████████████                                                                                                                                  | 1/11 [00:00<00:05,  1.98it/s]\u001b[A\n",
      "Valid 13: loss 6.308295 0.2600:   9%|█████████████                                                                                                                                  | 1/11 [00:00<00:05,  1.98it/s]\u001b[A\n",
      "Valid 13: loss 6.363488 0.3000:   9%|█████████████                                                                                                                                  | 1/11 [00:00<00:05,  1.98it/s]\u001b[A\n",
      "Valid 13: loss 6.448316 0.2000:   9%|█████████████                                                                                                                                  | 1/11 [00:00<00:05,  1.98it/s]\u001b[A\n",
      "Valid 13: loss 6.584471 0.2200:   9%|█████████████                                                                                                                                  | 1/11 [00:00<00:05,  1.98it/s]\u001b[A\n",
      "Valid 13: loss 6.584471 0.2200:  91%|█████████████████████████████████████████████████████████████████████████████████████████████████████████████████████████████████             | 10/11 [00:00<00:00, 21.31it/s]\u001b[A\n",
      "Valid 13: loss 7.033144 0.1429: 100%|██████████████████████████████████████████████████████████████████████████████████████████████████████████████████████████████████████████████| 11/11 [00:00<00:00, 16.20it/s]\u001b[A\n",
      "Epoch 13: loss 0.116421 0.9600: 100%|████████████████████████████████████████████████████████████████████████████████████████████████████████████████████████████████████████████| 203/203 [00:06<00:00, 30.17it/s]\n"
     ]
    },
    {
     "name": "stdout",
     "output_type": "stream",
     "text": [
      "EarlyStopping counter: 2 out of 30\n"
     ]
    },
    {
     "name": "stderr",
     "output_type": "stream",
     "text": [
      "Epoch 14: loss 0.097187 1.0000:  99%|██████████████████████████████████████████████████████████████████████████████████████████████████████████████████████████████████████████▌ | 201/203 [00:06<00:00, 44.21it/s]\n",
      "  0%|                                                                                                                                                                                       | 0/11 [00:00<?, ?it/s]\u001b[A\n",
      "Valid 14: loss 7.041306 0.2800:   0%|                                                                                                                                                       | 0/11 [00:00<?, ?it/s]\u001b[A\n",
      "Valid 14: loss 7.041306 0.2800:   9%|█████████████                                                                                                                                  | 1/11 [00:00<00:04,  2.09it/s]\u001b[A\n",
      "Valid 14: loss 7.095711 0.2200:   9%|█████████████                                                                                                                                  | 1/11 [00:00<00:04,  2.09it/s]\u001b[A\n",
      "Valid 14: loss 6.192572 0.4400:   9%|█████████████                                                                                                                                  | 1/11 [00:00<00:04,  2.09it/s]\u001b[A\n",
      "Valid 14: loss 6.587122 0.2200:   9%|█████████████                                                                                                                                  | 1/11 [00:00<00:04,  2.09it/s]\u001b[A\n",
      "Valid 14: loss 6.631706 0.3000:   9%|█████████████                                                                                                                                  | 1/11 [00:00<00:04,  2.09it/s]\u001b[A\n",
      "Valid 14: loss 6.635643 0.2000:   9%|█████████████                                                                                                                                  | 1/11 [00:00<00:04,  2.09it/s]\u001b[A\n",
      "Valid 14: loss 6.683414 0.2400:   9%|█████████████                                                                                                                                  | 1/11 [00:00<00:04,  2.09it/s]\u001b[A\n",
      "Valid 14: loss 6.659693 0.2600:   9%|█████████████                                                                                                                                  | 1/11 [00:00<00:04,  2.09it/s]\u001b[A\n",
      "Valid 14: loss 6.701508 0.2800:   9%|█████████████                                                                                                                                  | 1/11 [00:00<00:04,  2.09it/s]\u001b[A\n",
      "Valid 14: loss 6.793528 0.2400:   9%|█████████████                                                                                                                                  | 1/11 [00:00<00:04,  2.09it/s]\u001b[A\n",
      "Valid 14: loss 6.678382 0.5714: 100%|██████████████████████████████████████████████████████████████████████████████████████████████████████████████████████████████████████████████| 11/11 [00:00<00:00, 17.46it/s]\u001b[A\n",
      "Epoch 14: loss 0.097187 1.0000: 100%|████████████████████████████████████████████████████████████████████████████████████████████████████████████████████████████████████████████| 203/203 [00:06<00:00, 29.60it/s]\n",
      "Epoch 15: loss 0.091909 0.9200: 100%|███████████████████████████████████████████████████████████████████████████████████████████████████████████████████████████████████████████▎| 202/203 [00:06<00:00, 41.06it/s]\n",
      "  0%|                                                                                                                                                                                       | 0/11 [00:00<?, ?it/s]\u001b[A\n",
      "Valid 15: loss 9.167651 0.1800:   0%|                                                                                                                                                       | 0/11 [00:00<?, ?it/s]\u001b[A\n",
      "Valid 15: loss 9.167651 0.1800:   9%|█████████████                                                                                                                                  | 1/11 [00:00<00:04,  2.40it/s]\u001b[A\n",
      "Valid 15: loss 7.897419 0.2600:   9%|█████████████                                                                                                                                  | 1/11 [00:00<00:04,  2.40it/s]\u001b[A\n",
      "Valid 15: loss 7.527760 0.3200:   9%|█████████████                                                                                                                                  | 1/11 [00:00<00:04,  2.40it/s]\u001b[A\n",
      "Valid 15: loss 7.902890 0.1800:   9%|█████████████                                                                                                                                  | 1/11 [00:00<00:04,  2.40it/s]\u001b[A\n",
      "Valid 15: loss 7.902890 0.1800:  36%|████████████████████████████████████████████████████                                                                                           | 4/11 [00:00<00:00,  9.16it/s]\u001b[A\n",
      "Valid 15: loss 7.989321 0.2000:  36%|████████████████████████████████████████████████████                                                                                           | 4/11 [00:00<00:00,  9.16it/s]\u001b[A\n",
      "Valid 15: loss 7.806283 0.3200:  36%|████████████████████████████████████████████████████                                                                                           | 4/11 [00:00<00:00,  9.16it/s]\u001b[A\n",
      "Valid 15: loss 8.215568 0.2000:  36%|████████████████████████████████████████████████████                                                                                           | 4/11 [00:00<00:00,  9.16it/s]\u001b[A\n",
      "Valid 15: loss 8.196515 0.2800:  36%|████████████████████████████████████████████████████                                                                                           | 4/11 [00:00<00:00,  9.16it/s]\u001b[A\n",
      "Valid 15: loss 7.875488 0.3800:  36%|████████████████████████████████████████████████████                                                                                           | 4/11 [00:00<00:00,  9.16it/s]\u001b[A\n",
      "Valid 15: loss 7.777015 0.3600:  36%|████████████████████████████████████████████████████                                                                                           | 4/11 [00:00<00:00,  9.16it/s]\u001b[A\n",
      "Valid 15: loss 7.777015 0.3600:  91%|█████████████████████████████████████████████████████████████████████████████████████████████████████████████████████████████████             | 10/11 [00:00<00:00, 21.88it/s]\u001b[A\n",
      "Valid 15: loss 8.140261 0.2857: 100%|██████████████████████████████████████████████████████████████████████████████████████████████████████████████████████████████████████████████| 11/11 [00:00<00:00, 14.63it/s]\u001b[A\n",
      "Epoch 15: loss 0.091909 0.9200: 100%|████████████████████████████████████████████████████████████████████████████████████████████████████████████████████████████████████████████| 203/203 [00:07<00:00, 28.32it/s]\n"
     ]
    },
    {
     "name": "stdout",
     "output_type": "stream",
     "text": [
      "EarlyStopping counter: 1 out of 30\n"
     ]
    },
    {
     "name": "stderr",
     "output_type": "stream",
     "text": [
      "Epoch 16: loss 0.087927 0.9200:  99%|█████████████████████████████████████████████████████████████████████████████████████████████████████████████████████████████████████████▉  | 200/203 [00:06<00:00, 45.54it/s]\n",
      "  0%|                                                                                                                                                                                       | 0/11 [00:00<?, ?it/s]\u001b[A\n",
      "Valid 16: loss 7.360542 0.2200:   0%|                                                                                                                                                       | 0/11 [00:00<?, ?it/s]\u001b[A\n",
      "Valid 16: loss 7.360542 0.2200:   9%|█████████████                                                                                                                                  | 1/11 [00:00<00:04,  2.09it/s]\u001b[A\n",
      "Valid 16: loss 7.218374 0.3200:   9%|█████████████                                                                                                                                  | 1/11 [00:00<00:04,  2.09it/s]\u001b[A\n",
      "Valid 16: loss 7.906799 0.1800:   9%|█████████████                                                                                                                                  | 1/11 [00:00<00:04,  2.09it/s]\u001b[A\n",
      "Valid 16: loss 7.923994 0.1800:   9%|█████████████                                                                                                                                  | 1/11 [00:00<00:04,  2.09it/s]\u001b[A\n",
      "Valid 16: loss 8.045291 0.3000:   9%|█████████████                                                                                                                                  | 1/11 [00:00<00:04,  2.09it/s]\u001b[A\n",
      "Valid 16: loss 7.931881 0.2600:   9%|█████████████                                                                                                                                  | 1/11 [00:00<00:04,  2.09it/s]\u001b[A\n",
      "Valid 16: loss 7.806028 0.2600:   9%|█████████████                                                                                                                                  | 1/11 [00:00<00:04,  2.09it/s]\u001b[A\n",
      "Valid 16: loss 7.641068 0.3600:   9%|█████████████                                                                                                                                  | 1/11 [00:00<00:04,  2.09it/s]\u001b[A\n",
      "Valid 16: loss 7.781365 0.2400:   9%|█████████████                                                                                                                                  | 1/11 [00:00<00:04,  2.09it/s]\u001b[A\n",
      "Valid 16: loss 7.715271 0.1200:   9%|█████████████                                                                                                                                  | 1/11 [00:00<00:04,  2.09it/s]\u001b[A\n",
      "Valid 16: loss 7.715271 0.1200:  91%|█████████████████████████████████████████████████████████████████████████████████████████████████████████████████████████████████             | 10/11 [00:00<00:00, 22.12it/s]\u001b[A\n",
      "Valid 16: loss 7.332435 0.2857: 100%|██████████████████████████████████████████████████████████████████████████████████████████████████████████████████████████████████████████████| 11/11 [00:00<00:00, 16.79it/s]\u001b[A\n",
      "Epoch 16: loss 0.087927 0.9200: 100%|████████████████████████████████████████████████████████████████████████████████████████████████████████████████████████████████████████████| 203/203 [00:06<00:00, 29.78it/s]\n"
     ]
    },
    {
     "name": "stdout",
     "output_type": "stream",
     "text": [
      "EarlyStopping counter: 2 out of 30\n"
     ]
    },
    {
     "name": "stderr",
     "output_type": "stream",
     "text": [
      "Epoch 17: loss 0.074988 1.0000: 100%|███████████████████████████████████████████████████████████████████████████████████████████████████████████████████████████████████████████▎| 202/203 [00:06<00:00, 45.34it/s]\n",
      "  0%|                                                                                                                                                                                       | 0/11 [00:00<?, ?it/s]\u001b[A\n",
      "Valid 17: loss 7.762092 0.3400:   0%|                                                                                                                                                       | 0/11 [00:00<?, ?it/s]\u001b[A\n",
      "Valid 17: loss 7.762092 0.3400:   9%|█████████████                                                                                                                                  | 1/11 [00:00<00:05,  1.96it/s]\u001b[A\n",
      "Valid 17: loss 7.530087 0.2600:   9%|█████████████                                                                                                                                  | 1/11 [00:00<00:05,  1.96it/s]\u001b[A\n",
      "Valid 17: loss 7.891390 0.1800:   9%|█████████████                                                                                                                                  | 1/11 [00:00<00:05,  1.96it/s]\u001b[A\n",
      "Valid 17: loss 7.922907 0.2400:   9%|█████████████                                                                                                                                  | 1/11 [00:00<00:05,  1.96it/s]\u001b[A\n",
      "Valid 17: loss 8.085611 0.2800:   9%|█████████████                                                                                                                                  | 1/11 [00:00<00:05,  1.96it/s]\u001b[A\n",
      "Valid 17: loss 8.019628 0.2400:   9%|█████████████                                                                                                                                  | 1/11 [00:00<00:05,  1.96it/s]\u001b[A\n",
      "Valid 17: loss 7.872478 0.2600:   9%|█████████████                                                                                                                                  | 1/11 [00:00<00:05,  1.96it/s]\u001b[A\n",
      "Valid 17: loss 7.886828 0.1600:   9%|█████████████                                                                                                                                  | 1/11 [00:00<00:05,  1.96it/s]\u001b[A\n",
      "Valid 17: loss 7.884110 0.2400:   9%|█████████████                                                                                                                                  | 1/11 [00:00<00:05,  1.96it/s]\u001b[A\n",
      "Valid 17: loss 7.884110 0.2400:  82%|█████████████████████████████████████████████████████████████████████████████████████████████████████████████████████                          | 9/11 [00:00<00:00, 18.87it/s]\u001b[A\n",
      "Valid 17: loss 7.707666 0.3200:  82%|█████████████████████████████████████████████████████████████████████████████████████████████████████████████████████                          | 9/11 [00:00<00:00, 18.87it/s]\u001b[A\n",
      "Valid 17: loss 7.506120 0.5714: 100%|██████████████████████████████████████████████████████████████████████████████████████████████████████████████████████████████████████████████| 11/11 [00:00<00:00, 15.69it/s]\u001b[A\n",
      "Epoch 17: loss 0.074988 1.0000: 100%|████████████████████████████████████████████████████████████████████████████████████████████████████████████████████████████████████████████| 203/203 [00:06<00:00, 29.85it/s]\n"
     ]
    },
    {
     "name": "stdout",
     "output_type": "stream",
     "text": [
      "EarlyStopping counter: 3 out of 30\n"
     ]
    },
    {
     "name": "stderr",
     "output_type": "stream",
     "text": [
      "Epoch 18: loss 0.080337 0.9600:  98%|████████████████████████████████████████████████████████████████████████████████████████████████████████████████████████████████████████▌   | 198/203 [00:06<00:00, 38.39it/s]\n",
      "  0%|                                                                                                                                                                                       | 0/11 [00:00<?, ?it/s]\u001b[A\n",
      "Valid 18: loss 9.154040 0.2200:   0%|                                                                                                                                                       | 0/11 [00:00<?, ?it/s]\u001b[A\n",
      "Valid 18: loss 9.154040 0.2200:   9%|█████████████                                                                                                                                  | 1/11 [00:00<00:03,  2.59it/s]\u001b[A\n",
      "Valid 18: loss 8.228914 0.3200:   9%|█████████████                                                                                                                                  | 1/11 [00:00<00:03,  2.59it/s]\u001b[A\n",
      "Valid 18: loss 8.228914 0.3200:  18%|██████████████████████████                                                                                                                     | 2/11 [00:00<00:01,  4.56it/s]\u001b[A\n",
      "Valid 18: loss 8.570820 0.2400:  18%|██████████████████████████                                                                                                                     | 2/11 [00:00<00:01,  4.56it/s]\u001b[A\n",
      "Valid 18: loss 8.531988 0.2200:  18%|██████████████████████████                                                                                                                     | 2/11 [00:00<00:01,  4.56it/s]\u001b[A\n",
      "Valid 18: loss 8.540433 0.2200:  18%|██████████████████████████                                                                                                                     | 2/11 [00:00<00:01,  4.56it/s]\u001b[A\n",
      "Valid 18: loss 8.598000 0.2400:  18%|██████████████████████████                                                                                                                     | 2/11 [00:00<00:01,  4.56it/s]\u001b[A\n",
      "Valid 18: loss 8.539198 0.2800:  18%|██████████████████████████                                                                                                                     | 2/11 [00:00<00:01,  4.56it/s]\u001b[A\n",
      "Valid 18: loss 8.440720 0.3000:  18%|██████████████████████████                                                                                                                     | 2/11 [00:00<00:01,  4.56it/s]\u001b[A\n",
      "Valid 18: loss 8.487962 0.3000:  18%|██████████████████████████                                                                                                                     | 2/11 [00:00<00:01,  4.56it/s]\u001b[A\n",
      "Valid 18: loss 8.583478 0.1800:  18%|██████████████████████████                                                                                                                     | 2/11 [00:00<00:01,  4.56it/s]\u001b[A\n",
      "Valid 18: loss 8.859150 0.1429: 100%|██████████████████████████████████████████████████████████████████████████████████████████████████████████████████████████████████████████████| 11/11 [00:00<00:00, 16.98it/s]\u001b[A\n",
      "Epoch 18: loss 0.080337 0.9600: 100%|████████████████████████████████████████████████████████████████████████████████████████████████████████████████████████████████████████████| 203/203 [00:06<00:00, 29.77it/s]\n"
     ]
    },
    {
     "name": "stdout",
     "output_type": "stream",
     "text": [
      "EarlyStopping counter: 4 out of 30\n"
     ]
    },
    {
     "name": "stderr",
     "output_type": "stream",
     "text": [
      "Epoch 19: loss 0.068755 1.0000: 100%|███████████████████████████████████████████████████████████████████████████████████████████████████████████████████████████████████████████▎| 202/203 [00:05<00:00, 44.61it/s]\n",
      "  0%|                                                                                                                                                                                       | 0/11 [00:00<?, ?it/s]\u001b[A\n",
      "Valid 19: loss 7.465190 0.2200:   0%|                                                                                                                                                       | 0/11 [00:00<?, ?it/s]\u001b[A\n",
      "Valid 19: loss 7.465190 0.2200:   9%|█████████████                                                                                                                                  | 1/11 [00:00<00:04,  2.49it/s]\u001b[A\n",
      "Valid 19: loss 8.811206 0.1600:   9%|█████████████                                                                                                                                  | 1/11 [00:00<00:04,  2.49it/s]\u001b[A\n",
      "Valid 19: loss 8.272889 0.2800:   9%|█████████████                                                                                                                                  | 1/11 [00:00<00:04,  2.49it/s]\u001b[A\n",
      "Valid 19: loss 8.540400 0.1400:   9%|█████████████                                                                                                                                  | 1/11 [00:00<00:04,  2.49it/s]\u001b[A\n",
      "Valid 19: loss 8.659383 0.2200:   9%|█████████████                                                                                                                                  | 1/11 [00:00<00:04,  2.49it/s]\u001b[A\n",
      "Valid 19: loss 8.659383 0.2200:  45%|█████████████████████████████████████████████████████████████████                                                                              | 5/11 [00:00<00:00, 12.29it/s]\u001b[A\n",
      "Valid 19: loss 8.480191 0.3000:  45%|█████████████████████████████████████████████████████████████████                                                                              | 5/11 [00:00<00:00, 12.29it/s]\u001b[A\n",
      "Valid 19: loss 8.515086 0.2000:  45%|█████████████████████████████████████████████████████████████████                                                                              | 5/11 [00:00<00:00, 12.29it/s]\u001b[A\n",
      "Valid 19: loss 8.660681 0.1600:  45%|█████████████████████████████████████████████████████████████████                                                                              | 5/11 [00:00<00:00, 12.29it/s]\u001b[A\n",
      "Valid 19: loss 8.620350 0.1800:  45%|█████████████████████████████████████████████████████████████████                                                                              | 5/11 [00:00<00:00, 12.29it/s]\u001b[A\n",
      "Valid 19: loss 8.470214 0.2800:  45%|█████████████████████████████████████████████████████████████████                                                                              | 5/11 [00:00<00:00, 12.29it/s]\u001b[A\n",
      "Valid 19: loss 8.376884 0.1429: 100%|██████████████████████████████████████████████████████████████████████████████████████████████████████████████████████████████████████████████| 11/11 [00:00<00:00, 17.69it/s]\u001b[A\n",
      "Epoch 19: loss 0.068755 1.0000: 100%|████████████████████████████████████████████████████████████████████████████████████████████████████████████████████████████████████████████| 203/203 [00:06<00:00, 30.77it/s]\n"
     ]
    },
    {
     "name": "stdout",
     "output_type": "stream",
     "text": [
      "EarlyStopping counter: 5 out of 30\n"
     ]
    },
    {
     "name": "stderr",
     "output_type": "stream",
     "text": [
      "Epoch 20: loss 0.064189 1.0000:  97%|███████████████████████████████████████████████████████████████████████████████████████████████████████████████████████████████████████▊    | 197/203 [00:05<00:00, 39.08it/s]\n",
      "  0%|                                                                                                                                                                                       | 0/11 [00:00<?, ?it/s]\u001b[A\n",
      "Valid 20: loss 8.030231 0.3000:   0%|                                                                                                                                                       | 0/11 [00:00<?, ?it/s]\u001b[A\n",
      "Valid 20: loss 8.030231 0.3000:   9%|█████████████                                                                                                                                  | 1/11 [00:00<00:04,  2.18it/s]\u001b[A\n",
      "Valid 20: loss 8.313595 0.2000:   9%|█████████████                                                                                                                                  | 1/11 [00:00<00:04,  2.18it/s]\u001b[A\n",
      "Valid 20: loss 8.473190 0.2600:   9%|█████████████                                                                                                                                  | 1/11 [00:00<00:04,  2.18it/s]\u001b[A\n",
      "Valid 20: loss 8.468524 0.2200:   9%|█████████████                                                                                                                                  | 1/11 [00:00<00:04,  2.18it/s]\u001b[A\n",
      "Valid 20: loss 8.553014 0.1800:   9%|█████████████                                                                                                                                  | 1/11 [00:00<00:04,  2.18it/s]\u001b[A\n",
      "Valid 20: loss 8.497777 0.2200:   9%|█████████████                                                                                                                                  | 1/11 [00:00<00:04,  2.18it/s]\u001b[A\n",
      "Valid 20: loss 8.445110 0.2200:   9%|█████████████                                                                                                                                  | 1/11 [00:00<00:04,  2.18it/s]\u001b[A\n",
      "Valid 20: loss 8.354369 0.2600:   9%|█████████████                                                                                                                                  | 1/11 [00:00<00:04,  2.18it/s]\u001b[A\n",
      "Valid 20: loss 8.204238 0.3200:   9%|█████████████                                                                                                                                  | 1/11 [00:00<00:04,  2.18it/s]\u001b[A\n",
      "Valid 20: loss 8.204238 0.3200:  82%|█████████████████████████████████████████████████████████████████████████████████████████████████████████████████████                          | 9/11 [00:00<00:00, 20.21it/s]\u001b[A\n",
      "Valid 20: loss 8.282010 0.1800:  82%|█████████████████████████████████████████████████████████████████████████████████████████████████████████████████████                          | 9/11 [00:00<00:00, 20.21it/s]\u001b[A\n",
      "Valid 20: loss 9.103994 0.0000: 100%|██████████████████████████████████████████████████████████████████████████████████████████████████████████████████████████████████████████████| 11/11 [00:00<00:00, 16.72it/s]\u001b[A\n",
      "Epoch 20: loss 0.064189 1.0000: 100%|████████████████████████████████████████████████████████████████████████████████████████████████████████████████████████████████████████████| 203/203 [00:06<00:00, 30.25it/s]\n"
     ]
    },
    {
     "name": "stdout",
     "output_type": "stream",
     "text": [
      "EarlyStopping counter: 6 out of 30\n"
     ]
    },
    {
     "name": "stderr",
     "output_type": "stream",
     "text": [
      "Epoch 21: loss 0.053925 0.9600:  98%|█████████████████████████████████████████████████████████████████████████████████████████████████████████████████████████████████████████▏  | 199/203 [00:05<00:00, 44.82it/s]\n",
      "  0%|                                                                                                                                                                                       | 0/11 [00:00<?, ?it/s]\u001b[A\n",
      "Valid 21: loss 7.287194 0.3000:   0%|                                                                                                                                                       | 0/11 [00:00<?, ?it/s]\u001b[A\n",
      "Valid 21: loss 7.287194 0.3000:   9%|█████████████                                                                                                                                  | 1/11 [00:00<00:04,  2.23it/s]\u001b[A\n",
      "Valid 21: loss 7.023315 0.2800:   9%|█████████████                                                                                                                                  | 1/11 [00:00<00:04,  2.23it/s]\u001b[A\n",
      "Valid 21: loss 6.926158 0.2600:   9%|█████████████                                                                                                                                  | 1/11 [00:00<00:04,  2.23it/s]\u001b[A\n",
      "Valid 21: loss 7.068288 0.2400:   9%|█████████████                                                                                                                                  | 1/11 [00:00<00:04,  2.23it/s]\u001b[A\n",
      "Valid 21: loss 7.257852 0.2600:   9%|█████████████                                                                                                                                  | 1/11 [00:00<00:04,  2.23it/s]\u001b[A\n",
      "Valid 21: loss 7.427467 0.2000:   9%|█████████████                                                                                                                                  | 1/11 [00:00<00:04,  2.23it/s]\u001b[A\n",
      "Valid 21: loss 7.581224 0.2400:   9%|█████████████                                                                                                                                  | 1/11 [00:00<00:04,  2.23it/s]\u001b[A\n",
      "Valid 21: loss 7.511119 0.2600:   9%|█████████████                                                                                                                                  | 1/11 [00:00<00:04,  2.23it/s]\u001b[A\n",
      "Valid 21: loss 7.557510 0.1800:   9%|█████████████                                                                                                                                  | 1/11 [00:00<00:04,  2.23it/s]\u001b[A\n",
      "Valid 21: loss 7.610037 0.2600:   9%|█████████████                                                                                                                                  | 1/11 [00:00<00:04,  2.23it/s]\u001b[A\n",
      "Valid 21: loss 7.610037 0.2600:  91%|█████████████████████████████████████████████████████████████████████████████████████████████████████████████████████████████████             | 10/11 [00:00<00:00, 22.97it/s]\u001b[A\n",
      "Valid 21: loss 7.512725 0.2857: 100%|██████████████████████████████████████████████████████████████████████████████████████████████████████████████████████████████████████████████| 11/11 [00:00<00:00, 17.53it/s]\u001b[A\n",
      "Epoch 21: loss 0.053925 0.9600: 100%|████████████████████████████████████████████████████████████████████████████████████████████████████████████████████████████████████████████| 203/203 [00:06<00:00, 30.54it/s]\n"
     ]
    },
    {
     "name": "stdout",
     "output_type": "stream",
     "text": [
      "EarlyStopping counter: 7 out of 30\n"
     ]
    },
    {
     "name": "stderr",
     "output_type": "stream",
     "text": [
      "Epoch 22: loss 0.038460 1.0000:   2%|███▍                                                                                                                                          | 5/203 [00:00<00:28,  6.95it/s]"
     ]
    },
    {
     "name": "stdout",
     "output_type": "stream",
     "text": [
      "Epoch    22: reducing learning rate of group 0 to 2.4000e-03.\n"
     ]
    },
    {
     "name": "stderr",
     "output_type": "stream",
     "text": [
      "Epoch 22: loss 0.034510 0.9600:  99%|██████████████████████████████████████████████████████████████████████████████████████████████████████████████████████████████████████████▌ | 201/203 [00:06<00:00, 43.35it/s]\n",
      "  0%|                                                                                                                                                                                       | 0/11 [00:00<?, ?it/s]\u001b[A\n",
      "Valid 22: loss 7.469400 0.1400:   0%|                                                                                                                                                       | 0/11 [00:00<?, ?it/s]\u001b[A\n",
      "Valid 22: loss 7.469400 0.1400:   9%|█████████████                                                                                                                                  | 1/11 [00:00<00:05,  1.92it/s]\u001b[A\n",
      "Valid 22: loss 7.252520 0.2600:   9%|█████████████                                                                                                                                  | 1/11 [00:00<00:05,  1.92it/s]\u001b[A\n",
      "Valid 22: loss 7.280066 0.3000:   9%|█████████████                                                                                                                                  | 1/11 [00:00<00:05,  1.92it/s]\u001b[A\n",
      "Valid 22: loss 7.152246 0.3000:   9%|█████████████                                                                                                                                  | 1/11 [00:00<00:05,  1.92it/s]\u001b[A\n",
      "Valid 22: loss 7.123663 0.4000:   9%|█████████████                                                                                                                                  | 1/11 [00:00<00:05,  1.92it/s]\u001b[A\n",
      "Valid 22: loss 7.242539 0.2800:   9%|█████████████                                                                                                                                  | 1/11 [00:00<00:05,  1.92it/s]\u001b[A\n",
      "Valid 22: loss 7.150174 0.3000:   9%|█████████████                                                                                                                                  | 1/11 [00:00<00:05,  1.92it/s]\u001b[A\n",
      "Valid 22: loss 7.410321 0.2400:   9%|█████████████                                                                                                                                  | 1/11 [00:00<00:05,  1.92it/s]\u001b[A\n",
      "Valid 22: loss 7.387289 0.1800:   9%|█████████████                                                                                                                                  | 1/11 [00:00<00:05,  1.92it/s]\u001b[A\n",
      "Valid 22: loss 7.387289 0.1800:  82%|█████████████████████████████████████████████████████████████████████████████████████████████████████████████████████                          | 9/11 [00:00<00:00, 17.74it/s]\u001b[A\n",
      "Valid 22: loss 7.296716 0.2200:  82%|█████████████████████████████████████████████████████████████████████████████████████████████████████████████████████                          | 9/11 [00:00<00:00, 17.74it/s]\u001b[A\n",
      "Valid 22: loss 7.143366 0.2857: 100%|██████████████████████████████████████████████████████████████████████████████████████████████████████████████████████████████████████████████| 11/11 [00:00<00:00, 15.29it/s]\u001b[A\n",
      "Epoch 22: loss 0.034510 0.9600: 100%|████████████████████████████████████████████████████████████████████████████████████████████████████████████████████████████████████████████| 203/203 [00:06<00:00, 29.04it/s]\n"
     ]
    },
    {
     "name": "stdout",
     "output_type": "stream",
     "text": [
      "EarlyStopping counter: 8 out of 30\n"
     ]
    },
    {
     "name": "stderr",
     "output_type": "stream",
     "text": [
      "Epoch 23: loss 0.028215 1.0000:  98%|████████████████████████████████████████████████████████████████████████████████████████████████████████████████████████████████████████▌   | 198/203 [00:05<00:00, 42.84it/s]\n",
      "  0%|                                                                                                                                                                                       | 0/11 [00:00<?, ?it/s]\u001b[A\n",
      "Valid 23: loss 7.866961 0.3200:   0%|                                                                                                                                                       | 0/11 [00:00<?, ?it/s]\u001b[A\n",
      "Valid 23: loss 7.866961 0.3200:   9%|█████████████                                                                                                                                  | 1/11 [00:00<00:04,  2.05it/s]\u001b[A\n",
      "Valid 23: loss 6.926516 0.3800:   9%|█████████████                                                                                                                                  | 1/11 [00:00<00:04,  2.05it/s]\u001b[A\n",
      "Valid 23: loss 7.800175 0.1600:   9%|█████████████                                                                                                                                  | 1/11 [00:00<00:04,  2.05it/s]\u001b[A\n",
      "Valid 23: loss 7.948362 0.2400:   9%|█████████████                                                                                                                                  | 1/11 [00:00<00:04,  2.05it/s]\u001b[A\n",
      "Valid 23: loss 7.865500 0.2400:   9%|█████████████                                                                                                                                  | 1/11 [00:00<00:04,  2.05it/s]\u001b[A\n",
      "Valid 23: loss 7.865500 0.2400:  45%|█████████████████████████████████████████████████████████████████                                                                              | 5/11 [00:00<00:00, 10.58it/s]\u001b[A\n",
      "Valid 23: loss 7.860812 0.3400:  45%|█████████████████████████████████████████████████████████████████                                                                              | 5/11 [00:00<00:00, 10.58it/s]\u001b[A\n",
      "Valid 23: loss 7.719386 0.3600:  45%|█████████████████████████████████████████████████████████████████                                                                              | 5/11 [00:00<00:00, 10.58it/s]\u001b[A\n",
      "Valid 23: loss 7.818396 0.3200:  45%|█████████████████████████████████████████████████████████████████                                                                              | 5/11 [00:00<00:00, 10.58it/s]\u001b[A\n",
      "Valid 23: loss 7.690767 0.3600:  45%|█████████████████████████████████████████████████████████████████                                                                              | 5/11 [00:00<00:00, 10.58it/s]\u001b[A\n",
      "Valid 23: loss 7.669531 0.2400:  45%|█████████████████████████████████████████████████████████████████                                                                              | 5/11 [00:00<00:00, 10.58it/s]\u001b[A\n",
      "Valid 23: loss 7.706484 0.1429: 100%|██████████████████████████████████████████████████████████████████████████████████████████████████████████████████████████████████████████████| 11/11 [00:00<00:00, 15.44it/s]\u001b[A\n",
      "Epoch 23: loss 0.028215 1.0000: 100%|████████████████████████████████████████████████████████████████████████████████████████████████████████████████████████████████████████████| 203/203 [00:06<00:00, 30.58it/s]\n"
     ]
    },
    {
     "name": "stdout",
     "output_type": "stream",
     "text": [
      "EarlyStopping counter: 9 out of 30\n"
     ]
    },
    {
     "name": "stderr",
     "output_type": "stream",
     "text": [
      "Epoch 24: loss 0.027731 1.0000:  99%|██████████████████████████████████████████████████████████████████████████████████████████████████████████████████████████████████████████▌ | 201/203 [00:05<00:00, 43.62it/s]\n",
      "  0%|                                                                                                                                                                                       | 0/11 [00:00<?, ?it/s]\u001b[A\n",
      "Valid 24: loss 9.507607 0.1800:   0%|                                                                                                                                                       | 0/11 [00:00<?, ?it/s]\u001b[A\n",
      "Valid 24: loss 9.507607 0.1800:   9%|█████████████                                                                                                                                  | 1/11 [00:00<00:04,  2.34it/s]\u001b[A\n",
      "Valid 24: loss 8.911242 0.2800:   9%|█████████████                                                                                                                                  | 1/11 [00:00<00:04,  2.34it/s]\u001b[A\n",
      "Valid 24: loss 8.296152 0.3200:   9%|█████████████                                                                                                                                  | 1/11 [00:00<00:04,  2.34it/s]\u001b[A\n",
      "Valid 24: loss 8.330337 0.3400:   9%|█████████████                                                                                                                                  | 1/11 [00:00<00:04,  2.34it/s]\u001b[A\n",
      "Valid 24: loss 8.389979 0.2400:   9%|█████████████                                                                                                                                  | 1/11 [00:00<00:04,  2.34it/s]\u001b[A\n",
      "Valid 24: loss 8.621911 0.2400:   9%|█████████████                                                                                                                                  | 1/11 [00:00<00:04,  2.34it/s]\u001b[A\n",
      "Valid 24: loss 8.601354 0.2600:   9%|█████████████                                                                                                                                  | 1/11 [00:00<00:04,  2.34it/s]\u001b[A\n",
      "Valid 24: loss 8.601354 0.2600:  64%|███████████████████████████████████████████████████████████████████████████████████████████                                                    | 7/11 [00:00<00:00, 16.58it/s]\u001b[A\n",
      "Valid 24: loss 8.462795 0.3600:  64%|███████████████████████████████████████████████████████████████████████████████████████████                                                    | 7/11 [00:00<00:00, 16.58it/s]\u001b[A\n",
      "Valid 24: loss 8.355582 0.3000:  64%|███████████████████████████████████████████████████████████████████████████████████████████                                                    | 7/11 [00:00<00:00, 16.58it/s]\u001b[A\n",
      "Valid 24: loss 8.361604 0.2400:  64%|███████████████████████████████████████████████████████████████████████████████████████████                                                    | 7/11 [00:00<00:00, 16.58it/s]\u001b[A\n",
      "Valid 24: loss 8.229185 0.4286: 100%|██████████████████████████████████████████████████████████████████████████████████████████████████████████████████████████████████████████████| 11/11 [00:00<00:00, 17.19it/s]\u001b[A\n",
      "Epoch 24: loss 0.027731 1.0000: 100%|████████████████████████████████████████████████████████████████████████████████████████████████████████████████████████████████████████████| 203/203 [00:06<00:00, 30.27it/s]\n"
     ]
    },
    {
     "name": "stdout",
     "output_type": "stream",
     "text": [
      "EarlyStopping counter: 10 out of 30\n"
     ]
    },
    {
     "name": "stderr",
     "output_type": "stream",
     "text": [
      "Epoch 25: loss 0.025128 1.0000:  97%|███████████████████████████████████████████████████████████████████████████████████████████████████████████████████████████████████████▏    | 196/203 [00:05<00:00, 40.41it/s]\n",
      "  0%|                                                                                                                                                                                       | 0/11 [00:00<?, ?it/s]\u001b[A\n",
      "Valid 25: loss 7.831780 0.2800:   0%|                                                                                                                                                       | 0/11 [00:00<?, ?it/s]\u001b[A\n",
      "Valid 25: loss 7.831780 0.2800:   9%|█████████████                                                                                                                                  | 1/11 [00:00<00:03,  2.53it/s]\u001b[A\n",
      "Valid 25: loss 8.076646 0.3000:   9%|█████████████                                                                                                                                  | 1/11 [00:00<00:03,  2.53it/s]\u001b[A\n",
      "Valid 25: loss 7.888678 0.3200:   9%|█████████████                                                                                                                                  | 1/11 [00:00<00:03,  2.53it/s]\u001b[A\n",
      "Valid 25: loss 8.569404 0.2000:   9%|█████████████                                                                                                                                  | 1/11 [00:00<00:03,  2.53it/s]\u001b[A\n",
      "Valid 25: loss 8.853239 0.1400:   9%|█████████████                                                                                                                                  | 1/11 [00:00<00:03,  2.53it/s]\u001b[A\n",
      "Valid 25: loss 8.947203 0.3400:   9%|█████████████                                                                                                                                  | 1/11 [00:00<00:03,  2.53it/s]\u001b[A\n",
      "Valid 25: loss 8.887406 0.3000:   9%|█████████████                                                                                                                                  | 1/11 [00:00<00:03,  2.53it/s]\u001b[A\n",
      "Valid 25: loss 8.719951 0.4000:   9%|█████████████                                                                                                                                  | 1/11 [00:00<00:03,  2.53it/s]\u001b[A\n",
      "Valid 25: loss 8.719951 0.4000:  73%|████████████████████████████████████████████████████████████████████████████████████████████████████████                                       | 8/11 [00:00<00:00, 20.03it/s]\u001b[A\n",
      "Valid 25: loss 8.741857 0.2400:  73%|████████████████████████████████████████████████████████████████████████████████████████████████████████                                       | 8/11 [00:00<00:00, 20.03it/s]\u001b[A\n",
      "Valid 25: loss 8.527888 0.3200:  73%|████████████████████████████████████████████████████████████████████████████████████████████████████████                                       | 8/11 [00:00<00:00, 20.03it/s]\u001b[A\n",
      "Valid 25: loss 8.842793 0.4286: 100%|██████████████████████████████████████████████████████████████████████████████████████████████████████████████████████████████████████████████| 11/11 [00:00<00:00, 18.43it/s]\u001b[A\n",
      "Epoch 25: loss 0.025128 1.0000: 100%|████████████████████████████████████████████████████████████████████████████████████████████████████████████████████████████████████████████| 203/203 [00:06<00:00, 31.68it/s]\n",
      "Epoch 26: loss 0.033056 1.0000:  99%|██████████████████████████████████████████████████████████████████████████████████████████████████████████████████████████████████████████▌ | 201/203 [00:05<00:00, 42.02it/s]\n",
      "  0%|                                                                                                                                                                                       | 0/11 [00:00<?, ?it/s]\u001b[A\n",
      "Valid 26: loss 9.918731 0.1800:   0%|                                                                                                                                                       | 0/11 [00:00<?, ?it/s]\u001b[A\n",
      "Valid 26: loss 9.918731 0.1800:   9%|█████████████                                                                                                                                  | 1/11 [00:00<00:04,  2.19it/s]\u001b[A\n",
      "Valid 26: loss 10.436491 0.2000:   9%|████████████▉                                                                                                                                 | 1/11 [00:00<00:04,  2.19it/s]\u001b[A\n",
      "Valid 26: loss 10.775384 0.1600:   9%|████████████▉                                                                                                                                 | 1/11 [00:00<00:04,  2.19it/s]\u001b[A\n",
      "Valid 26: loss 10.452983 0.2200:   9%|████████████▉                                                                                                                                 | 1/11 [00:00<00:04,  2.19it/s]\u001b[A\n",
      "Valid 26: loss 10.466165 0.2000:   9%|████████████▉                                                                                                                                 | 1/11 [00:00<00:04,  2.19it/s]\u001b[A\n",
      "Valid 26: loss 10.383528 0.2000:   9%|████████████▉                                                                                                                                 | 1/11 [00:00<00:04,  2.19it/s]\u001b[A\n",
      "Valid 26: loss 10.383528 0.2000:  55%|█████████████████████████████████████████████████████████████████████████████▍                                                                | 6/11 [00:00<00:00, 13.48it/s]\u001b[A\n",
      "Valid 26: loss 10.152996 0.3000:  55%|█████████████████████████████████████████████████████████████████████████████▍                                                                | 6/11 [00:00<00:00, 13.48it/s]\u001b[A\n",
      "Valid 26: loss 9.835969 0.3000:  55%|██████████████████████████████████████████████████████████████████████████████                                                                 | 6/11 [00:00<00:00, 13.48it/s]\u001b[A\n",
      "Valid 26: loss 9.673935 0.2600:  55%|██████████████████████████████████████████████████████████████████████████████                                                                 | 6/11 [00:00<00:00, 13.48it/s]\u001b[A\n",
      "Valid 26: loss 9.591052 0.1600:  55%|██████████████████████████████████████████████████████████████████████████████                                                                 | 6/11 [00:00<00:00, 13.48it/s]\u001b[A\n",
      "Valid 26: loss 9.124142 0.4286: 100%|██████████████████████████████████████████████████████████████████████████████████████████████████████████████████████████████████████████████| 11/11 [00:00<00:00, 16.08it/s]\u001b[A\n",
      "Epoch 26: loss 0.033056 1.0000: 100%|████████████████████████████████████████████████████████████████████████████████████████████████████████████████████████████████████████████| 203/203 [00:06<00:00, 30.27it/s]\n"
     ]
    },
    {
     "name": "stdout",
     "output_type": "stream",
     "text": [
      "EarlyStopping counter: 1 out of 30\n"
     ]
    },
    {
     "name": "stderr",
     "output_type": "stream",
     "text": [
      "Epoch 27: loss 0.021651 0.9600:  97%|███████████████████████████████████████████████████████████████████████████████████████████████████████████████████████████████████████▏    | 196/203 [00:05<00:00, 45.68it/s]\n",
      "  0%|                                                                                                                                                                                       | 0/11 [00:00<?, ?it/s]\u001b[A\n",
      "Valid 27: loss 9.074245 0.2200:   0%|                                                                                                                                                       | 0/11 [00:00<?, ?it/s]\u001b[A\n",
      "Valid 27: loss 9.074245 0.2200:   9%|█████████████                                                                                                                                  | 1/11 [00:00<00:05,  1.95it/s]\u001b[A\n",
      "Valid 27: loss 7.821946 0.3800:   9%|█████████████                                                                                                                                  | 1/11 [00:00<00:05,  1.95it/s]\u001b[A\n",
      "Valid 27: loss 8.198690 0.2000:   9%|█████████████                                                                                                                                  | 1/11 [00:00<00:05,  1.95it/s]\u001b[A\n",
      "Valid 27: loss 8.399937 0.2600:   9%|█████████████                                                                                                                                  | 1/11 [00:00<00:05,  1.95it/s]\u001b[A\n",
      "Valid 27: loss 8.398949 0.3200:   9%|█████████████                                                                                                                                  | 1/11 [00:00<00:05,  1.95it/s]\u001b[A\n",
      "Valid 27: loss 8.562420 0.2400:   9%|█████████████                                                                                                                                  | 1/11 [00:00<00:05,  1.95it/s]\u001b[A\n",
      "Valid 27: loss 8.614585 0.2400:   9%|█████████████                                                                                                                                  | 1/11 [00:00<00:05,  1.95it/s]\u001b[A\n",
      "Valid 27: loss 8.445077 0.2800:   9%|█████████████                                                                                                                                  | 1/11 [00:00<00:05,  1.95it/s]\u001b[A\n",
      "Valid 27: loss 8.415646 0.3000:   9%|█████████████                                                                                                                                  | 1/11 [00:00<00:05,  1.95it/s]\u001b[A\n",
      "Valid 27: loss 8.415646 0.3000:  82%|█████████████████████████████████████████████████████████████████████████████████████████████████████████████████████                          | 9/11 [00:00<00:00, 18.85it/s]\u001b[A\n",
      "Valid 27: loss 8.460187 0.2600:  82%|█████████████████████████████████████████████████████████████████████████████████████████████████████████████████████                          | 9/11 [00:00<00:00, 18.85it/s]\u001b[A\n",
      "Valid 27: loss 8.209182 0.7143: 100%|██████████████████████████████████████████████████████████████████████████████████████████████████████████████████████████████████████████████| 11/11 [00:00<00:00, 15.73it/s]\u001b[A\n",
      "Epoch 27: loss 0.021651 0.9600: 100%|████████████████████████████████████████████████████████████████████████████████████████████████████████████████████████████████████████████| 203/203 [00:06<00:00, 30.86it/s]\n",
      "Epoch 28: loss 0.028099 1.0000: 100%|███████████████████████████████████████████████████████████████████████████████████████████████████████████████████████████████████████████▎| 202/203 [00:06<00:00, 42.39it/s]\n",
      "  0%|                                                                                                                                                                                       | 0/11 [00:00<?, ?it/s]\u001b[A\n",
      "Valid 28: loss 9.140546 0.2000:   0%|                                                                                                                                                       | 0/11 [00:00<?, ?it/s]\u001b[A\n",
      "Valid 28: loss 9.140546 0.2000:   9%|█████████████                                                                                                                                  | 1/11 [00:00<00:05,  1.81it/s]\u001b[A\n",
      "Valid 28: loss 10.326370 0.2200:   9%|████████████▉                                                                                                                                 | 1/11 [00:00<00:05,  1.81it/s]\u001b[A\n",
      "Valid 28: loss 10.311827 0.1600:   9%|████████████▉                                                                                                                                 | 1/11 [00:00<00:05,  1.81it/s]\u001b[A\n",
      "Valid 28: loss 10.070762 0.3000:   9%|████████████▉                                                                                                                                 | 1/11 [00:00<00:05,  1.81it/s]\u001b[A\n",
      "Valid 28: loss 9.879942 0.2200:   9%|█████████████                                                                                                                                  | 1/11 [00:00<00:05,  1.81it/s]\u001b[A\n",
      "Valid 28: loss 10.120483 0.2200:   9%|████████████▉                                                                                                                                 | 1/11 [00:00<00:05,  1.81it/s]\u001b[A\n",
      "Valid 28: loss 10.115076 0.2200:   9%|████████████▉                                                                                                                                 | 1/11 [00:00<00:05,  1.81it/s]\u001b[A\n",
      "Valid 28: loss 10.085292 0.3000:   9%|████████████▉                                                                                                                                 | 1/11 [00:00<00:05,  1.81it/s]\u001b[A\n",
      "Valid 28: loss 10.245769 0.2000:   9%|████████████▉                                                                                                                                 | 1/11 [00:00<00:05,  1.81it/s]\u001b[A\n",
      "Valid 28: loss 10.449439 0.2200:   9%|████████████▉                                                                                                                                 | 1/11 [00:00<00:05,  1.81it/s]\u001b[A\n",
      "Valid 28: loss 10.579797 0.1429:   9%|████████████▉                                                                                                                                 | 1/11 [00:00<00:05,  1.81it/s]\u001b[A\n",
      "Valid 28: loss 10.579797 0.1429: 100%|█████████████████████████████████████████████████████████████████████████████████████████████████████████████████████████████████████████████| 11/11 [00:00<00:00, 15.05it/s]\u001b[A\n",
      "Epoch 28: loss 0.028099 1.0000: 100%|████████████████████████████████████████████████████████████████████████████████████████████████████████████████████████████████████████████| 203/203 [00:07<00:00, 28.85it/s]\n"
     ]
    },
    {
     "name": "stdout",
     "output_type": "stream",
     "text": [
      "EarlyStopping counter: 1 out of 30\n"
     ]
    },
    {
     "name": "stderr",
     "output_type": "stream",
     "text": [
      "Epoch 29: loss 0.019851 1.0000:  99%|█████████████████████████████████████████████████████████████████████████████████████████████████████████████████████████████████████████▉  | 200/203 [00:05<00:00, 43.92it/s]\n",
      "  0%|                                                                                                                                                                                       | 0/11 [00:00<?, ?it/s]\u001b[A\n",
      "Valid 29: loss 8.278983 0.2800:   0%|                                                                                                                                                       | 0/11 [00:00<?, ?it/s]\u001b[A\n",
      "Valid 29: loss 8.278983 0.2800:   9%|█████████████                                                                                                                                  | 1/11 [00:00<00:04,  2.08it/s]\u001b[A\n",
      "Valid 29: loss 7.899564 0.3200:   9%|█████████████                                                                                                                                  | 1/11 [00:00<00:04,  2.08it/s]\u001b[A\n",
      "Valid 29: loss 8.286323 0.3000:   9%|█████████████                                                                                                                                  | 1/11 [00:00<00:04,  2.08it/s]\u001b[A\n",
      "Valid 29: loss 8.161317 0.2600:   9%|█████████████                                                                                                                                  | 1/11 [00:00<00:04,  2.08it/s]\u001b[A\n",
      "Valid 29: loss 7.974159 0.2600:   9%|█████████████                                                                                                                                  | 1/11 [00:00<00:04,  2.08it/s]\u001b[A\n",
      "Valid 29: loss 8.207202 0.2400:   9%|█████████████                                                                                                                                  | 1/11 [00:00<00:04,  2.08it/s]\u001b[A\n",
      "Valid 29: loss 8.628116 0.1600:   9%|█████████████                                                                                                                                  | 1/11 [00:00<00:04,  2.08it/s]\u001b[A\n",
      "Valid 29: loss 8.723486 0.2400:   9%|█████████████                                                                                                                                  | 1/11 [00:00<00:04,  2.08it/s]\u001b[A\n",
      "Valid 29: loss 8.911309 0.2600:   9%|█████████████                                                                                                                                  | 1/11 [00:00<00:04,  2.08it/s]\u001b[A\n",
      "Valid 29: loss 8.911309 0.2600:  82%|█████████████████████████████████████████████████████████████████████████████████████████████████████████████████████                          | 9/11 [00:00<00:00, 19.86it/s]\u001b[A\n",
      "Valid 29: loss 8.815372 0.2600:  82%|█████████████████████████████████████████████████████████████████████████████████████████████████████████████████████                          | 9/11 [00:00<00:00, 19.86it/s]\u001b[A\n",
      "Valid 29: loss 8.519748 0.5714: 100%|██████████████████████████████████████████████████████████████████████████████████████████████████████████████████████████████████████████████| 11/11 [00:00<00:00, 16.51it/s]\u001b[A\n",
      "Epoch 29: loss 0.019851 1.0000: 100%|████████████████████████████████████████████████████████████████████████████████████████████████████████████████████████████████████████████| 203/203 [00:06<00:00, 30.26it/s]\n"
     ]
    },
    {
     "name": "stdout",
     "output_type": "stream",
     "text": [
      "EarlyStopping counter: 2 out of 30\n"
     ]
    },
    {
     "name": "stderr",
     "output_type": "stream",
     "text": [
      "Epoch 30: loss 0.017531 1.0000:  99%|█████████████████████████████████████████████████████████████████████████████████████████████████████████████████████████████████████████▉  | 200/203 [00:06<00:00, 38.81it/s]\n",
      "  0%|                                                                                                                                                                                       | 0/11 [00:00<?, ?it/s]\u001b[A\n",
      "Valid 30: loss 9.445530 0.1800:   0%|                                                                                                                                                       | 0/11 [00:00<?, ?it/s]\u001b[A\n",
      "Valid 30: loss 9.445530 0.1800:   9%|█████████████                                                                                                                                  | 1/11 [00:00<00:04,  2.12it/s]\u001b[A\n",
      "Valid 30: loss 9.411179 0.2000:   9%|█████████████                                                                                                                                  | 1/11 [00:00<00:04,  2.12it/s]\u001b[A\n",
      "Valid 30: loss 9.041288 0.2000:   9%|█████████████                                                                                                                                  | 1/11 [00:00<00:04,  2.12it/s]\u001b[A\n",
      "Valid 30: loss 8.910089 0.2200:   9%|█████████████                                                                                                                                  | 1/11 [00:00<00:04,  2.12it/s]\u001b[A\n",
      "Valid 30: loss 9.069825 0.2600:   9%|█████████████                                                                                                                                  | 1/11 [00:00<00:04,  2.12it/s]\u001b[A\n",
      "Valid 30: loss 8.944078 0.2400:   9%|█████████████                                                                                                                                  | 1/11 [00:00<00:04,  2.12it/s]\u001b[A\n",
      "Valid 30: loss 8.810993 0.2600:   9%|█████████████                                                                                                                                  | 1/11 [00:00<00:04,  2.12it/s]\u001b[A\n",
      "Valid 30: loss 8.902338 0.2000:   9%|█████████████                                                                                                                                  | 1/11 [00:00<00:04,  2.12it/s]\u001b[A\n",
      "Valid 30: loss 8.986694 0.1000:   9%|█████████████                                                                                                                                  | 1/11 [00:00<00:04,  2.12it/s]\u001b[A\n",
      "Valid 30: loss 8.964380 0.2400:   9%|█████████████                                                                                                                                  | 1/11 [00:00<00:04,  2.12it/s]\u001b[A\n",
      "Valid 30: loss 8.964380 0.2400:  91%|█████████████████████████████████████████████████████████████████████████████████████████████████████████████████████████████████             | 10/11 [00:00<00:00, 22.25it/s]\u001b[A\n",
      "Valid 30: loss 8.919865 0.1429: 100%|██████████████████████████████████████████████████████████████████████████████████████████████████████████████████████████████████████████████| 11/11 [00:00<00:00, 16.72it/s]\u001b[A\n",
      "Epoch 30: loss 0.017531 1.0000: 100%|████████████████████████████████████████████████████████████████████████████████████████████████████████████████████████████████████████████| 203/203 [00:07<00:00, 28.15it/s]\n"
     ]
    },
    {
     "name": "stdout",
     "output_type": "stream",
     "text": [
      "EarlyStopping counter: 3 out of 30\n"
     ]
    },
    {
     "name": "stderr",
     "output_type": "stream",
     "text": [
      "Epoch 31: loss 0.020341 0.9200:  97%|███████████████████████████████████████████████████████████████████████████████████████████████████████████████████████████████████████▏    | 196/203 [00:06<00:00, 38.90it/s]\n",
      "  0%|                                                                                                                                                                                       | 0/11 [00:00<?, ?it/s]\u001b[A\n",
      "Valid 31: loss 10.842673 0.2400:   0%|                                                                                                                                                      | 0/11 [00:00<?, ?it/s]\u001b[A\n",
      "Valid 31: loss 10.842673 0.2400:   9%|████████████▉                                                                                                                                 | 1/11 [00:00<00:03,  2.73it/s]\u001b[A\n",
      "Valid 31: loss 10.258749 0.2600:   9%|████████████▉                                                                                                                                 | 1/11 [00:00<00:03,  2.73it/s]\u001b[A\n",
      "Valid 31: loss 10.258749 0.2600:  18%|█████████████████████████▊                                                                                                                    | 2/11 [00:00<00:02,  4.40it/s]\u001b[A\n",
      "Valid 31: loss 9.572040 0.2400:  18%|██████████████████████████                                                                                                                     | 2/11 [00:00<00:02,  4.40it/s]\u001b[A\n",
      "Valid 31: loss 9.288677 0.3200:  18%|██████████████████████████                                                                                                                     | 2/11 [00:00<00:02,  4.40it/s]\u001b[A\n",
      "Valid 31: loss 8.910004 0.2800:  18%|██████████████████████████                                                                                                                     | 2/11 [00:00<00:02,  4.40it/s]\u001b[A\n",
      "Valid 31: loss 8.905079 0.2600:  18%|██████████████████████████                                                                                                                     | 2/11 [00:00<00:02,  4.40it/s]\u001b[A\n",
      "Valid 31: loss 8.463095 0.4600:  18%|██████████████████████████                                                                                                                     | 2/11 [00:00<00:02,  4.40it/s]\u001b[A\n",
      "Valid 31: loss 8.716837 0.1600:  18%|██████████████████████████                                                                                                                     | 2/11 [00:00<00:02,  4.40it/s]\u001b[A\n",
      "Valid 31: loss 8.890071 0.2000:  18%|██████████████████████████                                                                                                                     | 2/11 [00:00<00:02,  4.40it/s]\u001b[A\n",
      "Valid 31: loss 8.944897 0.1600:  18%|██████████████████████████                                                                                                                     | 2/11 [00:00<00:02,  4.40it/s]\u001b[A\n",
      "Valid 31: loss 8.456099 0.4286: 100%|██████████████████████████████████████████████████████████████████████████████████████████████████████████████████████████████████████████████| 11/11 [00:00<00:00, 16.58it/s]\u001b[A\n",
      "Epoch 31: loss 0.020341 0.9200: 100%|████████████████████████████████████████████████████████████████████████████████████████████████████████████████████████████████████████████| 203/203 [00:06<00:00, 29.53it/s]\n"
     ]
    },
    {
     "name": "stdout",
     "output_type": "stream",
     "text": [
      "EarlyStopping counter: 4 out of 30\n"
     ]
    },
    {
     "name": "stderr",
     "output_type": "stream",
     "text": [
      "Epoch 32: loss 0.031355 1.0000:   2%|██▊                                                                                                                                           | 4/203 [00:00<00:29,  6.76it/s]"
     ]
    },
    {
     "name": "stdout",
     "output_type": "stream",
     "text": [
      "Epoch    32: reducing learning rate of group 0 to 1.9200e-03.\n"
     ]
    },
    {
     "name": "stderr",
     "output_type": "stream",
     "text": [
      "Epoch 32: loss 0.011987 1.0000: 100%|███████████████████████████████████████████████████████████████████████████████████████████████████████████████████████████████████████████▎| 202/203 [00:06<00:00, 50.24it/s]\n",
      "  0%|                                                                                                                                                                                       | 0/11 [00:00<?, ?it/s]\u001b[A\n",
      "Valid 32: loss 8.069318 0.3000:   0%|                                                                                                                                                       | 0/11 [00:00<?, ?it/s]\u001b[A\n",
      "Valid 32: loss 8.069318 0.3000:   9%|█████████████                                                                                                                                  | 1/11 [00:00<00:04,  2.05it/s]\u001b[A\n",
      "Valid 32: loss 9.369466 0.2200:   9%|█████████████                                                                                                                                  | 1/11 [00:00<00:04,  2.05it/s]\u001b[A\n",
      "Valid 32: loss 8.899747 0.3400:   9%|█████████████                                                                                                                                  | 1/11 [00:00<00:04,  2.05it/s]\u001b[A\n",
      "Valid 32: loss 8.998143 0.3000:   9%|█████████████                                                                                                                                  | 1/11 [00:00<00:04,  2.05it/s]\u001b[A\n",
      "Valid 32: loss 8.875400 0.3600:   9%|█████████████                                                                                                                                  | 1/11 [00:00<00:04,  2.05it/s]\u001b[A\n",
      "Valid 32: loss 8.763419 0.3000:   9%|█████████████                                                                                                                                  | 1/11 [00:00<00:04,  2.05it/s]\u001b[A\n",
      "Valid 32: loss 8.479197 0.3600:   9%|█████████████                                                                                                                                  | 1/11 [00:00<00:04,  2.05it/s]\u001b[A\n",
      "Valid 32: loss 8.683477 0.2000:   9%|█████████████                                                                                                                                  | 1/11 [00:00<00:04,  2.05it/s]\u001b[A\n",
      "Valid 32: loss 8.607042 0.3200:   9%|█████████████                                                                                                                                  | 1/11 [00:00<00:04,  2.05it/s]\u001b[A\n",
      "Valid 32: loss 8.751940 0.2200:   9%|█████████████                                                                                                                                  | 1/11 [00:00<00:04,  2.05it/s]\u001b[A\n",
      "Valid 32: loss 8.751940 0.2200:  91%|█████████████████████████████████████████████████████████████████████████████████████████████████████████████████████████████████             | 10/11 [00:00<00:00, 21.49it/s]\u001b[A\n",
      "Valid 32: loss 8.096458 0.7143: 100%|██████████████████████████████████████████████████████████████████████████████████████████████████████████████████████████████████████████████| 11/11 [00:00<00:00, 16.29it/s]\u001b[A\n",
      "Epoch 32: loss 0.011987 1.0000: 100%|████████████████████████████████████████████████████████████████████████████████████████████████████████████████████████████████████████████| 203/203 [00:07<00:00, 28.67it/s]\n",
      "Epoch 33: loss 0.010754 1.0000: 100%|███████████████████████████████████████████████████████████████████████████████████████████████████████████████████████████████████████████▎| 202/203 [00:06<00:00, 40.85it/s]\n",
      "  0%|                                                                                                                                                                                       | 0/11 [00:00<?, ?it/s]\u001b[A\n",
      "Valid 33: loss 8.758289 0.2600:   0%|                                                                                                                                                       | 0/11 [00:00<?, ?it/s]\u001b[A\n",
      "Valid 33: loss 8.758289 0.2600:   9%|█████████████                                                                                                                                  | 1/11 [00:00<00:05,  1.87it/s]\u001b[A\n",
      "Valid 33: loss 8.191764 0.3800:   9%|█████████████                                                                                                                                  | 1/11 [00:00<00:05,  1.87it/s]\u001b[A\n",
      "Valid 33: loss 9.340706 0.2200:   9%|█████████████                                                                                                                                  | 1/11 [00:00<00:05,  1.87it/s]\u001b[A\n",
      "Valid 33: loss 9.189349 0.3600:   9%|█████████████                                                                                                                                  | 1/11 [00:00<00:05,  1.87it/s]\u001b[A\n",
      "Valid 33: loss 8.980176 0.1800:   9%|█████████████                                                                                                                                  | 1/11 [00:00<00:05,  1.87it/s]\u001b[A\n",
      "Valid 33: loss 8.758603 0.3000:   9%|█████████████                                                                                                                                  | 1/11 [00:00<00:05,  1.87it/s]\u001b[A\n",
      "Valid 33: loss 8.684627 0.3000:   9%|█████████████                                                                                                                                  | 1/11 [00:00<00:05,  1.87it/s]\u001b[A\n",
      "Valid 33: loss 8.684627 0.3000:  64%|███████████████████████████████████████████████████████████████████████████████████████████                                                    | 7/11 [00:00<00:00, 14.03it/s]\u001b[A\n",
      "Valid 33: loss 8.914967 0.3000:  64%|███████████████████████████████████████████████████████████████████████████████████████████                                                    | 7/11 [00:00<00:00, 14.03it/s]\u001b[A\n",
      "Valid 33: loss 8.887963 0.2400:  64%|███████████████████████████████████████████████████████████████████████████████████████████                                                    | 7/11 [00:00<00:00, 14.03it/s]\u001b[A\n",
      "Valid 33: loss 9.047164 0.2400:  64%|███████████████████████████████████████████████████████████████████████████████████████████                                                    | 7/11 [00:00<00:00, 14.03it/s]\u001b[A\n",
      "Valid 33: loss 8.743585 0.4286: 100%|██████████████████████████████████████████████████████████████████████████████████████████████████████████████████████████████████████████████| 11/11 [00:00<00:00, 14.69it/s]\u001b[A\n",
      "Epoch 33: loss 0.010754 1.0000: 100%|████████████████████████████████████████████████████████████████████████████████████████████████████████████████████████████████████████████| 203/203 [00:06<00:00, 29.03it/s]\n"
     ]
    },
    {
     "name": "stdout",
     "output_type": "stream",
     "text": [
      "EarlyStopping counter: 1 out of 30\n"
     ]
    },
    {
     "name": "stderr",
     "output_type": "stream",
     "text": [
      "Epoch 34: loss 0.011317 1.0000:  99%|██████████████████████████████████████████████████████████████████████████████████████████████████████████████████████████████████████████▌ | 201/203 [00:06<00:00, 35.31it/s]\n",
      "  0%|                                                                                                                                                                                       | 0/11 [00:00<?, ?it/s]\u001b[A\n",
      "Valid 34: loss 10.107697 0.2000:   0%|                                                                                                                                                      | 0/11 [00:00<?, ?it/s]\u001b[A\n",
      "Valid 34: loss 10.107697 0.2000:   9%|████████████▉                                                                                                                                 | 1/11 [00:00<00:04,  2.42it/s]\u001b[A\n",
      "Valid 34: loss 9.215488 0.3000:   9%|█████████████                                                                                                                                  | 1/11 [00:00<00:04,  2.42it/s]\u001b[A\n",
      "Valid 34: loss 8.989077 0.3000:   9%|█████████████                                                                                                                                  | 1/11 [00:00<00:04,  2.42it/s]\u001b[A\n",
      "Valid 34: loss 9.367893 0.2600:   9%|█████████████                                                                                                                                  | 1/11 [00:00<00:04,  2.42it/s]\u001b[A\n",
      "Valid 34: loss 9.011541 0.3200:   9%|█████████████                                                                                                                                  | 1/11 [00:00<00:04,  2.42it/s]\u001b[A\n",
      "Valid 34: loss 9.079514 0.2600:   9%|█████████████                                                                                                                                  | 1/11 [00:00<00:04,  2.42it/s]\u001b[A\n",
      "Valid 34: loss 8.829995 0.4000:   9%|█████████████                                                                                                                                  | 1/11 [00:00<00:04,  2.42it/s]\u001b[A\n",
      "Valid 34: loss 8.895343 0.2600:   9%|█████████████                                                                                                                                  | 1/11 [00:00<00:04,  2.42it/s]\u001b[A\n",
      "Valid 34: loss 8.895343 0.2600:  73%|████████████████████████████████████████████████████████████████████████████████████████████████████████                                       | 8/11 [00:00<00:00, 19.48it/s]\u001b[A\n",
      "Valid 34: loss 8.814282 0.2600:  73%|████████████████████████████████████████████████████████████████████████████████████████████████████████                                       | 8/11 [00:00<00:00, 19.48it/s]\u001b[A\n",
      "Valid 34: loss 8.802888 0.3200:  73%|████████████████████████████████████████████████████████████████████████████████████████████████████████                                       | 8/11 [00:00<00:00, 19.48it/s]\u001b[A\n",
      "Valid 34: loss 9.000871 0.0000: 100%|██████████████████████████████████████████████████████████████████████████████████████████████████████████████████████████████████████████████| 11/11 [00:00<00:00, 17.67it/s]\u001b[A\n",
      "Epoch 34: loss 0.011317 1.0000: 100%|████████████████████████████████████████████████████████████████████████████████████████████████████████████████████████████████████████████| 203/203 [00:06<00:00, 29.82it/s]\n"
     ]
    },
    {
     "name": "stdout",
     "output_type": "stream",
     "text": [
      "EarlyStopping counter: 2 out of 30\n"
     ]
    },
    {
     "name": "stderr",
     "output_type": "stream",
     "text": [
      "Epoch 35: loss 0.009216 1.0000:  97%|███████████████████████████████████████████████████████████████████████████████████████████████████████████████████████████████████████▏    | 196/203 [00:05<00:00, 42.27it/s]\n",
      "  0%|                                                                                                                                                                                       | 0/11 [00:00<?, ?it/s]\u001b[A\n",
      "Valid 35: loss 7.733403 0.3800:   0%|                                                                                                                                                       | 0/11 [00:00<?, ?it/s]\u001b[A\n",
      "Valid 35: loss 7.733403 0.3800:   9%|█████████████                                                                                                                                  | 1/11 [00:00<00:04,  2.01it/s]\u001b[A\n",
      "Valid 35: loss 8.948161 0.2800:   9%|█████████████                                                                                                                                  | 1/11 [00:00<00:04,  2.01it/s]\u001b[A\n",
      "Valid 35: loss 9.276935 0.2400:   9%|█████████████                                                                                                                                  | 1/11 [00:00<00:04,  2.01it/s]\u001b[A\n",
      "Valid 35: loss 9.288986 0.2400:   9%|█████████████                                                                                                                                  | 1/11 [00:00<00:04,  2.01it/s]\u001b[A\n",
      "Valid 35: loss 9.187368 0.3200:   9%|█████████████                                                                                                                                  | 1/11 [00:00<00:04,  2.01it/s]\u001b[A\n",
      "Valid 35: loss 9.135739 0.2000:   9%|█████████████                                                                                                                                  | 1/11 [00:00<00:04,  2.01it/s]\u001b[A\n",
      "Valid 35: loss 9.215810 0.2400:   9%|█████████████                                                                                                                                  | 1/11 [00:00<00:04,  2.01it/s]\u001b[A\n",
      "Valid 35: loss 9.061923 0.3000:   9%|█████████████                                                                                                                                  | 1/11 [00:00<00:04,  2.01it/s]\u001b[A\n",
      "Valid 35: loss 9.061923 0.3000:  73%|████████████████████████████████████████████████████████████████████████████████████████████████████████                                       | 8/11 [00:00<00:00, 16.67it/s]\u001b[A\n",
      "Valid 35: loss 9.343466 0.2200:  73%|████████████████████████████████████████████████████████████████████████████████████████████████████████                                       | 8/11 [00:00<00:00, 16.67it/s]\u001b[A\n",
      "Valid 35: loss 9.253967 0.3000:  73%|████████████████████████████████████████████████████████████████████████████████████████████████████████                                       | 8/11 [00:00<00:00, 16.67it/s]\u001b[A\n",
      "Valid 35: loss 9.034380 0.2857: 100%|██████████████████████████████████████████████████████████████████████████████████████████████████████████████████████████████████████████████| 11/11 [00:00<00:00, 15.62it/s]\u001b[A\n",
      "Epoch 35: loss 0.009216 1.0000: 100%|████████████████████████████████████████████████████████████████████████████████████████████████████████████████████████████████████████████| 203/203 [00:06<00:00, 30.97it/s]\n"
     ]
    },
    {
     "name": "stdout",
     "output_type": "stream",
     "text": [
      "EarlyStopping counter: 3 out of 30\n"
     ]
    },
    {
     "name": "stderr",
     "output_type": "stream",
     "text": [
      "Epoch 36: loss 0.008978 1.0000:  98%|████████████████████████████████████████████████████████████████████████████████████████████████████████████████████████████████████████▌   | 198/203 [00:05<00:00, 45.18it/s]\n",
      "  0%|                                                                                                                                                                                       | 0/11 [00:00<?, ?it/s]\u001b[A\n",
      "Valid 36: loss 9.066824 0.3000:   0%|                                                                                                                                                       | 0/11 [00:00<?, ?it/s]\u001b[A\n",
      "Valid 36: loss 9.066824 0.3000:   9%|█████████████                                                                                                                                  | 1/11 [00:00<00:05,  1.90it/s]\u001b[A\n",
      "Valid 36: loss 8.931165 0.2600:   9%|█████████████                                                                                                                                  | 1/11 [00:00<00:05,  1.90it/s]\u001b[A\n",
      "Valid 36: loss 8.882464 0.3200:   9%|█████████████                                                                                                                                  | 1/11 [00:00<00:05,  1.90it/s]\u001b[A\n",
      "Valid 36: loss 8.711475 0.3000:   9%|█████████████                                                                                                                                  | 1/11 [00:00<00:05,  1.90it/s]\u001b[A\n",
      "Valid 36: loss 8.825736 0.3200:   9%|█████████████                                                                                                                                  | 1/11 [00:00<00:05,  1.90it/s]\u001b[A\n",
      "Valid 36: loss 8.978029 0.2800:   9%|█████████████                                                                                                                                  | 1/11 [00:00<00:05,  1.90it/s]\u001b[A\n",
      "Valid 36: loss 9.006277 0.2800:   9%|█████████████                                                                                                                                  | 1/11 [00:00<00:05,  1.90it/s]\u001b[A\n",
      "Valid 36: loss 8.928545 0.3400:   9%|█████████████                                                                                                                                  | 1/11 [00:00<00:05,  1.90it/s]\u001b[A\n",
      "Valid 36: loss 9.269204 0.2800:   9%|█████████████                                                                                                                                  | 1/11 [00:00<00:05,  1.90it/s]\u001b[A\n",
      "Valid 36: loss 9.238187 0.2800:   9%|█████████████                                                                                                                                  | 1/11 [00:00<00:05,  1.90it/s]\u001b[A\n",
      "Valid 36: loss 9.484498 0.2857:   9%|█████████████                                                                                                                                  | 1/11 [00:00<00:05,  1.90it/s]\u001b[A\n",
      "Valid 36: loss 9.484498 0.2857: 100%|██████████████████████████████████████████████████████████████████████████████████████████████████████████████████████████████████████████████| 11/11 [00:00<00:00, 15.93it/s]\u001b[A\n",
      "Epoch 36: loss 0.008978 1.0000: 100%|████████████████████████████████████████████████████████████████████████████████████████████████████████████████████████████████████████████| 203/203 [00:06<00:00, 30.68it/s]\n"
     ]
    },
    {
     "name": "stdout",
     "output_type": "stream",
     "text": [
      "EarlyStopping counter: 4 out of 30\n"
     ]
    },
    {
     "name": "stderr",
     "output_type": "stream",
     "text": [
      "Epoch 37: loss 0.005689 1.0000: 100%|███████████████████████████████████████████████████████████████████████████████████████████████████████████████████████████████████████████▎| 202/203 [00:06<00:00, 45.09it/s]\n",
      "  0%|                                                                                                                                                                                       | 0/11 [00:00<?, ?it/s]\u001b[A\n",
      "Valid 37: loss 10.597699 0.2800:   0%|                                                                                                                                                      | 0/11 [00:00<?, ?it/s]\u001b[A\n",
      "Valid 37: loss 10.597699 0.2800:   9%|████████████▉                                                                                                                                 | 1/11 [00:00<00:05,  1.98it/s]\u001b[A\n",
      "Valid 37: loss 10.176058 0.3200:   9%|████████████▉                                                                                                                                 | 1/11 [00:00<00:05,  1.98it/s]\u001b[A\n",
      "Valid 37: loss 9.746207 0.3400:   9%|█████████████                                                                                                                                  | 1/11 [00:00<00:05,  1.98it/s]\u001b[A\n",
      "Valid 37: loss 10.001371 0.2400:   9%|████████████▉                                                                                                                                 | 1/11 [00:00<00:05,  1.98it/s]\u001b[A\n",
      "Valid 37: loss 10.073518 0.2600:   9%|████████████▉                                                                                                                                 | 1/11 [00:00<00:05,  1.98it/s]\u001b[A\n",
      "Valid 37: loss 9.904190 0.2800:   9%|█████████████                                                                                                                                  | 1/11 [00:00<00:05,  1.98it/s]\u001b[A\n",
      "Valid 37: loss 10.050281 0.2400:   9%|████████████▉                                                                                                                                 | 1/11 [00:00<00:05,  1.98it/s]\u001b[A\n",
      "Valid 37: loss 9.966315 0.2600:   9%|█████████████                                                                                                                                  | 1/11 [00:00<00:05,  1.98it/s]\u001b[A\n",
      "Valid 37: loss 10.116518 0.2000:   9%|████████████▉                                                                                                                                 | 1/11 [00:00<00:05,  1.98it/s]\u001b[A\n",
      "Valid 37: loss 10.179288 0.2600:   9%|████████████▉                                                                                                                                 | 1/11 [00:00<00:05,  1.98it/s]\u001b[A\n",
      "Valid 37: loss 10.040385 0.2857:   9%|████████████▉                                                                                                                                 | 1/11 [00:00<00:05,  1.98it/s]\u001b[A\n",
      "Valid 37: loss 10.040385 0.2857: 100%|█████████████████████████████████████████████████████████████████████████████████████████████████████████████████████████████████████████████| 11/11 [00:00<00:00, 16.65it/s]\u001b[A\n",
      "Epoch 37: loss 0.005689 1.0000: 100%|████████████████████████████████████████████████████████████████████████████████████████████████████████████████████████████████████████████| 203/203 [00:06<00:00, 29.78it/s]\n"
     ]
    },
    {
     "name": "stdout",
     "output_type": "stream",
     "text": [
      "EarlyStopping counter: 5 out of 30\n"
     ]
    },
    {
     "name": "stderr",
     "output_type": "stream",
     "text": [
      "Epoch 38: loss 0.008089 1.0000:  99%|██████████████████████████████████████████████████████████████████████████████████████████████████████████████████████████████████████████▌ | 201/203 [00:06<00:00, 44.39it/s]\n",
      "  0%|                                                                                                                                                                                       | 0/11 [00:00<?, ?it/s]\u001b[A\n",
      "Valid 38: loss 7.022816 0.3400:   0%|                                                                                                                                                       | 0/11 [00:00<?, ?it/s]\u001b[A\n",
      "Valid 38: loss 7.022816 0.3400:   9%|█████████████                                                                                                                                  | 1/11 [00:00<00:04,  2.37it/s]\u001b[A\n",
      "Valid 38: loss 7.525485 0.3200:   9%|█████████████                                                                                                                                  | 1/11 [00:00<00:04,  2.37it/s]\u001b[A\n",
      "Valid 38: loss 8.592072 0.2000:   9%|█████████████                                                                                                                                  | 1/11 [00:00<00:04,  2.37it/s]\u001b[A\n",
      "Valid 38: loss 8.841982 0.2800:   9%|█████████████                                                                                                                                  | 1/11 [00:00<00:04,  2.37it/s]\u001b[A\n",
      "Valid 38: loss 9.301232 0.2200:   9%|█████████████                                                                                                                                  | 1/11 [00:00<00:04,  2.37it/s]\u001b[A\n",
      "Valid 38: loss 9.035099 0.3000:   9%|█████████████                                                                                                                                  | 1/11 [00:00<00:04,  2.37it/s]\u001b[A\n",
      "Valid 38: loss 9.357460 0.2600:   9%|█████████████                                                                                                                                  | 1/11 [00:00<00:04,  2.37it/s]\u001b[A\n",
      "Valid 38: loss 9.236595 0.2400:   9%|█████████████                                                                                                                                  | 1/11 [00:00<00:04,  2.37it/s]\u001b[A\n",
      "Valid 38: loss 9.366269 0.2400:   9%|█████████████                                                                                                                                  | 1/11 [00:00<00:04,  2.37it/s]\u001b[A\n",
      "Valid 38: loss 9.366269 0.2400:  82%|█████████████████████████████████████████████████████████████████████████████████████████████████████████████████████                          | 9/11 [00:00<00:00, 21.92it/s]\u001b[A\n",
      "Valid 38: loss 9.312871 0.3000:  82%|█████████████████████████████████████████████████████████████████████████████████████████████████████████████████████                          | 9/11 [00:00<00:00, 21.92it/s]\u001b[A\n",
      "Valid 38: loss 9.145728 0.2857: 100%|██████████████████████████████████████████████████████████████████████████████████████████████████████████████████████████████████████████████| 11/11 [00:00<00:00, 18.19it/s]\u001b[A\n",
      "Epoch 38: loss 0.008089 1.0000: 100%|████████████████████████████████████████████████████████████████████████████████████████████████████████████████████████████████████████████| 203/203 [00:06<00:00, 29.06it/s]\n"
     ]
    },
    {
     "name": "stdout",
     "output_type": "stream",
     "text": [
      "EarlyStopping counter: 6 out of 30\n"
     ]
    },
    {
     "name": "stderr",
     "output_type": "stream",
     "text": [
      "Epoch 39: loss 0.007690 0.9600:  98%|█████████████████████████████████████████████████████████████████████████████████████████████████████████████████████████████████████████▏  | 199/203 [00:05<00:00, 48.69it/s]\n",
      "  0%|                                                                                                                                                                                       | 0/11 [00:00<?, ?it/s]\u001b[A\n",
      "Valid 39: loss 6.743726 0.3200:   0%|                                                                                                                                                       | 0/11 [00:00<?, ?it/s]\u001b[A\n",
      "Valid 39: loss 6.743726 0.3200:   9%|█████████████                                                                                                                                  | 1/11 [00:00<00:05,  1.89it/s]\u001b[A\n",
      "Valid 39: loss 8.302376 0.2600:   9%|█████████████                                                                                                                                  | 1/11 [00:00<00:05,  1.89it/s]\u001b[A\n",
      "Valid 39: loss 8.751811 0.3200:   9%|█████████████                                                                                                                                  | 1/11 [00:00<00:05,  1.89it/s]\u001b[A\n",
      "Valid 39: loss 9.023663 0.2600:   9%|█████████████                                                                                                                                  | 1/11 [00:00<00:05,  1.89it/s]\u001b[A\n",
      "Valid 39: loss 8.693633 0.2400:   9%|█████████████                                                                                                                                  | 1/11 [00:00<00:05,  1.89it/s]\u001b[A\n",
      "Valid 39: loss 8.658314 0.3800:   9%|█████████████                                                                                                                                  | 1/11 [00:00<00:05,  1.89it/s]\u001b[A\n",
      "Valid 39: loss 8.642675 0.2000:   9%|█████████████                                                                                                                                  | 1/11 [00:00<00:05,  1.89it/s]\u001b[A\n",
      "Valid 39: loss 8.741893 0.1800:   9%|█████████████                                                                                                                                  | 1/11 [00:00<00:05,  1.89it/s]\u001b[A\n",
      "Valid 39: loss 8.512895 0.2800:   9%|█████████████                                                                                                                                  | 1/11 [00:00<00:05,  1.89it/s]\u001b[A\n",
      "Valid 39: loss 8.619264 0.2600:   9%|█████████████                                                                                                                                  | 1/11 [00:00<00:05,  1.89it/s]\u001b[A\n",
      "Valid 39: loss 8.619264 0.2600:  91%|█████████████████████████████████████████████████████████████████████████████████████████████████████████████████████████████████             | 10/11 [00:00<00:00, 20.26it/s]\u001b[A\n",
      "Valid 39: loss 8.394955 0.2857: 100%|██████████████████████████████████████████████████████████████████████████████████████████████████████████████████████████████████████████████| 11/11 [00:00<00:00, 15.00it/s]\u001b[A\n",
      "Epoch 39: loss 0.007690 0.9600: 100%|████████████████████████████████████████████████████████████████████████████████████████████████████████████████████████████████████████████| 203/203 [00:06<00:00, 31.09it/s]\n"
     ]
    },
    {
     "name": "stdout",
     "output_type": "stream",
     "text": [
      "EarlyStopping counter: 7 out of 30\n"
     ]
    },
    {
     "name": "stderr",
     "output_type": "stream",
     "text": [
      "Epoch 40: loss 0.009201 0.9600:  98%|████████████████████████████████████████████████████████████████████████████████████████████████████████████████████████████████████████▌   | 198/203 [00:05<00:00, 41.95it/s]\n",
      "  0%|                                                                                                                                                                                       | 0/11 [00:00<?, ?it/s]\u001b[A\n",
      "Valid 40: loss 9.279113 0.3000:   0%|                                                                                                                                                       | 0/11 [00:00<?, ?it/s]\u001b[A\n",
      "Valid 40: loss 9.279113 0.3000:   9%|█████████████                                                                                                                                  | 1/11 [00:00<00:05,  1.86it/s]\u001b[A\n",
      "Valid 40: loss 8.682275 0.2400:   9%|█████████████                                                                                                                                  | 1/11 [00:00<00:05,  1.86it/s]\u001b[A\n",
      "Valid 40: loss 9.024165 0.1800:   9%|█████████████                                                                                                                                  | 1/11 [00:00<00:05,  1.86it/s]\u001b[A\n",
      "Valid 40: loss 9.154104 0.3200:   9%|█████████████                                                                                                                                  | 1/11 [00:00<00:05,  1.86it/s]\u001b[A\n",
      "Valid 40: loss 9.444689 0.2800:   9%|█████████████                                                                                                                                  | 1/11 [00:00<00:05,  1.86it/s]\u001b[A\n",
      "Valid 40: loss 9.359719 0.3200:   9%|█████████████                                                                                                                                  | 1/11 [00:00<00:05,  1.86it/s]\u001b[A\n",
      "Valid 40: loss 9.425938 0.2800:   9%|█████████████                                                                                                                                  | 1/11 [00:00<00:05,  1.86it/s]\u001b[A\n",
      "Valid 40: loss 9.626375 0.2200:   9%|█████████████                                                                                                                                  | 1/11 [00:00<00:05,  1.86it/s]\u001b[A\n",
      "Valid 40: loss 9.608256 0.2800:   9%|█████████████                                                                                                                                  | 1/11 [00:00<00:05,  1.86it/s]\u001b[A\n",
      "Valid 40: loss 9.846946 0.2000:   9%|█████████████                                                                                                                                  | 1/11 [00:00<00:05,  1.86it/s]\u001b[A\n",
      "Valid 40: loss 10.448929 0.0000: 100%|█████████████████████████████████████████████████████████████████████████████████████████████████████████████████████████████████████████████| 11/11 [00:00<00:00, 16.10it/s]\u001b[A\n",
      "Epoch 40: loss 0.009201 0.9600: 100%|████████████████████████████████████████████████████████████████████████████████████████████████████████████████████████████████████████████| 203/203 [00:06<00:00, 31.29it/s]\n"
     ]
    },
    {
     "name": "stdout",
     "output_type": "stream",
     "text": [
      "EarlyStopping counter: 8 out of 30\n"
     ]
    },
    {
     "name": "stderr",
     "output_type": "stream",
     "text": [
      "Epoch 41: loss 0.007198 0.9600:  99%|█████████████████████████████████████████████████████████████████████████████████████████████████████████████████████████████████████████▉  | 200/203 [00:05<00:00, 44.40it/s]\n",
      "  0%|                                                                                                                                                                                       | 0/11 [00:00<?, ?it/s]\u001b[A\n",
      "Valid 41: loss 8.483795 0.3800:   0%|                                                                                                                                                       | 0/11 [00:00<?, ?it/s]\u001b[A\n",
      "Valid 41: loss 8.483795 0.3800:   9%|█████████████                                                                                                                                  | 1/11 [00:00<00:05,  1.81it/s]\u001b[A\n",
      "Valid 41: loss 9.108930 0.2200:   9%|█████████████                                                                                                                                  | 1/11 [00:00<00:05,  1.81it/s]\u001b[A\n",
      "Valid 41: loss 9.117329 0.3400:   9%|█████████████                                                                                                                                  | 1/11 [00:00<00:05,  1.81it/s]\u001b[A\n",
      "Valid 41: loss 9.680603 0.1200:   9%|█████████████                                                                                                                                  | 1/11 [00:00<00:05,  1.81it/s]\u001b[A\n",
      "Valid 41: loss 9.227922 0.3000:   9%|█████████████                                                                                                                                  | 1/11 [00:00<00:05,  1.81it/s]\u001b[A\n",
      "Valid 41: loss 9.553615 0.2200:   9%|█████████████                                                                                                                                  | 1/11 [00:00<00:05,  1.81it/s]\u001b[A\n",
      "Valid 41: loss 9.741334 0.2600:   9%|█████████████                                                                                                                                  | 1/11 [00:00<00:05,  1.81it/s]\u001b[A\n",
      "Valid 41: loss 9.751884 0.3200:   9%|█████████████                                                                                                                                  | 1/11 [00:00<00:05,  1.81it/s]\u001b[A\n",
      "Valid 41: loss 9.651974 0.3400:   9%|█████████████                                                                                                                                  | 1/11 [00:00<00:05,  1.81it/s]\u001b[A\n",
      "Valid 41: loss 9.651974 0.3400:  82%|█████████████████████████████████████████████████████████████████████████████████████████████████████████████████████                          | 9/11 [00:00<00:00, 17.54it/s]\u001b[A\n",
      "Valid 41: loss 9.540688 0.3000:  82%|█████████████████████████████████████████████████████████████████████████████████████████████████████████████████████                          | 9/11 [00:00<00:00, 17.54it/s]\u001b[A\n",
      "Valid 41: loss 9.287326 0.2857: 100%|██████████████████████████████████████████████████████████████████████████████████████████████████████████████████████████████████████████████| 11/11 [00:00<00:00, 14.62it/s]\u001b[A\n",
      "Epoch 41: loss 0.007198 0.9600: 100%|████████████████████████████████████████████████████████████████████████████████████████████████████████████████████████████████████████████| 203/203 [00:06<00:00, 29.96it/s]\n"
     ]
    },
    {
     "name": "stdout",
     "output_type": "stream",
     "text": [
      "EarlyStopping counter: 9 out of 30\n"
     ]
    },
    {
     "name": "stderr",
     "output_type": "stream",
     "text": [
      "Epoch 42: loss 0.006633 0.9600:  97%|███████████████████████████████████████████████████████████████████████████████████████████████████████████████████████████████████████▊    | 197/203 [00:06<00:00, 39.76it/s]\n",
      "  0%|                                                                                                                                                                                       | 0/11 [00:00<?, ?it/s]\u001b[A\n",
      "Valid 42: loss 10.846136 0.2600:   0%|                                                                                                                                                      | 0/11 [00:00<?, ?it/s]\u001b[A\n",
      "Valid 42: loss 10.846136 0.2600:   9%|████████████▉                                                                                                                                 | 1/11 [00:00<00:05,  1.81it/s]\u001b[A\n",
      "Valid 42: loss 10.074316 0.3200:   9%|████████████▉                                                                                                                                 | 1/11 [00:00<00:05,  1.81it/s]\u001b[A\n",
      "Valid 42: loss 9.455222 0.3200:   9%|█████████████                                                                                                                                  | 1/11 [00:00<00:05,  1.81it/s]\u001b[A\n",
      "Valid 42: loss 8.942963 0.3400:   9%|█████████████                                                                                                                                  | 1/11 [00:00<00:05,  1.81it/s]\u001b[A\n",
      "Valid 42: loss 9.082338 0.3200:   9%|█████████████                                                                                                                                  | 1/11 [00:00<00:05,  1.81it/s]\u001b[A\n",
      "Valid 42: loss 9.211190 0.2600:   9%|█████████████                                                                                                                                  | 1/11 [00:00<00:05,  1.81it/s]\u001b[A\n",
      "Valid 42: loss 9.386041 0.2800:   9%|█████████████                                                                                                                                  | 1/11 [00:00<00:05,  1.81it/s]\u001b[A\n",
      "Valid 42: loss 9.405095 0.2200:   9%|█████████████                                                                                                                                  | 1/11 [00:00<00:05,  1.81it/s]\u001b[A\n",
      "Valid 42: loss 9.405095 0.2200:  73%|████████████████████████████████████████████████████████████████████████████████████████████████████████                                       | 8/11 [00:00<00:00, 15.57it/s]\u001b[A\n",
      "Valid 42: loss 9.276542 0.2800:  73%|████████████████████████████████████████████████████████████████████████████████████████████████████████                                       | 8/11 [00:00<00:00, 15.57it/s]\u001b[A\n",
      "Valid 42: loss 9.346789 0.2400:  73%|████████████████████████████████████████████████████████████████████████████████████████████████████████                                       | 8/11 [00:00<00:00, 15.57it/s]\u001b[A\n",
      "Valid 42: loss 9.521887 0.1429: 100%|██████████████████████████████████████████████████████████████████████████████████████████████████████████████████████████████████████████████| 11/11 [00:00<00:00, 14.04it/s]\u001b[A\n",
      "Epoch 42: loss 0.006633 0.9600: 100%|████████████████████████████████████████████████████████████████████████████████████████████████████████████████████████████████████████████| 203/203 [00:07<00:00, 28.76it/s]\n"
     ]
    },
    {
     "name": "stdout",
     "output_type": "stream",
     "text": [
      "EarlyStopping counter: 10 out of 30\n"
     ]
    },
    {
     "name": "stderr",
     "output_type": "stream",
     "text": [
      "Epoch 43: loss 0.003266 1.0000:   2%|███▍                                                                                                                                          | 5/203 [00:00<00:21,  9.35it/s]"
     ]
    },
    {
     "name": "stdout",
     "output_type": "stream",
     "text": [
      "Epoch    43: reducing learning rate of group 0 to 1.5360e-03.\n"
     ]
    },
    {
     "name": "stderr",
     "output_type": "stream",
     "text": [
      "Epoch 43: loss 0.005445 1.0000:  99%|██████████████████████████████████████████████████████████████████████████████████████████████████████████████████████████████████████████▌ | 201/203 [00:06<00:00, 45.36it/s]\n",
      "  0%|                                                                                                                                                                                       | 0/11 [00:00<?, ?it/s]\u001b[A\n",
      "Valid 43: loss 7.135736 0.3600:   0%|                                                                                                                                                       | 0/11 [00:00<?, ?it/s]\u001b[A\n",
      "Valid 43: loss 7.135736 0.3600:   9%|█████████████                                                                                                                                  | 1/11 [00:00<00:03,  3.10it/s]\u001b[A\n",
      "Valid 43: loss 8.965292 0.1800:   9%|█████████████                                                                                                                                  | 1/11 [00:00<00:03,  3.10it/s]\u001b[A\n",
      "Valid 43: loss 8.965292 0.1800:  18%|██████████████████████████                                                                                                                     | 2/11 [00:00<00:01,  4.54it/s]\u001b[A\n",
      "Valid 43: loss 9.323527 0.3000:  18%|██████████████████████████                                                                                                                     | 2/11 [00:00<00:01,  4.54it/s]\u001b[A\n",
      "Valid 43: loss 9.154369 0.3200:  18%|██████████████████████████                                                                                                                     | 2/11 [00:00<00:01,  4.54it/s]\u001b[A\n",
      "Valid 43: loss 8.939301 0.3600:  18%|██████████████████████████                                                                                                                     | 2/11 [00:00<00:01,  4.54it/s]\u001b[A\n",
      "Valid 43: loss 9.110345 0.2600:  18%|██████████████████████████                                                                                                                     | 2/11 [00:00<00:01,  4.54it/s]\u001b[A\n",
      "Valid 43: loss 9.090369 0.3800:  18%|██████████████████████████                                                                                                                     | 2/11 [00:00<00:01,  4.54it/s]\u001b[A\n",
      "Valid 43: loss 9.122297 0.3000:  18%|██████████████████████████                                                                                                                     | 2/11 [00:00<00:01,  4.54it/s]\u001b[A\n",
      "Valid 43: loss 8.995541 0.4200:  18%|██████████████████████████                                                                                                                     | 2/11 [00:00<00:01,  4.54it/s]\u001b[A\n",
      "Valid 43: loss 8.968383 0.2800:  18%|██████████████████████████                                                                                                                     | 2/11 [00:00<00:01,  4.54it/s]\u001b[A\n",
      "Valid 43: loss 9.354498 0.0000: 100%|██████████████████████████████████████████████████████████████████████████████████████████████████████████████████████████████████████████████| 11/11 [00:00<00:00, 17.71it/s]\u001b[A\n",
      "Epoch 43: loss 0.005445 1.0000: 100%|████████████████████████████████████████████████████████████████████████████████████████████████████████████████████████████████████████████| 203/203 [00:06<00:00, 29.68it/s]\n"
     ]
    },
    {
     "name": "stdout",
     "output_type": "stream",
     "text": [
      "EarlyStopping counter: 11 out of 30\n"
     ]
    },
    {
     "name": "stderr",
     "output_type": "stream",
     "text": [
      "Epoch 44: loss 0.003364 1.0000: 100%|███████████████████████████████████████████████████████████████████████████████████████████████████████████████████████████████████████████▎| 202/203 [00:05<00:00, 45.77it/s]\n",
      "  0%|                                                                                                                                                                                       | 0/11 [00:00<?, ?it/s]\u001b[A\n",
      "Valid 44: loss 8.131391 0.2600:   0%|                                                                                                                                                       | 0/11 [00:00<?, ?it/s]\u001b[A\n",
      "Valid 44: loss 8.131391 0.2600:   9%|█████████████                                                                                                                                  | 1/11 [00:00<00:04,  2.04it/s]\u001b[A\n",
      "Valid 44: loss 7.065613 0.4800:   9%|█████████████                                                                                                                                  | 1/11 [00:00<00:04,  2.04it/s]\u001b[A\n",
      "Valid 44: loss 7.834843 0.2600:   9%|█████████████                                                                                                                                  | 1/11 [00:00<00:04,  2.04it/s]\u001b[A\n",
      "Valid 44: loss 8.374835 0.3400:   9%|█████████████                                                                                                                                  | 1/11 [00:00<00:04,  2.04it/s]\u001b[A\n",
      "Valid 44: loss 8.479587 0.2600:   9%|█████████████                                                                                                                                  | 1/11 [00:00<00:04,  2.04it/s]\u001b[A\n",
      "Valid 44: loss 8.171749 0.3400:   9%|█████████████                                                                                                                                  | 1/11 [00:00<00:04,  2.04it/s]\u001b[A\n",
      "Valid 44: loss 8.478883 0.1800:   9%|█████████████                                                                                                                                  | 1/11 [00:00<00:04,  2.04it/s]\u001b[A\n",
      "Valid 44: loss 8.351549 0.3600:   9%|█████████████                                                                                                                                  | 1/11 [00:00<00:04,  2.04it/s]\u001b[A\n",
      "Valid 44: loss 8.365583 0.2600:   9%|█████████████                                                                                                                                  | 1/11 [00:00<00:04,  2.04it/s]\u001b[A\n",
      "Valid 44: loss 8.705166 0.2200:   9%|█████████████                                                                                                                                  | 1/11 [00:00<00:04,  2.04it/s]\u001b[A\n",
      "Valid 44: loss 8.705166 0.2200:  91%|█████████████████████████████████████████████████████████████████████████████████████████████████████████████████████████████████             | 10/11 [00:00<00:00, 21.61it/s]\u001b[A\n",
      "Valid 44: loss 8.404792 0.2857: 100%|██████████████████████████████████████████████████████████████████████████████████████████████████████████████████████████████████████████████| 11/11 [00:00<00:00, 16.55it/s]\u001b[A\n",
      "Epoch 44: loss 0.003364 1.0000: 100%|████████████████████████████████████████████████████████████████████████████████████████████████████████████████████████████████████████████| 203/203 [00:06<00:00, 30.15it/s]\n"
     ]
    },
    {
     "name": "stdout",
     "output_type": "stream",
     "text": [
      "EarlyStopping counter: 12 out of 30\n"
     ]
    },
    {
     "name": "stderr",
     "output_type": "stream",
     "text": [
      "Epoch 45: loss 0.003661 1.0000: 100%|███████████████████████████████████████████████████████████████████████████████████████████████████████████████████████████████████████████▎| 202/203 [00:06<00:00, 43.52it/s]\n",
      "  0%|                                                                                                                                                                                       | 0/11 [00:00<?, ?it/s]\u001b[A\n",
      "Valid 45: loss 10.994682 0.2400:   0%|                                                                                                                                                      | 0/11 [00:00<?, ?it/s]\u001b[A\n",
      "Valid 45: loss 10.994682 0.2400:   9%|████████████▉                                                                                                                                 | 1/11 [00:00<00:04,  2.10it/s]\u001b[A\n",
      "Valid 45: loss 10.548128 0.2400:   9%|████████████▉                                                                                                                                 | 1/11 [00:00<00:04,  2.10it/s]\u001b[A\n",
      "Valid 45: loss 10.311952 0.2600:   9%|████████████▉                                                                                                                                 | 1/11 [00:00<00:04,  2.10it/s]\u001b[A\n",
      "Valid 45: loss 10.199550 0.3000:   9%|████████████▉                                                                                                                                 | 1/11 [00:00<00:04,  2.10it/s]\u001b[A\n",
      "Valid 45: loss 10.215677 0.2800:   9%|████████████▉                                                                                                                                 | 1/11 [00:00<00:04,  2.10it/s]\u001b[A\n",
      "Valid 45: loss 10.038802 0.3200:   9%|████████████▉                                                                                                                                 | 1/11 [00:00<00:04,  2.10it/s]\u001b[A\n",
      "Valid 45: loss 9.646972 0.3600:   9%|█████████████                                                                                                                                  | 1/11 [00:00<00:04,  2.10it/s]\u001b[A\n",
      "Valid 45: loss 9.671268 0.2600:   9%|█████████████                                                                                                                                  | 1/11 [00:00<00:04,  2.10it/s]\u001b[A\n",
      "Valid 45: loss 9.752955 0.2800:   9%|█████████████                                                                                                                                  | 1/11 [00:00<00:04,  2.10it/s]\u001b[A\n",
      "Valid 45: loss 9.591854 0.3400:   9%|█████████████                                                                                                                                  | 1/11 [00:00<00:04,  2.10it/s]\u001b[A\n",
      "Valid 45: loss 9.591854 0.3400:  91%|█████████████████████████████████████████████████████████████████████████████████████████████████████████████████████████████████             | 10/11 [00:00<00:00, 22.06it/s]\u001b[A\n",
      "Valid 45: loss 9.086895 0.4286: 100%|██████████████████████████████████████████████████████████████████████████████████████████████████████████████████████████████████████████████| 11/11 [00:00<00:00, 16.73it/s]\u001b[A\n",
      "Epoch 45: loss 0.003661 1.0000: 100%|████████████████████████████████████████████████████████████████████████████████████████████████████████████████████████████████████████████| 203/203 [00:07<00:00, 28.92it/s]\n"
     ]
    },
    {
     "name": "stdout",
     "output_type": "stream",
     "text": [
      "EarlyStopping counter: 13 out of 30\n"
     ]
    },
    {
     "name": "stderr",
     "output_type": "stream",
     "text": [
      "Epoch 46: loss 0.005199 1.0000:  97%|███████████████████████████████████████████████████████████████████████████████████████████████████████████████████████████████████████▏    | 196/203 [00:05<00:00, 40.93it/s]\n",
      "  0%|                                                                                                                                                                                       | 0/11 [00:00<?, ?it/s]\u001b[A\n",
      "Valid 46: loss 9.462910 0.3800:   0%|                                                                                                                                                       | 0/11 [00:00<?, ?it/s]\u001b[A\n",
      "Valid 46: loss 9.462910 0.3800:   9%|█████████████                                                                                                                                  | 1/11 [00:00<00:05,  1.88it/s]\u001b[A\n",
      "Valid 46: loss 10.347052 0.2600:   9%|████████████▉                                                                                                                                 | 1/11 [00:00<00:05,  1.88it/s]\u001b[A\n",
      "Valid 46: loss 10.332555 0.2600:   9%|████████████▉                                                                                                                                 | 1/11 [00:00<00:05,  1.88it/s]\u001b[A\n",
      "Valid 46: loss 10.193055 0.2800:   9%|████████████▉                                                                                                                                 | 1/11 [00:00<00:05,  1.88it/s]\u001b[A\n",
      "Valid 46: loss 10.110735 0.3000:   9%|████████████▉                                                                                                                                 | 1/11 [00:00<00:05,  1.88it/s]\u001b[A\n",
      "Valid 46: loss 10.110566 0.2800:   9%|████████████▉                                                                                                                                 | 1/11 [00:00<00:05,  1.88it/s]\u001b[A\n",
      "Valid 46: loss 9.819303 0.2800:   9%|█████████████                                                                                                                                  | 1/11 [00:00<00:05,  1.88it/s]\u001b[A\n",
      "Valid 46: loss 9.949822 0.1400:   9%|█████████████                                                                                                                                  | 1/11 [00:00<00:05,  1.88it/s]\u001b[A\n",
      "Valid 46: loss 9.810976 0.3200:   9%|█████████████                                                                                                                                  | 1/11 [00:00<00:05,  1.88it/s]\u001b[A\n",
      "Valid 46: loss 9.753438 0.2800:   9%|█████████████                                                                                                                                  | 1/11 [00:00<00:05,  1.88it/s]\u001b[A\n",
      "Valid 46: loss 9.437162 0.2857:   9%|█████████████                                                                                                                                  | 1/11 [00:00<00:05,  1.88it/s]\u001b[A\n",
      "Valid 46: loss 9.437162 0.2857: 100%|██████████████████████████████████████████████████████████████████████████████████████████████████████████████████████████████████████████████| 11/11 [00:00<00:00, 15.77it/s]\u001b[A\n",
      "Epoch 46: loss 0.005199 1.0000: 100%|████████████████████████████████████████████████████████████████████████████████████████████████████████████████████████████████████████████| 203/203 [00:06<00:00, 30.20it/s]\n"
     ]
    },
    {
     "name": "stdout",
     "output_type": "stream",
     "text": [
      "EarlyStopping counter: 14 out of 30\n"
     ]
    },
    {
     "name": "stderr",
     "output_type": "stream",
     "text": [
      "Epoch 47: loss 0.002353 1.0000:   2%|██▊                                                                                                                                           | 4/203 [00:00<00:27,  7.30it/s]"
     ]
    },
    {
     "name": "stdout",
     "output_type": "stream",
     "text": [
      "Epoch    47: reducing learning rate of group 0 to 1.2288e-03.\n"
     ]
    },
    {
     "name": "stderr",
     "output_type": "stream",
     "text": [
      "Epoch 47: loss 0.001810 1.0000: 100%|███████████████████████████████████████████████████████████████████████████████████████████████████████████████████████████████████████████▎| 202/203 [00:05<00:00, 44.74it/s]\n",
      "  0%|                                                                                                                                                                                       | 0/11 [00:00<?, ?it/s]\u001b[A\n",
      "Valid 47: loss 10.193273 0.2200:   0%|                                                                                                                                                      | 0/11 [00:00<?, ?it/s]\u001b[A\n",
      "Valid 47: loss 10.193273 0.2200:   9%|████████████▉                                                                                                                                 | 1/11 [00:00<00:04,  2.12it/s]\u001b[A\n",
      "Valid 47: loss 9.667283 0.2800:   9%|█████████████                                                                                                                                  | 1/11 [00:00<00:04,  2.12it/s]\u001b[A\n",
      "Valid 47: loss 9.364749 0.2800:   9%|█████████████                                                                                                                                  | 1/11 [00:00<00:04,  2.12it/s]\u001b[A\n",
      "Valid 47: loss 9.147388 0.2800:   9%|█████████████                                                                                                                                  | 1/11 [00:00<00:04,  2.12it/s]\u001b[A\n",
      "Valid 47: loss 9.440514 0.2400:   9%|█████████████                                                                                                                                  | 1/11 [00:00<00:04,  2.12it/s]\u001b[A\n",
      "Valid 47: loss 9.413479 0.2600:   9%|█████████████                                                                                                                                  | 1/11 [00:00<00:04,  2.12it/s]\u001b[A\n",
      "Valid 47: loss 9.503470 0.3400:   9%|█████████████                                                                                                                                  | 1/11 [00:00<00:04,  2.12it/s]\u001b[A\n",
      "Valid 47: loss 9.663221 0.2200:   9%|█████████████                                                                                                                                  | 1/11 [00:00<00:04,  2.12it/s]\u001b[A\n",
      "Valid 47: loss 9.570363 0.2600:   9%|█████████████                                                                                                                                  | 1/11 [00:00<00:04,  2.12it/s]\u001b[A\n",
      "Valid 47: loss 9.348195 0.4400:   9%|█████████████                                                                                                                                  | 1/11 [00:00<00:04,  2.12it/s]\u001b[A\n",
      "Valid 47: loss 9.346590 0.1429:   9%|█████████████                                                                                                                                  | 1/11 [00:00<00:04,  2.12it/s]\u001b[A\n",
      "Valid 47: loss 9.346590 0.1429: 100%|██████████████████████████████████████████████████████████████████████████████████████████████████████████████████████████████████████████████| 11/11 [00:00<00:00, 17.09it/s]\u001b[A\n",
      "Epoch 47: loss 0.001810 1.0000: 100%|████████████████████████████████████████████████████████████████████████████████████████████████████████████████████████████████████████████| 203/203 [00:06<00:00, 30.72it/s]\n"
     ]
    },
    {
     "name": "stdout",
     "output_type": "stream",
     "text": [
      "EarlyStopping counter: 15 out of 30\n"
     ]
    },
    {
     "name": "stderr",
     "output_type": "stream",
     "text": [
      "Epoch 48: loss 0.001775 1.0000:  99%|██████████████████████████████████████████████████████████████████████████████████████████████████████████████████████████████████████████▌ | 201/203 [00:05<00:00, 45.73it/s]\n",
      "  0%|                                                                                                                                                                                       | 0/11 [00:00<?, ?it/s]\u001b[A\n",
      "Valid 48: loss 10.126045 0.2400:   0%|                                                                                                                                                      | 0/11 [00:00<?, ?it/s]\u001b[A\n",
      "Valid 48: loss 10.126045 0.2400:   9%|████████████▉                                                                                                                                 | 1/11 [00:00<00:05,  1.82it/s]\u001b[A\n",
      "Valid 48: loss 8.609648 0.3200:   9%|█████████████                                                                                                                                  | 1/11 [00:00<00:05,  1.82it/s]\u001b[A\n",
      "Valid 48: loss 8.383773 0.3400:   9%|█████████████                                                                                                                                  | 1/11 [00:00<00:05,  1.82it/s]\u001b[A\n",
      "Valid 48: loss 8.641109 0.3600:   9%|█████████████                                                                                                                                  | 1/11 [00:00<00:05,  1.82it/s]\u001b[A\n",
      "Valid 48: loss 9.281363 0.2200:   9%|█████████████                                                                                                                                  | 1/11 [00:00<00:05,  1.82it/s]\u001b[A\n",
      "Valid 48: loss 9.256092 0.3400:   9%|█████████████                                                                                                                                  | 1/11 [00:00<00:05,  1.82it/s]\u001b[A\n",
      "Valid 48: loss 9.514668 0.3000:   9%|█████████████                                                                                                                                  | 1/11 [00:00<00:05,  1.82it/s]\u001b[A\n",
      "Valid 48: loss 9.483065 0.2800:   9%|█████████████                                                                                                                                  | 1/11 [00:00<00:05,  1.82it/s]\u001b[A\n",
      "Valid 48: loss 9.455808 0.2400:   9%|█████████████                                                                                                                                  | 1/11 [00:00<00:05,  1.82it/s]\u001b[A\n",
      "Valid 48: loss 9.684498 0.1800:   9%|█████████████                                                                                                                                  | 1/11 [00:00<00:05,  1.82it/s]\u001b[A\n",
      "Valid 48: loss 9.684498 0.1800:  91%|█████████████████████████████████████████████████████████████████████████████████████████████████████████████████████████████████             | 10/11 [00:00<00:00, 19.89it/s]\u001b[A\n",
      "Valid 48: loss 9.525852 0.5714: 100%|██████████████████████████████████████████████████████████████████████████████████████████████████████████████████████████████████████████████| 11/11 [00:00<00:00, 15.29it/s]\u001b[A\n",
      "Epoch 48: loss 0.001775 1.0000: 100%|████████████████████████████████████████████████████████████████████████████████████████████████████████████████████████████████████████████| 203/203 [00:06<00:00, 30.09it/s]\n"
     ]
    },
    {
     "name": "stdout",
     "output_type": "stream",
     "text": [
      "EarlyStopping counter: 16 out of 30\n"
     ]
    },
    {
     "name": "stderr",
     "output_type": "stream",
     "text": [
      "Epoch 49: loss 0.002031 0.9600:  98%|████████████████████████████████████████████████████████████████████████████████████████████████████████████████████████████████████████▌   | 198/203 [00:05<00:00, 45.89it/s]\n",
      "  0%|                                                                                                                                                                                       | 0/11 [00:00<?, ?it/s]\u001b[A\n",
      "Valid 49: loss 9.470222 0.3400:   0%|                                                                                                                                                       | 0/11 [00:00<?, ?it/s]\u001b[A\n",
      "Valid 49: loss 9.470222 0.3400:   9%|█████████████                                                                                                                                  | 1/11 [00:00<00:04,  2.05it/s]\u001b[A\n",
      "Valid 49: loss 9.458702 0.3200:   9%|█████████████                                                                                                                                  | 1/11 [00:00<00:04,  2.05it/s]\u001b[A\n",
      "Valid 49: loss 10.037237 0.2000:   9%|████████████▉                                                                                                                                 | 1/11 [00:00<00:04,  2.05it/s]\u001b[A\n",
      "Valid 49: loss 9.621172 0.4000:   9%|█████████████                                                                                                                                  | 1/11 [00:00<00:04,  2.05it/s]\u001b[A\n",
      "Valid 49: loss 9.321681 0.3600:   9%|█████████████                                                                                                                                  | 1/11 [00:00<00:04,  2.05it/s]\u001b[A\n",
      "Valid 49: loss 9.369301 0.3200:   9%|█████████████                                                                                                                                  | 1/11 [00:00<00:04,  2.05it/s]\u001b[A\n",
      "Valid 49: loss 9.602948 0.2200:   9%|█████████████                                                                                                                                  | 1/11 [00:00<00:04,  2.05it/s]\u001b[A\n",
      "Valid 49: loss 9.674283 0.2400:   9%|█████████████                                                                                                                                  | 1/11 [00:00<00:04,  2.05it/s]\u001b[A\n",
      "Valid 49: loss 9.762370 0.2600:   9%|█████████████                                                                                                                                  | 1/11 [00:00<00:04,  2.05it/s]\u001b[A\n",
      "Valid 49: loss 9.762370 0.2600:  82%|█████████████████████████████████████████████████████████████████████████████████████████████████████████████████████                          | 9/11 [00:00<00:00, 18.98it/s]\u001b[A\n",
      "Valid 49: loss 9.786084 0.3000:  82%|█████████████████████████████████████████████████████████████████████████████████████████████████████████████████████                          | 9/11 [00:00<00:00, 18.98it/s]\u001b[A\n",
      "Valid 49: loss 10.167792 0.1429: 100%|█████████████████████████████████████████████████████████████████████████████████████████████████████████████████████████████████████████████| 11/11 [00:00<00:00, 15.91it/s]\u001b[A\n",
      "Epoch 49: loss 0.002031 0.9600: 100%|████████████████████████████████████████████████████████████████████████████████████████████████████████████████████████████████████████████| 203/203 [00:06<00:00, 30.47it/s]\n"
     ]
    },
    {
     "name": "stdout",
     "output_type": "stream",
     "text": [
      "EarlyStopping counter: 17 out of 30\n"
     ]
    },
    {
     "name": "stderr",
     "output_type": "stream",
     "text": [
      "Epoch 50: loss 0.001005 1.0000: 100%|███████████████████████████████████████████████████████████████████████████████████████████████████████████████████████████████████████████▎| 202/203 [00:05<00:00, 48.14it/s]\n",
      "  0%|                                                                                                                                                                                       | 0/11 [00:00<?, ?it/s]\u001b[A\n",
      "Valid 50: loss 10.503985 0.3400:   0%|                                                                                                                                                      | 0/11 [00:00<?, ?it/s]\u001b[A\n",
      "Valid 50: loss 10.503985 0.3400:   9%|████████████▉                                                                                                                                 | 1/11 [00:00<00:04,  2.34it/s]\u001b[A\n",
      "Valid 50: loss 10.196586 0.2400:   9%|████████████▉                                                                                                                                 | 1/11 [00:00<00:04,  2.34it/s]\u001b[A\n",
      "Valid 50: loss 9.378978 0.3000:   9%|█████████████                                                                                                                                  | 1/11 [00:00<00:04,  2.34it/s]\u001b[A\n",
      "Valid 50: loss 9.886149 0.1600:   9%|█████████████                                                                                                                                  | 1/11 [00:00<00:04,  2.34it/s]\u001b[A\n",
      "Valid 50: loss 10.057817 0.2800:   9%|████████████▉                                                                                                                                 | 1/11 [00:00<00:04,  2.34it/s]\u001b[A\n",
      "Valid 50: loss 9.925145 0.2400:   9%|█████████████                                                                                                                                  | 1/11 [00:00<00:04,  2.34it/s]\u001b[A\n",
      "Valid 50: loss 9.945310 0.3400:   9%|█████████████                                                                                                                                  | 1/11 [00:00<00:04,  2.34it/s]\u001b[A\n",
      "Valid 50: loss 9.729921 0.2400:   9%|█████████████                                                                                                                                  | 1/11 [00:00<00:04,  2.34it/s]\u001b[A\n",
      "Valid 50: loss 9.761907 0.3000:   9%|█████████████                                                                                                                                  | 1/11 [00:00<00:04,  2.34it/s]\u001b[A\n",
      "Valid 50: loss 9.761907 0.3000:  82%|█████████████████████████████████████████████████████████████████████████████████████████████████████████████████████                          | 9/11 [00:00<00:00, 21.24it/s]\u001b[A\n",
      "Valid 50: loss 9.930566 0.2400:  82%|█████████████████████████████████████████████████████████████████████████████████████████████████████████████████████                          | 9/11 [00:00<00:00, 21.24it/s]\u001b[A\n",
      "Valid 50: loss 10.379574 0.0000: 100%|█████████████████████████████████████████████████████████████████████████████████████████████████████████████████████████████████████████████| 11/11 [00:00<00:00, 17.68it/s]\u001b[A\n",
      "Epoch 50: loss 0.001005 1.0000: 100%|████████████████████████████████████████████████████████████████████████████████████████████████████████████████████████████████████████████| 203/203 [00:06<00:00, 30.82it/s]\n"
     ]
    },
    {
     "name": "stdout",
     "output_type": "stream",
     "text": [
      "EarlyStopping counter: 18 out of 30\n"
     ]
    },
    {
     "name": "stderr",
     "output_type": "stream",
     "text": [
      "Epoch 51: loss 0.001970 1.0000:  99%|█████████████████████████████████████████████████████████████████████████████████████████████████████████████████████████████████████████▉  | 200/203 [00:05<00:00, 42.59it/s]\n",
      "  0%|                                                                                                                                                                                       | 0/11 [00:00<?, ?it/s]\u001b[A\n",
      "Valid 51: loss 10.947205 0.2600:   0%|                                                                                                                                                      | 0/11 [00:00<?, ?it/s]\u001b[A\n",
      "Valid 51: loss 10.947205 0.2600:   9%|████████████▉                                                                                                                                 | 1/11 [00:00<00:05,  1.94it/s]\u001b[A\n",
      "Valid 51: loss 10.252556 0.2800:   9%|████████████▉                                                                                                                                 | 1/11 [00:00<00:05,  1.94it/s]\u001b[A\n",
      "Valid 51: loss 9.922525 0.2200:   9%|█████████████                                                                                                                                  | 1/11 [00:00<00:05,  1.94it/s]\u001b[A\n",
      "Valid 51: loss 10.434969 0.2800:   9%|████████████▉                                                                                                                                 | 1/11 [00:00<00:05,  1.94it/s]\u001b[A\n",
      "Valid 51: loss 9.986335 0.3000:   9%|█████████████                                                                                                                                  | 1/11 [00:00<00:05,  1.94it/s]\u001b[A\n",
      "Valid 51: loss 10.150391 0.2600:   9%|████████████▉                                                                                                                                 | 1/11 [00:00<00:05,  1.94it/s]\u001b[A\n",
      "Valid 51: loss 10.097500 0.2600:   9%|████████████▉                                                                                                                                 | 1/11 [00:00<00:05,  1.94it/s]\u001b[A\n",
      "Valid 51: loss 9.807680 0.3600:   9%|█████████████                                                                                                                                  | 1/11 [00:00<00:05,  1.94it/s]\u001b[A\n",
      "Valid 51: loss 9.969422 0.2800:   9%|█████████████                                                                                                                                  | 1/11 [00:00<00:05,  1.94it/s]\u001b[A\n",
      "Valid 51: loss 9.975009 0.3400:   9%|█████████████                                                                                                                                  | 1/11 [00:00<00:05,  1.94it/s]\u001b[A\n",
      "Valid 51: loss 9.741470 0.2857:   9%|█████████████                                                                                                                                  | 1/11 [00:00<00:05,  1.94it/s]\u001b[A\n",
      "Valid 51: loss 9.741470 0.2857: 100%|██████████████████████████████████████████████████████████████████████████████████████████████████████████████████████████████████████████████| 11/11 [00:00<00:00, 15.83it/s]\u001b[A\n",
      "Epoch 51: loss 0.001970 1.0000: 100%|████████████████████████████████████████████████████████████████████████████████████████████████████████████████████████████████████████████| 203/203 [00:06<00:00, 30.38it/s]\n"
     ]
    },
    {
     "name": "stdout",
     "output_type": "stream",
     "text": [
      "EarlyStopping counter: 19 out of 30\n"
     ]
    },
    {
     "name": "stderr",
     "output_type": "stream",
     "text": [
      "Epoch 52: loss 0.001523 1.0000:  98%|████████████████████████████████████████████████████████████████████████████████████████████████████████████████████████████████████████▌   | 198/203 [00:05<00:00, 47.78it/s]\n",
      "  0%|                                                                                                                                                                                       | 0/11 [00:00<?, ?it/s]\u001b[A\n",
      "Valid 52: loss 9.470991 0.3000:   0%|                                                                                                                                                       | 0/11 [00:00<?, ?it/s]\u001b[A\n",
      "Valid 52: loss 9.470991 0.3000:   9%|█████████████                                                                                                                                  | 1/11 [00:00<00:04,  2.03it/s]\u001b[A\n",
      "Valid 52: loss 9.926363 0.2200:   9%|█████████████                                                                                                                                  | 1/11 [00:00<00:04,  2.03it/s]\u001b[A\n",
      "Valid 52: loss 9.830932 0.3000:   9%|█████████████                                                                                                                                  | 1/11 [00:00<00:04,  2.03it/s]\u001b[A\n",
      "Valid 52: loss 9.686351 0.3000:   9%|█████████████                                                                                                                                  | 1/11 [00:00<00:04,  2.03it/s]\u001b[A\n",
      "Valid 52: loss 10.387155 0.1800:   9%|████████████▉                                                                                                                                 | 1/11 [00:00<00:04,  2.03it/s]\u001b[A\n",
      "Valid 52: loss 10.383209 0.2200:   9%|████████████▉                                                                                                                                 | 1/11 [00:00<00:04,  2.03it/s]\u001b[A\n",
      "Valid 52: loss 10.247088 0.2200:   9%|████████████▉                                                                                                                                 | 1/11 [00:00<00:04,  2.03it/s]\u001b[A\n",
      "Valid 52: loss 10.126530 0.2800:   9%|████████████▉                                                                                                                                 | 1/11 [00:00<00:04,  2.03it/s]\u001b[A\n",
      "Valid 52: loss 9.940945 0.2800:   9%|█████████████                                                                                                                                  | 1/11 [00:00<00:04,  2.03it/s]\u001b[A\n",
      "Valid 52: loss 9.940945 0.2800:  82%|█████████████████████████████████████████████████████████████████████████████████████████████████████████████████████                          | 9/11 [00:00<00:00, 18.83it/s]\u001b[A\n",
      "Valid 52: loss 9.884022 0.3600:  82%|█████████████████████████████████████████████████████████████████████████████████████████████████████████████████████                          | 9/11 [00:00<00:00, 18.83it/s]\u001b[A\n",
      "Valid 52: loss 9.538399 0.5714: 100%|██████████████████████████████████████████████████████████████████████████████████████████████████████████████████████████████████████████████| 11/11 [00:00<00:00, 15.60it/s]\u001b[A\n",
      "Epoch 52: loss 0.001523 1.0000: 100%|████████████████████████████████████████████████████████████████████████████████████████████████████████████████████████████████████████████| 203/203 [00:06<00:00, 30.87it/s]\n"
     ]
    },
    {
     "name": "stdout",
     "output_type": "stream",
     "text": [
      "EarlyStopping counter: 20 out of 30\n"
     ]
    },
    {
     "name": "stderr",
     "output_type": "stream",
     "text": [
      "Epoch 53: loss 0.001323 1.0000:  98%|████████████████████████████████████████████████████████████████████████████████████████████████████████████████████████████████████████▌   | 198/203 [00:05<00:00, 44.80it/s]\n",
      "  0%|                                                                                                                                                                                       | 0/11 [00:00<?, ?it/s]\u001b[A\n",
      "Valid 53: loss 8.663493 0.3600:   0%|                                                                                                                                                       | 0/11 [00:00<?, ?it/s]\u001b[A\n",
      "Valid 53: loss 8.663493 0.3600:   9%|█████████████                                                                                                                                  | 1/11 [00:00<00:05,  1.89it/s]\u001b[A\n",
      "Valid 53: loss 9.032198 0.2600:   9%|█████████████                                                                                                                                  | 1/11 [00:00<00:05,  1.89it/s]\u001b[A\n",
      "Valid 53: loss 9.775234 0.3000:   9%|█████████████                                                                                                                                  | 1/11 [00:00<00:05,  1.89it/s]\u001b[A\n",
      "Valid 53: loss 9.241422 0.3800:   9%|█████████████                                                                                                                                  | 1/11 [00:00<00:05,  1.89it/s]\u001b[A\n",
      "Valid 53: loss 9.325954 0.2200:   9%|█████████████                                                                                                                                  | 1/11 [00:00<00:05,  1.89it/s]\u001b[A\n",
      "Valid 53: loss 9.471436 0.2600:   9%|█████████████                                                                                                                                  | 1/11 [00:00<00:05,  1.89it/s]\u001b[A\n",
      "Valid 53: loss 10.100470 0.1600:   9%|████████████▉                                                                                                                                 | 1/11 [00:00<00:05,  1.89it/s]\u001b[A\n",
      "Valid 53: loss 10.200707 0.2600:   9%|████████████▉                                                                                                                                 | 1/11 [00:00<00:05,  1.89it/s]\u001b[A\n",
      "Valid 53: loss 10.311990 0.2200:   9%|████████████▉                                                                                                                                 | 1/11 [00:00<00:05,  1.89it/s]\u001b[A\n",
      "Valid 53: loss 10.211084 0.3400:   9%|████████████▉                                                                                                                                 | 1/11 [00:00<00:05,  1.89it/s]\u001b[A\n",
      "Valid 53: loss 10.084483 0.0000:   9%|████████████▉                                                                                                                                 | 1/11 [00:00<00:05,  1.89it/s]\u001b[A\n",
      "Valid 53: loss 10.084483 0.0000: 100%|█████████████████████████████████████████████████████████████████████████████████████████████████████████████████████████████████████████████| 11/11 [00:00<00:00, 15.94it/s]\u001b[A\n",
      "Epoch 53: loss 0.001323 1.0000: 100%|████████████████████████████████████████████████████████████████████████████████████████████████████████████████████████████████████████████| 203/203 [00:06<00:00, 31.66it/s]\n"
     ]
    },
    {
     "name": "stdout",
     "output_type": "stream",
     "text": [
      "EarlyStopping counter: 21 out of 30\n"
     ]
    },
    {
     "name": "stderr",
     "output_type": "stream",
     "text": [
      "Epoch 54: loss 0.001930 1.0000:  98%|█████████████████████████████████████████████████████████████████████████████████████████████████████████████████████████████████████████▏  | 199/203 [00:06<00:00, 43.58it/s]\n",
      "  0%|                                                                                                                                                                                       | 0/11 [00:00<?, ?it/s]\u001b[A\n",
      "Valid 54: loss 9.229329 0.3200:   0%|                                                                                                                                                       | 0/11 [00:00<?, ?it/s]\u001b[A\n",
      "Valid 54: loss 9.229329 0.3200:   9%|█████████████                                                                                                                                  | 1/11 [00:00<00:05,  1.96it/s]\u001b[A\n",
      "Valid 54: loss 10.201667 0.2600:   9%|████████████▉                                                                                                                                 | 1/11 [00:00<00:05,  1.96it/s]\u001b[A\n",
      "Valid 54: loss 10.077964 0.2800:   9%|████████████▉                                                                                                                                 | 1/11 [00:00<00:05,  1.96it/s]\u001b[A\n",
      "Valid 54: loss 10.023249 0.1400:   9%|████████████▉                                                                                                                                 | 1/11 [00:00<00:05,  1.96it/s]\u001b[A\n",
      "Valid 54: loss 9.999119 0.2600:   9%|█████████████                                                                                                                                  | 1/11 [00:00<00:05,  1.96it/s]\u001b[A\n",
      "Valid 54: loss 10.257180 0.2600:   9%|████████████▉                                                                                                                                 | 1/11 [00:00<00:05,  1.96it/s]\u001b[A\n",
      "Valid 54: loss 10.086365 0.2200:   9%|████████████▉                                                                                                                                 | 1/11 [00:00<00:05,  1.96it/s]\u001b[A\n",
      "Valid 54: loss 10.164841 0.2800:   9%|████████████▉                                                                                                                                 | 1/11 [00:00<00:05,  1.96it/s]\u001b[A\n",
      "Valid 54: loss 10.174827 0.3400:   9%|████████████▉                                                                                                                                 | 1/11 [00:00<00:05,  1.96it/s]\u001b[A\n",
      "Valid 54: loss 10.174827 0.3400:  82%|████████████████████████████████████████████████████████████████████████████████████████████████████████████████████▏                         | 9/11 [00:00<00:00, 18.78it/s]\u001b[A\n",
      "Valid 54: loss 10.067503 0.3800:  82%|████████████████████████████████████████████████████████████████████████████████████████████████████████████████████▏                         | 9/11 [00:00<00:00, 18.78it/s]\u001b[A\n",
      "Valid 54: loss 9.866382 0.4286: 100%|██████████████████████████████████████████████████████████████████████████████████████████████████████████████████████████████████████████████| 11/11 [00:00<00:00, 15.65it/s]\u001b[A\n",
      "Epoch 54: loss 0.001930 1.0000: 100%|████████████████████████████████████████████████████████████████████████████████████████████████████████████████████████████████████████████| 203/203 [00:07<00:00, 27.18it/s]\n"
     ]
    },
    {
     "name": "stdout",
     "output_type": "stream",
     "text": [
      "EarlyStopping counter: 22 out of 30\n"
     ]
    },
    {
     "name": "stderr",
     "output_type": "stream",
     "text": [
      "Epoch 55: loss 0.002614 1.0000:  99%|█████████████████████████████████████████████████████████████████████████████████████████████████████████████████████████████████████████▉  | 200/203 [00:06<00:00, 42.49it/s]\n",
      "  0%|                                                                                                                                                                                       | 0/11 [00:00<?, ?it/s]\u001b[A\n",
      "Valid 55: loss 10.511479 0.2600:   0%|                                                                                                                                                      | 0/11 [00:00<?, ?it/s]\u001b[A\n",
      "Valid 55: loss 10.511479 0.2600:   9%|████████████▉                                                                                                                                 | 1/11 [00:00<00:03,  2.81it/s]\u001b[A\n",
      "Valid 55: loss 9.788118 0.2800:   9%|█████████████                                                                                                                                  | 1/11 [00:00<00:03,  2.81it/s]\u001b[A\n",
      "Valid 55: loss 9.788118 0.2800:  18%|██████████████████████████                                                                                                                     | 2/11 [00:00<00:02,  4.49it/s]\u001b[A\n",
      "Valid 55: loss 9.940605 0.2600:  18%|██████████████████████████                                                                                                                     | 2/11 [00:00<00:02,  4.49it/s]\u001b[A\n",
      "Valid 55: loss 10.214618 0.2600:  18%|█████████████████████████▊                                                                                                                    | 2/11 [00:00<00:02,  4.49it/s]\u001b[A\n",
      "Valid 55: loss 10.617794 0.2200:  18%|█████████████████████████▊                                                                                                                    | 2/11 [00:00<00:02,  4.49it/s]\u001b[A\n",
      "Valid 55: loss 10.410475 0.4000:  18%|█████████████████████████▊                                                                                                                    | 2/11 [00:00<00:02,  4.49it/s]\u001b[A\n",
      "Valid 55: loss 10.425577 0.2200:  18%|█████████████████████████▊                                                                                                                    | 2/11 [00:00<00:02,  4.49it/s]\u001b[A\n",
      "Valid 55: loss 10.007060 0.3800:  18%|█████████████████████████▊                                                                                                                    | 2/11 [00:00<00:02,  4.49it/s]\u001b[A\n",
      "Valid 55: loss 9.978322 0.2400:  18%|██████████████████████████                                                                                                                     | 2/11 [00:00<00:02,  4.49it/s]\u001b[A\n",
      "Valid 55: loss 10.012054 0.3200:  18%|█████████████████████████▊                                                                                                                    | 2/11 [00:00<00:02,  4.49it/s]\u001b[A\n",
      "Valid 55: loss 10.012054 0.3200:  91%|████████████████████████████████████████████████████████████████████████████████████████████████████████████████████████████████▏            | 10/11 [00:00<00:00, 25.16it/s]\u001b[A\n",
      "Valid 55: loss 10.062938 0.2857: 100%|█████████████████████████████████████████████████████████████████████████████████████████████████████████████████████████████████████████████| 11/11 [00:00<00:00, 16.74it/s]\u001b[A\n",
      "Epoch 55: loss 0.002614 1.0000: 100%|████████████████████████████████████████████████████████████████████████████████████████████████████████████████████████████████████████████| 203/203 [00:07<00:00, 28.99it/s]\n"
     ]
    },
    {
     "name": "stdout",
     "output_type": "stream",
     "text": [
      "EarlyStopping counter: 23 out of 30\n"
     ]
    },
    {
     "name": "stderr",
     "output_type": "stream",
     "text": [
      "Epoch 56: loss 0.000245 1.0000:   2%|███▍                                                                                                                                          | 5/203 [00:00<00:20,  9.48it/s]"
     ]
    },
    {
     "name": "stdout",
     "output_type": "stream",
     "text": [
      "Epoch    56: reducing learning rate of group 0 to 9.8304e-04.\n"
     ]
    },
    {
     "name": "stderr",
     "output_type": "stream",
     "text": [
      "Epoch 56: loss 0.000569 1.0000:  97%|███████████████████████████████████████████████████████████████████████████████████████████████████████████████████████████████████████▊    | 197/203 [00:06<00:00, 40.01it/s]\n",
      "  0%|                                                                                                                                                                                       | 0/11 [00:00<?, ?it/s]\u001b[A\n",
      "Valid 56: loss 9.457566 0.3600:   0%|                                                                                                                                                       | 0/11 [00:00<?, ?it/s]\u001b[A\n",
      "Valid 56: loss 9.457566 0.3600:   9%|█████████████                                                                                                                                  | 1/11 [00:00<00:03,  2.87it/s]\u001b[A\n",
      "Valid 56: loss 9.546947 0.3400:   9%|█████████████                                                                                                                                  | 1/11 [00:00<00:03,  2.87it/s]\u001b[A\n",
      "Valid 56: loss 9.546947 0.3400:  18%|██████████████████████████                                                                                                                     | 2/11 [00:00<00:01,  4.77it/s]\u001b[A\n",
      "Valid 56: loss 9.803512 0.3000:  18%|██████████████████████████                                                                                                                     | 2/11 [00:00<00:01,  4.77it/s]\u001b[A\n",
      "Valid 56: loss 9.672644 0.3800:  18%|██████████████████████████                                                                                                                     | 2/11 [00:00<00:01,  4.77it/s]\u001b[A\n",
      "Valid 56: loss 9.933408 0.2800:  18%|██████████████████████████                                                                                                                     | 2/11 [00:00<00:01,  4.77it/s]\u001b[A\n",
      "Valid 56: loss 9.867015 0.3000:  18%|██████████████████████████                                                                                                                     | 2/11 [00:00<00:01,  4.77it/s]\u001b[A\n",
      "Valid 56: loss 9.866637 0.2800:  18%|██████████████████████████                                                                                                                     | 2/11 [00:00<00:01,  4.77it/s]\u001b[A\n",
      "Valid 56: loss 9.999159 0.2000:  18%|██████████████████████████                                                                                                                     | 2/11 [00:00<00:01,  4.77it/s]\u001b[A\n",
      "Valid 56: loss 9.822979 0.3200:  18%|██████████████████████████                                                                                                                     | 2/11 [00:00<00:01,  4.77it/s]\u001b[A\n",
      "Valid 56: loss 9.704984 0.2600:  18%|██████████████████████████                                                                                                                     | 2/11 [00:00<00:01,  4.77it/s]\u001b[A\n",
      "Valid 56: loss 9.542763 0.1429: 100%|██████████████████████████████████████████████████████████████████████████████████████████████████████████████████████████████████████████████| 11/11 [00:00<00:00, 17.46it/s]\u001b[A\n",
      "Epoch 56: loss 0.000569 1.0000: 100%|████████████████████████████████████████████████████████████████████████████████████████████████████████████████████████████████████████████| 203/203 [00:07<00:00, 26.18it/s]\n"
     ]
    },
    {
     "name": "stdout",
     "output_type": "stream",
     "text": [
      "EarlyStopping counter: 24 out of 30\n"
     ]
    },
    {
     "name": "stderr",
     "output_type": "stream",
     "text": [
      "Epoch 57: loss 0.000865 1.0000:  99%|██████████████████████████████████████████████████████████████████████████████████████████████████████████████████████████████████████████▌ | 201/203 [00:13<00:00, 30.33it/s]\n",
      "  0%|                                                                                                                                                                                       | 0/11 [00:00<?, ?it/s]\u001b[A\n",
      "Valid 57: loss 10.967567 0.2200:   0%|                                                                                                                                                      | 0/11 [00:00<?, ?it/s]\u001b[A\n",
      "Valid 57: loss 10.967567 0.2200:   9%|████████████▉                                                                                                                                 | 1/11 [00:00<00:06,  1.49it/s]\u001b[A\n",
      "Valid 57: loss 9.616741 0.4200:   9%|█████████████                                                                                                                                  | 1/11 [00:00<00:06,  1.49it/s]\u001b[A\n",
      "Valid 57: loss 10.777508 0.1200:   9%|████████████▉                                                                                                                                 | 1/11 [00:00<00:06,  1.49it/s]\u001b[A\n",
      "Valid 57: loss 10.793903 0.3000:   9%|████████████▉                                                                                                                                 | 1/11 [00:00<00:06,  1.49it/s]\u001b[A\n",
      "Valid 57: loss 10.793903 0.3000:  36%|███████████████████████████████████████████████████▋                                                                                          | 4/11 [00:00<00:01,  6.32it/s]\u001b[A\n",
      "Valid 57: loss 10.270397 0.3000:  36%|███████████████████████████████████████████████████▋                                                                                          | 4/11 [00:00<00:01,  6.32it/s]\u001b[A\n",
      "Valid 57: loss 10.248260 0.2600:  36%|███████████████████████████████████████████████████▋                                                                                          | 4/11 [00:00<00:01,  6.32it/s]\u001b[A\n",
      "Valid 57: loss 10.103228 0.3200:  36%|███████████████████████████████████████████████████▋                                                                                          | 4/11 [00:00<00:01,  6.32it/s]\u001b[A\n",
      "Valid 57: loss 9.901740 0.4000:  36%|████████████████████████████████████████████████████                                                                                           | 4/11 [00:00<00:01,  6.32it/s]\u001b[A\n",
      "Valid 57: loss 10.038637 0.3000:  36%|███████████████████████████████████████████████████▋                                                                                          | 4/11 [00:00<00:01,  6.32it/s]\u001b[A\n",
      "Valid 57: loss 9.996794 0.2800:  36%|████████████████████████████████████████████████████                                                                                           | 4/11 [00:00<00:01,  6.32it/s]\u001b[A\n",
      "Valid 57: loss 9.996794 0.2800:  91%|█████████████████████████████████████████████████████████████████████████████████████████████████████████████████████████████████             | 10/11 [00:00<00:00, 16.72it/s]\u001b[A\n",
      "Valid 57: loss 10.926031 0.0000: 100%|█████████████████████████████████████████████████████████████████████████████████████████████████████████████████████████████████████████████| 11/11 [00:01<00:00, 10.83it/s]\u001b[A\n",
      "Epoch 57: loss 0.000865 1.0000: 100%|████████████████████████████████████████████████████████████████████████████████████████████████████████████████████████████████████████████| 203/203 [00:14<00:00, 14.22it/s]\n"
     ]
    },
    {
     "name": "stdout",
     "output_type": "stream",
     "text": [
      "EarlyStopping counter: 25 out of 30\n"
     ]
    },
    {
     "name": "stderr",
     "output_type": "stream",
     "text": [
      "Epoch 58: loss 0.001248 1.0000: 100%|███████████████████████████████████████████████████████████████████████████████████████████████████████████████████████████████████████████▎| 202/203 [00:12<00:00, 25.67it/s]\n",
      "  0%|                                                                                                                                                                                       | 0/11 [00:00<?, ?it/s]\u001b[A\n",
      "Valid 58: loss 8.710644 0.2600:   0%|                                                                                                                                                       | 0/11 [00:00<?, ?it/s]\u001b[A\n",
      "Valid 58: loss 8.710644 0.2600:   9%|█████████████                                                                                                                                  | 1/11 [00:00<00:05,  1.69it/s]\u001b[A\n",
      "Valid 58: loss 8.571097 0.2600:   9%|█████████████                                                                                                                                  | 1/11 [00:00<00:05,  1.69it/s]\u001b[A\n",
      "Valid 58: loss 8.301079 0.3200:   9%|█████████████                                                                                                                                  | 1/11 [00:00<00:05,  1.69it/s]\u001b[A\n",
      "Valid 58: loss 8.301079 0.3200:  27%|███████████████████████████████████████                                                                                                        | 3/11 [00:00<00:01,  4.96it/s]\u001b[A\n",
      "Valid 58: loss 9.119741 0.2800:  27%|███████████████████████████████████████                                                                                                        | 3/11 [00:00<00:01,  4.96it/s]\u001b[A\n",
      "Valid 58: loss 8.965964 0.4000:  27%|███████████████████████████████████████                                                                                                        | 3/11 [00:00<00:01,  4.96it/s]\u001b[A\n",
      "Valid 58: loss 8.962517 0.3400:  27%|███████████████████████████████████████                                                                                                        | 3/11 [00:00<00:01,  4.96it/s]\u001b[A\n",
      "Valid 58: loss 9.461164 0.2000:  27%|███████████████████████████████████████                                                                                                        | 3/11 [00:00<00:01,  4.96it/s]\u001b[A\n",
      "Valid 58: loss 9.777747 0.2400:  27%|███████████████████████████████████████                                                                                                        | 3/11 [00:00<00:01,  4.96it/s]\u001b[A\n",
      "Valid 58: loss 9.777747 0.2400:  73%|████████████████████████████████████████████████████████████████████████████████████████████████████████                                       | 8/11 [00:00<00:00, 13.58it/s]\u001b[A\n",
      "Valid 58: loss 9.588982 0.2800:  73%|████████████████████████████████████████████████████████████████████████████████████████████████████████                                       | 8/11 [00:00<00:00, 13.58it/s]\u001b[A\n",
      "Valid 58: loss 9.620791 0.2400:  73%|████████████████████████████████████████████████████████████████████████████████████████████████████████                                       | 8/11 [00:00<00:00, 13.58it/s]\u001b[A\n",
      "Valid 58: loss 9.335824 0.2857: 100%|██████████████████████████████████████████████████████████████████████████████████████████████████████████████████████████████████████████████| 11/11 [00:00<00:00, 11.15it/s]\u001b[A\n",
      "Epoch 58: loss 0.001248 1.0000: 100%|████████████████████████████████████████████████████████████████████████████████████████████████████████████████████████████████████████████| 203/203 [00:13<00:00, 15.26it/s]\n"
     ]
    },
    {
     "name": "stdout",
     "output_type": "stream",
     "text": [
      "EarlyStopping counter: 26 out of 30\n"
     ]
    },
    {
     "name": "stderr",
     "output_type": "stream",
     "text": [
      "Epoch 59: loss 0.000949 1.0000:  99%|██████████████████████████████████████████████████████████████████████████████████████████████████████████████████████████████████████████▌ | 201/203 [00:11<00:00, 29.81it/s]\n",
      "  0%|                                                                                                                                                                                       | 0/11 [00:00<?, ?it/s]\u001b[A\n",
      "Valid 59: loss 8.106609 0.2600:   0%|                                                                                                                                                       | 0/11 [00:00<?, ?it/s]\u001b[A\n",
      "Valid 59: loss 8.106609 0.2600:   9%|█████████████                                                                                                                                  | 1/11 [00:00<00:06,  1.51it/s]\u001b[A\n",
      "Valid 59: loss 9.518607 0.2400:   9%|█████████████                                                                                                                                  | 1/11 [00:00<00:06,  1.51it/s]\u001b[A\n",
      "Valid 59: loss 9.194995 0.2800:   9%|█████████████                                                                                                                                  | 1/11 [00:00<00:06,  1.51it/s]\u001b[A\n",
      "Valid 59: loss 9.518992 0.2200:   9%|█████████████                                                                                                                                  | 1/11 [00:00<00:06,  1.51it/s]\u001b[A\n",
      "Valid 59: loss 9.486917 0.3000:   9%|█████████████                                                                                                                                  | 1/11 [00:00<00:06,  1.51it/s]\u001b[A\n",
      "Valid 59: loss 9.878288 0.2600:   9%|█████████████                                                                                                                                  | 1/11 [00:00<00:06,  1.51it/s]\u001b[A\n",
      "Valid 59: loss 9.878288 0.2600:  55%|██████████████████████████████████████████████████████████████████████████████                                                                 | 6/11 [00:00<00:00,  9.99it/s]\u001b[A\n",
      "Valid 59: loss 9.959238 0.3000:  55%|██████████████████████████████████████████████████████████████████████████████                                                                 | 6/11 [00:00<00:00,  9.99it/s]\u001b[A\n",
      "Valid 59: loss 10.090145 0.2000:  55%|█████████████████████████████████████████████████████████████████████████████▍                                                                | 6/11 [00:00<00:00,  9.99it/s]\u001b[A\n",
      "Valid 59: loss 10.106094 0.3200:  55%|█████████████████████████████████████████████████████████████████████████████▍                                                                | 6/11 [00:00<00:00,  9.99it/s]\u001b[A\n",
      "Valid 59: loss 9.844575 0.4000:  55%|██████████████████████████████████████████████████████████████████████████████                                                                 | 6/11 [00:00<00:00,  9.99it/s]\u001b[A\n",
      "Valid 59: loss 10.191221 0.1429: 100%|█████████████████████████████████████████████████████████████████████████████████████████████████████████████████████████████████████████████| 11/11 [00:00<00:00, 11.61it/s]\u001b[A\n",
      "Epoch 59: loss 0.000949 1.0000: 100%|████████████████████████████████████████████████████████████████████████████████████████████████████████████████████████████████████████████| 203/203 [00:12<00:00, 15.69it/s]\n"
     ]
    },
    {
     "name": "stdout",
     "output_type": "stream",
     "text": [
      "EarlyStopping counter: 27 out of 30\n"
     ]
    },
    {
     "name": "stderr",
     "output_type": "stream",
     "text": [
      "Epoch 60: loss 0.001018 1.0000:  99%|██████████████████████████████████████████████████████████████████████████████████████████████████████████████████████████████████████████▌ | 201/203 [00:12<00:00, 28.31it/s]\n",
      "  0%|                                                                                                                                                                                       | 0/11 [00:00<?, ?it/s]\u001b[A\n",
      "Valid 60: loss 9.119393 0.3000:   0%|                                                                                                                                                       | 0/11 [00:00<?, ?it/s]\u001b[A\n",
      "Valid 60: loss 9.119393 0.3000:   9%|█████████████                                                                                                                                  | 1/11 [00:00<00:05,  1.74it/s]\u001b[A\n",
      "Valid 60: loss 9.464419 0.2600:   9%|█████████████                                                                                                                                  | 1/11 [00:00<00:05,  1.74it/s]\u001b[A\n",
      "Valid 60: loss 9.887239 0.3000:   9%|█████████████                                                                                                                                  | 1/11 [00:00<00:05,  1.74it/s]\u001b[A\n",
      "Valid 60: loss 10.060152 0.2200:   9%|████████████▉                                                                                                                                 | 1/11 [00:00<00:05,  1.74it/s]\u001b[A\n",
      "Valid 60: loss 10.060152 0.2200:  36%|███████████████████████████████████████████████████▋                                                                                          | 4/11 [00:00<00:01,  6.97it/s]\u001b[A\n",
      "Valid 60: loss 10.220339 0.2800:  36%|███████████████████████████████████████████████████▋                                                                                          | 4/11 [00:00<00:01,  6.97it/s]\u001b[A\n",
      "Valid 60: loss 10.494175 0.1600:  36%|███████████████████████████████████████████████████▋                                                                                          | 4/11 [00:00<00:01,  6.97it/s]\u001b[A\n",
      "Valid 60: loss 10.373605 0.3600:  36%|███████████████████████████████████████████████████▋                                                                                          | 4/11 [00:00<00:01,  6.97it/s]\u001b[A\n",
      "Valid 60: loss 10.485311 0.2400:  36%|███████████████████████████████████████████████████▋                                                                                          | 4/11 [00:00<00:01,  6.97it/s]\u001b[A\n",
      "Valid 60: loss 10.669557 0.2200:  36%|███████████████████████████████████████████████████▋                                                                                          | 4/11 [00:00<00:01,  6.97it/s]\u001b[A\n",
      "Valid 60: loss 10.353493 0.4000:  36%|███████████████████████████████████████████████████▋                                                                                          | 4/11 [00:00<00:01,  6.97it/s]\u001b[A\n",
      "Valid 60: loss 9.953184 0.4286: 100%|██████████████████████████████████████████████████████████████████████████████████████████████████████████████████████████████████████████████| 11/11 [00:00<00:00, 12.13it/s]\u001b[A\n",
      "Epoch 60: loss 0.001018 1.0000: 100%|████████████████████████████████████████████████████████████████████████████████████████████████████████████████████████████████████████████| 203/203 [00:13<00:00, 15.22it/s]\n"
     ]
    },
    {
     "name": "stdout",
     "output_type": "stream",
     "text": [
      "EarlyStopping counter: 28 out of 30\n"
     ]
    },
    {
     "name": "stderr",
     "output_type": "stream",
     "text": [
      "Epoch 61: loss 0.001219 1.0000:  99%|██████████████████████████████████████████████████████████████████████████████████████████████████████████████████████████████████████████▌ | 201/203 [00:13<00:00, 22.30it/s]\n",
      "  0%|                                                                                                                                                                                       | 0/11 [00:00<?, ?it/s]\u001b[A\n",
      "Valid 61: loss 11.684419 0.2400:   0%|                                                                                                                                                      | 0/11 [00:00<?, ?it/s]\u001b[A\n",
      "Valid 61: loss 11.684419 0.2400:   9%|████████████▉                                                                                                                                 | 1/11 [00:00<00:06,  1.60it/s]\u001b[A\n",
      "Valid 61: loss 11.790578 0.1400:   9%|████████████▉                                                                                                                                 | 1/11 [00:00<00:06,  1.60it/s]\u001b[A\n",
      "Valid 61: loss 10.484758 0.3600:   9%|████████████▉                                                                                                                                 | 1/11 [00:00<00:06,  1.60it/s]\u001b[A\n",
      "Valid 61: loss 10.586161 0.2200:   9%|████████████▉                                                                                                                                 | 1/11 [00:00<00:06,  1.60it/s]\u001b[A\n",
      "Valid 61: loss 10.534211 0.3000:   9%|████████████▉                                                                                                                                 | 1/11 [00:00<00:06,  1.60it/s]\u001b[A\n",
      "Valid 61: loss 10.534211 0.3000:  45%|████████████████████████████████████████████████████████████████▌                                                                             | 5/11 [00:00<00:00,  8.62it/s]\u001b[A\n",
      "Valid 61: loss 10.585626 0.2600:  45%|████████████████████████████████████████████████████████████████▌                                                                             | 5/11 [00:00<00:00,  8.62it/s]\u001b[A\n",
      "Valid 61: loss 10.310544 0.3000:  45%|████████████████████████████████████████████████████████████████▌                                                                             | 5/11 [00:00<00:00,  8.62it/s]\u001b[A\n",
      "Valid 61: loss 10.294370 0.2400:  45%|████████████████████████████████████████████████████████████████▌                                                                             | 5/11 [00:00<00:00,  8.62it/s]\u001b[A\n",
      "Valid 61: loss 10.459459 0.2600:  45%|████████████████████████████████████████████████████████████████▌                                                                             | 5/11 [00:00<00:00,  8.62it/s]\u001b[A\n",
      "Valid 61: loss 10.615751 0.2200:  45%|████████████████████████████████████████████████████████████████▌                                                                             | 5/11 [00:00<00:00,  8.62it/s]\u001b[A\n",
      "Valid 61: loss 10.872129 0.2857: 100%|█████████████████████████████████████████████████████████████████████████████████████████████████████████████████████████████████████████████| 11/11 [00:00<00:00, 11.97it/s]\u001b[A\n",
      "Epoch 61: loss 0.001219 1.0000: 100%|████████████████████████████████████████████████████████████████████████████████████████████████████████████████████████████████████████████| 203/203 [00:14<00:00, 13.58it/s]\n"
     ]
    },
    {
     "name": "stdout",
     "output_type": "stream",
     "text": [
      "EarlyStopping counter: 29 out of 30\n"
     ]
    },
    {
     "name": "stderr",
     "output_type": "stream",
     "text": [
      "Epoch 62: loss 0.001105 1.0000:  99%|██████████████████████████████████████████████████████████████████████████████████████████████████████████████████████████████████████████▌ | 201/203 [00:14<00:00, 15.98it/s]\n",
      "  0%|                                                                                                                                                                                       | 0/11 [00:00<?, ?it/s]\u001b[A\n",
      "Valid 62: loss 9.939572 0.2800:   0%|                                                                                                                                                       | 0/11 [00:00<?, ?it/s]\u001b[A\n",
      "Valid 62: loss 9.939572 0.2800:   9%|█████████████                                                                                                                                  | 1/11 [00:00<00:05,  1.84it/s]\u001b[A\n",
      "Valid 62: loss 10.216053 0.2800:   9%|████████████▉                                                                                                                                 | 1/11 [00:00<00:05,  1.84it/s]\u001b[A\n",
      "Valid 62: loss 10.216053 0.2800:  18%|█████████████████████████▊                                                                                                                    | 2/11 [00:00<00:03,  2.65it/s]\u001b[A\n",
      "Valid 62: loss 10.200842 0.3000:  18%|█████████████████████████▊                                                                                                                    | 2/11 [00:00<00:03,  2.65it/s]\u001b[A\n",
      "Valid 62: loss 10.518369 0.2000:  18%|█████████████████████████▊                                                                                                                    | 2/11 [00:00<00:03,  2.65it/s]\u001b[A\n",
      "Valid 62: loss 10.386874 0.3000:  18%|█████████████████████████▊                                                                                                                    | 2/11 [00:01<00:03,  2.65it/s]\u001b[A\n",
      "Valid 62: loss 10.386874 0.3000:  45%|████████████████████████████████████████████████████████████████▌                                                                             | 5/11 [00:01<00:00,  6.43it/s]\u001b[A\n",
      "Valid 62: loss 10.311667 0.3400:  45%|████████████████████████████████████████████████████████████████▌                                                                             | 5/11 [00:01<00:00,  6.43it/s]\u001b[A\n",
      "Valid 62: loss 10.467615 0.3200:  45%|████████████████████████████████████████████████████████████████▌                                                                             | 5/11 [00:01<00:00,  6.43it/s]\u001b[A\n",
      "Valid 62: loss 10.467615 0.3200:  64%|██████████████████████████████████████████████████████████████████████████████████████████▎                                                   | 7/11 [00:01<00:00,  8.67it/s]\u001b[A\n",
      "Valid 62: loss 10.655658 0.2400:  64%|██████████████████████████████████████████████████████████████████████████████████████████▎                                                   | 7/11 [00:01<00:00,  8.67it/s]\u001b[A\n",
      "Valid 62: loss 10.799791 0.2200:  64%|██████████████████████████████████████████████████████████████████████████████████████████▎                                                   | 7/11 [00:01<00:00,  8.67it/s]\u001b[A\n",
      "Valid 62: loss 10.578656 0.3200:  64%|██████████████████████████████████████████████████████████████████████████████████████████▎                                                   | 7/11 [00:01<00:00,  8.67it/s]\u001b[A\n",
      "Valid 62: loss 10.369161 0.2857: 100%|█████████████████████████████████████████████████████████████████████████████████████████████████████████████████████████████████████████████| 11/11 [00:01<00:00,  8.59it/s]\u001b[A\n",
      "Epoch 62: loss 0.001105 1.0000: 100%|███████████████████████████████████████████████████████████████████████████████████████████████████████████████████████████████████████████▎| 202/203 [00:16<00:00, 12.36it/s]"
     ]
    },
    {
     "name": "stdout",
     "output_type": "stream",
     "text": [
      "EarlyStopping counter: 30 out of 30\n"
     ]
    },
    {
     "name": "stderr",
     "output_type": "stream",
     "text": [
      "\n"
     ]
    }
   ],
   "source": [
    "trainer.fit()"
   ]
  },
  {
   "cell_type": "code",
   "execution_count": 25,
   "id": "76e4bbf5",
   "metadata": {},
   "outputs": [
    {
     "data": {
      "text/plain": [
       "<All keys matched successfully>"
      ]
     },
     "execution_count": 25,
     "metadata": {},
     "output_type": "execute_result"
    }
   ],
   "source": [
    "model.load_state_dict(torch.load(trainer.es_path+'checkpoint.pt'))"
   ]
  },
  {
   "cell_type": "code",
   "execution_count": 26,
   "id": "a4e0d20d",
   "metadata": {},
   "outputs": [],
   "source": [
    "def compute_acc(model, loader):\n",
    "    with torch.no_grad():\n",
    "        preds = []\n",
    "        ys = []\n",
    "        for data in tqdm.tqdm(loader):\n",
    "            data = [to_cuda(dd, device) for dd in data]\n",
    "            pred = model(*data[:-1])\n",
    "            pred = torch.argmax(pred, dim=1).detach().cpu().numpy().tolist()\n",
    "            y = data[-1].detach().cpu().numpy().tolist()\n",
    "            preds += pred\n",
    "            ys += y\n",
    "    return (np.asarray(preds) == np.asarray(ys)).sum()/len(ys)\n",
    "            "
   ]
  },
  {
   "cell_type": "code",
   "execution_count": 27,
   "id": "865643ae",
   "metadata": {},
   "outputs": [
    {
     "name": "stderr",
     "output_type": "stream",
     "text": [
      "100%|██████████████████████████████████████████████████████████████████████████████████████████████████████████████████████████████████████████████████████████████████████████████| 11/11 [00:00<00:00, 11.05it/s]\n",
      "100%|██████████████████████████████████████████████████████████████████████████████████████████████████████████████████████████████████████████████████████████████████████████████| 39/39 [00:02<00:00, 18.39it/s]\n"
     ]
    }
   ],
   "source": [
    "run.log({'Valid Accuracy': compute_acc(model, validloader)})\n",
    "run.log({'Test Accuracy': compute_acc(model, testloader)})"
   ]
  },
  {
   "cell_type": "code",
   "execution_count": 28,
   "id": "a6fd337c",
   "metadata": {},
   "outputs": [
    {
     "name": "stderr",
     "output_type": "stream",
     "text": [
      "100%|██████████████████████████████████████████████████████████████████████████████████████████████████████████████████████████████████████████████████████████████████████████████| 39/39 [00:01<00:00, 20.80it/s]\n"
     ]
    },
    {
     "data": {
      "text/plain": [
       "0.42686721991701243"
      ]
     },
     "execution_count": 28,
     "metadata": {},
     "output_type": "execute_result"
    }
   ],
   "source": [
    "compute_acc(model, testloader)"
   ]
  },
  {
   "cell_type": "code",
   "execution_count": 29,
   "id": "ca129e94",
   "metadata": {},
   "outputs": [
    {
     "name": "stderr",
     "output_type": "stream",
     "text": [
      "100%|██████████████████████████████████████████████████████████████████████████████████████████████████████████████████████████████████████████████████████████████████████████████| 11/11 [00:00<00:00, 11.18it/s]\n"
     ]
    },
    {
     "data": {
      "text/plain": [
       "0.2978303747534517"
      ]
     },
     "execution_count": 29,
     "metadata": {},
     "output_type": "execute_result"
    }
   ],
   "source": [
    "compute_acc(model, validloader)"
   ]
  },
  {
   "cell_type": "code",
   "execution_count": null,
   "id": "fde966bc",
   "metadata": {},
   "outputs": [],
   "source": []
  }
 ],
 "metadata": {
  "kernelspec": {
   "display_name": "Python 3 (ipykernel)",
   "language": "python",
   "name": "python3"
  },
  "language_info": {
   "codemirror_mode": {
    "name": "ipython",
    "version": 3
   },
   "file_extension": ".py",
   "mimetype": "text/x-python",
   "name": "python",
   "nbconvert_exporter": "python",
   "pygments_lexer": "ipython3",
   "version": "3.8.3"
  }
 },
 "nbformat": 4,
 "nbformat_minor": 5
}
