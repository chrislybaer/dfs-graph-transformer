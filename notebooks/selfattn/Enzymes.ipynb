{
 "cells": [
  {
   "cell_type": "code",
   "execution_count": 1,
   "id": "49a7ca25",
   "metadata": {},
   "outputs": [],
   "source": [
    "%load_ext autoreload\n",
    "%autoreload 2"
   ]
  },
  {
   "cell_type": "code",
   "execution_count": 2,
   "id": "0033798e",
   "metadata": {},
   "outputs": [
    {
     "name": "stderr",
     "output_type": "stream",
     "text": [
      "WARNING:root:No normalization for BCUT2D_MWHI\n",
      "WARNING:root:No normalization for BCUT2D_MWLOW\n",
      "WARNING:root:No normalization for BCUT2D_CHGHI\n",
      "WARNING:root:No normalization for BCUT2D_CHGLO\n",
      "WARNING:root:No normalization for BCUT2D_LOGPHI\n",
      "WARNING:root:No normalization for BCUT2D_LOGPLOW\n",
      "WARNING:root:No normalization for BCUT2D_MRHI\n",
      "WARNING:root:No normalization for BCUT2D_MRLOW\n"
     ]
    },
    {
     "name": "stdout",
     "output_type": "stream",
     "text": [
      "To use the Graphein submodule graphein.protein.features.sequence.embeddings, you need to install biovec.\n",
      "\n",
      "To do so, use the following command:\n",
      "\n",
      "    pip install biovec\n",
      "To use the Graphein submodule graphein.protein.visualisation, you need to install pytorch3d.\n",
      "\n",
      "pytorch3d cannot be installed via pip\n",
      "To use the Graphein submodule graphein.protein.meshes, you need to install pytorch3d.\n",
      "\n",
      "pytorch3d cannot be installed via pip\n"
     ]
    }
   ],
   "source": [
    "import json\n",
    "import numpy as np\n",
    "from torch.utils.data import Dataset, DataLoader\n",
    "import glob\n",
    "import wandb\n",
    "import os\n",
    "import torch.optim as optimizers\n",
    "import dfs_code\n",
    "from torch_geometric.data import InMemoryDataset, Data\n",
    "import pickle\n",
    "import torch\n",
    "import torch.nn as nn\n",
    "import tqdm\n",
    "import copy\n",
    "import pandas as pd\n",
    "import torch.nn.functional as F\n",
    "import sys\n",
    "import yaml\n",
    "import functools\n",
    "from ml_collections import ConfigDict\n",
    "sys.path = ['../../src'] + sys.path\n",
    "from dfs_transformer import DFSCodeSeq2SeqFC, Deepchem2TorchGeometric, Trainer, to_cuda, Enzymes\n",
    "from graphein.protein.resi_atoms import RESI_THREE_TO_1, AMINO_ACIDS\n"
   ]
  },
  {
   "cell_type": "code",
   "execution_count": 3,
   "id": "ee7962f8",
   "metadata": {},
   "outputs": [],
   "source": [
    "def collate_fn(dlist, alpha=0, n_classes=384):\n",
    "    node_batch = [] \n",
    "    edge_batch = []\n",
    "    y_batch = []\n",
    "    code_batch = []\n",
    "    for d in dlist:\n",
    "        node_batch += [d.node_features.clone()]\n",
    "        edge_batch += [d.edge_features.clone()]\n",
    "        code_batch += [d.min_dfs_code.clone()]\n",
    "        y_batch += [d.y]\n",
    "    y = torch.tensor(y_batch, dtype=torch.long)\n",
    "    #y = (1-alpha)*y + alpha/n_classes\n",
    "    return code_batch, node_batch, edge_batch, y"
   ]
  },
  {
   "cell_type": "code",
   "execution_count": 4,
   "id": "9838e688",
   "metadata": {},
   "outputs": [],
   "source": [
    "m = ConfigDict()\n",
    "t = ConfigDict()\n",
    "d = ConfigDict()"
   ]
  },
  {
   "cell_type": "code",
   "execution_count": 5,
   "id": "2dec3e52",
   "metadata": {},
   "outputs": [],
   "source": [
    "m[\"class\"] = \"DFSCodeSeq2SeqFC\"\n",
    "m[\"n_atoms\"] = 26\n",
    "m[\"n_bonds\"] = 8\n",
    "m[\"emb_dim\"] = 120\n",
    "m[\"nhead\"] = 12\n",
    "m[\"nlayers\"] = 6\n",
    "m[\"max_nodes\"] = 1000\n",
    "m[\"max_edges\"] = 500\n",
    "m[\"dim_feedforward\"] = 2048\n",
    "m[\"missing_value\"] = None\n",
    "m[\"n_node_features\"] = 26\n",
    "m[\"n_edge_features\"] = 8\n",
    "m[\"n_class_tokens\"] = 1 \n",
    "m[\"use_min\"] = True\n",
    "\n",
    "t[\"batch_size\"] = 50\n",
    "t[\"gpu_id\"] = 0\n",
    "t[\"load_last\"] = False\n",
    "t[\"fingerprint\"] = \"cls\"\n",
    "t[\"accumulate_grads\"] = 2\n",
    "t[\"alpha\"] = 0.0\n",
    "t[\"clip_gradient\"] = 0.5\n",
    "t[\"decay_factor\"] = 0.8\n",
    "t[\"es_improvement\"] = 0.0\n",
    "t[\"es_path\"] = None\n",
    "t[\"es_patience\"] = 30\n",
    "t[\"es_period\"] = 203\n",
    "t[\"lr_head\"] = 0.003\n",
    "t[\"lr_encoder\"] = 0.00003 # 0.00003\n",
    "t[\"lr_patience\"] = 3\n",
    "t[\"lr_adjustment_period\"] = 203\n",
    "t[\"wdecay_encoder\"] = 0.0\n",
    "t[\"n_epochs\"] = 1000\n",
    "t[\"struct\"] = True\n",
    "t[\"seed\"] = 123\n",
    "t[\"num_workers\"] = 8\n",
    "\n",
    "d[\"n_classes\"] = 384\n",
    "d[\"path\"] = \"/mnt/ssd/datasets/enzyme/graphein_basic_n1000_m500.pkl\"\n",
    "d[\"n_edge_types\"] = 8\n",
    "d[\"n_node_types\"] = 26"
   ]
  },
  {
   "cell_type": "code",
   "execution_count": 6,
   "id": "e69ff7ec",
   "metadata": {},
   "outputs": [],
   "source": [
    "mode = \"online\"\n",
    "name = \"dfstr*.-%d-%d\"%(m.emb_dim*5, m.nhead)\n",
    "project = \"enzymes-n200\""
   ]
  },
  {
   "cell_type": "code",
   "execution_count": 7,
   "id": "6a8e1cf2",
   "metadata": {},
   "outputs": [],
   "source": [
    "dataset = Enzymes(path=d.path, acids2int=AMINO_ACIDS)"
   ]
  },
  {
   "cell_type": "code",
   "execution_count": 8,
   "id": "9ba9ca6b",
   "metadata": {},
   "outputs": [],
   "source": [
    "train_idx = torch.tensor([idx for idx, d in enumerate(dataset) if d.split == \"train\"], dtype=torch.long)\n",
    "valid_idx = torch.tensor([idx for idx, d in enumerate(dataset) if d.split == \"valid\"], dtype=torch.long)\n",
    "test_idx = torch.tensor([idx for idx, d in enumerate(dataset) if d.split == \"test\"], dtype=torch.long)"
   ]
  },
  {
   "cell_type": "code",
   "execution_count": 9,
   "id": "48bf51a3",
   "metadata": {},
   "outputs": [],
   "source": [
    "coll_train = functools.partial(collate_fn, alpha=t.alpha, n_classes=d.n_classes)"
   ]
  },
  {
   "cell_type": "code",
   "execution_count": 10,
   "id": "735f442a",
   "metadata": {},
   "outputs": [],
   "source": [
    "trainloader = DataLoader(dataset, sampler=torch.utils.data.SubsetRandomSampler(train_idx), \n",
    "                         batch_size=t.batch_size, collate_fn=coll_train, num_workers=t.num_workers)\n",
    "validloader = DataLoader(dataset, sampler=torch.utils.data.SubsetRandomSampler(valid_idx), \n",
    "                         batch_size=t.batch_size, collate_fn=collate_fn, num_workers=t.num_workers)\n",
    "testloader = DataLoader(dataset, sampler=torch.utils.data.SubsetRandomSampler(test_idx), \n",
    "                        batch_size=t.batch_size, collate_fn=collate_fn, num_workers=t.num_workers)"
   ]
  },
  {
   "cell_type": "code",
   "execution_count": 11,
   "id": "1adaf8e5",
   "metadata": {},
   "outputs": [],
   "source": [
    "data = next(iter(trainloader))"
   ]
  },
  {
   "cell_type": "code",
   "execution_count": 12,
   "id": "198caa53",
   "metadata": {},
   "outputs": [],
   "source": [
    "config = ConfigDict()\n",
    "config[\"model\"] = m\n",
    "config[\"training\"] = t\n",
    "config[\"data\"] = d"
   ]
  },
  {
   "cell_type": "code",
   "execution_count": 13,
   "id": "69384b8c",
   "metadata": {},
   "outputs": [
    {
     "name": "stderr",
     "output_type": "stream",
     "text": [
      "ERROR:wandb.jupyter:Failed to detect the name of this notebook, you can set it manually with the WANDB_NOTEBOOK_NAME environment variable to enable code saving.\n",
      "\u001b[34m\u001b[1mwandb\u001b[0m: Currently logged in as: \u001b[33mchrisxx\u001b[0m (use `wandb login --relogin` to force relogin)\n",
      "\u001b[34m\u001b[1mwandb\u001b[0m: wandb version 0.12.4 is available!  To upgrade, please run:\n",
      "\u001b[34m\u001b[1mwandb\u001b[0m:  $ pip install wandb --upgrade\n",
      "2021-10-05 10:43:12.594719: W tensorflow/stream_executor/platform/default/dso_loader.cc:64] Could not load dynamic library 'libcudart.so.11.0'; dlerror: libcudart.so.11.0: cannot open shared object file: No such file or directory; LD_LIBRARY_PATH: :/opt/cuda/extras/CUPTI/lib64/:/opt/intel/lib:/opt/intel/mkl/lib/intel64:/opt/intel:/opt/ibm/ILOG/CPLEX_Studio1210/cplex/bin/x86-64_linux:/opt/ibm/ILOG/CPLEX_Studio1210/cplex/python/3.7/x86-64_linux:/opt/intel/clck_latest/lib:/opt/intel/daal/lib:/opt/intel/intelpython3/lib:/opt/intel/ipp/lib:/opt/intel/itac_2019/lib:/opt/intel/itac_latest/lib:/opt/intel/mkl/lib:/opt/intel/mkl_/lib:/opt/intel/mpirt/lib:/opt/intel/tbb/lib:/opt/intel/clck/2019.0/lib:/opt/intel/compilers_and_libraries_2019/linux/lib:/opt/intel/compilers_and_libraries/linux/lib:/opt/intel/itac/2019.0.018/lib:/opt/intel/itac_2019/intel64/lib:/opt/intel/itac_latest/intel64/lib:/opt/intel/parallel_studio_xe_2019.0.045/clck_2019/lib:/opt/intel/parallel_studio_xe_2019.0.045/itac_2019/lib:/opt/intel/parallel_studio_xe_2019/clck_2019/lib:/opt/intel/parallel_studio_xe_2019/itac_2019/lib:/opt/cuda/extras/CUPTI/lib64/:/opt/intel/lib:/opt/intel/mkl/lib/intel64:/opt/intel:/opt/ibm/ILOG/CPLEX_Studio1210/cplex/bin/x86-64_linux:/opt/ibm/ILOG/CPLEX_Studio1210/cplex/python/3.7/x86-64_linux:/opt/intel/clck_latest/lib:/opt/intel/daal/lib:/opt/intel/intelpython3/lib:/opt/intel/ipp/lib:/opt/intel/itac_2019/lib:/opt/intel/itac_latest/lib:/opt/intel/mkl/lib:/opt/intel/mkl_/lib:/opt/intel/mpirt/lib:/opt/intel/tbb/lib:/opt/intel/clck/2019.0/lib:/opt/intel/compilers_and_libraries_2019/linux/lib:/opt/intel/compilers_and_libraries/linux/lib:/opt/intel/itac/2019.0.018/lib:/opt/intel/itac_2019/intel64/lib:/opt/intel/itac_latest/intel64/lib:/opt/intel/parallel_studio_xe_2019.0.045/clck_2019/lib:/opt/intel/parallel_studio_xe_2019.0.045/itac_2019/lib:/opt/intel/parallel_studio_xe_2019/clck_2019/lib:/opt/intel/parallel_studio_xe_2019/itac_2019/lib\n",
      "2021-10-05 10:43:12.594743: I tensorflow/stream_executor/cuda/cudart_stub.cc:29] Ignore above cudart dlerror if you do not have a GPU set up on your machine.\n"
     ]
    },
    {
     "data": {
      "text/html": [
       "\n",
       "                Tracking run with wandb version 0.10.33<br/>\n",
       "                Syncing run <strong style=\"color:#cdcd00\">dfstr*.-600-12</strong> to <a href=\"https://wandb.ai\" target=\"_blank\">Weights & Biases</a> <a href=\"https://docs.wandb.com/integrations/jupyter.html\" target=\"_blank\">(Documentation)</a>.<br/>\n",
       "                Project page: <a href=\"https://wandb.ai/dfstransformer/enzymes-n200\" target=\"_blank\">https://wandb.ai/dfstransformer/enzymes-n200</a><br/>\n",
       "                Run page: <a href=\"https://wandb.ai/dfstransformer/enzymes-n200/runs/269ombq9\" target=\"_blank\">https://wandb.ai/dfstransformer/enzymes-n200/runs/269ombq9</a><br/>\n",
       "                Run data is saved locally in <code>/home/chrisw/Documents/projects/2021/graph-transformer/notebooks/selfattn/wandb/run-20211005_104311-269ombq9</code><br/><br/>\n",
       "            "
      ],
      "text/plain": [
       "<IPython.core.display.HTML object>"
      ]
     },
     "metadata": {},
     "output_type": "display_data"
    }
   ],
   "source": [
    "run = wandb.init(mode=mode, project=project, entity=\"dfstransformer\", \n",
    "                 name=name, config=config.to_dict(), job_type=\"evaluation\")"
   ]
  },
  {
   "cell_type": "code",
   "execution_count": 14,
   "id": "6a92cba2",
   "metadata": {},
   "outputs": [],
   "source": [
    "ce = nn.CrossEntropyLoss(ignore_index=-1)"
   ]
  },
  {
   "cell_type": "code",
   "execution_count": 15,
   "id": "a8c39aa6",
   "metadata": {},
   "outputs": [],
   "source": [
    "class TransformerPlusHead(nn.Module):\n",
    "    def __init__(self, encoder, n_classes, fingerprint='cls'):\n",
    "        super(TransformerPlusHead, self).__init__()\n",
    "        self.encoder = encoder\n",
    "        n_encoding = encoder.get_n_encoding(fingerprint)\n",
    "        self.head = nn.Linear(n_encoding, n_classes)\n",
    "        self.fingerprint = fingerprint\n",
    "    \n",
    "    def forward(self, C, N, E):\n",
    "        features = self.encoder.encode(C, N, E, method=self.fingerprint)\n",
    "        output = self.head(features)\n",
    "        return output\n",
    "        "
   ]
  },
  {
   "cell_type": "code",
   "execution_count": 16,
   "id": "df6e9d7d",
   "metadata": {},
   "outputs": [],
   "source": [
    "def loss(pred, y, ce=ce):\n",
    "    return ce(pred, y)\n",
    "\n",
    "def acc(pred, y):\n",
    "    return torch.sum(torch.argmax(pred, dim=1) == y)/len(y)"
   ]
  },
  {
   "cell_type": "code",
   "execution_count": 17,
   "id": "a89213a7",
   "metadata": {},
   "outputs": [],
   "source": [
    "device = torch.device('cuda:%d'%t.gpu_id if torch.cuda.is_available()  else 'cpu')\n",
    "encoder = DFSCodeSeq2SeqFC(**m)\n",
    "    \n",
    "#if t.load_last and model_dir is not None:\n",
    "#    encoder.load_state_dict(torch.load(model_dir+'/checkpoint.pt', map_location=device))"
   ]
  },
  {
   "cell_type": "code",
   "execution_count": 18,
   "id": "998ec1f8",
   "metadata": {},
   "outputs": [],
   "source": [
    "model = TransformerPlusHead(encoder, d.n_classes, fingerprint=t.fingerprint)"
   ]
  },
  {
   "cell_type": "code",
   "execution_count": 19,
   "id": "e4b18162",
   "metadata": {},
   "outputs": [],
   "source": [
    "param_groups = [\n",
    "    {'amsgrad': False,\n",
    "     'betas': (0.9,0.98),\n",
    "     'eps': 1e-09,\n",
    "     'lr': t.lr_encoder,\n",
    "     'params': model.encoder.parameters(),\n",
    "     'weight_decay': t.wdecay_encoder},\n",
    "    {'amsgrad': False,\n",
    "     'betas': (0.9, 0.999),\n",
    "     'eps': 1e-08,\n",
    "     'lr': t.lr_head,\n",
    "     'params': model.head.parameters(),\n",
    "     'weight_decay': 0}\n",
    "]"
   ]
  },
  {
   "cell_type": "code",
   "execution_count": 20,
   "id": "2934c934",
   "metadata": {},
   "outputs": [
    {
     "data": {
      "text/plain": [
       "accumulate_grads: 2\n",
       "alpha: 0.0\n",
       "batch_size: 50\n",
       "clip_gradient: 0.5\n",
       "decay_factor: 0.8\n",
       "es_improvement: 0.0\n",
       "es_path: null\n",
       "es_patience: 30\n",
       "es_period: 203\n",
       "fingerprint: cls\n",
       "gpu_id: 0\n",
       "load_last: false\n",
       "lr_adjustment_period: 203\n",
       "lr_encoder: 3.0e-05\n",
       "lr_head: 0.003\n",
       "lr_patience: 3\n",
       "n_epochs: 1000\n",
       "num_workers: 8\n",
       "seed: 123\n",
       "struct: true\n",
       "wdecay_encoder: 0.0"
      ]
     },
     "execution_count": 20,
     "metadata": {},
     "output_type": "execute_result"
    }
   ],
   "source": [
    "t"
   ]
  },
  {
   "cell_type": "code",
   "execution_count": 21,
   "id": "57f93c6d",
   "metadata": {},
   "outputs": [],
   "source": [
    "trainer = Trainer(model, trainloader, loss, validloader=validloader, metrics={'acc': acc}, es_argument=lambda log: -log['valid-acc'], wandb_run = run, param_groups=param_groups, **t)"
   ]
  },
  {
   "cell_type": "code",
   "execution_count": null,
   "id": "a20a1ec8",
   "metadata": {},
   "outputs": [
    {
     "name": "stderr",
     "output_type": "stream",
     "text": [
      "Epoch 1: loss 4.181831 0.0800: 100%|████████████████████████████████████████████████████████████████████████████████████████████████████████████████████████████████████████████▎| 202/203 [01:39<00:00,  2.13it/s]\n",
      "  0%|                                                                                                                                                                                       | 0/11 [00:00<?, ?it/s]\u001b[A\n",
      "Valid 1: loss 5.800221 0.0200:   0%|                                                                                                                                                        | 0/11 [00:00<?, ?it/s]\u001b[A\n",
      "Valid 1: loss 5.800221 0.0200:   9%|█████████████                                                                                                                                   | 1/11 [00:00<00:08,  1.22it/s]\u001b[A\n",
      "Valid 1: loss 6.037851 0.0000:   9%|█████████████                                                                                                                                   | 1/11 [00:01<00:08,  1.22it/s]\u001b[A\n",
      "Valid 1: loss 6.037851 0.0000:  18%|██████████████████████████▏                                                                                                                     | 2/11 [00:01<00:04,  2.20it/s]\u001b[A\n",
      "Valid 1: loss 6.090789 0.0000:  18%|██████████████████████████▏                                                                                                                     | 2/11 [00:01<00:04,  2.20it/s]\u001b[A\n",
      "Valid 1: loss 6.090789 0.0000:  27%|███████████████████████████████████████▎                                                                                                        | 3/11 [00:01<00:02,  3.25it/s]\u001b[A\n",
      "Valid 1: loss 6.128461 0.0000:  27%|███████████████████████████████████████▎                                                                                                        | 3/11 [00:01<00:02,  3.25it/s]\u001b[A\n",
      "Valid 1: loss 6.128461 0.0000:  36%|████████████████████████████████████████████████████▎                                                                                           | 4/11 [00:01<00:01,  4.07it/s]\u001b[A\n",
      "Valid 1: loss 6.137079 0.0200:  36%|████████████████████████████████████████████████████▎                                                                                           | 4/11 [00:01<00:01,  4.07it/s]\u001b[A\n",
      "Valid 1: loss 6.137079 0.0200:  45%|█████████████████████████████████████████████████████████████████▍                                                                              | 5/11 [00:01<00:01,  4.84it/s]\u001b[A\n",
      "Valid 1: loss 6.075734 0.0200:  45%|█████████████████████████████████████████████████████████████████▍                                                                              | 5/11 [00:01<00:01,  4.84it/s]\u001b[A\n",
      "Valid 1: loss 6.075734 0.0200:  55%|██████████████████████████████████████████████████████████████████████████████▌                                                                 | 6/11 [00:01<00:00,  5.45it/s]\u001b[A\n",
      "Valid 1: loss 6.068070 0.0000:  55%|██████████████████████████████████████████████████████████████████████████████▌                                                                 | 6/11 [00:01<00:00,  5.45it/s]\u001b[A\n",
      "Valid 1: loss 6.068070 0.0000:  64%|███████████████████████████████████████████████████████████████████████████████████████████▋                                                    | 7/11 [00:01<00:00,  5.93it/s]\u001b[A\n",
      "Valid 1: loss 6.018397 0.0600:  64%|███████████████████████████████████████████████████████████████████████████████████████████▋                                                    | 7/11 [00:01<00:00,  5.93it/s]\u001b[A\n",
      "Valid 1: loss 6.018397 0.0600:  73%|████████████████████████████████████████████████████████████████████████████████████████████████████████▋                                       | 8/11 [00:01<00:00,  6.30it/s]\u001b[A\n",
      "Valid 1: loss 6.039395 0.0000:  73%|████████████████████████████████████████████████████████████████████████████████████████████████████████▋                                       | 8/11 [00:02<00:00,  6.30it/s]\u001b[A\n",
      "Valid 1: loss 6.039395 0.0000:  82%|█████████████████████████████████████████████████████████████████████████████████████████████████████████████████████▊                          | 9/11 [00:02<00:00,  6.10it/s]\u001b[A\n",
      "Valid 1: loss 6.031146 0.0200:  82%|█████████████████████████████████████████████████████████████████████████████████████████████████████████████████████▊                          | 9/11 [00:02<00:00,  6.10it/s]\u001b[A\n",
      "Valid 1: loss 6.031146 0.0200:  91%|██████████████████████████████████████████████████████████████████████████████████████████████████████████████████████████████████             | 10/11 [00:02<00:00,  5.98it/s]\u001b[A\n",
      "Valid 1: loss 6.061321 0.0000: 100%|███████████████████████████████████████████████████████████████████████████████████████████████████████████████████████████████████████████████| 11/11 [00:02<00:00,  4.81it/s]\u001b[A\n",
      "Epoch 1: loss 4.181831 0.0800: 100%|█████████████████████████████████████████████████████████████████████████████████████████████████████████████████████████████████████████████| 203/203 [01:42<00:00,  1.99it/s]\n",
      "Epoch 2: loss 3.246095 0.3600: 100%|████████████████████████████████████████████████████████████████████████████████████████████████████████████████████████████████████████████▎| 202/203 [01:40<00:00,  2.16it/s]\n",
      "  0%|                                                                                                                                                                                       | 0/11 [00:00<?, ?it/s]\u001b[A\n",
      "Valid 2: loss 5.903092 0.0400:   0%|                                                                                                                                                        | 0/11 [00:00<?, ?it/s]\u001b[A\n",
      "Valid 2: loss 5.903092 0.0400:   9%|█████████████                                                                                                                                   | 1/11 [00:00<00:06,  1.57it/s]\u001b[A\n",
      "Valid 2: loss 6.020448 0.0400:   9%|█████████████                                                                                                                                   | 1/11 [00:00<00:06,  1.57it/s]\u001b[A\n",
      "Valid 2: loss 6.020448 0.0400:  18%|██████████████████████████▏                                                                                                                     | 2/11 [00:00<00:03,  2.52it/s]\u001b[A\n",
      "Valid 2: loss 5.918333 0.0400:  18%|██████████████████████████▏                                                                                                                     | 2/11 [00:01<00:03,  2.52it/s]\u001b[A\n",
      "Valid 2: loss 5.918333 0.0400:  27%|███████████████████████████████████████▎                                                                                                        | 3/11 [00:01<00:02,  3.20it/s]\u001b[A\n",
      "Valid 2: loss 5.950246 0.0600:  27%|███████████████████████████████████████▎                                                                                                        | 3/11 [00:01<00:02,  3.20it/s]\u001b[A\n",
      "Valid 2: loss 5.950246 0.0600:  36%|████████████████████████████████████████████████████▎                                                                                           | 4/11 [00:01<00:01,  3.88it/s]\u001b[A\n",
      "Valid 2: loss 5.998121 0.0400:  36%|████████████████████████████████████████████████████▎                                                                                           | 4/11 [00:01<00:01,  3.88it/s]\u001b[A\n",
      "Valid 2: loss 5.998121 0.0400:  45%|█████████████████████████████████████████████████████████████████▍                                                                              | 5/11 [00:01<00:01,  4.11it/s]\u001b[A\n",
      "Valid 2: loss 5.931402 0.0800:  45%|█████████████████████████████████████████████████████████████████▍                                                                              | 5/11 [00:01<00:01,  4.11it/s]\u001b[A\n",
      "Valid 2: loss 5.931402 0.0800:  55%|██████████████████████████████████████████████████████████████████████████████▌                                                                 | 6/11 [00:01<00:01,  4.82it/s]\u001b[A\n"
     ]
    },
    {
     "name": "stderr",
     "output_type": "stream",
     "text": [
      "Valid 2: loss 5.820556 0.0000:  55%|██████████████████████████████████████████████████████████████████████████████▌                                                                 | 6/11 [00:01<00:01,  4.82it/s]\u001b[A\n",
      "Valid 2: loss 5.820556 0.0000:  64%|███████████████████████████████████████████████████████████████████████████████████████████▋                                                    | 7/11 [00:01<00:00,  5.39it/s]\u001b[A\n",
      "Valid 2: loss 5.849097 0.0200:  64%|███████████████████████████████████████████████████████████████████████████████████████████▋                                                    | 7/11 [00:01<00:00,  5.39it/s]\u001b[A\n",
      "Valid 2: loss 5.849097 0.0200:  73%|████████████████████████████████████████████████████████████████████████████████████████████████████████▋                                       | 8/11 [00:01<00:00,  5.26it/s]\u001b[A\n",
      "Valid 2: loss 5.854482 0.0400:  73%|████████████████████████████████████████████████████████████████████████████████████████████████████████▋                                       | 8/11 [00:02<00:00,  5.26it/s]\u001b[A\n",
      "Valid 2: loss 5.854482 0.0400:  82%|█████████████████████████████████████████████████████████████████████████████████████████████████████████████████████▊                          | 9/11 [00:02<00:00,  5.03it/s]\u001b[A\n",
      "Valid 2: loss 5.907874 0.0400:  82%|█████████████████████████████████████████████████████████████████████████████████████████████████████████████████████▊                          | 9/11 [00:02<00:00,  5.03it/s]\u001b[A\n",
      "Valid 2: loss 5.907874 0.0400:  91%|██████████████████████████████████████████████████████████████████████████████████████████████████████████████████████████████████             | 10/11 [00:02<00:00,  5.35it/s]\u001b[A\n",
      "Valid 2: loss 5.872899 0.0000: 100%|███████████████████████████████████████████████████████████████████████████████████████████████████████████████████████████████████████████████| 11/11 [00:02<00:00,  4.55it/s]\u001b[A\n",
      "Epoch 2: loss 3.246095 0.3600: 100%|█████████████████████████████████████████████████████████████████████████████████████████████████████████████████████████████████████████████| 203/203 [01:43<00:00,  1.96it/s]\n",
      "Epoch 3: loss 2.839516 0.4000: 100%|████████████████████████████████████████████████████████████████████████████████████████████████████████████████████████████████████████████▎| 202/203 [01:40<00:00,  2.08it/s]\n",
      "  0%|                                                                                                                                                                                       | 0/11 [00:00<?, ?it/s]\u001b[A\n",
      "Valid 3: loss 6.301813 0.1000:   0%|                                                                                                                                                        | 0/11 [00:00<?, ?it/s]\u001b[A\n",
      "Valid 3: loss 6.301813 0.1000:   9%|█████████████                                                                                                                                   | 1/11 [00:00<00:08,  1.15it/s]\u001b[A\n",
      "Valid 3: loss 6.034429 0.0400:   9%|█████████████                                                                                                                                   | 1/11 [00:01<00:08,  1.15it/s]\u001b[A\n",
      "Valid 3: loss 6.034429 0.0400:  18%|██████████████████████████▏                                                                                                                     | 2/11 [00:01<00:03,  2.25it/s]\u001b[A\n",
      "Valid 3: loss 5.942623 0.1400:  18%|██████████████████████████▏                                                                                                                     | 2/11 [00:01<00:03,  2.25it/s]\u001b[A\n",
      "Valid 3: loss 5.942623 0.1400:  27%|███████████████████████████████████████▎                                                                                                        | 3/11 [00:01<00:02,  3.29it/s]\u001b[A\n",
      "Valid 3: loss 5.945708 0.0400:  27%|███████████████████████████████████████▎                                                                                                        | 3/11 [00:01<00:02,  3.29it/s]\u001b[A\n",
      "Valid 3: loss 5.945708 0.0400:  36%|████████████████████████████████████████████████████▎                                                                                           | 4/11 [00:01<00:01,  4.21it/s]\u001b[A\n",
      "Valid 3: loss 5.837958 0.0600:  36%|████████████████████████████████████████████████████▎                                                                                           | 4/11 [00:01<00:01,  4.21it/s]\u001b[A\n",
      "Valid 3: loss 5.837958 0.0600:  45%|█████████████████████████████████████████████████████████████████▍                                                                              | 5/11 [00:01<00:01,  4.50it/s]\u001b[A\n",
      "Valid 3: loss 5.836367 0.0400:  45%|█████████████████████████████████████████████████████████████████▍                                                                              | 5/11 [00:01<00:01,  4.50it/s]\u001b[A\n",
      "Valid 3: loss 5.836367 0.0400:  55%|██████████████████████████████████████████████████████████████████████████████▌                                                                 | 6/11 [00:01<00:01,  4.80it/s]\u001b[A\n",
      "Valid 3: loss 5.842469 0.1600:  55%|██████████████████████████████████████████████████████████████████████████████▌                                                                 | 6/11 [00:01<00:01,  4.80it/s]\u001b[A\n",
      "Valid 3: loss 5.842469 0.1600:  64%|███████████████████████████████████████████████████████████████████████████████████████████▋                                                    | 7/11 [00:01<00:00,  4.96it/s]\u001b[A\n",
      "Valid 3: loss 5.924883 0.1200:  64%|███████████████████████████████████████████████████████████████████████████████████████████▋                                                    | 7/11 [00:01<00:00,  4.96it/s]\u001b[A\n",
      "Valid 3: loss 5.924883 0.1200:  73%|████████████████████████████████████████████████████████████████████████████████████████████████████████▋                                       | 8/11 [00:01<00:00,  5.48it/s]\u001b[A\n",
      "Valid 3: loss 5.944535 0.0000:  73%|████████████████████████████████████████████████████████████████████████████████████████████████████████▋                                       | 8/11 [00:02<00:00,  5.48it/s]\u001b[A\n",
      "Valid 3: loss 5.944535 0.0000:  82%|█████████████████████████████████████████████████████████████████████████████████████████████████████████████████████▊                          | 9/11 [00:02<00:00,  5.31it/s]\u001b[A\n",
      "Valid 3: loss 5.925227 0.0400:  82%|█████████████████████████████████████████████████████████████████████████████████████████████████████████████████████▊                          | 9/11 [00:02<00:00,  5.31it/s]\u001b[A\n",
      "Valid 3: loss 5.925227 0.0400:  91%|██████████████████████████████████████████████████████████████████████████████████████████████████████████████████████████████████             | 10/11 [00:02<00:00,  5.40it/s]\u001b[A\n",
      "Valid 3: loss 6.096092 0.0000: 100%|███████████████████████████████████████████████████████████████████████████████████████████████████████████████████████████████████████████████| 11/11 [00:02<00:00,  4.46it/s]\u001b[A\n",
      "Epoch 3: loss 2.839516 0.4000: 100%|█████████████████████████████████████████████████████████████████████████████████████████████████████████████████████████████████████████████| 203/203 [01:43<00:00,  1.95it/s]\n",
      "Epoch 4: loss 2.548038 0.4000: 100%|████████████████████████████████████████████████████████████████████████████████████████████████████████████████████████████████████████████▎| 202/203 [01:40<00:00,  2.11it/s]\n",
      "  0%|                                                                                                                                                                                       | 0/11 [00:00<?, ?it/s]\u001b[A\n",
      "Valid 4: loss 6.040301 0.1000:   0%|                                                                                                                                                        | 0/11 [00:00<?, ?it/s]\u001b[A\n",
      "Valid 4: loss 6.040301 0.1000:   9%|█████████████                                                                                                                                   | 1/11 [00:00<00:06,  1.48it/s]\u001b[A\n"
     ]
    },
    {
     "name": "stderr",
     "output_type": "stream",
     "text": [
      "Valid 4: loss 5.872092 0.0400:   9%|█████████████                                                                                                                                   | 1/11 [00:00<00:06,  1.48it/s]\u001b[A\n",
      "Valid 4: loss 5.872092 0.0400:  18%|██████████████████████████▏                                                                                                                     | 2/11 [00:00<00:03,  2.58it/s]\u001b[A\n",
      "Valid 4: loss 5.694737 0.1200:  18%|██████████████████████████▏                                                                                                                     | 2/11 [00:01<00:03,  2.58it/s]\u001b[A\n",
      "Valid 4: loss 5.694737 0.1200:  27%|███████████████████████████████████████▎                                                                                                        | 3/11 [00:01<00:02,  3.36it/s]\u001b[A\n",
      "Valid 4: loss 5.566234 0.0800:  27%|███████████████████████████████████████▎                                                                                                        | 3/11 [00:01<00:02,  3.36it/s]\u001b[A\n",
      "Valid 4: loss 5.566234 0.0800:  36%|████████████████████████████████████████████████████▎                                                                                           | 4/11 [00:01<00:01,  4.25it/s]\u001b[A\n",
      "Valid 4: loss 5.723797 0.0400:  36%|████████████████████████████████████████████████████▎                                                                                           | 4/11 [00:01<00:01,  4.25it/s]\u001b[A\n",
      "Valid 4: loss 5.723797 0.0400:  45%|█████████████████████████████████████████████████████████████████▍                                                                              | 5/11 [00:01<00:01,  4.59it/s]\u001b[A\n",
      "Valid 4: loss 5.735149 0.0400:  45%|█████████████████████████████████████████████████████████████████▍                                                                              | 5/11 [00:01<00:01,  4.59it/s]\u001b[A\n",
      "Valid 4: loss 5.735149 0.0400:  55%|██████████████████████████████████████████████████████████████████████████████▌                                                                 | 6/11 [00:01<00:01,  4.83it/s]\u001b[A\n",
      "Valid 4: loss 5.704154 0.1600:  55%|██████████████████████████████████████████████████████████████████████████████▌                                                                 | 6/11 [00:01<00:01,  4.83it/s]\u001b[A\n",
      "Valid 4: loss 5.704154 0.1600:  64%|███████████████████████████████████████████████████████████████████████████████████████████▋                                                    | 7/11 [00:01<00:00,  5.12it/s]\u001b[A\n",
      "Valid 4: loss 5.763317 0.0200:  64%|███████████████████████████████████████████████████████████████████████████████████████████▋                                                    | 7/11 [00:01<00:00,  5.12it/s]\u001b[A\n",
      "Valid 4: loss 5.763317 0.0200:  73%|████████████████████████████████████████████████████████████████████████████████████████████████████████▋                                       | 8/11 [00:01<00:00,  5.15it/s]\u001b[A\n",
      "Valid 4: loss 5.608367 0.1400:  73%|████████████████████████████████████████████████████████████████████████████████████████████████████████▋                                       | 8/11 [00:02<00:00,  5.15it/s]\u001b[A\n",
      "Valid 4: loss 5.608367 0.1400:  82%|█████████████████████████████████████████████████████████████████████████████████████████████████████████████████████▊                          | 9/11 [00:02<00:00,  5.06it/s]\u001b[A\n",
      "Valid 4: loss 5.523746 0.0400:  82%|█████████████████████████████████████████████████████████████████████████████████████████████████████████████████████▊                          | 9/11 [00:02<00:00,  5.06it/s]\u001b[A\n",
      "Valid 4: loss 5.523746 0.0400:  91%|██████████████████████████████████████████████████████████████████████████████████████████████████████████████████████████████████             | 10/11 [00:02<00:00,  5.57it/s]\u001b[A\n",
      "Valid 4: loss 5.654621 0.0000: 100%|███████████████████████████████████████████████████████████████████████████████████████████████████████████████████████████████████████████████| 11/11 [00:02<00:00,  4.66it/s]\u001b[A\n",
      "Epoch 4: loss 2.548038 0.4000: 100%|█████████████████████████████████████████████████████████████████████████████████████████████████████████████████████████████████████████████| 203/203 [01:43<00:00,  1.96it/s]\n",
      "Epoch 5: loss 2.186697 0.3200: 100%|████████████████████████████████████████████████████████████████████████████████████████████████████████████████████████████████████████████▎| 202/203 [01:40<00:00,  2.05it/s]\n",
      "  0%|                                                                                                                                                                                       | 0/11 [00:00<?, ?it/s]\u001b[A\n",
      "Valid 5: loss 5.216834 0.1000:   0%|                                                                                                                                                        | 0/11 [00:00<?, ?it/s]\u001b[A\n",
      "Valid 5: loss 5.216834 0.1000:   9%|█████████████                                                                                                                                   | 1/11 [00:00<00:06,  1.49it/s]\u001b[A\n",
      "Valid 5: loss 4.991548 0.1200:   9%|█████████████                                                                                                                                   | 1/11 [00:00<00:06,  1.49it/s]\u001b[A\n",
      "Valid 5: loss 4.991548 0.1200:  18%|██████████████████████████▏                                                                                                                     | 2/11 [00:00<00:03,  2.75it/s]\u001b[A\n",
      "Valid 5: loss 4.968167 0.1600:  18%|██████████████████████████▏                                                                                                                     | 2/11 [00:01<00:03,  2.75it/s]\u001b[A\n",
      "Valid 5: loss 4.968167 0.1600:  27%|███████████████████████████████████████▎                                                                                                        | 3/11 [00:01<00:02,  2.92it/s]\u001b[A\n",
      "Valid 5: loss 4.990474 0.0800:  27%|███████████████████████████████████████▎                                                                                                        | 3/11 [00:01<00:02,  2.92it/s]\u001b[A\n",
      "Valid 5: loss 4.990474 0.0800:  36%|████████████████████████████████████████████████████▎                                                                                           | 4/11 [00:01<00:01,  3.80it/s]\u001b[A\n",
      "Valid 5: loss 5.212042 0.1000:  36%|████████████████████████████████████████████████████▎                                                                                           | 4/11 [00:01<00:01,  3.80it/s]\u001b[A\n",
      "Valid 5: loss 5.212042 0.1000:  45%|█████████████████████████████████████████████████████████████████▍                                                                              | 5/11 [00:01<00:01,  4.56it/s]\u001b[A\n",
      "Valid 5: loss 5.268955 0.0800:  45%|█████████████████████████████████████████████████████████████████▍                                                                              | 5/11 [00:01<00:01,  4.56it/s]\u001b[A\n",
      "Valid 5: loss 5.268955 0.0800:  55%|██████████████████████████████████████████████████████████████████████████████▌                                                                 | 6/11 [00:01<00:01,  4.89it/s]\u001b[A\n",
      "Valid 5: loss 5.330729 0.1000:  55%|██████████████████████████████████████████████████████████████████████████████▌                                                                 | 6/11 [00:01<00:01,  4.89it/s]\u001b[A\n",
      "Valid 5: loss 5.330729 0.1000:  64%|███████████████████████████████████████████████████████████████████████████████████████████▋                                                    | 7/11 [00:01<00:00,  5.45it/s]\u001b[A\n",
      "Valid 5: loss 5.316131 0.0800:  64%|███████████████████████████████████████████████████████████████████████████████████████████▋                                                    | 7/11 [00:01<00:00,  5.45it/s]\u001b[A\n",
      "Valid 5: loss 5.316131 0.0800:  73%|████████████████████████████████████████████████████████████████████████████████████████████████████████▋                                       | 8/11 [00:01<00:00,  5.42it/s]\u001b[A\n"
     ]
    },
    {
     "name": "stderr",
     "output_type": "stream",
     "text": [
      "Valid 5: loss 5.410118 0.1200:  73%|████████████████████████████████████████████████████████████████████████████████████████████████████████▋                                       | 8/11 [00:02<00:00,  5.42it/s]\u001b[A\n",
      "Valid 5: loss 5.410118 0.1200:  82%|█████████████████████████████████████████████████████████████████████████████████████████████████████████████████████▊                          | 9/11 [00:02<00:00,  5.12it/s]\u001b[A\n",
      "Valid 5: loss 5.434542 0.1200:  82%|█████████████████████████████████████████████████████████████████████████████████████████████████████████████████████▊                          | 9/11 [00:02<00:00,  5.12it/s]\u001b[A\n",
      "Valid 5: loss 5.434542 0.1200:  91%|██████████████████████████████████████████████████████████████████████████████████████████████████████████████████████████████████             | 10/11 [00:02<00:00,  5.72it/s]\u001b[A\n",
      "Valid 5: loss 5.318668 0.1429: 100%|███████████████████████████████████████████████████████████████████████████████████████████████████████████████████████████████████████████████| 11/11 [00:02<00:00,  4.66it/s]\u001b[A\n",
      "Epoch 5: loss 2.186697 0.3200: 100%|█████████████████████████████████████████████████████████████████████████████████████████████████████████████████████████████████████████████| 203/203 [01:43<00:00,  1.95it/s]\n",
      "Epoch 6: loss 1.875973 0.6400: 100%|████████████████████████████████████████████████████████████████████████████████████████████████████████████████████████████████████████████▎| 202/203 [01:41<00:00,  2.17it/s]\n",
      "  0%|                                                                                                                                                                                       | 0/11 [00:00<?, ?it/s]\u001b[A\n",
      "Valid 6: loss 4.901210 0.2200:   0%|                                                                                                                                                        | 0/11 [00:00<?, ?it/s]\u001b[A\n",
      "Valid 6: loss 4.901210 0.2200:   9%|█████████████                                                                                                                                   | 1/11 [00:00<00:06,  1.63it/s]\u001b[A\n",
      "Valid 6: loss 5.393548 0.1000:   9%|█████████████                                                                                                                                   | 1/11 [00:00<00:06,  1.63it/s]\u001b[A\n",
      "Valid 6: loss 5.393548 0.1000:  18%|██████████████████████████▏                                                                                                                     | 2/11 [00:00<00:03,  2.72it/s]\u001b[A\n",
      "Valid 6: loss 5.603339 0.1200:  18%|██████████████████████████▏                                                                                                                     | 2/11 [00:01<00:03,  2.72it/s]\u001b[A\n",
      "Valid 6: loss 5.603339 0.1200:  27%|███████████████████████████████████████▎                                                                                                        | 3/11 [00:01<00:02,  2.80it/s]\u001b[A\n",
      "Valid 6: loss 5.665561 0.1000:  27%|███████████████████████████████████████▎                                                                                                        | 3/11 [00:01<00:02,  2.80it/s]\u001b[A\n",
      "Valid 6: loss 5.665561 0.1000:  36%|████████████████████████████████████████████████████▎                                                                                           | 4/11 [00:01<00:02,  3.48it/s]\u001b[A\n",
      "Valid 6: loss 5.535708 0.2200:  36%|████████████████████████████████████████████████████▎                                                                                           | 4/11 [00:01<00:02,  3.48it/s]\u001b[A\n",
      "Valid 6: loss 5.535708 0.2200:  45%|█████████████████████████████████████████████████████████████████▍                                                                              | 5/11 [00:01<00:01,  4.26it/s]\u001b[A\n",
      "Valid 6: loss 5.527683 0.1800:  45%|█████████████████████████████████████████████████████████████████▍                                                                              | 5/11 [00:01<00:01,  4.26it/s]\u001b[A\n",
      "Valid 6: loss 5.527683 0.1800:  55%|██████████████████████████████████████████████████████████████████████████████▌                                                                 | 6/11 [00:01<00:01,  4.93it/s]\u001b[A\n",
      "Valid 6: loss 5.669963 0.0600:  55%|██████████████████████████████████████████████████████████████████████████████▌                                                                 | 6/11 [00:01<00:01,  4.93it/s]\u001b[A\n",
      "Valid 6: loss 5.669963 0.0600:  64%|███████████████████████████████████████████████████████████████████████████████████████████▋                                                    | 7/11 [00:01<00:00,  5.39it/s]\u001b[A\n",
      "Valid 6: loss 5.717604 0.1200:  64%|███████████████████████████████████████████████████████████████████████████████████████████▋                                                    | 7/11 [00:01<00:00,  5.39it/s]\u001b[A\n",
      "Valid 6: loss 5.717604 0.1200:  73%|████████████████████████████████████████████████████████████████████████████████████████████████████████▋                                       | 8/11 [00:01<00:00,  5.92it/s]\u001b[A\n",
      "Valid 6: loss 5.660030 0.1600:  73%|████████████████████████████████████████████████████████████████████████████████████████████████████████▋                                       | 8/11 [00:02<00:00,  5.92it/s]\u001b[A\n",
      "Valid 6: loss 5.660030 0.1600:  82%|█████████████████████████████████████████████████████████████████████████████████████████████████████████████████████▊                          | 9/11 [00:02<00:00,  5.16it/s]\u001b[A\n",
      "Valid 6: loss 5.652687 0.0800:  82%|█████████████████████████████████████████████████████████████████████████████████████████████████████████████████████▊                          | 9/11 [00:02<00:00,  5.16it/s]\u001b[A\n",
      "Valid 6: loss 5.652687 0.0800:  91%|██████████████████████████████████████████████████████████████████████████████████████████████████████████████████████████████████             | 10/11 [00:02<00:00,  5.66it/s]\u001b[A\n",
      "Valid 6: loss 5.709593 0.0000: 100%|███████████████████████████████████████████████████████████████████████████████████████████████████████████████████████████████████████████████| 11/11 [00:02<00:00,  4.62it/s]\u001b[A\n",
      "Epoch 6: loss 1.875973 0.6400: 100%|█████████████████████████████████████████████████████████████████████████████████████████████████████████████████████████████████████████████| 203/203 [01:44<00:00,  1.94it/s]\n",
      "Epoch 7: loss 1.607869 0.5600: 100%|████████████████████████████████████████████████████████████████████████████████████████████████████████████████████████████████████████████▎| 202/203 [01:40<00:00,  2.10it/s]\n",
      "  0%|                                                                                                                                                                                       | 0/11 [00:00<?, ?it/s]\u001b[A\n",
      "Valid 7: loss 4.997942 0.2000:   0%|                                                                                                                                                        | 0/11 [00:00<?, ?it/s]\u001b[A\n",
      "Valid 7: loss 4.997942 0.2000:   9%|█████████████                                                                                                                                   | 1/11 [00:00<00:08,  1.25it/s]\u001b[A\n",
      "Valid 7: loss 5.044917 0.2200:   9%|█████████████                                                                                                                                   | 1/11 [00:01<00:08,  1.25it/s]\u001b[A\n",
      "Valid 7: loss 5.044917 0.2200:  18%|██████████████████████████▏                                                                                                                     | 2/11 [00:01<00:04,  2.21it/s]\u001b[A\n",
      "Valid 7: loss 5.160427 0.1200:  18%|██████████████████████████▏                                                                                                                     | 2/11 [00:01<00:04,  2.21it/s]\u001b[A\n",
      "Valid 7: loss 5.160427 0.1200:  27%|███████████████████████████████████████▎                                                                                                        | 3/11 [00:01<00:02,  3.26it/s]\u001b[A\n"
     ]
    },
    {
     "name": "stderr",
     "output_type": "stream",
     "text": [
      "Valid 7: loss 5.279176 0.1800:  27%|███████████████████████████████████████▎                                                                                                        | 3/11 [00:01<00:02,  3.26it/s]\u001b[A\n",
      "Valid 7: loss 5.279176 0.1800:  36%|████████████████████████████████████████████████████▎                                                                                           | 4/11 [00:01<00:01,  4.15it/s]\u001b[A\n",
      "Valid 7: loss 5.432065 0.0800:  36%|████████████████████████████████████████████████████▎                                                                                           | 4/11 [00:01<00:01,  4.15it/s]\u001b[A\n",
      "Valid 7: loss 5.432065 0.0800:  45%|█████████████████████████████████████████████████████████████████▍                                                                              | 5/11 [00:01<00:01,  4.88it/s]\u001b[A\n",
      "Valid 7: loss 5.425924 0.1200:  45%|█████████████████████████████████████████████████████████████████▍                                                                              | 5/11 [00:01<00:01,  4.88it/s]\u001b[A\n",
      "Valid 7: loss 5.425924 0.1200:  55%|██████████████████████████████████████████████████████████████████████████████▌                                                                 | 6/11 [00:01<00:00,  5.40it/s]\u001b[A\n",
      "Valid 7: loss 5.359994 0.2000:  55%|██████████████████████████████████████████████████████████████████████████████▌                                                                 | 6/11 [00:01<00:00,  5.40it/s]\u001b[A\n",
      "Valid 7: loss 5.359994 0.2000:  64%|███████████████████████████████████████████████████████████████████████████████████████████▋                                                    | 7/11 [00:01<00:00,  5.88it/s]\u001b[A\n",
      "Valid 7: loss 5.431328 0.1000:  64%|███████████████████████████████████████████████████████████████████████████████████████████▋                                                    | 7/11 [00:01<00:00,  5.88it/s]\u001b[A\n",
      "Valid 7: loss 5.431328 0.1000:  73%|████████████████████████████████████████████████████████████████████████████████████████████████████████▋                                       | 8/11 [00:01<00:00,  6.23it/s]\u001b[A\n",
      "Valid 7: loss 5.449802 0.1600:  73%|████████████████████████████████████████████████████████████████████████████████████████████████████████▋                                       | 8/11 [00:02<00:00,  6.23it/s]\u001b[A\n",
      "Valid 7: loss 5.449802 0.1600:  82%|█████████████████████████████████████████████████████████████████████████████████████████████████████████████████████▊                          | 9/11 [00:02<00:00,  5.54it/s]\u001b[A\n",
      "Valid 7: loss 5.461117 0.1600:  82%|█████████████████████████████████████████████████████████████████████████████████████████████████████████████████████▊                          | 9/11 [00:02<00:00,  5.54it/s]\u001b[A\n",
      "Valid 7: loss 5.461117 0.1600:  91%|██████████████████████████████████████████████████████████████████████████████████████████████████████████████████████████████████             | 10/11 [00:02<00:00,  5.95it/s]\u001b[A\n",
      "Valid 7: loss 5.614186 0.1429: 100%|███████████████████████████████████████████████████████████████████████████████████████████████████████████████████████████████████████████████| 11/11 [00:02<00:00,  4.78it/s]\u001b[A\n",
      "Epoch 7: loss 1.607869 0.5600: 100%|█████████████████████████████████████████████████████████████████████████████████████████████████████████████████████████████████████████████| 203/203 [01:43<00:00,  1.96it/s]\n",
      "Epoch 8: loss 1.401274 0.6800: 100%|████████████████████████████████████████████████████████████████████████████████████████████████████████████████████████████████████████████▎| 202/203 [01:40<00:00,  2.12it/s]\n",
      "  0%|                                                                                                                                                                                       | 0/11 [00:00<?, ?it/s]\u001b[A\n",
      "Valid 8: loss 4.941086 0.1400:   0%|                                                                                                                                                        | 0/11 [00:00<?, ?it/s]\u001b[A\n",
      "Valid 8: loss 4.941086 0.1400:   9%|█████████████                                                                                                                                   | 1/11 [00:00<00:06,  1.64it/s]\u001b[A\n",
      "Valid 8: loss 5.133266 0.1800:   9%|█████████████                                                                                                                                   | 1/11 [00:00<00:06,  1.64it/s]\u001b[A\n",
      "Valid 8: loss 5.133266 0.1800:  18%|██████████████████████████▏                                                                                                                     | 2/11 [00:00<00:03,  2.57it/s]\u001b[A\n",
      "Valid 8: loss 5.502988 0.0600:  18%|██████████████████████████▏                                                                                                                     | 2/11 [00:01<00:03,  2.57it/s]\u001b[A\n",
      "Valid 8: loss 5.502988 0.0600:  27%|███████████████████████████████████████▎                                                                                                        | 3/11 [00:01<00:02,  3.34it/s]\u001b[A\n",
      "Valid 8: loss 5.442034 0.2000:  27%|███████████████████████████████████████▎                                                                                                        | 3/11 [00:01<00:02,  3.34it/s]\u001b[A\n",
      "Valid 8: loss 5.442034 0.2000:  36%|████████████████████████████████████████████████████▎                                                                                           | 4/11 [00:01<00:01,  4.17it/s]\u001b[A\n",
      "Valid 8: loss 5.369397 0.1800:  36%|████████████████████████████████████████████████████▎                                                                                           | 4/11 [00:01<00:01,  4.17it/s]\u001b[A\n",
      "Valid 8: loss 5.369397 0.1800:  45%|█████████████████████████████████████████████████████████████████▍                                                                              | 5/11 [00:01<00:01,  4.09it/s]\u001b[A\n",
      "Valid 8: loss 5.562401 0.1200:  45%|█████████████████████████████████████████████████████████████████▍                                                                              | 5/11 [00:01<00:01,  4.09it/s]\u001b[A\n",
      "Valid 8: loss 5.562401 0.1200:  55%|██████████████████████████████████████████████████████████████████████████████▌                                                                 | 6/11 [00:01<00:01,  4.44it/s]\u001b[A\n",
      "Valid 8: loss 5.439899 0.1600:  55%|██████████████████████████████████████████████████████████████████████████████▌                                                                 | 6/11 [00:01<00:01,  4.44it/s]\u001b[A\n",
      "Valid 8: loss 5.439899 0.1600:  64%|███████████████████████████████████████████████████████████████████████████████████████████▋                                                    | 7/11 [00:01<00:00,  4.99it/s]\u001b[A\n",
      "Valid 8: loss 5.459190 0.1800:  64%|███████████████████████████████████████████████████████████████████████████████████████████▋                                                    | 7/11 [00:01<00:00,  4.99it/s]\u001b[A\n",
      "Valid 8: loss 5.459190 0.1800:  73%|████████████████████████████████████████████████████████████████████████████████████████████████████████▋                                       | 8/11 [00:01<00:00,  5.54it/s]\u001b[A\n",
      "Valid 8: loss 5.485458 0.1800:  73%|████████████████████████████████████████████████████████████████████████████████████████████████████████▋                                       | 8/11 [00:02<00:00,  5.54it/s]\u001b[A\n",
      "Valid 8: loss 5.485458 0.1800:  82%|█████████████████████████████████████████████████████████████████████████████████████████████████████████████████████▊                          | 9/11 [00:02<00:00,  5.08it/s]\u001b[A\n",
      "Valid 8: loss 5.543207 0.1400:  82%|█████████████████████████████████████████████████████████████████████████████████████████████████████████████████████▊                          | 9/11 [00:02<00:00,  5.08it/s]\u001b[A\n",
      "Valid 8: loss 5.543207 0.1400:  91%|██████████████████████████████████████████████████████████████████████████████████████████████████████████████████████████████████             | 10/11 [00:02<00:00,  5.62it/s]\u001b[A\n"
     ]
    },
    {
     "name": "stderr",
     "output_type": "stream",
     "text": [
      "Valid 8: loss 5.592531 0.2857: 100%|███████████████████████████████████████████████████████████████████████████████████████████████████████████████████████████████████████████████| 11/11 [00:02<00:00,  4.63it/s]\u001b[A\n",
      "Epoch 8: loss 1.401274 0.6800: 100%|█████████████████████████████████████████████████████████████████████████████████████████████████████████████████████████████████████████████| 203/203 [01:44<00:00,  1.95it/s]\n",
      "Epoch 9: loss 1.251902 0.6800: 100%|████████████████████████████████████████████████████████████████████████████████████████████████████████████████████████████████████████████▎| 202/203 [01:40<00:00,  2.09it/s]\n",
      "  0%|                                                                                                                                                                                       | 0/11 [00:00<?, ?it/s]\u001b[A\n",
      "Valid 9: loss 5.655877 0.1000:   0%|                                                                                                                                                        | 0/11 [00:00<?, ?it/s]\u001b[A\n",
      "Valid 9: loss 5.655877 0.1000:   9%|█████████████                                                                                                                                   | 1/11 [00:00<00:08,  1.13it/s]\u001b[A\n",
      "Valid 9: loss 5.899060 0.1200:   9%|█████████████                                                                                                                                   | 1/11 [00:01<00:08,  1.13it/s]\u001b[A\n",
      "Valid 9: loss 5.899060 0.1200:  18%|██████████████████████████▏                                                                                                                     | 2/11 [00:01<00:04,  2.20it/s]\u001b[A\n",
      "Valid 9: loss 5.998111 0.1200:  18%|██████████████████████████▏                                                                                                                     | 2/11 [00:01<00:04,  2.20it/s]\u001b[A\n",
      "Valid 9: loss 5.998111 0.1200:  27%|███████████████████████████████████████▎                                                                                                        | 3/11 [00:01<00:02,  3.22it/s]\u001b[A\n",
      "Valid 9: loss 5.959736 0.1200:  27%|███████████████████████████████████████▎                                                                                                        | 3/11 [00:01<00:02,  3.22it/s]\u001b[A\n",
      "Valid 9: loss 5.959736 0.1200:  36%|████████████████████████████████████████████████████▎                                                                                           | 4/11 [00:01<00:01,  4.12it/s]\u001b[A\n",
      "Valid 9: loss 5.598758 0.2600:  36%|████████████████████████████████████████████████████▎                                                                                           | 4/11 [00:01<00:01,  4.12it/s]\u001b[A\n",
      "Valid 9: loss 5.598758 0.2600:  45%|█████████████████████████████████████████████████████████████████▍                                                                              | 5/11 [00:01<00:01,  4.80it/s]\u001b[A\n",
      "Valid 9: loss 5.749270 0.0800:  45%|█████████████████████████████████████████████████████████████████▍                                                                              | 5/11 [00:01<00:01,  4.80it/s]\u001b[A\n",
      "Valid 9: loss 5.749270 0.0800:  55%|██████████████████████████████████████████████████████████████████████████████▌                                                                 | 6/11 [00:01<00:00,  5.39it/s]\u001b[A\n",
      "Valid 9: loss 5.679604 0.2000:  55%|██████████████████████████████████████████████████████████████████████████████▌                                                                 | 6/11 [00:01<00:00,  5.39it/s]\u001b[A\n",
      "Valid 9: loss 5.679604 0.2000:  64%|███████████████████████████████████████████████████████████████████████████████████████████▋                                                    | 7/11 [00:01<00:00,  5.86it/s]\u001b[A\n",
      "Valid 9: loss 5.694945 0.1000:  64%|███████████████████████████████████████████████████████████████████████████████████████████▋                                                    | 7/11 [00:01<00:00,  5.86it/s]\u001b[A\n",
      "Valid 9: loss 5.694945 0.1000:  73%|████████████████████████████████████████████████████████████████████████████████████████████████████████▋                                       | 8/11 [00:01<00:00,  5.80it/s]\u001b[A\n",
      "Valid 9: loss 5.772174 0.2000:  73%|████████████████████████████████████████████████████████████████████████████████████████████████████████▋                                       | 8/11 [00:02<00:00,  5.80it/s]\u001b[A\n",
      "Valid 9: loss 5.772174 0.2000:  82%|█████████████████████████████████████████████████████████████████████████████████████████████████████████████████████▊                          | 9/11 [00:02<00:00,  5.40it/s]\u001b[A\n",
      "Valid 9: loss 5.671672 0.2600:  82%|█████████████████████████████████████████████████████████████████████████████████████████████████████████████████████▊                          | 9/11 [00:02<00:00,  5.40it/s]\u001b[A\n",
      "Valid 9: loss 5.671672 0.2600:  91%|██████████████████████████████████████████████████████████████████████████████████████████████████████████████████████████████████             | 10/11 [00:02<00:00,  5.90it/s]\u001b[A\n",
      "Valid 9: loss 5.827800 0.0000: 100%|███████████████████████████████████████████████████████████████████████████████████████████████████████████████████████████████████████████████| 11/11 [00:02<00:00,  4.66it/s]\u001b[A\n",
      "Epoch 9: loss 1.251902 0.6800: 100%|█████████████████████████████████████████████████████████████████████████████████████████████████████████████████████████████████████████████| 203/203 [01:42<00:00,  1.97it/s]\n"
     ]
    },
    {
     "name": "stdout",
     "output_type": "stream",
     "text": [
      "EarlyStopping counter: 1 out of 30\n"
     ]
    },
    {
     "name": "stderr",
     "output_type": "stream",
     "text": [
      "Epoch 10: loss 1.086893 0.8400: 100%|███████████████████████████████████████████████████████████████████████████████████████████████████████████████████████████████████████████▎| 202/203 [01:40<00:00,  2.12it/s]\n",
      "  0%|                                                                                                                                                                                       | 0/11 [00:00<?, ?it/s]\u001b[A\n",
      "Valid 10: loss 6.501890 0.0800:   0%|                                                                                                                                                       | 0/11 [00:00<?, ?it/s]\u001b[A\n",
      "Valid 10: loss 6.501890 0.0800:   9%|█████████████                                                                                                                                  | 1/11 [00:00<00:05,  1.94it/s]\u001b[A\n",
      "Valid 10: loss 6.195400 0.2000:   9%|█████████████                                                                                                                                  | 1/11 [00:00<00:05,  1.94it/s]\u001b[A\n",
      "Valid 10: loss 6.195400 0.2000:  18%|██████████████████████████                                                                                                                     | 2/11 [00:00<00:04,  2.22it/s]\u001b[A\n",
      "Valid 10: loss 6.102666 0.1000:  18%|██████████████████████████                                                                                                                     | 2/11 [00:01<00:04,  2.22it/s]\u001b[A\n",
      "Valid 10: loss 6.102666 0.1000:  27%|███████████████████████████████████████                                                                                                        | 3/11 [00:01<00:02,  3.24it/s]\u001b[A\n",
      "Valid 10: loss 6.107685 0.1800:  27%|███████████████████████████████████████                                                                                                        | 3/11 [00:01<00:02,  3.24it/s]\u001b[A\n",
      "Valid 10: loss 6.107685 0.1800:  36%|████████████████████████████████████████████████████                                                                                           | 4/11 [00:01<00:01,  4.12it/s]\u001b[A\n",
      "Valid 10: loss 5.950331 0.1000:  36%|████████████████████████████████████████████████████                                                                                           | 4/11 [00:01<00:01,  4.12it/s]\u001b[A\n",
      "Valid 10: loss 5.950331 0.1000:  45%|█████████████████████████████████████████████████████████████████                                                                              | 5/11 [00:01<00:01,  4.76it/s]\u001b[A\n",
      "Valid 10: loss 5.829539 0.2000:  45%|█████████████████████████████████████████████████████████████████                                                                              | 5/11 [00:01<00:01,  4.76it/s]\u001b[A\n",
      "Valid 10: loss 5.829539 0.2000:  55%|██████████████████████████████████████████████████████████████████████████████                                                                 | 6/11 [00:01<00:01,  4.56it/s]\u001b[A\n",
      "Valid 10: loss 5.870174 0.1600:  55%|██████████████████████████████████████████████████████████████████████████████                                                                 | 6/11 [00:01<00:01,  4.56it/s]\u001b[A\n",
      "Valid 10: loss 5.870174 0.1600:  64%|███████████████████████████████████████████████████████████████████████████████████████████                                                    | 7/11 [00:01<00:00,  5.14it/s]\u001b[A\n",
      "Valid 10: loss 5.882620 0.1600:  64%|███████████████████████████████████████████████████████████████████████████████████████████                                                    | 7/11 [00:01<00:00,  5.14it/s]\u001b[A\n",
      "Valid 10: loss 5.882620 0.1600:  73%|████████████████████████████████████████████████████████████████████████████████████████████████████████                                       | 8/11 [00:01<00:00,  5.53it/s]\u001b[A\n",
      "Valid 10: loss 5.891036 0.1600:  73%|████████████████████████████████████████████████████████████████████████████████████████████████████████                                       | 8/11 [00:02<00:00,  5.53it/s]\u001b[A\n",
      "Valid 10: loss 5.891036 0.1600:  82%|█████████████████████████████████████████████████████████████████████████████████████████████████████████████████████                          | 9/11 [00:02<00:00,  5.96it/s]\u001b[A\n",
      "Valid 10: loss 5.904724 0.2200:  82%|█████████████████████████████████████████████████████████████████████████████████████████████████████████████████████                          | 9/11 [00:02<00:00,  5.96it/s]\u001b[A\n",
      "Valid 10: loss 5.904724 0.2200:  91%|█████████████████████████████████████████████████████████████████████████████████████████████████████████████████████████████████             | 10/11 [00:02<00:00,  5.66it/s]\u001b[A\n",
      "Valid 10: loss 5.846174 0.0000: 100%|██████████████████████████████████████████████████████████████████████████████████████████████████████████████████████████████████████████████| 11/11 [00:02<00:00,  4.76it/s]\u001b[A\n",
      "Epoch 10: loss 1.086893 0.8400: 100%|████████████████████████████████████████████████████████████████████████████████████████████████████████████████████████████████████████████| 203/203 [01:43<00:00,  1.97it/s]\n"
     ]
    },
    {
     "name": "stdout",
     "output_type": "stream",
     "text": [
      "EarlyStopping counter: 2 out of 30\n"
     ]
    },
    {
     "name": "stderr",
     "output_type": "stream",
     "text": [
      "Epoch 11: loss 0.976906 0.8000: 100%|███████████████████████████████████████████████████████████████████████████████████████████████████████████████████████████████████████████▎| 202/203 [01:40<00:00,  2.07it/s]\n",
      "  0%|                                                                                                                                                                                       | 0/11 [00:00<?, ?it/s]\u001b[A\n",
      "Valid 11: loss 5.261324 0.1800:   0%|                                                                                                                                                       | 0/11 [00:00<?, ?it/s]\u001b[A\n",
      "Valid 11: loss 5.261324 0.1800:   9%|█████████████                                                                                                                                  | 1/11 [00:00<00:05,  1.92it/s]\u001b[A\n",
      "Valid 11: loss 5.383399 0.2000:   9%|█████████████                                                                                                                                  | 1/11 [00:00<00:05,  1.92it/s]\u001b[A\n",
      "Valid 11: loss 5.383399 0.2000:  18%|██████████████████████████                                                                                                                     | 2/11 [00:00<00:04,  2.10it/s]\u001b[A\n",
      "Valid 11: loss 5.738628 0.0800:  18%|██████████████████████████                                                                                                                     | 2/11 [00:01<00:04,  2.10it/s]\u001b[A\n",
      "Valid 11: loss 5.738628 0.0800:  27%|███████████████████████████████████████                                                                                                        | 3/11 [00:01<00:02,  3.09it/s]\u001b[A\n",
      "Valid 11: loss 5.695749 0.1600:  27%|███████████████████████████████████████                                                                                                        | 3/11 [00:01<00:02,  3.09it/s]\u001b[A\n",
      "Valid 11: loss 5.695749 0.1600:  36%|████████████████████████████████████████████████████                                                                                           | 4/11 [00:01<00:01,  3.98it/s]\u001b[A\n",
      "Valid 11: loss 5.872041 0.1200:  36%|████████████████████████████████████████████████████                                                                                           | 4/11 [00:01<00:01,  3.98it/s]\u001b[A\n",
      "Valid 11: loss 5.872041 0.1200:  45%|█████████████████████████████████████████████████████████████████                                                                              | 5/11 [00:01<00:01,  4.41it/s]\u001b[A\n",
      "Valid 11: loss 5.892824 0.1600:  45%|█████████████████████████████████████████████████████████████████                                                                              | 5/11 [00:01<00:01,  4.41it/s]\u001b[A\n",
      "Valid 11: loss 5.892824 0.1600:  55%|██████████████████████████████████████████████████████████████████████████████                                                                 | 6/11 [00:01<00:00,  5.05it/s]\u001b[A\n",
      "Valid 11: loss 5.927108 0.1800:  55%|██████████████████████████████████████████████████████████████████████████████                                                                 | 6/11 [00:01<00:00,  5.05it/s]\u001b[A\n",
      "Valid 11: loss 5.927108 0.1800:  64%|███████████████████████████████████████████████████████████████████████████████████████████                                                    | 7/11 [00:01<00:00,  5.54it/s]\u001b[A\n",
      "Valid 11: loss 5.849602 0.1600:  64%|███████████████████████████████████████████████████████████████████████████████████████████                                                    | 7/11 [00:01<00:00,  5.54it/s]\u001b[A\n",
      "Valid 11: loss 5.849602 0.1600:  73%|████████████████████████████████████████████████████████████████████████████████████████████████████████                                       | 8/11 [00:01<00:00,  5.93it/s]\u001b[A\n",
      "Valid 11: loss 5.821092 0.2000:  73%|████████████████████████████████████████████████████████████████████████████████████████████████████████                                       | 8/11 [00:02<00:00,  5.93it/s]\u001b[A\n",
      "Valid 11: loss 5.821092 0.2000:  82%|█████████████████████████████████████████████████████████████████████████████████████████████████████████████████████                          | 9/11 [00:02<00:00,  6.24it/s]\u001b[A\n",
      "Valid 11: loss 5.905821 0.1200:  82%|█████████████████████████████████████████████████████████████████████████████████████████████████████████████████████                          | 9/11 [00:02<00:00,  6.24it/s]\u001b[A\n",
      "Valid 11: loss 5.905821 0.1200:  91%|█████████████████████████████████████████████████████████████████████████████████████████████████████████████████████████████████             | 10/11 [00:02<00:00,  5.79it/s]\u001b[A\n",
      "Valid 11: loss 6.139327 0.0000: 100%|██████████████████████████████████████████████████████████████████████████████████████████████████████████████████████████████████████████████| 11/11 [00:02<00:00,  4.79it/s]\u001b[A\n",
      "Epoch 11: loss 0.976906 0.8000: 100%|████████████████████████████████████████████████████████████████████████████████████████████████████████████████████████████████████████████| 203/203 [01:42<00:00,  1.97it/s]\n"
     ]
    },
    {
     "name": "stdout",
     "output_type": "stream",
     "text": [
      "EarlyStopping counter: 3 out of 30\n"
     ]
    },
    {
     "name": "stderr",
     "output_type": "stream",
     "text": [
      "Epoch 12: loss 0.849468 0.9200: 100%|███████████████████████████████████████████████████████████████████████████████████████████████████████████████████████████████████████████▎| 202/203 [01:41<00:00,  2.08it/s]\n",
      "  0%|                                                                                                                                                                                       | 0/11 [00:00<?, ?it/s]\u001b[A\n",
      "Valid 12: loss 5.964271 0.1600:   0%|                                                                                                                                                       | 0/11 [00:00<?, ?it/s]\u001b[A\n",
      "Valid 12: loss 5.964271 0.1600:   9%|█████████████                                                                                                                                  | 1/11 [00:00<00:06,  1.54it/s]\u001b[A\n",
      "Valid 12: loss 5.418965 0.2400:   9%|█████████████                                                                                                                                  | 1/11 [00:01<00:06,  1.54it/s]\u001b[A\n",
      "Valid 12: loss 5.418965 0.2400:  18%|██████████████████████████                                                                                                                     | 2/11 [00:01<00:05,  1.78it/s]\u001b[A\n",
      "Valid 12: loss 5.749470 0.2000:  18%|██████████████████████████                                                                                                                     | 2/11 [00:01<00:05,  1.78it/s]\u001b[A\n",
      "Valid 12: loss 5.749470 0.2000:  27%|███████████████████████████████████████                                                                                                        | 3/11 [00:01<00:03,  2.54it/s]\u001b[A\n",
      "Valid 12: loss 5.950776 0.1200:  27%|███████████████████████████████████████                                                                                                        | 3/11 [00:01<00:03,  2.54it/s]\u001b[A\n",
      "Valid 12: loss 5.950776 0.1200:  36%|████████████████████████████████████████████████████                                                                                           | 4/11 [00:01<00:02,  3.39it/s]\u001b[A\n",
      "Valid 12: loss 5.925779 0.1600:  36%|████████████████████████████████████████████████████                                                                                           | 4/11 [00:01<00:02,  3.39it/s]\u001b[A\n",
      "Valid 12: loss 5.925779 0.1600:  45%|█████████████████████████████████████████████████████████████████                                                                              | 5/11 [00:01<00:01,  4.19it/s]\u001b[A\n",
      "Valid 12: loss 6.078992 0.1000:  45%|█████████████████████████████████████████████████████████████████                                                                              | 5/11 [00:01<00:01,  4.19it/s]\u001b[A\n",
      "Valid 12: loss 6.078992 0.1000:  55%|██████████████████████████████████████████████████████████████████████████████                                                                 | 6/11 [00:01<00:01,  4.87it/s]\u001b[A\n",
      "Valid 12: loss 5.962221 0.2600:  55%|██████████████████████████████████████████████████████████████████████████████                                                                 | 6/11 [00:01<00:01,  4.87it/s]\u001b[A\n",
      "Valid 12: loss 5.962221 0.2600:  64%|███████████████████████████████████████████████████████████████████████████████████████████                                                    | 7/11 [00:01<00:00,  5.47it/s]\u001b[A\n",
      "Valid 12: loss 5.915765 0.2600:  64%|███████████████████████████████████████████████████████████████████████████████████████████                                                    | 7/11 [00:02<00:00,  5.47it/s]\u001b[A\n",
      "Valid 12: loss 5.915765 0.2600:  73%|████████████████████████████████████████████████████████████████████████████████████████████████████████                                       | 8/11 [00:02<00:00,  5.77it/s]\u001b[A\n",
      "Valid 12: loss 5.928734 0.2200:  73%|████████████████████████████████████████████████████████████████████████████████████████████████████████                                       | 8/11 [00:02<00:00,  5.77it/s]\u001b[A\n",
      "Valid 12: loss 5.928734 0.2200:  82%|█████████████████████████████████████████████████████████████████████████████████████████████████████████████████████                          | 9/11 [00:02<00:00,  5.60it/s]\u001b[A\n",
      "Valid 12: loss 5.985864 0.1600:  82%|█████████████████████████████████████████████████████████████████████████████████████████████████████████████████████                          | 9/11 [00:02<00:00,  5.60it/s]\u001b[A\n",
      "Valid 12: loss 5.985864 0.1600:  91%|█████████████████████████████████████████████████████████████████████████████████████████████████████████████████████████████████             | 10/11 [00:02<00:00,  5.56it/s]\u001b[A\n",
      "Valid 12: loss 5.905081 0.1429: 100%|██████████████████████████████████████████████████████████████████████████████████████████████████████████████████████████████████████████████| 11/11 [00:02<00:00,  4.38it/s]\u001b[A\n",
      "Epoch 12: loss 0.849468 0.9200: 100%|████████████████████████████████████████████████████████████████████████████████████████████████████████████████████████████████████████████| 203/203 [01:44<00:00,  1.93it/s]\n",
      "Epoch 13: loss 0.772048 0.8000: 100%|███████████████████████████████████████████████████████████████████████████████████████████████████████████████████████████████████████████▎| 202/203 [01:40<00:00,  2.14it/s]\n",
      "  0%|                                                                                                                                                                                       | 0/11 [00:00<?, ?it/s]\u001b[A\n",
      "Valid 13: loss 5.435781 0.2200:   0%|                                                                                                                                                       | 0/11 [00:00<?, ?it/s]\u001b[A\n",
      "Valid 13: loss 5.435781 0.2200:   9%|█████████████                                                                                                                                  | 1/11 [00:00<00:07,  1.41it/s]\u001b[A\n",
      "Valid 13: loss 5.439413 0.1800:   9%|█████████████                                                                                                                                  | 1/11 [00:00<00:07,  1.41it/s]\u001b[A\n",
      "Valid 13: loss 5.439413 0.1800:  18%|██████████████████████████                                                                                                                     | 2/11 [00:00<00:03,  2.69it/s]\u001b[A\n",
      "Valid 13: loss 5.769088 0.2200:  18%|██████████████████████████                                                                                                                     | 2/11 [00:00<00:03,  2.69it/s]\u001b[A\n",
      "Valid 13: loss 5.769088 0.2200:  27%|███████████████████████████████████████                                                                                                        | 3/11 [00:00<00:02,  3.76it/s]\u001b[A\n",
      "Valid 13: loss 6.143479 0.1600:  27%|███████████████████████████████████████                                                                                                        | 3/11 [00:01<00:02,  3.76it/s]\u001b[A\n",
      "Valid 13: loss 6.143479 0.1600:  36%|████████████████████████████████████████████████████                                                                                           | 4/11 [00:01<00:02,  3.39it/s]\u001b[A\n",
      "Valid 13: loss 6.075789 0.2400:  36%|████████████████████████████████████████████████████                                                                                           | 4/11 [00:01<00:02,  3.39it/s]\u001b[A\n",
      "Valid 13: loss 6.075789 0.2400:  45%|█████████████████████████████████████████████████████████████████                                                                              | 5/11 [00:01<00:01,  4.18it/s]\u001b[A\n",
      "Valid 13: loss 6.286002 0.1800:  45%|█████████████████████████████████████████████████████████████████                                                                              | 5/11 [00:01<00:01,  4.18it/s]\u001b[A\n",
      "Valid 13: loss 6.286002 0.1800:  55%|██████████████████████████████████████████████████████████████████████████████                                                                 | 6/11 [00:01<00:01,  4.89it/s]\u001b[A\n"
     ]
    },
    {
     "name": "stderr",
     "output_type": "stream",
     "text": [
      "Valid 13: loss 6.239170 0.1600:  55%|██████████████████████████████████████████████████████████████████████████████                                                                 | 6/11 [00:01<00:01,  4.89it/s]\u001b[A\n",
      "Valid 13: loss 6.239170 0.1600:  64%|███████████████████████████████████████████████████████████████████████████████████████████                                                    | 7/11 [00:01<00:00,  5.46it/s]\u001b[A\n",
      "Valid 13: loss 6.196571 0.1400:  64%|███████████████████████████████████████████████████████████████████████████████████████████                                                    | 7/11 [00:01<00:00,  5.46it/s]\u001b[A\n",
      "Valid 13: loss 6.196571 0.1400:  73%|████████████████████████████████████████████████████████████████████████████████████████████████████████                                       | 8/11 [00:01<00:00,  5.91it/s]\u001b[A\n",
      "Valid 13: loss 6.054846 0.2800:  73%|████████████████████████████████████████████████████████████████████████████████████████████████████████                                       | 8/11 [00:02<00:00,  5.91it/s]\u001b[A\n",
      "Valid 13: loss 6.054846 0.2800:  82%|█████████████████████████████████████████████████████████████████████████████████████████████████████████████████████                          | 9/11 [00:02<00:00,  5.26it/s]\u001b[A\n",
      "Valid 13: loss 5.952659 0.2000:  82%|█████████████████████████████████████████████████████████████████████████████████████████████████████████████████████                          | 9/11 [00:02<00:00,  5.26it/s]\u001b[A\n",
      "Valid 13: loss 5.952659 0.2000:  91%|█████████████████████████████████████████████████████████████████████████████████████████████████████████████████████████████████             | 10/11 [00:02<00:00,  5.72it/s]\u001b[A\n",
      "Valid 13: loss 5.795527 0.0000: 100%|██████████████████████████████████████████████████████████████████████████████████████████████████████████████████████████████████████████████| 11/11 [00:02<00:00,  4.69it/s]\u001b[A\n",
      "Epoch 13: loss 0.772048 0.8000: 100%|████████████████████████████████████████████████████████████████████████████████████████████████████████████████████████████████████████████| 203/203 [01:43<00:00,  1.97it/s]\n"
     ]
    },
    {
     "name": "stdout",
     "output_type": "stream",
     "text": [
      "EarlyStopping counter: 1 out of 30\n"
     ]
    },
    {
     "name": "stderr",
     "output_type": "stream",
     "text": [
      "Epoch 14: loss 0.655697 0.7800:  44%|██████████████████████████████████████████████████████████████▌                                                                              | 90/203 [00:44<00:52,  2.15it/s]"
     ]
    }
   ],
   "source": [
    "trainer.fit()"
   ]
  },
  {
   "cell_type": "code",
   "execution_count": null,
   "id": "76e4bbf5",
   "metadata": {},
   "outputs": [],
   "source": [
    "model.load_state_dict(torch.load(trainer.es_path+'checkpoint.pt'))"
   ]
  },
  {
   "cell_type": "code",
   "execution_count": null,
   "id": "a4e0d20d",
   "metadata": {},
   "outputs": [],
   "source": [
    "def compute_acc(model, loader):\n",
    "    with torch.no_grad():\n",
    "        preds = []\n",
    "        ys = []\n",
    "        for data in tqdm.tqdm(loader):\n",
    "            data = [to_cuda(dd, device) for dd in data]\n",
    "            pred = model(*data[:-1])\n",
    "            pred = torch.argmax(pred, dim=1).detach().cpu().numpy().tolist()\n",
    "            y = data[-1].detach().cpu().numpy().tolist()\n",
    "            preds += pred\n",
    "            ys += y\n",
    "    return (np.asarray(preds) == np.asarray(ys)).sum()/len(ys)\n",
    "            "
   ]
  },
  {
   "cell_type": "code",
   "execution_count": null,
   "id": "865643ae",
   "metadata": {},
   "outputs": [],
   "source": [
    "run.log({'Valid Accuracy': compute_acc(model, validloader)})\n",
    "run.log({'Test Accuracy': compute_acc(model, testloader)})"
   ]
  },
  {
   "cell_type": "code",
   "execution_count": null,
   "id": "a6fd337c",
   "metadata": {},
   "outputs": [],
   "source": [
    "compute_acc(model, testloader)"
   ]
  },
  {
   "cell_type": "code",
   "execution_count": null,
   "id": "ca129e94",
   "metadata": {},
   "outputs": [],
   "source": [
    "compute_acc(model, validloader)"
   ]
  },
  {
   "cell_type": "code",
   "execution_count": null,
   "id": "fde966bc",
   "metadata": {},
   "outputs": [],
   "source": []
  }
 ],
 "metadata": {
  "kernelspec": {
   "display_name": "Python 3 (ipykernel)",
   "language": "python",
   "name": "python3"
  },
  "language_info": {
   "codemirror_mode": {
    "name": "ipython",
    "version": 3
   },
   "file_extension": ".py",
   "mimetype": "text/x-python",
   "name": "python",
   "nbconvert_exporter": "python",
   "pygments_lexer": "ipython3",
   "version": "3.8.3"
  }
 },
 "nbformat": 4,
 "nbformat_minor": 5
}
