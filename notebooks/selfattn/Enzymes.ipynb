{
 "cells": [
  {
   "cell_type": "code",
   "execution_count": 1,
   "id": "49a7ca25",
   "metadata": {},
   "outputs": [],
   "source": [
    "%load_ext autoreload\n",
    "%autoreload 2"
   ]
  },
  {
   "cell_type": "code",
   "execution_count": 2,
   "id": "0033798e",
   "metadata": {},
   "outputs": [
    {
     "name": "stderr",
     "output_type": "stream",
     "text": [
      "WARNING:root:No normalization for BCUT2D_MWHI\n",
      "WARNING:root:No normalization for BCUT2D_MWLOW\n",
      "WARNING:root:No normalization for BCUT2D_CHGHI\n",
      "WARNING:root:No normalization for BCUT2D_CHGLO\n",
      "WARNING:root:No normalization for BCUT2D_LOGPHI\n",
      "WARNING:root:No normalization for BCUT2D_LOGPLOW\n",
      "WARNING:root:No normalization for BCUT2D_MRHI\n",
      "WARNING:root:No normalization for BCUT2D_MRLOW\n"
     ]
    }
   ],
   "source": [
    "import json\n",
    "import numpy as np\n",
    "from torch.utils.data import Dataset, DataLoader\n",
    "import glob\n",
    "import wandb\n",
    "import os\n",
    "import torch.optim as optimizers\n",
    "import dfs_code\n",
    "from torch_geometric.data import InMemoryDataset, Data\n",
    "import pickle\n",
    "import torch\n",
    "import torch.nn as nn\n",
    "import tqdm\n",
    "import copy\n",
    "import pandas as pd\n",
    "import torch.nn.functional as F\n",
    "import sys\n",
    "import yaml\n",
    "import functools\n",
    "from ml_collections import ConfigDict\n",
    "sys.path = ['../../src'] + sys.path\n",
    "from dfs_transformer import DFSCodeSeq2SeqFC, Deepchem2TorchGeometric, Trainer, to_cuda, Enzymes"
   ]
  },
  {
   "cell_type": "code",
   "execution_count": 3,
   "id": "ee7962f8",
   "metadata": {},
   "outputs": [],
   "source": [
    "def collate_fn(dlist, alpha=0, n_classes=384):\n",
    "    node_batch = [] \n",
    "    edge_batch = []\n",
    "    y_batch = []\n",
    "    code_batch = []\n",
    "    for d in dlist:\n",
    "        node_batch += [d.node_features.clone()]\n",
    "        edge_batch += [d.edge_features.clone()]\n",
    "        code_batch += [d.min_dfs_code.clone()]\n",
    "        y_batch += [d.y]\n",
    "    y = torch.tensor(y_batch, dtype=torch.long)\n",
    "    #y = (1-alpha)*y + alpha/n_classes\n",
    "    return code_batch, node_batch, edge_batch, y"
   ]
  },
  {
   "cell_type": "code",
   "execution_count": 4,
   "id": "9838e688",
   "metadata": {},
   "outputs": [],
   "source": [
    "m = ConfigDict()\n",
    "t = ConfigDict()\n",
    "d = ConfigDict()"
   ]
  },
  {
   "cell_type": "code",
   "execution_count": 5,
   "id": "2dec3e52",
   "metadata": {},
   "outputs": [],
   "source": [
    "m[\"class\"] = \"DFSCodeSeq2SeqFC\"\n",
    "m[\"n_atoms\"] = 26\n",
    "m[\"n_bonds\"] = 8\n",
    "m[\"emb_dim\"] = 60\n",
    "m[\"nhead\"] = 12\n",
    "m[\"nlayers\"] = 6\n",
    "m[\"max_nodes\"] = 200\n",
    "m[\"max_edges\"] = 600\n",
    "m[\"dim_feedforward\"] = 2048\n",
    "m[\"missing_value\"] = None\n",
    "m[\"n_node_features\"] = 26\n",
    "m[\"n_edge_features\"] = 8\n",
    "m[\"n_class_tokens\"] = 1 \n",
    "m[\"use_min\"] = True\n",
    "\n",
    "t[\"batch_size\"] = 50\n",
    "t[\"gpu_id\"] = 0\n",
    "t[\"load_last\"] = False\n",
    "t[\"fingerprint\"] = \"cls\"\n",
    "t[\"accumulate_grads\"] = 2\n",
    "t[\"alpha\"] = 0.0\n",
    "t[\"clip_gradient\"] = 0.5\n",
    "t[\"decay_factor\"] = 0.8\n",
    "t[\"es_improvement\"] = 0.0\n",
    "t[\"es_path\"] = None\n",
    "t[\"es_patience\"] = 10\n",
    "t[\"es_period\"] = 166\n",
    "t[\"lr_head\"] = 0.003\n",
    "t[\"lr_encoder\"] = 0.0003 # 0.00003\n",
    "t[\"lr_patience\"] = 3\n",
    "t[\"lr_adjustment_period\"] = 166\n",
    "t[\"wdecay_encoder\"] = 0.0\n",
    "t[\"n_epochs\"] = 25\n",
    "t[\"struct\"] = True\n",
    "t[\"seed\"] = 123\n",
    "t[\"num_workers\"] = 8\n",
    "\n",
    "d[\"n_classes\"] = 384\n",
    "d[\"path\"] = \"/mnt/ssd/datasets/enzyme/restrictive_n200_dleq4.5.pkl\"\n",
    "d[\"n_edge_types\"] = 8\n",
    "d[\"n_node_types\"] = 122"
   ]
  },
  {
   "cell_type": "code",
   "execution_count": 6,
   "id": "e69ff7ec",
   "metadata": {},
   "outputs": [],
   "source": [
    "mode = \"online\"\n",
    "name = \"dfstr*.-%d-%d\"%(m.emb_dim*5, m.nhead)\n",
    "project = \"enzymes-n200\""
   ]
  },
  {
   "cell_type": "code",
   "execution_count": 7,
   "id": "6a8e1cf2",
   "metadata": {},
   "outputs": [],
   "source": [
    "dataset = Enzymes()"
   ]
  },
  {
   "cell_type": "code",
   "execution_count": 8,
   "id": "9ba9ca6b",
   "metadata": {},
   "outputs": [],
   "source": [
    "train_idx = torch.tensor([idx for idx, d in enumerate(dataset) if d.split == \"train\"], dtype=torch.long)\n",
    "valid_idx = torch.tensor([idx for idx, d in enumerate(dataset) if d.split == \"valid\"], dtype=torch.long)\n",
    "test_idx = torch.tensor([idx for idx, d in enumerate(dataset) if d.split == \"test\"], dtype=torch.long)"
   ]
  },
  {
   "cell_type": "code",
   "execution_count": 9,
   "id": "48bf51a3",
   "metadata": {},
   "outputs": [],
   "source": [
    "coll_train = functools.partial(collate_fn, alpha=t.alpha, n_classes=d.n_classes)"
   ]
  },
  {
   "cell_type": "code",
   "execution_count": 10,
   "id": "735f442a",
   "metadata": {},
   "outputs": [],
   "source": [
    "trainloader = DataLoader(dataset, sampler=torch.utils.data.SubsetRandomSampler(train_idx), \n",
    "                         batch_size=t.batch_size, collate_fn=coll_train, num_workers=t.num_workers)\n",
    "validloader = DataLoader(dataset, sampler=torch.utils.data.SubsetRandomSampler(valid_idx), \n",
    "                         batch_size=t.batch_size, collate_fn=collate_fn, num_workers=t.num_workers)\n",
    "testloader = DataLoader(dataset, sampler=torch.utils.data.SubsetRandomSampler(test_idx), \n",
    "                        batch_size=t.batch_size, collate_fn=collate_fn, num_workers=t.num_workers)"
   ]
  },
  {
   "cell_type": "code",
   "execution_count": 11,
   "id": "198caa53",
   "metadata": {},
   "outputs": [],
   "source": [
    "config = ConfigDict()\n",
    "config[\"model\"] = m\n",
    "config[\"training\"] = t\n",
    "config[\"data\"] = d"
   ]
  },
  {
   "cell_type": "code",
   "execution_count": 12,
   "id": "69384b8c",
   "metadata": {},
   "outputs": [
    {
     "name": "stderr",
     "output_type": "stream",
     "text": [
      "ERROR:wandb.jupyter:Failed to detect the name of this notebook, you can set it manually with the WANDB_NOTEBOOK_NAME environment variable to enable code saving.\n",
      "\u001b[34m\u001b[1mwandb\u001b[0m: Currently logged in as: \u001b[33mchrisxx\u001b[0m (use `wandb login --relogin` to force relogin)\n",
      "\u001b[34m\u001b[1mwandb\u001b[0m: wandb version 0.12.3 is available!  To upgrade, please run:\n",
      "\u001b[34m\u001b[1mwandb\u001b[0m:  $ pip install wandb --upgrade\n",
      "2021-10-01 19:07:01.731774: W tensorflow/stream_executor/platform/default/dso_loader.cc:64] Could not load dynamic library 'libcudart.so.11.0'; dlerror: libcudart.so.11.0: cannot open shared object file: No such file or directory; LD_LIBRARY_PATH: :/opt/cuda/extras/CUPTI/lib64/:/opt/intel/lib:/opt/intel/mkl/lib/intel64:/opt/intel:/opt/ibm/ILOG/CPLEX_Studio1210/cplex/bin/x86-64_linux:/opt/ibm/ILOG/CPLEX_Studio1210/cplex/python/3.7/x86-64_linux:/opt/intel/clck_latest/lib:/opt/intel/daal/lib:/opt/intel/intelpython3/lib:/opt/intel/ipp/lib:/opt/intel/itac_2019/lib:/opt/intel/itac_latest/lib:/opt/intel/mkl/lib:/opt/intel/mkl_/lib:/opt/intel/mpirt/lib:/opt/intel/tbb/lib:/opt/intel/clck/2019.0/lib:/opt/intel/compilers_and_libraries_2019/linux/lib:/opt/intel/compilers_and_libraries/linux/lib:/opt/intel/itac/2019.0.018/lib:/opt/intel/itac_2019/intel64/lib:/opt/intel/itac_latest/intel64/lib:/opt/intel/parallel_studio_xe_2019.0.045/clck_2019/lib:/opt/intel/parallel_studio_xe_2019.0.045/itac_2019/lib:/opt/intel/parallel_studio_xe_2019/clck_2019/lib:/opt/intel/parallel_studio_xe_2019/itac_2019/lib:/opt/cuda/extras/CUPTI/lib64/:/opt/intel/lib:/opt/intel/mkl/lib/intel64:/opt/intel:/opt/ibm/ILOG/CPLEX_Studio1210/cplex/bin/x86-64_linux:/opt/ibm/ILOG/CPLEX_Studio1210/cplex/python/3.7/x86-64_linux:/opt/intel/clck_latest/lib:/opt/intel/daal/lib:/opt/intel/intelpython3/lib:/opt/intel/ipp/lib:/opt/intel/itac_2019/lib:/opt/intel/itac_latest/lib:/opt/intel/mkl/lib:/opt/intel/mkl_/lib:/opt/intel/mpirt/lib:/opt/intel/tbb/lib:/opt/intel/clck/2019.0/lib:/opt/intel/compilers_and_libraries_2019/linux/lib:/opt/intel/compilers_and_libraries/linux/lib:/opt/intel/itac/2019.0.018/lib:/opt/intel/itac_2019/intel64/lib:/opt/intel/itac_latest/intel64/lib:/opt/intel/parallel_studio_xe_2019.0.045/clck_2019/lib:/opt/intel/parallel_studio_xe_2019.0.045/itac_2019/lib:/opt/intel/parallel_studio_xe_2019/clck_2019/lib:/opt/intel/parallel_studio_xe_2019/itac_2019/lib\n",
      "2021-10-01 19:07:01.731795: I tensorflow/stream_executor/cuda/cudart_stub.cc:29] Ignore above cudart dlerror if you do not have a GPU set up on your machine.\n"
     ]
    },
    {
     "data": {
      "text/html": [
       "\n",
       "                Tracking run with wandb version 0.10.33<br/>\n",
       "                Syncing run <strong style=\"color:#cdcd00\">dfstr*.-300-12</strong> to <a href=\"https://wandb.ai\" target=\"_blank\">Weights & Biases</a> <a href=\"https://docs.wandb.com/integrations/jupyter.html\" target=\"_blank\">(Documentation)</a>.<br/>\n",
       "                Project page: <a href=\"https://wandb.ai/dfstransformer/enzymes-n200\" target=\"_blank\">https://wandb.ai/dfstransformer/enzymes-n200</a><br/>\n",
       "                Run page: <a href=\"https://wandb.ai/dfstransformer/enzymes-n200/runs/6of7pyos\" target=\"_blank\">https://wandb.ai/dfstransformer/enzymes-n200/runs/6of7pyos</a><br/>\n",
       "                Run data is saved locally in <code>/home/chrisw/Documents/projects/2021/graph-transformer/notebooks/selfattn/wandb/run-20211001_190700-6of7pyos</code><br/><br/>\n",
       "            "
      ],
      "text/plain": [
       "<IPython.core.display.HTML object>"
      ]
     },
     "metadata": {},
     "output_type": "display_data"
    }
   ],
   "source": [
    "run = wandb.init(mode=mode, project=project, entity=\"dfstransformer\", \n",
    "                 name=name, config=config.to_dict(), job_type=\"evaluation\")"
   ]
  },
  {
   "cell_type": "code",
   "execution_count": 13,
   "id": "6a92cba2",
   "metadata": {},
   "outputs": [],
   "source": [
    "ce = nn.CrossEntropyLoss(ignore_index=-1)"
   ]
  },
  {
   "cell_type": "code",
   "execution_count": 14,
   "id": "a8c39aa6",
   "metadata": {},
   "outputs": [],
   "source": [
    "class TransformerPlusHead(nn.Module):\n",
    "    def __init__(self, encoder, n_classes, fingerprint='cls'):\n",
    "        super(TransformerPlusHead, self).__init__()\n",
    "        self.encoder = encoder\n",
    "        n_encoding = encoder.get_n_encoding(fingerprint)\n",
    "        self.head = nn.Linear(n_encoding, n_classes)\n",
    "        self.fingerprint = fingerprint\n",
    "    \n",
    "    def forward(self, C, N, E):\n",
    "        features = self.encoder.encode(C, N, E, method=self.fingerprint)\n",
    "        output = self.head(features)\n",
    "        return output\n",
    "        "
   ]
  },
  {
   "cell_type": "code",
   "execution_count": 15,
   "id": "df6e9d7d",
   "metadata": {},
   "outputs": [],
   "source": [
    "def loss(pred, y, ce=ce):\n",
    "    return ce(pred, y)\n",
    "\n",
    "def acc(pred, y):\n",
    "    return torch.sum(torch.argmax(pred, dim=1) == y)/len(y)"
   ]
  },
  {
   "cell_type": "code",
   "execution_count": 16,
   "id": "a89213a7",
   "metadata": {},
   "outputs": [],
   "source": [
    "device = torch.device('cuda:%d'%t.gpu_id if torch.cuda.is_available()  else 'cpu')\n",
    "encoder = DFSCodeSeq2SeqFC(**m)\n",
    "    \n",
    "#if t.load_last and model_dir is not None:\n",
    "#    encoder.load_state_dict(torch.load(model_dir+'/checkpoint.pt', map_location=device))"
   ]
  },
  {
   "cell_type": "code",
   "execution_count": 17,
   "id": "998ec1f8",
   "metadata": {},
   "outputs": [],
   "source": [
    "model = TransformerPlusHead(encoder, d.n_classes, fingerprint=t.fingerprint)"
   ]
  },
  {
   "cell_type": "code",
   "execution_count": 18,
   "id": "e4b18162",
   "metadata": {},
   "outputs": [],
   "source": [
    "param_groups = [\n",
    "    {'amsgrad': False,\n",
    "     'betas': (0.9,0.98),\n",
    "     'eps': 1e-09,\n",
    "     'lr': t.lr_encoder,\n",
    "     'params': model.encoder.parameters(),\n",
    "     'weight_decay': t.wdecay_encoder},\n",
    "    {'amsgrad': False,\n",
    "     'betas': (0.9, 0.999),\n",
    "     'eps': 1e-08,\n",
    "     'lr': t.lr_head,\n",
    "     'params': model.head.parameters(),\n",
    "     'weight_decay': 0}\n",
    "]"
   ]
  },
  {
   "cell_type": "code",
   "execution_count": 19,
   "id": "2934c934",
   "metadata": {},
   "outputs": [
    {
     "data": {
      "text/plain": [
       "accumulate_grads: 2\n",
       "alpha: 0.0\n",
       "batch_size: 50\n",
       "clip_gradient: 0.5\n",
       "decay_factor: 0.8\n",
       "es_improvement: 0.0\n",
       "es_path: null\n",
       "es_patience: 10\n",
       "es_period: 166\n",
       "fingerprint: cls\n",
       "gpu_id: 0\n",
       "load_last: false\n",
       "lr_adjustment_period: 166\n",
       "lr_encoder: 0.0003\n",
       "lr_head: 0.003\n",
       "lr_patience: 3\n",
       "n_epochs: 25\n",
       "num_workers: 8\n",
       "seed: 123\n",
       "struct: true\n",
       "wdecay_encoder: 0.0"
      ]
     },
     "execution_count": 19,
     "metadata": {},
     "output_type": "execute_result"
    }
   ],
   "source": [
    "t"
   ]
  },
  {
   "cell_type": "code",
   "execution_count": 20,
   "id": "57f93c6d",
   "metadata": {},
   "outputs": [],
   "source": [
    "trainer = Trainer(model, trainloader, loss, validloader=validloader, metrics={'acc': acc}, wandb_run = run, param_groups=param_groups, **t)"
   ]
  },
  {
   "cell_type": "code",
   "execution_count": 21,
   "id": "a20a1ec8",
   "metadata": {},
   "outputs": [
    {
     "name": "stderr",
     "output_type": "stream",
     "text": [
      "Epoch 1: loss 4.257718 0.1190:  99%|████████████████████████████████████████████████████████████████████████████████████████████████████████████████████████████████████████████▏| 165/166 [00:51<00:00,  3.56it/s]\n",
      "  0%|                                                                                                                                                                                        | 0/9 [00:00<?, ?it/s]\u001b[A\n",
      "Valid 1: loss 5.811506 0.0000:   0%|                                                                                                                                                         | 0/9 [00:00<?, ?it/s]\u001b[A\n",
      "Valid 1: loss 5.811506 0.0000:  11%|████████████████                                                                                                                                 | 1/9 [00:00<00:05,  1.60it/s]\u001b[A\n",
      "Valid 1: loss 5.779047 0.0000:  11%|████████████████                                                                                                                                 | 1/9 [00:00<00:05,  1.60it/s]\u001b[A\n",
      "Valid 1: loss 5.892687 0.0000:  11%|████████████████                                                                                                                                 | 1/9 [00:00<00:05,  1.60it/s]\u001b[A\n",
      "Valid 1: loss 5.892687 0.0000:  33%|████████████████████████████████████████████████▎                                                                                                | 3/9 [00:00<00:01,  4.19it/s]\u001b[A\n",
      "Valid 1: loss 5.734011 0.0000:  33%|████████████████████████████████████████████████▎                                                                                                | 3/9 [00:01<00:01,  4.19it/s]\u001b[A\n",
      "Valid 1: loss 5.734011 0.0000:  44%|████████████████████████████████████████████████████████████████▍                                                                                | 4/9 [00:01<00:01,  4.29it/s]\u001b[A\n",
      "Valid 1: loss 5.852085 0.0000:  44%|████████████████████████████████████████████████████████████████▍                                                                                | 4/9 [00:01<00:01,  4.29it/s]\u001b[A\n",
      "Valid 1: loss 5.861485 0.0000:  44%|████████████████████████████████████████████████████████████████▍                                                                                | 4/9 [00:01<00:01,  4.29it/s]\u001b[A\n",
      "Valid 1: loss 5.861485 0.0000:  67%|████████████████████████████████████████████████████████████████████████████████████████████████▋                                                | 6/9 [00:01<00:00,  6.02it/s]\u001b[A\n",
      "Valid 1: loss 5.881385 0.0000:  67%|████████████████████████████████████████████████████████████████████████████████████████████████▋                                                | 6/9 [00:01<00:00,  6.02it/s]\u001b[A\n",
      "Valid 1: loss 5.850460 0.0000:  67%|████████████████████████████████████████████████████████████████████████████████████████████████▋                                                | 6/9 [00:01<00:00,  6.02it/s]\u001b[A\n",
      "Valid 1: loss 5.850460 0.0000:  89%|████████████████████████████████████████████████████████████████████████████████████████████████████████████████████████████████▉                | 8/9 [00:01<00:00,  7.62it/s]\u001b[A\n",
      "Valid 1: loss 5.818579 0.0000: 100%|█████████████████████████████████████████████████████████████████████████████████████████████████████████████████████████████████████████████████| 9/9 [00:01<00:00,  6.00it/s]\u001b[A\n",
      "Epoch 1: loss 4.257718 0.1190: 100%|█████████████████████████████████████████████████████████████████████████████████████████████████████████████████████████████████████████████| 166/166 [00:53<00:00,  3.13it/s]\n",
      "Epoch 2: loss 3.691516 0.2857:  99%|████████████████████████████████████████████████████████████████████████████████████████████████████████████████████████████████████████████▏| 165/166 [00:51<00:00,  3.45it/s]\n",
      "  0%|                                                                                                                                                                                        | 0/9 [00:00<?, ?it/s]\u001b[A\n",
      "Valid 2: loss 5.699872 0.0000:   0%|                                                                                                                                                         | 0/9 [00:00<?, ?it/s]\u001b[A\n",
      "Valid 2: loss 5.699872 0.0000:  11%|████████████████                                                                                                                                 | 1/9 [00:00<00:07,  1.09it/s]\u001b[A\n",
      "Valid 2: loss 5.741915 0.0000:  11%|████████████████                                                                                                                                 | 1/9 [00:00<00:07,  1.09it/s]\u001b[A\n",
      "Valid 2: loss 5.802252 0.0000:  11%|████████████████                                                                                                                                 | 1/9 [00:01<00:07,  1.09it/s]\u001b[A\n",
      "Valid 2: loss 5.802252 0.0000:  33%|████████████████████████████████████████████████▎                                                                                                | 3/9 [00:01<00:01,  3.35it/s]\u001b[A\n",
      "Valid 2: loss 5.763276 0.0000:  33%|████████████████████████████████████████████████▎                                                                                                | 3/9 [00:01<00:01,  3.35it/s]\u001b[A\n",
      "Valid 2: loss 5.769040 0.0000:  33%|████████████████████████████████████████████████▎                                                                                                | 3/9 [00:01<00:01,  3.35it/s]\u001b[A\n",
      "Valid 2: loss 5.769040 0.0000:  56%|████████████████████████████████████████████████████████████████████████████████▌                                                                | 5/9 [00:01<00:00,  5.27it/s]\u001b[A\n",
      "Valid 2: loss 5.717092 0.0000:  56%|████████████████████████████████████████████████████████████████████████████████▌                                                                | 5/9 [00:01<00:00,  5.27it/s]\u001b[A\n",
      "Valid 2: loss 5.601185 0.0400:  56%|████████████████████████████████████████████████████████████████████████████████▌                                                                | 5/9 [00:01<00:00,  5.27it/s]\u001b[A\n",
      "Valid 2: loss 5.601185 0.0400:  78%|████████████████████████████████████████████████████████████████████████████████████████████████████████████████▊                                | 7/9 [00:01<00:00,  6.84it/s]\u001b[A\n",
      "Valid 2: loss 5.675893 0.0000:  78%|████████████████████████████████████████████████████████████████████████████████████████████████████████████████▊                                | 7/9 [00:01<00:00,  6.84it/s]\u001b[A\n",
      "Valid 2: loss 5.668480 0.0000:  78%|████████████████████████████████████████████████████████████████████████████████████████████████████████████████▊                                | 7/9 [00:01<00:00,  6.84it/s]\u001b[A\n",
      "Valid 2: loss 5.668480 0.0000: 100%|█████████████████████████████████████████████████████████████████████████████████████████████████████████████████████████████████████████████████| 9/9 [00:01<00:00,  5.59it/s]\u001b[A\n",
      "Epoch 2: loss 3.691516 0.2857: 100%|█████████████████████████████████████████████████████████████████████████████████████████████████████████████████████████████████████████████| 166/166 [00:53<00:00,  3.09it/s]\n",
      "Epoch 3: loss 3.374879 0.2619:  99%|████████████████████████████████████████████████████████████████████████████████████████████████████████████████████████████████████████████▏| 165/166 [00:52<00:00,  3.58it/s]\n",
      "  0%|                                                                                                                                                                                        | 0/9 [00:00<?, ?it/s]\u001b[A\n",
      "Valid 3: loss 5.704285 0.0000:   0%|                                                                                                                                                         | 0/9 [00:00<?, ?it/s]\u001b[A\n",
      "Valid 3: loss 5.704285 0.0000:  11%|████████████████                                                                                                                                 | 1/9 [00:00<00:07,  1.14it/s]\u001b[A\n"
     ]
    },
    {
     "name": "stderr",
     "output_type": "stream",
     "text": [
      "Valid 3: loss 5.661638 0.0000:  11%|████████████████                                                                                                                                 | 1/9 [00:01<00:07,  1.14it/s]\u001b[A\n",
      "Valid 3: loss 5.661638 0.0000:  22%|████████████████████████████████▏                                                                                                                | 2/9 [00:01<00:03,  1.98it/s]\u001b[A\n",
      "Valid 3: loss 5.566977 0.0000:  22%|████████████████████████████████▏                                                                                                                | 2/9 [00:01<00:03,  1.98it/s]\u001b[A\n",
      "Valid 3: loss 5.664546 0.0000:  22%|████████████████████████████████▏                                                                                                                | 2/9 [00:01<00:03,  1.98it/s]\u001b[A\n",
      "Valid 3: loss 5.664546 0.0000:  44%|████████████████████████████████████████████████████████████████▍                                                                                | 4/9 [00:01<00:01,  3.98it/s]\u001b[A\n",
      "Valid 3: loss 5.558566 0.0000:  44%|████████████████████████████████████████████████████████████████▍                                                                                | 4/9 [00:01<00:01,  3.98it/s]\u001b[A\n",
      "Valid 3: loss 5.581724 0.0000:  44%|████████████████████████████████████████████████████████████████▍                                                                                | 4/9 [00:01<00:01,  3.98it/s]\u001b[A\n",
      "Valid 3: loss 5.581724 0.0000:  67%|████████████████████████████████████████████████████████████████████████████████████████████████▋                                                | 6/9 [00:01<00:00,  5.69it/s]\u001b[A\n",
      "Valid 3: loss 5.556586 0.0200:  67%|████████████████████████████████████████████████████████████████████████████████████████████████▋                                                | 6/9 [00:01<00:00,  5.69it/s]\u001b[A\n",
      "Valid 3: loss 5.575381 0.0000:  67%|████████████████████████████████████████████████████████████████████████████████████████████████▋                                                | 6/9 [00:01<00:00,  5.69it/s]\u001b[A\n",
      "Valid 3: loss 5.575381 0.0000:  89%|████████████████████████████████████████████████████████████████████████████████████████████████████████████████████████████████▉                | 8/9 [00:01<00:00,  7.24it/s]\u001b[A\n",
      "Valid 3: loss 5.526027 0.0000: 100%|█████████████████████████████████████████████████████████████████████████████████████████████████████████████████████████████████████████████████| 9/9 [00:01<00:00,  5.13it/s]\u001b[A\n",
      "Epoch 3: loss 3.374879 0.2619: 100%|█████████████████████████████████████████████████████████████████████████████████████████████████████████████████████████████████████████████| 166/166 [00:54<00:00,  3.05it/s]\n",
      "Epoch 4: loss 3.125982 0.3333:  99%|████████████████████████████████████████████████████████████████████████████████████████████████████████████████████████████████████████████▏| 165/166 [00:51<00:00,  3.35it/s]\n",
      "  0%|                                                                                                                                                                                        | 0/9 [00:00<?, ?it/s]\u001b[A\n",
      "Valid 4: loss 5.672344 0.0400:   0%|                                                                                                                                                         | 0/9 [00:00<?, ?it/s]\u001b[A\n",
      "Valid 4: loss 5.672344 0.0400:  11%|████████████████                                                                                                                                 | 1/9 [00:00<00:04,  1.81it/s]\u001b[A\n",
      "Valid 4: loss 5.672164 0.0200:  11%|████████████████                                                                                                                                 | 1/9 [00:00<00:04,  1.81it/s]\u001b[A\n",
      "Valid 4: loss 5.672164 0.0200:  22%|████████████████████████████████▏                                                                                                                | 2/9 [00:00<00:02,  3.35it/s]\u001b[A\n",
      "Valid 4: loss 5.538090 0.0200:  22%|████████████████████████████████▏                                                                                                                | 2/9 [00:00<00:02,  3.35it/s]\u001b[A\n",
      "Valid 4: loss 5.538090 0.0200:  33%|████████████████████████████████████████████████▎                                                                                                | 3/9 [00:00<00:01,  4.52it/s]\u001b[A\n",
      "Valid 4: loss 5.674260 0.0200:  33%|████████████████████████████████████████████████▎                                                                                                | 3/9 [00:00<00:01,  4.52it/s]\u001b[A\n",
      "Valid 4: loss 5.543785 0.0000:  33%|████████████████████████████████████████████████▎                                                                                                | 3/9 [00:00<00:01,  4.52it/s]\u001b[A\n",
      "Valid 4: loss 5.543785 0.0000:  56%|████████████████████████████████████████████████████████████████████████████████▌                                                                | 5/9 [00:00<00:00,  6.66it/s]\u001b[A\n",
      "Valid 4: loss 5.539504 0.0000:  56%|████████████████████████████████████████████████████████████████████████████████▌                                                                | 5/9 [00:01<00:00,  6.66it/s]\u001b[A\n",
      "Valid 4: loss 5.539504 0.0000:  67%|████████████████████████████████████████████████████████████████████████████████████████████████▋                                                | 6/9 [00:01<00:00,  6.89it/s]\u001b[A\n",
      "Valid 4: loss 5.499509 0.0200:  67%|████████████████████████████████████████████████████████████████████████████████████████████████▋                                                | 6/9 [00:01<00:00,  6.89it/s]\u001b[A\n",
      "Valid 4: loss 5.499509 0.0200:  78%|████████████████████████████████████████████████████████████████████████████████████████████████████████████████▊                                | 7/9 [00:01<00:00,  7.30it/s]\u001b[A\n",
      "Valid 4: loss 5.463146 0.0600:  78%|████████████████████████████████████████████████████████████████████████████████████████████████████████████████▊                                | 7/9 [00:01<00:00,  7.30it/s]\u001b[A\n",
      "Valid 4: loss 5.463146 0.0600:  89%|████████████████████████████████████████████████████████████████████████████████████████████████████████████████████████████████▉                | 8/9 [00:01<00:00,  7.17it/s]\u001b[A\n",
      "Valid 4: loss 5.349294 0.0000: 100%|█████████████████████████████████████████████████████████████████████████████████████████████████████████████████████████████████████████████████| 9/9 [00:01<00:00,  6.12it/s]\u001b[A\n",
      "Epoch 4: loss 3.125982 0.3333: 100%|█████████████████████████████████████████████████████████████████████████████████████████████████████████████████████████████████████████████| 166/166 [00:53<00:00,  3.11it/s]\n",
      "Epoch 5: loss 2.905357 0.3571:  99%|████████████████████████████████████████████████████████████████████████████████████████████████████████████████████████████████████████████▏| 165/166 [00:52<00:00,  3.36it/s]\n",
      "  0%|                                                                                                                                                                                        | 0/9 [00:00<?, ?it/s]\u001b[A\n",
      "Valid 5: loss 4.911032 0.1400:   0%|                                                                                                                                                         | 0/9 [00:00<?, ?it/s]\u001b[A\n",
      "Valid 5: loss 4.911032 0.1400:  11%|████████████████                                                                                                                                 | 1/9 [00:00<00:06,  1.21it/s]\u001b[A\n",
      "Valid 5: loss 5.460667 0.0400:  11%|████████████████                                                                                                                                 | 1/9 [00:00<00:06,  1.21it/s]\u001b[A\n",
      "Valid 5: loss 5.506699 0.0800:  11%|████████████████                                                                                                                                 | 1/9 [00:01<00:06,  1.21it/s]\u001b[A\n"
     ]
    },
    {
     "name": "stderr",
     "output_type": "stream",
     "text": [
      "Valid 5: loss 5.506699 0.0800:  33%|████████████████████████████████████████████████▎                                                                                                | 3/9 [00:01<00:01,  3.50it/s]\u001b[A\n",
      "Valid 5: loss 5.581709 0.0600:  33%|████████████████████████████████████████████████▎                                                                                                | 3/9 [00:01<00:01,  3.50it/s]\u001b[A\n",
      "Valid 5: loss 5.503116 0.0600:  33%|████████████████████████████████████████████████▎                                                                                                | 3/9 [00:01<00:01,  3.50it/s]\u001b[A\n",
      "Valid 5: loss 5.503116 0.0600:  56%|████████████████████████████████████████████████████████████████████████████████▌                                                                | 5/9 [00:01<00:00,  5.50it/s]\u001b[A\n",
      "Valid 5: loss 5.532894 0.0600:  56%|████████████████████████████████████████████████████████████████████████████████▌                                                                | 5/9 [00:01<00:00,  5.50it/s]\u001b[A\n",
      "Valid 5: loss 5.482011 0.0600:  56%|████████████████████████████████████████████████████████████████████████████████▌                                                                | 5/9 [00:01<00:00,  5.50it/s]\u001b[A\n",
      "Valid 5: loss 5.482011 0.0600:  78%|████████████████████████████████████████████████████████████████████████████████████████████████████████████████▊                                | 7/9 [00:01<00:00,  7.24it/s]\u001b[A\n",
      "Valid 5: loss 5.431718 0.1200:  78%|████████████████████████████████████████████████████████████████████████████████████████████████████████████████▊                                | 7/9 [00:01<00:00,  7.24it/s]\u001b[A\n",
      "Valid 5: loss 5.271288 0.1667:  78%|████████████████████████████████████████████████████████████████████████████████████████████████████████████████▊                                | 7/9 [00:01<00:00,  7.24it/s]\u001b[A\n",
      "Valid 5: loss 5.271288 0.1667: 100%|█████████████████████████████████████████████████████████████████████████████████████████████████████████████████████████████████████████████████| 9/9 [00:01<00:00,  5.83it/s]\u001b[A\n",
      "Epoch 5: loss 2.905357 0.3571: 100%|█████████████████████████████████████████████████████████████████████████████████████████████████████████████████████████████████████████████| 166/166 [00:54<00:00,  3.04it/s]\n",
      "Epoch 6: loss 2.682616 0.3810:  99%|████████████████████████████████████████████████████████████████████████████████████████████████████████████████████████████████████████████▏| 165/166 [00:50<00:00,  3.74it/s]\n",
      "  0%|                                                                                                                                                                                        | 0/9 [00:00<?, ?it/s]\u001b[A\n",
      "Valid 6: loss 5.848733 0.0000:   0%|                                                                                                                                                         | 0/9 [00:00<?, ?it/s]\u001b[A\n",
      "Valid 6: loss 5.848733 0.0000:  11%|████████████████                                                                                                                                 | 1/9 [00:00<00:04,  1.72it/s]\u001b[A\n",
      "Valid 6: loss 5.628934 0.1000:  11%|████████████████                                                                                                                                 | 1/9 [00:00<00:04,  1.72it/s]\u001b[A\n",
      "Valid 6: loss 5.628934 0.1000:  22%|████████████████████████████████▏                                                                                                                | 2/9 [00:00<00:02,  3.03it/s]\u001b[A\n",
      "Valid 6: loss 5.742394 0.0800:  22%|████████████████████████████████▏                                                                                                                | 2/9 [00:00<00:02,  3.03it/s]\u001b[A\n",
      "Valid 6: loss 5.687968 0.0600:  22%|████████████████████████████████▏                                                                                                                | 2/9 [00:00<00:02,  3.03it/s]\u001b[A\n",
      "Valid 6: loss 5.687968 0.0600:  44%|████████████████████████████████████████████████████████████████▍                                                                                | 4/9 [00:00<00:00,  5.01it/s]\u001b[A\n",
      "Valid 6: loss 5.559342 0.1400:  44%|████████████████████████████████████████████████████████████████▍                                                                                | 4/9 [00:01<00:00,  5.01it/s]\u001b[A\n",
      "Valid 6: loss 5.559342 0.1400:  56%|████████████████████████████████████████████████████████████████████████████████▌                                                                | 5/9 [00:01<00:00,  4.99it/s]\u001b[A\n",
      "Valid 6: loss 5.637394 0.0600:  56%|████████████████████████████████████████████████████████████████████████████████▌                                                                | 5/9 [00:01<00:00,  4.99it/s]\u001b[A\n",
      "Valid 6: loss 5.637394 0.0600:  67%|████████████████████████████████████████████████████████████████████████████████████████████████▋                                                | 6/9 [00:01<00:00,  5.59it/s]\u001b[A\n",
      "Valid 6: loss 5.574721 0.0400:  67%|████████████████████████████████████████████████████████████████████████████████████████████████▋                                                | 6/9 [00:01<00:00,  5.59it/s]\u001b[A\n",
      "Valid 6: loss 5.455283 0.1000:  67%|████████████████████████████████████████████████████████████████████████████████████████████████▋                                                | 6/9 [00:01<00:00,  5.59it/s]\u001b[A\n",
      "Valid 6: loss 5.455283 0.1000:  89%|████████████████████████████████████████████████████████████████████████████████████████████████████████████████████████████████▉                | 8/9 [00:01<00:00,  7.71it/s]\u001b[A\n",
      "Valid 6: loss 5.487874 0.0000: 100%|█████████████████████████████████████████████████████████████████████████████████████████████████████████████████████████████████████████████████| 9/9 [00:01<00:00,  5.80it/s]\u001b[A\n",
      "Epoch 6: loss 2.682616 0.3810: 100%|█████████████████████████████████████████████████████████████████████████████████████████████████████████████████████████████████████████████| 166/166 [00:52<00:00,  3.16it/s]\n"
     ]
    },
    {
     "name": "stdout",
     "output_type": "stream",
     "text": [
      "EarlyStopping counter: 1 out of 10\n"
     ]
    },
    {
     "name": "stderr",
     "output_type": "stream",
     "text": [
      "Epoch 7: loss 2.464474 0.5000:  99%|████████████████████████████████████████████████████████████████████████████████████████████████████████████████████████████████████████████▏| 165/166 [00:50<00:00,  3.49it/s]\n",
      "  0%|                                                                                                                                                                                        | 0/9 [00:00<?, ?it/s]\u001b[A\n",
      "Valid 7: loss 5.472608 0.0600:   0%|                                                                                                                                                         | 0/9 [00:00<?, ?it/s]\u001b[A\n",
      "Valid 7: loss 5.472608 0.0600:  11%|████████████████                                                                                                                                 | 1/9 [00:00<00:07,  1.10it/s]\u001b[A\n",
      "Valid 7: loss 5.417553 0.0600:  11%|████████████████                                                                                                                                 | 1/9 [00:00<00:07,  1.10it/s]\u001b[A\n",
      "Valid 7: loss 5.253885 0.0600:  11%|████████████████                                                                                                                                 | 1/9 [00:01<00:07,  1.10it/s]\u001b[A\n",
      "Valid 7: loss 5.253885 0.0600:  33%|████████████████████████████████████████████████▎                                                                                                | 3/9 [00:01<00:01,  3.37it/s]\u001b[A\n",
      "Valid 7: loss 5.261446 0.0200:  33%|████████████████████████████████████████████████▎                                                                                                | 3/9 [00:01<00:01,  3.37it/s]\u001b[A\n",
      "Valid 7: loss 5.475576 0.0600:  33%|████████████████████████████████████████████████▎                                                                                                | 3/9 [00:01<00:01,  3.37it/s]\u001b[A\n",
      "Valid 7: loss 5.475576 0.0600:  56%|████████████████████████████████████████████████████████████████████████████████▌                                                                | 5/9 [00:01<00:00,  5.47it/s]\u001b[A\n",
      "Valid 7: loss 5.338110 0.1000:  56%|████████████████████████████████████████████████████████████████████████████████▌                                                                | 5/9 [00:01<00:00,  5.47it/s]\u001b[A\n",
      "Valid 7: loss 5.396180 0.0600:  56%|████████████████████████████████████████████████████████████████████████████████▌                                                                | 5/9 [00:01<00:00,  5.47it/s]\u001b[A\n",
      "Valid 7: loss 5.396180 0.0600:  78%|████████████████████████████████████████████████████████████████████████████████████████████████████████████████▊                                | 7/9 [00:01<00:00,  7.32it/s]\u001b[A\n",
      "Valid 7: loss 5.384446 0.0200:  78%|████████████████████████████████████████████████████████████████████████████████████████████████████████████████▊                                | 7/9 [00:01<00:00,  7.32it/s]\u001b[A\n",
      "Valid 7: loss 5.327457 0.0000:  78%|████████████████████████████████████████████████████████████████████████████████████████████████████████████████▊                                | 7/9 [00:01<00:00,  7.32it/s]\u001b[A\n",
      "Valid 7: loss 5.327457 0.0000: 100%|█████████████████████████████████████████████████████████████████████████████████████████████████████████████████████████████████████████████████| 9/9 [00:01<00:00,  5.75it/s]\u001b[A\n",
      "Epoch 7: loss 2.464474 0.5000: 100%|█████████████████████████████████████████████████████████████████████████████████████████████████████████████████████████████████████████████| 166/166 [00:52<00:00,  3.18it/s]\n"
     ]
    },
    {
     "name": "stdout",
     "output_type": "stream",
     "text": [
      "EarlyStopping counter: 2 out of 10\n"
     ]
    },
    {
     "name": "stderr",
     "output_type": "stream",
     "text": [
      "Epoch 8: loss 2.148116 0.5000:  99%|████████████████████████████████████████████████████████████████████████████████████████████████████████████████████████████████████████████▏| 165/166 [00:50<00:00,  3.59it/s]\n",
      "  0%|                                                                                                                                                                                        | 0/9 [00:00<?, ?it/s]\u001b[A\n",
      "Valid 8: loss 6.237356 0.0800:   0%|                                                                                                                                                         | 0/9 [00:00<?, ?it/s]\u001b[A\n",
      "Valid 8: loss 6.237356 0.0800:  11%|████████████████                                                                                                                                 | 1/9 [00:00<00:06,  1.14it/s]\u001b[A\n",
      "Valid 8: loss 5.343260 0.0800:  11%|████████████████                                                                                                                                 | 1/9 [00:00<00:06,  1.14it/s]\u001b[A\n",
      "Valid 8: loss 5.261096 0.1800:  11%|████████████████                                                                                                                                 | 1/9 [00:01<00:06,  1.14it/s]\u001b[A\n",
      "Valid 8: loss 5.261096 0.1800:  33%|████████████████████████████████████████████████▎                                                                                                | 3/9 [00:01<00:01,  3.33it/s]\u001b[A\n",
      "Valid 8: loss 5.359667 0.0800:  33%|████████████████████████████████████████████████▎                                                                                                | 3/9 [00:01<00:01,  3.33it/s]\u001b[A\n",
      "Valid 8: loss 5.337181 0.1200:  33%|████████████████████████████████████████████████▎                                                                                                | 3/9 [00:01<00:01,  3.33it/s]\u001b[A\n",
      "Valid 8: loss 5.337181 0.1200:  56%|████████████████████████████████████████████████████████████████████████████████▌                                                                | 5/9 [00:01<00:00,  5.17it/s]\u001b[A\n",
      "Valid 8: loss 5.256677 0.1400:  56%|████████████████████████████████████████████████████████████████████████████████▌                                                                | 5/9 [00:01<00:00,  5.17it/s]\u001b[A\n",
      "Valid 8: loss 5.278340 0.0600:  56%|████████████████████████████████████████████████████████████████████████████████▌                                                                | 5/9 [00:01<00:00,  5.17it/s]\u001b[A\n",
      "Valid 8: loss 5.278340 0.0600:  78%|████████████████████████████████████████████████████████████████████████████████████████████████████████████████▊                                | 7/9 [00:01<00:00,  6.32it/s]\u001b[A\n",
      "Valid 8: loss 5.327178 0.0600:  78%|████████████████████████████████████████████████████████████████████████████████████████████████████████████████▊                                | 7/9 [00:01<00:00,  6.32it/s]\u001b[A\n",
      "Valid 8: loss 5.327178 0.0600:  89%|████████████████████████████████████████████████████████████████████████████████████████████████████████████████████████████████▉                | 8/9 [00:01<00:00,  6.70it/s]\u001b[A\n",
      "Valid 8: loss 5.353305 0.0000: 100%|█████████████████████████████████████████████████████████████████████████████████████████████████████████████████████████████████████████████████| 9/9 [00:01<00:00,  5.36it/s]\u001b[A\n",
      "Epoch 8: loss 2.148116 0.5000: 100%|█████████████████████████████████████████████████████████████████████████████████████████████████████████████████████████████████████████████| 166/166 [00:52<00:00,  3.17it/s]\n"
     ]
    },
    {
     "name": "stdout",
     "output_type": "stream",
     "text": [
      "EarlyStopping counter: 3 out of 10\n"
     ]
    },
    {
     "name": "stderr",
     "output_type": "stream",
     "text": [
      "Epoch 9: loss 1.806436 0.6429:  99%|████████████████████████████████████████████████████████████████████████████████████████████████████████████████████████████████████████████▏| 165/166 [00:50<00:00,  3.44it/s]\n",
      "  0%|                                                                                                                                                                                        | 0/9 [00:00<?, ?it/s]\u001b[A\n",
      "Valid 9: loss 5.134548 0.2200:   0%|                                                                                                                                                         | 0/9 [00:00<?, ?it/s]\u001b[A\n",
      "Valid 9: loss 5.134548 0.2200:  11%|████████████████                                                                                                                                 | 1/9 [00:00<00:06,  1.31it/s]\u001b[A\n",
      "Valid 9: loss 5.724313 0.1200:  11%|████████████████                                                                                                                                 | 1/9 [00:00<00:06,  1.31it/s]\u001b[A\n",
      "Valid 9: loss 5.473388 0.2200:  11%|████████████████                                                                                                                                 | 1/9 [00:00<00:06,  1.31it/s]\u001b[A\n",
      "Valid 9: loss 5.473388 0.2200:  33%|████████████████████████████████████████████████▎                                                                                                | 3/9 [00:00<00:01,  3.85it/s]\u001b[A\n",
      "Valid 9: loss 5.461006 0.1400:  33%|████████████████████████████████████████████████▎                                                                                                | 3/9 [00:01<00:01,  3.85it/s]\u001b[A\n",
      "Valid 9: loss 5.577485 0.1000:  33%|████████████████████████████████████████████████▎                                                                                                | 3/9 [00:01<00:01,  3.85it/s]\u001b[A\n",
      "Valid 9: loss 5.577485 0.1000:  56%|████████████████████████████████████████████████████████████████████████████████▌                                                                | 5/9 [00:01<00:00,  5.83it/s]\u001b[A\n",
      "Valid 9: loss 5.426831 0.1600:  56%|████████████████████████████████████████████████████████████████████████████████▌                                                                | 5/9 [00:01<00:00,  5.83it/s]\u001b[A\n",
      "Valid 9: loss 5.426831 0.1600:  67%|████████████████████████████████████████████████████████████████████████████████████████████████▋                                                | 6/9 [00:01<00:00,  5.55it/s]\u001b[A\n",
      "Valid 9: loss 5.460793 0.1800:  67%|████████████████████████████████████████████████████████████████████████████████████████████████▋                                                | 6/9 [00:01<00:00,  5.55it/s]\u001b[A\n",
      "Valid 9: loss 5.495355 0.1800:  67%|████████████████████████████████████████████████████████████████████████████████████████████████▋                                                | 6/9 [00:01<00:00,  5.55it/s]\u001b[A\n",
      "Valid 9: loss 5.495355 0.1800:  89%|████████████████████████████████████████████████████████████████████████████████████████████████████████████████████████████████▉                | 8/9 [00:01<00:00,  7.28it/s]\u001b[A\n",
      "Valid 9: loss 5.606729 0.0000: 100%|█████████████████████████████████████████████████████████████████████████████████████████████████████████████████████████████████████████████████| 9/9 [00:01<00:00,  5.74it/s]\u001b[A\n",
      "Epoch 9: loss 1.806436 0.6429: 100%|█████████████████████████████████████████████████████████████████████████████████████████████████████████████████████████████████████████████| 166/166 [00:52<00:00,  3.17it/s]\n"
     ]
    },
    {
     "name": "stdout",
     "output_type": "stream",
     "text": [
      "EarlyStopping counter: 4 out of 10\n"
     ]
    },
    {
     "name": "stderr",
     "output_type": "stream",
     "text": [
      "Epoch 10: loss 1.460426 0.7143:  99%|███████████████████████████████████████████████████████████████████████████████████████████████████████████████████████████████████████████▏| 165/166 [00:50<00:00,  3.33it/s]\n",
      "  0%|                                                                                                                                                                                        | 0/9 [00:00<?, ?it/s]\u001b[A\n",
      "Valid 10: loss 5.754719 0.1200:   0%|                                                                                                                                                        | 0/9 [00:00<?, ?it/s]\u001b[A\n",
      "Valid 10: loss 5.754719 0.1200:  11%|████████████████                                                                                                                                | 1/9 [00:00<00:04,  1.61it/s]\u001b[A\n",
      "Valid 10: loss 5.324256 0.2600:  11%|████████████████                                                                                                                                | 1/9 [00:00<00:04,  1.61it/s]\u001b[A\n",
      "Valid 10: loss 5.235511 0.1600:  11%|████████████████                                                                                                                                | 1/9 [00:00<00:04,  1.61it/s]\u001b[A\n",
      "Valid 10: loss 5.235511 0.1600:  33%|████████████████████████████████████████████████                                                                                                | 3/9 [00:00<00:01,  3.45it/s]\u001b[A\n",
      "Valid 10: loss 5.229697 0.2200:  33%|████████████████████████████████████████████████                                                                                                | 3/9 [00:01<00:01,  3.45it/s]\u001b[A\n",
      "Valid 10: loss 5.229697 0.2200:  44%|████████████████████████████████████████████████████████████████                                                                                | 4/9 [00:01<00:01,  3.89it/s]\u001b[A\n",
      "Valid 10: loss 5.261806 0.2000:  44%|████████████████████████████████████████████████████████████████                                                                                | 4/9 [00:01<00:01,  3.89it/s]\u001b[A\n",
      "Valid 10: loss 5.218754 0.1400:  44%|████████████████████████████████████████████████████████████████                                                                                | 4/9 [00:01<00:01,  3.89it/s]\u001b[A\n",
      "Valid 10: loss 5.218754 0.1400:  67%|████████████████████████████████████████████████████████████████████████████████████████████████                                                | 6/9 [00:01<00:00,  5.86it/s]\u001b[A\n",
      "Valid 10: loss 5.141260 0.1400:  67%|████████████████████████████████████████████████████████████████████████████████████████████████                                                | 6/9 [00:01<00:00,  5.86it/s]\u001b[A\n",
      "Valid 10: loss 5.260200 0.1000:  67%|████████████████████████████████████████████████████████████████████████████████████████████████                                                | 6/9 [00:01<00:00,  5.86it/s]\u001b[A\n",
      "Valid 10: loss 5.260200 0.1000:  89%|████████████████████████████████████████████████████████████████████████████████████████████████████████████████████████████████                | 8/9 [00:01<00:00,  7.60it/s]\u001b[A\n",
      "Valid 10: loss 4.936766 0.5000: 100%|████████████████████████████████████████████████████████████████████████████████████████████████████████████████████████████████████████████████| 9/9 [00:01<00:00,  5.66it/s]\u001b[A\n",
      "Epoch 10: loss 1.460426 0.7143: 100%|████████████████████████████████████████████████████████████████████████████████████████████████████████████████████████████████████████████| 166/166 [00:52<00:00,  3.16it/s]\n",
      "Epoch 11: loss 1.165795 0.7857:  99%|███████████████████████████████████████████████████████████████████████████████████████████████████████████████████████████████████████████▏| 165/166 [00:50<00:00,  3.26it/s]\n",
      "  0%|                                                                                                                                                                                        | 0/9 [00:00<?, ?it/s]\u001b[A\n",
      "Valid 11: loss 5.285580 0.2600:   0%|                                                                                                                                                        | 0/9 [00:00<?, ?it/s]\u001b[A\n",
      "Valid 11: loss 5.285580 0.2600:  11%|████████████████                                                                                                                                | 1/9 [00:00<00:07,  1.04it/s]\u001b[A\n",
      "Valid 11: loss 4.878457 0.2400:  11%|████████████████                                                                                                                                | 1/9 [00:01<00:07,  1.04it/s]\u001b[A\n",
      "Valid 11: loss 4.883299 0.2400:  11%|████████████████                                                                                                                                | 1/9 [00:01<00:07,  1.04it/s]\u001b[A\n",
      "Valid 11: loss 4.883299 0.2400:  33%|████████████████████████████████████████████████                                                                                                | 3/9 [00:01<00:01,  3.15it/s]\u001b[A\n",
      "Valid 11: loss 5.015241 0.1200:  33%|████████████████████████████████████████████████                                                                                                | 3/9 [00:01<00:01,  3.15it/s]\u001b[A\n",
      "Valid 11: loss 5.019343 0.2000:  33%|████████████████████████████████████████████████                                                                                                | 3/9 [00:01<00:01,  3.15it/s]\u001b[A\n",
      "Valid 11: loss 5.019343 0.2000:  56%|████████████████████████████████████████████████████████████████████████████████                                                                | 5/9 [00:01<00:00,  5.07it/s]\u001b[A\n",
      "Valid 11: loss 5.077190 0.1000:  56%|████████████████████████████████████████████████████████████████████████████████                                                                | 5/9 [00:01<00:00,  5.07it/s]\u001b[A\n",
      "Valid 11: loss 5.044451 0.3000:  56%|████████████████████████████████████████████████████████████████████████████████                                                                | 5/9 [00:01<00:00,  5.07it/s]\u001b[A\n",
      "Valid 11: loss 5.044451 0.3000:  78%|████████████████████████████████████████████████████████████████████████████████████████████████████████████████                                | 7/9 [00:01<00:00,  6.64it/s]\u001b[A\n",
      "Valid 11: loss 4.991894 0.2600:  78%|████████████████████████████████████████████████████████████████████████████████████████████████████████████████                                | 7/9 [00:01<00:00,  6.64it/s]\u001b[A\n",
      "Valid 11: loss 4.887717 0.3333: 100%|████████████████████████████████████████████████████████████████████████████████████████████████████████████████████████████████████████████████| 9/9 [00:01<00:00,  5.44it/s]\u001b[A\n",
      "Epoch 11: loss 1.165795 0.7857: 100%|████████████████████████████████████████████████████████████████████████████████████████████████████████████████████████████████████████████| 166/166 [00:52<00:00,  3.15it/s]\n",
      "Epoch 12: loss 0.895611 0.8810:  99%|███████████████████████████████████████████████████████████████████████████████████████████████████████████████████████████████████████████▏| 165/166 [00:50<00:00,  3.30it/s]\n",
      "  0%|                                                                                                                                                                                        | 0/9 [00:00<?, ?it/s]\u001b[A\n",
      "Valid 12: loss 4.848024 0.2400:   0%|                                                                                                                                                        | 0/9 [00:00<?, ?it/s]\u001b[A\n",
      "Valid 12: loss 4.848024 0.2400:  11%|████████████████                                                                                                                                | 1/9 [00:00<00:07,  1.12it/s]\u001b[A\n",
      "Valid 12: loss 4.545333 0.3000:  11%|████████████████                                                                                                                                | 1/9 [00:00<00:07,  1.12it/s]\u001b[A\n"
     ]
    },
    {
     "name": "stderr",
     "output_type": "stream",
     "text": [
      "Valid 12: loss 4.885912 0.2600:  11%|████████████████                                                                                                                                | 1/9 [00:01<00:07,  1.12it/s]\u001b[A\n",
      "Valid 12: loss 4.885912 0.2600:  33%|████████████████████████████████████████████████                                                                                                | 3/9 [00:01<00:01,  3.15it/s]\u001b[A\n",
      "Valid 12: loss 4.942962 0.3200:  33%|████████████████████████████████████████████████                                                                                                | 3/9 [00:01<00:01,  3.15it/s]\u001b[A\n",
      "Valid 12: loss 4.863541 0.2600:  33%|████████████████████████████████████████████████                                                                                                | 3/9 [00:01<00:01,  3.15it/s]\u001b[A\n",
      "Valid 12: loss 4.863541 0.2600:  56%|████████████████████████████████████████████████████████████████████████████████                                                                | 5/9 [00:01<00:00,  5.06it/s]\u001b[A\n",
      "Valid 12: loss 4.958421 0.1800:  56%|████████████████████████████████████████████████████████████████████████████████                                                                | 5/9 [00:01<00:00,  5.06it/s]\u001b[A\n",
      "Valid 12: loss 4.934092 0.2800:  56%|████████████████████████████████████████████████████████████████████████████████                                                                | 5/9 [00:01<00:00,  5.06it/s]\u001b[A\n",
      "Valid 12: loss 4.934092 0.2800:  78%|████████████████████████████████████████████████████████████████████████████████████████████████████████████████                                | 7/9 [00:01<00:00,  6.54it/s]\u001b[A\n",
      "Valid 12: loss 4.888381 0.2600:  78%|████████████████████████████████████████████████████████████████████████████████████████████████████████████████                                | 7/9 [00:01<00:00,  6.54it/s]\u001b[A\n",
      "Valid 12: loss 4.888381 0.2600:  89%|████████████████████████████████████████████████████████████████████████████████████████████████████████████████████████████████                | 8/9 [00:01<00:00,  7.09it/s]\u001b[A\n",
      "Valid 12: loss 5.293787 0.1667: 100%|████████████████████████████████████████████████████████████████████████████████████████████████████████████████████████████████████████████████| 9/9 [00:01<00:00,  5.40it/s]\u001b[A\n",
      "Epoch 12: loss 0.895611 0.8810: 100%|████████████████████████████████████████████████████████████████████████████████████████████████████████████████████████████████████████████| 166/166 [00:52<00:00,  3.18it/s]\n"
     ]
    },
    {
     "name": "stdout",
     "output_type": "stream",
     "text": [
      "EarlyStopping counter: 1 out of 10\n"
     ]
    },
    {
     "name": "stderr",
     "output_type": "stream",
     "text": [
      "Epoch 13: loss 0.673560 0.8571:  99%|███████████████████████████████████████████████████████████████████████████████████████████████████████████████████████████████████████████▏| 165/166 [00:50<00:00,  3.50it/s]\n",
      "  0%|                                                                                                                                                                                        | 0/9 [00:00<?, ?it/s]\u001b[A\n",
      "Valid 13: loss 6.134290 0.1600:   0%|                                                                                                                                                        | 0/9 [00:00<?, ?it/s]\u001b[A\n",
      "Valid 13: loss 6.134290 0.1600:  11%|████████████████                                                                                                                                | 1/9 [00:00<00:05,  1.35it/s]\u001b[A\n",
      "Valid 13: loss 5.383352 0.2600:  11%|████████████████                                                                                                                                | 1/9 [00:00<00:05,  1.35it/s]\u001b[A\n",
      "Valid 13: loss 5.613955 0.1800:  11%|████████████████                                                                                                                                | 1/9 [00:00<00:05,  1.35it/s]\u001b[A\n",
      "Valid 13: loss 5.613955 0.1800:  33%|████████████████████████████████████████████████                                                                                                | 3/9 [00:00<00:01,  3.88it/s]\u001b[A\n",
      "Valid 13: loss 5.353014 0.2000:  33%|████████████████████████████████████████████████                                                                                                | 3/9 [00:01<00:01,  3.88it/s]\u001b[A\n",
      "Valid 13: loss 5.353014 0.2000:  44%|████████████████████████████████████████████████████████████████                                                                                | 4/9 [00:01<00:01,  4.05it/s]\u001b[A\n",
      "Valid 13: loss 5.462259 0.1400:  44%|████████████████████████████████████████████████████████████████                                                                                | 4/9 [00:01<00:01,  4.05it/s]\u001b[A\n",
      "Valid 13: loss 5.462259 0.1400:  56%|████████████████████████████████████████████████████████████████████████████████                                                                | 5/9 [00:01<00:00,  4.64it/s]\u001b[A\n",
      "Valid 13: loss 5.425908 0.1800:  56%|████████████████████████████████████████████████████████████████████████████████                                                                | 5/9 [00:01<00:00,  4.64it/s]\u001b[A\n",
      "Valid 13: loss 5.478606 0.2000:  56%|████████████████████████████████████████████████████████████████████████████████                                                                | 5/9 [00:01<00:00,  4.64it/s]\u001b[A\n",
      "Valid 13: loss 5.478606 0.2000:  78%|████████████████████████████████████████████████████████████████████████████████████████████████████████████████                                | 7/9 [00:01<00:00,  6.77it/s]\u001b[A\n",
      "Valid 13: loss 5.486178 0.2000:  78%|████████████████████████████████████████████████████████████████████████████████████████████████████████████████                                | 7/9 [00:01<00:00,  6.77it/s]\u001b[A\n",
      "Valid 13: loss 5.433023 0.1667: 100%|████████████████████████████████████████████████████████████████████████████████████████████████████████████████████████████████████████████████| 9/9 [00:01<00:00,  5.58it/s]\u001b[A\n",
      "Epoch 13: loss 0.673560 0.8571: 100%|████████████████████████████████████████████████████████████████████████████████████████████████████████████████████████████████████████████| 166/166 [00:52<00:00,  3.19it/s]\n"
     ]
    },
    {
     "name": "stdout",
     "output_type": "stream",
     "text": [
      "EarlyStopping counter: 2 out of 10\n"
     ]
    },
    {
     "name": "stderr",
     "output_type": "stream",
     "text": [
      "Epoch 14: loss 0.515159 0.7619:  99%|███████████████████████████████████████████████████████████████████████████████████████████████████████████████████████████████████████████▏| 165/166 [00:51<00:00,  3.45it/s]\n",
      "  0%|                                                                                                                                                                                        | 0/9 [00:00<?, ?it/s]\u001b[A\n",
      "Valid 14: loss 6.006110 0.2000:   0%|                                                                                                                                                        | 0/9 [00:00<?, ?it/s]\u001b[A\n",
      "Valid 14: loss 6.006110 0.2000:  11%|████████████████                                                                                                                                | 1/9 [00:00<00:04,  1.62it/s]\u001b[A\n",
      "Valid 14: loss 5.733152 0.2400:  11%|████████████████                                                                                                                                | 1/9 [00:00<00:04,  1.62it/s]\u001b[A\n",
      "Valid 14: loss 5.733152 0.2400:  22%|████████████████████████████████                                                                                                                | 2/9 [00:00<00:02,  2.60it/s]\u001b[A\n",
      "Valid 14: loss 5.783503 0.1600:  22%|████████████████████████████████                                                                                                                | 2/9 [00:00<00:02,  2.60it/s]\u001b[A\n",
      "Valid 14: loss 5.783503 0.1600:  33%|████████████████████████████████████████████████                                                                                                | 3/9 [00:00<00:01,  3.82it/s]\u001b[A\n",
      "Valid 14: loss 5.706566 0.2200:  33%|████████████████████████████████████████████████                                                                                                | 3/9 [00:01<00:01,  3.82it/s]\u001b[A\n",
      "Valid 14: loss 5.706566 0.2200:  44%|████████████████████████████████████████████████████████████████                                                                                | 4/9 [00:01<00:01,  4.43it/s]\u001b[A\n",
      "Valid 14: loss 5.724653 0.1200:  44%|████████████████████████████████████████████████████████████████                                                                                | 4/9 [00:01<00:01,  4.43it/s]\u001b[A\n",
      "Valid 14: loss 5.722748 0.1400:  44%|████████████████████████████████████████████████████████████████                                                                                | 4/9 [00:01<00:01,  4.43it/s]\u001b[A\n",
      "Valid 14: loss 5.722748 0.1400:  67%|████████████████████████████████████████████████████████████████████████████████████████████████                                                | 6/9 [00:01<00:00,  6.37it/s]\u001b[A\n",
      "Valid 14: loss 5.530954 0.3400:  67%|████████████████████████████████████████████████████████████████████████████████████████████████                                                | 6/9 [00:01<00:00,  6.37it/s]\u001b[A\n",
      "Valid 14: loss 5.530954 0.3400:  78%|████████████████████████████████████████████████████████████████████████████████████████████████████████████████                                | 7/9 [00:01<00:00,  6.61it/s]\u001b[A\n",
      "Valid 14: loss 5.455529 0.3400:  78%|████████████████████████████████████████████████████████████████████████████████████████████████████████████████                                | 7/9 [00:01<00:00,  6.61it/s]\u001b[A\n",
      "Valid 14: loss 5.236397 0.1667:  78%|████████████████████████████████████████████████████████████████████████████████████████████████████████████████                                | 7/9 [00:01<00:00,  6.61it/s]\u001b[A\n",
      "Valid 14: loss 5.236397 0.1667: 100%|████████████████████████████████████████████████████████████████████████████████████████████████████████████████████████████████████████████████| 9/9 [00:01<00:00,  5.53it/s]\u001b[A\n",
      "Epoch 14: loss 0.515159 0.7619: 100%|████████████████████████████████████████████████████████████████████████████████████████████████████████████████████████████████████████████| 166/166 [00:52<00:00,  3.15it/s]\n"
     ]
    },
    {
     "name": "stdout",
     "output_type": "stream",
     "text": [
      "EarlyStopping counter: 3 out of 10\n"
     ]
    },
    {
     "name": "stderr",
     "output_type": "stream",
     "text": [
      "Epoch 15: loss 0.393824 0.8810:  99%|███████████████████████████████████████████████████████████████████████████████████████████████████████████████████████████████████████████▏| 165/166 [00:50<00:00,  3.41it/s]\n",
      "  0%|                                                                                                                                                                                        | 0/9 [00:00<?, ?it/s]\u001b[A\n",
      "Valid 15: loss 5.850496 0.2000:   0%|                                                                                                                                                        | 0/9 [00:00<?, ?it/s]\u001b[A\n",
      "Valid 15: loss 5.850496 0.2000:  11%|████████████████                                                                                                                                | 1/9 [00:00<00:04,  1.68it/s]\u001b[A\n",
      "Valid 15: loss 5.760471 0.3000:  11%|████████████████                                                                                                                                | 1/9 [00:00<00:04,  1.68it/s]\u001b[A\n",
      "Valid 15: loss 5.760471 0.3000:  22%|████████████████████████████████                                                                                                                | 2/9 [00:00<00:03,  2.29it/s]\u001b[A\n",
      "Valid 15: loss 5.813734 0.2400:  22%|████████████████████████████████                                                                                                                | 2/9 [00:00<00:03,  2.29it/s]\u001b[A\n",
      "Valid 15: loss 5.988494 0.1200:  22%|████████████████████████████████                                                                                                                | 2/9 [00:01<00:03,  2.29it/s]\u001b[A\n",
      "Valid 15: loss 5.988494 0.1200:  44%|████████████████████████████████████████████████████████████████                                                                                | 4/9 [00:01<00:01,  4.78it/s]\u001b[A\n",
      "Valid 15: loss 5.768113 0.2600:  44%|████████████████████████████████████████████████████████████████                                                                                | 4/9 [00:01<00:01,  4.78it/s]\u001b[A\n",
      "Valid 15: loss 5.912102 0.1400:  44%|████████████████████████████████████████████████████████████████                                                                                | 4/9 [00:01<00:01,  4.78it/s]\u001b[A\n",
      "Valid 15: loss 5.912102 0.1400:  67%|████████████████████████████████████████████████████████████████████████████████████████████████                                                | 6/9 [00:01<00:00,  6.85it/s]\u001b[A\n",
      "Valid 15: loss 5.982626 0.1600:  67%|████████████████████████████████████████████████████████████████████████████████████████████████                                                | 6/9 [00:01<00:00,  6.85it/s]\u001b[A\n",
      "Valid 15: loss 5.926182 0.2400:  67%|████████████████████████████████████████████████████████████████████████████████████████████████                                                | 6/9 [00:01<00:00,  6.85it/s]\u001b[A\n",
      "Valid 15: loss 5.926182 0.2400:  89%|████████████████████████████████████████████████████████████████████████████████████████████████████████████████████████████████                | 8/9 [00:01<00:00,  8.22it/s]\u001b[A\n",
      "Valid 15: loss 6.120017 0.0000: 100%|████████████████████████████████████████████████████████████████████████████████████████████████████████████████████████████████████████████████| 9/9 [00:01<00:00,  6.10it/s]\u001b[A\n",
      "Epoch 15: loss 0.393824 0.8810: 100%|████████████████████████████████████████████████████████████████████████████████████████████████████████████████████████████████████████████| 166/166 [00:52<00:00,  3.18it/s]\n"
     ]
    },
    {
     "name": "stdout",
     "output_type": "stream",
     "text": [
      "EarlyStopping counter: 4 out of 10\n"
     ]
    },
    {
     "name": "stderr",
     "output_type": "stream",
     "text": [
      "Epoch 16: loss 0.296082 0.8333:  99%|███████████████████████████████████████████████████████████████████████████████████████████████████████████████████████████████████████████▏| 165/166 [00:51<00:00,  3.79it/s]\n",
      "  0%|                                                                                                                                                                                        | 0/9 [00:00<?, ?it/s]\u001b[A\n",
      "Valid 16: loss 6.800062 0.2000:   0%|                                                                                                                                                        | 0/9 [00:00<?, ?it/s]\u001b[A\n",
      "Valid 16: loss 6.800062 0.2000:  11%|████████████████                                                                                                                                | 1/9 [00:00<00:05,  1.34it/s]\u001b[A\n",
      "Valid 16: loss 7.271199 0.1800:  11%|████████████████                                                                                                                                | 1/9 [00:00<00:05,  1.34it/s]\u001b[A\n",
      "Valid 16: loss 7.271199 0.1800:  22%|████████████████████████████████                                                                                                                | 2/9 [00:00<00:02,  2.51it/s]\u001b[A\n",
      "Valid 16: loss 6.469577 0.2200:  22%|████████████████████████████████                                                                                                                | 2/9 [00:00<00:02,  2.51it/s]\u001b[A\n",
      "Valid 16: loss 6.379318 0.2200:  22%|████████████████████████████████                                                                                                                | 2/9 [00:01<00:02,  2.51it/s]\u001b[A\n",
      "Valid 16: loss 6.379318 0.2200:  44%|████████████████████████████████████████████████████████████████                                                                                | 4/9 [00:01<00:00,  5.15it/s]\u001b[A\n",
      "Valid 16: loss 6.089963 0.2800:  44%|████████████████████████████████████████████████████████████████                                                                                | 4/9 [00:01<00:00,  5.15it/s]\u001b[A\n",
      "Valid 16: loss 6.089963 0.2800:  56%|████████████████████████████████████████████████████████████████████████████████                                                                | 5/9 [00:01<00:00,  5.93it/s]\u001b[A\n",
      "Valid 16: loss 6.031797 0.2400:  56%|████████████████████████████████████████████████████████████████████████████████                                                                | 5/9 [00:01<00:00,  5.93it/s]\u001b[A\n",
      "Valid 16: loss 5.874075 0.2800:  56%|████████████████████████████████████████████████████████████████████████████████                                                                | 5/9 [00:01<00:00,  5.93it/s]\u001b[A\n",
      "Valid 16: loss 5.874075 0.2800:  78%|████████████████████████████████████████████████████████████████████████████████████████████████████████████████                                | 7/9 [00:01<00:00,  7.97it/s]\u001b[A\n",
      "Valid 16: loss 5.999168 0.1600:  78%|████████████████████████████████████████████████████████████████████████████████████████████████████████████████                                | 7/9 [00:01<00:00,  7.97it/s]\u001b[A\n",
      "Valid 16: loss 6.348344 0.1667:  78%|████████████████████████████████████████████████████████████████████████████████████████████████████████████████                                | 7/9 [00:01<00:00,  7.97it/s]\u001b[A\n",
      "Valid 16: loss 6.348344 0.1667: 100%|████████████████████████████████████████████████████████████████████████████████████████████████████████████████████████████████████████████████| 9/9 [00:01<00:00,  5.96it/s]\u001b[A\n",
      "Epoch 16: loss 0.296082 0.8333: 100%|████████████████████████████████████████████████████████████████████████████████████████████████████████████████████████████████████████████| 166/166 [00:52<00:00,  3.15it/s]\n"
     ]
    },
    {
     "name": "stdout",
     "output_type": "stream",
     "text": [
      "EarlyStopping counter: 5 out of 10\n"
     ]
    },
    {
     "name": "stderr",
     "output_type": "stream",
     "text": [
      "Epoch 17: loss 0.230364 0.9048:  99%|███████████████████████████████████████████████████████████████████████████████████████████████████████████████████████████████████████████▏| 165/166 [00:50<00:00,  3.71it/s]\n",
      "  0%|                                                                                                                                                                                        | 0/9 [00:00<?, ?it/s]\u001b[A\n",
      "Valid 17: loss 6.259241 0.2800:   0%|                                                                                                                                                        | 0/9 [00:00<?, ?it/s]\u001b[A\n",
      "Valid 17: loss 6.259241 0.2800:  11%|████████████████                                                                                                                                | 1/9 [00:00<00:05,  1.48it/s]\u001b[A\n",
      "Valid 17: loss 6.228821 0.2600:  11%|████████████████                                                                                                                                | 1/9 [00:00<00:05,  1.48it/s]\u001b[A\n",
      "Valid 17: loss 6.211076 0.2600:  11%|████████████████                                                                                                                                | 1/9 [00:00<00:05,  1.48it/s]\u001b[A\n",
      "Valid 17: loss 6.211076 0.2600:  33%|████████████████████████████████████████████████                                                                                                | 3/9 [00:00<00:01,  4.33it/s]\u001b[A\n",
      "Valid 17: loss 5.989998 0.3000:  33%|████████████████████████████████████████████████                                                                                                | 3/9 [00:01<00:01,  4.33it/s]\u001b[A\n",
      "Valid 17: loss 5.989998 0.3000:  44%|████████████████████████████████████████████████████████████████                                                                                | 4/9 [00:01<00:01,  4.24it/s]\u001b[A\n",
      "Valid 17: loss 5.860871 0.3000:  44%|████████████████████████████████████████████████████████████████                                                                                | 4/9 [00:01<00:01,  4.24it/s]\u001b[A\n",
      "Valid 17: loss 5.860871 0.3000:  56%|████████████████████████████████████████████████████████████████████████████████                                                                | 5/9 [00:01<00:00,  4.50it/s]\u001b[A\n",
      "Valid 17: loss 5.803339 0.2400:  56%|████████████████████████████████████████████████████████████████████████████████                                                                | 5/9 [00:01<00:00,  4.50it/s]\u001b[A\n",
      "Valid 17: loss 5.803339 0.2400:  67%|████████████████████████████████████████████████████████████████████████████████████████████████                                                | 6/9 [00:01<00:00,  5.44it/s]\u001b[A\n",
      "Valid 17: loss 5.791934 0.2200:  67%|████████████████████████████████████████████████████████████████████████████████████████████████                                                | 6/9 [00:01<00:00,  5.44it/s]\u001b[A\n",
      "Valid 17: loss 5.662422 0.4200:  67%|████████████████████████████████████████████████████████████████████████████████████████████████                                                | 6/9 [00:01<00:00,  5.44it/s]\u001b[A\n",
      "Valid 17: loss 5.662422 0.4200:  89%|████████████████████████████████████████████████████████████████████████████████████████████████████████████████████████████████                | 8/9 [00:01<00:00,  7.27it/s]\u001b[A\n",
      "Valid 17: loss 5.724955 0.3333: 100%|████████████████████████████████████████████████████████████████████████████████████████████████████████████████████████████████████████████████| 9/9 [00:01<00:00,  5.50it/s]\u001b[A\n",
      "Epoch 17: loss 0.230364 0.9048: 100%|████████████████████████████████████████████████████████████████████████████████████████████████████████████████████████████████████████████| 166/166 [00:52<00:00,  3.18it/s]\n"
     ]
    },
    {
     "name": "stdout",
     "output_type": "stream",
     "text": [
      "EarlyStopping counter: 6 out of 10\n"
     ]
    },
    {
     "name": "stderr",
     "output_type": "stream",
     "text": [
      "Epoch 18: loss 0.195334 0.9286:  99%|███████████████████████████████████████████████████████████████████████████████████████████████████████████████████████████████████████████▏| 165/166 [00:52<00:00,  3.44it/s]\n",
      "  0%|                                                                                                                                                                                        | 0/9 [00:00<?, ?it/s]\u001b[A\n",
      "Valid 18: loss 5.560068 0.2400:   0%|                                                                                                                                                        | 0/9 [00:00<?, ?it/s]\u001b[A\n",
      "Valid 18: loss 5.560068 0.2400:  11%|████████████████                                                                                                                                | 1/9 [00:00<00:06,  1.17it/s]\u001b[A\n",
      "Valid 18: loss 5.768378 0.1800:  11%|████████████████                                                                                                                                | 1/9 [00:01<00:06,  1.17it/s]\u001b[A\n",
      "Valid 18: loss 5.768378 0.1800:  22%|████████████████████████████████                                                                                                                | 2/9 [00:01<00:03,  2.10it/s]\u001b[A\n",
      "Valid 18: loss 5.860586 0.2200:  22%|████████████████████████████████                                                                                                                | 2/9 [00:01<00:03,  2.10it/s]\u001b[A\n",
      "Valid 18: loss 5.860586 0.2200:  33%|████████████████████████████████████████████████                                                                                                | 3/9 [00:01<00:01,  3.19it/s]\u001b[A\n",
      "Valid 18: loss 5.937716 0.2000:  33%|████████████████████████████████████████████████                                                                                                | 3/9 [00:01<00:01,  3.19it/s]\u001b[A\n",
      "Valid 18: loss 5.831147 0.3000:  33%|████████████████████████████████████████████████                                                                                                | 3/9 [00:01<00:01,  3.19it/s]\u001b[A\n",
      "Valid 18: loss 5.831147 0.3000:  56%|████████████████████████████████████████████████████████████████████████████████                                                                | 5/9 [00:01<00:00,  5.50it/s]\u001b[A\n",
      "Valid 18: loss 6.098588 0.1400:  56%|████████████████████████████████████████████████████████████████████████████████                                                                | 5/9 [00:01<00:00,  5.50it/s]\u001b[A\n",
      "Valid 18: loss 6.023514 0.3000:  56%|████████████████████████████████████████████████████████████████████████████████                                                                | 5/9 [00:01<00:00,  5.50it/s]\u001b[A\n",
      "Valid 18: loss 6.023514 0.3000:  78%|████████████████████████████████████████████████████████████████████████████████████████████████████████████████                                | 7/9 [00:01<00:00,  7.37it/s]\u001b[A\n",
      "Valid 18: loss 5.965260 0.2800:  78%|████████████████████████████████████████████████████████████████████████████████████████████████████████████████                                | 7/9 [00:01<00:00,  7.37it/s]\u001b[A\n",
      "Valid 18: loss 5.818218 0.5000: 100%|████████████████████████████████████████████████████████████████████████████████████████████████████████████████████████████████████████████████| 9/9 [00:01<00:00,  5.39it/s]\u001b[A\n",
      "Epoch 18: loss 0.195334 0.9286: 100%|████████████████████████████████████████████████████████████████████████████████████████████████████████████████████████████████████████████| 166/166 [00:54<00:00,  3.07it/s]\n"
     ]
    },
    {
     "name": "stdout",
     "output_type": "stream",
     "text": [
      "EarlyStopping counter: 7 out of 10\n"
     ]
    },
    {
     "name": "stderr",
     "output_type": "stream",
     "text": [
      "Epoch 19: loss 0.172333 0.9762:  99%|███████████████████████████████████████████████████████████████████████████████████████████████████████████████████████████████████████████▏| 165/166 [00:52<00:00,  3.68it/s]\n",
      "  0%|                                                                                                                                                                                        | 0/9 [00:00<?, ?it/s]\u001b[A\n",
      "Valid 19: loss 7.568605 0.1800:   0%|                                                                                                                                                        | 0/9 [00:00<?, ?it/s]\u001b[A\n",
      "Valid 19: loss 7.568605 0.1800:  11%|████████████████                                                                                                                                | 1/9 [00:00<00:04,  1.66it/s]\u001b[A\n",
      "Valid 19: loss 6.975400 0.2400:  11%|████████████████                                                                                                                                | 1/9 [00:00<00:04,  1.66it/s]\u001b[A\n",
      "Valid 19: loss 6.975400 0.2400:  22%|████████████████████████████████                                                                                                                | 2/9 [00:00<00:02,  2.97it/s]\u001b[A\n",
      "Valid 19: loss 6.637053 0.3000:  22%|████████████████████████████████                                                                                                                | 2/9 [00:00<00:02,  2.97it/s]\u001b[A\n",
      "Valid 19: loss 6.637053 0.3000:  33%|████████████████████████████████████████████████                                                                                                | 3/9 [00:00<00:01,  3.93it/s]\u001b[A\n",
      "Valid 19: loss 6.900035 0.2000:  33%|████████████████████████████████████████████████                                                                                                | 3/9 [00:01<00:01,  3.93it/s]\u001b[A\n",
      "Valid 19: loss 6.900035 0.2000:  44%|████████████████████████████████████████████████████████████████                                                                                | 4/9 [00:01<00:01,  4.68it/s]\u001b[A\n",
      "Valid 19: loss 6.602859 0.2200:  44%|████████████████████████████████████████████████████████████████                                                                                | 4/9 [00:01<00:01,  4.68it/s]\u001b[A\n",
      "Valid 19: loss 6.602859 0.2200:  56%|████████████████████████████████████████████████████████████████████████████████                                                                | 5/9 [00:01<00:00,  4.76it/s]\u001b[A\n",
      "Valid 19: loss 6.502176 0.2600:  56%|████████████████████████████████████████████████████████████████████████████████                                                                | 5/9 [00:01<00:00,  4.76it/s]\u001b[A\n",
      "Valid 19: loss 6.502176 0.2600:  67%|████████████████████████████████████████████████████████████████████████████████████████████████                                                | 6/9 [00:01<00:00,  5.61it/s]\u001b[A\n",
      "Valid 19: loss 6.404102 0.2800:  67%|████████████████████████████████████████████████████████████████████████████████████████████████                                                | 6/9 [00:01<00:00,  5.61it/s]\u001b[A\n",
      "Valid 19: loss 6.377593 0.1800:  67%|████████████████████████████████████████████████████████████████████████████████████████████████                                                | 6/9 [00:01<00:00,  5.61it/s]\u001b[A\n",
      "Valid 19: loss 6.377593 0.1800:  89%|████████████████████████████████████████████████████████████████████████████████████████████████████████████████████████████████                | 8/9 [00:01<00:00,  7.81it/s]\u001b[A\n",
      "Valid 19: loss 6.323635 0.1667: 100%|████████████████████████████████████████████████████████████████████████████████████████████████████████████████████████████████████████████████| 9/9 [00:01<00:00,  5.56it/s]\u001b[A\n",
      "Epoch 19: loss 0.172333 0.9762: 100%|████████████████████████████████████████████████████████████████████████████████████████████████████████████████████████████████████████████| 166/166 [00:53<00:00,  3.08it/s]\n"
     ]
    },
    {
     "name": "stdout",
     "output_type": "stream",
     "text": [
      "EarlyStopping counter: 8 out of 10\n"
     ]
    },
    {
     "name": "stderr",
     "output_type": "stream",
     "text": [
      "Epoch 20: loss 0.143659 0.9762:  99%|███████████████████████████████████████████████████████████████████████████████████████████████████████████████████████████████████████████▏| 165/166 [00:52<00:00,  3.62it/s]\n",
      "  0%|                                                                                                                                                                                        | 0/9 [00:00<?, ?it/s]\u001b[A\n",
      "Valid 20: loss 6.808844 0.1800:   0%|                                                                                                                                                        | 0/9 [00:00<?, ?it/s]\u001b[A\n",
      "Valid 20: loss 6.808844 0.1800:  11%|████████████████                                                                                                                                | 1/9 [00:00<00:06,  1.24it/s]\u001b[A\n",
      "Valid 20: loss 7.178043 0.1200:  11%|████████████████                                                                                                                                | 1/9 [00:00<00:06,  1.24it/s]\u001b[A\n",
      "Valid 20: loss 7.027505 0.1800:  11%|████████████████                                                                                                                                | 1/9 [00:01<00:06,  1.24it/s]\u001b[A\n",
      "Valid 20: loss 7.027505 0.1800:  33%|████████████████████████████████████████████████                                                                                                | 3/9 [00:01<00:01,  3.27it/s]\u001b[A\n",
      "Valid 20: loss 6.893878 0.2800:  33%|████████████████████████████████████████████████                                                                                                | 3/9 [00:01<00:01,  3.27it/s]\u001b[A\n",
      "Valid 20: loss 6.700819 0.3000:  33%|████████████████████████████████████████████████                                                                                                | 3/9 [00:01<00:01,  3.27it/s]\u001b[A\n",
      "Valid 20: loss 6.700819 0.3000:  56%|████████████████████████████████████████████████████████████████████████████████                                                                | 5/9 [00:01<00:00,  5.05it/s]\u001b[A\n",
      "Valid 20: loss 6.780174 0.2600:  56%|████████████████████████████████████████████████████████████████████████████████                                                                | 5/9 [00:01<00:00,  5.05it/s]\u001b[A\n",
      "Valid 20: loss 6.685894 0.2600:  56%|████████████████████████████████████████████████████████████████████████████████                                                                | 5/9 [00:01<00:00,  5.05it/s]\u001b[A\n",
      "Valid 20: loss 6.685894 0.2600:  78%|████████████████████████████████████████████████████████████████████████████████████████████████████████████████                                | 7/9 [00:01<00:00,  6.77it/s]\u001b[A\n",
      "Valid 20: loss 6.571227 0.3000:  78%|████████████████████████████████████████████████████████████████████████████████████████████████████████████████                                | 7/9 [00:01<00:00,  6.77it/s]\u001b[A\n",
      "Valid 20: loss 6.219737 0.3333:  78%|████████████████████████████████████████████████████████████████████████████████████████████████████████████████                                | 7/9 [00:01<00:00,  6.77it/s]\u001b[A\n",
      "Valid 20: loss 6.219737 0.3333: 100%|████████████████████████████████████████████████████████████████████████████████████████████████████████████████████████████████████████████████| 9/9 [00:01<00:00,  5.64it/s]\u001b[A\n",
      "Epoch 20: loss 0.143659 0.9762: 100%|████████████████████████████████████████████████████████████████████████████████████████████████████████████████████████████████████████████| 166/166 [00:54<00:00,  3.07it/s]\n"
     ]
    },
    {
     "name": "stdout",
     "output_type": "stream",
     "text": [
      "EarlyStopping counter: 9 out of 10\n"
     ]
    },
    {
     "name": "stderr",
     "output_type": "stream",
     "text": [
      "Epoch 21: loss 0.134097 1.0000:  99%|███████████████████████████████████████████████████████████████████████████████████████████████████████████████████████████████████████████▏| 165/166 [00:52<00:00,  3.45it/s]\n",
      "  0%|                                                                                                                                                                                        | 0/9 [00:00<?, ?it/s]\u001b[A\n",
      "Valid 21: loss 5.954882 0.3400:   0%|                                                                                                                                                        | 0/9 [00:00<?, ?it/s]\u001b[A\n",
      "Valid 21: loss 5.954882 0.3400:  11%|████████████████                                                                                                                                | 1/9 [00:00<00:06,  1.16it/s]\u001b[A\n",
      "Valid 21: loss 6.099648 0.2000:  11%|████████████████                                                                                                                                | 1/9 [00:00<00:06,  1.16it/s]\u001b[A\n",
      "Valid 21: loss 6.099648 0.2000:  22%|████████████████████████████████                                                                                                                | 2/9 [00:00<00:02,  2.41it/s]\u001b[A\n",
      "Valid 21: loss 6.299463 0.2000:  22%|████████████████████████████████                                                                                                                | 2/9 [00:01<00:02,  2.41it/s]\u001b[A\n",
      "Valid 21: loss 6.616494 0.2200:  22%|████████████████████████████████                                                                                                                | 2/9 [00:01<00:02,  2.41it/s]\u001b[A\n",
      "Valid 21: loss 6.616494 0.2200:  44%|████████████████████████████████████████████████████████████████                                                                                | 4/9 [00:01<00:01,  4.31it/s]\u001b[A\n",
      "Valid 21: loss 6.630293 0.2600:  44%|████████████████████████████████████████████████████████████████                                                                                | 4/9 [00:01<00:01,  4.31it/s]\u001b[A\n",
      "Valid 21: loss 6.580544 0.2000:  44%|████████████████████████████████████████████████████████████████                                                                                | 4/9 [00:01<00:01,  4.31it/s]\u001b[A\n",
      "Valid 21: loss 6.580544 0.2000:  67%|████████████████████████████████████████████████████████████████████████████████████████████████                                                | 6/9 [00:01<00:00,  6.14it/s]\u001b[A\n",
      "Valid 21: loss 6.632783 0.2200:  67%|████████████████████████████████████████████████████████████████████████████████████████████████                                                | 6/9 [00:01<00:00,  6.14it/s]\u001b[A\n",
      "Valid 21: loss 6.610918 0.2800:  67%|████████████████████████████████████████████████████████████████████████████████████████████████                                                | 6/9 [00:01<00:00,  6.14it/s]\u001b[A\n",
      "Valid 21: loss 6.610918 0.2800:  89%|████████████████████████████████████████████████████████████████████████████████████████████████████████████████████████████████                | 8/9 [00:01<00:00,  7.74it/s]\u001b[A\n",
      "Valid 21: loss 6.713754 0.5000: 100%|████████████████████████████████████████████████████████████████████████████████████████████████████████████████████████████████████████████████| 9/9 [00:01<00:00,  5.52it/s]\u001b[A\n",
      "Epoch 21: loss 0.134097 1.0000:  99%|███████████████████████████████████████████████████████████████████████████████████████████████████████████████████████████████████████████▏| 165/166 [00:54<00:00,  3.04it/s]"
     ]
    },
    {
     "name": "stdout",
     "output_type": "stream",
     "text": [
      "EarlyStopping counter: 10 out of 10\n"
     ]
    },
    {
     "name": "stderr",
     "output_type": "stream",
     "text": [
      "\n"
     ]
    }
   ],
   "source": [
    "trainer.fit()"
   ]
  },
  {
   "cell_type": "code",
   "execution_count": 22,
   "id": "76e4bbf5",
   "metadata": {},
   "outputs": [
    {
     "data": {
      "text/plain": [
       "<All keys matched successfully>"
      ]
     },
     "execution_count": 22,
     "metadata": {},
     "output_type": "execute_result"
    }
   ],
   "source": [
    "model.load_state_dict(torch.load(trainer.es_path+'checkpoint.pt'))"
   ]
  },
  {
   "cell_type": "code",
   "execution_count": 23,
   "id": "a4e0d20d",
   "metadata": {},
   "outputs": [],
   "source": [
    "def compute_acc(model, loader):\n",
    "    with torch.no_grad():\n",
    "        preds = []\n",
    "        ys = []\n",
    "        for data in tqdm.tqdm(loader):\n",
    "            data = [to_cuda(dd, device) for dd in data]\n",
    "            pred = model(*data[:-1])\n",
    "            pred = torch.argmax(pred, dim=1).detach().cpu().numpy().tolist()\n",
    "            y = data[-1].detach().cpu().numpy().tolist()\n",
    "            preds += pred\n",
    "            ys += y\n",
    "    return (np.asarray(preds) == np.asarray(ys)).sum()/len(ys)\n",
    "            "
   ]
  },
  {
   "cell_type": "code",
   "execution_count": 24,
   "id": "865643ae",
   "metadata": {},
   "outputs": [
    {
     "name": "stderr",
     "output_type": "stream",
     "text": [
      "100%|████████████████████████████████████████████████████████████████████████████████████████████████████████████████████████████████████████████████████████████████████████████████| 9/9 [00:01<00:00,  5.24it/s]\n",
      "100%|██████████████████████████████████████████████████████████████████████████████████████████████████████████████████████████████████████████████████████████████████████████████| 36/36 [00:05<00:00,  6.28it/s]\n"
     ]
    }
   ],
   "source": [
    "run.log({'Valid Accuracy': compute_acc(model, validloader)})\n",
    "run.log({'Test Accuracy': compute_acc(model, testloader)})"
   ]
  },
  {
   "cell_type": "code",
   "execution_count": 25,
   "id": "a6fd337c",
   "metadata": {},
   "outputs": [
    {
     "name": "stderr",
     "output_type": "stream",
     "text": [
      "100%|██████████████████████████████████████████████████████████████████████████████████████████████████████████████████████████████████████████████████████████████████████████████| 36/36 [00:05<00:00,  6.71it/s]\n"
     ]
    },
    {
     "data": {
      "text/plain": [
       "0.2095505617977528"
      ]
     },
     "execution_count": 25,
     "metadata": {},
     "output_type": "execute_result"
    }
   ],
   "source": [
    "compute_acc(model, testloader)"
   ]
  },
  {
   "cell_type": "code",
   "execution_count": 26,
   "id": "b397238f",
   "metadata": {},
   "outputs": [
    {
     "name": "stderr",
     "output_type": "stream",
     "text": [
      "100%|████████████████████████████████████████████████████████████████████████████████████████████████████████████████████████████████████████████████████████████████████████████████| 9/9 [00:01<00:00,  5.93it/s]\n"
     ]
    },
    {
     "data": {
      "text/plain": [
       "0.21674876847290642"
      ]
     },
     "execution_count": 26,
     "metadata": {},
     "output_type": "execute_result"
    }
   ],
   "source": [
    "compute_acc(model, validloader)"
   ]
  },
  {
   "cell_type": "code",
   "execution_count": null,
   "id": "c1583f3a",
   "metadata": {},
   "outputs": [],
   "source": []
  }
 ],
 "metadata": {
  "kernelspec": {
   "display_name": "Python 3 (ipykernel)",
   "language": "python",
   "name": "python3"
  },
  "language_info": {
   "codemirror_mode": {
    "name": "ipython",
    "version": 3
   },
   "file_extension": ".py",
   "mimetype": "text/x-python",
   "name": "python",
   "nbconvert_exporter": "python",
   "pygments_lexer": "ipython3",
   "version": "3.8.3"
  }
 },
 "nbformat": 4,
 "nbformat_minor": 5
}
