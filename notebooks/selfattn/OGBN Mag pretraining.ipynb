{
 "cells": [
  {
   "cell_type": "code",
   "execution_count": 1,
   "id": "49a7ca25",
   "metadata": {},
   "outputs": [],
   "source": [
    "%load_ext autoreload\n",
    "%autoreload 2"
   ]
  },
  {
   "cell_type": "code",
   "execution_count": 2,
   "id": "0033798e",
   "metadata": {},
   "outputs": [],
   "source": [
    "import json\n",
    "import numpy as np\n",
    "from torch.utils.data import Dataset, DataLoader\n",
    "import glob\n",
    "import wandb\n",
    "import os\n",
    "import torch.optim as optimizers"
   ]
  },
  {
   "cell_type": "code",
   "execution_count": 3,
   "id": "7844993f",
   "metadata": {},
   "outputs": [],
   "source": [
    "import dfs_code\n",
    "from torch_geometric.data import InMemoryDataset, Data\n",
    "import pickle\n",
    "import torch\n",
    "import torch.nn as nn\n",
    "import tqdm\n",
    "import copy\n",
    "import pandas as pd\n",
    "import torch.nn.functional as F\n"
   ]
  },
  {
   "cell_type": "code",
   "execution_count": 4,
   "id": "5a81b63d",
   "metadata": {},
   "outputs": [
    {
     "name": "stderr",
     "output_type": "stream",
     "text": [
      "WARNING:root:No normalization for BCUT2D_MWHI\n",
      "WARNING:root:No normalization for BCUT2D_MWLOW\n",
      "WARNING:root:No normalization for BCUT2D_CHGHI\n",
      "WARNING:root:No normalization for BCUT2D_CHGLO\n",
      "WARNING:root:No normalization for BCUT2D_LOGPHI\n",
      "WARNING:root:No normalization for BCUT2D_LOGPLOW\n",
      "WARNING:root:No normalization for BCUT2D_MRHI\n",
      "WARNING:root:No normalization for BCUT2D_MRLOW\n"
     ]
    }
   ],
   "source": [
    "import sys\n",
    "sys.path = ['../../src'] + sys.path\n",
    "from dfs_transformer import EarlyStopping, DFSCodeSeq2SeqFC, smiles2graph, BERTize"
   ]
  },
  {
   "cell_type": "code",
   "execution_count": 5,
   "id": "40a9aa8d",
   "metadata": {},
   "outputs": [],
   "source": [
    "from dfs_transformer import DFSCodeSeq2SeqFCFeatures, Trainer, PubChem, get_n_files, OgbnMag\n",
    "from dfs_transformer.training.utils import seq_loss, seq_acc, collate_BERT, collate_rnd2min\n",
    "import argparse\n",
    "import yaml\n",
    "import functools\n",
    "from ml_collections import ConfigDict\n",
    "fname = '../../config/selfattn/rnd2min10M.yaml'"
   ]
  },
  {
   "cell_type": "code",
   "execution_count": 6,
   "id": "585768c4",
   "metadata": {},
   "outputs": [],
   "source": [
    "with open(fname) as file:\n",
    "    config = ConfigDict(yaml.load(file, Loader=yaml.FullLoader))"
   ]
  },
  {
   "cell_type": "code",
   "execution_count": 7,
   "id": "f5fd6e34",
   "metadata": {},
   "outputs": [],
   "source": [
    "name = \"rnd2min\"\n",
    "mode = \"offline\""
   ]
  },
  {
   "cell_type": "code",
   "execution_count": 8,
   "id": "a37044d1",
   "metadata": {},
   "outputs": [],
   "source": [
    "config.model.n_atoms = 4\n",
    "config.model.n_bonds = 4\n",
    "config.model.n_node_features = 4\n",
    "config.model.n_edge_features = 4"
   ]
  },
  {
   "cell_type": "code",
   "execution_count": 9,
   "id": "a8faa49a",
   "metadata": {},
   "outputs": [],
   "source": [
    "config.data.n_used = None\n",
    "config.data.n_iter_per_split = None\n",
    "config.data.path = \"../../results/ogbn_mag/timeout1/\"\n",
    "config.data.require_min_dfs_code = True"
   ]
  },
  {
   "cell_type": "code",
   "execution_count": 10,
   "id": "b2573113",
   "metadata": {},
   "outputs": [],
   "source": [
    "config.training.n_epochs = 100\n",
    "config.training.gpu_id = None"
   ]
  },
  {
   "cell_type": "code",
   "execution_count": 11,
   "id": "69384b8c",
   "metadata": {},
   "outputs": [
    {
     "name": "stderr",
     "output_type": "stream",
     "text": [
      "ERROR:wandb.jupyter:Failed to detect the name of this notebook, you can set it manually with the WANDB_NOTEBOOK_NAME environment variable to enable code saving.\n",
      "2021-09-17 12:09:33.569884: W tensorflow/stream_executor/platform/default/dso_loader.cc:64] Could not load dynamic library 'libcudart.so.11.0'; dlerror: libcudart.so.11.0: cannot open shared object file: No such file or directory; LD_LIBRARY_PATH: :/opt/cuda/extras/CUPTI/lib64/:/opt/intel/lib:/opt/intel/mkl/lib/intel64:/opt/intel:/opt/ibm/ILOG/CPLEX_Studio1210/cplex/bin/x86-64_linux:/opt/ibm/ILOG/CPLEX_Studio1210/cplex/python/3.7/x86-64_linux:/opt/intel/clck_latest/lib:/opt/intel/daal/lib:/opt/intel/intelpython3/lib:/opt/intel/ipp/lib:/opt/intel/itac_2019/lib:/opt/intel/itac_latest/lib:/opt/intel/mkl/lib:/opt/intel/mkl_/lib:/opt/intel/mpirt/lib:/opt/intel/tbb/lib:/opt/intel/clck/2019.0/lib:/opt/intel/compilers_and_libraries_2019/linux/lib:/opt/intel/compilers_and_libraries/linux/lib:/opt/intel/itac/2019.0.018/lib:/opt/intel/itac_2019/intel64/lib:/opt/intel/itac_latest/intel64/lib:/opt/intel/parallel_studio_xe_2019.0.045/clck_2019/lib:/opt/intel/parallel_studio_xe_2019.0.045/itac_2019/lib:/opt/intel/parallel_studio_xe_2019/clck_2019/lib:/opt/intel/parallel_studio_xe_2019/itac_2019/lib:/opt/cuda/extras/CUPTI/lib64/:/opt/intel/lib:/opt/intel/mkl/lib/intel64:/opt/intel:/opt/ibm/ILOG/CPLEX_Studio1210/cplex/bin/x86-64_linux:/opt/ibm/ILOG/CPLEX_Studio1210/cplex/python/3.7/x86-64_linux:/opt/intel/clck_latest/lib:/opt/intel/daal/lib:/opt/intel/intelpython3/lib:/opt/intel/ipp/lib:/opt/intel/itac_2019/lib:/opt/intel/itac_latest/lib:/opt/intel/mkl/lib:/opt/intel/mkl_/lib:/opt/intel/mpirt/lib:/opt/intel/tbb/lib:/opt/intel/clck/2019.0/lib:/opt/intel/compilers_and_libraries_2019/linux/lib:/opt/intel/compilers_and_libraries/linux/lib:/opt/intel/itac/2019.0.018/lib:/opt/intel/itac_2019/intel64/lib:/opt/intel/itac_latest/intel64/lib:/opt/intel/parallel_studio_xe_2019.0.045/clck_2019/lib:/opt/intel/parallel_studio_xe_2019.0.045/itac_2019/lib:/opt/intel/parallel_studio_xe_2019/clck_2019/lib:/opt/intel/parallel_studio_xe_2019/itac_2019/lib\n",
      "2021-09-17 12:09:33.569908: I tensorflow/stream_executor/cuda/cudart_stub.cc:29] Ignore above cudart dlerror if you do not have a GPU set up on your machine.\n",
      "\u001b[34m\u001b[1mwandb\u001b[0m: W&B syncing is set to `offline` in this directory.  Run `wandb online` or set WANDB_MODE=online to enable cloud syncing.\n"
     ]
    }
   ],
   "source": [
    "run = wandb.init(mode=mode, project=\"ogbn-mag\", entity=\"dfstransformer\", \n",
    "                 name=name, config=config.to_dict(), job_type=\"pretraining\")"
   ]
  },
  {
   "cell_type": "code",
   "execution_count": 12,
   "id": "6a92cba2",
   "metadata": {},
   "outputs": [],
   "source": [
    "m = config.model\n",
    "t = config.training\n",
    "d = config.data\n",
    "\n",
    "ce = nn.CrossEntropyLoss(ignore_index=-1)\n",
    "bce = nn.BCEWithLogitsLoss()    \n",
    "\n",
    "fields = ['acc-dfs1', 'acc-dfs2', 'acc-atm1', 'acc-atm2', 'acc-bnd']\n",
    "metrics = {field:functools.partial(seq_acc, idx=idx) for idx, field in enumerate(fields)}"
   ]
  },
  {
   "cell_type": "code",
   "execution_count": 27,
   "id": "07de93fe",
   "metadata": {},
   "outputs": [],
   "source": [
    "def collate_fn(dlist):\n",
    "    node_batch = [] \n",
    "    edge_batch = []\n",
    "    min_code_batch = []\n",
    "    rnd_code_batch = []\n",
    "    for d in dlist:\n",
    "        node_batch += [F.one_hot(d.node_labels, config.model.n_node_features).float()]\n",
    "        edge_batch += [F.one_hot(d.edge_labels, config.model.n_edge_features).float()]\n",
    "        rnd_code, rnd_index = dfs_code.rnd_dfs_code_from_torch_geometric(d, d.node_labels.numpy().tolist(), \n",
    "                                                                         d.edge_labels.numpy().tolist())\n",
    "        rnd_code = torch.tensor(rnd_code, dtype=torch.long)\n",
    "        rnd_code_batch += [rnd_code]\n",
    "        min_code_batch += [d.min_dfs_code.long()]\n",
    "\n",
    "    targets = nn.utils.rnn.pad_sequence(min_code_batch, padding_value=-1)\n",
    "    return rnd_code_batch, node_batch, edge_batch, targets "
   ]
  },
  {
   "cell_type": "code",
   "execution_count": 14,
   "id": "a80c3ad1",
   "metadata": {},
   "outputs": [],
   "source": [
    "loss = functools.partial(seq_loss, m=m, ce=ce)"
   ]
  },
  {
   "cell_type": "code",
   "execution_count": 15,
   "id": "db77070d",
   "metadata": {},
   "outputs": [],
   "source": [
    "model = DFSCodeSeq2SeqFC(**m)\n",
    "    \n",
    "if t.load_last and t.es_path is not None:\n",
    "    model.load_state_dict(torch.load(t.es_path+'checkpoint.pt', map_location=device))\n",
    "elif t.pretrained_dir is not None:\n",
    "    model.load_state_dict(torch.load(t.pretrained_dir+'checkpoint.pt', map_location=device))"
   ]
  },
  {
   "cell_type": "code",
   "execution_count": 16,
   "id": "23c51eee",
   "metadata": {},
   "outputs": [],
   "source": [
    "validloader = None"
   ]
  },
  {
   "cell_type": "code",
   "execution_count": 17,
   "id": "260553a9",
   "metadata": {},
   "outputs": [
    {
     "name": "stderr",
     "output_type": "stream",
     "text": [
      "100%|████████████████████████████████████████████████████████████████████████████████████████████████████████████████████████████████████████████████████████████████████████████████| 1/1 [00:04<00:00,  4.68s/it]\n",
      "100%|█████████████████████████████████████████████████████████████████████████████████████████████████████████████████████████████████████████████████████████████████████| 36820/36820 [00:01<00:00, 23534.53it/s]\n"
     ]
    }
   ],
   "source": [
    "dataset = OgbnMag(d.path, max_nodes=m.max_nodes, max_edges=m.max_edges, require_min_dfs_code=d.require_min_dfs_code)\n"
   ]
  },
  {
   "cell_type": "code",
   "execution_count": 28,
   "id": "94a05912",
   "metadata": {},
   "outputs": [],
   "source": [
    "loader = DataLoader(dataset, batch_size=t.batch_size, shuffle=True, pin_memory=False, collate_fn=collate_fn)"
   ]
  },
  {
   "cell_type": "code",
   "execution_count": 29,
   "id": "25192fee",
   "metadata": {},
   "outputs": [],
   "source": [
    "trainer = Trainer(model, loader, loss, validloader=validloader, metrics=metrics, \n",
    "                  wandb_run = run, **t)"
   ]
  },
  {
   "cell_type": "code",
   "execution_count": 30,
   "id": "a20a1ec8",
   "metadata": {},
   "outputs": [
    {
     "name": "stderr",
     "output_type": "stream",
     "text": [
      "Epoch 1: loss 13.674705 0.0583 0.2167 0.5424 0.6878 0.2301:   2%|█▋                                                                                                                | 6/398 [00:18<19:37,  3.00s/it]\n"
     ]
    }
   ],
   "source": [
    "trainer.fit()"
   ]
  },
  {
   "cell_type": "code",
   "execution_count": null,
   "id": "3ed0ee24",
   "metadata": {},
   "outputs": [],
   "source": [
    "#store config and model\n",
    "with open(t.es_path+'config.yaml', 'w') as f:\n",
    "    yaml.dump(config.to_dict(), f, default_flow_style=False)\n",
    "if name is not None and mode != \"offline\":\n",
    "    trained_model_artifact = wandb.Artifact(name, type=\"model\", description=\"trained selfattn model\")\n",
    "    trained_model_artifact.add_dir(t.es_path)\n",
    "    run.log_artifact(trained_model_artifact)"
   ]
  },
  {
   "cell_type": "code",
   "execution_count": null,
   "id": "816c5af5",
   "metadata": {},
   "outputs": [],
   "source": []
  },
  {
   "cell_type": "code",
   "execution_count": null,
   "id": "18b8f4ce",
   "metadata": {},
   "outputs": [],
   "source": []
  }
 ],
 "metadata": {
  "kernelspec": {
   "display_name": "Python 3 (ipykernel)",
   "language": "python",
   "name": "python3"
  },
  "language_info": {
   "codemirror_mode": {
    "name": "ipython",
    "version": 3
   },
   "file_extension": ".py",
   "mimetype": "text/x-python",
   "name": "python",
   "nbconvert_exporter": "python",
   "pygments_lexer": "ipython3",
   "version": "3.8.3"
  }
 },
 "nbformat": 4,
 "nbformat_minor": 5
}
