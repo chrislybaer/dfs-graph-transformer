{
 "cells": [
  {
   "cell_type": "code",
   "execution_count": 1,
   "id": "77c42268",
   "metadata": {},
   "outputs": [],
   "source": [
    "%load_ext autoreload\n",
    "%autoreload 2"
   ]
  },
  {
   "cell_type": "code",
   "execution_count": 2,
   "id": "13f80d60",
   "metadata": {},
   "outputs": [],
   "source": [
    "import json\n",
    "import numpy as np\n",
    "from torch.utils.data import Dataset, DataLoader\n",
    "import glob\n",
    "import wandb\n",
    "import os\n",
    "import torch.optim as optimizers\n",
    "import dfs_code\n",
    "from torch_geometric.data import InMemoryDataset, Data\n",
    "import pickle\n",
    "import torch\n",
    "import torch.nn as nn\n",
    "import tqdm\n",
    "import copy\n",
    "import pandas as pd\n",
    "import torch.nn.functional as F\n",
    "import sys\n",
    "import yaml\n",
    "import functools\n",
    "from ml_collections import ConfigDict\n",
    "sys.path = ['../../src'] + sys.path\n",
    "from dfs_transformer import DFSCodeSeq2SeqFC, Deepchem2TorchGeometric, Trainer, to_cuda"
   ]
  },
  {
   "cell_type": "markdown",
   "id": "c3a108f5",
   "metadata": {},
   "source": [
    "# download pretrained model"
   ]
  },
  {
   "cell_type": "code",
   "execution_count": 9,
   "id": "176b1c7e",
   "metadata": {},
   "outputs": [
    {
     "name": "stderr",
     "output_type": "stream",
     "text": [
      "\u001b[34m\u001b[1mwandb\u001b[0m: wandb version 0.13.4 is available!  To upgrade, please run:\n",
      "\u001b[34m\u001b[1mwandb\u001b[0m:  $ pip install wandb --upgrade\n"
     ]
    },
    {
     "data": {
      "text/html": [
       "\n",
       "                Tracking run with wandb version 0.10.33<br/>\n",
       "                Syncing run <strong style=\"color:#cdcd00\">different-rain-144</strong> to <a href=\"https://wandb.ai\" target=\"_blank\">Weights & Biases</a> <a href=\"https://docs.wandb.com/integrations/jupyter.html\" target=\"_blank\">(Documentation)</a>.<br/>\n",
       "                Project page: <a href=\"https://wandb.ai/dfstransformer/pubchem_newencoding\" target=\"_blank\">https://wandb.ai/dfstransformer/pubchem_newencoding</a><br/>\n",
       "                Run page: <a href=\"https://wandb.ai/dfstransformer/pubchem_newencoding/runs/1lf8j1uk\" target=\"_blank\">https://wandb.ai/dfstransformer/pubchem_newencoding/runs/1lf8j1uk</a><br/>\n",
       "                Run data is saved locally in <code>/home/chrisw/Documents/projects/2023/graph-transformer/notebooks/selfattn/wandb/run-20221028_183008-1lf8j1uk</code><br/><br/>\n",
       "            "
      ],
      "text/plain": [
       "<IPython.core.display.HTML object>"
      ]
     },
     "metadata": {},
     "output_type": "display_data"
    },
    {
     "name": "stderr",
     "output_type": "stream",
     "text": [
      "\u001b[34m\u001b[1mwandb\u001b[0m: Downloading large artifact r2r0:latest, 98.89MB. 2 files... Done. 0:0:0\n"
     ]
    },
    {
     "data": {
      "text/html": [
       "<br/>Waiting for W&B process to finish, PID 47647<br/>Program ended successfully."
      ],
      "text/plain": [
       "<IPython.core.display.HTML object>"
      ]
     },
     "metadata": {},
     "output_type": "display_data"
    },
    {
     "data": {
      "application/vnd.jupyter.widget-view+json": {
       "model_id": "",
       "version_major": 2,
       "version_minor": 0
      },
      "text/plain": [
       "VBox(children=(Label(value=' 0.00MB of 0.00MB uploaded (0.00MB deduped)\\r'), FloatProgress(value=1.0, max=1.0)…"
      ]
     },
     "metadata": {},
     "output_type": "display_data"
    },
    {
     "data": {
      "text/html": [
       "Find user logs for this run at: <code>/home/chrisw/Documents/projects/2023/graph-transformer/notebooks/selfattn/wandb/run-20221028_183008-1lf8j1uk/logs/debug.log</code>"
      ],
      "text/plain": [
       "<IPython.core.display.HTML object>"
      ]
     },
     "metadata": {},
     "output_type": "display_data"
    },
    {
     "data": {
      "text/html": [
       "Find internal logs for this run at: <code>/home/chrisw/Documents/projects/2023/graph-transformer/notebooks/selfattn/wandb/run-20221028_183008-1lf8j1uk/logs/debug-internal.log</code>"
      ],
      "text/plain": [
       "<IPython.core.display.HTML object>"
      ]
     },
     "metadata": {},
     "output_type": "display_data"
    },
    {
     "data": {
      "text/html": [
       "Synced 6 W&B file(s), 0 media file(s), 0 artifact file(s) and 0 other file(s)"
      ],
      "text/plain": [
       "<IPython.core.display.HTML object>"
      ]
     },
     "metadata": {},
     "output_type": "display_data"
    },
    {
     "data": {
      "text/html": [
       "\n",
       "                    <br/>Synced <strong style=\"color:#cdcd00\">different-rain-144</strong>: <a href=\"https://wandb.ai/dfstransformer/pubchem_newencoding/runs/1lf8j1uk\" target=\"_blank\">https://wandb.ai/dfstransformer/pubchem_newencoding/runs/1lf8j1uk</a><br/>\n",
       "                "
      ],
      "text/plain": [
       "<IPython.core.display.HTML object>"
      ]
     },
     "metadata": {},
     "output_type": "display_data"
    }
   ],
   "source": [
    "run = wandb.init(mode=\"online\", \n",
    "                 project=\"pubchem_newencoding\", \n",
    "                 entity=\"dfstransformer\", \n",
    "                 job_type=\"inference\")\n",
    "\n",
    "#model_at = run.use_artifact(\"bertloops0.5-10M-nofeats\" + \":latest\")\n",
    "model_at = run.use_artifact(\"r2r0\" + \":latest\")\n",
    "\n",
    "model_dir = model_at.download()\n",
    "run.finish()\n",
    "features = None #\"chemprop\"\n",
    "fingerprint = 'min-mean-max-std'\n",
    "fingerprint = 'cls'\n",
    "load_flag = True"
   ]
  },
  {
   "cell_type": "code",
   "execution_count": 10,
   "id": "c6572c8c",
   "metadata": {},
   "outputs": [],
   "source": [
    "with open(model_dir+\"/config.yaml\") as file:\n",
    "    config = ConfigDict(yaml.load(file, Loader=yaml.FullLoader))"
   ]
  },
  {
   "cell_type": "code",
   "execution_count": 11,
   "id": "f2ff8a99",
   "metadata": {},
   "outputs": [],
   "source": [
    "device = torch.device('cuda:%d'%config.training.gpu_id if torch.cuda.is_available()  else 'cpu')"
   ]
  },
  {
   "cell_type": "code",
   "execution_count": 12,
   "id": "d1852e4f",
   "metadata": {},
   "outputs": [],
   "source": [
    "m = config.model"
   ]
  },
  {
   "cell_type": "code",
   "execution_count": 13,
   "id": "41d00902",
   "metadata": {},
   "outputs": [
    {
     "ename": "RuntimeError",
     "evalue": "Error(s) in loading state_dict for DFSCodeSeq2SeqFC:\n\tMissing key(s) in state_dict: \"cls_token\", \"encoder.missing_token\", \"encoder.dfs_emb\", \"encoder.emb_dfs.pe\", \"encoder.emb_seq.pe\", \"encoder.emb_atom.weight\", \"encoder.emb_atom.bias\", \"encoder.emb_bond.weight\", \"encoder.emb_bond.bias\", \"encoder.mixer.weight\", \"encoder.mixer.bias\", \"encoder.enc.layers.0.self_attn.in_proj_weight\", \"encoder.enc.layers.0.self_attn.in_proj_bias\", \"encoder.enc.layers.0.self_attn.out_proj.weight\", \"encoder.enc.layers.0.self_attn.out_proj.bias\", \"encoder.enc.layers.0.linear1.weight\", \"encoder.enc.layers.0.linear1.bias\", \"encoder.enc.layers.0.linear2.weight\", \"encoder.enc.layers.0.linear2.bias\", \"encoder.enc.layers.0.norm1.weight\", \"encoder.enc.layers.0.norm1.bias\", \"encoder.enc.layers.0.norm2.weight\", \"encoder.enc.layers.0.norm2.bias\", \"encoder.enc.layers.1.self_attn.in_proj_weight\", \"encoder.enc.layers.1.self_attn.in_proj_bias\", \"encoder.enc.layers.1.self_attn.out_proj.weight\", \"encoder.enc.layers.1.self_attn.out_proj.bias\", \"encoder.enc.layers.1.linear1.weight\", \"encoder.enc.layers.1.linear1.bias\", \"encoder.enc.layers.1.linear2.weight\", \"encoder.enc.layers.1.linear2.bias\", \"encoder.enc.layers.1.norm1.weight\", \"encoder.enc.layers.1.norm1.bias\", \"encoder.enc.layers.1.norm2.weight\", \"encoder.enc.layers.1.norm2.bias\", \"encoder.enc.layers.2.self_attn.in_proj_weight\", \"encoder.enc.layers.2.self_attn.in_proj_bias\", \"encoder.enc.layers.2.self_attn.out_proj.weight\", \"encoder.enc.layers.2.self_attn.out_proj.bias\", \"encoder.enc.layers.2.linear1.weight\", \"encoder.enc.layers.2.linear1.bias\", \"encoder.enc.layers.2.linear2.weight\", \"encoder.enc.layers.2.linear2.bias\", \"encoder.enc.layers.2.norm1.weight\", \"encoder.enc.layers.2.norm1.bias\", \"encoder.enc.layers.2.norm2.weight\", \"encoder.enc.layers.2.norm2.bias\", \"encoder.enc.layers.3.self_attn.in_proj_weight\", \"encoder.enc.layers.3.self_attn.in_proj_bias\", \"encoder.enc.layers.3.self_attn.out_proj.weight\", \"encoder.enc.layers.3.self_attn.out_proj.bias\", \"encoder.enc.layers.3.linear1.weight\", \"encoder.enc.layers.3.linear1.bias\", \"encoder.enc.layers.3.linear2.weight\", \"encoder.enc.layers.3.linear2.bias\", \"encoder.enc.layers.3.norm1.weight\", \"encoder.enc.layers.3.norm1.bias\", \"encoder.enc.layers.3.norm2.weight\", \"encoder.enc.layers.3.norm2.bias\", \"encoder.enc.layers.4.self_attn.in_proj_weight\", \"encoder.enc.layers.4.self_attn.in_proj_bias\", \"encoder.enc.layers.4.self_attn.out_proj.weight\", \"encoder.enc.layers.4.self_attn.out_proj.bias\", \"encoder.enc.layers.4.linear1.weight\", \"encoder.enc.layers.4.linear1.bias\", \"encoder.enc.layers.4.linear2.weight\", \"encoder.enc.layers.4.linear2.bias\", \"encoder.enc.layers.4.norm1.weight\", \"encoder.enc.layers.4.norm1.bias\", \"encoder.enc.layers.4.norm2.weight\", \"encoder.enc.layers.4.norm2.bias\", \"encoder.enc.layers.5.self_attn.in_proj_weight\", \"encoder.enc.layers.5.self_attn.in_proj_bias\", \"encoder.enc.layers.5.self_attn.out_proj.weight\", \"encoder.enc.layers.5.self_attn.out_proj.bias\", \"encoder.enc.layers.5.linear1.weight\", \"encoder.enc.layers.5.linear1.bias\", \"encoder.enc.layers.5.linear2.weight\", \"encoder.enc.layers.5.linear2.bias\", \"encoder.enc.layers.5.norm1.weight\", \"encoder.enc.layers.5.norm1.bias\", \"encoder.enc.layers.5.norm2.weight\", \"encoder.enc.layers.5.norm2.bias\", \"fcs.dfs_from.weight\", \"fcs.dfs_from.bias\", \"fcs.dfs_to.weight\", \"fcs.dfs_to.bias\", \"fcs.atomic_num_from.weight\", \"fcs.atomic_num_from.bias\", \"fcs.atomic_num_to.weight\", \"fcs.atomic_num_to.bias\", \"fcs.formal_charge_from.weight\", \"fcs.formal_charge_from.bias\", \"fcs.formal_charge_to.weight\", \"fcs.formal_charge_to.bias\", \"fcs.chiral_tag_from.weight\", \"fcs.chiral_tag_from.bias\", \"fcs.chiral_tag_to.weight\", \"fcs.chiral_tag_to.bias\", \"fcs.num_Hs_from.weight\", \"fcs.num_Hs_from.bias\", \"fcs.num_Hs_to.weight\", \"fcs.num_Hs_to.bias\", \"fcs.hybridization_from.weight\", \"fcs.hybridization_from.bias\", \"fcs.hybridization_to.weight\", \"fcs.hybridization_to.bias\", \"fcs.is_aromatic_from.weight\", \"fcs.is_aromatic_from.bias\", \"fcs.is_aromatic_to.weight\", \"fcs.is_aromatic_to.bias\", \"fcs.bond_type.weight\", \"fcs.bond_type.bias\". \n\tUnexpected key(s) in state_dict: \"head_dict.rdmolops_GetFormalCharge.weight\", \"head_dict.rdmolops_GetFormalCharge.bias\", \"head_dict.qed.weight\", \"head_dict.qed.bias\", \"head_dict.rdMolDescriptors_CalcNumAliphaticCarbocycles.weight\", \"head_dict.rdMolDescriptors_CalcNumAliphaticCarbocycles.bias\", \"head_dict.rdMolDescriptors_CalcNumAliphaticHeterocycles.weight\", \"head_dict.rdMolDescriptors_CalcNumAliphaticHeterocycles.bias\", \"head_dict.rdMolDescriptors_CalcNumAliphaticRings.weight\", \"head_dict.rdMolDescriptors_CalcNumAliphaticRings.bias\", \"head_dict.rdMolDescriptors_CalcNumAmideBonds.weight\", \"head_dict.rdMolDescriptors_CalcNumAmideBonds.bias\", \"head_dict.rdMolDescriptors_CalcNumAromaticCarbocycles.weight\", \"head_dict.rdMolDescriptors_CalcNumAromaticCarbocycles.bias\", \"head_dict.rdMolDescriptors_CalcNumAromaticHeterocycles.weight\", \"head_dict.rdMolDescriptors_CalcNumAromaticHeterocycles.bias\", \"head_dict.rdMolDescriptors_CalcNumAromaticRings.weight\", \"head_dict.rdMolDescriptors_CalcNumAromaticRings.bias\", \"head_dict.rdMolDescriptors_CalcNumAtomStereoCenters.weight\", \"head_dict.rdMolDescriptors_CalcNumAtomStereoCenters.bias\", \"head_dict.rdMolDescriptors_CalcNumBridgeheadAtoms.weight\", \"head_dict.rdMolDescriptors_CalcNumBridgeheadAtoms.bias\", \"head_dict.rdMolDescriptors_CalcNumHBA.weight\", \"head_dict.rdMolDescriptors_CalcNumHBA.bias\", \"head_dict.rdMolDescriptors_CalcNumHBD.weight\", \"head_dict.rdMolDescriptors_CalcNumHBD.bias\", \"head_dict.rdMolDescriptors_CalcNumHeteroatoms.weight\", \"head_dict.rdMolDescriptors_CalcNumHeteroatoms.bias\", \"head_dict.rdMolDescriptors_CalcNumHeterocycles.weight\", \"head_dict.rdMolDescriptors_CalcNumHeterocycles.bias\", \"head_dict.rdMolDescriptors_CalcNumLipinskiHBA.weight\", \"head_dict.rdMolDescriptors_CalcNumLipinskiHBA.bias\", \"head_dict.rdMolDescriptors_CalcNumLipinskiHBD.weight\", \"head_dict.rdMolDescriptors_CalcNumLipinskiHBD.bias\", \"head_dict.rdMolDescriptors_CalcNumRings.weight\", \"head_dict.rdMolDescriptors_CalcNumRings.bias\", \"head_dict.rdMolDescriptors_CalcNumRotatableBonds.weight\", \"head_dict.rdMolDescriptors_CalcNumRotatableBonds.bias\", \"head_dict.rdMolDescriptors_CalcNumSaturatedCarbocycles.weight\", \"head_dict.rdMolDescriptors_CalcNumSaturatedCarbocycles.bias\", \"head_dict.rdMolDescriptors_CalcNumSaturatedHeterocycles.weight\", \"head_dict.rdMolDescriptors_CalcNumSaturatedHeterocycles.bias\", \"head_dict.rdMolDescriptors_CalcNumSaturatedRings.weight\", \"head_dict.rdMolDescriptors_CalcNumSaturatedRings.bias\", \"head_dict.rdMolDescriptors_CalcNumSpiroAtoms.weight\", \"head_dict.rdMolDescriptors_CalcNumSpiroAtoms.bias\", \"head_dict.rdMolDescriptors_CalcNumUnspecifiedAtomStereoCenters.weight\", \"head_dict.rdMolDescriptors_CalcNumUnspecifiedAtomStereoCenters.bias\", \"head_dict.rdMolDescriptors_CalcPBF.weight\", \"head_dict.rdMolDescriptors_CalcPBF.bias\", \"head_dict.rdMolDescriptors_CalcPMI1.weight\", \"head_dict.rdMolDescriptors_CalcPMI1.bias\", \"head_dict.rdMolDescriptors_CalcPMI2.weight\", \"head_dict.rdMolDescriptors_CalcPMI2.bias\", \"head_dict.rdMolDescriptors_CalcPMI3.weight\", \"head_dict.rdMolDescriptors_CalcPMI3.bias\", \"head_dict.rdMolDescriptors_CalcPhi.weight\", \"head_dict.rdMolDescriptors_CalcPhi.bias\", \"head_dict.rdMolDescriptors_CalcRadiusOfGyration.weight\", \"head_dict.rdMolDescriptors_CalcRadiusOfGyration.bias\", \"head_dict.rdMolDescriptors_CalcSpherocityIndex.weight\", \"head_dict.rdMolDescriptors_CalcSpherocityIndex.bias\", \"head_dict.rdMolDescriptors_CalcTPSA.weight\", \"head_dict.rdMolDescriptors_CalcTPSA.bias\", \"head_dict.rdMolDescriptors_CalcAsphericity.weight\", \"head_dict.rdMolDescriptors_CalcAsphericity.bias\", \"head_dict.rdMolDescriptors_CalcChi0v.weight\", \"head_dict.rdMolDescriptors_CalcChi0v.bias\", \"head_dict.rdMolDescriptors_CalcChi1v.weight\", \"head_dict.rdMolDescriptors_CalcChi1v.bias\", \"head_dict.rdMolDescriptors_CalcChi2v.weight\", \"head_dict.rdMolDescriptors_CalcChi2v.bias\", \"head_dict.rdMolDescriptors_CalcChi3v.weight\", \"head_dict.rdMolDescriptors_CalcChi3v.bias\", \"head_dict.rdMolDescriptors_CalcChi4v.weight\", \"head_dict.rdMolDescriptors_CalcChi4v.bias\", \"head_dict.rdMolDescriptors_CalcEccentricity.weight\", \"head_dict.rdMolDescriptors_CalcEccentricity.bias\", \"head_dict.rdMolDescriptors_CalcExactMolWt.weight\", \"head_dict.rdMolDescriptors_CalcExactMolWt.bias\", \"head_dict.rdMolDescriptors_CalcFractionCSP3.weight\", \"head_dict.rdMolDescriptors_CalcFractionCSP3.bias\", \"head_dict.rdMolDescriptors_CalcHallKierAlpha.weight\", \"head_dict.rdMolDescriptors_CalcHallKierAlpha.bias\", \"head_dict.rdMolDescriptors_CalcInertialShapeFactor.weight\", \"head_dict.rdMolDescriptors_CalcInertialShapeFactor.bias\", \"head_dict.rdMolDescriptors_CalcKappa1.weight\", \"head_dict.rdMolDescriptors_CalcKappa1.bias\", \"head_dict.rdMolDescriptors_CalcKappa2.weight\", \"head_dict.rdMolDescriptors_CalcKappa2.bias\", \"head_dict.rdMolDescriptors_CalcKappa3.weight\", \"head_dict.rdMolDescriptors_CalcKappa3.bias\", \"head_dict.rdMolDescriptors_CalcLabuteASA.weight\", \"head_dict.rdMolDescriptors_CalcLabuteASA.bias\", \"head_dict.rdMolDescriptors_CalcNPR1.weight\", \"head_dict.rdMolDescriptors_CalcNPR1.bias\", \"head_dict.rdMolDescriptors_CalcNPR2.weight\", \"head_dict.rdMolDescriptors_CalcNPR2.bias\", \"encoder.cls_token\", \"encoder.encoder.missing_token\", \"encoder.encoder.dfs_emb\", \"encoder.encoder.emb_dfs.pe\", \"encoder.encoder.emb_seq.pe\", \"encoder.encoder.emb_atom.weight\", \"encoder.encoder.emb_atom.bias\", \"encoder.encoder.emb_bond.weight\", \"encoder.encoder.emb_bond.bias\", \"encoder.encoder.mixer.weight\", \"encoder.encoder.mixer.bias\", \"encoder.encoder.enc.layers.0.self_attn.in_proj_weight\", \"encoder.encoder.enc.layers.0.self_attn.in_proj_bias\", \"encoder.encoder.enc.layers.0.self_attn.out_proj.weight\", \"encoder.encoder.enc.layers.0.self_attn.out_proj.bias\", \"encoder.encoder.enc.layers.0.linear1.weight\", \"encoder.encoder.enc.layers.0.linear1.bias\", \"encoder.encoder.enc.layers.0.linear2.weight\", \"encoder.encoder.enc.layers.0.linear2.bias\", \"encoder.encoder.enc.layers.0.norm1.weight\", \"encoder.encoder.enc.layers.0.norm1.bias\", \"encoder.encoder.enc.layers.0.norm2.weight\", \"encoder.encoder.enc.layers.0.norm2.bias\", \"encoder.encoder.enc.layers.1.self_attn.in_proj_weight\", \"encoder.encoder.enc.layers.1.self_attn.in_proj_bias\", \"encoder.encoder.enc.layers.1.self_attn.out_proj.weight\", \"encoder.encoder.enc.layers.1.self_attn.out_proj.bias\", \"encoder.encoder.enc.layers.1.linear1.weight\", \"encoder.encoder.enc.layers.1.linear1.bias\", \"encoder.encoder.enc.layers.1.linear2.weight\", \"encoder.encoder.enc.layers.1.linear2.bias\", \"encoder.encoder.enc.layers.1.norm1.weight\", \"encoder.encoder.enc.layers.1.norm1.bias\", \"encoder.encoder.enc.layers.1.norm2.weight\", \"encoder.encoder.enc.layers.1.norm2.bias\", \"encoder.encoder.enc.layers.2.self_attn.in_proj_weight\", \"encoder.encoder.enc.layers.2.self_attn.in_proj_bias\", \"encoder.encoder.enc.layers.2.self_attn.out_proj.weight\", \"encoder.encoder.enc.layers.2.self_attn.out_proj.bias\", \"encoder.encoder.enc.layers.2.linear1.weight\", \"encoder.encoder.enc.layers.2.linear1.bias\", \"encoder.encoder.enc.layers.2.linear2.weight\", \"encoder.encoder.enc.layers.2.linear2.bias\", \"encoder.encoder.enc.layers.2.norm1.weight\", \"encoder.encoder.enc.layers.2.norm1.bias\", \"encoder.encoder.enc.layers.2.norm2.weight\", \"encoder.encoder.enc.layers.2.norm2.bias\", \"encoder.encoder.enc.layers.3.self_attn.in_proj_weight\", \"encoder.encoder.enc.layers.3.self_attn.in_proj_bias\", \"encoder.encoder.enc.layers.3.self_attn.out_proj.weight\", \"encoder.encoder.enc.layers.3.self_attn.out_proj.bias\", \"encoder.encoder.enc.layers.3.linear1.weight\", \"encoder.encoder.enc.layers.3.linear1.bias\", \"encoder.encoder.enc.layers.3.linear2.weight\", \"encoder.encoder.enc.layers.3.linear2.bias\", \"encoder.encoder.enc.layers.3.norm1.weight\", \"encoder.encoder.enc.layers.3.norm1.bias\", \"encoder.encoder.enc.layers.3.norm2.weight\", \"encoder.encoder.enc.layers.3.norm2.bias\", \"encoder.encoder.enc.layers.4.self_attn.in_proj_weight\", \"encoder.encoder.enc.layers.4.self_attn.in_proj_bias\", \"encoder.encoder.enc.layers.4.self_attn.out_proj.weight\", \"encoder.encoder.enc.layers.4.self_attn.out_proj.bias\", \"encoder.encoder.enc.layers.4.linear1.weight\", \"encoder.encoder.enc.layers.4.linear1.bias\", \"encoder.encoder.enc.layers.4.linear2.weight\", \"encoder.encoder.enc.layers.4.linear2.bias\", \"encoder.encoder.enc.layers.4.norm1.weight\", \"encoder.encoder.enc.layers.4.norm1.bias\", \"encoder.encoder.enc.layers.4.norm2.weight\", \"encoder.encoder.enc.layers.4.norm2.bias\", \"encoder.encoder.enc.layers.5.self_attn.in_proj_weight\", \"encoder.encoder.enc.layers.5.self_attn.in_proj_bias\", \"encoder.encoder.enc.layers.5.self_attn.out_proj.weight\", \"encoder.encoder.enc.layers.5.self_attn.out_proj.bias\", \"encoder.encoder.enc.layers.5.linear1.weight\", \"encoder.encoder.enc.layers.5.linear1.bias\", \"encoder.encoder.enc.layers.5.linear2.weight\", \"encoder.encoder.enc.layers.5.linear2.bias\", \"encoder.encoder.enc.layers.5.norm1.weight\", \"encoder.encoder.enc.layers.5.norm1.bias\", \"encoder.encoder.enc.layers.5.norm2.weight\", \"encoder.encoder.enc.layers.5.norm2.bias\", \"encoder.fcs.dfs_from.weight\", \"encoder.fcs.dfs_from.bias\", \"encoder.fcs.dfs_to.weight\", \"encoder.fcs.dfs_to.bias\", \"encoder.fcs.atomic_num_from.weight\", \"encoder.fcs.atomic_num_from.bias\", \"encoder.fcs.atomic_num_to.weight\", \"encoder.fcs.atomic_num_to.bias\", \"encoder.fcs.formal_charge_from.weight\", \"encoder.fcs.formal_charge_from.bias\", \"encoder.fcs.formal_charge_to.weight\", \"encoder.fcs.formal_charge_to.bias\", \"encoder.fcs.chiral_tag_from.weight\", \"encoder.fcs.chiral_tag_from.bias\", \"encoder.fcs.chiral_tag_to.weight\", \"encoder.fcs.chiral_tag_to.bias\", \"encoder.fcs.num_Hs_from.weight\", \"encoder.fcs.num_Hs_from.bias\", \"encoder.fcs.num_Hs_to.weight\", \"encoder.fcs.num_Hs_to.bias\", \"encoder.fcs.hybridization_from.weight\", \"encoder.fcs.hybridization_from.bias\", \"encoder.fcs.hybridization_to.weight\", \"encoder.fcs.hybridization_to.bias\", \"encoder.fcs.is_aromatic_from.weight\", \"encoder.fcs.is_aromatic_from.bias\", \"encoder.fcs.is_aromatic_to.weight\", \"encoder.fcs.is_aromatic_to.bias\", \"encoder.fcs.bond_type.weight\", \"encoder.fcs.bond_type.bias\". ",
     "output_type": "error",
     "traceback": [
      "\u001b[0;31m---------------------------------------------------------------------------\u001b[0m",
      "\u001b[0;31mRuntimeError\u001b[0m                              Traceback (most recent call last)",
      "\u001b[0;32m/tmp/ipykernel_47565/120250071.py\u001b[0m in \u001b[0;36m<module>\u001b[0;34m\u001b[0m\n\u001b[1;32m      1\u001b[0m \u001b[0mmodel\u001b[0m \u001b[0;34m=\u001b[0m \u001b[0mDFSCodeSeq2SeqFC\u001b[0m\u001b[0;34m(\u001b[0m\u001b[0;34m**\u001b[0m\u001b[0mm\u001b[0m\u001b[0;34m)\u001b[0m\u001b[0;34m\u001b[0m\u001b[0;34m\u001b[0m\u001b[0m\n\u001b[1;32m      2\u001b[0m \u001b[0;32mif\u001b[0m \u001b[0mload_flag\u001b[0m\u001b[0;34m:\u001b[0m\u001b[0;34m\u001b[0m\u001b[0;34m\u001b[0m\u001b[0m\n\u001b[0;32m----> 3\u001b[0;31m     \u001b[0mmodel\u001b[0m\u001b[0;34m.\u001b[0m\u001b[0mload_state_dict\u001b[0m\u001b[0;34m(\u001b[0m\u001b[0mtorch\u001b[0m\u001b[0;34m.\u001b[0m\u001b[0mload\u001b[0m\u001b[0;34m(\u001b[0m\u001b[0mmodel_dir\u001b[0m\u001b[0;34m+\u001b[0m\u001b[0;34m'/checkpoint.pt'\u001b[0m\u001b[0;34m,\u001b[0m \u001b[0mmap_location\u001b[0m\u001b[0;34m=\u001b[0m\u001b[0mdevice\u001b[0m\u001b[0;34m)\u001b[0m\u001b[0;34m)\u001b[0m\u001b[0;34m\u001b[0m\u001b[0;34m\u001b[0m\u001b[0m\n\u001b[0m",
      "\u001b[0;32m~/miniconda3/envs/py39/lib/python3.9/site-packages/torch/nn/modules/module.py\u001b[0m in \u001b[0;36mload_state_dict\u001b[0;34m(self, state_dict, strict)\u001b[0m\n\u001b[1;32m   1602\u001b[0m \u001b[0;34m\u001b[0m\u001b[0m\n\u001b[1;32m   1603\u001b[0m         \u001b[0;32mif\u001b[0m \u001b[0mlen\u001b[0m\u001b[0;34m(\u001b[0m\u001b[0merror_msgs\u001b[0m\u001b[0;34m)\u001b[0m \u001b[0;34m>\u001b[0m \u001b[0;36m0\u001b[0m\u001b[0;34m:\u001b[0m\u001b[0;34m\u001b[0m\u001b[0;34m\u001b[0m\u001b[0m\n\u001b[0;32m-> 1604\u001b[0;31m             raise RuntimeError('Error(s) in loading state_dict for {}:\\n\\t{}'.format(\n\u001b[0m\u001b[1;32m   1605\u001b[0m                                self.__class__.__name__, \"\\n\\t\".join(error_msgs)))\n\u001b[1;32m   1606\u001b[0m         \u001b[0;32mreturn\u001b[0m \u001b[0m_IncompatibleKeys\u001b[0m\u001b[0;34m(\u001b[0m\u001b[0mmissing_keys\u001b[0m\u001b[0;34m,\u001b[0m \u001b[0munexpected_keys\u001b[0m\u001b[0;34m)\u001b[0m\u001b[0;34m\u001b[0m\u001b[0;34m\u001b[0m\u001b[0m\n",
      "\u001b[0;31mRuntimeError\u001b[0m: Error(s) in loading state_dict for DFSCodeSeq2SeqFC:\n\tMissing key(s) in state_dict: \"cls_token\", \"encoder.missing_token\", \"encoder.dfs_emb\", \"encoder.emb_dfs.pe\", \"encoder.emb_seq.pe\", \"encoder.emb_atom.weight\", \"encoder.emb_atom.bias\", \"encoder.emb_bond.weight\", \"encoder.emb_bond.bias\", \"encoder.mixer.weight\", \"encoder.mixer.bias\", \"encoder.enc.layers.0.self_attn.in_proj_weight\", \"encoder.enc.layers.0.self_attn.in_proj_bias\", \"encoder.enc.layers.0.self_attn.out_proj.weight\", \"encoder.enc.layers.0.self_attn.out_proj.bias\", \"encoder.enc.layers.0.linear1.weight\", \"encoder.enc.layers.0.linear1.bias\", \"encoder.enc.layers.0.linear2.weight\", \"encoder.enc.layers.0.linear2.bias\", \"encoder.enc.layers.0.norm1.weight\", \"encoder.enc.layers.0.norm1.bias\", \"encoder.enc.layers.0.norm2.weight\", \"encoder.enc.layers.0.norm2.bias\", \"encoder.enc.layers.1.self_attn.in_proj_weight\", \"encoder.enc.layers.1.self_attn.in_proj_bias\", \"encoder.enc.layers.1.self_attn.out_proj.weight\", \"encoder.enc.layers.1.self_attn.out_proj.bias\", \"encoder.enc.layers.1.linear1.weight\", \"encoder.enc.layers.1.linear1.bias\", \"encoder.enc.layers.1.linear2.weight\", \"encoder.enc.layers.1.linear2.bias\", \"encoder.enc.layers.1.norm1.weight\", \"encoder.enc.layers.1.norm1.bias\", \"encoder.enc.layers.1.norm2.weight\", \"encoder.enc.layers.1.norm2.bias\", \"encoder.enc.layers.2.self_attn.in_proj_weight\", \"encoder.enc.layers.2.self_attn.in_proj_bias\", \"encoder.enc.layers.2.self_attn.out_proj.weight\", \"encoder.enc.layers.2.self_attn.out_proj.bias\", \"encoder.enc.layers.2.linear1.weight\", \"encoder.enc.layers.2.linear1.bias\", \"encoder.enc.layers.2.linear2.weight\", \"encoder.enc.layers.2.linear2.bias\", \"encoder.enc.layers.2.norm1.weight\", \"encoder.enc.layers.2.norm1.bias\", \"encoder.enc.layers.2.norm2.weight\", \"encoder.enc.layers.2.norm2.bias\", \"encoder.enc.layers.3.self_attn.in_proj_weight\", \"encoder.enc.layers.3.self_attn.in_proj_bias\", \"encoder.enc.layers.3.self_attn.out_proj.weight\", \"encoder.enc.layers.3.self_attn.out_proj.bias\", \"encoder.enc.layers.3.linear1.weight\", \"encoder.enc.layers.3.linear1.bias\", \"encoder.enc.layers.3.linear2.weight\", \"encoder.enc.layers.3.linear2.bias\", \"encoder.enc.layers.3.norm1.weight\", \"encoder.enc.layers.3.norm1.bias\", \"encoder.enc.layers.3.norm2.weight\", \"encoder.enc.layers.3.norm2.bias\", \"encoder.enc.layers.4.self_attn.in_proj_weight\", \"encoder.enc.layers.4.self_attn.in_proj_bias\", \"encoder.enc.layers.4.self_attn.out_proj.weight\", \"encoder.enc.layers.4.self_attn.out_proj.bias\", \"encoder.enc.layers.4.linear1.weight\", \"encoder.enc.layers.4.linear1.bias\", \"encoder.enc.layers.4.linear2.weight\", \"encoder.enc.layers.4.linear2.bias\", \"encoder.enc.layers.4.norm1.weight\", \"encoder.enc.layers.4.norm1.bias\", \"encoder.enc.layers.4.norm2.weight\", \"encoder.enc.layers.4.norm2.bias\", \"encoder.enc.layers.5.self_attn.in_proj_weight\", \"encoder.enc.layers.5.self_attn.in_proj_bias\", \"encoder.enc.layers.5.self_attn.out_proj.weight\", \"encoder.enc.layers.5.self_attn.out_proj.bias\", \"encoder.enc.layers.5.linear1.weight\", \"encoder.enc.layers.5.linear1.bias\", \"encoder.enc.layers.5.linear2.weight\", \"encoder.enc.layers.5.linear2.bias\", \"encoder.enc.layers.5.norm1.weight\", \"encoder.enc.layers.5.norm1.bias\", \"encoder.enc.layers.5.norm2.weight\", \"encoder.enc.layers.5.norm2.bias\", \"fcs.dfs_from.weight\", \"fcs.dfs_from.bias\", \"fcs.dfs_to.weight\", \"fcs.dfs_to.bias\", \"fcs.atomic_num_from.weight\", \"fcs.atomic_num_from.bias\", \"fcs.atomic_num_to.weight\", \"fcs.atomic_num_to.bias\", \"fcs.formal_charge_from.weight\", \"fcs.formal_charge_from.bias\", \"fcs.formal_charge_to.weight\", \"fcs.formal_charge_to.bias\", \"fcs.chiral_tag_from.weight\", \"fcs.chiral_tag_from.bias\", \"fcs.chiral_tag_to.weight\", \"fcs.chiral_tag_to.bias\", \"fcs.num_Hs_from.weight\", \"fcs.num_Hs_from.bias\", \"fcs.num_Hs_to.weight\", \"fcs.num_Hs_to.bias\", \"fcs.hybridization_from.weight\", \"fcs.hybridization_from.bias\", \"fcs.hybridization_to.weight\", \"fcs.hybridization_to.bias\", \"fcs.is_aromatic_from.weight\", \"fcs.is_aromatic_from.bias\", \"fcs.is_aromatic_to.weight\", \"fcs.is_aromatic_to.bias\", \"fcs.bond_type.weight\", \"fcs.bond_type.bias\". \n\tUnexpected key(s) in state_dict: \"head_dict.rdmolops_GetFormalCharge.weight\", \"head_dict.rdmolops_GetFormalCharge.bias\", \"head_dict.qed.weight\", \"head_dict.qed.bias\", \"head_dict.rdMolDescriptors_CalcNumAliphaticCarbocycles.weight\", \"head_dict.rdMolDescriptors_CalcNumAliphaticCarbocycles.bias\", \"head_dict.rdMolDescriptors_CalcNumAliphaticHeterocycles.weight\", \"head_dict.rdMolDescriptors_CalcNumAliphaticHeterocycles.bias\", \"head_dict.rdMolDescriptors_CalcNumAliphaticRings.weight\", \"head_dict.rdMolDescriptors_CalcNumAliphaticRings.bias\", \"head_dict.rdMolDescriptors_CalcNumAmideBonds.weight\", \"head_dict.rdMolDescriptors_CalcNumAmideBonds.bias\", \"head_dict.rdMolDescriptors_CalcNumAromaticCarbocycles.weight\", \"head_dict.rdMolDescriptors_CalcNumAromaticCarbocycles.bias\", \"head_dict.rdMolDescriptors_CalcNumAromaticHeterocycles.weight\", \"head_dict.rdMolDescriptors_CalcNumAromaticHeterocycles.bias\", \"head_dict.rdMolDescriptors_CalcNumAromaticRings.weight\", \"head_dict.rdMolDescriptors_CalcNumAromaticRings.bias\", \"head_dict.rdMolDescriptors_CalcNumAtomStereoCenters.weight\", \"head_dict.rdMolDescriptors_CalcNumAtomStereoCenters.bias\", \"head_dict.rdMolDescriptors_CalcNumBridgeheadAtoms.weight\", \"head_dict.rdMolDescriptors_CalcNumBridgeheadAtoms.bias\", \"head_dict.rdMolDescriptors_CalcNumHBA.weight\", \"head_dict.rdMolDescriptors_CalcNumHBA.bias\", \"head_dict.rdMolDescriptors_CalcNumHBD.weight\", \"head_dict.rdMolDescriptors_CalcNumHBD.bias\", \"head_dict.rdMolDescriptors_CalcNumHeteroatoms.weight\", \"head_dict.rdMolDescriptors_CalcNumHeteroatoms.bias\", \"head_dict.rdMolDescriptors_CalcNumHeterocycles.weight\", \"head_dict.rdMolDescriptors_CalcNumHeterocycles.bias\", \"head_dict.rdMolDescriptors_CalcNumLipinskiHBA.weight\", \"head_dict.rdMolDescriptors_CalcNumLipinskiHBA.bias\", \"head_dict.rdMolDescriptors_CalcNumLipinskiHBD.weight\", \"head_dict.rdMolDescriptors_CalcNumLipinskiHBD.bias\", \"head_dict.rdMolDescriptors_CalcNumRings.weight\", \"head_dict.rdMolDescriptors_CalcNumRings.bias\", \"head_dict.rdMolDescriptors_CalcNumRotatableBonds.weight\", \"head_dict.rdMolDescriptors_CalcNumRotatableBonds.bias\", \"head_dict.rdMolDescriptors_CalcNumSaturatedCarbocycles.weight\", \"head_dict.rdMolDescriptors_CalcNumSaturatedCarbocycles.bias\", \"head_dict.rdMolDescriptors_CalcNumSaturatedHeterocycles.weight\", \"head_dict.rdMolDescriptors_CalcNumSaturatedHeterocycles.bias\", \"head_dict.rdMolDescriptors_CalcNumSaturatedRings.weight\", \"head_dict.rdMolDescriptors_CalcNumSaturatedRings.bias\", \"head_dict.rdMolDescriptors_CalcNumSpiroAtoms.weight\", \"head_dict.rdMolDescriptors_CalcNumSpiroAtoms.bias\", \"head_dict.rdMolDescriptors_CalcNumUnspecifiedAtomStereoCenters.weight\", \"head_dict.rdMolDescriptors_CalcNumUnspecifiedAtomStereoCenters.bias\", \"head_dict.rdMolDescriptors_CalcPBF.weight\", \"head_dict.rdMolDescriptors_CalcPBF.bias\", \"head_dict.rdMolDescriptors_CalcPMI1.weight\", \"head_dict.rdMolDescriptors_CalcPMI1.bias\", \"head_dict.rdMolDescriptors_CalcPMI2.weight\", \"head_dict.rdMolDescriptors_CalcPMI2.bias\", \"head_dict.rdMolDescriptors_CalcPMI3.weight\", \"head_dict.rdMolDescriptors_CalcPMI3.bias\", \"head_dict.rdMolDescriptors_CalcPhi.weight\", \"head_dict.rdMolDescriptors_CalcPhi.bias\", \"head_dict.rdMolDescriptors_CalcRadiusOfGyration.weight\", \"head_dict.rdMolDescriptors_CalcRadiusOfGyration.bias\", \"head_dict.rdMolDescriptors_CalcSpherocityIndex.weight\", \"head_dict.rdMolDescriptors_CalcSpherocityIndex.bias\", \"head_dict.rdMolDescriptors_CalcTPSA.weight\", \"head_dict.rdMolDescriptors_CalcTPSA.bias\", \"head_dict.rdMolDescriptors_CalcAsphericity.weight\", \"head_dict.rdMolDescriptors_CalcAsphericity.bias\", \"head_dict.rdMolDescriptors_CalcChi0v.weight\", \"head_dict.rdMolDescriptors_CalcChi0v.bias\", \"head_dict.rdMolDescriptors_CalcChi1v.weight\", \"head_dict.rdMolDescriptors_CalcChi1v.bias\", \"head_dict.rdMolDescriptors_CalcChi2v.weight\", \"head_dict.rdMolDescriptors_CalcChi2v.bias\", \"head_dict.rdMolDescriptors_CalcChi3v.weight\", \"head_dict.rdMolDescriptors_CalcChi3v.bias\", \"head_dict.rdMolDescriptors_CalcChi4v.weight\", \"head_dict.rdMolDescriptors_CalcChi4v.bias\", \"head_dict.rdMolDescriptors_CalcEccentricity.weight\", \"head_dict.rdMolDescriptors_CalcEccentricity.bias\", \"head_dict.rdMolDescriptors_CalcExactMolWt.weight\", \"head_dict.rdMolDescriptors_CalcExactMolWt.bias\", \"head_dict.rdMolDescriptors_CalcFractionCSP3.weight\", \"head_dict.rdMolDescriptors_CalcFractionCSP3.bias\", \"head_dict.rdMolDescriptors_CalcHallKierAlpha.weight\", \"head_dict.rdMolDescriptors_CalcHallKierAlpha.bias\", \"head_dict.rdMolDescriptors_CalcInertialShapeFactor.weight\", \"head_dict.rdMolDescriptors_CalcInertialShapeFactor.bias\", \"head_dict.rdMolDescriptors_CalcKappa1.weight\", \"head_dict.rdMolDescriptors_CalcKappa1.bias\", \"head_dict.rdMolDescriptors_CalcKappa2.weight\", \"head_dict.rdMolDescriptors_CalcKappa2.bias\", \"head_dict.rdMolDescriptors_CalcKappa3.weight\", \"head_dict.rdMolDescriptors_CalcKappa3.bias\", \"head_dict.rdMolDescriptors_CalcLabuteASA.weight\", \"head_dict.rdMolDescriptors_CalcLabuteASA.bias\", \"head_dict.rdMolDescriptors_CalcNPR1.weight\", \"head_dict.rdMolDescriptors_CalcNPR1.bias\", \"head_dict.rdMolDescriptors_CalcNPR2.weight\", \"head_dict.rdMolDescriptors_CalcNPR2.bias\", \"encoder.cls_token\", \"encoder.encoder.missing_token\", \"encoder.encoder.dfs_emb\", \"encoder.encoder.emb_dfs.pe\", \"encoder.encoder.emb_seq.pe\", \"encoder.encoder.emb_atom.weight\", \"encoder.encoder.emb_atom.bias\", \"encoder.encoder.emb_bond.weight\", \"encoder.encoder.emb_bond.bias\", \"encoder.encoder.mixer.weight\", \"encoder.encoder.mixer.bias\", \"encoder.encoder.enc.layers.0.self_attn.in_proj_weight\", \"encoder.encoder.enc.layers.0.self_attn.in_proj_bias\", \"encoder.encoder.enc.layers.0.self_attn.out_proj.weight\", \"encoder.encoder.enc.layers.0.self_attn.out_proj.bias\", \"encoder.encoder.enc.layers.0.linear1.weight\", \"encoder.encoder.enc.layers.0.linear1.bias\", \"encoder.encoder.enc.layers.0.linear2.weight\", \"encoder.encoder.enc.layers.0.linear2.bias\", \"encoder.encoder.enc.layers.0.norm1.weight\", \"encoder.encoder.enc.layers.0.norm1.bias\", \"encoder.encoder.enc.layers.0.norm2.weight\", \"encoder.encoder.enc.layers.0.norm2.bias\", \"encoder.encoder.enc.layers.1.self_attn.in_proj_weight\", \"encoder.encoder.enc.layers.1.self_attn.in_proj_bias\", \"encoder.encoder.enc.layers.1.self_attn.out_proj.weight\", \"encoder.encoder.enc.layers.1.self_attn.out_proj.bias\", \"encoder.encoder.enc.layers.1.linear1.weight\", \"encoder.encoder.enc.layers.1.linear1.bias\", \"encoder.encoder.enc.layers.1.linear2.weight\", \"encoder.encoder.enc.layers.1.linear2.bias\", \"encoder.encoder.enc.layers.1.norm1.weight\", \"encoder.encoder.enc.layers.1.norm1.bias\", \"encoder.encoder.enc.layers.1.norm2.weight\", \"encoder.encoder.enc.layers.1.norm2.bias\", \"encoder.encoder.enc.layers.2.self_attn.in_proj_weight\", \"encoder.encoder.enc.layers.2.self_attn.in_proj_bias\", \"encoder.encoder.enc.layers.2.self_attn.out_proj.weight\", \"encoder.encoder.enc.layers.2.self_attn.out_proj.bias\", \"encoder.encoder.enc.layers.2.linear1.weight\", \"encoder.encoder.enc.layers.2.linear1.bias\", \"encoder.encoder.enc.layers.2.linear2.weight\", \"encoder.encoder.enc.layers.2.linear2.bias\", \"encoder.encoder.enc.layers.2.norm1.weight\", \"encoder.encoder.enc.layers.2.norm1.bias\", \"encoder.encoder.enc.layers.2.norm2.weight\", \"encoder.encoder.enc.layers.2.norm2.bias\", \"encoder.encoder.enc.layers.3.self_attn.in_proj_weight\", \"encoder.encoder.enc.layers.3.self_attn.in_proj_bias\", \"encoder.encoder.enc.layers.3.self_attn.out_proj.weight\", \"encoder.encoder.enc.layers.3.self_attn.out_proj.bias\", \"encoder.encoder.enc.layers.3.linear1.weight\", \"encoder.encoder.enc.layers.3.linear1.bias\", \"encoder.encoder.enc.layers.3.linear2.weight\", \"encoder.encoder.enc.layers.3.linear2.bias\", \"encoder.encoder.enc.layers.3.norm1.weight\", \"encoder.encoder.enc.layers.3.norm1.bias\", \"encoder.encoder.enc.layers.3.norm2.weight\", \"encoder.encoder.enc.layers.3.norm2.bias\", \"encoder.encoder.enc.layers.4.self_attn.in_proj_weight\", \"encoder.encoder.enc.layers.4.self_attn.in_proj_bias\", \"encoder.encoder.enc.layers.4.self_attn.out_proj.weight\", \"encoder.encoder.enc.layers.4.self_attn.out_proj.bias\", \"encoder.encoder.enc.layers.4.linear1.weight\", \"encoder.encoder.enc.layers.4.linear1.bias\", \"encoder.encoder.enc.layers.4.linear2.weight\", \"encoder.encoder.enc.layers.4.linear2.bias\", \"encoder.encoder.enc.layers.4.norm1.weight\", \"encoder.encoder.enc.layers.4.norm1.bias\", \"encoder.encoder.enc.layers.4.norm2.weight\", \"encoder.encoder.enc.layers.4.norm2.bias\", \"encoder.encoder.enc.layers.5.self_attn.in_proj_weight\", \"encoder.encoder.enc.layers.5.self_attn.in_proj_bias\", \"encoder.encoder.enc.layers.5.self_attn.out_proj.weight\", \"encoder.encoder.enc.layers.5.self_attn.out_proj.bias\", \"encoder.encoder.enc.layers.5.linear1.weight\", \"encoder.encoder.enc.layers.5.linear1.bias\", \"encoder.encoder.enc.layers.5.linear2.weight\", \"encoder.encoder.enc.layers.5.linear2.bias\", \"encoder.encoder.enc.layers.5.norm1.weight\", \"encoder.encoder.enc.layers.5.norm1.bias\", \"encoder.encoder.enc.layers.5.norm2.weight\", \"encoder.encoder.enc.layers.5.norm2.bias\", \"encoder.fcs.dfs_from.weight\", \"encoder.fcs.dfs_from.bias\", \"encoder.fcs.dfs_to.weight\", \"encoder.fcs.dfs_to.bias\", \"encoder.fcs.atomic_num_from.weight\", \"encoder.fcs.atomic_num_from.bias\", \"encoder.fcs.atomic_num_to.weight\", \"encoder.fcs.atomic_num_to.bias\", \"encoder.fcs.formal_charge_from.weight\", \"encoder.fcs.formal_charge_from.bias\", \"encoder.fcs.formal_charge_to.weight\", \"encoder.fcs.formal_charge_to.bias\", \"encoder.fcs.chiral_tag_from.weight\", \"encoder.fcs.chiral_tag_from.bias\", \"encoder.fcs.chiral_tag_to.weight\", \"encoder.fcs.chiral_tag_to.bias\", \"encoder.fcs.num_Hs_from.weight\", \"encoder.fcs.num_Hs_from.bias\", \"encoder.fcs.num_Hs_to.weight\", \"encoder.fcs.num_Hs_to.bias\", \"encoder.fcs.hybridization_from.weight\", \"encoder.fcs.hybridization_from.bias\", \"encoder.fcs.hybridization_to.weight\", \"encoder.fcs.hybridization_to.bias\", \"encoder.fcs.is_aromatic_from.weight\", \"encoder.fcs.is_aromatic_from.bias\", \"encoder.fcs.is_aromatic_to.weight\", \"encoder.fcs.is_aromatic_to.bias\", \"encoder.fcs.bond_type.weight\", \"encoder.fcs.bond_type.bias\". "
     ]
    }
   ],
   "source": [
    "model = DFSCodeSeq2SeqFC(**m)\n",
    "if load_flag:\n",
    "    model.load_state_dict(torch.load(model_dir+'/checkpoint.pt', map_location=device))"
   ]
  },
  {
   "cell_type": "code",
   "execution_count": null,
   "id": "fd8dbda2",
   "metadata": {},
   "outputs": [],
   "source": [
    "model.to(device)"
   ]
  },
  {
   "cell_type": "code",
   "execution_count": null,
   "id": "6c315298",
   "metadata": {},
   "outputs": [],
   "source": [
    "model_parameters = filter(lambda p: p.requires_grad, model.parameters())\n",
    "params = sum([np.prod(p.size()) for p in model_parameters])\n",
    "print(\"number of trainable parameters %d\"%params)"
   ]
  },
  {
   "cell_type": "markdown",
   "id": "b8208f37",
   "metadata": {},
   "source": [
    "# load dataset"
   ]
  },
  {
   "cell_type": "code",
   "execution_count": null,
   "id": "293f7cd7",
   "metadata": {},
   "outputs": [],
   "source": [
    "trainset = pd.read_csv(\"../../datasets/mymoleculenet/bbbp/0/train.csv\")\n",
    "train_X, train_y = trainset[\"smiles\"].to_numpy(), trainset[\"target\"].to_numpy()\n",
    "traindata = Deepchem2TorchGeometric(train_X, train_y, loaddir=\"../../results/mymoleculenet_plus_features/bbbp/1/\", features=features)"
   ]
  },
  {
   "cell_type": "code",
   "execution_count": null,
   "id": "173f61a0",
   "metadata": {},
   "outputs": [],
   "source": [
    "import networkx as nx"
   ]
  },
  {
   "cell_type": "code",
   "execution_count": null,
   "id": "49777d21",
   "metadata": {},
   "outputs": [],
   "source": [
    "def nmatch(n1, n2):\n",
    "    return n1==n2\n",
    "\n",
    "def ematch(e1, e2):\n",
    "    return e1==e2\n",
    "\n",
    "def edit_distance(g1, g2):\n",
    "    return nx.graph_edit_distance(g1, g2, node_match=nmatch, edge_match=ematch)\n",
    "\n",
    "\n",
    "# exact edit distance is too expensive, we use approximate edit distance instead\n",
    "def edit_distance_approx(g1, g2, nsteps=1):\n",
    "    iterator = nx.optimize_graph_edit_distance(g1, g2, node_match=nmatch, edge_match=ematch)\n",
    "    for i in range(nsteps):\n",
    "        try:\n",
    "            res = next(iterator)\n",
    "        except:\n",
    "            break \n",
    "    return res"
   ]
  },
  {
   "cell_type": "code",
   "execution_count": null,
   "id": "ef06b172",
   "metadata": {},
   "outputs": [],
   "source": [
    "G=nx.Graph()\n",
    "G.add_node(1, id=1)\n",
    "G.add_node(2, id=5)\n",
    "G.add_node(3, id=3)\n",
    "G.add_edge(1, 2, type='a')\n",
    "G.add_edge(2, 3, type='b')\n",
    "\n",
    "\n",
    "G2=nx.Graph()\n",
    "G2.add_node(1, id=1)\n",
    "G2.add_node(2, id=2)\n",
    "G2.add_node(3, id=3)\n",
    "G2.add_edge(1, 2, type='c')\n",
    "G2.add_edge(2, 3, type='b')"
   ]
  },
  {
   "cell_type": "code",
   "execution_count": null,
   "id": "23abb65e",
   "metadata": {},
   "outputs": [],
   "source": [
    "edit_distance(G,G2)"
   ]
  },
  {
   "cell_type": "code",
   "execution_count": 4,
   "id": "f5d02a4f",
   "metadata": {},
   "outputs": [],
   "source": [
    "def collate_graph(dlist):\n",
    "    nx_batch = []\n",
    "    smiles = []\n",
    "    \n",
    "    for d in dlist:\n",
    "        smiles += d.smiles\n",
    "        graph = nx.Graph()\n",
    "        for idx, atomic_number in enumerate(d.z.numpy()):\n",
    "            graph.add_node(idx, atomic_number=atomic_number)\n",
    "        for edge, edge_type in zip(d.edge_index.numpy().T, np.argmax(d.edge_attr.numpy(), axis=1)):\n",
    "            graph.add_edge(edge[0], edge[1], bond_type=edge_type)\n",
    "        nx_batch += [graph]\n",
    "            \n",
    "        \n",
    "    return smiles, nx_batch"
   ]
  },
  {
   "cell_type": "code",
   "execution_count": 5,
   "id": "1b618ce7",
   "metadata": {},
   "outputs": [],
   "source": [
    "def collate_fn(dlist):\n",
    "    node_batch = [] \n",
    "    edge_batch = []\n",
    "    y_batch = []\n",
    "    code_batch = []\n",
    "    smiles = []\n",
    "    \n",
    "    for d in dlist:\n",
    "        smiles += d.smiles\n",
    "        edge_features = d.edge_features.clone()\n",
    "\n",
    "        code, index = d.min_dfs_code.clone(), d.min_dfs_index.clone()\n",
    "        code_batch += [code]\n",
    "        node_batch += [d.node_features.clone()]\n",
    "        edge_batch += [edge_features]\n",
    "        y_batch += [d.y.clone()]\n",
    "            \n",
    "    y = torch.cat(y_batch).unsqueeze(1)\n",
    "    return smiles, code_batch, node_batch, edge_batch, y"
   ]
  },
  {
   "cell_type": "code",
   "execution_count": 6,
   "id": "c5dacc2c",
   "metadata": {},
   "outputs": [
    {
     "ename": "NameError",
     "evalue": "name 'traindata' is not defined",
     "output_type": "error",
     "traceback": [
      "\u001b[0;31m---------------------------------------------------------------------------\u001b[0m",
      "\u001b[0;31mNameError\u001b[0m                                 Traceback (most recent call last)",
      "\u001b[0;32m/tmp/ipykernel_47565/477842400.py\u001b[0m in \u001b[0;36m<module>\u001b[0;34m\u001b[0m\n\u001b[0;32m----> 1\u001b[0;31m trainloaderg = DataLoader(traindata, batch_size=1, shuffle=False, pin_memory=False, \n\u001b[0m\u001b[1;32m      2\u001b[0m                          collate_fn=collate_graph)\n\u001b[1;32m      3\u001b[0m trainloader = DataLoader(traindata, batch_size=1, shuffle=False, pin_memory=False, \n\u001b[1;32m      4\u001b[0m                          collate_fn=collate_fn)\n",
      "\u001b[0;31mNameError\u001b[0m: name 'traindata' is not defined"
     ]
    }
   ],
   "source": [
    "trainloaderg = DataLoader(traindata, batch_size=1, shuffle=False, pin_memory=False, \n",
    "                         collate_fn=collate_graph)\n",
    "trainloader = DataLoader(traindata, batch_size=1, shuffle=False, pin_memory=False, \n",
    "                         collate_fn=collate_fn)"
   ]
  },
  {
   "cell_type": "code",
   "execution_count": 7,
   "id": "b27fa83a",
   "metadata": {},
   "outputs": [
    {
     "ename": "NameError",
     "evalue": "name 'trainloaderg' is not defined",
     "output_type": "error",
     "traceback": [
      "\u001b[0;31m---------------------------------------------------------------------------\u001b[0m",
      "\u001b[0;31mNameError\u001b[0m                                 Traceback (most recent call last)",
      "\u001b[0;32m/tmp/ipykernel_47565/1696934550.py\u001b[0m in \u001b[0;36m<module>\u001b[0;34m\u001b[0m\n\u001b[0;32m----> 1\u001b[0;31m \u001b[0mgraphs\u001b[0m \u001b[0;34m=\u001b[0m \u001b[0;34m{\u001b[0m\u001b[0;34m''\u001b[0m\u001b[0;34m.\u001b[0m\u001b[0mjoin\u001b[0m\u001b[0;34m(\u001b[0m\u001b[0md\u001b[0m\u001b[0;34m[\u001b[0m\u001b[0;36m0\u001b[0m\u001b[0;34m]\u001b[0m\u001b[0;34m)\u001b[0m\u001b[0;34m:\u001b[0m \u001b[0md\u001b[0m\u001b[0;34m[\u001b[0m\u001b[0;34m-\u001b[0m\u001b[0;36m1\u001b[0m\u001b[0;34m]\u001b[0m \u001b[0;32mfor\u001b[0m \u001b[0md\u001b[0m \u001b[0;32min\u001b[0m \u001b[0mtrainloaderg\u001b[0m\u001b[0;34m}\u001b[0m\u001b[0;34m\u001b[0m\u001b[0;34m\u001b[0m\u001b[0m\n\u001b[0m",
      "\u001b[0;31mNameError\u001b[0m: name 'trainloaderg' is not defined"
     ]
    }
   ],
   "source": [
    "graphs = {''.join(d[0]): d[-1] for d in trainloaderg}"
   ]
  },
  {
   "cell_type": "code",
   "execution_count": 8,
   "id": "1b8d084f",
   "metadata": {},
   "outputs": [
    {
     "ename": "NameError",
     "evalue": "name 'graphs' is not defined",
     "output_type": "error",
     "traceback": [
      "\u001b[0;31m---------------------------------------------------------------------------\u001b[0m",
      "\u001b[0;31mNameError\u001b[0m                                 Traceback (most recent call last)",
      "\u001b[0;32m/tmp/ipykernel_47565/2310640386.py\u001b[0m in \u001b[0;36m<module>\u001b[0;34m\u001b[0m\n\u001b[0;32m----> 1\u001b[0;31m \u001b[0mgraphs\u001b[0m \u001b[0;34m=\u001b[0m \u001b[0;34m{\u001b[0m\u001b[0mkey\u001b[0m\u001b[0;34m:\u001b[0m \u001b[0mvalue\u001b[0m\u001b[0;34m[\u001b[0m\u001b[0;36m0\u001b[0m\u001b[0;34m]\u001b[0m \u001b[0;32mfor\u001b[0m \u001b[0mkey\u001b[0m\u001b[0;34m,\u001b[0m \u001b[0mvalue\u001b[0m \u001b[0;32min\u001b[0m \u001b[0mgraphs\u001b[0m\u001b[0;34m.\u001b[0m\u001b[0mitems\u001b[0m\u001b[0;34m(\u001b[0m\u001b[0;34m)\u001b[0m\u001b[0;34m}\u001b[0m\u001b[0;34m\u001b[0m\u001b[0;34m\u001b[0m\u001b[0m\n\u001b[0m",
      "\u001b[0;31mNameError\u001b[0m: name 'graphs' is not defined"
     ]
    }
   ],
   "source": [
    "graphs = {key: value[0] for key, value in graphs.items()}"
   ]
  },
  {
   "cell_type": "code",
   "execution_count": null,
   "id": "75f622be",
   "metadata": {},
   "outputs": [],
   "source": [
    "#'CCN(CC)CCNC(=O)c1cc(Cl)cc(Cl)c1OC'"
   ]
  },
  {
   "cell_type": "code",
   "execution_count": null,
   "id": "72733b2f",
   "metadata": {},
   "outputs": [],
   "source": [
    "reference = graphs['CCN(CC)CCNC(=O)c1cc(Cl)cc(Cl)c1OC']"
   ]
  },
  {
   "cell_type": "markdown",
   "id": "10b5c093",
   "metadata": {},
   "source": [
    "from rdkit import Chem\n",
    "m1 = Chem.MolFromSmiles('CCN(CC)CC(=O)OCC(=O)C1(O)CCC2C3CCC4=CC(=O)C=CC4(C)C3C(O)CC21C')"
   ]
  },
  {
   "cell_type": "markdown",
   "id": "fc4e637e",
   "metadata": {},
   "source": [
    "Chem.Draw.MolToMPL(m1)"
   ]
  },
  {
   "cell_type": "code",
   "execution_count": null,
   "id": "b7b27bc2",
   "metadata": {},
   "outputs": [],
   "source": [
    "edit_distances = {}\n",
    "for smiles, graph in tqdm.tqdm(graphs.items()):\n",
    "    edit_distances[smiles] = edit_distance_approx(reference, graph, 1)  "
   ]
  },
  {
   "cell_type": "code",
   "execution_count": null,
   "id": "b633baab",
   "metadata": {},
   "outputs": [],
   "source": [
    "from matplotlib import pyplot as plt"
   ]
  },
  {
   "cell_type": "code",
   "execution_count": null,
   "id": "357bb1b7",
   "metadata": {},
   "outputs": [],
   "source": [
    "plt.hist(list(edit_distances.values()), bins='rice')"
   ]
  },
  {
   "cell_type": "code",
   "execution_count": null,
   "id": "6f726d40",
   "metadata": {},
   "outputs": [],
   "source": [
    "from sklearn.decomposition import PCA"
   ]
  },
  {
   "cell_type": "code",
   "execution_count": null,
   "id": "8fd362e9",
   "metadata": {},
   "outputs": [],
   "source": [
    "encodings = {}\n",
    "encodings2 = {}\n",
    "iterator = iter(trainloader)\n",
    "for d in tqdm.tqdm(trainloader):\n",
    "    d = next(iterator)\n",
    "    smiles = ''.join(d[0])\n",
    "    d = d[1:]\n",
    "    d = [to_cuda(dd, device) for dd in d]\n",
    "    encodings[smiles] = model.encode(*d[:-1], fingerprint).detach().cpu().numpy()\n",
    "    dfs1, dfs2, atm1, atm2, bnd = model(*d[:-1])\n",
    "    enc2 = torch.cat((dfs1.mean(dim=0), dfs2.mean(dim=0), atm1.mean(dim=0), atm2.mean(dim=0), bnd.mean(dim=0)), dim=1)\n",
    "    encodings2[smiles] = enc2.detach().cpu().numpy()"
   ]
  },
  {
   "cell_type": "code",
   "execution_count": null,
   "id": "b22b502f",
   "metadata": {},
   "outputs": [],
   "source": [
    "pca = PCA(n_components=600)"
   ]
  },
  {
   "cell_type": "code",
   "execution_count": null,
   "id": "ad275385",
   "metadata": {},
   "outputs": [],
   "source": [
    "X = np.concatenate(list(encodings.values()), axis=0)\n",
    "pca.fit(X)"
   ]
  },
  {
   "cell_type": "code",
   "execution_count": null,
   "id": "caf10029",
   "metadata": {},
   "outputs": [],
   "source": [
    "encodings_pca = {smiles: pca.transform(x) for smiles, x in encodings.items()}"
   ]
  },
  {
   "cell_type": "code",
   "execution_count": null,
   "id": "81fb45f9",
   "metadata": {},
   "outputs": [],
   "source": [
    "distances = {}"
   ]
  },
  {
   "cell_type": "code",
   "execution_count": null,
   "id": "1e17b5d1",
   "metadata": {},
   "outputs": [],
   "source": [
    "ref_enc = encodings['CCN(CC)CCNC(=O)c1cc(Cl)cc(Cl)c1OC']\n",
    "for smiles, enc in tqdm.tqdm(encodings.items()):\n",
    "    dists = np.linalg.norm(ref_enc - enc, axis=1)\n",
    "    distances[smiles] = np.mean(dists)"
   ]
  },
  {
   "cell_type": "code",
   "execution_count": null,
   "id": "d34b4626",
   "metadata": {},
   "outputs": [],
   "source": [
    "edit_dists = edit_distances.values()\n",
    "transf_dists = distances.values() "
   ]
  },
  {
   "cell_type": "code",
   "execution_count": null,
   "id": "eb5c57c5",
   "metadata": {},
   "outputs": [],
   "source": [
    "plt.figure(figsize=(10,10))\n",
    "plt.scatter(edit_dists, transf_dists, c='crimson')\n",
    "\n",
    "plt.plot([0, max(edit_dists)], [0, max(transf_dists)], 'b-')\n",
    "plt.xlabel('approximate edit distance', fontsize=15)\n",
    "plt.ylabel('Euclidean distance', fontsize=15)\n",
    "plt.show()"
   ]
  },
  {
   "cell_type": "code",
   "execution_count": null,
   "id": "a7ee5183",
   "metadata": {},
   "outputs": [],
   "source": [
    "x = []\n",
    "y = []\n",
    "z = []\n",
    "for smiles in edit_distances.keys():\n",
    "    x += [encodings_pca[smiles][0, 0]]\n",
    "    y += [encodings_pca[smiles][0, 1]]\n",
    "    z += [edit_distances[smiles]]\n",
    "    "
   ]
  },
  {
   "cell_type": "code",
   "execution_count": null,
   "id": "4ac8b805",
   "metadata": {},
   "outputs": [],
   "source": [
    "fig = plt.figure()\n",
    "ax = fig.add_subplot(projection='3d')\n",
    "ax.scatter(x, y, z)\n",
    "ax.dist = 5\n",
    "ax.azim = 60\n",
    "plt.show()"
   ]
  },
  {
   "cell_type": "markdown",
   "id": "ef560083",
   "metadata": {},
   "source": [
    "# what happens along an edit path"
   ]
  },
  {
   "cell_type": "code",
   "execution_count": null,
   "id": "dd9bb8a1",
   "metadata": {},
   "outputs": [],
   "source": [
    "print(np.unique(list(edit_distances.values())))\n",
    "for smiles, dist in edit_distances.items():\n",
    "    if dist == 4:\n",
    "        print(smiles)\n",
    "        break"
   ]
  },
  {
   "cell_type": "markdown",
   "id": "5cc858c6",
   "metadata": {},
   "source": [
    "paths, cost = nx.optimal_edit_paths(reference, graphs['CCN(CC)CCNC(=O)c1cc(Br)c(N)cc1OC'])"
   ]
  },
  {
   "cell_type": "code",
   "execution_count": null,
   "id": "14a37601",
   "metadata": {},
   "outputs": [],
   "source": []
  },
  {
   "cell_type": "code",
   "execution_count": null,
   "id": "bbb0e9cb",
   "metadata": {},
   "outputs": [],
   "source": []
  }
 ],
 "metadata": {
  "kernelspec": {
   "display_name": "Python 3 (ipykernel)",
   "language": "python",
   "name": "python3"
  },
  "language_info": {
   "codemirror_mode": {
    "name": "ipython",
    "version": 3
   },
   "file_extension": ".py",
   "mimetype": "text/x-python",
   "name": "python",
   "nbconvert_exporter": "python",
   "pygments_lexer": "ipython3",
   "version": "3.9.13"
  }
 },
 "nbformat": 4,
 "nbformat_minor": 5
}
