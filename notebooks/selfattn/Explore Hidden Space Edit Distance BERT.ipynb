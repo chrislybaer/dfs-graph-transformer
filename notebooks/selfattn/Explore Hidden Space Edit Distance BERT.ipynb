{
 "cells": [
  {
   "cell_type": "code",
   "execution_count": 1,
   "id": "77c42268",
   "metadata": {},
   "outputs": [],
   "source": [
    "%load_ext autoreload\n",
    "%autoreload 2"
   ]
  },
  {
   "cell_type": "code",
   "execution_count": null,
   "id": "13f80d60",
   "metadata": {},
   "outputs": [],
   "source": [
    "import json\n",
    "import numpy as np\n",
    "from torch.utils.data import Dataset, DataLoader\n",
    "import glob\n",
    "import wandb\n",
    "import os\n",
    "import torch.optim as optimizers\n",
    "import dfs_code\n",
    "from torch_geometric.data import InMemoryDataset, Data\n",
    "import pickle\n",
    "import torch\n",
    "import torch.nn as nn\n",
    "import tqdm\n",
    "import copy\n",
    "import pandas as pd\n",
    "import torch.nn.functional as F\n",
    "import sys\n",
    "import yaml\n",
    "import functools\n",
    "from ml_collections import ConfigDict\n",
    "sys.path = ['../../src'] + sys.path\n",
    "from dfs_transformer import DFSCodeSeq2SeqFC, Deepchem2TorchGeometric, Trainer, to_cuda, Enzymes\n",
    "from graphein.protein.resi_atoms import RESI_THREE_TO_1, AMINO_ACIDS"
   ]
  },
  {
   "cell_type": "markdown",
   "id": "c3a108f5",
   "metadata": {},
   "source": [
    "# download pretrained model"
   ]
  },
  {
   "cell_type": "code",
   "execution_count": null,
   "id": "176b1c7e",
   "metadata": {},
   "outputs": [],
   "source": [
    "run = wandb.init(mode=\"online\", \n",
    "                 project=\"pubchem\", \n",
    "                 entity=\"dfstransformer\", \n",
    "                 job_type=\"inference\")\n",
    "\n",
    "#model_at = run.use_artifact(\"bertloops0.5-10M-nofeats\" + \":latest\")\n",
    "model_at = run.use_artifact(\"rnd2min-10M-nofeats\" + \":latest\")\n",
    "\n",
    "model_dir = model_at.download()\n",
    "run.finish()\n",
    "features = None #\"chemprop\"\n",
    "fingerprint = 'min-mean-max-std'\n",
    "fingerprint = 'cls'\n",
    "load_flag = True"
   ]
  },
  {
   "cell_type": "code",
   "execution_count": null,
   "id": "c6572c8c",
   "metadata": {},
   "outputs": [],
   "source": [
    "with open(model_dir+\"/config.yaml\") as file:\n",
    "    config = ConfigDict(yaml.load(file, Loader=yaml.FullLoader))"
   ]
  },
  {
   "cell_type": "code",
   "execution_count": null,
   "id": "f2ff8a99",
   "metadata": {},
   "outputs": [],
   "source": [
    "device = torch.device('cuda:%d'%config.training.gpu_id if torch.cuda.is_available()  else 'cpu')"
   ]
  },
  {
   "cell_type": "code",
   "execution_count": null,
   "id": "d1852e4f",
   "metadata": {},
   "outputs": [],
   "source": [
    "m = config.model"
   ]
  },
  {
   "cell_type": "code",
   "execution_count": null,
   "id": "41d00902",
   "metadata": {},
   "outputs": [],
   "source": [
    "model = DFSCodeSeq2SeqFC(**m)\n",
    "if load_flag:\n",
    "    model.load_state_dict(torch.load(model_dir+'/checkpoint.pt', map_location=device))"
   ]
  },
  {
   "cell_type": "code",
   "execution_count": null,
   "id": "fd8dbda2",
   "metadata": {},
   "outputs": [],
   "source": [
    "model.to(device)"
   ]
  },
  {
   "cell_type": "code",
   "execution_count": null,
   "id": "6c315298",
   "metadata": {},
   "outputs": [],
   "source": [
    "model_parameters = filter(lambda p: p.requires_grad, model.parameters())\n",
    "params = sum([np.prod(p.size()) for p in model_parameters])\n",
    "print(\"number of trainable parameters %d\"%params)"
   ]
  },
  {
   "cell_type": "markdown",
   "id": "b8208f37",
   "metadata": {},
   "source": [
    "# load dataset"
   ]
  },
  {
   "cell_type": "code",
   "execution_count": null,
   "id": "293f7cd7",
   "metadata": {},
   "outputs": [],
   "source": [
    "trainset = pd.read_csv(\"../../datasets/mymoleculenet/bbbp/0/train.csv\")\n",
    "train_X, train_y = trainset[\"smiles\"].to_numpy(), trainset[\"target\"].to_numpy()\n",
    "traindata = Deepchem2TorchGeometric(train_X, train_y, loaddir=\"../../results/mymoleculenet_plus_features/bbbp/1/\", features=features)"
   ]
  },
  {
   "cell_type": "code",
   "execution_count": null,
   "id": "173f61a0",
   "metadata": {},
   "outputs": [],
   "source": [
    "import networkx as nx"
   ]
  },
  {
   "cell_type": "code",
   "execution_count": null,
   "id": "49777d21",
   "metadata": {},
   "outputs": [],
   "source": [
    "def nmatch(n1, n2):\n",
    "    return n1==n2\n",
    "\n",
    "def ematch(e1, e2):\n",
    "    return e1==e2\n",
    "\n",
    "def edit_distance(g1, g2):\n",
    "    return nx.graph_edit_distance(g1, g2, node_match=nmatch, edge_match=ematch)\n",
    "\n",
    "\n",
    "# exact edit distance is too expensive, we use approximate edit distance instead\n",
    "def edit_distance_approx(g1, g2, nsteps=1):\n",
    "    iterator = nx.optimize_graph_edit_distance(g1, g2, node_match=nmatch, edge_match=ematch)\n",
    "    for i in range(nsteps):\n",
    "        try:\n",
    "            res = next(iterator)\n",
    "        except:\n",
    "            break \n",
    "    return res"
   ]
  },
  {
   "cell_type": "code",
   "execution_count": null,
   "id": "ef06b172",
   "metadata": {},
   "outputs": [],
   "source": [
    "G=nx.Graph()\n",
    "G.add_node(1, id=1)\n",
    "G.add_node(2, id=5)\n",
    "G.add_node(3, id=3)\n",
    "G.add_edge(1, 2, type='a')\n",
    "G.add_edge(2, 3, type='b')\n",
    "\n",
    "\n",
    "G2=nx.Graph()\n",
    "G2.add_node(1, id=1)\n",
    "G2.add_node(2, id=2)\n",
    "G2.add_node(3, id=3)\n",
    "G2.add_edge(1, 2, type='c')\n",
    "G2.add_edge(2, 3, type='b')"
   ]
  },
  {
   "cell_type": "code",
   "execution_count": null,
   "id": "23abb65e",
   "metadata": {},
   "outputs": [],
   "source": [
    "edit_distance(G,G2)"
   ]
  },
  {
   "cell_type": "code",
   "execution_count": null,
   "id": "f5d02a4f",
   "metadata": {},
   "outputs": [],
   "source": [
    "def collate_graph(dlist):\n",
    "    nx_batch = []\n",
    "    smiles = []\n",
    "    \n",
    "    for d in dlist:\n",
    "        smiles += d.smiles\n",
    "        graph = nx.Graph()\n",
    "        for idx, atomic_number in enumerate(d.z.numpy()):\n",
    "            graph.add_node(idx, atomic_number=atomic_number)\n",
    "        for edge, edge_type in zip(d.edge_index.numpy().T, np.argmax(d.edge_attr.numpy(), axis=1)):\n",
    "            graph.add_edge(edge[0], edge[1], bond_type=edge_type)\n",
    "        nx_batch += [graph]\n",
    "            \n",
    "        \n",
    "    return smiles, nx_batch"
   ]
  },
  {
   "cell_type": "code",
   "execution_count": null,
   "id": "1b618ce7",
   "metadata": {},
   "outputs": [],
   "source": [
    "def collate_fn(dlist):\n",
    "    node_batch = [] \n",
    "    edge_batch = []\n",
    "    y_batch = []\n",
    "    code_batch = []\n",
    "    smiles = []\n",
    "    \n",
    "    for d in dlist:\n",
    "        smiles += d.smiles\n",
    "        edge_features = d.edge_features.clone()\n",
    "\n",
    "        code, index = d.min_dfs_code.clone(), d.min_dfs_index.clone()\n",
    "        code_batch += [code]\n",
    "        node_batch += [d.node_features.clone()]\n",
    "        edge_batch += [edge_features]\n",
    "        y_batch += [d.y.clone()]\n",
    "            \n",
    "    y = torch.cat(y_batch).unsqueeze(1)\n",
    "    return smiles, code_batch, node_batch, edge_batch, y"
   ]
  },
  {
   "cell_type": "code",
   "execution_count": null,
   "id": "c5dacc2c",
   "metadata": {},
   "outputs": [],
   "source": [
    "trainloaderg = DataLoader(traindata, batch_size=1, shuffle=False, pin_memory=False, \n",
    "                         collate_fn=collate_graph)\n",
    "trainloader = DataLoader(traindata, batch_size=1, shuffle=False, pin_memory=False, \n",
    "                         collate_fn=collate_fn)"
   ]
  },
  {
   "cell_type": "code",
   "execution_count": null,
   "id": "b27fa83a",
   "metadata": {},
   "outputs": [],
   "source": [
    "graphs = {''.join(d[0]): d[-1] for d in trainloaderg}"
   ]
  },
  {
   "cell_type": "code",
   "execution_count": null,
   "id": "1b8d084f",
   "metadata": {},
   "outputs": [],
   "source": [
    "graphs = {key: value[0] for key, value in graphs.items()}"
   ]
  },
  {
   "cell_type": "code",
   "execution_count": null,
   "id": "75f622be",
   "metadata": {},
   "outputs": [],
   "source": [
    "#'CCN(CC)CCNC(=O)c1cc(Cl)cc(Cl)c1OC'"
   ]
  },
  {
   "cell_type": "code",
   "execution_count": null,
   "id": "72733b2f",
   "metadata": {},
   "outputs": [],
   "source": [
    "reference = graphs['CCN(CC)CCNC(=O)c1cc(Cl)cc(Cl)c1OC']"
   ]
  },
  {
   "cell_type": "markdown",
   "id": "10b5c093",
   "metadata": {},
   "source": [
    "from rdkit import Chem\n",
    "m1 = Chem.MolFromSmiles('CCN(CC)CC(=O)OCC(=O)C1(O)CCC2C3CCC4=CC(=O)C=CC4(C)C3C(O)CC21C')"
   ]
  },
  {
   "cell_type": "markdown",
   "id": "fc4e637e",
   "metadata": {},
   "source": [
    "Chem.Draw.MolToMPL(m1)"
   ]
  },
  {
   "cell_type": "code",
   "execution_count": null,
   "id": "b7b27bc2",
   "metadata": {},
   "outputs": [],
   "source": [
    "edit_distances = {}\n",
    "for smiles, graph in tqdm.tqdm(graphs.items()):\n",
    "    edit_distances[smiles] = edit_distance_approx(reference, graph, 1)  "
   ]
  },
  {
   "cell_type": "code",
   "execution_count": null,
   "id": "b633baab",
   "metadata": {},
   "outputs": [],
   "source": [
    "from matplotlib import pyplot as plt"
   ]
  },
  {
   "cell_type": "code",
   "execution_count": null,
   "id": "357bb1b7",
   "metadata": {},
   "outputs": [],
   "source": [
    "plt.hist(list(edit_distances.values()), bins='rice')"
   ]
  },
  {
   "cell_type": "code",
   "execution_count": null,
   "id": "6f726d40",
   "metadata": {},
   "outputs": [],
   "source": [
    "from sklearn.decomposition import PCA"
   ]
  },
  {
   "cell_type": "code",
   "execution_count": null,
   "id": "8fd362e9",
   "metadata": {},
   "outputs": [],
   "source": [
    "encodings = {}\n",
    "encodings2 = {}\n",
    "iterator = iter(trainloader)\n",
    "for d in tqdm.tqdm(trainloader):\n",
    "    d = next(iterator)\n",
    "    smiles = ''.join(d[0])\n",
    "    d = d[1:]\n",
    "    d = [to_cuda(dd, device) for dd in d]\n",
    "    encodings[smiles] = model.encode(*d[:-1], fingerprint).detach().cpu().numpy()\n",
    "    dfs1, dfs2, atm1, atm2, bnd = model(*d[:-1])\n",
    "    enc2 = torch.cat((dfs1.mean(dim=0), dfs2.mean(dim=0), atm1.mean(dim=0), atm2.mean(dim=0), bnd.mean(dim=0)), dim=1)\n",
    "    encodings2[smiles] = enc2.detach().cpu().numpy()"
   ]
  },
  {
   "cell_type": "code",
   "execution_count": null,
   "id": "b22b502f",
   "metadata": {},
   "outputs": [],
   "source": [
    "pca = PCA(n_components=600)"
   ]
  },
  {
   "cell_type": "code",
   "execution_count": null,
   "id": "ad275385",
   "metadata": {},
   "outputs": [],
   "source": [
    "X = np.concatenate(list(encodings.values()), axis=0)\n",
    "pca.fit(X)"
   ]
  },
  {
   "cell_type": "code",
   "execution_count": null,
   "id": "caf10029",
   "metadata": {},
   "outputs": [],
   "source": [
    "encodings_pca = {smiles: pca.transform(x) for smiles, x in encodings.items()}"
   ]
  },
  {
   "cell_type": "code",
   "execution_count": null,
   "id": "81fb45f9",
   "metadata": {},
   "outputs": [],
   "source": [
    "distances = {}"
   ]
  },
  {
   "cell_type": "code",
   "execution_count": null,
   "id": "1e17b5d1",
   "metadata": {},
   "outputs": [],
   "source": [
    "ref_enc = encodings['CCN(CC)CCNC(=O)c1cc(Cl)cc(Cl)c1OC']\n",
    "for smiles, enc in tqdm.tqdm(encodings.items()):\n",
    "    dists = np.linalg.norm(ref_enc - enc, axis=1)\n",
    "    distances[smiles] = np.mean(dists)"
   ]
  },
  {
   "cell_type": "code",
   "execution_count": null,
   "id": "d34b4626",
   "metadata": {},
   "outputs": [],
   "source": [
    "edit_dists = edit_distances.values()\n",
    "transf_dists = distances.values() "
   ]
  },
  {
   "cell_type": "code",
   "execution_count": null,
   "id": "eb5c57c5",
   "metadata": {},
   "outputs": [],
   "source": [
    "plt.figure(figsize=(10,10))\n",
    "plt.scatter(edit_dists, transf_dists, c='crimson')\n",
    "\n",
    "plt.plot([0, max(edit_dists)], [0, max(transf_dists)], 'b-')\n",
    "plt.xlabel('approximate edit distance', fontsize=15)\n",
    "plt.ylabel('Euclidean distance', fontsize=15)\n",
    "plt.show()"
   ]
  },
  {
   "cell_type": "code",
   "execution_count": null,
   "id": "a7ee5183",
   "metadata": {},
   "outputs": [],
   "source": [
    "x = []\n",
    "y = []\n",
    "z = []\n",
    "for smiles in edit_distances.keys():\n",
    "    x += [encodings_pca[smiles][0, 0]]\n",
    "    y += [encodings_pca[smiles][0, 1]]\n",
    "    z += [edit_distances[smiles]]\n",
    "    "
   ]
  },
  {
   "cell_type": "code",
   "execution_count": null,
   "id": "4ac8b805",
   "metadata": {},
   "outputs": [],
   "source": [
    "fig = plt.figure()\n",
    "ax = fig.add_subplot(projection='3d')\n",
    "ax.scatter(x, y, z)\n",
    "ax.dist = 5\n",
    "ax.azim = 60\n",
    "plt.show()"
   ]
  },
  {
   "cell_type": "markdown",
   "id": "ef560083",
   "metadata": {},
   "source": [
    "# what happens along an edit path"
   ]
  },
  {
   "cell_type": "code",
   "execution_count": null,
   "id": "dd9bb8a1",
   "metadata": {},
   "outputs": [],
   "source": [
    "print(np.unique(list(edit_distances.values())))\n",
    "for smiles, dist in edit_distances.items():\n",
    "    if dist == 4:\n",
    "        print(smiles)\n",
    "        break"
   ]
  },
  {
   "cell_type": "markdown",
   "id": "5cc858c6",
   "metadata": {},
   "source": [
    "paths, cost = nx.optimal_edit_paths(reference, graphs['CCN(CC)CCNC(=O)c1cc(Br)c(N)cc1OC'])"
   ]
  },
  {
   "cell_type": "code",
   "execution_count": null,
   "id": "14a37601",
   "metadata": {},
   "outputs": [],
   "source": []
  }
 ],
 "metadata": {
  "kernelspec": {
   "display_name": "Python 3 (ipykernel)",
   "language": "python",
   "name": "python3"
  },
  "language_info": {
   "codemirror_mode": {
    "name": "ipython",
    "version": 3
   },
   "file_extension": ".py",
   "mimetype": "text/x-python",
   "name": "python",
   "nbconvert_exporter": "python",
   "pygments_lexer": "ipython3",
   "version": "3.8.3"
  }
 },
 "nbformat": 4,
 "nbformat_minor": 5
}
