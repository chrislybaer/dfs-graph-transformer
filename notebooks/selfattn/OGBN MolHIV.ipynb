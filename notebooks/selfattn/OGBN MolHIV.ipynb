{
 "cells": [
  {
   "cell_type": "code",
   "execution_count": 1,
   "id": "49a7ca25",
   "metadata": {},
   "outputs": [],
   "source": [
    "%load_ext autoreload\n",
    "%autoreload 2"
   ]
  },
  {
   "cell_type": "code",
   "execution_count": 2,
   "id": "0033798e",
   "metadata": {},
   "outputs": [
    {
     "name": "stderr",
     "output_type": "stream",
     "text": [
      "Using backend: pytorch\n",
      "WARNING:root:No normalization for BCUT2D_MWHI\n",
      "WARNING:root:No normalization for BCUT2D_MWLOW\n",
      "WARNING:root:No normalization for BCUT2D_CHGHI\n",
      "WARNING:root:No normalization for BCUT2D_CHGLO\n",
      "WARNING:root:No normalization for BCUT2D_LOGPHI\n",
      "WARNING:root:No normalization for BCUT2D_LOGPLOW\n",
      "WARNING:root:No normalization for BCUT2D_MRHI\n",
      "WARNING:root:No normalization for BCUT2D_MRLOW\n"
     ]
    }
   ],
   "source": [
    "import json\n",
    "import numpy as np\n",
    "from torch.utils.data import Dataset, DataLoader\n",
    "import glob\n",
    "import wandb\n",
    "import os\n",
    "import torch.optim as optimizers\n",
    "import dfs_code\n",
    "from torch_geometric.data import InMemoryDataset, Data\n",
    "import pickle\n",
    "import torch\n",
    "import torch.nn as nn\n",
    "import tqdm\n",
    "import copy\n",
    "import pandas as pd\n",
    "import torch.nn.functional as F\n",
    "import sys\n",
    "import yaml\n",
    "import functools\n",
    "from ml_collections import ConfigDict\n",
    "from ogb.graphproppred import PygGraphPropPredDataset\n",
    "\n",
    "sys.path = ['../../src'] + sys.path\n",
    "from dfs_transformer import DFSCodeSeq2SeqFC, Deepchem2TorchGeometric, Trainer, to_cuda"
   ]
  },
  {
   "cell_type": "code",
   "execution_count": 3,
   "id": "b280ad08",
   "metadata": {},
   "outputs": [],
   "source": [
    "def compute_roc(model, loader, evaluator):\n",
    "    with torch.no_grad():\n",
    "        preds = []\n",
    "        ys = []\n",
    "        for i, data in tqdm.tqdm(enumerate(testloader)):\n",
    "            data = [to_cuda(d, device) for d in data]\n",
    "            pred = model(*data[:-1])\n",
    "            preds += [pred.cpu()]\n",
    "            ys += [data[-1].cpu()]\n",
    "        preds = torch.cat(preds, dim=0)\n",
    "        ys = torch.cat(ys, dim=0)\n",
    "        return evaluator.eval({'y_true':ys, 'y_pred':preds})['rocauc']"
   ]
  },
  {
   "cell_type": "code",
   "execution_count": 4,
   "id": "f32661b1",
   "metadata": {},
   "outputs": [],
   "source": [
    "fname = '../../config/selfattn/finetune_ogb.yaml'\n",
    "with open(fname) as file:\n",
    "    config = ConfigDict(yaml.load(file, Loader=yaml.FullLoader))"
   ]
  },
  {
   "cell_type": "code",
   "execution_count": 5,
   "id": "a2957919",
   "metadata": {},
   "outputs": [
    {
     "data": {
      "text/plain": [
       "accumulate_grads: 2\n",
       "batch_size: 50\n",
       "clip_gradient: 0.5\n",
       "decay_factor: 0.8\n",
       "es_improvement: 0.0\n",
       "es_path: null\n",
       "es_patience: 10\n",
       "fingerprint: cls\n",
       "gpu_id: 0\n",
       "load_last: true\n",
       "lr: 0.0003\n",
       "lr_head: 0.003\n",
       "lr_patience: 3\n",
       "lr_pretrained: 0.0003\n",
       "minimal_lr: 6.0e-08\n",
       "n_classes: 349\n",
       "n_epochs: 25\n",
       "n_frozen: 5\n",
       "path: ../../results/ogbn_mag/timeout1/\n",
       "pretrained_class: DFSCodeSeq2SeqFC\n",
       "pretrained_dir: null\n",
       "pretrained_entity: dfstransformer\n",
       "pretrained_model: rnd2min\n",
       "pretrained_project: ogbn-mag\n",
       "pretrained_yaml: null\n",
       "require_min_dfs_code: false\n",
       "seed: 123\n",
       "strict: true\n",
       "use_local_yaml: false\n",
       "weight_decay: 0.1"
      ]
     },
     "execution_count": 5,
     "metadata": {},
     "output_type": "execute_result"
    }
   ],
   "source": [
    "config"
   ]
  },
  {
   "cell_type": "code",
   "execution_count": 6,
   "id": "f15f3062",
   "metadata": {},
   "outputs": [],
   "source": [
    "config.pretrained_project = 'pubchem'\n",
    "config.pretrained_model = 'rnd2min2-10M-euler'\n",
    "config.es_period = 300\n",
    "config.lr = 0.000003 # 0.000003 war gut\n",
    "config.alpha = 0\n",
    "config.fingerprint = \"cls3\""
   ]
  },
  {
   "cell_type": "code",
   "execution_count": 7,
   "id": "af22b4e3",
   "metadata": {},
   "outputs": [],
   "source": [
    "config.require_min_dfs_code = False"
   ]
  },
  {
   "cell_type": "code",
   "execution_count": 8,
   "id": "31fb744b",
   "metadata": {},
   "outputs": [],
   "source": [
    "onlyRandom = not config.require_min_dfs_code"
   ]
  },
  {
   "cell_type": "code",
   "execution_count": 9,
   "id": "6a8e1cf2",
   "metadata": {},
   "outputs": [],
   "source": [
    "mol_csv = pd.read_csv('../../datasets/ogbg_molhiv/mol.csv')\n",
    "\n",
    "dataset = PygGraphPropPredDataset(name = \"ogbg-molhiv\") \n",
    "split_idx = dataset.get_idx_split() "
   ]
  },
  {
   "cell_type": "markdown",
   "id": "faf60702",
   "metadata": {},
   "source": [
    "# check whether we get the correct splits"
   ]
  },
  {
   "cell_type": "code",
   "execution_count": 10,
   "id": "53ab4cce",
   "metadata": {},
   "outputs": [
    {
     "name": "stdout",
     "output_type": "stream",
     "text": [
      "All train labels are identical.\n",
      "All valid labels are identical.\n",
      "All test labels are identical.\n"
     ]
    }
   ],
   "source": [
    "for split in [\"train\", \"valid\", \"test\"]:\n",
    "    csv_labels = mol_csv[\"HIV_active\"][split_idx[split].numpy()].to_numpy()\n",
    "    ogb_labels = np.asarray([d.y.item() for d in dataset[split_idx[split]]])\n",
    "    if (ogb_labels == csv_labels).sum() == len(ogb_labels):\n",
    "        print(\"All %s labels are identical.\"%split)"
   ]
  },
  {
   "cell_type": "code",
   "execution_count": 11,
   "id": "7752abbe",
   "metadata": {},
   "outputs": [],
   "source": [
    "train_smiles = mol_csv[\"smiles\"][split_idx[\"train\"].numpy()].to_numpy()\n",
    "train_labels = mol_csv[\"HIV_active\"][split_idx[\"train\"].numpy()].to_numpy()\n",
    "valid_smiles = mol_csv[\"smiles\"][split_idx[\"valid\"].numpy()].to_numpy()\n",
    "valid_labels = mol_csv[\"HIV_active\"][split_idx[\"valid\"].numpy()].to_numpy()\n",
    "test_smiles = mol_csv[\"smiles\"][split_idx[\"test\"].numpy()].to_numpy()\n",
    "test_labels = mol_csv[\"HIV_active\"][split_idx[\"test\"].numpy()].to_numpy()"
   ]
  },
  {
   "cell_type": "code",
   "execution_count": 12,
   "id": "99fb53ff",
   "metadata": {},
   "outputs": [],
   "source": [
    "loaddir = \"../../results/mymoleculenet_plus_features/hiv/1/\" # ogbg uses other smiles than deepchem...\n",
    "loaddir = None\n",
    "train = Deepchem2TorchGeometric(train_smiles, train_labels, loaddir=loaddir, onlyRandom=onlyRandom)\n",
    "valid = Deepchem2TorchGeometric(valid_smiles, valid_labels, loaddir=loaddir, onlyRandom=onlyRandom)\n",
    "test = Deepchem2TorchGeometric(test_smiles, test_labels, loaddir=loaddir, onlyRandom=onlyRandom)"
   ]
  },
  {
   "cell_type": "code",
   "execution_count": 13,
   "id": "99bb79dd",
   "metadata": {},
   "outputs": [],
   "source": [
    "def collate_fn(dlist, alpha=config.alpha):\n",
    "    node_batch = [] \n",
    "    edge_batch = []\n",
    "    y_batch = []\n",
    "    rnd_code_batch = []\n",
    "    for d in dlist:\n",
    "        node_batch += [d.node_features.clone()]\n",
    "        edge_batch += [d.edge_features.clone()]\n",
    "        rnd_code, rnd_index = dfs_code.rnd_dfs_code_from_torch_geometric(d, d.z.numpy().tolist(), \n",
    "                                                                         np.argmax(d.edge_attr.numpy(), axis=1).tolist())\n",
    "        rnd_code = torch.tensor(np.asarray(rnd_code), dtype=torch.long)\n",
    "        rnd_code_batch += [rnd_code]\n",
    "        y_batch += [d.y.clone()]\n",
    "    y = torch.cat(y_batch).unsqueeze(1)\n",
    "    y = (1-alpha)*y + alpha/2\n",
    "    return rnd_code_batch, node_batch, edge_batch, y"
   ]
  },
  {
   "cell_type": "code",
   "execution_count": 14,
   "id": "b7853741",
   "metadata": {},
   "outputs": [],
   "source": [
    "coll_val = functools.partial(collate_fn, alpha=0)"
   ]
  },
  {
   "cell_type": "code",
   "execution_count": 15,
   "id": "5dd34ba0",
   "metadata": {
    "scrolled": true
   },
   "outputs": [],
   "source": [
    "trainloader = DataLoader(train, shuffle=True, batch_size=config.batch_size, collate_fn=collate_fn, num_workers=8)\n",
    "validloader = DataLoader(valid, shuffle=False, batch_size=config.batch_size, collate_fn=coll_val, num_workers=8)\n",
    "testloader = DataLoader(test, shuffle=False, batch_size=config.batch_size, collate_fn=coll_val, num_workers=8)"
   ]
  },
  {
   "cell_type": "code",
   "execution_count": 16,
   "id": "f5fd6e34",
   "metadata": {},
   "outputs": [],
   "source": [
    "name = \"rnd2min2-10M-cls3\"\n",
    "mode = \"online\""
   ]
  },
  {
   "cell_type": "code",
   "execution_count": 17,
   "id": "93051dcc",
   "metadata": {},
   "outputs": [
    {
     "name": "stderr",
     "output_type": "stream",
     "text": [
      "ERROR:wandb.jupyter:Failed to detect the name of this notebook, you can set it manually with the WANDB_NOTEBOOK_NAME environment variable to enable code saving.\n",
      "\u001b[34m\u001b[1mwandb\u001b[0m: Currently logged in as: \u001b[33mchrisxx\u001b[0m (use `wandb login --relogin` to force relogin)\n",
      "\u001b[34m\u001b[1mwandb\u001b[0m: wandb version 0.12.2 is available!  To upgrade, please run:\n",
      "\u001b[34m\u001b[1mwandb\u001b[0m:  $ pip install wandb --upgrade\n",
      "2021-09-28 14:55:12.000978: W tensorflow/stream_executor/platform/default/dso_loader.cc:64] Could not load dynamic library 'libcudart.so.11.0'; dlerror: libcudart.so.11.0: cannot open shared object file: No such file or directory; LD_LIBRARY_PATH: :/opt/cuda/extras/CUPTI/lib64/:/opt/intel/lib:/opt/intel/mkl/lib/intel64:/opt/intel:/opt/ibm/ILOG/CPLEX_Studio1210/cplex/bin/x86-64_linux:/opt/ibm/ILOG/CPLEX_Studio1210/cplex/python/3.7/x86-64_linux:/opt/intel/clck_latest/lib:/opt/intel/daal/lib:/opt/intel/intelpython3/lib:/opt/intel/ipp/lib:/opt/intel/itac_2019/lib:/opt/intel/itac_latest/lib:/opt/intel/mkl/lib:/opt/intel/mkl_/lib:/opt/intel/mpirt/lib:/opt/intel/tbb/lib:/opt/intel/clck/2019.0/lib:/opt/intel/compilers_and_libraries_2019/linux/lib:/opt/intel/compilers_and_libraries/linux/lib:/opt/intel/itac/2019.0.018/lib:/opt/intel/itac_2019/intel64/lib:/opt/intel/itac_latest/intel64/lib:/opt/intel/parallel_studio_xe_2019.0.045/clck_2019/lib:/opt/intel/parallel_studio_xe_2019.0.045/itac_2019/lib:/opt/intel/parallel_studio_xe_2019/clck_2019/lib:/opt/intel/parallel_studio_xe_2019/itac_2019/lib:/opt/cuda/extras/CUPTI/lib64/:/opt/intel/lib:/opt/intel/mkl/lib/intel64:/opt/intel:/opt/ibm/ILOG/CPLEX_Studio1210/cplex/bin/x86-64_linux:/opt/ibm/ILOG/CPLEX_Studio1210/cplex/python/3.7/x86-64_linux:/opt/intel/clck_latest/lib:/opt/intel/daal/lib:/opt/intel/intelpython3/lib:/opt/intel/ipp/lib:/opt/intel/itac_2019/lib:/opt/intel/itac_latest/lib:/opt/intel/mkl/lib:/opt/intel/mkl_/lib:/opt/intel/mpirt/lib:/opt/intel/tbb/lib:/opt/intel/clck/2019.0/lib:/opt/intel/compilers_and_libraries_2019/linux/lib:/opt/intel/compilers_and_libraries/linux/lib:/opt/intel/itac/2019.0.018/lib:/opt/intel/itac_2019/intel64/lib:/opt/intel/itac_latest/intel64/lib:/opt/intel/parallel_studio_xe_2019.0.045/clck_2019/lib:/opt/intel/parallel_studio_xe_2019.0.045/itac_2019/lib:/opt/intel/parallel_studio_xe_2019/clck_2019/lib:/opt/intel/parallel_studio_xe_2019/itac_2019/lib\n",
      "2021-09-28 14:55:12.001001: I tensorflow/stream_executor/cuda/cudart_stub.cc:29] Ignore above cudart dlerror if you do not have a GPU set up on your machine.\n"
     ]
    },
    {
     "data": {
      "text/html": [
       "\n",
       "                Tracking run with wandb version 0.10.33<br/>\n",
       "                Syncing run <strong style=\"color:#cdcd00\">warm-star-367</strong> to <a href=\"https://wandb.ai\" target=\"_blank\">Weights & Biases</a> <a href=\"https://docs.wandb.com/integrations/jupyter.html\" target=\"_blank\">(Documentation)</a>.<br/>\n",
       "                Project page: <a href=\"https://wandb.ai/dfstransformer/pubchem\" target=\"_blank\">https://wandb.ai/dfstransformer/pubchem</a><br/>\n",
       "                Run page: <a href=\"https://wandb.ai/dfstransformer/pubchem/runs/15km9fow\" target=\"_blank\">https://wandb.ai/dfstransformer/pubchem/runs/15km9fow</a><br/>\n",
       "                Run data is saved locally in <code>/home/chrisw/Documents/projects/2021/graph-transformer/notebooks/selfattn/wandb/run-20210928_145510-15km9fow</code><br/><br/>\n",
       "            "
      ],
      "text/plain": [
       "<IPython.core.display.HTML object>"
      ]
     },
     "metadata": {},
     "output_type": "display_data"
    },
    {
     "name": "stderr",
     "output_type": "stream",
     "text": [
      "\u001b[34m\u001b[1mwandb\u001b[0m: Downloading large artifact rnd2min2-10M-euler:latest, 95.63MB. 2 files... Done. 0:0:0\n"
     ]
    },
    {
     "data": {
      "text/html": [
       "<br/>Waiting for W&B process to finish, PID 1938568<br/>Program ended successfully."
      ],
      "text/plain": [
       "<IPython.core.display.HTML object>"
      ]
     },
     "metadata": {},
     "output_type": "display_data"
    },
    {
     "data": {
      "application/vnd.jupyter.widget-view+json": {
       "model_id": "",
       "version_major": 2,
       "version_minor": 0
      },
      "text/plain": [
       "VBox(children=(Label(value=' 0.00MB of 0.00MB uploaded (0.00MB deduped)\\r'), FloatProgress(value=1.0, max=1.0)…"
      ]
     },
     "metadata": {},
     "output_type": "display_data"
    },
    {
     "data": {
      "text/html": [
       "Find user logs for this run at: <code>/home/chrisw/Documents/projects/2021/graph-transformer/notebooks/selfattn/wandb/run-20210928_145510-15km9fow/logs/debug.log</code>"
      ],
      "text/plain": [
       "<IPython.core.display.HTML object>"
      ]
     },
     "metadata": {},
     "output_type": "display_data"
    },
    {
     "data": {
      "text/html": [
       "Find internal logs for this run at: <code>/home/chrisw/Documents/projects/2021/graph-transformer/notebooks/selfattn/wandb/run-20210928_145510-15km9fow/logs/debug-internal.log</code>"
      ],
      "text/plain": [
       "<IPython.core.display.HTML object>"
      ]
     },
     "metadata": {},
     "output_type": "display_data"
    },
    {
     "data": {
      "text/html": [
       "Synced 5 W&B file(s), 0 media file(s), 0 artifact file(s) and 0 other file(s)"
      ],
      "text/plain": [
       "<IPython.core.display.HTML object>"
      ]
     },
     "metadata": {},
     "output_type": "display_data"
    },
    {
     "data": {
      "text/html": [
       "\n",
       "                    <br/>Synced <strong style=\"color:#cdcd00\">warm-star-367</strong>: <a href=\"https://wandb.ai/dfstransformer/pubchem/runs/15km9fow\" target=\"_blank\">https://wandb.ai/dfstransformer/pubchem/runs/15km9fow</a><br/>\n",
       "                "
      ],
      "text/plain": [
       "<IPython.core.display.HTML object>"
      ]
     },
     "metadata": {},
     "output_type": "display_data"
    }
   ],
   "source": [
    "# download pretrained model\n",
    "run = wandb.init(mode=mode, \n",
    "                 project=config.pretrained_project, \n",
    "                 entity=config.pretrained_entity, \n",
    "                 job_type=\"inference\")\n",
    "model_at = run.use_artifact(config.pretrained_model + \":latest\")\n",
    "model_dir = model_at.download()\n",
    "run.finish()"
   ]
  },
  {
   "cell_type": "code",
   "execution_count": 18,
   "id": "7fe0b790",
   "metadata": {},
   "outputs": [],
   "source": [
    "with open(model_dir+\"/config.yaml\") as file:\n",
    "    mconfig = ConfigDict(yaml.load(file, Loader=yaml.FullLoader))"
   ]
  },
  {
   "cell_type": "code",
   "execution_count": 19,
   "id": "d98ca611",
   "metadata": {},
   "outputs": [],
   "source": [
    "config.model = mconfig"
   ]
  },
  {
   "cell_type": "code",
   "execution_count": 20,
   "id": "69384b8c",
   "metadata": {},
   "outputs": [
    {
     "name": "stderr",
     "output_type": "stream",
     "text": [
      "\u001b[34m\u001b[1mwandb\u001b[0m: wandb version 0.12.2 is available!  To upgrade, please run:\n",
      "\u001b[34m\u001b[1mwandb\u001b[0m:  $ pip install wandb --upgrade\n",
      "2021-09-28 14:55:18.584598: W tensorflow/stream_executor/platform/default/dso_loader.cc:64] Could not load dynamic library 'libcudart.so.11.0'; dlerror: libcudart.so.11.0: cannot open shared object file: No such file or directory; LD_LIBRARY_PATH: :/opt/cuda/extras/CUPTI/lib64/:/opt/intel/lib:/opt/intel/mkl/lib/intel64:/opt/intel:/opt/ibm/ILOG/CPLEX_Studio1210/cplex/bin/x86-64_linux:/opt/ibm/ILOG/CPLEX_Studio1210/cplex/python/3.7/x86-64_linux:/opt/intel/clck_latest/lib:/opt/intel/daal/lib:/opt/intel/intelpython3/lib:/opt/intel/ipp/lib:/opt/intel/itac_2019/lib:/opt/intel/itac_latest/lib:/opt/intel/mkl/lib:/opt/intel/mkl_/lib:/opt/intel/mpirt/lib:/opt/intel/tbb/lib:/opt/intel/clck/2019.0/lib:/opt/intel/compilers_and_libraries_2019/linux/lib:/opt/intel/compilers_and_libraries/linux/lib:/opt/intel/itac/2019.0.018/lib:/opt/intel/itac_2019/intel64/lib:/opt/intel/itac_latest/intel64/lib:/opt/intel/parallel_studio_xe_2019.0.045/clck_2019/lib:/opt/intel/parallel_studio_xe_2019.0.045/itac_2019/lib:/opt/intel/parallel_studio_xe_2019/clck_2019/lib:/opt/intel/parallel_studio_xe_2019/itac_2019/lib:/opt/cuda/extras/CUPTI/lib64/:/opt/intel/lib:/opt/intel/mkl/lib/intel64:/opt/intel:/opt/ibm/ILOG/CPLEX_Studio1210/cplex/bin/x86-64_linux:/opt/ibm/ILOG/CPLEX_Studio1210/cplex/python/3.7/x86-64_linux:/opt/intel/clck_latest/lib:/opt/intel/daal/lib:/opt/intel/intelpython3/lib:/opt/intel/ipp/lib:/opt/intel/itac_2019/lib:/opt/intel/itac_latest/lib:/opt/intel/mkl/lib:/opt/intel/mkl_/lib:/opt/intel/mpirt/lib:/opt/intel/tbb/lib:/opt/intel/clck/2019.0/lib:/opt/intel/compilers_and_libraries_2019/linux/lib:/opt/intel/compilers_and_libraries/linux/lib:/opt/intel/itac/2019.0.018/lib:/opt/intel/itac_2019/intel64/lib:/opt/intel/itac_latest/intel64/lib:/opt/intel/parallel_studio_xe_2019.0.045/clck_2019/lib:/opt/intel/parallel_studio_xe_2019.0.045/itac_2019/lib:/opt/intel/parallel_studio_xe_2019/clck_2019/lib:/opt/intel/parallel_studio_xe_2019/itac_2019/lib\n",
      "2021-09-28 14:55:18.584618: I tensorflow/stream_executor/cuda/cudart_stub.cc:29] Ignore above cudart dlerror if you do not have a GPU set up on your machine.\n"
     ]
    },
    {
     "data": {
      "text/html": [
       "\n",
       "                Tracking run with wandb version 0.10.33<br/>\n",
       "                Syncing run <strong style=\"color:#cdcd00\">rnd2min2-10M-cls3</strong> to <a href=\"https://wandb.ai\" target=\"_blank\">Weights & Biases</a> <a href=\"https://docs.wandb.com/integrations/jupyter.html\" target=\"_blank\">(Documentation)</a>.<br/>\n",
       "                Project page: <a href=\"https://wandb.ai/dfstransformer/ogbg-hiv\" target=\"_blank\">https://wandb.ai/dfstransformer/ogbg-hiv</a><br/>\n",
       "                Run page: <a href=\"https://wandb.ai/dfstransformer/ogbg-hiv/runs/3m5wjuwq\" target=\"_blank\">https://wandb.ai/dfstransformer/ogbg-hiv/runs/3m5wjuwq</a><br/>\n",
       "                Run data is saved locally in <code>/home/chrisw/Documents/projects/2021/graph-transformer/notebooks/selfattn/wandb/run-20210928_145517-3m5wjuwq</code><br/><br/>\n",
       "            "
      ],
      "text/plain": [
       "<IPython.core.display.HTML object>"
      ]
     },
     "metadata": {},
     "output_type": "display_data"
    }
   ],
   "source": [
    "run = wandb.init(mode=mode, project=\"ogbg-hiv\", entity=\"dfstransformer\", \n",
    "                 name=name, config=config.to_dict(), job_type=\"evaluation\")"
   ]
  },
  {
   "cell_type": "code",
   "execution_count": 21,
   "id": "a8f0b8cb",
   "metadata": {},
   "outputs": [],
   "source": [
    "m = mconfig.model\n",
    "t = config"
   ]
  },
  {
   "cell_type": "code",
   "execution_count": 22,
   "id": "6a92cba2",
   "metadata": {},
   "outputs": [],
   "source": [
    "ce = nn.CrossEntropyLoss(ignore_index=-1)\n",
    "bce = nn.BCEWithLogitsLoss()    "
   ]
  },
  {
   "cell_type": "code",
   "execution_count": 23,
   "id": "a8c39aa6",
   "metadata": {},
   "outputs": [],
   "source": [
    "class TransformerPlusHead(nn.Module):\n",
    "    def __init__(self, encoder, n_encoding, n_classes, fingerprint='cls'):\n",
    "        super(TransformerPlusHead, self).__init__()\n",
    "        self.encoder = encoder\n",
    "        self.head = nn.Linear(n_encoding, n_classes)\n",
    "        self.fingerprint = fingerprint\n",
    "    \n",
    "    def forward(self, C, N, E):\n",
    "        features = self.encoder.encode(C, N, E, method=self.fingerprint)\n",
    "        output = self.head(features)\n",
    "        return output\n",
    "        "
   ]
  },
  {
   "cell_type": "code",
   "execution_count": 24,
   "id": "05afc0ad",
   "metadata": {},
   "outputs": [],
   "source": [
    "from ogb.graphproppred import Evaluator\n",
    "\n",
    "evaluator = Evaluator(name = 'ogbg-molhiv')"
   ]
  },
  {
   "cell_type": "code",
   "execution_count": 25,
   "id": "1c1075f1",
   "metadata": {},
   "outputs": [
    {
     "name": "stdout",
     "output_type": "stream",
     "text": [
      "==== Expected input format of Evaluator for ogbg-molhiv\n",
      "{'y_true': y_true, 'y_pred': y_pred}\n",
      "- y_true: numpy ndarray or torch tensor of shape (num_graph, num_task)\n",
      "- y_pred: numpy ndarray or torch tensor of shape (num_graph, num_task)\n",
      "where y_pred stores score values (for computing AUC score),\n",
      "num_task is 1, and each row corresponds to one graph.\n",
      "nan values in y_true are ignored during evaluation.\n",
      "\n",
      "==== Expected output format of Evaluator for ogbg-molhiv\n",
      "{'rocauc': rocauc}\n",
      "- rocauc (float): ROC-AUC score averaged across 1 task(s)\n",
      "\n"
     ]
    }
   ],
   "source": [
    "print(evaluator.expected_input_format)\n",
    "print(evaluator.expected_output_format)"
   ]
  },
  {
   "cell_type": "code",
   "execution_count": 26,
   "id": "df6e9d7d",
   "metadata": {},
   "outputs": [],
   "source": [
    "def loss(pred, y, ce=bce):\n",
    "    return ce(pred, y)\n",
    "\n",
    "def acc(pred, y):\n",
    "    y_pred = (pred > 0.5).squeeze()\n",
    "    y = (y > 0.5)\n",
    "    return (y_pred == y.squeeze()).sum()/len(y)\n",
    "    "
   ]
  },
  {
   "cell_type": "code",
   "execution_count": 27,
   "id": "24985f93",
   "metadata": {},
   "outputs": [],
   "source": [
    "scorer = functools.partial(compute_roc, loader=validloader, evaluator=evaluator)"
   ]
  },
  {
   "cell_type": "code",
   "execution_count": 28,
   "id": "a89213a7",
   "metadata": {},
   "outputs": [],
   "source": [
    "device = torch.device('cuda:%d'%t.gpu_id if torch.cuda.is_available()  else 'cpu')\n",
    "encoder = DFSCodeSeq2SeqFC(**m)\n",
    "    \n",
    "if t.load_last and model_dir is not None:\n",
    "    encoder.load_state_dict(torch.load(model_dir+'/checkpoint.pt', map_location=device))"
   ]
  },
  {
   "cell_type": "code",
   "execution_count": 29,
   "id": "998ec1f8",
   "metadata": {},
   "outputs": [],
   "source": [
    "model = TransformerPlusHead(encoder, m.emb_dim*5*m.n_class_tokens*m.nlayers, 1, fingerprint=t.fingerprint)"
   ]
  },
  {
   "cell_type": "code",
   "execution_count": 30,
   "id": "e4b18162",
   "metadata": {},
   "outputs": [],
   "source": [
    "param_groups = [\n",
    "    {'amsgrad': False,\n",
    "     'betas': (0.9,0.98),\n",
    "     'eps': 1e-09,\n",
    "     'lr': 0.000003,\n",
    "     'params': model.encoder.parameters(),\n",
    "     'weight_decay': 0},\n",
    "    {'amsgrad': False,\n",
    "     'betas': (0.9, 0.999),\n",
    "     'eps': 1e-08,\n",
    "     'lr': 0.00075,\n",
    "     'params': model.head.parameters(),\n",
    "     'weight_decay': 0}\n",
    "]"
   ]
  },
  {
   "cell_type": "code",
   "execution_count": 31,
   "id": "a386f3b5",
   "metadata": {},
   "outputs": [],
   "source": [
    "del t.model"
   ]
  },
  {
   "cell_type": "code",
   "execution_count": 32,
   "id": "2934c934",
   "metadata": {},
   "outputs": [
    {
     "data": {
      "text/plain": [
       "accumulate_grads: 2\n",
       "alpha: 0\n",
       "batch_size: 50\n",
       "clip_gradient: 0.5\n",
       "decay_factor: 0.8\n",
       "es_improvement: 0.0\n",
       "es_path: null\n",
       "es_patience: 10\n",
       "es_period: 300\n",
       "fingerprint: cls3\n",
       "gpu_id: 0\n",
       "load_last: true\n",
       "lr: 3.0e-06\n",
       "lr_head: 0.003\n",
       "lr_patience: 3\n",
       "lr_pretrained: 0.0003\n",
       "minimal_lr: 6.0e-08\n",
       "n_classes: 349\n",
       "n_epochs: 25\n",
       "n_frozen: 5\n",
       "path: ../../results/ogbn_mag/timeout1/\n",
       "pretrained_class: DFSCodeSeq2SeqFC\n",
       "pretrained_dir: null\n",
       "pretrained_entity: dfstransformer\n",
       "pretrained_model: rnd2min2-10M-euler\n",
       "pretrained_project: pubchem\n",
       "pretrained_yaml: null\n",
       "require_min_dfs_code: false\n",
       "seed: 123\n",
       "strict: true\n",
       "use_local_yaml: false\n",
       "weight_decay: 0.1"
      ]
     },
     "execution_count": 32,
     "metadata": {},
     "output_type": "execute_result"
    }
   ],
   "source": [
    "t"
   ]
  },
  {
   "cell_type": "code",
   "execution_count": 33,
   "id": "57f93c6d",
   "metadata": {},
   "outputs": [],
   "source": [
    "trainer = Trainer(model, trainloader, loss, validloader=validloader, metrics={'acc': acc}, scorer=scorer, wandb_run = run, param_groups=param_groups, **t)"
   ]
  },
  {
   "cell_type": "code",
   "execution_count": 34,
   "id": "a20a1ec8",
   "metadata": {},
   "outputs": [
    {
     "name": "stderr",
     "output_type": "stream",
     "text": [
      "Epoch 1: loss 0.155405 0.9600:  45%|███████████████████████████████████████████████████████████████▉                                                                             | 299/659 [01:04<01:24,  4.26it/s]\n",
      "0it [00:00, ?it/s]\u001b[A\n",
      "1it [00:00,  5.46it/s]\u001b[A\n",
      "2it [00:00,  4.83it/s]\u001b[A\n",
      "3it [00:00,  6.26it/s]\u001b[A\n",
      "6it [00:00, 10.78it/s]\u001b[A\n",
      "8it [00:00, 12.41it/s]\u001b[A\n",
      "10it [00:01,  9.78it/s]\u001b[A\n",
      "13it [00:01, 12.98it/s]\u001b[A\n",
      "15it [00:01, 12.48it/s]\u001b[A\n",
      "17it [00:01,  9.22it/s]\u001b[A\n",
      "20it [00:01, 12.24it/s]\u001b[A\n",
      "22it [00:02, 12.24it/s]\u001b[A\n",
      "24it [00:02, 12.03it/s]\u001b[A\n",
      "26it [00:02,  9.67it/s]\u001b[A\n",
      "28it [00:02, 11.19it/s]\u001b[A\n",
      "30it [00:02, 10.20it/s]\u001b[A\n",
      "32it [00:03, 11.17it/s]\u001b[A\n",
      "34it [00:03,  9.62it/s]\u001b[A\n",
      "36it [00:03, 11.09it/s]\u001b[A\n",
      "38it [00:03, 10.87it/s]\u001b[A\n",
      "40it [00:03, 11.58it/s]\u001b[A\n",
      "42it [00:04,  8.81it/s]\u001b[A\n",
      "45it [00:04, 11.44it/s]\u001b[A\n",
      "47it [00:04, 11.07it/s]\u001b[A\n",
      "49it [00:04,  8.29it/s]\u001b[A\n",
      "52it [00:04, 10.93it/s]\u001b[A\n",
      "54it [00:05, 10.17it/s]\u001b[A\n",
      "56it [00:05, 11.26it/s]\u001b[A\n",
      "58it [00:05,  9.67it/s]\u001b[A\n",
      "61it [00:05, 12.17it/s]\u001b[A\n",
      "63it [00:05, 11.79it/s]\u001b[A\n",
      "65it [00:06,  9.00it/s]\u001b[A\n",
      "68it [00:06, 11.68it/s]\u001b[A\n",
      "70it [00:06, 12.02it/s]\u001b[A\n",
      "72it [00:06, 12.57it/s]\u001b[A\n",
      "74it [00:06, 10.26it/s]\u001b[A\n",
      "77it [00:07, 12.94it/s]\u001b[A\n",
      "79it [00:07, 12.31it/s]\u001b[A\n",
      "83it [00:07, 10.76it/s]\u001b[A\n",
      "Epoch 1: loss 0.144762 0.9200:  91%|████████████████████████████████████████████████████████████████████████████████████████████████████████████████████████████████▏            | 599/659 [02:17<00:10,  5.74it/s]\n",
      "0it [00:00, ?it/s]\u001b[A\n",
      "1it [00:00,  5.21it/s]\u001b[A\n",
      "2it [00:00,  4.81it/s]\u001b[A\n",
      "3it [00:00,  4.76it/s]\u001b[A\n",
      "6it [00:00, 10.33it/s]\u001b[A\n",
      "8it [00:00,  9.50it/s]\u001b[A\n",
      "10it [00:01, 10.88it/s]\u001b[A\n",
      "12it [00:01, 10.75it/s]\u001b[A\n",
      "14it [00:01, 11.61it/s]\u001b[A\n",
      "16it [00:01, 11.28it/s]\u001b[A\n",
      "18it [00:01, 11.36it/s]\u001b[A\n",
      "20it [00:01, 11.11it/s]\u001b[A\n",
      "22it [00:02, 11.80it/s]\u001b[A\n",
      "24it [00:02, 11.12it/s]\u001b[A\n",
      "26it [00:02, 11.48it/s]\u001b[A\n",
      "28it [00:02, 11.06it/s]\u001b[A\n",
      "30it [00:02,  9.58it/s]\u001b[A\n",
      "32it [00:03, 10.07it/s]\u001b[A\n",
      "34it [00:03, 10.38it/s]\u001b[A\n",
      "36it [00:03, 10.23it/s]\u001b[A\n",
      "38it [00:03,  9.86it/s]\u001b[A\n",
      "40it [00:03,  9.38it/s]\u001b[A\n",
      "42it [00:04,  9.85it/s]\u001b[A\n",
      "44it [00:04, 10.51it/s]\u001b[A\n",
      "46it [00:04, 10.83it/s]\u001b[A\n",
      "48it [00:04, 11.09it/s]\u001b[A\n",
      "50it [00:04, 10.73it/s]\u001b[A\n",
      "52it [00:05, 10.98it/s]\u001b[A\n",
      "54it [00:05, 10.93it/s]\u001b[A\n",
      "56it [00:05, 10.49it/s]\u001b[A\n",
      "58it [00:05, 10.84it/s]\u001b[A\n",
      "60it [00:05, 10.04it/s]\u001b[A\n",
      "62it [00:06, 10.55it/s]\u001b[A\n",
      "64it [00:06, 10.01it/s]\u001b[A\n",
      "66it [00:06, 10.33it/s]\u001b[A\n",
      "68it [00:06, 11.40it/s]\u001b[A\n",
      "70it [00:06, 11.47it/s]\u001b[A\n",
      "72it [00:06, 11.24it/s]\u001b[A\n",
      "74it [00:07, 11.48it/s]\u001b[A\n",
      "76it [00:07, 11.77it/s]\u001b[A\n",
      "78it [00:07, 11.87it/s]\u001b[A\n",
      "80it [00:07, 11.17it/s]\u001b[A\n",
      "83it [00:07, 10.46it/s]\u001b[A\n",
      "Epoch 1: loss 0.144050 1.0000: 100%|█████████████████████████████████████████████████████████████████████████████████████████████████████████████████████████████████████████████| 659/659 [02:39<00:00,  4.13it/s]\n",
      "Epoch 2: loss 0.130920 0.9600:  36%|███████████████████████████████████████████████████▎                                                                                         | 240/659 [00:52<01:19,  5.28it/s]\n",
      "0it [00:00, ?it/s]\u001b[A\n",
      "1it [00:00,  2.54it/s]\u001b[A\n",
      "2it [00:00,  3.62it/s]\u001b[A\n",
      "5it [00:00,  9.12it/s]\u001b[A\n",
      "8it [00:00, 12.85it/s]\u001b[A\n",
      "10it [00:01,  8.56it/s]\u001b[A\n",
      "13it [00:01, 11.35it/s]\u001b[A\n",
      "15it [00:01, 12.60it/s]\u001b[A\n",
      "17it [00:01, 13.21it/s]\u001b[A\n",
      "19it [00:02,  9.05it/s]\u001b[A\n",
      "22it [00:02, 11.37it/s]\u001b[A\n",
      "24it [00:02, 11.97it/s]\u001b[A\n",
      "26it [00:02,  8.59it/s]\u001b[A\n",
      "28it [00:02, 10.21it/s]\u001b[A\n",
      "30it [00:03, 10.71it/s]\u001b[A\n",
      "32it [00:03, 12.36it/s]\u001b[A\n",
      "34it [00:03,  7.90it/s]\u001b[A\n",
      "36it [00:03,  9.46it/s]\u001b[A\n",
      "38it [00:03, 11.14it/s]\u001b[A\n",
      "40it [00:03, 12.62it/s]\u001b[A\n",
      "42it [00:04,  8.43it/s]\u001b[A\n",
      "45it [00:04, 11.24it/s]\u001b[A\n",
      "47it [00:04, 12.56it/s]\u001b[A\n",
      "49it [00:04, 13.31it/s]\u001b[A\n",
      "51it [00:05,  9.30it/s]\u001b[A\n",
      "53it [00:05, 10.51it/s]\u001b[A\n",
      "56it [00:05, 13.60it/s]\u001b[A\n",
      "58it [00:05,  9.18it/s]\u001b[A\n",
      "60it [00:05, 10.53it/s]\u001b[A\n",
      "63it [00:05, 12.76it/s]\u001b[A\n",
      "65it [00:06, 13.08it/s]\u001b[A\n",
      "67it [00:06,  9.65it/s]\u001b[A\n",
      "70it [00:06, 12.45it/s]\u001b[A\n",
      "73it [00:06, 13.82it/s]\u001b[A\n",
      "75it [00:07,  9.24it/s]\u001b[A\n",
      "78it [00:07, 11.78it/s]\u001b[A\n",
      "80it [00:07, 13.05it/s]\u001b[A\n",
      "83it [00:07, 10.65it/s]\u001b[A\n",
      "Epoch 2: loss 0.130055 0.9800:  82%|███████████████████████████████████████████████████████████████████████████████████████████████████████████████████▌                         | 540/659 [02:07<00:28,  4.14it/s]\n",
      "0it [00:00, ?it/s]\u001b[A\n",
      "1it [00:00,  4.32it/s]\u001b[A\n",
      "2it [00:00,  3.98it/s]\u001b[A\n",
      "5it [00:00, 10.14it/s]\u001b[A\n",
      "8it [00:00, 13.07it/s]\u001b[A\n",
      "10it [00:01,  9.08it/s]\u001b[A\n",
      "12it [00:01, 10.74it/s]\u001b[A\n",
      "14it [00:01, 12.20it/s]\u001b[A\n",
      "16it [00:01, 12.60it/s]\u001b[A\n",
      "18it [00:01,  9.00it/s]\u001b[A\n",
      "20it [00:01, 10.60it/s]\u001b[A\n",
      "23it [00:02, 12.04it/s]\u001b[A\n",
      "25it [00:02, 11.37it/s]\u001b[A\n",
      "27it [00:02,  9.30it/s]\u001b[A\n",
      "29it [00:02, 10.95it/s]\u001b[A\n",
      "31it [00:03, 10.64it/s]\u001b[A\n",
      "33it [00:03, 10.39it/s]\u001b[A\n",
      "35it [00:03,  8.98it/s]\u001b[A\n",
      "38it [00:03, 11.57it/s]\u001b[A\n",
      "40it [00:03, 12.01it/s]\u001b[A\n",
      "42it [00:04,  8.55it/s]\u001b[A\n",
      "44it [00:04, 10.16it/s]\u001b[A\n",
      "46it [00:04, 11.83it/s]\u001b[A\n",
      "48it [00:04, 11.96it/s]\u001b[A\n",
      "50it [00:04,  9.36it/s]\u001b[A\n",
      "53it [00:05, 11.83it/s]\u001b[A\n",
      "55it [00:05, 12.11it/s]\u001b[A\n",
      "57it [00:05, 11.28it/s]\u001b[A\n",
      "59it [00:05,  8.68it/s]\u001b[A\n",
      "62it [00:05, 11.58it/s]\u001b[A\n",
      "64it [00:06, 11.23it/s]\u001b[A\n",
      "66it [00:06,  9.60it/s]\u001b[A\n",
      "69it [00:06, 12.68it/s]\u001b[A\n",
      "71it [00:06, 13.26it/s]\u001b[A\n",
      "73it [00:06, 13.29it/s]\u001b[A\n",
      "75it [00:07, 10.50it/s]\u001b[A\n",
      "78it [00:07, 13.67it/s]\u001b[A\n",
      "80it [00:07, 13.33it/s]\u001b[A\n",
      "83it [00:07, 10.84it/s]\u001b[A\n",
      "Epoch 2: loss 0.130822 1.0000: 100%|█████████████████████████████████████████████████████████████████████████████████████████████████████████████████████████████████████████████| 659/659 [02:42<00:00,  4.06it/s]\n",
      "Epoch 3: loss 0.127340 0.9800:  27%|██████████████████████████████████████▋                                                                                                      | 181/659 [00:41<01:41,  4.72it/s]\n",
      "0it [00:00, ?it/s]\u001b[A\n",
      "1it [00:00,  2.08it/s]\u001b[A\n",
      "4it [00:00,  8.20it/s]\u001b[A\n",
      "7it [00:00, 12.51it/s]\u001b[A\n",
      "9it [00:01,  7.96it/s]\u001b[A\n",
      "12it [00:01, 11.18it/s]\u001b[A\n",
      "14it [00:01, 12.76it/s]\u001b[A\n",
      "16it [00:01, 13.23it/s]\u001b[A\n",
      "18it [00:01,  9.42it/s]\u001b[A\n",
      "21it [00:02, 12.23it/s]\u001b[A\n",
      "24it [00:02, 12.84it/s]\u001b[A\n",
      "26it [00:02,  9.38it/s]\u001b[A\n",
      "29it [00:02, 11.78it/s]\u001b[A\n",
      "31it [00:02, 12.28it/s]\u001b[A\n",
      "33it [00:03,  8.52it/s]\u001b[A\n",
      "35it [00:03,  9.93it/s]\u001b[A\n",
      "38it [00:03, 12.59it/s]\u001b[A\n",
      "40it [00:03, 12.07it/s]\u001b[A\n",
      "42it [00:04,  8.89it/s]\u001b[A\n",
      "45it [00:04, 11.40it/s]\u001b[A\n",
      "48it [00:04, 12.71it/s]\u001b[A\n",
      "50it [00:04,  8.91it/s]\u001b[A\n",
      "52it [00:04, 10.35it/s]\u001b[A\n",
      "54it [00:05, 11.48it/s]\u001b[A\n",
      "56it [00:05, 11.74it/s]\u001b[A\n",
      "58it [00:05,  8.39it/s]\u001b[A\n",
      "60it [00:05, 10.01it/s]\u001b[A\n",
      "63it [00:05, 12.39it/s]\u001b[A\n",
      "65it [00:06,  8.35it/s]\u001b[A\n",
      "68it [00:06, 10.98it/s]\u001b[A\n",
      "71it [00:06, 13.34it/s]\u001b[A\n",
      "73it [00:07,  8.32it/s]\u001b[A\n",
      "75it [00:07,  9.60it/s]\u001b[A\n",
      "78it [00:07, 12.36it/s]\u001b[A\n",
      "80it [00:07, 13.06it/s]\u001b[A\n",
      "83it [00:07, 10.60it/s]\u001b[A\n",
      "Epoch 3: loss 0.127340 0.9800:  28%|██████████████████████████████████████▉                                                                                                      | 182/659 [00:50<21:33,  2.71s/it]"
     ]
    },
    {
     "name": "stdout",
     "output_type": "stream",
     "text": [
      "EarlyStopping counter: 1 out of 10\n"
     ]
    },
    {
     "name": "stderr",
     "output_type": "stream",
     "text": [
      "Epoch 3: loss 0.129180 0.9800:  73%|██████████████████████████████████████████████████████████████████████████████████████████████████████▉                                      | 481/659 [01:56<00:42,  4.15it/s]\n",
      "0it [00:00, ?it/s]\u001b[A\n",
      "1it [00:00,  3.05it/s]\u001b[A\n",
      "2it [00:00,  3.91it/s]\u001b[A\n",
      "3it [00:00,  5.15it/s]\u001b[A\n",
      "6it [00:00, 10.33it/s]\u001b[A\n",
      "8it [00:00, 11.49it/s]\u001b[A\n",
      "10it [00:01,  9.14it/s]\u001b[A\n",
      "12it [00:01, 10.16it/s]\u001b[A\n",
      "14it [00:01,  9.98it/s]\u001b[A\n",
      "16it [00:01, 10.48it/s]\u001b[A\n",
      "18it [00:01, 10.27it/s]\u001b[A\n",
      "20it [00:02, 10.51it/s]\u001b[A\n",
      "22it [00:02,  9.52it/s]\u001b[A\n",
      "24it [00:02,  9.97it/s]\u001b[A\n",
      "26it [00:02, 10.45it/s]\u001b[A\n",
      "28it [00:02, 10.33it/s]\u001b[A\n",
      "30it [00:03,  8.73it/s]\u001b[A\n",
      "32it [00:03,  9.72it/s]\u001b[A\n",
      "34it [00:03, 10.07it/s]\u001b[A\n",
      "36it [00:03,  9.77it/s]\u001b[A\n",
      "38it [00:04,  9.29it/s]\u001b[A\n",
      "40it [00:04,  9.92it/s]\u001b[A\n",
      "42it [00:04,  9.11it/s]\u001b[A\n",
      "43it [00:04,  9.18it/s]\u001b[A\n",
      "45it [00:04,  7.70it/s]\u001b[A\n",
      "47it [00:05,  9.60it/s]\u001b[A\n",
      "49it [00:05,  9.66it/s]\u001b[A\n",
      "51it [00:05,  9.62it/s]\u001b[A\n",
      "53it [00:05,  8.07it/s]\u001b[A\n",
      "55it [00:05,  9.74it/s]\u001b[A\n",
      "57it [00:06,  9.99it/s]\u001b[A\n",
      "59it [00:06, 10.46it/s]\u001b[A\n",
      "61it [00:06,  9.59it/s]\u001b[A\n",
      "63it [00:06, 11.15it/s]\u001b[A\n",
      "65it [00:06,  9.66it/s]\u001b[A\n",
      "67it [00:07,  9.55it/s]\u001b[A\n",
      "69it [00:07,  8.34it/s]\u001b[A\n",
      "72it [00:07, 10.34it/s]\u001b[A\n",
      "74it [00:07, 10.14it/s]\u001b[A\n",
      "76it [00:08, 10.10it/s]\u001b[A\n",
      "78it [00:08,  9.77it/s]\u001b[A\n",
      "80it [00:08, 10.54it/s]\u001b[A\n",
      "83it [00:08,  9.51it/s]\u001b[A\n",
      "Epoch 3: loss 0.129173 0.9600:  73%|███████████████████████████████████████████████████████████████████████████████████████████████████████▎                                     | 483/659 [02:05<06:16,  2.14s/it]"
     ]
    },
    {
     "name": "stdout",
     "output_type": "stream",
     "text": [
      "EarlyStopping counter: 2 out of 10\n"
     ]
    },
    {
     "name": "stderr",
     "output_type": "stream",
     "text": [
      "Epoch 3: loss 0.125732 1.0000: 100%|█████████████████████████████████████████████████████████████████████████████████████████████████████████████████████████████████████████████| 659/659 [02:44<00:00,  4.00it/s]\n",
      "Epoch 4: loss 0.116595 0.9600:  19%|██████████████████████████                                                                                                                   | 122/659 [00:28<02:19,  3.86it/s]\n",
      "0it [00:00, ?it/s]\u001b[A\n",
      "1it [00:00,  1.22it/s]\u001b[A\n",
      "3it [00:01,  3.32it/s]\u001b[A\n",
      "5it [00:01,  5.68it/s]\u001b[A\n",
      "7it [00:01,  7.94it/s]\u001b[A\n",
      "9it [00:01,  9.20it/s]\u001b[A\n",
      "11it [00:01,  9.13it/s]\u001b[A\n",
      "13it [00:01, 11.00it/s]\u001b[A\n",
      "15it [00:01, 12.79it/s]\u001b[A\n",
      "17it [00:02, 12.73it/s]\u001b[A\n",
      "19it [00:02, 12.04it/s]\u001b[A\n",
      "21it [00:02, 10.60it/s]\u001b[A\n",
      "23it [00:02,  9.86it/s]\u001b[A\n",
      "25it [00:02,  8.87it/s]\u001b[A\n",
      "26it [00:03,  8.87it/s]\u001b[A\n",
      "28it [00:03,  9.23it/s]\u001b[A\n",
      "29it [00:03,  9.24it/s]\u001b[A\n",
      "30it [00:03,  8.72it/s]\u001b[A\n",
      "32it [00:03,  9.49it/s]\u001b[A\n",
      "34it [00:03,  9.87it/s]\u001b[A\n",
      "35it [00:04,  9.75it/s]\u001b[A\n",
      "37it [00:04, 10.02it/s]\u001b[A\n",
      "39it [00:04, 10.39it/s]\u001b[A\n",
      "41it [00:04,  9.90it/s]\u001b[A\n",
      "42it [00:04,  9.44it/s]\u001b[A\n",
      "44it [00:04, 10.02it/s]\u001b[A\n",
      "45it [00:05,  9.82it/s]\u001b[A\n",
      "46it [00:05,  9.65it/s]\u001b[A\n",
      "48it [00:05,  9.83it/s]\u001b[A\n",
      "49it [00:05,  9.68it/s]\u001b[A\n",
      "51it [00:05,  9.52it/s]\u001b[A\n",
      "52it [00:05,  9.08it/s]\u001b[A\n",
      "53it [00:05,  8.86it/s]\u001b[A\n",
      "55it [00:06,  9.51it/s]\u001b[A\n",
      "57it [00:06,  9.92it/s]\u001b[A\n",
      "58it [00:06,  9.83it/s]\u001b[A\n",
      "59it [00:06,  9.57it/s]\u001b[A\n",
      "60it [00:06,  9.64it/s]\u001b[A\n",
      "62it [00:06, 10.21it/s]\u001b[A\n",
      "64it [00:06,  9.98it/s]\u001b[A\n",
      "65it [00:07,  9.91it/s]\u001b[A\n",
      "66it [00:07,  9.84it/s]\u001b[A\n",
      "67it [00:07,  9.61it/s]\u001b[A\n",
      "68it [00:07,  9.54it/s]\u001b[A\n",
      "70it [00:07, 10.19it/s]\u001b[A\n",
      "72it [00:07, 10.34it/s]\u001b[A\n",
      "74it [00:08,  9.69it/s]\u001b[A\n",
      "76it [00:08, 10.05it/s]\u001b[A\n",
      "78it [00:08, 10.02it/s]\u001b[A\n",
      "80it [00:08, 10.12it/s]\u001b[A\n",
      "83it [00:08,  9.24it/s]\u001b[A\n",
      "Epoch 4: loss 0.116824 0.9600:  19%|██████████████████████████▌                                                                                                                  | 124/659 [00:38<19:56,  2.24s/it]"
     ]
    },
    {
     "name": "stdout",
     "output_type": "stream",
     "text": [
      "EarlyStopping counter: 3 out of 10\n"
     ]
    },
    {
     "name": "stderr",
     "output_type": "stream",
     "text": [
      "Epoch 4: loss 0.123224 0.9800:  64%|██████████████████████████████████████████████████████████████████████████████████████████▎                                                  | 422/659 [01:46<00:47,  5.03it/s]\n",
      "0it [00:00, ?it/s]\u001b[A\n",
      "1it [00:00,  2.62it/s]\u001b[A\n",
      "2it [00:00,  3.46it/s]\u001b[A\n",
      "3it [00:00,  4.65it/s]\u001b[A\n",
      "5it [00:00,  7.67it/s]\u001b[A\n",
      "7it [00:00, 10.20it/s]\u001b[A\n",
      "9it [00:01, 11.81it/s]\u001b[A\n",
      "11it [00:01,  9.32it/s]\u001b[A\n",
      "13it [00:01, 10.85it/s]\u001b[A\n",
      "15it [00:01, 12.48it/s]\u001b[A\n",
      "17it [00:01, 13.01it/s]\u001b[A\n",
      "19it [00:02, 11.34it/s]\u001b[A\n",
      "21it [00:02, 10.66it/s]\u001b[A\n",
      "23it [00:02, 10.40it/s]\u001b[A\n",
      "25it [00:02,  9.75it/s]\u001b[A\n",
      "27it [00:02,  9.93it/s]\u001b[A\n",
      "29it [00:03, 10.11it/s]\u001b[A\n",
      "31it [00:03,  9.37it/s]\u001b[A\n",
      "33it [00:03,  9.83it/s]\u001b[A\n",
      "35it [00:03,  9.62it/s]\u001b[A\n",
      "36it [00:03,  9.48it/s]\u001b[A\n",
      "37it [00:03,  9.33it/s]\u001b[A\n",
      "39it [00:04,  9.41it/s]\u001b[A\n",
      "40it [00:04,  9.32it/s]\u001b[A\n",
      "41it [00:04,  9.17it/s]\u001b[A\n",
      "42it [00:04,  8.87it/s]\u001b[A\n",
      "43it [00:04,  8.68it/s]\u001b[A\n",
      "45it [00:04,  9.54it/s]\u001b[A\n",
      "47it [00:04,  9.85it/s]\u001b[A\n",
      "48it [00:05,  9.78it/s]\u001b[A\n",
      "49it [00:05,  9.67it/s]\u001b[A\n",
      "50it [00:05,  9.44it/s]\u001b[A\n",
      "52it [00:05,  9.85it/s]\u001b[A\n",
      "53it [00:05,  9.85it/s]\u001b[A\n",
      "55it [00:05, 10.32it/s]\u001b[A\n",
      "57it [00:05, 10.54it/s]\u001b[A\n",
      "59it [00:06, 10.19it/s]\u001b[A\n",
      "61it [00:06,  9.87it/s]\u001b[A\n",
      "62it [00:06,  9.61it/s]\u001b[A\n",
      "63it [00:06,  9.44it/s]\u001b[A\n",
      "64it [00:06,  9.17it/s]\u001b[A\n",
      "66it [00:06,  9.85it/s]\u001b[A\n",
      "68it [00:07, 10.31it/s]\u001b[A\n",
      "70it [00:07,  9.31it/s]\u001b[A\n",
      "71it [00:07,  9.22it/s]\u001b[A\n",
      "73it [00:07,  9.85it/s]\u001b[A\n",
      "75it [00:07, 10.16it/s]\u001b[A\n",
      "77it [00:07, 10.53it/s]\u001b[A\n",
      "79it [00:08, 10.04it/s]\u001b[A\n",
      "81it [00:08, 10.30it/s]\u001b[A\n",
      "83it [00:08,  9.58it/s]\u001b[A\n",
      "Epoch 4: loss 0.123208 0.9400:  64%|██████████████████████████████████████████████████████████████████████████████████████████▋                                                  | 424/659 [01:55<08:20,  2.13s/it]"
     ]
    },
    {
     "name": "stdout",
     "output_type": "stream",
     "text": [
      "EarlyStopping counter: 4 out of 10\n"
     ]
    },
    {
     "name": "stderr",
     "output_type": "stream",
     "text": [
      "Epoch 4: loss 0.122457 1.0000: 100%|█████████████████████████████████████████████████████████████████████████████████████████████████████████████████████████████████████████████| 659/659 [02:48<00:00,  3.90it/s]\n",
      "Epoch 5: loss 0.120863 0.9800:  10%|█████████████▌                                                                                                                                | 63/659 [00:15<02:02,  4.87it/s]\n",
      "0it [00:00, ?it/s]\u001b[A\n",
      "1it [00:00,  5.57it/s]\u001b[A\n",
      "2it [00:00,  6.87it/s]\u001b[A\n",
      "3it [00:00,  7.86it/s]\u001b[A\n",
      "4it [00:00,  8.18it/s]\u001b[A\n",
      "5it [00:00,  6.26it/s]\u001b[A\n",
      "7it [00:00,  8.90it/s]\u001b[A\n",
      "9it [00:01,  7.76it/s]\u001b[A\n",
      "11it [00:01,  9.60it/s]\u001b[A\n",
      "13it [00:01,  9.39it/s]\u001b[A\n",
      "15it [00:01,  9.85it/s]\u001b[A\n",
      "17it [00:02,  5.62it/s]\u001b[A\n",
      "19it [00:02,  7.02it/s]\u001b[A\n",
      "21it [00:02,  7.39it/s]\u001b[A\n",
      "23it [00:02,  8.22it/s]\u001b[A\n",
      "25it [00:03,  6.87it/s]\u001b[A\n",
      "27it [00:03,  8.01it/s]\u001b[A\n",
      "29it [00:03,  8.54it/s]\u001b[A\n",
      "30it [00:03,  8.60it/s]\u001b[A\n",
      "31it [00:03,  8.82it/s]\u001b[A\n",
      "32it [00:04,  8.76it/s]\u001b[A\n",
      "33it [00:04,  7.38it/s]\u001b[A\n",
      "35it [00:04,  9.36it/s]\u001b[A\n",
      "37it [00:04,  9.05it/s]\u001b[A\n",
      "39it [00:04,  9.62it/s]\u001b[A\n",
      "41it [00:05,  7.66it/s]\u001b[A\n",
      "43it [00:05,  8.98it/s]\u001b[A\n",
      "45it [00:05,  9.23it/s]\u001b[A\n",
      "47it [00:05,  9.88it/s]\u001b[A\n",
      "49it [00:06,  8.03it/s]\u001b[A\n",
      "51it [00:06,  9.49it/s]\u001b[A\n",
      "53it [00:06,  9.39it/s]\u001b[A\n",
      "55it [00:06, 10.13it/s]\u001b[A\n",
      "57it [00:06,  8.08it/s]\u001b[A\n",
      "59it [00:07,  8.78it/s]\u001b[A\n",
      "61it [00:07,  8.85it/s]\u001b[A\n",
      "63it [00:07,  9.60it/s]\u001b[A\n",
      "65it [00:07,  8.01it/s]\u001b[A\n",
      "67it [00:07,  9.28it/s]\u001b[A\n",
      "69it [00:08,  8.99it/s]\u001b[A\n",
      "71it [00:08,  9.84it/s]\u001b[A\n",
      "73it [00:08,  8.21it/s]\u001b[A\n",
      "75it [00:08,  9.43it/s]\u001b[A\n",
      "77it [00:09,  9.66it/s]\u001b[A\n",
      "79it [00:09, 10.40it/s]\u001b[A\n",
      "81it [00:09,  9.19it/s]\u001b[A\n",
      "83it [00:09,  8.56it/s]\u001b[A\n",
      "Epoch 5: loss 0.120863 0.9800:  10%|█████████████▊                                                                                                                                | 64/659 [00:25<32:25,  3.27s/it]"
     ]
    },
    {
     "name": "stdout",
     "output_type": "stream",
     "text": [
      "EarlyStopping counter: 5 out of 10\n"
     ]
    },
    {
     "name": "stderr",
     "output_type": "stream",
     "text": [
      "Epoch 5: loss 0.118956 1.0000:  55%|█████████████████████████████████████████████████████████████████████████████▋                                                               | 363/659 [01:35<01:10,  4.22it/s]\n",
      "0it [00:00, ?it/s]\u001b[A\n",
      "1it [00:00,  2.81it/s]\u001b[A\n",
      "3it [00:00,  7.04it/s]\u001b[A\n",
      "5it [00:00,  9.19it/s]\u001b[A\n",
      "7it [00:00,  8.97it/s]\u001b[A\n",
      "9it [00:01,  7.16it/s]\u001b[A\n",
      "10it [00:01,  7.11it/s]\u001b[A\n",
      "12it [00:01,  8.87it/s]\u001b[A\n",
      "14it [00:01, 10.26it/s]\u001b[A\n",
      "16it [00:01,  9.30it/s]\u001b[A\n",
      "18it [00:02,  7.88it/s]\u001b[A\n",
      "20it [00:02,  9.06it/s]\u001b[A\n",
      "22it [00:02, 10.29it/s]\u001b[A\n",
      "24it [00:02,  9.51it/s]\u001b[A\n",
      "26it [00:03,  7.45it/s]\u001b[A\n",
      "28it [00:03,  8.79it/s]\u001b[A\n",
      "30it [00:03,  9.39it/s]\u001b[A\n",
      "32it [00:03,  9.37it/s]\u001b[A\n",
      "34it [00:04,  7.45it/s]\u001b[A\n",
      "36it [00:04,  8.62it/s]\u001b[A\n",
      "38it [00:04,  9.81it/s]\u001b[A\n",
      "40it [00:04,  9.67it/s]\u001b[A\n",
      "42it [00:04,  7.78it/s]\u001b[A\n",
      "44it [00:05,  9.10it/s]\u001b[A\n",
      "46it [00:05, 10.32it/s]\u001b[A\n",
      "48it [00:05, 10.07it/s]\u001b[A\n",
      "50it [00:05,  7.52it/s]\u001b[A\n",
      "52it [00:06,  8.86it/s]\u001b[A\n",
      "54it [00:06,  9.87it/s]\u001b[A\n",
      "56it [00:06,  9.04it/s]\u001b[A\n",
      "58it [00:06,  7.02it/s]\u001b[A\n",
      "60it [00:07,  8.13it/s]\u001b[A\n",
      "62it [00:07,  9.33it/s]\u001b[A\n",
      "64it [00:07,  9.46it/s]\u001b[A\n",
      "66it [00:07,  7.68it/s]\u001b[A\n",
      "68it [00:07,  8.79it/s]\u001b[A\n",
      "70it [00:08,  9.87it/s]\u001b[A\n",
      "72it [00:08,  9.40it/s]\u001b[A\n",
      "74it [00:08,  7.53it/s]\u001b[A\n",
      "76it [00:08,  8.81it/s]\u001b[A\n",
      "78it [00:08, 10.02it/s]\u001b[A\n",
      "80it [00:09, 10.00it/s]\u001b[A\n",
      "83it [00:09,  8.71it/s]\u001b[A\n",
      "Epoch 5: loss 0.120396 1.0000: 100%|█████████████████████████████████████████████████████████████████████████████████████████████████████████████████████████████████████████████| 659/659 [02:56<00:00,  3.73it/s]\n",
      "Epoch 6: loss 0.107625 0.9600:   1%|▊                                                                                                                                              | 4/659 [00:02<05:16,  2.07it/s]\n",
      "0it [00:00, ?it/s]\u001b[A\n",
      "1it [00:00,  3.15it/s]\u001b[A\n",
      "3it [00:00,  3.93it/s]\u001b[A\n",
      "5it [00:00,  6.03it/s]\u001b[A\n",
      "7it [00:01,  7.94it/s]\u001b[A\n",
      "9it [00:01,  8.95it/s]\u001b[A\n",
      "11it [00:01,  7.49it/s]\u001b[A\n",
      "13it [00:01,  8.83it/s]\u001b[A\n",
      "15it [00:01,  9.76it/s]\u001b[A\n",
      "17it [00:02,  9.77it/s]\u001b[A\n",
      "19it [00:02,  9.60it/s]\u001b[A\n",
      "21it [00:02,  9.10it/s]\u001b[A\n",
      "22it [00:02,  8.74it/s]\u001b[A\n",
      "23it [00:02,  8.52it/s]\u001b[A\n",
      "24it [00:02,  8.30it/s]\u001b[A\n",
      "25it [00:03,  8.18it/s]\u001b[A\n",
      "26it [00:03,  8.21it/s]\u001b[A\n",
      "27it [00:03,  7.79it/s]\u001b[A\n",
      "28it [00:03,  7.94it/s]\u001b[A\n",
      "29it [00:03,  7.62it/s]\u001b[A\n",
      "30it [00:03,  7.66it/s]\u001b[A\n",
      "31it [00:03,  7.55it/s]\u001b[A\n",
      "32it [00:04,  7.91it/s]\u001b[A\n",
      "33it [00:04,  7.80it/s]\u001b[A\n",
      "34it [00:04,  8.02it/s]\u001b[A\n",
      "35it [00:04,  7.67it/s]\u001b[A\n",
      "36it [00:04,  7.68it/s]\u001b[A\n",
      "37it [00:04,  8.01it/s]\u001b[A\n",
      "38it [00:04,  8.12it/s]\u001b[A\n",
      "39it [00:04,  8.33it/s]\u001b[A\n",
      "40it [00:04,  8.56it/s]\u001b[A\n",
      "41it [00:05,  8.70it/s]\u001b[A\n",
      "42it [00:05,  8.64it/s]\u001b[A\n",
      "43it [00:05,  8.04it/s]\u001b[A\n",
      "44it [00:05,  7.79it/s]\u001b[A\n",
      "45it [00:05,  7.83it/s]\u001b[A\n",
      "46it [00:05,  8.13it/s]\u001b[A\n",
      "47it [00:05,  7.78it/s]\u001b[A\n",
      "48it [00:06,  7.68it/s]\u001b[A\n",
      "49it [00:06,  7.22it/s]\u001b[A\n",
      "50it [00:06,  7.80it/s]\u001b[A\n",
      "51it [00:06,  8.22it/s]\u001b[A\n",
      "52it [00:06,  8.32it/s]\u001b[A\n",
      "53it [00:06,  8.16it/s]\u001b[A\n",
      "54it [00:06,  8.01it/s]\u001b[A\n",
      "55it [00:06,  8.21it/s]\u001b[A\n",
      "56it [00:07,  7.87it/s]\u001b[A\n",
      "57it [00:07,  7.91it/s]\u001b[A\n",
      "58it [00:07,  8.40it/s]\u001b[A\n",
      "59it [00:07,  7.93it/s]\u001b[A\n",
      "60it [00:07,  7.90it/s]\u001b[A\n",
      "61it [00:07,  7.58it/s]\u001b[A\n",
      "62it [00:07,  7.86it/s]\u001b[A\n",
      "63it [00:07,  8.15it/s]\u001b[A\n",
      "64it [00:07,  8.59it/s]\u001b[A\n",
      "65it [00:08,  8.63it/s]\u001b[A\n",
      "66it [00:08,  9.00it/s]\u001b[A\n",
      "67it [00:08,  8.26it/s]\u001b[A\n",
      "68it [00:08,  7.97it/s]\u001b[A\n",
      "69it [00:08,  8.39it/s]\u001b[A\n",
      "70it [00:08,  8.17it/s]\u001b[A\n",
      "71it [00:08,  8.01it/s]\u001b[A\n",
      "72it [00:08,  8.24it/s]\u001b[A\n",
      "73it [00:09,  8.06it/s]\u001b[A\n",
      "74it [00:09,  8.43it/s]\u001b[A\n",
      "75it [00:09,  8.13it/s]\u001b[A\n",
      "76it [00:09,  7.94it/s]\u001b[A\n",
      "77it [00:09,  7.60it/s]\u001b[A\n",
      "78it [00:09,  7.63it/s]\u001b[A\n",
      "79it [00:09,  7.63it/s]\u001b[A\n",
      "80it [00:09,  7.84it/s]\u001b[A\n",
      "81it [00:10,  8.10it/s]\u001b[A\n",
      "83it [00:10,  7.95it/s]\u001b[A\n",
      "Epoch 6: loss 0.107625 0.9600:   1%|█                                                                                                                                              | 5/659 [00:13<47:10,  4.33s/it]"
     ]
    },
    {
     "name": "stdout",
     "output_type": "stream",
     "text": [
      "EarlyStopping counter: 1 out of 10\n"
     ]
    },
    {
     "name": "stderr",
     "output_type": "stream",
     "text": [
      "Epoch 6: loss 0.118302 1.0000:  46%|█████████████████████████████████████████████████████████████████                                                                            | 304/659 [01:26<01:23,  4.27it/s]\n",
      "0it [00:00, ?it/s]\u001b[A\n",
      "1it [00:00,  4.97it/s]\u001b[A\n",
      "2it [00:00,  5.75it/s]\u001b[A\n",
      "4it [00:00,  6.93it/s]\u001b[A\n",
      "5it [00:00,  5.09it/s]\u001b[A\n",
      "7it [00:01,  6.88it/s]\u001b[A\n",
      "9it [00:01,  8.46it/s]\u001b[A\n",
      "10it [00:01,  7.82it/s]\u001b[A\n",
      "12it [00:01,  9.16it/s]\u001b[A\n",
      "13it [00:01,  6.41it/s]\u001b[A\n",
      "15it [00:02,  7.68it/s]\u001b[A\n",
      "17it [00:02,  8.74it/s]\u001b[A\n",
      "18it [00:02,  8.27it/s]\u001b[A\n",
      "20it [00:02,  9.52it/s]\u001b[A\n",
      "22it [00:02,  7.39it/s]\u001b[A\n",
      "24it [00:03,  8.55it/s]\u001b[A\n",
      "26it [00:03,  8.13it/s]\u001b[A\n",
      "28it [00:03,  9.03it/s]\u001b[A\n",
      "29it [00:03,  6.84it/s]\u001b[A\n",
      "30it [00:03,  7.23it/s]\u001b[A\n",
      "32it [00:04,  8.44it/s]\u001b[A\n",
      "34it [00:04,  8.09it/s]\u001b[A\n",
      "36it [00:04,  9.07it/s]\u001b[A\n",
      "37it [00:04,  6.95it/s]\u001b[A\n",
      "39it [00:04,  8.31it/s]\u001b[A\n",
      "41it [00:05,  9.45it/s]\u001b[A\n",
      "43it [00:05,  8.29it/s]\u001b[A\n",
      "45it [00:05,  7.08it/s]\u001b[A\n",
      "47it [00:05,  8.06it/s]\u001b[A\n",
      "49it [00:06,  8.84it/s]\u001b[A\n",
      "50it [00:06,  7.53it/s]\u001b[A\n",
      "52it [00:06,  8.57it/s]\u001b[A\n",
      "53it [00:06,  6.66it/s]\u001b[A\n",
      "55it [00:07,  7.91it/s]\u001b[A\n",
      "57it [00:07,  8.91it/s]\u001b[A\n",
      "58it [00:07,  7.53it/s]\u001b[A\n",
      "60it [00:07,  8.62it/s]\u001b[A\n",
      "61it [00:07,  6.78it/s]\u001b[A\n",
      "63it [00:08,  8.17it/s]\u001b[A\n",
      "65it [00:08,  9.25it/s]\u001b[A\n",
      "67it [00:08,  8.60it/s]\u001b[A\n",
      "69it [00:08,  7.68it/s]\u001b[A\n",
      "71it [00:08,  8.82it/s]\u001b[A\n",
      "73it [00:09,  9.82it/s]\u001b[A\n",
      "75it [00:09,  9.26it/s]\u001b[A\n",
      "77it [00:09,  8.24it/s]\u001b[A\n",
      "79it [00:09,  9.28it/s]\u001b[A\n",
      "81it [00:09, 10.14it/s]\u001b[A\n",
      "83it [00:10,  8.11it/s]\u001b[A\n",
      "Epoch 6: loss 0.118302 1.0000:  46%|█████████████████████████████████████████████████████████████████▎                                                                           | 305/659 [01:37<20:21,  3.45s/it]"
     ]
    },
    {
     "name": "stdout",
     "output_type": "stream",
     "text": [
      "EarlyStopping counter: 2 out of 10\n"
     ]
    },
    {
     "name": "stderr",
     "output_type": "stream",
     "text": [
      "Epoch 6: loss 0.117847 0.9400:  92%|█████████████████████████████████████████████████████████████████████████████████████████████████████████████████████████████████▏           | 604/659 [02:51<00:14,  3.73it/s]\n",
      "0it [00:00, ?it/s]\u001b[A\n",
      "1it [00:00,  2.54it/s]\u001b[A\n",
      "3it [00:00,  5.89it/s]\u001b[A\n",
      "4it [00:00,  6.79it/s]\u001b[A\n",
      "5it [00:00,  7.54it/s]\u001b[A\n",
      "6it [00:00,  8.16it/s]\u001b[A\n",
      "8it [00:01,  7.82it/s]\u001b[A\n",
      "9it [00:01,  6.30it/s]\u001b[A\n",
      "11it [00:01,  7.88it/s]\u001b[A\n",
      "12it [00:01,  8.28it/s]\u001b[A\n",
      "13it [00:01,  8.57it/s]\u001b[A\n",
      "14it [00:01,  8.08it/s]\u001b[A\n",
      "15it [00:02,  8.52it/s]\u001b[A\n",
      "16it [00:02,  8.14it/s]\u001b[A\n",
      "17it [00:02,  3.42it/s]\u001b[A\n",
      "19it [00:03,  5.04it/s]\u001b[A\n",
      "21it [00:03,  6.51it/s]\u001b[A\n",
      "22it [00:03,  6.81it/s]\u001b[A\n",
      "24it [00:03,  7.54it/s]\u001b[A\n",
      "25it [00:03,  5.68it/s]\u001b[A\n",
      "27it [00:04,  6.98it/s]\u001b[A\n",
      "29it [00:04,  7.95it/s]\u001b[A\n",
      "30it [00:04,  7.62it/s]\u001b[A\n",
      "31it [00:04,  7.96it/s]\u001b[A\n",
      "32it [00:04,  7.78it/s]\u001b[A\n",
      "33it [00:04,  5.43it/s]\u001b[A\n",
      "35it [00:05,  6.93it/s]\u001b[A\n",
      "36it [00:05,  7.45it/s]\u001b[A\n",
      "37it [00:05,  7.93it/s]\u001b[A\n",
      "38it [00:05,  8.05it/s]\u001b[A\n",
      "40it [00:05,  8.46it/s]\u001b[A\n",
      "41it [00:06,  5.85it/s]\u001b[A\n",
      "43it [00:06,  7.35it/s]\u001b[A\n",
      "44it [00:06,  7.74it/s]\u001b[A\n",
      "45it [00:06,  8.17it/s]\u001b[A\n",
      "46it [00:06,  8.26it/s]\u001b[A\n",
      "47it [00:06,  8.63it/s]\u001b[A\n",
      "48it [00:06,  7.99it/s]\u001b[A\n",
      "49it [00:07,  5.50it/s]\u001b[A\n",
      "51it [00:07,  7.07it/s]\u001b[A\n",
      "53it [00:07,  8.22it/s]\u001b[A\n",
      "54it [00:07,  8.26it/s]\u001b[A\n",
      "55it [00:07,  8.40it/s]\u001b[A\n",
      "56it [00:07,  8.29it/s]\u001b[A\n",
      "57it [00:08,  5.78it/s]\u001b[A\n",
      "58it [00:08,  6.44it/s]\u001b[A\n",
      "59it [00:08,  6.88it/s]\u001b[A\n",
      "61it [00:08,  8.43it/s]\u001b[A\n",
      "62it [00:08,  8.36it/s]\u001b[A\n",
      "64it [00:08,  8.58it/s]\u001b[A\n",
      "65it [00:09,  6.13it/s]\u001b[A\n",
      "67it [00:09,  7.57it/s]\u001b[A\n",
      "69it [00:09,  8.76it/s]\u001b[A\n",
      "70it [00:09,  8.65it/s]\u001b[A\n",
      "72it [00:09,  9.06it/s]\u001b[A\n",
      "73it [00:10,  6.55it/s]\u001b[A\n",
      "75it [00:10,  7.87it/s]\u001b[A\n",
      "77it [00:10,  8.92it/s]\u001b[A\n",
      "78it [00:10,  8.65it/s]\u001b[A\n",
      "80it [00:10,  8.96it/s]\u001b[A\n",
      "81it [00:11,  7.74it/s]\u001b[A\n",
      "83it [00:11,  7.33it/s]\u001b[A\n",
      "Epoch 6: loss 0.117847 0.9400:  92%|█████████████████████████████████████████████████████████████████████████████████████████████████████████████████████████████████▍           | 605/659 [03:03<03:25,  3.80s/it]"
     ]
    },
    {
     "name": "stdout",
     "output_type": "stream",
     "text": [
      "EarlyStopping counter: 3 out of 10\n"
     ]
    },
    {
     "name": "stderr",
     "output_type": "stream",
     "text": [
      "Epoch 6: loss 0.117795 1.0000: 100%|█████████████████████████████████████████████████████████████████████████████████████████████████████████████████████████████████████████████| 659/659 [03:16<00:00,  3.35it/s]\n",
      "Epoch 7: loss 0.122291 0.9400:  37%|████████████████████████████████████████████████████▍                                                                                        | 245/659 [01:03<01:57,  3.51it/s]\n",
      "0it [00:00, ?it/s]\u001b[A\n",
      "1it [00:00,  2.83it/s]\u001b[A\n",
      "2it [00:00,  3.11it/s]\u001b[A\n",
      "3it [00:00,  4.46it/s]\u001b[A\n",
      "5it [00:00,  6.71it/s]\u001b[A\n",
      "6it [00:01,  6.95it/s]\u001b[A\n",
      "8it [00:01,  7.73it/s]\u001b[A\n",
      "9it [00:01,  5.32it/s]\u001b[A\n",
      "11it [00:01,  6.78it/s]\u001b[A\n",
      "13it [00:02,  7.91it/s]\u001b[A\n",
      "15it [00:02,  8.81it/s]\u001b[A\n",
      "16it [00:02,  8.56it/s]\u001b[A\n",
      "17it [00:02,  5.60it/s]\u001b[A\n",
      "19it [00:02,  6.91it/s]\u001b[A\n",
      "21it [00:03,  7.96it/s]\u001b[A\n",
      "22it [00:03,  8.29it/s]\u001b[A\n",
      "23it [00:03,  8.35it/s]\u001b[A\n",
      "24it [00:03,  8.07it/s]\u001b[A\n",
      "25it [00:03,  5.47it/s]\u001b[A\n",
      "27it [00:03,  7.00it/s]\u001b[A\n",
      "28it [00:04,  7.43it/s]\u001b[A\n",
      "29it [00:04,  7.65it/s]\u001b[A\n",
      "30it [00:04,  8.13it/s]\u001b[A\n",
      "32it [00:04,  8.56it/s]\u001b[A\n",
      "33it [00:04,  5.33it/s]\u001b[A\n",
      "35it [00:05,  6.74it/s]\u001b[A\n",
      "36it [00:05,  7.21it/s]\u001b[A\n",
      "38it [00:05,  8.36it/s]\u001b[A\n",
      "40it [00:05,  8.44it/s]\u001b[A\n",
      "41it [00:06,  5.81it/s]\u001b[A\n",
      "43it [00:06,  7.06it/s]\u001b[A\n",
      "45it [00:06,  8.10it/s]\u001b[A\n",
      "47it [00:06,  8.84it/s]\u001b[A\n",
      "48it [00:06,  8.39it/s]\u001b[A\n",
      "49it [00:07,  5.66it/s]\u001b[A\n",
      "50it [00:07,  6.25it/s]\u001b[A\n",
      "52it [00:07,  7.59it/s]\u001b[A\n",
      "53it [00:07,  7.69it/s]\u001b[A\n",
      "54it [00:07,  8.02it/s]\u001b[A\n",
      "56it [00:07,  8.36it/s]\u001b[A\n",
      "57it [00:08,  5.41it/s]\u001b[A\n",
      "58it [00:08,  6.06it/s]\u001b[A\n",
      "60it [00:08,  7.43it/s]\u001b[A\n",
      "62it [00:08,  8.41it/s]\u001b[A\n",
      "64it [00:08,  8.67it/s]\u001b[A\n",
      "65it [00:09,  6.23it/s]\u001b[A\n",
      "66it [00:09,  6.69it/s]\u001b[A\n",
      "68it [00:09,  7.95it/s]\u001b[A\n",
      "70it [00:09,  8.93it/s]\u001b[A\n",
      "72it [00:09,  8.77it/s]\u001b[A\n",
      "73it [00:10,  5.75it/s]\u001b[A\n",
      "74it [00:10,  6.26it/s]\u001b[A\n",
      "75it [00:10,  6.76it/s]\u001b[A\n",
      "77it [00:10,  8.03it/s]\u001b[A\n",
      "79it [00:10,  8.90it/s]\u001b[A\n",
      "80it [00:11,  8.34it/s]\u001b[A\n",
      "81it [00:11,  7.18it/s]\u001b[A\n",
      "83it [00:11,  7.15it/s]\u001b[A\n",
      "Epoch 7: loss 0.122135 0.9800:  37%|████████████████████████████████████████████████████▋                                                                                        | 246/659 [01:15<26:46,  3.89s/it]"
     ]
    },
    {
     "name": "stdout",
     "output_type": "stream",
     "text": [
      "EarlyStopping counter: 4 out of 10\n"
     ]
    },
    {
     "name": "stderr",
     "output_type": "stream",
     "text": [
      "Epoch 7: loss 0.116626 1.0000:  83%|████████████████████████████████████████████████████████████████████████████████████████████████████████████████████▌                        | 545/659 [02:34<00:27,  4.16it/s]\n",
      "0it [00:00, ?it/s]\u001b[A\n",
      "1it [00:00,  2.42it/s]\u001b[A\n",
      "3it [00:00,  5.67it/s]\u001b[A\n",
      "4it [00:00,  6.45it/s]\u001b[A\n",
      "6it [00:00,  8.01it/s]\u001b[A\n",
      "7it [00:01,  7.52it/s]\u001b[A\n",
      "8it [00:01,  6.95it/s]\u001b[A\n",
      "9it [00:01,  5.58it/s]\u001b[A\n",
      "10it [00:01,  5.59it/s]\u001b[A\n",
      "11it [00:01,  6.22it/s]\u001b[A\n",
      "13it [00:01,  7.49it/s]\u001b[A\n",
      "15it [00:02,  8.51it/s]\u001b[A\n",
      "16it [00:02,  8.43it/s]\u001b[A\n",
      "17it [00:02,  6.07it/s]\u001b[A\n",
      "18it [00:02,  5.78it/s]\u001b[A\n",
      "20it [00:03,  7.14it/s]\u001b[A\n",
      "21it [00:03,  7.64it/s]\u001b[A\n",
      "22it [00:03,  7.92it/s]\u001b[A\n",
      "24it [00:03,  8.43it/s]\u001b[A\n",
      "25it [00:03,  7.79it/s]\u001b[A\n",
      "26it [00:03,  5.73it/s]\u001b[A\n",
      "27it [00:04,  6.27it/s]\u001b[A\n",
      "29it [00:04,  7.58it/s]\u001b[A\n",
      "30it [00:04,  8.01it/s]\u001b[A\n",
      "31it [00:04,  8.23it/s]\u001b[A\n",
      "32it [00:04,  8.19it/s]\u001b[A\n",
      "33it [00:04,  7.92it/s]\u001b[A\n",
      "34it [00:05,  5.38it/s]\u001b[A\n",
      "36it [00:05,  6.89it/s]\u001b[A\n",
      "38it [00:05,  7.99it/s]\u001b[A\n",
      "39it [00:05,  8.03it/s]\u001b[A\n",
      "40it [00:05,  8.06it/s]\u001b[A\n",
      "41it [00:05,  7.95it/s]\u001b[A\n",
      "42it [00:06,  5.41it/s]\u001b[A\n",
      "44it [00:06,  6.86it/s]\u001b[A\n",
      "46it [00:06,  7.90it/s]\u001b[A\n",
      "47it [00:06,  8.11it/s]\u001b[A\n",
      "48it [00:06,  8.01it/s]\u001b[A\n",
      "49it [00:06,  7.87it/s]\u001b[A\n",
      "50it [00:07,  5.66it/s]\u001b[A\n",
      "51it [00:07,  6.24it/s]\u001b[A\n",
      "53it [00:07,  7.58it/s]\u001b[A\n",
      "55it [00:07,  8.51it/s]\u001b[A\n",
      "56it [00:07,  8.25it/s]\u001b[A\n",
      "57it [00:07,  8.07it/s]\u001b[A\n",
      "58it [00:08,  5.54it/s]\u001b[A\n",
      "60it [00:08,  6.88it/s]\u001b[A\n",
      "62it [00:08,  7.90it/s]\u001b[A\n",
      "63it [00:08,  8.12it/s]\u001b[A\n",
      "64it [00:08,  8.01it/s]\u001b[A\n",
      "65it [00:09,  7.65it/s]\u001b[A\n",
      "66it [00:09,  5.22it/s]\u001b[A\n",
      "67it [00:09,  5.89it/s]\u001b[A\n",
      "69it [00:09,  7.35it/s]\u001b[A\n",
      "71it [00:09,  8.35it/s]\u001b[A\n",
      "72it [00:10,  8.21it/s]\u001b[A\n",
      "73it [00:10,  7.99it/s]\u001b[A\n",
      "74it [00:10,  5.64it/s]\u001b[A\n",
      "76it [00:10,  7.03it/s]\u001b[A\n",
      "78it [00:10,  8.07it/s]\u001b[A\n",
      "80it [00:11,  8.28it/s]\u001b[A\n",
      "81it [00:11,  7.97it/s]\u001b[A\n",
      "83it [00:11,  7.15it/s]\u001b[A\n",
      "Epoch 7: loss 0.116819 0.9400:  83%|█████████████████████████████████████████████████████████████████████████████████████████████████████████████████████                        | 547/659 [02:46<05:10,  2.77s/it]"
     ]
    },
    {
     "name": "stdout",
     "output_type": "stream",
     "text": [
      "EarlyStopping counter: 5 out of 10\n"
     ]
    },
    {
     "name": "stderr",
     "output_type": "stream",
     "text": [
      "Epoch 7: loss 0.116787 1.0000: 100%|█████████████████████████████████████████████████████████████████████████████████████████████████████████████████████████████████████████████| 659/659 [03:14<00:00,  3.38it/s]\n",
      "Epoch 8: loss 0.115287 1.0000:  28%|███████████████████████████████████████▊                                                                                                     | 186/659 [00:49<02:16,  3.46it/s]\n",
      "0it [00:00, ?it/s]\u001b[A\n",
      "1it [00:00,  2.24it/s]\u001b[A\n",
      "2it [00:00,  3.81it/s]\u001b[A\n",
      "3it [00:00,  5.10it/s]\u001b[A\n",
      "4it [00:00,  6.32it/s]\u001b[A\n",
      "5it [00:00,  6.99it/s]\u001b[A\n",
      "6it [00:01,  7.76it/s]\u001b[A\n",
      "7it [00:01,  7.70it/s]\u001b[A\n",
      "8it [00:01,  5.52it/s]\u001b[A\n",
      "9it [00:01,  5.50it/s]\u001b[A\n",
      "10it [00:01,  5.64it/s]\u001b[A\n",
      "11it [00:01,  6.48it/s]\u001b[A\n",
      "13it [00:02,  7.58it/s]\u001b[A\n",
      "14it [00:02,  8.05it/s]\u001b[A\n",
      "15it [00:02,  8.42it/s]\u001b[A\n",
      "16it [00:02,  7.67it/s]\u001b[A\n",
      "17it [00:02,  5.39it/s]\u001b[A\n",
      "18it [00:02,  5.56it/s]\u001b[A\n",
      "19it [00:03,  6.33it/s]\u001b[A\n",
      "20it [00:03,  7.02it/s]\u001b[A\n",
      "21it [00:03,  7.48it/s]\u001b[A\n",
      "22it [00:03,  8.00it/s]\u001b[A\n",
      "23it [00:03,  8.45it/s]\u001b[A\n",
      "24it [00:03,  7.80it/s]\u001b[A\n",
      "25it [00:03,  5.35it/s]\u001b[A\n",
      "26it [00:04,  5.76it/s]\u001b[A\n",
      "27it [00:04,  6.24it/s]\u001b[A\n",
      "28it [00:04,  6.93it/s]\u001b[A\n",
      "29it [00:04,  7.49it/s]\u001b[A\n",
      "30it [00:04,  7.94it/s]\u001b[A\n",
      "31it [00:04,  7.99it/s]\u001b[A\n",
      "32it [00:04,  7.32it/s]\u001b[A\n",
      "33it [00:05,  4.98it/s]\u001b[A\n",
      "34it [00:05,  5.41it/s]\u001b[A\n",
      "35it [00:05,  6.22it/s]\u001b[A\n",
      "36it [00:05,  6.93it/s]\u001b[A\n",
      "37it [00:05,  7.58it/s]\u001b[A\n",
      "38it [00:05,  8.15it/s]\u001b[A\n",
      "39it [00:05,  8.56it/s]\u001b[A\n",
      "40it [00:06,  8.08it/s]\u001b[A\n",
      "41it [00:06,  5.45it/s]\u001b[A\n",
      "42it [00:06,  5.65it/s]\u001b[A\n",
      "43it [00:06,  6.13it/s]\u001b[A\n",
      "44it [00:06,  6.92it/s]\u001b[A\n",
      "45it [00:06,  7.32it/s]\u001b[A\n",
      "46it [00:06,  7.34it/s]\u001b[A\n",
      "47it [00:07,  7.91it/s]\u001b[A\n",
      "48it [00:07,  7.42it/s]\u001b[A\n",
      "49it [00:07,  5.15it/s]\u001b[A\n",
      "50it [00:07,  5.35it/s]\u001b[A\n",
      "51it [00:07,  6.17it/s]\u001b[A\n",
      "52it [00:07,  6.93it/s]\u001b[A\n",
      "53it [00:08,  7.57it/s]\u001b[A\n",
      "54it [00:08,  8.10it/s]\u001b[A\n",
      "55it [00:08,  8.27it/s]\u001b[A\n",
      "56it [00:08,  7.62it/s]\u001b[A\n",
      "57it [00:08,  5.36it/s]\u001b[A\n",
      "58it [00:08,  5.84it/s]\u001b[A\n",
      "59it [00:08,  6.61it/s]\u001b[A\n",
      "60it [00:09,  7.34it/s]\u001b[A\n",
      "61it [00:09,  7.93it/s]\u001b[A\n",
      "62it [00:09,  8.41it/s]\u001b[A\n",
      "63it [00:09,  8.40it/s]\u001b[A\n",
      "64it [00:09,  7.81it/s]\u001b[A\n",
      "65it [00:09,  5.27it/s]\u001b[A\n",
      "66it [00:10,  5.58it/s]\u001b[A\n",
      "67it [00:10,  6.36it/s]\u001b[A\n",
      "68it [00:10,  7.05it/s]\u001b[A\n",
      "69it [00:10,  7.61it/s]\u001b[A\n",
      "70it [00:10,  8.08it/s]\u001b[A\n",
      "71it [00:10,  8.33it/s]\u001b[A\n",
      "72it [00:10,  7.78it/s]\u001b[A\n",
      "73it [00:11,  5.37it/s]\u001b[A\n",
      "74it [00:11,  5.49it/s]\u001b[A\n",
      "75it [00:11,  6.08it/s]\u001b[A\n",
      "76it [00:11,  6.81it/s]\u001b[A\n",
      "77it [00:11,  7.41it/s]\u001b[A\n",
      "78it [00:11,  7.93it/s]\u001b[A\n",
      "79it [00:11,  8.03it/s]\u001b[A\n",
      "80it [00:11,  7.18it/s]\u001b[A\n",
      "81it [00:12,  6.86it/s]\u001b[A\n",
      "82it [00:12,  6.86it/s]\u001b[A\n",
      "83it [00:12,  6.65it/s]\u001b[A\n",
      "Epoch 8: loss 0.116124 0.9200:  29%|████████████████████████████████████████▏                                                                                                    | 188/659 [01:02<23:21,  2.98s/it]"
     ]
    },
    {
     "name": "stdout",
     "output_type": "stream",
     "text": [
      "EarlyStopping counter: 6 out of 10\n"
     ]
    },
    {
     "name": "stderr",
     "output_type": "stream",
     "text": [
      "Epoch 8: loss 0.116649 0.9400:  74%|███████████████████████████████████████████████████████████████████████████████████████████████████████▉                                     | 486/659 [02:22<00:42,  4.03it/s]\n",
      "0it [00:00, ?it/s]\u001b[A\n",
      "1it [00:00,  1.86it/s]\u001b[A\n",
      "2it [00:00,  3.37it/s]\u001b[A\n",
      "3it [00:00,  4.65it/s]\u001b[A\n",
      "4it [00:00,  5.74it/s]\u001b[A\n",
      "5it [00:01,  5.77it/s]\u001b[A\n",
      "6it [00:01,  6.40it/s]\u001b[A\n",
      "7it [00:01,  6.84it/s]\u001b[A\n",
      "8it [00:01,  6.74it/s]\u001b[A\n",
      "9it [00:01,  3.91it/s]\u001b[A\n",
      "10it [00:02,  4.64it/s]\u001b[A\n",
      "11it [00:02,  5.11it/s]\u001b[A\n",
      "12it [00:02,  5.86it/s]\u001b[A\n",
      "13it [00:02,  6.55it/s]\u001b[A\n",
      "14it [00:02,  6.90it/s]\u001b[A\n",
      "15it [00:02,  7.20it/s]\u001b[A\n",
      "16it [00:02,  6.52it/s]\u001b[A\n",
      "17it [00:03,  3.90it/s]\u001b[A\n",
      "18it [00:03,  4.62it/s]\u001b[A\n",
      "19it [00:03,  5.42it/s]\u001b[A\n",
      "20it [00:03,  6.18it/s]\u001b[A\n",
      "21it [00:03,  6.60it/s]\u001b[A\n",
      "22it [00:03,  7.19it/s]\u001b[A\n",
      "23it [00:04,  7.44it/s]\u001b[A\n",
      "24it [00:04,  6.68it/s]\u001b[A\n",
      "25it [00:04,  4.30it/s]\u001b[A\n",
      "26it [00:04,  5.11it/s]\u001b[A\n",
      "27it [00:04,  5.88it/s]\u001b[A\n",
      "28it [00:05,  6.60it/s]\u001b[A\n",
      "29it [00:05,  7.11it/s]\u001b[A\n",
      "30it [00:05,  7.39it/s]\u001b[A\n",
      "31it [00:05,  7.72it/s]\u001b[A\n",
      "32it [00:05,  7.36it/s]\u001b[A\n",
      "33it [00:05,  4.41it/s]\u001b[A\n",
      "34it [00:06,  5.21it/s]\u001b[A\n",
      "35it [00:06,  5.95it/s]\u001b[A\n",
      "36it [00:06,  6.39it/s]\u001b[A\n",
      "37it [00:06,  6.70it/s]\u001b[A\n",
      "38it [00:06,  7.23it/s]\u001b[A\n",
      "39it [00:06,  7.64it/s]\u001b[A\n",
      "40it [00:06,  7.02it/s]\u001b[A\n",
      "41it [00:07,  4.22it/s]\u001b[A\n",
      "42it [00:07,  4.91it/s]\u001b[A\n",
      "43it [00:07,  5.56it/s]\u001b[A\n",
      "44it [00:07,  6.14it/s]\u001b[A\n",
      "45it [00:07,  6.84it/s]\u001b[A\n",
      "46it [00:07,  7.44it/s]\u001b[A\n",
      "47it [00:08,  7.68it/s]\u001b[A\n",
      "48it [00:08,  6.78it/s]\u001b[A\n",
      "49it [00:08,  4.14it/s]\u001b[A\n",
      "50it [00:08,  4.68it/s]\u001b[A\n",
      "51it [00:08,  5.29it/s]\u001b[A\n",
      "52it [00:09,  5.87it/s]\u001b[A\n",
      "53it [00:09,  6.18it/s]\u001b[A\n",
      "54it [00:09,  6.48it/s]\u001b[A\n",
      "55it [00:09,  6.81it/s]\u001b[A\n",
      "56it [00:09,  6.49it/s]\u001b[A\n",
      "57it [00:10,  4.02it/s]\u001b[A\n",
      "58it [00:10,  4.72it/s]\u001b[A\n",
      "59it [00:10,  5.29it/s]\u001b[A\n",
      "60it [00:10,  5.91it/s]\u001b[A\n",
      "61it [00:10,  6.41it/s]\u001b[A\n",
      "62it [00:10,  6.74it/s]\u001b[A\n",
      "63it [00:10,  7.06it/s]\u001b[A\n",
      "64it [00:11,  6.60it/s]\u001b[A\n",
      "65it [00:11,  4.31it/s]\u001b[A\n",
      "66it [00:11,  5.06it/s]\u001b[A\n",
      "67it [00:11,  5.70it/s]\u001b[A\n",
      "68it [00:11,  6.29it/s]\u001b[A\n",
      "69it [00:11,  6.82it/s]\u001b[A\n",
      "70it [00:12,  7.17it/s]\u001b[A\n",
      "71it [00:12,  7.07it/s]\u001b[A\n",
      "72it [00:12,  6.53it/s]\u001b[A\n",
      "73it [00:12,  4.05it/s]\u001b[A\n",
      "74it [00:13,  4.57it/s]\u001b[A\n",
      "75it [00:13,  5.20it/s]\u001b[A\n",
      "76it [00:13,  5.87it/s]\u001b[A\n",
      "77it [00:13,  6.44it/s]\u001b[A\n",
      "78it [00:13,  6.91it/s]\u001b[A\n",
      "79it [00:13,  6.96it/s]\u001b[A\n",
      "80it [00:13,  6.56it/s]\u001b[A\n",
      "81it [00:14,  5.99it/s]\u001b[A\n",
      "82it [00:14,  6.44it/s]\u001b[A\n",
      "83it [00:14,  5.76it/s]\u001b[A\n",
      "Epoch 8: loss 0.116649 0.9400:  74%|████████████████████████████████████████████████████████████████████████████████████████████████████████▏                                    | 487/659 [02:37<13:33,  4.73s/it]"
     ]
    },
    {
     "name": "stdout",
     "output_type": "stream",
     "text": [
      "EarlyStopping counter: 7 out of 10\n"
     ]
    },
    {
     "name": "stderr",
     "output_type": "stream",
     "text": [
      "Epoch 8: loss 0.114548 1.0000: 100%|█████████████████████████████████████████████████████████████████████████████████████████████████████████████████████████████████████████████| 659/659 [03:28<00:00,  3.15it/s]\n",
      "Epoch 9: loss 0.123741 0.9400:  19%|███████████████████████████▏                                                                                                                 | 127/659 [00:40<02:20,  3.78it/s]\n",
      "0it [00:00, ?it/s]\u001b[A\n",
      "1it [00:00,  4.04it/s]\u001b[A\n",
      "2it [00:00,  4.44it/s]\u001b[A\n",
      "3it [00:00,  4.97it/s]\u001b[A\n",
      "4it [00:00,  3.82it/s]\u001b[A\n",
      "5it [00:01,  3.88it/s]\u001b[A\n",
      "6it [00:01,  4.69it/s]\u001b[A\n",
      "7it [00:01,  5.23it/s]\u001b[A\n",
      "8it [00:01,  5.78it/s]\u001b[A\n",
      "9it [00:01,  6.09it/s]\u001b[A\n",
      "10it [00:02,  5.22it/s]\u001b[A\n",
      "11it [00:02,  5.73it/s]\u001b[A\n",
      "12it [00:02,  5.49it/s]\u001b[A\n",
      "13it [00:02,  3.84it/s]\u001b[A\n",
      "14it [00:02,  4.49it/s]\u001b[A\n",
      "15it [00:03,  5.11it/s]\u001b[A\n",
      "16it [00:03,  5.69it/s]\u001b[A\n",
      "17it [00:03,  6.14it/s]\u001b[A\n",
      "18it [00:03,  5.43it/s]\u001b[A\n",
      "19it [00:03,  5.98it/s]\u001b[A\n",
      "20it [00:03,  5.71it/s]\u001b[A\n",
      "21it [00:04,  4.21it/s]\u001b[A\n",
      "22it [00:04,  4.97it/s]\u001b[A\n",
      "23it [00:04,  5.49it/s]\u001b[A\n",
      "24it [00:04,  5.93it/s]\u001b[A\n",
      "25it [00:04,  6.39it/s]\u001b[A\n",
      "26it [00:05,  5.25it/s]\u001b[A\n",
      "27it [00:05,  5.93it/s]\u001b[A\n",
      "28it [00:05,  5.66it/s]\u001b[A\n",
      "29it [00:05,  3.96it/s]\u001b[A\n",
      "30it [00:05,  4.69it/s]\u001b[A\n",
      "31it [00:06,  5.10it/s]\u001b[A\n",
      "32it [00:06,  5.61it/s]\u001b[A\n",
      "33it [00:06,  6.18it/s]\u001b[A\n",
      "34it [00:06,  5.44it/s]\u001b[A\n",
      "35it [00:06,  6.04it/s]\u001b[A\n",
      "36it [00:06,  5.90it/s]\u001b[A\n",
      "37it [00:07,  4.01it/s]\u001b[A\n",
      "38it [00:07,  4.66it/s]\u001b[A\n",
      "39it [00:07,  5.38it/s]\u001b[A\n",
      "40it [00:07,  6.04it/s]\u001b[A\n",
      "41it [00:07,  6.61it/s]\u001b[A\n",
      "42it [00:08,  5.81it/s]\u001b[A\n",
      "43it [00:08,  6.43it/s]\u001b[A\n",
      "44it [00:08,  6.13it/s]\u001b[A\n",
      "45it [00:08,  4.37it/s]\u001b[A\n",
      "46it [00:08,  5.11it/s]\u001b[A\n",
      "47it [00:08,  5.77it/s]\u001b[A\n",
      "48it [00:09,  6.41it/s]\u001b[A\n",
      "49it [00:09,  6.73it/s]\u001b[A\n",
      "50it [00:09,  5.88it/s]\u001b[A\n",
      "51it [00:09,  6.50it/s]\u001b[A\n",
      "52it [00:09,  6.43it/s]\u001b[A\n",
      "53it [00:10,  4.30it/s]\u001b[A\n",
      "54it [00:10,  4.93it/s]\u001b[A\n",
      "55it [00:10,  5.59it/s]\u001b[A\n",
      "56it [00:10,  6.17it/s]\u001b[A\n",
      "57it [00:10,  6.63it/s]\u001b[A\n",
      "58it [00:10,  5.37it/s]\u001b[A\n",
      "59it [00:11,  5.97it/s]\u001b[A\n",
      "60it [00:11,  5.96it/s]\u001b[A\n",
      "61it [00:11,  4.22it/s]\u001b[A\n",
      "62it [00:11,  4.93it/s]\u001b[A\n",
      "63it [00:11,  5.49it/s]\u001b[A\n",
      "64it [00:11,  5.95it/s]\u001b[A\n",
      "65it [00:12,  6.35it/s]\u001b[A\n",
      "66it [00:12,  5.31it/s]\u001b[A\n",
      "67it [00:12,  5.83it/s]\u001b[A\n",
      "68it [00:12,  5.62it/s]\u001b[A\n",
      "69it [00:13,  3.99it/s]\u001b[A\n",
      "70it [00:13,  4.64it/s]\u001b[A\n",
      "71it [00:13,  5.19it/s]\u001b[A\n",
      "72it [00:13,  5.87it/s]\u001b[A\n",
      "73it [00:13,  6.21it/s]\u001b[A\n",
      "74it [00:13,  5.19it/s]\u001b[A\n",
      "75it [00:14,  5.67it/s]\u001b[A\n",
      "76it [00:14,  5.61it/s]\u001b[A\n",
      "77it [00:14,  3.90it/s]\u001b[A\n",
      "78it [00:14,  4.39it/s]\u001b[A\n",
      "79it [00:14,  5.00it/s]\u001b[A\n",
      "80it [00:15,  5.66it/s]\u001b[A\n",
      "81it [00:15,  6.23it/s]\u001b[A\n",
      "82it [00:15,  5.63it/s]\u001b[A\n",
      "83it [00:15,  5.31it/s]\u001b[A\n",
      "Epoch 9: loss 0.123741 0.9400:  19%|███████████████████████████▍                                                                                                                 | 128/659 [00:56<45:13,  5.11s/it]"
     ]
    },
    {
     "name": "stdout",
     "output_type": "stream",
     "text": [
      "EarlyStopping counter: 8 out of 10\n"
     ]
    },
    {
     "name": "stderr",
     "output_type": "stream",
     "text": [
      "Epoch 9: loss 0.116890 0.9400:  65%|███████████████████████████████████████████████████████████████████████████████████████████▎                                                 | 427/659 [02:29<01:11,  3.26it/s]\n",
      "0it [00:00, ?it/s]\u001b[A\n",
      "1it [00:00,  4.03it/s]\u001b[A\n",
      "2it [00:00,  4.52it/s]\u001b[A\n",
      "3it [00:00,  4.76it/s]\u001b[A\n",
      "4it [00:00,  4.33it/s]\u001b[A\n",
      "5it [00:01,  5.02it/s]\u001b[A\n",
      "6it [00:01,  5.19it/s]\u001b[A\n",
      "7it [00:01,  5.89it/s]\u001b[A\n",
      "8it [00:01,  4.67it/s]\u001b[A\n",
      "9it [00:01,  5.37it/s]\u001b[A\n",
      "10it [00:01,  5.38it/s]\u001b[A\n",
      "11it [00:02,  5.93it/s]\u001b[A\n",
      "12it [00:02,  5.73it/s]\u001b[A\n",
      "13it [00:02,  5.44it/s]\u001b[A\n",
      "14it [00:02,  5.71it/s]\u001b[A\n",
      "15it [00:02,  6.10it/s]\u001b[A\n",
      "16it [00:03,  3.13it/s]\u001b[A\n",
      "17it [00:03,  3.83it/s]\u001b[A\n",
      "18it [00:03,  4.11it/s]\u001b[A\n",
      "19it [00:03,  4.70it/s]\u001b[A\n",
      "20it [00:04,  4.85it/s]\u001b[A\n",
      "21it [00:04,  4.51it/s]\u001b[A\n",
      "22it [00:04,  4.76it/s]\u001b[A\n",
      "23it [00:04,  5.32it/s]\u001b[A\n",
      "24it [00:04,  4.66it/s]\u001b[A\n",
      "25it [00:05,  5.19it/s]\u001b[A\n",
      "26it [00:05,  5.27it/s]\u001b[A\n",
      "27it [00:05,  5.59it/s]\u001b[A\n",
      "28it [00:05,  5.57it/s]\u001b[A\n",
      "29it [00:05,  5.11it/s]\u001b[A\n",
      "30it [00:06,  5.17it/s]\u001b[A\n",
      "31it [00:06,  5.63it/s]\u001b[A\n",
      "32it [00:06,  4.32it/s]\u001b[A\n",
      "33it [00:06,  4.96it/s]\u001b[A\n",
      "34it [00:06,  4.76it/s]\u001b[A\n",
      "35it [00:07,  5.30it/s]\u001b[A\n",
      "36it [00:07,  5.43it/s]\u001b[A\n",
      "37it [00:07,  4.96it/s]\u001b[A\n",
      "38it [00:07,  4.97it/s]\u001b[A\n",
      "39it [00:07,  5.58it/s]\u001b[A\n",
      "40it [00:08,  4.64it/s]\u001b[A\n",
      "41it [00:08,  5.28it/s]\u001b[A\n",
      "42it [00:08,  5.14it/s]\u001b[A\n",
      "43it [00:08,  5.57it/s]\u001b[A\n",
      "44it [00:08,  5.54it/s]\u001b[A\n",
      "45it [00:09,  4.76it/s]\u001b[A\n",
      "46it [00:09,  4.82it/s]\u001b[A\n",
      "47it [00:09,  5.47it/s]\u001b[A\n",
      "48it [00:09,  4.34it/s]\u001b[A\n",
      "49it [00:09,  5.03it/s]\u001b[A\n",
      "50it [00:10,  5.05it/s]\u001b[A\n",
      "51it [00:10,  5.62it/s]\u001b[A\n",
      "52it [00:10,  5.48it/s]\u001b[A\n",
      "53it [00:10,  4.91it/s]\u001b[A\n",
      "54it [00:10,  4.96it/s]\u001b[A\n",
      "55it [00:10,  5.60it/s]\u001b[A\n",
      "56it [00:11,  4.61it/s]\u001b[A\n",
      "57it [00:11,  5.14it/s]\u001b[A\n",
      "58it [00:11,  5.01it/s]\u001b[A\n",
      "59it [00:11,  5.59it/s]\u001b[A\n",
      "60it [00:11,  5.54it/s]\u001b[A\n",
      "61it [00:12,  5.23it/s]\u001b[A\n",
      "62it [00:12,  5.30it/s]\u001b[A\n",
      "63it [00:12,  5.75it/s]\u001b[A\n",
      "64it [00:12,  4.55it/s]\u001b[A\n",
      "65it [00:12,  5.24it/s]\u001b[A\n",
      "66it [00:13,  5.33it/s]\u001b[A\n",
      "67it [00:13,  5.76it/s]\u001b[A\n",
      "68it [00:13,  5.69it/s]\u001b[A\n",
      "69it [00:13,  5.63it/s]\u001b[A\n",
      "70it [00:13,  5.56it/s]\u001b[A\n",
      "71it [00:13,  5.45it/s]\u001b[A\n",
      "72it [00:14,  5.49it/s]\u001b[A\n",
      "73it [00:14,  5.32it/s]\u001b[A\n",
      "74it [00:14,  5.23it/s]\u001b[A\n",
      "75it [00:14,  4.75it/s]\u001b[A\n",
      "76it [00:14,  5.45it/s]\u001b[A\n",
      "77it [00:15,  5.35it/s]\u001b[A\n",
      "78it [00:15,  5.28it/s]\u001b[A\n",
      "79it [00:15,  5.29it/s]\u001b[A\n",
      "80it [00:15,  5.11it/s]\u001b[A\n",
      "81it [00:15,  5.18it/s]\u001b[A\n",
      "82it [00:16,  5.21it/s]\u001b[A\n",
      "83it [00:16,  5.08it/s]\u001b[A\n",
      "Epoch 9: loss 0.116890 0.9400:  65%|███████████████████████████████████████████████████████████████████████████████████████████▌                                                 | 428/659 [02:46<20:33,  5.34s/it]"
     ]
    },
    {
     "name": "stdout",
     "output_type": "stream",
     "text": [
      "EarlyStopping counter: 9 out of 10\n"
     ]
    },
    {
     "name": "stderr",
     "output_type": "stream",
     "text": [
      "Epoch 9: loss 0.112950 1.0000: 100%|█████████████████████████████████████████████████████████████████████████████████████████████████████████████████████████████████████████████| 659/659 [03:59<00:00,  2.75it/s]\n",
      "Epoch 10: loss 0.127389 0.9800:  10%|██████████████▌                                                                                                                              | 68/659 [00:22<03:41,  2.67it/s]\n",
      "0it [00:00, ?it/s]\u001b[A\n",
      "1it [00:00,  1.40it/s]\u001b[A\n",
      "2it [00:00,  2.66it/s]\u001b[A\n",
      "3it [00:01,  3.67it/s]\u001b[A\n",
      "4it [00:01,  4.47it/s]\u001b[A\n",
      "5it [00:01,  4.89it/s]\u001b[A\n",
      "6it [00:01,  5.56it/s]\u001b[A\n",
      "7it [00:01,  6.09it/s]\u001b[A\n",
      "8it [00:02,  3.73it/s]\u001b[A\n",
      "9it [00:02,  4.30it/s]\u001b[A\n",
      "10it [00:02,  4.83it/s]\u001b[A\n",
      "11it [00:02,  5.37it/s]\u001b[A\n",
      "12it [00:02,  5.95it/s]\u001b[A\n",
      "13it [00:02,  6.35it/s]\u001b[A\n",
      "14it [00:02,  6.56it/s]\u001b[A\n",
      "15it [00:03,  6.79it/s]\u001b[A\n",
      "16it [00:03,  3.67it/s]\u001b[A\n",
      "17it [00:03,  4.30it/s]\u001b[A\n",
      "18it [00:03,  4.88it/s]\u001b[A\n",
      "19it [00:04,  5.44it/s]\u001b[A\n",
      "20it [00:04,  5.81it/s]\u001b[A\n",
      "21it [00:04,  6.22it/s]\u001b[A\n",
      "22it [00:04,  6.56it/s]\u001b[A\n",
      "23it [00:04,  6.79it/s]\u001b[A\n",
      "24it [00:05,  4.17it/s]\u001b[A\n",
      "25it [00:05,  4.62it/s]\u001b[A\n",
      "26it [00:05,  5.25it/s]\u001b[A\n",
      "27it [00:05,  5.32it/s]\u001b[A\n",
      "28it [00:05,  5.74it/s]\u001b[A\n",
      "29it [00:05,  5.86it/s]\u001b[A\n",
      "30it [00:05,  6.19it/s]\u001b[A\n",
      "31it [00:06,  6.49it/s]\u001b[A\n",
      "32it [00:06,  3.45it/s]\u001b[A\n",
      "33it [00:06,  4.13it/s]\u001b[A\n",
      "34it [00:06,  4.79it/s]\u001b[A\n",
      "35it [00:07,  5.39it/s]\u001b[A\n",
      "36it [00:07,  5.91it/s]\u001b[A\n",
      "37it [00:07,  6.26it/s]\u001b[A\n",
      "38it [00:07,  6.53it/s]\u001b[A\n",
      "39it [00:07,  6.84it/s]\u001b[A\n",
      "40it [00:08,  3.90it/s]\u001b[A\n",
      "41it [00:08,  4.40it/s]\u001b[A\n",
      "42it [00:08,  4.96it/s]\u001b[A\n",
      "43it [00:08,  5.31it/s]\u001b[A\n",
      "44it [00:08,  5.70it/s]\u001b[A\n",
      "45it [00:08,  6.02it/s]\u001b[A\n",
      "46it [00:09,  6.21it/s]\u001b[A\n",
      "47it [00:09,  6.37it/s]\u001b[A\n",
      "48it [00:09,  3.71it/s]\u001b[A\n",
      "49it [00:09,  4.30it/s]\u001b[A\n",
      "50it [00:10,  4.85it/s]\u001b[A\n",
      "51it [00:10,  5.31it/s]\u001b[A\n",
      "52it [00:10,  5.66it/s]\u001b[A\n",
      "53it [00:10,  6.09it/s]\u001b[A\n",
      "54it [00:10,  6.30it/s]\u001b[A\n",
      "55it [00:10,  6.37it/s]\u001b[A\n",
      "56it [00:11,  3.70it/s]\u001b[A\n",
      "57it [00:11,  4.27it/s]\u001b[A\n",
      "58it [00:11,  4.89it/s]\u001b[A\n",
      "59it [00:11,  5.28it/s]\u001b[A\n",
      "60it [00:11,  5.81it/s]\u001b[A\n",
      "61it [00:11,  6.12it/s]\u001b[A\n",
      "62it [00:12,  6.50it/s]\u001b[A\n",
      "63it [00:12,  6.73it/s]\u001b[A\n",
      "64it [00:12,  3.59it/s]\u001b[A\n",
      "65it [00:13,  4.02it/s]\u001b[A\n",
      "66it [00:13,  4.52it/s]\u001b[A\n",
      "67it [00:13,  5.07it/s]\u001b[A\n",
      "68it [00:13,  5.48it/s]\u001b[A\n",
      "69it [00:13,  5.91it/s]\u001b[A\n",
      "70it [00:13,  6.29it/s]\u001b[A\n",
      "71it [00:13,  6.43it/s]\u001b[A\n",
      "72it [00:14,  3.43it/s]\u001b[A\n",
      "73it [00:14,  4.09it/s]\u001b[A\n",
      "74it [00:14,  4.53it/s]\u001b[A\n",
      "75it [00:14,  5.15it/s]\u001b[A\n",
      "76it [00:15,  5.72it/s]\u001b[A\n",
      "77it [00:15,  6.09it/s]\u001b[A\n",
      "78it [00:15,  6.47it/s]\u001b[A\n",
      "79it [00:15,  6.57it/s]\u001b[A\n",
      "80it [00:15,  4.94it/s]\u001b[A\n",
      "81it [00:15,  5.49it/s]\u001b[A\n",
      "82it [00:16,  5.96it/s]\u001b[A\n",
      "83it [00:16,  5.08it/s]\u001b[A\n",
      "Epoch 10: loss 0.127389 0.9800:  10%|██████████████▌                                                                                                                              | 68/659 [00:39<05:45,  1.71it/s]"
     ]
    },
    {
     "name": "stdout",
     "output_type": "stream",
     "text": [
      "EarlyStopping counter: 10 out of 10\n"
     ]
    },
    {
     "name": "stderr",
     "output_type": "stream",
     "text": [
      "\n"
     ]
    }
   ],
   "source": [
    "trainer.fit()"
   ]
  },
  {
   "cell_type": "code",
   "execution_count": 35,
   "id": "76e4bbf5",
   "metadata": {},
   "outputs": [
    {
     "data": {
      "text/plain": [
       "<All keys matched successfully>"
      ]
     },
     "execution_count": 35,
     "metadata": {},
     "output_type": "execute_result"
    }
   ],
   "source": [
    "model.load_state_dict(torch.load(trainer.es_path+'checkpoint.pt'))"
   ]
  },
  {
   "cell_type": "code",
   "execution_count": 37,
   "id": "865643ae",
   "metadata": {},
   "outputs": [
    {
     "name": "stderr",
     "output_type": "stream",
     "text": [
      "83it [00:14,  5.69it/s]\n",
      "83it [00:15,  5.49it/s]\n"
     ]
    }
   ],
   "source": [
    "run.log({'Valid ROCAUC': compute_roc(model, validloader, evaluator)})\n",
    "run.log({'Test ROCAUC': compute_roc(model, testloader, evaluator)})"
   ]
  },
  {
   "cell_type": "markdown",
   "id": "fa48ba41",
   "metadata": {},
   "source": [
    "#store config and model\n",
    "with open(t.es_path+'config.yaml', 'w') as f:\n",
    "    yaml.dump(config.to_dict(), f, default_flow_style=False)\n",
    "if name is not None and mode != \"offline\":\n",
    "    trained_model_artifact = wandb.Artifact(name, type=\"model\", description=\"trained selfattn model\")\n",
    "    trained_model_artifact.add_dir(t.es_path)\n",
    "    run.log_artifact(trained_model_artifact)"
   ]
  },
  {
   "cell_type": "code",
   "execution_count": 38,
   "id": "816c5af5",
   "metadata": {},
   "outputs": [
    {
     "data": {
      "text/html": [
       "<br/>Waiting for W&B process to finish, PID 1938672<br/>Program ended successfully."
      ],
      "text/plain": [
       "<IPython.core.display.HTML object>"
      ]
     },
     "metadata": {},
     "output_type": "display_data"
    },
    {
     "data": {
      "application/vnd.jupyter.widget-view+json": {
       "model_id": "",
       "version_major": 2,
       "version_minor": 0
      },
      "text/plain": [
       "VBox(children=(Label(value=' 0.00MB of 0.00MB uploaded (0.00MB deduped)\\r'), FloatProgress(value=1.0, max=1.0)…"
      ]
     },
     "metadata": {},
     "output_type": "display_data"
    },
    {
     "data": {
      "text/html": [
       "Find user logs for this run at: <code>/home/chrisw/Documents/projects/2021/graph-transformer/notebooks/selfattn/wandb/run-20210928_145517-3m5wjuwq/logs/debug.log</code>"
      ],
      "text/plain": [
       "<IPython.core.display.HTML object>"
      ]
     },
     "metadata": {},
     "output_type": "display_data"
    },
    {
     "data": {
      "text/html": [
       "Find internal logs for this run at: <code>/home/chrisw/Documents/projects/2021/graph-transformer/notebooks/selfattn/wandb/run-20210928_145517-3m5wjuwq/logs/debug-internal.log</code>"
      ],
      "text/plain": [
       "<IPython.core.display.HTML object>"
      ]
     },
     "metadata": {},
     "output_type": "display_data"
    },
    {
     "data": {
      "text/html": [
       "<h3>Run summary:</h3><br/><style>\n",
       "    table.wandb td:nth-child(1) { padding: 0 10px; text-align: right }\n",
       "    </style><table class=\"wandb\">\n",
       "<tr><td>batch-loss</td><td>0.03179</td></tr><tr><td>loss</td><td>0.12739</td></tr><tr><td>batch-acc</td><td>0.98</td></tr><tr><td>acc</td><td>0.96609</td></tr><tr><td>learning rate</td><td>0.0</td></tr><tr><td>_runtime</td><td>3039</td></tr><tr><td>_timestamp</td><td>1632836756</td></tr><tr><td>_step</td><td>6031</td></tr><tr><td>valid-score</td><td>0.75576</td></tr><tr><td>train-loss</td><td>0.12739</td></tr><tr><td>train-acc</td><td>0.96609</td></tr><tr><td>Valid ROCAUC</td><td>0.78541</td></tr><tr><td>Test ROCAUC</td><td>0.78586</td></tr></table>"
      ],
      "text/plain": [
       "<IPython.core.display.HTML object>"
      ]
     },
     "metadata": {},
     "output_type": "display_data"
    },
    {
     "data": {
      "text/html": [
       "<h3>Run history:</h3><br/><style>\n",
       "    table.wandb td:nth-child(1) { padding: 0 10px; text-align: right }\n",
       "    </style><table class=\"wandb\">\n",
       "<tr><td>batch-loss</td><td>█▃▃▂▆▃▄▃▁▄▅▃▁▂▁▅▅▂▂▂▂▄▁▃▂▄▄▄▃▂█▃▅▂▄▂▅▆▁▆</td></tr><tr><td>loss</td><td>█▆▆▆▅▅▄▄▄▄▄▄▄▁▃▄▄▄▄▄▄▄▅▄▄▄▂▄▄▄▄▄▃▃▄▃▄▄▃▅</td></tr><tr><td>batch-acc</td><td>▁▆▆▆▃▆▅▆█▁▃▆█▆▆▅▃▆▆▆█▆█▆▆▅▅▅▅▆▁▆▅▅▆▆▅▃▆▁</td></tr><tr><td>acc</td><td>▂▂▂▂▂▂▃▃▃▄▃▃▃█▅▄▃▄▅▄▅▅▁▅▅▄▄▄▄▄▄▄▅▅▄▇▄▄▅▃</td></tr><tr><td>learning rate</td><td>▁▁▁▁▁▁▁▁▁▁▁▁▁▁▁▁▁▁▁▁▁▁▁▁▁▁▁▁▁▁▁▁▁▁▁▁▁▁▁▁</td></tr><tr><td>_runtime</td><td>▁▁▁▁▂▂▂▂▂▂▃▃▃▃▃▃▄▄▄▄▄▄▅▅▅▅▅▅▆▆▆▆▆▇▇▇▇███</td></tr><tr><td>_timestamp</td><td>▁▁▁▁▂▂▂▂▂▂▃▃▃▃▃▃▄▄▄▄▄▄▅▅▅▅▅▅▆▆▆▆▆▇▇▇▇███</td></tr><tr><td>_step</td><td>▁▁▁▂▂▂▂▂▂▃▃▃▃▃▃▄▄▄▄▄▅▅▅▅▅▅▆▆▆▆▆▆▇▇▇▇▇███</td></tr><tr><td>valid-score</td><td>▁▂▃▇▆▆▆▆▆█▇▇▆▄▆▅▄▁▇▂</td></tr><tr><td>train-loss</td><td>█▅▄▃▃▂▂▁▁▄</td></tr><tr><td>train-acc</td><td>▁▃▄▅▆▆▇▇█▅</td></tr><tr><td>Valid ROCAUC</td><td>▁</td></tr><tr><td>Test ROCAUC</td><td>▁</td></tr></table><br/>"
      ],
      "text/plain": [
       "<IPython.core.display.HTML object>"
      ]
     },
     "metadata": {},
     "output_type": "display_data"
    },
    {
     "data": {
      "text/html": [
       "Synced 5 W&B file(s), 0 media file(s), 0 artifact file(s) and 0 other file(s)"
      ],
      "text/plain": [
       "<IPython.core.display.HTML object>"
      ]
     },
     "metadata": {},
     "output_type": "display_data"
    },
    {
     "data": {
      "text/html": [
       "\n",
       "                    <br/>Synced <strong style=\"color:#cdcd00\">rnd2min2-10M-cls3</strong>: <a href=\"https://wandb.ai/dfstransformer/ogbg-hiv/runs/3m5wjuwq\" target=\"_blank\">https://wandb.ai/dfstransformer/ogbg-hiv/runs/3m5wjuwq</a><br/>\n",
       "                "
      ],
      "text/plain": [
       "<IPython.core.display.HTML object>"
      ]
     },
     "metadata": {},
     "output_type": "display_data"
    }
   ],
   "source": [
    "exit()"
   ]
  },
  {
   "cell_type": "code",
   "execution_count": null,
   "id": "66834d0a",
   "metadata": {},
   "outputs": [],
   "source": []
  }
 ],
 "metadata": {
  "kernelspec": {
   "display_name": "Python 3 (ipykernel)",
   "language": "python",
   "name": "python3"
  },
  "language_info": {
   "codemirror_mode": {
    "name": "ipython",
    "version": 3
   },
   "file_extension": ".py",
   "mimetype": "text/x-python",
   "name": "python",
   "nbconvert_exporter": "python",
   "pygments_lexer": "ipython3",
   "version": "3.8.3"
  }
 },
 "nbformat": 4,
 "nbformat_minor": 5
}
