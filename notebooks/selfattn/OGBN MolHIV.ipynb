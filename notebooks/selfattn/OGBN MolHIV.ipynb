{
 "cells": [
  {
   "cell_type": "code",
   "execution_count": 1,
   "id": "49a7ca25",
   "metadata": {},
   "outputs": [],
   "source": [
    "%load_ext autoreload\n",
    "%autoreload 2"
   ]
  },
  {
   "cell_type": "code",
   "execution_count": 2,
   "id": "0033798e",
   "metadata": {},
   "outputs": [
    {
     "name": "stderr",
     "output_type": "stream",
     "text": [
      "Using backend: pytorch\n",
      "WARNING:root:No normalization for BCUT2D_MWHI\n",
      "WARNING:root:No normalization for BCUT2D_MWLOW\n",
      "WARNING:root:No normalization for BCUT2D_CHGHI\n",
      "WARNING:root:No normalization for BCUT2D_CHGLO\n",
      "WARNING:root:No normalization for BCUT2D_LOGPHI\n",
      "WARNING:root:No normalization for BCUT2D_LOGPLOW\n",
      "WARNING:root:No normalization for BCUT2D_MRHI\n",
      "WARNING:root:No normalization for BCUT2D_MRLOW\n"
     ]
    }
   ],
   "source": [
    "import json\n",
    "import numpy as np\n",
    "from torch.utils.data import Dataset, DataLoader\n",
    "import glob\n",
    "import wandb\n",
    "import os\n",
    "import torch.optim as optimizers\n",
    "import dfs_code\n",
    "from torch_geometric.data import InMemoryDataset, Data\n",
    "import pickle\n",
    "import torch\n",
    "import torch.nn as nn\n",
    "import tqdm\n",
    "import copy\n",
    "import pandas as pd\n",
    "import torch.nn.functional as F\n",
    "import sys\n",
    "import yaml\n",
    "import functools\n",
    "from ml_collections import ConfigDict\n",
    "from ogb.graphproppred import PygGraphPropPredDataset\n",
    "\n",
    "sys.path = ['../../src'] + sys.path\n",
    "from dfs_transformer import DFSCodeSeq2SeqFC, Deepchem2TorchGeometric, Trainer, to_cuda"
   ]
  },
  {
   "cell_type": "code",
   "execution_count": 3,
   "id": "f4980645",
   "metadata": {},
   "outputs": [],
   "source": [
    "fname = '../../config/selfattn/finetune_ogb.yaml'\n",
    "with open(fname) as file:\n",
    "    config = ConfigDict(yaml.load(file, Loader=yaml.FullLoader))"
   ]
  },
  {
   "cell_type": "code",
   "execution_count": 4,
   "id": "49f0147e",
   "metadata": {},
   "outputs": [
    {
     "data": {
      "text/plain": [
       "accumulate_grads: 2\n",
       "batch_size: 50\n",
       "clip_gradient: 0.5\n",
       "decay_factor: 0.8\n",
       "es_improvement: 0.0\n",
       "es_path: null\n",
       "es_patience: 10\n",
       "fingerprint: cls\n",
       "gpu_id: 0\n",
       "load_last: true\n",
       "lr: 0.0003\n",
       "lr_head: 0.003\n",
       "lr_patience: 3\n",
       "lr_pretrained: 0.0003\n",
       "minimal_lr: 6.0e-08\n",
       "n_classes: 349\n",
       "n_epochs: 25\n",
       "n_frozen: 5\n",
       "path: ../../results/ogbn_mag/timeout1/\n",
       "pretrained_class: DFSCodeSeq2SeqFC\n",
       "pretrained_dir: null\n",
       "pretrained_entity: dfstransformer\n",
       "pretrained_model: rnd2min\n",
       "pretrained_project: ogbn-mag\n",
       "pretrained_yaml: null\n",
       "require_min_dfs_code: false\n",
       "seed: 123\n",
       "strict: true\n",
       "use_local_yaml: false\n",
       "weight_decay: 0.1"
      ]
     },
     "execution_count": 4,
     "metadata": {},
     "output_type": "execute_result"
    }
   ],
   "source": [
    "config"
   ]
  },
  {
   "cell_type": "code",
   "execution_count": 5,
   "id": "a212b18d",
   "metadata": {},
   "outputs": [],
   "source": [
    "config.pretrained_project = 'pubchem'\n",
    "config.pretrained_model = 'rnd2min-10M-euler'\n",
    "config.es_period = 300\n",
    "config.lr = 0.000003"
   ]
  },
  {
   "cell_type": "code",
   "execution_count": 6,
   "id": "85a39474",
   "metadata": {},
   "outputs": [],
   "source": [
    "config.require_min_dfs_code = False"
   ]
  },
  {
   "cell_type": "code",
   "execution_count": 7,
   "id": "998e03cb",
   "metadata": {},
   "outputs": [],
   "source": [
    "onlyRandom = not config.require_min_dfs_code"
   ]
  },
  {
   "cell_type": "code",
   "execution_count": 8,
   "id": "6a8e1cf2",
   "metadata": {},
   "outputs": [],
   "source": [
    "mol_csv = pd.read_csv('../../datasets/ogbg_molhiv/mol.csv')\n",
    "\n",
    "dataset = PygGraphPropPredDataset(name = \"ogbg-molhiv\") \n",
    "split_idx = dataset.get_idx_split() "
   ]
  },
  {
   "cell_type": "markdown",
   "id": "e5a30078",
   "metadata": {},
   "source": [
    "# check whether we get the correct splits"
   ]
  },
  {
   "cell_type": "code",
   "execution_count": 9,
   "id": "187bff0c",
   "metadata": {},
   "outputs": [
    {
     "name": "stdout",
     "output_type": "stream",
     "text": [
      "All train labels are identical.\n",
      "All valid labels are identical.\n",
      "All test labels are identical.\n"
     ]
    }
   ],
   "source": [
    "for split in [\"train\", \"valid\", \"test\"]:\n",
    "    csv_labels = mol_csv[\"HIV_active\"][split_idx[split].numpy()].to_numpy()\n",
    "    ogb_labels = np.asarray([d.y.item() for d in dataset[split_idx[split]]])\n",
    "    if (ogb_labels == csv_labels).sum() == len(ogb_labels):\n",
    "        print(\"All %s labels are identical.\"%split)"
   ]
  },
  {
   "cell_type": "code",
   "execution_count": 10,
   "id": "173f9a9c",
   "metadata": {},
   "outputs": [],
   "source": [
    "train_smiles = mol_csv[\"smiles\"][split_idx[\"train\"].numpy()].to_numpy()\n",
    "train_labels = mol_csv[\"HIV_active\"][split_idx[\"train\"].numpy()].to_numpy()\n",
    "valid_smiles = mol_csv[\"smiles\"][split_idx[\"valid\"].numpy()].to_numpy()\n",
    "valid_labels = mol_csv[\"HIV_active\"][split_idx[\"valid\"].numpy()].to_numpy()\n",
    "test_smiles = mol_csv[\"smiles\"][split_idx[\"test\"].numpy()].to_numpy()\n",
    "test_labels = mol_csv[\"HIV_active\"][split_idx[\"test\"].numpy()].to_numpy()"
   ]
  },
  {
   "cell_type": "code",
   "execution_count": 11,
   "id": "f43518be",
   "metadata": {},
   "outputs": [],
   "source": [
    "loaddir = \"../../results/mymoleculenet_plus_features/hiv/1/\"\n",
    "train = Deepchem2TorchGeometric(train_smiles, train_labels, loaddir=None, onlyRandom=onlyRandom)\n",
    "valid = Deepchem2TorchGeometric(valid_smiles, valid_labels, loaddir=None, onlyRandom=onlyRandom)\n",
    "test = Deepchem2TorchGeometric(test_smiles, test_labels, loaddir=None, onlyRandom=onlyRandom)"
   ]
  },
  {
   "cell_type": "code",
   "execution_count": 12,
   "id": "5df29558",
   "metadata": {},
   "outputs": [],
   "source": [
    "def collate_fn(dlist):\n",
    "    node_batch = [] \n",
    "    edge_batch = []\n",
    "    y_batch = []\n",
    "    rnd_code_batch = []\n",
    "    for d in dlist:\n",
    "        node_batch += [d.node_features]\n",
    "        edge_batch += [d.edge_features]\n",
    "        rnd_code, rnd_index = dfs_code.rnd_dfs_code_from_torch_geometric(d, d.z.numpy().tolist(), \n",
    "                                                                         np.argmax(d.edge_attr.numpy(), axis=1).tolist())\n",
    "        rnd_code = torch.tensor(rnd_code, dtype=torch.long)\n",
    "        rnd_code_batch += [rnd_code]\n",
    "        y_batch += [d.y]\n",
    "    return rnd_code_batch, node_batch, edge_batch, torch.cat(y_batch).unsqueeze(1)"
   ]
  },
  {
   "cell_type": "code",
   "execution_count": 13,
   "id": "ab3000ff",
   "metadata": {
    "scrolled": true
   },
   "outputs": [],
   "source": [
    "trainloader = DataLoader(train, shuffle=True, batch_size=config.batch_size, collate_fn=collate_fn)\n",
    "validloader = DataLoader(valid, shuffle=False, batch_size=config.batch_size, collate_fn=collate_fn)\n",
    "testloader = DataLoader(test, shuffle=False, batch_size=config.batch_size, collate_fn=collate_fn)"
   ]
  },
  {
   "cell_type": "code",
   "execution_count": 14,
   "id": "f5fd6e34",
   "metadata": {},
   "outputs": [],
   "source": [
    "name = \"rnd2min-10M-euler-finetuned\"\n",
    "mode = \"online\""
   ]
  },
  {
   "cell_type": "code",
   "execution_count": 15,
   "id": "93051dcc",
   "metadata": {},
   "outputs": [
    {
     "name": "stderr",
     "output_type": "stream",
     "text": [
      "ERROR:wandb.jupyter:Failed to detect the name of this notebook, you can set it manually with the WANDB_NOTEBOOK_NAME environment variable to enable code saving.\n",
      "\u001b[34m\u001b[1mwandb\u001b[0m: Currently logged in as: \u001b[33mchrisxx\u001b[0m (use `wandb login --relogin` to force relogin)\n",
      "\u001b[34m\u001b[1mwandb\u001b[0m: wandb version 0.12.2 is available!  To upgrade, please run:\n",
      "\u001b[34m\u001b[1mwandb\u001b[0m:  $ pip install wandb --upgrade\n",
      "2021-09-22 12:29:15.460486: W tensorflow/stream_executor/platform/default/dso_loader.cc:64] Could not load dynamic library 'libcudart.so.11.0'; dlerror: libcudart.so.11.0: cannot open shared object file: No such file or directory; LD_LIBRARY_PATH: :/opt/cuda/extras/CUPTI/lib64/:/opt/intel/lib:/opt/intel/mkl/lib/intel64:/opt/intel:/opt/ibm/ILOG/CPLEX_Studio1210/cplex/bin/x86-64_linux:/opt/ibm/ILOG/CPLEX_Studio1210/cplex/python/3.7/x86-64_linux:/opt/intel/clck_latest/lib:/opt/intel/daal/lib:/opt/intel/intelpython3/lib:/opt/intel/ipp/lib:/opt/intel/itac_2019/lib:/opt/intel/itac_latest/lib:/opt/intel/mkl/lib:/opt/intel/mkl_/lib:/opt/intel/mpirt/lib:/opt/intel/tbb/lib:/opt/intel/clck/2019.0/lib:/opt/intel/compilers_and_libraries_2019/linux/lib:/opt/intel/compilers_and_libraries/linux/lib:/opt/intel/itac/2019.0.018/lib:/opt/intel/itac_2019/intel64/lib:/opt/intel/itac_latest/intel64/lib:/opt/intel/parallel_studio_xe_2019.0.045/clck_2019/lib:/opt/intel/parallel_studio_xe_2019.0.045/itac_2019/lib:/opt/intel/parallel_studio_xe_2019/clck_2019/lib:/opt/intel/parallel_studio_xe_2019/itac_2019/lib:/opt/cuda/extras/CUPTI/lib64/:/opt/intel/lib:/opt/intel/mkl/lib/intel64:/opt/intel:/opt/ibm/ILOG/CPLEX_Studio1210/cplex/bin/x86-64_linux:/opt/ibm/ILOG/CPLEX_Studio1210/cplex/python/3.7/x86-64_linux:/opt/intel/clck_latest/lib:/opt/intel/daal/lib:/opt/intel/intelpython3/lib:/opt/intel/ipp/lib:/opt/intel/itac_2019/lib:/opt/intel/itac_latest/lib:/opt/intel/mkl/lib:/opt/intel/mkl_/lib:/opt/intel/mpirt/lib:/opt/intel/tbb/lib:/opt/intel/clck/2019.0/lib:/opt/intel/compilers_and_libraries_2019/linux/lib:/opt/intel/compilers_and_libraries/linux/lib:/opt/intel/itac/2019.0.018/lib:/opt/intel/itac_2019/intel64/lib:/opt/intel/itac_latest/intel64/lib:/opt/intel/parallel_studio_xe_2019.0.045/clck_2019/lib:/opt/intel/parallel_studio_xe_2019.0.045/itac_2019/lib:/opt/intel/parallel_studio_xe_2019/clck_2019/lib:/opt/intel/parallel_studio_xe_2019/itac_2019/lib\n",
      "2021-09-22 12:29:15.460508: I tensorflow/stream_executor/cuda/cudart_stub.cc:29] Ignore above cudart dlerror if you do not have a GPU set up on your machine.\n"
     ]
    },
    {
     "data": {
      "text/html": [
       "\n",
       "                Tracking run with wandb version 0.10.33<br/>\n",
       "                Syncing run <strong style=\"color:#cdcd00\">vital-frog-55</strong> to <a href=\"https://wandb.ai\" target=\"_blank\">Weights & Biases</a> <a href=\"https://docs.wandb.com/integrations/jupyter.html\" target=\"_blank\">(Documentation)</a>.<br/>\n",
       "                Project page: <a href=\"https://wandb.ai/dfstransformer/pubchem\" target=\"_blank\">https://wandb.ai/dfstransformer/pubchem</a><br/>\n",
       "                Run page: <a href=\"https://wandb.ai/dfstransformer/pubchem/runs/2g8xmlrl\" target=\"_blank\">https://wandb.ai/dfstransformer/pubchem/runs/2g8xmlrl</a><br/>\n",
       "                Run data is saved locally in <code>/home/chrisw/Documents/projects/2021/graph-transformer/notebooks/selfattn/wandb/run-20210922_122914-2g8xmlrl</code><br/><br/>\n",
       "            "
      ],
      "text/plain": [
       "<IPython.core.display.HTML object>"
      ]
     },
     "metadata": {},
     "output_type": "display_data"
    },
    {
     "name": "stderr",
     "output_type": "stream",
     "text": [
      "\u001b[34m\u001b[1mwandb\u001b[0m: Downloading large artifact rnd2min-10M-euler:latest, 95.63MB. 2 files... Done. 0:0:0\n"
     ]
    },
    {
     "data": {
      "text/html": [
       "<br/>Waiting for W&B process to finish, PID 368187<br/>Program ended successfully."
      ],
      "text/plain": [
       "<IPython.core.display.HTML object>"
      ]
     },
     "metadata": {},
     "output_type": "display_data"
    },
    {
     "data": {
      "application/vnd.jupyter.widget-view+json": {
       "model_id": "",
       "version_major": 2,
       "version_minor": 0
      },
      "text/plain": [
       "VBox(children=(Label(value=' 0.00MB of 0.00MB uploaded (0.00MB deduped)\\r'), FloatProgress(value=1.0, max=1.0)…"
      ]
     },
     "metadata": {},
     "output_type": "display_data"
    },
    {
     "data": {
      "text/html": [
       "Find user logs for this run at: <code>/home/chrisw/Documents/projects/2021/graph-transformer/notebooks/selfattn/wandb/run-20210922_122914-2g8xmlrl/logs/debug.log</code>"
      ],
      "text/plain": [
       "<IPython.core.display.HTML object>"
      ]
     },
     "metadata": {},
     "output_type": "display_data"
    },
    {
     "data": {
      "text/html": [
       "Find internal logs for this run at: <code>/home/chrisw/Documents/projects/2021/graph-transformer/notebooks/selfattn/wandb/run-20210922_122914-2g8xmlrl/logs/debug-internal.log</code>"
      ],
      "text/plain": [
       "<IPython.core.display.HTML object>"
      ]
     },
     "metadata": {},
     "output_type": "display_data"
    },
    {
     "data": {
      "text/html": [
       "Synced 5 W&B file(s), 0 media file(s), 0 artifact file(s) and 0 other file(s)"
      ],
      "text/plain": [
       "<IPython.core.display.HTML object>"
      ]
     },
     "metadata": {},
     "output_type": "display_data"
    },
    {
     "data": {
      "text/html": [
       "\n",
       "                    <br/>Synced <strong style=\"color:#cdcd00\">vital-frog-55</strong>: <a href=\"https://wandb.ai/dfstransformer/pubchem/runs/2g8xmlrl\" target=\"_blank\">https://wandb.ai/dfstransformer/pubchem/runs/2g8xmlrl</a><br/>\n",
       "                "
      ],
      "text/plain": [
       "<IPython.core.display.HTML object>"
      ]
     },
     "metadata": {},
     "output_type": "display_data"
    }
   ],
   "source": [
    "# download pretrained model\n",
    "run = wandb.init(mode=mode, \n",
    "                 project=config.pretrained_project, \n",
    "                 entity=config.pretrained_entity, \n",
    "                 job_type=\"inference\")\n",
    "model_at = run.use_artifact(config.pretrained_model + \":latest\")\n",
    "model_dir = model_at.download()\n",
    "run.finish()"
   ]
  },
  {
   "cell_type": "code",
   "execution_count": 16,
   "id": "7fe0b790",
   "metadata": {},
   "outputs": [],
   "source": [
    "with open(model_dir+\"/config.yaml\") as file:\n",
    "    mconfig = ConfigDict(yaml.load(file, Loader=yaml.FullLoader))"
   ]
  },
  {
   "cell_type": "code",
   "execution_count": 17,
   "id": "d98ca611",
   "metadata": {},
   "outputs": [],
   "source": [
    "config.model = mconfig"
   ]
  },
  {
   "cell_type": "code",
   "execution_count": 18,
   "id": "69384b8c",
   "metadata": {},
   "outputs": [
    {
     "name": "stderr",
     "output_type": "stream",
     "text": [
      "\u001b[34m\u001b[1mwandb\u001b[0m: wandb version 0.12.2 is available!  To upgrade, please run:\n",
      "\u001b[34m\u001b[1mwandb\u001b[0m:  $ pip install wandb --upgrade\n",
      "2021-09-22 12:29:22.090093: W tensorflow/stream_executor/platform/default/dso_loader.cc:64] Could not load dynamic library 'libcudart.so.11.0'; dlerror: libcudart.so.11.0: cannot open shared object file: No such file or directory; LD_LIBRARY_PATH: :/opt/cuda/extras/CUPTI/lib64/:/opt/intel/lib:/opt/intel/mkl/lib/intel64:/opt/intel:/opt/ibm/ILOG/CPLEX_Studio1210/cplex/bin/x86-64_linux:/opt/ibm/ILOG/CPLEX_Studio1210/cplex/python/3.7/x86-64_linux:/opt/intel/clck_latest/lib:/opt/intel/daal/lib:/opt/intel/intelpython3/lib:/opt/intel/ipp/lib:/opt/intel/itac_2019/lib:/opt/intel/itac_latest/lib:/opt/intel/mkl/lib:/opt/intel/mkl_/lib:/opt/intel/mpirt/lib:/opt/intel/tbb/lib:/opt/intel/clck/2019.0/lib:/opt/intel/compilers_and_libraries_2019/linux/lib:/opt/intel/compilers_and_libraries/linux/lib:/opt/intel/itac/2019.0.018/lib:/opt/intel/itac_2019/intel64/lib:/opt/intel/itac_latest/intel64/lib:/opt/intel/parallel_studio_xe_2019.0.045/clck_2019/lib:/opt/intel/parallel_studio_xe_2019.0.045/itac_2019/lib:/opt/intel/parallel_studio_xe_2019/clck_2019/lib:/opt/intel/parallel_studio_xe_2019/itac_2019/lib:/opt/cuda/extras/CUPTI/lib64/:/opt/intel/lib:/opt/intel/mkl/lib/intel64:/opt/intel:/opt/ibm/ILOG/CPLEX_Studio1210/cplex/bin/x86-64_linux:/opt/ibm/ILOG/CPLEX_Studio1210/cplex/python/3.7/x86-64_linux:/opt/intel/clck_latest/lib:/opt/intel/daal/lib:/opt/intel/intelpython3/lib:/opt/intel/ipp/lib:/opt/intel/itac_2019/lib:/opt/intel/itac_latest/lib:/opt/intel/mkl/lib:/opt/intel/mkl_/lib:/opt/intel/mpirt/lib:/opt/intel/tbb/lib:/opt/intel/clck/2019.0/lib:/opt/intel/compilers_and_libraries_2019/linux/lib:/opt/intel/compilers_and_libraries/linux/lib:/opt/intel/itac/2019.0.018/lib:/opt/intel/itac_2019/intel64/lib:/opt/intel/itac_latest/intel64/lib:/opt/intel/parallel_studio_xe_2019.0.045/clck_2019/lib:/opt/intel/parallel_studio_xe_2019.0.045/itac_2019/lib:/opt/intel/parallel_studio_xe_2019/clck_2019/lib:/opt/intel/parallel_studio_xe_2019/itac_2019/lib\n",
      "2021-09-22 12:29:22.090114: I tensorflow/stream_executor/cuda/cudart_stub.cc:29] Ignore above cudart dlerror if you do not have a GPU set up on your machine.\n"
     ]
    },
    {
     "data": {
      "text/html": [
       "\n",
       "                Tracking run with wandb version 0.10.33<br/>\n",
       "                Syncing run <strong style=\"color:#cdcd00\">rnd2min-10M-euler-finetuned</strong> to <a href=\"https://wandb.ai\" target=\"_blank\">Weights & Biases</a> <a href=\"https://docs.wandb.com/integrations/jupyter.html\" target=\"_blank\">(Documentation)</a>.<br/>\n",
       "                Project page: <a href=\"https://wandb.ai/dfstransformer/ogbg-hiv\" target=\"_blank\">https://wandb.ai/dfstransformer/ogbg-hiv</a><br/>\n",
       "                Run page: <a href=\"https://wandb.ai/dfstransformer/ogbg-hiv/runs/97b14f8j\" target=\"_blank\">https://wandb.ai/dfstransformer/ogbg-hiv/runs/97b14f8j</a><br/>\n",
       "                Run data is saved locally in <code>/home/chrisw/Documents/projects/2021/graph-transformer/notebooks/selfattn/wandb/run-20210922_122921-97b14f8j</code><br/><br/>\n",
       "            "
      ],
      "text/plain": [
       "<IPython.core.display.HTML object>"
      ]
     },
     "metadata": {},
     "output_type": "display_data"
    }
   ],
   "source": [
    "run = wandb.init(mode=mode, project=\"ogbg-hiv\", entity=\"dfstransformer\", \n",
    "                 name=name, config=config.to_dict(), job_type=\"evaluation\")"
   ]
  },
  {
   "cell_type": "code",
   "execution_count": 19,
   "id": "a8f0b8cb",
   "metadata": {},
   "outputs": [],
   "source": [
    "m = mconfig.model\n",
    "t = config"
   ]
  },
  {
   "cell_type": "code",
   "execution_count": 20,
   "id": "6a92cba2",
   "metadata": {},
   "outputs": [],
   "source": [
    "ce = nn.CrossEntropyLoss(ignore_index=-1)\n",
    "bce = nn.BCEWithLogitsLoss()    "
   ]
  },
  {
   "cell_type": "code",
   "execution_count": 21,
   "id": "a8c39aa6",
   "metadata": {},
   "outputs": [],
   "source": [
    "class TransformerPlusHead(nn.Module):\n",
    "    def __init__(self, encoder, n_encoding, n_classes, fingerprint='cls'):\n",
    "        super(TransformerPlusHead, self).__init__()\n",
    "        self.encoder = encoder\n",
    "        self.head = nn.Linear(n_encoding, n_classes)\n",
    "        self.fingerprint = fingerprint\n",
    "    \n",
    "    def forward(self, C, N, E):\n",
    "        features = self.encoder.encode(C, N, E, method=self.fingerprint)\n",
    "        output = self.head(features)\n",
    "        return output\n",
    "        "
   ]
  },
  {
   "cell_type": "code",
   "execution_count": 22,
   "id": "05afc0ad",
   "metadata": {},
   "outputs": [],
   "source": [
    "from ogb.graphproppred import Evaluator\n",
    "\n",
    "evaluator = Evaluator(name = 'ogbg-molhiv')"
   ]
  },
  {
   "cell_type": "code",
   "execution_count": 23,
   "id": "e4beee8e",
   "metadata": {},
   "outputs": [],
   "source": [
    "data = next(iter(trainloader))"
   ]
  },
  {
   "cell_type": "code",
   "execution_count": 24,
   "id": "9a4c1991",
   "metadata": {},
   "outputs": [
    {
     "data": {
      "text/plain": [
       "{'rocauc': 1.0}"
      ]
     },
     "execution_count": 24,
     "metadata": {},
     "output_type": "execute_result"
    }
   ],
   "source": [
    "evaluator.eval({'y_true':data[-1], 'y_pred':data[-1]})"
   ]
  },
  {
   "cell_type": "code",
   "execution_count": 25,
   "id": "1c1075f1",
   "metadata": {},
   "outputs": [
    {
     "name": "stdout",
     "output_type": "stream",
     "text": [
      "==== Expected input format of Evaluator for ogbg-molhiv\n",
      "{'y_true': y_true, 'y_pred': y_pred}\n",
      "- y_true: numpy ndarray or torch tensor of shape (num_graph, num_task)\n",
      "- y_pred: numpy ndarray or torch tensor of shape (num_graph, num_task)\n",
      "where y_pred stores score values (for computing AUC score),\n",
      "num_task is 1, and each row corresponds to one graph.\n",
      "nan values in y_true are ignored during evaluation.\n",
      "\n",
      "==== Expected output format of Evaluator for ogbg-molhiv\n",
      "{'rocauc': rocauc}\n",
      "- rocauc (float): ROC-AUC score averaged across 1 task(s)\n",
      "\n"
     ]
    }
   ],
   "source": [
    "print(evaluator.expected_input_format)\n",
    "print(evaluator.expected_output_format)"
   ]
  },
  {
   "cell_type": "code",
   "execution_count": 26,
   "id": "df6e9d7d",
   "metadata": {},
   "outputs": [],
   "source": [
    "def loss(pred, y, ce=bce):\n",
    "    return ce(pred, y)\n",
    "\n",
    "def acc(pred, y):\n",
    "    y_pred = (pred > 0.5).squeeze()\n",
    "    return (y_pred == y.squeeze()).sum()/len(y)\n",
    "    "
   ]
  },
  {
   "cell_type": "code",
   "execution_count": 27,
   "id": "a89213a7",
   "metadata": {},
   "outputs": [],
   "source": [
    "device = torch.device('cuda:%d'%t.gpu_id if torch.cuda.is_available()  else 'cpu')\n",
    "encoder = DFSCodeSeq2SeqFC(**m)\n",
    "    \n",
    "if t.load_last and model_dir is not None:\n",
    "    encoder.load_state_dict(torch.load(model_dir+'/checkpoint.pt', map_location=device))"
   ]
  },
  {
   "cell_type": "code",
   "execution_count": 28,
   "id": "998ec1f8",
   "metadata": {},
   "outputs": [],
   "source": [
    "model = TransformerPlusHead(encoder, m.emb_dim*5*m.n_class_tokens, 1, fingerprint=t.fingerprint)"
   ]
  },
  {
   "cell_type": "code",
   "execution_count": 29,
   "id": "a386f3b5",
   "metadata": {},
   "outputs": [],
   "source": [
    "del t.model"
   ]
  },
  {
   "cell_type": "code",
   "execution_count": 30,
   "id": "0e6e39c6",
   "metadata": {},
   "outputs": [
    {
     "data": {
      "text/plain": [
       "accumulate_grads: 2\n",
       "batch_size: 50\n",
       "clip_gradient: 0.5\n",
       "decay_factor: 0.8\n",
       "es_improvement: 0.0\n",
       "es_path: null\n",
       "es_patience: 10\n",
       "es_period: 300\n",
       "fingerprint: cls\n",
       "gpu_id: 0\n",
       "load_last: true\n",
       "lr: 3.0e-06\n",
       "lr_head: 0.003\n",
       "lr_patience: 3\n",
       "lr_pretrained: 0.0003\n",
       "minimal_lr: 6.0e-08\n",
       "n_classes: 349\n",
       "n_epochs: 25\n",
       "n_frozen: 5\n",
       "path: ../../results/ogbn_mag/timeout1/\n",
       "pretrained_class: DFSCodeSeq2SeqFC\n",
       "pretrained_dir: null\n",
       "pretrained_entity: dfstransformer\n",
       "pretrained_model: rnd2min-10M-euler\n",
       "pretrained_project: pubchem\n",
       "pretrained_yaml: null\n",
       "require_min_dfs_code: false\n",
       "seed: 123\n",
       "strict: true\n",
       "use_local_yaml: false\n",
       "weight_decay: 0.1"
      ]
     },
     "execution_count": 30,
     "metadata": {},
     "output_type": "execute_result"
    }
   ],
   "source": [
    "t"
   ]
  },
  {
   "cell_type": "code",
   "execution_count": 31,
   "id": "57f93c6d",
   "metadata": {},
   "outputs": [],
   "source": [
    "trainer = Trainer(model, trainloader, loss, validloader=validloader, metrics={'acc': acc}, wandb_run = run, **t)"
   ]
  },
  {
   "cell_type": "code",
   "execution_count": null,
   "id": "a20a1ec8",
   "metadata": {},
   "outputs": [
    {
     "name": "stderr",
     "output_type": "stream",
     "text": [
      "Epoch 1: loss 0.443213 0.9600:  45%|███████████████████████████████████████████████████████████████▉                                                                             | 299/659 [00:55<00:59,  6.02it/s]\n",
      "  0%|                                                                                                                                                                                       | 0/83 [00:00<?, ?it/s]\u001b[A\n",
      "Valid 1: loss 0.443213 1.0000:   0%|                                                                                                                                                        | 0/83 [00:00<?, ?it/s]\u001b[A\n",
      "Valid 1: loss 0.443213 0.9800:   0%|                                                                                                                                                        | 0/83 [00:00<?, ?it/s]\u001b[A\n",
      "Valid 1: loss 0.443213 0.9800:   2%|███▍                                                                                                                                            | 2/83 [00:00<00:06, 13.34it/s]\u001b[A\n",
      "Valid 1: loss 0.443213 0.9600:   2%|███▍                                                                                                                                            | 2/83 [00:00<00:06, 13.34it/s]\u001b[A\n",
      "Valid 1: loss 0.443213 0.9800:   2%|███▍                                                                                                                                            | 2/83 [00:00<00:06, 13.34it/s]\u001b[A\n",
      "Valid 1: loss 0.443213 0.9800:   5%|██████▉                                                                                                                                         | 4/83 [00:00<00:05, 14.41it/s]\u001b[A\n",
      "Valid 1: loss 0.443213 1.0000:   5%|██████▉                                                                                                                                         | 4/83 [00:00<00:05, 14.41it/s]\u001b[A\n",
      "Valid 1: loss 0.443213 0.9400:   5%|██████▉                                                                                                                                         | 4/83 [00:00<00:05, 14.41it/s]\u001b[A\n",
      "Valid 1: loss 0.443213 0.9400:   7%|██████████▍                                                                                                                                     | 6/83 [00:00<00:06, 11.23it/s]\u001b[A\n",
      "Valid 1: loss 0.443213 0.9400:   7%|██████████▍                                                                                                                                     | 6/83 [00:00<00:06, 11.23it/s]\u001b[A\n",
      "Valid 1: loss 0.443213 1.0000:   7%|██████████▍                                                                                                                                     | 6/83 [00:00<00:06, 11.23it/s]\u001b[A\n",
      "Valid 1: loss 0.443213 1.0000:  10%|█████████████▉                                                                                                                                  | 8/83 [00:00<00:06, 11.80it/s]\u001b[A\n",
      "Valid 1: loss 0.443213 0.9800:  10%|█████████████▉                                                                                                                                  | 8/83 [00:00<00:06, 11.80it/s]\u001b[A\n",
      "Valid 1: loss 0.443213 0.9600:  10%|█████████████▉                                                                                                                                  | 8/83 [00:00<00:06, 11.80it/s]\u001b[A\n",
      "Valid 1: loss 0.443213 0.9600:  12%|█████████████████▏                                                                                                                             | 10/83 [00:00<00:05, 13.39it/s]\u001b[A\n",
      "Valid 1: loss 0.443213 1.0000:  12%|█████████████████▏                                                                                                                             | 10/83 [00:00<00:05, 13.39it/s]\u001b[A\n",
      "Valid 1: loss 0.443213 0.9800:  12%|█████████████████▏                                                                                                                             | 10/83 [00:00<00:05, 13.39it/s]\u001b[A\n",
      "Valid 1: loss 0.443213 0.9800:  14%|████████████████████▋                                                                                                                          | 12/83 [00:00<00:05, 14.11it/s]\u001b[A\n",
      "Valid 1: loss 0.443213 1.0000:  14%|████████████████████▋                                                                                                                          | 12/83 [00:00<00:05, 14.11it/s]\u001b[A\n",
      "Valid 1: loss 0.443213 1.0000:  14%|████████████████████▋                                                                                                                          | 12/83 [00:01<00:05, 14.11it/s]\u001b[A\n",
      "Valid 1: loss 0.443213 1.0000:  17%|████████████████████████                                                                                                                       | 14/83 [00:01<00:05, 13.51it/s]\u001b[A\n",
      "Valid 1: loss 0.443213 1.0000:  17%|████████████████████████                                                                                                                       | 14/83 [00:01<00:05, 13.51it/s]\u001b[A\n",
      "Valid 1: loss 0.443213 1.0000:  17%|████████████████████████                                                                                                                       | 14/83 [00:01<00:05, 13.51it/s]\u001b[A\n",
      "Valid 1: loss 0.443213 1.0000:  19%|███████████████████████████▌                                                                                                                   | 16/83 [00:01<00:04, 14.21it/s]\u001b[A\n",
      "Valid 1: loss 0.443213 1.0000:  19%|███████████████████████████▌                                                                                                                   | 16/83 [00:01<00:04, 14.21it/s]\u001b[A\n",
      "Valid 1: loss 0.443213 1.0000:  19%|███████████████████████████▌                                                                                                                   | 16/83 [00:01<00:04, 14.21it/s]\u001b[A\n",
      "Valid 1: loss 0.443213 1.0000:  22%|███████████████████████████████                                                                                                                | 18/83 [00:01<00:04, 13.99it/s]\u001b[A\n",
      "Valid 1: loss 0.443213 1.0000:  22%|███████████████████████████████                                                                                                                | 18/83 [00:01<00:04, 13.99it/s]\u001b[A\n",
      "Valid 1: loss 0.443213 0.9800:  22%|███████████████████████████████                                                                                                                | 18/83 [00:01<00:04, 13.99it/s]\u001b[A\n",
      "Valid 1: loss 0.443213 0.9800:  24%|██████████████████████████████████▍                                                                                                            | 20/83 [00:01<00:04, 13.82it/s]\u001b[A\n",
      "Valid 1: loss 0.443213 1.0000:  24%|██████████████████████████████████▍                                                                                                            | 20/83 [00:01<00:04, 13.82it/s]\u001b[A\n",
      "Valid 1: loss 0.443213 1.0000:  24%|██████████████████████████████████▍                                                                                                            | 20/83 [00:01<00:04, 13.82it/s]\u001b[A\n",
      "Valid 1: loss 0.443213 1.0000:  27%|█████████████████████████████████████▉                                                                                                         | 22/83 [00:01<00:04, 13.30it/s]\u001b[A\n",
      "Valid 1: loss 0.443213 1.0000:  27%|█████████████████████████████████████▉                                                                                                         | 22/83 [00:01<00:04, 13.30it/s]\u001b[A\n",
      "Valid 1: loss 0.443213 1.0000:  27%|█████████████████████████████████████▉                                                                                                         | 22/83 [00:01<00:04, 13.30it/s]\u001b[A\n",
      "Valid 1: loss 0.443213 1.0000:  29%|█████████████████████████████████████████▎                                                                                                     | 24/83 [00:01<00:04, 13.73it/s]\u001b[A\n"
     ]
    },
    {
     "name": "stderr",
     "output_type": "stream",
     "text": [
      "Valid 1: loss 0.443213 1.0000:  29%|█████████████████████████████████████████▎                                                                                                     | 24/83 [00:01<00:04, 13.73it/s]\u001b[A\n",
      "Valid 1: loss 0.443213 1.0000:  29%|█████████████████████████████████████████▎                                                                                                     | 24/83 [00:01<00:04, 13.73it/s]\u001b[A\n",
      "Valid 1: loss 0.443213 1.0000:  31%|████████████████████████████████████████████▊                                                                                                  | 26/83 [00:01<00:04, 12.86it/s]\u001b[A\n",
      "Valid 1: loss 0.443213 0.9800:  31%|████████████████████████████████████████████▊                                                                                                  | 26/83 [00:02<00:04, 12.86it/s]\u001b[A\n",
      "Valid 1: loss 0.443213 1.0000:  31%|████████████████████████████████████████████▊                                                                                                  | 26/83 [00:02<00:04, 12.86it/s]\u001b[A\n",
      "Valid 1: loss 0.443213 1.0000:  34%|████████████████████████████████████████████████▏                                                                                              | 28/83 [00:02<00:04, 11.59it/s]\u001b[A\n",
      "Valid 1: loss 0.443213 0.9800:  34%|████████████████████████████████████████████████▏                                                                                              | 28/83 [00:02<00:04, 11.59it/s]\u001b[A\n",
      "Valid 1: loss 0.443213 1.0000:  34%|████████████████████████████████████████████████▏                                                                                              | 28/83 [00:02<00:04, 11.59it/s]\u001b[A\n",
      "Valid 1: loss 0.443213 1.0000:  36%|███████████████████████████████████████████████████▋                                                                                           | 30/83 [00:02<00:04, 11.17it/s]\u001b[A\n",
      "Valid 1: loss 0.443213 1.0000:  36%|███████████████████████████████████████████████████▋                                                                                           | 30/83 [00:02<00:04, 11.17it/s]\u001b[A\n",
      "Valid 1: loss 0.443213 1.0000:  36%|███████████████████████████████████████████████████▋                                                                                           | 30/83 [00:02<00:04, 11.17it/s]\u001b[A\n",
      "Valid 1: loss 0.443213 1.0000:  39%|███████████████████████████████████████████████████████▏                                                                                       | 32/83 [00:02<00:04, 12.41it/s]\u001b[A\n",
      "Valid 1: loss 0.443213 0.9800:  39%|███████████████████████████████████████████████████████▏                                                                                       | 32/83 [00:02<00:04, 12.41it/s]\u001b[A\n",
      "Valid 1: loss 0.443213 1.0000:  39%|███████████████████████████████████████████████████████▏                                                                                       | 32/83 [00:02<00:04, 12.41it/s]\u001b[A\n",
      "Valid 1: loss 0.443213 1.0000:  41%|██████████████████████████████████████████████████████████▌                                                                                    | 34/83 [00:02<00:03, 12.68it/s]\u001b[A\n",
      "Valid 1: loss 0.443213 1.0000:  41%|██████████████████████████████████████████████████████████▌                                                                                    | 34/83 [00:02<00:03, 12.68it/s]\u001b[A\n",
      "Valid 1: loss 0.443213 1.0000:  41%|██████████████████████████████████████████████████████████▌                                                                                    | 34/83 [00:02<00:03, 12.68it/s]\u001b[A\n",
      "Valid 1: loss 0.443213 1.0000:  43%|██████████████████████████████████████████████████████████████                                                                                 | 36/83 [00:02<00:03, 12.37it/s]\u001b[A\n",
      "Valid 1: loss 0.443213 0.9800:  43%|██████████████████████████████████████████████████████████████                                                                                 | 36/83 [00:02<00:03, 12.37it/s]\u001b[A\n",
      "Valid 1: loss 0.443213 0.9600:  43%|██████████████████████████████████████████████████████████████                                                                                 | 36/83 [00:02<00:03, 12.37it/s]\u001b[A\n",
      "Valid 1: loss 0.443213 0.9600:  46%|█████████████████████████████████████████████████████████████████▍                                                                             | 38/83 [00:02<00:03, 12.22it/s]\u001b[A\n",
      "Valid 1: loss 0.443213 0.9800:  46%|█████████████████████████████████████████████████████████████████▍                                                                             | 38/83 [00:03<00:03, 12.22it/s]\u001b[A\n",
      "Valid 1: loss 0.443213 1.0000:  46%|█████████████████████████████████████████████████████████████████▍                                                                             | 38/83 [00:03<00:03, 12.22it/s]\u001b[A\n",
      "Valid 1: loss 0.443213 1.0000:  48%|████████████████████████████████████████████████████████████████████▉                                                                          | 40/83 [00:03<00:03, 11.99it/s]\u001b[A\n",
      "Valid 1: loss 0.443213 0.9400:  48%|████████████████████████████████████████████████████████████████████▉                                                                          | 40/83 [00:03<00:03, 11.99it/s]\u001b[A\n",
      "Valid 1: loss 0.443213 0.9800:  48%|████████████████████████████████████████████████████████████████████▉                                                                          | 40/83 [00:03<00:03, 11.99it/s]\u001b[A\n",
      "Valid 1: loss 0.443213 0.9800:  51%|████████████████████████████████████████████████████████████████████████▎                                                                      | 42/83 [00:03<00:03, 12.48it/s]\u001b[A\n",
      "Valid 1: loss 0.443213 0.9800:  51%|████████████████████████████████████████████████████████████████████████▎                                                                      | 42/83 [00:03<00:03, 12.48it/s]\u001b[A\n",
      "Valid 1: loss 0.443213 1.0000:  51%|████████████████████████████████████████████████████████████████████████▎                                                                      | 42/83 [00:03<00:03, 12.48it/s]\u001b[A\n",
      "Valid 1: loss 0.443213 1.0000:  53%|███████████████████████████████████████████████████████████████████████████▊                                                                   | 44/83 [00:03<00:03, 13.00it/s]\u001b[A\n",
      "Valid 1: loss 0.443213 0.9400:  53%|███████████████████████████████████████████████████████████████████████████▊                                                                   | 44/83 [00:03<00:03, 13.00it/s]\u001b[A\n",
      "Valid 1: loss 0.443213 0.9800:  53%|███████████████████████████████████████████████████████████████████████████▊                                                                   | 44/83 [00:03<00:03, 13.00it/s]\u001b[A\n",
      "Valid 1: loss 0.443213 0.9800:  55%|███████████████████████████████████████████████████████████████████████████████▎                                                               | 46/83 [00:03<00:03, 11.90it/s]\u001b[A\n",
      "Valid 1: loss 0.443213 1.0000:  55%|███████████████████████████████████████████████████████████████████████████████▎                                                               | 46/83 [00:03<00:03, 11.90it/s]\u001b[A\n",
      "Valid 1: loss 0.443213 0.9800:  55%|███████████████████████████████████████████████████████████████████████████████▎                                                               | 46/83 [00:03<00:03, 11.90it/s]\u001b[A\n",
      "Valid 1: loss 0.443213 0.9800:  58%|██████████████████████████████████████████████████████████████████████████████████▋                                                            | 48/83 [00:03<00:02, 12.39it/s]\u001b[A\n",
      "Valid 1: loss 0.443213 0.9800:  58%|██████████████████████████████████████████████████████████████████████████████████▋                                                            | 48/83 [00:03<00:02, 12.39it/s]\u001b[A\n",
      "Valid 1: loss 0.443213 0.9000:  58%|██████████████████████████████████████████████████████████████████████████████████▋                                                            | 48/83 [00:03<00:02, 12.39it/s]\u001b[A\n"
     ]
    },
    {
     "name": "stderr",
     "output_type": "stream",
     "text": [
      "Valid 1: loss 0.443213 0.9000:  60%|██████████████████████████████████████████████████████████████████████████████████████▏                                                        | 50/83 [00:03<00:02, 12.66it/s]\u001b[A\n",
      "Valid 1: loss 0.443213 0.9600:  60%|██████████████████████████████████████████████████████████████████████████████████████▏                                                        | 50/83 [00:04<00:02, 12.66it/s]\u001b[A\n",
      "Valid 1: loss 0.443213 1.0000:  60%|██████████████████████████████████████████████████████████████████████████████████████▏                                                        | 50/83 [00:04<00:02, 12.66it/s]\u001b[A\n",
      "Valid 1: loss 0.443213 1.0000:  63%|█████████████████████████████████████████████████████████████████████████████████████████▌                                                     | 52/83 [00:04<00:02, 13.01it/s]\u001b[A\n",
      "Valid 1: loss 0.443213 0.9800:  63%|█████████████████████████████████████████████████████████████████████████████████████████▌                                                     | 52/83 [00:04<00:02, 13.01it/s]\u001b[A\n",
      "Valid 1: loss 0.443213 0.9000:  63%|█████████████████████████████████████████████████████████████████████████████████████████▌                                                     | 52/83 [00:04<00:02, 13.01it/s]\u001b[A\n",
      "Valid 1: loss 0.443213 0.9000:  65%|█████████████████████████████████████████████████████████████████████████████████████████████                                                  | 54/83 [00:04<00:02, 12.97it/s]\u001b[A\n",
      "Valid 1: loss 0.443213 0.9800:  65%|█████████████████████████████████████████████████████████████████████████████████████████████                                                  | 54/83 [00:04<00:02, 12.97it/s]\u001b[A\n",
      "Valid 1: loss 0.443213 0.8800:  65%|█████████████████████████████████████████████████████████████████████████████████████████████                                                  | 54/83 [00:04<00:02, 12.97it/s]\u001b[A\n",
      "Valid 1: loss 0.443213 0.8800:  67%|████████████████████████████████████████████████████████████████████████████████████████████████▍                                              | 56/83 [00:04<00:02, 12.76it/s]\u001b[A\n",
      "Valid 1: loss 0.443213 0.9800:  67%|████████████████████████████████████████████████████████████████████████████████████████████████▍                                              | 56/83 [00:04<00:02, 12.76it/s]\u001b[A\n",
      "Valid 1: loss 0.443213 0.9800:  67%|████████████████████████████████████████████████████████████████████████████████████████████████▍                                              | 56/83 [00:04<00:02, 12.76it/s]\u001b[A\n",
      "Valid 1: loss 0.443213 0.9800:  70%|███████████████████████████████████████████████████████████████████████████████████████████████████▉                                           | 58/83 [00:04<00:02, 12.37it/s]\u001b[A\n",
      "Valid 1: loss 0.443213 0.9800:  70%|███████████████████████████████████████████████████████████████████████████████████████████████████▉                                           | 58/83 [00:04<00:02, 12.37it/s]\u001b[A\n",
      "Valid 1: loss 0.443213 0.9200:  70%|███████████████████████████████████████████████████████████████████████████████████████████████████▉                                           | 58/83 [00:04<00:02, 12.37it/s]\u001b[A\n",
      "Valid 1: loss 0.443213 0.9200:  72%|███████████████████████████████████████████████████████████████████████████████████████████████████████▎                                       | 60/83 [00:04<00:01, 11.63it/s]\u001b[A\n",
      "Valid 1: loss 0.443213 0.9600:  72%|███████████████████████████████████████████████████████████████████████████████████████████████████████▎                                       | 60/83 [00:04<00:01, 11.63it/s]\u001b[A\n",
      "Valid 1: loss 0.443213 0.9600:  72%|███████████████████████████████████████████████████████████████████████████████████████████████████████▎                                       | 60/83 [00:04<00:01, 11.63it/s]\u001b[A\n",
      "Valid 1: loss 0.443213 0.9600:  75%|██████████████████████████████████████████████████████████████████████████████████████████████████████████▊                                    | 62/83 [00:04<00:01, 12.06it/s]\u001b[A\n",
      "Valid 1: loss 0.443213 1.0000:  75%|██████████████████████████████████████████████████████████████████████████████████████████████████████████▊                                    | 62/83 [00:04<00:01, 12.06it/s]\u001b[A\n",
      "Valid 1: loss 0.443213 0.9200:  75%|██████████████████████████████████████████████████████████████████████████████████████████████████████████▊                                    | 62/83 [00:05<00:01, 12.06it/s]\u001b[A\n",
      "Valid 1: loss 0.443213 0.9200:  77%|██████████████████████████████████████████████████████████████████████████████████████████████████████████████▎                                | 64/83 [00:05<00:01, 11.94it/s]\u001b[A\n",
      "Valid 1: loss 0.443213 0.9800:  77%|██████████████████████████████████████████████████████████████████████████████████████████████████████████████▎                                | 64/83 [00:05<00:01, 11.94it/s]\u001b[A\n",
      "Valid 1: loss 0.443213 1.0000:  77%|██████████████████████████████████████████████████████████████████████████████████████████████████████████████▎                                | 64/83 [00:05<00:01, 11.94it/s]\u001b[A\n",
      "Valid 1: loss 0.443213 1.0000:  80%|█████████████████████████████████████████████████████████████████████████████████████████████████████████████████▋                             | 66/83 [00:05<00:01, 13.14it/s]\u001b[A\n",
      "Valid 1: loss 0.443213 0.9800:  80%|█████████████████████████████████████████████████████████████████████████████████████████████████████████████████▋                             | 66/83 [00:05<00:01, 13.14it/s]\u001b[A\n",
      "Valid 1: loss 0.443213 0.9800:  80%|█████████████████████████████████████████████████████████████████████████████████████████████████████████████████▋                             | 66/83 [00:05<00:01, 13.14it/s]\u001b[A\n",
      "Valid 1: loss 0.443213 0.9800:  82%|█████████████████████████████████████████████████████████████████████████████████████████████████████████████████████▏                         | 68/83 [00:05<00:01, 13.88it/s]\u001b[A\n",
      "Valid 1: loss 0.443213 0.9800:  82%|█████████████████████████████████████████████████████████████████████████████████████████████████████████████████████▏                         | 68/83 [00:05<00:01, 13.88it/s]\u001b[A\n",
      "Valid 1: loss 0.443213 0.9800:  82%|█████████████████████████████████████████████████████████████████████████████████████████████████████████████████████▏                         | 68/83 [00:05<00:01, 13.88it/s]\u001b[A\n",
      "Valid 1: loss 0.443213 0.9800:  84%|████████████████████████████████████████████████████████████████████████████████████████████████████████████████████████▌                      | 70/83 [00:05<00:00, 14.04it/s]\u001b[A\n",
      "Valid 1: loss 0.443213 1.0000:  84%|████████████████████████████████████████████████████████████████████████████████████████████████████████████████████████▌                      | 70/83 [00:05<00:00, 14.04it/s]\u001b[A\n",
      "Valid 1: loss 0.443213 1.0000:  84%|████████████████████████████████████████████████████████████████████████████████████████████████████████████████████████▌                      | 70/83 [00:05<00:00, 14.04it/s]\u001b[A\n",
      "Valid 1: loss 0.443213 1.0000:  87%|████████████████████████████████████████████████████████████████████████████████████████████████████████████████████████████                   | 72/83 [00:05<00:00, 13.66it/s]\u001b[A\n",
      "Valid 1: loss 0.443213 1.0000:  87%|████████████████████████████████████████████████████████████████████████████████████████████████████████████████████████████                   | 72/83 [00:05<00:00, 13.66it/s]\u001b[A\n",
      "Valid 1: loss 0.443213 0.9800:  87%|████████████████████████████████████████████████████████████████████████████████████████████████████████████████████████████                   | 72/83 [00:05<00:00, 13.66it/s]\u001b[A\n",
      "Valid 1: loss 0.443213 0.9800:  89%|███████████████████████████████████████████████████████████████████████████████████████████████████████████████████████████████▍               | 74/83 [00:05<00:00, 14.15it/s]\u001b[A\n",
      "Valid 1: loss 0.443213 1.0000:  89%|███████████████████████████████████████████████████████████████████████████████████████████████████████████████████████████████▍               | 74/83 [00:05<00:00, 14.15it/s]\u001b[A\n"
     ]
    },
    {
     "name": "stderr",
     "output_type": "stream",
     "text": [
      "Valid 1: loss 0.443213 0.9400:  89%|███████████████████████████████████████████████████████████████████████████████████████████████████████████████████████████████▍               | 74/83 [00:05<00:00, 14.15it/s]\u001b[A\n",
      "Valid 1: loss 0.443213 0.9400:  92%|██████████████████████████████████████████████████████████████████████████████████████████████████████████████████████████████████▉            | 76/83 [00:05<00:00, 14.54it/s]\u001b[A\n",
      "Valid 1: loss 0.443213 0.9800:  92%|██████████████████████████████████████████████████████████████████████████████████████████████████████████████████████████████████▉            | 76/83 [00:05<00:00, 14.54it/s]\u001b[A\n",
      "Valid 1: loss 0.443213 0.9600:  92%|██████████████████████████████████████████████████████████████████████████████████████████████████████████████████████████████████▉            | 76/83 [00:05<00:00, 14.54it/s]\u001b[A\n",
      "Valid 1: loss 0.443213 0.9600:  94%|██████████████████████████████████████████████████████████████████████████████████████████████████████████████████████████████████████▍        | 78/83 [00:05<00:00, 15.18it/s]\u001b[A\n",
      "Valid 1: loss 0.443213 1.0000:  94%|██████████████████████████████████████████████████████████████████████████████████████████████████████████████████████████████████████▍        | 78/83 [00:06<00:00, 15.18it/s]\u001b[A\n",
      "Valid 1: loss 0.443213 1.0000:  94%|██████████████████████████████████████████████████████████████████████████████████████████████████████████████████████████████████████▍        | 78/83 [00:06<00:00, 15.18it/s]\u001b[A\n",
      "Valid 1: loss 0.443213 1.0000:  96%|█████████████████████████████████████████████████████████████████████████████████████████████████████████████████████████████████████████▊     | 80/83 [00:06<00:00, 15.01it/s]\u001b[A\n",
      "Valid 1: loss 0.443213 0.9800:  96%|█████████████████████████████████████████████████████████████████████████████████████████████████████████████████████████████████████████▊     | 80/83 [00:06<00:00, 15.01it/s]\u001b[A\n",
      "Valid 1: loss 0.443213 1.0000:  96%|█████████████████████████████████████████████████████████████████████████████████████████████████████████████████████████████████████████▊     | 80/83 [00:06<00:00, 15.01it/s]\u001b[A\n",
      "Valid 1: loss 0.443213 1.0000:  99%|█████████████████████████████████████████████████████████████████████████████████████████████████████████████████████████████████████████████▎ | 82/83 [00:06<00:00, 14.35it/s]\u001b[A\n",
      "Valid 1: loss 0.443213 1.0000: 100%|███████████████████████████████████████████████████████████████████████████████████████████████████████████████████████████████████████████████| 83/83 [00:06<00:00, 13.15it/s]\u001b[A\n",
      "Epoch 1: loss 0.382513 1.0000:  57%|████████████████████████████████████████████████████████████████████████████████▋                                                            | 377/659 [01:16<00:51,  5.48it/s]"
     ]
    }
   ],
   "source": [
    "trainer.fit()"
   ]
  },
  {
   "cell_type": "code",
   "execution_count": null,
   "id": "06458f6d",
   "metadata": {},
   "outputs": [],
   "source": [
    "model.load_state_dict(torch.load(trainer.es_path+'checkpoint.pt'))"
   ]
  },
  {
   "cell_type": "code",
   "execution_count": null,
   "id": "e616276b",
   "metadata": {},
   "outputs": [],
   "source": [
    "def compute_roc(model, loader):\n",
    "    with torch.no_grad():\n",
    "        preds = []\n",
    "        ys = []\n",
    "        for i, data in tqdm.tqdm(enumerate(testloader)):\n",
    "            data = [to_cuda(d, device) for d in data]\n",
    "            pred = model(*data[:-1])\n",
    "            preds += [pred.cpu()]\n",
    "            ys += [data[-1].cpu()]\n",
    "        preds = torch.cat(preds, dim=0)\n",
    "        ys = torch.cat(ys, dim=0)\n",
    "        return evaluator.eval({'y_true':ys, 'y_pred':preds})['rocauc']"
   ]
  },
  {
   "cell_type": "code",
   "execution_count": null,
   "id": "865643ae",
   "metadata": {},
   "outputs": [],
   "source": [
    "run.log({'Valid ROCAUC': compute_roc(model, validloader)})\n",
    "run.log({'Test ROCAUC': compute_roc(model, testloader)})"
   ]
  },
  {
   "cell_type": "markdown",
   "id": "fa74db80",
   "metadata": {},
   "source": [
    "#store config and model\n",
    "with open(t.es_path+'config.yaml', 'w') as f:\n",
    "    yaml.dump(config.to_dict(), f, default_flow_style=False)\n",
    "if name is not None and mode != \"offline\":\n",
    "    trained_model_artifact = wandb.Artifact(name, type=\"model\", description=\"trained selfattn model\")\n",
    "    trained_model_artifact.add_dir(t.es_path)\n",
    "    run.log_artifact(trained_model_artifact)"
   ]
  },
  {
   "cell_type": "code",
   "execution_count": null,
   "id": "816c5af5",
   "metadata": {},
   "outputs": [],
   "source": [
    "exit()"
   ]
  },
  {
   "cell_type": "code",
   "execution_count": null,
   "id": "18b8f4ce",
   "metadata": {},
   "outputs": [],
   "source": []
  }
 ],
 "metadata": {
  "kernelspec": {
   "display_name": "Python 3 (ipykernel)",
   "language": "python",
   "name": "python3"
  },
  "language_info": {
   "codemirror_mode": {
    "name": "ipython",
    "version": 3
   },
   "file_extension": ".py",
   "mimetype": "text/x-python",
   "name": "python",
   "nbconvert_exporter": "python",
   "pygments_lexer": "ipython3",
   "version": "3.8.3"
  }
 },
 "nbformat": 4,
 "nbformat_minor": 5
}
