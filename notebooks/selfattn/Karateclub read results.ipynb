{
 "cells": [
  {
   "cell_type": "code",
   "execution_count": 1,
   "id": "e0941cfa",
   "metadata": {},
   "outputs": [],
   "source": [
    "import pandas as pd\n",
    "import matplotlib as plt\n",
    "import numpy as np"
   ]
  },
  {
   "cell_type": "code",
   "execution_count": 32,
   "id": "91d7005a",
   "metadata": {},
   "outputs": [],
   "source": [
    "file = '../../results/karateclub/pretrained_gnn_reddit_incomplete.csv'\n",
    "name = file.split('/')[-1].split('.')[0]\n",
    "df = pd.read_csv(file)"
   ]
  },
  {
   "cell_type": "code",
   "execution_count": 33,
   "id": "927fe32c",
   "metadata": {},
   "outputs": [],
   "source": [
    "keys = list(df.keys())"
   ]
  },
  {
   "cell_type": "code",
   "execution_count": 34,
   "id": "89e93209",
   "metadata": {},
   "outputs": [],
   "source": [
    "relevant_keys = keys[1::3]"
   ]
  },
  {
   "cell_type": "code",
   "execution_count": 35,
   "id": "b3b18f18",
   "metadata": {},
   "outputs": [
    {
     "name": "stdout",
     "output_type": "stream",
     "text": [
      "21 ['true-jazz-170 - test_roc_auc', 'laced-monkey-110 - test_roc_auc', 'daily-firefly-121 - test_roc_auc', 'usual-capybara-118 - test_roc_auc', 'tough-shape-164 - test_roc_auc', 'logical-moon-162 - test_roc_auc', 'honest-water-107 - test_roc_auc', 'playful-moon-104 - test_roc_auc', 'lucky-field-105 - test_roc_auc', 'proud-bee-114 - test_roc_auc', 'sage-armadillo-109 - test_roc_auc', 'misty-field-113 - test_roc_auc', 'rosy-eon-119 - test_roc_auc', 'glad-brook-115 - test_roc_auc', 'curious-dream-116 - test_roc_auc', 'dashing-violet-161 - test_roc_auc', 'misty-sound-163 - test_roc_auc', 'super-sound-106 - test_roc_auc', 'eager-mountain-120 - test_roc_auc', 'breezy-bird-171 - test_roc_auc', 'crimson-breeze-173 - test_roc_auc']\n"
     ]
    }
   ],
   "source": [
    "print(len(relevant_keys), relevant_keys)"
   ]
  },
  {
   "cell_type": "code",
   "execution_count": 36,
   "id": "1a02fe4c",
   "metadata": {},
   "outputs": [
    {
     "name": "stdout",
     "output_type": "stream",
     "text": [
      "pretrained_gnn_reddit_incomplete & $83.45 \\pm 0.22$ & $83.45 \\pm 0.04$\\\\\n"
     ]
    }
   ],
   "source": [
    "rocs = []\n",
    "for key in relevant_keys:\n",
    "    rocs += df[key].to_list()\n",
    "print('%s & $%2.2f \\\\pm %2.2f$ & $%2.2f \\\\pm %2.2f$\\\\\\\\'%(name, np.mean(rocs)*100, np.std(rocs)*100, np.mean(rocs)*100, (1.96*np.std(rocs)*100)/10))"
   ]
  },
  {
   "cell_type": "markdown",
   "id": "f76a3436",
   "metadata": {},
   "source": [
    "transformer_twitch & $72.44 \\pm 0.30$ & $72.44 \\pm 0.06$ \\\\\n",
    "pretrained_transformer_twitch & $71.82 \\pm 4.43$ & $71.82 \\pm 0.87$\\\\\n",
    "gcn_twitch & $72.17 \\pm 0.33$ & $72.17 \\pm 0.06$ \\\\\n",
    "pretrained_gcn_twitch & $72.01 \\pm 0.36$ & $72.01 \\pm 0.07$\\\\\n",
    "wl_twitch & $71.89 \\pm 0.31$ & $71.89 \\pm 0.06$ \\\\\n",
    "\n",
    "transformer_reddit & $84.01 \\pm 0.17$ & $84.01 \\pm 0.03$\\\\\n",
    "pretrained_transformer_reddit & $84.12 \\pm 0.16$ & $84.12 \\pm 0.03$\\\\\n",
    "gcn_reddit & $83.83 \\pm 0.17$ & $83.83 \\pm 0.03$ \\\\\n",
    "pretrained_gcn_reddit_incomplete & $83.45 \\pm 0.22$ & $83.45 \\pm 0.04$\\\\\n",
    "wl_reddit & $83.03 \\pm 0.15$ & $83.03 \\pm 0.03$ \\\\"
   ]
  },
  {
   "cell_type": "code",
   "execution_count": 37,
   "id": "adbc2ea7",
   "metadata": {},
   "outputs": [
    {
     "data": {
      "text/plain": [
       "0.03332"
      ]
     },
     "execution_count": 37,
     "metadata": {},
     "output_type": "execute_result"
    }
   ],
   "source": [
    "(1.96*0.17)/10"
   ]
  },
  {
   "cell_type": "code",
   "execution_count": 38,
   "id": "862c2441",
   "metadata": {},
   "outputs": [
    {
     "data": {
      "text/plain": [
       "84"
      ]
     },
     "execution_count": 38,
     "metadata": {},
     "output_type": "execute_result"
    }
   ],
   "source": [
    "len(rocs)"
   ]
  },
  {
   "cell_type": "code",
   "execution_count": null,
   "id": "21cb1a66",
   "metadata": {},
   "outputs": [],
   "source": []
  }
 ],
 "metadata": {
  "kernelspec": {
   "display_name": "Python 3 (ipykernel)",
   "language": "python",
   "name": "python3"
  },
  "language_info": {
   "codemirror_mode": {
    "name": "ipython",
    "version": 3
   },
   "file_extension": ".py",
   "mimetype": "text/x-python",
   "name": "python",
   "nbconvert_exporter": "python",
   "pygments_lexer": "ipython3",
   "version": "3.8.3"
  }
 },
 "nbformat": 4,
 "nbformat_minor": 5
}
