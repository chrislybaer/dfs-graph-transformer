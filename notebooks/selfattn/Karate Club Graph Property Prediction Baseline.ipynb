{
 "cells": [
  {
   "cell_type": "code",
   "execution_count": 1,
   "id": "4f001349",
   "metadata": {},
   "outputs": [],
   "source": [
    "%load_ext autoreload\n",
    "%autoreload 2"
   ]
  },
  {
   "cell_type": "code",
   "execution_count": 2,
   "id": "96dfaad5",
   "metadata": {},
   "outputs": [
    {
     "name": "stderr",
     "output_type": "stream",
     "text": [
      "WARNING:root:No normalization for BCUT2D_MWHI\n",
      "WARNING:root:No normalization for BCUT2D_MWLOW\n",
      "WARNING:root:No normalization for BCUT2D_CHGHI\n",
      "WARNING:root:No normalization for BCUT2D_CHGLO\n",
      "WARNING:root:No normalization for BCUT2D_LOGPHI\n",
      "WARNING:root:No normalization for BCUT2D_LOGPLOW\n",
      "WARNING:root:No normalization for BCUT2D_MRHI\n",
      "WARNING:root:No normalization for BCUT2D_MRLOW\n",
      "Using backend: pytorch\n"
     ]
    }
   ],
   "source": [
    "import json\n",
    "import numpy as np\n",
    "from torch.utils.data import Dataset, DataLoader\n",
    "import glob\n",
    "import wandb\n",
    "import os\n",
    "import torch.optim as optimizers\n",
    "import pandas as pd\n",
    "from copy import deepcopy\n",
    "from ml_collections import ConfigDict \n",
    "import tqdm\n",
    "import torch.nn.functional as F\n",
    "import torch\n",
    "import torch.nn as nn\n",
    "from collections import defaultdict\n",
    "import yaml\n",
    "from sklearn.metrics import roc_auc_score\n",
    "import numpy as np\n",
    "\n",
    "import sys\n",
    "sys.path.append(\"../../src\")\n",
    "import dfs_code \n",
    "from dfs_transformer import collate_downstream, DFSCodeSeq2SeqFC, Trainer\n",
    "torch.multiprocessing.set_sharing_strategy('file_system')\n"
   ]
  },
  {
   "cell_type": "code",
   "execution_count": 3,
   "id": "1ed17efc",
   "metadata": {},
   "outputs": [],
   "source": [
    "graph_file = \"/mnt/ssd/datasets/graphs/reddit_threads/reddit_edges.json\"\n",
    "label_file = \"/mnt/ssd/datasets/graphs/reddit_threads/reddit_target.csv\"\n",
    "batch_size = 1000"
   ]
  },
  {
   "cell_type": "code",
   "execution_count": 4,
   "id": "d0fb23f3",
   "metadata": {},
   "outputs": [],
   "source": [
    "with open(graph_file, 'r') as f:\n",
    "    graph_dict = json.load(f)\n",
    "label_df = pd.read_csv(label_file)"
   ]
  },
  {
   "cell_type": "code",
   "execution_count": 5,
   "id": "6fabc13e",
   "metadata": {},
   "outputs": [
    {
     "data": {
      "text/html": [
       "<div>\n",
       "<style scoped>\n",
       "    .dataframe tbody tr th:only-of-type {\n",
       "        vertical-align: middle;\n",
       "    }\n",
       "\n",
       "    .dataframe tbody tr th {\n",
       "        vertical-align: top;\n",
       "    }\n",
       "\n",
       "    .dataframe thead th {\n",
       "        text-align: right;\n",
       "    }\n",
       "</style>\n",
       "<table border=\"1\" class=\"dataframe\">\n",
       "  <thead>\n",
       "    <tr style=\"text-align: right;\">\n",
       "      <th></th>\n",
       "      <th>id</th>\n",
       "      <th>target</th>\n",
       "    </tr>\n",
       "  </thead>\n",
       "  <tbody>\n",
       "    <tr>\n",
       "      <th>0</th>\n",
       "      <td>0</td>\n",
       "      <td>0</td>\n",
       "    </tr>\n",
       "    <tr>\n",
       "      <th>1</th>\n",
       "      <td>1</td>\n",
       "      <td>1</td>\n",
       "    </tr>\n",
       "    <tr>\n",
       "      <th>2</th>\n",
       "      <td>2</td>\n",
       "      <td>0</td>\n",
       "    </tr>\n",
       "    <tr>\n",
       "      <th>3</th>\n",
       "      <td>3</td>\n",
       "      <td>1</td>\n",
       "    </tr>\n",
       "    <tr>\n",
       "      <th>4</th>\n",
       "      <td>4</td>\n",
       "      <td>0</td>\n",
       "    </tr>\n",
       "  </tbody>\n",
       "</table>\n",
       "</div>"
      ],
      "text/plain": [
       "   id  target\n",
       "0   0       0\n",
       "1   1       1\n",
       "2   2       0\n",
       "3   3       1\n",
       "4   4       0"
      ]
     },
     "execution_count": 5,
     "metadata": {},
     "output_type": "execute_result"
    }
   ],
   "source": [
    "label_df.head()"
   ]
  },
  {
   "cell_type": "code",
   "execution_count": 23,
   "id": "e679d677",
   "metadata": {},
   "outputs": [
    {
     "data": {
      "text/plain": [
       "0.5124133380603483"
      ]
     },
     "execution_count": 23,
     "metadata": {},
     "output_type": "execute_result"
    }
   ],
   "source": [
    "label_df['target'].sum()/len(label_df)"
   ]
  },
  {
   "cell_type": "code",
   "execution_count": 6,
   "id": "ece9b3d2",
   "metadata": {},
   "outputs": [
    {
     "data": {
      "image/png": "[encoded data removed]",
      "text/plain": [
       "<Figure size 432x288 with 1 Axes>"
      ]
     },
     "metadata": {
      "needs_background": "light"
     },
     "output_type": "display_data"
    }
   ],
   "source": [
    "from matplotlib import pyplot as plt\n",
    "n_edges = [len(graph) for graph in graph_dict.values()]\n",
    "plt.hist(n_edges, bins='rice')\n",
    "plt.show()"
   ]
  },
  {
   "cell_type": "code",
   "execution_count": 7,
   "id": "af92f81c",
   "metadata": {},
   "outputs": [],
   "source": [
    "def graph2labelledgraph(graph):\n",
    "    graph = deepcopy(graph)\n",
    "    node_ids = np.unique(graph).tolist()\n",
    "    dummy = max(node_ids) + 1\n",
    "    \n",
    "    edge_labels = len(graph)*[0]\n",
    "    edgeindex = []\n",
    "    for e in graph:\n",
    "        edgeindex += [e]\n",
    "        edgeindex += [[e[1], e[0]]]\n",
    "        edge_labels += [0]\n",
    "    \n",
    "    edgeindex = np.asarray(edgeindex).T\n",
    "    \n",
    "    node_labels = []\n",
    "    for idx in node_ids:\n",
    "        node_labels += [(edgeindex[0] == idx).sum()]\n",
    "    return edgeindex, node_labels, edge_labels"
   ]
  },
  {
   "cell_type": "code",
   "execution_count": 8,
   "id": "63715928",
   "metadata": {},
   "outputs": [],
   "source": [
    "class KarateClubDataset(Dataset):\n",
    "    def __init__(self, graph_file, label_file, max_n = None, max_edges=110):\n",
    "        self.graph_file = graph_file\n",
    "        self.label_file = label_file\n",
    "        with open(graph_file, 'r') as f:\n",
    "            self.graph_dict = json.load(f)\n",
    "        self.label_df = pd.read_csv(label_file)\n",
    "        self.data = []\n",
    "        self.maxn = max_n\n",
    "        self.max_edges = max_edges\n",
    "        self.preprocess()\n",
    "    \n",
    "    def preprocess(self):\n",
    "        maxn = self.maxn\n",
    "        maxdegree = 0\n",
    "        edgeindex_list = []\n",
    "        vlabels_list = []\n",
    "        elabels_list = []\n",
    "        label_list = self.label_df['target'][:maxn]\n",
    "        for idx, (graph, label) in tqdm.tqdm(enumerate(zip(self.graph_dict.values(), self.label_df['target']))):  \n",
    "            edgeindex, vlabels, elabels = graph2labelledgraph(graph)\n",
    "            if len(elabels)//2 > self.max_edges:\n",
    "                continue\n",
    "            maxdegree = max(maxdegree, max(vlabels))\n",
    "            edgeindex_list += [edgeindex]\n",
    "            vlabels_list += [vlabels]\n",
    "            elabels_list += [elabels]\n",
    "            if maxn is not None:\n",
    "                if idx >= maxn:\n",
    "                    break\n",
    "        self.maxdegree = maxdegree\n",
    "        \n",
    "        for idx, (edgeindex, vlabels, elabels, label) in tqdm.tqdm(enumerate(zip(edgeindex_list,\n",
    "                                                                                vlabels_list,\n",
    "                                                                                elabels_list, \n",
    "                                                                                label_list))):  \n",
    "            node_features = F.one_hot(torch.tensor(vlabels), num_classes=maxdegree+1).float()\n",
    "            edge_features = F.one_hot(torch.tensor(elabels), num_classes=2).float()\n",
    "            code, index = dfs_code.rnd_dfs_code_from_edgeindex(edgeindex, vlabels, elabels)\n",
    "            self.data += [ConfigDict({\"node_labels\":torch.tensor(vlabels),\n",
    "                                    \"edge_labels\":torch.tensor(elabels),\n",
    "                                    \"edge_index\":torch.tensor(edgeindex, dtype=torch.long),\n",
    "                                    \"min_dfs_code\":torch.tensor(code),\n",
    "                                    \"min_dfs_index\":torch.tensor(index, dtype=torch.long),\n",
    "                                    \"node_features\":node_features,\n",
    "                                    \"edge_features\":edge_features,\n",
    "                                    \"y\": torch.tensor(label, dtype=torch.float32),\n",
    "                                    \"idx\":idx})]\n",
    "\n",
    "    def __len__(self):\n",
    "        return len(self.data)\n",
    "\n",
    "    def __getitem__(self, idx):\n",
    "        return self.data[idx]\n",
    "        "
   ]
  },
  {
   "cell_type": "code",
   "execution_count": 9,
   "id": "7e0af6f4",
   "metadata": {},
   "outputs": [
    {
     "name": "stderr",
     "output_type": "stream",
     "text": [
      "10000it [00:01, 5384.76it/s]\n",
      "9976it [00:04, 2132.36it/s]\n"
     ]
    }
   ],
   "source": [
    "dataset = KarateClubDataset(graph_file, label_file, max_n=10000)"
   ]
  },
  {
   "cell_type": "code",
   "execution_count": 10,
   "id": "c2e73356",
   "metadata": {},
   "outputs": [],
   "source": [
    "bins = np.arange(56)"
   ]
  },
  {
   "cell_type": "code",
   "execution_count": 11,
   "id": "d10d026b",
   "metadata": {},
   "outputs": [],
   "source": [
    "data = next(iter(dataset))"
   ]
  },
  {
   "cell_type": "code",
   "execution_count": 12,
   "id": "eb1ea321",
   "metadata": {},
   "outputs": [
    {
     "data": {
      "text/plain": [
       "array([0, 8, 2, 0, 0, 0, 0, 0, 1, 0, 0, 0, 0, 0, 0, 0, 0, 0, 0, 0, 0, 0,\n",
       "       0, 0, 0, 0, 0, 0, 0, 0, 0, 0, 0, 0, 0, 0, 0, 0, 0, 0, 0, 0, 0, 0,\n",
       "       0, 0, 0, 0, 0, 0, 0, 0, 0, 0, 0])"
      ]
     },
     "execution_count": 12,
     "metadata": {},
     "output_type": "execute_result"
    }
   ],
   "source": [
    "np.histogram(data['node_labels'], bins=bins)[0]"
   ]
  },
  {
   "cell_type": "code",
   "execution_count": 13,
   "id": "be3b997c",
   "metadata": {},
   "outputs": [],
   "source": [
    "n = len(dataset)\n",
    "n_train = int(0.8*n)\n",
    "n_valid = 0\n",
    "n_test = n - n_train - n_valid\n",
    "\n",
    "perm = np.random.permutation(len(dataset))\n",
    "train_idx = torch.tensor(perm[:n_train], dtype=torch.long)\n",
    "valid_idx = torch.tensor(perm[n_train:n_train+n_valid].tolist(), dtype=torch.long)\n",
    "test_idx = torch.tensor(perm[n_train+n_valid:].tolist(), dtype=torch.long)"
   ]
  },
  {
   "cell_type": "code",
   "execution_count": 14,
   "id": "59ab26fc",
   "metadata": {},
   "outputs": [],
   "source": [
    "ce = nn.BCEWithLogitsLoss() "
   ]
  },
  {
   "cell_type": "code",
   "execution_count": 15,
   "id": "80bd1138",
   "metadata": {},
   "outputs": [],
   "source": [
    "def collate_spectral(dlist, use_min=True):\n",
    "    hists = []\n",
    "    y_batch = []\n",
    "    \n",
    "    for d in dlist:\n",
    "        A = np.zeros(2*[len(d.node_labels)])\n",
    "        for e in d.edge_index.T:\n",
    "            A[e[0], e[1]] = 1\n",
    "        D = np.diag(d.node_labels)\n",
    "        vals, vecs = np.linalg.eigh(D - A)\n",
    "        indices = np.argsort(-np.abs(vals))[:10]\n",
    "        \n",
    "        hists += [torch.tensor(vals[indices][np.newaxis], dtype=torch.float32)]\n",
    "        y_batch += [d.y.unsqueeze(0).clone()]\n",
    "        \n",
    "    y = torch.cat(y_batch).unsqueeze(1)\n",
    "    hist = torch.cat(hists, dim=0)\n",
    "\n",
    "    return hist, y\n",
    "\n",
    "def collate_fn(dlist, use_min=True):\n",
    "    hists = []\n",
    "    y_batch = []\n",
    "    \n",
    "    for d in dlist:\n",
    "        hist_np = np.histogram(d.node_labels.clone().numpy(), bins=bins, density=True)[0][np.newaxis]\n",
    "        hists += [torch.tensor(hist_np, dtype=torch.float32)]\n",
    "        y_batch += [d.y.unsqueeze(0).clone()]\n",
    "        \n",
    "    y = torch.cat(y_batch).unsqueeze(1)\n",
    "    hist = torch.cat(hists, dim=0)\n",
    "\n",
    "    return hist, y"
   ]
  },
  {
   "cell_type": "code",
   "execution_count": 16,
   "id": "88c79ea9",
   "metadata": {},
   "outputs": [],
   "source": [
    "trainloader = DataLoader(dataset, sampler=torch.utils.data.SubsetRandomSampler(train_idx), \n",
    "                         batch_size=batch_size, collate_fn=collate_fn, num_workers=8)\n",
    "validloader = DataLoader(dataset, sampler=torch.utils.data.SubsetRandomSampler(valid_idx), \n",
    "                         batch_size=batch_size, collate_fn=collate_fn, num_workers=8)\n",
    "testloader = DataLoader(dataset, sampler=torch.utils.data.SubsetRandomSampler(test_idx), \n",
    "                        batch_size=batch_size, collate_fn=collate_fn, num_workers=8)"
   ]
  },
  {
   "cell_type": "code",
   "execution_count": 17,
   "id": "df971e39",
   "metadata": {},
   "outputs": [],
   "source": [
    "data = next(iter(trainloader))"
   ]
  },
  {
   "cell_type": "code",
   "execution_count": 18,
   "id": "ce9ed524",
   "metadata": {},
   "outputs": [],
   "source": [
    "model = nn.Sequential(nn.Linear(data[0].shape[1], 32), #mit 128 bekommen wir overfit\n",
    "                      nn.ReLU(inplace=True), \n",
    "                      nn.Linear(32, 32),\n",
    "                      nn.ReLU(inplace=True),\n",
    "                      nn.Linear(32, 1))"
   ]
  },
  {
   "cell_type": "code",
   "execution_count": 19,
   "id": "9b451e5d",
   "metadata": {},
   "outputs": [
    {
     "data": {
      "text/plain": [
       "torch.Size([1000, 55])"
      ]
     },
     "execution_count": 19,
     "metadata": {},
     "output_type": "execute_result"
    }
   ],
   "source": [
    "data[0].shape"
   ]
  },
  {
   "cell_type": "code",
   "execution_count": 20,
   "id": "2f49cb91",
   "metadata": {},
   "outputs": [],
   "source": [
    "def loss(pred, y, ce=ce):\n",
    "    return ce(pred, y.float())\n",
    "\n",
    "def auc(pred, y):\n",
    "    return roc_auc_score(y.detach().cpu().numpy(), pred[:, 0].detach().cpu().numpy())\n",
    "    "
   ]
  },
  {
   "cell_type": "code",
   "execution_count": 21,
   "id": "3804cc63",
   "metadata": {},
   "outputs": [],
   "source": [
    "trainer = Trainer(model, trainloader, loss, metrics={'auc': auc}, lr=0.003, gpu_id=None, validloader=testloader, es_period=80)"
   ]
  },
  {
   "cell_type": "code",
   "execution_count": 22,
   "id": "9817b505",
   "metadata": {},
   "outputs": [
    {
     "name": "stderr",
     "output_type": "stream",
     "text": [
      "Epoch 1: loss 0.693044 0.5119: 100%|██████████████| 8/8 [00:00<00:00, 11.00it/s]\n",
      "Epoch 2: loss 0.692656 0.5135: 100%|██████████████| 8/8 [00:00<00:00, 13.13it/s]\n",
      "Epoch 3: loss 0.692735 0.5132: 100%|██████████████| 8/8 [00:00<00:00, 12.44it/s]\n",
      "Epoch 4: loss 0.692678 0.5162: 100%|██████████████| 8/8 [00:00<00:00,  9.65it/s]\n",
      "Epoch 5: loss 0.692636 0.5189: 100%|██████████████| 8/8 [00:00<00:00, 11.95it/s]\n",
      "Epoch 6: loss 0.692625 0.5194: 100%|██████████████| 8/8 [00:00<00:00, 12.22it/s]\n",
      "Epoch 7: loss 0.692567 0.5197: 100%|██████████████| 8/8 [00:00<00:00, 12.24it/s]\n",
      "Epoch 8: loss 0.692596 0.5215: 100%|██████████████| 8/8 [00:00<00:00,  9.97it/s]\n",
      "Epoch 9: loss 0.692606 0.5217: 100%|██████████████| 8/8 [00:00<00:00, 12.51it/s]\n",
      "Epoch 10: loss 0.692505 0.5227:  12%|█▋           | 1/8 [00:00<00:03,  2.11it/s]\n",
      "  0%|                                                     | 0/2 [00:00<?, ?it/s]\u001b[A\n",
      "Valid 10: loss 0.691730 0.5354:   0%|                     | 0/2 [00:00<?, ?it/s]\u001b[A\n",
      "Valid 10: loss 0.691730 0.5354:  50%|██████▌      | 1/2 [00:00<00:00,  2.00it/s]\u001b[A\n",
      "Valid 10: loss 0.692151 0.5306: 100%|█████████████| 2/2 [00:00<00:00,  3.48it/s]\u001b[A\n",
      "Epoch 10: loss 0.692505 0.5227: 100%|█████████████| 8/8 [00:01<00:00,  6.54it/s]\n",
      "Epoch 11: loss 0.692509 0.5225: 100%|█████████████| 8/8 [00:00<00:00, 12.52it/s]\n",
      "Epoch 12: loss 0.692294 0.5233: 100%|█████████████| 8/8 [00:00<00:00, 12.12it/s]\n",
      "Epoch 13: loss 0.692294 0.5247: 100%|█████████████| 8/8 [00:00<00:00, 12.40it/s]\n",
      "Epoch 14: loss 0.692246 0.5260: 100%|█████████████| 8/8 [00:00<00:00, 11.13it/s]\n",
      "Epoch 15: loss 0.692246 0.5267: 100%|█████████████| 8/8 [00:01<00:00,  8.00it/s]\n",
      "Epoch 16: loss 0.691988 0.5280: 100%|█████████████| 8/8 [00:01<00:00,  5.85it/s]\n",
      "Epoch 17: loss 0.691955 0.5286: 100%|█████████████| 8/8 [00:00<00:00,  9.85it/s]\n",
      "Epoch 18: loss 0.691999 0.5293: 100%|█████████████| 8/8 [00:00<00:00, 10.90it/s]\n",
      "Epoch 19: loss 0.691898 0.5296: 100%|█████████████| 8/8 [00:00<00:00, 12.36it/s]\n",
      "Epoch 20: loss 0.691677 0.5318:  12%|█▋           | 1/8 [00:00<00:04,  1.63it/s]\n",
      "  0%|                                                     | 0/2 [00:00<?, ?it/s]\u001b[A\n",
      "Valid 20: loss 0.691752 0.5351:   0%|                     | 0/2 [00:00<?, ?it/s]\u001b[A\n",
      "Valid 20: loss 0.691752 0.5351:  50%|██████▌      | 1/2 [00:00<00:00,  1.98it/s]\u001b[A\n",
      "Valid 20: loss 0.691648 0.5297: 100%|█████████████| 2/2 [00:00<00:00,  3.42it/s]\u001b[A\n",
      "Epoch 20: loss 0.691677 0.5318: 100%|█████████████| 8/8 [00:01<00:00,  6.10it/s]\n",
      "Epoch 21: loss 0.691656 0.5323: 100%|█████████████| 8/8 [00:00<00:00, 10.72it/s]\n",
      "Epoch 22: loss 0.691437 0.5336: 100%|█████████████| 8/8 [00:00<00:00, 10.82it/s]\n",
      "Epoch 23: loss 0.691278 0.5349: 100%|█████████████| 8/8 [00:00<00:00,  9.76it/s]\n",
      "Epoch 24: loss 0.691165 0.5354: 100%|█████████████| 8/8 [00:00<00:00, 11.25it/s]\n",
      "Epoch 25: loss 0.690976 0.5370: 100%|█████████████| 8/8 [00:00<00:00,  9.46it/s]\n",
      "Epoch 26: loss 0.690976 0.5371: 100%|█████████████| 8/8 [00:00<00:00, 11.62it/s]\n",
      "Epoch 27: loss 0.691288 0.5376: 100%|█████████████| 8/8 [00:00<00:00, 11.68it/s]\n",
      "Epoch 28: loss 0.691005 0.5387: 100%|█████████████| 8/8 [00:00<00:00,  9.88it/s]\n",
      "Epoch 29: loss 0.690906 0.5388: 100%|█████████████| 8/8 [00:00<00:00, 11.88it/s]\n",
      "Epoch 30: loss 0.690929 0.5395:  88%|███████████▍ | 7/8 [00:00<00:00, 13.31it/s]\n",
      "  0%|                                                     | 0/2 [00:00<?, ?it/s]\u001b[A\n",
      "Valid 30: loss 0.690992 0.5339:   0%|                     | 0/2 [00:00<?, ?it/s]\u001b[A\n",
      "Valid 30: loss 0.690992 0.5339:  50%|██████▌      | 1/2 [00:00<00:00,  2.33it/s]\u001b[A\n",
      "Valid 30: loss 0.691758 0.5205: 100%|█████████████| 2/2 [00:00<00:00,  3.78it/s]\u001b[A\n",
      "Epoch 30: loss 0.690929 0.5395: 100%|█████████████| 8/8 [00:01<00:00,  6.28it/s]\n"
     ]
    },
    {
     "name": "stdout",
     "output_type": "stream",
     "text": [
      "EarlyStopping counter: 1 out of 100\n"
     ]
    },
    {
     "name": "stderr",
     "output_type": "stream",
     "text": [
      "Epoch 31: loss 0.690546 0.5393: 100%|█████████████| 8/8 [00:00<00:00, 12.12it/s]\n",
      "Epoch 32: loss 0.690573 0.5409: 100%|█████████████| 8/8 [00:00<00:00,  9.65it/s]\n",
      "Epoch 33: loss 0.690542 0.5408: 100%|█████████████| 8/8 [00:00<00:00, 11.34it/s]\n",
      "Epoch 34: loss 0.690501 0.5413: 100%|█████████████| 8/8 [00:00<00:00, 11.94it/s]\n",
      "Epoch 35: loss 0.690246 0.5421: 100%|█████████████| 8/8 [00:00<00:00, 10.21it/s]\n",
      "Epoch 36: loss 0.690367 0.5421: 100%|█████████████| 8/8 [00:00<00:00, 10.02it/s]\n",
      "Epoch 37: loss 0.690388 0.5423: 100%|█████████████| 8/8 [00:00<00:00, 10.58it/s]\n",
      "Epoch 38: loss 0.690025 0.5430: 100%|█████████████| 8/8 [00:00<00:00, 10.51it/s]\n",
      "Epoch 39: loss 0.689997 0.5437: 100%|█████████████| 8/8 [00:00<00:00,  9.46it/s]\n",
      "Epoch 40: loss 0.689911 0.5442:  12%|█▋           | 1/8 [00:00<00:04,  1.74it/s]\n",
      "  0%|                                                     | 0/2 [00:00<?, ?it/s]\u001b[A\n",
      "Valid 40: loss 0.693669 0.5025:   0%|                     | 0/2 [00:00<?, ?it/s]\u001b[A\n",
      "Valid 40: loss 0.693669 0.5025:  50%|██████▌      | 1/2 [00:00<00:00,  2.29it/s]\u001b[A\n",
      "Valid 40: loss 0.691798 0.5450: 100%|█████████████| 2/2 [00:00<00:00,  3.55it/s]\u001b[A\n",
      "Epoch 40: loss 0.689911 0.5442: 100%|█████████████| 8/8 [00:01<00:00,  6.33it/s]\n"
     ]
    },
    {
     "name": "stdout",
     "output_type": "stream",
     "text": [
      "EarlyStopping counter: 2 out of 100\n"
     ]
    },
    {
     "name": "stderr",
     "output_type": "stream",
     "text": [
      "Epoch 41: loss 0.689999 0.5444: 100%|█████████████| 8/8 [00:00<00:00,  9.58it/s]\n",
      "Epoch 42: loss 0.689878 0.5450: 100%|█████████████| 8/8 [00:00<00:00, 11.44it/s]\n",
      "Epoch 43: loss 0.690291 0.5454: 100%|█████████████| 8/8 [00:00<00:00, 11.75it/s]\n",
      "Epoch 44: loss 0.690298 0.5449: 100%|█████████████| 8/8 [00:00<00:00, 11.03it/s]\n",
      "Epoch 45: loss 0.690825 0.5461: 100%|█████████████| 8/8 [00:00<00:00, 10.22it/s]\n",
      "Epoch 46: loss 0.689916 0.5458: 100%|█████████████| 8/8 [00:00<00:00, 11.37it/s]\n",
      "Epoch 47: loss 0.690411 0.5475: 100%|█████████████| 8/8 [00:00<00:00,  9.47it/s]\n",
      "Epoch 48: loss 0.689424 0.5469: 100%|█████████████| 8/8 [00:00<00:00, 11.76it/s]\n",
      "Epoch 49: loss 0.689615 0.5473: 100%|█████████████| 8/8 [00:00<00:00, 11.94it/s]\n",
      "Epoch 50: loss 0.689435 0.5483:  12%|█▋           | 1/8 [00:00<00:05,  1.25it/s]\n",
      "  0%|                                                     | 0/2 [00:00<?, ?it/s]\u001b[A\n",
      "Valid 50: loss 0.693439 0.5135:   0%|                     | 0/2 [00:00<?, ?it/s]\u001b[A\n",
      "Valid 50: loss 0.693439 0.5135:  50%|██████▌      | 1/2 [00:00<00:00,  2.09it/s]\u001b[A\n",
      "Valid 50: loss 0.692194 0.5331: 100%|█████████████| 2/2 [00:00<00:00,  3.64it/s]\u001b[A\n",
      "Epoch 50: loss 0.689435 0.5483: 100%|█████████████| 8/8 [00:01<00:00,  5.46it/s]\n"
     ]
    },
    {
     "name": "stdout",
     "output_type": "stream",
     "text": [
      "EarlyStopping counter: 3 out of 100\n"
     ]
    },
    {
     "name": "stderr",
     "output_type": "stream",
     "text": [
      "Epoch 51: loss 0.689683 0.5479: 100%|█████████████| 8/8 [00:00<00:00,  8.99it/s]\n",
      "Epoch 52: loss 0.689240 0.5477: 100%|█████████████| 8/8 [00:01<00:00,  5.43it/s]\n",
      "Epoch 53: loss 0.689105 0.5492: 100%|█████████████| 8/8 [00:00<00:00, 10.45it/s]\n",
      "Epoch 54: loss 0.689334 0.5495: 100%|█████████████| 8/8 [00:00<00:00, 11.12it/s]\n",
      "Epoch 55: loss 0.688916 0.5497: 100%|█████████████| 8/8 [00:00<00:00, 10.98it/s]\n",
      "Epoch 56: loss 0.689368 0.5493: 100%|█████████████| 8/8 [00:00<00:00, 11.76it/s]\n",
      "Epoch 57: loss 0.689069 0.5497: 100%|█████████████| 8/8 [00:00<00:00,  9.50it/s]\n",
      "Epoch 58: loss 0.688828 0.5506: 100%|█████████████| 8/8 [00:00<00:00, 10.35it/s]\n",
      "Epoch 59: loss 0.688990 0.5506: 100%|█████████████| 8/8 [00:00<00:00,  9.41it/s]\n",
      "Epoch 60: loss 0.688830 0.5506:  12%|█▋           | 1/8 [00:00<00:05,  1.31it/s]\n",
      "  0%|                                                     | 0/2 [00:00<?, ?it/s]\u001b[A\n",
      "Valid 60: loss 0.692389 0.5240:   0%|                     | 0/2 [00:00<?, ?it/s]\u001b[A\n",
      "Valid 60: loss 0.692389 0.5240:  50%|██████▌      | 1/2 [00:00<00:00,  1.92it/s]\u001b[A\n",
      "Valid 60: loss 0.692372 0.5200: 100%|█████████████| 2/2 [00:00<00:00,  3.22it/s]\u001b[A\n",
      "Epoch 60: loss 0.688830 0.5506: 100%|█████████████| 8/8 [00:01<00:00,  5.23it/s]\n"
     ]
    },
    {
     "name": "stdout",
     "output_type": "stream",
     "text": [
      "EarlyStopping counter: 4 out of 100\n"
     ]
    },
    {
     "name": "stderr",
     "output_type": "stream",
     "text": [
      "Epoch 61: loss 0.688682 0.5514: 100%|█████████████| 8/8 [00:00<00:00, 11.41it/s]\n",
      "Epoch 62: loss 0.688498 0.5517: 100%|█████████████| 8/8 [00:00<00:00, 10.48it/s]\n",
      "Epoch 63: loss 0.688428 0.5525: 100%|█████████████| 8/8 [00:00<00:00, 10.13it/s]\n",
      "Epoch 64: loss 0.688428 0.5524: 100%|█████████████| 8/8 [00:00<00:00, 11.13it/s]\n",
      "Epoch 65: loss 0.688280 0.5524: 100%|█████████████| 8/8 [00:00<00:00, 12.13it/s]\n",
      "Epoch 66: loss 0.688183 0.5533: 100%|█████████████| 8/8 [00:00<00:00, 11.10it/s]\n",
      "Epoch 67: loss 0.688108 0.5540: 100%|█████████████| 8/8 [00:00<00:00,  9.59it/s]\n",
      "Epoch 68: loss 0.688024 0.5538: 100%|█████████████| 8/8 [00:00<00:00,  9.15it/s]\n",
      "Epoch 69: loss 0.688309 0.5539: 100%|█████████████| 8/8 [00:00<00:00,  9.43it/s]\n",
      "Epoch 70: loss 0.687881 0.5535:  38%|████▉        | 3/8 [00:00<00:01,  4.79it/s]\n",
      "  0%|                                                     | 0/2 [00:00<?, ?it/s]\u001b[A\n",
      "Valid 70: loss 0.691375 0.5226:   0%|                     | 0/2 [00:00<?, ?it/s]\u001b[A\n",
      "Valid 70: loss 0.691375 0.5226:  50%|██████▌      | 1/2 [00:00<00:00,  1.98it/s]\u001b[A\n",
      "Valid 70: loss 0.692466 0.5234: 100%|█████████████| 2/2 [00:00<00:00,  2.95it/s]\u001b[A\n",
      "Epoch 70: loss 0.687881 0.5535: 100%|█████████████| 8/8 [00:01<00:00,  5.05it/s]\n"
     ]
    },
    {
     "name": "stdout",
     "output_type": "stream",
     "text": [
      "EarlyStopping counter: 5 out of 100\n"
     ]
    },
    {
     "name": "stderr",
     "output_type": "stream",
     "text": [
      "Epoch 71: loss 0.687819 0.5538: 100%|█████████████| 8/8 [00:00<00:00, 12.33it/s]\n",
      "Epoch 72: loss 0.687744 0.5554: 100%|█████████████| 8/8 [00:00<00:00, 10.58it/s]\n",
      "Epoch 73: loss 0.687755 0.5547: 100%|█████████████| 8/8 [00:00<00:00, 11.63it/s]\n",
      "Epoch 74: loss 0.687618 0.5557: 100%|█████████████| 8/8 [00:00<00:00, 10.65it/s]\n",
      "Epoch 75: loss 0.687763 0.5560: 100%|█████████████| 8/8 [00:00<00:00, 10.71it/s]\n",
      "Epoch 76: loss 0.687539 0.5570: 100%|█████████████| 8/8 [00:00<00:00, 10.05it/s]\n",
      "Epoch 77: loss 0.687297 0.5575: 100%|█████████████| 8/8 [00:00<00:00, 11.50it/s]\n",
      "Epoch 78: loss 0.687370 0.5570: 100%|█████████████| 8/8 [00:00<00:00, 11.35it/s]\n",
      "Epoch 79: loss 0.687486 0.5579: 100%|█████████████| 8/8 [00:00<00:00, 11.22it/s]\n",
      "Epoch 80: loss 0.687478 0.5574:  62%|████████▏    | 5/8 [00:00<00:00,  9.61it/s]\n",
      "  0%|                                                     | 0/2 [00:00<?, ?it/s]\u001b[A\n",
      "Valid 80: loss 0.692505 0.5130:   0%|                     | 0/2 [00:00<?, ?it/s]\u001b[A\n",
      "Valid 80: loss 0.692505 0.5130:  50%|██████▌      | 1/2 [00:00<00:00,  1.83it/s]\u001b[A\n",
      "Valid 80: loss 0.692738 0.5290: 100%|█████████████| 2/2 [00:00<00:00,  3.16it/s]\u001b[A\n",
      "Epoch 80: loss 0.687478 0.5574: 100%|█████████████| 8/8 [00:01<00:00,  5.78it/s]\n"
     ]
    },
    {
     "name": "stdout",
     "output_type": "stream",
     "text": [
      "EarlyStopping counter: 6 out of 100\n"
     ]
    },
    {
     "name": "stderr",
     "output_type": "stream",
     "text": [
      "Epoch 81: loss 0.687463 0.5575: 100%|█████████████| 8/8 [00:00<00:00, 12.11it/s]\n",
      "Epoch 82: loss 0.687152 0.5579: 100%|█████████████| 8/8 [00:00<00:00, 11.85it/s]\n",
      "Epoch 83: loss 0.687214 0.5591: 100%|█████████████| 8/8 [00:00<00:00, 11.34it/s]\n",
      "Epoch 84: loss 0.687034 0.5594: 100%|█████████████| 8/8 [00:00<00:00, 11.63it/s]\n",
      "Epoch 85: loss 0.686874 0.5602: 100%|█████████████| 8/8 [00:00<00:00, 10.95it/s]\n",
      "Epoch 86: loss 0.686758 0.5586: 100%|█████████████| 8/8 [00:00<00:00, 10.14it/s]\n",
      "Epoch 87: loss 0.686560 0.5602: 100%|█████████████| 8/8 [00:00<00:00, 10.50it/s]\n",
      "Epoch 88: loss 0.686694 0.5597: 100%|█████████████| 8/8 [00:00<00:00, 13.29it/s]\n",
      "Epoch 89: loss 0.686917 0.5607: 100%|█████████████| 8/8 [00:00<00:00, 12.09it/s]\n",
      "Epoch 90: loss 0.687731 0.5603:  12%|█▋           | 1/8 [00:00<00:03,  1.79it/s]\n",
      "  0%|                                                     | 0/2 [00:00<?, ?it/s]\u001b[A\n",
      "Valid 90: loss 0.691589 0.5307:   0%|                     | 0/2 [00:00<?, ?it/s]\u001b[A\n",
      "Valid 90: loss 0.691589 0.5307:  50%|██████▌      | 1/2 [00:00<00:00,  2.41it/s]\u001b[A\n",
      "Valid 90: loss 0.692866 0.5112: 100%|█████████████| 2/2 [00:00<00:00,  4.07it/s]\u001b[A\n",
      "Epoch 90: loss 0.687731 0.5603: 100%|█████████████| 8/8 [00:01<00:00,  6.86it/s]\n"
     ]
    },
    {
     "name": "stdout",
     "output_type": "stream",
     "text": [
      "EarlyStopping counter: 7 out of 100\n"
     ]
    },
    {
     "name": "stderr",
     "output_type": "stream",
     "text": [
      "Epoch 91: loss 0.686824 0.5616: 100%|█████████████| 8/8 [00:00<00:00, 11.08it/s]\n",
      "Epoch 92: loss 0.686201 0.5608: 100%|█████████████| 8/8 [00:00<00:00, 11.63it/s]\n",
      "Epoch 93: loss 0.686234 0.5614: 100%|█████████████| 8/8 [00:01<00:00,  6.68it/s]\n",
      "Epoch 94: loss 0.685995 0.5626: 100%|█████████████| 8/8 [00:01<00:00,  7.09it/s]\n",
      "Epoch 95: loss 0.686239 0.5614: 100%|█████████████| 8/8 [00:00<00:00, 10.66it/s]\n",
      "Epoch 96: loss 0.685960 0.5627: 100%|█████████████| 8/8 [00:00<00:00,  9.73it/s]\n",
      "Epoch 97: loss 0.686085 0.5628: 100%|█████████████| 8/8 [00:02<00:00,  3.19it/s]\n",
      "Epoch 98: loss 0.685996 0.5626: 100%|█████████████| 8/8 [00:00<00:00, 10.97it/s]\n",
      "Epoch 99: loss 0.686453 0.5612: 100%|█████████████| 8/8 [00:00<00:00,  9.12it/s]\n",
      "Epoch 100: loss 0.686132 0.5626:  12%|█▌          | 1/8 [00:00<00:04,  1.60it/s]\n",
      "  0%|                                                     | 0/2 [00:00<?, ?it/s]\u001b[A\n",
      "Valid 100: loss 0.692386 0.5244:   0%|                    | 0/2 [00:00<?, ?it/s]\u001b[A\n",
      "Valid 100: loss 0.692386 0.5244:  50%|██████      | 1/2 [00:00<00:00,  2.12it/s]\u001b[A\n",
      "Valid 100: loss 0.693124 0.5163: 100%|████████████| 2/2 [00:00<00:00,  3.62it/s]\u001b[A\n",
      "Epoch 100: loss 0.686132 0.5626: 100%|████████████| 8/8 [00:01<00:00,  6.07it/s]\n"
     ]
    },
    {
     "name": "stdout",
     "output_type": "stream",
     "text": [
      "EarlyStopping counter: 8 out of 100\n"
     ]
    },
    {
     "name": "stderr",
     "output_type": "stream",
     "text": [
      "Epoch 101: loss 0.686234 0.5627: 100%|████████████| 8/8 [00:00<00:00, 11.71it/s]\n",
      "Epoch 102: loss 0.686175 0.5630: 100%|████████████| 8/8 [00:00<00:00, 10.40it/s]\n",
      "Epoch 103: loss 0.685938 0.5640: 100%|████████████| 8/8 [00:00<00:00, 10.41it/s]\n",
      "Epoch 104: loss 0.685511 0.5638: 100%|████████████| 8/8 [00:00<00:00, 10.02it/s]\n",
      "Epoch 105: loss 0.685312 0.5649: 100%|████████████| 8/8 [00:00<00:00, 10.30it/s]\n",
      "Epoch 106: loss 0.685806 0.5645: 100%|████████████| 8/8 [00:00<00:00,  9.53it/s]\n",
      "Epoch 107: loss 0.685503 0.5651: 100%|████████████| 8/8 [00:00<00:00, 10.62it/s]\n",
      "Epoch 108: loss 0.686097 0.5655: 100%|████████████| 8/8 [00:00<00:00, 11.80it/s]\n",
      "Epoch 109: loss 0.685453 0.5660: 100%|████████████| 8/8 [00:00<00:00, 12.45it/s]\n",
      "Epoch 110: loss 0.685414 0.5663:  75%|█████████   | 6/8 [00:00<00:00, 11.23it/s]\n",
      "  0%|                                                     | 0/2 [00:00<?, ?it/s]\u001b[A\n",
      "Valid 110: loss 0.691423 0.5319:   0%|                    | 0/2 [00:00<?, ?it/s]\u001b[A\n",
      "Valid 110: loss 0.691423 0.5319:  50%|██████      | 1/2 [00:00<00:00,  2.03it/s]\u001b[A\n",
      "Valid 110: loss 0.693048 0.5092: 100%|████████████| 2/2 [00:00<00:00,  3.52it/s]\u001b[A\n",
      "Epoch 110: loss 0.685414 0.5663: 100%|████████████| 8/8 [00:01<00:00,  6.02it/s]\n"
     ]
    },
    {
     "name": "stdout",
     "output_type": "stream",
     "text": [
      "EarlyStopping counter: 9 out of 100\n"
     ]
    },
    {
     "name": "stderr",
     "output_type": "stream",
     "text": [
      "Epoch 111: loss 0.685398 0.5659: 100%|████████████| 8/8 [00:00<00:00, 12.52it/s]\n",
      "Epoch 112: loss 0.685792 0.5665: 100%|████████████| 8/8 [00:00<00:00, 12.16it/s]\n",
      "Epoch 113: loss 0.685438 0.5669: 100%|████████████| 8/8 [00:00<00:00,  9.92it/s]\n",
      "Epoch 114: loss 0.685465 0.5661: 100%|████████████| 8/8 [00:00<00:00, 12.37it/s]\n",
      "Epoch 115: loss 0.685479 0.5664: 100%|████████████| 8/8 [00:00<00:00, 11.65it/s]\n",
      "Epoch 116: loss 0.685523 0.5681: 100%|████████████| 8/8 [00:00<00:00, 11.57it/s]\n",
      "Epoch 117: loss 0.684741 0.5669: 100%|████████████| 8/8 [00:00<00:00, 11.97it/s]\n",
      "Epoch 118: loss 0.684625 0.5668: 100%|████████████| 8/8 [00:00<00:00, 11.80it/s]\n",
      "Epoch 119: loss 0.684687 0.5680: 100%|████████████| 8/8 [00:00<00:00, 11.43it/s]\n",
      "Epoch 120: loss 0.685020 0.5677:  12%|█▌          | 1/8 [00:00<00:04,  1.59it/s]\n",
      "  0%|                                                     | 0/2 [00:00<?, ?it/s]\u001b[A\n",
      "Valid 120: loss 0.694939 0.5206:   0%|                    | 0/2 [00:00<?, ?it/s]\u001b[A\n",
      "Valid 120: loss 0.694939 0.5206:  50%|██████      | 1/2 [00:00<00:00,  2.14it/s]\u001b[A\n",
      "Valid 120: loss 0.693394 0.5202: 100%|████████████| 2/2 [00:00<00:00,  3.53it/s]\u001b[A\n",
      "Epoch 120: loss 0.685020 0.5677: 100%|████████████| 8/8 [00:01<00:00,  5.98it/s]\n"
     ]
    },
    {
     "name": "stdout",
     "output_type": "stream",
     "text": [
      "EarlyStopping counter: 10 out of 100\n"
     ]
    },
    {
     "name": "stderr",
     "output_type": "stream",
     "text": [
      "Epoch 121: loss 0.685603 0.5687: 100%|████████████| 8/8 [00:00<00:00, 11.09it/s]\n",
      "Epoch 122: loss 0.684834 0.5674: 100%|████████████| 8/8 [00:00<00:00, 11.49it/s]\n",
      "Epoch 123: loss 0.684459 0.5675: 100%|████████████| 8/8 [00:00<00:00, 11.10it/s]\n",
      "Epoch 124: loss 0.685420 0.5685: 100%|████████████| 8/8 [00:00<00:00,  9.02it/s]\n",
      "Epoch 125: loss 0.684718 0.5683: 100%|████████████| 8/8 [00:00<00:00, 11.93it/s]\n",
      "Epoch 126: loss 0.684600 0.5697: 100%|████████████| 8/8 [00:00<00:00, 10.63it/s]\n",
      "Epoch 127: loss 0.685073 0.5685: 100%|████████████| 8/8 [00:00<00:00, 11.01it/s]\n",
      "Epoch 128: loss 0.684645 0.5700: 100%|████████████| 8/8 [00:00<00:00, 10.51it/s]\n",
      "Epoch 129: loss 0.685427 0.5703: 100%|████████████| 8/8 [00:01<00:00,  7.04it/s]\n",
      "Epoch 130: loss 0.685245 0.5690:  12%|█▌          | 1/8 [00:00<00:06,  1.16it/s]\n",
      "  0%|                                                     | 0/2 [00:00<?, ?it/s]\u001b[A\n",
      "Valid 130: loss 0.691260 0.5289:   0%|                    | 0/2 [00:00<?, ?it/s]\u001b[A\n",
      "Valid 130: loss 0.691260 0.5289:  50%|██████      | 1/2 [00:00<00:00,  1.86it/s]\u001b[A\n",
      "Valid 130: loss 0.693483 0.5137: 100%|████████████| 2/2 [00:00<00:00,  2.92it/s]\u001b[A\n",
      "Epoch 130: loss 0.685245 0.5690: 100%|████████████| 8/8 [00:01<00:00,  4.67it/s]\n"
     ]
    },
    {
     "name": "stdout",
     "output_type": "stream",
     "text": [
      "EarlyStopping counter: 11 out of 100\n"
     ]
    },
    {
     "name": "stderr",
     "output_type": "stream",
     "text": [
      "Epoch 131: loss 0.684061 0.5698: 100%|████████████| 8/8 [00:00<00:00, 10.05it/s]\n",
      "Epoch 132: loss 0.684163 0.5694: 100%|████████████| 8/8 [00:00<00:00, 11.20it/s]\n",
      "Epoch 133: loss 0.684308 0.5709: 100%|████████████| 8/8 [00:00<00:00,  9.36it/s]\n",
      "Epoch 134: loss 0.683869 0.5715: 100%|████████████| 8/8 [00:00<00:00, 11.20it/s]\n",
      "Epoch 135: loss 0.683788 0.5713: 100%|████████████| 8/8 [00:00<00:00,  9.93it/s]\n",
      "Epoch 136: loss 0.683937 0.5707: 100%|████████████| 8/8 [00:00<00:00, 10.82it/s]\n",
      "Epoch 137: loss 0.683466 0.5710: 100%|████████████| 8/8 [00:00<00:00, 10.06it/s]\n",
      "Epoch 138: loss 0.683521 0.5710: 100%|████████████| 8/8 [00:00<00:00, 10.48it/s]\n",
      "Epoch 139: loss 0.683636 0.5710: 100%|████████████| 8/8 [00:00<00:00,  9.30it/s]\n",
      "Epoch 140: loss 0.683308 0.5720:  12%|█▌          | 1/8 [00:00<00:04,  1.57it/s]\n",
      "  0%|                                                     | 0/2 [00:00<?, ?it/s]\u001b[A\n",
      "Valid 140: loss 0.694719 0.5159:   0%|                    | 0/2 [00:00<?, ?it/s]\u001b[A\n",
      "Valid 140: loss 0.694719 0.5159:  50%|██████      | 1/2 [00:00<00:00,  2.17it/s]\u001b[A\n",
      "Valid 140: loss 0.694522 0.5272: 100%|████████████| 2/2 [00:00<00:00,  3.38it/s]\u001b[A\n",
      "Epoch 140: loss 0.683308 0.5720: 100%|████████████| 8/8 [00:01<00:00,  5.80it/s]\n"
     ]
    },
    {
     "name": "stdout",
     "output_type": "stream",
     "text": [
      "EarlyStopping counter: 12 out of 100\n"
     ]
    },
    {
     "name": "stderr",
     "output_type": "stream",
     "text": [
      "Epoch 141: loss 0.683790 0.5724: 100%|████████████| 8/8 [00:00<00:00,  9.26it/s]\n",
      "Epoch 142: loss 0.683779 0.5729: 100%|████████████| 8/8 [00:00<00:00,  9.57it/s]\n",
      "Epoch 143: loss 0.685143 0.5718: 100%|████████████| 8/8 [00:00<00:00, 11.18it/s]\n",
      "Epoch 144: loss 0.683925 0.5715: 100%|████████████| 8/8 [00:00<00:00, 11.52it/s]\n",
      "Epoch 145: loss 0.683731 0.5720: 100%|████████████| 8/8 [00:00<00:00, 12.34it/s]\n",
      "Epoch 146: loss 0.683562 0.5731: 100%|████████████| 8/8 [00:00<00:00, 11.45it/s]\n",
      "Epoch 147: loss 0.683645 0.5727: 100%|████████████| 8/8 [00:00<00:00, 11.92it/s]\n",
      "Epoch 148: loss 0.683639 0.5736: 100%|████████████| 8/8 [00:00<00:00, 11.20it/s]\n",
      "Epoch 149: loss 0.684687 0.5721: 100%|████████████| 8/8 [00:00<00:00, 10.44it/s]\n",
      "Epoch 150: loss 0.683167 0.5731:  12%|█▌          | 1/8 [00:00<00:03,  1.90it/s]\n",
      "  0%|                                                     | 0/2 [00:00<?, ?it/s]\u001b[A\n",
      "Valid 150: loss 0.695164 0.5170:   0%|                    | 0/2 [00:00<?, ?it/s]\u001b[A\n",
      "Valid 150: loss 0.695164 0.5170:  50%|██████      | 1/2 [00:00<00:00,  2.15it/s]\u001b[A\n",
      "Valid 150: loss 0.693961 0.5260: 100%|████████████| 2/2 [00:00<00:00,  3.49it/s]\u001b[A\n",
      "Epoch 150: loss 0.683167 0.5731: 100%|████████████| 8/8 [00:01<00:00,  6.46it/s]\n"
     ]
    },
    {
     "name": "stdout",
     "output_type": "stream",
     "text": [
      "EarlyStopping counter: 13 out of 100\n"
     ]
    },
    {
     "name": "stderr",
     "output_type": "stream",
     "text": [
      "Epoch 151: loss 0.682771 0.5741: 100%|████████████| 8/8 [00:00<00:00, 10.55it/s]\n",
      "Epoch 152: loss 0.682840 0.5734: 100%|████████████| 8/8 [00:00<00:00, 10.54it/s]\n",
      "Epoch 153: loss 0.683215 0.5722: 100%|████████████| 8/8 [00:00<00:00,  9.89it/s]\n",
      "Epoch 154: loss 0.683222 0.5742: 100%|████████████| 8/8 [00:00<00:00, 12.16it/s]\n",
      "Epoch 155: loss 0.683090 0.5747: 100%|████████████| 8/8 [00:00<00:00, 11.58it/s]\n",
      "Epoch 156: loss 0.682595 0.5758: 100%|████████████| 8/8 [00:00<00:00, 11.86it/s]\n",
      "Epoch 157: loss 0.682578 0.5737: 100%|████████████| 8/8 [00:00<00:00, 12.14it/s]\n",
      "Epoch 158: loss 0.682670 0.5747: 100%|████████████| 8/8 [00:00<00:00, 11.58it/s]\n",
      "Epoch 159: loss 0.682907 0.5735: 100%|████████████| 8/8 [00:00<00:00, 10.27it/s]\n",
      "Epoch 160: loss 0.682771 0.5744:  12%|█▌          | 1/8 [00:00<00:04,  1.46it/s]\n",
      "  0%|                                                     | 0/2 [00:00<?, ?it/s]\u001b[A\n",
      "Valid 160: loss 0.698149 0.5009:   0%|                    | 0/2 [00:00<?, ?it/s]\u001b[A\n",
      "Valid 160: loss 0.698149 0.5009:  50%|██████      | 1/2 [00:00<00:00,  2.14it/s]\u001b[A\n",
      "Valid 160: loss 0.694966 0.5398: 100%|████████████| 2/2 [00:00<00:00,  3.60it/s]\u001b[A\n",
      "Epoch 160: loss 0.682771 0.5744: 100%|████████████| 8/8 [00:01<00:00,  5.94it/s]\n"
     ]
    },
    {
     "name": "stdout",
     "output_type": "stream",
     "text": [
      "EarlyStopping counter: 14 out of 100\n"
     ]
    },
    {
     "name": "stderr",
     "output_type": "stream",
     "text": [
      "Epoch 161: loss 0.682430 0.5759: 100%|████████████| 8/8 [00:00<00:00, 12.35it/s]\n",
      "Epoch 162: loss 0.682474 0.5752: 100%|████████████| 8/8 [00:00<00:00, 12.71it/s]\n",
      "Epoch 163: loss 0.682587 0.5754: 100%|████████████| 8/8 [00:00<00:00, 13.56it/s]\n",
      "Epoch 164: loss 0.683445 0.5753: 100%|████████████| 8/8 [00:00<00:00, 13.46it/s]\n",
      "Epoch 165: loss 0.682664 0.5752: 100%|████████████| 8/8 [00:00<00:00, 12.98it/s]\n",
      "Epoch 166: loss 0.682321 0.5756: 100%|████████████| 8/8 [00:00<00:00, 10.79it/s]\n",
      "Epoch 167: loss 0.682463 0.5752: 100%|████████████| 8/8 [00:00<00:00, 12.47it/s]\n",
      "Epoch 168: loss 0.682888 0.5767: 100%|████████████| 8/8 [00:00<00:00,  8.27it/s]\n",
      "Epoch 169: loss 0.683305 0.5752: 100%|████████████| 8/8 [00:01<00:00,  6.95it/s]\n",
      "Epoch 170: loss 0.683184 0.5755:  25%|███         | 2/8 [00:00<00:02,  2.46it/s]\n",
      "  0%|                                                     | 0/2 [00:00<?, ?it/s]\u001b[A\n",
      "Valid 170: loss 0.697369 0.5180:   0%|                    | 0/2 [00:00<?, ?it/s]\u001b[A\n",
      "Valid 170: loss 0.697369 0.5180:  50%|██████      | 1/2 [00:00<00:00,  2.03it/s]\u001b[A\n",
      "Valid 170: loss 0.696017 0.5260: 100%|████████████| 2/2 [00:00<00:00,  3.40it/s]\u001b[A\n",
      "Epoch 170: loss 0.683184 0.5755: 100%|████████████| 8/8 [00:01<00:00,  4.83it/s]\n"
     ]
    },
    {
     "name": "stdout",
     "output_type": "stream",
     "text": [
      "EarlyStopping counter: 15 out of 100\n"
     ]
    },
    {
     "name": "stderr",
     "output_type": "stream",
     "text": [
      "Epoch 171: loss 0.681929 0.5755: 100%|████████████| 8/8 [00:00<00:00, 10.98it/s]\n",
      "Epoch 172: loss 0.681928 0.5773: 100%|████████████| 8/8 [00:00<00:00, 11.49it/s]\n",
      "Epoch 173: loss 0.682501 0.5765: 100%|████████████| 8/8 [00:00<00:00, 10.82it/s]\n",
      "Epoch 174: loss 0.682185 0.5780: 100%|████████████| 8/8 [00:00<00:00, 12.23it/s]\n",
      "Epoch 175: loss 0.684238 0.5763: 100%|████████████| 8/8 [00:00<00:00, 11.66it/s]\n",
      "Epoch 176: loss 0.683823 0.5765: 100%|████████████| 8/8 [00:00<00:00,  9.20it/s]\n",
      "Epoch 177: loss 0.683456 0.5751: 100%|████████████| 8/8 [00:00<00:00,  9.94it/s]\n",
      "Epoch 178: loss 0.682073 0.5777: 100%|████████████| 8/8 [00:00<00:00, 11.49it/s]\n",
      "Epoch 179: loss 0.682818 0.5777: 100%|████████████| 8/8 [00:00<00:00, 11.33it/s]\n",
      "Epoch 180: loss 0.682399 0.5779:  12%|█▌          | 1/8 [00:00<00:04,  1.57it/s]\n",
      "  0%|                                                     | 0/2 [00:00<?, ?it/s]\u001b[A\n",
      "Valid 180: loss 0.696767 0.5192:   0%|                    | 0/2 [00:00<?, ?it/s]\u001b[A\n",
      "Valid 180: loss 0.696767 0.5192:  50%|██████      | 1/2 [00:00<00:00,  2.00it/s]\u001b[A\n",
      "Valid 180: loss 0.695915 0.5209: 100%|████████████| 2/2 [00:00<00:00,  3.39it/s]\u001b[A\n",
      "Epoch 180: loss 0.682399 0.5779: 100%|████████████| 8/8 [00:01<00:00,  5.78it/s]\n"
     ]
    },
    {
     "name": "stdout",
     "output_type": "stream",
     "text": [
      "EarlyStopping counter: 16 out of 100\n"
     ]
    },
    {
     "name": "stderr",
     "output_type": "stream",
     "text": [
      "Epoch 181: loss 0.681564 0.5780: 100%|████████████| 8/8 [00:00<00:00, 11.52it/s]\n",
      "Epoch 182: loss 0.682258 0.5774: 100%|████████████| 8/8 [00:00<00:00, 11.56it/s]\n",
      "Epoch 183: loss 0.681971 0.5777: 100%|████████████| 8/8 [00:00<00:00, 10.07it/s]\n",
      "Epoch 184: loss 0.681310 0.5780: 100%|████████████| 8/8 [00:00<00:00,  9.83it/s]\n",
      "Epoch 185: loss 0.681446 0.5785: 100%|████████████| 8/8 [00:00<00:00, 12.32it/s]\n",
      "Epoch 186: loss 0.681294 0.5786: 100%|████████████| 8/8 [00:00<00:00, 10.97it/s]\n",
      "Epoch 187: loss 0.681448 0.5777: 100%|████████████| 8/8 [00:00<00:00, 10.56it/s]\n",
      "Epoch 188: loss 0.681178 0.5786: 100%|████████████| 8/8 [00:00<00:00,  9.55it/s]\n",
      "Epoch 189: loss 0.681339 0.5774: 100%|████████████| 8/8 [00:00<00:00, 11.59it/s]\n",
      "Epoch 190: loss 0.681829 0.5785:  12%|█▌          | 1/8 [00:00<00:04,  1.71it/s]\n",
      "  0%|                                                     | 0/2 [00:00<?, ?it/s]\u001b[A\n",
      "Valid 190: loss 0.706750 0.5116:   0%|                    | 0/2 [00:00<?, ?it/s]\u001b[A\n",
      "Valid 190: loss 0.706750 0.5116:  50%|██████      | 1/2 [00:00<00:00,  1.95it/s]\u001b[A\n",
      "Valid 190: loss 0.698937 0.5316: 100%|████████████| 2/2 [00:00<00:00,  3.17it/s]\u001b[A\n",
      "Epoch 190: loss 0.681829 0.5785: 100%|████████████| 8/8 [00:01<00:00,  5.81it/s]\n"
     ]
    },
    {
     "name": "stdout",
     "output_type": "stream",
     "text": [
      "EarlyStopping counter: 17 out of 100\n"
     ]
    },
    {
     "name": "stderr",
     "output_type": "stream",
     "text": [
      "Epoch 191: loss 0.682610 0.5778: 100%|████████████| 8/8 [00:00<00:00, 10.78it/s]\n",
      "Epoch 192: loss 0.682024 0.5787: 100%|████████████| 8/8 [00:00<00:00, 10.58it/s]\n",
      "Epoch 193: loss 0.682985 0.5783: 100%|████████████| 8/8 [00:00<00:00, 11.57it/s]\n",
      "Epoch 194: loss 0.680917 0.5798: 100%|████████████| 8/8 [00:00<00:00, 11.78it/s]\n",
      "Epoch 195: loss 0.681021 0.5792: 100%|████████████| 8/8 [00:00<00:00,  8.30it/s]\n",
      "Epoch 196: loss 0.681129 0.5788: 100%|████████████| 8/8 [00:00<00:00,  9.50it/s]\n",
      "Epoch 197: loss 0.680899 0.5797: 100%|████████████| 8/8 [00:00<00:00, 10.20it/s]\n",
      "Epoch 198: loss 0.680842 0.5797: 100%|████████████| 8/8 [00:00<00:00, 10.81it/s]\n",
      "Epoch 199: loss 0.681279 0.5795: 100%|████████████| 8/8 [00:00<00:00, 11.34it/s]\n",
      "Epoch 200: loss 0.680869 0.5794:  12%|█▌          | 1/8 [00:00<00:04,  1.62it/s]\n",
      "  0%|                                                     | 0/2 [00:00<?, ?it/s]\u001b[A\n",
      "Valid 200: loss 0.705217 0.5075:   0%|                    | 0/2 [00:00<?, ?it/s]\u001b[A\n",
      "Valid 200: loss 0.705217 0.5075:  50%|██████      | 1/2 [00:00<00:00,  2.25it/s]\u001b[A\n",
      "Valid 200: loss 0.696918 0.5335: 100%|████████████| 2/2 [00:00<00:00,  3.84it/s]\u001b[A\n",
      "Epoch 200: loss 0.680869 0.5794: 100%|████████████| 8/8 [00:01<00:00,  6.41it/s]\n"
     ]
    },
    {
     "name": "stdout",
     "output_type": "stream",
     "text": [
      "EarlyStopping counter: 18 out of 100\n"
     ]
    },
    {
     "name": "stderr",
     "output_type": "stream",
     "text": [
      "Epoch 201: loss 0.681234 0.5796: 100%|████████████| 8/8 [00:00<00:00, 10.99it/s]\n",
      "Epoch 202: loss 0.683318 0.5796: 100%|████████████| 8/8 [00:00<00:00, 12.59it/s]\n",
      "Epoch 203: loss 0.681839 0.5789: 100%|████████████| 8/8 [00:00<00:00, 12.92it/s]\n",
      "Epoch 204: loss 0.681771 0.5800: 100%|████████████| 8/8 [00:00<00:00, 11.40it/s]\n",
      "Epoch 205: loss 0.681164 0.5808: 100%|████████████| 8/8 [00:00<00:00, 11.49it/s]\n",
      "Epoch 206: loss 0.680925 0.5816: 100%|████████████| 8/8 [00:00<00:00, 11.37it/s]\n",
      "Epoch 207: loss 0.680562 0.5813: 100%|████████████| 8/8 [00:01<00:00,  7.34it/s]\n",
      "Epoch 208: loss 0.680981 0.5809: 100%|████████████| 8/8 [00:01<00:00,  6.07it/s]\n",
      "Epoch 209: loss 0.680813 0.5803: 100%|████████████| 8/8 [00:00<00:00,  9.65it/s]\n",
      "Epoch 210: loss 0.680666 0.5809:  12%|█▌          | 1/8 [00:00<00:03,  1.81it/s]\n",
      "  0%|                                                     | 0/2 [00:00<?, ?it/s]\u001b[A\n",
      "Valid 210: loss 0.698555 0.5209:   0%|                    | 0/2 [00:00<?, ?it/s]\u001b[A\n",
      "Valid 210: loss 0.698555 0.5209:  50%|██████      | 1/2 [00:00<00:00,  1.83it/s]\u001b[A\n",
      "Valid 210: loss 0.697092 0.5179: 100%|████████████| 2/2 [00:00<00:00,  2.90it/s]\u001b[A\n",
      "Epoch 210: loss 0.680666 0.5809: 100%|████████████| 8/8 [00:01<00:00,  5.57it/s]\n"
     ]
    },
    {
     "name": "stdout",
     "output_type": "stream",
     "text": [
      "EarlyStopping counter: 19 out of 100\n"
     ]
    },
    {
     "name": "stderr",
     "output_type": "stream",
     "text": [
      "Epoch 211: loss 0.680667 0.5803: 100%|████████████| 8/8 [00:00<00:00, 10.20it/s]\n",
      "Epoch 212: loss 0.680540 0.5800: 100%|████████████| 8/8 [00:00<00:00, 11.00it/s]\n",
      "Epoch 213: loss 0.680944 0.5791: 100%|████████████| 8/8 [00:00<00:00, 12.25it/s]\n",
      "Epoch 214: loss 0.680254 0.5819: 100%|████████████| 8/8 [00:02<00:00,  3.07it/s]\n",
      "Epoch 215: loss 0.680112 0.5814: 100%|████████████| 8/8 [00:00<00:00,  9.53it/s]\n",
      "Epoch 216: loss 0.680696 0.5822: 100%|████████████| 8/8 [00:00<00:00, 10.91it/s]\n",
      "Epoch 217: loss 0.680525 0.5808: 100%|████████████| 8/8 [00:00<00:00, 10.34it/s]\n",
      "Epoch 218: loss 0.680619 0.5815: 100%|████████████| 8/8 [00:00<00:00, 10.69it/s]\n",
      "Epoch 219: loss 0.680259 0.5822: 100%|████████████| 8/8 [00:00<00:00,  9.20it/s]\n",
      "Epoch 220: loss 0.679974 0.5820:  25%|███         | 2/8 [00:00<00:01,  3.55it/s]\n",
      "  0%|                                                     | 0/2 [00:00<?, ?it/s]\u001b[A\n",
      "Valid 220: loss 0.701402 0.5013:   0%|                    | 0/2 [00:00<?, ?it/s]\u001b[A\n",
      "Valid 220: loss 0.701402 0.5013:  50%|██████      | 1/2 [00:00<00:00,  2.36it/s]\u001b[A\n",
      "Valid 220: loss 0.697969 0.5367: 100%|████████████| 2/2 [00:00<00:00,  3.92it/s]\u001b[A\n",
      "Epoch 220: loss 0.679974 0.5820: 100%|████████████| 8/8 [00:01<00:00,  6.26it/s]\n"
     ]
    },
    {
     "name": "stdout",
     "output_type": "stream",
     "text": [
      "EarlyStopping counter: 20 out of 100\n"
     ]
    },
    {
     "name": "stderr",
     "output_type": "stream",
     "text": [
      "Epoch 221: loss 0.679887 0.5820: 100%|████████████| 8/8 [00:00<00:00,  9.39it/s]\n",
      "Epoch 222: loss 0.680218 0.5825: 100%|████████████| 8/8 [00:00<00:00, 10.50it/s]\n",
      "Epoch 223: loss 0.679745 0.5826: 100%|████████████| 8/8 [00:00<00:00,  9.00it/s]\n",
      "Epoch 224: loss 0.680395 0.5819: 100%|████████████| 8/8 [00:00<00:00, 10.44it/s]\n",
      "Epoch 225: loss 0.680116 0.5828: 100%|████████████| 8/8 [00:00<00:00, 10.87it/s]\n",
      "Epoch 226: loss 0.680168 0.5834: 100%|████████████| 8/8 [00:00<00:00, 10.65it/s]\n",
      "Epoch 227: loss 0.680377 0.5829: 100%|████████████| 8/8 [00:00<00:00,  9.88it/s]\n",
      "Epoch 228: loss 0.680849 0.5819: 100%|████████████| 8/8 [00:00<00:00, 10.46it/s]\n",
      "Epoch 229: loss 0.680049 0.5813: 100%|████████████| 8/8 [00:00<00:00,  9.88it/s]\n",
      "Epoch 230: loss 0.679681 0.5824:  12%|█▌          | 1/8 [00:00<00:04,  1.59it/s]\n",
      "  0%|                                                     | 0/2 [00:00<?, ?it/s]\u001b[A\n",
      "Valid 230: loss 0.699559 0.5162:   0%|                    | 0/2 [00:00<?, ?it/s]\u001b[A\n",
      "Valid 230: loss 0.699559 0.5162:  50%|██████      | 1/2 [00:00<00:00,  2.02it/s]\u001b[A\n",
      "Valid 230: loss 0.697741 0.5190: 100%|████████████| 2/2 [00:00<00:00,  3.33it/s]\u001b[A\n",
      "Epoch 230: loss 0.679681 0.5824: 100%|████████████| 8/8 [00:01<00:00,  5.86it/s]\n"
     ]
    },
    {
     "name": "stdout",
     "output_type": "stream",
     "text": [
      "EarlyStopping counter: 21 out of 100\n"
     ]
    },
    {
     "name": "stderr",
     "output_type": "stream",
     "text": [
      "Epoch 231: loss 0.679658 0.5838: 100%|████████████| 8/8 [00:00<00:00, 10.72it/s]\n",
      "Epoch 232: loss 0.679779 0.5842: 100%|████████████| 8/8 [00:00<00:00, 11.31it/s]\n",
      "Epoch 233: loss 0.679789 0.5838: 100%|████████████| 8/8 [00:00<00:00, 11.78it/s]\n",
      "Epoch 234: loss 0.679576 0.5828: 100%|████████████| 8/8 [00:00<00:00, 11.35it/s]\n",
      "Epoch 235: loss 0.679554 0.5841: 100%|████████████| 8/8 [00:00<00:00, 10.85it/s]\n",
      "Epoch 236: loss 0.680120 0.5836: 100%|████████████| 8/8 [00:00<00:00, 12.52it/s]\n",
      "Epoch 237: loss 0.679466 0.5849: 100%|████████████| 8/8 [00:00<00:00, 12.52it/s]\n",
      "Epoch 238: loss 0.679919 0.5839: 100%|████████████| 8/8 [00:00<00:00,  9.65it/s]\n",
      "Epoch 239: loss 0.679178 0.5856: 100%|████████████| 8/8 [00:00<00:00, 13.00it/s]\n",
      "Epoch 240: loss 0.679179 0.5838:  12%|█▌          | 1/8 [00:00<00:03,  1.79it/s]\n",
      "  0%|                                                     | 0/2 [00:00<?, ?it/s]\u001b[A\n",
      "Valid 240: loss 0.700236 0.5196:   0%|                    | 0/2 [00:00<?, ?it/s]\u001b[A\n",
      "Valid 240: loss 0.700236 0.5196:  50%|██████      | 1/2 [00:00<00:00,  2.23it/s]\u001b[A\n",
      "Valid 240: loss 0.698562 0.5163: 100%|████████████| 2/2 [00:00<00:00,  3.71it/s]\u001b[A\n",
      "Epoch 240: loss 0.679179 0.5838: 100%|████████████| 8/8 [00:01<00:00,  6.25it/s]\n"
     ]
    },
    {
     "name": "stdout",
     "output_type": "stream",
     "text": [
      "EarlyStopping counter: 22 out of 100\n"
     ]
    },
    {
     "name": "stderr",
     "output_type": "stream",
     "text": [
      "Epoch 241: loss 0.679308 0.5838: 100%|████████████| 8/8 [00:00<00:00, 11.70it/s]\n",
      "Epoch 242: loss 0.679234 0.5850: 100%|████████████| 8/8 [00:01<00:00,  5.27it/s]\n",
      "Epoch 243: loss 0.679076 0.5849: 100%|████████████| 8/8 [00:00<00:00,  8.08it/s]\n",
      "Epoch 244: loss 0.679246 0.5832: 100%|████████████| 8/8 [00:00<00:00, 11.21it/s]\n",
      "Epoch 245: loss 0.678845 0.5857: 100%|████████████| 8/8 [00:00<00:00, 10.56it/s]\n",
      "Epoch 246: loss 0.678866 0.5858: 100%|████████████| 8/8 [00:00<00:00,  9.67it/s]\n",
      "Epoch 247: loss 0.678877 0.5859: 100%|████████████| 8/8 [00:00<00:00,  9.94it/s]\n",
      "Epoch 248: loss 0.678872 0.5847: 100%|████████████| 8/8 [00:00<00:00, 10.31it/s]\n",
      "Epoch 249: loss 0.678501 0.5857: 100%|████████████| 8/8 [00:00<00:00, 12.00it/s]\n",
      "Epoch 250: loss 0.680637 0.5883:  12%|█▌          | 1/8 [00:00<00:04,  1.70it/s]\n",
      "  0%|                                                     | 0/2 [00:00<?, ?it/s]\u001b[A\n",
      "Valid 250: loss 0.695883 0.5261:   0%|                    | 0/2 [00:00<?, ?it/s]\u001b[A\n",
      "Valid 250: loss 0.695883 0.5261:  50%|██████      | 1/2 [00:00<00:00,  2.03it/s]\u001b[A\n",
      "Valid 250: loss 0.698897 0.5080: 100%|████████████| 2/2 [00:00<00:00,  3.35it/s]\u001b[A\n",
      "Epoch 250: loss 0.680637 0.5883: 100%|████████████| 8/8 [00:01<00:00,  6.20it/s]\n"
     ]
    },
    {
     "name": "stdout",
     "output_type": "stream",
     "text": [
      "EarlyStopping counter: 23 out of 100\n"
     ]
    },
    {
     "name": "stderr",
     "output_type": "stream",
     "text": [
      "Epoch 251: loss 0.678614 0.5863: 100%|████████████| 8/8 [00:00<00:00, 10.78it/s]\n",
      "Epoch 252: loss 0.679997 0.5881: 100%|████████████| 8/8 [00:00<00:00, 11.83it/s]\n",
      "Epoch 253: loss 0.679275 0.5862: 100%|████████████| 8/8 [00:00<00:00, 12.28it/s]\n",
      "Epoch 254: loss 0.679810 0.5882: 100%|████████████| 8/8 [00:00<00:00,  9.76it/s]\n",
      "Epoch 255: loss 0.679864 0.5867: 100%|████████████| 8/8 [00:00<00:00, 10.73it/s]\n",
      "Epoch 256: loss 0.678862 0.5891: 100%|████████████| 8/8 [00:00<00:00, 11.12it/s]\n",
      "Epoch 257: loss 0.678317 0.5878: 100%|████████████| 8/8 [00:00<00:00,  9.63it/s]\n",
      "Epoch 258: loss 0.678196 0.5876: 100%|████████████| 8/8 [00:00<00:00, 10.66it/s]\n",
      "Epoch 259: loss 0.678235 0.5878: 100%|████████████| 8/8 [00:00<00:00, 11.17it/s]\n",
      "Epoch 260: loss 0.677813 0.5896:  38%|████▌       | 3/8 [00:00<00:01,  5.00it/s]\n",
      "  0%|                                                     | 0/2 [00:00<?, ?it/s]\u001b[A\n",
      "Valid 260: loss 0.702023 0.5142:   0%|                    | 0/2 [00:00<?, ?it/s]\u001b[A\n",
      "Valid 260: loss 0.702023 0.5142:  50%|██████      | 1/2 [00:00<00:00,  1.97it/s]\u001b[A\n",
      "Valid 260: loss 0.699237 0.5169: 100%|████████████| 2/2 [00:00<00:00,  3.42it/s]\u001b[A\n",
      "Epoch 260: loss 0.677813 0.5896: 100%|████████████| 8/8 [00:01<00:00,  5.63it/s]\n"
     ]
    },
    {
     "name": "stdout",
     "output_type": "stream",
     "text": [
      "EarlyStopping counter: 24 out of 100\n"
     ]
    },
    {
     "name": "stderr",
     "output_type": "stream",
     "text": [
      "Epoch 261: loss 0.677963 0.5882: 100%|████████████| 8/8 [00:00<00:00, 11.90it/s]\n",
      "Epoch 262: loss 0.677411 0.5905: 100%|████████████| 8/8 [00:00<00:00, 10.60it/s]\n",
      "Epoch 263: loss 0.678108 0.5890: 100%|████████████| 8/8 [00:00<00:00, 12.63it/s]\n",
      "Epoch 264: loss 0.677828 0.5901: 100%|████████████| 8/8 [00:00<00:00, 11.33it/s]\n",
      "Epoch 265: loss 0.677763 0.5912: 100%|████████████| 8/8 [00:00<00:00, 11.76it/s]\n",
      "Epoch 266: loss 0.678428 0.5903: 100%|████████████| 8/8 [00:00<00:00, 11.59it/s]\n",
      "Epoch 267: loss 0.679657 0.5890: 100%|████████████| 8/8 [00:00<00:00, 10.90it/s]\n",
      "Epoch 268: loss 0.677497 0.5916: 100%|████████████| 8/8 [00:00<00:00, 10.12it/s]\n",
      "Epoch 269: loss 0.677870 0.5915: 100%|████████████| 8/8 [00:00<00:00, 10.79it/s]\n",
      "Epoch 270: loss 0.677685 0.5901:  12%|█▌          | 1/8 [00:00<00:04,  1.66it/s]\n",
      "  0%|                                                     | 0/2 [00:00<?, ?it/s]\u001b[A\n",
      "Valid 270: loss 0.698591 0.5220:   0%|                    | 0/2 [00:00<?, ?it/s]\u001b[A\n",
      "Valid 270: loss 0.698591 0.5220:  50%|██████      | 1/2 [00:00<00:00,  2.04it/s]\u001b[A\n",
      "Valid 270: loss 0.700416 0.5090: 100%|████████████| 2/2 [00:00<00:00,  3.49it/s]\u001b[A\n",
      "Epoch 270: loss 0.677685 0.5901: 100%|████████████| 8/8 [00:01<00:00,  5.89it/s]\n"
     ]
    },
    {
     "name": "stdout",
     "output_type": "stream",
     "text": [
      "EarlyStopping counter: 25 out of 100\n"
     ]
    },
    {
     "name": "stderr",
     "output_type": "stream",
     "text": [
      "Epoch 271: loss 0.677154 0.5913: 100%|████████████| 8/8 [00:00<00:00, 10.35it/s]\n",
      "Epoch 272: loss 0.677260 0.5924: 100%|████████████| 8/8 [00:00<00:00, 11.15it/s]\n",
      "Epoch 273: loss 0.678153 0.5919: 100%|████████████| 8/8 [00:00<00:00, 10.79it/s]\n",
      "Epoch 274: loss 0.678470 0.5921: 100%|████████████| 8/8 [00:00<00:00, 10.80it/s]\n",
      "Epoch 275: loss 0.678077 0.5936: 100%|████████████| 8/8 [00:00<00:00, 11.43it/s]\n",
      "Epoch 276: loss 0.679074 0.5909: 100%|████████████| 8/8 [00:00<00:00, 10.44it/s]\n",
      "Epoch 277: loss 0.676925 0.5939: 100%|████████████| 8/8 [00:00<00:00, 12.20it/s]\n",
      "Epoch 278: loss 0.676922 0.5924: 100%|████████████| 8/8 [00:00<00:00, 11.20it/s]\n",
      "Epoch 279: loss 0.676981 0.5935: 100%|████████████| 8/8 [00:00<00:00, 11.71it/s]\n",
      "Epoch 280: loss 0.678296 0.5892:  75%|█████████   | 6/8 [00:00<00:00, 12.87it/s]\n",
      "  0%|                                                     | 0/2 [00:00<?, ?it/s]\u001b[A\n",
      "Valid 280: loss 0.697808 0.5236:   0%|                    | 0/2 [00:00<?, ?it/s]\u001b[A\n",
      "Valid 280: loss 0.697808 0.5236:  50%|██████      | 1/2 [00:00<00:00,  1.80it/s]\u001b[A\n",
      "Valid 280: loss 0.701244 0.5127: 100%|████████████| 2/2 [00:00<00:00,  2.74it/s]\u001b[A\n",
      "Epoch 280: loss 0.678296 0.5892: 100%|████████████| 8/8 [00:01<00:00,  5.62it/s]\n"
     ]
    },
    {
     "name": "stdout",
     "output_type": "stream",
     "text": [
      "EarlyStopping counter: 26 out of 100\n"
     ]
    },
    {
     "name": "stderr",
     "output_type": "stream",
     "text": [
      "Epoch 281: loss 0.677125 0.5936: 100%|████████████| 8/8 [00:01<00:00,  5.49it/s]\n",
      "Epoch 282: loss 0.677090 0.5947: 100%|████████████| 8/8 [00:00<00:00,  8.75it/s]\n",
      "Epoch 283: loss 0.678101 0.5938: 100%|████████████| 8/8 [00:00<00:00,  9.52it/s]\n",
      "Epoch 284: loss 0.678143 0.5943: 100%|████████████| 8/8 [00:00<00:00,  9.72it/s]\n",
      "Epoch 285: loss 0.676299 0.5938: 100%|████████████| 8/8 [00:00<00:00,  9.87it/s]\n",
      "Epoch 286: loss 0.676275 0.5948: 100%|████████████| 8/8 [00:00<00:00,  9.69it/s]\n",
      "Epoch 287: loss 0.676098 0.5951: 100%|████████████| 8/8 [00:01<00:00,  7.96it/s]\n",
      "Epoch 288: loss 0.675833 0.5961: 100%|████████████| 8/8 [00:00<00:00,  9.61it/s]\n",
      "Epoch 289: loss 0.678165 0.5959: 100%|████████████| 8/8 [00:00<00:00,  9.00it/s]\n",
      "Epoch 290: loss 0.675683 0.5965:  12%|█▌          | 1/8 [00:00<00:03,  1.82it/s]\n",
      "  0%|                                                     | 0/2 [00:00<?, ?it/s]\u001b[A\n",
      "Valid 290: loss 0.706623 0.5037:   0%|                    | 0/2 [00:00<?, ?it/s]\u001b[A\n",
      "Valid 290: loss 0.706623 0.5037:  50%|██████      | 1/2 [00:00<00:00,  1.92it/s]\u001b[A\n",
      "Valid 290: loss 0.700762 0.5263: 100%|████████████| 2/2 [00:00<00:00,  3.24it/s]\u001b[A\n",
      "Epoch 290: loss 0.675683 0.5965: 100%|████████████| 8/8 [00:01<00:00,  6.08it/s]\n"
     ]
    },
    {
     "name": "stdout",
     "output_type": "stream",
     "text": [
      "EarlyStopping counter: 27 out of 100\n"
     ]
    },
    {
     "name": "stderr",
     "output_type": "stream",
     "text": [
      "Epoch 291: loss 0.675567 0.5965: 100%|████████████| 8/8 [00:00<00:00, 10.83it/s]\n",
      "Epoch 292: loss 0.675642 0.5965: 100%|████████████| 8/8 [00:00<00:00,  9.79it/s]\n",
      "Epoch 293: loss 0.675979 0.5959: 100%|████████████| 8/8 [00:00<00:00, 10.67it/s]\n",
      "Epoch 294: loss 0.675973 0.5938: 100%|████████████| 8/8 [00:00<00:00, 10.73it/s]\n",
      "Epoch 295: loss 0.675947 0.5959: 100%|████████████| 8/8 [00:00<00:00,  9.48it/s]\n",
      "Epoch 296: loss 0.675231 0.5982: 100%|████████████| 8/8 [00:00<00:00,  8.31it/s]\n",
      "Epoch 297: loss 0.676830 0.5952: 100%|████████████| 8/8 [00:00<00:00, 10.71it/s]\n",
      "Epoch 298: loss 0.677766 0.5974: 100%|████████████| 8/8 [00:00<00:00,  9.35it/s]\n",
      "Epoch 299: loss 0.676264 0.5977: 100%|████████████| 8/8 [00:00<00:00,  8.66it/s]\n",
      "Epoch 300: loss 0.679087 0.5944:  88%|██████████▌ | 7/8 [00:00<00:00, 10.24it/s]\n",
      "  0%|                                                     | 0/2 [00:00<?, ?it/s]\u001b[A\n",
      "Valid 300: loss 0.702128 0.5142:   0%|                    | 0/2 [00:00<?, ?it/s]\u001b[A\n",
      "Valid 300: loss 0.702128 0.5142:  50%|██████      | 1/2 [00:00<00:00,  1.89it/s]\u001b[A\n",
      "Valid 300: loss 0.703396 0.5156: 100%|████████████| 2/2 [00:00<00:00,  3.16it/s]\u001b[A\n",
      "Epoch 300: loss 0.679087 0.5944: 100%|████████████| 8/8 [00:01<00:00,  4.98it/s]\n"
     ]
    },
    {
     "name": "stdout",
     "output_type": "stream",
     "text": [
      "EarlyStopping counter: 28 out of 100\n"
     ]
    },
    {
     "name": "stderr",
     "output_type": "stream",
     "text": [
      "Epoch 301: loss 0.676347 0.5982: 100%|████████████| 8/8 [00:00<00:00,  9.67it/s]\n",
      "Epoch 302: loss 0.674972 0.5975: 100%|████████████| 8/8 [00:00<00:00, 11.21it/s]\n",
      "Epoch 303: loss 0.674921 0.5988: 100%|████████████| 8/8 [00:00<00:00, 10.97it/s]\n",
      "Epoch 304: loss 0.674880 0.5976: 100%|████████████| 8/8 [00:00<00:00, 10.26it/s]\n",
      "Epoch 305: loss 0.674966 0.5976: 100%|████████████| 8/8 [00:00<00:00, 10.28it/s]\n",
      "Epoch 306: loss 0.675696 0.5961: 100%|████████████| 8/8 [00:00<00:00, 12.37it/s]\n",
      "Epoch 307: loss 0.674888 0.5988: 100%|████████████| 8/8 [00:00<00:00,  9.79it/s]\n",
      "Epoch 308: loss 0.676136 0.5997: 100%|████████████| 8/8 [00:00<00:00, 11.35it/s]\n",
      "Epoch 309: loss 0.676345 0.5992: 100%|████████████| 8/8 [00:00<00:00, 10.42it/s]\n",
      "Epoch 310: loss 0.676431 0.5987:  12%|█▌          | 1/8 [00:00<00:04,  1.72it/s]\n",
      "  0%|                                                     | 0/2 [00:00<?, ?it/s]\u001b[A\n",
      "Valid 310: loss 0.699625 0.5340:   0%|                    | 0/2 [00:00<?, ?it/s]\u001b[A\n",
      "Valid 310: loss 0.699625 0.5340:  50%|██████      | 1/2 [00:00<00:00,  2.06it/s]\u001b[A\n",
      "Valid 310: loss 0.702147 0.4964: 100%|████████████| 2/2 [00:00<00:00,  3.54it/s]\u001b[A\n",
      "Epoch 310: loss 0.676431 0.5987: 100%|████████████| 8/8 [00:01<00:00,  6.20it/s]\n"
     ]
    },
    {
     "name": "stdout",
     "output_type": "stream",
     "text": [
      "EarlyStopping counter: 29 out of 100\n"
     ]
    },
    {
     "name": "stderr",
     "output_type": "stream",
     "text": [
      "Epoch 311: loss 0.674433 0.5996: 100%|████████████| 8/8 [00:00<00:00, 10.17it/s]\n",
      "Epoch 312: loss 0.675793 0.5991: 100%|████████████| 8/8 [00:00<00:00, 13.99it/s]\n",
      "Epoch 313: loss 0.674906 0.6001: 100%|████████████| 8/8 [00:00<00:00, 13.11it/s]\n",
      "Epoch 314: loss 0.676102 0.6005: 100%|████████████| 8/8 [00:00<00:00, 10.26it/s]\n",
      "Epoch 315: loss 0.675818 0.6012: 100%|████████████| 8/8 [00:00<00:00, 12.65it/s]\n",
      "Epoch 316: loss 0.674267 0.6005: 100%|████████████| 8/8 [00:00<00:00,  9.42it/s]\n",
      "Epoch 317: loss 0.674056 0.6016: 100%|████████████| 8/8 [00:01<00:00,  5.24it/s]\n",
      "Epoch 318: loss 0.675142 0.6013: 100%|████████████| 8/8 [00:00<00:00,  9.48it/s]\n",
      "Epoch 319: loss 0.674998 0.5996: 100%|████████████| 8/8 [00:00<00:00, 12.15it/s]\n",
      "Epoch 320: loss 0.673961 0.6006:  12%|█▌          | 1/8 [00:00<00:03,  1.95it/s]\n",
      "  0%|                                                     | 0/2 [00:00<?, ?it/s]\u001b[A\n",
      "Valid 320: loss 0.710210 0.5015:   0%|                    | 0/2 [00:00<?, ?it/s]\u001b[A\n",
      "Valid 320: loss 0.710210 0.5015:  50%|██████      | 1/2 [00:00<00:00,  2.18it/s]\u001b[A\n",
      "Valid 320: loss 0.702772 0.5346: 100%|████████████| 2/2 [00:00<00:00,  3.76it/s]\u001b[A\n",
      "Epoch 320: loss 0.673961 0.6006: 100%|████████████| 8/8 [00:01<00:00,  6.97it/s]\n"
     ]
    },
    {
     "name": "stdout",
     "output_type": "stream",
     "text": [
      "EarlyStopping counter: 30 out of 100\n"
     ]
    },
    {
     "name": "stderr",
     "output_type": "stream",
     "text": [
      "Epoch 321: loss 0.673800 0.6019: 100%|████████████| 8/8 [00:00<00:00, 11.79it/s]\n",
      "Epoch 322: loss 0.673943 0.6015: 100%|████████████| 8/8 [00:00<00:00, 12.37it/s]\n",
      "Epoch 323: loss 0.674383 0.6025: 100%|████████████| 8/8 [00:02<00:00,  3.03it/s]\n",
      "Epoch 324: loss 0.673729 0.6021: 100%|████████████| 8/8 [00:00<00:00, 10.29it/s]\n",
      "Epoch 325: loss 0.673870 0.6046: 100%|████████████| 8/8 [00:00<00:00, 11.89it/s]\n",
      "Epoch 326: loss 0.673583 0.6024: 100%|████████████| 8/8 [00:00<00:00, 11.13it/s]\n",
      "Epoch 327: loss 0.674723 0.6033: 100%|████████████| 8/8 [00:00<00:00, 11.57it/s]\n",
      "Epoch 328: loss 0.674630 0.6031: 100%|████████████| 8/8 [00:00<00:00, 11.19it/s]\n",
      "Epoch 329: loss 0.673073 0.6028: 100%|████████████| 8/8 [00:00<00:00, 12.59it/s]\n",
      "Epoch 330: loss 0.673485 0.6037:  12%|█▌          | 1/8 [00:00<00:04,  1.64it/s]\n",
      "  0%|                                                     | 0/2 [00:00<?, ?it/s]\u001b[A\n",
      "Valid 330: loss 0.696162 0.5289:   0%|                    | 0/2 [00:00<?, ?it/s]\u001b[A\n",
      "Valid 330: loss 0.696162 0.5289:  50%|██████      | 1/2 [00:00<00:00,  1.94it/s]\u001b[A\n",
      "Valid 330: loss 0.704708 0.5019: 100%|████████████| 2/2 [00:00<00:00,  3.36it/s]\u001b[A\n",
      "Epoch 330: loss 0.673485 0.6037: 100%|████████████| 8/8 [00:01<00:00,  6.07it/s]\n"
     ]
    },
    {
     "name": "stdout",
     "output_type": "stream",
     "text": [
      "EarlyStopping counter: 31 out of 100\n"
     ]
    },
    {
     "name": "stderr",
     "output_type": "stream",
     "text": [
      "Epoch 331: loss 0.673506 0.6024: 100%|████████████| 8/8 [00:00<00:00, 11.05it/s]\n",
      "Epoch 332: loss 0.672764 0.6046: 100%|████████████| 8/8 [00:00<00:00, 10.72it/s]\n",
      "Epoch 333: loss 0.672937 0.6040: 100%|████████████| 8/8 [00:00<00:00, 11.84it/s]\n",
      "Epoch 334: loss 0.672803 0.6048: 100%|████████████| 8/8 [00:00<00:00, 10.62it/s]\n",
      "Epoch 335: loss 0.673380 0.6037: 100%|████████████| 8/8 [00:00<00:00,  9.59it/s]\n",
      "Epoch 336: loss 0.673997 0.6037: 100%|████████████| 8/8 [00:00<00:00, 11.93it/s]\n",
      "Epoch 337: loss 0.673480 0.6036: 100%|████████████| 8/8 [00:00<00:00, 10.19it/s]\n",
      "Epoch 338: loss 0.673528 0.6029: 100%|████████████| 8/8 [00:00<00:00,  9.66it/s]\n",
      "Epoch 339: loss 0.673125 0.6046: 100%|████████████| 8/8 [00:00<00:00, 10.73it/s]\n",
      "Epoch 340: loss 0.674447 0.6033:  12%|█▌          | 1/8 [00:00<00:03,  1.91it/s]\n",
      "  0%|                                                     | 0/2 [00:00<?, ?it/s]\u001b[A\n",
      "Valid 340: loss 0.700282 0.5238:   0%|                    | 0/2 [00:00<?, ?it/s]\u001b[A\n",
      "Valid 340: loss 0.700282 0.5238:  50%|██████      | 1/2 [00:00<00:00,  2.24it/s]\u001b[A\n",
      "Valid 340: loss 0.708264 0.5040: 100%|████████████| 2/2 [00:00<00:00,  3.61it/s]\u001b[A\n",
      "Epoch 340: loss 0.674447 0.6033: 100%|████████████| 8/8 [00:01<00:00,  6.42it/s]\n"
     ]
    },
    {
     "name": "stdout",
     "output_type": "stream",
     "text": [
      "EarlyStopping counter: 32 out of 100\n"
     ]
    },
    {
     "name": "stderr",
     "output_type": "stream",
     "text": [
      "Epoch 341: loss 0.673399 0.6048: 100%|████████████| 8/8 [00:00<00:00, 12.01it/s]\n",
      "Epoch 342: loss 0.674797 0.6036: 100%|████████████| 8/8 [00:00<00:00, 10.56it/s]\n",
      "Epoch 343: loss 0.675882 0.6038: 100%|████████████| 8/8 [00:00<00:00, 10.37it/s]\n",
      "Epoch 344: loss 0.675248 0.6010: 100%|████████████| 8/8 [00:00<00:00,  9.66it/s]\n",
      "Epoch 345: loss 0.672255 0.6059: 100%|████████████| 8/8 [00:00<00:00, 10.96it/s]\n",
      "Epoch 346: loss 0.673294 0.6049: 100%|████████████| 8/8 [00:00<00:00, 11.71it/s]\n",
      "Epoch 347: loss 0.672261 0.6049: 100%|████████████| 8/8 [00:00<00:00, 11.92it/s]\n",
      "Epoch 348: loss 0.672044 0.6067: 100%|████████████| 8/8 [00:00<00:00, 11.20it/s]\n",
      "Epoch 349: loss 0.672469 0.6068: 100%|████████████| 8/8 [00:00<00:00,  8.73it/s]\n",
      "Epoch 350: loss 0.672438 0.6048:  75%|█████████   | 6/8 [00:00<00:00, 11.59it/s]\n",
      "  0%|                                                     | 0/2 [00:00<?, ?it/s]\u001b[A\n",
      "Valid 350: loss 0.711639 0.4976:   0%|                    | 0/2 [00:00<?, ?it/s]\u001b[A\n",
      "Valid 350: loss 0.711639 0.4976:  50%|██████      | 1/2 [00:00<00:00,  2.08it/s]\u001b[A\n",
      "Valid 350: loss 0.706184 0.5271: 100%|████████████| 2/2 [00:00<00:00,  3.57it/s]\u001b[A\n",
      "Epoch 350: loss 0.672438 0.6048: 100%|████████████| 8/8 [00:01<00:00,  6.31it/s]\n"
     ]
    },
    {
     "name": "stdout",
     "output_type": "stream",
     "text": [
      "EarlyStopping counter: 33 out of 100\n"
     ]
    },
    {
     "name": "stderr",
     "output_type": "stream",
     "text": [
      "Epoch 351: loss 0.672666 0.6067: 100%|████████████| 8/8 [00:00<00:00,  9.46it/s]\n",
      "Epoch 352: loss 0.673048 0.6064: 100%|████████████| 8/8 [00:01<00:00,  7.04it/s]\n",
      "Epoch 353: loss 0.673300 0.6034: 100%|████████████| 8/8 [00:00<00:00,  8.43it/s]\n",
      "Epoch 354: loss 0.674784 0.6049: 100%|████████████| 8/8 [00:00<00:00,  9.72it/s]\n",
      "Epoch 355: loss 0.674191 0.6066: 100%|████████████| 8/8 [00:00<00:00, 12.01it/s]\n",
      "Epoch 356: loss 0.673253 0.6079: 100%|████████████| 8/8 [00:00<00:00, 10.83it/s]\n",
      "Epoch 357: loss 0.673944 0.6085: 100%|████████████| 8/8 [00:00<00:00, 11.30it/s]\n",
      "Epoch 358: loss 0.672062 0.6066: 100%|████████████| 8/8 [00:00<00:00, 10.32it/s]\n",
      "Epoch 359: loss 0.672015 0.6083: 100%|████████████| 8/8 [00:00<00:00, 10.07it/s]\n",
      "Epoch 360: loss 0.671950 0.6055:  12%|█▌          | 1/8 [00:00<00:04,  1.73it/s]\n",
      "  0%|                                                     | 0/2 [00:00<?, ?it/s]\u001b[A\n",
      "Valid 360: loss 0.709738 0.5127:   0%|                    | 0/2 [00:00<?, ?it/s]\u001b[A\n",
      "Valid 360: loss 0.709738 0.5127:  50%|██████      | 1/2 [00:00<00:00,  2.07it/s]\u001b[A\n",
      "Valid 360: loss 0.707386 0.5153: 100%|████████████| 2/2 [00:00<00:00,  3.50it/s]\u001b[A\n",
      "Epoch 360: loss 0.671950 0.6055: 100%|████████████| 8/8 [00:01<00:00,  6.32it/s]\n"
     ]
    },
    {
     "name": "stdout",
     "output_type": "stream",
     "text": [
      "EarlyStopping counter: 34 out of 100\n"
     ]
    },
    {
     "name": "stderr",
     "output_type": "stream",
     "text": [
      "Epoch 361: loss 0.671685 0.6075: 100%|████████████| 8/8 [00:00<00:00, 11.94it/s]\n",
      "Epoch 362: loss 0.671904 0.6073: 100%|████████████| 8/8 [00:00<00:00, 11.33it/s]\n",
      "Epoch 363: loss 0.672790 0.6093: 100%|████████████| 8/8 [00:00<00:00, 11.38it/s]\n",
      "Epoch 364: loss 0.672114 0.6082: 100%|████████████| 8/8 [00:00<00:00, 10.59it/s]\n",
      "Epoch 365: loss 0.672361 0.6080: 100%|████████████| 8/8 [00:00<00:00, 11.59it/s]\n",
      "Epoch 366: loss 0.671631 0.6068: 100%|████████████| 8/8 [00:00<00:00, 11.74it/s]\n",
      "Epoch 367: loss 0.671281 0.6080: 100%|████████████| 8/8 [00:00<00:00, 12.19it/s]\n",
      "Epoch 368: loss 0.671633 0.6074: 100%|████████████| 8/8 [00:00<00:00, 10.07it/s]\n",
      "Epoch 369: loss 0.673577 0.6077: 100%|████████████| 8/8 [00:00<00:00, 11.70it/s]\n",
      "Epoch 370: loss 0.672344 0.6071:  12%|█▌          | 1/8 [00:00<00:04,  1.62it/s]\n",
      "  0%|                                                     | 0/2 [00:00<?, ?it/s]\u001b[A\n",
      "Valid 370: loss 0.705842 0.5190:   0%|                    | 0/2 [00:00<?, ?it/s]\u001b[A\n",
      "Valid 370: loss 0.705842 0.5190:  50%|██████      | 1/2 [00:00<00:00,  2.12it/s]\u001b[A\n",
      "Valid 370: loss 0.709628 0.5105: 100%|████████████| 2/2 [00:00<00:00,  3.36it/s]\u001b[A\n",
      "Epoch 370: loss 0.672344 0.6071: 100%|████████████| 8/8 [00:01<00:00,  6.01it/s]\n"
     ]
    },
    {
     "name": "stdout",
     "output_type": "stream",
     "text": [
      "EarlyStopping counter: 35 out of 100\n"
     ]
    },
    {
     "name": "stderr",
     "output_type": "stream",
     "text": [
      "Epoch 371: loss 0.672453 0.6064: 100%|████████████| 8/8 [00:00<00:00, 11.28it/s]\n",
      "Epoch 372: loss 0.677775 0.6078: 100%|████████████| 8/8 [00:00<00:00, 10.55it/s]\n",
      "Epoch 373: loss 0.671496 0.6091: 100%|████████████| 8/8 [00:00<00:00, 10.94it/s]\n",
      "Epoch 374: loss 0.671550 0.6102: 100%|████████████| 8/8 [00:00<00:00, 11.39it/s]\n",
      "Epoch 375: loss 0.671078 0.6095: 100%|████████████| 8/8 [00:00<00:00,  9.67it/s]\n",
      "Epoch 376: loss 0.670382 0.6104: 100%|████████████| 8/8 [00:00<00:00,  9.79it/s]\n",
      "Epoch 377: loss 0.670940 0.6096: 100%|████████████| 8/8 [00:00<00:00, 12.41it/s]\n",
      "Epoch 378: loss 0.670758 0.6083: 100%|████████████| 8/8 [00:00<00:00, 10.52it/s]\n",
      "Epoch 379: loss 0.670836 0.6115: 100%|████████████| 8/8 [00:00<00:00, 11.31it/s]\n",
      "Epoch 380: loss 0.670786 0.6098:  12%|█▌          | 1/8 [00:00<00:04,  1.73it/s]\n",
      "  0%|                                                     | 0/2 [00:00<?, ?it/s]\u001b[A\n",
      "Valid 380: loss 0.706867 0.5260:   0%|                    | 0/2 [00:00<?, ?it/s]\u001b[A\n",
      "Valid 380: loss 0.706867 0.5260:  50%|██████      | 1/2 [00:00<00:00,  1.77it/s]\u001b[A\n",
      "Valid 380: loss 0.709433 0.4974: 100%|████████████| 2/2 [00:00<00:00,  3.06it/s]\u001b[A\n",
      "Epoch 380: loss 0.670786 0.6098: 100%|████████████| 8/8 [00:01<00:00,  5.81it/s]\n"
     ]
    },
    {
     "name": "stdout",
     "output_type": "stream",
     "text": [
      "EarlyStopping counter: 36 out of 100\n"
     ]
    },
    {
     "name": "stderr",
     "output_type": "stream",
     "text": [
      "Epoch 381: loss 0.672463 0.6118: 100%|████████████| 8/8 [00:00<00:00, 11.78it/s]\n",
      "Epoch 382: loss 0.671017 0.6111: 100%|████████████| 8/8 [00:00<00:00, 11.15it/s]\n",
      "Epoch 383: loss 0.670204 0.6103: 100%|████████████| 8/8 [00:00<00:00,  9.01it/s]\n",
      "Epoch 384: loss 0.670781 0.6095: 100%|████████████| 8/8 [00:00<00:00, 10.93it/s]\n",
      "Epoch 385: loss 0.670509 0.6106: 100%|████████████| 8/8 [00:00<00:00, 10.15it/s]\n",
      "Epoch 386: loss 0.671637 0.6127: 100%|████████████| 8/8 [00:00<00:00, 11.46it/s]\n",
      "Epoch 387: loss 0.671128 0.6107: 100%|████████████| 8/8 [00:00<00:00, 11.59it/s]\n",
      "Epoch 388: loss 0.670554 0.6106: 100%|████████████| 8/8 [00:01<00:00,  6.29it/s]\n",
      "Epoch 389: loss 0.672416 0.6089: 100%|████████████| 8/8 [00:01<00:00,  5.78it/s]\n",
      "Epoch 390: loss 0.670189 0.6114:  62%|███████▌    | 5/8 [00:01<00:00,  4.29it/s]\n",
      "  0%|                                                     | 0/2 [00:00<?, ?it/s]\u001b[A\n",
      "Valid 390: loss 0.711676 0.5014:   0%|                    | 0/2 [00:00<?, ?it/s]\u001b[A\n",
      "Valid 390: loss 0.711676 0.5014:  50%|██████      | 1/2 [00:00<00:00,  1.86it/s]\u001b[A\n",
      "Valid 390: loss 0.708469 0.5238: 100%|████████████| 2/2 [00:00<00:00,  3.22it/s]\u001b[A\n",
      "Epoch 390: loss 0.670189 0.6114: 100%|████████████| 8/8 [00:02<00:00,  3.42it/s]\n"
     ]
    },
    {
     "name": "stdout",
     "output_type": "stream",
     "text": [
      "EarlyStopping counter: 37 out of 100\n"
     ]
    },
    {
     "name": "stderr",
     "output_type": "stream",
     "text": [
      "Epoch 391: loss 0.670039 0.6100: 100%|████████████| 8/8 [00:00<00:00, 11.57it/s]\n",
      "Epoch 392: loss 0.670344 0.6109: 100%|████████████| 8/8 [00:00<00:00, 13.22it/s]\n",
      "Epoch 393: loss 0.670527 0.6129: 100%|████████████| 8/8 [00:00<00:00, 11.64it/s]\n",
      "Epoch 394: loss 0.670279 0.6110: 100%|████████████| 8/8 [00:00<00:00, 11.49it/s]\n",
      "Epoch 395: loss 0.669719 0.6138: 100%|████████████| 8/8 [00:00<00:00,  9.04it/s]\n",
      "Epoch 396: loss 0.670469 0.6108: 100%|████████████| 8/8 [00:00<00:00,  9.77it/s]\n",
      "Epoch 397: loss 0.669885 0.6110: 100%|████████████| 8/8 [00:00<00:00, 11.22it/s]\n",
      "Epoch 398: loss 0.669912 0.6123: 100%|████████████| 8/8 [00:00<00:00, 10.21it/s]\n",
      "Epoch 399: loss 0.669905 0.6133: 100%|████████████| 8/8 [00:02<00:00,  3.75it/s]\n",
      "Epoch 400: loss 0.669969 0.6144:  38%|████▌       | 3/8 [00:01<00:01,  3.34it/s]\n",
      "  0%|                                                     | 0/2 [00:00<?, ?it/s]\u001b[A\n",
      "Valid 400: loss 0.707456 0.5149:   0%|                    | 0/2 [00:00<?, ?it/s]\u001b[A\n",
      "Valid 400: loss 0.707456 0.5149:  50%|██████      | 1/2 [00:00<00:00,  1.82it/s]\u001b[A\n",
      "Valid 400: loss 0.709394 0.5147: 100%|████████████| 2/2 [00:00<00:00,  3.00it/s]\u001b[A\n",
      "Epoch 400: loss 0.669969 0.6144: 100%|████████████| 8/8 [00:01<00:00,  4.17it/s]\n"
     ]
    },
    {
     "name": "stdout",
     "output_type": "stream",
     "text": [
      "EarlyStopping counter: 38 out of 100\n"
     ]
    },
    {
     "name": "stderr",
     "output_type": "stream",
     "text": [
      "Epoch 401: loss 0.670109 0.6135: 100%|████████████| 8/8 [00:00<00:00,  9.81it/s]\n",
      "Epoch 402: loss 0.674651 0.6124: 100%|████████████| 8/8 [00:00<00:00,  9.91it/s]\n",
      "Epoch 403: loss 0.672415 0.6123: 100%|████████████| 8/8 [00:00<00:00, 10.39it/s]\n",
      "Epoch 404: loss 0.670204 0.6147: 100%|████████████| 8/8 [00:00<00:00,  9.88it/s]\n",
      "Epoch 405: loss 0.669822 0.6138: 100%|████████████| 8/8 [00:00<00:00,  8.70it/s]\n",
      "Epoch 406: loss 0.669309 0.6148: 100%|████████████| 8/8 [00:01<00:00,  7.90it/s]\n",
      "Epoch 407: loss 0.669911 0.6147: 100%|████████████| 8/8 [00:01<00:00,  6.93it/s]\n",
      "Epoch 408: loss 0.669932 0.6130: 100%|████████████| 8/8 [00:00<00:00,  9.54it/s]\n",
      "Epoch 409: loss 0.669181 0.6137: 100%|████████████| 8/8 [00:00<00:00, 10.06it/s]\n",
      "Epoch 410: loss 0.669745 0.6124:  12%|█▌          | 1/8 [00:00<00:04,  1.53it/s]\n",
      "  0%|                                                     | 0/2 [00:00<?, ?it/s]\u001b[A\n",
      "Valid 410: loss 0.713757 0.5079:   0%|                    | 0/2 [00:00<?, ?it/s]\u001b[A\n",
      "Valid 410: loss 0.713757 0.5079:  50%|██████      | 1/2 [00:00<00:00,  1.87it/s]\u001b[A\n",
      "Valid 410: loss 0.710173 0.5113: 100%|████████████| 2/2 [00:00<00:00,  3.15it/s]\u001b[A\n",
      "Epoch 410: loss 0.669745 0.6124: 100%|████████████| 8/8 [00:01<00:00,  5.60it/s]\n"
     ]
    },
    {
     "name": "stdout",
     "output_type": "stream",
     "text": [
      "EarlyStopping counter: 39 out of 100\n"
     ]
    },
    {
     "name": "stderr",
     "output_type": "stream",
     "text": [
      "Epoch 411: loss 0.669122 0.6134: 100%|████████████| 8/8 [00:00<00:00,  9.89it/s]\n",
      "Epoch 412: loss 0.669311 0.6149: 100%|████████████| 8/8 [00:00<00:00, 10.21it/s]\n",
      "Epoch 413: loss 0.669813 0.6133: 100%|████████████| 8/8 [00:00<00:00, 11.08it/s]\n",
      "Epoch 414: loss 0.669207 0.6144: 100%|████████████| 8/8 [00:00<00:00, 10.37it/s]\n",
      "Epoch 415: loss 0.673056 0.6143: 100%|████████████| 8/8 [00:00<00:00, 10.38it/s]\n",
      "Epoch 416: loss 0.668647 0.6160: 100%|████████████| 8/8 [00:00<00:00, 10.75it/s]\n",
      "Epoch 417: loss 0.669700 0.6140: 100%|████████████| 8/8 [00:00<00:00, 10.61it/s]\n",
      "Epoch 418: loss 0.669389 0.6146: 100%|████████████| 8/8 [00:00<00:00, 10.54it/s]\n",
      "Epoch 419: loss 0.670220 0.6151: 100%|████████████| 8/8 [00:00<00:00,  9.68it/s]\n",
      "Epoch 420: loss 0.670457 0.6123:  12%|█▌          | 1/8 [00:00<00:05,  1.32it/s]\n",
      "  0%|                                                     | 0/2 [00:00<?, ?it/s]\u001b[A\n",
      "Valid 420: loss 0.705316 0.5139:   0%|                    | 0/2 [00:00<?, ?it/s]\u001b[A\n",
      "Valid 420: loss 0.705316 0.5139:  50%|██████      | 1/2 [00:00<00:00,  2.26it/s]\u001b[A\n",
      "Valid 420: loss 0.713468 0.5131: 100%|████████████| 2/2 [00:00<00:00,  3.38it/s]\u001b[A\n",
      "Epoch 420: loss 0.670457 0.6123: 100%|████████████| 8/8 [00:01<00:00,  5.14it/s]\n"
     ]
    },
    {
     "name": "stdout",
     "output_type": "stream",
     "text": [
      "EarlyStopping counter: 40 out of 100\n"
     ]
    },
    {
     "name": "stderr",
     "output_type": "stream",
     "text": [
      "Epoch 421: loss 0.669481 0.6153: 100%|████████████| 8/8 [00:00<00:00, 10.63it/s]\n",
      "Epoch 422: loss 0.669100 0.6150: 100%|████████████| 8/8 [00:00<00:00, 10.10it/s]\n",
      "Epoch 423: loss 0.669033 0.6149: 100%|████████████| 8/8 [00:00<00:00,  8.78it/s]\n",
      "Epoch 424: loss 0.668212 0.6170: 100%|████████████| 8/8 [00:00<00:00, 10.16it/s]\n",
      "Epoch 425: loss 0.669285 0.6165: 100%|████████████| 8/8 [00:00<00:00,  9.26it/s]\n",
      "Epoch 426: loss 0.672024 0.6129: 100%|████████████| 8/8 [00:00<00:00, 12.13it/s]\n",
      "Epoch 427: loss 0.668593 0.6157: 100%|████████████| 8/8 [00:00<00:00, 10.70it/s]\n",
      "Epoch 428: loss 0.668217 0.6170: 100%|████████████| 8/8 [00:00<00:00, 10.75it/s]\n",
      "Epoch 429: loss 0.670493 0.6181: 100%|████████████| 8/8 [00:00<00:00, 12.38it/s]\n",
      "Epoch 430: loss 0.673427 0.6174:  12%|█▌          | 1/8 [00:00<00:04,  1.68it/s]\n",
      "  0%|                                                     | 0/2 [00:00<?, ?it/s]\u001b[A\n",
      "Valid 430: loss 0.703776 0.5192:   0%|                    | 0/2 [00:00<?, ?it/s]\u001b[A\n",
      "Valid 430: loss 0.703776 0.5192:  50%|██████      | 1/2 [00:00<00:00,  1.92it/s]\u001b[A\n",
      "Valid 430: loss 0.710037 0.5082: 100%|████████████| 2/2 [00:00<00:00,  3.22it/s]\u001b[A\n",
      "Epoch 430: loss 0.673427 0.6174: 100%|████████████| 8/8 [00:01<00:00,  5.07it/s]\n"
     ]
    },
    {
     "name": "stdout",
     "output_type": "stream",
     "text": [
      "EarlyStopping counter: 41 out of 100\n"
     ]
    },
    {
     "name": "stderr",
     "output_type": "stream",
     "text": [
      "Epoch 431: loss 0.671158 0.6135: 100%|████████████| 8/8 [00:00<00:00, 10.22it/s]\n",
      "Epoch 432: loss 0.671429 0.6134: 100%|████████████| 8/8 [00:01<00:00,  5.87it/s]\n",
      "Epoch 433: loss 0.668947 0.6168: 100%|████████████| 8/8 [00:01<00:00,  6.69it/s]\n",
      "Epoch 434: loss 0.673363 0.6157: 100%|████████████| 8/8 [00:06<00:00,  1.33it/s]\n",
      "Epoch 435: loss 0.668986 0.6158: 100%|████████████| 8/8 [00:00<00:00,  9.34it/s]\n",
      "Epoch 436: loss 0.669372 0.6134: 100%|████████████| 8/8 [00:00<00:00,  9.57it/s]\n",
      "Epoch 437: loss 0.667683 0.6197: 100%|████████████| 8/8 [00:00<00:00,  9.47it/s]\n",
      "Epoch 438: loss 0.667904 0.6163: 100%|████████████| 8/8 [00:00<00:00,  9.60it/s]\n",
      "Epoch 439: loss 0.667632 0.6172: 100%|████████████| 8/8 [00:00<00:00,  9.53it/s]\n",
      "Epoch 440: loss 0.667934 0.6161:  12%|█▌          | 1/8 [00:00<00:04,  1.54it/s]\n",
      "  0%|                                                     | 0/2 [00:00<?, ?it/s]\u001b[A\n",
      "Valid 440: loss 0.714666 0.5072:   0%|                    | 0/2 [00:00<?, ?it/s]\u001b[A\n",
      "Valid 440: loss 0.714666 0.5072:  50%|██████      | 1/2 [00:00<00:00,  2.30it/s]\u001b[A\n",
      "Valid 440: loss 0.710406 0.5199: 100%|████████████| 2/2 [00:00<00:00,  3.68it/s]\u001b[A\n",
      "Epoch 440: loss 0.667934 0.6161: 100%|████████████| 8/8 [00:01<00:00,  5.88it/s]\n"
     ]
    },
    {
     "name": "stdout",
     "output_type": "stream",
     "text": [
      "EarlyStopping counter: 42 out of 100\n"
     ]
    },
    {
     "name": "stderr",
     "output_type": "stream",
     "text": [
      "Epoch 441: loss 0.668135 0.6174: 100%|████████████| 8/8 [00:00<00:00, 10.61it/s]\n",
      "Epoch 442: loss 0.668230 0.6153: 100%|████████████| 8/8 [00:00<00:00,  9.69it/s]\n",
      "Epoch 443: loss 0.668966 0.6165: 100%|████████████| 8/8 [00:00<00:00, 10.24it/s]\n",
      "Epoch 444: loss 0.671776 0.6188: 100%|████████████| 8/8 [00:00<00:00, 10.33it/s]\n",
      "Epoch 445: loss 0.667544 0.6181: 100%|████████████| 8/8 [00:00<00:00, 10.30it/s]\n",
      "Epoch 446: loss 0.668713 0.6190: 100%|████████████| 8/8 [00:00<00:00,  9.38it/s]\n",
      "Epoch 447: loss 0.666481 0.6192: 100%|████████████| 8/8 [00:00<00:00,  9.40it/s]\n",
      "Epoch 448: loss 0.668009 0.6199: 100%|████████████| 8/8 [00:00<00:00, 10.83it/s]\n",
      "Epoch 449: loss 0.667239 0.6198: 100%|████████████| 8/8 [00:00<00:00,  8.38it/s]\n",
      "Epoch 450: loss 0.667354 0.6195:  12%|█▌          | 1/8 [00:00<00:04,  1.41it/s]\n",
      "  0%|                                                     | 0/2 [00:00<?, ?it/s]\u001b[A\n",
      "Valid 450: loss 0.709654 0.5240:   0%|                    | 0/2 [00:00<?, ?it/s]\u001b[A\n",
      "Valid 450: loss 0.709654 0.5240:  50%|██████      | 1/2 [00:00<00:00,  1.73it/s]\u001b[A\n",
      "Valid 450: loss 0.712271 0.5027: 100%|████████████| 2/2 [00:00<00:00,  2.84it/s]\u001b[A\n",
      "Epoch 450: loss 0.667354 0.6195: 100%|████████████| 8/8 [00:01<00:00,  5.10it/s]\n"
     ]
    },
    {
     "name": "stdout",
     "output_type": "stream",
     "text": [
      "EarlyStopping counter: 43 out of 100\n"
     ]
    },
    {
     "name": "stderr",
     "output_type": "stream",
     "text": [
      "Epoch 451: loss 0.668725 0.6186: 100%|████████████| 8/8 [00:00<00:00,  8.66it/s]\n",
      "Epoch 452: loss 0.668679 0.6171: 100%|████████████| 8/8 [00:00<00:00,  9.29it/s]\n",
      "Epoch 453: loss 0.667447 0.6177: 100%|████████████| 8/8 [00:00<00:00,  9.34it/s]\n",
      "Epoch 454: loss 0.666889 0.6199: 100%|████████████| 8/8 [00:00<00:00,  9.30it/s]\n",
      "Epoch 455: loss 0.667213 0.6209: 100%|████████████| 8/8 [00:00<00:00,  9.92it/s]\n",
      "Epoch 456: loss 0.667306 0.6175: 100%|████████████| 8/8 [00:00<00:00, 10.58it/s]\n",
      "Epoch 457: loss 0.668688 0.6191: 100%|████████████| 8/8 [00:00<00:00, 12.29it/s]\n",
      "Epoch 458: loss 0.670401 0.6197: 100%|████████████| 8/8 [00:00<00:00, 13.06it/s]\n",
      "Epoch 459: loss 0.667403 0.6212: 100%|████████████| 8/8 [00:00<00:00, 11.84it/s]\n",
      "Epoch 460: loss 0.669110 0.6191:  62%|███████▌    | 5/8 [00:00<00:00, 11.49it/s]\n",
      "  0%|                                                     | 0/2 [00:00<?, ?it/s]\u001b[A\n",
      "Valid 460: loss 0.706852 0.5217:   0%|                    | 0/2 [00:00<?, ?it/s]\u001b[A\n",
      "Valid 460: loss 0.706852 0.5217:  50%|██████      | 1/2 [00:00<00:00,  2.05it/s]\u001b[A\n",
      "Valid 460: loss 0.711660 0.5138: 100%|████████████| 2/2 [00:00<00:00,  3.58it/s]\u001b[A\n",
      "Epoch 460: loss 0.669110 0.6191: 100%|████████████| 8/8 [00:01<00:00,  6.71it/s]\n"
     ]
    },
    {
     "name": "stdout",
     "output_type": "stream",
     "text": [
      "EarlyStopping counter: 44 out of 100\n"
     ]
    },
    {
     "name": "stderr",
     "output_type": "stream",
     "text": [
      "Epoch 461: loss 0.666987 0.6198: 100%|████████████| 8/8 [00:00<00:00, 11.49it/s]\n",
      "Epoch 462: loss 0.665933 0.6206: 100%|████████████| 8/8 [00:01<00:00,  6.14it/s]\n",
      "Epoch 463: loss 0.666357 0.6203: 100%|████████████| 8/8 [00:01<00:00,  6.43it/s]\n",
      "Epoch 464: loss 0.667100 0.6224: 100%|████████████| 8/8 [00:00<00:00,  9.89it/s]\n",
      "Epoch 465: loss 0.668824 0.6219: 100%|████████████| 8/8 [00:01<00:00,  7.11it/s]\n",
      "Epoch 466: loss 0.666731 0.6183: 100%|████████████| 8/8 [00:00<00:00,  8.76it/s]\n",
      "Epoch 467: loss 0.666198 0.6224: 100%|████████████| 8/8 [00:00<00:00,  9.38it/s]\n",
      "Epoch 468: loss 0.666871 0.6191: 100%|████████████| 8/8 [00:00<00:00,  8.07it/s]\n",
      "Epoch 469: loss 0.667117 0.6216: 100%|████████████| 8/8 [00:00<00:00,  8.56it/s]\n",
      "Epoch 470: loss 0.667664 0.6216:  38%|████▌       | 3/8 [00:01<00:01,  3.69it/s]\n",
      "  0%|                                                     | 0/2 [00:00<?, ?it/s]\u001b[A\n",
      "Valid 470: loss 0.708274 0.5239:   0%|                    | 0/2 [00:00<?, ?it/s]\u001b[A\n",
      "Valid 470: loss 0.708274 0.5239:  50%|██████      | 1/2 [00:00<00:00,  1.77it/s]\u001b[A\n",
      "Valid 470: loss 0.714987 0.5036: 100%|████████████| 2/2 [00:00<00:00,  2.93it/s]\u001b[A\n",
      "Epoch 470: loss 0.667664 0.6216: 100%|████████████| 8/8 [00:01<00:00,  4.46it/s]\n"
     ]
    },
    {
     "name": "stdout",
     "output_type": "stream",
     "text": [
      "EarlyStopping counter: 45 out of 100\n"
     ]
    },
    {
     "name": "stderr",
     "output_type": "stream",
     "text": [
      "Epoch 471: loss 0.668479 0.6206: 100%|████████████| 8/8 [00:01<00:00,  7.96it/s]\n",
      "Epoch 472: loss 0.666613 0.6199: 100%|████████████| 8/8 [00:01<00:00,  7.97it/s]\n",
      "Epoch 473: loss 0.666347 0.6212: 100%|████████████| 8/8 [00:00<00:00,  9.46it/s]\n",
      "Epoch 474: loss 0.665593 0.6225: 100%|████████████| 8/8 [00:00<00:00,  9.07it/s]\n",
      "Epoch 475: loss 0.666429 0.6212: 100%|████████████| 8/8 [00:00<00:00,  9.44it/s]\n",
      "Epoch 476: loss 0.667048 0.6233: 100%|████████████| 8/8 [00:01<00:00,  7.75it/s]\n",
      "Epoch 477: loss 0.668554 0.6219: 100%|████████████| 8/8 [00:00<00:00,  9.22it/s]\n",
      "Epoch 478: loss 0.668623 0.6211: 100%|████████████| 8/8 [00:00<00:00,  9.06it/s]\n",
      "Epoch 479: loss 0.666708 0.6209: 100%|████████████| 8/8 [00:00<00:00,  8.27it/s]\n",
      "Epoch 480: loss 0.666593 0.6228:  12%|█▌          | 1/8 [00:00<00:04,  1.51it/s]\n",
      "  0%|                                                     | 0/2 [00:00<?, ?it/s]\u001b[A\n",
      "Valid 480: loss 0.711921 0.5071:   0%|                    | 0/2 [00:00<?, ?it/s]\u001b[A\n",
      "Valid 480: loss 0.711921 0.5071:  50%|██████      | 1/2 [00:00<00:00,  1.84it/s]\u001b[A\n",
      "Valid 480: loss 0.710631 0.5239: 100%|████████████| 2/2 [00:00<00:00,  3.11it/s]\u001b[A\n",
      "Epoch 480: loss 0.666593 0.6228: 100%|████████████| 8/8 [00:01<00:00,  5.54it/s]\n"
     ]
    },
    {
     "name": "stdout",
     "output_type": "stream",
     "text": [
      "EarlyStopping counter: 46 out of 100\n"
     ]
    },
    {
     "name": "stderr",
     "output_type": "stream",
     "text": [
      "Epoch 481: loss 0.665661 0.6224: 100%|████████████| 8/8 [00:01<00:00,  7.66it/s]\n",
      "Epoch 482: loss 0.665188 0.6226: 100%|████████████| 8/8 [00:01<00:00,  7.36it/s]\n",
      "Epoch 483: loss 0.666392 0.6228: 100%|████████████| 8/8 [00:00<00:00,  9.35it/s]\n",
      "Epoch 484: loss 0.665620 0.6238: 100%|████████████| 8/8 [00:00<00:00,  9.78it/s]\n",
      "Epoch 485: loss 0.666211 0.6237: 100%|████████████| 8/8 [00:00<00:00,  9.12it/s]\n",
      "Epoch 486: loss 0.668096 0.6185: 100%|████████████| 8/8 [00:00<00:00,  9.36it/s]\n",
      "Epoch 487: loss 0.666877 0.6214: 100%|████████████| 8/8 [00:00<00:00,  9.99it/s]\n",
      "Epoch 488: loss 0.666092 0.6233: 100%|████████████| 8/8 [00:00<00:00,  9.78it/s]\n",
      "Epoch 489: loss 0.665700 0.6244: 100%|████████████| 8/8 [00:00<00:00,  8.97it/s]\n",
      "Epoch 490: loss 0.665566 0.6237:  12%|█▌          | 1/8 [00:00<00:04,  1.52it/s]\n",
      "  0%|                                                     | 0/2 [00:00<?, ?it/s]\u001b[A\n",
      "Valid 490: loss 0.713273 0.5166:   0%|                    | 0/2 [00:00<?, ?it/s]\u001b[A\n",
      "Valid 490: loss 0.713273 0.5166:  50%|██████      | 1/2 [00:00<00:00,  2.03it/s]\u001b[A\n",
      "Valid 490: loss 0.714567 0.5156: 100%|████████████| 2/2 [00:00<00:00,  3.26it/s]\u001b[A\n",
      "Epoch 490: loss 0.665566 0.6237: 100%|████████████| 8/8 [00:01<00:00,  5.68it/s]\n"
     ]
    },
    {
     "name": "stdout",
     "output_type": "stream",
     "text": [
      "EarlyStopping counter: 47 out of 100\n"
     ]
    },
    {
     "name": "stderr",
     "output_type": "stream",
     "text": [
      "Epoch 491: loss 0.667071 0.6216: 100%|████████████| 8/8 [00:00<00:00, 10.31it/s]\n",
      "Epoch 492: loss 0.665366 0.6239: 100%|████████████| 8/8 [00:00<00:00, 11.16it/s]\n",
      "Epoch 493: loss 0.665346 0.6252: 100%|████████████| 8/8 [00:00<00:00, 11.83it/s]\n",
      "Epoch 494: loss 0.666311 0.6226: 100%|████████████| 8/8 [00:00<00:00, 10.76it/s]\n",
      "Epoch 495: loss 0.666433 0.6241: 100%|████████████| 8/8 [00:00<00:00, 12.22it/s]\n",
      "Epoch 496: loss 0.664897 0.6232: 100%|████████████| 8/8 [00:01<00:00,  5.04it/s]\n",
      "Epoch 497: loss 0.665137 0.6254: 100%|████████████| 8/8 [00:01<00:00,  6.36it/s]\n",
      "Epoch 498: loss 0.666393 0.6245: 100%|████████████| 8/8 [00:00<00:00,  8.22it/s]\n",
      "Epoch 499: loss 0.664593 0.6264: 100%|████████████| 8/8 [00:00<00:00,  9.65it/s]\n",
      "Epoch 500: loss 0.665554 0.6275:  38%|████▌       | 3/8 [00:01<00:01,  3.61it/s]\n",
      "  0%|                                                     | 0/2 [00:00<?, ?it/s]\u001b[A\n",
      "Valid 500: loss 0.706866 0.5294:   0%|                    | 0/2 [00:00<?, ?it/s]\u001b[A\n",
      "Valid 500: loss 0.706866 0.5294:  50%|██████      | 1/2 [00:00<00:00,  1.62it/s]\u001b[A\n",
      "Valid 500: loss 0.712729 0.5022: 100%|████████████| 2/2 [00:00<00:00,  2.71it/s]\u001b[A\n",
      "Epoch 500: loss 0.665554 0.6275: 100%|████████████| 8/8 [00:01<00:00,  4.29it/s]\n"
     ]
    },
    {
     "name": "stdout",
     "output_type": "stream",
     "text": [
      "EarlyStopping counter: 48 out of 100\n"
     ]
    },
    {
     "name": "stderr",
     "output_type": "stream",
     "text": [
      "Epoch 501: loss 0.665072 0.6264: 100%|████████████| 8/8 [00:00<00:00,  8.67it/s]\n",
      "Epoch 502: loss 0.663701 0.6265: 100%|████████████| 8/8 [00:01<00:00,  7.73it/s]\n",
      "Epoch 503: loss 0.664343 0.6258: 100%|████████████| 8/8 [00:00<00:00, 10.08it/s]\n",
      "Epoch 504: loss 0.666785 0.6242: 100%|████████████| 8/8 [00:00<00:00,  9.28it/s]\n",
      "Epoch 505: loss 0.665032 0.6257: 100%|████████████| 8/8 [00:00<00:00,  8.67it/s]\n",
      "Epoch 506: loss 0.663430 0.6277: 100%|████████████| 8/8 [00:00<00:00, 10.36it/s]\n",
      "Epoch 507: loss 0.664691 0.6242: 100%|████████████| 8/8 [00:01<00:00,  7.76it/s]\n",
      "Epoch 508: loss 0.664083 0.6264: 100%|████████████| 8/8 [00:00<00:00, 10.30it/s]\n",
      "Epoch 509: loss 0.664927 0.6282: 100%|████████████| 8/8 [00:00<00:00,  8.38it/s]\n",
      "Epoch 510: loss 0.664962 0.6258:  12%|█▌          | 1/8 [00:00<00:05,  1.22it/s]\n",
      "  0%|                                                     | 0/2 [00:00<?, ?it/s]\u001b[A\n",
      "Valid 510: loss 0.720638 0.5145:   0%|                    | 0/2 [00:00<?, ?it/s]\u001b[A\n",
      "Valid 510: loss 0.720638 0.5145:  50%|██████      | 1/2 [00:00<00:00,  1.92it/s]\u001b[A\n",
      "Valid 510: loss 0.713633 0.5242: 100%|████████████| 2/2 [00:00<00:00,  3.13it/s]\u001b[A\n",
      "Epoch 510: loss 0.664962 0.6258: 100%|████████████| 8/8 [00:01<00:00,  4.91it/s]\n"
     ]
    },
    {
     "name": "stdout",
     "output_type": "stream",
     "text": [
      "EarlyStopping counter: 49 out of 100\n"
     ]
    },
    {
     "name": "stderr",
     "output_type": "stream",
     "text": [
      "Epoch 511: loss 0.664292 0.6291: 100%|████████████| 8/8 [00:00<00:00,  8.17it/s]\n",
      "Epoch 512: loss 0.663265 0.6279: 100%|████████████| 8/8 [00:00<00:00,  9.61it/s]\n",
      "Epoch 513: loss 0.663782 0.6273: 100%|████████████| 8/8 [00:00<00:00,  9.79it/s]\n",
      "Epoch 514: loss 0.664580 0.6275: 100%|████████████| 8/8 [00:00<00:00,  9.29it/s]\n",
      "Epoch 515: loss 0.664799 0.6291: 100%|████████████| 8/8 [00:00<00:00,  8.90it/s]\n",
      "Epoch 516: loss 0.664464 0.6266: 100%|████████████| 8/8 [00:01<00:00,  7.51it/s]\n",
      "Epoch 517: loss 0.663315 0.6281: 100%|████████████| 8/8 [00:00<00:00,  8.62it/s]\n",
      "Epoch 518: loss 0.664177 0.6259: 100%|████████████| 8/8 [00:00<00:00,  8.35it/s]\n",
      "Epoch 519: loss 0.663236 0.6301: 100%|████████████| 8/8 [00:00<00:00,  8.69it/s]\n",
      "Epoch 520: loss 0.663901 0.6292:  12%|█▌          | 1/8 [00:00<00:04,  1.45it/s]\n",
      "  0%|                                                     | 0/2 [00:00<?, ?it/s]\u001b[A\n",
      "Valid 520: loss 0.711247 0.5107:   0%|                    | 0/2 [00:00<?, ?it/s]\u001b[A\n",
      "Valid 520: loss 0.711247 0.5107:  50%|██████      | 1/2 [00:00<00:00,  1.74it/s]\u001b[A\n",
      "Valid 520: loss 0.713071 0.5240: 100%|████████████| 2/2 [00:00<00:00,  2.91it/s]\u001b[A\n",
      "Epoch 520: loss 0.663901 0.6292: 100%|████████████| 8/8 [00:01<00:00,  5.20it/s]\n"
     ]
    },
    {
     "name": "stdout",
     "output_type": "stream",
     "text": [
      "EarlyStopping counter: 50 out of 100\n"
     ]
    },
    {
     "name": "stderr",
     "output_type": "stream",
     "text": [
      "Epoch 521: loss 0.662886 0.6277: 100%|████████████| 8/8 [00:00<00:00, 10.61it/s]\n",
      "Epoch 522: loss 0.664675 0.6288: 100%|████████████| 8/8 [00:00<00:00, 10.51it/s]\n",
      "Epoch 523: loss 0.662829 0.6293: 100%|████████████| 8/8 [00:00<00:00, 10.10it/s]\n",
      "Epoch 524: loss 0.664966 0.6291: 100%|████████████| 8/8 [00:00<00:00, 11.43it/s]\n",
      "Epoch 525: loss 0.663892 0.6289: 100%|████████████| 8/8 [00:00<00:00, 12.69it/s]\n",
      "Epoch 526: loss 0.664019 0.6289: 100%|████████████| 8/8 [00:00<00:00, 11.38it/s]\n",
      "Epoch 527: loss 0.665058 0.6294: 100%|████████████| 8/8 [00:00<00:00,  8.61it/s]\n",
      "Epoch 528: loss 0.666458 0.6305: 100%|████████████| 8/8 [00:00<00:00, 11.92it/s]\n",
      "Epoch 529: loss 0.667146 0.6287: 100%|████████████| 8/8 [00:00<00:00, 10.95it/s]\n",
      "Epoch 530: loss 0.666019 0.6305:  88%|██████████▌ | 7/8 [00:00<00:00,  9.82it/s]\n",
      "  0%|                                                     | 0/2 [00:00<?, ?it/s]\u001b[A\n",
      "Valid 530: loss 0.706365 0.5240:   0%|                    | 0/2 [00:00<?, ?it/s]\u001b[A\n",
      "Valid 530: loss 0.706365 0.5240:  50%|██████      | 1/2 [00:00<00:00,  1.77it/s]\u001b[A\n",
      "Valid 530: loss 0.712981 0.5149: 100%|████████████| 2/2 [00:00<00:00,  2.66it/s]\u001b[A\n",
      "Epoch 530: loss 0.666019 0.6305: 100%|████████████| 8/8 [00:01<00:00,  4.52it/s]\n"
     ]
    },
    {
     "name": "stdout",
     "output_type": "stream",
     "text": [
      "EarlyStopping counter: 51 out of 100\n"
     ]
    },
    {
     "name": "stderr",
     "output_type": "stream",
     "text": [
      "Epoch 531: loss 0.663158 0.6290: 100%|████████████| 8/8 [00:00<00:00, 10.71it/s]\n",
      "Epoch 532: loss 0.662842 0.6291: 100%|████████████| 8/8 [00:00<00:00,  9.68it/s]\n",
      "Epoch 533: loss 0.662312 0.6304: 100%|████████████| 8/8 [00:00<00:00, 12.00it/s]\n",
      "Epoch 534: loss 0.664210 0.6263: 100%|████████████| 8/8 [00:00<00:00, 10.94it/s]\n",
      "Epoch 535: loss 0.663861 0.6295: 100%|████████████| 8/8 [00:00<00:00,  9.40it/s]\n",
      "Epoch 536: loss 0.663887 0.6310: 100%|████████████| 8/8 [00:00<00:00, 11.21it/s]\n",
      "Epoch 537: loss 0.665176 0.6290: 100%|████████████| 8/8 [00:00<00:00, 10.42it/s]\n",
      "Epoch 538: loss 0.661945 0.6315: 100%|████████████| 8/8 [00:00<00:00, 10.60it/s]\n",
      "Epoch 539: loss 0.662287 0.6311: 100%|████████████| 8/8 [00:00<00:00, 11.77it/s]\n",
      "Epoch 540: loss 0.663598 0.6267:  12%|█▌          | 1/8 [00:00<00:04,  1.48it/s]\n",
      "  0%|                                                     | 0/2 [00:00<?, ?it/s]\u001b[A\n",
      "Valid 540: loss 0.723103 0.4967:   0%|                    | 0/2 [00:00<?, ?it/s]\u001b[A\n",
      "Valid 540: loss 0.723103 0.4967:  50%|██████      | 1/2 [00:00<00:00,  1.72it/s]\u001b[A\n",
      "Valid 540: loss 0.715381 0.5363: 100%|████████████| 2/2 [00:00<00:00,  2.92it/s]\u001b[A\n",
      "Epoch 540: loss 0.663598 0.6267: 100%|████████████| 8/8 [00:01<00:00,  5.34it/s]\n"
     ]
    },
    {
     "name": "stdout",
     "output_type": "stream",
     "text": [
      "EarlyStopping counter: 52 out of 100\n"
     ]
    },
    {
     "name": "stderr",
     "output_type": "stream",
     "text": [
      "Epoch 541: loss 0.662578 0.6307: 100%|████████████| 8/8 [00:00<00:00, 12.17it/s]\n",
      "Epoch 542: loss 0.661705 0.6320: 100%|████████████| 8/8 [00:00<00:00, 10.83it/s]\n",
      "Epoch 543: loss 0.661961 0.6317: 100%|████████████| 8/8 [00:00<00:00, 11.93it/s]\n",
      "Epoch 544: loss 0.662977 0.6314: 100%|████████████| 8/8 [00:00<00:00, 11.28it/s]\n",
      "Epoch 545: loss 0.662158 0.6311: 100%|████████████| 8/8 [00:00<00:00, 11.11it/s]\n",
      "Epoch 546: loss 0.661228 0.6320: 100%|████████████| 8/8 [00:00<00:00, 11.53it/s]\n",
      "Epoch 547: loss 0.662406 0.6304: 100%|████████████| 8/8 [00:00<00:00, 10.62it/s]\n",
      "Epoch 548: loss 0.662433 0.6319: 100%|████████████| 8/8 [00:02<00:00,  3.08it/s]\n",
      "Epoch 549: loss 0.663835 0.6305: 100%|████████████| 8/8 [00:00<00:00, 12.30it/s]\n",
      "Epoch 550: loss 0.662870 0.6327:  12%|█▌          | 1/8 [00:00<00:03,  1.89it/s]\n",
      "  0%|                                                     | 0/2 [00:00<?, ?it/s]\u001b[A\n",
      "Valid 550: loss 0.709933 0.5443:   0%|                    | 0/2 [00:00<?, ?it/s]\u001b[A\n",
      "Valid 550: loss 0.709933 0.5443:  50%|██████      | 1/2 [00:00<00:00,  2.17it/s]\u001b[A\n",
      "Valid 550: loss 0.717003 0.4875: 100%|████████████| 2/2 [00:00<00:00,  3.61it/s]\u001b[A\n",
      "Epoch 550: loss 0.662870 0.6327: 100%|████████████| 8/8 [00:01<00:00,  6.67it/s]\n"
     ]
    },
    {
     "name": "stdout",
     "output_type": "stream",
     "text": [
      "EarlyStopping counter: 53 out of 100\n"
     ]
    },
    {
     "name": "stderr",
     "output_type": "stream",
     "text": [
      "Epoch 551: loss 0.664264 0.6345: 100%|████████████| 8/8 [00:00<00:00, 11.56it/s]\n",
      "Epoch 552: loss 0.665084 0.6315: 100%|████████████| 8/8 [00:00<00:00, 10.35it/s]\n",
      "Epoch 553: loss 0.665849 0.6330: 100%|████████████| 8/8 [00:00<00:00, 11.80it/s]\n",
      "Epoch 554: loss 0.665347 0.6340: 100%|████████████| 8/8 [00:00<00:00,  9.64it/s]\n",
      "Epoch 555: loss 0.662887 0.6334: 100%|████████████| 8/8 [00:00<00:00, 11.42it/s]\n",
      "Epoch 556: loss 0.662844 0.6328: 100%|████████████| 8/8 [00:00<00:00, 10.33it/s]\n",
      "Epoch 557: loss 0.663297 0.6345: 100%|████████████| 8/8 [00:00<00:00, 10.54it/s]\n",
      "Epoch 558: loss 0.663031 0.6306: 100%|████████████| 8/8 [00:00<00:00, 11.32it/s]\n",
      "Epoch 559: loss 0.661934 0.6326: 100%|████████████| 8/8 [00:00<00:00, 11.53it/s]\n",
      "Epoch 560: loss 0.661489 0.6314:  12%|█▌          | 1/8 [00:00<00:04,  1.73it/s]\n",
      "  0%|                                                     | 0/2 [00:00<?, ?it/s]\u001b[A\n",
      "Valid 560: loss 0.711405 0.5467:   0%|                    | 0/2 [00:00<?, ?it/s]\u001b[A\n",
      "Valid 560: loss 0.711405 0.5467:  50%|██████      | 1/2 [00:00<00:00,  2.44it/s]\u001b[A\n",
      "Valid 560: loss 0.717135 0.4821: 100%|████████████| 2/2 [00:00<00:00,  4.15it/s]\u001b[A\n",
      "Epoch 560: loss 0.661489 0.6314: 100%|████████████| 8/8 [00:01<00:00,  6.99it/s]\n"
     ]
    },
    {
     "name": "stdout",
     "output_type": "stream",
     "text": [
      "EarlyStopping counter: 54 out of 100\n"
     ]
    },
    {
     "name": "stderr",
     "output_type": "stream",
     "text": [
      "Epoch 561: loss 0.661414 0.6346: 100%|████████████| 8/8 [00:00<00:00, 11.86it/s]\n",
      "Epoch 562: loss 0.663275 0.6303: 100%|████████████| 8/8 [00:00<00:00, 12.73it/s]\n",
      "Epoch 563: loss 0.660607 0.6364: 100%|████████████| 8/8 [00:01<00:00,  6.96it/s]\n",
      "Epoch 564: loss 0.660994 0.6335: 100%|████████████| 8/8 [00:00<00:00,  9.86it/s]\n",
      "Epoch 565: loss 0.662921 0.6297: 100%|████████████| 8/8 [00:01<00:00,  7.21it/s]\n",
      "Epoch 566: loss 0.664047 0.6322: 100%|████████████| 8/8 [00:01<00:00,  6.53it/s]\n",
      "Epoch 567: loss 0.662385 0.6314: 100%|████████████| 8/8 [00:00<00:00,  9.57it/s]\n",
      "Epoch 568: loss 0.663425 0.6320: 100%|████████████| 8/8 [00:00<00:00,  9.68it/s]\n",
      "Epoch 569: loss 0.661365 0.6328: 100%|████████████| 8/8 [00:00<00:00, 10.77it/s]\n",
      "Epoch 570: loss 0.661058 0.6360:  12%|█▌          | 1/8 [00:00<00:04,  1.69it/s]\n",
      "  0%|                                                     | 0/2 [00:00<?, ?it/s]\u001b[A\n",
      "Valid 570: loss 0.721489 0.5211:   0%|                    | 0/2 [00:00<?, ?it/s]\u001b[A\n",
      "Valid 570: loss 0.721489 0.5211:  50%|██████      | 1/2 [00:00<00:00,  2.16it/s]\u001b[A\n",
      "Valid 570: loss 0.717585 0.5175: 100%|████████████| 2/2 [00:00<00:00,  3.33it/s]\u001b[A\n",
      "Epoch 570: loss 0.661058 0.6360: 100%|████████████| 8/8 [00:01<00:00,  6.08it/s]\n"
     ]
    },
    {
     "name": "stdout",
     "output_type": "stream",
     "text": [
      "EarlyStopping counter: 55 out of 100\n"
     ]
    },
    {
     "name": "stderr",
     "output_type": "stream",
     "text": [
      "Epoch 571: loss 0.661958 0.6343: 100%|████████████| 8/8 [00:00<00:00, 11.19it/s]\n",
      "Epoch 572: loss 0.663762 0.6372: 100%|████████████| 8/8 [00:00<00:00, 10.15it/s]\n",
      "Epoch 573: loss 0.662319 0.6348: 100%|████████████| 8/8 [00:00<00:00, 12.15it/s]\n",
      "Epoch 574: loss 0.661924 0.6352: 100%|████████████| 8/8 [00:00<00:00, 10.16it/s]\n",
      "Epoch 575: loss 0.661640 0.6347: 100%|████████████| 8/8 [00:00<00:00, 11.70it/s]\n",
      "Epoch 576: loss 0.661081 0.6336: 100%|████████████| 8/8 [00:00<00:00, 10.37it/s]\n",
      "Epoch 577: loss 0.661891 0.6342: 100%|████████████| 8/8 [00:00<00:00, 10.02it/s]\n",
      "Epoch 578: loss 0.661054 0.6342: 100%|████████████| 8/8 [00:00<00:00, 10.09it/s]\n",
      "Epoch 579: loss 0.661099 0.6354: 100%|████████████| 8/8 [00:00<00:00, 11.21it/s]\n",
      "Epoch 580: loss 0.660412 0.6360:  12%|█▌          | 1/8 [00:00<00:04,  1.61it/s]\n",
      "  0%|                                                     | 0/2 [00:00<?, ?it/s]\u001b[A\n",
      "Valid 580: loss 0.722259 0.5218:   0%|                    | 0/2 [00:00<?, ?it/s]\u001b[A\n",
      "Valid 580: loss 0.722259 0.5218:  50%|██████      | 1/2 [00:00<00:00,  2.13it/s]\u001b[A\n",
      "Valid 580: loss 0.715833 0.5164: 100%|████████████| 2/2 [00:00<00:00,  3.59it/s]\u001b[A\n",
      "Epoch 580: loss 0.660412 0.6360: 100%|████████████| 8/8 [00:01<00:00,  6.21it/s]\n"
     ]
    },
    {
     "name": "stdout",
     "output_type": "stream",
     "text": [
      "EarlyStopping counter: 56 out of 100\n"
     ]
    },
    {
     "name": "stderr",
     "output_type": "stream",
     "text": [
      "Epoch 581: loss 0.659755 0.6356: 100%|████████████| 8/8 [00:00<00:00, 12.51it/s]\n",
      "Epoch 582: loss 0.660398 0.6350: 100%|████████████| 8/8 [00:00<00:00, 11.97it/s]\n",
      "Epoch 583: loss 0.660954 0.6382: 100%|████████████| 8/8 [00:00<00:00, 10.96it/s]\n",
      "Epoch 584: loss 0.660404 0.6370: 100%|████████████| 8/8 [00:00<00:00, 12.02it/s]\n",
      "Epoch 585: loss 0.660355 0.6384: 100%|████████████| 8/8 [00:00<00:00, 11.55it/s]\n",
      "Epoch 586: loss 0.660951 0.6349: 100%|████████████| 8/8 [00:00<00:00, 11.83it/s]\n",
      "Epoch 587: loss 0.662763 0.6349: 100%|████████████| 8/8 [00:00<00:00,  9.24it/s]\n",
      "Epoch 588: loss 0.662118 0.6370: 100%|████████████| 8/8 [00:00<00:00, 10.34it/s]\n",
      "Epoch 589: loss 0.664089 0.6393: 100%|████████████| 8/8 [00:00<00:00, 10.91it/s]\n",
      "Epoch 590: loss 0.667792 0.6343:  38%|████▌       | 3/8 [00:00<00:00,  5.72it/s]\n",
      "  0%|                                                     | 0/2 [00:00<?, ?it/s]\u001b[A\n",
      "Valid 590: loss 0.720709 0.5009:   0%|                    | 0/2 [00:00<?, ?it/s]\u001b[A\n",
      "Valid 590: loss 0.720709 0.5009:  50%|██████      | 1/2 [00:00<00:00,  2.09it/s]\u001b[A\n",
      "Valid 590: loss 0.719579 0.5287: 100%|████████████| 2/2 [00:00<00:00,  3.30it/s]\u001b[A\n",
      "Epoch 590: loss 0.667792 0.6343: 100%|████████████| 8/8 [00:01<00:00,  5.99it/s]\n"
     ]
    },
    {
     "name": "stdout",
     "output_type": "stream",
     "text": [
      "EarlyStopping counter: 57 out of 100\n"
     ]
    },
    {
     "name": "stderr",
     "output_type": "stream",
     "text": [
      "Epoch 591: loss 0.661642 0.6378: 100%|████████████| 8/8 [00:00<00:00, 11.34it/s]\n",
      "Epoch 592: loss 0.665765 0.6365: 100%|████████████| 8/8 [00:00<00:00, 11.53it/s]\n",
      "Epoch 593: loss 0.660558 0.6387: 100%|████████████| 8/8 [00:00<00:00, 11.80it/s]\n",
      "Epoch 594: loss 0.659302 0.6379: 100%|████████████| 8/8 [00:00<00:00, 11.35it/s]\n",
      "Epoch 595: loss 0.659786 0.6370: 100%|████████████| 8/8 [00:00<00:00, 10.80it/s]\n",
      "Epoch 596: loss 0.660965 0.6347: 100%|████████████| 8/8 [00:00<00:00, 10.44it/s]\n",
      "Epoch 597: loss 0.659961 0.6366: 100%|████████████| 8/8 [00:00<00:00, 10.91it/s]\n",
      "Epoch 598: loss 0.660240 0.6365: 100%|████████████| 8/8 [00:00<00:00, 12.64it/s]\n",
      "Epoch 599: loss 0.660245 0.6392: 100%|████████████| 8/8 [00:00<00:00, 12.57it/s]\n",
      "Epoch 600: loss 0.659417 0.6381:  12%|█▌          | 1/8 [00:00<00:03,  2.13it/s]\n",
      "  0%|                                                     | 0/2 [00:00<?, ?it/s]\u001b[A\n",
      "Valid 600: loss 0.716647 0.5296:   0%|                    | 0/2 [00:00<?, ?it/s]\u001b[A\n",
      "Valid 600: loss 0.716647 0.5296:  50%|██████      | 1/2 [00:00<00:00,  2.49it/s]\u001b[A\n",
      "Valid 600: loss 0.716111 0.5068: 100%|████████████| 2/2 [00:00<00:00,  4.20it/s]\u001b[A\n",
      "Epoch 600: loss 0.659417 0.6381: 100%|████████████| 8/8 [00:01<00:00,  7.55it/s]\n"
     ]
    },
    {
     "name": "stdout",
     "output_type": "stream",
     "text": [
      "EarlyStopping counter: 58 out of 100\n"
     ]
    },
    {
     "name": "stderr",
     "output_type": "stream",
     "text": [
      "Epoch 601: loss 0.659486 0.6362: 100%|████████████| 8/8 [00:00<00:00, 13.96it/s]\n",
      "Epoch 602: loss 0.660832 0.6332: 100%|████████████| 8/8 [00:00<00:00, 11.81it/s]\n",
      "Epoch 603: loss 0.659068 0.6368: 100%|████████████| 8/8 [00:00<00:00, 11.47it/s]\n",
      "Epoch 604: loss 0.659898 0.6351: 100%|████████████| 8/8 [00:01<00:00,  6.35it/s]\n",
      "Epoch 605: loss 0.658829 0.6385: 100%|████████████| 8/8 [00:01<00:00,  7.05it/s]\n",
      "Epoch 606: loss 0.662126 0.6290: 100%|████████████| 8/8 [00:00<00:00,  9.63it/s]\n",
      "Epoch 607: loss 0.659369 0.6378: 100%|████████████| 8/8 [00:00<00:00,  9.61it/s]\n",
      "Epoch 608: loss 0.659717 0.6379: 100%|████████████| 8/8 [00:00<00:00,  8.02it/s]\n",
      "Epoch 609: loss 0.658433 0.6393: 100%|████████████| 8/8 [00:00<00:00, 10.87it/s]\n",
      "Epoch 610: loss 0.659046 0.6379:  12%|█▌          | 1/8 [00:00<00:03,  1.76it/s]\n",
      "  0%|                                                     | 0/2 [00:00<?, ?it/s]\u001b[A\n",
      "Valid 610: loss 0.727000 0.5107:   0%|                    | 0/2 [00:00<?, ?it/s]\u001b[A\n",
      "Valid 610: loss 0.727000 0.5107:  50%|██████      | 1/2 [00:00<00:00,  2.29it/s]\u001b[A\n",
      "Valid 610: loss 0.719975 0.5250: 100%|████████████| 2/2 [00:00<00:00,  3.62it/s]\u001b[A\n",
      "Epoch 610: loss 0.659046 0.6379: 100%|████████████| 8/8 [00:01<00:00,  6.49it/s]\n"
     ]
    },
    {
     "name": "stdout",
     "output_type": "stream",
     "text": [
      "EarlyStopping counter: 59 out of 100\n"
     ]
    },
    {
     "name": "stderr",
     "output_type": "stream",
     "text": [
      "Epoch 611: loss 0.658936 0.6397: 100%|████████████| 8/8 [00:00<00:00, 11.33it/s]\n",
      "Epoch 612: loss 0.660547 0.6376: 100%|████████████| 8/8 [00:00<00:00, 12.44it/s]\n",
      "Epoch 613: loss 0.660553 0.6363: 100%|████████████| 8/8 [00:00<00:00, 12.31it/s]\n",
      "Epoch 614: loss 0.661003 0.6386: 100%|████████████| 8/8 [00:00<00:00, 11.09it/s]\n",
      "Epoch 615: loss 0.665524 0.6339: 100%|████████████| 8/8 [00:00<00:00, 12.65it/s]\n",
      "Epoch 616: loss 0.659039 0.6381: 100%|████████████| 8/8 [00:00<00:00, 10.82it/s]\n",
      "Epoch 617: loss 0.660535 0.6338: 100%|████████████| 8/8 [00:00<00:00,  9.56it/s]\n",
      "Epoch 618: loss 0.660026 0.6391: 100%|████████████| 8/8 [00:00<00:00, 11.17it/s]\n",
      "Epoch 619: loss 0.659085 0.6354: 100%|████████████| 8/8 [00:00<00:00, 10.45it/s]\n",
      "Epoch 620: loss 0.658725 0.6369:  12%|█▌          | 1/8 [00:00<00:04,  1.66it/s]\n",
      "  0%|                                                     | 0/2 [00:00<?, ?it/s]\u001b[A\n",
      "Valid 620: loss 0.717456 0.5097:   0%|                    | 0/2 [00:00<?, ?it/s]\u001b[A\n",
      "Valid 620: loss 0.717456 0.5097:  50%|██████      | 1/2 [00:00<00:00,  1.87it/s]\u001b[A\n",
      "Valid 620: loss 0.717734 0.5223: 100%|████████████| 2/2 [00:00<00:00,  3.25it/s]\u001b[A\n",
      "Epoch 620: loss 0.658725 0.6369: 100%|████████████| 8/8 [00:01<00:00,  5.99it/s]\n"
     ]
    },
    {
     "name": "stdout",
     "output_type": "stream",
     "text": [
      "EarlyStopping counter: 60 out of 100\n"
     ]
    },
    {
     "name": "stderr",
     "output_type": "stream",
     "text": [
      "Epoch 621: loss 0.660237 0.6356: 100%|████████████| 8/8 [00:00<00:00, 11.27it/s]\n",
      "Epoch 622: loss 0.658227 0.6392: 100%|████████████| 8/8 [00:00<00:00, 10.68it/s]\n",
      "Epoch 623: loss 0.659491 0.6377: 100%|████████████| 8/8 [00:00<00:00, 11.38it/s]\n",
      "Epoch 624: loss 0.658084 0.6413: 100%|████████████| 8/8 [00:00<00:00, 11.93it/s]\n",
      "Epoch 625: loss 0.660280 0.6362: 100%|████████████| 8/8 [00:00<00:00, 12.02it/s]\n",
      "Epoch 626: loss 0.661727 0.6363: 100%|████████████| 8/8 [00:00<00:00, 11.20it/s]\n",
      "Epoch 627: loss 0.659980 0.6381: 100%|████████████| 8/8 [00:00<00:00, 12.74it/s]\n",
      "Epoch 628: loss 0.660498 0.6370: 100%|████████████| 8/8 [00:00<00:00,  9.99it/s]\n",
      "Epoch 629: loss 0.657378 0.6421: 100%|████████████| 8/8 [00:00<00:00, 11.83it/s]\n",
      "Epoch 630: loss 0.658084 0.6389:  12%|█▌          | 1/8 [00:00<00:04,  1.60it/s]\n",
      "  0%|                                                     | 0/2 [00:00<?, ?it/s]\u001b[A\n",
      "Valid 630: loss 0.714200 0.5104:   0%|                    | 0/2 [00:00<?, ?it/s]\u001b[A\n",
      "Valid 630: loss 0.714200 0.5104:  50%|██████      | 1/2 [00:00<00:00,  1.87it/s]\u001b[A\n",
      "Valid 630: loss 0.717827 0.5304: 100%|████████████| 2/2 [00:00<00:00,  3.19it/s]\u001b[A\n",
      "Epoch 630: loss 0.658084 0.6389: 100%|████████████| 8/8 [00:01<00:00,  5.78it/s]\n"
     ]
    },
    {
     "name": "stdout",
     "output_type": "stream",
     "text": [
      "EarlyStopping counter: 61 out of 100\n"
     ]
    },
    {
     "name": "stderr",
     "output_type": "stream",
     "text": [
      "Epoch 631: loss 0.659505 0.6392: 100%|████████████| 8/8 [00:00<00:00, 10.91it/s]\n",
      "Epoch 632: loss 0.658584 0.6391: 100%|████████████| 8/8 [00:00<00:00, 10.33it/s]\n",
      "Epoch 633: loss 0.658543 0.6381: 100%|████████████| 8/8 [00:00<00:00, 10.43it/s]\n",
      "Epoch 634: loss 0.657773 0.6396: 100%|████████████| 8/8 [00:00<00:00, 11.41it/s]\n",
      "Epoch 635: loss 0.657222 0.6404: 100%|████████████| 8/8 [00:00<00:00, 11.15it/s]\n",
      "Epoch 636: loss 0.657204 0.6418: 100%|████████████| 8/8 [00:00<00:00, 12.51it/s]\n",
      "Epoch 637: loss 0.657376 0.6427: 100%|████████████| 8/8 [00:00<00:00, 10.30it/s]\n",
      "Epoch 638: loss 0.659857 0.6379: 100%|████████████| 8/8 [00:00<00:00, 12.04it/s]\n",
      "Epoch 639: loss 0.662704 0.6393: 100%|████████████| 8/8 [00:00<00:00, 13.11it/s]\n",
      "Epoch 640: loss 0.664236 0.6401:  12%|█▌          | 1/8 [00:00<00:03,  2.08it/s]\n",
      "  0%|                                                     | 0/2 [00:00<?, ?it/s]\u001b[A\n",
      "Valid 640: loss 0.719092 0.5345:   0%|                    | 0/2 [00:00<?, ?it/s]\u001b[A\n",
      "Valid 640: loss 0.719092 0.5345:  50%|██████      | 1/2 [00:00<00:00,  2.07it/s]\u001b[A\n",
      "Valid 640: loss 0.725615 0.5032: 100%|████████████| 2/2 [00:00<00:00,  3.59it/s]\u001b[A\n",
      "Epoch 640: loss 0.664236 0.6401: 100%|████████████| 8/8 [00:01<00:00,  6.73it/s]\n"
     ]
    },
    {
     "name": "stdout",
     "output_type": "stream",
     "text": [
      "EarlyStopping counter: 62 out of 100\n"
     ]
    },
    {
     "name": "stderr",
     "output_type": "stream",
     "text": [
      "Epoch 641: loss 0.658952 0.6418: 100%|████████████| 8/8 [00:00<00:00, 11.65it/s]\n",
      "Epoch 642: loss 0.659518 0.6417: 100%|████████████| 8/8 [00:01<00:00,  7.05it/s]\n",
      "Epoch 643: loss 0.656980 0.6420: 100%|████████████| 8/8 [00:01<00:00,  7.25it/s]\n",
      "Epoch 644: loss 0.656847 0.6419: 100%|████████████| 8/8 [00:00<00:00, 10.73it/s]\n",
      "Epoch 645: loss 0.657214 0.6402: 100%|████████████| 8/8 [00:00<00:00, 11.13it/s]\n",
      "Epoch 646: loss 0.657056 0.6423: 100%|████████████| 8/8 [00:00<00:00, 12.27it/s]\n",
      "Epoch 647: loss 0.657344 0.6404: 100%|████████████| 8/8 [00:00<00:00, 10.99it/s]\n",
      "Epoch 648: loss 0.657229 0.6406: 100%|████████████| 8/8 [00:00<00:00, 10.86it/s]\n",
      "Epoch 649: loss 0.659403 0.6405: 100%|████████████| 8/8 [00:00<00:00, 11.25it/s]\n",
      "Epoch 650: loss 0.662006 0.6390:  12%|█▌          | 1/8 [00:00<00:03,  1.88it/s]\n",
      "  0%|                                                     | 0/2 [00:00<?, ?it/s]\u001b[A\n",
      "Valid 650: loss 0.721633 0.5119:   0%|                    | 0/2 [00:00<?, ?it/s]\u001b[A\n",
      "Valid 650: loss 0.721633 0.5119:  50%|██████      | 1/2 [00:00<00:00,  2.25it/s]\u001b[A\n",
      "Valid 650: loss 0.720316 0.5180: 100%|████████████| 2/2 [00:00<00:00,  3.53it/s]\u001b[A\n",
      "Epoch 650: loss 0.662006 0.6390: 100%|████████████| 8/8 [00:01<00:00,  6.69it/s]\n"
     ]
    },
    {
     "name": "stdout",
     "output_type": "stream",
     "text": [
      "EarlyStopping counter: 63 out of 100\n"
     ]
    },
    {
     "name": "stderr",
     "output_type": "stream",
     "text": [
      "Epoch 651: loss 0.657529 0.6384: 100%|████████████| 8/8 [00:00<00:00, 11.38it/s]\n",
      "Epoch 652: loss 0.657262 0.6407: 100%|████████████| 8/8 [00:00<00:00, 10.64it/s]\n",
      "Epoch 653: loss 0.656451 0.6434: 100%|████████████| 8/8 [00:00<00:00, 12.72it/s]\n",
      "Epoch 654: loss 0.659736 0.6385: 100%|████████████| 8/8 [00:00<00:00, 11.91it/s]\n",
      "Epoch 655: loss 0.657668 0.6385: 100%|████████████| 8/8 [00:00<00:00, 11.78it/s]\n",
      "Epoch 656: loss 0.658758 0.6427: 100%|████████████| 8/8 [00:00<00:00, 12.82it/s]\n",
      "Epoch 657: loss 0.658359 0.6435: 100%|████████████| 8/8 [00:00<00:00, 11.08it/s]\n",
      "Epoch 658: loss 0.657975 0.6429: 100%|████████████| 8/8 [00:00<00:00, 11.44it/s]\n",
      "Epoch 659: loss 0.660980 0.6431: 100%|████████████| 8/8 [00:00<00:00, 11.40it/s]\n",
      "Epoch 660: loss 0.661167 0.6428:  12%|█▌          | 1/8 [00:00<00:03,  1.91it/s]\n",
      "  0%|                                                     | 0/2 [00:00<?, ?it/s]\u001b[A\n",
      "Valid 660: loss 0.721802 0.5150:   0%|                    | 0/2 [00:00<?, ?it/s]\u001b[A\n",
      "Valid 660: loss 0.721802 0.5150:  50%|██████      | 1/2 [00:00<00:00,  2.09it/s]\u001b[A\n",
      "Valid 660: loss 0.723375 0.5189: 100%|████████████| 2/2 [00:00<00:00,  3.46it/s]\u001b[A\n",
      "Epoch 660: loss 0.661167 0.6428: 100%|████████████| 8/8 [00:01<00:00,  6.30it/s]\n"
     ]
    },
    {
     "name": "stdout",
     "output_type": "stream",
     "text": [
      "EarlyStopping counter: 64 out of 100\n"
     ]
    },
    {
     "name": "stderr",
     "output_type": "stream",
     "text": [
      "Epoch 661: loss 0.656559 0.6452: 100%|████████████| 8/8 [00:00<00:00, 10.82it/s]\n",
      "Epoch 662: loss 0.657189 0.6439: 100%|████████████| 8/8 [00:02<00:00,  3.16it/s]\n",
      "Epoch 663: loss 0.656137 0.6425: 100%|████████████| 8/8 [00:00<00:00, 11.58it/s]\n",
      "Epoch 664: loss 0.657398 0.6402: 100%|████████████| 8/8 [00:00<00:00, 10.61it/s]\n",
      "Epoch 665: loss 0.656802 0.6405: 100%|████████████| 8/8 [00:00<00:00, 11.55it/s]\n",
      "Epoch 666: loss 0.657230 0.6402: 100%|████████████| 8/8 [00:00<00:00, 11.89it/s]\n",
      "Epoch 667: loss 0.657219 0.6417: 100%|████████████| 8/8 [00:00<00:00, 12.54it/s]\n",
      "Epoch 668: loss 0.657861 0.6447: 100%|████████████| 8/8 [00:00<00:00, 11.03it/s]\n",
      "Epoch 669: loss 0.655608 0.6436: 100%|████████████| 8/8 [00:00<00:00, 13.15it/s]\n",
      "Epoch 670: loss 0.656570 0.6464:  12%|█▌          | 1/8 [00:00<00:04,  1.72it/s]\n",
      "  0%|                                                     | 0/2 [00:00<?, ?it/s]\u001b[A\n",
      "Valid 670: loss 0.727044 0.5180:   0%|                    | 0/2 [00:00<?, ?it/s]\u001b[A\n",
      "Valid 670: loss 0.727044 0.5180:  50%|██████      | 1/2 [00:00<00:00,  2.18it/s]\u001b[A\n",
      "Valid 670: loss 0.720260 0.5162: 100%|████████████| 2/2 [00:00<00:00,  3.69it/s]\u001b[A\n",
      "Epoch 670: loss 0.656570 0.6464: 100%|████████████| 8/8 [00:01<00:00,  6.46it/s]\n"
     ]
    },
    {
     "name": "stdout",
     "output_type": "stream",
     "text": [
      "EarlyStopping counter: 65 out of 100\n"
     ]
    },
    {
     "name": "stderr",
     "output_type": "stream",
     "text": [
      "Epoch 671: loss 0.655461 0.6446: 100%|████████████| 8/8 [00:00<00:00, 11.64it/s]\n",
      "Epoch 672: loss 0.655800 0.6441: 100%|████████████| 8/8 [00:00<00:00, 10.46it/s]\n",
      "Epoch 673: loss 0.658013 0.6410: 100%|████████████| 8/8 [00:00<00:00, 12.54it/s]\n",
      "Epoch 674: loss 0.655668 0.6449: 100%|████████████| 8/8 [00:00<00:00, 12.10it/s]\n",
      "Epoch 675: loss 0.656441 0.6439: 100%|████████████| 8/8 [00:00<00:00, 13.29it/s]\n",
      "Epoch 676: loss 0.656533 0.6431: 100%|████████████| 8/8 [00:00<00:00, 12.35it/s]\n",
      "Epoch 677: loss 0.655263 0.6441: 100%|████████████| 8/8 [00:00<00:00, 12.67it/s]\n",
      "Epoch 678: loss 0.656149 0.6448: 100%|████████████| 8/8 [00:00<00:00,  8.32it/s]\n",
      "Epoch 679: loss 0.656228 0.6440: 100%|████████████| 8/8 [00:00<00:00, 12.30it/s]\n",
      "Epoch 680: loss 0.655807 0.6438:  88%|██████████▌ | 7/8 [00:00<00:00, 12.18it/s]\n",
      "  0%|                                                     | 0/2 [00:00<?, ?it/s]\u001b[A\n",
      "Valid 680: loss 0.717422 0.5215:   0%|                    | 0/2 [00:00<?, ?it/s]\u001b[A\n",
      "Valid 680: loss 0.717422 0.5215:  50%|██████      | 1/2 [00:00<00:00,  1.71it/s]\u001b[A\n",
      "Valid 680: loss 0.722334 0.5156: 100%|████████████| 2/2 [00:00<00:00,  2.28it/s]\u001b[A\n",
      "Epoch 680: loss 0.655807 0.6438: 100%|████████████| 8/8 [00:01<00:00,  4.26it/s]\n"
     ]
    },
    {
     "name": "stdout",
     "output_type": "stream",
     "text": [
      "EarlyStopping counter: 66 out of 100\n"
     ]
    },
    {
     "name": "stderr",
     "output_type": "stream",
     "text": [
      "Epoch 681: loss 0.656508 0.6435: 100%|████████████| 8/8 [00:01<00:00,  5.93it/s]\n",
      "Epoch 682: loss 0.657320 0.6416: 100%|████████████| 8/8 [00:00<00:00, 11.99it/s]\n",
      "Epoch 683: loss 0.655301 0.6454: 100%|████████████| 8/8 [00:00<00:00, 10.36it/s]\n",
      "Epoch 684: loss 0.655735 0.6459: 100%|████████████| 8/8 [00:00<00:00, 10.52it/s]\n",
      "Epoch 685: loss 0.656073 0.6463: 100%|████████████| 8/8 [00:00<00:00, 11.72it/s]\n",
      "Epoch 686: loss 0.660165 0.6435: 100%|████████████| 8/8 [00:00<00:00, 10.23it/s]\n",
      "Epoch 687: loss 0.655680 0.6448: 100%|████████████| 8/8 [00:00<00:00, 11.46it/s]\n",
      "Epoch 688: loss 0.655938 0.6451: 100%|████████████| 8/8 [00:00<00:00,  9.26it/s]\n",
      "Epoch 689: loss 0.655203 0.6450: 100%|████████████| 8/8 [00:00<00:00,  8.90it/s]\n",
      "Epoch 690: loss 0.657248 0.6429:  12%|█▌          | 1/8 [00:00<00:03,  1.81it/s]\n",
      "  0%|                                                     | 0/2 [00:00<?, ?it/s]\u001b[A\n",
      "Valid 690: loss 0.707825 0.5466:   0%|                    | 0/2 [00:00<?, ?it/s]\u001b[A\n",
      "Valid 690: loss 0.707825 0.5466:  50%|██████      | 1/2 [00:00<00:00,  2.37it/s]\u001b[A\n",
      "Valid 690: loss 0.721312 0.4903: 100%|████████████| 2/2 [00:00<00:00,  3.85it/s]\u001b[A\n",
      "Epoch 690: loss 0.657248 0.6429: 100%|████████████| 8/8 [00:01<00:00,  6.68it/s]\n"
     ]
    },
    {
     "name": "stdout",
     "output_type": "stream",
     "text": [
      "EarlyStopping counter: 67 out of 100\n"
     ]
    },
    {
     "name": "stderr",
     "output_type": "stream",
     "text": [
      "Epoch 691: loss 0.655570 0.6443: 100%|████████████| 8/8 [00:00<00:00, 11.44it/s]\n",
      "Epoch 692: loss 0.656839 0.6449: 100%|████████████| 8/8 [00:00<00:00, 10.58it/s]\n",
      "Epoch 693: loss 0.659370 0.6463: 100%|████████████| 8/8 [00:00<00:00, 12.69it/s]\n",
      "Epoch 694: loss 0.655359 0.6447: 100%|████████████| 8/8 [00:00<00:00, 10.53it/s]\n",
      "Epoch 695: loss 0.655816 0.6436: 100%|████████████| 8/8 [00:00<00:00, 10.11it/s]\n",
      "Epoch 696: loss 0.656126 0.6445: 100%|████████████| 8/8 [00:00<00:00, 11.68it/s]\n",
      "Epoch 697: loss 0.656503 0.6464: 100%|████████████| 8/8 [00:00<00:00, 11.71it/s]\n",
      "Epoch 698: loss 0.657087 0.6451: 100%|████████████| 8/8 [00:00<00:00, 11.10it/s]\n",
      "Epoch 699: loss 0.656124 0.6438: 100%|████████████| 8/8 [00:00<00:00, 10.50it/s]\n",
      "Epoch 700: loss 0.655924 0.6453:  12%|█▌          | 1/8 [00:00<00:04,  1.61it/s]\n",
      "  0%|                                                     | 0/2 [00:00<?, ?it/s]\u001b[A\n",
      "Valid 700: loss 0.719649 0.5070:   0%|                    | 0/2 [00:00<?, ?it/s]\u001b[A\n",
      "Valid 700: loss 0.719649 0.5070:  50%|██████      | 1/2 [00:00<00:00,  2.37it/s]\u001b[A\n",
      "Valid 700: loss 0.721302 0.5267: 100%|████████████| 2/2 [00:00<00:00,  4.02it/s]\u001b[A\n",
      "Epoch 700: loss 0.655924 0.6453: 100%|████████████| 8/8 [00:01<00:00,  6.39it/s]\n"
     ]
    },
    {
     "name": "stdout",
     "output_type": "stream",
     "text": [
      "EarlyStopping counter: 68 out of 100\n"
     ]
    },
    {
     "name": "stderr",
     "output_type": "stream",
     "text": [
      "Epoch 701: loss 0.658322 0.6471: 100%|████████████| 8/8 [00:00<00:00, 11.43it/s]\n",
      "Epoch 702: loss 0.658142 0.6479: 100%|████████████| 8/8 [00:00<00:00, 12.29it/s]\n",
      "Epoch 703: loss 0.657787 0.6480: 100%|████████████| 8/8 [00:00<00:00, 11.03it/s]\n",
      "Epoch 704: loss 0.658893 0.6459: 100%|████████████| 8/8 [00:00<00:00, 10.87it/s]\n",
      "Epoch 705: loss 0.659418 0.6457: 100%|████████████| 8/8 [00:00<00:00,  8.96it/s]\n",
      "Epoch 706: loss 0.661543 0.6484: 100%|████████████| 8/8 [00:00<00:00, 11.79it/s]\n",
      "Epoch 707: loss 0.660526 0.6440: 100%|████████████| 8/8 [00:00<00:00, 11.81it/s]\n",
      "Epoch 708: loss 0.659262 0.6459: 100%|████████████| 8/8 [00:00<00:00, 11.93it/s]\n",
      "Epoch 709: loss 0.656169 0.6463: 100%|████████████| 8/8 [00:00<00:00, 10.97it/s]\n",
      "Epoch 710: loss 0.655721 0.6453:  12%|█▌          | 1/8 [00:00<00:04,  1.61it/s]\n",
      "  0%|                                                     | 0/2 [00:00<?, ?it/s]\u001b[A\n",
      "Valid 710: loss 0.725865 0.5122:   0%|                    | 0/2 [00:00<?, ?it/s]\u001b[A\n",
      "Valid 710: loss 0.725865 0.5122:  50%|██████      | 1/2 [00:00<00:00,  2.35it/s]\u001b[A\n",
      "Valid 710: loss 0.725885 0.5159: 100%|████████████| 2/2 [00:00<00:00,  3.74it/s]\u001b[A\n",
      "Epoch 710: loss 0.655721 0.6453: 100%|████████████| 8/8 [00:01<00:00,  6.16it/s]\n"
     ]
    },
    {
     "name": "stdout",
     "output_type": "stream",
     "text": [
      "EarlyStopping counter: 69 out of 100\n"
     ]
    },
    {
     "name": "stderr",
     "output_type": "stream",
     "text": [
      "Epoch 711: loss 0.657898 0.6463: 100%|████████████| 8/8 [00:00<00:00, 12.01it/s]\n",
      "Epoch 712: loss 0.654490 0.6450: 100%|████████████| 8/8 [00:00<00:00, 13.03it/s]\n",
      "Epoch 713: loss 0.656466 0.6446: 100%|████████████| 8/8 [00:00<00:00, 13.26it/s]\n",
      "Epoch 714: loss 0.656092 0.6487: 100%|████████████| 8/8 [00:00<00:00, 12.76it/s]\n",
      "Epoch 715: loss 0.655541 0.6466: 100%|████████████| 8/8 [00:00<00:00, 13.08it/s]\n",
      "Epoch 716: loss 0.658295 0.6450: 100%|████████████| 8/8 [00:00<00:00,  8.71it/s]\n",
      "Epoch 717: loss 0.657947 0.6436: 100%|████████████| 8/8 [00:00<00:00, 11.77it/s]\n",
      "Epoch 718: loss 0.656543 0.6469: 100%|████████████| 8/8 [00:01<00:00,  6.07it/s]\n",
      "Epoch 719: loss 0.656172 0.6492: 100%|████████████| 8/8 [00:01<00:00,  7.36it/s]\n",
      "Epoch 720: loss 0.658086 0.6484:  12%|█▌          | 1/8 [00:00<00:04,  1.56it/s]\n",
      "  0%|                                                     | 0/2 [00:00<?, ?it/s]\u001b[A\n",
      "Valid 720: loss 0.734563 0.5092:   0%|                    | 0/2 [00:00<?, ?it/s]\u001b[A\n",
      "Valid 720: loss 0.734563 0.5092:  50%|██████      | 1/2 [00:00<00:00,  2.05it/s]\u001b[A\n",
      "Valid 720: loss 0.732912 0.5275: 100%|████████████| 2/2 [00:00<00:00,  3.37it/s]\u001b[A\n",
      "Epoch 720: loss 0.658086 0.6484: 100%|████████████| 8/8 [00:01<00:00,  5.91it/s]\n"
     ]
    },
    {
     "name": "stdout",
     "output_type": "stream",
     "text": [
      "EarlyStopping counter: 70 out of 100\n"
     ]
    },
    {
     "name": "stderr",
     "output_type": "stream",
     "text": [
      "Epoch 721: loss 0.657178 0.6463: 100%|████████████| 8/8 [00:00<00:00, 10.36it/s]\n",
      "Epoch 722: loss 0.655875 0.6442: 100%|████████████| 8/8 [00:00<00:00, 12.07it/s]\n",
      "Epoch 723: loss 0.656214 0.6437: 100%|████████████| 8/8 [00:00<00:00,  8.53it/s]\n",
      "Epoch 724: loss 0.654647 0.6467: 100%|████████████| 8/8 [00:00<00:00, 11.35it/s]\n",
      "Epoch 725: loss 0.656786 0.6421: 100%|████████████| 8/8 [00:00<00:00, 11.31it/s]\n",
      "Epoch 726: loss 0.654008 0.6467: 100%|████████████| 8/8 [00:00<00:00, 12.33it/s]\n",
      "Epoch 727: loss 0.655676 0.6439: 100%|████████████| 8/8 [00:00<00:00,  9.88it/s]\n",
      "Epoch 728: loss 0.655341 0.6435: 100%|████████████| 8/8 [00:00<00:00, 10.93it/s]\n",
      "Epoch 729: loss 0.654744 0.6483: 100%|████████████| 8/8 [00:00<00:00, 12.25it/s]\n",
      "Epoch 730: loss 0.657026 0.6457:  12%|█▌          | 1/8 [00:00<00:04,  1.72it/s]\n",
      "  0%|                                                     | 0/2 [00:00<?, ?it/s]\u001b[A\n",
      "Valid 730: loss 0.730989 0.5018:   0%|                    | 0/2 [00:00<?, ?it/s]\u001b[A\n",
      "Valid 730: loss 0.730989 0.5018:  50%|██████      | 1/2 [00:00<00:00,  2.05it/s]\u001b[A\n",
      "Valid 730: loss 0.721897 0.5362: 100%|████████████| 2/2 [00:00<00:00,  3.52it/s]\u001b[A\n",
      "Epoch 730: loss 0.657026 0.6457: 100%|████████████| 8/8 [00:01<00:00,  6.05it/s]\n"
     ]
    },
    {
     "name": "stdout",
     "output_type": "stream",
     "text": [
      "EarlyStopping counter: 71 out of 100\n"
     ]
    },
    {
     "name": "stderr",
     "output_type": "stream",
     "text": [
      "Epoch 731: loss 0.656531 0.6478: 100%|████████████| 8/8 [00:00<00:00, 10.59it/s]\n",
      "Epoch 732: loss 0.654848 0.6511: 100%|████████████| 8/8 [00:00<00:00, 11.04it/s]\n",
      "Epoch 733: loss 0.656146 0.6499: 100%|████████████| 8/8 [00:00<00:00, 11.37it/s]\n",
      "Epoch 734: loss 0.654670 0.6488: 100%|████████████| 8/8 [00:00<00:00, 12.59it/s]\n",
      "Epoch 735: loss 0.655510 0.6478: 100%|████████████| 8/8 [00:00<00:00, 10.90it/s]\n",
      "Epoch 736: loss 0.659845 0.6486: 100%|████████████| 8/8 [00:00<00:00, 10.62it/s]\n",
      "Epoch 737: loss 0.657222 0.6501: 100%|████████████| 8/8 [00:00<00:00, 11.78it/s]\n",
      "Epoch 738: loss 0.653081 0.6508: 100%|████████████| 8/8 [00:00<00:00, 12.23it/s]\n",
      "Epoch 739: loss 0.656751 0.6465: 100%|████████████| 8/8 [00:00<00:00, 11.06it/s]\n",
      "Epoch 740: loss 0.653356 0.6506:  12%|█▌          | 1/8 [00:00<00:03,  2.00it/s]\n",
      "  0%|                                                     | 0/2 [00:00<?, ?it/s]\u001b[A\n",
      "Valid 740: loss 0.710460 0.5402:   0%|                    | 0/2 [00:00<?, ?it/s]\u001b[A\n",
      "Valid 740: loss 0.710460 0.5402:  50%|██████      | 1/2 [00:00<00:00,  2.11it/s]\u001b[A\n",
      "Valid 740: loss 0.723488 0.4925: 100%|████████████| 2/2 [00:00<00:00,  3.52it/s]\u001b[A\n",
      "Epoch 740: loss 0.653356 0.6506: 100%|████████████| 8/8 [00:01<00:00,  6.70it/s]\n"
     ]
    },
    {
     "name": "stdout",
     "output_type": "stream",
     "text": [
      "EarlyStopping counter: 72 out of 100\n"
     ]
    },
    {
     "name": "stderr",
     "output_type": "stream",
     "text": [
      "Epoch 741: loss 0.654239 0.6476: 100%|████████████| 8/8 [00:00<00:00,  9.40it/s]\n",
      "Epoch 742: loss 0.652192 0.6510: 100%|████████████| 8/8 [00:00<00:00, 10.67it/s]\n",
      "Epoch 743: loss 0.653305 0.6491: 100%|████████████| 8/8 [00:00<00:00, 10.28it/s]\n",
      "Epoch 744: loss 0.654625 0.6484: 100%|████████████| 8/8 [00:00<00:00, 10.60it/s]\n",
      "Epoch 745: loss 0.654510 0.6532: 100%|████████████| 8/8 [00:00<00:00, 12.12it/s]\n",
      "Epoch 746: loss 0.654966 0.6510: 100%|████████████| 8/8 [00:00<00:00, 10.46it/s]\n",
      "Epoch 747: loss 0.654850 0.6476: 100%|████████████| 8/8 [00:00<00:00, 12.78it/s]\n",
      "Epoch 748: loss 0.657200 0.6500: 100%|████████████| 8/8 [00:00<00:00, 11.26it/s]\n",
      "Epoch 749: loss 0.653253 0.6496: 100%|████████████| 8/8 [00:00<00:00, 12.39it/s]\n",
      "Epoch 750: loss 0.653136 0.6499:  12%|█▌          | 1/8 [00:00<00:03,  2.04it/s]\n",
      "  0%|                                                     | 0/2 [00:00<?, ?it/s]\u001b[A\n",
      "Valid 750: loss 0.732950 0.5032:   0%|                    | 0/2 [00:00<?, ?it/s]\u001b[A\n",
      "Valid 750: loss 0.732950 0.5032:  50%|██████      | 1/2 [00:00<00:00,  2.23it/s]\u001b[A\n",
      "Valid 750: loss 0.725704 0.5300: 100%|████████████| 2/2 [00:00<00:00,  3.64it/s]\u001b[A\n",
      "Epoch 750: loss 0.653136 0.6499: 100%|████████████| 8/8 [00:01<00:00,  6.80it/s]\n"
     ]
    },
    {
     "name": "stdout",
     "output_type": "stream",
     "text": [
      "EarlyStopping counter: 73 out of 100\n"
     ]
    },
    {
     "name": "stderr",
     "output_type": "stream",
     "text": [
      "Epoch 751: loss 0.653521 0.6510: 100%|████████████| 8/8 [00:00<00:00, 11.73it/s]\n",
      "Epoch 752: loss 0.652835 0.6526: 100%|████████████| 8/8 [00:00<00:00, 10.51it/s]\n",
      "Epoch 753: loss 0.654157 0.6481: 100%|████████████| 8/8 [00:01<00:00,  5.65it/s]\n",
      "Epoch 754: loss 0.652344 0.6505: 100%|████████████| 8/8 [00:01<00:00,  6.08it/s]\n",
      "Epoch 755: loss 0.652928 0.6539: 100%|████████████| 8/8 [00:01<00:00,  7.27it/s]\n",
      "Epoch 756: loss 0.654313 0.6501: 100%|████████████| 8/8 [00:00<00:00,  9.47it/s]\n",
      "Epoch 757: loss 0.655259 0.6498: 100%|████████████| 8/8 [00:00<00:00, 10.30it/s]\n",
      "Epoch 758: loss 0.653289 0.6519: 100%|████████████| 8/8 [00:00<00:00, 10.04it/s]\n",
      "Epoch 759: loss 0.654471 0.6489: 100%|████████████| 8/8 [00:00<00:00, 11.83it/s]\n",
      "Epoch 760: loss 0.656024 0.6491:  50%|██████      | 4/8 [00:00<00:00,  6.67it/s]\n",
      "  0%|                                                     | 0/2 [00:00<?, ?it/s]\u001b[A\n",
      "Valid 760: loss 0.713002 0.5480:   0%|                    | 0/2 [00:00<?, ?it/s]\u001b[A\n",
      "Valid 760: loss 0.713002 0.5480:  50%|██████      | 1/2 [00:00<00:00,  2.26it/s]\u001b[A\n",
      "Valid 760: loss 0.727211 0.4842: 100%|████████████| 2/2 [00:00<00:00,  3.82it/s]\u001b[A\n",
      "Epoch 760: loss 0.656024 0.6491: 100%|████████████| 8/8 [00:01<00:00,  5.90it/s]\n"
     ]
    },
    {
     "name": "stdout",
     "output_type": "stream",
     "text": [
      "EarlyStopping counter: 74 out of 100\n"
     ]
    },
    {
     "name": "stderr",
     "output_type": "stream",
     "text": [
      "Epoch 761: loss 0.653715 0.6526: 100%|████████████| 8/8 [00:00<00:00, 13.03it/s]\n",
      "Epoch 762: loss 0.652113 0.6529: 100%|████████████| 8/8 [00:00<00:00, 13.30it/s]\n",
      "Epoch 763: loss 0.654139 0.6483: 100%|████████████| 8/8 [00:00<00:00, 13.23it/s]\n",
      "Epoch 764: loss 0.657171 0.6482: 100%|████████████| 8/8 [00:00<00:00, 12.04it/s]\n",
      "Epoch 765: loss 0.653324 0.6526: 100%|████████████| 8/8 [00:00<00:00, 10.97it/s]\n",
      "Epoch 766: loss 0.652398 0.6505: 100%|████████████| 8/8 [00:01<00:00,  6.44it/s]\n",
      "Epoch 767: loss 0.654083 0.6504: 100%|████████████| 8/8 [00:01<00:00,  7.75it/s]\n",
      "Epoch 768: loss 0.654829 0.6511: 100%|████████████| 8/8 [00:00<00:00, 11.42it/s]\n",
      "Epoch 769: loss 0.651768 0.6507: 100%|████████████| 8/8 [00:00<00:00, 11.30it/s]\n",
      "Epoch 770: loss 0.652812 0.6538:  12%|█▌          | 1/8 [00:00<00:03,  1.80it/s]\n",
      "  0%|                                                     | 0/2 [00:00<?, ?it/s]\u001b[A\n",
      "Valid 770: loss 0.719266 0.5144:   0%|                    | 0/2 [00:00<?, ?it/s]\u001b[A\n",
      "Valid 770: loss 0.719266 0.5144:  50%|██████      | 1/2 [00:00<00:00,  2.26it/s]\u001b[A\n",
      "Valid 770: loss 0.725590 0.5181: 100%|████████████| 2/2 [00:00<00:00,  3.84it/s]\u001b[A\n",
      "Epoch 770: loss 0.652812 0.6538: 100%|████████████| 8/8 [00:01<00:00,  6.69it/s]\n"
     ]
    },
    {
     "name": "stdout",
     "output_type": "stream",
     "text": [
      "EarlyStopping counter: 75 out of 100\n"
     ]
    },
    {
     "name": "stderr",
     "output_type": "stream",
     "text": [
      "Epoch 771: loss 0.660287 0.6509: 100%|████████████| 8/8 [00:00<00:00, 11.41it/s]\n",
      "Epoch 772: loss 0.661030 0.6514: 100%|████████████| 8/8 [00:00<00:00, 10.83it/s]\n",
      "Epoch 773: loss 0.653145 0.6527: 100%|████████████| 8/8 [00:00<00:00, 10.29it/s]\n",
      "Epoch 774: loss 0.654921 0.6522: 100%|████████████| 8/8 [00:00<00:00, 10.28it/s]\n",
      "Epoch 775: loss 0.654675 0.6544: 100%|████████████| 8/8 [00:02<00:00,  2.81it/s]\n",
      "Epoch 776: loss 0.653682 0.6521: 100%|████████████| 8/8 [00:00<00:00, 11.19it/s]\n",
      "Epoch 777: loss 0.652196 0.6521: 100%|████████████| 8/8 [00:00<00:00, 12.01it/s]\n",
      "Epoch 778: loss 0.652356 0.6538: 100%|████████████| 8/8 [00:00<00:00, 11.78it/s]\n",
      "Epoch 779: loss 0.653567 0.6548: 100%|████████████| 8/8 [00:00<00:00, 12.11it/s]\n",
      "Epoch 780: loss 0.655314 0.6527:  12%|█▌          | 1/8 [00:00<00:04,  1.71it/s]\n",
      "  0%|                                                     | 0/2 [00:00<?, ?it/s]\u001b[A\n",
      "Valid 780: loss 0.718518 0.5355:   0%|                    | 0/2 [00:00<?, ?it/s]\u001b[A\n",
      "Valid 780: loss 0.718518 0.5355:  50%|██████      | 1/2 [00:00<00:00,  2.45it/s]\u001b[A\n",
      "Valid 780: loss 0.732927 0.4922: 100%|████████████| 2/2 [00:00<00:00,  3.82it/s]\u001b[A\n",
      "Epoch 780: loss 0.655314 0.6527: 100%|████████████| 8/8 [00:01<00:00,  6.49it/s]\n"
     ]
    },
    {
     "name": "stdout",
     "output_type": "stream",
     "text": [
      "EarlyStopping counter: 76 out of 100\n"
     ]
    },
    {
     "name": "stderr",
     "output_type": "stream",
     "text": [
      "Epoch 781: loss 0.652106 0.6519: 100%|████████████| 8/8 [00:00<00:00, 11.49it/s]\n",
      "Epoch 782: loss 0.650774 0.6532: 100%|████████████| 8/8 [00:00<00:00,  9.48it/s]\n",
      "Epoch 783: loss 0.652488 0.6530: 100%|████████████| 8/8 [00:00<00:00,  9.21it/s]\n",
      "Epoch 784: loss 0.652568 0.6520: 100%|████████████| 8/8 [00:00<00:00, 10.07it/s]\n",
      "Epoch 785: loss 0.655882 0.6526: 100%|████████████| 8/8 [00:00<00:00, 11.31it/s]\n",
      "Epoch 786: loss 0.652394 0.6544: 100%|████████████| 8/8 [00:00<00:00, 12.21it/s]\n",
      "Epoch 787: loss 0.651047 0.6528: 100%|████████████| 8/8 [00:00<00:00, 11.97it/s]\n",
      "Epoch 788: loss 0.653095 0.6515: 100%|████████████| 8/8 [00:00<00:00, 11.16it/s]\n",
      "Epoch 789: loss 0.652352 0.6506: 100%|████████████| 8/8 [00:00<00:00, 11.52it/s]\n",
      "Epoch 790: loss 0.652325 0.6551:  12%|█▌          | 1/8 [00:00<00:03,  1.83it/s]\n",
      "  0%|                                                     | 0/2 [00:00<?, ?it/s]\u001b[A\n",
      "Valid 790: loss 0.737091 0.4971:   0%|                    | 0/2 [00:00<?, ?it/s]\u001b[A\n",
      "Valid 790: loss 0.737091 0.4971:  50%|██████      | 1/2 [00:00<00:00,  2.00it/s]\u001b[A\n",
      "Valid 790: loss 0.727955 0.5395: 100%|████████████| 2/2 [00:00<00:00,  3.30it/s]\u001b[A\n",
      "Epoch 790: loss 0.652325 0.6551: 100%|████████████| 8/8 [00:01<00:00,  6.27it/s]\n"
     ]
    },
    {
     "name": "stdout",
     "output_type": "stream",
     "text": [
      "EarlyStopping counter: 77 out of 100\n"
     ]
    },
    {
     "name": "stderr",
     "output_type": "stream",
     "text": [
      "Epoch 791: loss 0.651436 0.6549: 100%|████████████| 8/8 [00:00<00:00, 11.00it/s]\n",
      "Epoch 792: loss 0.652225 0.6539: 100%|████████████| 8/8 [00:00<00:00, 10.31it/s]\n",
      "Epoch 793: loss 0.651257 0.6513: 100%|████████████| 8/8 [00:00<00:00, 10.77it/s]\n",
      "Epoch 794: loss 0.652036 0.6547: 100%|████████████| 8/8 [00:00<00:00,  9.18it/s]\n",
      "Epoch 795: loss 0.659251 0.6525: 100%|████████████| 8/8 [00:00<00:00, 12.37it/s]\n",
      "Epoch 796: loss 0.653583 0.6527: 100%|████████████| 8/8 [00:00<00:00,  9.76it/s]\n",
      "Epoch 797: loss 0.651245 0.6521: 100%|████████████| 8/8 [00:00<00:00, 10.67it/s]\n",
      "Epoch 798: loss 0.651163 0.6527: 100%|████████████| 8/8 [00:00<00:00, 11.37it/s]\n",
      "Epoch 799: loss 0.650438 0.6546: 100%|████████████| 8/8 [00:00<00:00,  9.45it/s]\n",
      "Epoch 800: loss 0.656146 0.6545:  12%|█▌          | 1/8 [00:00<00:04,  1.73it/s]\n",
      "  0%|                                                     | 0/2 [00:00<?, ?it/s]\u001b[A\n",
      "Valid 800: loss 0.732901 0.5207:   0%|                    | 0/2 [00:00<?, ?it/s]\u001b[A\n",
      "Valid 800: loss 0.732901 0.5207:  50%|██████      | 1/2 [00:00<00:00,  1.91it/s]\u001b[A\n",
      "Valid 800: loss 0.733007 0.5195: 100%|████████████| 2/2 [00:00<00:00,  3.26it/s]\u001b[A\n",
      "Epoch 800: loss 0.656146 0.6545: 100%|████████████| 8/8 [00:01<00:00,  5.89it/s]\n"
     ]
    },
    {
     "name": "stdout",
     "output_type": "stream",
     "text": [
      "EarlyStopping counter: 78 out of 100\n"
     ]
    },
    {
     "name": "stderr",
     "output_type": "stream",
     "text": [
      "Epoch 801: loss 0.657104 0.6546: 100%|████████████| 8/8 [00:00<00:00,  8.23it/s]\n",
      "Epoch 802: loss 0.650663 0.6531: 100%|████████████| 8/8 [00:01<00:00,  5.80it/s]\n",
      "Epoch 803: loss 0.651391 0.6532: 100%|████████████| 8/8 [00:00<00:00,  8.31it/s]\n",
      "Epoch 804: loss 0.650728 0.6547: 100%|████████████| 8/8 [00:00<00:00, 10.94it/s]\n",
      "Epoch 805: loss 0.651501 0.6533: 100%|████████████| 8/8 [00:00<00:00, 11.05it/s]\n",
      "Epoch 806: loss 0.650435 0.6544: 100%|████████████| 8/8 [00:00<00:00, 10.54it/s]\n",
      "Epoch 807: loss 0.650981 0.6533: 100%|████████████| 8/8 [00:00<00:00, 12.30it/s]\n",
      "Epoch 808: loss 0.650498 0.6537: 100%|████████████| 8/8 [00:00<00:00, 11.64it/s]\n",
      "Epoch 809: loss 0.653554 0.6532: 100%|████████████| 8/8 [00:00<00:00, 11.83it/s]\n",
      "Epoch 810: loss 0.653992 0.6543:  12%|█▌          | 1/8 [00:00<00:03,  1.80it/s]\n",
      "  0%|                                                     | 0/2 [00:00<?, ?it/s]\u001b[A\n",
      "Valid 810: loss 0.714443 0.5238:   0%|                    | 0/2 [00:00<?, ?it/s]\u001b[A\n",
      "Valid 810: loss 0.714443 0.5238:  50%|██████      | 1/2 [00:00<00:00,  2.29it/s]\u001b[A\n",
      "Valid 810: loss 0.728594 0.5103: 100%|████████████| 2/2 [00:00<00:00,  3.82it/s]\u001b[A\n",
      "Epoch 810: loss 0.653992 0.6543: 100%|████████████| 8/8 [00:01<00:00,  6.53it/s]\n"
     ]
    },
    {
     "name": "stdout",
     "output_type": "stream",
     "text": [
      "EarlyStopping counter: 79 out of 100\n"
     ]
    },
    {
     "name": "stderr",
     "output_type": "stream",
     "text": [
      "Epoch 811: loss 0.650388 0.6538: 100%|████████████| 8/8 [00:00<00:00, 11.32it/s]\n",
      "Epoch 812: loss 0.649890 0.6553: 100%|████████████| 8/8 [00:00<00:00,  8.84it/s]\n",
      "Epoch 813: loss 0.652134 0.6529: 100%|████████████| 8/8 [00:00<00:00, 10.54it/s]\n",
      "Epoch 814: loss 0.652416 0.6568: 100%|████████████| 8/8 [00:00<00:00, 11.16it/s]\n",
      "Epoch 815: loss 0.654625 0.6548: 100%|████████████| 8/8 [00:00<00:00, 11.68it/s]\n",
      "Epoch 816: loss 0.650973 0.6558: 100%|████████████| 8/8 [00:00<00:00, 12.74it/s]\n",
      "Epoch 817: loss 0.652989 0.6525: 100%|████████████| 8/8 [00:00<00:00, 12.11it/s]\n",
      "Epoch 818: loss 0.651379 0.6553: 100%|████████████| 8/8 [00:00<00:00, 10.14it/s]\n",
      "Epoch 819: loss 0.652560 0.6525: 100%|████████████| 8/8 [00:00<00:00, 12.11it/s]\n",
      "Epoch 820: loss 0.650785 0.6557:  12%|█▌          | 1/8 [00:00<00:03,  1.80it/s]\n",
      "  0%|                                                     | 0/2 [00:00<?, ?it/s]\u001b[A\n",
      "Valid 820: loss 0.712093 0.5419:   0%|                    | 0/2 [00:00<?, ?it/s]\u001b[A\n",
      "Valid 820: loss 0.712093 0.5419:  50%|██████      | 1/2 [00:00<00:00,  2.35it/s]\u001b[A\n",
      "Valid 820: loss 0.730347 0.4927: 100%|████████████| 2/2 [00:00<00:00,  3.71it/s]\u001b[A\n",
      "Epoch 820: loss 0.650785 0.6557: 100%|████████████| 8/8 [00:01<00:00,  6.64it/s]\n"
     ]
    },
    {
     "name": "stdout",
     "output_type": "stream",
     "text": [
      "EarlyStopping counter: 80 out of 100\n"
     ]
    },
    {
     "name": "stderr",
     "output_type": "stream",
     "text": [
      "Epoch 821: loss 0.651312 0.6518: 100%|████████████| 8/8 [00:00<00:00, 11.95it/s]\n",
      "Epoch 822: loss 0.650767 0.6547: 100%|████████████| 8/8 [00:00<00:00, 11.23it/s]\n",
      "Epoch 823: loss 0.651716 0.6541: 100%|████████████| 8/8 [00:00<00:00, 10.81it/s]\n",
      "Epoch 824: loss 0.652131 0.6524: 100%|████████████| 8/8 [00:00<00:00, 10.03it/s]\n",
      "Epoch 825: loss 0.651421 0.6545: 100%|████████████| 8/8 [00:00<00:00,  9.87it/s]\n",
      "Epoch 826: loss 0.657926 0.6507: 100%|████████████| 8/8 [00:00<00:00,  8.93it/s]\n",
      "Epoch 827: loss 0.656491 0.6502: 100%|████████████| 8/8 [00:00<00:00, 10.06it/s]\n",
      "Epoch 828: loss 0.654606 0.6541: 100%|████████████| 8/8 [00:00<00:00, 10.32it/s]\n",
      "Epoch 829: loss 0.661158 0.6559: 100%|████████████| 8/8 [00:00<00:00, 11.63it/s]\n",
      "Epoch 830: loss 0.649847 0.6557:  12%|█▌          | 1/8 [00:00<00:03,  1.82it/s]\n",
      "  0%|                                                     | 0/2 [00:00<?, ?it/s]\u001b[A\n",
      "Valid 830: loss 0.717470 0.5260:   0%|                    | 0/2 [00:00<?, ?it/s]\u001b[A\n",
      "Valid 830: loss 0.717470 0.5260:  50%|██████      | 1/2 [00:00<00:00,  1.90it/s]\u001b[A\n",
      "Valid 830: loss 0.730054 0.5021: 100%|████████████| 2/2 [00:00<00:00,  3.18it/s]\u001b[A\n",
      "Epoch 830: loss 0.649847 0.6557: 100%|████████████| 8/8 [00:01<00:00,  6.01it/s]\n"
     ]
    },
    {
     "name": "stdout",
     "output_type": "stream",
     "text": [
      "EarlyStopping counter: 81 out of 100\n"
     ]
    },
    {
     "name": "stderr",
     "output_type": "stream",
     "text": [
      "Epoch 831: loss 0.649212 0.6566: 100%|████████████| 8/8 [00:00<00:00, 11.66it/s]\n",
      "Epoch 832: loss 0.650417 0.6568: 100%|████████████| 8/8 [00:00<00:00, 10.15it/s]\n",
      "Epoch 833: loss 0.649780 0.6573: 100%|████████████| 8/8 [00:00<00:00, 10.64it/s]\n",
      "Epoch 834: loss 0.650925 0.6546: 100%|████████████| 8/8 [00:00<00:00, 12.43it/s]\n",
      "Epoch 835: loss 0.651299 0.6540: 100%|████████████| 8/8 [00:00<00:00, 12.90it/s]\n",
      "Epoch 836: loss 0.654308 0.6528: 100%|████████████| 8/8 [00:00<00:00, 12.58it/s]\n",
      "Epoch 837: loss 0.657950 0.6578: 100%|████████████| 8/8 [00:00<00:00, 10.76it/s]\n",
      "Epoch 838: loss 0.650925 0.6568: 100%|████████████| 8/8 [00:00<00:00,  9.61it/s]\n",
      "Epoch 839: loss 0.649504 0.6559: 100%|████████████| 8/8 [00:00<00:00, 12.02it/s]\n",
      "Epoch 840: loss 0.651143 0.6539:  12%|█▌          | 1/8 [00:00<00:04,  1.60it/s]\n",
      "  0%|                                                     | 0/2 [00:00<?, ?it/s]\u001b[A\n",
      "Valid 840: loss 0.734194 0.5099:   0%|                    | 0/2 [00:00<?, ?it/s]\u001b[A\n",
      "Valid 840: loss 0.734194 0.5099:  50%|██████      | 1/2 [00:00<00:00,  1.54it/s]\u001b[A\n",
      "Valid 840: loss 0.729567 0.5306: 100%|████████████| 2/2 [00:00<00:00,  2.32it/s]\u001b[A\n",
      "Epoch 840: loss 0.651143 0.6539: 100%|████████████| 8/8 [00:01<00:00,  4.78it/s]\n"
     ]
    },
    {
     "name": "stdout",
     "output_type": "stream",
     "text": [
      "EarlyStopping counter: 82 out of 100\n"
     ]
    },
    {
     "name": "stderr",
     "output_type": "stream",
     "text": [
      "Epoch 841: loss 0.652293 0.6550: 100%|████████████| 8/8 [00:01<00:00,  6.41it/s]\n",
      "Epoch 842: loss 0.666057 0.6474: 100%|████████████| 8/8 [00:00<00:00, 10.63it/s]\n",
      "Epoch 843: loss 0.653035 0.6555: 100%|████████████| 8/8 [00:00<00:00,  9.12it/s]\n",
      "Epoch 844: loss 0.648705 0.6581: 100%|████████████| 8/8 [00:00<00:00, 10.18it/s]\n",
      "Epoch 845: loss 0.649717 0.6552: 100%|████████████| 8/8 [00:00<00:00, 10.70it/s]\n",
      "Epoch 846: loss 0.650959 0.6572: 100%|████████████| 8/8 [00:00<00:00,  9.05it/s]\n",
      "Epoch 847: loss 0.653681 0.6512: 100%|████████████| 8/8 [00:00<00:00, 11.76it/s]\n",
      "Epoch 848: loss 0.650127 0.6530: 100%|████████████| 8/8 [00:00<00:00, 11.97it/s]\n",
      "Epoch 849: loss 0.652693 0.6530: 100%|████████████| 8/8 [00:00<00:00, 12.37it/s]\n",
      "Epoch 850: loss 0.651248 0.6565:  12%|█▌          | 1/8 [00:00<00:04,  1.73it/s]\n",
      "  0%|                                                     | 0/2 [00:00<?, ?it/s]\u001b[A\n",
      "Valid 850: loss 0.720301 0.5308:   0%|                    | 0/2 [00:00<?, ?it/s]\u001b[A\n",
      "Valid 850: loss 0.720301 0.5308:  50%|██████      | 1/2 [00:00<00:00,  2.05it/s]\u001b[A\n",
      "Valid 850: loss 0.732192 0.5120: 100%|████████████| 2/2 [00:00<00:00,  3.43it/s]\u001b[A\n",
      "Epoch 850: loss 0.651248 0.6565: 100%|████████████| 8/8 [00:01<00:00,  6.25it/s]\n"
     ]
    },
    {
     "name": "stdout",
     "output_type": "stream",
     "text": [
      "EarlyStopping counter: 83 out of 100\n"
     ]
    },
    {
     "name": "stderr",
     "output_type": "stream",
     "text": [
      "Epoch 851: loss 0.650437 0.6574: 100%|████████████| 8/8 [00:00<00:00, 11.33it/s]\n",
      "Epoch 852: loss 0.649698 0.6558: 100%|████████████| 8/8 [00:00<00:00, 10.66it/s]\n",
      "Epoch 853: loss 0.651600 0.6561: 100%|████████████| 8/8 [00:00<00:00, 10.80it/s]\n",
      "Epoch 854: loss 0.653778 0.6559: 100%|████████████| 8/8 [00:00<00:00,  9.64it/s]\n",
      "Epoch 855: loss 0.649259 0.6568: 100%|████████████| 8/8 [00:00<00:00, 10.36it/s]\n",
      "Epoch 856: loss 0.649203 0.6592: 100%|████████████| 8/8 [00:00<00:00, 11.39it/s]\n",
      "Epoch 857: loss 0.648851 0.6572: 100%|████████████| 8/8 [00:00<00:00,  8.94it/s]\n",
      "Epoch 858: loss 0.648872 0.6564: 100%|████████████| 8/8 [00:00<00:00, 11.80it/s]\n",
      "Epoch 859: loss 0.648441 0.6595: 100%|████████████| 8/8 [00:00<00:00, 12.62it/s]\n",
      "Epoch 860: loss 0.652224 0.6554:  12%|█▌          | 1/8 [00:00<00:03,  1.88it/s]\n",
      "  0%|                                                     | 0/2 [00:00<?, ?it/s]\u001b[A\n",
      "Valid 860: loss 0.752586 0.4892:   0%|                    | 0/2 [00:00<?, ?it/s]\u001b[A\n",
      "Valid 860: loss 0.752586 0.4892:  50%|██████      | 1/2 [00:00<00:00,  2.12it/s]\u001b[A\n",
      "Valid 860: loss 0.734220 0.5432: 100%|████████████| 2/2 [00:00<00:00,  3.71it/s]\u001b[A\n",
      "Epoch 860: loss 0.652224 0.6554: 100%|████████████| 8/8 [00:01<00:00,  6.39it/s]\n"
     ]
    },
    {
     "name": "stdout",
     "output_type": "stream",
     "text": [
      "EarlyStopping counter: 84 out of 100\n"
     ]
    },
    {
     "name": "stderr",
     "output_type": "stream",
     "text": [
      "Epoch 861: loss 0.652794 0.6541: 100%|████████████| 8/8 [00:00<00:00,  9.66it/s]\n",
      "Epoch 862: loss 0.651232 0.6570: 100%|████████████| 8/8 [00:00<00:00,  9.79it/s]\n",
      "Epoch 863: loss 0.649364 0.6586: 100%|████████████| 8/8 [00:00<00:00,  8.24it/s]\n",
      "Epoch 864: loss 0.656076 0.6556: 100%|████████████| 8/8 [00:00<00:00, 11.05it/s]\n",
      "Epoch 865: loss 0.648253 0.6579: 100%|████████████| 8/8 [00:00<00:00,  9.90it/s]\n",
      "Epoch 866: loss 0.649403 0.6561: 100%|████████████| 8/8 [00:00<00:00, 11.45it/s]\n",
      "Epoch 867: loss 0.650789 0.6553: 100%|████████████| 8/8 [00:00<00:00, 11.65it/s]\n",
      "Epoch 868: loss 0.649134 0.6571: 100%|████████████| 8/8 [00:00<00:00, 11.27it/s]\n",
      "Epoch 869: loss 0.650188 0.6540: 100%|████████████| 8/8 [00:00<00:00, 12.16it/s]\n",
      "Epoch 870: loss 0.650004 0.6569:  12%|█▌          | 1/8 [00:00<00:04,  1.73it/s]\n",
      "  0%|                                                     | 0/2 [00:00<?, ?it/s]\u001b[A\n",
      "Valid 870: loss 0.722290 0.5262:   0%|                    | 0/2 [00:00<?, ?it/s]\u001b[A\n",
      "Valid 870: loss 0.722290 0.5262:  50%|██████      | 1/2 [00:00<00:00,  2.22it/s]\u001b[A\n",
      "Valid 870: loss 0.733110 0.5050: 100%|████████████| 2/2 [00:00<00:00,  3.81it/s]\u001b[A\n",
      "Epoch 870: loss 0.650004 0.6569: 100%|████████████| 8/8 [00:01<00:00,  6.46it/s]\n"
     ]
    },
    {
     "name": "stdout",
     "output_type": "stream",
     "text": [
      "EarlyStopping counter: 85 out of 100\n"
     ]
    },
    {
     "name": "stderr",
     "output_type": "stream",
     "text": [
      "Epoch 871: loss 0.648434 0.6582: 100%|████████████| 8/8 [00:00<00:00, 12.38it/s]\n",
      "Epoch 872: loss 0.648128 0.6590: 100%|████████████| 8/8 [00:00<00:00, 10.28it/s]\n",
      "Epoch 873: loss 0.651023 0.6548: 100%|████████████| 8/8 [00:00<00:00, 13.49it/s]\n",
      "Epoch 874: loss 0.651911 0.6542: 100%|████████████| 8/8 [00:00<00:00, 13.48it/s]\n",
      "Epoch 875: loss 0.648231 0.6578: 100%|████████████| 8/8 [00:00<00:00, 12.46it/s]\n",
      "Epoch 876: loss 0.650696 0.6580: 100%|████████████| 8/8 [00:00<00:00, 10.37it/s]\n",
      "Epoch 877: loss 0.650851 0.6575: 100%|████████████| 8/8 [00:00<00:00, 10.96it/s]\n",
      "Epoch 878: loss 0.648459 0.6595: 100%|████████████| 8/8 [00:01<00:00,  7.62it/s]\n",
      "Epoch 879: loss 0.648596 0.6577: 100%|████████████| 8/8 [00:00<00:00,  8.50it/s]\n",
      "Epoch 880: loss 0.650142 0.6547:  12%|█▌          | 1/8 [00:00<00:04,  1.62it/s]\n",
      "  0%|                                                     | 0/2 [00:00<?, ?it/s]\u001b[A\n",
      "Valid 880: loss 0.735560 0.4919:   0%|                    | 0/2 [00:00<?, ?it/s]\u001b[A\n",
      "Valid 880: loss 0.735560 0.4919:  50%|██████      | 1/2 [00:00<00:00,  2.19it/s]\u001b[A\n",
      "Valid 880: loss 0.735271 0.5323: 100%|████████████| 2/2 [00:00<00:00,  3.72it/s]\u001b[A\n",
      "Epoch 880: loss 0.650142 0.6547: 100%|████████████| 8/8 [00:01<00:00,  6.29it/s]\n"
     ]
    },
    {
     "name": "stdout",
     "output_type": "stream",
     "text": [
      "EarlyStopping counter: 86 out of 100\n"
     ]
    },
    {
     "name": "stderr",
     "output_type": "stream",
     "text": [
      "Epoch 881: loss 0.647765 0.6597: 100%|████████████| 8/8 [00:00<00:00, 12.35it/s]\n",
      "Epoch 882: loss 0.649392 0.6563: 100%|████████████| 8/8 [00:00<00:00, 11.14it/s]\n",
      "Epoch 883: loss 0.648533 0.6596: 100%|████████████| 8/8 [00:00<00:00, 10.70it/s]\n",
      "Epoch 884: loss 0.648177 0.6575: 100%|████████████| 8/8 [00:00<00:00, 11.89it/s]\n",
      "Epoch 885: loss 0.648369 0.6577: 100%|████████████| 8/8 [00:00<00:00, 11.07it/s]\n",
      "Epoch 886: loss 0.649392 0.6589: 100%|████████████| 8/8 [00:00<00:00,  9.97it/s]\n",
      "Epoch 887: loss 0.649399 0.6590: 100%|████████████| 8/8 [00:00<00:00, 10.28it/s]\n",
      "Epoch 888: loss 0.649455 0.6591: 100%|████████████| 8/8 [00:00<00:00, 11.72it/s]\n",
      "Epoch 889: loss 0.651349 0.6573: 100%|████████████| 8/8 [00:00<00:00, 12.97it/s]\n",
      "Epoch 890: loss 0.649738 0.6547:  62%|███████▌    | 5/8 [00:02<00:01,  2.74it/s]\n",
      "  0%|                                                     | 0/2 [00:00<?, ?it/s]\u001b[A\n",
      "Valid 890: loss 0.718898 0.5313:   0%|                    | 0/2 [00:00<?, ?it/s]\u001b[A\n",
      "Valid 890: loss 0.718898 0.5313:  50%|██████      | 1/2 [00:00<00:00,  2.26it/s]\u001b[A\n",
      "Valid 890: loss 0.733524 0.4928: 100%|████████████| 2/2 [00:00<00:00,  3.72it/s]\u001b[A\n",
      "Epoch 890: loss 0.649738 0.6547: 100%|████████████| 8/8 [00:03<00:00,  2.60it/s]\n"
     ]
    },
    {
     "name": "stdout",
     "output_type": "stream",
     "text": [
      "EarlyStopping counter: 87 out of 100\n"
     ]
    },
    {
     "name": "stderr",
     "output_type": "stream",
     "text": [
      "Epoch 891: loss 0.648245 0.6600: 100%|████████████| 8/8 [00:00<00:00, 10.44it/s]\n",
      "Epoch 892: loss 0.649519 0.6595: 100%|████████████| 8/8 [00:00<00:00, 11.28it/s]\n",
      "Epoch 893: loss 0.649539 0.6579: 100%|████████████| 8/8 [00:00<00:00,  8.45it/s]\n",
      "Epoch 894: loss 0.648735 0.6592: 100%|████████████| 8/8 [00:00<00:00, 11.09it/s]\n",
      "Epoch 895: loss 0.648213 0.6585: 100%|████████████| 8/8 [00:00<00:00, 10.58it/s]\n",
      "Epoch 896: loss 0.648565 0.6577: 100%|████████████| 8/8 [00:00<00:00, 10.74it/s]\n",
      "Epoch 897: loss 0.648681 0.6609: 100%|████████████| 8/8 [00:00<00:00, 12.01it/s]\n",
      "Epoch 898: loss 0.648191 0.6607: 100%|████████████| 8/8 [00:00<00:00, 12.07it/s]\n",
      "Epoch 899: loss 0.647266 0.6613: 100%|████████████| 8/8 [00:00<00:00, 12.31it/s]\n",
      "Epoch 900: loss 0.648420 0.6575:  12%|█▌          | 1/8 [00:00<00:03,  1.79it/s]\n",
      "  0%|                                                     | 0/2 [00:00<?, ?it/s]\u001b[A\n",
      "Valid 900: loss 0.750462 0.4856:   0%|                    | 0/2 [00:00<?, ?it/s]\u001b[A\n",
      "Valid 900: loss 0.750462 0.4856:  50%|██████      | 1/2 [00:00<00:00,  2.24it/s]\u001b[A\n",
      "Valid 900: loss 0.734607 0.5369: 100%|████████████| 2/2 [00:00<00:00,  3.54it/s]\u001b[A\n",
      "Epoch 900: loss 0.648420 0.6575: 100%|████████████| 8/8 [00:01<00:00,  6.51it/s]\n"
     ]
    },
    {
     "name": "stdout",
     "output_type": "stream",
     "text": [
      "EarlyStopping counter: 88 out of 100\n"
     ]
    },
    {
     "name": "stderr",
     "output_type": "stream",
     "text": [
      "Epoch 901: loss 0.649204 0.6564: 100%|████████████| 8/8 [00:00<00:00, 11.61it/s]\n",
      "Epoch 902: loss 0.649663 0.6578: 100%|████████████| 8/8 [00:00<00:00, 12.29it/s]\n",
      "Epoch 903: loss 0.648276 0.6574: 100%|████████████| 8/8 [00:00<00:00,  9.77it/s]\n",
      "Epoch 904: loss 0.649972 0.6581: 100%|████████████| 8/8 [00:00<00:00,  8.54it/s]\n",
      "Epoch 905: loss 0.647899 0.6593: 100%|████████████| 8/8 [00:00<00:00,  8.54it/s]\n",
      "Epoch 906: loss 0.647348 0.6604: 100%|████████████| 8/8 [00:00<00:00,  9.81it/s]\n",
      "Epoch 907: loss 0.646680 0.6604: 100%|████████████| 8/8 [00:00<00:00, 10.81it/s]\n",
      "Epoch 908: loss 0.647337 0.6615: 100%|████████████| 8/8 [00:00<00:00, 10.95it/s]\n",
      "Epoch 909: loss 0.647419 0.6611: 100%|████████████| 8/8 [00:00<00:00, 11.34it/s]\n",
      "Epoch 910: loss 0.648017 0.6580:  50%|██████      | 4/8 [00:00<00:00,  6.22it/s]\n",
      "  0%|                                                     | 0/2 [00:00<?, ?it/s]\u001b[A\n",
      "Valid 910: loss 0.725025 0.5252:   0%|                    | 0/2 [00:00<?, ?it/s]\u001b[A\n",
      "Valid 910: loss 0.725025 0.5252:  50%|██████      | 1/2 [00:00<00:00,  2.54it/s]\u001b[A\n",
      "Valid 910: loss 0.738975 0.5074: 100%|████████████| 2/2 [00:00<00:00,  4.27it/s]\u001b[A\n",
      "Epoch 910: loss 0.648017 0.6580: 100%|████████████| 8/8 [00:01<00:00,  6.00it/s]\n"
     ]
    },
    {
     "name": "stdout",
     "output_type": "stream",
     "text": [
      "EarlyStopping counter: 89 out of 100\n"
     ]
    },
    {
     "name": "stderr",
     "output_type": "stream",
     "text": [
      "Epoch 911: loss 0.652662 0.6573: 100%|████████████| 8/8 [00:00<00:00, 12.38it/s]\n",
      "Epoch 912: loss 0.650105 0.6584: 100%|████████████| 8/8 [00:00<00:00, 10.75it/s]\n",
      "Epoch 913: loss 0.647938 0.6601: 100%|████████████| 8/8 [00:00<00:00, 10.72it/s]\n",
      "Epoch 914: loss 0.646867 0.6608: 100%|████████████| 8/8 [00:01<00:00,  6.87it/s]\n",
      "Epoch 915: loss 0.649050 0.6565: 100%|████████████| 8/8 [00:01<00:00,  7.46it/s]\n",
      "Epoch 916: loss 0.648808 0.6606: 100%|████████████| 8/8 [00:00<00:00,  9.74it/s]\n",
      "Epoch 917: loss 0.647166 0.6625: 100%|████████████| 8/8 [00:00<00:00, 10.71it/s]\n",
      "Epoch 918: loss 0.648703 0.6575: 100%|████████████| 8/8 [00:00<00:00,  9.49it/s]\n",
      "Epoch 919: loss 0.654260 0.6572: 100%|████████████| 8/8 [00:00<00:00, 10.47it/s]\n",
      "Epoch 920: loss 0.651864 0.6622:  12%|█▌          | 1/8 [00:00<00:03,  1.85it/s]\n",
      "  0%|                                                     | 0/2 [00:00<?, ?it/s]\u001b[A\n",
      "Valid 920: loss 0.724305 0.5319:   0%|                    | 0/2 [00:00<?, ?it/s]\u001b[A\n",
      "Valid 920: loss 0.724305 0.5319:  50%|██████      | 1/2 [00:00<00:00,  1.93it/s]\u001b[A\n",
      "Valid 920: loss 0.738066 0.4931: 100%|████████████| 2/2 [00:00<00:00,  3.30it/s]\u001b[A\n",
      "Epoch 920: loss 0.651864 0.6622: 100%|████████████| 8/8 [00:01<00:00,  6.30it/s]\n"
     ]
    },
    {
     "name": "stdout",
     "output_type": "stream",
     "text": [
      "EarlyStopping counter: 90 out of 100\n"
     ]
    },
    {
     "name": "stderr",
     "output_type": "stream",
     "text": [
      "Epoch 921: loss 0.648194 0.6622: 100%|████████████| 8/8 [00:00<00:00, 10.42it/s]\n",
      "Epoch 922: loss 0.647184 0.6613: 100%|████████████| 8/8 [00:00<00:00, 10.87it/s]\n",
      "Epoch 923: loss 0.652818 0.6591: 100%|████████████| 8/8 [00:00<00:00, 10.83it/s]\n",
      "Epoch 924: loss 0.650044 0.6578: 100%|████████████| 8/8 [00:00<00:00,  9.92it/s]\n",
      "Epoch 925: loss 0.648051 0.6599: 100%|████████████| 8/8 [00:00<00:00,  9.75it/s]\n",
      "Epoch 926: loss 0.647944 0.6598: 100%|████████████| 8/8 [00:00<00:00,  9.78it/s]\n",
      "Epoch 927: loss 0.653955 0.6558: 100%|████████████| 8/8 [00:00<00:00, 11.45it/s]\n",
      "Epoch 928: loss 0.647254 0.6622: 100%|████████████| 8/8 [00:00<00:00, 10.71it/s]\n",
      "Epoch 929: loss 0.648478 0.6615: 100%|████████████| 8/8 [00:00<00:00, 11.13it/s]\n",
      "Epoch 930: loss 0.650043 0.6619:  12%|█▌          | 1/8 [00:00<00:03,  1.88it/s]\n",
      "  0%|                                                     | 0/2 [00:00<?, ?it/s]\u001b[A\n",
      "Valid 930: loss 0.733388 0.5192:   0%|                    | 0/2 [00:00<?, ?it/s]\u001b[A\n",
      "Valid 930: loss 0.733388 0.5192:  50%|██████      | 1/2 [00:00<00:00,  2.29it/s]\u001b[A\n",
      "Valid 930: loss 0.738878 0.5061: 100%|████████████| 2/2 [00:00<00:00,  3.83it/s]\u001b[A\n",
      "Epoch 930: loss 0.650043 0.6619: 100%|████████████| 8/8 [00:01<00:00,  6.74it/s]\n"
     ]
    },
    {
     "name": "stdout",
     "output_type": "stream",
     "text": [
      "EarlyStopping counter: 91 out of 100\n"
     ]
    },
    {
     "name": "stderr",
     "output_type": "stream",
     "text": [
      "Epoch 931: loss 0.646495 0.6633: 100%|████████████| 8/8 [00:00<00:00, 11.52it/s]\n",
      "Epoch 932: loss 0.653567 0.6594: 100%|████████████| 8/8 [00:00<00:00, 11.05it/s]\n",
      "Epoch 933: loss 0.651862 0.6621: 100%|████████████| 8/8 [00:00<00:00, 11.09it/s]\n",
      "Epoch 934: loss 0.651279 0.6607: 100%|████████████| 8/8 [00:00<00:00, 10.58it/s]\n",
      "Epoch 935: loss 0.649196 0.6619: 100%|████████████| 8/8 [00:00<00:00, 10.04it/s]\n",
      "Epoch 936: loss 0.647191 0.6638: 100%|████████████| 8/8 [00:00<00:00,  9.46it/s]\n",
      "Epoch 937: loss 0.649933 0.6625: 100%|████████████| 8/8 [00:00<00:00, 10.47it/s]\n",
      "Epoch 938: loss 0.651891 0.6633: 100%|████████████| 8/8 [00:00<00:00, 10.33it/s]\n",
      "Epoch 939: loss 0.646519 0.6610: 100%|████████████| 8/8 [00:00<00:00, 12.16it/s]\n",
      "Epoch 940: loss 0.646760 0.6613:  12%|█▌          | 1/8 [00:00<00:03,  1.75it/s]\n",
      "  0%|                                                     | 0/2 [00:00<?, ?it/s]\u001b[A\n",
      "Valid 940: loss 0.749308 0.4973:   0%|                    | 0/2 [00:00<?, ?it/s]\u001b[A\n",
      "Valid 940: loss 0.749308 0.4973:  50%|██████      | 1/2 [00:00<00:00,  2.38it/s]\u001b[A\n",
      "Valid 940: loss 0.736241 0.5307: 100%|████████████| 2/2 [00:00<00:00,  3.68it/s]\u001b[A\n",
      "Epoch 940: loss 0.646760 0.6613: 100%|████████████| 8/8 [00:01<00:00,  6.59it/s]\n"
     ]
    },
    {
     "name": "stdout",
     "output_type": "stream",
     "text": [
      "EarlyStopping counter: 92 out of 100\n"
     ]
    },
    {
     "name": "stderr",
     "output_type": "stream",
     "text": [
      "Epoch 941: loss 0.647184 0.6591: 100%|████████████| 8/8 [00:00<00:00, 10.40it/s]\n",
      "Epoch 942: loss 0.646330 0.6624: 100%|████████████| 8/8 [00:00<00:00, 11.82it/s]\n",
      "Epoch 943: loss 0.647405 0.6604: 100%|████████████| 8/8 [00:00<00:00, 12.02it/s]\n",
      "Epoch 944: loss 0.646922 0.6618: 100%|████████████| 8/8 [00:00<00:00, 12.88it/s]\n",
      "Epoch 945: loss 0.645994 0.6617: 100%|████████████| 8/8 [00:00<00:00, 11.91it/s]\n",
      "Epoch 946: loss 0.650729 0.6591: 100%|████████████| 8/8 [00:00<00:00, 10.79it/s]\n",
      "Epoch 947: loss 0.648470 0.6599: 100%|████████████| 8/8 [00:00<00:00, 11.25it/s]\n",
      "Epoch 948: loss 0.648492 0.6642: 100%|████████████| 8/8 [00:00<00:00, 12.17it/s]\n",
      "Epoch 949: loss 0.645821 0.6639: 100%|████████████| 8/8 [00:00<00:00, 13.24it/s]\n",
      "Epoch 950: loss 0.645538 0.6640:  88%|██████████▌ | 7/8 [00:00<00:00, 14.06it/s]\n",
      "  0%|                                                     | 0/2 [00:00<?, ?it/s]\u001b[A\n",
      "Valid 950: loss 0.757124 0.5048:   0%|                    | 0/2 [00:00<?, ?it/s]\u001b[A\n",
      "Valid 950: loss 0.757124 0.5048:  50%|██████      | 1/2 [00:00<00:00,  2.15it/s]\u001b[A\n",
      "Valid 950: loss 0.744785 0.5204: 100%|████████████| 2/2 [00:00<00:00,  3.31it/s]\u001b[A\n",
      "Epoch 950: loss 0.645538 0.6640: 100%|████████████| 8/8 [00:01<00:00,  6.19it/s]\n"
     ]
    },
    {
     "name": "stdout",
     "output_type": "stream",
     "text": [
      "EarlyStopping counter: 93 out of 100\n"
     ]
    },
    {
     "name": "stderr",
     "output_type": "stream",
     "text": [
      "Epoch 951: loss 0.649060 0.6615: 100%|████████████| 8/8 [00:00<00:00, 10.44it/s]\n",
      "Epoch 952: loss 0.646773 0.6611: 100%|████████████| 8/8 [00:01<00:00,  7.96it/s]\n",
      "Epoch 953: loss 0.646009 0.6625: 100%|████████████| 8/8 [00:01<00:00,  6.86it/s]\n",
      "Epoch 954: loss 0.646769 0.6594: 100%|████████████| 8/8 [00:00<00:00, 10.01it/s]\n",
      "Epoch 955: loss 0.647134 0.6618: 100%|████████████| 8/8 [00:00<00:00, 10.63it/s]\n",
      "Epoch 956: loss 0.646971 0.6623: 100%|████████████| 8/8 [00:00<00:00, 10.54it/s]\n",
      "Epoch 957: loss 0.646499 0.6633: 100%|████████████| 8/8 [00:00<00:00,  9.36it/s]\n",
      "Epoch 958: loss 0.646758 0.6620: 100%|████████████| 8/8 [00:00<00:00, 10.30it/s]\n",
      "Epoch 959: loss 0.647496 0.6610: 100%|████████████| 8/8 [00:00<00:00,  8.69it/s]\n",
      "Epoch 960: loss 0.652258 0.6596:  12%|█▌          | 1/8 [00:00<00:03,  1.87it/s]\n",
      "  0%|                                                     | 0/2 [00:00<?, ?it/s]\u001b[A\n",
      "Valid 960: loss 0.746893 0.5224:   0%|                    | 0/2 [00:00<?, ?it/s]\u001b[A\n",
      "Valid 960: loss 0.746893 0.5224:  50%|██████      | 1/2 [00:00<00:00,  2.24it/s]\u001b[A\n",
      "Valid 960: loss 0.747076 0.5089: 100%|████████████| 2/2 [00:00<00:00,  3.82it/s]\u001b[A\n",
      "Epoch 960: loss 0.652258 0.6596: 100%|████████████| 8/8 [00:01<00:00,  6.73it/s]\n"
     ]
    },
    {
     "name": "stdout",
     "output_type": "stream",
     "text": [
      "EarlyStopping counter: 94 out of 100\n"
     ]
    },
    {
     "name": "stderr",
     "output_type": "stream",
     "text": [
      "Epoch 961: loss 0.647371 0.6642: 100%|████████████| 8/8 [00:00<00:00, 12.47it/s]\n",
      "Epoch 962: loss 0.646133 0.6630: 100%|████████████| 8/8 [00:00<00:00, 10.63it/s]\n",
      "Epoch 963: loss 0.649252 0.6602: 100%|████████████| 8/8 [00:00<00:00, 10.77it/s]\n",
      "Epoch 964: loss 0.646335 0.6649: 100%|████████████| 8/8 [00:00<00:00, 12.22it/s]\n",
      "Epoch 965: loss 0.648896 0.6620: 100%|████████████| 8/8 [00:00<00:00,  9.63it/s]\n",
      "Epoch 966: loss 0.651691 0.6636: 100%|████████████| 8/8 [00:00<00:00,  8.69it/s]\n",
      "Epoch 967: loss 0.647174 0.6633: 100%|████████████| 8/8 [00:00<00:00, 10.44it/s]\n",
      "Epoch 968: loss 0.647606 0.6635: 100%|████████████| 8/8 [00:00<00:00,  9.92it/s]\n",
      "Epoch 969: loss 0.649963 0.6606: 100%|████████████| 8/8 [00:00<00:00,  9.67it/s]\n",
      "Epoch 970: loss 0.647915 0.6595:  12%|█▌          | 1/8 [00:00<00:04,  1.65it/s]\n",
      "  0%|                                                     | 0/2 [00:00<?, ?it/s]\u001b[A\n",
      "Valid 970: loss 0.732595 0.5412:   0%|                    | 0/2 [00:00<?, ?it/s]\u001b[A\n",
      "Valid 970: loss 0.732595 0.5412:  50%|██████      | 1/2 [00:00<00:00,  2.20it/s]\u001b[A\n",
      "Valid 970: loss 0.741997 0.4820: 100%|████████████| 2/2 [00:00<00:00,  3.74it/s]\u001b[A\n",
      "Epoch 970: loss 0.647915 0.6595: 100%|████████████| 8/8 [00:01<00:00,  6.25it/s]\n"
     ]
    },
    {
     "name": "stdout",
     "output_type": "stream",
     "text": [
      "EarlyStopping counter: 95 out of 100\n"
     ]
    },
    {
     "name": "stderr",
     "output_type": "stream",
     "text": [
      "Epoch 971: loss 0.647480 0.6605: 100%|████████████| 8/8 [00:00<00:00, 11.75it/s]\n",
      "Epoch 972: loss 0.645399 0.6636: 100%|████████████| 8/8 [00:00<00:00, 12.44it/s]\n",
      "Epoch 973: loss 0.648106 0.6581: 100%|████████████| 8/8 [00:00<00:00, 12.07it/s]\n",
      "Epoch 974: loss 0.646999 0.6600: 100%|████████████| 8/8 [00:00<00:00, 11.18it/s]\n",
      "Epoch 975: loss 0.646556 0.6638: 100%|████████████| 8/8 [00:00<00:00, 12.15it/s]\n",
      "Epoch 976: loss 0.645500 0.6625: 100%|████████████| 8/8 [00:00<00:00, 11.29it/s]\n",
      "Epoch 977: loss 0.646413 0.6649: 100%|████████████| 8/8 [00:00<00:00, 11.45it/s]\n",
      "Epoch 978: loss 0.646054 0.6621: 100%|████████████| 8/8 [00:00<00:00, 10.39it/s]\n",
      "Epoch 979: loss 0.649188 0.6619: 100%|████████████| 8/8 [00:00<00:00, 11.33it/s]\n",
      "Epoch 980: loss 0.651171 0.6579:  12%|█▌          | 1/8 [00:00<00:03,  1.93it/s]\n",
      "  0%|                                                     | 0/2 [00:00<?, ?it/s]\u001b[A\n",
      "Valid 980: loss 0.739184 0.4963:   0%|                    | 0/2 [00:00<?, ?it/s]\u001b[A\n",
      "Valid 980: loss 0.739184 0.4963:  50%|██████      | 1/2 [00:00<00:00,  2.00it/s]\u001b[A\n",
      "Valid 980: loss 0.747063 0.5198: 100%|████████████| 2/2 [00:00<00:00,  3.28it/s]\u001b[A\n",
      "Epoch 980: loss 0.651171 0.6579: 100%|████████████| 8/8 [00:01<00:00,  6.34it/s]\n"
     ]
    },
    {
     "name": "stdout",
     "output_type": "stream",
     "text": [
      "EarlyStopping counter: 96 out of 100\n"
     ]
    },
    {
     "name": "stderr",
     "output_type": "stream",
     "text": [
      "Epoch 981: loss 0.647840 0.6633: 100%|████████████| 8/8 [00:00<00:00, 11.93it/s]\n",
      "Epoch 982: loss 0.647059 0.6640: 100%|████████████| 8/8 [00:00<00:00,  9.42it/s]\n",
      "Epoch 983: loss 0.647404 0.6642: 100%|████████████| 8/8 [00:00<00:00,  9.24it/s]\n",
      "Epoch 984: loss 0.646001 0.6626: 100%|████████████| 8/8 [00:00<00:00, 10.46it/s]\n",
      "Epoch 985: loss 0.645745 0.6640: 100%|████████████| 8/8 [00:00<00:00, 12.63it/s]\n",
      "Epoch 986: loss 0.644595 0.6659: 100%|████████████| 8/8 [00:00<00:00, 12.03it/s]\n",
      "Epoch 987: loss 0.648220 0.6639: 100%|████████████| 8/8 [00:00<00:00, 12.48it/s]\n",
      "Epoch 988: loss 0.654214 0.6632: 100%|████████████| 8/8 [00:00<00:00, 12.76it/s]\n",
      "Epoch 989: loss 0.645892 0.6648: 100%|████████████| 8/8 [00:00<00:00, 10.97it/s]\n",
      "Epoch 990: loss 0.646178 0.6647:  12%|█▌          | 1/8 [00:00<00:04,  1.60it/s]\n",
      "  0%|                                                     | 0/2 [00:00<?, ?it/s]\u001b[A\n",
      "Valid 990: loss 0.738577 0.5068:   0%|                    | 0/2 [00:00<?, ?it/s]\u001b[A\n",
      "Valid 990: loss 0.738577 0.5068:  50%|██████      | 1/2 [00:00<00:00,  2.03it/s]\u001b[A\n",
      "Valid 990: loss 0.740580 0.5205: 100%|████████████| 2/2 [00:00<00:00,  3.27it/s]\u001b[A\n",
      "Epoch 990: loss 0.646178 0.6647: 100%|████████████| 8/8 [00:01<00:00,  5.81it/s]\n"
     ]
    },
    {
     "name": "stdout",
     "output_type": "stream",
     "text": [
      "EarlyStopping counter: 97 out of 100\n"
     ]
    },
    {
     "name": "stderr",
     "output_type": "stream",
     "text": [
      "Epoch 991: loss 0.648744 0.6640: 100%|████████████| 8/8 [00:01<00:00,  5.54it/s]\n",
      "Epoch 992: loss 0.651371 0.6642: 100%|████████████| 8/8 [00:00<00:00,  8.62it/s]\n",
      "Epoch 993: loss 0.646579 0.6635: 100%|████████████| 8/8 [00:00<00:00, 11.84it/s]\n",
      "Epoch 994: loss 0.648933 0.6607: 100%|████████████| 8/8 [00:00<00:00, 10.67it/s]\n",
      "Epoch 995: loss 0.645287 0.6655: 100%|████████████| 8/8 [00:00<00:00, 10.11it/s]\n",
      "Epoch 996: loss 0.645001 0.6637: 100%|████████████| 8/8 [00:00<00:00, 10.83it/s]\n",
      "Epoch 997: loss 0.647508 0.6615: 100%|████████████| 8/8 [00:00<00:00,  9.55it/s]\n",
      "Epoch 998: loss 0.648239 0.6613: 100%|████████████| 8/8 [00:00<00:00, 11.00it/s]\n",
      "Epoch 999: loss 0.647690 0.6647: 100%|████████████| 8/8 [00:00<00:00, 11.06it/s]\n",
      "Epoch 1000: loss 0.646175 0.6631:  12%|█▍         | 1/8 [00:00<00:04,  1.55it/s]\n",
      "  0%|                                                     | 0/2 [00:00<?, ?it/s]\u001b[A\n",
      "Valid 1000: loss 0.754404 0.4918:   0%|                   | 0/2 [00:00<?, ?it/s]\u001b[A\n",
      "Valid 1000: loss 0.754404 0.4918:  50%|█████▌     | 1/2 [00:00<00:00,  1.93it/s]\u001b[A\n",
      "Valid 1000: loss 0.744789 0.5260: 100%|███████████| 2/2 [00:00<00:00,  3.12it/s]\u001b[A\n",
      "Epoch 1000: loss 0.646175 0.6631: 100%|███████████| 8/8 [00:01<00:00,  5.46it/s]"
     ]
    },
    {
     "name": "stdout",
     "output_type": "stream",
     "text": [
      "EarlyStopping counter: 98 out of 100\n"
     ]
    },
    {
     "name": "stderr",
     "output_type": "stream",
     "text": [
      "\n"
     ]
    }
   ],
   "source": [
    "trainer.fit()"
   ]
  },
  {
   "cell_type": "code",
   "execution_count": null,
   "id": "b7c88774",
   "metadata": {},
   "outputs": [],
   "source": []
  },
  {
   "cell_type": "code",
   "execution_count": null,
   "id": "0f971829",
   "metadata": {},
   "outputs": [],
   "source": []
  }
 ],
 "metadata": {
  "kernelspec": {
   "display_name": "Python 3 (ipykernel)",
   "language": "python",
   "name": "python3"
  },
  "language_info": {
   "codemirror_mode": {
    "name": "ipython",
    "version": 3
   },
   "file_extension": ".py",
   "mimetype": "text/x-python",
   "name": "python",
   "nbconvert_exporter": "python",
   "pygments_lexer": "ipython3",
   "version": "3.8.3"
  }
 },
 "nbformat": 4,
 "nbformat_minor": 5
}
