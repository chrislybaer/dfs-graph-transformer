{
 "cells": [
  {
   "cell_type": "code",
   "execution_count": 1,
   "id": "4f001349",
   "metadata": {},
   "outputs": [],
   "source": [
    "%load_ext autoreload\n",
    "%autoreload 2"
   ]
  },
  {
   "cell_type": "code",
   "execution_count": 2,
   "id": "96dfaad5",
   "metadata": {},
   "outputs": [
    {
     "name": "stderr",
     "output_type": "stream",
     "text": [
      "WARNING:root:No normalization for BCUT2D_MWHI\n",
      "WARNING:root:No normalization for BCUT2D_MWLOW\n",
      "WARNING:root:No normalization for BCUT2D_CHGHI\n",
      "WARNING:root:No normalization for BCUT2D_CHGLO\n",
      "WARNING:root:No normalization for BCUT2D_LOGPHI\n",
      "WARNING:root:No normalization for BCUT2D_LOGPLOW\n",
      "WARNING:root:No normalization for BCUT2D_MRHI\n",
      "WARNING:root:No normalization for BCUT2D_MRLOW\n",
      "2022-01-31 13:09:36.811939: W tensorflow/stream_executor/platform/default/dso_loader.cc:64] Could not load dynamic library 'libcudart.so.11.0'; dlerror: libcudart.so.11.0: cannot open shared object file: No such file or directory; LD_LIBRARY_PATH: :/opt/cuda/extras/CUPTI/lib64/:/opt/intel/lib:/opt/intel/mkl/lib/intel64:/opt/intel:/opt/ibm/ILOG/CPLEX_Studio1210/cplex/bin/x86-64_linux:/opt/ibm/ILOG/CPLEX_Studio1210/cplex/python/3.7/x86-64_linux:/opt/intel/clck_latest/lib:/opt/intel/daal/lib:/opt/intel/intelpython3/lib:/opt/intel/ipp/lib:/opt/intel/itac_2019/lib:/opt/intel/itac_latest/lib:/opt/intel/mkl/lib:/opt/intel/mkl_/lib:/opt/intel/mpirt/lib:/opt/intel/tbb/lib:/opt/intel/clck/2019.0/lib:/opt/intel/compilers_and_libraries_2019/linux/lib:/opt/intel/compilers_and_libraries/linux/lib:/opt/intel/itac/2019.0.018/lib:/opt/intel/itac_2019/intel64/lib:/opt/intel/itac_latest/intel64/lib:/opt/intel/parallel_studio_xe_2019.0.045/clck_2019/lib:/opt/intel/parallel_studio_xe_2019.0.045/itac_2019/lib:/opt/intel/parallel_studio_xe_2019/clck_2019/lib:/opt/intel/parallel_studio_xe_2019/itac_2019/lib\n",
      "2022-01-31 13:09:36.811962: I tensorflow/stream_executor/cuda/cudart_stub.cc:29] Ignore above cudart dlerror if you do not have a GPU set up on your machine.\n",
      "Using backend: pytorch\n"
     ]
    }
   ],
   "source": [
    "import json\n",
    "import numpy as np\n",
    "from torch.utils.data import Dataset, DataLoader\n",
    "import glob\n",
    "import wandb\n",
    "import os\n",
    "import torch.optim as optimizers\n",
    "import pandas as pd\n",
    "from copy import deepcopy\n",
    "from ml_collections import ConfigDict \n",
    "import tqdm\n",
    "import torch.nn.functional as F\n",
    "import torch\n",
    "import torch.nn as nn\n",
    "from collections import defaultdict\n",
    "import yaml\n",
    "from sklearn.metrics import roc_auc_score\n",
    "import numpy as np\n",
    "\n",
    "import sys\n",
    "sys.path.append(\"../../src\")\n",
    "import dfs_code \n",
    "from dfs_transformer import collate_downstream, DFSCodeSeq2SeqFC, Trainer\n",
    "torch.multiprocessing.set_sharing_strategy('file_system')\n"
   ]
  },
  {
   "cell_type": "code",
   "execution_count": 3,
   "id": "1ed17efc",
   "metadata": {},
   "outputs": [],
   "source": [
    "graph_file = \"/mnt/ssd/datasets/graphs/reddit_threads/reddit_edges.json\"\n",
    "label_file = \"/mnt/ssd/datasets/graphs/reddit_threads/reddit_target.csv\"\n",
    "batch_size = 1000"
   ]
  },
  {
   "cell_type": "code",
   "execution_count": 4,
   "id": "d0fb23f3",
   "metadata": {},
   "outputs": [],
   "source": [
    "with open(graph_file, 'r') as f:\n",
    "    graph_dict = json.load(f)\n",
    "label_df = pd.read_csv(label_file)"
   ]
  },
  {
   "cell_type": "code",
   "execution_count": 5,
   "id": "6fabc13e",
   "metadata": {},
   "outputs": [
    {
     "data": {
      "text/html": [
       "<div>\n",
       "<style scoped>\n",
       "    .dataframe tbody tr th:only-of-type {\n",
       "        vertical-align: middle;\n",
       "    }\n",
       "\n",
       "    .dataframe tbody tr th {\n",
       "        vertical-align: top;\n",
       "    }\n",
       "\n",
       "    .dataframe thead th {\n",
       "        text-align: right;\n",
       "    }\n",
       "</style>\n",
       "<table border=\"1\" class=\"dataframe\">\n",
       "  <thead>\n",
       "    <tr style=\"text-align: right;\">\n",
       "      <th></th>\n",
       "      <th>id</th>\n",
       "      <th>target</th>\n",
       "    </tr>\n",
       "  </thead>\n",
       "  <tbody>\n",
       "    <tr>\n",
       "      <th>0</th>\n",
       "      <td>0</td>\n",
       "      <td>0</td>\n",
       "    </tr>\n",
       "    <tr>\n",
       "      <th>1</th>\n",
       "      <td>1</td>\n",
       "      <td>1</td>\n",
       "    </tr>\n",
       "    <tr>\n",
       "      <th>2</th>\n",
       "      <td>2</td>\n",
       "      <td>0</td>\n",
       "    </tr>\n",
       "    <tr>\n",
       "      <th>3</th>\n",
       "      <td>3</td>\n",
       "      <td>1</td>\n",
       "    </tr>\n",
       "    <tr>\n",
       "      <th>4</th>\n",
       "      <td>4</td>\n",
       "      <td>0</td>\n",
       "    </tr>\n",
       "  </tbody>\n",
       "</table>\n",
       "</div>"
      ],
      "text/plain": [
       "   id  target\n",
       "0   0       0\n",
       "1   1       1\n",
       "2   2       0\n",
       "3   3       1\n",
       "4   4       0"
      ]
     },
     "execution_count": 5,
     "metadata": {},
     "output_type": "execute_result"
    }
   ],
   "source": [
    "label_df.head()"
   ]
  },
  {
   "cell_type": "code",
   "execution_count": 6,
   "id": "e679d677",
   "metadata": {},
   "outputs": [
    {
     "data": {
      "text/plain": [
       "0.5124133380603483"
      ]
     },
     "execution_count": 6,
     "metadata": {},
     "output_type": "execute_result"
    }
   ],
   "source": [
    "label_df['target'].sum()/len(label_df)"
   ]
  },
  {
   "cell_type": "code",
   "execution_count": 7,
   "id": "ece9b3d2",
   "metadata": {},
   "outputs": [
    {
     "data": {
      "image/png": "[encoded data removed]",
      "text/plain": [
       "<Figure size 432x288 with 1 Axes>"
      ]
     },
     "metadata": {
      "needs_background": "light"
     },
     "output_type": "display_data"
    }
   ],
   "source": [
    "from matplotlib import pyplot as plt\n",
    "n_edges = [len(graph) for graph in graph_dict.values()]\n",
    "plt.hist(n_edges, bins='rice')\n",
    "plt.show()"
   ]
  },
  {
   "cell_type": "code",
   "execution_count": 8,
   "id": "af92f81c",
   "metadata": {},
   "outputs": [],
   "source": [
    "def graph2labelledgraph(graph):\n",
    "    graph = deepcopy(graph)\n",
    "    node_ids = np.unique(graph).tolist()\n",
    "    dummy = max(node_ids) + 1\n",
    "    \n",
    "    edge_labels = len(graph)*[0]\n",
    "    edgeindex = []\n",
    "    for e in graph:\n",
    "        edgeindex += [e]\n",
    "        edgeindex += [[e[1], e[0]]]\n",
    "        edge_labels += [0]\n",
    "    \n",
    "    edgeindex = np.asarray(edgeindex).T\n",
    "    \n",
    "    node_labels = []\n",
    "    for idx in node_ids:\n",
    "        node_labels += [(edgeindex[0] == idx).sum()]\n",
    "    return edgeindex, node_labels, edge_labels"
   ]
  },
  {
   "cell_type": "code",
   "execution_count": 9,
   "id": "63715928",
   "metadata": {},
   "outputs": [],
   "source": [
    "class KarateClubDataset(Dataset):\n",
    "    def __init__(self, graph_file, label_file, max_n = None, max_edges=110):\n",
    "        self.graph_file = graph_file\n",
    "        self.label_file = label_file\n",
    "        with open(graph_file, 'r') as f:\n",
    "            self.graph_dict = json.load(f)\n",
    "        self.label_df = pd.read_csv(label_file)\n",
    "        self.data = []\n",
    "        self.maxn = max_n\n",
    "        self.max_edges = max_edges\n",
    "        self.preprocess()\n",
    "    \n",
    "    def preprocess(self):\n",
    "        maxn = self.maxn\n",
    "        maxdegree = 0\n",
    "        edgeindex_list = []\n",
    "        vlabels_list = []\n",
    "        elabels_list = []\n",
    "        label_list = []\n",
    "        for idx, (graph, label) in tqdm.tqdm(enumerate(zip(self.graph_dict.values(), self.label_df['target']))):  \n",
    "            edgeindex, vlabels, elabels = graph2labelledgraph(graph)\n",
    "            if len(elabels)//2 > self.max_edges:\n",
    "                continue\n",
    "            maxdegree = max(maxdegree, max(vlabels))\n",
    "            edgeindex_list += [edgeindex]\n",
    "            vlabels_list += [vlabels]\n",
    "            elabels_list += [elabels]\n",
    "            label_list += [self.label_df['target'][idx]]\n",
    "            if maxn is not None:\n",
    "                if idx >= maxn:\n",
    "                    break\n",
    "        self.maxdegree = maxdegree\n",
    "        \n",
    "        for idx, (edgeindex, vlabels, elabels, label) in tqdm.tqdm(enumerate(zip(edgeindex_list,\n",
    "                                                                                vlabels_list,\n",
    "                                                                                elabels_list, \n",
    "                                                                                label_list))):  \n",
    "            node_features = F.one_hot(torch.tensor(vlabels), num_classes=maxdegree+1).float()\n",
    "            edge_features = F.one_hot(torch.tensor(elabels), num_classes=2).float()\n",
    "            code, index = dfs_code.rnd_dfs_code_from_edgeindex(edgeindex, vlabels, elabels)\n",
    "            self.data += [ConfigDict({\"node_labels\":torch.tensor(vlabels),\n",
    "                                    \"edge_labels\":torch.tensor(elabels),\n",
    "                                    \"edge_index\":torch.tensor(edgeindex, dtype=torch.long),\n",
    "                                    \"min_dfs_code\":torch.tensor(code),\n",
    "                                    \"min_dfs_index\":torch.tensor(index, dtype=torch.long),\n",
    "                                    \"node_features\":node_features,\n",
    "                                    \"edge_features\":edge_features,\n",
    "                                    \"y\": torch.tensor(label, dtype=torch.float32),\n",
    "                                    \"idx\":idx})]\n",
    "\n",
    "    def __len__(self):\n",
    "        return len(self.data)\n",
    "\n",
    "    def __getitem__(self, idx):\n",
    "        return self.data[idx]\n",
    "        "
   ]
  },
  {
   "cell_type": "code",
   "execution_count": 10,
   "id": "7e0af6f4",
   "metadata": {},
   "outputs": [
    {
     "name": "stderr",
     "output_type": "stream",
     "text": [
      "10000it [00:02, 4959.40it/s]\n",
      "9976it [00:04, 2173.85it/s]\n"
     ]
    }
   ],
   "source": [
    "dataset = KarateClubDataset(graph_file, label_file, max_n=10000)"
   ]
  },
  {
   "cell_type": "code",
   "execution_count": 11,
   "id": "c2e73356",
   "metadata": {},
   "outputs": [],
   "source": [
    "bins = np.arange(56)"
   ]
  },
  {
   "cell_type": "code",
   "execution_count": 12,
   "id": "d10d026b",
   "metadata": {},
   "outputs": [],
   "source": [
    "data = next(iter(dataset))"
   ]
  },
  {
   "cell_type": "code",
   "execution_count": 13,
   "id": "eb1ea321",
   "metadata": {},
   "outputs": [
    {
     "data": {
      "text/plain": [
       "array([0, 8, 2, 0, 0, 0, 0, 0, 1, 0, 0, 0, 0, 0, 0, 0, 0, 0, 0, 0, 0, 0,\n",
       "       0, 0, 0, 0, 0, 0, 0, 0, 0, 0, 0, 0, 0, 0, 0, 0, 0, 0, 0, 0, 0, 0,\n",
       "       0, 0, 0, 0, 0, 0, 0, 0, 0, 0, 0])"
      ]
     },
     "execution_count": 13,
     "metadata": {},
     "output_type": "execute_result"
    }
   ],
   "source": [
    "np.histogram(data['node_labels'], bins=bins)[0]"
   ]
  },
  {
   "cell_type": "code",
   "execution_count": 14,
   "id": "be3b997c",
   "metadata": {},
   "outputs": [],
   "source": [
    "n = len(dataset)\n",
    "n_train = int(0.8*n)\n",
    "n_valid = 0\n",
    "n_test = n - n_train - n_valid\n",
    "\n",
    "perm = np.random.permutation(len(dataset))\n",
    "train_idx = torch.tensor(perm[:n_train], dtype=torch.long)\n",
    "valid_idx = torch.tensor(perm[n_train:n_train+n_valid].tolist(), dtype=torch.long)\n",
    "test_idx = torch.tensor(perm[n_train+n_valid:].tolist(), dtype=torch.long)"
   ]
  },
  {
   "cell_type": "code",
   "execution_count": 15,
   "id": "59ab26fc",
   "metadata": {},
   "outputs": [],
   "source": [
    "ce = nn.BCEWithLogitsLoss() "
   ]
  },
  {
   "cell_type": "code",
   "execution_count": 16,
   "id": "80bd1138",
   "metadata": {},
   "outputs": [],
   "source": [
    "def collate_spectral(dlist, use_min=True):\n",
    "    hists = []\n",
    "    y_batch = []\n",
    "    \n",
    "    for d in dlist:\n",
    "        A = np.zeros(2*[len(d.node_labels)])\n",
    "        for e in d.edge_index.T:\n",
    "            A[e[0], e[1]] = 1\n",
    "        D = np.diag(d.node_labels)\n",
    "        vals, vecs = np.linalg.eigh(D - A)\n",
    "        indices = np.argsort(-np.abs(vals))[:10]\n",
    "        feats = vecs[:, indices].mean(axis=0, keepdims=True)\n",
    "        hists += [torch.tensor(feats, dtype=torch.float32)]\n",
    "        y_batch += [d.y.unsqueeze(0).clone()]\n",
    "        \n",
    "    y = torch.cat(y_batch).unsqueeze(1)\n",
    "    hist = torch.cat(hists, dim=0)\n",
    "\n",
    "    return hist, y\n",
    "\n",
    "def collate_degree_histogram(dlist, use_min=True):\n",
    "    hists = []\n",
    "    y_batch = []\n",
    "    \n",
    "    for d in dlist:\n",
    "        hist_np = np.histogram(d.node_labels.clone().numpy(), bins=bins, density=True)[0][np.newaxis]\n",
    "        hists += [torch.tensor(hist_np, dtype=torch.float32)]\n",
    "        y_batch += [d.y.unsqueeze(0).clone()]\n",
    "        \n",
    "    y = torch.cat(y_batch).unsqueeze(1)\n",
    "    hist = torch.cat(hists, dim=0)\n",
    "\n",
    "    return hist, y"
   ]
  },
  {
   "cell_type": "code",
   "execution_count": 17,
   "id": "88c79ea9",
   "metadata": {},
   "outputs": [],
   "source": [
    "trainloader = DataLoader(dataset, sampler=torch.utils.data.SubsetRandomSampler(train_idx), \n",
    "                         batch_size=batch_size, collate_fn=collate_degree_histogram, num_workers=8)\n",
    "validloader = DataLoader(dataset, sampler=torch.utils.data.SubsetRandomSampler(valid_idx), \n",
    "                         batch_size=batch_size, collate_fn=collate_degree_histogram, num_workers=8)\n",
    "testloader = DataLoader(dataset, sampler=torch.utils.data.SubsetRandomSampler(test_idx), \n",
    "                        batch_size=batch_size, collate_fn=collate_degree_histogram, num_workers=8)"
   ]
  },
  {
   "cell_type": "code",
   "execution_count": 18,
   "id": "df971e39",
   "metadata": {},
   "outputs": [],
   "source": [
    "data = next(iter(trainloader))"
   ]
  },
  {
   "cell_type": "code",
   "execution_count": 19,
   "id": "07c32535",
   "metadata": {},
   "outputs": [
    {
     "data": {
      "text/plain": [
       "tensor([[0.0000, 0.6364, 0.2727,  ..., 0.0000, 0.0000, 0.0000],\n",
       "        [0.0000, 0.5263, 0.2456,  ..., 0.0000, 0.0000, 0.0000],\n",
       "        [0.0000, 0.6875, 0.2500,  ..., 0.0000, 0.0000, 0.0000],\n",
       "        ...,\n",
       "        [0.0000, 0.6800, 0.1600,  ..., 0.0000, 0.0000, 0.0000],\n",
       "        [0.0000, 0.6429, 0.2143,  ..., 0.0000, 0.0000, 0.0000],\n",
       "        [0.0000, 0.5000, 0.3529,  ..., 0.0000, 0.0000, 0.0000]])"
      ]
     },
     "execution_count": 19,
     "metadata": {},
     "output_type": "execute_result"
    }
   ],
   "source": [
    "data[0]"
   ]
  },
  {
   "cell_type": "code",
   "execution_count": 20,
   "id": "ce9ed524",
   "metadata": {},
   "outputs": [],
   "source": [
    "model = nn.Sequential(nn.Linear(data[0].shape[1], 128), \n",
    "                      nn.ReLU(inplace=True), \n",
    "                      nn.Linear(128, 128),\n",
    "                      nn.ReLU(inplace=True),\n",
    "                      nn.Linear(128, 1))"
   ]
  },
  {
   "cell_type": "code",
   "execution_count": 21,
   "id": "9b451e5d",
   "metadata": {},
   "outputs": [
    {
     "data": {
      "text/plain": [
       "torch.Size([1000, 55])"
      ]
     },
     "execution_count": 21,
     "metadata": {},
     "output_type": "execute_result"
    }
   ],
   "source": [
    "data[0].shape"
   ]
  },
  {
   "cell_type": "code",
   "execution_count": 22,
   "id": "2f49cb91",
   "metadata": {},
   "outputs": [],
   "source": [
    "def loss(pred, y, ce=ce):\n",
    "    return ce(pred, y.float())\n",
    "\n",
    "def auc(pred, y):\n",
    "    return roc_auc_score(y.detach().cpu().numpy(), pred[:, 0].detach().cpu().numpy())\n",
    "    "
   ]
  },
  {
   "cell_type": "code",
   "execution_count": 23,
   "id": "3804cc63",
   "metadata": {},
   "outputs": [],
   "source": [
    "trainer = Trainer(model, trainloader, loss, metrics={'auc': auc}, lr=0.003, gpu_id=None, validloader=testloader, es_period=80)"
   ]
  },
  {
   "cell_type": "code",
   "execution_count": null,
   "id": "9817b505",
   "metadata": {},
   "outputs": [
    {
     "name": "stderr",
     "output_type": "stream",
     "text": [
      "Epoch 1: loss 0.687382 0.6970: 100%|█████████████████████████████████████████████████████████████████████████████████████████████████████████████████████████████████████████████████| 8/8 [00:00<00:00, 10.87it/s]\n",
      "Epoch 2: loss 0.668440 0.7483: 100%|█████████████████████████████████████████████████████████████████████████████████████████████████████████████████████████████████████████████████| 8/8 [00:00<00:00, 11.26it/s]\n",
      "Epoch 3: loss 0.632466 0.7514: 100%|█████████████████████████████████████████████████████████████████████████████████████████████████████████████████████████████████████████████████| 8/8 [00:00<00:00, 12.38it/s]\n",
      "Epoch 4: loss 0.597037 0.7545: 100%|█████████████████████████████████████████████████████████████████████████████████████████████████████████████████████████████████████████████████| 8/8 [00:00<00:00, 10.54it/s]\n",
      "Epoch 5: loss 0.588996 0.7593: 100%|█████████████████████████████████████████████████████████████████████████████████████████████████████████████████████████████████████████████████| 8/8 [00:00<00:00, 13.58it/s]\n",
      "Epoch 6: loss 0.586843 0.7648: 100%|█████████████████████████████████████████████████████████████████████████████████████████████████████████████████████████████████████████████████| 8/8 [00:00<00:00, 11.12it/s]\n",
      "Epoch 7: loss 0.577858 0.7693: 100%|█████████████████████████████████████████████████████████████████████████████████████████████████████████████████████████████████████████████████| 8/8 [00:00<00:00, 11.23it/s]\n",
      "Epoch 8: loss 0.572117 0.7738: 100%|█████████████████████████████████████████████████████████████████████████████████████████████████████████████████████████████████████████████████| 8/8 [00:00<00:00, 12.35it/s]\n",
      "Epoch 9: loss 0.569397 0.7769: 100%|█████████████████████████████████████████████████████████████████████████████████████████████████████████████████████████████████████████████████| 8/8 [00:00<00:00, 11.15it/s]\n",
      "Epoch 10: loss 0.566891 0.7789:  12%|██████████████████                                                                                                                              | 1/8 [00:00<00:03,  2.33it/s]\n",
      "  0%|                                                                                                                                                                                        | 0/2 [00:00<?, ?it/s]\u001b[A\n",
      "Valid 10: loss 0.579480 0.7674:   0%|                                                                                                                                                        | 0/2 [00:00<?, ?it/s]\u001b[A\n",
      "Valid 10: loss 0.579480 0.7674:  50%|████████████████████████████████████████████████████████████████████████                                                                        | 1/2 [00:00<00:00,  2.20it/s]\u001b[A\n",
      "Valid 10: loss 0.575999 0.7709: 100%|████████████████████████████████████████████████████████████████████████████████████████████████████████████████████████████████████████████████| 2/2 [00:00<00:00,  3.81it/s]\u001b[A\n",
      "Epoch 10: loss 0.566891 0.7789: 100%|████████████████████████████████████████████████████████████████████████████████████████████████████████████████████████████████████████████████| 8/8 [00:01<00:00,  7.19it/s]\n",
      "Epoch 11: loss 0.563980 0.7809: 100%|████████████████████████████████████████████████████████████████████████████████████████████████████████████████████████████████████████████████| 8/8 [00:00<00:00, 13.17it/s]\n",
      "Epoch 12: loss 0.562398 0.7832: 100%|████████████████████████████████████████████████████████████████████████████████████████████████████████████████████████████████████████████████| 8/8 [00:00<00:00, 11.53it/s]\n",
      "Epoch 13: loss 0.561470 0.7843: 100%|████████████████████████████████████████████████████████████████████████████████████████████████████████████████████████████████████████████████| 8/8 [00:00<00:00, 12.93it/s]\n",
      "Epoch 14: loss 0.559413 0.7853: 100%|████████████████████████████████████████████████████████████████████████████████████████████████████████████████████████████████████████████████| 8/8 [00:00<00:00, 12.69it/s]\n",
      "Epoch 15: loss 0.558584 0.7862: 100%|████████████████████████████████████████████████████████████████████████████████████████████████████████████████████████████████████████████████| 8/8 [00:00<00:00, 12.11it/s]\n",
      "Epoch 16: loss 0.557283 0.7870: 100%|████████████████████████████████████████████████████████████████████████████████████████████████████████████████████████████████████████████████| 8/8 [00:00<00:00, 10.50it/s]\n",
      "Epoch 17: loss 0.556720 0.7879: 100%|████████████████████████████████████████████████████████████████████████████████████████████████████████████████████████████████████████████████| 8/8 [00:00<00:00, 11.90it/s]\n",
      "Epoch 18: loss 0.556060 0.7886: 100%|████████████████████████████████████████████████████████████████████████████████████████████████████████████████████████████████████████████████| 8/8 [00:00<00:00,  8.77it/s]\n",
      "Epoch 19: loss 0.556060 0.7892: 100%|████████████████████████████████████████████████████████████████████████████████████████████████████████████████████████████████████████████████| 8/8 [00:00<00:00, 13.59it/s]\n",
      "Epoch 20: loss 0.555449 0.7897:  88%|██████████████████████████████████████████████████████████████████████████████████████████████████████████████████████████████                  | 7/8 [00:00<00:00, 13.58it/s]\n",
      "  0%|                                                                                                                                                                                        | 0/2 [00:00<?, ?it/s]\u001b[A\n",
      "Valid 20: loss 0.565555 0.7788:   0%|                                                                                                                                                        | 0/2 [00:00<?, ?it/s]\u001b[A\n",
      "Valid 20: loss 0.565555 0.7788:  50%|████████████████████████████████████████████████████████████████████████                                                                        | 1/2 [00:00<00:00,  2.68it/s]\u001b[A\n",
      "Valid 20: loss 0.569315 0.7733: 100%|████████████████████████████████████████████████████████████████████████████████████████████████████████████████████████████████████████████████| 2/2 [00:00<00:00,  4.50it/s]\u001b[A\n",
      "Epoch 20: loss 0.555449 0.7897: 100%|████████████████████████████████████████████████████████████████████████████████████████████████████████████████████████████████████████████████| 8/8 [00:01<00:00,  6.82it/s]\n",
      "Epoch 21: loss 0.555690 0.7901: 100%|████████████████████████████████████████████████████████████████████████████████████████████████████████████████████████████████████████████████| 8/8 [00:00<00:00,  8.20it/s]\n",
      "Epoch 22: loss 0.556497 0.7907: 100%|████████████████████████████████████████████████████████████████████████████████████████████████████████████████████████████████████████████████| 8/8 [00:00<00:00, 12.31it/s]\n",
      "Epoch 23: loss 0.557020 0.7913: 100%|████████████████████████████████████████████████████████████████████████████████████████████████████████████████████████████████████████████████| 8/8 [00:00<00:00, 10.31it/s]\n",
      "Epoch 24: loss 0.553800 0.7913: 100%|████████████████████████████████████████████████████████████████████████████████████████████████████████████████████████████████████████████████| 8/8 [00:00<00:00, 12.02it/s]\n",
      "Epoch 25: loss 0.552491 0.7922: 100%|████████████████████████████████████████████████████████████████████████████████████████████████████████████████████████████████████████████████| 8/8 [00:00<00:00, 11.89it/s]\n",
      "Epoch 26: loss 0.551940 0.7923: 100%|████████████████████████████████████████████████████████████████████████████████████████████████████████████████████████████████████████████████| 8/8 [00:00<00:00, 12.74it/s]\n",
      "Epoch 27: loss 0.551549 0.7930: 100%|████████████████████████████████████████████████████████████████████████████████████████████████████████████████████████████████████████████████| 8/8 [00:00<00:00, 11.74it/s]\n",
      "Epoch 28: loss 0.550705 0.7934: 100%|████████████████████████████████████████████████████████████████████████████████████████████████████████████████████████████████████████████████| 8/8 [00:00<00:00, 13.69it/s]\n"
     ]
    },
    {
     "name": "stderr",
     "output_type": "stream",
     "text": [
      "Epoch 29: loss 0.552600 0.7933: 100%|████████████████████████████████████████████████████████████████████████████████████████████████████████████████████████████████████████████████| 8/8 [00:00<00:00, 10.79it/s]\n",
      "Epoch 30: loss 0.551366 0.7937:  12%|██████████████████                                                                                                                              | 1/8 [00:00<00:02,  2.34it/s]\n",
      "  0%|                                                                                                                                                                                        | 0/2 [00:00<?, ?it/s]\u001b[A\n",
      "Valid 30: loss 0.579459 0.7673:   0%|                                                                                                                                                        | 0/2 [00:00<?, ?it/s]\u001b[A\n",
      "Valid 30: loss 0.579459 0.7673:  50%|████████████████████████████████████████████████████████████████████████                                                                        | 1/2 [00:00<00:00,  2.52it/s]\u001b[A\n",
      "Valid 30: loss 0.569554 0.7902: 100%|████████████████████████████████████████████████████████████████████████████████████████████████████████████████████████████████████████████████| 2/2 [00:00<00:00,  4.24it/s]\u001b[A\n",
      "Epoch 30: loss 0.551366 0.7937: 100%|████████████████████████████████████████████████████████████████████████████████████████████████████████████████████████████████████████████████| 8/8 [00:01<00:00,  7.58it/s]\n"
     ]
    },
    {
     "name": "stdout",
     "output_type": "stream",
     "text": [
      "EarlyStopping counter: 1 out of 100\n"
     ]
    },
    {
     "name": "stderr",
     "output_type": "stream",
     "text": [
      "Epoch 31: loss 0.550919 0.7944: 100%|████████████████████████████████████████████████████████████████████████████████████████████████████████████████████████████████████████████████| 8/8 [00:00<00:00, 11.46it/s]\n",
      "Epoch 32: loss 0.550229 0.7950: 100%|████████████████████████████████████████████████████████████████████████████████████████████████████████████████████████████████████████████████| 8/8 [00:00<00:00, 13.34it/s]\n",
      "Epoch 33: loss 0.549560 0.7949: 100%|████████████████████████████████████████████████████████████████████████████████████████████████████████████████████████████████████████████████| 8/8 [00:00<00:00, 14.01it/s]\n",
      "Epoch 34: loss 0.551886 0.7957: 100%|████████████████████████████████████████████████████████████████████████████████████████████████████████████████████████████████████████████████| 8/8 [00:00<00:00, 13.03it/s]\n",
      "Epoch 35: loss 0.549597 0.7958: 100%|████████████████████████████████████████████████████████████████████████████████████████████████████████████████████████████████████████████████| 8/8 [00:00<00:00, 12.02it/s]\n",
      "Epoch 36: loss 0.548015 0.7961: 100%|████████████████████████████████████████████████████████████████████████████████████████████████████████████████████████████████████████████████| 8/8 [00:00<00:00, 13.51it/s]\n",
      "Epoch 37: loss 0.548401 0.7964: 100%|████████████████████████████████████████████████████████████████████████████████████████████████████████████████████████████████████████████████| 8/8 [00:00<00:00, 10.05it/s]\n",
      "Epoch 38: loss 0.547464 0.7971: 100%|████████████████████████████████████████████████████████████████████████████████████████████████████████████████████████████████████████████████| 8/8 [00:00<00:00,  8.39it/s]\n",
      "Epoch 39: loss 0.547721 0.7973: 100%|████████████████████████████████████████████████████████████████████████████████████████████████████████████████████████████████████████████████| 8/8 [00:00<00:00,  9.67it/s]\n",
      "Epoch 40: loss 0.547294 0.7980:  75%|████████████████████████████████████████████████████████████████████████████████████████████████████████████                                    | 6/8 [00:00<00:00, 11.25it/s]\n",
      "  0%|                                                                                                                                                                                        | 0/2 [00:00<?, ?it/s]\u001b[A\n",
      "Valid 40: loss 0.576013 0.7697:   0%|                                                                                                                                                        | 0/2 [00:00<?, ?it/s]\u001b[A\n",
      "Valid 40: loss 0.576013 0.7697:  50%|████████████████████████████████████████████████████████████████████████                                                                        | 1/2 [00:00<00:00,  2.53it/s]\u001b[A\n",
      "Valid 40: loss 0.567086 0.7914: 100%|████████████████████████████████████████████████████████████████████████████████████████████████████████████████████████████████████████████████| 2/2 [00:00<00:00,  4.31it/s]\u001b[A\n",
      "Epoch 40: loss 0.547294 0.7980: 100%|████████████████████████████████████████████████████████████████████████████████████████████████████████████████████████████████████████████████| 8/8 [00:01<00:00,  6.69it/s]\n",
      "Epoch 41: loss 0.545926 0.7981: 100%|████████████████████████████████████████████████████████████████████████████████████████████████████████████████████████████████████████████████| 8/8 [00:00<00:00,  9.57it/s]\n",
      "Epoch 42: loss 0.545563 0.7988: 100%|████████████████████████████████████████████████████████████████████████████████████████████████████████████████████████████████████████████████| 8/8 [00:00<00:00, 13.32it/s]\n",
      "Epoch 43: loss 0.545415 0.7993: 100%|████████████████████████████████████████████████████████████████████████████████████████████████████████████████████████████████████████████████| 8/8 [00:00<00:00, 11.16it/s]\n",
      "Epoch 44: loss 0.547502 0.7996: 100%|████████████████████████████████████████████████████████████████████████████████████████████████████████████████████████████████████████████████| 8/8 [00:00<00:00, 10.65it/s]\n",
      "Epoch 45: loss 0.545759 0.7997: 100%|████████████████████████████████████████████████████████████████████████████████████████████████████████████████████████████████████████████████| 8/8 [00:00<00:00, 10.33it/s]\n",
      "Epoch 46: loss 0.543871 0.8002: 100%|████████████████████████████████████████████████████████████████████████████████████████████████████████████████████████████████████████████████| 8/8 [00:00<00:00, 12.20it/s]\n",
      "Epoch 47: loss 0.542756 0.8006: 100%|████████████████████████████████████████████████████████████████████████████████████████████████████████████████████████████████████████████████| 8/8 [00:00<00:00, 11.00it/s]\n",
      "Epoch 48: loss 0.542801 0.8010: 100%|████████████████████████████████████████████████████████████████████████████████████████████████████████████████████████████████████████████████| 8/8 [00:00<00:00, 12.90it/s]\n",
      "Epoch 49: loss 0.542095 0.8011: 100%|████████████████████████████████████████████████████████████████████████████████████████████████████████████████████████████████████████████████| 8/8 [00:00<00:00, 13.23it/s]\n",
      "Epoch 50: loss 0.540836 0.8016:  12%|██████████████████                                                                                                                              | 1/8 [00:00<00:03,  2.22it/s]\n",
      "  0%|                                                                                                                                                                                        | 0/2 [00:00<?, ?it/s]\u001b[A\n",
      "Valid 50: loss 0.572931 0.7774:   0%|                                                                                                                                                        | 0/2 [00:00<?, ?it/s]\u001b[A\n",
      "Valid 50: loss 0.572931 0.7774:  50%|████████████████████████████████████████████████████████████████████████                                                                        | 1/2 [00:00<00:00,  2.52it/s]\u001b[A\n",
      "Valid 50: loss 0.568095 0.7887: 100%|████████████████████████████████████████████████████████████████████████████████████████████████████████████████████████████████████████████████| 2/2 [00:00<00:00,  4.21it/s]\u001b[A\n",
      "Epoch 50: loss 0.540836 0.8016: 100%|████████████████████████████████████████████████████████████████████████████████████████████████████████████████████████████████████████████████| 8/8 [00:01<00:00,  7.44it/s]\n"
     ]
    },
    {
     "name": "stdout",
     "output_type": "stream",
     "text": [
      "EarlyStopping counter: 1 out of 100\n"
     ]
    },
    {
     "name": "stderr",
     "output_type": "stream",
     "text": [
      "Epoch 51: loss 0.540863 0.8027: 100%|████████████████████████████████████████████████████████████████████████████████████████████████████████████████████████████████████████████████| 8/8 [00:00<00:00, 10.17it/s]\n",
      "Epoch 52: loss 0.539971 0.8030: 100%|████████████████████████████████████████████████████████████████████████████████████████████████████████████████████████████████████████████████| 8/8 [00:00<00:00, 13.70it/s]\n",
      "Epoch 53: loss 0.540278 0.8027: 100%|████████████████████████████████████████████████████████████████████████████████████████████████████████████████████████████████████████████████| 8/8 [00:00<00:00, 11.85it/s]\n",
      "Epoch 54: loss 0.538859 0.8040: 100%|████████████████████████████████████████████████████████████████████████████████████████████████████████████████████████████████████████████████| 8/8 [00:00<00:00, 13.27it/s]\n",
      "Epoch 55: loss 0.538874 0.8043: 100%|████████████████████████████████████████████████████████████████████████████████████████████████████████████████████████████████████████████████| 8/8 [00:00<00:00, 12.65it/s]\n",
      "Epoch 56: loss 0.542486 0.8047: 100%|████████████████████████████████████████████████████████████████████████████████████████████████████████████████████████████████████████████████| 8/8 [00:00<00:00,  9.43it/s]\n",
      "Epoch 57: loss 0.543644 0.8050: 100%|████████████████████████████████████████████████████████████████████████████████████████████████████████████████████████████████████████████████| 8/8 [00:00<00:00, 11.03it/s]\n",
      "Epoch 58: loss 0.536308 0.8056: 100%|████████████████████████████████████████████████████████████████████████████████████████████████████████████████████████████████████████████████| 8/8 [00:00<00:00, 12.66it/s]\n",
      "Epoch 59: loss 0.536872 0.8056: 100%|████████████████████████████████████████████████████████████████████████████████████████████████████████████████████████████████████████████████| 8/8 [00:00<00:00, 11.05it/s]\n",
      "Epoch 60: loss 0.538323 0.8068:  62%|██████████████████████████████████████████████████████████████████████████████████████████                                                      | 5/8 [00:00<00:00,  8.93it/s]\n",
      "  0%|                                                                                                                                                                                        | 0/2 [00:00<?, ?it/s]\u001b[A\n",
      "Valid 60: loss 0.568365 0.7774:   0%|                                                                                                                                                        | 0/2 [00:00<?, ?it/s]\u001b[A\n",
      "Valid 60: loss 0.568365 0.7774:  50%|████████████████████████████████████████████████████████████████████████                                                                        | 1/2 [00:00<00:00,  2.61it/s]\u001b[A\n",
      "Valid 60: loss 0.556456 0.7960: 100%|████████████████████████████████████████████████████████████████████████████████████████████████████████████████████████████████████████████████| 2/2 [00:00<00:00,  4.48it/s]\u001b[A\n",
      "Epoch 60: loss 0.538323 0.8068: 100%|████████████████████████████████████████████████████████████████████████████████████████████████████████████████████████████████████████████████| 8/8 [00:01<00:00,  6.28it/s]\n",
      "Epoch 61: loss 0.534841 0.8074: 100%|████████████████████████████████████████████████████████████████████████████████████████████████████████████████████████████████████████████████| 8/8 [00:00<00:00, 12.98it/s]\n",
      "Epoch 62: loss 0.534693 0.8071: 100%|████████████████████████████████████████████████████████████████████████████████████████████████████████████████████████████████████████████████| 8/8 [00:00<00:00,  9.07it/s]\n",
      "Epoch 63: loss 0.535829 0.8084: 100%|████████████████████████████████████████████████████████████████████████████████████████████████████████████████████████████████████████████████| 8/8 [00:00<00:00, 13.16it/s]\n",
      "Epoch 64: loss 0.535000 0.8088: 100%|████████████████████████████████████████████████████████████████████████████████████████████████████████████████████████████████████████████████| 8/8 [00:00<00:00, 10.88it/s]\n",
      "Epoch 65: loss 0.536480 0.8091: 100%|████████████████████████████████████████████████████████████████████████████████████████████████████████████████████████████████████████████████| 8/8 [00:00<00:00, 13.03it/s]\n",
      "Epoch 66: loss 0.532862 0.8096: 100%|████████████████████████████████████████████████████████████████████████████████████████████████████████████████████████████████████████████████| 8/8 [00:00<00:00, 10.99it/s]\n",
      "Epoch 67: loss 0.533638 0.8105: 100%|████████████████████████████████████████████████████████████████████████████████████████████████████████████████████████████████████████████████| 8/8 [00:00<00:00, 12.96it/s]\n",
      "Epoch 68: loss 0.534107 0.8112: 100%|████████████████████████████████████████████████████████████████████████████████████████████████████████████████████████████████████████████████| 8/8 [00:00<00:00, 10.40it/s]\n",
      "Epoch 69: loss 0.530295 0.8112: 100%|████████████████████████████████████████████████████████████████████████████████████████████████████████████████████████████████████████████████| 8/8 [00:00<00:00,  8.97it/s]\n",
      "Epoch 70: loss 0.532874 0.8115:  88%|██████████████████████████████████████████████████████████████████████████████████████████████████████████████████████████████                  | 7/8 [00:00<00:00, 15.15it/s]\n",
      "  0%|                                                                                                                                                                                        | 0/2 [00:00<?, ?it/s]\u001b[A\n",
      "Valid 70: loss 0.579580 0.7813:   0%|                                                                                                                                                        | 0/2 [00:00<?, ?it/s]\u001b[A\n",
      "Valid 70: loss 0.579580 0.7813:  50%|████████████████████████████████████████████████████████████████████████                                                                        | 1/2 [00:00<00:00,  2.63it/s]\u001b[A\n",
      "Valid 70: loss 0.565305 0.8023: 100%|████████████████████████████████████████████████████████████████████████████████████████████████████████████████████████████████████████████████| 2/2 [00:00<00:00,  4.36it/s]\u001b[A\n",
      "Epoch 70: loss 0.532874 0.8115: 100%|████████████████████████████████████████████████████████████████████████████████████████████████████████████████████████████████████████████████| 8/8 [00:01<00:00,  7.20it/s]\n"
     ]
    },
    {
     "name": "stdout",
     "output_type": "stream",
     "text": [
      "EarlyStopping counter: 1 out of 100\n"
     ]
    },
    {
     "name": "stderr",
     "output_type": "stream",
     "text": [
      "Epoch 71: loss 0.532768 0.8124: 100%|████████████████████████████████████████████████████████████████████████████████████████████████████████████████████████████████████████████████| 8/8 [00:00<00:00, 12.14it/s]\n",
      "Epoch 72: loss 0.532131 0.8125: 100%|████████████████████████████████████████████████████████████████████████████████████████████████████████████████████████████████████████████████| 8/8 [00:00<00:00, 13.09it/s]\n",
      "Epoch 73: loss 0.528893 0.8132: 100%|████████████████████████████████████████████████████████████████████████████████████████████████████████████████████████████████████████████████| 8/8 [00:00<00:00, 13.74it/s]\n",
      "Epoch 74: loss 0.526690 0.8137: 100%|████████████████████████████████████████████████████████████████████████████████████████████████████████████████████████████████████████████████| 8/8 [00:00<00:00, 12.75it/s]\n",
      "Epoch 75: loss 0.527400 0.8143: 100%|████████████████████████████████████████████████████████████████████████████████████████████████████████████████████████████████████████████████| 8/8 [00:00<00:00, 13.07it/s]\n",
      "Epoch 76: loss 0.526453 0.8149: 100%|████████████████████████████████████████████████████████████████████████████████████████████████████████████████████████████████████████████████| 8/8 [00:00<00:00, 13.39it/s]\n",
      "Epoch 77: loss 0.524966 0.8149: 100%|████████████████████████████████████████████████████████████████████████████████████████████████████████████████████████████████████████████████| 8/8 [00:00<00:00, 14.14it/s]\n",
      "Epoch 78: loss 0.527795 0.8159: 100%|████████████████████████████████████████████████████████████████████████████████████████████████████████████████████████████████████████████████| 8/8 [00:00<00:00, 12.89it/s]\n",
      "Epoch 79: loss 0.524877 0.8168: 100%|████████████████████████████████████████████████████████████████████████████████████████████████████████████████████████████████████████████████| 8/8 [00:00<00:00, 13.43it/s]\n",
      "Epoch 80: loss 0.523462 0.8168:  88%|██████████████████████████████████████████████████████████████████████████████████████████████████████████████████████████████                  | 7/8 [00:00<00:00, 16.45it/s]\n",
      "  0%|                                                                                                                                                                                        | 0/2 [00:00<?, ?it/s]\u001b[A\n",
      "Valid 80: loss 0.538296 0.8078:   0%|                                                                                                                                                        | 0/2 [00:00<?, ?it/s]\u001b[A\n",
      "Valid 80: loss 0.538296 0.8078:  50%|████████████████████████████████████████████████████████████████████████                                                                        | 1/2 [00:00<00:00,  2.66it/s]\u001b[A\n",
      "Valid 80: loss 0.548891 0.7860: 100%|████████████████████████████████████████████████████████████████████████████████████████████████████████████████████████████████████████████████| 2/2 [00:00<00:00,  4.05it/s]\u001b[A\n",
      "Epoch 80: loss 0.523462 0.8168: 100%|████████████████████████████████████████████████████████████████████████████████████████████████████████████████████████████████████████████████| 8/8 [00:01<00:00,  7.27it/s]\n",
      "Epoch 81: loss 0.525930 0.8172: 100%|████████████████████████████████████████████████████████████████████████████████████████████████████████████████████████████████████████████████| 8/8 [00:02<00:00,  3.10it/s]\n",
      "Epoch 82: loss 0.531434 0.8181: 100%|████████████████████████████████████████████████████████████████████████████████████████████████████████████████████████████████████████████████| 8/8 [00:00<00:00, 13.47it/s]\n",
      "Epoch 83: loss 0.529322 0.8191: 100%|████████████████████████████████████████████████████████████████████████████████████████████████████████████████████████████████████████████████| 8/8 [00:00<00:00, 10.81it/s]\n",
      "Epoch 84: loss 0.532069 0.8178: 100%|████████████████████████████████████████████████████████████████████████████████████████████████████████████████████████████████████████████████| 8/8 [00:00<00:00, 13.31it/s]\n",
      "Epoch 85: loss 0.525077 0.8182: 100%|████████████████████████████████████████████████████████████████████████████████████████████████████████████████████████████████████████████████| 8/8 [00:00<00:00, 11.14it/s]\n",
      "Epoch 86: loss 0.520253 0.8184: 100%|████████████████████████████████████████████████████████████████████████████████████████████████████████████████████████████████████████████████| 8/8 [00:00<00:00, 11.60it/s]\n",
      "Epoch 87: loss 0.521169 0.8201: 100%|████████████████████████████████████████████████████████████████████████████████████████████████████████████████████████████████████████████████| 8/8 [00:00<00:00, 13.00it/s]\n",
      "Epoch 88: loss 0.520471 0.8197: 100%|████████████████████████████████████████████████████████████████████████████████████████████████████████████████████████████████████████████████| 8/8 [00:00<00:00, 10.33it/s]\n",
      "Epoch 89: loss 0.518783 0.8204: 100%|████████████████████████████████████████████████████████████████████████████████████████████████████████████████████████████████████████████████| 8/8 [00:00<00:00,  9.92it/s]\n",
      "Epoch 90: loss 0.518609 0.8210:  50%|████████████████████████████████████████████████████████████████████████                                                                        | 4/8 [00:00<00:00,  6.29it/s]\n",
      "  0%|                                                                                                                                                                                        | 0/2 [00:00<?, ?it/s]\u001b[A\n",
      "Valid 90: loss 0.552040 0.7832:   0%|                                                                                                                                                        | 0/2 [00:00<?, ?it/s]\u001b[A\n",
      "Valid 90: loss 0.552040 0.7832:  50%|████████████████████████████████████████████████████████████████████████                                                                        | 1/2 [00:00<00:00,  2.52it/s]\u001b[A\n",
      "Valid 90: loss 0.543674 0.8141: 100%|████████████████████████████████████████████████████████████████████████████████████████████████████████████████████████████████████████████████| 2/2 [00:00<00:00,  4.40it/s]\u001b[A\n",
      "Epoch 90: loss 0.518609 0.8210: 100%|████████████████████████████████████████████████████████████████████████████████████████████████████████████████████████████████████████████████| 8/8 [00:01<00:00,  6.30it/s]\n",
      "Epoch 91: loss 0.517936 0.8215: 100%|████████████████████████████████████████████████████████████████████████████████████████████████████████████████████████████████████████████████| 8/8 [00:00<00:00, 12.12it/s]\n",
      "Epoch 92: loss 0.527032 0.8223: 100%|████████████████████████████████████████████████████████████████████████████████████████████████████████████████████████████████████████████████| 8/8 [00:00<00:00, 13.34it/s]\n",
      "Epoch 93: loss 0.519403 0.8221: 100%|████████████████████████████████████████████████████████████████████████████████████████████████████████████████████████████████████████████████| 8/8 [00:00<00:00, 10.28it/s]\n",
      "Epoch 94: loss 0.515643 0.8223: 100%|████████████████████████████████████████████████████████████████████████████████████████████████████████████████████████████████████████████████| 8/8 [00:00<00:00, 11.01it/s]\n",
      "Epoch 95: loss 0.515006 0.8236: 100%|████████████████████████████████████████████████████████████████████████████████████████████████████████████████████████████████████████████████| 8/8 [00:00<00:00, 13.67it/s]\n",
      "Epoch 96: loss 0.516763 0.8232: 100%|████████████████████████████████████████████████████████████████████████████████████████████████████████████████████████████████████████████████| 8/8 [00:00<00:00, 13.21it/s]\n",
      "Epoch 97: loss 0.514997 0.8241: 100%|████████████████████████████████████████████████████████████████████████████████████████████████████████████████████████████████████████████████| 8/8 [00:00<00:00, 13.22it/s]\n",
      "Epoch 98: loss 0.516586 0.8246: 100%|████████████████████████████████████████████████████████████████████████████████████████████████████████████████████████████████████████████████| 8/8 [00:00<00:00, 12.30it/s]\n"
     ]
    },
    {
     "name": "stderr",
     "output_type": "stream",
     "text": [
      "Epoch 99: loss 0.513954 0.8245: 100%|████████████████████████████████████████████████████████████████████████████████████████████████████████████████████████████████████████████████| 8/8 [00:00<00:00, 12.00it/s]\n",
      "Epoch 100: loss 0.518639 0.8248:  75%|███████████████████████████████████████████████████████████████████████████████████████████████████████████▎                                   | 6/8 [00:00<00:00, 13.68it/s]\n",
      "  0%|                                                                                                                                                                                        | 0/2 [00:00<?, ?it/s]\u001b[A\n",
      "Valid 100: loss 0.538376 0.8074:   0%|                                                                                                                                                       | 0/2 [00:00<?, ?it/s]\u001b[A\n",
      "Valid 100: loss 0.538376 0.8074:  50%|███████████████████████████████████████████████████████████████████████▌                                                                       | 1/2 [00:00<00:00,  2.61it/s]\u001b[A\n",
      "Valid 100: loss 0.539463 0.8054: 100%|███████████████████████████████████████████████████████████████████████████████████████████████████████████████████████████████████████████████| 2/2 [00:00<00:00,  4.46it/s]\u001b[A\n",
      "Epoch 100: loss 0.518639 0.8248: 100%|███████████████████████████████████████████████████████████████████████████████████████████████████████████████████████████████████████████████| 8/8 [00:01<00:00,  7.55it/s]\n",
      "Epoch 101: loss 0.512593 0.8257: 100%|███████████████████████████████████████████████████████████████████████████████████████████████████████████████████████████████████████████████| 8/8 [00:00<00:00, 12.75it/s]\n",
      "Epoch 102: loss 0.511060 0.8250: 100%|███████████████████████████████████████████████████████████████████████████████████████████████████████████████████████████████████████████████| 8/8 [00:00<00:00, 11.03it/s]\n",
      "Epoch 103: loss 0.511355 0.8265: 100%|███████████████████████████████████████████████████████████████████████████████████████████████████████████████████████████████████████████████| 8/8 [00:00<00:00, 12.74it/s]\n",
      "Epoch 104: loss 0.516201 0.8262: 100%|███████████████████████████████████████████████████████████████████████████████████████████████████████████████████████████████████████████████| 8/8 [00:00<00:00, 11.04it/s]\n",
      "Epoch 105: loss 0.513473 0.8266: 100%|███████████████████████████████████████████████████████████████████████████████████████████████████████████████████████████████████████████████| 8/8 [00:00<00:00,  8.92it/s]\n",
      "Epoch 106: loss 0.514130 0.8259: 100%|███████████████████████████████████████████████████████████████████████████████████████████████████████████████████████████████████████████████| 8/8 [00:00<00:00, 14.78it/s]\n",
      "Epoch 107: loss 0.531424 0.8260: 100%|███████████████████████████████████████████████████████████████████████████████████████████████████████████████████████████████████████████████| 8/8 [00:00<00:00, 13.66it/s]\n",
      "Epoch 108: loss 0.519706 0.8261: 100%|███████████████████████████████████████████████████████████████████████████████████████████████████████████████████████████████████████████████| 8/8 [00:00<00:00, 13.49it/s]\n",
      "Epoch 109: loss 0.515618 0.8263: 100%|███████████████████████████████████████████████████████████████████████████████████████████████████████████████████████████████████████████████| 8/8 [00:00<00:00, 12.19it/s]\n",
      "Epoch 110: loss 0.518723 0.8266:  75%|███████████████████████████████████████████████████████████████████████████████████████████████████████████▎                                   | 6/8 [00:00<00:00, 11.82it/s]\n",
      "  0%|                                                                                                                                                                                        | 0/2 [00:00<?, ?it/s]\u001b[A\n",
      "Valid 110: loss 0.530083 0.8203:   0%|                                                                                                                                                       | 0/2 [00:00<?, ?it/s]\u001b[A\n",
      "Valid 110: loss 0.530083 0.8203:  50%|███████████████████████████████████████████████████████████████████████▌                                                                       | 1/2 [00:00<00:00,  2.59it/s]\u001b[A\n",
      "Valid 110: loss 0.555373 0.7912: 100%|███████████████████████████████████████████████████████████████████████████████████████████████████████████████████████████████████████████████| 2/2 [00:00<00:00,  4.35it/s]\u001b[A\n",
      "Epoch 110: loss 0.518723 0.8266: 100%|███████████████████████████████████████████████████████████████████████████████████████████████████████████████████████████████████████████████| 8/8 [00:01<00:00,  6.98it/s]\n"
     ]
    },
    {
     "name": "stdout",
     "output_type": "stream",
     "text": [
      "EarlyStopping counter: 1 out of 100\n"
     ]
    },
    {
     "name": "stderr",
     "output_type": "stream",
     "text": [
      "Epoch 111: loss 0.530747 0.8259: 100%|███████████████████████████████████████████████████████████████████████████████████████████████████████████████████████████████████████████████| 8/8 [00:00<00:00, 13.12it/s]\n",
      "Epoch 112: loss 0.526839 0.8256: 100%|███████████████████████████████████████████████████████████████████████████████████████████████████████████████████████████████████████████████| 8/8 [00:00<00:00,  9.47it/s]\n",
      "Epoch 113: loss 0.520955 0.8261: 100%|███████████████████████████████████████████████████████████████████████████████████████████████████████████████████████████████████████████████| 8/8 [00:00<00:00, 12.92it/s]\n",
      "Epoch 114: loss 0.508362 0.8281: 100%|███████████████████████████████████████████████████████████████████████████████████████████████████████████████████████████████████████████████| 8/8 [00:00<00:00, 10.52it/s]\n",
      "Epoch 115: loss 0.508982 0.8281: 100%|███████████████████████████████████████████████████████████████████████████████████████████████████████████████████████████████████████████████| 8/8 [00:00<00:00,  9.80it/s]\n",
      "Epoch 116: loss 0.514434 0.8273: 100%|███████████████████████████████████████████████████████████████████████████████████████████████████████████████████████████████████████████████| 8/8 [00:00<00:00, 13.27it/s]\n",
      "Epoch 117: loss 0.510757 0.8282: 100%|███████████████████████████████████████████████████████████████████████████████████████████████████████████████████████████████████████████████| 8/8 [00:00<00:00,  9.75it/s]\n",
      "Epoch 118: loss 0.506973 0.8290: 100%|███████████████████████████████████████████████████████████████████████████████████████████████████████████████████████████████████████████████| 8/8 [00:00<00:00, 12.89it/s]\n",
      "Epoch 119: loss 0.506591 0.8296: 100%|███████████████████████████████████████████████████████████████████████████████████████████████████████████████████████████████████████████████| 8/8 [00:00<00:00, 10.90it/s]\n",
      "Epoch 120: loss 0.511042 0.8302:  62%|█████████████████████████████████████████████████████████████████████████████████████████▍                                                     | 5/8 [00:00<00:00, 10.52it/s]\n",
      "  0%|                                                                                                                                                                                        | 0/2 [00:00<?, ?it/s]\u001b[A\n",
      "Valid 120: loss 0.538569 0.8083:   0%|                                                                                                                                                       | 0/2 [00:00<?, ?it/s]\u001b[A\n",
      "Valid 120: loss 0.538569 0.8083:  50%|███████████████████████████████████████████████████████████████████████▌                                                                       | 1/2 [00:00<00:00,  2.64it/s]\u001b[A\n",
      "Valid 120: loss 0.536729 0.8093: 100%|███████████████████████████████████████████████████████████████████████████████████████████████████████████████████████████████████████████████| 2/2 [00:00<00:00,  4.52it/s]\u001b[A\n",
      "Epoch 120: loss 0.511042 0.8302: 100%|███████████████████████████████████████████████████████████████████████████████████████████████████████████████████████████████████████████████| 8/8 [00:01<00:00,  7.23it/s]\n",
      "Epoch 121: loss 0.518128 0.8295: 100%|███████████████████████████████████████████████████████████████████████████████████████████████████████████████████████████████████████████████| 8/8 [00:00<00:00, 12.92it/s]\n",
      "Epoch 122: loss 0.506329 0.8304: 100%|███████████████████████████████████████████████████████████████████████████████████████████████████████████████████████████████████████████████| 8/8 [00:00<00:00, 13.11it/s]\n",
      "Epoch 123: loss 0.505691 0.8303: 100%|███████████████████████████████████████████████████████████████████████████████████████████████████████████████████████████████████████████████| 8/8 [00:00<00:00,  8.63it/s]\n",
      "Epoch 124: loss 0.505405 0.8304: 100%|███████████████████████████████████████████████████████████████████████████████████████████████████████████████████████████████████████████████| 8/8 [00:00<00:00, 13.57it/s]\n",
      "Epoch 125: loss 0.505518 0.8300: 100%|███████████████████████████████████████████████████████████████████████████████████████████████████████████████████████████████████████████████| 8/8 [00:00<00:00, 12.69it/s]\n",
      "Epoch 126: loss 0.506583 0.8312: 100%|███████████████████████████████████████████████████████████████████████████████████████████████████████████████████████████████████████████████| 8/8 [00:00<00:00, 12.04it/s]\n",
      "Epoch 127: loss 0.504603 0.8311: 100%|███████████████████████████████████████████████████████████████████████████████████████████████████████████████████████████████████████████████| 8/8 [00:00<00:00, 10.91it/s]\n",
      "Epoch 128: loss 0.505407 0.8318: 100%|███████████████████████████████████████████████████████████████████████████████████████████████████████████████████████████████████████████████| 8/8 [00:00<00:00, 10.53it/s]\n",
      "Epoch 129: loss 0.505268 0.8310: 100%|███████████████████████████████████████████████████████████████████████████████████████████████████████████████████████████████████████████████| 8/8 [00:00<00:00, 11.84it/s]\n",
      "Epoch 130: loss 0.514620 0.8304:  62%|█████████████████████████████████████████████████████████████████████████████████████████▍                                                     | 5/8 [00:00<00:00, 12.01it/s]\n",
      "  0%|                                                                                                                                                                                        | 0/2 [00:00<?, ?it/s]\u001b[A\n",
      "Valid 130: loss 0.539276 0.8157:   0%|                                                                                                                                                       | 0/2 [00:00<?, ?it/s]\u001b[A\n",
      "Valid 130: loss 0.539276 0.8157:  50%|███████████████████████████████████████████████████████████████████████▌                                                                       | 1/2 [00:00<00:00,  2.52it/s]\u001b[A\n",
      "Valid 130: loss 0.537226 0.8082: 100%|███████████████████████████████████████████████████████████████████████████████████████████████████████████████████████████████████████████████| 2/2 [00:00<00:00,  4.24it/s]\u001b[A\n",
      "Epoch 130: loss 0.514620 0.8304: 100%|███████████████████████████████████████████████████████████████████████████████████████████████████████████████████████████████████████████████| 8/8 [00:01<00:00,  7.18it/s]\n"
     ]
    },
    {
     "name": "stdout",
     "output_type": "stream",
     "text": [
      "EarlyStopping counter: 1 out of 100\n"
     ]
    },
    {
     "name": "stderr",
     "output_type": "stream",
     "text": [
      "Epoch 131: loss 0.502674 0.8324: 100%|███████████████████████████████████████████████████████████████████████████████████████████████████████████████████████████████████████████████| 8/8 [00:00<00:00, 12.72it/s]\n",
      "Epoch 132: loss 0.502750 0.8326: 100%|███████████████████████████████████████████████████████████████████████████████████████████████████████████████████████████████████████████████| 8/8 [00:00<00:00, 11.50it/s]\n",
      "Epoch 133: loss 0.510630 0.8325: 100%|███████████████████████████████████████████████████████████████████████████████████████████████████████████████████████████████████████████████| 8/8 [00:00<00:00,  8.76it/s]\n",
      "Epoch 134: loss 0.504270 0.8323: 100%|███████████████████████████████████████████████████████████████████████████████████████████████████████████████████████████████████████████████| 8/8 [00:00<00:00, 12.87it/s]\n",
      "Epoch 135: loss 0.507512 0.8319: 100%|███████████████████████████████████████████████████████████████████████████████████████████████████████████████████████████████████████████████| 8/8 [00:00<00:00, 12.81it/s]\n",
      "Epoch 136: loss 0.506188 0.8322: 100%|███████████████████████████████████████████████████████████████████████████████████████████████████████████████████████████████████████████████| 8/8 [00:00<00:00, 12.44it/s]\n",
      "Epoch 137: loss 0.503500 0.8327: 100%|███████████████████████████████████████████████████████████████████████████████████████████████████████████████████████████████████████████████| 8/8 [00:00<00:00, 13.40it/s]\n",
      "Epoch 138: loss 0.505114 0.8327: 100%|███████████████████████████████████████████████████████████████████████████████████████████████████████████████████████████████████████████████| 8/8 [00:00<00:00, 12.74it/s]\n",
      "Epoch 139: loss 0.501693 0.8335: 100%|███████████████████████████████████████████████████████████████████████████████████████████████████████████████████████████████████████████████| 8/8 [00:00<00:00, 14.18it/s]\n",
      "Epoch 140: loss 0.503316 0.8333:  62%|█████████████████████████████████████████████████████████████████████████████████████████▍                                                     | 5/8 [00:00<00:00,  9.77it/s]\n",
      "  0%|                                                                                                                                                                                        | 0/2 [00:00<?, ?it/s]\u001b[A\n",
      "Valid 140: loss 0.530201 0.8173:   0%|                                                                                                                                                       | 0/2 [00:00<?, ?it/s]\u001b[A\n",
      "Valid 140: loss 0.530201 0.8173:  50%|███████████████████████████████████████████████████████████████████████▌                                                                       | 1/2 [00:00<00:00,  2.53it/s]\u001b[A\n",
      "Valid 140: loss 0.535861 0.8066: 100%|███████████████████████████████████████████████████████████████████████████████████████████████████████████████████████████████████████████████| 2/2 [00:00<00:00,  4.21it/s]\u001b[A\n",
      "Epoch 140: loss 0.503316 0.8333: 100%|███████████████████████████████████████████████████████████████████████████████████████████████████████████████████████████████████████████████| 8/8 [00:01<00:00,  6.44it/s]\n",
      "Epoch 141: loss 0.500289 0.8337: 100%|███████████████████████████████████████████████████████████████████████████████████████████████████████████████████████████████████████████████| 8/8 [00:00<00:00, 12.29it/s]\n",
      "Epoch 142: loss 0.501062 0.8339: 100%|███████████████████████████████████████████████████████████████████████████████████████████████████████████████████████████████████████████████| 8/8 [00:00<00:00, 10.59it/s]\n",
      "Epoch 143: loss 0.501846 0.8341: 100%|███████████████████████████████████████████████████████████████████████████████████████████████████████████████████████████████████████████████| 8/8 [00:00<00:00, 13.05it/s]\n",
      "Epoch 144: loss 0.514814 0.8340: 100%|███████████████████████████████████████████████████████████████████████████████████████████████████████████████████████████████████████████████| 8/8 [00:00<00:00,  9.83it/s]\n",
      "Epoch 145: loss 0.502534 0.8330: 100%|███████████████████████████████████████████████████████████████████████████████████████████████████████████████████████████████████████████████| 8/8 [00:00<00:00, 11.26it/s]\n",
      "Epoch 146: loss 0.502569 0.8340: 100%|███████████████████████████████████████████████████████████████████████████████████████████████████████████████████████████████████████████████| 8/8 [00:00<00:00,  9.29it/s]\n",
      "Epoch 147: loss 0.500410 0.8346: 100%|███████████████████████████████████████████████████████████████████████████████████████████████████████████████████████████████████████████████| 8/8 [00:00<00:00, 11.44it/s]\n",
      "Epoch 148: loss 0.510761 0.8325: 100%|███████████████████████████████████████████████████████████████████████████████████████████████████████████████████████████████████████████████| 8/8 [00:00<00:00, 11.75it/s]\n",
      "Epoch 149: loss 0.507823 0.8326: 100%|███████████████████████████████████████████████████████████████████████████████████████████████████████████████████████████████████████████████| 8/8 [00:00<00:00, 12.02it/s]\n",
      "Epoch 150: loss 0.500236 0.8345:  75%|███████████████████████████████████████████████████████████████████████████████████████████████████████████▎                                   | 6/8 [00:00<00:00, 12.77it/s]\n",
      "  0%|                                                                                                                                                                                        | 0/2 [00:00<?, ?it/s]\u001b[A\n",
      "Valid 150: loss 0.517242 0.8330:   0%|                                                                                                                                                       | 0/2 [00:00<?, ?it/s]\u001b[A\n",
      "Valid 150: loss 0.517242 0.8330:  50%|███████████████████████████████████████████████████████████████████████▌                                                                       | 1/2 [00:00<00:00,  2.63it/s]\u001b[A\n",
      "Valid 150: loss 0.548242 0.7845: 100%|███████████████████████████████████████████████████████████████████████████████████████████████████████████████████████████████████████████████| 2/2 [00:00<00:00,  4.45it/s]\u001b[A\n",
      "Epoch 150: loss 0.500236 0.8345: 100%|███████████████████████████████████████████████████████████████████████████████████████████████████████████████████████████████████████████████| 8/8 [00:01<00:00,  7.12it/s]\n"
     ]
    },
    {
     "name": "stdout",
     "output_type": "stream",
     "text": [
      "EarlyStopping counter: 1 out of 100\n"
     ]
    },
    {
     "name": "stderr",
     "output_type": "stream",
     "text": [
      "Epoch 151: loss 0.504771 0.8339: 100%|███████████████████████████████████████████████████████████████████████████████████████████████████████████████████████████████████████████████| 8/8 [00:00<00:00, 10.99it/s]\n",
      "Epoch 152: loss 0.501811 0.8348: 100%|███████████████████████████████████████████████████████████████████████████████████████████████████████████████████████████████████████████████| 8/8 [00:00<00:00, 12.25it/s]\n",
      "Epoch 153: loss 0.502789 0.8348: 100%|███████████████████████████████████████████████████████████████████████████████████████████████████████████████████████████████████████████████| 8/8 [00:00<00:00, 12.77it/s]\n",
      "Epoch 154: loss 0.501558 0.8346: 100%|███████████████████████████████████████████████████████████████████████████████████████████████████████████████████████████████████████████████| 8/8 [00:00<00:00, 10.79it/s]\n",
      "Epoch 155: loss 0.498006 0.8357: 100%|███████████████████████████████████████████████████████████████████████████████████████████████████████████████████████████████████████████████| 8/8 [00:00<00:00, 10.38it/s]\n",
      "Epoch 156: loss 0.504243 0.8348: 100%|███████████████████████████████████████████████████████████████████████████████████████████████████████████████████████████████████████████████| 8/8 [00:00<00:00, 12.69it/s]\n",
      "Epoch 157: loss 0.510964 0.8348: 100%|███████████████████████████████████████████████████████████████████████████████████████████████████████████████████████████████████████████████| 8/8 [00:00<00:00, 12.79it/s]\n",
      "Epoch 158: loss 0.507022 0.8358: 100%|███████████████████████████████████████████████████████████████████████████████████████████████████████████████████████████████████████████████| 8/8 [00:00<00:00, 11.75it/s]\n",
      "Epoch 159: loss 0.503336 0.8362: 100%|███████████████████████████████████████████████████████████████████████████████████████████████████████████████████████████████████████████████| 8/8 [00:00<00:00, 13.02it/s]\n",
      "Epoch 160: loss 0.501937 0.8355:  88%|█████████████████████████████████████████████████████████████████████████████████████████████████████████████████████████████▏                 | 7/8 [00:00<00:00, 13.31it/s]\n",
      "  0%|                                                                                                                                                                                        | 0/2 [00:00<?, ?it/s]\u001b[A\n",
      "Valid 160: loss 0.538665 0.8111:   0%|                                                                                                                                                       | 0/2 [00:00<?, ?it/s]\u001b[A\n",
      "Valid 160: loss 0.538665 0.8111:  50%|███████████████████████████████████████████████████████████████████████▌                                                                       | 1/2 [00:00<00:00,  2.53it/s]\u001b[A\n",
      "Valid 160: loss 0.532777 0.8110: 100%|███████████████████████████████████████████████████████████████████████████████████████████████████████████████████████████████████████████████| 2/2 [00:00<00:00,  4.28it/s]\u001b[A\n",
      "Epoch 160: loss 0.501937 0.8355: 100%|███████████████████████████████████████████████████████████████████████████████████████████████████████████████████████████████████████████████| 8/8 [00:01<00:00,  6.64it/s]\n",
      "Epoch 161: loss 0.518522 0.8333: 100%|███████████████████████████████████████████████████████████████████████████████████████████████████████████████████████████████████████████████| 8/8 [00:00<00:00, 11.56it/s]\n",
      "Epoch 162: loss 0.519614 0.8333: 100%|███████████████████████████████████████████████████████████████████████████████████████████████████████████████████████████████████████████████| 8/8 [00:00<00:00, 12.97it/s]\n",
      "Epoch 163: loss 0.517204 0.8314: 100%|███████████████████████████████████████████████████████████████████████████████████████████████████████████████████████████████████████████████| 8/8 [00:00<00:00, 12.64it/s]\n",
      "Epoch 164: loss 0.501124 0.8354: 100%|███████████████████████████████████████████████████████████████████████████████████████████████████████████████████████████████████████████████| 8/8 [00:00<00:00, 13.62it/s]\n",
      "Epoch 165: loss 0.503025 0.8352: 100%|███████████████████████████████████████████████████████████████████████████████████████████████████████████████████████████████████████████████| 8/8 [00:00<00:00, 12.14it/s]\n",
      "Epoch 166: loss 0.496672 0.8358: 100%|███████████████████████████████████████████████████████████████████████████████████████████████████████████████████████████████████████████████| 8/8 [00:00<00:00, 12.77it/s]\n",
      "Epoch 167: loss 0.504184 0.8342: 100%|███████████████████████████████████████████████████████████████████████████████████████████████████████████████████████████████████████████████| 8/8 [00:00<00:00, 13.58it/s]\n",
      "Epoch 168: loss 0.514803 0.8347: 100%|███████████████████████████████████████████████████████████████████████████████████████████████████████████████████████████████████████████████| 8/8 [00:00<00:00, 11.59it/s]\n",
      "Epoch 169: loss 0.500231 0.8364: 100%|███████████████████████████████████████████████████████████████████████████████████████████████████████████████████████████████████████████████| 8/8 [00:00<00:00, 12.84it/s]\n",
      "Epoch 170: loss 0.498210 0.8357:  75%|███████████████████████████████████████████████████████████████████████████████████████████████████████████▎                                   | 6/8 [00:00<00:00, 14.12it/s]\n",
      "  0%|                                                                                                                                                                                        | 0/2 [00:00<?, ?it/s]\u001b[A\n",
      "Valid 170: loss 0.538434 0.8208:   0%|                                                                                                                                                       | 0/2 [00:00<?, ?it/s]\u001b[A\n",
      "Valid 170: loss 0.538434 0.8208:  50%|███████████████████████████████████████████████████████████████████████▌                                                                       | 1/2 [00:00<00:00,  2.67it/s]\u001b[A\n",
      "Valid 170: loss 0.548303 0.7992: 100%|███████████████████████████████████████████████████████████████████████████████████████████████████████████████████████████████████████████████| 2/2 [00:00<00:00,  4.42it/s]\u001b[A\n",
      "Epoch 170: loss 0.498210 0.8357: 100%|███████████████████████████████████████████████████████████████████████████████████████████████████████████████████████████████████████████████| 8/8 [00:01<00:00,  7.49it/s]\n"
     ]
    },
    {
     "name": "stdout",
     "output_type": "stream",
     "text": [
      "EarlyStopping counter: 1 out of 100\n"
     ]
    },
    {
     "name": "stderr",
     "output_type": "stream",
     "text": [
      "Epoch 171: loss 0.498551 0.8356: 100%|███████████████████████████████████████████████████████████████████████████████████████████████████████████████████████████████████████████████| 8/8 [00:00<00:00,  9.07it/s]\n",
      "Epoch 172: loss 0.497074 0.8366: 100%|███████████████████████████████████████████████████████████████████████████████████████████████████████████████████████████████████████████████| 8/8 [00:00<00:00, 10.35it/s]\n",
      "Epoch 173: loss 0.499506 0.8364: 100%|███████████████████████████████████████████████████████████████████████████████████████████████████████████████████████████████████████████████| 8/8 [00:02<00:00,  3.13it/s]\n",
      "Epoch 174: loss 0.495743 0.8372: 100%|███████████████████████████████████████████████████████████████████████████████████████████████████████████████████████████████████████████████| 8/8 [00:00<00:00, 11.84it/s]\n",
      "Epoch 175: loss 0.509851 0.8361: 100%|███████████████████████████████████████████████████████████████████████████████████████████████████████████████████████████████████████████████| 8/8 [00:00<00:00, 10.45it/s]\n",
      "Epoch 176: loss 0.502535 0.8362: 100%|███████████████████████████████████████████████████████████████████████████████████████████████████████████████████████████████████████████████| 8/8 [00:00<00:00, 11.43it/s]\n",
      "Epoch 177: loss 0.505580 0.8368: 100%|███████████████████████████████████████████████████████████████████████████████████████████████████████████████████████████████████████████████| 8/8 [00:01<00:00,  7.94it/s]\n",
      "Epoch 178: loss 0.498783 0.8375: 100%|███████████████████████████████████████████████████████████████████████████████████████████████████████████████████████████████████████████████| 8/8 [00:00<00:00, 13.32it/s]\n",
      "Epoch 179: loss 0.504949 0.8369: 100%|███████████████████████████████████████████████████████████████████████████████████████████████████████████████████████████████████████████████| 8/8 [00:00<00:00, 13.07it/s]\n",
      "Epoch 180: loss 0.502341 0.8378:  75%|███████████████████████████████████████████████████████████████████████████████████████████████████████████▎                                   | 6/8 [00:00<00:00, 12.09it/s]\n",
      "  0%|                                                                                                                                                                                        | 0/2 [00:00<?, ?it/s]\u001b[A\n",
      "Valid 180: loss 0.537211 0.8149:   0%|                                                                                                                                                       | 0/2 [00:00<?, ?it/s]\u001b[A\n",
      "Valid 180: loss 0.537211 0.8149:  50%|███████████████████████████████████████████████████████████████████████▌                                                                       | 1/2 [00:00<00:00,  2.58it/s]\u001b[A\n",
      "Valid 180: loss 0.536842 0.8105: 100%|███████████████████████████████████████████████████████████████████████████████████████████████████████████████████████████████████████████████| 2/2 [00:00<00:00,  4.31it/s]\u001b[A\n",
      "Epoch 180: loss 0.502341 0.8378: 100%|███████████████████████████████████████████████████████████████████████████████████████████████████████████████████████████████████████████████| 8/8 [00:01<00:00,  7.03it/s]\n"
     ]
    },
    {
     "name": "stdout",
     "output_type": "stream",
     "text": [
      "EarlyStopping counter: 2 out of 100\n"
     ]
    },
    {
     "name": "stderr",
     "output_type": "stream",
     "text": [
      "Epoch 181: loss 0.493132 0.8385: 100%|███████████████████████████████████████████████████████████████████████████████████████████████████████████████████████████████████████████████| 8/8 [00:00<00:00, 13.47it/s]\n",
      "Epoch 182: loss 0.492532 0.8390: 100%|███████████████████████████████████████████████████████████████████████████████████████████████████████████████████████████████████████████████| 8/8 [00:00<00:00, 12.15it/s]\n",
      "Epoch 183: loss 0.495216 0.8378: 100%|███████████████████████████████████████████████████████████████████████████████████████████████████████████████████████████████████████████████| 8/8 [00:00<00:00, 11.19it/s]\n",
      "Epoch 184: loss 0.497675 0.8375: 100%|███████████████████████████████████████████████████████████████████████████████████████████████████████████████████████████████████████████████| 8/8 [00:00<00:00, 13.60it/s]\n",
      "Epoch 185: loss 0.507384 0.8377: 100%|███████████████████████████████████████████████████████████████████████████████████████████████████████████████████████████████████████████████| 8/8 [00:00<00:00, 11.34it/s]\n",
      "Epoch 186: loss 0.500271 0.8380: 100%|███████████████████████████████████████████████████████████████████████████████████████████████████████████████████████████████████████████████| 8/8 [00:00<00:00,  9.63it/s]\n",
      "Epoch 187: loss 0.493512 0.8393: 100%|███████████████████████████████████████████████████████████████████████████████████████████████████████████████████████████████████████████████| 8/8 [00:00<00:00, 10.87it/s]\n",
      "Epoch 188: loss 0.494044 0.8385: 100%|███████████████████████████████████████████████████████████████████████████████████████████████████████████████████████████████████████████████| 8/8 [00:00<00:00, 11.31it/s]\n",
      "Epoch 189: loss 0.493094 0.8391: 100%|███████████████████████████████████████████████████████████████████████████████████████████████████████████████████████████████████████████████| 8/8 [00:00<00:00,  9.31it/s]\n",
      "Epoch 190: loss 0.493824 0.8387:  50%|███████████████████████████████████████████████████████████████████████▌                                                                       | 4/8 [00:00<00:00,  8.43it/s]\n",
      "  0%|                                                                                                                                                                                        | 0/2 [00:00<?, ?it/s]\u001b[A\n",
      "Valid 190: loss 0.538891 0.8059:   0%|                                                                                                                                                       | 0/2 [00:00<?, ?it/s]\u001b[A\n",
      "Valid 190: loss 0.538891 0.8059:  50%|███████████████████████████████████████████████████████████████████████▌                                                                       | 1/2 [00:00<00:00,  2.60it/s]\u001b[A\n",
      "Valid 190: loss 0.534445 0.8175: 100%|███████████████████████████████████████████████████████████████████████████████████████████████████████████████████████████████████████████████| 2/2 [00:00<00:00,  4.34it/s]\u001b[A\n",
      "Epoch 190: loss 0.493824 0.8387: 100%|███████████████████████████████████████████████████████████████████████████████████████████████████████████████████████████████████████████████| 8/8 [00:01<00:00,  6.77it/s]\n"
     ]
    },
    {
     "name": "stdout",
     "output_type": "stream",
     "text": [
      "EarlyStopping counter: 3 out of 100\n"
     ]
    },
    {
     "name": "stderr",
     "output_type": "stream",
     "text": [
      "Epoch 191: loss 0.493129 0.8394: 100%|███████████████████████████████████████████████████████████████████████████████████████████████████████████████████████████████████████████████| 8/8 [00:00<00:00, 12.55it/s]\n",
      "Epoch 192: loss 0.496071 0.8388: 100%|███████████████████████████████████████████████████████████████████████████████████████████████████████████████████████████████████████████████| 8/8 [00:00<00:00, 13.56it/s]\n",
      "Epoch 193: loss 0.494552 0.8398: 100%|███████████████████████████████████████████████████████████████████████████████████████████████████████████████████████████████████████████████| 8/8 [00:00<00:00, 11.38it/s]\n",
      "Epoch 194: loss 0.496762 0.8399: 100%|███████████████████████████████████████████████████████████████████████████████████████████████████████████████████████████████████████████████| 8/8 [00:00<00:00,  9.78it/s]\n",
      "Epoch 195: loss 0.521899 0.8368: 100%|███████████████████████████████████████████████████████████████████████████████████████████████████████████████████████████████████████████████| 8/8 [00:00<00:00, 11.73it/s]\n",
      "Epoch 196: loss 0.502273 0.8386: 100%|███████████████████████████████████████████████████████████████████████████████████████████████████████████████████████████████████████████████| 8/8 [00:00<00:00, 12.94it/s]\n",
      "Epoch 197: loss 0.491272 0.8398: 100%|███████████████████████████████████████████████████████████████████████████████████████████████████████████████████████████████████████████████| 8/8 [00:00<00:00, 13.16it/s]\n",
      "Epoch 198: loss 0.492102 0.8401: 100%|███████████████████████████████████████████████████████████████████████████████████████████████████████████████████████████████████████████████| 8/8 [00:00<00:00, 12.28it/s]\n",
      "Epoch 199: loss 0.492154 0.8402: 100%|███████████████████████████████████████████████████████████████████████████████████████████████████████████████████████████████████████████████| 8/8 [00:00<00:00, 13.07it/s]\n",
      "Epoch 200: loss 0.492837 0.8401:  62%|█████████████████████████████████████████████████████████████████████████████████████████▍                                                     | 5/8 [00:00<00:00, 11.53it/s]\n",
      "  0%|                                                                                                                                                                                        | 0/2 [00:00<?, ?it/s]\u001b[A\n",
      "Valid 200: loss 0.529385 0.8113:   0%|                                                                                                                                                       | 0/2 [00:00<?, ?it/s]\u001b[A\n",
      "Valid 200: loss 0.529385 0.8113:  50%|███████████████████████████████████████████████████████████████████████▌                                                                       | 1/2 [00:00<00:00,  2.48it/s]\u001b[A\n",
      "Valid 200: loss 0.535891 0.8106: 100%|███████████████████████████████████████████████████████████████████████████████████████████████████████████████████████████████████████████████| 2/2 [00:00<00:00,  4.15it/s]\u001b[A\n",
      "Epoch 200: loss 0.492837 0.8401: 100%|███████████████████████████████████████████████████████████████████████████████████████████████████████████████████████████████████████████████| 8/8 [00:01<00:00,  7.00it/s]\n"
     ]
    },
    {
     "name": "stdout",
     "output_type": "stream",
     "text": [
      "EarlyStopping counter: 4 out of 100\n"
     ]
    },
    {
     "name": "stderr",
     "output_type": "stream",
     "text": [
      "Epoch 201: loss 0.492358 0.8391: 100%|███████████████████████████████████████████████████████████████████████████████████████████████████████████████████████████████████████████████| 8/8 [00:00<00:00, 12.45it/s]\n",
      "Epoch 202: loss 0.502361 0.8406: 100%|███████████████████████████████████████████████████████████████████████████████████████████████████████████████████████████████████████████████| 8/8 [00:00<00:00, 10.70it/s]\n",
      "Epoch 203: loss 0.506969 0.8392: 100%|███████████████████████████████████████████████████████████████████████████████████████████████████████████████████████████████████████████████| 8/8 [00:00<00:00, 12.69it/s]\n",
      "Epoch 204: loss 0.491201 0.8401: 100%|███████████████████████████████████████████████████████████████████████████████████████████████████████████████████████████████████████████████| 8/8 [00:00<00:00,  9.72it/s]\n",
      "Epoch 205: loss 0.491390 0.8398: 100%|███████████████████████████████████████████████████████████████████████████████████████████████████████████████████████████████████████████████| 8/8 [00:00<00:00, 11.88it/s]\n",
      "Epoch 206: loss 0.490887 0.8401: 100%|███████████████████████████████████████████████████████████████████████████████████████████████████████████████████████████████████████████████| 8/8 [00:00<00:00,  9.53it/s]\n",
      "Epoch 207: loss 0.490167 0.8409: 100%|███████████████████████████████████████████████████████████████████████████████████████████████████████████████████████████████████████████████| 8/8 [00:00<00:00, 11.38it/s]\n",
      "Epoch 208: loss 0.489803 0.8409: 100%|███████████████████████████████████████████████████████████████████████████████████████████████████████████████████████████████████████████████| 8/8 [00:00<00:00, 13.58it/s]\n",
      "Epoch 209: loss 0.493879 0.8415: 100%|███████████████████████████████████████████████████████████████████████████████████████████████████████████████████████████████████████████████| 8/8 [00:00<00:00, 12.94it/s]\n",
      "Epoch 210: loss 0.496326 0.8405:  88%|█████████████████████████████████████████████████████████████████████████████████████████████████████████████████████████████▏                 | 7/8 [00:00<00:00, 15.60it/s]\n",
      "  0%|                                                                                                                                                                                        | 0/2 [00:00<?, ?it/s]\u001b[A\n",
      "Valid 210: loss 0.537404 0.8075:   0%|                                                                                                                                                       | 0/2 [00:00<?, ?it/s]\u001b[A\n",
      "Valid 210: loss 0.537404 0.8075:  50%|███████████████████████████████████████████████████████████████████████▌                                                                       | 1/2 [00:00<00:00,  2.52it/s]\u001b[A\n",
      "Valid 210: loss 0.528898 0.8197: 100%|███████████████████████████████████████████████████████████████████████████████████████████████████████████████████████████████████████████████| 2/2 [00:00<00:00,  4.31it/s]\u001b[A\n",
      "Epoch 210: loss 0.496326 0.8405: 100%|███████████████████████████████████████████████████████████████████████████████████████████████████████████████████████████████████████████████| 8/8 [00:01<00:00,  7.30it/s]\n",
      "Epoch 211: loss 0.503804 0.8393: 100%|███████████████████████████████████████████████████████████████████████████████████████████████████████████████████████████████████████████████| 8/8 [00:00<00:00, 12.15it/s]\n",
      "Epoch 212: loss 0.492609 0.8412: 100%|███████████████████████████████████████████████████████████████████████████████████████████████████████████████████████████████████████████████| 8/8 [00:00<00:00, 13.60it/s]\n",
      "Epoch 213: loss 0.493332 0.8412: 100%|███████████████████████████████████████████████████████████████████████████████████████████████████████████████████████████████████████████████| 8/8 [00:00<00:00, 13.82it/s]\n",
      "Epoch 214: loss 0.499197 0.8390: 100%|███████████████████████████████████████████████████████████████████████████████████████████████████████████████████████████████████████████████| 8/8 [00:00<00:00, 13.13it/s]\n",
      "Epoch 215: loss 0.505763 0.8390: 100%|███████████████████████████████████████████████████████████████████████████████████████████████████████████████████████████████████████████████| 8/8 [00:00<00:00, 11.99it/s]\n",
      "Epoch 216: loss 0.505868 0.8393: 100%|███████████████████████████████████████████████████████████████████████████████████████████████████████████████████████████████████████████████| 8/8 [00:00<00:00,  8.85it/s]\n",
      "Epoch 217: loss 0.495220 0.8407: 100%|███████████████████████████████████████████████████████████████████████████████████████████████████████████████████████████████████████████████| 8/8 [00:00<00:00, 12.56it/s]\n",
      "Epoch 218: loss 0.493063 0.8409: 100%|███████████████████████████████████████████████████████████████████████████████████████████████████████████████████████████████████████████████| 8/8 [00:00<00:00,  9.74it/s]\n",
      "Epoch 219: loss 0.491684 0.8414: 100%|███████████████████████████████████████████████████████████████████████████████████████████████████████████████████████████████████████████████| 8/8 [00:00<00:00, 10.62it/s]\n",
      "Epoch 220: loss 0.493844 0.8413:  62%|█████████████████████████████████████████████████████████████████████████████████████████▍                                                     | 5/8 [00:00<00:00,  8.99it/s]\n",
      "  0%|                                                                                                                                                                                        | 0/2 [00:00<?, ?it/s]\u001b[A\n",
      "Valid 220: loss 0.554494 0.7971:   0%|                                                                                                                                                       | 0/2 [00:00<?, ?it/s]\u001b[A\n",
      "Valid 220: loss 0.554494 0.7971:  50%|███████████████████████████████████████████████████████████████████████▌                                                                       | 1/2 [00:00<00:00,  2.44it/s]\u001b[A\n",
      "Valid 220: loss 0.537439 0.8274: 100%|███████████████████████████████████████████████████████████████████████████████████████████████████████████████████████████████████████████████| 2/2 [00:00<00:00,  3.99it/s]\u001b[A\n",
      "Epoch 220: loss 0.493844 0.8413: 100%|███████████████████████████████████████████████████████████████████████████████████████████████████████████████████████████████████████████████| 8/8 [00:01<00:00,  6.23it/s]\n"
     ]
    },
    {
     "name": "stdout",
     "output_type": "stream",
     "text": [
      "EarlyStopping counter: 1 out of 100\n"
     ]
    },
    {
     "name": "stderr",
     "output_type": "stream",
     "text": [
      "Epoch 221: loss 0.491180 0.8407: 100%|███████████████████████████████████████████████████████████████████████████████████████████████████████████████████████████████████████████████| 8/8 [00:00<00:00, 12.90it/s]\n",
      "Epoch 222: loss 0.492526 0.8421: 100%|███████████████████████████████████████████████████████████████████████████████████████████████████████████████████████████████████████████████| 8/8 [00:00<00:00, 11.00it/s]\n",
      "Epoch 223: loss 0.489571 0.8422: 100%|███████████████████████████████████████████████████████████████████████████████████████████████████████████████████████████████████████████████| 8/8 [00:00<00:00, 11.78it/s]\n",
      "Epoch 224: loss 0.487003 0.8417: 100%|███████████████████████████████████████████████████████████████████████████████████████████████████████████████████████████████████████████████| 8/8 [00:00<00:00, 13.24it/s]\n",
      "Epoch 225: loss 0.489022 0.8420: 100%|███████████████████████████████████████████████████████████████████████████████████████████████████████████████████████████████████████████████| 8/8 [00:00<00:00, 12.88it/s]\n",
      "Epoch 226: loss 0.487586 0.8429: 100%|███████████████████████████████████████████████████████████████████████████████████████████████████████████████████████████████████████████████| 8/8 [00:00<00:00, 10.84it/s]\n",
      "Epoch 227: loss 0.487463 0.8429: 100%|███████████████████████████████████████████████████████████████████████████████████████████████████████████████████████████████████████████████| 8/8 [00:00<00:00, 12.42it/s]\n",
      "Epoch 228: loss 0.487183 0.8434: 100%|███████████████████████████████████████████████████████████████████████████████████████████████████████████████████████████████████████████████| 8/8 [00:00<00:00, 11.06it/s]\n",
      "Epoch 229: loss 0.488432 0.8425: 100%|███████████████████████████████████████████████████████████████████████████████████████████████████████████████████████████████████████████████| 8/8 [00:00<00:00, 10.46it/s]\n",
      "Epoch 230: loss 0.485574 0.8436:  75%|███████████████████████████████████████████████████████████████████████████████████████████████████████████▎                                   | 6/8 [00:00<00:00, 10.23it/s]\n",
      "  0%|                                                                                                                                                                                        | 0/2 [00:00<?, ?it/s]\u001b[A\n",
      "Valid 230: loss 0.551498 0.8098:   0%|                                                                                                                                                       | 0/2 [00:00<?, ?it/s]\u001b[A\n",
      "Valid 230: loss 0.551498 0.8098:  50%|███████████████████████████████████████████████████████████████████████▌                                                                       | 1/2 [00:00<00:00,  2.55it/s]\u001b[A\n",
      "Valid 230: loss 0.543343 0.8137: 100%|███████████████████████████████████████████████████████████████████████████████████████████████████████████████████████████████████████████████| 2/2 [00:00<00:00,  4.42it/s]\u001b[A\n",
      "Epoch 230: loss 0.485574 0.8436: 100%|███████████████████████████████████████████████████████████████████████████████████████████████████████████████████████████████████████████████| 8/8 [00:01<00:00,  6.52it/s]\n"
     ]
    },
    {
     "name": "stdout",
     "output_type": "stream",
     "text": [
      "EarlyStopping counter: 2 out of 100\n"
     ]
    },
    {
     "name": "stderr",
     "output_type": "stream",
     "text": [
      "Epoch 231: loss 0.489571 0.8424: 100%|███████████████████████████████████████████████████████████████████████████████████████████████████████████████████████████████████████████████| 8/8 [00:00<00:00, 13.72it/s]\n",
      "Epoch 232: loss 0.491211 0.8418: 100%|███████████████████████████████████████████████████████████████████████████████████████████████████████████████████████████████████████████████| 8/8 [00:00<00:00,  9.71it/s]\n",
      "Epoch 233: loss 0.486820 0.8436: 100%|███████████████████████████████████████████████████████████████████████████████████████████████████████████████████████████████████████████████| 8/8 [00:00<00:00, 10.47it/s]\n",
      "Epoch 234: loss 0.488831 0.8436: 100%|███████████████████████████████████████████████████████████████████████████████████████████████████████████████████████████████████████████████| 8/8 [00:00<00:00, 10.90it/s]\n",
      "Epoch 235: loss 0.487541 0.8436: 100%|███████████████████████████████████████████████████████████████████████████████████████████████████████████████████████████████████████████████| 8/8 [00:00<00:00, 13.91it/s]\n",
      "Epoch 236: loss 0.485956 0.8435: 100%|███████████████████████████████████████████████████████████████████████████████████████████████████████████████████████████████████████████████| 8/8 [00:00<00:00, 13.06it/s]\n",
      "Epoch 237: loss 0.486410 0.8430: 100%|███████████████████████████████████████████████████████████████████████████████████████████████████████████████████████████████████████████████| 8/8 [00:00<00:00, 12.88it/s]\n",
      "Epoch 238: loss 0.489310 0.8435: 100%|███████████████████████████████████████████████████████████████████████████████████████████████████████████████████████████████████████████████| 8/8 [00:00<00:00, 10.11it/s]\n",
      "Epoch 239: loss 0.486375 0.8436: 100%|███████████████████████████████████████████████████████████████████████████████████████████████████████████████████████████████████████████████| 8/8 [00:00<00:00, 11.53it/s]\n",
      "Epoch 240: loss 0.488814 0.8436:  50%|███████████████████████████████████████████████████████████████████████▌                                                                       | 4/8 [00:00<00:00,  8.48it/s]\n",
      "  0%|                                                                                                                                                                                        | 0/2 [00:00<?, ?it/s]\u001b[A\n",
      "Valid 240: loss 0.542414 0.8044:   0%|                                                                                                                                                       | 0/2 [00:00<?, ?it/s]\u001b[A\n",
      "Valid 240: loss 0.542414 0.8044:  50%|███████████████████████████████████████████████████████████████████████▌                                                                       | 1/2 [00:00<00:00,  2.48it/s]\u001b[A\n",
      "Valid 240: loss 0.538882 0.8190: 100%|███████████████████████████████████████████████████████████████████████████████████████████████████████████████████████████████████████████████| 2/2 [00:00<00:00,  4.18it/s]\u001b[A\n",
      "Epoch 240: loss 0.488814 0.8436: 100%|███████████████████████████████████████████████████████████████████████████████████████████████████████████████████████████████████████████████| 8/8 [00:01<00:00,  7.00it/s]\n"
     ]
    },
    {
     "name": "stdout",
     "output_type": "stream",
     "text": [
      "EarlyStopping counter: 3 out of 100\n"
     ]
    },
    {
     "name": "stderr",
     "output_type": "stream",
     "text": [
      "Epoch 241: loss 0.485457 0.8441: 100%|███████████████████████████████████████████████████████████████████████████████████████████████████████████████████████████████████████████████| 8/8 [00:00<00:00, 12.30it/s]\n",
      "Epoch 242: loss 0.485249 0.8437: 100%|███████████████████████████████████████████████████████████████████████████████████████████████████████████████████████████████████████████████| 8/8 [00:00<00:00, 12.72it/s]\n",
      "Epoch 243: loss 0.486950 0.8445: 100%|███████████████████████████████████████████████████████████████████████████████████████████████████████████████████████████████████████████████| 8/8 [00:00<00:00, 13.98it/s]\n",
      "Epoch 244: loss 0.487290 0.8447: 100%|███████████████████████████████████████████████████████████████████████████████████████████████████████████████████████████████████████████████| 8/8 [00:00<00:00, 12.14it/s]\n",
      "Epoch 245: loss 0.485408 0.8439: 100%|███████████████████████████████████████████████████████████████████████████████████████████████████████████████████████████████████████████████| 8/8 [00:00<00:00, 11.57it/s]\n",
      "Epoch 246: loss 0.484423 0.8452: 100%|███████████████████████████████████████████████████████████████████████████████████████████████████████████████████████████████████████████████| 8/8 [00:00<00:00, 10.61it/s]\n",
      "Epoch 247: loss 0.483968 0.8448: 100%|███████████████████████████████████████████████████████████████████████████████████████████████████████████████████████████████████████████████| 8/8 [00:00<00:00, 10.64it/s]\n",
      "Epoch 248: loss 0.488746 0.8423: 100%|███████████████████████████████████████████████████████████████████████████████████████████████████████████████████████████████████████████████| 8/8 [00:00<00:00, 12.94it/s]\n",
      "Epoch 249: loss 0.486533 0.8444: 100%|███████████████████████████████████████████████████████████████████████████████████████████████████████████████████████████████████████████████| 8/8 [00:00<00:00, 13.12it/s]\n",
      "Epoch 250: loss 0.486133 0.8451:  50%|███████████████████████████████████████████████████████████████████████▌                                                                       | 4/8 [00:00<00:00,  6.54it/s]\n",
      "  0%|                                                                                                                                                                                        | 0/2 [00:00<?, ?it/s]\u001b[A\n",
      "Valid 250: loss 0.526813 0.8156:   0%|                                                                                                                                                       | 0/2 [00:00<?, ?it/s]\u001b[A\n",
      "Valid 250: loss 0.526813 0.8156:  50%|███████████████████████████████████████████████████████████████████████▌                                                                       | 1/2 [00:00<00:00,  2.45it/s]\u001b[A\n",
      "Valid 250: loss 0.538622 0.8074: 100%|███████████████████████████████████████████████████████████████████████████████████████████████████████████████████████████████████████████████| 2/2 [00:00<00:00,  4.06it/s]\u001b[A\n",
      "Epoch 250: loss 0.486133 0.8451: 100%|███████████████████████████████████████████████████████████████████████████████████████████████████████████████████████████████████████████████| 8/8 [00:01<00:00,  6.24it/s]\n"
     ]
    },
    {
     "name": "stdout",
     "output_type": "stream",
     "text": [
      "EarlyStopping counter: 4 out of 100\n"
     ]
    },
    {
     "name": "stderr",
     "output_type": "stream",
     "text": [
      "Epoch 251: loss 0.486924 0.8450: 100%|███████████████████████████████████████████████████████████████████████████████████████████████████████████████████████████████████████████████| 8/8 [00:00<00:00, 11.34it/s]\n",
      "Epoch 252: loss 0.486152 0.8447: 100%|███████████████████████████████████████████████████████████████████████████████████████████████████████████████████████████████████████████████| 8/8 [00:00<00:00, 10.53it/s]\n",
      "Epoch 253: loss 0.485183 0.8462: 100%|███████████████████████████████████████████████████████████████████████████████████████████████████████████████████████████████████████████████| 8/8 [00:00<00:00, 12.22it/s]\n",
      "Epoch 254: loss 0.488501 0.8448: 100%|███████████████████████████████████████████████████████████████████████████████████████████████████████████████████████████████████████████████| 8/8 [00:00<00:00, 10.16it/s]\n",
      "Epoch 255: loss 0.485492 0.8458: 100%|███████████████████████████████████████████████████████████████████████████████████████████████████████████████████████████████████████████████| 8/8 [00:00<00:00,  9.64it/s]\n",
      "Epoch 256: loss 0.482862 0.8460: 100%|███████████████████████████████████████████████████████████████████████████████████████████████████████████████████████████████████████████████| 8/8 [00:00<00:00, 12.67it/s]\n",
      "Epoch 257: loss 0.489948 0.8447: 100%|███████████████████████████████████████████████████████████████████████████████████████████████████████████████████████████████████████████████| 8/8 [00:00<00:00, 11.45it/s]\n",
      "Epoch 258: loss 0.494654 0.8456: 100%|███████████████████████████████████████████████████████████████████████████████████████████████████████████████████████████████████████████████| 8/8 [00:00<00:00, 12.94it/s]\n",
      "Epoch 259: loss 0.481073 0.8462: 100%|███████████████████████████████████████████████████████████████████████████████████████████████████████████████████████████████████████████████| 8/8 [00:02<00:00,  3.13it/s]\n",
      "Epoch 260: loss 0.486958 0.8451:  12%|█████████████████▉                                                                                                                             | 1/8 [00:00<00:03,  2.25it/s]\n",
      "  0%|                                                                                                                                                                                        | 0/2 [00:00<?, ?it/s]\u001b[A\n",
      "Valid 260: loss 0.521698 0.8185:   0%|                                                                                                                                                       | 0/2 [00:00<?, ?it/s]\u001b[A\n",
      "Valid 260: loss 0.521698 0.8185:  50%|███████████████████████████████████████████████████████████████████████▌                                                                       | 1/2 [00:00<00:00,  2.53it/s]\u001b[A\n",
      "Valid 260: loss 0.532573 0.8070: 100%|███████████████████████████████████████████████████████████████████████████████████████████████████████████████████████████████████████████████| 2/2 [00:00<00:00,  4.29it/s]\u001b[A\n",
      "Epoch 260: loss 0.486958 0.8451: 100%|███████████████████████████████████████████████████████████████████████████████████████████████████████████████████████████████████████████████| 8/8 [00:01<00:00,  7.53it/s]\n"
     ]
    },
    {
     "name": "stdout",
     "output_type": "stream",
     "text": [
      "EarlyStopping counter: 5 out of 100\n"
     ]
    },
    {
     "name": "stderr",
     "output_type": "stream",
     "text": [
      "Epoch 261: loss 0.486492 0.8449: 100%|███████████████████████████████████████████████████████████████████████████████████████████████████████████████████████████████████████████████| 8/8 [00:00<00:00, 14.03it/s]\n",
      "Epoch 262: loss 0.488086 0.8450: 100%|███████████████████████████████████████████████████████████████████████████████████████████████████████████████████████████████████████████████| 8/8 [00:00<00:00, 10.41it/s]\n",
      "Epoch 263: loss 0.481103 0.8455: 100%|███████████████████████████████████████████████████████████████████████████████████████████████████████████████████████████████████████████████| 8/8 [00:00<00:00,  9.71it/s]\n",
      "Epoch 264: loss 0.491002 0.8450: 100%|███████████████████████████████████████████████████████████████████████████████████████████████████████████████████████████████████████████████| 8/8 [00:00<00:00, 13.42it/s]\n",
      "Epoch 265: loss 0.482058 0.8459: 100%|███████████████████████████████████████████████████████████████████████████████████████████████████████████████████████████████████████████████| 8/8 [00:00<00:00, 11.79it/s]\n",
      "Epoch 266: loss 0.484588 0.8464: 100%|███████████████████████████████████████████████████████████████████████████████████████████████████████████████████████████████████████████████| 8/8 [00:00<00:00, 10.89it/s]\n",
      "Epoch 267: loss 0.483921 0.8468: 100%|███████████████████████████████████████████████████████████████████████████████████████████████████████████████████████████████████████████████| 8/8 [00:00<00:00, 13.72it/s]\n",
      "Epoch 268: loss 0.484089 0.8468: 100%|███████████████████████████████████████████████████████████████████████████████████████████████████████████████████████████████████████████████| 8/8 [00:00<00:00, 11.60it/s]\n",
      "Epoch 269: loss 0.481521 0.8471: 100%|███████████████████████████████████████████████████████████████████████████████████████████████████████████████████████████████████████████████| 8/8 [00:00<00:00, 13.44it/s]\n",
      "Epoch 270: loss 0.485189 0.8469:  62%|█████████████████████████████████████████████████████████████████████████████████████████▍                                                     | 5/8 [00:00<00:00,  9.30it/s]\n",
      "  0%|                                                                                                                                                                                        | 0/2 [00:00<?, ?it/s]\u001b[A\n",
      "Valid 270: loss 0.551523 0.7982:   0%|                                                                                                                                                       | 0/2 [00:00<?, ?it/s]\u001b[A\n",
      "Valid 270: loss 0.551523 0.7982:  50%|███████████████████████████████████████████████████████████████████████▌                                                                       | 1/2 [00:00<00:00,  2.61it/s]\u001b[A\n",
      "Valid 270: loss 0.534290 0.8250: 100%|███████████████████████████████████████████████████████████████████████████████████████████████████████████████████████████████████████████████| 2/2 [00:00<00:00,  4.42it/s]\u001b[A\n",
      "Epoch 270: loss 0.485189 0.8469: 100%|███████████████████████████████████████████████████████████████████████████████████████████████████████████████████████████████████████████████| 8/8 [00:01<00:00,  6.53it/s]\n"
     ]
    },
    {
     "name": "stdout",
     "output_type": "stream",
     "text": [
      "EarlyStopping counter: 6 out of 100\n"
     ]
    },
    {
     "name": "stderr",
     "output_type": "stream",
     "text": [
      "Epoch 271: loss 0.480092 0.8478: 100%|███████████████████████████████████████████████████████████████████████████████████████████████████████████████████████████████████████████████| 8/8 [00:00<00:00, 13.60it/s]\n",
      "Epoch 272: loss 0.482992 0.8463: 100%|███████████████████████████████████████████████████████████████████████████████████████████████████████████████████████████████████████████████| 8/8 [00:00<00:00, 12.98it/s]\n",
      "Epoch 273: loss 0.495645 0.8452: 100%|███████████████████████████████████████████████████████████████████████████████████████████████████████████████████████████████████████████████| 8/8 [00:00<00:00, 12.89it/s]\n",
      "Epoch 274: loss 0.493256 0.8437: 100%|███████████████████████████████████████████████████████████████████████████████████████████████████████████████████████████████████████████████| 8/8 [00:00<00:00, 11.18it/s]\n",
      "Epoch 275: loss 0.479354 0.8472: 100%|███████████████████████████████████████████████████████████████████████████████████████████████████████████████████████████████████████████████| 8/8 [00:00<00:00, 10.62it/s]\n",
      "Epoch 276: loss 0.483841 0.8469: 100%|███████████████████████████████████████████████████████████████████████████████████████████████████████████████████████████████████████████████| 8/8 [00:00<00:00, 14.04it/s]\n",
      "Epoch 277: loss 0.483790 0.8460: 100%|███████████████████████████████████████████████████████████████████████████████████████████████████████████████████████████████████████████████| 8/8 [00:00<00:00, 10.41it/s]\n",
      "Epoch 278: loss 0.479325 0.8469: 100%|███████████████████████████████████████████████████████████████████████████████████████████████████████████████████████████████████████████████| 8/8 [00:00<00:00, 12.90it/s]\n",
      "Epoch 279: loss 0.479307 0.8477: 100%|███████████████████████████████████████████████████████████████████████████████████████████████████████████████████████████████████████████████| 8/8 [00:00<00:00, 10.67it/s]\n",
      "Epoch 280: loss 0.478208 0.8489:  50%|███████████████████████████████████████████████████████████████████████▌                                                                       | 4/8 [00:00<00:00,  6.47it/s]\n",
      "  0%|                                                                                                                                                                                        | 0/2 [00:00<?, ?it/s]\u001b[A\n",
      "Valid 280: loss 0.511707 0.8262:   0%|                                                                                                                                                       | 0/2 [00:00<?, ?it/s]\u001b[A\n",
      "Valid 280: loss 0.511707 0.8262:  50%|███████████████████████████████████████████████████████████████████████▌                                                                       | 1/2 [00:00<00:00,  2.59it/s]\u001b[A\n",
      "Valid 280: loss 0.545942 0.7778: 100%|███████████████████████████████████████████████████████████████████████████████████████████████████████████████████████████████████████████████| 2/2 [00:00<00:00,  4.47it/s]\u001b[A\n",
      "Epoch 280: loss 0.478208 0.8489: 100%|███████████████████████████████████████████████████████████████████████████████████████████████████████████████████████████████████████████████| 8/8 [00:01<00:00,  6.22it/s]\n"
     ]
    },
    {
     "name": "stdout",
     "output_type": "stream",
     "text": [
      "EarlyStopping counter: 7 out of 100\n"
     ]
    },
    {
     "name": "stderr",
     "output_type": "stream",
     "text": [
      "Epoch 281: loss 0.487544 0.8462: 100%|███████████████████████████████████████████████████████████████████████████████████████████████████████████████████████████████████████████████| 8/8 [00:00<00:00,  8.30it/s]\n",
      "Epoch 282: loss 0.483254 0.8462: 100%|███████████████████████████████████████████████████████████████████████████████████████████████████████████████████████████████████████████████| 8/8 [00:00<00:00, 12.16it/s]\n",
      "Epoch 283: loss 0.485438 0.8471: 100%|███████████████████████████████████████████████████████████████████████████████████████████████████████████████████████████████████████████████| 8/8 [00:00<00:00, 12.31it/s]\n",
      "Epoch 284: loss 0.485705 0.8468: 100%|███████████████████████████████████████████████████████████████████████████████████████████████████████████████████████████████████████████████| 8/8 [00:00<00:00,  9.21it/s]\n",
      "Epoch 285: loss 0.479466 0.8482: 100%|███████████████████████████████████████████████████████████████████████████████████████████████████████████████████████████████████████████████| 8/8 [00:00<00:00,  9.55it/s]\n",
      "Epoch 286: loss 0.483041 0.8473: 100%|███████████████████████████████████████████████████████████████████████████████████████████████████████████████████████████████████████████████| 8/8 [00:00<00:00, 11.55it/s]\n",
      "Epoch 287: loss 0.478449 0.8473: 100%|███████████████████████████████████████████████████████████████████████████████████████████████████████████████████████████████████████████████| 8/8 [00:00<00:00, 10.10it/s]\n",
      "Epoch 288: loss 0.484610 0.8469: 100%|███████████████████████████████████████████████████████████████████████████████████████████████████████████████████████████████████████████████| 8/8 [00:00<00:00, 13.69it/s]\n",
      "Epoch 289: loss 0.482822 0.8475: 100%|███████████████████████████████████████████████████████████████████████████████████████████████████████████████████████████████████████████████| 8/8 [00:00<00:00,  8.65it/s]\n",
      "Epoch 290: loss 0.482047 0.8480:  12%|█████████████████▉                                                                                                                             | 1/8 [00:00<00:03,  2.28it/s]\n",
      "  0%|                                                                                                                                                                                        | 0/2 [00:00<?, ?it/s]\u001b[A\n",
      "Valid 290: loss 0.553000 0.8065:   0%|                                                                                                                                                       | 0/2 [00:00<?, ?it/s]\u001b[A\n",
      "Valid 290: loss 0.553000 0.8065:  50%|███████████████████████████████████████████████████████████████████████▌                                                                       | 1/2 [00:00<00:00,  2.66it/s]\u001b[A\n",
      "Valid 290: loss 0.547872 0.8151: 100%|███████████████████████████████████████████████████████████████████████████████████████████████████████████████████████████████████████████████| 2/2 [00:00<00:00,  4.50it/s]\u001b[A\n",
      "Epoch 290: loss 0.482047 0.8480: 100%|███████████████████████████████████████████████████████████████████████████████████████████████████████████████████████████████████████████████| 8/8 [00:01<00:00,  7.64it/s]\n"
     ]
    },
    {
     "name": "stdout",
     "output_type": "stream",
     "text": [
      "EarlyStopping counter: 8 out of 100\n"
     ]
    },
    {
     "name": "stderr",
     "output_type": "stream",
     "text": [
      "Epoch 291: loss 0.478521 0.8489: 100%|███████████████████████████████████████████████████████████████████████████████████████████████████████████████████████████████████████████████| 8/8 [00:00<00:00, 13.63it/s]\n",
      "Epoch 292: loss 0.481900 0.8484: 100%|███████████████████████████████████████████████████████████████████████████████████████████████████████████████████████████████████████████████| 8/8 [00:00<00:00, 13.33it/s]\n",
      "Epoch 293: loss 0.481389 0.8483: 100%|███████████████████████████████████████████████████████████████████████████████████████████████████████████████████████████████████████████████| 8/8 [00:00<00:00,  9.57it/s]\n",
      "Epoch 294: loss 0.480173 0.8487: 100%|███████████████████████████████████████████████████████████████████████████████████████████████████████████████████████████████████████████████| 8/8 [00:00<00:00, 12.03it/s]\n",
      "Epoch 295: loss 0.492476 0.8477: 100%|███████████████████████████████████████████████████████████████████████████████████████████████████████████████████████████████████████████████| 8/8 [00:00<00:00, 13.13it/s]\n",
      "Epoch 296: loss 0.490766 0.8477: 100%|███████████████████████████████████████████████████████████████████████████████████████████████████████████████████████████████████████████████| 8/8 [00:00<00:00, 12.09it/s]\n",
      "Epoch 297: loss 0.480073 0.8488: 100%|███████████████████████████████████████████████████████████████████████████████████████████████████████████████████████████████████████████████| 8/8 [00:00<00:00, 11.27it/s]\n",
      "Epoch 298: loss 0.481317 0.8489: 100%|███████████████████████████████████████████████████████████████████████████████████████████████████████████████████████████████████████████████| 8/8 [00:00<00:00, 13.13it/s]\n",
      "Epoch 299: loss 0.478628 0.8494: 100%|███████████████████████████████████████████████████████████████████████████████████████████████████████████████████████████████████████████████| 8/8 [00:00<00:00, 11.96it/s]\n",
      "Epoch 300: loss 0.479386 0.8490:  75%|███████████████████████████████████████████████████████████████████████████████████████████████████████████▎                                   | 6/8 [00:00<00:00, 10.77it/s]\n",
      "  0%|                                                                                                                                                                                        | 0/2 [00:00<?, ?it/s]\u001b[A\n",
      "Valid 300: loss 0.515793 0.8257:   0%|                                                                                                                                                       | 0/2 [00:00<?, ?it/s]\u001b[A\n",
      "Valid 300: loss 0.515793 0.8257:  50%|███████████████████████████████████████████████████████████████████████▌                                                                       | 1/2 [00:00<00:00,  2.40it/s]\u001b[A\n",
      "Valid 300: loss 0.536851 0.7961: 100%|███████████████████████████████████████████████████████████████████████████████████████████████████████████████████████████████████████████████| 2/2 [00:00<00:00,  4.11it/s]\u001b[A\n",
      "Epoch 300: loss 0.479386 0.8490: 100%|███████████████████████████████████████████████████████████████████████████████████████████████████████████████████████████████████████████████| 8/8 [00:01<00:00,  6.42it/s]\n"
     ]
    },
    {
     "name": "stdout",
     "output_type": "stream",
     "text": [
      "EarlyStopping counter: 9 out of 100\n"
     ]
    },
    {
     "name": "stderr",
     "output_type": "stream",
     "text": [
      "Epoch 301: loss 0.477856 0.8498: 100%|███████████████████████████████████████████████████████████████████████████████████████████████████████████████████████████████████████████████| 8/8 [00:00<00:00, 13.14it/s]\n",
      "Epoch 302: loss 0.485290 0.8477: 100%|███████████████████████████████████████████████████████████████████████████████████████████████████████████████████████████████████████████████| 8/8 [00:00<00:00, 13.86it/s]\n",
      "Epoch 303: loss 0.481130 0.8478: 100%|███████████████████████████████████████████████████████████████████████████████████████████████████████████████████████████████████████████████| 8/8 [00:00<00:00, 12.88it/s]\n",
      "Epoch 304: loss 0.479876 0.8502: 100%|███████████████████████████████████████████████████████████████████████████████████████████████████████████████████████████████████████████████| 8/8 [00:00<00:00,  8.94it/s]\n",
      "Epoch 305: loss 0.477137 0.8503: 100%|███████████████████████████████████████████████████████████████████████████████████████████████████████████████████████████████████████████████| 8/8 [00:00<00:00, 14.18it/s]\n",
      "Epoch 306: loss 0.478811 0.8506: 100%|███████████████████████████████████████████████████████████████████████████████████████████████████████████████████████████████████████████████| 8/8 [00:00<00:00, 11.76it/s]\n",
      "Epoch 307: loss 0.481228 0.8505: 100%|███████████████████████████████████████████████████████████████████████████████████████████████████████████████████████████████████████████████| 8/8 [00:00<00:00, 12.39it/s]\n",
      "Epoch 308: loss 0.478479 0.8494: 100%|███████████████████████████████████████████████████████████████████████████████████████████████████████████████████████████████████████████████| 8/8 [00:00<00:00,  9.71it/s]\n",
      "Epoch 309: loss 0.477736 0.8505: 100%|███████████████████████████████████████████████████████████████████████████████████████████████████████████████████████████████████████████████| 8/8 [00:00<00:00, 12.08it/s]\n",
      "Epoch 310: loss 0.502866 0.8470:  88%|█████████████████████████████████████████████████████████████████████████████████████████████████████████████████████████████▏                 | 7/8 [00:00<00:00, 16.50it/s]\n",
      "  0%|                                                                                                                                                                                        | 0/2 [00:00<?, ?it/s]\u001b[A\n",
      "Valid 310: loss 0.576465 0.8035:   0%|                                                                                                                                                       | 0/2 [00:00<?, ?it/s]\u001b[A\n",
      "Valid 310: loss 0.576465 0.8035:  50%|███████████████████████████████████████████████████████████████████████▌                                                                       | 1/2 [00:00<00:00,  2.48it/s]\u001b[A\n",
      "Valid 310: loss 0.569031 0.8083: 100%|███████████████████████████████████████████████████████████████████████████████████████████████████████████████████████████████████████████████| 2/2 [00:00<00:00,  4.23it/s]\u001b[A\n",
      "Epoch 310: loss 0.502866 0.8470: 100%|███████████████████████████████████████████████████████████████████████████████████████████████████████████████████████████████████████████████| 8/8 [00:01<00:00,  7.49it/s]\n"
     ]
    },
    {
     "name": "stdout",
     "output_type": "stream",
     "text": [
      "EarlyStopping counter: 10 out of 100\n"
     ]
    },
    {
     "name": "stderr",
     "output_type": "stream",
     "text": [
      "Epoch 311: loss 0.514232 0.8469: 100%|███████████████████████████████████████████████████████████████████████████████████████████████████████████████████████████████████████████████| 8/8 [00:00<00:00, 10.30it/s]\n",
      "Epoch 312: loss 0.481690 0.8497: 100%|███████████████████████████████████████████████████████████████████████████████████████████████████████████████████████████████████████████████| 8/8 [00:00<00:00, 11.75it/s]\n",
      "Epoch 313: loss 0.480758 0.8486: 100%|███████████████████████████████████████████████████████████████████████████████████████████████████████████████████████████████████████████████| 8/8 [00:00<00:00, 14.11it/s]\n",
      "Epoch 314: loss 0.483728 0.8475: 100%|███████████████████████████████████████████████████████████████████████████████████████████████████████████████████████████████████████████████| 8/8 [00:00<00:00, 12.32it/s]\n",
      "Epoch 315: loss 0.475038 0.8501: 100%|███████████████████████████████████████████████████████████████████████████████████████████████████████████████████████████████████████████████| 8/8 [00:00<00:00, 10.34it/s]\n",
      "Epoch 316: loss 0.478063 0.8487: 100%|███████████████████████████████████████████████████████████████████████████████████████████████████████████████████████████████████████████████| 8/8 [00:00<00:00, 13.47it/s]\n",
      "Epoch 317: loss 0.476418 0.8497: 100%|███████████████████████████████████████████████████████████████████████████████████████████████████████████████████████████████████████████████| 8/8 [00:00<00:00, 12.56it/s]\n",
      "Epoch 318: loss 0.481106 0.8496: 100%|███████████████████████████████████████████████████████████████████████████████████████████████████████████████████████████████████████████████| 8/8 [00:00<00:00, 10.84it/s]\n",
      "Epoch 319: loss 0.480370 0.8503: 100%|███████████████████████████████████████████████████████████████████████████████████████████████████████████████████████████████████████████████| 8/8 [00:00<00:00, 14.04it/s]\n",
      "Epoch 320: loss 0.473298 0.8506:  62%|█████████████████████████████████████████████████████████████████████████████████████████▍                                                     | 5/8 [00:00<00:00,  8.51it/s]\n",
      "  0%|                                                                                                                                                                                        | 0/2 [00:00<?, ?it/s]\u001b[A\n",
      "Valid 320: loss 0.534528 0.8017:   0%|                                                                                                                                                       | 0/2 [00:00<?, ?it/s]\u001b[A\n",
      "Valid 320: loss 0.534528 0.8017:  50%|███████████████████████████████████████████████████████████████████████▌                                                                       | 1/2 [00:00<00:00,  2.55it/s]\u001b[A\n",
      "Valid 320: loss 0.536716 0.8137: 100%|███████████████████████████████████████████████████████████████████████████████████████████████████████████████████████████████████████████████| 2/2 [00:00<00:00,  4.40it/s]\u001b[A\n",
      "Epoch 320: loss 0.473298 0.8506: 100%|███████████████████████████████████████████████████████████████████████████████████████████████████████████████████████████████████████████████| 8/8 [00:01<00:00,  6.55it/s]\n"
     ]
    },
    {
     "name": "stdout",
     "output_type": "stream",
     "text": [
      "EarlyStopping counter: 11 out of 100\n"
     ]
    },
    {
     "name": "stderr",
     "output_type": "stream",
     "text": [
      "Epoch 321: loss 0.476361 0.8505: 100%|███████████████████████████████████████████████████████████████████████████████████████████████████████████████████████████████████████████████| 8/8 [00:00<00:00, 12.71it/s]\n",
      "Epoch 322: loss 0.474990 0.8507: 100%|███████████████████████████████████████████████████████████████████████████████████████████████████████████████████████████████████████████████| 8/8 [00:00<00:00, 12.85it/s]\n",
      "Epoch 323: loss 0.477184 0.8510: 100%|███████████████████████████████████████████████████████████████████████████████████████████████████████████████████████████████████████████████| 8/8 [00:00<00:00, 12.79it/s]\n",
      "Epoch 324: loss 0.483847 0.8507: 100%|███████████████████████████████████████████████████████████████████████████████████████████████████████████████████████████████████████████████| 8/8 [00:00<00:00, 13.62it/s]\n",
      "Epoch 325: loss 0.479093 0.8502: 100%|███████████████████████████████████████████████████████████████████████████████████████████████████████████████████████████████████████████████| 8/8 [00:00<00:00, 10.46it/s]\n",
      "Epoch 326: loss 0.473725 0.8513: 100%|███████████████████████████████████████████████████████████████████████████████████████████████████████████████████████████████████████████████| 8/8 [00:00<00:00, 11.67it/s]\n",
      "Epoch 327: loss 0.473655 0.8510: 100%|███████████████████████████████████████████████████████████████████████████████████████████████████████████████████████████████████████████████| 8/8 [00:00<00:00, 12.41it/s]\n",
      "Epoch 328: loss 0.477327 0.8505: 100%|███████████████████████████████████████████████████████████████████████████████████████████████████████████████████████████████████████████████| 8/8 [00:00<00:00, 13.00it/s]\n",
      "Epoch 329: loss 0.479247 0.8519: 100%|███████████████████████████████████████████████████████████████████████████████████████████████████████████████████████████████████████████████| 8/8 [00:00<00:00, 10.80it/s]\n",
      "Epoch 330: loss 0.473495 0.8512:  12%|█████████████████▉                                                                                                                             | 1/8 [00:00<00:03,  2.27it/s]\n",
      "  0%|                                                                                                                                                                                        | 0/2 [00:00<?, ?it/s]\u001b[A\n",
      "Valid 330: loss 0.529183 0.8103:   0%|                                                                                                                                                       | 0/2 [00:00<?, ?it/s]\u001b[A\n",
      "Valid 330: loss 0.529183 0.8103:  50%|███████████████████████████████████████████████████████████████████████▌                                                                       | 1/2 [00:00<00:00,  2.59it/s]\u001b[A\n",
      "Valid 330: loss 0.537904 0.8012: 100%|███████████████████████████████████████████████████████████████████████████████████████████████████████████████████████████████████████████████| 2/2 [00:00<00:00,  4.35it/s]\u001b[A\n",
      "Epoch 330: loss 0.473495 0.8512: 100%|███████████████████████████████████████████████████████████████████████████████████████████████████████████████████████████████████████████████| 8/8 [00:01<00:00,  7.57it/s]\n"
     ]
    },
    {
     "name": "stdout",
     "output_type": "stream",
     "text": [
      "EarlyStopping counter: 12 out of 100\n"
     ]
    },
    {
     "name": "stderr",
     "output_type": "stream",
     "text": [
      "Epoch 331: loss 0.474355 0.8510: 100%|███████████████████████████████████████████████████████████████████████████████████████████████████████████████████████████████████████████████| 8/8 [00:00<00:00, 11.02it/s]\n",
      "Epoch 332: loss 0.486581 0.8502: 100%|███████████████████████████████████████████████████████████████████████████████████████████████████████████████████████████████████████████████| 8/8 [00:00<00:00, 14.44it/s]\n",
      "Epoch 333: loss 0.487782 0.8507: 100%|███████████████████████████████████████████████████████████████████████████████████████████████████████████████████████████████████████████████| 8/8 [00:00<00:00, 13.21it/s]\n",
      "Epoch 334: loss 0.485852 0.8509: 100%|███████████████████████████████████████████████████████████████████████████████████████████████████████████████████████████████████████████████| 8/8 [00:00<00:00, 13.22it/s]\n",
      "Epoch 335: loss 0.475303 0.8518: 100%|███████████████████████████████████████████████████████████████████████████████████████████████████████████████████████████████████████████████| 8/8 [00:00<00:00,  9.94it/s]\n",
      "Epoch 336: loss 0.476316 0.8522: 100%|███████████████████████████████████████████████████████████████████████████████████████████████████████████████████████████████████████████████| 8/8 [00:00<00:00, 10.84it/s]\n",
      "Epoch 337: loss 0.476531 0.8521: 100%|███████████████████████████████████████████████████████████████████████████████████████████████████████████████████████████████████████████████| 8/8 [00:00<00:00, 13.04it/s]\n",
      "Epoch 338: loss 0.475932 0.8508: 100%|███████████████████████████████████████████████████████████████████████████████████████████████████████████████████████████████████████████████| 8/8 [00:00<00:00, 10.28it/s]\n",
      "Epoch 339: loss 0.476345 0.8520: 100%|███████████████████████████████████████████████████████████████████████████████████████████████████████████████████████████████████████████████| 8/8 [00:00<00:00, 11.44it/s]\n",
      "Epoch 340: loss 0.475864 0.8498:  62%|█████████████████████████████████████████████████████████████████████████████████████████▍                                                     | 5/8 [00:00<00:00, 10.01it/s]\n",
      "  0%|                                                                                                                                                                                        | 0/2 [00:00<?, ?it/s]\u001b[A\n",
      "Valid 340: loss 0.542831 0.7995:   0%|                                                                                                                                                       | 0/2 [00:00<?, ?it/s]\u001b[A\n",
      "Valid 340: loss 0.542831 0.7995:  50%|███████████████████████████████████████████████████████████████████████▌                                                                       | 1/2 [00:00<00:00,  2.55it/s]\u001b[A\n",
      "Valid 340: loss 0.536289 0.8197: 100%|███████████████████████████████████████████████████████████████████████████████████████████████████████████████████████████████████████████████| 2/2 [00:00<00:00,  4.32it/s]\u001b[A\n",
      "Epoch 340: loss 0.475864 0.8498: 100%|███████████████████████████████████████████████████████████████████████████████████████████████████████████████████████████████████████████████| 8/8 [00:01<00:00,  6.93it/s]\n"
     ]
    },
    {
     "name": "stdout",
     "output_type": "stream",
     "text": [
      "EarlyStopping counter: 13 out of 100\n"
     ]
    },
    {
     "name": "stderr",
     "output_type": "stream",
     "text": [
      "Epoch 341: loss 0.492756 0.8495: 100%|███████████████████████████████████████████████████████████████████████████████████████████████████████████████████████████████████████████████| 8/8 [00:00<00:00, 12.15it/s]\n",
      "Epoch 342: loss 0.480774 0.8517: 100%|███████████████████████████████████████████████████████████████████████████████████████████████████████████████████████████████████████████████| 8/8 [00:00<00:00, 12.48it/s]\n",
      "Epoch 343: loss 0.487430 0.8496: 100%|███████████████████████████████████████████████████████████████████████████████████████████████████████████████████████████████████████████████| 8/8 [00:00<00:00, 11.81it/s]\n",
      "Epoch 344: loss 0.490261 0.8505: 100%|███████████████████████████████████████████████████████████████████████████████████████████████████████████████████████████████████████████████| 8/8 [00:00<00:00, 11.18it/s]\n",
      "Epoch 345: loss 0.491548 0.8503: 100%|███████████████████████████████████████████████████████████████████████████████████████████████████████████████████████████████████████████████| 8/8 [00:00<00:00,  9.99it/s]\n",
      "Epoch 346: loss 0.484847 0.8509: 100%|███████████████████████████████████████████████████████████████████████████████████████████████████████████████████████████████████████████████| 8/8 [00:02<00:00,  3.05it/s]\n",
      "Epoch 347: loss 0.482596 0.8512: 100%|███████████████████████████████████████████████████████████████████████████████████████████████████████████████████████████████████████████████| 8/8 [00:00<00:00, 11.77it/s]\n",
      "Epoch 348: loss 0.475908 0.8517: 100%|███████████████████████████████████████████████████████████████████████████████████████████████████████████████████████████████████████████████| 8/8 [00:00<00:00, 12.69it/s]\n",
      "Epoch 349: loss 0.471556 0.8528: 100%|███████████████████████████████████████████████████████████████████████████████████████████████████████████████████████████████████████████████| 8/8 [00:00<00:00, 13.60it/s]\n",
      "Epoch 350: loss 0.473846 0.8528:  62%|█████████████████████████████████████████████████████████████████████████████████████████▍                                                     | 5/8 [00:00<00:00, 10.95it/s]\n",
      "  0%|                                                                                                                                                                                        | 0/2 [00:00<?, ?it/s]\u001b[A\n",
      "Valid 350: loss 0.550726 0.7949:   0%|                                                                                                                                                       | 0/2 [00:00<?, ?it/s]\u001b[A\n",
      "Valid 350: loss 0.550726 0.7949:  50%|███████████████████████████████████████████████████████████████████████▌                                                                       | 1/2 [00:00<00:00,  2.55it/s]\u001b[A\n",
      "Valid 350: loss 0.536499 0.8204: 100%|███████████████████████████████████████████████████████████████████████████████████████████████████████████████████████████████████████████████| 2/2 [00:00<00:00,  4.29it/s]\u001b[A\n",
      "Epoch 350: loss 0.473846 0.8528: 100%|███████████████████████████████████████████████████████████████████████████████████████████████████████████████████████████████████████████████| 8/8 [00:01<00:00,  7.29it/s]\n"
     ]
    },
    {
     "name": "stdout",
     "output_type": "stream",
     "text": [
      "EarlyStopping counter: 14 out of 100\n"
     ]
    },
    {
     "name": "stderr",
     "output_type": "stream",
     "text": [
      "Epoch 351: loss 0.476312 0.8527: 100%|███████████████████████████████████████████████████████████████████████████████████████████████████████████████████████████████████████████████| 8/8 [00:00<00:00, 12.96it/s]\n",
      "Epoch 352: loss 0.472556 0.8524: 100%|███████████████████████████████████████████████████████████████████████████████████████████████████████████████████████████████████████████████| 8/8 [00:00<00:00, 12.87it/s]\n",
      "Epoch 353: loss 0.470676 0.8534: 100%|███████████████████████████████████████████████████████████████████████████████████████████████████████████████████████████████████████████████| 8/8 [00:00<00:00, 10.45it/s]\n",
      "Epoch 354: loss 0.470991 0.8535: 100%|███████████████████████████████████████████████████████████████████████████████████████████████████████████████████████████████████████████████| 8/8 [00:00<00:00,  9.20it/s]\n",
      "Epoch 355: loss 0.478728 0.8517: 100%|███████████████████████████████████████████████████████████████████████████████████████████████████████████████████████████████████████████████| 8/8 [00:00<00:00,  8.46it/s]\n",
      "Epoch 356: loss 0.487637 0.8507: 100%|███████████████████████████████████████████████████████████████████████████████████████████████████████████████████████████████████████████████| 8/8 [00:00<00:00, 12.40it/s]\n",
      "Epoch 357: loss 0.484772 0.8529: 100%|███████████████████████████████████████████████████████████████████████████████████████████████████████████████████████████████████████████████| 8/8 [00:00<00:00, 13.10it/s]\n",
      "Epoch 358: loss 0.484862 0.8538: 100%|███████████████████████████████████████████████████████████████████████████████████████████████████████████████████████████████████████████████| 8/8 [00:00<00:00, 11.98it/s]\n",
      "Epoch 359: loss 0.483584 0.8504: 100%|███████████████████████████████████████████████████████████████████████████████████████████████████████████████████████████████████████████████| 8/8 [00:00<00:00, 10.44it/s]\n",
      "Epoch 360: loss 0.471858 0.8527:  12%|█████████████████▉                                                                                                                             | 1/8 [00:00<00:03,  2.11it/s]\n",
      "  0%|                                                                                                                                                                                        | 0/2 [00:00<?, ?it/s]\u001b[A\n",
      "Valid 360: loss 0.562687 0.7940:   0%|                                                                                                                                                       | 0/2 [00:00<?, ?it/s]\u001b[A\n",
      "Valid 360: loss 0.562687 0.7940:  50%|███████████████████████████████████████████████████████████████████████▌                                                                       | 1/2 [00:00<00:00,  2.42it/s]\u001b[A\n",
      "Valid 360: loss 0.541039 0.8174: 100%|███████████████████████████████████████████████████████████████████████████████████████████████████████████████████████████████████████████████| 2/2 [00:00<00:00,  4.12it/s]\u001b[A\n",
      "Epoch 360: loss 0.471858 0.8527: 100%|███████████████████████████████████████████████████████████████████████████████████████████████████████████████████████████████████████████████| 8/8 [00:01<00:00,  7.15it/s]\n"
     ]
    },
    {
     "name": "stdout",
     "output_type": "stream",
     "text": [
      "EarlyStopping counter: 15 out of 100\n"
     ]
    },
    {
     "name": "stderr",
     "output_type": "stream",
     "text": [
      "Epoch 361: loss 0.474230 0.8514: 100%|███████████████████████████████████████████████████████████████████████████████████████████████████████████████████████████████████████████████| 8/8 [00:00<00:00,  8.73it/s]\n",
      "Epoch 362: loss 0.477215 0.8528: 100%|███████████████████████████████████████████████████████████████████████████████████████████████████████████████████████████████████████████████| 8/8 [00:00<00:00, 11.26it/s]\n",
      "Epoch 363: loss 0.479587 0.8529: 100%|███████████████████████████████████████████████████████████████████████████████████████████████████████████████████████████████████████████████| 8/8 [00:00<00:00, 12.40it/s]\n",
      "Epoch 364: loss 0.486724 0.8523: 100%|███████████████████████████████████████████████████████████████████████████████████████████████████████████████████████████████████████████████| 8/8 [00:00<00:00,  8.99it/s]\n",
      "Epoch 365: loss 0.485999 0.8524: 100%|███████████████████████████████████████████████████████████████████████████████████████████████████████████████████████████████████████████████| 8/8 [00:00<00:00, 12.98it/s]\n",
      "Epoch 366: loss 0.486977 0.8524: 100%|███████████████████████████████████████████████████████████████████████████████████████████████████████████████████████████████████████████████| 8/8 [00:00<00:00, 11.08it/s]\n",
      "Epoch 367: loss 0.479332 0.8537: 100%|███████████████████████████████████████████████████████████████████████████████████████████████████████████████████████████████████████████████| 8/8 [00:00<00:00, 13.42it/s]\n",
      "Epoch 368: loss 0.479633 0.8529: 100%|███████████████████████████████████████████████████████████████████████████████████████████████████████████████████████████████████████████████| 8/8 [00:00<00:00, 13.22it/s]\n",
      "Epoch 369: loss 0.484652 0.8542: 100%|███████████████████████████████████████████████████████████████████████████████████████████████████████████████████████████████████████████████| 8/8 [00:00<00:00, 12.67it/s]\n",
      "Epoch 370: loss 0.487083 0.8512:  50%|███████████████████████████████████████████████████████████████████████▌                                                                       | 4/8 [00:00<00:00,  8.74it/s]\n",
      "  0%|                                                                                                                                                                                        | 0/2 [00:00<?, ?it/s]\u001b[A\n",
      "Valid 370: loss 0.564551 0.7859:   0%|                                                                                                                                                       | 0/2 [00:00<?, ?it/s]\u001b[A\n",
      "Valid 370: loss 0.564551 0.7859:  50%|███████████████████████████████████████████████████████████████████████▌                                                                       | 1/2 [00:00<00:00,  2.55it/s]\u001b[A\n",
      "Valid 370: loss 0.546367 0.8224: 100%|███████████████████████████████████████████████████████████████████████████████████████████████████████████████████████████████████████████████| 2/2 [00:00<00:00,  4.40it/s]\u001b[A\n",
      "Epoch 370: loss 0.487083 0.8512: 100%|███████████████████████████████████████████████████████████████████████████████████████████████████████████████████████████████████████████████| 8/8 [00:01<00:00,  6.86it/s]\n"
     ]
    },
    {
     "name": "stdout",
     "output_type": "stream",
     "text": [
      "EarlyStopping counter: 16 out of 100\n"
     ]
    },
    {
     "name": "stderr",
     "output_type": "stream",
     "text": [
      "Epoch 371: loss 0.474647 0.8534: 100%|███████████████████████████████████████████████████████████████████████████████████████████████████████████████████████████████████████████████| 8/8 [00:00<00:00, 12.40it/s]\n",
      "Epoch 372: loss 0.472091 0.8533: 100%|███████████████████████████████████████████████████████████████████████████████████████████████████████████████████████████████████████████████| 8/8 [00:00<00:00, 12.11it/s]\n",
      "Epoch 373: loss 0.466672 0.8544: 100%|███████████████████████████████████████████████████████████████████████████████████████████████████████████████████████████████████████████████| 8/8 [00:00<00:00, 10.65it/s]\n",
      "Epoch 374: loss 0.473176 0.8533: 100%|███████████████████████████████████████████████████████████████████████████████████████████████████████████████████████████████████████████████| 8/8 [00:00<00:00, 10.90it/s]\n",
      "Epoch 375: loss 0.475208 0.8539: 100%|███████████████████████████████████████████████████████████████████████████████████████████████████████████████████████████████████████████████| 8/8 [00:00<00:00, 10.28it/s]\n",
      "Epoch 376: loss 0.471112 0.8546: 100%|███████████████████████████████████████████████████████████████████████████████████████████████████████████████████████████████████████████████| 8/8 [00:00<00:00, 11.33it/s]\n",
      "Epoch 377: loss 0.472360 0.8545: 100%|███████████████████████████████████████████████████████████████████████████████████████████████████████████████████████████████████████████████| 8/8 [00:00<00:00, 10.96it/s]\n",
      "Epoch 378: loss 0.470116 0.8543: 100%|███████████████████████████████████████████████████████████████████████████████████████████████████████████████████████████████████████████████| 8/8 [00:00<00:00, 10.61it/s]\n",
      "Epoch 379: loss 0.468818 0.8546: 100%|███████████████████████████████████████████████████████████████████████████████████████████████████████████████████████████████████████████████| 8/8 [00:00<00:00, 13.94it/s]\n",
      "Epoch 380: loss 0.467994 0.8542:  12%|█████████████████▉                                                                                                                             | 1/8 [00:00<00:03,  2.29it/s]\n",
      "  0%|                                                                                                                                                                                        | 0/2 [00:00<?, ?it/s]\u001b[A\n",
      "Valid 380: loss 0.545198 0.8137:   0%|                                                                                                                                                       | 0/2 [00:00<?, ?it/s]\u001b[A\n",
      "Valid 380: loss 0.545198 0.8137:  50%|███████████████████████████████████████████████████████████████████████▌                                                                       | 1/2 [00:00<00:00,  2.55it/s]\u001b[A\n",
      "Valid 380: loss 0.554705 0.7964: 100%|███████████████████████████████████████████████████████████████████████████████████████████████████████████████████████████████████████████████| 2/2 [00:00<00:00,  4.25it/s]\u001b[A\n",
      "Epoch 380: loss 0.467994 0.8542: 100%|███████████████████████████████████████████████████████████████████████████████████████████████████████████████████████████████████████████████| 8/8 [00:01<00:00,  7.58it/s]\n"
     ]
    },
    {
     "name": "stdout",
     "output_type": "stream",
     "text": [
      "EarlyStopping counter: 17 out of 100\n"
     ]
    },
    {
     "name": "stderr",
     "output_type": "stream",
     "text": [
      "Epoch 381: loss 0.488468 0.8509: 100%|███████████████████████████████████████████████████████████████████████████████████████████████████████████████████████████████████████████████| 8/8 [00:00<00:00, 11.78it/s]\n",
      "Epoch 382: loss 0.482248 0.8528: 100%|███████████████████████████████████████████████████████████████████████████████████████████████████████████████████████████████████████████████| 8/8 [00:00<00:00,  8.55it/s]\n",
      "Epoch 383: loss 0.484031 0.8552: 100%|███████████████████████████████████████████████████████████████████████████████████████████████████████████████████████████████████████████████| 8/8 [00:00<00:00, 10.85it/s]\n",
      "Epoch 384: loss 0.523086 0.8482: 100%|███████████████████████████████████████████████████████████████████████████████████████████████████████████████████████████████████████████████| 8/8 [00:00<00:00, 13.27it/s]\n",
      "Epoch 385: loss 0.478811 0.8533: 100%|███████████████████████████████████████████████████████████████████████████████████████████████████████████████████████████████████████████████| 8/8 [00:00<00:00, 12.57it/s]\n",
      "Epoch 386: loss 0.468466 0.8546: 100%|███████████████████████████████████████████████████████████████████████████████████████████████████████████████████████████████████████████████| 8/8 [00:00<00:00,  9.90it/s]\n",
      "Epoch 387: loss 0.477134 0.8542: 100%|███████████████████████████████████████████████████████████████████████████████████████████████████████████████████████████████████████████████| 8/8 [00:00<00:00,  9.74it/s]\n",
      "Epoch 388: loss 0.488336 0.8518: 100%|███████████████████████████████████████████████████████████████████████████████████████████████████████████████████████████████████████████████| 8/8 [00:00<00:00, 13.12it/s]\n",
      "Epoch 389: loss 0.476027 0.8531: 100%|███████████████████████████████████████████████████████████████████████████████████████████████████████████████████████████████████████████████| 8/8 [00:00<00:00, 13.52it/s]\n",
      "Epoch 390: loss 0.469659 0.8540:  12%|█████████████████▉                                                                                                                             | 1/8 [00:00<00:03,  2.29it/s]\n",
      "  0%|                                                                                                                                                                                        | 0/2 [00:00<?, ?it/s]\u001b[A\n",
      "Valid 390: loss 0.531144 0.8091:   0%|                                                                                                                                                       | 0/2 [00:00<?, ?it/s]\u001b[A\n",
      "Valid 390: loss 0.531144 0.8091:  50%|███████████████████████████████████████████████████████████████████████▌                                                                       | 1/2 [00:00<00:00,  2.25it/s]\u001b[A\n",
      "Valid 390: loss 0.542115 0.7976: 100%|███████████████████████████████████████████████████████████████████████████████████████████████████████████████████████████████████████████████| 2/2 [00:00<00:00,  3.84it/s]\u001b[A\n",
      "Epoch 390: loss 0.469659 0.8540: 100%|███████████████████████████████████████████████████████████████████████████████████████████████████████████████████████████████████████████████| 8/8 [00:01<00:00,  7.14it/s]\n"
     ]
    },
    {
     "name": "stdout",
     "output_type": "stream",
     "text": [
      "EarlyStopping counter: 18 out of 100\n"
     ]
    },
    {
     "name": "stderr",
     "output_type": "stream",
     "text": [
      "Epoch 391: loss 0.475504 0.8539: 100%|███████████████████████████████████████████████████████████████████████████████████████████████████████████████████████████████████████████████| 8/8 [00:00<00:00, 11.12it/s]\n",
      "Epoch 392: loss 0.481147 0.8542: 100%|███████████████████████████████████████████████████████████████████████████████████████████████████████████████████████████████████████████████| 8/8 [00:00<00:00, 13.01it/s]\n",
      "Epoch 393: loss 0.485611 0.8516: 100%|███████████████████████████████████████████████████████████████████████████████████████████████████████████████████████████████████████████████| 8/8 [00:00<00:00,  9.78it/s]\n",
      "Epoch 394: loss 0.482119 0.8539: 100%|███████████████████████████████████████████████████████████████████████████████████████████████████████████████████████████████████████████████| 8/8 [00:00<00:00, 13.13it/s]\n",
      "Epoch 395: loss 0.488554 0.8509: 100%|███████████████████████████████████████████████████████████████████████████████████████████████████████████████████████████████████████████████| 8/8 [00:00<00:00, 13.00it/s]\n",
      "Epoch 396: loss 0.480424 0.8533: 100%|███████████████████████████████████████████████████████████████████████████████████████████████████████████████████████████████████████████████| 8/8 [00:00<00:00, 11.71it/s]\n",
      "Epoch 397: loss 0.482912 0.8540: 100%|███████████████████████████████████████████████████████████████████████████████████████████████████████████████████████████████████████████████| 8/8 [00:00<00:00, 13.24it/s]\n",
      "Epoch 398: loss 0.473625 0.8555: 100%|███████████████████████████████████████████████████████████████████████████████████████████████████████████████████████████████████████████████| 8/8 [00:00<00:00, 10.58it/s]\n",
      "Epoch 399: loss 0.467774 0.8554: 100%|███████████████████████████████████████████████████████████████████████████████████████████████████████████████████████████████████████████████| 8/8 [00:00<00:00, 10.50it/s]\n",
      "Epoch 400: loss 0.467194 0.8550:  88%|█████████████████████████████████████████████████████████████████████████████████████████████████████████████████████████████▏                 | 7/8 [00:00<00:00, 15.83it/s]\n",
      "  0%|                                                                                                                                                                                        | 0/2 [00:00<?, ?it/s]\u001b[A\n",
      "Valid 400: loss 0.539219 0.8104:   0%|                                                                                                                                                       | 0/2 [00:00<?, ?it/s]\u001b[A\n",
      "Valid 400: loss 0.539219 0.8104:  50%|███████████████████████████████████████████████████████████████████████▌                                                                       | 1/2 [00:00<00:00,  2.50it/s]\u001b[A\n",
      "Valid 400: loss 0.548695 0.7919: 100%|███████████████████████████████████████████████████████████████████████████████████████████████████████████████████████████████████████████████| 2/2 [00:00<00:00,  4.14it/s]\u001b[A\n",
      "Epoch 400: loss 0.467194 0.8550: 100%|███████████████████████████████████████████████████████████████████████████████████████████████████████████████████████████████████████████████| 8/8 [00:01<00:00,  7.17it/s]\n"
     ]
    },
    {
     "name": "stdout",
     "output_type": "stream",
     "text": [
      "EarlyStopping counter: 19 out of 100\n"
     ]
    },
    {
     "name": "stderr",
     "output_type": "stream",
     "text": [
      "Epoch 401: loss 0.471408 0.8539: 100%|███████████████████████████████████████████████████████████████████████████████████████████████████████████████████████████████████████████████| 8/8 [00:00<00:00, 14.33it/s]\n",
      "Epoch 402: loss 0.476718 0.8545: 100%|███████████████████████████████████████████████████████████████████████████████████████████████████████████████████████████████████████████████| 8/8 [00:00<00:00, 10.09it/s]\n",
      "Epoch 403: loss 0.475089 0.8542: 100%|███████████████████████████████████████████████████████████████████████████████████████████████████████████████████████████████████████████████| 8/8 [00:00<00:00, 11.84it/s]\n",
      "Epoch 404: loss 0.481335 0.8525: 100%|███████████████████████████████████████████████████████████████████████████████████████████████████████████████████████████████████████████████| 8/8 [00:00<00:00, 11.66it/s]\n",
      "Epoch 405: loss 0.476366 0.8531: 100%|███████████████████████████████████████████████████████████████████████████████████████████████████████████████████████████████████████████████| 8/8 [00:00<00:00, 13.02it/s]\n",
      "Epoch 406: loss 0.473682 0.8562: 100%|███████████████████████████████████████████████████████████████████████████████████████████████████████████████████████████████████████████████| 8/8 [00:00<00:00, 11.10it/s]\n",
      "Epoch 407: loss 0.467909 0.8547: 100%|███████████████████████████████████████████████████████████████████████████████████████████████████████████████████████████████████████████████| 8/8 [00:00<00:00, 11.92it/s]\n",
      "Epoch 408: loss 0.467538 0.8556: 100%|███████████████████████████████████████████████████████████████████████████████████████████████████████████████████████████████████████████████| 8/8 [00:00<00:00, 13.36it/s]\n",
      "Epoch 409: loss 0.464253 0.8573: 100%|███████████████████████████████████████████████████████████████████████████████████████████████████████████████████████████████████████████████| 8/8 [00:00<00:00, 12.11it/s]\n",
      "Epoch 410: loss 0.466388 0.8576:  62%|█████████████████████████████████████████████████████████████████████████████████████████▍                                                     | 5/8 [00:00<00:00, 11.03it/s]\n",
      "  0%|                                                                                                                                                                                        | 0/2 [00:00<?, ?it/s]\u001b[A\n",
      "Valid 410: loss 0.561786 0.8026:   0%|                                                                                                                                                       | 0/2 [00:00<?, ?it/s]\u001b[A\n",
      "Valid 410: loss 0.561786 0.8026:  50%|███████████████████████████████████████████████████████████████████████▌                                                                       | 1/2 [00:00<00:00,  2.63it/s]\u001b[A\n",
      "Valid 410: loss 0.546524 0.8107: 100%|███████████████████████████████████████████████████████████████████████████████████████████████████████████████████████████████████████████████| 2/2 [00:00<00:00,  4.29it/s]\u001b[A\n",
      "Epoch 410: loss 0.466388 0.8576: 100%|███████████████████████████████████████████████████████████████████████████████████████████████████████████████████████████████████████████████| 8/8 [00:01<00:00,  6.80it/s]\n"
     ]
    },
    {
     "name": "stdout",
     "output_type": "stream",
     "text": [
      "EarlyStopping counter: 20 out of 100\n"
     ]
    },
    {
     "name": "stderr",
     "output_type": "stream",
     "text": [
      "Epoch 411: loss 0.466652 0.8560: 100%|███████████████████████████████████████████████████████████████████████████████████████████████████████████████████████████████████████████████| 8/8 [00:00<00:00, 10.20it/s]\n",
      "Epoch 412: loss 0.468246 0.8568: 100%|███████████████████████████████████████████████████████████████████████████████████████████████████████████████████████████████████████████████| 8/8 [00:00<00:00,  9.30it/s]\n",
      "Epoch 413: loss 0.465128 0.8564: 100%|███████████████████████████████████████████████████████████████████████████████████████████████████████████████████████████████████████████████| 8/8 [00:00<00:00, 11.10it/s]\n",
      "Epoch 414: loss 0.465866 0.8571: 100%|███████████████████████████████████████████████████████████████████████████████████████████████████████████████████████████████████████████████| 8/8 [00:00<00:00,  8.80it/s]\n",
      "Epoch 415: loss 0.471105 0.8561: 100%|███████████████████████████████████████████████████████████████████████████████████████████████████████████████████████████████████████████████| 8/8 [00:00<00:00, 11.17it/s]\n",
      "Epoch 416: loss 0.463985 0.8571: 100%|███████████████████████████████████████████████████████████████████████████████████████████████████████████████████████████████████████████████| 8/8 [00:00<00:00, 12.14it/s]\n",
      "Epoch 417: loss 0.467797 0.8576: 100%|███████████████████████████████████████████████████████████████████████████████████████████████████████████████████████████████████████████████| 8/8 [00:00<00:00, 12.16it/s]\n",
      "Epoch 418: loss 0.468651 0.8565: 100%|███████████████████████████████████████████████████████████████████████████████████████████████████████████████████████████████████████████████| 8/8 [00:00<00:00, 12.22it/s]\n",
      "Epoch 419: loss 0.463883 0.8577: 100%|███████████████████████████████████████████████████████████████████████████████████████████████████████████████████████████████████████████████| 8/8 [00:00<00:00, 12.95it/s]\n",
      "Epoch 420: loss 0.465179 0.8577:  50%|███████████████████████████████████████████████████████████████████████▌                                                                       | 4/8 [00:00<00:00,  9.29it/s]\n",
      "  0%|                                                                                                                                                                                        | 0/2 [00:00<?, ?it/s]\u001b[A\n",
      "Valid 420: loss 0.526776 0.8170:   0%|                                                                                                                                                       | 0/2 [00:00<?, ?it/s]\u001b[A\n",
      "Valid 420: loss 0.526776 0.8170:  50%|███████████████████████████████████████████████████████████████████████▌                                                                       | 1/2 [00:00<00:00,  2.51it/s]\u001b[A\n",
      "Valid 420: loss 0.548093 0.8003: 100%|███████████████████████████████████████████████████████████████████████████████████████████████████████████████████████████████████████████████| 2/2 [00:00<00:00,  4.24it/s]\u001b[A\n",
      "Epoch 420: loss 0.465179 0.8577: 100%|███████████████████████████████████████████████████████████████████████████████████████████████████████████████████████████████████████████████| 8/8 [00:01<00:00,  6.99it/s]\n"
     ]
    },
    {
     "name": "stdout",
     "output_type": "stream",
     "text": [
      "EarlyStopping counter: 21 out of 100\n"
     ]
    },
    {
     "name": "stderr",
     "output_type": "stream",
     "text": [
      "Epoch 421: loss 0.464476 0.8573: 100%|███████████████████████████████████████████████████████████████████████████████████████████████████████████████████████████████████████████████| 8/8 [00:00<00:00, 13.98it/s]\n",
      "Epoch 422: loss 0.468105 0.8564: 100%|███████████████████████████████████████████████████████████████████████████████████████████████████████████████████████████████████████████████| 8/8 [00:00<00:00, 12.30it/s]\n",
      "Epoch 423: loss 0.467862 0.8579: 100%|███████████████████████████████████████████████████████████████████████████████████████████████████████████████████████████████████████████████| 8/8 [00:00<00:00, 11.96it/s]\n",
      "Epoch 424: loss 0.465710 0.8582: 100%|███████████████████████████████████████████████████████████████████████████████████████████████████████████████████████████████████████████████| 8/8 [00:00<00:00, 12.85it/s]\n",
      "Epoch 425: loss 0.465832 0.8577: 100%|███████████████████████████████████████████████████████████████████████████████████████████████████████████████████████████████████████████████| 8/8 [00:00<00:00, 13.18it/s]\n",
      "Epoch 426: loss 0.464974 0.8574: 100%|███████████████████████████████████████████████████████████████████████████████████████████████████████████████████████████████████████████████| 8/8 [00:00<00:00, 14.15it/s]\n",
      "Epoch 427: loss 0.468914 0.8579: 100%|███████████████████████████████████████████████████████████████████████████████████████████████████████████████████████████████████████████████| 8/8 [00:00<00:00, 12.89it/s]\n",
      "Epoch 428: loss 0.462694 0.8575: 100%|███████████████████████████████████████████████████████████████████████████████████████████████████████████████████████████████████████████████| 8/8 [00:00<00:00, 13.11it/s]\n",
      "Epoch 429: loss 0.467207 0.8576: 100%|███████████████████████████████████████████████████████████████████████████████████████████████████████████████████████████████████████████████| 8/8 [00:00<00:00, 10.40it/s]\n",
      "Epoch 430: loss 0.470718 0.8572:  50%|███████████████████████████████████████████████████████████████████████▌                                                                       | 4/8 [00:00<00:00,  8.52it/s]\n",
      "  0%|                                                                                                                                                                                        | 0/2 [00:00<?, ?it/s]\u001b[A\n",
      "Valid 430: loss 0.565030 0.7940:   0%|                                                                                                                                                       | 0/2 [00:00<?, ?it/s]\u001b[A\n",
      "Valid 430: loss 0.565030 0.7940:  50%|███████████████████████████████████████████████████████████████████████▌                                                                       | 1/2 [00:00<00:00,  2.51it/s]\u001b[A\n",
      "Valid 430: loss 0.553734 0.8120: 100%|███████████████████████████████████████████████████████████████████████████████████████████████████████████████████████████████████████████████| 2/2 [00:00<00:00,  4.21it/s]\u001b[A\n",
      "Epoch 430: loss 0.470718 0.8572: 100%|███████████████████████████████████████████████████████████████████████████████████████████████████████████████████████████████████████████████| 8/8 [00:01<00:00,  7.04it/s]\n"
     ]
    },
    {
     "name": "stdout",
     "output_type": "stream",
     "text": [
      "EarlyStopping counter: 22 out of 100\n"
     ]
    },
    {
     "name": "stderr",
     "output_type": "stream",
     "text": [
      "Epoch 431: loss 0.467219 0.8578: 100%|███████████████████████████████████████████████████████████████████████████████████████████████████████████████████████████████████████████████| 8/8 [00:00<00:00, 10.87it/s]\n",
      "Epoch 432: loss 0.466230 0.8580: 100%|███████████████████████████████████████████████████████████████████████████████████████████████████████████████████████████████████████████████| 8/8 [00:00<00:00,  9.72it/s]\n",
      "Epoch 433: loss 0.465285 0.8593: 100%|███████████████████████████████████████████████████████████████████████████████████████████████████████████████████████████████████████████████| 8/8 [00:00<00:00, 10.44it/s]\n",
      "Epoch 434: loss 0.463983 0.8591: 100%|███████████████████████████████████████████████████████████████████████████████████████████████████████████████████████████████████████████████| 8/8 [00:02<00:00,  3.28it/s]\n",
      "Epoch 435: loss 0.464672 0.8601: 100%|███████████████████████████████████████████████████████████████████████████████████████████████████████████████████████████████████████████████| 8/8 [00:00<00:00, 12.47it/s]\n",
      "Epoch 436: loss 0.463207 0.8602: 100%|███████████████████████████████████████████████████████████████████████████████████████████████████████████████████████████████████████████████| 8/8 [00:00<00:00, 12.96it/s]\n",
      "Epoch 437: loss 0.465607 0.8585: 100%|███████████████████████████████████████████████████████████████████████████████████████████████████████████████████████████████████████████████| 8/8 [00:00<00:00, 11.72it/s]\n",
      "Epoch 438: loss 0.466341 0.8582: 100%|███████████████████████████████████████████████████████████████████████████████████████████████████████████████████████████████████████████████| 8/8 [00:00<00:00, 13.48it/s]\n",
      "Epoch 439: loss 0.463838 0.8588: 100%|███████████████████████████████████████████████████████████████████████████████████████████████████████████████████████████████████████████████| 8/8 [00:00<00:00, 12.81it/s]\n",
      "Epoch 440: loss 0.463723 0.8582:  88%|█████████████████████████████████████████████████████████████████████████████████████████████████████████████████████████████▏                 | 7/8 [00:00<00:00, 12.67it/s]\n",
      "  0%|                                                                                                                                                                                        | 0/2 [00:00<?, ?it/s]\u001b[A\n",
      "Valid 440: loss 0.557078 0.7896:   0%|                                                                                                                                                       | 0/2 [00:00<?, ?it/s]\u001b[A\n",
      "Valid 440: loss 0.557078 0.7896:  50%|███████████████████████████████████████████████████████████████████████▌                                                                       | 1/2 [00:00<00:00,  2.64it/s]\u001b[A\n",
      "Valid 440: loss 0.549931 0.8078: 100%|███████████████████████████████████████████████████████████████████████████████████████████████████████████████████████████████████████████████| 2/2 [00:00<00:00,  4.37it/s]\u001b[A\n",
      "Epoch 440: loss 0.463723 0.8582: 100%|███████████████████████████████████████████████████████████████████████████████████████████████████████████████████████████████████████████████| 8/8 [00:01<00:00,  6.70it/s]\n"
     ]
    },
    {
     "name": "stdout",
     "output_type": "stream",
     "text": [
      "EarlyStopping counter: 23 out of 100\n"
     ]
    },
    {
     "name": "stderr",
     "output_type": "stream",
     "text": [
      "Epoch 441: loss 0.467550 0.8572: 100%|███████████████████████████████████████████████████████████████████████████████████████████████████████████████████████████████████████████████| 8/8 [00:00<00:00, 13.16it/s]\n",
      "Epoch 442: loss 0.463024 0.8586: 100%|███████████████████████████████████████████████████████████████████████████████████████████████████████████████████████████████████████████████| 8/8 [00:00<00:00, 12.85it/s]\n",
      "Epoch 443: loss 0.470418 0.8566: 100%|███████████████████████████████████████████████████████████████████████████████████████████████████████████████████████████████████████████████| 8/8 [00:00<00:00, 13.29it/s]\n",
      "Epoch 444: loss 0.494238 0.8545: 100%|███████████████████████████████████████████████████████████████████████████████████████████████████████████████████████████████████████████████| 8/8 [00:00<00:00, 12.72it/s]\n",
      "Epoch 445: loss 0.475362 0.8566: 100%|███████████████████████████████████████████████████████████████████████████████████████████████████████████████████████████████████████████████| 8/8 [00:00<00:00, 11.51it/s]\n",
      "Epoch 446: loss 0.481220 0.8555: 100%|███████████████████████████████████████████████████████████████████████████████████████████████████████████████████████████████████████████████| 8/8 [00:00<00:00, 13.17it/s]\n",
      "Epoch 447: loss 0.461575 0.8591: 100%|███████████████████████████████████████████████████████████████████████████████████████████████████████████████████████████████████████████████| 8/8 [00:00<00:00, 12.26it/s]\n",
      "Epoch 448: loss 0.462435 0.8587: 100%|███████████████████████████████████████████████████████████████████████████████████████████████████████████████████████████████████████████████| 8/8 [00:00<00:00, 13.04it/s]\n",
      "Epoch 449: loss 0.472926 0.8560: 100%|███████████████████████████████████████████████████████████████████████████████████████████████████████████████████████████████████████████████| 8/8 [00:00<00:00, 12.98it/s]\n",
      "Epoch 450: loss 0.470212 0.8584:  50%|███████████████████████████████████████████████████████████████████████▌                                                                       | 4/8 [00:00<00:00,  8.41it/s]\n",
      "  0%|                                                                                                                                                                                        | 0/2 [00:00<?, ?it/s]\u001b[A\n",
      "Valid 450: loss 0.570007 0.7897:   0%|                                                                                                                                                       | 0/2 [00:00<?, ?it/s]\u001b[A\n",
      "Valid 450: loss 0.570007 0.7897:  50%|███████████████████████████████████████████████████████████████████████▌                                                                       | 1/2 [00:00<00:00,  2.60it/s]\u001b[A\n",
      "Valid 450: loss 0.547863 0.8166: 100%|███████████████████████████████████████████████████████████████████████████████████████████████████████████████████████████████████████████████| 2/2 [00:00<00:00,  4.33it/s]\u001b[A\n",
      "Epoch 450: loss 0.470212 0.8584: 100%|███████████████████████████████████████████████████████████████████████████████████████████████████████████████████████████████████████████████| 8/8 [00:01<00:00,  6.70it/s]\n"
     ]
    },
    {
     "name": "stdout",
     "output_type": "stream",
     "text": [
      "EarlyStopping counter: 24 out of 100\n"
     ]
    },
    {
     "name": "stderr",
     "output_type": "stream",
     "text": [
      "Epoch 451: loss 0.460860 0.8592: 100%|███████████████████████████████████████████████████████████████████████████████████████████████████████████████████████████████████████████████| 8/8 [00:00<00:00, 12.21it/s]\n",
      "Epoch 452: loss 0.468378 0.8572: 100%|███████████████████████████████████████████████████████████████████████████████████████████████████████████████████████████████████████████████| 8/8 [00:00<00:00, 13.00it/s]\n",
      "Epoch 453: loss 0.463717 0.8596: 100%|███████████████████████████████████████████████████████████████████████████████████████████████████████████████████████████████████████████████| 8/8 [00:00<00:00, 11.99it/s]\n",
      "Epoch 454: loss 0.463698 0.8590: 100%|███████████████████████████████████████████████████████████████████████████████████████████████████████████████████████████████████████████████| 8/8 [00:00<00:00, 12.06it/s]\n",
      "Epoch 455: loss 0.471324 0.8575: 100%|███████████████████████████████████████████████████████████████████████████████████████████████████████████████████████████████████████████████| 8/8 [00:00<00:00, 13.34it/s]\n",
      "Epoch 456: loss 0.462324 0.8575: 100%|███████████████████████████████████████████████████████████████████████████████████████████████████████████████████████████████████████████████| 8/8 [00:00<00:00, 13.96it/s]\n",
      "Epoch 457: loss 0.460997 0.8604: 100%|███████████████████████████████████████████████████████████████████████████████████████████████████████████████████████████████████████████████| 8/8 [00:00<00:00, 11.80it/s]\n",
      "Epoch 458: loss 0.489371 0.8548: 100%|███████████████████████████████████████████████████████████████████████████████████████████████████████████████████████████████████████████████| 8/8 [00:00<00:00, 10.82it/s]\n",
      "Epoch 459: loss 0.482208 0.8561: 100%|███████████████████████████████████████████████████████████████████████████████████████████████████████████████████████████████████████████████| 8/8 [00:00<00:00, 13.34it/s]\n",
      "Epoch 460: loss 0.470058 0.8576:  75%|███████████████████████████████████████████████████████████████████████████████████████████████████████████▎                                   | 6/8 [00:00<00:00, 12.26it/s]\n",
      "  0%|                                                                                                                                                                                        | 0/2 [00:00<?, ?it/s]\u001b[A\n",
      "Valid 460: loss 0.555576 0.8051:   0%|                                                                                                                                                       | 0/2 [00:00<?, ?it/s]\u001b[A\n",
      "Valid 460: loss 0.555576 0.8051:  50%|███████████████████████████████████████████████████████████████████████▌                                                                       | 1/2 [00:00<00:00,  2.50it/s]\u001b[A\n",
      "Valid 460: loss 0.556898 0.7998: 100%|███████████████████████████████████████████████████████████████████████████████████████████████████████████████████████████████████████████████| 2/2 [00:00<00:00,  4.25it/s]\u001b[A\n",
      "Epoch 460: loss 0.470058 0.8576: 100%|███████████████████████████████████████████████████████████████████████████████████████████████████████████████████████████████████████████████| 8/8 [00:01<00:00,  6.63it/s]\n"
     ]
    },
    {
     "name": "stdout",
     "output_type": "stream",
     "text": [
      "EarlyStopping counter: 25 out of 100\n"
     ]
    },
    {
     "name": "stderr",
     "output_type": "stream",
     "text": [
      "Epoch 461: loss 0.469249 0.8587: 100%|███████████████████████████████████████████████████████████████████████████████████████████████████████████████████████████████████████████████| 8/8 [00:00<00:00, 11.89it/s]\n",
      "Epoch 462: loss 0.461634 0.8584: 100%|███████████████████████████████████████████████████████████████████████████████████████████████████████████████████████████████████████████████| 8/8 [00:00<00:00, 14.43it/s]\n",
      "Epoch 463: loss 0.469385 0.8584: 100%|███████████████████████████████████████████████████████████████████████████████████████████████████████████████████████████████████████████████| 8/8 [00:00<00:00, 13.37it/s]\n",
      "Epoch 464: loss 0.476152 0.8560: 100%|███████████████████████████████████████████████████████████████████████████████████████████████████████████████████████████████████████████████| 8/8 [00:00<00:00, 10.94it/s]\n",
      "Epoch 465: loss 0.483003 0.8557: 100%|███████████████████████████████████████████████████████████████████████████████████████████████████████████████████████████████████████████████| 8/8 [00:00<00:00, 12.77it/s]\n",
      "Epoch 466: loss 0.481720 0.8574: 100%|███████████████████████████████████████████████████████████████████████████████████████████████████████████████████████████████████████████████| 8/8 [00:00<00:00, 10.16it/s]\n",
      "Epoch 467: loss 0.464608 0.8603: 100%|███████████████████████████████████████████████████████████████████████████████████████████████████████████████████████████████████████████████| 8/8 [00:00<00:00, 13.84it/s]\n",
      "Epoch 468: loss 0.464898 0.8595: 100%|███████████████████████████████████████████████████████████████████████████████████████████████████████████████████████████████████████████████| 8/8 [00:00<00:00, 13.73it/s]\n",
      "Epoch 469: loss 0.464162 0.8601: 100%|███████████████████████████████████████████████████████████████████████████████████████████████████████████████████████████████████████████████| 8/8 [00:00<00:00, 13.75it/s]\n",
      "Epoch 470: loss 0.463213 0.8598:  75%|███████████████████████████████████████████████████████████████████████████████████████████████████████████▎                                   | 6/8 [00:00<00:00, 13.50it/s]\n",
      "  0%|                                                                                                                                                                                        | 0/2 [00:00<?, ?it/s]\u001b[A\n",
      "Valid 470: loss 0.552525 0.8072:   0%|                                                                                                                                                       | 0/2 [00:00<?, ?it/s]\u001b[A\n",
      "Valid 470: loss 0.552525 0.8072:  50%|███████████████████████████████████████████████████████████████████████▌                                                                       | 1/2 [00:00<00:00,  2.62it/s]\u001b[A\n",
      "Valid 470: loss 0.551201 0.7998: 100%|███████████████████████████████████████████████████████████████████████████████████████████████████████████████████████████████████████████████| 2/2 [00:00<00:00,  4.38it/s]\u001b[A\n",
      "Epoch 470: loss 0.463213 0.8598: 100%|███████████████████████████████████████████████████████████████████████████████████████████████████████████████████████████████████████████████| 8/8 [00:01<00:00,  7.31it/s]\n"
     ]
    },
    {
     "name": "stdout",
     "output_type": "stream",
     "text": [
      "EarlyStopping counter: 26 out of 100\n"
     ]
    },
    {
     "name": "stderr",
     "output_type": "stream",
     "text": [
      "Epoch 471: loss 0.462624 0.8612: 100%|███████████████████████████████████████████████████████████████████████████████████████████████████████████████████████████████████████████████| 8/8 [00:00<00:00,  9.51it/s]\n",
      "Epoch 472: loss 0.463633 0.8593: 100%|███████████████████████████████████████████████████████████████████████████████████████████████████████████████████████████████████████████████| 8/8 [00:00<00:00, 13.43it/s]\n",
      "Epoch 473: loss 0.465983 0.8603: 100%|███████████████████████████████████████████████████████████████████████████████████████████████████████████████████████████████████████████████| 8/8 [00:00<00:00, 11.65it/s]\n",
      "Epoch 474: loss 0.459217 0.8622: 100%|███████████████████████████████████████████████████████████████████████████████████████████████████████████████████████████████████████████████| 8/8 [00:00<00:00, 11.70it/s]\n",
      "Epoch 475: loss 0.457404 0.8603: 100%|███████████████████████████████████████████████████████████████████████████████████████████████████████████████████████████████████████████████| 8/8 [00:00<00:00, 12.86it/s]\n",
      "Epoch 476: loss 0.461265 0.8620: 100%|███████████████████████████████████████████████████████████████████████████████████████████████████████████████████████████████████████████████| 8/8 [00:00<00:00, 10.27it/s]\n",
      "Epoch 477: loss 0.469401 0.8594: 100%|███████████████████████████████████████████████████████████████████████████████████████████████████████████████████████████████████████████████| 8/8 [00:00<00:00, 13.26it/s]\n",
      "Epoch 478: loss 0.465207 0.8585: 100%|███████████████████████████████████████████████████████████████████████████████████████████████████████████████████████████████████████████████| 8/8 [00:00<00:00, 10.84it/s]\n",
      "Epoch 479: loss 0.458447 0.8621: 100%|███████████████████████████████████████████████████████████████████████████████████████████████████████████████████████████████████████████████| 8/8 [00:00<00:00, 11.45it/s]\n",
      "Epoch 480: loss 0.460937 0.8612:  12%|█████████████████▉                                                                                                                             | 1/8 [00:00<00:03,  2.25it/s]\n",
      "  0%|                                                                                                                                                                                        | 0/2 [00:00<?, ?it/s]\u001b[A\n",
      "Valid 480: loss 0.547741 0.7950:   0%|                                                                                                                                                       | 0/2 [00:00<?, ?it/s]\u001b[A\n",
      "Valid 480: loss 0.547741 0.7950:  50%|███████████████████████████████████████████████████████████████████████▌                                                                       | 1/2 [00:00<00:00,  2.53it/s]\u001b[A\n",
      "Valid 480: loss 0.552167 0.8046: 100%|███████████████████████████████████████████████████████████████████████████████████████████████████████████████████████████████████████████████| 2/2 [00:00<00:00,  4.18it/s]\u001b[A\n",
      "Epoch 480: loss 0.460937 0.8612: 100%|███████████████████████████████████████████████████████████████████████████████████████████████████████████████████████████████████████████████| 8/8 [00:01<00:00,  7.29it/s]\n"
     ]
    },
    {
     "name": "stdout",
     "output_type": "stream",
     "text": [
      "EarlyStopping counter: 27 out of 100\n"
     ]
    },
    {
     "name": "stderr",
     "output_type": "stream",
     "text": [
      "Epoch 481: loss 0.459228 0.8600: 100%|███████████████████████████████████████████████████████████████████████████████████████████████████████████████████████████████████████████████| 8/8 [00:00<00:00, 12.60it/s]\n",
      "Epoch 482: loss 0.464632 0.8613: 100%|███████████████████████████████████████████████████████████████████████████████████████████████████████████████████████████████████████████████| 8/8 [00:00<00:00, 12.02it/s]\n",
      "Epoch 483: loss 0.463586 0.8614: 100%|███████████████████████████████████████████████████████████████████████████████████████████████████████████████████████████████████████████████| 8/8 [00:00<00:00,  9.63it/s]\n",
      "Epoch 484: loss 0.461563 0.8611: 100%|███████████████████████████████████████████████████████████████████████████████████████████████████████████████████████████████████████████████| 8/8 [00:00<00:00, 12.50it/s]\n",
      "Epoch 485: loss 0.461892 0.8613: 100%|███████████████████████████████████████████████████████████████████████████████████████████████████████████████████████████████████████████████| 8/8 [00:00<00:00, 11.65it/s]\n",
      "Epoch 486: loss 0.458025 0.8615: 100%|███████████████████████████████████████████████████████████████████████████████████████████████████████████████████████████████████████████████| 8/8 [00:00<00:00, 14.20it/s]\n",
      "Epoch 487: loss 0.457741 0.8613: 100%|███████████████████████████████████████████████████████████████████████████████████████████████████████████████████████████████████████████████| 8/8 [00:00<00:00, 13.82it/s]\n",
      "Epoch 488: loss 0.456417 0.8619: 100%|███████████████████████████████████████████████████████████████████████████████████████████████████████████████████████████████████████████████| 8/8 [00:00<00:00, 12.36it/s]\n",
      "Epoch 489: loss 0.460845 0.8597: 100%|███████████████████████████████████████████████████████████████████████████████████████████████████████████████████████████████████████████████| 8/8 [00:00<00:00, 10.60it/s]\n",
      "Epoch 490: loss 0.474464 0.8567:  62%|█████████████████████████████████████████████████████████████████████████████████████████▍                                                     | 5/8 [00:00<00:00, 10.46it/s]\n",
      "  0%|                                                                                                                                                                                        | 0/2 [00:00<?, ?it/s]\u001b[A\n",
      "Valid 490: loss 0.540813 0.8152:   0%|                                                                                                                                                       | 0/2 [00:00<?, ?it/s]\u001b[A\n",
      "Valid 490: loss 0.540813 0.8152:  50%|███████████████████████████████████████████████████████████████████████▌                                                                       | 1/2 [00:00<00:00,  2.46it/s]\u001b[A\n",
      "Valid 490: loss 0.554066 0.7939: 100%|███████████████████████████████████████████████████████████████████████████████████████████████████████████████████████████████████████████████| 2/2 [00:00<00:00,  4.11it/s]\u001b[A\n",
      "Epoch 490: loss 0.474464 0.8567: 100%|███████████████████████████████████████████████████████████████████████████████████████████████████████████████████████████████████████████████| 8/8 [00:01<00:00,  6.87it/s]\n"
     ]
    },
    {
     "name": "stdout",
     "output_type": "stream",
     "text": [
      "EarlyStopping counter: 28 out of 100\n"
     ]
    },
    {
     "name": "stderr",
     "output_type": "stream",
     "text": [
      "Epoch 491: loss 0.468334 0.8584: 100%|███████████████████████████████████████████████████████████████████████████████████████████████████████████████████████████████████████████████| 8/8 [00:00<00:00, 12.43it/s]\n",
      "Epoch 492: loss 0.468274 0.8576: 100%|███████████████████████████████████████████████████████████████████████████████████████████████████████████████████████████████████████████████| 8/8 [00:00<00:00, 12.38it/s]\n",
      "Epoch 493: loss 0.463880 0.8574: 100%|███████████████████████████████████████████████████████████████████████████████████████████████████████████████████████████████████████████████| 8/8 [00:00<00:00, 12.95it/s]\n",
      "Epoch 494: loss 0.463073 0.8586: 100%|███████████████████████████████████████████████████████████████████████████████████████████████████████████████████████████████████████████████| 8/8 [00:00<00:00, 12.83it/s]\n",
      "Epoch 495: loss 0.467688 0.8615: 100%|███████████████████████████████████████████████████████████████████████████████████████████████████████████████████████████████████████████████| 8/8 [00:00<00:00, 12.44it/s]\n",
      "Epoch 496: loss 0.470356 0.8591: 100%|███████████████████████████████████████████████████████████████████████████████████████████████████████████████████████████████████████████████| 8/8 [00:00<00:00,  8.99it/s]\n",
      "Epoch 497: loss 0.458914 0.8612: 100%|███████████████████████████████████████████████████████████████████████████████████████████████████████████████████████████████████████████████| 8/8 [00:00<00:00, 13.23it/s]\n",
      "Epoch 498: loss 0.469347 0.8586: 100%|███████████████████████████████████████████████████████████████████████████████████████████████████████████████████████████████████████████████| 8/8 [00:00<00:00, 12.43it/s]\n",
      "Epoch 499: loss 0.484154 0.8553: 100%|███████████████████████████████████████████████████████████████████████████████████████████████████████████████████████████████████████████████| 8/8 [00:00<00:00, 13.83it/s]\n",
      "Epoch 500: loss 0.473281 0.8587:  88%|█████████████████████████████████████████████████████████████████████████████████████████████████████████████████████████████▏                 | 7/8 [00:00<00:00, 16.06it/s]\n",
      "  0%|                                                                                                                                                                                        | 0/2 [00:00<?, ?it/s]\u001b[A\n",
      "Valid 500: loss 0.571469 0.8065:   0%|                                                                                                                                                       | 0/2 [00:00<?, ?it/s]\u001b[A\n",
      "Valid 500: loss 0.571469 0.8065:  50%|███████████████████████████████████████████████████████████████████████▌                                                                       | 1/2 [00:00<00:00,  2.63it/s]\u001b[A\n",
      "Valid 500: loss 0.578799 0.7980: 100%|███████████████████████████████████████████████████████████████████████████████████████████████████████████████████████████████████████████████| 2/2 [00:00<00:00,  4.50it/s]\u001b[A\n",
      "Epoch 500: loss 0.473281 0.8587: 100%|███████████████████████████████████████████████████████████████████████████████████████████████████████████████████████████████████████████████| 8/8 [00:01<00:00,  7.58it/s]\n"
     ]
    },
    {
     "name": "stdout",
     "output_type": "stream",
     "text": [
      "EarlyStopping counter: 29 out of 100\n"
     ]
    },
    {
     "name": "stderr",
     "output_type": "stream",
     "text": [
      "Epoch 501: loss 0.477872 0.8578: 100%|███████████████████████████████████████████████████████████████████████████████████████████████████████████████████████████████████████████████| 8/8 [00:00<00:00, 11.11it/s]\n",
      "Epoch 502: loss 0.472754 0.8593: 100%|███████████████████████████████████████████████████████████████████████████████████████████████████████████████████████████████████████████████| 8/8 [00:00<00:00, 13.97it/s]\n",
      "Epoch 503: loss 0.470416 0.8596: 100%|███████████████████████████████████████████████████████████████████████████████████████████████████████████████████████████████████████████████| 8/8 [00:00<00:00, 12.69it/s]\n",
      "Epoch 504: loss 0.471935 0.8592: 100%|███████████████████████████████████████████████████████████████████████████████████████████████████████████████████████████████████████████████| 8/8 [00:00<00:00,  9.26it/s]\n",
      "Epoch 505: loss 0.471418 0.8603: 100%|███████████████████████████████████████████████████████████████████████████████████████████████████████████████████████████████████████████████| 8/8 [00:00<00:00, 12.72it/s]\n",
      "Epoch 506: loss 0.473940 0.8594: 100%|███████████████████████████████████████████████████████████████████████████████████████████████████████████████████████████████████████████████| 8/8 [00:00<00:00, 12.40it/s]\n",
      "Epoch 507: loss 0.464437 0.8621: 100%|███████████████████████████████████████████████████████████████████████████████████████████████████████████████████████████████████████████████| 8/8 [00:00<00:00, 14.47it/s]\n",
      "Epoch 508: loss 0.463360 0.8622: 100%|███████████████████████████████████████████████████████████████████████████████████████████████████████████████████████████████████████████████| 8/8 [00:00<00:00,  9.82it/s]\n",
      "Epoch 509: loss 0.464220 0.8605: 100%|███████████████████████████████████████████████████████████████████████████████████████████████████████████████████████████████████████████████| 8/8 [00:00<00:00, 10.44it/s]\n",
      "Epoch 510: loss 0.457406 0.8614:  12%|█████████████████▉                                                                                                                             | 1/8 [00:00<00:03,  2.28it/s]\n",
      "  0%|                                                                                                                                                                                        | 0/2 [00:00<?, ?it/s]\u001b[A\n",
      "Valid 510: loss 0.573485 0.7881:   0%|                                                                                                                                                       | 0/2 [00:00<?, ?it/s]\u001b[A\n",
      "Valid 510: loss 0.573485 0.7881:  50%|███████████████████████████████████████████████████████████████████████▌                                                                       | 1/2 [00:00<00:00,  2.57it/s]\u001b[A\n",
      "Valid 510: loss 0.559063 0.8097: 100%|███████████████████████████████████████████████████████████████████████████████████████████████████████████████████████████████████████████████| 2/2 [00:00<00:00,  4.25it/s]\u001b[A\n",
      "Epoch 510: loss 0.457406 0.8614: 100%|███████████████████████████████████████████████████████████████████████████████████████████████████████████████████████████████████████████████| 8/8 [00:01<00:00,  7.52it/s]\n"
     ]
    },
    {
     "name": "stdout",
     "output_type": "stream",
     "text": [
      "EarlyStopping counter: 30 out of 100\n"
     ]
    },
    {
     "name": "stderr",
     "output_type": "stream",
     "text": [
      "Epoch 511: loss 0.461147 0.8608: 100%|███████████████████████████████████████████████████████████████████████████████████████████████████████████████████████████████████████████████| 8/8 [00:00<00:00, 11.99it/s]\n",
      "Epoch 512: loss 0.458684 0.8617: 100%|███████████████████████████████████████████████████████████████████████████████████████████████████████████████████████████████████████████████| 8/8 [00:00<00:00, 13.69it/s]\n",
      "Epoch 513: loss 0.470911 0.8597: 100%|███████████████████████████████████████████████████████████████████████████████████████████████████████████████████████████████████████████████| 8/8 [00:00<00:00, 10.81it/s]\n",
      "Epoch 514: loss 0.466910 0.8594: 100%|███████████████████████████████████████████████████████████████████████████████████████████████████████████████████████████████████████████████| 8/8 [00:00<00:00, 11.46it/s]\n",
      "Epoch 515: loss 0.463992 0.8600: 100%|███████████████████████████████████████████████████████████████████████████████████████████████████████████████████████████████████████████████| 8/8 [00:00<00:00, 10.27it/s]\n",
      "Epoch 516: loss 0.455431 0.8640: 100%|███████████████████████████████████████████████████████████████████████████████████████████████████████████████████████████████████████████████| 8/8 [00:00<00:00, 12.50it/s]\n",
      "Epoch 517: loss 0.458968 0.8607: 100%|███████████████████████████████████████████████████████████████████████████████████████████████████████████████████████████████████████████████| 8/8 [00:00<00:00, 13.56it/s]\n",
      "Epoch 518: loss 0.455928 0.8617: 100%|███████████████████████████████████████████████████████████████████████████████████████████████████████████████████████████████████████████████| 8/8 [00:00<00:00, 11.42it/s]\n",
      "Epoch 519: loss 0.460828 0.8624: 100%|███████████████████████████████████████████████████████████████████████████████████████████████████████████████████████████████████████████████| 8/8 [00:00<00:00, 11.30it/s]\n",
      "Epoch 520: loss 0.483285 0.8569:  75%|███████████████████████████████████████████████████████████████████████████████████████████████████████████▎                                   | 6/8 [00:00<00:00, 13.84it/s]\n",
      "  0%|                                                                                                                                                                                        | 0/2 [00:00<?, ?it/s]\u001b[A\n",
      "Valid 520: loss 0.550844 0.8078:   0%|                                                                                                                                                       | 0/2 [00:00<?, ?it/s]\u001b[A\n",
      "Valid 520: loss 0.550844 0.8078:  50%|███████████████████████████████████████████████████████████████████████▌                                                                       | 1/2 [00:00<00:00,  2.56it/s]\u001b[A\n",
      "Valid 520: loss 0.551561 0.7928: 100%|███████████████████████████████████████████████████████████████████████████████████████████████████████████████████████████████████████████████| 2/2 [00:00<00:00,  4.32it/s]\u001b[A\n",
      "Epoch 520: loss 0.483285 0.8569: 100%|███████████████████████████████████████████████████████████████████████████████████████████████████████████████████████████████████████████████| 8/8 [00:01<00:00,  7.39it/s]\n"
     ]
    },
    {
     "name": "stdout",
     "output_type": "stream",
     "text": [
      "EarlyStopping counter: 31 out of 100\n"
     ]
    },
    {
     "name": "stderr",
     "output_type": "stream",
     "text": [
      "Epoch 521: loss 0.482978 0.8582: 100%|███████████████████████████████████████████████████████████████████████████████████████████████████████████████████████████████████████████████| 8/8 [00:00<00:00, 13.67it/s]\n",
      "Epoch 522: loss 0.474882 0.8620: 100%|███████████████████████████████████████████████████████████████████████████████████████████████████████████████████████████████████████████████| 8/8 [00:00<00:00, 11.35it/s]\n",
      "Epoch 523: loss 0.461194 0.8620: 100%|███████████████████████████████████████████████████████████████████████████████████████████████████████████████████████████████████████████████| 8/8 [00:00<00:00, 11.03it/s]\n",
      "Epoch 524: loss 0.457799 0.8645: 100%|███████████████████████████████████████████████████████████████████████████████████████████████████████████████████████████████████████████████| 8/8 [00:00<00:00, 13.03it/s]\n",
      "Epoch 525: loss 0.465849 0.8615: 100%|███████████████████████████████████████████████████████████████████████████████████████████████████████████████████████████████████████████████| 8/8 [00:00<00:00, 13.25it/s]\n",
      "Epoch 526: loss 0.485909 0.8572: 100%|███████████████████████████████████████████████████████████████████████████████████████████████████████████████████████████████████████████████| 8/8 [00:00<00:00, 11.93it/s]\n",
      "Epoch 527: loss 0.456097 0.8626: 100%|███████████████████████████████████████████████████████████████████████████████████████████████████████████████████████████████████████████████| 8/8 [00:05<00:00,  1.56it/s]\n",
      "Epoch 528: loss 0.458470 0.8609: 100%|███████████████████████████████████████████████████████████████████████████████████████████████████████████████████████████████████████████████| 8/8 [00:00<00:00, 10.87it/s]\n",
      "Epoch 529: loss 0.457651 0.8632: 100%|███████████████████████████████████████████████████████████████████████████████████████████████████████████████████████████████████████████████| 8/8 [00:00<00:00, 12.54it/s]\n",
      "Epoch 530: loss 0.464591 0.8624:  50%|███████████████████████████████████████████████████████████████████████▌                                                                       | 4/8 [00:00<00:00,  8.32it/s]\n",
      "  0%|                                                                                                                                                                                        | 0/2 [00:00<?, ?it/s]\u001b[A\n",
      "Valid 530: loss 0.547019 0.7994:   0%|                                                                                                                                                       | 0/2 [00:00<?, ?it/s]\u001b[A\n",
      "Valid 530: loss 0.547019 0.7994:  50%|███████████████████████████████████████████████████████████████████████▌                                                                       | 1/2 [00:00<00:00,  2.51it/s]\u001b[A\n",
      "Valid 530: loss 0.561014 0.7843: 100%|███████████████████████████████████████████████████████████████████████████████████████████████████████████████████████████████████████████████| 2/2 [00:00<00:00,  4.21it/s]\u001b[A\n",
      "Epoch 530: loss 0.464591 0.8624: 100%|███████████████████████████████████████████████████████████████████████████████████████████████████████████████████████████████████████████████| 8/8 [00:01<00:00,  6.49it/s]\n"
     ]
    },
    {
     "name": "stdout",
     "output_type": "stream",
     "text": [
      "EarlyStopping counter: 32 out of 100\n"
     ]
    },
    {
     "name": "stderr",
     "output_type": "stream",
     "text": [
      "Epoch 531: loss 0.464027 0.8606: 100%|███████████████████████████████████████████████████████████████████████████████████████████████████████████████████████████████████████████████| 8/8 [00:00<00:00, 10.68it/s]\n",
      "Epoch 532: loss 0.478241 0.8599: 100%|███████████████████████████████████████████████████████████████████████████████████████████████████████████████████████████████████████████████| 8/8 [00:00<00:00, 11.70it/s]\n",
      "Epoch 533: loss 0.463828 0.8598: 100%|███████████████████████████████████████████████████████████████████████████████████████████████████████████████████████████████████████████████| 8/8 [00:00<00:00, 10.31it/s]\n",
      "Epoch 534: loss 0.460852 0.8622: 100%|███████████████████████████████████████████████████████████████████████████████████████████████████████████████████████████████████████████████| 8/8 [00:00<00:00,  9.34it/s]\n",
      "Epoch 535: loss 0.459702 0.8616: 100%|███████████████████████████████████████████████████████████████████████████████████████████████████████████████████████████████████████████████| 8/8 [00:00<00:00, 12.90it/s]\n",
      "Epoch 536: loss 0.455830 0.8641: 100%|███████████████████████████████████████████████████████████████████████████████████████████████████████████████████████████████████████████████| 8/8 [00:00<00:00, 11.57it/s]\n",
      "Epoch 537: loss 0.455616 0.8631: 100%|███████████████████████████████████████████████████████████████████████████████████████████████████████████████████████████████████████████████| 8/8 [00:00<00:00, 11.42it/s]\n",
      "Epoch 538: loss 0.455685 0.8650: 100%|███████████████████████████████████████████████████████████████████████████████████████████████████████████████████████████████████████████████| 8/8 [00:00<00:00, 13.07it/s]\n",
      "Epoch 539: loss 0.457526 0.8633: 100%|███████████████████████████████████████████████████████████████████████████████████████████████████████████████████████████████████████████████| 8/8 [00:00<00:00, 12.00it/s]\n",
      "Epoch 540: loss 0.473002 0.8623:  62%|█████████████████████████████████████████████████████████████████████████████████████████▍                                                     | 5/8 [00:00<00:00, 11.48it/s]\n",
      "  0%|                                                                                                                                                                                        | 0/2 [00:00<?, ?it/s]\u001b[A\n",
      "Valid 540: loss 0.569058 0.8039:   0%|                                                                                                                                                       | 0/2 [00:00<?, ?it/s]\u001b[A\n",
      "Valid 540: loss 0.569058 0.8039:  50%|███████████████████████████████████████████████████████████████████████▌                                                                       | 1/2 [00:00<00:00,  2.55it/s]\u001b[A\n",
      "Valid 540: loss 0.568613 0.8102: 100%|███████████████████████████████████████████████████████████████████████████████████████████████████████████████████████████████████████████████| 2/2 [00:00<00:00,  4.35it/s]\u001b[A\n",
      "Epoch 540: loss 0.473002 0.8623: 100%|███████████████████████████████████████████████████████████████████████████████████████████████████████████████████████████████████████████████| 8/8 [00:01<00:00,  7.12it/s]\n"
     ]
    },
    {
     "name": "stdout",
     "output_type": "stream",
     "text": [
      "EarlyStopping counter: 33 out of 100\n"
     ]
    },
    {
     "name": "stderr",
     "output_type": "stream",
     "text": [
      "Epoch 541: loss 0.474339 0.8588: 100%|███████████████████████████████████████████████████████████████████████████████████████████████████████████████████████████████████████████████| 8/8 [00:00<00:00,  8.86it/s]\n",
      "Epoch 542: loss 0.466917 0.8612: 100%|███████████████████████████████████████████████████████████████████████████████████████████████████████████████████████████████████████████████| 8/8 [00:00<00:00, 11.96it/s]\n",
      "Epoch 543: loss 0.461410 0.8611: 100%|███████████████████████████████████████████████████████████████████████████████████████████████████████████████████████████████████████████████| 8/8 [00:00<00:00, 10.52it/s]\n",
      "Epoch 544: loss 0.460208 0.8639: 100%|███████████████████████████████████████████████████████████████████████████████████████████████████████████████████████████████████████████████| 8/8 [00:00<00:00, 10.69it/s]\n",
      "Epoch 545: loss 0.454247 0.8636: 100%|███████████████████████████████████████████████████████████████████████████████████████████████████████████████████████████████████████████████| 8/8 [00:00<00:00, 11.92it/s]\n",
      "Epoch 546: loss 0.461285 0.8636: 100%|███████████████████████████████████████████████████████████████████████████████████████████████████████████████████████████████████████████████| 8/8 [00:00<00:00, 12.76it/s]\n",
      "Epoch 547: loss 0.453083 0.8639: 100%|███████████████████████████████████████████████████████████████████████████████████████████████████████████████████████████████████████████████| 8/8 [00:00<00:00, 11.82it/s]\n",
      "Epoch 548: loss 0.455303 0.8655: 100%|███████████████████████████████████████████████████████████████████████████████████████████████████████████████████████████████████████████████| 8/8 [00:00<00:00,  9.96it/s]\n",
      "Epoch 549: loss 0.453730 0.8634: 100%|███████████████████████████████████████████████████████████████████████████████████████████████████████████████████████████████████████████████| 8/8 [00:00<00:00, 12.13it/s]\n",
      "Epoch 550: loss 0.454068 0.8637:  12%|█████████████████▉                                                                                                                             | 1/8 [00:00<00:02,  2.38it/s]\n",
      "  0%|                                                                                                                                                                                        | 0/2 [00:00<?, ?it/s]\u001b[A\n",
      "Valid 550: loss 0.578754 0.7783:   0%|                                                                                                                                                       | 0/2 [00:00<?, ?it/s]\u001b[A\n",
      "Valid 550: loss 0.578754 0.7783:  50%|███████████████████████████████████████████████████████████████████████▌                                                                       | 1/2 [00:00<00:00,  2.29it/s]\u001b[A\n",
      "Valid 550: loss 0.562574 0.8043: 100%|███████████████████████████████████████████████████████████████████████████████████████████████████████████████████████████████████████████████| 2/2 [00:00<00:00,  3.91it/s]\u001b[A\n",
      "Epoch 550: loss 0.454068 0.8637: 100%|███████████████████████████████████████████████████████████████████████████████████████████████████████████████████████████████████████████████| 8/8 [00:01<00:00,  7.43it/s]\n"
     ]
    },
    {
     "name": "stdout",
     "output_type": "stream",
     "text": [
      "EarlyStopping counter: 34 out of 100\n"
     ]
    },
    {
     "name": "stderr",
     "output_type": "stream",
     "text": [
      "Epoch 551: loss 0.452794 0.8637: 100%|███████████████████████████████████████████████████████████████████████████████████████████████████████████████████████████████████████████████| 8/8 [00:00<00:00, 10.05it/s]\n",
      "Epoch 552: loss 0.455418 0.8652: 100%|███████████████████████████████████████████████████████████████████████████████████████████████████████████████████████████████████████████████| 8/8 [00:00<00:00, 13.56it/s]\n",
      "Epoch 553: loss 0.464483 0.8627: 100%|███████████████████████████████████████████████████████████████████████████████████████████████████████████████████████████████████████████████| 8/8 [00:00<00:00, 14.10it/s]\n",
      "Epoch 554: loss 0.455288 0.8653: 100%|███████████████████████████████████████████████████████████████████████████████████████████████████████████████████████████████████████████████| 8/8 [00:00<00:00, 12.32it/s]\n",
      "Epoch 555: loss 0.458760 0.8644: 100%|███████████████████████████████████████████████████████████████████████████████████████████████████████████████████████████████████████████████| 8/8 [00:00<00:00, 12.92it/s]\n",
      "Epoch 556: loss 0.456678 0.8639: 100%|███████████████████████████████████████████████████████████████████████████████████████████████████████████████████████████████████████████████| 8/8 [00:00<00:00, 12.35it/s]\n",
      "Epoch 557: loss 0.449516 0.8665: 100%|███████████████████████████████████████████████████████████████████████████████████████████████████████████████████████████████████████████████| 8/8 [00:00<00:00, 11.39it/s]\n",
      "Epoch 558: loss 0.452678 0.8650: 100%|███████████████████████████████████████████████████████████████████████████████████████████████████████████████████████████████████████████████| 8/8 [00:00<00:00, 10.93it/s]\n",
      "Epoch 559: loss 0.449907 0.8657: 100%|███████████████████████████████████████████████████████████████████████████████████████████████████████████████████████████████████████████████| 8/8 [00:00<00:00, 11.65it/s]\n",
      "Epoch 560: loss 0.452508 0.8639:  50%|███████████████████████████████████████████████████████████████████████▌                                                                       | 4/8 [00:00<00:00,  6.49it/s]\n",
      "  0%|                                                                                                                                                                                        | 0/2 [00:00<?, ?it/s]\u001b[A\n",
      "Valid 560: loss 0.574983 0.7905:   0%|                                                                                                                                                       | 0/2 [00:00<?, ?it/s]\u001b[A\n",
      "Valid 560: loss 0.574983 0.7905:  50%|███████████████████████████████████████████████████████████████████████▌                                                                       | 1/2 [00:00<00:00,  2.51it/s]\u001b[A\n",
      "Valid 560: loss 0.558953 0.8074: 100%|███████████████████████████████████████████████████████████████████████████████████████████████████████████████████████████████████████████████| 2/2 [00:00<00:00,  4.25it/s]\u001b[A\n",
      "Epoch 560: loss 0.452508 0.8639: 100%|███████████████████████████████████████████████████████████████████████████████████████████████████████████████████████████████████████████████| 8/8 [00:01<00:00,  6.37it/s]\n"
     ]
    },
    {
     "name": "stdout",
     "output_type": "stream",
     "text": [
      "EarlyStopping counter: 35 out of 100\n"
     ]
    },
    {
     "name": "stderr",
     "output_type": "stream",
     "text": [
      "Epoch 561: loss 0.450894 0.8664: 100%|███████████████████████████████████████████████████████████████████████████████████████████████████████████████████████████████████████████████| 8/8 [00:00<00:00, 13.37it/s]\n",
      "Epoch 562: loss 0.450440 0.8646: 100%|███████████████████████████████████████████████████████████████████████████████████████████████████████████████████████████████████████████████| 8/8 [00:00<00:00,  9.55it/s]\n",
      "Epoch 563: loss 0.450233 0.8651: 100%|███████████████████████████████████████████████████████████████████████████████████████████████████████████████████████████████████████████████| 8/8 [00:00<00:00, 11.56it/s]\n",
      "Epoch 564: loss 0.459159 0.8626: 100%|███████████████████████████████████████████████████████████████████████████████████████████████████████████████████████████████████████████████| 8/8 [00:00<00:00,  9.61it/s]\n",
      "Epoch 565: loss 0.465641 0.8612: 100%|███████████████████████████████████████████████████████████████████████████████████████████████████████████████████████████████████████████████| 8/8 [00:00<00:00,  9.85it/s]\n",
      "Epoch 566: loss 0.451782 0.8668: 100%|███████████████████████████████████████████████████████████████████████████████████████████████████████████████████████████████████████████████| 8/8 [00:00<00:00, 10.51it/s]\n",
      "Epoch 567: loss 0.450603 0.8662: 100%|███████████████████████████████████████████████████████████████████████████████████████████████████████████████████████████████████████████████| 8/8 [00:00<00:00, 11.59it/s]\n",
      "Epoch 568: loss 0.458290 0.8645: 100%|███████████████████████████████████████████████████████████████████████████████████████████████████████████████████████████████████████████████| 8/8 [00:00<00:00, 12.58it/s]\n",
      "Epoch 569: loss 0.456289 0.8649: 100%|███████████████████████████████████████████████████████████████████████████████████████████████████████████████████████████████████████████████| 8/8 [00:00<00:00, 14.03it/s]\n",
      "Epoch 570: loss 0.451539 0.8661:  62%|█████████████████████████████████████████████████████████████████████████████████████████▍                                                     | 5/8 [00:00<00:00, 10.46it/s]\n",
      "  0%|                                                                                                                                                                                        | 0/2 [00:00<?, ?it/s]\u001b[A\n",
      "Valid 570: loss 0.580596 0.7962:   0%|                                                                                                                                                       | 0/2 [00:00<?, ?it/s]\u001b[A\n",
      "Valid 570: loss 0.580596 0.7962:  50%|███████████████████████████████████████████████████████████████████████▌                                                                       | 1/2 [00:00<00:00,  2.56it/s]\u001b[A\n",
      "Valid 570: loss 0.581251 0.7910: 100%|███████████████████████████████████████████████████████████████████████████████████████████████████████████████████████████████████████████████| 2/2 [00:00<00:00,  4.28it/s]\u001b[A\n",
      "Epoch 570: loss 0.451539 0.8661: 100%|███████████████████████████████████████████████████████████████████████████████████████████████████████████████████████████████████████████████| 8/8 [00:01<00:00,  7.03it/s]\n"
     ]
    },
    {
     "name": "stdout",
     "output_type": "stream",
     "text": [
      "EarlyStopping counter: 36 out of 100\n"
     ]
    },
    {
     "name": "stderr",
     "output_type": "stream",
     "text": [
      "Epoch 571: loss 0.454653 0.8667: 100%|███████████████████████████████████████████████████████████████████████████████████████████████████████████████████████████████████████████████| 8/8 [00:00<00:00, 12.67it/s]\n",
      "Epoch 572: loss 0.453650 0.8660: 100%|███████████████████████████████████████████████████████████████████████████████████████████████████████████████████████████████████████████████| 8/8 [00:00<00:00, 12.73it/s]\n",
      "Epoch 573: loss 0.449610 0.8668: 100%|███████████████████████████████████████████████████████████████████████████████████████████████████████████████████████████████████████████████| 8/8 [00:00<00:00, 12.02it/s]\n",
      "Epoch 574: loss 0.457022 0.8640: 100%|███████████████████████████████████████████████████████████████████████████████████████████████████████████████████████████████████████████████| 8/8 [00:00<00:00, 12.70it/s]\n",
      "Epoch 575: loss 0.459272 0.8641: 100%|███████████████████████████████████████████████████████████████████████████████████████████████████████████████████████████████████████████████| 8/8 [00:00<00:00, 10.30it/s]\n",
      "Epoch 576: loss 0.449977 0.8645: 100%|███████████████████████████████████████████████████████████████████████████████████████████████████████████████████████████████████████████████| 8/8 [00:00<00:00,  9.46it/s]\n",
      "Epoch 577: loss 0.455331 0.8651: 100%|███████████████████████████████████████████████████████████████████████████████████████████████████████████████████████████████████████████████| 8/8 [00:01<00:00,  7.87it/s]\n",
      "Epoch 578: loss 0.455892 0.8658: 100%|███████████████████████████████████████████████████████████████████████████████████████████████████████████████████████████████████████████████| 8/8 [00:00<00:00, 10.61it/s]\n",
      "Epoch 579: loss 0.451038 0.8651: 100%|███████████████████████████████████████████████████████████████████████████████████████████████████████████████████████████████████████████████| 8/8 [00:00<00:00, 11.60it/s]\n",
      "Epoch 580: loss 0.448334 0.8673:  50%|███████████████████████████████████████████████████████████████████████▌                                                                       | 4/8 [00:00<00:00,  5.64it/s]\n",
      "  0%|                                                                                                                                                                                        | 0/2 [00:00<?, ?it/s]\u001b[A\n",
      "Valid 580: loss 0.599003 0.7835:   0%|                                                                                                                                                       | 0/2 [00:00<?, ?it/s]\u001b[A\n",
      "Valid 580: loss 0.599003 0.7835:  50%|███████████████████████████████████████████████████████████████████████▌                                                                       | 1/2 [00:00<00:00,  2.50it/s]\u001b[A\n",
      "Valid 580: loss 0.564074 0.8151: 100%|███████████████████████████████████████████████████████████████████████████████████████████████████████████████████████████████████████████████| 2/2 [00:00<00:00,  4.36it/s]\u001b[A\n",
      "Epoch 580: loss 0.448334 0.8673: 100%|███████████████████████████████████████████████████████████████████████████████████████████████████████████████████████████████████████████████| 8/8 [00:01<00:00,  5.88it/s]\n"
     ]
    },
    {
     "name": "stdout",
     "output_type": "stream",
     "text": [
      "EarlyStopping counter: 37 out of 100\n"
     ]
    },
    {
     "name": "stderr",
     "output_type": "stream",
     "text": [
      "Epoch 581: loss 0.447664 0.8670: 100%|███████████████████████████████████████████████████████████████████████████████████████████████████████████████████████████████████████████████| 8/8 [00:00<00:00, 12.59it/s]\n",
      "Epoch 582: loss 0.462581 0.8640: 100%|███████████████████████████████████████████████████████████████████████████████████████████████████████████████████████████████████████████████| 8/8 [00:00<00:00, 13.20it/s]\n",
      "Epoch 583: loss 0.477897 0.8596: 100%|███████████████████████████████████████████████████████████████████████████████████████████████████████████████████████████████████████████████| 8/8 [00:00<00:00, 10.09it/s]\n",
      "Epoch 584: loss 0.460615 0.8633: 100%|███████████████████████████████████████████████████████████████████████████████████████████████████████████████████████████████████████████████| 8/8 [00:00<00:00,  9.22it/s]\n",
      "Epoch 585: loss 0.451343 0.8668: 100%|███████████████████████████████████████████████████████████████████████████████████████████████████████████████████████████████████████████████| 8/8 [00:00<00:00, 11.42it/s]\n",
      "Epoch 586: loss 0.456574 0.8632: 100%|███████████████████████████████████████████████████████████████████████████████████████████████████████████████████████████████████████████████| 8/8 [00:00<00:00, 13.15it/s]\n",
      "Epoch 587: loss 0.446871 0.8677: 100%|███████████████████████████████████████████████████████████████████████████████████████████████████████████████████████████████████████████████| 8/8 [00:00<00:00, 13.32it/s]\n",
      "Epoch 588: loss 0.450357 0.8660: 100%|███████████████████████████████████████████████████████████████████████████████████████████████████████████████████████████████████████████████| 8/8 [00:00<00:00,  9.77it/s]\n",
      "Epoch 589: loss 0.449028 0.8658: 100%|███████████████████████████████████████████████████████████████████████████████████████████████████████████████████████████████████████████████| 8/8 [00:00<00:00, 11.99it/s]\n",
      "Epoch 590: loss 0.456293 0.8642:  38%|█████████████████████████████████████████████████████▋                                                                                         | 3/8 [00:00<00:01,  4.35it/s]\n",
      "  0%|                                                                                                                                                                                        | 0/2 [00:00<?, ?it/s]\u001b[A\n",
      "Valid 590: loss 0.596779 0.7981:   0%|                                                                                                                                                       | 0/2 [00:00<?, ?it/s]\u001b[A\n",
      "Valid 590: loss 0.596779 0.7981:  50%|███████████████████████████████████████████████████████████████████████▌                                                                       | 1/2 [00:00<00:00,  2.49it/s]\u001b[A\n",
      "Valid 590: loss 0.592326 0.7960: 100%|███████████████████████████████████████████████████████████████████████████████████████████████████████████████████████████████████████████████| 2/2 [00:00<00:00,  4.25it/s]\u001b[A\n",
      "Epoch 590: loss 0.456293 0.8642: 100%|███████████████████████████████████████████████████████████████████████████████████████████████████████████████████████████████████████████████| 8/8 [00:01<00:00,  6.10it/s]\n"
     ]
    },
    {
     "name": "stdout",
     "output_type": "stream",
     "text": [
      "EarlyStopping counter: 38 out of 100\n"
     ]
    },
    {
     "name": "stderr",
     "output_type": "stream",
     "text": [
      "Epoch 591: loss 0.460991 0.8630: 100%|███████████████████████████████████████████████████████████████████████████████████████████████████████████████████████████████████████████████| 8/8 [00:00<00:00,  9.96it/s]\n",
      "Epoch 592: loss 0.479611 0.8602: 100%|███████████████████████████████████████████████████████████████████████████████████████████████████████████████████████████████████████████████| 8/8 [00:00<00:00, 12.93it/s]\n",
      "Epoch 593: loss 0.470007 0.8612: 100%|███████████████████████████████████████████████████████████████████████████████████████████████████████████████████████████████████████████████| 8/8 [00:00<00:00, 12.18it/s]\n",
      "Epoch 594: loss 0.470000 0.8645: 100%|███████████████████████████████████████████████████████████████████████████████████████████████████████████████████████████████████████████████| 8/8 [00:00<00:00, 12.18it/s]\n",
      "Epoch 595: loss 0.463768 0.8647: 100%|███████████████████████████████████████████████████████████████████████████████████████████████████████████████████████████████████████████████| 8/8 [00:00<00:00, 11.15it/s]\n",
      "Epoch 596: loss 0.453895 0.8663: 100%|███████████████████████████████████████████████████████████████████████████████████████████████████████████████████████████████████████████████| 8/8 [00:00<00:00, 12.46it/s]\n",
      "Epoch 597: loss 0.451467 0.8657: 100%|███████████████████████████████████████████████████████████████████████████████████████████████████████████████████████████████████████████████| 8/8 [00:00<00:00, 10.17it/s]\n",
      "  0%|                                                                                                                                                                                        | 0/8 [00:00<?, ?it/s]"
     ]
    }
   ],
   "source": [
    "trainer.fit()"
   ]
  },
  {
   "cell_type": "code",
   "execution_count": null,
   "id": "b7c88774",
   "metadata": {},
   "outputs": [],
   "source": []
  },
  {
   "cell_type": "code",
   "execution_count": null,
   "id": "0f971829",
   "metadata": {},
   "outputs": [],
   "source": []
  }
 ],
 "metadata": {
  "kernelspec": {
   "display_name": "Python 3 (ipykernel)",
   "language": "python",
   "name": "python3"
  },
  "language_info": {
   "codemirror_mode": {
    "name": "ipython",
    "version": 3
   },
   "file_extension": ".py",
   "mimetype": "text/x-python",
   "name": "python",
   "nbconvert_exporter": "python",
   "pygments_lexer": "ipython3",
   "version": "3.8.3"
  }
 },
 "nbformat": 4,
 "nbformat_minor": 5
}
