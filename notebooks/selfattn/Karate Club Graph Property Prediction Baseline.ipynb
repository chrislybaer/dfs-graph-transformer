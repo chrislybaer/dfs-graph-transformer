{
 "cells": [
  {
   "cell_type": "code",
   "execution_count": 3,
   "id": "4f001349",
   "metadata": {},
   "outputs": [
    {
     "name": "stdout",
     "output_type": "stream",
     "text": [
      "The autoreload extension is already loaded. To reload it, use:\n",
      "  %reload_ext autoreload\n"
     ]
    }
   ],
   "source": [
    "%load_ext autoreload\n",
    "%autoreload 2"
   ]
  },
  {
   "cell_type": "code",
   "execution_count": 4,
   "id": "96dfaad5",
   "metadata": {},
   "outputs": [],
   "source": [
    "import json\n",
    "import numpy as np\n",
    "from torch.utils.data import Dataset, DataLoader\n",
    "import glob\n",
    "import wandb\n",
    "import os\n",
    "import torch.optim as optimizers\n",
    "import pandas as pd\n",
    "from copy import deepcopy\n",
    "from ml_collections import ConfigDict \n",
    "import tqdm\n",
    "import torch.nn.functional as F\n",
    "import torch\n",
    "import torch.nn as nn\n",
    "from collections import defaultdict\n",
    "import yaml\n",
    "from sklearn.metrics import roc_auc_score\n",
    "import numpy as np\n",
    "\n",
    "import sys\n",
    "sys.path.append(\"../../src\")\n",
    "import dfs_code \n",
    "from dfs_transformer import collate_downstream, DFSCodeSeq2SeqFC, Trainer\n",
    "torch.multiprocessing.set_sharing_strategy('file_system')\n"
   ]
  },
  {
   "cell_type": "code",
   "execution_count": 5,
   "id": "1ed17efc",
   "metadata": {},
   "outputs": [],
   "source": [
    "graph_file = \"../../datasets/karateclub/reddit_threads/reddit_edges.json\"\n",
    "label_file = \"../../datasets/karateclub/reddit_threads/reddit_target.csv\"\n",
    "batch_size = 1000"
   ]
  },
  {
   "cell_type": "code",
   "execution_count": 6,
   "id": "d0fb23f3",
   "metadata": {},
   "outputs": [],
   "source": [
    "with open(graph_file, 'r') as f:\n",
    "    graph_dict = json.load(f)\n",
    "label_df = pd.read_csv(label_file)"
   ]
  },
  {
   "cell_type": "code",
   "execution_count": 7,
   "id": "6fabc13e",
   "metadata": {},
   "outputs": [
    {
     "data": {
      "text/html": [
       "<div>\n",
       "<style scoped>\n",
       "    .dataframe tbody tr th:only-of-type {\n",
       "        vertical-align: middle;\n",
       "    }\n",
       "\n",
       "    .dataframe tbody tr th {\n",
       "        vertical-align: top;\n",
       "    }\n",
       "\n",
       "    .dataframe thead th {\n",
       "        text-align: right;\n",
       "    }\n",
       "</style>\n",
       "<table border=\"1\" class=\"dataframe\">\n",
       "  <thead>\n",
       "    <tr style=\"text-align: right;\">\n",
       "      <th></th>\n",
       "      <th>id</th>\n",
       "      <th>target</th>\n",
       "    </tr>\n",
       "  </thead>\n",
       "  <tbody>\n",
       "    <tr>\n",
       "      <th>0</th>\n",
       "      <td>0</td>\n",
       "      <td>0</td>\n",
       "    </tr>\n",
       "    <tr>\n",
       "      <th>1</th>\n",
       "      <td>1</td>\n",
       "      <td>1</td>\n",
       "    </tr>\n",
       "    <tr>\n",
       "      <th>2</th>\n",
       "      <td>2</td>\n",
       "      <td>0</td>\n",
       "    </tr>\n",
       "    <tr>\n",
       "      <th>3</th>\n",
       "      <td>3</td>\n",
       "      <td>1</td>\n",
       "    </tr>\n",
       "    <tr>\n",
       "      <th>4</th>\n",
       "      <td>4</td>\n",
       "      <td>0</td>\n",
       "    </tr>\n",
       "  </tbody>\n",
       "</table>\n",
       "</div>"
      ],
      "text/plain": [
       "   id  target\n",
       "0   0       0\n",
       "1   1       1\n",
       "2   2       0\n",
       "3   3       1\n",
       "4   4       0"
      ]
     },
     "execution_count": 7,
     "metadata": {},
     "output_type": "execute_result"
    }
   ],
   "source": [
    "label_df.head()"
   ]
  },
  {
   "cell_type": "code",
   "execution_count": 8,
   "id": "e679d677",
   "metadata": {},
   "outputs": [
    {
     "data": {
      "text/plain": [
       "0.5124133380603483"
      ]
     },
     "execution_count": 8,
     "metadata": {},
     "output_type": "execute_result"
    }
   ],
   "source": [
    "label_df['target'].sum()/len(label_df)"
   ]
  },
  {
   "cell_type": "code",
   "execution_count": 9,
   "id": "ece9b3d2",
   "metadata": {},
   "outputs": [
    {
     "data": {
      "image/png": "[encoded data removed]",
      "text/plain": [
       "<Figure size 432x288 with 1 Axes>"
      ]
     },
     "metadata": {
      "needs_background": "light"
     },
     "output_type": "display_data"
    }
   ],
   "source": [
    "from matplotlib import pyplot as plt\n",
    "n_edges = [len(graph) for graph in graph_dict.values()]\n",
    "plt.hist(n_edges, bins='rice')\n",
    "plt.show()"
   ]
  },
  {
   "cell_type": "code",
   "execution_count": 10,
   "id": "af92f81c",
   "metadata": {},
   "outputs": [],
   "source": [
    "def graph2labelledgraph(graph):\n",
    "    graph = deepcopy(graph)\n",
    "    node_ids = np.unique(graph).tolist()\n",
    "    dummy = max(node_ids) + 1\n",
    "    \n",
    "    edge_labels = len(graph)*[0]\n",
    "    edgeindex = []\n",
    "    for e in graph:\n",
    "        edgeindex += [e]\n",
    "        edgeindex += [[e[1], e[0]]]\n",
    "        edge_labels += [0]\n",
    "    \n",
    "    edgeindex = np.asarray(edgeindex).T\n",
    "    \n",
    "    node_labels = []\n",
    "    for idx in node_ids:\n",
    "        node_labels += [(edgeindex[0] == idx).sum()]\n",
    "    return edgeindex, node_labels, edge_labels"
   ]
  },
  {
   "cell_type": "code",
   "execution_count": 11,
   "id": "63715928",
   "metadata": {},
   "outputs": [],
   "source": [
    "class KarateClubDataset(Dataset):\n",
    "    def __init__(self, graph_file, label_file, max_n = None, max_edges=110):\n",
    "        self.graph_file = graph_file\n",
    "        self.label_file = label_file\n",
    "        with open(graph_file, 'r') as f:\n",
    "            self.graph_dict = json.load(f)\n",
    "        self.label_df = pd.read_csv(label_file)\n",
    "        self.data = []\n",
    "        self.maxn = max_n\n",
    "        self.max_edges = max_edges\n",
    "        self.preprocess()\n",
    "    \n",
    "    def preprocess(self):\n",
    "        maxn = self.maxn\n",
    "        maxdegree = 0\n",
    "        edgeindex_list = []\n",
    "        vlabels_list = []\n",
    "        elabels_list = []\n",
    "        label_list = []\n",
    "        for idx, (graph, label) in tqdm.tqdm(enumerate(zip(self.graph_dict.values(), self.label_df['target']))):  \n",
    "            edgeindex, vlabels, elabels = graph2labelledgraph(graph)\n",
    "            if len(elabels)//2 > self.max_edges:\n",
    "                continue\n",
    "            maxdegree = max(maxdegree, max(vlabels))\n",
    "            edgeindex_list += [edgeindex]\n",
    "            vlabels_list += [vlabels]\n",
    "            elabels_list += [elabels]\n",
    "            label_list += [self.label_df['target'][idx]]\n",
    "            if maxn is not None:\n",
    "                if idx >= maxn:\n",
    "                    break\n",
    "        self.maxdegree = maxdegree\n",
    "        \n",
    "        for idx, (edgeindex, vlabels, elabels, label) in tqdm.tqdm(enumerate(zip(edgeindex_list,\n",
    "                                                                                vlabels_list,\n",
    "                                                                                elabels_list, \n",
    "                                                                                label_list))):  \n",
    "            node_features = F.one_hot(torch.tensor(vlabels), num_classes=maxdegree+1).float()\n",
    "            edge_features = F.one_hot(torch.tensor(elabels), num_classes=2).float()\n",
    "            code, index = dfs_code.rnd_dfs_code_from_edgeindex(edgeindex, vlabels, elabels)\n",
    "            self.data += [ConfigDict({\"node_labels\":torch.tensor(vlabels),\n",
    "                                    \"edge_labels\":torch.tensor(elabels),\n",
    "                                    \"edge_index\":torch.tensor(edgeindex, dtype=torch.long),\n",
    "                                    \"min_dfs_code\":torch.tensor(code),\n",
    "                                    \"min_dfs_index\":torch.tensor(index, dtype=torch.long),\n",
    "                                    \"node_features\":node_features,\n",
    "                                    \"edge_features\":edge_features,\n",
    "                                    \"y\": torch.tensor(label, dtype=torch.float32),\n",
    "                                    \"idx\":idx})]\n",
    "\n",
    "    def __len__(self):\n",
    "        return len(self.data)\n",
    "\n",
    "    def __getitem__(self, idx):\n",
    "        return self.data[idx]\n",
    "        "
   ]
  },
  {
   "cell_type": "code",
   "execution_count": 12,
   "id": "7e0af6f4",
   "metadata": {},
   "outputs": [
    {
     "name": "stderr",
     "output_type": "stream",
     "text": [
      "10000it [00:01, 5222.00it/s]\n",
      "9976it [00:04, 2079.66it/s]\n"
     ]
    }
   ],
   "source": [
    "dataset = KarateClubDataset(graph_file, label_file, max_n=10000)"
   ]
  },
  {
   "cell_type": "code",
   "execution_count": 13,
   "id": "c2e73356",
   "metadata": {},
   "outputs": [],
   "source": [
    "bins = np.arange(56)"
   ]
  },
  {
   "cell_type": "code",
   "execution_count": 14,
   "id": "d10d026b",
   "metadata": {},
   "outputs": [],
   "source": [
    "data = next(iter(dataset))"
   ]
  },
  {
   "cell_type": "code",
   "execution_count": 19,
   "id": "eb1ea321",
   "metadata": {},
   "outputs": [
    {
     "data": {
      "text/plain": [
       "array([0, 8, 2, 0, 0, 0, 0, 0, 1, 0, 0, 0, 0, 0, 0, 0, 0, 0, 0, 0, 0, 0,\n",
       "       0, 0, 0, 0, 0, 0, 0, 0, 0, 0, 0, 0, 0, 0, 0, 0, 0, 0, 0, 0, 0, 0,\n",
       "       0, 0, 0, 0, 0, 0, 0, 0, 0, 0, 0])"
      ]
     },
     "execution_count": 19,
     "metadata": {},
     "output_type": "execute_result"
    }
   ],
   "source": [
    "np.histogram(data['node_labels'], bins=bins)[0]"
   ]
  },
  {
   "cell_type": "code",
   "execution_count": 20,
   "id": "be3b997c",
   "metadata": {},
   "outputs": [],
   "source": [
    "n = len(dataset)\n",
    "n_train = int(0.8*n)\n",
    "n_valid = 0\n",
    "n_test = n - n_train - n_valid\n",
    "\n",
    "perm = np.random.permutation(len(dataset))\n",
    "train_idx = torch.tensor(perm[:n_train], dtype=torch.long)\n",
    "valid_idx = torch.tensor(perm[n_train:n_train+n_valid].tolist(), dtype=torch.long)\n",
    "test_idx = torch.tensor(perm[n_train+n_valid:].tolist(), dtype=torch.long)"
   ]
  },
  {
   "cell_type": "code",
   "execution_count": 21,
   "id": "59ab26fc",
   "metadata": {},
   "outputs": [],
   "source": [
    "ce = nn.BCEWithLogitsLoss() "
   ]
  },
  {
   "cell_type": "code",
   "execution_count": 22,
   "id": "80bd1138",
   "metadata": {},
   "outputs": [],
   "source": [
    "def collate_spectral(dlist, use_min=True):\n",
    "    hists = []\n",
    "    y_batch = []\n",
    "    \n",
    "    for d in dlist:\n",
    "        A = np.zeros(2*[len(d.node_labels)])\n",
    "        for e in d.edge_index.T:\n",
    "            A[e[0], e[1]] = 1\n",
    "        D = np.diag(d.node_labels)\n",
    "        vals, vecs = np.linalg.eigh(D - A)\n",
    "        indices = np.argsort(-np.abs(vals))[:10]\n",
    "        feats = vecs[:, indices].mean(axis=0, keepdims=True)\n",
    "        hists += [torch.tensor(feats, dtype=torch.float32)]\n",
    "        y_batch += [d.y.unsqueeze(0).clone()]\n",
    "        \n",
    "    y = torch.cat(y_batch).unsqueeze(1)\n",
    "    hist = torch.cat(hists, dim=0)\n",
    "\n",
    "    return hist, y\n",
    "\n",
    "def collate_degree_histogram(dlist, use_min=True):\n",
    "    hists = []\n",
    "    y_batch = []\n",
    "    \n",
    "    for d in dlist:\n",
    "        hist_np = np.histogram(d.node_labels.clone().numpy(), bins=bins, density=True)[0][np.newaxis]\n",
    "        hists += [torch.tensor(hist_np, dtype=torch.float32)]\n",
    "        y_batch += [d.y.unsqueeze(0).clone()]\n",
    "        \n",
    "    y = torch.cat(y_batch).unsqueeze(1)\n",
    "    hist = torch.cat(hists, dim=0)\n",
    "\n",
    "    return hist, y"
   ]
  },
  {
   "cell_type": "code",
   "execution_count": 23,
   "id": "88c79ea9",
   "metadata": {},
   "outputs": [],
   "source": [
    "trainloader = DataLoader(dataset, sampler=torch.utils.data.SubsetRandomSampler(train_idx), \n",
    "                         batch_size=batch_size, collate_fn=collate_degree_histogram, num_workers=8)\n",
    "validloader = DataLoader(dataset, sampler=torch.utils.data.SubsetRandomSampler(valid_idx), \n",
    "                         batch_size=batch_size, collate_fn=collate_degree_histogram, num_workers=8)\n",
    "testloader = DataLoader(dataset, sampler=torch.utils.data.SubsetRandomSampler(test_idx), \n",
    "                        batch_size=batch_size, collate_fn=collate_degree_histogram, num_workers=8)"
   ]
  },
  {
   "cell_type": "code",
   "execution_count": 24,
   "id": "df971e39",
   "metadata": {},
   "outputs": [],
   "source": [
    "data = next(iter(trainloader))"
   ]
  },
  {
   "cell_type": "code",
   "execution_count": 25,
   "id": "07c32535",
   "metadata": {},
   "outputs": [
    {
     "data": {
      "text/plain": [
       "tensor([[0.0000, 0.8214, 0.0714,  ..., 0.0000, 0.0000, 0.0000],\n",
       "        [0.0000, 0.9231, 0.0000,  ..., 0.0000, 0.0000, 0.0000],\n",
       "        [0.0000, 0.6774, 0.2258,  ..., 0.0000, 0.0000, 0.0000],\n",
       "        ...,\n",
       "        [0.0000, 0.5500, 0.2000,  ..., 0.0000, 0.0000, 0.0000],\n",
       "        [0.0000, 0.7273, 0.1818,  ..., 0.0000, 0.0000, 0.0000],\n",
       "        [0.0000, 0.6667, 0.2778,  ..., 0.0000, 0.0000, 0.0000]])"
      ]
     },
     "execution_count": 25,
     "metadata": {},
     "output_type": "execute_result"
    }
   ],
   "source": [
    "data[0]"
   ]
  },
  {
   "cell_type": "code",
   "execution_count": 26,
   "id": "ce9ed524",
   "metadata": {},
   "outputs": [],
   "source": [
    "model = nn.Sequential(nn.Linear(data[0].shape[1], 128), \n",
    "                      nn.ReLU(inplace=True), \n",
    "                      nn.Linear(128, 128),\n",
    "                      nn.ReLU(inplace=True),\n",
    "                      nn.Linear(128, 1))"
   ]
  },
  {
   "cell_type": "code",
   "execution_count": 27,
   "id": "9b451e5d",
   "metadata": {},
   "outputs": [
    {
     "data": {
      "text/plain": [
       "torch.Size([1000, 55])"
      ]
     },
     "execution_count": 27,
     "metadata": {},
     "output_type": "execute_result"
    }
   ],
   "source": [
    "data[0].shape"
   ]
  },
  {
   "cell_type": "code",
   "execution_count": 28,
   "id": "2f49cb91",
   "metadata": {},
   "outputs": [],
   "source": [
    "def loss(pred, y, ce=ce):\n",
    "    return ce(pred, y.float())\n",
    "\n",
    "def auc(pred, y):\n",
    "    return roc_auc_score(y.detach().cpu().numpy(), pred[:, 0].detach().cpu().numpy())\n",
    "    "
   ]
  },
  {
   "cell_type": "code",
   "execution_count": 29,
   "id": "3804cc63",
   "metadata": {},
   "outputs": [],
   "source": [
    "trainer = Trainer(model, trainloader, loss, metrics={'auc': auc}, lr=0.003, gpu_id=None, validloader=testloader, es_period=80)"
   ]
  },
  {
   "cell_type": "code",
   "execution_count": null,
   "id": "9817b505",
   "metadata": {},
   "outputs": [
    {
     "name": "stderr",
     "output_type": "stream",
     "text": [
      "Epoch 1: loss 0.686934 0.7286: 100%|█████████████████████████████████████████████████████████████████████████████████████████████████████████████████████████████████████████████████| 8/8 [00:00<00:00,  8.68it/s]\n",
      "Epoch 2: loss 0.665691 0.7423: 100%|█████████████████████████████████████████████████████████████████████████████████████████████████████████████████████████████████████████████████| 8/8 [00:01<00:00,  7.26it/s]\n",
      "Epoch 3: loss 0.627395 0.7471: 100%|█████████████████████████████████████████████████████████████████████████████████████████████████████████████████████████████████████████████████| 8/8 [00:01<00:00,  7.03it/s]\n",
      "Epoch 4: loss 0.596565 0.7510: 100%|█████████████████████████████████████████████████████████████████████████████████████████████████████████████████████████████████████████████████| 8/8 [00:01<00:00,  6.37it/s]\n",
      "  0%|                                                                                                                                                                                        | 0/8 [00:00<?, ?it/s]Process Process-47:\n"
     ]
    }
   ],
   "source": [
    "trainer.fit()"
   ]
  },
  {
   "cell_type": "code",
   "execution_count": null,
   "id": "b7c88774",
   "metadata": {},
   "outputs": [],
   "source": []
  },
  {
   "cell_type": "code",
   "execution_count": null,
   "id": "0f971829",
   "metadata": {},
   "outputs": [],
   "source": []
  }
 ],
 "metadata": {
  "kernelspec": {
   "display_name": "Python 3 (ipykernel)",
   "language": "python",
   "name": "python3"
  },
  "language_info": {
   "codemirror_mode": {
    "name": "ipython",
    "version": 3
   },
   "file_extension": ".py",
   "mimetype": "text/x-python",
   "name": "python",
   "nbconvert_exporter": "python",
   "pygments_lexer": "ipython3",
   "version": "3.9.13"
  }
 },
 "nbformat": 4,
 "nbformat_minor": 5
}
