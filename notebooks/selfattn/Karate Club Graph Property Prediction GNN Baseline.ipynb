{
 "cells": [
  {
   "cell_type": "code",
   "execution_count": 1,
   "id": "4f001349",
   "metadata": {},
   "outputs": [],
   "source": [
    "%load_ext autoreload\n",
    "%autoreload 2"
   ]
  },
  {
   "cell_type": "code",
   "execution_count": 2,
   "id": "96dfaad5",
   "metadata": {},
   "outputs": [
    {
     "name": "stderr",
     "output_type": "stream",
     "text": [
      "WARNING:root:No normalization for BCUT2D_MWHI\n",
      "WARNING:root:No normalization for BCUT2D_MWLOW\n",
      "WARNING:root:No normalization for BCUT2D_CHGHI\n",
      "WARNING:root:No normalization for BCUT2D_CHGLO\n",
      "WARNING:root:No normalization for BCUT2D_LOGPHI\n",
      "WARNING:root:No normalization for BCUT2D_LOGPLOW\n",
      "WARNING:root:No normalization for BCUT2D_MRHI\n",
      "WARNING:root:No normalization for BCUT2D_MRLOW\n",
      "2022-01-31 13:05:53.267892: W tensorflow/stream_executor/platform/default/dso_loader.cc:64] Could not load dynamic library 'libcudart.so.11.0'; dlerror: libcudart.so.11.0: cannot open shared object file: No such file or directory; LD_LIBRARY_PATH: :/opt/cuda/extras/CUPTI/lib64/:/opt/intel/lib:/opt/intel/mkl/lib/intel64:/opt/intel:/opt/ibm/ILOG/CPLEX_Studio1210/cplex/bin/x86-64_linux:/opt/ibm/ILOG/CPLEX_Studio1210/cplex/python/3.7/x86-64_linux:/opt/intel/clck_latest/lib:/opt/intel/daal/lib:/opt/intel/intelpython3/lib:/opt/intel/ipp/lib:/opt/intel/itac_2019/lib:/opt/intel/itac_latest/lib:/opt/intel/mkl/lib:/opt/intel/mkl_/lib:/opt/intel/mpirt/lib:/opt/intel/tbb/lib:/opt/intel/clck/2019.0/lib:/opt/intel/compilers_and_libraries_2019/linux/lib:/opt/intel/compilers_and_libraries/linux/lib:/opt/intel/itac/2019.0.018/lib:/opt/intel/itac_2019/intel64/lib:/opt/intel/itac_latest/intel64/lib:/opt/intel/parallel_studio_xe_2019.0.045/clck_2019/lib:/opt/intel/parallel_studio_xe_2019.0.045/itac_2019/lib:/opt/intel/parallel_studio_xe_2019/clck_2019/lib:/opt/intel/parallel_studio_xe_2019/itac_2019/lib\n",
      "2022-01-31 13:05:53.267914: I tensorflow/stream_executor/cuda/cudart_stub.cc:29] Ignore above cudart dlerror if you do not have a GPU set up on your machine.\n",
      "Using backend: pytorch\n"
     ]
    }
   ],
   "source": [
    "import json\n",
    "import numpy as np\n",
    "import glob\n",
    "import wandb\n",
    "import os\n",
    "import torch.optim as optimizers\n",
    "import pandas as pd\n",
    "from copy import deepcopy\n",
    "from ml_collections import ConfigDict \n",
    "import tqdm\n",
    "import torch.nn.functional as F\n",
    "import torch\n",
    "import torch.nn as nn\n",
    "from collections import defaultdict\n",
    "import yaml\n",
    "from sklearn.metrics import roc_auc_score\n",
    "import networkx as nx\n",
    "\n",
    "import sys\n",
    "sys.path.append(\"../../src\")\n",
    "import dfs_code \n",
    "from dfs_transformer import collate_downstream, DFSCodeSeq2SeqFC, TrainerGNN\n",
    "torch.multiprocessing.set_sharing_strategy('file_system')\n",
    "\n",
    "import torch_geometric.nn as tnn\n",
    "import networkx as nx"
   ]
  },
  {
   "cell_type": "code",
   "execution_count": 3,
   "id": "1ed17efc",
   "metadata": {},
   "outputs": [],
   "source": [
    "config = wandb.config\n",
    "config.graph_file = \"/mnt/ssd/datasets/graphs/reddit_threads/reddit_edges.json\"\n",
    "config.label_file = \"/mnt/ssd/datasets/graphs/reddit_threads/reddit_target.csv\"\n",
    "config.batch_size = 50\n",
    "config.n_epochs = 100\n",
    "config.learning_rate = 0.01\n",
    "config.rep = 1\n",
    "config.max_edges = 50\n",
    "config.n_samples = 10000\n",
    "config.n_channels = 32\n",
    "config.n_layers = 2\n",
    "config.model = \"tnn.models.GCN\"\n",
    "config.readout = \"tnn.global_mean_pool\"\n",
    "config.training = {}"
   ]
  },
  {
   "cell_type": "code",
   "execution_count": 4,
   "id": "1322e40d",
   "metadata": {},
   "outputs": [
    {
     "name": "stderr",
     "output_type": "stream",
     "text": [
      "ERROR:wandb.jupyter:Failed to detect the name of this notebook, you can set it manually with the WANDB_NOTEBOOK_NAME environment variable to enable code saving.\n",
      "\u001b[34m\u001b[1mwandb\u001b[0m: Currently logged in as: \u001b[33mchrisxx\u001b[0m (use `wandb login --relogin` to force relogin)\n",
      "\u001b[34m\u001b[1mwandb\u001b[0m: wandb version 0.12.9 is available!  To upgrade, please run:\n",
      "\u001b[34m\u001b[1mwandb\u001b[0m:  $ pip install wandb --upgrade\n",
      "2022-01-31 13:05:56.283491: W tensorflow/stream_executor/platform/default/dso_loader.cc:64] Could not load dynamic library 'libcudart.so.11.0'; dlerror: libcudart.so.11.0: cannot open shared object file: No such file or directory; LD_LIBRARY_PATH: :/opt/cuda/extras/CUPTI/lib64/:/opt/intel/lib:/opt/intel/mkl/lib/intel64:/opt/intel:/opt/ibm/ILOG/CPLEX_Studio1210/cplex/bin/x86-64_linux:/opt/ibm/ILOG/CPLEX_Studio1210/cplex/python/3.7/x86-64_linux:/opt/intel/clck_latest/lib:/opt/intel/daal/lib:/opt/intel/intelpython3/lib:/opt/intel/ipp/lib:/opt/intel/itac_2019/lib:/opt/intel/itac_latest/lib:/opt/intel/mkl/lib:/opt/intel/mkl_/lib:/opt/intel/mpirt/lib:/opt/intel/tbb/lib:/opt/intel/clck/2019.0/lib:/opt/intel/compilers_and_libraries_2019/linux/lib:/opt/intel/compilers_and_libraries/linux/lib:/opt/intel/itac/2019.0.018/lib:/opt/intel/itac_2019/intel64/lib:/opt/intel/itac_latest/intel64/lib:/opt/intel/parallel_studio_xe_2019.0.045/clck_2019/lib:/opt/intel/parallel_studio_xe_2019.0.045/itac_2019/lib:/opt/intel/parallel_studio_xe_2019/clck_2019/lib:/opt/intel/parallel_studio_xe_2019/itac_2019/lib\n",
      "2022-01-31 13:05:56.283512: I tensorflow/stream_executor/cuda/cudart_stub.cc:29] Ignore above cudart dlerror if you do not have a GPU set up on your machine.\n"
     ]
    },
    {
     "data": {
      "text/html": [
       "\n",
       "                Tracking run with wandb version 0.10.33<br/>\n",
       "                Syncing run <strong style=\"color:#cdcd00\">zesty-snowball-96</strong> to <a href=\"https://wandb.ai\" target=\"_blank\">Weights & Biases</a> <a href=\"https://docs.wandb.com/integrations/jupyter.html\" target=\"_blank\">(Documentation)</a>.<br/>\n",
       "                Project page: <a href=\"https://wandb.ai/dfstransformer/karateclub-reddit-50\" target=\"_blank\">https://wandb.ai/dfstransformer/karateclub-reddit-50</a><br/>\n",
       "                Run page: <a href=\"https://wandb.ai/dfstransformer/karateclub-reddit-50/runs/vmyis6a3\" target=\"_blank\">https://wandb.ai/dfstransformer/karateclub-reddit-50/runs/vmyis6a3</a><br/>\n",
       "                Run data is saved locally in <code>/home/chrisw/Documents/projects/2021/graph-transformer-feature-dataloader/notebooks/selfattn/wandb/run-20220131_130555-vmyis6a3</code><br/><br/>\n",
       "            "
      ],
      "text/plain": [
       "<IPython.core.display.HTML object>"
      ]
     },
     "metadata": {},
     "output_type": "display_data"
    }
   ],
   "source": [
    "run = wandb.init(mode=\"online\", project=\"karateclub-reddit-50\", entity=\"dfstransformer\", \n",
    "                 config=config, job_type=\"evaluation\")"
   ]
  },
  {
   "cell_type": "code",
   "execution_count": 5,
   "id": "d0fb23f3",
   "metadata": {},
   "outputs": [],
   "source": [
    "with open(config.graph_file, 'r') as f:\n",
    "    graph_dict = json.load(f)\n",
    "label_df = pd.read_csv(config.label_file)"
   ]
  },
  {
   "cell_type": "code",
   "execution_count": 6,
   "id": "af92f81c",
   "metadata": {},
   "outputs": [],
   "source": [
    "def graph2labelledgraph(graph, use_dummy=False):\n",
    "    graph = deepcopy(graph)\n",
    "    node_ids = np.unique(graph).tolist()\n",
    "    dummy = max(node_ids) + 1\n",
    "    \n",
    "    edge_labels = len(graph)*[0]\n",
    "    edgeindex = []\n",
    "    for e in graph:\n",
    "        edgeindex += [e]\n",
    "        edgeindex += [[e[1], e[0]]]\n",
    "        edge_labels += [0]\n",
    "    \n",
    "    if use_dummy:\n",
    "        for idx in node_ids:\n",
    "            edgeindex += [[idx, dummy], [dummy, idx]]\n",
    "            edge_labels += [1, 1]\n",
    "        node_ids += [dummy]\n",
    "    \n",
    "    edgeindex = np.asarray(edgeindex).T\n",
    "    \n",
    "    node_labels = []\n",
    "    for idx in node_ids:\n",
    "        node_labels += [(edgeindex[0] == idx).sum()]\n",
    "    return edgeindex, node_labels, edge_labels"
   ]
  },
  {
   "cell_type": "code",
   "execution_count": 7,
   "id": "63715928",
   "metadata": {},
   "outputs": [],
   "source": [
    "from torch_geometric.data import Data, Dataset\n",
    "from torch_geometric.loader import DataLoader\n",
    "\n",
    "class KarateClubDataset(Dataset):\n",
    "    def __init__(self, graph_file, label_file, max_n = None, max_edges=50):\n",
    "        super().__init__()\n",
    "        self.graph_file = graph_file\n",
    "        self.label_file = label_file\n",
    "        with open(graph_file, 'r') as f:\n",
    "            self.graph_dict = json.load(f)\n",
    "        self.label_df = pd.read_csv(label_file)\n",
    "        self.data = []\n",
    "        self.maxn = max_n\n",
    "        self.max_edges = max_edges\n",
    "        self.preprocess()\n",
    "    \n",
    "    def preprocess(self):\n",
    "        maxn = self.maxn\n",
    "        maxdegree = 0\n",
    "        edgeindex_list = []\n",
    "        vlabels_list = []\n",
    "        elabels_list = []\n",
    "        label_list = []\n",
    "        for idx, (graph, label) in tqdm.tqdm(enumerate(zip(self.graph_dict.values(), self.label_df['target']))):  \n",
    "            edgeindex, vlabels, elabels = graph2labelledgraph(graph)\n",
    "            if len(elabels)//2 > self.max_edges:\n",
    "                continue\n",
    "            maxdegree = max(maxdegree, max(vlabels))\n",
    "            edgeindex_list += [edgeindex]\n",
    "            vlabels_list += [vlabels]\n",
    "            elabels_list += [elabels]\n",
    "            label_list += [self.label_df['target'][idx]]\n",
    "            if maxn is not None:\n",
    "                if idx >= maxn:\n",
    "                    break\n",
    "        self.maxdegree = maxdegree\n",
    "        \n",
    "        for idx, (edgeindex, vlabels, elabels, label) in tqdm.tqdm(enumerate(zip(edgeindex_list,\n",
    "                                                                                vlabels_list,\n",
    "                                                                                elabels_list, \n",
    "                                                                                label_list))):\n",
    "            g = nx.Graph()\n",
    "            g.add_edges_from(edgeindex.T.tolist())\n",
    "            clustering_coefs = nx.clustering(g)\n",
    "            clustering_coefs = torch.tensor([clustering_coefs[idx] for idx in range(len(clustering_coefs))])\n",
    "            eccentricity = nx.eccentricity(g)\n",
    "            eccentricity = torch.tensor([eccentricity[idx] for idx in range(len(eccentricity))], dtype=torch.long)\n",
    "            \n",
    "            #centrality_ev = nx.eigenvector_centrality(g, max_iter=1000, tol=1e-4)\n",
    "            #centrality_deg = nx.degree_centrality(g)\n",
    "            #centrality_closeness = nx.closeness_centrality(g)\n",
    "            #centrality_sp = nx.betweenness_centrality(g)\n",
    "            #centrality_subgraph = nx.subgraph_centrality(g)\n",
    "            #centrality = []\n",
    "            #for idx in range(len(centrality_ev)):\n",
    "            #    centrality += [[centrality_ev[idx],\n",
    "            #                    centrality_deg[idx],\n",
    "            #                    centrality_closeness[idx],\n",
    "            #                    centrality_sp[idx],\n",
    "            #                    centrality_subgraph[idx]]]\n",
    "            deg_feats = F.one_hot(torch.tensor(vlabels), num_classes=maxdegree+1).float()\n",
    "            ecc_feats = F.one_hot(eccentricity, num_classes=self.max_edges).float()\n",
    "            clust_feats = clustering_coefs.unsqueeze(1)\n",
    "            node_features = torch.cat((deg_feats, ecc_feats, clust_feats), dim=1)\n",
    "            edge_features = F.one_hot(torch.tensor(elabels), num_classes=2).float()\n",
    "            self.data += [Data(**{\"edge_index\": torch.tensor(edgeindex, dtype=torch.long),\n",
    "                                \"x\": node_features, #torch.tensor(centrality),\n",
    "                                \"centrality_deg\": node_features,\n",
    "                                \"y\": torch.tensor(label, dtype=torch.long),\n",
    "                                \"num_nodes\": len(node_features)})]\n",
    "                                #\"centrality_ev\": torch.tensor([centrality_ev[idx] for idx in range(len(centrality_ev))])})]\n",
    "\n",
    "    def len(self):\n",
    "        return len(self.data)\n",
    "\n",
    "    def get(self, idx):\n",
    "        return self.data[idx]\n",
    "        "
   ]
  },
  {
   "cell_type": "code",
   "execution_count": 8,
   "id": "7e0af6f4",
   "metadata": {},
   "outputs": [
    {
     "name": "stderr",
     "output_type": "stream",
     "text": [
      "10000it [00:01, 5152.70it/s]\n",
      "9042it [00:05, 1643.34it/s]\n"
     ]
    }
   ],
   "source": [
    "dataset = KarateClubDataset(config.graph_file, config.label_file, max_n=config.n_samples, max_edges=config.max_edges)"
   ]
  },
  {
   "cell_type": "code",
   "execution_count": 9,
   "id": "c2dce7e3",
   "metadata": {},
   "outputs": [],
   "source": [
    "dim_input = dataset[0].x.shape[1]"
   ]
  },
  {
   "cell_type": "code",
   "execution_count": 10,
   "id": "a8e4ecfe",
   "metadata": {},
   "outputs": [],
   "source": [
    "from einops import rearrange\n",
    "model = tnn.Sequential('x, edge_index, batch', [\n",
    "    (eval(config.model)(dim_input, config.n_channels, config.n_layers), 'x, edge_index -> x'),\n",
    "    (eval(config.readout), 'x, batch -> x'),\n",
    "    (nn.Linear(config.n_channels, 2),'x -> x')\n",
    "])"
   ]
  },
  {
   "cell_type": "code",
   "execution_count": 11,
   "id": "be3b997c",
   "metadata": {},
   "outputs": [],
   "source": [
    "n = len(dataset)\n",
    "n_train = int(0.8*n)\n",
    "n_valid = 0\n",
    "n_test = n - n_train - n_valid\n",
    "\n",
    "perm = np.random.permutation(len(dataset))\n",
    "train_idx = torch.tensor(perm[:n_train], dtype=torch.long)\n",
    "valid_idx = torch.tensor(perm[n_train:n_train+n_valid].tolist(), dtype=torch.long)\n",
    "test_idx = torch.tensor(perm[n_train+n_valid:].tolist(), dtype=torch.long)"
   ]
  },
  {
   "cell_type": "code",
   "execution_count": 12,
   "id": "59ab26fc",
   "metadata": {},
   "outputs": [],
   "source": [
    "ce = nn.CrossEntropyLoss() "
   ]
  },
  {
   "cell_type": "code",
   "execution_count": 13,
   "id": "5de46aa9",
   "metadata": {},
   "outputs": [],
   "source": [
    "def collate_fn(data):\n",
    "    return data, data.y"
   ]
  },
  {
   "cell_type": "code",
   "execution_count": 14,
   "id": "f2267a2e",
   "metadata": {},
   "outputs": [],
   "source": [
    "trainloader = DataLoader(dataset, sampler=torch.utils.data.SubsetRandomSampler(train_idx), \n",
    "                         batch_size=config.batch_size, collate_fn=collate_fn, num_workers=8)\n",
    "validloader = DataLoader(dataset, sampler=torch.utils.data.SubsetRandomSampler(valid_idx), \n",
    "                         batch_size=config.batch_size, num_workers=8)\n",
    "testloader = DataLoader(dataset, sampler=torch.utils.data.SubsetRandomSampler(test_idx), \n",
    "                        batch_size=config.batch_size, num_workers=8)"
   ]
  },
  {
   "cell_type": "code",
   "execution_count": 15,
   "id": "dc05e0c0",
   "metadata": {},
   "outputs": [],
   "source": [
    "def loss(pred, y, ce=ce):\n",
    "    return ce(pred, y.squeeze())\n",
    "\n",
    "def auc(pred, y):\n",
    "    return roc_auc_score(y.detach().cpu().numpy(), np.argmax(pred.detach().cpu().numpy(), axis=1))\n",
    "    #return roc_auc_score(y.detach().cpu().numpy(), pred[:, 1].detach().cpu().numpy())\n",
    "    "
   ]
  },
  {
   "cell_type": "code",
   "execution_count": 16,
   "id": "b1ca24f6",
   "metadata": {},
   "outputs": [],
   "source": [
    "trainer = TrainerGNN(model, trainloader, loss, metrics={'auc': auc}, n_epochs=config.n_epochs, lr=config.learning_rate, validloader=testloader, \n",
    "                  es_period=n_train//config.batch_size, lr_adjustment_period=10*n_train//config.batch_size//4, wandb_run=run,\n",
    "                  clip_gradient_norm=None, lr_patience=5, es_patience=20)"
   ]
  },
  {
   "cell_type": "code",
   "execution_count": 17,
   "id": "e7a39cd9",
   "metadata": {},
   "outputs": [],
   "source": [
    "data = next(iter(trainloader))"
   ]
  },
  {
   "cell_type": "code",
   "execution_count": 18,
   "id": "09858d78",
   "metadata": {},
   "outputs": [
    {
     "data": {
      "text/plain": [
       "tensor([[0.0000, 0.0000, 0.0000,  ..., 0.0000, 0.0000, 0.0278],\n",
       "        [0.0000, 0.0000, 0.0000,  ..., 0.0000, 0.0000, 0.1667],\n",
       "        [0.0000, 1.0000, 0.0000,  ..., 0.0000, 0.0000, 0.0000],\n",
       "        ...,\n",
       "        [0.0000, 1.0000, 0.0000,  ..., 0.0000, 0.0000, 0.0000],\n",
       "        [0.0000, 0.0000, 0.0000,  ..., 0.0000, 0.0000, 0.0000],\n",
       "        [0.0000, 1.0000, 0.0000,  ..., 0.0000, 0.0000, 0.0000]])"
      ]
     },
     "execution_count": 18,
     "metadata": {},
     "output_type": "execute_result"
    }
   ],
   "source": [
    "data.x"
   ]
  },
  {
   "cell_type": "code",
   "execution_count": 19,
   "id": "d5796bd3",
   "metadata": {},
   "outputs": [
    {
     "name": "stderr",
     "output_type": "stream",
     "text": [
      "Epoch 1: loss 0.539600 0.7326:  94%|████████████████████████████████████████████████████████████████████████████████████████████████████████████████████████████████████▏        | 136/145 [00:02<00:00, 66.22it/s]\n",
      "  0%|                                                                                                                                                                                       | 0/37 [00:00<?, ?it/s]\u001b[A\n",
      "Valid 1: loss 0.550474 0.7417:   0%|                                                                                                                                                        | 0/37 [00:00<?, ?it/s]\u001b[A\n",
      "Valid 1: loss 0.550474 0.7417:   3%|███▉                                                                                                                                            | 1/37 [00:00<00:22,  1.62it/s]\u001b[A\n",
      "Valid 1: loss 0.524057 0.7865:   3%|███▉                                                                                                                                            | 1/37 [00:00<00:22,  1.62it/s]\u001b[A\n",
      "Valid 1: loss 0.509535 0.7802:   3%|███▉                                                                                                                                            | 1/37 [00:00<00:22,  1.62it/s]\u001b[A\n",
      "Valid 1: loss 0.546988 0.6607:   3%|███▉                                                                                                                                            | 1/37 [00:00<00:22,  1.62it/s]\u001b[A\n",
      "Valid 1: loss 0.529157 0.7453:   3%|███▉                                                                                                                                            | 1/37 [00:00<00:22,  1.62it/s]\u001b[A\n",
      "Valid 1: loss 0.525750 0.7708:   3%|███▉                                                                                                                                            | 1/37 [00:00<00:22,  1.62it/s]\u001b[A\n",
      "Valid 1: loss 0.527604 0.7532:   3%|███▉                                                                                                                                            | 1/37 [00:00<00:22,  1.62it/s]\u001b[A\n",
      "Valid 1: loss 0.514127 0.8101:   3%|███▉                                                                                                                                            | 1/37 [00:00<00:22,  1.62it/s]\u001b[A\n",
      "Valid 1: loss 0.491875 0.9348:   3%|███▉                                                                                                                                            | 1/37 [00:00<00:22,  1.62it/s]\u001b[A\n",
      "Valid 1: loss 0.510098 0.6400:   3%|███▉                                                                                                                                            | 1/37 [00:00<00:22,  1.62it/s]\u001b[A\n",
      "Valid 1: loss 0.510098 0.6400:  27%|██████████████████████████████████████▋                                                                                                        | 10/37 [00:00<00:01, 17.91it/s]\u001b[A\n",
      "Valid 1: loss 0.503679 0.7882:  27%|██████████████████████████████████████▋                                                                                                        | 10/37 [00:00<00:01, 17.91it/s]\u001b[A\n",
      "Valid 1: loss 0.516199 0.7159:  27%|██████████████████████████████████████▋                                                                                                        | 10/37 [00:00<00:01, 17.91it/s]\u001b[A\n",
      "Valid 1: loss 0.523503 0.7524:  27%|██████████████████████████████████████▋                                                                                                        | 10/37 [00:00<00:01, 17.91it/s]\u001b[A\n",
      "Valid 1: loss 0.520614 0.7770:  27%|██████████████████████████████████████▋                                                                                                        | 10/37 [00:00<00:01, 17.91it/s]\u001b[A\n",
      "Valid 1: loss 0.516711 0.7667:  27%|██████████████████████████████████████▋                                                                                                        | 10/37 [00:00<00:01, 17.91it/s]\u001b[A\n",
      "Valid 1: loss 0.513976 0.7333:  27%|██████████████████████████████████████▋                                                                                                        | 10/37 [00:00<00:01, 17.91it/s]\u001b[A\n",
      "Valid 1: loss 0.511652 0.7603:  27%|██████████████████████████████████████▋                                                                                                        | 10/37 [00:00<00:01, 17.91it/s]\u001b[A\n",
      "Valid 1: loss 0.512310 0.7051:  27%|██████████████████████████████████████▋                                                                                                        | 10/37 [00:00<00:01, 17.91it/s]\u001b[A\n",
      "Valid 1: loss 0.512310 0.7051:  49%|█████████████████████████████████████████████████████████████████████▌                                                                         | 18/37 [00:00<00:00, 30.28it/s]\u001b[A\n",
      "Valid 1: loss 0.516239 0.7756:  49%|█████████████████████████████████████████████████████████████████████▌                                                                         | 18/37 [00:00<00:00, 30.28it/s]\u001b[A\n",
      "Valid 1: loss 0.513797 0.7825:  49%|█████████████████████████████████████████████████████████████████████▌                                                                         | 18/37 [00:00<00:00, 30.28it/s]\u001b[A\n",
      "Valid 1: loss 0.512370 0.7821:  49%|█████████████████████████████████████████████████████████████████████▌                                                                         | 18/37 [00:00<00:00, 30.28it/s]\u001b[A\n",
      "Valid 1: loss 0.511914 0.7600:  49%|█████████████████████████████████████████████████████████████████████▌                                                                         | 18/37 [00:00<00:00, 30.28it/s]\u001b[A\n",
      "Valid 1: loss 0.515437 0.6872:  49%|█████████████████████████████████████████████████████████████████████▌                                                                         | 18/37 [00:00<00:00, 30.28it/s]\u001b[A\n",
      "Valid 1: loss 0.516994 0.7695:  49%|█████████████████████████████████████████████████████████████████████▌                                                                         | 18/37 [00:00<00:00, 30.28it/s]\u001b[A\n",
      "Valid 1: loss 0.523005 0.6526:  49%|█████████████████████████████████████████████████████████████████████▌                                                                         | 18/37 [00:00<00:00, 30.28it/s]\u001b[A\n",
      "Valid 1: loss 0.523005 0.6526:  68%|████████████████████████████████████████████████████████████████████████████████████████████████▌                                              | 25/37 [00:00<00:00, 39.24it/s]\u001b[A\n",
      "Valid 1: loss 0.522811 0.7471:  68%|████████████████████████████████████████████████████████████████████████████████████████████████▌                                              | 25/37 [00:00<00:00, 39.24it/s]\u001b[A\n",
      "Valid 1: loss 0.524905 0.7388:  68%|████████████████████████████████████████████████████████████████████████████████████████████████▌                                              | 25/37 [00:00<00:00, 39.24it/s]\u001b[A\n",
      "Valid 1: loss 0.525201 0.7299:  68%|████████████████████████████████████████████████████████████████████████████████████████████████▌                                              | 25/37 [00:00<00:00, 39.24it/s]\u001b[A\n",
      "Valid 1: loss 0.522364 0.7617:  68%|████████████████████████████████████████████████████████████████████████████████████████████████▌                                              | 25/37 [00:00<00:00, 39.24it/s]\u001b[A\n",
      "Valid 1: loss 0.522040 0.7061:  68%|████████████████████████████████████████████████████████████████████████████████████████████████▌                                              | 25/37 [00:00<00:00, 39.24it/s]\u001b[A\n",
      "Valid 1: loss 0.523979 0.7013:  68%|████████████████████████████████████████████████████████████████████████████████████████████████▌                                              | 25/37 [00:00<00:00, 39.24it/s]\u001b[A\n",
      "Valid 1: loss 0.521077 0.8039:  68%|████████████████████████████████████████████████████████████████████████████████████████████████▌                                              | 25/37 [00:00<00:00, 39.24it/s]\u001b[A\n"
     ]
    },
    {
     "name": "stderr",
     "output_type": "stream",
     "text": [
      "Valid 1: loss 0.518653 0.8186:  68%|████████████████████████████████████████████████████████████████████████████████████████████████▌                                              | 25/37 [00:00<00:00, 39.24it/s]\u001b[A\n",
      "Valid 1: loss 0.518063 0.7834:  68%|████████████████████████████████████████████████████████████████████████████████████████████████▌                                              | 25/37 [00:01<00:00, 39.24it/s]\u001b[A\n",
      "Valid 1: loss 0.515902 0.7865:  68%|████████████████████████████████████████████████████████████████████████████████████████████████▌                                              | 25/37 [00:01<00:00, 39.24it/s]\u001b[A\n",
      "Valid 1: loss 0.512798 0.7873:  68%|████████████████████████████████████████████████████████████████████████████████████████████████▌                                              | 25/37 [00:01<00:00, 39.24it/s]\u001b[A\n",
      "Valid 1: loss 0.519502 0.5000: 100%|███████████████████████████████████████████████████████████████████████████████████████████████████████████████████████████████████████████████| 37/37 [00:01<00:00, 32.13it/s]\u001b[A\n",
      "Epoch 1: loss 0.539593 0.7329: 100%|█████████████████████████████████████████████████████████████████████████████████████████████████████████████████████████████████████████████| 145/145 [00:03<00:00, 37.09it/s]\n",
      "Epoch 2: loss 0.520125 0.7430:  93%|███████████████████████████████████████████████████████████████████████████████████████████████████████████████████████████████████▎         | 135/145 [00:02<00:00, 74.56it/s]\n",
      "  0%|                                                                                                                                                                                       | 0/37 [00:00<?, ?it/s]\u001b[A\n",
      "Valid 2: loss 0.463149 0.8101:   0%|                                                                                                                                                        | 0/37 [00:00<?, ?it/s]\u001b[A\n",
      "Valid 2: loss 0.463149 0.8101:   3%|███▉                                                                                                                                            | 1/37 [00:00<00:20,  1.72it/s]\u001b[A\n",
      "Valid 2: loss 0.453434 0.7955:   3%|███▉                                                                                                                                            | 1/37 [00:00<00:20,  1.72it/s]\u001b[A\n",
      "Valid 2: loss 0.454335 0.7744:   3%|███▉                                                                                                                                            | 1/37 [00:00<00:20,  1.72it/s]\u001b[A\n",
      "Valid 2: loss 0.475883 0.7150:   3%|███▉                                                                                                                                            | 1/37 [00:00<00:20,  1.72it/s]\u001b[A\n",
      "Valid 2: loss 0.459313 0.8299:   3%|███▉                                                                                                                                            | 1/37 [00:00<00:20,  1.72it/s]\u001b[A\n",
      "Valid 2: loss 0.461536 0.7800:   3%|███▉                                                                                                                                            | 1/37 [00:00<00:20,  1.72it/s]\u001b[A\n",
      "Valid 2: loss 0.499639 0.6442:   3%|███▉                                                                                                                                            | 1/37 [00:00<00:20,  1.72it/s]\u001b[A\n",
      "Valid 2: loss 0.500509 0.7740:   3%|███▉                                                                                                                                            | 1/37 [00:00<00:20,  1.72it/s]\u001b[A\n",
      "Valid 2: loss 0.509582 0.6800:   3%|███▉                                                                                                                                            | 1/37 [00:00<00:20,  1.72it/s]\u001b[A\n",
      "Valid 2: loss 0.519733 0.6962:   3%|███▉                                                                                                                                            | 1/37 [00:00<00:20,  1.72it/s]\u001b[A\n",
      "Valid 2: loss 0.519733 0.6962:  27%|██████████████████████████████████████▋                                                                                                        | 10/37 [00:00<00:01, 19.11it/s]\u001b[A\n",
      "Valid 2: loss 0.521896 0.7740:  27%|██████████████████████████████████████▋                                                                                                        | 10/37 [00:00<00:01, 19.11it/s]\u001b[A\n",
      "Valid 2: loss 0.516093 0.8172:  27%|██████████████████████████████████████▋                                                                                                        | 10/37 [00:00<00:01, 19.11it/s]\u001b[A\n",
      "Valid 2: loss 0.515345 0.7400:  27%|██████████████████████████████████████▋                                                                                                        | 10/37 [00:00<00:01, 19.11it/s]\u001b[A\n",
      "Valid 2: loss 0.522522 0.6955:  27%|██████████████████████████████████████▋                                                                                                        | 10/37 [00:00<00:01, 19.11it/s]\u001b[A\n",
      "Valid 2: loss 0.523120 0.6927:  27%|██████████████████████████████████████▋                                                                                                        | 10/37 [00:00<00:01, 19.11it/s]\u001b[A\n",
      "Valid 2: loss 0.521571 0.7600:  27%|██████████████████████████████████████▋                                                                                                        | 10/37 [00:00<00:01, 19.11it/s]\u001b[A\n",
      "Valid 2: loss 0.517738 0.7899:  27%|██████████████████████████████████████▋                                                                                                        | 10/37 [00:00<00:01, 19.11it/s]\u001b[A\n",
      "Valid 2: loss 0.517738 0.7899:  46%|█████████████████████████████████████████████████████████████████▋                                                                             | 17/37 [00:00<00:00, 30.17it/s]\u001b[A\n",
      "Valid 2: loss 0.516756 0.7951:  46%|█████████████████████████████████████████████████████████████████▋                                                                             | 17/37 [00:00<00:00, 30.17it/s]\u001b[A\n",
      "Valid 2: loss 0.515648 0.7667:  46%|█████████████████████████████████████████████████████████████████▋                                                                             | 17/37 [00:00<00:00, 30.17it/s]\u001b[A\n",
      "Valid 2: loss 0.516529 0.7578:  46%|█████████████████████████████████████████████████████████████████▋                                                                             | 17/37 [00:00<00:00, 30.17it/s]\u001b[A\n",
      "Valid 2: loss 0.512669 0.8172:  46%|█████████████████████████████████████████████████████████████████▋                                                                             | 17/37 [00:00<00:00, 30.17it/s]\u001b[A\n",
      "Valid 2: loss 0.510832 0.7818:  46%|█████████████████████████████████████████████████████████████████▋                                                                             | 17/37 [00:00<00:00, 30.17it/s]\u001b[A\n",
      "Valid 2: loss 0.509107 0.6756:  46%|█████████████████████████████████████████████████████████████████▋                                                                             | 17/37 [00:00<00:00, 30.17it/s]\u001b[A\n",
      "Valid 2: loss 0.508914 0.7126:  46%|█████████████████████████████████████████████████████████████████▋                                                                             | 17/37 [00:00<00:00, 30.17it/s]\u001b[A\n",
      "Valid 2: loss 0.508914 0.7126:  65%|████████████████████████████████████████████████████████████████████████████████████████████▊                                                  | 24/37 [00:00<00:00, 37.17it/s]\u001b[A\n",
      "Valid 2: loss 0.518098 0.6200:  65%|████████████████████████████████████████████████████████████████████████████████████████████▊                                                  | 24/37 [00:00<00:00, 37.17it/s]\u001b[A\n",
      "Valid 2: loss 0.516337 0.7776:  65%|████████████████████████████████████████████████████████████████████████████████████████████▊                                                  | 24/37 [00:00<00:00, 37.17it/s]\u001b[A\n"
     ]
    },
    {
     "name": "stderr",
     "output_type": "stream",
     "text": [
      "Valid 2: loss 0.513384 0.8157:  65%|████████████████████████████████████████████████████████████████████████████████████████████▊                                                  | 24/37 [00:00<00:00, 37.17it/s]\u001b[A\n",
      "Valid 2: loss 0.516967 0.6757:  65%|████████████████████████████████████████████████████████████████████████████████████████████▊                                                  | 24/37 [00:00<00:00, 37.17it/s]\u001b[A\n",
      "Valid 2: loss 0.516628 0.7674:  65%|████████████████████████████████████████████████████████████████████████████████████████████▊                                                  | 24/37 [00:00<00:00, 37.17it/s]\u001b[A\n",
      "Valid 2: loss 0.518989 0.6684:  65%|████████████████████████████████████████████████████████████████████████████████████████████▊                                                  | 24/37 [00:00<00:00, 37.17it/s]\u001b[A\n",
      "Valid 2: loss 0.515247 0.8571:  65%|████████████████████████████████████████████████████████████████████████████████████████████▊                                                  | 24/37 [00:00<00:00, 37.17it/s]\u001b[A\n",
      "Valid 2: loss 0.511196 0.8792:  65%|████████████████████████████████████████████████████████████████████████████████████████████▊                                                  | 24/37 [00:00<00:00, 37.17it/s]\u001b[A\n",
      "Valid 2: loss 0.508932 0.8701:  65%|████████████████████████████████████████████████████████████████████████████████████████████▊                                                  | 24/37 [00:01<00:00, 37.17it/s]\u001b[A\n",
      "Valid 2: loss 0.509332 0.7400:  65%|████████████████████████████████████████████████████████████████████████████████████████████▊                                                  | 24/37 [00:01<00:00, 37.17it/s]\u001b[A\n",
      "Valid 2: loss 0.509332 0.7400:  92%|███████████████████████████████████████████████████████████████████████████████████████████████████████████████████████████████████▍           | 34/37 [00:01<00:00, 51.72it/s]\u001b[A\n",
      "Valid 2: loss 0.513452 0.6400:  92%|███████████████████████████████████████████████████████████████████████████████████████████████████████████████████████████████████▍           | 34/37 [00:01<00:00, 51.72it/s]\u001b[A\n",
      "Valid 2: loss 0.512939 0.7955:  92%|███████████████████████████████████████████████████████████████████████████████████████████████████████████████████████████████████▍           | 34/37 [00:01<00:00, 51.72it/s]\u001b[A\n",
      "Valid 2: loss 0.504499 1.0000: 100%|███████████████████████████████████████████████████████████████████████████████████████████████████████████████████████████████████████████████| 37/37 [00:01<00:00, 32.23it/s]\u001b[A\n",
      "Epoch 2: loss 0.520326 0.7424: 100%|█████████████████████████████████████████████████████████████████████████████████████████████████████████████████████████████████████████████| 145/145 [00:03<00:00, 36.80it/s]\n",
      "Epoch 3: loss 0.518404 0.7454:  96%|███████████████████████████████████████████████████████████████████████████████████████████████████████████████████████████████████████▏     | 139/145 [00:02<00:00, 70.43it/s]\n",
      "  0%|                                                                                                                                                                                       | 0/37 [00:00<?, ?it/s]\u001b[A\n",
      "Valid 3: loss 0.500098 0.7419:   0%|                                                                                                                                                        | 0/37 [00:00<?, ?it/s]\u001b[A\n",
      "Valid 3: loss 0.500098 0.7419:   3%|███▉                                                                                                                                            | 1/37 [00:00<00:19,  1.85it/s]\u001b[A\n",
      "Valid 3: loss 0.537151 0.7760:   3%|███▉                                                                                                                                            | 1/37 [00:00<00:19,  1.85it/s]\u001b[A\n",
      "Valid 3: loss 0.535129 0.6989:   3%|███▉                                                                                                                                            | 1/37 [00:00<00:19,  1.85it/s]\u001b[A\n",
      "Valid 3: loss 0.560798 0.6833:   3%|███▉                                                                                                                                            | 1/37 [00:00<00:19,  1.85it/s]\u001b[A\n",
      "Valid 3: loss 0.555597 0.7299:   3%|███▉                                                                                                                                            | 1/37 [00:00<00:19,  1.85it/s]\u001b[A\n",
      "Valid 3: loss 0.554843 0.7088:   3%|███▉                                                                                                                                            | 1/37 [00:00<00:19,  1.85it/s]\u001b[A\n",
      "Valid 3: loss 0.547361 0.7520:   3%|███▉                                                                                                                                            | 1/37 [00:00<00:19,  1.85it/s]\u001b[A\n",
      "Valid 3: loss 0.532529 0.7835:   3%|███▉                                                                                                                                            | 1/37 [00:00<00:19,  1.85it/s]\u001b[A\n",
      "Valid 3: loss 0.524778 0.7250:   3%|███▉                                                                                                                                            | 1/37 [00:00<00:19,  1.85it/s]\u001b[A\n",
      "Valid 3: loss 0.513293 0.8703:   3%|███▉                                                                                                                                            | 1/37 [00:00<00:19,  1.85it/s]\u001b[A\n",
      "Valid 3: loss 0.510338 0.7738:   3%|███▉                                                                                                                                            | 1/37 [00:00<00:19,  1.85it/s]\u001b[A\n",
      "Valid 3: loss 0.505437 0.8157:   3%|███▉                                                                                                                                            | 1/37 [00:00<00:19,  1.85it/s]\u001b[A\n",
      "Valid 3: loss 0.505437 0.8157:  32%|██████████████████████████████████████████████▍                                                                                                | 12/37 [00:00<00:01, 24.05it/s]\u001b[A\n",
      "Valid 3: loss 0.499073 0.8358:  32%|██████████████████████████████████████████████▍                                                                                                | 12/37 [00:00<00:01, 24.05it/s]\u001b[A\n",
      "Valid 3: loss 0.508377 0.6607:  32%|██████████████████████████████████████████████▍                                                                                                | 12/37 [00:00<00:01, 24.05it/s]\u001b[A\n",
      "Valid 3: loss 0.508319 0.7167:  32%|██████████████████████████████████████████████▍                                                                                                | 12/37 [00:00<00:01, 24.05it/s]\u001b[A\n",
      "Valid 3: loss 0.508009 0.7335:  32%|██████████████████████████████████████████████▍                                                                                                | 12/37 [00:00<00:01, 24.05it/s]\u001b[A\n",
      "Valid 3: loss 0.505907 0.7882:  32%|██████████████████████████████████████████████▍                                                                                                | 12/37 [00:00<00:01, 24.05it/s]\u001b[A\n",
      "Valid 3: loss 0.507490 0.6917:  32%|██████████████████████████████████████████████▍                                                                                                | 12/37 [00:00<00:01, 24.05it/s]\u001b[A\n",
      "Valid 3: loss 0.503050 0.8446:  32%|██████████████████████████████████████████████▍                                                                                                | 12/37 [00:00<00:01, 24.05it/s]\u001b[A\n",
      "Valid 3: loss 0.501143 0.8231:  32%|██████████████████████████████████████████████▍                                                                                                | 12/37 [00:00<00:01, 24.05it/s]\u001b[A\n",
      "Valid 3: loss 0.501358 0.7949:  32%|██████████████████████████████████████████████▍                                                                                                | 12/37 [00:00<00:01, 24.05it/s]\u001b[A\n"
     ]
    },
    {
     "name": "stderr",
     "output_type": "stream",
     "text": [
      "Valid 3: loss 0.499808 0.8052:  32%|██████████████████████████████████████████████▍                                                                                                | 12/37 [00:00<00:01, 24.05it/s]\u001b[A\n",
      "Valid 3: loss 0.499808 0.8052:  59%|█████████████████████████████████████████████████████████████████████████████████████                                                          | 22/37 [00:00<00:00, 40.94it/s]\u001b[A\n",
      "Valid 3: loss 0.501841 0.7150:  59%|█████████████████████████████████████████████████████████████████████████████████████                                                          | 22/37 [00:00<00:00, 40.94it/s]\u001b[A\n",
      "Valid 3: loss 0.499729 0.8429:  59%|█████████████████████████████████████████████████████████████████████████████████████                                                          | 22/37 [00:00<00:00, 40.94it/s]\u001b[A\n",
      "Valid 3: loss 0.502428 0.6747:  59%|█████████████████████████████████████████████████████████████████████████████████████                                                          | 22/37 [00:00<00:00, 40.94it/s]\u001b[A\n",
      "Valid 3: loss 0.504790 0.6995:  59%|█████████████████████████████████████████████████████████████████████████████████████                                                          | 22/37 [00:00<00:00, 40.94it/s]\u001b[A\n",
      "Valid 3: loss 0.510128 0.7035:  59%|█████████████████████████████████████████████████████████████████████████████████████                                                          | 22/37 [00:00<00:00, 40.94it/s]\u001b[A\n",
      "Valid 3: loss 0.511895 0.7190:  59%|█████████████████████████████████████████████████████████████████████████████████████                                                          | 22/37 [00:00<00:00, 40.94it/s]\u001b[A\n",
      "Valid 3: loss 0.512353 0.7131:  59%|█████████████████████████████████████████████████████████████████████████████████████                                                          | 22/37 [00:00<00:00, 40.94it/s]\u001b[A\n",
      "Valid 3: loss 0.514341 0.7029:  59%|█████████████████████████████████████████████████████████████████████████████████████                                                          | 22/37 [00:00<00:00, 40.94it/s]\u001b[A\n",
      "Valid 3: loss 0.514341 0.7029:  81%|███████████████████████████████████████████████████████████████████████████████████████████████████████████████████▉                           | 30/37 [00:00<00:00, 47.63it/s]\u001b[A\n",
      "Valid 3: loss 0.514308 0.7335:  81%|███████████████████████████████████████████████████████████████████████████████████████████████████████████████████▉                           | 30/37 [00:00<00:00, 47.63it/s]\u001b[A\n",
      "Valid 3: loss 0.511282 0.8523:  81%|███████████████████████████████████████████████████████████████████████████████████████████████████████████████████▉                           | 30/37 [00:00<00:00, 47.63it/s]\u001b[A\n",
      "Valid 3: loss 0.510658 0.8000:  81%|███████████████████████████████████████████████████████████████████████████████████████████████████████████████████▉                           | 30/37 [00:00<00:00, 47.63it/s]\u001b[A\n",
      "Valid 3: loss 0.513061 0.5857:  81%|███████████████████████████████████████████████████████████████████████████████████████████████████████████████████▉                           | 30/37 [00:00<00:00, 47.63it/s]\u001b[A\n",
      "Valid 3: loss 0.510369 0.8098:  81%|███████████████████████████████████████████████████████████████████████████████████████████████████████████████████▉                           | 30/37 [00:00<00:00, 47.63it/s]\u001b[A\n",
      "Valid 3: loss 0.510526 0.7564:  81%|███████████████████████████████████████████████████████████████████████████████████████████████████████████████████▉                           | 30/37 [00:00<00:00, 47.63it/s]\u001b[A\n",
      "Valid 3: loss 0.511921 0.5833: 100%|███████████████████████████████████████████████████████████████████████████████████████████████████████████████████████████████████████████████| 37/37 [00:01<00:00, 34.22it/s]\u001b[A\n",
      "Epoch 3: loss 0.518153 0.7454: 100%|█████████████████████████████████████████████████████████████████████████████████████████████████████████████████████████████████████████████| 145/145 [00:03<00:00, 37.34it/s]\n"
     ]
    },
    {
     "name": "stdout",
     "output_type": "stream",
     "text": [
      "EarlyStopping counter: 1 out of 20\n"
     ]
    },
    {
     "name": "stderr",
     "output_type": "stream",
     "text": [
      "Epoch 4: loss 0.516106 0.7526:  92%|██████████████████████████████████████████████████████████████████████████████████████████████████████████████████████████████████▎          | 134/145 [00:02<00:00, 76.57it/s]\n",
      "  0%|                                                                                                                                                                                       | 0/37 [00:00<?, ?it/s]\u001b[A\n",
      "Valid 4: loss 0.613807 0.6400:   0%|                                                                                                                                                        | 0/37 [00:00<?, ?it/s]\u001b[A\n",
      "Valid 4: loss 0.613807 0.6400:   3%|███▉                                                                                                                                            | 1/37 [00:00<00:18,  1.92it/s]\u001b[A\n",
      "Valid 4: loss 0.547177 0.7921:   3%|███▉                                                                                                                                            | 1/37 [00:00<00:18,  1.92it/s]\u001b[A\n",
      "Valid 4: loss 0.546403 0.7143:   3%|███▉                                                                                                                                            | 1/37 [00:00<00:18,  1.92it/s]\u001b[A\n",
      "Valid 4: loss 0.557466 0.6867:   3%|███▉                                                                                                                                            | 1/37 [00:00<00:18,  1.92it/s]\u001b[A\n",
      "Valid 4: loss 0.534709 0.7800:   3%|███▉                                                                                                                                            | 1/37 [00:00<00:18,  1.92it/s]\u001b[A\n",
      "Valid 4: loss 0.533596 0.7308:   3%|███▉                                                                                                                                            | 1/37 [00:00<00:18,  1.92it/s]\u001b[A\n",
      "Valid 4: loss 0.552145 0.6723:   3%|███▉                                                                                                                                            | 1/37 [00:00<00:18,  1.92it/s]\u001b[A\n",
      "Valid 4: loss 0.546850 0.7516:   3%|███▉                                                                                                                                            | 1/37 [00:00<00:18,  1.92it/s]\u001b[A\n",
      "Valid 4: loss 0.541451 0.7808:   3%|███▉                                                                                                                                            | 1/37 [00:00<00:18,  1.92it/s]\u001b[A\n",
      "Valid 4: loss 0.528998 0.8142:   3%|███▉                                                                                                                                            | 1/37 [00:00<00:18,  1.92it/s]\u001b[A\n",
      "Valid 4: loss 0.519472 0.8108:   3%|███▉                                                                                                                                            | 1/37 [00:00<00:18,  1.92it/s]\u001b[A\n",
      "Valid 4: loss 0.519472 0.8108:  30%|██████████████████████████████████████████▌                                                                                                    | 11/37 [00:00<00:01, 22.44it/s]\u001b[A\n",
      "Valid 4: loss 0.522392 0.6762:  30%|██████████████████████████████████████████▌                                                                                                    | 11/37 [00:00<00:01, 22.44it/s]\u001b[A\n",
      "Valid 4: loss 0.523250 0.7340:  30%|██████████████████████████████████████████▌                                                                                                    | 11/37 [00:00<00:01, 22.44it/s]\u001b[A\n",
      "Valid 4: loss 0.515732 0.7937:  30%|██████████████████████████████████████████▌                                                                                                    | 11/37 [00:00<00:01, 22.44it/s]\u001b[A\n",
      "Valid 4: loss 0.510035 0.8061:  30%|██████████████████████████████████████████▌                                                                                                    | 11/37 [00:00<00:01, 22.44it/s]\u001b[A\n",
      "Valid 4: loss 0.512052 0.7309:  30%|██████████████████████████████████████████▌                                                                                                    | 11/37 [00:00<00:01, 22.44it/s]\u001b[A\n",
      "Valid 4: loss 0.508126 0.7800:  30%|██████████████████████████████████████████▌                                                                                                    | 11/37 [00:00<00:01, 22.44it/s]\u001b[A\n",
      "Valid 4: loss 0.509089 0.7200:  30%|██████████████████████████████████████████▌                                                                                                    | 11/37 [00:00<00:01, 22.44it/s]\u001b[A\n",
      "Valid 4: loss 0.509089 0.7200:  49%|█████████████████████████████████████████████████████████████████████▌                                                                         | 18/37 [00:00<00:00, 32.67it/s]\u001b[A\n",
      "Valid 4: loss 0.508044 0.7419:  49%|█████████████████████████████████████████████████████████████████████▌                                                                         | 18/37 [00:00<00:00, 32.67it/s]\u001b[A\n",
      "Valid 4: loss 0.507637 0.7776:  49%|█████████████████████████████████████████████████████████████████████▌                                                                         | 18/37 [00:00<00:00, 32.67it/s]\u001b[A\n",
      "Valid 4: loss 0.512729 0.6640:  49%|█████████████████████████████████████████████████████████████████████▌                                                                         | 18/37 [00:00<00:00, 32.67it/s]\u001b[A\n",
      "Valid 4: loss 0.512635 0.7419:  49%|█████████████████████████████████████████████████████████████████████▌                                                                         | 18/37 [00:00<00:00, 32.67it/s]\u001b[A\n",
      "Valid 4: loss 0.514905 0.7013:  49%|█████████████████████████████████████████████████████████████████████▌                                                                         | 18/37 [00:00<00:00, 32.67it/s]\u001b[A\n",
      "Valid 4: loss 0.516612 0.6681:  49%|█████████████████████████████████████████████████████████████████████▌                                                                         | 18/37 [00:00<00:00, 32.67it/s]\u001b[A\n",
      "Valid 4: loss 0.516612 0.6681:  65%|████████████████████████████████████████████████████████████████████████████████████████████▊                                                  | 24/37 [00:00<00:00, 37.82it/s]\u001b[A\n",
      "Valid 4: loss 0.515648 0.7816:  65%|████████████████████████████████████████████████████████████████████████████████████████████▊                                                  | 24/37 [00:00<00:00, 37.82it/s]\u001b[A\n",
      "Valid 4: loss 0.513089 0.7695:  65%|████████████████████████████████████████████████████████████████████████████████████████████▊                                                  | 24/37 [00:00<00:00, 37.82it/s]\u001b[A\n",
      "Valid 4: loss 0.511528 0.7716:  65%|████████████████████████████████████████████████████████████████████████████████████████████▊                                                  | 24/37 [00:00<00:00, 37.82it/s]\u001b[A\n",
      "Valid 4: loss 0.512947 0.6997:  65%|████████████████████████████████████████████████████████████████████████████████████████████▊                                                  | 24/37 [00:00<00:00, 37.82it/s]\u001b[A\n",
      "Valid 4: loss 0.512489 0.7724:  65%|████████████████████████████████████████████████████████████████████████████████████████████▊                                                  | 24/37 [00:00<00:00, 37.82it/s]\u001b[A\n",
      "Valid 4: loss 0.516498 0.5917:  65%|████████████████████████████████████████████████████████████████████████████████████████████▊                                                  | 24/37 [00:00<00:00, 37.82it/s]\u001b[A\n",
      "Valid 4: loss 0.518132 0.7600:  65%|████████████████████████████████████████████████████████████████████████████████████████████▊                                                  | 24/37 [00:00<00:00, 37.82it/s]\u001b[A\n",
      "Valid 4: loss 0.519562 0.6833:  65%|████████████████████████████████████████████████████████████████████████████████████████████▊                                                  | 24/37 [00:00<00:00, 37.82it/s]\u001b[A\n"
     ]
    },
    {
     "name": "stderr",
     "output_type": "stream",
     "text": [
      "Valid 4: loss 0.522182 0.6106:  65%|████████████████████████████████████████████████████████████████████████████████████████████▊                                                  | 24/37 [00:00<00:00, 37.82it/s]\u001b[A\n",
      "Valid 4: loss 0.520718 0.7587:  65%|████████████████████████████████████████████████████████████████████████████████████████████▊                                                  | 24/37 [00:00<00:00, 37.82it/s]\u001b[A\n",
      "Valid 4: loss 0.520718 0.7587:  92%|███████████████████████████████████████████████████████████████████████████████████████████████████████████████████████████████████▍           | 34/37 [00:00<00:00, 53.00it/s]\u001b[A\n",
      "Valid 4: loss 0.521586 0.7094:  92%|███████████████████████████████████████████████████████████████████████████████████████████████████████████████████████████████████▍           | 34/37 [00:00<00:00, 53.00it/s]\u001b[A\n",
      "Valid 4: loss 0.518681 0.8328:  92%|███████████████████████████████████████████████████████████████████████████████████████████████████████████████████████████████████▍           | 34/37 [00:00<00:00, 53.00it/s]\u001b[A\n",
      "Valid 4: loss 0.520615 0.7143: 100%|███████████████████████████████████████████████████████████████████████████████████████████████████████████████████████████████████████████████| 37/37 [00:01<00:00, 32.84it/s]\u001b[A\n",
      "Epoch 4: loss 0.516186 0.7517: 100%|█████████████████████████████████████████████████████████████████████████████████████████████████████████████████████████████████████████████| 145/145 [00:03<00:00, 39.00it/s]\n"
     ]
    },
    {
     "name": "stdout",
     "output_type": "stream",
     "text": [
      "EarlyStopping counter: 2 out of 20\n"
     ]
    },
    {
     "name": "stderr",
     "output_type": "stream",
     "text": [
      "Epoch 5: loss 0.510654 0.7548:  95%|██████████████████████████████████████████████████████████████████████████████████████████████████████████████████████████████████████▏      | 138/145 [00:02<00:00, 73.74it/s]\n",
      "  0%|                                                                                                                                                                                       | 0/37 [00:00<?, ?it/s]\u001b[A\n",
      "Valid 5: loss 0.470938 0.7788:   0%|                                                                                                                                                        | 0/37 [00:00<?, ?it/s]\u001b[A\n",
      "Valid 5: loss 0.470938 0.7788:   3%|███▉                                                                                                                                            | 1/37 [00:00<00:19,  1.89it/s]\u001b[A\n",
      "Valid 5: loss 0.476915 0.7947:   3%|███▉                                                                                                                                            | 1/37 [00:00<00:19,  1.89it/s]\u001b[A\n",
      "Valid 5: loss 0.466944 0.8728:   3%|███▉                                                                                                                                            | 1/37 [00:00<00:19,  1.89it/s]\u001b[A\n",
      "Valid 5: loss 0.456828 0.8140:   3%|███▉                                                                                                                                            | 1/37 [00:00<00:19,  1.89it/s]\u001b[A\n",
      "Valid 5: loss 0.475442 0.7667:   3%|███▉                                                                                                                                            | 1/37 [00:00<00:19,  1.89it/s]\u001b[A\n",
      "Valid 5: loss 0.488022 0.7532:   3%|███▉                                                                                                                                            | 1/37 [00:00<00:19,  1.89it/s]\u001b[A\n",
      "Valid 5: loss 0.504120 0.7163:   3%|███▉                                                                                                                                            | 1/37 [00:00<00:19,  1.89it/s]\u001b[A\n",
      "Valid 5: loss 0.506603 0.7289:   3%|███▉                                                                                                                                            | 1/37 [00:00<00:19,  1.89it/s]\u001b[A\n",
      "Valid 5: loss 0.512741 0.7326:   3%|███▉                                                                                                                                            | 1/37 [00:00<00:19,  1.89it/s]\u001b[A\n",
      "Valid 5: loss 0.512249 0.7517:   3%|███▉                                                                                                                                            | 1/37 [00:00<00:19,  1.89it/s]\u001b[A\n",
      "Valid 5: loss 0.512249 0.7517:  27%|██████████████████████████████████████▋                                                                                                        | 10/37 [00:00<00:01, 20.25it/s]\u001b[A\n",
      "Valid 5: loss 0.520561 0.7085:  27%|██████████████████████████████████████▋                                                                                                        | 10/37 [00:00<00:01, 20.25it/s]\u001b[A\n",
      "Valid 5: loss 0.512683 0.8292:  27%|██████████████████████████████████████▋                                                                                                        | 10/37 [00:00<00:01, 20.25it/s]\u001b[A\n",
      "Valid 5: loss 0.519877 0.7483:  27%|██████████████████████████████████████▋                                                                                                        | 10/37 [00:00<00:01, 20.25it/s]\u001b[A\n",
      "Valid 5: loss 0.521213 0.7406:  27%|██████████████████████████████████████▋                                                                                                        | 10/37 [00:00<00:01, 20.25it/s]\u001b[A\n",
      "Valid 5: loss 0.512862 0.8365:  27%|██████████████████████████████████████▋                                                                                                        | 10/37 [00:00<00:01, 20.25it/s]\u001b[A\n",
      "Valid 5: loss 0.508072 0.8424:  27%|██████████████████████████████████████▋                                                                                                        | 10/37 [00:00<00:01, 20.25it/s]\u001b[A\n",
      "Valid 5: loss 0.508462 0.7705:  27%|██████████████████████████████████████▋                                                                                                        | 10/37 [00:00<00:01, 20.25it/s]\u001b[A\n",
      "Valid 5: loss 0.506835 0.8052:  27%|██████████████████████████████████████▋                                                                                                        | 10/37 [00:00<00:01, 20.25it/s]\u001b[A\n",
      "Valid 5: loss 0.501038 0.8279:  27%|██████████████████████████████████████▋                                                                                                        | 10/37 [00:00<00:01, 20.25it/s]\u001b[A\n",
      "Valid 5: loss 0.501038 0.8279:  51%|█████████████████████████████████████████████████████████████████████████▍                                                                     | 19/37 [00:00<00:00, 35.72it/s]\u001b[A\n",
      "Valid 5: loss 0.503472 0.7233:  51%|█████████████████████████████████████████████████████████████████████████▍                                                                     | 19/37 [00:00<00:00, 35.72it/s]\u001b[A\n",
      "Valid 5: loss 0.500846 0.7646:  51%|█████████████████████████████████████████████████████████████████████████▍                                                                     | 19/37 [00:00<00:00, 35.72it/s]\u001b[A\n",
      "Valid 5: loss 0.502802 0.7167:  51%|█████████████████████████████████████████████████████████████████████████▍                                                                     | 19/37 [00:00<00:00, 35.72it/s]\u001b[A\n",
      "Valid 5: loss 0.508227 0.6526:  51%|█████████████████████████████████████████████████████████████████████████▍                                                                     | 19/37 [00:00<00:00, 35.72it/s]\u001b[A\n",
      "Valid 5: loss 0.507812 0.8066:  51%|█████████████████████████████████████████████████████████████████████████▍                                                                     | 19/37 [00:00<00:00, 35.72it/s]\u001b[A\n",
      "Valid 5: loss 0.506086 0.7512:  51%|█████████████████████████████████████████████████████████████████████████▍                                                                     | 19/37 [00:00<00:00, 35.72it/s]\u001b[A\n",
      "Valid 5: loss 0.507809 0.7674:  51%|█████████████████████████████████████████████████████████████████████████▍                                                                     | 19/37 [00:00<00:00, 35.72it/s]\u001b[A\n",
      "Valid 5: loss 0.507677 0.7708:  51%|█████████████████████████████████████████████████████████████████████████▍                                                                     | 19/37 [00:00<00:00, 35.72it/s]\u001b[A\n",
      "Valid 5: loss 0.505011 0.8217:  51%|█████████████████████████████████████████████████████████████████████████▍                                                                     | 19/37 [00:00<00:00, 35.72it/s]\u001b[A\n",
      "Valid 5: loss 0.511344 0.6571:  51%|█████████████████████████████████████████████████████████████████████████▍                                                                     | 19/37 [00:00<00:00, 35.72it/s]\u001b[A\n",
      "Valid 5: loss 0.511344 0.6571:  78%|████████████████████████████████████████████████████████████████████████████████████████████████████████████████                               | 29/37 [00:00<00:00, 50.06it/s]\u001b[A\n",
      "Valid 5: loss 0.511710 0.7147:  78%|████████████████████████████████████████████████████████████████████████████████████████████████████████████████                               | 29/37 [00:00<00:00, 50.06it/s]\u001b[A\n",
      "Valid 5: loss 0.511340 0.7447:  78%|████████████████████████████████████████████████████████████████████████████████████████████████████████████████                               | 29/37 [00:00<00:00, 50.06it/s]\u001b[A\n",
      "Valid 5: loss 0.512272 0.6883:  78%|████████████████████████████████████████████████████████████████████████████████████████████████████████████████                               | 29/37 [00:00<00:00, 50.06it/s]\u001b[A\n"
     ]
    },
    {
     "name": "stderr",
     "output_type": "stream",
     "text": [
      "Valid 5: loss 0.508129 0.8590:  78%|████████████████████████████████████████████████████████████████████████████████████████████████████████████████                               | 29/37 [00:00<00:00, 50.06it/s]\u001b[A\n",
      "Valid 5: loss 0.510960 0.7256:  78%|████████████████████████████████████████████████████████████████████████████████████████████████████████████████                               | 29/37 [00:00<00:00, 50.06it/s]\u001b[A\n",
      "Valid 5: loss 0.512280 0.7163:  78%|████████████████████████████████████████████████████████████████████████████████████████████████████████████████                               | 29/37 [00:00<00:00, 50.06it/s]\u001b[A\n",
      "Valid 5: loss 0.512498 0.7834:  78%|████████████████████████████████████████████████████████████████████████████████████████████████████████████████                               | 29/37 [00:00<00:00, 50.06it/s]\u001b[A\n",
      "Valid 5: loss 0.513119 0.6667:  78%|████████████████████████████████████████████████████████████████████████████████████████████████████████████████                               | 29/37 [00:00<00:00, 50.06it/s]\u001b[A\n",
      "Valid 5: loss 0.513119 0.6667: 100%|███████████████████████████████████████████████████████████████████████████████████████████████████████████████████████████████████████████████| 37/37 [00:01<00:00, 34.44it/s]\u001b[A\n",
      "Epoch 5: loss 0.512523 0.7533: 100%|█████████████████████████████████████████████████████████████████████████████████████████████████████████████████████████████████████████████| 145/145 [00:03<00:00, 37.83it/s]\n"
     ]
    },
    {
     "name": "stdout",
     "output_type": "stream",
     "text": [
      "EarlyStopping counter: 3 out of 20\n"
     ]
    },
    {
     "name": "stderr",
     "output_type": "stream",
     "text": [
      "Epoch 6: loss 0.513133 0.7515:  94%|████████████████████████████████████████████████████████████████████████████████████████████████████████████████████████████████████▏        | 136/145 [00:02<00:00, 65.31it/s]\n",
      "  0%|                                                                                                                                                                                       | 0/37 [00:00<?, ?it/s]\u001b[A\n",
      "Valid 6: loss 0.465957 0.7756:   0%|                                                                                                                                                        | 0/37 [00:00<?, ?it/s]\u001b[A\n",
      "Valid 6: loss 0.465957 0.7756:   3%|███▉                                                                                                                                            | 1/37 [00:00<00:19,  1.87it/s]\u001b[A\n",
      "Valid 6: loss 0.476942 0.7629:   3%|███▉                                                                                                                                            | 1/37 [00:00<00:19,  1.87it/s]\u001b[A\n",
      "Valid 6: loss 0.464324 0.7917:   3%|███▉                                                                                                                                            | 1/37 [00:00<00:19,  1.87it/s]\u001b[A\n",
      "Valid 6: loss 0.460097 0.7724:   3%|███▉                                                                                                                                            | 1/37 [00:00<00:19,  1.87it/s]\u001b[A\n",
      "Valid 6: loss 0.456433 0.7873:   3%|███▉                                                                                                                                            | 1/37 [00:00<00:19,  1.87it/s]\u001b[A\n",
      "Valid 6: loss 0.477353 0.6843:   3%|███▉                                                                                                                                            | 1/37 [00:00<00:19,  1.87it/s]\u001b[A\n",
      "Valid 6: loss 0.473078 0.7997:   3%|███▉                                                                                                                                            | 1/37 [00:00<00:19,  1.87it/s]\u001b[A\n",
      "Valid 6: loss 0.462768 0.9000:   3%|███▉                                                                                                                                            | 1/37 [00:00<00:19,  1.87it/s]\u001b[A\n",
      "Valid 6: loss 0.459002 0.8506:   3%|███▉                                                                                                                                            | 1/37 [00:00<00:19,  1.87it/s]\u001b[A\n",
      "Valid 6: loss 0.468847 0.6664:   3%|███▉                                                                                                                                            | 1/37 [00:00<00:19,  1.87it/s]\u001b[A\n",
      "Valid 6: loss 0.468847 0.6664:  27%|██████████████████████████████████████▋                                                                                                        | 10/37 [00:00<00:01, 20.27it/s]\u001b[A\n",
      "Valid 6: loss 0.464818 0.7849:  27%|██████████████████████████████████████▋                                                                                                        | 10/37 [00:00<00:01, 20.27it/s]\u001b[A\n",
      "Valid 6: loss 0.465687 0.7548:  27%|██████████████████████████████████████▋                                                                                                        | 10/37 [00:00<00:01, 20.27it/s]\u001b[A\n",
      "Valid 6: loss 0.475541 0.6818:  27%|██████████████████████████████████████▋                                                                                                        | 10/37 [00:00<00:01, 20.27it/s]\u001b[A\n",
      "Valid 6: loss 0.484904 0.6159:  27%|██████████████████████████████████████▋                                                                                                        | 10/37 [00:00<00:01, 20.27it/s]\u001b[A\n",
      "Valid 6: loss 0.476458 0.8576:  27%|██████████████████████████████████████▋                                                                                                        | 10/37 [00:00<00:01, 20.27it/s]\u001b[A\n",
      "Valid 6: loss 0.484649 0.6827:  27%|██████████████████████████████████████▋                                                                                                        | 10/37 [00:00<00:01, 20.27it/s]\u001b[A\n",
      "Valid 6: loss 0.496281 0.7240:  27%|██████████████████████████████████████▋                                                                                                        | 10/37 [00:00<00:01, 20.27it/s]\u001b[A\n",
      "Valid 6: loss 0.496281 0.7240:  46%|█████████████████████████████████████████████████████████████████▋                                                                             | 17/37 [00:00<00:00, 31.44it/s]\u001b[A\n",
      "Valid 6: loss 0.498470 0.7102:  46%|█████████████████████████████████████████████████████████████████▋                                                                             | 17/37 [00:00<00:00, 31.44it/s]\u001b[A\n",
      "Valid 6: loss 0.503775 0.6473:  46%|█████████████████████████████████████████████████████████████████▋                                                                             | 17/37 [00:00<00:00, 31.44it/s]\u001b[A\n",
      "Valid 6: loss 0.503538 0.7406:  46%|█████████████████████████████████████████████████████████████████▋                                                                             | 17/37 [00:00<00:00, 31.44it/s]\u001b[A\n",
      "Valid 6: loss 0.503113 0.7333:  46%|█████████████████████████████████████████████████████████████████▋                                                                             | 17/37 [00:00<00:00, 31.44it/s]\u001b[A\n",
      "Valid 6: loss 0.500660 0.8167:  46%|█████████████████████████████████████████████████████████████████▋                                                                             | 17/37 [00:00<00:00, 31.44it/s]\u001b[A\n",
      "Valid 6: loss 0.511466 0.5942:  46%|█████████████████████████████████████████████████████████████████▋                                                                             | 17/37 [00:00<00:00, 31.44it/s]\u001b[A\n",
      "Valid 6: loss 0.510676 0.8083:  46%|█████████████████████████████████████████████████████████████████▋                                                                             | 17/37 [00:00<00:00, 31.44it/s]\u001b[A\n",
      "Valid 6: loss 0.511816 0.6083:  46%|█████████████████████████████████████████████████████████████████▋                                                                             | 17/37 [00:00<00:00, 31.44it/s]\u001b[A\n",
      "Valid 6: loss 0.511816 0.6083:  68%|████████████████████████████████████████████████████████████████████████████████████████████████▌                                              | 25/37 [00:00<00:00, 43.23it/s]\u001b[A\n",
      "Valid 6: loss 0.515621 0.6955:  68%|████████████████████████████████████████████████████████████████████████████████████████████████▌                                              | 25/37 [00:00<00:00, 43.23it/s]\u001b[A\n",
      "Valid 6: loss 0.512330 0.8333:  68%|████████████████████████████████████████████████████████████████████████████████████████████████▌                                              | 25/37 [00:00<00:00, 43.23it/s]\u001b[A\n",
      "Valid 6: loss 0.508260 0.8200:  68%|████████████████████████████████████████████████████████████████████████████████████████████████▌                                              | 25/37 [00:00<00:00, 43.23it/s]\u001b[A\n",
      "Valid 6: loss 0.509625 0.6885:  68%|████████████████████████████████████████████████████████████████████████████████████████████████▌                                              | 25/37 [00:00<00:00, 43.23it/s]\u001b[A\n",
      "Valid 6: loss 0.509227 0.7917:  68%|████████████████████████████████████████████████████████████████████████████████████████████████▌                                              | 25/37 [00:00<00:00, 43.23it/s]\u001b[A\n",
      "Valid 6: loss 0.512727 0.7000:  68%|████████████████████████████████████████████████████████████████████████████████████████████████▌                                              | 25/37 [00:00<00:00, 43.23it/s]\u001b[A\n",
      "Valid 6: loss 0.511795 0.7899:  68%|████████████████████████████████████████████████████████████████████████████████████████████████▌                                              | 25/37 [00:00<00:00, 43.23it/s]\u001b[A\n"
     ]
    },
    {
     "name": "stderr",
     "output_type": "stream",
     "text": [
      "Valid 6: loss 0.510457 0.7500:  68%|████████████████████████████████████████████████████████████████████████████████████████████████▌                                              | 25/37 [00:00<00:00, 43.23it/s]\u001b[A\n",
      "Valid 6: loss 0.510030 0.7391:  68%|████████████████████████████████████████████████████████████████████████████████████████████████▌                                              | 25/37 [00:00<00:00, 43.23it/s]\u001b[A\n",
      "Valid 6: loss 0.510030 0.7391:  92%|███████████████████████████████████████████████████████████████████████████████████████████████████████████████████████████████████▍           | 34/37 [00:00<00:00, 54.49it/s]\u001b[A\n",
      "Valid 6: loss 0.508179 0.7865:  92%|███████████████████████████████████████████████████████████████████████████████████████████████████████████████████████████████████▍           | 34/37 [00:00<00:00, 54.49it/s]\u001b[A\n",
      "Valid 6: loss 0.512073 0.5918:  92%|███████████████████████████████████████████████████████████████████████████████████████████████████████████████████████████████████▍           | 34/37 [00:00<00:00, 54.49it/s]\u001b[A\n",
      "Valid 6: loss 0.508921 0.8333: 100%|███████████████████████████████████████████████████████████████████████████████████████████████████████████████████████████████████████████████| 37/37 [00:01<00:00, 33.67it/s]\u001b[A\n",
      "Epoch 6: loss 0.511787 0.7518:  99%|███████████████████████████████████████████████████████████████████████████████████████████████████████████████████████████████████████████  | 143/145 [00:03<00:00, 16.84it/s]"
     ]
    },
    {
     "name": "stdout",
     "output_type": "stream",
     "text": [
      "EarlyStopping counter: 4 out of 20\n"
     ]
    },
    {
     "name": "stderr",
     "output_type": "stream",
     "text": [
      "Epoch 6: loss 0.511787 0.7518: 100%|█████████████████████████████████████████████████████████████████████████████████████████████████████████████████████████████████████████████| 145/145 [00:03<00:00, 37.00it/s]\n",
      "Epoch 7: loss 0.507800 0.7539:  90%|███████████████████████████████████████████████████████████████████████████████████████████████████████████████████████████████▍             | 131/145 [00:02<00:00, 67.27it/s]\n",
      "  0%|                                                                                                                                                                                       | 0/37 [00:00<?, ?it/s]\u001b[A\n",
      "Valid 7: loss 0.455374 0.7800:   0%|                                                                                                                                                        | 0/37 [00:00<?, ?it/s]\u001b[A\n",
      "Valid 7: loss 0.455374 0.7800:   3%|███▉                                                                                                                                            | 1/37 [00:00<00:19,  1.84it/s]\u001b[A\n",
      "Valid 7: loss 0.456096 0.7646:   3%|███▉                                                                                                                                            | 1/37 [00:00<00:19,  1.84it/s]\u001b[A\n",
      "Valid 7: loss 0.469430 0.7233:   3%|███▉                                                                                                                                            | 1/37 [00:00<00:19,  1.84it/s]\u001b[A\n",
      "Valid 7: loss 0.477970 0.7153:   3%|███▉                                                                                                                                            | 1/37 [00:00<00:19,  1.84it/s]\u001b[A\n",
      "Valid 7: loss 0.454213 0.8625:   3%|███▉                                                                                                                                            | 1/37 [00:00<00:19,  1.84it/s]\u001b[A\n",
      "Valid 7: loss 0.447295 0.8357:   3%|███▉                                                                                                                                            | 1/37 [00:00<00:19,  1.84it/s]\u001b[A\n",
      "Valid 7: loss 0.472807 0.6312:   3%|███▉                                                                                                                                            | 1/37 [00:00<00:19,  1.84it/s]\u001b[A\n",
      "Valid 7: loss 0.473238 0.8417:   3%|███▉                                                                                                                                            | 1/37 [00:00<00:19,  1.84it/s]\u001b[A\n",
      "Valid 7: loss 0.478396 0.7818:   3%|███▉                                                                                                                                            | 1/37 [00:00<00:19,  1.84it/s]\u001b[A\n",
      "Valid 7: loss 0.482420 0.7400:   3%|███▉                                                                                                                                            | 1/37 [00:00<00:19,  1.84it/s]\u001b[A\n",
      "Valid 7: loss 0.476842 0.8575:   3%|███▉                                                                                                                                            | 1/37 [00:00<00:19,  1.84it/s]\u001b[A\n",
      "Valid 7: loss 0.476842 0.8575:  30%|██████████████████████████████████████████▌                                                                                                    | 11/37 [00:00<00:01, 21.83it/s]\u001b[A\n",
      "Valid 7: loss 0.485202 0.7182:  30%|██████████████████████████████████████████▌                                                                                                    | 11/37 [00:00<00:01, 21.83it/s]\u001b[A\n",
      "Valid 7: loss 0.479201 0.8349:  30%|██████████████████████████████████████████▌                                                                                                    | 11/37 [00:00<00:01, 21.83it/s]\u001b[A\n",
      "Valid 7: loss 0.485770 0.6917:  30%|██████████████████████████████████████████▌                                                                                                    | 11/37 [00:00<00:01, 21.83it/s]\u001b[A\n",
      "Valid 7: loss 0.489412 0.7083:  30%|██████████████████████████████████████████▌                                                                                                    | 11/37 [00:00<00:01, 21.83it/s]\u001b[A\n",
      "Valid 7: loss 0.490553 0.8108:  30%|██████████████████████████████████████████▌                                                                                                    | 11/37 [00:00<00:01, 21.83it/s]\u001b[A\n",
      "Valid 7: loss 0.483249 0.8768:  30%|██████████████████████████████████████████▌                                                                                                    | 11/37 [00:00<00:01, 21.83it/s]\u001b[A\n",
      "Valid 7: loss 0.485500 0.7600:  30%|██████████████████████████████████████████▌                                                                                                    | 11/37 [00:00<00:01, 21.83it/s]\u001b[A\n",
      "Valid 7: loss 0.488472 0.6738:  30%|██████████████████████████████████████████▌                                                                                                    | 11/37 [00:00<00:01, 21.83it/s]\u001b[A\n",
      "Valid 7: loss 0.488472 0.6738:  51%|█████████████████████████████████████████████████████████████████████████▍                                                                     | 19/37 [00:00<00:00, 34.01it/s]\u001b[A\n",
      "Valid 7: loss 0.493506 0.7464:  51%|█████████████████████████████████████████████████████████████████████████▍                                                                     | 19/37 [00:00<00:00, 34.01it/s]\u001b[A\n",
      "Valid 7: loss 0.490678 0.7955:  51%|█████████████████████████████████████████████████████████████████████████▍                                                                     | 19/37 [00:00<00:00, 34.01it/s]\u001b[A\n",
      "Valid 7: loss 0.497542 0.6750:  51%|█████████████████████████████████████████████████████████████████████████▍                                                                     | 19/37 [00:00<00:00, 34.01it/s]\u001b[A\n",
      "Valid 7: loss 0.499739 0.6619:  51%|█████████████████████████████████████████████████████████████████████████▍                                                                     | 19/37 [00:00<00:00, 34.01it/s]\u001b[A\n",
      "Valid 7: loss 0.498313 0.7552:  51%|█████████████████████████████████████████████████████████████████████████▍                                                                     | 19/37 [00:00<00:00, 34.01it/s]\u001b[A\n",
      "Valid 7: loss 0.498858 0.7555:  51%|█████████████████████████████████████████████████████████████████████████▍                                                                     | 19/37 [00:00<00:00, 34.01it/s]\u001b[A\n",
      "Valid 7: loss 0.501003 0.7333:  51%|█████████████████████████████████████████████████████████████████████████▍                                                                     | 19/37 [00:00<00:00, 34.01it/s]\u001b[A\n",
      "Valid 7: loss 0.503942 0.7240:  51%|█████████████████████████████████████████████████████████████████████████▍                                                                     | 19/37 [00:00<00:00, 34.01it/s]\u001b[A\n",
      "Valid 7: loss 0.499797 0.8101:  51%|█████████████████████████████████████████████████████████████████████████▍                                                                     | 19/37 [00:00<00:00, 34.01it/s]\u001b[A\n",
      "Valid 7: loss 0.499797 0.8101:  76%|████████████████████████████████████████████████████████████████████████████████████████████████████████████▏                                  | 28/37 [00:00<00:00, 46.98it/s]\u001b[A\n",
      "Valid 7: loss 0.500651 0.7611:  76%|████████████████████████████████████████████████████████████████████████████████████████████████████████████▏                                  | 28/37 [00:00<00:00, 46.98it/s]\u001b[A\n",
      "Valid 7: loss 0.505283 0.6859:  76%|████████████████████████████████████████████████████████████████████████████████████████████████████████████▏                                  | 28/37 [00:00<00:00, 46.98it/s]\u001b[A\n",
      "Valid 7: loss 0.506725 0.7274:  76%|████████████████████████████████████████████████████████████████████████████████████████████████████████████▏                                  | 28/37 [00:00<00:00, 46.98it/s]\u001b[A\n"
     ]
    },
    {
     "name": "stderr",
     "output_type": "stream",
     "text": [
      "Valid 7: loss 0.506599 0.7674:  76%|████████████████████████████████████████████████████████████████████████████████████████████████████████████▏                                  | 28/37 [00:00<00:00, 46.98it/s]\u001b[A\n",
      "Valid 7: loss 0.505621 0.8172:  76%|████████████████████████████████████████████████████████████████████████████████████████████████████████████▏                                  | 28/37 [00:00<00:00, 46.98it/s]\u001b[A\n",
      "Valid 7: loss 0.502467 0.8590:  76%|████████████████████████████████████████████████████████████████████████████████████████████████████████████▏                                  | 28/37 [00:00<00:00, 46.98it/s]\u001b[A\n",
      "Valid 7: loss 0.504005 0.8101:  76%|████████████████████████████████████████████████████████████████████████████████████████████████████████████▏                                  | 28/37 [00:00<00:00, 46.98it/s]\u001b[A\n",
      "Valid 7: loss 0.507102 0.6667:  76%|████████████████████████████████████████████████████████████████████████████████████████████████████████████▏                                  | 28/37 [00:00<00:00, 46.98it/s]\u001b[A\n",
      "Valid 7: loss 0.513213 0.5357:  76%|████████████████████████████████████████████████████████████████████████████████████████████████████████████▏                                  | 28/37 [00:00<00:00, 46.98it/s]\u001b[A\n",
      "Valid 7: loss 0.513213 0.5357: 100%|███████████████████████████████████████████████████████████████████████████████████████████████████████████████████████████████████████████████| 37/37 [00:01<00:00, 34.54it/s]\u001b[A\n",
      "Epoch 7: loss 0.508527 0.7530:  99%|████████████████████████████████████████████████████████████████████████████████████████████████████████████████████████████████████████████ | 144/145 [00:03<00:00, 20.69it/s]"
     ]
    },
    {
     "name": "stdout",
     "output_type": "stream",
     "text": [
      "EarlyStopping counter: 5 out of 20\n"
     ]
    },
    {
     "name": "stderr",
     "output_type": "stream",
     "text": [
      "Epoch 7: loss 0.508527 0.7530: 100%|█████████████████████████████████████████████████████████████████████████████████████████████████████████████████████████████████████████████| 145/145 [00:03<00:00, 38.18it/s]\n",
      "Epoch 8: loss 0.510004 0.7565:  92%|█████████████████████████████████████████████████████████████████████████████████████████████████████████████████████████████████▎           | 133/145 [00:02<00:00, 69.53it/s]\n",
      "  0%|                                                                                                                                                                                       | 0/37 [00:00<?, ?it/s]\u001b[A\n",
      "Valid 8: loss 0.544700 0.6885:   0%|                                                                                                                                                        | 0/37 [00:00<?, ?it/s]\u001b[A\n",
      "Valid 8: loss 0.544700 0.6885:   3%|███▉                                                                                                                                            | 1/37 [00:00<00:20,  1.75it/s]\u001b[A\n",
      "Valid 8: loss 0.591964 0.6530:   3%|███▉                                                                                                                                            | 1/37 [00:00<00:20,  1.75it/s]\u001b[A\n",
      "Valid 8: loss 0.593557 0.7083:   3%|███▉                                                                                                                                            | 1/37 [00:00<00:20,  1.75it/s]\u001b[A\n",
      "Valid 8: loss 0.549480 0.8066:   3%|███▉                                                                                                                                            | 1/37 [00:00<00:20,  1.75it/s]\u001b[A\n",
      "Valid 8: loss 0.527973 0.8344:   3%|███▉                                                                                                                                            | 1/37 [00:00<00:20,  1.75it/s]\u001b[A\n",
      "Valid 8: loss 0.537041 0.7020:   3%|███▉                                                                                                                                            | 1/37 [00:00<00:20,  1.75it/s]\u001b[A\n",
      "Valid 8: loss 0.537052 0.7981:   3%|███▉                                                                                                                                            | 1/37 [00:00<00:20,  1.75it/s]\u001b[A\n",
      "Valid 8: loss 0.553655 0.6138:   3%|███▉                                                                                                                                            | 1/37 [00:00<00:20,  1.75it/s]\u001b[A\n",
      "Valid 8: loss 0.534674 0.8819:   3%|███▉                                                                                                                                            | 1/37 [00:00<00:20,  1.75it/s]\u001b[A\n",
      "Valid 8: loss 0.525185 0.7674:   3%|███▉                                                                                                                                            | 1/37 [00:00<00:20,  1.75it/s]\u001b[A\n",
      "Valid 8: loss 0.517248 0.7917:   3%|███▉                                                                                                                                            | 1/37 [00:00<00:20,  1.75it/s]\u001b[A\n",
      "Valid 8: loss 0.517248 0.7917:  30%|██████████████████████████████████████████▌                                                                                                    | 11/37 [00:00<00:01, 21.33it/s]\u001b[A\n",
      "Valid 8: loss 0.512779 0.7644:  30%|██████████████████████████████████████████▌                                                                                                    | 11/37 [00:00<00:01, 21.33it/s]\u001b[A\n",
      "Valid 8: loss 0.511362 0.7800:  30%|██████████████████████████████████████████▌                                                                                                    | 11/37 [00:00<00:01, 21.33it/s]\u001b[A\n",
      "Valid 8: loss 0.498884 0.9048:  30%|██████████████████████████████████████████▌                                                                                                    | 11/37 [00:00<00:01, 21.33it/s]\u001b[A\n",
      "Valid 8: loss 0.492127 0.7955:  30%|██████████████████████████████████████████▌                                                                                                    | 11/37 [00:00<00:01, 21.33it/s]\u001b[A\n",
      "Valid 8: loss 0.490784 0.7917:  30%|██████████████████████████████████████████▌                                                                                                    | 11/37 [00:00<00:01, 21.33it/s]\u001b[A\n",
      "Valid 8: loss 0.496124 0.7705:  30%|██████████████████████████████████████████▌                                                                                                    | 11/37 [00:00<00:01, 21.33it/s]\u001b[A\n",
      "Valid 8: loss 0.501237 0.7003:  30%|██████████████████████████████████████████▌                                                                                                    | 11/37 [00:00<00:01, 21.33it/s]\u001b[A\n",
      "Valid 8: loss 0.501237 0.7003:  49%|█████████████████████████████████████████████████████████████████████▌                                                                         | 18/37 [00:00<00:00, 31.65it/s]\u001b[A\n",
      "Valid 8: loss 0.507859 0.7657:  49%|█████████████████████████████████████████████████████████████████████▌                                                                         | 18/37 [00:00<00:00, 31.65it/s]\u001b[A\n",
      "Valid 8: loss 0.508784 0.7053:  49%|█████████████████████████████████████████████████████████████████████▌                                                                         | 18/37 [00:00<00:00, 31.65it/s]\u001b[A\n",
      "Valid 8: loss 0.509444 0.7583:  49%|█████████████████████████████████████████████████████████████████████▌                                                                         | 18/37 [00:00<00:00, 31.65it/s]\u001b[A\n",
      "Valid 8: loss 0.510495 0.6885:  49%|█████████████████████████████████████████████████████████████████████▌                                                                         | 18/37 [00:00<00:00, 31.65it/s]\u001b[A\n",
      "Valid 8: loss 0.510087 0.7825:  49%|█████████████████████████████████████████████████████████████████████▌                                                                         | 18/37 [00:00<00:00, 31.65it/s]\u001b[A\n",
      "Valid 8: loss 0.510694 0.7335:  49%|█████████████████████████████████████████████████████████████████████▌                                                                         | 18/37 [00:00<00:00, 31.65it/s]\u001b[A\n",
      "Valid 8: loss 0.508396 0.7770:  49%|█████████████████████████████████████████████████████████████████████▌                                                                         | 18/37 [00:00<00:00, 31.65it/s]\u001b[A\n",
      "Valid 8: loss 0.513568 0.6763:  49%|█████████████████████████████████████████████████████████████████████▌                                                                         | 18/37 [00:00<00:00, 31.65it/s]\u001b[A\n",
      "Valid 8: loss 0.513568 0.6763:  70%|████████████████████████████████████████████████████████████████████████████████████████████████████▍                                          | 26/37 [00:00<00:00, 42.59it/s]\u001b[A\n",
      "Valid 8: loss 0.513008 0.8172:  70%|████████████████████████████████████████████████████████████████████████████████████████████████████▍                                          | 26/37 [00:00<00:00, 42.59it/s]\u001b[A\n",
      "Valid 8: loss 0.508480 0.8083:  70%|████████████████████████████████████████████████████████████████████████████████████████████████████▍                                          | 26/37 [00:00<00:00, 42.59it/s]\u001b[A\n",
      "Valid 8: loss 0.508280 0.7681:  70%|████████████████████████████████████████████████████████████████████████████████████████████████████▍                                          | 26/37 [00:00<00:00, 42.59it/s]\u001b[A\n",
      "Valid 8: loss 0.507810 0.6875:  70%|████████████████████████████████████████████████████████████████████████████████████████████████████▍                                          | 26/37 [00:00<00:00, 42.59it/s]\u001b[A\n",
      "Valid 8: loss 0.506891 0.7830:  70%|████████████████████████████████████████████████████████████████████████████████████████████████████▍                                          | 26/37 [00:00<00:00, 42.59it/s]\u001b[A\n"
     ]
    },
    {
     "name": "stderr",
     "output_type": "stream",
     "text": [
      "Valid 8: loss 0.506972 0.7250:  70%|████████████████████████████████████████████████████████████████████████████████████████████████████▍                                          | 26/37 [00:00<00:00, 42.59it/s]\u001b[A\n",
      "Valid 8: loss 0.504996 0.7987:  70%|████████████████████████████████████████████████████████████████████████████████████████████████████▍                                          | 26/37 [00:00<00:00, 42.59it/s]\u001b[A\n",
      "Valid 8: loss 0.505186 0.7370:  70%|████████████████████████████████████████████████████████████████████████████████████████████████████▍                                          | 26/37 [00:00<00:00, 42.59it/s]\u001b[A\n",
      "Valid 8: loss 0.505583 0.7778:  70%|████████████████████████████████████████████████████████████████████████████████████████████████████▍                                          | 26/37 [00:00<00:00, 42.59it/s]\u001b[A\n",
      "Valid 8: loss 0.508703 0.6971:  70%|████████████████████████████████████████████████████████████████████████████████████████████████████▍                                          | 26/37 [00:00<00:00, 42.59it/s]\u001b[A\n",
      "Valid 8: loss 0.508703 0.6971:  97%|███████████████████████████████████████████████████████████████████████████████████████████████████████████████████████████████████████████▏   | 36/37 [00:00<00:00, 55.83it/s]\u001b[A\n",
      "Valid 8: loss 0.505123 0.9000: 100%|███████████████████████████████████████████████████████████████████████████████████████████████████████████████████████████████████████████████| 37/37 [00:01<00:00, 32.87it/s]\u001b[A\n",
      "Epoch 8: loss 0.507289 0.7580: 100%|█████████████████████████████████████████████████████████████████████████████████████████████████████████████████████████████████████████████| 145/145 [00:03<00:00, 38.01it/s]\n"
     ]
    },
    {
     "name": "stdout",
     "output_type": "stream",
     "text": [
      "EarlyStopping counter: 6 out of 20\n"
     ]
    },
    {
     "name": "stderr",
     "output_type": "stream",
     "text": [
      "Epoch 9: loss 0.508130 0.7556:  89%|█████████████████████████████████████████████████████████████████████████████████████████████████████████████████████████████▍               | 129/145 [00:02<00:00, 72.40it/s]\n",
      "  0%|                                                                                                                                                                                       | 0/37 [00:00<?, ?it/s]\u001b[A\n",
      "Valid 9: loss 0.584282 0.7299:   0%|                                                                                                                                                        | 0/37 [00:00<?, ?it/s]\u001b[A\n",
      "Valid 9: loss 0.584282 0.7299:   3%|███▉                                                                                                                                            | 1/37 [00:00<00:19,  1.86it/s]\u001b[A\n",
      "Valid 9: loss 0.606894 0.6750:   3%|███▉                                                                                                                                            | 1/37 [00:00<00:19,  1.86it/s]\u001b[A\n",
      "Valid 9: loss 0.555226 0.8039:   3%|███▉                                                                                                                                            | 1/37 [00:00<00:19,  1.86it/s]\u001b[A\n",
      "Valid 9: loss 0.556227 0.7644:   3%|███▉                                                                                                                                            | 1/37 [00:00<00:19,  1.86it/s]\u001b[A\n",
      "Valid 9: loss 0.571799 0.6910:   3%|███▉                                                                                                                                            | 1/37 [00:00<00:19,  1.86it/s]\u001b[A\n",
      "Valid 9: loss 0.574431 0.7000:   3%|███▉                                                                                                                                            | 1/37 [00:00<00:19,  1.86it/s]\u001b[A\n",
      "Valid 9: loss 0.553358 0.8358:   3%|███▉                                                                                                                                            | 1/37 [00:00<00:19,  1.86it/s]\u001b[A\n",
      "Valid 9: loss 0.532420 0.8365:   3%|███▉                                                                                                                                            | 1/37 [00:00<00:19,  1.86it/s]\u001b[A\n",
      "Valid 9: loss 0.527714 0.7788:   3%|███▉                                                                                                                                            | 1/37 [00:00<00:19,  1.86it/s]\u001b[A\n",
      "Valid 9: loss 0.524898 0.7600:   3%|███▉                                                                                                                                            | 1/37 [00:00<00:19,  1.86it/s]\u001b[A\n",
      "Valid 9: loss 0.517323 0.7792:   3%|███▉                                                                                                                                            | 1/37 [00:00<00:19,  1.86it/s]\u001b[A\n",
      "Valid 9: loss 0.517323 0.7792:  30%|██████████████████████████████████████████▌                                                                                                    | 11/37 [00:00<00:01, 22.45it/s]\u001b[A\n",
      "Valid 9: loss 0.511513 0.7371:  30%|██████████████████████████████████████████▌                                                                                                    | 11/37 [00:00<00:01, 22.45it/s]\u001b[A\n",
      "Valid 9: loss 0.520737 0.7196:  30%|██████████████████████████████████████████▌                                                                                                    | 11/37 [00:00<00:01, 22.45it/s]\u001b[A\n",
      "Valid 9: loss 0.516080 0.7596:  30%|██████████████████████████████████████████▌                                                                                                    | 11/37 [00:00<00:01, 22.45it/s]\u001b[A\n",
      "Valid 9: loss 0.509097 0.8349:  30%|██████████████████████████████████████████▌                                                                                                    | 11/37 [00:00<00:01, 22.45it/s]\u001b[A\n",
      "Valid 9: loss 0.507288 0.7469:  30%|██████████████████████████████████████████▌                                                                                                    | 11/37 [00:00<00:01, 22.45it/s]\u001b[A\n",
      "Valid 9: loss 0.508168 0.7338:  30%|██████████████████████████████████████████▌                                                                                                    | 11/37 [00:00<00:01, 22.45it/s]\u001b[A\n",
      "Valid 9: loss 0.508047 0.7830:  30%|██████████████████████████████████████████▌                                                                                                    | 11/37 [00:00<00:01, 22.45it/s]\u001b[A\n",
      "Valid 9: loss 0.504679 0.8083:  30%|██████████████████████████████████████████▌                                                                                                    | 11/37 [00:00<00:01, 22.45it/s]\u001b[A\n",
      "Valid 9: loss 0.504679 0.8083:  51%|█████████████████████████████████████████████████████████████████████████▍                                                                     | 19/37 [00:00<00:00, 34.86it/s]\u001b[A\n",
      "Valid 9: loss 0.499514 0.8814:  51%|█████████████████████████████████████████████████████████████████████████▍                                                                     | 19/37 [00:00<00:00, 34.86it/s]\u001b[A\n",
      "Valid 9: loss 0.498689 0.8465:  51%|█████████████████████████████████████████████████████████████████████████▍                                                                     | 19/37 [00:00<00:00, 34.86it/s]\u001b[A\n",
      "Valid 9: loss 0.497208 0.8292:  51%|█████████████████████████████████████████████████████████████████████████▍                                                                     | 19/37 [00:00<00:00, 34.86it/s]\u001b[A\n",
      "Valid 9: loss 0.500890 0.6881:  51%|█████████████████████████████████████████████████████████████████████████▍                                                                     | 19/37 [00:00<00:00, 34.86it/s]\u001b[A\n",
      "Valid 9: loss 0.500754 0.8117:  51%|█████████████████████████████████████████████████████████████████████████▍                                                                     | 19/37 [00:00<00:00, 34.86it/s]\u001b[A\n",
      "Valid 9: loss 0.499023 0.7365:  51%|█████████████████████████████████████████████████████████████████████████▍                                                                     | 19/37 [00:00<00:00, 34.86it/s]\u001b[A\n",
      "Valid 9: loss 0.499133 0.7987:  51%|█████████████████████████████████████████████████████████████████████████▍                                                                     | 19/37 [00:00<00:00, 34.86it/s]\u001b[A\n",
      "Valid 9: loss 0.499133 0.7987:  70%|████████████████████████████████████████████████████████████████████████████████████████████████████▍                                          | 26/37 [00:00<00:00, 42.16it/s]\u001b[A\n",
      "Valid 9: loss 0.496618 0.8173:  70%|████████████████████████████████████████████████████████████████████████████████████████████████████▍                                          | 26/37 [00:00<00:00, 42.16it/s]\u001b[A\n",
      "Valid 9: loss 0.501023 0.6716:  70%|████████████████████████████████████████████████████████████████████████████████████████████████████▍                                          | 26/37 [00:00<00:00, 42.16it/s]\u001b[A\n",
      "Valid 9: loss 0.499966 0.7770:  70%|████████████████████████████████████████████████████████████████████████████████████████████████████▍                                          | 26/37 [00:00<00:00, 42.16it/s]\u001b[A\n",
      "Valid 9: loss 0.498485 0.8120:  70%|████████████████████████████████████████████████████████████████████████████████████████████████████▍                                          | 26/37 [00:00<00:00, 42.16it/s]\u001b[A\n",
      "Valid 9: loss 0.496985 0.7471:  70%|████████████████████████████████████████████████████████████████████████████████████████████████████▍                                          | 26/37 [00:00<00:00, 42.16it/s]\u001b[A\n",
      "Valid 9: loss 0.498872 0.7869:  70%|████████████████████████████████████████████████████████████████████████████████████████████████████▍                                          | 26/37 [00:00<00:00, 42.16it/s]\u001b[A\n"
     ]
    },
    {
     "name": "stderr",
     "output_type": "stream",
     "text": [
      "Valid 9: loss 0.501183 0.7250:  70%|████████████████████████████████████████████████████████████████████████████████████████████████████▍                                          | 26/37 [00:00<00:00, 42.16it/s]\u001b[A\n",
      "Valid 9: loss 0.507682 0.6691:  70%|████████████████████████████████████████████████████████████████████████████████████████████████████▍                                          | 26/37 [00:00<00:00, 42.16it/s]\u001b[A\n",
      "Valid 9: loss 0.508299 0.7596:  70%|████████████████████████████████████████████████████████████████████████████████████████████████████▍                                          | 26/37 [00:00<00:00, 42.16it/s]\u001b[A\n",
      "Valid 9: loss 0.512181 0.6163:  70%|████████████████████████████████████████████████████████████████████████████████████████████████████▍                                          | 26/37 [00:00<00:00, 42.16it/s]\u001b[A\n",
      "Valid 9: loss 0.514911 0.5750: 100%|███████████████████████████████████████████████████████████████████████████████████████████████████████████████████████████████████████████████| 37/37 [00:01<00:00, 35.14it/s]\u001b[A\n",
      "Epoch 9: loss 0.508636 0.7553: 100%|█████████████████████████████████████████████████████████████████████████████████████████████████████████████████████████████████████████████| 145/145 [00:03<00:00, 39.96it/s]\n"
     ]
    },
    {
     "name": "stdout",
     "output_type": "stream",
     "text": [
      "EarlyStopping counter: 7 out of 20\n"
     ]
    },
    {
     "name": "stderr",
     "output_type": "stream",
     "text": [
      "Epoch 10: loss 0.507099 0.7599:  90%|█████████████████████████████████████████████████████████████████████████████████████████████████████████████████████████████▌              | 130/145 [00:02<00:00, 64.20it/s]\n",
      "  0%|                                                                                                                                                                                       | 0/37 [00:00<?, ?it/s]\u001b[A\n",
      "Valid 10: loss 0.524365 0.6981:   0%|                                                                                                                                                       | 0/37 [00:00<?, ?it/s]\u001b[A\n",
      "Valid 10: loss 0.524365 0.6981:   3%|███▊                                                                                                                                           | 1/37 [00:00<00:20,  1.77it/s]\u001b[A\n",
      "Valid 10: loss 0.589119 0.6667:   3%|███▊                                                                                                                                           | 1/37 [00:00<00:20,  1.77it/s]\u001b[A\n",
      "Valid 10: loss 0.559986 0.7167:   3%|███▊                                                                                                                                           | 1/37 [00:00<00:20,  1.77it/s]\u001b[A\n",
      "Valid 10: loss 0.534810 0.8360:   3%|███▊                                                                                                                                           | 1/37 [00:00<00:20,  1.77it/s]\u001b[A\n",
      "Valid 10: loss 0.539278 0.6604:   3%|███▊                                                                                                                                           | 1/37 [00:00<00:20,  1.77it/s]\u001b[A\n",
      "Valid 10: loss 0.536628 0.7432:   3%|███▊                                                                                                                                           | 1/37 [00:00<00:20,  1.77it/s]\u001b[A\n",
      "Valid 10: loss 0.538975 0.7343:   3%|███▊                                                                                                                                           | 1/37 [00:00<00:20,  1.77it/s]\u001b[A\n",
      "Valid 10: loss 0.539237 0.7356:   3%|███▊                                                                                                                                           | 1/37 [00:00<00:20,  1.77it/s]\u001b[A\n",
      "Valid 10: loss 0.524660 0.8377:   3%|███▊                                                                                                                                           | 1/37 [00:00<00:20,  1.77it/s]\u001b[A\n",
      "Valid 10: loss 0.515319 0.7381:   3%|███▊                                                                                                                                           | 1/37 [00:00<00:20,  1.77it/s]\u001b[A\n",
      "Valid 10: loss 0.514521 0.7371:   3%|███▊                                                                                                                                           | 1/37 [00:00<00:20,  1.77it/s]\u001b[A\n",
      "Valid 10: loss 0.514521 0.7371:  30%|██████████████████████████████████████████▏                                                                                                   | 11/37 [00:00<00:01, 21.29it/s]\u001b[A\n",
      "Valid 10: loss 0.524208 0.6429:  30%|██████████████████████████████████████████▏                                                                                                   | 11/37 [00:00<00:01, 21.29it/s]\u001b[A\n",
      "Valid 10: loss 0.527612 0.7053:  30%|██████████████████████████████████████████▏                                                                                                   | 11/37 [00:00<00:01, 21.29it/s]\u001b[A\n",
      "Valid 10: loss 0.530866 0.7279:  30%|██████████████████████████████████████████▏                                                                                                   | 11/37 [00:00<00:01, 21.29it/s]\u001b[A\n",
      "Valid 10: loss 0.527618 0.7469:  30%|██████████████████████████████████████████▏                                                                                                   | 11/37 [00:00<00:01, 21.29it/s]\u001b[A\n",
      "Valid 10: loss 0.517773 0.8800:  30%|██████████████████████████████████████████▏                                                                                                   | 11/37 [00:00<00:01, 21.29it/s]\u001b[A\n",
      "Valid 10: loss 0.518507 0.7578:  30%|██████████████████████████████████████████▏                                                                                                   | 11/37 [00:00<00:01, 21.29it/s]\u001b[A\n",
      "Valid 10: loss 0.519808 0.7147:  30%|██████████████████████████████████████████▏                                                                                                   | 11/37 [00:00<00:01, 21.29it/s]\u001b[A\n",
      "Valid 10: loss 0.519808 0.7147:  49%|█████████████████████████████████████████████████████████████████████                                                                         | 18/37 [00:00<00:00, 31.39it/s]\u001b[A\n",
      "Valid 10: loss 0.516033 0.7673:  49%|█████████████████████████████████████████████████████████████████████                                                                         | 18/37 [00:00<00:00, 31.39it/s]\u001b[A\n",
      "Valid 10: loss 0.515835 0.7468:  49%|█████████████████████████████████████████████████████████████████████                                                                         | 18/37 [00:00<00:00, 31.39it/s]\u001b[A\n",
      "Valid 10: loss 0.512475 0.7800:  49%|█████████████████████████████████████████████████████████████████████                                                                         | 18/37 [00:00<00:00, 31.39it/s]\u001b[A\n",
      "Valid 10: loss 0.509180 0.7833:  49%|█████████████████████████████████████████████████████████████████████                                                                         | 18/37 [00:00<00:00, 31.39it/s]\u001b[A\n",
      "Valid 10: loss 0.506116 0.7302:  49%|█████████████████████████████████████████████████████████████████████                                                                         | 18/37 [00:00<00:00, 31.39it/s]\u001b[A\n",
      "Valid 10: loss 0.502012 0.8420:  49%|█████████████████████████████████████████████████████████████████████                                                                         | 18/37 [00:00<00:00, 31.39it/s]\u001b[A\n",
      "Valid 10: loss 0.505530 0.7000:  49%|█████████████████████████████████████████████████████████████████████                                                                         | 18/37 [00:00<00:00, 31.39it/s]\u001b[A\n",
      "Valid 10: loss 0.507591 0.7370:  49%|█████████████████████████████████████████████████████████████████████                                                                         | 18/37 [00:00<00:00, 31.39it/s]\u001b[A\n",
      "Valid 10: loss 0.503807 0.8381:  49%|█████████████████████████████████████████████████████████████████████                                                                         | 18/37 [00:00<00:00, 31.39it/s]\u001b[A\n",
      "Valid 10: loss 0.503959 0.7583:  49%|█████████████████████████████████████████████████████████████████████                                                                         | 18/37 [00:00<00:00, 31.39it/s]\u001b[A\n",
      "Valid 10: loss 0.503961 0.7274:  49%|█████████████████████████████████████████████████████████████████████                                                                         | 18/37 [00:00<00:00, 31.39it/s]\u001b[A\n",
      "Valid 10: loss 0.503961 0.7274:  78%|███████████████████████████████████████████████████████████████████████████████████████████████████████████████▎                              | 29/37 [00:00<00:00, 49.46it/s]\u001b[A\n",
      "Valid 10: loss 0.505049 0.7400:  78%|███████████████████████████████████████████████████████████████████████████████████████████████████████████████▎                              | 29/37 [00:00<00:00, 49.46it/s]\u001b[A\n",
      "Valid 10: loss 0.508825 0.7375:  78%|███████████████████████████████████████████████████████████████████████████████████████████████████████████████▎                              | 29/37 [00:00<00:00, 49.46it/s]\u001b[A\n",
      "Valid 10: loss 0.509015 0.7520:  78%|███████████████████████████████████████████████████████████████████████████████████████████████████████████████▎                              | 29/37 [00:00<00:00, 49.46it/s]\u001b[A\n"
     ]
    },
    {
     "name": "stderr",
     "output_type": "stream",
     "text": [
      "Valid 10: loss 0.513486 0.6818:  78%|███████████████████████████████████████████████████████████████████████████████████████████████████████████████▎                              | 29/37 [00:00<00:00, 49.46it/s]\u001b[A\n",
      "Valid 10: loss 0.512574 0.7478:  78%|███████████████████████████████████████████████████████████████████████████████████████████████████████████████▎                              | 29/37 [00:00<00:00, 49.46it/s]\u001b[A\n",
      "Valid 10: loss 0.510594 0.7858:  78%|███████████████████████████████████████████████████████████████████████████████████████████████████████████████▎                              | 29/37 [00:00<00:00, 49.46it/s]\u001b[A\n",
      "Valid 10: loss 0.510447 0.7981:  78%|███████████████████████████████████████████████████████████████████████████████████████████████████████████████▎                              | 29/37 [00:00<00:00, 49.46it/s]\u001b[A\n",
      "Valid 10: loss 0.513891 0.7750: 100%|██████████████████████████████████████████████████████████████████████████████████████████████████████████████████████████████████████████████| 37/37 [00:01<00:00, 34.56it/s]\u001b[A\n",
      "Epoch 10: loss 0.508380 0.7579:  94%|████████████████████████████████████████████████████████████████████████████████████████████████████████████████████████████████████▎       | 137/145 [00:03<00:00, 17.28it/s]"
     ]
    },
    {
     "name": "stdout",
     "output_type": "stream",
     "text": [
      "EarlyStopping counter: 8 out of 20\n"
     ]
    },
    {
     "name": "stderr",
     "output_type": "stream",
     "text": [
      "Epoch 10: loss 0.508380 0.7579: 100%|████████████████████████████████████████████████████████████████████████████████████████████████████████████████████████████████████████████| 145/145 [00:03<00:00, 37.57it/s]\n",
      "Epoch 11: loss 0.505018 0.7576:  86%|████████████████████████████████████████████████████████████████████████████████████████████████████████████████████████▋                   | 125/145 [00:02<00:00, 66.65it/s]\n",
      "  0%|                                                                                                                                                                                       | 0/37 [00:00<?, ?it/s]\u001b[A\n",
      "Valid 11: loss 0.517683 0.7578:   0%|                                                                                                                                                       | 0/37 [00:00<?, ?it/s]\u001b[A\n",
      "Valid 11: loss 0.517683 0.7578:   3%|███▊                                                                                                                                           | 1/37 [00:00<00:19,  1.82it/s]\u001b[A\n",
      "Valid 11: loss 0.534134 0.7233:   3%|███▊                                                                                                                                           | 1/37 [00:00<00:19,  1.82it/s]\u001b[A\n",
      "Valid 11: loss 0.472060 0.7672:   3%|███▊                                                                                                                                           | 1/37 [00:00<00:19,  1.82it/s]\u001b[A\n",
      "Valid 11: loss 0.463796 0.7857:   3%|███▊                                                                                                                                           | 1/37 [00:00<00:19,  1.82it/s]\u001b[A\n",
      "Valid 11: loss 0.446222 0.8039:   3%|███▊                                                                                                                                           | 1/37 [00:00<00:19,  1.82it/s]\u001b[A\n",
      "Valid 11: loss 0.469590 0.6868:   3%|███▊                                                                                                                                           | 1/37 [00:00<00:19,  1.82it/s]\u001b[A\n",
      "Valid 11: loss 0.469933 0.7471:   3%|███▊                                                                                                                                           | 1/37 [00:00<00:19,  1.82it/s]\u001b[A\n",
      "Valid 11: loss 0.477756 0.7800:   3%|███▊                                                                                                                                           | 1/37 [00:00<00:19,  1.82it/s]\u001b[A\n",
      "Valid 11: loss 0.492533 0.6571:   3%|███▊                                                                                                                                           | 1/37 [00:00<00:19,  1.82it/s]\u001b[A\n",
      "Valid 11: loss 0.503287 0.5962:   3%|███▊                                                                                                                                           | 1/37 [00:00<00:19,  1.82it/s]\u001b[A\n",
      "Valid 11: loss 0.503287 0.5962:  27%|██████████████████████████████████████▍                                                                                                       | 10/37 [00:00<00:01, 19.74it/s]\u001b[A\n",
      "Valid 11: loss 0.496084 0.7997:  27%|██████████████████████████████████████▍                                                                                                       | 10/37 [00:00<00:01, 19.74it/s]\u001b[A\n",
      "Valid 11: loss 0.494918 0.7372:  27%|██████████████████████████████████████▍                                                                                                       | 10/37 [00:00<00:01, 19.74it/s]\u001b[A\n",
      "Valid 11: loss 0.485328 0.8158:  27%|██████████████████████████████████████▍                                                                                                       | 10/37 [00:00<00:01, 19.74it/s]\u001b[A\n",
      "Valid 11: loss 0.487642 0.7833:  27%|██████████████████████████████████████▍                                                                                                       | 10/37 [00:00<00:01, 19.74it/s]\u001b[A\n",
      "Valid 11: loss 0.484884 0.7971:  27%|██████████████████████████████████████▍                                                                                                       | 10/37 [00:00<00:01, 19.74it/s]\u001b[A\n",
      "Valid 11: loss 0.481261 0.8293:  27%|██████████████████████████████████████▍                                                                                                       | 10/37 [00:00<00:01, 19.74it/s]\u001b[A\n",
      "Valid 11: loss 0.483877 0.6868:  27%|██████████████████████████████████████▍                                                                                                       | 10/37 [00:00<00:01, 19.74it/s]\u001b[A\n",
      "Valid 11: loss 0.486016 0.7965:  27%|██████████████████████████████████████▍                                                                                                       | 10/37 [00:00<00:01, 19.74it/s]\u001b[A\n",
      "Valid 11: loss 0.492712 0.7150:  27%|██████████████████████████████████████▍                                                                                                       | 10/37 [00:00<00:01, 19.74it/s]\u001b[A\n",
      "Valid 11: loss 0.492712 0.7150:  51%|████████████████████████████████████████████████████████████████████████▉                                                                     | 19/37 [00:00<00:00, 35.04it/s]\u001b[A\n",
      "Valid 11: loss 0.490221 0.8237:  51%|████████████████████████████████████████████████████████████████████████▉                                                                     | 19/37 [00:00<00:00, 35.04it/s]\u001b[A\n",
      "Valid 11: loss 0.489555 0.7371:  51%|████████████████████████████████████████████████████████████████████████▉                                                                     | 19/37 [00:00<00:00, 35.04it/s]\u001b[A\n",
      "Valid 11: loss 0.492294 0.7303:  51%|████████████████████████████████████████████████████████████████████████▉                                                                     | 19/37 [00:00<00:00, 35.04it/s]\u001b[A\n",
      "Valid 11: loss 0.492085 0.7500:  51%|████████████████████████████████████████████████████████████████████████▉                                                                     | 19/37 [00:00<00:00, 35.04it/s]\u001b[A\n",
      "Valid 11: loss 0.491227 0.8148:  51%|████████████████████████████████████████████████████████████████████████▉                                                                     | 19/37 [00:00<00:00, 35.04it/s]\u001b[A\n",
      "Valid 11: loss 0.494667 0.6948:  51%|████████████████████████████████████████████████████████████████████████▉                                                                     | 19/37 [00:00<00:00, 35.04it/s]\u001b[A\n",
      "Valid 11: loss 0.497439 0.8000:  51%|████████████████████████████████████████████████████████████████████████▉                                                                     | 19/37 [00:00<00:00, 35.04it/s]\u001b[A\n",
      "Valid 11: loss 0.498346 0.7705:  51%|████████████████████████████████████████████████████████████████████████▉                                                                     | 19/37 [00:00<00:00, 35.04it/s]\u001b[A\n",
      "Valid 11: loss 0.498346 0.7705:  73%|███████████████████████████████████████████████████████████████████████████████████████████████████████▌                                      | 27/37 [00:00<00:00, 44.89it/s]\u001b[A\n",
      "Valid 11: loss 0.497987 0.7922:  73%|███████████████████████████████████████████████████████████████████████████████████████████████████████▌                                      | 27/37 [00:00<00:00, 44.89it/s]\u001b[A\n",
      "Valid 11: loss 0.500223 0.7289:  73%|███████████████████████████████████████████████████████████████████████████████████████████████████████▌                                      | 27/37 [00:00<00:00, 44.89it/s]\u001b[A\n",
      "Valid 11: loss 0.498621 0.7833:  73%|███████████████████████████████████████████████████████████████████████████████████████████████████████▌                                      | 27/37 [00:00<00:00, 44.89it/s]\u001b[A\n",
      "Valid 11: loss 0.502971 0.7311:  73%|███████████████████████████████████████████████████████████████████████████████████████████████████████▌                                      | 27/37 [00:00<00:00, 44.89it/s]\u001b[A\n"
     ]
    },
    {
     "name": "stderr",
     "output_type": "stream",
     "text": [
      "Valid 11: loss 0.505130 0.7400:  73%|███████████████████████████████████████████████████████████████████████████████████████████████████████▌                                      | 27/37 [00:00<00:00, 44.89it/s]\u001b[A\n",
      "Valid 11: loss 0.506685 0.7471:  73%|███████████████████████████████████████████████████████████████████████████████████████████████████████▌                                      | 27/37 [00:00<00:00, 44.89it/s]\u001b[A\n",
      "Valid 11: loss 0.512598 0.5695:  73%|███████████████████████████████████████████████████████████████████████████████████████████████████████▌                                      | 27/37 [00:00<00:00, 44.89it/s]\u001b[A\n",
      "Valid 11: loss 0.514209 0.6528:  73%|███████████████████████████████████████████████████████████████████████████████████████████████████████▌                                      | 27/37 [00:00<00:00, 44.89it/s]\u001b[A\n",
      "Valid 11: loss 0.513666 0.7562:  73%|███████████████████████████████████████████████████████████████████████████████████████████████████████▌                                      | 27/37 [00:00<00:00, 44.89it/s]\u001b[A\n",
      "Valid 11: loss 0.522629 0.7857:  73%|███████████████████████████████████████████████████████████████████████████████████████████████████████▌                                      | 27/37 [00:00<00:00, 44.89it/s]\u001b[A\n",
      "Valid 11: loss 0.522629 0.7857: 100%|██████████████████████████████████████████████████████████████████████████████████████████████████████████████████████████████████████████████| 37/37 [00:01<00:00, 34.38it/s]\u001b[A\n",
      "Epoch 11: loss 0.506541 0.7567: 100%|████████████████████████████████████████████████████████████████████████████████████████████████████████████████████████████████████████████| 145/145 [00:03<00:00, 39.98it/s]\n"
     ]
    },
    {
     "name": "stdout",
     "output_type": "stream",
     "text": [
      "EarlyStopping counter: 9 out of 20\n"
     ]
    },
    {
     "name": "stderr",
     "output_type": "stream",
     "text": [
      "Epoch 12: loss 0.507582 0.7612:  89%|████████████████████████████████████████████████████████████████████████████████████████████████████████████████████████████▌               | 129/145 [00:02<00:00, 67.67it/s]\n",
      "  0%|                                                                                                                                                                                       | 0/37 [00:00<?, ?it/s]\u001b[A\n",
      "Valid 12: loss 0.478343 0.7770:   0%|                                                                                                                                                       | 0/37 [00:00<?, ?it/s]\u001b[A\n",
      "Valid 12: loss 0.478343 0.7770:   3%|███▊                                                                                                                                           | 1/37 [00:00<00:21,  1.71it/s]\u001b[A\n",
      "Valid 12: loss 0.460683 0.7620:   3%|███▊                                                                                                                                           | 1/37 [00:00<00:21,  1.71it/s]\u001b[A\n",
      "Valid 12: loss 0.492047 0.7053:   3%|███▊                                                                                                                                           | 1/37 [00:00<00:21,  1.71it/s]\u001b[A\n",
      "Valid 12: loss 0.494452 0.7564:   3%|███▊                                                                                                                                           | 1/37 [00:00<00:21,  1.71it/s]\u001b[A\n",
      "Valid 12: loss 0.527173 0.6266:   3%|███▊                                                                                                                                           | 1/37 [00:00<00:21,  1.71it/s]\u001b[A\n",
      "Valid 12: loss 0.538460 0.7067:   3%|███▊                                                                                                                                           | 1/37 [00:00<00:21,  1.71it/s]\u001b[A\n",
      "Valid 12: loss 0.550086 0.6330:   3%|███▊                                                                                                                                           | 1/37 [00:00<00:21,  1.71it/s]\u001b[A\n",
      "Valid 12: loss 0.535758 0.7587:   3%|███▊                                                                                                                                           | 1/37 [00:00<00:21,  1.71it/s]\u001b[A\n",
      "Valid 12: loss 0.536834 0.6604:   3%|███▊                                                                                                                                           | 1/37 [00:00<00:21,  1.71it/s]\u001b[A\n",
      "Valid 12: loss 0.531489 0.8231:   3%|███▊                                                                                                                                           | 1/37 [00:00<00:21,  1.71it/s]\u001b[A\n",
      "Valid 12: loss 0.531489 0.8231:  27%|██████████████████████████████████████▍                                                                                                       | 10/37 [00:00<00:01, 18.65it/s]\u001b[A\n",
      "Valid 12: loss 0.524457 0.8333:  27%|██████████████████████████████████████▍                                                                                                       | 10/37 [00:00<00:01, 18.65it/s]\u001b[A\n",
      "Valid 12: loss 0.530742 0.7036:  27%|██████████████████████████████████████▍                                                                                                       | 10/37 [00:00<00:01, 18.65it/s]\u001b[A\n",
      "Valid 12: loss 0.519398 0.8420:  27%|██████████████████████████████████████▍                                                                                                       | 10/37 [00:00<00:01, 18.65it/s]\u001b[A\n",
      "Valid 12: loss 0.517413 0.8052:  27%|██████████████████████████████████████▍                                                                                                       | 10/37 [00:00<00:01, 18.65it/s]\u001b[A\n",
      "Valid 12: loss 0.514497 0.7866:  27%|██████████████████████████████████████▍                                                                                                       | 10/37 [00:00<00:01, 18.65it/s]\u001b[A\n",
      "Valid 12: loss 0.517696 0.6834:  27%|██████████████████████████████████████▍                                                                                                       | 10/37 [00:00<00:01, 18.65it/s]\u001b[A\n",
      "Valid 12: loss 0.507402 0.8235:  27%|██████████████████████████████████████▍                                                                                                       | 10/37 [00:00<00:01, 18.65it/s]\u001b[A\n",
      "Valid 12: loss 0.507932 0.7800:  27%|██████████████████████████████████████▍                                                                                                       | 10/37 [00:00<00:01, 18.65it/s]\u001b[A\n",
      "Valid 12: loss 0.509618 0.7646:  27%|██████████████████████████████████████▍                                                                                                       | 10/37 [00:00<00:01, 18.65it/s]\u001b[A\n",
      "Valid 12: loss 0.509618 0.7646:  51%|████████████████████████████████████████████████████████████████████████▉                                                                     | 19/37 [00:00<00:00, 34.02it/s]\u001b[A\n",
      "Valid 12: loss 0.505591 0.7674:  51%|████████████████████████████████████████████████████████████████████████▉                                                                     | 19/37 [00:00<00:00, 34.02it/s]\u001b[A\n",
      "Valid 12: loss 0.504670 0.7583:  51%|████████████████████████████████████████████████████████████████████████▉                                                                     | 19/37 [00:00<00:00, 34.02it/s]\u001b[A\n",
      "Valid 12: loss 0.510632 0.7305:  51%|████████████████████████████████████████████████████████████████████████▉                                                                     | 19/37 [00:00<00:00, 34.02it/s]\u001b[A\n",
      "Valid 12: loss 0.507405 0.7743:  51%|████████████████████████████████████████████████████████████████████████▉                                                                     | 19/37 [00:00<00:00, 34.02it/s]\u001b[A\n",
      "Valid 12: loss 0.507759 0.7512:  51%|████████████████████████████████████████████████████████████████████████▉                                                                     | 19/37 [00:00<00:00, 34.02it/s]\u001b[A\n",
      "Valid 12: loss 0.511413 0.6452:  51%|████████████████████████████████████████████████████████████████████████▉                                                                     | 19/37 [00:00<00:00, 34.02it/s]\u001b[A\n",
      "Valid 12: loss 0.507952 0.7890:  51%|████████████████████████████████████████████████████████████████████████▉                                                                     | 19/37 [00:00<00:00, 34.02it/s]\u001b[A\n",
      "Valid 12: loss 0.507952 0.7890:  70%|███████████████████████████████████████████████████████████████████████████████████████████████████▊                                          | 26/37 [00:00<00:00, 41.76it/s]\u001b[A\n",
      "Valid 12: loss 0.506052 0.8519:  70%|███████████████████████████████████████████████████████████████████████████████████████████████████▊                                          | 26/37 [00:00<00:00, 41.76it/s]\u001b[A\n",
      "Valid 12: loss 0.510930 0.6607:  70%|███████████████████████████████████████████████████████████████████████████████████████████████████▊                                          | 26/37 [00:00<00:00, 41.76it/s]\u001b[A\n",
      "Valid 12: loss 0.512561 0.6833:  70%|███████████████████████████████████████████████████████████████████████████████████████████████████▊                                          | 26/37 [00:00<00:00, 41.76it/s]\u001b[A\n",
      "Valid 12: loss 0.510801 0.6898:  70%|███████████████████████████████████████████████████████████████████████████████████████████████████▊                                          | 26/37 [00:00<00:00, 41.76it/s]\u001b[A\n",
      "Valid 12: loss 0.513599 0.7403:  70%|███████████████████████████████████████████████████████████████████████████████████████████████████▊                                          | 26/37 [00:00<00:00, 41.76it/s]\u001b[A\n",
      "Valid 12: loss 0.515959 0.7244:  70%|███████████████████████████████████████████████████████████████████████████████████████████████████▊                                          | 26/37 [00:00<00:00, 41.76it/s]\u001b[A\n"
     ]
    },
    {
     "name": "stderr",
     "output_type": "stream",
     "text": [
      "Valid 12: loss 0.516746 0.6723:  70%|███████████████████████████████████████████████████████████████████████████████████████████████████▊                                          | 26/37 [00:00<00:00, 41.76it/s]\u001b[A\n",
      "Valid 12: loss 0.518260 0.6465:  70%|███████████████████████████████████████████████████████████████████████████████████████████████████▊                                          | 26/37 [00:00<00:00, 41.76it/s]\u001b[A\n",
      "Valid 12: loss 0.516551 0.7708:  70%|███████████████████████████████████████████████████████████████████████████████████████████████████▊                                          | 26/37 [00:00<00:00, 41.76it/s]\u001b[A\n",
      "Valid 12: loss 0.520195 0.6490:  70%|███████████████████████████████████████████████████████████████████████████████████████████████████▊                                          | 26/37 [00:00<00:00, 41.76it/s]\u001b[A\n",
      "Valid 12: loss 0.521155 0.6500: 100%|██████████████████████████████████████████████████████████████████████████████████████████████████████████████████████████████████████████████| 37/37 [00:01<00:00, 33.34it/s]\u001b[A\n",
      "Epoch 12: loss 0.505476 0.7617:  99%|███████████████████████████████████████████████████████████████████████████████████████████████████████████████████████████████████████████ | 144/145 [00:03<00:00, 22.40it/s]"
     ]
    },
    {
     "name": "stdout",
     "output_type": "stream",
     "text": [
      "EarlyStopping counter: 10 out of 20\n"
     ]
    },
    {
     "name": "stderr",
     "output_type": "stream",
     "text": [
      "Epoch 12: loss 0.505476 0.7617: 100%|████████████████████████████████████████████████████████████████████████████████████████████████████████████████████████████████████████████| 145/145 [00:03<00:00, 37.51it/s]\n",
      "Epoch 13: loss 0.503107 0.7577:  86%|████████████████████████████████████████████████████████████████████████████████████████████████████████████████████████▋                   | 125/145 [00:02<00:00, 68.78it/s]\n",
      "  0%|                                                                                                                                                                                       | 0/37 [00:00<?, ?it/s]\u001b[A\n",
      "Valid 13: loss 0.476319 0.7770:   0%|                                                                                                                                                       | 0/37 [00:00<?, ?it/s]\u001b[A\n",
      "Valid 13: loss 0.476319 0.7770:   3%|███▊                                                                                                                                           | 1/37 [00:00<00:19,  1.86it/s]\u001b[A\n",
      "Valid 13: loss 0.524100 0.7035:   3%|███▊                                                                                                                                           | 1/37 [00:00<00:19,  1.86it/s]\u001b[A\n",
      "Valid 13: loss 0.564211 0.7167:   3%|███▊                                                                                                                                           | 1/37 [00:00<00:19,  1.86it/s]\u001b[A\n",
      "Valid 13: loss 0.556193 0.7370:   3%|███▊                                                                                                                                           | 1/37 [00:00<00:19,  1.86it/s]\u001b[A\n",
      "Valid 13: loss 0.544886 0.7709:   3%|███▊                                                                                                                                           | 1/37 [00:00<00:19,  1.86it/s]\u001b[A\n",
      "Valid 13: loss 0.550195 0.6833:   3%|███▊                                                                                                                                           | 1/37 [00:00<00:19,  1.86it/s]\u001b[A\n",
      "Valid 13: loss 0.543687 0.7488:   3%|███▊                                                                                                                                           | 1/37 [00:00<00:19,  1.86it/s]\u001b[A\n",
      "Valid 13: loss 0.514080 0.9048:   3%|███▊                                                                                                                                           | 1/37 [00:00<00:19,  1.86it/s]\u001b[A\n",
      "Valid 13: loss 0.519033 0.6910:   3%|███▊                                                                                                                                           | 1/37 [00:00<00:19,  1.86it/s]\u001b[A\n",
      "Valid 13: loss 0.510492 0.8227:   3%|███▊                                                                                                                                           | 1/37 [00:00<00:19,  1.86it/s]\u001b[A\n",
      "Valid 13: loss 0.513546 0.7800:   3%|███▊                                                                                                                                           | 1/37 [00:00<00:19,  1.86it/s]\u001b[A\n",
      "Valid 13: loss 0.513546 0.7800:  30%|██████████████████████████████████████████▏                                                                                                   | 11/37 [00:00<00:01, 22.31it/s]\u001b[A\n",
      "Valid 13: loss 0.496352 0.9444:  30%|██████████████████████████████████████████▏                                                                                                   | 11/37 [00:00<00:01, 22.31it/s]\u001b[A\n",
      "Valid 13: loss 0.499840 0.7233:  30%|██████████████████████████████████████████▏                                                                                                   | 11/37 [00:00<00:01, 22.31it/s]\u001b[A\n",
      "Valid 13: loss 0.495339 0.8054:  30%|██████████████████████████████████████████▏                                                                                                   | 11/37 [00:00<00:01, 22.31it/s]\u001b[A\n",
      "Valid 13: loss 0.491313 0.8141:  30%|██████████████████████████████████████████▏                                                                                                   | 11/37 [00:00<00:01, 22.31it/s]\u001b[A\n",
      "Valid 13: loss 0.487179 0.8101:  30%|██████████████████████████████████████████▏                                                                                                   | 11/37 [00:00<00:01, 22.31it/s]\u001b[A\n",
      "Valid 13: loss 0.490382 0.7600:  30%|██████████████████████████████████████████▏                                                                                                   | 11/37 [00:00<00:01, 22.31it/s]\u001b[A\n",
      "Valid 13: loss 0.490769 0.7833:  30%|██████████████████████████████████████████▏                                                                                                   | 11/37 [00:00<00:01, 22.31it/s]\u001b[A\n",
      "Valid 13: loss 0.494922 0.7260:  30%|██████████████████████████████████████████▏                                                                                                   | 11/37 [00:00<00:01, 22.31it/s]\u001b[A\n",
      "Valid 13: loss 0.499688 0.6731:  30%|██████████████████████████████████████████▏                                                                                                   | 11/37 [00:00<00:01, 22.31it/s]\u001b[A\n",
      "Valid 13: loss 0.499688 0.6731:  54%|████████████████████████████████████████████████████████████████████████████▊                                                                 | 20/37 [00:00<00:00, 36.96it/s]\u001b[A\n",
      "Valid 13: loss 0.497497 0.7487:  54%|████████████████████████████████████████████████████████████████████████████▊                                                                 | 20/37 [00:00<00:00, 36.96it/s]\u001b[A\n",
      "Valid 13: loss 0.495221 0.8052:  54%|████████████████████████████████████████████████████████████████████████████▊                                                                 | 20/37 [00:00<00:00, 36.96it/s]\u001b[A\n",
      "Valid 13: loss 0.492400 0.7500:  54%|████████████████████████████████████████████████████████████████████████████▊                                                                 | 20/37 [00:00<00:00, 36.96it/s]\u001b[A\n",
      "Valid 13: loss 0.497686 0.7000:  54%|████████████████████████████████████████████████████████████████████████████▊                                                                 | 20/37 [00:00<00:00, 36.96it/s]\u001b[A\n",
      "Valid 13: loss 0.503177 0.7150:  54%|████████████████████████████████████████████████████████████████████████████▊                                                                 | 20/37 [00:00<00:00, 36.96it/s]\u001b[A\n",
      "Valid 13: loss 0.508403 0.6528:  54%|████████████████████████████████████████████████████████████████████████████▊                                                                 | 20/37 [00:00<00:00, 36.96it/s]\u001b[A\n",
      "Valid 13: loss 0.505855 0.7833:  54%|████████████████████████████████████████████████████████████████████████████▊                                                                 | 20/37 [00:00<00:00, 36.96it/s]\u001b[A\n",
      "Valid 13: loss 0.505855 0.7833:  73%|███████████████████████████████████████████████████████████████████████████████████████████████████████▌                                      | 27/37 [00:00<00:00, 44.27it/s]\u001b[A\n",
      "Valid 13: loss 0.511860 0.6600:  73%|███████████████████████████████████████████████████████████████████████████████████████████████████████▌                                      | 27/37 [00:00<00:00, 44.27it/s]\u001b[A\n",
      "Valid 13: loss 0.509788 0.8076:  73%|███████████████████████████████████████████████████████████████████████████████████████████████████████▌                                      | 27/37 [00:00<00:00, 44.27it/s]\u001b[A\n",
      "Valid 13: loss 0.511616 0.8068:  73%|███████████████████████████████████████████████████████████████████████████████████████████████████████▌                                      | 27/37 [00:00<00:00, 44.27it/s]\u001b[A\n",
      "Valid 13: loss 0.512263 0.7600:  73%|███████████████████████████████████████████████████████████████████████████████████████████████████████▌                                      | 27/37 [00:00<00:00, 44.27it/s]\u001b[A\n"
     ]
    },
    {
     "name": "stderr",
     "output_type": "stream",
     "text": [
      "Valid 13: loss 0.509469 0.8293:  73%|███████████████████████████████████████████████████████████████████████████████████████████████████████▌                                      | 27/37 [00:00<00:00, 44.27it/s]\u001b[A\n",
      "Valid 13: loss 0.506711 0.8663:  73%|███████████████████████████████████████████████████████████████████████████████████████████████████████▌                                      | 27/37 [00:00<00:00, 44.27it/s]\u001b[A\n",
      "Valid 13: loss 0.507544 0.6705:  73%|███████████████████████████████████████████████████████████████████████████████████████████████████████▌                                      | 27/37 [00:00<00:00, 44.27it/s]\u001b[A\n",
      "Valid 13: loss 0.507492 0.7830:  73%|███████████████████████████████████████████████████████████████████████████████████████████████████████▌                                      | 27/37 [00:00<00:00, 44.27it/s]\u001b[A\n",
      "Valid 13: loss 0.512103 0.6429:  73%|███████████████████████████████████████████████████████████████████████████████████████████████████████▌                                      | 27/37 [00:00<00:00, 44.27it/s]\u001b[A\n",
      "Valid 13: loss 0.511537 0.9167: 100%|██████████████████████████████████████████████████████████████████████████████████████████████████████████████████████████████████████████████| 37/37 [00:01<00:00, 35.44it/s]\u001b[A\n",
      "Epoch 13: loss 0.504845 0.7575: 100%|████████████████████████████████████████████████████████████████████████████████████████████████████████████████████████████████████████████| 145/145 [00:03<00:00, 28.13it/s]"
     ]
    },
    {
     "name": "stdout",
     "output_type": "stream",
     "text": [
      "EarlyStopping counter: 11 out of 20\n"
     ]
    },
    {
     "name": "stderr",
     "output_type": "stream",
     "text": [
      "Epoch 13: loss 0.504845 0.7575: 100%|████████████████████████████████████████████████████████████████████████████████████████████████████████████████████████████████████████████| 145/145 [00:03<00:00, 39.58it/s]\n",
      "Epoch 14: loss 0.501306 0.7629:  86%|███████████████████████████████████████████████████████████████████████████████████████████████████████████████████████▋                    | 124/145 [00:02<00:00, 62.89it/s]\n",
      "  0%|                                                                                                                                                                                       | 0/37 [00:00<?, ?it/s]\u001b[A\n",
      "Valid 14: loss 0.644743 0.6240:   0%|                                                                                                                                                       | 0/37 [00:00<?, ?it/s]\u001b[A\n",
      "Valid 14: loss 0.644743 0.6240:   3%|███▊                                                                                                                                           | 1/37 [00:00<00:18,  1.95it/s]\u001b[A\n",
      "Valid 14: loss 0.544643 0.8167:   3%|███▊                                                                                                                                           | 1/37 [00:00<00:18,  1.95it/s]\u001b[A\n",
      "Valid 14: loss 0.508483 0.8413:   3%|███▊                                                                                                                                           | 1/37 [00:00<00:18,  1.95it/s]\u001b[A\n",
      "Valid 14: loss 0.467146 0.9391:   3%|███▊                                                                                                                                           | 1/37 [00:00<00:18,  1.95it/s]\u001b[A\n",
      "Valid 14: loss 0.468987 0.7890:   3%|███▊                                                                                                                                           | 1/37 [00:00<00:18,  1.95it/s]\u001b[A\n",
      "Valid 14: loss 0.495561 0.6569:   3%|███▊                                                                                                                                           | 1/37 [00:00<00:18,  1.95it/s]\u001b[A\n",
      "Valid 14: loss 0.500085 0.8000:   3%|███▊                                                                                                                                           | 1/37 [00:00<00:18,  1.95it/s]\u001b[A\n",
      "Valid 14: loss 0.488619 0.8227:   3%|███▊                                                                                                                                           | 1/37 [00:00<00:18,  1.95it/s]\u001b[A\n",
      "Valid 14: loss 0.486243 0.8081:   3%|███▊                                                                                                                                           | 1/37 [00:00<00:18,  1.95it/s]\u001b[A\n",
      "Valid 14: loss 0.494397 0.7464:   3%|███▊                                                                                                                                           | 1/37 [00:00<00:18,  1.95it/s]\u001b[A\n",
      "Valid 14: loss 0.505016 0.7469:   3%|███▊                                                                                                                                           | 1/37 [00:00<00:18,  1.95it/s]\u001b[A\n",
      "Valid 14: loss 0.505016 0.7469:  30%|██████████████████████████████████████████▏                                                                                                   | 11/37 [00:00<00:01, 22.69it/s]\u001b[A\n",
      "Valid 14: loss 0.509588 0.6812:  30%|██████████████████████████████████████████▏                                                                                                   | 11/37 [00:00<00:01, 22.69it/s]\u001b[A\n",
      "Valid 14: loss 0.504636 0.7917:  30%|██████████████████████████████████████████▏                                                                                                   | 11/37 [00:00<00:01, 22.69it/s]\u001b[A\n",
      "Valid 14: loss 0.511304 0.7208:  30%|██████████████████████████████████████████▏                                                                                                   | 11/37 [00:00<00:01, 22.69it/s]\u001b[A\n",
      "Valid 14: loss 0.507300 0.8142:  30%|██████████████████████████████████████████▏                                                                                                   | 11/37 [00:00<00:01, 22.69it/s]\u001b[A\n",
      "Valid 14: loss 0.499817 0.7922:  30%|██████████████████████████████████████████▏                                                                                                   | 11/37 [00:00<00:01, 22.69it/s]\u001b[A\n",
      "Valid 14: loss 0.502647 0.6333:  30%|██████████████████████████████████████████▏                                                                                                   | 11/37 [00:00<00:01, 22.69it/s]\u001b[A\n",
      "Valid 14: loss 0.503942 0.7420:  30%|██████████████████████████████████████████▏                                                                                                   | 11/37 [00:00<00:01, 22.69it/s]\u001b[A\n",
      "Valid 14: loss 0.503942 0.7420:  49%|█████████████████████████████████████████████████████████████████████                                                                         | 18/37 [00:00<00:00, 33.13it/s]\u001b[A\n",
      "Valid 14: loss 0.502840 0.7833:  49%|█████████████████████████████████████████████████████████████████████                                                                         | 18/37 [00:00<00:00, 33.13it/s]\u001b[A\n",
      "Valid 14: loss 0.500810 0.7705:  49%|█████████████████████████████████████████████████████████████████████                                                                         | 18/37 [00:00<00:00, 33.13it/s]\u001b[A\n",
      "Valid 14: loss 0.505879 0.7170:  49%|█████████████████████████████████████████████████████████████████████                                                                         | 18/37 [00:00<00:00, 33.13it/s]\u001b[A\n",
      "Valid 14: loss 0.506175 0.8079:  49%|█████████████████████████████████████████████████████████████████████                                                                         | 18/37 [00:00<00:00, 33.13it/s]\u001b[A\n",
      "Valid 14: loss 0.499492 0.9200:  49%|█████████████████████████████████████████████████████████████████████                                                                         | 18/37 [00:00<00:00, 33.13it/s]\u001b[A\n",
      "Valid 14: loss 0.493829 0.8302:  49%|█████████████████████████████████████████████████████████████████████                                                                         | 18/37 [00:00<00:00, 33.13it/s]\u001b[A\n",
      "Valid 14: loss 0.495924 0.7548:  49%|█████████████████████████████████████████████████████████████████████                                                                         | 18/37 [00:00<00:00, 33.13it/s]\u001b[A\n",
      "Valid 14: loss 0.495924 0.7548:  68%|███████████████████████████████████████████████████████████████████████████████████████████████▉                                              | 25/37 [00:00<00:00, 41.08it/s]\u001b[A\n",
      "Valid 14: loss 0.500864 0.6900:  68%|███████████████████████████████████████████████████████████████████████████████████████████████▉                                              | 25/37 [00:00<00:00, 41.08it/s]\u001b[A\n",
      "Valid 14: loss 0.500188 0.7965:  68%|███████████████████████████████████████████████████████████████████████████████████████████████▉                                              | 25/37 [00:00<00:00, 41.08it/s]\u001b[A\n",
      "Valid 14: loss 0.498018 0.8172:  68%|███████████████████████████████████████████████████████████████████████████████████████████████▉                                              | 25/37 [00:00<00:00, 41.08it/s]\u001b[A\n",
      "Valid 14: loss 0.496640 0.7750:  68%|███████████████████████████████████████████████████████████████████████████████████████████████▉                                              | 25/37 [00:00<00:00, 41.08it/s]\u001b[A\n",
      "Valid 14: loss 0.498045 0.7212:  68%|███████████████████████████████████████████████████████████████████████████████████████████████▉                                              | 25/37 [00:00<00:00, 41.08it/s]\u001b[A\n",
      "Valid 14: loss 0.504049 0.6750:  68%|███████████████████████████████████████████████████████████████████████████████████████████████▉                                              | 25/37 [00:00<00:00, 41.08it/s]\u001b[A\n"
     ]
    },
    {
     "name": "stderr",
     "output_type": "stream",
     "text": [
      "Valid 14: loss 0.506169 0.6843:  68%|███████████████████████████████████████████████████████████████████████████████████████████████▉                                              | 25/37 [00:00<00:00, 41.08it/s]\u001b[A\n",
      "Valid 14: loss 0.508975 0.7175:  68%|███████████████████████████████████████████████████████████████████████████████████████████████▉                                              | 25/37 [00:00<00:00, 41.08it/s]\u001b[A\n",
      "Valid 14: loss 0.507776 0.8328:  68%|███████████████████████████████████████████████████████████████████████████████████████████████▉                                              | 25/37 [00:00<00:00, 41.08it/s]\u001b[A\n",
      "Valid 14: loss 0.511536 0.6500:  68%|███████████████████████████████████████████████████████████████████████████████████████████████▉                                              | 25/37 [00:00<00:00, 41.08it/s]\u001b[A\n",
      "Valid 14: loss 0.512259 0.6600:  68%|███████████████████████████████████████████████████████████████████████████████████████████████▉                                              | 25/37 [00:00<00:00, 41.08it/s]\u001b[A\n",
      "Valid 14: loss 0.524028 0.6071:  68%|███████████████████████████████████████████████████████████████████████████████████████████████▉                                              | 25/37 [00:00<00:00, 41.08it/s]\u001b[A\n",
      "Valid 14: loss 0.524028 0.6071: 100%|██████████████████████████████████████████████████████████████████████████████████████████████████████████████████████████████████████████████| 37/37 [00:01<00:00, 35.33it/s]\u001b[A\n",
      "Epoch 14: loss 0.502140 0.7619: 100%|████████████████████████████████████████████████████████████████████████████████████████████████████████████████████████████████████████████| 145/145 [00:03<00:00, 28.26it/s]"
     ]
    },
    {
     "name": "stdout",
     "output_type": "stream",
     "text": [
      "EarlyStopping counter: 12 out of 20\n"
     ]
    },
    {
     "name": "stderr",
     "output_type": "stream",
     "text": [
      "Epoch 14: loss 0.502140 0.7619: 100%|████████████████████████████████████████████████████████████████████████████████████████████████████████████████████████████████████████████| 145/145 [00:03<00:00, 38.79it/s]\n",
      "Epoch 15: loss 0.504997 0.7597:  84%|█████████████████████████████████████████████████████████████████████████████████████████████████████████████████████▊                      | 122/145 [00:02<00:00, 61.61it/s]\n",
      "  0%|                                                                                                                                                                                       | 0/37 [00:00<?, ?it/s]\u001b[A\n",
      "Valid 15: loss 0.546880 0.8140:   0%|                                                                                                                                                       | 0/37 [00:00<?, ?it/s]\u001b[A\n",
      "Valid 15: loss 0.546880 0.8140:   3%|███▊                                                                                                                                           | 1/37 [00:00<00:19,  1.83it/s]\u001b[A\n",
      "Valid 15: loss 0.552278 0.6806:   3%|███▊                                                                                                                                           | 1/37 [00:00<00:19,  1.83it/s]\u001b[A\n",
      "Valid 15: loss 0.522695 0.8083:   3%|███▊                                                                                                                                           | 1/37 [00:00<00:19,  1.83it/s]\u001b[A\n",
      "Valid 15: loss 0.493463 0.8068:   3%|███▊                                                                                                                                           | 1/37 [00:00<00:19,  1.83it/s]\u001b[A\n",
      "Valid 15: loss 0.488793 0.7952:   3%|███▊                                                                                                                                           | 1/37 [00:00<00:19,  1.83it/s]\u001b[A\n",
      "Valid 15: loss 0.479227 0.8798:   3%|███▊                                                                                                                                           | 1/37 [00:00<00:19,  1.83it/s]\u001b[A\n",
      "Valid 15: loss 0.489400 0.7333:   3%|███▊                                                                                                                                           | 1/37 [00:00<00:19,  1.83it/s]\u001b[A\n",
      "Valid 15: loss 0.501967 0.7200:   3%|███▊                                                                                                                                           | 1/37 [00:00<00:19,  1.83it/s]\u001b[A\n",
      "Valid 15: loss 0.516646 0.6587:   3%|███▊                                                                                                                                           | 1/37 [00:00<00:19,  1.83it/s]\u001b[A\n",
      "Valid 15: loss 0.535496 0.5552:   3%|███▊                                                                                                                                           | 1/37 [00:00<00:19,  1.83it/s]\u001b[A\n",
      "Valid 15: loss 0.518793 0.8990:   3%|███▊                                                                                                                                           | 1/37 [00:00<00:19,  1.83it/s]\u001b[A\n",
      "Valid 15: loss 0.517673 0.7496:   3%|███▊                                                                                                                                           | 1/37 [00:00<00:19,  1.83it/s]\u001b[A\n",
      "Valid 15: loss 0.517673 0.7496:  32%|██████████████████████████████████████████████                                                                                                | 12/37 [00:00<00:01, 23.82it/s]\u001b[A\n",
      "Valid 15: loss 0.513995 0.8052:  32%|██████████████████████████████████████████████                                                                                                | 12/37 [00:00<00:01, 23.82it/s]\u001b[A\n",
      "Valid 15: loss 0.519509 0.7163:  32%|██████████████████████████████████████████████                                                                                                | 12/37 [00:00<00:01, 23.82it/s]\u001b[A\n",
      "Valid 15: loss 0.515729 0.8019:  32%|██████████████████████████████████████████████                                                                                                | 12/37 [00:00<00:01, 23.82it/s]\u001b[A\n",
      "Valid 15: loss 0.523606 0.6806:  32%|██████████████████████████████████████████████                                                                                                | 12/37 [00:00<00:01, 23.82it/s]\u001b[A\n",
      "Valid 15: loss 0.523457 0.7250:  32%|██████████████████████████████████████████████                                                                                                | 12/37 [00:00<00:01, 23.82it/s]\u001b[A\n",
      "Valid 15: loss 0.518407 0.8108:  32%|██████████████████████████████████████████████                                                                                                | 12/37 [00:00<00:01, 23.82it/s]\u001b[A\n",
      "Valid 15: loss 0.510323 0.8463:  32%|██████████████████████████████████████████████                                                                                                | 12/37 [00:00<00:01, 23.82it/s]\u001b[A\n",
      "Valid 15: loss 0.510746 0.7365:  32%|██████████████████████████████████████████████                                                                                                | 12/37 [00:00<00:01, 23.82it/s]\u001b[A\n",
      "Valid 15: loss 0.505293 0.8302:  32%|██████████████████████████████████████████████                                                                                                | 12/37 [00:00<00:01, 23.82it/s]\u001b[A\n",
      "Valid 15: loss 0.505293 0.8302:  57%|████████████████████████████████████████████████████████████████████████████████▌                                                             | 21/37 [00:00<00:00, 38.28it/s]\u001b[A\n",
      "Valid 15: loss 0.506272 0.7370:  57%|████████████████████████████████████████████████████████████████████████████████▌                                                             | 21/37 [00:00<00:00, 38.28it/s]\u001b[A\n",
      "Valid 15: loss 0.505981 0.7537:  57%|████████████████████████████████████████████████████████████████████████████████▌                                                             | 21/37 [00:00<00:00, 38.28it/s]\u001b[A\n",
      "Valid 15: loss 0.499132 0.8760:  57%|████████████████████████████████████████████████████████████████████████████████▌                                                             | 21/37 [00:00<00:00, 38.28it/s]\u001b[A\n",
      "Valid 15: loss 0.501389 0.7667:  57%|████████████████████████████████████████████████████████████████████████████████▌                                                             | 21/37 [00:00<00:00, 38.28it/s]\u001b[A\n",
      "Valid 15: loss 0.501874 0.7431:  57%|████████████████████████████████████████████████████████████████████████████████▌                                                             | 21/37 [00:00<00:00, 38.28it/s]\u001b[A\n",
      "Valid 15: loss 0.501101 0.7600:  57%|████████████████████████████████████████████████████████████████████████████████▌                                                             | 21/37 [00:00<00:00, 38.28it/s]\u001b[A\n",
      "Valid 15: loss 0.499387 0.8000:  57%|████████████████████████████████████████████████████████████████████████████████▌                                                             | 21/37 [00:00<00:00, 38.28it/s]\u001b[A\n",
      "Valid 15: loss 0.497566 0.7578:  57%|████████████████████████████████████████████████████████████████████████████████▌                                                             | 21/37 [00:00<00:00, 38.28it/s]\u001b[A\n",
      "Valid 15: loss 0.497566 0.7578:  78%|███████████████████████████████████████████████████████████████████████████████████████████████████████████████▎                              | 29/37 [00:00<00:00, 45.57it/s]\u001b[A\n",
      "Valid 15: loss 0.503614 0.6812:  78%|███████████████████████████████████████████████████████████████████████████████████████████████████████████████▎                              | 29/37 [00:00<00:00, 45.57it/s]\u001b[A\n",
      "Valid 15: loss 0.500899 0.8000:  78%|███████████████████████████████████████████████████████████████████████████████████████████████████████████████▎                              | 29/37 [00:00<00:00, 45.57it/s]\u001b[A\n"
     ]
    },
    {
     "name": "stderr",
     "output_type": "stream",
     "text": [
      "Valid 15: loss 0.509899 0.5713:  78%|███████████████████████████████████████████████████████████████████████████████████████████████████████████████▎                              | 29/37 [00:00<00:00, 45.57it/s]\u001b[A\n",
      "Valid 15: loss 0.507754 0.7834:  78%|███████████████████████████████████████████████████████████████████████████████████████████████████████████████▎                              | 29/37 [00:00<00:00, 45.57it/s]\u001b[A\n",
      "Valid 15: loss 0.508563 0.7430:  78%|███████████████████████████████████████████████████████████████████████████████████████████████████████████████▎                              | 29/37 [00:00<00:00, 45.57it/s]\u001b[A\n",
      "Valid 15: loss 0.510281 0.7628:  78%|███████████████████████████████████████████████████████████████████████████████████████████████████████████████▎                              | 29/37 [00:00<00:00, 45.57it/s]\u001b[A\n",
      "Valid 15: loss 0.510750 0.7744:  78%|███████████████████████████████████████████████████████████████████████████████████████████████████████████████▎                              | 29/37 [00:00<00:00, 45.57it/s]\u001b[A\n",
      "Valid 15: loss 0.520022 0.7500: 100%|██████████████████████████████████████████████████████████████████████████████████████████████████████████████████████████████████████████████| 37/37 [00:01<00:00, 34.57it/s]\u001b[A\n",
      "Epoch 15: loss 0.504565 0.7597:  99%|███████████████████████████████████████████████████████████████████████████████████████████████████████████████████████████████████████████ | 144/145 [00:03<00:00, 27.85it/s]"
     ]
    },
    {
     "name": "stdout",
     "output_type": "stream",
     "text": [
      "EarlyStopping counter: 13 out of 20\n"
     ]
    },
    {
     "name": "stderr",
     "output_type": "stream",
     "text": [
      "Epoch 15: loss 0.504565 0.7597: 100%|████████████████████████████████████████████████████████████████████████████████████████████████████████████████████████████████████████████| 145/145 [00:03<00:00, 37.35it/s]\n",
      "Epoch 16: loss 0.502875 0.7570:  86%|████████████████████████████████████████████████████████████████████████████████████████████████████████████████████████▋                   | 125/145 [00:02<00:00, 66.12it/s]\n",
      "  0%|                                                                                                                                                                                       | 0/37 [00:00<?, ?it/s]\u001b[A\n",
      "Valid 16: loss 0.551367 0.6843:   0%|                                                                                                                                                       | 0/37 [00:00<?, ?it/s]\u001b[A\n",
      "Valid 16: loss 0.551367 0.6843:   3%|███▊                                                                                                                                           | 1/37 [00:00<00:19,  1.84it/s]\u001b[A\n",
      "Valid 16: loss 0.514395 0.8045:   3%|███▊                                                                                                                                           | 1/37 [00:00<00:19,  1.84it/s]\u001b[A\n",
      "Valid 16: loss 0.532091 0.7196:   3%|███▊                                                                                                                                           | 1/37 [00:00<00:19,  1.84it/s]\u001b[A\n",
      "Valid 16: loss 0.542458 0.7000:   3%|███▊                                                                                                                                           | 1/37 [00:00<00:19,  1.84it/s]\u001b[A\n",
      "Valid 16: loss 0.530250 0.7338:   3%|███▊                                                                                                                                           | 1/37 [00:00<00:19,  1.84it/s]\u001b[A\n",
      "Valid 16: loss 0.527296 0.7578:   3%|███▊                                                                                                                                           | 1/37 [00:00<00:19,  1.84it/s]\u001b[A\n",
      "Valid 16: loss 0.524916 0.8000:   3%|███▊                                                                                                                                           | 1/37 [00:00<00:19,  1.84it/s]\u001b[A\n",
      "Valid 16: loss 0.526306 0.6765:   3%|███▊                                                                                                                                           | 1/37 [00:00<00:19,  1.84it/s]\u001b[A\n",
      "Valid 16: loss 0.537723 0.6782:   3%|███▊                                                                                                                                           | 1/37 [00:00<00:19,  1.84it/s]\u001b[A\n",
      "Valid 16: loss 0.530636 0.7917:   3%|███▊                                                                                                                                           | 1/37 [00:00<00:19,  1.84it/s]\u001b[A\n",
      "Valid 16: loss 0.526184 0.7750:   3%|███▊                                                                                                                                           | 1/37 [00:00<00:19,  1.84it/s]\u001b[A\n",
      "Valid 16: loss 0.521248 0.7818:   3%|███▊                                                                                                                                           | 1/37 [00:00<00:19,  1.84it/s]\u001b[A\n",
      "Valid 16: loss 0.521248 0.7818:  32%|██████████████████████████████████████████████                                                                                                | 12/37 [00:00<00:01, 23.92it/s]\u001b[A\n",
      "Valid 16: loss 0.524160 0.7167:  32%|██████████████████████████████████████████████                                                                                                | 12/37 [00:00<00:01, 23.92it/s]\u001b[A\n",
      "Valid 16: loss 0.522851 0.7800:  32%|██████████████████████████████████████████████                                                                                                | 12/37 [00:00<00:01, 23.92it/s]\u001b[A\n",
      "Valid 16: loss 0.516543 0.8279:  32%|██████████████████████████████████████████████                                                                                                | 12/37 [00:00<00:01, 23.92it/s]\u001b[A\n",
      "Valid 16: loss 0.521000 0.6971:  32%|██████████████████████████████████████████████                                                                                                | 12/37 [00:00<00:01, 23.92it/s]\u001b[A\n",
      "Valid 16: loss 0.521055 0.7445:  32%|██████████████████████████████████████████████                                                                                                | 12/37 [00:00<00:01, 23.92it/s]\u001b[A\n",
      "Valid 16: loss 0.526308 0.7131:  32%|██████████████████████████████████████████████                                                                                                | 12/37 [00:00<00:01, 23.92it/s]\u001b[A\n",
      "Valid 16: loss 0.528989 0.7399:  32%|██████████████████████████████████████████████                                                                                                | 12/37 [00:00<00:01, 23.92it/s]\u001b[A\n",
      "Valid 16: loss 0.526831 0.7709:  32%|██████████████████████████████████████████████                                                                                                | 12/37 [00:00<00:01, 23.92it/s]\u001b[A\n",
      "Valid 16: loss 0.526831 0.7709:  54%|████████████████████████████████████████████████████████████████████████████▊                                                                 | 20/37 [00:00<00:00, 36.11it/s]\u001b[A\n",
      "Valid 16: loss 0.527812 0.7800:  54%|████████████████████████████████████████████████████████████████████████████▊                                                                 | 20/37 [00:00<00:00, 36.11it/s]\u001b[A\n",
      "Valid 16: loss 0.531000 0.7233:  54%|████████████████████████████████████████████████████████████████████████████▊                                                                 | 20/37 [00:00<00:00, 36.11it/s]\u001b[A\n",
      "Valid 16: loss 0.529490 0.7603:  54%|████████████████████████████████████████████████████████████████████████████▊                                                                 | 20/37 [00:00<00:00, 36.11it/s]\u001b[A\n",
      "Valid 16: loss 0.527086 0.7917:  54%|████████████████████████████████████████████████████████████████████████████▊                                                                 | 20/37 [00:00<00:00, 36.11it/s]\u001b[A\n",
      "Valid 16: loss 0.525154 0.7649:  54%|████████████████████████████████████████████████████████████████████████████▊                                                                 | 20/37 [00:00<00:00, 36.11it/s]\u001b[A\n",
      "Valid 16: loss 0.526074 0.7596:  54%|████████████████████████████████████████████████████████████████████████████▊                                                                 | 20/37 [00:00<00:00, 36.11it/s]\u001b[A\n",
      "Valid 16: loss 0.521983 0.8397:  54%|████████████████████████████████████████████████████████████████████████████▊                                                                 | 20/37 [00:00<00:00, 36.11it/s]\u001b[A\n",
      "Valid 16: loss 0.525798 0.7192:  54%|████████████████████████████████████████████████████████████████████████████▊                                                                 | 20/37 [00:00<00:00, 36.11it/s]\u001b[A\n",
      "Valid 16: loss 0.525798 0.7192:  76%|███████████████████████████████████████████████████████████████████████████████████████████████████████████▍                                  | 28/37 [00:00<00:00, 46.67it/s]\u001b[A\n",
      "Valid 16: loss 0.525173 0.7802:  76%|███████████████████████████████████████████████████████████████████████████████████████████████████████████▍                                  | 28/37 [00:00<00:00, 46.67it/s]\u001b[A\n",
      "Valid 16: loss 0.521175 0.8653:  76%|███████████████████████████████████████████████████████████████████████████████████████████████████████████▍                                  | 28/37 [00:00<00:00, 46.67it/s]\u001b[A\n",
      "Valid 16: loss 0.517315 0.8198:  76%|███████████████████████████████████████████████████████████████████████████████████████████████████████████▍                                  | 28/37 [00:00<00:00, 46.67it/s]\u001b[A\n"
     ]
    },
    {
     "name": "stderr",
     "output_type": "stream",
     "text": [
      "Valid 16: loss 0.516801 0.7802:  76%|███████████████████████████████████████████████████████████████████████████████████████████████████████████▍                                  | 28/37 [00:00<00:00, 46.67it/s]\u001b[A\n",
      "Valid 16: loss 0.514554 0.8108:  76%|███████████████████████████████████████████████████████████████████████████████████████████████████████████▍                                  | 28/37 [00:00<00:00, 46.67it/s]\u001b[A\n",
      "Valid 16: loss 0.513713 0.7882:  76%|███████████████████████████████████████████████████████████████████████████████████████████████████████████▍                                  | 28/37 [00:00<00:00, 46.67it/s]\u001b[A\n",
      "Valid 16: loss 0.516843 0.6800:  76%|███████████████████████████████████████████████████████████████████████████████████████████████████████████▍                                  | 28/37 [00:00<00:00, 46.67it/s]\u001b[A\n",
      "Valid 16: loss 0.517581 0.7833:  76%|███████████████████████████████████████████████████████████████████████████████████████████████████████████▍                                  | 28/37 [00:00<00:00, 46.67it/s]\u001b[A\n",
      "Valid 16: loss 0.523006 0.5000:  76%|███████████████████████████████████████████████████████████████████████████████████████████████████████████▍                                  | 28/37 [00:00<00:00, 46.67it/s]\u001b[A\n",
      "Valid 16: loss 0.523006 0.5000: 100%|██████████████████████████████████████████████████████████████████████████████████████████████████████████████████████████████████████████████| 37/37 [00:01<00:00, 33.77it/s]\u001b[A\n",
      "Epoch 16: loss 0.501505 0.7580: 100%|████████████████████████████████████████████████████████████████████████████████████████████████████████████████████████████████████████████| 145/145 [00:03<00:00, 26.93it/s]"
     ]
    },
    {
     "name": "stdout",
     "output_type": "stream",
     "text": [
      "EarlyStopping counter: 14 out of 20\n"
     ]
    },
    {
     "name": "stderr",
     "output_type": "stream",
     "text": [
      "Epoch 16: loss 0.501505 0.7580: 100%|████████████████████████████████████████████████████████████████████████████████████████████████████████████████████████████████████████████| 145/145 [00:03<00:00, 38.05it/s]\n",
      "Epoch 17: loss 0.495744 0.7618:  86%|████████████████████████████████████████████████████████████████████████████████████████████████████████████████████████▋                   | 125/145 [00:02<00:00, 68.66it/s]\n",
      "  0%|                                                                                                                                                                                       | 0/37 [00:00<?, ?it/s]\u001b[A\n",
      "Valid 17: loss 0.580060 0.7292:   0%|                                                                                                                                                       | 0/37 [00:00<?, ?it/s]\u001b[A\n",
      "Valid 17: loss 0.580060 0.7292:   3%|███▊                                                                                                                                           | 1/37 [00:00<00:19,  1.82it/s]\u001b[A\n",
      "Valid 17: loss 0.565208 0.7250:   3%|███▊                                                                                                                                           | 1/37 [00:00<00:19,  1.82it/s]\u001b[A\n",
      "Valid 17: loss 0.576134 0.6927:   3%|███▊                                                                                                                                           | 1/37 [00:00<00:19,  1.82it/s]\u001b[A\n",
      "Valid 17: loss 0.550547 0.8167:   3%|███▊                                                                                                                                           | 1/37 [00:00<00:19,  1.82it/s]\u001b[A\n",
      "Valid 17: loss 0.557572 0.6441:   3%|███▊                                                                                                                                           | 1/37 [00:00<00:19,  1.82it/s]\u001b[A\n",
      "Valid 17: loss 0.542504 0.8068:   3%|███▊                                                                                                                                           | 1/37 [00:00<00:19,  1.82it/s]\u001b[A\n",
      "Valid 17: loss 0.535157 0.7167:   3%|███▊                                                                                                                                           | 1/37 [00:00<00:19,  1.82it/s]\u001b[A\n",
      "Valid 17: loss 0.533748 0.7537:   3%|███▊                                                                                                                                           | 1/37 [00:00<00:19,  1.82it/s]\u001b[A\n",
      "Valid 17: loss 0.532748 0.6868:   3%|███▊                                                                                                                                           | 1/37 [00:00<00:19,  1.82it/s]\u001b[A\n",
      "Valid 17: loss 0.528897 0.7734:   3%|███▊                                                                                                                                           | 1/37 [00:00<00:19,  1.82it/s]\u001b[A\n",
      "Valid 17: loss 0.528242 0.7468:   3%|███▊                                                                                                                                           | 1/37 [00:00<00:19,  1.82it/s]\u001b[A\n",
      "Valid 17: loss 0.531824 0.7067:   3%|███▊                                                                                                                                           | 1/37 [00:00<00:19,  1.82it/s]\u001b[A\n",
      "Valid 17: loss 0.533289 0.7565:   3%|███▊                                                                                                                                           | 1/37 [00:00<00:19,  1.82it/s]\u001b[A\n",
      "Valid 17: loss 0.526491 0.8385:   3%|███▊                                                                                                                                           | 1/37 [00:00<00:19,  1.82it/s]\u001b[A\n",
      "Valid 17: loss 0.526491 0.8385:  38%|█████████████████████████████████████████████████████▋                                                                                        | 14/37 [00:00<00:00, 28.19it/s]\u001b[A\n",
      "Valid 17: loss 0.523876 0.7833:  38%|█████████████████████████████████████████████████████▋                                                                                        | 14/37 [00:00<00:00, 28.19it/s]\u001b[A\n",
      "Valid 17: loss 0.520447 0.7873:  38%|█████████████████████████████████████████████████████▋                                                                                        | 14/37 [00:00<00:00, 28.19it/s]\u001b[A\n",
      "Valid 17: loss 0.512683 0.8362:  38%|█████████████████████████████████████████████████████▋                                                                                        | 14/37 [00:00<00:00, 28.19it/s]\u001b[A\n",
      "Valid 17: loss 0.511127 0.7500:  38%|█████████████████████████████████████████████████████▋                                                                                        | 14/37 [00:00<00:00, 28.19it/s]\u001b[A\n",
      "Valid 17: loss 0.510211 0.7792:  38%|█████████████████████████████████████████████████████▋                                                                                        | 14/37 [00:00<00:00, 28.19it/s]\u001b[A\n",
      "Valid 17: loss 0.507290 0.8120:  38%|█████████████████████████████████████████████████████▋                                                                                        | 14/37 [00:00<00:00, 28.19it/s]\u001b[A\n",
      "Valid 17: loss 0.510970 0.7000:  38%|█████████████████████████████████████████████████████▋                                                                                        | 14/37 [00:00<00:00, 28.19it/s]\u001b[A\n",
      "Valid 17: loss 0.507826 0.7989:  38%|█████████████████████████████████████████████████████▋                                                                                        | 14/37 [00:00<00:00, 28.19it/s]\u001b[A\n",
      "Valid 17: loss 0.504653 0.8565:  38%|█████████████████████████████████████████████████████▋                                                                                        | 14/37 [00:00<00:00, 28.19it/s]\u001b[A\n",
      "Valid 17: loss 0.502555 0.7646:  38%|█████████████████████████████████████████████████████▋                                                                                        | 14/37 [00:00<00:00, 28.19it/s]\u001b[A\n",
      "Valid 17: loss 0.502555 0.7646:  65%|████████████████████████████████████████████████████████████████████████████████████████████                                                  | 24/37 [00:00<00:00, 43.88it/s]\u001b[A\n",
      "Valid 17: loss 0.501290 0.7667:  65%|████████████████████████████████████████████████████████████████████████████████████████████                                                  | 24/37 [00:00<00:00, 43.88it/s]\u001b[A\n",
      "Valid 17: loss 0.502978 0.7244:  65%|████████████████████████████████████████████████████████████████████████████████████████████                                                  | 24/37 [00:00<00:00, 43.88it/s]\u001b[A\n",
      "Valid 17: loss 0.502154 0.8000:  65%|████████████████████████████████████████████████████████████████████████████████████████████                                                  | 24/37 [00:00<00:00, 43.88it/s]\u001b[A\n",
      "Valid 17: loss 0.504747 0.7882:  65%|████████████████████████████████████████████████████████████████████████████████████████████                                                  | 24/37 [00:00<00:00, 43.88it/s]\u001b[A\n",
      "Valid 17: loss 0.506153 0.7750:  65%|████████████████████████████████████████████████████████████████████████████████████████████                                                  | 24/37 [00:00<00:00, 43.88it/s]\u001b[A\n",
      "Valid 17: loss 0.504936 0.8293:  65%|████████████████████████████████████████████████████████████████████████████████████████████                                                  | 24/37 [00:00<00:00, 43.88it/s]\u001b[A\n",
      "Valid 17: loss 0.507432 0.7126:  65%|████████████████████████████████████████████████████████████████████████████████████████████                                                  | 24/37 [00:00<00:00, 43.88it/s]\u001b[A\n",
      "Valid 17: loss 0.506695 0.7825:  65%|████████████████████████████████████████████████████████████████████████████████████████████                                                  | 24/37 [00:00<00:00, 43.88it/s]\u001b[A\n"
     ]
    },
    {
     "name": "stderr",
     "output_type": "stream",
     "text": [
      "Valid 17: loss 0.509312 0.6506:  65%|████████████████████████████████████████████████████████████████████████████████████████████                                                  | 24/37 [00:00<00:00, 43.88it/s]\u001b[A\n",
      "Valid 17: loss 0.510377 0.7244:  65%|████████████████████████████████████████████████████████████████████████████████████████████                                                  | 24/37 [00:00<00:00, 43.88it/s]\u001b[A\n",
      "Valid 17: loss 0.509540 0.8079:  65%|████████████████████████████████████████████████████████████████████████████████████████████                                                  | 24/37 [00:00<00:00, 43.88it/s]\u001b[A\n",
      "Valid 17: loss 0.509898 0.7167:  65%|████████████████████████████████████████████████████████████████████████████████████████████                                                  | 24/37 [00:00<00:00, 43.88it/s]\u001b[A\n",
      "Valid 17: loss 0.524471 0.4500:  65%|████████████████████████████████████████████████████████████████████████████████████████████                                                  | 24/37 [00:00<00:00, 43.88it/s]\u001b[A\n",
      "Valid 17: loss 0.524471 0.4500: 100%|██████████████████████████████████████████████████████████████████████████████████████████████████████████████████████████████████████████████| 37/37 [00:00<00:00, 37.84it/s]\u001b[A\n",
      "Epoch 17: loss 0.500269 0.7588:  99%|██████████████████████████████████████████████████████████████████████████████████████████████████████████████████████████████████████████  | 143/145 [00:03<00:00, 27.61it/s]"
     ]
    },
    {
     "name": "stdout",
     "output_type": "stream",
     "text": [
      "EarlyStopping counter: 15 out of 20\n"
     ]
    },
    {
     "name": "stderr",
     "output_type": "stream",
     "text": [
      "Epoch 17: loss 0.500269 0.7588: 100%|████████████████████████████████████████████████████████████████████████████████████████████████████████████████████████████████████████████| 145/145 [00:03<00:00, 40.96it/s]\n",
      "Epoch 18: loss 0.500642 0.7639:  85%|██████████████████████████████████████████████████████████████████████████████████████████████████████████████████████▊                     | 123/145 [00:02<00:00, 61.67it/s]\n",
      "  0%|                                                                                                                                                                                       | 0/37 [00:00<?, ?it/s]\u001b[A\n",
      "Valid 18: loss 0.493741 0.7520:   0%|                                                                                                                                                       | 0/37 [00:00<?, ?it/s]\u001b[A\n",
      "Valid 18: loss 0.493741 0.7520:   3%|███▊                                                                                                                                           | 1/37 [00:00<00:20,  1.79it/s]\u001b[A\n",
      "Valid 18: loss 0.553066 0.6899:   3%|███▊                                                                                                                                           | 1/37 [00:00<00:20,  1.79it/s]\u001b[A\n",
      "Valid 18: loss 0.534433 0.7496:   3%|███▊                                                                                                                                           | 1/37 [00:00<00:20,  1.79it/s]\u001b[A\n",
      "Valid 18: loss 0.501916 0.8200:   3%|███▊                                                                                                                                           | 1/37 [00:00<00:20,  1.79it/s]\u001b[A\n",
      "Valid 18: loss 0.515109 0.6889:   3%|███▊                                                                                                                                           | 1/37 [00:00<00:20,  1.79it/s]\u001b[A\n",
      "Valid 18: loss 0.517863 0.7190:   3%|███▊                                                                                                                                           | 1/37 [00:00<00:20,  1.79it/s]\u001b[A\n",
      "Valid 18: loss 0.517367 0.7597:   3%|███▊                                                                                                                                           | 1/37 [00:00<00:20,  1.79it/s]\u001b[A\n",
      "Valid 18: loss 0.516869 0.7260:   3%|███▊                                                                                                                                           | 1/37 [00:00<00:20,  1.79it/s]\u001b[A\n",
      "Valid 18: loss 0.526132 0.6836:   3%|███▊                                                                                                                                           | 1/37 [00:00<00:20,  1.79it/s]\u001b[A\n",
      "Valid 18: loss 0.524739 0.7638:   3%|███▊                                                                                                                                           | 1/37 [00:00<00:20,  1.79it/s]\u001b[A\n",
      "Valid 18: loss 0.531887 0.6305:   3%|███▊                                                                                                                                           | 1/37 [00:00<00:20,  1.79it/s]\u001b[A\n",
      "Valid 18: loss 0.534735 0.7085:   3%|███▊                                                                                                                                           | 1/37 [00:00<00:20,  1.79it/s]\u001b[A\n",
      "Valid 18: loss 0.529615 0.7209:   3%|███▊                                                                                                                                           | 1/37 [00:00<00:20,  1.79it/s]\u001b[A\n",
      "Valid 18: loss 0.528374 0.7500:   3%|███▊                                                                                                                                           | 1/37 [00:00<00:20,  1.79it/s]\u001b[A\n",
      "Valid 18: loss 0.528374 0.7500:  38%|█████████████████████████████████████████████████████▋                                                                                        | 14/37 [00:00<00:00, 27.56it/s]\u001b[A\n",
      "Valid 18: loss 0.527758 0.7516:  38%|█████████████████████████████████████████████████████▋                                                                                        | 14/37 [00:00<00:00, 27.56it/s]\u001b[A\n",
      "Valid 18: loss 0.523895 0.7615:  38%|█████████████████████████████████████████████████████▋                                                                                        | 14/37 [00:00<00:00, 27.56it/s]\u001b[A\n",
      "Valid 18: loss 0.520890 0.7750:  38%|█████████████████████████████████████████████████████▋                                                                                        | 14/37 [00:00<00:00, 27.56it/s]\u001b[A\n",
      "Valid 18: loss 0.517523 0.6958:  38%|█████████████████████████████████████████████████████▋                                                                                        | 14/37 [00:00<00:00, 27.56it/s]\u001b[A\n",
      "Valid 18: loss 0.518847 0.7837:  38%|█████████████████████████████████████████████████████▋                                                                                        | 14/37 [00:00<00:00, 27.56it/s]\u001b[A\n",
      "Valid 18: loss 0.522793 0.6538:  38%|█████████████████████████████████████████████████████▋                                                                                        | 14/37 [00:00<00:00, 27.56it/s]\u001b[A\n",
      "Valid 18: loss 0.523722 0.7338:  38%|█████████████████████████████████████████████████████▋                                                                                        | 14/37 [00:00<00:00, 27.56it/s]\u001b[A\n",
      "Valid 18: loss 0.524641 0.7200:  38%|█████████████████████████████████████████████████████▋                                                                                        | 14/37 [00:00<00:00, 27.56it/s]\u001b[A\n",
      "Valid 18: loss 0.524641 0.7200:  59%|████████████████████████████████████████████████████████████████████████████████████▍                                                         | 22/37 [00:00<00:00, 39.13it/s]\u001b[A\n",
      "Valid 18: loss 0.524571 0.6715:  59%|████████████████████████████████████████████████████████████████████████████████████▍                                                         | 22/37 [00:00<00:00, 39.13it/s]\u001b[A\n",
      "Valid 18: loss 0.521380 0.7644:  59%|████████████████████████████████████████████████████████████████████████████████████▍                                                         | 22/37 [00:00<00:00, 39.13it/s]\u001b[A\n",
      "Valid 18: loss 0.523839 0.7053:  59%|████████████████████████████████████████████████████████████████████████████████████▍                                                         | 22/37 [00:00<00:00, 39.13it/s]\u001b[A\n",
      "Valid 18: loss 0.525233 0.6560:  59%|████████████████████████████████████████████████████████████████████████████████████▍                                                         | 22/37 [00:00<00:00, 39.13it/s]\u001b[A\n",
      "Valid 18: loss 0.526359 0.7000:  59%|████████████████████████████████████████████████████████████████████████████████████▍                                                         | 22/37 [00:00<00:00, 39.13it/s]\u001b[A\n",
      "Valid 18: loss 0.524568 0.7583:  59%|████████████████████████████████████████████████████████████████████████████████████▍                                                         | 22/37 [00:00<00:00, 39.13it/s]\u001b[A\n",
      "Valid 18: loss 0.525094 0.7538:  59%|████████████████████████████████████████████████████████████████████████████████████▍                                                         | 22/37 [00:00<00:00, 39.13it/s]\u001b[A\n",
      "Valid 18: loss 0.527273 0.7282:  59%|████████████████████████████████████████████████████████████████████████████████████▍                                                         | 22/37 [00:00<00:00, 39.13it/s]\u001b[A\n",
      "Valid 18: loss 0.521893 0.8161:  59%|████████████████████████████████████████████████████████████████████████████████████▍                                                         | 22/37 [00:00<00:00, 39.13it/s]\u001b[A\n",
      "Valid 18: loss 0.521375 0.7083:  59%|████████████████████████████████████████████████████████████████████████████████████▍                                                         | 22/37 [00:00<00:00, 39.13it/s]\u001b[A\n"
     ]
    },
    {
     "name": "stderr",
     "output_type": "stream",
     "text": [
      "Valid 18: loss 0.522354 0.7102:  59%|████████████████████████████████████████████████████████████████████████████████████▍                                                         | 22/37 [00:00<00:00, 39.13it/s]\u001b[A\n",
      "Valid 18: loss 0.517596 0.9049:  59%|████████████████████████████████████████████████████████████████████████████████████▍                                                         | 22/37 [00:00<00:00, 39.13it/s]\u001b[A\n",
      "Valid 18: loss 0.518590 0.7246:  59%|████████████████████████████████████████████████████████████████████████████████████▍                                                         | 22/37 [00:00<00:00, 39.13it/s]\u001b[A\n",
      "Valid 18: loss 0.517598 0.7674:  59%|████████████████████████████████████████████████████████████████████████████████████▍                                                         | 22/37 [00:00<00:00, 39.13it/s]\u001b[A\n",
      "Valid 18: loss 0.515755 0.6786:  59%|████████████████████████████████████████████████████████████████████████████████████▍                                                         | 22/37 [00:00<00:00, 39.13it/s]\u001b[A\n",
      "Valid 18: loss 0.515755 0.6786: 100%|██████████████████████████████████████████████████████████████████████████████████████████████████████████████████████████████████████████████| 37/37 [00:01<00:00, 36.86it/s]\u001b[A\n",
      "Epoch 18: loss 0.500704 0.7638:  99%|██████████████████████████████████████████████████████████████████████████████████████████████████████████████████████████████████████████  | 143/145 [00:03<00:00, 28.25it/s]"
     ]
    },
    {
     "name": "stdout",
     "output_type": "stream",
     "text": [
      "EarlyStopping counter: 16 out of 20\n"
     ]
    },
    {
     "name": "stderr",
     "output_type": "stream",
     "text": [
      "Epoch 18: loss 0.500704 0.7638: 100%|████████████████████████████████████████████████████████████████████████████████████████████████████████████████████████████████████████████| 145/145 [00:03<00:00, 38.27it/s]\n",
      "Epoch 19: loss 0.498990 0.7611:  81%|█████████████████████████████████████████████████████████████████████████████████████████████████████████████████▉                          | 118/145 [00:02<00:00, 73.31it/s]\n",
      "  0%|                                                                                                                                                                                       | 0/37 [00:00<?, ?it/s]\u001b[A\n",
      "Valid 19: loss 0.540911 0.7093:   0%|                                                                                                                                                       | 0/37 [00:00<?, ?it/s]\u001b[A\n",
      "Valid 19: loss 0.540911 0.7093:   3%|███▊                                                                                                                                           | 1/37 [00:00<00:19,  1.89it/s]\u001b[A\n",
      "Valid 19: loss 0.501686 0.7193:   3%|███▊                                                                                                                                           | 1/37 [00:00<00:19,  1.89it/s]\u001b[A\n",
      "Valid 19: loss 0.468892 0.8328:   3%|███▊                                                                                                                                           | 1/37 [00:00<00:19,  1.89it/s]\u001b[A\n",
      "Valid 19: loss 0.500278 0.6623:   3%|███▊                                                                                                                                           | 1/37 [00:00<00:19,  1.89it/s]\u001b[A\n",
      "Valid 19: loss 0.496040 0.8125:   3%|███▊                                                                                                                                           | 1/37 [00:00<00:19,  1.89it/s]\u001b[A\n",
      "Valid 19: loss 0.509396 0.6583:   3%|███▊                                                                                                                                           | 1/37 [00:00<00:19,  1.89it/s]\u001b[A\n",
      "Valid 19: loss 0.524331 0.7000:   3%|███▊                                                                                                                                           | 1/37 [00:00<00:19,  1.89it/s]\u001b[A\n",
      "Valid 19: loss 0.510608 0.7173:   3%|███▊                                                                                                                                           | 1/37 [00:00<00:19,  1.89it/s]\u001b[A\n",
      "Valid 19: loss 0.518372 0.7200:   3%|███▊                                                                                                                                           | 1/37 [00:00<00:19,  1.89it/s]\u001b[A\n",
      "Valid 19: loss 0.523807 0.7335:   3%|███▊                                                                                                                                           | 1/37 [00:00<00:19,  1.89it/s]\u001b[A\n",
      "Valid 19: loss 0.523807 0.7335:  27%|██████████████████████████████████████▍                                                                                                       | 10/37 [00:00<00:01, 20.39it/s]\u001b[A\n",
      "Valid 19: loss 0.519810 0.7770:  27%|██████████████████████████████████████▍                                                                                                       | 10/37 [00:00<00:01, 20.39it/s]\u001b[A\n",
      "Valid 19: loss 0.515465 0.7152:  27%|██████████████████████████████████████▍                                                                                                       | 10/37 [00:00<00:01, 20.39it/s]\u001b[A\n",
      "Valid 19: loss 0.510798 0.8098:  27%|██████████████████████████████████████▍                                                                                                       | 10/37 [00:00<00:01, 20.39it/s]\u001b[A\n",
      "Valid 19: loss 0.511814 0.7309:  27%|██████████████████████████████████████▍                                                                                                       | 10/37 [00:00<00:01, 20.39it/s]\u001b[A\n",
      "Valid 19: loss 0.510428 0.7644:  27%|██████████████████████████████████████▍                                                                                                       | 10/37 [00:00<00:01, 20.39it/s]\u001b[A\n",
      "Valid 19: loss 0.512192 0.7051:  27%|██████████████████████████████████████▍                                                                                                       | 10/37 [00:00<00:01, 20.39it/s]\u001b[A\n",
      "Valid 19: loss 0.517685 0.6163:  27%|██████████████████████████████████████▍                                                                                                       | 10/37 [00:00<00:01, 20.39it/s]\u001b[A\n",
      "Valid 19: loss 0.521473 0.6723:  27%|██████████████████████████████████████▍                                                                                                       | 10/37 [00:00<00:01, 20.39it/s]\u001b[A\n",
      "Valid 19: loss 0.521473 0.6723:  49%|█████████████████████████████████████████████████████████████████████                                                                         | 18/37 [00:00<00:00, 33.70it/s]\u001b[A\n",
      "Valid 19: loss 0.519868 0.7923:  49%|█████████████████████████████████████████████████████████████████████                                                                         | 18/37 [00:00<00:00, 33.70it/s]\u001b[A\n",
      "Valid 19: loss 0.519072 0.8048:  49%|█████████████████████████████████████████████████████████████████████                                                                         | 18/37 [00:00<00:00, 33.70it/s]\u001b[A\n",
      "Valid 19: loss 0.521184 0.7442:  49%|█████████████████████████████████████████████████████████████████████                                                                         | 18/37 [00:00<00:00, 33.70it/s]\u001b[A\n",
      "Valid 19: loss 0.514931 0.8945:  49%|█████████████████████████████████████████████████████████████████████                                                                         | 18/37 [00:00<00:00, 33.70it/s]\u001b[A\n",
      "Valid 19: loss 0.514917 0.7922:  49%|█████████████████████████████████████████████████████████████████████                                                                         | 18/37 [00:00<00:00, 33.70it/s]\u001b[A\n",
      "Valid 19: loss 0.512250 0.7580:  49%|█████████████████████████████████████████████████████████████████████                                                                         | 18/37 [00:00<00:00, 33.70it/s]\u001b[A\n",
      "Valid 19: loss 0.510639 0.8000:  49%|█████████████████████████████████████████████████████████████████████                                                                         | 18/37 [00:00<00:00, 33.70it/s]\u001b[A\n",
      "Valid 19: loss 0.512699 0.7061:  49%|█████████████████████████████████████████████████████████████████████                                                                         | 18/37 [00:00<00:00, 33.70it/s]\u001b[A\n",
      "Valid 19: loss 0.510850 0.8120:  49%|█████████████████████████████████████████████████████████████████████                                                                         | 18/37 [00:00<00:00, 33.70it/s]\u001b[A\n",
      "Valid 19: loss 0.510850 0.8120:  73%|███████████████████████████████████████████████████████████████████████████████████████████████████████▌                                      | 27/37 [00:00<00:00, 47.40it/s]\u001b[A\n",
      "Valid 19: loss 0.510511 0.8013:  73%|███████████████████████████████████████████████████████████████████████████████████████████████████████▌                                      | 27/37 [00:00<00:00, 47.40it/s]\u001b[A\n",
      "Valid 19: loss 0.509739 0.7578:  73%|███████████████████████████████████████████████████████████████████████████████████████████████████████▌                                      | 27/37 [00:00<00:00, 47.40it/s]\u001b[A\n",
      "Valid 19: loss 0.510445 0.7600:  73%|███████████████████████████████████████████████████████████████████████████████████████████████████████▌                                      | 27/37 [00:00<00:00, 47.40it/s]\u001b[A\n",
      "Valid 19: loss 0.510819 0.7644:  73%|███████████████████████████████████████████████████████████████████████████████████████████████████████▌                                      | 27/37 [00:00<00:00, 47.40it/s]\u001b[A\n"
     ]
    },
    {
     "name": "stderr",
     "output_type": "stream",
     "text": [
      "Valid 19: loss 0.510885 0.6833:  73%|███████████████████████████████████████████████████████████████████████████████████████████████████████▌                                      | 27/37 [00:00<00:00, 47.40it/s]\u001b[A\n",
      "Valid 19: loss 0.510067 0.7583:  73%|███████████████████████████████████████████████████████████████████████████████████████████████████████▌                                      | 27/37 [00:00<00:00, 47.40it/s]\u001b[A\n",
      "Valid 19: loss 0.510703 0.7400:  73%|███████████████████████████████████████████████████████████████████████████████████████████████████████▌                                      | 27/37 [00:00<00:00, 47.40it/s]\u001b[A\n",
      "Valid 19: loss 0.511484 0.7396:  73%|███████████████████████████████████████████████████████████████████████████████████████████████████████▌                                      | 27/37 [00:00<00:00, 47.40it/s]\u001b[A\n",
      "Valid 19: loss 0.511828 0.7167:  73%|███████████████████████████████████████████████████████████████████████████████████████████████████████▌                                      | 27/37 [00:00<00:00, 47.40it/s]\u001b[A\n",
      "Valid 19: loss 0.510410 0.7500: 100%|██████████████████████████████████████████████████████████████████████████████████████████████████████████████████████████████████████████████| 37/37 [00:01<00:00, 36.47it/s]\u001b[A\n",
      "Epoch 19: loss 0.500847 0.7609:  94%|████████████████████████████████████████████████████████████████████████████████████████████████████████████████████████████████████▎       | 137/145 [00:03<00:00, 27.19it/s]"
     ]
    },
    {
     "name": "stdout",
     "output_type": "stream",
     "text": [
      "EarlyStopping counter: 17 out of 20\n"
     ]
    },
    {
     "name": "stderr",
     "output_type": "stream",
     "text": [
      "Epoch 19: loss 0.500847 0.7609: 100%|████████████████████████████████████████████████████████████████████████████████████████████████████████████████████████████████████████████| 145/145 [00:03<00:00, 39.22it/s]\n",
      "Epoch 20: loss 0.499481 0.7613:  81%|█████████████████████████████████████████████████████████████████████████████████████████████████████████████████▉                          | 118/145 [00:02<00:00, 68.54it/s]\n",
      "  0%|                                                                                                                                                                                       | 0/37 [00:00<?, ?it/s]\u001b[A\n",
      "Valid 20: loss 0.433537 0.7740:   0%|                                                                                                                                                       | 0/37 [00:00<?, ?it/s]\u001b[A\n",
      "Valid 20: loss 0.433537 0.7740:   3%|███▊                                                                                                                                           | 1/37 [00:00<00:20,  1.78it/s]\u001b[A\n",
      "Valid 20: loss 0.433922 0.7629:   3%|███▊                                                                                                                                           | 1/37 [00:00<00:20,  1.78it/s]\u001b[A\n",
      "Valid 20: loss 0.478087 0.7167:   3%|███▊                                                                                                                                           | 1/37 [00:00<00:20,  1.78it/s]\u001b[A\n",
      "Valid 20: loss 0.464229 0.8365:   3%|███▊                                                                                                                                           | 1/37 [00:00<00:20,  1.78it/s]\u001b[A\n",
      "Valid 20: loss 0.487458 0.7488:   3%|███▊                                                                                                                                           | 1/37 [00:00<00:20,  1.78it/s]\u001b[A\n",
      "Valid 20: loss 0.491681 0.7713:   3%|███▊                                                                                                                                           | 1/37 [00:00<00:20,  1.78it/s]\u001b[A\n",
      "Valid 20: loss 0.497257 0.7102:   3%|███▊                                                                                                                                           | 1/37 [00:00<00:20,  1.78it/s]\u001b[A\n",
      "Valid 20: loss 0.492530 0.7632:   3%|███▊                                                                                                                                           | 1/37 [00:00<00:20,  1.78it/s]\u001b[A\n",
      "Valid 20: loss 0.500579 0.6747:   3%|███▊                                                                                                                                           | 1/37 [00:00<00:20,  1.78it/s]\u001b[A\n",
      "Valid 20: loss 0.500579 0.6747:  24%|██████████████████████████████████▊                                                                                                            | 9/37 [00:00<00:01, 17.29it/s]\u001b[A\n",
      "Valid 20: loss 0.502624 0.6883:  24%|██████████████████████████████████▊                                                                                                            | 9/37 [00:00<00:01, 17.29it/s]\u001b[A\n",
      "Valid 20: loss 0.509023 0.6833:  24%|██████████████████████████████████▊                                                                                                            | 9/37 [00:00<00:01, 17.29it/s]\u001b[A\n",
      "Valid 20: loss 0.511730 0.7309:  24%|██████████████████████████████████▊                                                                                                            | 9/37 [00:00<00:01, 17.29it/s]\u001b[A\n",
      "Valid 20: loss 0.516860 0.7555:  24%|██████████████████████████████████▊                                                                                                            | 9/37 [00:00<00:01, 17.29it/s]\u001b[A\n",
      "Valid 20: loss 0.518905 0.7662:  24%|██████████████████████████████████▊                                                                                                            | 9/37 [00:00<00:01, 17.29it/s]\u001b[A\n",
      "Valid 20: loss 0.513691 0.7537:  24%|██████████████████████████████████▊                                                                                                            | 9/37 [00:00<00:01, 17.29it/s]\u001b[A\n",
      "Valid 20: loss 0.511569 0.8333:  24%|██████████████████████████████████▊                                                                                                            | 9/37 [00:00<00:01, 17.29it/s]\u001b[A\n",
      "Valid 20: loss 0.508005 0.7465:  24%|██████████████████████████████████▊                                                                                                            | 9/37 [00:00<00:01, 17.29it/s]\u001b[A\n",
      "Valid 20: loss 0.508005 0.7465:  46%|█████████████████████████████████████████████████████████████████▏                                                                            | 17/37 [00:00<00:00, 30.42it/s]\u001b[A\n",
      "Valid 20: loss 0.506612 0.7949:  46%|█████████████████████████████████████████████████████████████████▏                                                                            | 17/37 [00:00<00:00, 30.42it/s]\u001b[A\n",
      "Valid 20: loss 0.507908 0.7299:  46%|█████████████████████████████████████████████████████████████████▏                                                                            | 17/37 [00:00<00:00, 30.42it/s]\u001b[A\n",
      "Valid 20: loss 0.510080 0.7143:  46%|█████████████████████████████████████████████████████████████████▏                                                                            | 17/37 [00:00<00:00, 30.42it/s]\u001b[A\n",
      "Valid 20: loss 0.506276 0.7564:  46%|█████████████████████████████████████████████████████████████████▏                                                                            | 17/37 [00:00<00:00, 30.42it/s]\u001b[A\n",
      "Valid 20: loss 0.510107 0.6600:  46%|█████████████████████████████████████████████████████████████████▏                                                                            | 17/37 [00:00<00:00, 30.42it/s]\u001b[A\n",
      "Valid 20: loss 0.513050 0.7452:  46%|█████████████████████████████████████████████████████████████████▏                                                                            | 17/37 [00:00<00:00, 30.42it/s]\u001b[A\n",
      "Valid 20: loss 0.518624 0.7279:  46%|█████████████████████████████████████████████████████████████████▏                                                                            | 17/37 [00:00<00:00, 30.42it/s]\u001b[A\n",
      "Valid 20: loss 0.519573 0.7335:  46%|█████████████████████████████████████████████████████████████████▏                                                                            | 17/37 [00:00<00:00, 30.42it/s]\u001b[A\n",
      "Valid 20: loss 0.522292 0.7800:  46%|█████████████████████████████████████████████████████████████████▏                                                                            | 17/37 [00:00<00:00, 30.42it/s]\u001b[A\n",
      "Valid 20: loss 0.518131 0.8462:  46%|█████████████████████████████████████████████████████████████████▏                                                                            | 17/37 [00:00<00:00, 30.42it/s]\u001b[A\n",
      "Valid 20: loss 0.517422 0.7818:  46%|█████████████████████████████████████████████████████████████████▏                                                                            | 17/37 [00:00<00:00, 30.42it/s]\u001b[A\n",
      "Valid 20: loss 0.514676 0.8066:  46%|█████████████████████████████████████████████████████████████████▏                                                                            | 17/37 [00:00<00:00, 30.42it/s]\u001b[A\n",
      "Valid 20: loss 0.514676 0.8066:  78%|███████████████████████████████████████████████████████████████████████████████████████████████████████████████▎                              | 29/37 [00:00<00:00, 50.98it/s]\u001b[A\n",
      "Valid 20: loss 0.516518 0.6621:  78%|███████████████████████████████████████████████████████████████████████████████████████████████████████████████▎                              | 29/37 [00:00<00:00, 50.98it/s]\u001b[A\n",
      "Valid 20: loss 0.514594 0.7552:  78%|███████████████████████████████████████████████████████████████████████████████████████████████████████████████▎                              | 29/37 [00:00<00:00, 50.98it/s]\u001b[A\n"
     ]
    },
    {
     "name": "stderr",
     "output_type": "stream",
     "text": [
      "Valid 20: loss 0.516886 0.6128:  78%|███████████████████████████████████████████████████████████████████████████████████████████████████████████████▎                              | 29/37 [00:00<00:00, 50.98it/s]\u001b[A\n",
      "Valid 20: loss 0.517644 0.7750:  78%|███████████████████████████████████████████████████████████████████████████████████████████████████████████████▎                              | 29/37 [00:00<00:00, 50.98it/s]\u001b[A\n",
      "Valid 20: loss 0.517281 0.7600:  78%|███████████████████████████████████████████████████████████████████████████████████████████████████████████████▎                              | 29/37 [00:00<00:00, 50.98it/s]\u001b[A\n",
      "Valid 20: loss 0.513699 0.8600:  78%|███████████████████████████████████████████████████████████████████████████████████████████████████████████████▎                              | 29/37 [00:00<00:00, 50.98it/s]\u001b[A\n",
      "Valid 20: loss 0.512083 0.7289:  78%|███████████████████████████████████████████████████████████████████████████████████████████████████████████████▎                              | 29/37 [00:00<00:00, 50.98it/s]\u001b[A\n",
      "Valid 20: loss 0.508429 1.0000:  78%|███████████████████████████████████████████████████████████████████████████████████████████████████████████████▎                              | 29/37 [00:00<00:00, 50.98it/s]\u001b[A\n",
      "Valid 20: loss 0.508429 1.0000: 100%|██████████████████████████████████████████████████████████████████████████████████████████████████████████████████████████████████████████████| 37/37 [00:01<00:00, 32.12it/s]\u001b[A\n",
      "Epoch 20: loss 0.499944 0.7625:  93%|██████████████████████████████████████████████████████████████████████████████████████████████████████████████████████████████████▎         | 135/145 [00:03<00:00, 23.06it/s]"
     ]
    },
    {
     "name": "stdout",
     "output_type": "stream",
     "text": [
      "EarlyStopping counter: 18 out of 20\n"
     ]
    },
    {
     "name": "stderr",
     "output_type": "stream",
     "text": [
      "Epoch 20: loss 0.499929 0.7627: 100%|████████████████████████████████████████████████████████████████████████████████████████████████████████████████████████████████████████████| 145/145 [00:03<00:00, 37.83it/s]\n",
      "Epoch 21: loss 0.494781 0.7686:  85%|██████████████████████████████████████████████████████████████████████████████████████████████████████████████████████▊                     | 123/145 [00:02<00:00, 60.05it/s]\n",
      "  0%|                                                                                                                                                                                       | 0/37 [00:00<?, ?it/s]\u001b[A\n",
      "Valid 21: loss 0.476817 0.7324:   0%|                                                                                                                                                       | 0/37 [00:00<?, ?it/s]\u001b[A\n",
      "Valid 21: loss 0.476817 0.7324:   3%|███▊                                                                                                                                           | 1/37 [00:00<00:18,  1.94it/s]\u001b[A\n",
      "Valid 21: loss 0.530364 0.7110:   3%|███▊                                                                                                                                           | 1/37 [00:00<00:18,  1.94it/s]\u001b[A\n",
      "Valid 21: loss 0.530649 0.7151:   3%|███▊                                                                                                                                           | 1/37 [00:00<00:18,  1.94it/s]\u001b[A\n",
      "Valid 21: loss 0.541412 0.7163:   3%|███▊                                                                                                                                           | 1/37 [00:00<00:18,  1.94it/s]\u001b[A\n",
      "Valid 21: loss 0.523149 0.7750:   3%|███▊                                                                                                                                           | 1/37 [00:00<00:18,  1.94it/s]\u001b[A\n",
      "Valid 21: loss 0.516684 0.8045:   3%|███▊                                                                                                                                           | 1/37 [00:00<00:18,  1.94it/s]\u001b[A\n",
      "Valid 21: loss 0.501519 0.7937:   3%|███▊                                                                                                                                           | 1/37 [00:00<00:18,  1.94it/s]\u001b[A\n",
      "Valid 21: loss 0.492287 0.7537:   3%|███▊                                                                                                                                           | 1/37 [00:00<00:18,  1.94it/s]\u001b[A\n",
      "Valid 21: loss 0.508559 0.7118:   3%|███▊                                                                                                                                           | 1/37 [00:00<00:18,  1.94it/s]\u001b[A\n",
      "Valid 21: loss 0.506780 0.7453:   3%|███▊                                                                                                                                           | 1/37 [00:00<00:18,  1.94it/s]\u001b[A\n",
      "Valid 21: loss 0.506780 0.7453:  27%|██████████████████████████████████████▍                                                                                                       | 10/37 [00:00<00:01, 20.50it/s]\u001b[A\n",
      "Valid 21: loss 0.507290 0.7987:  27%|██████████████████████████████████████▍                                                                                                       | 10/37 [00:00<00:01, 20.50it/s]\u001b[A\n",
      "Valid 21: loss 0.506583 0.7833:  27%|██████████████████████████████████████▍                                                                                                       | 10/37 [00:00<00:01, 20.50it/s]\u001b[A\n",
      "Valid 21: loss 0.509228 0.6964:  27%|██████████████████████████████████████▍                                                                                                       | 10/37 [00:00<00:01, 20.50it/s]\u001b[A\n",
      "Valid 21: loss 0.512666 0.7305:  27%|██████████████████████████████████████▍                                                                                                       | 10/37 [00:00<00:01, 20.50it/s]\u001b[A\n",
      "Valid 21: loss 0.522209 0.6800:  27%|██████████████████████████████████████▍                                                                                                       | 10/37 [00:00<00:01, 20.50it/s]\u001b[A\n",
      "Valid 21: loss 0.521089 0.8400:  27%|██████████████████████████████████████▍                                                                                                       | 10/37 [00:00<00:01, 20.50it/s]\u001b[A\n",
      "Valid 21: loss 0.513491 0.8349:  27%|██████████████████████████████████████▍                                                                                                       | 10/37 [00:00<00:01, 20.50it/s]\u001b[A\n",
      "Valid 21: loss 0.513491 0.8349:  46%|█████████████████████████████████████████████████████████████████▏                                                                            | 17/37 [00:00<00:00, 31.64it/s]\u001b[A\n",
      "Valid 21: loss 0.515521 0.7468:  46%|█████████████████████████████████████████████████████████████████▏                                                                            | 17/37 [00:00<00:00, 31.64it/s]\u001b[A\n",
      "Valid 21: loss 0.514457 0.7763:  46%|█████████████████████████████████████████████████████████████████▏                                                                            | 17/37 [00:00<00:00, 31.64it/s]\u001b[A\n",
      "Valid 21: loss 0.517453 0.7035:  46%|█████████████████████████████████████████████████████████████████▏                                                                            | 17/37 [00:00<00:00, 31.64it/s]\u001b[A\n",
      "Valid 21: loss 0.514980 0.7800:  46%|█████████████████████████████████████████████████████████████████▏                                                                            | 17/37 [00:00<00:00, 31.64it/s]\u001b[A\n",
      "Valid 21: loss 0.513788 0.8000:  46%|█████████████████████████████████████████████████████████████████▏                                                                            | 17/37 [00:00<00:00, 31.64it/s]\u001b[A\n",
      "Valid 21: loss 0.517686 0.6560:  46%|█████████████████████████████████████████████████████████████████▏                                                                            | 17/37 [00:00<00:00, 31.64it/s]\u001b[A\n",
      "Valid 21: loss 0.524068 0.7271:  46%|█████████████████████████████████████████████████████████████████▏                                                                            | 17/37 [00:00<00:00, 31.64it/s]\u001b[A\n",
      "Valid 21: loss 0.520664 0.8486:  46%|█████████████████████████████████████████████████████████████████▏                                                                            | 17/37 [00:00<00:00, 31.64it/s]\u001b[A\n",
      "Valid 21: loss 0.520664 0.8486:  68%|███████████████████████████████████████████████████████████████████████████████████████████████▉                                              | 25/37 [00:00<00:00, 43.38it/s]\u001b[A\n",
      "Valid 21: loss 0.524877 0.7292:  68%|███████████████████████████████████████████████████████████████████████████████████████████████▉                                              | 25/37 [00:00<00:00, 43.38it/s]\u001b[A\n",
      "Valid 21: loss 0.523419 0.7947:  68%|███████████████████████████████████████████████████████████████████████████████████████████████▉                                              | 25/37 [00:00<00:00, 43.38it/s]\u001b[A\n",
      "Valid 21: loss 0.520893 0.7829:  68%|███████████████████████████████████████████████████████████████████████████████████████████████▉                                              | 25/37 [00:00<00:00, 43.38it/s]\u001b[A\n",
      "Valid 21: loss 0.517698 0.8237:  68%|███████████████████████████████████████████████████████████████████████████████████████████████▉                                              | 25/37 [00:00<00:00, 43.38it/s]\u001b[A\n",
      "Valid 21: loss 0.515954 0.6997:  68%|███████████████████████████████████████████████████████████████████████████████████████████████▉                                              | 25/37 [00:00<00:00, 43.38it/s]\u001b[A\n",
      "Valid 21: loss 0.512971 0.8465:  68%|███████████████████████████████████████████████████████████████████████████████████████████████▉                                              | 25/37 [00:00<00:00, 43.38it/s]\u001b[A\n"
     ]
    },
    {
     "name": "stderr",
     "output_type": "stream",
     "text": [
      "Valid 21: loss 0.513069 0.7188:  68%|███████████████████████████████████████████████████████████████████████████████████████████████▉                                              | 25/37 [00:00<00:00, 43.38it/s]\u001b[A\n",
      "Valid 21: loss 0.512597 0.7617:  68%|███████████████████████████████████████████████████████████████████████████████████████████████▉                                              | 25/37 [00:00<00:00, 43.38it/s]\u001b[A\n",
      "Valid 21: loss 0.511939 0.7193:  68%|███████████████████████████████████████████████████████████████████████████████████████████████▉                                              | 25/37 [00:00<00:00, 43.38it/s]\u001b[A\n",
      "Valid 21: loss 0.513322 0.6825:  68%|███████████████████████████████████████████████████████████████████████████████████████████████▉                                              | 25/37 [00:00<00:00, 43.38it/s]\u001b[A\n",
      "Valid 21: loss 0.513322 0.6825:  95%|██████████████████████████████████████████████████████████████████████████████████████████████████████████████████████████████████████▎       | 35/37 [00:00<00:00, 56.21it/s]\u001b[A\n",
      "Valid 21: loss 0.508797 0.8768:  95%|██████████████████████████████████████████████████████████████████████████████████████████████████████████████████████████████████████▎       | 35/37 [00:00<00:00, 56.21it/s]\u001b[A\n",
      "Valid 21: loss 0.515656 0.5250: 100%|██████████████████████████████████████████████████████████████████████████████████████████████████████████████████████████████████████████████| 37/37 [00:01<00:00, 32.60it/s]\u001b[A\n",
      "Epoch 21: loss 0.497906 0.7649:  96%|██████████████████████████████████████████████████████████████████████████████████████████████████████████████████████████████████████▏     | 139/145 [00:03<00:00, 22.58it/s]"
     ]
    },
    {
     "name": "stdout",
     "output_type": "stream",
     "text": [
      "EarlyStopping counter: 19 out of 20\n"
     ]
    },
    {
     "name": "stderr",
     "output_type": "stream",
     "text": [
      "Epoch 21: loss 0.498422 0.7647: 100%|████████████████████████████████████████████████████████████████████████████████████████████████████████████████████████████████████████████| 145/145 [00:03<00:00, 37.13it/s]\n",
      "Epoch 22: loss 0.495530 0.7607:  84%|█████████████████████████████████████████████████████████████████████████████████████████████████████████████████████▊                      | 122/145 [00:02<00:00, 76.49it/s]\n",
      "  0%|                                                                                                                                                                                       | 0/37 [00:00<?, ?it/s]\u001b[A\n",
      "Valid 22: loss 0.602362 0.7430:   0%|                                                                                                                                                       | 0/37 [00:00<?, ?it/s]\u001b[A\n",
      "Valid 22: loss 0.602362 0.7430:   3%|███▊                                                                                                                                           | 1/37 [00:00<00:18,  1.97it/s]\u001b[A\n",
      "Valid 22: loss 0.573065 0.7750:   3%|███▊                                                                                                                                           | 1/37 [00:00<00:18,  1.97it/s]\u001b[A\n",
      "Valid 22: loss 0.590460 0.6372:   3%|███▊                                                                                                                                           | 1/37 [00:00<00:18,  1.97it/s]\u001b[A\n",
      "Valid 22: loss 0.549034 0.8325:   3%|███▊                                                                                                                                           | 1/37 [00:00<00:18,  1.97it/s]\u001b[A\n",
      "Valid 22: loss 0.525630 0.8667:   3%|███▊                                                                                                                                           | 1/37 [00:00<00:18,  1.97it/s]\u001b[A\n",
      "Valid 22: loss 0.527819 0.7468:   3%|███▊                                                                                                                                           | 1/37 [00:00<00:18,  1.97it/s]\u001b[A\n",
      "Valid 22: loss 0.547916 0.6545:   3%|███▊                                                                                                                                           | 1/37 [00:00<00:18,  1.97it/s]\u001b[A\n",
      "Valid 22: loss 0.535775 0.8095:   3%|███▊                                                                                                                                           | 1/37 [00:00<00:18,  1.97it/s]\u001b[A\n",
      "Valid 22: loss 0.544374 0.6779:   3%|███▊                                                                                                                                           | 1/37 [00:00<00:18,  1.97it/s]\u001b[A\n",
      "Valid 22: loss 0.538567 0.7600:   3%|███▊                                                                                                                                           | 1/37 [00:00<00:18,  1.97it/s]\u001b[A\n",
      "Valid 22: loss 0.539247 0.7167:   3%|███▊                                                                                                                                           | 1/37 [00:00<00:18,  1.97it/s]\u001b[A\n",
      "Valid 22: loss 0.539247 0.7167:  30%|██████████████████████████████████████████▏                                                                                                   | 11/37 [00:00<00:01, 22.91it/s]\u001b[A\n",
      "Valid 22: loss 0.546039 0.6995:  30%|██████████████████████████████████████████▏                                                                                                   | 11/37 [00:00<00:01, 22.91it/s]\u001b[A\n",
      "Valid 22: loss 0.554638 0.6635:  30%|██████████████████████████████████████████▏                                                                                                   | 11/37 [00:00<00:01, 22.91it/s]\u001b[A\n",
      "Valid 22: loss 0.548257 0.7873:  30%|██████████████████████████████████████████▏                                                                                                   | 11/37 [00:00<00:01, 22.91it/s]\u001b[A\n",
      "Valid 22: loss 0.549792 0.7750:  30%|██████████████████████████████████████████▏                                                                                                   | 11/37 [00:00<00:01, 22.91it/s]\u001b[A\n",
      "Valid 22: loss 0.555136 0.6180:  30%|██████████████████████████████████████████▏                                                                                                   | 11/37 [00:00<00:01, 22.91it/s]\u001b[A\n",
      "Valid 22: loss 0.555213 0.7532:  30%|██████████████████████████████████████████▏                                                                                                   | 11/37 [00:00<00:01, 22.91it/s]\u001b[A\n",
      "Valid 22: loss 0.550127 0.7882:  30%|██████████████████████████████████████████▏                                                                                                   | 11/37 [00:00<00:01, 22.91it/s]\u001b[A\n",
      "Valid 22: loss 0.541013 0.8990:  30%|██████████████████████████████████████████▏                                                                                                   | 11/37 [00:00<00:01, 22.91it/s]\u001b[A\n",
      "Valid 22: loss 0.541765 0.7029:  30%|██████████████████████████████████████████▏                                                                                                   | 11/37 [00:00<00:01, 22.91it/s]\u001b[A\n",
      "Valid 22: loss 0.541765 0.7029:  54%|████████████████████████████████████████████████████████████████████████████▊                                                                 | 20/37 [00:00<00:00, 38.02it/s]\u001b[A\n",
      "Valid 22: loss 0.543542 0.7938:  54%|████████████████████████████████████████████████████████████████████████████▊                                                                 | 20/37 [00:00<00:00, 38.02it/s]\u001b[A\n",
      "Valid 22: loss 0.538900 0.8565:  54%|████████████████████████████████████████████████████████████████████████████▊                                                                 | 20/37 [00:00<00:00, 38.02it/s]\u001b[A\n",
      "Valid 22: loss 0.539284 0.7292:  54%|████████████████████████████████████████████████████████████████████████████▊                                                                 | 20/37 [00:00<00:00, 38.02it/s]\u001b[A\n",
      "Valid 22: loss 0.539211 0.7400:  54%|████████████████████████████████████████████████████████████████████████████▊                                                                 | 20/37 [00:00<00:00, 38.02it/s]\u001b[A\n",
      "Valid 22: loss 0.534796 0.8052:  54%|████████████████████████████████████████████████████████████████████████████▊                                                                 | 20/37 [00:00<00:00, 38.02it/s]\u001b[A\n",
      "Valid 22: loss 0.527865 0.9288:  54%|████████████████████████████████████████████████████████████████████████████▊                                                                 | 20/37 [00:00<00:00, 38.02it/s]\u001b[A\n",
      "Valid 22: loss 0.530485 0.6965:  54%|████████████████████████████████████████████████████████████████████████████▊                                                                 | 20/37 [00:00<00:00, 38.02it/s]\u001b[A\n",
      "Valid 22: loss 0.534156 0.6167:  54%|████████████████████████████████████████████████████████████████████████████▊                                                                 | 20/37 [00:00<00:00, 38.02it/s]\u001b[A\n",
      "Valid 22: loss 0.535528 0.7333:  54%|████████████████████████████████████████████████████████████████████████████▊                                                                 | 20/37 [00:00<00:00, 38.02it/s]\u001b[A\n",
      "Valid 22: loss 0.531834 0.8198:  54%|████████████████████████████████████████████████████████████████████████████▊                                                                 | 20/37 [00:00<00:00, 38.02it/s]\u001b[A\n",
      "Valid 22: loss 0.530437 0.7478:  54%|████████████████████████████████████████████████████████████████████████████▊                                                                 | 20/37 [00:00<00:00, 38.02it/s]\u001b[A\n",
      "Valid 22: loss 0.531871 0.6823:  54%|████████████████████████████████████████████████████████████████████████████▊                                                                 | 20/37 [00:00<00:00, 38.02it/s]\u001b[A\n"
     ]
    },
    {
     "name": "stderr",
     "output_type": "stream",
     "text": [
      "Valid 22: loss 0.529838 0.8172:  54%|████████████████████████████████████████████████████████████████████████████▊                                                                 | 20/37 [00:00<00:00, 38.02it/s]\u001b[A\n",
      "Valid 22: loss 0.529838 0.8172:  89%|██████████████████████████████████████████████████████████████████████████████████████████████████████████████████████████████▋               | 33/37 [00:00<00:00, 60.11it/s]\u001b[A\n",
      "Valid 22: loss 0.528769 0.7833:  89%|██████████████████████████████████████████████████████████████████████████████████████████████████████████████████████████████▋               | 33/37 [00:00<00:00, 60.11it/s]\u001b[A\n",
      "Valid 22: loss 0.528640 0.7250:  89%|██████████████████████████████████████████████████████████████████████████████████████████████████████████████████████████████▋               | 33/37 [00:00<00:00, 60.11it/s]\u001b[A\n",
      "Valid 22: loss 0.527372 0.7922:  89%|██████████████████████████████████████████████████████████████████████████████████████████████████████████████████████████████▋               | 33/37 [00:00<00:00, 60.11it/s]\u001b[A\n",
      "Valid 22: loss 0.521288 0.9167: 100%|██████████████████████████████████████████████████████████████████████████████████████████████████████████████████████████████████████████████| 37/37 [00:01<00:00, 36.47it/s]\u001b[A\n",
      "Epoch 22: loss 0.495530 0.7607:  84%|█████████████████████████████████████████████████████████████████████████████████████████████████████████████████████▊                      | 122/145 [00:03<00:00, 36.22it/s]"
     ]
    },
    {
     "name": "stdout",
     "output_type": "stream",
     "text": [
      "EarlyStopping counter: 20 out of 20\n"
     ]
    },
    {
     "name": "stderr",
     "output_type": "stream",
     "text": [
      "\n"
     ]
    }
   ],
   "source": [
    "trainer.fit()"
   ]
  },
  {
   "cell_type": "code",
   "execution_count": null,
   "id": "d940fe9e",
   "metadata": {},
   "outputs": [],
   "source": []
  }
 ],
 "metadata": {
  "kernelspec": {
   "display_name": "Python 3 (ipykernel)",
   "language": "python",
   "name": "python3"
  },
  "language_info": {
   "codemirror_mode": {
    "name": "ipython",
    "version": 3
   },
   "file_extension": ".py",
   "mimetype": "text/x-python",
   "name": "python",
   "nbconvert_exporter": "python",
   "pygments_lexer": "ipython3",
   "version": "3.8.3"
  }
 },
 "nbformat": 4,
 "nbformat_minor": 5
}
