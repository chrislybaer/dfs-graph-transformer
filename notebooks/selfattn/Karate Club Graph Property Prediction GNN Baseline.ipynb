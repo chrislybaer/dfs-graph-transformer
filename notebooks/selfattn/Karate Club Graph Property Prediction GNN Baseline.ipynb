{
 "cells": [
  {
   "cell_type": "code",
   "execution_count": 1,
   "id": "4f001349",
   "metadata": {},
   "outputs": [],
   "source": [
    "%load_ext autoreload\n",
    "%autoreload 2"
   ]
  },
  {
   "cell_type": "code",
   "execution_count": 2,
   "id": "96dfaad5",
   "metadata": {},
   "outputs": [],
   "source": [
    "import json\n",
    "import numpy as np\n",
    "import glob\n",
    "import wandb\n",
    "import os\n",
    "import torch.optim as optimizers\n",
    "import pandas as pd\n",
    "from copy import deepcopy\n",
    "from ml_collections import ConfigDict \n",
    "import tqdm\n",
    "import torch.nn.functional as F\n",
    "import torch\n",
    "import torch.nn as nn\n",
    "from collections import defaultdict\n",
    "import yaml\n",
    "from sklearn.metrics import roc_auc_score\n",
    "import networkx as nx\n",
    "\n",
    "import sys\n",
    "sys.path.append(\"../../src\")\n",
    "import dfs_code \n",
    "from dfs_transformer import collate_downstream, DFSCodeSeq2SeqFC, TrainerGNN, KarateClubDataset\n",
    "#torch.multiprocessing.set_sharing_strategy('file_system')\n",
    "\n",
    "import torch_geometric.nn as tnn\n",
    "import networkx as nx\n",
    "from torch_geometric.loader import DataLoader\n"
   ]
  },
  {
   "cell_type": "code",
   "execution_count": 3,
   "id": "1ed17efc",
   "metadata": {},
   "outputs": [],
   "source": [
    "config = wandb.config\n",
    "config.graph_file = \"../../datasets/karateclub/reddit_threads/reddit_edges.json\"\n",
    "config.label_file = \"../../datasets/karateclub/reddit_threads/reddit_target.csv\"\n",
    "config.batch_size = 50\n",
    "config.n_epochs = 5\n",
    "config.learning_rate = 0.01\n",
    "config.rep = 1\n",
    "config.max_edges = 200\n",
    "config.n_samples = 1000# None -> all\n",
    "config.n_channels = 32\n",
    "config.n_layers = 2\n",
    "config.model = \"tnn.models.GCN\"\n",
    "config.readout = \"tnn.global_mean_pool\"\n",
    "config.num_workers = 5\n",
    "config.training = {}"
   ]
  },
  {
   "cell_type": "code",
   "execution_count": 4,
   "id": "813cfd70",
   "metadata": {},
   "outputs": [
    {
     "name": "stderr",
     "output_type": "stream",
     "text": [
      "2022/10/29 18:55:48\tERROR\twandb.jupyter\tFailed to detect the name of this notebook, you can set it manually with the WANDB_NOTEBOOK_NAME environment variable to enable code saving.\n",
      "\u001b[34m\u001b[1mwandb\u001b[0m: Currently logged in as: \u001b[33meth-compiler-opters\u001b[0m (use `wandb login --relogin` to force relogin)\n",
      "\u001b[34m\u001b[1mwandb\u001b[0m: wandb version 0.13.4 is available!  To upgrade, please run:\n",
      "\u001b[34m\u001b[1mwandb\u001b[0m:  $ pip install wandb --upgrade\n"
     ]
    },
    {
     "data": {
      "text/html": [
       "\n",
       "                Tracking run with wandb version 0.10.33<br/>\n",
       "                Syncing run <strong style=\"color:#cdcd00\">GCN-ones</strong> to <a href=\"https://wandb.ai\" target=\"_blank\">Weights & Biases</a> <a href=\"https://docs.wandb.com/integrations/jupyter.html\" target=\"_blank\">(Documentation)</a>.<br/>\n",
       "                Project page: <a href=\"https://wandb.ai/dfstransformer/karateclub-twitch\" target=\"_blank\">https://wandb.ai/dfstransformer/karateclub-twitch</a><br/>\n",
       "                Run page: <a href=\"https://wandb.ai/dfstransformer/karateclub-twitch/runs/9ntn28or\" target=\"_blank\">https://wandb.ai/dfstransformer/karateclub-twitch/runs/9ntn28or</a><br/>\n",
       "                Run data is saved locally in <code>/home/chrisw/Documents/projects/2023/graph-transformer/notebooks/selfattn/wandb/run-20221029_185548-9ntn28or</code><br/><br/>\n",
       "            "
      ],
      "text/plain": [
       "<IPython.core.display.HTML object>"
      ]
     },
     "metadata": {},
     "output_type": "display_data"
    }
   ],
   "source": [
    "run = wandb.init(mode=\"online\", project=\"karateclub-twitch\", entity=\"dfstransformer\", \n",
    "                 config=config, job_type=\"evaluation\", name=\"GCN-ones\")"
   ]
  },
  {
   "cell_type": "code",
   "execution_count": 5,
   "id": "d0fb23f3",
   "metadata": {},
   "outputs": [],
   "source": [
    "with open(config.graph_file, 'r') as f:\n",
    "    graph_dict = json.load(f)\n",
    "label_df = pd.read_csv(config.label_file)"
   ]
  },
  {
   "cell_type": "code",
   "execution_count": 6,
   "id": "47092530",
   "metadata": {},
   "outputs": [
    {
     "data": {
      "text/plain": [
       "0.5124133380603483"
      ]
     },
     "execution_count": 6,
     "metadata": {},
     "output_type": "execute_result"
    }
   ],
   "source": [
    "label_df['target'].sum()/len(label_df)"
   ]
  },
  {
   "cell_type": "code",
   "execution_count": 7,
   "id": "ccd1a20a",
   "metadata": {},
   "outputs": [
    {
     "data": {
      "image/png": "[encoded data removed]",
      "text/plain": [
       "<Figure size 432x288 with 1 Axes>"
      ]
     },
     "metadata": {
      "needs_background": "light"
     },
     "output_type": "display_data"
    }
   ],
   "source": [
    "from matplotlib import pyplot as plt\n",
    "n_edges = [len(graph) for graph in graph_dict.values()]\n",
    "plt.hist(n_edges, bins='rice')\n",
    "plt.show()"
   ]
  },
  {
   "cell_type": "code",
   "execution_count": 8,
   "id": "7e0af6f4",
   "metadata": {},
   "outputs": [
    {
     "name": "stderr",
     "output_type": "stream",
     "text": [
      "1000it [00:00, 4999.50it/s]\n",
      "1000it [00:01, 596.31it/s]\n"
     ]
    }
   ],
   "source": [
    "dataset = KarateClubDataset(config.graph_file, config.label_file, max_n=config.n_samples, max_edges=config.max_edges)"
   ]
  },
  {
   "cell_type": "code",
   "execution_count": 9,
   "id": "9c96ef99",
   "metadata": {},
   "outputs": [
    {
     "data": {
      "text/plain": [
       "1000"
      ]
     },
     "execution_count": 9,
     "metadata": {},
     "output_type": "execute_result"
    }
   ],
   "source": [
    "len(dataset)"
   ]
  },
  {
   "cell_type": "code",
   "execution_count": 10,
   "id": "2162fcb0",
   "metadata": {},
   "outputs": [],
   "source": [
    "dim_input = dataset[0].x.shape[1]"
   ]
  },
  {
   "cell_type": "code",
   "execution_count": 11,
   "id": "2441f1d0",
   "metadata": {},
   "outputs": [],
   "source": [
    "from einops import rearrange\n",
    "gnn = eval(config.model)(dim_input, config.n_channels, config.n_layers, 600)\n",
    "\n",
    "\n",
    "model = tnn.Sequential('x, edge_index, batch', [\n",
    "    (gnn, 'x, edge_index -> x'),\n",
    "    (eval(config.readout), 'x, batch -> x'),\n",
    "    (nn.Linear(600, 2),'x -> x')\n",
    "])"
   ]
  },
  {
   "cell_type": "code",
   "execution_count": 12,
   "id": "be3b997c",
   "metadata": {},
   "outputs": [],
   "source": [
    "n = len(dataset)\n",
    "n_train = int(0.8*n)\n",
    "n_valid = 0\n",
    "n_test = n - n_train - n_valid\n",
    "perm = np.random.permutation(len(dataset))\n",
    "train_idx = torch.tensor(perm[:n_train], dtype=torch.long)\n",
    "valid_idx = torch.tensor(perm[n_train:n_train+n_valid].tolist(), dtype=torch.long)\n",
    "test_idx = torch.tensor(perm[n_train+n_valid:].tolist(), dtype=torch.long)"
   ]
  },
  {
   "cell_type": "code",
   "execution_count": 13,
   "id": "59ab26fc",
   "metadata": {},
   "outputs": [],
   "source": [
    "ce = nn.CrossEntropyLoss()\n",
    "#ce = nn.BCEWithLogitsLoss()"
   ]
  },
  {
   "cell_type": "code",
   "execution_count": 14,
   "id": "f2267a2e",
   "metadata": {},
   "outputs": [],
   "source": [
    "trainloader = DataLoader(dataset, sampler=torch.utils.data.SubsetRandomSampler(train_idx), \n",
    "                         batch_size=config.batch_size, num_workers=config.num_workers)\n",
    "validloader = DataLoader(dataset, sampler=torch.utils.data.SubsetRandomSampler(valid_idx), \n",
    "                         batch_size=config.batch_size, num_workers=config.num_workers)\n",
    "testloader = DataLoader(dataset, sampler=torch.utils.data.SubsetRandomSampler(test_idx), \n",
    "                        batch_size=config.batch_size, num_workers=config.num_workers)"
   ]
  },
  {
   "cell_type": "code",
   "execution_count": 15,
   "id": "dc05e0c0",
   "metadata": {},
   "outputs": [],
   "source": [
    "def loss_pretrain(pred, y, l=nn.MSELoss()):\n",
    "    return l(pred, y)\n",
    "\n",
    "def loss(pred, y, ce=ce):\n",
    "    return ce(pred, y.squeeze())\n",
    "\n",
    "def auc(pred, y):\n",
    "    try:\n",
    "        return roc_auc_score(y.detach().cpu().numpy(), pred.detach().cpu().numpy()[:, 1])\n",
    "    except ValueError:\n",
    "        return torch.tensor(0.)\n",
    "    #return roc_auc_score(y.detach().cpu().squeeze().numpy(), pred.detach().cpu().squeeze().numpy())\n",
    "    "
   ]
  },
  {
   "cell_type": "code",
   "execution_count": 19,
   "id": "b1ca24f6",
   "metadata": {},
   "outputs": [],
   "source": [
    "trainer = TrainerGNN(model, trainloader, loss, metrics={'auc': auc}, n_epochs=config.n_epochs, lr=config.learning_rate, validloader=testloader, \n",
    "                  es_period=n_train//config.batch_size, lr_adjustment_period=10*n_train//config.batch_size//4, wandb_run=run,\n",
    "                  clip_gradient_norm=None, lr_patience=5, es_patience=20)"
   ]
  },
  {
   "cell_type": "code",
   "execution_count": 20,
   "id": "d5796bd3",
   "metadata": {},
   "outputs": [
    {
     "name": "stderr",
     "output_type": "stream",
     "text": [
      "  0%|                                                                                                                                                                                       | 0/16 [00:00<?, ?it/s]/home/chrisw/miniconda3/envs/py39/lib/python3.9/site-packages/torch_geometric/data/collate.py:147: UserWarning: An output with one or more elements was resized since it had shape [444554], which does not match the required output shape [1331, 334]. This behavior is deprecated, and in a future PyTorch release outputs will not be resized unless they have zero elements. You can explicitly reuse an out tensor t by resizing it, inplace, to zero elements with t.resize_(0). (Triggered internally at  ../aten/src/ATen/native/Resize.cpp:24.)\n",
      "  value = torch.cat(values, dim=cat_dim or 0, out=out)\n",
      "/home/chrisw/miniconda3/envs/py39/lib/python3.9/site-packages/torch_geometric/data/collate.py:147: UserWarning: An output with one or more elements was resized since it had shape [5560], which does not match the required output shape [2, 2780]. This behavior is deprecated, and in a future PyTorch release outputs will not be resized unless they have zero elements. You can explicitly reuse an out tensor t by resizing it, inplace, to zero elements with t.resize_(0). (Triggered internally at  ../aten/src/ATen/native/Resize.cpp:24.)\n",
      "  value = torch.cat(values, dim=cat_dim or 0, out=out)\n",
      "/home/chrisw/miniconda3/envs/py39/lib/python3.9/site-packages/torch_geometric/data/collate.py:147: UserWarning: An output with one or more elements was resized since it had shape [420506], which does not match the required output shape [1259, 334]. This behavior is deprecated, and in a future PyTorch release outputs will not be resized unless they have zero elements. You can explicitly reuse an out tensor t by resizing it, inplace, to zero elements with t.resize_(0). (Triggered internally at  ../aten/src/ATen/native/Resize.cpp:24.)\n",
      "  value = torch.cat(values, dim=cat_dim or 0, out=out)\n",
      "/home/chrisw/miniconda3/envs/py39/lib/python3.9/site-packages/torch_geometric/data/collate.py:147: UserWarning: An output with one or more elements was resized since it had shape [5560], which does not match the required output shape [2780, 2]. This behavior is deprecated, and in a future PyTorch release outputs will not be resized unless they have zero elements. You can explicitly reuse an out tensor t by resizing it, inplace, to zero elements with t.resize_(0). (Triggered internally at  ../aten/src/ATen/native/Resize.cpp:24.)\n",
      "  value = torch.cat(values, dim=cat_dim or 0, out=out)\n",
      "/home/chrisw/miniconda3/envs/py39/lib/python3.9/site-packages/torch_geometric/data/collate.py:147: UserWarning: An output with one or more elements was resized since it had shape [5276], which does not match the required output shape [2, 2638]. This behavior is deprecated, and in a future PyTorch release outputs will not be resized unless they have zero elements. You can explicitly reuse an out tensor t by resizing it, inplace, to zero elements with t.resize_(0). (Triggered internally at  ../aten/src/ATen/native/Resize.cpp:24.)\n",
      "  value = torch.cat(values, dim=cat_dim or 0, out=out)\n",
      "/home/chrisw/miniconda3/envs/py39/lib/python3.9/site-packages/torch_geometric/data/collate.py:147: UserWarning: An output with one or more elements was resized since it had shape [397460], which does not match the required output shape [1190, 334]. This behavior is deprecated, and in a future PyTorch release outputs will not be resized unless they have zero elements. You can explicitly reuse an out tensor t by resizing it, inplace, to zero elements with t.resize_(0). (Triggered internally at  ../aten/src/ATen/native/Resize.cpp:24.)\n",
      "  value = torch.cat(values, dim=cat_dim or 0, out=out)\n",
      "/home/chrisw/miniconda3/envs/py39/lib/python3.9/site-packages/torch_geometric/data/collate.py:147: UserWarning: An output with one or more elements was resized since it had shape [5276], which does not match the required output shape [2638, 2]. This behavior is deprecated, and in a future PyTorch release outputs will not be resized unless they have zero elements. You can explicitly reuse an out tensor t by resizing it, inplace, to zero elements with t.resize_(0). (Triggered internally at  ../aten/src/ATen/native/Resize.cpp:24.)\n",
      "  value = torch.cat(values, dim=cat_dim or 0, out=out)\n",
      "/home/chrisw/miniconda3/envs/py39/lib/python3.9/site-packages/torch_geometric/data/collate.py:147: UserWarning: An output with one or more elements was resized since it had shape [5032], which does not match the required output shape [2, 2516]. This behavior is deprecated, and in a future PyTorch release outputs will not be resized unless they have zero elements. You can explicitly reuse an out tensor t by resizing it, inplace, to zero elements with t.resize_(0). (Triggered internally at  ../aten/src/ATen/native/Resize.cpp:24.)\n",
      "  value = torch.cat(values, dim=cat_dim or 0, out=out)\n",
      "/home/chrisw/miniconda3/envs/py39/lib/python3.9/site-packages/torch_geometric/data/collate.py:147: UserWarning: An output with one or more elements was resized since it had shape [324982], which does not match the required output shape [973, 334]. This behavior is deprecated, and in a future PyTorch release outputs will not be resized unless they have zero elements. You can explicitly reuse an out tensor t by resizing it, inplace, to zero elements with t.resize_(0). (Triggered internally at  ../aten/src/ATen/native/Resize.cpp:24.)\n",
      "  value = torch.cat(values, dim=cat_dim or 0, out=out)\n",
      "/home/chrisw/miniconda3/envs/py39/lib/python3.9/site-packages/torch_geometric/data/collate.py:147: UserWarning: An output with one or more elements was resized since it had shape [5032], which does not match the required output shape [2516, 2]. This behavior is deprecated, and in a future PyTorch release outputs will not be resized unless they have zero elements. You can explicitly reuse an out tensor t by resizing it, inplace, to zero elements with t.resize_(0). (Triggered internally at  ../aten/src/ATen/native/Resize.cpp:24.)\n",
      "  value = torch.cat(values, dim=cat_dim or 0, out=out)\n",
      "/home/chrisw/miniconda3/envs/py39/lib/python3.9/site-packages/torch_geometric/data/collate.py:147: UserWarning: An output with one or more elements was resized since it had shape [369738], which does not match the required output shape [1107, 334]. This behavior is deprecated, and in a future PyTorch release outputs will not be resized unless they have zero elements. You can explicitly reuse an out tensor t by resizing it, inplace, to zero elements with t.resize_(0). (Triggered internally at  ../aten/src/ATen/native/Resize.cpp:24.)\n",
      "  value = torch.cat(values, dim=cat_dim or 0, out=out)\n",
      "/home/chrisw/miniconda3/envs/py39/lib/python3.9/site-packages/torch_geometric/data/collate.py:147: UserWarning: An output with one or more elements was resized since it had shape [4012], which does not match the required output shape [2, 2006]. This behavior is deprecated, and in a future PyTorch release outputs will not be resized unless they have zero elements. You can explicitly reuse an out tensor t by resizing it, inplace, to zero elements with t.resize_(0). (Triggered internally at  ../aten/src/ATen/native/Resize.cpp:24.)\n",
      "  value = torch.cat(values, dim=cat_dim or 0, out=out)\n",
      "/home/chrisw/miniconda3/envs/py39/lib/python3.9/site-packages/torch_geometric/data/collate.py:147: UserWarning: An output with one or more elements was resized since it had shape [4472], which does not match the required output shape [2, 2236]. This behavior is deprecated, and in a future PyTorch release outputs will not be resized unless they have zero elements. You can explicitly reuse an out tensor t by resizing it, inplace, to zero elements with t.resize_(0). (Triggered internally at  ../aten/src/ATen/native/Resize.cpp:24.)\n",
      "  value = torch.cat(values, dim=cat_dim or 0, out=out)\n",
      "/home/chrisw/miniconda3/envs/py39/lib/python3.9/site-packages/torch_geometric/data/collate.py:147: UserWarning: An output with one or more elements was resized since it had shape [4012], which does not match the required output shape [2006, 2]. This behavior is deprecated, and in a future PyTorch release outputs will not be resized unless they have zero elements. You can explicitly reuse an out tensor t by resizing it, inplace, to zero elements with t.resize_(0). (Triggered internally at  ../aten/src/ATen/native/Resize.cpp:24.)\n",
      "  value = torch.cat(values, dim=cat_dim or 0, out=out)\n"
     ]
    },
    {
     "name": "stderr",
     "output_type": "stream",
     "text": [
      "/home/chrisw/miniconda3/envs/py39/lib/python3.9/site-packages/torch_geometric/data/collate.py:147: UserWarning: An output with one or more elements was resized since it had shape [4472], which does not match the required output shape [2236, 2]. This behavior is deprecated, and in a future PyTorch release outputs will not be resized unless they have zero elements. You can explicitly reuse an out tensor t by resizing it, inplace, to zero elements with t.resize_(0). (Triggered internally at  ../aten/src/ATen/native/Resize.cpp:24.)\n",
      "  value = torch.cat(values, dim=cat_dim or 0, out=out)\n",
      "/home/chrisw/miniconda3/envs/py39/lib/python3.9/site-packages/torch_geometric/data/collate.py:147: UserWarning: An output with one or more elements was resized since it had shape [379090], which does not match the required output shape [1135, 334]. This behavior is deprecated, and in a future PyTorch release outputs will not be resized unless they have zero elements. You can explicitly reuse an out tensor t by resizing it, inplace, to zero elements with t.resize_(0). (Triggered internally at  ../aten/src/ATen/native/Resize.cpp:24.)\n",
      "  value = torch.cat(values, dim=cat_dim or 0, out=out)\n",
      "/home/chrisw/miniconda3/envs/py39/lib/python3.9/site-packages/torch_geometric/data/collate.py:147: UserWarning: An output with one or more elements was resized since it had shape [423178], which does not match the required output shape [1267, 334]. This behavior is deprecated, and in a future PyTorch release outputs will not be resized unless they have zero elements. You can explicitly reuse an out tensor t by resizing it, inplace, to zero elements with t.resize_(0). (Triggered internally at  ../aten/src/ATen/native/Resize.cpp:24.)\n",
      "  value = torch.cat(values, dim=cat_dim or 0, out=out)\n",
      "/home/chrisw/miniconda3/envs/py39/lib/python3.9/site-packages/torch_geometric/data/collate.py:147: UserWarning: An output with one or more elements was resized since it had shape [399130], which does not match the required output shape [1195, 334]. This behavior is deprecated, and in a future PyTorch release outputs will not be resized unless they have zero elements. You can explicitly reuse an out tensor t by resizing it, inplace, to zero elements with t.resize_(0). (Triggered internally at  ../aten/src/ATen/native/Resize.cpp:24.)\n",
      "  value = torch.cat(values, dim=cat_dim or 0, out=out)\n",
      "/home/chrisw/miniconda3/envs/py39/lib/python3.9/site-packages/torch_geometric/data/collate.py:147: UserWarning: An output with one or more elements was resized since it had shape [4692], which does not match the required output shape [2, 2346]. This behavior is deprecated, and in a future PyTorch release outputs will not be resized unless they have zero elements. You can explicitly reuse an out tensor t by resizing it, inplace, to zero elements with t.resize_(0). (Triggered internally at  ../aten/src/ATen/native/Resize.cpp:24.)\n",
      "  value = torch.cat(values, dim=cat_dim or 0, out=out)\n",
      "/home/chrisw/miniconda3/envs/py39/lib/python3.9/site-packages/torch_geometric/data/collate.py:147: UserWarning: An output with one or more elements was resized since it had shape [4984], which does not match the required output shape [2, 2492]. This behavior is deprecated, and in a future PyTorch release outputs will not be resized unless they have zero elements. You can explicitly reuse an out tensor t by resizing it, inplace, to zero elements with t.resize_(0). (Triggered internally at  ../aten/src/ATen/native/Resize.cpp:24.)\n",
      "  value = torch.cat(values, dim=cat_dim or 0, out=out)\n",
      "/home/chrisw/miniconda3/envs/py39/lib/python3.9/site-packages/torch_geometric/data/collate.py:147: UserWarning: An output with one or more elements was resized since it had shape [397126], which does not match the required output shape [1189, 334]. This behavior is deprecated, and in a future PyTorch release outputs will not be resized unless they have zero elements. You can explicitly reuse an out tensor t by resizing it, inplace, to zero elements with t.resize_(0). (Triggered internally at  ../aten/src/ATen/native/Resize.cpp:24.)\n",
      "  value = torch.cat(values, dim=cat_dim or 0, out=out)\n",
      "/home/chrisw/miniconda3/envs/py39/lib/python3.9/site-packages/torch_geometric/data/collate.py:147: UserWarning: An output with one or more elements was resized since it had shape [377086], which does not match the required output shape [1129, 334]. This behavior is deprecated, and in a future PyTorch release outputs will not be resized unless they have zero elements. You can explicitly reuse an out tensor t by resizing it, inplace, to zero elements with t.resize_(0). (Triggered internally at  ../aten/src/ATen/native/Resize.cpp:24.)\n",
      "  value = torch.cat(values, dim=cat_dim or 0, out=out)\n",
      "/home/chrisw/miniconda3/envs/py39/lib/python3.9/site-packages/torch_geometric/data/collate.py:147: UserWarning: An output with one or more elements was resized since it had shape [5268], which does not match the required output shape [2, 2634]. This behavior is deprecated, and in a future PyTorch release outputs will not be resized unless they have zero elements. You can explicitly reuse an out tensor t by resizing it, inplace, to zero elements with t.resize_(0). (Triggered internally at  ../aten/src/ATen/native/Resize.cpp:24.)\n",
      "  value = torch.cat(values, dim=cat_dim or 0, out=out)\n",
      "/home/chrisw/miniconda3/envs/py39/lib/python3.9/site-packages/torch_geometric/data/collate.py:147: UserWarning: An output with one or more elements was resized since it had shape [4692], which does not match the required output shape [2346, 2]. This behavior is deprecated, and in a future PyTorch release outputs will not be resized unless they have zero elements. You can explicitly reuse an out tensor t by resizing it, inplace, to zero elements with t.resize_(0). (Triggered internally at  ../aten/src/ATen/native/Resize.cpp:24.)\n",
      "  value = torch.cat(values, dim=cat_dim or 0, out=out)\n",
      "/home/chrisw/miniconda3/envs/py39/lib/python3.9/site-packages/torch_geometric/data/collate.py:147: UserWarning: An output with one or more elements was resized since it had shape [4984], which does not match the required output shape [2492, 2]. This behavior is deprecated, and in a future PyTorch release outputs will not be resized unless they have zero elements. You can explicitly reuse an out tensor t by resizing it, inplace, to zero elements with t.resize_(0). (Triggered internally at  ../aten/src/ATen/native/Resize.cpp:24.)\n",
      "  value = torch.cat(values, dim=cat_dim or 0, out=out)\n",
      "/home/chrisw/miniconda3/envs/py39/lib/python3.9/site-packages/torch_geometric/data/collate.py:147: UserWarning: An output with one or more elements was resized since it had shape [4688], which does not match the required output shape [2, 2344]. This behavior is deprecated, and in a future PyTorch release outputs will not be resized unless they have zero elements. You can explicitly reuse an out tensor t by resizing it, inplace, to zero elements with t.resize_(0). (Triggered internally at  ../aten/src/ATen/native/Resize.cpp:24.)\n",
      "  value = torch.cat(values, dim=cat_dim or 0, out=out)\n",
      "/home/chrisw/miniconda3/envs/py39/lib/python3.9/site-packages/torch_geometric/data/collate.py:147: UserWarning: An output with one or more elements was resized since it had shape [5268], which does not match the required output shape [2634, 2]. This behavior is deprecated, and in a future PyTorch release outputs will not be resized unless they have zero elements. You can explicitly reuse an out tensor t by resizing it, inplace, to zero elements with t.resize_(0). (Triggered internally at  ../aten/src/ATen/native/Resize.cpp:24.)\n",
      "  value = torch.cat(values, dim=cat_dim or 0, out=out)\n",
      "/home/chrisw/miniconda3/envs/py39/lib/python3.9/site-packages/torch_geometric/data/collate.py:147: UserWarning: An output with one or more elements was resized since it had shape [5172], which does not match the required output shape [2, 2586]. This behavior is deprecated, and in a future PyTorch release outputs will not be resized unless they have zero elements. You can explicitly reuse an out tensor t by resizing it, inplace, to zero elements with t.resize_(0). (Triggered internally at  ../aten/src/ATen/native/Resize.cpp:24.)\n",
      "  value = torch.cat(values, dim=cat_dim or 0, out=out)\n"
     ]
    },
    {
     "name": "stderr",
     "output_type": "stream",
     "text": [
      "/home/chrisw/miniconda3/envs/py39/lib/python3.9/site-packages/torch_geometric/data/collate.py:147: UserWarning: An output with one or more elements was resized since it had shape [4688], which does not match the required output shape [2344, 2]. This behavior is deprecated, and in a future PyTorch release outputs will not be resized unless they have zero elements. You can explicitly reuse an out tensor t by resizing it, inplace, to zero elements with t.resize_(0). (Triggered internally at  ../aten/src/ATen/native/Resize.cpp:24.)\n",
      "  value = torch.cat(values, dim=cat_dim or 0, out=out)\n",
      "/home/chrisw/miniconda3/envs/py39/lib/python3.9/site-packages/torch_geometric/data/collate.py:147: UserWarning: An output with one or more elements was resized since it had shape [5172], which does not match the required output shape [2586, 2]. This behavior is deprecated, and in a future PyTorch release outputs will not be resized unless they have zero elements. You can explicitly reuse an out tensor t by resizing it, inplace, to zero elements with t.resize_(0). (Triggered internally at  ../aten/src/ATen/native/Resize.cpp:24.)\n",
      "  value = torch.cat(values, dim=cat_dim or 0, out=out)\n",
      "/home/chrisw/miniconda3/envs/py39/lib/python3.9/site-packages/torch_geometric/data/collate.py:147: UserWarning: An output with one or more elements was resized since it had shape [449230], which does not match the required output shape [1345, 334]. This behavior is deprecated, and in a future PyTorch release outputs will not be resized unless they have zero elements. You can explicitly reuse an out tensor t by resizing it, inplace, to zero elements with t.resize_(0). (Triggered internally at  ../aten/src/ATen/native/Resize.cpp:24.)\n",
      "  value = torch.cat(values, dim=cat_dim or 0, out=out)\n",
      "/home/chrisw/miniconda3/envs/py39/lib/python3.9/site-packages/torch_geometric/data/collate.py:147: UserWarning: An output with one or more elements was resized since it had shape [5744], which does not match the required output shape [2, 2872]. This behavior is deprecated, and in a future PyTorch release outputs will not be resized unless they have zero elements. You can explicitly reuse an out tensor t by resizing it, inplace, to zero elements with t.resize_(0). (Triggered internally at  ../aten/src/ATen/native/Resize.cpp:24.)\n",
      "  value = torch.cat(values, dim=cat_dim or 0, out=out)\n",
      "/home/chrisw/miniconda3/envs/py39/lib/python3.9/site-packages/torch_geometric/data/collate.py:147: UserWarning: An output with one or more elements was resized since it had shape [5744], which does not match the required output shape [2872, 2]. This behavior is deprecated, and in a future PyTorch release outputs will not be resized unless they have zero elements. You can explicitly reuse an out tensor t by resizing it, inplace, to zero elements with t.resize_(0). (Triggered internally at  ../aten/src/ATen/native/Resize.cpp:24.)\n",
      "  value = torch.cat(values, dim=cat_dim or 0, out=out)\n",
      "Epoch 1: loss 0.676948 0.7236:   6%|█████████                                                                                                                                       | 1/16 [00:01<00:16,  1.07s/it]/home/chrisw/miniconda3/envs/py39/lib/python3.9/site-packages/torch_geometric/data/collate.py:147: UserWarning: An output with one or more elements was resized since it had shape [367400], which does not match the required output shape [1100, 334]. This behavior is deprecated, and in a future PyTorch release outputs will not be resized unless they have zero elements. You can explicitly reuse an out tensor t by resizing it, inplace, to zero elements with t.resize_(0). (Triggered internally at  ../aten/src/ATen/native/Resize.cpp:24.)\n",
      "  value = torch.cat(values, dim=cat_dim or 0, out=out)\n",
      "Epoch 1: loss 0.661015 0.7216:  19%|███████████████████████████                                                                                                                     | 3/16 [00:01<00:04,  3.16it/s]/home/chrisw/miniconda3/envs/py39/lib/python3.9/site-packages/torch_geometric/data/collate.py:147: UserWarning: An output with one or more elements was resized since it had shape [4512], which does not match the required output shape [2, 2256]. This behavior is deprecated, and in a future PyTorch release outputs will not be resized unless they have zero elements. You can explicitly reuse an out tensor t by resizing it, inplace, to zero elements with t.resize_(0). (Triggered internally at  ../aten/src/ATen/native/Resize.cpp:24.)\n",
      "  value = torch.cat(values, dim=cat_dim or 0, out=out)\n",
      "/home/chrisw/miniconda3/envs/py39/lib/python3.9/site-packages/torch_geometric/data/collate.py:147: UserWarning: An output with one or more elements was resized since it had shape [4512], which does not match the required output shape [2256, 2]. This behavior is deprecated, and in a future PyTorch release outputs will not be resized unless they have zero elements. You can explicitly reuse an out tensor t by resizing it, inplace, to zero elements with t.resize_(0). (Triggered internally at  ../aten/src/ATen/native/Resize.cpp:24.)\n",
      "  value = torch.cat(values, dim=cat_dim or 0, out=out)\n",
      "/home/chrisw/miniconda3/envs/py39/lib/python3.9/site-packages/torch_geometric/data/collate.py:147: UserWarning: An output with one or more elements was resized since it had shape [484968], which does not match the required output shape [1452, 334]. This behavior is deprecated, and in a future PyTorch release outputs will not be resized unless they have zero elements. You can explicitly reuse an out tensor t by resizing it, inplace, to zero elements with t.resize_(0). (Triggered internally at  ../aten/src/ATen/native/Resize.cpp:24.)\n",
      "  value = torch.cat(values, dim=cat_dim or 0, out=out)\n",
      "/home/chrisw/miniconda3/envs/py39/lib/python3.9/site-packages/torch_geometric/data/collate.py:147: UserWarning: An output with one or more elements was resized since it had shape [6348], which does not match the required output shape [2, 3174]. This behavior is deprecated, and in a future PyTorch release outputs will not be resized unless they have zero elements. You can explicitly reuse an out tensor t by resizing it, inplace, to zero elements with t.resize_(0). (Triggered internally at  ../aten/src/ATen/native/Resize.cpp:24.)\n",
      "  value = torch.cat(values, dim=cat_dim or 0, out=out)\n",
      "/home/chrisw/miniconda3/envs/py39/lib/python3.9/site-packages/torch_geometric/data/collate.py:147: UserWarning: An output with one or more elements was resized since it had shape [6348], which does not match the required output shape [3174, 2]. This behavior is deprecated, and in a future PyTorch release outputs will not be resized unless they have zero elements. You can explicitly reuse an out tensor t by resizing it, inplace, to zero elements with t.resize_(0). (Triggered internally at  ../aten/src/ATen/native/Resize.cpp:24.)\n",
      "  value = torch.cat(values, dim=cat_dim or 0, out=out)\n",
      "Epoch 1: loss 0.625505 0.7397:  31%|█████████████████████████████████████████████                                                                                                   | 5/16 [00:01<00:02,  5.44it/s]/home/chrisw/miniconda3/envs/py39/lib/python3.9/site-packages/torch_geometric/data/collate.py:147: UserWarning: An output with one or more elements was resized since it had shape [371408], which does not match the required output shape [1112, 334]. This behavior is deprecated, and in a future PyTorch release outputs will not be resized unless they have zero elements. You can explicitly reuse an out tensor t by resizing it, inplace, to zero elements with t.resize_(0). (Triggered internally at  ../aten/src/ATen/native/Resize.cpp:24.)\n",
      "  value = torch.cat(values, dim=cat_dim or 0, out=out)\n",
      "/home/chrisw/miniconda3/envs/py39/lib/python3.9/site-packages/torch_geometric/data/collate.py:147: UserWarning: An output with one or more elements was resized since it had shape [4592], which does not match the required output shape [2, 2296]. This behavior is deprecated, and in a future PyTorch release outputs will not be resized unless they have zero elements. You can explicitly reuse an out tensor t by resizing it, inplace, to zero elements with t.resize_(0). (Triggered internally at  ../aten/src/ATen/native/Resize.cpp:24.)\n",
      "  value = torch.cat(values, dim=cat_dim or 0, out=out)\n"
     ]
    },
    {
     "name": "stderr",
     "output_type": "stream",
     "text": [
      "/home/chrisw/miniconda3/envs/py39/lib/python3.9/site-packages/torch_geometric/data/collate.py:147: UserWarning: An output with one or more elements was resized since it had shape [4592], which does not match the required output shape [2296, 2]. This behavior is deprecated, and in a future PyTorch release outputs will not be resized unless they have zero elements. You can explicitly reuse an out tensor t by resizing it, inplace, to zero elements with t.resize_(0). (Triggered internally at  ../aten/src/ATen/native/Resize.cpp:24.)\n",
      "  value = torch.cat(values, dim=cat_dim or 0, out=out)\n",
      "Epoch 1: loss 0.613758 0.7583:  31%|█████████████████████████████████████████████                                                                                                   | 5/16 [00:01<00:02,  5.44it/s]/home/chrisw/miniconda3/envs/py39/lib/python3.9/site-packages/torch_geometric/data/collate.py:147: UserWarning: An output with one or more elements was resized since it had shape [361054], which does not match the required output shape [1081, 334]. This behavior is deprecated, and in a future PyTorch release outputs will not be resized unless they have zero elements. You can explicitly reuse an out tensor t by resizing it, inplace, to zero elements with t.resize_(0). (Triggered internally at  ../aten/src/ATen/native/Resize.cpp:24.)\n",
      "  value = torch.cat(values, dim=cat_dim or 0, out=out)\n",
      "/home/chrisw/miniconda3/envs/py39/lib/python3.9/site-packages/torch_geometric/data/collate.py:147: UserWarning: An output with one or more elements was resized since it had shape [4428], which does not match the required output shape [2, 2214]. This behavior is deprecated, and in a future PyTorch release outputs will not be resized unless they have zero elements. You can explicitly reuse an out tensor t by resizing it, inplace, to zero elements with t.resize_(0). (Triggered internally at  ../aten/src/ATen/native/Resize.cpp:24.)\n",
      "  value = torch.cat(values, dim=cat_dim or 0, out=out)\n",
      "/home/chrisw/miniconda3/envs/py39/lib/python3.9/site-packages/torch_geometric/data/collate.py:147: UserWarning: An output with one or more elements was resized since it had shape [4428], which does not match the required output shape [2214, 2]. This behavior is deprecated, and in a future PyTorch release outputs will not be resized unless they have zero elements. You can explicitly reuse an out tensor t by resizing it, inplace, to zero elements with t.resize_(0). (Triggered internally at  ../aten/src/ATen/native/Resize.cpp:24.)\n",
      "  value = torch.cat(values, dim=cat_dim or 0, out=out)\n",
      "/home/chrisw/miniconda3/envs/py39/lib/python3.9/site-packages/torch_geometric/data/collate.py:147: UserWarning: An output with one or more elements was resized since it had shape [394788], which does not match the required output shape [1182, 334]. This behavior is deprecated, and in a future PyTorch release outputs will not be resized unless they have zero elements. You can explicitly reuse an out tensor t by resizing it, inplace, to zero elements with t.resize_(0). (Triggered internally at  ../aten/src/ATen/native/Resize.cpp:24.)\n",
      "  value = torch.cat(values, dim=cat_dim or 0, out=out)\n",
      "/home/chrisw/miniconda3/envs/py39/lib/python3.9/site-packages/torch_geometric/data/collate.py:147: UserWarning: An output with one or more elements was resized since it had shape [4896], which does not match the required output shape [2, 2448]. This behavior is deprecated, and in a future PyTorch release outputs will not be resized unless they have zero elements. You can explicitly reuse an out tensor t by resizing it, inplace, to zero elements with t.resize_(0). (Triggered internally at  ../aten/src/ATen/native/Resize.cpp:24.)\n",
      "  value = torch.cat(values, dim=cat_dim or 0, out=out)\n",
      "/home/chrisw/miniconda3/envs/py39/lib/python3.9/site-packages/torch_geometric/data/collate.py:147: UserWarning: An output with one or more elements was resized since it had shape [4896], which does not match the required output shape [2448, 2]. This behavior is deprecated, and in a future PyTorch release outputs will not be resized unless they have zero elements. You can explicitly reuse an out tensor t by resizing it, inplace, to zero elements with t.resize_(0). (Triggered internally at  ../aten/src/ATen/native/Resize.cpp:24.)\n",
      "  value = torch.cat(values, dim=cat_dim or 0, out=out)\n",
      "Epoch 1: loss 0.590026 0.7872:  94%|██████████████████████████████████████████████████████████████████████████████████████████████████████████████████████████████████████         | 15/16 [00:01<00:00, 18.10it/s]\n",
      "  0%|                                                                                                                                                                                        | 0/4 [00:00<?, ?it/s]\u001b[A/home/chrisw/miniconda3/envs/py39/lib/python3.9/site-packages/torch_geometric/data/collate.py:147: UserWarning: An output with one or more elements was resized since it had shape [466932], which does not match the required output shape [1398, 334]. This behavior is deprecated, and in a future PyTorch release outputs will not be resized unless they have zero elements. You can explicitly reuse an out tensor t by resizing it, inplace, to zero elements with t.resize_(0). (Triggered internally at  ../aten/src/ATen/native/Resize.cpp:24.)\n",
      "  value = torch.cat(values, dim=cat_dim or 0, out=out)\n",
      "/home/chrisw/miniconda3/envs/py39/lib/python3.9/site-packages/torch_geometric/data/collate.py:147: UserWarning: An output with one or more elements was resized since it had shape [5880], which does not match the required output shape [2, 2940]. This behavior is deprecated, and in a future PyTorch release outputs will not be resized unless they have zero elements. You can explicitly reuse an out tensor t by resizing it, inplace, to zero elements with t.resize_(0). (Triggered internally at  ../aten/src/ATen/native/Resize.cpp:24.)\n",
      "  value = torch.cat(values, dim=cat_dim or 0, out=out)\n",
      "/home/chrisw/miniconda3/envs/py39/lib/python3.9/site-packages/torch_geometric/data/collate.py:147: UserWarning: An output with one or more elements was resized since it had shape [408482], which does not match the required output shape [1223, 334]. This behavior is deprecated, and in a future PyTorch release outputs will not be resized unless they have zero elements. You can explicitly reuse an out tensor t by resizing it, inplace, to zero elements with t.resize_(0). (Triggered internally at  ../aten/src/ATen/native/Resize.cpp:24.)\n",
      "  value = torch.cat(values, dim=cat_dim or 0, out=out)\n",
      "/home/chrisw/miniconda3/envs/py39/lib/python3.9/site-packages/torch_geometric/data/collate.py:147: UserWarning: An output with one or more elements was resized since it had shape [382430], which does not match the required output shape [1145, 334]. This behavior is deprecated, and in a future PyTorch release outputs will not be resized unless they have zero elements. You can explicitly reuse an out tensor t by resizing it, inplace, to zero elements with t.resize_(0). (Triggered internally at  ../aten/src/ATen/native/Resize.cpp:24.)\n",
      "  value = torch.cat(values, dim=cat_dim or 0, out=out)\n",
      "/home/chrisw/miniconda3/envs/py39/lib/python3.9/site-packages/torch_geometric/data/collate.py:147: UserWarning: An output with one or more elements was resized since it had shape [5096], which does not match the required output shape [2, 2548]. This behavior is deprecated, and in a future PyTorch release outputs will not be resized unless they have zero elements. You can explicitly reuse an out tensor t by resizing it, inplace, to zero elements with t.resize_(0). (Triggered internally at  ../aten/src/ATen/native/Resize.cpp:24.)\n",
      "  value = torch.cat(values, dim=cat_dim or 0, out=out)\n",
      "/home/chrisw/miniconda3/envs/py39/lib/python3.9/site-packages/torch_geometric/data/collate.py:147: UserWarning: An output with one or more elements was resized since it had shape [5880], which does not match the required output shape [2940, 2]. This behavior is deprecated, and in a future PyTorch release outputs will not be resized unless they have zero elements. You can explicitly reuse an out tensor t by resizing it, inplace, to zero elements with t.resize_(0). (Triggered internally at  ../aten/src/ATen/native/Resize.cpp:24.)\n",
      "  value = torch.cat(values, dim=cat_dim or 0, out=out)\n"
     ]
    },
    {
     "name": "stderr",
     "output_type": "stream",
     "text": [
      "/home/chrisw/miniconda3/envs/py39/lib/python3.9/site-packages/torch_geometric/data/collate.py:147: UserWarning: An output with one or more elements was resized since it had shape [4744], which does not match the required output shape [2, 2372]. This behavior is deprecated, and in a future PyTorch release outputs will not be resized unless they have zero elements. You can explicitly reuse an out tensor t by resizing it, inplace, to zero elements with t.resize_(0). (Triggered internally at  ../aten/src/ATen/native/Resize.cpp:24.)\n",
      "  value = torch.cat(values, dim=cat_dim or 0, out=out)\n",
      "/home/chrisw/miniconda3/envs/py39/lib/python3.9/site-packages/torch_geometric/data/collate.py:147: UserWarning: An output with one or more elements was resized since it had shape [5096], which does not match the required output shape [2548, 2]. This behavior is deprecated, and in a future PyTorch release outputs will not be resized unless they have zero elements. You can explicitly reuse an out tensor t by resizing it, inplace, to zero elements with t.resize_(0). (Triggered internally at  ../aten/src/ATen/native/Resize.cpp:24.)\n",
      "  value = torch.cat(values, dim=cat_dim or 0, out=out)\n",
      "/home/chrisw/miniconda3/envs/py39/lib/python3.9/site-packages/torch_geometric/data/collate.py:147: UserWarning: An output with one or more elements was resized since it had shape [4744], which does not match the required output shape [2372, 2]. This behavior is deprecated, and in a future PyTorch release outputs will not be resized unless they have zero elements. You can explicitly reuse an out tensor t by resizing it, inplace, to zero elements with t.resize_(0). (Triggered internally at  ../aten/src/ATen/native/Resize.cpp:24.)\n",
      "  value = torch.cat(values, dim=cat_dim or 0, out=out)\n",
      "/home/chrisw/miniconda3/envs/py39/lib/python3.9/site-packages/torch_geometric/data/collate.py:147: UserWarning: An output with one or more elements was resized since it had shape [405142], which does not match the required output shape [1213, 334]. This behavior is deprecated, and in a future PyTorch release outputs will not be resized unless they have zero elements. You can explicitly reuse an out tensor t by resizing it, inplace, to zero elements with t.resize_(0). (Triggered internally at  ../aten/src/ATen/native/Resize.cpp:24.)\n",
      "  value = torch.cat(values, dim=cat_dim or 0, out=out)\n",
      "/home/chrisw/miniconda3/envs/py39/lib/python3.9/site-packages/torch_geometric/data/collate.py:147: UserWarning: An output with one or more elements was resized since it had shape [5100], which does not match the required output shape [2, 2550]. This behavior is deprecated, and in a future PyTorch release outputs will not be resized unless they have zero elements. You can explicitly reuse an out tensor t by resizing it, inplace, to zero elements with t.resize_(0). (Triggered internally at  ../aten/src/ATen/native/Resize.cpp:24.)\n",
      "  value = torch.cat(values, dim=cat_dim or 0, out=out)\n",
      "/home/chrisw/miniconda3/envs/py39/lib/python3.9/site-packages/torch_geometric/data/collate.py:147: UserWarning: An output with one or more elements was resized since it had shape [5100], which does not match the required output shape [2550, 2]. This behavior is deprecated, and in a future PyTorch release outputs will not be resized unless they have zero elements. You can explicitly reuse an out tensor t by resizing it, inplace, to zero elements with t.resize_(0). (Triggered internally at  ../aten/src/ATen/native/Resize.cpp:24.)\n",
      "  value = torch.cat(values, dim=cat_dim or 0, out=out)\n",
      "\n",
      "Valid 1: loss 0.537386 0.8456:   0%|                                                                                                                                                         | 0/4 [00:00<?, ?it/s]\u001b[A\n",
      "Valid 1: loss 0.537386 0.8456:  25%|████████████████████████████████████▎                                                                                                            | 1/4 [00:00<00:00,  3.59it/s]\u001b[A\n",
      "Valid 1: loss 0.534087 0.8555:  25%|████████████████████████████████████▎                                                                                                            | 1/4 [00:00<00:00,  3.59it/s]\u001b[A\n",
      "Valid 1: loss 0.536303 0.8933:  25%|████████████████████████████████████▎                                                                                                            | 1/4 [00:00<00:00,  3.59it/s]\u001b[A\n",
      "Valid 1: loss 0.545108 0.8268: 100%|█████████████████████████████████████████████████████████████████████████████████████████████████████████████████████████████████████████████████| 4/4 [00:00<00:00,  9.77it/s]\u001b[A\n",
      "Epoch 1: loss 0.590026 0.7872: 100%|███████████████████████████████████████████████████████████████████████████████████████████████████████████████████████████████████████████████| 16/16 [00:02<00:00,  7.40it/s]\n",
      "  0%|                                                                                                                                                                                       | 0/16 [00:00<?, ?it/s]/home/chrisw/miniconda3/envs/py39/lib/python3.9/site-packages/torch_geometric/data/collate.py:147: UserWarning: An output with one or more elements was resized since it had shape [450900], which does not match the required output shape [1350, 334]. This behavior is deprecated, and in a future PyTorch release outputs will not be resized unless they have zero elements. You can explicitly reuse an out tensor t by resizing it, inplace, to zero elements with t.resize_(0). (Triggered internally at  ../aten/src/ATen/native/Resize.cpp:24.)\n",
      "  value = torch.cat(values, dim=cat_dim or 0, out=out)\n",
      "/home/chrisw/miniconda3/envs/py39/lib/python3.9/site-packages/torch_geometric/data/collate.py:147: UserWarning: An output with one or more elements was resized since it had shape [5672], which does not match the required output shape [2836, 2]. This behavior is deprecated, and in a future PyTorch release outputs will not be resized unless they have zero elements. You can explicitly reuse an out tensor t by resizing it, inplace, to zero elements with t.resize_(0). (Triggered internally at  ../aten/src/ATen/native/Resize.cpp:24.)\n",
      "  value = torch.cat(values, dim=cat_dim or 0, out=out)\n",
      "/home/chrisw/miniconda3/envs/py39/lib/python3.9/site-packages/torch_geometric/data/collate.py:147: UserWarning: An output with one or more elements was resized since it had shape [5672], which does not match the required output shape [2, 2836]. This behavior is deprecated, and in a future PyTorch release outputs will not be resized unless they have zero elements. You can explicitly reuse an out tensor t by resizing it, inplace, to zero elements with t.resize_(0). (Triggered internally at  ../aten/src/ATen/native/Resize.cpp:24.)\n",
      "  value = torch.cat(values, dim=cat_dim or 0, out=out)\n",
      "Epoch 2: loss 0.498046 0.9097:   6%|█████████                                                                                                                                       | 1/16 [00:00<00:03,  3.92it/s]/home/chrisw/miniconda3/envs/py39/lib/python3.9/site-packages/torch_geometric/data/collate.py:147: UserWarning: An output with one or more elements was resized since it had shape [447894], which does not match the required output shape [1341, 334]. This behavior is deprecated, and in a future PyTorch release outputs will not be resized unless they have zero elements. You can explicitly reuse an out tensor t by resizing it, inplace, to zero elements with t.resize_(0). (Triggered internally at  ../aten/src/ATen/native/Resize.cpp:24.)\n",
      "  value = torch.cat(values, dim=cat_dim or 0, out=out)\n",
      "/home/chrisw/miniconda3/envs/py39/lib/python3.9/site-packages/torch_geometric/data/collate.py:147: UserWarning: An output with one or more elements was resized since it had shape [5580], which does not match the required output shape [2, 2790]. This behavior is deprecated, and in a future PyTorch release outputs will not be resized unless they have zero elements. You can explicitly reuse an out tensor t by resizing it, inplace, to zero elements with t.resize_(0). (Triggered internally at  ../aten/src/ATen/native/Resize.cpp:24.)\n",
      "  value = torch.cat(values, dim=cat_dim or 0, out=out)\n"
     ]
    },
    {
     "name": "stderr",
     "output_type": "stream",
     "text": [
      "/home/chrisw/miniconda3/envs/py39/lib/python3.9/site-packages/torch_geometric/data/collate.py:147: UserWarning: An output with one or more elements was resized since it had shape [5580], which does not match the required output shape [2790, 2]. This behavior is deprecated, and in a future PyTorch release outputs will not be resized unless they have zero elements. You can explicitly reuse an out tensor t by resizing it, inplace, to zero elements with t.resize_(0). (Triggered internally at  ../aten/src/ATen/native/Resize.cpp:24.)\n",
      "  value = torch.cat(values, dim=cat_dim or 0, out=out)\n",
      "/home/chrisw/miniconda3/envs/py39/lib/python3.9/site-packages/torch_geometric/data/collate.py:147: UserWarning: An output with one or more elements was resized since it had shape [424180], which does not match the required output shape [1270, 334]. This behavior is deprecated, and in a future PyTorch release outputs will not be resized unless they have zero elements. You can explicitly reuse an out tensor t by resizing it, inplace, to zero elements with t.resize_(0). (Triggered internally at  ../aten/src/ATen/native/Resize.cpp:24.)\n",
      "  value = torch.cat(values, dim=cat_dim or 0, out=out)\n",
      "/home/chrisw/miniconda3/envs/py39/lib/python3.9/site-packages/torch_geometric/data/collate.py:147: UserWarning: An output with one or more elements was resized since it had shape [425850], which does not match the required output shape [1275, 334]. This behavior is deprecated, and in a future PyTorch release outputs will not be resized unless they have zero elements. You can explicitly reuse an out tensor t by resizing it, inplace, to zero elements with t.resize_(0). (Triggered internally at  ../aten/src/ATen/native/Resize.cpp:24.)\n",
      "  value = torch.cat(values, dim=cat_dim or 0, out=out)\n",
      "/home/chrisw/miniconda3/envs/py39/lib/python3.9/site-packages/torch_geometric/data/collate.py:147: UserWarning: An output with one or more elements was resized since it had shape [5432], which does not match the required output shape [2, 2716]. This behavior is deprecated, and in a future PyTorch release outputs will not be resized unless they have zero elements. You can explicitly reuse an out tensor t by resizing it, inplace, to zero elements with t.resize_(0). (Triggered internally at  ../aten/src/ATen/native/Resize.cpp:24.)\n",
      "  value = torch.cat(values, dim=cat_dim or 0, out=out)\n",
      "/home/chrisw/miniconda3/envs/py39/lib/python3.9/site-packages/torch_geometric/data/collate.py:147: UserWarning: An output with one or more elements was resized since it had shape [398796], which does not match the required output shape [1194, 334]. This behavior is deprecated, and in a future PyTorch release outputs will not be resized unless they have zero elements. You can explicitly reuse an out tensor t by resizing it, inplace, to zero elements with t.resize_(0). (Triggered internally at  ../aten/src/ATen/native/Resize.cpp:24.)\n",
      "  value = torch.cat(values, dim=cat_dim or 0, out=out)\n",
      "/home/chrisw/miniconda3/envs/py39/lib/python3.9/site-packages/torch_geometric/data/collate.py:147: UserWarning: An output with one or more elements was resized since it had shape [383432], which does not match the required output shape [1148, 334]. This behavior is deprecated, and in a future PyTorch release outputs will not be resized unless they have zero elements. You can explicitly reuse an out tensor t by resizing it, inplace, to zero elements with t.resize_(0). (Triggered internally at  ../aten/src/ATen/native/Resize.cpp:24.)\n",
      "  value = torch.cat(values, dim=cat_dim or 0, out=out)\n",
      "/home/chrisw/miniconda3/envs/py39/lib/python3.9/site-packages/torch_geometric/data/collate.py:147: UserWarning: An output with one or more elements was resized since it had shape [5316], which does not match the required output shape [2, 2658]. This behavior is deprecated, and in a future PyTorch release outputs will not be resized unless they have zero elements. You can explicitly reuse an out tensor t by resizing it, inplace, to zero elements with t.resize_(0). (Triggered internally at  ../aten/src/ATen/native/Resize.cpp:24.)\n",
      "  value = torch.cat(values, dim=cat_dim or 0, out=out)\n",
      "/home/chrisw/miniconda3/envs/py39/lib/python3.9/site-packages/torch_geometric/data/collate.py:147: UserWarning: An output with one or more elements was resized since it had shape [5432], which does not match the required output shape [2716, 2]. This behavior is deprecated, and in a future PyTorch release outputs will not be resized unless they have zero elements. You can explicitly reuse an out tensor t by resizing it, inplace, to zero elements with t.resize_(0). (Triggered internally at  ../aten/src/ATen/native/Resize.cpp:24.)\n",
      "  value = torch.cat(values, dim=cat_dim or 0, out=out)\n",
      "/home/chrisw/miniconda3/envs/py39/lib/python3.9/site-packages/torch_geometric/data/collate.py:147: UserWarning: An output with one or more elements was resized since it had shape [5316], which does not match the required output shape [2658, 2]. This behavior is deprecated, and in a future PyTorch release outputs will not be resized unless they have zero elements. You can explicitly reuse an out tensor t by resizing it, inplace, to zero elements with t.resize_(0). (Triggered internally at  ../aten/src/ATen/native/Resize.cpp:24.)\n",
      "  value = torch.cat(values, dim=cat_dim or 0, out=out)\n",
      "/home/chrisw/miniconda3/envs/py39/lib/python3.9/site-packages/torch_geometric/data/collate.py:147: UserWarning: An output with one or more elements was resized since it had shape [4736], which does not match the required output shape [2, 2368]. This behavior is deprecated, and in a future PyTorch release outputs will not be resized unless they have zero elements. You can explicitly reuse an out tensor t by resizing it, inplace, to zero elements with t.resize_(0). (Triggered internally at  ../aten/src/ATen/native/Resize.cpp:24.)\n",
      "  value = torch.cat(values, dim=cat_dim or 0, out=out)\n",
      "/home/chrisw/miniconda3/envs/py39/lib/python3.9/site-packages/torch_geometric/data/collate.py:147: UserWarning: An output with one or more elements was resized since it had shape [4912], which does not match the required output shape [2, 2456]. This behavior is deprecated, and in a future PyTorch release outputs will not be resized unless they have zero elements. You can explicitly reuse an out tensor t by resizing it, inplace, to zero elements with t.resize_(0). (Triggered internally at  ../aten/src/ATen/native/Resize.cpp:24.)\n",
      "  value = torch.cat(values, dim=cat_dim or 0, out=out)\n",
      "/home/chrisw/miniconda3/envs/py39/lib/python3.9/site-packages/torch_geometric/data/collate.py:147: UserWarning: An output with one or more elements was resized since it had shape [4736], which does not match the required output shape [2368, 2]. This behavior is deprecated, and in a future PyTorch release outputs will not be resized unless they have zero elements. You can explicitly reuse an out tensor t by resizing it, inplace, to zero elements with t.resize_(0). (Triggered internally at  ../aten/src/ATen/native/Resize.cpp:24.)\n",
      "  value = torch.cat(values, dim=cat_dim or 0, out=out)\n",
      "/home/chrisw/miniconda3/envs/py39/lib/python3.9/site-packages/torch_geometric/data/collate.py:147: UserWarning: An output with one or more elements was resized since it had shape [4912], which does not match the required output shape [2456, 2]. This behavior is deprecated, and in a future PyTorch release outputs will not be resized unless they have zero elements. You can explicitly reuse an out tensor t by resizing it, inplace, to zero elements with t.resize_(0). (Triggered internally at  ../aten/src/ATen/native/Resize.cpp:24.)\n",
      "  value = torch.cat(values, dim=cat_dim or 0, out=out)\n",
      "Epoch 2: loss 0.523709 0.8565:  12%|██████████████████                                                                                                                              | 2/16 [00:00<00:02,  5.34it/s]/home/chrisw/miniconda3/envs/py39/lib/python3.9/site-packages/torch_geometric/data/collate.py:147: UserWarning: An output with one or more elements was resized since it had shape [381762], which does not match the required output shape [1143, 334]. This behavior is deprecated, and in a future PyTorch release outputs will not be resized unless they have zero elements. You can explicitly reuse an out tensor t by resizing it, inplace, to zero elements with t.resize_(0). (Triggered internally at  ../aten/src/ATen/native/Resize.cpp:24.)\n",
      "  value = torch.cat(values, dim=cat_dim or 0, out=out)\n"
     ]
    },
    {
     "name": "stderr",
     "output_type": "stream",
     "text": [
      "/home/chrisw/miniconda3/envs/py39/lib/python3.9/site-packages/torch_geometric/data/collate.py:147: UserWarning: An output with one or more elements was resized since it had shape [4692], which does not match the required output shape [2, 2346]. This behavior is deprecated, and in a future PyTorch release outputs will not be resized unless they have zero elements. You can explicitly reuse an out tensor t by resizing it, inplace, to zero elements with t.resize_(0). (Triggered internally at  ../aten/src/ATen/native/Resize.cpp:24.)\n",
      "  value = torch.cat(values, dim=cat_dim or 0, out=out)\n",
      "/home/chrisw/miniconda3/envs/py39/lib/python3.9/site-packages/torch_geometric/data/collate.py:147: UserWarning: An output with one or more elements was resized since it had shape [4692], which does not match the required output shape [2346, 2]. This behavior is deprecated, and in a future PyTorch release outputs will not be resized unless they have zero elements. You can explicitly reuse an out tensor t by resizing it, inplace, to zero elements with t.resize_(0). (Triggered internally at  ../aten/src/ATen/native/Resize.cpp:24.)\n",
      "  value = torch.cat(values, dim=cat_dim or 0, out=out)\n",
      "Epoch 2: loss 0.489435 0.8494:  25%|████████████████████████████████████                                                                                                            | 4/16 [00:00<00:01,  9.47it/s]/home/chrisw/miniconda3/envs/py39/lib/python3.9/site-packages/torch_geometric/data/collate.py:147: UserWarning: An output with one or more elements was resized since it had shape [321642], which does not match the required output shape [963, 334]. This behavior is deprecated, and in a future PyTorch release outputs will not be resized unless they have zero elements. You can explicitly reuse an out tensor t by resizing it, inplace, to zero elements with t.resize_(0). (Triggered internally at  ../aten/src/ATen/native/Resize.cpp:24.)\n",
      "  value = torch.cat(values, dim=cat_dim or 0, out=out)\n",
      "Epoch 2: loss 0.495099 0.8484:  25%|████████████████████████████████████                                                                                                            | 4/16 [00:00<00:01,  9.47it/s]/home/chrisw/miniconda3/envs/py39/lib/python3.9/site-packages/torch_geometric/data/collate.py:147: UserWarning: An output with one or more elements was resized since it had shape [355376], which does not match the required output shape [1064, 334]. This behavior is deprecated, and in a future PyTorch release outputs will not be resized unless they have zero elements. You can explicitly reuse an out tensor t by resizing it, inplace, to zero elements with t.resize_(0). (Triggered internally at  ../aten/src/ATen/native/Resize.cpp:24.)\n",
      "  value = torch.cat(values, dim=cat_dim or 0, out=out)\n",
      "/home/chrisw/miniconda3/envs/py39/lib/python3.9/site-packages/torch_geometric/data/collate.py:147: UserWarning: An output with one or more elements was resized since it had shape [344354], which does not match the required output shape [1031, 334]. This behavior is deprecated, and in a future PyTorch release outputs will not be resized unless they have zero elements. You can explicitly reuse an out tensor t by resizing it, inplace, to zero elements with t.resize_(0). (Triggered internally at  ../aten/src/ATen/native/Resize.cpp:24.)\n",
      "  value = torch.cat(values, dim=cat_dim or 0, out=out)\n",
      "/home/chrisw/miniconda3/envs/py39/lib/python3.9/site-packages/torch_geometric/data/collate.py:147: UserWarning: An output with one or more elements was resized since it had shape [423512], which does not match the required output shape [1268, 334]. This behavior is deprecated, and in a future PyTorch release outputs will not be resized unless they have zero elements. You can explicitly reuse an out tensor t by resizing it, inplace, to zero elements with t.resize_(0). (Triggered internally at  ../aten/src/ATen/native/Resize.cpp:24.)\n",
      "  value = torch.cat(values, dim=cat_dim or 0, out=out)\n",
      "/home/chrisw/miniconda3/envs/py39/lib/python3.9/site-packages/torch_geometric/data/collate.py:147: UserWarning: An output with one or more elements was resized since it had shape [3880], which does not match the required output shape [2, 1940]. This behavior is deprecated, and in a future PyTorch release outputs will not be resized unless they have zero elements. You can explicitly reuse an out tensor t by resizing it, inplace, to zero elements with t.resize_(0). (Triggered internally at  ../aten/src/ATen/native/Resize.cpp:24.)\n",
      "  value = torch.cat(values, dim=cat_dim or 0, out=out)\n",
      "/home/chrisw/miniconda3/envs/py39/lib/python3.9/site-packages/torch_geometric/data/collate.py:147: UserWarning: An output with one or more elements was resized since it had shape [4392], which does not match the required output shape [2, 2196]. This behavior is deprecated, and in a future PyTorch release outputs will not be resized unless they have zero elements. You can explicitly reuse an out tensor t by resizing it, inplace, to zero elements with t.resize_(0). (Triggered internally at  ../aten/src/ATen/native/Resize.cpp:24.)\n",
      "  value = torch.cat(values, dim=cat_dim or 0, out=out)\n",
      "/home/chrisw/miniconda3/envs/py39/lib/python3.9/site-packages/torch_geometric/data/collate.py:147: UserWarning: An output with one or more elements was resized since it had shape [4232], which does not match the required output shape [2, 2116]. This behavior is deprecated, and in a future PyTorch release outputs will not be resized unless they have zero elements. You can explicitly reuse an out tensor t by resizing it, inplace, to zero elements with t.resize_(0). (Triggered internally at  ../aten/src/ATen/native/Resize.cpp:24.)\n",
      "  value = torch.cat(values, dim=cat_dim or 0, out=out)\n",
      "/home/chrisw/miniconda3/envs/py39/lib/python3.9/site-packages/torch_geometric/data/collate.py:147: UserWarning: An output with one or more elements was resized since it had shape [3880], which does not match the required output shape [1940, 2]. This behavior is deprecated, and in a future PyTorch release outputs will not be resized unless they have zero elements. You can explicitly reuse an out tensor t by resizing it, inplace, to zero elements with t.resize_(0). (Triggered internally at  ../aten/src/ATen/native/Resize.cpp:24.)\n",
      "  value = torch.cat(values, dim=cat_dim or 0, out=out)\n",
      "/home/chrisw/miniconda3/envs/py39/lib/python3.9/site-packages/torch_geometric/data/collate.py:147: UserWarning: An output with one or more elements was resized since it had shape [5244], which does not match the required output shape [2, 2622]. This behavior is deprecated, and in a future PyTorch release outputs will not be resized unless they have zero elements. You can explicitly reuse an out tensor t by resizing it, inplace, to zero elements with t.resize_(0). (Triggered internally at  ../aten/src/ATen/native/Resize.cpp:24.)\n",
      "  value = torch.cat(values, dim=cat_dim or 0, out=out)\n",
      "/home/chrisw/miniconda3/envs/py39/lib/python3.9/site-packages/torch_geometric/data/collate.py:147: UserWarning: An output with one or more elements was resized since it had shape [4392], which does not match the required output shape [2196, 2]. This behavior is deprecated, and in a future PyTorch release outputs will not be resized unless they have zero elements. You can explicitly reuse an out tensor t by resizing it, inplace, to zero elements with t.resize_(0). (Triggered internally at  ../aten/src/ATen/native/Resize.cpp:24.)\n",
      "  value = torch.cat(values, dim=cat_dim or 0, out=out)\n",
      "/home/chrisw/miniconda3/envs/py39/lib/python3.9/site-packages/torch_geometric/data/collate.py:147: UserWarning: An output with one or more elements was resized since it had shape [4232], which does not match the required output shape [2116, 2]. This behavior is deprecated, and in a future PyTorch release outputs will not be resized unless they have zero elements. You can explicitly reuse an out tensor t by resizing it, inplace, to zero elements with t.resize_(0). (Triggered internally at  ../aten/src/ATen/native/Resize.cpp:24.)\n",
      "  value = torch.cat(values, dim=cat_dim or 0, out=out)\n",
      "/home/chrisw/miniconda3/envs/py39/lib/python3.9/site-packages/torch_geometric/data/collate.py:147: UserWarning: An output with one or more elements was resized since it had shape [5244], which does not match the required output shape [2622, 2]. This behavior is deprecated, and in a future PyTorch release outputs will not be resized unless they have zero elements. You can explicitly reuse an out tensor t by resizing it, inplace, to zero elements with t.resize_(0). (Triggered internally at  ../aten/src/ATen/native/Resize.cpp:24.)\n",
      "  value = torch.cat(values, dim=cat_dim or 0, out=out)\n"
     ]
    },
    {
     "name": "stderr",
     "output_type": "stream",
     "text": [
      "Epoch 2: loss 0.494484 0.8582:  50%|████████████████████████████████████████████████████████████████████████                                                                        | 8/16 [00:00<00:00, 15.46it/s]/home/chrisw/miniconda3/envs/py39/lib/python3.9/site-packages/torch_geometric/data/collate.py:147: UserWarning: An output with one or more elements was resized since it had shape [351034], which does not match the required output shape [1051, 334]. This behavior is deprecated, and in a future PyTorch release outputs will not be resized unless they have zero elements. You can explicitly reuse an out tensor t by resizing it, inplace, to zero elements with t.resize_(0). (Triggered internally at  ../aten/src/ATen/native/Resize.cpp:24.)\n",
      "  value = torch.cat(values, dim=cat_dim or 0, out=out)\n",
      "/home/chrisw/miniconda3/envs/py39/lib/python3.9/site-packages/torch_geometric/data/collate.py:147: UserWarning: An output with one or more elements was resized since it had shape [4488], which does not match the required output shape [2, 2244]. This behavior is deprecated, and in a future PyTorch release outputs will not be resized unless they have zero elements. You can explicitly reuse an out tensor t by resizing it, inplace, to zero elements with t.resize_(0). (Triggered internally at  ../aten/src/ATen/native/Resize.cpp:24.)\n",
      "  value = torch.cat(values, dim=cat_dim or 0, out=out)\n",
      "/home/chrisw/miniconda3/envs/py39/lib/python3.9/site-packages/torch_geometric/data/collate.py:147: UserWarning: An output with one or more elements was resized since it had shape [4488], which does not match the required output shape [2244, 2]. This behavior is deprecated, and in a future PyTorch release outputs will not be resized unless they have zero elements. You can explicitly reuse an out tensor t by resizing it, inplace, to zero elements with t.resize_(0). (Triggered internally at  ../aten/src/ATen/native/Resize.cpp:24.)\n",
      "  value = torch.cat(values, dim=cat_dim or 0, out=out)\n",
      "Epoch 2: loss 0.528275 0.8327:  50%|████████████████████████████████████████████████████████████████████████                                                                        | 8/16 [00:00<00:00, 15.46it/s]/home/chrisw/miniconda3/envs/py39/lib/python3.9/site-packages/torch_geometric/data/collate.py:147: UserWarning: An output with one or more elements was resized since it had shape [386438], which does not match the required output shape [1157, 334]. This behavior is deprecated, and in a future PyTorch release outputs will not be resized unless they have zero elements. You can explicitly reuse an out tensor t by resizing it, inplace, to zero elements with t.resize_(0). (Triggered internally at  ../aten/src/ATen/native/Resize.cpp:24.)\n",
      "  value = torch.cat(values, dim=cat_dim or 0, out=out)\n",
      "/home/chrisw/miniconda3/envs/py39/lib/python3.9/site-packages/torch_geometric/data/collate.py:147: UserWarning: An output with one or more elements was resized since it had shape [378088], which does not match the required output shape [1132, 334]. This behavior is deprecated, and in a future PyTorch release outputs will not be resized unless they have zero elements. You can explicitly reuse an out tensor t by resizing it, inplace, to zero elements with t.resize_(0). (Triggered internally at  ../aten/src/ATen/native/Resize.cpp:24.)\n",
      "  value = torch.cat(values, dim=cat_dim or 0, out=out)\n",
      "/home/chrisw/miniconda3/envs/py39/lib/python3.9/site-packages/torch_geometric/data/collate.py:147: UserWarning: An output with one or more elements was resized since it had shape [466264], which does not match the required output shape [1396, 334]. This behavior is deprecated, and in a future PyTorch release outputs will not be resized unless they have zero elements. You can explicitly reuse an out tensor t by resizing it, inplace, to zero elements with t.resize_(0). (Triggered internally at  ../aten/src/ATen/native/Resize.cpp:24.)\n",
      "  value = torch.cat(values, dim=cat_dim or 0, out=out)\n",
      "/home/chrisw/miniconda3/envs/py39/lib/python3.9/site-packages/torch_geometric/data/collate.py:147: UserWarning: An output with one or more elements was resized since it had shape [4868], which does not match the required output shape [2, 2434]. This behavior is deprecated, and in a future PyTorch release outputs will not be resized unless they have zero elements. You can explicitly reuse an out tensor t by resizing it, inplace, to zero elements with t.resize_(0). (Triggered internally at  ../aten/src/ATen/native/Resize.cpp:24.)\n",
      "  value = torch.cat(values, dim=cat_dim or 0, out=out)\n",
      "/home/chrisw/miniconda3/envs/py39/lib/python3.9/site-packages/torch_geometric/data/collate.py:147: UserWarning: An output with one or more elements was resized since it had shape [422176], which does not match the required output shape [1264, 334]. This behavior is deprecated, and in a future PyTorch release outputs will not be resized unless they have zero elements. You can explicitly reuse an out tensor t by resizing it, inplace, to zero elements with t.resize_(0). (Triggered internally at  ../aten/src/ATen/native/Resize.cpp:24.)\n",
      "  value = torch.cat(values, dim=cat_dim or 0, out=out)\n",
      "/home/chrisw/miniconda3/envs/py39/lib/python3.9/site-packages/torch_geometric/data/collate.py:147: UserWarning: An output with one or more elements was resized since it had shape [4868], which does not match the required output shape [2434, 2]. This behavior is deprecated, and in a future PyTorch release outputs will not be resized unless they have zero elements. You can explicitly reuse an out tensor t by resizing it, inplace, to zero elements with t.resize_(0). (Triggered internally at  ../aten/src/ATen/native/Resize.cpp:24.)\n",
      "  value = torch.cat(values, dim=cat_dim or 0, out=out)\n",
      "/home/chrisw/miniconda3/envs/py39/lib/python3.9/site-packages/torch_geometric/data/collate.py:147: UserWarning: An output with one or more elements was resized since it had shape [4668], which does not match the required output shape [2, 2334]. This behavior is deprecated, and in a future PyTorch release outputs will not be resized unless they have zero elements. You can explicitly reuse an out tensor t by resizing it, inplace, to zero elements with t.resize_(0). (Triggered internally at  ../aten/src/ATen/native/Resize.cpp:24.)\n",
      "  value = torch.cat(values, dim=cat_dim or 0, out=out)\n",
      "/home/chrisw/miniconda3/envs/py39/lib/python3.9/site-packages/torch_geometric/data/collate.py:147: UserWarning: An output with one or more elements was resized since it had shape [5968], which does not match the required output shape [2, 2984]. This behavior is deprecated, and in a future PyTorch release outputs will not be resized unless they have zero elements. You can explicitly reuse an out tensor t by resizing it, inplace, to zero elements with t.resize_(0). (Triggered internally at  ../aten/src/ATen/native/Resize.cpp:24.)\n",
      "  value = torch.cat(values, dim=cat_dim or 0, out=out)\n",
      "/home/chrisw/miniconda3/envs/py39/lib/python3.9/site-packages/torch_geometric/data/collate.py:147: UserWarning: An output with one or more elements was resized since it had shape [5968], which does not match the required output shape [2984, 2]. This behavior is deprecated, and in a future PyTorch release outputs will not be resized unless they have zero elements. You can explicitly reuse an out tensor t by resizing it, inplace, to zero elements with t.resize_(0). (Triggered internally at  ../aten/src/ATen/native/Resize.cpp:24.)\n",
      "  value = torch.cat(values, dim=cat_dim or 0, out=out)\n",
      "/home/chrisw/miniconda3/envs/py39/lib/python3.9/site-packages/torch_geometric/data/collate.py:147: UserWarning: An output with one or more elements was resized since it had shape [5596], which does not match the required output shape [2, 2798]. This behavior is deprecated, and in a future PyTorch release outputs will not be resized unless they have zero elements. You can explicitly reuse an out tensor t by resizing it, inplace, to zero elements with t.resize_(0). (Triggered internally at  ../aten/src/ATen/native/Resize.cpp:24.)\n",
      "  value = torch.cat(values, dim=cat_dim or 0, out=out)\n",
      "/home/chrisw/miniconda3/envs/py39/lib/python3.9/site-packages/torch_geometric/data/collate.py:147: UserWarning: An output with one or more elements was resized since it had shape [4668], which does not match the required output shape [2334, 2]. This behavior is deprecated, and in a future PyTorch release outputs will not be resized unless they have zero elements. You can explicitly reuse an out tensor t by resizing it, inplace, to zero elements with t.resize_(0). (Triggered internally at  ../aten/src/ATen/native/Resize.cpp:24.)\n",
      "  value = torch.cat(values, dim=cat_dim or 0, out=out)\n"
     ]
    },
    {
     "name": "stderr",
     "output_type": "stream",
     "text": [
      "/home/chrisw/miniconda3/envs/py39/lib/python3.9/site-packages/torch_geometric/data/collate.py:147: UserWarning: An output with one or more elements was resized since it had shape [5596], which does not match the required output shape [2798, 2]. This behavior is deprecated, and in a future PyTorch release outputs will not be resized unless they have zero elements. You can explicitly reuse an out tensor t by resizing it, inplace, to zero elements with t.resize_(0). (Triggered internally at  ../aten/src/ATen/native/Resize.cpp:24.)\n",
      "  value = torch.cat(values, dim=cat_dim or 0, out=out)\n",
      "Epoch 2: loss 0.537116 0.8275:  75%|███████████████████████████████████████████████████████████████████████████████████████████████████████████▎                                   | 12/16 [00:00<00:00, 20.33it/s]\n",
      "  0%|                                                                                                                                                                                        | 0/4 [00:00<?, ?it/s]\u001b[A/home/chrisw/miniconda3/envs/py39/lib/python3.9/site-packages/torch_geometric/data/collate.py:147: UserWarning: An output with one or more elements was resized since it had shape [429524], which does not match the required output shape [1286, 334]. This behavior is deprecated, and in a future PyTorch release outputs will not be resized unless they have zero elements. You can explicitly reuse an out tensor t by resizing it, inplace, to zero elements with t.resize_(0). (Triggered internally at  ../aten/src/ATen/native/Resize.cpp:24.)\n",
      "  value = torch.cat(values, dim=cat_dim or 0, out=out)\n",
      "/home/chrisw/miniconda3/envs/py39/lib/python3.9/site-packages/torch_geometric/data/collate.py:147: UserWarning: An output with one or more elements was resized since it had shape [351702], which does not match the required output shape [1053, 334]. This behavior is deprecated, and in a future PyTorch release outputs will not be resized unless they have zero elements. You can explicitly reuse an out tensor t by resizing it, inplace, to zero elements with t.resize_(0). (Triggered internally at  ../aten/src/ATen/native/Resize.cpp:24.)\n",
      "  value = torch.cat(values, dim=cat_dim or 0, out=out)\n",
      "/home/chrisw/miniconda3/envs/py39/lib/python3.9/site-packages/torch_geometric/data/collate.py:147: UserWarning: An output with one or more elements was resized since it had shape [448228], which does not match the required output shape [1342, 334]. This behavior is deprecated, and in a future PyTorch release outputs will not be resized unless they have zero elements. You can explicitly reuse an out tensor t by resizing it, inplace, to zero elements with t.resize_(0). (Triggered internally at  ../aten/src/ATen/native/Resize.cpp:24.)\n",
      "  value = torch.cat(values, dim=cat_dim or 0, out=out)\n",
      "/home/chrisw/miniconda3/envs/py39/lib/python3.9/site-packages/torch_geometric/data/collate.py:147: UserWarning: An output with one or more elements was resized since it had shape [433532], which does not match the required output shape [1298, 334]. This behavior is deprecated, and in a future PyTorch release outputs will not be resized unless they have zero elements. You can explicitly reuse an out tensor t by resizing it, inplace, to zero elements with t.resize_(0). (Triggered internally at  ../aten/src/ATen/native/Resize.cpp:24.)\n",
      "  value = torch.cat(values, dim=cat_dim or 0, out=out)\n",
      "/home/chrisw/miniconda3/envs/py39/lib/python3.9/site-packages/torch_geometric/data/collate.py:147: UserWarning: An output with one or more elements was resized since it had shape [5280], which does not match the required output shape [2, 2640]. This behavior is deprecated, and in a future PyTorch release outputs will not be resized unless they have zero elements. You can explicitly reuse an out tensor t by resizing it, inplace, to zero elements with t.resize_(0). (Triggered internally at  ../aten/src/ATen/native/Resize.cpp:24.)\n",
      "  value = torch.cat(values, dim=cat_dim or 0, out=out)\n",
      "/home/chrisw/miniconda3/envs/py39/lib/python3.9/site-packages/torch_geometric/data/collate.py:147: UserWarning: An output with one or more elements was resized since it had shape [4304], which does not match the required output shape [2, 2152]. This behavior is deprecated, and in a future PyTorch release outputs will not be resized unless they have zero elements. You can explicitly reuse an out tensor t by resizing it, inplace, to zero elements with t.resize_(0). (Triggered internally at  ../aten/src/ATen/native/Resize.cpp:24.)\n",
      "  value = torch.cat(values, dim=cat_dim or 0, out=out)\n",
      "/home/chrisw/miniconda3/envs/py39/lib/python3.9/site-packages/torch_geometric/data/collate.py:147: UserWarning: An output with one or more elements was resized since it had shape [5736], which does not match the required output shape [2, 2868]. This behavior is deprecated, and in a future PyTorch release outputs will not be resized unless they have zero elements. You can explicitly reuse an out tensor t by resizing it, inplace, to zero elements with t.resize_(0). (Triggered internally at  ../aten/src/ATen/native/Resize.cpp:24.)\n",
      "  value = torch.cat(values, dim=cat_dim or 0, out=out)\n",
      "/home/chrisw/miniconda3/envs/py39/lib/python3.9/site-packages/torch_geometric/data/collate.py:147: UserWarning: An output with one or more elements was resized since it had shape [5500], which does not match the required output shape [2, 2750]. This behavior is deprecated, and in a future PyTorch release outputs will not be resized unless they have zero elements. You can explicitly reuse an out tensor t by resizing it, inplace, to zero elements with t.resize_(0). (Triggered internally at  ../aten/src/ATen/native/Resize.cpp:24.)\n",
      "  value = torch.cat(values, dim=cat_dim or 0, out=out)\n",
      "/home/chrisw/miniconda3/envs/py39/lib/python3.9/site-packages/torch_geometric/data/collate.py:147: UserWarning: An output with one or more elements was resized since it had shape [5280], which does not match the required output shape [2640, 2]. This behavior is deprecated, and in a future PyTorch release outputs will not be resized unless they have zero elements. You can explicitly reuse an out tensor t by resizing it, inplace, to zero elements with t.resize_(0). (Triggered internally at  ../aten/src/ATen/native/Resize.cpp:24.)\n",
      "  value = torch.cat(values, dim=cat_dim or 0, out=out)\n",
      "/home/chrisw/miniconda3/envs/py39/lib/python3.9/site-packages/torch_geometric/data/collate.py:147: UserWarning: An output with one or more elements was resized since it had shape [5736], which does not match the required output shape [2868, 2]. This behavior is deprecated, and in a future PyTorch release outputs will not be resized unless they have zero elements. You can explicitly reuse an out tensor t by resizing it, inplace, to zero elements with t.resize_(0). (Triggered internally at  ../aten/src/ATen/native/Resize.cpp:24.)\n",
      "  value = torch.cat(values, dim=cat_dim or 0, out=out)\n",
      "/home/chrisw/miniconda3/envs/py39/lib/python3.9/site-packages/torch_geometric/data/collate.py:147: UserWarning: An output with one or more elements was resized since it had shape [4304], which does not match the required output shape [2152, 2]. This behavior is deprecated, and in a future PyTorch release outputs will not be resized unless they have zero elements. You can explicitly reuse an out tensor t by resizing it, inplace, to zero elements with t.resize_(0). (Triggered internally at  ../aten/src/ATen/native/Resize.cpp:24.)\n",
      "  value = torch.cat(values, dim=cat_dim or 0, out=out)\n",
      "/home/chrisw/miniconda3/envs/py39/lib/python3.9/site-packages/torch_geometric/data/collate.py:147: UserWarning: An output with one or more elements was resized since it had shape [5500], which does not match the required output shape [2750, 2]. This behavior is deprecated, and in a future PyTorch release outputs will not be resized unless they have zero elements. You can explicitly reuse an out tensor t by resizing it, inplace, to zero elements with t.resize_(0). (Triggered internally at  ../aten/src/ATen/native/Resize.cpp:24.)\n",
      "  value = torch.cat(values, dim=cat_dim or 0, out=out)\n",
      "\n"
     ]
    },
    {
     "name": "stderr",
     "output_type": "stream",
     "text": [
      "Valid 2: loss 0.507576 0.8728:   0%|                                                                                                                                                         | 0/4 [00:00<?, ?it/s]\u001b[A\n",
      "Valid 2: loss 0.507576 0.8728:  25%|████████████████████████████████████▎                                                                                                            | 1/4 [00:00<00:00,  4.11it/s]\u001b[A\n",
      "Valid 2: loss 0.510766 0.8718:  25%|████████████████████████████████████▎                                                                                                            | 1/4 [00:00<00:00,  4.11it/s]\u001b[A\n",
      "Valid 2: loss 0.521524 0.8406:  25%|████████████████████████████████████▎                                                                                                            | 1/4 [00:00<00:00,  4.11it/s]\u001b[A\n",
      "Valid 2: loss 0.518341 0.8425: 100%|█████████████████████████████████████████████████████████████████████████████████████████████████████████████████████████████████████████████████| 4/4 [00:00<00:00, 10.69it/s]\u001b[A\n",
      "Epoch 2: loss 0.537116 0.8275: 100%|███████████████████████████████████████████████████████████████████████████████████████████████████████████████████████████████████████████████| 16/16 [00:01<00:00, 11.59it/s]\n",
      "  0%|                                                                                                                                                                                       | 0/16 [00:00<?, ?it/s]/home/chrisw/miniconda3/envs/py39/lib/python3.9/site-packages/torch_geometric/data/collate.py:147: UserWarning: An output with one or more elements was resized since it had shape [438542], which does not match the required output shape [1313, 334]. This behavior is deprecated, and in a future PyTorch release outputs will not be resized unless they have zero elements. You can explicitly reuse an out tensor t by resizing it, inplace, to zero elements with t.resize_(0). (Triggered internally at  ../aten/src/ATen/native/Resize.cpp:24.)\n",
      "  value = torch.cat(values, dim=cat_dim or 0, out=out)\n",
      "/home/chrisw/miniconda3/envs/py39/lib/python3.9/site-packages/torch_geometric/data/collate.py:147: UserWarning: An output with one or more elements was resized since it had shape [396124], which does not match the required output shape [1186, 334]. This behavior is deprecated, and in a future PyTorch release outputs will not be resized unless they have zero elements. You can explicitly reuse an out tensor t by resizing it, inplace, to zero elements with t.resize_(0). (Triggered internally at  ../aten/src/ATen/native/Resize.cpp:24.)\n",
      "  value = torch.cat(values, dim=cat_dim or 0, out=out)\n",
      "/home/chrisw/miniconda3/envs/py39/lib/python3.9/site-packages/torch_geometric/data/collate.py:147: UserWarning: An output with one or more elements was resized since it had shape [385770], which does not match the required output shape [1155, 334]. This behavior is deprecated, and in a future PyTorch release outputs will not be resized unless they have zero elements. You can explicitly reuse an out tensor t by resizing it, inplace, to zero elements with t.resize_(0). (Triggered internally at  ../aten/src/ATen/native/Resize.cpp:24.)\n",
      "  value = torch.cat(values, dim=cat_dim or 0, out=out)\n",
      "/home/chrisw/miniconda3/envs/py39/lib/python3.9/site-packages/torch_geometric/data/collate.py:147: UserWarning: An output with one or more elements was resized since it had shape [413492], which does not match the required output shape [1238, 334]. This behavior is deprecated, and in a future PyTorch release outputs will not be resized unless they have zero elements. You can explicitly reuse an out tensor t by resizing it, inplace, to zero elements with t.resize_(0). (Triggered internally at  ../aten/src/ATen/native/Resize.cpp:24.)\n",
      "  value = torch.cat(values, dim=cat_dim or 0, out=out)\n",
      "/home/chrisw/miniconda3/envs/py39/lib/python3.9/site-packages/torch_geometric/data/collate.py:147: UserWarning: An output with one or more elements was resized since it had shape [423512], which does not match the required output shape [1268, 334]. This behavior is deprecated, and in a future PyTorch release outputs will not be resized unless they have zero elements. You can explicitly reuse an out tensor t by resizing it, inplace, to zero elements with t.resize_(0). (Triggered internally at  ../aten/src/ATen/native/Resize.cpp:24.)\n",
      "  value = torch.cat(values, dim=cat_dim or 0, out=out)\n",
      "/home/chrisw/miniconda3/envs/py39/lib/python3.9/site-packages/torch_geometric/data/collate.py:147: UserWarning: An output with one or more elements was resized since it had shape [5344], which does not match the required output shape [2, 2672]. This behavior is deprecated, and in a future PyTorch release outputs will not be resized unless they have zero elements. You can explicitly reuse an out tensor t by resizing it, inplace, to zero elements with t.resize_(0). (Triggered internally at  ../aten/src/ATen/native/Resize.cpp:24.)\n",
      "  value = torch.cat(values, dim=cat_dim or 0, out=out)\n",
      "/home/chrisw/miniconda3/envs/py39/lib/python3.9/site-packages/torch_geometric/data/collate.py:147: UserWarning: An output with one or more elements was resized since it had shape [4712], which does not match the required output shape [2, 2356]. This behavior is deprecated, and in a future PyTorch release outputs will not be resized unless they have zero elements. You can explicitly reuse an out tensor t by resizing it, inplace, to zero elements with t.resize_(0). (Triggered internally at  ../aten/src/ATen/native/Resize.cpp:24.)\n",
      "  value = torch.cat(values, dim=cat_dim or 0, out=out)\n",
      "/home/chrisw/miniconda3/envs/py39/lib/python3.9/site-packages/torch_geometric/data/collate.py:147: UserWarning: An output with one or more elements was resized since it had shape [5088], which does not match the required output shape [2, 2544]. This behavior is deprecated, and in a future PyTorch release outputs will not be resized unless they have zero elements. You can explicitly reuse an out tensor t by resizing it, inplace, to zero elements with t.resize_(0). (Triggered internally at  ../aten/src/ATen/native/Resize.cpp:24.)\n",
      "  value = torch.cat(values, dim=cat_dim or 0, out=out)\n",
      "/home/chrisw/miniconda3/envs/py39/lib/python3.9/site-packages/torch_geometric/data/collate.py:147: UserWarning: An output with one or more elements was resized since it had shape [5196], which does not match the required output shape [2, 2598]. This behavior is deprecated, and in a future PyTorch release outputs will not be resized unless they have zero elements. You can explicitly reuse an out tensor t by resizing it, inplace, to zero elements with t.resize_(0). (Triggered internally at  ../aten/src/ATen/native/Resize.cpp:24.)\n",
      "  value = torch.cat(values, dim=cat_dim or 0, out=out)\n",
      "/home/chrisw/miniconda3/envs/py39/lib/python3.9/site-packages/torch_geometric/data/collate.py:147: UserWarning: An output with one or more elements was resized since it had shape [5224], which does not match the required output shape [2, 2612]. This behavior is deprecated, and in a future PyTorch release outputs will not be resized unless they have zero elements. You can explicitly reuse an out tensor t by resizing it, inplace, to zero elements with t.resize_(0). (Triggered internally at  ../aten/src/ATen/native/Resize.cpp:24.)\n",
      "  value = torch.cat(values, dim=cat_dim or 0, out=out)\n",
      "/home/chrisw/miniconda3/envs/py39/lib/python3.9/site-packages/torch_geometric/data/collate.py:147: UserWarning: An output with one or more elements was resized since it had shape [5344], which does not match the required output shape [2672, 2]. This behavior is deprecated, and in a future PyTorch release outputs will not be resized unless they have zero elements. You can explicitly reuse an out tensor t by resizing it, inplace, to zero elements with t.resize_(0). (Triggered internally at  ../aten/src/ATen/native/Resize.cpp:24.)\n",
      "  value = torch.cat(values, dim=cat_dim or 0, out=out)\n",
      "/home/chrisw/miniconda3/envs/py39/lib/python3.9/site-packages/torch_geometric/data/collate.py:147: UserWarning: An output with one or more elements was resized since it had shape [4712], which does not match the required output shape [2356, 2]. This behavior is deprecated, and in a future PyTorch release outputs will not be resized unless they have zero elements. You can explicitly reuse an out tensor t by resizing it, inplace, to zero elements with t.resize_(0). (Triggered internally at  ../aten/src/ATen/native/Resize.cpp:24.)\n",
      "  value = torch.cat(values, dim=cat_dim or 0, out=out)\n"
     ]
    },
    {
     "name": "stderr",
     "output_type": "stream",
     "text": [
      "/home/chrisw/miniconda3/envs/py39/lib/python3.9/site-packages/torch_geometric/data/collate.py:147: UserWarning: An output with one or more elements was resized since it had shape [5196], which does not match the required output shape [2598, 2]. This behavior is deprecated, and in a future PyTorch release outputs will not be resized unless they have zero elements. You can explicitly reuse an out tensor t by resizing it, inplace, to zero elements with t.resize_(0). (Triggered internally at  ../aten/src/ATen/native/Resize.cpp:24.)\n",
      "  value = torch.cat(values, dim=cat_dim or 0, out=out)\n",
      "/home/chrisw/miniconda3/envs/py39/lib/python3.9/site-packages/torch_geometric/data/collate.py:147: UserWarning: An output with one or more elements was resized since it had shape [5224], which does not match the required output shape [2612, 2]. This behavior is deprecated, and in a future PyTorch release outputs will not be resized unless they have zero elements. You can explicitly reuse an out tensor t by resizing it, inplace, to zero elements with t.resize_(0). (Triggered internally at  ../aten/src/ATen/native/Resize.cpp:24.)\n",
      "  value = torch.cat(values, dim=cat_dim or 0, out=out)\n",
      "/home/chrisw/miniconda3/envs/py39/lib/python3.9/site-packages/torch_geometric/data/collate.py:147: UserWarning: An output with one or more elements was resized since it had shape [5088], which does not match the required output shape [2544, 2]. This behavior is deprecated, and in a future PyTorch release outputs will not be resized unless they have zero elements. You can explicitly reuse an out tensor t by resizing it, inplace, to zero elements with t.resize_(0). (Triggered internally at  ../aten/src/ATen/native/Resize.cpp:24.)\n",
      "  value = torch.cat(values, dim=cat_dim or 0, out=out)\n",
      "Epoch 3: loss 0.470472 0.8967:  19%|███████████████████████████                                                                                                                     | 3/16 [00:00<00:02,  6.40it/s]/home/chrisw/miniconda3/envs/py39/lib/python3.9/site-packages/torch_geometric/data/collate.py:147: UserWarning: An output with one or more elements was resized since it had shape [418836], which does not match the required output shape [1254, 334]. This behavior is deprecated, and in a future PyTorch release outputs will not be resized unless they have zero elements. You can explicitly reuse an out tensor t by resizing it, inplace, to zero elements with t.resize_(0). (Triggered internally at  ../aten/src/ATen/native/Resize.cpp:24.)\n",
      "  value = torch.cat(values, dim=cat_dim or 0, out=out)\n",
      "/home/chrisw/miniconda3/envs/py39/lib/python3.9/site-packages/torch_geometric/data/collate.py:147: UserWarning: An output with one or more elements was resized since it had shape [5232], which does not match the required output shape [2, 2616]. This behavior is deprecated, and in a future PyTorch release outputs will not be resized unless they have zero elements. You can explicitly reuse an out tensor t by resizing it, inplace, to zero elements with t.resize_(0). (Triggered internally at  ../aten/src/ATen/native/Resize.cpp:24.)\n",
      "  value = torch.cat(values, dim=cat_dim or 0, out=out)\n",
      "/home/chrisw/miniconda3/envs/py39/lib/python3.9/site-packages/torch_geometric/data/collate.py:147: UserWarning: An output with one or more elements was resized since it had shape [5232], which does not match the required output shape [2616, 2]. This behavior is deprecated, and in a future PyTorch release outputs will not be resized unless they have zero elements. You can explicitly reuse an out tensor t by resizing it, inplace, to zero elements with t.resize_(0). (Triggered internally at  ../aten/src/ATen/native/Resize.cpp:24.)\n",
      "  value = torch.cat(values, dim=cat_dim or 0, out=out)\n",
      "/home/chrisw/miniconda3/envs/py39/lib/python3.9/site-packages/torch_geometric/data/collate.py:147: UserWarning: An output with one or more elements was resized since it had shape [400466], which does not match the required output shape [1199, 334]. This behavior is deprecated, and in a future PyTorch release outputs will not be resized unless they have zero elements. You can explicitly reuse an out tensor t by resizing it, inplace, to zero elements with t.resize_(0). (Triggered internally at  ../aten/src/ATen/native/Resize.cpp:24.)\n",
      "  value = torch.cat(values, dim=cat_dim or 0, out=out)\n",
      "/home/chrisw/miniconda3/envs/py39/lib/python3.9/site-packages/torch_geometric/data/collate.py:147: UserWarning: An output with one or more elements was resized since it had shape [351702], which does not match the required output shape [1053, 334]. This behavior is deprecated, and in a future PyTorch release outputs will not be resized unless they have zero elements. You can explicitly reuse an out tensor t by resizing it, inplace, to zero elements with t.resize_(0). (Triggered internally at  ../aten/src/ATen/native/Resize.cpp:24.)\n",
      "  value = torch.cat(values, dim=cat_dim or 0, out=out)\n",
      "/home/chrisw/miniconda3/envs/py39/lib/python3.9/site-packages/torch_geometric/data/collate.py:147: UserWarning: An output with one or more elements was resized since it had shape [384768], which does not match the required output shape [1152, 334]. This behavior is deprecated, and in a future PyTorch release outputs will not be resized unless they have zero elements. You can explicitly reuse an out tensor t by resizing it, inplace, to zero elements with t.resize_(0). (Triggered internally at  ../aten/src/ATen/native/Resize.cpp:24.)\n",
      "  value = torch.cat(values, dim=cat_dim or 0, out=out)\n",
      "/home/chrisw/miniconda3/envs/py39/lib/python3.9/site-packages/torch_geometric/data/collate.py:147: UserWarning: An output with one or more elements was resized since it had shape [331662], which does not match the required output shape [993, 334]. This behavior is deprecated, and in a future PyTorch release outputs will not be resized unless they have zero elements. You can explicitly reuse an out tensor t by resizing it, inplace, to zero elements with t.resize_(0). (Triggered internally at  ../aten/src/ATen/native/Resize.cpp:24.)\n",
      "  value = torch.cat(values, dim=cat_dim or 0, out=out)\n",
      "/home/chrisw/miniconda3/envs/py39/lib/python3.9/site-packages/torch_geometric/data/collate.py:147: UserWarning: An output with one or more elements was resized since it had shape [5140], which does not match the required output shape [2, 2570]. This behavior is deprecated, and in a future PyTorch release outputs will not be resized unless they have zero elements. You can explicitly reuse an out tensor t by resizing it, inplace, to zero elements with t.resize_(0). (Triggered internally at  ../aten/src/ATen/native/Resize.cpp:24.)\n",
      "  value = torch.cat(values, dim=cat_dim or 0, out=out)\n",
      "/home/chrisw/miniconda3/envs/py39/lib/python3.9/site-packages/torch_geometric/data/collate.py:147: UserWarning: An output with one or more elements was resized since it had shape [4248], which does not match the required output shape [2, 2124]. This behavior is deprecated, and in a future PyTorch release outputs will not be resized unless they have zero elements. You can explicitly reuse an out tensor t by resizing it, inplace, to zero elements with t.resize_(0). (Triggered internally at  ../aten/src/ATen/native/Resize.cpp:24.)\n",
      "  value = torch.cat(values, dim=cat_dim or 0, out=out)\n",
      "/home/chrisw/miniconda3/envs/py39/lib/python3.9/site-packages/torch_geometric/data/collate.py:147: UserWarning: An output with one or more elements was resized since it had shape [4468], which does not match the required output shape [2, 2234]. This behavior is deprecated, and in a future PyTorch release outputs will not be resized unless they have zero elements. You can explicitly reuse an out tensor t by resizing it, inplace, to zero elements with t.resize_(0). (Triggered internally at  ../aten/src/ATen/native/Resize.cpp:24.)\n",
      "  value = torch.cat(values, dim=cat_dim or 0, out=out)\n",
      "Epoch 3: loss 0.480580 0.8778:  19%|███████████████████████████                                                                                                                     | 3/16 [00:00<00:02,  6.40it/s]/home/chrisw/miniconda3/envs/py39/lib/python3.9/site-packages/torch_geometric/data/collate.py:147: UserWarning: An output with one or more elements was resized since it had shape [4700], which does not match the required output shape [2, 2350]. This behavior is deprecated, and in a future PyTorch release outputs will not be resized unless they have zero elements. You can explicitly reuse an out tensor t by resizing it, inplace, to zero elements with t.resize_(0). (Triggered internally at  ../aten/src/ATen/native/Resize.cpp:24.)\n",
      "  value = torch.cat(values, dim=cat_dim or 0, out=out)\n"
     ]
    },
    {
     "name": "stderr",
     "output_type": "stream",
     "text": [
      "/home/chrisw/miniconda3/envs/py39/lib/python3.9/site-packages/torch_geometric/data/collate.py:147: UserWarning: An output with one or more elements was resized since it had shape [4468], which does not match the required output shape [2234, 2]. This behavior is deprecated, and in a future PyTorch release outputs will not be resized unless they have zero elements. You can explicitly reuse an out tensor t by resizing it, inplace, to zero elements with t.resize_(0). (Triggered internally at  ../aten/src/ATen/native/Resize.cpp:24.)\n",
      "  value = torch.cat(values, dim=cat_dim or 0, out=out)\n",
      "/home/chrisw/miniconda3/envs/py39/lib/python3.9/site-packages/torch_geometric/data/collate.py:147: UserWarning: An output with one or more elements was resized since it had shape [4248], which does not match the required output shape [2124, 2]. This behavior is deprecated, and in a future PyTorch release outputs will not be resized unless they have zero elements. You can explicitly reuse an out tensor t by resizing it, inplace, to zero elements with t.resize_(0). (Triggered internally at  ../aten/src/ATen/native/Resize.cpp:24.)\n",
      "  value = torch.cat(values, dim=cat_dim or 0, out=out)\n",
      "/home/chrisw/miniconda3/envs/py39/lib/python3.9/site-packages/torch_geometric/data/collate.py:147: UserWarning: An output with one or more elements was resized since it had shape [5140], which does not match the required output shape [2570, 2]. This behavior is deprecated, and in a future PyTorch release outputs will not be resized unless they have zero elements. You can explicitly reuse an out tensor t by resizing it, inplace, to zero elements with t.resize_(0). (Triggered internally at  ../aten/src/ATen/native/Resize.cpp:24.)\n",
      "  value = torch.cat(values, dim=cat_dim or 0, out=out)\n",
      "/home/chrisw/miniconda3/envs/py39/lib/python3.9/site-packages/torch_geometric/data/collate.py:147: UserWarning: An output with one or more elements was resized since it had shape [4700], which does not match the required output shape [2350, 2]. This behavior is deprecated, and in a future PyTorch release outputs will not be resized unless they have zero elements. You can explicitly reuse an out tensor t by resizing it, inplace, to zero elements with t.resize_(0). (Triggered internally at  ../aten/src/ATen/native/Resize.cpp:24.)\n",
      "  value = torch.cat(values, dim=cat_dim or 0, out=out)\n",
      "Epoch 3: loss 0.513129 0.8444:  56%|█████████████████████████████████████████████████████████████████████████████████                                                               | 9/16 [00:00<00:00, 15.64it/s]/home/chrisw/miniconda3/envs/py39/lib/python3.9/site-packages/torch_geometric/data/collate.py:147: UserWarning: An output with one or more elements was resized since it had shape [394120], which does not match the required output shape [1180, 334]. This behavior is deprecated, and in a future PyTorch release outputs will not be resized unless they have zero elements. You can explicitly reuse an out tensor t by resizing it, inplace, to zero elements with t.resize_(0). (Triggered internally at  ../aten/src/ATen/native/Resize.cpp:24.)\n",
      "  value = torch.cat(values, dim=cat_dim or 0, out=out)\n",
      "/home/chrisw/miniconda3/envs/py39/lib/python3.9/site-packages/torch_geometric/data/collate.py:147: UserWarning: An output with one or more elements was resized since it had shape [4932], which does not match the required output shape [2, 2466]. This behavior is deprecated, and in a future PyTorch release outputs will not be resized unless they have zero elements. You can explicitly reuse an out tensor t by resizing it, inplace, to zero elements with t.resize_(0). (Triggered internally at  ../aten/src/ATen/native/Resize.cpp:24.)\n",
      "  value = torch.cat(values, dim=cat_dim or 0, out=out)\n",
      "/home/chrisw/miniconda3/envs/py39/lib/python3.9/site-packages/torch_geometric/data/collate.py:147: UserWarning: An output with one or more elements was resized since it had shape [4932], which does not match the required output shape [2466, 2]. This behavior is deprecated, and in a future PyTorch release outputs will not be resized unless they have zero elements. You can explicitly reuse an out tensor t by resizing it, inplace, to zero elements with t.resize_(0). (Triggered internally at  ../aten/src/ATen/native/Resize.cpp:24.)\n",
      "  value = torch.cat(values, dim=cat_dim or 0, out=out)\n",
      "Epoch 3: loss 0.516795 0.8430:  56%|█████████████████████████████████████████████████████████████████████████████████                                                               | 9/16 [00:00<00:00, 15.64it/s]/home/chrisw/miniconda3/envs/py39/lib/python3.9/site-packages/torch_geometric/data/collate.py:147: UserWarning: An output with one or more elements was resized since it had shape [419170], which does not match the required output shape [1255, 334]. This behavior is deprecated, and in a future PyTorch release outputs will not be resized unless they have zero elements. You can explicitly reuse an out tensor t by resizing it, inplace, to zero elements with t.resize_(0). (Triggered internally at  ../aten/src/ATen/native/Resize.cpp:24.)\n",
      "  value = torch.cat(values, dim=cat_dim or 0, out=out)\n",
      "/home/chrisw/miniconda3/envs/py39/lib/python3.9/site-packages/torch_geometric/data/collate.py:147: UserWarning: An output with one or more elements was resized since it had shape [398796], which does not match the required output shape [1194, 334]. This behavior is deprecated, and in a future PyTorch release outputs will not be resized unless they have zero elements. You can explicitly reuse an out tensor t by resizing it, inplace, to zero elements with t.resize_(0). (Triggered internally at  ../aten/src/ATen/native/Resize.cpp:24.)\n",
      "  value = torch.cat(values, dim=cat_dim or 0, out=out)\n",
      "/home/chrisw/miniconda3/envs/py39/lib/python3.9/site-packages/torch_geometric/data/collate.py:147: UserWarning: An output with one or more elements was resized since it had shape [5348], which does not match the required output shape [2, 2674]. This behavior is deprecated, and in a future PyTorch release outputs will not be resized unless they have zero elements. You can explicitly reuse an out tensor t by resizing it, inplace, to zero elements with t.resize_(0). (Triggered internally at  ../aten/src/ATen/native/Resize.cpp:24.)\n",
      "  value = torch.cat(values, dim=cat_dim or 0, out=out)\n",
      "/home/chrisw/miniconda3/envs/py39/lib/python3.9/site-packages/torch_geometric/data/collate.py:147: UserWarning: An output with one or more elements was resized since it had shape [5004], which does not match the required output shape [2, 2502]. This behavior is deprecated, and in a future PyTorch release outputs will not be resized unless they have zero elements. You can explicitly reuse an out tensor t by resizing it, inplace, to zero elements with t.resize_(0). (Triggered internally at  ../aten/src/ATen/native/Resize.cpp:24.)\n",
      "  value = torch.cat(values, dim=cat_dim or 0, out=out)\n",
      "/home/chrisw/miniconda3/envs/py39/lib/python3.9/site-packages/torch_geometric/data/collate.py:147: UserWarning: An output with one or more elements was resized since it had shape [409484], which does not match the required output shape [1226, 334]. This behavior is deprecated, and in a future PyTorch release outputs will not be resized unless they have zero elements. You can explicitly reuse an out tensor t by resizing it, inplace, to zero elements with t.resize_(0). (Triggered internally at  ../aten/src/ATen/native/Resize.cpp:24.)\n",
      "  value = torch.cat(values, dim=cat_dim or 0, out=out)\n",
      "/home/chrisw/miniconda3/envs/py39/lib/python3.9/site-packages/torch_geometric/data/collate.py:147: UserWarning: An output with one or more elements was resized since it had shape [336338], which does not match the required output shape [1007, 334]. This behavior is deprecated, and in a future PyTorch release outputs will not be resized unless they have zero elements. You can explicitly reuse an out tensor t by resizing it, inplace, to zero elements with t.resize_(0). (Triggered internally at  ../aten/src/ATen/native/Resize.cpp:24.)\n",
      "  value = torch.cat(values, dim=cat_dim or 0, out=out)\n",
      "/home/chrisw/miniconda3/envs/py39/lib/python3.9/site-packages/torch_geometric/data/collate.py:147: UserWarning: An output with one or more elements was resized since it had shape [5348], which does not match the required output shape [2674, 2]. This behavior is deprecated, and in a future PyTorch release outputs will not be resized unless they have zero elements. You can explicitly reuse an out tensor t by resizing it, inplace, to zero elements with t.resize_(0). (Triggered internally at  ../aten/src/ATen/native/Resize.cpp:24.)\n",
      "  value = torch.cat(values, dim=cat_dim or 0, out=out)\n"
     ]
    },
    {
     "name": "stderr",
     "output_type": "stream",
     "text": [
      "/home/chrisw/miniconda3/envs/py39/lib/python3.9/site-packages/torch_geometric/data/collate.py:147: UserWarning: An output with one or more elements was resized since it had shape [5004], which does not match the required output shape [2502, 2]. This behavior is deprecated, and in a future PyTorch release outputs will not be resized unless they have zero elements. You can explicitly reuse an out tensor t by resizing it, inplace, to zero elements with t.resize_(0). (Triggered internally at  ../aten/src/ATen/native/Resize.cpp:24.)\n",
      "  value = torch.cat(values, dim=cat_dim or 0, out=out)\n",
      "/home/chrisw/miniconda3/envs/py39/lib/python3.9/site-packages/torch_geometric/data/collate.py:147: UserWarning: An output with one or more elements was resized since it had shape [5108], which does not match the required output shape [2, 2554]. This behavior is deprecated, and in a future PyTorch release outputs will not be resized unless they have zero elements. You can explicitly reuse an out tensor t by resizing it, inplace, to zero elements with t.resize_(0). (Triggered internally at  ../aten/src/ATen/native/Resize.cpp:24.)\n",
      "  value = torch.cat(values, dim=cat_dim or 0, out=out)\n",
      "/home/chrisw/miniconda3/envs/py39/lib/python3.9/site-packages/torch_geometric/data/collate.py:147: UserWarning: An output with one or more elements was resized since it had shape [5108], which does not match the required output shape [2554, 2]. This behavior is deprecated, and in a future PyTorch release outputs will not be resized unless they have zero elements. You can explicitly reuse an out tensor t by resizing it, inplace, to zero elements with t.resize_(0). (Triggered internally at  ../aten/src/ATen/native/Resize.cpp:24.)\n",
      "  value = torch.cat(values, dim=cat_dim or 0, out=out)\n",
      "/home/chrisw/miniconda3/envs/py39/lib/python3.9/site-packages/torch_geometric/data/collate.py:147: UserWarning: An output with one or more elements was resized since it had shape [4160], which does not match the required output shape [2, 2080]. This behavior is deprecated, and in a future PyTorch release outputs will not be resized unless they have zero elements. You can explicitly reuse an out tensor t by resizing it, inplace, to zero elements with t.resize_(0). (Triggered internally at  ../aten/src/ATen/native/Resize.cpp:24.)\n",
      "  value = torch.cat(values, dim=cat_dim or 0, out=out)\n",
      "/home/chrisw/miniconda3/envs/py39/lib/python3.9/site-packages/torch_geometric/data/collate.py:147: UserWarning: An output with one or more elements was resized since it had shape [4160], which does not match the required output shape [2080, 2]. This behavior is deprecated, and in a future PyTorch release outputs will not be resized unless they have zero elements. You can explicitly reuse an out tensor t by resizing it, inplace, to zero elements with t.resize_(0). (Triggered internally at  ../aten/src/ATen/native/Resize.cpp:24.)\n",
      "  value = torch.cat(values, dim=cat_dim or 0, out=out)\n",
      "Epoch 3: loss 0.521513 0.8437:  56%|█████████████████████████████████████████████████████████████████████████████████                                                               | 9/16 [00:00<00:00, 15.64it/s]/home/chrisw/miniconda3/envs/py39/lib/python3.9/site-packages/torch_geometric/data/collate.py:147: UserWarning: An output with one or more elements was resized since it had shape [458916], which does not match the required output shape [1374, 334]. This behavior is deprecated, and in a future PyTorch release outputs will not be resized unless they have zero elements. You can explicitly reuse an out tensor t by resizing it, inplace, to zero elements with t.resize_(0). (Triggered internally at  ../aten/src/ATen/native/Resize.cpp:24.)\n",
      "  value = torch.cat(values, dim=cat_dim or 0, out=out)\n",
      "/home/chrisw/miniconda3/envs/py39/lib/python3.9/site-packages/torch_geometric/data/collate.py:147: UserWarning: An output with one or more elements was resized since it had shape [5772], which does not match the required output shape [2, 2886]. This behavior is deprecated, and in a future PyTorch release outputs will not be resized unless they have zero elements. You can explicitly reuse an out tensor t by resizing it, inplace, to zero elements with t.resize_(0). (Triggered internally at  ../aten/src/ATen/native/Resize.cpp:24.)\n",
      "  value = torch.cat(values, dim=cat_dim or 0, out=out)\n",
      "/home/chrisw/miniconda3/envs/py39/lib/python3.9/site-packages/torch_geometric/data/collate.py:147: UserWarning: An output with one or more elements was resized since it had shape [5772], which does not match the required output shape [2886, 2]. This behavior is deprecated, and in a future PyTorch release outputs will not be resized unless they have zero elements. You can explicitly reuse an out tensor t by resizing it, inplace, to zero elements with t.resize_(0). (Triggered internally at  ../aten/src/ATen/native/Resize.cpp:24.)\n",
      "  value = torch.cat(values, dim=cat_dim or 0, out=out)\n",
      "Epoch 3: loss 0.533054 0.8384:  75%|███████████████████████████████████████████████████████████████████████████████████████████████████████████▎                                   | 12/16 [00:00<00:00, 18.83it/s]\n",
      "  0%|                                                                                                                                                                                        | 0/4 [00:00<?, ?it/s]\u001b[A/home/chrisw/miniconda3/envs/py39/lib/python3.9/site-packages/torch_geometric/data/collate.py:147: UserWarning: An output with one or more elements was resized since it had shape [442884], which does not match the required output shape [1326, 334]. This behavior is deprecated, and in a future PyTorch release outputs will not be resized unless they have zero elements. You can explicitly reuse an out tensor t by resizing it, inplace, to zero elements with t.resize_(0). (Triggered internally at  ../aten/src/ATen/native/Resize.cpp:24.)\n",
      "  value = torch.cat(values, dim=cat_dim or 0, out=out)\n",
      "/home/chrisw/miniconda3/envs/py39/lib/python3.9/site-packages/torch_geometric/data/collate.py:147: UserWarning: An output with one or more elements was resized since it had shape [405810], which does not match the required output shape [1215, 334]. This behavior is deprecated, and in a future PyTorch release outputs will not be resized unless they have zero elements. You can explicitly reuse an out tensor t by resizing it, inplace, to zero elements with t.resize_(0). (Triggered internally at  ../aten/src/ATen/native/Resize.cpp:24.)\n",
      "  value = torch.cat(values, dim=cat_dim or 0, out=out)\n",
      "/home/chrisw/miniconda3/envs/py39/lib/python3.9/site-packages/torch_geometric/data/collate.py:147: UserWarning: An output with one or more elements was resized since it had shape [332330], which does not match the required output shape [995, 334]. This behavior is deprecated, and in a future PyTorch release outputs will not be resized unless they have zero elements. You can explicitly reuse an out tensor t by resizing it, inplace, to zero elements with t.resize_(0). (Triggered internally at  ../aten/src/ATen/native/Resize.cpp:24.)\n",
      "  value = torch.cat(values, dim=cat_dim or 0, out=out)\n",
      "/home/chrisw/miniconda3/envs/py39/lib/python3.9/site-packages/torch_geometric/data/collate.py:147: UserWarning: An output with one or more elements was resized since it had shape [481962], which does not match the required output shape [1443, 334]. This behavior is deprecated, and in a future PyTorch release outputs will not be resized unless they have zero elements. You can explicitly reuse an out tensor t by resizing it, inplace, to zero elements with t.resize_(0). (Triggered internally at  ../aten/src/ATen/native/Resize.cpp:24.)\n",
      "  value = torch.cat(values, dim=cat_dim or 0, out=out)\n",
      "/home/chrisw/miniconda3/envs/py39/lib/python3.9/site-packages/torch_geometric/data/collate.py:147: UserWarning: An output with one or more elements was resized since it had shape [5084], which does not match the required output shape [2, 2542]. This behavior is deprecated, and in a future PyTorch release outputs will not be resized unless they have zero elements. You can explicitly reuse an out tensor t by resizing it, inplace, to zero elements with t.resize_(0). (Triggered internally at  ../aten/src/ATen/native/Resize.cpp:24.)\n",
      "  value = torch.cat(values, dim=cat_dim or 0, out=out)\n"
     ]
    },
    {
     "name": "stderr",
     "output_type": "stream",
     "text": [
      "/home/chrisw/miniconda3/envs/py39/lib/python3.9/site-packages/torch_geometric/data/collate.py:147: UserWarning: An output with one or more elements was resized since it had shape [5596], which does not match the required output shape [2, 2798]. This behavior is deprecated, and in a future PyTorch release outputs will not be resized unless they have zero elements. You can explicitly reuse an out tensor t by resizing it, inplace, to zero elements with t.resize_(0). (Triggered internally at  ../aten/src/ATen/native/Resize.cpp:24.)\n",
      "  value = torch.cat(values, dim=cat_dim or 0, out=out)\n",
      "/home/chrisw/miniconda3/envs/py39/lib/python3.9/site-packages/torch_geometric/data/collate.py:147: UserWarning: An output with one or more elements was resized since it had shape [4096], which does not match the required output shape [2, 2048]. This behavior is deprecated, and in a future PyTorch release outputs will not be resized unless they have zero elements. You can explicitly reuse an out tensor t by resizing it, inplace, to zero elements with t.resize_(0). (Triggered internally at  ../aten/src/ATen/native/Resize.cpp:24.)\n",
      "  value = torch.cat(values, dim=cat_dim or 0, out=out)\n",
      "/home/chrisw/miniconda3/envs/py39/lib/python3.9/site-packages/torch_geometric/data/collate.py:147: UserWarning: An output with one or more elements was resized since it had shape [6044], which does not match the required output shape [2, 3022]. This behavior is deprecated, and in a future PyTorch release outputs will not be resized unless they have zero elements. You can explicitly reuse an out tensor t by resizing it, inplace, to zero elements with t.resize_(0). (Triggered internally at  ../aten/src/ATen/native/Resize.cpp:24.)\n",
      "  value = torch.cat(values, dim=cat_dim or 0, out=out)\n",
      "/home/chrisw/miniconda3/envs/py39/lib/python3.9/site-packages/torch_geometric/data/collate.py:147: UserWarning: An output with one or more elements was resized since it had shape [5084], which does not match the required output shape [2542, 2]. This behavior is deprecated, and in a future PyTorch release outputs will not be resized unless they have zero elements. You can explicitly reuse an out tensor t by resizing it, inplace, to zero elements with t.resize_(0). (Triggered internally at  ../aten/src/ATen/native/Resize.cpp:24.)\n",
      "  value = torch.cat(values, dim=cat_dim or 0, out=out)\n",
      "/home/chrisw/miniconda3/envs/py39/lib/python3.9/site-packages/torch_geometric/data/collate.py:147: UserWarning: An output with one or more elements was resized since it had shape [4096], which does not match the required output shape [2048, 2]. This behavior is deprecated, and in a future PyTorch release outputs will not be resized unless they have zero elements. You can explicitly reuse an out tensor t by resizing it, inplace, to zero elements with t.resize_(0). (Triggered internally at  ../aten/src/ATen/native/Resize.cpp:24.)\n",
      "  value = torch.cat(values, dim=cat_dim or 0, out=out)\n",
      "/home/chrisw/miniconda3/envs/py39/lib/python3.9/site-packages/torch_geometric/data/collate.py:147: UserWarning: An output with one or more elements was resized since it had shape [5596], which does not match the required output shape [2798, 2]. This behavior is deprecated, and in a future PyTorch release outputs will not be resized unless they have zero elements. You can explicitly reuse an out tensor t by resizing it, inplace, to zero elements with t.resize_(0). (Triggered internally at  ../aten/src/ATen/native/Resize.cpp:24.)\n",
      "  value = torch.cat(values, dim=cat_dim or 0, out=out)\n",
      "/home/chrisw/miniconda3/envs/py39/lib/python3.9/site-packages/torch_geometric/data/collate.py:147: UserWarning: An output with one or more elements was resized since it had shape [6044], which does not match the required output shape [3022, 2]. This behavior is deprecated, and in a future PyTorch release outputs will not be resized unless they have zero elements. You can explicitly reuse an out tensor t by resizing it, inplace, to zero elements with t.resize_(0). (Triggered internally at  ../aten/src/ATen/native/Resize.cpp:24.)\n",
      "  value = torch.cat(values, dim=cat_dim or 0, out=out)\n",
      "\n",
      "Valid 3: loss 0.574148 0.8686:   0%|                                                                                                                                                         | 0/4 [00:00<?, ?it/s]\u001b[A\n",
      "Valid 3: loss 0.574148 0.8686:  25%|████████████████████████████████████▎                                                                                                            | 1/4 [00:00<00:01,  3.00it/s]\u001b[A\n",
      "Valid 3: loss 0.571709 0.8733:  25%|████████████████████████████████████▎                                                                                                            | 1/4 [00:00<00:01,  3.00it/s]\u001b[A\n",
      "Valid 3: loss 0.537114 0.8945:  25%|████████████████████████████████████▎                                                                                                            | 1/4 [00:00<00:01,  3.00it/s]\u001b[A\n",
      "Valid 3: loss 0.560356 0.7856: 100%|█████████████████████████████████████████████████████████████████████████████████████████████████████████████████████████████████████████████████| 4/4 [00:00<00:00,  9.10it/s]\u001b[A\n",
      "Epoch 3: loss 0.533054 0.8384: 100%|███████████████████████████████████████████████████████████████████████████████████████████████████████████████████████████████████████████████| 16/16 [00:01<00:00, 10.40it/s]\n"
     ]
    },
    {
     "name": "stdout",
     "output_type": "stream",
     "text": [
      "EarlyStopping counter: 1 out of 20\n"
     ]
    },
    {
     "name": "stderr",
     "output_type": "stream",
     "text": [
      "  0%|                                                                                                                                                                                       | 0/16 [00:00<?, ?it/s]/home/chrisw/miniconda3/envs/py39/lib/python3.9/site-packages/torch_geometric/data/collate.py:147: UserWarning: An output with one or more elements was resized since it had shape [362390], which does not match the required output shape [1085, 334]. This behavior is deprecated, and in a future PyTorch release outputs will not be resized unless they have zero elements. You can explicitly reuse an out tensor t by resizing it, inplace, to zero elements with t.resize_(0). (Triggered internally at  ../aten/src/ATen/native/Resize.cpp:24.)\n",
      "  value = torch.cat(values, dim=cat_dim or 0, out=out)\n",
      "/home/chrisw/miniconda3/envs/py39/lib/python3.9/site-packages/torch_geometric/data/collate.py:147: UserWarning: An output with one or more elements was resized since it had shape [342016], which does not match the required output shape [1024, 334]. This behavior is deprecated, and in a future PyTorch release outputs will not be resized unless they have zero elements. You can explicitly reuse an out tensor t by resizing it, inplace, to zero elements with t.resize_(0). (Triggered internally at  ../aten/src/ATen/native/Resize.cpp:24.)\n",
      "  value = torch.cat(values, dim=cat_dim or 0, out=out)\n",
      "/home/chrisw/miniconda3/envs/py39/lib/python3.9/site-packages/torch_geometric/data/collate.py:147: UserWarning: An output with one or more elements was resized since it had shape [380760], which does not match the required output shape [1140, 334]. This behavior is deprecated, and in a future PyTorch release outputs will not be resized unless they have zero elements. You can explicitly reuse an out tensor t by resizing it, inplace, to zero elements with t.resize_(0). (Triggered internally at  ../aten/src/ATen/native/Resize.cpp:24.)\n",
      "  value = torch.cat(values, dim=cat_dim or 0, out=out)\n",
      "/home/chrisw/miniconda3/envs/py39/lib/python3.9/site-packages/torch_geometric/data/collate.py:147: UserWarning: An output with one or more elements was resized since it had shape [432864], which does not match the required output shape [1296, 334]. This behavior is deprecated, and in a future PyTorch release outputs will not be resized unless they have zero elements. You can explicitly reuse an out tensor t by resizing it, inplace, to zero elements with t.resize_(0). (Triggered internally at  ../aten/src/ATen/native/Resize.cpp:24.)\n",
      "  value = torch.cat(values, dim=cat_dim or 0, out=out)\n",
      "/home/chrisw/miniconda3/envs/py39/lib/python3.9/site-packages/torch_geometric/data/collate.py:147: UserWarning: An output with one or more elements was resized since it had shape [4508], which does not match the required output shape [2, 2254]. This behavior is deprecated, and in a future PyTorch release outputs will not be resized unless they have zero elements. You can explicitly reuse an out tensor t by resizing it, inplace, to zero elements with t.resize_(0). (Triggered internally at  ../aten/src/ATen/native/Resize.cpp:24.)\n",
      "  value = torch.cat(values, dim=cat_dim or 0, out=out)\n",
      "/home/chrisw/miniconda3/envs/py39/lib/python3.9/site-packages/torch_geometric/data/collate.py:147: UserWarning: An output with one or more elements was resized since it had shape [372076], which does not match the required output shape [1114, 334]. This behavior is deprecated, and in a future PyTorch release outputs will not be resized unless they have zero elements. You can explicitly reuse an out tensor t by resizing it, inplace, to zero elements with t.resize_(0). (Triggered internally at  ../aten/src/ATen/native/Resize.cpp:24.)\n",
      "  value = torch.cat(values, dim=cat_dim or 0, out=out)\n",
      "/home/chrisw/miniconda3/envs/py39/lib/python3.9/site-packages/torch_geometric/data/collate.py:147: UserWarning: An output with one or more elements was resized since it had shape [4108], which does not match the required output shape [2, 2054]. This behavior is deprecated, and in a future PyTorch release outputs will not be resized unless they have zero elements. You can explicitly reuse an out tensor t by resizing it, inplace, to zero elements with t.resize_(0). (Triggered internally at  ../aten/src/ATen/native/Resize.cpp:24.)\n",
      "  value = torch.cat(values, dim=cat_dim or 0, out=out)\n",
      "/home/chrisw/miniconda3/envs/py39/lib/python3.9/site-packages/torch_geometric/data/collate.py:147: UserWarning: An output with one or more elements was resized since it had shape [4508], which does not match the required output shape [2254, 2]. This behavior is deprecated, and in a future PyTorch release outputs will not be resized unless they have zero elements. You can explicitly reuse an out tensor t by resizing it, inplace, to zero elements with t.resize_(0). (Triggered internally at  ../aten/src/ATen/native/Resize.cpp:24.)\n",
      "  value = torch.cat(values, dim=cat_dim or 0, out=out)\n",
      "/home/chrisw/miniconda3/envs/py39/lib/python3.9/site-packages/torch_geometric/data/collate.py:147: UserWarning: An output with one or more elements was resized since it had shape [5584], which does not match the required output shape [2, 2792]. This behavior is deprecated, and in a future PyTorch release outputs will not be resized unless they have zero elements. You can explicitly reuse an out tensor t by resizing it, inplace, to zero elements with t.resize_(0). (Triggered internally at  ../aten/src/ATen/native/Resize.cpp:24.)\n",
      "  value = torch.cat(values, dim=cat_dim or 0, out=out)\n",
      "/home/chrisw/miniconda3/envs/py39/lib/python3.9/site-packages/torch_geometric/data/collate.py:147: UserWarning: An output with one or more elements was resized since it had shape [4640], which does not match the required output shape [2, 2320]. This behavior is deprecated, and in a future PyTorch release outputs will not be resized unless they have zero elements. You can explicitly reuse an out tensor t by resizing it, inplace, to zero elements with t.resize_(0). (Triggered internally at  ../aten/src/ATen/native/Resize.cpp:24.)\n",
      "  value = torch.cat(values, dim=cat_dim or 0, out=out)\n",
      "/home/chrisw/miniconda3/envs/py39/lib/python3.9/site-packages/torch_geometric/data/collate.py:147: UserWarning: An output with one or more elements was resized since it had shape [4596], which does not match the required output shape [2, 2298]. This behavior is deprecated, and in a future PyTorch release outputs will not be resized unless they have zero elements. You can explicitly reuse an out tensor t by resizing it, inplace, to zero elements with t.resize_(0). (Triggered internally at  ../aten/src/ATen/native/Resize.cpp:24.)\n",
      "  value = torch.cat(values, dim=cat_dim or 0, out=out)\n",
      "/home/chrisw/miniconda3/envs/py39/lib/python3.9/site-packages/torch_geometric/data/collate.py:147: UserWarning: An output with one or more elements was resized since it had shape [5584], which does not match the required output shape [2792, 2]. This behavior is deprecated, and in a future PyTorch release outputs will not be resized unless they have zero elements. You can explicitly reuse an out tensor t by resizing it, inplace, to zero elements with t.resize_(0). (Triggered internally at  ../aten/src/ATen/native/Resize.cpp:24.)\n",
      "  value = torch.cat(values, dim=cat_dim or 0, out=out)\n",
      "/home/chrisw/miniconda3/envs/py39/lib/python3.9/site-packages/torch_geometric/data/collate.py:147: UserWarning: An output with one or more elements was resized since it had shape [4596], which does not match the required output shape [2298, 2]. This behavior is deprecated, and in a future PyTorch release outputs will not be resized unless they have zero elements. You can explicitly reuse an out tensor t by resizing it, inplace, to zero elements with t.resize_(0). (Triggered internally at  ../aten/src/ATen/native/Resize.cpp:24.)\n",
      "  value = torch.cat(values, dim=cat_dim or 0, out=out)\n",
      "/home/chrisw/miniconda3/envs/py39/lib/python3.9/site-packages/torch_geometric/data/collate.py:147: UserWarning: An output with one or more elements was resized since it had shape [4108], which does not match the required output shape [2054, 2]. This behavior is deprecated, and in a future PyTorch release outputs will not be resized unless they have zero elements. You can explicitly reuse an out tensor t by resizing it, inplace, to zero elements with t.resize_(0). (Triggered internally at  ../aten/src/ATen/native/Resize.cpp:24.)\n",
      "  value = torch.cat(values, dim=cat_dim or 0, out=out)\n"
     ]
    },
    {
     "name": "stderr",
     "output_type": "stream",
     "text": [
      "/home/chrisw/miniconda3/envs/py39/lib/python3.9/site-packages/torch_geometric/data/collate.py:147: UserWarning: An output with one or more elements was resized since it had shape [4640], which does not match the required output shape [2320, 2]. This behavior is deprecated, and in a future PyTorch release outputs will not be resized unless they have zero elements. You can explicitly reuse an out tensor t by resizing it, inplace, to zero elements with t.resize_(0). (Triggered internally at  ../aten/src/ATen/native/Resize.cpp:24.)\n",
      "  value = torch.cat(values, dim=cat_dim or 0, out=out)\n",
      "Epoch 4: loss 0.544922 0.8331:   6%|█████████                                                                                                                                       | 1/16 [00:00<00:05,  2.56it/s]/home/chrisw/miniconda3/envs/py39/lib/python3.9/site-packages/torch_geometric/data/collate.py:147: UserWarning: An output with one or more elements was resized since it had shape [342684], which does not match the required output shape [1026, 334]. This behavior is deprecated, and in a future PyTorch release outputs will not be resized unless they have zero elements. You can explicitly reuse an out tensor t by resizing it, inplace, to zero elements with t.resize_(0). (Triggered internally at  ../aten/src/ATen/native/Resize.cpp:24.)\n",
      "  value = torch.cat(values, dim=cat_dim or 0, out=out)\n",
      "/home/chrisw/miniconda3/envs/py39/lib/python3.9/site-packages/torch_geometric/data/collate.py:147: UserWarning: An output with one or more elements was resized since it had shape [400466], which does not match the required output shape [1199, 334]. This behavior is deprecated, and in a future PyTorch release outputs will not be resized unless they have zero elements. You can explicitly reuse an out tensor t by resizing it, inplace, to zero elements with t.resize_(0). (Triggered internally at  ../aten/src/ATen/native/Resize.cpp:24.)\n",
      "  value = torch.cat(values, dim=cat_dim or 0, out=out)\n",
      "/home/chrisw/miniconda3/envs/py39/lib/python3.9/site-packages/torch_geometric/data/collate.py:147: UserWarning: An output with one or more elements was resized since it had shape [353038], which does not match the required output shape [1057, 334]. This behavior is deprecated, and in a future PyTorch release outputs will not be resized unless they have zero elements. You can explicitly reuse an out tensor t by resizing it, inplace, to zero elements with t.resize_(0). (Triggered internally at  ../aten/src/ATen/native/Resize.cpp:24.)\n",
      "  value = torch.cat(values, dim=cat_dim or 0, out=out)\n",
      "/home/chrisw/miniconda3/envs/py39/lib/python3.9/site-packages/torch_geometric/data/collate.py:147: UserWarning: An output with one or more elements was resized since it had shape [450232], which does not match the required output shape [1348, 334]. This behavior is deprecated, and in a future PyTorch release outputs will not be resized unless they have zero elements. You can explicitly reuse an out tensor t by resizing it, inplace, to zero elements with t.resize_(0). (Triggered internally at  ../aten/src/ATen/native/Resize.cpp:24.)\n",
      "  value = torch.cat(values, dim=cat_dim or 0, out=out)\n",
      "/home/chrisw/miniconda3/envs/py39/lib/python3.9/site-packages/torch_geometric/data/collate.py:147: UserWarning: An output with one or more elements was resized since it had shape [5008], which does not match the required output shape [2, 2504]. This behavior is deprecated, and in a future PyTorch release outputs will not be resized unless they have zero elements. You can explicitly reuse an out tensor t by resizing it, inplace, to zero elements with t.resize_(0). (Triggered internally at  ../aten/src/ATen/native/Resize.cpp:24.)\n",
      "  value = torch.cat(values, dim=cat_dim or 0, out=out)\n",
      "/home/chrisw/miniconda3/envs/py39/lib/python3.9/site-packages/torch_geometric/data/collate.py:147: UserWarning: An output with one or more elements was resized since it had shape [4300], which does not match the required output shape [2, 2150]. This behavior is deprecated, and in a future PyTorch release outputs will not be resized unless they have zero elements. You can explicitly reuse an out tensor t by resizing it, inplace, to zero elements with t.resize_(0). (Triggered internally at  ../aten/src/ATen/native/Resize.cpp:24.)\n",
      "  value = torch.cat(values, dim=cat_dim or 0, out=out)\n",
      "/home/chrisw/miniconda3/envs/py39/lib/python3.9/site-packages/torch_geometric/data/collate.py:147: UserWarning: An output with one or more elements was resized since it had shape [4296], which does not match the required output shape [2, 2148]. This behavior is deprecated, and in a future PyTorch release outputs will not be resized unless they have zero elements. You can explicitly reuse an out tensor t by resizing it, inplace, to zero elements with t.resize_(0). (Triggered internally at  ../aten/src/ATen/native/Resize.cpp:24.)\n",
      "  value = torch.cat(values, dim=cat_dim or 0, out=out)\n",
      "/home/chrisw/miniconda3/envs/py39/lib/python3.9/site-packages/torch_geometric/data/collate.py:147: UserWarning: An output with one or more elements was resized since it had shape [5544], which does not match the required output shape [2, 2772]. This behavior is deprecated, and in a future PyTorch release outputs will not be resized unless they have zero elements. You can explicitly reuse an out tensor t by resizing it, inplace, to zero elements with t.resize_(0). (Triggered internally at  ../aten/src/ATen/native/Resize.cpp:24.)\n",
      "  value = torch.cat(values, dim=cat_dim or 0, out=out)\n",
      "/home/chrisw/miniconda3/envs/py39/lib/python3.9/site-packages/torch_geometric/data/collate.py:147: UserWarning: An output with one or more elements was resized since it had shape [4300], which does not match the required output shape [2150, 2]. This behavior is deprecated, and in a future PyTorch release outputs will not be resized unless they have zero elements. You can explicitly reuse an out tensor t by resizing it, inplace, to zero elements with t.resize_(0). (Triggered internally at  ../aten/src/ATen/native/Resize.cpp:24.)\n",
      "  value = torch.cat(values, dim=cat_dim or 0, out=out)\n",
      "/home/chrisw/miniconda3/envs/py39/lib/python3.9/site-packages/torch_geometric/data/collate.py:147: UserWarning: An output with one or more elements was resized since it had shape [5008], which does not match the required output shape [2504, 2]. This behavior is deprecated, and in a future PyTorch release outputs will not be resized unless they have zero elements. You can explicitly reuse an out tensor t by resizing it, inplace, to zero elements with t.resize_(0). (Triggered internally at  ../aten/src/ATen/native/Resize.cpp:24.)\n",
      "  value = torch.cat(values, dim=cat_dim or 0, out=out)\n",
      "/home/chrisw/miniconda3/envs/py39/lib/python3.9/site-packages/torch_geometric/data/collate.py:147: UserWarning: An output with one or more elements was resized since it had shape [4296], which does not match the required output shape [2148, 2]. This behavior is deprecated, and in a future PyTorch release outputs will not be resized unless they have zero elements. You can explicitly reuse an out tensor t by resizing it, inplace, to zero elements with t.resize_(0). (Triggered internally at  ../aten/src/ATen/native/Resize.cpp:24.)\n",
      "  value = torch.cat(values, dim=cat_dim or 0, out=out)\n",
      "/home/chrisw/miniconda3/envs/py39/lib/python3.9/site-packages/torch_geometric/data/collate.py:147: UserWarning: An output with one or more elements was resized since it had shape [5544], which does not match the required output shape [2772, 2]. This behavior is deprecated, and in a future PyTorch release outputs will not be resized unless they have zero elements. You can explicitly reuse an out tensor t by resizing it, inplace, to zero elements with t.resize_(0). (Triggered internally at  ../aten/src/ATen/native/Resize.cpp:24.)\n",
      "  value = torch.cat(values, dim=cat_dim or 0, out=out)\n",
      "/home/chrisw/miniconda3/envs/py39/lib/python3.9/site-packages/torch_geometric/data/collate.py:147: UserWarning: An output with one or more elements was resized since it had shape [417834], which does not match the required output shape [1251, 334]. This behavior is deprecated, and in a future PyTorch release outputs will not be resized unless they have zero elements. You can explicitly reuse an out tensor t by resizing it, inplace, to zero elements with t.resize_(0). (Triggered internally at  ../aten/src/ATen/native/Resize.cpp:24.)\n",
      "  value = torch.cat(values, dim=cat_dim or 0, out=out)\n"
     ]
    },
    {
     "name": "stderr",
     "output_type": "stream",
     "text": [
      "/home/chrisw/miniconda3/envs/py39/lib/python3.9/site-packages/torch_geometric/data/collate.py:147: UserWarning: An output with one or more elements was resized since it had shape [5320], which does not match the required output shape [2, 2660]. This behavior is deprecated, and in a future PyTorch release outputs will not be resized unless they have zero elements. You can explicitly reuse an out tensor t by resizing it, inplace, to zero elements with t.resize_(0). (Triggered internally at  ../aten/src/ATen/native/Resize.cpp:24.)\n",
      "  value = torch.cat(values, dim=cat_dim or 0, out=out)\n",
      "/home/chrisw/miniconda3/envs/py39/lib/python3.9/site-packages/torch_geometric/data/collate.py:147: UserWarning: An output with one or more elements was resized since it had shape [5320], which does not match the required output shape [2660, 2]. This behavior is deprecated, and in a future PyTorch release outputs will not be resized unless they have zero elements. You can explicitly reuse an out tensor t by resizing it, inplace, to zero elements with t.resize_(0). (Triggered internally at  ../aten/src/ATen/native/Resize.cpp:24.)\n",
      "  value = torch.cat(values, dim=cat_dim or 0, out=out)\n",
      "Epoch 4: loss 0.524131 0.8559:  50%|████████████████████████████████████████████████████████████████████████                                                                        | 8/16 [00:00<00:00, 14.01it/s]/home/chrisw/miniconda3/envs/py39/lib/python3.9/site-packages/torch_geometric/data/collate.py:147: UserWarning: An output with one or more elements was resized since it had shape [439210], which does not match the required output shape [1315, 334]. This behavior is deprecated, and in a future PyTorch release outputs will not be resized unless they have zero elements. You can explicitly reuse an out tensor t by resizing it, inplace, to zero elements with t.resize_(0). (Triggered internally at  ../aten/src/ATen/native/Resize.cpp:24.)\n",
      "  value = torch.cat(values, dim=cat_dim or 0, out=out)\n",
      "Epoch 4: loss 0.519446 0.8592:  50%|████████████████████████████████████████████████████████████████████████                                                                        | 8/16 [00:00<00:00, 14.01it/s]/home/chrisw/miniconda3/envs/py39/lib/python3.9/site-packages/torch_geometric/data/collate.py:147: UserWarning: An output with one or more elements was resized since it had shape [340680], which does not match the required output shape [1020, 334]. This behavior is deprecated, and in a future PyTorch release outputs will not be resized unless they have zero elements. You can explicitly reuse an out tensor t by resizing it, inplace, to zero elements with t.resize_(0). (Triggered internally at  ../aten/src/ATen/native/Resize.cpp:24.)\n",
      "  value = torch.cat(values, dim=cat_dim or 0, out=out)\n",
      "/home/chrisw/miniconda3/envs/py39/lib/python3.9/site-packages/torch_geometric/data/collate.py:147: UserWarning: An output with one or more elements was resized since it had shape [5624], which does not match the required output shape [2, 2812]. This behavior is deprecated, and in a future PyTorch release outputs will not be resized unless they have zero elements. You can explicitly reuse an out tensor t by resizing it, inplace, to zero elements with t.resize_(0). (Triggered internally at  ../aten/src/ATen/native/Resize.cpp:24.)\n",
      "  value = torch.cat(values, dim=cat_dim or 0, out=out)\n",
      "/home/chrisw/miniconda3/envs/py39/lib/python3.9/site-packages/torch_geometric/data/collate.py:147: UserWarning: An output with one or more elements was resized since it had shape [4128], which does not match the required output shape [2, 2064]. This behavior is deprecated, and in a future PyTorch release outputs will not be resized unless they have zero elements. You can explicitly reuse an out tensor t by resizing it, inplace, to zero elements with t.resize_(0). (Triggered internally at  ../aten/src/ATen/native/Resize.cpp:24.)\n",
      "  value = torch.cat(values, dim=cat_dim or 0, out=out)\n",
      "/home/chrisw/miniconda3/envs/py39/lib/python3.9/site-packages/torch_geometric/data/collate.py:147: UserWarning: An output with one or more elements was resized since it had shape [395790], which does not match the required output shape [1185, 334]. This behavior is deprecated, and in a future PyTorch release outputs will not be resized unless they have zero elements. You can explicitly reuse an out tensor t by resizing it, inplace, to zero elements with t.resize_(0). (Triggered internally at  ../aten/src/ATen/native/Resize.cpp:24.)\n",
      "  value = torch.cat(values, dim=cat_dim or 0, out=out)\n",
      "/home/chrisw/miniconda3/envs/py39/lib/python3.9/site-packages/torch_geometric/data/collate.py:147: UserWarning: An output with one or more elements was resized since it had shape [5624], which does not match the required output shape [2812, 2]. This behavior is deprecated, and in a future PyTorch release outputs will not be resized unless they have zero elements. You can explicitly reuse an out tensor t by resizing it, inplace, to zero elements with t.resize_(0). (Triggered internally at  ../aten/src/ATen/native/Resize.cpp:24.)\n",
      "  value = torch.cat(values, dim=cat_dim or 0, out=out)\n",
      "/home/chrisw/miniconda3/envs/py39/lib/python3.9/site-packages/torch_geometric/data/collate.py:147: UserWarning: An output with one or more elements was resized since it had shape [4128], which does not match the required output shape [2064, 2]. This behavior is deprecated, and in a future PyTorch release outputs will not be resized unless they have zero elements. You can explicitly reuse an out tensor t by resizing it, inplace, to zero elements with t.resize_(0). (Triggered internally at  ../aten/src/ATen/native/Resize.cpp:24.)\n",
      "  value = torch.cat(values, dim=cat_dim or 0, out=out)\n",
      "/home/chrisw/miniconda3/envs/py39/lib/python3.9/site-packages/torch_geometric/data/collate.py:147: UserWarning: An output with one or more elements was resized since it had shape [4948], which does not match the required output shape [2, 2474]. This behavior is deprecated, and in a future PyTorch release outputs will not be resized unless they have zero elements. You can explicitly reuse an out tensor t by resizing it, inplace, to zero elements with t.resize_(0). (Triggered internally at  ../aten/src/ATen/native/Resize.cpp:24.)\n",
      "  value = torch.cat(values, dim=cat_dim or 0, out=out)\n",
      "/home/chrisw/miniconda3/envs/py39/lib/python3.9/site-packages/torch_geometric/data/collate.py:147: UserWarning: An output with one or more elements was resized since it had shape [4948], which does not match the required output shape [2474, 2]. This behavior is deprecated, and in a future PyTorch release outputs will not be resized unless they have zero elements. You can explicitly reuse an out tensor t by resizing it, inplace, to zero elements with t.resize_(0). (Triggered internally at  ../aten/src/ATen/native/Resize.cpp:24.)\n",
      "  value = torch.cat(values, dim=cat_dim or 0, out=out)\n",
      "/home/chrisw/miniconda3/envs/py39/lib/python3.9/site-packages/torch_geometric/data/collate.py:147: UserWarning: An output with one or more elements was resized since it had shape [468268], which does not match the required output shape [1402, 334]. This behavior is deprecated, and in a future PyTorch release outputs will not be resized unless they have zero elements. You can explicitly reuse an out tensor t by resizing it, inplace, to zero elements with t.resize_(0). (Triggered internally at  ../aten/src/ATen/native/Resize.cpp:24.)\n",
      "  value = torch.cat(values, dim=cat_dim or 0, out=out)\n",
      "/home/chrisw/miniconda3/envs/py39/lib/python3.9/site-packages/torch_geometric/data/collate.py:147: UserWarning: An output with one or more elements was resized since it had shape [425516], which does not match the required output shape [1274, 334]. This behavior is deprecated, and in a future PyTorch release outputs will not be resized unless they have zero elements. You can explicitly reuse an out tensor t by resizing it, inplace, to zero elements with t.resize_(0). (Triggered internally at  ../aten/src/ATen/native/Resize.cpp:24.)\n",
      "  value = torch.cat(values, dim=cat_dim or 0, out=out)\n",
      "/home/chrisw/miniconda3/envs/py39/lib/python3.9/site-packages/torch_geometric/data/collate.py:147: UserWarning: An output with one or more elements was resized since it had shape [5976], which does not match the required output shape [2, 2988]. This behavior is deprecated, and in a future PyTorch release outputs will not be resized unless they have zero elements. You can explicitly reuse an out tensor t by resizing it, inplace, to zero elements with t.resize_(0). (Triggered internally at  ../aten/src/ATen/native/Resize.cpp:24.)\n",
      "  value = torch.cat(values, dim=cat_dim or 0, out=out)\n"
     ]
    },
    {
     "name": "stderr",
     "output_type": "stream",
     "text": [
      "/home/chrisw/miniconda3/envs/py39/lib/python3.9/site-packages/torch_geometric/data/collate.py:147: UserWarning: An output with one or more elements was resized since it had shape [5976], which does not match the required output shape [2988, 2]. This behavior is deprecated, and in a future PyTorch release outputs will not be resized unless they have zero elements. You can explicitly reuse an out tensor t by resizing it, inplace, to zero elements with t.resize_(0). (Triggered internally at  ../aten/src/ATen/native/Resize.cpp:24.)\n",
      "  value = torch.cat(values, dim=cat_dim or 0, out=out)\n",
      "/home/chrisw/miniconda3/envs/py39/lib/python3.9/site-packages/torch_geometric/data/collate.py:147: UserWarning: An output with one or more elements was resized since it had shape [5508], which does not match the required output shape [2, 2754]. This behavior is deprecated, and in a future PyTorch release outputs will not be resized unless they have zero elements. You can explicitly reuse an out tensor t by resizing it, inplace, to zero elements with t.resize_(0). (Triggered internally at  ../aten/src/ATen/native/Resize.cpp:24.)\n",
      "  value = torch.cat(values, dim=cat_dim or 0, out=out)\n",
      "Epoch 4: loss 0.515331 0.8611:  50%|████████████████████████████████████████████████████████████████████████                                                                        | 8/16 [00:00<00:00, 14.01it/s]/home/chrisw/miniconda3/envs/py39/lib/python3.9/site-packages/torch_geometric/data/collate.py:147: UserWarning: An output with one or more elements was resized since it had shape [5508], which does not match the required output shape [2754, 2]. This behavior is deprecated, and in a future PyTorch release outputs will not be resized unless they have zero elements. You can explicitly reuse an out tensor t by resizing it, inplace, to zero elements with t.resize_(0). (Triggered internally at  ../aten/src/ATen/native/Resize.cpp:24.)\n",
      "  value = torch.cat(values, dim=cat_dim or 0, out=out)\n",
      "/home/chrisw/miniconda3/envs/py39/lib/python3.9/site-packages/torch_geometric/data/collate.py:147: UserWarning: An output with one or more elements was resized since it had shape [437874], which does not match the required output shape [1311, 334]. This behavior is deprecated, and in a future PyTorch release outputs will not be resized unless they have zero elements. You can explicitly reuse an out tensor t by resizing it, inplace, to zero elements with t.resize_(0). (Triggered internally at  ../aten/src/ATen/native/Resize.cpp:24.)\n",
      "  value = torch.cat(values, dim=cat_dim or 0, out=out)\n",
      "/home/chrisw/miniconda3/envs/py39/lib/python3.9/site-packages/torch_geometric/data/collate.py:147: UserWarning: An output with one or more elements was resized since it had shape [5588], which does not match the required output shape [2, 2794]. This behavior is deprecated, and in a future PyTorch release outputs will not be resized unless they have zero elements. You can explicitly reuse an out tensor t by resizing it, inplace, to zero elements with t.resize_(0). (Triggered internally at  ../aten/src/ATen/native/Resize.cpp:24.)\n",
      "  value = torch.cat(values, dim=cat_dim or 0, out=out)\n",
      "/home/chrisw/miniconda3/envs/py39/lib/python3.9/site-packages/torch_geometric/data/collate.py:147: UserWarning: An output with one or more elements was resized since it had shape [5588], which does not match the required output shape [2794, 2]. This behavior is deprecated, and in a future PyTorch release outputs will not be resized unless they have zero elements. You can explicitly reuse an out tensor t by resizing it, inplace, to zero elements with t.resize_(0). (Triggered internally at  ../aten/src/ATen/native/Resize.cpp:24.)\n",
      "  value = torch.cat(values, dim=cat_dim or 0, out=out)\n",
      "Epoch 4: loss 0.527243 0.8487:  69%|██████████████████████████████████████████████████████████████████████████████████████████████████▎                                            | 11/16 [00:00<00:00, 16.75it/s]\n",
      "  0%|                                                                                                                                                                                        | 0/4 [00:00<?, ?it/s]\u001b[A/home/chrisw/miniconda3/envs/py39/lib/python3.9/site-packages/torch_geometric/data/collate.py:147: UserWarning: An output with one or more elements was resized since it had shape [348028], which does not match the required output shape [1042, 334]. This behavior is deprecated, and in a future PyTorch release outputs will not be resized unless they have zero elements. You can explicitly reuse an out tensor t by resizing it, inplace, to zero elements with t.resize_(0). (Triggered internally at  ../aten/src/ATen/native/Resize.cpp:24.)\n",
      "  value = torch.cat(values, dim=cat_dim or 0, out=out)\n",
      "/home/chrisw/miniconda3/envs/py39/lib/python3.9/site-packages/torch_geometric/data/collate.py:147: UserWarning: An output with one or more elements was resized since it had shape [430192], which does not match the required output shape [1288, 334]. This behavior is deprecated, and in a future PyTorch release outputs will not be resized unless they have zero elements. You can explicitly reuse an out tensor t by resizing it, inplace, to zero elements with t.resize_(0). (Triggered internally at  ../aten/src/ATen/native/Resize.cpp:24.)\n",
      "  value = torch.cat(values, dim=cat_dim or 0, out=out)\n",
      "/home/chrisw/miniconda3/envs/py39/lib/python3.9/site-packages/torch_geometric/data/collate.py:147: UserWarning: An output with one or more elements was resized since it had shape [5272], which does not match the required output shape [2, 2636]. This behavior is deprecated, and in a future PyTorch release outputs will not be resized unless they have zero elements. You can explicitly reuse an out tensor t by resizing it, inplace, to zero elements with t.resize_(0). (Triggered internally at  ../aten/src/ATen/native/Resize.cpp:24.)\n",
      "  value = torch.cat(values, dim=cat_dim or 0, out=out)\n",
      "/home/chrisw/miniconda3/envs/py39/lib/python3.9/site-packages/torch_geometric/data/collate.py:147: UserWarning: An output with one or more elements was resized since it had shape [4312], which does not match the required output shape [2, 2156]. This behavior is deprecated, and in a future PyTorch release outputs will not be resized unless they have zero elements. You can explicitly reuse an out tensor t by resizing it, inplace, to zero elements with t.resize_(0). (Triggered internally at  ../aten/src/ATen/native/Resize.cpp:24.)\n",
      "  value = torch.cat(values, dim=cat_dim or 0, out=out)\n",
      "/home/chrisw/miniconda3/envs/py39/lib/python3.9/site-packages/torch_geometric/data/collate.py:147: UserWarning: An output with one or more elements was resized since it had shape [5272], which does not match the required output shape [2636, 2]. This behavior is deprecated, and in a future PyTorch release outputs will not be resized unless they have zero elements. You can explicitly reuse an out tensor t by resizing it, inplace, to zero elements with t.resize_(0). (Triggered internally at  ../aten/src/ATen/native/Resize.cpp:24.)\n",
      "  value = torch.cat(values, dim=cat_dim or 0, out=out)\n",
      "/home/chrisw/miniconda3/envs/py39/lib/python3.9/site-packages/torch_geometric/data/collate.py:147: UserWarning: An output with one or more elements was resized since it had shape [416164], which does not match the required output shape [1246, 334]. This behavior is deprecated, and in a future PyTorch release outputs will not be resized unless they have zero elements. You can explicitly reuse an out tensor t by resizing it, inplace, to zero elements with t.resize_(0). (Triggered internally at  ../aten/src/ATen/native/Resize.cpp:24.)\n",
      "  value = torch.cat(values, dim=cat_dim or 0, out=out)\n",
      "/home/chrisw/miniconda3/envs/py39/lib/python3.9/site-packages/torch_geometric/data/collate.py:147: UserWarning: An output with one or more elements was resized since it had shape [468602], which does not match the required output shape [1403, 334]. This behavior is deprecated, and in a future PyTorch release outputs will not be resized unless they have zero elements. You can explicitly reuse an out tensor t by resizing it, inplace, to zero elements with t.resize_(0). (Triggered internally at  ../aten/src/ATen/native/Resize.cpp:24.)\n",
      "  value = torch.cat(values, dim=cat_dim or 0, out=out)\n"
     ]
    },
    {
     "name": "stderr",
     "output_type": "stream",
     "text": [
      "/home/chrisw/miniconda3/envs/py39/lib/python3.9/site-packages/torch_geometric/data/collate.py:147: UserWarning: An output with one or more elements was resized since it had shape [4312], which does not match the required output shape [2156, 2]. This behavior is deprecated, and in a future PyTorch release outputs will not be resized unless they have zero elements. You can explicitly reuse an out tensor t by resizing it, inplace, to zero elements with t.resize_(0). (Triggered internally at  ../aten/src/ATen/native/Resize.cpp:24.)\n",
      "  value = torch.cat(values, dim=cat_dim or 0, out=out)\n",
      "/home/chrisw/miniconda3/envs/py39/lib/python3.9/site-packages/torch_geometric/data/collate.py:147: UserWarning: An output with one or more elements was resized since it had shape [5196], which does not match the required output shape [2, 2598]. This behavior is deprecated, and in a future PyTorch release outputs will not be resized unless they have zero elements. You can explicitly reuse an out tensor t by resizing it, inplace, to zero elements with t.resize_(0). (Triggered internally at  ../aten/src/ATen/native/Resize.cpp:24.)\n",
      "  value = torch.cat(values, dim=cat_dim or 0, out=out)\n",
      "/home/chrisw/miniconda3/envs/py39/lib/python3.9/site-packages/torch_geometric/data/collate.py:147: UserWarning: An output with one or more elements was resized since it had shape [6040], which does not match the required output shape [2, 3020]. This behavior is deprecated, and in a future PyTorch release outputs will not be resized unless they have zero elements. You can explicitly reuse an out tensor t by resizing it, inplace, to zero elements with t.resize_(0). (Triggered internally at  ../aten/src/ATen/native/Resize.cpp:24.)\n",
      "  value = torch.cat(values, dim=cat_dim or 0, out=out)\n",
      "/home/chrisw/miniconda3/envs/py39/lib/python3.9/site-packages/torch_geometric/data/collate.py:147: UserWarning: An output with one or more elements was resized since it had shape [5196], which does not match the required output shape [2598, 2]. This behavior is deprecated, and in a future PyTorch release outputs will not be resized unless they have zero elements. You can explicitly reuse an out tensor t by resizing it, inplace, to zero elements with t.resize_(0). (Triggered internally at  ../aten/src/ATen/native/Resize.cpp:24.)\n",
      "  value = torch.cat(values, dim=cat_dim or 0, out=out)\n",
      "/home/chrisw/miniconda3/envs/py39/lib/python3.9/site-packages/torch_geometric/data/collate.py:147: UserWarning: An output with one or more elements was resized since it had shape [6040], which does not match the required output shape [3020, 2]. This behavior is deprecated, and in a future PyTorch release outputs will not be resized unless they have zero elements. You can explicitly reuse an out tensor t by resizing it, inplace, to zero elements with t.resize_(0). (Triggered internally at  ../aten/src/ATen/native/Resize.cpp:24.)\n",
      "  value = torch.cat(values, dim=cat_dim or 0, out=out)\n",
      "\n",
      "Valid 4: loss 0.577799 0.7624:   0%|                                                                                                                                                         | 0/4 [00:00<?, ?it/s]\u001b[A\n",
      "Valid 4: loss 0.577799 0.7624:  25%|████████████████████████████████████▎                                                                                                            | 1/4 [00:00<00:00,  3.04it/s]\u001b[A\n",
      "Valid 4: loss 0.524732 0.8680:  25%|████████████████████████████████████▎                                                                                                            | 1/4 [00:00<00:00,  3.04it/s]\u001b[A\n",
      "Valid 4: loss 0.486390 0.9066:  25%|████████████████████████████████████▎                                                                                                            | 1/4 [00:00<00:00,  3.04it/s]\u001b[A\n",
      "Valid 4: loss 0.475744 0.8761: 100%|█████████████████████████████████████████████████████████████████████████████████████████████████████████████████████████████████████████████████| 4/4 [00:00<00:00,  8.93it/s]\u001b[A\n",
      "Epoch 4: loss 0.527243 0.8487: 100%|███████████████████████████████████████████████████████████████████████████████████████████████████████████████████████████████████████████████| 16/16 [00:01<00:00, 11.49it/s]\n",
      "  0%|                                                                                                                                                                                       | 0/16 [00:00<?, ?it/s]/home/chrisw/miniconda3/envs/py39/lib/python3.9/site-packages/torch_geometric/data/collate.py:147: UserWarning: An output with one or more elements was resized since it had shape [384100], which does not match the required output shape [1150, 334]. This behavior is deprecated, and in a future PyTorch release outputs will not be resized unless they have zero elements. You can explicitly reuse an out tensor t by resizing it, inplace, to zero elements with t.resize_(0). (Triggered internally at  ../aten/src/ATen/native/Resize.cpp:24.)\n",
      "  value = torch.cat(values, dim=cat_dim or 0, out=out)\n",
      "/home/chrisw/miniconda3/envs/py39/lib/python3.9/site-packages/torch_geometric/data/collate.py:147: UserWarning: An output with one or more elements was resized since it had shape [373746], which does not match the required output shape [1119, 334]. This behavior is deprecated, and in a future PyTorch release outputs will not be resized unless they have zero elements. You can explicitly reuse an out tensor t by resizing it, inplace, to zero elements with t.resize_(0). (Triggered internally at  ../aten/src/ATen/native/Resize.cpp:24.)\n",
      "  value = torch.cat(values, dim=cat_dim or 0, out=out)\n",
      "/home/chrisw/miniconda3/envs/py39/lib/python3.9/site-packages/torch_geometric/data/collate.py:147: UserWarning: An output with one or more elements was resized since it had shape [373078], which does not match the required output shape [1117, 334]. This behavior is deprecated, and in a future PyTorch release outputs will not be resized unless they have zero elements. You can explicitly reuse an out tensor t by resizing it, inplace, to zero elements with t.resize_(0). (Triggered internally at  ../aten/src/ATen/native/Resize.cpp:24.)\n",
      "  value = torch.cat(values, dim=cat_dim or 0, out=out)\n",
      "/home/chrisw/miniconda3/envs/py39/lib/python3.9/site-packages/torch_geometric/data/collate.py:147: UserWarning: An output with one or more elements was resized since it had shape [418502], which does not match the required output shape [1253, 334]. This behavior is deprecated, and in a future PyTorch release outputs will not be resized unless they have zero elements. You can explicitly reuse an out tensor t by resizing it, inplace, to zero elements with t.resize_(0). (Triggered internally at  ../aten/src/ATen/native/Resize.cpp:24.)\n",
      "  value = torch.cat(values, dim=cat_dim or 0, out=out)\n",
      "/home/chrisw/miniconda3/envs/py39/lib/python3.9/site-packages/torch_geometric/data/collate.py:147: UserWarning: An output with one or more elements was resized since it had shape [410820], which does not match the required output shape [1230, 334]. This behavior is deprecated, and in a future PyTorch release outputs will not be resized unless they have zero elements. You can explicitly reuse an out tensor t by resizing it, inplace, to zero elements with t.resize_(0). (Triggered internally at  ../aten/src/ATen/native/Resize.cpp:24.)\n",
      "  value = torch.cat(values, dim=cat_dim or 0, out=out)\n",
      "/home/chrisw/miniconda3/envs/py39/lib/python3.9/site-packages/torch_geometric/data/collate.py:147: UserWarning: An output with one or more elements was resized since it had shape [4720], which does not match the required output shape [2, 2360]. This behavior is deprecated, and in a future PyTorch release outputs will not be resized unless they have zero elements. You can explicitly reuse an out tensor t by resizing it, inplace, to zero elements with t.resize_(0). (Triggered internally at  ../aten/src/ATen/native/Resize.cpp:24.)\n",
      "  value = torch.cat(values, dim=cat_dim or 0, out=out)\n",
      "/home/chrisw/miniconda3/envs/py39/lib/python3.9/site-packages/torch_geometric/data/collate.py:147: UserWarning: An output with one or more elements was resized since it had shape [4660], which does not match the required output shape [2, 2330]. This behavior is deprecated, and in a future PyTorch release outputs will not be resized unless they have zero elements. You can explicitly reuse an out tensor t by resizing it, inplace, to zero elements with t.resize_(0). (Triggered internally at  ../aten/src/ATen/native/Resize.cpp:24.)\n",
      "  value = torch.cat(values, dim=cat_dim or 0, out=out)\n"
     ]
    },
    {
     "name": "stderr",
     "output_type": "stream",
     "text": [
      "/home/chrisw/miniconda3/envs/py39/lib/python3.9/site-packages/torch_geometric/data/collate.py:147: UserWarning: An output with one or more elements was resized since it had shape [4736], which does not match the required output shape [2, 2368]. This behavior is deprecated, and in a future PyTorch release outputs will not be resized unless they have zero elements. You can explicitly reuse an out tensor t by resizing it, inplace, to zero elements with t.resize_(0). (Triggered internally at  ../aten/src/ATen/native/Resize.cpp:24.)\n",
      "  value = torch.cat(values, dim=cat_dim or 0, out=out)\n",
      "/home/chrisw/miniconda3/envs/py39/lib/python3.9/site-packages/torch_geometric/data/collate.py:147: UserWarning: An output with one or more elements was resized since it had shape [5052], which does not match the required output shape [2, 2526]. This behavior is deprecated, and in a future PyTorch release outputs will not be resized unless they have zero elements. You can explicitly reuse an out tensor t by resizing it, inplace, to zero elements with t.resize_(0). (Triggered internally at  ../aten/src/ATen/native/Resize.cpp:24.)\n",
      "  value = torch.cat(values, dim=cat_dim or 0, out=out)\n",
      "/home/chrisw/miniconda3/envs/py39/lib/python3.9/site-packages/torch_geometric/data/collate.py:147: UserWarning: An output with one or more elements was resized since it had shape [5132], which does not match the required output shape [2, 2566]. This behavior is deprecated, and in a future PyTorch release outputs will not be resized unless they have zero elements. You can explicitly reuse an out tensor t by resizing it, inplace, to zero elements with t.resize_(0). (Triggered internally at  ../aten/src/ATen/native/Resize.cpp:24.)\n",
      "  value = torch.cat(values, dim=cat_dim or 0, out=out)\n",
      "/home/chrisw/miniconda3/envs/py39/lib/python3.9/site-packages/torch_geometric/data/collate.py:147: UserWarning: An output with one or more elements was resized since it had shape [4720], which does not match the required output shape [2360, 2]. This behavior is deprecated, and in a future PyTorch release outputs will not be resized unless they have zero elements. You can explicitly reuse an out tensor t by resizing it, inplace, to zero elements with t.resize_(0). (Triggered internally at  ../aten/src/ATen/native/Resize.cpp:24.)\n",
      "  value = torch.cat(values, dim=cat_dim or 0, out=out)\n",
      "/home/chrisw/miniconda3/envs/py39/lib/python3.9/site-packages/torch_geometric/data/collate.py:147: UserWarning: An output with one or more elements was resized since it had shape [4660], which does not match the required output shape [2330, 2]. This behavior is deprecated, and in a future PyTorch release outputs will not be resized unless they have zero elements. You can explicitly reuse an out tensor t by resizing it, inplace, to zero elements with t.resize_(0). (Triggered internally at  ../aten/src/ATen/native/Resize.cpp:24.)\n",
      "  value = torch.cat(values, dim=cat_dim or 0, out=out)\n",
      "/home/chrisw/miniconda3/envs/py39/lib/python3.9/site-packages/torch_geometric/data/collate.py:147: UserWarning: An output with one or more elements was resized since it had shape [4736], which does not match the required output shape [2368, 2]. This behavior is deprecated, and in a future PyTorch release outputs will not be resized unless they have zero elements. You can explicitly reuse an out tensor t by resizing it, inplace, to zero elements with t.resize_(0). (Triggered internally at  ../aten/src/ATen/native/Resize.cpp:24.)\n",
      "  value = torch.cat(values, dim=cat_dim or 0, out=out)\n",
      "/home/chrisw/miniconda3/envs/py39/lib/python3.9/site-packages/torch_geometric/data/collate.py:147: UserWarning: An output with one or more elements was resized since it had shape [5052], which does not match the required output shape [2526, 2]. This behavior is deprecated, and in a future PyTorch release outputs will not be resized unless they have zero elements. You can explicitly reuse an out tensor t by resizing it, inplace, to zero elements with t.resize_(0). (Triggered internally at  ../aten/src/ATen/native/Resize.cpp:24.)\n",
      "  value = torch.cat(values, dim=cat_dim or 0, out=out)\n",
      "/home/chrisw/miniconda3/envs/py39/lib/python3.9/site-packages/torch_geometric/data/collate.py:147: UserWarning: An output with one or more elements was resized since it had shape [5132], which does not match the required output shape [2566, 2]. This behavior is deprecated, and in a future PyTorch release outputs will not be resized unless they have zero elements. You can explicitly reuse an out tensor t by resizing it, inplace, to zero elements with t.resize_(0). (Triggered internally at  ../aten/src/ATen/native/Resize.cpp:24.)\n",
      "  value = torch.cat(values, dim=cat_dim or 0, out=out)\n",
      "Epoch 5: loss 0.565828 0.8197:  25%|████████████████████████████████████                                                                                                            | 4/16 [00:00<00:01,  9.67it/s]/home/chrisw/miniconda3/envs/py39/lib/python3.9/site-packages/torch_geometric/data/collate.py:147: UserWarning: An output with one or more elements was resized since it had shape [335336], which does not match the required output shape [1004, 334]. This behavior is deprecated, and in a future PyTorch release outputs will not be resized unless they have zero elements. You can explicitly reuse an out tensor t by resizing it, inplace, to zero elements with t.resize_(0). (Triggered internally at  ../aten/src/ATen/native/Resize.cpp:24.)\n",
      "  value = torch.cat(values, dim=cat_dim or 0, out=out)\n",
      "/home/chrisw/miniconda3/envs/py39/lib/python3.9/site-packages/torch_geometric/data/collate.py:147: UserWarning: An output with one or more elements was resized since it had shape [442884], which does not match the required output shape [1326, 334]. This behavior is deprecated, and in a future PyTorch release outputs will not be resized unless they have zero elements. You can explicitly reuse an out tensor t by resizing it, inplace, to zero elements with t.resize_(0). (Triggered internally at  ../aten/src/ATen/native/Resize.cpp:24.)\n",
      "  value = torch.cat(values, dim=cat_dim or 0, out=out)\n",
      "/home/chrisw/miniconda3/envs/py39/lib/python3.9/site-packages/torch_geometric/data/collate.py:147: UserWarning: An output with one or more elements was resized since it had shape [403472], which does not match the required output shape [1208, 334]. This behavior is deprecated, and in a future PyTorch release outputs will not be resized unless they have zero elements. You can explicitly reuse an out tensor t by resizing it, inplace, to zero elements with t.resize_(0). (Triggered internally at  ../aten/src/ATen/native/Resize.cpp:24.)\n",
      "  value = torch.cat(values, dim=cat_dim or 0, out=out)\n",
      "/home/chrisw/miniconda3/envs/py39/lib/python3.9/site-packages/torch_geometric/data/collate.py:147: UserWarning: An output with one or more elements was resized since it had shape [456244], which does not match the required output shape [1366, 334]. This behavior is deprecated, and in a future PyTorch release outputs will not be resized unless they have zero elements. You can explicitly reuse an out tensor t by resizing it, inplace, to zero elements with t.resize_(0). (Triggered internally at  ../aten/src/ATen/native/Resize.cpp:24.)\n",
      "  value = torch.cat(values, dim=cat_dim or 0, out=out)\n",
      "/home/chrisw/miniconda3/envs/py39/lib/python3.9/site-packages/torch_geometric/data/collate.py:147: UserWarning: An output with one or more elements was resized since it had shape [5728], which does not match the required output shape [2, 2864]. This behavior is deprecated, and in a future PyTorch release outputs will not be resized unless they have zero elements. You can explicitly reuse an out tensor t by resizing it, inplace, to zero elements with t.resize_(0). (Triggered internally at  ../aten/src/ATen/native/Resize.cpp:24.)\n",
      "  value = torch.cat(values, dim=cat_dim or 0, out=out)\n",
      "/home/chrisw/miniconda3/envs/py39/lib/python3.9/site-packages/torch_geometric/data/collate.py:147: UserWarning: An output with one or more elements was resized since it had shape [4032], which does not match the required output shape [2, 2016]. This behavior is deprecated, and in a future PyTorch release outputs will not be resized unless they have zero elements. You can explicitly reuse an out tensor t by resizing it, inplace, to zero elements with t.resize_(0). (Triggered internally at  ../aten/src/ATen/native/Resize.cpp:24.)\n",
      "  value = torch.cat(values, dim=cat_dim or 0, out=out)\n"
     ]
    },
    {
     "name": "stderr",
     "output_type": "stream",
     "text": [
      "/home/chrisw/miniconda3/envs/py39/lib/python3.9/site-packages/torch_geometric/data/collate.py:147: UserWarning: An output with one or more elements was resized since it had shape [413826], which does not match the required output shape [1239, 334]. This behavior is deprecated, and in a future PyTorch release outputs will not be resized unless they have zero elements. You can explicitly reuse an out tensor t by resizing it, inplace, to zero elements with t.resize_(0). (Triggered internally at  ../aten/src/ATen/native/Resize.cpp:24.)\n",
      "  value = torch.cat(values, dim=cat_dim or 0, out=out)\n",
      "/home/chrisw/miniconda3/envs/py39/lib/python3.9/site-packages/torch_geometric/data/collate.py:147: UserWarning: An output with one or more elements was resized since it had shape [4032], which does not match the required output shape [2016, 2]. This behavior is deprecated, and in a future PyTorch release outputs will not be resized unless they have zero elements. You can explicitly reuse an out tensor t by resizing it, inplace, to zero elements with t.resize_(0). (Triggered internally at  ../aten/src/ATen/native/Resize.cpp:24.)\n",
      "  value = torch.cat(values, dim=cat_dim or 0, out=out)\n",
      "/home/chrisw/miniconda3/envs/py39/lib/python3.9/site-packages/torch_geometric/data/collate.py:147: UserWarning: An output with one or more elements was resized since it had shape [5172], which does not match the required output shape [2, 2586]. This behavior is deprecated, and in a future PyTorch release outputs will not be resized unless they have zero elements. You can explicitly reuse an out tensor t by resizing it, inplace, to zero elements with t.resize_(0). (Triggered internally at  ../aten/src/ATen/native/Resize.cpp:24.)\n",
      "  value = torch.cat(values, dim=cat_dim or 0, out=out)\n",
      "/home/chrisw/miniconda3/envs/py39/lib/python3.9/site-packages/torch_geometric/data/collate.py:147: UserWarning: An output with one or more elements was resized since it had shape [5928], which does not match the required output shape [2, 2964]. This behavior is deprecated, and in a future PyTorch release outputs will not be resized unless they have zero elements. You can explicitly reuse an out tensor t by resizing it, inplace, to zero elements with t.resize_(0). (Triggered internally at  ../aten/src/ATen/native/Resize.cpp:24.)\n",
      "  value = torch.cat(values, dim=cat_dim or 0, out=out)\n",
      "/home/chrisw/miniconda3/envs/py39/lib/python3.9/site-packages/torch_geometric/data/collate.py:147: UserWarning: An output with one or more elements was resized since it had shape [5172], which does not match the required output shape [2586, 2]. This behavior is deprecated, and in a future PyTorch release outputs will not be resized unless they have zero elements. You can explicitly reuse an out tensor t by resizing it, inplace, to zero elements with t.resize_(0). (Triggered internally at  ../aten/src/ATen/native/Resize.cpp:24.)\n",
      "  value = torch.cat(values, dim=cat_dim or 0, out=out)\n",
      "/home/chrisw/miniconda3/envs/py39/lib/python3.9/site-packages/torch_geometric/data/collate.py:147: UserWarning: An output with one or more elements was resized since it had shape [5728], which does not match the required output shape [2864, 2]. This behavior is deprecated, and in a future PyTorch release outputs will not be resized unless they have zero elements. You can explicitly reuse an out tensor t by resizing it, inplace, to zero elements with t.resize_(0). (Triggered internally at  ../aten/src/ATen/native/Resize.cpp:24.)\n",
      "  value = torch.cat(values, dim=cat_dim or 0, out=out)\n",
      "/home/chrisw/miniconda3/envs/py39/lib/python3.9/site-packages/torch_geometric/data/collate.py:147: UserWarning: An output with one or more elements was resized since it had shape [5116], which does not match the required output shape [2, 2558]. This behavior is deprecated, and in a future PyTorch release outputs will not be resized unless they have zero elements. You can explicitly reuse an out tensor t by resizing it, inplace, to zero elements with t.resize_(0). (Triggered internally at  ../aten/src/ATen/native/Resize.cpp:24.)\n",
      "  value = torch.cat(values, dim=cat_dim or 0, out=out)\n",
      "/home/chrisw/miniconda3/envs/py39/lib/python3.9/site-packages/torch_geometric/data/collate.py:147: UserWarning: An output with one or more elements was resized since it had shape [5928], which does not match the required output shape [2964, 2]. This behavior is deprecated, and in a future PyTorch release outputs will not be resized unless they have zero elements. You can explicitly reuse an out tensor t by resizing it, inplace, to zero elements with t.resize_(0). (Triggered internally at  ../aten/src/ATen/native/Resize.cpp:24.)\n",
      "  value = torch.cat(values, dim=cat_dim or 0, out=out)\n",
      "/home/chrisw/miniconda3/envs/py39/lib/python3.9/site-packages/torch_geometric/data/collate.py:147: UserWarning: An output with one or more elements was resized since it had shape [5116], which does not match the required output shape [2558, 2]. This behavior is deprecated, and in a future PyTorch release outputs will not be resized unless they have zero elements. You can explicitly reuse an out tensor t by resizing it, inplace, to zero elements with t.resize_(0). (Triggered internally at  ../aten/src/ATen/native/Resize.cpp:24.)\n",
      "  value = torch.cat(values, dim=cat_dim or 0, out=out)\n",
      "Epoch 5: loss 0.531441 0.8454:  38%|██████████████████████████████████████████████████████                                                                                          | 6/16 [00:00<00:00, 10.22it/s]/home/chrisw/miniconda3/envs/py39/lib/python3.9/site-packages/torch_geometric/data/collate.py:147: UserWarning: An output with one or more elements was resized since it had shape [424848], which does not match the required output shape [1272, 334]. This behavior is deprecated, and in a future PyTorch release outputs will not be resized unless they have zero elements. You can explicitly reuse an out tensor t by resizing it, inplace, to zero elements with t.resize_(0). (Triggered internally at  ../aten/src/ATen/native/Resize.cpp:24.)\n",
      "  value = torch.cat(values, dim=cat_dim or 0, out=out)\n",
      "/home/chrisw/miniconda3/envs/py39/lib/python3.9/site-packages/torch_geometric/data/collate.py:147: UserWarning: An output with one or more elements was resized since it had shape [5336], which does not match the required output shape [2, 2668]. This behavior is deprecated, and in a future PyTorch release outputs will not be resized unless they have zero elements. You can explicitly reuse an out tensor t by resizing it, inplace, to zero elements with t.resize_(0). (Triggered internally at  ../aten/src/ATen/native/Resize.cpp:24.)\n",
      "  value = torch.cat(values, dim=cat_dim or 0, out=out)\n",
      "/home/chrisw/miniconda3/envs/py39/lib/python3.9/site-packages/torch_geometric/data/collate.py:147: UserWarning: An output with one or more elements was resized since it had shape [416832], which does not match the required output shape [1248, 334]. This behavior is deprecated, and in a future PyTorch release outputs will not be resized unless they have zero elements. You can explicitly reuse an out tensor t by resizing it, inplace, to zero elements with t.resize_(0). (Triggered internally at  ../aten/src/ATen/native/Resize.cpp:24.)\n",
      "  value = torch.cat(values, dim=cat_dim or 0, out=out)\n",
      "Epoch 5: loss 0.532633 0.8446:  38%|██████████████████████████████████████████████████████                                                                                          | 6/16 [00:00<00:00, 10.22it/s]/home/chrisw/miniconda3/envs/py39/lib/python3.9/site-packages/torch_geometric/data/collate.py:147: UserWarning: An output with one or more elements was resized since it had shape [5336], which does not match the required output shape [2668, 2]. This behavior is deprecated, and in a future PyTorch release outputs will not be resized unless they have zero elements. You can explicitly reuse an out tensor t by resizing it, inplace, to zero elements with t.resize_(0). (Triggered internally at  ../aten/src/ATen/native/Resize.cpp:24.)\n",
      "  value = torch.cat(values, dim=cat_dim or 0, out=out)\n",
      "/home/chrisw/miniconda3/envs/py39/lib/python3.9/site-packages/torch_geometric/data/collate.py:147: UserWarning: An output with one or more elements was resized since it had shape [369404], which does not match the required output shape [1106, 334]. This behavior is deprecated, and in a future PyTorch release outputs will not be resized unless they have zero elements. You can explicitly reuse an out tensor t by resizing it, inplace, to zero elements with t.resize_(0). (Triggered internally at  ../aten/src/ATen/native/Resize.cpp:24.)\n",
      "  value = torch.cat(values, dim=cat_dim or 0, out=out)\n"
     ]
    },
    {
     "name": "stderr",
     "output_type": "stream",
     "text": [
      "/home/chrisw/miniconda3/envs/py39/lib/python3.9/site-packages/torch_geometric/data/collate.py:147: UserWarning: An output with one or more elements was resized since it had shape [5376], which does not match the required output shape [2, 2688]. This behavior is deprecated, and in a future PyTorch release outputs will not be resized unless they have zero elements. You can explicitly reuse an out tensor t by resizing it, inplace, to zero elements with t.resize_(0). (Triggered internally at  ../aten/src/ATen/native/Resize.cpp:24.)\n",
      "  value = torch.cat(values, dim=cat_dim or 0, out=out)\n",
      "/home/chrisw/miniconda3/envs/py39/lib/python3.9/site-packages/torch_geometric/data/collate.py:147: UserWarning: An output with one or more elements was resized since it had shape [361388], which does not match the required output shape [1082, 334]. This behavior is deprecated, and in a future PyTorch release outputs will not be resized unless they have zero elements. You can explicitly reuse an out tensor t by resizing it, inplace, to zero elements with t.resize_(0). (Triggered internally at  ../aten/src/ATen/native/Resize.cpp:24.)\n",
      "  value = torch.cat(values, dim=cat_dim or 0, out=out)\n",
      "/home/chrisw/miniconda3/envs/py39/lib/python3.9/site-packages/torch_geometric/data/collate.py:147: UserWarning: An output with one or more elements was resized since it had shape [4440], which does not match the required output shape [2, 2220]. This behavior is deprecated, and in a future PyTorch release outputs will not be resized unless they have zero elements. You can explicitly reuse an out tensor t by resizing it, inplace, to zero elements with t.resize_(0). (Triggered internally at  ../aten/src/ATen/native/Resize.cpp:24.)\n",
      "  value = torch.cat(values, dim=cat_dim or 0, out=out)\n",
      "/home/chrisw/miniconda3/envs/py39/lib/python3.9/site-packages/torch_geometric/data/collate.py:147: UserWarning: An output with one or more elements was resized since it had shape [5376], which does not match the required output shape [2688, 2]. This behavior is deprecated, and in a future PyTorch release outputs will not be resized unless they have zero elements. You can explicitly reuse an out tensor t by resizing it, inplace, to zero elements with t.resize_(0). (Triggered internally at  ../aten/src/ATen/native/Resize.cpp:24.)\n",
      "  value = torch.cat(values, dim=cat_dim or 0, out=out)\n",
      "/home/chrisw/miniconda3/envs/py39/lib/python3.9/site-packages/torch_geometric/data/collate.py:147: UserWarning: An output with one or more elements was resized since it had shape [4440], which does not match the required output shape [2220, 2]. This behavior is deprecated, and in a future PyTorch release outputs will not be resized unless they have zero elements. You can explicitly reuse an out tensor t by resizing it, inplace, to zero elements with t.resize_(0). (Triggered internally at  ../aten/src/ATen/native/Resize.cpp:24.)\n",
      "  value = torch.cat(values, dim=cat_dim or 0, out=out)\n",
      "/home/chrisw/miniconda3/envs/py39/lib/python3.9/site-packages/torch_geometric/data/collate.py:147: UserWarning: An output with one or more elements was resized since it had shape [413492], which does not match the required output shape [1238, 334]. This behavior is deprecated, and in a future PyTorch release outputs will not be resized unless they have zero elements. You can explicitly reuse an out tensor t by resizing it, inplace, to zero elements with t.resize_(0). (Triggered internally at  ../aten/src/ATen/native/Resize.cpp:24.)\n",
      "  value = torch.cat(values, dim=cat_dim or 0, out=out)\n",
      "/home/chrisw/miniconda3/envs/py39/lib/python3.9/site-packages/torch_geometric/data/collate.py:147: UserWarning: An output with one or more elements was resized since it had shape [4540], which does not match the required output shape [2, 2270]. This behavior is deprecated, and in a future PyTorch release outputs will not be resized unless they have zero elements. You can explicitly reuse an out tensor t by resizing it, inplace, to zero elements with t.resize_(0). (Triggered internally at  ../aten/src/ATen/native/Resize.cpp:24.)\n",
      "  value = torch.cat(values, dim=cat_dim or 0, out=out)\n",
      "/home/chrisw/miniconda3/envs/py39/lib/python3.9/site-packages/torch_geometric/data/collate.py:147: UserWarning: An output with one or more elements was resized since it had shape [5256], which does not match the required output shape [2, 2628]. This behavior is deprecated, and in a future PyTorch release outputs will not be resized unless they have zero elements. You can explicitly reuse an out tensor t by resizing it, inplace, to zero elements with t.resize_(0). (Triggered internally at  ../aten/src/ATen/native/Resize.cpp:24.)\n",
      "  value = torch.cat(values, dim=cat_dim or 0, out=out)\n",
      "/home/chrisw/miniconda3/envs/py39/lib/python3.9/site-packages/torch_geometric/data/collate.py:147: UserWarning: An output with one or more elements was resized since it had shape [4540], which does not match the required output shape [2270, 2]. This behavior is deprecated, and in a future PyTorch release outputs will not be resized unless they have zero elements. You can explicitly reuse an out tensor t by resizing it, inplace, to zero elements with t.resize_(0). (Triggered internally at  ../aten/src/ATen/native/Resize.cpp:24.)\n",
      "  value = torch.cat(values, dim=cat_dim or 0, out=out)\n",
      "/home/chrisw/miniconda3/envs/py39/lib/python3.9/site-packages/torch_geometric/data/collate.py:147: UserWarning: An output with one or more elements was resized since it had shape [5256], which does not match the required output shape [2628, 2]. This behavior is deprecated, and in a future PyTorch release outputs will not be resized unless they have zero elements. You can explicitly reuse an out tensor t by resizing it, inplace, to zero elements with t.resize_(0). (Triggered internally at  ../aten/src/ATen/native/Resize.cpp:24.)\n",
      "  value = torch.cat(values, dim=cat_dim or 0, out=out)\n",
      "Epoch 5: loss 0.520635 0.8562:  38%|██████████████████████████████████████████████████████                                                                                          | 6/16 [00:00<00:00, 10.22it/s]/home/chrisw/miniconda3/envs/py39/lib/python3.9/site-packages/torch_geometric/data/collate.py:147: UserWarning: An output with one or more elements was resized since it had shape [363726], which does not match the required output shape [1089, 334]. This behavior is deprecated, and in a future PyTorch release outputs will not be resized unless they have zero elements. You can explicitly reuse an out tensor t by resizing it, inplace, to zero elements with t.resize_(0). (Triggered internally at  ../aten/src/ATen/native/Resize.cpp:24.)\n",
      "  value = torch.cat(values, dim=cat_dim or 0, out=out)\n",
      "/home/chrisw/miniconda3/envs/py39/lib/python3.9/site-packages/torch_geometric/data/collate.py:147: UserWarning: An output with one or more elements was resized since it had shape [4452], which does not match the required output shape [2, 2226]. This behavior is deprecated, and in a future PyTorch release outputs will not be resized unless they have zero elements. You can explicitly reuse an out tensor t by resizing it, inplace, to zero elements with t.resize_(0). (Triggered internally at  ../aten/src/ATen/native/Resize.cpp:24.)\n",
      "  value = torch.cat(values, dim=cat_dim or 0, out=out)\n",
      "/home/chrisw/miniconda3/envs/py39/lib/python3.9/site-packages/torch_geometric/data/collate.py:147: UserWarning: An output with one or more elements was resized since it had shape [4452], which does not match the required output shape [2226, 2]. This behavior is deprecated, and in a future PyTorch release outputs will not be resized unless they have zero elements. You can explicitly reuse an out tensor t by resizing it, inplace, to zero elements with t.resize_(0). (Triggered internally at  ../aten/src/ATen/native/Resize.cpp:24.)\n",
      "  value = torch.cat(values, dim=cat_dim or 0, out=out)\n",
      "Epoch 5: loss 0.518722 0.8505:  69%|██████████████████████████████████████████████████████████████████████████████████████████████████▎                                            | 11/16 [00:00<00:00, 16.92it/s]\n"
     ]
    },
    {
     "name": "stderr",
     "output_type": "stream",
     "text": [
      "  0%|                                                                                                                                                                                        | 0/4 [00:00<?, ?it/s]\u001b[A/home/chrisw/miniconda3/envs/py39/lib/python3.9/site-packages/torch_geometric/data/collate.py:147: UserWarning: An output with one or more elements was resized since it had shape [352370], which does not match the required output shape [1055, 334]. This behavior is deprecated, and in a future PyTorch release outputs will not be resized unless they have zero elements. You can explicitly reuse an out tensor t by resizing it, inplace, to zero elements with t.resize_(0). (Triggered internally at  ../aten/src/ATen/native/Resize.cpp:24.)\n",
      "  value = torch.cat(values, dim=cat_dim or 0, out=out)\n",
      "/home/chrisw/miniconda3/envs/py39/lib/python3.9/site-packages/torch_geometric/data/collate.py:147: UserWarning: An output with one or more elements was resized since it had shape [451902], which does not match the required output shape [1353, 334]. This behavior is deprecated, and in a future PyTorch release outputs will not be resized unless they have zero elements. You can explicitly reuse an out tensor t by resizing it, inplace, to zero elements with t.resize_(0). (Triggered internally at  ../aten/src/ATen/native/Resize.cpp:24.)\n",
      "  value = torch.cat(values, dim=cat_dim or 0, out=out)\n",
      "/home/chrisw/miniconda3/envs/py39/lib/python3.9/site-packages/torch_geometric/data/collate.py:147: UserWarning: An output with one or more elements was resized since it had shape [429190], which does not match the required output shape [1285, 334]. This behavior is deprecated, and in a future PyTorch release outputs will not be resized unless they have zero elements. You can explicitly reuse an out tensor t by resizing it, inplace, to zero elements with t.resize_(0). (Triggered internally at  ../aten/src/ATen/native/Resize.cpp:24.)\n",
      "  value = torch.cat(values, dim=cat_dim or 0, out=out)\n",
      "/home/chrisw/miniconda3/envs/py39/lib/python3.9/site-packages/torch_geometric/data/collate.py:147: UserWarning: An output with one or more elements was resized since it had shape [429524], which does not match the required output shape [1286, 334]. This behavior is deprecated, and in a future PyTorch release outputs will not be resized unless they have zero elements. You can explicitly reuse an out tensor t by resizing it, inplace, to zero elements with t.resize_(0). (Triggered internally at  ../aten/src/ATen/native/Resize.cpp:24.)\n",
      "  value = torch.cat(values, dim=cat_dim or 0, out=out)\n",
      "/home/chrisw/miniconda3/envs/py39/lib/python3.9/site-packages/torch_geometric/data/collate.py:147: UserWarning: An output with one or more elements was resized since it had shape [5764], which does not match the required output shape [2, 2882]. This behavior is deprecated, and in a future PyTorch release outputs will not be resized unless they have zero elements. You can explicitly reuse an out tensor t by resizing it, inplace, to zero elements with t.resize_(0). (Triggered internally at  ../aten/src/ATen/native/Resize.cpp:24.)\n",
      "  value = torch.cat(values, dim=cat_dim or 0, out=out)\n",
      "/home/chrisw/miniconda3/envs/py39/lib/python3.9/site-packages/torch_geometric/data/collate.py:147: UserWarning: An output with one or more elements was resized since it had shape [4256], which does not match the required output shape [2, 2128]. This behavior is deprecated, and in a future PyTorch release outputs will not be resized unless they have zero elements. You can explicitly reuse an out tensor t by resizing it, inplace, to zero elements with t.resize_(0). (Triggered internally at  ../aten/src/ATen/native/Resize.cpp:24.)\n",
      "  value = torch.cat(values, dim=cat_dim or 0, out=out)\n",
      "/home/chrisw/miniconda3/envs/py39/lib/python3.9/site-packages/torch_geometric/data/collate.py:147: UserWarning: An output with one or more elements was resized since it had shape [5556], which does not match the required output shape [2, 2778]. This behavior is deprecated, and in a future PyTorch release outputs will not be resized unless they have zero elements. You can explicitly reuse an out tensor t by resizing it, inplace, to zero elements with t.resize_(0). (Triggered internally at  ../aten/src/ATen/native/Resize.cpp:24.)\n",
      "  value = torch.cat(values, dim=cat_dim or 0, out=out)\n",
      "/home/chrisw/miniconda3/envs/py39/lib/python3.9/site-packages/torch_geometric/data/collate.py:147: UserWarning: An output with one or more elements was resized since it had shape [5244], which does not match the required output shape [2, 2622]. This behavior is deprecated, and in a future PyTorch release outputs will not be resized unless they have zero elements. You can explicitly reuse an out tensor t by resizing it, inplace, to zero elements with t.resize_(0). (Triggered internally at  ../aten/src/ATen/native/Resize.cpp:24.)\n",
      "  value = torch.cat(values, dim=cat_dim or 0, out=out)\n",
      "/home/chrisw/miniconda3/envs/py39/lib/python3.9/site-packages/torch_geometric/data/collate.py:147: UserWarning: An output with one or more elements was resized since it had shape [5764], which does not match the required output shape [2882, 2]. This behavior is deprecated, and in a future PyTorch release outputs will not be resized unless they have zero elements. You can explicitly reuse an out tensor t by resizing it, inplace, to zero elements with t.resize_(0). (Triggered internally at  ../aten/src/ATen/native/Resize.cpp:24.)\n",
      "  value = torch.cat(values, dim=cat_dim or 0, out=out)\n",
      "/home/chrisw/miniconda3/envs/py39/lib/python3.9/site-packages/torch_geometric/data/collate.py:147: UserWarning: An output with one or more elements was resized since it had shape [4256], which does not match the required output shape [2128, 2]. This behavior is deprecated, and in a future PyTorch release outputs will not be resized unless they have zero elements. You can explicitly reuse an out tensor t by resizing it, inplace, to zero elements with t.resize_(0). (Triggered internally at  ../aten/src/ATen/native/Resize.cpp:24.)\n",
      "  value = torch.cat(values, dim=cat_dim or 0, out=out)\n",
      "/home/chrisw/miniconda3/envs/py39/lib/python3.9/site-packages/torch_geometric/data/collate.py:147: UserWarning: An output with one or more elements was resized since it had shape [5244], which does not match the required output shape [2622, 2]. This behavior is deprecated, and in a future PyTorch release outputs will not be resized unless they have zero elements. You can explicitly reuse an out tensor t by resizing it, inplace, to zero elements with t.resize_(0). (Triggered internally at  ../aten/src/ATen/native/Resize.cpp:24.)\n",
      "  value = torch.cat(values, dim=cat_dim or 0, out=out)\n",
      "/home/chrisw/miniconda3/envs/py39/lib/python3.9/site-packages/torch_geometric/data/collate.py:147: UserWarning: An output with one or more elements was resized since it had shape [5556], which does not match the required output shape [2778, 2]. This behavior is deprecated, and in a future PyTorch release outputs will not be resized unless they have zero elements. You can explicitly reuse an out tensor t by resizing it, inplace, to zero elements with t.resize_(0). (Triggered internally at  ../aten/src/ATen/native/Resize.cpp:24.)\n",
      "  value = torch.cat(values, dim=cat_dim or 0, out=out)\n",
      "\n",
      "Valid 5: loss 0.489286 0.9314:   0%|                                                                                                                                                         | 0/4 [00:00<?, ?it/s]\u001b[A\n",
      "Valid 5: loss 0.489286 0.9314:  25%|████████████████████████████████████▎                                                                                                            | 1/4 [00:00<00:00,  3.31it/s]\u001b[A\n",
      "Valid 5: loss 0.458439 0.9075:  25%|████████████████████████████████████▎                                                                                                            | 1/4 [00:00<00:00,  3.31it/s]\u001b[A\n",
      "Valid 5: loss 0.550031 0.6908:  25%|████████████████████████████████████▎                                                                                                            | 1/4 [00:00<00:00,  3.31it/s]\u001b[A\n"
     ]
    },
    {
     "name": "stderr",
     "output_type": "stream",
     "text": [
      "Valid 5: loss 0.519741 0.9114: 100%|█████████████████████████████████████████████████████████████████████████████████████████████████████████████████████████████████████████████████| 4/4 [00:00<00:00,  9.25it/s]\u001b[A\n",
      "Epoch 5: loss 0.518722 0.8505: 100%|███████████████████████████████████████████████████████████████████████████████████████████████████████████████████████████████████████████████| 16/16 [00:01<00:00, 11.13it/s]\n"
     ]
    },
    {
     "name": "stdout",
     "output_type": "stream",
     "text": [
      "EarlyStopping counter: 1 out of 20\n"
     ]
    }
   ],
   "source": [
    "trainer.fit()"
   ]
  },
  {
   "cell_type": "code",
   "execution_count": null,
   "id": "2837b079",
   "metadata": {},
   "outputs": [],
   "source": []
  }
 ],
 "metadata": {
  "kernelspec": {
   "display_name": "Python 3 (ipykernel)",
   "language": "python",
   "name": "python3"
  },
  "language_info": {
   "codemirror_mode": {
    "name": "ipython",
    "version": 3
   },
   "file_extension": ".py",
   "mimetype": "text/x-python",
   "name": "python",
   "nbconvert_exporter": "python",
   "pygments_lexer": "ipython3",
   "version": "3.9.13"
  }
 },
 "nbformat": 4,
 "nbformat_minor": 5
}
