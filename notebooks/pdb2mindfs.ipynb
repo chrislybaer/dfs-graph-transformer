{
 "cells": [
  {
   "cell_type": "code",
   "execution_count": 1,
   "id": "af5b9cc9",
   "metadata": {},
   "outputs": [],
   "source": [
    "import numpy as np\n",
    "import json\n",
    "import glob\n",
    "from sklearn.metrics import pairwise_distances\n",
    "from matplotlib import pyplot as plt\n",
    "from collections import defaultdict\n",
    "import tqdm \n",
    "from Bio.PDB import PDBParser\n",
    "import warnings\n",
    "import pickle\n",
    "import dfs_code\n",
    "warnings.filterwarnings('ignore')"
   ]
  },
  {
   "cell_type": "code",
   "execution_count": 2,
   "id": "fcb1556d",
   "metadata": {},
   "outputs": [],
   "source": [
    "path = \"/mnt/ssd/datasets/enzyme/\"\n",
    "node_limit = np.inf\n",
    "cutoff = 8 # 8 also works"
   ]
  },
  {
   "cell_type": "code",
   "execution_count": 3,
   "id": "2dd37081",
   "metadata": {},
   "outputs": [
    {
     "data": {
      "text/plain": [
       "['/mnt/ssd/datasets/enzyme/metadata',\n",
       " '/mnt/ssd/datasets/enzyme/pdb_files',\n",
       " '/mnt/ssd/datasets/enzyme/parsed.json',\n",
       " '/mnt/ssd/datasets/enzyme/parsed.pkl',\n",
       " '/mnt/ssd/datasets/enzyme/min_dfs_transformer_preprocessed_n200_dleq4.5.pkl',\n",
       " '/mnt/ssd/datasets/enzyme/min_dfs_transformer_preprocessed_n200_dleq10.pkl',\n",
       " '/mnt/ssd/datasets/enzyme/min_dfs_transformer_preprocessed_leq5.000000.pkl',\n",
       " '/mnt/ssd/datasets/enzyme/acid2int.pkl']"
      ]
     },
     "execution_count": 3,
     "metadata": {},
     "output_type": "execute_result"
    }
   ],
   "source": [
    "glob.glob(path+\"*\")"
   ]
  },
  {
   "cell_type": "code",
   "execution_count": 4,
   "id": "de5435ae",
   "metadata": {},
   "outputs": [],
   "source": [
    "with open(path+\"metadata/function_labels.json\", \"r\") as f:\n",
    "    labels = json.load(f)"
   ]
  },
  {
   "cell_type": "code",
   "execution_count": 5,
   "id": "14161f61",
   "metadata": {},
   "outputs": [],
   "source": [
    "with open(path+\"metadata/base_split.json\", \"r\") as f:\n",
    "    split = json.load(f)"
   ]
  },
  {
   "cell_type": "code",
   "execution_count": 6,
   "id": "95885669",
   "metadata": {},
   "outputs": [],
   "source": [
    "with open(path+\"parsed.pkl\", \"rb\") as f:\n",
    "    features = pickle.load(f)"
   ]
  },
  {
   "cell_type": "code",
   "execution_count": 7,
   "id": "10fbb6df",
   "metadata": {},
   "outputs": [
    {
     "name": "stderr",
     "output_type": "stream",
     "text": [
      "100%|███████████████████████████████████████████████████████████████████████| 37428/37428 [00:01<00:00, 22289.67it/s]\n"
     ]
    }
   ],
   "source": [
    "max_dist = 0\n",
    "max_nodes = 0\n",
    "nodes = []\n",
    "selected_keys = []\n",
    "for prot, feats in tqdm.tqdm(features.items()):\n",
    "    curr_max = np.max(feats['A'])\n",
    "    n_nodes = len(feats['A'])\n",
    "    if n_nodes > max_nodes:\n",
    "        max_nodes = n_nodes\n",
    "    if curr_max > max_dist:\n",
    "        max_dist = curr_max\n",
    "    if n_nodes <= node_limit:\n",
    "        selected_keys += [prot] \n",
    "    nodes += [n_nodes]"
   ]
  },
  {
   "cell_type": "code",
   "execution_count": 8,
   "id": "655eece4",
   "metadata": {},
   "outputs": [
    {
     "data": {
      "image/png": "[encoded data removed]",
      "text/plain": [
       "<Figure size 432x288 with 1 Axes>"
      ]
     },
     "metadata": {
      "needs_background": "light"
     },
     "output_type": "display_data"
    }
   ],
   "source": [
    "plt.hist(nodes, bins='rice')\n",
    "plt.title('number of nodes')\n",
    "plt.show()"
   ]
  },
  {
   "cell_type": "code",
   "execution_count": 9,
   "id": "1b9a9399",
   "metadata": {},
   "outputs": [
    {
     "name": "stderr",
     "output_type": "stream",
     "text": [
      "100%|████████████████████████████████████████████████████████████████████████| 37428/37428 [00:08<00:00, 4383.46it/s]\n"
     ]
    }
   ],
   "source": [
    "n_edges = []\n",
    "for prot in tqdm.tqdm(selected_keys):\n",
    "    ds = features[prot][\"A\"].flatten()\n",
    "    n_edges += [((ds != 0)*(ds < cutoff)).sum()]"
   ]
  },
  {
   "cell_type": "code",
   "execution_count": 10,
   "id": "102229ad",
   "metadata": {},
   "outputs": [
    {
     "data": {
      "image/png": "[encoded data removed]",
      "text/plain": [
       "<Figure size 432x288 with 1 Axes>"
      ]
     },
     "metadata": {
      "needs_background": "light"
     },
     "output_type": "display_data"
    }
   ],
   "source": [
    "plt.hist(n_edges, bins=\"rice\")\n",
    "plt.title('number of edges')\n",
    "plt.show()"
   ]
  },
  {
   "cell_type": "code",
   "execution_count": 11,
   "id": "6aa7f0b5",
   "metadata": {},
   "outputs": [],
   "source": [
    "bins2 = np.linspace(0, cutoff, 500)\n",
    "counts2 = np.zeros(len(bins2)-1)"
   ]
  },
  {
   "cell_type": "code",
   "execution_count": 12,
   "id": "b0605dea",
   "metadata": {},
   "outputs": [
    {
     "name": "stderr",
     "output_type": "stream",
     "text": [
      "100%|████████████████████████████████████████████████████████████████████████| 37428/37428 [00:13<00:00, 2785.63it/s]\n"
     ]
    }
   ],
   "source": [
    "n_edges = []\n",
    "for prot in tqdm.tqdm(selected_keys):\n",
    "    ds = features[prot][\"A\"].flatten()\n",
    "    counts2 += np.histogram(ds[(ds != 0)*(ds < cutoff)], bins=bins2)[0]"
   ]
  },
  {
   "cell_type": "code",
   "execution_count": 13,
   "id": "ff44f92b",
   "metadata": {},
   "outputs": [
    {
     "data": {
      "text/plain": [
       "[<matplotlib.lines.Line2D at 0x7fd9e242c130>]"
      ]
     },
     "execution_count": 13,
     "metadata": {},
     "output_type": "execute_result"
    },
    {
     "data": {
      "image/png": "[encoded data removed]",
      "text/plain": [
       "<Figure size 432x288 with 1 Axes>"
      ]
     },
     "metadata": {
      "needs_background": "light"
     },
     "output_type": "display_data"
    }
   ],
   "source": [
    "plt.plot(bins2[1:], counts2)"
   ]
  },
  {
   "cell_type": "code",
   "execution_count": 14,
   "id": "169a5a02",
   "metadata": {},
   "outputs": [
    {
     "name": "stderr",
     "output_type": "stream",
     "text": [
      "100%|███████████████████████████████████████████████████████████████████████| 37428/37428 [00:00<00:00, 47815.49it/s]\n"
     ]
    }
   ],
   "source": [
    "acids = set()\n",
    "for prot in tqdm.tqdm(selected_keys):\n",
    "    acids |= set(features[prot][\"acid\"].tolist())"
   ]
  },
  {
   "cell_type": "code",
   "execution_count": 15,
   "id": "30a72261",
   "metadata": {},
   "outputs": [],
   "source": [
    "acids2int = {acid:idx for idx, acid in enumerate(list(acids))}"
   ]
  },
  {
   "cell_type": "code",
   "execution_count": 16,
   "id": "01bd3b43",
   "metadata": {},
   "outputs": [],
   "source": [
    "def d2edge_type(d):\n",
    "    if d<4:\n",
    "        return 0\n",
    "    elif d<5:\n",
    "        return 1\n",
    "    elif d<6:\n",
    "        return 2\n",
    "    elif d<7:\n",
    "        return 3\n",
    "    elif d<8:\n",
    "        return 4\n",
    "    elif d<9:\n",
    "        return 5\n",
    "    elif d<10:\n",
    "        return 6\n",
    "    else:\n",
    "        return 7"
   ]
  },
  {
   "cell_type": "markdown",
   "id": "91ce7cad",
   "metadata": {},
   "source": [
    "graphs = defaultdict(dict)\n",
    "exceptions = []\n",
    "for prot in tqdm.tqdm(selected_keys[3070:3072]):\n",
    "    D = features[prot]['A']\n",
    "    plt.matshow(-D)\n",
    "    plt.show()\n",
    "    A = (D != 0) * (D < cutoff)\n",
    "    print(A.sum())\n",
    "    print(A.shape)\n",
    "    edge_index = np.asarray(np.where(A))\n",
    "    print(\"computed edge index\")\n",
    "    edge_index_set = set((e[0], e[1]) for e in edge_index.T)\n",
    "    print(\"computed edge index set\")\n",
    "    node_types = np.asarray([acids2int[acid] for acid in features[prot]['acid']])\n",
    "    print(\"computed node types\")\n",
    "    glue_edges = []\n",
    "    for i in range(len(A)-1):\n",
    "        if (i, i+1) not in edge_index_set:\n",
    "            glue_edges += [[i, i+1]]\n",
    "        if (i+1, i) not in edge_index_set:\n",
    "            glue_edges += [[i+1, i]]\n",
    "    print(\"computed glue edges\")\n",
    "    if len(glue_edges) > 0:\n",
    "        glue_edges = np.asarray(glue_edges).T\n",
    "        edge_index = np.concatenate((edge_index, glue_edges), axis=1)\n",
    "    print(\"combined edges\")\n",
    "    edge_types = [d2edge_type(D[e[0], e[1]]) for e in edge_index.T]\n",
    "    print(\"computed edge types\")\n",
    "    edge_types = np.asarray(edge_types)\n",
    "    print(\"converted edge types to array\")\n",
    "    print(len(D))\n",
    "    print(len(edge_types))\n",
    "    print(glue_edges)\n",
    "    min_dfs_code, min_dfs_index = dfs_code.min_dfs_code_from_edgeindex(edge_index, \n",
    "                                                                       node_types.tolist(), \n",
    "                                                                       edge_types.tolist())\n",
    "    graphs[prot]['edge_index'] = edge_index\n",
    "    graphs[prot]['edge_types'] = edge_types\n",
    "    graphs[prot]['node_types'] = node_types\n",
    "    graphs[prot]['min_dfs_code'] = min_dfs_code\n",
    "    graphs[prot]['min_dfs_index'] = min_dfs_index\n",
    "    graphs[prot]['pos'] = features[prot]['pos']\n",
    "    del features[prot]"
   ]
  },
  {
   "cell_type": "code",
   "execution_count": null,
   "id": "016f700d",
   "metadata": {},
   "outputs": [
    {
     "name": "stderr",
     "output_type": "stream",
     "text": [
      " 19%|█████████████▉                                                             | 6955/37428 [38:42<39:16, 12.93it/s]"
     ]
    }
   ],
   "source": [
    "graphs = defaultdict(dict)\n",
    "exceptions = []\n",
    "for prot in tqdm.tqdm(selected_keys):\n",
    "    D = features[prot]['A'].copy()\n",
    "    D -= np.eye(len(D))\n",
    "    A = (D != -1) * (D < cutoff)\n",
    "    edge_index = np.asarray(np.where(A))\n",
    "    edge_index_set = set((e[0], e[1]) for e in edge_index.T)\n",
    "    node_types = np.asarray([acids2int[acid] for acid in features[prot]['acid']])\n",
    "    glue_edges = []\n",
    "    for i in range(len(A)-1):\n",
    "        if (i, i+1) not in edge_index_set:\n",
    "            glue_edges += [[i, i+1]]\n",
    "        if (i+1, i) not in edge_index_set:\n",
    "            glue_edges += [[i+1, i]]\n",
    "    if len(glue_edges) > 0:\n",
    "        glue_edges = np.asarray(glue_edges).T\n",
    "        edge_index = np.concatenate((edge_index, glue_edges), axis=1)\n",
    "    edge_types = np.asarray([d2edge_type(D[e[0], e[1]]) for e in edge_index.T])\n",
    "    min_dfs_code, min_dfs_index = dfs_code.min_dfs_code_from_edgeindex(edge_index, \n",
    "                                                                       node_types.tolist(), \n",
    "                                                                       edge_types.tolist())\n",
    "    graphs[prot]['edge_index'] = edge_index\n",
    "    graphs[prot]['edge_types'] = edge_types\n",
    "    graphs[prot]['node_types'] = node_types\n",
    "    graphs[prot]['min_dfs_code'] = min_dfs_code\n",
    "    graphs[prot]['min_dfs_index'] = min_dfs_index\n",
    "    graphs[prot]['pos'] = features[prot]['pos']\n",
    "    del features[prot]\n"
   ]
  },
  {
   "cell_type": "code",
   "execution_count": null,
   "id": "30a8a203",
   "metadata": {},
   "outputs": [],
   "source": [
    "trainset = set(split['train'])\n",
    "validset = set(split['valid'])\n",
    "testset = set(split['test'])"
   ]
  },
  {
   "cell_type": "code",
   "execution_count": null,
   "id": "92976a1d",
   "metadata": {},
   "outputs": [],
   "source": [
    "for key in graphs.keys():\n",
    "    graphs[key]['label'] = labels[key]\n",
    "    if key in trainset:\n",
    "        graphs[key]['split'] = \"train\"\n",
    "    elif key in validset:\n",
    "        graphs[key]['split'] = \"valid\"\n",
    "    elif key in testset:\n",
    "        graphs[key]['split'] = \"test\"\n",
    "    else:\n",
    "        raise ValueError(\"unexpected\")"
   ]
  },
  {
   "cell_type": "code",
   "execution_count": null,
   "id": "96eef52a",
   "metadata": {},
   "outputs": [],
   "source": [
    "with open(path+\"min_dfs_transformer_preprocessed_leq%f.pkl\"%cutoff, \"wb\") as f:\n",
    "    pickle.dump(graphs, f)"
   ]
  },
  {
   "cell_type": "code",
   "execution_count": null,
   "id": "06b2795b",
   "metadata": {},
   "outputs": [],
   "source": [
    "with open(path+\"acid2int.pkl\", \"wb\") as f:\n",
    "    pickle.dump(acids2int, f)"
   ]
  },
  {
   "cell_type": "code",
   "execution_count": null,
   "id": "73edf4ed",
   "metadata": {},
   "outputs": [],
   "source": []
  }
 ],
 "metadata": {
  "kernelspec": {
   "display_name": "Python 3 (ipykernel)",
   "language": "python",
   "name": "python3"
  },
  "language_info": {
   "codemirror_mode": {
    "name": "ipython",
    "version": 3
   },
   "file_extension": ".py",
   "mimetype": "text/x-python",
   "name": "python",
   "nbconvert_exporter": "python",
   "pygments_lexer": "ipython3",
   "version": "3.8.3"
  }
 },
 "nbformat": 4,
 "nbformat_minor": 5
}
