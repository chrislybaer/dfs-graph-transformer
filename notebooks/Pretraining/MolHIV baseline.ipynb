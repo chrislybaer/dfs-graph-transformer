{
 "cells": [
  {
   "cell_type": "code",
   "execution_count": 1,
   "id": "19937510",
   "metadata": {},
   "outputs": [],
   "source": [
    "%load_ext autoreload\n",
    "%autoreload 2\n",
    "\n",
    "import math\n",
    "import numpy as np\n",
    "from tqdm import tqdm\n",
    "import _dfs_codes as dfs\n",
    "\n",
    "import torch\n",
    "import torch.nn as nn\n",
    "import torch.nn.functional as F\n",
    "import torch.optim as optimizers\n",
    "from torch.utils.data import Dataset, DataLoader\n",
    "\n",
    "from ogb.graphproppred import Evaluator\n",
    "from ogb.graphproppred import GraphPropPredDataset\n",
    "from ogb.graphproppred.mol_encoder import AtomEncoder, BondEncoder\n",
    "\n",
    "import torch_geometric as tg\n",
    "from torch_geometric.data import Data\n",
    "import dfs_code\n",
    "import networkx as nx\n",
    "\n",
    "from focal_loss.focal_loss import FocalLoss"
   ]
  },
  {
   "cell_type": "code",
   "execution_count": 3,
   "id": "32aa1493",
   "metadata": {},
   "outputs": [
    {
     "name": "stdout",
     "output_type": "stream",
     "text": [
      "Random Seed:  44\n"
     ]
    }
   ],
   "source": [
    "import sys\n",
    "sys.path = ['/home/chrisw/Documents/projects/2021/graph-transformer/src'] + sys.path\n",
    "from dfs_transformer import EarlyStopping\n",
    "from dfs_transformer import DFSCodeClassifier\n",
    "import wandb\n",
    "import random \n",
    "import os\n",
    "torch.multiprocessing.set_sharing_strategy('file_system')\n",
    "manualSeed = 44\n",
    "random.seed(manualSeed)\n",
    "torch.manual_seed(manualSeed)\n",
    "np.random.seed(manualSeed)\n",
    "print(\"Random Seed: \", manualSeed)"
   ]
  },
  {
   "cell_type": "code",
   "execution_count": 4,
   "id": "c5da1685",
   "metadata": {},
   "outputs": [
    {
     "name": "stderr",
     "output_type": "stream",
     "text": [
      "Failed to detect the name of this notebook, you can set it manually with the WANDB_NOTEBOOK_NAME environment variable to enable code saving.\n",
      "\u001b[34m\u001b[1mwandb\u001b[0m: Currently logged in as: \u001b[33mchrisxx\u001b[0m (use `wandb login --relogin` to force relogin)\n",
      "\u001b[34m\u001b[1mwandb\u001b[0m: wandb version 0.12.0 is available!  To upgrade, please run:\n",
      "\u001b[34m\u001b[1mwandb\u001b[0m:  $ pip install wandb --upgrade\n"
     ]
    },
    {
     "data": {
      "text/html": [
       "\n",
       "                Tracking run with wandb version 0.10.33<br/>\n",
       "                Syncing run <strong style=\"color:#cdcd00\">skilled-hill-55</strong> to <a href=\"https://wandb.ai\" target=\"_blank\">Weights & Biases</a> <a href=\"https://docs.wandb.com/integrations/jupyter.html\" target=\"_blank\">(Documentation)</a>.<br/>\n",
       "                Project page: <a href=\"https://wandb.ai/chrisxx/molhiv-transformer\" target=\"_blank\">https://wandb.ai/chrisxx/molhiv-transformer</a><br/>\n",
       "                Run page: <a href=\"https://wandb.ai/chrisxx/molhiv-transformer/runs/1wdn0dk1\" target=\"_blank\">https://wandb.ai/chrisxx/molhiv-transformer/runs/1wdn0dk1</a><br/>\n",
       "                Run data is saved locally in <code>/home/chrisw/Documents/projects/2021/graph-transformer/notebooks/Pretraining/wandb/run-20210818_165537-1wdn0dk1</code><br/><br/>\n",
       "            "
      ],
      "text/plain": [
       "<IPython.core.display.HTML object>"
      ]
     },
     "metadata": {},
     "output_type": "display_data"
    }
   ],
   "source": [
    "wandb.init(project='molhiv-transformer', entity='chrisxx')\n",
    "config = wandb.config\n",
    "config.max_nodes = 100\n",
    "config.max_edges = 200\n",
    "config.nlayers = 6\n",
    "config.emb_dim = 50\n",
    "config.nhead = 5\n",
    "config.dim_feedforward = 2*(5*config.emb_dim)\n",
    "config.lr = 0.0003\n",
    "config.n_epochs = 10000\n",
    "config.patience = 5\n",
    "config.factor = 0.95\n",
    "config.minimal_lr = 6e-8\n",
    "config.target_idx = 7\n",
    "config.batch_size = 512#256\n",
    "config.valid_patience = 100\n",
    "config.valid_minimal_improvement=0.00\n",
    "config.model_dir = '../models/molhiv/transformer/mini/'\n",
    "config.num_workers = 8\n",
    "config.dfs_codes = None"
   ]
  },
  {
   "cell_type": "code",
   "execution_count": 5,
   "id": "02e2b3da",
   "metadata": {},
   "outputs": [],
   "source": [
    "os.makedirs(config.model_dir, exist_ok=True)"
   ]
  },
  {
   "cell_type": "code",
   "execution_count": 6,
   "id": "21495985",
   "metadata": {},
   "outputs": [],
   "source": [
    "class SplittedDataset(Dataset):\n",
    "    def __init__(self, D, S):\n",
    "        super().__init__()\n",
    "        self.D, self.S = D, S\n",
    "\n",
    "    def __len__(self):\n",
    "        return len(self.S)\n",
    "\n",
    "    def __getitem__(self, idx):\n",
    "        return self.D[self.S[idx]]\n",
    "\n",
    "\n",
    "class MolhivDFSCodeDataset(Dataset):\n",
    "    def __init__(self, max_nodes=40):\n",
    "        super().__init__()\n",
    "        self.maxN = max_nodes\n",
    "        self.molhiv = GraphPropPredDataset(name='ogbg-molhiv')\n",
    "        self.throw_labels = lambda code: list(map(lambda c: c[:2] + c[-3:], code))\n",
    "\n",
    "    def __len__(self):\n",
    "        return len(self.molhiv)\n",
    "\n",
    "    def __getitem__(self, idx):\n",
    "        added_e, Edges = [], []\n",
    "        G, L = self.molhiv[idx]\n",
    "        \n",
    "        edge_index = []\n",
    "        elabels = []\n",
    "        efeats = []\n",
    "        for edge, feat in zip(G['edge_index'].T, G['edge_feat']):\n",
    "            if edge[0] < self.maxN and edge[1] < self.maxN:\n",
    "                edge_index.append(edge.tolist())\n",
    "                elabels.append(feat[0])\n",
    "                efeats.append(feat.tolist())\n",
    "        edge_index = np.asarray(edge_index).astype(np.int64).T\n",
    "        efeats = np.asarray(efeats)\n",
    "        vlabels = G['node_feat'][:self.maxN, 0].tolist()\n",
    "        \n",
    "        # only keep largest connected component\n",
    "        edges_coo = edge_index.copy().T\n",
    "        g = nx.Graph()\n",
    "        g.add_nodes_from(np.arange(len(vlabels)))\n",
    "        g.add_edges_from(edges_coo.tolist())\n",
    "\n",
    "        ccs = list(nx.connected_components(g))\n",
    "        largest_cc = ccs[np.argmax([len(cc) for cc in ccs])]\n",
    "        node_ids = np.asarray(list(largest_cc))\n",
    "\n",
    "        x = G['node_feat'][:min(G['num_nodes'], self.maxN)][node_ids]\n",
    "        z = x[:, 0]\n",
    "        edges_cc = []\n",
    "        edge_feats = []\n",
    "        edge_labels = []\n",
    "        old2new = {old:new for new, old in enumerate(node_ids)}\n",
    "        for idx, (u, v) in enumerate(edges_coo):\n",
    "            if u in node_ids and v in node_ids:\n",
    "                edges_cc += [[old2new[u], old2new[v]]]\n",
    "                edge_feats += [efeats[idx].tolist()]\n",
    "                edge_labels += [elabels[idx]]\n",
    "        edge_index = torch.tensor(edges_cc, dtype=torch.long).T\n",
    "        edge_attr = torch.tensor(edge_feats, dtype=torch.int32)\n",
    "\n",
    "\n",
    "        data = Data(x=x, z=z, pos=None, edge_index=edge_index,\n",
    "                    edge_attr=edge_attr, y=None)\n",
    "        \n",
    "        \n",
    "        if config.max_nodes < 50:\n",
    "            Edges, _ = dfs_code.min_dfs_code_from_torch_geometric(data, z.tolist(), edge_labels)\n",
    "        else:\n",
    "            Edges, _ = dfs_code.rnd_dfs_code_from_torch_geometric(data, z.tolist(), edge_labels)\n",
    "        #TODO: don't forget that we use random dfs codes here.\n",
    "        return torch.LongTensor(Edges), torch.tensor(x, dtype=torch.int32), edge_attr, torch.tensor(L[0]) \n",
    "    #C (code) #N (node features) #E (edge features) and label\n",
    "\n",
    "\n"
   ]
  },
  {
   "cell_type": "code",
   "execution_count": 7,
   "id": "7f25726f",
   "metadata": {},
   "outputs": [],
   "source": [
    "D = MolhivDFSCodeDataset(max_nodes=config.max_nodes)\n",
    "data_split = D.molhiv.get_idx_split()\n",
    "val_sampler = torch.utils.data.SubsetRandomSampler(data_split['valid'])\n",
    "test_sampler = torch.utils.data.SubsetRandomSampler(data_split['test'])\n",
    "train_sampler = torch.utils.data.SubsetRandomSampler(data_split['train'])\n",
    "#valdata = [D[i] for i in data_split['valid']]\n",
    "#testdata = [D[i] for i in data_split['test']]\n",
    "#traindata = [D[i] for i in data_split['train']]"
   ]
  },
  {
   "cell_type": "code",
   "execution_count": 8,
   "id": "b9d12700",
   "metadata": {},
   "outputs": [],
   "source": [
    "val_loader = DataLoader(D, sampler=val_sampler, batch_size=config.batch_size, pin_memory=True, collate_fn=lambda x:x, num_workers=1)\n",
    "test_loader = DataLoader(D, sampler=test_sampler, batch_size=config.batch_size//2, pin_memory=True, collate_fn=lambda x:x, num_workers=1)\n",
    "train_loader = DataLoader(D, sampler=train_sampler, batch_size=config.batch_size//2, pin_memory=True, collate_fn=lambda x:x, num_workers=config.num_workers)"
   ]
  },
  {
   "cell_type": "code",
   "execution_count": 9,
   "id": "c6efe820",
   "metadata": {},
   "outputs": [],
   "source": [
    "loss_h, val_h = [], []\n",
    "evaluator = Evaluator(name='ogbg-molhiv')\n",
    "to_cuda = lambda T: map(lambda t: t.cuda(), T)\n",
    "\n",
    "\n",
    "M = DFSCodeClassifier(1, config.emb_dim, config.nhead, config.nlayers, dim_feedforward=config.dim_feedforward, max_nodes=D.maxN, max_edges=config.max_edges).cuda()\n",
    "optim = optimizers.Adam(M.parameters(), lr=config.lr)#, betas=(0.9, 0.98))#, eps=1e-7)\n",
    "\n",
    "lr_scheduler = optimizers.lr_scheduler.ReduceLROnPlateau(optim, mode='min', verbose=True, patience=config.patience, factor=config.factor)\n",
    "early_stopping = EarlyStopping(patience=config.valid_patience, delta=config.valid_minimal_improvement,\n",
    "                              path=config.model_dir+'checkpoint.pt')"
   ]
  },
  {
   "cell_type": "code",
   "execution_count": 10,
   "id": "aab9e798",
   "metadata": {},
   "outputs": [],
   "source": [
    "criterion = FocalLoss(alpha=2, gamma=5)\n",
    "criterion = nn.BCELoss(weight=torch.FloatTensor([0.5, 14.5]))\n",
    "criterion = torch.nn.BCEWithLogitsLoss()"
   ]
  },
  {
   "cell_type": "code",
   "execution_count": 11,
   "id": "7ac152e1",
   "metadata": {},
   "outputs": [],
   "source": [
    "def score(loader, model):\n",
    "    M = model\n",
    "    val_roc = 0\n",
    "    with torch.no_grad():\n",
    "        full_preds, target = [], []\n",
    "        for batch in tqdm(loader):\n",
    "            C, N, E, y = zip(*batch)\n",
    "            y = torch.Tensor(y).cuda()\n",
    "            pred = M(to_cuda(C), to_cuda(N), to_cuda(E)).squeeze()\n",
    "            target.extend(y.cpu().tolist())\n",
    "            full_preds.extend((1. * (0.5 < torch.sigmoid(pred))).cpu().tolist())\n",
    "\n",
    "        val_roc = evaluator.eval({'y_true': np.expand_dims(target, axis=1),\n",
    "                                  'y_pred': np.expand_dims(full_preds, axis=1)})['rocauc']\n",
    "    return val_roc"
   ]
  },
  {
   "cell_type": "code",
   "execution_count": 12,
   "id": "e5e71211",
   "metadata": {},
   "outputs": [
    {
     "name": "stderr",
     "output_type": "stream",
     "text": [
      "100%|████████████████████████████████████████████████████████████████████████████████████████████████████████████████████████████████████████████████████████████████████████████| 129/129 [01:11<00:00,  1.81it/s]\n",
      "  0%|                                                                                                                                                                                        | 0/9 [00:00<?, ?it/s][W pthreadpool-cpp.cc:90] Warning: Leaking Caffe2 thread-pool after fork. (function pthreadpool)\n",
      "100%|████████████████████████████████████████████████████████████████████████████████████████████████████████████████████████████████████████████████████████████████████████████████| 9/9 [00:07<00:00,  1.28it/s]\n"
     ]
    },
    {
     "name": "stdout",
     "output_type": "stream",
     "text": [
      "\n",
      "epoch: 1 - loss: 0.0006300547152820146 - val: 0.5\n"
     ]
    },
    {
     "name": "stderr",
     "output_type": "stream",
     "text": [
      "  0%|                                                                                                                                                                                      | 0/129 [00:00<?, ?it/s][W pthreadpool-cpp.cc:90] Warning: Leaking Caffe2 thread-pool after fork. (function pthreadpool)\n",
      "[W pthreadpool-cpp.cc:90] Warning: Leaking Caffe2 thread-pool after fork. (function pthreadpool)\n",
      "[W pthreadpool-cpp.cc:90] Warning: Leaking Caffe2 thread-pool after fork. (function pthreadpool)\n",
      "[W pthreadpool-cpp.cc:90] Warning: Leaking Caffe2 thread-pool after fork. (function pthreadpool)\n",
      "[W pthreadpool-cpp.cc:90] Warning: Leaking Caffe2 thread-pool after fork. (function pthreadpool)\n",
      "[W pthreadpool-cpp.cc:90] Warning: Leaking Caffe2 thread-pool after fork. (function pthreadpool)\n",
      "[W pthreadpool-cpp.cc:90] Warning: Leaking Caffe2 thread-pool after fork. (function pthreadpool)\n",
      "[W pthreadpool-cpp.cc:90] Warning: Leaking Caffe2 thread-pool after fork. (function pthreadpool)\n",
      "100%|████████████████████████████████████████████████████████████████████████████████████████████████████████████████████████████████████████████████████████████████████████████| 129/129 [01:09<00:00,  1.87it/s]\n",
      "  0%|                                                                                                                                                                                        | 0/9 [00:00<?, ?it/s][W pthreadpool-cpp.cc:90] Warning: Leaking Caffe2 thread-pool after fork. (function pthreadpool)\n",
      "100%|████████████████████████████████████████████████████████████████████████████████████████████████████████████████████████████████████████████████████████████████████████████████| 9/9 [00:07<00:00,  1.28it/s]\n"
     ]
    },
    {
     "name": "stdout",
     "output_type": "stream",
     "text": [
      "\n",
      "epoch: 2 - loss: 0.0006081556153413007 - val: 0.5\n"
     ]
    },
    {
     "name": "stderr",
     "output_type": "stream",
     "text": [
      "  0%|                                                                                                                                                                                      | 0/129 [00:00<?, ?it/s][W pthreadpool-cpp.cc:90] Warning: Leaking Caffe2 thread-pool after fork. (function pthreadpool)\n",
      "[W pthreadpool-cpp.cc:90] Warning: Leaking Caffe2 thread-pool after fork. (function pthreadpool)\n",
      "[W pthreadpool-cpp.cc:90] Warning: Leaking Caffe2 thread-pool after fork. (function pthreadpool)\n",
      "[W pthreadpool-cpp.cc:90] Warning: Leaking Caffe2 thread-pool after fork. (function pthreadpool)\n",
      "[W pthreadpool-cpp.cc:90] Warning: Leaking Caffe2 thread-pool after fork. (function pthreadpool)\n",
      "[W pthreadpool-cpp.cc:90] Warning: Leaking Caffe2 thread-pool after fork. (function pthreadpool)\n",
      "[W pthreadpool-cpp.cc:90] Warning: Leaking Caffe2 thread-pool after fork. (function pthreadpool)\n",
      "[W pthreadpool-cpp.cc:90] Warning: Leaking Caffe2 thread-pool after fork. (function pthreadpool)\n",
      "100%|████████████████████████████████████████████████████████████████████████████████████████████████████████████████████████████████████████████████████████████████████████████| 129/129 [01:10<00:00,  1.83it/s]\n",
      "  0%|                                                                                                                                                                                        | 0/9 [00:00<?, ?it/s][W pthreadpool-cpp.cc:90] Warning: Leaking Caffe2 thread-pool after fork. (function pthreadpool)\n",
      "100%|████████████████████████████████████████████████████████████████████████████████████████████████████████████████████████████████████████████████████████████████████████████████| 9/9 [00:07<00:00,  1.27it/s]\n"
     ]
    },
    {
     "name": "stdout",
     "output_type": "stream",
     "text": [
      "\n",
      "epoch: 3 - loss: 0.0005835062057329693 - val: 0.5423418209876543\n"
     ]
    },
    {
     "name": "stderr",
     "output_type": "stream",
     "text": [
      "  0%|                                                                                                                                                                                      | 0/129 [00:00<?, ?it/s][W pthreadpool-cpp.cc:90] Warning: Leaking Caffe2 thread-pool after fork. (function pthreadpool)\n",
      "[W pthreadpool-cpp.cc:90] Warning: Leaking Caffe2 thread-pool after fork. (function pthreadpool)\n",
      "[W pthreadpool-cpp.cc:90] Warning: Leaking Caffe2 thread-pool after fork. (function pthreadpool)\n",
      "[W pthreadpool-cpp.cc:90] Warning: Leaking Caffe2 thread-pool after fork. (function pthreadpool)\n",
      "[W pthreadpool-cpp.cc:90] Warning: Leaking Caffe2 thread-pool after fork. (function pthreadpool)\n",
      "[W pthreadpool-cpp.cc:90] Warning: Leaking Caffe2 thread-pool after fork. (function pthreadpool)\n",
      "[W pthreadpool-cpp.cc:90] Warning: Leaking Caffe2 thread-pool after fork. (function pthreadpool)\n",
      "[W pthreadpool-cpp.cc:90] Warning: Leaking Caffe2 thread-pool after fork. (function pthreadpool)\n",
      "100%|████████████████████████████████████████████████████████████████████████████████████████████████████████████████████████████████████████████████████████████████████████████| 129/129 [01:09<00:00,  1.85it/s]\n",
      "  0%|                                                                                                                                                                                        | 0/9 [00:00<?, ?it/s][W pthreadpool-cpp.cc:90] Warning: Leaking Caffe2 thread-pool after fork. (function pthreadpool)\n",
      "100%|████████████████████████████████████████████████████████████████████████████████████████████████████████████████████████████████████████████████████████████████████████████████| 9/9 [00:07<00:00,  1.26it/s]"
     ]
    },
    {
     "name": "stdout",
     "output_type": "stream",
     "text": [
      "EarlyStopping counter: 1 out of 100\n",
      "\n",
      "epoch: 4 - loss: 0.0005611928230755772 - val: 0.5\n"
     ]
    },
    {
     "name": "stderr",
     "output_type": "stream",
     "text": [
      "\n",
      "  0%|                                                                                                                                                                                      | 0/129 [00:00<?, ?it/s][W pthreadpool-cpp.cc:90] Warning: Leaking Caffe2 thread-pool after fork. (function pthreadpool)\n",
      "[W pthreadpool-cpp.cc:90] Warning: Leaking Caffe2 thread-pool after fork. (function pthreadpool)\n",
      "[W pthreadpool-cpp.cc:90] Warning: Leaking Caffe2 thread-pool after fork. (function pthreadpool)\n",
      "[W pthreadpool-cpp.cc:90] Warning: Leaking Caffe2 thread-pool after fork. (function pthreadpool)\n",
      "[W pthreadpool-cpp.cc:90] Warning: Leaking Caffe2 thread-pool after fork. (function pthreadpool)\n",
      "[W pthreadpool-cpp.cc:90] Warning: Leaking Caffe2 thread-pool after fork. (function pthreadpool)\n",
      "[W pthreadpool-cpp.cc:90] Warning: Leaking Caffe2 thread-pool after fork. (function pthreadpool)\n",
      "[W pthreadpool-cpp.cc:90] Warning: Leaking Caffe2 thread-pool after fork. (function pthreadpool)\n",
      "100%|████████████████████████████████████████████████████████████████████████████████████████████████████████████████████████████████████████████████████████████████████████████| 129/129 [01:10<00:00,  1.82it/s]\n",
      "  0%|                                                                                                                                                                                        | 0/9 [00:00<?, ?it/s][W pthreadpool-cpp.cc:90] Warning: Leaking Caffe2 thread-pool after fork. (function pthreadpool)\n",
      "100%|████████████████████████████████████████████████████████████████████████████████████████████████████████████████████████████████████████████████████████████████████████████████| 9/9 [00:07<00:00,  1.25it/s]\n"
     ]
    },
    {
     "name": "stdout",
     "output_type": "stream",
     "text": [
      "\n",
      "epoch: 5 - loss: 0.0005574111031381226 - val: 0.5487626763668431\n"
     ]
    },
    {
     "name": "stderr",
     "output_type": "stream",
     "text": [
      "  0%|                                                                                                                                                                                      | 0/129 [00:00<?, ?it/s][W pthreadpool-cpp.cc:90] Warning: Leaking Caffe2 thread-pool after fork. (function pthreadpool)\n",
      "[W pthreadpool-cpp.cc:90] Warning: Leaking Caffe2 thread-pool after fork. (function pthreadpool)\n",
      "[W pthreadpool-cpp.cc:90] Warning: Leaking Caffe2 thread-pool after fork. (function pthreadpool)\n",
      "[W pthreadpool-cpp.cc:90] Warning: Leaking Caffe2 thread-pool after fork. (function pthreadpool)\n",
      "[W pthreadpool-cpp.cc:90] Warning: Leaking Caffe2 thread-pool after fork. (function pthreadpool)\n",
      "[W pthreadpool-cpp.cc:90] Warning: Leaking Caffe2 thread-pool after fork. (function pthreadpool)\n",
      "[W pthreadpool-cpp.cc:90] Warning: Leaking Caffe2 thread-pool after fork. (function pthreadpool)\n",
      "[W pthreadpool-cpp.cc:90] Warning: Leaking Caffe2 thread-pool after fork. (function pthreadpool)\n",
      "100%|████████████████████████████████████████████████████████████████████████████████████████████████████████████████████████████████████████████████████████████████████████████| 129/129 [01:09<00:00,  1.86it/s]\n",
      "  0%|                                                                                                                                                                                        | 0/9 [00:00<?, ?it/s][W pthreadpool-cpp.cc:90] Warning: Leaking Caffe2 thread-pool after fork. (function pthreadpool)\n",
      "100%|████████████████████████████████████████████████████████████████████████████████████████████████████████████████████████████████████████████████████████████████████████████████| 9/9 [00:07<00:00,  1.23it/s]\n"
     ]
    },
    {
     "name": "stdout",
     "output_type": "stream",
     "text": [
      "\n",
      "epoch: 6 - loss: 0.0005508769026266681 - val: 0.5550595238095238\n"
     ]
    },
    {
     "name": "stderr",
     "output_type": "stream",
     "text": [
      "  0%|                                                                                                                                                                                      | 0/129 [00:00<?, ?it/s][W pthreadpool-cpp.cc:90] Warning: Leaking Caffe2 thread-pool after fork. (function pthreadpool)\n",
      "[W pthreadpool-cpp.cc:90] Warning: Leaking Caffe2 thread-pool after fork. (function pthreadpool)\n",
      "[W pthreadpool-cpp.cc:90] Warning: Leaking Caffe2 thread-pool after fork. (function pthreadpool)\n",
      "[W pthreadpool-cpp.cc:90] Warning: Leaking Caffe2 thread-pool after fork. (function pthreadpool)\n",
      "[W pthreadpool-cpp.cc:90] Warning: Leaking Caffe2 thread-pool after fork. (function pthreadpool)\n",
      "[W pthreadpool-cpp.cc:90] Warning: Leaking Caffe2 thread-pool after fork. (function pthreadpool)\n",
      "[W pthreadpool-cpp.cc:90] Warning: Leaking Caffe2 thread-pool after fork. (function pthreadpool)\n",
      "[W pthreadpool-cpp.cc:90] Warning: Leaking Caffe2 thread-pool after fork. (function pthreadpool)\n",
      "100%|████████████████████████████████████████████████████████████████████████████████████████████████████████████████████████████████████████████████████████████████████████████| 129/129 [01:08<00:00,  2.35it/s][W pthreadpool-cpp.cc:90] Warning: Leaking Caffe2 thread-pool after fork. (function pthreadpool)\n",
      "100%|████████████████████████████████████████████████████████████████████████████████████████████████████████████████████████████████████████████████████████████████████████████| 129/129 [01:08<00:00,  1.87it/s]\n",
      "  0%|                                                                                                                                                                                        | 0/9 [00:00<?, ?it/s][W pthreadpool-cpp.cc:90] Warning: Leaking Caffe2 thread-pool after fork. (function pthreadpool)\n",
      "100%|████████████████████████████████████████████████████████████████████████████████████████████████████████████████████████████████████████████████████████████████████████████████| 9/9 [00:07<00:00,  1.27it/s]\n"
     ]
    },
    {
     "name": "stdout",
     "output_type": "stream",
     "text": [
      "\n",
      "epoch: 7 - loss: 0.0005424623827558025 - val: 0.5670331790123456\n"
     ]
    },
    {
     "name": "stderr",
     "output_type": "stream",
     "text": [
      "  0%|                                                                                                                                                                                      | 0/129 [00:00<?, ?it/s][W pthreadpool-cpp.cc:90] Warning: Leaking Caffe2 thread-pool after fork. (function pthreadpool)\n",
      "[W pthreadpool-cpp.cc:90] Warning: Leaking Caffe2 thread-pool after fork. (function pthreadpool)\n",
      "[W pthreadpool-cpp.cc:90] Warning: Leaking Caffe2 thread-pool after fork. (function pthreadpool)\n",
      "[W pthreadpool-cpp.cc:90] Warning: Leaking Caffe2 thread-pool after fork. (function pthreadpool)\n",
      "[W pthreadpool-cpp.cc:90] Warning: Leaking Caffe2 thread-pool after fork. (function pthreadpool)\n",
      "[W pthreadpool-cpp.cc:90] Warning: Leaking Caffe2 thread-pool after fork. (function pthreadpool)\n",
      "[W pthreadpool-cpp.cc:90] Warning: Leaking Caffe2 thread-pool after fork. (function pthreadpool)\n",
      "[W pthreadpool-cpp.cc:90] Warning: Leaking Caffe2 thread-pool after fork. (function pthreadpool)\n",
      "100%|████████████████████████████████████████████████████████████████████████████████████████████████████████████████████████████████████████████████████████████████████████████| 129/129 [01:09<00:00,  1.86it/s]\n",
      "  0%|                                                                                                                                                                                        | 0/9 [00:00<?, ?it/s][W pthreadpool-cpp.cc:90] Warning: Leaking Caffe2 thread-pool after fork. (function pthreadpool)\n",
      "100%|████████████████████████████████████████████████████████████████████████████████████████████████████████████████████████████████████████████████████████████████████████████████| 9/9 [00:07<00:00,  1.24it/s]"
     ]
    },
    {
     "name": "stdout",
     "output_type": "stream",
     "text": [
      "EarlyStopping counter: 1 out of 100\n",
      "\n",
      "epoch: 8 - loss: 0.0005354649530787268 - val: 0.566413139329806\n"
     ]
    },
    {
     "name": "stderr",
     "output_type": "stream",
     "text": [
      "\n",
      "  0%|                                                                                                                                                                                      | 0/129 [00:00<?, ?it/s][W pthreadpool-cpp.cc:90] Warning: Leaking Caffe2 thread-pool after fork. (function pthreadpool)\n",
      "[W pthreadpool-cpp.cc:90] Warning: Leaking Caffe2 thread-pool after fork. (function pthreadpool)\n",
      "[W pthreadpool-cpp.cc:90] Warning: Leaking Caffe2 thread-pool after fork. (function pthreadpool)\n",
      "[W pthreadpool-cpp.cc:90] Warning: Leaking Caffe2 thread-pool after fork. (function pthreadpool)\n",
      "[W pthreadpool-cpp.cc:90] Warning: Leaking Caffe2 thread-pool after fork. (function pthreadpool)\n",
      "[W pthreadpool-cpp.cc:90] Warning: Leaking Caffe2 thread-pool after fork. (function pthreadpool)\n",
      "[W pthreadpool-cpp.cc:90] Warning: Leaking Caffe2 thread-pool after fork. (function pthreadpool)\n",
      "[W pthreadpool-cpp.cc:90] Warning: Leaking Caffe2 thread-pool after fork. (function pthreadpool)\n",
      " 17%|█████████████████████████████▌                                                                                                                                               | 22/129 [00:13<00:52,  2.03it/s][W pthreadpool-cpp.cc:90] Warning: Leaking Caffe2 thread-pool after fork. (function pthreadpool)\n",
      " 17%|█████████████████████████████▌                                                                                                                                               | 22/129 [00:14<01:09,  1.54it/s]"
     ]
    },
    {
     "name": "stdout",
     "output_type": "stream",
     "text": [
      "keyboard interrupt caught\n"
     ]
    },
    {
     "name": "stderr",
     "output_type": "stream",
     "text": [
      "\n"
     ]
    }
   ],
   "source": [
    "try:\n",
    "    for epoch in range(config.n_epochs):  \n",
    "        M.train()\n",
    "        tot_loss = 0\n",
    "        for batch in tqdm(train_loader):\n",
    "\n",
    "            C, N, E, y = zip(*batch)\n",
    "            y = torch.Tensor(y).cuda()\n",
    "            pred = M(to_cuda(C), to_cuda(N), to_cuda(E)).squeeze()\n",
    "            optim.zero_grad()\n",
    "            #loss = nn.BCELoss(weight=14*y+.5)(torch.sigmoid(pred), y) #weight=14*y+.5\n",
    "            #loss = criterion(torch.sigmoid(pred), y)\n",
    "            loss = criterion(pred, y)\n",
    "            loss.backward()\n",
    "            optim.step()\n",
    "            tot_loss += loss.item()\n",
    "\n",
    "        M.eval()\n",
    "        val_roc = score(val_loader, M)\n",
    "\n",
    "        epoch += 1\n",
    "        val_h.append(val_roc)\n",
    "        loss_h.append(tot_loss / len(data_split['train']))\n",
    "\n",
    "        lr_scheduler.step(tot_loss)\n",
    "        early_stopping(-val_roc, M)\n",
    "        curr_lr = list(optim.param_groups)[0]['lr']\n",
    "\n",
    "\n",
    "        wandb.log({'BCE':loss_h[-1], \n",
    "                   'ROCAUC valid':val_roc,\n",
    "                   'learning rate':curr_lr})\n",
    "\n",
    "\n",
    "        if early_stopping.early_stop:\n",
    "            break\n",
    "\n",
    "        if curr_lr < config.minimal_lr:\n",
    "            break\n",
    "\n",
    "        print(f'\\nepoch: {len(loss_h)} - loss: {loss_h[-1]} - val: {val_h[-1]}', flush=True)\n",
    "except KeyboardInterrupt:\n",
    "    print('keyboard interrupt caught')\n"
   ]
  },
  {
   "cell_type": "code",
   "execution_count": 13,
   "id": "68bbba6c",
   "metadata": {},
   "outputs": [
    {
     "name": "stderr",
     "output_type": "stream",
     "text": [
      "  0%|                                                                                                                                                                                       | 0/17 [00:00<?, ?it/s][W pthreadpool-cpp.cc:90] Warning: Leaking Caffe2 thread-pool after fork. (function pthreadpool)\n",
      "100%|██████████████████████████████████████████████████████████████████████████████████████████████████████████████████████████████████████████████████████████████████████████████| 17/17 [00:06<00:00,  2.58it/s]"
     ]
    },
    {
     "name": "stdout",
     "output_type": "stream",
     "text": [
      "\n",
      "test AUROC: 0.5984935977906101 at best val epoch 7\n"
     ]
    },
    {
     "name": "stderr",
     "output_type": "stream",
     "text": [
      "\n"
     ]
    }
   ],
   "source": [
    "M.load_state_dict(torch.load(config.model_dir+'checkpoint.pt'))\n",
    "M.eval()\n",
    "\n",
    "test_roc = score(test_loader, M)\n",
    "\n",
    "wandb.log({'ROCAUC test': test_roc})\n",
    "print(f'\\ntest AUROC: {test_roc} at best val epoch {np.argmax(val_h)+1}')"
   ]
  }
 ],
 "metadata": {
  "kernelspec": {
   "display_name": "Python 3 (ipykernel)",
   "language": "python",
   "name": "python3"
  },
  "language_info": {
   "codemirror_mode": {
    "name": "ipython",
    "version": 3
   },
   "file_extension": ".py",
   "mimetype": "text/x-python",
   "name": "python",
   "nbconvert_exporter": "python",
   "pygments_lexer": "ipython3",
   "version": "3.8.3"
  }
 },
 "nbformat": 4,
 "nbformat_minor": 5
}
