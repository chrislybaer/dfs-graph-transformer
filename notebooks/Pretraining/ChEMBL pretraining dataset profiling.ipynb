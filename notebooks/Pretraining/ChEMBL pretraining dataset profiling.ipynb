{
 "cells": [
  {
   "cell_type": "code",
   "execution_count": 1,
   "id": "49a7ca25",
   "metadata": {},
   "outputs": [],
   "source": [
    "%load_ext autoreload\n",
    "%autoreload 2"
   ]
  },
  {
   "cell_type": "code",
   "execution_count": 2,
   "id": "0033798e",
   "metadata": {},
   "outputs": [],
   "source": [
    "import json\n",
    "import numpy as np\n",
    "from torch.utils.data import Dataset, DataLoader\n",
    "import glob"
   ]
  },
  {
   "cell_type": "code",
   "execution_count": 3,
   "id": "7844993f",
   "metadata": {},
   "outputs": [],
   "source": [
    "import dfs_code\n",
    "from torch_geometric.data import InMemoryDataset, Data\n",
    "import pickle\n",
    "import torch\n",
    "import tqdm\n",
    "torch.multiprocessing.set_sharing_strategy('file_system') # this is important\n",
    "# ulimit -n 500000\n",
    "def set_worker_sharing_strategy(worker_id: int) -> None:\n",
    "    torch.multiprocessing.set_sharing_strategy('file_system')"
   ]
  },
  {
   "cell_type": "code",
   "execution_count": 4,
   "id": "676b8492",
   "metadata": {},
   "outputs": [
    {
     "data": {
      "text/plain": [
       "{'file_descriptor', 'file_system'}"
      ]
     },
     "execution_count": 4,
     "metadata": {},
     "output_type": "execute_result"
    }
   ],
   "source": [
    "torch.multiprocessing.get_all_sharing_strategies()"
   ]
  },
  {
   "cell_type": "code",
   "execution_count": 5,
   "id": "85546446",
   "metadata": {},
   "outputs": [],
   "source": [
    "path = \"/mnt/ssd/datasets/ChEMBL/ChEMBL100_noH/\""
   ]
  },
  {
   "cell_type": "code",
   "execution_count": 6,
   "id": "55f04196",
   "metadata": {},
   "outputs": [],
   "source": [
    "class ChEMBL100NoH(Dataset):\n",
    "    \"\"\"ChEMBL dataset of molecules and minimal DFS codes.\"\"\"\n",
    "    # create data structure that says which id is in which file...\n",
    "    def __init__(self, path, transform=None):\n",
    "        self.path = path\n",
    "        self.fnames = glob.glob(path+\"CHEMBL*.pkl\")\n",
    "        \n",
    "    def __len__(self):\n",
    "        return len(self.fnames)\n",
    "\n",
    "    def __getitem__(self, idx):\n",
    "        with open(self.fnames[idx], 'rb') as f:\n",
    "            d = pickle.load(f)\n",
    "        data = Data(x=torch.tensor(d['x']),\n",
    "                    z=torch.tensor(d['z']),\n",
    "                    edge_attr=torch.tensor(d['edge_attr']),\n",
    "                    edge_index=torch.tensor(d['edge_index'], dtype=torch.long),\n",
    "                    name=d['name'],\n",
    "                    min_dfs_code=torch.tensor(d['min_dfs_code']),\n",
    "                    min_dfs_index=torch.tensor(d['min_dfs_index'], dtype=torch.long),\n",
    "                    smiles=d['smiles'])\n",
    "        return data"
   ]
  },
  {
   "cell_type": "code",
   "execution_count": 7,
   "id": "23c51eee",
   "metadata": {},
   "outputs": [],
   "source": [
    "def collate_fn(dlist):\n",
    "    x_batch = [] \n",
    "    z_batch = []\n",
    "    edge_attr_batch = []\n",
    "    rnd_code_batch = []\n",
    "    min_code_batch = []\n",
    "    for d in dlist:\n",
    "        rnd_code, rnd_index = dfs_code.rnd_dfs_code_from_torch_geometric(d, \n",
    "                                                                         d.z.numpy().tolist(), \n",
    "                                                                         np.argmax(d.edge_attr.numpy(), axis=1))\n",
    "        x_batch += [d.x]\n",
    "        z_batch += [d.z]\n",
    "        edge_attr_batch += [d.edge_attr]\n",
    "        rnd_code_batch += [torch.tensor(rnd_code)]\n",
    "        min_code_batch += [d.min_dfs_code]\n",
    "    return rnd_code_batch, x_batch, z_batch, edge_attr_batch, min_code_batch"
   ]
  },
  {
   "cell_type": "code",
   "execution_count": 8,
   "id": "2e0e74e4",
   "metadata": {},
   "outputs": [],
   "source": [
    "def collate_fn_(dlist):\n",
    "    data_list = []\n",
    "    for d in dlist:\n",
    "        rnd_code, rnd_index = dfs_code.rnd_dfs_code_from_torch_geometric(d, \n",
    "                                                                         d.z.numpy().tolist(), \n",
    "                                                                         np.argmax(d.edge_attr.numpy(), axis=1))\n",
    "        data = Data(x=d['x'],\n",
    "                 z=d['z'],\n",
    "                 edge_attr=d['edge_attr'],\n",
    "                 edge_index=d['edge_index'],\n",
    "                 name=d['name'],\n",
    "                 min_dfs_code=d['min_dfs_code'],\n",
    "                 min_dfs_index=d['min_dfs_index'],\n",
    "                 smiles=d['smiles'],\n",
    "                 rnd_dfs_code=torch.tensor(rnd_code),\n",
    "                 rnd_dfs_index=torch.tensor(rnd_index, dtype=torch.long))\n",
    "        data_list += [data]\n",
    "    return data_list"
   ]
  },
  {
   "cell_type": "code",
   "execution_count": 9,
   "id": "656978db",
   "metadata": {},
   "outputs": [],
   "source": [
    "ngpu=1\n",
    "device = torch.device('cuda:0' if (torch.cuda.is_available() and ngpu > 0) else 'cpu')"
   ]
  },
  {
   "cell_type": "code",
   "execution_count": 10,
   "id": "9342547e",
   "metadata": {},
   "outputs": [],
   "source": [
    "dataset = ChEMBL100NoH(path)"
   ]
  },
  {
   "cell_type": "code",
   "execution_count": 11,
   "id": "1ec2606e",
   "metadata": {},
   "outputs": [],
   "source": [
    "loader = DataLoader(dataset, batch_size=128, shuffle=False, pin_memory=False, num_workers=4, collate_fn=collate_fn,\n",
    "                   worker_init_fn=set_worker_sharing_strategy)\n",
    "#shuffle False -> huge speedup"
   ]
  },
  {
   "cell_type": "code",
   "execution_count": 12,
   "id": "1090481d",
   "metadata": {},
   "outputs": [],
   "source": [
    "to_cuda = lambda T: map(lambda t: t.cuda(), T)"
   ]
  },
  {
   "cell_type": "code",
   "execution_count": 13,
   "id": "3c9163ce",
   "metadata": {},
   "outputs": [
    {
     "name": "stdout",
     "output_type": "stream",
     "text": [
      " "
     ]
    }
   ],
   "source": [
    "%prun next(iter(loader))"
   ]
  },
  {
   "cell_type": "code",
   "execution_count": 14,
   "id": "8b5d6e4e",
   "metadata": {},
   "outputs": [
    {
     "name": "stdout",
     "output_type": "stream",
     "text": [
      " "
     ]
    }
   ],
   "source": [
    "%prun next(iter(loader))"
   ]
  },
  {
   "cell_type": "code",
   "execution_count": 15,
   "id": "6c481de4",
   "metadata": {},
   "outputs": [],
   "source": [
    "import copy"
   ]
  },
  {
   "cell_type": "code",
   "execution_count": 16,
   "id": "747133e0",
   "metadata": {},
   "outputs": [],
   "source": [
    "def f():\n",
    "    try:\n",
    "        atomic_number_max = 0\n",
    "        for idx, data in tqdm.tqdm(enumerate(loader)):\n",
    "            z_ = data[2]\n",
    "            z = copy.deepcopy(z_)\n",
    "            del z_\n",
    "            del data\n",
    "            z_tensor = torch.cat(z)\n",
    "            atomic_number_max = max(z_tensor.max().item(), atomic_number_max)\n",
    "    except KeyboardInterrupt:\n",
    "        print('interrupt')\n",
    "    print(atomic_number_max)\n",
    "    "
   ]
  },
  {
   "cell_type": "code",
   "execution_count": 17,
   "id": "eb7621ed",
   "metadata": {},
   "outputs": [
    {
     "name": "stderr",
     "output_type": "stream",
     "text": [
      "14908it [13:58, 17.78it/s]"
     ]
    },
    {
     "name": "stdout",
     "output_type": "stream",
     "text": [
      "53\n",
      " "
     ]
    },
    {
     "name": "stderr",
     "output_type": "stream",
     "text": [
      "\n"
     ]
    }
   ],
   "source": [
    "%prun f()"
   ]
  },
  {
   "cell_type": "code",
   "execution_count": null,
   "id": "7fbed8c9",
   "metadata": {},
   "outputs": [],
   "source": []
  }
 ],
 "metadata": {
  "kernelspec": {
   "display_name": "Python 3 (ipykernel)",
   "language": "python",
   "name": "python3"
  },
  "language_info": {
   "codemirror_mode": {
    "name": "ipython",
    "version": 3
   },
   "file_extension": ".py",
   "mimetype": "text/x-python",
   "name": "python",
   "nbconvert_exporter": "python",
   "pygments_lexer": "ipython3",
   "version": "3.8.3"
  }
 },
 "nbformat": 4,
 "nbformat_minor": 5
}
