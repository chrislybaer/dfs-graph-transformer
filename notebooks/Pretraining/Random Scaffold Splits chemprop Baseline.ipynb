{
 "cells": [
  {
   "cell_type": "code",
   "execution_count": 1,
   "id": "49a7ca25",
   "metadata": {},
   "outputs": [],
   "source": [
    "%load_ext autoreload\n",
    "%autoreload 2"
   ]
  },
  {
   "cell_type": "code",
   "execution_count": 2,
   "id": "0033798e",
   "metadata": {},
   "outputs": [],
   "source": [
    "import json\n",
    "import numpy as np\n",
    "from torch.utils.data import Dataset, DataLoader\n",
    "import glob\n",
    "import wandb\n",
    "import os\n",
    "import torch.optim as optimizers"
   ]
  },
  {
   "cell_type": "code",
   "execution_count": null,
   "id": "7844993f",
   "metadata": {},
   "outputs": [],
   "source": [
    "import dfs_code\n",
    "from torch_geometric.data import InMemoryDataset, Data\n",
    "import pickle\n",
    "import torch\n",
    "import torch.nn as nn\n",
    "import random\n",
    "import tqdm\n",
    "import copy\n",
    "from chemprop.args import TrainArgs, PredictArgs\n",
    "from chemprop.train import cross_validate, run_training, make_predictions\n",
    "from chemprop.data import get_data\n",
    "import pandas as pd\n",
    "from sklearn.metrics import roc_auc_score, average_precision_score"
   ]
  },
  {
   "cell_type": "code",
   "execution_count": null,
   "id": "69384b8c",
   "metadata": {},
   "outputs": [],
   "source": [
    "wandb.init(project='moleculenet10', entity='chrisxx')\n",
    "config = wandb.config\n",
    "config.dataset = 'bbbp' # supported 'bbbp', 'clintox', 'hiv', 'tox21'\n",
    "config.model_dir = '../../models/moleculenet/chemprop_mpnn/%s/'%config.dataset\n",
    "config.data_dir = '../../datasets/mymoleculenet/%s/'%config.dataset\n",
    "config.seed = 123"
   ]
  },
  {
   "cell_type": "code",
   "execution_count": null,
   "id": "3b7a30b3",
   "metadata": {},
   "outputs": [],
   "source": [
    "random.seed(config.seed)\n",
    "torch.manual_seed(config.seed)\n",
    "np.random.seed(config.seed)"
   ]
  },
  {
   "cell_type": "code",
   "execution_count": null,
   "id": "67afc60c",
   "metadata": {},
   "outputs": [],
   "source": [
    "rocs = []\n",
    "prcs = []\n",
    "for rep in range(10):\n",
    "    train_args = [\n",
    "        '--data_path', '%s%d/train.csv'%(config.data_dir, rep),\n",
    "        '--separate_val_path', '%s%d/valid.csv'%(config.data_dir, rep),\n",
    "        '--separate_test_path', '%s%d/test.csv'%(config.data_dir, rep),\n",
    "        '--dataset_type', 'classification',\n",
    "        '--save_dir', '%s%d/'%(config.model_dir, rep),\n",
    "        '--num_folds', '1',\n",
    "        '--smiles_columns', 'smiles',\n",
    "        '--target_columns', 'target',\n",
    "        '--no_cuda'\n",
    "    ]\n",
    "    \n",
    "    os.makedirs(\"%s%d\"%(config.model_dir, rep), exist_ok=True)\n",
    "    score = cross_validate(args=TrainArgs().parse_args(train_args), train_func=run_training)\n",
    "    \n",
    "    test_args = [\n",
    "            '--test_path', '%s%d/test.csv'%(config.data_dir, rep),\n",
    "            '--preds_path', '%s%d/pred.csv'%(config.model_dir, rep),\n",
    "            '--checkpoint_dir', '%s%d/'%(config.model_dir, rep),\n",
    "            '--num_workers', '0',\n",
    "            '--smiles_columns', 'smiles',\n",
    "            '--no_cuda'\n",
    "        ]\n",
    "    preds = make_predictions(args=PredictArgs().parse_args(test_args))\n",
    "    preds = np.asarray(preds)[:, 0]\n",
    "    gt = pd.read_csv('%s%d/test.csv'%(config.data_dir, rep))\n",
    "    roc = roc_auc_score(gt['target'].to_numpy(), preds)\n",
    "    prc = average_precision_score(gt['target'].to_numpy(), preds)\n",
    "    print(roc, prc)\n",
    "    wandb.log({'roc_test_avg20':roc, 'prc_test_avg20':prc})\n",
    "    rocs += [roc]\n",
    "    prcs += [prc]\n",
    "wandb.log({'roc_test_avgavg': np.mean(rocs),\n",
    "           'roc_test_avgstd': np.std(rocs),\n",
    "           'prc_test_avgavg': np.mean(prcs),\n",
    "           'prc_test_avgstd': np.std(prcs)})\n",
    "wandb.run.summary[\"roc_test_mean\"] = np.mean(rocs) \n",
    "wandb.run.summary[\"roc_test_std\"] = np.std(rocs)\n",
    "wandb.run.summary[\"prc_test_mean\"] = np.mean(prcs)\n",
    "wandb.run.summary[\"prc_test_std\"] = np.std(prcs)    "
   ]
  }
 ],
 "metadata": {
  "kernelspec": {
   "display_name": "Python 3 (ipykernel)",
   "language": "python",
   "name": "python3"
  },
  "language_info": {
   "codemirror_mode": {
    "name": "ipython",
    "version": 3
   },
   "file_extension": ".py",
   "mimetype": "text/x-python",
   "name": "python",
   "nbconvert_exporter": "python",
   "pygments_lexer": "ipython3",
   "version": "3.8.3"
  }
 },
 "nbformat": 4,
 "nbformat_minor": 5
}
