{
 "cells": [
  {
   "cell_type": "code",
   "execution_count": 1,
   "id": "49a7ca25",
   "metadata": {},
   "outputs": [],
   "source": [
    "%load_ext autoreload\n",
    "%autoreload 2"
   ]
  },
  {
   "cell_type": "code",
   "execution_count": 2,
   "id": "0033798e",
   "metadata": {},
   "outputs": [],
   "source": [
    "import json\n",
    "import numpy as np\n",
    "from torch.utils.data import Dataset, DataLoader\n",
    "import glob\n",
    "import wandb\n",
    "import os\n",
    "import torch.optim as optimizers"
   ]
  },
  {
   "cell_type": "code",
   "execution_count": 3,
   "id": "7844993f",
   "metadata": {},
   "outputs": [],
   "source": [
    "import dfs_code\n",
    "from torch_geometric.data import InMemoryDataset, Data\n",
    "import pickle\n",
    "import torch\n",
    "import torch.nn as nn\n",
    "import tqdm\n",
    "import copy\n",
    "import pandas as pd\n",
    "#torch.multiprocessing.set_sharing_strategy('file_system') # this is important on local machine\n",
    "#def set_worker_sharing_strategy(worker_id: int) -> None:\n",
    "#    torch.multiprocessing.set_sharing_strategy('file_system')"
   ]
  },
  {
   "cell_type": "code",
   "execution_count": 4,
   "id": "5a81b63d",
   "metadata": {},
   "outputs": [
    {
     "name": "stderr",
     "output_type": "stream",
     "text": [
      "Using backend: pytorch\n",
      "2021-09-10 10:42:36.190892: W tensorflow/stream_executor/platform/default/dso_loader.cc:64] Could not load dynamic library 'libcudart.so.11.0'; dlerror: libcudart.so.11.0: cannot open shared object file: No such file or directory; LD_LIBRARY_PATH: :/opt/cuda/extras/CUPTI/lib64/:/opt/intel/lib:/opt/intel/mkl/lib/intel64:/opt/intel:/opt/ibm/ILOG/CPLEX_Studio1210/cplex/bin/x86-64_linux:/opt/ibm/ILOG/CPLEX_Studio1210/cplex/python/3.7/x86-64_linux:/opt/intel/clck_latest/lib:/opt/intel/daal/lib:/opt/intel/intelpython3/lib:/opt/intel/ipp/lib:/opt/intel/itac_2019/lib:/opt/intel/itac_latest/lib:/opt/intel/mkl/lib:/opt/intel/mkl_/lib:/opt/intel/mpirt/lib:/opt/intel/tbb/lib:/opt/intel/clck/2019.0/lib:/opt/intel/compilers_and_libraries_2019/linux/lib:/opt/intel/compilers_and_libraries/linux/lib:/opt/intel/itac/2019.0.018/lib:/opt/intel/itac_2019/intel64/lib:/opt/intel/itac_latest/intel64/lib:/opt/intel/parallel_studio_xe_2019.0.045/clck_2019/lib:/opt/intel/parallel_studio_xe_2019.0.045/itac_2019/lib:/opt/intel/parallel_studio_xe_2019/clck_2019/lib:/opt/intel/parallel_studio_xe_2019/itac_2019/lib:/opt/cuda/extras/CUPTI/lib64/:/opt/intel/lib:/opt/intel/mkl/lib/intel64:/opt/intel:/opt/ibm/ILOG/CPLEX_Studio1210/cplex/bin/x86-64_linux:/opt/ibm/ILOG/CPLEX_Studio1210/cplex/python/3.7/x86-64_linux:/opt/intel/clck_latest/lib:/opt/intel/daal/lib:/opt/intel/intelpython3/lib:/opt/intel/ipp/lib:/opt/intel/itac_2019/lib:/opt/intel/itac_latest/lib:/opt/intel/mkl/lib:/opt/intel/mkl_/lib:/opt/intel/mpirt/lib:/opt/intel/tbb/lib:/opt/intel/clck/2019.0/lib:/opt/intel/compilers_and_libraries_2019/linux/lib:/opt/intel/compilers_and_libraries/linux/lib:/opt/intel/itac/2019.0.018/lib:/opt/intel/itac_2019/intel64/lib:/opt/intel/itac_latest/intel64/lib:/opt/intel/parallel_studio_xe_2019.0.045/clck_2019/lib:/opt/intel/parallel_studio_xe_2019.0.045/itac_2019/lib:/opt/intel/parallel_studio_xe_2019/clck_2019/lib:/opt/intel/parallel_studio_xe_2019/itac_2019/lib\n",
      "2021-09-10 10:42:36.190913: I tensorflow/stream_executor/cuda/cudart_stub.cc:29] Ignore above cudart dlerror if you do not have a GPU set up on your machine.\n",
      "WARNING:root:No normalization for BCUT2D_MWHI\n",
      "WARNING:root:No normalization for BCUT2D_MWLOW\n",
      "WARNING:root:No normalization for BCUT2D_CHGHI\n",
      "WARNING:root:No normalization for BCUT2D_CHGLO\n",
      "WARNING:root:No normalization for BCUT2D_LOGPHI\n",
      "WARNING:root:No normalization for BCUT2D_LOGPLOW\n",
      "WARNING:root:No normalization for BCUT2D_MRHI\n",
      "WARNING:root:No normalization for BCUT2D_MRLOW\n"
     ]
    }
   ],
   "source": [
    "import sys\n",
    "sys.path = ['../../../src'] + sys.path\n",
    "from dfs_transformer import EarlyStopping, DFSCodeSeq2SeqFC, smiles2graph"
   ]
  },
  {
   "cell_type": "code",
   "execution_count": 5,
   "id": "3a3f7c7b",
   "metadata": {},
   "outputs": [],
   "source": [
    "import dgl\n",
    "import deepchem as dc"
   ]
  },
  {
   "cell_type": "code",
   "execution_count": 6,
   "id": "69384b8c",
   "metadata": {},
   "outputs": [
    {
     "name": "stderr",
     "output_type": "stream",
     "text": [
      "ERROR:wandb.jupyter:Failed to detect the name of this notebook, you can set it manually with the WANDB_NOTEBOOK_NAME environment variable to enable code saving.\n",
      "\u001b[34m\u001b[1mwandb\u001b[0m: Currently logged in as: \u001b[33mchrisxx\u001b[0m (use `wandb login --relogin` to force relogin)\n",
      "\u001b[34m\u001b[1mwandb\u001b[0m: wandb version 0.12.1 is available!  To upgrade, please run:\n",
      "\u001b[34m\u001b[1mwandb\u001b[0m:  $ pip install wandb --upgrade\n",
      "2021-09-10 10:42:38.845116: W tensorflow/stream_executor/platform/default/dso_loader.cc:64] Could not load dynamic library 'libcudart.so.11.0'; dlerror: libcudart.so.11.0: cannot open shared object file: No such file or directory; LD_LIBRARY_PATH: :/opt/cuda/extras/CUPTI/lib64/:/opt/intel/lib:/opt/intel/mkl/lib/intel64:/opt/intel:/opt/ibm/ILOG/CPLEX_Studio1210/cplex/bin/x86-64_linux:/opt/ibm/ILOG/CPLEX_Studio1210/cplex/python/3.7/x86-64_linux:/opt/intel/clck_latest/lib:/opt/intel/daal/lib:/opt/intel/intelpython3/lib:/opt/intel/ipp/lib:/opt/intel/itac_2019/lib:/opt/intel/itac_latest/lib:/opt/intel/mkl/lib:/opt/intel/mkl_/lib:/opt/intel/mpirt/lib:/opt/intel/tbb/lib:/opt/intel/clck/2019.0/lib:/opt/intel/compilers_and_libraries_2019/linux/lib:/opt/intel/compilers_and_libraries/linux/lib:/opt/intel/itac/2019.0.018/lib:/opt/intel/itac_2019/intel64/lib:/opt/intel/itac_latest/intel64/lib:/opt/intel/parallel_studio_xe_2019.0.045/clck_2019/lib:/opt/intel/parallel_studio_xe_2019.0.045/itac_2019/lib:/opt/intel/parallel_studio_xe_2019/clck_2019/lib:/opt/intel/parallel_studio_xe_2019/itac_2019/lib:/opt/cuda/extras/CUPTI/lib64/:/opt/intel/lib:/opt/intel/mkl/lib/intel64:/opt/intel:/opt/ibm/ILOG/CPLEX_Studio1210/cplex/bin/x86-64_linux:/opt/ibm/ILOG/CPLEX_Studio1210/cplex/python/3.7/x86-64_linux:/opt/intel/clck_latest/lib:/opt/intel/daal/lib:/opt/intel/intelpython3/lib:/opt/intel/ipp/lib:/opt/intel/itac_2019/lib:/opt/intel/itac_latest/lib:/opt/intel/mkl/lib:/opt/intel/mkl_/lib:/opt/intel/mpirt/lib:/opt/intel/tbb/lib:/opt/intel/clck/2019.0/lib:/opt/intel/compilers_and_libraries_2019/linux/lib:/opt/intel/compilers_and_libraries/linux/lib:/opt/intel/itac/2019.0.018/lib:/opt/intel/itac_2019/intel64/lib:/opt/intel/itac_latest/intel64/lib:/opt/intel/parallel_studio_xe_2019.0.045/clck_2019/lib:/opt/intel/parallel_studio_xe_2019.0.045/itac_2019/lib:/opt/intel/parallel_studio_xe_2019/clck_2019/lib:/opt/intel/parallel_studio_xe_2019/itac_2019/lib\n",
      "2021-09-10 10:42:38.845136: I tensorflow/stream_executor/cuda/cudart_stub.cc:29] Ignore above cudart dlerror if you do not have a GPU set up on your machine.\n"
     ]
    },
    {
     "data": {
      "text/html": [
       "\n",
       "                Tracking run with wandb version 0.10.33<br/>\n",
       "                Syncing run <strong style=\"color:#cdcd00\">gnn-10k</strong> to <a href=\"https://wandb.ai\" target=\"_blank\">Weights & Biases</a> <a href=\"https://docs.wandb.com/integrations/jupyter.html\" target=\"_blank\">(Documentation)</a>.<br/>\n",
       "                Project page: <a href=\"https://wandb.ai/chrisxx/pubchem-mini\" target=\"_blank\">https://wandb.ai/chrisxx/pubchem-mini</a><br/>\n",
       "                Run page: <a href=\"https://wandb.ai/chrisxx/pubchem-mini/runs/37qcbxed\" target=\"_blank\">https://wandb.ai/chrisxx/pubchem-mini/runs/37qcbxed</a><br/>\n",
       "                Run data is saved locally in <code>/home/chrisw/Documents/projects/2021/graph-transformer/notebooks/Pretraining/gnn/wandb/run-20210910_104237-37qcbxed</code><br/><br/>\n",
       "            "
      ],
      "text/plain": [
       "<IPython.core.display.HTML object>"
      ]
     },
     "metadata": {},
     "output_type": "display_data"
    }
   ],
   "source": [
    "wandb.init(project='pubchem-mini', entity='chrisxx', name='gnn-10k')\n",
    "config = wandb.config\n",
    "config.fraction_missing = 0.25\n",
    "config.n_atoms = 118\n",
    "config.n_bonds = 5\n",
    "config.node_out_feats = 64\n",
    "config.edge_hidden_feats = 128\n",
    "config.number_atom_features = 133\n",
    "config.number_bond_features = 14\n",
    "config.num_step_message_passing = 3\n",
    "config.max_nodes = 250\n",
    "config.max_edges = 500\n",
    "config.n_files = 10\n",
    "config.n_splits = 1\n",
    "config.n_iter_per_split = 1000\n",
    "config.lr = 0.003\n",
    "config.n_epochs = 10000\n",
    "config.lr_adjustment_period = 200\n",
    "config.patience = 5\n",
    "config.factor = 0.96\n",
    "config.minimal_lr = 6e-8\n",
    "config.batch_size = 125\n",
    "config.accumulate_grads = 1\n",
    "config.valid_patience = 10000\n",
    "config.valid_minimal_improvement=0.00\n",
    "config.model_dir = \"../../../models/pubchem100k/gnn2\"\n",
    "config.data_dir = \"/mnt/project/pubchem_noH/\"\n",
    "config.data_dir = \"../../../results/pubchem/mini100k/\"#\"/amd-server/noH/new/\"\n",
    "config.dformat = \"json\"\n",
    "config.pretrained_dir = None#\"../../models/chembl/better_transformer/medium/\"\n",
    "config.num_workers = 0\n",
    "config.prefetch_factor = 2\n",
    "config.persistent_workers = False\n",
    "config.load_last = False\n"
   ]
  },
  {
   "cell_type": "code",
   "execution_count": 7,
   "id": "b1ef93b9",
   "metadata": {},
   "outputs": [],
   "source": [
    "os.makedirs(config.model_dir, exist_ok=True)"
   ]
  },
  {
   "cell_type": "code",
   "execution_count": 8,
   "id": "85546446",
   "metadata": {},
   "outputs": [],
   "source": [
    "path = config.data_dir"
   ]
  },
  {
   "cell_type": "code",
   "execution_count": 9,
   "id": "55f04196",
   "metadata": {},
   "outputs": [],
   "source": [
    "class PubChem(Dataset):\n",
    "    \"\"\"PubChem dataset of molecules and minimal DFS codes.\"\"\"\n",
    "    def __init__(self, path=path, n_used = 8, n_splits = 64, max_nodes=config.max_nodes,\n",
    "                 max_edges=config.max_edges, useHs=False, addLoops=False, memoryEfficient=False,\n",
    "                 transform=None, n_mols_per_dataset=np.inf, dformat='json'):\n",
    "        self.path = path\n",
    "        self.data = []\n",
    "        self.path = path\n",
    "        self.n_used = n_used\n",
    "        self.n_splits = n_splits\n",
    "        self.useHs = useHs\n",
    "        self.addLoops = addLoops\n",
    "        self.n_mols_per_dataset = n_mols_per_dataset\n",
    "        self.max_nodes = max_nodes\n",
    "        self.max_edges = max_edges\n",
    "        self.dformat = dformat\n",
    "        self.prepare()\n",
    "        \n",
    "        \n",
    "    def prepare(self):\n",
    "        codes_all = {}\n",
    "        d_all = {}\n",
    "        i2didx = {}\n",
    "        perm = np.random.permutation(self.n_splits)\n",
    "        for i in tqdm.tqdm(perm[:self.n_used]):\n",
    "            dname = glob.glob(self.path+\"/%d/min_dfs_codes_split*.json\"%(i+1))[0]\n",
    "            didx = int(dname.split(\"split\")[-1][:-5])\n",
    "            dname2 = self.path+\"/%d/data_split%d.%s\"%(i+1, didx, self.dformat)\n",
    "            with open(dname, 'r') as f:\n",
    "                codes = json.load(f)\n",
    "                for key, val in codes.items():\n",
    "                    codes_all[key] = val\n",
    "            if self.dformat == \"json\":\n",
    "                with open(dname2, 'r') as f:\n",
    "                    d_dict = json.load(f)\n",
    "                    for key, val in d_dict.items():\n",
    "                        d_all[key] = val\n",
    "            elif self.dformat == \"pkl\":\n",
    "                with open(dname2, 'rb') as f:\n",
    "                    d_dict = pickle.load(f)\n",
    "                    for key, val in d_dict.items():\n",
    "                        d_all[key] = val\n",
    "            else:\n",
    "                raise ValueError(\"unsupported dformat\")\n",
    "        \n",
    "        for smiles, code in tqdm.tqdm(codes_all.items()):\n",
    "            if len(self.data) > self.n_mols_per_dataset:\n",
    "                break\n",
    "            if code['min_dfs_code'] is not None and len(code['min_dfs_code']) > 1:\n",
    "                d = d_all[smiles]\n",
    "                if len(d['z']) > self.max_nodes:\n",
    "                    continue\n",
    "                if len(d['edge_attr']) > 2*self.max_edges:\n",
    "                    continue\n",
    "                \n",
    "                \n",
    "                z = torch.tensor(d['z'], dtype=torch.long)\n",
    "                \n",
    "                data_ = Data(z=z,\n",
    "                             edge_attr=torch.tensor(d['edge_attr']),\n",
    "                             edge_index=torch.tensor(d['edge_index'], dtype=torch.long),\n",
    "                             min_dfs_code=torch.tensor(code['min_dfs_code']),\n",
    "                             min_dfs_index=torch.tensor(code['dfs_index'], dtype=torch.long),\n",
    "                             smiles=smiles,\n",
    "                             node_features=torch.tensor(d['atom_features'], dtype=torch.float32),\n",
    "                             edge_features=torch.tensor(d['bond_features'], dtype=torch.float32))\n",
    "                self.data += [data_]   \n",
    "        \n",
    "    def __len__(self):\n",
    "        return len(self.data)\n",
    "\n",
    "    def __getitem__(self, idx):\n",
    "        return self.data[idx]"
   ]
  },
  {
   "cell_type": "code",
   "execution_count": 10,
   "id": "a4d3aaad",
   "metadata": {},
   "outputs": [],
   "source": [
    "def collate_fn(dlist):\n",
    "    dglbatch = []\n",
    "    for d in dlist:\n",
    "        g = dgl.graph((d.edge_index[0], d.edge_index[1]))\n",
    "        dfs_ind = nn.functional.one_hot(d.min_dfs_index, num_classes=config.max_nodes+1).float()\n",
    "        n = len(dfs_ind)\n",
    "        perm = np.random.permutation(n)\n",
    "        missing_idx = perm[:int(config.fraction_missing*n)]\n",
    "        mask_idx = perm[int(config.fraction_missing*n):]\n",
    "        dfs_ind[missing_idx] = 0\n",
    "        dfs_ind[missing_idx, -1] = 1\n",
    "        g.ndata['nf'] = torch.cat((d.node_features, dfs_ind), dim=1)\n",
    "        g.ndata['dfs'] = d.min_dfs_index.detach().clone()\n",
    "        g.ndata['dfs'][mask_idx] = -1\n",
    "        g.edata['ef'] = d.edge_features\n",
    "        dglbatch += [g]\n",
    "    dglbatch = dgl.batch(dglbatch)\n",
    "    return dglbatch, dglbatch.ndata['nf'], dglbatch.edata['ef'], dglbatch.ndata['dfs']"
   ]
  },
  {
   "cell_type": "code",
   "execution_count": 11,
   "id": "e0b31fa1",
   "metadata": {},
   "outputs": [],
   "source": [
    "ngpu=1\n",
    "device = torch.device('cuda:0' if (torch.cuda.is_available() and ngpu > 0) else 'cpu')"
   ]
  },
  {
   "cell_type": "code",
   "execution_count": 12,
   "id": "5a9f1eaa",
   "metadata": {},
   "outputs": [],
   "source": [
    "to_cuda = lambda T: [t.to(device) for t in T]"
   ]
  },
  {
   "cell_type": "code",
   "execution_count": 13,
   "id": "bae3e4e7",
   "metadata": {},
   "outputs": [],
   "source": [
    "classifier = dc.models.torch_models.MPNN(1, mode='classification', \n",
    "                                    node_out_feats=config.node_out_feats,\n",
    "                                    edge_hidden_feats=config.edge_hidden_feats,\n",
    "                                    #add the dfs index information to the input\n",
    "                                    number_atom_features=config.number_atom_features + (config.max_nodes + 1),\n",
    "                                    number_bond_features=config.number_bond_features, \n",
    "                                    num_step_message_passing=config.num_step_message_passing,\n",
    "                                    nfeat_name='node_features', \n",
    "                                    efeat_name='edge_features')\n",
    "\n",
    "model = classifier.model.gnn"
   ]
  },
  {
   "cell_type": "code",
   "execution_count": 14,
   "id": "45977ba4",
   "metadata": {},
   "outputs": [],
   "source": [
    "if config.pretrained_dir is not None:\n",
    "    model.load_state_dict(torch.load(config.pretrained_dir+'checkpoint.pt'))"
   ]
  },
  {
   "cell_type": "code",
   "execution_count": 15,
   "id": "d2ad67e1",
   "metadata": {},
   "outputs": [],
   "source": [
    "if config.load_last:\n",
    "    model.load_state_dict(torch.load(config.model_dir+'checkpoint.pt'))"
   ]
  },
  {
   "cell_type": "code",
   "execution_count": 16,
   "id": "7c36c5f1",
   "metadata": {},
   "outputs": [],
   "source": [
    "model_head = nn.Linear(config.node_out_feats, config.max_nodes)"
   ]
  },
  {
   "cell_type": "code",
   "execution_count": 17,
   "id": "6cee73fe",
   "metadata": {},
   "outputs": [],
   "source": [
    "optim = optimizers.Adam(list(model.parameters())+list(model_head.parameters()), lr=config.lr)\n",
    "\n",
    "lr_scheduler = optimizers.lr_scheduler.ReduceLROnPlateau(optim, mode='min', verbose=True, patience=config.patience, factor=config.factor)\n",
    "#lr_scheduler = optimizers.lr_scheduler.ExponentialLR(optim, gamma=config.factor)\n",
    "\n",
    "early_stopping = EarlyStopping(patience=config.valid_patience, delta=config.valid_minimal_improvement,\n",
    "                              path=config.model_dir+'checkpoint.pt')\n",
    "bce = torch.nn.BCEWithLogitsLoss()\n",
    "ce = torch.nn.CrossEntropyLoss(ignore_index=-1)\n",
    "softmax = nn.Softmax(dim=2)"
   ]
  },
  {
   "cell_type": "code",
   "execution_count": 18,
   "id": "829fe786",
   "metadata": {},
   "outputs": [
    {
     "name": "stdout",
     "output_type": "stream",
     "text": [
      "\n"
     ]
    }
   ],
   "source": [
    "model.to(device)\n",
    "model_head.to(device)\n",
    "print()"
   ]
  },
  {
   "cell_type": "code",
   "execution_count": 19,
   "id": "df794b3b",
   "metadata": {},
   "outputs": [
    {
     "name": "stderr",
     "output_type": "stream",
     "text": [
      "100%|██████████████████████████████████████████████████████████████████████████████████████████████████████████████████████████████████████████████████████████████████████████████| 10/10 [01:19<00:00,  7.92s/it]\n",
      "100%|██████████████████████████████████████████████████████████████████████████████████████████████████████████████████████████████████████████████████████████████████████| 99802/99802 [00:16<00:00, 6034.50it/s]\n",
      "Epoch 1: CE 1.779195, acc 0.529048: 100%|████████████████████████████████████████████████████████████████████████████████████████████████████████████████████████████████████████| 799/799 [01:02<00:00, 12.83it/s]\n",
      "Epoch 1: CE 0.731416, acc 0.796583: 100%|████████████████████████████████████████████████████████████████████████████████████████████████████████████████████████████████████████| 799/799 [01:02<00:00, 12.78it/s]\n",
      "Epoch 1: CE 0.585733, acc 0.835344: 100%|████████████████████████████████████████████████████████████████████████████████████████████████████████████████████████████████████████| 799/799 [01:05<00:00, 12.29it/s]\n",
      "Epoch 1: CE 0.532082, acc 0.849310:  25%|██████████████████████████████████▌                                                                                                     | 203/799 [00:16<00:46, 12.71it/s]"
     ]
    },
    {
     "name": "stdout",
     "output_type": "stream",
     "text": [
      "EarlyStopping counter: 1 out of 10000\n"
     ]
    },
    {
     "name": "stderr",
     "output_type": "stream",
     "text": [
      "Epoch 1: CE 0.530182, acc 0.850288:  50%|████████████████████████████████████████████████████████████████████▌                                                                   | 403/799 [00:32<00:30, 12.96it/s]"
     ]
    },
    {
     "name": "stdout",
     "output_type": "stream",
     "text": [
      "EarlyStopping counter: 2 out of 10000\n"
     ]
    },
    {
     "name": "stderr",
     "output_type": "stream",
     "text": [
      "Epoch 1: CE 0.524712, acc 0.851406:  75%|██████████████████████████████████████████████████████████████████████████████████████████████████████▋                                 | 603/799 [00:47<00:15, 12.55it/s]"
     ]
    },
    {
     "name": "stdout",
     "output_type": "stream",
     "text": [
      "EarlyStopping counter: 3 out of 10000\n"
     ]
    },
    {
     "name": "stderr",
     "output_type": "stream",
     "text": [
      "Epoch 1: CE 0.519095, acc 0.852768: 100%|████████████████████████████████████████████████████████████████████████████████████████████████████████████████████████████████████████| 799/799 [01:03<00:00, 12.63it/s]\n",
      "Epoch 1: CE 0.484918, acc 0.861268:  25%|██████████████████████████████████▍                                                                                                     | 202/799 [00:16<00:48, 12.34it/s]"
     ]
    },
    {
     "name": "stdout",
     "output_type": "stream",
     "text": [
      "EarlyStopping counter: 1 out of 10000\n"
     ]
    },
    {
     "name": "stderr",
     "output_type": "stream",
     "text": [
      "Epoch 1: CE 0.487288, acc 0.861225:  50%|████████████████████████████████████████████████████████████████████▍                                                                   | 402/799 [00:32<00:33, 11.78it/s]"
     ]
    },
    {
     "name": "stdout",
     "output_type": "stream",
     "text": [
      "EarlyStopping counter: 2 out of 10000\n"
     ]
    },
    {
     "name": "stderr",
     "output_type": "stream",
     "text": [
      "Epoch 1: CE 0.485916, acc 0.861491:  75%|██████████████████████████████████████████████████████████████████████████████████████████████████████▍                                 | 602/799 [00:48<00:16, 12.28it/s]"
     ]
    },
    {
     "name": "stdout",
     "output_type": "stream",
     "text": [
      "EarlyStopping counter: 3 out of 10000\n"
     ]
    },
    {
     "name": "stderr",
     "output_type": "stream",
     "text": [
      "Epoch 1: CE 0.482195, acc 0.862395: 100%|████████████████████████████████████████████████████████████████████████████████████████████████████████████████████████████████████████| 799/799 [01:04<00:00, 12.43it/s]\n",
      "Epoch 1: CE 0.468265, acc 0.866596:  25%|██████████████████████████████████▍                                                                                                     | 202/799 [00:18<00:47, 12.55it/s]"
     ]
    },
    {
     "name": "stdout",
     "output_type": "stream",
     "text": [
      "EarlyStopping counter: 1 out of 10000\n"
     ]
    },
    {
     "name": "stderr",
     "output_type": "stream",
     "text": [
      "Epoch 1: CE 0.465715, acc 0.866723:  50%|████████████████████████████████████████████████████████████████████▍                                                                   | 402/799 [00:33<00:32, 12.26it/s]"
     ]
    },
    {
     "name": "stdout",
     "output_type": "stream",
     "text": [
      "EarlyStopping counter: 2 out of 10000\n"
     ]
    },
    {
     "name": "stderr",
     "output_type": "stream",
     "text": [
      "Epoch 1: CE 0.460830, acc 0.868013:  75%|██████████████████████████████████████████████████████████████████████████████████████████████████████▍                                 | 602/799 [00:49<00:16, 11.97it/s]"
     ]
    },
    {
     "name": "stdout",
     "output_type": "stream",
     "text": [
      "EarlyStopping counter: 3 out of 10000\n"
     ]
    },
    {
     "name": "stderr",
     "output_type": "stream",
     "text": [
      "Epoch 1: CE 0.458787, acc 0.868701: 100%|████████████████████████████████████████████████████████████████████████████████████████████████████████████████████████████████████████| 799/799 [01:05<00:00, 12.15it/s]\n",
      "Epoch 1: CE 0.447256, acc 0.868435:   0%|▎                                                                                                                                         | 2/799 [00:00<01:07, 11.88it/s]"
     ]
    },
    {
     "name": "stdout",
     "output_type": "stream",
     "text": [
      "EarlyStopping counter: 4 out of 10000\n"
     ]
    },
    {
     "name": "stderr",
     "output_type": "stream",
     "text": [
      "Epoch 1: CE 0.437056, acc 0.873994: 100%|████████████████████████████████████████████████████████████████████████████████████████████████████████████████████████████████████████| 799/799 [01:05<00:00, 12.14it/s]\n",
      "Epoch 1: CE 0.452000, acc 0.879849:   0%|▎                                                                                                                                         | 2/799 [00:00<01:05, 12.14it/s]"
     ]
    },
    {
     "name": "stdout",
     "output_type": "stream",
     "text": [
      "EarlyStopping counter: 1 out of 10000\n"
     ]
    },
    {
     "name": "stderr",
     "output_type": "stream",
     "text": [
      "Epoch 1: CE 0.423621, acc 0.877846: 100%|████████████████████████████████████████████████████████████████████████████████████████████████████████████████████████████████████████| 799/799 [01:05<00:00, 12.14it/s]\n",
      "Epoch 1: CE 0.393296, acc 0.888963:   0%|▎                                                                                                                                         | 2/799 [00:00<01:01, 12.87it/s]"
     ]
    },
    {
     "name": "stdout",
     "output_type": "stream",
     "text": [
      "EarlyStopping counter: 1 out of 10000\n"
     ]
    },
    {
     "name": "stderr",
     "output_type": "stream",
     "text": [
      "Epoch 1: CE 0.415560, acc 0.879688:  75%|██████████████████████████████████████████████████████████████████████████████████████████████████████▍                                 | 602/799 [00:49<00:15, 12.54it/s]"
     ]
    },
    {
     "name": "stdout",
     "output_type": "stream",
     "text": [
      "EarlyStopping counter: 1 out of 10000\n"
     ]
    },
    {
     "name": "stderr",
     "output_type": "stream",
     "text": [
      "Epoch 1: CE 0.414958, acc 0.880002: 100%|████████████████████████████████████████████████████████████████████████████████████████████████████████████████████████████████████████| 799/799 [01:05<00:00, 12.24it/s]\n",
      "Epoch 1: CE 0.424884, acc 0.874803:   0%|▎                                                                                                                                         | 2/799 [00:00<01:05, 12.12it/s]"
     ]
    },
    {
     "name": "stdout",
     "output_type": "stream",
     "text": [
      "EarlyStopping counter: 2 out of 10000\n"
     ]
    },
    {
     "name": "stderr",
     "output_type": "stream",
     "text": [
      "Epoch 1: CE 0.403594, acc 0.882956:  75%|██████████████████████████████████████████████████████████████████████████████████████████████████████▍                                 | 602/799 [00:49<00:15, 12.52it/s]"
     ]
    },
    {
     "name": "stdout",
     "output_type": "stream",
     "text": [
      "EarlyStopping counter: 1 out of 10000\n"
     ]
    },
    {
     "name": "stderr",
     "output_type": "stream",
     "text": [
      "Epoch 1: CE 0.402572, acc 0.883237: 100%|████████████████████████████████████████████████████████████████████████████████████████████████████████████████████████████████████████| 799/799 [01:05<00:00, 12.16it/s]\n",
      "Epoch 1: CE 0.396538, acc 0.884257:  25%|██████████████████████████████████▍                                                                                                     | 202/799 [00:16<00:49, 12.03it/s]"
     ]
    },
    {
     "name": "stdout",
     "output_type": "stream",
     "text": [
      "EarlyStopping counter: 1 out of 10000\n"
     ]
    },
    {
     "name": "stderr",
     "output_type": "stream",
     "text": [
      "Epoch 1: CE 0.399371, acc 0.884016:  50%|████████████████████████████████████████████████████████████████████▍                                                                   | 402/799 [00:33<00:32, 12.22it/s]"
     ]
    },
    {
     "name": "stdout",
     "output_type": "stream",
     "text": [
      "EarlyStopping counter: 2 out of 10000\n"
     ]
    },
    {
     "name": "stderr",
     "output_type": "stream",
     "text": [
      "Epoch 1: CE 0.399093, acc 0.884287:  75%|██████████████████████████████████████████████████████████████████████████████████████████████████████▍                                 | 602/799 [00:49<00:16, 12.28it/s]"
     ]
    },
    {
     "name": "stdout",
     "output_type": "stream",
     "text": [
      "EarlyStopping counter: 3 out of 10000\n"
     ]
    },
    {
     "name": "stderr",
     "output_type": "stream",
     "text": [
      "Epoch 1: CE 0.397884, acc 0.884736: 100%|████████████████████████████████████████████████████████████████████████████████████████████████████████████████████████████████████████| 799/799 [01:05<00:00, 12.13it/s]\n",
      "Epoch 1: CE 0.397917, acc 0.885381:  25%|██████████████████████████████████▌                                                                                                     | 203/799 [00:16<00:49, 12.10it/s]"
     ]
    },
    {
     "name": "stdout",
     "output_type": "stream",
     "text": [
      "EarlyStopping counter: 1 out of 10000\n"
     ]
    },
    {
     "name": "stderr",
     "output_type": "stream",
     "text": [
      "Epoch 1: CE 0.393467, acc 0.885946:  50%|████████████████████████████████████████████████████████████████████▌                                                                   | 403/799 [00:33<00:33, 11.90it/s]"
     ]
    },
    {
     "name": "stdout",
     "output_type": "stream",
     "text": [
      "EarlyStopping counter: 2 out of 10000\n"
     ]
    },
    {
     "name": "stderr",
     "output_type": "stream",
     "text": [
      "Epoch 1: CE 0.393783, acc 0.886110:  75%|██████████████████████████████████████████████████████████████████████████████████████████████████████▋                                 | 603/799 [00:50<00:16, 12.04it/s]"
     ]
    },
    {
     "name": "stdout",
     "output_type": "stream",
     "text": [
      "EarlyStopping counter: 3 out of 10000\n"
     ]
    },
    {
     "name": "stderr",
     "output_type": "stream",
     "text": [
      "Epoch 1: CE 0.392950, acc 0.886297: 100%|████████████████████████████████████████████████████████████████████████████████████████████████████████████████████████████████████████| 799/799 [01:06<00:00, 12.00it/s]\n",
      "Epoch 1: CE 0.369533, acc 0.884914:   0%|▎                                                                                                                                         | 2/799 [00:00<01:07, 11.86it/s]"
     ]
    },
    {
     "name": "stdout",
     "output_type": "stream",
     "text": [
      "EarlyStopping counter: 4 out of 10000\n"
     ]
    },
    {
     "name": "stderr",
     "output_type": "stream",
     "text": [
      "Epoch 1: CE 0.381600, acc 0.889487:  25%|██████████████████████████████████▍                                                                                                     | 202/799 [00:16<00:47, 12.60it/s]"
     ]
    },
    {
     "name": "stdout",
     "output_type": "stream",
     "text": [
      "EarlyStopping counter: 5 out of 10000\n"
     ]
    },
    {
     "name": "stderr",
     "output_type": "stream",
     "text": [
      "Epoch 1: CE 0.381065, acc 0.889333:  50%|████████████████████████████████████████████████████████████████████▍                                                                   | 402/799 [00:33<00:34, 11.50it/s]"
     ]
    },
    {
     "name": "stdout",
     "output_type": "stream",
     "text": [
      "EarlyStopping counter: 6 out of 10000\n",
      "Epoch    51: reducing learning rate of group 0 to 2.8800e-03.\n"
     ]
    },
    {
     "name": "stderr",
     "output_type": "stream",
     "text": [
      "Epoch 1: CE 0.384804, acc 0.888554:  75%|██████████████████████████████████████████████████████████████████████████████████████████████████████▍                                 | 602/799 [00:50<00:16, 12.27it/s]"
     ]
    },
    {
     "name": "stdout",
     "output_type": "stream",
     "text": [
      "EarlyStopping counter: 7 out of 10000\n"
     ]
    },
    {
     "name": "stderr",
     "output_type": "stream",
     "text": [
      "Epoch 1: CE 0.383922, acc 0.888686: 100%|████████████████████████████████████████████████████████████████████████████████████████████████████████████████████████████████████████| 799/799 [01:06<00:00, 11.97it/s]\n",
      "Epoch 1: CE 0.378823, acc 0.890703:  25%|██████████████████████████████████▍                                                                                                     | 202/799 [00:16<00:51, 11.67it/s]"
     ]
    },
    {
     "name": "stdout",
     "output_type": "stream",
     "text": [
      "EarlyStopping counter: 1 out of 10000\n"
     ]
    },
    {
     "name": "stderr",
     "output_type": "stream",
     "text": [
      "Epoch 1: CE 0.376098, acc 0.890906:  50%|████████████████████████████████████████████████████████████████████▍                                                                   | 402/799 [00:32<00:32, 12.12it/s]"
     ]
    },
    {
     "name": "stdout",
     "output_type": "stream",
     "text": [
      "EarlyStopping counter: 2 out of 10000\n"
     ]
    },
    {
     "name": "stderr",
     "output_type": "stream",
     "text": [
      "Epoch 1: CE 0.376200, acc 0.890772:  75%|██████████████████████████████████████████████████████████████████████████████████████████████████████▍                                 | 602/799 [00:49<00:16, 12.20it/s]"
     ]
    },
    {
     "name": "stdout",
     "output_type": "stream",
     "text": [
      "EarlyStopping counter: 3 out of 10000\n"
     ]
    },
    {
     "name": "stderr",
     "output_type": "stream",
     "text": [
      "Epoch 1: CE 0.374979, acc 0.891004: 100%|████████████████████████████████████████████████████████████████████████████████████████████████████████████████████████████████████████| 799/799 [01:05<00:00, 12.26it/s]\n",
      "Epoch 1: CE 0.370440, acc 0.896557:   0%|▎                                                                                                                                         | 2/799 [00:00<00:59, 13.44it/s]"
     ]
    },
    {
     "name": "stdout",
     "output_type": "stream",
     "text": [
      "EarlyStopping counter: 4 out of 10000\n"
     ]
    },
    {
     "name": "stderr",
     "output_type": "stream",
     "text": [
      "Epoch 1: CE 0.371918, acc 0.891624:  25%|██████████████████████████████████▍                                                                                                     | 202/799 [00:16<00:49, 12.05it/s]"
     ]
    },
    {
     "name": "stdout",
     "output_type": "stream",
     "text": [
      "EarlyStopping counter: 5 out of 10000\n"
     ]
    },
    {
     "name": "stderr",
     "output_type": "stream",
     "text": [
      "Epoch 1: CE 0.374817, acc 0.891274:  50%|████████████████████████████████████████████████████████████████████▍                                                                   | 402/799 [00:33<00:33, 11.78it/s]"
     ]
    },
    {
     "name": "stdout",
     "output_type": "stream",
     "text": [
      "EarlyStopping counter: 6 out of 10000\n",
      "Epoch    59: reducing learning rate of group 0 to 2.7648e-03.\n"
     ]
    },
    {
     "name": "stderr",
     "output_type": "stream",
     "text": [
      "Epoch 1: CE 0.372593, acc 0.891949:  75%|██████████████████████████████████████████████████████████████████████████████████████████████████████▍                                 | 602/799 [00:49<00:16, 12.30it/s]"
     ]
    },
    {
     "name": "stdout",
     "output_type": "stream",
     "text": [
      "EarlyStopping counter: 7 out of 10000\n"
     ]
    },
    {
     "name": "stderr",
     "output_type": "stream",
     "text": [
      "Epoch 1: CE 0.372406, acc 0.891914: 100%|████████████████████████████████████████████████████████████████████████████████████████████████████████████████████████████████████████| 799/799 [01:06<00:00, 12.02it/s]\n",
      "Epoch 1: CE 0.364711, acc 0.892087:   0%|▎                                                                                                                                         | 2/799 [00:00<01:06, 11.94it/s]"
     ]
    },
    {
     "name": "stdout",
     "output_type": "stream",
     "text": [
      "EarlyStopping counter: 8 out of 10000\n"
     ]
    },
    {
     "name": "stderr",
     "output_type": "stream",
     "text": [
      "Epoch 1: CE 0.368978, acc 0.893105:  25%|██████████████████████████████████▍                                                                                                     | 202/799 [00:16<01:26,  6.92it/s]"
     ]
    },
    {
     "name": "stdout",
     "output_type": "stream",
     "text": [
      "EarlyStopping counter: 9 out of 10000\n"
     ]
    },
    {
     "name": "stderr",
     "output_type": "stream",
     "text": [
      "Epoch 1: CE 0.367462, acc 0.893373:  50%|████████████████████████████████████████████████████████████████████▍                                                                   | 402/799 [00:33<00:37, 10.66it/s]"
     ]
    },
    {
     "name": "stdout",
     "output_type": "stream",
     "text": [
      "EarlyStopping counter: 10 out of 10000\n"
     ]
    },
    {
     "name": "stderr",
     "output_type": "stream",
     "text": [
      "Epoch 1: CE 0.367028, acc 0.893498:  75%|██████████████████████████████████████████████████████████████████████████████████████████████████████▍                                 | 602/799 [00:49<00:15, 12.37it/s]"
     ]
    },
    {
     "name": "stdout",
     "output_type": "stream",
     "text": [
      "EarlyStopping counter: 11 out of 10000\n"
     ]
    },
    {
     "name": "stderr",
     "output_type": "stream",
     "text": [
      "Epoch 1: CE 0.367436, acc 0.893346: 100%|████████████████████████████████████████████████████████████████████████████████████████████████████████████████████████████████████████| 799/799 [01:05<00:00, 12.20it/s]\n",
      "Epoch 1: CE 0.367715, acc 0.897430:   0%|▎                                                                                                                                         | 2/799 [00:00<01:11, 11.13it/s]"
     ]
    },
    {
     "name": "stdout",
     "output_type": "stream",
     "text": [
      "EarlyStopping counter: 12 out of 10000\n",
      "Epoch    65: reducing learning rate of group 0 to 2.6542e-03.\n"
     ]
    },
    {
     "name": "stderr",
     "output_type": "stream",
     "text": [
      "Epoch 1: CE 0.358486, acc 0.895274:  25%|██████████████████████████████████▍                                                                                                     | 202/799 [00:16<00:46, 12.74it/s]"
     ]
    },
    {
     "name": "stdout",
     "output_type": "stream",
     "text": [
      "EarlyStopping counter: 13 out of 10000\n"
     ]
    },
    {
     "name": "stderr",
     "output_type": "stream",
     "text": [
      "Epoch 1: CE 0.360902, acc 0.894786:  50%|████████████████████████████████████████████████████████████████████▍                                                                   | 402/799 [00:32<00:31, 12.47it/s]"
     ]
    },
    {
     "name": "stdout",
     "output_type": "stream",
     "text": [
      "EarlyStopping counter: 14 out of 10000\n"
     ]
    },
    {
     "name": "stderr",
     "output_type": "stream",
     "text": [
      "Epoch 1: CE 0.363214, acc 0.894494:  75%|██████████████████████████████████████████████████████████████████████████████████████████████████████▍                                 | 602/799 [00:49<00:16, 12.11it/s]"
     ]
    },
    {
     "name": "stdout",
     "output_type": "stream",
     "text": [
      "EarlyStopping counter: 15 out of 10000\n"
     ]
    },
    {
     "name": "stderr",
     "output_type": "stream",
     "text": [
      "Epoch 1: CE 0.360582, acc 0.895174: 100%|████████████████████████████████████████████████████████████████████████████████████████████████████████████████████████████████████████| 799/799 [01:05<00:00, 12.20it/s]\n",
      "Epoch 1: CE 0.312434, acc 0.908873:   0%|▎                                                                                                                                         | 2/799 [00:00<01:08, 11.69it/s]"
     ]
    },
    {
     "name": "stdout",
     "output_type": "stream",
     "text": [
      "EarlyStopping counter: 16 out of 10000\n"
     ]
    },
    {
     "name": "stderr",
     "output_type": "stream",
     "text": [
      "Epoch 1: CE 0.354563, acc 0.895835:  25%|██████████████████████████████████▍                                                                                                     | 202/799 [00:16<00:47, 12.62it/s]"
     ]
    },
    {
     "name": "stdout",
     "output_type": "stream",
     "text": [
      "EarlyStopping counter: 17 out of 10000\n"
     ]
    },
    {
     "name": "stderr",
     "output_type": "stream",
     "text": [
      "Epoch 1: CE 0.356097, acc 0.895843:  50%|████████████████████████████████████████████████████████████████████▍                                                                   | 402/799 [00:33<00:32, 12.21it/s]"
     ]
    },
    {
     "name": "stdout",
     "output_type": "stream",
     "text": [
      "EarlyStopping counter: 18 out of 10000\n",
      "Epoch    71: reducing learning rate of group 0 to 2.5480e-03.\n"
     ]
    },
    {
     "name": "stderr",
     "output_type": "stream",
     "text": [
      "Epoch 1: CE 0.356270, acc 0.895868:  75%|██████████████████████████████████████████████████████████████████████████████████████████████████████▍                                 | 602/799 [00:49<00:15, 12.58it/s]"
     ]
    },
    {
     "name": "stdout",
     "output_type": "stream",
     "text": [
      "EarlyStopping counter: 19 out of 10000\n"
     ]
    },
    {
     "name": "stderr",
     "output_type": "stream",
     "text": [
      "Epoch 1: CE 0.356444, acc 0.896051: 100%|████████████████████████████████████████████████████████████████████████████████████████████████████████████████████████████████████████| 799/799 [01:05<00:00, 12.21it/s]\n",
      "Epoch 1: CE 0.335983, acc 0.896086:   0%|▎                                                                                                                                         | 2/799 [00:00<01:04, 12.35it/s]"
     ]
    },
    {
     "name": "stdout",
     "output_type": "stream",
     "text": [
      "EarlyStopping counter: 20 out of 10000\n"
     ]
    },
    {
     "name": "stderr",
     "output_type": "stream",
     "text": [
      "Epoch 1: CE 0.354486, acc 0.896679:  25%|██████████████████████████████████▍                                                                                                     | 202/799 [00:16<00:48, 12.39it/s]"
     ]
    },
    {
     "name": "stdout",
     "output_type": "stream",
     "text": [
      "EarlyStopping counter: 21 out of 10000\n"
     ]
    },
    {
     "name": "stderr",
     "output_type": "stream",
     "text": [
      "Epoch 1: CE 0.354993, acc 0.896518:  50%|████████████████████████████████████████████████████████████████████▍                                                                   | 402/799 [00:33<00:38, 10.23it/s]"
     ]
    },
    {
     "name": "stdout",
     "output_type": "stream",
     "text": [
      "EarlyStopping counter: 22 out of 10000\n"
     ]
    },
    {
     "name": "stderr",
     "output_type": "stream",
     "text": [
      "Epoch 1: CE 0.353722, acc 0.896897:  75%|██████████████████████████████████████████████████████████████████████████████████████████████████████▍                                 | 602/799 [00:49<00:14, 13.27it/s]"
     ]
    },
    {
     "name": "stdout",
     "output_type": "stream",
     "text": [
      "EarlyStopping counter: 23 out of 10000\n"
     ]
    },
    {
     "name": "stderr",
     "output_type": "stream",
     "text": [
      "Epoch 1: CE 0.351801, acc 0.897412: 100%|████████████████████████████████████████████████████████████████████████████████████████████████████████████████████████████████████████| 799/799 [01:05<00:00, 12.19it/s]\n",
      "Epoch 1: CE 0.341763, acc 0.897860:   0%|▎                                                                                                                                         | 2/799 [00:00<01:02, 12.78it/s]"
     ]
    },
    {
     "name": "stdout",
     "output_type": "stream",
     "text": [
      "EarlyStopping counter: 24 out of 10000\n",
      "Epoch    77: reducing learning rate of group 0 to 2.4461e-03.\n"
     ]
    },
    {
     "name": "stderr",
     "output_type": "stream",
     "text": [
      "Epoch 1: CE 0.352040, acc 0.896927:  25%|██████████████████████████████████▍                                                                                                     | 202/799 [00:16<00:47, 12.53it/s]"
     ]
    },
    {
     "name": "stdout",
     "output_type": "stream",
     "text": [
      "EarlyStopping counter: 25 out of 10000\n"
     ]
    },
    {
     "name": "stderr",
     "output_type": "stream",
     "text": [
      "Epoch 1: CE 0.348965, acc 0.898257:  50%|████████████████████████████████████████████████████████████████████▍                                                                   | 402/799 [00:32<00:31, 12.56it/s]"
     ]
    },
    {
     "name": "stdout",
     "output_type": "stream",
     "text": [
      "EarlyStopping counter: 26 out of 10000\n"
     ]
    },
    {
     "name": "stderr",
     "output_type": "stream",
     "text": [
      "Epoch 1: CE 0.347647, acc 0.898699:  75%|██████████████████████████████████████████████████████████████████████████████████████████████████████▍                                 | 602/799 [00:49<00:15, 12.73it/s]"
     ]
    },
    {
     "name": "stdout",
     "output_type": "stream",
     "text": [
      "EarlyStopping counter: 27 out of 10000\n"
     ]
    },
    {
     "name": "stderr",
     "output_type": "stream",
     "text": [
      "Epoch 1: CE 0.346859, acc 0.898934: 100%|████████████████████████████████████████████████████████████████████████████████████████████████████████████████████████████████████████| 799/799 [01:04<00:00, 12.30it/s]\n",
      "Epoch 1: CE 0.353403, acc 0.898217:   0%|▎                                                                                                                                         | 2/799 [00:00<01:12, 10.99it/s]"
     ]
    },
    {
     "name": "stdout",
     "output_type": "stream",
     "text": [
      "EarlyStopping counter: 28 out of 10000\n"
     ]
    },
    {
     "name": "stderr",
     "output_type": "stream",
     "text": [
      "Epoch 1: CE 0.341860, acc 0.901140:  25%|██████████████████████████████████▍                                                                                                     | 202/799 [00:16<00:47, 12.54it/s]"
     ]
    },
    {
     "name": "stdout",
     "output_type": "stream",
     "text": [
      "EarlyStopping counter: 29 out of 10000\n"
     ]
    },
    {
     "name": "stderr",
     "output_type": "stream",
     "text": [
      "Epoch 1: CE 0.343662, acc 0.900028:  50%|████████████████████████████████████████████████████████████████████▍                                                                   | 402/799 [00:32<00:30, 13.08it/s]"
     ]
    },
    {
     "name": "stdout",
     "output_type": "stream",
     "text": [
      "EarlyStopping counter: 30 out of 10000\n",
      "Epoch    83: reducing learning rate of group 0 to 2.3483e-03.\n"
     ]
    },
    {
     "name": "stderr",
     "output_type": "stream",
     "text": [
      "Epoch 1: CE 0.342809, acc 0.900219:  75%|██████████████████████████████████████████████████████████████████████████████████████████████████████▍                                 | 602/799 [00:49<00:15, 12.54it/s]"
     ]
    },
    {
     "name": "stdout",
     "output_type": "stream",
     "text": [
      "EarlyStopping counter: 31 out of 10000\n"
     ]
    },
    {
     "name": "stderr",
     "output_type": "stream",
     "text": [
      "Epoch 1: CE 0.343529, acc 0.900017: 100%|████████████████████████████████████████████████████████████████████████████████████████████████████████████████████████████████████████| 799/799 [01:05<00:00, 12.22it/s]\n",
      "Epoch 1: CE 0.335660, acc 0.901646:  25%|██████████████████████████████████▍                                                                                                     | 202/799 [00:16<00:47, 12.48it/s]"
     ]
    },
    {
     "name": "stdout",
     "output_type": "stream",
     "text": [
      "EarlyStopping counter: 1 out of 10000\n"
     ]
    },
    {
     "name": "stderr",
     "output_type": "stream",
     "text": [
      "Epoch 1: CE 0.336348, acc 0.901258:  50%|████████████████████████████████████████████████████████████████████▍                                                                   | 402/799 [00:33<00:29, 13.38it/s]"
     ]
    },
    {
     "name": "stdout",
     "output_type": "stream",
     "text": [
      "EarlyStopping counter: 2 out of 10000\n"
     ]
    },
    {
     "name": "stderr",
     "output_type": "stream",
     "text": [
      "Epoch 1: CE 0.337807, acc 0.901149:  75%|██████████████████████████████████████████████████████████████████████████████████████████████████████▍                                 | 602/799 [00:50<00:18, 10.48it/s]"
     ]
    },
    {
     "name": "stdout",
     "output_type": "stream",
     "text": [
      "EarlyStopping counter: 3 out of 10000\n"
     ]
    },
    {
     "name": "stderr",
     "output_type": "stream",
     "text": [
      "Epoch 1: CE 0.337851, acc 0.901212: 100%|████████████████████████████████████████████████████████████████████████████████████████████████████████████████████████████████████████| 799/799 [01:06<00:00, 12.02it/s]\n",
      "Epoch 1: CE 0.323700, acc 0.901818:   0%|▎                                                                                                                                         | 2/799 [00:00<01:02, 12.76it/s]"
     ]
    },
    {
     "name": "stdout",
     "output_type": "stream",
     "text": [
      "EarlyStopping counter: 4 out of 10000\n"
     ]
    },
    {
     "name": "stderr",
     "output_type": "stream",
     "text": [
      "Epoch 1: CE 0.335734, acc 0.901952:  25%|██████████████████████████████████▍                                                                                                     | 202/799 [00:16<00:48, 12.30it/s]"
     ]
    },
    {
     "name": "stdout",
     "output_type": "stream",
     "text": [
      "EarlyStopping counter: 5 out of 10000\n"
     ]
    },
    {
     "name": "stderr",
     "output_type": "stream",
     "text": [
      "Epoch 1: CE 0.338087, acc 0.901367:  50%|████████████████████████████████████████████████████████████████████▍                                                                   | 402/799 [00:32<00:31, 12.66it/s]"
     ]
    },
    {
     "name": "stdout",
     "output_type": "stream",
     "text": [
      "EarlyStopping counter: 6 out of 10000\n",
      "Epoch    91: reducing learning rate of group 0 to 2.2543e-03.\n"
     ]
    },
    {
     "name": "stderr",
     "output_type": "stream",
     "text": [
      "Epoch 1: CE 0.335256, acc 0.902232:  75%|██████████████████████████████████████████████████████████████████████████████████████████████████████▍                                 | 602/799 [00:49<00:15, 12.45it/s]"
     ]
    },
    {
     "name": "stdout",
     "output_type": "stream",
     "text": [
      "EarlyStopping counter: 7 out of 10000\n"
     ]
    },
    {
     "name": "stderr",
     "output_type": "stream",
     "text": [
      "Epoch 1: CE 0.336625, acc 0.902040: 100%|████████████████████████████████████████████████████████████████████████████████████████████████████████████████████████████████████████| 799/799 [01:05<00:00, 12.25it/s]\n",
      "Epoch 1: CE 0.331074, acc 0.902793:  25%|██████████████████████████████████▍                                                                                                     | 202/799 [00:16<00:47, 12.47it/s]"
     ]
    },
    {
     "name": "stdout",
     "output_type": "stream",
     "text": [
      "EarlyStopping counter: 1 out of 10000\n"
     ]
    },
    {
     "name": "stderr",
     "output_type": "stream",
     "text": [
      "Epoch 1: CE 0.332905, acc 0.902219:  50%|████████████████████████████████████████████████████████████████████▍                                                                   | 402/799 [00:32<00:31, 12.48it/s]"
     ]
    },
    {
     "name": "stdout",
     "output_type": "stream",
     "text": [
      "EarlyStopping counter: 2 out of 10000\n"
     ]
    },
    {
     "name": "stderr",
     "output_type": "stream",
     "text": [
      "Epoch 1: CE 0.332462, acc 0.902291:  75%|██████████████████████████████████████████████████████████████████████████████████████████████████████▍                                 | 602/799 [00:49<00:16, 12.31it/s]"
     ]
    },
    {
     "name": "stdout",
     "output_type": "stream",
     "text": [
      "EarlyStopping counter: 3 out of 10000\n"
     ]
    },
    {
     "name": "stderr",
     "output_type": "stream",
     "text": [
      "Epoch 1: CE 0.332830, acc 0.902409: 100%|████████████████████████████████████████████████████████████████████████████████████████████████████████████████████████████████████████| 799/799 [01:05<00:00, 12.25it/s]\n",
      "Epoch 1: CE 0.305613, acc 0.912002:   0%|▎                                                                                                                                         | 2/799 [00:00<01:02, 12.68it/s]"
     ]
    },
    {
     "name": "stdout",
     "output_type": "stream",
     "text": [
      "EarlyStopping counter: 4 out of 10000\n"
     ]
    },
    {
     "name": "stderr",
     "output_type": "stream",
     "text": [
      "Epoch 1: CE 0.332532, acc 0.902606:  25%|██████████████████████████████████▍                                                                                                     | 202/799 [00:16<00:47, 12.65it/s]"
     ]
    },
    {
     "name": "stdout",
     "output_type": "stream",
     "text": [
      "EarlyStopping counter: 5 out of 10000\n"
     ]
    },
    {
     "name": "stderr",
     "output_type": "stream",
     "text": [
      "Epoch 1: CE 0.334758, acc 0.902497:  50%|████████████████████████████████████████████████████████████████████▍                                                                   | 402/799 [00:33<00:33, 12.01it/s]"
     ]
    },
    {
     "name": "stdout",
     "output_type": "stream",
     "text": [
      "EarlyStopping counter: 6 out of 10000\n",
      "Epoch    99: reducing learning rate of group 0 to 2.1642e-03.\n"
     ]
    },
    {
     "name": "stderr",
     "output_type": "stream",
     "text": [
      "Epoch 1: CE 0.332645, acc 0.903030:  75%|██████████████████████████████████████████████████████████████████████████████████████████████████████▍                                 | 602/799 [00:50<00:15, 12.80it/s]"
     ]
    },
    {
     "name": "stdout",
     "output_type": "stream",
     "text": [
      "EarlyStopping counter: 7 out of 10000\n"
     ]
    },
    {
     "name": "stderr",
     "output_type": "stream",
     "text": [
      "Epoch 1: CE 0.332084, acc 0.903181: 100%|████████████████████████████████████████████████████████████████████████████████████████████████████████████████████████████████████████| 799/799 [01:06<00:00, 12.03it/s]\n",
      "Epoch 1: CE 0.329897, acc 0.901684:   0%|▎                                                                                                                                         | 2/799 [00:00<01:03, 12.62it/s]"
     ]
    },
    {
     "name": "stdout",
     "output_type": "stream",
     "text": [
      "EarlyStopping counter: 8 out of 10000\n"
     ]
    },
    {
     "name": "stderr",
     "output_type": "stream",
     "text": [
      "Epoch 1: CE 0.327214, acc 0.904431:  25%|██████████████████████████████████▍                                                                                                     | 202/799 [00:16<00:46, 12.82it/s]"
     ]
    },
    {
     "name": "stdout",
     "output_type": "stream",
     "text": [
      "EarlyStopping counter: 9 out of 10000\n"
     ]
    },
    {
     "name": "stderr",
     "output_type": "stream",
     "text": [
      "Epoch 1: CE 0.328520, acc 0.904126:  50%|████████████████████████████████████████████████████████████████████▍                                                                   | 402/799 [00:32<00:30, 13.06it/s]"
     ]
    },
    {
     "name": "stdout",
     "output_type": "stream",
     "text": [
      "EarlyStopping counter: 10 out of 10000\n"
     ]
    },
    {
     "name": "stderr",
     "output_type": "stream",
     "text": [
      "Epoch 1: CE 0.325868, acc 0.904915:  75%|██████████████████████████████████████████████████████████████████████████████████████████████████████▍                                 | 602/799 [00:49<00:15, 12.81it/s]"
     ]
    },
    {
     "name": "stdout",
     "output_type": "stream",
     "text": [
      "EarlyStopping counter: 11 out of 10000\n"
     ]
    },
    {
     "name": "stderr",
     "output_type": "stream",
     "text": [
      "Epoch 1: CE 0.326748, acc 0.904527: 100%|████████████████████████████████████████████████████████████████████████████████████████████████████████████████████████████████████████| 799/799 [01:05<00:00, 12.26it/s]\n",
      "Epoch 1: CE 0.339130, acc 0.902011:   0%|▌                                                                                                                                         | 3/799 [00:00<01:05, 12.08it/s]"
     ]
    },
    {
     "name": "stdout",
     "output_type": "stream",
     "text": [
      "EarlyStopping counter: 12 out of 10000\n",
      "Epoch   105: reducing learning rate of group 0 to 2.0776e-03.\n"
     ]
    },
    {
     "name": "stderr",
     "output_type": "stream",
     "text": [
      "Epoch 1: CE 0.324856, acc 0.904654:  25%|██████████████████████████████████▌                                                                                                     | 203/799 [00:16<00:45, 13.06it/s]"
     ]
    },
    {
     "name": "stdout",
     "output_type": "stream",
     "text": [
      "EarlyStopping counter: 13 out of 10000\n"
     ]
    },
    {
     "name": "stderr",
     "output_type": "stream",
     "text": [
      "Epoch 1: CE 0.326529, acc 0.904409:  50%|████████████████████████████████████████████████████████████████████▌                                                                   | 403/799 [00:33<00:31, 12.53it/s]"
     ]
    },
    {
     "name": "stdout",
     "output_type": "stream",
     "text": [
      "EarlyStopping counter: 14 out of 10000\n"
     ]
    },
    {
     "name": "stderr",
     "output_type": "stream",
     "text": [
      "Epoch 1: CE 0.327362, acc 0.904096:  75%|██████████████████████████████████████████████████████████████████████████████████████████████████████▋                                 | 603/799 [00:50<00:16, 12.22it/s]"
     ]
    },
    {
     "name": "stdout",
     "output_type": "stream",
     "text": [
      "EarlyStopping counter: 15 out of 10000\n"
     ]
    },
    {
     "name": "stderr",
     "output_type": "stream",
     "text": [
      "Epoch 1: CE 0.328586, acc 0.903803: 100%|████████████████████████████████████████████████████████████████████████████████████████████████████████████████████████████████████████| 799/799 [01:06<00:00, 12.02it/s]\n",
      "Epoch 1: CE 0.324431, acc 0.906140:  25%|██████████████████████████████████▍                                                                                                     | 202/799 [00:16<00:47, 12.65it/s]"
     ]
    },
    {
     "name": "stdout",
     "output_type": "stream",
     "text": [
      "EarlyStopping counter: 1 out of 10000\n"
     ]
    },
    {
     "name": "stderr",
     "output_type": "stream",
     "text": [
      "Epoch 1: CE 0.323125, acc 0.906051:  50%|████████████████████████████████████████████████████████████████████▍                                                                   | 402/799 [00:32<00:32, 12.37it/s]"
     ]
    },
    {
     "name": "stdout",
     "output_type": "stream",
     "text": [
      "EarlyStopping counter: 2 out of 10000\n"
     ]
    },
    {
     "name": "stderr",
     "output_type": "stream",
     "text": [
      "Epoch 1: CE 0.322964, acc 0.905870:  75%|██████████████████████████████████████████████████████████████████████████████████████████████████████▍                                 | 602/799 [00:49<00:16, 12.19it/s]"
     ]
    },
    {
     "name": "stdout",
     "output_type": "stream",
     "text": [
      "EarlyStopping counter: 3 out of 10000\n"
     ]
    },
    {
     "name": "stderr",
     "output_type": "stream",
     "text": [
      "Epoch 1: CE 0.323712, acc 0.905730: 100%|████████████████████████████████████████████████████████████████████████████████████████████████████████████████████████████████████████| 799/799 [01:05<00:00, 12.28it/s]\n",
      "Epoch 1: CE 0.329915, acc 0.903528:  25%|██████████████████████████████████▍                                                                                                     | 202/799 [00:16<00:47, 12.48it/s]"
     ]
    },
    {
     "name": "stdout",
     "output_type": "stream",
     "text": [
      "EarlyStopping counter: 1 out of 10000\n"
     ]
    },
    {
     "name": "stderr",
     "output_type": "stream",
     "text": [
      "Epoch 1: CE 0.324137, acc 0.905193:  50%|████████████████████████████████████████████████████████████████████▍                                                                   | 402/799 [00:33<00:33, 11.93it/s]"
     ]
    },
    {
     "name": "stdout",
     "output_type": "stream",
     "text": [
      "EarlyStopping counter: 2 out of 10000\n"
     ]
    },
    {
     "name": "stderr",
     "output_type": "stream",
     "text": [
      "Epoch 1: CE 0.320903, acc 0.906215:  75%|██████████████████████████████████████████████████████████████████████████████████████████████████████▍                                 | 602/799 [00:49<00:15, 12.70it/s]"
     ]
    },
    {
     "name": "stdout",
     "output_type": "stream",
     "text": [
      "EarlyStopping counter: 3 out of 10000\n"
     ]
    },
    {
     "name": "stderr",
     "output_type": "stream",
     "text": [
      "Epoch 1: CE 0.320595, acc 0.906183: 100%|████████████████████████████████████████████████████████████████████████████████████████████████████████████████████████████████████████| 799/799 [01:06<00:00, 12.10it/s]\n",
      "Epoch 1: CE 0.320642, acc 0.906623:  25%|██████████████████████████████████▍                                                                                                     | 202/799 [00:16<00:48, 12.33it/s]"
     ]
    },
    {
     "name": "stdout",
     "output_type": "stream",
     "text": [
      "EarlyStopping counter: 1 out of 10000\n"
     ]
    },
    {
     "name": "stderr",
     "output_type": "stream",
     "text": [
      "Epoch 1: CE 0.317306, acc 0.907326:  50%|████████████████████████████████████████████████████████████████████▍                                                                   | 402/799 [00:32<00:42,  9.38it/s]"
     ]
    },
    {
     "name": "stdout",
     "output_type": "stream",
     "text": [
      "EarlyStopping counter: 2 out of 10000\n"
     ]
    },
    {
     "name": "stderr",
     "output_type": "stream",
     "text": [
      "Epoch 1: CE 0.319624, acc 0.906754:  75%|██████████████████████████████████████████████████████████████████████████████████████████████████████▍                                 | 602/799 [00:48<00:16, 12.11it/s]"
     ]
    },
    {
     "name": "stdout",
     "output_type": "stream",
     "text": [
      "EarlyStopping counter: 3 out of 10000\n"
     ]
    },
    {
     "name": "stderr",
     "output_type": "stream",
     "text": [
      "Epoch 1: CE 0.319587, acc 0.906631: 100%|████████████████████████████████████████████████████████████████████████████████████████████████████████████████████████████████████████| 799/799 [01:04<00:00, 12.30it/s]\n",
      "Epoch 1: CE 0.288477, acc 0.914358:   0%|▎                                                                                                                                         | 2/799 [00:00<01:07, 11.82it/s]"
     ]
    },
    {
     "name": "stdout",
     "output_type": "stream",
     "text": [
      "EarlyStopping counter: 4 out of 10000\n"
     ]
    },
    {
     "name": "stderr",
     "output_type": "stream",
     "text": [
      "Epoch 1: CE 0.325166, acc 0.905602:  25%|██████████████████████████████████▍                                                                                                     | 202/799 [00:16<00:49, 11.98it/s]"
     ]
    },
    {
     "name": "stdout",
     "output_type": "stream",
     "text": [
      "EarlyStopping counter: 5 out of 10000\n"
     ]
    },
    {
     "name": "stderr",
     "output_type": "stream",
     "text": [
      "Epoch 1: CE 0.324004, acc 0.905703:  50%|████████████████████████████████████████████████████████████████████▍                                                                   | 402/799 [00:32<00:31, 12.43it/s]"
     ]
    },
    {
     "name": "stdout",
     "output_type": "stream",
     "text": [
      "EarlyStopping counter: 6 out of 10000\n",
      "Epoch   123: reducing learning rate of group 0 to 1.9945e-03.\n"
     ]
    },
    {
     "name": "stderr",
     "output_type": "stream",
     "text": [
      "Epoch 1: CE 0.319447, acc 0.906640:  75%|██████████████████████████████████████████████████████████████████████████████████████████████████████▍                                 | 602/799 [00:49<00:15, 12.78it/s]"
     ]
    },
    {
     "name": "stdout",
     "output_type": "stream",
     "text": [
      "EarlyStopping counter: 7 out of 10000\n"
     ]
    },
    {
     "name": "stderr",
     "output_type": "stream",
     "text": [
      "Epoch 1: CE 0.317894, acc 0.907016: 100%|████████████████████████████████████████████████████████████████████████████████████████████████████████████████████████████████████████| 799/799 [01:05<00:00, 12.29it/s]\n",
      "Epoch 1: CE 0.343912, acc 0.901257:   0%|▎                                                                                                                                         | 2/799 [00:00<01:01, 12.88it/s]"
     ]
    },
    {
     "name": "stdout",
     "output_type": "stream",
     "text": [
      "EarlyStopping counter: 8 out of 10000\n"
     ]
    },
    {
     "name": "stderr",
     "output_type": "stream",
     "text": [
      "Epoch 1: CE 0.323353, acc 0.906339:  25%|██████████████████████████████████▍                                                                                                     | 202/799 [00:16<00:48, 12.34it/s]"
     ]
    },
    {
     "name": "stdout",
     "output_type": "stream",
     "text": [
      "EarlyStopping counter: 9 out of 10000\n"
     ]
    },
    {
     "name": "stderr",
     "output_type": "stream",
     "text": [
      "Epoch 1: CE 0.317113, acc 0.907492:  50%|████████████████████████████████████████████████████████████████████▍                                                                   | 402/799 [00:32<00:30, 12.92it/s]"
     ]
    },
    {
     "name": "stdout",
     "output_type": "stream",
     "text": [
      "EarlyStopping counter: 10 out of 10000\n"
     ]
    },
    {
     "name": "stderr",
     "output_type": "stream",
     "text": [
      "Epoch 1: CE 0.318592, acc 0.907113:  75%|██████████████████████████████████████████████████████████████████████████████████████████████████████▍                                 | 602/799 [00:49<00:14, 13.19it/s]"
     ]
    },
    {
     "name": "stdout",
     "output_type": "stream",
     "text": [
      "EarlyStopping counter: 11 out of 10000\n"
     ]
    },
    {
     "name": "stderr",
     "output_type": "stream",
     "text": [
      "Epoch 1: CE 0.318262, acc 0.907069: 100%|████████████████████████████████████████████████████████████████████████████████████████████████████████████████████████████████████████| 799/799 [01:05<00:00, 12.25it/s]\n",
      "Epoch 1: CE 0.318776, acc 0.907121:  25%|██████████████████████████████████▍                                                                                                     | 202/799 [00:16<00:53, 11.20it/s]"
     ]
    },
    {
     "name": "stdout",
     "output_type": "stream",
     "text": [
      "EarlyStopping counter: 1 out of 10000\n"
     ]
    },
    {
     "name": "stderr",
     "output_type": "stream",
     "text": [
      "Epoch 1: CE 0.315508, acc 0.907458:  50%|████████████████████████████████████████████████████████████████████▍                                                                   | 402/799 [00:33<00:33, 11.86it/s]"
     ]
    },
    {
     "name": "stdout",
     "output_type": "stream",
     "text": [
      "EarlyStopping counter: 2 out of 10000\n"
     ]
    },
    {
     "name": "stderr",
     "output_type": "stream",
     "text": [
      "Epoch 1: CE 0.314506, acc 0.907819:  75%|██████████████████████████████████████████████████████████████████████████████████████████████████████▍                                 | 602/799 [00:49<00:16, 12.12it/s]"
     ]
    },
    {
     "name": "stdout",
     "output_type": "stream",
     "text": [
      "EarlyStopping counter: 3 out of 10000\n"
     ]
    },
    {
     "name": "stderr",
     "output_type": "stream",
     "text": [
      "Epoch 1: CE 0.314081, acc 0.908020: 100%|████████████████████████████████████████████████████████████████████████████████████████████████████████████████████████████████████████| 799/799 [01:05<00:00, 12.15it/s]\n",
      "Epoch 1: CE 0.297118, acc 0.915485:   0%|▌                                                                                                                                         | 3/799 [00:00<01:11, 11.16it/s]"
     ]
    },
    {
     "name": "stdout",
     "output_type": "stream",
     "text": [
      "EarlyStopping counter: 4 out of 10000\n"
     ]
    },
    {
     "name": "stderr",
     "output_type": "stream",
     "text": [
      "Epoch 1: CE 0.321267, acc 0.905324:  25%|██████████████████████████████████▌                                                                                                     | 203/799 [00:16<00:44, 13.45it/s]"
     ]
    },
    {
     "name": "stdout",
     "output_type": "stream",
     "text": [
      "EarlyStopping counter: 5 out of 10000\n"
     ]
    },
    {
     "name": "stderr",
     "output_type": "stream",
     "text": [
      "Epoch 1: CE 0.315485, acc 0.907153:  50%|████████████████████████████████████████████████████████████████████▌                                                                   | 403/799 [00:32<00:30, 13.13it/s]"
     ]
    },
    {
     "name": "stdout",
     "output_type": "stream",
     "text": [
      "EarlyStopping counter: 6 out of 10000\n",
      "Epoch   135: reducing learning rate of group 0 to 1.9147e-03.\n"
     ]
    },
    {
     "name": "stderr",
     "output_type": "stream",
     "text": [
      "Epoch 1: CE 0.314385, acc 0.907524:  75%|██████████████████████████████████████████████████████████████████████████████████████████████████████▋                                 | 603/799 [00:49<00:15, 13.07it/s]"
     ]
    },
    {
     "name": "stdout",
     "output_type": "stream",
     "text": [
      "EarlyStopping counter: 7 out of 10000\n"
     ]
    },
    {
     "name": "stderr",
     "output_type": "stream",
     "text": [
      "Epoch 1: CE 0.312700, acc 0.908032: 100%|████████████████████████████████████████████████████████████████████████████████████████████████████████████████████████████████████████| 799/799 [01:04<00:00, 12.32it/s]\n",
      "Epoch 1: CE 0.295049, acc 0.921043:   0%|▎                                                                                                                                         | 2/799 [00:00<01:00, 13.12it/s]"
     ]
    },
    {
     "name": "stdout",
     "output_type": "stream",
     "text": [
      "EarlyStopping counter: 8 out of 10000\n"
     ]
    },
    {
     "name": "stderr",
     "output_type": "stream",
     "text": [
      "Epoch 1: CE 0.310946, acc 0.909043:  25%|██████████████████████████████████▍                                                                                                     | 202/799 [00:16<00:49, 11.98it/s]"
     ]
    },
    {
     "name": "stdout",
     "output_type": "stream",
     "text": [
      "EarlyStopping counter: 9 out of 10000\n"
     ]
    },
    {
     "name": "stderr",
     "output_type": "stream",
     "text": [
      "Epoch 1: CE 0.310094, acc 0.909065:  50%|████████████████████████████████████████████████████████████████████▍                                                                   | 402/799 [00:33<00:30, 13.16it/s]"
     ]
    },
    {
     "name": "stdout",
     "output_type": "stream",
     "text": [
      "EarlyStopping counter: 10 out of 10000\n"
     ]
    },
    {
     "name": "stderr",
     "output_type": "stream",
     "text": [
      "Epoch 1: CE 0.308143, acc 0.909690:  75%|██████████████████████████████████████████████████████████████████████████████████████████████████████▍                                 | 602/799 [00:49<00:15, 12.53it/s]"
     ]
    },
    {
     "name": "stdout",
     "output_type": "stream",
     "text": [
      "EarlyStopping counter: 11 out of 10000\n"
     ]
    },
    {
     "name": "stderr",
     "output_type": "stream",
     "text": [
      "Epoch 1: CE 0.310304, acc 0.909157: 100%|████████████████████████████████████████████████████████████████████████████████████████████████████████████████████████████████████████| 799/799 [01:05<00:00, 12.18it/s]\n",
      "Epoch 1: CE 0.361675, acc 0.898915:   0%|▎                                                                                                                                         | 2/799 [00:00<01:13, 10.86it/s]"
     ]
    },
    {
     "name": "stdout",
     "output_type": "stream",
     "text": [
      "EarlyStopping counter: 12 out of 10000\n",
      "Epoch   141: reducing learning rate of group 0 to 1.8381e-03.\n"
     ]
    },
    {
     "name": "stderr",
     "output_type": "stream",
     "text": [
      "Epoch 1: CE 0.310609, acc 0.908479:  25%|██████████████████████████████████▍                                                                                                     | 202/799 [00:16<00:49, 12.09it/s]"
     ]
    },
    {
     "name": "stdout",
     "output_type": "stream",
     "text": [
      "EarlyStopping counter: 13 out of 10000\n"
     ]
    },
    {
     "name": "stderr",
     "output_type": "stream",
     "text": [
      "Epoch 1: CE 0.309542, acc 0.908751:  50%|████████████████████████████████████████████████████████████████████▍                                                                   | 402/799 [00:33<00:32, 12.39it/s]"
     ]
    },
    {
     "name": "stdout",
     "output_type": "stream",
     "text": [
      "EarlyStopping counter: 14 out of 10000\n"
     ]
    },
    {
     "name": "stderr",
     "output_type": "stream",
     "text": [
      "Epoch 1: CE 0.312340, acc 0.908391:  75%|██████████████████████████████████████████████████████████████████████████████████████████████████████▍                                 | 602/799 [00:50<00:21,  9.19it/s]"
     ]
    },
    {
     "name": "stdout",
     "output_type": "stream",
     "text": [
      "EarlyStopping counter: 15 out of 10000\n"
     ]
    },
    {
     "name": "stderr",
     "output_type": "stream",
     "text": [
      "Epoch 1: CE 0.310367, acc 0.908799: 100%|████████████████████████████████████████████████████████████████████████████████████████████████████████████████████████████████████████| 799/799 [01:06<00:00, 12.06it/s]\n",
      "Epoch 1: CE 0.347452, acc 0.903217:   0%|▌                                                                                                                                         | 3/799 [00:00<01:10, 11.35it/s]"
     ]
    },
    {
     "name": "stdout",
     "output_type": "stream",
     "text": [
      "EarlyStopping counter: 16 out of 10000\n"
     ]
    },
    {
     "name": "stderr",
     "output_type": "stream",
     "text": [
      "Epoch 1: CE 0.305933, acc 0.910557:  25%|██████████████████████████████████▌                                                                                                     | 203/799 [00:16<00:49, 12.14it/s]"
     ]
    },
    {
     "name": "stdout",
     "output_type": "stream",
     "text": [
      "EarlyStopping counter: 17 out of 10000\n"
     ]
    },
    {
     "name": "stderr",
     "output_type": "stream",
     "text": [
      "Epoch 1: CE 0.305739, acc 0.910302:  50%|████████████████████████████████████████████████████████████████████▌                                                                   | 403/799 [00:32<00:30, 12.97it/s]"
     ]
    },
    {
     "name": "stdout",
     "output_type": "stream",
     "text": [
      "EarlyStopping counter: 18 out of 10000\n",
      "Epoch   147: reducing learning rate of group 0 to 1.7646e-03.\n"
     ]
    },
    {
     "name": "stderr",
     "output_type": "stream",
     "text": [
      "Epoch 1: CE 0.307531, acc 0.909837:  75%|██████████████████████████████████████████████████████████████████████████████████████████████████████▋                                 | 603/799 [00:49<00:16, 11.91it/s]"
     ]
    },
    {
     "name": "stdout",
     "output_type": "stream",
     "text": [
      "EarlyStopping counter: 19 out of 10000\n"
     ]
    },
    {
     "name": "stderr",
     "output_type": "stream",
     "text": [
      "Epoch 1: CE 0.306854, acc 0.910117: 100%|████████████████████████████████████████████████████████████████████████████████████████████████████████████████████████████████████████| 799/799 [01:06<00:00, 12.10it/s]\n",
      "Epoch 1: CE 0.299709, acc 0.912051:   0%|▎                                                                                                                                         | 2/799 [00:00<01:03, 12.56it/s]"
     ]
    },
    {
     "name": "stdout",
     "output_type": "stream",
     "text": [
      "EarlyStopping counter: 20 out of 10000\n"
     ]
    },
    {
     "name": "stderr",
     "output_type": "stream",
     "text": [
      "Epoch 1: CE 0.301285, acc 0.910832:  25%|██████████████████████████████████▍                                                                                                     | 202/799 [00:16<00:47, 12.62it/s]"
     ]
    },
    {
     "name": "stdout",
     "output_type": "stream",
     "text": [
      "EarlyStopping counter: 21 out of 10000\n"
     ]
    },
    {
     "name": "stderr",
     "output_type": "stream",
     "text": [
      "Epoch 1: CE 0.304383, acc 0.910151:  50%|████████████████████████████████████████████████████████████████████▍                                                                   | 402/799 [00:32<00:32, 12.24it/s]"
     ]
    },
    {
     "name": "stdout",
     "output_type": "stream",
     "text": [
      "EarlyStopping counter: 22 out of 10000\n"
     ]
    },
    {
     "name": "stderr",
     "output_type": "stream",
     "text": [
      "Epoch 1: CE 0.304465, acc 0.910329:  75%|██████████████████████████████████████████████████████████████████████████████████████████████████████▍                                 | 602/799 [00:49<00:15, 12.93it/s]"
     ]
    },
    {
     "name": "stdout",
     "output_type": "stream",
     "text": [
      "EarlyStopping counter: 23 out of 10000\n"
     ]
    },
    {
     "name": "stderr",
     "output_type": "stream",
     "text": [
      "Epoch 1: CE 0.306079, acc 0.910107: 100%|████████████████████████████████████████████████████████████████████████████████████████████████████████████████████████████████████████| 799/799 [01:05<00:00, 12.15it/s]\n",
      "Epoch 1: CE 0.304154, acc 0.911575:  25%|██████████████████████████████████▍                                                                                                     | 202/799 [00:16<00:46, 12.98it/s]"
     ]
    },
    {
     "name": "stdout",
     "output_type": "stream",
     "text": [
      "EarlyStopping counter: 1 out of 10000\n"
     ]
    },
    {
     "name": "stderr",
     "output_type": "stream",
     "text": [
      "Epoch 1: CE 0.305637, acc 0.910608:  50%|████████████████████████████████████████████████████████████████████▍                                                                   | 402/799 [00:33<00:33, 11.88it/s]"
     ]
    },
    {
     "name": "stdout",
     "output_type": "stream",
     "text": [
      "EarlyStopping counter: 2 out of 10000\n"
     ]
    },
    {
     "name": "stderr",
     "output_type": "stream",
     "text": [
      "Epoch 1: CE 0.305001, acc 0.910758:  75%|██████████████████████████████████████████████████████████████████████████████████████████████████████▍                                 | 602/799 [00:50<00:15, 12.47it/s]"
     ]
    },
    {
     "name": "stdout",
     "output_type": "stream",
     "text": [
      "EarlyStopping counter: 3 out of 10000\n"
     ]
    },
    {
     "name": "stderr",
     "output_type": "stream",
     "text": [
      "Epoch 1: CE 0.305178, acc 0.910842: 100%|████████████████████████████████████████████████████████████████████████████████████████████████████████████████████████████████████████| 799/799 [01:07<00:00, 11.90it/s]\n",
      "Epoch 1: CE 0.286261, acc 0.912901:   0%|▎                                                                                                                                         | 2/799 [00:00<01:05, 12.10it/s]"
     ]
    },
    {
     "name": "stdout",
     "output_type": "stream",
     "text": [
      "EarlyStopping counter: 4 out of 10000\n"
     ]
    },
    {
     "name": "stderr",
     "output_type": "stream",
     "text": [
      "Epoch 1: CE 0.302320, acc 0.910793:  25%|██████████████████████████████████▍                                                                                                     | 202/799 [00:16<00:50, 11.90it/s]"
     ]
    },
    {
     "name": "stdout",
     "output_type": "stream",
     "text": [
      "EarlyStopping counter: 5 out of 10000\n"
     ]
    },
    {
     "name": "stderr",
     "output_type": "stream",
     "text": [
      "Epoch 1: CE 0.300382, acc 0.911627:  50%|████████████████████████████████████████████████████████████████████▍                                                                   | 402/799 [00:32<00:30, 12.84it/s]"
     ]
    },
    {
     "name": "stdout",
     "output_type": "stream",
     "text": [
      "EarlyStopping counter: 6 out of 10000\n",
      "Epoch   159: reducing learning rate of group 0 to 1.6940e-03.\n"
     ]
    },
    {
     "name": "stderr",
     "output_type": "stream",
     "text": [
      "Epoch 1: CE 0.302306, acc 0.911116:  75%|██████████████████████████████████████████████████████████████████████████████████████████████████████▍                                 | 602/799 [00:49<00:20,  9.53it/s]"
     ]
    },
    {
     "name": "stdout",
     "output_type": "stream",
     "text": [
      "EarlyStopping counter: 7 out of 10000\n"
     ]
    },
    {
     "name": "stderr",
     "output_type": "stream",
     "text": [
      "Epoch 1: CE 0.303539, acc 0.910880: 100%|████████████████████████████████████████████████████████████████████████████████████████████████████████████████████████████████████████| 799/799 [01:05<00:00, 12.16it/s]\n",
      "Epoch 1: CE 0.301233, acc 0.911178:  25%|██████████████████████████████████▍                                                                                                     | 202/799 [00:16<00:48, 12.37it/s]"
     ]
    },
    {
     "name": "stdout",
     "output_type": "stream",
     "text": [
      "EarlyStopping counter: 1 out of 10000\n"
     ]
    },
    {
     "name": "stderr",
     "output_type": "stream",
     "text": [
      "Epoch 1: CE 0.300206, acc 0.911526:  50%|████████████████████████████████████████████████████████████████████▍                                                                   | 402/799 [00:33<00:30, 12.86it/s]"
     ]
    },
    {
     "name": "stdout",
     "output_type": "stream",
     "text": [
      "EarlyStopping counter: 2 out of 10000\n"
     ]
    },
    {
     "name": "stderr",
     "output_type": "stream",
     "text": [
      "Epoch 1: CE 0.303162, acc 0.911028:  75%|██████████████████████████████████████████████████████████████████████████████████████████████████████▍                                 | 602/799 [00:49<00:16, 12.10it/s]"
     ]
    },
    {
     "name": "stdout",
     "output_type": "stream",
     "text": [
      "EarlyStopping counter: 3 out of 10000\n"
     ]
    },
    {
     "name": "stderr",
     "output_type": "stream",
     "text": [
      "Epoch 1: CE 0.303725, acc 0.910736: 100%|████████████████████████████████████████████████████████████████████████████████████████████████████████████████████████████████████████| 799/799 [01:05<00:00, 12.18it/s]\n",
      "Epoch 1: CE 0.305672, acc 0.907047:   0%|▎                                                                                                                                         | 2/799 [00:00<01:03, 12.52it/s]"
     ]
    },
    {
     "name": "stdout",
     "output_type": "stream",
     "text": [
      "EarlyStopping counter: 4 out of 10000\n"
     ]
    },
    {
     "name": "stderr",
     "output_type": "stream",
     "text": [
      "Epoch 1: CE 0.307189, acc 0.910337:  25%|██████████████████████████████████▍                                                                                                     | 202/799 [00:16<00:49, 12.00it/s]"
     ]
    },
    {
     "name": "stdout",
     "output_type": "stream",
     "text": [
      "EarlyStopping counter: 5 out of 10000\n"
     ]
    },
    {
     "name": "stderr",
     "output_type": "stream",
     "text": [
      "Epoch 1: CE 0.305828, acc 0.910329:  50%|████████████████████████████████████████████████████████████████████▍                                                                   | 402/799 [00:33<00:30, 12.96it/s]"
     ]
    },
    {
     "name": "stdout",
     "output_type": "stream",
     "text": [
      "EarlyStopping counter: 6 out of 10000\n",
      "Epoch   167: reducing learning rate of group 0 to 1.6263e-03.\n"
     ]
    },
    {
     "name": "stderr",
     "output_type": "stream",
     "text": [
      "Epoch 1: CE 0.304441, acc 0.910698:  75%|██████████████████████████████████████████████████████████████████████████████████████████████████████▍                                 | 602/799 [00:49<00:15, 12.55it/s]"
     ]
    },
    {
     "name": "stdout",
     "output_type": "stream",
     "text": [
      "EarlyStopping counter: 7 out of 10000\n"
     ]
    },
    {
     "name": "stderr",
     "output_type": "stream",
     "text": [
      "Epoch 1: CE 0.303043, acc 0.911319: 100%|████████████████████████████████████████████████████████████████████████████████████████████████████████████████████████████████████████| 799/799 [01:06<00:00, 12.07it/s]\n",
      "Epoch 1: CE 0.271228, acc 0.916245:   0%|▎                                                                                                                                         | 2/799 [00:00<01:02, 12.72it/s]"
     ]
    },
    {
     "name": "stdout",
     "output_type": "stream",
     "text": [
      "EarlyStopping counter: 8 out of 10000\n"
     ]
    },
    {
     "name": "stderr",
     "output_type": "stream",
     "text": [
      "Epoch 1: CE 0.297895, acc 0.912475:  25%|██████████████████████████████████▍                                                                                                     | 202/799 [00:17<01:13,  8.13it/s]"
     ]
    },
    {
     "name": "stdout",
     "output_type": "stream",
     "text": [
      "EarlyStopping counter: 9 out of 10000\n"
     ]
    },
    {
     "name": "stderr",
     "output_type": "stream",
     "text": [
      "Epoch 1: CE 0.298198, acc 0.912340:  50%|████████████████████████████████████████████████████████████████████▍                                                                   | 402/799 [00:33<00:31, 12.77it/s]"
     ]
    },
    {
     "name": "stdout",
     "output_type": "stream",
     "text": [
      "EarlyStopping counter: 10 out of 10000\n"
     ]
    },
    {
     "name": "stderr",
     "output_type": "stream",
     "text": [
      "Epoch 1: CE 0.298502, acc 0.912147:  75%|██████████████████████████████████████████████████████████████████████████████████████████████████████▍                                 | 602/799 [00:50<00:15, 12.45it/s]"
     ]
    },
    {
     "name": "stdout",
     "output_type": "stream",
     "text": [
      "EarlyStopping counter: 11 out of 10000\n"
     ]
    },
    {
     "name": "stderr",
     "output_type": "stream",
     "text": [
      "Epoch 1: CE 0.298919, acc 0.912110: 100%|████████████████████████████████████████████████████████████████████████████████████████████████████████████████████████████████████████| 799/799 [01:06<00:00, 11.97it/s]\n",
      "Epoch 1: CE 0.341212, acc 0.901393:   0%|▎                                                                                                                                         | 2/799 [00:00<01:02, 12.70it/s]"
     ]
    },
    {
     "name": "stdout",
     "output_type": "stream",
     "text": [
      "EarlyStopping counter: 12 out of 10000\n",
      "Epoch   173: reducing learning rate of group 0 to 1.5612e-03.\n"
     ]
    },
    {
     "name": "stderr",
     "output_type": "stream",
     "text": [
      "Epoch 1: CE 0.291191, acc 0.914004:  25%|██████████████████████████████████▍                                                                                                     | 202/799 [00:17<00:50, 11.86it/s]"
     ]
    },
    {
     "name": "stdout",
     "output_type": "stream",
     "text": [
      "EarlyStopping counter: 13 out of 10000\n"
     ]
    },
    {
     "name": "stderr",
     "output_type": "stream",
     "text": [
      "Epoch 1: CE 0.293928, acc 0.913682:  50%|████████████████████████████████████████████████████████████████████▍                                                                   | 402/799 [00:33<00:31, 12.63it/s]"
     ]
    },
    {
     "name": "stdout",
     "output_type": "stream",
     "text": [
      "EarlyStopping counter: 14 out of 10000\n"
     ]
    },
    {
     "name": "stderr",
     "output_type": "stream",
     "text": [
      "Epoch 1: CE 0.294988, acc 0.913306:  75%|██████████████████████████████████████████████████████████████████████████████████████████████████████▍                                 | 602/799 [00:50<00:17, 11.45it/s]"
     ]
    },
    {
     "name": "stdout",
     "output_type": "stream",
     "text": [
      "EarlyStopping counter: 15 out of 10000\n"
     ]
    },
    {
     "name": "stderr",
     "output_type": "stream",
     "text": [
      "Epoch 1: CE 0.294914, acc 0.913296: 100%|████████████████████████████████████████████████████████████████████████████████████████████████████████████████████████████████████████| 799/799 [01:06<00:00, 11.96it/s]\n",
      "Epoch 1: CE 0.325006, acc 0.905733:   0%|▎                                                                                                                                         | 2/799 [00:00<01:00, 13.10it/s]"
     ]
    },
    {
     "name": "stdout",
     "output_type": "stream",
     "text": [
      "EarlyStopping counter: 16 out of 10000\n"
     ]
    },
    {
     "name": "stderr",
     "output_type": "stream",
     "text": [
      "Epoch 1: CE 0.295698, acc 0.913453:  25%|██████████████████████████████████▍                                                                                                     | 202/799 [00:16<00:48, 12.35it/s]"
     ]
    },
    {
     "name": "stdout",
     "output_type": "stream",
     "text": [
      "EarlyStopping counter: 17 out of 10000\n"
     ]
    },
    {
     "name": "stderr",
     "output_type": "stream",
     "text": [
      "Epoch 1: CE 0.296515, acc 0.912959:  50%|████████████████████████████████████████████████████████████████████▍                                                                   | 402/799 [00:33<00:31, 12.65it/s]"
     ]
    },
    {
     "name": "stdout",
     "output_type": "stream",
     "text": [
      "EarlyStopping counter: 18 out of 10000\n",
      "Epoch   179: reducing learning rate of group 0 to 1.4988e-03.\n"
     ]
    },
    {
     "name": "stderr",
     "output_type": "stream",
     "text": [
      "Epoch 1: CE 0.294115, acc 0.913649:  75%|██████████████████████████████████████████████████████████████████████████████████████████████████████▍                                 | 602/799 [00:49<00:16, 11.88it/s]"
     ]
    },
    {
     "name": "stdout",
     "output_type": "stream",
     "text": [
      "EarlyStopping counter: 19 out of 10000\n"
     ]
    },
    {
     "name": "stderr",
     "output_type": "stream",
     "text": [
      "Epoch 1: CE 0.293592, acc 0.913773: 100%|████████████████████████████████████████████████████████████████████████████████████████████████████████████████████████████████████████| 799/799 [01:05<00:00, 12.17it/s]\n",
      "Epoch 1: CE 0.287965, acc 0.912713:   0%|▎                                                                                                                                         | 2/799 [00:00<01:04, 12.29it/s]"
     ]
    },
    {
     "name": "stdout",
     "output_type": "stream",
     "text": [
      "EarlyStopping counter: 20 out of 10000\n"
     ]
    },
    {
     "name": "stderr",
     "output_type": "stream",
     "text": [
      "Epoch 1: CE 0.293508, acc 0.913709:  25%|██████████████████████████████████▍                                                                                                     | 202/799 [00:16<00:48, 12.29it/s]"
     ]
    },
    {
     "name": "stdout",
     "output_type": "stream",
     "text": [
      "EarlyStopping counter: 21 out of 10000\n"
     ]
    },
    {
     "name": "stderr",
     "output_type": "stream",
     "text": [
      "Epoch 1: CE 0.295355, acc 0.913234:  50%|████████████████████████████████████████████████████████████████████▍                                                                   | 402/799 [00:33<00:30, 12.83it/s]"
     ]
    },
    {
     "name": "stdout",
     "output_type": "stream",
     "text": [
      "EarlyStopping counter: 22 out of 10000\n"
     ]
    },
    {
     "name": "stderr",
     "output_type": "stream",
     "text": [
      "Epoch 1: CE 0.293845, acc 0.913671:  75%|██████████████████████████████████████████████████████████████████████████████████████████████████████▍                                 | 602/799 [00:50<00:20,  9.59it/s]"
     ]
    },
    {
     "name": "stdout",
     "output_type": "stream",
     "text": [
      "EarlyStopping counter: 23 out of 10000\n"
     ]
    },
    {
     "name": "stderr",
     "output_type": "stream",
     "text": [
      "Epoch 1: CE 0.294463, acc 0.913575: 100%|████████████████████████████████████████████████████████████████████████████████████████████████████████████████████████████████████████| 799/799 [01:11<00:00, 11.20it/s]\n",
      "Epoch 1: CE 0.291305, acc 0.914305:  25%|██████████████████████████████████▍                                                                                                     | 202/799 [00:21<01:06,  8.96it/s]"
     ]
    },
    {
     "name": "stdout",
     "output_type": "stream",
     "text": [
      "EarlyStopping counter: 1 out of 10000\n"
     ]
    },
    {
     "name": "stderr",
     "output_type": "stream",
     "text": [
      "Epoch 1: CE 0.293697, acc 0.913823:  50%|████████████████████████████████████████████████████████████████████▌                                                                   | 403/799 [00:42<00:37, 10.58it/s]"
     ]
    },
    {
     "name": "stdout",
     "output_type": "stream",
     "text": [
      "EarlyStopping counter: 2 out of 10000\n"
     ]
    },
    {
     "name": "stderr",
     "output_type": "stream",
     "text": [
      "Epoch 1: CE 0.296565, acc 0.913240:  75%|██████████████████████████████████████████████████████████████████████████████████████████████████████▍                                 | 602/799 [01:02<00:19, 10.08it/s]"
     ]
    },
    {
     "name": "stdout",
     "output_type": "stream",
     "text": [
      "EarlyStopping counter: 3 out of 10000\n"
     ]
    },
    {
     "name": "stderr",
     "output_type": "stream",
     "text": [
      "Epoch 1: CE 0.296153, acc 0.913284: 100%|████████████████████████████████████████████████████████████████████████████████████████████████████████████████████████████████████████| 799/799 [01:23<00:00,  9.58it/s]\n",
      "Epoch 1: CE 0.327529, acc 0.905411:   0%|▎                                                                                                                                         | 2/799 [00:00<01:45,  7.53it/s]"
     ]
    },
    {
     "name": "stdout",
     "output_type": "stream",
     "text": [
      "EarlyStopping counter: 4 out of 10000\n"
     ]
    },
    {
     "name": "stderr",
     "output_type": "stream",
     "text": [
      "Epoch 1: CE 0.294824, acc 0.913885:  25%|██████████████████████████████████▍                                                                                                     | 202/799 [00:21<00:50, 11.86it/s]"
     ]
    },
    {
     "name": "stdout",
     "output_type": "stream",
     "text": [
      "EarlyStopping counter: 5 out of 10000\n"
     ]
    },
    {
     "name": "stderr",
     "output_type": "stream",
     "text": [
      "Epoch 1: CE 0.291182, acc 0.914474:  50%|████████████████████████████████████████████████████████████████████▎                                                                   | 401/799 [00:42<00:39, 10.17it/s]"
     ]
    },
    {
     "name": "stdout",
     "output_type": "stream",
     "text": [
      "EarlyStopping counter: 6 out of 10000\n",
      "Epoch   191: reducing learning rate of group 0 to 1.4388e-03.\n"
     ]
    },
    {
     "name": "stderr",
     "output_type": "stream",
     "text": [
      "Epoch 1: CE 0.292291, acc 0.914331:  75%|██████████████████████████████████████████████████████████████████████████████████████████████████████▎                                 | 601/799 [01:03<00:19, 10.13it/s]"
     ]
    },
    {
     "name": "stdout",
     "output_type": "stream",
     "text": [
      "EarlyStopping counter: 7 out of 10000\n"
     ]
    },
    {
     "name": "stderr",
     "output_type": "stream",
     "text": [
      "Epoch 1: CE 0.293140, acc 0.914098: 100%|████████████████████████████████████████████████████████████████████████████████████████████████████████████████████████████████████████| 799/799 [01:24<00:00,  9.45it/s]\n",
      "Epoch 1: CE 0.289276, acc 0.914582:  25%|██████████████████████████████████▌                                                                                                     | 203/799 [00:21<01:04,  9.23it/s]"
     ]
    },
    {
     "name": "stdout",
     "output_type": "stream",
     "text": [
      "EarlyStopping counter: 1 out of 10000\n"
     ]
    },
    {
     "name": "stderr",
     "output_type": "stream",
     "text": [
      "Epoch 1: CE 0.290012, acc 0.914660:  50%|████████████████████████████████████████████████████████████████████▎                                                                   | 401/799 [00:42<00:41,  9.56it/s]"
     ]
    },
    {
     "name": "stdout",
     "output_type": "stream",
     "text": [
      "EarlyStopping counter: 2 out of 10000\n"
     ]
    },
    {
     "name": "stderr",
     "output_type": "stream",
     "text": [
      "Epoch 1: CE 0.288864, acc 0.914935:  75%|██████████████████████████████████████████████████████████████████████████████████████████████████████▍                                 | 602/799 [01:03<00:21,  9.34it/s]"
     ]
    },
    {
     "name": "stdout",
     "output_type": "stream",
     "text": [
      "EarlyStopping counter: 3 out of 10000\n"
     ]
    },
    {
     "name": "stderr",
     "output_type": "stream",
     "text": [
      "Epoch 1: CE 0.290553, acc 0.914252: 100%|████████████████████████████████████████████████████████████████████████████████████████████████████████████████████████████████████████| 799/799 [01:23<00:00,  9.52it/s]\n",
      "Epoch 1: CE 0.339846, acc 0.899301:   0%|▎                                                                                                                                         | 2/799 [00:00<01:30,  8.78it/s]"
     ]
    },
    {
     "name": "stdout",
     "output_type": "stream",
     "text": [
      "EarlyStopping counter: 4 out of 10000\n"
     ]
    },
    {
     "name": "stderr",
     "output_type": "stream",
     "text": [
      "Epoch 1: CE 0.295416, acc 0.914173:  25%|██████████████████████████████████▏                                                                                                     | 201/799 [00:21<01:00,  9.88it/s]"
     ]
    },
    {
     "name": "stdout",
     "output_type": "stream",
     "text": [
      "EarlyStopping counter: 5 out of 10000\n"
     ]
    },
    {
     "name": "stderr",
     "output_type": "stream",
     "text": [
      "Epoch 1: CE 0.291211, acc 0.914559:  50%|████████████████████████████████████████████████████████████████████▌                                                                   | 403/799 [00:43<00:43,  9.12it/s]"
     ]
    },
    {
     "name": "stdout",
     "output_type": "stream",
     "text": [
      "EarlyStopping counter: 6 out of 10000\n",
      "Epoch   199: reducing learning rate of group 0 to 1.3813e-03.\n"
     ]
    },
    {
     "name": "stderr",
     "output_type": "stream",
     "text": [
      "Epoch 1: CE 0.291357, acc 0.914292:  75%|██████████████████████████████████████████████████████████████████████████████████████████████████████▍                                 | 602/799 [01:04<00:22,  8.81it/s]"
     ]
    },
    {
     "name": "stdout",
     "output_type": "stream",
     "text": [
      "EarlyStopping counter: 7 out of 10000\n"
     ]
    },
    {
     "name": "stderr",
     "output_type": "stream",
     "text": [
      "Epoch 1: CE 0.290753, acc 0.914450: 100%|████████████████████████████████████████████████████████████████████████████████████████████████████████████████████████████████████████| 799/799 [01:25<00:00,  9.38it/s]\n",
      "Epoch 1: CE 0.340011, acc 0.897845:   0%|▎                                                                                                                                         | 2/799 [00:00<01:44,  7.66it/s]"
     ]
    },
    {
     "name": "stdout",
     "output_type": "stream",
     "text": [
      "EarlyStopping counter: 8 out of 10000\n"
     ]
    },
    {
     "name": "stderr",
     "output_type": "stream",
     "text": [
      "Epoch 1: CE 0.288844, acc 0.914874:  25%|██████████████████████████████████▌                                                                                                     | 203/799 [00:21<01:03,  9.35it/s]"
     ]
    },
    {
     "name": "stdout",
     "output_type": "stream",
     "text": [
      "EarlyStopping counter: 9 out of 10000\n"
     ]
    },
    {
     "name": "stderr",
     "output_type": "stream",
     "text": [
      "Epoch 1: CE 0.289215, acc 0.914623:  50%|████████████████████████████████████████████████████████████████████▍                                                                   | 402/799 [00:43<00:43,  9.16it/s]"
     ]
    },
    {
     "name": "stdout",
     "output_type": "stream",
     "text": [
      "EarlyStopping counter: 10 out of 10000\n"
     ]
    },
    {
     "name": "stderr",
     "output_type": "stream",
     "text": [
      "Epoch 1: CE 0.290468, acc 0.914409:  75%|██████████████████████████████████████████████████████████████████████████████████████████████████████▍                                 | 602/799 [01:04<00:22,  8.62it/s]"
     ]
    },
    {
     "name": "stdout",
     "output_type": "stream",
     "text": [
      "EarlyStopping counter: 11 out of 10000\n"
     ]
    },
    {
     "name": "stderr",
     "output_type": "stream",
     "text": [
      "Epoch 1: CE 0.290676, acc 0.914470: 100%|████████████████████████████████████████████████████████████████████████████████████████████████████████████████████████████████████████| 799/799 [01:25<00:00,  9.34it/s]\n",
      "Epoch 1: CE 0.273925, acc 0.920073:   0%|▌                                                                                                                                         | 3/799 [00:00<01:21,  9.82it/s]"
     ]
    },
    {
     "name": "stdout",
     "output_type": "stream",
     "text": [
      "EarlyStopping counter: 12 out of 10000\n",
      "Epoch   205: reducing learning rate of group 0 to 1.3260e-03.\n"
     ]
    },
    {
     "name": "stderr",
     "output_type": "stream",
     "text": [
      "Epoch 1: CE 0.286179, acc 0.914844:  25%|██████████████████████████████████▍                                                                                                     | 202/799 [00:21<01:08,  8.71it/s]"
     ]
    },
    {
     "name": "stdout",
     "output_type": "stream",
     "text": [
      "EarlyStopping counter: 13 out of 10000\n"
     ]
    },
    {
     "name": "stderr",
     "output_type": "stream",
     "text": [
      "Epoch 1: CE 0.286676, acc 0.915150:  50%|████████████████████████████████████████████████████████████████████▍                                                                   | 402/799 [00:42<00:39,  9.93it/s]"
     ]
    },
    {
     "name": "stdout",
     "output_type": "stream",
     "text": [
      "EarlyStopping counter: 14 out of 10000\n"
     ]
    },
    {
     "name": "stderr",
     "output_type": "stream",
     "text": [
      "Epoch 1: CE 0.287206, acc 0.915194:  75%|██████████████████████████████████████████████████████████████████████████████████████████████████████▍                                 | 602/799 [01:04<00:19,  9.91it/s]"
     ]
    },
    {
     "name": "stdout",
     "output_type": "stream",
     "text": [
      "EarlyStopping counter: 15 out of 10000\n"
     ]
    },
    {
     "name": "stderr",
     "output_type": "stream",
     "text": [
      "Epoch 1: CE 0.288483, acc 0.914896: 100%|████████████████████████████████████████████████████████████████████████████████████████████████████████████████████████████████████████| 799/799 [01:25<00:00,  9.40it/s]\n",
      "Epoch 1: CE 0.330227, acc 0.911903:   0%|▎                                                                                                                                         | 2/799 [00:00<01:28,  9.04it/s]"
     ]
    },
    {
     "name": "stdout",
     "output_type": "stream",
     "text": [
      "EarlyStopping counter: 16 out of 10000\n"
     ]
    },
    {
     "name": "stderr",
     "output_type": "stream",
     "text": [
      "Epoch 1: CE 0.288176, acc 0.915743:  25%|██████████████████████████████████▍                                                                                                     | 202/799 [00:21<01:03,  9.40it/s]"
     ]
    },
    {
     "name": "stdout",
     "output_type": "stream",
     "text": [
      "EarlyStopping counter: 17 out of 10000\n"
     ]
    },
    {
     "name": "stderr",
     "output_type": "stream",
     "text": [
      "Epoch 1: CE 0.285462, acc 0.916575:  50%|████████████████████████████████████████████████████████████████████▍                                                                   | 402/799 [00:43<00:44,  8.92it/s]"
     ]
    },
    {
     "name": "stdout",
     "output_type": "stream",
     "text": [
      "EarlyStopping counter: 18 out of 10000\n",
      "Epoch   211: reducing learning rate of group 0 to 1.2730e-03.\n"
     ]
    },
    {
     "name": "stderr",
     "output_type": "stream",
     "text": [
      "Epoch 1: CE 0.285527, acc 0.916353:  75%|██████████████████████████████████████████████████████████████████████████████████████████████████████▎                                 | 601/799 [01:04<00:18, 10.48it/s]"
     ]
    },
    {
     "name": "stdout",
     "output_type": "stream",
     "text": [
      "EarlyStopping counter: 19 out of 10000\n"
     ]
    },
    {
     "name": "stderr",
     "output_type": "stream",
     "text": [
      "Epoch 1: CE 0.285116, acc 0.916490: 100%|████████████████████████████████████████████████████████████████████████████████████████████████████████████████████████████████████████| 799/799 [01:24<00:00,  9.48it/s]\n",
      "Epoch 1: CE 0.288975, acc 0.914920:  25%|██████████████████████████████████▍                                                                                                     | 202/799 [00:17<00:48, 12.24it/s]"
     ]
    },
    {
     "name": "stdout",
     "output_type": "stream",
     "text": [
      "EarlyStopping counter: 1 out of 10000\n"
     ]
    },
    {
     "name": "stderr",
     "output_type": "stream",
     "text": [
      "Epoch 1: CE 0.287679, acc 0.915292:  50%|████████████████████████████████████████████████████████████████████▍                                                                   | 402/799 [00:34<00:32, 12.40it/s]"
     ]
    },
    {
     "name": "stdout",
     "output_type": "stream",
     "text": [
      "EarlyStopping counter: 2 out of 10000\n"
     ]
    },
    {
     "name": "stderr",
     "output_type": "stream",
     "text": [
      "Epoch 1: CE 0.287947, acc 0.915415:  75%|██████████████████████████████████████████████████████████████████████████████████████████████████████▍                                 | 602/799 [00:50<00:15, 12.48it/s]"
     ]
    },
    {
     "name": "stdout",
     "output_type": "stream",
     "text": [
      "EarlyStopping counter: 3 out of 10000\n"
     ]
    },
    {
     "name": "stderr",
     "output_type": "stream",
     "text": [
      "Epoch 1: CE 0.286688, acc 0.915631: 100%|████████████████████████████████████████████████████████████████████████████████████████████████████████████████████████████████████████| 799/799 [01:07<00:00, 11.90it/s]\n",
      "Epoch 1: CE 0.297651, acc 0.913501:   0%|▎                                                                                                                                         | 2/799 [00:00<01:03, 12.52it/s]"
     ]
    },
    {
     "name": "stdout",
     "output_type": "stream",
     "text": [
      "EarlyStopping counter: 4 out of 10000\n"
     ]
    },
    {
     "name": "stderr",
     "output_type": "stream",
     "text": [
      "Epoch 1: CE 0.290469, acc 0.915501:  25%|██████████████████████████████████▍                                                                                                     | 202/799 [00:21<01:27,  6.84it/s]"
     ]
    },
    {
     "name": "stdout",
     "output_type": "stream",
     "text": [
      "EarlyStopping counter: 5 out of 10000\n"
     ]
    },
    {
     "name": "stderr",
     "output_type": "stream",
     "text": [
      "Epoch 1: CE 0.287005, acc 0.915898:  50%|████████████████████████████████████████████████████████████████████▎                                                                   | 401/799 [00:42<00:44,  8.99it/s]"
     ]
    },
    {
     "name": "stdout",
     "output_type": "stream",
     "text": [
      "EarlyStopping counter: 6 out of 10000\n",
      "Epoch   219: reducing learning rate of group 0 to 1.2220e-03.\n"
     ]
    },
    {
     "name": "stderr",
     "output_type": "stream",
     "text": [
      "Epoch 1: CE 0.282969, acc 0.916897:  75%|██████████████████████████████████████████████████████████████████████████████████████████████████████▍                                 | 602/799 [01:03<00:20,  9.68it/s]"
     ]
    },
    {
     "name": "stdout",
     "output_type": "stream",
     "text": [
      "EarlyStopping counter: 7 out of 10000\n"
     ]
    },
    {
     "name": "stderr",
     "output_type": "stream",
     "text": [
      "Epoch 1: CE 0.283623, acc 0.916822: 100%|████████████████████████████████████████████████████████████████████████████████████████████████████████████████████████████████████████| 799/799 [01:24<00:00,  9.51it/s]\n",
      "Epoch 1: CE 0.288487, acc 0.912071:   0%|▌                                                                                                                                         | 3/799 [00:00<01:21,  9.77it/s]"
     ]
    },
    {
     "name": "stdout",
     "output_type": "stream",
     "text": [
      "EarlyStopping counter: 8 out of 10000\n"
     ]
    },
    {
     "name": "stderr",
     "output_type": "stream",
     "text": [
      "Epoch 1: CE 0.283487, acc 0.916538:  25%|██████████████████████████████████▍                                                                                                     | 202/799 [00:21<01:03,  9.45it/s]"
     ]
    },
    {
     "name": "stdout",
     "output_type": "stream",
     "text": [
      "EarlyStopping counter: 9 out of 10000\n"
     ]
    },
    {
     "name": "stderr",
     "output_type": "stream",
     "text": [
      "Epoch 1: CE 0.282095, acc 0.916987:  50%|████████████████████████████████████████████████████████████████████▌                                                                   | 403/799 [00:42<00:37, 10.46it/s]"
     ]
    },
    {
     "name": "stdout",
     "output_type": "stream",
     "text": [
      "EarlyStopping counter: 10 out of 10000\n"
     ]
    },
    {
     "name": "stderr",
     "output_type": "stream",
     "text": [
      "Epoch 1: CE 0.282158, acc 0.917025:  75%|██████████████████████████████████████████████████████████████████████████████████████████████████████▍                                 | 602/799 [01:02<00:20,  9.53it/s]"
     ]
    },
    {
     "name": "stdout",
     "output_type": "stream",
     "text": [
      "EarlyStopping counter: 11 out of 10000\n"
     ]
    },
    {
     "name": "stderr",
     "output_type": "stream",
     "text": [
      "Epoch 1: CE 0.282086, acc 0.916933: 100%|████████████████████████████████████████████████████████████████████████████████████████████████████████████████████████████████████████| 799/799 [01:23<00:00,  9.57it/s]\n",
      "Epoch 1: CE 0.230368, acc 0.930718:   0%|▎                                                                                                                                         | 2/799 [00:00<01:27,  9.10it/s]"
     ]
    },
    {
     "name": "stdout",
     "output_type": "stream",
     "text": [
      "EarlyStopping counter: 12 out of 10000\n",
      "Epoch   225: reducing learning rate of group 0 to 1.1732e-03.\n"
     ]
    },
    {
     "name": "stderr",
     "output_type": "stream",
     "text": [
      "Epoch 1: CE 0.289173, acc 0.915934:  25%|██████████████████████████████████▍                                                                                                     | 202/799 [00:21<01:03,  9.34it/s]"
     ]
    },
    {
     "name": "stdout",
     "output_type": "stream",
     "text": [
      "EarlyStopping counter: 13 out of 10000\n"
     ]
    },
    {
     "name": "stderr",
     "output_type": "stream",
     "text": [
      "Epoch 1: CE 0.286103, acc 0.916360:  50%|████████████████████████████████████████████████████████████████████▌                                                                   | 403/799 [00:42<00:38, 10.33it/s]"
     ]
    },
    {
     "name": "stdout",
     "output_type": "stream",
     "text": [
      "EarlyStopping counter: 14 out of 10000\n"
     ]
    },
    {
     "name": "stderr",
     "output_type": "stream",
     "text": [
      "Epoch 1: CE 0.283934, acc 0.916945:  75%|██████████████████████████████████████████████████████████████████████████████████████████████████████▋                                 | 603/799 [01:03<00:20,  9.41it/s]"
     ]
    },
    {
     "name": "stdout",
     "output_type": "stream",
     "text": [
      "EarlyStopping counter: 15 out of 10000\n"
     ]
    },
    {
     "name": "stderr",
     "output_type": "stream",
     "text": [
      "Epoch 1: CE 0.283364, acc 0.916915: 100%|████████████████████████████████████████████████████████████████████████████████████████████████████████████████████████████████████████| 799/799 [01:24<00:00,  9.45it/s]\n",
      "Epoch 1: CE 0.284789, acc 0.912712:   0%|▎                                                                                                                                         | 2/799 [00:00<01:22,  9.62it/s]"
     ]
    },
    {
     "name": "stdout",
     "output_type": "stream",
     "text": [
      "EarlyStopping counter: 16 out of 10000\n"
     ]
    },
    {
     "name": "stderr",
     "output_type": "stream",
     "text": [
      "Epoch 1: CE 0.279152, acc 0.917496:  25%|██████████████████████████████████▍                                                                                                     | 202/799 [00:21<01:01,  9.75it/s]"
     ]
    },
    {
     "name": "stdout",
     "output_type": "stream",
     "text": [
      "EarlyStopping counter: 17 out of 10000\n"
     ]
    },
    {
     "name": "stderr",
     "output_type": "stream",
     "text": [
      "Epoch 1: CE 0.278897, acc 0.917749:  50%|████████████████████████████████████████████████████████████████████▌                                                                   | 403/799 [00:43<00:40,  9.79it/s]"
     ]
    },
    {
     "name": "stdout",
     "output_type": "stream",
     "text": [
      "EarlyStopping counter: 18 out of 10000\n",
      "Epoch   231: reducing learning rate of group 0 to 1.1262e-03.\n"
     ]
    },
    {
     "name": "stderr",
     "output_type": "stream",
     "text": [
      "Epoch 1: CE 0.280839, acc 0.917408:  75%|██████████████████████████████████████████████████████████████████████████████████████████████████████▍                                 | 602/799 [01:04<00:16, 11.75it/s]"
     ]
    },
    {
     "name": "stdout",
     "output_type": "stream",
     "text": [
      "EarlyStopping counter: 19 out of 10000\n"
     ]
    },
    {
     "name": "stderr",
     "output_type": "stream",
     "text": [
      "Epoch 1: CE 0.281858, acc 0.917192: 100%|████████████████████████████████████████████████████████████████████████████████████████████████████████████████████████████████████████| 799/799 [01:24<00:00,  9.43it/s]\n",
      "Epoch 1: CE 0.254522, acc 0.925448:   0%|▌                                                                                                                                         | 3/799 [00:00<01:19, 10.00it/s]"
     ]
    },
    {
     "name": "stdout",
     "output_type": "stream",
     "text": [
      "EarlyStopping counter: 20 out of 10000\n"
     ]
    },
    {
     "name": "stderr",
     "output_type": "stream",
     "text": [
      "Epoch 1: CE 0.285150, acc 0.916050:  25%|██████████████████████████████████▍                                                                                                     | 202/799 [00:21<01:00,  9.82it/s]"
     ]
    },
    {
     "name": "stdout",
     "output_type": "stream",
     "text": [
      "EarlyStopping counter: 21 out of 10000\n"
     ]
    },
    {
     "name": "stderr",
     "output_type": "stream",
     "text": [
      "Epoch 1: CE 0.282943, acc 0.917027:  50%|████████████████████████████████████████████████████████████████████▌                                                                   | 403/799 [00:42<00:37, 10.58it/s]"
     ]
    },
    {
     "name": "stdout",
     "output_type": "stream",
     "text": [
      "EarlyStopping counter: 22 out of 10000\n"
     ]
    },
    {
     "name": "stderr",
     "output_type": "stream",
     "text": [
      "Epoch 1: CE 0.282413, acc 0.917052:  75%|██████████████████████████████████████████████████████████████████████████████████████████████████████▎                                 | 601/799 [01:03<00:20,  9.88it/s]"
     ]
    },
    {
     "name": "stdout",
     "output_type": "stream",
     "text": [
      "EarlyStopping counter: 23 out of 10000\n"
     ]
    },
    {
     "name": "stderr",
     "output_type": "stream",
     "text": [
      "Epoch 1: CE 0.280787, acc 0.917318: 100%|████████████████████████████████████████████████████████████████████████████████████████████████████████████████████████████████████████| 799/799 [01:24<00:00,  9.46it/s]\n",
      "Epoch 1: CE 0.251496, acc 0.919372:   0%|▎                                                                                                                                         | 2/799 [00:00<01:35,  8.35it/s]"
     ]
    },
    {
     "name": "stdout",
     "output_type": "stream",
     "text": [
      "EarlyStopping counter: 24 out of 10000\n",
      "Epoch   237: reducing learning rate of group 0 to 1.0812e-03.\n"
     ]
    },
    {
     "name": "stderr",
     "output_type": "stream",
     "text": [
      "Epoch 1: CE 0.279194, acc 0.917275:  25%|██████████████████████████████████▍                                                                                                     | 202/799 [00:21<00:58, 10.23it/s]"
     ]
    },
    {
     "name": "stdout",
     "output_type": "stream",
     "text": [
      "EarlyStopping counter: 25 out of 10000\n"
     ]
    },
    {
     "name": "stderr",
     "output_type": "stream",
     "text": [
      "Epoch 1: CE 0.278856, acc 0.917724:  50%|████████████████████████████████████████████████████████████████████▍                                                                   | 402/799 [00:42<00:43,  9.23it/s]"
     ]
    },
    {
     "name": "stdout",
     "output_type": "stream",
     "text": [
      "EarlyStopping counter: 26 out of 10000\n"
     ]
    },
    {
     "name": "stderr",
     "output_type": "stream",
     "text": [
      "Epoch 1: CE 0.277812, acc 0.918050:  75%|██████████████████████████████████████████████████████████████████████████████████████████████████████▍                                 | 602/799 [01:04<00:23,  8.55it/s]"
     ]
    },
    {
     "name": "stdout",
     "output_type": "stream",
     "text": [
      "EarlyStopping counter: 27 out of 10000\n"
     ]
    },
    {
     "name": "stderr",
     "output_type": "stream",
     "text": [
      "Epoch 1: CE 0.277169, acc 0.918340: 100%|████████████████████████████████████████████████████████████████████████████████████████████████████████████████████████████████████████| 799/799 [01:25<00:00,  9.35it/s]\n",
      "Epoch 1: CE 0.265742, acc 0.916490:   0%|▌                                                                                                                                         | 3/799 [00:00<01:22,  9.70it/s]"
     ]
    },
    {
     "name": "stdout",
     "output_type": "stream",
     "text": [
      "EarlyStopping counter: 28 out of 10000\n"
     ]
    },
    {
     "name": "stderr",
     "output_type": "stream",
     "text": [
      "Epoch 1: CE 0.277685, acc 0.918385:  25%|██████████████████████████████████▍                                                                                                     | 202/799 [00:21<00:59, 10.08it/s]"
     ]
    },
    {
     "name": "stdout",
     "output_type": "stream",
     "text": [
      "EarlyStopping counter: 29 out of 10000\n"
     ]
    },
    {
     "name": "stderr",
     "output_type": "stream",
     "text": [
      "Epoch 1: CE 0.276483, acc 0.918852:  50%|████████████████████████████████████████████████████████████████████▌                                                                   | 403/799 [00:42<00:38, 10.31it/s]"
     ]
    },
    {
     "name": "stdout",
     "output_type": "stream",
     "text": [
      "EarlyStopping counter: 30 out of 10000\n",
      "Epoch   243: reducing learning rate of group 0 to 1.0379e-03.\n"
     ]
    },
    {
     "name": "stderr",
     "output_type": "stream",
     "text": [
      "Epoch 1: CE 0.277477, acc 0.918653:  75%|██████████████████████████████████████████████████████████████████████████████████████████████████████▍                                 | 602/799 [01:03<00:19, 10.27it/s]"
     ]
    },
    {
     "name": "stdout",
     "output_type": "stream",
     "text": [
      "EarlyStopping counter: 31 out of 10000\n"
     ]
    },
    {
     "name": "stderr",
     "output_type": "stream",
     "text": [
      "Epoch 1: CE 0.277660, acc 0.918495: 100%|████████████████████████████████████████████████████████████████████████████████████████████████████████████████████████████████████████| 799/799 [01:25<00:00,  9.40it/s]\n",
      "Epoch 1: CE 0.260256, acc 0.927199:   0%|▌                                                                                                                                         | 3/799 [00:00<01:14, 10.72it/s]"
     ]
    },
    {
     "name": "stdout",
     "output_type": "stream",
     "text": [
      "EarlyStopping counter: 32 out of 10000\n"
     ]
    },
    {
     "name": "stderr",
     "output_type": "stream",
     "text": [
      "Epoch 1: CE 0.270349, acc 0.919592:  25%|██████████████████████████████████▌                                                                                                     | 203/799 [00:21<00:58, 10.16it/s]"
     ]
    },
    {
     "name": "stdout",
     "output_type": "stream",
     "text": [
      "EarlyStopping counter: 33 out of 10000\n"
     ]
    },
    {
     "name": "stderr",
     "output_type": "stream",
     "text": [
      "Epoch 1: CE 0.276422, acc 0.918348:  50%|████████████████████████████████████████████████████████████████████▎                                                                   | 401/799 [00:42<00:40,  9.84it/s]"
     ]
    },
    {
     "name": "stdout",
     "output_type": "stream",
     "text": [
      "EarlyStopping counter: 34 out of 10000\n"
     ]
    },
    {
     "name": "stderr",
     "output_type": "stream",
     "text": [
      "Epoch 1: CE 0.277276, acc 0.918179:  75%|██████████████████████████████████████████████████████████████████████████████████████████████████████▍                                 | 602/799 [01:03<00:19, 10.27it/s]"
     ]
    },
    {
     "name": "stdout",
     "output_type": "stream",
     "text": [
      "EarlyStopping counter: 35 out of 10000\n"
     ]
    },
    {
     "name": "stderr",
     "output_type": "stream",
     "text": [
      "Epoch 1: CE 0.278365, acc 0.918051: 100%|████████████████████████████████████████████████████████████████████████████████████████████████████████████████████████████████████████| 799/799 [01:24<00:00,  9.47it/s]\n",
      "Epoch 1: CE 0.274554, acc 0.918781:   0%|▎                                                                                                                                         | 2/799 [00:00<01:24,  9.43it/s]"
     ]
    },
    {
     "name": "stdout",
     "output_type": "stream",
     "text": [
      "EarlyStopping counter: 36 out of 10000\n",
      "Epoch   249: reducing learning rate of group 0 to 9.9642e-04.\n"
     ]
    },
    {
     "name": "stderr",
     "output_type": "stream",
     "text": [
      "Epoch 1: CE 0.274516, acc 0.919233:  25%|██████████████████████████████████▍                                                                                                     | 202/799 [00:21<01:04,  9.31it/s]"
     ]
    },
    {
     "name": "stdout",
     "output_type": "stream",
     "text": [
      "EarlyStopping counter: 37 out of 10000\n"
     ]
    },
    {
     "name": "stderr",
     "output_type": "stream",
     "text": [
      "Epoch 1: CE 0.275097, acc 0.918898:  50%|████████████████████████████████████████████████████████████████████▎                                                                   | 401/799 [00:42<00:41,  9.60it/s]"
     ]
    },
    {
     "name": "stdout",
     "output_type": "stream",
     "text": [
      "EarlyStopping counter: 38 out of 10000\n"
     ]
    },
    {
     "name": "stderr",
     "output_type": "stream",
     "text": [
      "Epoch 1: CE 0.275117, acc 0.918772:  75%|██████████████████████████████████████████████████████████████████████████████████████████████████████▎                                 | 601/799 [01:03<00:19, 10.09it/s]"
     ]
    },
    {
     "name": "stdout",
     "output_type": "stream",
     "text": [
      "EarlyStopping counter: 39 out of 10000\n"
     ]
    },
    {
     "name": "stderr",
     "output_type": "stream",
     "text": [
      "Epoch 1: CE 0.275670, acc 0.918838: 100%|████████████████████████████████████████████████████████████████████████████████████████████████████████████████████████████████████████| 799/799 [01:23<00:00,  9.57it/s]\n",
      "Epoch 1: CE 0.268671, acc 0.921674:   0%|▏                                                                                                                                         | 1/799 [00:00<01:35,  8.35it/s]"
     ]
    },
    {
     "name": "stdout",
     "output_type": "stream",
     "text": [
      "EarlyStopping counter: 40 out of 10000\n"
     ]
    },
    {
     "name": "stderr",
     "output_type": "stream",
     "text": [
      "Epoch 1: CE 0.275800, acc 0.919117:  25%|██████████████████████████████████▏                                                                                                     | 201/799 [00:21<00:56, 10.60it/s]"
     ]
    },
    {
     "name": "stdout",
     "output_type": "stream",
     "text": [
      "EarlyStopping counter: 41 out of 10000\n"
     ]
    },
    {
     "name": "stderr",
     "output_type": "stream",
     "text": [
      "Epoch 1: CE 0.275054, acc 0.919181:  50%|████████████████████████████████████████████████████████████████████▎                                                                   | 401/799 [00:42<00:39, 10.07it/s]"
     ]
    },
    {
     "name": "stdout",
     "output_type": "stream",
     "text": [
      "EarlyStopping counter: 42 out of 10000\n",
      "Epoch   255: reducing learning rate of group 0 to 9.5657e-04.\n"
     ]
    },
    {
     "name": "stderr",
     "output_type": "stream",
     "text": [
      "Epoch 1: CE 0.275452, acc 0.919186:  75%|██████████████████████████████████████████████████████████████████████████████████████████████████████▍                                 | 602/799 [01:02<00:19,  9.97it/s]"
     ]
    },
    {
     "name": "stdout",
     "output_type": "stream",
     "text": [
      "EarlyStopping counter: 43 out of 10000\n"
     ]
    },
    {
     "name": "stderr",
     "output_type": "stream",
     "text": [
      "Epoch 1: CE 0.275321, acc 0.919187: 100%|████████████████████████████████████████████████████████████████████████████████████████████████████████████████████████████████████████| 799/799 [01:23<00:00,  9.57it/s]\n",
      "Epoch 1: CE 0.260459, acc 0.922205:   0%|▌                                                                                                                                         | 3/799 [00:00<01:20,  9.84it/s]"
     ]
    },
    {
     "name": "stdout",
     "output_type": "stream",
     "text": [
      "EarlyStopping counter: 44 out of 10000\n"
     ]
    },
    {
     "name": "stderr",
     "output_type": "stream",
     "text": [
      "Epoch 1: CE 0.282431, acc 0.917151:  25%|██████████████████████████████████▍                                                                                                     | 202/799 [00:21<01:01,  9.69it/s]"
     ]
    },
    {
     "name": "stdout",
     "output_type": "stream",
     "text": [
      "EarlyStopping counter: 45 out of 10000\n"
     ]
    },
    {
     "name": "stderr",
     "output_type": "stream",
     "text": [
      "Epoch 1: CE 0.276657, acc 0.918348:  50%|████████████████████████████████████████████████████████████████████▎                                                                   | 401/799 [00:41<00:39, 10.17it/s]"
     ]
    },
    {
     "name": "stdout",
     "output_type": "stream",
     "text": [
      "EarlyStopping counter: 46 out of 10000\n"
     ]
    },
    {
     "name": "stderr",
     "output_type": "stream",
     "text": [
      "Epoch 1: CE 0.276004, acc 0.918715:  75%|██████████████████████████████████████████████████████████████████████████████████████████████████████▍                                 | 602/799 [01:02<00:19, 10.05it/s]"
     ]
    },
    {
     "name": "stdout",
     "output_type": "stream",
     "text": [
      "EarlyStopping counter: 47 out of 10000\n"
     ]
    },
    {
     "name": "stderr",
     "output_type": "stream",
     "text": [
      "Epoch 1: CE 0.276013, acc 0.918870: 100%|████████████████████████████████████████████████████████████████████████████████████████████████████████████████████████████████████████| 799/799 [01:23<00:00,  9.59it/s]\n",
      "Epoch 1: CE 0.254031, acc 0.926256:   0%|▌                                                                                                                                         | 3/799 [00:00<01:22,  9.62it/s]"
     ]
    },
    {
     "name": "stdout",
     "output_type": "stream",
     "text": [
      "EarlyStopping counter: 48 out of 10000\n",
      "Epoch   261: reducing learning rate of group 0 to 9.1831e-04.\n"
     ]
    },
    {
     "name": "stderr",
     "output_type": "stream",
     "text": [
      "Epoch 1: CE 0.271347, acc 0.919684:  25%|██████████████████████████████████▍                                                                                                     | 202/799 [00:20<01:01,  9.78it/s]"
     ]
    },
    {
     "name": "stdout",
     "output_type": "stream",
     "text": [
      "EarlyStopping counter: 49 out of 10000\n"
     ]
    },
    {
     "name": "stderr",
     "output_type": "stream",
     "text": [
      "Epoch 1: CE 0.272731, acc 0.920018:  50%|████████████████████████████████████████████████████████████████████▍                                                                   | 402/799 [00:41<00:39, 10.08it/s]"
     ]
    },
    {
     "name": "stdout",
     "output_type": "stream",
     "text": [
      "EarlyStopping counter: 50 out of 10000\n"
     ]
    },
    {
     "name": "stderr",
     "output_type": "stream",
     "text": [
      "Epoch 1: CE 0.273020, acc 0.919907:  75%|██████████████████████████████████████████████████████████████████████████████████████████████████████▍                                 | 602/799 [01:02<00:21,  9.03it/s]"
     ]
    },
    {
     "name": "stdout",
     "output_type": "stream",
     "text": [
      "EarlyStopping counter: 51 out of 10000\n"
     ]
    },
    {
     "name": "stderr",
     "output_type": "stream",
     "text": [
      "Epoch 1: CE 0.273329, acc 0.919781: 100%|████████████████████████████████████████████████████████████████████████████████████████████████████████████████████████████████████████| 799/799 [01:23<00:00,  9.59it/s]\n",
      "Epoch 1: CE 0.262812, acc 0.919481:   0%|▎                                                                                                                                         | 2/799 [00:00<01:29,  8.88it/s]"
     ]
    },
    {
     "name": "stdout",
     "output_type": "stream",
     "text": [
      "EarlyStopping counter: 52 out of 10000\n"
     ]
    },
    {
     "name": "stderr",
     "output_type": "stream",
     "text": [
      "Epoch 1: CE 0.271654, acc 0.920113:  25%|██████████████████████████████████▏                                                                                                     | 201/799 [00:21<01:25,  6.96it/s]"
     ]
    },
    {
     "name": "stdout",
     "output_type": "stream",
     "text": [
      "EarlyStopping counter: 53 out of 10000\n"
     ]
    },
    {
     "name": "stderr",
     "output_type": "stream",
     "text": [
      "Epoch 1: CE 0.272468, acc 0.920046:  50%|████████████████████████████████████████████████████████████████████▍                                                                   | 402/799 [00:42<00:42,  9.31it/s]"
     ]
    },
    {
     "name": "stdout",
     "output_type": "stream",
     "text": [
      "EarlyStopping counter: 54 out of 10000\n",
      "Epoch   267: reducing learning rate of group 0 to 8.8157e-04.\n"
     ]
    },
    {
     "name": "stderr",
     "output_type": "stream",
     "text": [
      "Epoch 1: CE 0.269994, acc 0.920710:  75%|██████████████████████████████████████████████████████████████████████████████████████████████████████▍                                 | 602/799 [01:02<00:23,  8.31it/s]"
     ]
    },
    {
     "name": "stdout",
     "output_type": "stream",
     "text": [
      "EarlyStopping counter: 55 out of 10000\n"
     ]
    },
    {
     "name": "stderr",
     "output_type": "stream",
     "text": [
      "Epoch 1: CE 0.270577, acc 0.920506: 100%|████████████████████████████████████████████████████████████████████████████████████████████████████████████████████████████████████████| 799/799 [01:23<00:00,  9.62it/s]\n",
      "Epoch 1: CE 0.255753, acc 0.929206:   0%|▎                                                                                                                                         | 2/799 [00:00<01:08, 11.58it/s]"
     ]
    },
    {
     "name": "stdout",
     "output_type": "stream",
     "text": [
      "EarlyStopping counter: 56 out of 10000\n"
     ]
    },
    {
     "name": "stderr",
     "output_type": "stream",
     "text": [
      "Epoch 1: CE 0.271726, acc 0.920186:  25%|██████████████████████████████████▌                                                                                                     | 203/799 [00:21<00:55, 10.73it/s]"
     ]
    },
    {
     "name": "stdout",
     "output_type": "stream",
     "text": [
      "EarlyStopping counter: 57 out of 10000\n"
     ]
    },
    {
     "name": "stderr",
     "output_type": "stream",
     "text": [
      "Epoch 1: CE 0.273464, acc 0.919760:  50%|████████████████████████████████████████████████████████████████████▌                                                                   | 403/799 [00:42<00:40,  9.76it/s]"
     ]
    },
    {
     "name": "stdout",
     "output_type": "stream",
     "text": [
      "EarlyStopping counter: 58 out of 10000\n"
     ]
    },
    {
     "name": "stderr",
     "output_type": "stream",
     "text": [
      "Epoch 1: CE 0.273232, acc 0.919906:  75%|██████████████████████████████████████████████████████████████████████████████████████████████████████▍                                 | 602/799 [01:03<00:21,  9.01it/s]"
     ]
    },
    {
     "name": "stdout",
     "output_type": "stream",
     "text": [
      "EarlyStopping counter: 59 out of 10000\n"
     ]
    },
    {
     "name": "stderr",
     "output_type": "stream",
     "text": [
      "Epoch 1: CE 0.272816, acc 0.919940: 100%|████████████████████████████████████████████████████████████████████████████████████████████████████████████████████████████████████████| 799/799 [01:23<00:00,  9.52it/s]\n",
      "Epoch 1: CE 0.276955, acc 0.916975:   0%|▎                                                                                                                                         | 2/799 [00:00<02:01,  6.53it/s]"
     ]
    },
    {
     "name": "stdout",
     "output_type": "stream",
     "text": [
      "EarlyStopping counter: 60 out of 10000\n",
      "Epoch   273: reducing learning rate of group 0 to 8.4631e-04.\n"
     ]
    },
    {
     "name": "stderr",
     "output_type": "stream",
     "text": [
      "Epoch 1: CE 0.274478, acc 0.920296:  25%|██████████████████████████████████▍                                                                                                     | 202/799 [00:21<01:28,  6.74it/s]"
     ]
    },
    {
     "name": "stdout",
     "output_type": "stream",
     "text": [
      "EarlyStopping counter: 61 out of 10000\n"
     ]
    },
    {
     "name": "stderr",
     "output_type": "stream",
     "text": [
      "Epoch 1: CE 0.270377, acc 0.920564:  50%|████████████████████████████████████████████████████████████████████▎                                                                   | 401/799 [00:42<00:42,  9.36it/s]"
     ]
    },
    {
     "name": "stdout",
     "output_type": "stream",
     "text": [
      "EarlyStopping counter: 62 out of 10000\n"
     ]
    },
    {
     "name": "stderr",
     "output_type": "stream",
     "text": [
      "Epoch 1: CE 0.271758, acc 0.920033:  75%|██████████████████████████████████████████████████████████████████████████████████████████████████████▍                                 | 602/799 [01:03<00:21,  9.25it/s]"
     ]
    },
    {
     "name": "stdout",
     "output_type": "stream",
     "text": [
      "EarlyStopping counter: 63 out of 10000\n"
     ]
    },
    {
     "name": "stderr",
     "output_type": "stream",
     "text": [
      "Epoch 1: CE 0.271553, acc 0.920126: 100%|████████████████████████████████████████████████████████████████████████████████████████████████████████████████████████████████████████| 799/799 [01:23<00:00,  9.55it/s]\n",
      "Epoch 1: CE 0.268457, acc 0.921181:  25%|██████████████████████████████████▍                                                                                                     | 202/799 [00:21<01:03,  9.41it/s]"
     ]
    },
    {
     "name": "stdout",
     "output_type": "stream",
     "text": [
      "EarlyStopping counter: 1 out of 10000\n"
     ]
    },
    {
     "name": "stderr",
     "output_type": "stream",
     "text": [
      "Epoch 1: CE 0.269396, acc 0.920743:  50%|████████████████████████████████████████████████████████████████████▍                                                                   | 402/799 [00:42<00:41,  9.53it/s]"
     ]
    },
    {
     "name": "stdout",
     "output_type": "stream",
     "text": [
      "EarlyStopping counter: 2 out of 10000\n"
     ]
    },
    {
     "name": "stderr",
     "output_type": "stream",
     "text": [
      "Epoch 1: CE 0.269779, acc 0.920789:  75%|██████████████████████████████████████████████████████████████████████████████████████████████████████▍                                 | 602/799 [01:02<00:19, 10.05it/s]"
     ]
    },
    {
     "name": "stdout",
     "output_type": "stream",
     "text": [
      "EarlyStopping counter: 3 out of 10000\n"
     ]
    },
    {
     "name": "stderr",
     "output_type": "stream",
     "text": [
      "Epoch 1: CE 0.270726, acc 0.920674: 100%|████████████████████████████████████████████████████████████████████████████████████████████████████████████████████████████████████████| 799/799 [01:23<00:00,  9.57it/s]\n",
      "Epoch 1: CE 0.339429, acc 0.902553:   0%|▎                                                                                                                                         | 2/799 [00:00<01:27,  9.15it/s]"
     ]
    },
    {
     "name": "stdout",
     "output_type": "stream",
     "text": [
      "EarlyStopping counter: 4 out of 10000\n"
     ]
    },
    {
     "name": "stderr",
     "output_type": "stream",
     "text": [
      "Epoch 1: CE 0.269189, acc 0.920384:  25%|██████████████████████████████████▏                                                                                                     | 201/799 [00:20<00:57, 10.48it/s]"
     ]
    },
    {
     "name": "stdout",
     "output_type": "stream",
     "text": [
      "EarlyStopping counter: 5 out of 10000\n"
     ]
    },
    {
     "name": "stderr",
     "output_type": "stream",
     "text": [
      "Epoch 1: CE 0.270267, acc 0.920171:  50%|████████████████████████████████████████████████████████████████████▍                                                                   | 402/799 [00:42<00:45,  8.76it/s]"
     ]
    },
    {
     "name": "stdout",
     "output_type": "stream",
     "text": [
      "EarlyStopping counter: 6 out of 10000\n",
      "Epoch   283: reducing learning rate of group 0 to 8.1246e-04.\n"
     ]
    },
    {
     "name": "stderr",
     "output_type": "stream",
     "text": [
      "Epoch 1: CE 0.270224, acc 0.920416:  75%|██████████████████████████████████████████████████████████████████████████████████████████████████████▎                                 | 601/799 [01:03<00:18, 10.61it/s]"
     ]
    },
    {
     "name": "stdout",
     "output_type": "stream",
     "text": [
      "EarlyStopping counter: 7 out of 10000\n"
     ]
    },
    {
     "name": "stderr",
     "output_type": "stream",
     "text": [
      "Epoch 1: CE 0.270584, acc 0.920452: 100%|████████████████████████████████████████████████████████████████████████████████████████████████████████████████████████████████████████| 799/799 [01:24<00:00,  9.48it/s]\n",
      "Epoch 1: CE 0.263556, acc 0.921601:   0%|▎                                                                                                                                         | 2/799 [00:00<01:06, 12.07it/s]"
     ]
    },
    {
     "name": "stdout",
     "output_type": "stream",
     "text": [
      "EarlyStopping counter: 8 out of 10000\n"
     ]
    },
    {
     "name": "stderr",
     "output_type": "stream",
     "text": [
      "Epoch 1: CE 0.268721, acc 0.920898:  25%|██████████████████████████████████▍                                                                                                     | 202/799 [00:20<01:01,  9.68it/s]"
     ]
    },
    {
     "name": "stdout",
     "output_type": "stream",
     "text": [
      "EarlyStopping counter: 9 out of 10000\n"
     ]
    },
    {
     "name": "stderr",
     "output_type": "stream",
     "text": [
      "Epoch 1: CE 0.270922, acc 0.920312:  50%|████████████████████████████████████████████████████████████████████▍                                                                   | 402/799 [00:41<00:44,  8.97it/s]"
     ]
    },
    {
     "name": "stdout",
     "output_type": "stream",
     "text": [
      "EarlyStopping counter: 10 out of 10000\n"
     ]
    },
    {
     "name": "stderr",
     "output_type": "stream",
     "text": [
      "Epoch 1: CE 0.271504, acc 0.919962:  75%|██████████████████████████████████████████████████████████████████████████████████████████████████████▋                                 | 603/799 [01:03<00:19, 10.31it/s]"
     ]
    },
    {
     "name": "stdout",
     "output_type": "stream",
     "text": [
      "EarlyStopping counter: 11 out of 10000\n"
     ]
    },
    {
     "name": "stderr",
     "output_type": "stream",
     "text": [
      "Epoch 1: CE 0.271456, acc 0.919957: 100%|████████████████████████████████████████████████████████████████████████████████████████████████████████████████████████████████████████| 799/799 [01:24<00:00,  9.49it/s]\n",
      "Epoch 1: CE 0.267290, acc 0.921747:  25%|██████████████████████████████████▏                                                                                                     | 201/799 [00:20<01:00,  9.90it/s]"
     ]
    },
    {
     "name": "stdout",
     "output_type": "stream",
     "text": [
      "EarlyStopping counter: 1 out of 10000\n"
     ]
    },
    {
     "name": "stderr",
     "output_type": "stream",
     "text": [
      "Epoch 1: CE 0.267844, acc 0.921426:  50%|████████████████████████████████████████████████████████████████████▎                                                                   | 401/799 [00:42<00:40,  9.81it/s]"
     ]
    },
    {
     "name": "stdout",
     "output_type": "stream",
     "text": [
      "EarlyStopping counter: 2 out of 10000\n"
     ]
    },
    {
     "name": "stderr",
     "output_type": "stream",
     "text": [
      "Epoch 1: CE 0.267715, acc 0.921594:  75%|██████████████████████████████████████████████████████████████████████████████████████████████████████▍                                 | 602/799 [01:03<00:21,  9.22it/s]"
     ]
    },
    {
     "name": "stdout",
     "output_type": "stream",
     "text": [
      "EarlyStopping counter: 3 out of 10000\n"
     ]
    },
    {
     "name": "stderr",
     "output_type": "stream",
     "text": [
      "Epoch 1: CE 0.268625, acc 0.921243: 100%|████████████████████████████████████████████████████████████████████████████████████████████████████████████████████████████████████████| 799/799 [01:24<00:00,  9.50it/s]\n",
      "Epoch 1: CE 0.302428, acc 0.914741:   0%|▏                                                                                                                                         | 1/799 [00:00<02:01,  6.56it/s]"
     ]
    },
    {
     "name": "stdout",
     "output_type": "stream",
     "text": [
      "EarlyStopping counter: 4 out of 10000\n"
     ]
    },
    {
     "name": "stderr",
     "output_type": "stream",
     "text": [
      "Epoch 1: CE 0.266824, acc 0.921155:  25%|██████████████████████████████████▏                                                                                                     | 201/799 [00:21<00:58, 10.26it/s]"
     ]
    },
    {
     "name": "stdout",
     "output_type": "stream",
     "text": [
      "EarlyStopping counter: 5 out of 10000\n"
     ]
    },
    {
     "name": "stderr",
     "output_type": "stream",
     "text": [
      "Epoch 1: CE 0.266956, acc 0.921342:  50%|████████████████████████████████████████████████████████████████████▍                                                                   | 402/799 [00:42<00:40,  9.76it/s]"
     ]
    },
    {
     "name": "stdout",
     "output_type": "stream",
     "text": [
      "EarlyStopping counter: 6 out of 10000\n",
      "Epoch   295: reducing learning rate of group 0 to 7.7996e-04.\n"
     ]
    },
    {
     "name": "stderr",
     "output_type": "stream",
     "text": [
      "Epoch 1: CE 0.269328, acc 0.920714:  75%|██████████████████████████████████████████████████████████████████████████████████████████████████████▍                                 | 602/799 [01:03<00:20,  9.82it/s]"
     ]
    },
    {
     "name": "stdout",
     "output_type": "stream",
     "text": [
      "EarlyStopping counter: 7 out of 10000\n"
     ]
    },
    {
     "name": "stderr",
     "output_type": "stream",
     "text": [
      "Epoch 1: CE 0.270844, acc 0.920329: 100%|████████████████████████████████████████████████████████████████████████████████████████████████████████████████████████████████████████| 799/799 [01:24<00:00,  9.48it/s]\n",
      "Epoch 1: CE 0.209253, acc 0.935503:   0%|▎                                                                                                                                         | 2/799 [00:00<01:23,  9.50it/s]"
     ]
    },
    {
     "name": "stdout",
     "output_type": "stream",
     "text": [
      "EarlyStopping counter: 8 out of 10000\n"
     ]
    },
    {
     "name": "stderr",
     "output_type": "stream",
     "text": [
      "Epoch 1: CE 0.267109, acc 0.921765:  25%|██████████████████████████████████▍                                                                                                     | 202/799 [00:21<01:00,  9.81it/s]"
     ]
    },
    {
     "name": "stdout",
     "output_type": "stream",
     "text": [
      "EarlyStopping counter: 9 out of 10000\n"
     ]
    },
    {
     "name": "stderr",
     "output_type": "stream",
     "text": [
      "Epoch 1: CE 0.268051, acc 0.921945:  50%|████████████████████████████████████████████████████████████████████▎                                                                   | 401/799 [00:42<00:36, 10.99it/s]"
     ]
    },
    {
     "name": "stdout",
     "output_type": "stream",
     "text": [
      "EarlyStopping counter: 10 out of 10000\n"
     ]
    },
    {
     "name": "stderr",
     "output_type": "stream",
     "text": [
      "Epoch 1: CE 0.268320, acc 0.921620:  75%|██████████████████████████████████████████████████████████████████████████████████████████████████████▍                                 | 602/799 [01:03<00:20,  9.84it/s]"
     ]
    },
    {
     "name": "stdout",
     "output_type": "stream",
     "text": [
      "EarlyStopping counter: 11 out of 10000\n"
     ]
    },
    {
     "name": "stderr",
     "output_type": "stream",
     "text": [
      "Epoch 1: CE 0.266379, acc 0.921917: 100%|████████████████████████████████████████████████████████████████████████████████████████████████████████████████████████████████████████| 799/799 [01:24<00:00,  9.51it/s]\n",
      "Epoch 1: CE 0.238471, acc 0.924513:   0%|▌                                                                                                                                         | 3/799 [00:00<01:17, 10.27it/s]"
     ]
    },
    {
     "name": "stdout",
     "output_type": "stream",
     "text": [
      "Epoch   301: reducing learning rate of group 0 to 7.4876e-04.\n"
     ]
    },
    {
     "name": "stderr",
     "output_type": "stream",
     "text": [
      "Epoch 1: CE 0.266713, acc 0.921334:  25%|██████████████████████████████████▍                                                                                                     | 202/799 [00:20<01:00,  9.85it/s]"
     ]
    },
    {
     "name": "stdout",
     "output_type": "stream",
     "text": [
      "EarlyStopping counter: 1 out of 10000\n"
     ]
    },
    {
     "name": "stderr",
     "output_type": "stream",
     "text": [
      "Epoch 1: CE 0.267829, acc 0.921226:  50%|████████████████████████████████████████████████████████████████████▍                                                                   | 402/799 [00:41<00:43,  9.17it/s]"
     ]
    },
    {
     "name": "stdout",
     "output_type": "stream",
     "text": [
      "EarlyStopping counter: 2 out of 10000\n"
     ]
    },
    {
     "name": "stderr",
     "output_type": "stream",
     "text": [
      "Epoch 1: CE 0.270224, acc 0.920759:  75%|██████████████████████████████████████████████████████████████████████████████████████████████████████▍                                 | 602/799 [01:02<00:19,  9.87it/s]"
     ]
    },
    {
     "name": "stdout",
     "output_type": "stream",
     "text": [
      "EarlyStopping counter: 3 out of 10000\n"
     ]
    },
    {
     "name": "stderr",
     "output_type": "stream",
     "text": [
      "Epoch 1: CE 0.269659, acc 0.920893: 100%|████████████████████████████████████████████████████████████████████████████████████████████████████████████████████████████████████████| 799/799 [01:23<00:00,  9.57it/s]\n",
      "Epoch 1: CE 0.283041, acc 0.917099:   0%|▎                                                                                                                                         | 2/799 [00:00<01:28,  9.01it/s]"
     ]
    },
    {
     "name": "stdout",
     "output_type": "stream",
     "text": [
      "EarlyStopping counter: 4 out of 10000\n"
     ]
    },
    {
     "name": "stderr",
     "output_type": "stream",
     "text": [
      "Epoch 1: CE 0.270200, acc 0.921246:  25%|██████████████████████████████████▏                                                                                                     | 201/799 [00:21<01:30,  6.58it/s]"
     ]
    },
    {
     "name": "stdout",
     "output_type": "stream",
     "text": [
      "EarlyStopping counter: 5 out of 10000\n"
     ]
    },
    {
     "name": "stderr",
     "output_type": "stream",
     "text": [
      "Epoch 1: CE 0.271135, acc 0.920946:  50%|████████████████████████████████████████████████████████████████████▍                                                                   | 402/799 [00:42<00:47,  8.31it/s]"
     ]
    },
    {
     "name": "stdout",
     "output_type": "stream",
     "text": [
      "EarlyStopping counter: 6 out of 10000\n",
      "Epoch   307: reducing learning rate of group 0 to 7.1881e-04.\n"
     ]
    },
    {
     "name": "stderr",
     "output_type": "stream",
     "text": [
      "Epoch 1: CE 0.268367, acc 0.921463:  75%|██████████████████████████████████████████████████████████████████████████████████████████████████████▍                                 | 602/799 [01:03<00:19, 10.13it/s]"
     ]
    },
    {
     "name": "stdout",
     "output_type": "stream",
     "text": [
      "EarlyStopping counter: 7 out of 10000\n"
     ]
    },
    {
     "name": "stderr",
     "output_type": "stream",
     "text": [
      "Epoch 1: CE 0.267887, acc 0.921484: 100%|████████████████████████████████████████████████████████████████████████████████████████████████████████████████████████████████████████| 799/799 [01:23<00:00,  9.54it/s]\n",
      "Epoch 1: CE 0.280210, acc 0.917113:   0%|▌                                                                                                                                         | 3/799 [00:00<01:18, 10.08it/s]"
     ]
    },
    {
     "name": "stdout",
     "output_type": "stream",
     "text": [
      "EarlyStopping counter: 8 out of 10000\n"
     ]
    },
    {
     "name": "stderr",
     "output_type": "stream",
     "text": [
      "Epoch 1: CE 0.265230, acc 0.922206:  25%|██████████████████████████████████▌                                                                                                     | 203/799 [00:21<00:56, 10.54it/s]"
     ]
    },
    {
     "name": "stdout",
     "output_type": "stream",
     "text": [
      "EarlyStopping counter: 9 out of 10000\n"
     ]
    },
    {
     "name": "stderr",
     "output_type": "stream",
     "text": [
      "Epoch 1: CE 0.265141, acc 0.921996:  50%|████████████████████████████████████████████████████████████████████▍                                                                   | 402/799 [00:41<00:39, 10.06it/s]"
     ]
    },
    {
     "name": "stdout",
     "output_type": "stream",
     "text": [
      "EarlyStopping counter: 10 out of 10000\n"
     ]
    },
    {
     "name": "stderr",
     "output_type": "stream",
     "text": [
      "Epoch 1: CE 0.263618, acc 0.922389:  75%|██████████████████████████████████████████████████████████████████████████████████████████████████████▍                                 | 602/799 [01:02<00:19,  9.88it/s]"
     ]
    },
    {
     "name": "stdout",
     "output_type": "stream",
     "text": [
      "EarlyStopping counter: 11 out of 10000\n"
     ]
    },
    {
     "name": "stderr",
     "output_type": "stream",
     "text": [
      "Epoch 1: CE 0.264322, acc 0.922160: 100%|████████████████████████████████████████████████████████████████████████████████████████████████████████████████████████████████████████| 799/799 [01:23<00:00,  9.58it/s]\n",
      "Epoch 1: CE 0.222142, acc 0.929972:   0%|▏                                                                                                                                         | 1/799 [00:00<06:51,  1.94it/s]"
     ]
    },
    {
     "name": "stdout",
     "output_type": "stream",
     "text": [
      "EarlyStopping counter: 12 out of 10000\n",
      "Epoch   313: reducing learning rate of group 0 to 6.9006e-04.\n"
     ]
    },
    {
     "name": "stderr",
     "output_type": "stream",
     "text": [
      "Epoch 1: CE 0.270008, acc 0.921223:  25%|██████████████████████████████████▏                                                                                                     | 201/799 [00:21<01:03,  9.35it/s]"
     ]
    },
    {
     "name": "stdout",
     "output_type": "stream",
     "text": [
      "EarlyStopping counter: 13 out of 10000\n"
     ]
    },
    {
     "name": "stderr",
     "output_type": "stream",
     "text": [
      "Epoch 1: CE 0.268231, acc 0.921451:  50%|████████████████████████████████████████████████████████████████████▎                                                                   | 401/799 [00:42<00:39,  9.98it/s]"
     ]
    },
    {
     "name": "stdout",
     "output_type": "stream",
     "text": [
      "EarlyStopping counter: 14 out of 10000\n"
     ]
    },
    {
     "name": "stderr",
     "output_type": "stream",
     "text": [
      "Epoch 1: CE 0.267212, acc 0.921558:  75%|██████████████████████████████████████████████████████████████████████████████████████████████████████▎                                 | 601/799 [01:04<00:25,  7.72it/s]"
     ]
    },
    {
     "name": "stdout",
     "output_type": "stream",
     "text": [
      "EarlyStopping counter: 15 out of 10000\n"
     ]
    },
    {
     "name": "stderr",
     "output_type": "stream",
     "text": [
      "Epoch 1: CE 0.267117, acc 0.921525: 100%|████████████████████████████████████████████████████████████████████████████████████████████████████████████████████████████████████████| 799/799 [01:24<00:00,  9.50it/s]\n",
      "Epoch 1: CE 0.247460, acc 0.924077:   0%|▎                                                                                                                                         | 2/799 [00:00<01:26,  9.26it/s]"
     ]
    },
    {
     "name": "stdout",
     "output_type": "stream",
     "text": [
      "EarlyStopping counter: 16 out of 10000\n"
     ]
    },
    {
     "name": "stderr",
     "output_type": "stream",
     "text": [
      "Epoch 1: CE 0.261981, acc 0.922503:  25%|██████████████████████████████████▍                                                                                                     | 202/799 [00:21<01:03,  9.42it/s]"
     ]
    },
    {
     "name": "stdout",
     "output_type": "stream",
     "text": [
      "EarlyStopping counter: 17 out of 10000\n"
     ]
    },
    {
     "name": "stderr",
     "output_type": "stream",
     "text": [
      "Epoch 1: CE 0.264541, acc 0.921912:  50%|████████████████████████████████████████████████████████████████████▍                                                                   | 402/799 [00:41<00:44,  8.93it/s]"
     ]
    },
    {
     "name": "stdout",
     "output_type": "stream",
     "text": [
      "EarlyStopping counter: 18 out of 10000\n",
      "Epoch   319: reducing learning rate of group 0 to 6.6246e-04.\n"
     ]
    },
    {
     "name": "stderr",
     "output_type": "stream",
     "text": [
      "Epoch 1: CE 0.263271, acc 0.922229:  75%|██████████████████████████████████████████████████████████████████████████████████████████████████████▋                                 | 603/799 [01:02<00:20,  9.78it/s]"
     ]
    },
    {
     "name": "stdout",
     "output_type": "stream",
     "text": [
      "EarlyStopping counter: 19 out of 10000\n"
     ]
    },
    {
     "name": "stderr",
     "output_type": "stream",
     "text": [
      "Epoch 1: CE 0.262868, acc 0.922492: 100%|████████████████████████████████████████████████████████████████████████████████████████████████████████████████████████████████████████| 799/799 [01:23<00:00,  9.54it/s]\n",
      "Epoch 1: CE 0.266615, acc 0.927102:   0%|▌                                                                                                                                         | 3/799 [00:00<01:14, 10.68it/s]"
     ]
    },
    {
     "name": "stdout",
     "output_type": "stream",
     "text": [
      "EarlyStopping counter: 20 out of 10000\n"
     ]
    },
    {
     "name": "stderr",
     "output_type": "stream",
     "text": [
      "Epoch 1: CE 0.264268, acc 0.922366:  25%|██████████████████████████████████▏                                                                                                     | 201/799 [00:20<00:59, 10.01it/s]"
     ]
    },
    {
     "name": "stdout",
     "output_type": "stream",
     "text": [
      "EarlyStopping counter: 21 out of 10000\n"
     ]
    },
    {
     "name": "stderr",
     "output_type": "stream",
     "text": [
      "Epoch 1: CE 0.264151, acc 0.922358:  50%|████████████████████████████████████████████████████████████████████▌                                                                   | 403/799 [00:41<00:38, 10.35it/s]"
     ]
    },
    {
     "name": "stdout",
     "output_type": "stream",
     "text": [
      "EarlyStopping counter: 22 out of 10000\n"
     ]
    },
    {
     "name": "stderr",
     "output_type": "stream",
     "text": [
      "Epoch 1: CE 0.264576, acc 0.922166:  75%|██████████████████████████████████████████████████████████████████████████████████████████████████████▍                                 | 602/799 [01:03<00:21,  9.33it/s]"
     ]
    },
    {
     "name": "stdout",
     "output_type": "stream",
     "text": [
      "EarlyStopping counter: 23 out of 10000\n"
     ]
    },
    {
     "name": "stderr",
     "output_type": "stream",
     "text": [
      "Epoch 1: CE 0.264822, acc 0.922093: 100%|████████████████████████████████████████████████████████████████████████████████████████████████████████████████████████████████████████| 799/799 [01:23<00:00,  9.56it/s]\n",
      "Epoch 1: CE 0.234075, acc 0.929487:   0%|▎                                                                                                                                         | 2/799 [00:00<01:11, 11.14it/s]"
     ]
    },
    {
     "name": "stdout",
     "output_type": "stream",
     "text": [
      "EarlyStopping counter: 24 out of 10000\n",
      "Epoch   325: reducing learning rate of group 0 to 6.3596e-04.\n"
     ]
    },
    {
     "name": "stderr",
     "output_type": "stream",
     "text": [
      "Epoch 1: CE 0.266438, acc 0.922080:  25%|██████████████████████████████████▏                                                                                                     | 201/799 [00:21<00:59, 10.06it/s]"
     ]
    },
    {
     "name": "stdout",
     "output_type": "stream",
     "text": [
      "EarlyStopping counter: 25 out of 10000\n"
     ]
    },
    {
     "name": "stderr",
     "output_type": "stream",
     "text": [
      "Epoch 1: CE 0.264974, acc 0.922664:  50%|████████████████████████████████████████████████████████████████████▎                                                                   | 401/799 [00:41<00:43,  9.17it/s]"
     ]
    },
    {
     "name": "stdout",
     "output_type": "stream",
     "text": [
      "EarlyStopping counter: 26 out of 10000\n"
     ]
    },
    {
     "name": "stderr",
     "output_type": "stream",
     "text": [
      "Epoch 1: CE 0.262730, acc 0.922982:  75%|██████████████████████████████████████████████████████████████████████████████████████████████████████▋                                 | 603/799 [01:02<00:17, 11.24it/s]"
     ]
    },
    {
     "name": "stdout",
     "output_type": "stream",
     "text": [
      "EarlyStopping counter: 27 out of 10000\n"
     ]
    },
    {
     "name": "stderr",
     "output_type": "stream",
     "text": [
      "Epoch 1: CE 0.264339, acc 0.922598: 100%|████████████████████████████████████████████████████████████████████████████████████████████████████████████████████████████████████████| 799/799 [01:23<00:00,  9.63it/s]\n",
      "Epoch 1: CE 0.260368, acc 0.923071:  25%|██████████████████████████████████▌                                                                                                     | 203/799 [00:21<00:59, 10.09it/s]"
     ]
    },
    {
     "name": "stdout",
     "output_type": "stream",
     "text": [
      "EarlyStopping counter: 1 out of 10000\n"
     ]
    },
    {
     "name": "stderr",
     "output_type": "stream",
     "text": [
      "Epoch 1: CE 0.260881, acc 0.923101:  50%|████████████████████████████████████████████████████████████████████▎                                                                   | 401/799 [00:42<00:44,  8.95it/s]"
     ]
    },
    {
     "name": "stdout",
     "output_type": "stream",
     "text": [
      "EarlyStopping counter: 2 out of 10000\n"
     ]
    },
    {
     "name": "stderr",
     "output_type": "stream",
     "text": [
      "Epoch 1: CE 0.260759, acc 0.923130:  75%|██████████████████████████████████████████████████████████████████████████████████████████████████████▎                                 | 601/799 [01:03<00:20,  9.88it/s]"
     ]
    },
    {
     "name": "stdout",
     "output_type": "stream",
     "text": [
      "EarlyStopping counter: 3 out of 10000\n"
     ]
    },
    {
     "name": "stderr",
     "output_type": "stream",
     "text": [
      "Epoch 1: CE 0.261502, acc 0.922924: 100%|████████████████████████████████████████████████████████████████████████████████████████████████████████████████████████████████████████| 799/799 [01:24<00:00,  9.43it/s]\n",
      "Epoch 1: CE 0.290062, acc 0.911266:   0%|▌                                                                                                                                         | 3/799 [00:00<01:13, 10.76it/s]"
     ]
    },
    {
     "name": "stdout",
     "output_type": "stream",
     "text": [
      "EarlyStopping counter: 4 out of 10000\n"
     ]
    },
    {
     "name": "stderr",
     "output_type": "stream",
     "text": [
      "Epoch 1: CE 0.263981, acc 0.922634:  25%|██████████████████████████████████▏                                                                                                     | 201/799 [00:20<01:02,  9.57it/s]"
     ]
    },
    {
     "name": "stdout",
     "output_type": "stream",
     "text": [
      "EarlyStopping counter: 5 out of 10000\n"
     ]
    },
    {
     "name": "stderr",
     "output_type": "stream",
     "text": [
      "Epoch 1: CE 0.263111, acc 0.922770:  50%|████████████████████████████████████████████████████████████████████▍                                                                   | 402/799 [00:41<00:43,  9.15it/s]"
     ]
    },
    {
     "name": "stdout",
     "output_type": "stream",
     "text": [
      "EarlyStopping counter: 6 out of 10000\n",
      "Epoch   335: reducing learning rate of group 0 to 6.1052e-04.\n"
     ]
    },
    {
     "name": "stderr",
     "output_type": "stream",
     "text": [
      "Epoch 1: CE 0.262893, acc 0.922761:  75%|██████████████████████████████████████████████████████████████████████████████████████████████████████▍                                 | 602/799 [01:02<00:23,  8.55it/s]"
     ]
    },
    {
     "name": "stdout",
     "output_type": "stream",
     "text": [
      "EarlyStopping counter: 7 out of 10000\n"
     ]
    },
    {
     "name": "stderr",
     "output_type": "stream",
     "text": [
      "Epoch 1: CE 0.263414, acc 0.922456: 100%|████████████████████████████████████████████████████████████████████████████████████████████████████████████████████████████████████████| 799/799 [01:23<00:00,  9.57it/s]\n",
      "Epoch 1: CE 0.306864, acc 0.908976:   0%|▎                                                                                                                                         | 2/799 [00:00<01:05, 12.19it/s]"
     ]
    },
    {
     "name": "stdout",
     "output_type": "stream",
     "text": [
      "EarlyStopping counter: 8 out of 10000\n"
     ]
    },
    {
     "name": "stderr",
     "output_type": "stream",
     "text": [
      "Epoch 1: CE 0.265423, acc 0.922015:  25%|██████████████████████████████████▍                                                                                                     | 202/799 [00:20<01:09,  8.59it/s]"
     ]
    },
    {
     "name": "stdout",
     "output_type": "stream",
     "text": [
      "EarlyStopping counter: 9 out of 10000\n"
     ]
    },
    {
     "name": "stderr",
     "output_type": "stream",
     "text": [
      "Epoch 1: CE 0.263240, acc 0.922661:  50%|████████████████████████████████████████████████████████████████████▎                                                                   | 401/799 [00:41<00:40,  9.85it/s]"
     ]
    },
    {
     "name": "stdout",
     "output_type": "stream",
     "text": [
      "EarlyStopping counter: 10 out of 10000\n"
     ]
    },
    {
     "name": "stderr",
     "output_type": "stream",
     "text": [
      "Epoch 1: CE 0.263055, acc 0.922669:  75%|██████████████████████████████████████████████████████████████████████████████████████████████████████▎                                 | 601/799 [01:02<00:19,  9.92it/s]"
     ]
    },
    {
     "name": "stdout",
     "output_type": "stream",
     "text": [
      "EarlyStopping counter: 11 out of 10000\n"
     ]
    },
    {
     "name": "stderr",
     "output_type": "stream",
     "text": [
      "Epoch 1: CE 0.263247, acc 0.922532: 100%|████████████████████████████████████████████████████████████████████████████████████████████████████████████████████████████████████████| 799/799 [01:23<00:00,  9.52it/s]\n",
      "Epoch 1: CE 0.252216, acc 0.926996:   0%|▎                                                                                                                                         | 2/799 [00:00<01:30,  8.83it/s]"
     ]
    },
    {
     "name": "stdout",
     "output_type": "stream",
     "text": [
      "EarlyStopping counter: 12 out of 10000\n",
      "Epoch   341: reducing learning rate of group 0 to 5.8610e-04.\n"
     ]
    },
    {
     "name": "stderr",
     "output_type": "stream",
     "text": [
      "Epoch 1: CE 0.261479, acc 0.922939:  25%|██████████████████████████████████▍                                                                                                     | 202/799 [00:21<00:58, 10.19it/s]"
     ]
    },
    {
     "name": "stdout",
     "output_type": "stream",
     "text": [
      "EarlyStopping counter: 13 out of 10000\n"
     ]
    },
    {
     "name": "stderr",
     "output_type": "stream",
     "text": [
      "Epoch 1: CE 0.262074, acc 0.922995:  50%|████████████████████████████████████████████████████████████████████▍                                                                   | 402/799 [00:42<00:42,  9.42it/s]"
     ]
    },
    {
     "name": "stdout",
     "output_type": "stream",
     "text": [
      "EarlyStopping counter: 14 out of 10000\n"
     ]
    },
    {
     "name": "stderr",
     "output_type": "stream",
     "text": [
      "Epoch 1: CE 0.262764, acc 0.922659:  75%|██████████████████████████████████████████████████████████████████████████████████████████████████████▍                                 | 602/799 [01:03<00:23,  8.21it/s]"
     ]
    },
    {
     "name": "stdout",
     "output_type": "stream",
     "text": [
      "EarlyStopping counter: 15 out of 10000\n"
     ]
    },
    {
     "name": "stderr",
     "output_type": "stream",
     "text": [
      "Epoch 1: CE 0.261954, acc 0.922885: 100%|████████████████████████████████████████████████████████████████████████████████████████████████████████████████████████████████████████| 799/799 [01:24<00:00,  9.50it/s]\n",
      "Epoch 1: CE 0.286042, acc 0.911239:   0%|▏                                                                                                                                         | 1/799 [00:00<01:29,  8.88it/s]"
     ]
    },
    {
     "name": "stdout",
     "output_type": "stream",
     "text": [
      "EarlyStopping counter: 16 out of 10000\n"
     ]
    },
    {
     "name": "stderr",
     "output_type": "stream",
     "text": [
      "Epoch 1: CE 0.262095, acc 0.922526:  25%|██████████████████████████████████▍                                                                                                     | 202/799 [00:20<01:03,  9.39it/s]"
     ]
    },
    {
     "name": "stdout",
     "output_type": "stream",
     "text": [
      "EarlyStopping counter: 17 out of 10000\n"
     ]
    },
    {
     "name": "stderr",
     "output_type": "stream",
     "text": [
      "Epoch 1: CE 0.258816, acc 0.923327:  50%|████████████████████████████████████████████████████████████████████▌                                                                   | 403/799 [00:41<00:40,  9.79it/s]"
     ]
    },
    {
     "name": "stdout",
     "output_type": "stream",
     "text": [
      "EarlyStopping counter: 18 out of 10000\n",
      "Epoch   347: reducing learning rate of group 0 to 5.6265e-04.\n"
     ]
    },
    {
     "name": "stderr",
     "output_type": "stream",
     "text": [
      "Epoch 1: CE 0.261070, acc 0.923014:  75%|██████████████████████████████████████████████████████████████████████████████████████████████████████▍                                 | 602/799 [01:02<00:19,  9.99it/s]"
     ]
    },
    {
     "name": "stdout",
     "output_type": "stream",
     "text": [
      "EarlyStopping counter: 19 out of 10000\n"
     ]
    },
    {
     "name": "stderr",
     "output_type": "stream",
     "text": [
      "Epoch 1: CE 0.260560, acc 0.923050: 100%|████████████████████████████████████████████████████████████████████████████████████████████████████████████████████████████████████████| 799/799 [01:22<00:00,  9.64it/s]\n",
      "Epoch 1: CE 0.278425, acc 0.915382:   0%|▎                                                                                                                                         | 2/799 [00:00<01:26,  9.24it/s]"
     ]
    },
    {
     "name": "stdout",
     "output_type": "stream",
     "text": [
      "EarlyStopping counter: 20 out of 10000\n"
     ]
    },
    {
     "name": "stderr",
     "output_type": "stream",
     "text": [
      "Epoch 1: CE 0.261424, acc 0.923014:  25%|██████████████████████████████████▍                                                                                                     | 202/799 [00:21<01:08,  8.66it/s]"
     ]
    },
    {
     "name": "stdout",
     "output_type": "stream",
     "text": [
      "EarlyStopping counter: 21 out of 10000\n"
     ]
    },
    {
     "name": "stderr",
     "output_type": "stream",
     "text": [
      "Epoch 1: CE 0.260877, acc 0.923003:  50%|████████████████████████████████████████████████████████████████████▍                                                                   | 402/799 [00:42<00:47,  8.31it/s]"
     ]
    },
    {
     "name": "stdout",
     "output_type": "stream",
     "text": [
      "EarlyStopping counter: 22 out of 10000\n"
     ]
    },
    {
     "name": "stderr",
     "output_type": "stream",
     "text": [
      "Epoch 1: CE 0.261683, acc 0.922615:  75%|██████████████████████████████████████████████████████████████████████████████████████████████████████▎                                 | 601/799 [01:02<00:19, 10.11it/s]"
     ]
    },
    {
     "name": "stdout",
     "output_type": "stream",
     "text": [
      "EarlyStopping counter: 23 out of 10000\n"
     ]
    },
    {
     "name": "stderr",
     "output_type": "stream",
     "text": [
      "Epoch 1: CE 0.263487, acc 0.922189: 100%|████████████████████████████████████████████████████████████████████████████████████████████████████████████████████████████████████████| 799/799 [01:23<00:00,  9.58it/s]\n",
      "Epoch 1: CE 0.230406, acc 0.934904:   0%|▎                                                                                                                                         | 2/799 [00:00<01:25,  9.29it/s]"
     ]
    },
    {
     "name": "stdout",
     "output_type": "stream",
     "text": [
      "EarlyStopping counter: 24 out of 10000\n",
      "Epoch   353: reducing learning rate of group 0 to 5.4015e-04.\n"
     ]
    },
    {
     "name": "stderr",
     "output_type": "stream",
     "text": [
      "Epoch 1: CE 0.255850, acc 0.924031:  25%|██████████████████████████████████▍                                                                                                     | 202/799 [00:21<01:03,  9.38it/s]"
     ]
    },
    {
     "name": "stdout",
     "output_type": "stream",
     "text": [
      "EarlyStopping counter: 25 out of 10000\n"
     ]
    },
    {
     "name": "stderr",
     "output_type": "stream",
     "text": [
      "Epoch 1: CE 0.262456, acc 0.922829:  50%|████████████████████████████████████████████████████████████████████▍                                                                   | 402/799 [00:41<00:42,  9.44it/s]"
     ]
    },
    {
     "name": "stdout",
     "output_type": "stream",
     "text": [
      "EarlyStopping counter: 26 out of 10000\n"
     ]
    },
    {
     "name": "stderr",
     "output_type": "stream",
     "text": [
      "Epoch 1: CE 0.263408, acc 0.922513:  75%|██████████████████████████████████████████████████████████████████████████████████████████████████████▍                                 | 602/799 [01:02<00:19, 10.24it/s]"
     ]
    },
    {
     "name": "stdout",
     "output_type": "stream",
     "text": [
      "EarlyStopping counter: 27 out of 10000\n"
     ]
    },
    {
     "name": "stderr",
     "output_type": "stream",
     "text": [
      "Epoch 1: CE 0.261978, acc 0.922873: 100%|████████████████████████████████████████████████████████████████████████████████████████████████████████████████████████████████████████| 799/799 [01:23<00:00,  9.57it/s]\n",
      "Epoch 1: CE 0.301806, acc 0.915084:   0%|▌                                                                                                                                         | 3/799 [00:00<01:12, 10.97it/s]"
     ]
    },
    {
     "name": "stdout",
     "output_type": "stream",
     "text": [
      "EarlyStopping counter: 28 out of 10000\n"
     ]
    },
    {
     "name": "stderr",
     "output_type": "stream",
     "text": [
      "Epoch 1: CE 0.261109, acc 0.923353:  25%|██████████████████████████████████▍                                                                                                     | 202/799 [00:21<01:02,  9.48it/s]"
     ]
    },
    {
     "name": "stdout",
     "output_type": "stream",
     "text": [
      "EarlyStopping counter: 29 out of 10000\n"
     ]
    },
    {
     "name": "stderr",
     "output_type": "stream",
     "text": [
      "Epoch 1: CE 0.260880, acc 0.922960:  50%|████████████████████████████████████████████████████████████████████▌                                                                   | 403/799 [00:42<00:39,  9.92it/s]"
     ]
    },
    {
     "name": "stdout",
     "output_type": "stream",
     "text": [
      "EarlyStopping counter: 30 out of 10000\n",
      "Epoch   359: reducing learning rate of group 0 to 5.1854e-04.\n"
     ]
    },
    {
     "name": "stderr",
     "output_type": "stream",
     "text": [
      "Epoch 1: CE 0.259792, acc 0.923350:  75%|██████████████████████████████████████████████████████████████████████████████████████████████████████▍                                 | 602/799 [01:03<00:19, 10.14it/s]"
     ]
    },
    {
     "name": "stdout",
     "output_type": "stream",
     "text": [
      "EarlyStopping counter: 31 out of 10000\n"
     ]
    },
    {
     "name": "stderr",
     "output_type": "stream",
     "text": [
      "Epoch 1: CE 0.259928, acc 0.923478: 100%|████████████████████████████████████████████████████████████████████████████████████████████████████████████████████████████████████████| 799/799 [01:23<00:00,  9.58it/s]\n",
      "Epoch 1: CE 0.283407, acc 0.922453:   0%|▎                                                                                                                                         | 2/799 [00:00<01:07, 11.74it/s]"
     ]
    },
    {
     "name": "stdout",
     "output_type": "stream",
     "text": [
      "EarlyStopping counter: 32 out of 10000\n"
     ]
    },
    {
     "name": "stderr",
     "output_type": "stream",
     "text": [
      "Epoch 1: CE 0.256761, acc 0.923439:  25%|██████████████████████████████████▌                                                                                                     | 203/799 [00:21<00:59, 10.00it/s]"
     ]
    },
    {
     "name": "stdout",
     "output_type": "stream",
     "text": [
      "EarlyStopping counter: 33 out of 10000\n"
     ]
    },
    {
     "name": "stderr",
     "output_type": "stream",
     "text": [
      "Epoch 1: CE 0.258449, acc 0.923222:  50%|████████████████████████████████████████████████████████████████████▌                                                                   | 403/799 [00:42<00:39, 10.04it/s]"
     ]
    },
    {
     "name": "stdout",
     "output_type": "stream",
     "text": [
      "EarlyStopping counter: 34 out of 10000\n"
     ]
    },
    {
     "name": "stderr",
     "output_type": "stream",
     "text": [
      "Epoch 1: CE 0.258790, acc 0.923375:  75%|██████████████████████████████████████████████████████████████████████████████████████████████████████▍                                 | 602/799 [01:02<00:31,  6.22it/s]"
     ]
    },
    {
     "name": "stdout",
     "output_type": "stream",
     "text": [
      "EarlyStopping counter: 35 out of 10000\n"
     ]
    },
    {
     "name": "stderr",
     "output_type": "stream",
     "text": [
      "Epoch 1: CE 0.258743, acc 0.923534: 100%|████████████████████████████████████████████████████████████████████████████████████████████████████████████████████████████████████████| 799/799 [01:23<00:00,  9.54it/s]\n",
      "Epoch 1: CE 0.259585, acc 0.924863:   0%|▎                                                                                                                                         | 2/799 [00:00<01:32,  8.65it/s]"
     ]
    },
    {
     "name": "stdout",
     "output_type": "stream",
     "text": [
      "EarlyStopping counter: 36 out of 10000\n",
      "Epoch   365: reducing learning rate of group 0 to 4.9780e-04.\n"
     ]
    },
    {
     "name": "stderr",
     "output_type": "stream",
     "text": [
      "Epoch 1: CE 0.257847, acc 0.924096:  25%|██████████████████████████████████▌                                                                                                     | 203/799 [00:21<00:58, 10.24it/s]"
     ]
    },
    {
     "name": "stdout",
     "output_type": "stream",
     "text": [
      "EarlyStopping counter: 37 out of 10000\n"
     ]
    },
    {
     "name": "stderr",
     "output_type": "stream",
     "text": [
      "Epoch 1: CE 0.256646, acc 0.924699:  50%|████████████████████████████████████████████████████████████████████▎                                                                   | 401/799 [00:42<00:40,  9.85it/s]"
     ]
    },
    {
     "name": "stdout",
     "output_type": "stream",
     "text": [
      "EarlyStopping counter: 38 out of 10000\n"
     ]
    },
    {
     "name": "stderr",
     "output_type": "stream",
     "text": [
      "Epoch 1: CE 0.258112, acc 0.924329:  75%|██████████████████████████████████████████████████████████████████████████████████████████████████████▍                                 | 602/799 [01:03<00:21,  9.04it/s]"
     ]
    },
    {
     "name": "stdout",
     "output_type": "stream",
     "text": [
      "EarlyStopping counter: 39 out of 10000\n"
     ]
    },
    {
     "name": "stderr",
     "output_type": "stream",
     "text": [
      "Epoch 1: CE 0.258506, acc 0.924208: 100%|████████████████████████████████████████████████████████████████████████████████████████████████████████████████████████████████████████| 799/799 [01:23<00:00,  9.52it/s]\n",
      "Epoch 1: CE 0.282539, acc 0.918725:   0%|▎                                                                                                                                         | 2/799 [00:00<01:24,  9.38it/s]"
     ]
    },
    {
     "name": "stdout",
     "output_type": "stream",
     "text": [
      "EarlyStopping counter: 40 out of 10000\n"
     ]
    },
    {
     "name": "stderr",
     "output_type": "stream",
     "text": [
      "Epoch 1: CE 0.254512, acc 0.925629:  25%|██████████████████████████████████▍                                                                                                     | 202/799 [00:20<01:02,  9.56it/s]"
     ]
    },
    {
     "name": "stdout",
     "output_type": "stream",
     "text": [
      "EarlyStopping counter: 41 out of 10000\n"
     ]
    },
    {
     "name": "stderr",
     "output_type": "stream",
     "text": [
      "Epoch 1: CE 0.256611, acc 0.924951:  50%|████████████████████████████████████████████████████████████████████▎                                                                   | 401/799 [00:41<00:40,  9.94it/s]"
     ]
    },
    {
     "name": "stdout",
     "output_type": "stream",
     "text": [
      "EarlyStopping counter: 42 out of 10000\n",
      "Epoch   371: reducing learning rate of group 0 to 4.7789e-04.\n"
     ]
    },
    {
     "name": "stderr",
     "output_type": "stream",
     "text": [
      "Epoch 1: CE 0.257646, acc 0.924507:  75%|██████████████████████████████████████████████████████████████████████████████████████████████████████▍                                 | 602/799 [01:03<00:19,  9.96it/s]"
     ]
    },
    {
     "name": "stdout",
     "output_type": "stream",
     "text": [
      "EarlyStopping counter: 43 out of 10000\n"
     ]
    },
    {
     "name": "stderr",
     "output_type": "stream",
     "text": [
      "Epoch 1: CE 0.257028, acc 0.924438: 100%|████████████████████████████████████████████████████████████████████████████████████████████████████████████████████████████████████████| 799/799 [01:23<00:00,  9.51it/s]\n",
      "Epoch 1: CE 0.268028, acc 0.921561:   0%|▎                                                                                                                                         | 2/799 [00:00<01:26,  9.24it/s]"
     ]
    },
    {
     "name": "stdout",
     "output_type": "stream",
     "text": [
      "EarlyStopping counter: 44 out of 10000\n"
     ]
    },
    {
     "name": "stderr",
     "output_type": "stream",
     "text": [
      "Epoch 1: CE 0.258809, acc 0.924615:  25%|██████████████████████████████████▍                                                                                                     | 202/799 [00:20<00:59,  9.98it/s]"
     ]
    },
    {
     "name": "stdout",
     "output_type": "stream",
     "text": [
      "EarlyStopping counter: 45 out of 10000\n"
     ]
    },
    {
     "name": "stderr",
     "output_type": "stream",
     "text": [
      "Epoch 1: CE 0.258833, acc 0.923974:  50%|████████████████████████████████████████████████████████████████████▍                                                                   | 402/799 [00:41<00:39, 10.05it/s]"
     ]
    },
    {
     "name": "stdout",
     "output_type": "stream",
     "text": [
      "EarlyStopping counter: 46 out of 10000\n"
     ]
    },
    {
     "name": "stderr",
     "output_type": "stream",
     "text": [
      "Epoch 1: CE 0.259341, acc 0.923908:  75%|██████████████████████████████████████████████████████████████████████████████████████████████████████▍                                 | 602/799 [01:03<00:21,  9.04it/s]"
     ]
    },
    {
     "name": "stdout",
     "output_type": "stream",
     "text": [
      "EarlyStopping counter: 47 out of 10000\n"
     ]
    },
    {
     "name": "stderr",
     "output_type": "stream",
     "text": [
      "Epoch 1: CE 0.259721, acc 0.923720: 100%|████████████████████████████████████████████████████████████████████████████████████████████████████████████████████████████████████████| 799/799 [01:23<00:00,  9.52it/s]\n",
      "Epoch 1: CE 0.235135, acc 0.924298:   0%|▎                                                                                                                                         | 2/799 [00:00<01:08, 11.63it/s]"
     ]
    },
    {
     "name": "stdout",
     "output_type": "stream",
     "text": [
      "EarlyStopping counter: 48 out of 10000\n",
      "Epoch   377: reducing learning rate of group 0 to 4.5877e-04.\n"
     ]
    },
    {
     "name": "stderr",
     "output_type": "stream",
     "text": [
      "Epoch 1: CE 0.257853, acc 0.924622:  25%|██████████████████████████████████▍                                                                                                     | 202/799 [00:21<01:04,  9.21it/s]"
     ]
    },
    {
     "name": "stdout",
     "output_type": "stream",
     "text": [
      "EarlyStopping counter: 49 out of 10000\n"
     ]
    },
    {
     "name": "stderr",
     "output_type": "stream",
     "text": [
      "Epoch 1: CE 0.257858, acc 0.924408:  50%|████████████████████████████████████████████████████████████████████▍                                                                   | 402/799 [00:42<00:42,  9.40it/s]"
     ]
    },
    {
     "name": "stdout",
     "output_type": "stream",
     "text": [
      "EarlyStopping counter: 50 out of 10000\n"
     ]
    },
    {
     "name": "stderr",
     "output_type": "stream",
     "text": [
      "Epoch 1: CE 0.257224, acc 0.924441:  75%|██████████████████████████████████████████████████████████████████████████████████████████████████████▎                                 | 601/799 [01:03<00:18, 10.43it/s]"
     ]
    },
    {
     "name": "stdout",
     "output_type": "stream",
     "text": [
      "EarlyStopping counter: 51 out of 10000\n"
     ]
    },
    {
     "name": "stderr",
     "output_type": "stream",
     "text": [
      "Epoch 1: CE 0.257526, acc 0.924319: 100%|████████████████████████████████████████████████████████████████████████████████████████████████████████████████████████████████████████| 799/799 [01:24<00:00,  9.44it/s]\n",
      "Epoch 1: CE 0.248048, acc 0.927374:   0%|▎                                                                                                                                         | 2/799 [00:00<01:07, 11.81it/s]"
     ]
    },
    {
     "name": "stdout",
     "output_type": "stream",
     "text": [
      "EarlyStopping counter: 52 out of 10000\n"
     ]
    },
    {
     "name": "stderr",
     "output_type": "stream",
     "text": [
      "Epoch 1: CE 0.257566, acc 0.923555:  25%|██████████████████████████████████▍                                                                                                     | 202/799 [00:21<01:10,  8.50it/s]"
     ]
    },
    {
     "name": "stdout",
     "output_type": "stream",
     "text": [
      "EarlyStopping counter: 53 out of 10000\n"
     ]
    },
    {
     "name": "stderr",
     "output_type": "stream",
     "text": [
      "Epoch 1: CE 0.255994, acc 0.924581:  50%|████████████████████████████████████████████████████████████████████▌                                                                   | 403/799 [00:42<00:38, 10.19it/s]"
     ]
    },
    {
     "name": "stdout",
     "output_type": "stream",
     "text": [
      "EarlyStopping counter: 54 out of 10000\n",
      "Epoch   383: reducing learning rate of group 0 to 4.4042e-04.\n"
     ]
    },
    {
     "name": "stderr",
     "output_type": "stream",
     "text": [
      "Epoch 1: CE 0.255599, acc 0.924466:  75%|██████████████████████████████████████████████████████████████████████████████████████████████████████▋                                 | 603/799 [01:03<00:19, 10.08it/s]"
     ]
    },
    {
     "name": "stdout",
     "output_type": "stream",
     "text": [
      "EarlyStopping counter: 55 out of 10000\n"
     ]
    },
    {
     "name": "stderr",
     "output_type": "stream",
     "text": [
      "Epoch 1: CE 0.256646, acc 0.924398: 100%|████████████████████████████████████████████████████████████████████████████████████████████████████████████████████████████████████████| 799/799 [01:24<00:00,  9.46it/s]\n",
      "Epoch 1: CE 0.250543, acc 0.925800:  25%|██████████████████████████████████▍                                                                                                     | 202/799 [00:20<00:59, 10.10it/s]"
     ]
    },
    {
     "name": "stdout",
     "output_type": "stream",
     "text": [
      "EarlyStopping counter: 1 out of 10000\n"
     ]
    },
    {
     "name": "stderr",
     "output_type": "stream",
     "text": [
      "Epoch 1: CE 0.258305, acc 0.924111:  50%|████████████████████████████████████████████████████████████████████▌                                                                   | 403/799 [00:42<00:39, 10.03it/s]"
     ]
    },
    {
     "name": "stdout",
     "output_type": "stream",
     "text": [
      "EarlyStopping counter: 2 out of 10000\n"
     ]
    },
    {
     "name": "stderr",
     "output_type": "stream",
     "text": [
      "Epoch 1: CE 0.257399, acc 0.924448:  75%|██████████████████████████████████████████████████████████████████████████████████████████████████████▋                                 | 603/799 [01:03<00:21,  9.09it/s]"
     ]
    },
    {
     "name": "stdout",
     "output_type": "stream",
     "text": [
      "EarlyStopping counter: 3 out of 10000\n"
     ]
    },
    {
     "name": "stderr",
     "output_type": "stream",
     "text": [
      "Epoch 1: CE 0.256670, acc 0.924691: 100%|████████████████████████████████████████████████████████████████████████████████████████████████████████████████████████████████████████| 799/799 [01:24<00:00,  9.45it/s]\n",
      "Epoch 1: CE 0.255072, acc 0.921003:   0%|▎                                                                                                                                         | 2/799 [00:00<01:20,  9.94it/s]"
     ]
    },
    {
     "name": "stdout",
     "output_type": "stream",
     "text": [
      "EarlyStopping counter: 4 out of 10000\n"
     ]
    },
    {
     "name": "stderr",
     "output_type": "stream",
     "text": [
      "Epoch 1: CE 0.255702, acc 0.924084:  25%|██████████████████████████████████▍                                                                                                     | 202/799 [00:21<01:04,  9.32it/s]"
     ]
    },
    {
     "name": "stdout",
     "output_type": "stream",
     "text": [
      "EarlyStopping counter: 5 out of 10000\n"
     ]
    },
    {
     "name": "stderr",
     "output_type": "stream",
     "text": [
      "Epoch 1: CE 0.255905, acc 0.924397:  50%|████████████████████████████████████████████████████████████████████▍                                                                   | 402/799 [00:42<00:39, 10.12it/s]"
     ]
    },
    {
     "name": "stdout",
     "output_type": "stream",
     "text": [
      "EarlyStopping counter: 6 out of 10000\n",
      "Epoch   391: reducing learning rate of group 0 to 4.2281e-04.\n"
     ]
    },
    {
     "name": "stderr",
     "output_type": "stream",
     "text": [
      "Epoch 1: CE 0.256580, acc 0.924262:  75%|██████████████████████████████████████████████████████████████████████████████████████████████████████▎                                 | 601/799 [01:02<00:19, 10.06it/s]"
     ]
    },
    {
     "name": "stdout",
     "output_type": "stream",
     "text": [
      "EarlyStopping counter: 7 out of 10000\n"
     ]
    },
    {
     "name": "stderr",
     "output_type": "stream",
     "text": [
      "Epoch 1: CE 0.256082, acc 0.924400: 100%|████████████████████████████████████████████████████████████████████████████████████████████████████████████████████████████████████████| 799/799 [01:23<00:00,  9.57it/s]\n",
      "Epoch 1: CE 0.264074, acc 0.925215:   0%|▎                                                                                                                                         | 2/799 [00:00<01:16, 10.42it/s]"
     ]
    },
    {
     "name": "stdout",
     "output_type": "stream",
     "text": [
      "EarlyStopping counter: 8 out of 10000\n"
     ]
    },
    {
     "name": "stderr",
     "output_type": "stream",
     "text": [
      "Epoch 1: CE 0.258107, acc 0.924454:  25%|██████████████████████████████████▍                                                                                                     | 202/799 [00:21<00:59,  9.98it/s]"
     ]
    },
    {
     "name": "stdout",
     "output_type": "stream",
     "text": [
      "EarlyStopping counter: 9 out of 10000\n"
     ]
    },
    {
     "name": "stderr",
     "output_type": "stream",
     "text": [
      "Epoch 1: CE 0.256470, acc 0.924550:  50%|████████████████████████████████████████████████████████████████████▍                                                                   | 402/799 [00:42<00:39, 10.12it/s]"
     ]
    },
    {
     "name": "stdout",
     "output_type": "stream",
     "text": [
      "EarlyStopping counter: 10 out of 10000\n"
     ]
    },
    {
     "name": "stderr",
     "output_type": "stream",
     "text": [
      "Epoch 1: CE 0.255201, acc 0.924651:  75%|██████████████████████████████████████████████████████████████████████████████████████████████████████▍                                 | 602/799 [01:03<00:19, 10.32it/s]"
     ]
    },
    {
     "name": "stdout",
     "output_type": "stream",
     "text": [
      "EarlyStopping counter: 11 out of 10000\n"
     ]
    },
    {
     "name": "stderr",
     "output_type": "stream",
     "text": [
      "Epoch 1: CE 0.255573, acc 0.924533: 100%|████████████████████████████████████████████████████████████████████████████████████████████████████████████████████████████████████████| 799/799 [01:23<00:00,  9.52it/s]\n",
      "Epoch 1: CE 0.239267, acc 0.923679:   0%|▏                                                                                                                                         | 1/799 [00:00<01:46,  7.51it/s]"
     ]
    },
    {
     "name": "stdout",
     "output_type": "stream",
     "text": [
      "EarlyStopping counter: 12 out of 10000\n",
      "Epoch   397: reducing learning rate of group 0 to 4.0589e-04.\n"
     ]
    },
    {
     "name": "stderr",
     "output_type": "stream",
     "text": [
      "Epoch 1: CE 0.254657, acc 0.924382:  25%|██████████████████████████████████▏                                                                                                     | 201/799 [00:21<01:08,  8.79it/s]"
     ]
    },
    {
     "name": "stdout",
     "output_type": "stream",
     "text": [
      "EarlyStopping counter: 13 out of 10000\n"
     ]
    },
    {
     "name": "stderr",
     "output_type": "stream",
     "text": [
      "Epoch 1: CE 0.255572, acc 0.924386:  50%|████████████████████████████████████████████████████████████████████▌                                                                   | 403/799 [00:41<00:34, 11.57it/s]"
     ]
    },
    {
     "name": "stdout",
     "output_type": "stream",
     "text": [
      "EarlyStopping counter: 14 out of 10000\n"
     ]
    },
    {
     "name": "stderr",
     "output_type": "stream",
     "text": [
      "Epoch 1: CE 0.257133, acc 0.924192:  75%|██████████████████████████████████████████████████████████████████████████████████████████████████████▍                                 | 602/799 [01:02<00:20,  9.79it/s]"
     ]
    },
    {
     "name": "stdout",
     "output_type": "stream",
     "text": [
      "EarlyStopping counter: 15 out of 10000\n"
     ]
    },
    {
     "name": "stderr",
     "output_type": "stream",
     "text": [
      "Epoch 1: CE 0.256131, acc 0.924326: 100%|████████████████████████████████████████████████████████████████████████████████████████████████████████████████████████████████████████| 799/799 [01:23<00:00,  9.60it/s]\n",
      "Epoch 1: CE 0.273328, acc 0.928289:   0%|▎                                                                                                                                         | 2/799 [00:00<01:08, 11.67it/s]"
     ]
    },
    {
     "name": "stdout",
     "output_type": "stream",
     "text": [
      "EarlyStopping counter: 16 out of 10000\n"
     ]
    },
    {
     "name": "stderr",
     "output_type": "stream",
     "text": [
      "Epoch 1: CE 0.244710, acc 0.927725:   3%|████▍                                                                                                                                    | 26/799 [00:02<01:21,  9.49it/s]"
     ]
    },
    {
     "name": "stdout",
     "output_type": "stream",
     "text": [
      "keyboard interrupt caught\n"
     ]
    },
    {
     "name": "stderr",
     "output_type": "stream",
     "text": [
      "\n"
     ]
    }
   ],
   "source": [
    "try:\n",
    "    for epoch in range(config.n_epochs):\n",
    "        epoch_loss = 0\n",
    "        epoch_acc = 0\n",
    "        for split in range(config.n_splits):\n",
    "            \n",
    "            n_ids = config.n_files//config.n_splits\n",
    "            dataset = PubChem(n_used = n_ids, n_splits = config.n_files,\n",
    "                              dformat=config.dformat)\n",
    "            loader = DataLoader(dataset, batch_size=config.batch_size, shuffle=True, pin_memory=False, \n",
    "                                collate_fn=collate_fn,\n",
    "                   num_workers=config.num_workers, prefetch_factor=config.prefetch_factor, \n",
    "                    persistent_workers=config.persistent_workers)\n",
    "            for j in range(config.n_iter_per_split):\n",
    "                pbar = tqdm.tqdm(loader)\n",
    "                for i, data in enumerate(pbar):\n",
    "                    if i % config.accumulate_grads == 0: #bei 0 wollen wir das\n",
    "                        optim.zero_grad()\n",
    "                    g, ndata, edata, labels = data\n",
    "                    g = g.to(device)\n",
    "                    ndata = ndata.to(device)\n",
    "                    edata = edata.to(device)\n",
    "                    labels = labels.to(device)\n",
    "                    \n",
    "                    #prediction\n",
    "                    features = model(g, ndata, edata)\n",
    "                    pred = model_head(features)\n",
    "                    loss = ce(pred, labels)\n",
    "                    mask = labels != -1\n",
    "                    acc = (torch.argmax(pred[mask], axis=1) == labels[mask]).sum()/len(labels[mask])\n",
    "                    loss.backward()\n",
    "                    #torch.nn.utils.clip_grad_norm_(model.parameters(), 0.5)\n",
    "                    if (i+1) % config.accumulate_grads == 0:\n",
    "                        optim.step() # bei 2 wollen wir das\n",
    "                    epoch_loss = (epoch_loss*i + loss.item())/(i+1)\n",
    "                    epoch_acc = (epoch_acc*i + acc.item())/(i+1)\n",
    "\n",
    "                    curr_lr = list(optim.param_groups)[0]['lr']\n",
    "                    wandb.log({'loss':epoch_loss, 'acc':epoch_acc,'learning rate':curr_lr})\n",
    "                    pbar.set_description('Epoch %d: CE %2.6f, acc %2.6f'%(epoch+1, epoch_loss, epoch_acc))\n",
    "\n",
    "                    if i % config.lr_adjustment_period == 0:\n",
    "                        early_stopping(epoch_loss, model)\n",
    "                        lr_scheduler.step(epoch_loss)\n",
    "                        if early_stopping.early_stop:\n",
    "                            break\n",
    "\n",
    "                        if curr_lr < config.minimal_lr:\n",
    "                            break\n",
    "                \n",
    "                \n",
    "            del dataset\n",
    "            del loader\n",
    "        \n",
    "\n",
    "except KeyboardInterrupt:\n",
    "    torch.save(model.state_dict(), config.model_dir+'_keyboardinterrupt.pt')\n",
    "    print('keyboard interrupt caught')\n"
   ]
  },
  {
   "cell_type": "code",
   "execution_count": null,
   "id": "0f0009a9",
   "metadata": {},
   "outputs": [],
   "source": []
  }
 ],
 "metadata": {
  "kernelspec": {
   "display_name": "Python 3 (ipykernel)",
   "language": "python",
   "name": "python3"
  },
  "language_info": {
   "codemirror_mode": {
    "name": "ipython",
    "version": 3
   },
   "file_extension": ".py",
   "mimetype": "text/x-python",
   "name": "python",
   "nbconvert_exporter": "python",
   "pygments_lexer": "ipython3",
   "version": "3.8.3"
  }
 },
 "nbformat": 4,
 "nbformat_minor": 5
}
