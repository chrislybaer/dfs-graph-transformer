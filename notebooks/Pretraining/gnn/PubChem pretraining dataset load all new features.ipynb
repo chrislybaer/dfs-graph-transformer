{
 "cells": [
  {
   "cell_type": "code",
   "execution_count": 1,
   "id": "49a7ca25",
   "metadata": {},
   "outputs": [],
   "source": [
    "%load_ext autoreload\n",
    "%autoreload 2"
   ]
  },
  {
   "cell_type": "code",
   "execution_count": 2,
   "id": "0033798e",
   "metadata": {},
   "outputs": [],
   "source": [
    "import json\n",
    "import numpy as np\n",
    "from torch.utils.data import Dataset, DataLoader\n",
    "import glob\n",
    "import wandb\n",
    "import os\n",
    "import torch.optim as optimizers"
   ]
  },
  {
   "cell_type": "code",
   "execution_count": 3,
   "id": "7844993f",
   "metadata": {},
   "outputs": [],
   "source": [
    "import dfs_code\n",
    "from torch_geometric.data import InMemoryDataset, Data\n",
    "import pickle\n",
    "import torch\n",
    "import torch.nn as nn\n",
    "import tqdm\n",
    "import copy\n",
    "import pandas as pd\n",
    "#torch.multiprocessing.set_sharing_strategy('file_system') # this is important on local machine\n",
    "#def set_worker_sharing_strategy(worker_id: int) -> None:\n",
    "#    torch.multiprocessing.set_sharing_strategy('file_system')"
   ]
  },
  {
   "cell_type": "code",
   "execution_count": 4,
   "id": "5a81b63d",
   "metadata": {},
   "outputs": [
    {
     "name": "stderr",
     "output_type": "stream",
     "text": [
      "Using backend: pytorch\n",
      "2021-09-08 19:13:54.573213: W tensorflow/stream_executor/platform/default/dso_loader.cc:64] Could not load dynamic library 'libcudart.so.11.0'; dlerror: libcudart.so.11.0: cannot open shared object file: No such file or directory; LD_LIBRARY_PATH: :/opt/cuda/extras/CUPTI/lib64/:/opt/intel/lib:/opt/intel/mkl/lib/intel64:/opt/intel:/opt/ibm/ILOG/CPLEX_Studio1210/cplex/bin/x86-64_linux:/opt/ibm/ILOG/CPLEX_Studio1210/cplex/python/3.7/x86-64_linux:/opt/intel/clck_latest/lib:/opt/intel/daal/lib:/opt/intel/intelpython3/lib:/opt/intel/ipp/lib:/opt/intel/itac_2019/lib:/opt/intel/itac_latest/lib:/opt/intel/mkl/lib:/opt/intel/mkl_/lib:/opt/intel/mpirt/lib:/opt/intel/tbb/lib:/opt/intel/clck/2019.0/lib:/opt/intel/compilers_and_libraries_2019/linux/lib:/opt/intel/compilers_and_libraries/linux/lib:/opt/intel/itac/2019.0.018/lib:/opt/intel/itac_2019/intel64/lib:/opt/intel/itac_latest/intel64/lib:/opt/intel/parallel_studio_xe_2019.0.045/clck_2019/lib:/opt/intel/parallel_studio_xe_2019.0.045/itac_2019/lib:/opt/intel/parallel_studio_xe_2019/clck_2019/lib:/opt/intel/parallel_studio_xe_2019/itac_2019/lib:/opt/cuda/extras/CUPTI/lib64/:/opt/intel/lib:/opt/intel/mkl/lib/intel64:/opt/intel:/opt/ibm/ILOG/CPLEX_Studio1210/cplex/bin/x86-64_linux:/opt/ibm/ILOG/CPLEX_Studio1210/cplex/python/3.7/x86-64_linux:/opt/intel/clck_latest/lib:/opt/intel/daal/lib:/opt/intel/intelpython3/lib:/opt/intel/ipp/lib:/opt/intel/itac_2019/lib:/opt/intel/itac_latest/lib:/opt/intel/mkl/lib:/opt/intel/mkl_/lib:/opt/intel/mpirt/lib:/opt/intel/tbb/lib:/opt/intel/clck/2019.0/lib:/opt/intel/compilers_and_libraries_2019/linux/lib:/opt/intel/compilers_and_libraries/linux/lib:/opt/intel/itac/2019.0.018/lib:/opt/intel/itac_2019/intel64/lib:/opt/intel/itac_latest/intel64/lib:/opt/intel/parallel_studio_xe_2019.0.045/clck_2019/lib:/opt/intel/parallel_studio_xe_2019.0.045/itac_2019/lib:/opt/intel/parallel_studio_xe_2019/clck_2019/lib:/opt/intel/parallel_studio_xe_2019/itac_2019/lib\n",
      "2021-09-08 19:13:54.573234: I tensorflow/stream_executor/cuda/cudart_stub.cc:29] Ignore above cudart dlerror if you do not have a GPU set up on your machine.\n",
      "WARNING:root:No normalization for BCUT2D_MWHI\n",
      "WARNING:root:No normalization for BCUT2D_MWLOW\n",
      "WARNING:root:No normalization for BCUT2D_CHGHI\n",
      "WARNING:root:No normalization for BCUT2D_CHGLO\n",
      "WARNING:root:No normalization for BCUT2D_LOGPHI\n",
      "WARNING:root:No normalization for BCUT2D_LOGPLOW\n",
      "WARNING:root:No normalization for BCUT2D_MRHI\n",
      "WARNING:root:No normalization for BCUT2D_MRLOW\n"
     ]
    }
   ],
   "source": [
    "import sys\n",
    "sys.path = ['../../../src'] + sys.path\n",
    "from dfs_transformer import EarlyStopping, DFSCodeSeq2SeqFC, smiles2graph"
   ]
  },
  {
   "cell_type": "code",
   "execution_count": 5,
   "id": "3a3f7c7b",
   "metadata": {},
   "outputs": [],
   "source": [
    "import dgl\n",
    "import deepchem as dc"
   ]
  },
  {
   "cell_type": "code",
   "execution_count": 6,
   "id": "69384b8c",
   "metadata": {},
   "outputs": [
    {
     "name": "stderr",
     "output_type": "stream",
     "text": [
      "ERROR:wandb.jupyter:Failed to detect the name of this notebook, you can set it manually with the WANDB_NOTEBOOK_NAME environment variable to enable code saving.\n",
      "\u001b[34m\u001b[1mwandb\u001b[0m: Currently logged in as: \u001b[33mchrisxx\u001b[0m (use `wandb login --relogin` to force relogin)\n",
      "\u001b[34m\u001b[1mwandb\u001b[0m: wandb version 0.12.1 is available!  To upgrade, please run:\n",
      "\u001b[34m\u001b[1mwandb\u001b[0m:  $ pip install wandb --upgrade\n",
      "2021-09-08 19:13:57.336394: W tensorflow/stream_executor/platform/default/dso_loader.cc:64] Could not load dynamic library 'libcudart.so.11.0'; dlerror: libcudart.so.11.0: cannot open shared object file: No such file or directory; LD_LIBRARY_PATH: :/opt/cuda/extras/CUPTI/lib64/:/opt/intel/lib:/opt/intel/mkl/lib/intel64:/opt/intel:/opt/ibm/ILOG/CPLEX_Studio1210/cplex/bin/x86-64_linux:/opt/ibm/ILOG/CPLEX_Studio1210/cplex/python/3.7/x86-64_linux:/opt/intel/clck_latest/lib:/opt/intel/daal/lib:/opt/intel/intelpython3/lib:/opt/intel/ipp/lib:/opt/intel/itac_2019/lib:/opt/intel/itac_latest/lib:/opt/intel/mkl/lib:/opt/intel/mkl_/lib:/opt/intel/mpirt/lib:/opt/intel/tbb/lib:/opt/intel/clck/2019.0/lib:/opt/intel/compilers_and_libraries_2019/linux/lib:/opt/intel/compilers_and_libraries/linux/lib:/opt/intel/itac/2019.0.018/lib:/opt/intel/itac_2019/intel64/lib:/opt/intel/itac_latest/intel64/lib:/opt/intel/parallel_studio_xe_2019.0.045/clck_2019/lib:/opt/intel/parallel_studio_xe_2019.0.045/itac_2019/lib:/opt/intel/parallel_studio_xe_2019/clck_2019/lib:/opt/intel/parallel_studio_xe_2019/itac_2019/lib:/opt/cuda/extras/CUPTI/lib64/:/opt/intel/lib:/opt/intel/mkl/lib/intel64:/opt/intel:/opt/ibm/ILOG/CPLEX_Studio1210/cplex/bin/x86-64_linux:/opt/ibm/ILOG/CPLEX_Studio1210/cplex/python/3.7/x86-64_linux:/opt/intel/clck_latest/lib:/opt/intel/daal/lib:/opt/intel/intelpython3/lib:/opt/intel/ipp/lib:/opt/intel/itac_2019/lib:/opt/intel/itac_latest/lib:/opt/intel/mkl/lib:/opt/intel/mkl_/lib:/opt/intel/mpirt/lib:/opt/intel/tbb/lib:/opt/intel/clck/2019.0/lib:/opt/intel/compilers_and_libraries_2019/linux/lib:/opt/intel/compilers_and_libraries/linux/lib:/opt/intel/itac/2019.0.018/lib:/opt/intel/itac_2019/intel64/lib:/opt/intel/itac_latest/intel64/lib:/opt/intel/parallel_studio_xe_2019.0.045/clck_2019/lib:/opt/intel/parallel_studio_xe_2019.0.045/itac_2019/lib:/opt/intel/parallel_studio_xe_2019/clck_2019/lib:/opt/intel/parallel_studio_xe_2019/itac_2019/lib\n",
      "2021-09-08 19:13:57.336417: I tensorflow/stream_executor/cuda/cudart_stub.cc:29] Ignore above cudart dlerror if you do not have a GPU set up on your machine.\n"
     ]
    },
    {
     "data": {
      "text/html": [
       "\n",
       "                Tracking run with wandb version 0.10.33<br/>\n",
       "                Syncing run <strong style=\"color:#cdcd00\">fearless-terrain-92</strong> to <a href=\"https://wandb.ai\" target=\"_blank\">Weights & Biases</a> <a href=\"https://docs.wandb.com/integrations/jupyter.html\" target=\"_blank\">(Documentation)</a>.<br/>\n",
       "                Project page: <a href=\"https://wandb.ai/chrisxx/pubchem\" target=\"_blank\">https://wandb.ai/chrisxx/pubchem</a><br/>\n",
       "                Run page: <a href=\"https://wandb.ai/chrisxx/pubchem/runs/37vxxki5\" target=\"_blank\">https://wandb.ai/chrisxx/pubchem/runs/37vxxki5</a><br/>\n",
       "                Run data is saved locally in <code>/home/chrisw/Documents/projects/2021/graph-transformer/notebooks/Pretraining/gnn/wandb/run-20210908_191356-37vxxki5</code><br/><br/>\n",
       "            "
      ],
      "text/plain": [
       "<IPython.core.display.HTML object>"
      ]
     },
     "metadata": {},
     "output_type": "display_data"
    }
   ],
   "source": [
    "wandb.init(project='pubchem', entity='chrisxx')\n",
    "\n",
    "config = wandb.config\n",
    "config.n_atoms = 118\n",
    "config.n_bonds = 5\n",
    "config.node_out_feats = 128\n",
    "config.edge_hidden_feats = 128\n",
    "config.number_atom_features = 133\n",
    "config.number_bond_features = 14\n",
    "config.num_step_message_passing = 6\n",
    "config.max_nodes = 250\n",
    "config.max_edges = 500\n",
    "config.n_files = 10\n",
    "config.n_splits = 1\n",
    "config.n_iter_per_split = 10000\n",
    "config.lr = 0.003\n",
    "config.n_epochs = 10000\n",
    "config.lr_adjustment_period = 200\n",
    "config.patience = 5\n",
    "config.factor = 0.96\n",
    "config.minimal_lr = 6e-8\n",
    "config.batch_size = 125\n",
    "config.accumulate_grads = 1\n",
    "config.valid_patience = 10000\n",
    "config.valid_minimal_improvement=0.00\n",
    "config.model_dir = \"../../../models/pubchem_mini/gnn6/\"\n",
    "config.data_dir = \"/mnt/project/pubchem_noH/\"\n",
    "config.data_dir = \"../../../results/pubchem/mini_noH/\"\n",
    "config.pretrained_dir = None#\"../../models/chembl/better_transformer/medium/\"\n",
    "config.num_workers = 0\n",
    "config.prefetch_factor = 2\n",
    "config.persistent_workers = False\n",
    "config.load_last = False\n"
   ]
  },
  {
   "cell_type": "code",
   "execution_count": 7,
   "id": "b1ef93b9",
   "metadata": {},
   "outputs": [],
   "source": [
    "os.makedirs(config.model_dir, exist_ok=True)"
   ]
  },
  {
   "cell_type": "code",
   "execution_count": 8,
   "id": "85546446",
   "metadata": {},
   "outputs": [],
   "source": [
    "path = config.data_dir"
   ]
  },
  {
   "cell_type": "code",
   "execution_count": 9,
   "id": "55f04196",
   "metadata": {},
   "outputs": [],
   "source": [
    "class PubChem(Dataset):\n",
    "    \"\"\"PubChem dataset of molecules and minimal DFS codes.\"\"\"\n",
    "    def __init__(self, path=path, n_used = 8, n_splits = 64, max_nodes=config.max_nodes,\n",
    "                 max_edges=config.max_edges, useHs=False, addLoops=False, memoryEfficient=False,\n",
    "                 transform=None, n_mols_per_dataset=np.inf, node_feature_key='x', edge_feature_key='edge_attr'):\n",
    "        self.path = path\n",
    "        self.data = []\n",
    "        self.path = path\n",
    "        self.n_used = n_used\n",
    "        self.n_splits = n_splits\n",
    "        self.useHs = useHs\n",
    "        self.addLoops = addLoops\n",
    "        self.memoryEfficient = memoryEfficient\n",
    "        self.n_mols_per_dataset = n_mols_per_dataset\n",
    "        self.max_nodes = max_nodes\n",
    "        self.max_edges = max_edges\n",
    "        self.node_feature_key = node_feature_key\n",
    "        self.edge_feature_key = edge_feature_key\n",
    "        self.prepare()\n",
    "        \n",
    "        \n",
    "    def prepare(self):\n",
    "        codes_all = {}\n",
    "        d_all = {}\n",
    "        i2didx = {}\n",
    "        perm = np.random.permutation(self.n_splits)\n",
    "        for i in tqdm.tqdm(perm[:self.n_used]):\n",
    "            dname = glob.glob(self.path+\"/%d/min_dfs_codes_split*.json\"%(i+1))[0]\n",
    "            didx = int(dname.split(\"split\")[-1][:-5])\n",
    "            dname2 = self.path+\"/%d/data_split%d.json\"%(i+1, didx)\n",
    "            with open(dname, 'r') as f:\n",
    "                codes = json.load(f)\n",
    "                for key, val in codes.items():\n",
    "                    codes_all[key] = val\n",
    "            with open(dname2, 'r') as f:\n",
    "                d_dict = json.load(f)\n",
    "                for key, val in d_dict.items():\n",
    "                    d_all[key] = val\n",
    "        \n",
    "        for smiles, code in tqdm.tqdm(codes_all.items()):\n",
    "            if len(self.data) > self.n_mols_per_dataset:\n",
    "                break\n",
    "            if code['min_dfs_code'] is not None and len(code['min_dfs_code']) > 1:\n",
    "                d = d_all[smiles]\n",
    "                #d = smiles2graph(smiles, useHs=self.useHs, addLoops=self.addLoops, skipCliqueCheck=False)\n",
    "                if len(d['z']) > self.max_nodes:\n",
    "                    continue\n",
    "                if len(d['edge_attr']) > 2*self.max_edges:\n",
    "                    continue\n",
    "                \n",
    "                \n",
    "                z = torch.tensor(d['z'], dtype=torch.long)\n",
    "                x = torch.tensor(d['x'], dtype=torch.float32)\n",
    "                \n",
    "                \n",
    "                data_ = Data(x=x,\n",
    "                             z=z,\n",
    "                             edge_attr=torch.tensor(d['edge_attr']),\n",
    "                             edge_index=torch.tensor(d['edge_index'], dtype=torch.long),\n",
    "                             min_dfs_code=torch.tensor(code['min_dfs_code']),\n",
    "                             min_dfs_index=torch.tensor(code['dfs_index'], dtype=torch.long),\n",
    "                             smiles=smiles,\n",
    "                             node_features=torch.tensor(d['atom_features'], dtype=torch.float32),\n",
    "                             edge_features=torch.tensor(d['bond_features'], dtype=torch.float32))\n",
    "                self.data += [data_]   \n",
    "        \n",
    "    def __len__(self):\n",
    "        return len(self.data)\n",
    "\n",
    "    def __getitem__(self, idx):\n",
    "        return self.data[idx]"
   ]
  },
  {
   "cell_type": "code",
   "execution_count": 10,
   "id": "a4d3aaad",
   "metadata": {},
   "outputs": [],
   "source": [
    "def collate_fn(dlist):\n",
    "    dglbatch = []\n",
    "    for d in dlist:\n",
    "        g = dgl.graph((d.edge_index[0], d.edge_index[1]))\n",
    "        g.ndata['nf'] = d.node_features\n",
    "        g.ndata['dfs'] = d.min_dfs_index\n",
    "        g.edata['ef'] = d.edge_features\n",
    "        dglbatch += [g]\n",
    "    dglbatch = dgl.batch(dglbatch)\n",
    "    return dglbatch, dglbatch.ndata['nf'], dglbatch.edata['ef'], dglbatch.ndata['dfs']"
   ]
  },
  {
   "cell_type": "code",
   "execution_count": 11,
   "id": "e0b31fa1",
   "metadata": {},
   "outputs": [],
   "source": [
    "ngpu=1\n",
    "device = torch.device('cuda:0' if (torch.cuda.is_available() and ngpu > 0) else 'cpu')"
   ]
  },
  {
   "cell_type": "code",
   "execution_count": 12,
   "id": "5a9f1eaa",
   "metadata": {},
   "outputs": [],
   "source": [
    "to_cuda = lambda T: [t.to(device) for t in T]"
   ]
  },
  {
   "cell_type": "code",
   "execution_count": 13,
   "id": "bae3e4e7",
   "metadata": {},
   "outputs": [],
   "source": [
    "classifier = dc.models.torch_models.MPNN(1, mode='classification', \n",
    "                                    node_out_feats=config.node_out_feats,\n",
    "                                    edge_hidden_feats=config.edge_hidden_feats,\n",
    "                                    number_atom_features=config.number_atom_features,\n",
    "                                    number_bond_features=config.number_bond_features, \n",
    "                                    num_step_message_passing=config.num_step_message_passing,\n",
    "                                    nfeat_name='node_features', \n",
    "                                    efeat_name='edge_features')\n",
    "\n",
    "model = classifier.model.gnn"
   ]
  },
  {
   "cell_type": "code",
   "execution_count": 14,
   "id": "45977ba4",
   "metadata": {},
   "outputs": [],
   "source": [
    "if config.pretrained_dir is not None:\n",
    "    model.load_state_dict(torch.load(config.pretrained_dir+'checkpoint.pt'))"
   ]
  },
  {
   "cell_type": "code",
   "execution_count": 15,
   "id": "d2ad67e1",
   "metadata": {},
   "outputs": [],
   "source": [
    "if config.load_last:\n",
    "    model.load_state_dict(torch.load(config.model_dir+'checkpoint.pt'))"
   ]
  },
  {
   "cell_type": "code",
   "execution_count": 16,
   "id": "7c36c5f1",
   "metadata": {},
   "outputs": [],
   "source": [
    "model_head = nn.Linear(config.node_out_feats, config.max_nodes)"
   ]
  },
  {
   "cell_type": "code",
   "execution_count": 17,
   "id": "6cee73fe",
   "metadata": {},
   "outputs": [],
   "source": [
    "optim = optimizers.Adam(list(model.parameters())+list(model_head.parameters()), lr=config.lr)\n",
    "\n",
    "lr_scheduler = optimizers.lr_scheduler.ReduceLROnPlateau(optim, mode='min', verbose=True, patience=config.patience, factor=config.factor)\n",
    "#lr_scheduler = optimizers.lr_scheduler.ExponentialLR(optim, gamma=config.factor)\n",
    "\n",
    "early_stopping = EarlyStopping(patience=config.valid_patience, delta=config.valid_minimal_improvement,\n",
    "                              path=config.model_dir+'checkpoint.pt')\n",
    "bce = torch.nn.BCEWithLogitsLoss()\n",
    "ce = torch.nn.CrossEntropyLoss(ignore_index=-1)\n",
    "softmax = nn.Softmax(dim=2)"
   ]
  },
  {
   "cell_type": "code",
   "execution_count": 18,
   "id": "829fe786",
   "metadata": {},
   "outputs": [
    {
     "name": "stdout",
     "output_type": "stream",
     "text": [
      "\n"
     ]
    }
   ],
   "source": [
    "model.to(device)\n",
    "model_head.to(device)\n",
    "print()"
   ]
  },
  {
   "cell_type": "code",
   "execution_count": 19,
   "id": "df794b3b",
   "metadata": {},
   "outputs": [
    {
     "name": "stderr",
     "output_type": "stream",
     "text": [
      "100%|██████████████████████████████████████████████████████████████████████████████████████████████████████████████████████████████████████████████████████████████████████████████| 10/10 [01:20<00:00,  8.04s/it]\n",
      "100%|██████████████████████████████████████████████████████████████████████████████████████████████████████████████████████████████████████████████████████████████████████| 99802/99802 [00:17<00:00, 5683.35it/s]\n",
      "Epoch 1: CE 3.254992: 100%|██████████████████████████████████████████████████████████████████████████████████████████████████████████████████████████████████████████████████████| 799/799 [03:18<00:00,  4.03it/s]\n",
      "Epoch 1: CE 2.983808: 100%|██████████████████████████████████████████████████████████████████████████████████████████████████████████████████████████████████████████████████████| 799/799 [03:17<00:00,  4.04it/s]\n",
      "Epoch 1: CE 2.884538:  25%|█████████████████████████████████████▋                                                                                                                | 201/799 [00:49<02:24,  4.15it/s]"
     ]
    },
    {
     "name": "stdout",
     "output_type": "stream",
     "text": [
      "EarlyStopping counter: 1 out of 10000\n"
     ]
    },
    {
     "name": "stderr",
     "output_type": "stream",
     "text": [
      "Epoch 1: CE 2.871247:  50%|███████████████████████████████████████████████████████████████████████████▎                                                                          | 401/799 [01:38<01:38,  4.03it/s]"
     ]
    },
    {
     "name": "stdout",
     "output_type": "stream",
     "text": [
      "EarlyStopping counter: 2 out of 10000\n"
     ]
    },
    {
     "name": "stderr",
     "output_type": "stream",
     "text": [
      "Epoch 1: CE 2.866808:  75%|████████████████████████████████████████████████████████████████████████████████████████████████████████████████▊                                     | 601/799 [02:27<00:48,  4.04it/s]"
     ]
    },
    {
     "name": "stdout",
     "output_type": "stream",
     "text": [
      "EarlyStopping counter: 3 out of 10000\n"
     ]
    },
    {
     "name": "stderr",
     "output_type": "stream",
     "text": [
      "Epoch 1: CE 2.860593: 100%|██████████████████████████████████████████████████████████████████████████████████████████████████████████████████████████████████████████████████████| 799/799 [03:15<00:00,  4.08it/s]\n",
      "Epoch 1: CE 2.887984:   0%|▏                                                                                                                                                       | 1/799 [00:00<03:19,  4.00it/s]"
     ]
    },
    {
     "name": "stdout",
     "output_type": "stream",
     "text": [
      "EarlyStopping counter: 4 out of 10000\n"
     ]
    },
    {
     "name": "stderr",
     "output_type": "stream",
     "text": [
      "Epoch 1: CE 2.794942: 100%|██████████████████████████████████████████████████████████████████████████████████████████████████████████████████████████████████████████████████████| 799/799 [03:15<00:00,  4.10it/s]\n",
      "Epoch 1: CE 2.768923:  25%|█████████████████████████████████████▋                                                                                                                | 201/799 [00:47<02:21,  4.24it/s]"
     ]
    },
    {
     "name": "stdout",
     "output_type": "stream",
     "text": [
      "EarlyStopping counter: 1 out of 10000\n"
     ]
    },
    {
     "name": "stderr",
     "output_type": "stream",
     "text": [
      "Epoch 1: CE 2.763131:  50%|███████████████████████████████████████████████████████████████████████████▎                                                                          | 401/799 [01:35<01:31,  4.33it/s]"
     ]
    },
    {
     "name": "stdout",
     "output_type": "stream",
     "text": [
      "EarlyStopping counter: 2 out of 10000\n"
     ]
    },
    {
     "name": "stderr",
     "output_type": "stream",
     "text": [
      "Epoch 1: CE 2.754752: 100%|██████████████████████████████████████████████████████████████████████████████████████████████████████████████████████████████████████████████████████| 799/799 [03:09<00:00,  4.21it/s]\n",
      "Epoch 1: CE 2.734190:  25%|█████████████████████████████████████▋                                                                                                                | 201/799 [00:47<02:21,  4.24it/s]"
     ]
    },
    {
     "name": "stdout",
     "output_type": "stream",
     "text": [
      "EarlyStopping counter: 1 out of 10000\n"
     ]
    },
    {
     "name": "stderr",
     "output_type": "stream",
     "text": [
      "Epoch 1: CE 2.724453:  50%|███████████████████████████████████████████████████████████████████████████▎                                                                          | 401/799 [01:35<01:34,  4.20it/s]"
     ]
    },
    {
     "name": "stdout",
     "output_type": "stream",
     "text": [
      "EarlyStopping counter: 2 out of 10000\n"
     ]
    },
    {
     "name": "stderr",
     "output_type": "stream",
     "text": [
      "Epoch 1: CE 2.725569:  75%|████████████████████████████████████████████████████████████████████████████████████████████████████████████████▊                                     | 601/799 [02:22<00:47,  4.14it/s]"
     ]
    },
    {
     "name": "stdout",
     "output_type": "stream",
     "text": [
      "EarlyStopping counter: 3 out of 10000\n"
     ]
    },
    {
     "name": "stderr",
     "output_type": "stream",
     "text": [
      "Epoch 1: CE 2.724960: 100%|██████████████████████████████████████████████████████████████████████████████████████████████████████████████████████████████████████████████████████| 799/799 [03:09<00:00,  4.22it/s]\n",
      "Epoch 1: CE 2.700994:  25%|█████████████████████████████████████▋                                                                                                                | 201/799 [00:48<02:28,  4.02it/s]"
     ]
    },
    {
     "name": "stdout",
     "output_type": "stream",
     "text": [
      "EarlyStopping counter: 1 out of 10000\n"
     ]
    },
    {
     "name": "stderr",
     "output_type": "stream",
     "text": [
      "Epoch 1: CE 2.700549:  50%|███████████████████████████████████████████████████████████████████████████▎                                                                          | 401/799 [01:35<01:33,  4.25it/s]"
     ]
    },
    {
     "name": "stdout",
     "output_type": "stream",
     "text": [
      "EarlyStopping counter: 2 out of 10000\n"
     ]
    },
    {
     "name": "stderr",
     "output_type": "stream",
     "text": [
      "Epoch 1: CE 2.700689:  75%|████████████████████████████████████████████████████████████████████████████████████████████████████████████████▊                                     | 601/799 [02:22<00:46,  4.27it/s]"
     ]
    },
    {
     "name": "stdout",
     "output_type": "stream",
     "text": [
      "EarlyStopping counter: 3 out of 10000\n"
     ]
    },
    {
     "name": "stderr",
     "output_type": "stream",
     "text": [
      "Epoch 1: CE 2.702941: 100%|██████████████████████████████████████████████████████████████████████████████████████████████████████████████████████████████████████████████████████| 799/799 [03:09<00:00,  4.21it/s]\n",
      "Epoch 1: CE 2.570355:   0%|▏                                                                                                                                                       | 1/799 [00:00<03:04,  4.32it/s]"
     ]
    },
    {
     "name": "stdout",
     "output_type": "stream",
     "text": [
      "EarlyStopping counter: 4 out of 10000\n"
     ]
    },
    {
     "name": "stderr",
     "output_type": "stream",
     "text": [
      "Epoch 1: CE 2.699030:  25%|█████████████████████████████████████▋                                                                                                                | 201/799 [00:48<02:25,  4.11it/s]"
     ]
    },
    {
     "name": "stdout",
     "output_type": "stream",
     "text": [
      "EarlyStopping counter: 5 out of 10000\n"
     ]
    },
    {
     "name": "stderr",
     "output_type": "stream",
     "text": [
      "Epoch 1: CE 2.694838:  50%|███████████████████████████████████████████████████████████████████████████▎                                                                          | 401/799 [01:35<01:32,  4.33it/s]"
     ]
    },
    {
     "name": "stdout",
     "output_type": "stream",
     "text": [
      "EarlyStopping counter: 6 out of 10000\n",
      "Epoch    31: reducing learning rate of group 0 to 2.8800e-03.\n"
     ]
    },
    {
     "name": "stderr",
     "output_type": "stream",
     "text": [
      "Epoch 1: CE 2.685849:  75%|████████████████████████████████████████████████████████████████████████████████████████████████████████████████▊                                     | 601/799 [02:22<00:46,  4.27it/s]"
     ]
    },
    {
     "name": "stdout",
     "output_type": "stream",
     "text": [
      "EarlyStopping counter: 7 out of 10000\n"
     ]
    },
    {
     "name": "stderr",
     "output_type": "stream",
     "text": [
      "Epoch 1: CE 2.682565: 100%|██████████████████████████████████████████████████████████████████████████████████████████████████████████████████████████████████████████████████████| 799/799 [03:08<00:00,  4.23it/s]\n",
      "Epoch 1: CE 2.601125:   0%|▏                                                                                                                                                       | 1/799 [00:00<03:17,  4.04it/s]"
     ]
    },
    {
     "name": "stdout",
     "output_type": "stream",
     "text": [
      "EarlyStopping counter: 8 out of 10000\n"
     ]
    },
    {
     "name": "stderr",
     "output_type": "stream",
     "text": [
      "Epoch 1: CE 2.671880:  25%|█████████████████████████████████████▋                                                                                                                | 201/799 [00:48<02:18,  4.32it/s]"
     ]
    },
    {
     "name": "stdout",
     "output_type": "stream",
     "text": [
      "EarlyStopping counter: 9 out of 10000\n"
     ]
    },
    {
     "name": "stderr",
     "output_type": "stream",
     "text": [
      "Epoch 1: CE 2.666277:  50%|███████████████████████████████████████████████████████████████████████████▎                                                                          | 401/799 [01:35<01:36,  4.12it/s]"
     ]
    },
    {
     "name": "stdout",
     "output_type": "stream",
     "text": [
      "EarlyStopping counter: 10 out of 10000\n"
     ]
    },
    {
     "name": "stderr",
     "output_type": "stream",
     "text": [
      "Epoch 1: CE 2.667105:  75%|████████████████████████████████████████████████████████████████████████████████████████████████████████████████▊                                     | 601/799 [02:22<00:46,  4.25it/s]"
     ]
    },
    {
     "name": "stdout",
     "output_type": "stream",
     "text": [
      "EarlyStopping counter: 11 out of 10000\n"
     ]
    },
    {
     "name": "stderr",
     "output_type": "stream",
     "text": [
      "Epoch 1: CE 2.666616: 100%|██████████████████████████████████████████████████████████████████████████████████████████████████████████████████████████████████████████████████████| 799/799 [03:08<00:00,  4.23it/s]\n",
      "Epoch 1: CE 2.642528:  25%|█████████████████████████████████████▋                                                                                                                | 201/799 [00:48<02:21,  4.23it/s]"
     ]
    },
    {
     "name": "stdout",
     "output_type": "stream",
     "text": [
      "EarlyStopping counter: 1 out of 10000\n"
     ]
    },
    {
     "name": "stderr",
     "output_type": "stream",
     "text": [
      "Epoch 1: CE 2.651662:  50%|███████████████████████████████████████████████████████████████████████████▎                                                                          | 401/799 [01:34<01:35,  4.16it/s]"
     ]
    },
    {
     "name": "stdout",
     "output_type": "stream",
     "text": [
      "EarlyStopping counter: 2 out of 10000\n"
     ]
    },
    {
     "name": "stderr",
     "output_type": "stream",
     "text": [
      "Epoch 1: CE 2.653409:  75%|████████████████████████████████████████████████████████████████████████████████████████████████████████████████▊                                     | 601/799 [02:22<00:46,  4.26it/s]"
     ]
    },
    {
     "name": "stdout",
     "output_type": "stream",
     "text": [
      "EarlyStopping counter: 3 out of 10000\n"
     ]
    },
    {
     "name": "stderr",
     "output_type": "stream",
     "text": [
      "Epoch 1: CE 2.654010: 100%|██████████████████████████████████████████████████████████████████████████████████████████████████████████████████████████████████████████████████████| 799/799 [03:08<00:00,  4.23it/s]\n",
      "Epoch 1: CE 2.688467:   0%|▏                                                                                                                                                       | 1/799 [00:00<03:15,  4.07it/s]"
     ]
    },
    {
     "name": "stdout",
     "output_type": "stream",
     "text": [
      "EarlyStopping counter: 4 out of 10000\n"
     ]
    },
    {
     "name": "stderr",
     "output_type": "stream",
     "text": [
      "Epoch 1: CE 2.644591:  25%|█████████████████████████████████████▋                                                                                                                | 201/799 [00:48<02:24,  4.15it/s]"
     ]
    },
    {
     "name": "stdout",
     "output_type": "stream",
     "text": [
      "EarlyStopping counter: 5 out of 10000\n"
     ]
    },
    {
     "name": "stderr",
     "output_type": "stream",
     "text": [
      "Epoch 1: CE 2.644288:  50%|███████████████████████████████████████████████████████████████████████████▎                                                                          | 401/799 [01:35<01:37,  4.08it/s]"
     ]
    },
    {
     "name": "stdout",
     "output_type": "stream",
     "text": [
      "EarlyStopping counter: 6 out of 10000\n",
      "Epoch    43: reducing learning rate of group 0 to 2.7648e-03.\n"
     ]
    },
    {
     "name": "stderr",
     "output_type": "stream",
     "text": [
      "Epoch 1: CE 2.645182:  75%|████████████████████████████████████████████████████████████████████████████████████████████████████████████████▊                                     | 601/799 [02:22<00:46,  4.29it/s]"
     ]
    },
    {
     "name": "stdout",
     "output_type": "stream",
     "text": [
      "EarlyStopping counter: 7 out of 10000\n"
     ]
    },
    {
     "name": "stderr",
     "output_type": "stream",
     "text": [
      "Epoch 1: CE 2.642414: 100%|██████████████████████████████████████████████████████████████████████████████████████████████████████████████████████████████████████████████████████| 799/799 [03:09<00:00,  4.22it/s]\n",
      "Epoch 1: CE 2.489312:   0%|▏                                                                                                                                                       | 1/799 [00:00<03:22,  3.94it/s]"
     ]
    },
    {
     "name": "stdout",
     "output_type": "stream",
     "text": [
      "EarlyStopping counter: 8 out of 10000\n"
     ]
    },
    {
     "name": "stderr",
     "output_type": "stream",
     "text": [
      "Epoch 1: CE 2.623287:  25%|█████████████████████████████████████▋                                                                                                                | 201/799 [00:48<02:24,  4.14it/s]"
     ]
    },
    {
     "name": "stdout",
     "output_type": "stream",
     "text": [
      "EarlyStopping counter: 9 out of 10000\n"
     ]
    },
    {
     "name": "stderr",
     "output_type": "stream",
     "text": [
      "Epoch 1: CE 2.627284:  50%|███████████████████████████████████████████████████████████████████████████▎                                                                          | 401/799 [01:35<01:33,  4.25it/s]"
     ]
    },
    {
     "name": "stdout",
     "output_type": "stream",
     "text": [
      "EarlyStopping counter: 10 out of 10000\n"
     ]
    },
    {
     "name": "stderr",
     "output_type": "stream",
     "text": [
      "Epoch 1: CE 2.632397:  75%|████████████████████████████████████████████████████████████████████████████████████████████████████████████████▊                                     | 601/799 [02:22<00:46,  4.28it/s]"
     ]
    },
    {
     "name": "stdout",
     "output_type": "stream",
     "text": [
      "EarlyStopping counter: 11 out of 10000\n"
     ]
    },
    {
     "name": "stderr",
     "output_type": "stream",
     "text": [
      "Epoch 1: CE 2.632009: 100%|██████████████████████████████████████████████████████████████████████████████████████████████████████████████████████████████████████████████████████| 799/799 [03:08<00:00,  4.23it/s]\n",
      "Epoch 1: CE 2.612962:   0%|▏                                                                                                                                                       | 1/799 [00:00<03:23,  3.93it/s]"
     ]
    },
    {
     "name": "stdout",
     "output_type": "stream",
     "text": [
      "EarlyStopping counter: 12 out of 10000\n",
      "Epoch    49: reducing learning rate of group 0 to 2.6542e-03.\n"
     ]
    },
    {
     "name": "stderr",
     "output_type": "stream",
     "text": [
      "Epoch 1: CE 2.608179:  25%|█████████████████████████████████████▋                                                                                                                | 201/799 [00:48<02:24,  4.14it/s]"
     ]
    },
    {
     "name": "stdout",
     "output_type": "stream",
     "text": [
      "EarlyStopping counter: 13 out of 10000\n"
     ]
    },
    {
     "name": "stderr",
     "output_type": "stream",
     "text": [
      "Epoch 1: CE 2.615712:  50%|███████████████████████████████████████████████████████████████████████████▎                                                                          | 401/799 [01:35<01:34,  4.21it/s]"
     ]
    },
    {
     "name": "stdout",
     "output_type": "stream",
     "text": [
      "EarlyStopping counter: 14 out of 10000\n"
     ]
    },
    {
     "name": "stderr",
     "output_type": "stream",
     "text": [
      "Epoch 1: CE 2.617744:  75%|████████████████████████████████████████████████████████████████████████████████████████████████████████████████▊                                     | 601/799 [02:22<00:46,  4.29it/s]"
     ]
    },
    {
     "name": "stdout",
     "output_type": "stream",
     "text": [
      "EarlyStopping counter: 15 out of 10000\n"
     ]
    },
    {
     "name": "stderr",
     "output_type": "stream",
     "text": [
      "Epoch 1: CE 2.618912: 100%|██████████████████████████████████████████████████████████████████████████████████████████████████████████████████████████████████████████████████████| 799/799 [03:08<00:00,  4.23it/s]\n",
      "Epoch 1: CE 2.580445:   0%|▏                                                                                                                                                       | 1/799 [00:00<03:26,  3.86it/s]"
     ]
    },
    {
     "name": "stdout",
     "output_type": "stream",
     "text": [
      "EarlyStopping counter: 16 out of 10000\n"
     ]
    },
    {
     "name": "stderr",
     "output_type": "stream",
     "text": [
      "Epoch 1: CE 2.610171:  25%|█████████████████████████████████████▋                                                                                                                | 201/799 [00:48<02:21,  4.22it/s]"
     ]
    },
    {
     "name": "stdout",
     "output_type": "stream",
     "text": [
      "EarlyStopping counter: 17 out of 10000\n"
     ]
    },
    {
     "name": "stderr",
     "output_type": "stream",
     "text": [
      "Epoch 1: CE 2.612259:  50%|███████████████████████████████████████████████████████████████████████████▎                                                                          | 401/799 [01:35<01:32,  4.28it/s]"
     ]
    },
    {
     "name": "stdout",
     "output_type": "stream",
     "text": [
      "EarlyStopping counter: 18 out of 10000\n",
      "Epoch    55: reducing learning rate of group 0 to 2.5480e-03.\n"
     ]
    },
    {
     "name": "stderr",
     "output_type": "stream",
     "text": [
      "Epoch 1: CE 2.606034:  75%|████████████████████████████████████████████████████████████████████████████████████████████████████████████████▊                                     | 601/799 [02:22<00:45,  4.34it/s]"
     ]
    },
    {
     "name": "stdout",
     "output_type": "stream",
     "text": [
      "EarlyStopping counter: 19 out of 10000\n"
     ]
    },
    {
     "name": "stderr",
     "output_type": "stream",
     "text": [
      "Epoch 1: CE 2.610166: 100%|██████████████████████████████████████████████████████████████████████████████████████████████████████████████████████████████████████████████████████| 799/799 [03:08<00:00,  4.23it/s]\n",
      "Epoch 1: CE 2.538693:   0%|▏                                                                                                                                                       | 1/799 [00:00<03:18,  4.03it/s]"
     ]
    },
    {
     "name": "stdout",
     "output_type": "stream",
     "text": [
      "EarlyStopping counter: 20 out of 10000\n"
     ]
    },
    {
     "name": "stderr",
     "output_type": "stream",
     "text": [
      "Epoch 1: CE 2.601388:  25%|█████████████████████████████████████▋                                                                                                                | 201/799 [00:47<02:24,  4.13it/s]"
     ]
    },
    {
     "name": "stdout",
     "output_type": "stream",
     "text": [
      "EarlyStopping counter: 21 out of 10000\n"
     ]
    },
    {
     "name": "stderr",
     "output_type": "stream",
     "text": [
      "Epoch 1: CE 2.602511:  50%|███████████████████████████████████████████████████████████████████████████▎                                                                          | 401/799 [01:34<01:34,  4.21it/s]"
     ]
    },
    {
     "name": "stdout",
     "output_type": "stream",
     "text": [
      "EarlyStopping counter: 22 out of 10000\n"
     ]
    },
    {
     "name": "stderr",
     "output_type": "stream",
     "text": [
      "Epoch 1: CE 2.599269:  75%|████████████████████████████████████████████████████████████████████████████████████████████████████████████████▊                                     | 601/799 [02:21<00:46,  4.27it/s]"
     ]
    },
    {
     "name": "stdout",
     "output_type": "stream",
     "text": [
      "EarlyStopping counter: 23 out of 10000\n"
     ]
    },
    {
     "name": "stderr",
     "output_type": "stream",
     "text": [
      "Epoch 1: CE 2.601988: 100%|██████████████████████████████████████████████████████████████████████████████████████████████████████████████████████████████████████████████████████| 799/799 [03:08<00:00,  4.24it/s]\n",
      "Epoch 1: CE 2.615876:   0%|▏                                                                                                                                                       | 1/799 [00:00<03:10,  4.19it/s]"
     ]
    },
    {
     "name": "stdout",
     "output_type": "stream",
     "text": [
      "EarlyStopping counter: 24 out of 10000\n",
      "Epoch    61: reducing learning rate of group 0 to 2.4461e-03.\n"
     ]
    },
    {
     "name": "stderr",
     "output_type": "stream",
     "text": [
      "Epoch 1: CE 2.593431:  25%|█████████████████████████████████████▋                                                                                                                | 201/799 [00:48<02:18,  4.31it/s]"
     ]
    },
    {
     "name": "stdout",
     "output_type": "stream",
     "text": [
      "EarlyStopping counter: 25 out of 10000\n"
     ]
    },
    {
     "name": "stderr",
     "output_type": "stream",
     "text": [
      "Epoch 1: CE 2.591012:  50%|███████████████████████████████████████████████████████████████████████████▎                                                                          | 401/799 [01:35<01:33,  4.24it/s]"
     ]
    },
    {
     "name": "stdout",
     "output_type": "stream",
     "text": [
      "EarlyStopping counter: 26 out of 10000\n"
     ]
    },
    {
     "name": "stderr",
     "output_type": "stream",
     "text": [
      "Epoch 1: CE 2.590088:  75%|████████████████████████████████████████████████████████████████████████████████████████████████████████████████▊                                     | 601/799 [02:22<00:47,  4.14it/s]"
     ]
    },
    {
     "name": "stdout",
     "output_type": "stream",
     "text": [
      "EarlyStopping counter: 27 out of 10000\n"
     ]
    },
    {
     "name": "stderr",
     "output_type": "stream",
     "text": [
      "Epoch 1: CE 2.590960: 100%|██████████████████████████████████████████████████████████████████████████████████████████████████████████████████████████████████████████████████████| 799/799 [03:08<00:00,  4.24it/s]\n",
      "Epoch 1: CE 2.509950:   0%|▏                                                                                                                                                       | 1/799 [00:00<03:02,  4.38it/s]"
     ]
    },
    {
     "name": "stdout",
     "output_type": "stream",
     "text": [
      "EarlyStopping counter: 28 out of 10000\n"
     ]
    },
    {
     "name": "stderr",
     "output_type": "stream",
     "text": [
      "Epoch 1: CE 2.577219:  25%|█████████████████████████████████████▋                                                                                                                | 201/799 [00:48<02:21,  4.23it/s]"
     ]
    },
    {
     "name": "stdout",
     "output_type": "stream",
     "text": [
      "EarlyStopping counter: 29 out of 10000\n"
     ]
    },
    {
     "name": "stderr",
     "output_type": "stream",
     "text": [
      "Epoch 1: CE 2.580556:  50%|███████████████████████████████████████████████████████████████████████████▎                                                                          | 401/799 [01:35<01:33,  4.27it/s]"
     ]
    },
    {
     "name": "stdout",
     "output_type": "stream",
     "text": [
      "EarlyStopping counter: 30 out of 10000\n",
      "Epoch    67: reducing learning rate of group 0 to 2.3483e-03.\n"
     ]
    },
    {
     "name": "stderr",
     "output_type": "stream",
     "text": [
      "Epoch 1: CE 2.580848:  75%|████████████████████████████████████████████████████████████████████████████████████████████████████████████████▊                                     | 601/799 [02:22<00:48,  4.12it/s]"
     ]
    },
    {
     "name": "stdout",
     "output_type": "stream",
     "text": [
      "EarlyStopping counter: 31 out of 10000\n"
     ]
    },
    {
     "name": "stderr",
     "output_type": "stream",
     "text": [
      "Epoch 1: CE 2.583426: 100%|██████████████████████████████████████████████████████████████████████████████████████████████████████████████████████████████████████████████████████| 799/799 [03:09<00:00,  4.22it/s]\n",
      "Epoch 1: CE 2.695929:   0%|▏                                                                                                                                                       | 1/799 [00:00<03:15,  4.07it/s]"
     ]
    },
    {
     "name": "stdout",
     "output_type": "stream",
     "text": [
      "EarlyStopping counter: 32 out of 10000\n"
     ]
    },
    {
     "name": "stderr",
     "output_type": "stream",
     "text": [
      "Epoch 1: CE 2.571954:  25%|█████████████████████████████████████▋                                                                                                                | 201/799 [00:48<02:19,  4.30it/s]"
     ]
    },
    {
     "name": "stdout",
     "output_type": "stream",
     "text": [
      "EarlyStopping counter: 33 out of 10000\n"
     ]
    },
    {
     "name": "stderr",
     "output_type": "stream",
     "text": [
      "Epoch 1: CE 2.574333:  50%|███████████████████████████████████████████████████████████████████████████▎                                                                          | 401/799 [01:35<01:35,  4.19it/s]"
     ]
    },
    {
     "name": "stdout",
     "output_type": "stream",
     "text": [
      "EarlyStopping counter: 34 out of 10000\n"
     ]
    },
    {
     "name": "stderr",
     "output_type": "stream",
     "text": [
      "Epoch 1: CE 2.577826:  75%|████████████████████████████████████████████████████████████████████████████████████████████████████████████████▊                                     | 601/799 [02:22<00:46,  4.24it/s]"
     ]
    },
    {
     "name": "stdout",
     "output_type": "stream",
     "text": [
      "EarlyStopping counter: 35 out of 10000\n"
     ]
    },
    {
     "name": "stderr",
     "output_type": "stream",
     "text": [
      "Epoch 1: CE 2.577279: 100%|██████████████████████████████████████████████████████████████████████████████████████████████████████████████████████████████████████████████████████| 799/799 [03:09<00:00,  4.22it/s]\n",
      "Epoch 1: CE 2.657277:   0%|▏                                                                                                                                                       | 1/799 [00:00<03:23,  3.92it/s]"
     ]
    },
    {
     "name": "stdout",
     "output_type": "stream",
     "text": [
      "EarlyStopping counter: 36 out of 10000\n",
      "Epoch    73: reducing learning rate of group 0 to 2.2543e-03.\n"
     ]
    },
    {
     "name": "stderr",
     "output_type": "stream",
     "text": [
      "Epoch 1: CE 2.558039:  25%|█████████████████████████████████████▋                                                                                                                | 201/799 [00:48<02:24,  4.14it/s]"
     ]
    },
    {
     "name": "stdout",
     "output_type": "stream",
     "text": [
      "EarlyStopping counter: 37 out of 10000\n"
     ]
    },
    {
     "name": "stderr",
     "output_type": "stream",
     "text": [
      "Epoch 1: CE 2.565384:  50%|███████████████████████████████████████████████████████████████████████████▎                                                                          | 401/799 [01:35<01:34,  4.22it/s]"
     ]
    },
    {
     "name": "stdout",
     "output_type": "stream",
     "text": [
      "EarlyStopping counter: 38 out of 10000\n"
     ]
    },
    {
     "name": "stderr",
     "output_type": "stream",
     "text": [
      "Epoch 1: CE 2.569512:  75%|████████████████████████████████████████████████████████████████████████████████████████████████████████████████▊                                     | 601/799 [02:22<00:47,  4.17it/s]"
     ]
    },
    {
     "name": "stdout",
     "output_type": "stream",
     "text": [
      "EarlyStopping counter: 39 out of 10000\n"
     ]
    },
    {
     "name": "stderr",
     "output_type": "stream",
     "text": [
      "Epoch 1: CE 2.568486: 100%|██████████████████████████████████████████████████████████████████████████████████████████████████████████████████████████████████████████████████████| 799/799 [03:09<00:00,  4.22it/s]\n",
      "Epoch 1: CE 2.452133:   0%|▏                                                                                                                                                       | 1/799 [00:00<02:53,  4.59it/s]"
     ]
    },
    {
     "name": "stdout",
     "output_type": "stream",
     "text": [
      "EarlyStopping counter: 40 out of 10000\n"
     ]
    },
    {
     "name": "stderr",
     "output_type": "stream",
     "text": [
      "Epoch 1: CE 2.562971:  25%|█████████████████████████████████████▋                                                                                                                | 201/799 [00:48<02:21,  4.22it/s]"
     ]
    },
    {
     "name": "stdout",
     "output_type": "stream",
     "text": [
      "EarlyStopping counter: 41 out of 10000\n"
     ]
    },
    {
     "name": "stderr",
     "output_type": "stream",
     "text": [
      "Epoch 1: CE 2.563032:  50%|███████████████████████████████████████████████████████████████████████████▎                                                                          | 401/799 [01:35<01:34,  4.23it/s]"
     ]
    },
    {
     "name": "stdout",
     "output_type": "stream",
     "text": [
      "EarlyStopping counter: 42 out of 10000\n",
      "Epoch    79: reducing learning rate of group 0 to 2.1642e-03.\n"
     ]
    },
    {
     "name": "stderr",
     "output_type": "stream",
     "text": [
      "Epoch 1: CE 2.561142:  75%|████████████████████████████████████████████████████████████████████████████████████████████████████████████████▊                                     | 601/799 [02:21<00:46,  4.23it/s]"
     ]
    },
    {
     "name": "stdout",
     "output_type": "stream",
     "text": [
      "EarlyStopping counter: 43 out of 10000\n"
     ]
    },
    {
     "name": "stderr",
     "output_type": "stream",
     "text": [
      "Epoch 1: CE 2.562003: 100%|██████████████████████████████████████████████████████████████████████████████████████████████████████████████████████████████████████████████████████| 799/799 [03:08<00:00,  4.24it/s]\n",
      "Epoch 1: CE 2.547454:  25%|█████████████████████████████████████▋                                                                                                                | 201/799 [00:48<02:21,  4.22it/s]"
     ]
    },
    {
     "name": "stdout",
     "output_type": "stream",
     "text": [
      "EarlyStopping counter: 1 out of 10000\n"
     ]
    },
    {
     "name": "stderr",
     "output_type": "stream",
     "text": [
      "Epoch 1: CE 2.548273:  50%|███████████████████████████████████████████████████████████████████████████▎                                                                          | 401/799 [01:35<01:35,  4.15it/s]"
     ]
    },
    {
     "name": "stdout",
     "output_type": "stream",
     "text": [
      "EarlyStopping counter: 2 out of 10000\n"
     ]
    },
    {
     "name": "stderr",
     "output_type": "stream",
     "text": [
      "Epoch 1: CE 2.553266:  75%|████████████████████████████████████████████████████████████████████████████████████████████████████████████████▊                                     | 601/799 [02:22<00:47,  4.19it/s]"
     ]
    },
    {
     "name": "stdout",
     "output_type": "stream",
     "text": [
      "EarlyStopping counter: 3 out of 10000\n"
     ]
    },
    {
     "name": "stderr",
     "output_type": "stream",
     "text": [
      "Epoch 1: CE 2.555998: 100%|██████████████████████████████████████████████████████████████████████████████████████████████████████████████████████████████████████████████████████| 799/799 [03:09<00:00,  4.22it/s]\n",
      "Epoch 1: CE 2.583683:   0%|▏                                                                                                                                                       | 1/799 [00:00<03:06,  4.27it/s]"
     ]
    },
    {
     "name": "stdout",
     "output_type": "stream",
     "text": [
      "EarlyStopping counter: 4 out of 10000\n"
     ]
    },
    {
     "name": "stderr",
     "output_type": "stream",
     "text": [
      "Epoch 1: CE 2.544820:  25%|█████████████████████████████████████▋                                                                                                                | 201/799 [00:48<02:21,  4.23it/s]"
     ]
    },
    {
     "name": "stdout",
     "output_type": "stream",
     "text": [
      "EarlyStopping counter: 5 out of 10000\n"
     ]
    },
    {
     "name": "stderr",
     "output_type": "stream",
     "text": [
      "Epoch 1: CE 2.552013:  50%|███████████████████████████████████████████████████████████████████████████▎                                                                          | 401/799 [01:35<01:36,  4.14it/s]"
     ]
    },
    {
     "name": "stdout",
     "output_type": "stream",
     "text": [
      "EarlyStopping counter: 6 out of 10000\n",
      "Epoch    87: reducing learning rate of group 0 to 2.0776e-03.\n"
     ]
    },
    {
     "name": "stderr",
     "output_type": "stream",
     "text": [
      "Epoch 1: CE 2.553695:  75%|████████████████████████████████████████████████████████████████████████████████████████████████████████████████▊                                     | 601/799 [02:22<00:46,  4.27it/s]"
     ]
    },
    {
     "name": "stdout",
     "output_type": "stream",
     "text": [
      "EarlyStopping counter: 7 out of 10000\n"
     ]
    },
    {
     "name": "stderr",
     "output_type": "stream",
     "text": [
      "Epoch 1: CE 2.552697: 100%|██████████████████████████████████████████████████████████████████████████████████████████████████████████████████████████████████████████████████████| 799/799 [03:09<00:00,  4.23it/s]\n",
      "Epoch 1: CE 2.753052:   0%|▏                                                                                                                                                       | 1/799 [00:00<03:18,  4.03it/s]"
     ]
    },
    {
     "name": "stdout",
     "output_type": "stream",
     "text": [
      "EarlyStopping counter: 8 out of 10000\n"
     ]
    },
    {
     "name": "stderr",
     "output_type": "stream",
     "text": [
      "Epoch 1: CE 2.543651:  25%|█████████████████████████████████████▋                                                                                                                | 201/799 [00:48<02:19,  4.29it/s]"
     ]
    },
    {
     "name": "stdout",
     "output_type": "stream",
     "text": [
      "EarlyStopping counter: 9 out of 10000\n"
     ]
    },
    {
     "name": "stderr",
     "output_type": "stream",
     "text": [
      "Epoch 1: CE 2.546372:  50%|███████████████████████████████████████████████████████████████████████████▎                                                                          | 401/799 [01:35<01:30,  4.40it/s]"
     ]
    },
    {
     "name": "stdout",
     "output_type": "stream",
     "text": [
      "EarlyStopping counter: 10 out of 10000\n"
     ]
    },
    {
     "name": "stderr",
     "output_type": "stream",
     "text": [
      "Epoch 1: CE 2.546247:  75%|████████████████████████████████████████████████████████████████████████████████████████████████████████████████▊                                     | 601/799 [02:22<00:47,  4.20it/s]"
     ]
    },
    {
     "name": "stdout",
     "output_type": "stream",
     "text": [
      "EarlyStopping counter: 11 out of 10000\n"
     ]
    },
    {
     "name": "stderr",
     "output_type": "stream",
     "text": [
      "Epoch 1: CE 2.545889: 100%|██████████████████████████████████████████████████████████████████████████████████████████████████████████████████████████████████████████████████████| 799/799 [03:09<00:00,  4.23it/s]\n",
      "Epoch 1: CE 2.825708:   0%|▏                                                                                                                                                       | 1/799 [00:00<03:27,  3.85it/s]"
     ]
    },
    {
     "name": "stdout",
     "output_type": "stream",
     "text": [
      "EarlyStopping counter: 12 out of 10000\n",
      "Epoch    93: reducing learning rate of group 0 to 1.9945e-03.\n"
     ]
    },
    {
     "name": "stderr",
     "output_type": "stream",
     "text": [
      "Epoch 1: CE 2.530658:  25%|█████████████████████████████████████▋                                                                                                                | 201/799 [00:47<02:17,  4.36it/s]"
     ]
    },
    {
     "name": "stdout",
     "output_type": "stream",
     "text": [
      "EarlyStopping counter: 13 out of 10000\n"
     ]
    },
    {
     "name": "stderr",
     "output_type": "stream",
     "text": [
      "Epoch 1: CE 2.535774:  50%|███████████████████████████████████████████████████████████████████████████▎                                                                          | 401/799 [01:35<01:36,  4.13it/s]"
     ]
    },
    {
     "name": "stdout",
     "output_type": "stream",
     "text": [
      "EarlyStopping counter: 14 out of 10000\n"
     ]
    },
    {
     "name": "stderr",
     "output_type": "stream",
     "text": [
      "Epoch 1: CE 2.535773:  75%|████████████████████████████████████████████████████████████████████████████████████████████████████████████████▊                                     | 601/799 [02:22<00:48,  4.07it/s]"
     ]
    },
    {
     "name": "stdout",
     "output_type": "stream",
     "text": [
      "EarlyStopping counter: 15 out of 10000\n"
     ]
    },
    {
     "name": "stderr",
     "output_type": "stream",
     "text": [
      "Epoch 1: CE 2.539495: 100%|██████████████████████████████████████████████████████████████████████████████████████████████████████████████████████████████████████████████████████| 799/799 [03:08<00:00,  4.23it/s]\n",
      "Epoch 1: CE 2.530760:  25%|█████████████████████████████████████▋                                                                                                                | 201/799 [00:48<02:23,  4.16it/s]"
     ]
    },
    {
     "name": "stdout",
     "output_type": "stream",
     "text": [
      "EarlyStopping counter: 1 out of 10000\n"
     ]
    },
    {
     "name": "stderr",
     "output_type": "stream",
     "text": [
      "Epoch 1: CE 2.532334:  50%|███████████████████████████████████████████████████████████████████████████▎                                                                          | 401/799 [01:35<01:32,  4.30it/s]"
     ]
    },
    {
     "name": "stdout",
     "output_type": "stream",
     "text": [
      "EarlyStopping counter: 2 out of 10000\n"
     ]
    },
    {
     "name": "stderr",
     "output_type": "stream",
     "text": [
      "Epoch 1: CE 2.533864:  75%|████████████████████████████████████████████████████████████████████████████████████████████████████████████████▊                                     | 601/799 [02:22<00:47,  4.21it/s]"
     ]
    },
    {
     "name": "stdout",
     "output_type": "stream",
     "text": [
      "EarlyStopping counter: 3 out of 10000\n"
     ]
    },
    {
     "name": "stderr",
     "output_type": "stream",
     "text": [
      "Epoch 1: CE 2.535523: 100%|██████████████████████████████████████████████████████████████████████████████████████████████████████████████████████████████████████████████████████| 799/799 [03:08<00:00,  4.23it/s]\n",
      "Epoch 1: CE 2.682737:   0%|▏                                                                                                                                                       | 1/799 [00:00<03:23,  3.92it/s]"
     ]
    },
    {
     "name": "stdout",
     "output_type": "stream",
     "text": [
      "EarlyStopping counter: 4 out of 10000\n"
     ]
    },
    {
     "name": "stderr",
     "output_type": "stream",
     "text": [
      "Epoch 1: CE 2.513160:  25%|█████████████████████████████████████▋                                                                                                                | 201/799 [00:48<02:18,  4.31it/s]"
     ]
    },
    {
     "name": "stdout",
     "output_type": "stream",
     "text": [
      "EarlyStopping counter: 5 out of 10000\n"
     ]
    },
    {
     "name": "stderr",
     "output_type": "stream",
     "text": [
      "Epoch 1: CE 2.520038:  50%|███████████████████████████████████████████████████████████████████████████▎                                                                          | 401/799 [01:34<01:32,  4.31it/s]"
     ]
    },
    {
     "name": "stdout",
     "output_type": "stream",
     "text": [
      "EarlyStopping counter: 6 out of 10000\n",
      "Epoch   103: reducing learning rate of group 0 to 1.9147e-03.\n"
     ]
    },
    {
     "name": "stderr",
     "output_type": "stream",
     "text": [
      "Epoch 1: CE 2.527162:  75%|████████████████████████████████████████████████████████████████████████████████████████████████████████████████▊                                     | 601/799 [02:22<00:48,  4.11it/s]"
     ]
    },
    {
     "name": "stdout",
     "output_type": "stream",
     "text": [
      "EarlyStopping counter: 7 out of 10000\n"
     ]
    },
    {
     "name": "stderr",
     "output_type": "stream",
     "text": [
      "Epoch 1: CE 2.529410: 100%|██████████████████████████████████████████████████████████████████████████████████████████████████████████████████████████████████████████████████████| 799/799 [03:08<00:00,  4.24it/s]\n",
      "Epoch 1: CE 2.638151:   0%|▏                                                                                                                                                       | 1/799 [00:00<03:18,  4.02it/s]"
     ]
    },
    {
     "name": "stdout",
     "output_type": "stream",
     "text": [
      "EarlyStopping counter: 8 out of 10000\n"
     ]
    },
    {
     "name": "stderr",
     "output_type": "stream",
     "text": [
      "Epoch 1: CE 2.525954:  25%|█████████████████████████████████████▋                                                                                                                | 201/799 [00:48<02:22,  4.19it/s]"
     ]
    },
    {
     "name": "stdout",
     "output_type": "stream",
     "text": [
      "EarlyStopping counter: 9 out of 10000\n"
     ]
    },
    {
     "name": "stderr",
     "output_type": "stream",
     "text": [
      "Epoch 1: CE 2.520303:  50%|███████████████████████████████████████████████████████████████████████████▎                                                                          | 401/799 [01:35<01:32,  4.32it/s]"
     ]
    },
    {
     "name": "stdout",
     "output_type": "stream",
     "text": [
      "EarlyStopping counter: 10 out of 10000\n"
     ]
    },
    {
     "name": "stderr",
     "output_type": "stream",
     "text": [
      "Epoch 1: CE 2.526962:  75%|████████████████████████████████████████████████████████████████████████████████████████████████████████████████▊                                     | 601/799 [02:22<00:47,  4.20it/s]"
     ]
    },
    {
     "name": "stdout",
     "output_type": "stream",
     "text": [
      "EarlyStopping counter: 11 out of 10000\n"
     ]
    },
    {
     "name": "stderr",
     "output_type": "stream",
     "text": [
      "Epoch 1: CE 2.526221: 100%|██████████████████████████████████████████████████████████████████████████████████████████████████████████████████████████████████████████████████████| 799/799 [03:09<00:00,  4.23it/s]\n",
      "Epoch 1: CE 2.493672:   0%|▏                                                                                                                                                       | 1/799 [00:00<03:23,  3.92it/s]"
     ]
    },
    {
     "name": "stdout",
     "output_type": "stream",
     "text": [
      "EarlyStopping counter: 12 out of 10000\n",
      "Epoch   109: reducing learning rate of group 0 to 1.8381e-03.\n"
     ]
    },
    {
     "name": "stderr",
     "output_type": "stream",
     "text": [
      "Epoch 1: CE 2.509194:  25%|█████████████████████████████████████▋                                                                                                                | 201/799 [00:48<02:20,  4.24it/s]"
     ]
    },
    {
     "name": "stdout",
     "output_type": "stream",
     "text": [
      "EarlyStopping counter: 13 out of 10000\n"
     ]
    },
    {
     "name": "stderr",
     "output_type": "stream",
     "text": [
      "Epoch 1: CE 2.520385:  50%|███████████████████████████████████████████████████████████████████████████▎                                                                          | 401/799 [01:35<01:35,  4.18it/s]"
     ]
    },
    {
     "name": "stdout",
     "output_type": "stream",
     "text": [
      "EarlyStopping counter: 14 out of 10000\n"
     ]
    },
    {
     "name": "stderr",
     "output_type": "stream",
     "text": [
      "Epoch 1: CE 2.520657:  75%|████████████████████████████████████████████████████████████████████████████████████████████████████████████████▊                                     | 601/799 [02:22<00:46,  4.27it/s]"
     ]
    },
    {
     "name": "stdout",
     "output_type": "stream",
     "text": [
      "EarlyStopping counter: 15 out of 10000\n"
     ]
    },
    {
     "name": "stderr",
     "output_type": "stream",
     "text": [
      "Epoch 1: CE 2.519834: 100%|██████████████████████████████████████████████████████████████████████████████████████████████████████████████████████████████████████████████████████| 799/799 [03:09<00:00,  4.23it/s]\n",
      "Epoch 1: CE 2.465544:   0%|▏                                                                                                                                                       | 1/799 [00:00<03:12,  4.14it/s]"
     ]
    },
    {
     "name": "stdout",
     "output_type": "stream",
     "text": [
      "EarlyStopping counter: 16 out of 10000\n"
     ]
    },
    {
     "name": "stderr",
     "output_type": "stream",
     "text": [
      "Epoch 1: CE 2.502875:  25%|█████████████████████████████████████▋                                                                                                                | 201/799 [00:47<02:22,  4.19it/s]"
     ]
    },
    {
     "name": "stdout",
     "output_type": "stream",
     "text": [
      "EarlyStopping counter: 17 out of 10000\n"
     ]
    },
    {
     "name": "stderr",
     "output_type": "stream",
     "text": [
      "Epoch 1: CE 2.508518:  50%|███████████████████████████████████████████████████████████████████████████▎                                                                          | 401/799 [01:34<01:31,  4.33it/s]"
     ]
    },
    {
     "name": "stdout",
     "output_type": "stream",
     "text": [
      "EarlyStopping counter: 18 out of 10000\n",
      "Epoch   115: reducing learning rate of group 0 to 1.7646e-03.\n"
     ]
    },
    {
     "name": "stderr",
     "output_type": "stream",
     "text": [
      "Epoch 1: CE 2.512002:  75%|████████████████████████████████████████████████████████████████████████████████████████████████████████████████▊                                     | 601/799 [02:22<00:46,  4.24it/s]"
     ]
    },
    {
     "name": "stdout",
     "output_type": "stream",
     "text": [
      "EarlyStopping counter: 19 out of 10000\n"
     ]
    },
    {
     "name": "stderr",
     "output_type": "stream",
     "text": [
      "Epoch 1: CE 2.515135: 100%|██████████████████████████████████████████████████████████████████████████████████████████████████████████████████████████████████████████████████████| 799/799 [03:08<00:00,  4.24it/s]\n",
      "Epoch 1: CE 2.610719:   0%|▏                                                                                                                                                       | 1/799 [00:00<03:14,  4.11it/s]"
     ]
    },
    {
     "name": "stdout",
     "output_type": "stream",
     "text": [
      "EarlyStopping counter: 20 out of 10000\n"
     ]
    },
    {
     "name": "stderr",
     "output_type": "stream",
     "text": [
      "Epoch 1: CE 2.502925:  25%|█████████████████████████████████████▋                                                                                                                | 201/799 [00:48<02:23,  4.18it/s]"
     ]
    },
    {
     "name": "stdout",
     "output_type": "stream",
     "text": [
      "EarlyStopping counter: 21 out of 10000\n"
     ]
    },
    {
     "name": "stderr",
     "output_type": "stream",
     "text": [
      "Epoch 1: CE 2.504070:  50%|███████████████████████████████████████████████████████████████████████████▎                                                                          | 401/799 [01:34<01:31,  4.34it/s]"
     ]
    },
    {
     "name": "stdout",
     "output_type": "stream",
     "text": [
      "EarlyStopping counter: 22 out of 10000\n"
     ]
    },
    {
     "name": "stderr",
     "output_type": "stream",
     "text": [
      "Epoch 1: CE 2.509691:  75%|████████████████████████████████████████████████████████████████████████████████████████████████████████████████▊                                     | 601/799 [02:21<00:47,  4.21it/s]"
     ]
    },
    {
     "name": "stdout",
     "output_type": "stream",
     "text": [
      "EarlyStopping counter: 23 out of 10000\n"
     ]
    },
    {
     "name": "stderr",
     "output_type": "stream",
     "text": [
      "Epoch 1: CE 2.510341: 100%|██████████████████████████████████████████████████████████████████████████████████████████████████████████████████████████████████████████████████████| 799/799 [03:08<00:00,  4.24it/s]\n",
      "Epoch 1: CE 2.475043:   0%|▏                                                                                                                                                       | 1/799 [00:00<03:19,  3.99it/s]"
     ]
    },
    {
     "name": "stdout",
     "output_type": "stream",
     "text": [
      "EarlyStopping counter: 24 out of 10000\n",
      "Epoch   121: reducing learning rate of group 0 to 1.6940e-03.\n"
     ]
    },
    {
     "name": "stderr",
     "output_type": "stream",
     "text": [
      "Epoch 1: CE 2.493277:  25%|█████████████████████████████████████▋                                                                                                                | 201/799 [00:48<02:16,  4.37it/s]"
     ]
    },
    {
     "name": "stdout",
     "output_type": "stream",
     "text": [
      "EarlyStopping counter: 25 out of 10000\n"
     ]
    },
    {
     "name": "stderr",
     "output_type": "stream",
     "text": [
      "Epoch 1: CE 2.495295:  50%|███████████████████████████████████████████████████████████████████████████▎                                                                          | 401/799 [01:35<01:31,  4.34it/s]"
     ]
    },
    {
     "name": "stdout",
     "output_type": "stream",
     "text": [
      "EarlyStopping counter: 26 out of 10000\n"
     ]
    },
    {
     "name": "stderr",
     "output_type": "stream",
     "text": [
      "Epoch 1: CE 2.497809:  75%|████████████████████████████████████████████████████████████████████████████████████████████████████████████████▊                                     | 601/799 [02:22<00:46,  4.28it/s]"
     ]
    },
    {
     "name": "stdout",
     "output_type": "stream",
     "text": [
      "EarlyStopping counter: 27 out of 10000\n"
     ]
    },
    {
     "name": "stderr",
     "output_type": "stream",
     "text": [
      "Epoch 1: CE 2.504487: 100%|██████████████████████████████████████████████████████████████████████████████████████████████████████████████████████████████████████████████████████| 799/799 [03:08<00:00,  4.23it/s]\n",
      "Epoch 1: CE 2.630517:   0%|▏                                                                                                                                                       | 1/799 [00:00<03:30,  3.80it/s]"
     ]
    },
    {
     "name": "stdout",
     "output_type": "stream",
     "text": [
      "EarlyStopping counter: 28 out of 10000\n"
     ]
    },
    {
     "name": "stderr",
     "output_type": "stream",
     "text": [
      "Epoch 1: CE 2.485325:  25%|█████████████████████████████████████▋                                                                                                                | 201/799 [00:48<02:19,  4.28it/s]"
     ]
    },
    {
     "name": "stdout",
     "output_type": "stream",
     "text": [
      "EarlyStopping counter: 29 out of 10000\n"
     ]
    },
    {
     "name": "stderr",
     "output_type": "stream",
     "text": [
      "Epoch 1: CE 2.494509:  50%|███████████████████████████████████████████████████████████████████████████▎                                                                          | 401/799 [01:35<01:33,  4.24it/s]"
     ]
    },
    {
     "name": "stdout",
     "output_type": "stream",
     "text": [
      "EarlyStopping counter: 30 out of 10000\n",
      "Epoch   127: reducing learning rate of group 0 to 1.6263e-03.\n"
     ]
    },
    {
     "name": "stderr",
     "output_type": "stream",
     "text": [
      "Epoch 1: CE 2.500523:  75%|████████████████████████████████████████████████████████████████████████████████████████████████████████████████▊                                     | 601/799 [02:22<00:45,  4.38it/s]"
     ]
    },
    {
     "name": "stdout",
     "output_type": "stream",
     "text": [
      "EarlyStopping counter: 31 out of 10000\n"
     ]
    },
    {
     "name": "stderr",
     "output_type": "stream",
     "text": [
      "Epoch 1: CE 2.500748: 100%|██████████████████████████████████████████████████████████████████████████████████████████████████████████████████████████████████████████████████████| 799/799 [03:09<00:00,  4.22it/s]\n",
      "Epoch 1: CE 2.502534:   0%|▏                                                                                                                                                       | 1/799 [00:00<03:10,  4.20it/s]"
     ]
    },
    {
     "name": "stdout",
     "output_type": "stream",
     "text": [
      "EarlyStopping counter: 32 out of 10000\n"
     ]
    },
    {
     "name": "stderr",
     "output_type": "stream",
     "text": [
      "Epoch 1: CE 2.497944:  25%|█████████████████████████████████████▋                                                                                                                | 201/799 [00:48<02:20,  4.26it/s]"
     ]
    },
    {
     "name": "stdout",
     "output_type": "stream",
     "text": [
      "EarlyStopping counter: 33 out of 10000\n"
     ]
    },
    {
     "name": "stderr",
     "output_type": "stream",
     "text": [
      "Epoch 1: CE 2.495140:  50%|███████████████████████████████████████████████████████████████████████████▎                                                                          | 401/799 [01:35<01:32,  4.30it/s]"
     ]
    },
    {
     "name": "stdout",
     "output_type": "stream",
     "text": [
      "EarlyStopping counter: 34 out of 10000\n"
     ]
    },
    {
     "name": "stderr",
     "output_type": "stream",
     "text": [
      "Epoch 1: CE 2.494698:  75%|████████████████████████████████████████████████████████████████████████████████████████████████████████████████▊                                     | 601/799 [02:22<00:47,  4.19it/s]"
     ]
    },
    {
     "name": "stdout",
     "output_type": "stream",
     "text": [
      "EarlyStopping counter: 35 out of 10000\n"
     ]
    },
    {
     "name": "stderr",
     "output_type": "stream",
     "text": [
      "Epoch 1: CE 2.496317: 100%|██████████████████████████████████████████████████████████████████████████████████████████████████████████████████████████████████████████████████████| 799/799 [03:07<00:00,  4.25it/s]\n",
      "Epoch 1: CE 2.478610:  25%|█████████████████████████████████████▋                                                                                                                | 201/799 [00:48<02:22,  4.19it/s]"
     ]
    },
    {
     "name": "stdout",
     "output_type": "stream",
     "text": [
      "EarlyStopping counter: 1 out of 10000\n"
     ]
    },
    {
     "name": "stderr",
     "output_type": "stream",
     "text": [
      "Epoch 1: CE 2.487891:  50%|███████████████████████████████████████████████████████████████████████████▎                                                                          | 401/799 [01:35<01:34,  4.21it/s]"
     ]
    },
    {
     "name": "stdout",
     "output_type": "stream",
     "text": [
      "EarlyStopping counter: 2 out of 10000\n"
     ]
    },
    {
     "name": "stderr",
     "output_type": "stream",
     "text": [
      "Epoch 1: CE 2.491990:  75%|████████████████████████████████████████████████████████████████████████████████████████████████████████████████▊                                     | 601/799 [02:22<00:47,  4.16it/s]"
     ]
    },
    {
     "name": "stdout",
     "output_type": "stream",
     "text": [
      "EarlyStopping counter: 3 out of 10000\n"
     ]
    },
    {
     "name": "stderr",
     "output_type": "stream",
     "text": [
      "Epoch 1: CE 2.494078: 100%|██████████████████████████████████████████████████████████████████████████████████████████████████████████████████████████████████████████████████████| 799/799 [03:08<00:00,  4.23it/s]\n",
      "Epoch 1: CE 2.380845:   0%|▏                                                                                                                                                       | 1/799 [00:00<03:09,  4.21it/s]"
     ]
    },
    {
     "name": "stdout",
     "output_type": "stream",
     "text": [
      "EarlyStopping counter: 4 out of 10000\n"
     ]
    },
    {
     "name": "stderr",
     "output_type": "stream",
     "text": [
      "Epoch 1: CE 2.488884:  25%|█████████████████████████████████████▋                                                                                                                | 201/799 [00:47<02:24,  4.15it/s]"
     ]
    },
    {
     "name": "stdout",
     "output_type": "stream",
     "text": [
      "EarlyStopping counter: 5 out of 10000\n"
     ]
    },
    {
     "name": "stderr",
     "output_type": "stream",
     "text": [
      "Epoch 1: CE 2.486097:  50%|███████████████████████████████████████████████████████████████████████████▎                                                                          | 401/799 [01:34<01:32,  4.30it/s]"
     ]
    },
    {
     "name": "stdout",
     "output_type": "stream",
     "text": [
      "EarlyStopping counter: 6 out of 10000\n",
      "Epoch   139: reducing learning rate of group 0 to 1.5612e-03.\n"
     ]
    },
    {
     "name": "stderr",
     "output_type": "stream",
     "text": [
      "Epoch 1: CE 2.485833:  75%|████████████████████████████████████████████████████████████████████████████████████████████████████████████████▊                                     | 601/799 [02:21<00:46,  4.24it/s]"
     ]
    },
    {
     "name": "stdout",
     "output_type": "stream",
     "text": [
      "EarlyStopping counter: 7 out of 10000\n"
     ]
    },
    {
     "name": "stderr",
     "output_type": "stream",
     "text": [
      "Epoch 1: CE 2.491478: 100%|██████████████████████████████████████████████████████████████████████████████████████████████████████████████████████████████████████████████████████| 799/799 [03:08<00:00,  4.24it/s]\n",
      "Epoch 1: CE 2.558969:   0%|▏                                                                                                                                                       | 1/799 [00:00<03:11,  4.16it/s]"
     ]
    },
    {
     "name": "stdout",
     "output_type": "stream",
     "text": [
      "EarlyStopping counter: 8 out of 10000\n"
     ]
    },
    {
     "name": "stderr",
     "output_type": "stream",
     "text": [
      "Epoch 1: CE 2.474016:  25%|█████████████████████████████████████▋                                                                                                                | 201/799 [00:48<02:17,  4.34it/s]"
     ]
    },
    {
     "name": "stdout",
     "output_type": "stream",
     "text": [
      "EarlyStopping counter: 9 out of 10000\n"
     ]
    },
    {
     "name": "stderr",
     "output_type": "stream",
     "text": [
      "Epoch 1: CE 2.478380:  50%|███████████████████████████████████████████████████████████████████████████▎                                                                          | 401/799 [01:35<01:33,  4.27it/s]"
     ]
    },
    {
     "name": "stdout",
     "output_type": "stream",
     "text": [
      "EarlyStopping counter: 10 out of 10000\n"
     ]
    },
    {
     "name": "stderr",
     "output_type": "stream",
     "text": [
      "Epoch 1: CE 2.483346:  75%|████████████████████████████████████████████████████████████████████████████████████████████████████████████████▊                                     | 601/799 [02:22<00:46,  4.22it/s]"
     ]
    },
    {
     "name": "stdout",
     "output_type": "stream",
     "text": [
      "EarlyStopping counter: 11 out of 10000\n"
     ]
    },
    {
     "name": "stderr",
     "output_type": "stream",
     "text": [
      "Epoch 1: CE 2.487367: 100%|██████████████████████████████████████████████████████████████████████████████████████████████████████████████████████████████████████████████████████| 799/799 [03:08<00:00,  4.23it/s]\n",
      "Epoch 1: CE 2.405548:   0%|▏                                                                                                                                                       | 1/799 [00:00<03:10,  4.18it/s]"
     ]
    },
    {
     "name": "stdout",
     "output_type": "stream",
     "text": [
      "EarlyStopping counter: 12 out of 10000\n",
      "Epoch   145: reducing learning rate of group 0 to 1.4988e-03.\n"
     ]
    },
    {
     "name": "stderr",
     "output_type": "stream",
     "text": [
      "Epoch 1: CE 2.466206:  25%|█████████████████████████████████████▋                                                                                                                | 201/799 [00:48<02:25,  4.11it/s]"
     ]
    },
    {
     "name": "stdout",
     "output_type": "stream",
     "text": [
      "EarlyStopping counter: 13 out of 10000\n"
     ]
    },
    {
     "name": "stderr",
     "output_type": "stream",
     "text": [
      "Epoch 1: CE 2.473753:  50%|███████████████████████████████████████████████████████████████████████████▎                                                                          | 401/799 [01:34<01:32,  4.30it/s]"
     ]
    },
    {
     "name": "stdout",
     "output_type": "stream",
     "text": [
      "EarlyStopping counter: 14 out of 10000\n"
     ]
    },
    {
     "name": "stderr",
     "output_type": "stream",
     "text": [
      "Epoch 1: CE 2.479123:  75%|████████████████████████████████████████████████████████████████████████████████████████████████████████████████▊                                     | 601/799 [02:21<00:47,  4.21it/s]"
     ]
    },
    {
     "name": "stdout",
     "output_type": "stream",
     "text": [
      "EarlyStopping counter: 15 out of 10000\n"
     ]
    },
    {
     "name": "stderr",
     "output_type": "stream",
     "text": [
      "Epoch 1: CE 2.482213: 100%|██████████████████████████████████████████████████████████████████████████████████████████████████████████████████████████████████████████████████████| 799/799 [03:08<00:00,  4.24it/s]\n",
      "Epoch 1: CE 2.594584:   0%|▏                                                                                                                                                       | 1/799 [00:00<03:27,  3.84it/s]"
     ]
    },
    {
     "name": "stdout",
     "output_type": "stream",
     "text": [
      "EarlyStopping counter: 16 out of 10000\n"
     ]
    },
    {
     "name": "stderr",
     "output_type": "stream",
     "text": [
      "Epoch 1: CE 2.475699:  25%|█████████████████████████████████████▋                                                                                                                | 201/799 [00:48<02:15,  4.40it/s]"
     ]
    },
    {
     "name": "stdout",
     "output_type": "stream",
     "text": [
      "EarlyStopping counter: 17 out of 10000\n"
     ]
    },
    {
     "name": "stderr",
     "output_type": "stream",
     "text": [
      "Epoch 1: CE 2.475581:  50%|███████████████████████████████████████████████████████████████████████████▎                                                                          | 401/799 [01:35<01:35,  4.15it/s]"
     ]
    },
    {
     "name": "stdout",
     "output_type": "stream",
     "text": [
      "EarlyStopping counter: 18 out of 10000\n",
      "Epoch   151: reducing learning rate of group 0 to 1.4388e-03.\n"
     ]
    },
    {
     "name": "stderr",
     "output_type": "stream",
     "text": [
      "Epoch 1: CE 2.475213:  75%|████████████████████████████████████████████████████████████████████████████████████████████████████████████████▊                                     | 601/799 [02:22<00:46,  4.28it/s]"
     ]
    },
    {
     "name": "stdout",
     "output_type": "stream",
     "text": [
      "EarlyStopping counter: 19 out of 10000\n"
     ]
    },
    {
     "name": "stderr",
     "output_type": "stream",
     "text": [
      "Epoch 1: CE 2.477918: 100%|██████████████████████████████████████████████████████████████████████████████████████████████████████████████████████████████████████████████████████| 799/799 [03:08<00:00,  4.23it/s]\n",
      "Epoch 1: CE 2.338646:   0%|▏                                                                                                                                                       | 1/799 [00:00<03:06,  4.29it/s]"
     ]
    },
    {
     "name": "stdout",
     "output_type": "stream",
     "text": [
      "EarlyStopping counter: 20 out of 10000\n"
     ]
    },
    {
     "name": "stderr",
     "output_type": "stream",
     "text": [
      "Epoch 1: CE 2.472071:  25%|█████████████████████████████████████▋                                                                                                                | 201/799 [00:48<02:19,  4.29it/s]"
     ]
    },
    {
     "name": "stdout",
     "output_type": "stream",
     "text": [
      "EarlyStopping counter: 21 out of 10000\n"
     ]
    },
    {
     "name": "stderr",
     "output_type": "stream",
     "text": [
      "Epoch 1: CE 2.473682:  50%|███████████████████████████████████████████████████████████████████████████▎                                                                          | 401/799 [01:35<01:34,  4.19it/s]"
     ]
    },
    {
     "name": "stdout",
     "output_type": "stream",
     "text": [
      "EarlyStopping counter: 22 out of 10000\n"
     ]
    },
    {
     "name": "stderr",
     "output_type": "stream",
     "text": [
      "Epoch 1: CE 2.475085:  75%|████████████████████████████████████████████████████████████████████████████████████████████████████████████████▊                                     | 601/799 [02:22<00:46,  4.24it/s]"
     ]
    },
    {
     "name": "stdout",
     "output_type": "stream",
     "text": [
      "EarlyStopping counter: 23 out of 10000\n"
     ]
    },
    {
     "name": "stderr",
     "output_type": "stream",
     "text": [
      "Epoch 1: CE 2.475076: 100%|██████████████████████████████████████████████████████████████████████████████████████████████████████████████████████████████████████████████████████| 799/799 [03:08<00:00,  4.24it/s]\n",
      "Epoch 1: CE 2.361799:   0%|▏                                                                                                                                                       | 1/799 [00:00<03:15,  4.08it/s]"
     ]
    },
    {
     "name": "stdout",
     "output_type": "stream",
     "text": [
      "EarlyStopping counter: 24 out of 10000\n",
      "Epoch   157: reducing learning rate of group 0 to 1.3813e-03.\n"
     ]
    },
    {
     "name": "stderr",
     "output_type": "stream",
     "text": [
      "Epoch 1: CE 2.454700:  25%|█████████████████████████████████████▋                                                                                                                | 201/799 [00:48<02:21,  4.22it/s]"
     ]
    },
    {
     "name": "stdout",
     "output_type": "stream",
     "text": [
      "EarlyStopping counter: 25 out of 10000\n"
     ]
    },
    {
     "name": "stderr",
     "output_type": "stream",
     "text": [
      "Epoch 1: CE 2.462718:  50%|███████████████████████████████████████████████████████████████████████████▎                                                                          | 401/799 [01:35<01:36,  4.12it/s]"
     ]
    },
    {
     "name": "stdout",
     "output_type": "stream",
     "text": [
      "EarlyStopping counter: 26 out of 10000\n"
     ]
    },
    {
     "name": "stderr",
     "output_type": "stream",
     "text": [
      "Epoch 1: CE 2.470576:  75%|████████████████████████████████████████████████████████████████████████████████████████████████████████████████▊                                     | 601/799 [02:22<00:46,  4.27it/s]"
     ]
    },
    {
     "name": "stdout",
     "output_type": "stream",
     "text": [
      "EarlyStopping counter: 27 out of 10000\n"
     ]
    },
    {
     "name": "stderr",
     "output_type": "stream",
     "text": [
      "Epoch 1: CE 2.469961: 100%|██████████████████████████████████████████████████████████████████████████████████████████████████████████████████████████████████████████████████████| 799/799 [03:09<00:00,  4.22it/s]\n",
      "Epoch 1: CE 2.523967:   0%|▏                                                                                                                                                       | 1/799 [00:00<03:17,  4.05it/s]"
     ]
    },
    {
     "name": "stdout",
     "output_type": "stream",
     "text": [
      "EarlyStopping counter: 28 out of 10000\n"
     ]
    },
    {
     "name": "stderr",
     "output_type": "stream",
     "text": [
      "Epoch 1: CE 2.459944:  25%|█████████████████████████████████████▋                                                                                                                | 201/799 [00:48<02:23,  4.18it/s]"
     ]
    },
    {
     "name": "stdout",
     "output_type": "stream",
     "text": [
      "EarlyStopping counter: 29 out of 10000\n"
     ]
    },
    {
     "name": "stderr",
     "output_type": "stream",
     "text": [
      "Epoch 1: CE 2.466055:  50%|███████████████████████████████████████████████████████████████████████████▎                                                                          | 401/799 [01:35<01:32,  4.30it/s]"
     ]
    },
    {
     "name": "stdout",
     "output_type": "stream",
     "text": [
      "EarlyStopping counter: 30 out of 10000\n",
      "Epoch   163: reducing learning rate of group 0 to 1.3260e-03.\n"
     ]
    },
    {
     "name": "stderr",
     "output_type": "stream",
     "text": [
      "Epoch 1: CE 2.467073:  75%|████████████████████████████████████████████████████████████████████████████████████████████████████████████████▊                                     | 601/799 [02:22<00:45,  4.35it/s]"
     ]
    },
    {
     "name": "stdout",
     "output_type": "stream",
     "text": [
      "EarlyStopping counter: 31 out of 10000\n"
     ]
    },
    {
     "name": "stderr",
     "output_type": "stream",
     "text": [
      "Epoch 1: CE 2.466795: 100%|██████████████████████████████████████████████████████████████████████████████████████████████████████████████████████████████████████████████████████| 799/799 [03:08<00:00,  4.23it/s]\n",
      "Epoch 1: CE 2.515725:   0%|▏                                                                                                                                                       | 1/799 [00:00<03:16,  4.06it/s]"
     ]
    },
    {
     "name": "stdout",
     "output_type": "stream",
     "text": [
      "EarlyStopping counter: 32 out of 10000\n"
     ]
    },
    {
     "name": "stderr",
     "output_type": "stream",
     "text": [
      "Epoch 1: CE 2.463464:  25%|█████████████████████████████████████▋                                                                                                                | 201/799 [00:47<02:20,  4.26it/s]"
     ]
    },
    {
     "name": "stdout",
     "output_type": "stream",
     "text": [
      "EarlyStopping counter: 33 out of 10000\n"
     ]
    },
    {
     "name": "stderr",
     "output_type": "stream",
     "text": [
      "Epoch 1: CE 2.463323:  50%|███████████████████████████████████████████████████████████████████████████▎                                                                          | 401/799 [01:35<01:34,  4.22it/s]"
     ]
    },
    {
     "name": "stdout",
     "output_type": "stream",
     "text": [
      "EarlyStopping counter: 34 out of 10000\n"
     ]
    },
    {
     "name": "stderr",
     "output_type": "stream",
     "text": [
      "Epoch 1: CE 2.460568:  75%|████████████████████████████████████████████████████████████████████████████████████████████████████████████████▊                                     | 601/799 [02:22<00:46,  4.24it/s]"
     ]
    },
    {
     "name": "stdout",
     "output_type": "stream",
     "text": [
      "EarlyStopping counter: 35 out of 10000\n"
     ]
    },
    {
     "name": "stderr",
     "output_type": "stream",
     "text": [
      "Epoch 1: CE 2.463605: 100%|██████████████████████████████████████████████████████████████████████████████████████████████████████████████████████████████████████████████████████| 799/799 [03:08<00:00,  4.23it/s]\n",
      "Epoch 1: CE 2.480358:   0%|▏                                                                                                                                                       | 1/799 [00:00<03:15,  4.09it/s]"
     ]
    },
    {
     "name": "stdout",
     "output_type": "stream",
     "text": [
      "EarlyStopping counter: 36 out of 10000\n",
      "Epoch   169: reducing learning rate of group 0 to 1.2730e-03.\n"
     ]
    },
    {
     "name": "stderr",
     "output_type": "stream",
     "text": [
      "Epoch 1: CE 2.451149:  25%|█████████████████████████████████████▋                                                                                                                | 201/799 [00:48<02:18,  4.33it/s]"
     ]
    },
    {
     "name": "stdout",
     "output_type": "stream",
     "text": [
      "EarlyStopping counter: 37 out of 10000\n"
     ]
    },
    {
     "name": "stderr",
     "output_type": "stream",
     "text": [
      "Epoch 1: CE 2.459921:  50%|███████████████████████████████████████████████████████████████████████████▎                                                                          | 401/799 [01:35<01:35,  4.15it/s]"
     ]
    },
    {
     "name": "stdout",
     "output_type": "stream",
     "text": [
      "EarlyStopping counter: 38 out of 10000\n"
     ]
    },
    {
     "name": "stderr",
     "output_type": "stream",
     "text": [
      "Epoch 1: CE 2.458729:  75%|████████████████████████████████████████████████████████████████████████████████████████████████████████████████▊                                     | 601/799 [02:22<00:46,  4.29it/s]"
     ]
    },
    {
     "name": "stdout",
     "output_type": "stream",
     "text": [
      "EarlyStopping counter: 39 out of 10000\n"
     ]
    },
    {
     "name": "stderr",
     "output_type": "stream",
     "text": [
      "Epoch 1: CE 2.458481: 100%|██████████████████████████████████████████████████████████████████████████████████████████████████████████████████████████████████████████████████████| 799/799 [03:09<00:00,  4.23it/s]\n",
      "Epoch 1: CE 2.346676:   0%|▏                                                                                                                                                       | 1/799 [00:00<03:04,  4.33it/s]"
     ]
    },
    {
     "name": "stdout",
     "output_type": "stream",
     "text": [
      "EarlyStopping counter: 40 out of 10000\n"
     ]
    },
    {
     "name": "stderr",
     "output_type": "stream",
     "text": [
      "Epoch 1: CE 2.450862:  25%|█████████████████████████████████████▋                                                                                                                | 201/799 [00:48<02:21,  4.21it/s]"
     ]
    },
    {
     "name": "stdout",
     "output_type": "stream",
     "text": [
      "EarlyStopping counter: 41 out of 10000\n"
     ]
    },
    {
     "name": "stderr",
     "output_type": "stream",
     "text": [
      "Epoch 1: CE 2.455527:  50%|███████████████████████████████████████████████████████████████████████████▎                                                                          | 401/799 [01:34<01:33,  4.26it/s]"
     ]
    },
    {
     "name": "stdout",
     "output_type": "stream",
     "text": [
      "EarlyStopping counter: 42 out of 10000\n",
      "Epoch   175: reducing learning rate of group 0 to 1.2220e-03.\n"
     ]
    },
    {
     "name": "stderr",
     "output_type": "stream",
     "text": [
      "Epoch 1: CE 2.457932:  75%|████████████████████████████████████████████████████████████████████████████████████████████████████████████████▊                                     | 601/799 [02:21<00:47,  4.21it/s]"
     ]
    },
    {
     "name": "stdout",
     "output_type": "stream",
     "text": [
      "EarlyStopping counter: 43 out of 10000\n"
     ]
    },
    {
     "name": "stderr",
     "output_type": "stream",
     "text": [
      "Epoch 1: CE 2.455777: 100%|██████████████████████████████████████████████████████████████████████████████████████████████████████████████████████████████████████████████████████| 799/799 [03:08<00:00,  4.24it/s]\n",
      "Epoch 1: CE 2.406349:   0%|▏                                                                                                                                                       | 1/799 [00:00<03:06,  4.27it/s]"
     ]
    },
    {
     "name": "stdout",
     "output_type": "stream",
     "text": [
      "EarlyStopping counter: 44 out of 10000\n"
     ]
    },
    {
     "name": "stderr",
     "output_type": "stream",
     "text": [
      "Epoch 1: CE 2.448371:  25%|█████████████████████████████████████▋                                                                                                                | 201/799 [00:48<02:18,  4.33it/s]"
     ]
    },
    {
     "name": "stdout",
     "output_type": "stream",
     "text": [
      "EarlyStopping counter: 45 out of 10000\n"
     ]
    },
    {
     "name": "stderr",
     "output_type": "stream",
     "text": [
      "Epoch 1: CE 2.444068:  50%|███████████████████████████████████████████████████████████████████████████▎                                                                          | 401/799 [01:35<01:32,  4.30it/s]"
     ]
    },
    {
     "name": "stdout",
     "output_type": "stream",
     "text": [
      "EarlyStopping counter: 46 out of 10000\n"
     ]
    },
    {
     "name": "stderr",
     "output_type": "stream",
     "text": [
      "Epoch 1: CE 2.447842:  75%|████████████████████████████████████████████████████████████████████████████████████████████████████████████████▊                                     | 601/799 [02:22<00:46,  4.24it/s]"
     ]
    },
    {
     "name": "stdout",
     "output_type": "stream",
     "text": [
      "EarlyStopping counter: 47 out of 10000\n"
     ]
    },
    {
     "name": "stderr",
     "output_type": "stream",
     "text": [
      "Epoch 1: CE 2.452216: 100%|██████████████████████████████████████████████████████████████████████████████████████████████████████████████████████████████████████████████████████| 799/799 [03:08<00:00,  4.24it/s]\n",
      "Epoch 1: CE 2.470660:   0%|▏                                                                                                                                                       | 1/799 [00:00<03:17,  4.03it/s]"
     ]
    },
    {
     "name": "stdout",
     "output_type": "stream",
     "text": [
      "EarlyStopping counter: 48 out of 10000\n",
      "Epoch   181: reducing learning rate of group 0 to 1.1732e-03.\n"
     ]
    },
    {
     "name": "stderr",
     "output_type": "stream",
     "text": [
      "Epoch 1: CE 2.446674:  25%|█████████████████████████████████████▋                                                                                                                | 201/799 [00:48<02:23,  4.18it/s]"
     ]
    },
    {
     "name": "stdout",
     "output_type": "stream",
     "text": [
      "EarlyStopping counter: 49 out of 10000\n"
     ]
    },
    {
     "name": "stderr",
     "output_type": "stream",
     "text": [
      "Epoch 1: CE 2.443586:  50%|███████████████████████████████████████████████████████████████████████████▎                                                                          | 401/799 [01:35<01:32,  4.32it/s]"
     ]
    },
    {
     "name": "stdout",
     "output_type": "stream",
     "text": [
      "EarlyStopping counter: 50 out of 10000\n"
     ]
    },
    {
     "name": "stderr",
     "output_type": "stream",
     "text": [
      "Epoch 1: CE 2.445820:  75%|████████████████████████████████████████████████████████████████████████████████████████████████████████████████▊                                     | 601/799 [02:21<00:46,  4.29it/s]"
     ]
    },
    {
     "name": "stdout",
     "output_type": "stream",
     "text": [
      "EarlyStopping counter: 51 out of 10000\n"
     ]
    },
    {
     "name": "stderr",
     "output_type": "stream",
     "text": [
      "Epoch 1: CE 2.448033: 100%|██████████████████████████████████████████████████████████████████████████████████████████████████████████████████████████████████████████████████████| 799/799 [03:08<00:00,  4.25it/s]\n",
      "Epoch 1: CE 2.439421:   0%|▏                                                                                                                                                       | 1/799 [00:00<03:20,  3.98it/s]"
     ]
    },
    {
     "name": "stdout",
     "output_type": "stream",
     "text": [
      "EarlyStopping counter: 52 out of 10000\n"
     ]
    },
    {
     "name": "stderr",
     "output_type": "stream",
     "text": [
      "Epoch 1: CE 2.434819:  25%|█████████████████████████████████████▋                                                                                                                | 201/799 [00:47<02:19,  4.28it/s]"
     ]
    },
    {
     "name": "stdout",
     "output_type": "stream",
     "text": [
      "EarlyStopping counter: 53 out of 10000\n"
     ]
    },
    {
     "name": "stderr",
     "output_type": "stream",
     "text": [
      "Epoch 1: CE 2.443451:  50%|███████████████████████████████████████████████████████████████████████████▎                                                                          | 401/799 [01:35<01:35,  4.18it/s]"
     ]
    },
    {
     "name": "stdout",
     "output_type": "stream",
     "text": [
      "EarlyStopping counter: 54 out of 10000\n",
      "Epoch   187: reducing learning rate of group 0 to 1.1262e-03.\n"
     ]
    },
    {
     "name": "stderr",
     "output_type": "stream",
     "text": [
      "Epoch 1: CE 2.442283:  75%|████████████████████████████████████████████████████████████████████████████████████████████████████████████████▊                                     | 601/799 [02:22<00:46,  4.22it/s]"
     ]
    },
    {
     "name": "stdout",
     "output_type": "stream",
     "text": [
      "EarlyStopping counter: 55 out of 10000\n"
     ]
    },
    {
     "name": "stderr",
     "output_type": "stream",
     "text": [
      "Epoch 1: CE 2.445514: 100%|██████████████████████████████████████████████████████████████████████████████████████████████████████████████████████████████████████████████████████| 799/799 [03:08<00:00,  4.24it/s]\n",
      "Epoch 1: CE 2.537572:   0%|▏                                                                                                                                                       | 1/799 [00:00<03:03,  4.36it/s]"
     ]
    },
    {
     "name": "stdout",
     "output_type": "stream",
     "text": [
      "EarlyStopping counter: 56 out of 10000\n"
     ]
    },
    {
     "name": "stderr",
     "output_type": "stream",
     "text": [
      "Epoch 1: CE 2.440219:  25%|█████████████████████████████████████▋                                                                                                                | 201/799 [00:48<02:19,  4.28it/s]"
     ]
    },
    {
     "name": "stdout",
     "output_type": "stream",
     "text": [
      "EarlyStopping counter: 57 out of 10000\n"
     ]
    },
    {
     "name": "stderr",
     "output_type": "stream",
     "text": [
      "Epoch 1: CE 2.439031:  50%|███████████████████████████████████████████████████████████████████████████▎                                                                          | 401/799 [01:35<01:35,  4.15it/s]"
     ]
    },
    {
     "name": "stdout",
     "output_type": "stream",
     "text": [
      "EarlyStopping counter: 58 out of 10000\n"
     ]
    },
    {
     "name": "stderr",
     "output_type": "stream",
     "text": [
      "Epoch 1: CE 2.441284:  75%|████████████████████████████████████████████████████████████████████████████████████████████████████████████████▊                                     | 601/799 [02:22<00:46,  4.27it/s]"
     ]
    },
    {
     "name": "stdout",
     "output_type": "stream",
     "text": [
      "EarlyStopping counter: 59 out of 10000\n"
     ]
    },
    {
     "name": "stderr",
     "output_type": "stream",
     "text": [
      "Epoch 1: CE 2.441637: 100%|██████████████████████████████████████████████████████████████████████████████████████████████████████████████████████████████████████████████████████| 799/799 [03:08<00:00,  4.23it/s]\n",
      "Epoch 1: CE 2.340294:   0%|▏                                                                                                                                                       | 1/799 [00:00<03:15,  4.08it/s]"
     ]
    },
    {
     "name": "stdout",
     "output_type": "stream",
     "text": [
      "EarlyStopping counter: 60 out of 10000\n",
      "Epoch   193: reducing learning rate of group 0 to 1.0812e-03.\n"
     ]
    },
    {
     "name": "stderr",
     "output_type": "stream",
     "text": [
      "Epoch 1: CE 2.431146:  25%|█████████████████████████████████████▋                                                                                                                | 201/799 [00:48<02:20,  4.24it/s]"
     ]
    },
    {
     "name": "stdout",
     "output_type": "stream",
     "text": [
      "EarlyStopping counter: 61 out of 10000\n"
     ]
    },
    {
     "name": "stderr",
     "output_type": "stream",
     "text": [
      "Epoch 1: CE 2.435092:  50%|███████████████████████████████████████████████████████████████████████████▎                                                                          | 401/799 [01:35<01:32,  4.32it/s]"
     ]
    },
    {
     "name": "stdout",
     "output_type": "stream",
     "text": [
      "EarlyStopping counter: 62 out of 10000\n"
     ]
    },
    {
     "name": "stderr",
     "output_type": "stream",
     "text": [
      "Epoch 1: CE 2.436508:  75%|████████████████████████████████████████████████████████████████████████████████████████████████████████████████▊                                     | 601/799 [02:22<00:45,  4.32it/s]"
     ]
    },
    {
     "name": "stdout",
     "output_type": "stream",
     "text": [
      "EarlyStopping counter: 63 out of 10000\n"
     ]
    },
    {
     "name": "stderr",
     "output_type": "stream",
     "text": [
      "Epoch 1: CE 2.439097: 100%|██████████████████████████████████████████████████████████████████████████████████████████████████████████████████████████████████████████████████████| 799/799 [03:08<00:00,  4.23it/s]\n",
      "Epoch 1: CE 2.326098:   0%|▏                                                                                                                                                       | 1/799 [00:00<03:09,  4.22it/s]"
     ]
    },
    {
     "name": "stdout",
     "output_type": "stream",
     "text": [
      "EarlyStopping counter: 64 out of 10000\n"
     ]
    },
    {
     "name": "stderr",
     "output_type": "stream",
     "text": [
      "Epoch 1: CE 2.434363:  25%|█████████████████████████████████████▋                                                                                                                | 201/799 [00:48<02:22,  4.19it/s]"
     ]
    },
    {
     "name": "stdout",
     "output_type": "stream",
     "text": [
      "EarlyStopping counter: 65 out of 10000\n"
     ]
    },
    {
     "name": "stderr",
     "output_type": "stream",
     "text": [
      "Epoch 1: CE 2.432793:  50%|███████████████████████████████████████████████████████████████████████████▎                                                                          | 401/799 [01:35<01:27,  4.55it/s]"
     ]
    },
    {
     "name": "stdout",
     "output_type": "stream",
     "text": [
      "EarlyStopping counter: 66 out of 10000\n",
      "Epoch   199: reducing learning rate of group 0 to 1.0379e-03.\n"
     ]
    },
    {
     "name": "stderr",
     "output_type": "stream",
     "text": [
      "Epoch 1: CE 2.438772:  75%|████████████████████████████████████████████████████████████████████████████████████████████████████████████████▊                                     | 601/799 [02:22<00:47,  4.20it/s]"
     ]
    },
    {
     "name": "stdout",
     "output_type": "stream",
     "text": [
      "EarlyStopping counter: 67 out of 10000\n"
     ]
    },
    {
     "name": "stderr",
     "output_type": "stream",
     "text": [
      "Epoch 1: CE 2.436371: 100%|██████████████████████████████████████████████████████████████████████████████████████████████████████████████████████████████████████████████████████| 799/799 [03:09<00:00,  4.22it/s]\n",
      "Epoch 1: CE 2.504550:   0%|▏                                                                                                                                                       | 1/799 [00:00<03:21,  3.96it/s]"
     ]
    },
    {
     "name": "stdout",
     "output_type": "stream",
     "text": [
      "EarlyStopping counter: 68 out of 10000\n"
     ]
    },
    {
     "name": "stderr",
     "output_type": "stream",
     "text": [
      "Epoch 1: CE 2.426445:  25%|█████████████████████████████████████▋                                                                                                                | 201/799 [00:48<02:24,  4.13it/s]"
     ]
    },
    {
     "name": "stdout",
     "output_type": "stream",
     "text": [
      "EarlyStopping counter: 69 out of 10000\n"
     ]
    },
    {
     "name": "stderr",
     "output_type": "stream",
     "text": [
      "Epoch 1: CE 2.427859:  50%|███████████████████████████████████████████████████████████████████████████▎                                                                          | 401/799 [01:35<01:32,  4.29it/s]"
     ]
    },
    {
     "name": "stdout",
     "output_type": "stream",
     "text": [
      "EarlyStopping counter: 70 out of 10000\n"
     ]
    },
    {
     "name": "stderr",
     "output_type": "stream",
     "text": [
      "Epoch 1: CE 2.430647:  75%|████████████████████████████████████████████████████████████████████████████████████████████████████████████████▊                                     | 601/799 [02:22<00:46,  4.24it/s]"
     ]
    },
    {
     "name": "stdout",
     "output_type": "stream",
     "text": [
      "EarlyStopping counter: 71 out of 10000\n"
     ]
    },
    {
     "name": "stderr",
     "output_type": "stream",
     "text": [
      "Epoch 1: CE 2.433642: 100%|██████████████████████████████████████████████████████████████████████████████████████████████████████████████████████████████████████████████████████| 799/799 [03:09<00:00,  4.22it/s]\n",
      "Epoch 1: CE 2.422149:   0%|▏                                                                                                                                                       | 1/799 [00:00<03:18,  4.03it/s]"
     ]
    },
    {
     "name": "stdout",
     "output_type": "stream",
     "text": [
      "EarlyStopping counter: 72 out of 10000\n",
      "Epoch   205: reducing learning rate of group 0 to 9.9642e-04.\n"
     ]
    },
    {
     "name": "stderr",
     "output_type": "stream",
     "text": [
      "Epoch 1: CE 2.421119:  25%|█████████████████████████████████████▋                                                                                                                | 201/799 [00:48<02:25,  4.11it/s]"
     ]
    },
    {
     "name": "stdout",
     "output_type": "stream",
     "text": [
      "EarlyStopping counter: 73 out of 10000\n"
     ]
    },
    {
     "name": "stderr",
     "output_type": "stream",
     "text": [
      "Epoch 1: CE 2.419978:  50%|███████████████████████████████████████████████████████████████████████████▎                                                                          | 401/799 [01:34<01:32,  4.31it/s]"
     ]
    },
    {
     "name": "stdout",
     "output_type": "stream",
     "text": [
      "EarlyStopping counter: 74 out of 10000\n"
     ]
    },
    {
     "name": "stderr",
     "output_type": "stream",
     "text": [
      "Epoch 1: CE 2.429326:  75%|████████████████████████████████████████████████████████████████████████████████████████████████████████████████▊                                     | 601/799 [02:22<00:47,  4.19it/s]"
     ]
    },
    {
     "name": "stdout",
     "output_type": "stream",
     "text": [
      "EarlyStopping counter: 75 out of 10000\n"
     ]
    },
    {
     "name": "stderr",
     "output_type": "stream",
     "text": [
      "Epoch 1: CE 2.430196: 100%|██████████████████████████████████████████████████████████████████████████████████████████████████████████████████████████████████████████████████████| 799/799 [03:08<00:00,  4.23it/s]\n",
      "Epoch 1: CE 2.462123:   0%|▏                                                                                                                                                       | 1/799 [00:00<03:26,  3.86it/s]"
     ]
    },
    {
     "name": "stdout",
     "output_type": "stream",
     "text": [
      "EarlyStopping counter: 76 out of 10000\n"
     ]
    },
    {
     "name": "stderr",
     "output_type": "stream",
     "text": [
      "Epoch 1: CE 2.429288:  25%|█████████████████████████████████████▋                                                                                                                | 201/799 [00:48<02:14,  4.44it/s]"
     ]
    },
    {
     "name": "stdout",
     "output_type": "stream",
     "text": [
      "EarlyStopping counter: 77 out of 10000\n"
     ]
    },
    {
     "name": "stderr",
     "output_type": "stream",
     "text": [
      "Epoch 1: CE 2.424351:  50%|███████████████████████████████████████████████████████████████████████████▎                                                                          | 401/799 [01:35<01:34,  4.19it/s]"
     ]
    },
    {
     "name": "stdout",
     "output_type": "stream",
     "text": [
      "EarlyStopping counter: 78 out of 10000\n",
      "Epoch   211: reducing learning rate of group 0 to 9.5657e-04.\n"
     ]
    },
    {
     "name": "stderr",
     "output_type": "stream",
     "text": [
      "Epoch 1: CE 2.425429:  75%|████████████████████████████████████████████████████████████████████████████████████████████████████████████████▊                                     | 601/799 [02:22<00:46,  4.24it/s]"
     ]
    },
    {
     "name": "stdout",
     "output_type": "stream",
     "text": [
      "EarlyStopping counter: 79 out of 10000\n"
     ]
    },
    {
     "name": "stderr",
     "output_type": "stream",
     "text": [
      "Epoch 1: CE 2.427102: 100%|██████████████████████████████████████████████████████████████████████████████████████████████████████████████████████████████████████████████████████| 799/799 [03:09<00:00,  4.23it/s]\n",
      "Epoch 1: CE 2.389968:   0%|▏                                                                                                                                                       | 1/799 [00:00<03:10,  4.18it/s]"
     ]
    },
    {
     "name": "stdout",
     "output_type": "stream",
     "text": [
      "EarlyStopping counter: 80 out of 10000\n"
     ]
    },
    {
     "name": "stderr",
     "output_type": "stream",
     "text": [
      "Epoch 1: CE 2.418582:  25%|█████████████████████████████████████▋                                                                                                                | 201/799 [00:47<02:20,  4.27it/s]"
     ]
    },
    {
     "name": "stdout",
     "output_type": "stream",
     "text": [
      "EarlyStopping counter: 81 out of 10000\n"
     ]
    },
    {
     "name": "stderr",
     "output_type": "stream",
     "text": [
      "Epoch 1: CE 2.419979:  50%|███████████████████████████████████████████████████████████████████████████▎                                                                          | 401/799 [01:34<01:33,  4.26it/s]"
     ]
    },
    {
     "name": "stdout",
     "output_type": "stream",
     "text": [
      "EarlyStopping counter: 82 out of 10000\n"
     ]
    },
    {
     "name": "stderr",
     "output_type": "stream",
     "text": [
      "Epoch 1: CE 2.420951:  75%|████████████████████████████████████████████████████████████████████████████████████████████████████████████████▊                                     | 601/799 [02:21<00:47,  4.17it/s]"
     ]
    },
    {
     "name": "stdout",
     "output_type": "stream",
     "text": [
      "EarlyStopping counter: 83 out of 10000\n"
     ]
    },
    {
     "name": "stderr",
     "output_type": "stream",
     "text": [
      "Epoch 1: CE 2.423836: 100%|██████████████████████████████████████████████████████████████████████████████████████████████████████████████████████████████████████████████████████| 799/799 [03:08<00:00,  4.25it/s]\n",
      "Epoch 1: CE 2.372900:   0%|▏                                                                                                                                                       | 1/799 [00:00<03:11,  4.17it/s]"
     ]
    },
    {
     "name": "stdout",
     "output_type": "stream",
     "text": [
      "EarlyStopping counter: 84 out of 10000\n",
      "Epoch   217: reducing learning rate of group 0 to 9.1831e-04.\n"
     ]
    },
    {
     "name": "stderr",
     "output_type": "stream",
     "text": [
      "Epoch 1: CE 2.416243:  25%|█████████████████████████████████████▋                                                                                                                | 201/799 [00:48<02:22,  4.19it/s]"
     ]
    },
    {
     "name": "stdout",
     "output_type": "stream",
     "text": [
      "EarlyStopping counter: 85 out of 10000\n"
     ]
    },
    {
     "name": "stderr",
     "output_type": "stream",
     "text": [
      "Epoch 1: CE 2.419464:  50%|███████████████████████████████████████████████████████████████████████████▎                                                                          | 401/799 [01:35<01:32,  4.30it/s]"
     ]
    },
    {
     "name": "stdout",
     "output_type": "stream",
     "text": [
      "EarlyStopping counter: 86 out of 10000\n"
     ]
    },
    {
     "name": "stderr",
     "output_type": "stream",
     "text": [
      "Epoch 1: CE 2.418741:  75%|████████████████████████████████████████████████████████████████████████████████████████████████████████████████▊                                     | 601/799 [02:22<00:46,  4.22it/s]"
     ]
    },
    {
     "name": "stdout",
     "output_type": "stream",
     "text": [
      "EarlyStopping counter: 87 out of 10000\n"
     ]
    },
    {
     "name": "stderr",
     "output_type": "stream",
     "text": [
      "Epoch 1: CE 2.420983: 100%|██████████████████████████████████████████████████████████████████████████████████████████████████████████████████████████████████████████████████████| 799/799 [03:09<00:00,  4.22it/s]\n",
      "Epoch 1: CE 2.408446:   0%|▏                                                                                                                                                       | 1/799 [00:00<03:15,  4.08it/s]"
     ]
    },
    {
     "name": "stdout",
     "output_type": "stream",
     "text": [
      "EarlyStopping counter: 88 out of 10000\n"
     ]
    },
    {
     "name": "stderr",
     "output_type": "stream",
     "text": [
      "Epoch 1: CE 2.412640:  25%|█████████████████████████████████████▋                                                                                                                | 201/799 [00:48<02:21,  4.23it/s]"
     ]
    },
    {
     "name": "stdout",
     "output_type": "stream",
     "text": [
      "EarlyStopping counter: 89 out of 10000\n"
     ]
    },
    {
     "name": "stderr",
     "output_type": "stream",
     "text": [
      "Epoch 1: CE 2.422253:  50%|███████████████████████████████████████████████████████████████████████████▎                                                                          | 401/799 [01:35<01:33,  4.26it/s]"
     ]
    },
    {
     "name": "stdout",
     "output_type": "stream",
     "text": [
      "EarlyStopping counter: 90 out of 10000\n",
      "Epoch   223: reducing learning rate of group 0 to 8.8157e-04.\n"
     ]
    },
    {
     "name": "stderr",
     "output_type": "stream",
     "text": [
      "Epoch 1: CE 2.418899:  75%|████████████████████████████████████████████████████████████████████████████████████████████████████████████████▊                                     | 601/799 [02:22<00:47,  4.16it/s]"
     ]
    },
    {
     "name": "stdout",
     "output_type": "stream",
     "text": [
      "EarlyStopping counter: 91 out of 10000\n"
     ]
    },
    {
     "name": "stderr",
     "output_type": "stream",
     "text": [
      "Epoch 1: CE 2.418698: 100%|██████████████████████████████████████████████████████████████████████████████████████████████████████████████████████████████████████████████████████| 799/799 [03:09<00:00,  4.22it/s]\n",
      "Epoch 1: CE 2.429906:   0%|▏                                                                                                                                                       | 1/799 [00:00<03:23,  3.92it/s]"
     ]
    },
    {
     "name": "stdout",
     "output_type": "stream",
     "text": [
      "EarlyStopping counter: 92 out of 10000\n"
     ]
    },
    {
     "name": "stderr",
     "output_type": "stream",
     "text": [
      "Epoch 1: CE 2.405413:  25%|█████████████████████████████████████▋                                                                                                                | 201/799 [00:48<02:19,  4.30it/s]"
     ]
    },
    {
     "name": "stdout",
     "output_type": "stream",
     "text": [
      "EarlyStopping counter: 93 out of 10000\n"
     ]
    },
    {
     "name": "stderr",
     "output_type": "stream",
     "text": [
      "Epoch 1: CE 2.409954:  50%|███████████████████████████████████████████████████████████████████████████▎                                                                          | 401/799 [01:35<01:32,  4.31it/s]"
     ]
    },
    {
     "name": "stdout",
     "output_type": "stream",
     "text": [
      "EarlyStopping counter: 94 out of 10000\n"
     ]
    },
    {
     "name": "stderr",
     "output_type": "stream",
     "text": [
      "Epoch 1: CE 2.411152:  75%|████████████████████████████████████████████████████████████████████████████████████████████████████████████████▊                                     | 601/799 [02:22<00:47,  4.21it/s]"
     ]
    },
    {
     "name": "stdout",
     "output_type": "stream",
     "text": [
      "EarlyStopping counter: 95 out of 10000\n"
     ]
    },
    {
     "name": "stderr",
     "output_type": "stream",
     "text": [
      "Epoch 1: CE 2.416652: 100%|██████████████████████████████████████████████████████████████████████████████████████████████████████████████████████████████████████████████████████| 799/799 [03:09<00:00,  4.22it/s]\n",
      "Epoch 1: CE 2.494055:   0%|▏                                                                                                                                                       | 1/799 [00:00<03:15,  4.09it/s]"
     ]
    },
    {
     "name": "stdout",
     "output_type": "stream",
     "text": [
      "EarlyStopping counter: 96 out of 10000\n",
      "Epoch   229: reducing learning rate of group 0 to 8.4631e-04.\n"
     ]
    },
    {
     "name": "stderr",
     "output_type": "stream",
     "text": [
      "Epoch 1: CE 2.398736:  25%|█████████████████████████████████████▋                                                                                                                | 201/799 [00:48<02:22,  4.18it/s]"
     ]
    },
    {
     "name": "stdout",
     "output_type": "stream",
     "text": [
      "EarlyStopping counter: 97 out of 10000\n"
     ]
    },
    {
     "name": "stderr",
     "output_type": "stream",
     "text": [
      "Epoch 1: CE 2.406160:  50%|███████████████████████████████████████████████████████████████████████████▎                                                                          | 401/799 [01:34<01:37,  4.09it/s]"
     ]
    },
    {
     "name": "stdout",
     "output_type": "stream",
     "text": [
      "EarlyStopping counter: 98 out of 10000\n"
     ]
    },
    {
     "name": "stderr",
     "output_type": "stream",
     "text": [
      "Epoch 1: CE 2.407765:  75%|████████████████████████████████████████████████████████████████████████████████████████████████████████████████▊                                     | 601/799 [02:21<00:46,  4.22it/s]"
     ]
    },
    {
     "name": "stdout",
     "output_type": "stream",
     "text": [
      "EarlyStopping counter: 99 out of 10000\n"
     ]
    },
    {
     "name": "stderr",
     "output_type": "stream",
     "text": [
      "Epoch 1: CE 2.412043: 100%|██████████████████████████████████████████████████████████████████████████████████████████████████████████████████████████████████████████████████████| 799/799 [03:08<00:00,  4.24it/s]\n",
      "Epoch 1: CE 2.443981:   0%|▏                                                                                                                                                       | 1/799 [00:00<03:14,  4.10it/s]"
     ]
    },
    {
     "name": "stdout",
     "output_type": "stream",
     "text": [
      "EarlyStopping counter: 100 out of 10000\n"
     ]
    },
    {
     "name": "stderr",
     "output_type": "stream",
     "text": [
      "Epoch 1: CE 2.409099:  25%|█████████████████████████████████████▋                                                                                                                | 201/799 [00:48<02:15,  4.40it/s]"
     ]
    },
    {
     "name": "stdout",
     "output_type": "stream",
     "text": [
      "EarlyStopping counter: 101 out of 10000\n"
     ]
    },
    {
     "name": "stderr",
     "output_type": "stream",
     "text": [
      "Epoch 1: CE 2.410068:  50%|███████████████████████████████████████████████████████████████████████████▎                                                                          | 401/799 [01:35<01:33,  4.24it/s]"
     ]
    },
    {
     "name": "stdout",
     "output_type": "stream",
     "text": [
      "EarlyStopping counter: 102 out of 10000\n",
      "Epoch   235: reducing learning rate of group 0 to 8.1246e-04.\n"
     ]
    },
    {
     "name": "stderr",
     "output_type": "stream",
     "text": [
      "Epoch 1: CE 2.409087:  75%|████████████████████████████████████████████████████████████████████████████████████████████████████████████████▊                                     | 601/799 [02:22<00:46,  4.25it/s]"
     ]
    },
    {
     "name": "stdout",
     "output_type": "stream",
     "text": [
      "EarlyStopping counter: 103 out of 10000\n"
     ]
    },
    {
     "name": "stderr",
     "output_type": "stream",
     "text": [
      "Epoch 1: CE 2.411298: 100%|██████████████████████████████████████████████████████████████████████████████████████████████████████████████████████████████████████████████████████| 799/799 [03:08<00:00,  4.23it/s]\n",
      "Epoch 1: CE 2.398147:  25%|█████████████████████████████████████▋                                                                                                                | 201/799 [00:48<02:21,  4.23it/s]"
     ]
    },
    {
     "name": "stdout",
     "output_type": "stream",
     "text": [
      "EarlyStopping counter: 1 out of 10000\n"
     ]
    },
    {
     "name": "stderr",
     "output_type": "stream",
     "text": [
      "Epoch 1: CE 2.405626:  50%|███████████████████████████████████████████████████████████████████████████▎                                                                          | 401/799 [01:35<01:32,  4.28it/s]"
     ]
    },
    {
     "name": "stdout",
     "output_type": "stream",
     "text": [
      "EarlyStopping counter: 2 out of 10000\n"
     ]
    },
    {
     "name": "stderr",
     "output_type": "stream",
     "text": [
      "Epoch 1: CE 2.407641:  75%|████████████████████████████████████████████████████████████████████████████████████████████████████████████████▊                                     | 601/799 [02:22<00:44,  4.42it/s]"
     ]
    },
    {
     "name": "stdout",
     "output_type": "stream",
     "text": [
      "EarlyStopping counter: 3 out of 10000\n"
     ]
    },
    {
     "name": "stderr",
     "output_type": "stream",
     "text": [
      "Epoch 1: CE 2.408677: 100%|██████████████████████████████████████████████████████████████████████████████████████████████████████████████████████████████████████████████████████| 799/799 [03:08<00:00,  4.23it/s]\n",
      "Epoch 1: CE 2.406629:  25%|█████████████████████████████████████▋                                                                                                                | 201/799 [00:48<02:20,  4.25it/s]"
     ]
    },
    {
     "name": "stdout",
     "output_type": "stream",
     "text": [
      "EarlyStopping counter: 1 out of 10000\n"
     ]
    },
    {
     "name": "stderr",
     "output_type": "stream",
     "text": [
      "Epoch 1: CE 2.406095:  50%|███████████████████████████████████████████████████████████████████████████▎                                                                          | 401/799 [01:35<01:32,  4.30it/s]"
     ]
    },
    {
     "name": "stdout",
     "output_type": "stream",
     "text": [
      "EarlyStopping counter: 2 out of 10000\n"
     ]
    },
    {
     "name": "stderr",
     "output_type": "stream",
     "text": [
      "Epoch 1: CE 2.406841:  75%|████████████████████████████████████████████████████████████████████████████████████████████████████████████████▊                                     | 601/799 [02:22<00:46,  4.27it/s]"
     ]
    },
    {
     "name": "stdout",
     "output_type": "stream",
     "text": [
      "EarlyStopping counter: 3 out of 10000\n"
     ]
    },
    {
     "name": "stderr",
     "output_type": "stream",
     "text": [
      "Epoch 1: CE 2.407391: 100%|██████████████████████████████████████████████████████████████████████████████████████████████████████████████████████████████████████████████████████| 799/799 [03:09<00:00,  4.22it/s]\n",
      "Epoch 1: CE 2.453717:   0%|▏                                                                                                                                                       | 1/799 [00:00<03:20,  3.97it/s]"
     ]
    },
    {
     "name": "stdout",
     "output_type": "stream",
     "text": [
      "EarlyStopping counter: 4 out of 10000\n"
     ]
    },
    {
     "name": "stderr",
     "output_type": "stream",
     "text": [
      "Epoch 1: CE 2.396779:  25%|█████████████████████████████████████▋                                                                                                                | 201/799 [00:48<02:22,  4.19it/s]"
     ]
    },
    {
     "name": "stdout",
     "output_type": "stream",
     "text": [
      "EarlyStopping counter: 5 out of 10000\n"
     ]
    },
    {
     "name": "stderr",
     "output_type": "stream",
     "text": [
      "Epoch 1: CE 2.395912:  50%|███████████████████████████████████████████████████████████████████████████▎                                                                          | 401/799 [01:35<01:34,  4.20it/s]"
     ]
    },
    {
     "name": "stdout",
     "output_type": "stream",
     "text": [
      "EarlyStopping counter: 6 out of 10000\n",
      "Epoch   247: reducing learning rate of group 0 to 7.7996e-04.\n"
     ]
    },
    {
     "name": "stderr",
     "output_type": "stream",
     "text": [
      "Epoch 1: CE 2.400094:  75%|████████████████████████████████████████████████████████████████████████████████████████████████████████████████▊                                     | 601/799 [02:22<00:47,  4.15it/s]"
     ]
    },
    {
     "name": "stdout",
     "output_type": "stream",
     "text": [
      "EarlyStopping counter: 7 out of 10000\n"
     ]
    },
    {
     "name": "stderr",
     "output_type": "stream",
     "text": [
      "Epoch 1: CE 2.404420: 100%|██████████████████████████████████████████████████████████████████████████████████████████████████████████████████████████████████████████████████████| 799/799 [03:09<00:00,  4.22it/s]\n",
      "Epoch 1: CE 2.514993:   0%|▏                                                                                                                                                       | 1/799 [00:00<03:21,  3.97it/s]"
     ]
    },
    {
     "name": "stdout",
     "output_type": "stream",
     "text": [
      "EarlyStopping counter: 8 out of 10000\n"
     ]
    },
    {
     "name": "stderr",
     "output_type": "stream",
     "text": [
      "Epoch 1: CE 2.401366:  25%|█████████████████████████████████████▋                                                                                                                | 201/799 [00:48<02:19,  4.30it/s]"
     ]
    },
    {
     "name": "stdout",
     "output_type": "stream",
     "text": [
      "EarlyStopping counter: 9 out of 10000\n"
     ]
    },
    {
     "name": "stderr",
     "output_type": "stream",
     "text": [
      "Epoch 1: CE 2.404132:  50%|███████████████████████████████████████████████████████████████████████████▎                                                                          | 401/799 [01:35<01:35,  4.17it/s]"
     ]
    },
    {
     "name": "stdout",
     "output_type": "stream",
     "text": [
      "EarlyStopping counter: 10 out of 10000\n"
     ]
    },
    {
     "name": "stderr",
     "output_type": "stream",
     "text": [
      "Epoch 1: CE 2.401708:  75%|████████████████████████████████████████████████████████████████████████████████████████████████████████████████▊                                     | 601/799 [02:22<00:47,  4.17it/s]"
     ]
    },
    {
     "name": "stdout",
     "output_type": "stream",
     "text": [
      "EarlyStopping counter: 11 out of 10000\n"
     ]
    },
    {
     "name": "stderr",
     "output_type": "stream",
     "text": [
      "Epoch 1: CE 2.402564: 100%|██████████████████████████████████████████████████████████████████████████████████████████████████████████████████████████████████████████████████████| 799/799 [03:09<00:00,  4.23it/s]\n",
      "Epoch 1: CE 2.472549:   0%|▏                                                                                                                                                       | 1/799 [00:00<03:20,  3.98it/s]"
     ]
    },
    {
     "name": "stdout",
     "output_type": "stream",
     "text": [
      "EarlyStopping counter: 12 out of 10000\n",
      "Epoch   253: reducing learning rate of group 0 to 7.4876e-04.\n"
     ]
    },
    {
     "name": "stderr",
     "output_type": "stream",
     "text": [
      "Epoch 1: CE 2.394452:  25%|█████████████████████████████████████▋                                                                                                                | 201/799 [00:47<02:24,  4.13it/s]"
     ]
    },
    {
     "name": "stdout",
     "output_type": "stream",
     "text": [
      "EarlyStopping counter: 13 out of 10000\n"
     ]
    },
    {
     "name": "stderr",
     "output_type": "stream",
     "text": [
      "Epoch 1: CE 2.395049:  50%|███████████████████████████████████████████████████████████████████████████▎                                                                          | 401/799 [01:34<01:33,  4.28it/s]"
     ]
    },
    {
     "name": "stdout",
     "output_type": "stream",
     "text": [
      "EarlyStopping counter: 14 out of 10000\n"
     ]
    },
    {
     "name": "stderr",
     "output_type": "stream",
     "text": [
      "Epoch 1: CE 2.396425:  75%|████████████████████████████████████████████████████████████████████████████████████████████████████████████████▊                                     | 601/799 [02:21<00:46,  4.27it/s]"
     ]
    },
    {
     "name": "stdout",
     "output_type": "stream",
     "text": [
      "EarlyStopping counter: 15 out of 10000\n"
     ]
    },
    {
     "name": "stderr",
     "output_type": "stream",
     "text": [
      "Epoch 1: CE 2.400260: 100%|██████████████████████████████████████████████████████████████████████████████████████████████████████████████████████████████████████████████████████| 799/799 [03:08<00:00,  4.24it/s]\n",
      "Epoch 1: CE 2.508949:   0%|▏                                                                                                                                                       | 1/799 [00:00<03:20,  3.98it/s]"
     ]
    },
    {
     "name": "stdout",
     "output_type": "stream",
     "text": [
      "EarlyStopping counter: 16 out of 10000\n"
     ]
    },
    {
     "name": "stderr",
     "output_type": "stream",
     "text": [
      "Epoch 1: CE 2.395222:  25%|█████████████████████████████████████▋                                                                                                                | 201/799 [00:48<02:19,  4.29it/s]"
     ]
    },
    {
     "name": "stdout",
     "output_type": "stream",
     "text": [
      "EarlyStopping counter: 17 out of 10000\n"
     ]
    },
    {
     "name": "stderr",
     "output_type": "stream",
     "text": [
      "Epoch 1: CE 2.393166:  50%|███████████████████████████████████████████████████████████████████████████▎                                                                          | 401/799 [01:35<01:35,  4.19it/s]"
     ]
    },
    {
     "name": "stdout",
     "output_type": "stream",
     "text": [
      "EarlyStopping counter: 18 out of 10000\n",
      "Epoch   259: reducing learning rate of group 0 to 7.1881e-04.\n"
     ]
    },
    {
     "name": "stderr",
     "output_type": "stream",
     "text": [
      "Epoch 1: CE 2.392736:  75%|████████████████████████████████████████████████████████████████████████████████████████████████████████████████▊                                     | 601/799 [02:22<00:45,  4.33it/s]"
     ]
    },
    {
     "name": "stdout",
     "output_type": "stream",
     "text": [
      "EarlyStopping counter: 19 out of 10000\n"
     ]
    },
    {
     "name": "stderr",
     "output_type": "stream",
     "text": [
      "Epoch 1: CE 2.397536: 100%|██████████████████████████████████████████████████████████████████████████████████████████████████████████████████████████████████████████████████████| 799/799 [03:09<00:00,  4.23it/s]\n",
      "Epoch 1: CE 2.387061:   0%|▏                                                                                                                                                       | 1/799 [00:00<02:55,  4.55it/s]"
     ]
    },
    {
     "name": "stdout",
     "output_type": "stream",
     "text": [
      "EarlyStopping counter: 20 out of 10000\n"
     ]
    },
    {
     "name": "stderr",
     "output_type": "stream",
     "text": [
      "Epoch 1: CE 2.387356:  25%|█████████████████████████████████████▋                                                                                                                | 201/799 [00:48<02:16,  4.37it/s]"
     ]
    },
    {
     "name": "stdout",
     "output_type": "stream",
     "text": [
      "EarlyStopping counter: 21 out of 10000\n"
     ]
    },
    {
     "name": "stderr",
     "output_type": "stream",
     "text": [
      "Epoch 1: CE 2.388565:  50%|███████████████████████████████████████████████████████████████████████████▎                                                                          | 401/799 [01:35<01:32,  4.28it/s]"
     ]
    },
    {
     "name": "stdout",
     "output_type": "stream",
     "text": [
      "EarlyStopping counter: 22 out of 10000\n"
     ]
    },
    {
     "name": "stderr",
     "output_type": "stream",
     "text": [
      "Epoch 1: CE 2.392811:  75%|████████████████████████████████████████████████████████████████████████████████████████████████████████████████▊                                     | 601/799 [02:22<00:47,  4.20it/s]"
     ]
    },
    {
     "name": "stdout",
     "output_type": "stream",
     "text": [
      "EarlyStopping counter: 23 out of 10000\n"
     ]
    },
    {
     "name": "stderr",
     "output_type": "stream",
     "text": [
      "Epoch 1: CE 2.396375: 100%|██████████████████████████████████████████████████████████████████████████████████████████████████████████████████████████████████████████████████████| 799/799 [03:08<00:00,  4.23it/s]\n",
      "Epoch 1: CE 2.465392:   0%|▏                                                                                                                                                       | 1/799 [00:00<03:27,  3.85it/s]"
     ]
    },
    {
     "name": "stdout",
     "output_type": "stream",
     "text": [
      "EarlyStopping counter: 24 out of 10000\n",
      "Epoch   265: reducing learning rate of group 0 to 6.9006e-04.\n"
     ]
    },
    {
     "name": "stderr",
     "output_type": "stream",
     "text": [
      "Epoch 1: CE 2.383609:  25%|█████████████████████████████████████▋                                                                                                                | 201/799 [00:48<02:19,  4.29it/s]"
     ]
    },
    {
     "name": "stdout",
     "output_type": "stream",
     "text": [
      "EarlyStopping counter: 25 out of 10000\n"
     ]
    },
    {
     "name": "stderr",
     "output_type": "stream",
     "text": [
      "Epoch 1: CE 2.388188:  50%|███████████████████████████████████████████████████████████████████████████▎                                                                          | 401/799 [01:35<01:34,  4.22it/s]"
     ]
    },
    {
     "name": "stdout",
     "output_type": "stream",
     "text": [
      "EarlyStopping counter: 26 out of 10000\n"
     ]
    },
    {
     "name": "stderr",
     "output_type": "stream",
     "text": [
      "Epoch 1: CE 2.389226:  75%|████████████████████████████████████████████████████████████████████████████████████████████████████████████████▊                                     | 601/799 [02:22<00:46,  4.23it/s]"
     ]
    },
    {
     "name": "stdout",
     "output_type": "stream",
     "text": [
      "EarlyStopping counter: 27 out of 10000\n"
     ]
    },
    {
     "name": "stderr",
     "output_type": "stream",
     "text": [
      "Epoch 1: CE 2.392967: 100%|██████████████████████████████████████████████████████████████████████████████████████████████████████████████████████████████████████████████████████| 799/799 [03:09<00:00,  4.23it/s]\n",
      "Epoch 1: CE 2.512784:   0%|▏                                                                                                                                                       | 1/799 [00:00<03:38,  3.65it/s]"
     ]
    },
    {
     "name": "stdout",
     "output_type": "stream",
     "text": [
      "EarlyStopping counter: 28 out of 10000\n"
     ]
    },
    {
     "name": "stderr",
     "output_type": "stream",
     "text": [
      "Epoch 1: CE 2.383739:  25%|█████████████████████████████████████▋                                                                                                                | 201/799 [00:48<02:19,  4.29it/s]"
     ]
    },
    {
     "name": "stdout",
     "output_type": "stream",
     "text": [
      "EarlyStopping counter: 29 out of 10000\n"
     ]
    },
    {
     "name": "stderr",
     "output_type": "stream",
     "text": [
      "Epoch 1: CE 2.387577:  50%|███████████████████████████████████████████████████████████████████████████▎                                                                          | 401/799 [01:35<01:33,  4.24it/s]"
     ]
    },
    {
     "name": "stdout",
     "output_type": "stream",
     "text": [
      "EarlyStopping counter: 30 out of 10000\n",
      "Epoch   271: reducing learning rate of group 0 to 6.6246e-04.\n"
     ]
    },
    {
     "name": "stderr",
     "output_type": "stream",
     "text": [
      "Epoch 1: CE 2.391346:  75%|████████████████████████████████████████████████████████████████████████████████████████████████████████████████▊                                     | 601/799 [02:22<00:46,  4.23it/s]"
     ]
    },
    {
     "name": "stdout",
     "output_type": "stream",
     "text": [
      "EarlyStopping counter: 31 out of 10000\n"
     ]
    },
    {
     "name": "stderr",
     "output_type": "stream",
     "text": [
      "Epoch 1: CE 2.391387: 100%|██████████████████████████████████████████████████████████████████████████████████████████████████████████████████████████████████████████████████████| 799/799 [03:08<00:00,  4.24it/s]\n",
      "Epoch 1: CE 2.340851:   0%|▏                                                                                                                                                       | 1/799 [00:00<03:14,  4.11it/s]"
     ]
    },
    {
     "name": "stdout",
     "output_type": "stream",
     "text": [
      "EarlyStopping counter: 32 out of 10000\n"
     ]
    },
    {
     "name": "stderr",
     "output_type": "stream",
     "text": [
      "Epoch 1: CE 2.383284:  25%|█████████████████████████████████████▋                                                                                                                | 201/799 [00:48<02:21,  4.23it/s]"
     ]
    },
    {
     "name": "stdout",
     "output_type": "stream",
     "text": [
      "EarlyStopping counter: 33 out of 10000\n"
     ]
    },
    {
     "name": "stderr",
     "output_type": "stream",
     "text": [
      "Epoch 1: CE 2.385273:  50%|███████████████████████████████████████████████████████████████████████████▎                                                                          | 401/799 [01:35<01:33,  4.25it/s]"
     ]
    },
    {
     "name": "stdout",
     "output_type": "stream",
     "text": [
      "EarlyStopping counter: 34 out of 10000\n"
     ]
    },
    {
     "name": "stderr",
     "output_type": "stream",
     "text": [
      "Epoch 1: CE 2.387999:  75%|████████████████████████████████████████████████████████████████████████████████████████████████████████████████▊                                     | 601/799 [02:22<00:47,  4.19it/s]"
     ]
    },
    {
     "name": "stdout",
     "output_type": "stream",
     "text": [
      "EarlyStopping counter: 35 out of 10000\n"
     ]
    },
    {
     "name": "stderr",
     "output_type": "stream",
     "text": [
      "Epoch 1: CE 2.389178: 100%|██████████████████████████████████████████████████████████████████████████████████████████████████████████████████████████████████████████████████████| 799/799 [03:08<00:00,  4.23it/s]\n",
      "Epoch 1: CE 2.288034:   0%|▏                                                                                                                                                       | 1/799 [00:00<03:09,  4.21it/s]"
     ]
    },
    {
     "name": "stdout",
     "output_type": "stream",
     "text": [
      "EarlyStopping counter: 36 out of 10000\n",
      "Epoch   277: reducing learning rate of group 0 to 6.3596e-04.\n"
     ]
    },
    {
     "name": "stderr",
     "output_type": "stream",
     "text": [
      "Epoch 1: CE 2.383358:  25%|█████████████████████████████████████▋                                                                                                                | 201/799 [00:48<02:20,  4.24it/s]"
     ]
    },
    {
     "name": "stdout",
     "output_type": "stream",
     "text": [
      "EarlyStopping counter: 37 out of 10000\n"
     ]
    },
    {
     "name": "stderr",
     "output_type": "stream",
     "text": [
      "Epoch 1: CE 2.384343:  50%|███████████████████████████████████████████████████████████████████████████▎                                                                          | 401/799 [01:34<01:33,  4.26it/s]"
     ]
    },
    {
     "name": "stdout",
     "output_type": "stream",
     "text": [
      "EarlyStopping counter: 38 out of 10000\n"
     ]
    },
    {
     "name": "stderr",
     "output_type": "stream",
     "text": [
      "Epoch 1: CE 2.385940:  75%|████████████████████████████████████████████████████████████████████████████████████████████████████████████████▊                                     | 601/799 [02:22<00:47,  4.17it/s]"
     ]
    },
    {
     "name": "stdout",
     "output_type": "stream",
     "text": [
      "EarlyStopping counter: 39 out of 10000\n"
     ]
    },
    {
     "name": "stderr",
     "output_type": "stream",
     "text": [
      "Epoch 1: CE 2.386421: 100%|██████████████████████████████████████████████████████████████████████████████████████████████████████████████████████████████████████████████████████| 799/799 [03:08<00:00,  4.24it/s]\n",
      "Epoch 1: CE 2.563653:   0%|▏                                                                                                                                                       | 1/799 [00:00<03:15,  4.08it/s]"
     ]
    },
    {
     "name": "stdout",
     "output_type": "stream",
     "text": [
      "EarlyStopping counter: 40 out of 10000\n"
     ]
    },
    {
     "name": "stderr",
     "output_type": "stream",
     "text": [
      "Epoch 1: CE 2.383106:  25%|█████████████████████████████████████▋                                                                                                                | 201/799 [00:48<02:21,  4.22it/s]"
     ]
    },
    {
     "name": "stdout",
     "output_type": "stream",
     "text": [
      "EarlyStopping counter: 41 out of 10000\n"
     ]
    },
    {
     "name": "stderr",
     "output_type": "stream",
     "text": [
      "Epoch 1: CE 2.381218:  50%|███████████████████████████████████████████████████████████████████████████▎                                                                          | 401/799 [01:35<01:36,  4.14it/s]"
     ]
    },
    {
     "name": "stdout",
     "output_type": "stream",
     "text": [
      "EarlyStopping counter: 42 out of 10000\n",
      "Epoch   283: reducing learning rate of group 0 to 6.1052e-04.\n"
     ]
    },
    {
     "name": "stderr",
     "output_type": "stream",
     "text": [
      "Epoch 1: CE 2.383128:  75%|████████████████████████████████████████████████████████████████████████████████████████████████████████████████▊                                     | 601/799 [02:22<00:45,  4.36it/s]"
     ]
    },
    {
     "name": "stdout",
     "output_type": "stream",
     "text": [
      "EarlyStopping counter: 43 out of 10000\n"
     ]
    },
    {
     "name": "stderr",
     "output_type": "stream",
     "text": [
      "Epoch 1: CE 2.385492: 100%|██████████████████████████████████████████████████████████████████████████████████████████████████████████████████████████████████████████████████████| 799/799 [03:08<00:00,  4.23it/s]\n",
      "Epoch 1: CE 2.279373:   0%|▏                                                                                                                                                       | 1/799 [00:00<03:13,  4.12it/s]"
     ]
    },
    {
     "name": "stdout",
     "output_type": "stream",
     "text": [
      "EarlyStopping counter: 44 out of 10000\n"
     ]
    },
    {
     "name": "stderr",
     "output_type": "stream",
     "text": [
      "Epoch 1: CE 2.375815:  25%|█████████████████████████████████████▋                                                                                                                | 201/799 [00:48<02:17,  4.34it/s]"
     ]
    },
    {
     "name": "stdout",
     "output_type": "stream",
     "text": [
      "EarlyStopping counter: 45 out of 10000\n"
     ]
    },
    {
     "name": "stderr",
     "output_type": "stream",
     "text": [
      "Epoch 1: CE 2.376508:  50%|███████████████████████████████████████████████████████████████████████████▎                                                                          | 401/799 [01:35<01:33,  4.24it/s]"
     ]
    },
    {
     "name": "stdout",
     "output_type": "stream",
     "text": [
      "EarlyStopping counter: 46 out of 10000\n"
     ]
    },
    {
     "name": "stderr",
     "output_type": "stream",
     "text": [
      "Epoch 1: CE 2.379795:  75%|████████████████████████████████████████████████████████████████████████████████████████████████████████████████▊                                     | 601/799 [02:22<00:46,  4.22it/s]"
     ]
    },
    {
     "name": "stdout",
     "output_type": "stream",
     "text": [
      "EarlyStopping counter: 47 out of 10000\n"
     ]
    },
    {
     "name": "stderr",
     "output_type": "stream",
     "text": [
      "Epoch 1: CE 2.382910: 100%|██████████████████████████████████████████████████████████████████████████████████████████████████████████████████████████████████████████████████████| 799/799 [03:09<00:00,  4.22it/s]\n",
      "Epoch 1: CE 2.415742:   0%|▏                                                                                                                                                       | 1/799 [00:00<03:22,  3.95it/s]"
     ]
    },
    {
     "name": "stdout",
     "output_type": "stream",
     "text": [
      "EarlyStopping counter: 48 out of 10000\n",
      "Epoch   289: reducing learning rate of group 0 to 5.8610e-04.\n"
     ]
    },
    {
     "name": "stderr",
     "output_type": "stream",
     "text": [
      "Epoch 1: CE 2.362951:  25%|█████████████████████████████████████▋                                                                                                                | 201/799 [00:48<02:21,  4.24it/s]"
     ]
    },
    {
     "name": "stdout",
     "output_type": "stream",
     "text": [
      "EarlyStopping counter: 49 out of 10000\n"
     ]
    },
    {
     "name": "stderr",
     "output_type": "stream",
     "text": [
      "Epoch 1: CE 2.370087:  50%|███████████████████████████████████████████████████████████████████████████▎                                                                          | 401/799 [01:35<01:34,  4.20it/s]"
     ]
    },
    {
     "name": "stdout",
     "output_type": "stream",
     "text": [
      "EarlyStopping counter: 50 out of 10000\n"
     ]
    },
    {
     "name": "stderr",
     "output_type": "stream",
     "text": [
      "Epoch 1: CE 2.376350:  75%|████████████████████████████████████████████████████████████████████████████████████████████████████████████████▊                                     | 601/799 [02:22<00:46,  4.23it/s]"
     ]
    },
    {
     "name": "stdout",
     "output_type": "stream",
     "text": [
      "EarlyStopping counter: 51 out of 10000\n"
     ]
    },
    {
     "name": "stderr",
     "output_type": "stream",
     "text": [
      "Epoch 1: CE 2.380939: 100%|██████████████████████████████████████████████████████████████████████████████████████████████████████████████████████████████████████████████████████| 799/799 [03:09<00:00,  4.22it/s]\n",
      "Epoch 1: CE 2.257684:   0%|▏                                                                                                                                                       | 1/799 [00:00<03:09,  4.21it/s]"
     ]
    },
    {
     "name": "stdout",
     "output_type": "stream",
     "text": [
      "EarlyStopping counter: 52 out of 10000\n"
     ]
    },
    {
     "name": "stderr",
     "output_type": "stream",
     "text": [
      "Epoch 1: CE 2.381050:  25%|█████████████████████████████████████▋                                                                                                                | 201/799 [00:48<02:22,  4.20it/s]"
     ]
    },
    {
     "name": "stdout",
     "output_type": "stream",
     "text": [
      "EarlyStopping counter: 53 out of 10000\n"
     ]
    },
    {
     "name": "stderr",
     "output_type": "stream",
     "text": [
      "Epoch 1: CE 2.377732:  50%|███████████████████████████████████████████████████████████████████████████▎                                                                          | 401/799 [01:34<01:35,  4.15it/s]"
     ]
    },
    {
     "name": "stdout",
     "output_type": "stream",
     "text": [
      "EarlyStopping counter: 54 out of 10000\n",
      "Epoch   295: reducing learning rate of group 0 to 5.6265e-04.\n"
     ]
    },
    {
     "name": "stderr",
     "output_type": "stream",
     "text": [
      "Epoch 1: CE 2.378128:  75%|████████████████████████████████████████████████████████████████████████████████████████████████████████████████▊                                     | 601/799 [02:21<00:44,  4.48it/s]"
     ]
    },
    {
     "name": "stdout",
     "output_type": "stream",
     "text": [
      "EarlyStopping counter: 55 out of 10000\n"
     ]
    },
    {
     "name": "stderr",
     "output_type": "stream",
     "text": [
      "Epoch 1: CE 2.379694: 100%|██████████████████████████████████████████████████████████████████████████████████████████████████████████████████████████████████████████████████████| 799/799 [03:08<00:00,  4.24it/s]\n",
      "Epoch 1: CE 2.417300:   0%|▏                                                                                                                                                       | 1/799 [00:00<03:13,  4.13it/s]"
     ]
    },
    {
     "name": "stdout",
     "output_type": "stream",
     "text": [
      "EarlyStopping counter: 56 out of 10000\n"
     ]
    },
    {
     "name": "stderr",
     "output_type": "stream",
     "text": [
      "Epoch 1: CE 2.376342:  25%|█████████████████████████████████████▋                                                                                                                | 201/799 [00:48<02:26,  4.07it/s]"
     ]
    },
    {
     "name": "stdout",
     "output_type": "stream",
     "text": [
      "EarlyStopping counter: 57 out of 10000\n"
     ]
    },
    {
     "name": "stderr",
     "output_type": "stream",
     "text": [
      "Epoch 1: CE 2.371320:  50%|███████████████████████████████████████████████████████████████████████████▎                                                                          | 401/799 [01:34<01:34,  4.23it/s]"
     ]
    },
    {
     "name": "stdout",
     "output_type": "stream",
     "text": [
      "EarlyStopping counter: 58 out of 10000\n"
     ]
    },
    {
     "name": "stderr",
     "output_type": "stream",
     "text": [
      "Epoch 1: CE 2.371095:  75%|████████████████████████████████████████████████████████████████████████████████████████████████████████████████▊                                     | 601/799 [02:21<00:46,  4.25it/s]"
     ]
    },
    {
     "name": "stdout",
     "output_type": "stream",
     "text": [
      "EarlyStopping counter: 59 out of 10000\n"
     ]
    },
    {
     "name": "stderr",
     "output_type": "stream",
     "text": [
      "Epoch 1: CE 2.377549: 100%|██████████████████████████████████████████████████████████████████████████████████████████████████████████████████████████████████████████████████████| 799/799 [03:08<00:00,  4.24it/s]\n",
      "Epoch 1: CE 2.510366:   0%|▏                                                                                                                                                       | 1/799 [00:00<03:26,  3.87it/s]"
     ]
    },
    {
     "name": "stdout",
     "output_type": "stream",
     "text": [
      "EarlyStopping counter: 60 out of 10000\n",
      "Epoch   301: reducing learning rate of group 0 to 5.4015e-04.\n"
     ]
    },
    {
     "name": "stderr",
     "output_type": "stream",
     "text": [
      "Epoch 1: CE 2.378885:  25%|█████████████████████████████████████▋                                                                                                                | 201/799 [00:48<02:23,  4.16it/s]"
     ]
    },
    {
     "name": "stdout",
     "output_type": "stream",
     "text": [
      "EarlyStopping counter: 61 out of 10000\n"
     ]
    },
    {
     "name": "stderr",
     "output_type": "stream",
     "text": [
      "Epoch 1: CE 2.378788:  50%|███████████████████████████████████████████████████████████████████████████▎                                                                          | 401/799 [01:35<01:33,  4.28it/s]"
     ]
    },
    {
     "name": "stdout",
     "output_type": "stream",
     "text": [
      "EarlyStopping counter: 62 out of 10000\n"
     ]
    },
    {
     "name": "stderr",
     "output_type": "stream",
     "text": [
      "Epoch 1: CE 2.376515:  75%|████████████████████████████████████████████████████████████████████████████████████████████████████████████████▊                                     | 601/799 [02:22<00:45,  4.32it/s]"
     ]
    },
    {
     "name": "stdout",
     "output_type": "stream",
     "text": [
      "EarlyStopping counter: 63 out of 10000\n"
     ]
    },
    {
     "name": "stderr",
     "output_type": "stream",
     "text": [
      "Epoch 1: CE 2.375233: 100%|██████████████████████████████████████████████████████████████████████████████████████████████████████████████████████████████████████████████████████| 799/799 [03:08<00:00,  4.24it/s]\n",
      "Epoch 1: CE 2.420185:   0%|▏                                                                                                                                                       | 1/799 [00:00<03:22,  3.94it/s]"
     ]
    },
    {
     "name": "stdout",
     "output_type": "stream",
     "text": [
      "EarlyStopping counter: 64 out of 10000\n"
     ]
    },
    {
     "name": "stderr",
     "output_type": "stream",
     "text": [
      "Epoch 1: CE 2.366637:  25%|█████████████████████████████████████▋                                                                                                                | 201/799 [00:48<02:21,  4.23it/s]"
     ]
    },
    {
     "name": "stdout",
     "output_type": "stream",
     "text": [
      "EarlyStopping counter: 65 out of 10000\n"
     ]
    },
    {
     "name": "stderr",
     "output_type": "stream",
     "text": [
      "Epoch 1: CE 2.367875:  50%|███████████████████████████████████████████████████████████████████████████▎                                                                          | 401/799 [01:35<01:34,  4.20it/s]"
     ]
    },
    {
     "name": "stdout",
     "output_type": "stream",
     "text": [
      "EarlyStopping counter: 66 out of 10000\n",
      "Epoch   307: reducing learning rate of group 0 to 5.1854e-04.\n"
     ]
    },
    {
     "name": "stderr",
     "output_type": "stream",
     "text": [
      "Epoch 1: CE 2.372697:  75%|████████████████████████████████████████████████████████████████████████████████████████████████████████████████▊                                     | 601/799 [02:22<00:47,  4.13it/s]"
     ]
    },
    {
     "name": "stdout",
     "output_type": "stream",
     "text": [
      "EarlyStopping counter: 67 out of 10000\n"
     ]
    },
    {
     "name": "stderr",
     "output_type": "stream",
     "text": [
      "Epoch 1: CE 2.373275: 100%|██████████████████████████████████████████████████████████████████████████████████████████████████████████████████████████████████████████████████████| 799/799 [03:09<00:00,  4.22it/s]\n",
      "Epoch 1: CE 2.368514:   0%|▏                                                                                                                                                       | 1/799 [00:00<02:59,  4.45it/s]"
     ]
    },
    {
     "name": "stdout",
     "output_type": "stream",
     "text": [
      "EarlyStopping counter: 68 out of 10000\n"
     ]
    },
    {
     "name": "stderr",
     "output_type": "stream",
     "text": [
      "Epoch 1: CE 2.366580:  25%|█████████████████████████████████████▋                                                                                                                | 201/799 [00:48<02:23,  4.18it/s]"
     ]
    },
    {
     "name": "stdout",
     "output_type": "stream",
     "text": [
      "EarlyStopping counter: 69 out of 10000\n"
     ]
    },
    {
     "name": "stderr",
     "output_type": "stream",
     "text": [
      "Epoch 1: CE 2.369921:  50%|███████████████████████████████████████████████████████████████████████████▎                                                                          | 401/799 [01:35<01:37,  4.07it/s]"
     ]
    },
    {
     "name": "stdout",
     "output_type": "stream",
     "text": [
      "EarlyStopping counter: 70 out of 10000\n"
     ]
    },
    {
     "name": "stderr",
     "output_type": "stream",
     "text": [
      "Epoch 1: CE 2.368427:  75%|████████████████████████████████████████████████████████████████████████████████████████████████████████████████▊                                     | 601/799 [02:22<00:48,  4.06it/s]"
     ]
    },
    {
     "name": "stdout",
     "output_type": "stream",
     "text": [
      "EarlyStopping counter: 71 out of 10000\n"
     ]
    },
    {
     "name": "stderr",
     "output_type": "stream",
     "text": [
      "Epoch 1: CE 2.371705: 100%|██████████████████████████████████████████████████████████████████████████████████████████████████████████████████████████████████████████████████████| 799/799 [03:08<00:00,  4.23it/s]\n",
      "Epoch 1: CE 2.516003:   0%|▏                                                                                                                                                       | 1/799 [00:00<03:18,  4.01it/s]"
     ]
    },
    {
     "name": "stdout",
     "output_type": "stream",
     "text": [
      "EarlyStopping counter: 72 out of 10000\n",
      "Epoch   313: reducing learning rate of group 0 to 4.9780e-04.\n"
     ]
    },
    {
     "name": "stderr",
     "output_type": "stream",
     "text": [
      "Epoch 1: CE 2.370140:  25%|█████████████████████████████████████▋                                                                                                                | 201/799 [00:47<02:17,  4.36it/s]"
     ]
    },
    {
     "name": "stdout",
     "output_type": "stream",
     "text": [
      "EarlyStopping counter: 73 out of 10000\n"
     ]
    },
    {
     "name": "stderr",
     "output_type": "stream",
     "text": [
      "Epoch 1: CE 2.369458:  50%|███████████████████████████████████████████████████████████████████████████▎                                                                          | 401/799 [01:34<01:35,  4.19it/s]"
     ]
    },
    {
     "name": "stdout",
     "output_type": "stream",
     "text": [
      "EarlyStopping counter: 74 out of 10000\n"
     ]
    },
    {
     "name": "stderr",
     "output_type": "stream",
     "text": [
      "Epoch 1: CE 2.371159:  75%|████████████████████████████████████████████████████████████████████████████████████████████████████████████████▊                                     | 601/799 [02:21<00:46,  4.26it/s]"
     ]
    },
    {
     "name": "stdout",
     "output_type": "stream",
     "text": [
      "EarlyStopping counter: 75 out of 10000\n"
     ]
    },
    {
     "name": "stderr",
     "output_type": "stream",
     "text": [
      "Epoch 1: CE 2.370195: 100%|██████████████████████████████████████████████████████████████████████████████████████████████████████████████████████████████████████████████████████| 799/799 [03:08<00:00,  4.24it/s]\n",
      "Epoch 1: CE 2.338777:   0%|▏                                                                                                                                                       | 1/799 [00:00<03:21,  3.96it/s]"
     ]
    },
    {
     "name": "stdout",
     "output_type": "stream",
     "text": [
      "EarlyStopping counter: 76 out of 10000\n"
     ]
    },
    {
     "name": "stderr",
     "output_type": "stream",
     "text": [
      "Epoch 1: CE 2.357804:  25%|█████████████████████████████████████▋                                                                                                                | 201/799 [00:48<02:22,  4.21it/s]"
     ]
    },
    {
     "name": "stdout",
     "output_type": "stream",
     "text": [
      "EarlyStopping counter: 77 out of 10000\n"
     ]
    },
    {
     "name": "stderr",
     "output_type": "stream",
     "text": [
      "Epoch 1: CE 2.362962:  50%|███████████████████████████████████████████████████████████████████████████▎                                                                          | 401/799 [01:35<01:33,  4.25it/s]"
     ]
    },
    {
     "name": "stdout",
     "output_type": "stream",
     "text": [
      "EarlyStopping counter: 78 out of 10000\n",
      "Epoch   319: reducing learning rate of group 0 to 4.7789e-04.\n"
     ]
    },
    {
     "name": "stderr",
     "output_type": "stream",
     "text": [
      "Epoch 1: CE 2.367780:  75%|████████████████████████████████████████████████████████████████████████████████████████████████████████████████▊                                     | 601/799 [02:22<00:46,  4.30it/s]"
     ]
    },
    {
     "name": "stdout",
     "output_type": "stream",
     "text": [
      "EarlyStopping counter: 79 out of 10000\n"
     ]
    },
    {
     "name": "stderr",
     "output_type": "stream",
     "text": [
      "Epoch 1: CE 2.368631: 100%|██████████████████████████████████████████████████████████████████████████████████████████████████████████████████████████████████████████████████████| 799/799 [03:08<00:00,  4.23it/s]\n",
      "Epoch 1: CE 2.349195:   0%|▏                                                                                                                                                       | 1/799 [00:00<03:22,  3.94it/s]"
     ]
    },
    {
     "name": "stdout",
     "output_type": "stream",
     "text": [
      "EarlyStopping counter: 80 out of 10000\n"
     ]
    },
    {
     "name": "stderr",
     "output_type": "stream",
     "text": [
      "Epoch 1: CE 2.361798:  25%|█████████████████████████████████████▋                                                                                                                | 201/799 [00:47<02:21,  4.23it/s]"
     ]
    },
    {
     "name": "stdout",
     "output_type": "stream",
     "text": [
      "EarlyStopping counter: 81 out of 10000\n"
     ]
    },
    {
     "name": "stderr",
     "output_type": "stream",
     "text": [
      "Epoch 1: CE 2.367049:  50%|███████████████████████████████████████████████████████████████████████████▎                                                                          | 401/799 [01:34<01:33,  4.27it/s]"
     ]
    },
    {
     "name": "stdout",
     "output_type": "stream",
     "text": [
      "EarlyStopping counter: 82 out of 10000\n"
     ]
    },
    {
     "name": "stderr",
     "output_type": "stream",
     "text": [
      "Epoch 1: CE 2.367830:  75%|████████████████████████████████████████████████████████████████████████████████████████████████████████████████▊                                     | 601/799 [02:22<00:46,  4.23it/s]"
     ]
    },
    {
     "name": "stdout",
     "output_type": "stream",
     "text": [
      "EarlyStopping counter: 83 out of 10000\n"
     ]
    },
    {
     "name": "stderr",
     "output_type": "stream",
     "text": [
      "Epoch 1: CE 2.366847: 100%|██████████████████████████████████████████████████████████████████████████████████████████████████████████████████████████████████████████████████████| 799/799 [03:08<00:00,  4.24it/s]\n",
      "Epoch 1: CE 2.309726:   0%|▏                                                                                                                                                       | 1/799 [00:00<03:14,  4.10it/s]"
     ]
    },
    {
     "name": "stdout",
     "output_type": "stream",
     "text": [
      "EarlyStopping counter: 84 out of 10000\n",
      "Epoch   325: reducing learning rate of group 0 to 4.5877e-04.\n"
     ]
    },
    {
     "name": "stderr",
     "output_type": "stream",
     "text": [
      "Epoch 1: CE 2.372060:  25%|█████████████████████████████████████▋                                                                                                                | 201/799 [00:48<02:18,  4.32it/s]"
     ]
    },
    {
     "name": "stdout",
     "output_type": "stream",
     "text": [
      "EarlyStopping counter: 85 out of 10000\n"
     ]
    },
    {
     "name": "stderr",
     "output_type": "stream",
     "text": [
      "Epoch 1: CE 2.363114:  50%|███████████████████████████████████████████████████████████████████████████▎                                                                          | 401/799 [01:35<01:32,  4.30it/s]"
     ]
    },
    {
     "name": "stdout",
     "output_type": "stream",
     "text": [
      "EarlyStopping counter: 86 out of 10000\n"
     ]
    },
    {
     "name": "stderr",
     "output_type": "stream",
     "text": [
      "Epoch 1: CE 2.362831:  75%|████████████████████████████████████████████████████████████████████████████████████████████████████████████████▊                                     | 601/799 [02:21<00:47,  4.19it/s]"
     ]
    },
    {
     "name": "stdout",
     "output_type": "stream",
     "text": [
      "EarlyStopping counter: 87 out of 10000\n"
     ]
    },
    {
     "name": "stderr",
     "output_type": "stream",
     "text": [
      "Epoch 1: CE 2.364629: 100%|██████████████████████████████████████████████████████████████████████████████████████████████████████████████████████████████████████████████████████| 799/799 [03:08<00:00,  4.24it/s]\n",
      "Epoch 1: CE 2.316215:   0%|▏                                                                                                                                                       | 1/799 [00:00<03:09,  4.21it/s]"
     ]
    },
    {
     "name": "stdout",
     "output_type": "stream",
     "text": [
      "EarlyStopping counter: 88 out of 10000\n"
     ]
    },
    {
     "name": "stderr",
     "output_type": "stream",
     "text": [
      "Epoch 1: CE 2.354850:  25%|█████████████████████████████████████▋                                                                                                                | 201/799 [00:48<02:18,  4.31it/s]"
     ]
    },
    {
     "name": "stdout",
     "output_type": "stream",
     "text": [
      "EarlyStopping counter: 89 out of 10000\n"
     ]
    },
    {
     "name": "stderr",
     "output_type": "stream",
     "text": [
      "Epoch 1: CE 2.357478:  50%|███████████████████████████████████████████████████████████████████████████▎                                                                          | 401/799 [01:35<01:31,  4.35it/s]"
     ]
    },
    {
     "name": "stdout",
     "output_type": "stream",
     "text": [
      "EarlyStopping counter: 90 out of 10000\n",
      "Epoch   331: reducing learning rate of group 0 to 4.4042e-04.\n"
     ]
    },
    {
     "name": "stderr",
     "output_type": "stream",
     "text": [
      "Epoch 1: CE 2.362545:  75%|████████████████████████████████████████████████████████████████████████████████████████████████████████████████▊                                     | 601/799 [02:22<00:46,  4.25it/s]"
     ]
    },
    {
     "name": "stdout",
     "output_type": "stream",
     "text": [
      "EarlyStopping counter: 91 out of 10000\n"
     ]
    },
    {
     "name": "stderr",
     "output_type": "stream",
     "text": [
      "Epoch 1: CE 2.363446: 100%|██████████████████████████████████████████████████████████████████████████████████████████████████████████████████████████████████████████████████████| 799/799 [03:09<00:00,  4.23it/s]\n",
      "Epoch 1: CE 2.324324:   0%|▏                                                                                                                                                       | 1/799 [00:00<03:11,  4.16it/s]"
     ]
    },
    {
     "name": "stdout",
     "output_type": "stream",
     "text": [
      "EarlyStopping counter: 92 out of 10000\n"
     ]
    },
    {
     "name": "stderr",
     "output_type": "stream",
     "text": [
      "Epoch 1: CE 2.358125:  25%|█████████████████████████████████████▋                                                                                                                | 201/799 [00:47<02:25,  4.10it/s]"
     ]
    },
    {
     "name": "stdout",
     "output_type": "stream",
     "text": [
      "EarlyStopping counter: 93 out of 10000\n"
     ]
    },
    {
     "name": "stderr",
     "output_type": "stream",
     "text": [
      "Epoch 1: CE 2.352656:  50%|███████████████████████████████████████████████████████████████████████████▎                                                                          | 401/799 [01:34<01:36,  4.12it/s]"
     ]
    },
    {
     "name": "stdout",
     "output_type": "stream",
     "text": [
      "EarlyStopping counter: 94 out of 10000\n"
     ]
    },
    {
     "name": "stderr",
     "output_type": "stream",
     "text": [
      "Epoch 1: CE 2.358065:  75%|████████████████████████████████████████████████████████████████████████████████████████████████████████████████▊                                     | 601/799 [02:22<00:46,  4.28it/s]"
     ]
    },
    {
     "name": "stdout",
     "output_type": "stream",
     "text": [
      "EarlyStopping counter: 95 out of 10000\n"
     ]
    },
    {
     "name": "stderr",
     "output_type": "stream",
     "text": [
      "Epoch 1: CE 2.362285: 100%|██████████████████████████████████████████████████████████████████████████████████████████████████████████████████████████████████████████████████████| 799/799 [03:08<00:00,  4.23it/s]\n",
      "Epoch 1: CE 2.316712:   0%|▏                                                                                                                                                       | 1/799 [00:00<03:04,  4.33it/s]"
     ]
    },
    {
     "name": "stdout",
     "output_type": "stream",
     "text": [
      "EarlyStopping counter: 96 out of 10000\n",
      "Epoch   337: reducing learning rate of group 0 to 4.2281e-04.\n"
     ]
    },
    {
     "name": "stderr",
     "output_type": "stream",
     "text": [
      "Epoch 1: CE 2.358318:  25%|█████████████████████████████████████▋                                                                                                                | 201/799 [00:48<02:16,  4.37it/s]"
     ]
    },
    {
     "name": "stdout",
     "output_type": "stream",
     "text": [
      "EarlyStopping counter: 97 out of 10000\n"
     ]
    },
    {
     "name": "stderr",
     "output_type": "stream",
     "text": [
      "Epoch 1: CE 2.353181:  50%|███████████████████████████████████████████████████████████████████████████▎                                                                          | 401/799 [01:35<01:33,  4.24it/s]"
     ]
    },
    {
     "name": "stdout",
     "output_type": "stream",
     "text": [
      "EarlyStopping counter: 98 out of 10000\n"
     ]
    },
    {
     "name": "stderr",
     "output_type": "stream",
     "text": [
      "Epoch 1: CE 2.357081:  75%|████████████████████████████████████████████████████████████████████████████████████████████████████████████████▊                                     | 601/799 [02:22<00:45,  4.33it/s]"
     ]
    },
    {
     "name": "stdout",
     "output_type": "stream",
     "text": [
      "EarlyStopping counter: 99 out of 10000\n"
     ]
    },
    {
     "name": "stderr",
     "output_type": "stream",
     "text": [
      "Epoch 1: CE 2.360078: 100%|██████████████████████████████████████████████████████████████████████████████████████████████████████████████████████████████████████████████████████| 799/799 [03:08<00:00,  4.23it/s]\n",
      "Epoch 1: CE 2.466168:   0%|▏                                                                                                                                                       | 1/799 [00:00<03:09,  4.22it/s]"
     ]
    },
    {
     "name": "stdout",
     "output_type": "stream",
     "text": [
      "EarlyStopping counter: 100 out of 10000\n"
     ]
    },
    {
     "name": "stderr",
     "output_type": "stream",
     "text": [
      "Epoch 1: CE 2.361976:  25%|█████████████████████████████████████▋                                                                                                                | 201/799 [00:48<02:20,  4.25it/s]"
     ]
    },
    {
     "name": "stdout",
     "output_type": "stream",
     "text": [
      "EarlyStopping counter: 101 out of 10000\n"
     ]
    },
    {
     "name": "stderr",
     "output_type": "stream",
     "text": [
      "Epoch 1: CE 2.359916:  50%|███████████████████████████████████████████████████████████████████████████▎                                                                          | 401/799 [01:34<01:34,  4.19it/s]"
     ]
    },
    {
     "name": "stdout",
     "output_type": "stream",
     "text": [
      "EarlyStopping counter: 102 out of 10000\n",
      "Epoch   343: reducing learning rate of group 0 to 4.0589e-04.\n"
     ]
    },
    {
     "name": "stderr",
     "output_type": "stream",
     "text": [
      "Epoch 1: CE 2.360473:  75%|████████████████████████████████████████████████████████████████████████████████████████████████████████████████▊                                     | 601/799 [02:22<00:47,  4.19it/s]"
     ]
    },
    {
     "name": "stdout",
     "output_type": "stream",
     "text": [
      "EarlyStopping counter: 103 out of 10000\n"
     ]
    },
    {
     "name": "stderr",
     "output_type": "stream",
     "text": [
      "Epoch 1: CE 2.358599: 100%|██████████████████████████████████████████████████████████████████████████████████████████████████████████████████████████████████████████████████████| 799/799 [03:08<00:00,  4.25it/s]\n",
      "Epoch 1: CE 2.239782:   0%|▏                                                                                                                                                       | 1/799 [00:00<03:00,  4.43it/s]"
     ]
    },
    {
     "name": "stdout",
     "output_type": "stream",
     "text": [
      "EarlyStopping counter: 104 out of 10000\n"
     ]
    },
    {
     "name": "stderr",
     "output_type": "stream",
     "text": [
      "Epoch 1: CE 2.353384:  25%|█████████████████████████████████████▋                                                                                                                | 201/799 [00:48<02:16,  4.38it/s]"
     ]
    },
    {
     "name": "stdout",
     "output_type": "stream",
     "text": [
      "EarlyStopping counter: 105 out of 10000\n"
     ]
    },
    {
     "name": "stderr",
     "output_type": "stream",
     "text": [
      "Epoch 1: CE 2.361168:  50%|███████████████████████████████████████████████████████████████████████████▎                                                                          | 401/799 [01:35<01:37,  4.08it/s]"
     ]
    },
    {
     "name": "stdout",
     "output_type": "stream",
     "text": [
      "EarlyStopping counter: 106 out of 10000\n"
     ]
    },
    {
     "name": "stderr",
     "output_type": "stream",
     "text": [
      "Epoch 1: CE 2.356282:  75%|████████████████████████████████████████████████████████████████████████████████████████████████████████████████▊                                     | 601/799 [02:22<00:46,  4.24it/s]"
     ]
    },
    {
     "name": "stdout",
     "output_type": "stream",
     "text": [
      "EarlyStopping counter: 107 out of 10000\n"
     ]
    },
    {
     "name": "stderr",
     "output_type": "stream",
     "text": [
      "Epoch 1: CE 2.358208: 100%|██████████████████████████████████████████████████████████████████████████████████████████████████████████████████████████████████████████████████████| 799/799 [03:08<00:00,  4.23it/s]\n",
      "Epoch 1: CE 2.368277:   0%|▏                                                                                                                                                       | 1/799 [00:00<03:16,  4.06it/s]"
     ]
    },
    {
     "name": "stdout",
     "output_type": "stream",
     "text": [
      "EarlyStopping counter: 108 out of 10000\n",
      "Epoch   349: reducing learning rate of group 0 to 3.8966e-04.\n"
     ]
    },
    {
     "name": "stderr",
     "output_type": "stream",
     "text": [
      "Epoch 1: CE 2.356254:  25%|█████████████████████████████████████▋                                                                                                                | 201/799 [00:48<02:19,  4.29it/s]"
     ]
    },
    {
     "name": "stdout",
     "output_type": "stream",
     "text": [
      "EarlyStopping counter: 109 out of 10000\n"
     ]
    },
    {
     "name": "stderr",
     "output_type": "stream",
     "text": [
      "Epoch 1: CE 2.358099:  50%|███████████████████████████████████████████████████████████████████████████▎                                                                          | 401/799 [01:35<01:32,  4.31it/s]"
     ]
    },
    {
     "name": "stdout",
     "output_type": "stream",
     "text": [
      "EarlyStopping counter: 110 out of 10000\n"
     ]
    },
    {
     "name": "stderr",
     "output_type": "stream",
     "text": [
      "Epoch 1: CE 2.357543:  75%|████████████████████████████████████████████████████████████████████████████████████████████████████████████████▊                                     | 601/799 [02:22<00:46,  4.23it/s]"
     ]
    },
    {
     "name": "stdout",
     "output_type": "stream",
     "text": [
      "EarlyStopping counter: 111 out of 10000\n"
     ]
    },
    {
     "name": "stderr",
     "output_type": "stream",
     "text": [
      "Epoch 1: CE 2.355871: 100%|██████████████████████████████████████████████████████████████████████████████████████████████████████████████████████████████████████████████████████| 799/799 [03:08<00:00,  4.24it/s]\n",
      "Epoch 1: CE 2.322401:   0%|▏                                                                                                                                                       | 1/799 [00:00<03:14,  4.10it/s]"
     ]
    },
    {
     "name": "stdout",
     "output_type": "stream",
     "text": [
      "EarlyStopping counter: 112 out of 10000\n"
     ]
    },
    {
     "name": "stderr",
     "output_type": "stream",
     "text": [
      "Epoch 1: CE 2.345685:  25%|█████████████████████████████████████▋                                                                                                                | 201/799 [00:48<02:24,  4.13it/s]"
     ]
    },
    {
     "name": "stdout",
     "output_type": "stream",
     "text": [
      "EarlyStopping counter: 113 out of 10000\n"
     ]
    },
    {
     "name": "stderr",
     "output_type": "stream",
     "text": [
      "Epoch 1: CE 2.354743:  50%|███████████████████████████████████████████████████████████████████████████▎                                                                          | 401/799 [01:35<01:34,  4.23it/s]"
     ]
    },
    {
     "name": "stdout",
     "output_type": "stream",
     "text": [
      "EarlyStopping counter: 114 out of 10000\n",
      "Epoch   355: reducing learning rate of group 0 to 3.7407e-04.\n"
     ]
    },
    {
     "name": "stderr",
     "output_type": "stream",
     "text": [
      "Epoch 1: CE 2.352724:  75%|████████████████████████████████████████████████████████████████████████████████████████████████████████████████▊                                     | 601/799 [02:22<00:46,  4.24it/s]"
     ]
    },
    {
     "name": "stdout",
     "output_type": "stream",
     "text": [
      "EarlyStopping counter: 115 out of 10000\n"
     ]
    },
    {
     "name": "stderr",
     "output_type": "stream",
     "text": [
      "Epoch 1: CE 2.355151: 100%|██████████████████████████████████████████████████████████████████████████████████████████████████████████████████████████████████████████████████████| 799/799 [03:08<00:00,  4.23it/s]\n",
      "Epoch 1: CE 2.351954:  25%|█████████████████████████████████████▋                                                                                                                | 201/799 [00:48<02:23,  4.16it/s]"
     ]
    },
    {
     "name": "stdout",
     "output_type": "stream",
     "text": [
      "EarlyStopping counter: 1 out of 10000\n"
     ]
    },
    {
     "name": "stderr",
     "output_type": "stream",
     "text": [
      "Epoch 1: CE 2.352219:  50%|███████████████████████████████████████████████████████████████████████████▎                                                                          | 401/799 [01:35<01:37,  4.09it/s]"
     ]
    },
    {
     "name": "stdout",
     "output_type": "stream",
     "text": [
      "EarlyStopping counter: 2 out of 10000\n"
     ]
    },
    {
     "name": "stderr",
     "output_type": "stream",
     "text": [
      "Epoch 1: CE 2.354604:  75%|████████████████████████████████████████████████████████████████████████████████████████████████████████████████▊                                     | 601/799 [02:22<00:46,  4.24it/s]"
     ]
    },
    {
     "name": "stdout",
     "output_type": "stream",
     "text": [
      "EarlyStopping counter: 3 out of 10000\n"
     ]
    },
    {
     "name": "stderr",
     "output_type": "stream",
     "text": [
      "Epoch 1: CE 2.353408: 100%|██████████████████████████████████████████████████████████████████████████████████████████████████████████████████████████████████████████████████████| 799/799 [03:09<00:00,  4.22it/s]\n",
      "Epoch 1: CE 2.266448:   0%|▏                                                                                                                                                       | 1/799 [00:00<02:55,  4.55it/s]"
     ]
    },
    {
     "name": "stdout",
     "output_type": "stream",
     "text": [
      "EarlyStopping counter: 4 out of 10000\n"
     ]
    },
    {
     "name": "stderr",
     "output_type": "stream",
     "text": [
      "Epoch 1: CE 2.351886:  25%|█████████████████████████████████████▋                                                                                                                | 201/799 [00:48<02:22,  4.20it/s]"
     ]
    },
    {
     "name": "stdout",
     "output_type": "stream",
     "text": [
      "EarlyStopping counter: 5 out of 10000\n"
     ]
    },
    {
     "name": "stderr",
     "output_type": "stream",
     "text": [
      "Epoch 1: CE 2.347739:  50%|███████████████████████████████████████████████████████████████████████████▎                                                                          | 401/799 [01:35<01:32,  4.28it/s]"
     ]
    },
    {
     "name": "stdout",
     "output_type": "stream",
     "text": [
      "EarlyStopping counter: 6 out of 10000\n",
      "Epoch   363: reducing learning rate of group 0 to 3.5911e-04.\n"
     ]
    },
    {
     "name": "stderr",
     "output_type": "stream",
     "text": [
      "Epoch 1: CE 2.350904:  75%|████████████████████████████████████████████████████████████████████████████████████████████████████████████████▊                                     | 601/799 [02:22<00:45,  4.31it/s]"
     ]
    },
    {
     "name": "stdout",
     "output_type": "stream",
     "text": [
      "EarlyStopping counter: 7 out of 10000\n"
     ]
    },
    {
     "name": "stderr",
     "output_type": "stream",
     "text": [
      "Epoch 1: CE 2.352600: 100%|██████████████████████████████████████████████████████████████████████████████████████████████████████████████████████████████████████████████████████| 799/799 [03:09<00:00,  4.22it/s]\n",
      "Epoch 1: CE 2.362109:   0%|▏                                                                                                                                                       | 1/799 [00:00<03:08,  4.24it/s]"
     ]
    },
    {
     "name": "stdout",
     "output_type": "stream",
     "text": [
      "EarlyStopping counter: 8 out of 10000\n"
     ]
    },
    {
     "name": "stderr",
     "output_type": "stream",
     "text": [
      "Epoch 1: CE 2.357087:  25%|█████████████████████████████████████▋                                                                                                                | 201/799 [00:48<02:15,  4.42it/s]"
     ]
    },
    {
     "name": "stdout",
     "output_type": "stream",
     "text": [
      "EarlyStopping counter: 9 out of 10000\n"
     ]
    },
    {
     "name": "stderr",
     "output_type": "stream",
     "text": [
      "Epoch 1: CE 2.344527:  50%|███████████████████████████████████████████████████████████████████████████▎                                                                          | 401/799 [01:34<01:31,  4.34it/s]"
     ]
    },
    {
     "name": "stdout",
     "output_type": "stream",
     "text": [
      "EarlyStopping counter: 10 out of 10000\n"
     ]
    },
    {
     "name": "stderr",
     "output_type": "stream",
     "text": [
      "Epoch 1: CE 2.349163:  75%|████████████████████████████████████████████████████████████████████████████████████████████████████████████████▊                                     | 601/799 [02:22<00:47,  4.17it/s]"
     ]
    },
    {
     "name": "stdout",
     "output_type": "stream",
     "text": [
      "EarlyStopping counter: 11 out of 10000\n"
     ]
    },
    {
     "name": "stderr",
     "output_type": "stream",
     "text": [
      "Epoch 1: CE 2.351580: 100%|██████████████████████████████████████████████████████████████████████████████████████████████████████████████████████████████████████████████████████| 799/799 [03:08<00:00,  4.23it/s]\n",
      "Epoch 1: CE 2.268348:   0%|▏                                                                                                                                                       | 1/799 [00:00<03:03,  4.34it/s]"
     ]
    },
    {
     "name": "stdout",
     "output_type": "stream",
     "text": [
      "EarlyStopping counter: 12 out of 10000\n",
      "Epoch   369: reducing learning rate of group 0 to 3.4474e-04.\n"
     ]
    },
    {
     "name": "stderr",
     "output_type": "stream",
     "text": [
      "Epoch 1: CE 2.347099:  25%|█████████████████████████████████████▋                                                                                                                | 201/799 [00:48<02:22,  4.20it/s]"
     ]
    },
    {
     "name": "stdout",
     "output_type": "stream",
     "text": [
      "EarlyStopping counter: 13 out of 10000\n"
     ]
    },
    {
     "name": "stderr",
     "output_type": "stream",
     "text": [
      "Epoch 1: CE 2.348598:  50%|███████████████████████████████████████████████████████████████████████████▎                                                                          | 401/799 [01:35<01:34,  4.19it/s]"
     ]
    },
    {
     "name": "stdout",
     "output_type": "stream",
     "text": [
      "EarlyStopping counter: 14 out of 10000\n"
     ]
    },
    {
     "name": "stderr",
     "output_type": "stream",
     "text": [
      "Epoch 1: CE 2.348828:  75%|████████████████████████████████████████████████████████████████████████████████████████████████████████████████▊                                     | 601/799 [02:22<00:46,  4.25it/s]"
     ]
    },
    {
     "name": "stdout",
     "output_type": "stream",
     "text": [
      "EarlyStopping counter: 15 out of 10000\n"
     ]
    },
    {
     "name": "stderr",
     "output_type": "stream",
     "text": [
      "Epoch 1: CE 2.350087: 100%|██████████████████████████████████████████████████████████████████████████████████████████████████████████████████████████████████████████████████████| 799/799 [03:09<00:00,  4.22it/s]\n",
      "Epoch 1: CE 2.310072:   0%|▏                                                                                                                                                       | 1/799 [00:00<03:25,  3.89it/s]"
     ]
    },
    {
     "name": "stdout",
     "output_type": "stream",
     "text": [
      "EarlyStopping counter: 16 out of 10000\n"
     ]
    },
    {
     "name": "stderr",
     "output_type": "stream",
     "text": [
      "Epoch 1: CE 2.342482:  25%|█████████████████████████████████████▋                                                                                                                | 201/799 [00:48<02:11,  4.54it/s]"
     ]
    },
    {
     "name": "stdout",
     "output_type": "stream",
     "text": [
      "EarlyStopping counter: 17 out of 10000\n"
     ]
    },
    {
     "name": "stderr",
     "output_type": "stream",
     "text": [
      "Epoch 1: CE 2.344689:  50%|███████████████████████████████████████████████████████████████████████████▎                                                                          | 401/799 [01:35<01:32,  4.28it/s]"
     ]
    },
    {
     "name": "stdout",
     "output_type": "stream",
     "text": [
      "EarlyStopping counter: 18 out of 10000\n",
      "Epoch   375: reducing learning rate of group 0 to 3.3095e-04.\n"
     ]
    },
    {
     "name": "stderr",
     "output_type": "stream",
     "text": [
      "Epoch 1: CE 2.346538:  75%|████████████████████████████████████████████████████████████████████████████████████████████████████████████████▊                                     | 601/799 [02:22<00:47,  4.17it/s]"
     ]
    },
    {
     "name": "stdout",
     "output_type": "stream",
     "text": [
      "EarlyStopping counter: 19 out of 10000\n"
     ]
    },
    {
     "name": "stderr",
     "output_type": "stream",
     "text": [
      "Epoch 1: CE 2.349426: 100%|██████████████████████████████████████████████████████████████████████████████████████████████████████████████████████████████████████████████████████| 799/799 [03:08<00:00,  4.23it/s]\n",
      "Epoch 1: CE 2.243401:   0%|▏                                                                                                                                                       | 1/799 [00:00<03:07,  4.27it/s]"
     ]
    },
    {
     "name": "stdout",
     "output_type": "stream",
     "text": [
      "EarlyStopping counter: 20 out of 10000\n"
     ]
    },
    {
     "name": "stderr",
     "output_type": "stream",
     "text": [
      "Epoch 1: CE 2.343875:  25%|█████████████████████████████████████▋                                                                                                                | 201/799 [00:48<02:18,  4.31it/s]"
     ]
    },
    {
     "name": "stdout",
     "output_type": "stream",
     "text": [
      "EarlyStopping counter: 21 out of 10000\n"
     ]
    },
    {
     "name": "stderr",
     "output_type": "stream",
     "text": [
      "Epoch 1: CE 2.346758:  50%|███████████████████████████████████████████████████████████████████████████▎                                                                          | 401/799 [01:35<01:30,  4.38it/s]"
     ]
    },
    {
     "name": "stdout",
     "output_type": "stream",
     "text": [
      "EarlyStopping counter: 22 out of 10000\n"
     ]
    },
    {
     "name": "stderr",
     "output_type": "stream",
     "text": [
      "Epoch 1: CE 2.347450:  75%|████████████████████████████████████████████████████████████████████████████████████████████████████████████████▊                                     | 601/799 [02:22<00:48,  4.11it/s]"
     ]
    },
    {
     "name": "stdout",
     "output_type": "stream",
     "text": [
      "EarlyStopping counter: 23 out of 10000\n"
     ]
    },
    {
     "name": "stderr",
     "output_type": "stream",
     "text": [
      "Epoch 1: CE 2.347538: 100%|██████████████████████████████████████████████████████████████████████████████████████████████████████████████████████████████████████████████████████| 799/799 [03:09<00:00,  4.22it/s]\n",
      "Epoch 1: CE 2.261146:   0%|▏                                                                                                                                                       | 1/799 [00:00<03:13,  4.13it/s]"
     ]
    },
    {
     "name": "stdout",
     "output_type": "stream",
     "text": [
      "EarlyStopping counter: 24 out of 10000\n",
      "Epoch   381: reducing learning rate of group 0 to 3.1772e-04.\n"
     ]
    },
    {
     "name": "stderr",
     "output_type": "stream",
     "text": [
      "Epoch 1: CE 2.338305:  25%|█████████████████████████████████████▋                                                                                                                | 201/799 [00:48<02:19,  4.28it/s]"
     ]
    },
    {
     "name": "stdout",
     "output_type": "stream",
     "text": [
      "EarlyStopping counter: 25 out of 10000\n"
     ]
    },
    {
     "name": "stderr",
     "output_type": "stream",
     "text": [
      "Epoch 1: CE 2.342710:  50%|███████████████████████████████████████████████████████████████████████████▎                                                                          | 401/799 [01:35<01:33,  4.27it/s]"
     ]
    },
    {
     "name": "stdout",
     "output_type": "stream",
     "text": [
      "EarlyStopping counter: 26 out of 10000\n"
     ]
    },
    {
     "name": "stderr",
     "output_type": "stream",
     "text": [
      "Epoch 1: CE 2.343570:  75%|████████████████████████████████████████████████████████████████████████████████████████████████████████████████▊                                     | 601/799 [02:22<00:46,  4.24it/s]"
     ]
    },
    {
     "name": "stdout",
     "output_type": "stream",
     "text": [
      "EarlyStopping counter: 27 out of 10000\n"
     ]
    },
    {
     "name": "stderr",
     "output_type": "stream",
     "text": [
      "Epoch 1: CE 2.346610: 100%|██████████████████████████████████████████████████████████████████████████████████████████████████████████████████████████████████████████████████████| 799/799 [03:08<00:00,  4.23it/s]\n",
      "Epoch 1: CE 2.370223:   0%|▏                                                                                                                                                       | 1/799 [00:00<03:24,  3.90it/s]"
     ]
    },
    {
     "name": "stdout",
     "output_type": "stream",
     "text": [
      "EarlyStopping counter: 28 out of 10000\n"
     ]
    },
    {
     "name": "stderr",
     "output_type": "stream",
     "text": [
      "Epoch 1: CE 2.336902:  25%|█████████████████████████████████████▋                                                                                                                | 201/799 [00:48<02:23,  4.18it/s]"
     ]
    },
    {
     "name": "stdout",
     "output_type": "stream",
     "text": [
      "EarlyStopping counter: 29 out of 10000\n"
     ]
    },
    {
     "name": "stderr",
     "output_type": "stream",
     "text": [
      "Epoch 1: CE 2.342013:  50%|███████████████████████████████████████████████████████████████████████████▎                                                                          | 401/799 [01:35<01:32,  4.30it/s]"
     ]
    },
    {
     "name": "stdout",
     "output_type": "stream",
     "text": [
      "EarlyStopping counter: 30 out of 10000\n",
      "Epoch   387: reducing learning rate of group 0 to 3.0501e-04.\n"
     ]
    },
    {
     "name": "stderr",
     "output_type": "stream",
     "text": [
      "Epoch 1: CE 2.342338:  75%|████████████████████████████████████████████████████████████████████████████████████████████████████████████████▊                                     | 601/799 [02:22<00:46,  4.27it/s]"
     ]
    },
    {
     "name": "stdout",
     "output_type": "stream",
     "text": [
      "EarlyStopping counter: 31 out of 10000\n"
     ]
    },
    {
     "name": "stderr",
     "output_type": "stream",
     "text": [
      "Epoch 1: CE 2.345834: 100%|██████████████████████████████████████████████████████████████████████████████████████████████████████████████████████████████████████████████████████| 799/799 [03:09<00:00,  4.23it/s]\n",
      "Epoch 1: CE 2.229130:   0%|▏                                                                                                                                                       | 1/799 [00:00<03:13,  4.12it/s]"
     ]
    },
    {
     "name": "stdout",
     "output_type": "stream",
     "text": [
      "EarlyStopping counter: 32 out of 10000\n"
     ]
    },
    {
     "name": "stderr",
     "output_type": "stream",
     "text": [
      "Epoch 1: CE 2.344638:  25%|█████████████████████████████████████▋                                                                                                                | 201/799 [00:48<02:19,  4.28it/s]"
     ]
    },
    {
     "name": "stdout",
     "output_type": "stream",
     "text": [
      "EarlyStopping counter: 33 out of 10000\n"
     ]
    },
    {
     "name": "stderr",
     "output_type": "stream",
     "text": [
      "Epoch 1: CE 2.341785:  50%|███████████████████████████████████████████████████████████████████████████▎                                                                          | 401/799 [01:35<01:35,  4.16it/s]"
     ]
    },
    {
     "name": "stdout",
     "output_type": "stream",
     "text": [
      "EarlyStopping counter: 34 out of 10000\n"
     ]
    },
    {
     "name": "stderr",
     "output_type": "stream",
     "text": [
      "Epoch 1: CE 2.341489:  75%|████████████████████████████████████████████████████████████████████████████████████████████████████████████████▊                                     | 601/799 [02:22<00:47,  4.15it/s]"
     ]
    },
    {
     "name": "stdout",
     "output_type": "stream",
     "text": [
      "EarlyStopping counter: 35 out of 10000\n"
     ]
    },
    {
     "name": "stderr",
     "output_type": "stream",
     "text": [
      "Epoch 1: CE 2.344038: 100%|██████████████████████████████████████████████████████████████████████████████████████████████████████████████████████████████████████████████████████| 799/799 [03:08<00:00,  4.24it/s]\n",
      "Epoch 1: CE 2.218393:   0%|▏                                                                                                                                                       | 1/799 [00:00<03:15,  4.07it/s]"
     ]
    },
    {
     "name": "stdout",
     "output_type": "stream",
     "text": [
      "EarlyStopping counter: 36 out of 10000\n",
      "Epoch   393: reducing learning rate of group 0 to 2.9281e-04.\n"
     ]
    },
    {
     "name": "stderr",
     "output_type": "stream",
     "text": [
      "Epoch 1: CE 2.339409:  25%|█████████████████████████████████████▋                                                                                                                | 201/799 [00:47<02:19,  4.29it/s]"
     ]
    },
    {
     "name": "stdout",
     "output_type": "stream",
     "text": [
      "EarlyStopping counter: 37 out of 10000\n"
     ]
    },
    {
     "name": "stderr",
     "output_type": "stream",
     "text": [
      "Epoch 1: CE 2.343100:  50%|███████████████████████████████████████████████████████████████████████████▎                                                                          | 401/799 [01:33<01:33,  4.27it/s]"
     ]
    },
    {
     "name": "stdout",
     "output_type": "stream",
     "text": [
      "EarlyStopping counter: 38 out of 10000\n"
     ]
    },
    {
     "name": "stderr",
     "output_type": "stream",
     "text": [
      "Epoch 1: CE 2.342426:  75%|████████████████████████████████████████████████████████████████████████████████████████████████████████████████▊                                     | 601/799 [02:21<00:47,  4.19it/s]"
     ]
    },
    {
     "name": "stdout",
     "output_type": "stream",
     "text": [
      "EarlyStopping counter: 39 out of 10000\n"
     ]
    },
    {
     "name": "stderr",
     "output_type": "stream",
     "text": [
      "Epoch 1: CE 2.343063: 100%|██████████████████████████████████████████████████████████████████████████████████████████████████████████████████████████████████████████████████████| 799/799 [03:08<00:00,  4.24it/s]\n",
      "Epoch 1: CE 2.365083:   0%|▏                                                                                                                                                       | 1/799 [00:00<03:16,  4.05it/s]"
     ]
    },
    {
     "name": "stdout",
     "output_type": "stream",
     "text": [
      "EarlyStopping counter: 40 out of 10000\n"
     ]
    },
    {
     "name": "stderr",
     "output_type": "stream",
     "text": [
      "Epoch 1: CE 2.323899:  25%|█████████████████████████████████████▋                                                                                                                | 201/799 [00:47<02:24,  4.15it/s]"
     ]
    },
    {
     "name": "stdout",
     "output_type": "stream",
     "text": [
      "EarlyStopping counter: 41 out of 10000\n"
     ]
    },
    {
     "name": "stderr",
     "output_type": "stream",
     "text": [
      "Epoch 1: CE 2.335290:  50%|███████████████████████████████████████████████████████████████████████████▎                                                                          | 401/799 [01:35<01:34,  4.20it/s]"
     ]
    },
    {
     "name": "stdout",
     "output_type": "stream",
     "text": [
      "EarlyStopping counter: 42 out of 10000\n",
      "Epoch   399: reducing learning rate of group 0 to 2.8109e-04.\n"
     ]
    },
    {
     "name": "stderr",
     "output_type": "stream",
     "text": [
      "Epoch 1: CE 2.340029:  75%|████████████████████████████████████████████████████████████████████████████████████████████████████████████████▊                                     | 601/799 [02:23<00:46,  4.26it/s]"
     ]
    },
    {
     "name": "stdout",
     "output_type": "stream",
     "text": [
      "EarlyStopping counter: 43 out of 10000\n"
     ]
    },
    {
     "name": "stderr",
     "output_type": "stream",
     "text": [
      "Epoch 1: CE 2.341785: 100%|██████████████████████████████████████████████████████████████████████████████████████████████████████████████████████████████████████████████████████| 799/799 [03:09<00:00,  4.21it/s]\n",
      "Epoch 1: CE 2.243793:   0%|▏                                                                                                                                                       | 1/799 [00:00<03:05,  4.30it/s]"
     ]
    },
    {
     "name": "stdout",
     "output_type": "stream",
     "text": [
      "EarlyStopping counter: 44 out of 10000\n"
     ]
    },
    {
     "name": "stderr",
     "output_type": "stream",
     "text": [
      "Epoch 1: CE 2.332492:  25%|█████████████████████████████████████▋                                                                                                                | 201/799 [00:47<02:23,  4.18it/s]"
     ]
    },
    {
     "name": "stdout",
     "output_type": "stream",
     "text": [
      "EarlyStopping counter: 45 out of 10000\n"
     ]
    },
    {
     "name": "stderr",
     "output_type": "stream",
     "text": [
      "Epoch 1: CE 2.336068:  50%|███████████████████████████████████████████████████████████████████████████▎                                                                          | 401/799 [01:34<01:34,  4.20it/s]"
     ]
    },
    {
     "name": "stdout",
     "output_type": "stream",
     "text": [
      "EarlyStopping counter: 46 out of 10000\n"
     ]
    },
    {
     "name": "stderr",
     "output_type": "stream",
     "text": [
      "Epoch 1: CE 2.341645:  75%|████████████████████████████████████████████████████████████████████████████████████████████████████████████████▊                                     | 601/799 [02:21<00:46,  4.23it/s]"
     ]
    },
    {
     "name": "stdout",
     "output_type": "stream",
     "text": [
      "EarlyStopping counter: 47 out of 10000\n"
     ]
    },
    {
     "name": "stderr",
     "output_type": "stream",
     "text": [
      "Epoch 1: CE 2.340896: 100%|██████████████████████████████████████████████████████████████████████████████████████████████████████████████████████████████████████████████████████| 799/799 [03:07<00:00,  4.26it/s]\n",
      "Epoch 1: CE 2.339927:   0%|▏                                                                                                                                                       | 1/799 [00:00<08:44,  1.52it/s]"
     ]
    },
    {
     "name": "stdout",
     "output_type": "stream",
     "text": [
      "EarlyStopping counter: 48 out of 10000\n",
      "Epoch   405: reducing learning rate of group 0 to 2.6985e-04.\n"
     ]
    },
    {
     "name": "stderr",
     "output_type": "stream",
     "text": [
      "Epoch 1: CE 2.326004:  25%|█████████████████████████████████████▋                                                                                                                | 201/799 [00:48<02:22,  4.19it/s]"
     ]
    },
    {
     "name": "stdout",
     "output_type": "stream",
     "text": [
      "EarlyStopping counter: 49 out of 10000\n"
     ]
    },
    {
     "name": "stderr",
     "output_type": "stream",
     "text": [
      "Epoch 1: CE 2.332340:  50%|███████████████████████████████████████████████████████████████████████████▎                                                                          | 401/799 [01:35<01:34,  4.22it/s]"
     ]
    },
    {
     "name": "stdout",
     "output_type": "stream",
     "text": [
      "EarlyStopping counter: 50 out of 10000\n"
     ]
    },
    {
     "name": "stderr",
     "output_type": "stream",
     "text": [
      "Epoch 1: CE 2.337610:  75%|████████████████████████████████████████████████████████████████████████████████████████████████████████████████▊                                     | 601/799 [02:22<00:45,  4.36it/s]"
     ]
    },
    {
     "name": "stdout",
     "output_type": "stream",
     "text": [
      "EarlyStopping counter: 51 out of 10000\n"
     ]
    },
    {
     "name": "stderr",
     "output_type": "stream",
     "text": [
      "Epoch 1: CE 2.340078: 100%|██████████████████████████████████████████████████████████████████████████████████████████████████████████████████████████████████████████████████████| 799/799 [03:08<00:00,  4.23it/s]\n",
      "Epoch 1: CE 2.451024:   0%|▏                                                                                                                                                       | 1/799 [00:00<03:27,  3.84it/s]"
     ]
    },
    {
     "name": "stdout",
     "output_type": "stream",
     "text": [
      "EarlyStopping counter: 52 out of 10000\n"
     ]
    },
    {
     "name": "stderr",
     "output_type": "stream",
     "text": [
      "Epoch 1: CE 2.335150:  25%|█████████████████████████████████████▋                                                                                                                | 201/799 [00:48<02:23,  4.18it/s]"
     ]
    },
    {
     "name": "stdout",
     "output_type": "stream",
     "text": [
      "EarlyStopping counter: 53 out of 10000\n"
     ]
    },
    {
     "name": "stderr",
     "output_type": "stream",
     "text": [
      "Epoch 1: CE 2.334576:  50%|███████████████████████████████████████████████████████████████████████████▎                                                                          | 401/799 [01:35<01:33,  4.27it/s]"
     ]
    },
    {
     "name": "stdout",
     "output_type": "stream",
     "text": [
      "EarlyStopping counter: 54 out of 10000\n",
      "Epoch   411: reducing learning rate of group 0 to 2.5906e-04.\n"
     ]
    },
    {
     "name": "stderr",
     "output_type": "stream",
     "text": [
      "Epoch 1: CE 2.337532:  75%|████████████████████████████████████████████████████████████████████████████████████████████████████████████████▊                                     | 601/799 [02:22<00:46,  4.24it/s]"
     ]
    },
    {
     "name": "stdout",
     "output_type": "stream",
     "text": [
      "EarlyStopping counter: 55 out of 10000\n"
     ]
    },
    {
     "name": "stderr",
     "output_type": "stream",
     "text": [
      "Epoch 1: CE 2.339079: 100%|██████████████████████████████████████████████████████████████████████████████████████████████████████████████████████████████████████████████████████| 799/799 [03:09<00:00,  4.23it/s]\n",
      "Epoch 1: CE 2.202182:   0%|▏                                                                                                                                                       | 1/799 [00:00<03:13,  4.12it/s]"
     ]
    },
    {
     "name": "stdout",
     "output_type": "stream",
     "text": [
      "EarlyStopping counter: 56 out of 10000\n"
     ]
    },
    {
     "name": "stderr",
     "output_type": "stream",
     "text": [
      "Epoch 1: CE 2.327428:  25%|█████████████████████████████████████▋                                                                                                                | 201/799 [00:48<02:19,  4.30it/s]"
     ]
    },
    {
     "name": "stdout",
     "output_type": "stream",
     "text": [
      "EarlyStopping counter: 57 out of 10000\n"
     ]
    },
    {
     "name": "stderr",
     "output_type": "stream",
     "text": [
      "Epoch 1: CE 2.333064:  50%|███████████████████████████████████████████████████████████████████████████▎                                                                          | 401/799 [01:35<01:32,  4.30it/s]"
     ]
    },
    {
     "name": "stdout",
     "output_type": "stream",
     "text": [
      "EarlyStopping counter: 58 out of 10000\n"
     ]
    },
    {
     "name": "stderr",
     "output_type": "stream",
     "text": [
      "Epoch 1: CE 2.336721:  75%|████████████████████████████████████████████████████████████████████████████████████████████████████████████████▊                                     | 601/799 [02:22<00:46,  4.21it/s]"
     ]
    },
    {
     "name": "stdout",
     "output_type": "stream",
     "text": [
      "EarlyStopping counter: 59 out of 10000\n"
     ]
    },
    {
     "name": "stderr",
     "output_type": "stream",
     "text": [
      "Epoch 1: CE 2.338021: 100%|██████████████████████████████████████████████████████████████████████████████████████████████████████████████████████████████████████████████████████| 799/799 [03:08<00:00,  4.24it/s]\n",
      "Epoch 1: CE 2.364811:   0%|▏                                                                                                                                                       | 1/799 [00:00<03:22,  3.94it/s]"
     ]
    },
    {
     "name": "stdout",
     "output_type": "stream",
     "text": [
      "EarlyStopping counter: 60 out of 10000\n",
      "Epoch   417: reducing learning rate of group 0 to 2.4869e-04.\n"
     ]
    },
    {
     "name": "stderr",
     "output_type": "stream",
     "text": [
      "Epoch 1: CE 2.333580:  25%|█████████████████████████████████████▋                                                                                                                | 201/799 [00:48<02:20,  4.25it/s]"
     ]
    },
    {
     "name": "stdout",
     "output_type": "stream",
     "text": [
      "EarlyStopping counter: 61 out of 10000\n"
     ]
    },
    {
     "name": "stderr",
     "output_type": "stream",
     "text": [
      "Epoch 1: CE 2.336106:  50%|███████████████████████████████████████████████████████████████████████████▎                                                                          | 401/799 [01:35<01:31,  4.37it/s]"
     ]
    },
    {
     "name": "stdout",
     "output_type": "stream",
     "text": [
      "EarlyStopping counter: 62 out of 10000\n"
     ]
    },
    {
     "name": "stderr",
     "output_type": "stream",
     "text": [
      "Epoch 1: CE 2.335830:  75%|████████████████████████████████████████████████████████████████████████████████████████████████████████████████▊                                     | 601/799 [02:22<00:46,  4.26it/s]"
     ]
    },
    {
     "name": "stdout",
     "output_type": "stream",
     "text": [
      "EarlyStopping counter: 63 out of 10000\n"
     ]
    },
    {
     "name": "stderr",
     "output_type": "stream",
     "text": [
      "Epoch 1: CE 2.337411: 100%|██████████████████████████████████████████████████████████████████████████████████████████████████████████████████████████████████████████████████████| 799/799 [03:09<00:00,  4.22it/s]\n",
      "Epoch 1: CE 2.457138:   0%|▏                                                                                                                                                       | 1/799 [00:00<03:15,  4.09it/s]"
     ]
    },
    {
     "name": "stdout",
     "output_type": "stream",
     "text": [
      "EarlyStopping counter: 64 out of 10000\n"
     ]
    },
    {
     "name": "stderr",
     "output_type": "stream",
     "text": [
      "Epoch 1: CE 2.337160:  25%|█████████████████████████████████████▋                                                                                                                | 201/799 [00:48<02:20,  4.25it/s]"
     ]
    },
    {
     "name": "stdout",
     "output_type": "stream",
     "text": [
      "EarlyStopping counter: 65 out of 10000\n"
     ]
    },
    {
     "name": "stderr",
     "output_type": "stream",
     "text": [
      "Epoch 1: CE 2.336932:  50%|███████████████████████████████████████████████████████████████████████████▎                                                                          | 401/799 [01:35<01:33,  4.25it/s]"
     ]
    },
    {
     "name": "stdout",
     "output_type": "stream",
     "text": [
      "EarlyStopping counter: 66 out of 10000\n",
      "Epoch   423: reducing learning rate of group 0 to 2.3875e-04.\n"
     ]
    },
    {
     "name": "stderr",
     "output_type": "stream",
     "text": [
      "Epoch 1: CE 2.334011:  75%|████████████████████████████████████████████████████████████████████████████████████████████████████████████████▊                                     | 601/799 [02:22<00:47,  4.17it/s]"
     ]
    },
    {
     "name": "stdout",
     "output_type": "stream",
     "text": [
      "EarlyStopping counter: 67 out of 10000\n"
     ]
    },
    {
     "name": "stderr",
     "output_type": "stream",
     "text": [
      "Epoch 1: CE 2.336654: 100%|██████████████████████████████████████████████████████████████████████████████████████████████████████████████████████████████████████████████████████| 799/799 [03:08<00:00,  4.23it/s]\n",
      "Epoch 1: CE 2.319992:   0%|▏                                                                                                                                                       | 1/799 [00:00<03:07,  4.27it/s]"
     ]
    },
    {
     "name": "stdout",
     "output_type": "stream",
     "text": [
      "EarlyStopping counter: 68 out of 10000\n"
     ]
    },
    {
     "name": "stderr",
     "output_type": "stream",
     "text": [
      "Epoch 1: CE 2.328318:  25%|█████████████████████████████████████▋                                                                                                                | 201/799 [00:48<02:23,  4.18it/s]"
     ]
    },
    {
     "name": "stdout",
     "output_type": "stream",
     "text": [
      "EarlyStopping counter: 69 out of 10000\n"
     ]
    },
    {
     "name": "stderr",
     "output_type": "stream",
     "text": [
      "Epoch 1: CE 2.334201:  50%|███████████████████████████████████████████████████████████████████████████▎                                                                          | 401/799 [01:35<01:34,  4.22it/s]"
     ]
    },
    {
     "name": "stdout",
     "output_type": "stream",
     "text": [
      "EarlyStopping counter: 70 out of 10000\n"
     ]
    },
    {
     "name": "stderr",
     "output_type": "stream",
     "text": [
      "Epoch 1: CE 2.333387:  75%|████████████████████████████████████████████████████████████████████████████████████████████████████████████████▊                                     | 601/799 [02:22<00:46,  4.29it/s]"
     ]
    },
    {
     "name": "stdout",
     "output_type": "stream",
     "text": [
      "EarlyStopping counter: 71 out of 10000\n"
     ]
    },
    {
     "name": "stderr",
     "output_type": "stream",
     "text": [
      "Epoch 1: CE 2.335851: 100%|██████████████████████████████████████████████████████████████████████████████████████████████████████████████████████████████████████████████████████| 799/799 [03:09<00:00,  4.23it/s]\n",
      "Epoch 1: CE 2.570681:   0%|▏                                                                                                                                                       | 1/799 [00:00<03:26,  3.87it/s]"
     ]
    },
    {
     "name": "stdout",
     "output_type": "stream",
     "text": [
      "EarlyStopping counter: 72 out of 10000\n",
      "Epoch   429: reducing learning rate of group 0 to 2.2920e-04.\n"
     ]
    },
    {
     "name": "stderr",
     "output_type": "stream",
     "text": [
      "Epoch 1: CE 2.331943:  25%|█████████████████████████████████████▋                                                                                                                | 201/799 [00:48<02:21,  4.24it/s]"
     ]
    },
    {
     "name": "stdout",
     "output_type": "stream",
     "text": [
      "EarlyStopping counter: 73 out of 10000\n"
     ]
    },
    {
     "name": "stderr",
     "output_type": "stream",
     "text": [
      "Epoch 1: CE 2.331003:  50%|███████████████████████████████████████████████████████████████████████████▎                                                                          | 401/799 [01:35<01:32,  4.31it/s]"
     ]
    },
    {
     "name": "stdout",
     "output_type": "stream",
     "text": [
      "EarlyStopping counter: 74 out of 10000\n"
     ]
    },
    {
     "name": "stderr",
     "output_type": "stream",
     "text": [
      "Epoch 1: CE 2.331157:  75%|████████████████████████████████████████████████████████████████████████████████████████████████████████████████▊                                     | 601/799 [02:22<00:46,  4.25it/s]"
     ]
    },
    {
     "name": "stdout",
     "output_type": "stream",
     "text": [
      "EarlyStopping counter: 75 out of 10000\n"
     ]
    },
    {
     "name": "stderr",
     "output_type": "stream",
     "text": [
      "Epoch 1: CE 2.334440: 100%|██████████████████████████████████████████████████████████████████████████████████████████████████████████████████████████████████████████████████████| 799/799 [03:09<00:00,  4.22it/s]\n",
      "Epoch 1: CE 2.361916:   0%|▏                                                                                                                                                       | 1/799 [00:00<03:03,  4.35it/s]"
     ]
    },
    {
     "name": "stdout",
     "output_type": "stream",
     "text": [
      "EarlyStopping counter: 76 out of 10000\n"
     ]
    },
    {
     "name": "stderr",
     "output_type": "stream",
     "text": [
      "Epoch 1: CE 2.326495:  25%|█████████████████████████████████████▋                                                                                                                | 201/799 [00:48<02:20,  4.25it/s]"
     ]
    },
    {
     "name": "stdout",
     "output_type": "stream",
     "text": [
      "EarlyStopping counter: 77 out of 10000\n"
     ]
    },
    {
     "name": "stderr",
     "output_type": "stream",
     "text": [
      "Epoch 1: CE 2.327373:  50%|███████████████████████████████████████████████████████████████████████████▎                                                                          | 401/799 [01:35<01:33,  4.27it/s]"
     ]
    },
    {
     "name": "stdout",
     "output_type": "stream",
     "text": [
      "EarlyStopping counter: 78 out of 10000\n",
      "Epoch   435: reducing learning rate of group 0 to 2.2003e-04.\n"
     ]
    },
    {
     "name": "stderr",
     "output_type": "stream",
     "text": [
      "Epoch 1: CE 2.330497:  75%|████████████████████████████████████████████████████████████████████████████████████████████████████████████████▊                                     | 601/799 [02:22<00:48,  4.12it/s]"
     ]
    },
    {
     "name": "stdout",
     "output_type": "stream",
     "text": [
      "EarlyStopping counter: 79 out of 10000\n"
     ]
    },
    {
     "name": "stderr",
     "output_type": "stream",
     "text": [
      "Epoch 1: CE 2.333595: 100%|██████████████████████████████████████████████████████████████████████████████████████████████████████████████████████████████████████████████████████| 799/799 [03:08<00:00,  4.23it/s]\n",
      "Epoch 1: CE 2.359112:   0%|▏                                                                                                                                                       | 1/799 [00:00<03:25,  3.89it/s]"
     ]
    },
    {
     "name": "stdout",
     "output_type": "stream",
     "text": [
      "EarlyStopping counter: 80 out of 10000\n"
     ]
    },
    {
     "name": "stderr",
     "output_type": "stream",
     "text": [
      "Epoch 1: CE 2.324059:  25%|█████████████████████████████████████▋                                                                                                                | 201/799 [00:48<02:22,  4.20it/s]"
     ]
    },
    {
     "name": "stdout",
     "output_type": "stream",
     "text": [
      "EarlyStopping counter: 81 out of 10000\n"
     ]
    },
    {
     "name": "stderr",
     "output_type": "stream",
     "text": [
      "Epoch 1: CE 2.328310:  50%|███████████████████████████████████████████████████████████████████████████▎                                                                          | 401/799 [01:35<01:35,  4.18it/s]"
     ]
    },
    {
     "name": "stdout",
     "output_type": "stream",
     "text": [
      "EarlyStopping counter: 82 out of 10000\n"
     ]
    },
    {
     "name": "stderr",
     "output_type": "stream",
     "text": [
      "Epoch 1: CE 2.332228:  75%|████████████████████████████████████████████████████████████████████████████████████████████████████████████████▊                                     | 601/799 [02:21<00:43,  4.51it/s]"
     ]
    },
    {
     "name": "stdout",
     "output_type": "stream",
     "text": [
      "EarlyStopping counter: 83 out of 10000\n"
     ]
    },
    {
     "name": "stderr",
     "output_type": "stream",
     "text": [
      "Epoch 1: CE 2.332894: 100%|██████████████████████████████████████████████████████████████████████████████████████████████████████████████████████████████████████████████████████| 799/799 [03:08<00:00,  4.24it/s]\n",
      "Epoch 1: CE 2.477455:   0%|▏                                                                                                                                                       | 1/799 [00:00<03:24,  3.90it/s]"
     ]
    },
    {
     "name": "stdout",
     "output_type": "stream",
     "text": [
      "EarlyStopping counter: 84 out of 10000\n",
      "Epoch   441: reducing learning rate of group 0 to 2.1123e-04.\n"
     ]
    },
    {
     "name": "stderr",
     "output_type": "stream",
     "text": [
      "Epoch 1: CE 2.321034:  25%|█████████████████████████████████████▋                                                                                                                | 201/799 [00:48<02:21,  4.24it/s]"
     ]
    },
    {
     "name": "stdout",
     "output_type": "stream",
     "text": [
      "EarlyStopping counter: 85 out of 10000\n"
     ]
    },
    {
     "name": "stderr",
     "output_type": "stream",
     "text": [
      "Epoch 1: CE 2.325148:  50%|███████████████████████████████████████████████████████████████████████████▎                                                                          | 401/799 [01:35<01:35,  4.16it/s]"
     ]
    },
    {
     "name": "stdout",
     "output_type": "stream",
     "text": [
      "EarlyStopping counter: 86 out of 10000\n"
     ]
    },
    {
     "name": "stderr",
     "output_type": "stream",
     "text": [
      "Epoch 1: CE 2.326558:  75%|████████████████████████████████████████████████████████████████████████████████████████████████████████████████▊                                     | 601/799 [02:22<00:47,  4.16it/s]"
     ]
    },
    {
     "name": "stdout",
     "output_type": "stream",
     "text": [
      "EarlyStopping counter: 87 out of 10000\n"
     ]
    },
    {
     "name": "stderr",
     "output_type": "stream",
     "text": [
      "Epoch 1: CE 2.331688: 100%|██████████████████████████████████████████████████████████████████████████████████████████████████████████████████████████████████████████████████████| 799/799 [03:08<00:00,  4.23it/s]\n",
      "Epoch 1: CE 2.424737:   0%|▏                                                                                                                                                       | 1/799 [00:00<03:24,  3.90it/s]"
     ]
    },
    {
     "name": "stdout",
     "output_type": "stream",
     "text": [
      "EarlyStopping counter: 88 out of 10000\n"
     ]
    },
    {
     "name": "stderr",
     "output_type": "stream",
     "text": [
      "Epoch 1: CE 2.332366:  25%|█████████████████████████████████████▋                                                                                                                | 201/799 [00:48<02:12,  4.50it/s]"
     ]
    },
    {
     "name": "stdout",
     "output_type": "stream",
     "text": [
      "EarlyStopping counter: 89 out of 10000\n"
     ]
    },
    {
     "name": "stderr",
     "output_type": "stream",
     "text": [
      "Epoch 1: CE 2.333007:  50%|███████████████████████████████████████████████████████████████████████████▎                                                                          | 401/799 [01:35<01:34,  4.22it/s]"
     ]
    },
    {
     "name": "stdout",
     "output_type": "stream",
     "text": [
      "EarlyStopping counter: 90 out of 10000\n",
      "Epoch   447: reducing learning rate of group 0 to 2.0278e-04.\n"
     ]
    },
    {
     "name": "stderr",
     "output_type": "stream",
     "text": [
      "Epoch 1: CE 2.332635:  75%|████████████████████████████████████████████████████████████████████████████████████████████████████████████████▊                                     | 601/799 [02:22<00:47,  4.17it/s]"
     ]
    },
    {
     "name": "stdout",
     "output_type": "stream",
     "text": [
      "EarlyStopping counter: 91 out of 10000\n"
     ]
    },
    {
     "name": "stderr",
     "output_type": "stream",
     "text": [
      "Epoch 1: CE 2.331205: 100%|██████████████████████████████████████████████████████████████████████████████████████████████████████████████████████████████████████████████████████| 799/799 [03:09<00:00,  4.22it/s]\n",
      "Epoch 1: CE 2.384287:   0%|▏                                                                                                                                                       | 1/799 [00:00<03:24,  3.89it/s]"
     ]
    },
    {
     "name": "stdout",
     "output_type": "stream",
     "text": [
      "EarlyStopping counter: 92 out of 10000\n"
     ]
    },
    {
     "name": "stderr",
     "output_type": "stream",
     "text": [
      "Epoch 1: CE 2.332656:  25%|█████████████████████████████████████▋                                                                                                                | 201/799 [00:48<02:17,  4.33it/s]"
     ]
    },
    {
     "name": "stdout",
     "output_type": "stream",
     "text": [
      "EarlyStopping counter: 93 out of 10000\n"
     ]
    },
    {
     "name": "stderr",
     "output_type": "stream",
     "text": [
      "Epoch 1: CE 2.333216:  50%|███████████████████████████████████████████████████████████████████████████▎                                                                          | 401/799 [01:35<01:33,  4.25it/s]"
     ]
    },
    {
     "name": "stdout",
     "output_type": "stream",
     "text": [
      "EarlyStopping counter: 94 out of 10000\n"
     ]
    },
    {
     "name": "stderr",
     "output_type": "stream",
     "text": [
      "Epoch 1: CE 2.331215:  75%|████████████████████████████████████████████████████████████████████████████████████████████████████████████████▊                                     | 601/799 [02:22<00:46,  4.21it/s]"
     ]
    },
    {
     "name": "stdout",
     "output_type": "stream",
     "text": [
      "EarlyStopping counter: 95 out of 10000\n"
     ]
    },
    {
     "name": "stderr",
     "output_type": "stream",
     "text": [
      "Epoch 1: CE 2.330865: 100%|██████████████████████████████████████████████████████████████████████████████████████████████████████████████████████████████████████████████████████| 799/799 [03:08<00:00,  4.23it/s]\n",
      "Epoch 1: CE 2.228845:   0%|▏                                                                                                                                                       | 1/799 [00:00<03:06,  4.28it/s]"
     ]
    },
    {
     "name": "stdout",
     "output_type": "stream",
     "text": [
      "EarlyStopping counter: 96 out of 10000\n",
      "Epoch   453: reducing learning rate of group 0 to 1.9467e-04.\n"
     ]
    },
    {
     "name": "stderr",
     "output_type": "stream",
     "text": [
      "Epoch 1: CE 2.338243:  25%|█████████████████████████████████████▋                                                                                                                | 201/799 [00:48<02:21,  4.23it/s]"
     ]
    },
    {
     "name": "stdout",
     "output_type": "stream",
     "text": [
      "EarlyStopping counter: 97 out of 10000\n"
     ]
    },
    {
     "name": "stderr",
     "output_type": "stream",
     "text": [
      "Epoch 1: CE 2.333141:  50%|███████████████████████████████████████████████████████████████████████████▎                                                                          | 401/799 [01:35<01:32,  4.30it/s]"
     ]
    },
    {
     "name": "stdout",
     "output_type": "stream",
     "text": [
      "EarlyStopping counter: 98 out of 10000\n"
     ]
    },
    {
     "name": "stderr",
     "output_type": "stream",
     "text": [
      "Epoch 1: CE 2.331479:  75%|████████████████████████████████████████████████████████████████████████████████████████████████████████████████▊                                     | 601/799 [02:22<00:47,  4.18it/s]"
     ]
    },
    {
     "name": "stdout",
     "output_type": "stream",
     "text": [
      "EarlyStopping counter: 99 out of 10000\n"
     ]
    },
    {
     "name": "stderr",
     "output_type": "stream",
     "text": [
      "Epoch 1: CE 2.329433: 100%|██████████████████████████████████████████████████████████████████████████████████████████████████████████████████████████████████████████████████████| 799/799 [03:08<00:00,  4.23it/s]\n",
      "Epoch 1: CE 2.375250:   0%|▏                                                                                                                                                       | 1/799 [00:00<03:14,  4.10it/s]"
     ]
    },
    {
     "name": "stdout",
     "output_type": "stream",
     "text": [
      "EarlyStopping counter: 100 out of 10000\n"
     ]
    },
    {
     "name": "stderr",
     "output_type": "stream",
     "text": [
      "Epoch 1: CE 2.327961:  25%|█████████████████████████████████████▋                                                                                                                | 201/799 [00:48<02:21,  4.24it/s]"
     ]
    },
    {
     "name": "stdout",
     "output_type": "stream",
     "text": [
      "EarlyStopping counter: 101 out of 10000\n"
     ]
    },
    {
     "name": "stderr",
     "output_type": "stream",
     "text": [
      "Epoch 1: CE 2.331834:  50%|███████████████████████████████████████████████████████████████████████████▎                                                                          | 401/799 [01:35<01:35,  4.15it/s]"
     ]
    },
    {
     "name": "stdout",
     "output_type": "stream",
     "text": [
      "EarlyStopping counter: 102 out of 10000\n",
      "Epoch   459: reducing learning rate of group 0 to 1.8688e-04.\n"
     ]
    },
    {
     "name": "stderr",
     "output_type": "stream",
     "text": [
      "Epoch 1: CE 2.330506:  75%|████████████████████████████████████████████████████████████████████████████████████████████████████████████████▊                                     | 601/799 [02:22<00:45,  4.33it/s]"
     ]
    },
    {
     "name": "stdout",
     "output_type": "stream",
     "text": [
      "EarlyStopping counter: 103 out of 10000\n"
     ]
    },
    {
     "name": "stderr",
     "output_type": "stream",
     "text": [
      "Epoch 1: CE 2.329038: 100%|██████████████████████████████████████████████████████████████████████████████████████████████████████████████████████████████████████████████████████| 799/799 [03:09<00:00,  4.22it/s]\n",
      "Epoch 1: CE 2.409829:   0%|▏                                                                                                                                                       | 1/799 [00:00<03:22,  3.94it/s]"
     ]
    },
    {
     "name": "stdout",
     "output_type": "stream",
     "text": [
      "EarlyStopping counter: 104 out of 10000\n"
     ]
    },
    {
     "name": "stderr",
     "output_type": "stream",
     "text": [
      "Epoch 1: CE 2.330444:  25%|█████████████████████████████████████▋                                                                                                                | 201/799 [00:48<02:25,  4.10it/s]"
     ]
    },
    {
     "name": "stdout",
     "output_type": "stream",
     "text": [
      "EarlyStopping counter: 105 out of 10000\n"
     ]
    },
    {
     "name": "stderr",
     "output_type": "stream",
     "text": [
      "Epoch 1: CE 2.329921:  50%|███████████████████████████████████████████████████████████████████████████▎                                                                          | 401/799 [01:35<01:34,  4.23it/s]"
     ]
    },
    {
     "name": "stdout",
     "output_type": "stream",
     "text": [
      "EarlyStopping counter: 106 out of 10000\n"
     ]
    },
    {
     "name": "stderr",
     "output_type": "stream",
     "text": [
      "Epoch 1: CE 2.328820:  75%|████████████████████████████████████████████████████████████████████████████████████████████████████████████████▊                                     | 601/799 [02:22<00:46,  4.27it/s]"
     ]
    },
    {
     "name": "stdout",
     "output_type": "stream",
     "text": [
      "EarlyStopping counter: 107 out of 10000\n"
     ]
    },
    {
     "name": "stderr",
     "output_type": "stream",
     "text": [
      "Epoch 1: CE 2.327978: 100%|██████████████████████████████████████████████████████████████████████████████████████████████████████████████████████████████████████████████████████| 799/799 [03:09<00:00,  4.22it/s]\n",
      "Epoch 1: CE 2.283404:   0%|▏                                                                                                                                                       | 1/799 [00:00<03:04,  4.32it/s]"
     ]
    },
    {
     "name": "stdout",
     "output_type": "stream",
     "text": [
      "EarlyStopping counter: 108 out of 10000\n",
      "Epoch   465: reducing learning rate of group 0 to 1.7941e-04.\n"
     ]
    },
    {
     "name": "stderr",
     "output_type": "stream",
     "text": [
      "Epoch 1: CE 2.316828:  25%|█████████████████████████████████████▋                                                                                                                | 201/799 [00:48<02:20,  4.26it/s]"
     ]
    },
    {
     "name": "stdout",
     "output_type": "stream",
     "text": [
      "EarlyStopping counter: 109 out of 10000\n"
     ]
    },
    {
     "name": "stderr",
     "output_type": "stream",
     "text": [
      "Epoch 1: CE 2.325273:  50%|███████████████████████████████████████████████████████████████████████████▎                                                                          | 401/799 [01:35<01:36,  4.11it/s]"
     ]
    },
    {
     "name": "stdout",
     "output_type": "stream",
     "text": [
      "EarlyStopping counter: 110 out of 10000\n"
     ]
    },
    {
     "name": "stderr",
     "output_type": "stream",
     "text": [
      "Epoch 1: CE 2.326173:  75%|████████████████████████████████████████████████████████████████████████████████████████████████████████████████▊                                     | 601/799 [02:22<00:47,  4.20it/s]"
     ]
    },
    {
     "name": "stdout",
     "output_type": "stream",
     "text": [
      "EarlyStopping counter: 111 out of 10000\n"
     ]
    },
    {
     "name": "stderr",
     "output_type": "stream",
     "text": [
      "Epoch 1: CE 2.327516: 100%|██████████████████████████████████████████████████████████████████████████████████████████████████████████████████████████████████████████████████████| 799/799 [03:09<00:00,  4.23it/s]\n",
      "Epoch 1: CE 2.218368:   0%|▏                                                                                                                                                       | 1/799 [00:00<03:13,  4.13it/s]"
     ]
    },
    {
     "name": "stdout",
     "output_type": "stream",
     "text": [
      "EarlyStopping counter: 112 out of 10000\n"
     ]
    },
    {
     "name": "stderr",
     "output_type": "stream",
     "text": [
      "Epoch 1: CE 2.326538:  25%|█████████████████████████████████████▋                                                                                                                | 201/799 [00:48<02:25,  4.12it/s]"
     ]
    },
    {
     "name": "stdout",
     "output_type": "stream",
     "text": [
      "EarlyStopping counter: 113 out of 10000\n"
     ]
    },
    {
     "name": "stderr",
     "output_type": "stream",
     "text": [
      "Epoch 1: CE 2.323297:  50%|███████████████████████████████████████████████████████████████████████████▎                                                                          | 401/799 [01:34<01:34,  4.20it/s]"
     ]
    },
    {
     "name": "stdout",
     "output_type": "stream",
     "text": [
      "EarlyStopping counter: 114 out of 10000\n",
      "Epoch   471: reducing learning rate of group 0 to 1.7223e-04.\n"
     ]
    },
    {
     "name": "stderr",
     "output_type": "stream",
     "text": [
      "Epoch 1: CE 2.323702:  75%|████████████████████████████████████████████████████████████████████████████████████████████████████████████████▊                                     | 601/799 [02:21<00:48,  4.11it/s]"
     ]
    },
    {
     "name": "stdout",
     "output_type": "stream",
     "text": [
      "EarlyStopping counter: 115 out of 10000\n"
     ]
    },
    {
     "name": "stderr",
     "output_type": "stream",
     "text": [
      "Epoch 1: CE 2.326924: 100%|██████████████████████████████████████████████████████████████████████████████████████████████████████████████████████████████████████████████████████| 799/799 [03:08<00:00,  4.24it/s]\n",
      "Epoch 1: CE 2.242782:   0%|▏                                                                                                                                                       | 1/799 [00:00<03:07,  4.26it/s]"
     ]
    },
    {
     "name": "stdout",
     "output_type": "stream",
     "text": [
      "EarlyStopping counter: 116 out of 10000\n"
     ]
    },
    {
     "name": "stderr",
     "output_type": "stream",
     "text": [
      "Epoch 1: CE 2.323990:  25%|█████████████████████████████████████▋                                                                                                                | 201/799 [00:48<02:16,  4.38it/s]"
     ]
    },
    {
     "name": "stdout",
     "output_type": "stream",
     "text": [
      "EarlyStopping counter: 117 out of 10000\n"
     ]
    },
    {
     "name": "stderr",
     "output_type": "stream",
     "text": [
      "Epoch 1: CE 2.322199:  50%|███████████████████████████████████████████████████████████████████████████▎                                                                          | 401/799 [01:35<01:32,  4.28it/s]"
     ]
    },
    {
     "name": "stdout",
     "output_type": "stream",
     "text": [
      "EarlyStopping counter: 118 out of 10000\n"
     ]
    },
    {
     "name": "stderr",
     "output_type": "stream",
     "text": [
      "Epoch 1: CE 2.326995:  75%|████████████████████████████████████████████████████████████████████████████████████████████████████████████████▊                                     | 601/799 [02:22<00:46,  4.25it/s]"
     ]
    },
    {
     "name": "stdout",
     "output_type": "stream",
     "text": [
      "EarlyStopping counter: 119 out of 10000\n"
     ]
    },
    {
     "name": "stderr",
     "output_type": "stream",
     "text": [
      "Epoch 1: CE 2.325919: 100%|██████████████████████████████████████████████████████████████████████████████████████████████████████████████████████████████████████████████████████| 799/799 [03:09<00:00,  4.22it/s]\n",
      "Epoch 1: CE 2.299831:   0%|▏                                                                                                                                                       | 1/799 [00:00<03:11,  4.17it/s]"
     ]
    },
    {
     "name": "stdout",
     "output_type": "stream",
     "text": [
      "EarlyStopping counter: 120 out of 10000\n",
      "Epoch   477: reducing learning rate of group 0 to 1.6534e-04.\n"
     ]
    },
    {
     "name": "stderr",
     "output_type": "stream",
     "text": [
      "Epoch 1: CE 2.309687:  25%|█████████████████████████████████████▋                                                                                                                | 201/799 [00:48<02:21,  4.22it/s]"
     ]
    },
    {
     "name": "stdout",
     "output_type": "stream",
     "text": [
      "EarlyStopping counter: 121 out of 10000\n"
     ]
    },
    {
     "name": "stderr",
     "output_type": "stream",
     "text": [
      "Epoch 1: CE 2.316917:  50%|███████████████████████████████████████████████████████████████████████████▎                                                                          | 401/799 [01:35<01:34,  4.21it/s]"
     ]
    },
    {
     "name": "stdout",
     "output_type": "stream",
     "text": [
      "EarlyStopping counter: 122 out of 10000\n"
     ]
    },
    {
     "name": "stderr",
     "output_type": "stream",
     "text": [
      "Epoch 1: CE 2.324115:  75%|████████████████████████████████████████████████████████████████████████████████████████████████████████████████▊                                     | 601/799 [02:22<00:46,  4.30it/s]"
     ]
    },
    {
     "name": "stdout",
     "output_type": "stream",
     "text": [
      "EarlyStopping counter: 123 out of 10000\n"
     ]
    },
    {
     "name": "stderr",
     "output_type": "stream",
     "text": [
      "Epoch 1: CE 2.325638: 100%|██████████████████████████████████████████████████████████████████████████████████████████████████████████████████████████████████████████████████████| 799/799 [03:09<00:00,  4.23it/s]\n",
      "Epoch 1: CE 2.527245:   0%|▏                                                                                                                                                       | 1/799 [00:00<03:30,  3.78it/s]"
     ]
    },
    {
     "name": "stdout",
     "output_type": "stream",
     "text": [
      "EarlyStopping counter: 124 out of 10000\n"
     ]
    },
    {
     "name": "stderr",
     "output_type": "stream",
     "text": [
      "Epoch 1: CE 2.317801:  25%|█████████████████████████████████████▋                                                                                                                | 201/799 [00:47<02:24,  4.13it/s]"
     ]
    },
    {
     "name": "stdout",
     "output_type": "stream",
     "text": [
      "EarlyStopping counter: 125 out of 10000\n"
     ]
    },
    {
     "name": "stderr",
     "output_type": "stream",
     "text": [
      "Epoch 1: CE 2.324604:  50%|███████████████████████████████████████████████████████████████████████████▎                                                                          | 401/799 [01:35<01:31,  4.34it/s]"
     ]
    },
    {
     "name": "stdout",
     "output_type": "stream",
     "text": [
      "EarlyStopping counter: 126 out of 10000\n",
      "Epoch   483: reducing learning rate of group 0 to 1.5873e-04.\n"
     ]
    },
    {
     "name": "stderr",
     "output_type": "stream",
     "text": [
      "Epoch 1: CE 2.325280:  75%|████████████████████████████████████████████████████████████████████████████████████████████████████████████████▊                                     | 601/799 [02:22<00:47,  4.21it/s]"
     ]
    },
    {
     "name": "stdout",
     "output_type": "stream",
     "text": [
      "EarlyStopping counter: 127 out of 10000\n"
     ]
    },
    {
     "name": "stderr",
     "output_type": "stream",
     "text": [
      "Epoch 1: CE 2.325101: 100%|██████████████████████████████████████████████████████████████████████████████████████████████████████████████████████████████████████████████████████| 799/799 [03:09<00:00,  4.23it/s]\n",
      "Epoch 1: CE 2.290930:   0%|▏                                                                                                                                                       | 1/799 [00:00<03:16,  4.05it/s]"
     ]
    },
    {
     "name": "stdout",
     "output_type": "stream",
     "text": [
      "EarlyStopping counter: 128 out of 10000\n"
     ]
    },
    {
     "name": "stderr",
     "output_type": "stream",
     "text": [
      "Epoch 1: CE 2.310412:  25%|█████████████████████████████████████▋                                                                                                                | 201/799 [00:47<02:20,  4.26it/s]"
     ]
    },
    {
     "name": "stdout",
     "output_type": "stream",
     "text": [
      "EarlyStopping counter: 129 out of 10000\n"
     ]
    },
    {
     "name": "stderr",
     "output_type": "stream",
     "text": [
      "Epoch 1: CE 2.315091:  50%|███████████████████████████████████████████████████████████████████████████▎                                                                          | 401/799 [01:35<01:34,  4.22it/s]"
     ]
    },
    {
     "name": "stdout",
     "output_type": "stream",
     "text": [
      "EarlyStopping counter: 130 out of 10000\n"
     ]
    },
    {
     "name": "stderr",
     "output_type": "stream",
     "text": [
      "Epoch 1: CE 2.320966:  75%|████████████████████████████████████████████████████████████████████████████████████████████████████████████████▊                                     | 601/799 [02:22<00:47,  4.19it/s]"
     ]
    },
    {
     "name": "stdout",
     "output_type": "stream",
     "text": [
      "EarlyStopping counter: 131 out of 10000\n"
     ]
    },
    {
     "name": "stderr",
     "output_type": "stream",
     "text": [
      "Epoch 1: CE 2.324483: 100%|██████████████████████████████████████████████████████████████████████████████████████████████████████████████████████████████████████████████████████| 799/799 [03:09<00:00,  4.22it/s]\n",
      "Epoch 1: CE 2.312926:   0%|▏                                                                                                                                                       | 1/799 [00:00<03:05,  4.29it/s]"
     ]
    },
    {
     "name": "stdout",
     "output_type": "stream",
     "text": [
      "EarlyStopping counter: 132 out of 10000\n",
      "Epoch   489: reducing learning rate of group 0 to 1.5238e-04.\n"
     ]
    },
    {
     "name": "stderr",
     "output_type": "stream",
     "text": [
      "Epoch 1: CE 2.323643:  25%|█████████████████████████████████████▋                                                                                                                | 201/799 [00:48<02:17,  4.36it/s]"
     ]
    },
    {
     "name": "stdout",
     "output_type": "stream",
     "text": [
      "EarlyStopping counter: 133 out of 10000\n"
     ]
    },
    {
     "name": "stderr",
     "output_type": "stream",
     "text": [
      "Epoch 1: CE 2.320470:  50%|███████████████████████████████████████████████████████████████████████████▎                                                                          | 401/799 [01:34<01:31,  4.34it/s]"
     ]
    },
    {
     "name": "stdout",
     "output_type": "stream",
     "text": [
      "EarlyStopping counter: 134 out of 10000\n"
     ]
    },
    {
     "name": "stderr",
     "output_type": "stream",
     "text": [
      "Epoch 1: CE 2.323037:  75%|████████████████████████████████████████████████████████████████████████████████████████████████████████████████▊                                     | 601/799 [02:22<00:45,  4.36it/s]"
     ]
    },
    {
     "name": "stdout",
     "output_type": "stream",
     "text": [
      "EarlyStopping counter: 135 out of 10000\n"
     ]
    },
    {
     "name": "stderr",
     "output_type": "stream",
     "text": [
      "Epoch 1: CE 2.323396: 100%|██████████████████████████████████████████████████████████████████████████████████████████████████████████████████████████████████████████████████████| 799/799 [03:08<00:00,  4.23it/s]\n",
      "Epoch 1: CE 2.268286:   0%|▏                                                                                                                                                       | 1/799 [00:00<03:12,  4.15it/s]"
     ]
    },
    {
     "name": "stdout",
     "output_type": "stream",
     "text": [
      "EarlyStopping counter: 136 out of 10000\n"
     ]
    },
    {
     "name": "stderr",
     "output_type": "stream",
     "text": [
      "Epoch 1: CE 2.325102:  25%|█████████████████████████████████████▋                                                                                                                | 201/799 [00:48<02:20,  4.25it/s]"
     ]
    },
    {
     "name": "stdout",
     "output_type": "stream",
     "text": [
      "EarlyStopping counter: 137 out of 10000\n"
     ]
    },
    {
     "name": "stderr",
     "output_type": "stream",
     "text": [
      "Epoch 1: CE 2.323361:  50%|███████████████████████████████████████████████████████████████████████████▎                                                                          | 401/799 [01:35<01:36,  4.13it/s]"
     ]
    },
    {
     "name": "stdout",
     "output_type": "stream",
     "text": [
      "EarlyStopping counter: 138 out of 10000\n",
      "Epoch   495: reducing learning rate of group 0 to 1.4628e-04.\n"
     ]
    },
    {
     "name": "stderr",
     "output_type": "stream",
     "text": [
      "Epoch 1: CE 2.324849:  75%|████████████████████████████████████████████████████████████████████████████████████████████████████████████████▊                                     | 601/799 [02:22<00:46,  4.27it/s]"
     ]
    },
    {
     "name": "stdout",
     "output_type": "stream",
     "text": [
      "EarlyStopping counter: 139 out of 10000\n"
     ]
    },
    {
     "name": "stderr",
     "output_type": "stream",
     "text": [
      "Epoch 1: CE 2.323512: 100%|██████████████████████████████████████████████████████████████████████████████████████████████████████████████████████████████████████████████████████| 799/799 [03:09<00:00,  4.23it/s]\n",
      "Epoch 1: CE 2.330247:  25%|█████████████████████████████████████▋                                                                                                                | 201/799 [00:48<02:19,  4.28it/s]"
     ]
    },
    {
     "name": "stdout",
     "output_type": "stream",
     "text": [
      "EarlyStopping counter: 1 out of 10000\n"
     ]
    },
    {
     "name": "stderr",
     "output_type": "stream",
     "text": [
      "Epoch 1: CE 2.322980:  50%|███████████████████████████████████████████████████████████████████████████▎                                                                          | 401/799 [01:35<01:33,  4.24it/s]"
     ]
    },
    {
     "name": "stdout",
     "output_type": "stream",
     "text": [
      "EarlyStopping counter: 2 out of 10000\n"
     ]
    },
    {
     "name": "stderr",
     "output_type": "stream",
     "text": [
      "Epoch 1: CE 2.322336:  75%|████████████████████████████████████████████████████████████████████████████████████████████████████████████████▊                                     | 601/799 [02:22<00:46,  4.27it/s]"
     ]
    },
    {
     "name": "stdout",
     "output_type": "stream",
     "text": [
      "EarlyStopping counter: 3 out of 10000\n"
     ]
    },
    {
     "name": "stderr",
     "output_type": "stream",
     "text": [
      "Epoch 1: CE 2.322045: 100%|██████████████████████████████████████████████████████████████████████████████████████████████████████████████████████████████████████████████████████| 799/799 [03:08<00:00,  4.24it/s]\n",
      "Epoch 1: CE 2.273430:   0%|▏                                                                                                                                                       | 1/799 [00:00<03:16,  4.05it/s]"
     ]
    },
    {
     "name": "stdout",
     "output_type": "stream",
     "text": [
      "EarlyStopping counter: 4 out of 10000\n"
     ]
    },
    {
     "name": "stderr",
     "output_type": "stream",
     "text": [
      "Epoch 1: CE 2.326175:  25%|█████████████████████████████████████▋                                                                                                                | 201/799 [00:48<02:23,  4.17it/s]"
     ]
    },
    {
     "name": "stdout",
     "output_type": "stream",
     "text": [
      "EarlyStopping counter: 5 out of 10000\n"
     ]
    },
    {
     "name": "stderr",
     "output_type": "stream",
     "text": [
      "Epoch 1: CE 2.320587:  50%|███████████████████████████████████████████████████████████████████████████▎                                                                          | 401/799 [01:35<01:32,  4.30it/s]"
     ]
    },
    {
     "name": "stdout",
     "output_type": "stream",
     "text": [
      "EarlyStopping counter: 6 out of 10000\n",
      "Epoch   503: reducing learning rate of group 0 to 1.4043e-04.\n"
     ]
    },
    {
     "name": "stderr",
     "output_type": "stream",
     "text": [
      "Epoch 1: CE 2.320108:  75%|████████████████████████████████████████████████████████████████████████████████████████████████████████████████▊                                     | 601/799 [02:22<00:46,  4.22it/s]"
     ]
    },
    {
     "name": "stdout",
     "output_type": "stream",
     "text": [
      "EarlyStopping counter: 7 out of 10000\n"
     ]
    },
    {
     "name": "stderr",
     "output_type": "stream",
     "text": [
      "Epoch 1: CE 2.322500: 100%|██████████████████████████████████████████████████████████████████████████████████████████████████████████████████████████████████████████████████████| 799/799 [03:09<00:00,  4.22it/s]\n",
      "Epoch 1: CE 2.266922:   0%|▏                                                                                                                                                       | 1/799 [00:00<03:22,  3.93it/s]"
     ]
    },
    {
     "name": "stdout",
     "output_type": "stream",
     "text": [
      "EarlyStopping counter: 8 out of 10000\n"
     ]
    },
    {
     "name": "stderr",
     "output_type": "stream",
     "text": [
      "Epoch 1: CE 2.327849:  25%|█████████████████████████████████████▋                                                                                                                | 201/799 [00:48<02:21,  4.24it/s]"
     ]
    },
    {
     "name": "stdout",
     "output_type": "stream",
     "text": [
      "EarlyStopping counter: 9 out of 10000\n"
     ]
    },
    {
     "name": "stderr",
     "output_type": "stream",
     "text": [
      "Epoch 1: CE 2.326526:  50%|███████████████████████████████████████████████████████████████████████████▎                                                                          | 401/799 [01:35<01:35,  4.16it/s]"
     ]
    },
    {
     "name": "stdout",
     "output_type": "stream",
     "text": [
      "EarlyStopping counter: 10 out of 10000\n"
     ]
    },
    {
     "name": "stderr",
     "output_type": "stream",
     "text": [
      "Epoch 1: CE 2.319862:  75%|████████████████████████████████████████████████████████████████████████████████████████████████████████████████▊                                     | 601/799 [02:22<00:47,  4.21it/s]"
     ]
    },
    {
     "name": "stdout",
     "output_type": "stream",
     "text": [
      "EarlyStopping counter: 11 out of 10000\n"
     ]
    },
    {
     "name": "stderr",
     "output_type": "stream",
     "text": [
      "Epoch 1: CE 2.321814: 100%|██████████████████████████████████████████████████████████████████████████████████████████████████████████████████████████████████████████████████████| 799/799 [03:08<00:00,  4.24it/s]\n",
      "Epoch 1: CE 2.455157:   0%|▏                                                                                                                                                       | 1/799 [00:00<03:33,  3.74it/s]"
     ]
    },
    {
     "name": "stdout",
     "output_type": "stream",
     "text": [
      "EarlyStopping counter: 12 out of 10000\n",
      "Epoch   509: reducing learning rate of group 0 to 1.3481e-04.\n"
     ]
    },
    {
     "name": "stderr",
     "output_type": "stream",
     "text": [
      "Epoch 1: CE 2.321538:  25%|█████████████████████████████████████▋                                                                                                                | 201/799 [00:48<02:23,  4.16it/s]"
     ]
    },
    {
     "name": "stdout",
     "output_type": "stream",
     "text": [
      "EarlyStopping counter: 13 out of 10000\n"
     ]
    },
    {
     "name": "stderr",
     "output_type": "stream",
     "text": [
      "Epoch 1: CE 2.319640:  50%|███████████████████████████████████████████████████████████████████████████▎                                                                          | 401/799 [01:35<01:33,  4.27it/s]"
     ]
    },
    {
     "name": "stdout",
     "output_type": "stream",
     "text": [
      "EarlyStopping counter: 14 out of 10000\n"
     ]
    },
    {
     "name": "stderr",
     "output_type": "stream",
     "text": [
      "Epoch 1: CE 2.321185:  75%|████████████████████████████████████████████████████████████████████████████████████████████████████████████████▊                                     | 601/799 [02:22<00:45,  4.36it/s]"
     ]
    },
    {
     "name": "stdout",
     "output_type": "stream",
     "text": [
      "EarlyStopping counter: 15 out of 10000\n"
     ]
    },
    {
     "name": "stderr",
     "output_type": "stream",
     "text": [
      "Epoch 1: CE 2.320796: 100%|██████████████████████████████████████████████████████████████████████████████████████████████████████████████████████████████████████████████████████| 799/799 [03:09<00:00,  4.23it/s]\n",
      "Epoch 1: CE 2.230607:   0%|▏                                                                                                                                                       | 1/799 [00:00<03:04,  4.32it/s]"
     ]
    },
    {
     "name": "stdout",
     "output_type": "stream",
     "text": [
      "EarlyStopping counter: 16 out of 10000\n"
     ]
    },
    {
     "name": "stderr",
     "output_type": "stream",
     "text": [
      "Epoch 1: CE 2.316754:  25%|█████████████████████████████████████▋                                                                                                                | 201/799 [00:48<02:21,  4.22it/s]"
     ]
    },
    {
     "name": "stdout",
     "output_type": "stream",
     "text": [
      "EarlyStopping counter: 17 out of 10000\n"
     ]
    },
    {
     "name": "stderr",
     "output_type": "stream",
     "text": [
      "Epoch 1: CE 2.317108:  50%|███████████████████████████████████████████████████████████████████████████▎                                                                          | 401/799 [01:35<01:33,  4.26it/s]"
     ]
    },
    {
     "name": "stdout",
     "output_type": "stream",
     "text": [
      "EarlyStopping counter: 18 out of 10000\n",
      "Epoch   515: reducing learning rate of group 0 to 1.2942e-04.\n"
     ]
    },
    {
     "name": "stderr",
     "output_type": "stream",
     "text": [
      "Epoch 1: CE 2.318448:  75%|████████████████████████████████████████████████████████████████████████████████████████████████████████████████▊                                     | 601/799 [02:22<00:47,  4.21it/s]"
     ]
    },
    {
     "name": "stdout",
     "output_type": "stream",
     "text": [
      "EarlyStopping counter: 19 out of 10000\n"
     ]
    },
    {
     "name": "stderr",
     "output_type": "stream",
     "text": [
      "Epoch 1: CE 2.320667: 100%|██████████████████████████████████████████████████████████████████████████████████████████████████████████████████████████████████████████████████████| 799/799 [03:08<00:00,  4.23it/s]\n",
      "Epoch 1: CE 2.420924:   0%|▏                                                                                                                                                       | 1/799 [00:00<03:22,  3.94it/s]"
     ]
    },
    {
     "name": "stdout",
     "output_type": "stream",
     "text": [
      "EarlyStopping counter: 20 out of 10000\n"
     ]
    },
    {
     "name": "stderr",
     "output_type": "stream",
     "text": [
      "Epoch 1: CE 2.317701:  25%|█████████████████████████████████████▋                                                                                                                | 201/799 [00:47<02:26,  4.09it/s]"
     ]
    },
    {
     "name": "stdout",
     "output_type": "stream",
     "text": [
      "EarlyStopping counter: 21 out of 10000\n"
     ]
    },
    {
     "name": "stderr",
     "output_type": "stream",
     "text": [
      "Epoch 1: CE 2.322662:  50%|███████████████████████████████████████████████████████████████████████████▎                                                                          | 401/799 [01:35<01:35,  4.18it/s]"
     ]
    },
    {
     "name": "stdout",
     "output_type": "stream",
     "text": [
      "EarlyStopping counter: 22 out of 10000\n"
     ]
    },
    {
     "name": "stderr",
     "output_type": "stream",
     "text": [
      "Epoch 1: CE 2.318324:  75%|████████████████████████████████████████████████████████████████████████████████████████████████████████████████▊                                     | 601/799 [02:21<00:45,  4.32it/s]"
     ]
    },
    {
     "name": "stdout",
     "output_type": "stream",
     "text": [
      "EarlyStopping counter: 23 out of 10000\n"
     ]
    },
    {
     "name": "stderr",
     "output_type": "stream",
     "text": [
      "Epoch 1: CE 2.319792: 100%|██████████████████████████████████████████████████████████████████████████████████████████████████████████████████████████████████████████████████████| 799/799 [03:07<00:00,  4.25it/s]\n",
      "Epoch 1: CE 2.210676:   0%|▏                                                                                                                                                       | 1/799 [00:00<03:05,  4.31it/s]"
     ]
    },
    {
     "name": "stdout",
     "output_type": "stream",
     "text": [
      "EarlyStopping counter: 24 out of 10000\n",
      "Epoch   521: reducing learning rate of group 0 to 1.2424e-04.\n"
     ]
    },
    {
     "name": "stderr",
     "output_type": "stream",
     "text": [
      "Epoch 1: CE 2.308333:  25%|█████████████████████████████████████▋                                                                                                                | 201/799 [00:48<02:14,  4.43it/s]"
     ]
    },
    {
     "name": "stdout",
     "output_type": "stream",
     "text": [
      "EarlyStopping counter: 25 out of 10000\n"
     ]
    },
    {
     "name": "stderr",
     "output_type": "stream",
     "text": [
      "Epoch 1: CE 2.311194:  50%|███████████████████████████████████████████████████████████████████████████▎                                                                          | 401/799 [01:35<01:35,  4.18it/s]"
     ]
    },
    {
     "name": "stdout",
     "output_type": "stream",
     "text": [
      "EarlyStopping counter: 26 out of 10000\n"
     ]
    },
    {
     "name": "stderr",
     "output_type": "stream",
     "text": [
      "Epoch 1: CE 2.315703:  75%|████████████████████████████████████████████████████████████████████████████████████████████████████████████████▊                                     | 601/799 [02:22<00:46,  4.25it/s]"
     ]
    },
    {
     "name": "stdout",
     "output_type": "stream",
     "text": [
      "EarlyStopping counter: 27 out of 10000\n"
     ]
    },
    {
     "name": "stderr",
     "output_type": "stream",
     "text": [
      "Epoch 1: CE 2.319343: 100%|██████████████████████████████████████████████████████████████████████████████████████████████████████████████████████████████████████████████████████| 799/799 [03:09<00:00,  4.22it/s]\n",
      "Epoch 1: CE 2.513714:   0%|▏                                                                                                                                                       | 1/799 [00:00<03:17,  4.05it/s]"
     ]
    },
    {
     "name": "stdout",
     "output_type": "stream",
     "text": [
      "EarlyStopping counter: 28 out of 10000\n"
     ]
    },
    {
     "name": "stderr",
     "output_type": "stream",
     "text": [
      "Epoch 1: CE 2.310506:  25%|█████████████████████████████████████▋                                                                                                                | 201/799 [00:48<02:22,  4.19it/s]"
     ]
    },
    {
     "name": "stdout",
     "output_type": "stream",
     "text": [
      "EarlyStopping counter: 29 out of 10000\n"
     ]
    },
    {
     "name": "stderr",
     "output_type": "stream",
     "text": [
      "Epoch 1: CE 2.314661:  50%|███████████████████████████████████████████████████████████████████████████▎                                                                          | 401/799 [01:35<01:33,  4.25it/s]"
     ]
    },
    {
     "name": "stdout",
     "output_type": "stream",
     "text": [
      "EarlyStopping counter: 30 out of 10000\n",
      "Epoch   527: reducing learning rate of group 0 to 1.1927e-04.\n"
     ]
    },
    {
     "name": "stderr",
     "output_type": "stream",
     "text": [
      "Epoch 1: CE 2.317106:  75%|████████████████████████████████████████████████████████████████████████████████████████████████████████████████▊                                     | 601/799 [02:22<00:47,  4.21it/s]"
     ]
    },
    {
     "name": "stdout",
     "output_type": "stream",
     "text": [
      "EarlyStopping counter: 31 out of 10000\n"
     ]
    },
    {
     "name": "stderr",
     "output_type": "stream",
     "text": [
      "Epoch 1: CE 2.319211: 100%|██████████████████████████████████████████████████████████████████████████████████████████████████████████████████████████████████████████████████████| 799/799 [03:09<00:00,  4.22it/s]\n",
      "Epoch 1: CE 2.213980:   0%|▏                                                                                                                                                       | 1/799 [00:00<02:57,  4.48it/s]"
     ]
    },
    {
     "name": "stdout",
     "output_type": "stream",
     "text": [
      "EarlyStopping counter: 32 out of 10000\n"
     ]
    },
    {
     "name": "stderr",
     "output_type": "stream",
     "text": [
      "Epoch 1: CE 2.315175:  25%|█████████████████████████████████████▋                                                                                                                | 201/799 [00:48<02:18,  4.31it/s]"
     ]
    },
    {
     "name": "stdout",
     "output_type": "stream",
     "text": [
      "EarlyStopping counter: 33 out of 10000\n"
     ]
    },
    {
     "name": "stderr",
     "output_type": "stream",
     "text": [
      "Epoch 1: CE 2.317885:  50%|███████████████████████████████████████████████████████████████████████████▎                                                                          | 401/799 [01:35<01:34,  4.21it/s]"
     ]
    },
    {
     "name": "stdout",
     "output_type": "stream",
     "text": [
      "EarlyStopping counter: 34 out of 10000\n"
     ]
    },
    {
     "name": "stderr",
     "output_type": "stream",
     "text": [
      "Epoch 1: CE 2.318690:  75%|████████████████████████████████████████████████████████████████████████████████████████████████████████████████▊                                     | 601/799 [02:22<00:48,  4.11it/s]"
     ]
    },
    {
     "name": "stdout",
     "output_type": "stream",
     "text": [
      "EarlyStopping counter: 35 out of 10000\n"
     ]
    },
    {
     "name": "stderr",
     "output_type": "stream",
     "text": [
      "Epoch 1: CE 2.318950: 100%|██████████████████████████████████████████████████████████████████████████████████████████████████████████████████████████████████████████████████████| 799/799 [03:09<00:00,  4.23it/s]\n",
      "Epoch 1: CE 2.224896:   0%|▏                                                                                                                                                       | 1/799 [00:00<03:04,  4.32it/s]"
     ]
    },
    {
     "name": "stdout",
     "output_type": "stream",
     "text": [
      "EarlyStopping counter: 36 out of 10000\n",
      "Epoch   533: reducing learning rate of group 0 to 1.1450e-04.\n"
     ]
    },
    {
     "name": "stderr",
     "output_type": "stream",
     "text": [
      "Epoch 1: CE 2.312380:  25%|█████████████████████████████████████▋                                                                                                                | 201/799 [00:48<02:21,  4.21it/s]"
     ]
    },
    {
     "name": "stdout",
     "output_type": "stream",
     "text": [
      "EarlyStopping counter: 37 out of 10000\n"
     ]
    },
    {
     "name": "stderr",
     "output_type": "stream",
     "text": [
      "Epoch 1: CE 2.314841:  50%|███████████████████████████████████████████████████████████████████████████▎                                                                          | 401/799 [01:35<01:33,  4.28it/s]"
     ]
    },
    {
     "name": "stdout",
     "output_type": "stream",
     "text": [
      "EarlyStopping counter: 38 out of 10000\n"
     ]
    },
    {
     "name": "stderr",
     "output_type": "stream",
     "text": [
      "Epoch 1: CE 2.317750:  75%|████████████████████████████████████████████████████████████████████████████████████████████████████████████████▊                                     | 601/799 [02:22<00:46,  4.23it/s]"
     ]
    },
    {
     "name": "stdout",
     "output_type": "stream",
     "text": [
      "EarlyStopping counter: 39 out of 10000\n"
     ]
    },
    {
     "name": "stderr",
     "output_type": "stream",
     "text": [
      "Epoch 1: CE 2.318328: 100%|██████████████████████████████████████████████████████████████████████████████████████████████████████████████████████████████████████████████████████| 799/799 [03:09<00:00,  4.23it/s]\n",
      "Epoch 1: CE 2.244674:   0%|▏                                                                                                                                                       | 1/799 [00:00<03:22,  3.94it/s]"
     ]
    },
    {
     "name": "stdout",
     "output_type": "stream",
     "text": [
      "EarlyStopping counter: 40 out of 10000\n"
     ]
    },
    {
     "name": "stderr",
     "output_type": "stream",
     "text": [
      "Epoch 1: CE 2.312780:  25%|█████████████████████████████████████▋                                                                                                                | 201/799 [00:47<02:20,  4.27it/s]"
     ]
    },
    {
     "name": "stdout",
     "output_type": "stream",
     "text": [
      "EarlyStopping counter: 41 out of 10000\n"
     ]
    },
    {
     "name": "stderr",
     "output_type": "stream",
     "text": [
      "Epoch 1: CE 2.312632:  50%|███████████████████████████████████████████████████████████████████████████▎                                                                          | 401/799 [01:34<01:33,  4.27it/s]"
     ]
    },
    {
     "name": "stdout",
     "output_type": "stream",
     "text": [
      "EarlyStopping counter: 42 out of 10000\n",
      "Epoch   539: reducing learning rate of group 0 to 1.0992e-04.\n"
     ]
    },
    {
     "name": "stderr",
     "output_type": "stream",
     "text": [
      "Epoch 1: CE 2.313267:  75%|████████████████████████████████████████████████████████████████████████████████████████████████████████████████▊                                     | 601/799 [02:21<00:45,  4.34it/s]"
     ]
    },
    {
     "name": "stdout",
     "output_type": "stream",
     "text": [
      "EarlyStopping counter: 43 out of 10000\n"
     ]
    },
    {
     "name": "stderr",
     "output_type": "stream",
     "text": [
      "Epoch 1: CE 2.317650: 100%|██████████████████████████████████████████████████████████████████████████████████████████████████████████████████████████████████████████████████████| 799/799 [03:08<00:00,  4.25it/s]\n",
      "Epoch 1: CE 2.308896:   0%|▏                                                                                                                                                       | 1/799 [00:00<03:12,  4.14it/s]"
     ]
    },
    {
     "name": "stdout",
     "output_type": "stream",
     "text": [
      "EarlyStopping counter: 44 out of 10000\n"
     ]
    },
    {
     "name": "stderr",
     "output_type": "stream",
     "text": [
      "Epoch 1: CE 2.313731:  25%|█████████████████████████████████████▋                                                                                                                | 201/799 [00:48<02:23,  4.17it/s]"
     ]
    },
    {
     "name": "stdout",
     "output_type": "stream",
     "text": [
      "EarlyStopping counter: 45 out of 10000\n"
     ]
    },
    {
     "name": "stderr",
     "output_type": "stream",
     "text": [
      "Epoch 1: CE 2.316301:  50%|███████████████████████████████████████████████████████████████████████████▎                                                                          | 401/799 [01:35<01:37,  4.10it/s]"
     ]
    },
    {
     "name": "stdout",
     "output_type": "stream",
     "text": [
      "EarlyStopping counter: 46 out of 10000\n"
     ]
    },
    {
     "name": "stderr",
     "output_type": "stream",
     "text": [
      "Epoch 1: CE 2.318771:  75%|████████████████████████████████████████████████████████████████████████████████████████████████████████████████▊                                     | 601/799 [02:22<00:46,  4.24it/s]"
     ]
    },
    {
     "name": "stdout",
     "output_type": "stream",
     "text": [
      "EarlyStopping counter: 47 out of 10000\n"
     ]
    },
    {
     "name": "stderr",
     "output_type": "stream",
     "text": [
      "Epoch 1: CE 2.317430: 100%|██████████████████████████████████████████████████████████████████████████████████████████████████████████████████████████████████████████████████████| 799/799 [03:09<00:00,  4.22it/s]\n",
      "Epoch 1: CE 2.351156:   0%|▏                                                                                                                                                       | 1/799 [00:00<03:21,  3.96it/s]"
     ]
    },
    {
     "name": "stdout",
     "output_type": "stream",
     "text": [
      "EarlyStopping counter: 48 out of 10000\n",
      "Epoch   545: reducing learning rate of group 0 to 1.0553e-04.\n"
     ]
    },
    {
     "name": "stderr",
     "output_type": "stream",
     "text": [
      "Epoch 1: CE 2.307014:  25%|█████████████████████████████████████▋                                                                                                                | 201/799 [00:47<02:19,  4.30it/s]"
     ]
    },
    {
     "name": "stdout",
     "output_type": "stream",
     "text": [
      "EarlyStopping counter: 49 out of 10000\n"
     ]
    },
    {
     "name": "stderr",
     "output_type": "stream",
     "text": [
      "Epoch 1: CE 2.312823:  50%|███████████████████████████████████████████████████████████████████████████▎                                                                          | 401/799 [01:35<01:34,  4.20it/s]"
     ]
    },
    {
     "name": "stdout",
     "output_type": "stream",
     "text": [
      "EarlyStopping counter: 50 out of 10000\n"
     ]
    },
    {
     "name": "stderr",
     "output_type": "stream",
     "text": [
      "Epoch 1: CE 2.314840:  75%|████████████████████████████████████████████████████████████████████████████████████████████████████████████████▊                                     | 601/799 [02:22<00:46,  4.25it/s]"
     ]
    },
    {
     "name": "stdout",
     "output_type": "stream",
     "text": [
      "EarlyStopping counter: 51 out of 10000\n"
     ]
    },
    {
     "name": "stderr",
     "output_type": "stream",
     "text": [
      "Epoch 1: CE 2.316915: 100%|██████████████████████████████████████████████████████████████████████████████████████████████████████████████████████████████████████████████████████| 799/799 [03:09<00:00,  4.22it/s]\n",
      "Epoch 1: CE 2.363924:   0%|▏                                                                                                                                                       | 1/799 [00:00<03:09,  4.21it/s]"
     ]
    },
    {
     "name": "stdout",
     "output_type": "stream",
     "text": [
      "EarlyStopping counter: 52 out of 10000\n"
     ]
    },
    {
     "name": "stderr",
     "output_type": "stream",
     "text": [
      "Epoch 1: CE 2.309372:  25%|█████████████████████████████████████▋                                                                                                                | 201/799 [00:48<02:19,  4.30it/s]"
     ]
    },
    {
     "name": "stdout",
     "output_type": "stream",
     "text": [
      "EarlyStopping counter: 53 out of 10000\n"
     ]
    },
    {
     "name": "stderr",
     "output_type": "stream",
     "text": [
      "Epoch 1: CE 2.309935:  50%|███████████████████████████████████████████████████████████████████████████▎                                                                          | 401/799 [01:35<01:32,  4.28it/s]"
     ]
    },
    {
     "name": "stdout",
     "output_type": "stream",
     "text": [
      "EarlyStopping counter: 54 out of 10000\n",
      "Epoch   551: reducing learning rate of group 0 to 1.0131e-04.\n"
     ]
    },
    {
     "name": "stderr",
     "output_type": "stream",
     "text": [
      "Epoch 1: CE 2.315021:  75%|████████████████████████████████████████████████████████████████████████████████████████████████████████████████▊                                     | 601/799 [02:22<00:46,  4.30it/s]"
     ]
    },
    {
     "name": "stdout",
     "output_type": "stream",
     "text": [
      "EarlyStopping counter: 55 out of 10000\n"
     ]
    },
    {
     "name": "stderr",
     "output_type": "stream",
     "text": [
      "Epoch 1: CE 2.316386: 100%|██████████████████████████████████████████████████████████████████████████████████████████████████████████████████████████████████████████████████████| 799/799 [03:09<00:00,  4.22it/s]\n",
      "Epoch 1: CE 2.237042:   0%|▏                                                                                                                                                       | 1/799 [00:00<03:25,  3.88it/s]"
     ]
    },
    {
     "name": "stdout",
     "output_type": "stream",
     "text": [
      "EarlyStopping counter: 56 out of 10000\n"
     ]
    },
    {
     "name": "stderr",
     "output_type": "stream",
     "text": [
      "Epoch 1: CE 2.322667:  25%|█████████████████████████████████████▋                                                                                                                | 201/799 [00:48<02:17,  4.34it/s]"
     ]
    },
    {
     "name": "stdout",
     "output_type": "stream",
     "text": [
      "EarlyStopping counter: 57 out of 10000\n"
     ]
    },
    {
     "name": "stderr",
     "output_type": "stream",
     "text": [
      "Epoch 1: CE 2.318645:  50%|███████████████████████████████████████████████████████████████████████████▎                                                                          | 401/799 [01:35<01:33,  4.24it/s]"
     ]
    },
    {
     "name": "stdout",
     "output_type": "stream",
     "text": [
      "EarlyStopping counter: 58 out of 10000\n"
     ]
    },
    {
     "name": "stderr",
     "output_type": "stream",
     "text": [
      "Epoch 1: CE 2.316656:  75%|████████████████████████████████████████████████████████████████████████████████████████████████████████████████▊                                     | 601/799 [02:22<00:45,  4.32it/s]"
     ]
    },
    {
     "name": "stdout",
     "output_type": "stream",
     "text": [
      "EarlyStopping counter: 59 out of 10000\n"
     ]
    },
    {
     "name": "stderr",
     "output_type": "stream",
     "text": [
      "Epoch 1: CE 2.316134: 100%|██████████████████████████████████████████████████████████████████████████████████████████████████████████████████████████████████████████████████████| 799/799 [03:08<00:00,  4.23it/s]\n",
      "Epoch 1: CE 2.196943:   0%|▏                                                                                                                                                       | 1/799 [00:00<03:01,  4.39it/s]"
     ]
    },
    {
     "name": "stdout",
     "output_type": "stream",
     "text": [
      "EarlyStopping counter: 60 out of 10000\n",
      "Epoch   557: reducing learning rate of group 0 to 9.7253e-05.\n"
     ]
    },
    {
     "name": "stderr",
     "output_type": "stream",
     "text": [
      "Epoch 1: CE 2.306900:  25%|█████████████████████████████████████▋                                                                                                                | 201/799 [00:48<02:21,  4.23it/s]"
     ]
    },
    {
     "name": "stdout",
     "output_type": "stream",
     "text": [
      "EarlyStopping counter: 61 out of 10000\n"
     ]
    },
    {
     "name": "stderr",
     "output_type": "stream",
     "text": [
      "Epoch 1: CE 2.307859:  50%|███████████████████████████████████████████████████████████████████████████▎                                                                          | 401/799 [01:35<01:31,  4.36it/s]"
     ]
    },
    {
     "name": "stdout",
     "output_type": "stream",
     "text": [
      "EarlyStopping counter: 62 out of 10000\n"
     ]
    },
    {
     "name": "stderr",
     "output_type": "stream",
     "text": [
      "Epoch 1: CE 2.311173:  75%|████████████████████████████████████████████████████████████████████████████████████████████████████████████████▊                                     | 601/799 [02:22<00:47,  4.18it/s]"
     ]
    },
    {
     "name": "stdout",
     "output_type": "stream",
     "text": [
      "EarlyStopping counter: 63 out of 10000\n"
     ]
    },
    {
     "name": "stderr",
     "output_type": "stream",
     "text": [
      "Epoch 1: CE 2.315942: 100%|██████████████████████████████████████████████████████████████████████████████████████████████████████████████████████████████████████████████████████| 799/799 [03:09<00:00,  4.22it/s]\n",
      "Epoch 1: CE 2.378572:   0%|▏                                                                                                                                                       | 1/799 [00:00<03:26,  3.87it/s]"
     ]
    },
    {
     "name": "stdout",
     "output_type": "stream",
     "text": [
      "EarlyStopping counter: 64 out of 10000\n"
     ]
    },
    {
     "name": "stderr",
     "output_type": "stream",
     "text": [
      "Epoch 1: CE 2.312139:  25%|█████████████████████████████████████▋                                                                                                                | 201/799 [00:48<02:22,  4.21it/s]"
     ]
    },
    {
     "name": "stdout",
     "output_type": "stream",
     "text": [
      "EarlyStopping counter: 65 out of 10000\n"
     ]
    },
    {
     "name": "stderr",
     "output_type": "stream",
     "text": [
      "Epoch 1: CE 2.310184:  50%|███████████████████████████████████████████████████████████████████████████▎                                                                          | 401/799 [01:35<01:34,  4.22it/s]"
     ]
    },
    {
     "name": "stdout",
     "output_type": "stream",
     "text": [
      "EarlyStopping counter: 66 out of 10000\n",
      "Epoch   563: reducing learning rate of group 0 to 9.3363e-05.\n"
     ]
    },
    {
     "name": "stderr",
     "output_type": "stream",
     "text": [
      "Epoch 1: CE 2.315026:  75%|████████████████████████████████████████████████████████████████████████████████████████████████████████████████▊                                     | 601/799 [02:22<00:46,  4.27it/s]"
     ]
    },
    {
     "name": "stdout",
     "output_type": "stream",
     "text": [
      "EarlyStopping counter: 67 out of 10000\n"
     ]
    },
    {
     "name": "stderr",
     "output_type": "stream",
     "text": [
      "Epoch 1: CE 2.315644: 100%|██████████████████████████████████████████████████████████████████████████████████████████████████████████████████████████████████████████████████████| 799/799 [03:09<00:00,  4.22it/s]\n",
      "Epoch 1: CE 2.308389:  25%|█████████████████████████████████████▋                                                                                                                | 201/799 [00:48<02:19,  4.29it/s]"
     ]
    },
    {
     "name": "stdout",
     "output_type": "stream",
     "text": [
      "EarlyStopping counter: 1 out of 10000\n"
     ]
    },
    {
     "name": "stderr",
     "output_type": "stream",
     "text": [
      "Epoch 1: CE 2.311773:  50%|███████████████████████████████████████████████████████████████████████████▎                                                                          | 401/799 [01:35<01:33,  4.24it/s]"
     ]
    },
    {
     "name": "stdout",
     "output_type": "stream",
     "text": [
      "EarlyStopping counter: 2 out of 10000\n"
     ]
    },
    {
     "name": "stderr",
     "output_type": "stream",
     "text": [
      "Epoch 1: CE 2.312588:  75%|████████████████████████████████████████████████████████████████████████████████████████████████████████████████▊                                     | 601/799 [02:22<00:46,  4.23it/s]"
     ]
    },
    {
     "name": "stdout",
     "output_type": "stream",
     "text": [
      "EarlyStopping counter: 3 out of 10000\n"
     ]
    },
    {
     "name": "stderr",
     "output_type": "stream",
     "text": [
      "Epoch 1: CE 2.315069: 100%|██████████████████████████████████████████████████████████████████████████████████████████████████████████████████████████████████████████████████████| 799/799 [03:09<00:00,  4.23it/s]\n",
      "Epoch 1: CE 2.305197:   0%|▏                                                                                                                                                       | 1/799 [00:00<03:15,  4.09it/s]"
     ]
    },
    {
     "name": "stdout",
     "output_type": "stream",
     "text": [
      "EarlyStopping counter: 4 out of 10000\n"
     ]
    },
    {
     "name": "stderr",
     "output_type": "stream",
     "text": [
      "Epoch 1: CE 2.310355:  25%|█████████████████████████████████████▋                                                                                                                | 201/799 [00:47<02:16,  4.39it/s]"
     ]
    },
    {
     "name": "stdout",
     "output_type": "stream",
     "text": [
      "EarlyStopping counter: 5 out of 10000\n"
     ]
    },
    {
     "name": "stderr",
     "output_type": "stream",
     "text": [
      "Epoch 1: CE 2.312443:  50%|███████████████████████████████████████████████████████████████████████████▎                                                                          | 401/799 [01:34<01:33,  4.25it/s]"
     ]
    },
    {
     "name": "stdout",
     "output_type": "stream",
     "text": [
      "EarlyStopping counter: 6 out of 10000\n",
      "Epoch   571: reducing learning rate of group 0 to 8.9629e-05.\n"
     ]
    },
    {
     "name": "stderr",
     "output_type": "stream",
     "text": [
      "Epoch 1: CE 2.313524:  75%|████████████████████████████████████████████████████████████████████████████████████████████████████████████████▊                                     | 601/799 [02:21<00:47,  4.20it/s]"
     ]
    },
    {
     "name": "stdout",
     "output_type": "stream",
     "text": [
      "EarlyStopping counter: 7 out of 10000\n"
     ]
    },
    {
     "name": "stderr",
     "output_type": "stream",
     "text": [
      "Epoch 1: CE 2.314747: 100%|██████████████████████████████████████████████████████████████████████████████████████████████████████████████████████████████████████████████████████| 799/799 [03:08<00:00,  4.24it/s]\n",
      "Epoch 1: CE 2.356067:   0%|▏                                                                                                                                                       | 1/799 [00:00<03:15,  4.08it/s]"
     ]
    },
    {
     "name": "stdout",
     "output_type": "stream",
     "text": [
      "EarlyStopping counter: 8 out of 10000\n"
     ]
    },
    {
     "name": "stderr",
     "output_type": "stream",
     "text": [
      "Epoch 1: CE 2.310429:  25%|█████████████████████████████████████▋                                                                                                                | 201/799 [00:48<02:22,  4.19it/s]"
     ]
    },
    {
     "name": "stdout",
     "output_type": "stream",
     "text": [
      "EarlyStopping counter: 9 out of 10000\n"
     ]
    },
    {
     "name": "stderr",
     "output_type": "stream",
     "text": [
      "Epoch 1: CE 2.314149:  50%|███████████████████████████████████████████████████████████████████████████▎                                                                          | 401/799 [01:34<01:36,  4.11it/s]"
     ]
    },
    {
     "name": "stdout",
     "output_type": "stream",
     "text": [
      "EarlyStopping counter: 10 out of 10000\n"
     ]
    },
    {
     "name": "stderr",
     "output_type": "stream",
     "text": [
      "Epoch 1: CE 2.310241:  75%|████████████████████████████████████████████████████████████████████████████████████████████████████████████████▊                                     | 601/799 [02:22<00:45,  4.38it/s]"
     ]
    },
    {
     "name": "stdout",
     "output_type": "stream",
     "text": [
      "EarlyStopping counter: 11 out of 10000\n"
     ]
    },
    {
     "name": "stderr",
     "output_type": "stream",
     "text": [
      "Epoch 1: CE 2.314539: 100%|██████████████████████████████████████████████████████████████████████████████████████████████████████████████████████████████████████████████████████| 799/799 [03:08<00:00,  4.23it/s]\n",
      "Epoch 1: CE 2.292009:   0%|▏                                                                                                                                                       | 1/799 [00:00<03:03,  4.34it/s]"
     ]
    },
    {
     "name": "stdout",
     "output_type": "stream",
     "text": [
      "EarlyStopping counter: 12 out of 10000\n",
      "Epoch   577: reducing learning rate of group 0 to 8.6044e-05.\n"
     ]
    },
    {
     "name": "stderr",
     "output_type": "stream",
     "text": [
      "Epoch 1: CE 2.322639:  25%|█████████████████████████████████████▋                                                                                                                | 201/799 [00:48<02:20,  4.26it/s]"
     ]
    },
    {
     "name": "stdout",
     "output_type": "stream",
     "text": [
      "EarlyStopping counter: 13 out of 10000\n"
     ]
    },
    {
     "name": "stderr",
     "output_type": "stream",
     "text": [
      "Epoch 1: CE 2.322952:  50%|███████████████████████████████████████████████████████████████████████████▎                                                                          | 401/799 [01:35<01:32,  4.32it/s]"
     ]
    },
    {
     "name": "stdout",
     "output_type": "stream",
     "text": [
      "EarlyStopping counter: 14 out of 10000\n"
     ]
    },
    {
     "name": "stderr",
     "output_type": "stream",
     "text": [
      "Epoch 1: CE 2.315098:  75%|████████████████████████████████████████████████████████████████████████████████████████████████████████████████▊                                     | 601/799 [02:22<00:44,  4.40it/s]"
     ]
    },
    {
     "name": "stdout",
     "output_type": "stream",
     "text": [
      "EarlyStopping counter: 15 out of 10000\n"
     ]
    },
    {
     "name": "stderr",
     "output_type": "stream",
     "text": [
      "Epoch 1: CE 2.313745: 100%|██████████████████████████████████████████████████████████████████████████████████████████████████████████████████████████████████████████████████████| 799/799 [03:08<00:00,  4.23it/s]\n",
      "Epoch 1: CE 2.246454:   0%|▏                                                                                                                                                       | 1/799 [00:00<03:00,  4.43it/s]"
     ]
    },
    {
     "name": "stdout",
     "output_type": "stream",
     "text": [
      "EarlyStopping counter: 16 out of 10000\n"
     ]
    },
    {
     "name": "stderr",
     "output_type": "stream",
     "text": [
      "Epoch 1: CE 2.311273:  25%|█████████████████████████████████████▋                                                                                                                | 201/799 [00:48<02:18,  4.33it/s]"
     ]
    },
    {
     "name": "stdout",
     "output_type": "stream",
     "text": [
      "EarlyStopping counter: 17 out of 10000\n"
     ]
    },
    {
     "name": "stderr",
     "output_type": "stream",
     "text": [
      "Epoch 1: CE 2.312022:  50%|███████████████████████████████████████████████████████████████████████████▎                                                                          | 401/799 [01:35<01:31,  4.36it/s]"
     ]
    },
    {
     "name": "stdout",
     "output_type": "stream",
     "text": [
      "EarlyStopping counter: 18 out of 10000\n",
      "Epoch   583: reducing learning rate of group 0 to 8.2602e-05.\n"
     ]
    },
    {
     "name": "stderr",
     "output_type": "stream",
     "text": [
      "Epoch 1: CE 2.315833:  75%|████████████████████████████████████████████████████████████████████████████████████████████████████████████████▊                                     | 601/799 [02:22<00:44,  4.49it/s]"
     ]
    },
    {
     "name": "stdout",
     "output_type": "stream",
     "text": [
      "EarlyStopping counter: 19 out of 10000\n"
     ]
    },
    {
     "name": "stderr",
     "output_type": "stream",
     "text": [
      "Epoch 1: CE 2.313883: 100%|██████████████████████████████████████████████████████████████████████████████████████████████████████████████████████████████████████████████████████| 799/799 [03:09<00:00,  4.22it/s]\n",
      "Epoch 1: CE 2.249100:   0%|▏                                                                                                                                                       | 1/799 [00:00<03:18,  4.03it/s]"
     ]
    },
    {
     "name": "stdout",
     "output_type": "stream",
     "text": [
      "EarlyStopping counter: 20 out of 10000\n"
     ]
    },
    {
     "name": "stderr",
     "output_type": "stream",
     "text": [
      "Epoch 1: CE 2.307697:  25%|█████████████████████████████████████▋                                                                                                                | 201/799 [00:48<02:17,  4.36it/s]"
     ]
    },
    {
     "name": "stdout",
     "output_type": "stream",
     "text": [
      "EarlyStopping counter: 21 out of 10000\n"
     ]
    },
    {
     "name": "stderr",
     "output_type": "stream",
     "text": [
      "Epoch 1: CE 2.309279:  50%|███████████████████████████████████████████████████████████████████████████▎                                                                          | 401/799 [01:35<01:32,  4.30it/s]"
     ]
    },
    {
     "name": "stdout",
     "output_type": "stream",
     "text": [
      "EarlyStopping counter: 22 out of 10000\n"
     ]
    },
    {
     "name": "stderr",
     "output_type": "stream",
     "text": [
      "Epoch 1: CE 2.312396:  75%|████████████████████████████████████████████████████████████████████████████████████████████████████████████████▊                                     | 601/799 [02:22<00:47,  4.13it/s]"
     ]
    },
    {
     "name": "stdout",
     "output_type": "stream",
     "text": [
      "EarlyStopping counter: 23 out of 10000\n"
     ]
    },
    {
     "name": "stderr",
     "output_type": "stream",
     "text": [
      "Epoch 1: CE 2.313182: 100%|██████████████████████████████████████████████████████████████████████████████████████████████████████████████████████████████████████████████████████| 799/799 [03:09<00:00,  4.22it/s]\n",
      "Epoch 1: CE 2.375671:   0%|▏                                                                                                                                                       | 1/799 [00:00<03:29,  3.81it/s]"
     ]
    },
    {
     "name": "stdout",
     "output_type": "stream",
     "text": [
      "EarlyStopping counter: 24 out of 10000\n",
      "Epoch   589: reducing learning rate of group 0 to 7.9298e-05.\n"
     ]
    },
    {
     "name": "stderr",
     "output_type": "stream",
     "text": [
      "Epoch 1: CE 2.302843:  25%|█████████████████████████████████████▋                                                                                                                | 201/799 [00:48<02:22,  4.20it/s]"
     ]
    },
    {
     "name": "stdout",
     "output_type": "stream",
     "text": [
      "EarlyStopping counter: 25 out of 10000\n"
     ]
    },
    {
     "name": "stderr",
     "output_type": "stream",
     "text": [
      "Epoch 1: CE 2.307123:  50%|███████████████████████████████████████████████████████████████████████████▎                                                                          | 401/799 [01:35<01:34,  4.20it/s]"
     ]
    },
    {
     "name": "stdout",
     "output_type": "stream",
     "text": [
      "EarlyStopping counter: 26 out of 10000\n"
     ]
    },
    {
     "name": "stderr",
     "output_type": "stream",
     "text": [
      "Epoch 1: CE 2.312386:  75%|████████████████████████████████████████████████████████████████████████████████████████████████████████████████▊                                     | 601/799 [02:22<00:46,  4.30it/s]"
     ]
    },
    {
     "name": "stdout",
     "output_type": "stream",
     "text": [
      "EarlyStopping counter: 27 out of 10000\n"
     ]
    },
    {
     "name": "stderr",
     "output_type": "stream",
     "text": [
      "Epoch 1: CE 2.313264: 100%|██████████████████████████████████████████████████████████████████████████████████████████████████████████████████████████████████████████████████████| 799/799 [03:08<00:00,  4.23it/s]\n",
      "Epoch 1: CE 2.364073:   0%|▏                                                                                                                                                       | 1/799 [00:00<03:09,  4.21it/s]"
     ]
    },
    {
     "name": "stdout",
     "output_type": "stream",
     "text": [
      "EarlyStopping counter: 28 out of 10000\n"
     ]
    },
    {
     "name": "stderr",
     "output_type": "stream",
     "text": [
      "Epoch 1: CE 2.306148:  25%|█████████████████████████████████████▋                                                                                                                | 201/799 [00:48<02:17,  4.36it/s]"
     ]
    },
    {
     "name": "stdout",
     "output_type": "stream",
     "text": [
      "EarlyStopping counter: 29 out of 10000\n"
     ]
    },
    {
     "name": "stderr",
     "output_type": "stream",
     "text": [
      "Epoch 1: CE 2.311411:  50%|███████████████████████████████████████████████████████████████████████████▎                                                                          | 401/799 [01:35<01:31,  4.33it/s]"
     ]
    },
    {
     "name": "stdout",
     "output_type": "stream",
     "text": [
      "EarlyStopping counter: 30 out of 10000\n",
      "Epoch   595: reducing learning rate of group 0 to 7.6126e-05.\n"
     ]
    },
    {
     "name": "stderr",
     "output_type": "stream",
     "text": [
      "Epoch 1: CE 2.308993:  75%|████████████████████████████████████████████████████████████████████████████████████████████████████████████████▊                                     | 601/799 [02:22<00:46,  4.27it/s]"
     ]
    },
    {
     "name": "stdout",
     "output_type": "stream",
     "text": [
      "EarlyStopping counter: 31 out of 10000\n"
     ]
    },
    {
     "name": "stderr",
     "output_type": "stream",
     "text": [
      "Epoch 1: CE 2.312350: 100%|██████████████████████████████████████████████████████████████████████████████████████████████████████████████████████████████████████████████████████| 799/799 [03:09<00:00,  4.22it/s]\n",
      "Epoch 1: CE 2.608052:   0%|▏                                                                                                                                                       | 1/799 [00:00<03:24,  3.91it/s]"
     ]
    },
    {
     "name": "stdout",
     "output_type": "stream",
     "text": [
      "EarlyStopping counter: 32 out of 10000\n"
     ]
    },
    {
     "name": "stderr",
     "output_type": "stream",
     "text": [
      "Epoch 1: CE 2.307015:  25%|█████████████████████████████████████▋                                                                                                                | 201/799 [00:48<02:18,  4.32it/s]"
     ]
    },
    {
     "name": "stdout",
     "output_type": "stream",
     "text": [
      "EarlyStopping counter: 33 out of 10000\n"
     ]
    },
    {
     "name": "stderr",
     "output_type": "stream",
     "text": [
      "Epoch 1: CE 2.315425:  50%|███████████████████████████████████████████████████████████████████████████▎                                                                          | 401/799 [01:35<01:31,  4.37it/s]"
     ]
    },
    {
     "name": "stdout",
     "output_type": "stream",
     "text": [
      "EarlyStopping counter: 34 out of 10000\n"
     ]
    },
    {
     "name": "stderr",
     "output_type": "stream",
     "text": [
      "Epoch 1: CE 2.313458:  75%|████████████████████████████████████████████████████████████████████████████████████████████████████████████████▊                                     | 601/799 [02:22<00:45,  4.38it/s]"
     ]
    },
    {
     "name": "stdout",
     "output_type": "stream",
     "text": [
      "EarlyStopping counter: 35 out of 10000\n"
     ]
    },
    {
     "name": "stderr",
     "output_type": "stream",
     "text": [
      "Epoch 1: CE 2.312450: 100%|██████████████████████████████████████████████████████████████████████████████████████████████████████████████████████████████████████████████████████| 799/799 [03:08<00:00,  4.23it/s]\n",
      "Epoch 1: CE 2.404522:   0%|▏                                                                                                                                                       | 1/799 [00:00<03:09,  4.22it/s]"
     ]
    },
    {
     "name": "stdout",
     "output_type": "stream",
     "text": [
      "EarlyStopping counter: 36 out of 10000\n",
      "Epoch   601: reducing learning rate of group 0 to 7.3081e-05.\n"
     ]
    },
    {
     "name": "stderr",
     "output_type": "stream",
     "text": [
      "Epoch 1: CE 2.308737:  25%|█████████████████████████████████████▋                                                                                                                | 201/799 [00:47<02:15,  4.41it/s]"
     ]
    },
    {
     "name": "stdout",
     "output_type": "stream",
     "text": [
      "EarlyStopping counter: 37 out of 10000\n"
     ]
    },
    {
     "name": "stderr",
     "output_type": "stream",
     "text": [
      "Epoch 1: CE 2.312282:  50%|███████████████████████████████████████████████████████████████████████████▎                                                                          | 401/799 [01:35<01:30,  4.38it/s]"
     ]
    },
    {
     "name": "stdout",
     "output_type": "stream",
     "text": [
      "EarlyStopping counter: 38 out of 10000\n"
     ]
    },
    {
     "name": "stderr",
     "output_type": "stream",
     "text": [
      "Epoch 1: CE 2.310664:  75%|████████████████████████████████████████████████████████████████████████████████████████████████████████████████▊                                     | 601/799 [02:22<00:49,  4.03it/s]"
     ]
    },
    {
     "name": "stdout",
     "output_type": "stream",
     "text": [
      "EarlyStopping counter: 39 out of 10000\n"
     ]
    },
    {
     "name": "stderr",
     "output_type": "stream",
     "text": [
      "Epoch 1: CE 2.312150: 100%|██████████████████████████████████████████████████████████████████████████████████████████████████████████████████████████████████████████████████████| 799/799 [03:08<00:00,  4.23it/s]\n",
      "Epoch 1: CE 2.424693:   0%|▏                                                                                                                                                       | 1/799 [00:00<03:24,  3.90it/s]"
     ]
    },
    {
     "name": "stdout",
     "output_type": "stream",
     "text": [
      "EarlyStopping counter: 40 out of 10000\n"
     ]
    },
    {
     "name": "stderr",
     "output_type": "stream",
     "text": [
      "Epoch 1: CE 2.292199:  25%|█████████████████████████████████████▋                                                                                                                | 201/799 [00:48<02:19,  4.29it/s]"
     ]
    },
    {
     "name": "stdout",
     "output_type": "stream",
     "text": [
      "EarlyStopping counter: 41 out of 10000\n"
     ]
    },
    {
     "name": "stderr",
     "output_type": "stream",
     "text": [
      "Epoch 1: CE 2.302738:  50%|███████████████████████████████████████████████████████████████████████████▎                                                                          | 401/799 [01:35<01:34,  4.19it/s]"
     ]
    },
    {
     "name": "stdout",
     "output_type": "stream",
     "text": [
      "EarlyStopping counter: 42 out of 10000\n",
      "Epoch   607: reducing learning rate of group 0 to 7.0158e-05.\n"
     ]
    },
    {
     "name": "stderr",
     "output_type": "stream",
     "text": [
      "Epoch 1: CE 2.306875:  75%|████████████████████████████████████████████████████████████████████████████████████████████████████████████████▊                                     | 601/799 [02:22<00:45,  4.32it/s]"
     ]
    },
    {
     "name": "stdout",
     "output_type": "stream",
     "text": [
      "EarlyStopping counter: 43 out of 10000\n"
     ]
    },
    {
     "name": "stderr",
     "output_type": "stream",
     "text": [
      "Epoch 1: CE 2.312005: 100%|██████████████████████████████████████████████████████████████████████████████████████████████████████████████████████████████████████████████████████| 799/799 [03:08<00:00,  4.23it/s]\n",
      "Epoch 1: CE 2.226377:   0%|▏                                                                                                                                                       | 1/799 [00:00<03:05,  4.30it/s]"
     ]
    },
    {
     "name": "stdout",
     "output_type": "stream",
     "text": [
      "EarlyStopping counter: 44 out of 10000\n"
     ]
    },
    {
     "name": "stderr",
     "output_type": "stream",
     "text": [
      "Epoch 1: CE 2.306761:  25%|█████████████████████████████████████▋                                                                                                                | 201/799 [00:48<02:20,  4.27it/s]"
     ]
    },
    {
     "name": "stdout",
     "output_type": "stream",
     "text": [
      "EarlyStopping counter: 45 out of 10000\n"
     ]
    },
    {
     "name": "stderr",
     "output_type": "stream",
     "text": [
      "Epoch 1: CE 2.308675:  50%|███████████████████████████████████████████████████████████████████████████▎                                                                          | 401/799 [01:35<01:36,  4.10it/s]"
     ]
    },
    {
     "name": "stdout",
     "output_type": "stream",
     "text": [
      "EarlyStopping counter: 46 out of 10000\n"
     ]
    },
    {
     "name": "stderr",
     "output_type": "stream",
     "text": [
      "Epoch 1: CE 2.311501:  75%|████████████████████████████████████████████████████████████████████████████████████████████████████████████████▊                                     | 601/799 [02:22<00:47,  4.19it/s]"
     ]
    },
    {
     "name": "stdout",
     "output_type": "stream",
     "text": [
      "EarlyStopping counter: 47 out of 10000\n"
     ]
    },
    {
     "name": "stderr",
     "output_type": "stream",
     "text": [
      "Epoch 1: CE 2.311731: 100%|██████████████████████████████████████████████████████████████████████████████████████████████████████████████████████████████████████████████████████| 799/799 [03:09<00:00,  4.21it/s]\n",
      "Epoch 1: CE 2.217285:   0%|▏                                                                                                                                                       | 1/799 [00:00<03:10,  4.20it/s]"
     ]
    },
    {
     "name": "stdout",
     "output_type": "stream",
     "text": [
      "EarlyStopping counter: 48 out of 10000\n",
      "Epoch   613: reducing learning rate of group 0 to 6.7351e-05.\n"
     ]
    },
    {
     "name": "stderr",
     "output_type": "stream",
     "text": [
      "Epoch 1: CE 2.315449:  25%|█████████████████████████████████████▋                                                                                                                | 201/799 [00:48<02:20,  4.26it/s]"
     ]
    },
    {
     "name": "stdout",
     "output_type": "stream",
     "text": [
      "EarlyStopping counter: 49 out of 10000\n"
     ]
    },
    {
     "name": "stderr",
     "output_type": "stream",
     "text": [
      "Epoch 1: CE 2.311171:  50%|███████████████████████████████████████████████████████████████████████████▎                                                                          | 401/799 [01:35<01:30,  4.38it/s]"
     ]
    },
    {
     "name": "stdout",
     "output_type": "stream",
     "text": [
      "EarlyStopping counter: 50 out of 10000\n"
     ]
    },
    {
     "name": "stderr",
     "output_type": "stream",
     "text": [
      "Epoch 1: CE 2.314290:  75%|████████████████████████████████████████████████████████████████████████████████████████████████████████████████▊                                     | 601/799 [02:22<00:47,  4.20it/s]"
     ]
    },
    {
     "name": "stdout",
     "output_type": "stream",
     "text": [
      "EarlyStopping counter: 51 out of 10000\n"
     ]
    },
    {
     "name": "stderr",
     "output_type": "stream",
     "text": [
      "Epoch 1: CE 2.310987: 100%|██████████████████████████████████████████████████████████████████████████████████████████████████████████████████████████████████████████████████████| 799/799 [03:09<00:00,  4.22it/s]\n",
      "Epoch 1: CE 2.318877:  25%|█████████████████████████████████████▋                                                                                                                | 201/799 [00:48<02:23,  4.17it/s]"
     ]
    },
    {
     "name": "stdout",
     "output_type": "stream",
     "text": [
      "EarlyStopping counter: 1 out of 10000\n"
     ]
    },
    {
     "name": "stderr",
     "output_type": "stream",
     "text": [
      "Epoch 1: CE 2.313198:  50%|███████████████████████████████████████████████████████████████████████████▎                                                                          | 401/799 [01:35<01:32,  4.31it/s]"
     ]
    },
    {
     "name": "stdout",
     "output_type": "stream",
     "text": [
      "EarlyStopping counter: 2 out of 10000\n"
     ]
    },
    {
     "name": "stderr",
     "output_type": "stream",
     "text": [
      "Epoch 1: CE 2.313836:  75%|████████████████████████████████████████████████████████████████████████████████████████████████████████████████▊                                     | 601/799 [02:23<00:46,  4.28it/s]"
     ]
    },
    {
     "name": "stdout",
     "output_type": "stream",
     "text": [
      "EarlyStopping counter: 3 out of 10000\n"
     ]
    },
    {
     "name": "stderr",
     "output_type": "stream",
     "text": [
      "Epoch 1: CE 2.311284: 100%|██████████████████████████████████████████████████████████████████████████████████████████████████████████████████████████████████████████████████████| 799/799 [03:09<00:00,  4.22it/s]\n",
      "Epoch 1: CE 2.341431:   0%|▏                                                                                                                                                       | 1/799 [00:00<03:18,  4.02it/s]"
     ]
    },
    {
     "name": "stdout",
     "output_type": "stream",
     "text": [
      "EarlyStopping counter: 4 out of 10000\n"
     ]
    },
    {
     "name": "stderr",
     "output_type": "stream",
     "text": [
      "Epoch 1: CE 2.307037:  25%|█████████████████████████████████████▋                                                                                                                | 201/799 [00:48<02:22,  4.19it/s]"
     ]
    },
    {
     "name": "stdout",
     "output_type": "stream",
     "text": [
      "EarlyStopping counter: 5 out of 10000\n"
     ]
    },
    {
     "name": "stderr",
     "output_type": "stream",
     "text": [
      "Epoch 1: CE 2.305536:  50%|███████████████████████████████████████████████████████████████████████████▎                                                                          | 401/799 [01:34<01:32,  4.31it/s]"
     ]
    },
    {
     "name": "stdout",
     "output_type": "stream",
     "text": [
      "EarlyStopping counter: 6 out of 10000\n",
      "Epoch   623: reducing learning rate of group 0 to 6.4657e-05.\n"
     ]
    },
    {
     "name": "stderr",
     "output_type": "stream",
     "text": [
      "Epoch 1: CE 2.312215:  75%|████████████████████████████████████████████████████████████████████████████████████████████████████████████████▊                                     | 601/799 [02:22<00:47,  4.14it/s]"
     ]
    },
    {
     "name": "stdout",
     "output_type": "stream",
     "text": [
      "EarlyStopping counter: 7 out of 10000\n"
     ]
    },
    {
     "name": "stderr",
     "output_type": "stream",
     "text": [
      "Epoch 1: CE 2.310938: 100%|██████████████████████████████████████████████████████████████████████████████████████████████████████████████████████████████████████████████████████| 799/799 [03:09<00:00,  4.22it/s]\n",
      "Epoch 1: CE 2.220571:   0%|▏                                                                                                                                                       | 1/799 [00:00<03:11,  4.17it/s]"
     ]
    },
    {
     "name": "stdout",
     "output_type": "stream",
     "text": [
      "EarlyStopping counter: 8 out of 10000\n"
     ]
    },
    {
     "name": "stderr",
     "output_type": "stream",
     "text": [
      "Epoch 1: CE 2.306581:  25%|█████████████████████████████████████▋                                                                                                                | 201/799 [00:48<02:24,  4.14it/s]"
     ]
    },
    {
     "name": "stdout",
     "output_type": "stream",
     "text": [
      "EarlyStopping counter: 9 out of 10000\n"
     ]
    },
    {
     "name": "stderr",
     "output_type": "stream",
     "text": [
      "Epoch 1: CE 2.309078:  50%|███████████████████████████████████████████████████████████████████████████▎                                                                          | 401/799 [01:35<01:36,  4.14it/s]"
     ]
    },
    {
     "name": "stdout",
     "output_type": "stream",
     "text": [
      "EarlyStopping counter: 10 out of 10000\n"
     ]
    },
    {
     "name": "stderr",
     "output_type": "stream",
     "text": [
      "Epoch 1: CE 2.310396:  75%|████████████████████████████████████████████████████████████████████████████████████████████████████████████████▊                                     | 601/799 [02:22<00:45,  4.34it/s]"
     ]
    },
    {
     "name": "stdout",
     "output_type": "stream",
     "text": [
      "EarlyStopping counter: 11 out of 10000\n"
     ]
    },
    {
     "name": "stderr",
     "output_type": "stream",
     "text": [
      "Epoch 1: CE 2.310727: 100%|██████████████████████████████████████████████████████████████████████████████████████████████████████████████████████████████████████████████████████| 799/799 [03:09<00:00,  4.23it/s]\n",
      "Epoch 1: CE 2.179449:   0%|▏                                                                                                                                                       | 1/799 [00:00<03:11,  4.17it/s]"
     ]
    },
    {
     "name": "stdout",
     "output_type": "stream",
     "text": [
      "EarlyStopping counter: 12 out of 10000\n",
      "Epoch   629: reducing learning rate of group 0 to 6.2071e-05.\n"
     ]
    },
    {
     "name": "stderr",
     "output_type": "stream",
     "text": [
      "Epoch 1: CE 2.316198:  25%|█████████████████████████████████████▋                                                                                                                | 201/799 [00:48<02:20,  4.25it/s]"
     ]
    },
    {
     "name": "stdout",
     "output_type": "stream",
     "text": [
      "EarlyStopping counter: 13 out of 10000\n"
     ]
    },
    {
     "name": "stderr",
     "output_type": "stream",
     "text": [
      "Epoch 1: CE 2.309872:  50%|███████████████████████████████████████████████████████████████████████████▎                                                                          | 401/799 [01:35<01:33,  4.25it/s]"
     ]
    },
    {
     "name": "stdout",
     "output_type": "stream",
     "text": [
      "EarlyStopping counter: 14 out of 10000\n"
     ]
    },
    {
     "name": "stderr",
     "output_type": "stream",
     "text": [
      "Epoch 1: CE 2.311159:  75%|████████████████████████████████████████████████████████████████████████████████████████████████████████████████▊                                     | 601/799 [02:22<00:47,  4.13it/s]"
     ]
    },
    {
     "name": "stdout",
     "output_type": "stream",
     "text": [
      "EarlyStopping counter: 15 out of 10000\n"
     ]
    },
    {
     "name": "stderr",
     "output_type": "stream",
     "text": [
      "Epoch 1: CE 2.310318: 100%|██████████████████████████████████████████████████████████████████████████████████████████████████████████████████████████████████████████████████████| 799/799 [03:09<00:00,  4.22it/s]\n",
      "Epoch 1: CE 2.275145:   0%|▏                                                                                                                                                       | 1/799 [00:00<03:13,  4.12it/s]"
     ]
    },
    {
     "name": "stdout",
     "output_type": "stream",
     "text": [
      "EarlyStopping counter: 16 out of 10000\n"
     ]
    },
    {
     "name": "stderr",
     "output_type": "stream",
     "text": [
      "Epoch 1: CE 2.308929:  25%|█████████████████████████████████████▋                                                                                                                | 201/799 [00:48<02:20,  4.26it/s]"
     ]
    },
    {
     "name": "stdout",
     "output_type": "stream",
     "text": [
      "EarlyStopping counter: 17 out of 10000\n"
     ]
    },
    {
     "name": "stderr",
     "output_type": "stream",
     "text": [
      "Epoch 1: CE 2.314920:  50%|███████████████████████████████████████████████████████████████████████████▎                                                                          | 401/799 [01:35<01:35,  4.17it/s]"
     ]
    },
    {
     "name": "stdout",
     "output_type": "stream",
     "text": [
      "EarlyStopping counter: 18 out of 10000\n",
      "Epoch   635: reducing learning rate of group 0 to 5.9588e-05.\n"
     ]
    },
    {
     "name": "stderr",
     "output_type": "stream",
     "text": [
      "Epoch 1: CE 2.309937:  75%|████████████████████████████████████████████████████████████████████████████████████████████████████████████████▊                                     | 601/799 [02:22<00:48,  4.05it/s]"
     ]
    },
    {
     "name": "stdout",
     "output_type": "stream",
     "text": [
      "EarlyStopping counter: 19 out of 10000\n"
     ]
    },
    {
     "name": "stderr",
     "output_type": "stream",
     "text": [
      "Epoch 1: CE 2.309634: 100%|██████████████████████████████████████████████████████████████████████████████████████████████████████████████████████████████████████████████████████| 799/799 [03:08<00:00,  4.24it/s]\n",
      "Epoch 1: CE 2.415384:   0%|▏                                                                                                                                                       | 1/799 [00:00<03:30,  3.80it/s]"
     ]
    },
    {
     "name": "stdout",
     "output_type": "stream",
     "text": [
      "EarlyStopping counter: 20 out of 10000\n"
     ]
    },
    {
     "name": "stderr",
     "output_type": "stream",
     "text": [
      "Epoch 1: CE 2.314445:  25%|█████████████████████████████████████▋                                                                                                                | 201/799 [00:48<02:19,  4.28it/s]"
     ]
    },
    {
     "name": "stdout",
     "output_type": "stream",
     "text": [
      "EarlyStopping counter: 21 out of 10000\n"
     ]
    },
    {
     "name": "stderr",
     "output_type": "stream",
     "text": [
      "Epoch 1: CE 2.310052:  50%|███████████████████████████████████████████████████████████████████████████▎                                                                          | 401/799 [01:35<01:34,  4.22it/s]"
     ]
    },
    {
     "name": "stdout",
     "output_type": "stream",
     "text": [
      "EarlyStopping counter: 22 out of 10000\n"
     ]
    },
    {
     "name": "stderr",
     "output_type": "stream",
     "text": [
      "Epoch 1: CE 2.310605:  75%|████████████████████████████████████████████████████████████████████████████████████████████████████████████████▊                                     | 601/799 [02:23<00:48,  4.08it/s]"
     ]
    },
    {
     "name": "stdout",
     "output_type": "stream",
     "text": [
      "EarlyStopping counter: 23 out of 10000\n"
     ]
    },
    {
     "name": "stderr",
     "output_type": "stream",
     "text": [
      "Epoch 1: CE 2.309910: 100%|██████████████████████████████████████████████████████████████████████████████████████████████████████████████████████████████████████████████████████| 799/799 [03:09<00:00,  4.21it/s]\n",
      "Epoch 1: CE 2.250541:   0%|▏                                                                                                                                                       | 1/799 [00:00<03:09,  4.21it/s]"
     ]
    },
    {
     "name": "stdout",
     "output_type": "stream",
     "text": [
      "EarlyStopping counter: 24 out of 10000\n",
      "Epoch   641: reducing learning rate of group 0 to 5.7205e-05.\n"
     ]
    },
    {
     "name": "stderr",
     "output_type": "stream",
     "text": [
      "Epoch 1: CE 2.313291:  25%|█████████████████████████████████████▋                                                                                                                | 201/799 [00:48<02:21,  4.23it/s]"
     ]
    },
    {
     "name": "stdout",
     "output_type": "stream",
     "text": [
      "EarlyStopping counter: 25 out of 10000\n"
     ]
    },
    {
     "name": "stderr",
     "output_type": "stream",
     "text": [
      "Epoch 1: CE 2.306083:  50%|███████████████████████████████████████████████████████████████████████████▎                                                                          | 401/799 [01:35<01:33,  4.27it/s]"
     ]
    },
    {
     "name": "stdout",
     "output_type": "stream",
     "text": [
      "EarlyStopping counter: 26 out of 10000\n"
     ]
    },
    {
     "name": "stderr",
     "output_type": "stream",
     "text": [
      "Epoch 1: CE 2.307834:  75%|████████████████████████████████████████████████████████████████████████████████████████████████████████████████▊                                     | 601/799 [02:22<00:47,  4.14it/s]"
     ]
    },
    {
     "name": "stdout",
     "output_type": "stream",
     "text": [
      "EarlyStopping counter: 27 out of 10000\n"
     ]
    },
    {
     "name": "stderr",
     "output_type": "stream",
     "text": [
      "Epoch 1: CE 2.309503: 100%|██████████████████████████████████████████████████████████████████████████████████████████████████████████████████████████████████████████████████████| 799/799 [03:09<00:00,  4.22it/s]\n",
      "Epoch 1: CE 2.292566:   0%|▏                                                                                                                                                       | 1/799 [00:00<03:13,  4.11it/s]"
     ]
    },
    {
     "name": "stdout",
     "output_type": "stream",
     "text": [
      "EarlyStopping counter: 28 out of 10000\n"
     ]
    },
    {
     "name": "stderr",
     "output_type": "stream",
     "text": [
      "Epoch 1: CE 2.307765:  25%|█████████████████████████████████████▋                                                                                                                | 201/799 [00:47<02:18,  4.32it/s]"
     ]
    },
    {
     "name": "stdout",
     "output_type": "stream",
     "text": [
      "EarlyStopping counter: 29 out of 10000\n"
     ]
    },
    {
     "name": "stderr",
     "output_type": "stream",
     "text": [
      "Epoch 1: CE 2.309061:  50%|███████████████████████████████████████████████████████████████████████████▎                                                                          | 401/799 [01:35<01:34,  4.21it/s]"
     ]
    },
    {
     "name": "stdout",
     "output_type": "stream",
     "text": [
      "EarlyStopping counter: 30 out of 10000\n",
      "Epoch   647: reducing learning rate of group 0 to 5.4916e-05.\n"
     ]
    },
    {
     "name": "stderr",
     "output_type": "stream",
     "text": [
      "Epoch 1: CE 2.311108:  75%|████████████████████████████████████████████████████████████████████████████████████████████████████████████████▊                                     | 601/799 [02:22<00:46,  4.30it/s]"
     ]
    },
    {
     "name": "stdout",
     "output_type": "stream",
     "text": [
      "EarlyStopping counter: 31 out of 10000\n"
     ]
    },
    {
     "name": "stderr",
     "output_type": "stream",
     "text": [
      "Epoch 1: CE 2.309184: 100%|██████████████████████████████████████████████████████████████████████████████████████████████████████████████████████████████████████████████████████| 799/799 [03:08<00:00,  4.23it/s]\n",
      "Epoch 1: CE 2.294325:   0%|▏                                                                                                                                                       | 1/799 [00:00<03:27,  3.84it/s]"
     ]
    },
    {
     "name": "stdout",
     "output_type": "stream",
     "text": [
      "EarlyStopping counter: 32 out of 10000\n"
     ]
    },
    {
     "name": "stderr",
     "output_type": "stream",
     "text": [
      "Epoch 1: CE 2.314796:  25%|█████████████████████████████████████▋                                                                                                                | 201/799 [00:48<02:20,  4.25it/s]"
     ]
    },
    {
     "name": "stdout",
     "output_type": "stream",
     "text": [
      "EarlyStopping counter: 33 out of 10000\n"
     ]
    },
    {
     "name": "stderr",
     "output_type": "stream",
     "text": [
      "Epoch 1: CE 2.304571:  50%|███████████████████████████████████████████████████████████████████████████▎                                                                          | 401/799 [01:35<01:30,  4.42it/s]"
     ]
    },
    {
     "name": "stdout",
     "output_type": "stream",
     "text": [
      "EarlyStopping counter: 34 out of 10000\n"
     ]
    },
    {
     "name": "stderr",
     "output_type": "stream",
     "text": [
      "Epoch 1: CE 2.306645:  75%|████████████████████████████████████████████████████████████████████████████████████████████████████████████████▊                                     | 601/799 [02:22<00:46,  4.23it/s]"
     ]
    },
    {
     "name": "stdout",
     "output_type": "stream",
     "text": [
      "EarlyStopping counter: 35 out of 10000\n"
     ]
    },
    {
     "name": "stderr",
     "output_type": "stream",
     "text": [
      "Epoch 1: CE 2.309470: 100%|██████████████████████████████████████████████████████████████████████████████████████████████████████████████████████████████████████████████████████| 799/799 [03:09<00:00,  4.22it/s]\n",
      "Epoch 1: CE 2.554055:   0%|▏                                                                                                                                                       | 1/799 [00:00<03:27,  3.84it/s]"
     ]
    },
    {
     "name": "stdout",
     "output_type": "stream",
     "text": [
      "EarlyStopping counter: 36 out of 10000\n",
      "Epoch   653: reducing learning rate of group 0 to 5.2720e-05.\n"
     ]
    },
    {
     "name": "stderr",
     "output_type": "stream",
     "text": [
      "Epoch 1: CE 2.303732:  25%|█████████████████████████████████████▋                                                                                                                | 201/799 [00:48<02:23,  4.16it/s]"
     ]
    },
    {
     "name": "stdout",
     "output_type": "stream",
     "text": [
      "EarlyStopping counter: 37 out of 10000\n"
     ]
    },
    {
     "name": "stderr",
     "output_type": "stream",
     "text": [
      "Epoch 1: CE 2.307801:  50%|███████████████████████████████████████████████████████████████████████████▎                                                                          | 401/799 [01:35<01:33,  4.25it/s]"
     ]
    },
    {
     "name": "stdout",
     "output_type": "stream",
     "text": [
      "EarlyStopping counter: 38 out of 10000\n"
     ]
    },
    {
     "name": "stderr",
     "output_type": "stream",
     "text": [
      "Epoch 1: CE 2.308946:  75%|████████████████████████████████████████████████████████████████████████████████████████████████████████████████▊                                     | 601/799 [02:23<00:46,  4.27it/s]"
     ]
    },
    {
     "name": "stdout",
     "output_type": "stream",
     "text": [
      "EarlyStopping counter: 39 out of 10000\n"
     ]
    },
    {
     "name": "stderr",
     "output_type": "stream",
     "text": [
      "Epoch 1: CE 2.308896: 100%|██████████████████████████████████████████████████████████████████████████████████████████████████████████████████████████████████████████████████████| 799/799 [03:09<00:00,  4.21it/s]\n",
      "Epoch 1: CE 2.394031:   0%|▏                                                                                                                                                       | 1/799 [00:00<03:17,  4.04it/s]"
     ]
    },
    {
     "name": "stdout",
     "output_type": "stream",
     "text": [
      "EarlyStopping counter: 40 out of 10000\n"
     ]
    },
    {
     "name": "stderr",
     "output_type": "stream",
     "text": [
      "Epoch 1: CE 2.305736:  25%|█████████████████████████████████████▋                                                                                                                | 201/799 [00:48<02:21,  4.22it/s]"
     ]
    },
    {
     "name": "stdout",
     "output_type": "stream",
     "text": [
      "EarlyStopping counter: 41 out of 10000\n"
     ]
    },
    {
     "name": "stderr",
     "output_type": "stream",
     "text": [
      "Epoch 1: CE 2.307117:  50%|███████████████████████████████████████████████████████████████████████████▎                                                                          | 401/799 [01:35<01:34,  4.23it/s]"
     ]
    },
    {
     "name": "stdout",
     "output_type": "stream",
     "text": [
      "EarlyStopping counter: 42 out of 10000\n",
      "Epoch   659: reducing learning rate of group 0 to 5.0611e-05.\n"
     ]
    },
    {
     "name": "stderr",
     "output_type": "stream",
     "text": [
      "Epoch 1: CE 2.307831:  75%|████████████████████████████████████████████████████████████████████████████████████████████████████████████████▊                                     | 601/799 [02:22<00:45,  4.35it/s]"
     ]
    },
    {
     "name": "stdout",
     "output_type": "stream",
     "text": [
      "EarlyStopping counter: 43 out of 10000\n"
     ]
    },
    {
     "name": "stderr",
     "output_type": "stream",
     "text": [
      "Epoch 1: CE 2.308680: 100%|██████████████████████████████████████████████████████████████████████████████████████████████████████████████████████████████████████████████████████| 799/799 [03:09<00:00,  4.22it/s]\n",
      "Epoch 1: CE 2.245811:   0%|▏                                                                                                                                                       | 1/799 [00:00<03:10,  4.18it/s]"
     ]
    },
    {
     "name": "stdout",
     "output_type": "stream",
     "text": [
      "EarlyStopping counter: 44 out of 10000\n"
     ]
    },
    {
     "name": "stderr",
     "output_type": "stream",
     "text": [
      "Epoch 1: CE 2.310457:  25%|█████████████████████████████████████▋                                                                                                                | 201/799 [00:48<02:21,  4.21it/s]"
     ]
    },
    {
     "name": "stdout",
     "output_type": "stream",
     "text": [
      "EarlyStopping counter: 45 out of 10000\n"
     ]
    },
    {
     "name": "stderr",
     "output_type": "stream",
     "text": [
      "Epoch 1: CE 2.309067:  50%|███████████████████████████████████████████████████████████████████████████▎                                                                          | 401/799 [01:35<01:33,  4.27it/s]"
     ]
    },
    {
     "name": "stdout",
     "output_type": "stream",
     "text": [
      "EarlyStopping counter: 46 out of 10000\n"
     ]
    },
    {
     "name": "stderr",
     "output_type": "stream",
     "text": [
      "Epoch 1: CE 2.309494:  75%|████████████████████████████████████████████████████████████████████████████████████████████████████████████████▊                                     | 601/799 [02:22<00:46,  4.26it/s]"
     ]
    },
    {
     "name": "stdout",
     "output_type": "stream",
     "text": [
      "EarlyStopping counter: 47 out of 10000\n"
     ]
    },
    {
     "name": "stderr",
     "output_type": "stream",
     "text": [
      "Epoch 1: CE 2.308595: 100%|██████████████████████████████████████████████████████████████████████████████████████████████████████████████████████████████████████████████████████| 799/799 [03:09<00:00,  4.22it/s]\n",
      "Epoch 1: CE 2.392491:   0%|▏                                                                                                                                                       | 1/799 [00:00<03:11,  4.16it/s]"
     ]
    },
    {
     "name": "stdout",
     "output_type": "stream",
     "text": [
      "EarlyStopping counter: 48 out of 10000\n",
      "Epoch   665: reducing learning rate of group 0 to 4.8587e-05.\n"
     ]
    },
    {
     "name": "stderr",
     "output_type": "stream",
     "text": [
      "Epoch 1: CE 2.302088:  25%|█████████████████████████████████████▋                                                                                                                | 201/799 [00:48<02:19,  4.30it/s]"
     ]
    },
    {
     "name": "stdout",
     "output_type": "stream",
     "text": [
      "EarlyStopping counter: 49 out of 10000\n"
     ]
    },
    {
     "name": "stderr",
     "output_type": "stream",
     "text": [
      "Epoch 1: CE 2.302826:  50%|███████████████████████████████████████████████████████████████████████████▎                                                                          | 401/799 [01:35<01:35,  4.18it/s]"
     ]
    },
    {
     "name": "stdout",
     "output_type": "stream",
     "text": [
      "EarlyStopping counter: 50 out of 10000\n"
     ]
    },
    {
     "name": "stderr",
     "output_type": "stream",
     "text": [
      "Epoch 1: CE 2.305538:  75%|████████████████████████████████████████████████████████████████████████████████████████████████████████████████▊                                     | 601/799 [02:22<00:47,  4.19it/s]"
     ]
    },
    {
     "name": "stdout",
     "output_type": "stream",
     "text": [
      "EarlyStopping counter: 51 out of 10000\n"
     ]
    },
    {
     "name": "stderr",
     "output_type": "stream",
     "text": [
      "Epoch 1: CE 2.308146: 100%|██████████████████████████████████████████████████████████████████████████████████████████████████████████████████████████████████████████████████████| 799/799 [03:09<00:00,  4.23it/s]\n",
      "Epoch 1: CE 2.406502:   0%|▏                                                                                                                                                       | 1/799 [00:00<03:19,  3.99it/s]"
     ]
    },
    {
     "name": "stdout",
     "output_type": "stream",
     "text": [
      "EarlyStopping counter: 52 out of 10000\n"
     ]
    },
    {
     "name": "stderr",
     "output_type": "stream",
     "text": [
      "Epoch 1: CE 2.302887:  25%|█████████████████████████████████████▋                                                                                                                | 201/799 [00:48<02:17,  4.34it/s]"
     ]
    },
    {
     "name": "stdout",
     "output_type": "stream",
     "text": [
      "EarlyStopping counter: 53 out of 10000\n"
     ]
    },
    {
     "name": "stderr",
     "output_type": "stream",
     "text": [
      "Epoch 1: CE 2.300859:  50%|███████████████████████████████████████████████████████████████████████████▎                                                                          | 401/799 [01:35<01:34,  4.23it/s]"
     ]
    },
    {
     "name": "stdout",
     "output_type": "stream",
     "text": [
      "EarlyStopping counter: 54 out of 10000\n",
      "Epoch   671: reducing learning rate of group 0 to 4.6643e-05.\n"
     ]
    },
    {
     "name": "stderr",
     "output_type": "stream",
     "text": [
      "Epoch 1: CE 2.305336:  75%|████████████████████████████████████████████████████████████████████████████████████████████████████████████████▊                                     | 601/799 [02:22<00:47,  4.19it/s]"
     ]
    },
    {
     "name": "stdout",
     "output_type": "stream",
     "text": [
      "EarlyStopping counter: 55 out of 10000\n"
     ]
    },
    {
     "name": "stderr",
     "output_type": "stream",
     "text": [
      "Epoch 1: CE 2.308136: 100%|██████████████████████████████████████████████████████████████████████████████████████████████████████████████████████████████████████████████████████| 799/799 [03:09<00:00,  4.21it/s]\n",
      "Epoch 1: CE 2.188579:   0%|▏                                                                                                                                                       | 1/799 [00:00<03:07,  4.25it/s]"
     ]
    },
    {
     "name": "stdout",
     "output_type": "stream",
     "text": [
      "EarlyStopping counter: 56 out of 10000\n"
     ]
    },
    {
     "name": "stderr",
     "output_type": "stream",
     "text": [
      "Epoch 1: CE 2.316096:  25%|█████████████████████████████████████▋                                                                                                                | 201/799 [00:48<02:18,  4.31it/s]"
     ]
    },
    {
     "name": "stdout",
     "output_type": "stream",
     "text": [
      "EarlyStopping counter: 57 out of 10000\n"
     ]
    },
    {
     "name": "stderr",
     "output_type": "stream",
     "text": [
      "Epoch 1: CE 2.314679:  50%|███████████████████████████████████████████████████████████████████████████▎                                                                          | 401/799 [01:35<01:34,  4.22it/s]"
     ]
    },
    {
     "name": "stdout",
     "output_type": "stream",
     "text": [
      "EarlyStopping counter: 58 out of 10000\n"
     ]
    },
    {
     "name": "stderr",
     "output_type": "stream",
     "text": [
      "Epoch 1: CE 2.308992:  75%|████████████████████████████████████████████████████████████████████████████████████████████████████████████████▊                                     | 601/799 [02:22<00:45,  4.36it/s]"
     ]
    },
    {
     "name": "stdout",
     "output_type": "stream",
     "text": [
      "EarlyStopping counter: 59 out of 10000\n"
     ]
    },
    {
     "name": "stderr",
     "output_type": "stream",
     "text": [
      "Epoch 1: CE 2.308084: 100%|██████████████████████████████████████████████████████████████████████████████████████████████████████████████████████████████████████████████████████| 799/799 [03:08<00:00,  4.23it/s]\n",
      "Epoch 1: CE 2.229679:   0%|▏                                                                                                                                                       | 1/799 [00:00<02:52,  4.63it/s]"
     ]
    },
    {
     "name": "stdout",
     "output_type": "stream",
     "text": [
      "EarlyStopping counter: 60 out of 10000\n",
      "Epoch   677: reducing learning rate of group 0 to 4.4777e-05.\n"
     ]
    },
    {
     "name": "stderr",
     "output_type": "stream",
     "text": [
      "Epoch 1: CE 2.301563:  25%|█████████████████████████████████████▋                                                                                                                | 201/799 [00:48<02:22,  4.19it/s]"
     ]
    },
    {
     "name": "stdout",
     "output_type": "stream",
     "text": [
      "EarlyStopping counter: 61 out of 10000\n"
     ]
    },
    {
     "name": "stderr",
     "output_type": "stream",
     "text": [
      "Epoch 1: CE 2.305725:  50%|███████████████████████████████████████████████████████████████████████████▎                                                                          | 401/799 [01:35<01:36,  4.13it/s]"
     ]
    },
    {
     "name": "stdout",
     "output_type": "stream",
     "text": [
      "EarlyStopping counter: 62 out of 10000\n"
     ]
    },
    {
     "name": "stderr",
     "output_type": "stream",
     "text": [
      "Epoch 1: CE 2.304406:  75%|████████████████████████████████████████████████████████████████████████████████████████████████████████████████▊                                     | 601/799 [02:22<00:45,  4.31it/s]"
     ]
    },
    {
     "name": "stdout",
     "output_type": "stream",
     "text": [
      "EarlyStopping counter: 63 out of 10000\n"
     ]
    },
    {
     "name": "stderr",
     "output_type": "stream",
     "text": [
      "Epoch 1: CE 2.307967: 100%|██████████████████████████████████████████████████████████████████████████████████████████████████████████████████████████████████████████████████████| 799/799 [03:08<00:00,  4.24it/s]\n",
      "Epoch 1: CE 2.213339:   0%|▏                                                                                                                                                       | 1/799 [00:00<03:14,  4.10it/s]"
     ]
    },
    {
     "name": "stdout",
     "output_type": "stream",
     "text": [
      "EarlyStopping counter: 64 out of 10000\n"
     ]
    },
    {
     "name": "stderr",
     "output_type": "stream",
     "text": [
      "Epoch 1: CE 2.301567:  25%|█████████████████████████████████████▋                                                                                                                | 201/799 [00:48<02:23,  4.16it/s]"
     ]
    },
    {
     "name": "stdout",
     "output_type": "stream",
     "text": [
      "EarlyStopping counter: 65 out of 10000\n"
     ]
    },
    {
     "name": "stderr",
     "output_type": "stream",
     "text": [
      "Epoch 1: CE 2.307928:  50%|███████████████████████████████████████████████████████████████████████████▎                                                                          | 401/799 [01:35<01:31,  4.33it/s]"
     ]
    },
    {
     "name": "stdout",
     "output_type": "stream",
     "text": [
      "EarlyStopping counter: 66 out of 10000\n",
      "Epoch   683: reducing learning rate of group 0 to 4.2986e-05.\n"
     ]
    },
    {
     "name": "stderr",
     "output_type": "stream",
     "text": [
      "Epoch 1: CE 2.308790:  75%|████████████████████████████████████████████████████████████████████████████████████████████████████████████████▊                                     | 601/799 [02:22<00:45,  4.34it/s]"
     ]
    },
    {
     "name": "stdout",
     "output_type": "stream",
     "text": [
      "EarlyStopping counter: 67 out of 10000\n"
     ]
    },
    {
     "name": "stderr",
     "output_type": "stream",
     "text": [
      "Epoch 1: CE 2.308084: 100%|██████████████████████████████████████████████████████████████████████████████████████████████████████████████████████████████████████████████████████| 799/799 [03:08<00:00,  4.23it/s]\n",
      "Epoch 1: CE 2.235712:   0%|▏                                                                                                                                                       | 1/799 [00:00<03:14,  4.09it/s]"
     ]
    },
    {
     "name": "stdout",
     "output_type": "stream",
     "text": [
      "EarlyStopping counter: 68 out of 10000\n"
     ]
    },
    {
     "name": "stderr",
     "output_type": "stream",
     "text": [
      "Epoch 1: CE 2.301840:  25%|█████████████████████████████████████▋                                                                                                                | 201/799 [00:48<02:22,  4.20it/s]"
     ]
    },
    {
     "name": "stdout",
     "output_type": "stream",
     "text": [
      "EarlyStopping counter: 69 out of 10000\n"
     ]
    },
    {
     "name": "stderr",
     "output_type": "stream",
     "text": [
      "Epoch 1: CE 2.309742:  50%|███████████████████████████████████████████████████████████████████████████▎                                                                          | 401/799 [01:35<01:39,  3.99it/s]"
     ]
    },
    {
     "name": "stdout",
     "output_type": "stream",
     "text": [
      "EarlyStopping counter: 70 out of 10000\n"
     ]
    },
    {
     "name": "stderr",
     "output_type": "stream",
     "text": [
      "Epoch 1: CE 2.308612:  75%|████████████████████████████████████████████████████████████████████████████████████████████████████████████████▊                                     | 601/799 [02:22<00:46,  4.30it/s]"
     ]
    },
    {
     "name": "stdout",
     "output_type": "stream",
     "text": [
      "EarlyStopping counter: 71 out of 10000\n"
     ]
    },
    {
     "name": "stderr",
     "output_type": "stream",
     "text": [
      "Epoch 1: CE 2.307773: 100%|██████████████████████████████████████████████████████████████████████████████████████████████████████████████████████████████████████████████████████| 799/799 [03:09<00:00,  4.21it/s]\n",
      "Epoch 1: CE 2.239947:   0%|▏                                                                                                                                                       | 1/799 [00:00<03:14,  4.10it/s]"
     ]
    },
    {
     "name": "stdout",
     "output_type": "stream",
     "text": [
      "EarlyStopping counter: 72 out of 10000\n",
      "Epoch   689: reducing learning rate of group 0 to 4.1267e-05.\n"
     ]
    },
    {
     "name": "stderr",
     "output_type": "stream",
     "text": [
      "Epoch 1: CE 2.312054:  25%|█████████████████████████████████████▋                                                                                                                | 201/799 [00:48<02:20,  4.25it/s]"
     ]
    },
    {
     "name": "stdout",
     "output_type": "stream",
     "text": [
      "EarlyStopping counter: 73 out of 10000\n"
     ]
    },
    {
     "name": "stderr",
     "output_type": "stream",
     "text": [
      "Epoch 1: CE 2.313282:  50%|███████████████████████████████████████████████████████████████████████████▎                                                                          | 401/799 [01:35<01:33,  4.27it/s]"
     ]
    },
    {
     "name": "stdout",
     "output_type": "stream",
     "text": [
      "EarlyStopping counter: 74 out of 10000\n"
     ]
    },
    {
     "name": "stderr",
     "output_type": "stream",
     "text": [
      "Epoch 1: CE 2.309104:  75%|████████████████████████████████████████████████████████████████████████████████████████████████████████████████▊                                     | 601/799 [02:22<00:46,  4.30it/s]"
     ]
    },
    {
     "name": "stdout",
     "output_type": "stream",
     "text": [
      "EarlyStopping counter: 75 out of 10000\n"
     ]
    },
    {
     "name": "stderr",
     "output_type": "stream",
     "text": [
      "Epoch 1: CE 2.306933: 100%|██████████████████████████████████████████████████████████████████████████████████████████████████████████████████████████████████████████████████████| 799/799 [03:09<00:00,  4.22it/s]\n",
      "Epoch 1: CE 2.158455:   0%|▏                                                                                                                                                       | 1/799 [00:00<03:02,  4.38it/s]"
     ]
    },
    {
     "name": "stdout",
     "output_type": "stream",
     "text": [
      "EarlyStopping counter: 76 out of 10000\n"
     ]
    },
    {
     "name": "stderr",
     "output_type": "stream",
     "text": [
      "Epoch 1: CE 2.311026:  25%|█████████████████████████████████████▋                                                                                                                | 201/799 [00:48<02:16,  4.37it/s]"
     ]
    },
    {
     "name": "stdout",
     "output_type": "stream",
     "text": [
      "EarlyStopping counter: 77 out of 10000\n"
     ]
    },
    {
     "name": "stderr",
     "output_type": "stream",
     "text": [
      "Epoch 1: CE 2.309109:  50%|███████████████████████████████████████████████████████████████████████████▎                                                                          | 401/799 [01:35<01:32,  4.30it/s]"
     ]
    },
    {
     "name": "stdout",
     "output_type": "stream",
     "text": [
      "EarlyStopping counter: 78 out of 10000\n",
      "Epoch   695: reducing learning rate of group 0 to 3.9616e-05.\n"
     ]
    },
    {
     "name": "stderr",
     "output_type": "stream",
     "text": [
      "Epoch 1: CE 2.304980:  75%|████████████████████████████████████████████████████████████████████████████████████████████████████████████████▊                                     | 601/799 [02:22<00:47,  4.19it/s]"
     ]
    },
    {
     "name": "stdout",
     "output_type": "stream",
     "text": [
      "EarlyStopping counter: 79 out of 10000\n"
     ]
    },
    {
     "name": "stderr",
     "output_type": "stream",
     "text": [
      "Epoch 1: CE 2.306680: 100%|██████████████████████████████████████████████████████████████████████████████████████████████████████████████████████████████████████████████████████| 799/799 [03:08<00:00,  4.23it/s]\n",
      "Epoch 1: CE 2.248752:   0%|▏                                                                                                                                                       | 1/799 [00:00<03:08,  4.23it/s]"
     ]
    },
    {
     "name": "stdout",
     "output_type": "stream",
     "text": [
      "EarlyStopping counter: 80 out of 10000\n"
     ]
    },
    {
     "name": "stderr",
     "output_type": "stream",
     "text": [
      "Epoch 1: CE 2.309450:  25%|█████████████████████████████████████▋                                                                                                                | 201/799 [00:48<02:20,  4.26it/s]"
     ]
    },
    {
     "name": "stdout",
     "output_type": "stream",
     "text": [
      "EarlyStopping counter: 81 out of 10000\n"
     ]
    },
    {
     "name": "stderr",
     "output_type": "stream",
     "text": [
      "Epoch 1: CE 2.311269:  50%|███████████████████████████████████████████████████████████████████████████▎                                                                          | 401/799 [01:35<01:33,  4.26it/s]"
     ]
    },
    {
     "name": "stdout",
     "output_type": "stream",
     "text": [
      "EarlyStopping counter: 82 out of 10000\n"
     ]
    },
    {
     "name": "stderr",
     "output_type": "stream",
     "text": [
      "Epoch 1: CE 2.309539:  75%|████████████████████████████████████████████████████████████████████████████████████████████████████████████████▊                                     | 601/799 [02:22<00:47,  4.15it/s]"
     ]
    },
    {
     "name": "stdout",
     "output_type": "stream",
     "text": [
      "EarlyStopping counter: 83 out of 10000\n"
     ]
    },
    {
     "name": "stderr",
     "output_type": "stream",
     "text": [
      "Epoch 1: CE 2.307131: 100%|██████████████████████████████████████████████████████████████████████████████████████████████████████████████████████████████████████████████████████| 799/799 [03:08<00:00,  4.23it/s]\n",
      "Epoch 1: CE 2.207336:   0%|▏                                                                                                                                                       | 1/799 [00:00<03:06,  4.29it/s]"
     ]
    },
    {
     "name": "stdout",
     "output_type": "stream",
     "text": [
      "EarlyStopping counter: 84 out of 10000\n",
      "Epoch   701: reducing learning rate of group 0 to 3.8031e-05.\n"
     ]
    },
    {
     "name": "stderr",
     "output_type": "stream",
     "text": [
      "Epoch 1: CE 2.302450:  25%|█████████████████████████████████████▋                                                                                                                | 201/799 [00:48<02:19,  4.29it/s]"
     ]
    },
    {
     "name": "stdout",
     "output_type": "stream",
     "text": [
      "EarlyStopping counter: 85 out of 10000\n"
     ]
    },
    {
     "name": "stderr",
     "output_type": "stream",
     "text": [
      "Epoch 1: CE 2.304454:  50%|███████████████████████████████████████████████████████████████████████████▎                                                                          | 401/799 [01:35<01:36,  4.14it/s]"
     ]
    },
    {
     "name": "stdout",
     "output_type": "stream",
     "text": [
      "EarlyStopping counter: 86 out of 10000\n"
     ]
    },
    {
     "name": "stderr",
     "output_type": "stream",
     "text": [
      "Epoch 1: CE 2.309788:  75%|████████████████████████████████████████████████████████████████████████████████████████████████████████████████▊                                     | 601/799 [02:22<00:47,  4.18it/s]"
     ]
    },
    {
     "name": "stdout",
     "output_type": "stream",
     "text": [
      "EarlyStopping counter: 87 out of 10000\n"
     ]
    },
    {
     "name": "stderr",
     "output_type": "stream",
     "text": [
      "Epoch 1: CE 2.306639: 100%|██████████████████████████████████████████████████████████████████████████████████████████████████████████████████████████████████████████████████████| 799/799 [03:09<00:00,  4.23it/s]\n",
      "Epoch 1: CE 2.426201:   0%|▏                                                                                                                                                       | 1/799 [00:00<03:25,  3.88it/s]"
     ]
    },
    {
     "name": "stdout",
     "output_type": "stream",
     "text": [
      "EarlyStopping counter: 88 out of 10000\n"
     ]
    },
    {
     "name": "stderr",
     "output_type": "stream",
     "text": [
      "Epoch 1: CE 2.301093:  25%|█████████████████████████████████████▋                                                                                                                | 201/799 [00:47<02:28,  4.03it/s]"
     ]
    },
    {
     "name": "stdout",
     "output_type": "stream",
     "text": [
      "EarlyStopping counter: 89 out of 10000\n"
     ]
    },
    {
     "name": "stderr",
     "output_type": "stream",
     "text": [
      "Epoch 1: CE 2.303393:  50%|███████████████████████████████████████████████████████████████████████████▎                                                                          | 401/799 [01:35<01:30,  4.39it/s]"
     ]
    },
    {
     "name": "stdout",
     "output_type": "stream",
     "text": [
      "EarlyStopping counter: 90 out of 10000\n",
      "Epoch   707: reducing learning rate of group 0 to 3.6510e-05.\n"
     ]
    },
    {
     "name": "stderr",
     "output_type": "stream",
     "text": [
      "Epoch 1: CE 2.305844:  75%|████████████████████████████████████████████████████████████████████████████████████████████████████████████████▊                                     | 601/799 [02:22<00:46,  4.24it/s]"
     ]
    },
    {
     "name": "stdout",
     "output_type": "stream",
     "text": [
      "EarlyStopping counter: 91 out of 10000\n"
     ]
    },
    {
     "name": "stderr",
     "output_type": "stream",
     "text": [
      "Epoch 1: CE 2.306560: 100%|██████████████████████████████████████████████████████████████████████████████████████████████████████████████████████████████████████████████████████| 799/799 [03:09<00:00,  4.22it/s]\n",
      "Epoch 1: CE 2.295383:  25%|█████████████████████████████████████▋                                                                                                                | 201/799 [00:47<02:16,  4.38it/s]"
     ]
    },
    {
     "name": "stdout",
     "output_type": "stream",
     "text": [
      "EarlyStopping counter: 1 out of 10000\n"
     ]
    },
    {
     "name": "stderr",
     "output_type": "stream",
     "text": [
      "Epoch 1: CE 2.300298:  50%|███████████████████████████████████████████████████████████████████████████▎                                                                          | 401/799 [01:34<01:34,  4.23it/s]"
     ]
    },
    {
     "name": "stdout",
     "output_type": "stream",
     "text": [
      "EarlyStopping counter: 2 out of 10000\n"
     ]
    },
    {
     "name": "stderr",
     "output_type": "stream",
     "text": [
      "Epoch 1: CE 2.303240:  75%|████████████████████████████████████████████████████████████████████████████████████████████████████████████████▊                                     | 601/799 [02:22<00:47,  4.21it/s]"
     ]
    },
    {
     "name": "stdout",
     "output_type": "stream",
     "text": [
      "EarlyStopping counter: 3 out of 10000\n"
     ]
    },
    {
     "name": "stderr",
     "output_type": "stream",
     "text": [
      "Epoch 1: CE 2.306481: 100%|██████████████████████████████████████████████████████████████████████████████████████████████████████████████████████████████████████████████████████| 799/799 [03:08<00:00,  4.23it/s]\n",
      "Epoch 1: CE 2.470295:   0%|▏                                                                                                                                                       | 1/799 [00:00<03:28,  3.83it/s]"
     ]
    },
    {
     "name": "stdout",
     "output_type": "stream",
     "text": [
      "EarlyStopping counter: 4 out of 10000\n"
     ]
    },
    {
     "name": "stderr",
     "output_type": "stream",
     "text": [
      "Epoch 1: CE 2.299956:  25%|█████████████████████████████████████▋                                                                                                                | 201/799 [00:47<02:16,  4.37it/s]"
     ]
    },
    {
     "name": "stdout",
     "output_type": "stream",
     "text": [
      "EarlyStopping counter: 5 out of 10000\n"
     ]
    },
    {
     "name": "stderr",
     "output_type": "stream",
     "text": [
      "Epoch 1: CE 2.303016:  50%|███████████████████████████████████████████████████████████████████████████▎                                                                          | 401/799 [01:35<01:36,  4.11it/s]"
     ]
    },
    {
     "name": "stdout",
     "output_type": "stream",
     "text": [
      "EarlyStopping counter: 6 out of 10000\n",
      "Epoch   715: reducing learning rate of group 0 to 3.5050e-05.\n"
     ]
    },
    {
     "name": "stderr",
     "output_type": "stream",
     "text": [
      "Epoch 1: CE 2.306433:  75%|████████████████████████████████████████████████████████████████████████████████████████████████████████████████▊                                     | 601/799 [02:22<00:45,  4.32it/s]"
     ]
    },
    {
     "name": "stdout",
     "output_type": "stream",
     "text": [
      "EarlyStopping counter: 7 out of 10000\n"
     ]
    },
    {
     "name": "stderr",
     "output_type": "stream",
     "text": [
      "Epoch 1: CE 2.306662: 100%|██████████████████████████████████████████████████████████████████████████████████████████████████████████████████████████████████████████████████████| 799/799 [03:08<00:00,  4.23it/s]\n",
      "Epoch 1: CE 2.269079:   0%|▏                                                                                                                                                       | 1/799 [00:00<03:04,  4.33it/s]"
     ]
    },
    {
     "name": "stdout",
     "output_type": "stream",
     "text": [
      "EarlyStopping counter: 8 out of 10000\n"
     ]
    },
    {
     "name": "stderr",
     "output_type": "stream",
     "text": [
      "Epoch 1: CE 2.301761:  25%|█████████████████████████████████████▋                                                                                                                | 201/799 [00:48<02:19,  4.30it/s]"
     ]
    },
    {
     "name": "stdout",
     "output_type": "stream",
     "text": [
      "EarlyStopping counter: 9 out of 10000\n"
     ]
    },
    {
     "name": "stderr",
     "output_type": "stream",
     "text": [
      "Epoch 1: CE 2.308575:  50%|███████████████████████████████████████████████████████████████████████████▎                                                                          | 401/799 [01:35<01:30,  4.39it/s]"
     ]
    },
    {
     "name": "stdout",
     "output_type": "stream",
     "text": [
      "EarlyStopping counter: 10 out of 10000\n"
     ]
    },
    {
     "name": "stderr",
     "output_type": "stream",
     "text": [
      "Epoch 1: CE 2.305007:  75%|████████████████████████████████████████████████████████████████████████████████████████████████████████████████▊                                     | 601/799 [02:22<00:47,  4.18it/s]"
     ]
    },
    {
     "name": "stdout",
     "output_type": "stream",
     "text": [
      "EarlyStopping counter: 11 out of 10000\n"
     ]
    },
    {
     "name": "stderr",
     "output_type": "stream",
     "text": [
      "Epoch 1: CE 2.306285: 100%|██████████████████████████████████████████████████████████████████████████████████████████████████████████████████████████████████████████████████████| 799/799 [03:09<00:00,  4.22it/s]\n",
      "Epoch 1: CE 2.228817:   0%|▏                                                                                                                                                       | 1/799 [00:00<03:36,  3.68it/s]"
     ]
    },
    {
     "name": "stdout",
     "output_type": "stream",
     "text": [
      "EarlyStopping counter: 12 out of 10000\n",
      "Epoch   721: reducing learning rate of group 0 to 3.3648e-05.\n"
     ]
    },
    {
     "name": "stderr",
     "output_type": "stream",
     "text": [
      "Epoch 1: CE 2.307402:  25%|█████████████████████████████████████▋                                                                                                                | 201/799 [00:48<02:19,  4.27it/s]"
     ]
    },
    {
     "name": "stdout",
     "output_type": "stream",
     "text": [
      "EarlyStopping counter: 13 out of 10000\n"
     ]
    },
    {
     "name": "stderr",
     "output_type": "stream",
     "text": [
      "Epoch 1: CE 2.303540:  50%|███████████████████████████████████████████████████████████████████████████▎                                                                          | 401/799 [01:35<01:34,  4.23it/s]"
     ]
    },
    {
     "name": "stdout",
     "output_type": "stream",
     "text": [
      "EarlyStopping counter: 14 out of 10000\n"
     ]
    },
    {
     "name": "stderr",
     "output_type": "stream",
     "text": [
      "Epoch 1: CE 2.303318:  75%|████████████████████████████████████████████████████████████████████████████████████████████████████████████████▊                                     | 601/799 [02:22<00:43,  4.52it/s]"
     ]
    },
    {
     "name": "stdout",
     "output_type": "stream",
     "text": [
      "EarlyStopping counter: 15 out of 10000\n"
     ]
    },
    {
     "name": "stderr",
     "output_type": "stream",
     "text": [
      "Epoch 1: CE 2.306460: 100%|██████████████████████████████████████████████████████████████████████████████████████████████████████████████████████████████████████████████████████| 799/799 [03:09<00:00,  4.23it/s]\n",
      "Epoch 1: CE 2.281693:   0%|▏                                                                                                                                                       | 1/799 [00:00<03:18,  4.02it/s]"
     ]
    },
    {
     "name": "stdout",
     "output_type": "stream",
     "text": [
      "EarlyStopping counter: 16 out of 10000\n"
     ]
    },
    {
     "name": "stderr",
     "output_type": "stream",
     "text": [
      "Epoch 1: CE 2.303103:  25%|█████████████████████████████████████▋                                                                                                                | 201/799 [00:48<02:16,  4.38it/s]"
     ]
    },
    {
     "name": "stdout",
     "output_type": "stream",
     "text": [
      "EarlyStopping counter: 17 out of 10000\n"
     ]
    },
    {
     "name": "stderr",
     "output_type": "stream",
     "text": [
      "Epoch 1: CE 2.309381:  50%|███████████████████████████████████████████████████████████████████████████▎                                                                          | 401/799 [01:35<01:29,  4.45it/s]"
     ]
    },
    {
     "name": "stdout",
     "output_type": "stream",
     "text": [
      "EarlyStopping counter: 18 out of 10000\n",
      "Epoch   727: reducing learning rate of group 0 to 3.2302e-05.\n"
     ]
    },
    {
     "name": "stderr",
     "output_type": "stream",
     "text": [
      "Epoch 1: CE 2.307809:  75%|████████████████████████████████████████████████████████████████████████████████████████████████████████████████▊                                     | 601/799 [02:22<00:46,  4.22it/s]"
     ]
    },
    {
     "name": "stdout",
     "output_type": "stream",
     "text": [
      "EarlyStopping counter: 19 out of 10000\n"
     ]
    },
    {
     "name": "stderr",
     "output_type": "stream",
     "text": [
      "Epoch 1: CE 2.306048: 100%|██████████████████████████████████████████████████████████████████████████████████████████████████████████████████████████████████████████████████████| 799/799 [03:09<00:00,  4.22it/s]\n",
      "Epoch 1: CE 2.269223:   0%|▏                                                                                                                                                       | 1/799 [00:00<03:16,  4.05it/s]"
     ]
    },
    {
     "name": "stdout",
     "output_type": "stream",
     "text": [
      "EarlyStopping counter: 20 out of 10000\n"
     ]
    },
    {
     "name": "stderr",
     "output_type": "stream",
     "text": [
      "Epoch 1: CE 2.302365:  25%|█████████████████████████████████████▋                                                                                                                | 201/799 [00:48<02:21,  4.24it/s]"
     ]
    },
    {
     "name": "stdout",
     "output_type": "stream",
     "text": [
      "EarlyStopping counter: 21 out of 10000\n"
     ]
    },
    {
     "name": "stderr",
     "output_type": "stream",
     "text": [
      "Epoch 1: CE 2.307100:  50%|███████████████████████████████████████████████████████████████████████████▎                                                                          | 401/799 [01:35<01:34,  4.20it/s]"
     ]
    },
    {
     "name": "stdout",
     "output_type": "stream",
     "text": [
      "EarlyStopping counter: 22 out of 10000\n"
     ]
    },
    {
     "name": "stderr",
     "output_type": "stream",
     "text": [
      "Epoch 1: CE 2.306187:  75%|████████████████████████████████████████████████████████████████████████████████████████████████████████████████▊                                     | 601/799 [02:22<00:46,  4.25it/s]"
     ]
    },
    {
     "name": "stdout",
     "output_type": "stream",
     "text": [
      "EarlyStopping counter: 23 out of 10000\n"
     ]
    },
    {
     "name": "stderr",
     "output_type": "stream",
     "text": [
      "Epoch 1: CE 2.305829: 100%|██████████████████████████████████████████████████████████████████████████████████████████████████████████████████████████████████████████████████████| 799/799 [03:09<00:00,  4.22it/s]\n",
      "Epoch 1: CE 2.541053:   0%|▏                                                                                                                                                       | 1/799 [00:00<03:24,  3.90it/s]"
     ]
    },
    {
     "name": "stdout",
     "output_type": "stream",
     "text": [
      "EarlyStopping counter: 24 out of 10000\n",
      "Epoch   733: reducing learning rate of group 0 to 3.1010e-05.\n"
     ]
    },
    {
     "name": "stderr",
     "output_type": "stream",
     "text": [
      "Epoch 1: CE 2.304455:  25%|█████████████████████████████████████▋                                                                                                                | 201/799 [00:48<02:20,  4.26it/s]"
     ]
    },
    {
     "name": "stdout",
     "output_type": "stream",
     "text": [
      "EarlyStopping counter: 25 out of 10000\n"
     ]
    },
    {
     "name": "stderr",
     "output_type": "stream",
     "text": [
      "Epoch 1: CE 2.308270:  50%|███████████████████████████████████████████████████████████████████████████▎                                                                          | 401/799 [01:35<01:31,  4.35it/s]"
     ]
    },
    {
     "name": "stdout",
     "output_type": "stream",
     "text": [
      "EarlyStopping counter: 26 out of 10000\n"
     ]
    },
    {
     "name": "stderr",
     "output_type": "stream",
     "text": [
      "Epoch 1: CE 2.306009:  75%|████████████████████████████████████████████████████████████████████████████████████████████████████████████████▊                                     | 601/799 [02:22<00:46,  4.28it/s]"
     ]
    },
    {
     "name": "stdout",
     "output_type": "stream",
     "text": [
      "EarlyStopping counter: 27 out of 10000\n"
     ]
    },
    {
     "name": "stderr",
     "output_type": "stream",
     "text": [
      "Epoch 1: CE 2.305735: 100%|██████████████████████████████████████████████████████████████████████████████████████████████████████████████████████████████████████████████████████| 799/799 [03:09<00:00,  4.22it/s]\n",
      "Epoch 1: CE 2.345178:   0%|▏                                                                                                                                                       | 1/799 [00:00<03:11,  4.17it/s]"
     ]
    },
    {
     "name": "stdout",
     "output_type": "stream",
     "text": [
      "EarlyStopping counter: 28 out of 10000\n"
     ]
    },
    {
     "name": "stderr",
     "output_type": "stream",
     "text": [
      "Epoch 1: CE 2.302257:  25%|█████████████████████████████████████▋                                                                                                                | 201/799 [00:48<02:21,  4.22it/s]"
     ]
    },
    {
     "name": "stdout",
     "output_type": "stream",
     "text": [
      "EarlyStopping counter: 29 out of 10000\n"
     ]
    },
    {
     "name": "stderr",
     "output_type": "stream",
     "text": [
      "Epoch 1: CE 2.308114:  50%|███████████████████████████████████████████████████████████████████████████▎                                                                          | 401/799 [01:35<01:33,  4.27it/s]"
     ]
    },
    {
     "name": "stdout",
     "output_type": "stream",
     "text": [
      "EarlyStopping counter: 30 out of 10000\n",
      "Epoch   739: reducing learning rate of group 0 to 2.9769e-05.\n"
     ]
    },
    {
     "name": "stderr",
     "output_type": "stream",
     "text": [
      "Epoch 1: CE 2.304562:  75%|████████████████████████████████████████████████████████████████████████████████████████████████████████████████▊                                     | 601/799 [02:22<00:46,  4.28it/s]"
     ]
    },
    {
     "name": "stdout",
     "output_type": "stream",
     "text": [
      "EarlyStopping counter: 31 out of 10000\n"
     ]
    },
    {
     "name": "stderr",
     "output_type": "stream",
     "text": [
      "Epoch 1: CE 2.305355: 100%|██████████████████████████████████████████████████████████████████████████████████████████████████████████████████████████████████████████████████████| 799/799 [03:09<00:00,  4.21it/s]\n",
      "Epoch 1: CE 2.257639:   0%|▏                                                                                                                                                       | 1/799 [00:00<03:19,  3.99it/s]"
     ]
    },
    {
     "name": "stdout",
     "output_type": "stream",
     "text": [
      "EarlyStopping counter: 32 out of 10000\n"
     ]
    },
    {
     "name": "stderr",
     "output_type": "stream",
     "text": [
      "Epoch 1: CE 2.299785:  25%|█████████████████████████████████████▋                                                                                                                | 201/799 [00:48<02:21,  4.22it/s]"
     ]
    },
    {
     "name": "stdout",
     "output_type": "stream",
     "text": [
      "EarlyStopping counter: 33 out of 10000\n"
     ]
    },
    {
     "name": "stderr",
     "output_type": "stream",
     "text": [
      "Epoch 1: CE 2.302785:  50%|███████████████████████████████████████████████████████████████████████████▎                                                                          | 401/799 [01:35<01:33,  4.25it/s]"
     ]
    },
    {
     "name": "stdout",
     "output_type": "stream",
     "text": [
      "EarlyStopping counter: 34 out of 10000\n"
     ]
    },
    {
     "name": "stderr",
     "output_type": "stream",
     "text": [
      "Epoch 1: CE 2.306061:  75%|████████████████████████████████████████████████████████████████████████████████████████████████████████████████▊                                     | 601/799 [02:22<00:46,  4.26it/s]"
     ]
    },
    {
     "name": "stdout",
     "output_type": "stream",
     "text": [
      "EarlyStopping counter: 35 out of 10000\n"
     ]
    },
    {
     "name": "stderr",
     "output_type": "stream",
     "text": [
      "Epoch 1: CE 2.305393: 100%|██████████████████████████████████████████████████████████████████████████████████████████████████████████████████████████████████████████████████████| 799/799 [03:09<00:00,  4.22it/s]\n",
      "Epoch 1: CE 2.235117:   0%|▏                                                                                                                                                       | 1/799 [00:00<03:18,  4.02it/s]"
     ]
    },
    {
     "name": "stdout",
     "output_type": "stream",
     "text": [
      "EarlyStopping counter: 36 out of 10000\n",
      "Epoch   745: reducing learning rate of group 0 to 2.8579e-05.\n"
     ]
    },
    {
     "name": "stderr",
     "output_type": "stream",
     "text": [
      "Epoch 1: CE 2.302540:  25%|█████████████████████████████████████▋                                                                                                                | 201/799 [00:48<02:16,  4.38it/s]"
     ]
    },
    {
     "name": "stdout",
     "output_type": "stream",
     "text": [
      "EarlyStopping counter: 37 out of 10000\n"
     ]
    },
    {
     "name": "stderr",
     "output_type": "stream",
     "text": [
      "Epoch 1: CE 2.304269:  50%|███████████████████████████████████████████████████████████████████████████▎                                                                          | 401/799 [01:35<01:31,  4.35it/s]"
     ]
    },
    {
     "name": "stdout",
     "output_type": "stream",
     "text": [
      "EarlyStopping counter: 38 out of 10000\n"
     ]
    },
    {
     "name": "stderr",
     "output_type": "stream",
     "text": [
      "Epoch 1: CE 2.304306:  75%|████████████████████████████████████████████████████████████████████████████████████████████████████████████████▊                                     | 601/799 [02:22<00:46,  4.26it/s]"
     ]
    },
    {
     "name": "stdout",
     "output_type": "stream",
     "text": [
      "EarlyStopping counter: 39 out of 10000\n"
     ]
    },
    {
     "name": "stderr",
     "output_type": "stream",
     "text": [
      "Epoch 1: CE 2.305155: 100%|██████████████████████████████████████████████████████████████████████████████████████████████████████████████████████████████████████████████████████| 799/799 [03:09<00:00,  4.22it/s]\n",
      "Epoch 1: CE 2.113572:   0%|▏                                                                                                                                                       | 1/799 [00:00<03:01,  4.40it/s]"
     ]
    },
    {
     "name": "stdout",
     "output_type": "stream",
     "text": [
      "EarlyStopping counter: 40 out of 10000\n"
     ]
    },
    {
     "name": "stderr",
     "output_type": "stream",
     "text": [
      "Epoch 1: CE 2.306395:  25%|█████████████████████████████████████▋                                                                                                                | 201/799 [00:48<02:19,  4.30it/s]"
     ]
    },
    {
     "name": "stdout",
     "output_type": "stream",
     "text": [
      "EarlyStopping counter: 41 out of 10000\n"
     ]
    },
    {
     "name": "stderr",
     "output_type": "stream",
     "text": [
      "Epoch 1: CE 2.304630:  50%|███████████████████████████████████████████████████████████████████████████▎                                                                          | 401/799 [01:35<01:32,  4.32it/s]"
     ]
    },
    {
     "name": "stdout",
     "output_type": "stream",
     "text": [
      "EarlyStopping counter: 42 out of 10000\n",
      "Epoch   751: reducing learning rate of group 0 to 2.7436e-05.\n"
     ]
    },
    {
     "name": "stderr",
     "output_type": "stream",
     "text": [
      "Epoch 1: CE 2.303795:  75%|████████████████████████████████████████████████████████████████████████████████████████████████████████████████▊                                     | 601/799 [02:22<00:46,  4.30it/s]"
     ]
    },
    {
     "name": "stdout",
     "output_type": "stream",
     "text": [
      "EarlyStopping counter: 43 out of 10000\n"
     ]
    },
    {
     "name": "stderr",
     "output_type": "stream",
     "text": [
      "Epoch 1: CE 2.305137: 100%|██████████████████████████████████████████████████████████████████████████████████████████████████████████████████████████████████████████████████████| 799/799 [03:09<00:00,  4.22it/s]\n",
      "Epoch 1: CE 2.245278:   0%|▏                                                                                                                                                       | 1/799 [00:00<03:24,  3.91it/s]"
     ]
    },
    {
     "name": "stdout",
     "output_type": "stream",
     "text": [
      "EarlyStopping counter: 44 out of 10000\n"
     ]
    },
    {
     "name": "stderr",
     "output_type": "stream",
     "text": [
      "Epoch 1: CE 2.296728:  25%|█████████████████████████████████████▋                                                                                                                | 201/799 [00:47<02:13,  4.50it/s]"
     ]
    },
    {
     "name": "stdout",
     "output_type": "stream",
     "text": [
      "EarlyStopping counter: 45 out of 10000\n"
     ]
    },
    {
     "name": "stderr",
     "output_type": "stream",
     "text": [
      "Epoch 1: CE 2.303517:  50%|███████████████████████████████████████████████████████████████████████████▎                                                                          | 401/799 [01:34<01:36,  4.14it/s]"
     ]
    },
    {
     "name": "stdout",
     "output_type": "stream",
     "text": [
      "EarlyStopping counter: 46 out of 10000\n"
     ]
    },
    {
     "name": "stderr",
     "output_type": "stream",
     "text": [
      "Epoch 1: CE 2.303195:  75%|████████████████████████████████████████████████████████████████████████████████████████████████████████████████▊                                     | 601/799 [02:21<00:45,  4.32it/s]"
     ]
    },
    {
     "name": "stdout",
     "output_type": "stream",
     "text": [
      "EarlyStopping counter: 47 out of 10000\n"
     ]
    },
    {
     "name": "stderr",
     "output_type": "stream",
     "text": [
      "Epoch 1: CE 2.305108: 100%|██████████████████████████████████████████████████████████████████████████████████████████████████████████████████████████████████████████████████████| 799/799 [03:08<00:00,  4.23it/s]\n",
      "Epoch 1: CE 2.260304:   0%|▏                                                                                                                                                       | 1/799 [00:00<03:20,  3.99it/s]"
     ]
    },
    {
     "name": "stdout",
     "output_type": "stream",
     "text": [
      "EarlyStopping counter: 48 out of 10000\n",
      "Epoch   757: reducing learning rate of group 0 to 2.6338e-05.\n"
     ]
    },
    {
     "name": "stderr",
     "output_type": "stream",
     "text": [
      "Epoch 1: CE 2.304859:  25%|█████████████████████████████████████▋                                                                                                                | 201/799 [00:48<02:20,  4.26it/s]"
     ]
    },
    {
     "name": "stdout",
     "output_type": "stream",
     "text": [
      "EarlyStopping counter: 49 out of 10000\n"
     ]
    },
    {
     "name": "stderr",
     "output_type": "stream",
     "text": [
      "Epoch 1: CE 2.303039:  50%|███████████████████████████████████████████████████████████████████████████▎                                                                          | 401/799 [01:35<01:34,  4.23it/s]"
     ]
    },
    {
     "name": "stdout",
     "output_type": "stream",
     "text": [
      "EarlyStopping counter: 50 out of 10000\n"
     ]
    },
    {
     "name": "stderr",
     "output_type": "stream",
     "text": [
      "Epoch 1: CE 2.304962:  75%|████████████████████████████████████████████████████████████████████████████████████████████████████████████████▊                                     | 601/799 [02:22<00:44,  4.41it/s]"
     ]
    },
    {
     "name": "stdout",
     "output_type": "stream",
     "text": [
      "EarlyStopping counter: 51 out of 10000\n"
     ]
    },
    {
     "name": "stderr",
     "output_type": "stream",
     "text": [
      "Epoch 1: CE 2.304928: 100%|██████████████████████████████████████████████████████████████████████████████████████████████████████████████████████████████████████████████████████| 799/799 [03:08<00:00,  4.24it/s]\n",
      "Epoch 1: CE 2.436536:   0%|▏                                                                                                                                                       | 1/799 [00:00<03:27,  3.84it/s]"
     ]
    },
    {
     "name": "stdout",
     "output_type": "stream",
     "text": [
      "EarlyStopping counter: 52 out of 10000\n"
     ]
    },
    {
     "name": "stderr",
     "output_type": "stream",
     "text": [
      "Epoch 1: CE 2.305691:  25%|█████████████████████████████████████▋                                                                                                                | 201/799 [00:48<02:21,  4.22it/s]"
     ]
    },
    {
     "name": "stdout",
     "output_type": "stream",
     "text": [
      "EarlyStopping counter: 53 out of 10000\n"
     ]
    },
    {
     "name": "stderr",
     "output_type": "stream",
     "text": [
      "Epoch 1: CE 2.304949:  50%|███████████████████████████████████████████████████████████████████████████▎                                                                          | 401/799 [01:35<01:36,  4.11it/s]"
     ]
    },
    {
     "name": "stdout",
     "output_type": "stream",
     "text": [
      "EarlyStopping counter: 54 out of 10000\n",
      "Epoch   763: reducing learning rate of group 0 to 2.5285e-05.\n"
     ]
    },
    {
     "name": "stderr",
     "output_type": "stream",
     "text": [
      "Epoch 1: CE 2.304342:  75%|████████████████████████████████████████████████████████████████████████████████████████████████████████████████▊                                     | 601/799 [02:22<00:46,  4.22it/s]"
     ]
    },
    {
     "name": "stdout",
     "output_type": "stream",
     "text": [
      "EarlyStopping counter: 55 out of 10000\n"
     ]
    },
    {
     "name": "stderr",
     "output_type": "stream",
     "text": [
      "Epoch 1: CE 2.304972: 100%|██████████████████████████████████████████████████████████████████████████████████████████████████████████████████████████████████████████████████████| 799/799 [03:09<00:00,  4.21it/s]\n",
      "Epoch 1: CE 2.431358:   0%|▏                                                                                                                                                       | 1/799 [00:00<03:25,  3.88it/s]"
     ]
    },
    {
     "name": "stdout",
     "output_type": "stream",
     "text": [
      "EarlyStopping counter: 56 out of 10000\n"
     ]
    },
    {
     "name": "stderr",
     "output_type": "stream",
     "text": [
      "Epoch 1: CE 2.296853:  25%|█████████████████████████████████████▋                                                                                                                | 201/799 [00:48<02:17,  4.35it/s]"
     ]
    },
    {
     "name": "stdout",
     "output_type": "stream",
     "text": [
      "EarlyStopping counter: 57 out of 10000\n"
     ]
    },
    {
     "name": "stderr",
     "output_type": "stream",
     "text": [
      "Epoch 1: CE 2.304544:  50%|███████████████████████████████████████████████████████████████████████████▎                                                                          | 401/799 [01:35<01:35,  4.15it/s]"
     ]
    },
    {
     "name": "stdout",
     "output_type": "stream",
     "text": [
      "EarlyStopping counter: 58 out of 10000\n"
     ]
    },
    {
     "name": "stderr",
     "output_type": "stream",
     "text": [
      "Epoch 1: CE 2.303008:  75%|████████████████████████████████████████████████████████████████████████████████████████████████████████████████▊                                     | 601/799 [02:22<00:46,  4.27it/s]"
     ]
    },
    {
     "name": "stdout",
     "output_type": "stream",
     "text": [
      "EarlyStopping counter: 59 out of 10000\n"
     ]
    },
    {
     "name": "stderr",
     "output_type": "stream",
     "text": [
      "Epoch 1: CE 2.304785: 100%|██████████████████████████████████████████████████████████████████████████████████████████████████████████████████████████████████████████████████████| 799/799 [03:09<00:00,  4.22it/s]\n",
      "Epoch 1: CE 2.272635:   0%|▏                                                                                                                                                       | 1/799 [00:00<03:10,  4.19it/s]"
     ]
    },
    {
     "name": "stdout",
     "output_type": "stream",
     "text": [
      "EarlyStopping counter: 60 out of 10000\n",
      "Epoch   769: reducing learning rate of group 0 to 2.4273e-05.\n"
     ]
    },
    {
     "name": "stderr",
     "output_type": "stream",
     "text": [
      "Epoch 1: CE 2.313400:  25%|█████████████████████████████████████▋                                                                                                                | 201/799 [00:48<02:16,  4.37it/s]"
     ]
    },
    {
     "name": "stdout",
     "output_type": "stream",
     "text": [
      "EarlyStopping counter: 61 out of 10000\n"
     ]
    },
    {
     "name": "stderr",
     "output_type": "stream",
     "text": [
      "Epoch 1: CE 2.311026:  50%|███████████████████████████████████████████████████████████████████████████▎                                                                          | 401/799 [01:35<01:37,  4.07it/s]"
     ]
    },
    {
     "name": "stdout",
     "output_type": "stream",
     "text": [
      "EarlyStopping counter: 62 out of 10000\n"
     ]
    },
    {
     "name": "stderr",
     "output_type": "stream",
     "text": [
      "Epoch 1: CE 2.303435:  75%|████████████████████████████████████████████████████████████████████████████████████████████████████████████████▊                                     | 601/799 [02:22<00:47,  4.17it/s]"
     ]
    },
    {
     "name": "stdout",
     "output_type": "stream",
     "text": [
      "EarlyStopping counter: 63 out of 10000\n"
     ]
    },
    {
     "name": "stderr",
     "output_type": "stream",
     "text": [
      "Epoch 1: CE 2.305084: 100%|██████████████████████████████████████████████████████████████████████████████████████████████████████████████████████████████████████████████████████| 799/799 [03:09<00:00,  4.22it/s]\n",
      "Epoch 1: CE 2.386725:   0%|▏                                                                                                                                                       | 1/799 [00:00<03:26,  3.87it/s]"
     ]
    },
    {
     "name": "stdout",
     "output_type": "stream",
     "text": [
      "EarlyStopping counter: 64 out of 10000\n"
     ]
    },
    {
     "name": "stderr",
     "output_type": "stream",
     "text": [
      "Epoch 1: CE 2.295560:  25%|█████████████████████████████████████▋                                                                                                                | 201/799 [00:48<02:19,  4.27it/s]"
     ]
    },
    {
     "name": "stdout",
     "output_type": "stream",
     "text": [
      "EarlyStopping counter: 65 out of 10000\n"
     ]
    },
    {
     "name": "stderr",
     "output_type": "stream",
     "text": [
      "Epoch 1: CE 2.298640:  50%|███████████████████████████████████████████████████████████████████████████▎                                                                          | 401/799 [01:35<01:33,  4.25it/s]"
     ]
    },
    {
     "name": "stdout",
     "output_type": "stream",
     "text": [
      "EarlyStopping counter: 66 out of 10000\n",
      "Epoch   775: reducing learning rate of group 0 to 2.3302e-05.\n"
     ]
    },
    {
     "name": "stderr",
     "output_type": "stream",
     "text": [
      "Epoch 1: CE 2.304308:  75%|████████████████████████████████████████████████████████████████████████████████████████████████████████████████▊                                     | 601/799 [02:22<00:47,  4.19it/s]"
     ]
    },
    {
     "name": "stdout",
     "output_type": "stream",
     "text": [
      "EarlyStopping counter: 67 out of 10000\n"
     ]
    },
    {
     "name": "stderr",
     "output_type": "stream",
     "text": [
      "Epoch 1: CE 2.304351: 100%|██████████████████████████████████████████████████████████████████████████████████████████████████████████████████████████████████████████████████████| 799/799 [03:09<00:00,  4.23it/s]\n",
      "Epoch 1: CE 2.205540:   0%|▏                                                                                                                                                       | 1/799 [00:00<03:13,  4.13it/s]"
     ]
    },
    {
     "name": "stdout",
     "output_type": "stream",
     "text": [
      "EarlyStopping counter: 68 out of 10000\n"
     ]
    },
    {
     "name": "stderr",
     "output_type": "stream",
     "text": [
      "Epoch 1: CE 2.309572:  25%|█████████████████████████████████████▋                                                                                                                | 201/799 [00:48<02:12,  4.52it/s]"
     ]
    },
    {
     "name": "stdout",
     "output_type": "stream",
     "text": [
      "EarlyStopping counter: 69 out of 10000\n"
     ]
    },
    {
     "name": "stderr",
     "output_type": "stream",
     "text": [
      "Epoch 1: CE 2.303429:  50%|███████████████████████████████████████████████████████████████████████████▎                                                                          | 401/799 [01:35<01:33,  4.28it/s]"
     ]
    },
    {
     "name": "stdout",
     "output_type": "stream",
     "text": [
      "EarlyStopping counter: 70 out of 10000\n"
     ]
    },
    {
     "name": "stderr",
     "output_type": "stream",
     "text": [
      "Epoch 1: CE 2.308392:  75%|████████████████████████████████████████████████████████████████████████████████████████████████████████████████▊                                     | 601/799 [02:22<00:46,  4.25it/s]"
     ]
    },
    {
     "name": "stdout",
     "output_type": "stream",
     "text": [
      "EarlyStopping counter: 71 out of 10000\n"
     ]
    },
    {
     "name": "stderr",
     "output_type": "stream",
     "text": [
      "Epoch 1: CE 2.304674: 100%|██████████████████████████████████████████████████████████████████████████████████████████████████████████████████████████████████████████████████████| 799/799 [03:09<00:00,  4.22it/s]\n",
      "Epoch 1: CE 2.147311:   0%|▏                                                                                                                                                       | 1/799 [00:00<03:21,  3.95it/s]"
     ]
    },
    {
     "name": "stdout",
     "output_type": "stream",
     "text": [
      "EarlyStopping counter: 72 out of 10000\n",
      "Epoch   781: reducing learning rate of group 0 to 2.2370e-05.\n"
     ]
    },
    {
     "name": "stderr",
     "output_type": "stream",
     "text": [
      "Epoch 1: CE 2.300557:  25%|█████████████████████████████████████▋                                                                                                                | 201/799 [00:47<02:20,  4.25it/s]"
     ]
    },
    {
     "name": "stdout",
     "output_type": "stream",
     "text": [
      "EarlyStopping counter: 73 out of 10000\n"
     ]
    },
    {
     "name": "stderr",
     "output_type": "stream",
     "text": [
      "Epoch 1: CE 2.303276:  50%|███████████████████████████████████████████████████████████████████████████▎                                                                          | 401/799 [01:35<01:34,  4.20it/s]"
     ]
    },
    {
     "name": "stdout",
     "output_type": "stream",
     "text": [
      "EarlyStopping counter: 74 out of 10000\n"
     ]
    },
    {
     "name": "stderr",
     "output_type": "stream",
     "text": [
      "Epoch 1: CE 2.306225:  75%|████████████████████████████████████████████████████████████████████████████████████████████████████████████████▊                                     | 601/799 [02:22<00:45,  4.32it/s]"
     ]
    },
    {
     "name": "stdout",
     "output_type": "stream",
     "text": [
      "EarlyStopping counter: 75 out of 10000\n"
     ]
    },
    {
     "name": "stderr",
     "output_type": "stream",
     "text": [
      "Epoch 1: CE 2.304593: 100%|██████████████████████████████████████████████████████████████████████████████████████████████████████████████████████████████████████████████████████| 799/799 [03:09<00:00,  4.22it/s]\n",
      "Epoch 1: CE 2.322787:   0%|▏                                                                                                                                                       | 1/799 [00:00<03:23,  3.91it/s]"
     ]
    },
    {
     "name": "stdout",
     "output_type": "stream",
     "text": [
      "EarlyStopping counter: 76 out of 10000\n"
     ]
    },
    {
     "name": "stderr",
     "output_type": "stream",
     "text": [
      "Epoch 1: CE 2.302024:  25%|█████████████████████████████████████▋                                                                                                                | 201/799 [00:47<02:18,  4.30it/s]"
     ]
    },
    {
     "name": "stdout",
     "output_type": "stream",
     "text": [
      "EarlyStopping counter: 77 out of 10000\n"
     ]
    },
    {
     "name": "stderr",
     "output_type": "stream",
     "text": [
      "Epoch 1: CE 2.299163:  50%|███████████████████████████████████████████████████████████████████████████▎                                                                          | 401/799 [01:35<01:33,  4.25it/s]"
     ]
    },
    {
     "name": "stdout",
     "output_type": "stream",
     "text": [
      "EarlyStopping counter: 78 out of 10000\n",
      "Epoch   787: reducing learning rate of group 0 to 2.1475e-05.\n"
     ]
    },
    {
     "name": "stderr",
     "output_type": "stream",
     "text": [
      "Epoch 1: CE 2.301408:  75%|████████████████████████████████████████████████████████████████████████████████████████████████████████████████▊                                     | 601/799 [02:22<00:46,  4.23it/s]"
     ]
    },
    {
     "name": "stdout",
     "output_type": "stream",
     "text": [
      "EarlyStopping counter: 79 out of 10000\n"
     ]
    },
    {
     "name": "stderr",
     "output_type": "stream",
     "text": [
      "Epoch 1: CE 2.304231: 100%|██████████████████████████████████████████████████████████████████████████████████████████████████████████████████████████████████████████████████████| 799/799 [03:09<00:00,  4.23it/s]\n",
      "Epoch 1: CE 2.356085:   0%|▏                                                                                                                                                       | 1/799 [00:00<03:21,  3.96it/s]"
     ]
    },
    {
     "name": "stdout",
     "output_type": "stream",
     "text": [
      "EarlyStopping counter: 80 out of 10000\n"
     ]
    },
    {
     "name": "stderr",
     "output_type": "stream",
     "text": [
      "Epoch 1: CE 2.294211:  25%|█████████████████████████████████████▋                                                                                                                | 201/799 [00:48<02:32,  3.91it/s]"
     ]
    },
    {
     "name": "stdout",
     "output_type": "stream",
     "text": [
      "EarlyStopping counter: 81 out of 10000\n"
     ]
    },
    {
     "name": "stderr",
     "output_type": "stream",
     "text": [
      "Epoch 1: CE 2.293420:  50%|███████████████████████████████████████████████████████████████████████████▎                                                                          | 401/799 [01:35<01:34,  4.23it/s]"
     ]
    },
    {
     "name": "stdout",
     "output_type": "stream",
     "text": [
      "EarlyStopping counter: 82 out of 10000\n"
     ]
    },
    {
     "name": "stderr",
     "output_type": "stream",
     "text": [
      "Epoch 1: CE 2.301452:  75%|████████████████████████████████████████████████████████████████████████████████████████████████████████████████▊                                     | 601/799 [02:22<00:48,  4.09it/s]"
     ]
    },
    {
     "name": "stdout",
     "output_type": "stream",
     "text": [
      "EarlyStopping counter: 83 out of 10000\n"
     ]
    },
    {
     "name": "stderr",
     "output_type": "stream",
     "text": [
      "Epoch 1: CE 2.304114: 100%|██████████████████████████████████████████████████████████████████████████████████████████████████████████████████████████████████████████████████████| 799/799 [03:08<00:00,  4.23it/s]\n",
      "Epoch 1: CE 2.335142:   0%|▏                                                                                                                                                       | 1/799 [00:00<03:14,  4.11it/s]"
     ]
    },
    {
     "name": "stdout",
     "output_type": "stream",
     "text": [
      "EarlyStopping counter: 84 out of 10000\n",
      "Epoch   793: reducing learning rate of group 0 to 2.0616e-05.\n"
     ]
    },
    {
     "name": "stderr",
     "output_type": "stream",
     "text": [
      "Epoch 1: CE 2.294428:  25%|█████████████████████████████████████▋                                                                                                                | 201/799 [00:48<02:24,  4.13it/s]"
     ]
    },
    {
     "name": "stdout",
     "output_type": "stream",
     "text": [
      "EarlyStopping counter: 85 out of 10000\n"
     ]
    },
    {
     "name": "stderr",
     "output_type": "stream",
     "text": [
      "Epoch 1: CE 2.300150:  50%|███████████████████████████████████████████████████████████████████████████▎                                                                          | 401/799 [01:35<01:32,  4.31it/s]"
     ]
    },
    {
     "name": "stdout",
     "output_type": "stream",
     "text": [
      "EarlyStopping counter: 86 out of 10000\n"
     ]
    },
    {
     "name": "stderr",
     "output_type": "stream",
     "text": [
      "Epoch 1: CE 2.304130:  75%|████████████████████████████████████████████████████████████████████████████████████████████████████████████████▊                                     | 601/799 [02:22<00:46,  4.27it/s]"
     ]
    },
    {
     "name": "stdout",
     "output_type": "stream",
     "text": [
      "EarlyStopping counter: 87 out of 10000\n"
     ]
    },
    {
     "name": "stderr",
     "output_type": "stream",
     "text": [
      "Epoch 1: CE 2.303998: 100%|██████████████████████████████████████████████████████████████████████████████████████████████████████████████████████████████████████████████████████| 799/799 [03:09<00:00,  4.22it/s]\n",
      "Epoch 1: CE 2.324053:   0%|▏                                                                                                                                                       | 1/799 [00:00<03:19,  4.00it/s]"
     ]
    },
    {
     "name": "stdout",
     "output_type": "stream",
     "text": [
      "EarlyStopping counter: 88 out of 10000\n"
     ]
    },
    {
     "name": "stderr",
     "output_type": "stream",
     "text": [
      "Epoch 1: CE 2.308401:  25%|█████████████████████████████████████▋                                                                                                                | 201/799 [00:48<02:23,  4.17it/s]"
     ]
    },
    {
     "name": "stdout",
     "output_type": "stream",
     "text": [
      "EarlyStopping counter: 89 out of 10000\n"
     ]
    },
    {
     "name": "stderr",
     "output_type": "stream",
     "text": [
      "Epoch 1: CE 2.303462:  50%|███████████████████████████████████████████████████████████████████████████▎                                                                          | 401/799 [01:35<01:32,  4.28it/s]"
     ]
    },
    {
     "name": "stdout",
     "output_type": "stream",
     "text": [
      "EarlyStopping counter: 90 out of 10000\n",
      "Epoch   799: reducing learning rate of group 0 to 1.9792e-05.\n"
     ]
    },
    {
     "name": "stderr",
     "output_type": "stream",
     "text": [
      "Epoch 1: CE 2.303633:  75%|████████████████████████████████████████████████████████████████████████████████████████████████████████████████▊                                     | 601/799 [02:23<00:47,  4.14it/s]"
     ]
    },
    {
     "name": "stdout",
     "output_type": "stream",
     "text": [
      "EarlyStopping counter: 91 out of 10000\n"
     ]
    },
    {
     "name": "stderr",
     "output_type": "stream",
     "text": [
      "Epoch 1: CE 2.303860: 100%|██████████████████████████████████████████████████████████████████████████████████████████████████████████████████████████████████████████████████████| 799/799 [03:09<00:00,  4.21it/s]\n",
      "Epoch 1: CE 2.511604:   0%|▏                                                                                                                                                       | 1/799 [00:00<03:26,  3.86it/s]"
     ]
    },
    {
     "name": "stdout",
     "output_type": "stream",
     "text": [
      "EarlyStopping counter: 92 out of 10000\n"
     ]
    },
    {
     "name": "stderr",
     "output_type": "stream",
     "text": [
      "Epoch 1: CE 2.302279:  25%|█████████████████████████████████████▋                                                                                                                | 201/799 [00:48<02:22,  4.20it/s]"
     ]
    },
    {
     "name": "stdout",
     "output_type": "stream",
     "text": [
      "EarlyStopping counter: 93 out of 10000\n"
     ]
    },
    {
     "name": "stderr",
     "output_type": "stream",
     "text": [
      "Epoch 1: CE 2.302651:  50%|███████████████████████████████████████████████████████████████████████████▎                                                                          | 401/799 [01:35<01:32,  4.28it/s]"
     ]
    },
    {
     "name": "stdout",
     "output_type": "stream",
     "text": [
      "EarlyStopping counter: 94 out of 10000\n"
     ]
    },
    {
     "name": "stderr",
     "output_type": "stream",
     "text": [
      "Epoch 1: CE 2.303841:  75%|████████████████████████████████████████████████████████████████████████████████████████████████████████████████▊                                     | 601/799 [02:22<00:45,  4.37it/s]"
     ]
    },
    {
     "name": "stdout",
     "output_type": "stream",
     "text": [
      "EarlyStopping counter: 95 out of 10000\n"
     ]
    },
    {
     "name": "stderr",
     "output_type": "stream",
     "text": [
      "Epoch 1: CE 2.303693: 100%|██████████████████████████████████████████████████████████████████████████████████████████████████████████████████████████████████████████████████████| 799/799 [03:08<00:00,  4.24it/s]\n",
      "Epoch 1: CE 2.402395:   0%|▏                                                                                                                                                       | 1/799 [00:00<03:12,  4.14it/s]"
     ]
    },
    {
     "name": "stdout",
     "output_type": "stream",
     "text": [
      "EarlyStopping counter: 96 out of 10000\n",
      "Epoch   805: reducing learning rate of group 0 to 1.9000e-05.\n"
     ]
    },
    {
     "name": "stderr",
     "output_type": "stream",
     "text": [
      "Epoch 1: CE 2.302250:  25%|█████████████████████████████████████▋                                                                                                                | 201/799 [00:48<02:21,  4.23it/s]"
     ]
    },
    {
     "name": "stdout",
     "output_type": "stream",
     "text": [
      "EarlyStopping counter: 97 out of 10000\n"
     ]
    },
    {
     "name": "stderr",
     "output_type": "stream",
     "text": [
      "Epoch 1: CE 2.304099:  50%|███████████████████████████████████████████████████████████████████████████▎                                                                          | 401/799 [01:35<01:35,  4.18it/s]"
     ]
    },
    {
     "name": "stdout",
     "output_type": "stream",
     "text": [
      "EarlyStopping counter: 98 out of 10000\n"
     ]
    },
    {
     "name": "stderr",
     "output_type": "stream",
     "text": [
      "Epoch 1: CE 2.302357:  75%|████████████████████████████████████████████████████████████████████████████████████████████████████████████████▊                                     | 601/799 [02:22<00:46,  4.25it/s]"
     ]
    },
    {
     "name": "stdout",
     "output_type": "stream",
     "text": [
      "EarlyStopping counter: 99 out of 10000\n"
     ]
    },
    {
     "name": "stderr",
     "output_type": "stream",
     "text": [
      "Epoch 1: CE 2.303616: 100%|██████████████████████████████████████████████████████████████████████████████████████████████████████████████████████████████████████████████████████| 799/799 [03:09<00:00,  4.22it/s]\n",
      "Epoch 1: CE 2.280437:   0%|▏                                                                                                                                                       | 1/799 [00:00<03:13,  4.11it/s]"
     ]
    },
    {
     "name": "stdout",
     "output_type": "stream",
     "text": [
      "EarlyStopping counter: 100 out of 10000\n"
     ]
    },
    {
     "name": "stderr",
     "output_type": "stream",
     "text": [
      "Epoch 1: CE 2.302090:  25%|█████████████████████████████████████▋                                                                                                                | 201/799 [00:48<02:21,  4.22it/s]"
     ]
    },
    {
     "name": "stdout",
     "output_type": "stream",
     "text": [
      "EarlyStopping counter: 101 out of 10000\n"
     ]
    },
    {
     "name": "stderr",
     "output_type": "stream",
     "text": [
      "Epoch 1: CE 2.307768:  50%|███████████████████████████████████████████████████████████████████████████▎                                                                          | 401/799 [01:35<01:34,  4.23it/s]"
     ]
    },
    {
     "name": "stdout",
     "output_type": "stream",
     "text": [
      "EarlyStopping counter: 102 out of 10000\n",
      "Epoch   811: reducing learning rate of group 0 to 1.8240e-05.\n"
     ]
    },
    {
     "name": "stderr",
     "output_type": "stream",
     "text": [
      "Epoch 1: CE 2.305095:  75%|████████████████████████████████████████████████████████████████████████████████████████████████████████████████▊                                     | 601/799 [02:22<00:46,  4.24it/s]"
     ]
    },
    {
     "name": "stdout",
     "output_type": "stream",
     "text": [
      "EarlyStopping counter: 103 out of 10000\n"
     ]
    },
    {
     "name": "stderr",
     "output_type": "stream",
     "text": [
      "Epoch 1: CE 2.303754: 100%|██████████████████████████████████████████████████████████████████████████████████████████████████████████████████████████████████████████████████████| 799/799 [03:08<00:00,  4.23it/s]\n",
      "Epoch 1: CE 2.388923:   0%|▏                                                                                                                                                       | 1/799 [00:00<03:11,  4.17it/s]"
     ]
    },
    {
     "name": "stdout",
     "output_type": "stream",
     "text": [
      "EarlyStopping counter: 104 out of 10000\n"
     ]
    },
    {
     "name": "stderr",
     "output_type": "stream",
     "text": [
      "Epoch 1: CE 2.306059:  25%|█████████████████████████████████████▋                                                                                                                | 201/799 [00:48<02:18,  4.33it/s]"
     ]
    },
    {
     "name": "stdout",
     "output_type": "stream",
     "text": [
      "EarlyStopping counter: 105 out of 10000\n"
     ]
    },
    {
     "name": "stderr",
     "output_type": "stream",
     "text": [
      "Epoch 1: CE 2.303631:  50%|███████████████████████████████████████████████████████████████████████████▎                                                                          | 401/799 [01:35<01:33,  4.26it/s]"
     ]
    },
    {
     "name": "stdout",
     "output_type": "stream",
     "text": [
      "EarlyStopping counter: 106 out of 10000\n"
     ]
    },
    {
     "name": "stderr",
     "output_type": "stream",
     "text": [
      "Epoch 1: CE 2.304681:  75%|████████████████████████████████████████████████████████████████████████████████████████████████████████████████▊                                     | 601/799 [02:22<00:46,  4.22it/s]"
     ]
    },
    {
     "name": "stdout",
     "output_type": "stream",
     "text": [
      "EarlyStopping counter: 107 out of 10000\n"
     ]
    },
    {
     "name": "stderr",
     "output_type": "stream",
     "text": [
      "Epoch 1: CE 2.303703: 100%|██████████████████████████████████████████████████████████████████████████████████████████████████████████████████████████████████████████████████████| 799/799 [03:09<00:00,  4.22it/s]\n",
      "Epoch 1: CE 2.232122:   0%|▏                                                                                                                                                       | 1/799 [00:00<03:12,  4.15it/s]"
     ]
    },
    {
     "name": "stdout",
     "output_type": "stream",
     "text": [
      "EarlyStopping counter: 108 out of 10000\n",
      "Epoch   817: reducing learning rate of group 0 to 1.7510e-05.\n"
     ]
    },
    {
     "name": "stderr",
     "output_type": "stream",
     "text": [
      "Epoch 1: CE 2.302122:  25%|█████████████████████████████████████▋                                                                                                                | 201/799 [00:48<02:24,  4.14it/s]"
     ]
    },
    {
     "name": "stdout",
     "output_type": "stream",
     "text": [
      "EarlyStopping counter: 109 out of 10000\n"
     ]
    },
    {
     "name": "stderr",
     "output_type": "stream",
     "text": [
      "Epoch 1: CE 2.301474:  50%|███████████████████████████████████████████████████████████████████████████▎                                                                          | 401/799 [01:35<01:29,  4.46it/s]"
     ]
    },
    {
     "name": "stdout",
     "output_type": "stream",
     "text": [
      "EarlyStopping counter: 110 out of 10000\n"
     ]
    },
    {
     "name": "stderr",
     "output_type": "stream",
     "text": [
      "Epoch 1: CE 2.302062:  75%|████████████████████████████████████████████████████████████████████████████████████████████████████████████████▊                                     | 601/799 [02:22<00:46,  4.26it/s]"
     ]
    },
    {
     "name": "stdout",
     "output_type": "stream",
     "text": [
      "EarlyStopping counter: 111 out of 10000\n"
     ]
    },
    {
     "name": "stderr",
     "output_type": "stream",
     "text": [
      "Epoch 1: CE 2.303663: 100%|██████████████████████████████████████████████████████████████████████████████████████████████████████████████████████████████████████████████████████| 799/799 [03:08<00:00,  4.23it/s]\n",
      "Epoch 1: CE 2.367581:   0%|▏                                                                                                                                                       | 1/799 [00:00<03:30,  3.80it/s]"
     ]
    },
    {
     "name": "stdout",
     "output_type": "stream",
     "text": [
      "EarlyStopping counter: 112 out of 10000\n"
     ]
    },
    {
     "name": "stderr",
     "output_type": "stream",
     "text": [
      "Epoch 1: CE 2.304697:  25%|█████████████████████████████████████▋                                                                                                                | 201/799 [00:48<02:20,  4.27it/s]"
     ]
    },
    {
     "name": "stdout",
     "output_type": "stream",
     "text": [
      "EarlyStopping counter: 113 out of 10000\n"
     ]
    },
    {
     "name": "stderr",
     "output_type": "stream",
     "text": [
      "Epoch 1: CE 2.304424:  50%|███████████████████████████████████████████████████████████████████████████▎                                                                          | 401/799 [01:35<01:37,  4.07it/s]"
     ]
    },
    {
     "name": "stdout",
     "output_type": "stream",
     "text": [
      "EarlyStopping counter: 114 out of 10000\n",
      "Epoch   823: reducing learning rate of group 0 to 1.6810e-05.\n"
     ]
    },
    {
     "name": "stderr",
     "output_type": "stream",
     "text": [
      "Epoch 1: CE 2.304897:  75%|████████████████████████████████████████████████████████████████████████████████████████████████████████████████▊                                     | 601/799 [02:21<00:47,  4.17it/s]"
     ]
    },
    {
     "name": "stdout",
     "output_type": "stream",
     "text": [
      "EarlyStopping counter: 115 out of 10000\n"
     ]
    },
    {
     "name": "stderr",
     "output_type": "stream",
     "text": [
      "Epoch 1: CE 2.303504: 100%|██████████████████████████████████████████████████████████████████████████████████████████████████████████████████████████████████████████████████████| 799/799 [03:08<00:00,  4.24it/s]\n",
      "Epoch 1: CE 2.284580:   0%|▏                                                                                                                                                       | 1/799 [00:00<03:21,  3.97it/s]"
     ]
    },
    {
     "name": "stdout",
     "output_type": "stream",
     "text": [
      "EarlyStopping counter: 116 out of 10000\n"
     ]
    },
    {
     "name": "stderr",
     "output_type": "stream",
     "text": [
      "Epoch 1: CE 2.298853:  25%|█████████████████████████████████████▋                                                                                                                | 201/799 [00:48<02:20,  4.25it/s]"
     ]
    },
    {
     "name": "stdout",
     "output_type": "stream",
     "text": [
      "EarlyStopping counter: 117 out of 10000\n"
     ]
    },
    {
     "name": "stderr",
     "output_type": "stream",
     "text": [
      "Epoch 1: CE 2.299148:  50%|███████████████████████████████████████████████████████████████████████████▎                                                                          | 401/799 [01:35<01:35,  4.17it/s]"
     ]
    },
    {
     "name": "stdout",
     "output_type": "stream",
     "text": [
      "EarlyStopping counter: 118 out of 10000\n"
     ]
    },
    {
     "name": "stderr",
     "output_type": "stream",
     "text": [
      "Epoch 1: CE 2.301898:  75%|████████████████████████████████████████████████████████████████████████████████████████████████████████████████▊                                     | 601/799 [02:22<00:46,  4.22it/s]"
     ]
    },
    {
     "name": "stdout",
     "output_type": "stream",
     "text": [
      "EarlyStopping counter: 119 out of 10000\n"
     ]
    },
    {
     "name": "stderr",
     "output_type": "stream",
     "text": [
      "Epoch 1: CE 2.303574: 100%|██████████████████████████████████████████████████████████████████████████████████████████████████████████████████████████████████████████████████████| 799/799 [03:09<00:00,  4.23it/s]\n",
      "Epoch 1: CE 2.251870:   0%|▏                                                                                                                                                       | 1/799 [00:00<03:11,  4.17it/s]"
     ]
    },
    {
     "name": "stdout",
     "output_type": "stream",
     "text": [
      "EarlyStopping counter: 120 out of 10000\n",
      "Epoch   829: reducing learning rate of group 0 to 1.6138e-05.\n"
     ]
    },
    {
     "name": "stderr",
     "output_type": "stream",
     "text": [
      "Epoch 1: CE 2.297678:  25%|█████████████████████████████████████▋                                                                                                                | 201/799 [00:48<02:20,  4.25it/s]"
     ]
    },
    {
     "name": "stdout",
     "output_type": "stream",
     "text": [
      "EarlyStopping counter: 121 out of 10000\n"
     ]
    },
    {
     "name": "stderr",
     "output_type": "stream",
     "text": [
      "Epoch 1: CE 2.301224:  50%|███████████████████████████████████████████████████████████████████████████▎                                                                          | 401/799 [01:35<01:33,  4.28it/s]"
     ]
    },
    {
     "name": "stdout",
     "output_type": "stream",
     "text": [
      "EarlyStopping counter: 122 out of 10000\n"
     ]
    },
    {
     "name": "stderr",
     "output_type": "stream",
     "text": [
      "Epoch 1: CE 2.302087:  75%|████████████████████████████████████████████████████████████████████████████████████████████████████████████████▊                                     | 601/799 [02:22<00:47,  4.16it/s]"
     ]
    },
    {
     "name": "stdout",
     "output_type": "stream",
     "text": [
      "EarlyStopping counter: 123 out of 10000\n"
     ]
    },
    {
     "name": "stderr",
     "output_type": "stream",
     "text": [
      "Epoch 1: CE 2.303057: 100%|██████████████████████████████████████████████████████████████████████████████████████████████████████████████████████████████████████████████████████| 799/799 [03:09<00:00,  4.22it/s]\n",
      "Epoch 1: CE 2.269206:   0%|▏                                                                                                                                                       | 1/799 [00:00<03:16,  4.07it/s]"
     ]
    },
    {
     "name": "stdout",
     "output_type": "stream",
     "text": [
      "EarlyStopping counter: 124 out of 10000\n"
     ]
    },
    {
     "name": "stderr",
     "output_type": "stream",
     "text": [
      "Epoch 1: CE 2.300777:  25%|█████████████████████████████████████▋                                                                                                                | 201/799 [00:48<02:18,  4.33it/s]"
     ]
    },
    {
     "name": "stdout",
     "output_type": "stream",
     "text": [
      "EarlyStopping counter: 125 out of 10000\n"
     ]
    },
    {
     "name": "stderr",
     "output_type": "stream",
     "text": [
      "Epoch 1: CE 2.303011:  50%|███████████████████████████████████████████████████████████████████████████▎                                                                          | 401/799 [01:35<01:34,  4.21it/s]"
     ]
    },
    {
     "name": "stdout",
     "output_type": "stream",
     "text": [
      "EarlyStopping counter: 126 out of 10000\n",
      "Epoch   835: reducing learning rate of group 0 to 1.5492e-05.\n"
     ]
    },
    {
     "name": "stderr",
     "output_type": "stream",
     "text": [
      "Epoch 1: CE 2.303413:  75%|████████████████████████████████████████████████████████████████████████████████████████████████████████████████▊                                     | 601/799 [02:22<00:46,  4.28it/s]"
     ]
    },
    {
     "name": "stdout",
     "output_type": "stream",
     "text": [
      "EarlyStopping counter: 127 out of 10000\n"
     ]
    },
    {
     "name": "stderr",
     "output_type": "stream",
     "text": [
      "Epoch 1: CE 2.303434: 100%|██████████████████████████████████████████████████████████████████████████████████████████████████████████████████████████████████████████████████████| 799/799 [03:09<00:00,  4.22it/s]\n",
      "Epoch 1: CE 2.227023:   0%|▏                                                                                                                                                       | 1/799 [00:00<03:21,  3.95it/s]"
     ]
    },
    {
     "name": "stdout",
     "output_type": "stream",
     "text": [
      "EarlyStopping counter: 128 out of 10000\n"
     ]
    },
    {
     "name": "stderr",
     "output_type": "stream",
     "text": [
      "Epoch 1: CE 2.296122:  25%|█████████████████████████████████████▋                                                                                                                | 201/799 [00:48<02:23,  4.18it/s]"
     ]
    },
    {
     "name": "stdout",
     "output_type": "stream",
     "text": [
      "EarlyStopping counter: 129 out of 10000\n"
     ]
    },
    {
     "name": "stderr",
     "output_type": "stream",
     "text": [
      "Epoch 1: CE 2.298514:  50%|███████████████████████████████████████████████████████████████████████████▎                                                                          | 401/799 [01:35<01:30,  4.37it/s]"
     ]
    },
    {
     "name": "stdout",
     "output_type": "stream",
     "text": [
      "EarlyStopping counter: 130 out of 10000\n"
     ]
    },
    {
     "name": "stderr",
     "output_type": "stream",
     "text": [
      "Epoch 1: CE 2.302760:  75%|████████████████████████████████████████████████████████████████████████████████████████████████████████████████▊                                     | 601/799 [02:22<00:46,  4.29it/s]"
     ]
    },
    {
     "name": "stdout",
     "output_type": "stream",
     "text": [
      "EarlyStopping counter: 131 out of 10000\n"
     ]
    },
    {
     "name": "stderr",
     "output_type": "stream",
     "text": [
      "Epoch 1: CE 2.303681: 100%|██████████████████████████████████████████████████████████████████████████████████████████████████████████████████████████████████████████████████████| 799/799 [03:09<00:00,  4.22it/s]\n",
      "Epoch 1: CE 2.170696:   0%|▏                                                                                                                                                       | 1/799 [00:00<03:11,  4.16it/s]"
     ]
    },
    {
     "name": "stdout",
     "output_type": "stream",
     "text": [
      "EarlyStopping counter: 132 out of 10000\n",
      "Epoch   841: reducing learning rate of group 0 to 1.4872e-05.\n"
     ]
    },
    {
     "name": "stderr",
     "output_type": "stream",
     "text": [
      "Epoch 1: CE 2.306317:  25%|█████████████████████████████████████▋                                                                                                                | 201/799 [00:47<02:19,  4.29it/s]"
     ]
    },
    {
     "name": "stdout",
     "output_type": "stream",
     "text": [
      "EarlyStopping counter: 133 out of 10000\n"
     ]
    },
    {
     "name": "stderr",
     "output_type": "stream",
     "text": [
      "Epoch 1: CE 2.301762:  50%|███████████████████████████████████████████████████████████████████████████▎                                                                          | 401/799 [01:35<01:38,  4.05it/s]"
     ]
    },
    {
     "name": "stdout",
     "output_type": "stream",
     "text": [
      "EarlyStopping counter: 134 out of 10000\n"
     ]
    },
    {
     "name": "stderr",
     "output_type": "stream",
     "text": [
      "Epoch 1: CE 2.302887:  75%|████████████████████████████████████████████████████████████████████████████████████████████████████████████████▊                                     | 601/799 [02:22<00:46,  4.29it/s]"
     ]
    },
    {
     "name": "stdout",
     "output_type": "stream",
     "text": [
      "EarlyStopping counter: 135 out of 10000\n"
     ]
    },
    {
     "name": "stderr",
     "output_type": "stream",
     "text": [
      "Epoch 1: CE 2.303118: 100%|██████████████████████████████████████████████████████████████████████████████████████████████████████████████████████████████████████████████████████| 799/799 [03:08<00:00,  4.23it/s]\n",
      "Epoch 1: CE 2.270830:   0%|▏                                                                                                                                                       | 1/799 [00:00<03:22,  3.94it/s]"
     ]
    },
    {
     "name": "stdout",
     "output_type": "stream",
     "text": [
      "EarlyStopping counter: 136 out of 10000\n"
     ]
    },
    {
     "name": "stderr",
     "output_type": "stream",
     "text": [
      "Epoch 1: CE 2.308554:  25%|█████████████████████████████████████▋                                                                                                                | 201/799 [00:48<02:21,  4.21it/s]"
     ]
    },
    {
     "name": "stdout",
     "output_type": "stream",
     "text": [
      "EarlyStopping counter: 137 out of 10000\n"
     ]
    },
    {
     "name": "stderr",
     "output_type": "stream",
     "text": [
      "Epoch 1: CE 2.301120:  50%|███████████████████████████████████████████████████████████████████████████▎                                                                          | 401/799 [01:35<01:35,  4.18it/s]"
     ]
    },
    {
     "name": "stdout",
     "output_type": "stream",
     "text": [
      "EarlyStopping counter: 138 out of 10000\n",
      "Epoch   847: reducing learning rate of group 0 to 1.4278e-05.\n"
     ]
    },
    {
     "name": "stderr",
     "output_type": "stream",
     "text": [
      "Epoch 1: CE 2.303518:  75%|████████████████████████████████████████████████████████████████████████████████████████████████████████████████▊                                     | 601/799 [02:22<00:47,  4.13it/s]"
     ]
    },
    {
     "name": "stdout",
     "output_type": "stream",
     "text": [
      "EarlyStopping counter: 139 out of 10000\n"
     ]
    },
    {
     "name": "stderr",
     "output_type": "stream",
     "text": [
      "Epoch 1: CE 2.303310: 100%|██████████████████████████████████████████████████████████████████████████████████████████████████████████████████████████████████████████████████████| 799/799 [03:08<00:00,  4.23it/s]\n",
      "Epoch 1: CE 2.421196:   0%|▏                                                                                                                                                       | 1/799 [00:00<03:20,  3.98it/s]"
     ]
    },
    {
     "name": "stdout",
     "output_type": "stream",
     "text": [
      "EarlyStopping counter: 140 out of 10000\n"
     ]
    },
    {
     "name": "stderr",
     "output_type": "stream",
     "text": [
      "Epoch 1: CE 2.301828:  25%|█████████████████████████████████████▋                                                                                                                | 201/799 [00:47<02:20,  4.25it/s]"
     ]
    },
    {
     "name": "stdout",
     "output_type": "stream",
     "text": [
      "EarlyStopping counter: 141 out of 10000\n"
     ]
    },
    {
     "name": "stderr",
     "output_type": "stream",
     "text": [
      "Epoch 1: CE 2.300113:  50%|███████████████████████████████████████████████████████████████████████████▎                                                                          | 401/799 [01:34<01:32,  4.28it/s]"
     ]
    },
    {
     "name": "stdout",
     "output_type": "stream",
     "text": [
      "EarlyStopping counter: 142 out of 10000\n"
     ]
    },
    {
     "name": "stderr",
     "output_type": "stream",
     "text": [
      "Epoch 1: CE 2.304250:  75%|████████████████████████████████████████████████████████████████████████████████████████████████████████████████▊                                     | 601/799 [02:21<00:46,  4.23it/s]"
     ]
    },
    {
     "name": "stdout",
     "output_type": "stream",
     "text": [
      "EarlyStopping counter: 143 out of 10000\n"
     ]
    },
    {
     "name": "stderr",
     "output_type": "stream",
     "text": [
      "Epoch 1: CE 2.303192: 100%|██████████████████████████████████████████████████████████████████████████████████████████████████████████████████████████████████████████████████████| 799/799 [03:08<00:00,  4.25it/s]\n",
      "Epoch 1: CE 2.214164:   0%|▏                                                                                                                                                       | 1/799 [00:00<03:09,  4.20it/s]"
     ]
    },
    {
     "name": "stdout",
     "output_type": "stream",
     "text": [
      "EarlyStopping counter: 144 out of 10000\n",
      "Epoch   853: reducing learning rate of group 0 to 1.3706e-05.\n"
     ]
    },
    {
     "name": "stderr",
     "output_type": "stream",
     "text": [
      "Epoch 1: CE 2.303775:  25%|█████████████████████████████████████▋                                                                                                                | 201/799 [00:48<02:19,  4.29it/s]"
     ]
    },
    {
     "name": "stdout",
     "output_type": "stream",
     "text": [
      "EarlyStopping counter: 145 out of 10000\n"
     ]
    },
    {
     "name": "stderr",
     "output_type": "stream",
     "text": [
      "Epoch 1: CE 2.302442:  50%|███████████████████████████████████████████████████████████████████████████▎                                                                          | 401/799 [01:35<01:31,  4.33it/s]"
     ]
    },
    {
     "name": "stdout",
     "output_type": "stream",
     "text": [
      "EarlyStopping counter: 146 out of 10000\n"
     ]
    },
    {
     "name": "stderr",
     "output_type": "stream",
     "text": [
      "Epoch 1: CE 2.300499:  75%|████████████████████████████████████████████████████████████████████████████████████████████████████████████████▊                                     | 601/799 [02:22<00:45,  4.40it/s]"
     ]
    },
    {
     "name": "stdout",
     "output_type": "stream",
     "text": [
      "EarlyStopping counter: 147 out of 10000\n"
     ]
    },
    {
     "name": "stderr",
     "output_type": "stream",
     "text": [
      "Epoch 1: CE 2.302853: 100%|██████████████████████████████████████████████████████████████████████████████████████████████████████████████████████████████████████████████████████| 799/799 [03:08<00:00,  4.23it/s]\n",
      "Epoch 1: CE 2.351550:   0%|▏                                                                                                                                                       | 1/799 [00:00<03:23,  3.91it/s]"
     ]
    },
    {
     "name": "stdout",
     "output_type": "stream",
     "text": [
      "EarlyStopping counter: 148 out of 10000\n"
     ]
    },
    {
     "name": "stderr",
     "output_type": "stream",
     "text": [
      "Epoch 1: CE 2.301115:  25%|█████████████████████████████████████▋                                                                                                                | 201/799 [00:48<02:23,  4.17it/s]"
     ]
    },
    {
     "name": "stdout",
     "output_type": "stream",
     "text": [
      "EarlyStopping counter: 149 out of 10000\n"
     ]
    },
    {
     "name": "stderr",
     "output_type": "stream",
     "text": [
      "Epoch 1: CE 2.298236:  50%|███████████████████████████████████████████████████████████████████████████▎                                                                          | 401/799 [01:35<01:34,  4.20it/s]"
     ]
    },
    {
     "name": "stdout",
     "output_type": "stream",
     "text": [
      "EarlyStopping counter: 150 out of 10000\n",
      "Epoch   859: reducing learning rate of group 0 to 1.3158e-05.\n"
     ]
    },
    {
     "name": "stderr",
     "output_type": "stream",
     "text": [
      "Epoch 1: CE 2.302386:  75%|████████████████████████████████████████████████████████████████████████████████████████████████████████████████▊                                     | 601/799 [02:22<00:46,  4.26it/s]"
     ]
    },
    {
     "name": "stdout",
     "output_type": "stream",
     "text": [
      "EarlyStopping counter: 151 out of 10000\n"
     ]
    },
    {
     "name": "stderr",
     "output_type": "stream",
     "text": [
      "Epoch 1: CE 2.302712: 100%|██████████████████████████████████████████████████████████████████████████████████████████████████████████████████████████████████████████████████████| 799/799 [03:09<00:00,  4.23it/s]\n",
      "Epoch 1: CE 2.369183:   0%|▏                                                                                                                                                       | 1/799 [00:00<03:22,  3.94it/s]"
     ]
    },
    {
     "name": "stdout",
     "output_type": "stream",
     "text": [
      "EarlyStopping counter: 152 out of 10000\n"
     ]
    },
    {
     "name": "stderr",
     "output_type": "stream",
     "text": [
      "Epoch 1: CE 2.304947:  25%|█████████████████████████████████████▋                                                                                                                | 201/799 [00:48<02:22,  4.21it/s]"
     ]
    },
    {
     "name": "stdout",
     "output_type": "stream",
     "text": [
      "EarlyStopping counter: 153 out of 10000\n"
     ]
    },
    {
     "name": "stderr",
     "output_type": "stream",
     "text": [
      "Epoch 1: CE 2.305157:  50%|███████████████████████████████████████████████████████████████████████████▎                                                                          | 401/799 [01:35<01:32,  4.28it/s]"
     ]
    },
    {
     "name": "stdout",
     "output_type": "stream",
     "text": [
      "EarlyStopping counter: 154 out of 10000\n"
     ]
    },
    {
     "name": "stderr",
     "output_type": "stream",
     "text": [
      "Epoch 1: CE 2.303638:  75%|████████████████████████████████████████████████████████████████████████████████████████████████████████████████▊                                     | 601/799 [02:21<00:46,  4.29it/s]"
     ]
    },
    {
     "name": "stdout",
     "output_type": "stream",
     "text": [
      "EarlyStopping counter: 155 out of 10000\n"
     ]
    },
    {
     "name": "stderr",
     "output_type": "stream",
     "text": [
      "Epoch 1: CE 2.302998: 100%|██████████████████████████████████████████████████████████████████████████████████████████████████████████████████████████████████████████████████████| 799/799 [03:08<00:00,  4.24it/s]\n",
      "Epoch 1: CE 2.267599:   0%|▏                                                                                                                                                       | 1/799 [00:00<03:24,  3.91it/s]"
     ]
    },
    {
     "name": "stdout",
     "output_type": "stream",
     "text": [
      "EarlyStopping counter: 156 out of 10000\n",
      "Epoch   865: reducing learning rate of group 0 to 1.2632e-05.\n"
     ]
    },
    {
     "name": "stderr",
     "output_type": "stream",
     "text": [
      "Epoch 1: CE 2.294473:  25%|█████████████████████████████████████▋                                                                                                                | 201/799 [00:48<02:17,  4.34it/s]"
     ]
    },
    {
     "name": "stdout",
     "output_type": "stream",
     "text": [
      "EarlyStopping counter: 157 out of 10000\n"
     ]
    },
    {
     "name": "stderr",
     "output_type": "stream",
     "text": [
      "Epoch 1: CE 2.303756:  50%|███████████████████████████████████████████████████████████████████████████▎                                                                          | 401/799 [01:35<01:32,  4.33it/s]"
     ]
    },
    {
     "name": "stdout",
     "output_type": "stream",
     "text": [
      "EarlyStopping counter: 158 out of 10000\n"
     ]
    },
    {
     "name": "stderr",
     "output_type": "stream",
     "text": [
      "Epoch 1: CE 2.303806:  75%|████████████████████████████████████████████████████████████████████████████████████████████████████████████████▊                                     | 601/799 [02:22<00:46,  4.29it/s]"
     ]
    },
    {
     "name": "stdout",
     "output_type": "stream",
     "text": [
      "EarlyStopping counter: 159 out of 10000\n"
     ]
    },
    {
     "name": "stderr",
     "output_type": "stream",
     "text": [
      "Epoch 1: CE 2.303005: 100%|██████████████████████████████████████████████████████████████████████████████████████████████████████████████████████████████████████████████████████| 799/799 [03:09<00:00,  4.22it/s]\n",
      "Epoch 1: CE 2.427517:   0%|▏                                                                                                                                                       | 1/799 [00:00<03:29,  3.81it/s]"
     ]
    },
    {
     "name": "stdout",
     "output_type": "stream",
     "text": [
      "EarlyStopping counter: 160 out of 10000\n"
     ]
    },
    {
     "name": "stderr",
     "output_type": "stream",
     "text": [
      "Epoch 1: CE 2.308879:  25%|█████████████████████████████████████▋                                                                                                                | 201/799 [00:48<02:24,  4.13it/s]"
     ]
    },
    {
     "name": "stdout",
     "output_type": "stream",
     "text": [
      "EarlyStopping counter: 161 out of 10000\n"
     ]
    },
    {
     "name": "stderr",
     "output_type": "stream",
     "text": [
      "Epoch 1: CE 2.306480:  50%|███████████████████████████████████████████████████████████████████████████▎                                                                          | 401/799 [01:35<01:32,  4.29it/s]"
     ]
    },
    {
     "name": "stdout",
     "output_type": "stream",
     "text": [
      "EarlyStopping counter: 162 out of 10000\n",
      "Epoch   871: reducing learning rate of group 0 to 1.2127e-05.\n"
     ]
    },
    {
     "name": "stderr",
     "output_type": "stream",
     "text": [
      "Epoch 1: CE 2.303579:  75%|████████████████████████████████████████████████████████████████████████████████████████████████████████████████▊                                     | 601/799 [02:22<00:45,  4.33it/s]"
     ]
    },
    {
     "name": "stdout",
     "output_type": "stream",
     "text": [
      "EarlyStopping counter: 163 out of 10000\n"
     ]
    },
    {
     "name": "stderr",
     "output_type": "stream",
     "text": [
      "Epoch 1: CE 2.302860: 100%|██████████████████████████████████████████████████████████████████████████████████████████████████████████████████████████████████████████████████████| 799/799 [03:08<00:00,  4.23it/s]\n",
      "Epoch 1: CE 2.302904:   0%|▏                                                                                                                                                       | 1/799 [00:00<03:14,  4.10it/s]"
     ]
    },
    {
     "name": "stdout",
     "output_type": "stream",
     "text": [
      "EarlyStopping counter: 164 out of 10000\n"
     ]
    },
    {
     "name": "stderr",
     "output_type": "stream",
     "text": [
      "Epoch 1: CE 2.299558:  25%|█████████████████████████████████████▋                                                                                                                | 201/799 [00:48<02:20,  4.27it/s]"
     ]
    },
    {
     "name": "stdout",
     "output_type": "stream",
     "text": [
      "EarlyStopping counter: 165 out of 10000\n"
     ]
    },
    {
     "name": "stderr",
     "output_type": "stream",
     "text": [
      "Epoch 1: CE 2.302126:  50%|███████████████████████████████████████████████████████████████████████████▎                                                                          | 401/799 [01:35<01:34,  4.21it/s]"
     ]
    },
    {
     "name": "stdout",
     "output_type": "stream",
     "text": [
      "EarlyStopping counter: 166 out of 10000\n"
     ]
    },
    {
     "name": "stderr",
     "output_type": "stream",
     "text": [
      "Epoch 1: CE 2.302890:  75%|████████████████████████████████████████████████████████████████████████████████████████████████████████████████▊                                     | 601/799 [02:22<00:46,  4.29it/s]"
     ]
    },
    {
     "name": "stdout",
     "output_type": "stream",
     "text": [
      "EarlyStopping counter: 167 out of 10000\n"
     ]
    },
    {
     "name": "stderr",
     "output_type": "stream",
     "text": [
      "Epoch 1: CE 2.302718: 100%|██████████████████████████████████████████████████████████████████████████████████████████████████████████████████████████████████████████████████████| 799/799 [03:08<00:00,  4.23it/s]\n",
      "Epoch 1: CE 2.486403:   0%|▏                                                                                                                                                       | 1/799 [00:00<03:39,  3.64it/s]"
     ]
    },
    {
     "name": "stdout",
     "output_type": "stream",
     "text": [
      "EarlyStopping counter: 168 out of 10000\n",
      "Epoch   877: reducing learning rate of group 0 to 1.1642e-05.\n"
     ]
    },
    {
     "name": "stderr",
     "output_type": "stream",
     "text": [
      "Epoch 1: CE 2.308645:  25%|█████████████████████████████████████▋                                                                                                                | 201/799 [00:48<02:21,  4.24it/s]"
     ]
    },
    {
     "name": "stdout",
     "output_type": "stream",
     "text": [
      "EarlyStopping counter: 169 out of 10000\n"
     ]
    },
    {
     "name": "stderr",
     "output_type": "stream",
     "text": [
      "Epoch 1: CE 2.302894:  50%|███████████████████████████████████████████████████████████████████████████▎                                                                          | 401/799 [01:35<01:36,  4.12it/s]"
     ]
    },
    {
     "name": "stdout",
     "output_type": "stream",
     "text": [
      "EarlyStopping counter: 170 out of 10000\n"
     ]
    },
    {
     "name": "stderr",
     "output_type": "stream",
     "text": [
      "Epoch 1: CE 2.302271:  75%|████████████████████████████████████████████████████████████████████████████████████████████████████████████████▊                                     | 601/799 [02:22<00:45,  4.37it/s]"
     ]
    },
    {
     "name": "stdout",
     "output_type": "stream",
     "text": [
      "EarlyStopping counter: 171 out of 10000\n"
     ]
    },
    {
     "name": "stderr",
     "output_type": "stream",
     "text": [
      "Epoch 1: CE 2.302516: 100%|██████████████████████████████████████████████████████████████████████████████████████████████████████████████████████████████████████████████████████| 799/799 [03:08<00:00,  4.23it/s]\n",
      "Epoch 1: CE 2.295333:   0%|▏                                                                                                                                                       | 1/799 [00:00<03:26,  3.86it/s]"
     ]
    },
    {
     "name": "stdout",
     "output_type": "stream",
     "text": [
      "EarlyStopping counter: 172 out of 10000\n"
     ]
    },
    {
     "name": "stderr",
     "output_type": "stream",
     "text": [
      "Epoch 1: CE 2.302751:  25%|█████████████████████████████████████▋                                                                                                                | 201/799 [00:48<02:21,  4.24it/s]"
     ]
    },
    {
     "name": "stdout",
     "output_type": "stream",
     "text": [
      "EarlyStopping counter: 173 out of 10000\n"
     ]
    },
    {
     "name": "stderr",
     "output_type": "stream",
     "text": [
      "Epoch 1: CE 2.302234:  50%|███████████████████████████████████████████████████████████████████████████▎                                                                          | 401/799 [01:35<01:35,  4.18it/s]"
     ]
    },
    {
     "name": "stdout",
     "output_type": "stream",
     "text": [
      "EarlyStopping counter: 174 out of 10000\n",
      "Epoch   883: reducing learning rate of group 0 to 1.1176e-05.\n"
     ]
    },
    {
     "name": "stderr",
     "output_type": "stream",
     "text": [
      "Epoch 1: CE 2.302570:  75%|████████████████████████████████████████████████████████████████████████████████████████████████████████████████▊                                     | 601/799 [02:22<00:47,  4.19it/s]"
     ]
    },
    {
     "name": "stdout",
     "output_type": "stream",
     "text": [
      "EarlyStopping counter: 175 out of 10000\n"
     ]
    },
    {
     "name": "stderr",
     "output_type": "stream",
     "text": [
      "Epoch 1: CE 2.302445: 100%|██████████████████████████████████████████████████████████████████████████████████████████████████████████████████████████████████████████████████████| 799/799 [03:08<00:00,  4.23it/s]\n",
      "Epoch 1: CE 2.217221:   0%|▏                                                                                                                                                       | 1/799 [00:00<03:24,  3.91it/s]"
     ]
    },
    {
     "name": "stdout",
     "output_type": "stream",
     "text": [
      "EarlyStopping counter: 176 out of 10000\n"
     ]
    },
    {
     "name": "stderr",
     "output_type": "stream",
     "text": [
      "Epoch 1: CE 2.307163:  25%|█████████████████████████████████████▋                                                                                                                | 201/799 [00:48<02:19,  4.28it/s]"
     ]
    },
    {
     "name": "stdout",
     "output_type": "stream",
     "text": [
      "EarlyStopping counter: 177 out of 10000\n"
     ]
    },
    {
     "name": "stderr",
     "output_type": "stream",
     "text": [
      "Epoch 1: CE 2.304092:  50%|███████████████████████████████████████████████████████████████████████████▎                                                                          | 401/799 [01:35<01:34,  4.20it/s]"
     ]
    },
    {
     "name": "stdout",
     "output_type": "stream",
     "text": [
      "EarlyStopping counter: 178 out of 10000\n"
     ]
    },
    {
     "name": "stderr",
     "output_type": "stream",
     "text": [
      "Epoch 1: CE 2.303016:  75%|████████████████████████████████████████████████████████████████████████████████████████████████████████████████▊                                     | 601/799 [02:22<00:49,  4.02it/s]"
     ]
    },
    {
     "name": "stdout",
     "output_type": "stream",
     "text": [
      "EarlyStopping counter: 179 out of 10000\n"
     ]
    },
    {
     "name": "stderr",
     "output_type": "stream",
     "text": [
      "Epoch 1: CE 2.302497: 100%|██████████████████████████████████████████████████████████████████████████████████████████████████████████████████████████████████████████████████████| 799/799 [03:09<00:00,  4.22it/s]\n",
      "Epoch 1: CE 2.475229:   0%|▏                                                                                                                                                       | 1/799 [00:00<03:18,  4.02it/s]"
     ]
    },
    {
     "name": "stdout",
     "output_type": "stream",
     "text": [
      "EarlyStopping counter: 180 out of 10000\n",
      "Epoch   889: reducing learning rate of group 0 to 1.0729e-05.\n"
     ]
    },
    {
     "name": "stderr",
     "output_type": "stream",
     "text": [
      "Epoch 1: CE 2.300529:  25%|█████████████████████████████████████▋                                                                                                                | 201/799 [00:48<02:22,  4.20it/s]"
     ]
    },
    {
     "name": "stdout",
     "output_type": "stream",
     "text": [
      "EarlyStopping counter: 181 out of 10000\n"
     ]
    },
    {
     "name": "stderr",
     "output_type": "stream",
     "text": [
      "Epoch 1: CE 2.301038:  50%|███████████████████████████████████████████████████████████████████████████▎                                                                          | 401/799 [01:35<01:33,  4.24it/s]"
     ]
    },
    {
     "name": "stdout",
     "output_type": "stream",
     "text": [
      "EarlyStopping counter: 182 out of 10000\n"
     ]
    },
    {
     "name": "stderr",
     "output_type": "stream",
     "text": [
      "Epoch 1: CE 2.302058:  75%|████████████████████████████████████████████████████████████████████████████████████████████████████████████████▊                                     | 601/799 [02:22<00:45,  4.34it/s]"
     ]
    },
    {
     "name": "stdout",
     "output_type": "stream",
     "text": [
      "EarlyStopping counter: 183 out of 10000\n"
     ]
    },
    {
     "name": "stderr",
     "output_type": "stream",
     "text": [
      "Epoch 1: CE 2.302474: 100%|██████████████████████████████████████████████████████████████████████████████████████████████████████████████████████████████████████████████████████| 799/799 [03:09<00:00,  4.22it/s]\n",
      "Epoch 1: CE 2.368944:   0%|▏                                                                                                                                                       | 1/799 [00:00<03:23,  3.92it/s]"
     ]
    },
    {
     "name": "stdout",
     "output_type": "stream",
     "text": [
      "EarlyStopping counter: 184 out of 10000\n"
     ]
    },
    {
     "name": "stderr",
     "output_type": "stream",
     "text": [
      "Epoch 1: CE 2.302466:  25%|█████████████████████████████████████▋                                                                                                                | 201/799 [00:48<02:18,  4.33it/s]"
     ]
    },
    {
     "name": "stdout",
     "output_type": "stream",
     "text": [
      "EarlyStopping counter: 185 out of 10000\n"
     ]
    },
    {
     "name": "stderr",
     "output_type": "stream",
     "text": [
      "Epoch 1: CE 2.300773:  50%|███████████████████████████████████████████████████████████████████████████▎                                                                          | 401/799 [01:35<01:35,  4.17it/s]"
     ]
    },
    {
     "name": "stdout",
     "output_type": "stream",
     "text": [
      "EarlyStopping counter: 186 out of 10000\n",
      "Epoch   895: reducing learning rate of group 0 to 1.0300e-05.\n"
     ]
    },
    {
     "name": "stderr",
     "output_type": "stream",
     "text": [
      "Epoch 1: CE 2.304615:  75%|████████████████████████████████████████████████████████████████████████████████████████████████████████████████▊                                     | 601/799 [02:22<00:46,  4.24it/s]"
     ]
    },
    {
     "name": "stdout",
     "output_type": "stream",
     "text": [
      "EarlyStopping counter: 187 out of 10000\n"
     ]
    },
    {
     "name": "stderr",
     "output_type": "stream",
     "text": [
      "Epoch 1: CE 2.302831: 100%|██████████████████████████████████████████████████████████████████████████████████████████████████████████████████████████████████████████████████████| 799/799 [03:09<00:00,  4.22it/s]\n",
      "Epoch 1: CE 2.329546:   0%|▏                                                                                                                                                       | 1/799 [00:00<03:13,  4.13it/s]"
     ]
    },
    {
     "name": "stdout",
     "output_type": "stream",
     "text": [
      "EarlyStopping counter: 188 out of 10000\n"
     ]
    },
    {
     "name": "stderr",
     "output_type": "stream",
     "text": [
      "Epoch 1: CE 2.306438:  25%|█████████████████████████████████████▋                                                                                                                | 201/799 [00:48<02:22,  4.20it/s]"
     ]
    },
    {
     "name": "stdout",
     "output_type": "stream",
     "text": [
      "EarlyStopping counter: 189 out of 10000\n"
     ]
    },
    {
     "name": "stderr",
     "output_type": "stream",
     "text": [
      "Epoch 1: CE 2.300306:  50%|███████████████████████████████████████████████████████████████████████████▎                                                                          | 401/799 [01:35<01:34,  4.23it/s]"
     ]
    },
    {
     "name": "stdout",
     "output_type": "stream",
     "text": [
      "EarlyStopping counter: 190 out of 10000\n"
     ]
    },
    {
     "name": "stderr",
     "output_type": "stream",
     "text": [
      "Epoch 1: CE 2.300837:  75%|████████████████████████████████████████████████████████████████████████████████████████████████████████████████▊                                     | 601/799 [02:22<00:46,  4.24it/s]"
     ]
    },
    {
     "name": "stdout",
     "output_type": "stream",
     "text": [
      "EarlyStopping counter: 191 out of 10000\n"
     ]
    },
    {
     "name": "stderr",
     "output_type": "stream",
     "text": [
      "Epoch 1: CE 2.302469: 100%|██████████████████████████████████████████████████████████████████████████████████████████████████████████████████████████████████████████████████████| 799/799 [03:09<00:00,  4.21it/s]\n",
      "Epoch 1: CE 2.255727:   0%|▏                                                                                                                                                       | 1/799 [00:00<03:12,  4.15it/s]"
     ]
    },
    {
     "name": "stdout",
     "output_type": "stream",
     "text": [
      "EarlyStopping counter: 192 out of 10000\n",
      "Epoch   901: reducing learning rate of group 0 to 9.8877e-06.\n"
     ]
    },
    {
     "name": "stderr",
     "output_type": "stream",
     "text": [
      "Epoch 1: CE 2.299379:  25%|█████████████████████████████████████▋                                                                                                                | 201/799 [00:48<02:20,  4.24it/s]"
     ]
    },
    {
     "name": "stdout",
     "output_type": "stream",
     "text": [
      "EarlyStopping counter: 193 out of 10000\n"
     ]
    },
    {
     "name": "stderr",
     "output_type": "stream",
     "text": [
      "Epoch 1: CE 2.300951:  50%|███████████████████████████████████████████████████████████████████████████▎                                                                          | 401/799 [01:35<01:32,  4.29it/s]"
     ]
    },
    {
     "name": "stdout",
     "output_type": "stream",
     "text": [
      "EarlyStopping counter: 194 out of 10000\n"
     ]
    },
    {
     "name": "stderr",
     "output_type": "stream",
     "text": [
      "Epoch 1: CE 2.301848:  75%|████████████████████████████████████████████████████████████████████████████████████████████████████████████████▊                                     | 601/799 [02:22<00:45,  4.32it/s]"
     ]
    },
    {
     "name": "stdout",
     "output_type": "stream",
     "text": [
      "EarlyStopping counter: 195 out of 10000\n"
     ]
    },
    {
     "name": "stderr",
     "output_type": "stream",
     "text": [
      "Epoch 1: CE 2.302584: 100%|██████████████████████████████████████████████████████████████████████████████████████████████████████████████████████████████████████████████████████| 799/799 [03:08<00:00,  4.23it/s]\n",
      "Epoch 1: CE 2.302398:   0%|▏                                                                                                                                                       | 1/799 [00:00<03:20,  3.97it/s]"
     ]
    },
    {
     "name": "stdout",
     "output_type": "stream",
     "text": [
      "EarlyStopping counter: 196 out of 10000\n"
     ]
    },
    {
     "name": "stderr",
     "output_type": "stream",
     "text": [
      "Epoch 1: CE 2.300856:  25%|█████████████████████████████████████▋                                                                                                                | 201/799 [00:48<02:20,  4.25it/s]"
     ]
    },
    {
     "name": "stdout",
     "output_type": "stream",
     "text": [
      "EarlyStopping counter: 197 out of 10000\n"
     ]
    },
    {
     "name": "stderr",
     "output_type": "stream",
     "text": [
      "Epoch 1: CE 2.305004:  50%|███████████████████████████████████████████████████████████████████████████▎                                                                          | 401/799 [01:35<01:35,  4.17it/s]"
     ]
    },
    {
     "name": "stdout",
     "output_type": "stream",
     "text": [
      "EarlyStopping counter: 198 out of 10000\n",
      "Epoch   907: reducing learning rate of group 0 to 9.4922e-06.\n"
     ]
    },
    {
     "name": "stderr",
     "output_type": "stream",
     "text": [
      "Epoch 1: CE 2.303760:  75%|████████████████████████████████████████████████████████████████████████████████████████████████████████████████▊                                     | 601/799 [02:22<00:48,  4.12it/s]"
     ]
    },
    {
     "name": "stdout",
     "output_type": "stream",
     "text": [
      "EarlyStopping counter: 199 out of 10000\n"
     ]
    },
    {
     "name": "stderr",
     "output_type": "stream",
     "text": [
      "Epoch 1: CE 2.302672: 100%|██████████████████████████████████████████████████████████████████████████████████████████████████████████████████████████████████████████████████████| 799/799 [03:09<00:00,  4.22it/s]\n",
      "Epoch 1: CE 2.297875:   0%|▏                                                                                                                                                       | 1/799 [00:00<03:14,  4.09it/s]"
     ]
    },
    {
     "name": "stdout",
     "output_type": "stream",
     "text": [
      "EarlyStopping counter: 200 out of 10000\n"
     ]
    },
    {
     "name": "stderr",
     "output_type": "stream",
     "text": [
      "Epoch 1: CE 2.301163:  25%|█████████████████████████████████████▋                                                                                                                | 201/799 [00:48<02:23,  4.17it/s]"
     ]
    },
    {
     "name": "stdout",
     "output_type": "stream",
     "text": [
      "EarlyStopping counter: 201 out of 10000\n"
     ]
    },
    {
     "name": "stderr",
     "output_type": "stream",
     "text": [
      "Epoch 1: CE 2.304952:  50%|███████████████████████████████████████████████████████████████████████████▎                                                                          | 401/799 [01:35<01:30,  4.42it/s]"
     ]
    },
    {
     "name": "stdout",
     "output_type": "stream",
     "text": [
      "EarlyStopping counter: 202 out of 10000\n"
     ]
    },
    {
     "name": "stderr",
     "output_type": "stream",
     "text": [
      "Epoch 1: CE 2.301589:  75%|████████████████████████████████████████████████████████████████████████████████████████████████████████████████▊                                     | 601/799 [02:22<00:46,  4.25it/s]"
     ]
    },
    {
     "name": "stdout",
     "output_type": "stream",
     "text": [
      "EarlyStopping counter: 203 out of 10000\n"
     ]
    },
    {
     "name": "stderr",
     "output_type": "stream",
     "text": [
      "Epoch 1: CE 2.302354: 100%|██████████████████████████████████████████████████████████████████████████████████████████████████████████████████████████████████████████████████████| 799/799 [03:09<00:00,  4.21it/s]\n",
      "Epoch 1: CE 2.392340:   0%|▏                                                                                                                                                       | 1/799 [00:00<03:21,  3.97it/s]"
     ]
    },
    {
     "name": "stdout",
     "output_type": "stream",
     "text": [
      "EarlyStopping counter: 204 out of 10000\n",
      "Epoch   913: reducing learning rate of group 0 to 9.1125e-06.\n"
     ]
    },
    {
     "name": "stderr",
     "output_type": "stream",
     "text": [
      "Epoch 1: CE 2.305354:  25%|█████████████████████████████████████▋                                                                                                                | 201/799 [00:48<02:18,  4.31it/s]"
     ]
    },
    {
     "name": "stdout",
     "output_type": "stream",
     "text": [
      "EarlyStopping counter: 205 out of 10000\n"
     ]
    },
    {
     "name": "stderr",
     "output_type": "stream",
     "text": [
      "Epoch 1: CE 2.303626:  50%|███████████████████████████████████████████████████████████████████████████▎                                                                          | 401/799 [01:35<01:34,  4.21it/s]"
     ]
    },
    {
     "name": "stdout",
     "output_type": "stream",
     "text": [
      "EarlyStopping counter: 206 out of 10000\n"
     ]
    },
    {
     "name": "stderr",
     "output_type": "stream",
     "text": [
      "Epoch 1: CE 2.302806:  75%|████████████████████████████████████████████████████████████████████████████████████████████████████████████████▊                                     | 601/799 [02:22<00:43,  4.55it/s]"
     ]
    },
    {
     "name": "stdout",
     "output_type": "stream",
     "text": [
      "EarlyStopping counter: 207 out of 10000\n"
     ]
    },
    {
     "name": "stderr",
     "output_type": "stream",
     "text": [
      "Epoch 1: CE 2.302427: 100%|██████████████████████████████████████████████████████████████████████████████████████████████████████████████████████████████████████████████████████| 799/799 [03:09<00:00,  4.22it/s]\n",
      "Epoch 1: CE 2.403052:   0%|▏                                                                                                                                                       | 1/799 [00:00<03:31,  3.78it/s]"
     ]
    },
    {
     "name": "stdout",
     "output_type": "stream",
     "text": [
      "EarlyStopping counter: 208 out of 10000\n"
     ]
    },
    {
     "name": "stderr",
     "output_type": "stream",
     "text": [
      "Epoch 1: CE 2.298024:  25%|█████████████████████████████████████▋                                                                                                                | 201/799 [00:48<02:18,  4.31it/s]"
     ]
    },
    {
     "name": "stdout",
     "output_type": "stream",
     "text": [
      "EarlyStopping counter: 209 out of 10000\n"
     ]
    },
    {
     "name": "stderr",
     "output_type": "stream",
     "text": [
      "Epoch 1: CE 2.299436:  50%|███████████████████████████████████████████████████████████████████████████▎                                                                          | 401/799 [01:35<01:34,  4.20it/s]"
     ]
    },
    {
     "name": "stdout",
     "output_type": "stream",
     "text": [
      "EarlyStopping counter: 210 out of 10000\n",
      "Epoch   919: reducing learning rate of group 0 to 8.7480e-06.\n"
     ]
    },
    {
     "name": "stderr",
     "output_type": "stream",
     "text": [
      "Epoch 1: CE 2.301584:  75%|████████████████████████████████████████████████████████████████████████████████████████████████████████████████▊                                     | 601/799 [02:22<00:47,  4.17it/s]"
     ]
    },
    {
     "name": "stdout",
     "output_type": "stream",
     "text": [
      "EarlyStopping counter: 211 out of 10000\n"
     ]
    },
    {
     "name": "stderr",
     "output_type": "stream",
     "text": [
      "Epoch 1: CE 2.302011: 100%|██████████████████████████████████████████████████████████████████████████████████████████████████████████████████████████████████████████████████████| 799/799 [03:09<00:00,  4.22it/s]\n",
      "Epoch 1: CE 2.344329:   0%|▏                                                                                                                                                       | 1/799 [00:00<03:18,  4.03it/s]"
     ]
    },
    {
     "name": "stdout",
     "output_type": "stream",
     "text": [
      "EarlyStopping counter: 212 out of 10000\n"
     ]
    },
    {
     "name": "stderr",
     "output_type": "stream",
     "text": [
      "Epoch 1: CE 2.297139:  25%|█████████████████████████████████████▋                                                                                                                | 201/799 [00:48<02:23,  4.17it/s]"
     ]
    },
    {
     "name": "stdout",
     "output_type": "stream",
     "text": [
      "EarlyStopping counter: 213 out of 10000\n"
     ]
    },
    {
     "name": "stderr",
     "output_type": "stream",
     "text": [
      "Epoch 1: CE 2.299309:  50%|███████████████████████████████████████████████████████████████████████████▎                                                                          | 401/799 [01:35<01:32,  4.29it/s]"
     ]
    },
    {
     "name": "stdout",
     "output_type": "stream",
     "text": [
      "EarlyStopping counter: 214 out of 10000\n"
     ]
    },
    {
     "name": "stderr",
     "output_type": "stream",
     "text": [
      "Epoch 1: CE 2.300609:  75%|████████████████████████████████████████████████████████████████████████████████████████████████████████████████▊                                     | 601/799 [02:22<00:47,  4.15it/s]"
     ]
    },
    {
     "name": "stdout",
     "output_type": "stream",
     "text": [
      "EarlyStopping counter: 215 out of 10000\n"
     ]
    },
    {
     "name": "stderr",
     "output_type": "stream",
     "text": [
      "Epoch 1: CE 2.302491: 100%|██████████████████████████████████████████████████████████████████████████████████████████████████████████████████████████████████████████████████████| 799/799 [03:09<00:00,  4.22it/s]\n",
      "Epoch 1: CE 2.209921:   0%|▏                                                                                                                                                       | 1/799 [00:00<03:07,  4.26it/s]"
     ]
    },
    {
     "name": "stdout",
     "output_type": "stream",
     "text": [
      "EarlyStopping counter: 216 out of 10000\n",
      "Epoch   925: reducing learning rate of group 0 to 8.3981e-06.\n"
     ]
    },
    {
     "name": "stderr",
     "output_type": "stream",
     "text": [
      "Epoch 1: CE 2.302759:  25%|█████████████████████████████████████▋                                                                                                                | 201/799 [00:48<02:22,  4.20it/s]"
     ]
    },
    {
     "name": "stdout",
     "output_type": "stream",
     "text": [
      "EarlyStopping counter: 217 out of 10000\n"
     ]
    },
    {
     "name": "stderr",
     "output_type": "stream",
     "text": [
      "Epoch 1: CE 2.306160:  50%|███████████████████████████████████████████████████████████████████████████▎                                                                          | 401/799 [01:35<01:33,  4.27it/s]"
     ]
    },
    {
     "name": "stdout",
     "output_type": "stream",
     "text": [
      "EarlyStopping counter: 218 out of 10000\n"
     ]
    },
    {
     "name": "stderr",
     "output_type": "stream",
     "text": [
      "Epoch 1: CE 2.304741:  75%|████████████████████████████████████████████████████████████████████████████████████████████████████████████████▊                                     | 601/799 [02:22<00:46,  4.29it/s]"
     ]
    },
    {
     "name": "stdout",
     "output_type": "stream",
     "text": [
      "EarlyStopping counter: 219 out of 10000\n"
     ]
    },
    {
     "name": "stderr",
     "output_type": "stream",
     "text": [
      "Epoch 1: CE 2.302158: 100%|██████████████████████████████████████████████████████████████████████████████████████████████████████████████████████████████████████████████████████| 799/799 [03:09<00:00,  4.22it/s]\n",
      "Epoch 1: CE 2.213440:   0%|▏                                                                                                                                                       | 1/799 [00:00<03:08,  4.24it/s]"
     ]
    },
    {
     "name": "stdout",
     "output_type": "stream",
     "text": [
      "EarlyStopping counter: 220 out of 10000\n"
     ]
    },
    {
     "name": "stderr",
     "output_type": "stream",
     "text": [
      "Epoch 1: CE 2.297147:  25%|█████████████████████████████████████▋                                                                                                                | 201/799 [00:48<02:23,  4.18it/s]"
     ]
    },
    {
     "name": "stdout",
     "output_type": "stream",
     "text": [
      "EarlyStopping counter: 221 out of 10000\n"
     ]
    },
    {
     "name": "stderr",
     "output_type": "stream",
     "text": [
      "Epoch 1: CE 2.298555:  50%|███████████████████████████████████████████████████████████████████████████▎                                                                          | 401/799 [01:35<01:33,  4.25it/s]"
     ]
    },
    {
     "name": "stdout",
     "output_type": "stream",
     "text": [
      "EarlyStopping counter: 222 out of 10000\n",
      "Epoch   931: reducing learning rate of group 0 to 8.0621e-06.\n"
     ]
    },
    {
     "name": "stderr",
     "output_type": "stream",
     "text": [
      "Epoch 1: CE 2.300518:  75%|████████████████████████████████████████████████████████████████████████████████████████████████████████████████▊                                     | 601/799 [02:22<00:44,  4.41it/s]"
     ]
    },
    {
     "name": "stdout",
     "output_type": "stream",
     "text": [
      "EarlyStopping counter: 223 out of 10000\n"
     ]
    },
    {
     "name": "stderr",
     "output_type": "stream",
     "text": [
      "Epoch 1: CE 2.302038: 100%|██████████████████████████████████████████████████████████████████████████████████████████████████████████████████████████████████████████████████████| 799/799 [03:09<00:00,  4.22it/s]\n",
      "Epoch 1: CE 2.175419:   0%|▏                                                                                                                                                       | 1/799 [00:00<03:11,  4.18it/s]"
     ]
    },
    {
     "name": "stdout",
     "output_type": "stream",
     "text": [
      "EarlyStopping counter: 224 out of 10000\n"
     ]
    },
    {
     "name": "stderr",
     "output_type": "stream",
     "text": [
      "Epoch 1: CE 2.305847:  25%|█████████████████████████████████████▋                                                                                                                | 201/799 [00:48<02:22,  4.21it/s]"
     ]
    },
    {
     "name": "stdout",
     "output_type": "stream",
     "text": [
      "EarlyStopping counter: 225 out of 10000\n"
     ]
    },
    {
     "name": "stderr",
     "output_type": "stream",
     "text": [
      "Epoch 1: CE 2.302866:  50%|███████████████████████████████████████████████████████████████████████████▎                                                                          | 401/799 [01:35<01:34,  4.23it/s]"
     ]
    },
    {
     "name": "stdout",
     "output_type": "stream",
     "text": [
      "EarlyStopping counter: 226 out of 10000\n"
     ]
    },
    {
     "name": "stderr",
     "output_type": "stream",
     "text": [
      "Epoch 1: CE 2.299760:  75%|████████████████████████████████████████████████████████████████████████████████████████████████████████████████▊                                     | 601/799 [02:23<00:45,  4.32it/s]"
     ]
    },
    {
     "name": "stdout",
     "output_type": "stream",
     "text": [
      "EarlyStopping counter: 227 out of 10000\n"
     ]
    },
    {
     "name": "stderr",
     "output_type": "stream",
     "text": [
      "Epoch 1: CE 2.302263: 100%|██████████████████████████████████████████████████████████████████████████████████████████████████████████████████████████████████████████████████████| 799/799 [03:09<00:00,  4.21it/s]\n",
      "Epoch 1: CE 2.440465:   0%|▏                                                                                                                                                       | 1/799 [00:00<03:11,  4.17it/s]"
     ]
    },
    {
     "name": "stdout",
     "output_type": "stream",
     "text": [
      "EarlyStopping counter: 228 out of 10000\n",
      "Epoch   937: reducing learning rate of group 0 to 7.7396e-06.\n"
     ]
    },
    {
     "name": "stderr",
     "output_type": "stream",
     "text": [
      "Epoch 1: CE 2.299775:  25%|█████████████████████████████████████▋                                                                                                                | 201/799 [00:48<02:22,  4.20it/s]"
     ]
    },
    {
     "name": "stdout",
     "output_type": "stream",
     "text": [
      "EarlyStopping counter: 229 out of 10000\n"
     ]
    },
    {
     "name": "stderr",
     "output_type": "stream",
     "text": [
      "Epoch 1: CE 2.300962:  50%|███████████████████████████████████████████████████████████████████████████▎                                                                          | 401/799 [01:35<01:35,  4.15it/s]"
     ]
    },
    {
     "name": "stdout",
     "output_type": "stream",
     "text": [
      "EarlyStopping counter: 230 out of 10000\n"
     ]
    },
    {
     "name": "stderr",
     "output_type": "stream",
     "text": [
      "Epoch 1: CE 2.302412:  75%|████████████████████████████████████████████████████████████████████████████████████████████████████████████████▊                                     | 601/799 [02:22<00:44,  4.42it/s]"
     ]
    },
    {
     "name": "stdout",
     "output_type": "stream",
     "text": [
      "EarlyStopping counter: 231 out of 10000\n"
     ]
    },
    {
     "name": "stderr",
     "output_type": "stream",
     "text": [
      "Epoch 1: CE 2.302150: 100%|██████████████████████████████████████████████████████████████████████████████████████████████████████████████████████████████████████████████████████| 799/799 [03:09<00:00,  4.23it/s]\n",
      "Epoch 1: CE 2.246634:   0%|▏                                                                                                                                                       | 1/799 [00:00<03:01,  4.39it/s]"
     ]
    },
    {
     "name": "stdout",
     "output_type": "stream",
     "text": [
      "EarlyStopping counter: 232 out of 10000\n"
     ]
    },
    {
     "name": "stderr",
     "output_type": "stream",
     "text": [
      "Epoch 1: CE 2.303852:  25%|█████████████████████████████████████▋                                                                                                                | 201/799 [00:48<02:18,  4.33it/s]"
     ]
    },
    {
     "name": "stdout",
     "output_type": "stream",
     "text": [
      "EarlyStopping counter: 233 out of 10000\n"
     ]
    },
    {
     "name": "stderr",
     "output_type": "stream",
     "text": [
      "Epoch 1: CE 2.301905:  50%|███████████████████████████████████████████████████████████████████████████▎                                                                          | 401/799 [01:35<01:38,  4.03it/s]"
     ]
    },
    {
     "name": "stdout",
     "output_type": "stream",
     "text": [
      "EarlyStopping counter: 234 out of 10000\n",
      "Epoch   943: reducing learning rate of group 0 to 7.4301e-06.\n"
     ]
    },
    {
     "name": "stderr",
     "output_type": "stream",
     "text": [
      "Epoch 1: CE 2.300233:  75%|████████████████████████████████████████████████████████████████████████████████████████████████████████████████▊                                     | 601/799 [02:22<00:46,  4.26it/s]"
     ]
    },
    {
     "name": "stdout",
     "output_type": "stream",
     "text": [
      "EarlyStopping counter: 235 out of 10000\n"
     ]
    },
    {
     "name": "stderr",
     "output_type": "stream",
     "text": [
      "Epoch 1: CE 2.302019: 100%|██████████████████████████████████████████████████████████████████████████████████████████████████████████████████████████████████████████████████████| 799/799 [03:09<00:00,  4.22it/s]\n",
      "Epoch 1: CE 2.344420:   0%|▏                                                                                                                                                       | 1/799 [00:00<03:22,  3.94it/s]"
     ]
    },
    {
     "name": "stdout",
     "output_type": "stream",
     "text": [
      "EarlyStopping counter: 236 out of 10000\n"
     ]
    },
    {
     "name": "stderr",
     "output_type": "stream",
     "text": [
      "Epoch 1: CE 2.292972:  25%|█████████████████████████████████████▋                                                                                                                | 201/799 [00:48<02:17,  4.34it/s]"
     ]
    },
    {
     "name": "stdout",
     "output_type": "stream",
     "text": [
      "EarlyStopping counter: 237 out of 10000\n"
     ]
    },
    {
     "name": "stderr",
     "output_type": "stream",
     "text": [
      "Epoch 1: CE 2.295631:  50%|███████████████████████████████████████████████████████████████████████████▎                                                                          | 401/799 [01:35<01:33,  4.25it/s]"
     ]
    },
    {
     "name": "stdout",
     "output_type": "stream",
     "text": [
      "EarlyStopping counter: 238 out of 10000\n"
     ]
    },
    {
     "name": "stderr",
     "output_type": "stream",
     "text": [
      "Epoch 1: CE 2.300928:  75%|████████████████████████████████████████████████████████████████████████████████████████████████████████████████▊                                     | 601/799 [02:22<00:46,  4.29it/s]"
     ]
    },
    {
     "name": "stdout",
     "output_type": "stream",
     "text": [
      "EarlyStopping counter: 239 out of 10000\n"
     ]
    },
    {
     "name": "stderr",
     "output_type": "stream",
     "text": [
      "Epoch 1: CE 2.301609: 100%|██████████████████████████████████████████████████████████████████████████████████████████████████████████████████████████████████████████████████████| 799/799 [03:09<00:00,  4.22it/s]\n",
      "Epoch 1: CE 2.197614:   0%|▏                                                                                                                                                       | 1/799 [00:00<03:03,  4.34it/s]"
     ]
    },
    {
     "name": "stdout",
     "output_type": "stream",
     "text": [
      "EarlyStopping counter: 240 out of 10000\n",
      "Epoch   949: reducing learning rate of group 0 to 7.1329e-06.\n"
     ]
    },
    {
     "name": "stderr",
     "output_type": "stream",
     "text": [
      "Epoch 1: CE 2.306219:  25%|█████████████████████████████████████▋                                                                                                                | 201/799 [00:48<02:19,  4.30it/s]"
     ]
    },
    {
     "name": "stdout",
     "output_type": "stream",
     "text": [
      "EarlyStopping counter: 241 out of 10000\n"
     ]
    },
    {
     "name": "stderr",
     "output_type": "stream",
     "text": [
      "Epoch 1: CE 2.302913:  50%|███████████████████████████████████████████████████████████████████████████▎                                                                          | 401/799 [01:35<01:36,  4.14it/s]"
     ]
    },
    {
     "name": "stdout",
     "output_type": "stream",
     "text": [
      "EarlyStopping counter: 242 out of 10000\n"
     ]
    },
    {
     "name": "stderr",
     "output_type": "stream",
     "text": [
      "Epoch 1: CE 2.302765:  75%|████████████████████████████████████████████████████████████████████████████████████████████████████████████████▊                                     | 601/799 [02:22<00:47,  4.18it/s]"
     ]
    },
    {
     "name": "stdout",
     "output_type": "stream",
     "text": [
      "EarlyStopping counter: 243 out of 10000\n"
     ]
    },
    {
     "name": "stderr",
     "output_type": "stream",
     "text": [
      "Epoch 1: CE 2.301555: 100%|██████████████████████████████████████████████████████████████████████████████████████████████████████████████████████████████████████████████████████| 799/799 [03:09<00:00,  4.22it/s]\n",
      "Epoch 1: CE 2.319671:   0%|▏                                                                                                                                                       | 1/799 [00:00<03:12,  4.15it/s]"
     ]
    },
    {
     "name": "stdout",
     "output_type": "stream",
     "text": [
      "EarlyStopping counter: 244 out of 10000\n"
     ]
    },
    {
     "name": "stderr",
     "output_type": "stream",
     "text": [
      "Epoch 1: CE 2.302338:  25%|█████████████████████████████████████▋                                                                                                                | 201/799 [00:48<02:19,  4.29it/s]"
     ]
    },
    {
     "name": "stdout",
     "output_type": "stream",
     "text": [
      "EarlyStopping counter: 245 out of 10000\n"
     ]
    },
    {
     "name": "stderr",
     "output_type": "stream",
     "text": [
      "Epoch 1: CE 2.302151:  50%|███████████████████████████████████████████████████████████████████████████▎                                                                          | 401/799 [01:35<01:32,  4.29it/s]"
     ]
    },
    {
     "name": "stdout",
     "output_type": "stream",
     "text": [
      "EarlyStopping counter: 246 out of 10000\n",
      "Epoch   955: reducing learning rate of group 0 to 6.8475e-06.\n"
     ]
    },
    {
     "name": "stderr",
     "output_type": "stream",
     "text": [
      "Epoch 1: CE 2.301511:  75%|████████████████████████████████████████████████████████████████████████████████████████████████████████████████▊                                     | 601/799 [02:22<00:47,  4.15it/s]"
     ]
    },
    {
     "name": "stdout",
     "output_type": "stream",
     "text": [
      "EarlyStopping counter: 247 out of 10000\n"
     ]
    },
    {
     "name": "stderr",
     "output_type": "stream",
     "text": [
      "Epoch 1: CE 2.301897: 100%|██████████████████████████████████████████████████████████████████████████████████████████████████████████████████████████████████████████████████████| 799/799 [03:09<00:00,  4.22it/s]\n",
      "Epoch 1: CE 2.210854:   0%|▏                                                                                                                                                       | 1/799 [00:00<03:03,  4.35it/s]"
     ]
    },
    {
     "name": "stdout",
     "output_type": "stream",
     "text": [
      "EarlyStopping counter: 248 out of 10000\n"
     ]
    },
    {
     "name": "stderr",
     "output_type": "stream",
     "text": [
      "Epoch 1: CE 2.294205:  25%|█████████████████████████████████████▋                                                                                                                | 201/799 [00:48<02:24,  4.14it/s]"
     ]
    },
    {
     "name": "stdout",
     "output_type": "stream",
     "text": [
      "EarlyStopping counter: 249 out of 10000\n"
     ]
    },
    {
     "name": "stderr",
     "output_type": "stream",
     "text": [
      "Epoch 1: CE 2.301295:  50%|███████████████████████████████████████████████████████████████████████████▎                                                                          | 401/799 [01:35<01:35,  4.19it/s]"
     ]
    },
    {
     "name": "stdout",
     "output_type": "stream",
     "text": [
      "EarlyStopping counter: 250 out of 10000\n"
     ]
    },
    {
     "name": "stderr",
     "output_type": "stream",
     "text": [
      "Epoch 1: CE 2.298829:  75%|████████████████████████████████████████████████████████████████████████████████████████████████████████████████▊                                     | 601/799 [02:22<00:46,  4.25it/s]"
     ]
    },
    {
     "name": "stdout",
     "output_type": "stream",
     "text": [
      "EarlyStopping counter: 251 out of 10000\n"
     ]
    },
    {
     "name": "stderr",
     "output_type": "stream",
     "text": [
      "Epoch 1: CE 2.301605: 100%|██████████████████████████████████████████████████████████████████████████████████████████████████████████████████████████████████████████████████████| 799/799 [03:09<00:00,  4.22it/s]\n",
      "Epoch 1: CE 2.265186:   0%|▏                                                                                                                                                       | 1/799 [00:00<03:08,  4.23it/s]"
     ]
    },
    {
     "name": "stdout",
     "output_type": "stream",
     "text": [
      "EarlyStopping counter: 252 out of 10000\n",
      "Epoch   961: reducing learning rate of group 0 to 6.5736e-06.\n"
     ]
    },
    {
     "name": "stderr",
     "output_type": "stream",
     "text": [
      "Epoch 1: CE 2.288880:  25%|█████████████████████████████████████▋                                                                                                                | 201/799 [00:48<02:20,  4.25it/s]"
     ]
    },
    {
     "name": "stdout",
     "output_type": "stream",
     "text": [
      "EarlyStopping counter: 253 out of 10000\n"
     ]
    },
    {
     "name": "stderr",
     "output_type": "stream",
     "text": [
      "Epoch 1: CE 2.299204:  50%|███████████████████████████████████████████████████████████████████████████▎                                                                          | 401/799 [01:34<01:36,  4.14it/s]"
     ]
    },
    {
     "name": "stdout",
     "output_type": "stream",
     "text": [
      "EarlyStopping counter: 254 out of 10000\n"
     ]
    },
    {
     "name": "stderr",
     "output_type": "stream",
     "text": [
      "Epoch 1: CE 2.301068:  75%|████████████████████████████████████████████████████████████████████████████████████████████████████████████████▊                                     | 601/799 [02:22<00:44,  4.44it/s]"
     ]
    },
    {
     "name": "stdout",
     "output_type": "stream",
     "text": [
      "EarlyStopping counter: 255 out of 10000\n"
     ]
    },
    {
     "name": "stderr",
     "output_type": "stream",
     "text": [
      "Epoch 1: CE 2.301896: 100%|██████████████████████████████████████████████████████████████████████████████████████████████████████████████████████████████████████████████████████| 799/799 [03:08<00:00,  4.24it/s]\n",
      "Epoch 1: CE 2.307389:   0%|▏                                                                                                                                                       | 1/799 [00:00<03:16,  4.05it/s]"
     ]
    },
    {
     "name": "stdout",
     "output_type": "stream",
     "text": [
      "EarlyStopping counter: 256 out of 10000\n"
     ]
    },
    {
     "name": "stderr",
     "output_type": "stream",
     "text": [
      "Epoch 1: CE 2.303444:  25%|█████████████████████████████████████▋                                                                                                                | 201/799 [00:48<02:24,  4.14it/s]"
     ]
    },
    {
     "name": "stdout",
     "output_type": "stream",
     "text": [
      "EarlyStopping counter: 257 out of 10000\n"
     ]
    },
    {
     "name": "stderr",
     "output_type": "stream",
     "text": [
      "Epoch 1: CE 2.300985:  50%|███████████████████████████████████████████████████████████████████████████▎                                                                          | 401/799 [01:35<01:33,  4.26it/s]"
     ]
    },
    {
     "name": "stdout",
     "output_type": "stream",
     "text": [
      "EarlyStopping counter: 258 out of 10000\n",
      "Epoch   967: reducing learning rate of group 0 to 6.3107e-06.\n"
     ]
    },
    {
     "name": "stderr",
     "output_type": "stream",
     "text": [
      "Epoch 1: CE 2.303877:  75%|████████████████████████████████████████████████████████████████████████████████████████████████████████████████▊                                     | 601/799 [02:22<00:47,  4.17it/s]"
     ]
    },
    {
     "name": "stdout",
     "output_type": "stream",
     "text": [
      "EarlyStopping counter: 259 out of 10000\n"
     ]
    },
    {
     "name": "stderr",
     "output_type": "stream",
     "text": [
      "Epoch 1: CE 2.302089: 100%|██████████████████████████████████████████████████████████████████████████████████████████████████████████████████████████████████████████████████████| 799/799 [03:08<00:00,  4.24it/s]\n",
      "Epoch 1: CE 2.420691:   0%|▏                                                                                                                                                       | 1/799 [00:00<03:22,  3.94it/s]"
     ]
    },
    {
     "name": "stdout",
     "output_type": "stream",
     "text": [
      "EarlyStopping counter: 260 out of 10000\n"
     ]
    },
    {
     "name": "stderr",
     "output_type": "stream",
     "text": [
      "Epoch 1: CE 2.298027:  25%|█████████████████████████████████████▋                                                                                                                | 201/799 [00:48<02:24,  4.14it/s]"
     ]
    },
    {
     "name": "stdout",
     "output_type": "stream",
     "text": [
      "EarlyStopping counter: 261 out of 10000\n"
     ]
    },
    {
     "name": "stderr",
     "output_type": "stream",
     "text": [
      "Epoch 1: CE 2.293770:  50%|███████████████████████████████████████████████████████████████████████████▎                                                                          | 401/799 [01:35<01:33,  4.25it/s]"
     ]
    },
    {
     "name": "stdout",
     "output_type": "stream",
     "text": [
      "EarlyStopping counter: 262 out of 10000\n"
     ]
    },
    {
     "name": "stderr",
     "output_type": "stream",
     "text": [
      "Epoch 1: CE 2.300698:  75%|████████████████████████████████████████████████████████████████████████████████████████████████████████████████▊                                     | 601/799 [02:22<00:45,  4.33it/s]"
     ]
    },
    {
     "name": "stdout",
     "output_type": "stream",
     "text": [
      "EarlyStopping counter: 263 out of 10000\n"
     ]
    },
    {
     "name": "stderr",
     "output_type": "stream",
     "text": [
      "Epoch 1: CE 2.302101: 100%|██████████████████████████████████████████████████████████████████████████████████████████████████████████████████████████████████████████████████████| 799/799 [03:09<00:00,  4.23it/s]\n",
      "Epoch 1: CE 2.449930:   0%|▏                                                                                                                                                       | 1/799 [00:00<03:29,  3.81it/s]"
     ]
    },
    {
     "name": "stdout",
     "output_type": "stream",
     "text": [
      "EarlyStopping counter: 264 out of 10000\n",
      "Epoch   973: reducing learning rate of group 0 to 6.0583e-06.\n"
     ]
    },
    {
     "name": "stderr",
     "output_type": "stream",
     "text": [
      "Epoch 1: CE 2.306273:  25%|█████████████████████████████████████▋                                                                                                                | 201/799 [00:48<02:18,  4.31it/s]"
     ]
    },
    {
     "name": "stdout",
     "output_type": "stream",
     "text": [
      "EarlyStopping counter: 265 out of 10000\n"
     ]
    },
    {
     "name": "stderr",
     "output_type": "stream",
     "text": [
      "Epoch 1: CE 2.298971:  50%|███████████████████████████████████████████████████████████████████████████▎                                                                          | 401/799 [01:35<01:30,  4.38it/s]"
     ]
    },
    {
     "name": "stdout",
     "output_type": "stream",
     "text": [
      "EarlyStopping counter: 266 out of 10000\n"
     ]
    },
    {
     "name": "stderr",
     "output_type": "stream",
     "text": [
      "Epoch 1: CE 2.300600:  75%|████████████████████████████████████████████████████████████████████████████████████████████████████████████████▊                                     | 601/799 [02:22<00:45,  4.35it/s]"
     ]
    },
    {
     "name": "stdout",
     "output_type": "stream",
     "text": [
      "EarlyStopping counter: 267 out of 10000\n"
     ]
    },
    {
     "name": "stderr",
     "output_type": "stream",
     "text": [
      "Epoch 1: CE 2.301892: 100%|██████████████████████████████████████████████████████████████████████████████████████████████████████████████████████████████████████████████████████| 799/799 [03:09<00:00,  4.22it/s]\n",
      "Epoch 1: CE 2.173528:   0%|▏                                                                                                                                                       | 1/799 [00:00<03:20,  3.99it/s]"
     ]
    },
    {
     "name": "stdout",
     "output_type": "stream",
     "text": [
      "EarlyStopping counter: 268 out of 10000\n"
     ]
    },
    {
     "name": "stderr",
     "output_type": "stream",
     "text": [
      "Epoch 1: CE 2.301970:  25%|█████████████████████████████████████▋                                                                                                                | 201/799 [00:48<02:22,  4.19it/s]"
     ]
    },
    {
     "name": "stdout",
     "output_type": "stream",
     "text": [
      "EarlyStopping counter: 269 out of 10000\n"
     ]
    },
    {
     "name": "stderr",
     "output_type": "stream",
     "text": [
      "Epoch 1: CE 2.298146:  50%|███████████████████████████████████████████████████████████████████████████▎                                                                          | 401/799 [01:35<01:34,  4.22it/s]"
     ]
    },
    {
     "name": "stdout",
     "output_type": "stream",
     "text": [
      "EarlyStopping counter: 270 out of 10000\n",
      "Epoch   979: reducing learning rate of group 0 to 5.8159e-06.\n"
     ]
    },
    {
     "name": "stderr",
     "output_type": "stream",
     "text": [
      "Epoch 1: CE 2.299550:  75%|████████████████████████████████████████████████████████████████████████████████████████████████████████████████▊                                     | 601/799 [02:22<00:46,  4.24it/s]"
     ]
    },
    {
     "name": "stdout",
     "output_type": "stream",
     "text": [
      "EarlyStopping counter: 271 out of 10000\n"
     ]
    },
    {
     "name": "stderr",
     "output_type": "stream",
     "text": [
      "Epoch 1: CE 2.301506: 100%|██████████████████████████████████████████████████████████████████████████████████████████████████████████████████████████████████████████████████████| 799/799 [03:09<00:00,  4.21it/s]\n",
      "Epoch 1: CE 2.177177:   0%|▏                                                                                                                                                       | 1/799 [00:00<03:03,  4.35it/s]"
     ]
    },
    {
     "name": "stdout",
     "output_type": "stream",
     "text": [
      "EarlyStopping counter: 272 out of 10000\n"
     ]
    },
    {
     "name": "stderr",
     "output_type": "stream",
     "text": [
      "Epoch 1: CE 2.311296:  25%|█████████████████████████████████████▋                                                                                                                | 201/799 [00:48<02:20,  4.26it/s]"
     ]
    },
    {
     "name": "stdout",
     "output_type": "stream",
     "text": [
      "EarlyStopping counter: 273 out of 10000\n"
     ]
    },
    {
     "name": "stderr",
     "output_type": "stream",
     "text": [
      "Epoch 1: CE 2.306492:  50%|███████████████████████████████████████████████████████████████████████████▎                                                                          | 401/799 [01:35<01:35,  4.19it/s]"
     ]
    },
    {
     "name": "stdout",
     "output_type": "stream",
     "text": [
      "EarlyStopping counter: 274 out of 10000\n"
     ]
    },
    {
     "name": "stderr",
     "output_type": "stream",
     "text": [
      "Epoch 1: CE 2.302667:  75%|████████████████████████████████████████████████████████████████████████████████████████████████████████████████▊                                     | 601/799 [02:22<00:47,  4.19it/s]"
     ]
    },
    {
     "name": "stdout",
     "output_type": "stream",
     "text": [
      "EarlyStopping counter: 275 out of 10000\n"
     ]
    },
    {
     "name": "stderr",
     "output_type": "stream",
     "text": [
      "Epoch 1: CE 2.301671: 100%|██████████████████████████████████████████████████████████████████████████████████████████████████████████████████████████████████████████████████████| 799/799 [03:08<00:00,  4.23it/s]\n",
      "Epoch 1: CE 2.188345:   0%|▏                                                                                                                                                       | 1/799 [00:00<03:10,  4.19it/s]"
     ]
    },
    {
     "name": "stdout",
     "output_type": "stream",
     "text": [
      "EarlyStopping counter: 276 out of 10000\n",
      "Epoch   985: reducing learning rate of group 0 to 5.5833e-06.\n"
     ]
    },
    {
     "name": "stderr",
     "output_type": "stream",
     "text": [
      "Epoch 1: CE 2.293539:  25%|█████████████████████████████████████▋                                                                                                                | 201/799 [00:48<02:19,  4.28it/s]"
     ]
    },
    {
     "name": "stdout",
     "output_type": "stream",
     "text": [
      "EarlyStopping counter: 277 out of 10000\n"
     ]
    },
    {
     "name": "stderr",
     "output_type": "stream",
     "text": [
      "Epoch 1: CE 2.299817:  50%|███████████████████████████████████████████████████████████████████████████▎                                                                          | 401/799 [01:35<01:35,  4.15it/s]"
     ]
    },
    {
     "name": "stdout",
     "output_type": "stream",
     "text": [
      "EarlyStopping counter: 278 out of 10000\n"
     ]
    },
    {
     "name": "stderr",
     "output_type": "stream",
     "text": [
      "Epoch 1: CE 2.301076:  75%|████████████████████████████████████████████████████████████████████████████████████████████████████████████████▊                                     | 601/799 [02:22<00:46,  4.27it/s]"
     ]
    },
    {
     "name": "stdout",
     "output_type": "stream",
     "text": [
      "EarlyStopping counter: 279 out of 10000\n"
     ]
    },
    {
     "name": "stderr",
     "output_type": "stream",
     "text": [
      "Epoch 1: CE 2.301810: 100%|██████████████████████████████████████████████████████████████████████████████████████████████████████████████████████████████████████████████████████| 799/799 [03:09<00:00,  4.22it/s]\n",
      "Epoch 1: CE 2.370574:   0%|▏                                                                                                                                                       | 1/799 [00:00<03:11,  4.16it/s]"
     ]
    },
    {
     "name": "stdout",
     "output_type": "stream",
     "text": [
      "EarlyStopping counter: 280 out of 10000\n"
     ]
    },
    {
     "name": "stderr",
     "output_type": "stream",
     "text": [
      "Epoch 1: CE 2.290315:  25%|█████████████████████████████████████▋                                                                                                                | 201/799 [00:48<02:22,  4.21it/s]"
     ]
    },
    {
     "name": "stdout",
     "output_type": "stream",
     "text": [
      "EarlyStopping counter: 281 out of 10000\n"
     ]
    },
    {
     "name": "stderr",
     "output_type": "stream",
     "text": [
      "Epoch 1: CE 2.298830:  50%|███████████████████████████████████████████████████████████████████████████▎                                                                          | 401/799 [01:35<01:32,  4.32it/s]"
     ]
    },
    {
     "name": "stdout",
     "output_type": "stream",
     "text": [
      "EarlyStopping counter: 282 out of 10000\n",
      "Epoch   991: reducing learning rate of group 0 to 5.3600e-06.\n"
     ]
    },
    {
     "name": "stderr",
     "output_type": "stream",
     "text": [
      "Epoch 1: CE 2.300038:  75%|████████████████████████████████████████████████████████████████████████████████████████████████████████████████▊                                     | 601/799 [02:22<00:47,  4.20it/s]"
     ]
    },
    {
     "name": "stdout",
     "output_type": "stream",
     "text": [
      "EarlyStopping counter: 283 out of 10000\n"
     ]
    },
    {
     "name": "stderr",
     "output_type": "stream",
     "text": [
      "Epoch 1: CE 2.301661: 100%|██████████████████████████████████████████████████████████████████████████████████████████████████████████████████████████████████████████████████████| 799/799 [03:08<00:00,  4.23it/s]\n",
      "Epoch 1: CE 2.366531:   0%|▏                                                                                                                                                       | 1/799 [00:00<03:21,  3.96it/s]"
     ]
    },
    {
     "name": "stdout",
     "output_type": "stream",
     "text": [
      "EarlyStopping counter: 284 out of 10000\n"
     ]
    },
    {
     "name": "stderr",
     "output_type": "stream",
     "text": [
      "Epoch 1: CE 2.302749:  25%|█████████████████████████████████████▋                                                                                                                | 201/799 [00:48<02:22,  4.19it/s]"
     ]
    },
    {
     "name": "stdout",
     "output_type": "stream",
     "text": [
      "EarlyStopping counter: 285 out of 10000\n"
     ]
    },
    {
     "name": "stderr",
     "output_type": "stream",
     "text": [
      "Epoch 1: CE 2.306154:  50%|███████████████████████████████████████████████████████████████████████████▎                                                                          | 401/799 [01:35<01:33,  4.26it/s]"
     ]
    },
    {
     "name": "stdout",
     "output_type": "stream",
     "text": [
      "EarlyStopping counter: 286 out of 10000\n"
     ]
    },
    {
     "name": "stderr",
     "output_type": "stream",
     "text": [
      "Epoch 1: CE 2.303514:  75%|████████████████████████████████████████████████████████████████████████████████████████████████████████████████▊                                     | 601/799 [02:22<00:44,  4.41it/s]"
     ]
    },
    {
     "name": "stdout",
     "output_type": "stream",
     "text": [
      "EarlyStopping counter: 287 out of 10000\n"
     ]
    },
    {
     "name": "stderr",
     "output_type": "stream",
     "text": [
      "Epoch 1: CE 2.301778: 100%|██████████████████████████████████████████████████████████████████████████████████████████████████████████████████████████████████████████████████████| 799/799 [03:08<00:00,  4.23it/s]\n",
      "Epoch 1: CE 2.284300:   0%|▏                                                                                                                                                       | 1/799 [00:00<03:16,  4.05it/s]"
     ]
    },
    {
     "name": "stdout",
     "output_type": "stream",
     "text": [
      "EarlyStopping counter: 288 out of 10000\n",
      "Epoch   997: reducing learning rate of group 0 to 5.1456e-06.\n"
     ]
    },
    {
     "name": "stderr",
     "output_type": "stream",
     "text": [
      "Epoch 1: CE 2.299954:  25%|█████████████████████████████████████▋                                                                                                                | 201/799 [00:48<02:20,  4.26it/s]"
     ]
    },
    {
     "name": "stdout",
     "output_type": "stream",
     "text": [
      "EarlyStopping counter: 289 out of 10000\n"
     ]
    },
    {
     "name": "stderr",
     "output_type": "stream",
     "text": [
      "Epoch 1: CE 2.298376:  50%|███████████████████████████████████████████████████████████████████████████▎                                                                          | 401/799 [01:35<01:32,  4.29it/s]"
     ]
    },
    {
     "name": "stdout",
     "output_type": "stream",
     "text": [
      "EarlyStopping counter: 290 out of 10000\n"
     ]
    },
    {
     "name": "stderr",
     "output_type": "stream",
     "text": [
      "Epoch 1: CE 2.300457:  75%|████████████████████████████████████████████████████████████████████████████████████████████████████████████████▊                                     | 601/799 [02:22<00:46,  4.30it/s]"
     ]
    },
    {
     "name": "stdout",
     "output_type": "stream",
     "text": [
      "EarlyStopping counter: 291 out of 10000\n"
     ]
    },
    {
     "name": "stderr",
     "output_type": "stream",
     "text": [
      "Epoch 1: CE 2.301819: 100%|██████████████████████████████████████████████████████████████████████████████████████████████████████████████████████████████████████████████████████| 799/799 [03:08<00:00,  4.23it/s]\n",
      "Epoch 1: CE 2.195267:   0%|▏                                                                                                                                                       | 1/799 [00:00<02:59,  4.45it/s]"
     ]
    },
    {
     "name": "stdout",
     "output_type": "stream",
     "text": [
      "EarlyStopping counter: 292 out of 10000\n"
     ]
    },
    {
     "name": "stderr",
     "output_type": "stream",
     "text": [
      "Epoch 1: CE 2.300961:  25%|█████████████████████████████████████▋                                                                                                                | 201/799 [00:48<02:22,  4.20it/s]"
     ]
    },
    {
     "name": "stdout",
     "output_type": "stream",
     "text": [
      "EarlyStopping counter: 293 out of 10000\n"
     ]
    },
    {
     "name": "stderr",
     "output_type": "stream",
     "text": [
      "Epoch 1: CE 2.298650:  50%|███████████████████████████████████████████████████████████████████████████▎                                                                          | 401/799 [01:35<01:33,  4.24it/s]"
     ]
    },
    {
     "name": "stdout",
     "output_type": "stream",
     "text": [
      "EarlyStopping counter: 294 out of 10000\n",
      "Epoch  1003: reducing learning rate of group 0 to 4.9397e-06.\n"
     ]
    },
    {
     "name": "stderr",
     "output_type": "stream",
     "text": [
      "Epoch 1: CE 2.299909:  75%|████████████████████████████████████████████████████████████████████████████████████████████████████████████████▊                                     | 601/799 [02:22<00:46,  4.24it/s]"
     ]
    },
    {
     "name": "stdout",
     "output_type": "stream",
     "text": [
      "EarlyStopping counter: 295 out of 10000\n"
     ]
    },
    {
     "name": "stderr",
     "output_type": "stream",
     "text": [
      "Epoch 1: CE 2.301447: 100%|██████████████████████████████████████████████████████████████████████████████████████████████████████████████████████████████████████████████████████| 799/799 [03:08<00:00,  4.24it/s]\n",
      "Epoch 1: CE 2.184884:   0%|▏                                                                                                                                                       | 1/799 [00:00<03:13,  4.13it/s]"
     ]
    },
    {
     "name": "stdout",
     "output_type": "stream",
     "text": [
      "EarlyStopping counter: 296 out of 10000\n"
     ]
    },
    {
     "name": "stderr",
     "output_type": "stream",
     "text": [
      "Epoch 1: CE 2.301866:  25%|█████████████████████████████████████▋                                                                                                                | 201/799 [00:48<02:18,  4.32it/s]"
     ]
    },
    {
     "name": "stdout",
     "output_type": "stream",
     "text": [
      "EarlyStopping counter: 297 out of 10000\n"
     ]
    },
    {
     "name": "stderr",
     "output_type": "stream",
     "text": [
      "Epoch 1: CE 2.300427:  50%|███████████████████████████████████████████████████████████████████████████▎                                                                          | 401/799 [01:35<01:35,  4.17it/s]"
     ]
    },
    {
     "name": "stdout",
     "output_type": "stream",
     "text": [
      "EarlyStopping counter: 298 out of 10000\n"
     ]
    },
    {
     "name": "stderr",
     "output_type": "stream",
     "text": [
      "Epoch 1: CE 2.301805:  75%|████████████████████████████████████████████████████████████████████████████████████████████████████████████████▊                                     | 601/799 [02:22<00:46,  4.23it/s]"
     ]
    },
    {
     "name": "stdout",
     "output_type": "stream",
     "text": [
      "EarlyStopping counter: 299 out of 10000\n"
     ]
    },
    {
     "name": "stderr",
     "output_type": "stream",
     "text": [
      "Epoch 1: CE 2.301628: 100%|██████████████████████████████████████████████████████████████████████████████████████████████████████████████████████████████████████████████████████| 799/799 [03:09<00:00,  4.22it/s]\n",
      "Epoch 1: CE 2.262727:   0%|▏                                                                                                                                                       | 1/799 [00:00<03:01,  4.40it/s]"
     ]
    },
    {
     "name": "stdout",
     "output_type": "stream",
     "text": [
      "EarlyStopping counter: 300 out of 10000\n",
      "Epoch  1009: reducing learning rate of group 0 to 4.7422e-06.\n"
     ]
    },
    {
     "name": "stderr",
     "output_type": "stream",
     "text": [
      "Epoch 1: CE 2.305826:  25%|█████████████████████████████████████▋                                                                                                                | 201/799 [00:48<02:21,  4.22it/s]"
     ]
    },
    {
     "name": "stdout",
     "output_type": "stream",
     "text": [
      "EarlyStopping counter: 301 out of 10000\n"
     ]
    },
    {
     "name": "stderr",
     "output_type": "stream",
     "text": [
      "Epoch 1: CE 2.303237:  50%|███████████████████████████████████████████████████████████████████████████▎                                                                          | 401/799 [01:35<01:32,  4.31it/s]"
     ]
    },
    {
     "name": "stdout",
     "output_type": "stream",
     "text": [
      "EarlyStopping counter: 302 out of 10000\n"
     ]
    },
    {
     "name": "stderr",
     "output_type": "stream",
     "text": [
      "Epoch 1: CE 2.303987:  75%|████████████████████████████████████████████████████████████████████████████████████████████████████████████████▊                                     | 601/799 [02:22<00:46,  4.23it/s]"
     ]
    },
    {
     "name": "stdout",
     "output_type": "stream",
     "text": [
      "EarlyStopping counter: 303 out of 10000\n"
     ]
    },
    {
     "name": "stderr",
     "output_type": "stream",
     "text": [
      "Epoch 1: CE 2.301429: 100%|██████████████████████████████████████████████████████████████████████████████████████████████████████████████████████████████████████████████████████| 799/799 [03:08<00:00,  4.23it/s]\n",
      "Epoch 1: CE 2.400945:   0%|▏                                                                                                                                                       | 1/799 [00:00<03:09,  4.21it/s]"
     ]
    },
    {
     "name": "stdout",
     "output_type": "stream",
     "text": [
      "EarlyStopping counter: 304 out of 10000\n"
     ]
    },
    {
     "name": "stderr",
     "output_type": "stream",
     "text": [
      "Epoch 1: CE 2.300557:  25%|█████████████████████████████████████▋                                                                                                                | 201/799 [00:48<02:18,  4.33it/s]"
     ]
    },
    {
     "name": "stdout",
     "output_type": "stream",
     "text": [
      "EarlyStopping counter: 305 out of 10000\n"
     ]
    },
    {
     "name": "stderr",
     "output_type": "stream",
     "text": [
      "Epoch 1: CE 2.299690:  50%|███████████████████████████████████████████████████████████████████████████▎                                                                          | 401/799 [01:35<01:34,  4.20it/s]"
     ]
    },
    {
     "name": "stdout",
     "output_type": "stream",
     "text": [
      "EarlyStopping counter: 306 out of 10000\n",
      "Epoch  1015: reducing learning rate of group 0 to 4.5525e-06.\n"
     ]
    },
    {
     "name": "stderr",
     "output_type": "stream",
     "text": [
      "Epoch 1: CE 2.300280:  75%|████████████████████████████████████████████████████████████████████████████████████████████████████████████████▊                                     | 601/799 [02:22<00:46,  4.29it/s]"
     ]
    },
    {
     "name": "stdout",
     "output_type": "stream",
     "text": [
      "EarlyStopping counter: 307 out of 10000\n"
     ]
    },
    {
     "name": "stderr",
     "output_type": "stream",
     "text": [
      "Epoch 1: CE 2.301824: 100%|██████████████████████████████████████████████████████████████████████████████████████████████████████████████████████████████████████████████████████| 799/799 [03:09<00:00,  4.22it/s]\n",
      "Epoch 1: CE 2.365832:   0%|▏                                                                                                                                                       | 1/799 [00:00<03:20,  3.98it/s]"
     ]
    },
    {
     "name": "stdout",
     "output_type": "stream",
     "text": [
      "EarlyStopping counter: 308 out of 10000\n"
     ]
    },
    {
     "name": "stderr",
     "output_type": "stream",
     "text": [
      "Epoch 1: CE 2.295107:  25%|█████████████████████████████████████▋                                                                                                                | 201/799 [00:48<02:22,  4.21it/s]"
     ]
    },
    {
     "name": "stdout",
     "output_type": "stream",
     "text": [
      "EarlyStopping counter: 309 out of 10000\n"
     ]
    },
    {
     "name": "stderr",
     "output_type": "stream",
     "text": [
      "Epoch 1: CE 2.299672:  50%|███████████████████████████████████████████████████████████████████████████▎                                                                          | 401/799 [01:35<01:36,  4.14it/s]"
     ]
    },
    {
     "name": "stdout",
     "output_type": "stream",
     "text": [
      "EarlyStopping counter: 310 out of 10000\n"
     ]
    },
    {
     "name": "stderr",
     "output_type": "stream",
     "text": [
      "Epoch 1: CE 2.302064:  75%|████████████████████████████████████████████████████████████████████████████████████████████████████████████████▊                                     | 601/799 [02:22<00:46,  4.28it/s]"
     ]
    },
    {
     "name": "stdout",
     "output_type": "stream",
     "text": [
      "EarlyStopping counter: 311 out of 10000\n"
     ]
    },
    {
     "name": "stderr",
     "output_type": "stream",
     "text": [
      "Epoch 1: CE 2.301592: 100%|██████████████████████████████████████████████████████████████████████████████████████████████████████████████████████████████████████████████████████| 799/799 [03:09<00:00,  4.22it/s]\n",
      "Epoch 1: CE 2.589186:   0%|▏                                                                                                                                                       | 1/799 [00:00<03:18,  4.02it/s]"
     ]
    },
    {
     "name": "stdout",
     "output_type": "stream",
     "text": [
      "EarlyStopping counter: 312 out of 10000\n",
      "Epoch  1021: reducing learning rate of group 0 to 4.3704e-06.\n"
     ]
    },
    {
     "name": "stderr",
     "output_type": "stream",
     "text": [
      "Epoch 1: CE 2.294323:  25%|█████████████████████████████████████▋                                                                                                                | 201/799 [00:48<02:21,  4.22it/s]"
     ]
    },
    {
     "name": "stdout",
     "output_type": "stream",
     "text": [
      "EarlyStopping counter: 313 out of 10000\n"
     ]
    },
    {
     "name": "stderr",
     "output_type": "stream",
     "text": [
      "Epoch 1: CE 2.298774:  50%|███████████████████████████████████████████████████████████████████████████▎                                                                          | 401/799 [01:35<01:35,  4.16it/s]"
     ]
    },
    {
     "name": "stdout",
     "output_type": "stream",
     "text": [
      "EarlyStopping counter: 314 out of 10000\n"
     ]
    },
    {
     "name": "stderr",
     "output_type": "stream",
     "text": [
      "Epoch 1: CE 2.301580:  75%|████████████████████████████████████████████████████████████████████████████████████████████████████████████████▊                                     | 601/799 [02:22<00:46,  4.22it/s]"
     ]
    },
    {
     "name": "stdout",
     "output_type": "stream",
     "text": [
      "EarlyStopping counter: 315 out of 10000\n"
     ]
    },
    {
     "name": "stderr",
     "output_type": "stream",
     "text": [
      "Epoch 1: CE 2.301572: 100%|██████████████████████████████████████████████████████████████████████████████████████████████████████████████████████████████████████████████████████| 799/799 [03:09<00:00,  4.22it/s]\n",
      "Epoch 1: CE 2.349144:   0%|▏                                                                                                                                                       | 1/799 [00:00<03:12,  4.15it/s]"
     ]
    },
    {
     "name": "stdout",
     "output_type": "stream",
     "text": [
      "EarlyStopping counter: 316 out of 10000\n"
     ]
    },
    {
     "name": "stderr",
     "output_type": "stream",
     "text": [
      "Epoch 1: CE 2.296326:  25%|█████████████████████████████████████▋                                                                                                                | 201/799 [00:48<02:22,  4.20it/s]"
     ]
    },
    {
     "name": "stdout",
     "output_type": "stream",
     "text": [
      "EarlyStopping counter: 317 out of 10000\n"
     ]
    },
    {
     "name": "stderr",
     "output_type": "stream",
     "text": [
      "Epoch 1: CE 2.301815:  50%|███████████████████████████████████████████████████████████████████████████▎                                                                          | 401/799 [01:35<01:35,  4.17it/s]"
     ]
    },
    {
     "name": "stdout",
     "output_type": "stream",
     "text": [
      "EarlyStopping counter: 318 out of 10000\n",
      "Epoch  1027: reducing learning rate of group 0 to 4.1956e-06.\n"
     ]
    },
    {
     "name": "stderr",
     "output_type": "stream",
     "text": [
      "Epoch 1: CE 2.303739:  75%|████████████████████████████████████████████████████████████████████████████████████████████████████████████████▊                                     | 601/799 [02:22<00:46,  4.24it/s]"
     ]
    },
    {
     "name": "stdout",
     "output_type": "stream",
     "text": [
      "EarlyStopping counter: 319 out of 10000\n"
     ]
    },
    {
     "name": "stderr",
     "output_type": "stream",
     "text": [
      "Epoch 1: CE 2.301452: 100%|██████████████████████████████████████████████████████████████████████████████████████████████████████████████████████████████████████████████████████| 799/799 [03:09<00:00,  4.22it/s]\n",
      "Epoch 1: CE 2.438452:   0%|▏                                                                                                                                                       | 1/799 [00:00<03:23,  3.93it/s]"
     ]
    },
    {
     "name": "stdout",
     "output_type": "stream",
     "text": [
      "EarlyStopping counter: 320 out of 10000\n"
     ]
    },
    {
     "name": "stderr",
     "output_type": "stream",
     "text": [
      "Epoch 1: CE 2.294636:  25%|█████████████████████████████████████▋                                                                                                                | 201/799 [00:48<02:21,  4.22it/s]"
     ]
    },
    {
     "name": "stdout",
     "output_type": "stream",
     "text": [
      "EarlyStopping counter: 321 out of 10000\n"
     ]
    },
    {
     "name": "stderr",
     "output_type": "stream",
     "text": [
      "Epoch 1: CE 2.295862:  50%|███████████████████████████████████████████████████████████████████████████▎                                                                          | 401/799 [01:35<01:32,  4.31it/s]"
     ]
    },
    {
     "name": "stdout",
     "output_type": "stream",
     "text": [
      "EarlyStopping counter: 322 out of 10000\n"
     ]
    },
    {
     "name": "stderr",
     "output_type": "stream",
     "text": [
      "Epoch 1: CE 2.298635:  75%|████████████████████████████████████████████████████████████████████████████████████████████████████████████████▊                                     | 601/799 [02:22<00:46,  4.22it/s]"
     ]
    },
    {
     "name": "stdout",
     "output_type": "stream",
     "text": [
      "EarlyStopping counter: 323 out of 10000\n"
     ]
    },
    {
     "name": "stderr",
     "output_type": "stream",
     "text": [
      "Epoch 1: CE 2.301303: 100%|██████████████████████████████████████████████████████████████████████████████████████████████████████████████████████████████████████████████████████| 799/799 [03:09<00:00,  4.22it/s]\n",
      "Epoch 1: CE 2.388285:   0%|▏                                                                                                                                                       | 1/799 [00:00<03:20,  3.97it/s]"
     ]
    },
    {
     "name": "stdout",
     "output_type": "stream",
     "text": [
      "EarlyStopping counter: 324 out of 10000\n",
      "Epoch  1033: reducing learning rate of group 0 to 4.0277e-06.\n"
     ]
    },
    {
     "name": "stderr",
     "output_type": "stream",
     "text": [
      "Epoch 1: CE 2.306850:  25%|█████████████████████████████████████▋                                                                                                                | 201/799 [00:48<02:21,  4.22it/s]"
     ]
    },
    {
     "name": "stdout",
     "output_type": "stream",
     "text": [
      "EarlyStopping counter: 325 out of 10000\n"
     ]
    },
    {
     "name": "stderr",
     "output_type": "stream",
     "text": [
      "Epoch 1: CE 2.304249:  50%|███████████████████████████████████████████████████████████████████████████▎                                                                          | 401/799 [01:35<01:35,  4.19it/s]"
     ]
    },
    {
     "name": "stdout",
     "output_type": "stream",
     "text": [
      "EarlyStopping counter: 326 out of 10000\n"
     ]
    },
    {
     "name": "stderr",
     "output_type": "stream",
     "text": [
      "Epoch 1: CE 2.303324:  75%|████████████████████████████████████████████████████████████████████████████████████████████████████████████████▊                                     | 601/799 [02:22<00:47,  4.20it/s]"
     ]
    },
    {
     "name": "stdout",
     "output_type": "stream",
     "text": [
      "EarlyStopping counter: 327 out of 10000\n"
     ]
    },
    {
     "name": "stderr",
     "output_type": "stream",
     "text": [
      "Epoch 1: CE 2.301181: 100%|██████████████████████████████████████████████████████████████████████████████████████████████████████████████████████████████████████████████████████| 799/799 [03:09<00:00,  4.22it/s]\n",
      "Epoch 1: CE 2.160138:   0%|▏                                                                                                                                                       | 1/799 [00:00<03:04,  4.33it/s]"
     ]
    },
    {
     "name": "stdout",
     "output_type": "stream",
     "text": [
      "EarlyStopping counter: 328 out of 10000\n"
     ]
    },
    {
     "name": "stderr",
     "output_type": "stream",
     "text": [
      "Epoch 1: CE 2.311558:  25%|█████████████████████████████████████▋                                                                                                                | 201/799 [00:48<02:19,  4.29it/s]"
     ]
    },
    {
     "name": "stdout",
     "output_type": "stream",
     "text": [
      "EarlyStopping counter: 329 out of 10000\n"
     ]
    },
    {
     "name": "stderr",
     "output_type": "stream",
     "text": [
      "Epoch 1: CE 2.299768:  50%|███████████████████████████████████████████████████████████████████████████▎                                                                          | 401/799 [01:35<01:32,  4.31it/s]"
     ]
    },
    {
     "name": "stdout",
     "output_type": "stream",
     "text": [
      "EarlyStopping counter: 330 out of 10000\n",
      "Epoch  1039: reducing learning rate of group 0 to 3.8666e-06.\n"
     ]
    },
    {
     "name": "stderr",
     "output_type": "stream",
     "text": [
      "Epoch 1: CE 2.300096:  75%|████████████████████████████████████████████████████████████████████████████████████████████████████████████████▊                                     | 601/799 [02:22<00:46,  4.29it/s]"
     ]
    },
    {
     "name": "stdout",
     "output_type": "stream",
     "text": [
      "EarlyStopping counter: 331 out of 10000\n"
     ]
    },
    {
     "name": "stderr",
     "output_type": "stream",
     "text": [
      "Epoch 1: CE 2.301367: 100%|██████████████████████████████████████████████████████████████████████████████████████████████████████████████████████████████████████████████████████| 799/799 [03:09<00:00,  4.22it/s]\n",
      "Epoch 1: CE 2.361701:   0%|▏                                                                                                                                                       | 1/799 [00:00<03:19,  4.00it/s]"
     ]
    },
    {
     "name": "stdout",
     "output_type": "stream",
     "text": [
      "EarlyStopping counter: 332 out of 10000\n"
     ]
    },
    {
     "name": "stderr",
     "output_type": "stream",
     "text": [
      "Epoch 1: CE 2.304712:  25%|█████████████████████████████████████▋                                                                                                                | 201/799 [00:48<02:21,  4.21it/s]"
     ]
    },
    {
     "name": "stdout",
     "output_type": "stream",
     "text": [
      "EarlyStopping counter: 333 out of 10000\n"
     ]
    },
    {
     "name": "stderr",
     "output_type": "stream",
     "text": [
      "Epoch 1: CE 2.306719:  50%|███████████████████████████████████████████████████████████████████████████▎                                                                          | 401/799 [01:35<01:33,  4.25it/s]"
     ]
    },
    {
     "name": "stdout",
     "output_type": "stream",
     "text": [
      "EarlyStopping counter: 334 out of 10000\n"
     ]
    },
    {
     "name": "stderr",
     "output_type": "stream",
     "text": [
      "Epoch 1: CE 2.303386:  75%|████████████████████████████████████████████████████████████████████████████████████████████████████████████████▊                                     | 601/799 [02:22<00:45,  4.40it/s]"
     ]
    },
    {
     "name": "stdout",
     "output_type": "stream",
     "text": [
      "EarlyStopping counter: 335 out of 10000\n"
     ]
    },
    {
     "name": "stderr",
     "output_type": "stream",
     "text": [
      "Epoch 1: CE 2.301575: 100%|██████████████████████████████████████████████████████████████████████████████████████████████████████████████████████████████████████████████████████| 799/799 [03:09<00:00,  4.22it/s]\n",
      "Epoch 1: CE 2.187101:   0%|▏                                                                                                                                                       | 1/799 [00:00<03:03,  4.35it/s]"
     ]
    },
    {
     "name": "stdout",
     "output_type": "stream",
     "text": [
      "EarlyStopping counter: 336 out of 10000\n",
      "Epoch  1045: reducing learning rate of group 0 to 3.7120e-06.\n"
     ]
    },
    {
     "name": "stderr",
     "output_type": "stream",
     "text": [
      "Epoch 1: CE 2.299642:  25%|█████████████████████████████████████▋                                                                                                                | 201/799 [00:48<02:22,  4.20it/s]"
     ]
    },
    {
     "name": "stdout",
     "output_type": "stream",
     "text": [
      "EarlyStopping counter: 337 out of 10000\n"
     ]
    },
    {
     "name": "stderr",
     "output_type": "stream",
     "text": [
      "Epoch 1: CE 2.300324:  50%|███████████████████████████████████████████████████████████████████████████▎                                                                          | 401/799 [01:35<01:34,  4.20it/s]"
     ]
    },
    {
     "name": "stdout",
     "output_type": "stream",
     "text": [
      "EarlyStopping counter: 338 out of 10000\n"
     ]
    },
    {
     "name": "stderr",
     "output_type": "stream",
     "text": [
      "Epoch 1: CE 2.301331:  75%|████████████████████████████████████████████████████████████████████████████████████████████████████████████████▊                                     | 601/799 [02:22<00:46,  4.28it/s]"
     ]
    },
    {
     "name": "stdout",
     "output_type": "stream",
     "text": [
      "EarlyStopping counter: 339 out of 10000\n"
     ]
    },
    {
     "name": "stderr",
     "output_type": "stream",
     "text": [
      "Epoch 1: CE 2.301745: 100%|██████████████████████████████████████████████████████████████████████████████████████████████████████████████████████████████████████████████████████| 799/799 [03:09<00:00,  4.22it/s]\n",
      "Epoch 1: CE 2.315925:   0%|▏                                                                                                                                                       | 1/799 [00:00<03:05,  4.31it/s]"
     ]
    },
    {
     "name": "stdout",
     "output_type": "stream",
     "text": [
      "EarlyStopping counter: 340 out of 10000\n"
     ]
    },
    {
     "name": "stderr",
     "output_type": "stream",
     "text": [
      "Epoch 1: CE 2.297547:  25%|█████████████████████████████████████▋                                                                                                                | 201/799 [00:48<02:21,  4.24it/s]"
     ]
    },
    {
     "name": "stdout",
     "output_type": "stream",
     "text": [
      "EarlyStopping counter: 341 out of 10000\n"
     ]
    },
    {
     "name": "stderr",
     "output_type": "stream",
     "text": [
      "Epoch 1: CE 2.297366:  50%|███████████████████████████████████████████████████████████████████████████▎                                                                          | 401/799 [01:35<01:31,  4.34it/s]"
     ]
    },
    {
     "name": "stdout",
     "output_type": "stream",
     "text": [
      "EarlyStopping counter: 342 out of 10000\n",
      "Epoch  1051: reducing learning rate of group 0 to 3.5635e-06.\n"
     ]
    },
    {
     "name": "stderr",
     "output_type": "stream",
     "text": [
      "Epoch 1: CE 2.298217:  75%|████████████████████████████████████████████████████████████████████████████████████████████████████████████████▊                                     | 601/799 [02:22<00:47,  4.21it/s]"
     ]
    },
    {
     "name": "stdout",
     "output_type": "stream",
     "text": [
      "EarlyStopping counter: 343 out of 10000\n"
     ]
    },
    {
     "name": "stderr",
     "output_type": "stream",
     "text": [
      "Epoch 1: CE 2.301345: 100%|██████████████████████████████████████████████████████████████████████████████████████████████████████████████████████████████████████████████████████| 799/799 [03:08<00:00,  4.24it/s]\n",
      "Epoch 1: CE 2.340482:   0%|▏                                                                                                                                                       | 1/799 [00:00<03:19,  4.01it/s]"
     ]
    },
    {
     "name": "stdout",
     "output_type": "stream",
     "text": [
      "EarlyStopping counter: 344 out of 10000\n"
     ]
    },
    {
     "name": "stderr",
     "output_type": "stream",
     "text": [
      "Epoch 1: CE 2.298243:  25%|█████████████████████████████████████▋                                                                                                                | 201/799 [00:48<02:19,  4.30it/s]"
     ]
    },
    {
     "name": "stdout",
     "output_type": "stream",
     "text": [
      "EarlyStopping counter: 345 out of 10000\n"
     ]
    },
    {
     "name": "stderr",
     "output_type": "stream",
     "text": [
      "Epoch 1: CE 2.297127:  50%|███████████████████████████████████████████████████████████████████████████▎                                                                          | 401/799 [01:35<01:33,  4.24it/s]"
     ]
    },
    {
     "name": "stdout",
     "output_type": "stream",
     "text": [
      "EarlyStopping counter: 346 out of 10000\n"
     ]
    },
    {
     "name": "stderr",
     "output_type": "stream",
     "text": [
      "Epoch 1: CE 2.299555:  75%|████████████████████████████████████████████████████████████████████████████████████████████████████████████████▊                                     | 601/799 [02:22<00:45,  4.31it/s]"
     ]
    },
    {
     "name": "stdout",
     "output_type": "stream",
     "text": [
      "EarlyStopping counter: 347 out of 10000\n"
     ]
    },
    {
     "name": "stderr",
     "output_type": "stream",
     "text": [
      "Epoch 1: CE 2.301071: 100%|██████████████████████████████████████████████████████████████████████████████████████████████████████████████████████████████████████████████████████| 799/799 [03:08<00:00,  4.23it/s]\n",
      "Epoch 1: CE 2.367826:   0%|▏                                                                                                                                                       | 1/799 [00:00<03:10,  4.19it/s]"
     ]
    },
    {
     "name": "stdout",
     "output_type": "stream",
     "text": [
      "EarlyStopping counter: 348 out of 10000\n",
      "Epoch  1057: reducing learning rate of group 0 to 3.4209e-06.\n"
     ]
    },
    {
     "name": "stderr",
     "output_type": "stream",
     "text": [
      "Epoch 1: CE 2.301609:  25%|█████████████████████████████████████▋                                                                                                                | 201/799 [00:48<02:25,  4.11it/s]"
     ]
    },
    {
     "name": "stdout",
     "output_type": "stream",
     "text": [
      "EarlyStopping counter: 349 out of 10000\n"
     ]
    },
    {
     "name": "stderr",
     "output_type": "stream",
     "text": [
      "Epoch 1: CE 2.298648:  50%|███████████████████████████████████████████████████████████████████████████▎                                                                          | 401/799 [01:35<01:32,  4.29it/s]"
     ]
    },
    {
     "name": "stdout",
     "output_type": "stream",
     "text": [
      "EarlyStopping counter: 350 out of 10000\n"
     ]
    },
    {
     "name": "stderr",
     "output_type": "stream",
     "text": [
      "Epoch 1: CE 2.301765:  75%|████████████████████████████████████████████████████████████████████████████████████████████████████████████████▊                                     | 601/799 [02:22<00:47,  4.16it/s]"
     ]
    },
    {
     "name": "stdout",
     "output_type": "stream",
     "text": [
      "EarlyStopping counter: 351 out of 10000\n"
     ]
    },
    {
     "name": "stderr",
     "output_type": "stream",
     "text": [
      "Epoch 1: CE 2.301478: 100%|██████████████████████████████████████████████████████████████████████████████████████████████████████████████████████████████████████████████████████| 799/799 [03:09<00:00,  4.21it/s]\n",
      "Epoch 1: CE 2.344534:   0%|▏                                                                                                                                                       | 1/799 [00:00<03:19,  4.00it/s]"
     ]
    },
    {
     "name": "stdout",
     "output_type": "stream",
     "text": [
      "EarlyStopping counter: 352 out of 10000\n"
     ]
    },
    {
     "name": "stderr",
     "output_type": "stream",
     "text": [
      "Epoch 1: CE 2.300335:  25%|█████████████████████████████████████▋                                                                                                                | 201/799 [00:48<02:19,  4.29it/s]"
     ]
    },
    {
     "name": "stdout",
     "output_type": "stream",
     "text": [
      "EarlyStopping counter: 353 out of 10000\n"
     ]
    },
    {
     "name": "stderr",
     "output_type": "stream",
     "text": [
      "Epoch 1: CE 2.300732:  50%|███████████████████████████████████████████████████████████████████████████▎                                                                          | 401/799 [01:35<01:33,  4.25it/s]"
     ]
    },
    {
     "name": "stdout",
     "output_type": "stream",
     "text": [
      "EarlyStopping counter: 354 out of 10000\n",
      "Epoch  1063: reducing learning rate of group 0 to 3.2841e-06.\n"
     ]
    },
    {
     "name": "stderr",
     "output_type": "stream",
     "text": [
      "Epoch 1: CE 2.298505:  75%|████████████████████████████████████████████████████████████████████████████████████████████████████████████████▊                                     | 601/799 [02:22<00:47,  4.13it/s]"
     ]
    },
    {
     "name": "stdout",
     "output_type": "stream",
     "text": [
      "EarlyStopping counter: 355 out of 10000\n"
     ]
    },
    {
     "name": "stderr",
     "output_type": "stream",
     "text": [
      "Epoch 1: CE 2.301343: 100%|██████████████████████████████████████████████████████████████████████████████████████████████████████████████████████████████████████████████████████| 799/799 [03:09<00:00,  4.21it/s]\n",
      "Epoch 1: CE 2.235808:   0%|▏                                                                                                                                                       | 1/799 [00:00<03:19,  4.00it/s]"
     ]
    },
    {
     "name": "stdout",
     "output_type": "stream",
     "text": [
      "EarlyStopping counter: 356 out of 10000\n"
     ]
    },
    {
     "name": "stderr",
     "output_type": "stream",
     "text": [
      "Epoch 1: CE 2.300127:  25%|█████████████████████████████████████▋                                                                                                                | 201/799 [00:48<02:19,  4.29it/s]"
     ]
    },
    {
     "name": "stdout",
     "output_type": "stream",
     "text": [
      "EarlyStopping counter: 357 out of 10000\n"
     ]
    },
    {
     "name": "stderr",
     "output_type": "stream",
     "text": [
      "Epoch 1: CE 2.300892:  50%|███████████████████████████████████████████████████████████████████████████▎                                                                          | 401/799 [01:35<01:36,  4.14it/s]"
     ]
    },
    {
     "name": "stdout",
     "output_type": "stream",
     "text": [
      "EarlyStopping counter: 358 out of 10000\n"
     ]
    },
    {
     "name": "stderr",
     "output_type": "stream",
     "text": [
      "Epoch 1: CE 2.301145:  75%|████████████████████████████████████████████████████████████████████████████████████████████████████████████████▊                                     | 601/799 [02:22<00:47,  4.20it/s]"
     ]
    },
    {
     "name": "stdout",
     "output_type": "stream",
     "text": [
      "EarlyStopping counter: 359 out of 10000\n"
     ]
    },
    {
     "name": "stderr",
     "output_type": "stream",
     "text": [
      "Epoch 1: CE 2.301222: 100%|██████████████████████████████████████████████████████████████████████████████████████████████████████████████████████████████████████████████████████| 799/799 [03:08<00:00,  4.23it/s]\n",
      "Epoch 1: CE 2.364037:   0%|▏                                                                                                                                                       | 1/799 [00:00<03:10,  4.19it/s]"
     ]
    },
    {
     "name": "stdout",
     "output_type": "stream",
     "text": [
      "EarlyStopping counter: 360 out of 10000\n",
      "Epoch  1069: reducing learning rate of group 0 to 3.1527e-06.\n"
     ]
    },
    {
     "name": "stderr",
     "output_type": "stream",
     "text": [
      "Epoch 1: CE 2.315761:  25%|█████████████████████████████████████▋                                                                                                                | 201/799 [00:48<02:19,  4.30it/s]"
     ]
    },
    {
     "name": "stdout",
     "output_type": "stream",
     "text": [
      "EarlyStopping counter: 361 out of 10000\n"
     ]
    },
    {
     "name": "stderr",
     "output_type": "stream",
     "text": [
      "Epoch 1: CE 2.302940:  50%|███████████████████████████████████████████████████████████████████████████▎                                                                          | 401/799 [01:35<01:33,  4.27it/s]"
     ]
    },
    {
     "name": "stdout",
     "output_type": "stream",
     "text": [
      "EarlyStopping counter: 362 out of 10000\n"
     ]
    },
    {
     "name": "stderr",
     "output_type": "stream",
     "text": [
      "Epoch 1: CE 2.300650:  75%|████████████████████████████████████████████████████████████████████████████████████████████████████████████████▊                                     | 601/799 [02:22<00:46,  4.21it/s]"
     ]
    },
    {
     "name": "stdout",
     "output_type": "stream",
     "text": [
      "EarlyStopping counter: 363 out of 10000\n"
     ]
    },
    {
     "name": "stderr",
     "output_type": "stream",
     "text": [
      "Epoch 1: CE 2.300986: 100%|██████████████████████████████████████████████████████████████████████████████████████████████████████████████████████████████████████████████████████| 799/799 [03:09<00:00,  4.22it/s]\n",
      "Epoch 1: CE 2.518434:   0%|▏                                                                                                                                                       | 1/799 [00:00<03:36,  3.69it/s]"
     ]
    },
    {
     "name": "stdout",
     "output_type": "stream",
     "text": [
      "EarlyStopping counter: 364 out of 10000\n"
     ]
    },
    {
     "name": "stderr",
     "output_type": "stream",
     "text": [
      "Epoch 1: CE 2.310891:  25%|█████████████████████████████████████▋                                                                                                                | 201/799 [00:48<02:18,  4.30it/s]"
     ]
    },
    {
     "name": "stdout",
     "output_type": "stream",
     "text": [
      "EarlyStopping counter: 365 out of 10000\n"
     ]
    },
    {
     "name": "stderr",
     "output_type": "stream",
     "text": [
      "Epoch 1: CE 2.304067:  50%|███████████████████████████████████████████████████████████████████████████▎                                                                          | 401/799 [01:35<01:34,  4.23it/s]"
     ]
    },
    {
     "name": "stdout",
     "output_type": "stream",
     "text": [
      "EarlyStopping counter: 366 out of 10000\n",
      "Epoch  1075: reducing learning rate of group 0 to 3.0266e-06.\n"
     ]
    },
    {
     "name": "stderr",
     "output_type": "stream",
     "text": [
      "Epoch 1: CE 2.304565:  75%|████████████████████████████████████████████████████████████████████████████████████████████████████████████████▊                                     | 601/799 [02:22<00:46,  4.27it/s]"
     ]
    },
    {
     "name": "stdout",
     "output_type": "stream",
     "text": [
      "EarlyStopping counter: 367 out of 10000\n"
     ]
    },
    {
     "name": "stderr",
     "output_type": "stream",
     "text": [
      "Epoch 1: CE 2.301185: 100%|██████████████████████████████████████████████████████████████████████████████████████████████████████████████████████████████████████████████████████| 799/799 [03:09<00:00,  4.22it/s]\n",
      "Epoch 1: CE 2.336596:   0%|▏                                                                                                                                                       | 1/799 [00:00<03:19,  3.99it/s]"
     ]
    },
    {
     "name": "stdout",
     "output_type": "stream",
     "text": [
      "EarlyStopping counter: 368 out of 10000\n"
     ]
    },
    {
     "name": "stderr",
     "output_type": "stream",
     "text": [
      "Epoch 1: CE 2.303233:  25%|█████████████████████████████████████▋                                                                                                                | 201/799 [00:48<02:23,  4.18it/s]"
     ]
    },
    {
     "name": "stdout",
     "output_type": "stream",
     "text": [
      "EarlyStopping counter: 369 out of 10000\n"
     ]
    },
    {
     "name": "stderr",
     "output_type": "stream",
     "text": [
      "Epoch 1: CE 2.307831:  50%|███████████████████████████████████████████████████████████████████████████▎                                                                          | 401/799 [01:35<01:35,  4.15it/s]"
     ]
    },
    {
     "name": "stdout",
     "output_type": "stream",
     "text": [
      "EarlyStopping counter: 370 out of 10000\n"
     ]
    },
    {
     "name": "stderr",
     "output_type": "stream",
     "text": [
      "Epoch 1: CE 2.301753:  75%|████████████████████████████████████████████████████████████████████████████████████████████████████████████████▊                                     | 601/799 [02:22<00:46,  4.29it/s]"
     ]
    },
    {
     "name": "stdout",
     "output_type": "stream",
     "text": [
      "EarlyStopping counter: 371 out of 10000\n"
     ]
    },
    {
     "name": "stderr",
     "output_type": "stream",
     "text": [
      "Epoch 1: CE 2.301232: 100%|██████████████████████████████████████████████████████████████████████████████████████████████████████████████████████████████████████████████████████| 799/799 [03:09<00:00,  4.22it/s]\n",
      "Epoch 1: CE 2.212037:   0%|▏                                                                                                                                                       | 1/799 [00:00<03:09,  4.22it/s]"
     ]
    },
    {
     "name": "stdout",
     "output_type": "stream",
     "text": [
      "EarlyStopping counter: 372 out of 10000\n",
      "Epoch  1081: reducing learning rate of group 0 to 2.9056e-06.\n"
     ]
    },
    {
     "name": "stderr",
     "output_type": "stream",
     "text": [
      "Epoch 1: CE 2.306665:  25%|█████████████████████████████████████▋                                                                                                                | 201/799 [00:48<02:20,  4.24it/s]"
     ]
    },
    {
     "name": "stdout",
     "output_type": "stream",
     "text": [
      "EarlyStopping counter: 373 out of 10000\n"
     ]
    },
    {
     "name": "stderr",
     "output_type": "stream",
     "text": [
      "Epoch 1: CE 2.304827:  50%|███████████████████████████████████████████████████████████████████████████▎                                                                          | 401/799 [01:35<01:33,  4.24it/s]"
     ]
    },
    {
     "name": "stdout",
     "output_type": "stream",
     "text": [
      "EarlyStopping counter: 374 out of 10000\n"
     ]
    },
    {
     "name": "stderr",
     "output_type": "stream",
     "text": [
      "Epoch 1: CE 2.299931:  75%|████████████████████████████████████████████████████████████████████████████████████████████████████████████████▊                                     | 601/799 [02:22<00:48,  4.05it/s]"
     ]
    },
    {
     "name": "stdout",
     "output_type": "stream",
     "text": [
      "EarlyStopping counter: 375 out of 10000\n"
     ]
    },
    {
     "name": "stderr",
     "output_type": "stream",
     "text": [
      "Epoch 1: CE 2.301318: 100%|██████████████████████████████████████████████████████████████████████████████████████████████████████████████████████████████████████████████████████| 799/799 [03:08<00:00,  4.23it/s]\n",
      "Epoch 1: CE 2.264787:   0%|▏                                                                                                                                                       | 1/799 [00:00<03:04,  4.33it/s]"
     ]
    },
    {
     "name": "stdout",
     "output_type": "stream",
     "text": [
      "EarlyStopping counter: 376 out of 10000\n"
     ]
    },
    {
     "name": "stderr",
     "output_type": "stream",
     "text": [
      "Epoch 1: CE 2.302444:  25%|█████████████████████████████████████▋                                                                                                                | 201/799 [00:47<02:23,  4.18it/s]"
     ]
    },
    {
     "name": "stdout",
     "output_type": "stream",
     "text": [
      "EarlyStopping counter: 377 out of 10000\n"
     ]
    },
    {
     "name": "stderr",
     "output_type": "stream",
     "text": [
      "Epoch 1: CE 2.302892:  50%|███████████████████████████████████████████████████████████████████████████▎                                                                          | 401/799 [01:35<01:33,  4.27it/s]"
     ]
    },
    {
     "name": "stdout",
     "output_type": "stream",
     "text": [
      "EarlyStopping counter: 378 out of 10000\n",
      "Epoch  1087: reducing learning rate of group 0 to 2.7893e-06.\n"
     ]
    },
    {
     "name": "stderr",
     "output_type": "stream",
     "text": [
      "Epoch 1: CE 2.303814:  75%|████████████████████████████████████████████████████████████████████████████████████████████████████████████████▊                                     | 601/799 [02:22<00:48,  4.08it/s]"
     ]
    },
    {
     "name": "stdout",
     "output_type": "stream",
     "text": [
      "EarlyStopping counter: 379 out of 10000\n"
     ]
    },
    {
     "name": "stderr",
     "output_type": "stream",
     "text": [
      "Epoch 1: CE 2.301313: 100%|██████████████████████████████████████████████████████████████████████████████████████████████████████████████████████████████████████████████████████| 799/799 [03:09<00:00,  4.22it/s]\n",
      "Epoch 1: CE 2.233283:   0%|▏                                                                                                                                                       | 1/799 [00:00<03:21,  3.96it/s]"
     ]
    },
    {
     "name": "stdout",
     "output_type": "stream",
     "text": [
      "EarlyStopping counter: 380 out of 10000\n"
     ]
    },
    {
     "name": "stderr",
     "output_type": "stream",
     "text": [
      "Epoch 1: CE 2.307748:  25%|█████████████████████████████████████▋                                                                                                                | 201/799 [00:48<02:21,  4.22it/s]"
     ]
    },
    {
     "name": "stdout",
     "output_type": "stream",
     "text": [
      "EarlyStopping counter: 381 out of 10000\n"
     ]
    },
    {
     "name": "stderr",
     "output_type": "stream",
     "text": [
      "Epoch 1: CE 2.304166:  50%|███████████████████████████████████████████████████████████████████████████▎                                                                          | 401/799 [01:35<01:34,  4.20it/s]"
     ]
    },
    {
     "name": "stdout",
     "output_type": "stream",
     "text": [
      "EarlyStopping counter: 382 out of 10000\n"
     ]
    },
    {
     "name": "stderr",
     "output_type": "stream",
     "text": [
      "Epoch 1: CE 2.305586:  75%|████████████████████████████████████████████████████████████████████████████████████████████████████████████████▊                                     | 601/799 [02:22<00:46,  4.22it/s]"
     ]
    },
    {
     "name": "stdout",
     "output_type": "stream",
     "text": [
      "EarlyStopping counter: 383 out of 10000\n"
     ]
    },
    {
     "name": "stderr",
     "output_type": "stream",
     "text": [
      "Epoch 1: CE 2.301333: 100%|██████████████████████████████████████████████████████████████████████████████████████████████████████████████████████████████████████████████████████| 799/799 [03:09<00:00,  4.22it/s]\n",
      "Epoch 1: CE 2.232518:   0%|▏                                                                                                                                                       | 1/799 [00:00<03:18,  4.02it/s]"
     ]
    },
    {
     "name": "stdout",
     "output_type": "stream",
     "text": [
      "EarlyStopping counter: 384 out of 10000\n",
      "Epoch  1093: reducing learning rate of group 0 to 2.6778e-06.\n"
     ]
    },
    {
     "name": "stderr",
     "output_type": "stream",
     "text": [
      "Epoch 1: CE 2.303247:  25%|█████████████████████████████████████▋                                                                                                                | 201/799 [00:48<02:23,  4.17it/s]"
     ]
    },
    {
     "name": "stdout",
     "output_type": "stream",
     "text": [
      "EarlyStopping counter: 385 out of 10000\n"
     ]
    },
    {
     "name": "stderr",
     "output_type": "stream",
     "text": [
      "Epoch 1: CE 2.302991:  50%|███████████████████████████████████████████████████████████████████████████▎                                                                          | 401/799 [01:35<01:33,  4.28it/s]"
     ]
    },
    {
     "name": "stdout",
     "output_type": "stream",
     "text": [
      "EarlyStopping counter: 386 out of 10000\n"
     ]
    },
    {
     "name": "stderr",
     "output_type": "stream",
     "text": [
      "Epoch 1: CE 2.303159:  75%|████████████████████████████████████████████████████████████████████████████████████████████████████████████████▊                                     | 601/799 [02:22<00:47,  4.21it/s]"
     ]
    },
    {
     "name": "stdout",
     "output_type": "stream",
     "text": [
      "EarlyStopping counter: 387 out of 10000\n"
     ]
    },
    {
     "name": "stderr",
     "output_type": "stream",
     "text": [
      "Epoch 1: CE 2.301411: 100%|██████████████████████████████████████████████████████████████████████████████████████████████████████████████████████████████████████████████████████| 799/799 [03:10<00:00,  4.20it/s]\n",
      "Epoch 1: CE 2.345339:   0%|▏                                                                                                                                                       | 1/799 [00:00<03:21,  3.95it/s]"
     ]
    },
    {
     "name": "stdout",
     "output_type": "stream",
     "text": [
      "EarlyStopping counter: 388 out of 10000\n"
     ]
    },
    {
     "name": "stderr",
     "output_type": "stream",
     "text": [
      "Epoch 1: CE 2.294503:  25%|█████████████████████████████████████▋                                                                                                                | 201/799 [00:50<02:27,  4.06it/s]"
     ]
    },
    {
     "name": "stdout",
     "output_type": "stream",
     "text": [
      "EarlyStopping counter: 389 out of 10000\n"
     ]
    },
    {
     "name": "stderr",
     "output_type": "stream",
     "text": [
      "Epoch 1: CE 2.299721:  50%|███████████████████████████████████████████████████████████████████████████▎                                                                          | 401/799 [01:40<01:36,  4.11it/s]"
     ]
    },
    {
     "name": "stdout",
     "output_type": "stream",
     "text": [
      "EarlyStopping counter: 390 out of 10000\n",
      "Epoch  1099: reducing learning rate of group 0 to 2.5707e-06.\n"
     ]
    },
    {
     "name": "stderr",
     "output_type": "stream",
     "text": [
      "Epoch 1: CE 2.299689:  56%|████████████████████████████████████████████████████████████████████████████████████▎                                                                 | 449/799 [01:52<01:27,  3.99it/s]"
     ]
    },
    {
     "name": "stdout",
     "output_type": "stream",
     "text": [
      "keyboard interrupt caught\n"
     ]
    },
    {
     "name": "stderr",
     "output_type": "stream",
     "text": [
      "\n"
     ]
    }
   ],
   "source": [
    "try:\n",
    "    for epoch in range(config.n_epochs):\n",
    "        epoch_loss = 0\n",
    "        for split in range(config.n_splits):\n",
    "            \n",
    "            n_ids = config.n_files//config.n_splits\n",
    "            dataset = PubChem(n_used = n_ids, n_splits = config.n_files)\n",
    "            loader = DataLoader(dataset, batch_size=config.batch_size, shuffle=True, pin_memory=False, \n",
    "                                collate_fn=collate_fn,\n",
    "                   num_workers=config.num_workers, prefetch_factor=config.prefetch_factor, \n",
    "                    persistent_workers=config.persistent_workers)\n",
    "            for j in range(config.n_iter_per_split):\n",
    "                pbar = tqdm.tqdm(loader)\n",
    "                for i, data in enumerate(pbar):\n",
    "                    if i % config.accumulate_grads == 0: #bei 0 wollen wir das\n",
    "                        optim.zero_grad()\n",
    "                    g, ndata, edata, labels = data\n",
    "                    g = g.to(device)\n",
    "                    ndata = ndata.to(device)\n",
    "                    edata = edata.to(device)\n",
    "                    labels = labels.to(device)\n",
    "                    \n",
    "                    #prediction\n",
    "                    features = model(g, ndata, edata)\n",
    "                    pred = model_head(features)\n",
    "                    loss = ce(pred, labels)\n",
    "                    loss.backward()\n",
    "                    #torch.nn.utils.clip_grad_norm_(model.parameters(), 0.5)\n",
    "                    if (i+1) % config.accumulate_grads == 0:\n",
    "                        optim.step() # bei 2 wollen wir das\n",
    "                    epoch_loss = (epoch_loss*i + loss.item())/(i+1)\n",
    "\n",
    "                    curr_lr = list(optim.param_groups)[0]['lr']\n",
    "                    wandb.log({'loss':epoch_loss, 'learning rate':curr_lr})\n",
    "                    pbar.set_description('Epoch %d: CE %2.6f'%(epoch+1, epoch_loss))\n",
    "\n",
    "                    if i % config.lr_adjustment_period == 0:\n",
    "                        early_stopping(epoch_loss, model)\n",
    "                        lr_scheduler.step(epoch_loss)\n",
    "                        if early_stopping.early_stop:\n",
    "                            break\n",
    "\n",
    "                        if curr_lr < config.minimal_lr:\n",
    "                            break\n",
    "                \n",
    "                \n",
    "            del dataset\n",
    "            del loader\n",
    "        \n",
    "\n",
    "except KeyboardInterrupt:\n",
    "    torch.save(model.state_dict(), config.model_dir+'_keyboardinterrupt.pt')\n",
    "    print('keyboard interrupt caught')\n"
   ]
  },
  {
   "cell_type": "code",
   "execution_count": null,
   "id": "25192fee",
   "metadata": {},
   "outputs": [],
   "source": []
  }
 ],
 "metadata": {
  "kernelspec": {
   "display_name": "Python 3 (ipykernel)",
   "language": "python",
   "name": "python3"
  },
  "language_info": {
   "codemirror_mode": {
    "name": "ipython",
    "version": 3
   },
   "file_extension": ".py",
   "mimetype": "text/x-python",
   "name": "python",
   "nbconvert_exporter": "python",
   "pygments_lexer": "ipython3",
   "version": "3.8.3"
  }
 },
 "nbformat": 4,
 "nbformat_minor": 5
}
