{
 "cells": [
  {
   "cell_type": "code",
   "execution_count": 1,
   "id": "14718962",
   "metadata": {},
   "outputs": [],
   "source": [
    "%load_ext autoreload\n",
    "%autoreload 2\n",
    "import torch\n",
    "import torch.nn as nn\n",
    "import torch.nn.functional as F\n",
    "import torch.optim as optim\n",
    "from torch_geometric.datasets import MoleculeNet\n",
    "from torch_geometric.data import DataLoader\n",
    "import torch_geometric.nn as tgnn\n",
    "from torch_scatter import scatter\n",
    "import tqdm\n",
    "import numpy as np\n",
    "import wandb"
   ]
  },
  {
   "cell_type": "code",
   "execution_count": 2,
   "id": "22e42846",
   "metadata": {},
   "outputs": [],
   "source": [
    "names = [\"ESOL\", \"FreeSolv\", \"Lipo\", \"PCBA\", \"MUV\", \"HIV\", \"BACE\", \"BBBP\", \"Tox21\", \"ToxCast\", \"SIDER\", \"ClinTox\"]"
   ]
  },
  {
   "cell_type": "code",
   "execution_count": 11,
   "id": "adcb4dcf",
   "metadata": {},
   "outputs": [],
   "source": [
    "nodes = {}\n",
    "edges = {}"
   ]
  },
  {
   "cell_type": "code",
   "execution_count": 12,
   "id": "6c2ff6a2",
   "metadata": {},
   "outputs": [
    {
     "name": "stdout",
     "output_type": "stream",
     "text": [
      "Data(edge_attr=[68, 3], edge_index=[2, 68], smiles=\"OCC3OC(OCC2OC(OC(C#N)c1ccccc1)C(O)C(O)C2O)C(O)C(O)C3O \", x=[32, 9], y=[1, 1])\n",
      "Data(edge_attr=[26, 3], edge_index=[2, 26], smiles=\"CN(C)C(=O)c1ccc(cc1)OC\", x=[13, 9], y=[1, 1])\n",
      "Data(edge_attr=[54, 3], edge_index=[2, 54], smiles=\"Cn1c(CN2CCN(CC2)c3ccc(Cl)cc3)nc4ccccc14\", x=[24, 9], y=[1, 1])\n",
      "Data(edge_attr=[44, 3], edge_index=[2, 44], smiles=\"CC(=O)N1CCC2(CC1)NC(=O)N(c1ccccc1)N2\", x=[20, 9], y=[1, 128])\n",
      "Data(edge_attr=[60, 3], edge_index=[2, 60], smiles=\"Cc1cccc(N2CCN(C(=O)C34CC5CC(CC(C5)C3)C4)CC2)c1C\", x=[26, 9], y=[1, 17])\n",
      "Data(edge_attr=[40, 3], edge_index=[2, 40], smiles=\"CCC1=[O+][Cu-3]2([O+]=C(CC)C1)[O+]=C(CC)CC(CC)=[O+]2\", x=[19, 9], y=[1, 1])\n",
      "Data(edge_attr=[70, 3], edge_index=[2, 70], smiles=\"O1CC[C@@H](NC(=O)[C@@H](Cc2cc3cc(ccc3nc2N)-c2ccccc2C)C)CC1(C)C\", x=[32, 9], y=[1, 1])\n",
      "Data(edge_attr=[40, 3], edge_index=[2, 40], smiles=\"[Cl].CC(C)NCC(O)COc1cccc2ccccc12\", x=[20, 9], y=[1, 1])\n",
      "Data(edge_attr=[34, 3], edge_index=[2, 34], smiles=\"CCOc1ccc2nc(S(N)(=O)=O)sc2c1\", x=[16, 9], y=[1, 12])\n",
      "Data(edge_attr=[20, 3], edge_index=[2, 20], smiles=\"[O-][N+](=O)C1=CC=C(Cl)C=C1\", x=[10, 9], y=[1, 617])\n",
      "Data(edge_attr=[24, 3], edge_index=[2, 24], smiles=\"C(CNCCNCCNCCN)N\", x=[13, 9], y=[1, 27])\n",
      "Data(edge_attr=[46, 3], edge_index=[2, 46], smiles=\"*C(=O)[C@H](CCCCNC(=O)OCCOC)NC(=O)OCCOC\", x=[24, 9], y=[1, 2])\n"
     ]
    }
   ],
   "source": [
    "for name in names:\n",
    "    try:\n",
    "        dataset = MoleculeNet('../../datasets/moleculenet', name)\n",
    "        print(dataset[0])\n",
    "        max_nodes = np.max([len(d.x) for d in dataset])\n",
    "        max_edges = np.max([len(d.edge_attr) for d in dataset])\n",
    "        nodes[name] = max_nodes\n",
    "        edges[name] = max_edges\n",
    "    except:\n",
    "        continue"
   ]
  },
  {
   "cell_type": "code",
   "execution_count": 13,
   "id": "98dd7770",
   "metadata": {},
   "outputs": [
    {
     "data": {
      "text/plain": [
       "{'ESOL': 55,\n",
       " 'FreeSolv': 24,\n",
       " 'Lipo': 115,\n",
       " 'PCBA': 332,\n",
       " 'MUV': 46,\n",
       " 'HIV': 222,\n",
       " 'BACE': 97,\n",
       " 'BBBP': 132,\n",
       " 'Tox21': 132,\n",
       " 'ToxCast': 124,\n",
       " 'SIDER': 492,\n",
       " 'ClinTox': 136}"
      ]
     },
     "execution_count": 13,
     "metadata": {},
     "output_type": "execute_result"
    }
   ],
   "source": [
    "nodes"
   ]
  },
  {
   "cell_type": "code",
   "execution_count": 14,
   "id": "b5a43185",
   "metadata": {},
   "outputs": [
    {
     "data": {
      "text/plain": [
       "{'ESOL': 124,\n",
       " 'FreeSolv': 50,\n",
       " 'Lipo': 236,\n",
       " 'PCBA': 672,\n",
       " 'MUV': 104,\n",
       " 'HIV': 502,\n",
       " 'BACE': 202,\n",
       " 'BBBP': 290,\n",
       " 'Tox21': 290,\n",
       " 'ToxCast': 268,\n",
       " 'SIDER': 1010,\n",
       " 'ClinTox': 286}"
      ]
     },
     "execution_count": 14,
     "metadata": {},
     "output_type": "execute_result"
    }
   ],
   "source": [
    "edges"
   ]
  },
  {
   "cell_type": "code",
   "execution_count": 3,
   "id": "08c44569",
   "metadata": {},
   "outputs": [],
   "source": [
    "dataset = MoleculeNet('../../datasets/moleculenet', \"HIV\")"
   ]
  },
  {
   "cell_type": "code",
   "execution_count": 5,
   "id": "9cbc8c75",
   "metadata": {},
   "outputs": [],
   "source": [
    "class_count = np.zeros(2)\n",
    "for d in dataset:\n",
    "    #print(d.y)\n",
    "    #class_count[np.argmax(d.y.numpy()[0])] += 1\n",
    "    if len(d.x) <= 40:\n",
    "        class_count[int(d.y[0][0].item())] += 1"
   ]
  },
  {
   "cell_type": "code",
   "execution_count": 6,
   "id": "c47522e1",
   "metadata": {},
   "outputs": [
    {
     "data": {
      "text/plain": [
       "0.02758384487709777"
      ]
     },
     "execution_count": 6,
     "metadata": {},
     "output_type": "execute_result"
    }
   ],
   "source": [
    "class_count[1]/class_count.sum()"
   ]
  },
  {
   "cell_type": "code",
   "execution_count": null,
   "id": "a15c0fd5",
   "metadata": {},
   "outputs": [],
   "source": []
  }
 ],
 "metadata": {
  "kernelspec": {
   "display_name": "Python 3 (ipykernel)",
   "language": "python",
   "name": "python3"
  },
  "language_info": {
   "codemirror_mode": {
    "name": "ipython",
    "version": 3
   },
   "file_extension": ".py",
   "mimetype": "text/x-python",
   "name": "python",
   "nbconvert_exporter": "python",
   "pygments_lexer": "ipython3",
   "version": "3.8.3"
  }
 },
 "nbformat": 4,
 "nbformat_minor": 5
}
