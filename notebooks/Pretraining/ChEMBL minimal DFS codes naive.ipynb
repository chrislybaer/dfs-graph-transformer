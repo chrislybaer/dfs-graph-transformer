{
 "cells": [
  {
   "cell_type": "code",
   "execution_count": 2,
   "id": "50a6b61b",
   "metadata": {},
   "outputs": [
    {
     "name": "stdout",
     "output_type": "stream",
     "text": [
      "Random Seed:  43\n"
     ]
    }
   ],
   "source": [
    "%load_ext autoreload\n",
    "%autoreload 2\n",
    "import torch\n",
    "import torch.nn as nn\n",
    "import torch.nn.functional as F\n",
    "import torch.optim as optim\n",
    "from torch_geometric.datasets.qm9 import QM9\n",
    "import torch_geometric.datasets.qm9 as qm9\n",
    "from torch_geometric.data import DataLoader\n",
    "import torch_geometric.nn as tgnn\n",
    "from torch_geometric.data import Data\n",
    "from torch_scatter import scatter\n",
    "import torch_geometric\n",
    "import tqdm\n",
    "import numpy as np\n",
    "import wandb\n",
    "import random\n",
    "import pandas as pd\n",
    "\n",
    "import rdkit\n",
    "from rdkit import Chem\n",
    "from rdkit.Chem.rdchem import HybridizationType\n",
    "from rdkit.Chem.rdchem import BondType as BT\n",
    "from rdkit import RDLogger\n",
    "RDLogger.DisableLog('rdApp.*')\n",
    "\n",
    "import dfs_code\n",
    "import _dfs_codes\n",
    "import networkx as nx\n",
    "\n",
    "manualSeed = 43\n",
    "random.seed(manualSeed)\n",
    "torch.manual_seed(manualSeed)\n",
    "np.random.seed(manualSeed)\n",
    "print(\"Random Seed: \", manualSeed)"
   ]
  },
  {
   "cell_type": "code",
   "execution_count": 3,
   "id": "38667af8",
   "metadata": {},
   "outputs": [],
   "source": [
    "from torch_geometric.data import InMemoryDataset\n",
    "class ChEMBL(InMemoryDataset):\n",
    "    def __init__(self):\n",
    "        super().__init__()\n",
    "        self.data, self.slices = torch.load('../../datasets/ChEMBL/preprocessedPlusHs_split1.pt')"
   ]
  },
  {
   "cell_type": "code",
   "execution_count": 4,
   "id": "fecc9020",
   "metadata": {},
   "outputs": [],
   "source": [
    "dataset = ChEMBL()"
   ]
  },
  {
   "cell_type": "code",
   "execution_count": 5,
   "id": "f67c4295",
   "metadata": {},
   "outputs": [
    {
     "data": {
      "text/plain": [
       "Data(edge_attr=[106, 4], edge_index=[2, 106], idx=[1], name=\"CHEMBL3394127\", x=[50, 39], z=[50])"
      ]
     },
     "execution_count": 5,
     "metadata": {},
     "output_type": "execute_result"
    }
   ],
   "source": [
    "dataset[0]"
   ]
  },
  {
   "cell_type": "code",
   "execution_count": 6,
   "id": "6c529528",
   "metadata": {},
   "outputs": [
    {
     "data": {
      "text/plain": [
       "tensor([[ 0,  0,  0,  0,  1,  1,  1,  1,  2,  2,  2,  2,  3,  3,  3,  3,  4,  4,\n",
       "          4,  5,  5,  5,  6,  7,  7,  7,  7,  8,  8,  9,  9,  9, 10, 10, 11, 11,\n",
       "         11, 12, 12, 12, 13, 13, 13, 14, 14, 14, 15, 15, 15, 16, 16, 16, 17, 17,\n",
       "         17, 18, 19, 19, 19, 20, 20, 20, 20, 21, 21, 21, 21, 22, 22, 22, 22, 23,\n",
       "         23, 23, 24, 25, 25, 25, 26, 26, 26, 26, 27, 27, 27, 27, 28, 28, 28, 29,\n",
       "         29, 29, 30, 30, 30, 31, 31, 31, 32, 32, 33, 33, 33, 33, 34, 34, 34, 35,\n",
       "         35, 36, 36, 36, 36, 37, 37, 37, 38, 38, 39, 39, 39, 39, 40, 40, 41, 42,\n",
       "         43, 44, 45, 46, 47, 48, 49, 50, 51, 52, 53, 54, 55, 56, 57, 58, 59, 60,\n",
       "         61, 62, 63, 64, 65, 66, 67, 68, 69, 70, 71, 72, 73, 74, 75, 76],\n",
       "        [ 1, 41, 42, 43,  0,  2, 44, 45,  1,  3,  4, 46,  2, 47, 48, 49,  2,  5,\n",
       "         50,  4,  6,  7,  5,  5,  8, 51, 52,  7,  9,  8, 10, 19,  9, 11, 10, 12,\n",
       "         16, 11, 13, 53, 12, 14, 40, 13, 15, 38, 14, 16, 54, 11, 15, 17, 16, 18,\n",
       "         19, 17,  9, 17, 20, 19, 21, 55, 56, 20, 22, 57, 58, 21, 23, 59, 60, 22,\n",
       "         24, 25, 23, 23, 26, 61, 25, 27, 62, 63, 26, 28, 64, 65, 27, 29, 37, 28,\n",
       "         30, 66, 29, 31, 67, 30, 32, 34, 31, 33, 32, 68, 69, 70, 31, 35, 37, 34,\n",
       "         36, 35, 71, 72, 73, 28, 34, 74, 14, 39, 38, 40, 75, 76, 13, 39,  0,  0,\n",
       "          0,  1,  1,  2,  3,  3,  3,  4,  7,  7, 12, 15, 20, 20, 21, 21, 22, 22,\n",
       "         25, 26, 26, 27, 27, 29, 30, 33, 33, 33, 36, 36, 36, 37, 39, 39]])"
      ]
     },
     "execution_count": 6,
     "metadata": {},
     "output_type": "execute_result"
    }
   ],
   "source": [
    "dataset[10000].edge_index"
   ]
  },
  {
   "cell_type": "code",
   "execution_count": null,
   "id": "d08d504f",
   "metadata": {},
   "outputs": [
    {
     "name": "stderr",
     "output_type": "stream",
     "text": [
      "\r",
      "  0%|                                                 | 0/29917 [00:00<?, ?it/s]"
     ]
    }
   ],
   "source": [
    "dfs_codes = {}\n",
    "bad_examples = []\n",
    "for data in tqdm.tqdm(dataset):\n",
    "    vertex_features = data.x.detach().cpu().numpy()\n",
    "    edge_features = data.edge_attr.detach().cpu().numpy()\n",
    "    vertex_labels = data.z.detach().cpu().numpy().tolist()\n",
    "    edge_labels = np.argmax(edge_features, axis=1).tolist()\n",
    "    if len(vertex_features) > 30:\n",
    "        continue\n",
    "    try:    \n",
    "        code, dfs_indices = dfs_code.min_dfs_code_from_torch_geometric(data, vertex_labels, edge_labels)\n",
    "        dfs_codes[data.name] = {'min_dfs_code':code, 'dfs_indices':dfs_indices}\n",
    "    except KeyboardInterrupt:\n",
    "        break        \n",
    "    except KeyError as e:\n",
    "        print(data.name, 'failed')\n",
    "        bad_examples += [data.name]\n",
    "        print('diagnosis: ')\n",
    "        edges_coo = data.edge_index.detach().cpu().numpy().T\n",
    "        edge2id = {tuple(e.tolist()): idx for idx, e in enumerate(edges_coo)}\n",
    "        edge_list = dfs_code.torch_geometric_2_lists(data, vertex_labels, edge_labels)\n",
    "        code = _dfs_codes.compute_minimal_dfs_code(edge_list, vertex_labels)\n",
    "        dfs_indices = {}\n",
    "        for idx, row in enumerate(code):\n",
    "            code[idx][-2] = edge2id[(row[-3], row[-1])]\n",
    "            dfs_indices[row[-3]] = row[0]\n",
    "            dfs_indices[row[-1]] = row[1]\n",
    "        g = nx.Graph()\n",
    "        g.add_nodes_from(list(range(len(vertex_labels))))\n",
    "        g.add_edges_from(edges_coo.tolist())\n",
    "        print('has correct length?', len(code) == len(edge_list)//2,'is valid?', dfs_code.isValidDFSCode(code), end='')\n",
    "        print(' is connected?', nx.is_connected(g))\n",
    "    \n",
    "        "
   ]
  },
  {
   "cell_type": "code",
   "execution_count": null,
   "id": "836720c8",
   "metadata": {},
   "outputs": [],
   "source": [
    "len(bad_examples)"
   ]
  },
  {
   "cell_type": "code",
   "execution_count": null,
   "id": "ffd276f7",
   "metadata": {},
   "outputs": [],
   "source": [
    "len(dfs_codes)"
   ]
  },
  {
   "cell_type": "code",
   "execution_count": null,
   "id": "0a5f2a9f",
   "metadata": {},
   "outputs": [],
   "source": [
    "bad_examples"
   ]
  },
  {
   "cell_type": "code",
   "execution_count": null,
   "id": "2e4e95b4",
   "metadata": {},
   "outputs": [],
   "source": [
    "!mkdir ../../datasets/ChEMBL/leq30"
   ]
  },
  {
   "cell_type": "code",
   "execution_count": null,
   "id": "b3bd4ce0",
   "metadata": {},
   "outputs": [],
   "source": [
    "import json\n",
    "with open('../../datasets/ChEMBL/leq30/bad_examples.json', 'w') as f:\n",
    "    json.dump(bad_examples, f)"
   ]
  },
  {
   "cell_type": "code",
   "execution_count": null,
   "id": "c1c8137b",
   "metadata": {},
   "outputs": [],
   "source": [
    "with open('../../datasets/ChEMBL/leq30/min_dfs_codes.json', 'w') as f:\n",
    "    json.dump(dfs_codes, f)"
   ]
  },
  {
   "cell_type": "code",
   "execution_count": null,
   "id": "981f36bd",
   "metadata": {},
   "outputs": [],
   "source": [
    "dfs_codes"
   ]
  },
  {
   "cell_type": "code",
   "execution_count": null,
   "id": "c8d398d5",
   "metadata": {},
   "outputs": [],
   "source": []
  }
 ],
 "metadata": {
  "kernelspec": {
   "display_name": "Python 3 (ipykernel)",
   "language": "python",
   "name": "python3"
  },
  "language_info": {
   "codemirror_mode": {
    "name": "ipython",
    "version": 3
   },
   "file_extension": ".py",
   "mimetype": "text/x-python",
   "name": "python",
   "nbconvert_exporter": "python",
   "pygments_lexer": "ipython3",
   "version": "3.8.3"
  }
 },
 "nbformat": 4,
 "nbformat_minor": 5
}
