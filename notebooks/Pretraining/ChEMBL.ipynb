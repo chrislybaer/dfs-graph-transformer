{
 "cells": [
  {
   "cell_type": "code",
   "execution_count": 1,
   "id": "50a6b61b",
   "metadata": {},
   "outputs": [
    {
     "name": "stdout",
     "output_type": "stream",
     "text": [
      "Random Seed:  43\n"
     ]
    }
   ],
   "source": [
    "%load_ext autoreload\n",
    "%autoreload 2\n",
    "import torch\n",
    "import torch.nn as nn\n",
    "import torch.nn.functional as F\n",
    "import torch.optim as optim\n",
    "from torch_geometric.datasets.qm9 import QM9\n",
    "import torch_geometric.datasets.qm9 as qm9\n",
    "from torch_geometric.data import DataLoader\n",
    "import torch_geometric.nn as tgnn\n",
    "from torch_geometric.data import Data\n",
    "from torch_scatter import scatter\n",
    "import torch_geometric\n",
    "import tqdm\n",
    "import numpy as np\n",
    "import wandb\n",
    "import random\n",
    "import pandas as pd\n",
    "\n",
    "import rdkit\n",
    "from rdkit import Chem\n",
    "from rdkit.Chem.rdchem import HybridizationType\n",
    "from rdkit.Chem.rdchem import BondType as BT\n",
    "from rdkit import RDLogger\n",
    "RDLogger.DisableLog('rdApp.*')\n",
    "\n",
    "from matplotlib import pyplot as plt\n",
    "import networkx as nx\n",
    "\n",
    "manualSeed = 43\n",
    "random.seed(manualSeed)\n",
    "torch.manual_seed(manualSeed)\n",
    "np.random.seed(manualSeed)\n",
    "print(\"Random Seed: \", manualSeed)"
   ]
  },
  {
   "cell_type": "code",
   "execution_count": 2,
   "id": "a047ca72",
   "metadata": {},
   "outputs": [],
   "source": [
    "useHs = False"
   ]
  },
  {
   "cell_type": "code",
   "execution_count": 3,
   "id": "38667af8",
   "metadata": {},
   "outputs": [
    {
     "name": "stderr",
     "output_type": "stream",
     "text": [
      "/home/chrisw/.cache/pypoetry/virtualenvs/graph-transformer-9jPERXQ--py3.8/lib/python3.8/site-packages/IPython/core/interactiveshell.py:3441: DtypeWarning: Columns (27) have mixed types.Specify dtype option on import or set low_memory=False.\n",
      "  exec(code_obj, self.user_global_ns, self.user_ns)\n"
     ]
    }
   ],
   "source": [
    "df = pd.read_csv('../../datasets/ChEMBL/small_molecules.csv', delimiter=';')"
   ]
  },
  {
   "cell_type": "code",
   "execution_count": 4,
   "id": "9cd3c8f1",
   "metadata": {},
   "outputs": [
    {
     "data": {
      "text/plain": [
       "0          CCC(=O)O[C@H]1[C@H](C)O[C@@H](O[C@@H]2[C@@H](C...\n",
       "1                  COc1ccc(Cl)cc1-c1cc(Nc2ccc(Cl)cc2)nc(N)n1\n",
       "2          COc1ccc(/C=C/C2=NN(CCCN)C(=O)N(Cc3ccc4ccccc4c3...\n",
       "3                    Cc1ccc(CCN2CC(C(=O)NCc3cccnc3)CC2=O)cc1\n",
       "4                                               CCCCC(=O)O.N\n",
       "                                 ...                        \n",
       "1920134    COc1ccnc(C[S+]([O-])c2nc3cc(OC(F)F)ccc3[n-]2)c...\n",
       "1920135      CN1c2c(oc(=O)n(-c3ccccn3)c2=O)-c2ccccc2S1(=O)=O\n",
       "1920136                                                  NaN\n",
       "1920137                                                  NaN\n",
       "1920138    COc1cc([C@@H]2c3cc4c(cc3[C@H](O)[C@H]3COC(=O)[...\n",
       "Name: Smiles, Length: 1920139, dtype: object"
      ]
     },
     "execution_count": 4,
     "metadata": {},
     "output_type": "execute_result"
    }
   ],
   "source": [
    "df['Smiles']"
   ]
  },
  {
   "cell_type": "code",
   "execution_count": 5,
   "id": "5640b032",
   "metadata": {},
   "outputs": [],
   "source": [
    "df.dropna(subset = [\"Smiles\"], inplace=True)"
   ]
  },
  {
   "cell_type": "code",
   "execution_count": 6,
   "id": "80dbbd41",
   "metadata": {},
   "outputs": [
    {
     "data": {
      "text/plain": [
       "0          CCC(=O)O[C@H]1[C@H](C)O[C@@H](O[C@@H]2[C@@H](C...\n",
       "1                  COc1ccc(Cl)cc1-c1cc(Nc2ccc(Cl)cc2)nc(N)n1\n",
       "2          COc1ccc(/C=C/C2=NN(CCCN)C(=O)N(Cc3ccc4ccccc4c3...\n",
       "3                    Cc1ccc(CCN2CC(C(=O)NCc3cccnc3)CC2=O)cc1\n",
       "4                                               CCCCC(=O)O.N\n",
       "                                 ...                        \n",
       "1920132    Oc1ccc2c(c1)[C@@]13CCCC[C@@]1(O)[C@@H](C2)N(CC...\n",
       "1920133                       Oc1ccc(/C=C/c2cc(O)cc(O)c2)cc1\n",
       "1920134    COc1ccnc(C[S+]([O-])c2nc3cc(OC(F)F)ccc3[n-]2)c...\n",
       "1920135      CN1c2c(oc(=O)n(-c3ccccn3)c2=O)-c2ccccc2S1(=O)=O\n",
       "1920138    COc1cc([C@@H]2c3cc4c(cc3[C@H](O)[C@H]3COC(=O)[...\n",
       "Name: Smiles, Length: 1914648, dtype: object"
      ]
     },
     "execution_count": 6,
     "metadata": {},
     "output_type": "execute_result"
    }
   ],
   "source": [
    "df['Smiles']"
   ]
  },
  {
   "cell_type": "code",
   "execution_count": 7,
   "id": "6e57bd33",
   "metadata": {},
   "outputs": [
    {
     "data": {
      "text/plain": [
       "Index(['ChEMBL ID', 'Name', 'Synonyms', 'Type', 'Max Phase',\n",
       "       'Molecular Weight', 'Targets', 'Bioactivities', 'AlogP', 'PSA', 'HBA',\n",
       "       'HBD', '#RO5 Violations', '#Rotatable Bonds', 'Passes Ro3',\n",
       "       'QED Weighted', 'CX ApKa', 'CX BpKa', 'CX LogP', 'CX LogD',\n",
       "       'Aromatic Rings', 'Structure Type', 'Inorganic Flag', 'Heavy Atoms',\n",
       "       'HBA Lipinski', 'HBD Lipinski', '#RO5 Violations (Lipinski)',\n",
       "       'Molecular Weight (Monoisotopic)', 'Molecular Species',\n",
       "       'Molecular Formula', 'Smiles'],\n",
       "      dtype='object')"
      ]
     },
     "execution_count": 7,
     "metadata": {},
     "output_type": "execute_result"
    }
   ],
   "source": [
    "df.keys()"
   ]
  },
  {
   "cell_type": "code",
   "execution_count": 8,
   "id": "f6c92c5c",
   "metadata": {},
   "outputs": [],
   "source": [
    "smiles = df['Smiles'][111]\n",
    "mol = Chem.MolFromSmiles(smiles)"
   ]
  },
  {
   "cell_type": "code",
   "execution_count": 9,
   "id": "db17c99d",
   "metadata": {},
   "outputs": [],
   "source": [
    "smiles = df['Smiles'][df['ChEMBL ID'] == 'CHEMBL4099974']"
   ]
  },
  {
   "cell_type": "code",
   "execution_count": 10,
   "id": "88984163",
   "metadata": {},
   "outputs": [
    {
     "data": {
      "text/plain": [
       "2    COc1ccc(/C=C/C2=NN(CCCN)C(=O)N(Cc3ccc4ccccc4c3...\n",
       "Name: Smiles, dtype: object"
      ]
     },
     "execution_count": 10,
     "metadata": {},
     "output_type": "execute_result"
    }
   ],
   "source": [
    "smiles"
   ]
  },
  {
   "cell_type": "code",
   "execution_count": 11,
   "id": "bae4a3a8",
   "metadata": {},
   "outputs": [],
   "source": [
    "mol = Chem.MolFromSmiles(smiles[2]) "
   ]
  },
  {
   "cell_type": "code",
   "execution_count": 12,
   "id": "ef0e3ae3",
   "metadata": {},
   "outputs": [],
   "source": [
    "df['Smiles'].to_csv('../../datasets/ChEMBL/smiles.csv', index=False)"
   ]
  },
  {
   "cell_type": "code",
   "execution_count": 13,
   "id": "9484d654",
   "metadata": {},
   "outputs": [],
   "source": [
    "supplier = Chem.rdmolfiles.SmilesMolSupplier('../../datasets/ChEMBL/smiles.csv', delimiter='', sanitize=False)"
   ]
  },
  {
   "cell_type": "markdown",
   "id": "dabdf233",
   "metadata": {},
   "source": [
    "# Determine all atom and bond types that occur"
   ]
  },
  {
   "cell_type": "code",
   "execution_count": 14,
   "id": "20d6ccf0",
   "metadata": {},
   "outputs": [],
   "source": [
    "atom_types = {}\n",
    "bond_types = {}\n",
    "n_atoms_list = []\n",
    "n_bonds_list = []"
   ]
  },
  {
   "cell_type": "code",
   "execution_count": 15,
   "id": "649c6a41",
   "metadata": {},
   "outputs": [
    {
     "name": "stderr",
     "output_type": "stream",
     "text": [
      "100%|██████████████████████████████████████████████████████████████████████████████████████████████████████████████████████████████████████████████████████████████████| 1914648/1914648 [06:37<00:00, 4816.25it/s]\n"
     ]
    }
   ],
   "source": [
    "curr_atom_type = 0\n",
    "curr_bond_type = 0\n",
    "max_atoms = 0\n",
    "max_bonds = 0\n",
    "for mol in tqdm.tqdm(supplier):\n",
    "    if useHs:\n",
    "        mol = Chem.rdmolops.AddHs(mol)\n",
    "    if mol is None:\n",
    "        print(smiles, 'yields None')\n",
    "        continue\n",
    "    for atom in mol.GetAtoms():\n",
    "        symbol = atom.GetSymbol()\n",
    "        if symbol not in atom_types:\n",
    "            atom_types[symbol] = curr_atom_type\n",
    "            curr_atom_type += 1\n",
    "    for bond in mol.GetBonds():\n",
    "        btype = bond.GetBondType()\n",
    "        if btype not in bond_types:\n",
    "            bond_types[btype] = curr_bond_type \n",
    "            curr_bond_type += 1\n",
    "    n_atoms = len(mol.GetAtoms())\n",
    "    n_bonds = len(mol.GetBonds())\n",
    "    if max_atoms < n_atoms:\n",
    "        max_atoms = n_atoms\n",
    "    if max_bonds < n_bonds:\n",
    "        max_bonds = n_bonds\n",
    "    n_atoms_list += [n_atoms]\n",
    "    n_bonds_list += [n_bonds]"
   ]
  },
  {
   "cell_type": "code",
   "execution_count": 16,
   "id": "4c113d4f",
   "metadata": {},
   "outputs": [
    {
     "data": {
      "text/plain": [
       "{rdkit.Chem.rdchem.BondType.SINGLE: 0,\n",
       " rdkit.Chem.rdchem.BondType.DOUBLE: 1,\n",
       " rdkit.Chem.rdchem.BondType.AROMATIC: 2,\n",
       " rdkit.Chem.rdchem.BondType.TRIPLE: 3}"
      ]
     },
     "execution_count": 16,
     "metadata": {},
     "output_type": "execute_result"
    }
   ],
   "source": [
    "bond_types"
   ]
  },
  {
   "cell_type": "code",
   "execution_count": 17,
   "id": "3340f5b7",
   "metadata": {},
   "outputs": [
    {
     "data": {
      "text/plain": [
       "(array([3.14000e+02, 1.55100e+03, 6.89100e+03, 2.40450e+04, 6.16890e+04,\n",
       "        1.32353e+05, 2.26059e+05, 4.00176e+05, 2.85181e+05, 2.50702e+05,\n",
       "        1.83503e+05, 1.16324e+05, 7.09060e+04, 4.48230e+04, 2.70580e+04,\n",
       "        2.27480e+04, 1.16540e+04, 7.90100e+03, 7.22600e+03, 5.79700e+03,\n",
       "        4.63800e+03, 3.47700e+03, 2.75300e+03, 2.55600e+03, 1.43000e+03,\n",
       "        1.32700e+03, 1.22600e+03, 1.06700e+03, 8.35000e+02, 7.44000e+02,\n",
       "        6.62000e+02, 7.07000e+02, 4.87000e+02, 5.34000e+02, 4.03000e+02,\n",
       "        4.33000e+02, 4.19000e+02, 3.57000e+02, 3.40000e+02, 2.11000e+02,\n",
       "        1.94000e+02, 1.54000e+02, 1.54000e+02, 1.77000e+02, 1.61000e+02,\n",
       "        1.27000e+02, 1.23000e+02, 1.17000e+02, 8.30000e+01, 5.60000e+01,\n",
       "        5.00000e+01, 4.90000e+01, 4.60000e+01, 5.10000e+01, 6.00000e+01,\n",
       "        5.70000e+01, 3.20000e+01, 6.80000e+01, 6.10000e+01, 3.50000e+01,\n",
       "        3.10000e+01, 2.90000e+01, 2.40000e+01, 2.50000e+01, 2.70000e+01,\n",
       "        2.60000e+01, 3.10000e+01, 3.00000e+01, 1.30000e+01, 1.40000e+01,\n",
       "        3.40000e+01, 2.40000e+01, 2.50000e+01, 1.90000e+01, 2.00000e+01,\n",
       "        2.20000e+01, 5.90000e+01, 4.70000e+01, 2.90000e+01, 2.30000e+01,\n",
       "        1.60000e+01, 8.00000e+00, 1.20000e+01, 1.10000e+01, 1.50000e+01,\n",
       "        3.70000e+01, 2.00000e+01, 2.00000e+01, 8.00000e+00, 1.40000e+01,\n",
       "        2.10000e+01, 2.40000e+01, 2.40000e+01, 2.40000e+01, 1.70000e+01,\n",
       "        4.10000e+01, 2.70000e+01, 1.60000e+01, 1.20000e+01, 1.20000e+01,\n",
       "        2.00000e+01, 2.20000e+01, 2.00000e+01, 5.00000e+00, 5.00000e+00,\n",
       "        1.10000e+01, 8.00000e+00, 5.00000e+00, 5.00000e+00, 5.00000e+00,\n",
       "        5.00000e+00, 2.00000e+00, 2.00000e+00, 2.00000e+00, 6.00000e+00,\n",
       "        1.50000e+01, 9.00000e+00, 3.00000e+00, 7.00000e+00, 2.00000e+00,\n",
       "        4.00000e+00, 2.00000e+00, 4.00000e+00, 1.00000e+01, 2.20000e+01,\n",
       "        1.00000e+00, 1.00000e+00, 8.00000e+00, 3.00000e+00, 6.00000e+00,\n",
       "        1.10000e+01, 9.00000e+00, 6.00000e+00, 6.00000e+00, 6.00000e+00,\n",
       "        6.00000e+00, 1.00000e+00, 2.00000e+00, 4.00000e+00, 7.00000e+00,\n",
       "        6.00000e+00, 3.00000e+00, 2.00000e+00, 1.00000e+00, 6.00000e+00,\n",
       "        6.00000e+00, 5.00000e+00, 9.00000e+00, 4.00000e+00, 8.00000e+00,\n",
       "        1.00000e+00, 4.00000e+00, 3.00000e+00, 2.00000e+00, 2.00000e+00,\n",
       "        3.00000e+00, 0.00000e+00, 0.00000e+00, 1.00000e+00, 4.00000e+00,\n",
       "        0.00000e+00, 0.00000e+00, 0.00000e+00, 0.00000e+00, 0.00000e+00,\n",
       "        1.00000e+00, 0.00000e+00, 0.00000e+00, 1.00000e+00, 0.00000e+00,\n",
       "        1.00000e+00, 0.00000e+00, 0.00000e+00, 0.00000e+00, 2.00000e+00,\n",
       "        0.00000e+00, 0.00000e+00, 0.00000e+00, 0.00000e+00, 0.00000e+00,\n",
       "        0.00000e+00, 0.00000e+00, 0.00000e+00, 0.00000e+00, 0.00000e+00,\n",
       "        0.00000e+00, 0.00000e+00, 0.00000e+00, 0.00000e+00, 0.00000e+00,\n",
       "        0.00000e+00, 0.00000e+00, 0.00000e+00, 0.00000e+00, 0.00000e+00,\n",
       "        0.00000e+00, 0.00000e+00, 0.00000e+00, 0.00000e+00, 0.00000e+00,\n",
       "        0.00000e+00, 0.00000e+00, 0.00000e+00, 0.00000e+00, 0.00000e+00,\n",
       "        0.00000e+00, 0.00000e+00, 0.00000e+00, 0.00000e+00, 0.00000e+00,\n",
       "        1.00000e+00, 0.00000e+00, 0.00000e+00, 0.00000e+00, 0.00000e+00,\n",
       "        0.00000e+00, 0.00000e+00, 0.00000e+00, 0.00000e+00, 0.00000e+00,\n",
       "        0.00000e+00, 0.00000e+00, 0.00000e+00, 0.00000e+00, 0.00000e+00,\n",
       "        0.00000e+00, 0.00000e+00, 0.00000e+00, 0.00000e+00, 0.00000e+00,\n",
       "        0.00000e+00, 0.00000e+00, 0.00000e+00, 0.00000e+00, 0.00000e+00,\n",
       "        0.00000e+00, 0.00000e+00, 0.00000e+00, 0.00000e+00, 0.00000e+00,\n",
       "        0.00000e+00, 0.00000e+00, 0.00000e+00, 0.00000e+00, 0.00000e+00,\n",
       "        0.00000e+00, 0.00000e+00, 0.00000e+00, 1.00000e+00]),\n",
       " array([  1.        ,   4.12851406,   7.25702811,  10.38554217,\n",
       "         13.51405622,  16.64257028,  19.77108434,  22.89959839,\n",
       "         26.02811245,  29.15662651,  32.28514056,  35.41365462,\n",
       "         38.54216867,  41.67068273,  44.79919679,  47.92771084,\n",
       "         51.0562249 ,  54.18473896,  57.31325301,  60.44176707,\n",
       "         63.57028112,  66.69879518,  69.82730924,  72.95582329,\n",
       "         76.08433735,  79.21285141,  82.34136546,  85.46987952,\n",
       "         88.59839357,  91.72690763,  94.85542169,  97.98393574,\n",
       "        101.1124498 , 104.24096386, 107.36947791, 110.49799197,\n",
       "        113.62650602, 116.75502008, 119.88353414, 123.01204819,\n",
       "        126.14056225, 129.26907631, 132.39759036, 135.52610442,\n",
       "        138.65461847, 141.78313253, 144.91164659, 148.04016064,\n",
       "        151.1686747 , 154.29718876, 157.42570281, 160.55421687,\n",
       "        163.68273092, 166.81124498, 169.93975904, 173.06827309,\n",
       "        176.19678715, 179.3253012 , 182.45381526, 185.58232932,\n",
       "        188.71084337, 191.83935743, 194.96787149, 198.09638554,\n",
       "        201.2248996 , 204.35341365, 207.48192771, 210.61044177,\n",
       "        213.73895582, 216.86746988, 219.99598394, 223.12449799,\n",
       "        226.25301205, 229.3815261 , 232.51004016, 235.63855422,\n",
       "        238.76706827, 241.89558233, 245.02409639, 248.15261044,\n",
       "        251.2811245 , 254.40963855, 257.53815261, 260.66666667,\n",
       "        263.79518072, 266.92369478, 270.05220884, 273.18072289,\n",
       "        276.30923695, 279.437751  , 282.56626506, 285.69477912,\n",
       "        288.82329317, 291.95180723, 295.08032129, 298.20883534,\n",
       "        301.3373494 , 304.46586345, 307.59437751, 310.72289157,\n",
       "        313.85140562, 316.97991968, 320.10843373, 323.23694779,\n",
       "        326.36546185, 329.4939759 , 332.62248996, 335.75100402,\n",
       "        338.87951807, 342.00803213, 345.13654618, 348.26506024,\n",
       "        351.3935743 , 354.52208835, 357.65060241, 360.77911647,\n",
       "        363.90763052, 367.03614458, 370.16465863, 373.29317269,\n",
       "        376.42168675, 379.5502008 , 382.67871486, 385.80722892,\n",
       "        388.93574297, 392.06425703, 395.19277108, 398.32128514,\n",
       "        401.4497992 , 404.57831325, 407.70682731, 410.83534137,\n",
       "        413.96385542, 417.09236948, 420.22088353, 423.34939759,\n",
       "        426.47791165, 429.6064257 , 432.73493976, 435.86345382,\n",
       "        438.99196787, 442.12048193, 445.24899598, 448.37751004,\n",
       "        451.5060241 , 454.63453815, 457.76305221, 460.89156627,\n",
       "        464.02008032, 467.14859438, 470.27710843, 473.40562249,\n",
       "        476.53413655, 479.6626506 , 482.79116466, 485.91967871,\n",
       "        489.04819277, 492.17670683, 495.30522088, 498.43373494,\n",
       "        501.562249  , 504.69076305, 507.81927711, 510.94779116,\n",
       "        514.07630522, 517.20481928, 520.33333333, 523.46184739,\n",
       "        526.59036145, 529.7188755 , 532.84738956, 535.97590361,\n",
       "        539.10441767, 542.23293173, 545.36144578, 548.48995984,\n",
       "        551.6184739 , 554.74698795, 557.87550201, 561.00401606,\n",
       "        564.13253012, 567.26104418, 570.38955823, 573.51807229,\n",
       "        576.64658635, 579.7751004 , 582.90361446, 586.03212851,\n",
       "        589.16064257, 592.28915663, 595.41767068, 598.54618474,\n",
       "        601.6746988 , 604.80321285, 607.93172691, 611.06024096,\n",
       "        614.18875502, 617.31726908, 620.44578313, 623.57429719,\n",
       "        626.70281124, 629.8313253 , 632.95983936, 636.08835341,\n",
       "        639.21686747, 642.34538153, 645.47389558, 648.60240964,\n",
       "        651.73092369, 654.85943775, 657.98795181, 661.11646586,\n",
       "        664.24497992, 667.37349398, 670.50200803, 673.63052209,\n",
       "        676.75903614, 679.8875502 , 683.01606426, 686.14457831,\n",
       "        689.27309237, 692.40160643, 695.53012048, 698.65863454,\n",
       "        701.78714859, 704.91566265, 708.04417671, 711.17269076,\n",
       "        714.30120482, 717.42971888, 720.55823293, 723.68674699,\n",
       "        726.81526104, 729.9437751 , 733.07228916, 736.20080321,\n",
       "        739.32931727, 742.45783133, 745.58634538, 748.71485944,\n",
       "        751.84337349, 754.97188755, 758.10040161, 761.22891566,\n",
       "        764.35742972, 767.48594378, 770.61445783, 773.74297189,\n",
       "        776.87148594, 780.        ]),\n",
       " <BarContainer object of 249 artists>)"
      ]
     },
     "execution_count": 17,
     "metadata": {},
     "output_type": "execute_result"
    },
    {
     "data": {
      "image/png": "[encoded data removed]",
      "text/plain": [
       "<Figure size 432x288 with 1 Axes>"
      ]
     },
     "metadata": {
      "needs_background": "light"
     },
     "output_type": "display_data"
    }
   ],
   "source": [
    "plt.hist(n_atoms_list, bins='rice')"
   ]
  },
  {
   "cell_type": "code",
   "execution_count": 18,
   "id": "75afa829",
   "metadata": {},
   "outputs": [
    {
     "data": {
      "text/plain": [
       "(array([3.63000e+02, 1.32000e+03, 4.75400e+03, 1.44810e+04, 5.35300e+04,\n",
       "        9.15320e+04, 1.59889e+05, 2.28841e+05, 2.71099e+05, 3.39269e+05,\n",
       "        2.21537e+05, 1.70071e+05, 1.15377e+05, 9.23850e+04, 4.06630e+04,\n",
       "        2.63040e+04, 1.74010e+04, 1.23030e+04, 1.18560e+04, 6.58500e+03,\n",
       "        5.50800e+03, 4.82800e+03, 3.94700e+03, 3.70200e+03, 1.89300e+03,\n",
       "        1.70000e+03, 1.46600e+03, 1.51400e+03, 1.02400e+03, 8.38000e+02,\n",
       "        6.79000e+02, 6.92000e+02, 7.91000e+02, 5.27000e+02, 4.34000e+02,\n",
       "        4.51000e+02, 6.13000e+02, 3.39000e+02, 3.27000e+02, 3.18000e+02,\n",
       "        2.40000e+02, 2.50000e+02, 1.79000e+02, 1.89000e+02, 1.57000e+02,\n",
       "        1.23000e+02, 1.84000e+02, 1.15000e+02, 1.18000e+02, 6.40000e+01,\n",
       "        7.00000e+01, 4.90000e+01, 4.50000e+01, 4.40000e+01, 6.30000e+01,\n",
       "        7.50000e+01, 3.60000e+01, 3.00000e+01, 5.20000e+01, 8.70000e+01,\n",
       "        4.70000e+01, 2.80000e+01, 2.20000e+01, 1.70000e+01, 3.80000e+01,\n",
       "        3.60000e+01, 2.40000e+01, 3.10000e+01, 1.90000e+01, 2.90000e+01,\n",
       "        1.70000e+01, 1.50000e+01, 1.40000e+01, 3.50000e+01, 1.70000e+01,\n",
       "        2.70000e+01, 5.20000e+01, 4.60000e+01, 3.90000e+01, 1.80000e+01,\n",
       "        1.90000e+01, 9.00000e+00, 1.50000e+01, 1.60000e+01, 2.60000e+01,\n",
       "        2.30000e+01, 1.50000e+01, 1.60000e+01, 9.00000e+00, 1.70000e+01,\n",
       "        1.60000e+01, 3.40000e+01, 2.10000e+01, 1.40000e+01, 2.30000e+01,\n",
       "        8.00000e+00, 1.60000e+01, 3.00000e+00, 1.20000e+01, 6.00000e+00,\n",
       "        9.00000e+00, 1.60000e+01, 2.30000e+01, 2.60000e+01, 1.10000e+01,\n",
       "        1.00000e+01, 1.20000e+01, 4.00000e+00, 6.00000e+00, 1.80000e+01,\n",
       "        2.10000e+01, 1.50000e+01, 4.00000e+00, 6.00000e+00, 1.00000e+01,\n",
       "        4.00000e+00, 3.00000e+00, 2.00000e+00, 4.00000e+00, 0.00000e+00,\n",
       "        5.00000e+00, 2.00000e+00, 1.00000e+00, 5.00000e+00, 1.90000e+01,\n",
       "        6.00000e+00, 1.00000e+00, 5.00000e+00, 7.00000e+00, 6.00000e+00,\n",
       "        1.00000e+00, 8.00000e+00, 7.00000e+00, 4.00000e+00, 3.00000e+00,\n",
       "        1.10000e+01, 1.80000e+01, 4.00000e+00, 6.00000e+00, 2.00000e+00,\n",
       "        6.00000e+00, 2.00000e+00, 8.00000e+00, 1.00000e+00, 5.00000e+00,\n",
       "        4.00000e+00, 1.00000e+00, 2.00000e+00, 1.00000e+00, 3.00000e+00,\n",
       "        8.00000e+00, 4.00000e+00, 3.00000e+00, 4.00000e+00, 2.00000e+00,\n",
       "        6.00000e+00, 4.00000e+00, 6.00000e+00, 2.00000e+00, 4.00000e+00,\n",
       "        5.00000e+00, 5.00000e+00, 2.00000e+00, 5.00000e+00, 1.00000e+00,\n",
       "        3.00000e+00, 2.00000e+00, 2.00000e+00, 0.00000e+00, 0.00000e+00,\n",
       "        2.00000e+00, 5.00000e+00, 0.00000e+00, 0.00000e+00, 0.00000e+00,\n",
       "        0.00000e+00, 0.00000e+00, 0.00000e+00, 0.00000e+00, 0.00000e+00,\n",
       "        0.00000e+00, 0.00000e+00, 0.00000e+00, 0.00000e+00, 1.00000e+00,\n",
       "        0.00000e+00, 0.00000e+00, 0.00000e+00, 1.00000e+00, 0.00000e+00,\n",
       "        0.00000e+00, 1.00000e+00, 0.00000e+00, 0.00000e+00, 0.00000e+00,\n",
       "        0.00000e+00, 0.00000e+00, 0.00000e+00, 0.00000e+00, 0.00000e+00,\n",
       "        0.00000e+00, 0.00000e+00, 0.00000e+00, 0.00000e+00, 0.00000e+00,\n",
       "        0.00000e+00, 0.00000e+00, 1.00000e+00, 0.00000e+00, 0.00000e+00,\n",
       "        0.00000e+00, 0.00000e+00, 0.00000e+00, 0.00000e+00, 0.00000e+00,\n",
       "        0.00000e+00, 0.00000e+00, 0.00000e+00, 0.00000e+00, 0.00000e+00,\n",
       "        0.00000e+00, 0.00000e+00, 0.00000e+00, 0.00000e+00, 0.00000e+00,\n",
       "        0.00000e+00, 0.00000e+00, 0.00000e+00, 0.00000e+00, 0.00000e+00,\n",
       "        0.00000e+00, 0.00000e+00, 0.00000e+00, 0.00000e+00, 0.00000e+00,\n",
       "        0.00000e+00, 0.00000e+00, 0.00000e+00, 0.00000e+00, 0.00000e+00,\n",
       "        0.00000e+00, 0.00000e+00, 0.00000e+00, 0.00000e+00, 0.00000e+00,\n",
       "        0.00000e+00, 0.00000e+00, 0.00000e+00, 1.00000e+00]),\n",
       " array([  0.        ,   3.21686747,   6.43373494,   9.65060241,\n",
       "         12.86746988,  16.08433735,  19.30120482,  22.51807229,\n",
       "         25.73493976,  28.95180723,  32.1686747 ,  35.38554217,\n",
       "         38.60240964,  41.81927711,  45.03614458,  48.25301205,\n",
       "         51.46987952,  54.68674699,  57.90361446,  61.12048193,\n",
       "         64.3373494 ,  67.55421687,  70.77108434,  73.98795181,\n",
       "         77.20481928,  80.42168675,  83.63855422,  86.85542169,\n",
       "         90.07228916,  93.28915663,  96.5060241 ,  99.72289157,\n",
       "        102.93975904, 106.15662651, 109.37349398, 112.59036145,\n",
       "        115.80722892, 119.02409639, 122.24096386, 125.45783133,\n",
       "        128.6746988 , 131.89156627, 135.10843373, 138.3253012 ,\n",
       "        141.54216867, 144.75903614, 147.97590361, 151.19277108,\n",
       "        154.40963855, 157.62650602, 160.84337349, 164.06024096,\n",
       "        167.27710843, 170.4939759 , 173.71084337, 176.92771084,\n",
       "        180.14457831, 183.36144578, 186.57831325, 189.79518072,\n",
       "        193.01204819, 196.22891566, 199.44578313, 202.6626506 ,\n",
       "        205.87951807, 209.09638554, 212.31325301, 215.53012048,\n",
       "        218.74698795, 221.96385542, 225.18072289, 228.39759036,\n",
       "        231.61445783, 234.8313253 , 238.04819277, 241.26506024,\n",
       "        244.48192771, 247.69879518, 250.91566265, 254.13253012,\n",
       "        257.34939759, 260.56626506, 263.78313253, 267.        ,\n",
       "        270.21686747, 273.43373494, 276.65060241, 279.86746988,\n",
       "        283.08433735, 286.30120482, 289.51807229, 292.73493976,\n",
       "        295.95180723, 299.1686747 , 302.38554217, 305.60240964,\n",
       "        308.81927711, 312.03614458, 315.25301205, 318.46987952,\n",
       "        321.68674699, 324.90361446, 328.12048193, 331.3373494 ,\n",
       "        334.55421687, 337.77108434, 340.98795181, 344.20481928,\n",
       "        347.42168675, 350.63855422, 353.85542169, 357.07228916,\n",
       "        360.28915663, 363.5060241 , 366.72289157, 369.93975904,\n",
       "        373.15662651, 376.37349398, 379.59036145, 382.80722892,\n",
       "        386.02409639, 389.24096386, 392.45783133, 395.6746988 ,\n",
       "        398.89156627, 402.10843373, 405.3253012 , 408.54216867,\n",
       "        411.75903614, 414.97590361, 418.19277108, 421.40963855,\n",
       "        424.62650602, 427.84337349, 431.06024096, 434.27710843,\n",
       "        437.4939759 , 440.71084337, 443.92771084, 447.14457831,\n",
       "        450.36144578, 453.57831325, 456.79518072, 460.01204819,\n",
       "        463.22891566, 466.44578313, 469.6626506 , 472.87951807,\n",
       "        476.09638554, 479.31325301, 482.53012048, 485.74698795,\n",
       "        488.96385542, 492.18072289, 495.39759036, 498.61445783,\n",
       "        501.8313253 , 505.04819277, 508.26506024, 511.48192771,\n",
       "        514.69879518, 517.91566265, 521.13253012, 524.34939759,\n",
       "        527.56626506, 530.78313253, 534.        , 537.21686747,\n",
       "        540.43373494, 543.65060241, 546.86746988, 550.08433735,\n",
       "        553.30120482, 556.51807229, 559.73493976, 562.95180723,\n",
       "        566.1686747 , 569.38554217, 572.60240964, 575.81927711,\n",
       "        579.03614458, 582.25301205, 585.46987952, 588.68674699,\n",
       "        591.90361446, 595.12048193, 598.3373494 , 601.55421687,\n",
       "        604.77108434, 607.98795181, 611.20481928, 614.42168675,\n",
       "        617.63855422, 620.85542169, 624.07228916, 627.28915663,\n",
       "        630.5060241 , 633.72289157, 636.93975904, 640.15662651,\n",
       "        643.37349398, 646.59036145, 649.80722892, 653.02409639,\n",
       "        656.24096386, 659.45783133, 662.6746988 , 665.89156627,\n",
       "        669.10843373, 672.3253012 , 675.54216867, 678.75903614,\n",
       "        681.97590361, 685.19277108, 688.40963855, 691.62650602,\n",
       "        694.84337349, 698.06024096, 701.27710843, 704.4939759 ,\n",
       "        707.71084337, 710.92771084, 714.14457831, 717.36144578,\n",
       "        720.57831325, 723.79518072, 727.01204819, 730.22891566,\n",
       "        733.44578313, 736.6626506 , 739.87951807, 743.09638554,\n",
       "        746.31325301, 749.53012048, 752.74698795, 755.96385542,\n",
       "        759.18072289, 762.39759036, 765.61445783, 768.8313253 ,\n",
       "        772.04819277, 775.26506024, 778.48192771, 781.69879518,\n",
       "        784.91566265, 788.13253012, 791.34939759, 794.56626506,\n",
       "        797.78313253, 801.        ]),\n",
       " <BarContainer object of 249 artists>)"
      ]
     },
     "execution_count": 18,
     "metadata": {},
     "output_type": "execute_result"
    },
    {
     "data": {
      "image/png": "[encoded data removed]",
      "text/plain": [
       "<Figure size 432x288 with 1 Axes>"
      ]
     },
     "metadata": {
      "needs_background": "light"
     },
     "output_type": "display_data"
    }
   ],
   "source": [
    "plt.hist(n_bonds_list, bins='rice')"
   ]
  },
  {
   "cell_type": "code",
   "execution_count": 19,
   "id": "b61c457a",
   "metadata": {},
   "outputs": [
    {
     "data": {
      "text/plain": [
       "{'C': 0,\n",
       " 'O': 1,\n",
       " 'N': 2,\n",
       " 'Cl': 3,\n",
       " 'S': 4,\n",
       " 'F': 5,\n",
       " 'P': 6,\n",
       " 'Se': 7,\n",
       " 'Br': 8,\n",
       " 'I': 9,\n",
       " 'Na': 10,\n",
       " 'B': 11,\n",
       " 'K': 12,\n",
       " 'Li': 13,\n",
       " 'H': 14,\n",
       " 'Si': 15,\n",
       " 'Ca': 16,\n",
       " 'Rb': 17,\n",
       " 'Te': 18,\n",
       " 'Zn': 19,\n",
       " 'Mg': 20,\n",
       " 'As': 21,\n",
       " 'Al': 22,\n",
       " 'Ba': 23,\n",
       " 'Be': 24,\n",
       " 'Sr': 25,\n",
       " 'Ag': 26,\n",
       " 'Bi': 27,\n",
       " 'Ra': 28,\n",
       " 'Kr': 29,\n",
       " 'Cs': 30,\n",
       " 'Xe': 31,\n",
       " 'He': 32}"
      ]
     },
     "execution_count": 19,
     "metadata": {},
     "output_type": "execute_result"
    }
   ],
   "source": [
    "atom_types"
   ]
  },
  {
   "cell_type": "code",
   "execution_count": 20,
   "id": "b9d1636e",
   "metadata": {},
   "outputs": [
    {
     "data": {
      "text/plain": [
       "{rdkit.Chem.rdchem.BondType.SINGLE: 0,\n",
       " rdkit.Chem.rdchem.BondType.DOUBLE: 1,\n",
       " rdkit.Chem.rdchem.BondType.AROMATIC: 2,\n",
       " rdkit.Chem.rdchem.BondType.TRIPLE: 3}"
      ]
     },
     "execution_count": 20,
     "metadata": {},
     "output_type": "execute_result"
    }
   ],
   "source": [
    "bond_types"
   ]
  },
  {
   "cell_type": "code",
   "execution_count": 21,
   "id": "6f2e650c",
   "metadata": {},
   "outputs": [],
   "source": [
    "supplier = Chem.rdmolfiles.SmilesMolSupplier('../../datasets/ChEMBL/smiles.csv', delimiter='', sanitize=False)"
   ]
  },
  {
   "cell_type": "code",
   "execution_count": 22,
   "id": "a5816b19",
   "metadata": {},
   "outputs": [
    {
     "name": "stderr",
     "output_type": "stream",
     "text": [
      "1914648it [50:16, 634.81it/s]\n"
     ]
    }
   ],
   "source": [
    "types = atom_types\n",
    "bonds = bond_types\n",
    "data_list = []\n",
    "\n",
    "for i,(mol_id, mol) in tqdm.tqdm(enumerate(zip(df['ChEMBL ID'], supplier))):\n",
    "    if mol is None:\n",
    "        print(smiles, 'yields None')\n",
    "        continue\n",
    "    if useHs:\n",
    "        mol = Chem.rdmolops.AddHs(mol)        \n",
    "    N = mol.GetNumAtoms()\n",
    "    \n",
    "    type_idx = []\n",
    "    atomic_number = []\n",
    "    aromatic = []\n",
    "    sp = []\n",
    "    sp2 = []\n",
    "    sp3 = []\n",
    "    num_hs = []\n",
    "    for atom in mol.GetAtoms():\n",
    "        type_idx.append(types[atom.GetSymbol()])\n",
    "        atomic_number.append(atom.GetAtomicNum())\n",
    "        aromatic.append(1 if atom.GetIsAromatic() else 0)\n",
    "        hybridization = atom.GetHybridization()\n",
    "        sp.append(1 if hybridization == HybridizationType.SP else 0)\n",
    "        sp2.append(1 if hybridization == HybridizationType.SP2 else 0)\n",
    "        sp3.append(1 if hybridization == HybridizationType.SP3 else 0)\n",
    "    \n",
    "    z = torch.tensor(atomic_number, dtype=torch.long)\n",
    "\n",
    "    type_idx = np.asarray(type_idx)\n",
    "    atomic_number = np.asarray(atomic_number)\n",
    "    aromatic = np.asarray(atomic_number)\n",
    "    sp = np.asarray(sp)\n",
    "    sp2 = np.asarray(sp2)\n",
    "    sp3 = np.asarray(sp3)\n",
    "    num_hs = np.asarray(num_hs)\n",
    "    \n",
    "    row, col, edge_type = [], [], []\n",
    "    for bond in mol.GetBonds():\n",
    "        start, end = bond.GetBeginAtomIdx(), bond.GetEndAtomIdx()\n",
    "        row += [start, end]\n",
    "        col += [end, start]\n",
    "        edge_type += 2 * [bonds[bond.GetBondType()]]\n",
    "\n",
    "    edge_index = torch.tensor([row, col], dtype=torch.long)\n",
    "    edge_type = torch.tensor(edge_type, dtype=torch.long)\n",
    "    edge_attr = F.one_hot(edge_type,\n",
    "                          num_classes=len(bonds)).to(torch.float)\n",
    "\n",
    "    perm = (edge_index[0] * N + edge_index[1]).argsort()\n",
    "    edge_index = edge_index[:, perm]\n",
    "    edge_type = edge_type[perm]\n",
    "    edge_attr = edge_attr[perm]\n",
    "\n",
    "    row, col = edge_index\n",
    "    hs = (z == 1).to(torch.float)\n",
    "    num_hs = scatter(hs[row], col, dim_size=N).tolist()\n",
    "\n",
    "    x1 = F.one_hot(torch.tensor(type_idx), num_classes=len(types))\n",
    "    x2 = torch.tensor([atomic_number, aromatic, sp, sp2, sp3, num_hs],\n",
    "                      dtype=torch.float).t().contiguous()\n",
    "    x = torch.cat([x1.to(torch.float), x2], dim=-1)\n",
    "\n",
    "    # only keep largest connected component\n",
    "    edges_coo = edge_index.detach().cpu().numpy().T\n",
    "    g = nx.Graph()\n",
    "    g.add_nodes_from(np.arange(len(z)))\n",
    "    g.add_edges_from(edges_coo.tolist())\n",
    "\n",
    "    ccs = list(nx.connected_components(g))\n",
    "    largest_cc = ccs[np.argmax([len(cc) for cc in ccs])]\n",
    "    node_ids = np.asarray(list(largest_cc))\n",
    "\n",
    "    x = x[node_ids]\n",
    "    z = z[node_ids]\n",
    "    edges_cc = []\n",
    "    edge_feats = []\n",
    "    old2new = {old:new for new, old in enumerate(node_ids)}\n",
    "    for idx, (u, v) in enumerate(edges_coo):\n",
    "        if u in node_ids and v in node_ids:\n",
    "            edges_cc += [[old2new[u], old2new[v]]]\n",
    "            edge_feats += [edge_attr[idx].numpy().tolist()]\n",
    "    edge_index = torch.tensor(edges_cc, dtype=torch.long)\n",
    "    edge_attr = torch.tensor(edge_feats, dtype=torch.float)\n",
    "\n",
    "    name = mol_id\n",
    "\n",
    "    data = Data(x=x, z=z, pos=None, edge_index=edge_index.T,\n",
    "                edge_attr=edge_attr, y=None, name=name, idx=i)\n",
    "\n",
    "\n",
    "\n",
    "    data_list.append(data)\n",
    "\n"
   ]
  },
  {
   "cell_type": "code",
   "execution_count": 23,
   "id": "be8e6174",
   "metadata": {},
   "outputs": [
    {
     "name": "stderr",
     "output_type": "stream",
     "text": [
      "[autoreload of schnetpack.atomistic.output_modules failed: Traceback (most recent call last):\n",
      "  File \"/home/chrisw/.cache/pypoetry/virtualenvs/graph-transformer-9jPERXQ--py3.8/lib/python3.8/site-packages/IPython/extensions/autoreload.py\", line 245, in check\n",
      "    superreload(m, reload, self.old_objects)\n",
      "  File \"/home/chrisw/.cache/pypoetry/virtualenvs/graph-transformer-9jPERXQ--py3.8/lib/python3.8/site-packages/IPython/extensions/autoreload.py\", line 394, in superreload\n",
      "    module = reload(module)\n",
      "  File \"/home/chrisw/miniconda3/lib/python3.8/imp.py\", line 314, in reload\n",
      "    return importlib.reload(module)\n",
      "  File \"/home/chrisw/miniconda3/lib/python3.8/importlib/__init__.py\", line 169, in reload\n",
      "    _bootstrap._exec(spec, module)\n",
      "  File \"<frozen importlib._bootstrap>\", line 604, in _exec\n",
      "  File \"<frozen importlib._bootstrap_external>\", line 783, in exec_module\n",
      "  File \"<frozen importlib._bootstrap>\", line 219, in _call_with_frames_removed\n",
      "  File \"/home/chrisw/.cache/pypoetry/virtualenvs/graph-transformer-9jPERXQ--py3.8/lib/python3.8/site-packages/schnetpack/atomistic/output_modules.py\", line 23, in <module>\n",
      "    class Atomwise(nn.Module):\n",
      "  File \"/home/chrisw/.cache/pypoetry/virtualenvs/graph-transformer-9jPERXQ--py3.8/lib/python3.8/site-packages/schnetpack/atomistic/output_modules.py\", line 73, in Atomwise\n",
      "    activation=schnetpack.nn.activations.shifted_softplus,\n",
      "AttributeError: module 'schnetpack.nn' has no attribute 'activations'\n",
      "]\n",
      "[autoreload of schnetpack.md.utils.thermostat_utils failed: Traceback (most recent call last):\n",
      "  File \"/home/chrisw/.cache/pypoetry/virtualenvs/graph-transformer-9jPERXQ--py3.8/lib/python3.8/site-packages/IPython/extensions/autoreload.py\", line 245, in check\n",
      "    superreload(m, reload, self.old_objects)\n",
      "  File \"/home/chrisw/.cache/pypoetry/virtualenvs/graph-transformer-9jPERXQ--py3.8/lib/python3.8/site-packages/IPython/extensions/autoreload.py\", line 410, in superreload\n",
      "    update_generic(old_obj, new_obj)\n",
      "  File \"/home/chrisw/.cache/pypoetry/virtualenvs/graph-transformer-9jPERXQ--py3.8/lib/python3.8/site-packages/IPython/extensions/autoreload.py\", line 347, in update_generic\n",
      "    update(a, b)\n",
      "  File \"/home/chrisw/.cache/pypoetry/virtualenvs/graph-transformer-9jPERXQ--py3.8/lib/python3.8/site-packages/IPython/extensions/autoreload.py\", line 292, in update_class\n",
      "    if (old_obj == new_obj) is True:\n",
      "ValueError: The truth value of an array with more than one element is ambiguous. Use a.any() or a.all()\n",
      "]\n"
     ]
    }
   ],
   "source": [
    "n_splits = 64"
   ]
  },
  {
   "cell_type": "code",
   "execution_count": 24,
   "id": "2e55eefc",
   "metadata": {},
   "outputs": [],
   "source": [
    "splits = np.array_split(np.arange(len(data_list)), n_splits)"
   ]
  },
  {
   "cell_type": "code",
   "execution_count": 25,
   "id": "7e99c912",
   "metadata": {},
   "outputs": [
    {
     "name": "stderr",
     "output_type": "stream",
     "text": [
      "64it [00:56,  1.14it/s]\n"
     ]
    }
   ],
   "source": [
    "for idx, split in tqdm.tqdm(enumerate(splits)):\n",
    "    dlist = [data_list[idx] for idx in split]\n",
    "    if useHs:\n",
    "        torch.save(torch_geometric.data.InMemoryDataset.collate(dlist), '../../datasets/ChEMBL/preprocessedPlusHs_split%d.pt'%idx)\n",
    "    else:\n",
    "        torch.save(torch_geometric.data.InMemoryDataset.collate(dlist), '../../datasets/ChEMBL/preprocessedNoHs_split%d.pt'%idx)"
   ]
  },
  {
   "cell_type": "code",
   "execution_count": null,
   "id": "fecc9020",
   "metadata": {},
   "outputs": [],
   "source": []
  }
 ],
 "metadata": {
  "kernelspec": {
   "display_name": "Python 3 (ipykernel)",
   "language": "python",
   "name": "python3"
  },
  "language_info": {
   "codemirror_mode": {
    "name": "ipython",
    "version": 3
   },
   "file_extension": ".py",
   "mimetype": "text/x-python",
   "name": "python",
   "nbconvert_exporter": "python",
   "pygments_lexer": "ipython3",
   "version": "3.8.3"
  }
 },
 "nbformat": 4,
 "nbformat_minor": 5
}
