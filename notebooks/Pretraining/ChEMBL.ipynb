{
 "cells": [
  {
   "cell_type": "code",
   "execution_count": 3,
   "id": "50a6b61b",
   "metadata": {},
   "outputs": [
    {
     "name": "stdout",
     "output_type": "stream",
     "text": [
      "The autoreload extension is already loaded. To reload it, use:\n",
      "  %reload_ext autoreload\n",
      "Random Seed:  43\n"
     ]
    }
   ],
   "source": [
    "%load_ext autoreload\n",
    "%autoreload 2\n",
    "import torch\n",
    "import torch.nn as nn\n",
    "import torch.nn.functional as F\n",
    "import torch.optim as optim\n",
    "from torch_geometric.datasets.qm9 import QM9\n",
    "import torch_geometric.datasets.qm9 as qm9\n",
    "from torch_geometric.data import DataLoader\n",
    "import torch_geometric.nn as tgnn\n",
    "from torch_geometric.data import Data\n",
    "from torch_scatter import scatter\n",
    "import torch_geometric\n",
    "import tqdm\n",
    "import numpy as np\n",
    "import wandb\n",
    "import random\n",
    "import pandas as pd\n",
    "\n",
    "import rdkit\n",
    "from rdkit import Chem\n",
    "from rdkit.Chem.rdchem import HybridizationType\n",
    "from rdkit.Chem.rdchem import BondType as BT\n",
    "from rdkit import RDLogger\n",
    "RDLogger.DisableLog('rdApp.*')\n",
    "\n",
    "from matplotlib import pyplot as plt\n",
    "import networkx as nx\n",
    "\n",
    "manualSeed = 43\n",
    "random.seed(manualSeed)\n",
    "torch.manual_seed(manualSeed)\n",
    "np.random.seed(manualSeed)\n",
    "print(\"Random Seed: \", manualSeed)"
   ]
  },
  {
   "cell_type": "code",
   "execution_count": 4,
   "id": "a047ca72",
   "metadata": {},
   "outputs": [],
   "source": [
    "useHs = True"
   ]
  },
  {
   "cell_type": "code",
   "execution_count": 5,
   "id": "38667af8",
   "metadata": {},
   "outputs": [
    {
     "name": "stderr",
     "output_type": "stream",
     "text": [
      "/home/chrisw/.cache/pypoetry/virtualenvs/graph-transformer-9jPERXQ--py3.8/lib/python3.8/site-packages/IPython/core/interactiveshell.py:3441: DtypeWarning: Columns (27) have mixed types.Specify dtype option on import or set low_memory=False.\n",
      "  exec(code_obj, self.user_global_ns, self.user_ns)\n"
     ]
    }
   ],
   "source": [
    "df = pd.read_csv('../../datasets/ChEMBL/small_molecules.csv', delimiter=';')"
   ]
  },
  {
   "cell_type": "code",
   "execution_count": 6,
   "id": "9cd3c8f1",
   "metadata": {},
   "outputs": [
    {
     "data": {
      "text/plain": [
       "0          CCC(=O)O[C@H]1[C@H](C)O[C@@H](O[C@@H]2[C@@H](C...\n",
       "1                  COc1ccc(Cl)cc1-c1cc(Nc2ccc(Cl)cc2)nc(N)n1\n",
       "2          COc1ccc(/C=C/C2=NN(CCCN)C(=O)N(Cc3ccc4ccccc4c3...\n",
       "3                    Cc1ccc(CCN2CC(C(=O)NCc3cccnc3)CC2=O)cc1\n",
       "4                                               CCCCC(=O)O.N\n",
       "                                 ...                        \n",
       "1920134    COc1ccnc(C[S+]([O-])c2nc3cc(OC(F)F)ccc3[n-]2)c...\n",
       "1920135      CN1c2c(oc(=O)n(-c3ccccn3)c2=O)-c2ccccc2S1(=O)=O\n",
       "1920136                                                  NaN\n",
       "1920137                                                  NaN\n",
       "1920138    COc1cc([C@@H]2c3cc4c(cc3[C@H](O)[C@H]3COC(=O)[...\n",
       "Name: Smiles, Length: 1920139, dtype: object"
      ]
     },
     "execution_count": 6,
     "metadata": {},
     "output_type": "execute_result"
    }
   ],
   "source": [
    "df['Smiles']"
   ]
  },
  {
   "cell_type": "code",
   "execution_count": 7,
   "id": "5640b032",
   "metadata": {},
   "outputs": [],
   "source": [
    "df.dropna(subset = [\"Smiles\"], inplace=True)"
   ]
  },
  {
   "cell_type": "code",
   "execution_count": 8,
   "id": "80dbbd41",
   "metadata": {},
   "outputs": [
    {
     "data": {
      "text/plain": [
       "0          CCC(=O)O[C@H]1[C@H](C)O[C@@H](O[C@@H]2[C@@H](C...\n",
       "1                  COc1ccc(Cl)cc1-c1cc(Nc2ccc(Cl)cc2)nc(N)n1\n",
       "2          COc1ccc(/C=C/C2=NN(CCCN)C(=O)N(Cc3ccc4ccccc4c3...\n",
       "3                    Cc1ccc(CCN2CC(C(=O)NCc3cccnc3)CC2=O)cc1\n",
       "4                                               CCCCC(=O)O.N\n",
       "                                 ...                        \n",
       "1920132    Oc1ccc2c(c1)[C@@]13CCCC[C@@]1(O)[C@@H](C2)N(CC...\n",
       "1920133                       Oc1ccc(/C=C/c2cc(O)cc(O)c2)cc1\n",
       "1920134    COc1ccnc(C[S+]([O-])c2nc3cc(OC(F)F)ccc3[n-]2)c...\n",
       "1920135      CN1c2c(oc(=O)n(-c3ccccn3)c2=O)-c2ccccc2S1(=O)=O\n",
       "1920138    COc1cc([C@@H]2c3cc4c(cc3[C@H](O)[C@H]3COC(=O)[...\n",
       "Name: Smiles, Length: 1914648, dtype: object"
      ]
     },
     "execution_count": 8,
     "metadata": {},
     "output_type": "execute_result"
    }
   ],
   "source": [
    "df['Smiles']"
   ]
  },
  {
   "cell_type": "code",
   "execution_count": 9,
   "id": "6e57bd33",
   "metadata": {},
   "outputs": [
    {
     "data": {
      "text/plain": [
       "Index(['ChEMBL ID', 'Name', 'Synonyms', 'Type', 'Max Phase',\n",
       "       'Molecular Weight', 'Targets', 'Bioactivities', 'AlogP', 'PSA', 'HBA',\n",
       "       'HBD', '#RO5 Violations', '#Rotatable Bonds', 'Passes Ro3',\n",
       "       'QED Weighted', 'CX ApKa', 'CX BpKa', 'CX LogP', 'CX LogD',\n",
       "       'Aromatic Rings', 'Structure Type', 'Inorganic Flag', 'Heavy Atoms',\n",
       "       'HBA Lipinski', 'HBD Lipinski', '#RO5 Violations (Lipinski)',\n",
       "       'Molecular Weight (Monoisotopic)', 'Molecular Species',\n",
       "       'Molecular Formula', 'Smiles'],\n",
       "      dtype='object')"
      ]
     },
     "execution_count": 9,
     "metadata": {},
     "output_type": "execute_result"
    }
   ],
   "source": [
    "df.keys()"
   ]
  },
  {
   "cell_type": "code",
   "execution_count": 10,
   "id": "f6c92c5c",
   "metadata": {},
   "outputs": [],
   "source": [
    "smiles = df['Smiles'][111]\n",
    "mol = Chem.MolFromSmiles(smiles)"
   ]
  },
  {
   "cell_type": "code",
   "execution_count": 11,
   "id": "db17c99d",
   "metadata": {},
   "outputs": [],
   "source": [
    "smiles = df['Smiles'][df['ChEMBL ID'] == 'CHEMBL4099974']"
   ]
  },
  {
   "cell_type": "code",
   "execution_count": 12,
   "id": "88984163",
   "metadata": {},
   "outputs": [
    {
     "data": {
      "text/plain": [
       "2    COc1ccc(/C=C/C2=NN(CCCN)C(=O)N(Cc3ccc4ccccc4c3...\n",
       "Name: Smiles, dtype: object"
      ]
     },
     "execution_count": 12,
     "metadata": {},
     "output_type": "execute_result"
    }
   ],
   "source": [
    "smiles"
   ]
  },
  {
   "cell_type": "code",
   "execution_count": 13,
   "id": "bae4a3a8",
   "metadata": {},
   "outputs": [],
   "source": [
    "mol = Chem.MolFromSmiles(smiles[2]) "
   ]
  },
  {
   "cell_type": "code",
   "execution_count": 14,
   "id": "ef0e3ae3",
   "metadata": {},
   "outputs": [],
   "source": [
    "df['Smiles'].to_csv('../../datasets/ChEMBL/smiles.csv', index=False)"
   ]
  },
  {
   "cell_type": "code",
   "execution_count": 15,
   "id": "9484d654",
   "metadata": {},
   "outputs": [],
   "source": [
    "supplier = Chem.rdmolfiles.SmilesMolSupplier('../../datasets/ChEMBL/smiles.csv', delimiter='', sanitize=False)"
   ]
  },
  {
   "cell_type": "markdown",
   "id": "dabdf233",
   "metadata": {},
   "source": [
    "# Determine all atom and bond types that occur"
   ]
  },
  {
   "cell_type": "code",
   "execution_count": 16,
   "id": "20d6ccf0",
   "metadata": {},
   "outputs": [],
   "source": [
    "atom_types = {}\n",
    "bond_types = {}\n",
    "n_atoms_list = []\n",
    "n_bonds_list = []"
   ]
  },
  {
   "cell_type": "code",
   "execution_count": 17,
   "id": "649c6a41",
   "metadata": {},
   "outputs": [
    {
     "name": "stderr",
     "output_type": "stream",
     "text": [
      "100%|██████████████████████████████████████████████████████████████████████████████████████████████████████████████████████████████████████████████████████████████████| 1914648/1914648 [09:48<00:00, 3253.11it/s]\n"
     ]
    }
   ],
   "source": [
    "curr_atom_type = 0\n",
    "curr_bond_type = 0\n",
    "max_atoms = 0\n",
    "max_bonds = 0\n",
    "for mol in tqdm.tqdm(supplier):\n",
    "    if useHs:\n",
    "        mol = Chem.rdmolops.AddHs(mol)\n",
    "    if mol is None:\n",
    "        print(smiles, 'yields None')\n",
    "        continue\n",
    "    for atom in mol.GetAtoms():\n",
    "        symbol = atom.GetSymbol()\n",
    "        if symbol not in atom_types:\n",
    "            atom_types[symbol] = curr_atom_type\n",
    "            curr_atom_type += 1\n",
    "    for bond in mol.GetBonds():\n",
    "        btype = bond.GetBondType()\n",
    "        if btype not in bond_types:\n",
    "            bond_types[btype] = curr_bond_type \n",
    "            curr_bond_type += 1\n",
    "    n_atoms = len(mol.GetAtoms())\n",
    "    n_bonds = len(mol.GetBonds())\n",
    "    if max_atoms < n_atoms:\n",
    "        max_atoms = n_atoms\n",
    "    if max_bonds < n_bonds:\n",
    "        max_bonds = n_bonds\n",
    "    n_atoms_list += [n_atoms]\n",
    "    n_bonds_list += [n_bonds]"
   ]
  },
  {
   "cell_type": "code",
   "execution_count": 16,
   "id": "4c113d4f",
   "metadata": {},
   "outputs": [
    {
     "data": {
      "text/plain": [
       "{rdkit.Chem.rdchem.BondType.SINGLE: 0,\n",
       " rdkit.Chem.rdchem.BondType.DOUBLE: 1,\n",
       " rdkit.Chem.rdchem.BondType.AROMATIC: 2,\n",
       " rdkit.Chem.rdchem.BondType.TRIPLE: 3}"
      ]
     },
     "execution_count": 16,
     "metadata": {},
     "output_type": "execute_result"
    }
   ],
   "source": [
    "bond_types"
   ]
  },
  {
   "cell_type": "code",
   "execution_count": 27,
   "id": "e594e2b9",
   "metadata": {},
   "outputs": [
    {
     "data": {
      "text/plain": [
       "0.9966119098654165"
      ]
     },
     "execution_count": 27,
     "metadata": {},
     "output_type": "execute_result"
    }
   ],
   "source": [
    "1908161/len(n_atoms_list)"
   ]
  },
  {
   "cell_type": "code",
   "execution_count": 28,
   "id": "cdc5da08",
   "metadata": {},
   "outputs": [
    {
     "data": {
      "text/plain": [
       "0.9967466604827624"
      ]
     },
     "execution_count": 28,
     "metadata": {},
     "output_type": "execute_result"
    }
   ],
   "source": [
    "(np.asarray(n_atoms_list) < 200).sum()/len(n_atoms_list)"
   ]
  },
  {
   "cell_type": "code",
   "execution_count": 18,
   "id": "3340f5b7",
   "metadata": {},
   "outputs": [
    {
     "data": {
      "text/plain": [
       "(array([1.94000e+02, 5.40000e+02, 2.80900e+03, 7.96200e+03, 2.81210e+04,\n",
       "        7.18860e+04, 1.03486e+05, 1.85036e+05, 2.40051e+05, 2.14508e+05,\n",
       "        2.56613e+05, 2.19047e+05, 1.68614e+05, 9.75920e+04, 8.59650e+04,\n",
       "        5.78920e+04, 3.28150e+04, 3.01290e+04, 2.13380e+04, 1.29900e+04,\n",
       "        1.27420e+04, 9.76900e+03, 6.18700e+03, 7.15500e+03, 5.85800e+03,\n",
       "        4.87700e+03, 3.15500e+03, 3.34500e+03, 2.95100e+03, 2.08900e+03,\n",
       "        2.24300e+03, 1.57800e+03, 1.09600e+03, 1.43500e+03, 1.16900e+03,\n",
       "        1.04300e+03, 7.50000e+02, 8.81000e+02, 7.87000e+02, 5.54000e+02,\n",
       "        5.88000e+02, 4.84000e+02, 3.50000e+02, 4.34000e+02, 4.32000e+02,\n",
       "        3.16000e+02, 3.81000e+02, 3.44000e+02, 2.92000e+02, 1.70000e+02,\n",
       "        1.99000e+02, 1.76000e+02, 1.01000e+02, 1.43000e+02, 1.38000e+02,\n",
       "        8.80000e+01, 1.26000e+02, 1.20000e+02, 9.70000e+01, 1.38000e+02,\n",
       "        9.50000e+01, 8.60000e+01, 6.50000e+01, 9.60000e+01, 6.50000e+01,\n",
       "        4.10000e+01, 4.80000e+01, 4.30000e+01, 4.70000e+01, 4.20000e+01,\n",
       "        5.30000e+01, 6.40000e+01, 4.30000e+01, 3.40000e+01, 4.60000e+01,\n",
       "        2.90000e+01, 3.80000e+01, 2.30000e+01, 2.40000e+01, 3.00000e+01,\n",
       "        2.80000e+01, 2.10000e+01, 2.00000e+01, 1.70000e+01, 1.30000e+01,\n",
       "        1.40000e+01, 1.50000e+01, 1.60000e+01, 1.00000e+01, 2.20000e+01,\n",
       "        3.90000e+01, 2.40000e+01, 2.50000e+01, 1.80000e+01, 1.40000e+01,\n",
       "        1.40000e+01, 2.40000e+01, 2.80000e+01, 1.80000e+01, 1.90000e+01,\n",
       "        4.40000e+01, 2.90000e+01, 2.60000e+01, 2.70000e+01, 1.90000e+01,\n",
       "        2.20000e+01, 3.90000e+01, 5.70000e+01, 2.40000e+01, 1.80000e+01,\n",
       "        1.20000e+01, 1.40000e+01, 2.40000e+01, 1.60000e+01, 1.10000e+01,\n",
       "        1.50000e+01, 1.10000e+01, 7.00000e+00, 1.60000e+01, 2.40000e+01,\n",
       "        1.90000e+01, 7.00000e+00, 1.40000e+01, 2.00000e+01, 2.50000e+01,\n",
       "        1.60000e+01, 1.00000e+01, 1.00000e+01, 1.30000e+01, 1.10000e+01,\n",
       "        4.00000e+00, 2.00000e+00, 6.00000e+00, 2.10000e+01, 3.00000e+00,\n",
       "        9.00000e+00, 1.00000e+01, 1.00000e+00, 8.00000e+00, 2.00000e+00,\n",
       "        4.00000e+00, 9.00000e+00, 5.00000e+00, 6.00000e+00, 7.00000e+00,\n",
       "        1.50000e+01, 1.70000e+01, 7.00000e+00, 8.00000e+00, 9.00000e+00,\n",
       "        6.00000e+00, 4.00000e+00, 6.00000e+00, 2.00000e+00, 1.00000e+01,\n",
       "        8.00000e+00, 1.40000e+01, 2.00000e+00, 7.00000e+00, 6.00000e+00,\n",
       "        4.00000e+00, 0.00000e+00, 2.00000e+00, 1.00000e+00, 3.00000e+00,\n",
       "        3.00000e+00, 1.00000e+00, 1.00000e+00, 0.00000e+00, 2.00000e+00,\n",
       "        5.00000e+00, 0.00000e+00, 1.00000e+00, 0.00000e+00, 2.00000e+00,\n",
       "        0.00000e+00, 0.00000e+00, 1.00000e+00, 1.00000e+00, 4.00000e+00,\n",
       "        2.00000e+00, 3.00000e+00, 0.00000e+00, 0.00000e+00, 1.00000e+00,\n",
       "        1.00000e+00, 1.00000e+00, 1.00000e+00, 0.00000e+00, 1.00000e+00,\n",
       "        0.00000e+00, 2.00000e+00, 0.00000e+00, 0.00000e+00, 0.00000e+00,\n",
       "        0.00000e+00, 0.00000e+00, 1.00000e+00, 0.00000e+00, 0.00000e+00,\n",
       "        0.00000e+00, 0.00000e+00, 0.00000e+00, 0.00000e+00, 0.00000e+00,\n",
       "        0.00000e+00, 0.00000e+00, 0.00000e+00, 1.00000e+00, 0.00000e+00,\n",
       "        0.00000e+00, 0.00000e+00, 0.00000e+00, 0.00000e+00, 0.00000e+00,\n",
       "        0.00000e+00, 2.00000e+00, 0.00000e+00, 0.00000e+00, 0.00000e+00,\n",
       "        1.00000e+00, 0.00000e+00, 0.00000e+00, 0.00000e+00, 0.00000e+00,\n",
       "        0.00000e+00, 1.00000e+00, 0.00000e+00, 0.00000e+00, 0.00000e+00,\n",
       "        0.00000e+00, 0.00000e+00, 0.00000e+00, 0.00000e+00, 0.00000e+00,\n",
       "        0.00000e+00, 0.00000e+00, 0.00000e+00, 0.00000e+00, 0.00000e+00,\n",
       "        0.00000e+00, 0.00000e+00, 0.00000e+00, 0.00000e+00, 0.00000e+00,\n",
       "        0.00000e+00, 0.00000e+00, 0.00000e+00, 1.00000e+00]),\n",
       " array([1.00000000e+00, 5.69477912e+00, 1.03895582e+01, 1.50843373e+01,\n",
       "        1.97791165e+01, 2.44738956e+01, 2.91686747e+01, 3.38634538e+01,\n",
       "        3.85582329e+01, 4.32530120e+01, 4.79477912e+01, 5.26425703e+01,\n",
       "        5.73373494e+01, 6.20321285e+01, 6.67269076e+01, 7.14216867e+01,\n",
       "        7.61164659e+01, 8.08112450e+01, 8.55060241e+01, 9.02008032e+01,\n",
       "        9.48955823e+01, 9.95903614e+01, 1.04285141e+02, 1.08979920e+02,\n",
       "        1.13674699e+02, 1.18369478e+02, 1.23064257e+02, 1.27759036e+02,\n",
       "        1.32453815e+02, 1.37148594e+02, 1.41843373e+02, 1.46538153e+02,\n",
       "        1.51232932e+02, 1.55927711e+02, 1.60622490e+02, 1.65317269e+02,\n",
       "        1.70012048e+02, 1.74706827e+02, 1.79401606e+02, 1.84096386e+02,\n",
       "        1.88791165e+02, 1.93485944e+02, 1.98180723e+02, 2.02875502e+02,\n",
       "        2.07570281e+02, 2.12265060e+02, 2.16959839e+02, 2.21654618e+02,\n",
       "        2.26349398e+02, 2.31044177e+02, 2.35738956e+02, 2.40433735e+02,\n",
       "        2.45128514e+02, 2.49823293e+02, 2.54518072e+02, 2.59212851e+02,\n",
       "        2.63907631e+02, 2.68602410e+02, 2.73297189e+02, 2.77991968e+02,\n",
       "        2.82686747e+02, 2.87381526e+02, 2.92076305e+02, 2.96771084e+02,\n",
       "        3.01465863e+02, 3.06160643e+02, 3.10855422e+02, 3.15550201e+02,\n",
       "        3.20244980e+02, 3.24939759e+02, 3.29634538e+02, 3.34329317e+02,\n",
       "        3.39024096e+02, 3.43718876e+02, 3.48413655e+02, 3.53108434e+02,\n",
       "        3.57803213e+02, 3.62497992e+02, 3.67192771e+02, 3.71887550e+02,\n",
       "        3.76582329e+02, 3.81277108e+02, 3.85971888e+02, 3.90666667e+02,\n",
       "        3.95361446e+02, 4.00056225e+02, 4.04751004e+02, 4.09445783e+02,\n",
       "        4.14140562e+02, 4.18835341e+02, 4.23530120e+02, 4.28224900e+02,\n",
       "        4.32919679e+02, 4.37614458e+02, 4.42309237e+02, 4.47004016e+02,\n",
       "        4.51698795e+02, 4.56393574e+02, 4.61088353e+02, 4.65783133e+02,\n",
       "        4.70477912e+02, 4.75172691e+02, 4.79867470e+02, 4.84562249e+02,\n",
       "        4.89257028e+02, 4.93951807e+02, 4.98646586e+02, 5.03341365e+02,\n",
       "        5.08036145e+02, 5.12730924e+02, 5.17425703e+02, 5.22120482e+02,\n",
       "        5.26815261e+02, 5.31510040e+02, 5.36204819e+02, 5.40899598e+02,\n",
       "        5.45594378e+02, 5.50289157e+02, 5.54983936e+02, 5.59678715e+02,\n",
       "        5.64373494e+02, 5.69068273e+02, 5.73763052e+02, 5.78457831e+02,\n",
       "        5.83152610e+02, 5.87847390e+02, 5.92542169e+02, 5.97236948e+02,\n",
       "        6.01931727e+02, 6.06626506e+02, 6.11321285e+02, 6.16016064e+02,\n",
       "        6.20710843e+02, 6.25405622e+02, 6.30100402e+02, 6.34795181e+02,\n",
       "        6.39489960e+02, 6.44184739e+02, 6.48879518e+02, 6.53574297e+02,\n",
       "        6.58269076e+02, 6.62963855e+02, 6.67658635e+02, 6.72353414e+02,\n",
       "        6.77048193e+02, 6.81742972e+02, 6.86437751e+02, 6.91132530e+02,\n",
       "        6.95827309e+02, 7.00522088e+02, 7.05216867e+02, 7.09911647e+02,\n",
       "        7.14606426e+02, 7.19301205e+02, 7.23995984e+02, 7.28690763e+02,\n",
       "        7.33385542e+02, 7.38080321e+02, 7.42775100e+02, 7.47469880e+02,\n",
       "        7.52164659e+02, 7.56859438e+02, 7.61554217e+02, 7.66248996e+02,\n",
       "        7.70943775e+02, 7.75638554e+02, 7.80333333e+02, 7.85028112e+02,\n",
       "        7.89722892e+02, 7.94417671e+02, 7.99112450e+02, 8.03807229e+02,\n",
       "        8.08502008e+02, 8.13196787e+02, 8.17891566e+02, 8.22586345e+02,\n",
       "        8.27281124e+02, 8.31975904e+02, 8.36670683e+02, 8.41365462e+02,\n",
       "        8.46060241e+02, 8.50755020e+02, 8.55449799e+02, 8.60144578e+02,\n",
       "        8.64839357e+02, 8.69534137e+02, 8.74228916e+02, 8.78923695e+02,\n",
       "        8.83618474e+02, 8.88313253e+02, 8.93008032e+02, 8.97702811e+02,\n",
       "        9.02397590e+02, 9.07092369e+02, 9.11787149e+02, 9.16481928e+02,\n",
       "        9.21176707e+02, 9.25871486e+02, 9.30566265e+02, 9.35261044e+02,\n",
       "        9.39955823e+02, 9.44650602e+02, 9.49345382e+02, 9.54040161e+02,\n",
       "        9.58734940e+02, 9.63429719e+02, 9.68124498e+02, 9.72819277e+02,\n",
       "        9.77514056e+02, 9.82208835e+02, 9.86903614e+02, 9.91598394e+02,\n",
       "        9.96293173e+02, 1.00098795e+03, 1.00568273e+03, 1.01037751e+03,\n",
       "        1.01507229e+03, 1.01976707e+03, 1.02446185e+03, 1.02915663e+03,\n",
       "        1.03385141e+03, 1.03854618e+03, 1.04324096e+03, 1.04793574e+03,\n",
       "        1.05263052e+03, 1.05732530e+03, 1.06202008e+03, 1.06671486e+03,\n",
       "        1.07140964e+03, 1.07610442e+03, 1.08079920e+03, 1.08549398e+03,\n",
       "        1.09018876e+03, 1.09488353e+03, 1.09957831e+03, 1.10427309e+03,\n",
       "        1.10896787e+03, 1.11366265e+03, 1.11835743e+03, 1.12305221e+03,\n",
       "        1.12774699e+03, 1.13244177e+03, 1.13713655e+03, 1.14183133e+03,\n",
       "        1.14652610e+03, 1.15122088e+03, 1.15591566e+03, 1.16061044e+03,\n",
       "        1.16530522e+03, 1.17000000e+03]),\n",
       " <BarContainer object of 249 artists>)"
      ]
     },
     "execution_count": 18,
     "metadata": {},
     "output_type": "execute_result"
    },
    {
     "data": {
      "image/png": "[encoded data removed]",
      "text/plain": [
       "<Figure size 432x288 with 1 Axes>"
      ]
     },
     "metadata": {
      "needs_background": "light"
     },
     "output_type": "display_data"
    }
   ],
   "source": [
    "plt.hist(n_atoms_list, bins='rice')"
   ]
  },
  {
   "cell_type": "code",
   "execution_count": 19,
   "id": "75afa829",
   "metadata": {},
   "outputs": [
    {
     "data": {
      "text/plain": [
       "(array([2.35000e+02, 4.54000e+02, 2.05200e+03, 8.20900e+03, 1.65980e+04,\n",
       "        4.73780e+04, 9.97250e+04, 1.55666e+05, 2.08059e+05, 1.96407e+05,\n",
       "        2.52485e+05, 2.28391e+05, 1.89477e+05, 1.18049e+05, 1.06845e+05,\n",
       "        7.35860e+04, 5.02090e+04, 3.55370e+04, 2.07270e+04, 1.90840e+04,\n",
       "        1.47210e+04, 1.08960e+04, 8.40000e+03, 5.78200e+03, 6.44300e+03,\n",
       "        5.54400e+03, 4.59500e+03, 2.89600e+03, 3.11200e+03, 2.86300e+03,\n",
       "        2.28900e+03, 2.00900e+03, 1.25200e+03, 1.30200e+03, 1.25100e+03,\n",
       "        1.16400e+03, 7.85000e+02, 8.88000e+02, 8.39000e+02, 7.50000e+02,\n",
       "        5.93000e+02, 4.18000e+02, 4.68000e+02, 4.17000e+02, 4.35000e+02,\n",
       "        4.34000e+02, 3.18000e+02, 3.50000e+02, 3.49000e+02, 2.10000e+02,\n",
       "        1.65000e+02, 1.98000e+02, 1.55000e+02, 1.53000e+02, 1.46000e+02,\n",
       "        1.05000e+02, 1.11000e+02, 1.08000e+02, 1.31000e+02, 9.40000e+01,\n",
       "        1.26000e+02, 8.80000e+01, 7.60000e+01, 9.00000e+01, 4.80000e+01,\n",
       "        6.50000e+01, 4.50000e+01, 6.30000e+01, 4.40000e+01, 1.90000e+01,\n",
       "        5.20000e+01, 4.10000e+01, 6.20000e+01, 3.60000e+01, 5.80000e+01,\n",
       "        3.10000e+01, 4.00000e+01, 2.10000e+01, 2.30000e+01, 2.40000e+01,\n",
       "        2.80000e+01, 2.60000e+01, 2.10000e+01, 1.60000e+01, 2.50000e+01,\n",
       "        9.00000e+00, 8.00000e+00, 2.40000e+01, 1.80000e+01, 3.00000e+01,\n",
       "        2.90000e+01, 1.80000e+01, 1.70000e+01, 1.90000e+01, 2.10000e+01,\n",
       "        2.10000e+01, 1.80000e+01, 2.20000e+01, 2.50000e+01, 4.00000e+01,\n",
       "        3.60000e+01, 2.30000e+01, 1.90000e+01, 1.20000e+01, 1.90000e+01,\n",
       "        1.30000e+01, 2.00000e+01, 2.70000e+01, 1.60000e+01, 1.60000e+01,\n",
       "        8.00000e+00, 4.20000e+01, 3.40000e+01, 4.60000e+01, 3.10000e+01,\n",
       "        4.00000e+00, 9.00000e+00, 9.00000e+00, 1.70000e+01, 1.30000e+01,\n",
       "        2.10000e+01, 2.10000e+01, 2.10000e+01, 2.30000e+01, 1.10000e+01,\n",
       "        9.00000e+00, 1.10000e+01, 8.00000e+00, 1.10000e+01, 5.00000e+00,\n",
       "        1.20000e+01, 1.10000e+01, 1.00000e+01, 5.00000e+00, 3.00000e+00,\n",
       "        2.00000e+00, 1.00000e+01, 5.00000e+00, 5.00000e+00, 4.00000e+00,\n",
       "        1.50000e+01, 1.00000e+01, 5.00000e+00, 3.00000e+00, 3.00000e+00,\n",
       "        4.00000e+00, 6.00000e+00, 1.00000e+01, 6.00000e+00, 1.30000e+01,\n",
       "        9.00000e+00, 1.00000e+01, 3.00000e+00, 1.10000e+01, 5.00000e+00,\n",
       "        8.00000e+00, 3.00000e+00, 4.00000e+00, 3.00000e+00, 8.00000e+00,\n",
       "        3.00000e+00, 1.00000e+00, 8.00000e+00, 9.00000e+00, 1.00000e+01,\n",
       "        6.00000e+00, 3.00000e+00, 6.00000e+00, 1.00000e+00, 0.00000e+00,\n",
       "        3.00000e+00, 2.00000e+00, 0.00000e+00, 1.00000e+00, 1.00000e+00,\n",
       "        0.00000e+00, 0.00000e+00, 2.00000e+00, 5.00000e+00, 3.00000e+00,\n",
       "        1.00000e+00, 1.00000e+00, 3.00000e+00, 1.00000e+00, 1.00000e+00,\n",
       "        1.00000e+00, 0.00000e+00, 0.00000e+00, 2.00000e+00, 2.00000e+00,\n",
       "        1.00000e+00, 1.00000e+00, 0.00000e+00, 0.00000e+00, 0.00000e+00,\n",
       "        2.00000e+00, 1.00000e+00, 0.00000e+00, 0.00000e+00, 0.00000e+00,\n",
       "        1.00000e+00, 0.00000e+00, 0.00000e+00, 0.00000e+00, 0.00000e+00,\n",
       "        0.00000e+00, 1.00000e+00, 0.00000e+00, 0.00000e+00, 0.00000e+00,\n",
       "        0.00000e+00, 0.00000e+00, 0.00000e+00, 1.00000e+00, 0.00000e+00,\n",
       "        1.00000e+00, 0.00000e+00, 0.00000e+00, 0.00000e+00, 1.00000e+00,\n",
       "        0.00000e+00, 0.00000e+00, 0.00000e+00, 0.00000e+00, 0.00000e+00,\n",
       "        0.00000e+00, 0.00000e+00, 0.00000e+00, 0.00000e+00, 0.00000e+00,\n",
       "        0.00000e+00, 0.00000e+00, 0.00000e+00, 0.00000e+00, 1.00000e+00,\n",
       "        0.00000e+00, 0.00000e+00, 0.00000e+00, 0.00000e+00, 0.00000e+00,\n",
       "        0.00000e+00, 0.00000e+00, 0.00000e+00, 0.00000e+00, 0.00000e+00,\n",
       "        0.00000e+00, 0.00000e+00, 0.00000e+00, 1.00000e+00]),\n",
       " array([   0.        ,    4.78313253,    9.56626506,   14.34939759,\n",
       "          19.13253012,   23.91566265,   28.69879518,   33.48192771,\n",
       "          38.26506024,   43.04819277,   47.8313253 ,   52.61445783,\n",
       "          57.39759036,   62.18072289,   66.96385542,   71.74698795,\n",
       "          76.53012048,   81.31325301,   86.09638554,   90.87951807,\n",
       "          95.6626506 ,  100.44578313,  105.22891566,  110.01204819,\n",
       "         114.79518072,  119.57831325,  124.36144578,  129.14457831,\n",
       "         133.92771084,  138.71084337,  143.4939759 ,  148.27710843,\n",
       "         153.06024096,  157.84337349,  162.62650602,  167.40963855,\n",
       "         172.19277108,  176.97590361,  181.75903614,  186.54216867,\n",
       "         191.3253012 ,  196.10843373,  200.89156627,  205.6746988 ,\n",
       "         210.45783133,  215.24096386,  220.02409639,  224.80722892,\n",
       "         229.59036145,  234.37349398,  239.15662651,  243.93975904,\n",
       "         248.72289157,  253.5060241 ,  258.28915663,  263.07228916,\n",
       "         267.85542169,  272.63855422,  277.42168675,  282.20481928,\n",
       "         286.98795181,  291.77108434,  296.55421687,  301.3373494 ,\n",
       "         306.12048193,  310.90361446,  315.68674699,  320.46987952,\n",
       "         325.25301205,  330.03614458,  334.81927711,  339.60240964,\n",
       "         344.38554217,  349.1686747 ,  353.95180723,  358.73493976,\n",
       "         363.51807229,  368.30120482,  373.08433735,  377.86746988,\n",
       "         382.65060241,  387.43373494,  392.21686747,  397.        ,\n",
       "         401.78313253,  406.56626506,  411.34939759,  416.13253012,\n",
       "         420.91566265,  425.69879518,  430.48192771,  435.26506024,\n",
       "         440.04819277,  444.8313253 ,  449.61445783,  454.39759036,\n",
       "         459.18072289,  463.96385542,  468.74698795,  473.53012048,\n",
       "         478.31325301,  483.09638554,  487.87951807,  492.6626506 ,\n",
       "         497.44578313,  502.22891566,  507.01204819,  511.79518072,\n",
       "         516.57831325,  521.36144578,  526.14457831,  530.92771084,\n",
       "         535.71084337,  540.4939759 ,  545.27710843,  550.06024096,\n",
       "         554.84337349,  559.62650602,  564.40963855,  569.19277108,\n",
       "         573.97590361,  578.75903614,  583.54216867,  588.3253012 ,\n",
       "         593.10843373,  597.89156627,  602.6746988 ,  607.45783133,\n",
       "         612.24096386,  617.02409639,  621.80722892,  626.59036145,\n",
       "         631.37349398,  636.15662651,  640.93975904,  645.72289157,\n",
       "         650.5060241 ,  655.28915663,  660.07228916,  664.85542169,\n",
       "         669.63855422,  674.42168675,  679.20481928,  683.98795181,\n",
       "         688.77108434,  693.55421687,  698.3373494 ,  703.12048193,\n",
       "         707.90361446,  712.68674699,  717.46987952,  722.25301205,\n",
       "         727.03614458,  731.81927711,  736.60240964,  741.38554217,\n",
       "         746.1686747 ,  750.95180723,  755.73493976,  760.51807229,\n",
       "         765.30120482,  770.08433735,  774.86746988,  779.65060241,\n",
       "         784.43373494,  789.21686747,  794.        ,  798.78313253,\n",
       "         803.56626506,  808.34939759,  813.13253012,  817.91566265,\n",
       "         822.69879518,  827.48192771,  832.26506024,  837.04819277,\n",
       "         841.8313253 ,  846.61445783,  851.39759036,  856.18072289,\n",
       "         860.96385542,  865.74698795,  870.53012048,  875.31325301,\n",
       "         880.09638554,  884.87951807,  889.6626506 ,  894.44578313,\n",
       "         899.22891566,  904.01204819,  908.79518072,  913.57831325,\n",
       "         918.36144578,  923.14457831,  927.92771084,  932.71084337,\n",
       "         937.4939759 ,  942.27710843,  947.06024096,  951.84337349,\n",
       "         956.62650602,  961.40963855,  966.19277108,  970.97590361,\n",
       "         975.75903614,  980.54216867,  985.3253012 ,  990.10843373,\n",
       "         994.89156627,  999.6746988 , 1004.45783133, 1009.24096386,\n",
       "        1014.02409639, 1018.80722892, 1023.59036145, 1028.37349398,\n",
       "        1033.15662651, 1037.93975904, 1042.72289157, 1047.5060241 ,\n",
       "        1052.28915663, 1057.07228916, 1061.85542169, 1066.63855422,\n",
       "        1071.42168675, 1076.20481928, 1080.98795181, 1085.77108434,\n",
       "        1090.55421687, 1095.3373494 , 1100.12048193, 1104.90361446,\n",
       "        1109.68674699, 1114.46987952, 1119.25301205, 1124.03614458,\n",
       "        1128.81927711, 1133.60240964, 1138.38554217, 1143.1686747 ,\n",
       "        1147.95180723, 1152.73493976, 1157.51807229, 1162.30120482,\n",
       "        1167.08433735, 1171.86746988, 1176.65060241, 1181.43373494,\n",
       "        1186.21686747, 1191.        ]),\n",
       " <BarContainer object of 249 artists>)"
      ]
     },
     "execution_count": 19,
     "metadata": {},
     "output_type": "execute_result"
    },
    {
     "data": {
      "image/png": "[encoded data removed]",
      "text/plain": [
       "<Figure size 432x288 with 1 Axes>"
      ]
     },
     "metadata": {
      "needs_background": "light"
     },
     "output_type": "display_data"
    }
   ],
   "source": [
    "plt.hist(n_bonds_list, bins='rice')"
   ]
  },
  {
   "cell_type": "code",
   "execution_count": 19,
   "id": "b61c457a",
   "metadata": {},
   "outputs": [
    {
     "data": {
      "text/plain": [
       "{'C': 0,\n",
       " 'O': 1,\n",
       " 'N': 2,\n",
       " 'Cl': 3,\n",
       " 'S': 4,\n",
       " 'F': 5,\n",
       " 'P': 6,\n",
       " 'Se': 7,\n",
       " 'Br': 8,\n",
       " 'I': 9,\n",
       " 'Na': 10,\n",
       " 'B': 11,\n",
       " 'K': 12,\n",
       " 'Li': 13,\n",
       " 'H': 14,\n",
       " 'Si': 15,\n",
       " 'Ca': 16,\n",
       " 'Rb': 17,\n",
       " 'Te': 18,\n",
       " 'Zn': 19,\n",
       " 'Mg': 20,\n",
       " 'As': 21,\n",
       " 'Al': 22,\n",
       " 'Ba': 23,\n",
       " 'Be': 24,\n",
       " 'Sr': 25,\n",
       " 'Ag': 26,\n",
       " 'Bi': 27,\n",
       " 'Ra': 28,\n",
       " 'Kr': 29,\n",
       " 'Cs': 30,\n",
       " 'Xe': 31,\n",
       " 'He': 32}"
      ]
     },
     "execution_count": 19,
     "metadata": {},
     "output_type": "execute_result"
    }
   ],
   "source": [
    "atom_types"
   ]
  },
  {
   "cell_type": "code",
   "execution_count": 20,
   "id": "b9d1636e",
   "metadata": {},
   "outputs": [
    {
     "data": {
      "text/plain": [
       "{rdkit.Chem.rdchem.BondType.SINGLE: 0,\n",
       " rdkit.Chem.rdchem.BondType.DOUBLE: 1,\n",
       " rdkit.Chem.rdchem.BondType.AROMATIC: 2,\n",
       " rdkit.Chem.rdchem.BondType.TRIPLE: 3}"
      ]
     },
     "execution_count": 20,
     "metadata": {},
     "output_type": "execute_result"
    }
   ],
   "source": [
    "bond_types"
   ]
  },
  {
   "cell_type": "code",
   "execution_count": 21,
   "id": "6f2e650c",
   "metadata": {},
   "outputs": [],
   "source": [
    "supplier = Chem.rdmolfiles.SmilesMolSupplier('../../datasets/ChEMBL/smiles.csv', delimiter='', sanitize=False)"
   ]
  },
  {
   "cell_type": "code",
   "execution_count": 22,
   "id": "a5816b19",
   "metadata": {},
   "outputs": [
    {
     "name": "stderr",
     "output_type": "stream",
     "text": [
      "1914648it [50:16, 634.81it/s]\n"
     ]
    }
   ],
   "source": [
    "types = atom_types\n",
    "bonds = bond_types\n",
    "data_list = []\n",
    "\n",
    "for i,(mol_id, mol) in tqdm.tqdm(enumerate(zip(df['ChEMBL ID'], supplier))):\n",
    "    if mol is None:\n",
    "        print(smiles, 'yields None')\n",
    "        continue\n",
    "    if useHs:\n",
    "        mol = Chem.rdmolops.AddHs(mol)        \n",
    "    N = mol.GetNumAtoms()\n",
    "    \n",
    "    type_idx = []\n",
    "    atomic_number = []\n",
    "    aromatic = []\n",
    "    sp = []\n",
    "    sp2 = []\n",
    "    sp3 = []\n",
    "    num_hs = []\n",
    "    for atom in mol.GetAtoms():\n",
    "        type_idx.append(types[atom.GetSymbol()])\n",
    "        atomic_number.append(atom.GetAtomicNum())\n",
    "        aromatic.append(1 if atom.GetIsAromatic() else 0)\n",
    "        hybridization = atom.GetHybridization()\n",
    "        sp.append(1 if hybridization == HybridizationType.SP else 0)\n",
    "        sp2.append(1 if hybridization == HybridizationType.SP2 else 0)\n",
    "        sp3.append(1 if hybridization == HybridizationType.SP3 else 0)\n",
    "    \n",
    "    z = torch.tensor(atomic_number, dtype=torch.long)\n",
    "\n",
    "    type_idx = np.asarray(type_idx)\n",
    "    atomic_number = np.asarray(atomic_number)\n",
    "    aromatic = np.asarray(atomic_number)\n",
    "    sp = np.asarray(sp)\n",
    "    sp2 = np.asarray(sp2)\n",
    "    sp3 = np.asarray(sp3)\n",
    "    num_hs = np.asarray(num_hs)\n",
    "    \n",
    "    row, col, edge_type = [], [], []\n",
    "    for bond in mol.GetBonds():\n",
    "        start, end = bond.GetBeginAtomIdx(), bond.GetEndAtomIdx()\n",
    "        row += [start, end]\n",
    "        col += [end, start]\n",
    "        edge_type += 2 * [bonds[bond.GetBondType()]]\n",
    "\n",
    "    edge_index = torch.tensor([row, col], dtype=torch.long)\n",
    "    edge_type = torch.tensor(edge_type, dtype=torch.long)\n",
    "    edge_attr = F.one_hot(edge_type,\n",
    "                          num_classes=len(bonds)).to(torch.float)\n",
    "\n",
    "    perm = (edge_index[0] * N + edge_index[1]).argsort()\n",
    "    edge_index = edge_index[:, perm]\n",
    "    edge_type = edge_type[perm]\n",
    "    edge_attr = edge_attr[perm]\n",
    "\n",
    "    row, col = edge_index\n",
    "    hs = (z == 1).to(torch.float)\n",
    "    num_hs = scatter(hs[row], col, dim_size=N).tolist()\n",
    "\n",
    "    x1 = F.one_hot(torch.tensor(type_idx), num_classes=len(types))\n",
    "    x2 = torch.tensor([atomic_number, aromatic, sp, sp2, sp3, num_hs],\n",
    "                      dtype=torch.float).t().contiguous()\n",
    "    x = torch.cat([x1.to(torch.float), x2], dim=-1)\n",
    "\n",
    "    # only keep largest connected component\n",
    "    edges_coo = edge_index.detach().cpu().numpy().T\n",
    "    g = nx.Graph()\n",
    "    g.add_nodes_from(np.arange(len(z)))\n",
    "    g.add_edges_from(edges_coo.tolist())\n",
    "\n",
    "    ccs = list(nx.connected_components(g))\n",
    "    largest_cc = ccs[np.argmax([len(cc) for cc in ccs])]\n",
    "    node_ids = np.asarray(list(largest_cc))\n",
    "\n",
    "    x = x[node_ids]\n",
    "    z = z[node_ids]\n",
    "    edges_cc = []\n",
    "    edge_feats = []\n",
    "    old2new = {old:new for new, old in enumerate(node_ids)}\n",
    "    for idx, (u, v) in enumerate(edges_coo):\n",
    "        if u in node_ids and v in node_ids:\n",
    "            edges_cc += [[old2new[u], old2new[v]]]\n",
    "            edge_feats += [edge_attr[idx].numpy().tolist()]\n",
    "    edge_index = torch.tensor(edges_cc, dtype=torch.long)\n",
    "    edge_attr = torch.tensor(edge_feats, dtype=torch.float)\n",
    "\n",
    "    name = mol_id\n",
    "\n",
    "    data = Data(x=x, z=z, pos=None, edge_index=edge_index.T,\n",
    "                edge_attr=edge_attr, y=None, name=name, idx=i)\n",
    "\n",
    "\n",
    "\n",
    "    data_list.append(data)\n",
    "\n"
   ]
  },
  {
   "cell_type": "code",
   "execution_count": 23,
   "id": "be8e6174",
   "metadata": {},
   "outputs": [
    {
     "name": "stderr",
     "output_type": "stream",
     "text": [
      "[autoreload of schnetpack.atomistic.output_modules failed: Traceback (most recent call last):\n",
      "  File \"/home/chrisw/.cache/pypoetry/virtualenvs/graph-transformer-9jPERXQ--py3.8/lib/python3.8/site-packages/IPython/extensions/autoreload.py\", line 245, in check\n",
      "    superreload(m, reload, self.old_objects)\n",
      "  File \"/home/chrisw/.cache/pypoetry/virtualenvs/graph-transformer-9jPERXQ--py3.8/lib/python3.8/site-packages/IPython/extensions/autoreload.py\", line 394, in superreload\n",
      "    module = reload(module)\n",
      "  File \"/home/chrisw/miniconda3/lib/python3.8/imp.py\", line 314, in reload\n",
      "    return importlib.reload(module)\n",
      "  File \"/home/chrisw/miniconda3/lib/python3.8/importlib/__init__.py\", line 169, in reload\n",
      "    _bootstrap._exec(spec, module)\n",
      "  File \"<frozen importlib._bootstrap>\", line 604, in _exec\n",
      "  File \"<frozen importlib._bootstrap_external>\", line 783, in exec_module\n",
      "  File \"<frozen importlib._bootstrap>\", line 219, in _call_with_frames_removed\n",
      "  File \"/home/chrisw/.cache/pypoetry/virtualenvs/graph-transformer-9jPERXQ--py3.8/lib/python3.8/site-packages/schnetpack/atomistic/output_modules.py\", line 23, in <module>\n",
      "    class Atomwise(nn.Module):\n",
      "  File \"/home/chrisw/.cache/pypoetry/virtualenvs/graph-transformer-9jPERXQ--py3.8/lib/python3.8/site-packages/schnetpack/atomistic/output_modules.py\", line 73, in Atomwise\n",
      "    activation=schnetpack.nn.activations.shifted_softplus,\n",
      "AttributeError: module 'schnetpack.nn' has no attribute 'activations'\n",
      "]\n",
      "[autoreload of schnetpack.md.utils.thermostat_utils failed: Traceback (most recent call last):\n",
      "  File \"/home/chrisw/.cache/pypoetry/virtualenvs/graph-transformer-9jPERXQ--py3.8/lib/python3.8/site-packages/IPython/extensions/autoreload.py\", line 245, in check\n",
      "    superreload(m, reload, self.old_objects)\n",
      "  File \"/home/chrisw/.cache/pypoetry/virtualenvs/graph-transformer-9jPERXQ--py3.8/lib/python3.8/site-packages/IPython/extensions/autoreload.py\", line 410, in superreload\n",
      "    update_generic(old_obj, new_obj)\n",
      "  File \"/home/chrisw/.cache/pypoetry/virtualenvs/graph-transformer-9jPERXQ--py3.8/lib/python3.8/site-packages/IPython/extensions/autoreload.py\", line 347, in update_generic\n",
      "    update(a, b)\n",
      "  File \"/home/chrisw/.cache/pypoetry/virtualenvs/graph-transformer-9jPERXQ--py3.8/lib/python3.8/site-packages/IPython/extensions/autoreload.py\", line 292, in update_class\n",
      "    if (old_obj == new_obj) is True:\n",
      "ValueError: The truth value of an array with more than one element is ambiguous. Use a.any() or a.all()\n",
      "]\n"
     ]
    }
   ],
   "source": [
    "n_splits = 64"
   ]
  },
  {
   "cell_type": "code",
   "execution_count": 24,
   "id": "2e55eefc",
   "metadata": {},
   "outputs": [],
   "source": [
    "splits = np.array_split(np.arange(len(data_list)), n_splits)"
   ]
  },
  {
   "cell_type": "code",
   "execution_count": 25,
   "id": "7e99c912",
   "metadata": {},
   "outputs": [
    {
     "name": "stderr",
     "output_type": "stream",
     "text": [
      "64it [00:56,  1.14it/s]\n"
     ]
    }
   ],
   "source": [
    "for idx, split in tqdm.tqdm(enumerate(splits)):\n",
    "    dlist = [data_list[idx] for idx in split]\n",
    "    if useHs:\n",
    "        torch.save(torch_geometric.data.InMemoryDataset.collate(dlist), '../../datasets/ChEMBL/preprocessedPlusHs_split%d.pt'%idx)\n",
    "    else:\n",
    "        torch.save(torch_geometric.data.InMemoryDataset.collate(dlist), '../../datasets/ChEMBL/preprocessedNoHs_split%d.pt'%idx)"
   ]
  },
  {
   "cell_type": "code",
   "execution_count": null,
   "id": "fecc9020",
   "metadata": {},
   "outputs": [],
   "source": []
  }
 ],
 "metadata": {
  "kernelspec": {
   "display_name": "Python 3 (ipykernel)",
   "language": "python",
   "name": "python3"
  },
  "language_info": {
   "codemirror_mode": {
    "name": "ipython",
    "version": 3
   },
   "file_extension": ".py",
   "mimetype": "text/x-python",
   "name": "python",
   "nbconvert_exporter": "python",
   "pygments_lexer": "ipython3",
   "version": "3.8.3"
  }
 },
 "nbformat": 4,
 "nbformat_minor": 5
}
