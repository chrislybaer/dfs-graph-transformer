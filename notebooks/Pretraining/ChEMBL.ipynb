{
 "cells": [
  {
   "cell_type": "code",
   "execution_count": 1,
   "id": "50a6b61b",
   "metadata": {},
   "outputs": [
    {
     "name": "stdout",
     "output_type": "stream",
     "text": [
      "Random Seed:  43\n"
     ]
    }
   ],
   "source": [
    "%load_ext autoreload\n",
    "%autoreload 2\n",
    "import torch\n",
    "import torch.nn as nn\n",
    "import torch.nn.functional as F\n",
    "import torch.optim as optim\n",
    "from torch_geometric.datasets.qm9 import QM9\n",
    "import torch_geometric.datasets.qm9 as qm9\n",
    "from torch_geometric.data import DataLoader\n",
    "import torch_geometric.nn as tgnn\n",
    "from torch_geometric.data import Data\n",
    "from torch_scatter import scatter\n",
    "import torch_geometric\n",
    "import tqdm\n",
    "import numpy as np\n",
    "import wandb\n",
    "import random\n",
    "import pandas as pd\n",
    "\n",
    "import rdkit\n",
    "from rdkit import Chem\n",
    "from rdkit.Chem.rdchem import HybridizationType\n",
    "from rdkit.Chem.rdchem import BondType as BT\n",
    "from rdkit import RDLogger\n",
    "RDLogger.DisableLog('rdApp.*')\n",
    "\n",
    "from matplotlib import pyplot as plt\n",
    "import networkx as nx\n",
    "\n",
    "manualSeed = 43\n",
    "random.seed(manualSeed)\n",
    "torch.manual_seed(manualSeed)\n",
    "np.random.seed(manualSeed)\n",
    "print(\"Random Seed: \", manualSeed)"
   ]
  },
  {
   "cell_type": "code",
   "execution_count": 2,
   "id": "38667af8",
   "metadata": {},
   "outputs": [
    {
     "name": "stderr",
     "output_type": "stream",
     "text": [
      "/home/chrisw/.cache/pypoetry/virtualenvs/graph-transformer-9jPERXQ--py3.8/lib/python3.8/site-packages/IPython/core/interactiveshell.py:3441: DtypeWarning: Columns (27) have mixed types.Specify dtype option on import or set low_memory=False.\n",
      "  exec(code_obj, self.user_global_ns, self.user_ns)\n"
     ]
    }
   ],
   "source": [
    "df = pd.read_csv('../../datasets/ChEMBL/small_molecules.csv', delimiter=';')"
   ]
  },
  {
   "cell_type": "code",
   "execution_count": 3,
   "id": "9cd3c8f1",
   "metadata": {},
   "outputs": [
    {
     "data": {
      "text/plain": [
       "0          CCC(=O)O[C@H]1[C@H](C)O[C@@H](O[C@@H]2[C@@H](C...\n",
       "1                  COc1ccc(Cl)cc1-c1cc(Nc2ccc(Cl)cc2)nc(N)n1\n",
       "2          COc1ccc(/C=C/C2=NN(CCCN)C(=O)N(Cc3ccc4ccccc4c3...\n",
       "3                    Cc1ccc(CCN2CC(C(=O)NCc3cccnc3)CC2=O)cc1\n",
       "4                                               CCCCC(=O)O.N\n",
       "                                 ...                        \n",
       "1920134    COc1ccnc(C[S+]([O-])c2nc3cc(OC(F)F)ccc3[n-]2)c...\n",
       "1920135      CN1c2c(oc(=O)n(-c3ccccn3)c2=O)-c2ccccc2S1(=O)=O\n",
       "1920136                                                  NaN\n",
       "1920137                                                  NaN\n",
       "1920138    COc1cc([C@@H]2c3cc4c(cc3[C@H](O)[C@H]3COC(=O)[...\n",
       "Name: Smiles, Length: 1920139, dtype: object"
      ]
     },
     "execution_count": 3,
     "metadata": {},
     "output_type": "execute_result"
    }
   ],
   "source": [
    "df['Smiles']"
   ]
  },
  {
   "cell_type": "code",
   "execution_count": 4,
   "id": "5640b032",
   "metadata": {},
   "outputs": [],
   "source": [
    "df.dropna(subset = [\"Smiles\"], inplace=True)"
   ]
  },
  {
   "cell_type": "code",
   "execution_count": 5,
   "id": "80dbbd41",
   "metadata": {},
   "outputs": [
    {
     "data": {
      "text/plain": [
       "0          CCC(=O)O[C@H]1[C@H](C)O[C@@H](O[C@@H]2[C@@H](C...\n",
       "1                  COc1ccc(Cl)cc1-c1cc(Nc2ccc(Cl)cc2)nc(N)n1\n",
       "2          COc1ccc(/C=C/C2=NN(CCCN)C(=O)N(Cc3ccc4ccccc4c3...\n",
       "3                    Cc1ccc(CCN2CC(C(=O)NCc3cccnc3)CC2=O)cc1\n",
       "4                                               CCCCC(=O)O.N\n",
       "                                 ...                        \n",
       "1920132    Oc1ccc2c(c1)[C@@]13CCCC[C@@]1(O)[C@@H](C2)N(CC...\n",
       "1920133                       Oc1ccc(/C=C/c2cc(O)cc(O)c2)cc1\n",
       "1920134    COc1ccnc(C[S+]([O-])c2nc3cc(OC(F)F)ccc3[n-]2)c...\n",
       "1920135      CN1c2c(oc(=O)n(-c3ccccn3)c2=O)-c2ccccc2S1(=O)=O\n",
       "1920138    COc1cc([C@@H]2c3cc4c(cc3[C@H](O)[C@H]3COC(=O)[...\n",
       "Name: Smiles, Length: 1914648, dtype: object"
      ]
     },
     "execution_count": 5,
     "metadata": {},
     "output_type": "execute_result"
    }
   ],
   "source": [
    "df['Smiles']"
   ]
  },
  {
   "cell_type": "code",
   "execution_count": 6,
   "id": "6e57bd33",
   "metadata": {},
   "outputs": [
    {
     "data": {
      "text/plain": [
       "Index(['ChEMBL ID', 'Name', 'Synonyms', 'Type', 'Max Phase',\n",
       "       'Molecular Weight', 'Targets', 'Bioactivities', 'AlogP', 'PSA', 'HBA',\n",
       "       'HBD', '#RO5 Violations', '#Rotatable Bonds', 'Passes Ro3',\n",
       "       'QED Weighted', 'CX ApKa', 'CX BpKa', 'CX LogP', 'CX LogD',\n",
       "       'Aromatic Rings', 'Structure Type', 'Inorganic Flag', 'Heavy Atoms',\n",
       "       'HBA Lipinski', 'HBD Lipinski', '#RO5 Violations (Lipinski)',\n",
       "       'Molecular Weight (Monoisotopic)', 'Molecular Species',\n",
       "       'Molecular Formula', 'Smiles'],\n",
       "      dtype='object')"
      ]
     },
     "execution_count": 6,
     "metadata": {},
     "output_type": "execute_result"
    }
   ],
   "source": [
    "df.keys()"
   ]
  },
  {
   "cell_type": "code",
   "execution_count": 7,
   "id": "f6c92c5c",
   "metadata": {},
   "outputs": [],
   "source": [
    "smiles = df['Smiles'][111]\n",
    "mol = Chem.MolFromSmiles(smiles)"
   ]
  },
  {
   "cell_type": "code",
   "execution_count": 8,
   "id": "db17c99d",
   "metadata": {},
   "outputs": [],
   "source": [
    "smiles = df['Smiles'][df['ChEMBL ID'] == 'CHEMBL4099974']"
   ]
  },
  {
   "cell_type": "code",
   "execution_count": 9,
   "id": "88984163",
   "metadata": {},
   "outputs": [
    {
     "data": {
      "text/plain": [
       "2    COc1ccc(/C=C/C2=NN(CCCN)C(=O)N(Cc3ccc4ccccc4c3...\n",
       "Name: Smiles, dtype: object"
      ]
     },
     "execution_count": 9,
     "metadata": {},
     "output_type": "execute_result"
    }
   ],
   "source": [
    "smiles"
   ]
  },
  {
   "cell_type": "code",
   "execution_count": 10,
   "id": "bae4a3a8",
   "metadata": {},
   "outputs": [],
   "source": [
    "mol = Chem.MolFromSmiles(smiles[2]) "
   ]
  },
  {
   "cell_type": "code",
   "execution_count": 11,
   "id": "ef0e3ae3",
   "metadata": {},
   "outputs": [],
   "source": [
    "df['Smiles'].to_csv('../../datasets/ChEMBL/smiles.csv', index=False)"
   ]
  },
  {
   "cell_type": "code",
   "execution_count": 12,
   "id": "9484d654",
   "metadata": {},
   "outputs": [],
   "source": [
    "supplier = Chem.rdmolfiles.SmilesMolSupplier('../../datasets/ChEMBL/smiles.csv', delimiter='', sanitize=False)"
   ]
  },
  {
   "cell_type": "markdown",
   "id": "dabdf233",
   "metadata": {},
   "source": [
    "# Determine all atom and bond types that occur"
   ]
  },
  {
   "cell_type": "code",
   "execution_count": 13,
   "id": "20d6ccf0",
   "metadata": {},
   "outputs": [],
   "source": [
    "atom_types = {}\n",
    "bond_types = {}\n",
    "n_atoms_list = []\n",
    "n_bonds_list = []"
   ]
  },
  {
   "cell_type": "code",
   "execution_count": null,
   "id": "649c6a41",
   "metadata": {},
   "outputs": [
    {
     "name": "stderr",
     "output_type": "stream",
     "text": [
      " 40%|████████████▉                   | 773674/1914648 [03:54<05:42, 3327.25it/s]"
     ]
    }
   ],
   "source": [
    "curr_atom_type = 0\n",
    "curr_bond_type = 0\n",
    "max_atoms = 0\n",
    "max_bonds = 0\n",
    "for mol in tqdm.tqdm(supplier):\n",
    "    mol = Chem.rdmolops.AddHs(mol)\n",
    "    if mol is None:\n",
    "        print(smiles, 'yields None')\n",
    "        continue\n",
    "    for atom in mol.GetAtoms():\n",
    "        symbol = atom.GetSymbol()\n",
    "        if symbol not in atom_types:\n",
    "            atom_types[symbol] = curr_atom_type\n",
    "            curr_atom_type += 1\n",
    "    for bond in mol.GetBonds():\n",
    "        btype = bond.GetBondType()\n",
    "        if btype not in bond_types:\n",
    "            bond_types[btype] = curr_bond_type \n",
    "            curr_bond_type += 1\n",
    "    n_atoms = len(mol.GetAtoms())\n",
    "    n_bonds = len(mol.GetBonds())\n",
    "    if max_atoms < n_atoms:\n",
    "        max_atoms = n_atoms\n",
    "    if max_bonds < n_bonds:\n",
    "        max_bonds = n_bonds\n",
    "    n_atoms_list += [n_atoms]\n",
    "    n_bonds_list += [n_bonds]"
   ]
  },
  {
   "cell_type": "code",
   "execution_count": null,
   "id": "3340f5b7",
   "metadata": {},
   "outputs": [],
   "source": [
    "plt.hist(n_atoms_list, bins='rice')"
   ]
  },
  {
   "cell_type": "code",
   "execution_count": null,
   "id": "75afa829",
   "metadata": {},
   "outputs": [],
   "source": [
    "plt.hist(n_bonds_list, bins='rice')"
   ]
  },
  {
   "cell_type": "code",
   "execution_count": null,
   "id": "b61c457a",
   "metadata": {},
   "outputs": [],
   "source": [
    "atom_types"
   ]
  },
  {
   "cell_type": "code",
   "execution_count": null,
   "id": "b9d1636e",
   "metadata": {},
   "outputs": [],
   "source": [
    "bond_types"
   ]
  },
  {
   "cell_type": "code",
   "execution_count": null,
   "id": "6f2e650c",
   "metadata": {},
   "outputs": [],
   "source": [
    "supplier = Chem.rdmolfiles.SmilesMolSupplier('../../datasets/ChEMBL/smiles.csv', delimiter='', sanitize=False)"
   ]
  },
  {
   "cell_type": "code",
   "execution_count": null,
   "id": "a5816b19",
   "metadata": {},
   "outputs": [],
   "source": [
    "types = atom_types\n",
    "bonds = bond_types\n",
    "data_list = []\n",
    "\n",
    "for i,(mol_id, mol) in tqdm.tqdm(enumerate(zip(df['ChEMBL ID'], supplier))):\n",
    "    if mol is None:\n",
    "        print(smiles, 'yields None')\n",
    "        continue\n",
    "        \n",
    "    mol = Chem.rdmolops.AddHs(mol)        \n",
    "    N = mol.GetNumAtoms()\n",
    "    \n",
    "    type_idx = []\n",
    "    atomic_number = []\n",
    "    aromatic = []\n",
    "    sp = []\n",
    "    sp2 = []\n",
    "    sp3 = []\n",
    "    num_hs = []\n",
    "    for atom in mol.GetAtoms():\n",
    "        type_idx.append(types[atom.GetSymbol()])\n",
    "        atomic_number.append(atom.GetAtomicNum())\n",
    "        aromatic.append(1 if atom.GetIsAromatic() else 0)\n",
    "        hybridization = atom.GetHybridization()\n",
    "        sp.append(1 if hybridization == HybridizationType.SP else 0)\n",
    "        sp2.append(1 if hybridization == HybridizationType.SP2 else 0)\n",
    "        sp3.append(1 if hybridization == HybridizationType.SP3 else 0)\n",
    "    \n",
    "    z = torch.tensor(atomic_number, dtype=torch.long)\n",
    "\n",
    "    type_idx = np.asarray(type_idx)\n",
    "    atomic_number = np.asarray(atomic_number)\n",
    "    aromatic = np.asarray(atomic_number)\n",
    "    sp = np.asarray(sp)\n",
    "    sp2 = np.asarray(sp2)\n",
    "    sp3 = np.asarray(sp3)\n",
    "    num_hs = np.asarray(num_hs)\n",
    "    \n",
    "    row, col, edge_type = [], [], []\n",
    "    for bond in mol.GetBonds():\n",
    "        start, end = bond.GetBeginAtomIdx(), bond.GetEndAtomIdx()\n",
    "        row += [start, end]\n",
    "        col += [end, start]\n",
    "        edge_type += 2 * [bonds[bond.GetBondType()]]\n",
    "\n",
    "    edge_index = torch.tensor([row, col], dtype=torch.long)\n",
    "    edge_type = torch.tensor(edge_type, dtype=torch.long)\n",
    "    edge_attr = F.one_hot(edge_type,\n",
    "                          num_classes=len(bonds)).to(torch.float)\n",
    "\n",
    "    perm = (edge_index[0] * N + edge_index[1]).argsort()\n",
    "    edge_index = edge_index[:, perm]\n",
    "    edge_type = edge_type[perm]\n",
    "    edge_attr = edge_attr[perm]\n",
    "\n",
    "    row, col = edge_index\n",
    "    hs = (z == 1).to(torch.float)\n",
    "    num_hs = scatter(hs[row], col, dim_size=N).tolist()\n",
    "\n",
    "    x1 = F.one_hot(torch.tensor(type_idx), num_classes=len(types))\n",
    "    x2 = torch.tensor([atomic_number, aromatic, sp, sp2, sp3, num_hs],\n",
    "                      dtype=torch.float).t().contiguous()\n",
    "    x = torch.cat([x1.to(torch.float), x2], dim=-1)\n",
    "\n",
    "    # only keep largest connected component\n",
    "    edges_coo = edge_index.detach().cpu().numpy().T\n",
    "    g = nx.Graph()\n",
    "    g.add_nodes_from(np.arange(len(z)))\n",
    "    g.add_edges_from(edges_coo.tolist())\n",
    "\n",
    "    ccs = list(nx.connected_components(g))\n",
    "    largest_cc = ccs[np.argmax([len(cc) for cc in ccs])]\n",
    "    node_ids = np.asarray(list(largest_cc))\n",
    "\n",
    "    x = x[node_ids]\n",
    "    z = z[node_ids]\n",
    "    edges_cc = []\n",
    "    edge_feats = []\n",
    "    old2new = {old:new for new, old in enumerate(node_ids)}\n",
    "    for idx, (u, v) in enumerate(edges_coo):\n",
    "        if u in node_ids and v in node_ids:\n",
    "            edges_cc += [[old2new[u], old2new[v]]]\n",
    "            edge_feats += [edge_attr[idx].numpy().tolist()]\n",
    "    edge_index = torch.tensor(edges_cc, dtype=torch.long)\n",
    "    edge_attr = torch.tensor(edge_feats, dtype=torch.float)\n",
    "\n",
    "    name = mol_id\n",
    "\n",
    "    data = Data(x=x, z=z, pos=None, edge_index=edge_index.T,\n",
    "                edge_attr=edge_attr, y=None, name=name, idx=i)\n",
    "\n",
    "\n",
    "\n",
    "    data_list.append(data)\n",
    "\n"
   ]
  },
  {
   "cell_type": "code",
   "execution_count": null,
   "id": "be8e6174",
   "metadata": {},
   "outputs": [],
   "source": [
    "n_splits = 64"
   ]
  },
  {
   "cell_type": "code",
   "execution_count": null,
   "id": "2e55eefc",
   "metadata": {},
   "outputs": [],
   "source": [
    "splits = np.array_split(np.arange(len(data_list)), n_splits)"
   ]
  },
  {
   "cell_type": "code",
   "execution_count": null,
   "id": "7e99c912",
   "metadata": {},
   "outputs": [],
   "source": [
    "for idx, split in tqdm.tqdm(enumerate(splits)):\n",
    "    dlist = [data_list[idx] for idx in split]\n",
    "    torch.save(torch_geometric.data.InMemoryDataset.collate(dlist), '../../datasets/ChEMBL/preprocessedPlusHs_split%d.pt'%idx)"
   ]
  },
  {
   "cell_type": "code",
   "execution_count": null,
   "id": "fecc9020",
   "metadata": {},
   "outputs": [],
   "source": []
  }
 ],
 "metadata": {
  "kernelspec": {
   "display_name": "Python 3 (ipykernel)",
   "language": "python",
   "name": "python3"
  },
  "language_info": {
   "codemirror_mode": {
    "name": "ipython",
    "version": 3
   },
   "file_extension": ".py",
   "mimetype": "text/x-python",
   "name": "python",
   "nbconvert_exporter": "python",
   "pygments_lexer": "ipython3",
   "version": "3.8.3"
  }
 },
 "nbformat": 4,
 "nbformat_minor": 5
}
