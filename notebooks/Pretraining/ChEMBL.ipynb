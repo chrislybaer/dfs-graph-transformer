{
 "cells": [
  {
   "cell_type": "code",
   "execution_count": 1,
   "id": "50a6b61b",
   "metadata": {},
   "outputs": [
    {
     "name": "stdout",
     "output_type": "stream",
     "text": [
      "Random Seed:  43\n"
     ]
    }
   ],
   "source": [
    "%load_ext autoreload\n",
    "%autoreload 2\n",
    "import torch\n",
    "import torch.nn as nn\n",
    "import torch.nn.functional as F\n",
    "import torch.optim as optim\n",
    "from torch_geometric.datasets.qm9 import QM9\n",
    "import torch_geometric.datasets.qm9 as qm9\n",
    "from torch_geometric.data import DataLoader\n",
    "import torch_geometric.nn as tgnn\n",
    "from torch_geometric.data import Data\n",
    "from torch_scatter import scatter\n",
    "import torch_geometric\n",
    "import tqdm\n",
    "import numpy as np\n",
    "import wandb\n",
    "import random\n",
    "import pandas as pd\n",
    "\n",
    "import rdkit\n",
    "from rdkit import Chem\n",
    "from rdkit.Chem.rdchem import HybridizationType\n",
    "from rdkit.Chem.rdchem import BondType as BT\n",
    "from rdkit import RDLogger\n",
    "RDLogger.DisableLog('rdApp.*')\n",
    "\n",
    "from matplotlib import pyplot as plt\n",
    "import networkx as nx\n",
    "\n",
    "manualSeed = 43\n",
    "random.seed(manualSeed)\n",
    "torch.manual_seed(manualSeed)\n",
    "np.random.seed(manualSeed)\n",
    "print(\"Random Seed: \", manualSeed)"
   ]
  },
  {
   "cell_type": "code",
   "execution_count": 2,
   "id": "38667af8",
   "metadata": {},
   "outputs": [
    {
     "name": "stderr",
     "output_type": "stream",
     "text": [
      "/home/chrisw/.cache/pypoetry/virtualenvs/graph-transformer-9jPERXQ--py3.8/lib/python3.8/site-packages/IPython/core/interactiveshell.py:3441: DtypeWarning: Columns (27) have mixed types.Specify dtype option on import or set low_memory=False.\n",
      "  exec(code_obj, self.user_global_ns, self.user_ns)\n"
     ]
    }
   ],
   "source": [
    "df = pd.read_csv('../../datasets/ChEMBL/small_molecules.csv', delimiter=';')"
   ]
  },
  {
   "cell_type": "code",
   "execution_count": 3,
   "id": "9cd3c8f1",
   "metadata": {},
   "outputs": [
    {
     "data": {
      "text/plain": [
       "0          CCC(=O)O[C@H]1[C@H](C)O[C@@H](O[C@@H]2[C@@H](C...\n",
       "1                  COc1ccc(Cl)cc1-c1cc(Nc2ccc(Cl)cc2)nc(N)n1\n",
       "2          COc1ccc(/C=C/C2=NN(CCCN)C(=O)N(Cc3ccc4ccccc4c3...\n",
       "3                    Cc1ccc(CCN2CC(C(=O)NCc3cccnc3)CC2=O)cc1\n",
       "4                                               CCCCC(=O)O.N\n",
       "                                 ...                        \n",
       "1920134    COc1ccnc(C[S+]([O-])c2nc3cc(OC(F)F)ccc3[n-]2)c...\n",
       "1920135      CN1c2c(oc(=O)n(-c3ccccn3)c2=O)-c2ccccc2S1(=O)=O\n",
       "1920136                                                  NaN\n",
       "1920137                                                  NaN\n",
       "1920138    COc1cc([C@@H]2c3cc4c(cc3[C@H](O)[C@H]3COC(=O)[...\n",
       "Name: Smiles, Length: 1920139, dtype: object"
      ]
     },
     "execution_count": 3,
     "metadata": {},
     "output_type": "execute_result"
    }
   ],
   "source": [
    "df['Smiles']"
   ]
  },
  {
   "cell_type": "code",
   "execution_count": 4,
   "id": "5640b032",
   "metadata": {},
   "outputs": [],
   "source": [
    "df.dropna(subset = [\"Smiles\"], inplace=True)"
   ]
  },
  {
   "cell_type": "code",
   "execution_count": 5,
   "id": "80dbbd41",
   "metadata": {},
   "outputs": [
    {
     "data": {
      "text/plain": [
       "0          CCC(=O)O[C@H]1[C@H](C)O[C@@H](O[C@@H]2[C@@H](C...\n",
       "1                  COc1ccc(Cl)cc1-c1cc(Nc2ccc(Cl)cc2)nc(N)n1\n",
       "2          COc1ccc(/C=C/C2=NN(CCCN)C(=O)N(Cc3ccc4ccccc4c3...\n",
       "3                    Cc1ccc(CCN2CC(C(=O)NCc3cccnc3)CC2=O)cc1\n",
       "4                                               CCCCC(=O)O.N\n",
       "                                 ...                        \n",
       "1920132    Oc1ccc2c(c1)[C@@]13CCCC[C@@]1(O)[C@@H](C2)N(CC...\n",
       "1920133                       Oc1ccc(/C=C/c2cc(O)cc(O)c2)cc1\n",
       "1920134    COc1ccnc(C[S+]([O-])c2nc3cc(OC(F)F)ccc3[n-]2)c...\n",
       "1920135      CN1c2c(oc(=O)n(-c3ccccn3)c2=O)-c2ccccc2S1(=O)=O\n",
       "1920138    COc1cc([C@@H]2c3cc4c(cc3[C@H](O)[C@H]3COC(=O)[...\n",
       "Name: Smiles, Length: 1914648, dtype: object"
      ]
     },
     "execution_count": 5,
     "metadata": {},
     "output_type": "execute_result"
    }
   ],
   "source": [
    "df['Smiles']"
   ]
  },
  {
   "cell_type": "code",
   "execution_count": 6,
   "id": "6e57bd33",
   "metadata": {},
   "outputs": [
    {
     "data": {
      "text/plain": [
       "Index(['ChEMBL ID', 'Name', 'Synonyms', 'Type', 'Max Phase',\n",
       "       'Molecular Weight', 'Targets', 'Bioactivities', 'AlogP', 'PSA', 'HBA',\n",
       "       'HBD', '#RO5 Violations', '#Rotatable Bonds', 'Passes Ro3',\n",
       "       'QED Weighted', 'CX ApKa', 'CX BpKa', 'CX LogP', 'CX LogD',\n",
       "       'Aromatic Rings', 'Structure Type', 'Inorganic Flag', 'Heavy Atoms',\n",
       "       'HBA Lipinski', 'HBD Lipinski', '#RO5 Violations (Lipinski)',\n",
       "       'Molecular Weight (Monoisotopic)', 'Molecular Species',\n",
       "       'Molecular Formula', 'Smiles'],\n",
       "      dtype='object')"
      ]
     },
     "execution_count": 6,
     "metadata": {},
     "output_type": "execute_result"
    }
   ],
   "source": [
    "df.keys()"
   ]
  },
  {
   "cell_type": "code",
   "execution_count": 7,
   "id": "f6c92c5c",
   "metadata": {},
   "outputs": [],
   "source": [
    "smiles = df['Smiles'][111]\n",
    "mol = Chem.MolFromSmiles(smiles)"
   ]
  },
  {
   "cell_type": "code",
   "execution_count": 8,
   "id": "9ea6b58f",
   "metadata": {},
   "outputs": [],
   "source": [
    "smiles = df['Smiles'][df['ChEMBL ID'] == 'CHEMBL4099974']"
   ]
  },
  {
   "cell_type": "code",
   "execution_count": 9,
   "id": "d4f8b1a9",
   "metadata": {},
   "outputs": [
    {
     "data": {
      "text/plain": [
       "2    COc1ccc(/C=C/C2=NN(CCCN)C(=O)N(Cc3ccc4ccccc4c3...\n",
       "Name: Smiles, dtype: object"
      ]
     },
     "execution_count": 9,
     "metadata": {},
     "output_type": "execute_result"
    }
   ],
   "source": [
    "smiles"
   ]
  },
  {
   "cell_type": "code",
   "execution_count": 10,
   "id": "6a275333",
   "metadata": {},
   "outputs": [],
   "source": [
    "mol = Chem.MolFromSmiles(smiles[2]) "
   ]
  },
  {
   "cell_type": "code",
   "execution_count": 11,
   "id": "d96e7d0c",
   "metadata": {},
   "outputs": [],
   "source": [
    "df['Smiles'].to_csv('../../datasets/ChEMBL/smiles.csv', index=False)"
   ]
  },
  {
   "cell_type": "code",
   "execution_count": 12,
   "id": "42faa534",
   "metadata": {},
   "outputs": [],
   "source": [
    "supplier = Chem.rdmolfiles.SmilesMolSupplier('../../datasets/ChEMBL/smiles.csv', delimiter='', sanitize=False)"
   ]
  },
  {
   "cell_type": "markdown",
   "id": "dabdf233",
   "metadata": {},
   "source": [
    "# Determine all atom and bond types that occur"
   ]
  },
  {
   "cell_type": "code",
   "execution_count": 13,
   "id": "20d6ccf0",
   "metadata": {},
   "outputs": [],
   "source": [
    "atom_types = {}\n",
    "bond_types = {}\n",
    "n_atoms_list = []\n",
    "n_bonds_list = []"
   ]
  },
  {
   "cell_type": "code",
   "execution_count": 15,
   "id": "649c6a41",
   "metadata": {},
   "outputs": [
    {
     "name": "stderr",
     "output_type": "stream",
     "text": [
      "100%|██████████████████████████████████████████████████████████████████████████████████████████████████████████████████████████████████████████████████████████████████| 1914648/1914648 [09:39<00:00, 3304.97it/s]\n"
     ]
    }
   ],
   "source": [
    "curr_atom_type = 0\n",
    "curr_bond_type = 0\n",
    "max_atoms = 0\n",
    "max_bonds = 0\n",
    "for mol in tqdm.tqdm(supplier):\n",
    "    mol = Chem.rdmolops.AddHs(mol)\n",
    "    if mol is None:\n",
    "        print(smiles, 'yields None')\n",
    "        continue\n",
    "    for atom in mol.GetAtoms():\n",
    "        symbol = atom.GetSymbol()\n",
    "        if symbol not in atom_types:\n",
    "            atom_types[symbol] = curr_atom_type\n",
    "            curr_atom_type += 1\n",
    "    for bond in mol.GetBonds():\n",
    "        btype = bond.GetBondType()\n",
    "        if btype not in bond_types:\n",
    "            bond_types[btype] = curr_bond_type \n",
    "            curr_bond_type += 1\n",
    "    n_atoms = len(mol.GetAtoms())\n",
    "    n_bonds = len(mol.GetBonds())\n",
    "    if max_atoms < n_atoms:\n",
    "        max_atoms = n_atoms\n",
    "    if max_bonds < n_bonds:\n",
    "        max_bonds = n_bonds\n",
    "    n_atoms_list += [n_atoms]\n",
    "    n_bonds_list += [n_bonds]"
   ]
  },
  {
   "cell_type": "code",
   "execution_count": 16,
   "id": "19f14945",
   "metadata": {},
   "outputs": [
    {
     "data": {
      "text/plain": [
       "(array([2.43000e+02, 4.54000e+02, 2.50300e+03, 7.84200e+03, 1.97940e+04,\n",
       "        6.35750e+04, 1.03402e+05, 1.53863e+05, 2.60330e+05, 2.53843e+05,\n",
       "        2.67715e+05, 3.12408e+05, 2.14761e+05, 2.10609e+05, 1.21726e+05,\n",
       "        8.97200e+04, 7.78420e+04, 4.37470e+04, 3.41320e+04, 3.05100e+04,\n",
       "        1.80970e+04, 1.47620e+04, 1.40640e+04, 8.88700e+03, 9.57000e+03,\n",
       "        6.94300e+03, 5.70300e+03, 6.05600e+03, 3.94300e+03, 3.37700e+03,\n",
       "        3.97900e+03, 2.65700e+03, 2.43600e+03, 2.26700e+03, 1.41800e+03,\n",
       "        1.77900e+03, 1.26100e+03, 1.14800e+03, 1.25500e+03, 9.20000e+02,\n",
       "        8.95000e+02, 9.92000e+02, 6.99000e+02, 6.09000e+02, 5.86000e+02,\n",
       "        4.68000e+02, 5.66000e+02, 3.82000e+02, 4.46000e+02, 4.93000e+02,\n",
       "        4.03000e+02, 3.03000e+02, 3.72000e+02, 1.82000e+02, 1.97000e+02,\n",
       "        2.22000e+02, 1.26000e+02, 1.43000e+02, 1.92000e+02, 1.09000e+02,\n",
       "        1.48000e+02, 1.19000e+02, 1.07000e+02, 1.72000e+02, 1.06000e+02,\n",
       "        1.06000e+02, 1.00000e+02, 9.00000e+01, 8.30000e+01, 7.80000e+01,\n",
       "        5.00000e+01, 5.80000e+01, 4.00000e+01, 5.70000e+01, 4.70000e+01,\n",
       "        5.20000e+01, 5.80000e+01, 8.60000e+01, 3.90000e+01, 3.20000e+01,\n",
       "        6.70000e+01, 2.60000e+01, 4.80000e+01, 2.40000e+01, 3.40000e+01,\n",
       "        4.30000e+01, 3.20000e+01, 2.80000e+01, 1.90000e+01, 2.10000e+01,\n",
       "        2.30000e+01, 2.10000e+01, 1.20000e+01, 1.40000e+01, 1.30000e+01,\n",
       "        1.30000e+01, 2.80000e+01, 4.30000e+01, 3.30000e+01, 2.70000e+01,\n",
       "        2.00000e+01, 1.50000e+01, 2.50000e+01, 1.60000e+01, 3.70000e+01,\n",
       "        2.60000e+01, 2.10000e+01, 2.30000e+01, 4.50000e+01, 3.00000e+01,\n",
       "        3.70000e+01, 2.20000e+01, 2.90000e+01, 2.70000e+01, 3.20000e+01,\n",
       "        7.40000e+01, 2.60000e+01, 3.10000e+01, 1.90000e+01, 9.00000e+00,\n",
       "        2.00000e+01, 2.50000e+01, 2.20000e+01, 1.00000e+01, 2.10000e+01,\n",
       "        1.00000e+01, 9.00000e+00, 1.80000e+01, 2.80000e+01, 2.20000e+01,\n",
       "        1.20000e+01, 1.30000e+01, 2.50000e+01, 2.90000e+01, 1.40000e+01,\n",
       "        2.30000e+01, 8.00000e+00, 1.30000e+01, 1.70000e+01, 1.20000e+01,\n",
       "        5.00000e+00, 3.00000e+00, 9.00000e+00, 2.50000e+01, 4.00000e+00,\n",
       "        1.00000e+01, 1.30000e+01, 3.00000e+00, 5.00000e+00, 6.00000e+00,\n",
       "        4.00000e+00, 9.00000e+00, 9.00000e+00, 2.00000e+00, 7.00000e+00,\n",
       "        7.00000e+00, 1.90000e+01, 2.20000e+01, 1.30000e+01, 8.00000e+00,\n",
       "        1.10000e+01, 8.00000e+00, 3.00000e+00, 1.10000e+01, 2.00000e+00,\n",
       "        3.00000e+00, 1.00000e+01, 9.00000e+00, 1.80000e+01, 2.00000e+00,\n",
       "        7.00000e+00, 5.00000e+00, 6.00000e+00, 1.00000e+00, 2.00000e+00,\n",
       "        2.00000e+00, 2.00000e+00, 1.00000e+00, 4.00000e+00, 4.00000e+00,\n",
       "        0.00000e+00, 0.00000e+00, 3.00000e+00, 7.00000e+00, 0.00000e+00,\n",
       "        1.00000e+00, 0.00000e+00, 3.00000e+00, 0.00000e+00, 0.00000e+00,\n",
       "        0.00000e+00, 1.00000e+00, 3.00000e+00, 5.00000e+00, 2.00000e+00,\n",
       "        3.00000e+00, 0.00000e+00, 0.00000e+00, 1.00000e+00, 0.00000e+00,\n",
       "        2.00000e+00, 1.00000e+00, 0.00000e+00, 1.00000e+00, 0.00000e+00,\n",
       "        0.00000e+00, 2.00000e+00, 0.00000e+00, 0.00000e+00, 0.00000e+00,\n",
       "        0.00000e+00, 0.00000e+00, 1.00000e+00, 0.00000e+00, 0.00000e+00,\n",
       "        0.00000e+00, 0.00000e+00, 0.00000e+00, 0.00000e+00, 0.00000e+00,\n",
       "        0.00000e+00, 0.00000e+00, 0.00000e+00, 1.00000e+00, 0.00000e+00,\n",
       "        0.00000e+00, 0.00000e+00, 0.00000e+00, 0.00000e+00, 0.00000e+00,\n",
       "        0.00000e+00, 0.00000e+00, 3.00000e+00, 0.00000e+00, 0.00000e+00,\n",
       "        0.00000e+00, 0.00000e+00, 1.00000e+00, 0.00000e+00, 0.00000e+00,\n",
       "        0.00000e+00, 0.00000e+00, 0.00000e+00, 1.00000e+00, 0.00000e+00,\n",
       "        0.00000e+00, 0.00000e+00, 0.00000e+00, 0.00000e+00, 0.00000e+00,\n",
       "        0.00000e+00, 0.00000e+00, 0.00000e+00, 0.00000e+00, 0.00000e+00,\n",
       "        0.00000e+00, 0.00000e+00, 0.00000e+00, 0.00000e+00, 0.00000e+00,\n",
       "        0.00000e+00, 0.00000e+00, 0.00000e+00, 0.00000e+00, 0.00000e+00,\n",
       "        0.00000e+00, 0.00000e+00, 2.00000e+00]),\n",
       " array([1.00000000e+00, 5.36194030e+00, 9.72388060e+00, 1.40858209e+01,\n",
       "        1.84477612e+01, 2.28097015e+01, 2.71716418e+01, 3.15335821e+01,\n",
       "        3.58955224e+01, 4.02574627e+01, 4.46194030e+01, 4.89813433e+01,\n",
       "        5.33432836e+01, 5.77052239e+01, 6.20671642e+01, 6.64291045e+01,\n",
       "        7.07910448e+01, 7.51529851e+01, 7.95149254e+01, 8.38768657e+01,\n",
       "        8.82388060e+01, 9.26007463e+01, 9.69626866e+01, 1.01324627e+02,\n",
       "        1.05686567e+02, 1.10048507e+02, 1.14410448e+02, 1.18772388e+02,\n",
       "        1.23134328e+02, 1.27496269e+02, 1.31858209e+02, 1.36220149e+02,\n",
       "        1.40582090e+02, 1.44944030e+02, 1.49305970e+02, 1.53667910e+02,\n",
       "        1.58029851e+02, 1.62391791e+02, 1.66753731e+02, 1.71115672e+02,\n",
       "        1.75477612e+02, 1.79839552e+02, 1.84201493e+02, 1.88563433e+02,\n",
       "        1.92925373e+02, 1.97287313e+02, 2.01649254e+02, 2.06011194e+02,\n",
       "        2.10373134e+02, 2.14735075e+02, 2.19097015e+02, 2.23458955e+02,\n",
       "        2.27820896e+02, 2.32182836e+02, 2.36544776e+02, 2.40906716e+02,\n",
       "        2.45268657e+02, 2.49630597e+02, 2.53992537e+02, 2.58354478e+02,\n",
       "        2.62716418e+02, 2.67078358e+02, 2.71440299e+02, 2.75802239e+02,\n",
       "        2.80164179e+02, 2.84526119e+02, 2.88888060e+02, 2.93250000e+02,\n",
       "        2.97611940e+02, 3.01973881e+02, 3.06335821e+02, 3.10697761e+02,\n",
       "        3.15059701e+02, 3.19421642e+02, 3.23783582e+02, 3.28145522e+02,\n",
       "        3.32507463e+02, 3.36869403e+02, 3.41231343e+02, 3.45593284e+02,\n",
       "        3.49955224e+02, 3.54317164e+02, 3.58679104e+02, 3.63041045e+02,\n",
       "        3.67402985e+02, 3.71764925e+02, 3.76126866e+02, 3.80488806e+02,\n",
       "        3.84850746e+02, 3.89212687e+02, 3.93574627e+02, 3.97936567e+02,\n",
       "        4.02298507e+02, 4.06660448e+02, 4.11022388e+02, 4.15384328e+02,\n",
       "        4.19746269e+02, 4.24108209e+02, 4.28470149e+02, 4.32832090e+02,\n",
       "        4.37194030e+02, 4.41555970e+02, 4.45917910e+02, 4.50279851e+02,\n",
       "        4.54641791e+02, 4.59003731e+02, 4.63365672e+02, 4.67727612e+02,\n",
       "        4.72089552e+02, 4.76451493e+02, 4.80813433e+02, 4.85175373e+02,\n",
       "        4.89537313e+02, 4.93899254e+02, 4.98261194e+02, 5.02623134e+02,\n",
       "        5.06985075e+02, 5.11347015e+02, 5.15708955e+02, 5.20070896e+02,\n",
       "        5.24432836e+02, 5.28794776e+02, 5.33156716e+02, 5.37518657e+02,\n",
       "        5.41880597e+02, 5.46242537e+02, 5.50604478e+02, 5.54966418e+02,\n",
       "        5.59328358e+02, 5.63690299e+02, 5.68052239e+02, 5.72414179e+02,\n",
       "        5.76776119e+02, 5.81138060e+02, 5.85500000e+02, 5.89861940e+02,\n",
       "        5.94223881e+02, 5.98585821e+02, 6.02947761e+02, 6.07309701e+02,\n",
       "        6.11671642e+02, 6.16033582e+02, 6.20395522e+02, 6.24757463e+02,\n",
       "        6.29119403e+02, 6.33481343e+02, 6.37843284e+02, 6.42205224e+02,\n",
       "        6.46567164e+02, 6.50929104e+02, 6.55291045e+02, 6.59652985e+02,\n",
       "        6.64014925e+02, 6.68376866e+02, 6.72738806e+02, 6.77100746e+02,\n",
       "        6.81462687e+02, 6.85824627e+02, 6.90186567e+02, 6.94548507e+02,\n",
       "        6.98910448e+02, 7.03272388e+02, 7.07634328e+02, 7.11996269e+02,\n",
       "        7.16358209e+02, 7.20720149e+02, 7.25082090e+02, 7.29444030e+02,\n",
       "        7.33805970e+02, 7.38167910e+02, 7.42529851e+02, 7.46891791e+02,\n",
       "        7.51253731e+02, 7.55615672e+02, 7.59977612e+02, 7.64339552e+02,\n",
       "        7.68701493e+02, 7.73063433e+02, 7.77425373e+02, 7.81787313e+02,\n",
       "        7.86149254e+02, 7.90511194e+02, 7.94873134e+02, 7.99235075e+02,\n",
       "        8.03597015e+02, 8.07958955e+02, 8.12320896e+02, 8.16682836e+02,\n",
       "        8.21044776e+02, 8.25406716e+02, 8.29768657e+02, 8.34130597e+02,\n",
       "        8.38492537e+02, 8.42854478e+02, 8.47216418e+02, 8.51578358e+02,\n",
       "        8.55940299e+02, 8.60302239e+02, 8.64664179e+02, 8.69026119e+02,\n",
       "        8.73388060e+02, 8.77750000e+02, 8.82111940e+02, 8.86473881e+02,\n",
       "        8.90835821e+02, 8.95197761e+02, 8.99559701e+02, 9.03921642e+02,\n",
       "        9.08283582e+02, 9.12645522e+02, 9.17007463e+02, 9.21369403e+02,\n",
       "        9.25731343e+02, 9.30093284e+02, 9.34455224e+02, 9.38817164e+02,\n",
       "        9.43179104e+02, 9.47541045e+02, 9.51902985e+02, 9.56264925e+02,\n",
       "        9.60626866e+02, 9.64988806e+02, 9.69350746e+02, 9.73712687e+02,\n",
       "        9.78074627e+02, 9.82436567e+02, 9.86798507e+02, 9.91160448e+02,\n",
       "        9.95522388e+02, 9.99884328e+02, 1.00424627e+03, 1.00860821e+03,\n",
       "        1.01297015e+03, 1.01733209e+03, 1.02169403e+03, 1.02605597e+03,\n",
       "        1.03041791e+03, 1.03477985e+03, 1.03914179e+03, 1.04350373e+03,\n",
       "        1.04786567e+03, 1.05222761e+03, 1.05658955e+03, 1.06095149e+03,\n",
       "        1.06531343e+03, 1.06967537e+03, 1.07403731e+03, 1.07839925e+03,\n",
       "        1.08276119e+03, 1.08712313e+03, 1.09148507e+03, 1.09584701e+03,\n",
       "        1.10020896e+03, 1.10457090e+03, 1.10893284e+03, 1.11329478e+03,\n",
       "        1.11765672e+03, 1.12201866e+03, 1.12638060e+03, 1.13074254e+03,\n",
       "        1.13510448e+03, 1.13946642e+03, 1.14382836e+03, 1.14819030e+03,\n",
       "        1.15255224e+03, 1.15691418e+03, 1.16127612e+03, 1.16563806e+03,\n",
       "        1.17000000e+03]),\n",
       " <BarContainer object of 268 artists>)"
      ]
     },
     "execution_count": 16,
     "metadata": {},
     "output_type": "execute_result"
    },
    {
     "data": {
      "image/png": "[encoded data removed]",
      "text/plain": [
       "<Figure size 432x288 with 1 Axes>"
      ]
     },
     "metadata": {
      "needs_background": "light"
     },
     "output_type": "display_data"
    }
   ],
   "source": [
    "plt.hist(n_atoms_list, bins='rice')"
   ]
  },
  {
   "cell_type": "code",
   "execution_count": 17,
   "id": "7066b6f9",
   "metadata": {},
   "outputs": [
    {
     "data": {
      "text/plain": [
       "(array([2.93000e+02, 3.96000e+02, 1.84300e+03, 5.50100e+03, 1.95170e+04,\n",
       "        3.62420e+04, 9.60310e+04, 1.27972e+05, 1.71545e+05, 2.72619e+05,\n",
       "        2.49278e+05, 3.11243e+05, 2.24924e+05, 2.36852e+05, 1.47342e+05,\n",
       "        1.33606e+05, 7.63210e+04, 5.60310e+04, 5.05610e+04, 3.04110e+04,\n",
       "        2.68550e+04, 1.68270e+04, 1.63730e+04, 1.00600e+04, 1.00650e+04,\n",
       "        7.01300e+03, 6.44500e+03, 6.90100e+03, 4.73900e+03, 4.67600e+03,\n",
       "        3.19700e+03, 3.66000e+03, 2.60300e+03, 2.55400e+03, 1.73500e+03,\n",
       "        1.49800e+03, 1.59100e+03, 1.20900e+03, 1.37900e+03, 9.65000e+02,\n",
       "        1.08100e+03, 8.49000e+02, 9.43000e+02, 5.70000e+02, 5.49000e+02,\n",
       "        6.40000e+02, 3.99000e+02, 5.60000e+02, 4.63000e+02, 5.23000e+02,\n",
       "        3.60000e+02, 4.66000e+02, 2.76000e+02, 2.10000e+02, 2.57000e+02,\n",
       "        1.92000e+02, 1.96000e+02, 1.58000e+02, 1.96000e+02, 1.36000e+02,\n",
       "        1.29000e+02, 1.12000e+02, 1.21000e+02, 1.66000e+02, 1.18000e+02,\n",
       "        1.37000e+02, 8.00000e+01, 8.70000e+01, 8.30000e+01, 7.50000e+01,\n",
       "        6.90000e+01, 4.00000e+01, 6.80000e+01, 5.40000e+01, 4.00000e+01,\n",
       "        3.40000e+01, 6.20000e+01, 4.90000e+01, 8.10000e+01, 3.20000e+01,\n",
       "        6.60000e+01, 4.30000e+01, 3.50000e+01, 3.00000e+01, 2.60000e+01,\n",
       "        3.60000e+01, 3.50000e+01, 3.20000e+01, 2.80000e+01, 1.80000e+01,\n",
       "        3.00000e+01, 1.80000e+01, 7.00000e+00, 1.40000e+01, 2.60000e+01,\n",
       "        1.90000e+01, 4.00000e+01, 2.80000e+01, 2.30000e+01, 2.40000e+01,\n",
       "        1.40000e+01, 2.70000e+01, 2.20000e+01, 2.40000e+01, 2.20000e+01,\n",
       "        3.00000e+01, 1.70000e+01, 5.20000e+01, 3.80000e+01, 3.00000e+01,\n",
       "        2.10000e+01, 1.00000e+01, 2.70000e+01, 1.40000e+01, 2.70000e+01,\n",
       "        3.50000e+01, 1.50000e+01, 1.70000e+01, 1.10000e+01, 3.60000e+01,\n",
       "        4.10000e+01, 3.90000e+01, 4.50000e+01, 3.50000e+01, 4.00000e+00,\n",
       "        1.10000e+01, 1.10000e+01, 1.50000e+01, 2.20000e+01, 2.50000e+01,\n",
       "        1.90000e+01, 2.30000e+01, 3.50000e+01, 1.50000e+01, 1.00000e+01,\n",
       "        1.00000e+01, 1.30000e+01, 8.00000e+00, 1.50000e+01, 9.00000e+00,\n",
       "        1.20000e+01, 1.50000e+01, 1.30000e+01, 3.00000e+00, 7.00000e+00,\n",
       "        3.00000e+00, 1.00000e+01, 7.00000e+00, 1.00000e+01, 1.00000e+00,\n",
       "        1.10000e+01, 1.80000e+01, 7.00000e+00, 6.00000e+00, 4.00000e+00,\n",
       "        3.00000e+00, 3.00000e+00, 3.00000e+00, 1.80000e+01, 8.00000e+00,\n",
       "        6.00000e+00, 1.30000e+01, 1.40000e+01, 8.00000e+00, 1.10000e+01,\n",
       "        8.00000e+00, 1.10000e+01, 7.00000e+00, 3.00000e+00, 5.00000e+00,\n",
       "        4.00000e+00, 1.10000e+01, 2.00000e+00, 1.00000e+00, 4.00000e+00,\n",
       "        1.60000e+01, 3.00000e+00, 1.40000e+01, 4.00000e+00, 2.00000e+00,\n",
       "        8.00000e+00, 0.00000e+00, 0.00000e+00, 4.00000e+00, 2.00000e+00,\n",
       "        0.00000e+00, 2.00000e+00, 2.00000e+00, 0.00000e+00, 0.00000e+00,\n",
       "        0.00000e+00, 3.00000e+00, 7.00000e+00, 4.00000e+00, 2.00000e+00,\n",
       "        1.00000e+00, 4.00000e+00, 1.00000e+00, 1.00000e+00, 1.00000e+00,\n",
       "        0.00000e+00, 0.00000e+00, 2.00000e+00, 1.00000e+00, 2.00000e+00,\n",
       "        1.00000e+00, 1.00000e+00, 0.00000e+00, 0.00000e+00, 0.00000e+00,\n",
       "        2.00000e+00, 1.00000e+00, 0.00000e+00, 0.00000e+00, 0.00000e+00,\n",
       "        1.00000e+00, 0.00000e+00, 0.00000e+00, 0.00000e+00, 0.00000e+00,\n",
       "        0.00000e+00, 0.00000e+00, 1.00000e+00, 0.00000e+00, 0.00000e+00,\n",
       "        0.00000e+00, 0.00000e+00, 0.00000e+00, 0.00000e+00, 1.00000e+00,\n",
       "        0.00000e+00, 2.00000e+00, 0.00000e+00, 0.00000e+00, 0.00000e+00,\n",
       "        1.00000e+00, 0.00000e+00, 0.00000e+00, 0.00000e+00, 0.00000e+00,\n",
       "        0.00000e+00, 0.00000e+00, 0.00000e+00, 0.00000e+00, 0.00000e+00,\n",
       "        0.00000e+00, 0.00000e+00, 0.00000e+00, 0.00000e+00, 0.00000e+00,\n",
       "        0.00000e+00, 0.00000e+00, 1.00000e+00, 0.00000e+00, 0.00000e+00,\n",
       "        0.00000e+00, 0.00000e+00, 0.00000e+00, 0.00000e+00, 0.00000e+00,\n",
       "        0.00000e+00, 0.00000e+00, 0.00000e+00, 0.00000e+00, 0.00000e+00,\n",
       "        0.00000e+00, 0.00000e+00, 2.00000e+00]),\n",
       " array([   0.        ,    4.44402985,    8.8880597 ,   13.33208955,\n",
       "          17.7761194 ,   22.22014925,   26.6641791 ,   31.10820896,\n",
       "          35.55223881,   39.99626866,   44.44029851,   48.88432836,\n",
       "          53.32835821,   57.77238806,   62.21641791,   66.66044776,\n",
       "          71.10447761,   75.54850746,   79.99253731,   84.43656716,\n",
       "          88.88059701,   93.32462687,   97.76865672,  102.21268657,\n",
       "         106.65671642,  111.10074627,  115.54477612,  119.98880597,\n",
       "         124.43283582,  128.87686567,  133.32089552,  137.76492537,\n",
       "         142.20895522,  146.65298507,  151.09701493,  155.54104478,\n",
       "         159.98507463,  164.42910448,  168.87313433,  173.31716418,\n",
       "         177.76119403,  182.20522388,  186.64925373,  191.09328358,\n",
       "         195.53731343,  199.98134328,  204.42537313,  208.86940299,\n",
       "         213.31343284,  217.75746269,  222.20149254,  226.64552239,\n",
       "         231.08955224,  235.53358209,  239.97761194,  244.42164179,\n",
       "         248.86567164,  253.30970149,  257.75373134,  262.19776119,\n",
       "         266.64179104,  271.0858209 ,  275.52985075,  279.9738806 ,\n",
       "         284.41791045,  288.8619403 ,  293.30597015,  297.75      ,\n",
       "         302.19402985,  306.6380597 ,  311.08208955,  315.5261194 ,\n",
       "         319.97014925,  324.4141791 ,  328.85820896,  333.30223881,\n",
       "         337.74626866,  342.19029851,  346.63432836,  351.07835821,\n",
       "         355.52238806,  359.96641791,  364.41044776,  368.85447761,\n",
       "         373.29850746,  377.74253731,  382.18656716,  386.63059701,\n",
       "         391.07462687,  395.51865672,  399.96268657,  404.40671642,\n",
       "         408.85074627,  413.29477612,  417.73880597,  422.18283582,\n",
       "         426.62686567,  431.07089552,  435.51492537,  439.95895522,\n",
       "         444.40298507,  448.84701493,  453.29104478,  457.73507463,\n",
       "         462.17910448,  466.62313433,  471.06716418,  475.51119403,\n",
       "         479.95522388,  484.39925373,  488.84328358,  493.28731343,\n",
       "         497.73134328,  502.17537313,  506.61940299,  511.06343284,\n",
       "         515.50746269,  519.95149254,  524.39552239,  528.83955224,\n",
       "         533.28358209,  537.72761194,  542.17164179,  546.61567164,\n",
       "         551.05970149,  555.50373134,  559.94776119,  564.39179104,\n",
       "         568.8358209 ,  573.27985075,  577.7238806 ,  582.16791045,\n",
       "         586.6119403 ,  591.05597015,  595.5       ,  599.94402985,\n",
       "         604.3880597 ,  608.83208955,  613.2761194 ,  617.72014925,\n",
       "         622.1641791 ,  626.60820896,  631.05223881,  635.49626866,\n",
       "         639.94029851,  644.38432836,  648.82835821,  653.27238806,\n",
       "         657.71641791,  662.16044776,  666.60447761,  671.04850746,\n",
       "         675.49253731,  679.93656716,  684.38059701,  688.82462687,\n",
       "         693.26865672,  697.71268657,  702.15671642,  706.60074627,\n",
       "         711.04477612,  715.48880597,  719.93283582,  724.37686567,\n",
       "         728.82089552,  733.26492537,  737.70895522,  742.15298507,\n",
       "         746.59701493,  751.04104478,  755.48507463,  759.92910448,\n",
       "         764.37313433,  768.81716418,  773.26119403,  777.70522388,\n",
       "         782.14925373,  786.59328358,  791.03731343,  795.48134328,\n",
       "         799.92537313,  804.36940299,  808.81343284,  813.25746269,\n",
       "         817.70149254,  822.14552239,  826.58955224,  831.03358209,\n",
       "         835.47761194,  839.92164179,  844.36567164,  848.80970149,\n",
       "         853.25373134,  857.69776119,  862.14179104,  866.5858209 ,\n",
       "         871.02985075,  875.4738806 ,  879.91791045,  884.3619403 ,\n",
       "         888.80597015,  893.25      ,  897.69402985,  902.1380597 ,\n",
       "         906.58208955,  911.0261194 ,  915.47014925,  919.9141791 ,\n",
       "         924.35820896,  928.80223881,  933.24626866,  937.69029851,\n",
       "         942.13432836,  946.57835821,  951.02238806,  955.46641791,\n",
       "         959.91044776,  964.35447761,  968.79850746,  973.24253731,\n",
       "         977.68656716,  982.13059701,  986.57462687,  991.01865672,\n",
       "         995.46268657,  999.90671642, 1004.35074627, 1008.79477612,\n",
       "        1013.23880597, 1017.68283582, 1022.12686567, 1026.57089552,\n",
       "        1031.01492537, 1035.45895522, 1039.90298507, 1044.34701493,\n",
       "        1048.79104478, 1053.23507463, 1057.67910448, 1062.12313433,\n",
       "        1066.56716418, 1071.01119403, 1075.45522388, 1079.89925373,\n",
       "        1084.34328358, 1088.78731343, 1093.23134328, 1097.67537313,\n",
       "        1102.11940299, 1106.56343284, 1111.00746269, 1115.45149254,\n",
       "        1119.89552239, 1124.33955224, 1128.78358209, 1133.22761194,\n",
       "        1137.67164179, 1142.11567164, 1146.55970149, 1151.00373134,\n",
       "        1155.44776119, 1159.89179104, 1164.3358209 , 1168.77985075,\n",
       "        1173.2238806 , 1177.66791045, 1182.1119403 , 1186.55597015,\n",
       "        1191.        ]),\n",
       " <BarContainer object of 268 artists>)"
      ]
     },
     "execution_count": 17,
     "metadata": {},
     "output_type": "execute_result"
    },
    {
     "data": {
      "image/png": "[encoded data removed]",
      "text/plain": [
       "<Figure size 432x288 with 1 Axes>"
      ]
     },
     "metadata": {
      "needs_background": "light"
     },
     "output_type": "display_data"
    }
   ],
   "source": [
    "plt.hist(n_bonds_list, bins='rice')"
   ]
  },
  {
   "cell_type": "code",
   "execution_count": 18,
   "id": "aeaa6efb",
   "metadata": {},
   "outputs": [
    {
     "data": {
      "text/plain": [
       "{'C': 0,\n",
       " 'O': 1,\n",
       " 'N': 2,\n",
       " 'H': 3,\n",
       " 'Cl': 4,\n",
       " 'S': 5,\n",
       " 'F': 6,\n",
       " 'P': 7,\n",
       " 'Se': 8,\n",
       " 'Br': 9,\n",
       " 'I': 10,\n",
       " 'Na': 11,\n",
       " 'B': 12,\n",
       " 'K': 13,\n",
       " 'Li': 14,\n",
       " 'Si': 15,\n",
       " 'Ca': 16,\n",
       " 'Rb': 17,\n",
       " 'Te': 18,\n",
       " 'Zn': 19,\n",
       " 'Mg': 20,\n",
       " 'As': 21,\n",
       " 'Al': 22,\n",
       " 'Ba': 23,\n",
       " 'Be': 24,\n",
       " 'Sr': 25,\n",
       " 'Ag': 26,\n",
       " 'Bi': 27,\n",
       " 'Ra': 28,\n",
       " 'Kr': 0,\n",
       " 'Cs': 1,\n",
       " 'Xe': 2,\n",
       " 'He': 3}"
      ]
     },
     "execution_count": 18,
     "metadata": {},
     "output_type": "execute_result"
    }
   ],
   "source": [
    "atom_types"
   ]
  },
  {
   "cell_type": "code",
   "execution_count": 19,
   "id": "b9d1636e",
   "metadata": {},
   "outputs": [
    {
     "data": {
      "text/plain": [
       "{rdkit.Chem.rdchem.BondType.SINGLE: 0,\n",
       " rdkit.Chem.rdchem.BondType.DOUBLE: 1,\n",
       " rdkit.Chem.rdchem.BondType.AROMATIC: 2,\n",
       " rdkit.Chem.rdchem.BondType.TRIPLE: 3}"
      ]
     },
     "execution_count": 19,
     "metadata": {},
     "output_type": "execute_result"
    }
   ],
   "source": [
    "bond_types"
   ]
  },
  {
   "cell_type": "code",
   "execution_count": 32,
   "id": "b4d726cc",
   "metadata": {},
   "outputs": [],
   "source": [
    "supplier = Chem.rdmolfiles.SmilesMolSupplier('../../datasets/ChEMBL/smiles.csv', delimiter='', sanitize=False)"
   ]
  },
  {
   "cell_type": "code",
   "execution_count": null,
   "id": "a5816b19",
   "metadata": {},
   "outputs": [
    {
     "name": "stderr",
     "output_type": "stream",
     "text": [
      "1658it [00:03, 453.02it/s]"
     ]
    }
   ],
   "source": [
    "types = atom_types\n",
    "bonds = bond_types\n",
    "data_list = []\n",
    "\n",
    "for i,(mol_id, mol) in tqdm.tqdm(enumerate(zip(df['ChEMBL ID'], supplier))):\n",
    "    if mol is None:\n",
    "        print(smiles, 'yields None')\n",
    "        continue\n",
    "        \n",
    "    mol = Chem.rdmolops.AddHs(mol)        \n",
    "    N = mol.GetNumAtoms()\n",
    "    \n",
    "    type_idx = []\n",
    "    atomic_number = []\n",
    "    aromatic = []\n",
    "    sp = []\n",
    "    sp2 = []\n",
    "    sp3 = []\n",
    "    num_hs = []\n",
    "    for atom in mol.GetAtoms():\n",
    "        type_idx.append(types[atom.GetSymbol()])\n",
    "        atomic_number.append(atom.GetAtomicNum())\n",
    "        aromatic.append(1 if atom.GetIsAromatic() else 0)\n",
    "        hybridization = atom.GetHybridization()\n",
    "        sp.append(1 if hybridization == HybridizationType.SP else 0)\n",
    "        sp2.append(1 if hybridization == HybridizationType.SP2 else 0)\n",
    "        sp3.append(1 if hybridization == HybridizationType.SP3 else 0)\n",
    "    \n",
    "    z = torch.tensor(atomic_number, dtype=torch.long)\n",
    "\n",
    "    type_idx = np.asarray(type_idx)\n",
    "    atomic_number = np.asarray(atomic_number)\n",
    "    aromatic = np.asarray(atomic_number)\n",
    "    sp = np.asarray(sp)\n",
    "    sp2 = np.asarray(sp2)\n",
    "    sp3 = np.asarray(sp3)\n",
    "    num_hs = np.asarray(num_hs)\n",
    "    \n",
    "    row, col, edge_type = [], [], []\n",
    "    for bond in mol.GetBonds():\n",
    "        start, end = bond.GetBeginAtomIdx(), bond.GetEndAtomIdx()\n",
    "        row += [start, end]\n",
    "        col += [end, start]\n",
    "        edge_type += 2 * [bonds[bond.GetBondType()]]\n",
    "\n",
    "    edge_index = torch.tensor([row, col], dtype=torch.long)\n",
    "    edge_type = torch.tensor(edge_type, dtype=torch.long)\n",
    "    edge_attr = F.one_hot(edge_type,\n",
    "                          num_classes=len(bonds)).to(torch.float)\n",
    "\n",
    "    perm = (edge_index[0] * N + edge_index[1]).argsort()\n",
    "    edge_index = edge_index[:, perm]\n",
    "    edge_type = edge_type[perm]\n",
    "    edge_attr = edge_attr[perm]\n",
    "\n",
    "    row, col = edge_index\n",
    "    hs = (z == 1).to(torch.float)\n",
    "    num_hs = scatter(hs[row], col, dim_size=N).tolist()\n",
    "\n",
    "    x1 = F.one_hot(torch.tensor(type_idx), num_classes=len(types))\n",
    "    x2 = torch.tensor([atomic_number, aromatic, sp, sp2, sp3, num_hs],\n",
    "                      dtype=torch.float).t().contiguous()\n",
    "    x = torch.cat([x1.to(torch.float), x2], dim=-1)\n",
    "\n",
    "    # only keep largest connected component\n",
    "    edges_coo = edge_index.detach().cpu().numpy().T\n",
    "    g = nx.Graph()\n",
    "    g.add_nodes_from(np.arange(len(z)))\n",
    "    g.add_edges_from(edges_coo.tolist())\n",
    "\n",
    "    ccs = list(nx.connected_components(g))\n",
    "    largest_cc = ccs[np.argmax([len(cc) for cc in ccs])]\n",
    "    node_ids = np.asarray(list(largest_cc))\n",
    "\n",
    "    x = x[node_ids]\n",
    "    z = z[node_ids]\n",
    "    edges_cc = []\n",
    "    edge_feats = []\n",
    "    for idx, (u, v) in enumerate(edges_coo):\n",
    "        if u in node_ids and v in node_ids:\n",
    "            edges_cc += [[u, v]]\n",
    "            edge_feats += [edge_attr[idx].numpy().tolist()]\n",
    "    edge_index = torch.tensor(edges_cc, dtype=torch.long)\n",
    "    edge_attr = torch.tensor(edge_feats, dtype=torch.float)\n",
    "\n",
    "    name = mol_id\n",
    "\n",
    "    data = Data(x=x, z=z, pos=None, edge_index=edge_index.T,\n",
    "                edge_attr=edge_attr, y=None, name=name, idx=i)\n",
    "\n",
    "\n",
    "\n",
    "    data_list.append(data)\n",
    "\n"
   ]
  },
  {
   "cell_type": "code",
   "execution_count": null,
   "id": "0c0d3ec4",
   "metadata": {},
   "outputs": [],
   "source": [
    "n_splits = 64"
   ]
  },
  {
   "cell_type": "code",
   "execution_count": null,
   "id": "9f7ac108",
   "metadata": {},
   "outputs": [],
   "source": [
    "splits = np.array_split(np.arange(len(data_list)), n_splits)"
   ]
  },
  {
   "cell_type": "code",
   "execution_count": null,
   "id": "07c599c2",
   "metadata": {},
   "outputs": [],
   "source": [
    "for idx, split in tqdm.tqdm(enumerate(splits)):\n",
    "    dlist = [data_list[idx] for idx in split]\n",
    "    torch.save(torch_geometric.data.InMemoryDataset.collate(dlist), '../../datasets/ChEMBL/preprocessedPlusHs_split%d.pt'%idx)"
   ]
  },
  {
   "cell_type": "code",
   "execution_count": null,
   "id": "fecc9020",
   "metadata": {},
   "outputs": [],
   "source": []
  }
 ],
 "metadata": {
  "kernelspec": {
   "display_name": "Python 3 (ipykernel)",
   "language": "python",
   "name": "python3"
  },
  "language_info": {
   "codemirror_mode": {
    "name": "ipython",
    "version": 3
   },
   "file_extension": ".py",
   "mimetype": "text/x-python",
   "name": "python",
   "nbconvert_exporter": "python",
   "pygments_lexer": "ipython3",
   "version": "3.8.3"
  }
 },
 "nbformat": 4,
 "nbformat_minor": 5
}
