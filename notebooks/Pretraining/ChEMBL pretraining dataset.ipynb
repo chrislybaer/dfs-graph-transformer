{
 "cells": [
  {
   "cell_type": "code",
   "execution_count": 1,
   "id": "49a7ca25",
   "metadata": {},
   "outputs": [],
   "source": [
    "%load_ext autoreload\n",
    "%autoreload 2"
   ]
  },
  {
   "cell_type": "code",
   "execution_count": 2,
   "id": "0033798e",
   "metadata": {},
   "outputs": [],
   "source": [
    "import json\n",
    "import numpy as np\n",
    "from torch.utils.data import Dataset, DataLoader\n",
    "import glob"
   ]
  },
  {
   "cell_type": "code",
   "execution_count": 3,
   "id": "7844993f",
   "metadata": {},
   "outputs": [],
   "source": [
    "import dfs_code\n",
    "from torch_geometric.data import InMemoryDataset, Data\n",
    "import pickle\n",
    "import torch"
   ]
  },
  {
   "cell_type": "code",
   "execution_count": 4,
   "id": "85546446",
   "metadata": {},
   "outputs": [],
   "source": [
    "path = \"/home/chrisw/Documents/projects/2021/graph-transformer/datasets/ChEMBL100_noH/\""
   ]
  },
  {
   "cell_type": "code",
   "execution_count": 5,
   "id": "effb0b1b",
   "metadata": {},
   "outputs": [],
   "source": [
    "fnames = glob.glob(path+\"CHEMBL*.pkl\")"
   ]
  },
  {
   "cell_type": "code",
   "execution_count": 6,
   "id": "55f04196",
   "metadata": {},
   "outputs": [],
   "source": [
    "class ChEMBL100NoH(Dataset):\n",
    "    \"\"\"ChEMBL dataset of molecules and minimal DFS codes.\"\"\"\n",
    "    # create data structure that says which id is in which file...\n",
    "    def __init__(self, path, transform=None):\n",
    "        self.path = path\n",
    "        self.fnames = glob.glob(path+\"CHEMBL*.pkl\")[:10]\n",
    "        \n",
    "    def __len__(self):\n",
    "        return len(self.fnames)\n",
    "\n",
    "    def __getitem__(self, idx):\n",
    "        with open(self.fnames[idx], 'rb') as f:\n",
    "            d = pickle.load(f)\n",
    "        data = Data(x=torch.tensor(d['x']),\n",
    "                    z=torch.tensor(d['z']),\n",
    "                    edge_attr=torch.tensor(d['edge_attr']),\n",
    "                    edge_index=torch.tensor(d['edge_index'], dtype=torch.long),\n",
    "                    name=d['name'],\n",
    "                    min_dfs_code=torch.tensor(d['min_dfs_code']),\n",
    "                    min_dfs_index=torch.tensor(d['min_dfs_index'], dtype=torch.long),\n",
    "                    smiles=d['smiles'])\n",
    "        return data"
   ]
  },
  {
   "cell_type": "code",
   "execution_count": 13,
   "id": "3f51995b",
   "metadata": {},
   "outputs": [],
   "source": [
    "def collate_fn(dlist):\n",
    "    x_batch = [] \n",
    "    z_batch = []\n",
    "    edge_attr_batch = []\n",
    "    rnd_code_batch = []\n",
    "    min_code_batch = []\n",
    "    for d in dlist:\n",
    "        rnd_code, rnd_index = dfs_code.rnd_dfs_code_from_torch_geometric(d, \n",
    "                                                                         d.z.numpy().tolist(), \n",
    "                                                                         np.argmax(d.edge_attr.numpy(), axis=1))\n",
    "        x_batch += [d.x]\n",
    "        z_batch += [d.z]\n",
    "        edge_attr_batch += [d.edge_attr]\n",
    "        rnd_code_batch += [torch.tensor(rnd_code)]\n",
    "        min_code_batch += [d.min_dfs_code]\n",
    "    return rnd_code_batch, x_batch, z_batch, edge_attr_batch, min_code_batch"
   ]
  },
  {
   "cell_type": "code",
   "execution_count": 14,
   "id": "281fa4ce",
   "metadata": {},
   "outputs": [],
   "source": [
    "def collate_fn_(dlist):\n",
    "    data_list = []\n",
    "    for d in dlist:\n",
    "        rnd_code, rnd_index = dfs_code.rnd_dfs_code_from_torch_geometric(d, \n",
    "                                                                         d.z.numpy().tolist(), \n",
    "                                                                         np.argmax(d.edge_attr.numpy(), axis=1))\n",
    "        data = Data(x=d['x'],\n",
    "                 z=d['z'],\n",
    "                 edge_attr=d['edge_attr'],\n",
    "                 edge_index=d['edge_index'],\n",
    "                 name=d['name'],\n",
    "                 min_dfs_code=d['min_dfs_code'],\n",
    "                 min_dfs_index=d['min_dfs_index'],\n",
    "                 smiles=d['smiles'],\n",
    "                 rnd_dfs_code=torch.tensor(rnd_code),\n",
    "                 rnd_dfs_index=torch.tensor(rnd_index, dtype=torch.long))\n",
    "        data_list += [data]\n",
    "    return data_list"
   ]
  },
  {
   "cell_type": "code",
   "execution_count": 8,
   "id": "ae15d455",
   "metadata": {},
   "outputs": [],
   "source": [
    "dataset = ChEMBL100NoH(path)"
   ]
  },
  {
   "cell_type": "code",
   "execution_count": 9,
   "id": "dfb64c9a",
   "metadata": {},
   "outputs": [],
   "source": [
    "loader = DataLoader(dataset, batch_size=1, shuffle=True, pin_memory=True, num_workers=4, collate_fn=collate_fn)"
   ]
  },
  {
   "cell_type": "code",
   "execution_count": 11,
   "id": "72cc87d9",
   "metadata": {},
   "outputs": [
    {
     "name": "stderr",
     "output_type": "stream",
     "text": [
      "[W pthreadpool-cpp.cc:90] Warning: Leaking Caffe2 thread-pool after fork. (function pthreadpool)\n",
      "[W pthreadpool-cpp.cc:90] Warning: Leaking Caffe2 thread-pool after fork. (function pthreadpool)\n"
     ]
    },
    {
     "name": "stdout",
     "output_type": "stream",
     "text": [
      "[Data(edge_attr=[58, 4], edge_index=[2, 58], min_dfs_code=[29, 8], min_dfs_index=[25], name=\"CHEMBL3310257\", rnd_dfs_code=[29, 8], rnd_dfs_index=[25], smiles=\"O=C(CN1CCC[C@@H]2Cc3cc4c(cc3[C@H]21)OCO4)N1CCCCC1\", x=[25, 39], z=[25])]\n",
      "CHEMBL3310257\n",
      "tensor([[ 0,  1,  8,  1,  6,  0,  0,  1],\n",
      "        [ 1,  2,  6,  0,  6,  1,  2,  2],\n",
      "        [ 2,  3,  6,  0,  7,  2,  5,  3],\n",
      "        [ 3,  4,  7,  0,  6,  3,  8, 15],\n",
      "        [ 4,  5,  6,  0,  6, 15, 38, 14],\n",
      "        [ 5,  6,  6,  2,  6, 14, 34, 13],\n",
      "        [ 6,  7,  6,  2,  6, 13, 31, 12],\n",
      "        [ 7,  8,  6,  2,  6, 12, 28, 11],\n",
      "        [ 8,  9,  6,  2,  6, 11, 25, 10],\n",
      "        [ 9, 10,  6,  2,  6, 10, 23,  9],\n",
      "        [10,  5,  6,  2,  6,  9, 22, 14],\n",
      "        [10, 11,  6,  0,  6,  9, 20,  8],\n",
      "        [11, 12,  6,  0,  6,  8, 18,  7],\n",
      "        [12,  4,  6,  0,  6,  7, 17, 15],\n",
      "        [12, 13,  6,  0,  6,  7, 15,  6],\n",
      "        [13, 14,  6,  0,  6,  6, 13,  5],\n",
      "        [ 3, 15,  7,  0,  6,  3,  7,  4],\n",
      "        [15, 14,  6,  0,  6,  4, 10,  5],\n",
      "        [ 8, 16,  6,  0,  8, 11, 27, 18],\n",
      "        [16, 17,  8,  0,  6, 18, 44, 17],\n",
      "        [ 7, 18,  6,  0,  8, 12, 30, 16],\n",
      "        [18, 17,  8,  0,  6, 16, 40, 17],\n",
      "        [ 1, 19,  6,  0,  7,  1,  3, 19],\n",
      "        [19, 20,  7,  0,  6, 19, 47, 24],\n",
      "        [20, 21,  6,  0,  6, 24, 57, 23],\n",
      "        [21, 22,  6,  0,  6, 23, 54, 22],\n",
      "        [22, 23,  6,  0,  6, 22, 52, 21],\n",
      "        [19, 24,  7,  0,  6, 19, 46, 20],\n",
      "        [24, 23,  6,  0,  6, 20, 49, 21]])\n",
      "[Data(edge_attr=[84, 4], edge_index=[2, 84], min_dfs_code=[42, 8], min_dfs_index=[39], name=\"CHEMBL258246\", rnd_dfs_code=[42, 8], rnd_dfs_index=[39], smiles=\"CC(C)[C@]1(C(=O)NCc2cc(C(F)(F)F)cc(C(F)(F)F)c2)CC[C@@H](N2CCC(c3cccc(F)c3)CC2)C1\", x=[39, 39], z=[39])]\n",
      "[Data(edge_attr=[58, 4], edge_index=[2, 58], min_dfs_code=[29, 8], min_dfs_index=[26], name=\"CHEMBL2064838\", rnd_dfs_code=[29, 8], rnd_dfs_index=[26], smiles=\"O=[N+]([O-])C1C/C(=N\\Nc2nc(-c3ccc(Cl)cc3)cs2)c2ccccc21\", x=[26, 39], z=[26])]\n",
      "[Data(edge_attr=[58, 4], edge_index=[2, 58], min_dfs_code=[29, 8], min_dfs_index=[28], name=\"CHEMBL1350623\", rnd_dfs_code=[29, 8], rnd_dfs_index=[28], smiles=\"NS(=O)(=O)c1ccc(CCNC(=O)COC(=O)/C=C/c2ccccc2Cl)cc1\", x=[28, 39], z=[28])]\n",
      "[Data(edge_attr=[38, 4], edge_index=[2, 38], min_dfs_code=[19, 8], min_dfs_index=[19], name=\"CHEMBL3683979\", rnd_dfs_code=[19, 8], rnd_dfs_index=[19], smiles=\"O=C(CCCCCOc1ccccc1O)C(F)(F)F\", x=[19, 39], z=[19])]\n",
      "[Data(edge_attr=[38, 4], edge_index=[2, 38], min_dfs_code=[19, 8], min_dfs_index=[18], name=\"CHEMBL408406\", rnd_dfs_code=[19, 8], rnd_dfs_index=[18], smiles=\"Cc1ccc([C@H]2OC[C@@H](NC(=O)CN)CO2)cc1\", x=[18, 39], z=[18])]\n",
      "[Data(edge_attr=[100, 4], edge_index=[2, 100], min_dfs_code=[50, 8], min_dfs_index=[45], name=\"CHEMBL363083\", rnd_dfs_code=[50, 8], rnd_dfs_index=[45], smiles=\"COc1cc2c(N3CCN(/C(S)=N\\c4ccc(-c5ccccc5)nc4)CC3)c(C#N)cnc2cc1OCCCN1CCCCC1\", x=[45, 39], z=[45])]\n",
      "[Data(edge_attr=[68, 4], edge_index=[2, 68], min_dfs_code=[34, 8], min_dfs_index=[30], name=\"CHEMBL2356336\", rnd_dfs_code=[34, 8], rnd_dfs_index=[30], smiles=\"CC(=O)CC1c2ccccc2C=C(c2ccsc2)N1c1ccc(-c2cccs2)cc1\", x=[30, 39], z=[30])]\n",
      "[Data(edge_attr=[74, 4], edge_index=[2, 74], min_dfs_code=[37, 8], min_dfs_index=[34], name=\"CHEMBL234710\", rnd_dfs_code=[37, 8], rnd_dfs_index=[34], smiles=\"CS(=O)(=O)c1ccc(OCc2ccc(F)cc2F)c(C2=C(c3cccc(C(=O)O)c3)CCC2)c1\", x=[34, 39], z=[34])]\n",
      "[Data(edge_attr=[78, 4], edge_index=[2, 78], min_dfs_code=[39, 8], min_dfs_index=[35], name=\"CHEMBL1580381\", rnd_dfs_code=[39, 8], rnd_dfs_index=[35], smiles=\"COc1ccc(-c2ccc(C(C)=O)cc2)cc1[C@H]1[C@H]2C=CC[C@@H](C)[C@@H]2C(=O)N1Cc1ccccc1\", x=[35, 39], z=[35])]\n"
     ]
    },
    {
     "name": "stderr",
     "output_type": "stream",
     "text": [
      "[W pthreadpool-cpp.cc:90] Warning: Leaking Caffe2 thread-pool after fork. (function pthreadpool)\n",
      "[W pthreadpool-cpp.cc:90] Warning: Leaking Caffe2 thread-pool after fork. (function pthreadpool)\n",
      "[W pthreadpool-cpp.cc:90] Warning: Leaking Caffe2 thread-pool after fork. (function pthreadpool)\n",
      "[W pthreadpool-cpp.cc:90] Warning: Leaking Caffe2 thread-pool after fork. (function pthreadpool)\n"
     ]
    },
    {
     "name": "stdout",
     "output_type": "stream",
     "text": [
      "[Data(edge_attr=[38, 4], edge_index=[2, 38], min_dfs_code=[19, 8], min_dfs_index=[19], name=\"CHEMBL3683979\", rnd_dfs_code=[19, 8], rnd_dfs_index=[19], smiles=\"O=C(CCCCCOc1ccccc1O)C(F)(F)F\", x=[19, 39], z=[19])]\n",
      "CHEMBL3683979\n",
      "tensor([[ 0,  1,  6,  0,  8,  6, 13,  7],\n",
      "        [ 1,  2,  8,  0,  6,  7, 15,  8],\n",
      "        [ 2,  3,  6,  2,  6,  8, 17,  9],\n",
      "        [ 3,  4,  6,  2,  6,  9, 20, 10],\n",
      "        [ 4,  5,  6,  2,  6, 10, 22, 11],\n",
      "        [ 5,  6,  6,  2,  6, 11, 24, 12],\n",
      "        [ 2,  7,  6,  2,  6,  8, 18, 13],\n",
      "        [ 7,  6,  6,  2,  6, 13, 28, 12],\n",
      "        [ 7,  8,  6,  0,  8, 13, 29, 14],\n",
      "        [ 0,  9,  6,  0,  6,  6, 12,  5],\n",
      "        [ 9, 10,  6,  0,  6,  5, 10,  4],\n",
      "        [10, 11,  6,  0,  6,  4,  8,  3],\n",
      "        [11, 12,  6,  0,  6,  3,  6,  2],\n",
      "        [12, 13,  6,  0,  6,  2,  4,  1],\n",
      "        [13, 14,  6,  0,  6,  1,  3, 15],\n",
      "        [14, 15,  6,  0,  9, 15, 32, 16],\n",
      "        [14, 16,  6,  0,  9, 15, 34, 18],\n",
      "        [14, 17,  6,  0,  9, 15, 33, 17],\n",
      "        [13, 18,  6,  1,  8,  1,  1,  0]])\n",
      "[Data(edge_attr=[78, 4], edge_index=[2, 78], min_dfs_code=[39, 8], min_dfs_index=[35], name=\"CHEMBL1580381\", rnd_dfs_code=[39, 8], rnd_dfs_index=[35], smiles=\"COc1ccc(-c2ccc(C(C)=O)cc2)cc1[C@H]1[C@H]2C=CC[C@@H](C)[C@@H]2C(=O)N1Cc1ccccc1\", x=[35, 39], z=[35])]\n",
      "[Data(edge_attr=[58, 4], edge_index=[2, 58], min_dfs_code=[29, 8], min_dfs_index=[26], name=\"CHEMBL2064838\", rnd_dfs_code=[29, 8], rnd_dfs_index=[26], smiles=\"O=[N+]([O-])C1C/C(=N\\Nc2nc(-c3ccc(Cl)cc3)cs2)c2ccccc21\", x=[26, 39], z=[26])]\n",
      "[Data(edge_attr=[84, 4], edge_index=[2, 84], min_dfs_code=[42, 8], min_dfs_index=[39], name=\"CHEMBL258246\", rnd_dfs_code=[42, 8], rnd_dfs_index=[39], smiles=\"CC(C)[C@]1(C(=O)NCc2cc(C(F)(F)F)cc(C(F)(F)F)c2)CC[C@@H](N2CCC(c3cccc(F)c3)CC2)C1\", x=[39, 39], z=[39])]\n",
      "[Data(edge_attr=[58, 4], edge_index=[2, 58], min_dfs_code=[29, 8], min_dfs_index=[25], name=\"CHEMBL3310257\", rnd_dfs_code=[29, 8], rnd_dfs_index=[25], smiles=\"O=C(CN1CCC[C@@H]2Cc3cc4c(cc3[C@H]21)OCO4)N1CCCCC1\", x=[25, 39], z=[25])]\n",
      "[Data(edge_attr=[68, 4], edge_index=[2, 68], min_dfs_code=[34, 8], min_dfs_index=[30], name=\"CHEMBL2356336\", rnd_dfs_code=[34, 8], rnd_dfs_index=[30], smiles=\"CC(=O)CC1c2ccccc2C=C(c2ccsc2)N1c1ccc(-c2cccs2)cc1\", x=[30, 39], z=[30])]\n",
      "[Data(edge_attr=[58, 4], edge_index=[2, 58], min_dfs_code=[29, 8], min_dfs_index=[28], name=\"CHEMBL1350623\", rnd_dfs_code=[29, 8], rnd_dfs_index=[28], smiles=\"NS(=O)(=O)c1ccc(CCNC(=O)COC(=O)/C=C/c2ccccc2Cl)cc1\", x=[28, 39], z=[28])]\n",
      "[Data(edge_attr=[38, 4], edge_index=[2, 38], min_dfs_code=[19, 8], min_dfs_index=[18], name=\"CHEMBL408406\", rnd_dfs_code=[19, 8], rnd_dfs_index=[18], smiles=\"Cc1ccc([C@H]2OC[C@@H](NC(=O)CN)CO2)cc1\", x=[18, 39], z=[18])]\n",
      "[Data(edge_attr=[74, 4], edge_index=[2, 74], min_dfs_code=[37, 8], min_dfs_index=[34], name=\"CHEMBL234710\", rnd_dfs_code=[37, 8], rnd_dfs_index=[34], smiles=\"CS(=O)(=O)c1ccc(OCc2ccc(F)cc2F)c(C2=C(c3cccc(C(=O)O)c3)CCC2)c1\", x=[34, 39], z=[34])]\n",
      "[Data(edge_attr=[100, 4], edge_index=[2, 100], min_dfs_code=[50, 8], min_dfs_index=[45], name=\"CHEMBL363083\", rnd_dfs_code=[50, 8], rnd_dfs_index=[45], smiles=\"COc1cc2c(N3CCN(/C(S)=N\\c4ccc(-c5ccccc5)nc4)CC3)c(C#N)cnc2cc1OCCCN1CCCCC1\", x=[45, 39], z=[45])]\n"
     ]
    },
    {
     "name": "stderr",
     "output_type": "stream",
     "text": [
      "[W pthreadpool-cpp.cc:90] Warning: Leaking Caffe2 thread-pool after fork. (function pthreadpool)\n",
      "[W pthreadpool-cpp.cc:90] Warning: Leaking Caffe2 thread-pool after fork. (function pthreadpool)\n"
     ]
    }
   ],
   "source": [
    "for epoch in range(2):\n",
    "    for idx, data in enumerate(loader):\n",
    "        print(data)\n",
    "        if idx == 0:\n",
    "            print(data[0].name)\n",
    "            print(data[0].rnd_dfs_code)"
   ]
  },
  {
   "cell_type": "code",
   "execution_count": null,
   "id": "b45e40e4",
   "metadata": {},
   "outputs": [],
   "source": []
  }
 ],
 "metadata": {
  "kernelspec": {
   "display_name": "Python 3 (ipykernel)",
   "language": "python",
   "name": "python3"
  },
  "language_info": {
   "codemirror_mode": {
    "name": "ipython",
    "version": 3
   },
   "file_extension": ".py",
   "mimetype": "text/x-python",
   "name": "python",
   "nbconvert_exporter": "python",
   "pygments_lexer": "ipython3",
   "version": "3.8.3"
  }
 },
 "nbformat": 4,
 "nbformat_minor": 5
}
