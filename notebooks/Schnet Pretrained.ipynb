{
 "cells": [
  {
   "cell_type": "code",
   "execution_count": 5,
   "id": "0ff921ff",
   "metadata": {},
   "outputs": [
    {
     "name": "stdout",
     "output_type": "stream",
     "text": [
      "The autoreload extension is already loaded. To reload it, use:\n",
      "  %reload_ext autoreload\n",
      "Target: 00, MAE: 0.02079 ± 0.03071, mu, D, Dipole moment\n",
      "Target: 01, MAE: 0.12105 ± 0.39941, alpha, {a_0}^3, Isotropic polarizability\n",
      "Target: 02, MAE: 46.56833 ± 48.21923, epsilon_{HOMO}, eV, Highest occupied molecular orbital energy\n",
      "Target: 03, MAE: 38.17754 ± 51.09161, epsilon_{LUMO}, eV, Lowest unoccupied molecular orbital energy\n",
      "Target: 04, MAE: 73.87022 ± 78.23814, Delta, eV, Gap between HOMO and LUMO\n",
      "Target: 05, MAE: 0.15656 ± 0.34679, < R^2 >, {a_0}^2, Electronic spatial extent\n",
      "Target: 06, MAE: 1.59998 ± 1.64683, ZPVE, eV, Zero point vibrational energy\n",
      "Target: 07, MAE: 11.99382 ± 31.97339, U_0, eV, Internal energy at 0K\n",
      "Target: 08, MAE: 11.94271 ± 22.93234, U, eV, Internal energy at 298.15K\n",
      "Target: 09, MAE: 12.03425 ± 22.43000, H, eV, Enthalpy at 298.15K\n",
      "Target: 10, MAE: 12.88869 ± 25.78860, G, eV, Free energy at 298.15K\n",
      "Target: 11, MAE: 0.03342 ± 0.04913, c_{v}, cal\\(mol K), Heat capacity at 298.15K\n"
     ]
    }
   ],
   "source": [
    "%load_ext autoreload\n",
    "%autoreload 2\n",
    "\n",
    "import os.path as osp\n",
    "\n",
    "import torch\n",
    "\n",
    "from torch_geometric.nn import SchNet\n",
    "from torch_geometric.data import DataLoader\n",
    "from torch_geometric.datasets import QM9\n",
    "\n",
    "path = '../datasets/qm9_geometric_schnet/'\n",
    "dataset = QM9(path)\n",
    "\n",
    "device = torch.device('cuda' if torch.cuda.is_available() else 'cpu')\n",
    "\n",
    "\n",
    "target_dict = {0: 'mu, D, Dipole moment', \n",
    "               1: 'alpha, {a_0}^3, Isotropic polarizability', \n",
    "               2: 'epsilon_{HOMO}, eV, Highest occupied molecular orbital energy',\n",
    "               3: 'epsilon_{LUMO}, eV, Lowest unoccupied molecular orbital energy',\n",
    "               4: 'Delta, eV, Gap between HOMO and LUMO',\n",
    "               5: '< R^2 >, {a_0}^2, Electronic spatial extent',\n",
    "               6: 'ZPVE, eV, Zero point vibrational energy', \n",
    "               7: 'U_0, eV, Internal energy at 0K',\n",
    "               8: 'U, eV, Internal energy at 298.15K', \n",
    "               9: 'H, eV, Enthalpy at 298.15K',\n",
    "               10: 'G, eV, Free energy at 298.15K',  \n",
    "               11: 'c_{v}, cal\\(mol K), Heat capacity at 298.15K'}\n",
    "\n",
    "for target in range(12):\n",
    "    model, datasets = SchNet.from_qm9_pretrained(path, dataset, target)\n",
    "    train_dataset, val_dataset, test_dataset = datasets\n",
    "\n",
    "    model = model.to(device)\n",
    "    loader = DataLoader(test_dataset, batch_size=256)\n",
    "\n",
    "    maes = []\n",
    "    for data in loader:\n",
    "        data = data.to(device)\n",
    "        with torch.no_grad():\n",
    "            pred = model(data.z, data.pos, data.batch)\n",
    "        mae = (pred.view(-1) - data.y[:, target]).abs()\n",
    "        maes.append(mae)\n",
    "\n",
    "    mae = torch.cat(maes, dim=0)\n",
    "\n",
    "    # Report meV instead of eV.\n",
    "    mae = 1000 * mae if target in [2, 3, 4, 6, 7, 8, 9, 10] else mae\n",
    "\n",
    "    print(f'Target: {target:02d}, MAE: {mae.mean():.5f} ± {mae.std():.5f}, {target_dict[target]}')"
   ]
  },
  {
   "cell_type": "code",
   "execution_count": null,
   "id": "fede9cca",
   "metadata": {},
   "outputs": [],
   "source": []
  }
 ],
 "metadata": {
  "kernelspec": {
   "display_name": "Python 3 (ipykernel)",
   "language": "python",
   "name": "python3"
  },
  "language_info": {
   "codemirror_mode": {
    "name": "ipython",
    "version": 3
   },
   "file_extension": ".py",
   "mimetype": "text/x-python",
   "name": "python",
   "nbconvert_exporter": "python",
   "pygments_lexer": "ipython3",
   "version": "3.8.3"
  }
 },
 "nbformat": 4,
 "nbformat_minor": 5
}
