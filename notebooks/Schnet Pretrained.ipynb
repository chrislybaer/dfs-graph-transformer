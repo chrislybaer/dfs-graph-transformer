{
 "cells": [
  {
   "cell_type": "code",
   "execution_count": 2,
   "id": "0ff921ff",
   "metadata": {},
   "outputs": [
    {
     "name": "stdout",
     "output_type": "stream",
     "text": [
      "The autoreload extension is already loaded. To reload it, use:\n",
      "  %reload_ext autoreload\n",
      "Target: 00, MAE: 0.02079 ± 0.03071, mu, D, Dipole moment\n",
      "Target: 00, MAE/CA: 0.20793\n",
      "Target: 01, MAE: 0.12105 ± 0.39941, alpha, {a_0}^3, Isotropic polarizability\n",
      "Target: 01, MAE/CA: 1.21050\n",
      "Target: 02, MAE: 0.04657 ± 0.04822, epsilon_{HOMO}, eV, Highest occupied molecular orbital energy\n",
      "Target: 02, MAE/CA: 1.08298\n",
      "Target: 03, MAE: 0.03818 ± 0.05109, epsilon_{LUMO}, eV, Lowest unoccupied molecular orbital energy\n",
      "Target: 03, MAE/CA: 0.88785\n",
      "Target: 04, MAE: 0.07387 ± 0.07824, Delta, eV, Gap between HOMO and LUMO\n",
      "Target: 04, MAE/CA: 1.71791\n",
      "Target: 05, MAE: 0.15656 ± 0.34679, < R^2 >, {a_0}^2, Electronic spatial extent\n",
      "Target: 05, MAE/CA: 0.13047\n",
      "Target: 06, MAE: 0.00160 ± 0.00165, ZPVE, eV, Zero point vibrational energy\n",
      "Target: 06, MAE/CA: 1.33331\n",
      "Target: 07, MAE: 0.01200 ± 0.03197, U_0, eV, Internal energy at 0K\n",
      "Target: 07, MAE/CA: 0.27908\n",
      "Target: 08, MAE: 0.01195 ± 0.02293, U, eV, Internal energy at 298.15K\n",
      "Target: 08, MAE/CA: 0.27779\n",
      "Target: 09, MAE: 0.01204 ± 0.02243, H, eV, Enthalpy at 298.15K\n",
      "Target: 09, MAE/CA: 0.27993\n",
      "Target: 10, MAE: 0.01289 ± 0.02579, G, eV, Free energy at 298.15K\n",
      "Target: 10, MAE/CA: 0.29983\n",
      "Target: 11, MAE: 0.03342 ± 0.04913, c_{v}, cal\\(mol K), Heat capacity at 298.15K\n",
      "Target: 11, MAE/CA: 0.66847\n"
     ]
    }
   ],
   "source": [
    "%load_ext autoreload\n",
    "%autoreload 2\n",
    "\n",
    "import os.path as osp\n",
    "\n",
    "import torch\n",
    "\n",
    "from torch_geometric.nn import SchNet\n",
    "from torch_geometric.data import DataLoader\n",
    "from torch_geometric.datasets import QM9\n",
    "\n",
    "path = '../datasets/qm9_geometric_schnet/'\n",
    "dataset = QM9(path)\n",
    "\n",
    "device = torch.device('cuda' if torch.cuda.is_available() else 'cpu')\n",
    "\n",
    "\n",
    "target_dict = {0: 'mu, D, Dipole moment', \n",
    "               1: 'alpha, {a_0}^3, Isotropic polarizability', \n",
    "               2: 'epsilon_{HOMO}, eV, Highest occupied molecular orbital energy',\n",
    "               3: 'epsilon_{LUMO}, eV, Lowest unoccupied molecular orbital energy',\n",
    "               4: 'Delta, eV, Gap between HOMO and LUMO',\n",
    "               5: '< R^2 >, {a_0}^2, Electronic spatial extent',\n",
    "               6: 'ZPVE, eV, Zero point vibrational energy', \n",
    "               7: 'U_0, eV, Internal energy at 0K',\n",
    "               8: 'U, eV, Internal energy at 298.15K', \n",
    "               9: 'H, eV, Enthalpy at 298.15K',\n",
    "               10: 'G, eV, Free energy at 298.15K',  \n",
    "               11: 'c_{v}, cal\\(mol K), Heat capacity at 298.15K'}\n",
    "\n",
    "chemical_accuracy = {idx:0.043 for idx in range(12)}\n",
    "chemical_accuracy[0] = 0.1\n",
    "chemical_accuracy[1] = 0.1\n",
    "chemical_accuracy[5] = 1.2\n",
    "chemical_accuracy[6] = 0.0012\n",
    "chemical_accuracy[11] = 0.050\n",
    "\n",
    "for target in range(12):\n",
    "    model, datasets = SchNet.from_qm9_pretrained(path, dataset, target)\n",
    "    train_dataset, val_dataset, test_dataset = datasets\n",
    "\n",
    "    model = model.to(device)\n",
    "    loader = DataLoader(test_dataset, batch_size=256)\n",
    "\n",
    "    maes = []\n",
    "    for data in loader:\n",
    "        data = data.to(device)\n",
    "        with torch.no_grad():\n",
    "            pred = model(data.z, data.pos, data.batch)\n",
    "        mae = (pred.view(-1) - data.y[:, target]).abs()\n",
    "        maes.append(mae)\n",
    "\n",
    "    mae = torch.cat(maes, dim=0)\n",
    "\n",
    "    print(f'Target: {target:02d}, MAE: {mae.mean():.5f} ± {mae.std():.5f}, {target_dict[target]}')\n",
    "    print(f'Target: {target:02d}, MAE/CA: {mae.mean()/chemical_accuracy[target]:.5f}')"
   ]
  },
  {
   "cell_type": "code",
   "execution_count": 3,
   "id": "fede9cca",
   "metadata": {},
   "outputs": [],
   "source": [
    "loader = DataLoader(train_dataset, batch_size=256)"
   ]
  },
  {
   "cell_type": "code",
   "execution_count": 4,
   "id": "e7936e99",
   "metadata": {},
   "outputs": [],
   "source": [
    "data = next(iter(loader))"
   ]
  },
  {
   "cell_type": "code",
   "execution_count": 5,
   "id": "3f893373",
   "metadata": {},
   "outputs": [
    {
     "data": {
      "text/plain": [
       "tensor([-13500.2002,  -9869.9160, -11420.4141, -11003.3154, -10474.6338,\n",
       "        -11476.8008, -12386.4258, -10968.1787, -10904.2373, -10462.1357,\n",
       "        -11510.2188, -12521.2744, -11980.6719, -11948.8447, -12384.2314,\n",
       "        -13466.5732, -10501.5967, -10430.1768, -11509.4023, -11285.2617,\n",
       "        -11543.8369, -12926.9893, -11342.2207,  -9958.5605, -11576.7158,\n",
       "         -9372.0371,  -9990.7021, -10499.7939, -11543.4561, -10598.2959,\n",
       "        -10879.2910, -11915.9258,  -9990.1885, -12522.2549, -10936.3916,\n",
       "        -10501.0518, -11440.4834, -11316.8711, -11881.3984, -11948.5596,\n",
       "         -9521.3730, -10393.1055, -12215.1455, -11890.7637, -12353.0352,\n",
       "        -11577.3203, -12488.8477, -11406.5771, -10970.8096, -12554.3760,\n",
       "        -11001.4766, -12385.2832, -11373.2334, -12417.5645, -12384.1992,\n",
       "        -10498.6953, -12249.3037, -11575.7588, -10531.3691, -11341.7100,\n",
       "        -10432.2412, -11374.2295, -11452.7656, -10501.0742, -10865.5889,\n",
       "         -9901.2715, -13466.6680, -11812.1357, -11510.0947, -11949.8496,\n",
       "        -12455.7705, -11283.9092, -12554.4746, -11543.8857, -11949.2812,\n",
       "        -11916.1992, -11889.9150, -12249.9561, -10532.1543,  -8888.1553,\n",
       "        -12384.3613, -11881.4688, -11979.8916, -11476.9980, -10971.7627,\n",
       "        -12487.7061, -12902.9297,  -9926.1035, -11341.7754, -11884.5098,\n",
       "        -12014.1260, -13467.6738, -11543.0254, -10304.2090, -11980.9492,\n",
       "        -12992.6543,  -9587.7402, -12553.0615, -11543.9180, -11375.3047,\n",
       "        -12352.4023, -11542.9443, -12904.3379, -10466.6113, -10441.0342,\n",
       "        -10904.0498, -12456.7471, -11511.5410, -12489.1553,  -9925.4922,\n",
       "         -9901.0371, -10971.3555, -11407.5166, -11576.1689, -13881.2549,\n",
       "        -11511.4033, -11003.1777,  -9554.8477, -10362.7646, -11946.4561,\n",
       "        -10506.8867, -11476.0107, -10362.8506, -13499.5957,  -8832.0215,\n",
       "        -11374.4688, -11440.0547,  -9958.3613, -11408.3125, -12352.3477,\n",
       "        -11509.8096, -11441.1738, -12489.1221, -12521.1777, -12387.9355,\n",
       "        -11858.4004,  -9673.5654, -11543.4609, -11478.2441, -10565.3740,\n",
       "         -9834.3184,  -7259.3828, -11478.3652,  -9404.9551, -10970.1650,\n",
       "        -10533.1328, -11949.3828, -10500.7969, -11575.7295, -11511.7490,\n",
       "        -10506.8828, -12490.0703, -10566.2236, -13447.1025, -10832.6230,\n",
       "        -11947.1348, -11948.8721, -10878.3369, -10867.3164, -10935.1074,\n",
       "        -11238.2422, -12553.2334, -12788.5400,  -9553.8047,  -9933.2832,\n",
       "        -10598.0996, -12352.9932, -12384.5557, -11915.2783, -12352.8525,\n",
       "        -12490.0996, -11407.0342, -11002.4932,  -9835.7314, -11980.5664,\n",
       "         -9268.6055,  -9925.4697,  -9464.4521, -10938.1182,  -9992.9189,\n",
       "        -11544.1514,  -9892.0635, -11001.4717, -11543.3037, -11303.2744,\n",
       "        -10531.6738, -12959.2500, -11004.6016, -13364.3105, -10564.9961,\n",
       "        -13500.6699, -11543.6953, -11575.6660, -11478.9297,  -9430.9307,\n",
       "        -10967.9014,  -5286.2798, -13531.9131, -11001.5479,  -9733.1934,\n",
       "        -12353.6348, -11438.3643, -11510.5693, -11511.8516, -12521.5176,\n",
       "        -11946.7793, -10441.7246, -11453.9561, -10901.7451,  -9464.0000,\n",
       "        -12320.6074, -12386.0098, -10532.4150, -10968.2500, -10534.0049,\n",
       "         -9396.3838, -10971.4736, -10566.3721,  -9529.1113, -10364.9521,\n",
       "        -10878.7100, -10565.1318, -12354.5010, -10846.2490, -11608.8320,\n",
       "        -11914.6836, -10935.2812, -12487.2314, -10831.6143, -12490.0713,\n",
       "        -10969.3652,  -9464.5508, -11418.6729, -10878.1602, -11576.0352,\n",
       "        -10498.8818, -11474.0605, -11237.1318, -10802.0996, -11946.9287,\n",
       "         -9302.2500, -11317.2588, -11609.1455, -12488.1562, -12926.1689,\n",
       "        -10565.5273, -11923.0449, -12894.6758,  -9555.0527,  -9620.8037,\n",
       "         -9497.3291, -11001.6973, -10598.6270, -11476.1738, -12958.5527,\n",
       "        -10440.5986])"
      ]
     },
     "execution_count": 5,
     "metadata": {},
     "output_type": "execute_result"
    }
   ],
   "source": [
    "data.y[:, 7]"
   ]
  }
 ],
 "metadata": {
  "kernelspec": {
   "display_name": "Python 3 (ipykernel)",
   "language": "python",
   "name": "python3"
  },
  "language_info": {
   "codemirror_mode": {
    "name": "ipython",
    "version": 3
   },
   "file_extension": ".py",
   "mimetype": "text/x-python",
   "name": "python",
   "nbconvert_exporter": "python",
   "pygments_lexer": "ipython3",
   "version": "3.8.3"
  }
 },
 "nbformat": 4,
 "nbformat_minor": 5
}
