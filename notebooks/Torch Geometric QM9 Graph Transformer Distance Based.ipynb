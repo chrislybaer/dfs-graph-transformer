{
 "cells": [
  {
   "cell_type": "code",
   "execution_count": 1,
   "id": "0ff921ff",
   "metadata": {},
   "outputs": [],
   "source": [
    "%load_ext autoreload\n",
    "%autoreload 2\n",
    "import torch\n",
    "import torch.nn as nn\n",
    "import torch.nn.functional as F\n",
    "import torch.optim as optim\n",
    "from torch_geometric.datasets.qm9 import QM9\n",
    "import torch_geometric.datasets.qm9 as qm9\n",
    "from torch_geometric.data import DataLoader\n",
    "from torch.utils.data import Dataset\n",
    "\n",
    "import torch_geometric.nn as tgnn\n",
    "from torch_scatter import scatter\n",
    "import tqdm\n",
    "import numpy as np\n",
    "import wandb\n",
    "import json\n",
    "import os"
   ]
  },
  {
   "cell_type": "code",
   "execution_count": 2,
   "id": "2fdf4001",
   "metadata": {},
   "outputs": [],
   "source": [
    "from torch_geometric.nn.models.schnet import GaussianSmearing"
   ]
  },
  {
   "cell_type": "code",
   "execution_count": 3,
   "id": "2c8b07c8",
   "metadata": {},
   "outputs": [],
   "source": [
    "# [0] Reports MAE in eV / Chemical Accuracy of the target variable U0. \n",
    "# The chemical accuracy of U0 is 0.043 see [1, Table 5].\n",
    "\n",
    "# Reproduced table [0]\n",
    "# MXMNet: 0.00590/0.043 = 0.13720930232558143\n",
    "# HMGNN:  0.00592/0.043 = 0.13767441860465118\n",
    "# MPNN:   0.01935/0.043 = 0.45\n",
    "# KRR:    0.0251 /0.043 = 0.5837209302325582\n",
    "# [0] https://paperswithcode.com/sota/formation-energy-on-qm9\n",
    "# [1] Neural Message Passing for Quantum Chemistry, https://arxiv.org/pdf/1704.01212v2.pdf\n",
    "# MXMNet https://arxiv.org/pdf/2011.07457v1.pdf\n",
    "# HMGNN https://arxiv.org/pdf/2009.12710v1.pdf\n",
    "# MPNN https://arxiv.org/pdf/1704.01212v2.pdf\n",
    "# KRR HDAD kernel ridge regression https://arxiv.org/pdf/1702.05532.pdf\n",
    "# HDAD means HDAD (Histogram of distances, anglesand dihedral angles)\n",
    "\n",
    "# [2] Reports the average value of MAE / Chemical Accuracy of over all targets\n",
    "# [2] https://paperswithcode.com/sota/drug-discovery-on-qm9\n",
    "target_dict = {0: 'mu, D, Dipole moment', \n",
    "               1: 'alpha, {a_0}^3, Isotropic polarizability', \n",
    "               2: 'epsilon_{HOMO}, eV, Highest occupied molecular orbital energy',\n",
    "               3: 'epsilon_{LUMO}, eV, Lowest unoccupied molecular orbital energy',\n",
    "               4: 'Delta, eV, Gap between HOMO and LUMO',\n",
    "               5: '< R^2 >, {a_0}^2, Electronic spatial extent',\n",
    "               6: 'ZPVE, eV, Zero point vibrational energy', \n",
    "               7: 'U_0, eV, Internal energy at 0K',\n",
    "               8: 'U, eV, Internal energy at 298.15K', \n",
    "               9: 'H, eV, Enthalpy at 298.15K',\n",
    "               10: 'G, eV, Free energy at 298.15K',  \n",
    "               11: 'c_{v}, cal\\(mol K), Heat capacity at 298.15K'}\n",
    "\n",
    "chemical_accuracy = {idx:0.043 for idx in range(12)}\n",
    "chemical_accuracy[0] = 0.1\n",
    "chemical_accuracy[1] = 0.1\n",
    "chemical_accuracy[5] = 1.2\n",
    "chemical_accuracy[6] = 0.0012\n",
    "chemical_accuracy[11] = 0.050"
   ]
  },
  {
   "cell_type": "code",
   "execution_count": 4,
   "id": "c9c1b00b",
   "metadata": {},
   "outputs": [
    {
     "name": "stderr",
     "output_type": "stream",
     "text": [
      "Failed to detect the name of this notebook, you can set it manually with the WANDB_NOTEBOOK_NAME environment variable to enable code saving.\n",
      "\u001b[34m\u001b[1mwandb\u001b[0m: Currently logged in as: \u001b[33mchrisxx\u001b[0m (use `wandb login --relogin` to force relogin)\n",
      "\u001b[34m\u001b[1mwandb\u001b[0m: wandb version 0.11.0 is available!  To upgrade, please run:\n",
      "\u001b[34m\u001b[1mwandb\u001b[0m:  $ pip install wandb --upgrade\n"
     ]
    },
    {
     "data": {
      "text/html": [
       "\n",
       "                Tracking run with wandb version 0.10.33<br/>\n",
       "                Syncing run <strong style=\"color:#cdcd00\">silver-dragon-29</strong> to <a href=\"https://wandb.ai\" target=\"_blank\">Weights & Biases</a> <a href=\"https://docs.wandb.com/integrations/jupyter.html\" target=\"_blank\">(Documentation)</a>.<br/>\n",
       "                Project page: <a href=\"https://wandb.ai/chrisxx/QM9-transformer\" target=\"_blank\">https://wandb.ai/chrisxx/QM9-transformer</a><br/>\n",
       "                Run page: <a href=\"https://wandb.ai/chrisxx/QM9-transformer/runs/qaa7yzww\" target=\"_blank\">https://wandb.ai/chrisxx/QM9-transformer/runs/qaa7yzww</a><br/>\n",
       "                Run data is saved locally in <code>/home/chrisw/Documents/projects/2021/graph-transformer/notebooks/wandb/run-20210721_151742-qaa7yzww</code><br/><br/>\n",
       "            "
      ],
      "text/plain": [
       "<IPython.core.display.HTML object>"
      ]
     },
     "metadata": {},
     "output_type": "display_data"
    }
   ],
   "source": [
    "wandb.init(project='QM9-transformer', entity='chrisxx')\n",
    "config = wandb.config\n",
    "config.lr = 0.0003*0.1\n",
    "config.n_epochs = 10000\n",
    "config.patience = 5\n",
    "config.factor = 0.95\n",
    "config.minimal_lr = 6e-8\n",
    "config.target_idx = 7\n",
    "config.batch_size = 40\n",
    "config.n_train = 110000\n",
    "config.n_valid = 10000\n",
    "config.target_ratio = 0.1\n",
    "config.store_starting_from_ratio = 1\n",
    "config.required_improvement = 0.8\n",
    "config.nlayers=6\n",
    "config.nhead=8\n",
    "config.d_model=256\n",
    "config.dim_feedforward=4*config.d_model\n",
    "config.model_dir = '../models/qm9/gtransformer_distbased/'\n",
    "#config.dfs_codes = '../datasets/qm9_geometric/min_dfs_codes.json'\n",
    "config.dfs_codes = '../datasets/qm9_geometric_work/dist10_min_dfs_codes.json'\n",
    "config.num_workers = 4"
   ]
  },
  {
   "cell_type": "code",
   "execution_count": 5,
   "id": "2606045f",
   "metadata": {},
   "outputs": [],
   "source": [
    "target_idx = config.target_idx"
   ]
  },
  {
   "cell_type": "markdown",
   "id": "ca47edd3",
   "metadata": {},
   "source": [
    "# Dataset"
   ]
  },
  {
   "cell_type": "code",
   "execution_count": 6,
   "id": "53ec2893",
   "metadata": {},
   "outputs": [],
   "source": [
    "def preprocess_vertex_features(features):\n",
    "    feat_np = features.detach().cpu().numpy()\n",
    "    # make atomic number a one hot\n",
    "    atomic_number = nn.functional.one_hot(features[:, 5].long(), 100)\n",
    "    # make num_h a one hot\n",
    "    num_h = nn.functional.one_hot(features[:, -1].long(), 9)\n",
    "    return torch.cat((features[:, :5], features[:, 6:-1], atomic_number, num_h), axis=1)\n",
    "    "
   ]
  },
  {
   "cell_type": "code",
   "execution_count": 7,
   "id": "e179c3f0",
   "metadata": {},
   "outputs": [],
   "source": [
    "class QM9DistDFSCodes(Dataset):\n",
    "    def __init__(self, dfs_codes, qm9_dataset, \n",
    "                 target_idx, vert_feats = ['x'], cutoff=10., num_gaussians=50,\n",
    "                 vertex_transform=None):\n",
    "        self.cutoff = cutoff\n",
    "        self.num_gaussians = num_gaussians\n",
    "        self.dfs_codes = dfs_codes\n",
    "        self.qm9_dataset = qm9_dataset\n",
    "        self.target_idx = target_idx\n",
    "        self.vertex_features = vert_feats\n",
    "        self.max_vert = 29\n",
    "        self.max_len = np.max([len(d['min_dfs_code']) for d in self.dfs_codes.values()])\n",
    "        \n",
    "        self.feat_dim = 2 + num_gaussians # 2 for the dfs indices\n",
    "        for feat in vert_feats: \n",
    "            self.feat_dim += 2*qm9_dataset[0][feat].shape[1]\n",
    "        self.vertex_transform = vertex_transform\n",
    "        self.edge_transform = GaussianSmearing(0, cutoff, num_gaussians)\n",
    "        self.vert_feats = vert_feats\n",
    "\n",
    "    def __len__(self):\n",
    "        return len(self.qm9_dataset)\n",
    "\n",
    "    def __getitem__(self, idx):\n",
    "        \"\"\"\n",
    "        graph_repr: [batch_size, max_edges, 2 + n_vert_feat + n_edge_feat + n_vert_feat]\n",
    "        return vertex_features, graph_repr, target\n",
    "        \"\"\"\n",
    "        data = self.qm9_dataset[idx]\n",
    "        code_dict = self.dfs_codes[data.name]\n",
    "        code = code_dict['min_dfs_code']\n",
    "        \n",
    "        vert_feats = [data[k].detach().cpu().numpy() for k in self.vert_feats]\n",
    "        vert_feats = np.concatenate(vert_feats, axis=1)\n",
    "        row, col = tgnn.radius_graph(data.pos, r=self.cutoff)\n",
    "        edge_weights = (data.pos[row] - data.pos[col]).norm(dim=-1)\n",
    "        edge_feats = self.edge_transform(edge_weights).detach().cpu().numpy()\n",
    "        \n",
    "        d = {'dfs_from':np.zeros(self.max_len), \n",
    "             'dfs_to':np.zeros(self.max_len),\n",
    "             'feat_from':np.zeros((self.max_len, vert_feats.shape[1])), \n",
    "             'feat_to':np.zeros((self.max_len, vert_feats.shape[1])), \n",
    "             'feat_edge':np.zeros((self.max_len, edge_feats.shape[1])),\n",
    "             'n_edges':len(code)*np.ones((1,), dtype=np.int32),\n",
    "             'z':np.zeros(self.max_vert)}\n",
    "        \n",
    "        for idx, e_tuple in enumerate(code):\n",
    "            e_idx = e_tuple[-2]\n",
    "            from_idx = e_tuple[-3]\n",
    "            to_idx = e_tuple[-1]\n",
    "            d['dfs_from'][idx] = e_tuple[0]\n",
    "            d['dfs_to'][idx] = e_tuple[1]\n",
    "            d['feat_from'][idx] = vert_feats[from_idx]\n",
    "            d['feat_to'][idx] = vert_feats[to_idx]\n",
    "            d['feat_edge'][idx] = edge_feats[e_idx]      \n",
    "        \n",
    "        d['z'][:len(data.z)] = data.z.detach().cpu().numpy()\n",
    "        \n",
    "        d_tensors = {}\n",
    "        d_tensors['dfs_from'] = torch.IntTensor(d['dfs_from'])\n",
    "        d_tensors['dfs_to'] = torch.IntTensor(d['dfs_to'])\n",
    "        d_tensors['feat_from'] = torch.Tensor(d['feat_from'])\n",
    "        d_tensors['feat_to'] = torch.Tensor(d['feat_to'])\n",
    "        d_tensors['feat_edge'] = torch.Tensor(d['feat_edge'])\n",
    "        d_tensors['z'] = torch.IntTensor(d['z'])\n",
    "        \n",
    "        if self.vertex_transform:\n",
    "            d_tensors['feat_from'] = self.vertex_transform(d_tensors['feat_from'])\n",
    "            d_tensors['feat_to'] = self.vertex_transform(d_tensors['feat_to'])\n",
    "        \n",
    "        d_tensors['target'] = data.y[:, self.target_idx]\n",
    "        return d_tensors\n",
    "    \n",
    "    def shuffle(self):\n",
    "        self.qm9_dataset = self.qm9_dataset.shuffle()\n",
    "        return self\n"
   ]
  },
  {
   "cell_type": "code",
   "execution_count": 8,
   "id": "a3616777",
   "metadata": {},
   "outputs": [],
   "source": [
    "with open(config.dfs_codes, 'r') as f:\n",
    "    dfs_codes = json.load(f)"
   ]
  },
  {
   "cell_type": "code",
   "execution_count": 9,
   "id": "130a6092",
   "metadata": {},
   "outputs": [],
   "source": [
    "dset = QM9('../datasets/qm9_geometric_work/')"
   ]
  },
  {
   "cell_type": "code",
   "execution_count": 10,
   "id": "fd471b78",
   "metadata": {},
   "outputs": [],
   "source": [
    "dset = dset.shuffle()\n",
    "train_qm9 = DataLoader(dset[:config.n_train], batch_size=config.batch_size)\n",
    "train_dataset = QM9DistDFSCodes(dfs_codes, dset[:config.n_train], target_idx, vertex_transform=preprocess_vertex_features)\n",
    "valid_dataset = QM9DistDFSCodes(dfs_codes, dset[config.n_train:config.n_train+config.n_valid], target_idx, vertex_transform=preprocess_vertex_features) \n",
    "test_dataset = QM9DistDFSCodes(dfs_codes, dset[config.n_train+config.n_valid:], target_idx, vertex_transform=preprocess_vertex_features) \n",
    "config.n_test = len(test_dataset)\n",
    "train_loader = DataLoader(train_dataset, batch_size=config.batch_size, shuffle=True, pin_memory=True, num_workers=config.num_workers)\n",
    "valid_loader = DataLoader(valid_dataset, batch_size=config.batch_size, num_workers=config.num_workers)\n",
    "test_loader = DataLoader(test_dataset, batch_size=32, num_workers=config.num_workers)"
   ]
  },
  {
   "cell_type": "code",
   "execution_count": 11,
   "id": "e6a94cfb",
   "metadata": {},
   "outputs": [],
   "source": [
    "os.makedirs(config.model_dir, exist_ok=True)"
   ]
  },
  {
   "cell_type": "code",
   "execution_count": 12,
   "id": "bb6baac6",
   "metadata": {},
   "outputs": [],
   "source": [
    "torch.save(dset.indices(), config.model_dir+'dataset_indices.pt')"
   ]
  },
  {
   "cell_type": "code",
   "execution_count": 13,
   "id": "7be0c442",
   "metadata": {},
   "outputs": [],
   "source": [
    "ngpu=1\n",
    "device = torch.device('cuda:0' if (torch.cuda.is_available() and ngpu > 0) else 'cpu')"
   ]
  },
  {
   "cell_type": "markdown",
   "id": "12914486",
   "metadata": {},
   "source": [
    "# Model"
   ]
  },
  {
   "cell_type": "code",
   "execution_count": 14,
   "id": "64f544b5",
   "metadata": {},
   "outputs": [],
   "source": [
    "class MoleculeTransformer(nn.Module):\n",
    "    def __init__(self, vert_dim, edge_dim, d_model=512, nhead=8, nlayers=4, dim_feedforward=2048, mean=None, std=None, atomref=None,\n",
    "                 max_vertices=29, max_edges=train_dataset.max_len):\n",
    "        \"\"\"\n",
    "        transfomer model is some type of transformer that \n",
    "        \"\"\"\n",
    "        super(MoleculeTransformer, self).__init__()\n",
    "        # atomic masses could be used as additional features\n",
    "        # see https://github.com/rusty1s/pytorch_geometric/blob/97d3177dc43858f66c07bb66d7dc12506b986199/torch_geometric/nn/models/schnet.py#L113\n",
    "        self.vert_dim = vert_dim\n",
    "        self.edge_dim = edge_dim\n",
    "        self.d_model = d_model\n",
    "        self.nhead = nhead\n",
    "        self.nlayers = nlayers\n",
    "        self.dim_feedforward = dim_feedforward\n",
    "        self.max_vertices = max_vertices\n",
    "        self.max_edges = max_edges\n",
    "        \n",
    "        \n",
    "        self.emb_dfs = nn.Embedding(self.max_vertices, d_model // 2)\n",
    "        self.emb_vertex = nn.Linear(self.vert_dim, d_model // 2)\n",
    "        self.emb_edge = nn.Linear(self.edge_dim, d_model)        \n",
    "        \n",
    "        self.cls_token = nn.Parameter(torch.empty(1, 1, self.d_model), requires_grad=True)\n",
    "        self.enc = nn.TransformerEncoder(nn.TransformerEncoderLayer(d_model=self.d_model, nhead=self.nhead, dim_feedforward=self.dim_feedforward), self.nlayers)\n",
    "        \n",
    "        self.fc_out = nn.Linear(self.d_model, 1)\n",
    "        \n",
    "        self.mean = mean\n",
    "        self.std = std\n",
    "        self.register_buffer('initial_atomref', atomref)\n",
    "        self.atomref = None\n",
    "        if atomref is not None:\n",
    "            self.atomref = nn.Embedding(100, 1)\n",
    "            self.atomref.weight.data.copy_(atomref)\n",
    "            \n",
    "        nn.init.normal_(self.cls_token, mean=.0, std=.5)\n",
    "    \n",
    "    def forward(self, data):\n",
    "        z = data['z']\n",
    "        dfs_from_emb = self.emb_dfs(data['dfs_from'])\n",
    "        dfs_to_emb = self.emb_dfs(data['dfs_to'])\n",
    "        dfs_emb = torch.cat((dfs_from_emb, dfs_to_emb), -1)\n",
    "        from_emb = self.emb_vertex(data['feat_from'])\n",
    "        to_emb = self.emb_vertex(data['feat_to'])\n",
    "        feat_emb = torch.cat((from_emb, to_emb), -1)\n",
    "        edge_emb = self.emb_edge(data['feat_edge'])\n",
    "        batch = dfs_emb + feat_emb + edge_emb # batch_dim x seq_dim x n_model\n",
    "        batch = batch.permute(1, 0, 2) # seq_dim x batch_dim x n_model\n",
    "        batch = torch.cat((self.cls_token.expand(-1, batch.shape[1], -1), batch), dim=0)\n",
    "        \n",
    "        transformer_out = self.enc(batch)\n",
    "        out = self.fc_out(transformer_out[0]) \n",
    "        \n",
    "        # tricks from Schnet\n",
    "        if self.mean is not None and self.std is not None:\n",
    "            out = out * self.std + self.mean\n",
    "        \n",
    "        if self.atomref is not None:\n",
    "            out = out + torch.sum(self.atomref(z), axis=1)\n",
    "        \n",
    "        return out\n",
    "        \n",
    "        "
   ]
  },
  {
   "cell_type": "code",
   "execution_count": 15,
   "id": "8d7c2677",
   "metadata": {},
   "outputs": [],
   "source": [
    "target_vec = []"
   ]
  },
  {
   "cell_type": "code",
   "execution_count": 16,
   "id": "786e4122",
   "metadata": {},
   "outputs": [],
   "source": [
    "# based on https://schnetpack.readthedocs.io/en/stable/tutorials/tutorial_02_qm9.html\n",
    "# and https://pytorch-geometric.readthedocs.io/en/latest/_modules/torch_geometric/nn/models/schnet.html#SchNet\n",
    "for data in train_qm9:\n",
    "    data = data.to(device)\n",
    "    atomU0s = torch.tensor(qm9.atomrefs[target_idx], device=device)[torch.argmax(data.x[:, :5], axis=1)]\n",
    "    target_modular = scatter(atomU0s, data.batch, dim=-1, reduce='sum')\n",
    "    target_vec += [(data.y[:, target_idx] - target_modular).detach().cpu().numpy()]\n",
    "target_vec = np.concatenate(target_vec, axis=0)"
   ]
  },
  {
   "cell_type": "code",
   "execution_count": 17,
   "id": "8c96e40f",
   "metadata": {},
   "outputs": [],
   "source": [
    "target_mean = np.mean(target_vec)\n",
    "target_std = np.std(target_vec)"
   ]
  },
  {
   "cell_type": "code",
   "execution_count": 18,
   "id": "a80a7aba",
   "metadata": {},
   "outputs": [],
   "source": [
    "d = next(iter(train_loader))\n",
    "vert_dim = d['feat_from'].shape[-1]\n",
    "edge_dim = d['feat_edge'].shape[-1]\n",
    "model = MoleculeTransformer(vert_dim, edge_dim, nlayers=config.nlayers, nhead=config.nhead, \n",
    "                            d_model=config.d_model, dim_feedforward=config.dim_feedforward, \n",
    "                            atomref=dset.atomref(target_idx), mean=target_mean, std=target_std)\n",
    "\n",
    "loss = nn.MSELoss(reduction='mean')\n",
    "optimizer = optim.Adam(model.parameters(), lr=config.lr)\n",
    "lr_scheduler = optim.lr_scheduler.ReduceLROnPlateau(optimizer, mode='min', verbose=True, patience=config.patience, factor=config.factor)"
   ]
  },
  {
   "cell_type": "markdown",
   "id": "28549be9",
   "metadata": {},
   "source": [
    "# Training"
   ]
  },
  {
   "cell_type": "code",
   "execution_count": 19,
   "id": "66509662",
   "metadata": {},
   "outputs": [],
   "source": [
    "model = model.to(device)"
   ]
  },
  {
   "cell_type": "code",
   "execution_count": null,
   "id": "0e4a46ad",
   "metadata": {},
   "outputs": [
    {
     "name": "stderr",
     "output_type": "stream",
     "text": [
      "[W pthreadpool-cpp.cc:90] Warning: Leaking Caffe2 thread-pool after fork. (function pthreadpool)\n",
      "[W pthreadpool-cpp.cc:90] Warning: Leaking Caffe2 thread-pool after fork. (function pthreadpool)\n",
      "[W pthreadpool-cpp.cc:90] Warning: Leaking Caffe2 thread-pool after fork. (function pthreadpool)\n",
      "[W pthreadpool-cpp.cc:90] Warning: Leaking Caffe2 thread-pool after fork. (function pthreadpool)\n",
      "Epoch 1: MAE/CA 34.773002: : 2750it [13:08,  3.46it/s][W pthreadpool-cpp.cc:90] Warning: Leaking Caffe2 thread-pool after fork. (function pthreadpool)\n",
      "Epoch 1: MAE/CA 34.773002: : 2750it [13:08,  3.49it/s]\n",
      "[W pthreadpool-cpp.cc:90] Warning: Leaking Caffe2 thread-pool after fork. (function pthreadpool)\n",
      "[W pthreadpool-cpp.cc:90] Warning: Leaking Caffe2 thread-pool after fork. (function pthreadpool)\n",
      "[W pthreadpool-cpp.cc:90] Warning: Leaking Caffe2 thread-pool after fork. (function pthreadpool)\n",
      "[W pthreadpool-cpp.cc:90] Warning: Leaking Caffe2 thread-pool after fork. (function pthreadpool)\n",
      "Epoch 2: MAE/CA 22.444043: : 2750it [13:01,  3.59it/s][W pthreadpool-cpp.cc:90] Warning: Leaking Caffe2 thread-pool after fork. (function pthreadpool)\n",
      "Epoch 2: MAE/CA 22.444043: : 2750it [13:01,  3.52it/s]\n",
      "[W pthreadpool-cpp.cc:90] Warning: Leaking Caffe2 thread-pool after fork. (function pthreadpool)\n",
      "[W pthreadpool-cpp.cc:90] Warning: Leaking Caffe2 thread-pool after fork. (function pthreadpool)\n",
      "[W pthreadpool-cpp.cc:90] Warning: Leaking Caffe2 thread-pool after fork. (function pthreadpool)\n",
      "[W pthreadpool-cpp.cc:90] Warning: Leaking Caffe2 thread-pool after fork. (function pthreadpool)\n",
      "Epoch 3: MAE/CA 19.555616: : 2750it [12:45,  3.60it/s][W pthreadpool-cpp.cc:90] Warning: Leaking Caffe2 thread-pool after fork. (function pthreadpool)\n",
      "Epoch 3: MAE/CA 19.555616: : 2750it [12:45,  3.59it/s]\n",
      "[W pthreadpool-cpp.cc:90] Warning: Leaking Caffe2 thread-pool after fork. (function pthreadpool)\n",
      "[W pthreadpool-cpp.cc:90] Warning: Leaking Caffe2 thread-pool after fork. (function pthreadpool)\n",
      "[W pthreadpool-cpp.cc:90] Warning: Leaking Caffe2 thread-pool after fork. (function pthreadpool)\n",
      "[W pthreadpool-cpp.cc:90] Warning: Leaking Caffe2 thread-pool after fork. (function pthreadpool)\n",
      "Epoch 4: MAE/CA 17.846351: : 2750it [12:44,  3.60it/s]\n",
      "[W pthreadpool-cpp.cc:90] Warning: Leaking Caffe2 thread-pool after fork. (function pthreadpool)\n",
      "[W pthreadpool-cpp.cc:90] Warning: Leaking Caffe2 thread-pool after fork. (function pthreadpool)\n",
      "[W pthreadpool-cpp.cc:90] Warning: Leaking Caffe2 thread-pool after fork. (function pthreadpool)\n",
      "[W pthreadpool-cpp.cc:90] Warning: Leaking Caffe2 thread-pool after fork. (function pthreadpool)\n",
      "Epoch 5: MAE/CA 16.727406: : 2750it [12:46,  3.59it/s]\n",
      "[W pthreadpool-cpp.cc:90] Warning: Leaking Caffe2 thread-pool after fork. (function pthreadpool)\n",
      "[W pthreadpool-cpp.cc:90] Warning: Leaking Caffe2 thread-pool after fork. (function pthreadpool)\n",
      "[W pthreadpool-cpp.cc:90] Warning: Leaking Caffe2 thread-pool after fork. (function pthreadpool)\n",
      "[W pthreadpool-cpp.cc:90] Warning: Leaking Caffe2 thread-pool after fork. (function pthreadpool)\n",
      "Epoch 6: MAE/CA 15.854040: : 2750it [12:45,  3.58it/s][W pthreadpool-cpp.cc:90] Warning: Leaking Caffe2 thread-pool after fork. (function pthreadpool)\n",
      "Epoch 6: MAE/CA 15.854040: : 2750it [12:45,  3.59it/s]\n",
      "[W pthreadpool-cpp.cc:90] Warning: Leaking Caffe2 thread-pool after fork. (function pthreadpool)\n",
      "[W pthreadpool-cpp.cc:90] Warning: Leaking Caffe2 thread-pool after fork. (function pthreadpool)\n",
      "[W pthreadpool-cpp.cc:90] Warning: Leaking Caffe2 thread-pool after fork. (function pthreadpool)\n",
      "[W pthreadpool-cpp.cc:90] Warning: Leaking Caffe2 thread-pool after fork. (function pthreadpool)\n",
      "Epoch 7: MAE/CA 15.097125: : 2750it [11:46,  4.15it/s][W pthreadpool-cpp.cc:90] Warning: Leaking Caffe2 thread-pool after fork. (function pthreadpool)\n",
      "Epoch 7: MAE/CA 15.097125: : 2750it [11:46,  3.89it/s]\n",
      "[W pthreadpool-cpp.cc:90] Warning: Leaking Caffe2 thread-pool after fork. (function pthreadpool)\n",
      "[W pthreadpool-cpp.cc:90] Warning: Leaking Caffe2 thread-pool after fork. (function pthreadpool)\n",
      "[W pthreadpool-cpp.cc:90] Warning: Leaking Caffe2 thread-pool after fork. (function pthreadpool)\n",
      "[W pthreadpool-cpp.cc:90] Warning: Leaking Caffe2 thread-pool after fork. (function pthreadpool)\n",
      "Epoch 8: MAE/CA 14.141336: : 2750it [11:17,  4.06it/s]\n",
      "[W pthreadpool-cpp.cc:90] Warning: Leaking Caffe2 thread-pool after fork. (function pthreadpool)\n",
      "[W pthreadpool-cpp.cc:90] Warning: Leaking Caffe2 thread-pool after fork. (function pthreadpool)\n",
      "[W pthreadpool-cpp.cc:90] Warning: Leaking Caffe2 thread-pool after fork. (function pthreadpool)\n",
      "[W pthreadpool-cpp.cc:90] Warning: Leaking Caffe2 thread-pool after fork. (function pthreadpool)\n",
      "Epoch 9: MAE/CA 14.095036: : 214it [00:58,  3.50it/s]"
     ]
    }
   ],
   "source": [
    "loss_hist = []\n",
    "min_mae = config.store_starting_from_ratio\n",
    "try:\n",
    "    # For each epoch\n",
    "    for epoch in range(config.n_epochs):\n",
    "        # For each batch in the dataloader\n",
    "        pbar = tqdm.tqdm(enumerate(train_loader, 0))\n",
    "        epoch_loss = 0\n",
    "        for i, data in pbar:\n",
    "            model.zero_grad()\n",
    "            data = {key:d.to(device) for key, d in data.items()} \n",
    "            target = data['target']\n",
    "            prediction = model(data)\n",
    "            output = loss(prediction.view(-1), target.view(-1))\n",
    "            mae = (prediction.view(-1) - target.view(-1)).abs().mean()\n",
    "            epoch_loss = (epoch_loss*i + mae.item())/(i+1)\n",
    "            \n",
    "            pbar.set_description('Epoch %d: MAE/CA %2.6f'%(epoch+1, epoch_loss/chemical_accuracy[target_idx]))\n",
    "            output.backward()\n",
    "            optimizer.step()\n",
    "            wandb.log({'MSE': output.item()})\n",
    "        curr_lr = list(optimizer.param_groups)[0]['lr']\n",
    "        wandb.log({'MAE':epoch_loss, \n",
    "                   'MAE/CA':epoch_loss/chemical_accuracy[target_idx],\n",
    "                   'learning rate':curr_lr})\n",
    "        lr_scheduler.step(epoch_loss)\n",
    "        loss_hist += [epoch_loss] \n",
    "\n",
    "        if epoch_loss/chemical_accuracy[target_idx] < min_mae*config.required_improvement:\n",
    "            min_mae = epoch_loss/chemical_accuracy[target_idx]\n",
    "            torch.save(model.state_dict(), config.model_dir+'schnet_epoch%d.pt'%(epoch+1))\n",
    "        if curr_lr < config.minimal_lr:\n",
    "            break\n",
    "        if epoch_loss/chemical_accuracy[target_idx] < config.target_ratio:\n",
    "            break\n",
    "\n",
    "except KeyboardInterrupt:\n",
    "    print('keyboard interrupt caught')\n",
    "    torch.save(model.state_dict(), config.model_dir+'schnet_epoch%d.pt'%(epoch+1))"
   ]
  },
  {
   "cell_type": "code",
   "execution_count": null,
   "id": "689f8c05",
   "metadata": {},
   "outputs": [],
   "source": [
    "pbar = tqdm.tqdm(enumerate(test_loader, 0))\n",
    "epoch_loss = 0\n",
    "maes = []\n",
    "for i, data in pbar:\n",
    "    data = {key:d.to(device) for key, d in data.items()} \n",
    "    target = data['target']\n",
    "    prediction = model(data)\n",
    "    mae = (prediction.view(-1) - target.view(-1)).abs()\n",
    "    maes += [mae.detach().cpu()]\n",
    "maes = torch.cat(maes, dim=0)\n",
    "mae = maes.mean().item()\n",
    "print(mae, mae/chemical_accuracy[target_idx])\n",
    "wandb.log({'TEST MAE':mae, 'TEST MAE/CA':mae/chemical_accuracy[target_idx]})\n"
   ]
  },
  {
   "cell_type": "code",
   "execution_count": null,
   "id": "2f0dd695",
   "metadata": {},
   "outputs": [],
   "source": []
  },
  {
   "cell_type": "code",
   "execution_count": null,
   "id": "bcb6c4e7",
   "metadata": {},
   "outputs": [],
   "source": []
  },
  {
   "cell_type": "code",
   "execution_count": null,
   "id": "8a007a39",
   "metadata": {},
   "outputs": [],
   "source": []
  }
 ],
 "metadata": {
  "kernelspec": {
   "display_name": "Python 3 (ipykernel)",
   "language": "python",
   "name": "python3"
  },
  "language_info": {
   "codemirror_mode": {
    "name": "ipython",
    "version": 3
   },
   "file_extension": ".py",
   "mimetype": "text/x-python",
   "name": "python",
   "nbconvert_exporter": "python",
   "pygments_lexer": "ipython3",
   "version": "3.8.3"
  }
 },
 "nbformat": 4,
 "nbformat_minor": 5
}
