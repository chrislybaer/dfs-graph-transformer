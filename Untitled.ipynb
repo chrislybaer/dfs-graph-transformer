{
 "cells": [
  {
   "cell_type": "code",
   "execution_count": 2,
   "id": "0b829c90",
   "metadata": {},
   "outputs": [],
   "source": [
    "import numpy as np\n",
    "import json \n",
    "import pickle\n",
    "import tqdm"
   ]
  },
  {
   "cell_type": "code",
   "execution_count": null,
   "id": "c7fb871f",
   "metadata": {},
   "outputs": [
    {
     "name": "stderr",
     "output_type": "stream",
     "text": [
      "  3%|█████▍                                                                                                                                                                      | 2/64 [08:52<4:35:39, 266.77s/it]"
     ]
    }
   ],
   "source": [
    "for i in tqdm.tqdm(range(1,65)):\n",
    "    with open('results/pubchem/amd-server/noH/new/%d/data_split%d.pkl'%(i, i-1), 'rb') as f:\n",
    "        pkl_dict = pickle.load(f)\n",
    "    json_dict = {}\n",
    "    for smiles, features in pkl_dict.items():\n",
    "        json_dict[smiles] = {key:value.tolist() for key, value in features.items()}\n",
    "    with open('results/pubchem/amd-server/noH/new/%d/data_split%d.json'%(i, i-1), 'w') as f:\n",
    "        json.dump(json_dict, f)\n",
    "    del pkl_dict\n",
    "    del json_dict"
   ]
  },
  {
   "cell_type": "code",
   "execution_count": 10,
   "id": "0ae5c96b",
   "metadata": {},
   "outputs": [
    {
     "name": "stderr",
     "output_type": "stream",
     "text": [
      "100%|██████████████████████████████████████████████████████████████████████████████████████████████████████████████████████████████████████████████████████████████████████████████| 64/64 [18:28<00:00, 17.32s/it]\n"
     ]
    }
   ],
   "source": [
    "for i in tqdm.tqdm(range(1,65)):\n",
    "    with open('results/pubchem/amd-server/noH/new/%d/min_dfs_codes_split%d.json'%(i, i-1), 'r') as f:\n",
    "        json_dict = json.load(f)\n",
    "    pkl_dict = {}\n",
    "    for smiles, code in json_dict.items():\n",
    "        pkl_dict[smiles] = {'min_dfs_code': np.asarray(code['min_dfs_code']),\n",
    "                            'dfs_index':np.asarray(code['dfs_index'], dtype=np.int64)}\n",
    "    with open('results/pubchem/amd-server/noH/new/%d/min_dfs_codes_split%d.pkl'%(i, i-1), 'wb') as f:\n",
    "        pickle.dump(pkl_dict, f)\n",
    "    "
   ]
  },
  {
   "cell_type": "code",
   "execution_count": 14,
   "id": "e5804a46",
   "metadata": {},
   "outputs": [
    {
     "ename": "KeyboardInterrupt",
     "evalue": "",
     "output_type": "error",
     "traceback": [
      "\u001b[0;31m---------------------------------------------------------------------------\u001b[0m",
      "\u001b[0;31mKeyboardInterrupt\u001b[0m                         Traceback (most recent call last)",
      "\u001b[0;32m/tmp/ipykernel_306573/1652984704.py\u001b[0m in \u001b[0;36m<module>\u001b[0;34m\u001b[0m\n\u001b[1;32m      1\u001b[0m \u001b[0;32mfor\u001b[0m \u001b[0mi\u001b[0m \u001b[0;32min\u001b[0m \u001b[0mrange\u001b[0m\u001b[0;34m(\u001b[0m\u001b[0;36m10000000000\u001b[0m\u001b[0;34m)\u001b[0m\u001b[0;34m:\u001b[0m\u001b[0;34m\u001b[0m\u001b[0;34m\u001b[0m\u001b[0m\n\u001b[1;32m      2\u001b[0m \u001b[0;34m\u001b[0m\u001b[0m\n\u001b[0;32m----> 3\u001b[0;31m     \u001b[0;32mfor\u001b[0m \u001b[0mj\u001b[0m \u001b[0;32min\u001b[0m \u001b[0mrange\u001b[0m\u001b[0;34m(\u001b[0m\u001b[0;36m100\u001b[0m\u001b[0;34m)\u001b[0m\u001b[0;34m:\u001b[0m\u001b[0;34m\u001b[0m\u001b[0;34m\u001b[0m\u001b[0m\n\u001b[0m\u001b[1;32m      4\u001b[0m         \u001b[0;32mbreak\u001b[0m\u001b[0;34m\u001b[0m\u001b[0;34m\u001b[0m\u001b[0m\n\u001b[1;32m      5\u001b[0m \u001b[0;34m\u001b[0m\u001b[0m\n",
      "\u001b[0;31mKeyboardInterrupt\u001b[0m: "
     ]
    }
   ],
   "source": [
    "for i in range(10000000000):\n",
    "    \n",
    "    for j in range(100):\n",
    "        break\n",
    "        "
   ]
  },
  {
   "cell_type": "code",
   "execution_count": null,
   "id": "06fc3caa",
   "metadata": {},
   "outputs": [],
   "source": []
  }
 ],
 "metadata": {
  "kernelspec": {
   "display_name": "Python 3 (ipykernel)",
   "language": "python",
   "name": "python3"
  },
  "language_info": {
   "codemirror_mode": {
    "name": "ipython",
    "version": 3
   },
   "file_extension": ".py",
   "mimetype": "text/x-python",
   "name": "python",
   "nbconvert_exporter": "python",
   "pygments_lexer": "ipython3",
   "version": "3.8.3"
  }
 },
 "nbformat": 4,
 "nbformat_minor": 5
}
